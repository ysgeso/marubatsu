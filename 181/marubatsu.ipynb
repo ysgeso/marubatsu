{
 "cells": [
  {
   "cell_type": "code",
   "execution_count": 1,
   "metadata": {},
   "outputs": [
    {
     "name": "stdout",
     "output_type": "stream",
     "text": [
      "move: (0, 0)\n",
      "count = 59705\n",
      "move: (1, 0)\n",
      "count = 63905\n",
      "move: (2, 0)\n",
      "count = 59705\n",
      "move: (0, 1)\n",
      "count = 63905\n",
      "move: (1, 1)\n",
      "count = 55505\n",
      "move: (2, 1)\n",
      "count = 63905\n",
      "move: (0, 2)\n",
      "count = 59705\n",
      "move: (1, 2)\n",
      "count = 63905\n",
      "move: (2, 2)\n",
      "count = 59705\n"
     ]
    }
   ],
   "source": [
    "from marubatsu import Marubatsu\n",
    "from ai import ai_mmdfs_all\n",
    "from copy import deepcopy\n",
    "\n",
    "mborig = Marubatsu()\n",
    "for x, y in mborig.calc_legal_moves():\n",
    "    mb = deepcopy(mborig)\n",
    "    mb.move(x, y)\n",
    "    print(f\"move: ({x}, {y})\")\n",
    "    ai_mmdfs_all(mb, debug=True, calc_score=True)"
   ]
  },
  {
   "cell_type": "code",
   "execution_count": 2,
   "metadata": {},
   "outputs": [
    {
     "name": "stdout",
     "output_type": "stream",
     "text": [
      "1.0005824565887451\n",
      "1.0006438996642828\n"
     ]
    }
   ],
   "source": [
    "from time import time, perf_counter, sleep\n",
    "\n",
    "starttime = time()\n",
    "sleep(1)\n",
    "endtime = time()\n",
    "print(endtime - starttime)\n",
    "\n",
    "starttime = perf_counter()\n",
    "sleep(1)\n",
    "endtime = perf_counter()\n",
    "print(endtime - starttime)"
   ]
  },
  {
   "cell_type": "code",
   "execution_count": 3,
   "metadata": {},
   "outputs": [
    {
     "name": "stdout",
     "output_type": "stream",
     "text": [
      "move: (0, 0)\n",
      "count = 59705\n",
      "time: 3.02 ms\n",
      "move: (1, 0)\n",
      "count = 63905\n",
      "time: 3.15 ms\n",
      "move: (2, 0)\n",
      "count = 59705\n",
      "time: 2.94 ms\n",
      "move: (0, 1)\n",
      "count = 63905\n",
      "time: 3.21 ms\n",
      "move: (1, 1)\n",
      "count = 55505\n",
      "time: 2.63 ms\n",
      "move: (2, 1)\n",
      "count = 63905\n",
      "time: 3.14 ms\n",
      "move: (0, 2)\n",
      "count = 59705\n",
      "time: 2.85 ms\n",
      "move: (1, 2)\n",
      "count = 63905\n",
      "time: 3.11 ms\n",
      "move: (2, 2)\n",
      "count = 59705\n",
      "time: 2.93 ms\n"
     ]
    }
   ],
   "source": [
    "for x, y in mborig.calc_legal_moves():\n",
    "    mb = deepcopy(mborig)\n",
    "    mb.move(x, y)\n",
    "    print(f\"move: ({x}, {y})\")\n",
    "    starttime = perf_counter()\n",
    "    ai_mmdfs_all(mb, debug=True, calc_score=True)\n",
    "    endtime = perf_counter()\n",
    "    print(f\"time: {endtime - starttime:4.2f} ms\")\n"
   ]
  },
  {
   "cell_type": "code",
   "execution_count": null,
   "metadata": {},
   "outputs": [],
   "source": [
    "from ai import dprint, ai_abs_dls\n",
    "import random\n",
    "\n",
    "def ai_ab_iddfs(mb, debug=False, timelimit=10, eval_func=None, eval_params={},\n",
    "               use_tt=False, share_tt=False, analyze=False):\n",
    "    starttime = perf_counter()\n",
    "    timelimit_pc = starttime + timelimit\n",
    "    bestmove = random.choice(mb.calc_legal_moves())\n",
    "    for maxdepth in range(9 - mb.move_count):\n",
    "        if perf_counter() >= timelimit_pc:\n",
    "            break\n",
    "        result = ai_abs_dls(mb, maxdepth=maxdepth, eval_func=eval_func, eval_params=eval_params,\n",
    "                            use_tt=use_tt, share_tt=share_tt, analyze=analyze)\n",
    "        if analyze:\n",
    "            candidate = result[\"candidate\"]\n",
    "            bestmove = random.choice(candidate)\n",
    "            dprint(debug, f\"maxdepth: {maxdepth}, time: {perf_counter() - starttime:6.2f} ms, bestmove: {bestmove}, candidate: {candidate}\")\n",
    "        else:\n",
    "            bestmove = result\n",
    "            dprint(debug, f\"maxdepth: {maxdepth}, time: {perf_counter() - starttime:6.2f} ms, bestmove: {bestmove}\")\n",
    "    dprint(debug, f\"totaltime: {perf_counter() - starttime: 6.2f} ms\")\n",
    "    return bestmove\n"
   ]
  },
  {
   "cell_type": "code",
   "execution_count": 5,
   "metadata": {},
   "outputs": [
    {
     "name": "stdout",
     "output_type": "stream",
     "text": [
      "maxdepth: 0, time:   0.00 ms, bestmove: (1, 1)\n",
      "maxdepth: 1, time:   0.03 ms, bestmove: (1, 1)\n",
      "maxdepth: 2, time:   0.07 ms, bestmove: (1, 1)\n",
      "maxdepth: 3, time:   0.15 ms, bestmove: (1, 1)\n",
      "maxdepth: 4, time:   0.48 ms, bestmove: (1, 1)\n",
      "maxdepth: 5, time:   1.26 ms, bestmove: (1, 1)\n",
      "maxdepth: 6, time:   2.57 ms, bestmove: (1, 1)\n",
      "maxdepth: 7, time:   4.06 ms, bestmove: (1, 2)\n",
      "maxdepth: 8, time:   5.68 ms, bestmove: (0, 1)\n",
      "totaltime:   5.68 ms\n",
      "(0, 1)\n"
     ]
    }
   ],
   "source": [
    "from ai import ai14s\n",
    "\n",
    "eval_params= {\"minimax\": True}\n",
    "mb = Marubatsu()\n",
    "print(ai_ab_iddfs(mb, timelimit=10, debug=True, eval_func=ai14s,\n",
    "                  eval_params=eval_params, analyze=False))\n"
   ]
  },
  {
   "cell_type": "code",
   "execution_count": 6,
   "metadata": {},
   "outputs": [
    {
     "name": "stdout",
     "output_type": "stream",
     "text": [
      "maxdepth: 0, time:   0.00 ms, bestmove: (1, 1)\n",
      "maxdepth: 1, time:   0.01 ms, bestmove: (1, 1)\n",
      "maxdepth: 2, time:   0.07 ms, bestmove: (1, 1)\n",
      "maxdepth: 3, time:   0.21 ms, bestmove: (1, 1)\n",
      "maxdepth: 4, time:   0.48 ms, bestmove: (1, 1)\n",
      "maxdepth: 5, time:   1.22 ms, bestmove: (1, 1)\n",
      "maxdepth: 6, time:   2.61 ms, bestmove: (1, 1)\n",
      "totaltime:   2.61 ms\n",
      "(1, 1)\n"
     ]
    }
   ],
   "source": [
    "print(ai_ab_iddfs(mb, timelimit=2, debug=True, eval_func=ai14s, \n",
    "                  eval_params=eval_params, analyze=False))"
   ]
  },
  {
   "cell_type": "code",
   "execution_count": 7,
   "metadata": {},
   "outputs": [
    {
     "name": "stdout",
     "output_type": "stream",
     "text": [
      "maxdepth: 0, time:   0.00 ms, bestmove: (1, 1), candidate: [(1, 1)]\n",
      "maxdepth: 1, time:   0.02 ms, bestmove: (1, 1), candidate: [(1, 1)]\n",
      "maxdepth: 2, time:   0.05 ms, bestmove: (1, 1), candidate: [(1, 1)]\n",
      "maxdepth: 3, time:   0.13 ms, bestmove: (1, 1), candidate: [(1, 1)]\n",
      "maxdepth: 4, time:   0.39 ms, bestmove: (1, 1), candidate: [(1, 1)]\n",
      "maxdepth: 5, time:   1.22 ms, bestmove: (1, 1), candidate: [(1, 1)]\n",
      "maxdepth: 6, time:   2.60 ms, bestmove: (1, 1), candidate: [(1, 1)]\n",
      "maxdepth: 7, time:   4.15 ms, bestmove: (2, 1), candidate: [(0, 0), (1, 0), (2, 0), (0, 1), (1, 1), (2, 1), (0, 2), (1, 2), (2, 2)]\n",
      "maxdepth: 8, time:   5.75 ms, bestmove: (0, 1), candidate: [(0, 0), (1, 0), (2, 0), (0, 1), (1, 1), (2, 1), (0, 2), (1, 2), (2, 2)]\n",
      "totaltime:   5.75 ms\n",
      "(0, 1)\n"
     ]
    }
   ],
   "source": [
    "print(ai_ab_iddfs(mb, timelimit=10, debug=True, eval_func=ai14s,\n",
    "      eval_params=eval_params, analyze=True))"
   ]
  },
  {
   "cell_type": "code",
   "execution_count": 8,
   "metadata": {},
   "outputs": [
    {
     "name": "stdout",
     "output_type": "stream",
     "text": [
      "maxdepth: 0, time:   0.00 ms, bestmove: (1, 1)\n",
      "maxdepth: 1, time:   0.02 ms, bestmove: (1, 1)\n",
      "maxdepth: 2, time:   0.07 ms, bestmove: (1, 1)\n",
      "maxdepth: 3, time:   0.15 ms, bestmove: (1, 1)\n",
      "maxdepth: 4, time:   0.31 ms, bestmove: (1, 1)\n",
      "maxdepth: 5, time:   0.62 ms, bestmove: (1, 1)\n",
      "maxdepth: 6, time:   1.05 ms, bestmove: (1, 1)\n",
      "maxdepth: 7, time:   1.47 ms, bestmove: (1, 2)\n",
      "maxdepth: 8, time:   1.91 ms, bestmove: (0, 2)\n",
      "totaltime:   1.91 ms\n",
      "(0, 2)\n"
     ]
    }
   ],
   "source": [
    "print(ai_ab_iddfs(mb, timelimit=10, debug=True, eval_func=ai14s,\n",
    "                  eval_params=eval_params, use_tt=True))"
   ]
  },
  {
   "cell_type": "code",
   "execution_count": 9,
   "metadata": {},
   "outputs": [
    {
     "name": "stdout",
     "output_type": "stream",
     "text": [
      "maxdepth: 0, time:   0.00 ms, bestmove: (1, 1)\n",
      "maxdepth: 1, time:   0.00 ms, bestmove: (1, 1)\n",
      "maxdepth: 2, time:   0.01 ms, bestmove: (1, 1)\n",
      "maxdepth: 3, time:   0.02 ms, bestmove: (1, 1)\n",
      "maxdepth: 4, time:   0.05 ms, bestmove: (1, 1)\n",
      "maxdepth: 5, time:   0.11 ms, bestmove: (1, 1)\n",
      "maxdepth: 6, time:   0.18 ms, bestmove: (1, 1)\n",
      "maxdepth: 7, time:   0.25 ms, bestmove: (1, 2)\n",
      "maxdepth: 8, time:   0.31 ms, bestmove: (0, 1)\n",
      "totaltime:   0.31 ms\n",
      "(0, 1)\n"
     ]
    }
   ],
   "source": [
    "print(ai_ab_iddfs(mb, timelimit=10, debug=True, eval_func=ai14s,\n",
    "                  eval_params=eval_params, use_tt=True, share_tt=True))"
   ]
  },
  {
   "cell_type": "code",
   "execution_count": 10,
   "metadata": {},
   "outputs": [],
   "source": [
    "from ai import ai_by_mmscore\n",
    "\n",
    "@ai_by_mmscore\n",
    "def ai_abs_dls(mb, debug=False, timelimit_pc=None, maxdepth=1, eval_func=None,\n",
    "               eval_params={}, use_tt=False, tt=None, calc_count=False):           \n",
    "    count = 0\n",
    "    def ab_search(mborig, depth, tt, alpha=float(\"-inf\"), beta=float(\"inf\")):\n",
    "        nonlocal count\n",
    "\n",
    "        if timelimit_pc is not None and perf_counter() >= timelimit_pc:\n",
    "            return None       \n",
    "        count += 1\n",
    "        if mborig.status != Marubatsu.PLAYING or depth == maxdepth:\n",
    "            return eval_func(mborig, calc_score=True, **eval_params)\n",
    "        \n",
    "        if use_tt:\n",
    "            boardtxt = mborig.board_to_str()\n",
    "            if boardtxt in tt:\n",
    "                lower_bound, upper_bound = tt[boardtxt]\n",
    "                if lower_bound == upper_bound:\n",
    "                    return lower_bound\n",
    "                elif upper_bound <= alpha:\n",
    "                    return upper_bound\n",
    "                elif beta <= lower_bound:\n",
    "                    return lower_bound\n",
    "                else:\n",
    "                    alpha = max(alpha, lower_bound)\n",
    "                    beta = min(beta, upper_bound)\n",
    "            else:\n",
    "                lower_bound = min_score\n",
    "                upper_bound = max_score\n",
    "        \n",
    "        alphaorig = alpha\n",
    "        betaorig = beta\n",
    "\n",
    "        legal_moves = mborig.calc_legal_moves()\n",
    "        if mborig.turn == Marubatsu.CIRCLE:\n",
    "            score = float(\"-inf\")\n",
    "            for x, y in legal_moves:\n",
    "                mb = deepcopy(mborig)\n",
    "                mb.move(x, y)\n",
    "                abscore = ab_search(mb, depth + 1, tt, alpha, beta)\n",
    "                if abscore is None:\n",
    "                    return None\n",
    "                score = max(score, abscore)\n",
    "                if score >= beta:\n",
    "                    break\n",
    "                alpha = max(alpha, score)\n",
    "        else:\n",
    "            score = float(\"inf\")\n",
    "            for x, y in legal_moves:\n",
    "                mb = deepcopy(mborig)\n",
    "                mb.move(x, y)\n",
    "                abscore = ab_search(mb, depth + 1, tt, alpha, beta)\n",
    "                if abscore is None:\n",
    "                    return None\n",
    "                score = min(score, abscore)\n",
    "                if score <= alpha:\n",
    "                    break\n",
    "                beta = min(beta, score)   \n",
    "            \n",
    "        from util import calc_same_boardtexts\n",
    "\n",
    "        if use_tt:\n",
    "            boardtxtlist = calc_same_boardtexts(mborig)\n",
    "            if score <= alphaorig:\n",
    "                upper_bound = score\n",
    "            elif score < betaorig:\n",
    "                lower_bound = score\n",
    "                upper_bound = score\n",
    "            else:\n",
    "                lower_bound = score\n",
    "            for boardtxt in boardtxtlist:\n",
    "                tt[boardtxt] = (lower_bound, upper_bound)\n",
    "        return score\n",
    "                \n",
    "    min_score = float(\"-inf\")\n",
    "    max_score = float(\"inf\")\n",
    "    \n",
    "    if tt is None:\n",
    "        tt = {}\n",
    "    score = ab_search(mb, depth=0, tt=tt, alpha=min_score, beta=max_score)\n",
    "    dprint(debug, \"count =\", count)\n",
    "    if calc_count:\n",
    "        return count\n",
    "    return score"
   ]
  },
  {
   "cell_type": "code",
   "execution_count": 11,
   "metadata": {},
   "outputs": [
    {
     "name": "stdout",
     "output_type": "stream",
     "text": [
      "0.0\n",
      "0.9793322999030352\n"
     ]
    }
   ],
   "source": [
    "starttime = perf_counter()\n",
    "print(ai_abs_dls(mb, maxdepth=9, eval_func=ai14s, eval_params=eval_params, calc_score=True))\n",
    "print(perf_counter() - starttime)"
   ]
  },
  {
   "cell_type": "code",
   "execution_count": null,
   "metadata": {},
   "outputs": [
    {
     "name": "stdout",
     "output_type": "stream",
     "text": [
      "None\n",
      "0.5002430994063616\n"
     ]
    }
   ],
   "source": [
    "starttime = perf_counter()\n",
    "print(ai_abs_dls(mb, maxdepth=9, timelimit_pc=starttime + 0.5, eval_func=ai14s, \n",
    "                 eval_params=eval_params, calc_score=True))\n",
    "print(perf_counter() - starttime)"
   ]
  },
  {
   "cell_type": "code",
   "execution_count": 13,
   "metadata": {},
   "outputs": [
    {
     "ename": "IndexError",
     "evalue": "list index out of range",
     "output_type": "error",
     "traceback": [
      "\u001b[1;31m---------------------------------------------------------------------------\u001b[0m",
      "\u001b[1;31mIndexError\u001b[0m                                Traceback (most recent call last)",
      "Cell \u001b[1;32mIn[13], line 2\u001b[0m\n\u001b[0;32m      1\u001b[0m a \u001b[38;5;241m=\u001b[39m []\n\u001b[1;32m----> 2\u001b[0m \u001b[38;5;28mprint\u001b[39m(a[\u001b[38;5;241m10\u001b[39m])\n",
      "\u001b[1;31mIndexError\u001b[0m: list index out of range"
     ]
    }
   ],
   "source": [
    "a = []\n",
    "print(a[10])"
   ]
  },
  {
   "cell_type": "code",
   "execution_count": 14,
   "metadata": {},
   "outputs": [
    {
     "ename": "IndexError",
     "evalue": "人為的に発生させたエラー",
     "output_type": "error",
     "traceback": [
      "\u001b[1;31m---------------------------------------------------------------------------\u001b[0m",
      "\u001b[1;31mIndexError\u001b[0m                                Traceback (most recent call last)",
      "Cell \u001b[1;32mIn[14], line 1\u001b[0m\n\u001b[1;32m----> 1\u001b[0m \u001b[38;5;28;01mraise\u001b[39;00m \u001b[38;5;167;01mIndexError\u001b[39;00m(\u001b[38;5;124m\"\u001b[39m\u001b[38;5;124m人為的に発生させたエラー\u001b[39m\u001b[38;5;124m\"\u001b[39m)\n",
      "\u001b[1;31mIndexError\u001b[0m: 人為的に発生させたエラー"
     ]
    }
   ],
   "source": [
    "raise IndexError(\"人為的に発生させたエラー\")"
   ]
  },
  {
   "cell_type": "code",
   "execution_count": 15,
   "metadata": {},
   "outputs": [],
   "source": [
    "@ai_by_mmscore\n",
    "def ai_abs_dls(mb, debug=False, timelimit_pc=None, maxdepth=1, eval_func=None,\n",
    "               eval_params={}, use_tt=False, tt=None, calc_count=False):           \n",
    "    count = 0\n",
    "    def ab_search(mborig, depth, tt, alpha=float(\"-inf\"), beta=float(\"inf\")):\n",
    "        nonlocal count\n",
    "        if timelimit_pc is not None and perf_counter() >= timelimit_pc:\n",
    "            raise RuntimeError(\"time out\")\n",
    "        \n",
    "        count += 1\n",
    "        if mborig.status != Marubatsu.PLAYING or depth == maxdepth:\n",
    "            return eval_func(mborig, calc_score=True, **eval_params)\n",
    "        \n",
    "        if use_tt:\n",
    "            boardtxt = mborig.board_to_str()\n",
    "            if boardtxt in tt:\n",
    "                lower_bound, upper_bound = tt[boardtxt]\n",
    "                if lower_bound == upper_bound:\n",
    "                    return lower_bound\n",
    "                elif upper_bound <= alpha:\n",
    "                    return upper_bound\n",
    "                elif beta <= lower_bound:\n",
    "                    return lower_bound\n",
    "                else:\n",
    "                    alpha = max(alpha, lower_bound)\n",
    "                    beta = min(beta, upper_bound)\n",
    "            else:\n",
    "                lower_bound = min_score\n",
    "                upper_bound = max_score\n",
    "        \n",
    "        alphaorig = alpha\n",
    "        betaorig = beta\n",
    "\n",
    "        legal_moves = mborig.calc_legal_moves()\n",
    "        if mborig.turn == Marubatsu.CIRCLE:\n",
    "            score = float(\"-inf\")\n",
    "            for x, y in legal_moves:\n",
    "                mb = deepcopy(mborig)\n",
    "                mb.move(x, y)\n",
    "                score = max(score, ab_search(mb, depth + 1, tt, alpha, beta))\n",
    "                if score >= beta:\n",
    "                    break\n",
    "                alpha = max(alpha, score)\n",
    "        else:\n",
    "            score = float(\"inf\")\n",
    "            for x, y in legal_moves:\n",
    "                mb = deepcopy(mborig)\n",
    "                mb.move(x, y)\n",
    "                score = min(score, ab_search(mb, depth + 1, tt, alpha, beta))\n",
    "                if score <= alpha:\n",
    "                    break\n",
    "                beta = min(beta, score)   \n",
    "            \n",
    "        from util import calc_same_boardtexts\n",
    "\n",
    "        if use_tt:\n",
    "            boardtxtlist = calc_same_boardtexts(mborig)\n",
    "            if score <= alphaorig:\n",
    "                upper_bound = score\n",
    "            elif score < betaorig:\n",
    "                lower_bound = score\n",
    "                upper_bound = score\n",
    "            else:\n",
    "                lower_bound = score\n",
    "            for boardtxt in boardtxtlist:\n",
    "                tt[boardtxt] = (lower_bound, upper_bound)\n",
    "        return score\n",
    "                \n",
    "    min_score = float(\"-inf\")\n",
    "    max_score = float(\"inf\")\n",
    "    \n",
    "    if tt is None:\n",
    "        tt = {}\n",
    "    score = ab_search(mb, depth=0, tt=tt, alpha=min_score, beta=max_score)\n",
    "    dprint(debug, \"count =\", count)\n",
    "    if calc_count:\n",
    "        return count\n",
    "    return score"
   ]
  },
  {
   "cell_type": "code",
   "execution_count": 16,
   "metadata": {},
   "outputs": [
    {
     "name": "stdout",
     "output_type": "stream",
     "text": [
      "0.0\n",
      "1.0038612000644207\n"
     ]
    }
   ],
   "source": [
    "starttime = perf_counter()\n",
    "print(ai_abs_dls(mb, maxdepth=9, eval_func=ai14s, eval_params=eval_params, calc_score=True))\n",
    "print(perf_counter() - starttime)"
   ]
  },
  {
   "cell_type": "code",
   "execution_count": 17,
   "metadata": {},
   "outputs": [
    {
     "ename": "RuntimeError",
     "evalue": "time out",
     "output_type": "error",
     "traceback": [
      "\u001b[1;31m---------------------------------------------------------------------------\u001b[0m",
      "\u001b[1;31mRuntimeError\u001b[0m                              Traceback (most recent call last)",
      "Cell \u001b[1;32mIn[17], line 2\u001b[0m\n\u001b[0;32m      1\u001b[0m starttime \u001b[38;5;241m=\u001b[39m perf_counter()\n\u001b[1;32m----> 2\u001b[0m \u001b[38;5;28mprint\u001b[39m(ai_abs_dls(mb, maxdepth\u001b[38;5;241m=\u001b[39m\u001b[38;5;241m9\u001b[39m, timelimit_pc\u001b[38;5;241m=\u001b[39mstarttime \u001b[38;5;241m+\u001b[39m \u001b[38;5;241m0.5\u001b[39m, eval_func\u001b[38;5;241m=\u001b[39mai14s, \n\u001b[0;32m      3\u001b[0m                  eval_params\u001b[38;5;241m=\u001b[39meval_params, calc_score\u001b[38;5;241m=\u001b[39m\u001b[38;5;28;01mTrue\u001b[39;00m))\n\u001b[0;32m      4\u001b[0m \u001b[38;5;28mprint\u001b[39m(perf_counter() \u001b[38;5;241m-\u001b[39m starttime)\n",
      "File \u001b[1;32mc:\\Users\\ys\\ai\\marubatsu\\181\\ai.py:278\u001b[0m, in \u001b[0;36mai_by_mmscore.<locals>.wrapper\u001b[1;34m(mb_orig, debug, rand, share_tt, analyze, calc_score, *args, **kwargs)\u001b[0m\n\u001b[0;32m    241\u001b[0m \u001b[38;5;250m\u001b[39m\u001b[38;5;124;03m\"\"\"ミニマックス値を利用した AI のラッパー関数型.\u001b[39;00m\n\u001b[0;32m    242\u001b[0m \n\u001b[0;32m    243\u001b[0m \u001b[38;5;124;03mmb_orig の局面に対して、eval_func の評価関数を使って、評価値を利用した\u001b[39;00m\n\u001b[1;32m   (...)\u001b[0m\n\u001b[0;32m    274\u001b[0m \u001b[38;5;124;03m    候補手の一覧と、それぞれの合法手に着手した場合の評価値を表す dict\u001b[39;00m\n\u001b[0;32m    275\u001b[0m \u001b[38;5;124;03m\"\"\"\u001b[39;00m  \n\u001b[0;32m    277\u001b[0m \u001b[38;5;28;01mif\u001b[39;00m calc_score:\n\u001b[1;32m--> 278\u001b[0m     \u001b[38;5;28;01mreturn\u001b[39;00m eval_func(mb_orig, debug, \u001b[38;5;241m*\u001b[39margs, \u001b[38;5;241m*\u001b[39m\u001b[38;5;241m*\u001b[39mkwargs)\n\u001b[0;32m    280\u001b[0m dprint(debug, \u001b[38;5;124m\"\u001b[39m\u001b[38;5;124mStart ai_by_mmscore\u001b[39m\u001b[38;5;124m\"\u001b[39m)\n\u001b[0;32m    281\u001b[0m dprint(debug, mb_orig)\n",
      "Cell \u001b[1;32mIn[15], line 74\u001b[0m, in \u001b[0;36mai_abs_dls\u001b[1;34m(mb, debug, timelimit_pc, maxdepth, eval_func, eval_params, use_tt, tt, calc_count)\u001b[0m\n\u001b[0;32m     72\u001b[0m \u001b[38;5;28;01mif\u001b[39;00m tt \u001b[38;5;129;01mis\u001b[39;00m \u001b[38;5;28;01mNone\u001b[39;00m:\n\u001b[0;32m     73\u001b[0m     tt \u001b[38;5;241m=\u001b[39m {}\n\u001b[1;32m---> 74\u001b[0m score \u001b[38;5;241m=\u001b[39m ab_search(mb, depth\u001b[38;5;241m=\u001b[39m\u001b[38;5;241m0\u001b[39m, tt\u001b[38;5;241m=\u001b[39mtt, alpha\u001b[38;5;241m=\u001b[39mmin_score, beta\u001b[38;5;241m=\u001b[39mmax_score)\n\u001b[0;32m     75\u001b[0m dprint(debug, \u001b[38;5;124m\"\u001b[39m\u001b[38;5;124mcount =\u001b[39m\u001b[38;5;124m\"\u001b[39m, count)\n\u001b[0;32m     76\u001b[0m \u001b[38;5;28;01mif\u001b[39;00m calc_count:\n",
      "Cell \u001b[1;32mIn[15], line 40\u001b[0m, in \u001b[0;36mai_abs_dls.<locals>.ab_search\u001b[1;34m(mborig, depth, tt, alpha, beta)\u001b[0m\n\u001b[0;32m     38\u001b[0m mb \u001b[38;5;241m=\u001b[39m deepcopy(mborig)\n\u001b[0;32m     39\u001b[0m mb\u001b[38;5;241m.\u001b[39mmove(x, y)\n\u001b[1;32m---> 40\u001b[0m score \u001b[38;5;241m=\u001b[39m \u001b[38;5;28mmax\u001b[39m(score, ab_search(mb, depth \u001b[38;5;241m+\u001b[39m \u001b[38;5;241m1\u001b[39m, tt, alpha, beta))\n\u001b[0;32m     41\u001b[0m \u001b[38;5;28;01mif\u001b[39;00m score \u001b[38;5;241m>\u001b[39m\u001b[38;5;241m=\u001b[39m beta:\n\u001b[0;32m     42\u001b[0m     \u001b[38;5;28;01mbreak\u001b[39;00m\n",
      "Cell \u001b[1;32mIn[15], line 49\u001b[0m, in \u001b[0;36mai_abs_dls.<locals>.ab_search\u001b[1;34m(mborig, depth, tt, alpha, beta)\u001b[0m\n\u001b[0;32m     47\u001b[0m mb \u001b[38;5;241m=\u001b[39m deepcopy(mborig)\n\u001b[0;32m     48\u001b[0m mb\u001b[38;5;241m.\u001b[39mmove(x, y)\n\u001b[1;32m---> 49\u001b[0m score \u001b[38;5;241m=\u001b[39m \u001b[38;5;28mmin\u001b[39m(score, ab_search(mb, depth \u001b[38;5;241m+\u001b[39m \u001b[38;5;241m1\u001b[39m, tt, alpha, beta))\n\u001b[0;32m     50\u001b[0m \u001b[38;5;28;01mif\u001b[39;00m score \u001b[38;5;241m<\u001b[39m\u001b[38;5;241m=\u001b[39m alpha:\n\u001b[0;32m     51\u001b[0m     \u001b[38;5;28;01mbreak\u001b[39;00m\n",
      "Cell \u001b[1;32mIn[15], line 40\u001b[0m, in \u001b[0;36mai_abs_dls.<locals>.ab_search\u001b[1;34m(mborig, depth, tt, alpha, beta)\u001b[0m\n\u001b[0;32m     38\u001b[0m mb \u001b[38;5;241m=\u001b[39m deepcopy(mborig)\n\u001b[0;32m     39\u001b[0m mb\u001b[38;5;241m.\u001b[39mmove(x, y)\n\u001b[1;32m---> 40\u001b[0m score \u001b[38;5;241m=\u001b[39m \u001b[38;5;28mmax\u001b[39m(score, ab_search(mb, depth \u001b[38;5;241m+\u001b[39m \u001b[38;5;241m1\u001b[39m, tt, alpha, beta))\n\u001b[0;32m     41\u001b[0m \u001b[38;5;28;01mif\u001b[39;00m score \u001b[38;5;241m>\u001b[39m\u001b[38;5;241m=\u001b[39m beta:\n\u001b[0;32m     42\u001b[0m     \u001b[38;5;28;01mbreak\u001b[39;00m\n",
      "Cell \u001b[1;32mIn[15], line 49\u001b[0m, in \u001b[0;36mai_abs_dls.<locals>.ab_search\u001b[1;34m(mborig, depth, tt, alpha, beta)\u001b[0m\n\u001b[0;32m     47\u001b[0m mb \u001b[38;5;241m=\u001b[39m deepcopy(mborig)\n\u001b[0;32m     48\u001b[0m mb\u001b[38;5;241m.\u001b[39mmove(x, y)\n\u001b[1;32m---> 49\u001b[0m score \u001b[38;5;241m=\u001b[39m \u001b[38;5;28mmin\u001b[39m(score, ab_search(mb, depth \u001b[38;5;241m+\u001b[39m \u001b[38;5;241m1\u001b[39m, tt, alpha, beta))\n\u001b[0;32m     50\u001b[0m \u001b[38;5;28;01mif\u001b[39;00m score \u001b[38;5;241m<\u001b[39m\u001b[38;5;241m=\u001b[39m alpha:\n\u001b[0;32m     51\u001b[0m     \u001b[38;5;28;01mbreak\u001b[39;00m\n",
      "Cell \u001b[1;32mIn[15], line 40\u001b[0m, in \u001b[0;36mai_abs_dls.<locals>.ab_search\u001b[1;34m(mborig, depth, tt, alpha, beta)\u001b[0m\n\u001b[0;32m     38\u001b[0m mb \u001b[38;5;241m=\u001b[39m deepcopy(mborig)\n\u001b[0;32m     39\u001b[0m mb\u001b[38;5;241m.\u001b[39mmove(x, y)\n\u001b[1;32m---> 40\u001b[0m score \u001b[38;5;241m=\u001b[39m \u001b[38;5;28mmax\u001b[39m(score, ab_search(mb, depth \u001b[38;5;241m+\u001b[39m \u001b[38;5;241m1\u001b[39m, tt, alpha, beta))\n\u001b[0;32m     41\u001b[0m \u001b[38;5;28;01mif\u001b[39;00m score \u001b[38;5;241m>\u001b[39m\u001b[38;5;241m=\u001b[39m beta:\n\u001b[0;32m     42\u001b[0m     \u001b[38;5;28;01mbreak\u001b[39;00m\n",
      "Cell \u001b[1;32mIn[15], line 49\u001b[0m, in \u001b[0;36mai_abs_dls.<locals>.ab_search\u001b[1;34m(mborig, depth, tt, alpha, beta)\u001b[0m\n\u001b[0;32m     47\u001b[0m mb \u001b[38;5;241m=\u001b[39m deepcopy(mborig)\n\u001b[0;32m     48\u001b[0m mb\u001b[38;5;241m.\u001b[39mmove(x, y)\n\u001b[1;32m---> 49\u001b[0m score \u001b[38;5;241m=\u001b[39m \u001b[38;5;28mmin\u001b[39m(score, ab_search(mb, depth \u001b[38;5;241m+\u001b[39m \u001b[38;5;241m1\u001b[39m, tt, alpha, beta))\n\u001b[0;32m     50\u001b[0m \u001b[38;5;28;01mif\u001b[39;00m score \u001b[38;5;241m<\u001b[39m\u001b[38;5;241m=\u001b[39m alpha:\n\u001b[0;32m     51\u001b[0m     \u001b[38;5;28;01mbreak\u001b[39;00m\n",
      "Cell \u001b[1;32mIn[15], line 40\u001b[0m, in \u001b[0;36mai_abs_dls.<locals>.ab_search\u001b[1;34m(mborig, depth, tt, alpha, beta)\u001b[0m\n\u001b[0;32m     38\u001b[0m mb \u001b[38;5;241m=\u001b[39m deepcopy(mborig)\n\u001b[0;32m     39\u001b[0m mb\u001b[38;5;241m.\u001b[39mmove(x, y)\n\u001b[1;32m---> 40\u001b[0m score \u001b[38;5;241m=\u001b[39m \u001b[38;5;28mmax\u001b[39m(score, ab_search(mb, depth \u001b[38;5;241m+\u001b[39m \u001b[38;5;241m1\u001b[39m, tt, alpha, beta))\n\u001b[0;32m     41\u001b[0m \u001b[38;5;28;01mif\u001b[39;00m score \u001b[38;5;241m>\u001b[39m\u001b[38;5;241m=\u001b[39m beta:\n\u001b[0;32m     42\u001b[0m     \u001b[38;5;28;01mbreak\u001b[39;00m\n",
      "Cell \u001b[1;32mIn[15], line 8\u001b[0m, in \u001b[0;36mai_abs_dls.<locals>.ab_search\u001b[1;34m(mborig, depth, tt, alpha, beta)\u001b[0m\n\u001b[0;32m      6\u001b[0m \u001b[38;5;28;01mnonlocal\u001b[39;00m count\n\u001b[0;32m      7\u001b[0m \u001b[38;5;28;01mif\u001b[39;00m timelimit_pc \u001b[38;5;129;01mis\u001b[39;00m \u001b[38;5;129;01mnot\u001b[39;00m \u001b[38;5;28;01mNone\u001b[39;00m \u001b[38;5;129;01mand\u001b[39;00m perf_counter() \u001b[38;5;241m>\u001b[39m\u001b[38;5;241m=\u001b[39m timelimit_pc:\n\u001b[1;32m----> 8\u001b[0m     \u001b[38;5;28;01mraise\u001b[39;00m \u001b[38;5;167;01mRuntimeError\u001b[39;00m(\u001b[38;5;124m\"\u001b[39m\u001b[38;5;124mtime out\u001b[39m\u001b[38;5;124m\"\u001b[39m)\n\u001b[0;32m     10\u001b[0m count \u001b[38;5;241m+\u001b[39m\u001b[38;5;241m=\u001b[39m \u001b[38;5;241m1\u001b[39m\n\u001b[0;32m     11\u001b[0m \u001b[38;5;28;01mif\u001b[39;00m mborig\u001b[38;5;241m.\u001b[39mstatus \u001b[38;5;241m!=\u001b[39m Marubatsu\u001b[38;5;241m.\u001b[39mPLAYING \u001b[38;5;129;01mor\u001b[39;00m depth \u001b[38;5;241m==\u001b[39m maxdepth:\n",
      "\u001b[1;31mRuntimeError\u001b[0m: time out"
     ]
    }
   ],
   "source": [
    "starttime = perf_counter()\n",
    "print(ai_abs_dls(mb, maxdepth=9, timelimit_pc=starttime + 0.5, eval_func=ai14s, \n",
    "                 eval_params=eval_params, calc_score=True))\n",
    "print(perf_counter() - starttime)"
   ]
  },
  {
   "cell_type": "code",
   "execution_count": 26,
   "metadata": {},
   "outputs": [],
   "source": [
    "def ai_ab_iddfs(mb, debug=False, timelimit=10, eval_func=None, eval_params={}, use_tt=False, share_tt=False, analyze=False):\n",
    "    starttime = perf_counter()\n",
    "    timelimit_pc = starttime + timelimit\n",
    "    bestmove = random.choice(mb.calc_legal_moves())\n",
    "    for maxdepth in range(9 - mb.move_count):\n",
    "        try:\n",
    "            result = ai_abs_dls(mb, maxdepth=maxdepth, timelimit_pc=timelimit_pc,\n",
    "                                eval_func=eval_func, eval_params=eval_params,\n",
    "                                use_tt=use_tt, share_tt=share_tt, analyze=analyze)\n",
    "        except RuntimeError:\n",
    "            dprint(debug, \"time out\")\n",
    "            break\n",
    "\n",
    "        if analyze:\n",
    "            candidate = result[\"candidate\"]\n",
    "            bestmove = random.choice(candidate)\n",
    "            dprint(debug, f\"maxdepth: {maxdepth}, time: {perf_counter() - starttime:6.2f} ms, bestmove: {bestmove}, candidate: {candidate}\")\n",
    "        else:\n",
    "            bestmove = result\n",
    "            dprint(debug, f\"maxdepth: {maxdepth}, time: {perf_counter() - starttime:6.2f} ms, bestmove: {bestmove}\")\n",
    "    dprint(debug, f\"totaltime: {perf_counter() - starttime: 6.2f} ms\")\n",
    "    return bestmove"
   ]
  },
  {
   "cell_type": "code",
   "execution_count": 27,
   "metadata": {},
   "outputs": [
    {
     "name": "stdout",
     "output_type": "stream",
     "text": [
      "maxdepth: 0, time:   0.00 ms, bestmove: (1, 1)\n",
      "maxdepth: 1, time:   0.01 ms, bestmove: (1, 1)\n",
      "maxdepth: 2, time:   0.05 ms, bestmove: (1, 1)\n",
      "maxdepth: 3, time:   0.18 ms, bestmove: (1, 1)\n",
      "maxdepth: 4, time:   0.44 ms, bestmove: (1, 1)\n",
      "maxdepth: 5, time:   1.24 ms, bestmove: (1, 1)\n",
      "maxdepth: 6, time:   2.69 ms, bestmove: (1, 1)\n",
      "maxdepth: 7, time:   4.23 ms, bestmove: (2, 2)\n",
      "maxdepth: 8, time:   5.83 ms, bestmove: (2, 2)\n",
      "totaltime:   5.83 ms\n",
      "(2, 2)\n"
     ]
    }
   ],
   "source": [
    "print(ai_ab_iddfs(mb, timelimit=10, debug=True, eval_func=ai14s,\n",
    "                  eval_params=eval_params, analyze=False))"
   ]
  },
  {
   "cell_type": "code",
   "execution_count": 28,
   "metadata": {},
   "outputs": [
    {
     "name": "stdout",
     "output_type": "stream",
     "text": [
      "maxdepth: 0, time:   0.00 ms, bestmove: (1, 1)\n",
      "maxdepth: 1, time:   0.02 ms, bestmove: (1, 1)\n",
      "maxdepth: 2, time:   0.07 ms, bestmove: (1, 1)\n",
      "maxdepth: 3, time:   0.15 ms, bestmove: (1, 1)\n",
      "maxdepth: 4, time:   0.41 ms, bestmove: (1, 1)\n",
      "maxdepth: 5, time:   1.18 ms, bestmove: (1, 1)\n",
      "maxdepth: 6, time:   2.56 ms, bestmove: (1, 1)\n",
      "time out\n",
      "totaltime:   3.00 ms\n",
      "(1, 1)\n"
     ]
    }
   ],
   "source": [
    "print(ai_ab_iddfs(mb, timelimit=3, debug=True, eval_func=ai14s,\n",
    "                  eval_params=eval_params, analyze=False))"
   ]
  }
 ],
 "metadata": {
  "kernelspec": {
   "display_name": "marubatsu",
   "language": "python",
   "name": "python3"
  },
  "language_info": {
   "codemirror_mode": {
    "name": "ipython",
    "version": 3
   },
   "file_extension": ".py",
   "mimetype": "text/x-python",
   "name": "python",
   "nbconvert_exporter": "python",
   "pygments_lexer": "ipython3",
   "version": "3.11.4"
  }
 },
 "nbformat": 4,
 "nbformat_minor": 2
}
