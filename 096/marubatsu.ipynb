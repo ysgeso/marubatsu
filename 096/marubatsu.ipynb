{
 "cells": [
  {
   "cell_type": "code",
   "execution_count": 1,
   "metadata": {},
   "outputs": [
    {
     "data": {
      "application/vnd.jupyter.widget-view+json": {
       "model_id": "059b3873dbca47d685806e291c12b672",
       "version_major": 2,
       "version_minor": 0
      },
      "text/plain": [
       "Label(value='ラベル')"
      ]
     },
     "metadata": {},
     "output_type": "display_data"
    }
   ],
   "source": [
    "import ipywidgets as widgets\n",
    "\n",
    "label = widgets.Label(value=\"ラベル\")\n",
    "display(label)"
   ]
  },
  {
   "cell_type": "code",
   "execution_count": 2,
   "metadata": {},
   "outputs": [],
   "source": [
    "from tree import Mbtree_GUI\n",
    "import matplotlib.pyplot as plt\n",
    "\n",
    "def create_widgets(self):\n",
    "    self.left_button = self.create_button(\"←\", 50)\n",
    "    self.up_button = self.create_button(\"↑\", 50)\n",
    "    self.right_button = self.create_button(\"→\", 50)\n",
    "    self.down_button = self.create_button(\"↓\", 50)\n",
    "    self.label = widgets.Label(value=\"\", layout=widgets.Layout(width=f\"50px\"))\n",
    "    \n",
    "    with plt.ioff():\n",
    "        self.fig = plt.figure(figsize=[self.width * self.size,\n",
    "                                        self.height * self.size])\n",
    "        self.ax = self.fig.add_axes([0, 0, 1, 1])\n",
    "    self.fig.canvas.toolbar_visible = False\n",
    "    self.fig.canvas.header_visible = False\n",
    "    self.fig.canvas.footer_visible = False\n",
    "    self.fig.canvas.resizable = False   \n",
    "    \n",
    "Mbtree_GUI.create_widgets = create_widgets"
   ]
  },
  {
   "cell_type": "code",
   "execution_count": 3,
   "metadata": {},
   "outputs": [],
   "source": [
    "def display_widgets(self):   \n",
    "    hbox1 = widgets.HBox([self.label, self.up_button, self.label])\n",
    "    hbox2 = widgets.HBox([self.left_button, self.label, self.right_button])\n",
    "    hbox3 = widgets.HBox([self.label, self.down_button, self.label])\n",
    "    display(widgets.VBox([hbox1, hbox2, hbox3, self.fig.canvas]))  \n",
    "    \n",
    "Mbtree_GUI.display_widgets = display_widgets"
   ]
  },
  {
   "cell_type": "code",
   "execution_count": 4,
   "metadata": {},
   "outputs": [
    {
     "name": "stdout",
     "output_type": "stream",
     "text": [
      "     9 depth 1 node created\n",
      "    72 depth 2 node created\n",
      "   504 depth 3 node created\n",
      "  3024 depth 4 node created\n",
      " 15120 depth 5 node created\n",
      " 54720 depth 6 node created\n",
      "148176 depth 7 node created\n",
      "200448 depth 8 node created\n",
      "127872 depth 9 node created\n",
      "     0 depth 10 node created\n",
      "total node num = 549946\n"
     ]
    },
    {
     "data": {
      "application/vnd.jupyter.widget-view+json": {
       "model_id": "65b38f8ce14349ceb9c8c242a6a3976c",
       "version_major": 2,
       "version_minor": 0
      },
      "text/plain": [
       "VBox(children=(HBox(children=(Label(value='', layout=Layout(width='50px')), Button(description='↑', layout=Lay…"
      ]
     },
     "metadata": {},
     "output_type": "display_data"
    }
   ],
   "source": [
    "from tree import Mbtree\n",
    "\n",
    "mbtree = Mbtree()\n",
    "mbtree_gui = Mbtree_GUI(mbtree)"
   ]
  },
  {
   "cell_type": "code",
   "execution_count": 5,
   "metadata": {},
   "outputs": [],
   "source": [
    "from tree import Node\n",
    "\n",
    "def __init__(self, mb, parent=None, depth=0):\n",
    "    self.mb = mb\n",
    "    self.parent = parent\n",
    "    self.depth = depth\n",
    "    self.children = []\n",
    "    self.children_by_move = {}\n",
    "    \n",
    "Node.__init__ = __init__"
   ]
  },
  {
   "cell_type": "code",
   "execution_count": 6,
   "metadata": {},
   "outputs": [],
   "source": [
    "def insert(self, node):\n",
    "    self.children.append(node)\n",
    "    self.children_by_move[node.mb.last_move] = node\n",
    "\n",
    "Node.insert = insert"
   ]
  },
  {
   "cell_type": "code",
   "execution_count": 7,
   "metadata": {},
   "outputs": [
    {
     "name": "stdout",
     "output_type": "stream",
     "text": [
      "(0, 0)\n"
     ]
    }
   ],
   "source": [
    "print(mbtree.nodelist_by_depth[1][0].mb.last_move)"
   ]
  },
  {
   "cell_type": "code",
   "execution_count": 8,
   "metadata": {},
   "outputs": [
    {
     "name": "stdout",
     "output_type": "stream",
     "text": [
      "     9 depth 1 node created\n",
      "    72 depth 2 node created\n",
      "   504 depth 3 node created\n",
      "  3024 depth 4 node created\n",
      " 15120 depth 5 node created\n",
      " 54720 depth 6 node created\n",
      "148176 depth 7 node created\n",
      "200448 depth 8 node created\n",
      "127872 depth 9 node created\n",
      "     0 depth 10 node created\n",
      "total node num = 549946\n",
      "{(0, 0): <tree.Node object at 0x00000183CC6D6050>,\n",
      " (0, 1): <tree.Node object at 0x00000183F42467D0>,\n",
      " (0, 2): <tree.Node object at 0x00000183F4267350>,\n",
      " (1, 0): <tree.Node object at 0x00000183F41B9E90>,\n",
      " (1, 1): <tree.Node object at 0x00000183F4266DD0>,\n",
      " (1, 2): <tree.Node object at 0x00000183F4267610>,\n",
      " (2, 0): <tree.Node object at 0x00000183F41AFC50>,\n",
      " (2, 1): <tree.Node object at 0x00000183F4267090>,\n",
      " (2, 2): <tree.Node object at 0x00000183F42678D0>}\n"
     ]
    }
   ],
   "source": [
    "from pprint import pprint\n",
    "\n",
    "mbtree = Mbtree()\n",
    "pprint(mbtree.root.children_by_move)"
   ]
  },
  {
   "cell_type": "code",
   "execution_count": 9,
   "metadata": {},
   "outputs": [],
   "source": [
    "def create_event_handler(self):\n",
    "    def on_left_button_clicked(b=None):\n",
    "        if self.centernode.parent is not None:\n",
    "            self.centernode = self.centernode.parent\n",
    "            self.update_gui()\n",
    "            \n",
    "    def on_right_button_clicked(b=None):\n",
    "        if self.centernode.depth < 6 and len(self.centernode.children) > 0:\n",
    "            self.centernode = self.centernode.children[0]\n",
    "            self.update_gui()\n",
    "\n",
    "    def on_up_button_clicked(b=None):\n",
    "        if self.centernode.parent is not None:\n",
    "            index = self.centernode.parent.children.index(self.centernode)\n",
    "            if index > 0:\n",
    "                self.centernode = self.centernode.parent.children[index - 1]\n",
    "                self.update_gui()\n",
    "            \n",
    "    def on_down_button_clicked(b=None):\n",
    "        if self.centernode.parent is not None:\n",
    "            index = self.centernode.parent.children.index(self.centernode)\n",
    "            if self.centernode.parent.children[-1] is not self.centernode:\n",
    "                self.centernode = self.centernode.parent.children[index + 1]\n",
    "                self.update_gui()            \n",
    "            \n",
    "    self.left_button.on_click(on_left_button_clicked)\n",
    "    self.right_button.on_click(on_right_button_clicked)\n",
    "    self.up_button.on_click(on_up_button_clicked)\n",
    "    self.down_button.on_click(on_down_button_clicked)\n",
    "\n",
    "    def on_key_press(event):\n",
    "        keymap = {\n",
    "            \"left\": on_left_button_clicked,\n",
    "            \"right\": on_right_button_clicked,\n",
    "            \"up\": on_up_button_clicked,\n",
    "            \"down\": on_down_button_clicked,\n",
    "        }\n",
    "        if event.key in keymap:\n",
    "            keymap[event.key]()\n",
    "        else:\n",
    "            try:\n",
    "                num = int(event.key) - 1\n",
    "                x = num % 3\n",
    "                y = 2 - (num // 3)\n",
    "                move = (x, y)\n",
    "                if move in self.centernode.children_by_move:\n",
    "                    self.centernode = self.centernode.children_by_move[move]\n",
    "                    self.update_gui()\n",
    "            except:\n",
    "                pass            \n",
    "            \n",
    "    # fig の画像イベントハンドラを結び付ける\n",
    "    self.fig.canvas.mpl_connect(\"key_press_event\", on_key_press)\n",
    "\n",
    "Mbtree_GUI.create_event_handler = create_event_handler"
   ]
  },
  {
   "cell_type": "code",
   "execution_count": 10,
   "metadata": {},
   "outputs": [
    {
     "data": {
      "application/vnd.jupyter.widget-view+json": {
       "model_id": "edaf5025ba544f74885657f3ede45a0d",
       "version_major": 2,
       "version_minor": 0
      },
      "text/plain": [
       "VBox(children=(HBox(children=(Label(value='', layout=Layout(width='50px')), Button(description='↑', layout=Lay…"
      ]
     },
     "metadata": {},
     "output_type": "display_data"
    }
   ],
   "source": [
    "mbtree_gui = Mbtree_GUI(mbtree)"
   ]
  },
  {
   "cell_type": "code",
   "execution_count": 12,
   "metadata": {},
   "outputs": [],
   "source": [
    "def create_event_handler(self):\n",
    "    def on_left_button_clicked(b=None):\n",
    "        if self.centernode.parent is not None:\n",
    "            self.centernode = self.centernode.parent\n",
    "            self.update_gui()\n",
    "            \n",
    "    def on_right_button_clicked(b=None):\n",
    "        if self.centernode.depth < 6 and len(self.centernode.children) > 0:\n",
    "            self.centernode = self.centernode.children[0]\n",
    "            self.update_gui()\n",
    "\n",
    "    def on_up_button_clicked(b=None):\n",
    "        if self.centernode.parent is not None:\n",
    "            index = self.centernode.parent.children.index(self.centernode)\n",
    "            if index > 0:\n",
    "                self.centernode = self.centernode.parent.children[index - 1]\n",
    "                self.update_gui()\n",
    "            \n",
    "    def on_down_button_clicked(b=None):\n",
    "        if self.centernode.parent is not None:\n",
    "            index = self.centernode.parent.children.index(self.centernode)\n",
    "            if self.centernode.parent.children[-1] is not self.centernode:\n",
    "                self.centernode = self.centernode.parent.children[index + 1]\n",
    "                self.update_gui()            \n",
    "            \n",
    "    self.left_button.on_click(on_left_button_clicked)\n",
    "    self.right_button.on_click(on_right_button_clicked)\n",
    "    self.up_button.on_click(on_up_button_clicked)\n",
    "    self.down_button.on_click(on_down_button_clicked)\n",
    "\n",
    "    def on_key_press(event):\n",
    "        keymap = {\n",
    "            \"left\": on_left_button_clicked,\n",
    "            \"0\": on_left_button_clicked,\n",
    "            \"right\": on_right_button_clicked,\n",
    "            \"up\": on_up_button_clicked,\n",
    "            \"down\": on_down_button_clicked,\n",
    "        }\n",
    "        if event.key in keymap:\n",
    "            keymap[event.key]()\n",
    "        elif self.centernode.depth < 6:\n",
    "            try:\n",
    "                num = int(event.key) - 1\n",
    "                x = num % 3\n",
    "                y = 2 - (num // 3)\n",
    "                move = (x, y)\n",
    "                if move in self.centernode.children_by_move:\n",
    "                    self.centernode = self.centernode.children_by_move[move]\n",
    "                    self.update_gui()\n",
    "            except:\n",
    "                pass            \n",
    "            \n",
    "    # fig の画像イベントハンドラを結び付ける\n",
    "    self.fig.canvas.mpl_connect(\"key_press_event\", on_key_press)\n",
    "\n",
    "Mbtree_GUI.create_event_handler = create_event_handler"
   ]
  },
  {
   "cell_type": "code",
   "execution_count": 13,
   "metadata": {},
   "outputs": [
    {
     "data": {
      "application/vnd.jupyter.widget-view+json": {
       "model_id": "4b647aefea2a4dd6adca70903a13ee48",
       "version_major": 2,
       "version_minor": 0
      },
      "text/plain": [
       "VBox(children=(HBox(children=(Label(value='', layout=Layout(width='50px')), Button(description='↑', layout=Lay…"
      ]
     },
     "metadata": {},
     "output_type": "display_data"
    }
   ],
   "source": [
    "mbtree_gui = Mbtree_GUI(mbtree)"
   ]
  },
  {
   "cell_type": "code",
   "execution_count": 14,
   "metadata": {},
   "outputs": [],
   "source": [
    "class Rect:\n",
    "    def __init__(self, x, y, width, height):\n",
    "        self.x = x\n",
    "        self.y = y\n",
    "        self.width = width\n",
    "        self.height = height"
   ]
  },
  {
   "cell_type": "code",
   "execution_count": 15,
   "metadata": {},
   "outputs": [
    {
     "name": "stdout",
     "output_type": "stream",
     "text": [
      "<__main__.Rect object at 0x00000183AB76F090>\n"
     ]
    }
   ],
   "source": [
    "rect = Rect(0, 0, 10, 20)\n",
    "print(rect)"
   ]
  },
  {
   "cell_type": "code",
   "execution_count": 18,
   "metadata": {},
   "outputs": [],
   "source": [
    "def __str__(self):\n",
    "    return f\"Rectangle ({self.x}, {self.y}) width = {self.width} height = {self.height}\"\n",
    "\n",
    "Rect.__str__ = __str__"
   ]
  },
  {
   "cell_type": "code",
   "execution_count": 17,
   "metadata": {},
   "outputs": [
    {
     "name": "stdout",
     "output_type": "stream",
     "text": [
      "Rectangle (0, 0) width = 10 height = 20\n"
     ]
    }
   ],
   "source": [
    "print(rect)"
   ]
  },
  {
   "cell_type": "code",
   "execution_count": 19,
   "metadata": {},
   "outputs": [],
   "source": [
    "def is_inside(self, x, y):\n",
    "    return self.x <= x < self.x + self.width and self.y <= y < self.y + self.height\n",
    "\n",
    "Rect.is_inside = is_inside"
   ]
  },
  {
   "cell_type": "code",
   "execution_count": 20,
   "metadata": {},
   "outputs": [
    {
     "name": "stdout",
     "output_type": "stream",
     "text": [
      "True\n",
      "False\n"
     ]
    }
   ],
   "source": [
    "print(rect.is_inside(5, 5))\n",
    "print(rect.is_inside(20, 10))"
   ]
  },
  {
   "cell_type": "code",
   "execution_count": 24,
   "metadata": {},
   "outputs": [],
   "source": [
    "from marubatsu import Marubatsu_GUI\n",
    "\n",
    "def draw_node(self, ax=None, maxdepth=None, emphasize=False, size=0.25, lw=0.8, dx=0, dy=0):\n",
    "    width = 8\n",
    "    if ax is None:\n",
    "        height = len(self.children) * 4\n",
    "        fig, ax = plt.subplots(figsize=(width * size, height * size))\n",
    "        ax.set_xlim(0, width)\n",
    "        ax.set_ylim(0, height)   \n",
    "        ax.invert_yaxis()\n",
    "        ax.axis(\"off\")\n",
    "        for childnode in self.children:\n",
    "            childnode.height = 4\n",
    "        self.height = height\n",
    "            \n",
    "    # 自分自身のノードを真ん中の位置になるように (dx, dy) からずらして描画する\n",
    "    y = dy + (self.height - 3) / 2\n",
    "    Marubatsu_GUI.draw_board(ax, self.mb, show_result=True, emphasize=emphasize, lw=lw, dx=dx, dy=y)\n",
    "    rect = Rect(dx, y, 3, 3)\n",
    "    # 子ノードが存在する場合に、エッジの線と子ノードを描画する\n",
    "    if len(self.children) > 0:\n",
    "        if maxdepth != self.depth:   \n",
    "            plt.plot([dx + 3.5, dx + 4], [y + 1.5, y + 1.5], c=\"k\", lw=lw)\n",
    "            prevy = None\n",
    "            for childnode in self.children:\n",
    "                childnodey = dy + (childnode.height - 3) / 2\n",
    "                if maxdepth is None:\n",
    "                    Marubatsu_GUI.draw_board(ax, childnode.mb, show_result=True, dx=dx+5, dy=childnodey, lw=lw)\n",
    "                edgey = childnodey + 1.5\n",
    "                plt.plot([dx + 4 , dx + 4.5], [edgey, edgey], c=\"k\", lw=lw)\n",
    "                if prevy is not None:\n",
    "                    plt.plot([dx + 4 , dx + 4], [prevy, edgey], c=\"k\", lw=lw)\n",
    "                prevy = edgey\n",
    "                dy += childnode.height\n",
    "        else:\n",
    "            plt.plot([dx + 3.5, dx + 4.5], [y + 1.5, y + 1.5], c=\"k\", lw=lw)\n",
    "            \n",
    "    return rect\n",
    "\n",
    "Node.draw_node = draw_node"
   ]
  },
  {
   "cell_type": "code",
   "execution_count": 25,
   "metadata": {},
   "outputs": [],
   "source": [
    "def draw_subtree(self, centernode=None, ax=None, size=0.25, lw=0.8, maxdepth=2):   \n",
    "    self.nodes_by_rect = {}\n",
    "\n",
    "    if centernode is None:\n",
    "        centernode = self.root\n",
    "    self.calc_node_height(maxdepth)\n",
    "    width = 5 * (maxdepth + 1)\n",
    "    height = centernode.height\n",
    "    parent = centernode.parent\n",
    "    if parent is not None:\n",
    "        height += (len(parent.children) - 1) * 4\n",
    "        parent.height = height\n",
    "    if ax is None:\n",
    "        fig, ax = plt.subplots(figsize=(width * size, height * size))\n",
    "        ax.set_xlim(0, width)\n",
    "        ax.set_ylim(0, height)   \n",
    "        ax.invert_yaxis()\n",
    "        ax.axis(\"off\")        \n",
    "    \n",
    "    nodelist = [centernode]\n",
    "    depth = centernode.depth\n",
    "    while len(nodelist) > 0 and depth <= maxdepth:        \n",
    "        dy = 0\n",
    "        if parent is not None:\n",
    "            dy = parent.children.index(centernode) * 4\n",
    "        childnodelist = []\n",
    "        for node in nodelist:\n",
    "            if node is None:\n",
    "                dy += 4\n",
    "                childnodelist.append(None)\n",
    "            else:\n",
    "                dx = 5 * node.depth\n",
    "                emphasize = node is centernode\n",
    "                rect = node.draw_node(ax=ax, maxdepth=maxdepth, emphasize=emphasize, size=size, lw=lw, dx=dx, dy=dy)\n",
    "                self.nodes_by_rect[rect] = node\n",
    "                dy += node.height\n",
    "                if len(node.children) > 0:  \n",
    "                    childnodelist += node.children\n",
    "                else:\n",
    "                    childnodelist.append(None)\n",
    "        depth += 1\n",
    "        nodelist = childnodelist\n",
    "        \n",
    "    if parent is not None:\n",
    "        dy = 0\n",
    "        for sibling in parent.children:\n",
    "            if sibling is not centernode:\n",
    "                sibling.height = 4\n",
    "                dx = 5 * sibling.depth\n",
    "                rect = sibling.draw_node(ax, maxdepth=sibling.depth, size=size, lw=lw, dx=dx, dy=dy)\n",
    "                self.nodes_by_rect[rect] = sibling\n",
    "            dy += sibling.height\n",
    "        dx = 5 * parent.depth\n",
    "        rect = parent.draw_node(ax, maxdepth=maxdepth, size=size, lw=lw, dx=dx, dy=0)\n",
    "        self.nodes_by_rect[rect] = parent\n",
    "    \n",
    "        node = parent\n",
    "        while node.parent is not None:\n",
    "            node = node.parent\n",
    "            node.height = height\n",
    "            dx = 5 * node.depth\n",
    "            rect = node.draw_node(ax, maxdepth=node.depth, size=size, lw=lw, dx=dx, dy=0)\n",
    "            self.nodes_by_rect[rect] = node\n",
    "            \n",
    "Mbtree.draw_subtree = draw_subtree"
   ]
  },
  {
   "cell_type": "code",
   "execution_count": 26,
   "metadata": {},
   "outputs": [
    {
     "data": {
      "application/vnd.jupyter.widget-view+json": {
       "model_id": "a422e8c280084b0d9e31ad855de86cc7",
       "version_major": 2,
       "version_minor": 0
      },
      "image/png": "[encoded data removed]",
      "text/html": [
       "\n",
       "            <div style=\"display: inline-block;\">\n",
       "                <div class=\"jupyter-widgets widget-label\" style=\"text-align: center;\">\n",
       "                    Figure\n",
       "                </div>\n",
       "                <img src='data:image/png;base64,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' width=250.0/>\n",
       "            </div>\n",
       "        "
      ],
      "text/plain": [
       "Canvas(toolbar=Toolbar(toolitems=[('Home', 'Reset original view', 'home', 'home'), ('Back', 'Back to previous …"
      ]
     },
     "metadata": {},
     "output_type": "display_data"
    }
   ],
   "source": [
    "mbtree.draw_subtree(mbtree.root, maxdepth=1)\n"
   ]
  },
  {
   "cell_type": "code",
   "execution_count": 27,
   "metadata": {},
   "outputs": [
    {
     "name": "stdout",
     "output_type": "stream",
     "text": [
      "Rectangle (0, 16.5) width = 3 height = 3\n",
      "Turn o\n",
      "...\n",
      "...\n",
      "...\n",
      "\n",
      "Rectangle (5, 0.5) width = 3 height = 3\n",
      "Turn x\n",
      "O..\n",
      "...\n",
      "...\n",
      "\n",
      "Rectangle (5, 4.5) width = 3 height = 3\n",
      "Turn x\n",
      ".O.\n",
      "...\n",
      "...\n",
      "\n",
      "Rectangle (5, 8.5) width = 3 height = 3\n",
      "Turn x\n",
      "..O\n",
      "...\n",
      "...\n",
      "\n",
      "Rectangle (5, 12.5) width = 3 height = 3\n",
      "Turn x\n",
      "...\n",
      "O..\n",
      "...\n",
      "\n",
      "Rectangle (5, 16.5) width = 3 height = 3\n",
      "Turn x\n",
      "...\n",
      ".O.\n",
      "...\n",
      "\n",
      "Rectangle (5, 20.5) width = 3 height = 3\n",
      "Turn x\n",
      "...\n",
      "..O\n",
      "...\n",
      "\n",
      "Rectangle (5, 24.5) width = 3 height = 3\n",
      "Turn x\n",
      "...\n",
      "...\n",
      "O..\n",
      "\n",
      "Rectangle (5, 28.5) width = 3 height = 3\n",
      "Turn x\n",
      "...\n",
      "...\n",
      ".O.\n",
      "\n",
      "Rectangle (5, 32.5) width = 3 height = 3\n",
      "Turn x\n",
      "...\n",
      "...\n",
      "..O\n",
      "\n"
     ]
    }
   ],
   "source": [
    "for rect, node in mbtree.nodes_by_rect.items():\n",
    "    print(rect)\n",
    "    print(node.mb)"
   ]
  },
  {
   "cell_type": "code",
   "execution_count": 28,
   "metadata": {},
   "outputs": [],
   "source": [
    "def create_event_handler(self):\n",
    "    def on_left_button_clicked(b=None):\n",
    "        if self.centernode.parent is not None:\n",
    "            self.centernode = self.centernode.parent\n",
    "            self.update_gui()\n",
    "            \n",
    "    def on_right_button_clicked(b=None):\n",
    "        if self.centernode.depth < 6 and len(self.centernode.children) > 0:\n",
    "            self.centernode = self.centernode.children[0]\n",
    "            self.update_gui()\n",
    "\n",
    "    def on_up_button_clicked(b=None):\n",
    "        if self.centernode.parent is not None:\n",
    "            index = self.centernode.parent.children.index(self.centernode)\n",
    "            if index > 0:\n",
    "                self.centernode = self.centernode.parent.children[index - 1]\n",
    "                self.update_gui()\n",
    "            \n",
    "    def on_down_button_clicked(b=None):\n",
    "        if self.centernode.parent is not None:\n",
    "            index = self.centernode.parent.children.index(self.centernode)\n",
    "            if self.centernode.parent.children[-1] is not self.centernode:\n",
    "                self.centernode = self.centernode.parent.children[index + 1]\n",
    "                self.update_gui()            \n",
    "            \n",
    "    self.left_button.on_click(on_left_button_clicked)\n",
    "    self.right_button.on_click(on_right_button_clicked)\n",
    "    self.up_button.on_click(on_up_button_clicked)\n",
    "    self.down_button.on_click(on_down_button_clicked)\n",
    "\n",
    "    def on_key_press(event):\n",
    "        keymap = {\n",
    "            \"left\": on_left_button_clicked,\n",
    "            \"0\": on_left_button_clicked,\n",
    "            \"right\": on_right_button_clicked,\n",
    "            \"up\": on_up_button_clicked,\n",
    "            \"down\": on_down_button_clicked,\n",
    "        }\n",
    "        if event.key in keymap:\n",
    "            keymap[event.key]()\n",
    "        elif self.centernode.depth < 6:\n",
    "            try:\n",
    "                num = int(event.key) - 1\n",
    "                x = num % 3\n",
    "                y = 2 - (num // 3)\n",
    "                move = (x, y)\n",
    "                if move in self.centernode.children_by_move:\n",
    "                    self.centernode = self.centernode.children_by_move[move]\n",
    "                    self.update_gui()\n",
    "            except:\n",
    "                pass            \n",
    "            \n",
    "    def on_mouse_down(event):\n",
    "        for rect, node in self.mbtree.nodes_by_rect.items():\n",
    "            if node.depth <= 6 and rect.is_inside(event.xdata, event.ydata):\n",
    "                self.centernode = node\n",
    "                self.update_gui()\n",
    "                break               \n",
    "            \n",
    "    # fig の画像イベントハンドラを結び付ける\n",
    "    self.fig.canvas.mpl_connect(\"key_press_event\", on_key_press)\n",
    "    self.fig.canvas.mpl_connect(\"button_press_event\", on_mouse_down)    \n",
    "\n",
    "Mbtree_GUI.create_event_handler = create_event_handler"
   ]
  },
  {
   "cell_type": "code",
   "execution_count": 29,
   "metadata": {},
   "outputs": [
    {
     "data": {
      "application/vnd.jupyter.widget-view+json": {
       "model_id": "21ce4091f32b406ebd9496d0e4e30699",
       "version_major": 2,
       "version_minor": 0
      },
      "text/plain": [
       "VBox(children=(HBox(children=(Label(value='', layout=Layout(width='50px')), Button(description='↑', layout=Lay…"
      ]
     },
     "metadata": {},
     "output_type": "display_data"
    }
   ],
   "source": [
    "mbtree_gui = Mbtree_GUI(mbtree)"
   ]
  },
  {
   "cell_type": "code",
   "execution_count": 32,
   "metadata": {},
   "outputs": [],
   "source": [
    "def create_widgets(self):\n",
    "    self.output = widgets.Output()  \n",
    "    self.left_button = self.create_button(\"←\", 50)\n",
    "    self.up_button = self.create_button(\"↑\", 50)\n",
    "    self.right_button = self.create_button(\"→\", 50)\n",
    "    self.down_button = self.create_button(\"↓\", 50)\n",
    "    self.help_button = self.create_button(\"？\", 50)\n",
    "    self.label = widgets.Label(value=\"\", layout=widgets.Layout(width=f\"50px\"))\n",
    "    \n",
    "    with plt.ioff():\n",
    "        self.fig = plt.figure(figsize=[self.width * self.size,\n",
    "                                        self.height * self.size])\n",
    "        self.ax = self.fig.add_axes([0, 0, 1, 1])\n",
    "    self.fig.canvas.toolbar_visible = False\n",
    "    self.fig.canvas.header_visible = False\n",
    "    self.fig.canvas.footer_visible = False\n",
    "    self.fig.canvas.resizable = False   \n",
    "    \n",
    "\n",
    "Mbtree_GUI.create_widgets = create_widgets"
   ]
  },
  {
   "cell_type": "code",
   "execution_count": 36,
   "metadata": {},
   "outputs": [],
   "source": [
    "def display_widgets(self):   \n",
    "    hbox1 = widgets.HBox([self.label, self.up_button, self.label])\n",
    "    hbox2 = widgets.HBox([self.left_button, self.label, self.right_button,\n",
    "                          self.label, self.help_button])\n",
    "    hbox3 = widgets.HBox([self.label, self.down_button, self.label])\n",
    "    display(widgets.VBox([self.output, hbox1, hbox2, hbox3, self.fig.canvas]))  \n",
    "    \n",
    "Mbtree_GUI.display_widgets = display_widgets"
   ]
  },
  {
   "cell_type": "code",
   "execution_count": 37,
   "metadata": {},
   "outputs": [
    {
     "data": {
      "application/vnd.jupyter.widget-view+json": {
       "model_id": "9bceee17614047518255812621c6de07",
       "version_major": 2,
       "version_minor": 0
      },
      "text/plain": [
       "VBox(children=(Output(), HBox(children=(Label(value='', layout=Layout(width='50px')), Button(description='↑', …"
      ]
     },
     "metadata": {},
     "output_type": "display_data"
    }
   ],
   "source": [
    "mbtree_gui = Mbtree_GUI(mbtree)"
   ]
  },
  {
   "cell_type": "code",
   "execution_count": 40,
   "metadata": {},
   "outputs": [],
   "source": [
    "def create_event_handler(self):\n",
    "    def on_left_button_clicked(b=None):\n",
    "        if self.centernode.parent is not None:\n",
    "            self.centernode = self.centernode.parent\n",
    "            self.update_gui()\n",
    "            \n",
    "    def on_right_button_clicked(b=None):\n",
    "        if self.centernode.depth < 6 and len(self.centernode.children) > 0:\n",
    "            self.centernode = self.centernode.children[0]\n",
    "            self.update_gui()\n",
    "\n",
    "    def on_up_button_clicked(b=None):\n",
    "        if self.centernode.parent is not None:\n",
    "            index = self.centernode.parent.children.index(self.centernode)\n",
    "            if index > 0:\n",
    "                self.centernode = self.centernode.parent.children[index - 1]\n",
    "                self.update_gui()\n",
    "            \n",
    "    def on_down_button_clicked(b=None):\n",
    "        if self.centernode.parent is not None:\n",
    "            index = self.centernode.parent.children.index(self.centernode)\n",
    "            if self.centernode.parent.children[-1] is not self.centernode:\n",
    "                self.centernode = self.centernode.parent.children[index + 1]\n",
    "                self.update_gui()            \n",
    "                \n",
    "    def on_help_button_clicked(b=None):\n",
    "        self.output.clear_output()\n",
    "        with self.output:\n",
    "            print(\"\"\"操作説明\n",
    "\n",
    "下記のキーとボタンで中心となるノードを移動できる。ただし、深さが 7 以上のノードへは移動できない\n",
    "←、0 キー：親ノードへ移動\n",
    "↑：一つ前の兄弟ノードへ移動\n",
    "↓：一つ後の兄弟ノードへ移動\n",
    "→：先頭の子ノードへ移動\n",
    "\n",
    "テンキーで、対応するマスに着手が行われた子ノードへ移動する\n",
    "ノードの上でマウスを押すことでそのノードへ移動する\n",
    "\"\"\")\n",
    "                           \n",
    "    self.left_button.on_click(on_left_button_clicked)\n",
    "    self.right_button.on_click(on_right_button_clicked)\n",
    "    self.up_button.on_click(on_up_button_clicked)\n",
    "    self.down_button.on_click(on_down_button_clicked)\n",
    "    self.help_button.on_click(on_help_button_clicked)\n",
    "\n",
    "    def on_key_press(event):\n",
    "        keymap = {\n",
    "            \"left\": on_left_button_clicked,\n",
    "            \"0\": on_left_button_clicked,\n",
    "            \"right\": on_right_button_clicked,\n",
    "            \"up\": on_up_button_clicked,\n",
    "            \"down\": on_down_button_clicked,\n",
    "        }\n",
    "        if event.key in keymap:\n",
    "            keymap[event.key]()\n",
    "        elif self.centernode.depth < 6:\n",
    "            try:\n",
    "                num = int(event.key) - 1\n",
    "                x = num % 3\n",
    "                y = 2 - (num // 3)\n",
    "                move = (x, y)\n",
    "                if move in self.centernode.children_by_move:\n",
    "                    self.centernode = self.centernode.children_by_move[move]\n",
    "                    self.update_gui()\n",
    "            except:\n",
    "                pass            \n",
    "            \n",
    "    def on_mouse_down(event):\n",
    "        for rect, node in self.mbtree.nodes_by_rect.items():\n",
    "            if node.depth <= 6 and rect.is_inside(event.xdata, event.ydata):\n",
    "                self.centernode = node\n",
    "                self.update_gui()\n",
    "                break               \n",
    "            \n",
    "    # fig の画像イベントハンドラを結び付ける\n",
    "    self.fig.canvas.mpl_connect(\"key_press_event\", on_key_press)\n",
    "    self.fig.canvas.mpl_connect(\"button_press_event\", on_mouse_down)    \n",
    "\n",
    "Mbtree_GUI.create_event_handler = create_event_handler"
   ]
  },
  {
   "cell_type": "code",
   "execution_count": 41,
   "metadata": {},
   "outputs": [
    {
     "data": {
      "application/vnd.jupyter.widget-view+json": {
       "model_id": "070cdacdcee64f83a108dbb0bd40e148",
       "version_major": 2,
       "version_minor": 0
      },
      "text/plain": [
       "VBox(children=(Output(), HBox(children=(Label(value='', layout=Layout(width='50px')), Button(description='↑', …"
      ]
     },
     "metadata": {},
     "output_type": "display_data"
    }
   ],
   "source": [
    "mbtree_gui = Mbtree_GUI(mbtree)"
   ]
  }
 ],
 "metadata": {
  "kernelspec": {
   "display_name": "marubatsu",
   "language": "python",
   "name": "python3"
  },
  "language_info": {
   "codemirror_mode": {
    "name": "ipython",
    "version": 3
   },
   "file_extension": ".py",
   "mimetype": "text/x-python",
   "name": "python",
   "nbconvert_exporter": "python",
   "pygments_lexer": "ipython3",
   "version": "3.11.4"
  }
 },
 "nbformat": 4,
 "nbformat_minor": 2
}
