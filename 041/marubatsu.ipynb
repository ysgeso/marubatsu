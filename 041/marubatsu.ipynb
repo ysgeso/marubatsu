{
 "cells": [
  {
   "cell_type": "code",
   "execution_count": 1,
   "metadata": {},
   "outputs": [
    {
     "name": "stdout",
     "output_type": "stream",
     "text": [
      "o 7820 x 1764 draw 416\n"
     ]
    }
   ],
   "source": [
    "from ai import ai_match, ai1, ai2\n",
    "\n",
    "ai_match(ai=[ai1, ai2])"
   ]
  },
  {
   "cell_type": "code",
   "execution_count": 2,
   "metadata": {},
   "outputs": [
    {
     "name": "stdout",
     "output_type": "stream",
     "text": [
      "o 452 x 93 draw 22\n"
     ]
    }
   ],
   "source": [
    "ai_match(ai=[ai1, ai2], match_num=567)"
   ]
  },
  {
   "cell_type": "code",
   "execution_count": 3,
   "metadata": {},
   "outputs": [],
   "source": [
    "from marubatsu import Marubatsu\n",
    "from collections import defaultdict\n",
    "\n",
    "def ai_match(ai, match_num=10000):\n",
    "    mb = Marubatsu()\n",
    "    count = defaultdict(int)\n",
    "    for _ in range(match_num):\n",
    "        count[mb.play(ai, verbose=False)] += 1\n",
    "\n",
    "    print(\"count\", \"o\", count[Marubatsu.CIRCLE], \"x\", count[Marubatsu.CROSS],\n",
    "          \"draw\", count[Marubatsu.DRAW])\n",
    "    print(\"ratio\", \"o\", count[Marubatsu.CIRCLE] / match_num,\n",
    "          \"x\", count[Marubatsu.CROSS] / match_num,\n",
    "          \"draw\", count[Marubatsu.DRAW] / match_num)"
   ]
  },
  {
   "cell_type": "code",
   "execution_count": 4,
   "metadata": {},
   "outputs": [
    {
     "name": "stdout",
     "output_type": "stream",
     "text": [
      "count o 434 x 107 draw 26\n",
      "ratio o 0.7654320987654321 x 0.18871252204585537 draw 0.04585537918871252\n"
     ]
    }
   ],
   "source": [
    "ai_match(ai=[ai1, ai2], match_num=567)"
   ]
  },
  {
   "cell_type": "code",
   "execution_count": 5,
   "metadata": {},
   "outputs": [],
   "source": [
    "def ai_match(ai, match_num=10000):\n",
    "    mb = Marubatsu()\n",
    "    count = defaultdict(int)\n",
    "    for _ in range(match_num):\n",
    "        count[mb.play(ai, verbose=False)] += 1\n",
    "\n",
    "    ratio = {}\n",
    "    for key in count.keys():\n",
    "        ratio[key] = count[key] / match_num\n",
    "\n",
    "    print(\"count\", \"o\", count[Marubatsu.CIRCLE], \"x\", count[Marubatsu.CROSS],\n",
    "          \"draw\", count[Marubatsu.DRAW])\n",
    "    print(\"ratio\", \"o\", ratio[Marubatsu.CIRCLE], \"x\", ratio[Marubatsu.CROSS],\n",
    "          \"draw\", ratio[Marubatsu.DRAW])"
   ]
  },
  {
   "cell_type": "code",
   "execution_count": 6,
   "metadata": {},
   "outputs": [
    {
     "name": "stdout",
     "output_type": "stream",
     "text": [
      "count o 455 x 94 draw 18\n",
      "ratio o 0.8024691358024691 x 0.1657848324514991 draw 0.031746031746031744\n"
     ]
    }
   ],
   "source": [
    "ai_match(ai=[ai1, ai2], match_num=567)"
   ]
  },
  {
   "cell_type": "code",
   "execution_count": 7,
   "metadata": {},
   "outputs": [],
   "source": [
    "def ai_match(ai, match_num=10000):\n",
    "    mb = Marubatsu()\n",
    "\n",
    "    # ai[0] VS ai[1] の対戦を match_num 回行い、通算成績を数える\n",
    "    count = defaultdict(int)\n",
    "    for _ in range(match_num):\n",
    "        count[mb.play(ai, verbose=False)] += 1\n",
    "\n",
    "    # それぞれの比率を計算し、ratio に代入する\n",
    "    ratio = {}\n",
    "    for key in count.keys():\n",
    "        ratio[key] = count[key] / match_num\n",
    "\n",
    "    # 〇の勝利、×の勝利、引き分けの順番で表示することを表す list \n",
    "    order_list = [Marubatsu.CIRCLE, Marubatsu.CROSS, Marubatsu.DRAW]\n",
    "\n",
    "    # 通算成績の回数の表示\n",
    "    print(\"count\")\n",
    "    for key in order_list:\n",
    "        print(key, count[key])\n",
    "    # 通算成績の比率の表示\n",
    "    print(\"ratio\")\n",
    "    for key in order_list:\n",
    "        print(key, ratio[key])"
   ]
  },
  {
   "cell_type": "code",
   "execution_count": 8,
   "metadata": {},
   "outputs": [
    {
     "name": "stdout",
     "output_type": "stream",
     "text": [
      "count\n",
      "o 442\n",
      "x 90\n",
      "draw 35\n",
      "ratio\n",
      "o 0.7795414462081128\n",
      "x 0.15873015873015872\n",
      "draw 0.06172839506172839\n"
     ]
    }
   ],
   "source": [
    "ai_match(ai=[ai1, ai2], match_num=567)"
   ]
  },
  {
   "cell_type": "code",
   "execution_count": 9,
   "metadata": {},
   "outputs": [],
   "source": [
    "def ai_match(ai, match_num=10000):\n",
    "    mb = Marubatsu()\n",
    "\n",
    "    # ai[0] VS ai[1] の対戦を match_num 回行い、通算成績を数える\n",
    "    count = defaultdict(int)\n",
    "    for _ in range(match_num):\n",
    "        count[mb.play(ai, verbose=False)] += 1\n",
    "\n",
    "    # それぞれの比率を計算し、ratio に代入する\n",
    "    ratio = {}\n",
    "    for key in count.keys():\n",
    "        ratio[key] = count[key] / match_num\n",
    "\n",
    "    # 〇の勝利、×の勝利、引き分けの順番で表示することを表す list \n",
    "    order_list = [Marubatsu.CIRCLE, Marubatsu.CROSS, Marubatsu.DRAW]\n",
    "\n",
    "    # 通算成績の回数の表示\n",
    "    print(\"count\", end=\"\")\n",
    "    for key in order_list:\n",
    "        print(key, count[key], end=\"\")\n",
    "    # 通算成績の比率の表示\n",
    "    print(\"ratio\", end=\"\")\n",
    "    for key in order_list:\n",
    "        print(key, ratio[key], end=\"\")"
   ]
  },
  {
   "cell_type": "code",
   "execution_count": 10,
   "metadata": {},
   "outputs": [
    {
     "name": "stdout",
     "output_type": "stream",
     "text": [
      "counto 430x 114draw 23ratioo 0.7583774250440917x 0.20105820105820105draw 0.04056437389770723"
     ]
    }
   ],
   "source": [
    "ai_match(ai=[ai1, ai2], match_num=567)"
   ]
  },
  {
   "cell_type": "code",
   "execution_count": 11,
   "metadata": {},
   "outputs": [],
   "source": [
    "def ai_match(ai, match_num=10000):\n",
    "    mb = Marubatsu()\n",
    "\n",
    "    # ai[0] VS ai[1] の対戦を match_num 回行い、通算成績を数える\n",
    "    count = defaultdict(int)\n",
    "    for _ in range(match_num):\n",
    "        count[mb.play(ai, verbose=False)] += 1\n",
    "\n",
    "    # それぞれの比率を計算し、ratio に代入する\n",
    "    ratio = {}\n",
    "    for key in count.keys():\n",
    "        ratio[key] = count[key] / match_num\n",
    "\n",
    "    # 〇の勝利、×の勝利、引き分けの順番で表示することを表す list \n",
    "    order_list = [Marubatsu.CIRCLE, Marubatsu.CROSS, Marubatsu.DRAW]\n",
    "\n",
    "    # 通算成績の回数の表示\n",
    "    print(\"count\", end=\"\")\n",
    "    for key in order_list:\n",
    "        print(\"\", key, count[key], end=\"\")\n",
    "    print()\n",
    "    # 通算成績の比率の表示\n",
    "    print(\"ratio\", end=\"\")\n",
    "    for key in order_list:\n",
    "        print(\"\", key, ratio[key], end=\"\")"
   ]
  },
  {
   "cell_type": "code",
   "execution_count": 12,
   "metadata": {},
   "outputs": [
    {
     "name": "stdout",
     "output_type": "stream",
     "text": [
      "count o 452 x 95 draw 20\n",
      "ratio o 0.7971781305114638 x 0.1675485008818342 draw 0.03527336860670194"
     ]
    }
   ],
   "source": [
    "ai_match(ai=[ai1, ai2], match_num=567)"
   ]
  },
  {
   "cell_type": "code",
   "execution_count": 13,
   "metadata": {},
   "outputs": [
    {
     "name": "stdout",
     "output_type": "stream",
     "text": [
      "0.3333333333333333\n"
     ]
    }
   ],
   "source": [
    "print(1 / 3)"
   ]
  },
  {
   "cell_type": "code",
   "execution_count": 14,
   "metadata": {},
   "outputs": [
    {
     "name": "stdout",
     "output_type": "stream",
     "text": [
      "<class 'int'>\n",
      "<class 'float'>\n",
      "<class 'float'>\n",
      "<class 'float'>\n",
      "<class 'float'>\n",
      "<class 'float'>\n",
      "<class 'float'>\n"
     ]
    }
   ],
   "source": [
    "print(type(1 + 1))\n",
    "print(type(1 / 2))\n",
    "print(type(1 + 1.5))\n",
    "print(type(1.5 + 1))\n",
    "print(type(1.5 + 1.7))\n",
    "print(type(1.5 * 2))   # 答えが整数であっても float になる\n",
    "print(type(1.5 + 1.5)) # 答えが整数であっても float になる"
   ]
  },
  {
   "cell_type": "code",
   "execution_count": 15,
   "metadata": {},
   "outputs": [
    {
     "ename": "TypeError",
     "evalue": "unsupported operand type(s) for +: 'int' and 'str'",
     "output_type": "error",
     "traceback": [
      "\u001b[1;31m---------------------------------------------------------------------------\u001b[0m",
      "\u001b[1;31mTypeError\u001b[0m                                 Traceback (most recent call last)",
      "Cell \u001b[1;32mIn[15], line 3\u001b[0m\n\u001b[0;32m      1\u001b[0m applenum \u001b[38;5;241m=\u001b[39m \u001b[38;5;241m5\u001b[39m\n\u001b[0;32m      2\u001b[0m applevalue \u001b[38;5;241m=\u001b[39m \u001b[38;5;241m100\u001b[39m\n\u001b[1;32m----> 3\u001b[0m text \u001b[38;5;241m=\u001b[39m \u001b[43mapplenum\u001b[49m\u001b[43m \u001b[49m\u001b[38;5;241;43m+\u001b[39;49m\u001b[43m \u001b[49m\u001b[38;5;124;43m\"\u001b[39;49m\u001b[38;5;124;43m個のりんごの値段は\u001b[39;49m\u001b[38;5;124;43m\"\u001b[39;49m \u001b[38;5;241m+\u001b[39m applenum \u001b[38;5;241m*\u001b[39m applevalue \u001b[38;5;241m+\u001b[39m \u001b[38;5;124m\"\u001b[39m\u001b[38;5;124m円です\u001b[39m\u001b[38;5;124m\"\u001b[39m\n\u001b[0;32m      4\u001b[0m \u001b[38;5;28mprint\u001b[39m(text)\n",
      "\u001b[1;31mTypeError\u001b[0m: unsupported operand type(s) for +: 'int' and 'str'"
     ]
    }
   ],
   "source": [
    "applenum = 5\n",
    "applevalue = 100\n",
    "text = applenum + \"個のりんごの値段は\" + applenum * applevalue + \"円です\"\n",
    "print(text)"
   ]
  },
  {
   "cell_type": "code",
   "execution_count": 16,
   "metadata": {},
   "outputs": [
    {
     "name": "stdout",
     "output_type": "stream",
     "text": [
      "5個のりんごの値段は500円です\n"
     ]
    }
   ],
   "source": [
    "applenum = 5\n",
    "applevalue = 100\n",
    "text = str(applenum) + \"個のりんごの値段は\" + str(applenum * applevalue) + \"円です\"\n",
    "print(text)"
   ]
  },
  {
   "cell_type": "code",
   "execution_count": 17,
   "metadata": {},
   "outputs": [
    {
     "name": "stdout",
     "output_type": "stream",
     "text": [
      "5個のりんごの値段は500円です\n"
     ]
    }
   ],
   "source": [
    "applenum = 5\n",
    "applevalue = 100\n",
    "text = f\"{applenum}個のりんごの値段は{applenum * applevalue}円です\"\n",
    "print(text)"
   ]
  },
  {
   "cell_type": "code",
   "execution_count": 18,
   "metadata": {},
   "outputs": [
    {
     "name": "stdout",
     "output_type": "stream",
     "text": [
      "りんご      の値段は500      円です\n",
      "      りんごの値段の      500円です\n",
      "   りんご   の値段の   500   円です\n",
      "りんご      の値段の      500円です\n"
     ]
    }
   ],
   "source": [
    "applenum = 5\n",
    "applevalue = 100\n",
    "name = \"りんご\"\n",
    "print(f\"{name:<9}の値段は{applenum * applevalue:<9}円です\") # りんご、値段を左揃えで表示\n",
    "print(f\"{name:>9}の値段の{applenum * applevalue:>9}円です\") # りんご、値段を右揃えで表示\n",
    "print(f\"{name:^9}の値段の{applenum * applevalue:^9}円です\") # りんご、値段を中央揃えで表示\n",
    "# 揃えを指定しないと文字列型は左揃え、数値型は右揃えになる\n",
    "print(f\"{name:9}の値段の{applenum * applevalue:9}円です\") "
   ]
  },
  {
   "cell_type": "code",
   "execution_count": 19,
   "metadata": {},
   "outputs": [
    {
     "name": "stdout",
     "output_type": "stream",
     "text": [
      "100\n",
      "-100\n",
      "+100\n",
      "-100\n",
      "100\n",
      "-100\n"
     ]
    }
   ],
   "source": [
    "plusnum = 100\n",
    "minusnum = -100\n",
    "print(f\"{plusnum}\")    # 符号を指定しない場合は、負の数のみ符号が表示される\n",
    "print(f\"{minusnum}\") \n",
    "print(f\"{plusnum:+}\")  # 符号として + を指定した場合は、常に符号が表示される\n",
    "print(f\"{minusnum:+}\") \n",
    "print(f\"{plusnum:-}\")  # 符号として - を指定した場合は、負の数のみ符号が表示される\n",
    "print(f\"{minusnum:-}\") # （符号を指定しない場合と同じになる）"
   ]
  },
  {
   "cell_type": "code",
   "execution_count": 20,
   "metadata": {},
   "outputs": [
    {
     "ename": "ValueError",
     "evalue": "Sign not allowed in string format specifier",
     "output_type": "error",
     "traceback": [
      "\u001b[1;31m---------------------------------------------------------------------------\u001b[0m",
      "\u001b[1;31mValueError\u001b[0m                                Traceback (most recent call last)",
      "Cell \u001b[1;32mIn[20], line 2\u001b[0m\n\u001b[0;32m      1\u001b[0m name \u001b[38;5;241m=\u001b[39m \u001b[38;5;124m\"\u001b[39m\u001b[38;5;124mりんご\u001b[39m\u001b[38;5;124m\"\u001b[39m\n\u001b[1;32m----> 2\u001b[0m \u001b[38;5;28mprint\u001b[39m(\u001b[38;5;124mf\u001b[39m\u001b[38;5;124m\"\u001b[39m\u001b[38;5;132;01m{\u001b[39;00mname\u001b[38;5;132;01m:\u001b[39;00m\u001b[38;5;124m+\u001b[39m\u001b[38;5;132;01m}\u001b[39;00m\u001b[38;5;124m\"\u001b[39m)\n",
      "\u001b[1;31mValueError\u001b[0m: Sign not allowed in string format specifier"
     ]
    }
   ],
   "source": [
    "name = \"りんご\"\n",
    "print(f\"{name:+}\")"
   ]
  },
  {
   "cell_type": "code",
   "execution_count": 21,
   "metadata": {},
   "outputs": [
    {
     "name": "stdout",
     "output_type": "stream",
     "text": [
      "りんごは赤い\n"
     ]
    }
   ],
   "source": [
    "name = \"りんごは赤い\"\n",
    "print(f\"{name:3}\")"
   ]
  },
  {
   "cell_type": "code",
   "execution_count": 22,
   "metadata": {},
   "outputs": [
    {
     "name": "stdout",
     "output_type": "stream",
     "text": [
      "1 / 7 = 0.14285714285714285です\n",
      "1 / 7 = 0.14286です\n",
      "1 / 7 =    0.14286です\n",
      "1 / 7 = 0.14286   です\n",
      "1 / 7 =   +0.14286です\n"
     ]
    }
   ],
   "source": [
    "num = 1 / 7\n",
    "print(f\"1 / 7 = {num}です\")        # 何も指定しない場合は、すべての桁数が表示される\n",
    "print(f\"1 / 7 = {num:.5}です\")     # 小数点以下 5 桁まで表示する\n",
    "print(f\"1 / 7 = {num:10.5}です\")   # 10 文字で、右揃えで小数点以下 5 桁まで表示する\n",
    "print(f\"1 / 7 = {num:<10.5}です\")  # 10 文字で、左揃えで小数点以下 5 桁まで表示する\n",
    "print(f\"1 / 7 = {num:+10.5}です\")  # 10 文字で、符号付きで小数点以下 5 桁まで表示する"
   ]
  },
  {
   "cell_type": "code",
   "execution_count": 23,
   "metadata": {},
   "outputs": [
    {
     "name": "stdout",
     "output_type": "stream",
     "text": [
      "a = 1.1\n"
     ]
    }
   ],
   "source": [
    "a = 1.1\n",
    "print(f\"a = {a:.3}\")"
   ]
  },
  {
   "cell_type": "code",
   "execution_count": 24,
   "metadata": {},
   "outputs": [
    {
     "ename": "ValueError",
     "evalue": "Precision not allowed in integer format specifier",
     "output_type": "error",
     "traceback": [
      "\u001b[1;31m---------------------------------------------------------------------------\u001b[0m",
      "\u001b[1;31mValueError\u001b[0m                                Traceback (most recent call last)",
      "Cell \u001b[1;32mIn[24], line 2\u001b[0m\n\u001b[0;32m      1\u001b[0m num \u001b[38;5;241m=\u001b[39m \u001b[38;5;241m10\u001b[39m\n\u001b[1;32m----> 2\u001b[0m \u001b[38;5;28mprint\u001b[39m(\u001b[38;5;124mf\u001b[39m\u001b[38;5;124m\"\u001b[39m\u001b[38;5;132;01m{\u001b[39;00mnum\u001b[38;5;132;01m:\u001b[39;00m\u001b[38;5;124m3.1\u001b[39m\u001b[38;5;132;01m}\u001b[39;00m\u001b[38;5;124m\"\u001b[39m)\n",
      "\u001b[1;31mValueError\u001b[0m: Precision not allowed in integer format specifier"
     ]
    }
   ],
   "source": [
    "num = 10\n",
    "print(f\"{num:3.1}\")"
   ]
  },
  {
   "cell_type": "code",
   "execution_count": 25,
   "metadata": {},
   "outputs": [
    {
     "name": "stdout",
     "output_type": "stream",
     "text": [
      "りんごです\n",
      "りんご    です\n"
     ]
    }
   ],
   "source": [
    "name = \"りんごは赤い\"\n",
    "print(f\"{name:.3}です\")  # 先頭の 3 文字が表示される\n",
    "print(f\"{name:7.3}です\") # 先頭の 3 文字が取り出され、7 文字の文字列として左揃えで表示される"
   ]
  },
  {
   "cell_type": "code",
   "execution_count": 26,
   "metadata": {},
   "outputs": [
    {
     "name": "stdout",
     "output_type": "stream",
     "text": [
      "100 は 2 進数では 1100100、16 進数では 64 と表記する\n"
     ]
    }
   ],
   "source": [
    "num = 100\n",
    "print(f\"{num:d} は 2 進数では {num:b}、16 進数では {num:x} と表記する\")"
   ]
  },
  {
   "cell_type": "code",
   "execution_count": 27,
   "metadata": {},
   "outputs": [
    {
     "name": "stdout",
     "output_type": "stream",
     "text": [
      "1.000\n",
      "1.100\n",
      "1.1\n",
      "1.000000\n",
      "1.000000\n"
     ]
    }
   ],
   "source": [
    "num1 = 1\n",
    "num2 = 1.1\n",
    "print(f\"{num1:.3f}\")  # 整数型に対して精度と f を指定した場合\n",
    "print(f\"{num2:.3f}\")  # 浮動小数点数型に対して精度と f を指定した場合\n",
    "print(f\"{num2:.3}\")   # 浮動小数点数型に対して精度のみを指定した場合\n",
    "print(f\"{num1:f}\")    # 精度を省略した場合は、6 が指定されたものとみなされる\n",
    "print(f\"{num1:.6f}\")  # 実際に精度に 6 を指定した場合。上記と同じ表示になる"
   ]
  },
  {
   "cell_type": "code",
   "execution_count": 28,
   "metadata": {},
   "outputs": [
    {
     "name": "stdout",
     "output_type": "stream",
     "text": [
      "10000000000 の指数表記は 1e+10\n",
      "1e-10 の指数表記は 1e-10\n",
      "10000000000 の指数表記は 1.000000e+10\n",
      "1e-10 の指数表記は 1.000000e-10\n"
     ]
    }
   ],
   "source": [
    "num1 = 10000000000\n",
    "num2 = 0.0000000001\n",
    "print(f\"{num1} の指数表記は {num1:.0e}\") # 仮数部の小数点以下の表示を行わない指数表記\n",
    "print(f\"{num2} の指数表記は {num2:.0e}\")\n",
    "print(f\"{num1} の指数表記は {num1:e}\")   # 精度の指定を省略した場合\n",
    "print(f\"{num2} の指数表記は {num2:e}\")"
   ]
  },
  {
   "cell_type": "code",
   "execution_count": 29,
   "metadata": {},
   "outputs": [],
   "source": [
    "def ai_match(ai, match_num=10000):\n",
    "    mb = Marubatsu()\n",
    "\n",
    "    # ai[0] VS ai[1] の対戦を match_num 回行い、通算成績を数える\n",
    "    count = defaultdict(int)\n",
    "    for _ in range(match_num):\n",
    "        count[mb.play(ai, verbose=False)] += 1\n",
    "\n",
    "    # それぞれの比率を計算し、ratio に代入する\n",
    "    ratio = {}\n",
    "    for key in count.keys():\n",
    "        ratio[key] = count[key] / match_num\n",
    "\n",
    "    # 〇の勝利、×の勝利、引き分けの順番で表示することを表す list \n",
    "    order_list = [Marubatsu.CIRCLE, Marubatsu.CROSS, Marubatsu.DRAW]\n",
    "\n",
    "    # 通算成績の回数の表示\n",
    "    print(\"count\", end=\"\")\n",
    "    for key in order_list:\n",
    "        print(f\" {key} {count[key]}\", end=\"\")\n",
    "    print()\n",
    "    # 通算成績の比率の表示\n",
    "    print(\"ratio\", end=\"\")\n",
    "    for key in order_list:\n",
    "        print(f\" {key} {ratio[key]:.1%}\", end=\"\")"
   ]
  },
  {
   "cell_type": "code",
   "execution_count": 30,
   "metadata": {},
   "outputs": [
    {
     "name": "stdout",
     "output_type": "stream",
     "text": [
      "count o 440 x 101 draw 26\n",
      "ratio o 77.6% x 17.8% draw 4.6%"
     ]
    }
   ],
   "source": [
    "ai_match(ai=[ai1, ai2], match_num=567)"
   ]
  },
  {
   "cell_type": "code",
   "execution_count": 31,
   "metadata": {},
   "outputs": [
    {
     "name": "stdout",
     "output_type": "stream",
     "text": [
      "50.0%\n",
      "50.0%\n"
     ]
    }
   ],
   "source": [
    "num = 0.5\n",
    "format = \".1%\"\n",
    "print(f\"{num:.1%}\")\n",
    "print(f\"{num:{format}}\")"
   ]
  },
  {
   "cell_type": "code",
   "execution_count": 32,
   "metadata": {},
   "outputs": [],
   "source": [
    "def ai_match(ai, match_num=10000):\n",
    "    mb = Marubatsu()\n",
    "\n",
    "    # ai[0] VS ai[1] の対戦を match_num 回行い、通算成績を数える\n",
    "    count = defaultdict(int)\n",
    "    for _ in range(match_num):\n",
    "        count[mb.play(ai, verbose=False)] += 1\n",
    "\n",
    "    # それぞれの比率を計算し、ratio に代入する\n",
    "    ratio = {}\n",
    "    for key in count.keys():\n",
    "        ratio[key] = count[key] / match_num\n",
    "\n",
    "    # 〇の勝利、×の勝利、引き分けの順番で表示することを表す list \n",
    "    order_list = [Marubatsu.CIRCLE, Marubatsu.CROSS, Marubatsu.DRAW]\n",
    "\n",
    "    # 通算成績の回数と比率の表示\n",
    "    diff_list = [ (\"count\", count, \"d\"), (\"ratio\", ratio, \".1%\") ]\n",
    "    for title, data, format in diff_list:\n",
    "        print(title, end=\"\")\n",
    "        for key in order_list:\n",
    "            print(f\" {key} {data[key]:{format}}\", end=\"\")\n",
    "        print()"
   ]
  },
  {
   "cell_type": "code",
   "execution_count": 33,
   "metadata": {},
   "outputs": [
    {
     "name": "stdout",
     "output_type": "stream",
     "text": [
      "count o 437 x 97 draw 33\n",
      "ratio o 77.1% x 17.1% draw 5.8%\n"
     ]
    }
   ],
   "source": [
    "ai_match(ai=[ai1, ai2], match_num=567)"
   ]
  }
 ],
 "metadata": {
  "kernelspec": {
   "display_name": "marubatsu",
   "language": "python",
   "name": "python3"
  },
  "language_info": {
   "codemirror_mode": {
    "name": "ipython",
    "version": 3
   },
   "file_extension": ".py",
   "mimetype": "text/x-python",
   "name": "python",
   "nbconvert_exporter": "python",
   "pygments_lexer": "ipython3",
   "version": "3.10.13"
  }
 },
 "nbformat": 4,
 "nbformat_minor": 2
}
