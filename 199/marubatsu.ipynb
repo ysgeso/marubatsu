{
 "cells": [
  {
   "cell_type": "code",
   "execution_count": 2,
   "id": "d7c0c7c8",
   "metadata": {},
   "outputs": [
    {
     "name": "stdout",
     "output_type": "stream",
     "text": [
      "boardclass: ListBoard, count_linemark False\n",
      "ai2 VS ai2\n"
     ]
    },
    {
     "name": "stderr",
     "output_type": "stream",
     "text": [
      "  0%|          | 0/50000 [00:00<?, ?it/s]"
     ]
    },
    {
     "name": "stderr",
     "output_type": "stream",
     "text": [
      "100%|██████████| 50000/50000 [00:03<00:00, 14186.19it/s]\n"
     ]
    },
    {
     "name": "stdout",
     "output_type": "stream",
     "text": [
      "count     win    lose    draw\n",
      "o       29454   14352    6194\n",
      "x       14208   29592    6200\n",
      "total   43662   43944   12394\n",
      "\n",
      "ratio     win    lose    draw\n",
      "o       58.9%   28.7%   12.4%\n",
      "x       28.4%   59.2%   12.4%\n",
      "total   43.7%   43.9%   12.4%\n",
      "\n",
      "ai14s VS ai2\n"
     ]
    },
    {
     "name": "stderr",
     "output_type": "stream",
     "text": [
      "100%|██████████| 50000/50000 [00:46<00:00, 1072.80it/s]\n"
     ]
    },
    {
     "name": "stdout",
     "output_type": "stream",
     "text": [
      "count     win    lose    draw\n",
      "o       49446       0     554\n",
      "x       44043       0    5957\n",
      "total   93489       0    6511\n",
      "\n",
      "ratio     win    lose    draw\n",
      "o       98.9%    0.0%    1.1%\n",
      "x       88.1%    0.0%   11.9%\n",
      "total   93.5%    0.0%    6.5%\n",
      "\n",
      "ai_abs_dls\n",
      " 18.3 ms ±   1.7 ms per loop (mean ± std. dev. of 7 runs, 10 loops each)\n",
      "\n",
      "boardclass: ListBoard, count_linemark True\n",
      "ai2 VS ai2\n"
     ]
    },
    {
     "name": "stderr",
     "output_type": "stream",
     "text": [
      "100%|██████████| 50000/50000 [00:03<00:00, 14017.76it/s]\n"
     ]
    },
    {
     "name": "stdout",
     "output_type": "stream",
     "text": [
      "count     win    lose    draw\n",
      "o       29454   14352    6194\n",
      "x       14208   29592    6200\n",
      "total   43662   43944   12394\n",
      "\n",
      "ratio     win    lose    draw\n",
      "o       58.9%   28.7%   12.4%\n",
      "x       28.4%   59.2%   12.4%\n",
      "total   43.7%   43.9%   12.4%\n",
      "\n",
      "ai14s VS ai2\n"
     ]
    },
    {
     "name": "stderr",
     "output_type": "stream",
     "text": [
      "100%|██████████| 50000/50000 [00:25<00:00, 1983.66it/s]\n"
     ]
    },
    {
     "name": "stdout",
     "output_type": "stream",
     "text": [
      "count     win    lose    draw\n",
      "o       49446       0     554\n",
      "x       44043       0    5957\n",
      "total   93489       0    6511\n",
      "\n",
      "ratio     win    lose    draw\n",
      "o       98.9%    0.0%    1.1%\n",
      "x       88.1%    0.0%   11.9%\n",
      "total   93.5%    0.0%    6.5%\n",
      "\n",
      "ai_abs_dls\n",
      " 20.8 ms ±   1.2 ms per loop (mean ± std. dev. of 7 runs, 10 loops each)\n",
      "\n",
      "boardclass: List1dBoard, count_linemark False\n",
      "ai2 VS ai2\n"
     ]
    },
    {
     "name": "stderr",
     "output_type": "stream",
     "text": [
      "100%|██████████| 50000/50000 [00:03<00:00, 16216.21it/s]\n"
     ]
    },
    {
     "name": "stdout",
     "output_type": "stream",
     "text": [
      "count     win    lose    draw\n",
      "o       29454   14352    6194\n",
      "x       14208   29592    6200\n",
      "total   43662   43944   12394\n",
      "\n",
      "ratio     win    lose    draw\n",
      "o       58.9%   28.7%   12.4%\n",
      "x       28.4%   59.2%   12.4%\n",
      "total   43.7%   43.9%   12.4%\n",
      "\n",
      "ai14s VS ai2\n"
     ]
    },
    {
     "name": "stderr",
     "output_type": "stream",
     "text": [
      "100%|██████████| 50000/50000 [00:47<00:00, 1061.94it/s]\n"
     ]
    },
    {
     "name": "stdout",
     "output_type": "stream",
     "text": [
      "count     win    lose    draw\n",
      "o       49446       0     554\n",
      "x       44043       0    5957\n",
      "total   93489       0    6511\n",
      "\n",
      "ratio     win    lose    draw\n",
      "o       98.9%    0.0%    1.1%\n",
      "x       88.1%    0.0%   11.9%\n",
      "total   93.5%    0.0%    6.5%\n",
      "\n",
      "ai_abs_dls\n",
      " 20.0 ms ±   1.3 ms per loop (mean ± std. dev. of 7 runs, 10 loops each)\n",
      "\n",
      "boardclass: List1dBoard, count_linemark True\n",
      "ai2 VS ai2\n"
     ]
    },
    {
     "name": "stderr",
     "output_type": "stream",
     "text": [
      "100%|██████████| 50000/50000 [00:03<00:00, 15786.76it/s]\n"
     ]
    },
    {
     "name": "stdout",
     "output_type": "stream",
     "text": [
      "count     win    lose    draw\n",
      "o       29454   14352    6194\n",
      "x       14208   29592    6200\n",
      "total   43662   43944   12394\n",
      "\n",
      "ratio     win    lose    draw\n",
      "o       58.9%   28.7%   12.4%\n",
      "x       28.4%   59.2%   12.4%\n",
      "total   43.7%   43.9%   12.4%\n",
      "\n",
      "ai14s VS ai2\n"
     ]
    },
    {
     "name": "stderr",
     "output_type": "stream",
     "text": [
      "100%|██████████| 50000/50000 [00:25<00:00, 1991.81it/s]\n"
     ]
    },
    {
     "name": "stdout",
     "output_type": "stream",
     "text": [
      "count     win    lose    draw\n",
      "o       49446       0     554\n",
      "x       44043       0    5957\n",
      "total   93489       0    6511\n",
      "\n",
      "ratio     win    lose    draw\n",
      "o       98.9%    0.0%    1.1%\n",
      "x       88.1%    0.0%   11.9%\n",
      "total   93.5%    0.0%    6.5%\n",
      "\n",
      "ai_abs_dls\n",
      " 18.7 ms ±   0.9 ms per loop (mean ± std. dev. of 7 runs, 10 loops each)\n",
      "\n",
      "boardclass: NpBoard, count_linemark False\n",
      "ai2 VS ai2\n"
     ]
    },
    {
     "name": "stderr",
     "output_type": "stream",
     "text": [
      "100%|██████████| 50000/50000 [00:06<00:00, 7534.68it/s]\n"
     ]
    },
    {
     "name": "stdout",
     "output_type": "stream",
     "text": [
      "count     win    lose    draw\n",
      "o       29454   14352    6194\n",
      "x       14208   29592    6200\n",
      "total   43662   43944   12394\n",
      "\n",
      "ratio     win    lose    draw\n",
      "o       58.9%   28.7%   12.4%\n",
      "x       28.4%   59.2%   12.4%\n",
      "total   43.7%   43.9%   12.4%\n",
      "\n",
      "ai14s VS ai2\n"
     ]
    },
    {
     "name": "stderr",
     "output_type": "stream",
     "text": [
      "100%|██████████| 50000/50000 [01:10<00:00, 706.86it/s]\n"
     ]
    },
    {
     "name": "stdout",
     "output_type": "stream",
     "text": [
      "count     win    lose    draw\n",
      "o       49446       0     554\n",
      "x       44043       0    5957\n",
      "total   93489       0    6511\n",
      "\n",
      "ratio     win    lose    draw\n",
      "o       98.9%    0.0%    1.1%\n",
      "x       88.1%    0.0%   11.9%\n",
      "total   93.5%    0.0%    6.5%\n",
      "\n",
      "ai_abs_dls\n",
      " 42.7 ms ±   3.6 ms per loop (mean ± std. dev. of 7 runs, 10 loops each)\n",
      "\n",
      "boardclass: NpBoard, count_linemark True\n",
      "ai2 VS ai2\n"
     ]
    },
    {
     "name": "stderr",
     "output_type": "stream",
     "text": [
      "100%|██████████| 50000/50000 [00:06<00:00, 8117.72it/s]\n"
     ]
    },
    {
     "name": "stdout",
     "output_type": "stream",
     "text": [
      "count     win    lose    draw\n",
      "o       29454   14352    6194\n",
      "x       14208   29592    6200\n",
      "total   43662   43944   12394\n",
      "\n",
      "ratio     win    lose    draw\n",
      "o       58.9%   28.7%   12.4%\n",
      "x       28.4%   59.2%   12.4%\n",
      "total   43.7%   43.9%   12.4%\n",
      "\n",
      "ai14s VS ai2\n"
     ]
    },
    {
     "name": "stderr",
     "output_type": "stream",
     "text": [
      "100%|██████████| 50000/50000 [00:30<00:00, 1633.57it/s]\n"
     ]
    },
    {
     "name": "stdout",
     "output_type": "stream",
     "text": [
      "count     win    lose    draw\n",
      "o       49446       0     554\n",
      "x       44043       0    5957\n",
      "total   93489       0    6511\n",
      "\n",
      "ratio     win    lose    draw\n",
      "o       98.9%    0.0%    1.1%\n",
      "x       88.1%    0.0%   11.9%\n",
      "total   93.5%    0.0%    6.5%\n",
      "\n",
      "ai_abs_dls\n",
      " 38.5 ms ±   2.0 ms per loop (mean ± std. dev. of 7 runs, 10 loops each)\n",
      "\n"
     ]
    }
   ],
   "source": [
    "from marubatsu import ListBoard, List1dBoard, NpBoard\n",
    "from util import benchmark\n",
    "\n",
    "for boardclass in [ListBoard, List1dBoard, NpBoard]:\n",
    "    for count_linemark in [False, True]:\n",
    "        print(f\"boardclass: {boardclass.__name__}, count_linemark {count_linemark}\")\n",
    "        benchmark(mbparams={\"boardclass\": boardclass, \"count_linemark\": count_linemark})\n",
    "        print()"
   ]
  },
  {
   "cell_type": "code",
   "execution_count": null,
   "id": "2a06da44",
   "metadata": {},
   "outputs": [
    {
     "name": "stdout",
     "output_type": "stream",
     "text": [
      "boardclass: ListBoard, count_linemark False\n",
      "ai2 VS ai2\n"
     ]
    },
    {
     "name": "stderr",
     "output_type": "stream",
     "text": [
      "100%|██████████| 50000/50000 [00:04<00:00, 10418.41it/s]\n"
     ]
    },
    {
     "name": "stdout",
     "output_type": "stream",
     "text": [
      "count     win    lose    draw\n",
      "o       29454   14352    6194\n",
      "x       14208   29592    6200\n",
      "total   43662   43944   12394\n",
      "\n",
      "ratio     win    lose    draw\n",
      "o       58.9%   28.7%   12.4%\n",
      "x       28.4%   59.2%   12.4%\n",
      "total   43.7%   43.9%   12.4%\n",
      "\n",
      "ai14s VS ai2\n"
     ]
    },
    {
     "name": "stderr",
     "output_type": "stream",
     "text": [
      "100%|██████████| 50000/50000 [00:58<00:00, 859.28it/s] \n"
     ]
    }
   ],
   "source": [
    "from marubatsu import ListBoard, List1dBoard, NpBoard\n",
    "from util import benchmark\n",
    "\n",
    "for boardclass in [ListBoard, List1dBoard, NpBoard]:\n",
    "    for count_linemark in [False, True]:\n",
    "        print(f\"boardclass: {boardclass.__name__}, count_linemark {count_linemark}\")\n",
    "        benchmark(mbparams={\"boardclass\": boardclass, \"count_linemark\": count_linemark})\n",
    "        print()"
   ]
  },
  {
   "cell_type": "code",
   "execution_count": null,
   "id": "a5b7fdb4",
   "metadata": {},
   "outputs": [
    {
     "ename": "",
     "evalue": "",
     "output_type": "error",
     "traceback": [
      "\u001b[1;31m'marubatsu314 (Python 3.14.0)' でセルを実行するには、 ipykernel パッケージが必要です。\n",
      "\u001b[1;31m<a href='command:jupyter.createPythonEnvAndSelectController'>Python 環境の作成</a> および必要なパッケージ。\n",
      "\u001b[1;31mまたは、次のコマンドを使用して 'ipykernel' をインストールします: 'conda install -n marubatsu314 ipykernel --update-deps --force-reinstall'"
     ]
    }
   ],
   "source": [
    "!pip install matplotlib"
   ]
  },
  {
   "cell_type": "code",
   "execution_count": null,
   "id": "77ed67a3",
   "metadata": {},
   "outputs": [
    {
     "ename": "",
     "evalue": "",
     "output_type": "error",
     "traceback": [
      "\u001b[1;31m'marubatsu314 (Python 3.14.0)' でセルを実行するには、 ipykernel パッケージが必要です。\n",
      "\u001b[1;31m<a href='command:jupyter.createPythonEnvAndSelectController'>Python 環境の作成</a> および必要なパッケージ。\n",
      "\u001b[1;31mまたは、次のコマンドを使用して 'ipykernel' をインストールします: 'conda install -n marubatsu314 ipykernel --update-deps --force-reinstall'"
     ]
    }
   ],
   "source": [
    "and"
   ]
  },
  {
   "cell_type": "code",
   "execution_count": null,
   "id": "dc2865ab",
   "metadata": {},
   "outputs": [],
   "source": []
  }
 ],
 "metadata": {
  "kernelspec": {
   "display_name": "marubatsu314",
   "language": "python",
   "name": "python3"
  },
  "language_info": {
   "codemirror_mode": {
    "name": "ipython",
    "version": 3
   },
   "file_extension": ".py",
   "mimetype": "text/x-python",
   "name": "python",
   "nbconvert_exporter": "python",
   "pygments_lexer": "ipython3",
   "version": "3.14.0"
  }
 },
 "nbformat": 4,
 "nbformat_minor": 5
}
