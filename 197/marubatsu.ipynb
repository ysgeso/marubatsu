{
 "cells": [
  {
   "cell_type": "code",
   "execution_count": 1,
   "id": "89bf6846",
   "metadata": {},
   "outputs": [
    {
     "name": "stdout",
     "output_type": "stream",
     "text": [
      "array('i')\n"
     ]
    }
   ],
   "source": [
    "from array import array\n",
    "\n",
    "a = array(\"i\")\n",
    "print(a)"
   ]
  },
  {
   "cell_type": "code",
   "execution_count": 2,
   "id": "8accd0f6",
   "metadata": {},
   "outputs": [
    {
     "name": "stdout",
     "output_type": "stream",
     "text": [
      "array('i', [1, 2, 3])\n"
     ]
    }
   ],
   "source": [
    "a = array(\"i\", [1, 2, 3])\n",
    "print(a)"
   ]
  },
  {
   "cell_type": "code",
   "execution_count": 3,
   "id": "7130448b",
   "metadata": {},
   "outputs": [
    {
     "name": "stdout",
     "output_type": "stream",
     "text": [
      "1\n",
      "5\n",
      "array('i', [5, 2, 3])\n"
     ]
    }
   ],
   "source": [
    "print(a[0])\n",
    "a[0] = 5\n",
    "print(a[0])\n",
    "print(a)"
   ]
  },
  {
   "cell_type": "code",
   "execution_count": 4,
   "id": "a85662af",
   "metadata": {},
   "outputs": [
    {
     "name": "stdout",
     "output_type": "stream",
     "text": [
      "array('i', [5, 2, 3, 10])\n"
     ]
    }
   ],
   "source": [
    "a.append(10)\n",
    "print(a)"
   ]
  },
  {
   "cell_type": "code",
   "execution_count": 5,
   "id": "989d7072",
   "metadata": {},
   "outputs": [
    {
     "ename": "TypeError",
     "evalue": "'str' object cannot be interpreted as an integer",
     "output_type": "error",
     "traceback": [
      "\u001b[31m---------------------------------------------------------------------------\u001b[39m",
      "\u001b[31mTypeError\u001b[39m                                 Traceback (most recent call last)",
      "\u001b[36mCell\u001b[39m\u001b[36m \u001b[39m\u001b[32mIn[5]\u001b[39m\u001b[32m, line 1\u001b[39m\n\u001b[32m----> \u001b[39m\u001b[32m1\u001b[39m a[\u001b[32m0\u001b[39m] = \u001b[33m\"\u001b[39m\u001b[33mx\u001b[39m\u001b[33m\"\u001b[39m\n",
      "\u001b[31mTypeError\u001b[39m: 'str' object cannot be interpreted as an integer"
     ]
    }
   ],
   "source": [
    "a[0] = \"x\""
   ]
  },
  {
   "cell_type": "code",
   "execution_count": 6,
   "id": "d426f424",
   "metadata": {},
   "outputs": [],
   "source": [
    "from marubatsu import Marubatsu, List1dBoard\n",
    "\n",
    "class ArrayBoard(List1dBoard):\n",
    "    def __init__(self, board_size=3, count_linemark=False):\n",
    "        self.BOARD_SIZE = board_size\n",
    "        self.count_linemark = count_linemark\n",
    "        self.board = array(\"w\", [Marubatsu.EMPTY] * (self.BOARD_SIZE ** 2))\n",
    "        if self.count_linemark:\n",
    "            self.rowcount = {\n",
    "                Marubatsu.CIRCLE: [0] * self.BOARD_SIZE,\n",
    "                Marubatsu.CROSS: [0] * self.BOARD_SIZE,\n",
    "            }\n",
    "            self.colcount = {\n",
    "                Marubatsu.CIRCLE: [0] * self.BOARD_SIZE,\n",
    "                Marubatsu.CROSS: [0] * self.BOARD_SIZE,\n",
    "            }\n",
    "            self.diacount = {\n",
    "                Marubatsu.CIRCLE: [0] * 2,\n",
    "                Marubatsu.CROSS: [0] * 2,\n",
    "            }"
   ]
  },
  {
   "cell_type": "code",
   "execution_count": 7,
   "id": "2863169c",
   "metadata": {},
   "outputs": [
    {
     "name": "stdout",
     "output_type": "stream",
     "text": [
      "boardclass: ArrayBoard, count_linemark False\n",
      "ai2 VS ai2\n"
     ]
    },
    {
     "name": "stderr",
     "output_type": "stream",
     "text": [
      "100%|██████████| 50000/50000 [00:03<00:00, 14702.96it/s]\n"
     ]
    },
    {
     "name": "stdout",
     "output_type": "stream",
     "text": [
      "count     win    lose    draw\n",
      "o       29454   14352    6194\n",
      "x       14208   29592    6200\n",
      "total   43662   43944   12394\n",
      "\n",
      "ratio     win    lose    draw\n",
      "o       58.9%   28.7%   12.4%\n",
      "x       28.4%   59.2%   12.4%\n",
      "total   43.7%   43.9%   12.4%\n",
      "\n",
      "ai14s VS ai2\n"
     ]
    },
    {
     "name": "stderr",
     "output_type": "stream",
     "text": [
      "100%|██████████| 50000/50000 [00:48<00:00, 1023.88it/s]\n"
     ]
    },
    {
     "name": "stdout",
     "output_type": "stream",
     "text": [
      "count     win    lose    draw\n",
      "o       49446       0     554\n",
      "x       44043       0    5957\n",
      "total   93489       0    6511\n",
      "\n",
      "ratio     win    lose    draw\n",
      "o       98.9%    0.0%    1.1%\n",
      "x       88.1%    0.0%   11.9%\n",
      "total   93.5%    0.0%    6.5%\n",
      "\n",
      "ai_abs_dls\n",
      " 18.8 ms ±   1.5 ms per loop (mean ± std. dev. of 7 runs, 10 loops each)\n",
      "\n",
      "boardclass: ArrayBoard, count_linemark True\n",
      "ai2 VS ai2\n"
     ]
    },
    {
     "name": "stderr",
     "output_type": "stream",
     "text": [
      "100%|██████████| 50000/50000 [00:03<00:00, 14645.31it/s]\n"
     ]
    },
    {
     "name": "stdout",
     "output_type": "stream",
     "text": [
      "count     win    lose    draw\n",
      "o       29454   14352    6194\n",
      "x       14208   29592    6200\n",
      "total   43662   43944   12394\n",
      "\n",
      "ratio     win    lose    draw\n",
      "o       58.9%   28.7%   12.4%\n",
      "x       28.4%   59.2%   12.4%\n",
      "total   43.7%   43.9%   12.4%\n",
      "\n",
      "ai14s VS ai2\n"
     ]
    },
    {
     "name": "stderr",
     "output_type": "stream",
     "text": [
      "100%|██████████| 50000/50000 [00:26<00:00, 1903.46it/s]\n"
     ]
    },
    {
     "name": "stdout",
     "output_type": "stream",
     "text": [
      "count     win    lose    draw\n",
      "o       49446       0     554\n",
      "x       44043       0    5957\n",
      "total   93489       0    6511\n",
      "\n",
      "ratio     win    lose    draw\n",
      "o       98.9%    0.0%    1.1%\n",
      "x       88.1%    0.0%   11.9%\n",
      "total   93.5%    0.0%    6.5%\n",
      "\n",
      "ai_abs_dls\n",
      " 19.8 ms ±   1.5 ms per loop (mean ± std. dev. of 7 runs, 10 loops each)\n",
      "\n"
     ]
    }
   ],
   "source": [
    "from util import benchmark\n",
    "\n",
    "boardclass = ArrayBoard\n",
    "for count_linemark in [False, True]:\n",
    "    print(f\"boardclass: {boardclass.__name__}, count_linemark {count_linemark}\")\n",
    "    benchmark(mbparams={\"boardclass\": boardclass, \"count_linemark\": count_linemark})\n",
    "    print()"
   ]
  },
  {
   "cell_type": "code",
   "execution_count": 8,
   "id": "35265081",
   "metadata": {},
   "outputs": [
    {
     "name": "stdout",
     "output_type": "stream",
     "text": [
      "参照\n",
      "list\n",
      "22.6 ns ± 2.29 ns per loop (mean ± std. dev. of 7 runs, 10,000,000 loops each)\n",
      "array\n",
      "35.2 ns ± 1.47 ns per loop (mean ± std. dev. of 7 runs, 10,000,000 loops each)\n",
      "代入\n",
      "list\n",
      "22.9 ns ± 1.4 ns per loop (mean ± std. dev. of 7 runs, 10,000,000 loops each)\n",
      "array\n",
      "54.7 ns ± 0.967 ns per loop (mean ± std. dev. of 7 runs, 10,000,000 loops each)\n"
     ]
    }
   ],
   "source": [
    "l = [i for i in range(1000000)]\n",
    "a = array(\"i\", l) \n",
    "print(\"参照\")\n",
    "print(\"list\")\n",
    "%timeit l[0]\n",
    "print(\"array\")\n",
    "%timeit a[0]\n",
    "print(\"代入\")\n",
    "print(\"list\")\n",
    "%timeit l[0] = 1\n",
    "print(\"array\")\n",
    "%timeit a[0] = 1"
   ]
  },
  {
   "cell_type": "code",
   "execution_count": 9,
   "id": "81d26851",
   "metadata": {},
   "outputs": [
    {
     "name": "stdout",
     "output_type": "stream",
     "text": [
      "copy\n",
      "list\n",
      "9.47 ms ± 164 μs per loop (mean ± std. dev. of 7 runs, 100 loops each)\n",
      "array\n",
      "1.06 ms ± 22.1 μs per loop (mean ± std. dev. of 7 runs, 1,000 loops each)\n",
      "deepcopy\n",
      "list\n",
      "277 ms ± 12.4 ms per loop (mean ± std. dev. of 7 runs, 1 loop each)\n",
      "array\n",
      "1.09 ms ± 15.6 μs per loop (mean ± std. dev. of 7 runs, 1,000 loops each)\n"
     ]
    }
   ],
   "source": [
    "from copy import copy, deepcopy\n",
    "\n",
    "print(\"copy\")\n",
    "print(\"list\")\n",
    "%timeit copy(l)\n",
    "print(\"array\")\n",
    "%timeit copy(a)\n",
    "print(\"deepcopy\")\n",
    "print(\"list\")\n",
    "%timeit deepcopy(l)\n",
    "print(\"array\")\n",
    "%timeit deepcopy(a)"
   ]
  },
  {
   "cell_type": "code",
   "execution_count": 10,
   "id": "eed62cae",
   "metadata": {},
   "outputs": [
    {
     "name": "stdout",
     "output_type": "stream",
     "text": [
      "28\n"
     ]
    }
   ],
   "source": [
    "from sys import getsizeof\n",
    "\n",
    "print(getsizeof(1))"
   ]
  },
  {
   "cell_type": "code",
   "execution_count": 11,
   "id": "595275c0",
   "metadata": {},
   "outputs": [
    {
     "name": "stdout",
     "output_type": "stream",
     "text": [
      "list\n",
      "36448728\n",
      "array\n",
      "4000080\n"
     ]
    }
   ],
   "source": [
    "print(\"list\")\n",
    "size = getsizeof(l)\n",
    "for data in l:\n",
    "    size += getsizeof(data)\n",
    "print(size)\n",
    "print(\"array\")\n",
    "print(getsizeof(a))"
   ]
  },
  {
   "cell_type": "code",
   "execution_count": 12,
   "id": "980000c2",
   "metadata": {},
   "outputs": [],
   "source": [
    "import numpy as np"
   ]
  },
  {
   "cell_type": "code",
   "execution_count": 13,
   "id": "365b4235",
   "metadata": {},
   "outputs": [
    {
     "name": "stdout",
     "output_type": "stream",
     "text": [
      "2.3.2\n"
     ]
    }
   ],
   "source": [
    "print(np.__version__)"
   ]
  },
  {
   "cell_type": "code",
   "execution_count": 14,
   "id": "36cc89b4",
   "metadata": {},
   "outputs": [
    {
     "name": "stdout",
     "output_type": "stream",
     "text": [
      "[1, 2, 3]\n",
      "[1 2 3]\n",
      "[[1, 2], [3, 4], [5, 6]]\n",
      "[[1 2]\n",
      " [3 4]\n",
      " [5 6]]\n"
     ]
    }
   ],
   "source": [
    "lista = [1, 2, 3]\n",
    "listb = [[1, 2], [3, 4], [5, 6]]\n",
    "arraya = np.array(lista)\n",
    "arrayb = np.array(listb)\n",
    "print(lista)\n",
    "print(arraya)\n",
    "print(listb)\n",
    "print(arrayb)"
   ]
  },
  {
   "cell_type": "code",
   "execution_count": 15,
   "id": "32b90bb8",
   "metadata": {},
   "outputs": [
    {
     "name": "stdout",
     "output_type": "stream",
     "text": [
      "int64\n"
     ]
    }
   ],
   "source": [
    "print(arraya.dtype)"
   ]
  },
  {
   "cell_type": "code",
   "execution_count": 16,
   "id": "f8d95f28",
   "metadata": {},
   "outputs": [
    {
     "name": "stdout",
     "output_type": "stream",
     "text": [
      "1\n",
      "(3,)\n",
      "2\n",
      "(3, 2)\n"
     ]
    }
   ],
   "source": [
    "print(arraya.ndim)\n",
    "print(arraya.shape)\n",
    "print(arrayb.ndim)\n",
    "print(arrayb.shape)"
   ]
  },
  {
   "cell_type": "code",
   "execution_count": 17,
   "id": "eab44bc2",
   "metadata": {},
   "outputs": [
    {
     "name": "stdout",
     "output_type": "stream",
     "text": [
      "5\n",
      "[1, 2, 5]\n",
      "5\n",
      "[1 2 5]\n",
      "5\n",
      "[[1, 5], [3, 4], [5, 6]]\n",
      "5\n",
      "[[1 5]\n",
      " [3 4]\n",
      " [5 6]]\n"
     ]
    }
   ],
   "source": [
    "lista[2] = 5\n",
    "arraya[2] = 5\n",
    "print(lista[2])\n",
    "print(lista)\n",
    "print(arraya[2])\n",
    "print(arraya)\n",
    "listb[0][1] = 5\n",
    "arrayb[0][1] = 5\n",
    "print(listb[0][1])\n",
    "print(listb)\n",
    "print(arrayb[0][1])\n",
    "print(arrayb)"
   ]
  },
  {
   "cell_type": "code",
   "execution_count": 18,
   "id": "b8f1ce69",
   "metadata": {},
   "outputs": [],
   "source": [
    "from marubatsu import ListBoard\n",
    "\n",
    "class NpBoard(ListBoard):\n",
    "    def __init__(self, board_size=3, count_linemark=False):\n",
    "        self.BOARD_SIZE = board_size\n",
    "        self.count_linemark = count_linemark\n",
    "        self.board = np.array([[Marubatsu.EMPTY] * self.BOARD_SIZE for y in range(self.BOARD_SIZE)])\n",
    "        if self.count_linemark:\n",
    "            self.rowcount = {\n",
    "                Marubatsu.CIRCLE: [0] * self.BOARD_SIZE,\n",
    "                Marubatsu.CROSS: [0] * self.BOARD_SIZE,\n",
    "            }\n",
    "            self.colcount = {\n",
    "                Marubatsu.CIRCLE: [0] * self.BOARD_SIZE,\n",
    "                Marubatsu.CROSS: [0] * self.BOARD_SIZE,\n",
    "            }\n",
    "            self.diacount = {\n",
    "                Marubatsu.CIRCLE: [0] * 2,\n",
    "                Marubatsu.CROSS: [0] * 2,\n",
    "            }"
   ]
  },
  {
   "cell_type": "code",
   "execution_count": 19,
   "id": "ee158381",
   "metadata": {},
   "outputs": [
    {
     "name": "stdout",
     "output_type": "stream",
     "text": [
      "[['.' '.' '.']\n",
      " ['.' '.' '.']\n",
      " ['.' '.' '.']]\n",
      "<U1\n",
      "2\n",
      "(3, 3)\n"
     ]
    }
   ],
   "source": [
    "npb = NpBoard()\n",
    "print(npb.board)\n",
    "print(npb.board.dtype)\n",
    "print(npb.board.ndim)\n",
    "print(npb.board.shape)"
   ]
  },
  {
   "cell_type": "code",
   "execution_count": 20,
   "id": "41ea42f9",
   "metadata": {},
   "outputs": [
    {
     "name": "stdout",
     "output_type": "stream",
     "text": [
      "boardclass: NpBoard, count_linemark False\n",
      "ai2 VS ai2\n"
     ]
    },
    {
     "name": "stderr",
     "output_type": "stream",
     "text": [
      "100%|██████████| 50000/50000 [00:08<00:00, 5924.49it/s]\n"
     ]
    },
    {
     "name": "stdout",
     "output_type": "stream",
     "text": [
      "count     win    lose    draw\n",
      "o       29454   14352    6194\n",
      "x       14208   29592    6200\n",
      "total   43662   43944   12394\n",
      "\n",
      "ratio     win    lose    draw\n",
      "o       58.9%   28.7%   12.4%\n",
      "x       28.4%   59.2%   12.4%\n",
      "total   43.7%   43.9%   12.4%\n",
      "\n",
      "ai14s VS ai2\n"
     ]
    },
    {
     "name": "stderr",
     "output_type": "stream",
     "text": [
      "100%|██████████| 50000/50000 [01:18<00:00, 633.71it/s]\n"
     ]
    },
    {
     "name": "stdout",
     "output_type": "stream",
     "text": [
      "count     win    lose    draw\n",
      "o       49446       0     554\n",
      "x       44043       0    5957\n",
      "total   93489       0    6511\n",
      "\n",
      "ratio     win    lose    draw\n",
      "o       98.9%    0.0%    1.1%\n",
      "x       88.1%    0.0%   11.9%\n",
      "total   93.5%    0.0%    6.5%\n",
      "\n",
      "ai_abs_dls\n",
      " 42.9 ms ±   1.5 ms per loop (mean ± std. dev. of 7 runs, 10 loops each)\n",
      "\n",
      "boardclass: NpBoard, count_linemark True\n",
      "ai2 VS ai2\n"
     ]
    },
    {
     "name": "stderr",
     "output_type": "stream",
     "text": [
      "100%|██████████| 50000/50000 [00:07<00:00, 6832.91it/s]\n"
     ]
    },
    {
     "name": "stdout",
     "output_type": "stream",
     "text": [
      "count     win    lose    draw\n",
      "o       29454   14352    6194\n",
      "x       14208   29592    6200\n",
      "total   43662   43944   12394\n",
      "\n",
      "ratio     win    lose    draw\n",
      "o       58.9%   28.7%   12.4%\n",
      "x       28.4%   59.2%   12.4%\n",
      "total   43.7%   43.9%   12.4%\n",
      "\n",
      "ai14s VS ai2\n"
     ]
    },
    {
     "name": "stderr",
     "output_type": "stream",
     "text": [
      "100%|██████████| 50000/50000 [00:33<00:00, 1475.99it/s]\n"
     ]
    },
    {
     "name": "stdout",
     "output_type": "stream",
     "text": [
      "count     win    lose    draw\n",
      "o       49446       0     554\n",
      "x       44043       0    5957\n",
      "total   93489       0    6511\n",
      "\n",
      "ratio     win    lose    draw\n",
      "o       98.9%    0.0%    1.1%\n",
      "x       88.1%    0.0%   11.9%\n",
      "total   93.5%    0.0%    6.5%\n",
      "\n",
      "ai_abs_dls\n",
      " 43.1 ms ±   1.9 ms per loop (mean ± std. dev. of 7 runs, 10 loops each)\n",
      "\n"
     ]
    }
   ],
   "source": [
    "boardclass = NpBoard\n",
    "for count_linemark in [False, True]:\n",
    "    print(f\"boardclass: {boardclass.__name__}, count_linemark {count_linemark}\")\n",
    "    benchmark(mbparams={\"boardclass\": boardclass, \"count_linemark\": count_linemark})\n",
    "    print()"
   ]
  },
  {
   "cell_type": "code",
   "execution_count": 21,
   "id": "430ea738",
   "metadata": {},
   "outputs": [
    {
     "name": "stdout",
     "output_type": "stream",
     "text": [
      "参照\n",
      "list\n",
      "23.1 ns ± 1.49 ns per loop (mean ± std. dev. of 7 runs, 10,000,000 loops each)\n",
      "array\n",
      "36.2 ns ± 1.5 ns per loop (mean ± std. dev. of 7 runs, 10,000,000 loops each)\n",
      "numpy\n",
      "72.3 ns ± 2.29 ns per loop (mean ± std. dev. of 7 runs, 10,000,000 loops each)\n",
      "代入\n",
      "list\n",
      "22.5 ns ± 0.176 ns per loop (mean ± std. dev. of 7 runs, 10,000,000 loops each)\n",
      "array\n",
      "57.9 ns ± 2.81 ns per loop (mean ± std. dev. of 7 runs, 10,000,000 loops each)\n",
      "numpy\n",
      "69.5 ns ± 1.49 ns per loop (mean ± std. dev. of 7 runs, 10,000,000 loops each)\n"
     ]
    }
   ],
   "source": [
    "n = np.array(l)\n",
    "print(\"参照\")\n",
    "print(\"list\")\n",
    "%timeit l[0]\n",
    "print(\"array\")\n",
    "%timeit a[0]\n",
    "print(\"numpy\")\n",
    "%timeit n[0]\n",
    "print(\"代入\")\n",
    "print(\"list\")\n",
    "%timeit l[0] = 1\n",
    "print(\"array\")\n",
    "%timeit a[0] = 1\n",
    "print(\"numpy\")\n",
    "%timeit n[0] = 1"
   ]
  }
 ],
 "metadata": {
  "kernelspec": {
   "display_name": "marubatsu313",
   "language": "python",
   "name": "python3"
  },
  "language_info": {
   "codemirror_mode": {
    "name": "ipython",
    "version": 3
   },
   "file_extension": ".py",
   "mimetype": "text/x-python",
   "name": "python",
   "nbconvert_exporter": "python",
   "pygments_lexer": "ipython3",
   "version": "3.13.5"
  }
 },
 "nbformat": 4,
 "nbformat_minor": 5
}
