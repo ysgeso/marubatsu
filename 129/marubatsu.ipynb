{
 "cells": [
  {
   "cell_type": "code",
   "execution_count": 1,
   "metadata": {},
   "outputs": [],
   "source": [
    "from datetime import datetime\n",
    "\n",
    "def create_show_time(func):\n",
    "    def show_time(*args, **kwargs):\n",
    "        starttime = datetime.now()\n",
    "        retval = func(*args, **kwargs)\n",
    "        endtime = datetime.now()\n",
    "        print(endtime - starttime)\n",
    "        return retval\n",
    "    \n",
    "    return show_time"
   ]
  },
  {
   "cell_type": "code",
   "execution_count": 2,
   "metadata": {},
   "outputs": [
    {
     "name": "stdout",
     "output_type": "stream",
     "text": [
      "0:00:00\n",
      "30\n"
     ]
    }
   ],
   "source": [
    "sum_show_time = create_show_time(sum)\n",
    "print(sum_show_time([10, 20]))"
   ]
  },
  {
   "cell_type": "code",
   "execution_count": 3,
   "metadata": {},
   "outputs": [],
   "source": [
    "@create_show_time\n",
    "def add_1(x):\n",
    "    return x + 1"
   ]
  },
  {
   "cell_type": "code",
   "execution_count": 4,
   "metadata": {},
   "outputs": [
    {
     "name": "stdout",
     "output_type": "stream",
     "text": [
      "0:00:00\n",
      "2\n"
     ]
    }
   ],
   "source": [
    "print(add_1(1))"
   ]
  },
  {
   "cell_type": "code",
   "execution_count": 5,
   "metadata": {},
   "outputs": [
    {
     "ename": "TypeError",
     "evalue": "decorator_error1() takes 0 positional arguments but 1 was given",
     "output_type": "error",
     "traceback": [
      "\u001b[1;31m---------------------------------------------------------------------------\u001b[0m",
      "\u001b[1;31mTypeError\u001b[0m                                 Traceback (most recent call last)",
      "Cell \u001b[1;32mIn[5], line 4\u001b[0m\n\u001b[0;32m      1\u001b[0m \u001b[38;5;28;01mdef\u001b[39;00m \u001b[38;5;21mdecorator_error1\u001b[39m():\n\u001b[0;32m      2\u001b[0m     \u001b[38;5;28;01mpass\u001b[39;00m\n\u001b[1;32m----> 4\u001b[0m \u001b[38;5;129m@decorator_error1\u001b[39m\n\u001b[0;32m      5\u001b[0m \u001b[38;5;28;01mdef\u001b[39;00m \u001b[38;5;21madd_1\u001b[39m(x):\n\u001b[0;32m      6\u001b[0m     \u001b[38;5;28;01mreturn\u001b[39;00m x \u001b[38;5;241m+\u001b[39m \u001b[38;5;241m1\u001b[39m\n",
      "\u001b[1;31mTypeError\u001b[0m: decorator_error1() takes 0 positional arguments but 1 was given"
     ]
    }
   ],
   "source": [
    "def decorator_error1():\n",
    "    pass\n",
    "\n",
    "@decorator_error1\n",
    "def add_1(x):\n",
    "    return x + 1"
   ]
  },
  {
   "cell_type": "code",
   "execution_count": 6,
   "metadata": {},
   "outputs": [
    {
     "ename": "TypeError",
     "evalue": "decorator_error2() missing 1 required positional argument: 'g'",
     "output_type": "error",
     "traceback": [
      "\u001b[1;31m---------------------------------------------------------------------------\u001b[0m",
      "\u001b[1;31mTypeError\u001b[0m                                 Traceback (most recent call last)",
      "Cell \u001b[1;32mIn[6], line 4\u001b[0m\n\u001b[0;32m      1\u001b[0m \u001b[38;5;28;01mdef\u001b[39;00m \u001b[38;5;21mdecorator_error2\u001b[39m(f, g):\n\u001b[0;32m      2\u001b[0m     \u001b[38;5;28;01mpass\u001b[39;00m\n\u001b[1;32m----> 4\u001b[0m \u001b[38;5;129m@decorator_error2\u001b[39m\n\u001b[0;32m      5\u001b[0m \u001b[38;5;28;01mdef\u001b[39;00m \u001b[38;5;21madd_1\u001b[39m(x):\n\u001b[0;32m      6\u001b[0m     \u001b[38;5;28;01mreturn\u001b[39;00m x \u001b[38;5;241m+\u001b[39m \u001b[38;5;241m1\u001b[39m\n",
      "\u001b[1;31mTypeError\u001b[0m: decorator_error2() missing 1 required positional argument: 'g'"
     ]
    }
   ],
   "source": [
    "def decorator_error2(f, g):\n",
    "    pass\n",
    "\n",
    "@decorator_error2\n",
    "def add_1(x):\n",
    "    return x + 1"
   ]
  },
  {
   "cell_type": "code",
   "execution_count": 7,
   "metadata": {},
   "outputs": [],
   "source": [
    "def decorator_error3(func):\n",
    "    return 1\n",
    "\n",
    "@decorator_error3\n",
    "def add_1(x):\n",
    "    return x + 1"
   ]
  },
  {
   "cell_type": "code",
   "execution_count": 8,
   "metadata": {},
   "outputs": [
    {
     "ename": "TypeError",
     "evalue": "'int' object is not callable",
     "output_type": "error",
     "traceback": [
      "\u001b[1;31m---------------------------------------------------------------------------\u001b[0m",
      "\u001b[1;31mTypeError\u001b[0m                                 Traceback (most recent call last)",
      "Cell \u001b[1;32mIn[8], line 1\u001b[0m\n\u001b[1;32m----> 1\u001b[0m \u001b[38;5;28mprint\u001b[39m(add_1(\u001b[38;5;241m1\u001b[39m))\n",
      "\u001b[1;31mTypeError\u001b[0m: 'int' object is not callable"
     ]
    }
   ],
   "source": [
    "print(add_1(1))"
   ]
  },
  {
   "cell_type": "code",
   "execution_count": 9,
   "metadata": {},
   "outputs": [
    {
     "name": "stdout",
     "output_type": "stream",
     "text": [
      "1\n"
     ]
    }
   ],
   "source": [
    "print(add_1)"
   ]
  },
  {
   "cell_type": "code",
   "execution_count": 10,
   "metadata": {},
   "outputs": [],
   "source": [
    "def add_1(x):\n",
    "    \"\"\"1 を足して返す\n",
    "    \n",
    "    Args:\n",
    "        x: 加算する値\n",
    "    \n",
    "    Returns:\n",
    "        x + 1 の値\n",
    "    \"\"\"\n",
    "\n",
    "    return x + 1"
   ]
  },
  {
   "cell_type": "code",
   "execution_count": 11,
   "metadata": {},
   "outputs": [
    {
     "name": "stdout",
     "output_type": "stream",
     "text": [
      "Help on function add_1 in module __main__:\n",
      "\n",
      "add_1(x)\n",
      "    1 を足して返す\n",
      "    \n",
      "    Args:\n",
      "        x: 加算する値\n",
      "    \n",
      "    Returns:\n",
      "        x + 1 の値\n",
      "\n"
     ]
    }
   ],
   "source": [
    "help(add_1)"
   ]
  },
  {
   "cell_type": "code",
   "execution_count": 12,
   "metadata": {},
   "outputs": [],
   "source": [
    "def create_show_time(func):\n",
    "    def show_time(*args, **kwargs):\n",
    "        \"\"\"ラップする関数の処理時間を表示するラッパー関数\"\"\"\n",
    "        \n",
    "        starttime = datetime.now()\n",
    "        retval = func(*args, **kwargs)\n",
    "        endtime = datetime.now()\n",
    "        print(endtime - starttime)\n",
    "        return retval\n",
    "    \n",
    "    return show_time"
   ]
  },
  {
   "cell_type": "code",
   "execution_count": 13,
   "metadata": {},
   "outputs": [],
   "source": [
    "@create_show_time\n",
    "def add_1(x):\n",
    "    \"\"\"1 を足して返す\n",
    "    \n",
    "    Args:\n",
    "        x: 加算する値\n",
    "    \n",
    "    Returns:\n",
    "        x + 1 の値\n",
    "    \"\"\"\n",
    "    \n",
    "    return x + 1"
   ]
  },
  {
   "cell_type": "code",
   "execution_count": 14,
   "metadata": {},
   "outputs": [
    {
     "name": "stdout",
     "output_type": "stream",
     "text": [
      "Help on function show_time in module __main__:\n",
      "\n",
      "show_time(*args, **kwargs)\n",
      "    ラップする関数の処理時間を表示するラッパー関数\n",
      "\n"
     ]
    }
   ],
   "source": [
    "help(add_1)"
   ]
  },
  {
   "cell_type": "code",
   "execution_count": 15,
   "metadata": {},
   "outputs": [
    {
     "name": "stdout",
     "output_type": "stream",
     "text": [
      "show_time\n"
     ]
    }
   ],
   "source": [
    "print(add_1.__name__)"
   ]
  },
  {
   "cell_type": "code",
   "execution_count": 16,
   "metadata": {},
   "outputs": [],
   "source": [
    "from functools import wraps\n",
    "\n",
    "def create_show_time(func):\n",
    "    @wraps(func)\n",
    "    def show_time(*args, **kwargs):\n",
    "        \"\"\"ラップする関数の処理時間を表示するラッパー関数\"\"\"\n",
    "        \n",
    "        starttime = datetime.now()\n",
    "        retval = func(*args, **kwargs)\n",
    "        endtime = datetime.now()\n",
    "        print(endtime - starttime)\n",
    "        return retval\n",
    "    \n",
    "    return show_time"
   ]
  },
  {
   "cell_type": "code",
   "execution_count": 17,
   "metadata": {},
   "outputs": [],
   "source": [
    "@create_show_time\n",
    "def add_1(x):\n",
    "    \"\"\"1 を足して返す\n",
    "    \n",
    "    Args:\n",
    "        x: 加算する値\n",
    "    \n",
    "    Returns:\n",
    "        x + 1 の値\n",
    "    \"\"\"\n",
    "    \n",
    "    return x + 1"
   ]
  },
  {
   "cell_type": "code",
   "execution_count": 18,
   "metadata": {},
   "outputs": [
    {
     "name": "stdout",
     "output_type": "stream",
     "text": [
      "Help on function add_1 in module __main__:\n",
      "\n",
      "add_1(x)\n",
      "    1 を足して返す\n",
      "    \n",
      "    Args:\n",
      "        x: 加算する値\n",
      "    \n",
      "    Returns:\n",
      "        x + 1 の値\n",
      "\n"
     ]
    }
   ],
   "source": [
    "help(add_1)"
   ]
  },
  {
   "cell_type": "code",
   "execution_count": 19,
   "metadata": {},
   "outputs": [
    {
     "name": "stdout",
     "output_type": "stream",
     "text": [
      "add_1\n"
     ]
    }
   ],
   "source": [
    "print(add_1.__name__)"
   ]
  },
  {
   "cell_type": "code",
   "execution_count": 20,
   "metadata": {},
   "outputs": [],
   "source": [
    "def decorator_sum(func):\n",
    "    return sum"
   ]
  },
  {
   "cell_type": "code",
   "execution_count": 21,
   "metadata": {},
   "outputs": [],
   "source": [
    "@decorator_sum\n",
    "def add_1(x):\n",
    "    return x + 1"
   ]
  },
  {
   "cell_type": "code",
   "execution_count": 22,
   "metadata": {},
   "outputs": [
    {
     "data": {
      "text/plain": [
       "30"
      ]
     },
     "execution_count": 22,
     "metadata": {},
     "output_type": "execute_result"
    }
   ],
   "source": [
    "add_1([10, 20])"
   ]
  },
  {
   "cell_type": "code",
   "execution_count": 23,
   "metadata": {},
   "outputs": [],
   "source": [
    "def decorator_arg10(func):\n",
    "    def wrapper(*args, **kwargs):\n",
    "        return func(10)\n",
    "    return wrapper"
   ]
  },
  {
   "cell_type": "code",
   "execution_count": 24,
   "metadata": {},
   "outputs": [],
   "source": [
    "@decorator_arg10\n",
    "def add_1(x):\n",
    "    return x + 1"
   ]
  },
  {
   "cell_type": "code",
   "execution_count": 25,
   "metadata": {},
   "outputs": [
    {
     "name": "stdout",
     "output_type": "stream",
     "text": [
      "11\n",
      "11\n"
     ]
    }
   ],
   "source": [
    "print(add_1(1))\n",
    "print(add_1(100))"
   ]
  },
  {
   "cell_type": "code",
   "execution_count": 26,
   "metadata": {},
   "outputs": [],
   "source": [
    "def decorator_ret10(func):\n",
    "    def wrapper(*args, **kwargs):\n",
    "        return 10\n",
    "    return wrapper"
   ]
  },
  {
   "cell_type": "code",
   "execution_count": 27,
   "metadata": {},
   "outputs": [
    {
     "name": "stdout",
     "output_type": "stream",
     "text": [
      "10\n",
      "10\n"
     ]
    }
   ],
   "source": [
    "@decorator_ret10\n",
    "def add_1(x):\n",
    "    return x + 1\n",
    "\n",
    "print(add_1(1))\n",
    "print(add_1(100))"
   ]
  },
  {
   "cell_type": "code",
   "execution_count": 28,
   "metadata": {},
   "outputs": [],
   "source": [
    "class A:\n",
    "    def __init__(self):\n",
    "        self.x = 1\n",
    "        \n",
    "    @create_show_time\n",
    "    def add_1(self):\n",
    "        self.x += 1\n",
    "        print(self.x)"
   ]
  },
  {
   "cell_type": "code",
   "execution_count": 29,
   "metadata": {},
   "outputs": [
    {
     "name": "stdout",
     "output_type": "stream",
     "text": [
      "2\n",
      "0:00:00\n"
     ]
    }
   ],
   "source": [
    "a = A()\n",
    "a.add_1()"
   ]
  },
  {
   "cell_type": "code",
   "execution_count": null,
   "metadata": {},
   "outputs": [],
   "source": []
  },
  {
   "cell_type": "code",
   "execution_count": null,
   "metadata": {},
   "outputs": [],
   "source": []
  },
  {
   "cell_type": "code",
   "execution_count": null,
   "metadata": {},
   "outputs": [],
   "source": []
  },
  {
   "cell_type": "code",
   "execution_count": null,
   "metadata": {},
   "outputs": [],
   "source": []
  },
  {
   "cell_type": "code",
   "execution_count": null,
   "metadata": {},
   "outputs": [],
   "source": []
  },
  {
   "cell_type": "code",
   "execution_count": null,
   "metadata": {},
   "outputs": [],
   "source": []
  },
  {
   "cell_type": "code",
   "execution_count": null,
   "metadata": {},
   "outputs": [],
   "source": []
  }
 ],
 "metadata": {
  "kernelspec": {
   "display_name": "marubatsu",
   "language": "python",
   "name": "python3"
  },
  "language_info": {
   "codemirror_mode": {
    "name": "ipython",
    "version": 3
   },
   "file_extension": ".py",
   "mimetype": "text/x-python",
   "name": "python",
   "nbconvert_exporter": "python",
   "pygments_lexer": "ipython3",
   "version": "3.11.4"
  }
 },
 "nbformat": 4,
 "nbformat_minor": 2
}
