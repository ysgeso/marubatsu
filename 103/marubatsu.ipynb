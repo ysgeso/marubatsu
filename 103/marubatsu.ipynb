{
 "cells": [
  {
   "cell_type": "code",
   "execution_count": 1,
   "metadata": {},
   "outputs": [],
   "source": [
    "def fib_by_tr(n):\n",
    "    if n == 0:\n",
    "        return 0\n",
    "    elif n == 1:\n",
    "        return 1   \n",
    "        \n",
    "    return fib_by_tr(n - 1) + fib_by_tr(n - 2)"
   ]
  },
  {
   "cell_type": "code",
   "execution_count": 2,
   "metadata": {},
   "outputs": [],
   "source": [
    "def fib_by_f(n):\n",
    "    if n == 0:\n",
    "        return 0\n",
    "    elif n == 1:\n",
    "        return 1\n",
    "    \n",
    "    fib_p2 = 0\n",
    "    fib_p1 = 1\n",
    "    for i in range(2, n + 1):\n",
    "        fib = fib_p1 + fib_p2\n",
    "        fib_p2 = fib_p1\n",
    "        fib_p1 = fib\n",
    "    return fib"
   ]
  },
  {
   "cell_type": "code",
   "execution_count": 3,
   "metadata": {},
   "outputs": [
    {
     "name": "stdout",
     "output_type": "stream",
     "text": [
      "fib(0) = 0, 0\n",
      "fib(1) = 1, 1\n",
      "fib(2) = 1, 1\n",
      "fib(3) = 2, 2\n",
      "fib(4) = 3, 3\n",
      "fib(5) = 5, 5\n",
      "fib(6) = 8, 8\n",
      "fib(7) = 13, 13\n",
      "fib(8) = 21, 21\n",
      "fib(9) = 34, 34\n"
     ]
    }
   ],
   "source": [
    "for i in range(10):\n",
    "    print(f\"fib({i}) = {fib_by_f(i)}, {fib_by_tr(i)}\")"
   ]
  },
  {
   "cell_type": "code",
   "execution_count": 4,
   "metadata": {},
   "outputs": [],
   "source": [
    "def fib_by_br(n, i=2, fib_p1=1, fib_p2=0):\n",
    "    if n == 0:\n",
    "        return 0\n",
    "    elif n == 1:\n",
    "        return 1\n",
    "    \n",
    "    if i <= n:\n",
    "        return fib_by_br(n, i + 1, fib_p1 + fib_p2, fib_p1)\n",
    "    else:\n",
    "        return fib_p1"
   ]
  },
  {
   "cell_type": "code",
   "execution_count": 5,
   "metadata": {},
   "outputs": [
    {
     "name": "stdout",
     "output_type": "stream",
     "text": [
      "102334155\n"
     ]
    }
   ],
   "source": [
    "print(fib_by_tr(40))"
   ]
  },
  {
   "cell_type": "code",
   "execution_count": 6,
   "metadata": {},
   "outputs": [
    {
     "name": "stdout",
     "output_type": "stream",
     "text": [
      "102334155\n",
      "102334155\n"
     ]
    }
   ],
   "source": [
    "print(fib_by_f(40))\n",
    "print(fib_by_br(40))"
   ]
  },
  {
   "cell_type": "code",
   "execution_count": 7,
   "metadata": {},
   "outputs": [],
   "source": [
    "def fib_by_tr(n, depth=0):\n",
    "    indent = \"  \" * depth\n",
    "    if n == 0:\n",
    "        print(f\"{indent}fib(0) = 0\")\n",
    "        return 0\n",
    "    elif n == 1:\n",
    "        print(f\"{indent}fib(1) = 1\")\n",
    "        return 1   \n",
    "    print(f\"{indent}fib({n}) = fib({n - 1}) + fib({n - 2})\")\n",
    "    r1 = fib_by_tr(n - 1, depth + 1)\n",
    "    print(f\"{indent}fib({n}) = {r1} + fib({n - 2})\")\n",
    "    r2 = fib_by_tr(n - 2, depth + 1)\n",
    "    retval = r1 + r2\n",
    "    print(f\"{indent}fib({n}) = {r1} + {r2} = {retval}\")\n",
    "    return retval"
   ]
  },
  {
   "cell_type": "code",
   "execution_count": 8,
   "metadata": {},
   "outputs": [
    {
     "name": "stdout",
     "output_type": "stream",
     "text": [
      "fib(4) = fib(3) + fib(2)\n",
      "  fib(3) = fib(2) + fib(1)\n",
      "    fib(2) = fib(1) + fib(0)\n",
      "      fib(1) = 1\n",
      "    fib(2) = 1 + fib(0)\n",
      "      fib(0) = 0\n",
      "    fib(2) = 1 + 0 = 1\n",
      "  fib(3) = 1 + fib(1)\n",
      "    fib(1) = 1\n",
      "  fib(3) = 1 + 1 = 2\n",
      "fib(4) = 2 + fib(2)\n",
      "  fib(2) = fib(1) + fib(0)\n",
      "    fib(1) = 1\n",
      "  fib(2) = 1 + fib(0)\n",
      "    fib(0) = 0\n",
      "  fib(2) = 1 + 0 = 1\n",
      "fib(4) = 2 + 1 = 3\n",
      "3\n"
     ]
    }
   ],
   "source": [
    "print(fib_by_tr(4))"
   ]
  },
  {
   "cell_type": "code",
   "execution_count": 9,
   "metadata": {},
   "outputs": [
    {
     "data": {
      "image/png": "[encoded data removed]",
      "text/plain": [
       "<Figure size 640x480 with 1 Axes>"
      ]
     },
     "metadata": {},
     "output_type": "display_data"
    }
   ],
   "source": [
    "import matplotlib.pyplot as plt\n",
    "import japanize_matplotlib\n",
    "\n",
    "x_list = [x for x in range(10)]\n",
    "exp2_list = [ 2 ** x  for x in range(10)]\n",
    "exp3_list = [ 3 ** x  for x in range(10)]\n",
    "\n",
    "plt.plot(x_list, x_list, label=\"$y=x$\")\n",
    "plt.plot(x_list, exp2_list, label=\"$y=2^x$\")\n",
    "plt.plot(x_list, exp3_list, label=\"$y=3^x$\")\n",
    "plt.ylim(0, 1000)\n",
    "plt.legend()\n",
    "plt.show()"
   ]
  },
  {
   "cell_type": "code",
   "execution_count": 10,
   "metadata": {},
   "outputs": [
    {
     "name": "stdout",
     "output_type": "stream",
     "text": [
      "33644764876431783266621612005107543310302148460680063906564769974680081442166662368155595513633734025582065332680836159373734790483865268263040892463056431887354544369559827491606602099884183933864652731300088830269235673613135117579297437854413752130520504347701602264758318906527890855154366159582987279682987510631200575428783453215515103870818298969791613127856265033195487140214287532698187962046936097879900350962302291026368131493195275630227837628441540360584402572114334961180023091208287046088923962328835461505776583271252546093591128203925285393434620904245248929403901706233888991085841065183173360437470737908552631764325733993712871937587746897479926305837065742830161637408969178426378624212835258112820516370298089332099905707920064367426202389783111470054074998459250360633560933883831923386783056136435351892133279732908133732642652633989763922723407882928177953580570993691049175470808931841056146322338217465637321248226383092103297701648054726243842374862411453093812206564914032751086643394517512161526545361333111314042436854805106765843493523836959653428071768775328348234345557366719731392746273629108210679280784718035329131176778924659089938635459327894523777674406192240337638674004021330343297496902028328145933418826817683893072003634795623117103101291953169794607632737589253530772552375943788434504067715555779056450443016640119462580972216729758615026968443146952034614932291105970676243268515992834709891284706740862008587135016260312071903172086094081298321581077282076353186624611278245537208532365305775956430072517744315051539600905168603220349163222640885248852433158051534849622434848299380905070483482449327453732624567755879089187190803662058009594743150052402532709746995318770724376825907419939632265984147498193609285223945039707165443156421328157688908058783183404917434556270520223564846495196112460268313970975069382648706613264507665074611512677522748621598642530711298441182622661057163515069260029861704945425047491378115154139941550671256271197133252763631939606902895650288268608362241082050562430701794976171121233066073310059947366875\n"
     ]
    }
   ],
   "source": [
    "print(fib_by_f(10000))"
   ]
  },
  {
   "cell_type": "code",
   "execution_count": 11,
   "metadata": {},
   "outputs": [],
   "source": [
    "def fib_by_tr(n, depth=0, memo={}):\n",
    "    indent = \"  \" * depth\n",
    "    if n == 0:\n",
    "        print(f\"{indent}fib(0) = 0\")\n",
    "        return 0\n",
    "    elif n == 1:\n",
    "        print(f\"{indent}fib(1) = 1\")\n",
    "        return 1   \n",
    "    if n in memo:\n",
    "        print(f\"{indent}fib({n}) = {memo[n]} (memo)\")\n",
    "        return memo[n]\n",
    "    print(f\"{indent}fib({n}) = fib({n - 1}) + fib({n - 2})\")\n",
    "    r1 = fib_by_tr(n - 1, depth + 1, memo=memo)\n",
    "    print(f\"{indent}fib({n}) = {r1} + fib({n - 2})\")\n",
    "    r2 = fib_by_tr(n - 2, depth + 1, memo=memo)\n",
    "    retval = r1 + r2\n",
    "    print(f\"{indent}fib({n}) = {r1} + {r2} = {retval}\")\n",
    "    memo[n] = retval\n",
    "    return retval"
   ]
  },
  {
   "cell_type": "code",
   "execution_count": 12,
   "metadata": {},
   "outputs": [
    {
     "name": "stdout",
     "output_type": "stream",
     "text": [
      "fib(4) = fib(3) + fib(2)\n",
      "  fib(3) = fib(2) + fib(1)\n",
      "    fib(2) = fib(1) + fib(0)\n",
      "      fib(1) = 1\n",
      "    fib(2) = 1 + fib(0)\n",
      "      fib(0) = 0\n",
      "    fib(2) = 1 + 0 = 1\n",
      "  fib(3) = 1 + fib(1)\n",
      "    fib(1) = 1\n",
      "  fib(3) = 1 + 1 = 2\n",
      "fib(4) = 2 + fib(2)\n",
      "  fib(2) = 1 (memo)\n",
      "fib(4) = 2 + 1 = 3\n",
      "3\n"
     ]
    }
   ],
   "source": [
    "print(fib_by_tr(4))"
   ]
  },
  {
   "cell_type": "code",
   "execution_count": 13,
   "metadata": {},
   "outputs": [
    {
     "name": "stdout",
     "output_type": "stream",
     "text": [
      "fib(40) = fib(39) + fib(38)\n",
      "  fib(39) = fib(38) + fib(37)\n",
      "    fib(38) = fib(37) + fib(36)\n",
      "      fib(37) = fib(36) + fib(35)\n",
      "        fib(36) = fib(35) + fib(34)\n",
      "          fib(35) = fib(34) + fib(33)\n",
      "            fib(34) = fib(33) + fib(32)\n",
      "              fib(33) = fib(32) + fib(31)\n",
      "                fib(32) = fib(31) + fib(30)\n",
      "                  fib(31) = fib(30) + fib(29)\n",
      "                    fib(30) = fib(29) + fib(28)\n",
      "                      fib(29) = fib(28) + fib(27)\n",
      "                        fib(28) = fib(27) + fib(26)\n",
      "                          fib(27) = fib(26) + fib(25)\n",
      "                            fib(26) = fib(25) + fib(24)\n",
      "                              fib(25) = fib(24) + fib(23)\n",
      "                                fib(24) = fib(23) + fib(22)\n",
      "                                  fib(23) = fib(22) + fib(21)\n",
      "                                    fib(22) = fib(21) + fib(20)\n",
      "                                      fib(21) = fib(20) + fib(19)\n",
      "                                        fib(20) = fib(19) + fib(18)\n",
      "                                          fib(19) = fib(18) + fib(17)\n",
      "                                            fib(18) = fib(17) + fib(16)\n",
      "                                              fib(17) = fib(16) + fib(15)\n",
      "                                                fib(16) = fib(15) + fib(14)\n",
      "                                                  fib(15) = fib(14) + fib(13)\n",
      "                                                    fib(14) = fib(13) + fib(12)\n",
      "                                                      fib(13) = fib(12) + fib(11)\n",
      "                                                        fib(12) = fib(11) + fib(10)\n",
      "                                                          fib(11) = fib(10) + fib(9)\n",
      "                                                            fib(10) = fib(9) + fib(8)\n",
      "                                                              fib(9) = fib(8) + fib(7)\n",
      "                                                                fib(8) = fib(7) + fib(6)\n",
      "                                                                  fib(7) = fib(6) + fib(5)\n",
      "                                                                    fib(6) = fib(5) + fib(4)\n",
      "                                                                      fib(5) = fib(4) + fib(3)\n",
      "                                                                        fib(4) = 3 (memo)\n",
      "                                                                      fib(5) = 3 + fib(3)\n",
      "                                                                        fib(3) = 2 (memo)\n",
      "                                                                      fib(5) = 3 + 2 = 5\n",
      "                                                                    fib(6) = 5 + fib(4)\n",
      "                                                                      fib(4) = 3 (memo)\n",
      "                                                                    fib(6) = 5 + 3 = 8\n",
      "                                                                  fib(7) = 8 + fib(5)\n",
      "                                                                    fib(5) = 5 (memo)\n",
      "                                                                  fib(7) = 8 + 5 = 13\n",
      "                                                                fib(8) = 13 + fib(6)\n",
      "                                                                  fib(6) = 8 (memo)\n",
      "                                                                fib(8) = 13 + 8 = 21\n",
      "                                                              fib(9) = 21 + fib(7)\n",
      "                                                                fib(7) = 13 (memo)\n",
      "                                                              fib(9) = 21 + 13 = 34\n",
      "                                                            fib(10) = 34 + fib(8)\n",
      "                                                              fib(8) = 21 (memo)\n",
      "                                                            fib(10) = 34 + 21 = 55\n",
      "                                                          fib(11) = 55 + fib(9)\n",
      "                                                            fib(9) = 34 (memo)\n",
      "                                                          fib(11) = 55 + 34 = 89\n",
      "                                                        fib(12) = 89 + fib(10)\n",
      "                                                          fib(10) = 55 (memo)\n",
      "                                                        fib(12) = 89 + 55 = 144\n",
      "                                                      fib(13) = 144 + fib(11)\n",
      "                                                        fib(11) = 89 (memo)\n",
      "                                                      fib(13) = 144 + 89 = 233\n",
      "                                                    fib(14) = 233 + fib(12)\n",
      "                                                      fib(12) = 144 (memo)\n",
      "                                                    fib(14) = 233 + 144 = 377\n",
      "                                                  fib(15) = 377 + fib(13)\n",
      "                                                    fib(13) = 233 (memo)\n",
      "                                                  fib(15) = 377 + 233 = 610\n",
      "                                                fib(16) = 610 + fib(14)\n",
      "                                                  fib(14) = 377 (memo)\n",
      "                                                fib(16) = 610 + 377 = 987\n",
      "                                              fib(17) = 987 + fib(15)\n",
      "                                                fib(15) = 610 (memo)\n",
      "                                              fib(17) = 987 + 610 = 1597\n",
      "                                            fib(18) = 1597 + fib(16)\n",
      "                                              fib(16) = 987 (memo)\n",
      "                                            fib(18) = 1597 + 987 = 2584\n",
      "                                          fib(19) = 2584 + fib(17)\n",
      "                                            fib(17) = 1597 (memo)\n",
      "                                          fib(19) = 2584 + 1597 = 4181\n",
      "                                        fib(20) = 4181 + fib(18)\n",
      "                                          fib(18) = 2584 (memo)\n",
      "                                        fib(20) = 4181 + 2584 = 6765\n",
      "                                      fib(21) = 6765 + fib(19)\n",
      "                                        fib(19) = 4181 (memo)\n",
      "                                      fib(21) = 6765 + 4181 = 10946\n",
      "                                    fib(22) = 10946 + fib(20)\n",
      "                                      fib(20) = 6765 (memo)\n",
      "                                    fib(22) = 10946 + 6765 = 17711\n",
      "                                  fib(23) = 17711 + fib(21)\n",
      "                                    fib(21) = 10946 (memo)\n",
      "                                  fib(23) = 17711 + 10946 = 28657\n",
      "                                fib(24) = 28657 + fib(22)\n",
      "                                  fib(22) = 17711 (memo)\n",
      "                                fib(24) = 28657 + 17711 = 46368\n",
      "                              fib(25) = 46368 + fib(23)\n",
      "                                fib(23) = 28657 (memo)\n",
      "                              fib(25) = 46368 + 28657 = 75025\n",
      "                            fib(26) = 75025 + fib(24)\n",
      "                              fib(24) = 46368 (memo)\n",
      "                            fib(26) = 75025 + 46368 = 121393\n",
      "                          fib(27) = 121393 + fib(25)\n",
      "                            fib(25) = 75025 (memo)\n",
      "                          fib(27) = 121393 + 75025 = 196418\n",
      "                        fib(28) = 196418 + fib(26)\n",
      "                          fib(26) = 121393 (memo)\n",
      "                        fib(28) = 196418 + 121393 = 317811\n",
      "                      fib(29) = 317811 + fib(27)\n",
      "                        fib(27) = 196418 (memo)\n",
      "                      fib(29) = 317811 + 196418 = 514229\n",
      "                    fib(30) = 514229 + fib(28)\n",
      "                      fib(28) = 317811 (memo)\n",
      "                    fib(30) = 514229 + 317811 = 832040\n",
      "                  fib(31) = 832040 + fib(29)\n",
      "                    fib(29) = 514229 (memo)\n",
      "                  fib(31) = 832040 + 514229 = 1346269\n",
      "                fib(32) = 1346269 + fib(30)\n",
      "                  fib(30) = 832040 (memo)\n",
      "                fib(32) = 1346269 + 832040 = 2178309\n",
      "              fib(33) = 2178309 + fib(31)\n",
      "                fib(31) = 1346269 (memo)\n",
      "              fib(33) = 2178309 + 1346269 = 3524578\n",
      "            fib(34) = 3524578 + fib(32)\n",
      "              fib(32) = 2178309 (memo)\n",
      "            fib(34) = 3524578 + 2178309 = 5702887\n",
      "          fib(35) = 5702887 + fib(33)\n",
      "            fib(33) = 3524578 (memo)\n",
      "          fib(35) = 5702887 + 3524578 = 9227465\n",
      "        fib(36) = 9227465 + fib(34)\n",
      "          fib(34) = 5702887 (memo)\n",
      "        fib(36) = 9227465 + 5702887 = 14930352\n",
      "      fib(37) = 14930352 + fib(35)\n",
      "        fib(35) = 9227465 (memo)\n",
      "      fib(37) = 14930352 + 9227465 = 24157817\n",
      "    fib(38) = 24157817 + fib(36)\n",
      "      fib(36) = 14930352 (memo)\n",
      "    fib(38) = 24157817 + 14930352 = 39088169\n",
      "  fib(39) = 39088169 + fib(37)\n",
      "    fib(37) = 24157817 (memo)\n",
      "  fib(39) = 39088169 + 24157817 = 63245986\n",
      "fib(40) = 63245986 + fib(38)\n",
      "  fib(38) = 39088169 (memo)\n",
      "fib(40) = 63245986 + 39088169 = 102334155\n",
      "102334155\n"
     ]
    }
   ],
   "source": [
    "print(fib_by_tr(40))"
   ]
  },
  {
   "cell_type": "code",
   "execution_count": 14,
   "metadata": {},
   "outputs": [
    {
     "name": "stdout",
     "output_type": "stream",
     "text": [
      "fib(40) = 102334155 (memo)\n",
      "102334155\n"
     ]
    }
   ],
   "source": [
    "print(fib_by_tr(40))"
   ]
  },
  {
   "cell_type": "code",
   "execution_count": 15,
   "metadata": {},
   "outputs": [
    {
     "name": "stdout",
     "output_type": "stream",
     "text": [
      "fib(41) = fib(40) + fib(39)\n",
      "  fib(40) = 102334155 (memo)\n",
      "fib(41) = 102334155 + fib(39)\n",
      "  fib(39) = 63245986 (memo)\n",
      "fib(41) = 102334155 + 63245986 = 165580141\n",
      "165580141\n"
     ]
    }
   ],
   "source": [
    "print(fib_by_tr(41))"
   ]
  },
  {
   "cell_type": "code",
   "execution_count": 16,
   "metadata": {},
   "outputs": [],
   "source": [
    "def fib_by_tr(n, memo={}):\n",
    "    if n == 0:\n",
    "        return 0\n",
    "    elif n == 1:\n",
    "        return 1   \n",
    "    if n in memo:\n",
    "        return memo[n]\n",
    "        \n",
    "    memo[n] = fib_by_tr(n - 1, memo=memo) + fib_by_tr(n - 2, memo=memo)\n",
    "    return memo[n]"
   ]
  },
  {
   "cell_type": "code",
   "execution_count": 17,
   "metadata": {},
   "outputs": [
    {
     "name": "stdout",
     "output_type": "stream",
     "text": [
      "1.57 µs ± 28.9 ns per loop (mean ± std. dev. of 7 runs, 100,000 loops each)\n"
     ]
    }
   ],
   "source": [
    "%%timeit\n",
    "fib_by_f(40)"
   ]
  },
  {
   "cell_type": "code",
   "execution_count": 18,
   "metadata": {},
   "outputs": [
    {
     "name": "stdout",
     "output_type": "stream",
     "text": [
      "4 µs ± 22.4 ns per loop (mean ± std. dev. of 7 runs, 100,000 loops each)\n"
     ]
    }
   ],
   "source": [
    "%%timeit\n",
    "fib_by_br(40)"
   ]
  },
  {
   "cell_type": "code",
   "execution_count": 20,
   "metadata": {},
   "outputs": [
    {
     "name": "stdout",
     "output_type": "stream",
     "text": [
      "11.6 µs ± 87.5 ns per loop (mean ± std. dev. of 7 runs, 100,000 loops each)\n"
     ]
    }
   ],
   "source": [
    "%%timeit\n",
    "fib_by_tr(40, memo={})"
   ]
  },
  {
   "cell_type": "code",
   "execution_count": 21,
   "metadata": {},
   "outputs": [],
   "source": [
    "def fib_by_f(n):\n",
    "    if n == 0:\n",
    "        return 0\n",
    "    elif n == 1:\n",
    "        return 1\n",
    "    \n",
    "    fib_p2 = 0\n",
    "    fib_p1 = 1\n",
    "    for i in range(2, n + 1):\n",
    "        fib_p2, fib_p1 = fib_p1, fib_p1 + fib_p2\n",
    "    return fib_p1"
   ]
  },
  {
   "cell_type": "code",
   "execution_count": 22,
   "metadata": {},
   "outputs": [],
   "source": [
    "def fib_by_f(n):\n",
    "    if n == 0:\n",
    "        return 0\n",
    "    elif n == 1:\n",
    "        return 1\n",
    "    \n",
    "    fib_p1 = 0\n",
    "    fib = 1\n",
    "    for i in range(2, n + 1):\n",
    "        fib_p1, fib = fib, fib + fib_p1\n",
    "    return fib"
   ]
  },
  {
   "cell_type": "code",
   "execution_count": 23,
   "metadata": {},
   "outputs": [
    {
     "name": "stdout",
     "output_type": "stream",
     "text": [
      "fib(0) = 0, 0\n",
      "fib(1) = 1, 1\n",
      "fib(2) = 1, 1\n",
      "fib(3) = 2, 2\n",
      "fib(4) = 3, 3\n",
      "fib(5) = 5, 5\n",
      "fib(6) = 8, 8\n",
      "fib(7) = 13, 13\n",
      "fib(8) = 21, 21\n",
      "fib(9) = 34, 34\n"
     ]
    }
   ],
   "source": [
    "for i in range(10):\n",
    "    print(f\"fib({i}) = {fib_by_f(i)}, {fib_by_tr(i)}\")"
   ]
  },
  {
   "cell_type": "code",
   "execution_count": 24,
   "metadata": {},
   "outputs": [
    {
     "name": "stdout",
     "output_type": "stream",
     "text": [
      "2\n",
      "2\n"
     ]
    }
   ],
   "source": [
    "a = 1\n",
    "b = 2\n",
    "\n",
    "a = b\n",
    "b = a\n",
    "print(a)\n",
    "print(b)"
   ]
  },
  {
   "cell_type": "code",
   "execution_count": 25,
   "metadata": {},
   "outputs": [
    {
     "name": "stdout",
     "output_type": "stream",
     "text": [
      "2\n",
      "1\n"
     ]
    }
   ],
   "source": [
    "a = 1\n",
    "b = 2\n",
    "\n",
    "tmp = a\n",
    "a = b\n",
    "b = tmp\n",
    "print(a)\n",
    "print(b)"
   ]
  },
  {
   "cell_type": "code",
   "execution_count": 27,
   "metadata": {},
   "outputs": [
    {
     "name": "stdout",
     "output_type": "stream",
     "text": [
      "2\n",
      "1\n"
     ]
    }
   ],
   "source": [
    "a = 1\n",
    "b = 2\n",
    "\n",
    "a, b = b, a \n",
    "print(a)\n",
    "print(b)"
   ]
  }
 ],
 "metadata": {
  "kernelspec": {
   "display_name": "marubatsu",
   "language": "python",
   "name": "python3"
  },
  "language_info": {
   "codemirror_mode": {
    "name": "ipython",
    "version": 3
   },
   "file_extension": ".py",
   "mimetype": "text/x-python",
   "name": "python",
   "nbconvert_exporter": "python",
   "pygments_lexer": "ipython3",
   "version": "3.11.4"
  }
 },
 "nbformat": 4,
 "nbformat_minor": 2
}
