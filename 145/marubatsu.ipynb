{
 "cells": [
  {
   "cell_type": "code",
   "execution_count": 1,
   "metadata": {},
   "outputs": [],
   "source": [
    "import ipywidgets as widgets\n",
    "import matplotlib.pyplot as plt\n",
    "from tree import Mbtree_Anim\n",
    "\n",
    "def create_widgets(self):\n",
    "    self.play = widgets.Play(max=self.nodenum - 1, interval=500)\n",
    "    self.prev_button = self.create_button(\"<\", width=30)\n",
    "    self.next_button = self.create_button(\">\", width=30)\n",
    "    self.frame_slider = widgets.IntSlider(max=self.nodenum - 1, description=\"frame\")\n",
    "    self.interval_slider = widgets.IntSlider(value=500, min=1, max=2000, description=\"interval\")\n",
    "    widgets.jslink((self.play, \"value\"), (self.frame_slider, \"value\"))    \n",
    "    widgets.jslink((self.play, \"interval\"), (self.interval_slider, \"value\"))\n",
    "\n",
    "    with plt.ioff():\n",
    "        self.fig = plt.figure(figsize=[self.width * self.size,\n",
    "                                        self.height * self.size])\n",
    "        self.ax = self.fig.add_axes([0, 0, 1, 1])\n",
    "        self.fig.canvas.toolbar_visible = False\n",
    "        self.fig.canvas.header_visible = False\n",
    "        self.fig.canvas.footer_visible = False\n",
    "        self.fig.canvas.resizable = False \n",
    "        if self.isscore and hasattr(self.mbtree, \"ablist_by_score\"):\n",
    "            self.abfig = plt.figure(figsize=(5, 1))\n",
    "            self.abax = self.abfig.add_axes([0, 0, 1, 1])\n",
    "            self.abfig.canvas.toolbar_visible = False\n",
    "            self.abfig.canvas.header_visible = False\n",
    "            self.abfig.canvas.footer_visible = False\n",
    "            self.abfig.canvas.resizable = False \n",
    "        else:\n",
    "            self.abfig = None\n",
    "            \n",
    "    if self.abfig is not None:\n",
    "        self.node_label = widgets.Label(\"選択中のノード内の移動\")\n",
    "        self.node_first_button = self.create_button(\"<<\", width=40)\n",
    "        self.node_prev_button = self.create_button(\"<\", width=30)\n",
    "        self.node_next_button = self.create_button(\">\", width=30)\n",
    "        self.node_last_button = self.create_button(\">>\", width=40)\n",
    "\n",
    "Mbtree_Anim.create_widgets = create_widgets"
   ]
  },
  {
   "cell_type": "code",
   "execution_count": 2,
   "metadata": {},
   "outputs": [],
   "source": [
    "def display_widgets(self):\n",
    "    hbox = widgets.HBox([self.play, self.prev_button, self.next_button, self.frame_slider, self.interval_slider])\n",
    "    if self.abfig is None:\n",
    "        display(widgets.VBox([hbox, self.fig.canvas])) \n",
    "    else:\n",
    "        hbox2 = widgets.HBox([self.node_label, self.node_first_button, self.node_prev_button,\n",
    "                              self.node_next_button, self.node_last_button])\n",
    "        display(widgets.VBox([hbox, hbox2, self.abfig.canvas, self.fig.canvas])) \n",
    "        \n",
    "Mbtree_Anim.display_widgets = display_widgets"
   ]
  },
  {
   "cell_type": "code",
   "execution_count": 3,
   "metadata": {},
   "outputs": [
    {
     "data": {
      "application/vnd.jupyter.widget-view+json": {
       "model_id": "edaa7044141e45d58a02cb2f285875f5",
       "version_major": 2,
       "version_minor": 0
      },
      "text/plain": [
       "VBox(children=(HBox(children=(Play(value=0, interval=500, max=73185), Button(description='<', layout=Layout(wi…"
      ]
     },
     "metadata": {},
     "output_type": "display_data"
    },
    {
     "data": {
      "text/plain": [
       "<tree.Mbtree_Anim at 0x2836c2aac50>"
      ]
     },
     "execution_count": 3,
     "metadata": {},
     "output_type": "execute_result"
    }
   ],
   "source": [
    "from tree import Mbtree\n",
    "\n",
    "mbtree = Mbtree(algo=\"df\")\n",
    "mbtree.calc_score_by_ab(mbtree.root)\n",
    "Mbtree_Anim(mbtree, isscore=True)"
   ]
  },
  {
   "cell_type": "code",
   "execution_count": 4,
   "metadata": {},
   "outputs": [],
   "source": [
    "def create_event_handler(self):\n",
    "    def on_play_changed(changed):\n",
    "        self.update_gui()\n",
    "        \n",
    "    def on_prev_button_clicked(b=None):\n",
    "        self.play.value -= 1\n",
    "        self.update_gui()\n",
    "        \n",
    "    def on_next_button_clicked(b=None):\n",
    "        self.play.value += 1\n",
    "        self.update_gui()\n",
    "\n",
    "    self.prev_button.on_click(on_prev_button_clicked)\n",
    "    self.next_button.on_click(on_next_button_clicked)\n",
    "\n",
    "    self.play.observe(on_play_changed, names=\"value\")\n",
    "    \n",
    "    def change_frame(edge_status, diff, status_list):\n",
    "        frame = self.play.value\n",
    "        selectednode = self.mbtree.nodelist_by_score[frame]\n",
    "        selectedstatus = self.mbtree.ablist_by_score[frame][3]\n",
    "        if selectedstatus == edge_status:\n",
    "            return\n",
    "        while True:\n",
    "            frame += diff\n",
    "            node = self.mbtree.nodelist_by_score[frame]\n",
    "            status = self.mbtree.ablist_by_score[frame][3]\n",
    "            if node == selectednode and status in status_list:\n",
    "                break\n",
    "        self.play.value = frame\n",
    "        self.update_gui()\n",
    "            \n",
    "    def on_node_first_button_clicked(b=None):\n",
    "        change_frame(\"start\", -1, [\"start\"])\n",
    "            \n",
    "    def on_node_prev_button_clicked(b=None):\n",
    "        change_frame(\"start\", -1, [\"start\", \"score\"])\n",
    "\n",
    "    def on_node_next_button_clicked(b=None):\n",
    "        change_frame(\"end\", 1, [\"end\", \"score\"])\n",
    "        \n",
    "    def on_node_last_button_clicked(b=None):\n",
    "        change_frame(\"end\", 1, [\"end\"])\n",
    "    \n",
    "    if self.abfig is not None:\n",
    "        self.node_first_button.on_click(on_node_first_button_clicked)\n",
    "        self.node_prev_button.on_click(on_node_prev_button_clicked)\n",
    "        self.node_next_button.on_click(on_node_next_button_clicked)\n",
    "        self.node_last_button.on_click(on_node_last_button_clicked)\n",
    "        \n",
    "Mbtree_Anim.create_event_handler = create_event_handler"
   ]
  },
  {
   "cell_type": "code",
   "execution_count": 5,
   "metadata": {},
   "outputs": [
    {
     "data": {
      "application/vnd.jupyter.widget-view+json": {
       "model_id": "b0241b59cf4a452594d116ef51f1c028",
       "version_major": 2,
       "version_minor": 0
      },
      "text/plain": [
       "VBox(children=(HBox(children=(Play(value=0, interval=500, max=73185), Button(description='<', layout=Layout(wi…"
      ]
     },
     "metadata": {},
     "output_type": "display_data"
    },
    {
     "data": {
      "text/plain": [
       "<tree.Mbtree_Anim at 0x28321ae3910>"
      ]
     },
     "execution_count": 5,
     "metadata": {},
     "output_type": "execute_result"
    }
   ],
   "source": [
    "Mbtree_Anim(mbtree, isscore=True)"
   ]
  },
  {
   "cell_type": "code",
   "execution_count": 6,
   "metadata": {},
   "outputs": [],
   "source": [
    "def update_gui(self):\n",
    "    self.ax.clear()\n",
    "    self.ax.set_xlim(-1, self.width - 1)\n",
    "    self.ax.set_ylim(-1, self.height - 1)   \n",
    "    self.ax.invert_yaxis()\n",
    "    self.ax.axis(\"off\")   \n",
    "    \n",
    "    self.selectednode = self.nodelist[self.play.value]\n",
    "    self.centernode = self.selectednode\n",
    "    if self.mbtree.algo == \"bf\":\n",
    "        if self.centernode.depth > 0:\n",
    "            self.centernode = self.centernode.parent\n",
    "    while self.centernode.depth > 6:\n",
    "        self.centernode = self.centernode.parent\n",
    "    if self.centernode.depth <= 4:\n",
    "        maxdepth = self.centernode.depth + 1\n",
    "    elif self.centernode.depth == 5:\n",
    "        maxdepth = 7\n",
    "    else:\n",
    "        maxdepth = 9\n",
    "    self.mbtree.draw_subtree(centernode=self.centernode, selectednode=self.selectednode,\n",
    "                            anim_frame=self.play.value, isscore=self.isscore, \n",
    "                            ax=self.ax, maxdepth=maxdepth, size=self.size)\n",
    "    if self.abfig is not None:\n",
    "        self.update_ab()\n",
    "        status = self.mbtree.ablist_by_score[self.play.value][3]\n",
    "        disabled = status == \"start\"\n",
    "        self.set_button_status(self.node_first_button, disabled=disabled)                           \n",
    "        self.set_button_status(self.node_prev_button, disabled=disabled)\n",
    "        disabled = status == \"end\"\n",
    "        self.set_button_status(self.node_next_button, disabled=disabled)                           \n",
    "        self.set_button_status(self.node_last_button, disabled=disabled)\n",
    "\n",
    "    disabled = self.play.value == 0\n",
    "    self.set_button_status(self.prev_button, disabled=disabled)\n",
    "    disabled = self.play.value == self.nodenum - 1\n",
    "    self.set_button_status(self.next_button, disabled=disabled)\n",
    "    \n",
    "Mbtree_Anim.update_gui = update_gui "
   ]
  },
  {
   "cell_type": "code",
   "execution_count": 7,
   "metadata": {},
   "outputs": [
    {
     "data": {
      "application/vnd.jupyter.widget-view+json": {
       "model_id": "a25dfb2b249f436dbf0171efb94ca568",
       "version_major": 2,
       "version_minor": 0
      },
      "text/plain": [
       "VBox(children=(HBox(children=(Play(value=0, interval=500, max=73185), Button(description='<', layout=Layout(wi…"
      ]
     },
     "metadata": {},
     "output_type": "display_data"
    },
    {
     "data": {
      "text/plain": [
       "<tree.Mbtree_Anim at 0x283432f4850>"
      ]
     },
     "execution_count": 7,
     "metadata": {},
     "output_type": "execute_result"
    }
   ],
   "source": [
    "Mbtree_Anim(mbtree, isscore=True)"
   ]
  }
 ],
 "metadata": {
  "kernelspec": {
   "display_name": "marubatsu",
   "language": "python",
   "name": "python3"
  },
  "language_info": {
   "codemirror_mode": {
    "name": "ipython",
    "version": 3
   },
   "file_extension": ".py",
   "mimetype": "text/x-python",
   "name": "python",
   "nbconvert_exporter": "python",
   "pygments_lexer": "ipython3",
   "version": "3.10.13"
  }
 },
 "nbformat": 4,
 "nbformat_minor": 2
}
