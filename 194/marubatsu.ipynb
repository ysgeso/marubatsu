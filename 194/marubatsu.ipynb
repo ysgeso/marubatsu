{
 "cells": [
  {
   "cell_type": "code",
   "execution_count": 1,
   "id": "8933616d",
   "metadata": {},
   "outputs": [
    {
     "name": "stdout",
     "output_type": "stream",
     "text": [
      "2.3 μs ± 24.8 ns per loop (mean ± std. dev. of 7 runs, 100,000 loops each)\n",
      "23.1 μs ± 878 ns per loop (mean ± std. dev. of 7 runs, 10,000 loops each)\n"
     ]
    }
   ],
   "source": [
    "from marubatsu import Marubatsu\n",
    "from ai import ai2, ai2s\n",
    "\n",
    "mb = Marubatsu()\n",
    "%timeit ai2(mb)\n",
    "%timeit ai2s(mb)"
   ]
  },
  {
   "cell_type": "code",
   "execution_count": 2,
   "id": "c1dcead3",
   "metadata": {},
   "outputs": [],
   "source": [
    "from marubatsu import ListBoard\n",
    "\n",
    "def __init__(self, boardclass=ListBoard, board_size=3, *args, **kwargs):\n",
    "    # ゲーム盤のデータ構造を定義するクラス\n",
    "    self.boardclass = boardclass\n",
    "    # ゲーム盤の縦横のサイズ\n",
    "    self.BOARD_SIZE = board_size\n",
    "    # boardclass のパラメータ\n",
    "    self.args = args\n",
    "    self.kwargs = kwargs\n",
    "    # 〇×ゲーム盤を再起動するメソッドを呼び出す\n",
    "    self.restart()\n",
    "    \n",
    "Marubatsu.__init__ = __init__"
   ]
  },
  {
   "cell_type": "code",
   "execution_count": 3,
   "id": "6ec01c65",
   "metadata": {},
   "outputs": [],
   "source": [
    "def place_mark(self, x, y, mark):\n",
    "    if 0 <= x < self.BOARD_SIZE and 0 <= y < self.BOARD_SIZE:\n",
    "        if self.board.getmark(x, y) == Marubatsu.EMPTY:\n",
    "            self.board.setmark(x, y, mark)\n",
    "            return True\n",
    "        else:\n",
    "            print(\"(\", x, \",\", y, \") のマスにはマークが配置済です\")\n",
    "            return False\n",
    "    else:\n",
    "        print(\"(\", x, \",\", y, \") はゲーム盤の範囲外の座標です\")\n",
    "        return False   \n",
    "    \n",
    "Marubatsu.place_mark = place_mark"
   ]
  },
  {
   "cell_type": "code",
   "execution_count": 4,
   "id": "ff4a8649",
   "metadata": {},
   "outputs": [],
   "source": [
    "def move(self, x, y, check_coord=False):\n",
    "    if not check_coord:\n",
    "        self.board.setmark(x, y, self.turn)\n",
    "    elif not self.place_mark(x, y, self.turn):\n",
    "        return \n",
    "\n",
    "    self.last_turn = self.turn\n",
    "    self.turn = Marubatsu.CROSS if self.turn == Marubatsu.CIRCLE else Marubatsu.CIRCLE  \n",
    "    self.move_count += 1\n",
    "    self.last_move = x, y\n",
    "    self.status = self.board.judge(self.last_turn, self.last_move, self.move_count)\n",
    "    if len(self.records) <= self.move_count:            \n",
    "        self.records.append(self.last_move)\n",
    "    else:\n",
    "        self.records[self.move_count] = self.last_move\n",
    "        self.records = self.records[0:self.move_count + 1]\n",
    "        \n",
    "Marubatsu.move = move"
   ]
  },
  {
   "cell_type": "code",
   "execution_count": 5,
   "id": "6e2b68af",
   "metadata": {},
   "outputs": [],
   "source": [
    "def unmove(self):\n",
    "    if self.move_count > 0:\n",
    "        x, y = self.last_move\n",
    "        if self.move_count == 0:\n",
    "            self.last_move = (-1, -1)\n",
    "        self.move_count -= 1\n",
    "        self.turn, self.last_turn = self.last_turn, self.turn\n",
    "        self.status = Marubatsu.PLAYING\n",
    "        x, y = self.records.pop()\n",
    "        self.board.setmark(x, y, Marubatsu.EMPTY)       \n",
    "        self.last_move = self.records[-1]    \n",
    "        \n",
    "Marubatsu.unmove = unmove"
   ]
  },
  {
   "cell_type": "code",
   "execution_count": 6,
   "id": "f2f6c48e",
   "metadata": {},
   "outputs": [],
   "source": [
    "def play_loop(self, mb_gui, params=None):\n",
    "    if params is None:\n",
    "        params = [{}, {}]\n",
    "    \n",
    "    ai = self.ai\n",
    "    verbose = self.verbose\n",
    "    gui = self.gui\n",
    "    \n",
    "    # ゲームの決着がついていない間繰り返す\n",
    "    while self.status == Marubatsu.PLAYING:\n",
    "        # 現在の手番を表す ai のインデックスを計算する\n",
    "        index = 0 if self.turn == Marubatsu.CIRCLE else 1\n",
    "        # ゲーム盤の表示\n",
    "        if verbose:\n",
    "            if gui:\n",
    "                # AI どうしの対戦の場合は画面を描画しない\n",
    "                if ai[0] is None or ai[1] is None:\n",
    "                    mb_gui.update_gui()\n",
    "                # 手番を人間が担当する場合は、play メソッドを終了する\n",
    "                if ai[index] is None:\n",
    "                    return\n",
    "            else:\n",
    "                print(self)\n",
    "                \n",
    "        # ai が着手を行うかどうかを判定する\n",
    "        if ai[index] is not None:\n",
    "            x, y = ai[index](self, **params[index])\n",
    "            self.move(x, y)\n",
    "        else:\n",
    "            # キーボードからの座標の入力\n",
    "            coord = input(\"x,y の形式で座標を入力して下さい。exit を入力すると終了します\")\n",
    "            # \"exit\" が入力されていればメッセージを表示して関数を終了する\n",
    "            if coord == \"exit\":\n",
    "                print(\"ゲームを終了します\")\n",
    "                return       \n",
    "            # x 座標と y 座標を要素として持つ list を計算する\n",
    "            xylist = coord.split(\",\")\n",
    "            # xylist の要素の数が 2 ではない場合\n",
    "            if len(xylist) != 2:\n",
    "                # エラーメッセージを表示する\n",
    "                print(\"x, y の形式ではありません\")\n",
    "                # 残りの while 文のブロックを実行せずに、次の繰り返し処理を行う\n",
    "                continue\n",
    "            x, y = xylist\n",
    "            try:\n",
    "                self.move(int(x), int(y), check_coord=True)\n",
    "            except:\n",
    "                print(\"整数の座標を入力して下さい\")\n",
    "\n",
    "    # 決着がついたので、ゲーム盤を表示する\n",
    "    if verbose:\n",
    "        if gui:\n",
    "            mb_gui.update_gui()\n",
    "        else:\n",
    "            print(self)\n",
    "            \n",
    "    return self.status\n",
    "\n",
    "Marubatsu.play_loop = play_loop"
   ]
  },
  {
   "cell_type": "code",
   "execution_count": 7,
   "id": "513d19e7",
   "metadata": {},
   "outputs": [
    {
     "name": "stdout",
     "output_type": "stream",
     "text": [
      "Turn o\n",
      "...\n",
      "...\n",
      "...\n",
      "\n",
      "Turn x\n",
      "O..\n",
      "...\n",
      "...\n",
      "\n",
      "( 0 , 0 ) のマスにはマークが配置済です\n",
      "Turn x\n",
      "O..\n",
      "...\n",
      "...\n",
      "\n",
      "( 3 , 5 ) はゲーム盤の範囲外の座標です\n",
      "Turn x\n",
      "O..\n",
      "...\n",
      "...\n",
      "\n",
      "整数の座標を入力して下さい\n",
      "Turn x\n",
      "O..\n",
      "...\n",
      "...\n",
      "\n",
      "ゲームを終了します\n"
     ]
    }
   ],
   "source": [
    "mb = Marubatsu()\n",
    "mb.play(ai=[None, None])"
   ]
  },
  {
   "cell_type": "code",
   "execution_count": 8,
   "id": "76c99d58",
   "metadata": {},
   "outputs": [
    {
     "name": "stdout",
     "output_type": "stream",
     "text": [
      "Turn x\n",
      "O..\n",
      "...\n",
      "...\n",
      "\n",
      "Turn o\n",
      "X..\n",
      "...\n",
      "...\n",
      "\n"
     ]
    }
   ],
   "source": [
    "mb = Marubatsu()\n",
    "mb.move(0, 0)\n",
    "print(mb)\n",
    "mb.move(0, 0)\n",
    "print(mb)"
   ]
  },
  {
   "cell_type": "code",
   "execution_count": 9,
   "id": "e00710dc",
   "metadata": {},
   "outputs": [
    {
     "ename": "IndexError",
     "evalue": "list index out of range",
     "output_type": "error",
     "traceback": [
      "\u001b[31m---------------------------------------------------------------------------\u001b[39m",
      "\u001b[31mIndexError\u001b[39m                                Traceback (most recent call last)",
      "\u001b[36mCell\u001b[39m\u001b[36m \u001b[39m\u001b[32mIn[9]\u001b[39m\u001b[32m, line 1\u001b[39m\n\u001b[32m----> \u001b[39m\u001b[32m1\u001b[39m mb.move(\u001b[32m3\u001b[39m, \u001b[32m5\u001b[39m)\n",
      "\u001b[36mCell\u001b[39m\u001b[36m \u001b[39m\u001b[32mIn[4]\u001b[39m\u001b[32m, line 3\u001b[39m, in \u001b[36mmove\u001b[39m\u001b[34m(self, x, y, check_coord)\u001b[39m\n\u001b[32m      1\u001b[39m \u001b[38;5;28;01mdef\u001b[39;00m\u001b[38;5;250m \u001b[39m\u001b[34mmove\u001b[39m(\u001b[38;5;28mself\u001b[39m, x, y, check_coord=\u001b[38;5;28;01mFalse\u001b[39;00m):\n\u001b[32m      2\u001b[39m     \u001b[38;5;28;01mif\u001b[39;00m \u001b[38;5;129;01mnot\u001b[39;00m check_coord:\n\u001b[32m----> \u001b[39m\u001b[32m3\u001b[39m         \u001b[38;5;28mself\u001b[39m.board.setmark(x, y, \u001b[38;5;28mself\u001b[39m.turn)\n\u001b[32m      4\u001b[39m     \u001b[38;5;28;01melif\u001b[39;00m \u001b[38;5;129;01mnot\u001b[39;00m \u001b[38;5;28mself\u001b[39m.place_mark(x, y, \u001b[38;5;28mself\u001b[39m.turn):\n\u001b[32m      5\u001b[39m         \u001b[38;5;28;01mreturn\u001b[39;00m \n",
      "\u001b[36mFile \u001b[39m\u001b[32mc:\\Users\\ys\\ai\\marubatsu\\194\\marubatsu.py:158\u001b[39m, in \u001b[36mListBoard.setmark\u001b[39m\u001b[34m(self, x, y, mark)\u001b[39m\n\u001b[32m    156\u001b[39m     \u001b[38;5;28;01mif\u001b[39;00m x + y == \u001b[38;5;28mself\u001b[39m.BOARD_SIZE - \u001b[32m1\u001b[39m:\n\u001b[32m    157\u001b[39m         \u001b[38;5;28mself\u001b[39m.diacount[countmark][\u001b[32m1\u001b[39m] += diff\n\u001b[32m--> \u001b[39m\u001b[32m158\u001b[39m \u001b[38;5;28mself\u001b[39m.board[x][y] = mark\n",
      "\u001b[31mIndexError\u001b[39m: list index out of range"
     ]
    }
   ],
   "source": [
    "mb.move(3, 5)"
   ]
  },
  {
   "cell_type": "code",
   "execution_count": 10,
   "id": "f8d15f06",
   "metadata": {},
   "outputs": [
    {
     "name": "stdout",
     "output_type": "stream",
     "text": [
      "Turn x\n",
      "O..\n",
      "...\n",
      "...\n",
      "\n",
      "( 0 , 0 ) のマスにはマークが配置済です\n",
      "Turn x\n",
      "O..\n",
      "...\n",
      "...\n",
      "\n",
      "( 3 , 5 ) はゲーム盤の範囲外の座標です\n"
     ]
    }
   ],
   "source": [
    "mb = Marubatsu()\n",
    "mb.move(0, 0, check_coord=True)\n",
    "print(mb)\n",
    "mb.move(0, 0, check_coord=True)\n",
    "print(mb)\n",
    "mb.move(3, 5, check_coord=True)"
   ]
  },
  {
   "cell_type": "code",
   "execution_count": 11,
   "id": "0ed83abb",
   "metadata": {},
   "outputs": [],
   "source": [
    "def cmove(self, x, y):\n",
    "    self.move(x, y, check_coord=True)\n",
    "    \n",
    "Marubatsu.cmove = cmove"
   ]
  },
  {
   "cell_type": "code",
   "execution_count": 12,
   "id": "e38198ed",
   "metadata": {},
   "outputs": [
    {
     "name": "stdout",
     "output_type": "stream",
     "text": [
      "Turn x\n",
      "O..\n",
      "...\n",
      "...\n",
      "\n",
      "( 0 , 0 ) のマスにはマークが配置済です\n",
      "Turn x\n",
      "O..\n",
      "...\n",
      "...\n",
      "\n",
      "( 3 , 5 ) はゲーム盤の範囲外の座標です\n"
     ]
    }
   ],
   "source": [
    "mb = Marubatsu()\n",
    "mb.cmove(0, 0)\n",
    "print(mb)\n",
    "mb.cmove(0, 0)\n",
    "print(mb)\n",
    "mb.cmove(3, 5)"
   ]
  },
  {
   "cell_type": "code",
   "execution_count": 13,
   "id": "d4a35981",
   "metadata": {},
   "outputs": [
    {
     "ename": "TypeError",
     "evalue": "'<=' not supported between instances of 'int' and 'str'",
     "output_type": "error",
     "traceback": [
      "\u001b[31m---------------------------------------------------------------------------\u001b[39m",
      "\u001b[31mTypeError\u001b[39m                                 Traceback (most recent call last)",
      "\u001b[36mCell\u001b[39m\u001b[36m \u001b[39m\u001b[32mIn[13]\u001b[39m\u001b[32m, line 1\u001b[39m\n\u001b[32m----> \u001b[39m\u001b[32m1\u001b[39m mb.cmove(\u001b[33m\"\u001b[39m\u001b[33ma\u001b[39m\u001b[33m\"\u001b[39m, \u001b[33m\"\u001b[39m\u001b[33mb\u001b[39m\u001b[33m\"\u001b[39m)\n",
      "\u001b[36mCell\u001b[39m\u001b[36m \u001b[39m\u001b[32mIn[11]\u001b[39m\u001b[32m, line 2\u001b[39m, in \u001b[36mcmove\u001b[39m\u001b[34m(self, x, y)\u001b[39m\n\u001b[32m      1\u001b[39m \u001b[38;5;28;01mdef\u001b[39;00m\u001b[38;5;250m \u001b[39m\u001b[34mcmove\u001b[39m(\u001b[38;5;28mself\u001b[39m, x, y):\n\u001b[32m----> \u001b[39m\u001b[32m2\u001b[39m     \u001b[38;5;28mself\u001b[39m.move(x, y, check_coord=\u001b[38;5;28;01mTrue\u001b[39;00m)\n",
      "\u001b[36mCell\u001b[39m\u001b[36m \u001b[39m\u001b[32mIn[4]\u001b[39m\u001b[32m, line 4\u001b[39m, in \u001b[36mmove\u001b[39m\u001b[34m(self, x, y, check_coord)\u001b[39m\n\u001b[32m      2\u001b[39m \u001b[38;5;28;01mif\u001b[39;00m \u001b[38;5;129;01mnot\u001b[39;00m check_coord:\n\u001b[32m      3\u001b[39m     \u001b[38;5;28mself\u001b[39m.board.setmark(x, y, \u001b[38;5;28mself\u001b[39m.turn)\n\u001b[32m----> \u001b[39m\u001b[32m4\u001b[39m \u001b[38;5;28;01melif\u001b[39;00m \u001b[38;5;129;01mnot\u001b[39;00m \u001b[38;5;28mself\u001b[39m.place_mark(x, y, \u001b[38;5;28mself\u001b[39m.turn):\n\u001b[32m      5\u001b[39m     \u001b[38;5;28;01mreturn\u001b[39;00m \n\u001b[32m      7\u001b[39m \u001b[38;5;28mself\u001b[39m.last_turn = \u001b[38;5;28mself\u001b[39m.turn\n",
      "\u001b[36mCell\u001b[39m\u001b[36m \u001b[39m\u001b[32mIn[3]\u001b[39m\u001b[32m, line 2\u001b[39m, in \u001b[36mplace_mark\u001b[39m\u001b[34m(self, x, y, mark)\u001b[39m\n\u001b[32m      1\u001b[39m \u001b[38;5;28;01mdef\u001b[39;00m\u001b[38;5;250m \u001b[39m\u001b[34mplace_mark\u001b[39m(\u001b[38;5;28mself\u001b[39m, x, y, mark):\n\u001b[32m----> \u001b[39m\u001b[32m2\u001b[39m     \u001b[38;5;28;01mif\u001b[39;00m \u001b[32m0\u001b[39m <= x < \u001b[38;5;28mself\u001b[39m.BOARD_SIZE \u001b[38;5;129;01mand\u001b[39;00m \u001b[32m0\u001b[39m <= y < \u001b[38;5;28mself\u001b[39m.BOARD_SIZE:\n\u001b[32m      3\u001b[39m         \u001b[38;5;28;01mif\u001b[39;00m \u001b[38;5;28mself\u001b[39m.board.getmark(x, y) == Marubatsu.EMPTY:\n\u001b[32m      4\u001b[39m             \u001b[38;5;28mself\u001b[39m.board.setmark(x, y, mark)\n",
      "\u001b[31mTypeError\u001b[39m: '<=' not supported between instances of 'int' and 'str'"
     ]
    }
   ],
   "source": [
    "mb.cmove(\"a\", \"b\")"
   ]
  },
  {
   "cell_type": "code",
   "execution_count": 14,
   "id": "073fe0d9",
   "metadata": {},
   "outputs": [],
   "source": [
    "def place_mark(self, x, y, mark):\n",
    "    try:\n",
    "        x = int(x)\n",
    "        y = int(y)\n",
    "    except:\n",
    "        print(\"整数の座標を入力して下さい\")\n",
    "        return False\n",
    "\n",
    "    if 0 <= x < self.BOARD_SIZE and 0 <= y < self.BOARD_SIZE:\n",
    "        if self.board.getmark(x, y) == Marubatsu.EMPTY:\n",
    "            self.board.setmark(x, y, mark)\n",
    "            return True\n",
    "        else:\n",
    "            print(\"(\", x, \",\", y, \") のマスにはマークが配置済です\")\n",
    "            return False\n",
    "    else:\n",
    "        print(\"(\", x, \",\", y, \") はゲーム盤の範囲外の座標です\")\n",
    "        return False   \n",
    "    \n",
    "Marubatsu.place_mark = place_mark"
   ]
  },
  {
   "cell_type": "code",
   "execution_count": 15,
   "id": "ebedd0f9",
   "metadata": {},
   "outputs": [
    {
     "name": "stdout",
     "output_type": "stream",
     "text": [
      "整数の座標を入力して下さい\n"
     ]
    }
   ],
   "source": [
    "mb.cmove(\"a\", \"b\")"
   ]
  },
  {
   "cell_type": "code",
   "execution_count": 16,
   "id": "e88076ff",
   "metadata": {},
   "outputs": [],
   "source": [
    "def play_loop(self, mb_gui, params=None):\n",
    "    if params is None:\n",
    "        params = [{}, {}]\n",
    "    \n",
    "    ai = self.ai\n",
    "    verbose = self.verbose\n",
    "    gui = self.gui\n",
    "    \n",
    "    # ゲームの決着がついていない間繰り返す\n",
    "    while self.status == Marubatsu.PLAYING:\n",
    "        # 現在の手番を表す ai のインデックスを計算する\n",
    "        index = 0 if self.turn == Marubatsu.CIRCLE else 1\n",
    "        # ゲーム盤の表示\n",
    "        if verbose:\n",
    "            if gui:\n",
    "                # AI どうしの対戦の場合は画面を描画しない\n",
    "                if ai[0] is None or ai[1] is None:\n",
    "                    mb_gui.update_gui()\n",
    "                # 手番を人間が担当する場合は、play メソッドを終了する\n",
    "                if ai[index] is None:\n",
    "                    return\n",
    "            else:\n",
    "                print(self)\n",
    "                \n",
    "        # ai が着手を行うかどうかを判定する\n",
    "        if ai[index] is not None:\n",
    "            x, y = ai[index](self, **params[index])\n",
    "            self.move(x, y)\n",
    "        else:\n",
    "            # キーボードからの座標の入力\n",
    "            coord = input(\"x,y の形式で座標を入力して下さい。exit を入力すると終了します\")\n",
    "            # \"exit\" が入力されていればメッセージを表示して関数を終了する\n",
    "            if coord == \"exit\":\n",
    "                print(\"ゲームを終了します\")\n",
    "                return       \n",
    "            # x 座標と y 座標を要素として持つ list を計算する\n",
    "            xylist = coord.split(\",\")\n",
    "            # xylist の要素の数が 2 ではない場合\n",
    "            if len(xylist) != 2:\n",
    "                # エラーメッセージを表示する\n",
    "                print(\"x, y の形式ではありません\")\n",
    "                # 残りの while 文のブロックを実行せずに、次の繰り返し処理を行う\n",
    "                continue\n",
    "            x, y = xylist\n",
    "            self.cmove(x, y)\n",
    "\n",
    "    # 決着がついたので、ゲーム盤を表示する\n",
    "    if verbose:\n",
    "        if gui:\n",
    "            mb_gui.update_gui()\n",
    "        else:\n",
    "            print(self)\n",
    "            \n",
    "    return self.status\n",
    "\n",
    "Marubatsu.play_loop = play_loop"
   ]
  },
  {
   "cell_type": "code",
   "execution_count": 17,
   "id": "2d9e343f",
   "metadata": {},
   "outputs": [
    {
     "name": "stdout",
     "output_type": "stream",
     "text": [
      "Turn o\n",
      "...\n",
      "...\n",
      "...\n",
      "\n",
      "整数の座標を入力して下さい\n",
      "Turn o\n",
      "...\n",
      "...\n",
      "...\n",
      "\n",
      "ゲームを終了します\n"
     ]
    }
   ],
   "source": [
    "mb.play(ai=[None, None])\n"
   ]
  },
  {
   "cell_type": "code",
   "execution_count": null,
   "id": "d39aaaa5",
   "metadata": {},
   "outputs": [
    {
     "data": {
      "application/vnd.jupyter.widget-view+json": {
       "model_id": "43ac3eae21e14f198a135606fe54e83f",
       "version_major": 2,
       "version_minor": 0
      },
      "text/plain": [
       "VBox(children=(HBox(children=(Checkbox(value=False, description='乱数の種', indent=False, layout=Layout(width='100…"
      ]
     },
     "metadata": {},
     "output_type": "display_data"
    },
    {
     "data": {
      "application/vnd.jupyter.widget-view+json": {
       "model_id": "06879de0667647cb8171187044463180",
       "version_major": 2,
       "version_minor": 0
      },
      "text/plain": [
       "VBox(children=(Output(layout=Layout(display='none')), HBox(children=(Label(value='', layout=Layout(width='50px…"
      ]
     },
     "metadata": {},
     "output_type": "display_data"
    }
   ],
   "source": [
    "from util import gui_play\n",
    "\n",
    "gui_play()"
   ]
  },
  {
   "cell_type": "code",
   "execution_count": 19,
   "id": "1b192395",
   "metadata": {},
   "outputs": [],
   "source": [
    "from marubatsu import Marubatsu_GUI\n",
    "from tkinter import Tk, filedialog\n",
    "import pickle\n",
    "from datetime import datetime\n",
    "import math\n",
    "\n",
    "def create_event_handler(self):\n",
    "    # 乱数の種のチェックボックスのイベントハンドラを定義する\n",
    "    def on_checkbox_changed(changed):\n",
    "        self.update_widgets_status()\n",
    "        \n",
    "    self.checkbox.observe(on_checkbox_changed, names=\"value\")\n",
    "\n",
    "    # 開く、保存ボタンのイベントハンドラを定義する\n",
    "    def on_load_button_clicked(b=None):\n",
    "        path = filedialog.askopenfilename(filetypes=[(\"〇×ゲーム\", \"*.mbsav\")],\n",
    "                                        initialdir=\"save\")\n",
    "        if path != \"\":\n",
    "            with open(path, \"rb\") as f:\n",
    "                data = pickle.load(f)\n",
    "                self.mb.records = data[\"records\"]\n",
    "                self.mb.ai = data[\"ai\"]\n",
    "                self.params = data[\"params\"] if \"params\" in data else [ {}, {} ]\n",
    "                if \"names\" in data:\n",
    "                    names = data[\"names\"]\n",
    "                else:\n",
    "                    names = [ \"人間\" if self.mb.ai[i] is None else self.mb.ai[i].__name__ for i in range(2)]                       \n",
    "                options = self.dropdown_list[0].options.copy()\n",
    "                for i in range(2):\n",
    "                    value = (self.mb.ai[i], self.params[i]) \n",
    "                    if not value in options.values():\n",
    "                        options[names[i]] = value\n",
    "                for i in range(2):\n",
    "                    self.dropdown_list[i].options = options\n",
    "                    self.dropdown_list[i].value = (self.mb.ai[i], self.params[i])            \n",
    "                status_options = options.copy()\n",
    "                status_options[\"手番の AI\"] = (\"Auto\", None)\n",
    "                self.status_dropdown.options = status_options\n",
    "                change_step(data[\"move_count\"])\n",
    "                if data[\"seed\"] is not None:                   \n",
    "                    self.checkbox.value = True\n",
    "                    self.inttext.value = data[\"seed\"]\n",
    "                else:\n",
    "                    self.checkbox.value = False\n",
    "                    \n",
    "    def on_save_button_clicked(b=None):\n",
    "        names = [ self.dropdown_list[i].label for i in range(2) ]     \n",
    "        timestr = datetime.now().strftime(\"%Y年%m月%d日 %H時%M分%S秒\")\n",
    "        fname = f\"{names[0]} VS {names[1]} {timestr}\"\n",
    "        path = filedialog.asksaveasfilename(filetypes=[(\"〇×ゲーム\", \"*.mbsav\")],\n",
    "                                            initialdir=\"save\", initialfile=fname,\n",
    "                                            defaultextension=\"mbsav\")\n",
    "        if path != \"\":\n",
    "            with open(path, \"wb\") as f:\n",
    "                data = {\n",
    "                    \"records\": self.mb.records,\n",
    "                    \"move_count\": self.mb.move_count,\n",
    "                    \"ai\": self.mb.ai,\n",
    "                    \"params\": self.params,\n",
    "                    \"names\": names,\n",
    "                    \"seed\": self.inttext.value if self.checkbox.value else None\n",
    "                }\n",
    "                pickle.dump(data, f)\n",
    "                \n",
    "    def on_show_tree_button_clicked(b=None):\n",
    "        self.show_subtree = not self.show_subtree\n",
    "        self.mbtree_gui.vbox.layout.display = None if self.show_subtree else \"none\"\n",
    "        self.update_gui()\n",
    "        \n",
    "    def on_reset_tree_button_clicked(b=None):\n",
    "        self.update_gui()\n",
    "                \n",
    "    def on_help_button_clicked(b=None):\n",
    "        self.help.layout.display = \"none\" if self.help.layout.display is None else None\n",
    "\n",
    "    self.load_button.on_click(on_load_button_clicked)\n",
    "    self.save_button.on_click(on_save_button_clicked)\n",
    "    self.show_tree_button.on_click(on_show_tree_button_clicked)\n",
    "    self.reset_tree_button.on_click(on_reset_tree_button_clicked)\n",
    "    self.help_button.on_click(on_help_button_clicked)\n",
    "    \n",
    "    def on_show_status_button_clicked(b=None):\n",
    "        self.show_status = not self.show_status\n",
    "        self.update_gui()\n",
    "\n",
    "    def on_status_dropdown_changed(changed):\n",
    "        self.update_gui()\n",
    "\n",
    "    def on_size_slider_changed(changed):\n",
    "        self.size = changed[\"new\"]\n",
    "        self.fig.set_figwidth(self.size)\n",
    "        self.fig.set_figheight(self.size)\n",
    "        self.update_gui()\n",
    "\n",
    "    self.show_status_button.on_click(on_show_status_button_clicked)\n",
    "    self.status_dropdown.observe(on_status_dropdown_changed, names=\"value\")\n",
    "    self.size_slider.observe(on_size_slider_changed, names=\"value\")\n",
    "\n",
    "    # 変更ボタンのイベントハンドラを定義する\n",
    "    def on_change_button_clicked(b):\n",
    "        for i in range(2):\n",
    "            self.mb.ai[i], self.params[i] = self.dropdown_list[i].value\n",
    "        self.mb.play_loop(self, self.params)\n",
    "\n",
    "    # リセットボタンのイベントハンドラを定義する\n",
    "    def on_reset_button_clicked(b=None):\n",
    "        # 乱数の種のチェックボックスが ON の場合に、乱数の種の処理を行う\n",
    "        if self.checkbox.value:\n",
    "            random.seed(self.inttext.value)\n",
    "        self.mb.restart()\n",
    "        self.output.clear_output()\n",
    "        on_change_button_clicked(b)\n",
    "\n",
    "    # 待ったボタンのイベントハンドラを定義する\n",
    "    def on_undo_button_clicked(b=None):\n",
    "        if self.mb.move_count >= 2 and self.mb.move_count == len(self.mb.records) - 1:\n",
    "            self.mb.move_count -= 2\n",
    "            self.mb.records = self.mb.records[0:self.mb.move_count+1]\n",
    "            self.mb.change_step(self.mb.move_count)\n",
    "            self.update_gui()\n",
    "        \n",
    "    # イベントハンドラをボタンに結びつける\n",
    "    self.change_button.on_click(on_change_button_clicked)\n",
    "    self.reset_button.on_click(on_reset_button_clicked)   \n",
    "    self.undo_button.on_click(on_undo_button_clicked)   \n",
    "\n",
    "    # step 手目の局面に移動する\n",
    "    def change_step(step):\n",
    "        self.mb.change_step(step)\n",
    "        # 描画を更新する\n",
    "        self.update_gui()        \n",
    "\n",
    "    def on_first_button_clicked(b=None):\n",
    "        change_step(0)\n",
    "\n",
    "    def on_prev_button_clicked(b=None):\n",
    "        change_step(self.mb.move_count - 1)\n",
    "\n",
    "    def on_next_button_clicked(b=None):\n",
    "        change_step(self.mb.move_count + 1)\n",
    "        \n",
    "    def on_last_button_clicked(b=None):\n",
    "        change_step(len(self.mb.records) - 1)\n",
    "\n",
    "    def on_slider_changed(changed):\n",
    "        if self.mb.move_count != changed[\"new\"]:\n",
    "            change_step(changed[\"new\"])\n",
    "        \n",
    "    self.first_button.on_click(on_first_button_clicked)\n",
    "    self.prev_button.on_click(on_prev_button_clicked)\n",
    "    self.next_button.on_click(on_next_button_clicked)\n",
    "    self.last_button.on_click(on_last_button_clicked)\n",
    "    self.slider.observe(on_slider_changed, names=\"value\")\n",
    "\n",
    "    # ゲーム盤の上でマウスを押した場合のイベントハンドラ\n",
    "    def on_mouse_down(event):\n",
    "        # Axes の上でマウスを押していた場合のみ処理を行う\n",
    "        if event.inaxes and self.mb.status == Marubatsu.PLAYING:\n",
    "            x = math.floor(event.xdata)\n",
    "            y = math.floor(event.ydata)\n",
    "            with self.output:\n",
    "                self.mb.cmove(x, y)             \n",
    "            # 次の手番の処理を行うメソッドを呼び出す\n",
    "                self.mb.play_loop(self, self.params)\n",
    "\n",
    "    # ゲーム盤を選択した状態でキーを押した場合のイベントハンドラ\n",
    "    def on_key_press(event):\n",
    "        keymap = {\n",
    "            \"up\": on_first_button_clicked,\n",
    "            \"left\": on_prev_button_clicked,\n",
    "            \"right\": on_next_button_clicked,\n",
    "            \"down\": on_last_button_clicked,\n",
    "            \"0\": on_undo_button_clicked,\n",
    "            \"enter\": on_reset_button_clicked,            \n",
    "            \"-\": on_load_button_clicked,            \n",
    "            \"l\": on_load_button_clicked,            \n",
    "            \"+\": on_save_button_clicked,            \n",
    "            \"s\": on_save_button_clicked,            \n",
    "            \"*\": on_help_button_clicked,            \n",
    "            \"h\": on_help_button_clicked,            \n",
    "        }\n",
    "        if event.key in keymap:\n",
    "            keymap[event.key]()\n",
    "        else:\n",
    "            try:\n",
    "                num = int(event.key) - 1\n",
    "                event.inaxes = True\n",
    "                event.xdata = num % 3\n",
    "                event.ydata = 2 - (num // 3)\n",
    "                on_mouse_down(event)\n",
    "            except:\n",
    "                pass\n",
    "            \n",
    "    # fig の画像イベントハンドラを結び付ける\n",
    "    self.fig.canvas.mpl_connect(\"button_press_event\", on_mouse_down)     \n",
    "    self.fig.canvas.mpl_connect(\"key_press_event\", on_key_press)    \n",
    "\n",
    "Marubatsu_GUI.create_event_handler = create_event_handler"
   ]
  },
  {
   "cell_type": "code",
   "execution_count": 20,
   "id": "222e3c87",
   "metadata": {},
   "outputs": [
    {
     "data": {
      "application/vnd.jupyter.widget-view+json": {
       "model_id": "3cb58c547f8343ffbe1f222ab29a9e76",
       "version_major": 2,
       "version_minor": 0
      },
      "text/plain": [
       "VBox(children=(HBox(children=(Checkbox(value=False, description='乱数の種', indent=False, layout=Layout(width='100…"
      ]
     },
     "metadata": {},
     "output_type": "display_data"
    },
    {
     "data": {
      "application/vnd.jupyter.widget-view+json": {
       "model_id": "05ddfe10e9bd441393fc466989b441df",
       "version_major": 2,
       "version_minor": 0
      },
      "text/plain": [
       "VBox(children=(Output(layout=Layout(display='none')), HBox(children=(Label(value='', layout=Layout(width='50px…"
      ]
     },
     "metadata": {},
     "output_type": "display_data"
    }
   ],
   "source": [
    "gui_play()"
   ]
  },
  {
   "cell_type": "code",
   "execution_count": 21,
   "id": "9d18132f",
   "metadata": {},
   "outputs": [],
   "source": [
    "from ai import ai_match, ai14s, ai_abs_dls\n",
    "import random\n",
    "\n",
    "def benchmark(mbparams={}, match_num=50000, seed=0):\n",
    "    if seed is not None:\n",
    "        random.seed(seed)       \n",
    "        \n",
    "    ai_match(ai=[ai2, ai2], match_num=match_num, mbparams=mbparams)   \n",
    "    ai_match(ai=[ai14s, ai2], match_num=match_num, mbparams=mbparams)\n",
    "\n",
    "    mb = Marubatsu(**mbparams)\n",
    "    eval_params = {\"minimax\": True}\n",
    "    print(\"ai_abs_dls\")\n",
    "    %timeit ai_abs_dls(mb, eval_func=ai14s, eval_params=eval_params, use_tt=True, maxdepth=8)"
   ]
  },
  {
   "cell_type": "code",
   "execution_count": 22,
   "id": "8ccae0af",
   "metadata": {},
   "outputs": [
    {
     "name": "stdout",
     "output_type": "stream",
     "text": [
      "boardclass: ListBoard, count_linemark False\n",
      "ai2 VS ai2\n"
     ]
    },
    {
     "name": "stderr",
     "output_type": "stream",
     "text": [
      "100%|██████████| 50000/50000 [00:04<00:00, 12391.16it/s]\n"
     ]
    },
    {
     "name": "stdout",
     "output_type": "stream",
     "text": [
      "count     win    lose    draw\n",
      "o       29454   14352    6194\n",
      "x       14208   29592    6200\n",
      "total   43662   43944   12394\n",
      "\n",
      "ratio     win    lose    draw\n",
      "o       58.9%   28.7%   12.4%\n",
      "x       28.4%   59.2%   12.4%\n",
      "total   43.7%   43.9%   12.4%\n",
      "\n",
      "ai14s VS ai2\n"
     ]
    },
    {
     "name": "stderr",
     "output_type": "stream",
     "text": [
      "100%|██████████| 50000/50000 [00:51<00:00, 969.45it/s] \n"
     ]
    },
    {
     "name": "stdout",
     "output_type": "stream",
     "text": [
      "count     win    lose    draw\n",
      "o       49446       0     554\n",
      "x       44043       0    5957\n",
      "total   93489       0    6511\n",
      "\n",
      "ratio     win    lose    draw\n",
      "o       98.9%    0.0%    1.1%\n",
      "x       88.1%    0.0%   11.9%\n",
      "total   93.5%    0.0%    6.5%\n",
      "\n",
      "ai_abs_dls\n",
      "17.4 ms ± 143 μs per loop (mean ± std. dev. of 7 runs, 10 loops each)\n",
      "\n",
      "boardclass: ListBoard, count_linemark True\n",
      "ai2 VS ai2\n"
     ]
    },
    {
     "name": "stderr",
     "output_type": "stream",
     "text": [
      "100%|██████████| 50000/50000 [00:04<00:00, 12340.74it/s]\n"
     ]
    },
    {
     "name": "stdout",
     "output_type": "stream",
     "text": [
      "count     win    lose    draw\n",
      "o       29454   14352    6194\n",
      "x       14208   29592    6200\n",
      "total   43662   43944   12394\n",
      "\n",
      "ratio     win    lose    draw\n",
      "o       58.9%   28.7%   12.4%\n",
      "x       28.4%   59.2%   12.4%\n",
      "total   43.7%   43.9%   12.4%\n",
      "\n",
      "ai14s VS ai2\n"
     ]
    },
    {
     "name": "stderr",
     "output_type": "stream",
     "text": [
      "100%|██████████| 50000/50000 [00:26<00:00, 1882.32it/s]\n"
     ]
    },
    {
     "name": "stdout",
     "output_type": "stream",
     "text": [
      "count     win    lose    draw\n",
      "o       49446       0     554\n",
      "x       44043       0    5957\n",
      "total   93489       0    6511\n",
      "\n",
      "ratio     win    lose    draw\n",
      "o       98.9%    0.0%    1.1%\n",
      "x       88.1%    0.0%   11.9%\n",
      "total   93.5%    0.0%    6.5%\n",
      "\n",
      "ai_abs_dls\n",
      "17.6 ms ± 397 μs per loop (mean ± std. dev. of 7 runs, 100 loops each)\n",
      "\n",
      "boardclass: List1dBoard, count_linemark False\n",
      "ai2 VS ai2\n"
     ]
    },
    {
     "name": "stderr",
     "output_type": "stream",
     "text": [
      "100%|██████████| 50000/50000 [00:04<00:00, 11801.20it/s]\n"
     ]
    },
    {
     "name": "stdout",
     "output_type": "stream",
     "text": [
      "count     win    lose    draw\n",
      "o       29454   14352    6194\n",
      "x       14208   29592    6200\n",
      "total   43662   43944   12394\n",
      "\n",
      "ratio     win    lose    draw\n",
      "o       58.9%   28.7%   12.4%\n",
      "x       28.4%   59.2%   12.4%\n",
      "total   43.7%   43.9%   12.4%\n",
      "\n",
      "ai14s VS ai2\n"
     ]
    },
    {
     "name": "stderr",
     "output_type": "stream",
     "text": [
      "100%|██████████| 50000/50000 [00:52<00:00, 956.38it/s] \n"
     ]
    },
    {
     "name": "stdout",
     "output_type": "stream",
     "text": [
      "count     win    lose    draw\n",
      "o       49446       0     554\n",
      "x       44043       0    5957\n",
      "total   93489       0    6511\n",
      "\n",
      "ratio     win    lose    draw\n",
      "o       98.9%    0.0%    1.1%\n",
      "x       88.1%    0.0%   11.9%\n",
      "total   93.5%    0.0%    6.5%\n",
      "\n",
      "ai_abs_dls\n",
      "17.6 ms ± 477 μs per loop (mean ± std. dev. of 7 runs, 10 loops each)\n",
      "\n",
      "boardclass: List1dBoard, count_linemark True\n",
      "ai2 VS ai2\n"
     ]
    },
    {
     "name": "stderr",
     "output_type": "stream",
     "text": [
      "100%|██████████| 50000/50000 [00:04<00:00, 12300.84it/s]\n"
     ]
    },
    {
     "name": "stdout",
     "output_type": "stream",
     "text": [
      "count     win    lose    draw\n",
      "o       29454   14352    6194\n",
      "x       14208   29592    6200\n",
      "total   43662   43944   12394\n",
      "\n",
      "ratio     win    lose    draw\n",
      "o       58.9%   28.7%   12.4%\n",
      "x       28.4%   59.2%   12.4%\n",
      "total   43.7%   43.9%   12.4%\n",
      "\n",
      "ai14s VS ai2\n"
     ]
    },
    {
     "name": "stderr",
     "output_type": "stream",
     "text": [
      "100%|██████████| 50000/50000 [00:26<00:00, 1875.35it/s]\n"
     ]
    },
    {
     "name": "stdout",
     "output_type": "stream",
     "text": [
      "count     win    lose    draw\n",
      "o       49446       0     554\n",
      "x       44043       0    5957\n",
      "total   93489       0    6511\n",
      "\n",
      "ratio     win    lose    draw\n",
      "o       98.9%    0.0%    1.1%\n",
      "x       88.1%    0.0%   11.9%\n",
      "total   93.5%    0.0%    6.5%\n",
      "\n",
      "ai_abs_dls\n",
      "18.6 ms ± 1.48 ms per loop (mean ± std. dev. of 7 runs, 10 loops each)\n",
      "\n"
     ]
    }
   ],
   "source": [
    "from marubatsu import List1dBoard\n",
    "\n",
    "for boardclass in [ListBoard, List1dBoard]:\n",
    "    for count_linemark in [False, True]:\n",
    "        print(f\"boardclass: {boardclass.__name__}, count_linemark {count_linemark}\")\n",
    "        benchmark(mbparams={\"boardclass\": boardclass, \"count_linemark\": count_linemark})\n",
    "        print()"
   ]
  },
  {
   "cell_type": "code",
   "execution_count": 23,
   "id": "000ca672",
   "metadata": {},
   "outputs": [
    {
     "name": "stdout",
     "output_type": "stream",
     "text": [
      "ai2 VS ai2\n"
     ]
    },
    {
     "name": "stderr",
     "output_type": "stream",
     "text": [
      "100%|██████████| 50000/50000 [00:04<00:00, 11799.85it/s]\n"
     ]
    },
    {
     "name": "stdout",
     "output_type": "stream",
     "text": [
      "count     win    lose    draw\n",
      "o       29318   14501    6181\n",
      "x       14278   29306    6416\n",
      "total   43596   43807   12597\n",
      "\n",
      "ratio     win    lose    draw\n",
      "o       58.6%   29.0%   12.4%\n",
      "x       28.6%   58.6%   12.8%\n",
      "total   43.6%   43.8%   12.6%\n",
      "\n",
      "ai14s VS ai2\n"
     ]
    },
    {
     "name": "stderr",
     "output_type": "stream",
     "text": [
      "100%|██████████| 50000/50000 [00:51<00:00, 971.35it/s] \n"
     ]
    },
    {
     "name": "stdout",
     "output_type": "stream",
     "text": [
      "count     win    lose    draw\n",
      "o       49524       0     476\n",
      "x       44126       0    5874\n",
      "total   93650       0    6350\n",
      "\n",
      "ratio     win    lose    draw\n",
      "o       99.0%    0.0%    1.0%\n",
      "x       88.3%    0.0%   11.7%\n",
      "total   93.7%    0.0%    6.3%\n",
      "\n",
      "ai_abs_dls\n",
      "17.8 ms ± 341 μs per loop (mean ± std. dev. of 7 runs, 100 loops each)\n"
     ]
    }
   ],
   "source": [
    "benchmark(mbparams={\"boardclass\": ListBoard, \"count_linemark\": False}, seed=1)"
   ]
  },
  {
   "cell_type": "code",
   "execution_count": 24,
   "id": "1c861ed4",
   "metadata": {},
   "outputs": [
    {
     "name": "stdout",
     "output_type": "stream",
     "text": [
      "10.1 ns ± 0.224 ns per loop (mean ± std. dev. of 7 runs, 100,000,000 loops each)\n"
     ]
    }
   ],
   "source": [
    "%timeit 1 + 2"
   ]
  },
  {
   "cell_type": "code",
   "execution_count": 25,
   "id": "0f7a8d56",
   "metadata": {},
   "outputs": [
    {
     "name": "stdout",
     "output_type": "stream",
     "text": [
      "[1.14166110008955, 1.1156697981059551, 1.1045803017914295, 1.1856296993792057, 1.1052100993692875, 1.1550979986786842, 1.1028691977262497]\n"
     ]
    }
   ],
   "source": [
    "import timeit \n",
    "\n",
    "number = 100000000\n",
    "repeat = 7\n",
    "result = timeit.repeat(stmt=\"1 + 2\", number=number, repeat=repeat)\n",
    "print(result)"
   ]
  },
  {
   "cell_type": "code",
   "execution_count": 26,
   "id": "ef9d857b",
   "metadata": {},
   "outputs": [
    {
     "name": "stdout",
     "output_type": "stream",
     "text": [
      "[1.14166110008955e-08, 1.115669798105955e-08, 1.1045803017914295e-08, 1.1856296993792057e-08, 1.1052100993692875e-08, 1.1550979986786842e-08, 1.1028691977262497e-08]\n"
     ]
    }
   ],
   "source": [
    "result = [time / number for time in result]\n",
    "print(result)"
   ]
  },
  {
   "cell_type": "code",
   "execution_count": 27,
   "id": "056d7471",
   "metadata": {},
   "outputs": [
    {
     "name": "stdout",
     "output_type": "stream",
     "text": [
      "mean 11.30102599305766 ns\n",
      "stdev 0.31787355736488865 ns\n"
     ]
    }
   ],
   "source": [
    "from statistics import mean, stdev\n",
    "\n",
    "print(f\"mean {mean(result) * 1000000000} ns\")\n",
    "print(f\"stdev {stdev(result) * 1000000000} ns\")"
   ]
  },
  {
   "cell_type": "code",
   "execution_count": 28,
   "id": "20579433",
   "metadata": {},
   "outputs": [
    {
     "ename": "NameError",
     "evalue": "name 'a' is not defined",
     "output_type": "error",
     "traceback": [
      "\u001b[31m---------------------------------------------------------------------------\u001b[39m",
      "\u001b[31mNameError\u001b[39m                                 Traceback (most recent call last)",
      "\u001b[36mCell\u001b[39m\u001b[36m \u001b[39m\u001b[32mIn[28]\u001b[39m\u001b[32m, line 2\u001b[39m\n\u001b[32m      1\u001b[39m a = \u001b[32m1\u001b[39m\n\u001b[32m----> \u001b[39m\u001b[32m2\u001b[39m timeit.repeat(\u001b[33m\"\u001b[39m\u001b[33mstmt=a+1\u001b[39m\u001b[33m\"\u001b[39m, number=number, repeat=repeat)\n",
      "\u001b[36mFile \u001b[39m\u001b[32mc:\\Users\\ys\\Anaconda3\\envs\\marubatsu313\\Lib\\timeit.py:243\u001b[39m, in \u001b[36mrepeat\u001b[39m\u001b[34m(stmt, setup, timer, repeat, number, globals)\u001b[39m\n\u001b[32m    240\u001b[39m \u001b[38;5;28;01mdef\u001b[39;00m\u001b[38;5;250m \u001b[39m\u001b[34mrepeat\u001b[39m(stmt=\u001b[33m\"\u001b[39m\u001b[33mpass\u001b[39m\u001b[33m\"\u001b[39m, setup=\u001b[33m\"\u001b[39m\u001b[33mpass\u001b[39m\u001b[33m\"\u001b[39m, timer=default_timer,\n\u001b[32m    241\u001b[39m            repeat=default_repeat, number=default_number, \u001b[38;5;28mglobals\u001b[39m=\u001b[38;5;28;01mNone\u001b[39;00m):\n\u001b[32m    242\u001b[39m \u001b[38;5;250m    \u001b[39m\u001b[33;03m\"\"\"Convenience function to create Timer object and call repeat method.\"\"\"\u001b[39;00m\n\u001b[32m--> \u001b[39m\u001b[32m243\u001b[39m     \u001b[38;5;28;01mreturn\u001b[39;00m Timer(stmt, setup, timer, \u001b[38;5;28mglobals\u001b[39m).repeat(repeat, number)\n",
      "\u001b[36mFile \u001b[39m\u001b[32mc:\\Users\\ys\\Anaconda3\\envs\\marubatsu313\\Lib\\timeit.py:208\u001b[39m, in \u001b[36mTimer.repeat\u001b[39m\u001b[34m(self, repeat, number)\u001b[39m\n\u001b[32m    206\u001b[39m r = []\n\u001b[32m    207\u001b[39m \u001b[38;5;28;01mfor\u001b[39;00m i \u001b[38;5;129;01min\u001b[39;00m \u001b[38;5;28mrange\u001b[39m(repeat):\n\u001b[32m--> \u001b[39m\u001b[32m208\u001b[39m     t = \u001b[38;5;28mself\u001b[39m.timeit(number)\n\u001b[32m    209\u001b[39m     r.append(t)\n\u001b[32m    210\u001b[39m \u001b[38;5;28;01mreturn\u001b[39;00m r\n",
      "\u001b[36mFile \u001b[39m\u001b[32mc:\\Users\\ys\\Anaconda3\\envs\\marubatsu313\\Lib\\timeit.py:180\u001b[39m, in \u001b[36mTimer.timeit\u001b[39m\u001b[34m(self, number)\u001b[39m\n\u001b[32m    178\u001b[39m gc.disable()\n\u001b[32m    179\u001b[39m \u001b[38;5;28;01mtry\u001b[39;00m:\n\u001b[32m--> \u001b[39m\u001b[32m180\u001b[39m     timing = \u001b[38;5;28mself\u001b[39m.inner(it, \u001b[38;5;28mself\u001b[39m.timer)\n\u001b[32m    181\u001b[39m \u001b[38;5;28;01mfinally\u001b[39;00m:\n\u001b[32m    182\u001b[39m     \u001b[38;5;28;01mif\u001b[39;00m gcold:\n",
      "\u001b[36mFile \u001b[39m\u001b[32m<timeit-src>:6\u001b[39m, in \u001b[36minner\u001b[39m\u001b[34m(_it, _timer)\u001b[39m\n",
      "\u001b[31mNameError\u001b[39m: name 'a' is not defined"
     ]
    }
   ],
   "source": [
    "a = 1\n",
    "timeit.repeat(\"stmt=a+1\", number=number, repeat=repeat)"
   ]
  },
  {
   "cell_type": "code",
   "execution_count": 29,
   "id": "ebe911b2",
   "metadata": {},
   "outputs": [
    {
     "name": "stdout",
     "output_type": "stream",
     "text": [
      "[2.256257101893425, 2.2410292997956276, 2.1918498016893864, 2.1492957025766373, 2.1939339004456997, 2.156707100570202, 2.1734426990151405]\n"
     ]
    }
   ],
   "source": [
    "a = 1\n",
    "print(timeit.repeat(\"stmt=a+1\", number=number, repeat=repeat, globals=globals()))"
   ]
  },
  {
   "cell_type": "code",
   "execution_count": 30,
   "id": "fcc3b9b5",
   "metadata": {},
   "outputs": [
    {
     "ename": "NameError",
     "evalue": "name 'c' is not defined",
     "output_type": "error",
     "traceback": [
      "\u001b[31m---------------------------------------------------------------------------\u001b[39m",
      "\u001b[31mNameError\u001b[39m                                 Traceback (most recent call last)",
      "\u001b[36mCell\u001b[39m\u001b[36m \u001b[39m\u001b[32mIn[30]\u001b[39m\u001b[32m, line 5\u001b[39m\n\u001b[32m      2\u001b[39m     c = \u001b[32m1\u001b[39m\n\u001b[32m      3\u001b[39m     \u001b[38;5;28mprint\u001b[39m(timeit.repeat(\u001b[33m\"\u001b[39m\u001b[33mstmt=c+1\u001b[39m\u001b[33m\"\u001b[39m, number=number, repeat=repeat, \u001b[38;5;28mglobals\u001b[39m=\u001b[38;5;28mglobals\u001b[39m()))    \n\u001b[32m----> \u001b[39m\u001b[32m5\u001b[39m b()\n",
      "\u001b[36mCell\u001b[39m\u001b[36m \u001b[39m\u001b[32mIn[30]\u001b[39m\u001b[32m, line 3\u001b[39m, in \u001b[36mb\u001b[39m\u001b[34m()\u001b[39m\n\u001b[32m      1\u001b[39m \u001b[38;5;28;01mdef\u001b[39;00m\u001b[38;5;250m \u001b[39m\u001b[34mb\u001b[39m():\n\u001b[32m      2\u001b[39m     c = \u001b[32m1\u001b[39m\n\u001b[32m----> \u001b[39m\u001b[32m3\u001b[39m     \u001b[38;5;28mprint\u001b[39m(timeit.repeat(\u001b[33m\"\u001b[39m\u001b[33mstmt=c+1\u001b[39m\u001b[33m\"\u001b[39m, number=number, repeat=repeat, \u001b[38;5;28mglobals\u001b[39m=\u001b[38;5;28mglobals\u001b[39m()))\n",
      "\u001b[36mFile \u001b[39m\u001b[32mc:\\Users\\ys\\Anaconda3\\envs\\marubatsu313\\Lib\\timeit.py:243\u001b[39m, in \u001b[36mrepeat\u001b[39m\u001b[34m(stmt, setup, timer, repeat, number, globals)\u001b[39m\n\u001b[32m    240\u001b[39m \u001b[38;5;28;01mdef\u001b[39;00m\u001b[38;5;250m \u001b[39m\u001b[34mrepeat\u001b[39m(stmt=\u001b[33m\"\u001b[39m\u001b[33mpass\u001b[39m\u001b[33m\"\u001b[39m, setup=\u001b[33m\"\u001b[39m\u001b[33mpass\u001b[39m\u001b[33m\"\u001b[39m, timer=default_timer,\n\u001b[32m    241\u001b[39m            repeat=default_repeat, number=default_number, \u001b[38;5;28mglobals\u001b[39m=\u001b[38;5;28;01mNone\u001b[39;00m):\n\u001b[32m    242\u001b[39m \u001b[38;5;250m    \u001b[39m\u001b[33;03m\"\"\"Convenience function to create Timer object and call repeat method.\"\"\"\u001b[39;00m\n\u001b[32m--> \u001b[39m\u001b[32m243\u001b[39m     \u001b[38;5;28;01mreturn\u001b[39;00m Timer(stmt, setup, timer, \u001b[38;5;28mglobals\u001b[39m).repeat(repeat, number)\n",
      "\u001b[36mFile \u001b[39m\u001b[32mc:\\Users\\ys\\Anaconda3\\envs\\marubatsu313\\Lib\\timeit.py:208\u001b[39m, in \u001b[36mTimer.repeat\u001b[39m\u001b[34m(self, repeat, number)\u001b[39m\n\u001b[32m    206\u001b[39m r = []\n\u001b[32m    207\u001b[39m \u001b[38;5;28;01mfor\u001b[39;00m i \u001b[38;5;129;01min\u001b[39;00m \u001b[38;5;28mrange\u001b[39m(repeat):\n\u001b[32m--> \u001b[39m\u001b[32m208\u001b[39m     t = \u001b[38;5;28mself\u001b[39m.timeit(number)\n\u001b[32m    209\u001b[39m     r.append(t)\n\u001b[32m    210\u001b[39m \u001b[38;5;28;01mreturn\u001b[39;00m r\n",
      "\u001b[36mFile \u001b[39m\u001b[32mc:\\Users\\ys\\Anaconda3\\envs\\marubatsu313\\Lib\\timeit.py:180\u001b[39m, in \u001b[36mTimer.timeit\u001b[39m\u001b[34m(self, number)\u001b[39m\n\u001b[32m    178\u001b[39m gc.disable()\n\u001b[32m    179\u001b[39m \u001b[38;5;28;01mtry\u001b[39;00m:\n\u001b[32m--> \u001b[39m\u001b[32m180\u001b[39m     timing = \u001b[38;5;28mself\u001b[39m.inner(it, \u001b[38;5;28mself\u001b[39m.timer)\n\u001b[32m    181\u001b[39m \u001b[38;5;28;01mfinally\u001b[39;00m:\n\u001b[32m    182\u001b[39m     \u001b[38;5;28;01mif\u001b[39;00m gcold:\n",
      "\u001b[36mFile \u001b[39m\u001b[32m<timeit-src>:6\u001b[39m, in \u001b[36minner\u001b[39m\u001b[34m(_it, _timer)\u001b[39m\n",
      "\u001b[31mNameError\u001b[39m: name 'c' is not defined"
     ]
    }
   ],
   "source": [
    "def b():\n",
    "    c = 1\n",
    "    print(timeit.repeat(\"stmt=c+1\", number=number, repeat=repeat, globals=globals()))    \n",
    "    \n",
    "b()"
   ]
  },
  {
   "cell_type": "code",
   "execution_count": 31,
   "id": "c3757865",
   "metadata": {},
   "outputs": [
    {
     "name": "stdout",
     "output_type": "stream",
     "text": [
      "[2.2663614004850388, 2.2158589027822018, 2.2128161005675793, 2.1701188012957573, 2.165589399635792, 2.216084398329258, 2.170499600470066]\n"
     ]
    }
   ],
   "source": [
    "def b():\n",
    "    c = 1\n",
    "    print(timeit.repeat(\"stmt=c+1\", number=number, repeat=repeat, globals=locals()))    \n",
    "    \n",
    "b()"
   ]
  },
  {
   "cell_type": "code",
   "execution_count": 38,
   "id": "816aa8dd",
   "metadata": {},
   "outputs": [],
   "source": [
    "import timeit\n",
    "from statistics import mean, stdev\n",
    "\n",
    "def benchmark(mbparams={}, match_num=50000, seed=0, number=10, repeat=7):\n",
    "    if seed is not None:\n",
    "        random.seed(seed)       \n",
    "        \n",
    "    from ai import ai2, ai14s, ai_match, ai_abs_dls\n",
    "\n",
    "    ai_match(ai=[ai2, ai2], match_num=match_num, mbparams=mbparams)   \n",
    "    ai_match(ai=[ai14s, ai2], match_num=match_num, mbparams=mbparams)\n",
    "\n",
    "    mb = Marubatsu(**mbparams)\n",
    "    eval_params = {\"minimax\": True}\n",
    "    stmt = \"ai_abs_dls(mb, eval_func=ai14s, eval_params=eval_params, use_tt=True, maxdepth=8)\"\n",
    "    print(\"ai_abs_dls\")\n",
    "    result = timeit.repeat(stmt=stmt, number=number, repeat=repeat, globals=locals())\n",
    "    result = [time / number for time in result]\n",
    "    print(f\"{mean(result) * 1000:5.1f} ms ± {stdev(result) * 1000:5.1f} ms per loop (mean ± std. dev. of {repeat} runs, {number} loops each)\")"
   ]
  },
  {
   "cell_type": "code",
   "execution_count": 39,
   "id": "22df2de5",
   "metadata": {},
   "outputs": [
    {
     "name": "stdout",
     "output_type": "stream",
     "text": [
      "ai2 VS ai2\n"
     ]
    },
    {
     "name": "stderr",
     "output_type": "stream",
     "text": [
      "100%|██████████| 50000/50000 [00:04<00:00, 11415.43it/s]\n"
     ]
    },
    {
     "name": "stdout",
     "output_type": "stream",
     "text": [
      "count     win    lose    draw\n",
      "o       29454   14352    6194\n",
      "x       14208   29592    6200\n",
      "total   43662   43944   12394\n",
      "\n",
      "ratio     win    lose    draw\n",
      "o       58.9%   28.7%   12.4%\n",
      "x       28.4%   59.2%   12.4%\n",
      "total   43.7%   43.9%   12.4%\n",
      "\n",
      "ai14s VS ai2\n"
     ]
    },
    {
     "name": "stderr",
     "output_type": "stream",
     "text": [
      "100%|██████████| 50000/50000 [00:52<00:00, 955.25it/s] \n"
     ]
    },
    {
     "name": "stdout",
     "output_type": "stream",
     "text": [
      "count     win    lose    draw\n",
      "o       49446       0     554\n",
      "x       44043       0    5957\n",
      "total   93489       0    6511\n",
      "\n",
      "ratio     win    lose    draw\n",
      "o       98.9%    0.0%    1.1%\n",
      "x       88.1%    0.0%   11.9%\n",
      "total   93.5%    0.0%    6.5%\n",
      "\n",
      "ai_abs_dls\n",
      " 19.1 ms ±   2.3 ms per loop (mean ± std. dev. of 7 runs, 10 loops each)\n"
     ]
    }
   ],
   "source": [
    "benchmark()"
   ]
  }
 ],
 "metadata": {
  "kernelspec": {
   "display_name": "marubatsu313",
   "language": "python",
   "name": "python3"
  },
  "language_info": {
   "codemirror_mode": {
    "name": "ipython",
    "version": 3
   },
   "file_extension": ".py",
   "mimetype": "text/x-python",
   "name": "python",
   "nbconvert_exporter": "python",
   "pygments_lexer": "ipython3",
   "version": "3.13.5"
  }
 },
 "nbformat": 4,
 "nbformat_minor": 5
}
