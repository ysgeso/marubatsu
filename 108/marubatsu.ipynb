{
 "cells": [
  {
   "cell_type": "code",
   "execution_count": 1,
   "metadata": {},
   "outputs": [
    {
     "name": "stderr",
     "output_type": "stream",
     "text": [
      "100%|██████████| 10000/10000 [00:00<00:00, 5895844.81it/s]\n"
     ]
    }
   ],
   "source": [
    "from tqdm import tqdm\n",
    "\n",
    "for i in tqdm(range(10000)):\n",
    "    pass"
   ]
  },
  {
   "cell_type": "code",
   "execution_count": 2,
   "metadata": {},
   "outputs": [],
   "source": [
    "from marubatsu import Marubatsu\n",
    "from collections import defaultdict\n",
    "\n",
    "def ai_match(ai, params=[{}, {}], match_num=10000):\n",
    "    print(f\"{ai[0].__name__} VS {ai[1].__name__}\")\n",
    "    \n",
    "    mb = Marubatsu()\n",
    "\n",
    "    # ai[0] VS ai[1] と ai[1] VS a[0] の対戦を match_num 回行い、通算成績を数える\n",
    "    count_list = [ defaultdict(int), defaultdict(int)]\n",
    "    for _ in tqdm(range(match_num)):\n",
    "        count_list[0][mb.play(ai, params=params, verbose=False)] += 1\n",
    "        count_list[1][mb.play(ai=ai[::-1], params=params[::-1], verbose=False)] += 1\n",
    "\n",
    "    # ai[0] から見た通算成績を計算する\n",
    "    count_list_ai0 = [\n",
    "        # ai[0] VS ai[1] の場合の、ai[0] から見た通算成績\n",
    "        { \n",
    "            \"win\": count_list[0][Marubatsu.CIRCLE],\n",
    "            \"lose\": count_list[0][Marubatsu.CROSS],\n",
    "            \"draw\": count_list[0][Marubatsu.DRAW],\n",
    "        },\n",
    "        # ai[1] VS ai[0] の場合の、ai[0] から見た通算成績\n",
    "        { \n",
    "            \"win\": count_list[1][Marubatsu.CROSS],\n",
    "            \"lose\": count_list[1][Marubatsu.CIRCLE],\n",
    "            \"draw\": count_list[1][Marubatsu.DRAW],\n",
    "        },\n",
    "    ]           \n",
    "\n",
    "    # 両方の対戦の通算成績の合計を計算する\n",
    "    count_list_ai0.append({})\n",
    "    for key in count_list_ai0[0]:\n",
    "        count_list_ai0[2][key] = count_list_ai0[0][key] + count_list_ai0[1][key]\n",
    "\n",
    "    # それぞれの比率を計算し、ratio_list に代入する\n",
    "    ratio_list = [ {}, {}, {} ]\n",
    "    for i in range(3):\n",
    "        for key in count_list_ai0[i]:\n",
    "            ratio_list[i][key] = count_list_ai0[i][key] / sum(count_list_ai0[i].values())\n",
    "            \n",
    "    # 各行の先頭に表示する文字列のリスト\n",
    "    item_text_list = [ Marubatsu.CIRCLE, Marubatsu.CROSS, \"total\" ]    \n",
    "    \n",
    "    # 通算成績の回数と比率の表示\n",
    "    width = max(len(str(match_num * 2)), 7)\n",
    "    diff_list = [ (\"count\", count_list_ai0, f\"{width}d\"),\n",
    "                  (\"ratio\", ratio_list, f\"{width}.1%\") ]\n",
    "    for title, data, format in diff_list:\n",
    "        print(title, end=\"\")\n",
    "        for key in data[0]:\n",
    "            print(f\" {key:>{width}}\", end=\"\")\n",
    "        print()\n",
    "        for i in range(3):\n",
    "            print(f\"{item_text_list[i]:5}\", end=\"\")\n",
    "            for value in data[i].values():\n",
    "                print(f\" {value:{format}}\", end=\"\")\n",
    "            print()\n",
    "        print()"
   ]
  },
  {
   "cell_type": "code",
   "execution_count": 3,
   "metadata": {},
   "outputs": [
    {
     "name": "stdout",
     "output_type": "stream",
     "text": [
      "ai_gt1 VS ai2s\n"
     ]
    },
    {
     "name": "stderr",
     "output_type": "stream",
     "text": [
      "100%|██████████| 10000/10000 [00:31<00:00, 315.49it/s]"
     ]
    },
    {
     "name": "stdout",
     "output_type": "stream",
     "text": [
      "count     win    lose    draw\n",
      "o        9697       0     303\n",
      "x        7786       0    2214\n",
      "total   17483       0    2517\n",
      "\n",
      "ratio     win    lose    draw\n",
      "o       97.0%    0.0%    3.0%\n",
      "x       77.9%    0.0%   22.1%\n",
      "total   87.4%    0.0%   12.6%\n",
      "\n"
     ]
    },
    {
     "name": "stderr",
     "output_type": "stream",
     "text": [
      "\n"
     ]
    }
   ],
   "source": [
    "from tree import Mbtree\n",
    "from ai import ai_gt1, ai2s\n",
    "\n",
    "mbtree = Mbtree.load(\"dfscore\")\n",
    "ai_match(ai=[ai_gt1, ai2s], params=[{\"mbtree\":mbtree}, {}])"
   ]
  },
  {
   "cell_type": "code",
   "execution_count": 4,
   "metadata": {},
   "outputs": [],
   "source": [
    "def calc_bestmoves(self, node):\n",
    "    bestmoves = []\n",
    "    for move, childnode in node.children_by_move.items():\n",
    "        if node.score == childnode.score:\n",
    "            bestmoves.append(move)\n",
    "    node.bestmoves = bestmoves\n",
    "    \n",
    "    for childnode in node.children:\n",
    "        self.calc_bestmoves(childnode)\n",
    "        \n",
    "Mbtree.calc_bestmoves = calc_bestmoves       \n"
   ]
  },
  {
   "cell_type": "code",
   "execution_count": 5,
   "metadata": {},
   "outputs": [],
   "source": [
    "mbtree.calc_bestmoves(mbtree.root)"
   ]
  },
  {
   "cell_type": "code",
   "execution_count": 6,
   "metadata": {},
   "outputs": [
    {
     "name": "stdout",
     "output_type": "stream",
     "text": [
      "[(0, 0), (1, 0), (2, 0), (0, 1), (1, 1), (2, 1), (0, 2), (1, 2), (2, 2)]\n"
     ]
    }
   ],
   "source": [
    "print(mbtree.root.bestmoves)"
   ]
  },
  {
   "cell_type": "code",
   "execution_count": 7,
   "metadata": {},
   "outputs": [],
   "source": [
    "from random import choice\n",
    "\n",
    "def ai_gt2(mb, mbtree):\n",
    "    node = mbtree.root\n",
    "    for move in mb.records[1:]:\n",
    "        node = node.children_by_move[move]\n",
    "\n",
    "    return choice(node.bestmoves)"
   ]
  },
  {
   "cell_type": "code",
   "execution_count": 8,
   "metadata": {},
   "outputs": [
    {
     "name": "stdout",
     "output_type": "stream",
     "text": [
      "ai_gt2 VS ai2s\n"
     ]
    },
    {
     "name": "stderr",
     "output_type": "stream",
     "text": [
      "100%|██████████| 10000/10000 [00:32<00:00, 304.67it/s]"
     ]
    },
    {
     "name": "stdout",
     "output_type": "stream",
     "text": [
      "count     win    lose    draw\n",
      "o        9673       0     327\n",
      "x        7711       0    2289\n",
      "total   17384       0    2616\n",
      "\n",
      "ratio     win    lose    draw\n",
      "o       96.7%    0.0%    3.3%\n",
      "x       77.1%    0.0%   22.9%\n",
      "total   86.9%    0.0%   13.1%\n",
      "\n"
     ]
    },
    {
     "name": "stderr",
     "output_type": "stream",
     "text": [
      "\n"
     ]
    }
   ],
   "source": [
    "ai_match(ai=[ai_gt2, ai2s], params=[{\"mbtree\":mbtree}, {}])"
   ]
  },
  {
   "cell_type": "code",
   "execution_count": 9,
   "metadata": {},
   "outputs": [],
   "source": [
    "mb = Marubatsu()\n",
    "mb2 = Marubatsu()"
   ]
  },
  {
   "cell_type": "code",
   "execution_count": 10,
   "metadata": {},
   "outputs": [
    {
     "ename": "KeyError",
     "evalue": "<marubatsu.Marubatsu object at 0x000001A5A4E0D590>",
     "output_type": "error",
     "traceback": [
      "\u001b[1;31m---------------------------------------------------------------------------\u001b[0m",
      "\u001b[1;31mKeyError\u001b[0m                                  Traceback (most recent call last)",
      "Cell \u001b[1;32mIn[10], line 2\u001b[0m\n\u001b[0;32m      1\u001b[0m nodelist_by_mb \u001b[38;5;241m=\u001b[39m { mb: mbtree\u001b[38;5;241m.\u001b[39mroot }\n\u001b[1;32m----> 2\u001b[0m \u001b[38;5;28mprint\u001b[39m(nodelist_by_mb[mb2])\n",
      "\u001b[1;31mKeyError\u001b[0m: <marubatsu.Marubatsu object at 0x000001A5A4E0D590>"
     ]
    }
   ],
   "source": [
    "nodelist_by_mb = { mb: mbtree.root }\n",
    "print(nodelist_by_mb[mb2])"
   ]
  },
  {
   "cell_type": "code",
   "execution_count": 11,
   "metadata": {},
   "outputs": [
    {
     "ename": "TypeError",
     "evalue": "unhashable type: 'list'",
     "output_type": "error",
     "traceback": [
      "\u001b[1;31m---------------------------------------------------------------------------\u001b[0m",
      "\u001b[1;31mTypeError\u001b[0m                                 Traceback (most recent call last)",
      "Cell \u001b[1;32mIn[11], line 1\u001b[0m\n\u001b[1;32m----> 1\u001b[0m nodelist_by_mb \u001b[38;5;241m=\u001b[39m {mb\u001b[38;5;241m.\u001b[39mrecords: mbtree\u001b[38;5;241m.\u001b[39mroot}\n",
      "\u001b[1;31mTypeError\u001b[0m: unhashable type: 'list'"
     ]
    }
   ],
   "source": [
    "nodelist_by_mb = {mb.records: mbtree.root}"
   ]
  },
  {
   "cell_type": "code",
   "execution_count": 13,
   "metadata": {},
   "outputs": [
    {
     "name": "stdout",
     "output_type": "stream",
     "text": [
      "[1, 2, 3]\n",
      "(1, 2, 3)\n"
     ]
    }
   ],
   "source": [
    "a = [1, 2, 3]\n",
    "b = tuple(a)\n",
    "print(a)\n",
    "print(b)"
   ]
  },
  {
   "cell_type": "code",
   "execution_count": 12,
   "metadata": {},
   "outputs": [
    {
     "name": "stdout",
     "output_type": "stream",
     "text": [
      "[1, [2, 3], (4, 5)]\n",
      "(1, [2, 3], (4, 5))\n"
     ]
    }
   ],
   "source": [
    "a = [1, [2, 3], (4, 5)]\n",
    "b = tuple(a)\n",
    "print(a)\n",
    "print(b)"
   ]
  },
  {
   "cell_type": "code",
   "execution_count": 14,
   "metadata": {},
   "outputs": [
    {
     "name": "stdout",
     "output_type": "stream",
     "text": [
      "(1, (2, 3))\n",
      "[1, (2, 3)]\n"
     ]
    }
   ],
   "source": [
    "a = (1, (2, 3))\n",
    "b = list(a)\n",
    "print(a)\n",
    "print(b)"
   ]
  },
  {
   "cell_type": "code",
   "execution_count": 15,
   "metadata": {},
   "outputs": [],
   "source": [
    "def calc_bestmoves(self, node):\n",
    "    self.nodelist_by_mb[tuple(node.mb.records)] = node\n",
    "\n",
    "    bestmoves = []\n",
    "    for move, childnode in node.children_by_move.items():\n",
    "        if node.score == childnode.score:\n",
    "            bestmoves.append(move)\n",
    "    node.bestmoves = bestmoves\n",
    "    \n",
    "    for childnode in node.children:\n",
    "        self.calc_bestmoves(childnode)\n",
    "        \n",
    "Mbtree.calc_bestmoves = calc_bestmoves "
   ]
  },
  {
   "cell_type": "code",
   "execution_count": 16,
   "metadata": {},
   "outputs": [],
   "source": [
    "mbtree.nodelist_by_mb = {}\n",
    "mbtree.calc_bestmoves(mbtree.root)"
   ]
  },
  {
   "cell_type": "code",
   "execution_count": 36,
   "metadata": {},
   "outputs": [
    {
     "name": "stdout",
     "output_type": "stream",
     "text": [
      "True\n"
     ]
    }
   ],
   "source": [
    "records = tuple(mbtree.root.mb.records)\n",
    "root = mbtree.nodelist_by_mb[tuple(records)]\n",
    "print(root is mbtree.root)"
   ]
  },
  {
   "cell_type": "code",
   "execution_count": 18,
   "metadata": {},
   "outputs": [],
   "source": [
    "def ai_gt3(mb, mbtree):\n",
    "    node = mbtree.nodelist_by_mb[tuple(mb.records)]\n",
    "    return choice(node.bestmoves)"
   ]
  },
  {
   "cell_type": "code",
   "execution_count": 19,
   "metadata": {},
   "outputs": [
    {
     "name": "stdout",
     "output_type": "stream",
     "text": [
      "ai_gt3 VS ai2s\n"
     ]
    },
    {
     "name": "stderr",
     "output_type": "stream",
     "text": [
      "100%|██████████| 10000/10000 [00:32<00:00, 309.37it/s]"
     ]
    },
    {
     "name": "stdout",
     "output_type": "stream",
     "text": [
      "count     win    lose    draw\n",
      "o        9692       0     308\n",
      "x        7800       0    2200\n",
      "total   17492       0    2508\n",
      "\n",
      "ratio     win    lose    draw\n",
      "o       96.9%    0.0%    3.1%\n",
      "x       78.0%    0.0%   22.0%\n",
      "total   87.5%    0.0%   12.5%\n",
      "\n"
     ]
    },
    {
     "name": "stderr",
     "output_type": "stream",
     "text": [
      "\n"
     ]
    }
   ],
   "source": [
    "ai_match(ai=[ai_gt3, ai2s], params=[{\"mbtree\":mbtree}, {}])"
   ]
  },
  {
   "cell_type": "code",
   "execution_count": 20,
   "metadata": {},
   "outputs": [],
   "source": [
    "def ai_gt4(mb, mbtree):\n",
    "    return choice(mbtree.bestmoves_by_mb[tuple(mb.records)])"
   ]
  },
  {
   "cell_type": "code",
   "execution_count": 21,
   "metadata": {},
   "outputs": [],
   "source": [
    "def calc_bestmoves(self, node):\n",
    "    bestmoves = []\n",
    "    for move, childnode in node.children_by_move.items():\n",
    "        if node.score == childnode.score:\n",
    "            bestmoves.append(move)\n",
    "    node.bestmoves = bestmoves\n",
    "\n",
    "    key = tuple(node.mb.records)\n",
    "    self.nodelist_by_mb[key] = node\n",
    "    self.bestmoves_by_mb[key] = bestmoves\n",
    "   \n",
    "    for childnode in node.children:\n",
    "        self.calc_bestmoves(childnode)\n",
    "        \n",
    "Mbtree.calc_bestmoves = calc_bestmoves   "
   ]
  },
  {
   "cell_type": "code",
   "execution_count": 22,
   "metadata": {},
   "outputs": [],
   "source": [
    "mbtree.nodelist_by_mb = {}\n",
    "mbtree.bestmoves_by_mb = {}\n",
    "mbtree.calc_bestmoves(mbtree.root)"
   ]
  },
  {
   "cell_type": "code",
   "execution_count": 23,
   "metadata": {},
   "outputs": [
    {
     "name": "stdout",
     "output_type": "stream",
     "text": [
      "ai_gt4 VS ai2s\n"
     ]
    },
    {
     "name": "stderr",
     "output_type": "stream",
     "text": [
      "100%|██████████| 10000/10000 [00:32<00:00, 307.99it/s]"
     ]
    },
    {
     "name": "stdout",
     "output_type": "stream",
     "text": [
      "count     win    lose    draw\n",
      "o        9714       0     286\n",
      "x        7704       0    2296\n",
      "total   17418       0    2582\n",
      "\n",
      "ratio     win    lose    draw\n",
      "o       97.1%    0.0%    2.9%\n",
      "x       77.0%    0.0%   23.0%\n",
      "total   87.1%    0.0%   12.9%\n",
      "\n"
     ]
    },
    {
     "name": "stderr",
     "output_type": "stream",
     "text": [
      "\n"
     ]
    }
   ],
   "source": [
    "ai_match(ai=[ai_gt4, ai2s], params=[{\"mbtree\":mbtree}, {}])"
   ]
  },
  {
   "cell_type": "code",
   "execution_count": 24,
   "metadata": {},
   "outputs": [],
   "source": [
    "def ai_gt5(mb, bestmoves):\n",
    "    return choice(bestmoves[tuple(mb.records)])"
   ]
  },
  {
   "cell_type": "code",
   "execution_count": 25,
   "metadata": {},
   "outputs": [
    {
     "name": "stdout",
     "output_type": "stream",
     "text": [
      "ai_gt5 VS ai2s\n"
     ]
    },
    {
     "name": "stderr",
     "output_type": "stream",
     "text": [
      "100%|██████████| 10000/10000 [00:32<00:00, 308.59it/s]"
     ]
    },
    {
     "name": "stdout",
     "output_type": "stream",
     "text": [
      "count     win    lose    draw\n",
      "o        9632       0     368\n",
      "x        7774       0    2226\n",
      "total   17406       0    2594\n",
      "\n",
      "ratio     win    lose    draw\n",
      "o       96.3%    0.0%    3.7%\n",
      "x       77.7%    0.0%   22.3%\n",
      "total   87.0%    0.0%   13.0%\n",
      "\n"
     ]
    },
    {
     "name": "stderr",
     "output_type": "stream",
     "text": [
      "\n"
     ]
    }
   ],
   "source": [
    "ai_match(ai=[ai_gt5, ai2s], params=[{\"bestmoves\":mbtree.bestmoves_by_mb}, {}])"
   ]
  },
  {
   "cell_type": "code",
   "execution_count": 26,
   "metadata": {},
   "outputs": [
    {
     "name": "stdout",
     "output_type": "stream",
     "text": [
      "save completed.\n"
     ]
    }
   ],
   "source": [
    "import pickle\n",
    "import gzip\n",
    "mbtree.save(\"aidata\")\n",
    "with gzip.open(\"bestmoves.dat\", \"wb\") as f:\n",
    "    pickle.dump(mbtree.bestmoves_by_mb, f)"
   ]
  },
  {
   "cell_type": "code",
   "execution_count": 34,
   "metadata": {},
   "outputs": [
    {
     "data": {
      "text/plain": [
       "<tree.Mbtree at 0x1a611ca0a90>"
      ]
     },
     "execution_count": 34,
     "metadata": {},
     "output_type": "execute_result"
    }
   ],
   "source": [
    "mbtree.load(\"aidata\")"
   ]
  },
  {
   "cell_type": "code",
   "execution_count": 35,
   "metadata": {},
   "outputs": [],
   "source": [
    "with gzip.open(\"bestmoves.dat\", \"rb\") as f:\n",
    "    bestmoves = pickle.load(f)"
   ]
  },
  {
   "cell_type": "code",
   "execution_count": 29,
   "metadata": {},
   "outputs": [],
   "source": [
    "from tree import Node\n",
    "\n",
    "def __init__(self, algo=\"bf\"):\n",
    "    self.algo = algo\n",
    "    Node.count = 0\n",
    "    self.root = Node(Marubatsu())\n",
    "    if self.algo == \"bf\":  \n",
    "        self.create_tree_by_bf()\n",
    "        self.calc_score_by_bf()\n",
    "    else:\n",
    "        self.nodelist = [self.root]\n",
    "        self.nodelist_by_depth = [[] for _ in range(10)]\n",
    "        self.nodelist_by_depth[0].append(self.root)\n",
    "        self.nodenum = 0\n",
    "        self.create_tree_by_df(self.root)\n",
    "        self.nodelist_by_score = []\n",
    "        self.calc_score_by_df(self.root)\n",
    "    self.nodelist_by_mb = {}\n",
    "    self.bestmoves_by_mb = {}\n",
    "    self.calc_bestmoves(self.root)\n",
    "\n",
    "Mbtree.__init__ = __init__"
   ]
  },
  {
   "cell_type": "code",
   "execution_count": 30,
   "metadata": {},
   "outputs": [
    {
     "name": "stdout",
     "output_type": "stream",
     "text": [
      "     9 depth 1 node created\n",
      "    72 depth 2 node created\n",
      "   504 depth 3 node created\n",
      "  3024 depth 4 node created\n",
      " 15120 depth 5 node created\n",
      " 54720 depth 6 node created\n",
      "148176 depth 7 node created\n",
      "200448 depth 8 node created\n",
      "127872 depth 9 node created\n",
      "     0 depth 10 node created\n",
      "total node num = 549946\n",
      "ai_gt4 VS ai2s\n"
     ]
    },
    {
     "name": "stderr",
     "output_type": "stream",
     "text": [
      "100%|██████████| 10000/10000 [00:31<00:00, 315.24it/s]"
     ]
    },
    {
     "name": "stdout",
     "output_type": "stream",
     "text": [
      "count     win    lose    draw\n",
      "o        9683       0     317\n",
      "x        7691       0    2309\n",
      "total   17374       0    2626\n",
      "\n",
      "ratio     win    lose    draw\n",
      "o       96.8%    0.0%    3.2%\n",
      "x       76.9%    0.0%   23.1%\n",
      "total   86.9%    0.0%   13.1%\n",
      "\n"
     ]
    },
    {
     "name": "stderr",
     "output_type": "stream",
     "text": [
      "\n"
     ]
    }
   ],
   "source": [
    "mbtree2 = Mbtree()\n",
    "ai_match(ai=[ai_gt4, ai2s], params=[{\"mbtree\":mbtree2}, {}])"
   ]
  },
  {
   "cell_type": "code",
   "execution_count": 31,
   "metadata": {},
   "outputs": [
    {
     "ename": "IndexError",
     "evalue": "Cannot choose from an empty sequence",
     "output_type": "error",
     "traceback": [
      "\u001b[1;31m---------------------------------------------------------------------------\u001b[0m",
      "\u001b[1;31mIndexError\u001b[0m                                Traceback (most recent call last)",
      "Cell \u001b[1;32mIn[31], line 1\u001b[0m\n\u001b[1;32m----> 1\u001b[0m get_ipython()\u001b[38;5;241m.\u001b[39mrun_cell_magic(\u001b[38;5;124m'\u001b[39m\u001b[38;5;124mtimeit\u001b[39m\u001b[38;5;124m'\u001b[39m, \u001b[38;5;124m'\u001b[39m\u001b[38;5;124m'\u001b[39m, \u001b[38;5;124m'\u001b[39m\u001b[38;5;124mai_gt1(choice(mbtree.nodelist).mb, mbtree)\u001b[39m\u001b[38;5;130;01m\\n\u001b[39;00m\u001b[38;5;124m'\u001b[39m)\n",
      "File \u001b[1;32mc:\\Users\\ys\\Anaconda3\\envs\\marubatsu\\Lib\\site-packages\\IPython\\core\\interactiveshell.py:2475\u001b[0m, in \u001b[0;36mInteractiveShell.run_cell_magic\u001b[1;34m(self, magic_name, line, cell)\u001b[0m\n\u001b[0;32m   2473\u001b[0m \u001b[38;5;28;01mwith\u001b[39;00m \u001b[38;5;28mself\u001b[39m\u001b[38;5;241m.\u001b[39mbuiltin_trap:\n\u001b[0;32m   2474\u001b[0m     args \u001b[38;5;241m=\u001b[39m (magic_arg_s, cell)\n\u001b[1;32m-> 2475\u001b[0m     result \u001b[38;5;241m=\u001b[39m fn(\u001b[38;5;241m*\u001b[39margs, \u001b[38;5;241m*\u001b[39m\u001b[38;5;241m*\u001b[39mkwargs)\n\u001b[0;32m   2477\u001b[0m \u001b[38;5;66;03m# The code below prevents the output from being displayed\u001b[39;00m\n\u001b[0;32m   2478\u001b[0m \u001b[38;5;66;03m# when using magics with decodator @output_can_be_silenced\u001b[39;00m\n\u001b[0;32m   2479\u001b[0m \u001b[38;5;66;03m# when the last Python token in the expression is a ';'.\u001b[39;00m\n\u001b[0;32m   2480\u001b[0m \u001b[38;5;28;01mif\u001b[39;00m \u001b[38;5;28mgetattr\u001b[39m(fn, magic\u001b[38;5;241m.\u001b[39mMAGIC_OUTPUT_CAN_BE_SILENCED, \u001b[38;5;28;01mFalse\u001b[39;00m):\n",
      "File \u001b[1;32mc:\\Users\\ys\\Anaconda3\\envs\\marubatsu\\Lib\\site-packages\\IPython\\core\\magics\\execution.py:1170\u001b[0m, in \u001b[0;36mExecutionMagics.timeit\u001b[1;34m(self, line, cell, local_ns)\u001b[0m\n\u001b[0;32m   1168\u001b[0m \u001b[38;5;28;01mfor\u001b[39;00m index \u001b[38;5;129;01min\u001b[39;00m \u001b[38;5;28mrange\u001b[39m(\u001b[38;5;241m0\u001b[39m, \u001b[38;5;241m10\u001b[39m):\n\u001b[0;32m   1169\u001b[0m     number \u001b[38;5;241m=\u001b[39m \u001b[38;5;241m10\u001b[39m \u001b[38;5;241m*\u001b[39m\u001b[38;5;241m*\u001b[39m index\n\u001b[1;32m-> 1170\u001b[0m     time_number \u001b[38;5;241m=\u001b[39m timer\u001b[38;5;241m.\u001b[39mtimeit(number)\n\u001b[0;32m   1171\u001b[0m     \u001b[38;5;28;01mif\u001b[39;00m time_number \u001b[38;5;241m>\u001b[39m\u001b[38;5;241m=\u001b[39m \u001b[38;5;241m0.2\u001b[39m:\n\u001b[0;32m   1172\u001b[0m         \u001b[38;5;28;01mbreak\u001b[39;00m\n",
      "File \u001b[1;32mc:\\Users\\ys\\Anaconda3\\envs\\marubatsu\\Lib\\site-packages\\IPython\\core\\magics\\execution.py:158\u001b[0m, in \u001b[0;36mTimer.timeit\u001b[1;34m(self, number)\u001b[0m\n\u001b[0;32m    156\u001b[0m gc\u001b[38;5;241m.\u001b[39mdisable()\n\u001b[0;32m    157\u001b[0m \u001b[38;5;28;01mtry\u001b[39;00m:\n\u001b[1;32m--> 158\u001b[0m     timing \u001b[38;5;241m=\u001b[39m \u001b[38;5;28mself\u001b[39m\u001b[38;5;241m.\u001b[39minner(it, \u001b[38;5;28mself\u001b[39m\u001b[38;5;241m.\u001b[39mtimer)\n\u001b[0;32m    159\u001b[0m \u001b[38;5;28;01mfinally\u001b[39;00m:\n\u001b[0;32m    160\u001b[0m     \u001b[38;5;28;01mif\u001b[39;00m gcold:\n",
      "File \u001b[1;32m<magic-timeit>:1\u001b[0m, in \u001b[0;36minner\u001b[1;34m(_it, _timer)\u001b[0m\n",
      "File \u001b[1;32mc:\\Users\\ys\\ai\\marubatsu\\108\\ai.py:1023\u001b[0m, in \u001b[0;36mai_gt1\u001b[1;34m(mb, mbtree)\u001b[0m\n\u001b[0;32m   1021\u001b[0m     \u001b[38;5;28;01mif\u001b[39;00m node\u001b[38;5;241m.\u001b[39mscore \u001b[38;5;241m==\u001b[39m childnode\u001b[38;5;241m.\u001b[39mscore:\n\u001b[0;32m   1022\u001b[0m         bestmoves\u001b[38;5;241m.\u001b[39mappend(move)\n\u001b[1;32m-> 1023\u001b[0m \u001b[38;5;28;01mreturn\u001b[39;00m choice(bestmoves)\n",
      "File \u001b[1;32mc:\\Users\\ys\\Anaconda3\\envs\\marubatsu\\Lib\\random.py:373\u001b[0m, in \u001b[0;36mRandom.choice\u001b[1;34m(self, seq)\u001b[0m\n\u001b[0;32m    370\u001b[0m \u001b[38;5;66;03m# As an accommodation for NumPy, we don't use \"if not seq\"\u001b[39;00m\n\u001b[0;32m    371\u001b[0m \u001b[38;5;66;03m# because bool(numpy.array()) raises a ValueError.\u001b[39;00m\n\u001b[0;32m    372\u001b[0m \u001b[38;5;28;01mif\u001b[39;00m \u001b[38;5;129;01mnot\u001b[39;00m \u001b[38;5;28mlen\u001b[39m(seq):\n\u001b[1;32m--> 373\u001b[0m     \u001b[38;5;28;01mraise\u001b[39;00m \u001b[38;5;167;01mIndexError\u001b[39;00m(\u001b[38;5;124m'\u001b[39m\u001b[38;5;124mCannot choose from an empty sequence\u001b[39m\u001b[38;5;124m'\u001b[39m)\n\u001b[0;32m    374\u001b[0m \u001b[38;5;28;01mreturn\u001b[39;00m seq[\u001b[38;5;28mself\u001b[39m\u001b[38;5;241m.\u001b[39m_randbelow(\u001b[38;5;28mlen\u001b[39m(seq))]\n",
      "\u001b[1;31mIndexError\u001b[0m: Cannot choose from an empty sequence"
     ]
    }
   ],
   "source": [
    "%%timeit\n",
    "ai_gt1(choice(mbtree.nodelist).mb, mbtree)"
   ]
  },
  {
   "cell_type": "code",
   "execution_count": 37,
   "metadata": {},
   "outputs": [],
   "source": [
    "mblist = []\n",
    "for node in mbtree.nodelist:\n",
    "    if node.mb.status == Marubatsu.PLAYING:\n",
    "        mblist.append(node.mb)"
   ]
  },
  {
   "cell_type": "code",
   "execution_count": 38,
   "metadata": {},
   "outputs": [
    {
     "name": "stdout",
     "output_type": "stream",
     "text": [
      "6.41 µs ± 221 ns per loop (mean ± std. dev. of 7 runs, 100,000 loops each)\n"
     ]
    }
   ],
   "source": [
    "%%timeit\n",
    "ai_gt1(choice(mblist), mbtree)"
   ]
  },
  {
   "cell_type": "code",
   "execution_count": 39,
   "metadata": {},
   "outputs": [
    {
     "name": "stdout",
     "output_type": "stream",
     "text": [
      "5.66 µs ± 104 ns per loop (mean ± std. dev. of 7 runs, 100,000 loops each)\n"
     ]
    }
   ],
   "source": [
    "%%timeit\n",
    "ai_gt2(choice(mblist), mbtree)"
   ]
  },
  {
   "cell_type": "code",
   "execution_count": 40,
   "metadata": {},
   "outputs": [
    {
     "name": "stdout",
     "output_type": "stream",
     "text": [
      "3.59 µs ± 54.3 ns per loop (mean ± std. dev. of 7 runs, 100,000 loops each)\n"
     ]
    }
   ],
   "source": [
    "%%timeit\n",
    "ai_gt3(choice(mblist), mbtree)"
   ]
  },
  {
   "cell_type": "code",
   "execution_count": 47,
   "metadata": {},
   "outputs": [
    {
     "name": "stdout",
     "output_type": "stream",
     "text": [
      "2.81 µs ± 27.8 ns per loop (mean ± std. dev. of 7 runs, 100,000 loops each)\n"
     ]
    }
   ],
   "source": [
    "%%timeit\n",
    "ai_gt4(choice(mblist), mbtree)"
   ]
  },
  {
   "cell_type": "code",
   "execution_count": 48,
   "metadata": {},
   "outputs": [
    {
     "name": "stdout",
     "output_type": "stream",
     "text": [
      "3.18 µs ± 39 ns per loop (mean ± std. dev. of 7 runs, 100,000 loops each)\n"
     ]
    }
   ],
   "source": [
    "%%timeit\n",
    "ai_gt5(choice(mblist), bestmoves)"
   ]
  }
 ],
 "metadata": {
  "kernelspec": {
   "display_name": "marubatsu",
   "language": "python",
   "name": "python3"
  },
  "language_info": {
   "codemirror_mode": {
    "name": "ipython",
    "version": 3
   },
   "file_extension": ".py",
   "mimetype": "text/x-python",
   "name": "python",
   "nbconvert_exporter": "python",
   "pygments_lexer": "ipython3",
   "version": "3.11.4"
  }
 },
 "nbformat": 4,
 "nbformat_minor": 2
}
