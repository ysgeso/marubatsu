{
 "cells": [
  {
   "cell_type": "code",
   "execution_count": 1,
   "metadata": {},
   "outputs": [
    {
     "name": "stdout",
     "output_type": "stream",
     "text": [
      "Turn x\n",
      "ooo\n",
      "xx.\n",
      "...\n",
      "\n"
     ]
    }
   ],
   "source": [
    "from marubatsu import Marubatsu\n",
    "\n",
    "mb1 = Marubatsu()\n",
    "mb1.move(0, 0)\n",
    "mb1.move(0, 1)\n",
    "mb1.move(1, 0)\n",
    "mb1.move(1, 1)\n",
    "mb1.move(2, 0)\n",
    "print(mb1)"
   ]
  },
  {
   "cell_type": "code",
   "execution_count": 2,
   "metadata": {},
   "outputs": [
    {
     "name": "stdout",
     "output_type": "stream",
     "text": [
      "ok\n"
     ]
    }
   ],
   "source": [
    "if mb1.judge() == Marubatsu.CIRCLE:\n",
    "    print(\"ok\")\n",
    "else:\n",
    "    print(\"error!\")"
   ]
  },
  {
   "cell_type": "code",
   "execution_count": 3,
   "metadata": {},
   "outputs": [],
   "source": [
    "def test_judge(testcase):\n",
    "    if testcase.judge() == Marubatsu.CIRCLE:\n",
    "        print(\"ok\")\n",
    "    else:\n",
    "        print(\"error!\")  "
   ]
  },
  {
   "cell_type": "code",
   "execution_count": 4,
   "metadata": {},
   "outputs": [
    {
     "name": "stdout",
     "output_type": "stream",
     "text": [
      "ok\n"
     ]
    }
   ],
   "source": [
    "mb1 = Marubatsu()\n",
    "mb1.move(0, 0)\n",
    "mb1.move(0, 1)\n",
    "mb1.move(1, 0)\n",
    "mb1.move(1, 1)\n",
    "mb1.move(2, 0)\n",
    "\n",
    "test_judge(mb1)"
   ]
  },
  {
   "cell_type": "code",
   "execution_count": 5,
   "metadata": {},
   "outputs": [],
   "source": [
    "data1 = [ 0, 0 ]\n",
    "data2 = [ 0, 1 ]\n",
    "data3 = [ 1, 0 ]\n",
    "data4 = [ 1, 1 ]\n",
    "data5 = [ 2, 0 ]"
   ]
  },
  {
   "cell_type": "code",
   "execution_count": 6,
   "metadata": {},
   "outputs": [
    {
     "name": "stdout",
     "output_type": "stream",
     "text": [
      "Turn x\n",
      "ooo\n",
      "xx.\n",
      "...\n",
      "\n"
     ]
    }
   ],
   "source": [
    "mb1 = Marubatsu()\n",
    "mb1.move(data1[0], data1[1])\n",
    "mb1.move(data2[0], data2[1])\n",
    "mb1.move(data3[0], data3[1])\n",
    "mb1.move(data4[0], data4[1])\n",
    "mb1.move(data5[0], data5[1])\n",
    "print(mb1)"
   ]
  },
  {
   "cell_type": "code",
   "execution_count": 7,
   "metadata": {},
   "outputs": [
    {
     "name": "stdout",
     "output_type": "stream",
     "text": [
      "Turn x\n",
      "...\n",
      "xx.\n",
      "ooo\n",
      "\n"
     ]
    }
   ],
   "source": [
    "# data1、data3、data5 が変化している\n",
    "data1 = [ 0, 2 ] \n",
    "data2 = [ 0, 1 ]\n",
    "data3 = [ 1, 2 ]\n",
    "data4 = [ 1, 1 ]\n",
    "data5 = [ 2, 2 ]\n",
    "\n",
    "# テストケースを作成する処理は先ほどと同じ\n",
    "mb1 = Marubatsu()\n",
    "mb1.move(data1[0], data1[1])\n",
    "mb1.move(data2[0], data2[1])\n",
    "mb1.move(data3[0], data3[1])\n",
    "mb1.move(data4[0], data4[1])\n",
    "mb1.move(data5[0], data5[1])\n",
    "print(mb1)"
   ]
  },
  {
   "cell_type": "code",
   "execution_count": 8,
   "metadata": {},
   "outputs": [],
   "source": [
    "data1 = [ 0, 0 ]\n",
    "data2 = [ 0, 1 ]\n",
    "data3 = [ 1, 0 ]\n",
    "data4 = [ 1, 1 ]\n",
    "data5 = [ 2, 0 ]\n",
    "testcase = [ data1, data2, data3, data4, data5 ]"
   ]
  },
  {
   "cell_type": "code",
   "execution_count": 9,
   "metadata": {},
   "outputs": [],
   "source": [
    "testcase = [\n",
    "    [ 0, 0 ], # 下記の順で着手するテストデータ\n",
    "    [ 0, 1 ], # 135\n",
    "    [ 1, 0 ], # 24.\n",
    "    [ 1, 1 ], # ...\n",
    "    [ 2, 0 ],\n",
    "]"
   ]
  },
  {
   "cell_type": "code",
   "execution_count": 10,
   "metadata": {},
   "outputs": [
    {
     "name": "stdout",
     "output_type": "stream",
     "text": [
      "Turn x\n",
      "ooo\n",
      "xx.\n",
      "...\n",
      "\n"
     ]
    }
   ],
   "source": [
    "mb1 = Marubatsu()\n",
    "mb1.move(testcase[0][0], testcase[0][1])\n",
    "mb1.move(testcase[1][0], testcase[1][1])\n",
    "mb1.move(testcase[2][0], testcase[2][1])\n",
    "mb1.move(testcase[3][0], testcase[3][1])\n",
    "mb1.move(testcase[4][0], testcase[4][1])\n",
    "print(mb1)"
   ]
  },
  {
   "cell_type": "code",
   "execution_count": 11,
   "metadata": {},
   "outputs": [
    {
     "name": "stdout",
     "output_type": "stream",
     "text": [
      "Turn x\n",
      "ooo\n",
      "xx.\n",
      "...\n",
      "\n"
     ]
    }
   ],
   "source": [
    "mb1 = Marubatsu()\n",
    "for data in testcase:\n",
    "    mb1.move(data[0], data[1])\n",
    "print(mb1)"
   ]
  },
  {
   "cell_type": "code",
   "execution_count": 12,
   "metadata": {},
   "outputs": [
    {
     "name": "stdout",
     "output_type": "stream",
     "text": [
      "Turn x\n",
      "ooo\n",
      "xx.\n",
      "...\n",
      "\n"
     ]
    }
   ],
   "source": [
    "mb1 = Marubatsu()\n",
    "for data in testcase:\n",
    "    x = data[0]\n",
    "    y = data[1]\n",
    "    mb1.move(x, y)\n",
    "print(mb1)"
   ]
  },
  {
   "cell_type": "code",
   "execution_count": 13,
   "metadata": {},
   "outputs": [
    {
     "name": "stdout",
     "output_type": "stream",
     "text": [
      "Turn x\n",
      "ooo\n",
      "xx.\n",
      "...\n",
      "\n"
     ]
    }
   ],
   "source": [
    "mb1 = Marubatsu()\n",
    "for data in testcase:\n",
    "    x, y = data\n",
    "    mb1.move(x, y)\n",
    "print(mb1)"
   ]
  },
  {
   "cell_type": "code",
   "execution_count": 14,
   "metadata": {},
   "outputs": [
    {
     "name": "stdout",
     "output_type": "stream",
     "text": [
      "Turn x\n",
      "ooo\n",
      "xx.\n",
      "...\n",
      "\n"
     ]
    }
   ],
   "source": [
    "mb1 = Marubatsu()\n",
    "for x, y in testcase:\n",
    "    mb1.move(x, y)\n",
    "print(mb1)"
   ]
  },
  {
   "cell_type": "code",
   "execution_count": 15,
   "metadata": {},
   "outputs": [
    {
     "name": "stdout",
     "output_type": "stream",
     "text": [
      "Turn x\n",
      "ooo\n",
      "xx.\n",
      "...\n",
      "\n",
      "ok\n"
     ]
    }
   ],
   "source": [
    "testcase = [\n",
    "    [ 0, 0 ], # 下記の順で着手するテストデータ\n",
    "    [ 0, 1 ], # 135\n",
    "    [ 1, 0 ], # 24.\n",
    "    [ 1, 1 ], # ...\n",
    "    [ 2, 0 ],\n",
    "]\n",
    "\n",
    "mb1 = Marubatsu()\n",
    "for x, y in testcase:\n",
    "    mb1.move(x, y)\n",
    "print(mb1)\n",
    "\n",
    "if mb1.judge() == Marubatsu.CIRCLE:\n",
    "    print(\"ok\")\n",
    "else:\n",
    "    print(\"error!\")"
   ]
  },
  {
   "cell_type": "code",
   "execution_count": 16,
   "metadata": {},
   "outputs": [],
   "source": [
    "def test_judge(testcase):\n",
    "    mb = Marubatsu()\n",
    "    for x, y in testcase:\n",
    "        mb.move(x, y)\n",
    "    print(mb)\n",
    "\n",
    "    if mb.judge() == Marubatsu.CIRCLE:\n",
    "        print(\"ok\")\n",
    "    else:\n",
    "        print(\"error!\")"
   ]
  },
  {
   "cell_type": "code",
   "execution_count": 17,
   "metadata": {},
   "outputs": [
    {
     "name": "stdout",
     "output_type": "stream",
     "text": [
      "Turn x\n",
      "ooo\n",
      "xx.\n",
      "...\n",
      "\n",
      "ok\n"
     ]
    }
   ],
   "source": [
    "test_judge(testcase)"
   ]
  }
 ],
 "metadata": {
  "kernelspec": {
   "display_name": "marubatsu",
   "language": "python",
   "name": "python3"
  },
  "language_info": {
   "codemirror_mode": {
    "name": "ipython",
    "version": 3
   },
   "file_extension": ".py",
   "mimetype": "text/x-python",
   "name": "python",
   "nbconvert_exporter": "python",
   "pygments_lexer": "ipython3",
   "version": "3.11.4"
  }
 },
 "nbformat": 4,
 "nbformat_minor": 2
}
