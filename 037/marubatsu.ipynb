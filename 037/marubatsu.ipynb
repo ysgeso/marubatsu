{
 "cells": [
  {
   "cell_type": "code",
   "execution_count": 1,
   "metadata": {},
   "outputs": [
    {
     "name": "stdout",
     "output_type": "stream",
     "text": [
      "Turn o\n",
      "...\n",
      "...\n",
      "...\n",
      "\n",
      "playing\n",
      "Turn x\n",
      "...\n",
      ".o.\n",
      "...\n",
      "\n",
      "playing\n"
     ]
    }
   ],
   "source": [
    "from marubatsu import Marubatsu\n",
    "\n",
    "# Marubatsu クラスのインスタンスを作成する\n",
    "mb = Marubatsu()\n",
    "\n",
    "# ここから〇×ゲームのプレイを開始する\n",
    "# 手順 1：〇× ゲームを再起動する\n",
    "mb.restart()\n",
    "# 手順 2：ゲーム盤の表示\n",
    "print(mb)\n",
    "# 手順 3：(1, 1) への着手を表すデータの入力\n",
    "x = 1\n",
    "y = 1\n",
    "# 手順 4：move メソッドによる着手\n",
    "mb.move(x, y)\n",
    "# 手順 5：judge メソッドによる勝敗判定\n",
    "print(mb.judge())\n",
    "# 上記で決着がついていないことを表す playing が表示されるので手順 2 に戻る\n",
    "# 手順 2：ゲーム盤の表示\n",
    "print(mb)\n",
    "# 手順 3：(0, 0) への着手を表すデータの入力\n",
    "x = 0\n",
    "y = 0\n",
    "# 手順 4：move メソッドによる着手\n",
    "mb.move(x, y)\n",
    "# 手順 5：judge メソッドによる勝敗判定\n",
    "print(mb.judge())\n",
    "# 以下決着がつくまで繰り返す"
   ]
  },
  {
   "cell_type": "code",
   "execution_count": 2,
   "metadata": {},
   "outputs": [],
   "source": [
    "def play(self):\n",
    "    # 〇×ゲームを再起動する\n",
    "    self.restart()\n",
    "    # ゲーム盤の表示\n",
    "    print(self)\n",
    "    # 手順 3 の処理\n",
    "    # 手順 4 の処理\n",
    "    # 手順 5 の処理\n",
    "\n",
    "Marubatsu.play = play"
   ]
  },
  {
   "cell_type": "code",
   "execution_count": 3,
   "metadata": {},
   "outputs": [
    {
     "name": "stdout",
     "output_type": "stream",
     "text": [
      "Turn o\n",
      "...\n",
      "...\n",
      "...\n",
      "\n"
     ]
    }
   ],
   "source": [
    "mb = Marubatsu()\n",
    "\n",
    "mb.move(1, 1)\n",
    "mb.play()"
   ]
  },
  {
   "cell_type": "markdown",
   "metadata": {},
   "source": [
    "テキストボックスに abc を入力しました"
   ]
  },
  {
   "cell_type": "code",
   "execution_count": 4,
   "metadata": {},
   "outputs": [
    {
     "name": "stdout",
     "output_type": "stream",
     "text": [
      "abc\n"
     ]
    }
   ],
   "source": [
    "print(input())"
   ]
  },
  {
   "cell_type": "code",
   "execution_count": 5,
   "metadata": {},
   "outputs": [],
   "source": [
    "def play(self):\n",
    "    # 〇×ゲームを再起動する\n",
    "    self.restart()\n",
    "    # ゲーム盤の表示\n",
    "    print(self)\n",
    "    # キーボードからの座標の入力\n",
    "    coord = input()\n",
    "    # 手順 4 の処理\n",
    "    # 手順 5 の処理\n",
    "\n",
    "Marubatsu.play = play"
   ]
  },
  {
   "cell_type": "markdown",
   "metadata": {},
   "source": [
    "テキストボックスに 1 を入力しました"
   ]
  },
  {
   "cell_type": "code",
   "execution_count": 6,
   "metadata": {},
   "outputs": [
    {
     "ename": "TypeError",
     "evalue": "can only concatenate str (not \"int\") to str",
     "output_type": "error",
     "traceback": [
      "\u001b[1;31m---------------------------------------------------------------------------\u001b[0m",
      "\u001b[1;31mTypeError\u001b[0m                                 Traceback (most recent call last)",
      "\u001b[1;32mc:\\Users\\ys\\ai\\marubatsu\\037\\marubatsu.ipynb セル 8\u001b[0m line \u001b[0;36m1\n\u001b[1;32m----> <a href='vscode-notebook-cell:/c%3A/Users/ys/ai/marubatsu/037/marubatsu.ipynb#X10sZmlsZQ%3D%3D?line=0'>1</a>\u001b[0m \u001b[39mprint\u001b[39m(\u001b[39minput\u001b[39m() \u001b[39m+\u001b[39m \u001b[39m2\u001b[39m)\n",
      "\u001b[1;31mTypeError\u001b[0m: can only concatenate str (not \"int\") to str"
     ]
    }
   ],
   "source": [
    "print(input() + 2)"
   ]
  },
  {
   "cell_type": "markdown",
   "metadata": {},
   "source": [
    "テキストボックスに 1 を入力しました"
   ]
  },
  {
   "cell_type": "code",
   "execution_count": 7,
   "metadata": {},
   "outputs": [
    {
     "name": "stdout",
     "output_type": "stream",
     "text": [
      "3\n"
     ]
    }
   ],
   "source": [
    "print(int(input()) + 2)"
   ]
  },
  {
   "cell_type": "code",
   "execution_count": 8,
   "metadata": {},
   "outputs": [],
   "source": [
    "def play(self):\n",
    "    # 〇×ゲームを再起動する\n",
    "    self.restart()\n",
    "    # ゲーム盤の表示\n",
    "    print(self)\n",
    "    # キーボードからの座標の入力\n",
    "    coord = input()\n",
    "    # x 座標と y 座標の計算\n",
    "    x, y = coord.split(\",\")\n",
    "    # (x, y) に着手を行う\n",
    "    self.move(int(x), int(y))\n",
    "    # 手順 5 の処理\n",
    "\n",
    "Marubatsu.play = play"
   ]
  },
  {
   "cell_type": "markdown",
   "metadata": {},
   "source": [
    "テキストボックスに 1,1 を入力しました"
   ]
  },
  {
   "cell_type": "code",
   "execution_count": 9,
   "metadata": {},
   "outputs": [
    {
     "name": "stdout",
     "output_type": "stream",
     "text": [
      "Turn o\n",
      "...\n",
      "...\n",
      "...\n",
      "\n",
      "Turn x\n",
      "...\n",
      ".o.\n",
      "...\n",
      "\n"
     ]
    }
   ],
   "source": [
    "mb.play()\n",
    "print(mb)"
   ]
  },
  {
   "cell_type": "markdown",
   "metadata": {},
   "source": [
    "テキストボックスに 1,1 を入力しました"
   ]
  },
  {
   "cell_type": "code",
   "execution_count": 10,
   "metadata": {},
   "outputs": [
    {
     "data": {
      "text/plain": [
       "'1,1'"
      ]
     },
     "execution_count": 10,
     "metadata": {},
     "output_type": "execute_result"
    }
   ],
   "source": [
    "input(\"x,y の形式で座標を入力して下さい\")"
   ]
  },
  {
   "cell_type": "code",
   "execution_count": 11,
   "metadata": {},
   "outputs": [],
   "source": [
    "def play(self):\n",
    "    # 〇×ゲームを再起動する\n",
    "    self.restart()\n",
    "    # ゲーム盤の表示\n",
    "    print(self)\n",
    "    # キーボードからの座標の入力\n",
    "    coord = input(\"x,y の形式で座標を入力して下さい\")\n",
    "    # x 座標と y 座標の計算\n",
    "    x, y = coord.split(\",\")\n",
    "    # (x, y) に着手を行う\n",
    "    self.move(int(x), int(y))\n",
    "    # 手順 5 の処理\n",
    "\n",
    "Marubatsu.play = play"
   ]
  },
  {
   "cell_type": "markdown",
   "metadata": {},
   "source": [
    "テキストボックスに 1,1 を入力しました"
   ]
  },
  {
   "cell_type": "code",
   "execution_count": 12,
   "metadata": {},
   "outputs": [
    {
     "name": "stdout",
     "output_type": "stream",
     "text": [
      "Turn o\n",
      "...\n",
      "...\n",
      "...\n",
      "\n",
      "Turn x\n",
      "...\n",
      ".o.\n",
      "...\n",
      "\n"
     ]
    }
   ],
   "source": [
    "mb.play()\n",
    "print(mb)"
   ]
  },
  {
   "cell_type": "code",
   "execution_count": 13,
   "metadata": {},
   "outputs": [],
   "source": [
    "def play(self):\n",
    "    # 〇×ゲームを再起動する\n",
    "    self.restart()\n",
    "    # 無限ループを行う\n",
    "    while True:\n",
    "        # ゲーム盤の表示\n",
    "        print(self)\n",
    "        # キーボードからの座標の入力\n",
    "        coord = input(\"x,y の形式で座標を入力して下さい\")\n",
    "        # x 座標と y 座標の計算\n",
    "        x, y = coord.split(\",\")\n",
    "        # (x, y) に着手を行う\n",
    "        self.move(int(x), int(y))\n",
    "        # ゲームの決着がついた場合は、無限ループを抜ける\n",
    "        if self.judge() != Marubatsu.PLAYING:\n",
    "            break\n",
    "\n",
    "Marubatsu.play = play"
   ]
  },
  {
   "cell_type": "markdown",
   "metadata": {},
   "source": [
    "テキストボックスに 0,0　0,1　1,0　1,1　2,0 の順で入力しました"
   ]
  },
  {
   "cell_type": "code",
   "execution_count": 14,
   "metadata": {},
   "outputs": [
    {
     "name": "stdout",
     "output_type": "stream",
     "text": [
      "Turn o\n",
      "...\n",
      "...\n",
      "...\n",
      "\n",
      "Turn x\n",
      "o..\n",
      "...\n",
      "...\n",
      "\n",
      "Turn o\n",
      "o..\n",
      "x..\n",
      "...\n",
      "\n",
      "Turn x\n",
      "oo.\n",
      "x..\n",
      "...\n",
      "\n",
      "Turn o\n",
      "oo.\n",
      "xx.\n",
      "...\n",
      "\n"
     ]
    }
   ],
   "source": [
    "mb.play()"
   ]
  },
  {
   "cell_type": "code",
   "execution_count": 15,
   "metadata": {},
   "outputs": [],
   "source": [
    "def play(self):\n",
    "    # 〇×ゲームを再起動する\n",
    "    self.restart()\n",
    "    # ゲームの決着がついていない間繰り返す\n",
    "    while self.judge() == Marubatsu.PLAYING:\n",
    "        # ゲーム盤の表示\n",
    "        print(self)\n",
    "        # キーボードからの座標の入力\n",
    "        coord = input(\"x,y の形式で座標を入力して下さい\")\n",
    "        # x 座標と y 座標の計算\n",
    "        x, y = coord.split(\",\")\n",
    "        # (x, y) に着手を行う\n",
    "        self.move(int(x), int(y))\n",
    "\n",
    "Marubatsu.play = play"
   ]
  },
  {
   "cell_type": "markdown",
   "metadata": {},
   "source": [
    "テキストボックスに 0,0　0,1　1,0　1,1　2,0 の順で入力しました"
   ]
  },
  {
   "cell_type": "code",
   "execution_count": 16,
   "metadata": {},
   "outputs": [
    {
     "name": "stdout",
     "output_type": "stream",
     "text": [
      "Turn o\n",
      "...\n",
      "...\n",
      "...\n",
      "\n",
      "Turn x\n",
      "o..\n",
      "...\n",
      "...\n",
      "\n",
      "Turn o\n",
      "o..\n",
      "x..\n",
      "...\n",
      "\n",
      "Turn x\n",
      "oo.\n",
      "x..\n",
      "...\n",
      "\n",
      "Turn o\n",
      "oo.\n",
      "xx.\n",
      "...\n",
      "\n"
     ]
    }
   ],
   "source": [
    "mb.play()"
   ]
  }
 ],
 "metadata": {
  "kernelspec": {
   "display_name": "marubatsu",
   "language": "python",
   "name": "python3"
  },
  "language_info": {
   "codemirror_mode": {
    "name": "ipython",
    "version": 3
   },
   "file_extension": ".py",
   "mimetype": "text/x-python",
   "name": "python",
   "nbconvert_exporter": "python",
   "pygments_lexer": "ipython3",
   "version": "3.11.4"
  }
 },
 "nbformat": 4,
 "nbformat_minor": 2
}
