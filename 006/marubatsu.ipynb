{
 "cells": [
  {
   "cell_type": "code",
   "execution_count": 1,
   "metadata": {},
   "outputs": [],
   "source": [
    "board = [\n",
    "    [\" \", \" \", \" \"], \n",
    "    [\" \", \" \", \" \"], \n",
    "    [\" \", \" \", \" \"]\n",
    "]"
   ]
  },
  {
   "cell_type": "code",
   "execution_count": 2,
   "metadata": {},
   "outputs": [
    {
     "name": "stdout",
     "output_type": "stream",
     "text": [
      "[]\n"
     ]
    }
   ],
   "source": [
    "a = []\n",
    "print(a)"
   ]
  },
  {
   "cell_type": "code",
   "execution_count": 3,
   "metadata": {},
   "outputs": [],
   "source": [
    "row0 = [\" \", \" \", \" \"]   # 0列のデータ\n",
    "row1 = [\" \", \" \", \" \"]   # 1列のデータ\n",
    "row2 = [\" \", \" \", \" \"]   # 2列のデータ\n",
    "board = [row0, row1, row2]   # ゲーム盤のデータ  "
   ]
  },
  {
   "cell_type": "code",
   "execution_count": 4,
   "metadata": {},
   "outputs": [
    {
     "name": "stdout",
     "output_type": "stream",
     "text": [
      "[' ', ' ', ' ']\n"
     ]
    }
   ],
   "source": [
    "row0 = []\n",
    "row0.append(\" \")\n",
    "row0.append(\" \")\n",
    "row0.append(\" \")\n",
    "print(row0)"
   ]
  },
  {
   "cell_type": "code",
   "execution_count": 5,
   "metadata": {},
   "outputs": [
    {
     "name": "stdout",
     "output_type": "stream",
     "text": [
      "[' ', ' ', ' ']\n"
     ]
    }
   ],
   "source": [
    "row0 = []\n",
    "for y in range(3):\n",
    "    row0.append(\" \")\n",
    "print(row0)"
   ]
  },
  {
   "cell_type": "code",
   "execution_count": 6,
   "metadata": {},
   "outputs": [
    {
     "name": "stdout",
     "output_type": "stream",
     "text": [
      "[[' ', ' ', ' '], [' ', ' ', ' '], [' ', ' ', ' ']]\n"
     ]
    }
   ],
   "source": [
    "row0 = []              # 0列のデータを作成する\n",
    "for y in range(3):\n",
    "    row0.append(\" \")\n",
    "\n",
    "row1 = []              # 1列のデータを作成する\n",
    "for y in range(3):\n",
    "    row1.append(\" \")\n",
    "\n",
    "row2 = []              # 2列のデータを作成する\n",
    "for y in range(3):\n",
    "    row2.append(\" \")\n",
    "\n",
    "table = [row0, row1, row2]\n",
    "print(table)"
   ]
  },
  {
   "cell_type": "code",
   "execution_count": 7,
   "metadata": {},
   "outputs": [
    {
     "name": "stdout",
     "output_type": "stream",
     "text": [
      "[[' ', ' ', ' '], [' ', ' ', ' '], [' ', ' ', ' ']]\n"
     ]
    }
   ],
   "source": [
    "table = []\n",
    "\n",
    "row0 = []              # 0列のデータを作成する\n",
    "for y in range(3):\n",
    "    row0.append(\" \")\n",
    "table.append(row0)\n",
    "\n",
    "row1 = []              # 1列のデータを作成する\n",
    "for y in range(3):\n",
    "    row1.append(\" \")\n",
    "table.append(row1)\n",
    "\n",
    "row2 = []              # 2列のデータを作成する\n",
    "for y in range(3):\n",
    "    row2.append(\" \")\n",
    "table.append(row2)\n",
    "\n",
    "print(table)"
   ]
  },
  {
   "cell_type": "code",
   "execution_count": 8,
   "metadata": {},
   "outputs": [
    {
     "name": "stdout",
     "output_type": "stream",
     "text": [
      "[[' ', ' ', ' '], [' ', ' ', ' '], [' ', ' ', ' ']]\n"
     ]
    }
   ],
   "source": [
    "table = []\n",
    "\n",
    "row = []              # 0列のデータを作成する\n",
    "for y in range(3):\n",
    "    row.append(\" \")\n",
    "table.append(row)\n",
    "\n",
    "row = []              # 1列のデータを作成する\n",
    "for y in range(3):\n",
    "    row.append(\" \")\n",
    "table.append(row)\n",
    "\n",
    "row = []              # 2列のデータを作成する\n",
    "for y in range(3):\n",
    "    row.append(\" \")\n",
    "table.append(row)\n",
    "\n",
    "print(table)"
   ]
  },
  {
   "cell_type": "code",
   "execution_count": 9,
   "metadata": {},
   "outputs": [
    {
     "name": "stdout",
     "output_type": "stream",
     "text": [
      "[[' ', ' ', ' '], [' ', ' ', ' '], [' ', ' ', ' ']]\n"
     ]
    }
   ],
   "source": [
    "# table を空の list で初期化する\n",
    "table = []\n",
    "# 各列の繰り返しを行う\n",
    "for x in range(3):\n",
    "    # x列のデータを表す row を空の list で初期化する\n",
    "    row = []\n",
    "    # x列の各行の繰り返しを行う\n",
    "    for y in range(3):\n",
    "        # x列を表す list の要素に y行のデータを表す空白文字を追加する\n",
    "        row.append(\" \")\n",
    "    # table に x 列のデータを表す row を追加する\n",
    "    table.append(row)\n",
    "print(table)"
   ]
  },
  {
   "cell_type": "code",
   "execution_count": 10,
   "metadata": {},
   "outputs": [
    {
     "name": "stdout",
     "output_type": "stream",
     "text": [
      "列の処理の開始 x = 0 row = []\n",
      "x = 0 y = 0 row = [' ']\n",
      "x = 0 y = 1 row = [' ', ' ']\n",
      "x = 0 y = 2 row = [' ', ' ', ' ']\n",
      "列の処理の終了 x = 0 table = [[' ', ' ', ' ']]\n",
      "列の処理の開始 x = 1 row = []\n",
      "x = 1 y = 0 row = [' ']\n",
      "x = 1 y = 1 row = [' ', ' ']\n",
      "x = 1 y = 2 row = [' ', ' ', ' ']\n",
      "列の処理の終了 x = 1 table = [[' ', ' ', ' '], [' ', ' ', ' ']]\n",
      "列の処理の開始 x = 2 row = []\n",
      "x = 2 y = 0 row = [' ']\n",
      "x = 2 y = 1 row = [' ', ' ']\n",
      "x = 2 y = 2 row = [' ', ' ', ' ']\n",
      "列の処理の終了 x = 2 table = [[' ', ' ', ' '], [' ', ' ', ' '], [' ', ' ', ' ']]\n",
      "[[' ', ' ', ' '], [' ', ' ', ' '], [' ', ' ', ' ']]\n"
     ]
    }
   ],
   "source": [
    "# table を空の list で初期化する\n",
    "table = []\n",
    "# 各列の繰り返しを行う\n",
    "for x in range(3):\n",
    "    # x列のデータを表す row を空の list で初期化する\n",
    "    row = []\n",
    "    # row の値をデバッグ出力する\n",
    "    print(\"列の処理の開始 x =\", x, \"row =\", row)\n",
    "    # x列の各行の繰り返しを行う\n",
    "    for y in range(3):\n",
    "        # x列を表す list の要素に y行のデータを表す空白文字を追加する\n",
    "        row.append(\" \")\n",
    "        # row の値をデバッグ出力する\n",
    "        print(\"x =\", x, \"y =\", y, \"row =\", row)\n",
    "    # table に x 列のデータを表す row を追加する\n",
    "    table.append(row)\n",
    "    # table の値をデバッグ出力する\n",
    "    print(\"列の処理の終了 x =\", x, \"table =\", table)\n",
    "print(table)"
   ]
  },
  {
   "cell_type": "code",
   "execution_count": 11,
   "metadata": {},
   "outputs": [
    {
     "name": "stdout",
     "output_type": "stream",
     "text": [
      "[0, 1, 4, 9, 16, 25, 36, 49, 64, 81]\n"
     ]
    }
   ],
   "source": [
    "a = [ i * i for i in range(10)]\n",
    "print(a)"
   ]
  },
  {
   "cell_type": "code",
   "execution_count": 12,
   "metadata": {},
   "outputs": [
    {
     "name": "stdout",
     "output_type": "stream",
     "text": [
      "[0, 1, 4, 9, 16, 25, 36, 49, 64, 81]\n"
     ]
    }
   ],
   "source": [
    "a = []\n",
    "for i in range(10):\n",
    "    a.append(i * i)\n",
    "print(a)"
   ]
  },
  {
   "cell_type": "code",
   "execution_count": 13,
   "metadata": {},
   "outputs": [
    {
     "name": "stdout",
     "output_type": "stream",
     "text": [
      "[[0, 3, 6], [1, 4, 7], [2, 5, 8]]\n"
     ]
    }
   ],
   "source": [
    "table = [ [ x + y * 3 for y in range(3) ] for x in range(3)]\n",
    "print(table)"
   ]
  },
  {
   "cell_type": "code",
   "execution_count": 14,
   "metadata": {},
   "outputs": [
    {
     "name": "stdout",
     "output_type": "stream",
     "text": [
      "[[0, 3, 6], [1, 4, 7], [2, 5, 8]]\n"
     ]
    }
   ],
   "source": [
    "table = []\n",
    "for x in range(3):\n",
    "    table.append([ x + y * 3 for y in range(3) ])\n",
    "print(table)"
   ]
  },
  {
   "cell_type": "code",
   "execution_count": 15,
   "metadata": {},
   "outputs": [
    {
     "name": "stdout",
     "output_type": "stream",
     "text": [
      "[[0, 3, 6], [1, 4, 7], [2, 5, 8]]\n"
     ]
    }
   ],
   "source": [
    "table = []\n",
    "for x in range(3):\n",
    "    row = []                  \n",
    "    for y in range(3):          \n",
    "        row.append(x + y * 3)\n",
    "    table.append(row)\n",
    "print(table)"
   ]
  },
  {
   "cell_type": "code",
   "execution_count": 16,
   "metadata": {},
   "outputs": [
    {
     "name": "stdout",
     "output_type": "stream",
     "text": [
      "[[' ', ' ', ' '], [' ', ' ', ' '], [' ', ' ', ' ']]\n"
     ]
    }
   ],
   "source": [
    "board = [ [ \" \" for y in range(3)] for x in range(3) ]\n",
    "print(board)"
   ]
  },
  {
   "cell_type": "code",
   "execution_count": 17,
   "metadata": {},
   "outputs": [
    {
     "name": "stdout",
     "output_type": "stream",
     "text": [
      "[[' ', ' ', ' ', ' ', ' '], [' ', ' ', ' ', ' ', ' '], [' ', ' ', ' ', ' ', ' '], [' ', ' ', ' ', ' ', ' '], [' ', ' ', ' ', ' ', ' ']]\n"
     ]
    }
   ],
   "source": [
    "board = [ [ \" \" for y in range(5)] for x in range(5) ]\n",
    "print(board)"
   ]
  },
  {
   "cell_type": "code",
   "execution_count": 18,
   "metadata": {},
   "outputs": [
    {
     "name": "stdout",
     "output_type": "stream",
     "text": [
      "[1, 1, 1, 1, 1]\n",
      "[' ', ' ', ' ']\n"
     ]
    }
   ],
   "source": [
    "print([1] * 5)\n",
    "print([\" \"] * 3)"
   ]
  },
  {
   "cell_type": "code",
   "execution_count": 19,
   "metadata": {},
   "outputs": [
    {
     "name": "stdout",
     "output_type": "stream",
     "text": [
      "[[' ', ' ', ' '], [' ', ' ', ' '], [' ', ' ', ' ']]\n"
     ]
    }
   ],
   "source": [
    "board = [[\" \"] * 3] * 3\n",
    "print(board)"
   ]
  },
  {
   "cell_type": "code",
   "execution_count": 20,
   "metadata": {},
   "outputs": [
    {
     "name": "stdout",
     "output_type": "stream",
     "text": [
      "[['〇', ' ', ' '], ['〇', ' ', ' '], ['〇', ' ', ' ']]\n"
     ]
    }
   ],
   "source": [
    "board = [[\" \"] * 3] * 3\n",
    "board[1][0] = \"〇\"\n",
    "print(board)"
   ]
  }
 ],
 "metadata": {
  "kernelspec": {
   "display_name": "marubatsu",
   "language": "python",
   "name": "python3"
  },
  "language_info": {
   "codemirror_mode": {
    "name": "ipython",
    "version": 3
   },
   "file_extension": ".py",
   "mimetype": "text/x-python",
   "name": "python",
   "nbconvert_exporter": "python",
   "pygments_lexer": "ipython3",
   "version": "3.11.4"
  },
  "orig_nbformat": 4
 },
 "nbformat": 4,
 "nbformat_minor": 2
}
