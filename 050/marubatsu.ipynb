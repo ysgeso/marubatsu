{
 "cells": [
  {
   "cell_type": "code",
   "execution_count": 1,
   "metadata": {},
   "outputs": [],
   "source": [
    "from marubatsu import Marubatsu\n",
    "from ai import ai_by_score\n",
    "\n",
    "def ai5s(mb, debug=False):\n",
    "    def eval_func(mb):\n",
    "        my_turn = Marubatsu.CROSS if mb.turn == Marubatsu.CIRCLE else Marubatsu.CIRCLE\n",
    "        if mb.status == my_turn:\n",
    "            return 1\n",
    "        else:\n",
    "            return 0\n",
    "\n",
    "    return ai_by_score(mb, eval_func, debug=debug)"
   ]
  },
  {
   "cell_type": "code",
   "execution_count": 2,
   "metadata": {},
   "outputs": [
    {
     "name": "stdout",
     "output_type": "stream",
     "text": [
      "ai5s VS ai5\n",
      "count     win    lose    draw\n",
      "o        6754    2835     411\n",
      "x        2646    6916     438\n",
      "total    9400    9751     849\n",
      "\n",
      "ratio     win    lose    draw\n",
      "o       67.5%   28.3%    4.1%\n",
      "x       26.5%   69.2%    4.4%\n",
      "total   47.0%   48.8%    4.2%\n",
      "\n"
     ]
    }
   ],
   "source": [
    "from ai import ai_match, ai5, ai6, ai7\n",
    "\n",
    "ai_match(ai=[ai5s, ai5])"
   ]
  },
  {
   "cell_type": "code",
   "execution_count": 3,
   "metadata": {},
   "outputs": [],
   "source": [
    "def ai5s(mb, debug=False):\n",
    "    def eval_func(mb):\n",
    "        if mb.status == Marubatsu.CIRCLE or mb.status == Marubatsu.CROSS:\n",
    "            return 1\n",
    "        else:\n",
    "            return 0\n",
    "\n",
    "    return ai_by_score(mb, eval_func, debug=debug)"
   ]
  },
  {
   "cell_type": "code",
   "execution_count": 4,
   "metadata": {},
   "outputs": [
    {
     "name": "stdout",
     "output_type": "stream",
     "text": [
      "ai5s VS ai5\n",
      "count     win    lose    draw\n",
      "o        6881    2661     458\n",
      "x        2756    6831     413\n",
      "total    9637    9492     871\n",
      "\n",
      "ratio     win    lose    draw\n",
      "o       68.8%   26.6%    4.6%\n",
      "x       27.6%   68.3%    4.1%\n",
      "total   48.2%   47.5%    4.4%\n",
      "\n"
     ]
    }
   ],
   "source": [
    "ai_match(ai=[ai5s, ai5])"
   ]
  },
  {
   "cell_type": "code",
   "execution_count": 5,
   "metadata": {},
   "outputs": [],
   "source": [
    "def restart(self):\n",
    "    self.initialize_board()\n",
    "    self.turn = Marubatsu.CIRCLE     \n",
    "    self.move_count = 0\n",
    "    self.status = Marubatsu.PLAYING\n",
    "    self.last_move = -1, -1 \n",
    "    self.last_turn = None\n",
    "\n",
    "Marubatsu.restart = restart"
   ]
  },
  {
   "cell_type": "code",
   "execution_count": 6,
   "metadata": {},
   "outputs": [],
   "source": [
    "def move(self, x, y):\n",
    "    if self.place_mark(x, y, self.turn):\n",
    "        self.last_turn = self.turn\n",
    "        self.turn = Marubatsu.CROSS if self.turn == Marubatsu.CIRCLE else Marubatsu.CIRCLE  \n",
    "        self.move_count += 1\n",
    "        self.status = self.judge()\n",
    "        self.last_move = x, y\n",
    "\n",
    "Marubatsu.move = move"
   ]
  },
  {
   "cell_type": "code",
   "execution_count": 7,
   "metadata": {},
   "outputs": [],
   "source": [
    "def ai5s(mb, debug=False):\n",
    "    def eval_func(mb):\n",
    "        if mb.status == mb.last_turn:\n",
    "            return 1\n",
    "        else:\n",
    "            return 0\n",
    "\n",
    "    return ai_by_score(mb, eval_func, debug=debug)"
   ]
  },
  {
   "cell_type": "code",
   "execution_count": 8,
   "metadata": {},
   "outputs": [
    {
     "name": "stdout",
     "output_type": "stream",
     "text": [
      "ai5s VS ai5\n",
      "count     win    lose    draw\n",
      "o        6924    2624     452\n",
      "x        2761    6826     413\n",
      "total    9685    9450     865\n",
      "\n",
      "ratio     win    lose    draw\n",
      "o       69.2%   26.2%    4.5%\n",
      "x       27.6%   68.3%    4.1%\n",
      "total   48.4%   47.2%    4.3%\n",
      "\n"
     ]
    }
   ],
   "source": [
    "ai_match(ai=[ai5s, ai5])"
   ]
  },
  {
   "cell_type": "code",
   "execution_count": 9,
   "metadata": {},
   "outputs": [
    {
     "name": "stdout",
     "output_type": "stream",
     "text": [
      "ai5 VS ai5\n",
      "count     win    lose    draw\n",
      "o        6762    2799     439\n",
      "x        2839    6744     417\n",
      "total    9601    9543     856\n",
      "\n",
      "ratio     win    lose    draw\n",
      "o       67.6%   28.0%    4.4%\n",
      "x       28.4%   67.4%    4.2%\n",
      "total   48.0%   47.7%    4.3%\n",
      "\n"
     ]
    }
   ],
   "source": [
    "ai_match(ai=[ai5, ai5])"
   ]
  },
  {
   "cell_type": "code",
   "execution_count": 10,
   "metadata": {},
   "outputs": [
    {
     "name": "stdout",
     "output_type": "stream",
     "text": [
      "ai5s VS ai5s\n",
      "count     win    lose    draw\n",
      "o        6798    2755     447\n",
      "x        2641    6920     439\n",
      "total    9439    9675     886\n",
      "\n",
      "ratio     win    lose    draw\n",
      "o       68.0%   27.6%    4.5%\n",
      "x       26.4%   69.2%    4.4%\n",
      "total   47.2%   48.4%    4.4%\n",
      "\n"
     ]
    }
   ],
   "source": [
    "ai_match(ai=[ai5s, ai5s])"
   ]
  },
  {
   "cell_type": "code",
   "execution_count": 11,
   "metadata": {},
   "outputs": [
    {
     "name": "stdout",
     "output_type": "stream",
     "text": [
      "Turn o\n",
      "oxx\n",
      "oo.\n",
      ".X.\n",
      "\n",
      "ai5\n",
      "(2, 1)\n",
      "(2, 1)\n",
      "(2, 1)\n",
      "(2, 1)\n",
      "(2, 1)\n",
      "(2, 1)\n",
      "(2, 1)\n",
      "(2, 1)\n",
      "(2, 1)\n",
      "(2, 1)\n",
      "ai5s\n",
      "(2, 2)\n",
      "(2, 1)\n",
      "(2, 1)\n",
      "(0, 2)\n",
      "(2, 2)\n",
      "(2, 1)\n",
      "(2, 2)\n",
      "(2, 2)\n",
      "(2, 1)\n",
      "(2, 2)\n"
     ]
    }
   ],
   "source": [
    "mb = Marubatsu()\n",
    "\n",
    "mb.move(1, 1)\n",
    "mb.move(1, 0)\n",
    "mb.move(0, 0)\n",
    "mb.move(2, 0)\n",
    "mb.move(0, 1)\n",
    "mb.move(1, 2)\n",
    "print(mb)\n",
    "\n",
    "print(\"ai5\")\n",
    "for i in range(10):\n",
    "    print(ai5(mb))\n",
    "    \n",
    "print(\"ai5s\")\n",
    "for i in range(10):\n",
    "    print(ai5s(mb))"
   ]
  },
  {
   "cell_type": "code",
   "execution_count": 12,
   "metadata": {},
   "outputs": [],
   "source": [
    "from collections import defaultdict\n",
    "\n",
    "def count_marks(self, coord, dx, dy):\n",
    "    x, y = coord   \n",
    "    count = defaultdict(int)\n",
    "    for _ in range(self.BOARD_SIZE):\n",
    "        count[self.board[x][y]] += 1\n",
    "        x += dx\n",
    "        y += dy\n",
    "\n",
    "    return count\n",
    "\n",
    "Marubatsu.count_marks = count_marks"
   ]
  },
  {
   "cell_type": "code",
   "execution_count": 13,
   "metadata": {},
   "outputs": [
    {
     "name": "stdout",
     "output_type": "stream",
     "text": [
      "Turn o\n",
      "...\n",
      "...\n",
      "...\n",
      "\n",
      "defaultdict(<class 'int'>, {'.': 3})\n",
      "Turn x\n",
      "O..\n",
      "...\n",
      "...\n",
      "\n",
      "defaultdict(<class 'int'>, {'o': 1, '.': 2})\n",
      "Turn o\n",
      "oX.\n",
      "...\n",
      "...\n",
      "\n",
      "defaultdict(<class 'int'>, {'o': 1, 'x': 1, '.': 1})\n",
      "Turn x\n",
      "oxO\n",
      "...\n",
      "...\n",
      "\n",
      "defaultdict(<class 'int'>, {'o': 2, 'x': 1})\n"
     ]
    }
   ],
   "source": [
    "mb = Marubatsu()\n",
    "\n",
    "print(mb)\n",
    "print(mb.count_marks((0, 0), 1, 0))\n",
    "\n",
    "mb.move(0, 0)\n",
    "print(mb)\n",
    "print(mb.count_marks((0, 0), 1, 0))\n",
    "\n",
    "mb.move(1, 0)\n",
    "print(mb)\n",
    "print(mb.count_marks((0, 0), 1, 0))\n",
    "\n",
    "mb.move(2, 0)\n",
    "print(mb)\n",
    "print(mb.count_marks((0, 0), 1, 0))"
   ]
  },
  {
   "cell_type": "code",
   "execution_count": 14,
   "metadata": {},
   "outputs": [],
   "source": [
    "def ai6s(mb, debug=False):\n",
    "    def eval_func(mb):\n",
    "        # 自分が勝利している場合は、評価値として 1 を返す\n",
    "        if mb.status == mb.last_turn:\n",
    "            return 1\n",
    "\n",
    "        # 相手の手番で相手が勝利できる場合は評価値として -1 を返す\n",
    "        # 横方向と縦方向の判定\n",
    "        for i in range(mb.BOARD_SIZE):\n",
    "            count = mb.count_marks(coord=[0, i], dx=1, dy=0)\n",
    "            if count[mb.turn] == 2 and count[Marubatsu.EMPTY] == 1:\n",
    "                return -1\n",
    "            count = mb.count_marks(coord=[i, 0], dx=0, dy=1)\n",
    "            if count[mb.turn] == 2 and count[Marubatsu.EMPTY] == 1:\n",
    "                return -1\n",
    "        # 左上から右下方向の判定\n",
    "        count = mb.count_marks(coord=[0, 0], dx=1, dy=1)\n",
    "        if count[mb.turn] == 2 and count[Marubatsu.EMPTY] == 1:\n",
    "            return -1\n",
    "        # 右上から左下方向の判定\n",
    "        count = mb.count_marks(coord=[2, 0], dx=-1, dy=1)\n",
    "        if count[mb.turn] == 2 and count[Marubatsu.EMPTY] == 1:\n",
    "            return -1\n",
    "\n",
    "        # それ以外の場合は評価値として 0 を返す\n",
    "        return 0\n",
    "\n",
    "    return ai_by_score(mb, eval_func, debug=debug)        "
   ]
  },
  {
   "cell_type": "code",
   "execution_count": 15,
   "metadata": {},
   "outputs": [
    {
     "name": "stdout",
     "output_type": "stream",
     "text": [
      "ai6s VS ai6\n",
      "count     win    lose    draw\n",
      "o        3090    1750    5160\n",
      "x        1818    3085    5097\n",
      "total    4908    4835   10257\n",
      "\n",
      "ratio     win    lose    draw\n",
      "o       30.9%   17.5%   51.6%\n",
      "x       18.2%   30.9%   51.0%\n",
      "total   24.5%   24.2%   51.3%\n",
      "\n"
     ]
    }
   ],
   "source": [
    "ai_match(ai=[ai6s, ai6])"
   ]
  },
  {
   "cell_type": "code",
   "execution_count": 16,
   "metadata": {},
   "outputs": [
    {
     "name": "stdout",
     "output_type": "stream",
     "text": [
      "Turn x\n",
      "oxx\n",
      "Oo.\n",
      "...\n",
      "\n",
      "ai6\n",
      "(2, 1)\n",
      "(2, 1)\n",
      "(2, 1)\n",
      "(2, 1)\n",
      "(2, 1)\n",
      "(2, 1)\n",
      "(2, 1)\n",
      "(2, 1)\n",
      "(2, 1)\n",
      "(2, 1)\n",
      "ai6s\n",
      "(1, 2)\n",
      "(2, 1)\n",
      "(2, 1)\n",
      "(2, 1)\n",
      "(2, 2)\n",
      "(1, 2)\n",
      "(2, 1)\n",
      "(0, 2)\n",
      "(1, 2)\n",
      "(2, 2)\n"
     ]
    }
   ],
   "source": [
    "mb = Marubatsu()\n",
    "\n",
    "mb.move(1, 1)\n",
    "mb.move(1, 0)\n",
    "mb.move(0, 0)\n",
    "mb.move(2, 0)\n",
    "mb.move(0, 1)\n",
    "print(mb)\n",
    "\n",
    "print(\"ai6\")\n",
    "for i in range(10):\n",
    "    print(ai6(mb))\n",
    "    \n",
    "print(\"ai6s\")\n",
    "for i in range(10):\n",
    "    print(ai6s(mb))"
   ]
  },
  {
   "cell_type": "code",
   "execution_count": 17,
   "metadata": {},
   "outputs": [],
   "source": [
    "def ai7s(mb, debug=False):\n",
    "    def eval_func(mb):\n",
    "        # 真ん中のマスに着手している場合は、評価値として 2 を返す\n",
    "        if mb.last_move == (1, 1):\n",
    "            return 2\n",
    "    \n",
    "        # 自分が勝利している場合は、評価値として 1 を返す\n",
    "        if mb.status == mb.last_turn:\n",
    "            return 1\n",
    "\n",
    "        # 相手の手番で相手が勝利できる場合は評価値として -1 を返す\n",
    "        # 横方向と縦方向の判定\n",
    "        for i in range(mb.BOARD_SIZE):\n",
    "            count = mb.count_marks(coord=[0, i], dx=1, dy=0)\n",
    "            if count[mb.turn] == 2 and count[Marubatsu.EMPTY] == 1:\n",
    "                return -1\n",
    "            count = mb.count_marks(coord=[i, 0], dx=0, dy=1)\n",
    "            if count[mb.turn] == 2 and count[Marubatsu.EMPTY] == 1:\n",
    "                return -1\n",
    "        # 左上から右下方向の判定\n",
    "        count = mb.count_marks(coord=[0, 0], dx=1, dy=1)\n",
    "        if count[mb.turn] == 2 and count[Marubatsu.EMPTY] == 1:\n",
    "            return -1\n",
    "        # 右上から左下方向の判定\n",
    "        count = mb.count_marks(coord=[2, 0], dx=-1, dy=1)\n",
    "        if count[mb.turn] == 2 and count[Marubatsu.EMPTY] == 1:\n",
    "            return -1\n",
    "\n",
    "        # それ以外の場合は評価値として 0 を返す\n",
    "        return 0\n",
    "\n",
    "    return ai_by_score(mb, eval_func, debug=debug)  "
   ]
  },
  {
   "cell_type": "code",
   "execution_count": 18,
   "metadata": {},
   "outputs": [
    {
     "name": "stdout",
     "output_type": "stream",
     "text": [
      "ai7s VS ai7\n",
      "count     win    lose    draw\n",
      "o        2995     389    6616\n",
      "x         393    2981    6626\n",
      "total    3388    3370   13242\n",
      "\n",
      "ratio     win    lose    draw\n",
      "o       29.9%    3.9%   66.2%\n",
      "x        3.9%   29.8%   66.3%\n",
      "total   16.9%   16.9%   66.2%\n",
      "\n"
     ]
    }
   ],
   "source": [
    "ai_match(ai=[ai7s, ai7])"
   ]
  }
 ],
 "metadata": {
  "kernelspec": {
   "display_name": "marubatsu",
   "language": "python",
   "name": "python3"
  },
  "language_info": {
   "codemirror_mode": {
    "name": "ipython",
    "version": 3
   },
   "file_extension": ".py",
   "mimetype": "text/x-python",
   "name": "python",
   "nbconvert_exporter": "python",
   "pygments_lexer": "ipython3",
   "version": "3.11.4"
  }
 },
 "nbformat": 4,
 "nbformat_minor": 2
}
