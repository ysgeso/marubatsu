{
 "cells": [
  {
   "cell_type": "code",
   "execution_count": 1,
   "metadata": {},
   "outputs": [],
   "source": [
    "from marubatsu import Marubatsu\n",
    "from ai import ai_by_score\n",
    "\n",
    "def ai5s(mb, debug=False):\n",
    "    def eval_func(mb):\n",
    "        my_turn = Marubatsu.CROSS if mb.turn == Marubatsu.CIRCLE else Marubatsu.CIRCLE\n",
    "        if mb.status == my_turn:\n",
    "            return 1\n",
    "        else:\n",
    "            return 0\n",
    "\n",
    "    return ai_by_score(mb, eval_func, debug=debug)"
   ]
  },
  {
   "cell_type": "code",
   "execution_count": 2,
   "metadata": {},
   "outputs": [
    {
     "name": "stdout",
     "output_type": "stream",
     "text": [
      "ai5s VS ai5\n",
      "count     win    lose    draw\n",
      "o        6815    2770     415\n",
      "x        2699    6846     455\n",
      "total    9514    9616     870\n",
      "\n",
      "ratio     win    lose    draw\n",
      "o       68.2%   27.7%    4.2%\n",
      "x       27.0%   68.5%    4.5%\n",
      "total   47.6%   48.1%    4.3%\n",
      "\n"
     ]
    }
   ],
   "source": [
    "from ai import ai_match, ai2, ai5, ai6, ai7\n",
    "\n",
    "ai_match(ai=[ai5s, ai5])"
   ]
  },
  {
   "cell_type": "code",
   "execution_count": 3,
   "metadata": {},
   "outputs": [],
   "source": [
    "def ai5s(mb, debug=False):\n",
    "    def eval_func(mb):\n",
    "        if mb.status == Marubatsu.CIRCLE or mb.status == Marubatsu.CROSS:\n",
    "            return 1\n",
    "        else:\n",
    "            return 0\n",
    "\n",
    "    return ai_by_score(mb, eval_func, debug=debug)"
   ]
  },
  {
   "cell_type": "code",
   "execution_count": 4,
   "metadata": {},
   "outputs": [
    {
     "name": "stdout",
     "output_type": "stream",
     "text": [
      "ai5s VS ai5\n",
      "count     win    lose    draw\n",
      "o        6841    2736     423\n",
      "x        2677    6879     444\n",
      "total    9518    9615     867\n",
      "\n",
      "ratio     win    lose    draw\n",
      "o       68.4%   27.4%    4.2%\n",
      "x       26.8%   68.8%    4.4%\n",
      "total   47.6%   48.1%    4.3%\n",
      "\n"
     ]
    }
   ],
   "source": [
    "ai_match(ai=[ai5s, ai5])"
   ]
  },
  {
   "cell_type": "code",
   "execution_count": 5,
   "metadata": {},
   "outputs": [],
   "source": [
    "def restart(self):\n",
    "    self.initialize_board()\n",
    "    self.turn = Marubatsu.CIRCLE     \n",
    "    self.move_count = 0\n",
    "    self.status = Marubatsu.PLAYING\n",
    "    self.last_move = -1, -1 \n",
    "    self.last_turn = None\n",
    "\n",
    "Marubatsu.restart = restart"
   ]
  },
  {
   "cell_type": "code",
   "execution_count": 6,
   "metadata": {},
   "outputs": [],
   "source": [
    "def move(self, x, y):\n",
    "    if self.place_mark(x, y, self.turn):\n",
    "        self.last_turn = self.turn\n",
    "        self.turn = Marubatsu.CROSS if self.turn == Marubatsu.CIRCLE else Marubatsu.CIRCLE  \n",
    "        self.move_count += 1\n",
    "        self.status = self.judge()\n",
    "        self.last_move = x, y\n",
    "\n",
    "Marubatsu.move = move"
   ]
  },
  {
   "cell_type": "code",
   "execution_count": 7,
   "metadata": {},
   "outputs": [],
   "source": [
    "def ai5s(mb, debug=False):\n",
    "    def eval_func(mb):\n",
    "        if mb.status == mb.last_turn:\n",
    "            return 1\n",
    "        else:\n",
    "            return 0\n",
    "\n",
    "    return ai_by_score(mb, eval_func, debug=debug)"
   ]
  },
  {
   "cell_type": "code",
   "execution_count": 8,
   "metadata": {},
   "outputs": [
    {
     "name": "stdout",
     "output_type": "stream",
     "text": [
      "ai5s VS ai5\n",
      "count     win    lose    draw\n",
      "o        6885    2673     442\n",
      "x        2698    6842     460\n",
      "total    9583    9515     902\n",
      "\n",
      "ratio     win    lose    draw\n",
      "o       68.8%   26.7%    4.4%\n",
      "x       27.0%   68.4%    4.6%\n",
      "total   47.9%   47.6%    4.5%\n",
      "\n"
     ]
    }
   ],
   "source": [
    "ai_match(ai=[ai5s, ai5])"
   ]
  },
  {
   "cell_type": "code",
   "execution_count": 9,
   "metadata": {},
   "outputs": [
    {
     "name": "stdout",
     "output_type": "stream",
     "text": [
      "ai5 VS ai5\n",
      "count     win    lose    draw\n",
      "o        6958    2595     447\n",
      "x        2642    6928     430\n",
      "total    9600    9523     877\n",
      "\n",
      "ratio     win    lose    draw\n",
      "o       69.6%   25.9%    4.5%\n",
      "x       26.4%   69.3%    4.3%\n",
      "total   48.0%   47.6%    4.4%\n",
      "\n"
     ]
    }
   ],
   "source": [
    "ai_match(ai=[ai5, ai5])"
   ]
  },
  {
   "cell_type": "code",
   "execution_count": 10,
   "metadata": {},
   "outputs": [
    {
     "name": "stdout",
     "output_type": "stream",
     "text": [
      "ai5s VS ai5s\n",
      "count     win    lose    draw\n",
      "o        6864    2726     410\n",
      "x        2681    6898     421\n",
      "total    9545    9624     831\n",
      "\n",
      "ratio     win    lose    draw\n",
      "o       68.6%   27.3%    4.1%\n",
      "x       26.8%   69.0%    4.2%\n",
      "total   47.7%   48.1%    4.2%\n",
      "\n"
     ]
    }
   ],
   "source": [
    "ai_match(ai=[ai5s, ai5s])"
   ]
  },
  {
   "cell_type": "code",
   "execution_count": 11,
   "metadata": {},
   "outputs": [
    {
     "name": "stdout",
     "output_type": "stream",
     "text": [
      "Turn o\n",
      "oxx\n",
      "oo.\n",
      ".X.\n",
      "\n",
      "ai5\n",
      "(2, 1)\n",
      "(2, 1)\n",
      "(2, 1)\n",
      "(2, 1)\n",
      "(2, 1)\n",
      "(2, 1)\n",
      "(2, 1)\n",
      "(2, 1)\n",
      "(2, 1)\n",
      "(2, 1)\n",
      "ai5s\n",
      "(2, 2)\n",
      "(2, 2)\n",
      "(2, 2)\n",
      "(0, 2)\n",
      "(2, 1)\n",
      "(2, 1)\n",
      "(2, 2)\n",
      "(0, 2)\n",
      "(2, 2)\n",
      "(2, 1)\n"
     ]
    }
   ],
   "source": [
    "mb = Marubatsu()\n",
    "\n",
    "mb.move(1, 1)\n",
    "mb.move(1, 0)\n",
    "mb.move(0, 0)\n",
    "mb.move(2, 0)\n",
    "mb.move(0, 1)\n",
    "mb.move(1, 2)\n",
    "print(mb)\n",
    "\n",
    "print(\"ai5\")\n",
    "for i in range(10):\n",
    "    print(ai5(mb))\n",
    "    \n",
    "print(\"ai5s\")\n",
    "for i in range(10):\n",
    "    print(ai5s(mb))"
   ]
  },
  {
   "cell_type": "code",
   "execution_count": 12,
   "metadata": {},
   "outputs": [],
   "source": [
    "from collections import defaultdict\n",
    "\n",
    "def count_marks(self, coord, dx, dy):\n",
    "    x, y = coord   \n",
    "    count = defaultdict(int)\n",
    "    for _ in range(self.BOARD_SIZE):\n",
    "        count[self.board[x][y]] += 1\n",
    "        x += dx\n",
    "        y += dy\n",
    "\n",
    "    return count\n",
    "\n",
    "Marubatsu.count_marks = count_marks"
   ]
  },
  {
   "cell_type": "code",
   "execution_count": 13,
   "metadata": {},
   "outputs": [
    {
     "name": "stdout",
     "output_type": "stream",
     "text": [
      "Turn o\n",
      "...\n",
      "...\n",
      "...\n",
      "\n",
      "defaultdict(<class 'int'>, {'.': 3})\n",
      "Turn x\n",
      "O..\n",
      "...\n",
      "...\n",
      "\n",
      "defaultdict(<class 'int'>, {'o': 1, '.': 2})\n",
      "Turn o\n",
      "oX.\n",
      "...\n",
      "...\n",
      "\n",
      "defaultdict(<class 'int'>, {'o': 1, 'x': 1, '.': 1})\n",
      "Turn x\n",
      "oxO\n",
      "...\n",
      "...\n",
      "\n",
      "defaultdict(<class 'int'>, {'o': 2, 'x': 1})\n"
     ]
    }
   ],
   "source": [
    "mb = Marubatsu()\n",
    "\n",
    "print(mb)\n",
    "print(mb.count_marks((0, 0), 1, 0))\n",
    "\n",
    "mb.move(0, 0)\n",
    "print(mb)\n",
    "print(mb.count_marks((0, 0), 1, 0))\n",
    "\n",
    "mb.move(1, 0)\n",
    "print(mb)\n",
    "print(mb.count_marks((0, 0), 1, 0))\n",
    "\n",
    "mb.move(2, 0)\n",
    "print(mb)\n",
    "print(mb.count_marks((0, 0), 1, 0))"
   ]
  },
  {
   "cell_type": "code",
   "execution_count": 14,
   "metadata": {},
   "outputs": [],
   "source": [
    "def ai6s(mb, debug=False):\n",
    "    def eval_func(mb):\n",
    "        # 自分が勝利している場合は、評価値として 1 を返す\n",
    "        if mb.status == mb.last_turn:\n",
    "            return 1\n",
    "\n",
    "        # 相手の手番で相手が勝利できる場合は評価値として -1 を返す\n",
    "        # 横方向と縦方向の判定\n",
    "        for i in range(mb.BOARD_SIZE):\n",
    "            count = mb.count_marks(coord=[0, i], dx=1, dy=0)\n",
    "            if count[mb.turn] == 2 and count[Marubatsu.EMPTY] == 1:\n",
    "                return -1\n",
    "            count = mb.count_marks(coord=[i, 0], dx=0, dy=1)\n",
    "            if count[mb.turn] == 2 and count[Marubatsu.EMPTY] == 1:\n",
    "                return -1\n",
    "        # 左上から右下方向の判定\n",
    "        count = mb.count_marks(coord=[0, 0], dx=1, dy=1)\n",
    "        if count[mb.turn] == 2 and count[Marubatsu.EMPTY] == 1:\n",
    "            return -1\n",
    "        # 右上から左下方向の判定\n",
    "        count = mb.count_marks(coord=[2, 0], dx=-1, dy=1)\n",
    "        if count[mb.turn] == 2 and count[Marubatsu.EMPTY] == 1:\n",
    "            return -1\n",
    "\n",
    "        # それ以外の場合は評価値として 0 を返す\n",
    "        return 0\n",
    "\n",
    "    return ai_by_score(mb, eval_func, debug=debug)        "
   ]
  },
  {
   "cell_type": "code",
   "execution_count": 15,
   "metadata": {},
   "outputs": [
    {
     "name": "stdout",
     "output_type": "stream",
     "text": [
      "ai6s VS ai6\n",
      "count     win    lose    draw\n",
      "o        3161    1672    5167\n",
      "x        1723    3114    5163\n",
      "total    4884    4786   10330\n",
      "\n",
      "ratio     win    lose    draw\n",
      "o       31.6%   16.7%   51.7%\n",
      "x       17.2%   31.1%   51.6%\n",
      "total   24.4%   23.9%   51.6%\n",
      "\n"
     ]
    }
   ],
   "source": [
    "ai_match(ai=[ai6s, ai6])"
   ]
  },
  {
   "cell_type": "code",
   "execution_count": 16,
   "metadata": {},
   "outputs": [
    {
     "name": "stdout",
     "output_type": "stream",
     "text": [
      "Turn x\n",
      "oxx\n",
      "Oo.\n",
      "...\n",
      "\n",
      "ai6\n",
      "(2, 1)\n",
      "(2, 1)\n",
      "(2, 1)\n",
      "(2, 1)\n",
      "(2, 1)\n",
      "(2, 1)\n",
      "(2, 1)\n",
      "(2, 1)\n",
      "(2, 1)\n",
      "(2, 1)\n",
      "ai6s\n",
      "(2, 1)\n",
      "(1, 2)\n",
      "(1, 2)\n",
      "(0, 2)\n",
      "(1, 2)\n",
      "(0, 2)\n",
      "(0, 2)\n",
      "(0, 2)\n",
      "(2, 2)\n",
      "(2, 2)\n"
     ]
    }
   ],
   "source": [
    "mb = Marubatsu()\n",
    "\n",
    "mb.move(1, 1)\n",
    "mb.move(1, 0)\n",
    "mb.move(0, 0)\n",
    "mb.move(2, 0)\n",
    "mb.move(0, 1)\n",
    "print(mb)\n",
    "\n",
    "print(\"ai6\")\n",
    "for i in range(10):\n",
    "    print(ai6(mb))\n",
    "    \n",
    "print(\"ai6s\")\n",
    "for i in range(10):\n",
    "    print(ai6s(mb))"
   ]
  },
  {
   "cell_type": "code",
   "execution_count": 17,
   "metadata": {},
   "outputs": [
    {
     "name": "stdout",
     "output_type": "stream",
     "text": [
      "ai6s VS ai2\n",
      "count     win    lose    draw\n",
      "o        8858     195     947\n",
      "x        6937     912    2151\n",
      "total   15795    1107    3098\n",
      "\n",
      "ratio     win    lose    draw\n",
      "o       88.6%    1.9%    9.5%\n",
      "x       69.4%    9.1%   21.5%\n",
      "total   79.0%    5.5%   15.5%\n",
      "\n"
     ]
    }
   ],
   "source": [
    "ai_match(ai=[ai6s, ai2])"
   ]
  },
  {
   "cell_type": "code",
   "execution_count": 18,
   "metadata": {},
   "outputs": [],
   "source": [
    "def ai7s(mb, debug=False):\n",
    "    def eval_func(mb):\n",
    "        # 真ん中のマスに着手している場合は、評価値として 2 を返す\n",
    "        if mb.last_move == (1, 1):\n",
    "            return 2\n",
    "    \n",
    "        # 自分が勝利している場合は、評価値として 1 を返す\n",
    "        if mb.status == mb.last_turn:\n",
    "            return 1\n",
    "\n",
    "        # 相手の手番で相手が勝利できる場合は評価値として -1 を返す\n",
    "        # 横方向と縦方向の判定\n",
    "        for i in range(mb.BOARD_SIZE):\n",
    "            count = mb.count_marks(coord=[0, i], dx=1, dy=0)\n",
    "            if count[mb.turn] == 2 and count[Marubatsu.EMPTY] == 1:\n",
    "                return -1\n",
    "            count = mb.count_marks(coord=[i, 0], dx=0, dy=1)\n",
    "            if count[mb.turn] == 2 and count[Marubatsu.EMPTY] == 1:\n",
    "                return -1\n",
    "        # 左上から右下方向の判定\n",
    "        count = mb.count_marks(coord=[0, 0], dx=1, dy=1)\n",
    "        if count[mb.turn] == 2 and count[Marubatsu.EMPTY] == 1:\n",
    "            return -1\n",
    "        # 右上から左下方向の判定\n",
    "        count = mb.count_marks(coord=[2, 0], dx=-1, dy=1)\n",
    "        if count[mb.turn] == 2 and count[Marubatsu.EMPTY] == 1:\n",
    "            return -1\n",
    "\n",
    "        # それ以外の場合は評価値として 0 を返す\n",
    "        return 0\n",
    "\n",
    "    return ai_by_score(mb, eval_func, debug=debug)  "
   ]
  },
  {
   "cell_type": "code",
   "execution_count": 19,
   "metadata": {},
   "outputs": [
    {
     "name": "stdout",
     "output_type": "stream",
     "text": [
      "ai7s VS ai7\n",
      "count     win    lose    draw\n",
      "o        2950     416    6634\n",
      "x         417    2910    6673\n",
      "total    3367    3326   13307\n",
      "\n",
      "ratio     win    lose    draw\n",
      "o       29.5%    4.2%   66.3%\n",
      "x        4.2%   29.1%   66.7%\n",
      "total   16.8%   16.6%   66.5%\n",
      "\n"
     ]
    }
   ],
   "source": [
    "ai_match(ai=[ai7s, ai7])"
   ]
  }
 ],
 "metadata": {
  "kernelspec": {
   "display_name": "marubatsu",
   "language": "python",
   "name": "python3"
  },
  "language_info": {
   "codemirror_mode": {
    "name": "ipython",
    "version": 3
   },
   "file_extension": ".py",
   "mimetype": "text/x-python",
   "name": "python",
   "nbconvert_exporter": "python",
   "pygments_lexer": "ipython3",
   "version": "3.11.4"
  }
 },
 "nbformat": 4,
 "nbformat_minor": 2
}
