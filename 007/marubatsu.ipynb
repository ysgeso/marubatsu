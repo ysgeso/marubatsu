{
 "cells": [
  {
   "cell_type": "code",
   "execution_count": 1,
   "metadata": {},
   "outputs": [
    {
     "name": "stdout",
     "output_type": "stream",
     "text": [
      "[['〇', ' ', ' '], ['〇', ' ', ' '], ['〇', ' ', ' ']]\n"
     ]
    }
   ],
   "source": [
    "board = [[\" \"] * 3] * 3\n",
    "board[1][0] = \"〇\"\n",
    "print(board)"
   ]
  },
  {
   "cell_type": "code",
   "execution_count": 2,
   "metadata": {},
   "outputs": [
    {
     "name": "stdout",
     "output_type": "stream",
     "text": [
      "2\n",
      "5\n"
     ]
    }
   ],
   "source": [
    "a = 5\n",
    "b = a\n",
    "a = 2\n",
    "print(a)\n",
    "print(b)"
   ]
  },
  {
   "cell_type": "code",
   "execution_count": 3,
   "metadata": {},
   "outputs": [
    {
     "name": "stdout",
     "output_type": "stream",
     "text": [
      "[2, 2, 3]\n",
      "[2, 2, 3]\n"
     ]
    }
   ],
   "source": [
    "a = [1, 2, 3]\n",
    "b = a\n",
    "a[0] = 2\n",
    "print(a)\n",
    "print(b)"
   ]
  },
  {
   "cell_type": "code",
   "execution_count": 4,
   "metadata": {},
   "outputs": [
    {
     "name": "stdout",
     "output_type": "stream",
     "text": [
      "140731432669992\n",
      "140731431470144\n",
      "1706072311232\n"
     ]
    }
   ],
   "source": [
    "print(id(1))\n",
    "print(id(\"abc\"))\n",
    "print(id([1, 2, 3]))"
   ]
  },
  {
   "cell_type": "code",
   "execution_count": 5,
   "metadata": {},
   "outputs": [
    {
     "name": "stdout",
     "output_type": "stream",
     "text": [
      "1706069801744\n",
      "1706069799280\n"
     ]
    }
   ],
   "source": [
    "print(id(1.2))\n",
    "print(id(1.2))"
   ]
  },
  {
   "cell_type": "code",
   "execution_count": 6,
   "metadata": {},
   "outputs": [
    {
     "name": "stdout",
     "output_type": "stream",
     "text": [
      "140731432669992\n",
      "140731432669992\n",
      "140731431470144\n",
      "140731431470144\n"
     ]
    }
   ],
   "source": [
    "print(id(1))\n",
    "print(id(1))\n",
    "print(id(\"abc\"))\n",
    "print(id(\"abc\"))"
   ]
  }
 ],
 "metadata": {
  "kernelspec": {
   "display_name": "marubatsu",
   "language": "python",
   "name": "python3"
  },
  "language_info": {
   "codemirror_mode": {
    "name": "ipython",
    "version": 3
   },
   "file_extension": ".py",
   "mimetype": "text/x-python",
   "name": "python",
   "nbconvert_exporter": "python",
   "pygments_lexer": "ipython3",
   "version": "3.11.4"
  },
  "orig_nbformat": 4
 },
 "nbformat": 4,
 "nbformat_minor": 2
}
