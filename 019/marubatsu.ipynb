{
 "cells": [
  {
   "cell_type": "code",
   "execution_count": 1,
   "metadata": {},
   "outputs": [
    {
     "name": "stdout",
     "output_type": "stream",
     "text": [
      "ABC\n"
     ]
    }
   ],
   "source": [
    "print(\"abc\".upper())"
   ]
  },
  {
   "cell_type": "code",
   "execution_count": 2,
   "metadata": {},
   "outputs": [
    {
     "name": "stdout",
     "output_type": "stream",
     "text": [
      "[1]\n",
      "[]\n"
     ]
    }
   ],
   "source": [
    "a = []\n",
    "b = []\n",
    "a.append(1)\n",
    "print(a)\n",
    "print(b)"
   ]
  },
  {
   "cell_type": "code",
   "execution_count": 3,
   "metadata": {},
   "outputs": [],
   "source": [
    "class Marubatsu:\n",
    "    pass"
   ]
  },
  {
   "cell_type": "code",
   "execution_count": 4,
   "metadata": {},
   "outputs": [],
   "source": [
    "mb1 = Marubatsu()\n",
    "mb2 = Marubatsu()"
   ]
  },
  {
   "cell_type": "code",
   "execution_count": 5,
   "metadata": {},
   "outputs": [
    {
     "name": "stdout",
     "output_type": "stream",
     "text": [
      "1\n",
      "2\n"
     ]
    }
   ],
   "source": [
    "mb1.a = 1\n",
    "mb2.a = 2\n",
    "print(mb1.a)\n",
    "print(mb2.a)"
   ]
  },
  {
   "cell_type": "code",
   "execution_count": 6,
   "metadata": {},
   "outputs": [
    {
     "ename": "AttributeError",
     "evalue": "'Marubatsu' object has no attribute 'b'",
     "output_type": "error",
     "traceback": [
      "\u001b[1;31m---------------------------------------------------------------------------\u001b[0m",
      "\u001b[1;31mAttributeError\u001b[0m                            Traceback (most recent call last)",
      "\u001b[1;32mc:\\Users\\ys\\ai\\marubatsu\\019\\marubatsu.ipynb セル 6\u001b[0m line \u001b[0;36m1\n\u001b[1;32m----> <a href='vscode-notebook-cell:/c%3A/Users/ys/ai/marubatsu/019/marubatsu.ipynb#W5sZmlsZQ%3D%3D?line=0'>1</a>\u001b[0m \u001b[39mprint\u001b[39m(mb1\u001b[39m.\u001b[39mb)\n",
      "\u001b[1;31mAttributeError\u001b[0m: 'Marubatsu' object has no attribute 'b'"
     ]
    }
   ],
   "source": [
    "print(mb1.b)"
   ]
  },
  {
   "cell_type": "code",
   "execution_count": 7,
   "metadata": {},
   "outputs": [
    {
     "name": "stdout",
     "output_type": "stream",
     "text": [
      "[['.', '.', '.'], ['.', '.', '.'], ['.', '.', '.']]\n"
     ]
    }
   ],
   "source": [
    "class Marubatsu:\n",
    "    def initialize_board(self):\n",
    "        self.board = [[\".\"] * 3 for y in range(3)]\n",
    "\n",
    "mb = Marubatsu()\n",
    "mb.initialize_board()\n",
    "print(mb.board)"
   ]
  },
  {
   "cell_type": "code",
   "execution_count": 8,
   "metadata": {},
   "outputs": [],
   "source": [
    "def initialize_board() -> list[list[str]]:\n",
    "    return [[\".\"] * 3 for y in range(3)]"
   ]
  },
  {
   "cell_type": "code",
   "execution_count": 9,
   "metadata": {},
   "outputs": [],
   "source": [
    "board1 = initialize_board()\n",
    "board2 = initialize_board()"
   ]
  },
  {
   "cell_type": "code",
   "execution_count": 10,
   "metadata": {},
   "outputs": [
    {
     "name": "stdout",
     "output_type": "stream",
     "text": [
      "[['.', '.', '.'], ['.', '.', '.'], ['.', '.', '.']]\n",
      "[['.', '.', '.'], ['.', '.', '.'], ['.', '.', '.']]\n"
     ]
    }
   ],
   "source": [
    "mb1 = Marubatsu()\n",
    "mb1.initialize_board()\n",
    "print(mb1.board)\n",
    "mb2 = Marubatsu()\n",
    "mb2.initialize_board()\n",
    "print(mb2.board)"
   ]
  },
  {
   "cell_type": "code",
   "execution_count": 11,
   "metadata": {},
   "outputs": [],
   "source": [
    "class Marubatsu:\n",
    "    def initialize_board(self):\n",
    "        self.board = [[\".\"] * 3 for y in range(3)]\n",
    "\n",
    "    def set_mark(self, x, y, mark):\n",
    "        if self.board[x][y] == \".\":\n",
    "            self.board[x][y] = mark\n",
    "        else:\n",
    "            print(\"(\", x, \",\", y, \") のマスにはマークが配置済です\")\n",
    "\n",
    "    def display_board(self):   \n",
    "        # 各行に対する繰り返しの処理を行う\n",
    "        for y in range(3):\n",
    "            # y 行の各マスに対する繰り返しの処理を行う\n",
    "            for x in range(3):\n",
    "                # (x, y) のマスの要素を改行せずに表示する\n",
    "                print(self.board[x][y], end=\"\")\n",
    "            # x 列の表示が終わったので、改行する\n",
    "            print()  "
   ]
  },
  {
   "cell_type": "code",
   "execution_count": 12,
   "metadata": {},
   "outputs": [
    {
     "name": "stdout",
     "output_type": "stream",
     "text": [
      "...\n",
      "o..\n",
      ".x.\n"
     ]
    }
   ],
   "source": [
    "mb = Marubatsu()\n",
    "mb.initialize_board()\n",
    "mb.set_mark(0, 1, \"o\")\n",
    "mb.set_mark(1, 2, \"x\")\n",
    "mb.display_board()"
   ]
  },
  {
   "cell_type": "code",
   "execution_count": 13,
   "metadata": {},
   "outputs": [
    {
     "ename": "AttributeError",
     "evalue": "'Marubatsu' object has no attribute 'board'",
     "output_type": "error",
     "traceback": [
      "\u001b[1;31m---------------------------------------------------------------------------\u001b[0m",
      "\u001b[1;31mAttributeError\u001b[0m                            Traceback (most recent call last)",
      "\u001b[1;32mc:\\Users\\ys\\ai\\marubatsu\\019\\marubatsu.ipynb セル 13\u001b[0m line \u001b[0;36m2\n\u001b[0;32m      <a href='vscode-notebook-cell:/c%3A/Users/ys/ai/marubatsu/019/marubatsu.ipynb#X15sZmlsZQ%3D%3D?line=0'>1</a>\u001b[0m mb \u001b[39m=\u001b[39m Marubatsu()\n\u001b[1;32m----> <a href='vscode-notebook-cell:/c%3A/Users/ys/ai/marubatsu/019/marubatsu.ipynb#X15sZmlsZQ%3D%3D?line=1'>2</a>\u001b[0m mb\u001b[39m.\u001b[39mset_mark(\u001b[39m0\u001b[39m, \u001b[39m1\u001b[39m, \u001b[39m\"\u001b[39m\u001b[39mo\u001b[39m\u001b[39m\"\u001b[39m)\n",
      "\u001b[1;32mc:\\Users\\ys\\ai\\marubatsu\\019\\marubatsu.ipynb セル 13\u001b[0m line \u001b[0;36m6\n\u001b[0;32m      <a href='vscode-notebook-cell:/c%3A/Users/ys/ai/marubatsu/019/marubatsu.ipynb#X15sZmlsZQ%3D%3D?line=4'>5</a>\u001b[0m \u001b[39mdef\u001b[39;00m \u001b[39mset_mark\u001b[39m(\u001b[39mself\u001b[39m, x, y, mark):\n\u001b[1;32m----> <a href='vscode-notebook-cell:/c%3A/Users/ys/ai/marubatsu/019/marubatsu.ipynb#X15sZmlsZQ%3D%3D?line=5'>6</a>\u001b[0m     \u001b[39mif\u001b[39;00m \u001b[39mself\u001b[39m\u001b[39m.\u001b[39mboard[x][y] \u001b[39m==\u001b[39m \u001b[39m\"\u001b[39m\u001b[39m.\u001b[39m\u001b[39m\"\u001b[39m:\n\u001b[0;32m      <a href='vscode-notebook-cell:/c%3A/Users/ys/ai/marubatsu/019/marubatsu.ipynb#X15sZmlsZQ%3D%3D?line=6'>7</a>\u001b[0m         \u001b[39mself\u001b[39m\u001b[39m.\u001b[39mboard[x][y] \u001b[39m=\u001b[39m mark\n\u001b[0;32m      <a href='vscode-notebook-cell:/c%3A/Users/ys/ai/marubatsu/019/marubatsu.ipynb#X15sZmlsZQ%3D%3D?line=7'>8</a>\u001b[0m     \u001b[39melse\u001b[39;00m:\n",
      "\u001b[1;31mAttributeError\u001b[0m: 'Marubatsu' object has no attribute 'board'"
     ]
    }
   ],
   "source": [
    "mb = Marubatsu()\n",
    "mb.set_mark(0, 1, \"o\")"
   ]
  },
  {
   "cell_type": "code",
   "execution_count": 14,
   "metadata": {},
   "outputs": [
    {
     "name": "stdout",
     "output_type": "stream",
     "text": [
      "mb1\n",
      "...\n",
      "o..\n",
      "...\n",
      "mb2\n",
      "...\n",
      "...\n",
      ".x.\n"
     ]
    }
   ],
   "source": [
    "print(\"mb1\")\n",
    "mb1 = Marubatsu()\n",
    "mb1.initialize_board()\n",
    "mb1.set_mark(0, 1, \"o\")\n",
    "mb1.display_board()\n",
    "\n",
    "print(\"mb2\")\n",
    "mb2 = Marubatsu()\n",
    "mb2.initialize_board()\n",
    "mb2.set_mark(1, 2, \"x\")\n",
    "mb2.display_board()"
   ]
  },
  {
   "cell_type": "code",
   "execution_count": 15,
   "metadata": {},
   "outputs": [
    {
     "name": "stdout",
     "output_type": "stream",
     "text": [
      "board1\n",
      "...\n",
      "o..\n",
      "...\n",
      "board2\n",
      "...\n",
      "...\n",
      ".x.\n"
     ]
    }
   ],
   "source": [
    "from marubatsu import set_mark, display_board\n",
    "\n",
    "print(\"board1\")\n",
    "board1 = initialize_board()\n",
    "set_mark(board1, 0, 1, \"o\")\n",
    "display_board(board1)\n",
    "\n",
    "print(\"board2\")\n",
    "board2 = initialize_board()\n",
    "set_mark(board2, 1, 2, \"x\")\n",
    "display_board(board2)"
   ]
  },
  {
   "cell_type": "code",
   "execution_count": 16,
   "metadata": {},
   "outputs": [
    {
     "name": "stdout",
     "output_type": "stream",
     "text": [
      "add\n",
      "__main__\n"
     ]
    }
   ],
   "source": [
    "def add(x, y):\n",
    "    \"\"\" x + y を計算する関数 \"\"\"\n",
    "    return x + y\n",
    "\n",
    "print(add.__name__)  # add の関数名を表示する\n",
    "print(__name__)      # この文を実行したモジュールの名前を表示する"
   ]
  },
  {
   "cell_type": "code",
   "execution_count": 17,
   "metadata": {},
   "outputs": [
    {
     "name": "stdout",
     "output_type": "stream",
     "text": [
      "{'__module__': '__main__', 'initialize_board': <function Marubatsu.initialize_board at 0x000002E67BBF05E0>, 'set_mark': <function Marubatsu.set_mark at 0x000002E67BBF0900>, 'display_board': <function Marubatsu.display_board at 0x000002E67BBF07C0>, '__dict__': <attribute '__dict__' of 'Marubatsu' objects>, '__weakref__': <attribute '__weakref__' of 'Marubatsu' objects>, '__doc__': None}\n"
     ]
    }
   ],
   "source": [
    "print(Marubatsu.__dict__)"
   ]
  },
  {
   "cell_type": "code",
   "execution_count": 18,
   "metadata": {},
   "outputs": [
    {
     "name": "stdout",
     "output_type": "stream",
     "text": [
      "...\n",
      "...\n",
      "...\n"
     ]
    }
   ],
   "source": [
    "class Marubatsu:\n",
    "    def __init__(self):\n",
    "        self.initialize_board()\n",
    "\n",
    "    def initialize_board(self):\n",
    "        self.board = [[\".\"] * 3 for y in range(3)]\n",
    "\n",
    "    def set_mark(self, x, y, mark):\n",
    "        if self.board[x][y] == \".\":\n",
    "            self.board[x][y] = mark\n",
    "        else:\n",
    "            print(\"(\", x, \",\", y, \") のマスにはマークが配置済です\")\n",
    "\n",
    "    def display_board(self):   \n",
    "        # 各行に対する繰り返しの処理を行う\n",
    "        for y in range(3):\n",
    "            # y 行の各マスに対する繰り返しの処理を行う\n",
    "            for x in range(3):\n",
    "                # (x, y) のマスの要素を改行せずに表示する\n",
    "                print(self.board[x][y], end=\"\")\n",
    "            # x 列の表示が終わったので、改行する\n",
    "            print()  \n",
    "\n",
    "mb = Marubatsu()\n",
    "mb.display_board()"
   ]
  },
  {
   "cell_type": "code",
   "execution_count": 19,
   "metadata": {},
   "outputs": [
    {
     "name": "stdout",
     "output_type": "stream",
     "text": [
      "5\n"
     ]
    }
   ],
   "source": [
    "class A:\n",
    "    def __init__(self, x):\n",
    "        self.x = x\n",
    "\n",
    "a = A(5)\n",
    "print(a.x)"
   ]
  },
  {
   "cell_type": "code",
   "execution_count": 20,
   "metadata": {},
   "outputs": [],
   "source": [
    "class Marubatsu:\n",
    "    \"\"\" 〇×ゲーム\n",
    "\n",
    "    Attributes:\n",
    "        board (list[list[str]):\n",
    "            ゲーム盤を表す 2 次元配列の list\n",
    "            2 つのインデックスは、順に x 座標、y 座標を表す\n",
    "            空白のマスは \" \"、〇 のマスは \"o\"、× のマスは \"x\" を代入する\n",
    "    \"\"\"\n",
    "\n",
    "    def __init__(self):\n",
    "        \"\"\" イニシャライザ \"\"\"\n",
    "\n",
    "        # ゲーム盤の初期化を行うメソッドを呼び出す\n",
    "        self.initialize_board()\n",
    "\n",
    "    def initialize_board(self):\n",
    "        \"\"\" ゲーム盤のデータの初期化を行うメソッド. \"\"\"\n",
    "\n",
    "        self.board = [[\".\"] * 3 for y in range(3)]\n",
    "\n",
    "    def set_mark(self, x, y, mark):\n",
    "        \"\"\" ゲーム盤の指定したマスに指定したマークを配置するメソッド.\n",
    "\n",
    "        (x, y) のマスに mark で指定したマークを配置する.\n",
    "        (x, y) のマスに既にマークが配置済の場合は、メッセージを表示する.\n",
    "\n",
    "        Args:\n",
    "            x (int):\n",
    "                マークを配置するマスの x 座標\n",
    "            y (int):\n",
    "                マークを配置するマスの y 座標\n",
    "            mark (str):\n",
    "                配置するマークを表す文字列\n",
    "        \"\"\"\n",
    "\n",
    "        if self.board[x][y] == \".\":\n",
    "            self.board[x][y] = mark\n",
    "        else:\n",
    "            print(\"(\", x, \",\", y, \") のマスにはマークが配置済です\")\n",
    "\n",
    "    def display_board(self):   \n",
    "        \"\"\" ゲーム盤を表示するメソッド. \"\"\"\n",
    "\n",
    "        # 各行に対する繰り返しの処理を行う\n",
    "        for y in range(3):\n",
    "            # y 行の各マスに対する繰り返しの処理を行う\n",
    "            for x in range(3):\n",
    "                # (x, y) のマスの要素を改行せずに表示する\n",
    "                print(self.board[x][y], end=\"\")\n",
    "            # x 列の表示が終わったので、改行する\n",
    "            print()  "
   ]
  }
 ],
 "metadata": {
  "kernelspec": {
   "display_name": "marubatsu",
   "language": "python",
   "name": "python3"
  },
  "language_info": {
   "codemirror_mode": {
    "name": "ipython",
    "version": 3
   },
   "file_extension": ".py",
   "mimetype": "text/x-python",
   "name": "python",
   "nbconvert_exporter": "python",
   "pygments_lexer": "ipython3",
   "version": "3.11.4"
  },
  "orig_nbformat": 4
 },
 "nbformat": 4,
 "nbformat_minor": 2
}
