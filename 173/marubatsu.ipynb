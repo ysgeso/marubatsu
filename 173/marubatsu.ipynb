{
 "cells": [
  {
   "cell_type": "code",
   "execution_count": 1,
   "metadata": {},
   "outputs": [],
   "source": [
    "from ai import dprint\n",
    "from functools import wraps\n",
    "from random import choice\n",
    "from copy import deepcopy\n",
    "\n",
    "def ai_by_score(eval_func):\n",
    "    @wraps(eval_func)\n",
    "    def wrapper(mb_orig, debug=False, *args, rand=True, share_tt=True,\n",
    "                analyze=False, calc_score=False, **kwargs):\n",
    "        if calc_score:\n",
    "            return eval_func(mb_orig, debug, *args, **kwargs)\n",
    "\n",
    "        dprint(debug, \"Start ai_by_score\")\n",
    "        dprint(debug, mb_orig)\n",
    "        legal_moves = mb_orig.calc_legal_moves()\n",
    "        dprint(debug, \"legal_moves\", legal_moves)\n",
    "        best_score = float(\"-inf\")\n",
    "        best_moves = []\n",
    "        tt = {} if share_tt else None\n",
    "        if analyze:\n",
    "            score_by_move = {}\n",
    "        for move in legal_moves:\n",
    "            dprint(debug, \"=\" * 20)\n",
    "            dprint(debug, \"move\", move)\n",
    "            mb = deepcopy(mb_orig)\n",
    "            x, y = move\n",
    "            mb.move(x, y)\n",
    "            dprint(debug, mb)\n",
    "            score = eval_func(mb, debug, tt=tt, *args, **kwargs)\n",
    "            dprint(debug, \"score\", score, \"best score\", best_score)\n",
    "            if analyze:\n",
    "                score_by_move[move] = score\n",
    "            \n",
    "            if best_score < score:\n",
    "                best_score = score\n",
    "                best_moves = [move]\n",
    "                dprint(debug, \"UPDATE\")\n",
    "                dprint(debug, \"  best score\", best_score)\n",
    "                dprint(debug, \"  best moves\", best_moves)\n",
    "            elif best_score == score:\n",
    "                best_moves.append(move)\n",
    "                dprint(debug, \"APPEND\")\n",
    "                dprint(debug, \"  best moves\", best_moves)\n",
    "\n",
    "        dprint(debug, \"=\" * 20)\n",
    "        dprint(debug, \"Finished\")\n",
    "        dprint(debug, \"best score\", best_score)\n",
    "        dprint(debug, \"best moves\", best_moves)\n",
    "        if analyze:\n",
    "            return {\n",
    "                \"candidate\": best_moves,\n",
    "                \"score_by_move\": score_by_move,\n",
    "            }\n",
    "        elif rand:   \n",
    "            return choice(best_moves)\n",
    "        else:\n",
    "            return best_moves[0]\n",
    "        \n",
    "    return wrapper"
   ]
  },
  {
   "cell_type": "code",
   "execution_count": 2,
   "metadata": {},
   "outputs": [],
   "source": [
    "from marubatsu import Marubatsu\n",
    "\n",
    "@ai_by_score\n",
    "def ai_abs_all(mb, debug, shortest_victory=False, init_ab=False,\n",
    "               use_tt=False, tt=None, ai_for_mo=None, params={},\n",
    "               sort_allnodes=False, calc_count=False):           \n",
    "    count = 0\n",
    "    def ab_search(mborig, tt, alpha=float(\"-inf\"), beta=float(\"inf\")):\n",
    "        nonlocal count\n",
    "        count += 1\n",
    "        if mborig.status == Marubatsu.CIRCLE:\n",
    "            return (11 - mborig.move_count) / 2 if shortest_victory else 1\n",
    "        elif mborig.status == Marubatsu.CROSS:\n",
    "            return (mborig.move_count - 10) / 2 if shortest_victory else -1\n",
    "        elif mborig.status == Marubatsu.DRAW:\n",
    "            return 0\n",
    "        \n",
    "        if use_tt:\n",
    "            boardtxt = mborig.board_to_str()\n",
    "            if boardtxt in tt:\n",
    "                lower_bound, upper_bound = tt[boardtxt]\n",
    "                if lower_bound == upper_bound:\n",
    "                    return lower_bound\n",
    "                elif upper_bound <= alpha:\n",
    "                    return upper_bound\n",
    "                elif beta <= lower_bound:\n",
    "                    return lower_bound\n",
    "                else:\n",
    "                    alpha = max(alpha, lower_bound)\n",
    "                    beta = min(beta, upper_bound)\n",
    "            else:\n",
    "                lower_bound = min_score\n",
    "                upper_bound = max_score\n",
    "        \n",
    "        alphaorig = alpha\n",
    "        betaorig = beta\n",
    "\n",
    "        legal_moves = mborig.calc_legal_moves()\n",
    "        if ai_for_mo is not None:\n",
    "            if sort_allnodes:\n",
    "                score_by_move = ai_for_mo(mborig, analyze=True, **params)[\"score_by_move\"]\n",
    "                score_by_move_list = sorted(score_by_move.items(), key=lambda x:x[1], reverse=True)\n",
    "                legal_moves = [x[0] for x in score_by_move_list]\n",
    "            else:\n",
    "                legal_moves = mborig.calc_legal_moves()\n",
    "                bestmove = ai_for_mo(mborig, rand=False, **params)\n",
    "                index = legal_moves.index(bestmove)\n",
    "                legal_moves[0], legal_moves[index] = legal_moves[index], legal_moves[0]\n",
    "        if mborig.turn == Marubatsu.CIRCLE:\n",
    "            score = float(\"-inf\")\n",
    "            for x, y in legal_moves:\n",
    "                mb = deepcopy(mborig)\n",
    "                mb.move(x, y)\n",
    "                score = max(score, ab_search(mb, tt, alpha, beta))\n",
    "                if score >= beta:\n",
    "                    break\n",
    "                alpha = max(alpha, score)\n",
    "        else:\n",
    "            score = float(\"inf\")\n",
    "            for x, y in legal_moves:\n",
    "                mb = deepcopy(mborig)\n",
    "                mb.move(x, y)\n",
    "                score = min(score, ab_search(mb, tt, alpha, beta))\n",
    "                if score <= alpha:\n",
    "                    break\n",
    "                beta = min(beta, score)   \n",
    "            \n",
    "        from util import calc_same_boardtexts\n",
    "\n",
    "        if use_tt:\n",
    "            boardtxtlist = calc_same_boardtexts(mborig)\n",
    "            if score <= alphaorig:\n",
    "                upper_bound = score\n",
    "            elif score < betaorig:\n",
    "                lower_bound = score\n",
    "                upper_bound = score\n",
    "            else:\n",
    "                lower_bound = score\n",
    "            for boardtxt in boardtxtlist:\n",
    "                tt[boardtxt] = (lower_bound, upper_bound)\n",
    "        return score\n",
    "                \n",
    "    min_score = -2 if shortest_victory else -1\n",
    "    max_score = 3 if shortest_victory else 1\n",
    "    alpha = min_score if init_ab else float(\"-inf\")\n",
    "    beta = max_score if init_ab else float(\"inf\")\n",
    "\n",
    "    if tt is None:\n",
    "        tt = {}\n",
    "    score = ab_search(mb, tt=tt, alpha=alpha, beta=beta)\n",
    "    dprint(debug, \"count =\", count)\n",
    "    if calc_count:\n",
    "        return count\n",
    "    if mb.turn == Marubatsu.CIRCLE:\n",
    "        score *= -1\n",
    "    return score"
   ]
  },
  {
   "cell_type": "code",
   "execution_count": 3,
   "metadata": {},
   "outputs": [
    {
     "data": {
      "text/plain": [
       "(1, 2)"
      ]
     },
     "execution_count": 3,
     "metadata": {},
     "output_type": "execute_result"
    }
   ],
   "source": [
    "mb = Marubatsu()\n",
    "ai_abs_all(mb, share_tt=False)"
   ]
  },
  {
   "cell_type": "code",
   "execution_count": 4,
   "metadata": {},
   "outputs": [
    {
     "name": "stderr",
     "output_type": "stream",
     "text": [
      "100%|██████████| 431/431 [00:02<00:00, 190.94it/s]"
     ]
    },
    {
     "name": "stdout",
     "output_type": "stream",
     "text": [
      "431/431 100.00%\n"
     ]
    },
    {
     "name": "stderr",
     "output_type": "stream",
     "text": [
      "\n"
     ]
    },
    {
     "data": {
      "text/plain": [
       "(True, [])"
      ]
     },
     "execution_count": 4,
     "metadata": {},
     "output_type": "execute_result"
    }
   ],
   "source": [
    "from util import Check_solved\n",
    "Check_solved.is_strongly_solved(ai_abs_all, params={\"use_tt\":True})"
   ]
  },
  {
   "cell_type": "code",
   "execution_count": 5,
   "metadata": {},
   "outputs": [
    {
     "name": "stderr",
     "output_type": "stream",
     "text": [
      "100%|██████████| 431/431 [00:03<00:00, 136.31it/s]"
     ]
    },
    {
     "name": "stdout",
     "output_type": "stream",
     "text": [
      "431/431 100.00%\n"
     ]
    },
    {
     "name": "stderr",
     "output_type": "stream",
     "text": [
      "\n"
     ]
    },
    {
     "data": {
      "text/plain": [
       "(True, [])"
      ]
     },
     "execution_count": 5,
     "metadata": {},
     "output_type": "execute_result"
    }
   ],
   "source": [
    "Check_solved.is_strongly_solved(ai_abs_all, params={\"use_tt\":True, \"share_tt\":False})"
   ]
  },
  {
   "cell_type": "code",
   "execution_count": 6,
   "metadata": {},
   "outputs": [
    {
     "name": "stdout",
     "output_type": "stream",
     "text": [
      "ai_abs_all VS ai2s\n"
     ]
    },
    {
     "name": "stderr",
     "output_type": "stream",
     "text": [
      "100%|██████████| 100/100 [00:23<00:00,  4.29it/s]\n"
     ]
    },
    {
     "name": "stdout",
     "output_type": "stream",
     "text": [
      "count     win    lose    draw\n",
      "o          99       0       1\n",
      "x          81       0      19\n",
      "total     180       0      20\n",
      "\n",
      "ratio     win    lose    draw\n",
      "o       99.0%    0.0%    1.0%\n",
      "x       81.0%    0.0%   19.0%\n",
      "total   90.0%    0.0%   10.0%\n",
      "\n",
      "ai_abs_all VS ai2s\n"
     ]
    },
    {
     "name": "stderr",
     "output_type": "stream",
     "text": [
      "100%|██████████| 100/100 [01:12<00:00,  1.39it/s]"
     ]
    },
    {
     "name": "stdout",
     "output_type": "stream",
     "text": [
      "count     win    lose    draw\n",
      "o          98       0       2\n",
      "x          73       0      27\n",
      "total     171       0      29\n",
      "\n",
      "ratio     win    lose    draw\n",
      "o       98.0%    0.0%    2.0%\n",
      "x       73.0%    0.0%   27.0%\n",
      "total   85.5%    0.0%   14.5%\n",
      "\n"
     ]
    },
    {
     "name": "stderr",
     "output_type": "stream",
     "text": [
      "\n"
     ]
    }
   ],
   "source": [
    "from ai import ai2s, ai_match\n",
    "\n",
    "ai_match(ai=[ai_abs_all, ai2s], params=[{\"use_tt\": True}, {}], match_num=100)\n",
    "ai_match(ai=[ai_abs_all, ai2s], params=[{\"use_tt\": True, \"share_tt\": False}, {}], match_num=100)"
   ]
  },
  {
   "cell_type": "code",
   "execution_count": 7,
   "metadata": {},
   "outputs": [],
   "source": [
    "@ai_by_score\n",
    "def ai2s(mb, debug=False):\n",
    "    return 0"
   ]
  },
  {
   "cell_type": "code",
   "execution_count": 8,
   "metadata": {},
   "outputs": [
    {
     "ename": "TypeError",
     "evalue": "ai2s() got an unexpected keyword argument 'tt'",
     "output_type": "error",
     "traceback": [
      "\u001b[1;31m---------------------------------------------------------------------------\u001b[0m",
      "\u001b[1;31mTypeError\u001b[0m                                 Traceback (most recent call last)",
      "Cell \u001b[1;32mIn[8], line 1\u001b[0m\n\u001b[1;32m----> 1\u001b[0m ai2s(mb)\n",
      "Cell \u001b[1;32mIn[1], line 29\u001b[0m, in \u001b[0;36mai_by_score.<locals>.wrapper\u001b[1;34m(mb_orig, debug, rand, share_tt, analyze, calc_score, *args, **kwargs)\u001b[0m\n\u001b[0;32m     27\u001b[0m mb\u001b[38;5;241m.\u001b[39mmove(x, y)\n\u001b[0;32m     28\u001b[0m dprint(debug, mb)\n\u001b[1;32m---> 29\u001b[0m score \u001b[38;5;241m=\u001b[39m eval_func(mb, debug, tt\u001b[38;5;241m=\u001b[39mtt, \u001b[38;5;241m*\u001b[39margs, \u001b[38;5;241m*\u001b[39m\u001b[38;5;241m*\u001b[39mkwargs)\n\u001b[0;32m     30\u001b[0m dprint(debug, \u001b[38;5;124m\"\u001b[39m\u001b[38;5;124mscore\u001b[39m\u001b[38;5;124m\"\u001b[39m, score, \u001b[38;5;124m\"\u001b[39m\u001b[38;5;124mbest score\u001b[39m\u001b[38;5;124m\"\u001b[39m, best_score)\n\u001b[0;32m     31\u001b[0m \u001b[38;5;28;01mif\u001b[39;00m analyze:\n",
      "\u001b[1;31mTypeError\u001b[0m: ai2s() got an unexpected keyword argument 'tt'"
     ]
    }
   ],
   "source": [
    "ai2s(mb)"
   ]
  },
  {
   "cell_type": "code",
   "execution_count": 9,
   "metadata": {},
   "outputs": [],
   "source": [
    "def ai_by_mmscore(eval_func):\n",
    "    @wraps(eval_func)\n",
    "    def wrapper(mb_orig, debug=False, *args, rand=True, share_tt=True,\n",
    "                analyze=False, calc_score=False, **kwargs):\n",
    "        if calc_score:\n",
    "            return eval_func(mb_orig, debug, *args, **kwargs)\n",
    "\n",
    "        dprint(debug, \"Start ai_by_mmscore\")\n",
    "        dprint(debug, mb_orig)\n",
    "        legal_moves = mb_orig.calc_legal_moves()\n",
    "        dprint(debug, \"legal_moves\", legal_moves)\n",
    "        maxnode = mb_orig.turn == Marubatsu.CIRCLE\n",
    "        best_score = float(\"-inf\") if maxnode else float(\"inf\")\n",
    "        best_moves = []\n",
    "        tt = {} if share_tt else None\n",
    "        if analyze:\n",
    "            score_by_move = {}\n",
    "        for move in legal_moves:\n",
    "            dprint(debug, \"=\" * 20)\n",
    "            dprint(debug, \"move\", move)\n",
    "            mb = deepcopy(mb_orig)\n",
    "            x, y = move\n",
    "            mb.move(x, y)\n",
    "            dprint(debug, mb)\n",
    "            score = eval_func(mb, debug, tt=tt, *args, **kwargs)\n",
    "            dprint(debug, \"score\", score, \"best score\", best_score)\n",
    "            if analyze:\n",
    "                score_by_move[move] = score\n",
    "            \n",
    "            if (maxnode and best_score < score) or (not maxnode and best_score > score):\n",
    "                best_score = score\n",
    "                best_moves = [move]\n",
    "                dprint(debug, \"UPDATE\")\n",
    "                dprint(debug, \"  best score\", best_score)\n",
    "                dprint(debug, \"  best moves\", best_moves)\n",
    "            elif best_score == score:\n",
    "                best_moves.append(move)\n",
    "                dprint(debug, \"APPEND\")\n",
    "                dprint(debug, \"  best moves\", best_moves)\n",
    "\n",
    "        dprint(debug, \"=\" * 20)\n",
    "        dprint(debug, \"Finished\")\n",
    "        dprint(debug, \"best score\", best_score)\n",
    "        dprint(debug, \"best moves\", best_moves)\n",
    "        if analyze:\n",
    "            return {\n",
    "                \"candidate\": best_moves,\n",
    "                \"score_by_move\": score_by_move,\n",
    "            }\n",
    "        elif rand:   \n",
    "            return choice(best_moves)\n",
    "        else:\n",
    "            return best_moves[0]\n",
    "        \n",
    "    return wrapper"
   ]
  },
  {
   "cell_type": "code",
   "execution_count": 10,
   "metadata": {},
   "outputs": [],
   "source": [
    "@ai_by_mmscore\n",
    "def ai_abs_all(mb, debug, shortest_victory=False, init_ab=False,\n",
    "               use_tt=False, tt=None, ai_for_mo=None, params={},\n",
    "               sort_allnodes=False, calc_count=False):           \n",
    "    count = 0\n",
    "    def ab_search(mborig, tt, alpha=float(\"-inf\"), beta=float(\"inf\")):\n",
    "        nonlocal count\n",
    "        count += 1\n",
    "        if mborig.status == Marubatsu.CIRCLE:\n",
    "            return (11 - mborig.move_count) / 2 if shortest_victory else 1\n",
    "        elif mborig.status == Marubatsu.CROSS:\n",
    "            return (mborig.move_count - 10) / 2 if shortest_victory else -1\n",
    "        elif mborig.status == Marubatsu.DRAW:\n",
    "            return 0\n",
    "        \n",
    "        if use_tt:\n",
    "            boardtxt = mborig.board_to_str()\n",
    "            if boardtxt in tt:\n",
    "                lower_bound, upper_bound = tt[boardtxt]\n",
    "                if lower_bound == upper_bound:\n",
    "                    return lower_bound\n",
    "                elif upper_bound <= alpha:\n",
    "                    return upper_bound\n",
    "                elif beta <= lower_bound:\n",
    "                    return lower_bound\n",
    "                else:\n",
    "                    alpha = max(alpha, lower_bound)\n",
    "                    beta = min(beta, upper_bound)\n",
    "            else:\n",
    "                lower_bound = min_score\n",
    "                upper_bound = max_score\n",
    "        \n",
    "        alphaorig = alpha\n",
    "        betaorig = beta\n",
    "\n",
    "        legal_moves = mborig.calc_legal_moves()\n",
    "        if ai_for_mo is not None:\n",
    "            if sort_allnodes:\n",
    "                score_by_move = ai_for_mo(mborig, analyze=True, **params)[\"score_by_move\"]\n",
    "                score_by_move_list = sorted(score_by_move.items(), key=lambda x:x[1], reverse=True)\n",
    "                legal_moves = [x[0] for x in score_by_move_list]\n",
    "            else:\n",
    "                legal_moves = mborig.calc_legal_moves()\n",
    "                bestmove = ai_for_mo(mborig, rand=False, **params)\n",
    "                index = legal_moves.index(bestmove)\n",
    "                legal_moves[0], legal_moves[index] = legal_moves[index], legal_moves[0]\n",
    "        if mborig.turn == Marubatsu.CIRCLE:\n",
    "            score = float(\"-inf\")\n",
    "            for x, y in legal_moves:\n",
    "                mb = deepcopy(mborig)\n",
    "                mb.move(x, y)\n",
    "                score = max(score, ab_search(mb, tt, alpha, beta))\n",
    "                if score >= beta:\n",
    "                    break\n",
    "                alpha = max(alpha, score)\n",
    "        else:\n",
    "            score = float(\"inf\")\n",
    "            for x, y in legal_moves:\n",
    "                mb = deepcopy(mborig)\n",
    "                mb.move(x, y)\n",
    "                score = min(score, ab_search(mb, tt, alpha, beta))\n",
    "                if score <= alpha:\n",
    "                    break\n",
    "                beta = min(beta, score)   \n",
    "            \n",
    "        from util import calc_same_boardtexts\n",
    "\n",
    "        if use_tt:\n",
    "            boardtxtlist = calc_same_boardtexts(mborig)\n",
    "            if score <= alphaorig:\n",
    "                upper_bound = score\n",
    "            elif score < betaorig:\n",
    "                lower_bound = score\n",
    "                upper_bound = score\n",
    "            else:\n",
    "                lower_bound = score\n",
    "            for boardtxt in boardtxtlist:\n",
    "                tt[boardtxt] = (lower_bound, upper_bound)\n",
    "        return score\n",
    "                \n",
    "    min_score = -2 if shortest_victory else -1\n",
    "    max_score = 3 if shortest_victory else 1\n",
    "    alpha = min_score if init_ab else float(\"-inf\")\n",
    "    beta = max_score if init_ab else float(\"inf\")\n",
    "\n",
    "    if tt is None:\n",
    "        tt = {}\n",
    "    score = ab_search(mb, tt=tt, alpha=alpha, beta=beta)\n",
    "    dprint(debug, \"count =\", count)\n",
    "    if calc_count:\n",
    "        return count\n",
    "    return score"
   ]
  },
  {
   "cell_type": "code",
   "execution_count": 11,
   "metadata": {},
   "outputs": [
    {
     "name": "stderr",
     "output_type": "stream",
     "text": [
      "100%|██████████| 431/431 [00:03<00:00, 115.10it/s]\n"
     ]
    },
    {
     "name": "stdout",
     "output_type": "stream",
     "text": [
      "431/431 100.00%\n"
     ]
    },
    {
     "name": "stderr",
     "output_type": "stream",
     "text": [
      "100%|██████████| 431/431 [00:02<00:00, 207.38it/s]\n"
     ]
    },
    {
     "name": "stdout",
     "output_type": "stream",
     "text": [
      "431/431 100.00%\n"
     ]
    },
    {
     "name": "stderr",
     "output_type": "stream",
     "text": [
      "100%|██████████| 431/431 [00:03<00:00, 131.60it/s]"
     ]
    },
    {
     "name": "stdout",
     "output_type": "stream",
     "text": [
      "431/431 100.00%\n"
     ]
    },
    {
     "name": "stderr",
     "output_type": "stream",
     "text": [
      "\n"
     ]
    },
    {
     "data": {
      "text/plain": [
       "(True, [])"
      ]
     },
     "execution_count": 11,
     "metadata": {},
     "output_type": "execute_result"
    }
   ],
   "source": [
    "Check_solved.is_strongly_solved(ai_abs_all)\n",
    "Check_solved.is_strongly_solved(ai_abs_all, params={\"use_tt\":True})\n",
    "Check_solved.is_strongly_solved(ai_abs_all, params={\"use_tt\":True, \"share_tt\": False})"
   ]
  },
  {
   "cell_type": "code",
   "execution_count": 12,
   "metadata": {},
   "outputs": [],
   "source": [
    "@ai_by_mmscore\n",
    "def ai_mmdfs_all(mb, debug=False, use_tt=False, tt=None, shortest_victory=False):\n",
    "    count = 0\n",
    "    def mm_search(mborig, tt):\n",
    "        nonlocal count\n",
    "        count += 1\n",
    "\n",
    "        if mborig.status == Marubatsu.CIRCLE:\n",
    "            return (11 - mborig.move_count) / 2 if shortest_victory else 1\n",
    "        elif mborig.status == Marubatsu.CROSS:\n",
    "            return (mborig.move_count - 10) / 2 if shortest_victory else -1\n",
    "        elif mborig.status == Marubatsu.DRAW:\n",
    "            return 0\n",
    "        \n",
    "        boardtxt = mborig.board_to_str()\n",
    "        if use_tt and boardtxt in tt:\n",
    "            return tt[boardtxt]\n",
    "        \n",
    "        legal_moves = mborig.calc_legal_moves()\n",
    "        score_list = []\n",
    "        for x, y in legal_moves:\n",
    "            mb = deepcopy(mborig)\n",
    "            mb.move(x, y)\n",
    "            score_list.append(mm_search(mb, tt))\n",
    "        if mborig.turn == Marubatsu.CIRCLE:\n",
    "            score = max(score_list)\n",
    "        else:\n",
    "            score = min(score_list)\n",
    "            \n",
    "        if use_tt:\n",
    "            from util import calc_same_boardtexts\n",
    "\n",
    "            boardtxtlist = calc_same_boardtexts(mborig)\n",
    "            for boardtxt in boardtxtlist:\n",
    "                tt[boardtxt] = score\n",
    "        return score\n",
    "    \n",
    "    if tt is None:\n",
    "        tt = {}\n",
    "    score = mm_search(mb, tt)\n",
    "    dprint(debug, \"count =\", count)\n",
    "    return score"
   ]
  },
  {
   "cell_type": "code",
   "execution_count": 13,
   "metadata": {},
   "outputs": [
    {
     "name": "stderr",
     "output_type": "stream",
     "text": [
      "100%|██████████| 431/431 [00:15<00:00, 28.04it/s] \n"
     ]
    },
    {
     "name": "stdout",
     "output_type": "stream",
     "text": [
      "431/431 100.00%\n"
     ]
    },
    {
     "name": "stderr",
     "output_type": "stream",
     "text": [
      "100%|██████████| 431/431 [00:02<00:00, 171.20it/s]\n"
     ]
    },
    {
     "name": "stdout",
     "output_type": "stream",
     "text": [
      "431/431 100.00%\n"
     ]
    },
    {
     "name": "stderr",
     "output_type": "stream",
     "text": [
      "100%|██████████| 431/431 [00:05<00:00, 78.79it/s] "
     ]
    },
    {
     "name": "stdout",
     "output_type": "stream",
     "text": [
      "431/431 100.00%\n"
     ]
    },
    {
     "name": "stderr",
     "output_type": "stream",
     "text": [
      "\n"
     ]
    },
    {
     "data": {
      "text/plain": [
       "(True, [])"
      ]
     },
     "execution_count": 13,
     "metadata": {},
     "output_type": "execute_result"
    }
   ],
   "source": [
    "Check_solved.is_strongly_solved(ai_mmdfs_all)\n",
    "Check_solved.is_strongly_solved(ai_mmdfs_all, params={\"use_tt\":True})\n",
    "Check_solved.is_strongly_solved(ai_mmdfs_all, params={\"use_tt\":True, \"share_tt\": False})"
   ]
  },
  {
   "cell_type": "code",
   "execution_count": 14,
   "metadata": {},
   "outputs": [],
   "source": [
    "@ai_by_mmscore\n",
    "def ai_scout(mb, debug=False, shortest_victory=False,\n",
    "             init_ab=False, use_tt=False, tt=None, ai_for_mo=None,\n",
    "             params={}, sort_allnodes=False, calc_count=False):        \n",
    "    count = 0\n",
    "    def ab_search(mborig, tt, alpha=float(\"-inf\"), beta=float(\"inf\")):\n",
    "        nonlocal count\n",
    "        count += 1\n",
    "        if mborig.status == Marubatsu.CIRCLE:\n",
    "            return (11 - mborig.move_count) / 2 if shortest_victory else 1\n",
    "        elif mborig.status == Marubatsu.CROSS:\n",
    "            return (mborig.move_count - 10) / 2 if shortest_victory else -1\n",
    "        elif mborig.status == Marubatsu.DRAW:\n",
    "            return 0\n",
    "        \n",
    "        if use_tt:\n",
    "            boardtxt = mborig.board_to_str()\n",
    "            if boardtxt in tt:\n",
    "                lower_bound, upper_bound = tt[boardtxt]\n",
    "                if lower_bound == upper_bound:\n",
    "                    return lower_bound\n",
    "                elif upper_bound <= alpha:\n",
    "                    return upper_bound\n",
    "                elif beta <= lower_bound:\n",
    "                    return lower_bound\n",
    "                else:\n",
    "                    alpha = max(alpha, lower_bound)\n",
    "                    beta = min(beta, upper_bound)\n",
    "            else:\n",
    "                lower_bound = min_score\n",
    "                upper_bound = max_score\n",
    "        \n",
    "        alphaorig = alpha\n",
    "        betaorig = beta\n",
    "\n",
    "        legal_moves = mborig.calc_legal_moves()\n",
    "        if ai_for_mo is not None:\n",
    "            if sort_allnodes:\n",
    "                score_by_move = ai_for_mo(mborig, analyze=True, **params)[\"score_by_move\"]\n",
    "                score_by_move_list = sorted(score_by_move.items(), key=lambda x:x[1], reverse=True)\n",
    "                legal_moves = [x[0] for x in score_by_move_list]\n",
    "            else:\n",
    "                legal_moves = mborig.calc_legal_moves()\n",
    "                bestmove = ai_for_mo(mborig, rand=False, **params)\n",
    "                index = legal_moves.index(bestmove)\n",
    "                legal_moves[0], legal_moves[index] = legal_moves[index], legal_moves[0]\n",
    "\n",
    "        if mborig.turn == Marubatsu.CIRCLE:\n",
    "            x, y = legal_moves[0]\n",
    "            mb = deepcopy(mborig)\n",
    "            mb.move(x, y)\n",
    "            score = ab_search(mb, tt, alpha, beta)\n",
    "            alpha = max(alpha, score)\n",
    "            if score < beta:\n",
    "                for x, y in legal_moves[1:]:\n",
    "                    mb = deepcopy(mborig)\n",
    "                    mb.move(x, y)\n",
    "                    score = max(score, ab_search(mb, tt, alpha, alpha + 1))\n",
    "                    if score >= beta:\n",
    "                        break\n",
    "                    elif score > alpha:\n",
    "                        score = max(score, ab_search(mb, tt, alpha, beta))\n",
    "                        if score >= beta:\n",
    "                            break\n",
    "                        alpha = max(alpha, score)\n",
    "        else:\n",
    "            x, y = legal_moves[0]\n",
    "            mb = deepcopy(mborig)\n",
    "            mb.move(x, y)\n",
    "            score = ab_search(mb, tt, alpha, beta)\n",
    "            beta = min(beta, score)\n",
    "            if score > alpha:\n",
    "                for x, y in legal_moves[1:]:\n",
    "                    mb = deepcopy(mborig)\n",
    "                    mb.move(x, y)\n",
    "                    score = min(score, ab_search(mb, tt, beta - 1, beta))\n",
    "                    if score <= alpha:\n",
    "                        break\n",
    "                    elif score < beta:\n",
    "                        score = min(score, ab_search(mb, tt, alpha, beta))\n",
    "                        if score <= alpha:\n",
    "                            break\n",
    "                        beta = min(beta, score)   \n",
    "            \n",
    "        if use_tt:\n",
    "            from util import calc_same_boardtexts\n",
    "\n",
    "            boardtxtlist = calc_same_boardtexts(mborig)\n",
    "            if score <= alphaorig:\n",
    "                upper_bound = score\n",
    "            elif score < betaorig:\n",
    "                lower_bound = score\n",
    "                upper_bound = score\n",
    "            else:\n",
    "                lower_bound = score\n",
    "            for boardtxt in boardtxtlist:\n",
    "                tt[boardtxt] = (lower_bound, upper_bound)\n",
    "        return score\n",
    "                \n",
    "    min_score = -2 if shortest_victory else -1\n",
    "    max_score = 3 if shortest_victory else 1\n",
    "    alpha = min_score if init_ab else float(\"-inf\")\n",
    "    beta = max_score if init_ab else float(\"inf\")\n",
    "\n",
    "    if tt is None:\n",
    "        tt = {}\n",
    "    score = ab_search(mb, tt=tt, alpha=alpha, beta=beta)\n",
    "    dprint(debug, \"count =\", count)\n",
    "    if calc_count:\n",
    "        return count\n",
    "    return score"
   ]
  },
  {
   "cell_type": "code",
   "execution_count": 15,
   "metadata": {},
   "outputs": [],
   "source": [
    "@ai_by_mmscore\n",
    "def ai_mtdf(mb, debug=False, shortest_victory=False,\n",
    "             init_ab=False, use_tt=False, tt=None, f=0, ai_for_mo=None,\n",
    "             params={}, sort_allnodes=False, calc_count=False):           \n",
    "    count = 0\n",
    "    def ab_search(mborig, tt, alpha=float(\"-inf\"), beta=float(\"inf\")):\n",
    "        nonlocal count\n",
    "        count += 1\n",
    "        if mborig.status == Marubatsu.CIRCLE:\n",
    "            return (11 - mborig.move_count) / 2 if shortest_victory else 1\n",
    "        elif mborig.status == Marubatsu.CROSS:\n",
    "            return (mborig.move_count - 10) / 2 if shortest_victory else -1\n",
    "        elif mborig.status == Marubatsu.DRAW:\n",
    "            return 0\n",
    "        \n",
    "        if use_tt:\n",
    "            boardtxt = mborig.board_to_str()\n",
    "            if boardtxt in tt:\n",
    "                lower_bound, upper_bound = tt[boardtxt]\n",
    "                if lower_bound == upper_bound:\n",
    "                    return lower_bound\n",
    "                elif upper_bound <= alpha:\n",
    "                    return upper_bound\n",
    "                elif beta <= lower_bound:\n",
    "                    return lower_bound\n",
    "                else:\n",
    "                    alpha = max(alpha, lower_bound)\n",
    "                    beta = min(beta, upper_bound)\n",
    "            else:\n",
    "                lower_bound = min_score\n",
    "                upper_bound = max_score\n",
    "        \n",
    "        alphaorig = alpha\n",
    "        betaorig = beta\n",
    "\n",
    "        legal_moves = mborig.calc_legal_moves()\n",
    "        if ai_for_mo is not None:\n",
    "            if sort_allnodes:\n",
    "                score_by_move = ai_for_mo(mborig, analyze=True, **params)[\"score_by_move\"]\n",
    "                score_by_move_list = sorted(score_by_move.items(), key=lambda x:x[1], reverse=True)\n",
    "                legal_moves = [x[0] for x in score_by_move_list]\n",
    "            else:\n",
    "                legal_moves = mborig.calc_legal_moves()\n",
    "                bestmove = ai_for_mo(mborig, rand=False, **params)\n",
    "                index = legal_moves.index(bestmove)\n",
    "                legal_moves[0], legal_moves[index] = legal_moves[index], legal_moves[0]\n",
    "        if mborig.turn == Marubatsu.CIRCLE:\n",
    "            score = float(\"-inf\")\n",
    "            for x, y in legal_moves:\n",
    "                mb = deepcopy(mborig)\n",
    "                mb.move(x, y)\n",
    "                score = max(score, ab_search(mb, tt, alpha, beta))\n",
    "                if score >= beta:\n",
    "                    break\n",
    "                alpha = max(alpha, score)\n",
    "        else:\n",
    "            score = float(\"inf\")\n",
    "            for x, y in legal_moves:\n",
    "                mb = deepcopy(mborig)\n",
    "                mb.move(x, y)\n",
    "                score = min(score, ab_search(mb, tt, alpha, beta))\n",
    "                if score <= alpha:\n",
    "                    break\n",
    "                beta = min(beta, score)   \n",
    "            \n",
    "        from util import calc_same_boardtexts\n",
    "\n",
    "        if use_tt:\n",
    "            boardtxtlist = calc_same_boardtexts(mborig)\n",
    "            if score <= alphaorig:\n",
    "                upper_bound = score\n",
    "            elif score < betaorig:\n",
    "                lower_bound = score\n",
    "                upper_bound = score\n",
    "            else:\n",
    "                lower_bound = score\n",
    "            for boardtxt in boardtxtlist:\n",
    "                tt[boardtxt] = (lower_bound, upper_bound)\n",
    "        return score\n",
    "                \n",
    "    min_score = -2 if shortest_victory else -1\n",
    "    max_score = 3 if shortest_victory else 1\n",
    "    lbound = min_score if init_ab else float(\"-inf\")\n",
    "    ubound = max_score if init_ab else float(\"inf\")\n",
    "\n",
    "    if tt is None:\n",
    "        tt = {}\n",
    "    dprint(debug, \"      count | ウィンドウ | αβ 値 |      type |    MM の範囲\")\n",
    "    while lbound != ubound:\n",
    "        beta = f + 1 if lbound == f else f\n",
    "        prevcount = count\n",
    "        f = ab_search(mb, tt, alpha=beta - 1, beta=beta)\n",
    "        if f >= beta:\n",
    "            lbound = f\n",
    "            type = \"fail high\"\n",
    "        else:\n",
    "            ubound = f\n",
    "            type = \"fail low \"\n",
    "        dprint(debug, f\"{count - prevcount:5.0f}/{count:5.0f} |  ({beta - 1:2.0f}, {beta:2.0f}) |    {f:2.0f} | {type} | [{lbound:4.0f}, {ubound:4.0f}]\")\n",
    " \n",
    "    score = f\n",
    "            \n",
    "    if calc_count:\n",
    "        return count\n",
    "    return score\n"
   ]
  },
  {
   "cell_type": "code",
   "execution_count": 16,
   "metadata": {},
   "outputs": [
    {
     "name": "stderr",
     "output_type": "stream",
     "text": [
      "100%|██████████| 431/431 [00:05<00:00, 81.57it/s] \n"
     ]
    },
    {
     "name": "stdout",
     "output_type": "stream",
     "text": [
      "431/431 100.00%\n"
     ]
    },
    {
     "name": "stderr",
     "output_type": "stream",
     "text": [
      "100%|██████████| 431/431 [00:03<00:00, 112.05it/s]\n"
     ]
    },
    {
     "name": "stdout",
     "output_type": "stream",
     "text": [
      "431/431 100.00%\n"
     ]
    },
    {
     "name": "stderr",
     "output_type": "stream",
     "text": [
      "100%|██████████| 431/431 [00:05<00:00, 85.48it/s] \n"
     ]
    },
    {
     "name": "stdout",
     "output_type": "stream",
     "text": [
      "431/431 100.00%\n"
     ]
    },
    {
     "name": "stderr",
     "output_type": "stream",
     "text": [
      "100%|██████████| 431/431 [00:04<00:00, 93.00it/s] \n"
     ]
    },
    {
     "name": "stdout",
     "output_type": "stream",
     "text": [
      "431/431 100.00%\n"
     ]
    },
    {
     "name": "stderr",
     "output_type": "stream",
     "text": [
      "100%|██████████| 431/431 [00:01<00:00, 249.91it/s]\n"
     ]
    },
    {
     "name": "stdout",
     "output_type": "stream",
     "text": [
      "431/431 100.00%\n"
     ]
    },
    {
     "name": "stderr",
     "output_type": "stream",
     "text": [
      "100%|██████████| 431/431 [00:02<00:00, 182.14it/s]"
     ]
    },
    {
     "name": "stdout",
     "output_type": "stream",
     "text": [
      "431/431 100.00%\n"
     ]
    },
    {
     "name": "stderr",
     "output_type": "stream",
     "text": [
      "\n"
     ]
    },
    {
     "data": {
      "text/plain": [
       "(True, [])"
      ]
     },
     "execution_count": 16,
     "metadata": {},
     "output_type": "execute_result"
    }
   ],
   "source": [
    "from ai import ai14s\n",
    "\n",
    "Check_solved.is_strongly_solved(ai_scout, params={\"ai_for_mo\": ai14s})\n",
    "Check_solved.is_strongly_solved(ai_scout, params={\"ai_for_mo\": ai14s, \"use_tt\":True})\n",
    "Check_solved.is_strongly_solved(ai_scout, params={\"ai_for_mo\": ai14s, \"use_tt\":True, \"share_tt\": False})\n",
    "Check_solved.is_strongly_solved(ai_mtdf, params={\"f\": 0})\n",
    "Check_solved.is_strongly_solved(ai_mtdf, params={\"f\": 0, \"use_tt\":True})\n",
    "Check_solved.is_strongly_solved(ai_mtdf, params={\"f\": 0, \"use_tt\":True, \"share_tt\": False})"
   ]
  },
  {
   "cell_type": "code",
   "execution_count": 17,
   "metadata": {},
   "outputs": [],
   "source": [
    "def ai_by_score(eval_func):\n",
    "    @wraps(eval_func)\n",
    "    def wrapper(mb_orig, debug=False, *args, rand=True,\n",
    "                analyze=False, calc_score=False, minimax=False, **kwargs):\n",
    "        if calc_score:\n",
    "            score = eval_func(mb_orig, debug, *args, **kwargs)\n",
    "            if minimax and mb_orig.turn == Marubatsu.CIRCLE:\n",
    "                score *= -1\n",
    "            return score\n",
    "\n",
    "        dprint(debug, \"Start ai_by_score\")\n",
    "        dprint(debug, mb_orig)\n",
    "        legal_moves = mb_orig.calc_legal_moves()\n",
    "        dprint(debug, \"legal_moves\", legal_moves)\n",
    "        best_score = float(\"-inf\")\n",
    "        best_moves = []\n",
    "        if analyze:\n",
    "            score_by_move = {}\n",
    "        for move in legal_moves:\n",
    "            dprint(debug, \"=\" * 20)\n",
    "            dprint(debug, \"move\", move)\n",
    "            mb = deepcopy(mb_orig)\n",
    "            x, y = move\n",
    "            mb.move(x, y)\n",
    "            dprint(debug, mb)\n",
    "            score = eval_func(mb, debug, *args, **kwargs)\n",
    "            dprint(debug, \"score\", score, \"best score\", best_score)\n",
    "            if analyze:\n",
    "                score_by_move[move] = score\n",
    "            \n",
    "            if best_score < score:\n",
    "                best_score = score\n",
    "                best_moves = [move]\n",
    "                dprint(debug, \"UPDATE\")\n",
    "                dprint(debug, \"  best score\", best_score)\n",
    "                dprint(debug, \"  best moves\", best_moves)\n",
    "            elif best_score == score:\n",
    "                best_moves.append(move)\n",
    "                dprint(debug, \"APPEND\")\n",
    "                dprint(debug, \"  best moves\", best_moves)\n",
    "\n",
    "        dprint(debug, \"=\" * 20)\n",
    "        dprint(debug, \"Finished\")\n",
    "        dprint(debug, \"best score\", best_score)\n",
    "        dprint(debug, \"best moves\", best_moves)\n",
    "        if analyze:\n",
    "            return {\n",
    "                \"candidate\": best_moves,\n",
    "                \"score_by_move\": score_by_move,\n",
    "            }\n",
    "        elif rand:   \n",
    "            return choice(best_moves)\n",
    "        else:\n",
    "            return best_moves[0]\n",
    "        \n",
    "    return wrapper"
   ]
  },
  {
   "cell_type": "code",
   "execution_count": 18,
   "metadata": {},
   "outputs": [],
   "source": [
    "from pprint import pprint\n",
    "from ai import Markpat\n",
    "\n",
    "@ai_by_score\n",
    "def ai14s(mb, debug=False, score_victory=300, score_sure_victory=200,\n",
    "          score_defeat=-100, score_special=100, score_201=2,\n",
    "          score_102=0.5, score_012=-1):\n",
    "    # 評価値の合計を計算する変数を 0 で初期化する\n",
    "    score = 0        \n",
    "\n",
    "    # 自分が勝利している場合\n",
    "    if mb.status == mb.last_turn:\n",
    "        return score_victory\n",
    "\n",
    "    markpats = mb.count_markpats()\n",
    "    if debug:\n",
    "        pprint(markpats)\n",
    "    # 相手が勝利できる場合は評価値を加算する\n",
    "    if markpats[Markpat(last_turn=0, turn=2, empty=1)] > 0:\n",
    "        score = score_defeat * markpats[Markpat(last_turn=0, turn=2, empty=1)]\n",
    "    # 次の自分の手番で自分が必ず勝利できる場合\n",
    "    elif markpats[Markpat(last_turn=2, turn=0, empty=1)] >= 2:\n",
    "        return score_sure_victory\n",
    "    \n",
    "    # 斜め方向に 〇×〇 が並び、いずれかの辺の 1 つのマスのみに × が配置されている場合\n",
    "    if mb.board[1][1] == Marubatsu.CROSS and \\\n",
    "        (mb.board[0][0] == mb.board[2][2] == Marubatsu.CIRCLE or \\\n",
    "        mb.board[2][0] == mb.board[0][2] == Marubatsu.CIRCLE) and \\\n",
    "        (mb.board[1][0] == Marubatsu.CROSS or \\\n",
    "        mb.board[0][1] == Marubatsu.CROSS or \\\n",
    "        mb.board[2][1] == Marubatsu.CROSS or \\\n",
    "        mb.board[1][2] == Marubatsu.CROSS) and \\\n",
    "        mb.move_count == 4:\n",
    "        return score_special    \n",
    "\n",
    "    # 次の自分の手番で自分が勝利できる場合は評価値に score_201 を加算する\n",
    "    if markpats[Markpat(last_turn=2, turn=0, empty=1)] == 1:\n",
    "        score += score_201\n",
    "    # 「自 1 敵 0 空 2」1 つあたり score_102 だけ、評価値を加算する\n",
    "    score += markpats[Markpat(last_turn=1, turn=0, empty=2)] * score_102\n",
    "    # 「自 0 敵 1 空 2」1 つあたり score_201 だけ、評価値を減算する\n",
    "    score += markpats[Markpat(last_turn=0, turn=1, empty=2)] * score_012\n",
    "    \n",
    "    # 計算した評価値を返す\n",
    "    return score"
   ]
  },
  {
   "cell_type": "code",
   "execution_count": 19,
   "metadata": {},
   "outputs": [
    {
     "name": "stdout",
     "output_type": "stream",
     "text": [
      "0.0\n",
      "-0.0\n"
     ]
    }
   ],
   "source": [
    "print(ai14s(mb, calc_score=True))\n",
    "print(ai14s(mb, calc_score=True, minimax=True))"
   ]
  },
  {
   "cell_type": "code",
   "execution_count": 20,
   "metadata": {},
   "outputs": [
    {
     "name": "stdout",
     "output_type": "stream",
     "text": [
      "2.0\n",
      "2.0\n"
     ]
    }
   ],
   "source": [
    "mb.move(1, 1)\n",
    "print(ai14s(mb, calc_score=True))\n",
    "print(ai14s(mb, calc_score=True, minimax=True))"
   ]
  },
  {
   "cell_type": "code",
   "execution_count": 21,
   "metadata": {},
   "outputs": [
    {
     "name": "stdout",
     "output_type": "stream",
     "text": [
      "-2.0\n",
      "2.0\n"
     ]
    }
   ],
   "source": [
    "mb.move(0, 0)\n",
    "print(ai14s(mb, calc_score=True))\n",
    "print(ai14s(mb, calc_score=True, minimax=True))"
   ]
  },
  {
   "cell_type": "code",
   "execution_count": 22,
   "metadata": {},
   "outputs": [],
   "source": [
    "@ai_by_mmscore\n",
    "def ai_abs_dls(mb, debug=False, maxdepth=1, eval_func=None, eval_params={},\n",
    "               use_tt=False, tt=None, calc_count=False):           \n",
    "    count = 0\n",
    "    def ab_search(mborig, depth, tt, alpha=float(\"-inf\"), beta=float(\"inf\")):\n",
    "        nonlocal count\n",
    "        count += 1\n",
    "        if mborig.status != Marubatsu.PLAYING or depth == maxdepth:\n",
    "            return eval_func(mborig, calc_score=True, **eval_params)\n",
    "        \n",
    "        if use_tt:\n",
    "            boardtxt = mborig.board_to_str()\n",
    "            if boardtxt in tt:\n",
    "                lower_bound, upper_bound = tt[boardtxt]\n",
    "                if lower_bound == upper_bound:\n",
    "                    return lower_bound\n",
    "                elif upper_bound <= alpha:\n",
    "                    return upper_bound\n",
    "                elif beta <= lower_bound:\n",
    "                    return lower_bound\n",
    "                else:\n",
    "                    alpha = max(alpha, lower_bound)\n",
    "                    beta = min(beta, upper_bound)\n",
    "            else:\n",
    "                lower_bound = min_score\n",
    "                upper_bound = max_score\n",
    "        \n",
    "        alphaorig = alpha\n",
    "        betaorig = beta\n",
    "\n",
    "        legal_moves = mborig.calc_legal_moves()\n",
    "        if mborig.turn == Marubatsu.CIRCLE:\n",
    "            score = float(\"-inf\")\n",
    "            for x, y in legal_moves:\n",
    "                mb = deepcopy(mborig)\n",
    "                mb.move(x, y)\n",
    "                score = max(score, ab_search(mb, depth + 1, tt, alpha, beta))\n",
    "                if score >= beta:\n",
    "                    break\n",
    "                alpha = max(alpha, score)\n",
    "        else:\n",
    "            score = float(\"inf\")\n",
    "            for x, y in legal_moves:\n",
    "                mb = deepcopy(mborig)\n",
    "                mb.move(x, y)\n",
    "                score = min(score, ab_search(mb, depth + 1, tt, alpha, beta))\n",
    "                if score <= alpha:\n",
    "                    break\n",
    "                beta = min(beta, score)   \n",
    "            \n",
    "        from util import calc_same_boardtexts\n",
    "\n",
    "        if use_tt:\n",
    "            boardtxtlist = calc_same_boardtexts(mborig)\n",
    "            if score <= alphaorig:\n",
    "                upper_bound = score\n",
    "            elif score < betaorig:\n",
    "                lower_bound = score\n",
    "                upper_bound = score\n",
    "            else:\n",
    "                lower_bound = score\n",
    "            for boardtxt in boardtxtlist:\n",
    "                tt[boardtxt] = (lower_bound, upper_bound)\n",
    "        return score\n",
    "                \n",
    "    min_score = float(\"-inf\")\n",
    "    max_score = float(\"inf\")\n",
    "\n",
    "    if tt is None:\n",
    "        tt = {}\n",
    "    score = ab_search(mb, depth=0, tt=tt, alpha=min_score, beta=max_score)\n",
    "    dprint(debug, \"count =\", count)\n",
    "    if calc_count:\n",
    "        return count\n",
    "    return score"
   ]
  },
  {
   "cell_type": "code",
   "execution_count": 23,
   "metadata": {},
   "outputs": [
    {
     "name": "stdout",
     "output_type": "stream",
     "text": [
      "0 (1, 1)\n",
      "1 (1, 1)\n",
      "2 (1, 1)\n",
      "3 (1, 1)\n",
      "4 (1, 1)\n",
      "5 (1, 1)\n",
      "6 (1, 1)\n",
      "7 (0, 2)\n",
      "8 (0, 2)\n"
     ]
    }
   ],
   "source": [
    "mb.restart()\n",
    "for maxdepth in range(9):\n",
    "    print(maxdepth, ai_abs_dls(mb, maxdepth=maxdepth, eval_func=ai14s,\n",
    "          eval_params={\"minimax\": True}))"
   ]
  },
  {
   "cell_type": "code",
   "execution_count": 24,
   "metadata": {},
   "outputs": [
    {
     "name": "stdout",
     "output_type": "stream",
     "text": [
      "7 (2, 2)\n",
      "7 (0, 1)\n",
      "7 (0, 1)\n",
      "7 (0, 2)\n",
      "7 (1, 0)\n",
      "7 (1, 0)\n",
      "7 (2, 0)\n",
      "7 (0, 0)\n",
      "7 (2, 1)\n",
      "7 (2, 0)\n",
      "8 (0, 2)\n",
      "8 (1, 2)\n",
      "8 (2, 1)\n",
      "8 (1, 0)\n",
      "8 (2, 1)\n",
      "8 (2, 2)\n",
      "8 (0, 0)\n",
      "8 (1, 1)\n",
      "8 (1, 2)\n",
      "8 (1, 0)\n"
     ]
    }
   ],
   "source": [
    "for maxdepth in range(7, 9):\n",
    "    for _ in range(10):\n",
    "        print(maxdepth, ai_abs_dls(mb, maxdepth=maxdepth, eval_func=ai14s, eval_params={\"minimax\": True}))\n"
   ]
  }
 ],
 "metadata": {
  "kernelspec": {
   "display_name": "marubatsu",
   "language": "python",
   "name": "python3"
  },
  "language_info": {
   "codemirror_mode": {
    "name": "ipython",
    "version": 3
   },
   "file_extension": ".py",
   "mimetype": "text/x-python",
   "name": "python",
   "nbconvert_exporter": "python",
   "pygments_lexer": "ipython3",
   "version": "3.11.4"
  }
 },
 "nbformat": 4,
 "nbformat_minor": 2
}
