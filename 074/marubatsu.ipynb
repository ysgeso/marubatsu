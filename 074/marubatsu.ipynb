{
 "cells": [
  {
   "cell_type": "code",
   "execution_count": 1,
   "metadata": {},
   "outputs": [
    {
     "data": {
      "application/vnd.jupyter.widget-view+json": {
       "model_id": "401d80ed0f404ed787256c81054d418f",
       "version_major": 2,
       "version_minor": 0
      },
      "text/plain": [
       "Dropdown(description='Number:', index=1, options=('1', '2', '3'), value='2')"
      ]
     },
     "metadata": {},
     "output_type": "display_data"
    }
   ],
   "source": [
    "import ipywidgets as widgets\n",
    "\n",
    "dropdown = widgets.Dropdown(\n",
    "    options=['1', '2', '3'],\n",
    "    value='2',\n",
    "    description='Number:',\n",
    ")\n",
    "display(dropdown)"
   ]
  },
  {
   "cell_type": "code",
   "execution_count": 2,
   "metadata": {},
   "outputs": [
    {
     "data": {
      "application/vnd.jupyter.widget-view+json": {
       "model_id": "44090d7a30f54ccfa6fad048e7a43c14",
       "version_major": 2,
       "version_minor": 0
      },
      "text/plain": [
       "Dropdown(description='Number:', index=1, options=('1', '2', '3'), value='2')"
      ]
     },
     "metadata": {},
     "output_type": "display_data"
    }
   ],
   "source": [
    "dropdown2 = widgets.Dropdown()\n",
    "dropdown2.options = ['1', '2', '3']\n",
    "dropdown2.value = '2'\n",
    "dropdown2.description = 'Number:'\n",
    "display(dropdown2)"
   ]
  },
  {
   "cell_type": "code",
   "execution_count": 3,
   "metadata": {},
   "outputs": [],
   "source": [
    "dropdown2.description = '数字:'"
   ]
  },
  {
   "cell_type": "code",
   "execution_count": 4,
   "metadata": {},
   "outputs": [
    {
     "data": {
      "application/vnd.jupyter.widget-view+json": {
       "model_id": "c4b2d0c569464398abff2efb102fda61",
       "version_major": 2,
       "version_minor": 0
      },
      "text/plain": [
       "Dropdown(description='年:', options=(('令和元年', 2019), ('令和二年', 2020), ('令和三年', 2021)), value=2019)"
      ]
     },
     "metadata": {},
     "output_type": "display_data"
    }
   ],
   "source": [
    "dropdown3 = widgets.Dropdown(\n",
    "    options=[(\"令和元年\", 2019), (\"令和二年\", 2020), (\"令和三年\", 2021)],\n",
    "    description=\"年:\", \n",
    ")\n",
    "display(dropdown3)"
   ]
  },
  {
   "cell_type": "code",
   "execution_count": 5,
   "metadata": {},
   "outputs": [
    {
     "name": "stdout",
     "output_type": "stream",
     "text": [
      "0 令和元年 2019\n"
     ]
    }
   ],
   "source": [
    "print(dropdown3.index, dropdown3.label, dropdown3.value)"
   ]
  },
  {
   "cell_type": "code",
   "execution_count": 6,
   "metadata": {},
   "outputs": [
    {
     "name": "stdout",
     "output_type": "stream",
     "text": [
      "0 令和元年 2019\n"
     ]
    }
   ],
   "source": [
    "dropdown3.index = 0\n",
    "print(dropdown3.index, dropdown3.label, dropdown3.value)"
   ]
  },
  {
   "cell_type": "code",
   "execution_count": 7,
   "metadata": {},
   "outputs": [
    {
     "name": "stdout",
     "output_type": "stream",
     "text": [
      "1 令和二年 2020\n"
     ]
    }
   ],
   "source": [
    "dropdown3.label = \"令和二年\"\n",
    "print(dropdown3.index, dropdown3.label, dropdown3.value)"
   ]
  },
  {
   "cell_type": "code",
   "execution_count": 8,
   "metadata": {},
   "outputs": [
    {
     "ename": "TraitError",
     "evalue": "Invalid selection: value not found",
     "output_type": "error",
     "traceback": [
      "\u001b[1;31m---------------------------------------------------------------------------\u001b[0m",
      "\u001b[1;31mStopIteration\u001b[0m                             Traceback (most recent call last)",
      "File \u001b[1;32mc:\\Users\\ys\\Anaconda3\\envs\\marubatsu\\Lib\\site-packages\\ipywidgets\\widgets\\widget_selection.py:133\u001b[0m, in \u001b[0;36mfindvalue\u001b[1;34m(array, value, compare)\u001b[0m\n\u001b[0;32m    132\u001b[0m \u001b[38;5;28;01mtry\u001b[39;00m:\n\u001b[1;32m--> 133\u001b[0m     \u001b[38;5;28;01mreturn\u001b[39;00m \u001b[38;5;28mnext\u001b[39m(x \u001b[38;5;28;01mfor\u001b[39;00m x \u001b[38;5;129;01min\u001b[39;00m array \u001b[38;5;28;01mif\u001b[39;00m compare(x, value))\n\u001b[0;32m    134\u001b[0m \u001b[38;5;28;01mexcept\u001b[39;00m \u001b[38;5;167;01mStopIteration\u001b[39;00m:\n",
      "\u001b[1;31mStopIteration\u001b[0m: ",
      "\nDuring handling of the above exception, another exception occurred:\n",
      "\u001b[1;31mValueError\u001b[0m                                Traceback (most recent call last)",
      "File \u001b[1;32mc:\\Users\\ys\\Anaconda3\\envs\\marubatsu\\Lib\\site-packages\\ipywidgets\\widgets\\widget_selection.py:242\u001b[0m, in \u001b[0;36m_Selection._validate_value\u001b[1;34m(self, proposal)\u001b[0m\n\u001b[0;32m    241\u001b[0m \u001b[38;5;28;01mtry\u001b[39;00m:\n\u001b[1;32m--> 242\u001b[0m     \u001b[38;5;28;01mreturn\u001b[39;00m findvalue(\u001b[38;5;28mself\u001b[39m\u001b[38;5;241m.\u001b[39m_options_values, value, \u001b[38;5;28mself\u001b[39m\u001b[38;5;241m.\u001b[39mequals) \u001b[38;5;28;01mif\u001b[39;00m value \u001b[38;5;129;01mis\u001b[39;00m \u001b[38;5;129;01mnot\u001b[39;00m \u001b[38;5;28;01mNone\u001b[39;00m \u001b[38;5;28;01melse\u001b[39;00m \u001b[38;5;28;01mNone\u001b[39;00m\n\u001b[0;32m    243\u001b[0m \u001b[38;5;28;01mexcept\u001b[39;00m \u001b[38;5;167;01mValueError\u001b[39;00m:\n",
      "File \u001b[1;32mc:\\Users\\ys\\Anaconda3\\envs\\marubatsu\\Lib\\site-packages\\ipywidgets\\widgets\\widget_selection.py:135\u001b[0m, in \u001b[0;36mfindvalue\u001b[1;34m(array, value, compare)\u001b[0m\n\u001b[0;32m    134\u001b[0m \u001b[38;5;28;01mexcept\u001b[39;00m \u001b[38;5;167;01mStopIteration\u001b[39;00m:\n\u001b[1;32m--> 135\u001b[0m     \u001b[38;5;28;01mraise\u001b[39;00m \u001b[38;5;167;01mValueError\u001b[39;00m(\u001b[38;5;124m'\u001b[39m\u001b[38;5;132;01m%r\u001b[39;00m\u001b[38;5;124m not in array\u001b[39m\u001b[38;5;124m'\u001b[39m\u001b[38;5;241m%\u001b[39mvalue)\n",
      "\u001b[1;31mValueError\u001b[0m: 2000 not in array",
      "\nDuring handling of the above exception, another exception occurred:\n",
      "\u001b[1;31mTraitError\u001b[0m                                Traceback (most recent call last)",
      "Cell \u001b[1;32mIn[8], line 1\u001b[0m\n\u001b[1;32m----> 1\u001b[0m dropdown3\u001b[38;5;241m.\u001b[39mvalue \u001b[38;5;241m=\u001b[39m \u001b[38;5;241m2000\u001b[39m\n",
      "File \u001b[1;32mc:\\Users\\ys\\Anaconda3\\envs\\marubatsu\\Lib\\site-packages\\traitlets\\traitlets.py:729\u001b[0m, in \u001b[0;36mTraitType.__set__\u001b[1;34m(self, obj, value)\u001b[0m\n\u001b[0;32m    727\u001b[0m     \u001b[38;5;28;01mraise\u001b[39;00m TraitError(\u001b[38;5;124m'\u001b[39m\u001b[38;5;124mThe \u001b[39m\u001b[38;5;124m\"\u001b[39m\u001b[38;5;132;01m%s\u001b[39;00m\u001b[38;5;124m\"\u001b[39m\u001b[38;5;124m trait is read-only.\u001b[39m\u001b[38;5;124m'\u001b[39m \u001b[38;5;241m%\u001b[39m \u001b[38;5;28mself\u001b[39m\u001b[38;5;241m.\u001b[39mname)\n\u001b[0;32m    728\u001b[0m \u001b[38;5;28;01melse\u001b[39;00m:\n\u001b[1;32m--> 729\u001b[0m     \u001b[38;5;28mself\u001b[39m\u001b[38;5;241m.\u001b[39mset(obj, value)\n",
      "File \u001b[1;32mc:\\Users\\ys\\Anaconda3\\envs\\marubatsu\\Lib\\site-packages\\traitlets\\traitlets.py:703\u001b[0m, in \u001b[0;36mTraitType.set\u001b[1;34m(self, obj, value)\u001b[0m\n\u001b[0;32m    702\u001b[0m \u001b[38;5;28;01mdef\u001b[39;00m \u001b[38;5;21mset\u001b[39m(\u001b[38;5;28mself\u001b[39m, obj, value):\n\u001b[1;32m--> 703\u001b[0m     new_value \u001b[38;5;241m=\u001b[39m \u001b[38;5;28mself\u001b[39m\u001b[38;5;241m.\u001b[39m_validate(obj, value)\n\u001b[0;32m    704\u001b[0m     \u001b[38;5;28;01mtry\u001b[39;00m:\n\u001b[0;32m    705\u001b[0m         old_value \u001b[38;5;241m=\u001b[39m obj\u001b[38;5;241m.\u001b[39m_trait_values[\u001b[38;5;28mself\u001b[39m\u001b[38;5;241m.\u001b[39mname]\n",
      "File \u001b[1;32mc:\\Users\\ys\\Anaconda3\\envs\\marubatsu\\Lib\\site-packages\\traitlets\\traitlets.py:737\u001b[0m, in \u001b[0;36mTraitType._validate\u001b[1;34m(self, obj, value)\u001b[0m\n\u001b[0;32m    735\u001b[0m     value \u001b[38;5;241m=\u001b[39m \u001b[38;5;28mself\u001b[39m\u001b[38;5;241m.\u001b[39mvalidate(obj, value)\n\u001b[0;32m    736\u001b[0m \u001b[38;5;28;01mif\u001b[39;00m obj\u001b[38;5;241m.\u001b[39m_cross_validation_lock \u001b[38;5;129;01mis\u001b[39;00m \u001b[38;5;28;01mFalse\u001b[39;00m:\n\u001b[1;32m--> 737\u001b[0m     value \u001b[38;5;241m=\u001b[39m \u001b[38;5;28mself\u001b[39m\u001b[38;5;241m.\u001b[39m_cross_validate(obj, value)\n\u001b[0;32m    738\u001b[0m \u001b[38;5;28;01mreturn\u001b[39;00m value\n",
      "File \u001b[1;32mc:\\Users\\ys\\Anaconda3\\envs\\marubatsu\\Lib\\site-packages\\traitlets\\traitlets.py:743\u001b[0m, in \u001b[0;36mTraitType._cross_validate\u001b[1;34m(self, obj, value)\u001b[0m\n\u001b[0;32m    741\u001b[0m \u001b[38;5;28;01mif\u001b[39;00m \u001b[38;5;28mself\u001b[39m\u001b[38;5;241m.\u001b[39mname \u001b[38;5;129;01min\u001b[39;00m obj\u001b[38;5;241m.\u001b[39m_trait_validators:\n\u001b[0;32m    742\u001b[0m     proposal \u001b[38;5;241m=\u001b[39m Bunch({\u001b[38;5;124m\"\u001b[39m\u001b[38;5;124mtrait\u001b[39m\u001b[38;5;124m\"\u001b[39m: \u001b[38;5;28mself\u001b[39m, \u001b[38;5;124m\"\u001b[39m\u001b[38;5;124mvalue\u001b[39m\u001b[38;5;124m\"\u001b[39m: value, \u001b[38;5;124m\"\u001b[39m\u001b[38;5;124mowner\u001b[39m\u001b[38;5;124m\"\u001b[39m: obj})\n\u001b[1;32m--> 743\u001b[0m     value \u001b[38;5;241m=\u001b[39m obj\u001b[38;5;241m.\u001b[39m_trait_validators[\u001b[38;5;28mself\u001b[39m\u001b[38;5;241m.\u001b[39mname](obj, proposal)\n\u001b[0;32m    744\u001b[0m \u001b[38;5;28;01melif\u001b[39;00m \u001b[38;5;28mhasattr\u001b[39m(obj, \u001b[38;5;124m\"\u001b[39m\u001b[38;5;124m_\u001b[39m\u001b[38;5;132;01m%s\u001b[39;00m\u001b[38;5;124m_validate\u001b[39m\u001b[38;5;124m\"\u001b[39m \u001b[38;5;241m%\u001b[39m \u001b[38;5;28mself\u001b[39m\u001b[38;5;241m.\u001b[39mname):\n\u001b[0;32m    745\u001b[0m     meth_name \u001b[38;5;241m=\u001b[39m \u001b[38;5;124m\"\u001b[39m\u001b[38;5;124m_\u001b[39m\u001b[38;5;132;01m%s\u001b[39;00m\u001b[38;5;124m_validate\u001b[39m\u001b[38;5;124m\"\u001b[39m \u001b[38;5;241m%\u001b[39m \u001b[38;5;28mself\u001b[39m\u001b[38;5;241m.\u001b[39mname\n",
      "File \u001b[1;32mc:\\Users\\ys\\Anaconda3\\envs\\marubatsu\\Lib\\site-packages\\traitlets\\traitlets.py:1229\u001b[0m, in \u001b[0;36mEventHandler.__call__\u001b[1;34m(self, *args, **kwargs)\u001b[0m\n\u001b[0;32m   1227\u001b[0m \u001b[38;5;250m\u001b[39m\u001b[38;5;124;03m\"\"\"Pass `*args` and `**kwargs` to the handler's function if it exists.\"\"\"\u001b[39;00m\n\u001b[0;32m   1228\u001b[0m \u001b[38;5;28;01mif\u001b[39;00m \u001b[38;5;28mhasattr\u001b[39m(\u001b[38;5;28mself\u001b[39m, \u001b[38;5;124m\"\u001b[39m\u001b[38;5;124mfunc\u001b[39m\u001b[38;5;124m\"\u001b[39m):\n\u001b[1;32m-> 1229\u001b[0m     \u001b[38;5;28;01mreturn\u001b[39;00m \u001b[38;5;28mself\u001b[39m\u001b[38;5;241m.\u001b[39mfunc(\u001b[38;5;241m*\u001b[39margs, \u001b[38;5;241m*\u001b[39m\u001b[38;5;241m*\u001b[39mkwargs)\n\u001b[0;32m   1230\u001b[0m \u001b[38;5;28;01melse\u001b[39;00m:\n\u001b[0;32m   1231\u001b[0m     \u001b[38;5;28;01mreturn\u001b[39;00m \u001b[38;5;28mself\u001b[39m\u001b[38;5;241m.\u001b[39m_init_call(\u001b[38;5;241m*\u001b[39margs, \u001b[38;5;241m*\u001b[39m\u001b[38;5;241m*\u001b[39mkwargs)\n",
      "File \u001b[1;32mc:\\Users\\ys\\Anaconda3\\envs\\marubatsu\\Lib\\site-packages\\ipywidgets\\widgets\\widget_selection.py:244\u001b[0m, in \u001b[0;36m_Selection._validate_value\u001b[1;34m(self, proposal)\u001b[0m\n\u001b[0;32m    242\u001b[0m     \u001b[38;5;28;01mreturn\u001b[39;00m findvalue(\u001b[38;5;28mself\u001b[39m\u001b[38;5;241m.\u001b[39m_options_values, value, \u001b[38;5;28mself\u001b[39m\u001b[38;5;241m.\u001b[39mequals) \u001b[38;5;28;01mif\u001b[39;00m value \u001b[38;5;129;01mis\u001b[39;00m \u001b[38;5;129;01mnot\u001b[39;00m \u001b[38;5;28;01mNone\u001b[39;00m \u001b[38;5;28;01melse\u001b[39;00m \u001b[38;5;28;01mNone\u001b[39;00m\n\u001b[0;32m    243\u001b[0m \u001b[38;5;28;01mexcept\u001b[39;00m \u001b[38;5;167;01mValueError\u001b[39;00m:\n\u001b[1;32m--> 244\u001b[0m     \u001b[38;5;28;01mraise\u001b[39;00m TraitError(\u001b[38;5;124m'\u001b[39m\u001b[38;5;124mInvalid selection: value not found\u001b[39m\u001b[38;5;124m'\u001b[39m)\n",
      "\u001b[1;31mTraitError\u001b[0m: Invalid selection: value not found"
     ]
    }
   ],
   "source": [
    "dropdown3.value = 2000"
   ]
  },
  {
   "cell_type": "code",
   "execution_count": 9,
   "metadata": {},
   "outputs": [
    {
     "data": {
      "application/vnd.jupyter.widget-view+json": {
       "model_id": "2dd1e32bd0024aaca8f6c009a02ca148",
       "version_major": 2,
       "version_minor": 0
      },
      "text/plain": [
       "Dropdown(index=1, options=('1', '2', '3'), value='2')"
      ]
     },
     "metadata": {},
     "output_type": "display_data"
    }
   ],
   "source": [
    "dropdown4 = widgets.Dropdown(\n",
    "    options=['1', '2', '3'],\n",
    "    value='2',\n",
    ")\n",
    "display(dropdown4)"
   ]
  },
  {
   "cell_type": "code",
   "execution_count": 10,
   "metadata": {},
   "outputs": [
    {
     "data": {
      "application/vnd.jupyter.widget-view+json": {
       "model_id": "2c5d3625380e42ad824eb6a15c015361",
       "version_major": 2,
       "version_minor": 0
      },
      "text/plain": [
       "Dropdown(description='Number:', disabled=True, index=1, options=('1', '2', '3'), value='2')"
      ]
     },
     "metadata": {},
     "output_type": "display_data"
    }
   ],
   "source": [
    "dropdown5 = widgets.Dropdown(\n",
    "    options=['1', '2', '3'],\n",
    "    value='2',\n",
    "    description='Number:',\n",
    "    disabled=True,\n",
    ")\n",
    "display(dropdown5)"
   ]
  },
  {
   "cell_type": "code",
   "execution_count": 11,
   "metadata": {},
   "outputs": [
    {
     "data": {
      "application/vnd.jupyter.widget-view+json": {
       "model_id": "0ae5f5c99ed946e7ac0616b2920095ac",
       "version_major": 2,
       "version_minor": 0
      },
      "text/plain": [
       "Dropdown(layout=Layout(width='100px'), options=('1', '2', '3'), value='1')"
      ]
     },
     "metadata": {},
     "output_type": "display_data"
    },
    {
     "data": {
      "application/vnd.jupyter.widget-view+json": {
       "model_id": "486ce7549d5a413c98647fc0bcf932a3",
       "version_major": 2,
       "version_minor": 0
      },
      "text/plain": [
       "Dropdown(layout=Layout(width='50%'), options=('1', '2', '3'), value='1')"
      ]
     },
     "metadata": {},
     "output_type": "display_data"
    }
   ],
   "source": [
    "dropdown6 = widgets.Dropdown(\n",
    "    options=['1', '2', '3'],\n",
    "    layout=widgets.Layout(width=\"100px\")\n",
    ")\n",
    "display(dropdown6)\n",
    "\n",
    "dropdown7 = widgets.Dropdown(\n",
    "    options=['1', '2', '3'],\n",
    "    layout=widgets.Layout(width=\"50%\")\n",
    ")\n",
    "display(dropdown7)"
   ]
  },
  {
   "cell_type": "code",
   "execution_count": 12,
   "metadata": {},
   "outputs": [
    {
     "data": {
      "application/vnd.jupyter.widget-view+json": {
       "model_id": "6c93cee3692046c5a4e49dba8adf001a",
       "version_major": 2,
       "version_minor": 0
      },
      "text/plain": [
       "Dropdown(description='number', options=('1', '2', '3'), style=DescriptionStyle(description_width='50px'), valu…"
      ]
     },
     "metadata": {},
     "output_type": "display_data"
    },
    {
     "data": {
      "application/vnd.jupyter.widget-view+json": {
       "model_id": "fe52ffa8a4d441129e63ceb9baf50cbb",
       "version_major": 2,
       "version_minor": 0
      },
      "text/plain": [
       "Dropdown(description='number', options=('1', '2', '3'), style=DescriptionStyle(description_width='100px'), val…"
      ]
     },
     "metadata": {},
     "output_type": "display_data"
    }
   ],
   "source": [
    "dropdown8 = widgets.Dropdown(\n",
    "    options=['1', '2', '3'],\n",
    "    description=\"number\",\n",
    "    style= {\n",
    "        \"description_width\": \"50px\",\n",
    "    }\n",
    ")\n",
    "display(dropdown8)\n",
    "\n",
    "dropdown9 = widgets.Dropdown(\n",
    "    options=['1', '2', '3'],\n",
    "    description=\"number\",\n",
    "    style= {\n",
    "        \"description_width\": \"100px\",\n",
    "    }\n",
    ")\n",
    "display(dropdown9)"
   ]
  },
  {
   "cell_type": "code",
   "execution_count": 13,
   "metadata": {},
   "outputs": [],
   "source": [
    "import ai\n",
    "\n",
    "ai_list = [ ai.ai1s, ai.ai2s, ai.ai3s, ai.ai4s, ai.ai5s, ai.ai6s, ai.ai7s,\n",
    "            ai.ai8s, ai.ai9s, ai.ai10s, ai.ai11s, ai.ai12s, ai.ai13s, ai.ai14s ]"
   ]
  },
  {
   "cell_type": "code",
   "execution_count": 14,
   "metadata": {},
   "outputs": [],
   "source": [
    "from ai import ai1s, ai2s, ai3s, ai4s, ai5s, ai6s, ai7s, \\\n",
    "               ai8s, ai9s, ai10s, ai11s, ai12s, ai13s, ai14s\n",
    "\n",
    "ai_list = [ ai1s, ai2s, ai3s, ai4s, ai5s, ai6s, ai7s,\n",
    "            ai8s, ai9s, ai10s, ai11s, ai12s, ai13s, ai14s ]"
   ]
  },
  {
   "cell_type": "code",
   "execution_count": 15,
   "metadata": {},
   "outputs": [],
   "source": [
    "ai1s = getattr(ai, \"ai1s\")"
   ]
  },
  {
   "cell_type": "code",
   "execution_count": 16,
   "metadata": {},
   "outputs": [
    {
     "name": "stdout",
     "output_type": "stream",
     "text": [
      "(0, 0)\n",
      "(0, 0)\n"
     ]
    }
   ],
   "source": [
    "from marubatsu import Marubatsu\n",
    "\n",
    "mb = Marubatsu()\n",
    "\n",
    "print(ai1s(mb))\n",
    "print(ai.ai1s(mb))"
   ]
  },
  {
   "cell_type": "code",
   "execution_count": 17,
   "metadata": {},
   "outputs": [],
   "source": [
    "ai_list = []\n",
    "for i in range(1, 15):\n",
    "    ai_name = f\"ai{i}s\"\n",
    "    ai_list.append(getattr(ai, ai_name))"
   ]
  },
  {
   "cell_type": "code",
   "execution_count": 18,
   "metadata": {},
   "outputs": [],
   "source": [
    "ai_list = [ getattr(ai, f\"ai{i}s\") for i in range(1, 15) ]"
   ]
  },
  {
   "cell_type": "code",
   "execution_count": 19,
   "metadata": {},
   "outputs": [
    {
     "data": {
      "application/vnd.jupyter.widget-view+json": {
       "model_id": "b26c6de23e1942e68e43c6f7b10f47b9",
       "version_major": 2,
       "version_minor": 0
      },
      "text/plain": [
       "Dropdown(options=(<function ai1s at 0x0000025E8600C860>, <function ai2s at 0x0000025E8600C9A0>, <function ai3s…"
      ]
     },
     "metadata": {},
     "output_type": "display_data"
    }
   ],
   "source": [
    "dropdown10 = widgets.Dropdown(options=ai_list)\n",
    "display(dropdown10)"
   ]
  },
  {
   "cell_type": "code",
   "execution_count": 20,
   "metadata": {},
   "outputs": [
    {
     "name": "stdout",
     "output_type": "stream",
     "text": [
      "<function ai1s at 0x0000025E8600C860>\n"
     ]
    }
   ],
   "source": [
    "print(ai.ai1s)"
   ]
  },
  {
   "cell_type": "code",
   "execution_count": 22,
   "metadata": {},
   "outputs": [
    {
     "data": {
      "application/vnd.jupyter.widget-view+json": {
       "model_id": "7a3f5ffa69f64cf0bba5fd64233825f3",
       "version_major": 2,
       "version_minor": 0
      },
      "text/plain": [
       "Dropdown(options=(('ai1s', <function ai1s at 0x0000025E8600C860>), ('ai2s', <function ai2s at 0x0000025E8600C9…"
      ]
     },
     "metadata": {},
     "output_type": "display_data"
    }
   ],
   "source": [
    "dropdown11 = widgets.Dropdown(\n",
    "    options=[(\"ai1s\", ai.ai1s), (\"ai2s\", ai.ai2s), (\"ai3s\", ai.ai3s)]\n",
    ")\n",
    "display(dropdown11)"
   ]
  },
  {
   "cell_type": "code",
   "execution_count": 23,
   "metadata": {},
   "outputs": [
    {
     "name": "stdout",
     "output_type": "stream",
     "text": [
      "(0, 0)\n"
     ]
    }
   ],
   "source": [
    "print(dropdown11.value(mb))"
   ]
  },
  {
   "cell_type": "code",
   "execution_count": 24,
   "metadata": {},
   "outputs": [
    {
     "name": "stdout",
     "output_type": "stream",
     "text": [
      "<function ai1s at 0x0000025E8600C860>\n"
     ]
    }
   ],
   "source": [
    "print(dropdown11.value)"
   ]
  },
  {
   "cell_type": "code",
   "execution_count": 25,
   "metadata": {},
   "outputs": [
    {
     "data": {
      "application/vnd.jupyter.widget-view+json": {
       "model_id": "cd9abf7491c144998ad07f9b26654dec",
       "version_major": 2,
       "version_minor": 0
      },
      "text/plain": [
       "Dropdown(options=(('ai1s', <function ai1s at 0x0000025E8600C860>), ('ai2s', <function ai2s at 0x0000025E8600C9…"
      ]
     },
     "metadata": {},
     "output_type": "display_data"
    }
   ],
   "source": [
    "ai_list = []\n",
    "for i in range(1, 15):\n",
    "    ai_name = f\"ai{i}s\"  \n",
    "    ai_list.append((ai_name, getattr(ai, ai_name)))\n",
    "\n",
    "dropdown12 = widgets.Dropdown(options=ai_list)\n",
    "display(dropdown12)"
   ]
  },
  {
   "cell_type": "code",
   "execution_count": 26,
   "metadata": {},
   "outputs": [
    {
     "data": {
      "application/vnd.jupyter.widget-view+json": {
       "model_id": "ef48f896d9114d31b5ba246a8f69b04e",
       "version_major": 2,
       "version_minor": 0
      },
      "text/plain": [
       "Dropdown(description='〇', options=(('ai1s', <function ai1s at 0x0000025E8600C860>), ('ai2s', <function ai2s at…"
      ]
     },
     "metadata": {},
     "output_type": "display_data"
    },
    {
     "data": {
      "application/vnd.jupyter.widget-view+json": {
       "model_id": "edf5657449e042f4bd324d966f6d4498",
       "version_major": 2,
       "version_minor": 0
      },
      "text/plain": [
       "Dropdown(description='×', options=(('ai1s', <function ai1s at 0x0000025E8600C860>), ('ai2s', <function ai2s at…"
      ]
     },
     "metadata": {},
     "output_type": "display_data"
    }
   ],
   "source": [
    "dropdown_circle = widgets.Dropdown(\n",
    "    options=ai_list,\n",
    "    description=\"〇\",\n",
    ")\n",
    "display(dropdown_circle)\n",
    "\n",
    "dropdown_cross = widgets.Dropdown(\n",
    "    options=ai_list,\n",
    "    description=\"×\",\n",
    ")\n",
    "display(dropdown_cross)"
   ]
  },
  {
   "cell_type": "code",
   "execution_count": 27,
   "metadata": {},
   "outputs": [
    {
     "data": {
      "application/vnd.jupyter.widget-view+json": {
       "model_id": "6d44f8e5c67346329da427953855b5c3",
       "version_major": 2,
       "version_minor": 0
      },
      "text/plain": [
       "HBox(children=(Dropdown(description='〇', options=(('ai1s', <function ai1s at 0x0000025E8600C860>), ('ai2s', <f…"
      ]
     },
     "metadata": {},
     "output_type": "display_data"
    }
   ],
   "source": [
    "hbox = widgets.HBox([dropdown_circle, dropdown_cross])\n",
    "display(hbox)"
   ]
  },
  {
   "cell_type": "code",
   "execution_count": 28,
   "metadata": {},
   "outputs": [
    {
     "data": {
      "application/vnd.jupyter.widget-view+json": {
       "model_id": "7ce88f01bfda48a3a90c89c00c04d34d",
       "version_major": 2,
       "version_minor": 0
      },
      "text/plain": [
       "VBox(children=(Dropdown(description='〇', options=(('ai1s', <function ai1s at 0x0000025E8600C860>), ('ai2s', <f…"
      ]
     },
     "metadata": {},
     "output_type": "display_data"
    }
   ],
   "source": [
    "vbox = widgets.VBox([dropdown_circle, dropdown_cross])\n",
    "display(vbox)"
   ]
  },
  {
   "cell_type": "code",
   "execution_count": 29,
   "metadata": {},
   "outputs": [
    {
     "data": {
      "application/vnd.jupyter.widget-view+json": {
       "model_id": "f7f757aa267a496ba804bec0f25b30c3",
       "version_major": 2,
       "version_minor": 0
      },
      "text/plain": [
       "VBox(children=(HBox(children=(Dropdown(description='〇', options=(('ai1s', <function ai1s at 0x0000025E8600C860…"
      ]
     },
     "metadata": {},
     "output_type": "display_data"
    }
   ],
   "source": [
    "vbox = widgets.VBox([hbox, hbox])\n",
    "display(vbox)"
   ]
  },
  {
   "cell_type": "code",
   "execution_count": 30,
   "metadata": {},
   "outputs": [],
   "source": [
    "from marubatsu import Marubatsu\n",
    "import matplotlib.pyplot as plt\n",
    "import ipywidgets as widgets\n",
    "import math\n",
    "import ai as ai_module\n",
    "\n",
    "def play(self, ai, params=[{}, {}], verbose=True, seed=None, gui=False, size=3):\n",
    "    # seed が None でない場合は、seed を乱数の種として設定する\n",
    "    if seed is not None:\n",
    "        random.seed(seed)\n",
    "\n",
    "    # Dropdown の作成の際に必要となる、AI のリストを作成する    \n",
    "    ai_list = []\n",
    "    for i in range(1, 15):\n",
    "        ai_name = f\"ai{i}s\"  \n",
    "        ai_list.append((ai_name, getattr(ai_module, ai_name)))    \n",
    "     \n",
    "    # 〇 と × の Dropdown を作成する   \n",
    "    dropdown_circle = widgets.Dropdown(\n",
    "        options=ai_list,\n",
    "        description=\"〇\",\n",
    "    )\n",
    "    dropdown_cross = widgets.Dropdown(\n",
    "        options=ai_list,\n",
    "        description=\"×\",\n",
    "    )       \n",
    "    \n",
    "    # リセットボタンを作成する\n",
    "    button = widgets.Button(description=\"リセット\")\n",
    "    \n",
    "    # 〇 と × の dropdown と リセットボタンを横に配置した HBox を作成し、表示する\n",
    "    hbox = widgets.HBox([dropdown_circle, dropdown_cross, button])\n",
    "    display(hbox)\n",
    "    \n",
    "    # リセットボタンのイベントハンドラを定義する\n",
    "    def on_button_clicked(b):\n",
    "        self.restart()\n",
    "        self.play_loop(ai=ai, ax=ax, params=params, verbose=verbose, gui=gui)           \n",
    "         \n",
    "    # イベントハンドラをリセットボタンに結びつける\n",
    "    button.on_click(on_button_clicked)\n",
    "\n",
    "    # gui が True の場合に、ゲーム盤を描画する画像を作成し、イベントハンドラに結びつける\n",
    "    if gui:\n",
    "        fig, ax = plt.subplots(figsize=[size, size])\n",
    "        fig.canvas.toolbar_visible = False\n",
    "        fig.canvas.header_visible = False\n",
    "        fig.canvas.footer_visible = False\n",
    "        fig.canvas.resizable = False          \n",
    "        \n",
    "        # ローカル関数としてイベントハンドラを定義する\n",
    "        def on_mouse_down(event):\n",
    "            # Axes の上でマウスを押していた場合のみ処理を行う\n",
    "            if event.inaxes and self.status == Marubatsu.PLAYING:\n",
    "                x = math.floor(event.xdata)\n",
    "                y = math.floor(event.ydata)\n",
    "                self.move(x, y)                \n",
    "                self.draw_board(ax)\n",
    "\n",
    "                # 次の手番の処理を行うメソッドを呼び出す\n",
    "                self.play_loop(ai=ai, ax=ax, params=params, verbose=verbose, gui=gui)\n",
    "                   \n",
    "        # fig の画像にマウスを押した際のイベントハンドラを結び付ける\n",
    "        fig.canvas.mpl_connect(\"button_press_event\", on_mouse_down)     \n",
    "\n",
    "    self.restart()\n",
    "    return self.play_loop(ai=ai, ax=ax, params=params, verbose=verbose, gui=gui)\n",
    "    \n",
    "Marubatsu.play = play"
   ]
  },
  {
   "cell_type": "code",
   "execution_count": 31,
   "metadata": {},
   "outputs": [
    {
     "data": {
      "application/vnd.jupyter.widget-view+json": {
       "model_id": "653d21ec0644472eb5a591b8e4a535d0",
       "version_major": 2,
       "version_minor": 0
      },
      "text/plain": [
       "HBox(children=(Dropdown(description='〇', options=(('ai1s', <function ai1s at 0x0000025E8600C860>), ('ai2s', <f…"
      ]
     },
     "metadata": {},
     "output_type": "display_data"
    },
    {
     "data": {
      "application/vnd.jupyter.widget-view+json": {
       "model_id": "4d485313ebb7427aa5c7873f4bccae00",
       "version_major": 2,
       "version_minor": 0
      },
      "image/png": "[encoded data removed]",
      "text/html": [
       "\n",
       "            <div style=\"display: inline-block;\">\n",
       "                <div class=\"jupyter-widgets widget-label\" style=\"text-align: center;\">\n",
       "                    Figure\n",
       "                </div>\n",
       "                <img src='data:image/png;base64,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' width=300.0/>\n",
       "            </div>\n",
       "        "
      ],
      "text/plain": [
       "Canvas(footer_visible=False, header_visible=False, resizable=False, toolbar=Toolbar(toolitems=[('Home', 'Reset…"
      ]
     },
     "metadata": {},
     "output_type": "display_data"
    }
   ],
   "source": [
    "%matplotlib widget\n",
    "\n",
    "mb = Marubatsu()\n",
    "mb.play(ai=[None, None], gui=True);"
   ]
  },
  {
   "cell_type": "code",
   "execution_count": 35,
   "metadata": {},
   "outputs": [],
   "source": [
    "def play(self, ai, params=[{}, {}], verbose=True, seed=None, gui=False, size=3):\n",
    "    # seed が None でない場合は、seed を乱数の種として設定する\n",
    "    if seed is not None:\n",
    "        random.seed(seed)\n",
    "\n",
    "    # Dropdown の作成の際に必要となる、AI のリストを作成する    \n",
    "    ai_list = []\n",
    "    for i in range(1, 15):\n",
    "        ai_name = f\"ai{i}s\"  \n",
    "        ai_list.append((ai_name, getattr(ai_module, ai_name)))    \n",
    "     \n",
    "    # 〇 と × の Dropdown を作成する   \n",
    "    dropdown_circle = widgets.Dropdown(\n",
    "        options=ai_list,\n",
    "        description=\"〇\",\n",
    "        layout=widgets.Layout(width=\"100px\"),\n",
    "        style={\"description_width\": \"20px\"},\n",
    "    )\n",
    "    dropdown_cross = widgets.Dropdown(\n",
    "        options=ai_list,\n",
    "        description=\"×\",\n",
    "        layout=widgets.Layout(width=\"100px\"),\n",
    "        style={\"description_width\": \"20px\"},\n",
    "    )       \n",
    "    \n",
    "    # リセットボタンを作成する\n",
    "    button = widgets.Button(\n",
    "        description=\"リセット\",\n",
    "        layout=widgets.Layout(width=\"100px\"),\n",
    "    )\n",
    "    \n",
    "    # 〇 と × の dropdown と リセットボタンを横に配置した HBox を作成し、表示する\n",
    "    hbox = widgets.HBox([dropdown_circle, dropdown_cross, button])\n",
    "    display(hbox)\n",
    "    \n",
    "    # リセットボタンのイベントハンドラを定義する\n",
    "    def on_button_clicked(b):\n",
    "        self.restart()\n",
    "        self.play_loop(ai=ai, ax=ax, params=params, verbose=verbose, gui=gui)           \n",
    "         \n",
    "    # イベントハンドラをリセットボタンに結びつける\n",
    "    button.on_click(on_button_clicked)\n",
    "\n",
    "    # gui が True の場合に、ゲーム盤を描画する画像を作成し、イベントハンドラに結びつける\n",
    "    if gui:\n",
    "        fig, ax = plt.subplots(figsize=[size, size])\n",
    "        fig.canvas.toolbar_visible = False\n",
    "        fig.canvas.header_visible = False\n",
    "        fig.canvas.footer_visible = False\n",
    "        fig.canvas.resizable = False          \n",
    "        \n",
    "        # ローカル関数としてイベントハンドラを定義する\n",
    "        def on_mouse_down(event):\n",
    "            # Axes の上でマウスを押していた場合のみ処理を行う\n",
    "            if event.inaxes and self.status == Marubatsu.PLAYING:\n",
    "                x = math.floor(event.xdata)\n",
    "                y = math.floor(event.ydata)\n",
    "                self.move(x, y)                \n",
    "                self.draw_board(ax)\n",
    "\n",
    "                # 次の手番の処理を行うメソッドを呼び出す\n",
    "                self.play_loop(ai=ai, ax=ax, params=params, verbose=verbose, gui=gui)\n",
    "                   \n",
    "        # fig の画像にマウスを押した際のイベントハンドラを結び付ける\n",
    "        fig.canvas.mpl_connect(\"button_press_event\", on_mouse_down)     \n",
    "\n",
    "    self.restart()\n",
    "    return self.play_loop(ai=ai, ax=ax, params=params, verbose=verbose, gui=gui)\n",
    "    \n",
    "Marubatsu.play = play"
   ]
  },
  {
   "cell_type": "code",
   "execution_count": 36,
   "metadata": {},
   "outputs": [
    {
     "data": {
      "application/vnd.jupyter.widget-view+json": {
       "model_id": "ee3ca1c1a5754dfbbfa3b41e5332c762",
       "version_major": 2,
       "version_minor": 0
      },
      "text/plain": [
       "HBox(children=(Dropdown(description='〇', layout=Layout(width='100px'), options=(('ai1s', <function ai1s at 0x0…"
      ]
     },
     "metadata": {},
     "output_type": "display_data"
    },
    {
     "data": {
      "application/vnd.jupyter.widget-view+json": {
       "model_id": "bf03334b5a66482f80243587bd3f3769",
       "version_major": 2,
       "version_minor": 0
      },
      "image/png": "[encoded data removed]",
      "text/html": [
       "\n",
       "            <div style=\"display: inline-block;\">\n",
       "                <div class=\"jupyter-widgets widget-label\" style=\"text-align: center;\">\n",
       "                    Figure\n",
       "                </div>\n",
       "                <img src='data:image/png;base64,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' width=300.0/>\n",
       "            </div>\n",
       "        "
      ],
      "text/plain": [
       "Canvas(footer_visible=False, header_visible=False, resizable=False, toolbar=Toolbar(toolitems=[('Home', 'Reset…"
      ]
     },
     "metadata": {},
     "output_type": "display_data"
    }
   ],
   "source": [
    "mb.play(ai=[None, None], gui=True);"
   ]
  }
 ],
 "metadata": {
  "kernelspec": {
   "display_name": "marubatsu",
   "language": "python",
   "name": "python3"
  },
  "language_info": {
   "codemirror_mode": {
    "name": "ipython",
    "version": 3
   },
   "file_extension": ".py",
   "mimetype": "text/x-python",
   "name": "python",
   "nbconvert_exporter": "python",
   "pygments_lexer": "ipython3",
   "version": "3.11.4"
  }
 },
 "nbformat": 4,
 "nbformat_minor": 2
}
