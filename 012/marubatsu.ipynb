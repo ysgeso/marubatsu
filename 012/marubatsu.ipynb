{
 "cells": [
  {
   "cell_type": "code",
   "execution_count": 1,
   "metadata": {},
   "outputs": [
    {
     "name": "stdout",
     "output_type": "stream",
     "text": [
      "[[' ', ' ', ' '], [' ', ' ', ' '], [' ', ' ', ' ']]\n"
     ]
    }
   ],
   "source": [
    "board = [[\" \"] * 3 for x in range(3)]\n",
    "print(board)"
   ]
  },
  {
   "cell_type": "code",
   "execution_count": 2,
   "metadata": {},
   "outputs": [
    {
     "name": "stdout",
     "output_type": "stream",
     "text": [
      "[[' ', '〇', ' '], [' ', ' ', ' '], [' ', ' ', ' ']]\n"
     ]
    }
   ],
   "source": [
    "board[0][1] = \"〇\"\n",
    "print(board)"
   ]
  },
  {
   "cell_type": "code",
   "execution_count": 3,
   "metadata": {},
   "outputs": [
    {
     "name": "stdout",
     "output_type": "stream",
     "text": [
      "[[' ', '×', ' '], [' ', ' ', ' '], [' ', ' ', ' ']]\n"
     ]
    }
   ],
   "source": [
    "board[0][1] = \"×\"\n",
    "print(board)"
   ]
  },
  {
   "cell_type": "code",
   "execution_count": 4,
   "metadata": {},
   "outputs": [
    {
     "name": "stdout",
     "output_type": "stream",
     "text": [
      "[[' ', '〇', ' '], [' ', ' ', ' '], [' ', ' ', ' ']]\n",
      "[[' ', '〇', ' '], [' ', ' ', ' '], [' ', ' ', ' ']]\n"
     ]
    }
   ],
   "source": [
    "board = [[\" \"] * 3 for x in range(3)]\n",
    "if board[0][1] == \" \":\n",
    "    board[0][1] = \"〇\"\n",
    "print(board)\n",
    "if board[0][1] == \" \":\n",
    "    board[0][1] = \"×\"\n",
    "print(board)"
   ]
  },
  {
   "cell_type": "code",
   "execution_count": 5,
   "metadata": {},
   "outputs": [
    {
     "name": "stdout",
     "output_type": "stream",
     "text": [
      "[[' ', '〇', ' '], [' ', ' ', ' '], [' ', ' ', ' ']]\n",
      "(0, 1) のマスにはマークが配置済です\n",
      "[[' ', '〇', ' '], [' ', ' ', ' '], [' ', ' ', ' ']]\n"
     ]
    }
   ],
   "source": [
    "board = [[\" \"] * 3 for x in range(3)]\n",
    "if board[0][1] == \" \":\n",
    "    board[0][1] = \"〇\"\n",
    "else:\n",
    "    print(\"(0, 1) のマスにはマークが配置済です\")\n",
    "print(board)\n",
    "if board[0][1] == \" \":\n",
    "    board[0][1] = \"×\"\n",
    "else:\n",
    "    print(\"(0, 1) のマスにはマークが配置済です\")\n",
    "print(board)"
   ]
  }
 ],
 "metadata": {
  "kernelspec": {
   "display_name": "marubatsu",
   "language": "python",
   "name": "python3"
  },
  "language_info": {
   "codemirror_mode": {
    "name": "ipython",
    "version": 3
   },
   "file_extension": ".py",
   "mimetype": "text/x-python",
   "name": "python",
   "nbconvert_exporter": "python",
   "pygments_lexer": "ipython3",
   "version": "3.11.4"
  },
  "orig_nbformat": 4
 },
 "nbformat": 4,
 "nbformat_minor": 2
}
