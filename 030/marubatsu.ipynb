{
 "cells": [
  {
   "cell_type": "code",
   "execution_count": 1,
   "metadata": {},
   "outputs": [],
   "source": [
    "from marubatsu import Marubatsu\n",
    "\n",
    "testcases = [\n",
    "    # 〇 の勝利のテストケース\n",
    "    [                      # 着手順とゲーム盤\n",
    "        [ 0, 3, 1, 4, 2 ], # 123  ooo\n",
    "        Marubatsu.CIRCLE,  # 45.  xx. \n",
    "    ],                     # ...  ...\n",
    "    # × の勝利のテストケース\n",
    "    [                          # 着手順とゲーム盤\n",
    "        [ 3, 0, 4, 1, 6, 2 ],  # 246  xxx \n",
    "        Marubatsu.CROSS,       # 13.  oo.\n",
    "    ],                         # ...  ...\n",
    "    # 引き分けのテストケース\n",
    "    [                                  # 着手順とゲーム盤\n",
    "        [ 0, 3, 1, 4, 5, 2, 6, 7, 8 ], # 136  oox \n",
    "        Marubatsu.DRAW,                # 245  xxo\n",
    "    ],                                 # 789  oxo\n",
    "]"
   ]
  },
  {
   "cell_type": "code",
   "execution_count": 2,
   "metadata": {},
   "outputs": [],
   "source": [
    "def num_to_xy(coord):\n",
    "    if coord == 0:\n",
    "        return 0, 0\n",
    "    elif coord == 1:\n",
    "        return 0, 1\n",
    "    elif coord == 2:\n",
    "        return 0, 2\n",
    "    elif coord == 3:\n",
    "        return 1, 0\n",
    "    elif coord == 4:\n",
    "        return 1, 1\n",
    "    elif coord == 5:\n",
    "        return 1, 2\n",
    "    elif coord == 6:\n",
    "        return 2, 0\n",
    "    elif coord == 7:\n",
    "        return 2, 1\n",
    "    elif coord == 8:\n",
    "        return 2, 2\n",
    "    else:\n",
    "        print(\"invalid coord\", coord)"
   ]
  },
  {
   "cell_type": "code",
   "execution_count": 3,
   "metadata": {},
   "outputs": [],
   "source": [
    "def test_judge(testcases):\n",
    "    for testcase in testcases:\n",
    "        testdata, winner = testcase\n",
    "        mb = Marubatsu()\n",
    "        for coord in testdata:\n",
    "            x, y = num_to_xy(coord)\n",
    "            mb.move(x, y)\n",
    "        print(mb)\n",
    "\n",
    "        if mb.judge() == winner:\n",
    "            print(\"ok\")\n",
    "        else:\n",
    "            print(\"error!\")"
   ]
  },
  {
   "cell_type": "code",
   "execution_count": 4,
   "metadata": {},
   "outputs": [
    {
     "name": "stdout",
     "output_type": "stream",
     "text": [
      "Turn x\n",
      "ox.\n",
      "ox.\n",
      "o..\n",
      "\n",
      "ok\n",
      "Turn o\n",
      "xoo\n",
      "xo.\n",
      "x..\n",
      "\n",
      "ok\n",
      "Turn x\n",
      "oxo\n",
      "oxx\n",
      "xoo\n",
      "\n",
      "ok\n"
     ]
    }
   ],
   "source": [
    "test_judge(testcases)"
   ]
  },
  {
   "cell_type": "code",
   "execution_count": 5,
   "metadata": {},
   "outputs": [],
   "source": [
    "def num_to_xy(coord):\n",
    "    if coord == 0:\n",
    "        return 0, 0\n",
    "    elif coord == 3:\n",
    "        return 0, 1\n",
    "    elif coord == 6:\n",
    "        return 0, 2\n",
    "    elif coord == 1:\n",
    "        return 1, 0\n",
    "    elif coord == 4:\n",
    "        return 1, 1\n",
    "    elif coord == 7:\n",
    "        return 1, 2\n",
    "    elif coord == 2:\n",
    "        return 2, 0\n",
    "    elif coord == 5:\n",
    "        return 2, 1\n",
    "    elif coord == 8:\n",
    "        return 2, 2\n",
    "    else:\n",
    "        print(\"invalid coord\", coord)"
   ]
  },
  {
   "cell_type": "code",
   "execution_count": 6,
   "metadata": {},
   "outputs": [
    {
     "name": "stdout",
     "output_type": "stream",
     "text": [
      "Turn x\n",
      "ooo\n",
      "xx.\n",
      "...\n",
      "\n",
      "ok\n",
      "Turn o\n",
      "xxx\n",
      "oo.\n",
      "o..\n",
      "\n",
      "ok\n",
      "Turn x\n",
      "oox\n",
      "xxo\n",
      "oxo\n",
      "\n",
      "ok\n"
     ]
    }
   ],
   "source": [
    "test_judge(testcases)"
   ]
  },
  {
   "cell_type": "code",
   "execution_count": 7,
   "metadata": {},
   "outputs": [],
   "source": [
    "def num_to_xy(coord):\n",
    "    if coord == 0:\n",
    "        return 0, 0\n",
    "    elif coord == 1:\n",
    "        return 1, 0\n",
    "    elif coord == 2:\n",
    "        return 2, 0\n",
    "    elif coord == 3:\n",
    "        return 0, 1\n",
    "    elif coord == 4:\n",
    "        return 1, 1\n",
    "    elif coord == 5:\n",
    "        return 2, 1\n",
    "    elif coord == 6:\n",
    "        return 0, 2\n",
    "    elif coord == 7:\n",
    "        return 1, 2\n",
    "    elif coord == 8:\n",
    "        return 2, 2\n",
    "    else:\n",
    "        print(\"invalid coord\", coord)"
   ]
  },
  {
   "cell_type": "code",
   "execution_count": 8,
   "metadata": {},
   "outputs": [
    {
     "name": "stdout",
     "output_type": "stream",
     "text": [
      "Turn x\n",
      "ooo\n",
      "xx.\n",
      "...\n",
      "\n",
      "ok\n",
      "Turn o\n",
      "xxx\n",
      "oo.\n",
      "o..\n",
      "\n",
      "ok\n",
      "Turn x\n",
      "oox\n",
      "xxo\n",
      "oxo\n",
      "\n",
      "ok\n"
     ]
    }
   ],
   "source": [
    "test_judge(testcases)"
   ]
  },
  {
   "cell_type": "code",
   "execution_count": 9,
   "metadata": {},
   "outputs": [],
   "source": [
    "def num_to_xy(coord):\n",
    "    num_to_xy_table = [\n",
    "        [0, 0], [1, 0], [2, 0],\n",
    "        [0, 1], [1, 1], [2, 1],\n",
    "        [0, 2], [1, 2], [2, 2],\n",
    "    ]\n",
    "    return num_to_xy_table[coord]"
   ]
  },
  {
   "cell_type": "code",
   "execution_count": 10,
   "metadata": {},
   "outputs": [
    {
     "name": "stdout",
     "output_type": "stream",
     "text": [
      "Turn x\n",
      "ooo\n",
      "xx.\n",
      "...\n",
      "\n",
      "ok\n",
      "Turn o\n",
      "xxx\n",
      "oo.\n",
      "o..\n",
      "\n",
      "ok\n",
      "Turn x\n",
      "oox\n",
      "xxo\n",
      "oxo\n",
      "\n",
      "ok\n"
     ]
    }
   ],
   "source": [
    "test_judge(testcases)"
   ]
  },
  {
   "cell_type": "code",
   "execution_count": 11,
   "metadata": {},
   "outputs": [],
   "source": [
    "def num_to_xy(coord):\n",
    "    x = coord % 3\n",
    "    y = coord // 3\n",
    "    return x, y"
   ]
  },
  {
   "cell_type": "code",
   "execution_count": 12,
   "metadata": {},
   "outputs": [
    {
     "name": "stdout",
     "output_type": "stream",
     "text": [
      "Turn x\n",
      "ooo\n",
      "xx.\n",
      "...\n",
      "\n",
      "ok\n",
      "Turn o\n",
      "xxx\n",
      "oo.\n",
      "o..\n",
      "\n",
      "ok\n",
      "Turn x\n",
      "oox\n",
      "xxo\n",
      "oxo\n",
      "\n",
      "ok\n"
     ]
    }
   ],
   "source": [
    "test_judge(testcases)"
   ]
  },
  {
   "cell_type": "code",
   "execution_count": 13,
   "metadata": {},
   "outputs": [],
   "source": [
    "def num_to_xy(coord):\n",
    "    return coord % 3, coord // 3"
   ]
  },
  {
   "cell_type": "code",
   "execution_count": 14,
   "metadata": {},
   "outputs": [
    {
     "name": "stdout",
     "output_type": "stream",
     "text": [
      "Turn x\n",
      "ooo\n",
      "xx.\n",
      "...\n",
      "\n",
      "ok\n",
      "Turn o\n",
      "xxx\n",
      "oo.\n",
      "o..\n",
      "\n",
      "ok\n",
      "Turn x\n",
      "oox\n",
      "xxo\n",
      "oxo\n",
      "\n",
      "ok\n"
     ]
    }
   ],
   "source": [
    "test_judge(testcases)"
   ]
  },
  {
   "cell_type": "code",
   "execution_count": 15,
   "metadata": {},
   "outputs": [],
   "source": [
    "def num_to_xy_2(coord):\n",
    "    x = coord // 3\n",
    "    y = coord % 3\n",
    "    return x, y"
   ]
  },
  {
   "cell_type": "code",
   "execution_count": 16,
   "metadata": {},
   "outputs": [],
   "source": [
    "testcases = [\n",
    "    # 〇 の勝利のテストケース\n",
    "    [                      # 着手順とゲーム盤\n",
    "        \"03142\",           # 123  ooo\n",
    "        Marubatsu.CIRCLE,  # 45.  xx. \n",
    "    ],                     # ...  ...\n",
    "    # × の勝利のテストケース\n",
    "    [                      # 着手順とゲーム盤\n",
    "        \"304162\",          # 246  xxx \n",
    "        Marubatsu.CROSS,   # 13.  oo.\n",
    "    ],                     # ...  ...\n",
    "    # 引き分けのテストケース\n",
    "    [                      # 着手順とゲーム盤\n",
    "        \"031452678\",       # 136  oox \n",
    "        Marubatsu.DRAW,    # 245  xxo\n",
    "    ],                     # 789  oxo\n",
    "]"
   ]
  },
  {
   "cell_type": "code",
   "execution_count": 17,
   "metadata": {},
   "outputs": [
    {
     "name": "stdout",
     "output_type": "stream",
     "text": [
      "A\n",
      "B\n",
      "C\n"
     ]
    }
   ],
   "source": [
    "for txt in \"ABC\":\n",
    "    print(txt)"
   ]
  },
  {
   "cell_type": "code",
   "execution_count": 18,
   "metadata": {},
   "outputs": [
    {
     "ename": "TypeError",
     "evalue": "not all arguments converted during string formatting",
     "output_type": "error",
     "traceback": [
      "\u001b[1;31m---------------------------------------------------------------------------\u001b[0m",
      "\u001b[1;31mTypeError\u001b[0m                                 Traceback (most recent call last)",
      "\u001b[1;32mc:\\Users\\ys\\ai\\marubatsu\\030\\marubatsu.ipynb セル 18\u001b[0m line \u001b[0;36m1\n\u001b[1;32m----> <a href='vscode-notebook-cell:/c%3A/Users/ys/ai/marubatsu/030/marubatsu.ipynb#X23sZmlsZQ%3D%3D?line=0'>1</a>\u001b[0m test_judge(testcases)\n",
      "\u001b[1;32mc:\\Users\\ys\\ai\\marubatsu\\030\\marubatsu.ipynb セル 18\u001b[0m line \u001b[0;36m6\n\u001b[0;32m      <a href='vscode-notebook-cell:/c%3A/Users/ys/ai/marubatsu/030/marubatsu.ipynb#X23sZmlsZQ%3D%3D?line=3'>4</a>\u001b[0m mb \u001b[39m=\u001b[39m Marubatsu()\n\u001b[0;32m      <a href='vscode-notebook-cell:/c%3A/Users/ys/ai/marubatsu/030/marubatsu.ipynb#X23sZmlsZQ%3D%3D?line=4'>5</a>\u001b[0m \u001b[39mfor\u001b[39;00m coord \u001b[39min\u001b[39;00m testdata:\n\u001b[1;32m----> <a href='vscode-notebook-cell:/c%3A/Users/ys/ai/marubatsu/030/marubatsu.ipynb#X23sZmlsZQ%3D%3D?line=5'>6</a>\u001b[0m     x, y \u001b[39m=\u001b[39m num_to_xy(coord)\n\u001b[0;32m      <a href='vscode-notebook-cell:/c%3A/Users/ys/ai/marubatsu/030/marubatsu.ipynb#X23sZmlsZQ%3D%3D?line=6'>7</a>\u001b[0m     mb\u001b[39m.\u001b[39mmove(x, y)\n\u001b[0;32m      <a href='vscode-notebook-cell:/c%3A/Users/ys/ai/marubatsu/030/marubatsu.ipynb#X23sZmlsZQ%3D%3D?line=7'>8</a>\u001b[0m \u001b[39mprint\u001b[39m(mb)\n",
      "\u001b[1;32mc:\\Users\\ys\\ai\\marubatsu\\030\\marubatsu.ipynb セル 18\u001b[0m line \u001b[0;36m2\n\u001b[0;32m      <a href='vscode-notebook-cell:/c%3A/Users/ys/ai/marubatsu/030/marubatsu.ipynb#X23sZmlsZQ%3D%3D?line=0'>1</a>\u001b[0m \u001b[39mdef\u001b[39;00m \u001b[39mnum_to_xy\u001b[39m(coord):\n\u001b[1;32m----> <a href='vscode-notebook-cell:/c%3A/Users/ys/ai/marubatsu/030/marubatsu.ipynb#X23sZmlsZQ%3D%3D?line=1'>2</a>\u001b[0m     \u001b[39mreturn\u001b[39;00m coord \u001b[39m%\u001b[39m \u001b[39m3\u001b[39m, coord \u001b[39m/\u001b[39m\u001b[39m/\u001b[39m \u001b[39m3\u001b[39m\n",
      "\u001b[1;31mTypeError\u001b[0m: not all arguments converted during string formatting"
     ]
    }
   ],
   "source": [
    "test_judge(testcases)"
   ]
  },
  {
   "cell_type": "code",
   "execution_count": 19,
   "metadata": {},
   "outputs": [
    {
     "name": "stdout",
     "output_type": "stream",
     "text": [
      "0\n",
      "1\n",
      "2\n"
     ]
    }
   ],
   "source": [
    "for i in \"012\":\n",
    "    print(i)"
   ]
  },
  {
   "cell_type": "code",
   "execution_count": 20,
   "metadata": {},
   "outputs": [
    {
     "name": "stdout",
     "output_type": "stream",
     "text": [
      "0 <class 'str'>\n",
      "1 <class 'str'>\n",
      "2 <class 'str'>\n"
     ]
    }
   ],
   "source": [
    "for i in \"012\":\n",
    "    print(i, type(i))"
   ]
  },
  {
   "cell_type": "code",
   "execution_count": 21,
   "metadata": {},
   "outputs": [
    {
     "name": "stdout",
     "output_type": "stream",
     "text": [
      "0 <class 'int'>\n",
      "1 <class 'int'>\n",
      "2 <class 'int'>\n"
     ]
    }
   ],
   "source": [
    "for i in range(3):\n",
    "    print(i, type(i))"
   ]
  },
  {
   "cell_type": "code",
   "execution_count": 22,
   "metadata": {},
   "outputs": [],
   "source": [
    "def num_to_xy(coord):\n",
    "    coord = int(coord)\n",
    "    x = coord % 3\n",
    "    y = coord // 3\n",
    "    return x, y"
   ]
  },
  {
   "cell_type": "code",
   "execution_count": 23,
   "metadata": {},
   "outputs": [
    {
     "name": "stdout",
     "output_type": "stream",
     "text": [
      "Turn x\n",
      "ooo\n",
      "xx.\n",
      "...\n",
      "\n",
      "ok\n",
      "Turn o\n",
      "xxx\n",
      "oo.\n",
      "o..\n",
      "\n",
      "ok\n",
      "Turn x\n",
      "oox\n",
      "xxo\n",
      "oxo\n",
      "\n",
      "ok\n"
     ]
    }
   ],
   "source": [
    "test_judge(testcases)"
   ]
  },
  {
   "cell_type": "code",
   "execution_count": 24,
   "metadata": {},
   "outputs": [],
   "source": [
    "testcases = [\n",
    "    # 〇 の勝利のテストケース\n",
    "    [                      # 着手順とゲーム盤\n",
    "        \"0,3,1,4,2\",       # 123  ooo\n",
    "        Marubatsu.CIRCLE,  # 45.  xx. \n",
    "    ],                     # ...  ...\n",
    "    # × の勝利のテストケース\n",
    "    [                      # 着手順とゲーム盤\n",
    "        \"3,0,4,1,6,2\",     # 246  xxx \n",
    "        Marubatsu.CROSS,   # 13.  oo.\n",
    "    ],                     # ...  ...\n",
    "    # 引き分けのテストケース\n",
    "    [                        # 着手順とゲーム盤\n",
    "        \"0,3,1,4,5,2,6,7,8\", # 136  oox \n",
    "        Marubatsu.DRAW,      # 245  xxo\n",
    "    ],                       # 789  oxo\n",
    "]"
   ]
  },
  {
   "cell_type": "code",
   "execution_count": 25,
   "metadata": {},
   "outputs": [],
   "source": [
    "def test_judge(testcases):\n",
    "    for testcase in testcases:\n",
    "        testdata, winner = testcase\n",
    "        mb = Marubatsu()\n",
    "        for coord in testdata.split(\",\"):\n",
    "            x, y = num_to_xy(coord)\n",
    "            mb.move(x, y)\n",
    "        print(mb)\n",
    "\n",
    "        if mb.judge() == winner:\n",
    "            print(\"ok\")\n",
    "        else:\n",
    "            print(\"error!\")"
   ]
  },
  {
   "cell_type": "code",
   "execution_count": 26,
   "metadata": {},
   "outputs": [
    {
     "name": "stdout",
     "output_type": "stream",
     "text": [
      "Turn x\n",
      "ooo\n",
      "xx.\n",
      "...\n",
      "\n",
      "ok\n",
      "Turn o\n",
      "xxx\n",
      "oo.\n",
      "o..\n",
      "\n",
      "ok\n",
      "Turn x\n",
      "oox\n",
      "xxo\n",
      "oxo\n",
      "\n",
      "ok\n"
     ]
    }
   ],
   "source": [
    "test_judge(testcases)"
   ]
  },
  {
   "cell_type": "code",
   "execution_count": 27,
   "metadata": {},
   "outputs": [],
   "source": [
    "move_order = \"13524....\""
   ]
  },
  {
   "cell_type": "code",
   "execution_count": 28,
   "metadata": {},
   "outputs": [],
   "source": [
    "move_order = \"135\" + \\\n",
    "             \"24.\" + \\\n",
    "             \"...\""
   ]
  },
  {
   "cell_type": "code",
   "execution_count": 29,
   "metadata": {},
   "outputs": [],
   "source": [
    "testcases = [\n",
    "    # 〇 の勝利のテストケース\n",
    "    [                      # 着手順とゲーム盤\n",
    "        \"13524....\",       # 123  ooo\n",
    "        Marubatsu.CIRCLE,  # 45.  xx. \n",
    "    ],                     # ...  ...\n",
    "    # × の勝利のテストケース\n",
    "    [                      # 着手順とゲーム盤\n",
    "        \"24613.5..\",       # 246  xxx \n",
    "        Marubatsu.CROSS,   # 13.  oo.\n",
    "    ],                     # 5..  ...\n",
    "    # 引き分けのテストケース\n",
    "    [                      # 着手順とゲーム盤\n",
    "        \"136245789\",       # 136  oox \n",
    "        Marubatsu.DRAW,    # 245  xxo\n",
    "    ],                     # 789  oxo\n",
    "]"
   ]
  },
  {
   "cell_type": "code",
   "execution_count": 30,
   "metadata": {},
   "outputs": [
    {
     "name": "stdout",
     "output_type": "stream",
     "text": [
      "1\n",
      "(1, 0)\n"
     ]
    }
   ],
   "source": [
    "coord = move_order.index(\"3\")\n",
    "print(coord)\n",
    "print(num_to_xy(coord))"
   ]
  },
  {
   "cell_type": "code",
   "execution_count": 31,
   "metadata": {},
   "outputs": [
    {
     "ename": "TypeError",
     "evalue": "must be str, not int",
     "output_type": "error",
     "traceback": [
      "\u001b[1;31m---------------------------------------------------------------------------\u001b[0m",
      "\u001b[1;31mTypeError\u001b[0m                                 Traceback (most recent call last)",
      "\u001b[1;32mc:\\Users\\ys\\ai\\marubatsu\\030\\marubatsu.ipynb セル 31\u001b[0m line \u001b[0;36m3\n\u001b[0;32m      <a href='vscode-notebook-cell:/c%3A/Users/ys/ai/marubatsu/030/marubatsu.ipynb#X42sZmlsZQ%3D%3D?line=0'>1</a>\u001b[0m mb \u001b[39m=\u001b[39m Marubatsu()\n\u001b[0;32m      <a href='vscode-notebook-cell:/c%3A/Users/ys/ai/marubatsu/030/marubatsu.ipynb#X42sZmlsZQ%3D%3D?line=1'>2</a>\u001b[0m \u001b[39mfor\u001b[39;00m i \u001b[39min\u001b[39;00m \u001b[39mrange\u001b[39m(\u001b[39m9\u001b[39m):\n\u001b[1;32m----> <a href='vscode-notebook-cell:/c%3A/Users/ys/ai/marubatsu/030/marubatsu.ipynb#X42sZmlsZQ%3D%3D?line=2'>3</a>\u001b[0m     coord \u001b[39m=\u001b[39m move_order\u001b[39m.\u001b[39mindex(i \u001b[39m+\u001b[39m \u001b[39m1\u001b[39m)\n\u001b[0;32m      <a href='vscode-notebook-cell:/c%3A/Users/ys/ai/marubatsu/030/marubatsu.ipynb#X42sZmlsZQ%3D%3D?line=3'>4</a>\u001b[0m     x, y \u001b[39m=\u001b[39m num_to_xy(coord)\n\u001b[0;32m      <a href='vscode-notebook-cell:/c%3A/Users/ys/ai/marubatsu/030/marubatsu.ipynb#X42sZmlsZQ%3D%3D?line=4'>5</a>\u001b[0m     mb\u001b[39m.\u001b[39mmove(x, y)\n",
      "\u001b[1;31mTypeError\u001b[0m: must be str, not int"
     ]
    }
   ],
   "source": [
    "mb = Marubatsu()\n",
    "for i in range(9):\n",
    "    coord = move_order.index(i + 1)\n",
    "    x, y = num_to_xy(coord)\n",
    "    mb.move(x, y)\n",
    "    print(mb)"
   ]
  },
  {
   "cell_type": "code",
   "execution_count": 32,
   "metadata": {},
   "outputs": [
    {
     "name": "stdout",
     "output_type": "stream",
     "text": [
      "Turn x\n",
      "o..\n",
      "...\n",
      "...\n",
      "\n",
      "Turn o\n",
      "o..\n",
      "x..\n",
      "...\n",
      "\n",
      "Turn x\n",
      "oo.\n",
      "x..\n",
      "...\n",
      "\n",
      "Turn o\n",
      "oo.\n",
      "xx.\n",
      "...\n",
      "\n",
      "Turn x\n",
      "ooo\n",
      "xx.\n",
      "...\n",
      "\n"
     ]
    },
    {
     "ename": "ValueError",
     "evalue": "substring not found",
     "output_type": "error",
     "traceback": [
      "\u001b[1;31m---------------------------------------------------------------------------\u001b[0m",
      "\u001b[1;31mValueError\u001b[0m                                Traceback (most recent call last)",
      "\u001b[1;32mc:\\Users\\ys\\ai\\marubatsu\\030\\marubatsu.ipynb セル 32\u001b[0m line \u001b[0;36m3\n\u001b[0;32m      <a href='vscode-notebook-cell:/c%3A/Users/ys/ai/marubatsu/030/marubatsu.ipynb#X43sZmlsZQ%3D%3D?line=0'>1</a>\u001b[0m mb \u001b[39m=\u001b[39m Marubatsu()\n\u001b[0;32m      <a href='vscode-notebook-cell:/c%3A/Users/ys/ai/marubatsu/030/marubatsu.ipynb#X43sZmlsZQ%3D%3D?line=1'>2</a>\u001b[0m \u001b[39mfor\u001b[39;00m i \u001b[39min\u001b[39;00m \u001b[39mrange\u001b[39m(\u001b[39m1\u001b[39m, \u001b[39m10\u001b[39m):\n\u001b[1;32m----> <a href='vscode-notebook-cell:/c%3A/Users/ys/ai/marubatsu/030/marubatsu.ipynb#X43sZmlsZQ%3D%3D?line=2'>3</a>\u001b[0m     coord \u001b[39m=\u001b[39m move_order\u001b[39m.\u001b[39mindex(\u001b[39mstr\u001b[39m(i))\n\u001b[0;32m      <a href='vscode-notebook-cell:/c%3A/Users/ys/ai/marubatsu/030/marubatsu.ipynb#X43sZmlsZQ%3D%3D?line=3'>4</a>\u001b[0m     x, y \u001b[39m=\u001b[39m num_to_xy(coord)\n\u001b[0;32m      <a href='vscode-notebook-cell:/c%3A/Users/ys/ai/marubatsu/030/marubatsu.ipynb#X43sZmlsZQ%3D%3D?line=4'>5</a>\u001b[0m     mb\u001b[39m.\u001b[39mmove(x, y)\n",
      "\u001b[1;31mValueError\u001b[0m: substring not found"
     ]
    }
   ],
   "source": [
    "mb = Marubatsu()\n",
    "for i in range(1, 10):\n",
    "    coord = move_order.index(str(i))\n",
    "    x, y = num_to_xy(coord)\n",
    "    mb.move(x, y)\n",
    "    print(mb)"
   ]
  },
  {
   "cell_type": "code",
   "execution_count": 33,
   "metadata": {},
   "outputs": [
    {
     "name": "stdout",
     "output_type": "stream",
     "text": [
      "0\n",
      "1\n",
      "2\n",
      "3\n",
      "4\n"
     ]
    }
   ],
   "source": [
    "for i in range(10):\n",
    "    if i == 5:\n",
    "        break\n",
    "    print(i)"
   ]
  },
  {
   "cell_type": "code",
   "execution_count": 34,
   "metadata": {},
   "outputs": [
    {
     "name": "stdout",
     "output_type": "stream",
     "text": [
      "1\n",
      "3\n",
      "5\n",
      "7\n",
      "9\n"
     ]
    }
   ],
   "source": [
    "for i in range(10):\n",
    "    if i % 2 == 0:\n",
    "        continue\n",
    "    print(i)"
   ]
  },
  {
   "cell_type": "code",
   "execution_count": 35,
   "metadata": {},
   "outputs": [
    {
     "name": "stdout",
     "output_type": "stream",
     "text": [
      "Turn x\n",
      "o..\n",
      "...\n",
      "...\n",
      "\n",
      "Turn o\n",
      "o..\n",
      "x..\n",
      "...\n",
      "\n",
      "Turn x\n",
      "oo.\n",
      "x..\n",
      "...\n",
      "\n",
      "Turn o\n",
      "oo.\n",
      "xx.\n",
      "...\n",
      "\n",
      "Turn x\n",
      "ooo\n",
      "xx.\n",
      "...\n",
      "\n"
     ]
    }
   ],
   "source": [
    "mb = Marubatsu()\n",
    "for i in range(1, 10):\n",
    "    if str(i) not in move_order:\n",
    "        break\n",
    "    coord = move_order.index(str(i))\n",
    "    x, y = num_to_xy(coord)\n",
    "    mb.move(x, y)\n",
    "    print(mb)"
   ]
  },
  {
   "cell_type": "code",
   "execution_count": 36,
   "metadata": {},
   "outputs": [],
   "source": [
    "def test_judge(testcases):\n",
    "    for testcase in testcases:\n",
    "        move_order, winner = testcase\n",
    "        mb = Marubatsu()\n",
    "        for i in range(1, 10):\n",
    "            if str(i) not in move_order:\n",
    "                break\n",
    "            coord = move_order.index(str(i))\n",
    "            x, y = num_to_xy(coord)\n",
    "            mb.move(x, y)\n",
    "        print(mb)\n",
    " \n",
    "        if mb.judge() == winner:\n",
    "            print(\"ok\")\n",
    "        else:\n",
    "            print(\"error!\")"
   ]
  },
  {
   "cell_type": "code",
   "execution_count": 37,
   "metadata": {},
   "outputs": [
    {
     "name": "stdout",
     "output_type": "stream",
     "text": [
      "Turn x\n",
      "ooo\n",
      "xx.\n",
      "...\n",
      "\n",
      "ok\n",
      "Turn o\n",
      "xxx\n",
      "oo.\n",
      "o..\n",
      "\n",
      "ok\n",
      "Turn x\n",
      "oox\n",
      "xxo\n",
      "oxo\n",
      "\n",
      "ok\n"
     ]
    }
   ],
   "source": [
    "test_judge(testcases)"
   ]
  },
  {
   "cell_type": "code",
   "execution_count": 38,
   "metadata": {},
   "outputs": [],
   "source": [
    "testcases = [\n",
    "    # 〇 の勝利のテストケース\n",
    "    [                        # 着手順とゲーム盤\n",
    "        \"1,3,5,2,4,.,.,.,.\", # 123  ooo\n",
    "        Marubatsu.CIRCLE,    # 45.  xx. \n",
    "    ],                       # ...  ...\n",
    "    # × の勝利のテストケース\n",
    "    [                        # 着手順とゲーム盤\n",
    "        \"2,4,6,1,3,.,5,.,.\", # 246  xxx \n",
    "        Marubatsu.CROSS,     # 13.  oo.\n",
    "    ],                       # 5..  ...\n",
    "    # 引き分けのテストケース\n",
    "    [                        # 着手順とゲーム盤\n",
    "        \"1,3,6,2,4,5,7,8,9\", # 136  oox \n",
    "        Marubatsu.DRAW,      # 245  xxo\n",
    "    ],                       # 789  oxo\n",
    "]"
   ]
  },
  {
   "cell_type": "code",
   "execution_count": 39,
   "metadata": {},
   "outputs": [],
   "source": [
    "def test_judge(testcases):\n",
    "    for testcase in testcases:\n",
    "        move_order, winner = testcase\n",
    "        move_order = move_order.split(\",\")\n",
    "        mb = Marubatsu()\n",
    "        for i in range(1, 10):\n",
    "            if str(i) not in move_order:\n",
    "                break\n",
    "            coord = move_order.index(str(i))\n",
    "            x, y = num_to_xy(coord)\n",
    "            mb.move(x, y)\n",
    "        print(mb)\n",
    " \n",
    "        if mb.judge() == winner:\n",
    "            print(\"ok\")\n",
    "        else:\n",
    "            print(\"error!\")"
   ]
  },
  {
   "cell_type": "code",
   "execution_count": 40,
   "metadata": {},
   "outputs": [
    {
     "name": "stdout",
     "output_type": "stream",
     "text": [
      "Turn x\n",
      "ooo\n",
      "xx.\n",
      "...\n",
      "\n",
      "ok\n",
      "Turn o\n",
      "xxx\n",
      "oo.\n",
      "o..\n",
      "\n",
      "ok\n",
      "Turn x\n",
      "oox\n",
      "xxo\n",
      "oxo\n",
      "\n",
      "ok\n"
     ]
    }
   ],
   "source": [
    "test_judge(testcases)"
   ]
  },
  {
   "cell_type": "code",
   "execution_count": 41,
   "metadata": {},
   "outputs": [],
   "source": [
    "testcases = [\n",
    "    # 〇 の勝利のテストケース\n",
    "    [                        # 着手順とゲーム盤\n",
    "        [1,3,5,2,4,0,0,0,0], # 123  ooo\n",
    "        Marubatsu.CIRCLE,    # 45.  xx. \n",
    "    ],                       # ...  ...\n",
    "    # × の勝利のテストケース\n",
    "    [                        # 着手順とゲーム盤\n",
    "        [2,4,6,1,3,0,5,0,0], # 246  xxx \n",
    "        Marubatsu.CROSS,     # 13.  oo.\n",
    "    ],                       # 5..  ...\n",
    "    # 引き分けのテストケース\n",
    "    [                        # 着手順とゲーム盤\n",
    "        [1,3,6,2,4,5,7,8,9], # 136  oox \n",
    "        Marubatsu.DRAW,      # 245  xxo\n",
    "    ],                       # 789  oxo\n",
    "]"
   ]
  },
  {
   "cell_type": "code",
   "execution_count": 42,
   "metadata": {},
   "outputs": [],
   "source": [
    "def test_judge(testcases):\n",
    "    for testcase in testcases:\n",
    "        move_order, winner = testcase\n",
    "        mb = Marubatsu()\n",
    "        for i in range(1, 10):\n",
    "            if i not in move_order:\n",
    "                break\n",
    "            coord = move_order.index(i)\n",
    "            x, y = num_to_xy(coord)\n",
    "            mb.move(x, y)\n",
    "        print(mb)\n",
    " \n",
    "        if mb.judge() == winner:\n",
    "            print(\"ok\")\n",
    "        else:\n",
    "            print(\"error!\")"
   ]
  },
  {
   "cell_type": "code",
   "execution_count": 43,
   "metadata": {},
   "outputs": [
    {
     "name": "stdout",
     "output_type": "stream",
     "text": [
      "Turn x\n",
      "ooo\n",
      "xx.\n",
      "...\n",
      "\n",
      "ok\n",
      "Turn o\n",
      "xxx\n",
      "oo.\n",
      "o..\n",
      "\n",
      "ok\n",
      "Turn x\n",
      "oox\n",
      "xxo\n",
      "oxo\n",
      "\n",
      "ok\n"
     ]
    }
   ],
   "source": [
    "test_judge(testcases)"
   ]
  }
 ],
 "metadata": {
  "kernelspec": {
   "display_name": "marubatsu",
   "language": "python",
   "name": "python3"
  },
  "language_info": {
   "codemirror_mode": {
    "name": "ipython",
    "version": 3
   },
   "file_extension": ".py",
   "mimetype": "text/x-python",
   "name": "python",
   "nbconvert_exporter": "python",
   "pygments_lexer": "ipython3",
   "version": "3.11.4"
  }
 },
 "nbformat": 4,
 "nbformat_minor": 2
}
