{
 "cells": [
  {
   "cell_type": "code",
   "execution_count": 1,
   "metadata": {},
   "outputs": [],
   "source": [
    "def f():\n",
    "    f()"
   ]
  },
  {
   "cell_type": "code",
   "execution_count": 2,
   "metadata": {},
   "outputs": [],
   "source": [
    "def g():\n",
    "    h()\n",
    "\n",
    "def h():\n",
    "    g()"
   ]
  },
  {
   "cell_type": "code",
   "execution_count": 3,
   "metadata": {},
   "outputs": [
    {
     "name": "stdout",
     "output_type": "stream",
     "text": [
      "45\n"
     ]
    }
   ],
   "source": [
    "total = 0\n",
    "for i in range(0, 10, 1):\n",
    "    total += i\n",
    "\n",
    "print(total)"
   ]
  },
  {
   "cell_type": "code",
   "execution_count": 4,
   "metadata": {},
   "outputs": [
    {
     "name": "stdout",
     "output_type": "stream",
     "text": [
      "45\n"
     ]
    }
   ],
   "source": [
    "total = 0\n",
    "i = 0\n",
    "while i < 10:\n",
    "    total += i\n",
    "    i += 1\n",
    "\n",
    "print(total)"
   ]
  },
  {
   "cell_type": "code",
   "execution_count": 5,
   "metadata": {},
   "outputs": [
    {
     "name": "stdout",
     "output_type": "stream",
     "text": [
      "45\n"
     ]
    }
   ],
   "source": [
    "total = 0\n",
    "iterator = iter(range(0, 10, 1))\n",
    "while True:\n",
    "    try:\n",
    "        i = next(iterator)\n",
    "        total += i\n",
    "    except:\n",
    "        break\n",
    "    \n",
    "print(total)"
   ]
  },
  {
   "cell_type": "code",
   "execution_count": 6,
   "metadata": {},
   "outputs": [
    {
     "ename": "RecursionError",
     "evalue": "maximum recursion depth exceeded",
     "output_type": "error",
     "traceback": [
      "\u001b[1;31m---------------------------------------------------------------------------\u001b[0m",
      "\u001b[1;31mRecursionError\u001b[0m                            Traceback (most recent call last)",
      "Cell \u001b[1;32mIn[6], line 1\u001b[0m\n\u001b[1;32m----> 1\u001b[0m f()\n",
      "Cell \u001b[1;32mIn[1], line 2\u001b[0m, in \u001b[0;36mf\u001b[1;34m()\u001b[0m\n\u001b[0;32m      1\u001b[0m \u001b[38;5;28;01mdef\u001b[39;00m \u001b[38;5;21mf\u001b[39m():\n\u001b[1;32m----> 2\u001b[0m     f()\n",
      "Cell \u001b[1;32mIn[1], line 2\u001b[0m, in \u001b[0;36mf\u001b[1;34m()\u001b[0m\n\u001b[0;32m      1\u001b[0m \u001b[38;5;28;01mdef\u001b[39;00m \u001b[38;5;21mf\u001b[39m():\n\u001b[1;32m----> 2\u001b[0m     f()\n",
      "    \u001b[1;31m[... skipping similar frames: f at line 2 (2971 times)]\u001b[0m\n",
      "Cell \u001b[1;32mIn[1], line 2\u001b[0m, in \u001b[0;36mf\u001b[1;34m()\u001b[0m\n\u001b[0;32m      1\u001b[0m \u001b[38;5;28;01mdef\u001b[39;00m \u001b[38;5;21mf\u001b[39m():\n\u001b[1;32m----> 2\u001b[0m     f()\n",
      "\u001b[1;31mRecursionError\u001b[0m: maximum recursion depth exceeded"
     ]
    }
   ],
   "source": [
    "f()"
   ]
  },
  {
   "cell_type": "code",
   "execution_count": 7,
   "metadata": {},
   "outputs": [
    {
     "ename": "RecursionError",
     "evalue": "maximum recursion depth exceeded",
     "output_type": "error",
     "traceback": [
      "\u001b[1;31m---------------------------------------------------------------------------\u001b[0m",
      "\u001b[1;31mRecursionError\u001b[0m                            Traceback (most recent call last)",
      "Cell \u001b[1;32mIn[7], line 1\u001b[0m\n\u001b[1;32m----> 1\u001b[0m g()\n",
      "Cell \u001b[1;32mIn[2], line 2\u001b[0m, in \u001b[0;36mg\u001b[1;34m()\u001b[0m\n\u001b[0;32m      1\u001b[0m \u001b[38;5;28;01mdef\u001b[39;00m \u001b[38;5;21mg\u001b[39m():\n\u001b[1;32m----> 2\u001b[0m     h()\n",
      "Cell \u001b[1;32mIn[2], line 5\u001b[0m, in \u001b[0;36mh\u001b[1;34m()\u001b[0m\n\u001b[0;32m      4\u001b[0m \u001b[38;5;28;01mdef\u001b[39;00m \u001b[38;5;21mh\u001b[39m():\n\u001b[1;32m----> 5\u001b[0m     g()\n",
      "Cell \u001b[1;32mIn[2], line 2\u001b[0m, in \u001b[0;36mg\u001b[1;34m()\u001b[0m\n\u001b[0;32m      1\u001b[0m \u001b[38;5;28;01mdef\u001b[39;00m \u001b[38;5;21mg\u001b[39m():\n\u001b[1;32m----> 2\u001b[0m     h()\n",
      "Cell \u001b[1;32mIn[2], line 5\u001b[0m, in \u001b[0;36mh\u001b[1;34m()\u001b[0m\n\u001b[0;32m      4\u001b[0m \u001b[38;5;28;01mdef\u001b[39;00m \u001b[38;5;21mh\u001b[39m():\n\u001b[1;32m----> 5\u001b[0m     g()\n",
      "    \u001b[1;31m[... skipping similar frames: g at line 2 (1484 times), h at line 5 (1484 times)]\u001b[0m\n",
      "Cell \u001b[1;32mIn[2], line 2\u001b[0m, in \u001b[0;36mg\u001b[1;34m()\u001b[0m\n\u001b[0;32m      1\u001b[0m \u001b[38;5;28;01mdef\u001b[39;00m \u001b[38;5;21mg\u001b[39m():\n\u001b[1;32m----> 2\u001b[0m     h()\n",
      "Cell \u001b[1;32mIn[2], line 5\u001b[0m, in \u001b[0;36mh\u001b[1;34m()\u001b[0m\n\u001b[0;32m      4\u001b[0m \u001b[38;5;28;01mdef\u001b[39;00m \u001b[38;5;21mh\u001b[39m():\n\u001b[1;32m----> 5\u001b[0m     g()\n",
      "\u001b[1;31mRecursionError\u001b[0m: maximum recursion depth exceeded"
     ]
    }
   ],
   "source": [
    "g()"
   ]
  },
  {
   "cell_type": "code",
   "execution_count": 8,
   "metadata": {},
   "outputs": [
    {
     "name": "stdout",
     "output_type": "stream",
     "text": [
      "45\n"
     ]
    }
   ],
   "source": [
    "def sum9(i, total):\n",
    "    if i < 10:\n",
    "        total += i\n",
    "        i += 1\n",
    "        return sum9(i, total)\n",
    "    else:\n",
    "        return total\n",
    "\n",
    "print(sum9(i=0, total=0))"
   ]
  },
  {
   "cell_type": "code",
   "execution_count": 9,
   "metadata": {},
   "outputs": [
    {
     "name": "stdout",
     "output_type": "stream",
     "text": [
      " 1 回目の sum9 の呼び出し。i =  0, total =  0\n",
      " 2 回目の sum9 の呼び出し。i =  1, total =  0\n",
      " 3 回目の sum9 の呼び出し。i =  2, total =  1\n",
      " 4 回目の sum9 の呼び出し。i =  3, total =  3\n",
      " 5 回目の sum9 の呼び出し。i =  4, total =  6\n",
      " 6 回目の sum9 の呼び出し。i =  5, total = 10\n",
      " 7 回目の sum9 の呼び出し。i =  6, total = 15\n",
      " 8 回目の sum9 の呼び出し。i =  7, total = 21\n",
      " 9 回目の sum9 の呼び出し。i =  8, total = 28\n",
      "10 回目の sum9 の呼び出し。i =  9, total = 36\n",
      "11 回目の sum9 の呼び出し。i = 10, total = 45\n",
      "11 回目の sum9 の返り値 45\n",
      "10 回目の sum9 の返り値 45\n",
      " 9 回目の sum9 の返り値 45\n",
      " 8 回目の sum9 の返り値 45\n",
      " 7 回目の sum9 の返り値 45\n",
      " 6 回目の sum9 の返り値 45\n",
      " 5 回目の sum9 の返り値 45\n",
      " 4 回目の sum9 の返り値 45\n",
      " 3 回目の sum9 の返り値 45\n",
      " 2 回目の sum9 の返り値 45\n",
      " 1 回目の sum9 の返り値 45\n",
      "45\n"
     ]
    }
   ],
   "source": [
    "def sum9(i, total):\n",
    "    count = i + 1\n",
    "    print(f\"{count:2} 回目の sum9 の呼び出し。i = {i:2}, total = {total:2}\")\n",
    "    if i < 10:\n",
    "        total += i\n",
    "        i += 1\n",
    "        retval = sum9(i, total)\n",
    "        print(f\"{count:2} 回目の sum9 の返り値 {retval}\")\n",
    "        return retval\n",
    "    else:\n",
    "        print(f\"{count:2} 回目の sum9 の返り値 {total}\")\n",
    "        return total\n",
    "\n",
    "print(sum9(i=0, total=0))"
   ]
  },
  {
   "cell_type": "code",
   "execution_count": 10,
   "metadata": {},
   "outputs": [
    {
     "name": "stdout",
     "output_type": "stream",
     "text": [
      " 1 回目の呼び出し。i =  0, l = []\n",
      " 2 回目の呼び出し。i =  1, l = [0]\n",
      " 3 回目の呼び出し。i =  2, l = [0, 1]\n",
      " 4 回目の呼び出し。i =  3, l = [0, 1, 2]\n",
      " 5 回目の呼び出し。i =  4, l = [0, 1, 2, 3]\n",
      " 6 回目の呼び出し。i =  5, l = [0, 1, 2, 3, 4]\n",
      " 7 回目の呼び出し。i =  6, l = [0, 1, 2, 3, 4, 5]\n",
      " 8 回目の呼び出し。i =  7, l = [0, 1, 2, 3, 4, 5, 6]\n",
      " 9 回目の呼び出し。i =  8, l = [0, 1, 2, 3, 4, 5, 6, 7]\n",
      "10 回目の呼び出し。i =  9, l = [0, 1, 2, 3, 4, 5, 6, 7, 8]\n",
      "11 回目の呼び出し。i = 10, l = [0, 1, 2, 3, 4, 5, 6, 7, 8, 9]\n",
      "11 回目の呼び出しの終了\n",
      "10 回目の呼び出しの終了\n",
      " 9 回目の呼び出しの終了\n",
      " 8 回目の呼び出しの終了\n",
      " 7 回目の呼び出しの終了\n",
      " 6 回目の呼び出しの終了\n",
      " 5 回目の呼び出しの終了\n",
      " 4 回目の呼び出しの終了\n",
      " 3 回目の呼び出しの終了\n",
      " 2 回目の呼び出しの終了\n",
      " 1 回目の呼び出しの終了\n",
      "[0, 1, 2, 3, 4, 5, 6, 7, 8, 9]\n"
     ]
    }
   ],
   "source": [
    "def create_list(i, l, maxi):\n",
    "    count = i + 1\n",
    "    print(f\"{count:2} 回目の呼び出し。i = {i:2}, l = {l}\")\n",
    "    if i < maxi:\n",
    "        l.append(i)\n",
    "        i += 1\n",
    "        create_list(i, l, maxi)\n",
    "\n",
    "    print(f\"{count:2} 回目の呼び出しの終了\")\n",
    "        \n",
    "a = []\n",
    "create_list(0, a, 10)\n",
    "print(a)"
   ]
  },
  {
   "cell_type": "code",
   "execution_count": 11,
   "metadata": {},
   "outputs": [
    {
     "name": "stdout",
     "output_type": "stream",
     "text": [
      " 1 回目の呼び出し。i =  0, l = []\n",
      " 2 回目の呼び出し。i =  1, l = [0]\n",
      " 3 回目の呼び出し。i =  2, l = [0, 1]\n",
      " 4 回目の呼び出し。i =  3, l = [0, 1, 2]\n",
      " 5 回目の呼び出し。i =  4, l = [0, 1, 2, 3]\n",
      " 6 回目の呼び出し。i =  5, l = [0, 1, 2, 3, 4]\n",
      " 7 回目の呼び出し。i =  6, l = [0, 1, 2, 3, 4, 5]\n",
      " 8 回目の呼び出し。i =  7, l = [0, 1, 2, 3, 4, 5, 6]\n",
      " 9 回目の呼び出し。i =  8, l = [0, 1, 2, 3, 4, 5, 6, 7]\n",
      "10 回目の呼び出し。i =  9, l = [0, 1, 2, 3, 4, 5, 6, 7, 8]\n",
      "11 回目の呼び出し。i = 10, l = [0, 1, 2, 3, 4, 5, 6, 7, 8, 9]\n",
      "11 回目の返り値 [0, 1, 2, 3, 4, 5, 6, 7, 8, 9]\n",
      "10 回目の返り値 [0, 1, 2, 3, 4, 5, 6, 7, 8, 9]\n",
      " 9 回目の返り値 [0, 1, 2, 3, 4, 5, 6, 7, 8, 9]\n",
      " 8 回目の返り値 [0, 1, 2, 3, 4, 5, 6, 7, 8, 9]\n",
      " 7 回目の返り値 [0, 1, 2, 3, 4, 5, 6, 7, 8, 9]\n",
      " 6 回目の返り値 [0, 1, 2, 3, 4, 5, 6, 7, 8, 9]\n",
      " 5 回目の返り値 [0, 1, 2, 3, 4, 5, 6, 7, 8, 9]\n",
      " 4 回目の返り値 [0, 1, 2, 3, 4, 5, 6, 7, 8, 9]\n",
      " 3 回目の返り値 [0, 1, 2, 3, 4, 5, 6, 7, 8, 9]\n",
      " 2 回目の返り値 [0, 1, 2, 3, 4, 5, 6, 7, 8, 9]\n",
      " 1 回目の返り値 [0, 1, 2, 3, 4, 5, 6, 7, 8, 9]\n",
      "[0, 1, 2, 3, 4, 5, 6, 7, 8, 9]\n"
     ]
    }
   ],
   "source": [
    "def create_list(i, l, maxi):\n",
    "    count = i + 1\n",
    "    print(f\"{count:2} 回目の呼び出し。i = {i:2}, l = {l}\")\n",
    "    if i < maxi:\n",
    "        l.append(i)\n",
    "        i += 1\n",
    "        retval = create_list(i, l, maxi)\n",
    "        print(f\"{count:2} 回目の返り値 {retval}\")\n",
    "        return retval\n",
    "    else:\n",
    "        print(f\"{count:2} 回目の返り値 {l}\")\n",
    "        return l\n",
    "        \n",
    "print(create_list(0, [], 10))"
   ]
  },
  {
   "cell_type": "code",
   "execution_count": 12,
   "metadata": {},
   "outputs": [
    {
     "name": "stdout",
     "output_type": "stream",
     "text": [
      "45\n",
      "45\n"
     ]
    }
   ],
   "source": [
    "# for 文による 0 ~ 9 までの合計を計算するプログラム\n",
    "total = 0 \n",
    "for i in range(10):\n",
    "    total += i\n",
    "\n",
    "print(total)\n",
    "\n",
    "# 再帰呼び出しによる 0 ~ 9 までの合計を計算するプログラム\n",
    "def sum9(i, total):\n",
    "    if i < 10:\n",
    "        total += i\n",
    "        i += 1\n",
    "        return sum9(i, total)\n",
    "    else:\n",
    "        return total\n",
    "\n",
    "print(sum9(i=0, total=0))"
   ]
  },
  {
   "cell_type": "code",
   "execution_count": 13,
   "metadata": {},
   "outputs": [
    {
     "name": "stdout",
     "output_type": "stream",
     "text": [
      "361 ns ± 1.16 ns per loop (mean ± std. dev. of 7 runs, 1,000,000 loops each)\n"
     ]
    }
   ],
   "source": [
    "%%timeit\n",
    "total = 0 \n",
    "for i in range(10):\n",
    "    total += i"
   ]
  },
  {
   "cell_type": "code",
   "execution_count": 14,
   "metadata": {},
   "outputs": [
    {
     "name": "stdout",
     "output_type": "stream",
     "text": [
      "805 ns ± 2.76 ns per loop (mean ± std. dev. of 7 runs, 1,000,000 loops each)\n"
     ]
    }
   ],
   "source": [
    "%%timeit\n",
    "sum9(0, 0)"
   ]
  }
 ],
 "metadata": {
  "kernelspec": {
   "display_name": "marubatsu",
   "language": "python",
   "name": "python3"
  },
  "language_info": {
   "codemirror_mode": {
    "name": "ipython",
    "version": 3
   },
   "file_extension": ".py",
   "mimetype": "text/x-python",
   "name": "python",
   "nbconvert_exporter": "python",
   "pygments_lexer": "ipython3",
   "version": "3.11.4"
  }
 },
 "nbformat": 4,
 "nbformat_minor": 2
}
