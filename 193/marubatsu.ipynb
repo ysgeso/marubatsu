{
 "cells": [
  {
   "cell_type": "code",
   "execution_count": 1,
   "id": "cd9728f3",
   "metadata": {},
   "outputs": [],
   "source": [
    "from marubatsu import Marubatsu, ListBoard\n",
    "\n",
    "def __init__(self, board_size=3, count_linemark=False):\n",
    "    self.BOARD_SIZE = board_size\n",
    "    self.count_linemark = count_linemark\n",
    "    self.board = [[Marubatsu.EMPTY] * self.BOARD_SIZE for y in range(self.BOARD_SIZE)]\n",
    "    if self.count_linemark:\n",
    "        self.rowcount = {\n",
    "            Marubatsu.CIRCLE: [0] * self.BOARD_SIZE,\n",
    "            Marubatsu.CROSS: [0] * self.BOARD_SIZE,\n",
    "        }\n",
    "        self.colcount = {\n",
    "            Marubatsu.CIRCLE: [0] * self.BOARD_SIZE,\n",
    "            Marubatsu.CROSS: [0] * self.BOARD_SIZE,\n",
    "        }\n",
    "        self.diacount = {\n",
    "            Marubatsu.CIRCLE: [0] * 2,\n",
    "            Marubatsu.CROSS: [0] * 2,\n",
    "        }\n",
    "        \n",
    "ListBoard.__init__  = __init__"
   ]
  },
  {
   "cell_type": "code",
   "execution_count": 2,
   "id": "96732c4f",
   "metadata": {},
   "outputs": [],
   "source": [
    "def setmark(self, x, y, mark):\n",
    "    if self.count_linemark:\n",
    "        if mark != Marubatsu.EMPTY:\n",
    "            diff = 1\n",
    "            countmark = mark\n",
    "        else:\n",
    "            diff = -1\n",
    "            countmark = self.board[x][y]\n",
    "        self.colcount[countmark][x] += diff\n",
    "        self.rowcount[countmark][y] += diff\n",
    "        if x == y:\n",
    "            self.diacount[countmark][0] += diff\n",
    "        if x + y == self.BOARD_SIZE - 1:\n",
    "            self.diacount[countmark][1] += diff\n",
    "    self.board[x][y] = mark\n",
    "\n",
    "ListBoard.setmark = setmark"
   ]
  },
  {
   "cell_type": "code",
   "execution_count": 3,
   "id": "bf606f86",
   "metadata": {},
   "outputs": [],
   "source": [
    "def judge(self, last_turn, last_move, move_count):\n",
    "    if move_count < self.BOARD_SIZE * 2 - 1:\n",
    "        return Marubatsu.PLAYING\n",
    "    # 直前に着手を行ったプレイヤーの勝利の判定\n",
    "    if self.is_winner(last_turn, last_move):\n",
    "        return last_turn\n",
    "    # 引き分けの判定\n",
    "    elif move_count == self.BOARD_SIZE ** 2:\n",
    "        return Marubatsu.DRAW\n",
    "    # 上記のどれでもなければ決着がついていない\n",
    "    else:\n",
    "        return Marubatsu.PLAYING   \n",
    "\n",
    "ListBoard.judge = judge"
   ]
  },
  {
   "cell_type": "code",
   "execution_count": 4,
   "id": "cbf2aab2",
   "metadata": {},
   "outputs": [],
   "source": [
    "def is_winner(self, player, last_move):\n",
    "    x, y = last_move\n",
    "    if self.count_linemark:\n",
    "        if self.rowcount[player][y] == self.BOARD_SIZE or \\\n",
    "        self.colcount[player][x] == self.BOARD_SIZE:\n",
    "            return True\n",
    "        # 左上から右下方向の判定\n",
    "        if x == y and self.diacount[player][0] == self.BOARD_SIZE:\n",
    "            return True\n",
    "        # 右上から左下方向の判定\n",
    "        if x + y == self.BOARD_SIZE - 1 and \\\n",
    "            self.diacount[player][1] == self.BOARD_SIZE:\n",
    "            return True\n",
    "    else:\n",
    "        if self.is_same(player, coord=[0, y], dx=1, dy=0) or \\\n",
    "        self.is_same(player, coord=[x, 0], dx=0, dy=1):\n",
    "            return True\n",
    "        # 左上から右下方向の判定\n",
    "        if x == y and self.is_same(player, coord=[0, 0], dx=1, dy=1):\n",
    "            return True\n",
    "        # 右上から左下方向の判定\n",
    "        if x + y == self.BOARD_SIZE - 1 and \\\n",
    "            self.is_same(player, coord=[self.BOARD_SIZE - 1, 0], dx=-1, dy=1):\n",
    "            return True\n",
    "    \n",
    "    # どの一直線上にも配置されていない場合は、player は勝利していないので False を返す\n",
    "    return False\n",
    "\n",
    "ListBoard.is_winner = is_winner"
   ]
  },
  {
   "cell_type": "code",
   "execution_count": 5,
   "id": "7329e40c",
   "metadata": {},
   "outputs": [],
   "source": [
    "def is_same(self, mark, coord, dx, dy):   \n",
    "    x, y = coord\n",
    "    text_list = [self.getmark(x + i * dx, y + i * dy)  \n",
    "                    for i in range(self.BOARD_SIZE)]\n",
    "    line_text = \"\".join(text_list)\n",
    "    return line_text == mark * self.BOARD_SIZE\n",
    "\n",
    "ListBoard.is_same = is_same"
   ]
  },
  {
   "cell_type": "code",
   "execution_count": 6,
   "id": "ab97ae58",
   "metadata": {},
   "outputs": [
    {
     "name": "stdout",
     "output_type": "stream",
     "text": [
      "(0, 0) に o を着手\n",
      "[['o', '.', '.'], ['.', '.', '.'], ['.', '.', '.']]\n",
      "playing\n",
      "\n",
      "(1, 1) に x を着手\n",
      "[['o', '.', '.'], ['.', 'x', '.'], ['.', '.', '.']]\n",
      "playing\n",
      "\n",
      "(1, 0) に o を着手\n",
      "[['o', '.', '.'], ['o', 'x', '.'], ['.', '.', '.']]\n",
      "playing\n",
      "\n",
      "(2, 2) に x を着手\n",
      "[['o', '.', '.'], ['o', 'x', '.'], ['.', '.', 'x']]\n",
      "playing\n",
      "\n",
      "(2, 0) に o を着手\n",
      "[['o', '.', '.'], ['o', 'x', '.'], ['o', '.', 'x']]\n",
      "o\n",
      "\n"
     ]
    }
   ],
   "source": [
    "lb = ListBoard(count_linemark=False)\n",
    "movelist = [(0, 0), (1, 1), (1, 0), (2, 2), (2, 0)]\n",
    "turn = Marubatsu.CIRCLE\n",
    "move_count = 0\n",
    "for x, y in movelist:\n",
    "    print(f\"({x}, {y}) に {turn} を着手\")\n",
    "    lb.setmark(x, y, turn)\n",
    "    move_count += 1\n",
    "    last_move = (x, y)\n",
    "    last_turn = turn\n",
    "    turn = Marubatsu.CROSS if turn == Marubatsu.CIRCLE else Marubatsu.CIRCLE\n",
    "    print(lb.board)\n",
    "    print(lb.judge(last_turn, last_move, move_count))\n",
    "    print()"
   ]
  },
  {
   "cell_type": "code",
   "execution_count": 7,
   "id": "bc8cc21a",
   "metadata": {},
   "outputs": [
    {
     "name": "stdout",
     "output_type": "stream",
     "text": [
      "(0, 0) に o を着手\n",
      "[['o', '.', '.'], ['.', '.', '.'], ['.', '.', '.']]\n",
      "行 {'o': [1, 0, 0], 'x': [0, 0, 0]}\n",
      "列 {'o': [1, 0, 0], 'x': [0, 0, 0]}\n",
      "斜め {'o': [1, 0], 'x': [0, 0]}\n",
      "playing\n",
      "\n",
      "(1, 1) に x を着手\n",
      "[['o', '.', '.'], ['.', 'x', '.'], ['.', '.', '.']]\n",
      "行 {'o': [1, 0, 0], 'x': [0, 1, 0]}\n",
      "列 {'o': [1, 0, 0], 'x': [0, 1, 0]}\n",
      "斜め {'o': [1, 0], 'x': [1, 1]}\n",
      "playing\n",
      "\n",
      "(1, 0) に o を着手\n",
      "[['o', '.', '.'], ['o', 'x', '.'], ['.', '.', '.']]\n",
      "行 {'o': [2, 0, 0], 'x': [0, 1, 0]}\n",
      "列 {'o': [1, 1, 0], 'x': [0, 1, 0]}\n",
      "斜め {'o': [1, 0], 'x': [1, 1]}\n",
      "playing\n",
      "\n",
      "(2, 2) に x を着手\n",
      "[['o', '.', '.'], ['o', 'x', '.'], ['.', '.', 'x']]\n",
      "行 {'o': [2, 0, 0], 'x': [0, 1, 1]}\n",
      "列 {'o': [1, 1, 0], 'x': [0, 1, 1]}\n",
      "斜め {'o': [1, 0], 'x': [2, 1]}\n",
      "playing\n",
      "\n",
      "(2, 0) に o を着手\n",
      "[['o', '.', '.'], ['o', 'x', '.'], ['o', '.', 'x']]\n",
      "行 {'o': [3, 0, 0], 'x': [0, 1, 1]}\n",
      "列 {'o': [1, 1, 1], 'x': [0, 1, 1]}\n",
      "斜め {'o': [1, 1], 'x': [2, 1]}\n",
      "o\n",
      "\n"
     ]
    }
   ],
   "source": [
    "lb = ListBoard(count_linemark=True)\n",
    "movelist = [(0, 0), (1, 1), (1, 0), (2, 2), (2, 0)]\n",
    "turn = Marubatsu.CIRCLE\n",
    "move_count = 0\n",
    "for x, y in movelist:\n",
    "    print(f\"({x}, {y}) に {turn} を着手\")\n",
    "    lb.setmark(x, y, turn)\n",
    "    move_count += 1\n",
    "    last_move = (x, y)\n",
    "    last_turn = turn\n",
    "    turn = Marubatsu.CROSS if turn == Marubatsu.CIRCLE else Marubatsu.CIRCLE\n",
    "    print(lb.board)\n",
    "    print(\"行\", lb.rowcount)\n",
    "    print(\"列\", lb.colcount)   \n",
    "    print(\"斜め\", lb.diacount)\n",
    "    print(lb.judge(last_turn, last_move, move_count))\n",
    "    print()"
   ]
  },
  {
   "cell_type": "code",
   "execution_count": 8,
   "id": "a6d09a86",
   "metadata": {},
   "outputs": [
    {
     "name": "stdout",
     "output_type": "stream",
     "text": [
      "(0, 0) から o を削除\n",
      "[['.', '.', '.'], ['o', 'x', '.'], ['o', '.', 'x']]\n",
      "行 {'o': [2, 0, 0], 'x': [0, 1, 1]}\n",
      "列 {'o': [0, 1, 1], 'x': [0, 1, 1]}\n",
      "斜め {'o': [0, 1], 'x': [2, 1]}\n",
      "\n",
      "(1, 1) から x を削除\n",
      "[['.', '.', '.'], ['o', '.', '.'], ['o', '.', 'x']]\n",
      "行 {'o': [2, 0, 0], 'x': [0, 0, 1]}\n",
      "列 {'o': [0, 1, 1], 'x': [0, 0, 1]}\n",
      "斜め {'o': [0, 1], 'x': [1, 0]}\n",
      "\n",
      "(1, 0) から o を削除\n",
      "[['.', '.', '.'], ['.', '.', '.'], ['o', '.', 'x']]\n",
      "行 {'o': [1, 0, 0], 'x': [0, 0, 1]}\n",
      "列 {'o': [0, 0, 1], 'x': [0, 0, 1]}\n",
      "斜め {'o': [0, 1], 'x': [1, 0]}\n",
      "\n",
      "(2, 2) から x を削除\n",
      "[['.', '.', '.'], ['.', '.', '.'], ['o', '.', '.']]\n",
      "行 {'o': [1, 0, 0], 'x': [0, 0, 0]}\n",
      "列 {'o': [0, 0, 1], 'x': [0, 0, 0]}\n",
      "斜め {'o': [0, 1], 'x': [0, 0]}\n",
      "\n",
      "(2, 0) から o を削除\n",
      "[['.', '.', '.'], ['.', '.', '.'], ['.', '.', '.']]\n",
      "行 {'o': [0, 0, 0], 'x': [0, 0, 0]}\n",
      "列 {'o': [0, 0, 0], 'x': [0, 0, 0]}\n",
      "斜め {'o': [0, 0], 'x': [0, 0]}\n",
      "\n"
     ]
    }
   ],
   "source": [
    "for x, y in movelist:\n",
    "    print(f\"({x}, {y}) から {lb.getmark(x, y)} を削除\")    \n",
    "    lb.setmark(x, y, Marubatsu.EMPTY)\n",
    "    print(lb.board)\n",
    "    print(\"行\", lb.rowcount)\n",
    "    print(\"列\", lb.colcount)   \n",
    "    print(\"斜め\", lb.diacount)\n",
    "    print()"
   ]
  },
  {
   "cell_type": "code",
   "execution_count": 9,
   "id": "05592dfd",
   "metadata": {},
   "outputs": [],
   "source": [
    "def __init__(self, boardclass=ListBoard, board_size=3, check_coord=True, *args, **kwargs):\n",
    "    # ゲーム盤のデータ構造を定義するクラス\n",
    "    self.boardclass = boardclass\n",
    "    # ゲーム盤の縦横のサイズ\n",
    "    self.BOARD_SIZE = board_size\n",
    "    # boardclass のパラメータ\n",
    "    self.args = args\n",
    "    self.kwargs = kwargs\n",
    "    # move と unmove メソッドで座標などのチェックを行うかどうか\n",
    "    self.check_coord = check_coord\n",
    "    # 〇×ゲーム盤を再起動するメソッドを呼び出す\n",
    "    self.restart()\n",
    "    \n",
    "Marubatsu.__init__ = __init__"
   ]
  },
  {
   "cell_type": "code",
   "execution_count": 10,
   "id": "6477735d",
   "metadata": {},
   "outputs": [],
   "source": [
    "def initialize_board(self):\n",
    "    self.board = self.boardclass(self.BOARD_SIZE, *self.args, **self.kwargs)\n",
    "    \n",
    "Marubatsu.initialize_board = initialize_board"
   ]
  },
  {
   "cell_type": "code",
   "execution_count": 11,
   "id": "4529fe1f",
   "metadata": {},
   "outputs": [],
   "source": [
    "def restart(self):\n",
    "    self.initialize_board()\n",
    "    self.turn = Marubatsu.CIRCLE     \n",
    "    self.move_count = 0\n",
    "    self.status = Marubatsu.PLAYING\n",
    "    self.last_move = -1, -1          \n",
    "    self.last_turn = None\n",
    "    self.records = [self.last_move]\n",
    "\n",
    "Marubatsu.restart = restart"
   ]
  },
  {
   "cell_type": "code",
   "execution_count": 12,
   "id": "68fb3fc0",
   "metadata": {},
   "outputs": [],
   "source": [
    "def move(self, x, y):\n",
    "    if self.place_mark(x, y, self.turn):\n",
    "        self.last_turn = self.turn\n",
    "        self.turn = Marubatsu.CROSS if self.turn == Marubatsu.CIRCLE else Marubatsu.CIRCLE  \n",
    "        self.move_count += 1\n",
    "        self.last_move = x, y\n",
    "        self.status = self.board.judge(self.last_turn, self.last_move, self.move_count)\n",
    "        if len(self.records) <= self.move_count:            \n",
    "            self.records.append(self.last_move)\n",
    "        else:\n",
    "            self.records[self.move_count] = self.last_move\n",
    "            self.records = self.records[0:self.move_count + 1]\n",
    "            \n",
    "Marubatsu.move = move"
   ]
  },
  {
   "cell_type": "code",
   "execution_count": 13,
   "id": "6186f62c",
   "metadata": {},
   "outputs": [],
   "source": [
    "def unmove(self):\n",
    "    if self.move_count > 0:\n",
    "        x, y = self.last_move\n",
    "        if self.move_count == 0:\n",
    "            self.last_move = (-1, -1)\n",
    "        self.move_count -= 1\n",
    "        self.turn, self.last_turn = self.last_turn, self.turn\n",
    "        self.status = Marubatsu.PLAYING\n",
    "        x, y = self.records.pop()\n",
    "        self.remove_mark(x, y)       \n",
    "        self.last_move = self.records[-1]\n",
    "        \n",
    "Marubatsu.unmove = unmove  "
   ]
  },
  {
   "cell_type": "code",
   "execution_count": 14,
   "id": "75e31fac",
   "metadata": {},
   "outputs": [],
   "source": [
    "def judge(self):\n",
    "    return self.board.judge(self.last_turn, self.last_move, self.move_count)\n",
    "\n",
    "Marubatsu.judge = judge"
   ]
  },
  {
   "cell_type": "code",
   "execution_count": 15,
   "id": "52cb2218",
   "metadata": {},
   "outputs": [
    {
     "name": "stdout",
     "output_type": "stream",
     "text": [
      "ai2s VS ai2s\n"
     ]
    },
    {
     "name": "stderr",
     "output_type": "stream",
     "text": [
      "100%|██████████| 5000/5000 [00:01<00:00, 2540.72it/s]\n"
     ]
    },
    {
     "name": "stdout",
     "output_type": "stream",
     "text": [
      "count     win    lose    draw\n",
      "o        2927    1440     633\n",
      "x        1435    2915     650\n",
      "total    4362    4355    1283\n",
      "\n",
      "ratio     win    lose    draw\n",
      "o       58.5%   28.8%   12.7%\n",
      "x       28.7%   58.3%   13.0%\n",
      "total   43.6%   43.5%   12.8%\n",
      "\n",
      "ai2s VS ai2s\n"
     ]
    },
    {
     "name": "stderr",
     "output_type": "stream",
     "text": [
      "100%|██████████| 5000/5000 [00:01<00:00, 2590.08it/s]\n"
     ]
    },
    {
     "name": "stdout",
     "output_type": "stream",
     "text": [
      "count     win    lose    draw\n",
      "o        2962    1416     622\n",
      "x        1473    2891     636\n",
      "total    4435    4307    1258\n",
      "\n",
      "ratio     win    lose    draw\n",
      "o       59.2%   28.3%   12.4%\n",
      "x       29.5%   57.8%   12.7%\n",
      "total   44.4%   43.1%   12.6%\n",
      "\n",
      "ai2s VS ai2s\n"
     ]
    },
    {
     "name": "stderr",
     "output_type": "stream",
     "text": [
      "100%|██████████| 5000/5000 [00:01<00:00, 2717.71it/s]\n"
     ]
    },
    {
     "name": "stdout",
     "output_type": "stream",
     "text": [
      "count     win    lose    draw\n",
      "o        2907    1427     666\n",
      "x        1412    2962     626\n",
      "total    4319    4389    1292\n",
      "\n",
      "ratio     win    lose    draw\n",
      "o       58.1%   28.5%   13.3%\n",
      "x       28.2%   59.2%   12.5%\n",
      "total   43.2%   43.9%   12.9%\n",
      "\n",
      "ai2s VS ai2s\n"
     ]
    },
    {
     "name": "stderr",
     "output_type": "stream",
     "text": [
      "100%|██████████| 5000/5000 [00:01<00:00, 2780.95it/s]"
     ]
    },
    {
     "name": "stdout",
     "output_type": "stream",
     "text": [
      "count     win    lose    draw\n",
      "o        2934    1452     614\n",
      "x        1394    2990     616\n",
      "total    4328    4442    1230\n",
      "\n",
      "ratio     win    lose    draw\n",
      "o       58.7%   29.0%   12.3%\n",
      "x       27.9%   59.8%   12.3%\n",
      "total   43.3%   44.4%   12.3%\n",
      "\n"
     ]
    },
    {
     "name": "stderr",
     "output_type": "stream",
     "text": [
      "\n"
     ]
    },
    {
     "data": {
      "text/plain": [
       "[('count',\n",
       "  [{'win': 2934, 'lose': 1452, 'draw': 614},\n",
       "   {'win': 1394, 'lose': 2990, 'draw': 616},\n",
       "   {'win': 4328, 'lose': 4442, 'draw': 1230}],\n",
       "  '7d'),\n",
       " ('ratio',\n",
       "  [{'win': 0.5868, 'lose': 0.2904, 'draw': 0.1228},\n",
       "   {'win': 0.2788, 'lose': 0.598, 'draw': 0.1232},\n",
       "   {'win': 0.4328, 'lose': 0.4442, 'draw': 0.123}],\n",
       "  '7.1%')]"
      ]
     },
     "execution_count": 15,
     "metadata": {},
     "output_type": "execute_result"
    }
   ],
   "source": [
    "from ai import ai_match, ai2s\n",
    "\n",
    "ai_match(ai=[ai2s, ai2s], match_num=5000, \n",
    "         mbparams={\"count_linemark\": False, \"check_coord\": True})\n",
    "ai_match(ai=[ai2s, ai2s], match_num=5000, \n",
    "         mbparams={\"count_linemark\": True, \"check_coord\": True})\n",
    "ai_match(ai=[ai2s, ai2s], match_num=5000, \n",
    "         mbparams={\"count_linemark\": False, \"check_coord\": False})\n",
    "ai_match(ai=[ai2s, ai2s], match_num=5000, \n",
    "         mbparams={\"count_linemark\": True, \"check_coord\": False})\n"
   ]
  },
  {
   "cell_type": "code",
   "execution_count": 16,
   "id": "dc6600fd",
   "metadata": {},
   "outputs": [],
   "source": [
    "from mbtest import excel_to_xy\n",
    "\n",
    "def test_judge(testcases=None, debug=False, mbparams={}):\n",
    "    if testcases is None:\n",
    "        testcases = {\n",
    "            # 決着がついていない場合のテストケース\n",
    "            Marubatsu.PLAYING: [\n",
    "                # ゲーム盤に一つもマークが配置されていない場合のテストケース\n",
    "                \"\",\n",
    "                # 一つだけマークが配置されていない場合のテストケース\n",
    "                \"C3,A2,B1,B2,C2,C1,A3,B3\",\n",
    "                \"A1,A2,C3,B2,C2,C1,A3,B3\",\n",
    "                \"A1,A2,B1,B2,C2,C3,A3,B3\",\n",
    "                \"A1,C3,B1,B2,C2,C1,A3,B3\",\n",
    "                \"A1,A2,B1,C3,C2,C1,A3,B3\",\n",
    "                \"A1,A2,B1,B2,C3,C1,A3,B3\",\n",
    "                \"A1,A2,B1,B2,C2,C1,C3,B3\",\n",
    "                \"A1,A2,B1,B2,A3,C1,C2,C3\",\n",
    "                \"A1,A2,B1,B2,C2,C1,A3,B3\",\n",
    "            ],   \n",
    "            # 〇の勝利のテストケース\n",
    "            Marubatsu.CIRCLE: [\n",
    "                \"A1,A2,B1,B2,C1\",\n",
    "                \"A2,A1,B2,B1,C2\",\n",
    "                \"A3,A1,B3,B1,C3\",\n",
    "                \"A1,B1,A2,B2,A3\",\n",
    "                \"B1,A1,B2,A2,B3\",\n",
    "                \"C1,A1,C2,A2,C3\",\n",
    "                \"A1,A2,B2,A3,C3\",\n",
    "                \"A3,A1,B2,A2,C1\",\n",
    "                # 簡易的な組み合わせ網羅の 6 のテストケース\n",
    "                \"A1,B1,A2,B2,B3,C1,C3,C2,A3\", \n",
    "            ],\n",
    "            # × の勝利のテストケース\n",
    "            Marubatsu.CROSS: [\n",
    "                \"A2,A1,B2,B1,A3,C1\",\n",
    "                \"A1,A2,B1,B2,A3,C2\",\n",
    "                \"A1,A3,B1,B3,A2,C3\",\n",
    "                \"B1,A1,B2,A2,C1,A3\",\n",
    "                \"A1,B1,A2,B2,C1,B3\",\n",
    "                \"A1,C1,A2,C2,B1,C3\",\n",
    "                \"A2,A1,A3,B2,B1,C3\",\n",
    "                \"A1,C1,B1,B2,A2,A3\",\n",
    "            ],\n",
    "            # 引き分けの場合のテストケース\n",
    "            Marubatsu.DRAW: [\n",
    "                \"A1,A2,B1,B2,C2,C1,A3,B3,C3\",\n",
    "            ], \n",
    "        }\n",
    "            \n",
    "    print(\"Start\")\n",
    "    for winner, testdata_list in testcases.items():\n",
    "        print(\"test winner =\", winner) \n",
    "        for testdata in testdata_list:\n",
    "            mb = Marubatsu(**mbparams)\n",
    "            for coord in [] if testdata == \"\" else testdata.split(\",\"):\n",
    "                x, y = excel_to_xy(coord)            \n",
    "                mb.move(x, y)\n",
    "            if debug:\n",
    "                print(mb)\n",
    "\n",
    "            if mb.judge() == winner:\n",
    "                if debug:\n",
    "                    print(\"ok\")\n",
    "                else:\n",
    "                    print(\"o\", end=\"\")\n",
    "            else:\n",
    "                print()\n",
    "                print(\"====================\")\n",
    "                print(\"test_judge error!\")\n",
    "                print(mb)\n",
    "                print(\"mb.judge():\", mb.judge())\n",
    "                print(\"winner:    \", winner)\n",
    "                print(\"====================\")\n",
    "        print()\n",
    "    print(\"Finished\")"
   ]
  },
  {
   "cell_type": "code",
   "execution_count": 17,
   "id": "c9b13434",
   "metadata": {},
   "outputs": [
    {
     "name": "stdout",
     "output_type": "stream",
     "text": [
      "Start\n",
      "test winner = playing\n",
      "oooooooooo\n",
      "test winner = o\n",
      "ooooooooo\n",
      "test winner = x\n",
      "oooooooo\n",
      "test winner = draw\n",
      "o\n",
      "Finished\n",
      "Start\n",
      "test winner = playing\n",
      "oooooooooo\n",
      "test winner = o\n",
      "ooooooooo\n",
      "test winner = x\n",
      "oooooooo\n",
      "test winner = draw\n",
      "o\n",
      "Finished\n"
     ]
    }
   ],
   "source": [
    "test_judge(mbparams={\"count_linemark\": False})\n",
    "test_judge(mbparams={\"count_linemark\": True})"
   ]
  },
  {
   "cell_type": "code",
   "execution_count": 18,
   "id": "9ea6dfae",
   "metadata": {},
   "outputs": [],
   "source": [
    "from marubatsu import Markpat\n",
    "from collections import defaultdict\n",
    "\n",
    "def count_markpats(self, turn, last_turn):\n",
    "    markpats = defaultdict(int)\n",
    "    \n",
    "    if self.count_linemark:\n",
    "        for countdict in [self.rowcount, self.colcount, self.diacount]:\n",
    "            for circlecount, crosscount in zip(countdict[Marubatsu.CIRCLE], countdict[Marubatsu.CROSS]):\n",
    "                emptycount = self.BOARD_SIZE - circlecount - crosscount\n",
    "                if last_turn == Marubatsu.CIRCLE:\n",
    "                    markpats[(circlecount, crosscount, emptycount)] += 1\n",
    "                else:\n",
    "                    markpats[(crosscount, circlecount, emptycount)] += 1\n",
    "    else:\n",
    "        # 横方向と縦方向の判定\n",
    "        for i in range(self.BOARD_SIZE):\n",
    "            count = self.count_marks(turn, last_turn, coord=[0, i], dx=1, dy=0, datatype=\"tuple\")\n",
    "            markpats[count] += 1\n",
    "            count = self.count_marks(turn, last_turn, coord=[i, 0], dx=0, dy=1, datatype=\"tuple\")\n",
    "            markpats[count] += 1\n",
    "        # 左上から右下方向の判定\n",
    "        count = self.count_marks(turn, last_turn, coord=[0, 0], dx=1, dy=1, datatype=\"tuple\")\n",
    "        markpats[count] += 1\n",
    "        # 右上から左下方向の判定\n",
    "        count = self.count_marks(turn, last_turn, coord=[2, 0], dx=-1, dy=1, datatype=\"tuple\")\n",
    "        markpats[count] += 1\n",
    "\n",
    "    return markpats   \n",
    "\n",
    "ListBoard.count_markpats = count_markpats"
   ]
  },
  {
   "cell_type": "code",
   "execution_count": 19,
   "id": "e077aac0",
   "metadata": {},
   "outputs": [],
   "source": [
    "def count_marks(self, turn, last_turn, coord, dx, dy, datatype=\"dict\"):   \n",
    "    x, y = coord   \n",
    "    count = defaultdict(int)\n",
    "    for _ in range(self.BOARD_SIZE):\n",
    "        count[self.getmark(x, y)] += 1\n",
    "        x += dx\n",
    "        y += dy\n",
    "\n",
    "    if datatype == \"dict\":\n",
    "        return count\n",
    "    else:\n",
    "        return Markpat(count[last_turn], count[turn], count[Marubatsu.EMPTY])  \n",
    "    \n",
    "ListBoard.count_marks = count_marks"
   ]
  },
  {
   "cell_type": "code",
   "execution_count": 20,
   "id": "834644bf",
   "metadata": {},
   "outputs": [],
   "source": [
    "def count_markpats(self):\n",
    "    return self.board.count_markpats(self.turn, self.last_turn)\n",
    "\n",
    "Marubatsu.count_markpats = count_markpats"
   ]
  },
  {
   "cell_type": "code",
   "execution_count": 21,
   "id": "a2186c7b",
   "metadata": {},
   "outputs": [],
   "source": [
    "from ai import ai_by_score\n",
    "\n",
    "@ai_by_score\n",
    "def ai8s(mb, debug=False):\n",
    "    # 真ん中のマスに着手している場合は、評価値として 3 を返す\n",
    "    if mb.last_move == (1, 1):\n",
    "        return 3\n",
    "\n",
    "    # 自分が勝利している場合は、評価値として 2 を返す\n",
    "    if mb.status == mb.last_turn:\n",
    "        return 2\n",
    "\n",
    "    markpats = mb.count_markpats()\n",
    "    # 相手が勝利できる場合は評価値として -1 を返す\n",
    "    if markpats[Markpat(last_turn=0, turn=2, empty=1)] > 0:\n",
    "        return -1\n",
    "    # 次の自分の手番で自分が勝利できる場合は評価値として 1 を返す\n",
    "    elif markpats[Markpat(last_turn=2, turn=0, empty=1)] > 0:\n",
    "        return 1\n",
    "    # それ以外の場合は評価値として 0 を返す\n",
    "    else:\n",
    "        return 0"
   ]
  },
  {
   "cell_type": "code",
   "execution_count": 22,
   "id": "83d0b9ec",
   "metadata": {},
   "outputs": [
    {
     "name": "stdout",
     "output_type": "stream",
     "text": [
      "ai8s VS ai2s\n"
     ]
    },
    {
     "name": "stderr",
     "output_type": "stream",
     "text": [
      "100%|██████████| 10000/10000 [00:10<00:00, 938.44it/s]\n"
     ]
    },
    {
     "name": "stdout",
     "output_type": "stream",
     "text": [
      "count     win    lose    draw\n",
      "o        9852      14     134\n",
      "x        8953     226     821\n",
      "total   18805     240     955\n",
      "\n",
      "ratio     win    lose    draw\n",
      "o       98.5%    0.1%    1.3%\n",
      "x       89.5%    2.3%    8.2%\n",
      "total   94.0%    1.2%    4.8%\n",
      "\n",
      "ai8s VS ai2s\n"
     ]
    },
    {
     "name": "stderr",
     "output_type": "stream",
     "text": [
      "100%|██████████| 10000/10000 [00:05<00:00, 1784.56it/s]\n"
     ]
    },
    {
     "name": "stdout",
     "output_type": "stream",
     "text": [
      "count     win    lose    draw\n",
      "o        9858      19     123\n",
      "x        8856     225     919\n",
      "total   18714     244    1042\n",
      "\n",
      "ratio     win    lose    draw\n",
      "o       98.6%    0.2%    1.2%\n",
      "x       88.6%    2.2%    9.2%\n",
      "total   93.6%    1.2%    5.2%\n",
      "\n",
      "ai14s VS ai2s\n"
     ]
    },
    {
     "name": "stderr",
     "output_type": "stream",
     "text": [
      "100%|██████████| 10000/10000 [00:11<00:00, 858.05it/s]\n"
     ]
    },
    {
     "name": "stdout",
     "output_type": "stream",
     "text": [
      "count     win    lose    draw\n",
      "o        9896       0     104\n",
      "x        8849       0    1151\n",
      "total   18745       0    1255\n",
      "\n",
      "ratio     win    lose    draw\n",
      "o       99.0%    0.0%    1.0%\n",
      "x       88.5%    0.0%   11.5%\n",
      "total   93.7%    0.0%    6.3%\n",
      "\n",
      "ai14s VS ai2s\n"
     ]
    },
    {
     "name": "stderr",
     "output_type": "stream",
     "text": [
      "100%|██████████| 10000/10000 [00:06<00:00, 1449.95it/s]"
     ]
    },
    {
     "name": "stdout",
     "output_type": "stream",
     "text": [
      "count     win    lose    draw\n",
      "o        9915       0      85\n",
      "x        8774       0    1226\n",
      "total   18689       0    1311\n",
      "\n",
      "ratio     win    lose    draw\n",
      "o       99.2%    0.0%    0.9%\n",
      "x       87.7%    0.0%   12.3%\n",
      "total   93.4%    0.0%    6.6%\n",
      "\n"
     ]
    },
    {
     "name": "stderr",
     "output_type": "stream",
     "text": [
      "\n"
     ]
    },
    {
     "data": {
      "text/plain": [
       "[('count',\n",
       "  [{'win': 9915, 'lose': 0, 'draw': 85},\n",
       "   {'win': 8774, 'lose': 0, 'draw': 1226},\n",
       "   {'win': 18689, 'lose': 0, 'draw': 1311}],\n",
       "  '7d'),\n",
       " ('ratio',\n",
       "  [{'win': 0.9915, 'lose': 0.0, 'draw': 0.0085},\n",
       "   {'win': 0.8774, 'lose': 0.0, 'draw': 0.1226},\n",
       "   {'win': 0.93445, 'lose': 0.0, 'draw': 0.06555}],\n",
       "  '7.1%')]"
      ]
     },
     "execution_count": 22,
     "metadata": {},
     "output_type": "execute_result"
    }
   ],
   "source": [
    "from ai import ai14s\n",
    "\n",
    "ai_match(ai=[ai8s, ai2s], mbparams={\"count_linemark\": False})\n",
    "ai_match(ai=[ai8s, ai2s], mbparams={\"count_linemark\": True})\n",
    "ai_match(ai=[ai14s, ai2s], mbparams={\"count_linemark\": False})\n",
    "ai_match(ai=[ai14s, ai2s], mbparams={\"count_linemark\": True})"
   ]
  },
  {
   "cell_type": "code",
   "execution_count": null,
   "id": "3a127a08",
   "metadata": {},
   "outputs": [],
   "source": [
    "from marubatsu import Board\n",
    "from abc import abstractmethod\n",
    "\n",
    "@abstractmethod\n",
    "def judge(self, last_turn, last_move, move_count):\n",
    "    pass\n",
    "\n",
    "Board.judge = judge\n",
    "\n",
    "@abstractmethod\n",
    "def count_markpats(self, turn, last_turn):\n",
    "    pass\n",
    "\n",
    "Board.count_markpat = count_markpats"
   ]
  },
  {
   "cell_type": "code",
   "execution_count": 24,
   "id": "78105a30",
   "metadata": {},
   "outputs": [],
   "source": [
    "class List1dBoard(ListBoard):\n",
    "    def __init__(self, board_size=3, count_linemark=False):\n",
    "        self.BOARD_SIZE = board_size\n",
    "        self.count_linemark = count_linemark\n",
    "        self.board = [Marubatsu.EMPTY] * (self.BOARD_SIZE ** 2)\n",
    "        if self.count_linemark:\n",
    "            self.rowcount = {\n",
    "                Marubatsu.CIRCLE: [0] * self.BOARD_SIZE,\n",
    "                Marubatsu.CROSS: [0] * self.BOARD_SIZE,\n",
    "            }\n",
    "            self.colcount = {\n",
    "                Marubatsu.CIRCLE: [0] * self.BOARD_SIZE,\n",
    "                Marubatsu.CROSS: [0] * self.BOARD_SIZE,\n",
    "            }\n",
    "            self.diacount = {\n",
    "                Marubatsu.CIRCLE: [0] * 2,\n",
    "                Marubatsu.CROSS: [0] * 2,\n",
    "            }\n",
    "            \n",
    "    def setmark(self, x, y, mark):\n",
    "        if self.count_linemark:\n",
    "            if mark != Marubatsu.EMPTY:\n",
    "                diff = 1\n",
    "                changedmark = mark\n",
    "            else:\n",
    "                diff = -1\n",
    "                changedmark = self.board[y + x * self.BOARD_SIZE]\n",
    "            self.colcount[changedmark][x] += diff\n",
    "            self.rowcount[changedmark][y] += diff\n",
    "            if x == y:\n",
    "                self.diacount[changedmark][0] += diff\n",
    "            if x + y == self.BOARD_SIZE - 1:\n",
    "                self.diacount[changedmark][1] += diff\n",
    "        self.board[y + x * self.BOARD_SIZE] = mark\n",
    "\n",
    "    def getmark(self, x, y):\n",
    "        return self.board[y + x * self.BOARD_SIZE]\n",
    "\n",
    "    def board_to_str(self):\n",
    "        return \"\".join(self.board)"
   ]
  },
  {
   "cell_type": "code",
   "execution_count": 25,
   "id": "da2aea1f",
   "metadata": {},
   "outputs": [
    {
     "name": "stdout",
     "output_type": "stream",
     "text": [
      "ai8s VS ai2s\n"
     ]
    },
    {
     "name": "stderr",
     "output_type": "stream",
     "text": [
      "100%|██████████| 10000/10000 [00:10<00:00, 972.90it/s]\n"
     ]
    },
    {
     "name": "stdout",
     "output_type": "stream",
     "text": [
      "count     win    lose    draw\n",
      "o        9851       8     141\n",
      "x        8930     249     821\n",
      "total   18781     257     962\n",
      "\n",
      "ratio     win    lose    draw\n",
      "o       98.5%    0.1%    1.4%\n",
      "x       89.3%    2.5%    8.2%\n",
      "total   93.9%    1.3%    4.8%\n",
      "\n",
      "ai8s VS ai2s\n"
     ]
    },
    {
     "name": "stderr",
     "output_type": "stream",
     "text": [
      "100%|██████████| 10000/10000 [00:05<00:00, 1711.13it/s]\n"
     ]
    },
    {
     "name": "stdout",
     "output_type": "stream",
     "text": [
      "count     win    lose    draw\n",
      "o        9849      10     141\n",
      "x        8929     249     822\n",
      "total   18778     259     963\n",
      "\n",
      "ratio     win    lose    draw\n",
      "o       98.5%    0.1%    1.4%\n",
      "x       89.3%    2.5%    8.2%\n",
      "total   93.9%    1.3%    4.8%\n",
      "\n",
      "ai14s VS ai2s\n"
     ]
    },
    {
     "name": "stderr",
     "output_type": "stream",
     "text": [
      "100%|██████████| 10000/10000 [00:12<00:00, 810.29it/s]\n"
     ]
    },
    {
     "name": "stdout",
     "output_type": "stream",
     "text": [
      "count     win    lose    draw\n",
      "o        9910       0      90\n",
      "x        8808       0    1192\n",
      "total   18718       0    1282\n",
      "\n",
      "ratio     win    lose    draw\n",
      "o       99.1%    0.0%    0.9%\n",
      "x       88.1%    0.0%   11.9%\n",
      "total   93.6%    0.0%    6.4%\n",
      "\n",
      "ai14s VS ai2s\n"
     ]
    },
    {
     "name": "stderr",
     "output_type": "stream",
     "text": [
      "100%|██████████| 10000/10000 [00:07<00:00, 1380.18it/s]"
     ]
    },
    {
     "name": "stdout",
     "output_type": "stream",
     "text": [
      "count     win    lose    draw\n",
      "o        9902       0      98\n",
      "x        8831       0    1169\n",
      "total   18733       0    1267\n",
      "\n",
      "ratio     win    lose    draw\n",
      "o       99.0%    0.0%    1.0%\n",
      "x       88.3%    0.0%   11.7%\n",
      "total   93.7%    0.0%    6.3%\n",
      "\n"
     ]
    },
    {
     "name": "stderr",
     "output_type": "stream",
     "text": [
      "\n"
     ]
    },
    {
     "data": {
      "text/plain": [
       "[('count',\n",
       "  [{'win': 9902, 'lose': 0, 'draw': 98},\n",
       "   {'win': 8831, 'lose': 0, 'draw': 1169},\n",
       "   {'win': 18733, 'lose': 0, 'draw': 1267}],\n",
       "  '7d'),\n",
       " ('ratio',\n",
       "  [{'win': 0.9902, 'lose': 0.0, 'draw': 0.0098},\n",
       "   {'win': 0.8831, 'lose': 0.0, 'draw': 0.1169},\n",
       "   {'win': 0.93665, 'lose': 0.0, 'draw': 0.06335}],\n",
       "  '7.1%')]"
      ]
     },
     "execution_count": 25,
     "metadata": {},
     "output_type": "execute_result"
    }
   ],
   "source": [
    "ai_match(ai=[ai8s, ai2s], \n",
    "         mbparams={\"boardclass\":List1dBoard, \"count_linemark\": False})\n",
    "ai_match(ai=[ai8s, ai2s], \n",
    "         mbparams={\"boardclass\":List1dBoard, \"count_linemark\": True})\n",
    "ai_match(ai=[ai14s, ai2s], \n",
    "         mbparams={\"boardclass\":List1dBoard, \"count_linemark\": False})\n",
    "ai_match(ai=[ai14s, ai2s], \n",
    "         mbparams={\"boardclass\":List1dBoard, \"count_linemark\": True})\n"
   ]
  }
 ],
 "metadata": {
  "kernelspec": {
   "display_name": "marubatsu313",
   "language": "python",
   "name": "python3"
  },
  "language_info": {
   "codemirror_mode": {
    "name": "ipython",
    "version": 3
   },
   "file_extension": ".py",
   "mimetype": "text/x-python",
   "name": "python",
   "nbconvert_exporter": "python",
   "pygments_lexer": "ipython3",
   "version": "3.13.5"
  }
 },
 "nbformat": 4,
 "nbformat_minor": 5
}
