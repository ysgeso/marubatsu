{
 "cells": [
  {
   "cell_type": "code",
   "execution_count": 1,
   "id": "309dcffd",
   "metadata": {},
   "outputs": [
    {
     "name": "stdout",
     "output_type": "stream",
     "text": [
      "3219\n"
     ]
    }
   ],
   "source": [
    "from ai import ai14s, ai_abs_dls\n",
    "from marubatsu import Marubatsu\n",
    "\n",
    "mb = Marubatsu()\n",
    "eval_params = {\"minimax\": True}\n",
    "result = ai_abs_dls(mb, eval_func=ai14s, eval_params=eval_params, \n",
    "                    use_tt=True, maxdepth=8, analyze=True)\n",
    "print(len(result[\"tt\"]))"
   ]
  },
  {
   "cell_type": "code",
   "execution_count": 2,
   "id": "e46cf7bf",
   "metadata": {},
   "outputs": [],
   "source": [
    "from marubatsu import ListBoard\n",
    "\n",
    "def getmark(self, x, y):\n",
    "    return self.board[x][y]\n",
    "\n",
    "ListBoard.getmark = getmark"
   ]
  },
  {
   "cell_type": "code",
   "execution_count": 3,
   "id": "3fba3f80",
   "metadata": {},
   "outputs": [],
   "source": [
    "from marubatsu import Markpat\n",
    "from collections import defaultdict\n",
    "\n",
    "def is_winner(self, player, last_move):\n",
    "    x, y = last_move\n",
    "    if self.count_linemark:\n",
    "        if self.rowcount[player][y] == self.BOARD_SIZE or \\\n",
    "        self.colcount[player][x] == self.BOARD_SIZE:\n",
    "            return True\n",
    "        # 左上から右下方向の判定\n",
    "        if x == y and self.diacount[player][0] == self.BOARD_SIZE:\n",
    "            return True\n",
    "        # 右上から左下方向の判定\n",
    "        if x + y == self.BOARD_SIZE - 1 and \\\n",
    "            self.diacount[player][1] == self.BOARD_SIZE:\n",
    "            return True\n",
    "    else:\n",
    "        if self.is_same(player, x=0, y=y, dx=1, dy=0) or \\\n",
    "        self.is_same(player, x=x, y=0, dx=0, dy=1):\n",
    "            return True\n",
    "        # 左上から右下方向の判定\n",
    "        if x == y and self.is_same(player, x=0, y=0, dx=1, dy=1):\n",
    "            return True\n",
    "        # 右上から左下方向の判定\n",
    "        if x + y == self.BOARD_SIZE - 1 and \\\n",
    "            self.is_same(player, x=self.BOARD_SIZE - 1, y=0, dx=-1, dy=1):\n",
    "            return True\n",
    "    \n",
    "    # どの一直線上にも配置されていない場合は、player は勝利していないので False を返す\n",
    "    return False\n",
    "\n",
    "ListBoard.is_winner = is_winner\n",
    "\n",
    "def is_same(self, mark, x, y, dx, dy):\n",
    "    text_list = [self.board[x + i * dx][y + i * dy]\n",
    "                 for i in range(self.BOARD_SIZE)]\n",
    "    line_text = \"\".join(text_list)\n",
    "    return line_text == mark * self.BOARD_SIZE\n",
    "\n",
    "ListBoard.is_same = is_same\n",
    "\n",
    "def count_markpats(self, turn, last_turn):\n",
    "    markpats = defaultdict(int)\n",
    "    \n",
    "    if self.count_linemark:\n",
    "        for countdict in [self.rowcount, self.colcount, self.diacount]:\n",
    "            for circlecount, crosscount in zip(countdict[Marubatsu.CIRCLE], countdict[Marubatsu.CROSS]):\n",
    "                emptycount = self.BOARD_SIZE - circlecount - crosscount\n",
    "                if last_turn == Marubatsu.CIRCLE:\n",
    "                    markpats[(circlecount, crosscount, emptycount)] += 1\n",
    "                else:\n",
    "                    markpats[(crosscount, circlecount, emptycount)] += 1\n",
    "    else:\n",
    "        # 横方向と縦方向の判定\n",
    "        for i in range(self.BOARD_SIZE):\n",
    "            count = self.count_marks(turn, last_turn, x=0, y=i, dx=1, dy=0, datatype=\"tuple\")\n",
    "            markpats[count] += 1\n",
    "            count = self.count_marks(turn, last_turn, x=i, y=0, dx=0, dy=1, datatype=\"tuple\")\n",
    "            markpats[count] += 1\n",
    "        # 左上から右下方向の判定\n",
    "        count = self.count_marks(turn, last_turn, x=0, y=0, dx=1, dy=1, datatype=\"tuple\")\n",
    "        markpats[count] += 1\n",
    "        # 右上から左下方向の判定\n",
    "        count = self.count_marks(turn, last_turn, x=self.BOARD_SIZE - 1, y=0, dx=-1, dy=1, datatype=\"tuple\")\n",
    "        markpats[count] += 1\n",
    "\n",
    "    return markpats  \n",
    "\n",
    "ListBoard.count_markpats = count_markpats\n",
    "\n",
    "def count_marks(self, turn, last_turn, x, y, dx, dy, datatype=\"dict\"):    \n",
    "    count = defaultdict(int)\n",
    "    for _ in range(self.BOARD_SIZE):\n",
    "        count[self.board[x][y]] += 1\n",
    "        x += dx\n",
    "        y += dy\n",
    "\n",
    "    if datatype == \"dict\":\n",
    "        return count\n",
    "    else:\n",
    "        return Markpat(count[last_turn], count[turn], count[Marubatsu.EMPTY])  \n",
    "    \n",
    "ListBoard.count_marks = count_marks"
   ]
  },
  {
   "cell_type": "code",
   "execution_count": 4,
   "id": "35bca2c7",
   "metadata": {},
   "outputs": [
    {
     "name": "stdout",
     "output_type": "stream",
     "text": [
      "boardclass: ListBoard, count_linemark False\n",
      "ai2 VS ai2\n"
     ]
    },
    {
     "name": "stderr",
     "output_type": "stream",
     "text": [
      "100%|██████████| 50000/50000 [00:03<00:00, 14579.71it/s]\n"
     ]
    },
    {
     "name": "stdout",
     "output_type": "stream",
     "text": [
      "count     win    lose    draw\n",
      "o       29454   14352    6194\n",
      "x       14208   29592    6200\n",
      "total   43662   43944   12394\n",
      "\n",
      "ratio     win    lose    draw\n",
      "o       58.9%   28.7%   12.4%\n",
      "x       28.4%   59.2%   12.4%\n",
      "total   43.7%   43.9%   12.4%\n",
      "\n",
      "ai14s VS ai2\n"
     ]
    },
    {
     "name": "stderr",
     "output_type": "stream",
     "text": [
      "100%|██████████| 50000/50000 [00:44<00:00, 1113.82it/s]\n"
     ]
    },
    {
     "name": "stdout",
     "output_type": "stream",
     "text": [
      "count     win    lose    draw\n",
      "o       49446       0     554\n",
      "x       44043       0    5957\n",
      "total   93489       0    6511\n",
      "\n",
      "ratio     win    lose    draw\n",
      "o       98.9%    0.0%    1.1%\n",
      "x       88.1%    0.0%   11.9%\n",
      "total   93.5%    0.0%    6.5%\n",
      "\n",
      "ai_abs_dls\n",
      " 18.0 ms ±   1.6 ms per loop (mean ± std. dev. of 7 runs, 10 loops each)\n",
      "\n",
      "boardclass: ListBoard, count_linemark True\n",
      "ai2 VS ai2\n"
     ]
    },
    {
     "name": "stderr",
     "output_type": "stream",
     "text": [
      "100%|██████████| 50000/50000 [00:03<00:00, 15309.97it/s]\n"
     ]
    },
    {
     "name": "stdout",
     "output_type": "stream",
     "text": [
      "count     win    lose    draw\n",
      "o       29454   14352    6194\n",
      "x       14208   29592    6200\n",
      "total   43662   43944   12394\n",
      "\n",
      "ratio     win    lose    draw\n",
      "o       58.9%   28.7%   12.4%\n",
      "x       28.4%   59.2%   12.4%\n",
      "total   43.7%   43.9%   12.4%\n",
      "\n",
      "ai14s VS ai2\n"
     ]
    },
    {
     "name": "stderr",
     "output_type": "stream",
     "text": [
      "100%|██████████| 50000/50000 [00:25<00:00, 1984.76it/s]\n"
     ]
    },
    {
     "name": "stdout",
     "output_type": "stream",
     "text": [
      "count     win    lose    draw\n",
      "o       49446       0     554\n",
      "x       44043       0    5957\n",
      "total   93489       0    6511\n",
      "\n",
      "ratio     win    lose    draw\n",
      "o       98.9%    0.0%    1.1%\n",
      "x       88.1%    0.0%   11.9%\n",
      "total   93.5%    0.0%    6.5%\n",
      "\n",
      "ai_abs_dls\n",
      " 17.4 ms ±   0.7 ms per loop (mean ± std. dev. of 7 runs, 10 loops each)\n",
      "\n"
     ]
    }
   ],
   "source": [
    "from util import benchmark\n",
    "\n",
    "boardclass = ListBoard\n",
    "for count_linemark in [False, True]:\n",
    "    print(f\"boardclass: {boardclass.__name__}, count_linemark {count_linemark}\")\n",
    "    benchmark(mbparams={\"boardclass\": boardclass, \"count_linemark\": count_linemark})\n",
    "    print()"
   ]
  },
  {
   "cell_type": "code",
   "execution_count": 5,
   "id": "b48feb81",
   "metadata": {},
   "outputs": [],
   "source": [
    "from marubatsu import List1dBoard\n",
    "\n",
    "def is_same(self, mark, x, y, dx, dy):\n",
    "    text_list = [self.board[y + i * dy + (x + i * dx) * self.BOARD_SIZE]\n",
    "                 for i in range(self.BOARD_SIZE)]\n",
    "    line_text = \"\".join(text_list)\n",
    "    return line_text == mark * self.BOARD_SIZE\n",
    "\n",
    "List1dBoard.is_same = is_same\n",
    "\n",
    "def count_marks(self, turn, last_turn, x, y, dx, dy, datatype=\"dict\"):    \n",
    "    count = defaultdict(int)\n",
    "    for _ in range(self.BOARD_SIZE):\n",
    "        count[self.board[y + x * self.BOARD_SIZE]] += 1\n",
    "        x += dx\n",
    "        y += dy\n",
    "\n",
    "    if datatype == \"dict\":\n",
    "        return count\n",
    "    else:\n",
    "        return Markpat(count[last_turn], count[turn], count[Marubatsu.EMPTY])  \n",
    "    \n",
    "List1dBoard.count_marks = count_marks"
   ]
  },
  {
   "cell_type": "code",
   "execution_count": 6,
   "id": "a16081e4",
   "metadata": {},
   "outputs": [],
   "source": [
    "def getmark(self, x, y):\n",
    "    return self.board[y + x * self.BOARD_SIZE]\n",
    "\n",
    "List1dBoard.getmark = getmark"
   ]
  },
  {
   "cell_type": "code",
   "execution_count": 7,
   "id": "796fcd38",
   "metadata": {},
   "outputs": [
    {
     "name": "stdout",
     "output_type": "stream",
     "text": [
      "boardclass: List1dBoard, count_linemark False\n",
      "ai2 VS ai2\n"
     ]
    },
    {
     "name": "stderr",
     "output_type": "stream",
     "text": [
      "100%|██████████| 50000/50000 [00:04<00:00, 11818.58it/s]\n"
     ]
    },
    {
     "name": "stdout",
     "output_type": "stream",
     "text": [
      "count     win    lose    draw\n",
      "o       29454   14352    6194\n",
      "x       14208   29592    6200\n",
      "total   43662   43944   12394\n",
      "\n",
      "ratio     win    lose    draw\n",
      "o       58.9%   28.7%   12.4%\n",
      "x       28.4%   59.2%   12.4%\n",
      "total   43.7%   43.9%   12.4%\n",
      "\n",
      "ai14s VS ai2\n"
     ]
    },
    {
     "name": "stderr",
     "output_type": "stream",
     "text": [
      "100%|██████████| 50000/50000 [00:47<00:00, 1050.48it/s]\n"
     ]
    },
    {
     "name": "stdout",
     "output_type": "stream",
     "text": [
      "count     win    lose    draw\n",
      "o       49446       0     554\n",
      "x       44043       0    5957\n",
      "total   93489       0    6511\n",
      "\n",
      "ratio     win    lose    draw\n",
      "o       98.9%    0.0%    1.1%\n",
      "x       88.1%    0.0%   11.9%\n",
      "total   93.5%    0.0%    6.5%\n",
      "\n",
      "ai_abs_dls\n",
      " 20.9 ms ±   1.1 ms per loop (mean ± std. dev. of 7 runs, 10 loops each)\n",
      "\n",
      "boardclass: List1dBoard, count_linemark True\n",
      "ai2 VS ai2\n"
     ]
    },
    {
     "name": "stderr",
     "output_type": "stream",
     "text": [
      "100%|██████████| 50000/50000 [00:04<00:00, 10430.42it/s]\n"
     ]
    },
    {
     "name": "stdout",
     "output_type": "stream",
     "text": [
      "count     win    lose    draw\n",
      "o       29454   14352    6194\n",
      "x       14208   29592    6200\n",
      "total   43662   43944   12394\n",
      "\n",
      "ratio     win    lose    draw\n",
      "o       58.9%   28.7%   12.4%\n",
      "x       28.4%   59.2%   12.4%\n",
      "total   43.7%   43.9%   12.4%\n",
      "\n",
      "ai14s VS ai2\n"
     ]
    },
    {
     "name": "stderr",
     "output_type": "stream",
     "text": [
      "100%|██████████| 50000/50000 [00:31<00:00, 1591.74it/s]\n"
     ]
    },
    {
     "name": "stdout",
     "output_type": "stream",
     "text": [
      "count     win    lose    draw\n",
      "o       49446       0     554\n",
      "x       44043       0    5957\n",
      "total   93489       0    6511\n",
      "\n",
      "ratio     win    lose    draw\n",
      "o       98.9%    0.0%    1.1%\n",
      "x       88.1%    0.0%   11.9%\n",
      "total   93.5%    0.0%    6.5%\n",
      "\n",
      "ai_abs_dls\n",
      " 24.3 ms ±   2.9 ms per loop (mean ± std. dev. of 7 runs, 10 loops each)\n",
      "\n"
     ]
    }
   ],
   "source": [
    "boardclass = List1dBoard\n",
    "for count_linemark in [False, True]:\n",
    "    print(f\"boardclass: {boardclass.__name__}, count_linemark {count_linemark}\")\n",
    "    benchmark(mbparams={\"boardclass\": boardclass, \"count_linemark\": count_linemark})\n",
    "    print()"
   ]
  },
  {
   "cell_type": "code",
   "execution_count": 8,
   "id": "11d0ac7e",
   "metadata": {},
   "outputs": [
    {
     "name": "stdout",
     "output_type": "stream",
     "text": [
      "1 2\n",
      "615 ns ± 6.13 ns per loop (mean ± std. dev. of 7 runs, 1,000,000 loops each)\n"
     ]
    }
   ],
   "source": [
    "class Move:\n",
    "    def __init__(self, move, board_size):\n",
    "        self.move = move\n",
    "        self.board_size = board_size\n",
    "\n",
    "    def __getitem__(self, key):\n",
    "        if key == 0:\n",
    "            return self.move // self.board_size\n",
    "        elif key == 1:\n",
    "            return self.move % self.board_size\n",
    "        else:\n",
    "            raise IndexError\n",
    "        \n",
    "move = Move(5, 3)\n",
    "x, y = move\n",
    "print(x, y)\n",
    "%timeit x, y = move"
   ]
  },
  {
   "cell_type": "code",
   "execution_count": 9,
   "id": "43faf3ff",
   "metadata": {},
   "outputs": [
    {
     "name": "stdout",
     "output_type": "stream",
     "text": [
      "1 2\n",
      "106 ns ± 3.07 ns per loop (mean ± std. dev. of 7 runs, 10,000,000 loops each)\n"
     ]
    }
   ],
   "source": [
    "def move_to_xy(move):\n",
    "    return move // 3, move % 3\n",
    "\n",
    "move = 5\n",
    "x, y = move_to_xy(move)\n",
    "print(x, y)\n",
    "%timeit x, y = move_to_xy(move)"
   ]
  },
  {
   "cell_type": "code",
   "execution_count": 10,
   "id": "60e68d17",
   "metadata": {},
   "outputs": [],
   "source": [
    "def calc_legal_moves(self):\n",
    "    legal_moves = [move for move in range(self.BOARD_SIZE ** 2) \n",
    "                        if self.board[move] == Marubatsu.EMPTY]\n",
    "    return legal_moves\n",
    " \n",
    "List1dBoard.calc_legal_moves = calc_legal_moves "
   ]
  },
  {
   "cell_type": "code",
   "execution_count": 11,
   "id": "52d325ab",
   "metadata": {},
   "outputs": [],
   "source": [
    "def getmark_by_move(self, move):\n",
    "    return self.board[move]    \n",
    "\n",
    "List1dBoard.getmark_by_move = getmark_by_move\n",
    "\n",
    "def setmark_by_move(self, move, mark):\n",
    "    if self.count_linemark:\n",
    "        x, y = move // self.BOARD_SIZE, move % self.BOARD_SIZE\n",
    "        if mark != Marubatsu.EMPTY:\n",
    "            diff = 1\n",
    "            changedmark = mark\n",
    "        else:\n",
    "            diff = -1\n",
    "            changedmark = self.board[move]\n",
    "        self.colcount[changedmark][x] += diff\n",
    "        self.rowcount[changedmark][y] += diff\n",
    "        if x == y:\n",
    "            self.diacount[changedmark][0] += diff\n",
    "        if x + y == self.BOARD_SIZE - 1:\n",
    "            self.diacount[changedmark][1] += diff\n",
    "    self.board[move] = mark\n",
    "    \n",
    "List1dBoard.setmark_by_move = setmark_by_move"
   ]
  },
  {
   "cell_type": "code",
   "execution_count": 12,
   "id": "538ad916",
   "metadata": {},
   "outputs": [],
   "source": [
    "def xy_to_move(self, x, y):\n",
    "    return y + x * self.BOARD_SIZE\n",
    "List1dBoard.xy_to_move = xy_to_move\n",
    "\n",
    "def move_to_xy(self, move):\n",
    "    return move // self.BOARD_SIZE, move % self.BOARD_SIZE\n",
    "\n",
    "List1dBoard.move_to_xy = move_to_xy\n",
    "\n",
    "def move_to_xy(self, move):\n",
    "    return move\n",
    "\n",
    "ListBoard.move_to_xy = move_to_xy\n"
   ]
  },
  {
   "cell_type": "code",
   "execution_count": 13,
   "id": "4adf524d",
   "metadata": {},
   "outputs": [],
   "source": [
    "def is_winner(self, player, last_move):\n",
    "    x, y = last_move // self.BOARD_SIZE, last_move % self.BOARD_SIZE\n",
    "    if self.count_linemark:\n",
    "        if self.rowcount[player][y] == self.BOARD_SIZE or \\\n",
    "        self.colcount[player][x] == self.BOARD_SIZE:\n",
    "            return True\n",
    "        # 左上から右下方向の判定\n",
    "        if x == y and self.diacount[player][0] == self.BOARD_SIZE:\n",
    "            return True\n",
    "        # 右上から左下方向の判定\n",
    "        if x + y == self.BOARD_SIZE - 1 and \\\n",
    "            self.diacount[player][1] == self.BOARD_SIZE:\n",
    "            return True\n",
    "    else:\n",
    "        if self.is_same(player, x=0, y=y, dx=1, dy=0) or \\\n",
    "        self.is_same(player, x=x, y=0, dx=0, dy=1):\n",
    "            return True\n",
    "        # 左上から右下方向の判定\n",
    "        if x == y and self.is_same(player, x=0, y=0, dx=1, dy=1):\n",
    "            return True\n",
    "        # 右上から左下方向の判定\n",
    "        if x + y == self.BOARD_SIZE - 1 and \\\n",
    "            self.is_same(player, x=self.BOARD_SIZE - 1, y=0, dx=-1, dy=1):\n",
    "            return True\n",
    "    \n",
    "    # どの一直線上にも配置されていない場合は、player は勝利していないので False を返す\n",
    "    return False\n",
    "\n",
    "List1dBoard.is_winner = is_winner"
   ]
  },
  {
   "cell_type": "code",
   "execution_count": 14,
   "id": "e54569f9",
   "metadata": {},
   "outputs": [],
   "source": [
    "def calc_same_boardtexts(mb, move=None):\n",
    "    data = [ [ 0,  0,  1, 1, -1,  0,  1,  0, -1, 0,  1,  0],\n",
    "             [ 1, -1,  0, 1,  0, -1] * 2,\n",
    "             [ 1,  0, -1, 0,  1,  0,  0,  0,  1, 1, -1,  0],\n",
    "             [ 1, -1,  0, 0,  0,  1] * 2,\n",
    "             [ 0,  1,  0, 1,  0, -1] * 2,\n",
    "             [ 1,  0, -1, 1, -1,  0] * 2,\n",
    "             [ 0,  0,  1, 0,  1,  0] * 2, ]\n",
    "    if move is None:\n",
    "        boardtexts = set([mb.board_to_str()])\n",
    "    else:\n",
    "        boardtexts = { mb.board_to_str(): move }\n",
    "    for xa, xb, xc, ya, yb, yc, xa2, xb2, xc2, ya2, yb2, yc2 in data:\n",
    "        txt = \"\"\n",
    "        for x in range(mb.BOARD_SIZE):\n",
    "            for y in range(mb.BOARD_SIZE):\n",
    "                txt += mb.board.getmark(xa * 2 + xb * x + xc * y, ya * 2 + yb * x + yc * y)\n",
    "        if move is None:\n",
    "            boardtexts.add(txt)\n",
    "        else:\n",
    "            x, y = mb.board.move_to_xy(move)\n",
    "            x, y = xa2 * 2 + xb2 * x + xc2 * y, ya2 * 2 + yb2 * x + yc2 * y\n",
    "            boardtexts[txt] = mb.board.xy_to_move(x, y)\n",
    "    return boardtexts"
   ]
  },
  {
   "cell_type": "code",
   "execution_count": 15,
   "id": "65b5d3ea",
   "metadata": {},
   "outputs": [],
   "source": [
    "from ai import ai_by_mmscore, dprint\n",
    "from time import perf_counter\n",
    "\n",
    "@ai_by_mmscore\n",
    "def ai_abs_dls(mb, debug=False, timelimit_pc=None, maxdepth=1,\n",
    "               eval_func=None, eval_params={}, use_tt=False,\n",
    "               tt=None, tt_for_mo=None):\n",
    "    count = 0\n",
    "    def ab_search(mborig, depth, tt, alpha=float(\"-inf\"), beta=float(\"inf\")):\n",
    "        nonlocal count\n",
    "        if timelimit_pc is not None and perf_counter() >= timelimit_pc:\n",
    "            raise RuntimeError(\"time out\")\n",
    "        \n",
    "        count += 1\n",
    "        if mborig.status != Marubatsu.PLAYING or depth == maxdepth:\n",
    "            return eval_func(mborig, calc_score=True, **eval_params)\n",
    "        \n",
    "        if use_tt:\n",
    "            boardtxt = mborig.board_to_str()\n",
    "            if boardtxt in tt:\n",
    "                lower_bound, upper_bound, _ = tt[boardtxt]\n",
    "                if lower_bound == upper_bound:\n",
    "                    return lower_bound\n",
    "                elif upper_bound <= alpha:\n",
    "                    return upper_bound\n",
    "                elif beta <= lower_bound:\n",
    "                    return lower_bound\n",
    "                else:\n",
    "                    alpha = max(alpha, lower_bound)\n",
    "                    beta = min(beta, upper_bound)\n",
    "            else:\n",
    "                lower_bound = min_score\n",
    "                upper_bound = max_score\n",
    "        \n",
    "        alphaorig = alpha\n",
    "        betaorig = beta\n",
    "\n",
    "        legal_moves = mborig.calc_legal_moves()\n",
    "        if tt_for_mo is not None:\n",
    "            if not use_tt:            \n",
    "                boardtxt = mborig.board_to_str()\n",
    "            if boardtxt in tt_for_mo:\n",
    "                _, _, bestmove = tt_for_mo[boardtxt]\n",
    "                index = legal_moves.index(bestmove)\n",
    "                legal_moves[0], legal_moves[index] = legal_moves[index], legal_moves[0]        \n",
    "        if mborig.turn == Marubatsu.CIRCLE:\n",
    "            score = float(\"-inf\")\n",
    "            for move in legal_moves:\n",
    "                mborig.move(move)\n",
    "                abscore = ab_search(mborig, depth + 1, tt, alpha, beta)\n",
    "                mborig.unmove()\n",
    "                if abscore > score:\n",
    "                    bestmove = move\n",
    "                score = max(score, abscore)\n",
    "                if score >= beta:\n",
    "                    break\n",
    "                alpha = max(alpha, score)\n",
    "        else:\n",
    "            score = float(\"inf\")\n",
    "            for move in legal_moves:\n",
    "                mborig.move(move)\n",
    "                abscore = ab_search(mborig, depth + 1, tt, alpha, beta)\n",
    "                mborig.unmove()\n",
    "                if abscore < score:\n",
    "                    bestmove = move\n",
    "                score = min(score, abscore)\n",
    "                if score <= alpha:\n",
    "                    break\n",
    "                beta = min(beta, score)   \n",
    "            \n",
    "#        from util import calc_same_boardtexts\n",
    "\n",
    "        if use_tt:\n",
    "            boardtxtlist = calc_same_boardtexts(mborig, bestmove)\n",
    "            if score <= alphaorig:\n",
    "                upper_bound = score\n",
    "            elif score < betaorig:\n",
    "                lower_bound = score\n",
    "                upper_bound = score\n",
    "            else:\n",
    "                lower_bound = score\n",
    "            for boardtxt, move in boardtxtlist.items():\n",
    "                tt[boardtxt] = (lower_bound, upper_bound, move)\n",
    "        return score\n",
    "                \n",
    "    min_score = float(\"-inf\")\n",
    "    max_score = float(\"inf\")\n",
    "    \n",
    "    if tt is None:\n",
    "        tt = {}\n",
    "    score = ab_search(mb, depth=0, tt=tt, alpha=min_score, beta=max_score)\n",
    "    dprint(debug, \"count =\", count)\n",
    "    return score, count"
   ]
  },
  {
   "cell_type": "code",
   "execution_count": 16,
   "id": "93b79ee7",
   "metadata": {},
   "outputs": [
    {
     "name": "stdout",
     "output_type": "stream",
     "text": [
      "boardclass: ListBoard, count_linemark False\n",
      "ai2 VS ai2\n"
     ]
    },
    {
     "name": "stderr",
     "output_type": "stream",
     "text": [
      "100%|██████████| 50000/50000 [00:03<00:00, 13986.04it/s]\n"
     ]
    },
    {
     "name": "stdout",
     "output_type": "stream",
     "text": [
      "count     win    lose    draw\n",
      "o       29297   14378    6325\n",
      "x       14635   29094    6271\n",
      "total   43932   43472   12596\n",
      "\n",
      "ratio     win    lose    draw\n",
      "o       58.6%   28.8%   12.7%\n",
      "x       29.3%   58.2%   12.5%\n",
      "total   43.9%   43.5%   12.6%\n",
      "\n",
      "ai14s VS ai2\n"
     ]
    },
    {
     "name": "stderr",
     "output_type": "stream",
     "text": [
      "100%|██████████| 50000/50000 [00:45<00:00, 1108.16it/s]\n"
     ]
    },
    {
     "name": "stdout",
     "output_type": "stream",
     "text": [
      "count     win    lose    draw\n",
      "o       49491       0     509\n",
      "x       44164       0    5836\n",
      "total   93655       0    6345\n",
      "\n",
      "ratio     win    lose    draw\n",
      "o       99.0%    0.0%    1.0%\n",
      "x       88.3%    0.0%   11.7%\n",
      "total   93.7%    0.0%    6.3%\n",
      "\n",
      "ai_abs_dls\n",
      "17.3 ms ± 867 μs per loop (mean ± std. dev. of 7 runs, 10 loops each)\n",
      "\n",
      "boardclass: ListBoard, count_linemark True\n",
      "ai2 VS ai2\n"
     ]
    },
    {
     "name": "stderr",
     "output_type": "stream",
     "text": [
      "100%|██████████| 50000/50000 [00:03<00:00, 14665.56it/s]\n"
     ]
    },
    {
     "name": "stdout",
     "output_type": "stream",
     "text": [
      "count     win    lose    draw\n",
      "o       29434   14299    6267\n",
      "x       14384   29131    6485\n",
      "total   43818   43430   12752\n",
      "\n",
      "ratio     win    lose    draw\n",
      "o       58.9%   28.6%   12.5%\n",
      "x       28.8%   58.3%   13.0%\n",
      "total   43.8%   43.4%   12.8%\n",
      "\n",
      "ai14s VS ai2\n"
     ]
    },
    {
     "name": "stderr",
     "output_type": "stream",
     "text": [
      "100%|██████████| 50000/50000 [00:25<00:00, 1989.96it/s]\n"
     ]
    },
    {
     "name": "stdout",
     "output_type": "stream",
     "text": [
      "count     win    lose    draw\n",
      "o       49457       0     543\n",
      "x       44133       0    5867\n",
      "total   93590       0    6410\n",
      "\n",
      "ratio     win    lose    draw\n",
      "o       98.9%    0.0%    1.1%\n",
      "x       88.3%    0.0%   11.7%\n",
      "total   93.6%    0.0%    6.4%\n",
      "\n",
      "ai_abs_dls\n",
      "17.6 ms ± 251 μs per loop (mean ± std. dev. of 7 runs, 100 loops each)\n",
      "\n",
      "boardclass: List1dBoard, count_linemark False\n",
      "ai2 VS ai2\n"
     ]
    },
    {
     "name": "stderr",
     "output_type": "stream",
     "text": [
      "100%|██████████| 50000/50000 [00:02<00:00, 17289.04it/s]\n"
     ]
    },
    {
     "name": "stdout",
     "output_type": "stream",
     "text": [
      "count     win    lose    draw\n",
      "o       29346   14300    6354\n",
      "x       14392   29228    6380\n",
      "total   43738   43528   12734\n",
      "\n",
      "ratio     win    lose    draw\n",
      "o       58.7%   28.6%   12.7%\n",
      "x       28.8%   58.5%   12.8%\n",
      "total   43.7%   43.5%   12.7%\n",
      "\n",
      "ai14s VS ai2\n"
     ]
    },
    {
     "name": "stderr",
     "output_type": "stream",
     "text": [
      "100%|██████████| 50000/50000 [00:46<00:00, 1078.35it/s]\n"
     ]
    },
    {
     "name": "stdout",
     "output_type": "stream",
     "text": [
      "count     win    lose    draw\n",
      "o       49486       0     514\n",
      "x       44141       0    5859\n",
      "total   93627       0    6373\n",
      "\n",
      "ratio     win    lose    draw\n",
      "o       99.0%    0.0%    1.0%\n",
      "x       88.3%    0.0%   11.7%\n",
      "total   93.6%    0.0%    6.4%\n",
      "\n",
      "ai_abs_dls\n",
      "17.2 ms ± 258 μs per loop (mean ± std. dev. of 7 runs, 100 loops each)\n",
      "\n",
      "boardclass: List1dBoard, count_linemark True\n",
      "ai2 VS ai2\n"
     ]
    },
    {
     "name": "stderr",
     "output_type": "stream",
     "text": [
      "100%|██████████| 50000/50000 [00:02<00:00, 17326.73it/s]\n"
     ]
    },
    {
     "name": "stdout",
     "output_type": "stream",
     "text": [
      "count     win    lose    draw\n",
      "o       29330   14288    6382\n",
      "x       14224   29385    6391\n",
      "total   43554   43673   12773\n",
      "\n",
      "ratio     win    lose    draw\n",
      "o       58.7%   28.6%   12.8%\n",
      "x       28.4%   58.8%   12.8%\n",
      "total   43.6%   43.7%   12.8%\n",
      "\n",
      "ai14s VS ai2\n"
     ]
    },
    {
     "name": "stderr",
     "output_type": "stream",
     "text": [
      "100%|██████████| 50000/50000 [00:24<00:00, 2029.60it/s]\n"
     ]
    },
    {
     "name": "stdout",
     "output_type": "stream",
     "text": [
      "count     win    lose    draw\n",
      "o       49470       0     530\n",
      "x       44279       0    5721\n",
      "total   93749       0    6251\n",
      "\n",
      "ratio     win    lose    draw\n",
      "o       98.9%    0.0%    1.1%\n",
      "x       88.6%    0.0%   11.4%\n",
      "total   93.7%    0.0%    6.3%\n",
      "\n",
      "ai_abs_dls\n",
      "19.2 ms ± 1.77 ms per loop (mean ± std. dev. of 7 runs, 10 loops each)\n",
      "\n"
     ]
    }
   ],
   "source": [
    "from ai import ai_match, ai2, ai14s\n",
    "\n",
    "match_num = 50000\n",
    "for boardclass in [ListBoard, List1dBoard]:\n",
    "    for count_linemark in [False, True]:\n",
    "        print(f\"boardclass: {boardclass.__name__}, count_linemark {count_linemark}\")\n",
    "        mbparams={\"boardclass\": boardclass, \"count_linemark\": count_linemark}\n",
    "        ai_match(ai=[ai2, ai2], match_num=match_num, mbparams=mbparams)   \n",
    "        ai_match(ai=[ai14s, ai2], match_num=match_num, mbparams=mbparams)\n",
    "\n",
    "        mb = Marubatsu(**mbparams)\n",
    "        eval_params = {\"minimax\": True}\n",
    "        print(\"ai_abs_dls\")\n",
    "        %timeit ai_abs_dls(mb, eval_func=ai14s, eval_params=eval_params, use_tt=True, maxdepth=8)\n",
    "        print()"
   ]
  },
  {
   "cell_type": "code",
   "execution_count": null,
   "id": "c50b5605",
   "metadata": {},
   "outputs": [],
   "source": [
    "from ai import ai_by_score\n",
    "\n",
    "@ai_by_score\n",
    "def ai14s(mb, debug=False, score_victory=300, score_sure_victory=200, \\\n",
    "          score_defeat=-100, score_special=100, score_201=2, \\\n",
    "          score_102=0.5, score_012=-1):\n",
    "    # 評価値の合計を計算する変数を 0 で初期化する\n",
    "    score = 0        \n",
    "\n",
    "    # 自分が勝利している場合\n",
    "    if mb.status == mb.last_turn:\n",
    "        return score_victory\n",
    "\n",
    "    markpats = mb.count_markpats()\n",
    "    if debug:\n",
    "        pprint(markpats)\n",
    "    # 相手が勝利できる場合は評価値を加算する\n",
    "    if markpats[Markpat(last_turn=0, turn=2, empty=1)] > 0:\n",
    "        score = score_defeat * markpats[Markpat(last_turn=0, turn=2, empty=1)]\n",
    "    # 次の自分の手番で自分が必ず勝利できる場合\n",
    "    elif markpats[Markpat(last_turn=2, turn=0, empty=1)] >= 2:\n",
    "        return score_sure_victory\n",
    "    \n",
    "    # 斜め方向に 〇×〇 が並び、いずれかの辺の 1 つのマスのみに × が配置されている場合\n",
    "    if mb.move_count == 4 and \\\n",
    "        mb.board.getmark(1, 1) == Marubatsu.CROSS and \\\n",
    "        (mb.board.getmark(0, 0) == mb.board.getmark(2, 2) == Marubatsu.CIRCLE or \\\n",
    "        mb.board.getmark(2, 0) == mb.board.getmark(0, 2) == Marubatsu.CIRCLE) and \\\n",
    "        (mb.board.getmark(1, 0) == Marubatsu.CROSS or \\\n",
    "        mb.board.getmark(0, 1) == Marubatsu.CROSS or \\\n",
    "        mb.board.getmark(2, 1) == Marubatsu.CROSS or \\\n",
    "        mb.board.getmark(1, 2) == Marubatsu.CROSS):\n",
    "        return score_special    \n",
    "\n",
    "    # 次の自分の手番で自分が勝利できる場合は評価値に score_201 を加算する\n",
    "    if markpats[Markpat(last_turn=2, turn=0, empty=1)] == 1:\n",
    "        score += score_201\n",
    "    # 「自 1 敵 0 空 2」1 つあたり score_102 だけ、評価値を加算する\n",
    "    score += markpats[Markpat(last_turn=1, turn=0, empty=2)] * score_102\n",
    "    # 「自 0 敵 1 空 2」1 つあたり score_201 だけ、評価値を減算する\n",
    "    score += markpats[Markpat(last_turn=0, turn=1, empty=2)] * score_012\n",
    "    \n",
    "    # 計算した評価値を返す\n",
    "    return score"
   ]
  },
  {
   "cell_type": "code",
   "execution_count": 18,
   "id": "f7deb23b",
   "metadata": {},
   "outputs": [
    {
     "name": "stdout",
     "output_type": "stream",
     "text": [
      "boardclass: ListBoard, count_linemark False\n",
      "ai2 VS ai2\n"
     ]
    },
    {
     "name": "stderr",
     "output_type": "stream",
     "text": [
      "100%|██████████| 50000/50000 [00:03<00:00, 14916.51it/s]\n"
     ]
    },
    {
     "name": "stdout",
     "output_type": "stream",
     "text": [
      "count     win    lose    draw\n",
      "o       29252   14312    6436\n",
      "x       14337   29339    6324\n",
      "total   43589   43651   12760\n",
      "\n",
      "ratio     win    lose    draw\n",
      "o       58.5%   28.6%   12.9%\n",
      "x       28.7%   58.7%   12.6%\n",
      "total   43.6%   43.7%   12.8%\n",
      "\n",
      "ai14s VS ai2\n"
     ]
    },
    {
     "name": "stderr",
     "output_type": "stream",
     "text": [
      "100%|██████████| 50000/50000 [00:44<00:00, 1116.53it/s]\n"
     ]
    },
    {
     "name": "stdout",
     "output_type": "stream",
     "text": [
      "count     win    lose    draw\n",
      "o       49461       0     539\n",
      "x       44217       0    5783\n",
      "total   93678       0    6322\n",
      "\n",
      "ratio     win    lose    draw\n",
      "o       98.9%    0.0%    1.1%\n",
      "x       88.4%    0.0%   11.6%\n",
      "total   93.7%    0.0%    6.3%\n",
      "\n",
      "ai_abs_dls\n",
      "17.4 ms ± 298 μs per loop (mean ± std. dev. of 7 runs, 100 loops each)\n",
      "\n",
      "boardclass: ListBoard, count_linemark True\n",
      "ai2 VS ai2\n"
     ]
    },
    {
     "name": "stderr",
     "output_type": "stream",
     "text": [
      "100%|██████████| 50000/50000 [00:03<00:00, 15463.39it/s]\n"
     ]
    },
    {
     "name": "stdout",
     "output_type": "stream",
     "text": [
      "count     win    lose    draw\n",
      "o       29415   14280    6305\n",
      "x       14292   29293    6415\n",
      "total   43707   43573   12720\n",
      "\n",
      "ratio     win    lose    draw\n",
      "o       58.8%   28.6%   12.6%\n",
      "x       28.6%   58.6%   12.8%\n",
      "total   43.7%   43.6%   12.7%\n",
      "\n",
      "ai14s VS ai2\n"
     ]
    },
    {
     "name": "stderr",
     "output_type": "stream",
     "text": [
      "100%|██████████| 50000/50000 [00:24<00:00, 2030.27it/s]\n"
     ]
    },
    {
     "name": "stdout",
     "output_type": "stream",
     "text": [
      "count     win    lose    draw\n",
      "o       49510       0     490\n",
      "x       44192       0    5808\n",
      "total   93702       0    6298\n",
      "\n",
      "ratio     win    lose    draw\n",
      "o       99.0%    0.0%    1.0%\n",
      "x       88.4%    0.0%   11.6%\n",
      "total   93.7%    0.0%    6.3%\n",
      "\n",
      "ai_abs_dls\n",
      "17.4 ms ± 728 μs per loop (mean ± std. dev. of 7 runs, 10 loops each)\n",
      "\n",
      "boardclass: List1dBoard, count_linemark False\n",
      "ai2 VS ai2\n"
     ]
    },
    {
     "name": "stderr",
     "output_type": "stream",
     "text": [
      "100%|██████████| 50000/50000 [00:02<00:00, 17404.27it/s]\n"
     ]
    },
    {
     "name": "stdout",
     "output_type": "stream",
     "text": [
      "count     win    lose    draw\n",
      "o       29234   14345    6421\n",
      "x       14346   29413    6241\n",
      "total   43580   43758   12662\n",
      "\n",
      "ratio     win    lose    draw\n",
      "o       58.5%   28.7%   12.8%\n",
      "x       28.7%   58.8%   12.5%\n",
      "total   43.6%   43.8%   12.7%\n",
      "\n",
      "ai14s VS ai2\n"
     ]
    },
    {
     "name": "stderr",
     "output_type": "stream",
     "text": [
      "100%|██████████| 50000/50000 [00:43<00:00, 1145.23it/s]\n"
     ]
    },
    {
     "name": "stdout",
     "output_type": "stream",
     "text": [
      "count     win    lose    draw\n",
      "o       49473       0     527\n",
      "x       44077       0    5923\n",
      "total   93550       0    6450\n",
      "\n",
      "ratio     win    lose    draw\n",
      "o       98.9%    0.0%    1.1%\n",
      "x       88.2%    0.0%   11.8%\n",
      "total   93.5%    0.0%    6.5%\n",
      "\n",
      "ai_abs_dls\n",
      "16.7 ms ± 277 μs per loop (mean ± std. dev. of 7 runs, 100 loops each)\n",
      "\n",
      "boardclass: List1dBoard, count_linemark True\n",
      "ai2 VS ai2\n"
     ]
    },
    {
     "name": "stderr",
     "output_type": "stream",
     "text": [
      "100%|██████████| 50000/50000 [00:02<00:00, 17176.56it/s]\n"
     ]
    },
    {
     "name": "stdout",
     "output_type": "stream",
     "text": [
      "count     win    lose    draw\n",
      "o       29201   14419    6380\n",
      "x       14251   29435    6314\n",
      "total   43452   43854   12694\n",
      "\n",
      "ratio     win    lose    draw\n",
      "o       58.4%   28.8%   12.8%\n",
      "x       28.5%   58.9%   12.6%\n",
      "total   43.5%   43.9%   12.7%\n",
      "\n",
      "ai14s VS ai2\n"
     ]
    },
    {
     "name": "stderr",
     "output_type": "stream",
     "text": [
      "100%|██████████| 50000/50000 [00:23<00:00, 2152.38it/s]\n"
     ]
    },
    {
     "name": "stdout",
     "output_type": "stream",
     "text": [
      "count     win    lose    draw\n",
      "o       49476       0     524\n",
      "x       44249       0    5751\n",
      "total   93725       0    6275\n",
      "\n",
      "ratio     win    lose    draw\n",
      "o       99.0%    0.0%    1.0%\n",
      "x       88.5%    0.0%   11.5%\n",
      "total   93.7%    0.0%    6.3%\n",
      "\n",
      "ai_abs_dls\n",
      "17.3 ms ± 349 μs per loop (mean ± std. dev. of 7 runs, 100 loops each)\n",
      "\n"
     ]
    }
   ],
   "source": [
    "for boardclass in [ListBoard, List1dBoard]:\n",
    "    for count_linemark in [False, True]:\n",
    "        print(f\"boardclass: {boardclass.__name__}, count_linemark {count_linemark}\")\n",
    "        mbparams={\"boardclass\": boardclass, \"count_linemark\": count_linemark}\n",
    "        ai_match(ai=[ai2, ai2], match_num=match_num, mbparams=mbparams)   \n",
    "        ai_match(ai=[ai14s, ai2], match_num=match_num, mbparams=mbparams)\n",
    "\n",
    "        mb = Marubatsu(**mbparams)\n",
    "        eval_params = {\"minimax\": True}\n",
    "        print(\"ai_abs_dls\")\n",
    "        %timeit ai_abs_dls(mb, eval_func=ai14s, eval_params=eval_params, use_tt=True, maxdepth=8)\n",
    "        print()"
   ]
  },
  {
   "cell_type": "code",
   "execution_count": 19,
   "id": "9d84086a",
   "metadata": {},
   "outputs": [
    {
     "ename": "AttributeError",
     "evalue": "'Marubatsu' object has no attribute 'count_marks'",
     "output_type": "error",
     "traceback": [
      "\u001b[31m---------------------------------------------------------------------------\u001b[39m",
      "\u001b[31mAttributeError\u001b[39m                            Traceback (most recent call last)",
      "\u001b[36mCell\u001b[39m\u001b[36m \u001b[39m\u001b[32mIn[19]\u001b[39m\u001b[32m, line 4\u001b[39m\n\u001b[32m      1\u001b[39m \u001b[38;5;28;01mfrom\u001b[39;00m\u001b[38;5;250m \u001b[39m\u001b[34;01mai\u001b[39;00m\u001b[38;5;250m \u001b[39m\u001b[38;5;28;01mimport\u001b[39;00m ai6s\n\u001b[32m      3\u001b[39m mb = Marubatsu()\n\u001b[32m----> \u001b[39m\u001b[32m4\u001b[39m ai6s(mb)\n",
      "\u001b[36mFile \u001b[39m\u001b[32mc:\\Users\\ys\\ai\\marubatsu\\196\\ai.py:186\u001b[39m, in \u001b[36mai_by_score.<locals>.wrapper\u001b[39m\u001b[34m(mb_orig, debug, rand, analyze, calc_score, minimax, *args, **kwargs)\u001b[39m\n\u001b[32m    184\u001b[39m mb_orig.move(move)\n\u001b[32m    185\u001b[39m dprint(debug, mb_orig)\n\u001b[32m--> \u001b[39m\u001b[32m186\u001b[39m score = eval_func(mb_orig, debug, *args, **kwargs)\n\u001b[32m    187\u001b[39m mb_orig.unmove()\n\u001b[32m    188\u001b[39m dprint(debug, \u001b[33m\"\u001b[39m\u001b[33mscore\u001b[39m\u001b[33m\"\u001b[39m, score, \u001b[33m\"\u001b[39m\u001b[33mbest score\u001b[39m\u001b[33m\"\u001b[39m, best_score)\n",
      "\u001b[36mFile \u001b[39m\u001b[32mc:\\Users\\ys\\ai\\marubatsu\\196\\ai.py:787\u001b[39m, in \u001b[36mai6s\u001b[39m\u001b[34m(mb, debug)\u001b[39m\n\u001b[32m    784\u001b[39m \u001b[38;5;66;03m# 相手の手番で相手が勝利できる場合は評価値として -1 を返す\u001b[39;00m\n\u001b[32m    785\u001b[39m \u001b[38;5;66;03m# 横方向と縦方向の判定\u001b[39;00m\n\u001b[32m    786\u001b[39m \u001b[38;5;28;01mfor\u001b[39;00m i \u001b[38;5;129;01min\u001b[39;00m \u001b[38;5;28mrange\u001b[39m(mb.BOARD_SIZE):\n\u001b[32m--> \u001b[39m\u001b[32m787\u001b[39m     count = mb.count_marks(coord=[\u001b[32m0\u001b[39m, i], dx=\u001b[32m1\u001b[39m, dy=\u001b[32m0\u001b[39m)\n\u001b[32m    788\u001b[39m     \u001b[38;5;28;01mif\u001b[39;00m count[mb.turn] == \u001b[32m2\u001b[39m \u001b[38;5;129;01mand\u001b[39;00m count[Marubatsu.EMPTY] == \u001b[32m1\u001b[39m:\n\u001b[32m    789\u001b[39m         \u001b[38;5;28;01mreturn\u001b[39;00m -\u001b[32m1\u001b[39m\n",
      "\u001b[31mAttributeError\u001b[39m: 'Marubatsu' object has no attribute 'count_marks'"
     ]
    }
   ],
   "source": [
    "from ai import ai6s\n",
    "\n",
    "mb = Marubatsu()\n",
    "ai6s(mb)"
   ]
  },
  {
   "cell_type": "code",
   "execution_count": 20,
   "id": "86cad2f2",
   "metadata": {},
   "outputs": [],
   "source": [
    "@ai_by_score\n",
    "def ai6s(mb, debug):\n",
    "    # 自分が勝利している場合は、評価値として 1 を返す\n",
    "    if mb.status == mb.last_turn:\n",
    "        return 1\n",
    "\n",
    "    markpats = mb.count_markpats()\n",
    "    # 相手が勝利できる場合は評価値として -1 を返す\n",
    "    if markpats[Markpat(last_turn=0, turn=2, empty=1)] > 0:\n",
    "        return -1\n",
    "    # それ以外の場合は評価値として 0 を返す\n",
    "    else:\n",
    "        return 0"
   ]
  },
  {
   "cell_type": "code",
   "execution_count": 21,
   "id": "c9093599",
   "metadata": {},
   "outputs": [
    {
     "data": {
      "text/plain": [
       "(1, 0)"
      ]
     },
     "execution_count": 21,
     "metadata": {},
     "output_type": "execute_result"
    }
   ],
   "source": [
    "ai6s(mb)"
   ]
  }
 ],
 "metadata": {
  "kernelspec": {
   "display_name": "marubatsu313",
   "language": "python",
   "name": "python3"
  },
  "language_info": {
   "codemirror_mode": {
    "name": "ipython",
    "version": 3
   },
   "file_extension": ".py",
   "mimetype": "text/x-python",
   "name": "python",
   "nbconvert_exporter": "python",
   "pygments_lexer": "ipython3",
   "version": "3.13.5"
  }
 },
 "nbformat": 4,
 "nbformat_minor": 5
}
