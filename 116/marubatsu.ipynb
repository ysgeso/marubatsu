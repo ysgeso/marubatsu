{
 "cells": [
  {
   "cell_type": "code",
   "execution_count": 1,
   "metadata": {},
   "outputs": [],
   "source": [
    "from marubatsu import Marubatsu_GUI\n",
    "from tree import Mbtree, Mbtree_GUI\n",
    "from tkinter import Tk, filedialog\n",
    "import os\n",
    "\n",
    "def __init__(self, mb, params, names, ai_dict, seed, size):   \n",
    "    if params is None:\n",
    "        params = [{}, {}]\n",
    "    if ai_dict is None:\n",
    "        ai_dict = {}\n",
    "    if names is None:\n",
    "        names = [None, None]\n",
    "    for i in range(2):\n",
    "        if names[i] is None:\n",
    "            if mb.ai[i] is None:\n",
    "                names[i] = \"人間\"\n",
    "            else:\n",
    "                names[i] = mb.ai[i].__name__\n",
    "    \n",
    "    # JupyterLab からファイルダイアログを開く際に必要な前処理\n",
    "    root = Tk()\n",
    "    root.withdraw()\n",
    "    root.call('wm', 'attributes', '.', '-topmost', True)  \n",
    "\n",
    "    # save フォルダが存在しない場合は作成する\n",
    "    if not os.path.exists(\"save\"):\n",
    "        os.mkdir(\"save\")        \n",
    "    \n",
    "    self.mb = mb\n",
    "    self.ai_dict = ai_dict\n",
    "    self.params = params\n",
    "    self.names = names\n",
    "    self.seed = seed\n",
    "    self.size = size\n",
    "    \n",
    "    super(Marubatsu_GUI, self).__init__()   \n",
    "    \n",
    "    self.mbtree = Mbtree.load(\"../data/aidata\")\n",
    "    self.mbtree_gui = Mbtree_GUI(self.mbtree, size=0.1)\n",
    "    \n",
    "Marubatsu_GUI.__init__ = __init__"
   ]
  },
  {
   "cell_type": "code",
   "execution_count": 2,
   "metadata": {},
   "outputs": [
    {
     "data": {
      "application/vnd.jupyter.widget-view+json": {
       "model_id": "e0892cacb69a4953b81395814f25ae49",
       "version_major": 2,
       "version_minor": 0
      },
      "text/plain": [
       "VBox(children=(HBox(children=(Checkbox(value=False, description='乱数の種', indent=False, layout=Layout(width='100…"
      ]
     },
     "metadata": {},
     "output_type": "display_data"
    },
    {
     "data": {
      "application/vnd.jupyter.widget-view+json": {
       "model_id": "5e996e8856284f588dd4f38d422f7445",
       "version_major": 2,
       "version_minor": 0
      },
      "text/plain": [
       "VBox(children=(Output(), HBox(children=(Label(value='', layout=Layout(width='50px')), Button(description='↑', …"
      ]
     },
     "metadata": {},
     "output_type": "display_data"
    }
   ],
   "source": [
    "from util import gui_play\n",
    "\n",
    "gui_play()"
   ]
  },
  {
   "cell_type": "code",
   "execution_count": 3,
   "metadata": {},
   "outputs": [],
   "source": [
    "from marubatsu import Marubatsu\n",
    "\n",
    "def update_gui(self):\n",
    "    ax = self.ax\n",
    "    ai = self.mb.ai\n",
    "    \n",
    "    # Axes の内容をクリアして、これまでの描画内容を削除する\n",
    "    ax.clear()\n",
    "    \n",
    "    # y 軸を反転させる\n",
    "    ax.invert_yaxis()\n",
    "    \n",
    "    # 枠と目盛りを表示しないようにする\n",
    "    ax.axis(\"off\")   \n",
    "    \n",
    "    # リプレイ中、ゲームの決着がついていた場合は背景色を変更する\n",
    "    is_replay =  self.mb.move_count < len(self.mb.records) - 1 \n",
    "    if self.mb.status == Marubatsu.PLAYING:\n",
    "        facecolor = \"lightcyan\" if is_replay else \"white\"\n",
    "    else:\n",
    "        facecolor = \"lightyellow\"\n",
    "\n",
    "    ax.figure.set_facecolor(facecolor)\n",
    "        \n",
    "    # 上部のメッセージを描画する\n",
    "    # 対戦カードの文字列を計算する\n",
    "    ax.text(1.5, 3.5, f\"{self.dropdown_list[0].label}　VS　{self.dropdown_list[1].label}\", fontsize=20, ha=\"center\")   \n",
    "    \n",
    "    # ゲームの決着がついていない場合は、手番を表示する\n",
    "    if self.mb.status == Marubatsu.PLAYING:\n",
    "        text = \"Turn \" + self.mb.turn\n",
    "    # 引き分けの場合\n",
    "    elif self.mb.status == Marubatsu.DRAW:\n",
    "        text = \"Draw game\"\n",
    "    # 決着がついていれば勝者を表示する\n",
    "    else:\n",
    "        text = \"Winner \" + self.mb.status\n",
    "    # リプレイ中の場合は \"Replay\" を表示する\n",
    "    if is_replay:\n",
    "        text += \" Replay\"\n",
    "    ax.text(0, -0.2, text, fontsize=20)\n",
    "    \n",
    "    self.draw_board(ax, self.mb)\n",
    "    \n",
    "    self.update_widgets_status()\n",
    "    \n",
    "    self.mbtree_gui.selectednode = self.mbtree.nodelist_by_mb[tuple(self.mb.records)]\n",
    "    self.mbtree_gui.update_gui()\n",
    "    \n",
    "Marubatsu_GUI.update_gui = update_gui "
   ]
  },
  {
   "cell_type": "code",
   "execution_count": 4,
   "metadata": {},
   "outputs": [
    {
     "data": {
      "application/vnd.jupyter.widget-view+json": {
       "model_id": "7fbeae05654c4e2fa2f6ee50145b34e2",
       "version_major": 2,
       "version_minor": 0
      },
      "text/plain": [
       "VBox(children=(HBox(children=(Checkbox(value=False, description='乱数の種', indent=False, layout=Layout(width='100…"
      ]
     },
     "metadata": {},
     "output_type": "display_data"
    },
    {
     "ename": "AttributeError",
     "evalue": "'Marubatsu_GUI' object has no attribute 'mbtree'",
     "output_type": "error",
     "traceback": [
      "\u001b[1;31m---------------------------------------------------------------------------\u001b[0m",
      "\u001b[1;31mAttributeError\u001b[0m                            Traceback (most recent call last)",
      "Cell \u001b[1;32mIn[4], line 1\u001b[0m\n\u001b[1;32m----> 1\u001b[0m gui_play()\n",
      "File \u001b[1;32mc:\\Users\\ys\\ai\\marubatsu\\116\\util.py:45\u001b[0m, in \u001b[0;36mgui_play\u001b[1;34m(ai, params, ai_dict, seed)\u001b[0m\n\u001b[0;32m     42\u001b[0m     ai_dict[\u001b[38;5;124m\"\u001b[39m\u001b[38;5;124mai_gt6\u001b[39m\u001b[38;5;124m\"\u001b[39m] \u001b[38;5;241m=\u001b[39m (ai_gt6, {\u001b[38;5;124m\"\u001b[39m\u001b[38;5;124mbestmoves_by_board\u001b[39m\u001b[38;5;124m\"\u001b[39m: bestmoves_by_board})\n\u001b[0;32m     44\u001b[0m mb \u001b[38;5;241m=\u001b[39m Marubatsu()\n\u001b[1;32m---> 45\u001b[0m mb\u001b[38;5;241m.\u001b[39mplay(ai\u001b[38;5;241m=\u001b[39mai, params\u001b[38;5;241m=\u001b[39mparams, ai_dict\u001b[38;5;241m=\u001b[39mai_dict, seed\u001b[38;5;241m=\u001b[39mseed, gui\u001b[38;5;241m=\u001b[39m\u001b[38;5;28;01mTrue\u001b[39;00m)\n",
      "File \u001b[1;32mc:\\Users\\ys\\ai\\marubatsu\\116\\marubatsu.py:353\u001b[0m, in \u001b[0;36mMarubatsu.play\u001b[1;34m(self, ai, ai_dict, params, names, verbose, seed, gui, size)\u001b[0m\n\u001b[0;32m    351\u001b[0m \u001b[38;5;66;03m# gui が True の場合に、GUI の処理を行う Marubatsu_GUI のインスタンスを作成する\u001b[39;00m\n\u001b[0;32m    352\u001b[0m \u001b[38;5;28;01mif\u001b[39;00m gui:\n\u001b[1;32m--> 353\u001b[0m     mb_gui \u001b[38;5;241m=\u001b[39m Marubatsu_GUI(\u001b[38;5;28mself\u001b[39m, params\u001b[38;5;241m=\u001b[39mparams, names\u001b[38;5;241m=\u001b[39mnames, ai_dict\u001b[38;5;241m=\u001b[39mai_dict, seed\u001b[38;5;241m=\u001b[39mseed, size\u001b[38;5;241m=\u001b[39msize)  \n\u001b[0;32m    354\u001b[0m \u001b[38;5;28;01melse\u001b[39;00m:\n\u001b[0;32m    355\u001b[0m     mb_gui \u001b[38;5;241m=\u001b[39m \u001b[38;5;28;01mNone\u001b[39;00m\n",
      "Cell \u001b[1;32mIn[1], line 36\u001b[0m, in \u001b[0;36m__init__\u001b[1;34m(self, mb, params, names, ai_dict, seed, size)\u001b[0m\n\u001b[0;32m     33\u001b[0m \u001b[38;5;28mself\u001b[39m\u001b[38;5;241m.\u001b[39mseed \u001b[38;5;241m=\u001b[39m seed\n\u001b[0;32m     34\u001b[0m \u001b[38;5;28mself\u001b[39m\u001b[38;5;241m.\u001b[39msize \u001b[38;5;241m=\u001b[39m size\n\u001b[1;32m---> 36\u001b[0m \u001b[38;5;28msuper\u001b[39m(Marubatsu_GUI, \u001b[38;5;28mself\u001b[39m)\u001b[38;5;241m.\u001b[39m\u001b[38;5;21m__init__\u001b[39m()   \n\u001b[0;32m     38\u001b[0m \u001b[38;5;28mself\u001b[39m\u001b[38;5;241m.\u001b[39mmbtree \u001b[38;5;241m=\u001b[39m Mbtree\u001b[38;5;241m.\u001b[39mload(\u001b[38;5;124m\"\u001b[39m\u001b[38;5;124m../data/aidata\u001b[39m\u001b[38;5;124m\"\u001b[39m)\n\u001b[0;32m     39\u001b[0m \u001b[38;5;28mself\u001b[39m\u001b[38;5;241m.\u001b[39mmbtree_gui \u001b[38;5;241m=\u001b[39m Mbtree_GUI(\u001b[38;5;28mself\u001b[39m\u001b[38;5;241m.\u001b[39mmbtree, size\u001b[38;5;241m=\u001b[39m\u001b[38;5;241m0.1\u001b[39m)\n",
      "File \u001b[1;32mc:\\Users\\ys\\ai\\marubatsu\\116\\gui.py:16\u001b[0m, in \u001b[0;36mGUI.__init__\u001b[1;34m(self)\u001b[0m\n\u001b[0;32m     14\u001b[0m \u001b[38;5;28mself\u001b[39m\u001b[38;5;241m.\u001b[39mcreate_event_handler()\n\u001b[0;32m     15\u001b[0m \u001b[38;5;28mself\u001b[39m\u001b[38;5;241m.\u001b[39mdisplay_widgets() \n\u001b[1;32m---> 16\u001b[0m \u001b[38;5;28mself\u001b[39m\u001b[38;5;241m.\u001b[39mupdate_gui()\n",
      "Cell \u001b[1;32mIn[3], line 47\u001b[0m, in \u001b[0;36mupdate_gui\u001b[1;34m(self)\u001b[0m\n\u001b[0;32m     43\u001b[0m \u001b[38;5;28mself\u001b[39m\u001b[38;5;241m.\u001b[39mdraw_board(ax, \u001b[38;5;28mself\u001b[39m\u001b[38;5;241m.\u001b[39mmb)\n\u001b[0;32m     45\u001b[0m \u001b[38;5;28mself\u001b[39m\u001b[38;5;241m.\u001b[39mupdate_widgets_status()\n\u001b[1;32m---> 47\u001b[0m \u001b[38;5;28mself\u001b[39m\u001b[38;5;241m.\u001b[39mmbtree_gui\u001b[38;5;241m.\u001b[39mselectednode \u001b[38;5;241m=\u001b[39m \u001b[38;5;28mself\u001b[39m\u001b[38;5;241m.\u001b[39mmbtree\u001b[38;5;241m.\u001b[39mnodelist_by_mb[\u001b[38;5;28mtuple\u001b[39m(\u001b[38;5;28mself\u001b[39m\u001b[38;5;241m.\u001b[39mmb\u001b[38;5;241m.\u001b[39mrecords)]\n\u001b[0;32m     48\u001b[0m \u001b[38;5;28mself\u001b[39m\u001b[38;5;241m.\u001b[39mmbtree_gui\u001b[38;5;241m.\u001b[39mupdate_gui()\n",
      "\u001b[1;31mAttributeError\u001b[0m: 'Marubatsu_GUI' object has no attribute 'mbtree'"
     ]
    }
   ],
   "source": [
    "gui_play()"
   ]
  },
  {
   "cell_type": "code",
   "execution_count": 5,
   "metadata": {},
   "outputs": [],
   "source": [
    "def update_gui(self):\n",
    "    ax = self.ax\n",
    "    ai = self.mb.ai\n",
    "    \n",
    "    # Axes の内容をクリアして、これまでの描画内容を削除する\n",
    "    ax.clear()\n",
    "    \n",
    "    # y 軸を反転させる\n",
    "    ax.invert_yaxis()\n",
    "    \n",
    "    # 枠と目盛りを表示しないようにする\n",
    "    ax.axis(\"off\")   \n",
    "    \n",
    "    # リプレイ中、ゲームの決着がついていた場合は背景色を変更する\n",
    "    is_replay =  self.mb.move_count < len(self.mb.records) - 1 \n",
    "    if self.mb.status == Marubatsu.PLAYING:\n",
    "        facecolor = \"lightcyan\" if is_replay else \"white\"\n",
    "    else:\n",
    "        facecolor = \"lightyellow\"\n",
    "\n",
    "    ax.figure.set_facecolor(facecolor)\n",
    "        \n",
    "    # 上部のメッセージを描画する\n",
    "    # 対戦カードの文字列を計算する\n",
    "    ax.text(1.5, 3.5, f\"{self.dropdown_list[0].label}　VS　{self.dropdown_list[1].label}\", fontsize=20, ha=\"center\")   \n",
    "    \n",
    "    # ゲームの決着がついていない場合は、手番を表示する\n",
    "    if self.mb.status == Marubatsu.PLAYING:\n",
    "        text = \"Turn \" + self.mb.turn\n",
    "    # 引き分けの場合\n",
    "    elif self.mb.status == Marubatsu.DRAW:\n",
    "        text = \"Draw game\"\n",
    "    # 決着がついていれば勝者を表示する\n",
    "    else:\n",
    "        text = \"Winner \" + self.mb.status\n",
    "    # リプレイ中の場合は \"Replay\" を表示する\n",
    "    if is_replay:\n",
    "        text += \" Replay\"\n",
    "    ax.text(0, -0.2, text, fontsize=20)\n",
    "    \n",
    "    self.draw_board(ax, self.mb)\n",
    "    \n",
    "    self.update_widgets_status()\n",
    "    \n",
    "    if hasattr(self, \"mbtree_gui\"):\n",
    "        self.mbtree_gui.selectednode = self.mbtree.nodelist_by_mb[tuple(self.mb.records)]\n",
    "        self.mbtree_gui.update_gui()\n",
    "    \n",
    "Marubatsu_GUI.update_gui = update_gui "
   ]
  },
  {
   "cell_type": "code",
   "execution_count": 6,
   "metadata": {},
   "outputs": [
    {
     "data": {
      "application/vnd.jupyter.widget-view+json": {
       "model_id": "42432a361d8147349c7e51d59dbf634d",
       "version_major": 2,
       "version_minor": 0
      },
      "text/plain": [
       "VBox(children=(HBox(children=(Checkbox(value=False, description='乱数の種', indent=False, layout=Layout(width='100…"
      ]
     },
     "metadata": {},
     "output_type": "display_data"
    },
    {
     "data": {
      "application/vnd.jupyter.widget-view+json": {
       "model_id": "ce6ecf5cba14492b96e46756600fbfe8",
       "version_major": 2,
       "version_minor": 0
      },
      "text/plain": [
       "VBox(children=(Output(), HBox(children=(Label(value='', layout=Layout(width='50px')), Button(description='↑', …"
      ]
     },
     "metadata": {},
     "output_type": "display_data"
    }
   ],
   "source": [
    "gui_play()"
   ]
  },
  {
   "cell_type": "code",
   "execution_count": 7,
   "metadata": {},
   "outputs": [],
   "source": [
    "from tree import Node, Rect\n",
    "import matplotlib.pyplot as plt\n",
    "\n",
    "def draw_node(self, ax, maxdepth=None, emphasize=False, size=0.25, lw=0.8, dx=0, dy=0):\n",
    "    width = 8\n",
    "    if ax is None:\n",
    "        height = len(self.children) * 4\n",
    "        fig, ax = plt.subplots(figsize=(width * size, height * size))\n",
    "        ax.set_xlim(0, width)\n",
    "        ax.set_ylim(0, height)   \n",
    "        ax.invert_yaxis()\n",
    "        ax.axis(\"off\")\n",
    "        for childnode in self.children:\n",
    "            childnode.height = 4\n",
    "        self.height = height         \n",
    "        \n",
    "    # 自分自身のノードを真ん中の位置になるように (dx, dy) からずらして描画する\n",
    "    y = dy + (self.height - 3) / 2\n",
    "    Marubatsu_GUI.draw_board(ax, self.mb, show_result=True, \n",
    "                            score=getattr(self, \"score\", None), emphasize=emphasize, lw=lw, dx=dx, dy=y)\n",
    "    rect = Rect(dx, y, 3, 3)\n",
    "    # 子ノードが存在する場合に、エッジの線と子ノードを描画する\n",
    "    if len(self.children) > 0:\n",
    "        if maxdepth != self.depth:   \n",
    "            ax.plot([dx + 3.5, dx + 4], [y + 1.5, y + 1.5], c=\"k\", lw=lw)\n",
    "            prevy = None\n",
    "            for childnode in self.children:\n",
    "                childnodey = dy + (childnode.height - 3) / 2\n",
    "                if maxdepth is None:\n",
    "                    Marubatsu_GUI.draw_board(ax, childnode.mb, show_result=True,\n",
    "                                            score=getattr(childnode, \"score\", None), dx=dx+5, dy=childnodey, lw=lw)\n",
    "                edgey = childnodey + 1.5\n",
    "                ax.plot([dx + 4 , dx + 4.5], [edgey, edgey], c=\"k\", lw=lw)\n",
    "                if prevy is not None:\n",
    "                    ax.plot([dx + 4 , dx + 4], [prevy, edgey], c=\"k\", lw=lw)\n",
    "                prevy = edgey\n",
    "                dy += childnode.height\n",
    "        else:\n",
    "            ax.plot([dx + 3.5, dx + 4.5], [y + 1.5, y + 1.5], c=\"k\", lw=lw)\n",
    "            \n",
    "    return rect\n",
    "\n",
    "Node.draw_node = draw_node"
   ]
  },
  {
   "cell_type": "code",
   "execution_count": 8,
   "metadata": {},
   "outputs": [
    {
     "data": {
      "application/vnd.jupyter.widget-view+json": {
       "model_id": "12100d4e4e864e5bb3a3aa02831dfdc7",
       "version_major": 2,
       "version_minor": 0
      },
      "text/plain": [
       "VBox(children=(HBox(children=(Checkbox(value=False, description='乱数の種', indent=False, layout=Layout(width='100…"
      ]
     },
     "metadata": {},
     "output_type": "display_data"
    },
    {
     "data": {
      "application/vnd.jupyter.widget-view+json": {
       "model_id": "f01a56f214bc45e891c26f8e1f2ffc50",
       "version_major": 2,
       "version_minor": 0
      },
      "text/plain": [
       "VBox(children=(Output(), HBox(children=(Label(value='', layout=Layout(width='50px')), Button(description='↑', …"
      ]
     },
     "metadata": {},
     "output_type": "display_data"
    }
   ],
   "source": [
    "gui_play()"
   ]
  },
  {
   "cell_type": "code",
   "execution_count": 9,
   "metadata": {},
   "outputs": [],
   "source": [
    "def update_gui(self):\n",
    "    ax = self.ax\n",
    "    ai = self.mb.ai\n",
    "    \n",
    "    # Axes の内容をクリアして、これまでの描画内容を削除する\n",
    "    ax.clear()\n",
    "    \n",
    "    # y 軸を反転させる\n",
    "    ax.invert_yaxis()\n",
    "    \n",
    "    # 枠と目盛りを表示しないようにする\n",
    "    ax.axis(\"off\")   \n",
    "    \n",
    "    # リプレイ中、ゲームの決着がついていた場合は背景色を変更する\n",
    "    is_replay =  self.mb.move_count < len(self.mb.records) - 1 \n",
    "    if self.mb.status == Marubatsu.PLAYING:\n",
    "        facecolor = \"lightcyan\" if is_replay else \"white\"\n",
    "    else:\n",
    "        facecolor = \"lightyellow\"\n",
    "\n",
    "    ax.figure.set_facecolor(facecolor)\n",
    "        \n",
    "    # 上部のメッセージを描画する\n",
    "    # 対戦カードの文字列を計算する\n",
    "    ax.text(1.5, 3.5, f\"{self.dropdown_list[0].label}　VS　{self.dropdown_list[1].label}\", fontsize=20, ha=\"center\")   \n",
    "    \n",
    "    # ゲームの決着がついていない場合は、手番を表示する\n",
    "    if self.mb.status == Marubatsu.PLAYING:\n",
    "        text = \"Turn \" + self.mb.turn\n",
    "    # 引き分けの場合\n",
    "    elif self.mb.status == Marubatsu.DRAW:\n",
    "        text = \"Draw game\"\n",
    "    # 決着がついていれば勝者を表示する\n",
    "    else:\n",
    "        text = \"Winner \" + self.mb.status\n",
    "    # リプレイ中の場合は \"Replay\" を表示する\n",
    "    if is_replay:\n",
    "        text += \" Replay\"\n",
    "    ax.text(0, -0.2, text, fontsize=20)\n",
    "    \n",
    "    self.draw_board(ax, self.mb)\n",
    "    \n",
    "    self.update_widgets_status()\n",
    "    \n",
    "    if hasattr(self, \"mbtree_gui\"):\n",
    "        key = tuple(self.mb.records[:self.mb.move_count + 1])\n",
    "        self.mbtree_gui.selectednode = self.mbtree.nodelist_by_mb[key]\n",
    "        self.mbtree_gui.update_gui()\n",
    "    \n",
    "Marubatsu_GUI.update_gui = update_gui "
   ]
  },
  {
   "cell_type": "code",
   "execution_count": 10,
   "metadata": {},
   "outputs": [
    {
     "data": {
      "application/vnd.jupyter.widget-view+json": {
       "model_id": "06ce3eec31184b08a5ff43fc631cce70",
       "version_major": 2,
       "version_minor": 0
      },
      "text/plain": [
       "VBox(children=(HBox(children=(Checkbox(value=False, description='乱数の種', indent=False, layout=Layout(width='100…"
      ]
     },
     "metadata": {},
     "output_type": "display_data"
    },
    {
     "data": {
      "application/vnd.jupyter.widget-view+json": {
       "model_id": "4bd5ef76346f42508036278a66a042c8",
       "version_major": 2,
       "version_minor": 0
      },
      "text/plain": [
       "VBox(children=(Output(), HBox(children=(Label(value='', layout=Layout(width='50px')), Button(description='↑', …"
      ]
     },
     "metadata": {},
     "output_type": "display_data"
    }
   ],
   "source": [
    "gui_play()"
   ]
  },
  {
   "cell_type": "code",
   "execution_count": 11,
   "metadata": {},
   "outputs": [],
   "source": [
    "def __init__(self, mb, params, names, ai_dict, seed, size):   \n",
    "    if params is None:\n",
    "        params = [{}, {}]\n",
    "    if ai_dict is None:\n",
    "        ai_dict = {}\n",
    "    if names is None:\n",
    "        names = [None, None]\n",
    "    for i in range(2):\n",
    "        if names[i] is None:\n",
    "            if mb.ai[i] is None:\n",
    "                names[i] = \"人間\"\n",
    "            else:\n",
    "                names[i] = mb.ai[i].__name__\n",
    "    \n",
    "    # JupyterLab からファイルダイアログを開く際に必要な前処理\n",
    "    root = Tk()\n",
    "    root.withdraw()\n",
    "    root.call('wm', 'attributes', '.', '-topmost', True)  \n",
    "\n",
    "    # save フォルダが存在しない場合は作成する\n",
    "    if not os.path.exists(\"save\"):\n",
    "        os.mkdir(\"save\")        \n",
    "    \n",
    "    self.mb = mb\n",
    "    self.ai_dict = ai_dict\n",
    "    self.params = params\n",
    "    self.names = names\n",
    "    self.seed = seed\n",
    "    self.size = size\n",
    "    \n",
    "    super(Marubatsu_GUI, self).__init__()\n",
    "    \n",
    "    if Marubatsu_GUI.mbtree is None:\n",
    "        Marubatsu_GUI.mbtree = Mbtree.load(\"../data/aidata\")\n",
    "    self.mbtree_gui = Mbtree_GUI(Marubatsu_GUI.mbtree, size=0.1)\n",
    "\n",
    "Marubatsu_GUI.__init__ = __init__"
   ]
  },
  {
   "cell_type": "code",
   "execution_count": 12,
   "metadata": {},
   "outputs": [],
   "source": [
    "Marubatsu_GUI.mbtree = None"
   ]
  },
  {
   "cell_type": "code",
   "execution_count": 13,
   "metadata": {},
   "outputs": [
    {
     "data": {
      "application/vnd.jupyter.widget-view+json": {
       "model_id": "801ea7ed5cfe4e5babc9ab055a6622f3",
       "version_major": 2,
       "version_minor": 0
      },
      "text/plain": [
       "VBox(children=(HBox(children=(Checkbox(value=False, description='乱数の種', indent=False, layout=Layout(width='100…"
      ]
     },
     "metadata": {},
     "output_type": "display_data"
    },
    {
     "data": {
      "application/vnd.jupyter.widget-view+json": {
       "model_id": "4682e519693346d2a309cb50924145a4",
       "version_major": 2,
       "version_minor": 0
      },
      "text/plain": [
       "VBox(children=(Output(), HBox(children=(Label(value='', layout=Layout(width='50px')), Button(description='↑', …"
      ]
     },
     "metadata": {},
     "output_type": "display_data"
    }
   ],
   "source": [
    "gui_play()"
   ]
  },
  {
   "cell_type": "code",
   "execution_count": 14,
   "metadata": {},
   "outputs": [
    {
     "data": {
      "application/vnd.jupyter.widget-view+json": {
       "model_id": "6deba55871ad47a8ad95fbe9ecfb4c2e",
       "version_major": 2,
       "version_minor": 0
      },
      "text/plain": [
       "VBox(children=(HBox(children=(Checkbox(value=False, description='乱数の種', indent=False, layout=Layout(width='100…"
      ]
     },
     "metadata": {},
     "output_type": "display_data"
    },
    {
     "data": {
      "application/vnd.jupyter.widget-view+json": {
       "model_id": "19a12967efab47489ffce420210c5911",
       "version_major": 2,
       "version_minor": 0
      },
      "text/plain": [
       "VBox(children=(Output(), HBox(children=(Label(value='', layout=Layout(width='50px')), Button(description='↑', …"
      ]
     },
     "metadata": {},
     "output_type": "display_data"
    }
   ],
   "source": [
    "gui_play()"
   ]
  },
  {
   "cell_type": "code",
   "execution_count": 15,
   "metadata": {},
   "outputs": [
    {
     "data": {
      "application/vnd.jupyter.widget-view+json": {
       "model_id": "a52d9fb593564eb6b2d98d7f2c6ce359",
       "version_major": 2,
       "version_minor": 0
      },
      "text/plain": [
       "Button(description='test', style=ButtonStyle())"
      ]
     },
     "metadata": {},
     "output_type": "display_data"
    }
   ],
   "source": [
    "import ipywidgets as widgets\n",
    "\n",
    "button = widgets.Button(description=\"test\")\n",
    "display(button)"
   ]
  },
  {
   "cell_type": "code",
   "execution_count": 16,
   "metadata": {},
   "outputs": [],
   "source": [
    "button.layout.display = \"none\""
   ]
  },
  {
   "cell_type": "code",
   "execution_count": 17,
   "metadata": {},
   "outputs": [],
   "source": [
    "button.layout.display = None"
   ]
  },
  {
   "cell_type": "code",
   "execution_count": 18,
   "metadata": {},
   "outputs": [],
   "source": [
    "def display_widgets(self):\n",
    "    hbox1 = widgets.HBox([self.label, self.up_button, self.label])\n",
    "    hbox2 = widgets.HBox([self.left_button, self.label, self.right_button,\n",
    "                          self.label, self.help_button])\n",
    "    hbox3 = widgets.HBox([self.label, self.down_button, self.label])\n",
    "    self.vbox = widgets.VBox([self.output, hbox1, hbox2, hbox3, self.fig.canvas])\n",
    "    display(self.vbox)  \n",
    "    \n",
    "Mbtree_GUI.display_widgets = display_widgets"
   ]
  },
  {
   "cell_type": "code",
   "execution_count": 19,
   "metadata": {},
   "outputs": [],
   "source": [
    "def create_widgets(self):\n",
    "    # 乱数の種の Checkbox と IntText を作成する\n",
    "    self.checkbox = widgets.Checkbox(value=self.seed is not None, description=\"乱数の種\",\n",
    "                                    indent=False, layout=widgets.Layout(width=\"100px\"))\n",
    "    self.inttext = widgets.IntText(value=0 if self.seed is None else self.seed,\n",
    "                                layout=widgets.Layout(width=\"80px\"))   \n",
    "\n",
    "    # 読み書き、ヘルプのボタンを作成する\n",
    "    self.load_button = self.create_button(\"開く\", 50)\n",
    "    self.save_button = self.create_button(\"保存\", 50)\n",
    "    self.show_tree_button = self.create_button(\"木\", 34)\n",
    "    self.reset_tree_button = self.create_button(\"リ\", 34)\n",
    "    self.help_button = self.create_button(\"？\", 34)\n",
    "    \n",
    "    # AI を選択する Dropdown を作成する\n",
    "    self.create_dropdown()\n",
    "    # 変更、リセット、待ったボタンを作成する\n",
    "    self.change_button = self.create_button(\"変更\", 50)\n",
    "    self.reset_button = self.create_button(\"リセット\", 80)\n",
    "    self.undo_button = self.create_button(\"待った\", 60)    \n",
    "    \n",
    "    # リプレイのボタンとスライダーを作成する\n",
    "    self.first_button = self.create_button(\"<<\", 50)\n",
    "    self.prev_button = self.create_button(\"<\", 50)\n",
    "    self.next_button = self.create_button(\">\", 50)\n",
    "    self.last_button = self.create_button(\">>\", 50)     \n",
    "    self.slider = widgets.IntSlider(layout=widgets.Layout(width=\"200px\"))\n",
    "    # ゲーム盤の画像を表す figure を作成する\n",
    "    self.create_figure()\n",
    "\n",
    "    # print による文字列を表示する Output を作成する\n",
    "    self.output = widgets.Output()    \n",
    "    \n",
    "Marubatsu_GUI.create_widgets = create_widgets"
   ]
  },
  {
   "cell_type": "code",
   "execution_count": 20,
   "metadata": {},
   "outputs": [],
   "source": [
    "def display_widgets(self):\n",
    "    # 乱数の種のウィジェット、読み書き、ヘルプのボタンを横に配置した HBox を作成する\n",
    "    hbox1 = widgets.HBox([self.checkbox, self.inttext, self.load_button, self.save_button,\n",
    "                          self.show_tree_button, self.reset_tree_button, self.help_button])\n",
    "    # 〇 と × の dropdown とボタンを横に配置した HBox を作成する\n",
    "    hbox2 = widgets.HBox([self.dropdown_list[0], self.dropdown_list[1], self.change_button, self.reset_button, self.undo_button])\n",
    "    # リプレイ機能のボタンを横に配置した HBox を作成する\n",
    "    hbox3 = widgets.HBox([self.first_button, self.prev_button, self.next_button, self.last_button, self.slider]) \n",
    "    # hbox1 ~ hbox3、Figure、Output を縦に配置した VBox を作成し、表示する\n",
    "    display(widgets.VBox([hbox1, hbox2, hbox3, self.fig.canvas, self.output]))  \n",
    "\n",
    "Marubatsu_GUI.display_widgets = display_widgets "
   ]
  },
  {
   "cell_type": "code",
   "execution_count": 21,
   "metadata": {},
   "outputs": [
    {
     "data": {
      "application/vnd.jupyter.widget-view+json": {
       "model_id": "405132326f5347a98519546259c29ee4",
       "version_major": 2,
       "version_minor": 0
      },
      "text/plain": [
       "VBox(children=(HBox(children=(Checkbox(value=False, description='乱数の種', indent=False, layout=Layout(width='100…"
      ]
     },
     "metadata": {},
     "output_type": "display_data"
    },
    {
     "data": {
      "application/vnd.jupyter.widget-view+json": {
       "model_id": "cf5b1d05209b4fbc96dcc5be6de1ee7c",
       "version_major": 2,
       "version_minor": 0
      },
      "text/plain": [
       "VBox(children=(Output(), HBox(children=(Label(value='', layout=Layout(width='50px')), Button(description='↑', …"
      ]
     },
     "metadata": {},
     "output_type": "display_data"
    }
   ],
   "source": [
    "gui_play()"
   ]
  },
  {
   "cell_type": "code",
   "execution_count": 22,
   "metadata": {},
   "outputs": [],
   "source": [
    "import math\n",
    "\n",
    "def create_event_handler(self):\n",
    "    # 乱数の種のチェックボックスのイベントハンドラを定義する\n",
    "    def on_checkbox_changed(changed):\n",
    "        self.update_widgets_status()\n",
    "        \n",
    "    self.checkbox.observe(on_checkbox_changed, names=\"value\")\n",
    "\n",
    "    # 開く、保存ボタンのイベントハンドラを定義する\n",
    "    def on_load_button_clicked(b=None):\n",
    "        path = filedialog.askopenfilename(filetypes=[(\"〇×ゲーム\", \"*.mbsav\")],\n",
    "                                        initialdir=\"save\")\n",
    "        if path != \"\":\n",
    "            with open(path, \"rb\") as f:\n",
    "                data = pickle.load(f)\n",
    "                self.mb.records = data[\"records\"]\n",
    "                self.mb.ai = data[\"ai\"]\n",
    "                self.params = data[\"params\"] if \"params\" in data else [ {}, {} ]\n",
    "                if \"names\" in data:\n",
    "                    names = data[\"names\"]\n",
    "                else:\n",
    "                    names = [ \"人間\" if mb.ai[i] is None else mb.ai[i].__name__ for i in range(2)]                       \n",
    "                options = self.dropdown_list[0].options.copy()\n",
    "                for i in range(2):\n",
    "                    value = (self.mb.ai[i], self.params[i]) \n",
    "                    if not value in options.values():\n",
    "                        options[names[i]] = value\n",
    "                for i in range(2):\n",
    "                    self.dropdown_list[i].options = options\n",
    "                    self.dropdown_list[i].value = (self.mb.ai[i], self.params[i])            \n",
    "                change_step(data[\"move_count\"])\n",
    "                if data[\"seed\"] is not None:                   \n",
    "                    self.checkbox.value = True\n",
    "                    self.inttext.value = data[\"seed\"]\n",
    "                else:\n",
    "                    self.checkbox.value = False\n",
    "                    \n",
    "    def on_save_button_clicked(b=None):\n",
    "        names = [ self.dropdown_list[i].label for i in range(2) ]     \n",
    "        timestr = datetime.now().strftime(\"%Y年%m月%d日 %H時%M分%S秒\")\n",
    "        fname = f\"{names[0]} VS {names[1]} {timestr}\"\n",
    "        path = filedialog.asksaveasfilename(filetypes=[(\"〇×ゲーム\", \"*.mbsav\")],\n",
    "                                            initialdir=\"save\", initialfile=fname,\n",
    "                                            defaultextension=\"mbsav\")\n",
    "        if path != \"\":\n",
    "            with open(path, \"wb\") as f:\n",
    "                data = {\n",
    "                    \"records\": self.mb.records,\n",
    "                    \"move_count\": self.mb.move_count,\n",
    "                    \"ai\": self.mb.ai,\n",
    "                    \"params\": self.params,\n",
    "                    \"names\": names,\n",
    "                    \"seed\": self.inttext.value if self.checkbox.value else None\n",
    "                }\n",
    "                pickle.dump(data, f)\n",
    "                \n",
    "    def on_show_tree_button_clicked(b=None):\n",
    "        self.mbtree_gui.vbox.layout.display = \"none\" if self.mbtree_gui.vbox.layout.display is None else None\n",
    "        \n",
    "    def on_reset_tree_button_clicked(b=None):\n",
    "        self.update_gui()\n",
    "                \n",
    "    def on_help_button_clicked(b=None):\n",
    "        self.output.clear_output()\n",
    "        with self.output:\n",
    "            print(\"\"\"操作説明\n",
    "\n",
    "マスの上でクリックすることで着手を行う。\n",
    "下記の GUI で操作を行うことができる。\n",
    "()が記載されているものは、キー入力で同じ操作を行うことができることを意味する。\n",
    "なお、キー入力の操作は、ゲーム盤をクリックして選択状態にする必要がある。\n",
    "\n",
    "乱数の種\\tチェックボックスを ON にすると、右のテキストボックスの乱数の種が適用される\n",
    "開く(-,L)\\tファイルから対戦データを読み込む\n",
    "保存(+,S)\\tファイルに対戦データを保存する\n",
    "？(*,H)\\t\\tこの操作説明を表示する\n",
    "手番の担当\\tメニューからそれぞれの手番の担当を選択する\n",
    "\\t\\tメニューから選択しただけでは担当は変更されず、変更またはリセットボタンによって担当が変更される\n",
    "変更\\t\\tゲームの途中で手番の担当を変更する\n",
    "リセット\\t手番の担当を変更してゲームをリセットする\n",
    "待った(0)\\t1つ前の自分の着手をキャンセルする\n",
    "<<(↑)\\t\\t最初の局面に移動する\n",
    "<(←)\\t\\t1手前の局面に移動する\n",
    ">(→)\\t\\t1手後の局面に移動する\n",
    ">>(↓)\\t\\t最後の着手が行われた局面に移動する\n",
    "スライダー\\t現在の手数を表す。ドラッグすることで任意の手数へ移動する\n",
    "\n",
    "手数を移動した場合に、最後の着手が行われた局面でなければ、リプレイモードになる。\n",
    "リプレイモード中に着手を行うと、リプレイモードが解除され、その着手が最後の着手になる。\"\"\")\n",
    "            \n",
    "    self.load_button.on_click(on_load_button_clicked)\n",
    "    self.save_button.on_click(on_save_button_clicked)\n",
    "    self.show_tree_button.on_click(on_show_tree_button_clicked)\n",
    "    self.reset_tree_button.on_click(on_reset_tree_button_clicked)\n",
    "    self.help_button.on_click(on_help_button_clicked)\n",
    "    \n",
    "    # 変更ボタンのイベントハンドラを定義する\n",
    "    def on_change_button_clicked(b):\n",
    "        for i in range(2):\n",
    "            self.mb.ai[i], self.params[i] = self.dropdown_list[i].value\n",
    "        self.mb.play_loop(self, self.params)\n",
    "\n",
    "    # リセットボタンのイベントハンドラを定義する\n",
    "    def on_reset_button_clicked(b=None):\n",
    "        # 乱数の種のチェックボックスが ON の場合に、乱数の種の処理を行う\n",
    "        if self.checkbox.value:\n",
    "            random.seed(self.inttext.value)\n",
    "        self.mb.restart()\n",
    "        self.output.clear_output()\n",
    "        on_change_button_clicked(b)\n",
    "\n",
    "    # 待ったボタンのイベントハンドラを定義する\n",
    "    def on_undo_button_clicked(b=None):\n",
    "        if self.mb.move_count >= 2 and self.mb.move_count == len(self.mb.records) - 1:\n",
    "            self.mb.move_count -= 2\n",
    "            self.mb.records = self.mb.records[0:self.mb.move_count+1]\n",
    "            self.mb.change_step(self.mb.move_count)\n",
    "            self.update_gui()\n",
    "        \n",
    "    # イベントハンドラをボタンに結びつける\n",
    "    self.change_button.on_click(on_change_button_clicked)\n",
    "    self.reset_button.on_click(on_reset_button_clicked)   \n",
    "    self.undo_button.on_click(on_undo_button_clicked)   \n",
    "    \n",
    "    # step 手目の局面に移動する\n",
    "    def change_step(step):\n",
    "        self.mb.change_step(step)\n",
    "        # 描画を更新する\n",
    "        self.update_gui()        \n",
    "\n",
    "    def on_first_button_clicked(b=None):\n",
    "        change_step(0)\n",
    "\n",
    "    def on_prev_button_clicked(b=None):\n",
    "        change_step(self.mb.move_count - 1)\n",
    "\n",
    "    def on_next_button_clicked(b=None):\n",
    "        change_step(self.mb.move_count + 1)\n",
    "        \n",
    "    def on_last_button_clicked(b=None):\n",
    "        change_step(len(self.mb.records) - 1)\n",
    "\n",
    "    def on_slider_changed(changed):\n",
    "        if self.mb.move_count != changed[\"new\"]:\n",
    "            change_step(changed[\"new\"])\n",
    "        \n",
    "    self.first_button.on_click(on_first_button_clicked)\n",
    "    self.prev_button.on_click(on_prev_button_clicked)\n",
    "    self.next_button.on_click(on_next_button_clicked)\n",
    "    self.last_button.on_click(on_last_button_clicked)\n",
    "    self.slider.observe(on_slider_changed, names=\"value\")\n",
    "    \n",
    "    # ゲーム盤の上でマウスを押した場合のイベントハンドラ\n",
    "    def on_mouse_down(event):\n",
    "        # Axes の上でマウスを押していた場合のみ処理を行う\n",
    "        if event.inaxes and self.mb.status == Marubatsu.PLAYING:\n",
    "            x = math.floor(event.xdata)\n",
    "            y = math.floor(event.ydata)\n",
    "            with self.output:\n",
    "                self.mb.move(x, y)                \n",
    "            # 次の手番の処理を行うメソッドを呼び出す\n",
    "            self.mb.play_loop(self, self.params)\n",
    "\n",
    "    # ゲーム盤を選択した状態でキーを押した場合のイベントハンドラ\n",
    "    def on_key_press(event):\n",
    "        keymap = {\n",
    "            \"up\": on_first_button_clicked,\n",
    "            \"left\": on_prev_button_clicked,\n",
    "            \"right\": on_next_button_clicked,\n",
    "            \"down\": on_last_button_clicked,\n",
    "            \"0\": on_undo_button_clicked,\n",
    "            \"enter\": on_reset_button_clicked,            \n",
    "            \"-\": on_load_button_clicked,            \n",
    "            \"l\": on_load_button_clicked,            \n",
    "            \"+\": on_save_button_clicked,            \n",
    "            \"s\": on_save_button_clicked,            \n",
    "            \"*\": on_help_button_clicked,            \n",
    "            \"h\": on_help_button_clicked,            \n",
    "        }\n",
    "        if event.key in keymap:\n",
    "            keymap[event.key]()\n",
    "        else:\n",
    "            try:\n",
    "                num = int(event.key) - 1\n",
    "                event.inaxes = True\n",
    "                event.xdata = num % 3\n",
    "                event.ydata = 2 - (num // 3)\n",
    "                on_mouse_down(event)\n",
    "            except:\n",
    "                pass\n",
    "            \n",
    "    # fig の画像イベントハンドラを結び付ける\n",
    "    self.fig.canvas.mpl_connect(\"button_press_event\", on_mouse_down)     \n",
    "    self.fig.canvas.mpl_connect(\"key_press_event\", on_key_press)         \n",
    "    \n",
    "Marubatsu_GUI.create_event_handler = create_event_handler"
   ]
  },
  {
   "cell_type": "code",
   "execution_count": 23,
   "metadata": {},
   "outputs": [
    {
     "data": {
      "application/vnd.jupyter.widget-view+json": {
       "model_id": "31907c8e0392438a9a4165d91517c995",
       "version_major": 2,
       "version_minor": 0
      },
      "text/plain": [
       "VBox(children=(HBox(children=(Checkbox(value=False, description='乱数の種', indent=False, layout=Layout(width='100…"
      ]
     },
     "metadata": {},
     "output_type": "display_data"
    },
    {
     "data": {
      "application/vnd.jupyter.widget-view+json": {
       "model_id": "2fc448c7b4384ae88a389c43ee9abd5c",
       "version_major": 2,
       "version_minor": 0
      },
      "text/plain": [
       "VBox(children=(Output(), HBox(children=(Label(value='', layout=Layout(width='50px')), Button(description='↑', …"
      ]
     },
     "metadata": {},
     "output_type": "display_data"
    }
   ],
   "source": [
    "gui_play()"
   ]
  }
 ],
 "metadata": {
  "kernelspec": {
   "display_name": "marubatsu",
   "language": "python",
   "name": "python3"
  },
  "language_info": {
   "codemirror_mode": {
    "name": "ipython",
    "version": 3
   },
   "file_extension": ".py",
   "mimetype": "text/x-python",
   "name": "python",
   "nbconvert_exporter": "python",
   "pygments_lexer": "ipython3",
   "version": "3.11.4"
  }
 },
 "nbformat": 4,
 "nbformat_minor": 2
}
