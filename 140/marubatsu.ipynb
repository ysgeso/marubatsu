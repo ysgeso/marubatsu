{
 "cells": [
  {
   "cell_type": "code",
   "execution_count": 1,
   "metadata": {},
   "outputs": [],
   "source": [
    "from marubatsu import Marubatsu\n",
    "from tree import Mbtree\n",
    "from ai import dprint\n",
    "\n",
    "def calc_score_by_ab(self, abroot, debug=False):\n",
    "    self.count = 0\n",
    "\n",
    "    def calc_ab_score(node, alpha=float(\"-inf\"), beta=float(\"inf\")):\n",
    "        self.count += 1\n",
    "        if node.mb.status != Marubatsu.PLAYING:\n",
    "            self.calc_score_of_node(node)\n",
    "            return node.score\n",
    "        else:\n",
    "            if node.mb.turn == Marubatsu.CIRCLE:\n",
    "                for childnode in node.children:\n",
    "                    score = calc_ab_score(childnode, alpha, beta)\n",
    "                    if score >= beta:\n",
    "                        node.score = score\n",
    "                        return score\n",
    "                    alpha = max(alpha, score)\n",
    "                node.score = alpha\n",
    "                return alpha\n",
    "            else:\n",
    "                for childnode in node.children:\n",
    "                    score = calc_ab_score(childnode, alpha, beta)\n",
    "                    if score <= alpha:\n",
    "                        node.score = score\n",
    "                        return score\n",
    "                    beta = min(beta, score)\n",
    "                node.score = beta\n",
    "                return beta\n",
    "\n",
    "    calc_ab_score(abroot)\n",
    "    dprint(debug, \"count =\", self.count)\n",
    "    \n",
    "Mbtree.calc_score_by_ab = calc_score_by_ab"
   ]
  },
  {
   "cell_type": "code",
   "execution_count": 2,
   "metadata": {},
   "outputs": [
    {
     "name": "stdout",
     "output_type": "stream",
     "text": [
      "count = 18297\n",
      "0\n"
     ]
    }
   ],
   "source": [
    "mbtree = Mbtree(algo=\"df\")\n",
    "mbtree.calc_score_by_ab(mbtree.root, debug=True)\n",
    "print(mbtree.root.score)"
   ]
  },
  {
   "cell_type": "code",
   "execution_count": 3,
   "metadata": {},
   "outputs": [
    {
     "ename": "AttributeError",
     "evalue": "'Mbtree' object has no attribute 'shortest_victory'",
     "output_type": "error",
     "traceback": [
      "\u001b[1;31m---------------------------------------------------------------------------\u001b[0m",
      "\u001b[1;31mAttributeError\u001b[0m                            Traceback (most recent call last)",
      "Cell \u001b[1;32mIn[3], line 2\u001b[0m\n\u001b[0;32m      1\u001b[0m mbtree2 \u001b[38;5;241m=\u001b[39m Mbtree\u001b[38;5;241m.\u001b[39mload(\u001b[38;5;124m\"\u001b[39m\u001b[38;5;124m../data/dfscore\u001b[39m\u001b[38;5;124m\"\u001b[39m)\n\u001b[1;32m----> 2\u001b[0m mbtree2\u001b[38;5;241m.\u001b[39mcalc_score_by_ab(mbtree\u001b[38;5;241m.\u001b[39mroot, debug\u001b[38;5;241m=\u001b[39m\u001b[38;5;28;01mTrue\u001b[39;00m)\n",
      "Cell \u001b[1;32mIn[1], line 33\u001b[0m, in \u001b[0;36mcalc_score_by_ab\u001b[1;34m(self, abroot, debug)\u001b[0m\n\u001b[0;32m     30\u001b[0m             node\u001b[38;5;241m.\u001b[39mscore \u001b[38;5;241m=\u001b[39m beta\n\u001b[0;32m     31\u001b[0m             \u001b[38;5;28;01mreturn\u001b[39;00m beta\n\u001b[1;32m---> 33\u001b[0m calc_ab_score(abroot)\n\u001b[0;32m     34\u001b[0m dprint(debug, \u001b[38;5;124m\"\u001b[39m\u001b[38;5;124mcount =\u001b[39m\u001b[38;5;124m\"\u001b[39m, \u001b[38;5;28mself\u001b[39m\u001b[38;5;241m.\u001b[39mcount)\n",
      "Cell \u001b[1;32mIn[1], line 16\u001b[0m, in \u001b[0;36mcalc_score_by_ab.<locals>.calc_ab_score\u001b[1;34m(node, alpha, beta)\u001b[0m\n\u001b[0;32m     14\u001b[0m \u001b[38;5;28;01mif\u001b[39;00m node\u001b[38;5;241m.\u001b[39mmb\u001b[38;5;241m.\u001b[39mturn \u001b[38;5;241m==\u001b[39m Marubatsu\u001b[38;5;241m.\u001b[39mCIRCLE:\n\u001b[0;32m     15\u001b[0m     \u001b[38;5;28;01mfor\u001b[39;00m childnode \u001b[38;5;129;01min\u001b[39;00m node\u001b[38;5;241m.\u001b[39mchildren:\n\u001b[1;32m---> 16\u001b[0m         score \u001b[38;5;241m=\u001b[39m calc_ab_score(childnode, alpha, beta)\n\u001b[0;32m     17\u001b[0m         \u001b[38;5;28;01mif\u001b[39;00m score \u001b[38;5;241m>\u001b[39m\u001b[38;5;241m=\u001b[39m beta:\n\u001b[0;32m     18\u001b[0m             node\u001b[38;5;241m.\u001b[39mscore \u001b[38;5;241m=\u001b[39m score\n",
      "Cell \u001b[1;32mIn[1], line 25\u001b[0m, in \u001b[0;36mcalc_score_by_ab.<locals>.calc_ab_score\u001b[1;34m(node, alpha, beta)\u001b[0m\n\u001b[0;32m     23\u001b[0m \u001b[38;5;28;01melse\u001b[39;00m:\n\u001b[0;32m     24\u001b[0m     \u001b[38;5;28;01mfor\u001b[39;00m childnode \u001b[38;5;129;01min\u001b[39;00m node\u001b[38;5;241m.\u001b[39mchildren:\n\u001b[1;32m---> 25\u001b[0m         score \u001b[38;5;241m=\u001b[39m calc_ab_score(childnode, alpha, beta)\n\u001b[0;32m     26\u001b[0m         \u001b[38;5;28;01mif\u001b[39;00m score \u001b[38;5;241m<\u001b[39m\u001b[38;5;241m=\u001b[39m alpha:\n\u001b[0;32m     27\u001b[0m             node\u001b[38;5;241m.\u001b[39mscore \u001b[38;5;241m=\u001b[39m score\n",
      "Cell \u001b[1;32mIn[1], line 16\u001b[0m, in \u001b[0;36mcalc_score_by_ab.<locals>.calc_ab_score\u001b[1;34m(node, alpha, beta)\u001b[0m\n\u001b[0;32m     14\u001b[0m \u001b[38;5;28;01mif\u001b[39;00m node\u001b[38;5;241m.\u001b[39mmb\u001b[38;5;241m.\u001b[39mturn \u001b[38;5;241m==\u001b[39m Marubatsu\u001b[38;5;241m.\u001b[39mCIRCLE:\n\u001b[0;32m     15\u001b[0m     \u001b[38;5;28;01mfor\u001b[39;00m childnode \u001b[38;5;129;01min\u001b[39;00m node\u001b[38;5;241m.\u001b[39mchildren:\n\u001b[1;32m---> 16\u001b[0m         score \u001b[38;5;241m=\u001b[39m calc_ab_score(childnode, alpha, beta)\n\u001b[0;32m     17\u001b[0m         \u001b[38;5;28;01mif\u001b[39;00m score \u001b[38;5;241m>\u001b[39m\u001b[38;5;241m=\u001b[39m beta:\n\u001b[0;32m     18\u001b[0m             node\u001b[38;5;241m.\u001b[39mscore \u001b[38;5;241m=\u001b[39m score\n",
      "Cell \u001b[1;32mIn[1], line 25\u001b[0m, in \u001b[0;36mcalc_score_by_ab.<locals>.calc_ab_score\u001b[1;34m(node, alpha, beta)\u001b[0m\n\u001b[0;32m     23\u001b[0m \u001b[38;5;28;01melse\u001b[39;00m:\n\u001b[0;32m     24\u001b[0m     \u001b[38;5;28;01mfor\u001b[39;00m childnode \u001b[38;5;129;01min\u001b[39;00m node\u001b[38;5;241m.\u001b[39mchildren:\n\u001b[1;32m---> 25\u001b[0m         score \u001b[38;5;241m=\u001b[39m calc_ab_score(childnode, alpha, beta)\n\u001b[0;32m     26\u001b[0m         \u001b[38;5;28;01mif\u001b[39;00m score \u001b[38;5;241m<\u001b[39m\u001b[38;5;241m=\u001b[39m alpha:\n\u001b[0;32m     27\u001b[0m             node\u001b[38;5;241m.\u001b[39mscore \u001b[38;5;241m=\u001b[39m score\n",
      "Cell \u001b[1;32mIn[1], line 16\u001b[0m, in \u001b[0;36mcalc_score_by_ab.<locals>.calc_ab_score\u001b[1;34m(node, alpha, beta)\u001b[0m\n\u001b[0;32m     14\u001b[0m \u001b[38;5;28;01mif\u001b[39;00m node\u001b[38;5;241m.\u001b[39mmb\u001b[38;5;241m.\u001b[39mturn \u001b[38;5;241m==\u001b[39m Marubatsu\u001b[38;5;241m.\u001b[39mCIRCLE:\n\u001b[0;32m     15\u001b[0m     \u001b[38;5;28;01mfor\u001b[39;00m childnode \u001b[38;5;129;01min\u001b[39;00m node\u001b[38;5;241m.\u001b[39mchildren:\n\u001b[1;32m---> 16\u001b[0m         score \u001b[38;5;241m=\u001b[39m calc_ab_score(childnode, alpha, beta)\n\u001b[0;32m     17\u001b[0m         \u001b[38;5;28;01mif\u001b[39;00m score \u001b[38;5;241m>\u001b[39m\u001b[38;5;241m=\u001b[39m beta:\n\u001b[0;32m     18\u001b[0m             node\u001b[38;5;241m.\u001b[39mscore \u001b[38;5;241m=\u001b[39m score\n",
      "Cell \u001b[1;32mIn[1], line 25\u001b[0m, in \u001b[0;36mcalc_score_by_ab.<locals>.calc_ab_score\u001b[1;34m(node, alpha, beta)\u001b[0m\n\u001b[0;32m     23\u001b[0m \u001b[38;5;28;01melse\u001b[39;00m:\n\u001b[0;32m     24\u001b[0m     \u001b[38;5;28;01mfor\u001b[39;00m childnode \u001b[38;5;129;01min\u001b[39;00m node\u001b[38;5;241m.\u001b[39mchildren:\n\u001b[1;32m---> 25\u001b[0m         score \u001b[38;5;241m=\u001b[39m calc_ab_score(childnode, alpha, beta)\n\u001b[0;32m     26\u001b[0m         \u001b[38;5;28;01mif\u001b[39;00m score \u001b[38;5;241m<\u001b[39m\u001b[38;5;241m=\u001b[39m alpha:\n\u001b[0;32m     27\u001b[0m             node\u001b[38;5;241m.\u001b[39mscore \u001b[38;5;241m=\u001b[39m score\n",
      "Cell \u001b[1;32mIn[1], line 16\u001b[0m, in \u001b[0;36mcalc_score_by_ab.<locals>.calc_ab_score\u001b[1;34m(node, alpha, beta)\u001b[0m\n\u001b[0;32m     14\u001b[0m \u001b[38;5;28;01mif\u001b[39;00m node\u001b[38;5;241m.\u001b[39mmb\u001b[38;5;241m.\u001b[39mturn \u001b[38;5;241m==\u001b[39m Marubatsu\u001b[38;5;241m.\u001b[39mCIRCLE:\n\u001b[0;32m     15\u001b[0m     \u001b[38;5;28;01mfor\u001b[39;00m childnode \u001b[38;5;129;01min\u001b[39;00m node\u001b[38;5;241m.\u001b[39mchildren:\n\u001b[1;32m---> 16\u001b[0m         score \u001b[38;5;241m=\u001b[39m calc_ab_score(childnode, alpha, beta)\n\u001b[0;32m     17\u001b[0m         \u001b[38;5;28;01mif\u001b[39;00m score \u001b[38;5;241m>\u001b[39m\u001b[38;5;241m=\u001b[39m beta:\n\u001b[0;32m     18\u001b[0m             node\u001b[38;5;241m.\u001b[39mscore \u001b[38;5;241m=\u001b[39m score\n",
      "Cell \u001b[1;32mIn[1], line 11\u001b[0m, in \u001b[0;36mcalc_score_by_ab.<locals>.calc_ab_score\u001b[1;34m(node, alpha, beta)\u001b[0m\n\u001b[0;32m      9\u001b[0m \u001b[38;5;28mself\u001b[39m\u001b[38;5;241m.\u001b[39mcount \u001b[38;5;241m+\u001b[39m\u001b[38;5;241m=\u001b[39m \u001b[38;5;241m1\u001b[39m\n\u001b[0;32m     10\u001b[0m \u001b[38;5;28;01mif\u001b[39;00m node\u001b[38;5;241m.\u001b[39mmb\u001b[38;5;241m.\u001b[39mstatus \u001b[38;5;241m!=\u001b[39m Marubatsu\u001b[38;5;241m.\u001b[39mPLAYING:\n\u001b[1;32m---> 11\u001b[0m     \u001b[38;5;28mself\u001b[39m\u001b[38;5;241m.\u001b[39mcalc_score_of_node(node)\n\u001b[0;32m     12\u001b[0m     \u001b[38;5;28;01mreturn\u001b[39;00m node\u001b[38;5;241m.\u001b[39mscore\n\u001b[0;32m     13\u001b[0m \u001b[38;5;28;01melse\u001b[39;00m:\n",
      "File \u001b[1;32mc:\\Users\\ys\\ai\\marubatsu\\140\\tree.py:355\u001b[0m, in \u001b[0;36mMbtree.calc_score_of_node\u001b[1;34m(self, node)\u001b[0m\n\u001b[0;32m    347\u001b[0m \u001b[38;5;250m\u001b[39m\u001b[38;5;124;03m\"\"\" ノードの評価値を計算し、score 属性に代入する\u001b[39;00m\n\u001b[0;32m    348\u001b[0m \u001b[38;5;124;03m        \u001b[39;00m\n\u001b[0;32m    349\u001b[0m \u001b[38;5;124;03mArgs:\u001b[39;00m\n\u001b[0;32m    350\u001b[0m \u001b[38;5;124;03m    node:\u001b[39;00m\n\u001b[0;32m    351\u001b[0m \u001b[38;5;124;03m        評価値を計算するノード\u001b[39;00m\n\u001b[0;32m    352\u001b[0m \u001b[38;5;124;03m\"\"\"\u001b[39;00m\n\u001b[0;32m    354\u001b[0m \u001b[38;5;28;01mif\u001b[39;00m node\u001b[38;5;241m.\u001b[39mmb\u001b[38;5;241m.\u001b[39mstatus \u001b[38;5;241m==\u001b[39m Marubatsu\u001b[38;5;241m.\u001b[39mCIRCLE:\n\u001b[1;32m--> 355\u001b[0m     node\u001b[38;5;241m.\u001b[39mscore \u001b[38;5;241m=\u001b[39m (\u001b[38;5;241m11\u001b[39m \u001b[38;5;241m-\u001b[39m node\u001b[38;5;241m.\u001b[39mdepth) \u001b[38;5;241m/\u001b[39m \u001b[38;5;241m2\u001b[39m \u001b[38;5;28;01mif\u001b[39;00m \u001b[38;5;28mself\u001b[39m\u001b[38;5;241m.\u001b[39mshortest_victory \u001b[38;5;28;01melse\u001b[39;00m \u001b[38;5;241m1\u001b[39m\n\u001b[0;32m    356\u001b[0m \u001b[38;5;28;01melif\u001b[39;00m node\u001b[38;5;241m.\u001b[39mmb\u001b[38;5;241m.\u001b[39mstatus \u001b[38;5;241m==\u001b[39m Marubatsu\u001b[38;5;241m.\u001b[39mDRAW:\n\u001b[0;32m    357\u001b[0m     node\u001b[38;5;241m.\u001b[39mscore \u001b[38;5;241m=\u001b[39m \u001b[38;5;241m0\u001b[39m\n",
      "\u001b[1;31mAttributeError\u001b[0m: 'Mbtree' object has no attribute 'shortest_victory'"
     ]
    }
   ],
   "source": [
    "mbtree2 = Mbtree.load(\"../data/dfscore\")\n",
    "mbtree2.calc_score_by_ab(mbtree.root, debug=True)"
   ]
  },
  {
   "cell_type": "code",
   "execution_count": 4,
   "metadata": {},
   "outputs": [],
   "source": [
    "def calc_score_by_ab(self, abroot, debug=False):\n",
    "    self.count = 0\n",
    "    \n",
    "    def calc_ab_score(node, alpha=float(\"-inf\"), beta=float(\"inf\")):\n",
    "        self.nodelist_by_score.append(node)\n",
    "        self.count += 1\n",
    "        if node.mb.status != Marubatsu.PLAYING:\n",
    "            self.calc_score_of_node(node)\n",
    "        else:\n",
    "            if node.mb.turn == Marubatsu.CIRCLE:\n",
    "                for childnode in node.children:\n",
    "                    score = calc_ab_score(childnode, alpha, beta)\n",
    "                    self.nodelist_by_score.append(node)\n",
    "                    if score >= beta:\n",
    "                        alpha = score\n",
    "                        break\n",
    "                    alpha = max(alpha, score)\n",
    "                node.score = alpha\n",
    "            else:\n",
    "                for childnode in node.children:\n",
    "                    score = calc_ab_score(childnode, alpha, beta)\n",
    "                    self.nodelist_by_score.append(node)\n",
    "                    if score <= alpha:\n",
    "                        beta = score\n",
    "                        break\n",
    "                    beta = min(beta, score)\n",
    "                node.score = beta\n",
    "\n",
    "        self.nodelist_by_score.append(node)\n",
    "        node.score_index = len(self.nodelist_by_score) - 1          \n",
    "        return node.score\n",
    "\n",
    "    self.nodelist_by_score = []\n",
    "    calc_ab_score(abroot)\n",
    "    dprint(debug, \"count =\", self.count)\n",
    "    \n",
    "Mbtree.calc_score_by_ab = calc_score_by_ab"
   ]
  },
  {
   "cell_type": "code",
   "execution_count": 5,
   "metadata": {},
   "outputs": [
    {
     "name": "stdout",
     "output_type": "stream",
     "text": [
      "count = 18297\n",
      "0\n"
     ]
    }
   ],
   "source": [
    "mbtree.calc_score_by_ab(mbtree.root, debug=True)\n",
    "print(mbtree.root.score)"
   ]
  },
  {
   "cell_type": "code",
   "execution_count": 6,
   "metadata": {},
   "outputs": [
    {
     "name": "stdout",
     "output_type": "stream",
     "text": [
      "54890\n",
      "54889\n"
     ]
    }
   ],
   "source": [
    "print(len(mbtree.nodelist_by_score))\n",
    "print(mbtree.root.score_index)"
   ]
  },
  {
   "cell_type": "code",
   "execution_count": 7,
   "metadata": {},
   "outputs": [
    {
     "data": {
      "application/vnd.jupyter.widget-view+json": {
       "model_id": "502d986d56df43d7af82d466f1d64a38",
       "version_major": 2,
       "version_minor": 0
      },
      "text/plain": [
       "VBox(children=(HBox(children=(Play(value=0, interval=500, max=54889), Button(description='<', layout=Layout(wi…"
      ]
     },
     "metadata": {},
     "output_type": "display_data"
    },
    {
     "data": {
      "text/plain": [
       "<tree.Mbtree_Anim at 0x2a0e7654790>"
      ]
     },
     "execution_count": 7,
     "metadata": {},
     "output_type": "execute_result"
    }
   ],
   "source": [
    "from tree import Mbtree_Anim\n",
    "\n",
    "Mbtree_Anim(mbtree, isscore=True)"
   ]
  },
  {
   "cell_type": "code",
   "execution_count": 8,
   "metadata": {},
   "outputs": [
    {
     "data": {
      "application/vnd.jupyter.widget-view+json": {
       "model_id": "6f8326eafb40407d8d62e7c615e94152",
       "version_major": 2,
       "version_minor": 0
      },
      "text/plain": [
       "VBox(children=(HBox(children=(Play(value=0, interval=500, max=1649836), Button(description='<', layout=Layout(…"
      ]
     },
     "metadata": {},
     "output_type": "display_data"
    },
    {
     "data": {
      "text/plain": [
       "<tree.Mbtree_Anim at 0x2a14b095850>"
      ]
     },
     "execution_count": 8,
     "metadata": {},
     "output_type": "execute_result"
    }
   ],
   "source": [
    "mbtree_df = Mbtree(algo=\"df\")\n",
    "Mbtree_Anim(mbtree_df, isscore=True)"
   ]
  },
  {
   "cell_type": "code",
   "execution_count": 9,
   "metadata": {},
   "outputs": [],
   "source": [
    "def calc_score_by_ab(self, abroot, debug=False):\n",
    "    self.count = 0\n",
    "    \n",
    "    def calc_ab_score(node, alpha=float(\"-inf\"), beta=float(\"inf\")):\n",
    "        self.nodelist_by_score.append(node)\n",
    "        self.count += 1\n",
    "        if node.mb.status != Marubatsu.PLAYING:\n",
    "            self.calc_score_of_node(node)\n",
    "        else:\n",
    "            if node.mb.turn == Marubatsu.CIRCLE:\n",
    "                for childnode in node.children:\n",
    "                    score = calc_ab_score(childnode, alpha, beta)\n",
    "                    self.nodelist_by_score.append(node)\n",
    "                    if score >= beta:\n",
    "                        alpha = score\n",
    "                        break\n",
    "                    alpha = max(alpha, score)\n",
    "                node.score = alpha\n",
    "            else:\n",
    "                for childnode in node.children:\n",
    "                    score = calc_ab_score(childnode, alpha, beta)\n",
    "                    self.nodelist_by_score.append(node)\n",
    "                    if score <= alpha:\n",
    "                        beta = score\n",
    "                        break\n",
    "                    beta = min(beta, score)\n",
    "                node.score = beta\n",
    "\n",
    "        self.nodelist_by_score.append(node)\n",
    "        node.score_index = len(self.nodelist_by_score) - 1          \n",
    "        return node.score\n",
    "\n",
    "    for node in self.nodelist:\n",
    "        node.score_index = float(\"inf\")\n",
    "    self.nodelist_by_score = []\n",
    "    calc_ab_score(abroot)\n",
    "    dprint(debug, \"count =\", self.count)\n",
    "    \n",
    "Mbtree.calc_score_by_ab = calc_score_by_ab"
   ]
  },
  {
   "cell_type": "code",
   "execution_count": 10,
   "metadata": {},
   "outputs": [
    {
     "name": "stdout",
     "output_type": "stream",
     "text": [
      "count = 18297\n"
     ]
    },
    {
     "data": {
      "application/vnd.jupyter.widget-view+json": {
       "model_id": "019232b08a3c4835895913cac3899f65",
       "version_major": 2,
       "version_minor": 0
      },
      "text/plain": [
       "VBox(children=(HBox(children=(Play(value=0, interval=500, max=54889), Button(description='<', layout=Layout(wi…"
      ]
     },
     "metadata": {},
     "output_type": "display_data"
    },
    {
     "data": {
      "text/plain": [
       "<tree.Mbtree_Anim at 0x2a15a5763d0>"
      ]
     },
     "execution_count": 10,
     "metadata": {},
     "output_type": "execute_result"
    }
   ],
   "source": [
    "mbtree.calc_score_by_ab(mbtree.root, debug=True)\n",
    "Mbtree_Anim(mbtree, isscore=True)"
   ]
  },
  {
   "cell_type": "code",
   "execution_count": 11,
   "metadata": {},
   "outputs": [
    {
     "name": "stdout",
     "output_type": "stream",
     "text": [
      "count = 6\n",
      "1\n"
     ]
    }
   ],
   "source": [
    "mbtree.calc_score_by_ab(mbtree.nodelist_by_depth[6][0], debug=True)\n",
    "print(mbtree.nodelist_by_depth[6][0].score)"
   ]
  },
  {
   "cell_type": "code",
   "execution_count": 12,
   "metadata": {},
   "outputs": [
    {
     "data": {
      "application/vnd.jupyter.widget-view+json": {
       "model_id": "b5ebd7fe3f3c4adfa16cfd9cf6d9904f",
       "version_major": 2,
       "version_minor": 0
      },
      "text/plain": [
       "VBox(children=(HBox(children=(Play(value=0, interval=500, max=16), Button(description='<', layout=Layout(width…"
      ]
     },
     "metadata": {},
     "output_type": "display_data"
    },
    {
     "data": {
      "text/plain": [
       "<tree.Mbtree_Anim at 0x2a162001390>"
      ]
     },
     "execution_count": 12,
     "metadata": {},
     "output_type": "execute_result"
    }
   ],
   "source": [
    "Mbtree_Anim(mbtree, isscore=True)"
   ]
  },
  {
   "cell_type": "code",
   "execution_count": 13,
   "metadata": {},
   "outputs": [],
   "source": [
    "def calc_score_by_ab(self, abroot, debug=False):\n",
    "    self.count = 0\n",
    "    \n",
    "    def calc_ab_score(node, alpha=float(\"-inf\"), beta=float(\"inf\")):\n",
    "        self.nodelist_by_score.append(node)\n",
    "        self.count += 1\n",
    "        if node.mb.status != Marubatsu.PLAYING:\n",
    "            self.calc_score_of_node(node)\n",
    "        else:\n",
    "            if node.mb.turn == Marubatsu.CIRCLE:\n",
    "                for childnode in node.children:\n",
    "                    score = calc_ab_score(childnode, alpha, beta)\n",
    "                    self.nodelist_by_score.append(node)\n",
    "                    if score >= beta:\n",
    "                        alpha = score\n",
    "                        break\n",
    "                    alpha = max(alpha, score)\n",
    "                node.score = alpha\n",
    "            else:\n",
    "                for childnode in node.children:\n",
    "                    score = calc_ab_score(childnode, alpha, beta)\n",
    "                    self.nodelist_by_score.append(node)\n",
    "                    if score <= alpha:\n",
    "                        beta = score\n",
    "                        break\n",
    "                    beta = min(beta, score)\n",
    "                node.score = beta\n",
    "\n",
    "        self.nodelist_by_score.append(node)\n",
    "        node.score_index = len(self.nodelist_by_score) - 1          \n",
    "        return node.score\n",
    "\n",
    "    from ai import dprint\n",
    "    for node in self.nodelist:\n",
    "        node.score_index = float(\"inf\")\n",
    "    self.nodelist_by_score = []\n",
    "    calc_ab_score(abroot)\n",
    "    dprint(debug, \"count =\", self.count)\n",
    "    \n",
    "Mbtree.calc_score_by_ab = calc_score_by_ab"
   ]
  }
 ],
 "metadata": {
  "kernelspec": {
   "display_name": "marubatsu",
   "language": "python",
   "name": "python3"
  },
  "language_info": {
   "codemirror_mode": {
    "name": "ipython",
    "version": 3
   },
   "file_extension": ".py",
   "mimetype": "text/x-python",
   "name": "python",
   "nbconvert_exporter": "python",
   "pygments_lexer": "ipython3",
   "version": "3.11.4"
  }
 },
 "nbformat": 4,
 "nbformat_minor": 2
}
