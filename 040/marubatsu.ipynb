{
 "cells": [
  {
   "cell_type": "code",
   "execution_count": 1,
   "metadata": {},
   "outputs": [
    {
     "name": "stdout",
     "output_type": "stream",
     "text": [
      "Turn o\n",
      "...\n",
      "...\n",
      "...\n",
      "\n",
      "Turn x\n",
      "O..\n",
      "...\n",
      "...\n",
      "\n",
      "Turn o\n",
      "o.X\n",
      "...\n",
      "...\n",
      "\n",
      "Turn x\n",
      "oOx\n",
      "...\n",
      "...\n",
      "\n",
      "Turn o\n",
      "oox\n",
      "..X\n",
      "...\n",
      "\n",
      "Turn x\n",
      "oox\n",
      "O.x\n",
      "...\n",
      "\n",
      "Turn o\n",
      "oox\n",
      "o.x\n",
      "X..\n",
      "\n",
      "Turn x\n",
      "oox\n",
      "oOx\n",
      "x..\n",
      "\n",
      "Turn o\n",
      "oox\n",
      "oox\n",
      "xX.\n",
      "\n",
      "winner o\n",
      "oox\n",
      "oox\n",
      "xxO\n",
      "\n",
      "Turn o\n",
      "...\n",
      "...\n",
      "...\n",
      "\n",
      "Turn x\n",
      "O..\n",
      "...\n",
      "...\n",
      "\n",
      "Turn o\n",
      "o..\n",
      "X..\n",
      "...\n",
      "\n",
      "Turn x\n",
      "oO.\n",
      "x..\n",
      "...\n",
      "\n",
      "Turn o\n",
      "oo.\n",
      "x..\n",
      "..X\n",
      "\n",
      "winner o\n",
      "ooO\n",
      "x..\n",
      "..x\n",
      "\n"
     ]
    }
   ],
   "source": [
    "from marubatsu import Marubatsu\n",
    "from ai import ai1, ai2\n",
    "\n",
    "mb = Marubatsu()\n",
    "\n",
    "for _ in range(2):\n",
    "    mb.play(ai=[ai1, ai2])"
   ]
  },
  {
   "cell_type": "code",
   "execution_count": 2,
   "metadata": {},
   "outputs": [],
   "source": [
    "def play(self, ai):\n",
    "    # 〇×ゲームを再起動する\n",
    "    self.restart()\n",
    "    # ゲームの決着がついていない間繰り返す\n",
    "    while self.status == Marubatsu.PLAYING:\n",
    "        # ゲーム盤の表示\n",
    "        print(self)\n",
    "        # 現在の手番を表す ai のインデックスを計算する\n",
    "        index = 0 if self.turn == Marubatsu.CIRCLE else 1\n",
    "        # ai が着手を行うかどうかを判定する\n",
    "        if ai[index] is not None:\n",
    "            x, y = ai[index](self)\n",
    "        else:\n",
    "            # キーボードからの座標の入力\n",
    "            coord = input(\"x,y の形式で座標を入力して下さい。exit を入力すると終了します\")\n",
    "            # \"exit\" が入力されていればメッセージを表示して関数を終了する\n",
    "            if coord == \"exit\":\n",
    "                print(\"ゲームを終了します\")\n",
    "                return       \n",
    "            # x 座標と y 座標を要素として持つ list を計算する\n",
    "            xylist = coord.split(\",\")\n",
    "            # xylist の要素の数が 2 ではない場合\n",
    "            if len(xylist) != 2:\n",
    "                # エラーメッセージを表示する\n",
    "                print(\"x, y の形式ではありません\")\n",
    "                # 残りの while 文のブロックを実行せずに、次の繰り返し処理を行う\n",
    "                continue\n",
    "            x, y = xylist\n",
    "        # (x, y) に着手を行う\n",
    "        try:\n",
    "            self.move(int(x), int(y))\n",
    "        except:\n",
    "            print(\"整数の座標を入力して下さい\")\n",
    "\n",
    "    # 決着がついたので、ゲーム盤を表示する\n",
    "    print(self)\n",
    "    return self.status\n",
    "\n",
    "Marubatsu.play = play"
   ]
  },
  {
   "cell_type": "code",
   "execution_count": 3,
   "metadata": {},
   "outputs": [
    {
     "name": "stdout",
     "output_type": "stream",
     "text": [
      "Turn o\n",
      "...\n",
      "...\n",
      "...\n",
      "\n",
      "Turn x\n",
      "O..\n",
      "...\n",
      "...\n",
      "\n",
      "Turn o\n",
      "o.X\n",
      "...\n",
      "...\n",
      "\n",
      "Turn x\n",
      "oOx\n",
      "...\n",
      "...\n",
      "\n",
      "Turn o\n",
      "oox\n",
      "..X\n",
      "...\n",
      "\n",
      "Turn x\n",
      "oox\n",
      "O.x\n",
      "...\n",
      "\n",
      "Turn o\n",
      "oox\n",
      "o.x\n",
      "X..\n",
      "\n",
      "Turn x\n",
      "oox\n",
      "oOx\n",
      "x..\n",
      "\n",
      "winner x\n",
      "oox\n",
      "oox\n",
      "x.X\n",
      "\n",
      "winner:  x\n",
      "Turn o\n",
      "...\n",
      "...\n",
      "...\n",
      "\n",
      "Turn x\n",
      "O..\n",
      "...\n",
      "...\n",
      "\n",
      "Turn o\n",
      "o..\n",
      "..X\n",
      "...\n",
      "\n",
      "Turn x\n",
      "oO.\n",
      "..x\n",
      "...\n",
      "\n",
      "Turn o\n",
      "oo.\n",
      "X.x\n",
      "...\n",
      "\n",
      "winner o\n",
      "ooO\n",
      "x.x\n",
      "...\n",
      "\n",
      "winner:  o\n"
     ]
    }
   ],
   "source": [
    "for _ in range(2):\n",
    "    print(\"winner: \", mb.play(ai=[ai1, ai2]))"
   ]
  },
  {
   "cell_type": "code",
   "execution_count": 4,
   "metadata": {},
   "outputs": [
    {
     "name": "stdout",
     "output_type": "stream",
     "text": [
      "Turn o\n",
      "...\n",
      "...\n",
      "...\n",
      "\n",
      "Turn x\n",
      "O..\n",
      "...\n",
      "...\n",
      "\n",
      "Turn o\n",
      "o..\n",
      "X..\n",
      "...\n",
      "\n",
      "Turn x\n",
      "oO.\n",
      "x..\n",
      "...\n",
      "\n",
      "Turn o\n",
      "oo.\n",
      "xX.\n",
      "...\n",
      "\n",
      "winner o\n",
      "ooO\n",
      "xx.\n",
      "...\n",
      "\n",
      "winner:  o\n",
      "Turn o\n",
      "...\n",
      "...\n",
      "...\n",
      "\n",
      "Turn x\n",
      "O..\n",
      "...\n",
      "...\n",
      "\n",
      "Turn o\n",
      "o..\n",
      "...\n",
      "..X\n",
      "\n",
      "Turn x\n",
      "oO.\n",
      "...\n",
      "..x\n",
      "\n",
      "Turn o\n",
      "oo.\n",
      ".X.\n",
      "..x\n",
      "\n",
      "winner o\n",
      "ooO\n",
      ".x.\n",
      "..x\n",
      "\n",
      "winner:  o\n"
     ]
    }
   ],
   "source": [
    "for _ in range(2):\n",
    "    mb.play(ai=[ai1, ai2])\n",
    "    print(\"winner: \", mb.status)"
   ]
  },
  {
   "cell_type": "code",
   "execution_count": 5,
   "metadata": {},
   "outputs": [],
   "source": [
    "def play(self, ai, verbose=True):\n",
    "    # 〇×ゲームを再起動する\n",
    "    self.restart()\n",
    "    # ゲームの決着がついていない間繰り返す\n",
    "    while self.status == Marubatsu.PLAYING:\n",
    "        # ゲーム盤の表示\n",
    "        if verbose:\n",
    "            print(self)\n",
    "        # 現在の手番を表す ai のインデックスを計算する\n",
    "        index = 0 if self.turn == Marubatsu.CIRCLE else 1\n",
    "        # ai が着手を行うかどうかを判定する\n",
    "        if ai[index] is not None:\n",
    "            x, y = ai[index](self)\n",
    "        else:\n",
    "            # キーボードからの座標の入力\n",
    "            coord = input(\"x,y の形式で座標を入力して下さい。exit を入力すると終了します\")\n",
    "            # \"exit\" が入力されていればメッセージを表示して関数を終了する\n",
    "            if coord == \"exit\":\n",
    "                print(\"ゲームを終了します\")\n",
    "                return       \n",
    "            # x 座標と y 座標を要素として持つ list を計算する\n",
    "            xylist = coord.split(\",\")\n",
    "            # xylist の要素の数が 2 ではない場合\n",
    "            if len(xylist) != 2:\n",
    "                # エラーメッセージを表示する\n",
    "                print(\"x, y の形式ではありません\")\n",
    "                # 残りの while 文のブロックを実行せずに、次の繰り返し処理を行う\n",
    "                continue\n",
    "            x, y = xylist\n",
    "        # (x, y) に着手を行う\n",
    "        try:\n",
    "            self.move(int(x), int(y))\n",
    "        except:\n",
    "            print(\"整数の座標を入力して下さい\")\n",
    "\n",
    "    # 決着がついたので、ゲーム盤を表示する\n",
    "    if verbose:\n",
    "        print(self)\n",
    "    return self.status\n",
    "\n",
    "Marubatsu.play = play"
   ]
  },
  {
   "cell_type": "code",
   "execution_count": 6,
   "metadata": {},
   "outputs": [
    {
     "name": "stdout",
     "output_type": "stream",
     "text": [
      "winner:  o\n",
      "winner:  o\n"
     ]
    }
   ],
   "source": [
    "for _ in range(2):\n",
    "    print(\"winner: \", mb.play(ai=[ai1, ai2], verbose=False))"
   ]
  },
  {
   "cell_type": "code",
   "execution_count": 7,
   "metadata": {},
   "outputs": [
    {
     "name": "stdout",
     "output_type": "stream",
     "text": [
      "circle 72 cross 18 draw 10\n"
     ]
    }
   ],
   "source": [
    "circle = 0\n",
    "cross = 0\n",
    "draw = 0\n",
    "for _ in range(100):\n",
    "    winner = mb.play(ai=[ai1, ai2], verbose=False)\n",
    "    if winner == Marubatsu.CIRCLE:\n",
    "        circle += 1\n",
    "    elif winner == Marubatsu.CROSS:\n",
    "        cross += 1\n",
    "    else:\n",
    "        draw += 1\n",
    "\n",
    "print(\"circle\", circle, \"cross\", cross, \"draw\", draw)"
   ]
  },
  {
   "cell_type": "code",
   "execution_count": 8,
   "metadata": {},
   "outputs": [
    {
     "name": "stdout",
     "output_type": "stream",
     "text": [
      "o 75\n",
      "x 21\n",
      "draw 4\n"
     ]
    }
   ],
   "source": [
    "count = {\n",
    "    Marubatsu.CIRCLE: 0,\n",
    "    Marubatsu.CROSS: 0,\n",
    "    Marubatsu.DRAW: 0,\n",
    "}\n",
    "for _ in range(100):\n",
    "    winner = mb.play(ai=[ai1, ai2], verbose=False)\n",
    "    count[winner] += 1\n",
    "\n",
    "for key, value in count.items():\n",
    "    print(key, value)"
   ]
  },
  {
   "cell_type": "code",
   "execution_count": 9,
   "metadata": {},
   "outputs": [
    {
     "ename": "KeyError",
     "evalue": "'o'",
     "output_type": "error",
     "traceback": [
      "\u001b[1;31m---------------------------------------------------------------------------\u001b[0m",
      "\u001b[1;31mKeyError\u001b[0m                                  Traceback (most recent call last)",
      "Cell \u001b[1;32mIn[9], line 4\u001b[0m\n\u001b[0;32m      2\u001b[0m \u001b[38;5;28;01mfor\u001b[39;00m _ \u001b[38;5;129;01min\u001b[39;00m \u001b[38;5;28mrange\u001b[39m(\u001b[38;5;241m100\u001b[39m):\n\u001b[0;32m      3\u001b[0m     winner \u001b[38;5;241m=\u001b[39m mb\u001b[38;5;241m.\u001b[39mplay(ai\u001b[38;5;241m=\u001b[39m[ai1, ai2], verbose\u001b[38;5;241m=\u001b[39m\u001b[38;5;28;01mFalse\u001b[39;00m)\n\u001b[1;32m----> 4\u001b[0m     count[winner] \u001b[38;5;241m+\u001b[39m\u001b[38;5;241m=\u001b[39m \u001b[38;5;241m1\u001b[39m\n\u001b[0;32m      6\u001b[0m \u001b[38;5;28;01mfor\u001b[39;00m key, value \u001b[38;5;129;01min\u001b[39;00m count\u001b[38;5;241m.\u001b[39mitems():\n\u001b[0;32m      7\u001b[0m     \u001b[38;5;28mprint\u001b[39m(key, value)\n",
      "\u001b[1;31mKeyError\u001b[0m: 'o'"
     ]
    }
   ],
   "source": [
    "count = {}\n",
    "for _ in range(100):\n",
    "    winner = mb.play(ai=[ai1, ai2], verbose=False)\n",
    "    count[winner] += 1\n",
    "\n",
    "for key, value in count.items():\n",
    "    print(key, value)"
   ]
  },
  {
   "cell_type": "code",
   "execution_count": 10,
   "metadata": {},
   "outputs": [
    {
     "ename": "KeyError",
     "evalue": "'o'",
     "output_type": "error",
     "traceback": [
      "\u001b[1;31m---------------------------------------------------------------------------\u001b[0m",
      "\u001b[1;31mKeyError\u001b[0m                                  Traceback (most recent call last)",
      "Cell \u001b[1;32mIn[10], line 2\u001b[0m\n\u001b[0;32m      1\u001b[0m count \u001b[38;5;241m=\u001b[39m {}\n\u001b[1;32m----> 2\u001b[0m \u001b[38;5;28mprint\u001b[39m(\u001b[43mcount\u001b[49m\u001b[43m[\u001b[49m\u001b[43mMarubatsu\u001b[49m\u001b[38;5;241;43m.\u001b[39;49m\u001b[43mCIRCLE\u001b[49m\u001b[43m]\u001b[49m)\n",
      "\u001b[1;31mKeyError\u001b[0m: 'o'"
     ]
    }
   ],
   "source": [
    "count = {}\n",
    "print(count[Marubatsu.CIRCLE])"
   ]
  },
  {
   "cell_type": "code",
   "execution_count": 11,
   "metadata": {},
   "outputs": [
    {
     "name": "stdout",
     "output_type": "stream",
     "text": [
      "0\n"
     ]
    }
   ],
   "source": [
    "from collections import defaultdict\n",
    "\n",
    "count = defaultdict(int)\n",
    "print(count[Marubatsu.CIRCLE])"
   ]
  },
  {
   "cell_type": "code",
   "execution_count": 12,
   "metadata": {},
   "outputs": [
    {
     "name": "stdout",
     "output_type": "stream",
     "text": [
      "x 20\n",
      "o 78\n",
      "draw 2\n"
     ]
    }
   ],
   "source": [
    "count = defaultdict(int)\n",
    "for _ in range(100):\n",
    "    winner = mb.play(ai=[ai1, ai2], verbose=False)\n",
    "    count[winner] += 1\n",
    "\n",
    "for key, value in count.items():\n",
    "    print(key, value) "
   ]
  },
  {
   "cell_type": "code",
   "execution_count": 13,
   "metadata": {},
   "outputs": [
    {
     "name": "stdout",
     "output_type": "stream",
     "text": [
      "0\n"
     ]
    }
   ],
   "source": [
    "print(int())"
   ]
  },
  {
   "cell_type": "code",
   "execution_count": 14,
   "metadata": {},
   "outputs": [
    {
     "name": "stdout",
     "output_type": "stream",
     "text": [
      "[]\n"
     ]
    }
   ],
   "source": [
    "count = defaultdict(list)\n",
    "print(count[Marubatsu.CIRCLE])"
   ]
  },
  {
   "cell_type": "code",
   "execution_count": 15,
   "metadata": {},
   "outputs": [
    {
     "name": "stdout",
     "output_type": "stream",
     "text": [
      "1\n"
     ]
    }
   ],
   "source": [
    "def create_one():\n",
    "    return 1\n",
    "\n",
    "count = defaultdict(create_one)\n",
    "print(count[Marubatsu.CIRCLE])"
   ]
  },
  {
   "cell_type": "code",
   "execution_count": 16,
   "metadata": {},
   "outputs": [
    {
     "ename": "TypeError",
     "evalue": "first argument must be callable or None",
     "output_type": "error",
     "traceback": [
      "\u001b[1;31m---------------------------------------------------------------------------\u001b[0m",
      "\u001b[1;31mTypeError\u001b[0m                                 Traceback (most recent call last)",
      "Cell \u001b[1;32mIn[16], line 1\u001b[0m\n\u001b[1;32m----> 1\u001b[0m count \u001b[38;5;241m=\u001b[39m \u001b[43mdefaultdict\u001b[49m\u001b[43m(\u001b[49m\u001b[38;5;241;43m1\u001b[39;49m\u001b[43m)\u001b[49m\n\u001b[0;32m      2\u001b[0m \u001b[38;5;28mprint\u001b[39m(count[Marubatsu\u001b[38;5;241m.\u001b[39mcount])\n",
      "\u001b[1;31mTypeError\u001b[0m: first argument must be callable or None"
     ]
    }
   ],
   "source": [
    "count = defaultdict(1)\n",
    "print(count[Marubatsu.count])"
   ]
  },
  {
   "cell_type": "code",
   "execution_count": 17,
   "metadata": {},
   "outputs": [
    {
     "name": "stdout",
     "output_type": "stream",
     "text": [
      "Fri Dec 29 11:39:50 2023\n"
     ]
    }
   ],
   "source": [
    "from time import ctime\n",
    "\n",
    "def now():\n",
    "    return ctime()\n",
    "\n",
    "count = defaultdict(now)\n",
    "print(count[Marubatsu.CIRCLE])"
   ]
  },
  {
   "cell_type": "code",
   "execution_count": 18,
   "metadata": {},
   "outputs": [
    {
     "name": "stdout",
     "output_type": "stream",
     "text": [
      "Fri Dec 29 11:40:01 2023\n"
     ]
    }
   ],
   "source": [
    "print(count[Marubatsu.CROSS])"
   ]
  },
  {
   "cell_type": "code",
   "execution_count": 19,
   "metadata": {},
   "outputs": [
    {
     "name": "stdout",
     "output_type": "stream",
     "text": [
      "Fri Dec 29 11:40:09 2023\n"
     ]
    }
   ],
   "source": [
    "count = defaultdict(ctime)\n",
    "print(count[Marubatsu.CIRCLE])"
   ]
  },
  {
   "cell_type": "code",
   "execution_count": 20,
   "metadata": {},
   "outputs": [
    {
     "name": "stdout",
     "output_type": "stream",
     "text": [
      "3\n",
      "5\n"
     ]
    }
   ],
   "source": [
    "add = lambda x, y: x + y\n",
    "print(add(1, 2))\n",
    "print(add(2, 3))"
   ]
  },
  {
   "cell_type": "code",
   "execution_count": 21,
   "metadata": {},
   "outputs": [],
   "source": [
    "from random import choice\n",
    "\n",
    "ai2 = lambda mb: choice(mb.calc_legal_moves())"
   ]
  },
  {
   "cell_type": "code",
   "execution_count": 22,
   "metadata": {},
   "outputs": [
    {
     "name": "stdout",
     "output_type": "stream",
     "text": [
      "Turn o\n",
      "...\n",
      "...\n",
      "...\n",
      "\n",
      "Turn x\n",
      "O..\n",
      "...\n",
      "...\n",
      "\n",
      "Turn o\n",
      "o..\n",
      "..X\n",
      "...\n",
      "\n",
      "Turn x\n",
      "oO.\n",
      "..x\n",
      "...\n",
      "\n",
      "Turn o\n",
      "oo.\n",
      ".Xx\n",
      "...\n",
      "\n",
      "winner o\n",
      "ooO\n",
      ".xx\n",
      "...\n",
      "\n"
     ]
    },
    {
     "data": {
      "text/plain": [
       "'o'"
      ]
     },
     "execution_count": 22,
     "metadata": {},
     "output_type": "execute_result"
    }
   ],
   "source": [
    "mb.play(ai=[ai1, ai2])"
   ]
  },
  {
   "cell_type": "code",
   "execution_count": 23,
   "metadata": {},
   "outputs": [
    {
     "name": "stdout",
     "output_type": "stream",
     "text": [
      "1\n"
     ]
    }
   ],
   "source": [
    "count = defaultdict(lambda : 1)\n",
    "print(count[Marubatsu.CIRCLE])"
   ]
  },
  {
   "cell_type": "code",
   "execution_count": 24,
   "metadata": {},
   "outputs": [],
   "source": [
    "def ai_match(ai, match_num=10000):\n",
    "    mb = Marubatsu()\n",
    "    count = defaultdict(int)\n",
    "    for _ in range(match_num):\n",
    "        count[mb.play(ai, verbose=False)] += 1\n",
    "\n",
    "    print(\"o\", count[Marubatsu.CIRCLE], \"x\", count[Marubatsu.CROSS],\n",
    "          \"draw\", count[Marubatsu.DRAW])"
   ]
  },
  {
   "cell_type": "code",
   "execution_count": 25,
   "metadata": {},
   "outputs": [
    {
     "name": "stdout",
     "output_type": "stream",
     "text": [
      "o 759 x 207 draw 34\n",
      "o 7834 x 1733 draw 433\n"
     ]
    }
   ],
   "source": [
    "ai_match(ai=[ai1, ai2], match_num=1000)\n",
    "ai_match(ai=[ai1, ai2])"
   ]
  },
  {
   "cell_type": "code",
   "execution_count": 26,
   "metadata": {},
   "outputs": [
    {
     "name": "stdout",
     "output_type": "stream",
     "text": [
      "o 10000 x 0 draw 0\n",
      "o 7727 x 1816 draw 457\n",
      "o 5208 x 4392 draw 400\n",
      "o 5851 x 2878 draw 1271\n"
     ]
    }
   ],
   "source": [
    "ai_match(ai=[ai1, ai1]) # ai1 VS ai1\n",
    "ai_match(ai=[ai1, ai2]) # ai1 VS ai2\n",
    "ai_match(ai=[ai2, ai1]) # ai2 VS ai1\n",
    "ai_match(ai=[ai2, ai2]) # ai2 VS ai2"
   ]
  }
 ],
 "metadata": {
  "kernelspec": {
   "display_name": "test7",
   "language": "python",
   "name": "python3"
  },
  "language_info": {
   "codemirror_mode": {
    "name": "ipython",
    "version": 3
   },
   "file_extension": ".py",
   "mimetype": "text/x-python",
   "name": "python",
   "nbconvert_exporter": "python",
   "pygments_lexer": "ipython3",
   "version": "3.10.13"
  }
 },
 "nbformat": 4,
 "nbformat_minor": 2
}
