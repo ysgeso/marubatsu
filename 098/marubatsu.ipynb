{
 "cells": [
  {
   "cell_type": "code",
   "execution_count": 1,
   "metadata": {},
   "outputs": [
    {
     "name": "stdout",
     "output_type": "stream",
     "text": [
      "     9 depth 1 node created\n",
      "    72 depth 2 node created\n",
      "   504 depth 3 node created\n",
      "  3024 depth 4 node created\n",
      " 15120 depth 5 node created\n",
      " 54720 depth 6 node created\n",
      "148176 depth 7 node created\n",
      "200448 depth 8 node created\n",
      "127872 depth 9 node created\n",
      "     0 depth 10 node created\n",
      "total node num = 549946\n",
      "0\n"
     ]
    }
   ],
   "source": [
    "from tree import Mbtree\n",
    "\n",
    "mbtree = Mbtree()\n",
    "print(mbtree.nodelist.index(mbtree.root))"
   ]
  },
  {
   "cell_type": "code",
   "execution_count": 2,
   "metadata": {},
   "outputs": [
    {
     "name": "stdout",
     "output_type": "stream",
     "text": [
      "549945\n"
     ]
    }
   ],
   "source": [
    "print(mbtree.nodelist.index(mbtree.nodelist[-1]))"
   ]
  },
  {
   "cell_type": "code",
   "execution_count": 3,
   "metadata": {},
   "outputs": [
    {
     "name": "stdout",
     "output_type": "stream",
     "text": [
      "45.8 ns ± 0.264 ns per loop (mean ± std. dev. of 7 runs, 10,000,000 loops each)\n"
     ]
    }
   ],
   "source": [
    "%%timeit\n",
    "mbtree.nodelist.index(mbtree.root)"
   ]
  },
  {
   "cell_type": "code",
   "execution_count": 4,
   "metadata": {},
   "outputs": [
    {
     "name": "stdout",
     "output_type": "stream",
     "text": [
      "30.5 ms ± 752 µs per loop (mean ± std. dev. of 7 runs, 10 loops each)\n"
     ]
    }
   ],
   "source": [
    "%%timeit\n",
    "mbtree.nodelist.index(mbtree.nodelist[-1])"
   ]
  },
  {
   "cell_type": "code",
   "execution_count": 5,
   "metadata": {},
   "outputs": [],
   "source": [
    "from copy import deepcopy\n",
    "from marubatsu import Marubatsu_GUI\n",
    "import matplotlib.pyplot as plt\n",
    "from tree import Rect\n",
    "\n",
    "class Node:\n",
    "    # ノードを作成した回数を表すクラス属性\n",
    "    count = 0\n",
    "    \n",
    "    def __init__(self, mb, parent=None, depth=0):\n",
    "        self.id = Node.count\n",
    "        Node.count += 1\n",
    "        self.mb = mb\n",
    "        self.parent = parent\n",
    "        self.depth = depth\n",
    "        self.children = []\n",
    "        self.children_by_move = {}        \n",
    "        \n",
    "    def insert(self, node):\n",
    "        self.children.append(node)\n",
    "        self.children_by_move[node.mb.last_move] = node\n",
    "        \n",
    "    def calc_children(self):\n",
    "        self.children = []\n",
    "        for x, y in self.mb.calc_legal_moves():\n",
    "            childmb = deepcopy(self.mb)\n",
    "            childmb.move(x, y)\n",
    "            self.insert(Node(childmb, parent=self, depth=self.depth + 1))\n",
    "        \n",
    "    def calc_height(self):\n",
    "        if len(self.children) == 0:\n",
    "            self.height = 4\n",
    "        else:\n",
    "            self.height = 0\n",
    "            for childnode in self.children:\n",
    "                self.height += childnode.height\n",
    "\n",
    "    def draw_node(self, ax=None, maxdepth=None, emphasize=False, size=0.25, lw=0.8, dx=0, dy=0):\n",
    "        width = 8\n",
    "        if ax is None:\n",
    "            height = len(self.children) * 4\n",
    "            fig, ax = plt.subplots(figsize=(width * size, height * size))\n",
    "            ax.set_xlim(0, width)\n",
    "            ax.set_ylim(0, height)   \n",
    "            ax.invert_yaxis()\n",
    "            ax.axis(\"off\")\n",
    "            for childnode in self.children:\n",
    "                childnode.height = 4\n",
    "            self.height = height\n",
    "                \n",
    "        # 自分自身のノードを真ん中の位置になるように (dx, dy) からずらして描画する\n",
    "        y = dy + (self.height - 3) / 2\n",
    "        Marubatsu_GUI.draw_board(ax, self.mb, show_result=True, emphasize=emphasize, lw=lw, dx=dx, dy=y)\n",
    "        rect = Rect(dx, y, 3, 3)\n",
    "        # 子ノードが存在する場合に、エッジの線と子ノードを描画する\n",
    "        if len(self.children) > 0:\n",
    "            if maxdepth != self.depth:   \n",
    "                plt.plot([dx + 3.5, dx + 4], [y + 1.5, y + 1.5], c=\"k\", lw=lw)\n",
    "                prevy = None\n",
    "                for childnode in self.children:\n",
    "                    childnodey = dy + (childnode.height - 3) / 2\n",
    "                    if maxdepth is None:\n",
    "                        Marubatsu_GUI.draw_board(ax, childnode.mb, show_result=True, dx=dx+5, dy=childnodey, lw=lw)\n",
    "                    edgey = childnodey + 1.5\n",
    "                    plt.plot([dx + 4 , dx + 4.5], [edgey, edgey], c=\"k\", lw=lw)\n",
    "                    if prevy is not None:\n",
    "                        plt.plot([dx + 4 , dx + 4], [prevy, edgey], c=\"k\", lw=lw)\n",
    "                    prevy = edgey\n",
    "                    dy += childnode.height\n",
    "            else:\n",
    "                plt.plot([dx + 3.5, dx + 4.5], [y + 1.5, y + 1.5], c=\"k\", lw=lw)\n",
    "                \n",
    "        return rect"
   ]
  },
  {
   "cell_type": "code",
   "execution_count": 6,
   "metadata": {},
   "outputs": [],
   "source": [
    "from marubatsu import Marubatsu\n",
    "from tree import Mbtree\n",
    "\n",
    "def __init__(self):\n",
    "    Node.count = 0\n",
    "    self.root = Node(Marubatsu())\n",
    "    self.create_tree_by_bf()\n",
    "    \n",
    "Mbtree.__init__ = __init__"
   ]
  },
  {
   "cell_type": "code",
   "execution_count": 7,
   "metadata": {},
   "outputs": [
    {
     "name": "stdout",
     "output_type": "stream",
     "text": [
      "     9 depth 1 node created\n",
      "    72 depth 2 node created\n",
      "   504 depth 3 node created\n",
      "  3024 depth 4 node created\n",
      " 15120 depth 5 node created\n",
      " 54720 depth 6 node created\n",
      "148176 depth 7 node created\n",
      "200448 depth 8 node created\n",
      "127872 depth 9 node created\n",
      "     0 depth 10 node created\n",
      "total node num = 549946\n",
      "0\n",
      "549945\n"
     ]
    }
   ],
   "source": [
    "mbtree = Mbtree()\n",
    "print(mbtree.root.id)\n",
    "print(mbtree.nodelist[-1].id)"
   ]
  },
  {
   "cell_type": "code",
   "execution_count": 8,
   "metadata": {},
   "outputs": [
    {
     "name": "stdout",
     "output_type": "stream",
     "text": [
      "42.9 ns ± 0.237 ns per loop (mean ± std. dev. of 7 runs, 10,000,000 loops each)\n"
     ]
    }
   ],
   "source": [
    "%%timeit\n",
    "mbtree.nodelist[-1].id"
   ]
  },
  {
   "cell_type": "code",
   "execution_count": 9,
   "metadata": {},
   "outputs": [
    {
     "data": {
      "text/plain": [
       "<matplotlib.patches.Rectangle at 0x1a67f1a4a90>"
      ]
     },
     "execution_count": 9,
     "metadata": {},
     "output_type": "execute_result"
    },
    {
     "data": {
      "image/png": "[encoded data removed]",
      "text/plain": [
       "<Figure size 300x300 with 1 Axes>"
      ]
     },
     "metadata": {},
     "output_type": "display_data"
    }
   ],
   "source": [
    "import matplotlib.patches as patches\n",
    "\n",
    "fig, ax = plt.subplots(figsize=(3, 3))\n",
    "rect1 = patches.Rectangle(xy=(0, 0), width=0.75, height=0.75, fc=\"red\")\n",
    "rect2 = patches.Rectangle(xy=(0.25, 0.25), width=0.75, height=0.75, fc=\"black\", alpha=0.5)\n",
    "ax.add_artist(rect1)\n",
    "ax.add_artist(rect2)"
   ]
  },
  {
   "cell_type": "code",
   "execution_count": 10,
   "metadata": {},
   "outputs": [],
   "source": [
    "from tree import Mbtree_Anim\n",
    "\n",
    "def update_gui(self):\n",
    "    self.ax.clear()\n",
    "    self.ax.set_xlim(-1, self.width - 1)\n",
    "    self.ax.set_ylim(0, self.height)   \n",
    "    self.ax.invert_yaxis()\n",
    "    self.ax.axis(\"off\")   \n",
    "    \n",
    "    self.selectednode = self.mbtree.nodelist[self.play.value]\n",
    "    self.centernode = self.selectednode\n",
    "    if self.selectednode.depth <= 4:\n",
    "        maxdepth = self.selectednode.depth + 1\n",
    "    elif self.selectednode.depth == 5:\n",
    "        maxdepth = 7\n",
    "    else:\n",
    "        maxdepth = 9\n",
    "    self.mbtree.draw_subtree(centernode=self.centernode, selectednode=self.selectednode, ax=self.ax, maxdepth=maxdepth)\n",
    "    for rect, node in self.mbtree.nodes_by_rect.items():\n",
    "        if node.id > self.play.value:\n",
    "            self.ax.add_artist(patches.Rectangle(xy=(rect.x, rect.y), width=rect.width,\n",
    "                                                 height=rect.height, fc=\"black\", alpha=0.5))\n",
    "\n",
    "Mbtree_Anim.update_gui = update_gui"
   ]
  },
  {
   "cell_type": "code",
   "execution_count": 11,
   "metadata": {},
   "outputs": [
    {
     "data": {
      "application/vnd.jupyter.widget-view+json": {
       "model_id": "9f6682b471f54cbbafbf8bbe5317af5d",
       "version_major": 2,
       "version_minor": 0
      },
      "text/plain": [
       "VBox(children=(HBox(children=(Play(value=0, interval=500, max=549945), IntSlider(value=0, description='frame',…"
      ]
     },
     "metadata": {},
     "output_type": "display_data"
    }
   ],
   "source": [
    "mbtree_anim = Mbtree_Anim(mbtree)"
   ]
  },
  {
   "cell_type": "code",
   "execution_count": 12,
   "metadata": {},
   "outputs": [],
   "source": [
    "def update_gui(self):\n",
    "    self.ax.clear()\n",
    "    self.ax.set_xlim(-1, self.width - 1)\n",
    "    self.ax.set_ylim(0, self.height)   \n",
    "    self.ax.invert_yaxis()\n",
    "    self.ax.axis(\"off\")   \n",
    "    \n",
    "    self.selectednode = self.mbtree.nodelist[self.play.value]\n",
    "    self.centernode = self.selectednode\n",
    "    if self.centernode.depth > 0:\n",
    "        self.centernode = self.centernode.parent\n",
    "    if self.centernode.depth <= 4:\n",
    "        maxdepth = self.centernode.depth + 1\n",
    "    elif self.centernode.depth == 5:\n",
    "        maxdepth = 7\n",
    "    else:\n",
    "        maxdepth = 9\n",
    "    self.mbtree.draw_subtree(centernode=self.centernode, selectednode=self.selectednode, ax=self.ax, maxdepth=maxdepth)\n",
    "    for rect, node in self.mbtree.nodes_by_rect.items():\n",
    "        if node.id > self.play.value:\n",
    "            self.ax.add_artist(patches.Rectangle(xy=(rect.x, rect.y), width=rect.width, height=rect.height, fc=\"black\", alpha=0.5))\n",
    "\n",
    "Mbtree_Anim.update_gui = update_gui"
   ]
  },
  {
   "cell_type": "code",
   "execution_count": 13,
   "metadata": {},
   "outputs": [
    {
     "data": {
      "application/vnd.jupyter.widget-view+json": {
       "model_id": "ecab7206ed334fc5b86ed8443cd67429",
       "version_major": 2,
       "version_minor": 0
      },
      "text/plain": [
       "VBox(children=(HBox(children=(Play(value=0, interval=500, max=549945), IntSlider(value=0, description='frame',…"
      ]
     },
     "metadata": {},
     "output_type": "display_data"
    }
   ],
   "source": [
    "mbtree_anim = Mbtree_Anim(mbtree)"
   ]
  },
  {
   "cell_type": "code",
   "execution_count": 14,
   "metadata": {},
   "outputs": [],
   "source": [
    "def update_gui(self):\n",
    "    self.ax.clear()\n",
    "    self.ax.set_xlim(-1, self.width - 1)\n",
    "    self.ax.set_ylim(0, self.height)   \n",
    "    self.ax.invert_yaxis()\n",
    "    self.ax.axis(\"off\")   \n",
    "    \n",
    "    self.selectednode = self.mbtree.nodelist[self.play.value]\n",
    "    self.centernode = self.selectednode\n",
    "    if self.centernode.depth > 0:\n",
    "        self.centernode = self.centernode.parent\n",
    "    while self.centernode.depth > 6:\n",
    "        self.centernode = self.centernode.parent\n",
    "    if self.centernode.depth <= 4:\n",
    "        maxdepth = self.centernode.depth + 1\n",
    "    elif self.centernode.depth == 5:\n",
    "        maxdepth = 7\n",
    "    else:\n",
    "        maxdepth = 9\n",
    "    self.mbtree.draw_subtree(centernode=self.centernode, selectednode=self.selectednode, ax=self.ax, maxdepth=maxdepth)\n",
    "    for rect, node in self.mbtree.nodes_by_rect.items():\n",
    "        if node.id > self.play.value:\n",
    "            self.ax.add_artist(patches.Rectangle(xy=(rect.x, rect.y), width=rect.width, height=rect.height, fc=\"black\", alpha=0.5))\n",
    "\n",
    "Mbtree_Anim.update_gui = update_gui"
   ]
  },
  {
   "cell_type": "code",
   "execution_count": 15,
   "metadata": {},
   "outputs": [
    {
     "data": {
      "application/vnd.jupyter.widget-view+json": {
       "model_id": "f9c7f8c7421c4c24969045a9a1cf77ee",
       "version_major": 2,
       "version_minor": 0
      },
      "text/plain": [
       "VBox(children=(HBox(children=(Play(value=0, interval=500, max=549945), IntSlider(value=0, description='frame',…"
      ]
     },
     "metadata": {},
     "output_type": "display_data"
    }
   ],
   "source": [
    "mbtree_anim = Mbtree_Anim(mbtree)"
   ]
  },
  {
   "cell_type": "code",
   "execution_count": 16,
   "metadata": {},
   "outputs": [],
   "source": [
    "import ipywidgets as widgets\n",
    "\n",
    "def create_widgets(self):\n",
    "    self.play = widgets.Play(max=self.mbtree.nodenum - 1, interval=500)\n",
    "    self.frame_slider = widgets.IntSlider(max=self.mbtree.nodenum - 1, description=\"frame\")\n",
    "    self.interval_slider = widgets.IntSlider(value=500, min=1, max=2000, description=\"interval\")\n",
    "    widgets.jslink((self.play, \"value\"), (self.frame_slider, \"value\"))    \n",
    "    widgets.jslink((self.play, \"interval\"), (self.interval_slider, \"value\"))\n",
    "\n",
    "    with plt.ioff():\n",
    "        self.fig = plt.figure(figsize=[self.width * self.size,\n",
    "                                        self.height * self.size])\n",
    "        self.ax = self.fig.add_axes([0, 0, 1, 1])\n",
    "    self.fig.canvas.toolbar_visible = False\n",
    "    self.fig.canvas.header_visible = False\n",
    "    self.fig.canvas.footer_visible = False\n",
    "    self.fig.canvas.resizable = False     \n",
    "    \n",
    "Mbtree_Anim.create_widgets = create_widgets"
   ]
  },
  {
   "cell_type": "code",
   "execution_count": 17,
   "metadata": {},
   "outputs": [],
   "source": [
    "def display_widgets(self):\n",
    "    hbox = widgets.HBox([self.play, self.frame_slider, self.interval_slider])\n",
    "    display(widgets.VBox([hbox, self.fig.canvas]))\n",
    "    \n",
    "Mbtree_Anim.display_widgets = display_widgets"
   ]
  },
  {
   "cell_type": "code",
   "execution_count": 18,
   "metadata": {},
   "outputs": [
    {
     "data": {
      "application/vnd.jupyter.widget-view+json": {
       "model_id": "7f96400506c6407fa87aa1e91f7b204b",
       "version_major": 2,
       "version_minor": 0
      },
      "text/plain": [
       "VBox(children=(HBox(children=(Play(value=0, interval=500, max=549945), IntSlider(value=0, description='frame',…"
      ]
     },
     "metadata": {},
     "output_type": "display_data"
    }
   ],
   "source": [
    "mbtree_anim = Mbtree_Anim(mbtree)"
   ]
  },
  {
   "cell_type": "code",
   "execution_count": 19,
   "metadata": {},
   "outputs": [
    {
     "data": {
      "application/vnd.jupyter.widget-view+json": {
       "model_id": "90d26045a82e44f29f41fcb19559e0a2",
       "version_major": 2,
       "version_minor": 0
      },
      "text/plain": [
       "Play(value=0, interval=5)"
      ]
     },
     "metadata": {},
     "output_type": "display_data"
    },
    {
     "name": "stdout",
     "output_type": "stream",
     "text": [
      "1\n",
      "10\n",
      "21\n",
      "31\n",
      "42\n",
      "50\n",
      "59\n",
      "67\n",
      "75\n",
      "82\n",
      "87\n",
      "94\n",
      "100\n"
     ]
    }
   ],
   "source": [
    "play = widgets.Play(interval=5)\n",
    "display(play)\n",
    "\n",
    "def on_play_changed(changed):\n",
    "    print(play.value)\n",
    "\n",
    "play.observe(on_play_changed, names=\"value\")"
   ]
  },
  {
   "cell_type": "code",
   "execution_count": 20,
   "metadata": {},
   "outputs": [
    {
     "name": "stdout",
     "output_type": "stream",
     "text": [
      "1.14 µs ± 3.07 ns per loop (mean ± std. dev. of 7 runs, 1,000,000 loops each)\n"
     ]
    }
   ],
   "source": [
    "%%timeit \n",
    "mbtree.calc_node_height(maxdepth=1)"
   ]
  },
  {
   "cell_type": "code",
   "execution_count": 21,
   "metadata": {},
   "outputs": [
    {
     "name": "stdout",
     "output_type": "stream",
     "text": [
      "212 ms ± 3.21 ms per loop (mean ± std. dev. of 7 runs, 1 loop each)\n"
     ]
    }
   ],
   "source": [
    "%%timeit \n",
    "mbtree.calc_node_height(maxdepth=9)"
   ]
  },
  {
   "cell_type": "code",
   "execution_count": 22,
   "metadata": {},
   "outputs": [],
   "source": [
    "def calc_node_height(self, centernode, maxdepth):\n",
    "    nodelist = [centernode]\n",
    "    depth = centernode.depth\n",
    "    # 各深さのノードのリストを記録する変数を初期化する\n",
    "    nodelist_by_depth = [None] * centernode.depth\n",
    "    nodelist_by_depth.append(nodelist)\n",
    "    \n",
    "    # 深さ depth のノードのリストが空になるまで繰り返し処理を行う\n",
    "    while len(nodelist) > 0:\n",
    "        childnodelist = [] \n",
    "        for node in nodelist:\n",
    "            childnodelist += node.children\n",
    "        nodelist_by_depth.append(childnodelist)\n",
    "        nodelist = childnodelist\n",
    "        depth += 1\n",
    "    \n",
    "    for depth in range(maxdepth, centernode.depth - 1, -1):\n",
    "        for node in nodelist_by_depth[depth]:\n",
    "            if depth == maxdepth:\n",
    "                node.height = 4\n",
    "            else:\n",
    "                node.calc_height()                  \n",
    "                \n",
    "Mbtree.calc_node_height = calc_node_height"
   ]
  },
  {
   "cell_type": "code",
   "execution_count": 23,
   "metadata": {},
   "outputs": [
    {
     "name": "stdout",
     "output_type": "stream",
     "text": [
      "2.73 µs ± 12.9 ns per loop (mean ± std. dev. of 7 runs, 100,000 loops each)\n"
     ]
    }
   ],
   "source": [
    "%%timeit \n",
    "mbtree.calc_node_height(mbtree.nodelist_by_depth[6][0], maxdepth=9)"
   ]
  },
  {
   "cell_type": "code",
   "execution_count": 24,
   "metadata": {},
   "outputs": [],
   "source": [
    "def draw_subtree(self, centernode=None, selectednode=None, ax=None, size=0.25, lw=0.8, maxdepth=2):\n",
    "    self.nodes_by_rect = {}\n",
    "\n",
    "    if centernode is None:\n",
    "        centernode = self.root\n",
    "    self.calc_node_height(centernode=centernode, maxdepth=maxdepth)\n",
    "    width = 5 * (maxdepth + 1)\n",
    "    height = centernode.height\n",
    "    parent = centernode.parent\n",
    "    if parent is not None:\n",
    "        height += (len(parent.children) - 1) * 4\n",
    "        parent.height = height\n",
    "    if ax is None:\n",
    "        fig, ax = plt.subplots(figsize=(width * size, height * size))\n",
    "        ax.set_xlim(0, width)\n",
    "        ax.set_ylim(0, height)   \n",
    "        ax.invert_yaxis()\n",
    "        ax.axis(\"off\")        \n",
    "    \n",
    "    nodelist = [centernode]\n",
    "    depth = centernode.depth\n",
    "    while len(nodelist) > 0 and depth <= maxdepth:        \n",
    "        dy = 0\n",
    "        if parent is not None:\n",
    "            dy = parent.children.index(centernode) * 4\n",
    "        childnodelist = []\n",
    "        for node in nodelist:\n",
    "            if node is None:\n",
    "                dy += 4\n",
    "                childnodelist.append(None)\n",
    "            else:\n",
    "                dx = 5 * node.depth\n",
    "                emphasize = node is selectednode\n",
    "                rect = node.draw_node(ax=ax, maxdepth=maxdepth, emphasize=emphasize, size=size, lw=lw, dx=dx, dy=dy)\n",
    "                self.nodes_by_rect[rect] = node\n",
    "                dy += node.height\n",
    "                if len(node.children) > 0:  \n",
    "                    childnodelist += node.children\n",
    "                else:\n",
    "                    childnodelist.append(None)\n",
    "        depth += 1\n",
    "        nodelist = childnodelist\n",
    "        \n",
    "    if parent is not None:\n",
    "        dy = 0\n",
    "        for sibling in parent.children:\n",
    "            if sibling is not centernode:\n",
    "                sibling.height = 4\n",
    "                dx = 5 * sibling.depth\n",
    "                rect = sibling.draw_node(ax, maxdepth=sibling.depth, size=size, lw=lw, dx=dx, dy=dy)\n",
    "                self.nodes_by_rect[rect] = sibling\n",
    "            dy += sibling.height\n",
    "        dx = 5 * parent.depth\n",
    "        rect = parent.draw_node(ax, maxdepth=maxdepth, size=size, lw=lw, dx=dx, dy=0)\n",
    "        self.nodes_by_rect[rect] = parent\n",
    "    \n",
    "        node = parent\n",
    "        while node.parent is not None:\n",
    "            node = node.parent\n",
    "            node.height = height\n",
    "            dx = 5 * node.depth\n",
    "            rect = node.draw_node(ax, maxdepth=node.depth, size=size, lw=lw, dx=dx, dy=0)\n",
    "            self.nodes_by_rect[rect] = node\n",
    "            \n",
    "Mbtree.draw_subtree = draw_subtree"
   ]
  },
  {
   "cell_type": "code",
   "execution_count": 25,
   "metadata": {},
   "outputs": [
    {
     "data": {
      "application/vnd.jupyter.widget-view+json": {
       "model_id": "0d14d1c096e94d0aaa7feceba008bf1e",
       "version_major": 2,
       "version_minor": 0
      },
      "text/plain": [
       "VBox(children=(HBox(children=(Play(value=0, interval=500, max=549945), IntSlider(value=0, description='frame',…"
      ]
     },
     "metadata": {},
     "output_type": "display_data"
    }
   ],
   "source": [
    "mbtree_anim = Mbtree_Anim(mbtree)"
   ]
  }
 ],
 "metadata": {
  "kernelspec": {
   "display_name": "marubatsu",
   "language": "python",
   "name": "python3"
  },
  "language_info": {
   "codemirror_mode": {
    "name": "ipython",
    "version": 3
   },
   "file_extension": ".py",
   "mimetype": "text/x-python",
   "name": "python",
   "nbconvert_exporter": "python",
   "pygments_lexer": "ipython3",
   "version": "3.11.4"
  }
 },
 "nbformat": 4,
 "nbformat_minor": 2
}
