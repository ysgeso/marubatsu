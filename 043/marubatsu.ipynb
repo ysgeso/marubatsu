{
 "cells": [
  {
   "cell_type": "code",
   "execution_count": 1,
   "metadata": {},
   "outputs": [],
   "source": [
    "from marubatsu import Marubatsu\n",
    "from collections import defaultdict\n",
    "\n",
    "def ai_match(ai, match_num=10000):\n",
    "    print(f\"{ai[0].__name__} VS {ai[1].__name__}\")\n",
    "    \n",
    "    mb = Marubatsu()\n",
    "\n",
    "    # ai[0] VS ai[1] と ai[1] VS a[0] の対戦を match_num 回行い、通算成績を数える\n",
    "    count_list = [ defaultdict(int), defaultdict(int)]\n",
    "    for _ in range(match_num):\n",
    "        count_list[0][mb.play(ai, verbose=False)] += 1\n",
    "        count_list[1][mb.play(ai=[ai[1], ai[0]], verbose=False)] += 1\n",
    "\n",
    "    # ai[0] から見た通算成績を計算する\n",
    "    count_list_ai0 = [\n",
    "        # ai[0] VS ai[1] の場合の、ai[0] から見た通算成績\n",
    "        { \n",
    "            \"win\": count_list[0][Marubatsu.CIRCLE],\n",
    "            \"lose\": count_list[0][Marubatsu.CROSS],\n",
    "            \"draw\": count_list[0][Marubatsu.DRAW],\n",
    "        },\n",
    "        # ai[1] VS ai[0] の場合の、ai[0] から見た通算成績\n",
    "        { \n",
    "            \"win\": count_list[1][Marubatsu.CROSS],\n",
    "            \"lose\": count_list[1][Marubatsu.CIRCLE],\n",
    "            \"draw\": count_list[1][Marubatsu.DRAW],\n",
    "        },\n",
    "    ]           \n",
    "\n",
    "    # それぞれの比率を計算し、ratio_list に代入する\n",
    "    ratio_list = [ {}, {} ]\n",
    "    for i in range(2):\n",
    "        for key in count_list_ai0[i]:\n",
    "            ratio_list[i][key] = count_list_ai0[i][key] / match_num\n",
    "\n",
    "    # ai[0] の勝利、勝利、引き分けの順番で表示することを表す list \n",
    "    order_list = [\"win\", \"lose\", \"draw\"] \n",
    "\n",
    "    # 通算成績の回数と比率の表示\n",
    "    width = max(len(str(match_num)), 7)\n",
    "    diff_list = [ (\"count\", count_list_ai0, f\"{width}d\"),\n",
    "                  (\"ratio\", ratio_list, f\"{width}.1%\") ]\n",
    "    for title, data, format in diff_list:\n",
    "        print(title)\n",
    "        for i in range(2):\n",
    "            for key in order_list:\n",
    "                print(f\" {key} {data[i][key]:{format}}\", end=\"\")\n",
    "            print()\n",
    "        print()"
   ]
  },
  {
   "cell_type": "code",
   "execution_count": 2,
   "metadata": {},
   "outputs": [
    {
     "name": "stdout",
     "output_type": "stream",
     "text": [
      "ai1 VS ai2\n",
      "count\n",
      " win     756 lose     203 draw      41\n",
      " win     446 lose     514 draw      40\n",
      "\n",
      "ratio\n",
      " win   75.6% lose   20.3% draw    4.1%\n",
      " win   44.6% lose   51.4% draw    4.0%\n",
      "\n"
     ]
    }
   ],
   "source": [
    "from ai import ai1, ai2\n",
    "\n",
    "ai_match(ai=[ai1, ai2], match_num=1000)"
   ]
  },
  {
   "cell_type": "code",
   "execution_count": 3,
   "metadata": {},
   "outputs": [],
   "source": [
    "def ai_match(ai, match_num=10000):\n",
    "    print(f\"{ai[0].__name__} VS {ai[1].__name__}\")\n",
    "    \n",
    "    mb = Marubatsu()\n",
    "\n",
    "    # ai[0] VS ai[1] と ai[1] VS a[0] の対戦を match_num 回行い、通算成績を数える\n",
    "    count_list = [ defaultdict(int), defaultdict(int)]\n",
    "    for _ in range(match_num):\n",
    "        count_list[0][mb.play(ai, verbose=False)] += 1\n",
    "        count_list[1][mb.play(ai=[ai[1], ai[0]], verbose=False)] += 1\n",
    "\n",
    "    # ai[0] から見た通算成績を計算する\n",
    "    count_list_ai0 = [\n",
    "        # ai[0] VS ai[1] の場合の、ai[0] から見た通算成績\n",
    "        { \n",
    "            \"win\": count_list[0][Marubatsu.CIRCLE],\n",
    "            \"lose\": count_list[0][Marubatsu.CROSS],\n",
    "            \"draw\": count_list[0][Marubatsu.DRAW],\n",
    "        },\n",
    "        # ai[1] VS ai[0] の場合の、ai[0] から見た通算成績\n",
    "        { \n",
    "            \"win\": count_list[1][Marubatsu.CROSS],\n",
    "            \"lose\": count_list[1][Marubatsu.CIRCLE],\n",
    "            \"draw\": count_list[1][Marubatsu.DRAW],\n",
    "        },\n",
    "    ]           \n",
    "\n",
    "    # それぞれの比率を計算し、ratio_list に代入する\n",
    "    ratio_list = [ {}, {} ]\n",
    "    for i in range(2):\n",
    "        for key in count_list_ai0[i]:\n",
    "            ratio_list[i][key] = count_list_ai0[i][key] / match_num\n",
    "\n",
    "    # 通算成績の回数と比率の表示\n",
    "    width = max(len(str(match_num)), 7)\n",
    "    diff_list = [ (\"count\", count_list_ai0, f\"{width}d\"),\n",
    "                  (\"ratio\", ratio_list, f\"{width}.1%\") ]\n",
    "    for title, data, format in diff_list:\n",
    "        print(title)\n",
    "        for i in range(2):\n",
    "            for key, value in data[i].items():\n",
    "                print(f\" {key} {value:{format}}\", end=\"\")\n",
    "            print()\n",
    "        print()"
   ]
  },
  {
   "cell_type": "code",
   "execution_count": 4,
   "metadata": {},
   "outputs": [
    {
     "name": "stdout",
     "output_type": "stream",
     "text": [
      "ai1 VS ai2\n",
      "count\n",
      " win     798 lose     155 draw      47\n",
      " win     457 lose     504 draw      39\n",
      "\n",
      "ratio\n",
      " win   79.8% lose   15.5% draw    4.7%\n",
      " win   45.7% lose   50.4% draw    3.9%\n",
      "\n"
     ]
    }
   ],
   "source": [
    "ai_match(ai=[ai1, ai2], match_num=1000)"
   ]
  },
  {
   "cell_type": "code",
   "execution_count": 5,
   "metadata": {},
   "outputs": [],
   "source": [
    "def ai_match(ai, match_num=10000):\n",
    "    print(f\"{ai[0].__name__} VS {ai[1].__name__}\")\n",
    "\n",
    "    mb = Marubatsu()\n",
    "\n",
    "    # ai[0] VS ai[1] と ai[1] VS a[0] の対戦を match_num 回行い、通算成績を数える\n",
    "    count_list = [ defaultdict(int), defaultdict(int)]\n",
    "    for _ in range(match_num):\n",
    "        count_list[0][mb.play(ai, verbose=False)] += 1\n",
    "        count_list[1][mb.play(ai=[ai[1], ai[0]], verbose=False)] += 1\n",
    "\n",
    "    # ai[0] から見た通算成績を計算する\n",
    "    count_list_ai0 = [\n",
    "        # ai[0] VS ai[1] の場合の、ai[0] から見た通算成績\n",
    "        { \n",
    "            \"win\": count_list[0][Marubatsu.CIRCLE],\n",
    "            \"lose\": count_list[0][Marubatsu.CROSS],\n",
    "            \"draw\": count_list[0][Marubatsu.DRAW],\n",
    "        },\n",
    "        # ai[1] VS ai[0] の場合の、ai[0] から見た通算成績\n",
    "        { \n",
    "            \"win\": count_list[1][Marubatsu.CROSS],\n",
    "            \"lose\": count_list[1][Marubatsu.CIRCLE],\n",
    "            \"draw\": count_list[1][Marubatsu.DRAW],\n",
    "        },\n",
    "    ]           \n",
    "\n",
    "    # それぞれの比率を計算し、ratio_list に代入する\n",
    "    ratio_list = [ {}, {} ]\n",
    "    for i in range(2):\n",
    "        for key in count_list_ai0[i]:\n",
    "            ratio_list[i][key] = count_list_ai0[i][key] / match_num\n",
    "\n",
    "    # 各行の先頭に表示する文字列のリスト\n",
    "    item_text_list = [ Marubatsu.CIRCLE, Marubatsu.CROSS ]    \n",
    "    \n",
    "    # 通算成績の回数と比率の表示\n",
    "    width = max(len(str(match_num)), 7)\n",
    "    diff_list = [ (\"count\", count_list_ai0, f\"{width}d\"),\n",
    "                  (\"ratio\", ratio_list, f\"{width}.1%\") ]\n",
    "    for title, data, format in diff_list:\n",
    "        print(title)\n",
    "        for i in range(2):\n",
    "            print(item_text_list[i], end=\"\")\n",
    "            for key, value in data[i].items():\n",
    "                print(f\" {key} {value:{format}}\", end=\"\")\n",
    "            print()\n",
    "        print()"
   ]
  },
  {
   "cell_type": "code",
   "execution_count": 6,
   "metadata": {},
   "outputs": [
    {
     "name": "stdout",
     "output_type": "stream",
     "text": [
      "ai1 VS ai2\n",
      "count\n",
      "o win     804 lose     164 draw      32\n",
      "x win     448 lose     508 draw      44\n",
      "\n",
      "ratio\n",
      "o win   80.4% lose   16.4% draw    3.2%\n",
      "x win   44.8% lose   50.8% draw    4.4%\n",
      "\n"
     ]
    }
   ],
   "source": [
    "ai_match(ai=[ai1, ai2], match_num=1000)"
   ]
  },
  {
   "cell_type": "code",
   "execution_count": 7,
   "metadata": {},
   "outputs": [],
   "source": [
    "def ai_match(ai, match_num=10000):\n",
    "    print(f\"{ai[0].__name__} VS {ai[1].__name__}\")\n",
    "    \n",
    "    mb = Marubatsu()\n",
    "\n",
    "    # ai[0] VS ai[1] と ai[1] VS a[0] の対戦を match_num 回行い、通算成績を数える\n",
    "    count_list = [ defaultdict(int), defaultdict(int)]\n",
    "    for _ in range(match_num):\n",
    "        count_list[0][mb.play(ai, verbose=False)] += 1\n",
    "        count_list[1][mb.play(ai=[ai[1], ai[0]], verbose=False)] += 1\n",
    "\n",
    "    # ai[0] から見た通算成績を計算する\n",
    "    count_list_ai0 = [\n",
    "        # ai[0] VS ai[1] の場合の、ai[0] から見た通算成績\n",
    "        { \n",
    "            \"win\": count_list[0][Marubatsu.CIRCLE],\n",
    "            \"lose\": count_list[0][Marubatsu.CROSS],\n",
    "            \"draw\": count_list[0][Marubatsu.DRAW],\n",
    "        },\n",
    "        # ai[1] VS ai[0] の場合の、ai[0] から見た通算成績\n",
    "        { \n",
    "            \"win\": count_list[1][Marubatsu.CROSS],\n",
    "            \"lose\": count_list[1][Marubatsu.CIRCLE],\n",
    "            \"draw\": count_list[1][Marubatsu.DRAW],\n",
    "        },\n",
    "    ]           \n",
    "\n",
    "    # それぞれの比率を計算し、ratio_list に代入する\n",
    "    ratio_list = [ {}, {} ]\n",
    "    for i in range(2):\n",
    "        for key in count_list_ai0[i]:\n",
    "            ratio_list[i][key] = count_list_ai0[i][key] / match_num\n",
    "            \n",
    "    # 各行の先頭に表示する文字列のリスト\n",
    "    item_text_list = [ Marubatsu.CIRCLE, Marubatsu.CROSS ]    \n",
    "    \n",
    "    # 通算成績の回数と比率の表示\n",
    "    width = max(len(str(match_num)), 7)\n",
    "    diff_list = [ (\"count\", count_list_ai0, f\"{width}d\"),\n",
    "                  (\"ratio\", ratio_list, f\"{width}.1%\") ]\n",
    "    for title, data, format in diff_list:\n",
    "        print(title, end=\"\")\n",
    "        for key in data[0]:\n",
    "            print(f\" {key}\", end=\"\")\n",
    "        print()\n",
    "        for i in range(2):\n",
    "            print(item_text_list[i], end=\"\")\n",
    "            for value in data[i].values():\n",
    "                print(f\" {value:{format}}\", end=\"\")\n",
    "            print()\n",
    "        print()"
   ]
  },
  {
   "cell_type": "code",
   "execution_count": 8,
   "metadata": {},
   "outputs": [
    {
     "name": "stdout",
     "output_type": "stream",
     "text": [
      "ai1 VS ai2\n",
      "count win lose draw\n",
      "o     762     195      43\n",
      "x     448     516      36\n",
      "\n",
      "ratio win lose draw\n",
      "o   76.2%   19.5%    4.3%\n",
      "x   44.8%   51.6%    3.6%\n",
      "\n"
     ]
    }
   ],
   "source": [
    "ai_match(ai=[ai1, ai2], match_num=1000)"
   ]
  },
  {
   "cell_type": "code",
   "execution_count": 9,
   "metadata": {},
   "outputs": [],
   "source": [
    "def ai_match(ai, match_num=10000):\n",
    "    print(f\"{ai[0].__name__} VS {ai[1].__name__}\")\n",
    "\n",
    "    mb = Marubatsu()\n",
    "\n",
    "    # ai[0] VS ai[1] と ai[1] VS a[0] の対戦を match_num 回行い、通算成績を数える\n",
    "    count_list = [ defaultdict(int), defaultdict(int)]\n",
    "    for _ in range(match_num):\n",
    "        count_list[0][mb.play(ai, verbose=False)] += 1\n",
    "        count_list[1][mb.play(ai=[ai[1], ai[0]], verbose=False)] += 1\n",
    "\n",
    "    # ai[0] から見た通算成績を計算する\n",
    "    count_list_ai0 = [\n",
    "        # ai[0] VS ai[1] の場合の、ai[0] から見た通算成績\n",
    "        { \n",
    "            \"win\": count_list[0][Marubatsu.CIRCLE],\n",
    "            \"lose\": count_list[0][Marubatsu.CROSS],\n",
    "            \"draw\": count_list[0][Marubatsu.DRAW],\n",
    "        },\n",
    "        # ai[1] VS ai[0] の場合の、ai[0] から見た通算成績\n",
    "        { \n",
    "            \"win\": count_list[1][Marubatsu.CROSS],\n",
    "            \"lose\": count_list[1][Marubatsu.CIRCLE],\n",
    "            \"draw\": count_list[1][Marubatsu.DRAW],\n",
    "        },\n",
    "    ]           \n",
    "\n",
    "    # それぞれの比率を計算し、ratio_list に代入する\n",
    "    ratio_list = [ {}, {} ]\n",
    "    for i in range(2):\n",
    "        for key in count_list_ai0[i]:\n",
    "            ratio_list[i][key] = count_list_ai0[i][key] / match_num\n",
    "\n",
    "    # 各行の先頭に表示する文字列のリスト\n",
    "    item_text_list = [ Marubatsu.CIRCLE, Marubatsu.CROSS ]    \n",
    "    \n",
    "    # 通算成績の回数と比率の表示\n",
    "    width = max(len(str(match_num)), 7)\n",
    "    diff_list = [ (\"count\", count_list_ai0, f\"{width}d\"),\n",
    "                  (\"ratio\", ratio_list, f\"{width}.1%\") ]\n",
    "    for title, data, format in diff_list:\n",
    "        print(title, end=\"\")\n",
    "        for key in data[0]:\n",
    "            print(f\" {key:{width}}\", end=\"\")\n",
    "        print()\n",
    "        for i in range(2):\n",
    "            print(f\"{item_text_list[i]:5}\", end=\"\")\n",
    "            for value in data[i].values():\n",
    "                print(f\" {value:{format}}\", end=\"\")\n",
    "            print()\n",
    "        print()"
   ]
  },
  {
   "cell_type": "code",
   "execution_count": 10,
   "metadata": {},
   "outputs": [
    {
     "name": "stdout",
     "output_type": "stream",
     "text": [
      "ai1 VS ai2\n",
      "count win     lose    draw   \n",
      "o         787     167      46\n",
      "x         453     519      28\n",
      "\n",
      "ratio win     lose    draw   \n",
      "o       78.7%   16.7%    4.6%\n",
      "x       45.3%   51.9%    2.8%\n",
      "\n"
     ]
    }
   ],
   "source": [
    "ai_match(ai=[ai1, ai2], match_num=1000)"
   ]
  },
  {
   "cell_type": "code",
   "execution_count": 11,
   "metadata": {},
   "outputs": [],
   "source": [
    "def ai_match(ai, match_num=10000):\n",
    "    print(f\"{ai[0].__name__} VS {ai[1].__name__}\")\n",
    "\n",
    "    mb = Marubatsu()\n",
    "\n",
    "    # ai[0] VS ai[1] と ai[1] VS a[0] の対戦を match_num 回行い、通算成績を数える\n",
    "    count_list = [ defaultdict(int), defaultdict(int)]\n",
    "    for _ in range(match_num):\n",
    "        count_list[0][mb.play(ai, verbose=False)] += 1\n",
    "        count_list[1][mb.play(ai=[ai[1], ai[0]], verbose=False)] += 1\n",
    "\n",
    "    # ai[0] から見た通算成績を計算する\n",
    "    count_list_ai0 = [\n",
    "        # ai[0] VS ai[1] の場合の、ai[0] から見た通算成績\n",
    "        { \n",
    "            \"win\": count_list[0][Marubatsu.CIRCLE],\n",
    "            \"lose\": count_list[0][Marubatsu.CROSS],\n",
    "            \"draw\": count_list[0][Marubatsu.DRAW],\n",
    "        },\n",
    "        # ai[1] VS ai[0] の場合の、ai[0] から見た通算成績\n",
    "        { \n",
    "            \"win\": count_list[1][Marubatsu.CROSS],\n",
    "            \"lose\": count_list[1][Marubatsu.CIRCLE],\n",
    "            \"draw\": count_list[1][Marubatsu.DRAW],\n",
    "        },\n",
    "    ]           \n",
    "\n",
    "    # それぞれの比率を計算し、ratio_list に代入する\n",
    "    ratio_list = [ {}, {} ]\n",
    "    for i in range(2):\n",
    "        for key in count_list_ai0[i]:\n",
    "            ratio_list[i][key] = count_list_ai0[i][key] / match_num\n",
    "    \n",
    "    # 各行の先頭に表示する文字列のリスト\n",
    "    item_text_list = [ Marubatsu.CIRCLE, Marubatsu.CROSS ]    \n",
    "    \n",
    "    # 通算成績の回数と比率の表示\n",
    "    width = max(len(str(match_num)), 7)\n",
    "    diff_list = [ (\"count\", count_list_ai0, f\"{width}d\"),\n",
    "                  (\"ratio\", ratio_list, f\"{width}.1%\") ]\n",
    "    for title, data, format in diff_list:\n",
    "        print(title, end=\"\")\n",
    "        for key in data[0]:\n",
    "            print(f\" {key:>{width}}\", end=\"\")\n",
    "        print()\n",
    "        for i in range(2):\n",
    "            print(f\"{item_text_list[i]:5}\", end=\"\")\n",
    "            for value in data[i].values():\n",
    "                print(f\" {value:{format}}\", end=\"\")\n",
    "            print()\n",
    "        print()"
   ]
  },
  {
   "cell_type": "code",
   "execution_count": 12,
   "metadata": {},
   "outputs": [
    {
     "name": "stdout",
     "output_type": "stream",
     "text": [
      "ai1 VS ai2\n",
      "count     win    lose    draw\n",
      "o         780     173      47\n",
      "x         436     537      27\n",
      "\n",
      "ratio     win    lose    draw\n",
      "o       78.0%   17.3%    4.7%\n",
      "x       43.6%   53.7%    2.7%\n",
      "\n"
     ]
    }
   ],
   "source": [
    "ai_match(ai=[ai1, ai2], match_num=1000)"
   ]
  },
  {
   "cell_type": "code",
   "execution_count": 13,
   "metadata": {},
   "outputs": [],
   "source": [
    "def ai_match(ai, match_num=10000):\n",
    "    print(f\"{ai[0].__name__} VS {ai[1].__name__}\")\n",
    "    \n",
    "    mb = Marubatsu()\n",
    "\n",
    "    # ai[0] VS ai[1] と ai[1] VS a[0] の対戦を match_num 回行い、通算成績を数える\n",
    "    count_list = [ defaultdict(int), defaultdict(int)]\n",
    "    for _ in range(match_num):\n",
    "        count_list[0][mb.play(ai, verbose=False)] += 1\n",
    "        count_list[1][mb.play(ai=[ai[1], ai[0]], verbose=False)] += 1\n",
    "\n",
    "    # ai[0] から見た通算成績を計算する\n",
    "    count_list_ai0 = [\n",
    "        # ai[0] VS ai[1] の場合の、ai[0] から見た通算成績\n",
    "        { \n",
    "            \"win\": count_list[0][Marubatsu.CIRCLE],\n",
    "            \"lose\": count_list[0][Marubatsu.CROSS],\n",
    "            \"draw\": count_list[0][Marubatsu.DRAW],\n",
    "        },\n",
    "        # ai[1] VS ai[0] の場合の、ai[0] から見た通算成績\n",
    "        { \n",
    "            \"win\": count_list[1][Marubatsu.CROSS],\n",
    "            \"lose\": count_list[1][Marubatsu.CIRCLE],\n",
    "            \"draw\": count_list[1][Marubatsu.DRAW],\n",
    "        },\n",
    "    ]           \n",
    "\n",
    "    # それぞれの比率を計算し、ratio_list に代入する\n",
    "    ratio_list = [ {}, {} ]\n",
    "    for i in range(2):\n",
    "        for key in count_list_ai0[i]:\n",
    "            ratio_list[i][key] = count_list_ai0[i][key] / match_num\n",
    "\n",
    "    # 各行の先頭に表示する文字列のリスト\n",
    "    item_text_list = [ Marubatsu.CIRCLE, Marubatsu.CROSS ]    \n",
    "    \n",
    "    # 通算成績の回数と比率の表示\n",
    "    width = max(len(str(match_num)), 7)\n",
    "    diff_list = [ (\"count\", count_list_ai0, f\"{width}d\"),\n",
    "                  (\"ratio\", ratio_list, f\"{width}.1%\") ]\n",
    "    title_width = 5\n",
    "    for title, data, format in diff_list:\n",
    "        print(f\"{title:{title_width}}\", end=\"\")\n",
    "        for key in data[0]:\n",
    "            print(f\" {key:>{width}}\", end=\"\")\n",
    "        print()\n",
    "        for i in range(2):\n",
    "            print(f\"{item_text_list[i]:{title_width}}\", end=\"\")\n",
    "            for value in data[i].values():\n",
    "                print(f\" {value:{format}}\", end=\"\")\n",
    "            print()\n",
    "        print()"
   ]
  },
  {
   "cell_type": "code",
   "execution_count": 14,
   "metadata": {},
   "outputs": [
    {
     "name": "stdout",
     "output_type": "stream",
     "text": [
      "ai1 VS ai2\n"
     ]
    },
    {
     "name": "stdout",
     "output_type": "stream",
     "text": [
      "count     win    lose    draw\n",
      "o         788     192      20\n",
      "x         440     534      26\n",
      "\n",
      "ratio     win    lose    draw\n",
      "o       78.8%   19.2%    2.0%\n",
      "x       44.0%   53.4%    2.6%\n",
      "\n"
     ]
    }
   ],
   "source": [
    "ai_match(ai=[ai1, ai2], match_num=1000)"
   ]
  },
  {
   "cell_type": "code",
   "execution_count": 15,
   "metadata": {},
   "outputs": [],
   "source": [
    "def ai_match(ai, match_num=10000):\n",
    "    print(f\"{ai[0].__name__} VS {ai[1].__name__}\")\n",
    "\n",
    "    mb = Marubatsu()\n",
    "\n",
    "    # ai[0] VS ai[1] と ai[1] VS a[0] の対戦を match_num 回行い、通算成績を数える\n",
    "    count_list = [ defaultdict(int), defaultdict(int)]\n",
    "    for _ in range(match_num):\n",
    "        count_list[0][mb.play(ai, verbose=False)] += 1\n",
    "        count_list[1][mb.play(ai=[ai[1], ai[0]], verbose=False)] += 1\n",
    "\n",
    "    # ai[0] から見た通算成績を計算する\n",
    "    count_list_ai0 = [\n",
    "        # ai[0] VS ai[1] の場合の、ai[0] から見た通算成績\n",
    "        { \n",
    "            \"win\": count_list[0][Marubatsu.CIRCLE],\n",
    "            \"lose\": count_list[0][Marubatsu.CROSS],\n",
    "            \"draw\": count_list[0][Marubatsu.DRAW],\n",
    "        },\n",
    "        # ai[1] VS ai[0] の場合の、ai[0] から見た通算成績\n",
    "        { \n",
    "            \"win\": count_list[1][Marubatsu.CROSS],\n",
    "            \"lose\": count_list[1][Marubatsu.CIRCLE],\n",
    "            \"draw\": count_list[1][Marubatsu.DRAW],\n",
    "        },\n",
    "    ]           \n",
    "\n",
    "    # 両方の対戦の通算成績の合計を計算する\n",
    "    count_list_ai0.append({})\n",
    "    for key in count_list_ai0[0]:\n",
    "        count_list_ai0[2][key] = count_list_ai0[0][key] + count_list_ai0[1][key]\n",
    "\n",
    "    # それぞれの比率を計算し、ratio_list に代入する\n",
    "    ratio_list = [ {}, {}, {} ]\n",
    "    for i in range(3):\n",
    "        for key in count_list_ai0[i]:\n",
    "            ratio_list[i][key] = count_list_ai0[i][key] / match_num\n",
    "            \n",
    "    # 各行の先頭に表示する文字列のリスト\n",
    "    item_text_list = [ Marubatsu.CIRCLE, Marubatsu.CROSS, \"total\" ]    \n",
    "    \n",
    "    # 通算成績の回数と比率の表示\n",
    "    width = max(len(str(match_num)), 7)\n",
    "    diff_list = [ (\"count\", count_list_ai0, f\"{width}d\"),\n",
    "                  (\"ratio\", ratio_list, f\"{width}.1%\") ]\n",
    "    for title, data, format in diff_list:\n",
    "        print(title, end=\"\")\n",
    "        for key in data[0]:\n",
    "            print(f\" {key:>{width}}\", end=\"\")\n",
    "        print()\n",
    "        for i in range(3):\n",
    "            print(f\"{item_text_list[i]:5}\", end=\"\")\n",
    "            for value in data[i].values():\n",
    "                print(f\" {value:{format}}\", end=\"\")\n",
    "            print()\n",
    "        print()"
   ]
  },
  {
   "cell_type": "code",
   "execution_count": 16,
   "metadata": {},
   "outputs": [
    {
     "name": "stdout",
     "output_type": "stream",
     "text": [
      "ai1 VS ai2\n",
      "count     win    lose    draw\n",
      "o         780     180      40\n",
      "x         437     533      30\n",
      "total    1217     713      70\n",
      "\n",
      "ratio     win    lose    draw\n",
      "o       78.0%   18.0%    4.0%\n",
      "x       43.7%   53.3%    3.0%\n",
      "total  121.7%   71.3%    7.0%\n",
      "\n"
     ]
    }
   ],
   "source": [
    "ai_match(ai=[ai1, ai2], match_num=1000)"
   ]
  },
  {
   "cell_type": "code",
   "execution_count": 17,
   "metadata": {},
   "outputs": [
    {
     "name": "stdout",
     "output_type": "stream",
     "text": [
      "6\n",
      "60\n"
     ]
    }
   ],
   "source": [
    "a = { 1: 10, 2: 20, 3: 30 }\n",
    "print(sum(a))           # キーの合計の 1 + 2 + 3 が計算される\n",
    "print(sum(a.values()))  # キーの値の合計の 10 + 20 + 30 が計算される"
   ]
  },
  {
   "cell_type": "code",
   "execution_count": 18,
   "metadata": {},
   "outputs": [],
   "source": [
    "def ai_match(ai, match_num=10000):\n",
    "    print(f\"{ai[0].__name__} VS {ai[1].__name__}\")\n",
    "    \n",
    "    mb = Marubatsu()\n",
    "\n",
    "    # ai[0] VS ai[1] と ai[1] VS a[0] の対戦を match_num 回行い、通算成績を数える\n",
    "    count_list = [ defaultdict(int), defaultdict(int)]\n",
    "    for _ in range(match_num):\n",
    "        count_list[0][mb.play(ai, verbose=False)] += 1\n",
    "        count_list[1][mb.play(ai=[ai[1], ai[0]], verbose=False)] += 1\n",
    "\n",
    "    # ai[0] から見た通算成績を計算する\n",
    "    count_list_ai0 = [\n",
    "        # ai[0] VS ai[1] の場合の、ai[0] から見た通算成績\n",
    "        { \n",
    "            \"win\": count_list[0][Marubatsu.CIRCLE],\n",
    "            \"lose\": count_list[0][Marubatsu.CROSS],\n",
    "            \"draw\": count_list[0][Marubatsu.DRAW],\n",
    "        },\n",
    "        # ai[1] VS ai[0] の場合の、ai[0] から見た通算成績\n",
    "        { \n",
    "            \"win\": count_list[1][Marubatsu.CROSS],\n",
    "            \"lose\": count_list[1][Marubatsu.CIRCLE],\n",
    "            \"draw\": count_list[1][Marubatsu.DRAW],\n",
    "        },\n",
    "    ]           \n",
    "\n",
    "    # 両方の対戦の通算成績の合計を計算する\n",
    "    count_list_ai0.append({})\n",
    "    for key in count_list_ai0[0]:\n",
    "        count_list_ai0[2][key] = count_list_ai0[0][key] + count_list_ai0[1][key]\n",
    "\n",
    "    # それぞれの比率を計算し、ratio_list に代入する\n",
    "    ratio_list = [ {}, {}, {} ]\n",
    "    for i in range(3):\n",
    "        for key in count_list_ai0[i]:\n",
    "            ratio_list[i][key] = count_list_ai0[i][key] / sum(count_list_ai0[i].values())\n",
    "            \n",
    "    # 各行の先頭に表示する文字列のリスト\n",
    "    item_text_list = [ Marubatsu.CIRCLE, Marubatsu.CROSS, \"total\" ]    \n",
    "    \n",
    "    # 通算成績の回数と比率の表示\n",
    "    width = max(len(str(match_num * 2)), 7)\n",
    "    diff_list = [ (\"count\", count_list_ai0, f\"{width}d\"),\n",
    "                  (\"ratio\", ratio_list, f\"{width}.1%\") ]\n",
    "    for title, data, format in diff_list:\n",
    "        print(title, end=\"\")\n",
    "        for key in data[0]:\n",
    "            print(f\" {key:>{width}}\", end=\"\")\n",
    "        print()\n",
    "        for i in range(3):\n",
    "            print(f\"{item_text_list[i]:5}\", end=\"\")\n",
    "            for value in data[i].values():\n",
    "                print(f\" {value:{format}}\", end=\"\")\n",
    "            print()\n",
    "        print()"
   ]
  },
  {
   "cell_type": "code",
   "execution_count": 19,
   "metadata": {},
   "outputs": [
    {
     "name": "stdout",
     "output_type": "stream",
     "text": [
      "ai1 VS ai2\n",
      "count     win    lose    draw\n",
      "o         770     196      34\n",
      "x         456     506      38\n",
      "total    1226     702      72\n",
      "\n",
      "ratio     win    lose    draw\n",
      "o       77.0%   19.6%    3.4%\n",
      "x       45.6%   50.6%    3.8%\n",
      "total   61.3%   35.1%    3.6%\n",
      "\n"
     ]
    }
   ],
   "source": [
    "ai_match(ai=[ai1, ai2], match_num=1000)"
   ]
  },
  {
   "cell_type": "code",
   "execution_count": 20,
   "metadata": {},
   "outputs": [
    {
     "name": "stdout",
     "output_type": "stream",
     "text": [
      "ai1 VS ai2\n",
      "count     win    lose    draw\n",
      "o        7811    1753     436\n",
      "x        4467    5156     377\n",
      "total   12278    6909     813\n",
      "\n",
      "ratio     win    lose    draw\n",
      "o       78.1%   17.5%    4.4%\n",
      "x       44.7%   51.6%    3.8%\n",
      "total   61.4%   34.5%    4.1%\n",
      "\n"
     ]
    }
   ],
   "source": [
    "ai_match(ai=[ai1, ai2])"
   ]
  },
  {
   "cell_type": "code",
   "execution_count": 21,
   "metadata": {},
   "outputs": [
    {
     "name": "stdout",
     "output_type": "stream",
     "text": [
      "ai2 VS ai2\n",
      "count     win    lose    draw\n",
      "o        5867    2876    1257\n",
      "x        2908    5858    1234\n",
      "total    8775    8734    2491\n",
      "\n",
      "ratio     win    lose    draw\n",
      "o       58.7%   28.8%   12.6%\n",
      "x       29.1%   58.6%   12.3%\n",
      "total   43.9%   43.7%   12.5%\n",
      "\n"
     ]
    }
   ],
   "source": [
    "ai_match(ai=[ai2, ai2])"
   ]
  }
 ],
 "metadata": {
  "kernelspec": {
   "display_name": "marubatsu",
   "language": "python",
   "name": "python3"
  },
  "language_info": {
   "codemirror_mode": {
    "name": "ipython",
    "version": 3
   },
   "file_extension": ".py",
   "mimetype": "text/x-python",
   "name": "python",
   "nbconvert_exporter": "python",
   "pygments_lexer": "ipython3",
   "version": "3.10.13"
  }
 },
 "nbformat": 4,
 "nbformat_minor": 2
}
