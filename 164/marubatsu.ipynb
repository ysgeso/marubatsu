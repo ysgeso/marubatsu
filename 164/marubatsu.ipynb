{
 "cells": [
  {
   "cell_type": "code",
   "execution_count": 1,
   "metadata": {},
   "outputs": [],
   "source": [
    "from marubatsu import Marubatsu\n",
    "from ai import ai_abs_tt4, ai2s, ai14s\n",
    "\n",
    "mb = Marubatsu()"
   ]
  },
  {
   "cell_type": "code",
   "execution_count": 2,
   "metadata": {},
   "outputs": [
    {
     "name": "stdout",
     "output_type": "stream",
     "text": [
      "310 ms ± 1.01 ms per loop (mean ± std. dev. of 7 runs, 1 loop each)\n"
     ]
    }
   ],
   "source": [
    "%%timeit\n",
    "ai_abs_tt4(mb)"
   ]
  },
  {
   "cell_type": "code",
   "execution_count": 3,
   "metadata": {},
   "outputs": [
    {
     "name": "stdout",
     "output_type": "stream",
     "text": [
      "345 µs ± 753 ns per loop (mean ± std. dev. of 7 runs, 1,000 loops each)\n"
     ]
    }
   ],
   "source": [
    "%%timeit\n",
    "ai2s(mb)"
   ]
  },
  {
   "cell_type": "code",
   "execution_count": 4,
   "metadata": {},
   "outputs": [
    {
     "name": "stdout",
     "output_type": "stream",
     "text": [
      "519 µs ± 2.38 µs per loop (mean ± std. dev. of 7 runs, 1,000 loops each)\n"
     ]
    }
   ],
   "source": [
    "%%timeit\n",
    "ai14s(mb)"
   ]
  },
  {
   "cell_type": "code",
   "execution_count": 5,
   "metadata": {},
   "outputs": [],
   "source": [
    "from ai import ai_by_score, dprint\n",
    "from copy import deepcopy\n",
    "\n",
    "@ai_by_score\n",
    "def ai_abs_all(mb, debug=False, shortest_victory=False,\n",
    "               init_ab=False, use_tt=False, ai_for_mo=None,\n",
    "               params={}, sort_allnodes=False, calc_count=False):        \n",
    "    count = 0\n",
    "    def ab_search(mborig, tt, alpha=float(\"-inf\"), beta=float(\"inf\")):\n",
    "        nonlocal count\n",
    "        count += 1\n",
    "        if mborig.status == Marubatsu.CIRCLE:\n",
    "            return (11 - mborig.move_count) / 2 if shortest_victory else 1\n",
    "        elif mborig.status == Marubatsu.CROSS:\n",
    "            return (mborig.move_count - 10) / 2 if shortest_victory else -1\n",
    "        elif mborig.status == Marubatsu.DRAW:\n",
    "            return 0\n",
    "        \n",
    "        if use_tt:\n",
    "            boardtxt = mborig.board_to_str()\n",
    "            if boardtxt in tt:\n",
    "                lower_bound, upper_bound = tt[boardtxt]\n",
    "                if lower_bound == upper_bound:\n",
    "                    return lower_bound\n",
    "                elif upper_bound <= alpha:\n",
    "                    return upper_bound\n",
    "                elif beta <= lower_bound:\n",
    "                    return lower_bound\n",
    "                else:\n",
    "                    alpha = max(alpha, lower_bound)\n",
    "                    beta = min(beta, upper_bound)\n",
    "            else:\n",
    "                lower_bound = min_score\n",
    "                upper_bound = max_score\n",
    "        \n",
    "        alphaorig = alpha\n",
    "        betaorig = beta\n",
    "\n",
    "        legal_moves = mborig.calc_legal_moves()\n",
    "        if ai_for_mo is not None:\n",
    "            bestmove = ai_for_mo(mborig, **params)\n",
    "            index = legal_moves.index(bestmove)\n",
    "            legal_moves[0], legal_moves[index] = legal_moves[index], legal_moves[0]            \n",
    "        if mborig.turn == Marubatsu.CIRCLE:\n",
    "            score = float(\"-inf\")\n",
    "            for x, y in legal_moves:\n",
    "                mb = deepcopy(mborig)\n",
    "                mb.move(x, y)\n",
    "                score = max(score, ab_search(mb, tt, alpha, beta))\n",
    "                if score >= beta:\n",
    "                    break\n",
    "                alpha = max(alpha, score)\n",
    "        else:\n",
    "            score = float(\"inf\")\n",
    "            for x, y in legal_moves:\n",
    "                mb = deepcopy(mborig)\n",
    "                mb.move(x, y)\n",
    "                score = min(score, ab_search(mb, tt, alpha, beta))\n",
    "                if score <= alpha:\n",
    "                    break\n",
    "                beta = min(beta, score)   \n",
    "            \n",
    "        if use_tt:\n",
    "            from util import calc_same_boardtexts\n",
    "\n",
    "            boardtxtlist = calc_same_boardtexts(mborig)\n",
    "            if score <= alphaorig:\n",
    "                upper_bound = score\n",
    "            elif score < betaorig:\n",
    "                lower_bound = score\n",
    "                upper_bound = score\n",
    "            else:\n",
    "                lower_bound = score\n",
    "            for boardtxt in boardtxtlist:\n",
    "                tt[boardtxt] = (lower_bound, upper_bound)\n",
    "        return score\n",
    "                \n",
    "    min_score = -2 if shortest_victory else -1\n",
    "    max_score = 3 if shortest_victory else 1\n",
    "    alpha = min_score if init_ab else float(\"-inf\")\n",
    "    beta = max_score if init_ab else float(\"inf\")\n",
    "\n",
    "    score = ab_search(mb, {}, alpha=alpha, beta=beta)\n",
    "    dprint(debug, \"count =\", count)\n",
    "    if calc_count:\n",
    "        return count\n",
    "    if mb.turn == Marubatsu.CIRCLE:\n",
    "        score *= -1\n",
    "    return score"
   ]
  },
  {
   "cell_type": "code",
   "execution_count": 6,
   "metadata": {},
   "outputs": [
    {
     "name": "stdout",
     "output_type": "stream",
     "text": [
      "ai_for_mo: None, sv: False, use_tt: False, init_ab: False\n"
     ]
    },
    {
     "name": "stderr",
     "output_type": "stream",
     "text": [
      "  0%|          | 0/431 [00:00<?, ?it/s]"
     ]
    },
    {
     "name": "stderr",
     "output_type": "stream",
     "text": [
      "100%|██████████| 431/431 [00:03<00:00, 108.73it/s]\n"
     ]
    },
    {
     "name": "stdout",
     "output_type": "stream",
     "text": [
      "431/431 100.00%\n",
      "ai_for_mo: None, sv: False, use_tt: False, init_ab: True\n"
     ]
    },
    {
     "name": "stderr",
     "output_type": "stream",
     "text": [
      "100%|██████████| 431/431 [00:03<00:00, 140.83it/s]\n"
     ]
    },
    {
     "name": "stdout",
     "output_type": "stream",
     "text": [
      "431/431 100.00%\n",
      "ai_for_mo: None, sv: False, use_tt: True, init_ab: False\n"
     ]
    },
    {
     "name": "stderr",
     "output_type": "stream",
     "text": [
      "100%|██████████| 431/431 [00:03<00:00, 131.21it/s]\n"
     ]
    },
    {
     "name": "stdout",
     "output_type": "stream",
     "text": [
      "431/431 100.00%\n",
      "ai_for_mo: None, sv: False, use_tt: True, init_ab: True\n"
     ]
    },
    {
     "name": "stderr",
     "output_type": "stream",
     "text": [
      "100%|██████████| 431/431 [00:02<00:00, 181.68it/s]\n"
     ]
    },
    {
     "name": "stdout",
     "output_type": "stream",
     "text": [
      "431/431 100.00%\n",
      "ai_for_mo: None, sv: True, use_tt: False, init_ab: False\n"
     ]
    },
    {
     "name": "stderr",
     "output_type": "stream",
     "text": [
      "100%|██████████| 431/431 [00:04<00:00, 96.72it/s] \n"
     ]
    },
    {
     "name": "stdout",
     "output_type": "stream",
     "text": [
      "431/431 100.00%\n",
      "ai_for_mo: None, sv: True, use_tt: False, init_ab: True\n"
     ]
    },
    {
     "name": "stderr",
     "output_type": "stream",
     "text": [
      "100%|██████████| 431/431 [00:04<00:00, 99.93it/s] \n"
     ]
    },
    {
     "name": "stdout",
     "output_type": "stream",
     "text": [
      "431/431 100.00%\n",
      "ai_for_mo: None, sv: True, use_tt: True, init_ab: False\n"
     ]
    },
    {
     "name": "stderr",
     "output_type": "stream",
     "text": [
      "100%|██████████| 431/431 [00:03<00:00, 117.27it/s]\n"
     ]
    },
    {
     "name": "stdout",
     "output_type": "stream",
     "text": [
      "431/431 100.00%\n",
      "ai_for_mo: None, sv: True, use_tt: True, init_ab: True\n"
     ]
    },
    {
     "name": "stderr",
     "output_type": "stream",
     "text": [
      "100%|██████████| 431/431 [00:03<00:00, 120.16it/s]\n"
     ]
    },
    {
     "name": "stdout",
     "output_type": "stream",
     "text": [
      "431/431 100.00%\n",
      "ai_for_mo: <function ai2s at 0x00000216EC38FCE0>, sv: False, use_tt: False, init_ab: False\n"
     ]
    },
    {
     "name": "stderr",
     "output_type": "stream",
     "text": [
      "100%|██████████| 431/431 [00:08<00:00, 51.86it/s] \n"
     ]
    },
    {
     "name": "stdout",
     "output_type": "stream",
     "text": [
      "431/431 100.00%\n",
      "ai_for_mo: <function ai2s at 0x00000216EC38FCE0>, sv: False, use_tt: False, init_ab: True\n"
     ]
    },
    {
     "name": "stderr",
     "output_type": "stream",
     "text": [
      "100%|██████████| 431/431 [00:06<00:00, 69.47it/s] \n"
     ]
    },
    {
     "name": "stdout",
     "output_type": "stream",
     "text": [
      "431/431 100.00%\n",
      "ai_for_mo: <function ai2s at 0x00000216EC38FCE0>, sv: False, use_tt: True, init_ab: False\n"
     ]
    },
    {
     "name": "stderr",
     "output_type": "stream",
     "text": [
      "100%|██████████| 431/431 [00:07<00:00, 55.35it/s] \n"
     ]
    },
    {
     "name": "stdout",
     "output_type": "stream",
     "text": [
      "431/431 100.00%\n",
      "ai_for_mo: <function ai2s at 0x00000216EC38FCE0>, sv: False, use_tt: True, init_ab: True\n"
     ]
    },
    {
     "name": "stderr",
     "output_type": "stream",
     "text": [
      "100%|██████████| 431/431 [00:05<00:00, 80.44it/s] \n"
     ]
    },
    {
     "name": "stdout",
     "output_type": "stream",
     "text": [
      "431/431 100.00%\n",
      "ai_for_mo: <function ai2s at 0x00000216EC38FCE0>, sv: True, use_tt: False, init_ab: False\n"
     ]
    },
    {
     "name": "stderr",
     "output_type": "stream",
     "text": [
      "100%|██████████| 431/431 [00:08<00:00, 47.90it/s] \n"
     ]
    },
    {
     "name": "stdout",
     "output_type": "stream",
     "text": [
      "431/431 100.00%\n",
      "ai_for_mo: <function ai2s at 0x00000216EC38FCE0>, sv: True, use_tt: False, init_ab: True\n"
     ]
    },
    {
     "name": "stderr",
     "output_type": "stream",
     "text": [
      "100%|██████████| 431/431 [00:08<00:00, 50.31it/s] \n"
     ]
    },
    {
     "name": "stdout",
     "output_type": "stream",
     "text": [
      "431/431 100.00%\n",
      "ai_for_mo: <function ai2s at 0x00000216EC38FCE0>, sv: True, use_tt: True, init_ab: False\n"
     ]
    },
    {
     "name": "stderr",
     "output_type": "stream",
     "text": [
      "100%|██████████| 431/431 [00:07<00:00, 57.80it/s] \n"
     ]
    },
    {
     "name": "stdout",
     "output_type": "stream",
     "text": [
      "431/431 100.00%\n",
      "ai_for_mo: <function ai2s at 0x00000216EC38FCE0>, sv: True, use_tt: True, init_ab: True\n"
     ]
    },
    {
     "name": "stderr",
     "output_type": "stream",
     "text": [
      "100%|██████████| 431/431 [00:07<00:00, 55.26it/s] \n"
     ]
    },
    {
     "name": "stdout",
     "output_type": "stream",
     "text": [
      "431/431 100.00%\n",
      "ai_for_mo: <function ai14s at 0x00000216EC395260>, sv: False, use_tt: False, init_ab: False\n"
     ]
    },
    {
     "name": "stderr",
     "output_type": "stream",
     "text": [
      "100%|██████████| 431/431 [00:05<00:00, 79.63it/s] \n"
     ]
    },
    {
     "name": "stdout",
     "output_type": "stream",
     "text": [
      "431/431 100.00%\n",
      "ai_for_mo: <function ai14s at 0x00000216EC395260>, sv: False, use_tt: False, init_ab: True\n"
     ]
    },
    {
     "name": "stderr",
     "output_type": "stream",
     "text": [
      "100%|██████████| 431/431 [00:02<00:00, 150.86it/s]\n"
     ]
    },
    {
     "name": "stdout",
     "output_type": "stream",
     "text": [
      "431/431 100.00%\n",
      "ai_for_mo: <function ai14s at 0x00000216EC395260>, sv: False, use_tt: True, init_ab: False\n"
     ]
    },
    {
     "name": "stderr",
     "output_type": "stream",
     "text": [
      "100%|██████████| 431/431 [00:04<00:00, 86.44it/s] \n"
     ]
    },
    {
     "name": "stdout",
     "output_type": "stream",
     "text": [
      "431/431 100.00%\n",
      "ai_for_mo: <function ai14s at 0x00000216EC395260>, sv: False, use_tt: True, init_ab: True\n"
     ]
    },
    {
     "name": "stderr",
     "output_type": "stream",
     "text": [
      "100%|██████████| 431/431 [00:03<00:00, 129.79it/s]\n"
     ]
    },
    {
     "name": "stdout",
     "output_type": "stream",
     "text": [
      "431/431 100.00%\n",
      "ai_for_mo: <function ai14s at 0x00000216EC395260>, sv: True, use_tt: False, init_ab: False\n"
     ]
    },
    {
     "name": "stderr",
     "output_type": "stream",
     "text": [
      "100%|██████████| 431/431 [00:04<00:00, 86.61it/s] \n"
     ]
    },
    {
     "name": "stdout",
     "output_type": "stream",
     "text": [
      "431/431 100.00%\n",
      "ai_for_mo: <function ai14s at 0x00000216EC395260>, sv: True, use_tt: False, init_ab: True\n"
     ]
    },
    {
     "name": "stderr",
     "output_type": "stream",
     "text": [
      "100%|██████████| 431/431 [00:04<00:00, 91.43it/s] \n"
     ]
    },
    {
     "name": "stdout",
     "output_type": "stream",
     "text": [
      "431/431 100.00%\n",
      "ai_for_mo: <function ai14s at 0x00000216EC395260>, sv: True, use_tt: True, init_ab: False\n"
     ]
    },
    {
     "name": "stderr",
     "output_type": "stream",
     "text": [
      "100%|██████████| 431/431 [00:05<00:00, 82.08it/s] \n"
     ]
    },
    {
     "name": "stdout",
     "output_type": "stream",
     "text": [
      "431/431 100.00%\n",
      "ai_for_mo: <function ai14s at 0x00000216EC395260>, sv: True, use_tt: True, init_ab: True\n"
     ]
    },
    {
     "name": "stderr",
     "output_type": "stream",
     "text": [
      "100%|██████████| 431/431 [00:04<00:00, 86.67it/s] "
     ]
    },
    {
     "name": "stdout",
     "output_type": "stream",
     "text": [
      "431/431 100.00%\n"
     ]
    },
    {
     "name": "stderr",
     "output_type": "stream",
     "text": [
      "\n"
     ]
    }
   ],
   "source": [
    "from util import Check_solved\n",
    "\n",
    "for ai_for_mo in [None, ai2s, ai14s]:\n",
    "    for shortest_victory in [False, True]:\n",
    "        for use_tt in [False, True]:\n",
    "            for init_ab in [False, True]:\n",
    "                print(f\"ai_for_mo: {ai_for_mo}, sv: {shortest_victory}, use_tt: {use_tt}, init_ab: {init_ab}\")\n",
    "                params = {\n",
    "                    \"ai_for_mo\": ai_for_mo,\n",
    "                    \"shortest_victory\": shortest_victory,\n",
    "                    \"init_ab\": init_ab,\n",
    "                    \"use_tt\": use_tt,\n",
    "                }\n",
    "                Check_solved.is_strongly_solved(ai_abs_all, params=params)"
   ]
  },
  {
   "cell_type": "code",
   "execution_count": 7,
   "metadata": {},
   "outputs": [
    {
     "name": "stdout",
     "output_type": "stream",
     "text": [
      "ai_for_mo: None, sv: False, use_tt: False, init_ab: False\n",
      "count= 18297\n",
      "ai_for_mo: None, sv: False, use_tt: False, init_ab: True\n",
      "count= 16811\n",
      "ai_for_mo: None, sv: False, use_tt: True, init_ab: False\n",
      "count= 1054\n",
      "ai_for_mo: None, sv: False, use_tt: True, init_ab: True\n",
      "count= 832\n",
      "ai_for_mo: None, sv: True, use_tt: False, init_ab: False\n",
      "count= 20866\n",
      "ai_for_mo: None, sv: True, use_tt: False, init_ab: True\n",
      "count= 20484\n",
      "ai_for_mo: None, sv: True, use_tt: True, init_ab: False\n",
      "count= 1275\n",
      "ai_for_mo: None, sv: True, use_tt: True, init_ab: True\n",
      "count= 1242\n",
      "ai_for_mo: <function ai2s at 0x00000216EC38FCE0>, sv: False, use_tt: False, init_ab: False\n",
      "count= 14810\n",
      "ai_for_mo: <function ai2s at 0x00000216EC38FCE0>, sv: False, use_tt: False, init_ab: True\n",
      "count= 11274\n",
      "ai_for_mo: <function ai2s at 0x00000216EC38FCE0>, sv: False, use_tt: True, init_ab: False\n",
      "count= 884\n",
      "ai_for_mo: <function ai2s at 0x00000216EC38FCE0>, sv: False, use_tt: True, init_ab: True\n",
      "count= 734\n",
      "ai_for_mo: <function ai2s at 0x00000216EC38FCE0>, sv: True, use_tt: False, init_ab: False\n",
      "count= 17919\n",
      "ai_for_mo: <function ai2s at 0x00000216EC38FCE0>, sv: True, use_tt: False, init_ab: True\n",
      "count= 17262\n",
      "ai_for_mo: <function ai2s at 0x00000216EC38FCE0>, sv: True, use_tt: True, init_ab: False\n",
      "count= 1642\n",
      "ai_for_mo: <function ai2s at 0x00000216EC38FCE0>, sv: True, use_tt: True, init_ab: True\n",
      "count= 1246\n",
      "ai_for_mo: <function ai10s at 0x00000216EC394D60>, sv: False, use_tt: False, init_ab: False\n",
      "count= 2267\n",
      "ai_for_mo: <function ai10s at 0x00000216EC394D60>, sv: False, use_tt: False, init_ab: True\n",
      "count= 1980\n",
      "ai_for_mo: <function ai10s at 0x00000216EC394D60>, sv: False, use_tt: True, init_ab: False\n",
      "count= 274\n",
      "ai_for_mo: <function ai10s at 0x00000216EC394D60>, sv: False, use_tt: True, init_ab: True\n",
      "count= 270\n",
      "ai_for_mo: <function ai10s at 0x00000216EC394D60>, sv: True, use_tt: False, init_ab: False\n",
      "count= 2189\n",
      "ai_for_mo: <function ai10s at 0x00000216EC394D60>, sv: True, use_tt: False, init_ab: True\n",
      "count= 2232\n",
      "ai_for_mo: <function ai10s at 0x00000216EC394D60>, sv: True, use_tt: True, init_ab: False\n",
      "count= 261\n",
      "ai_for_mo: <function ai10s at 0x00000216EC394D60>, sv: True, use_tt: True, init_ab: True\n",
      "count= 277\n",
      "ai_for_mo: <function ai14s at 0x00000216EC395260>, sv: False, use_tt: False, init_ab: False\n",
      "count= 1496\n",
      "ai_for_mo: <function ai14s at 0x00000216EC395260>, sv: False, use_tt: False, init_ab: True\n",
      "count= 1496\n",
      "ai_for_mo: <function ai14s at 0x00000216EC395260>, sv: False, use_tt: True, init_ab: False\n",
      "count= 234\n",
      "ai_for_mo: <function ai14s at 0x00000216EC395260>, sv: False, use_tt: True, init_ab: True\n",
      "count= 239\n",
      "ai_for_mo: <function ai14s at 0x00000216EC395260>, sv: True, use_tt: False, init_ab: False\n",
      "count= 1496\n",
      "ai_for_mo: <function ai14s at 0x00000216EC395260>, sv: True, use_tt: False, init_ab: True\n",
      "count= 1496\n",
      "ai_for_mo: <function ai14s at 0x00000216EC395260>, sv: True, use_tt: True, init_ab: False\n",
      "count= 234\n",
      "ai_for_mo: <function ai14s at 0x00000216EC395260>, sv: True, use_tt: True, init_ab: True\n",
      "count= 234\n"
     ]
    }
   ],
   "source": [
    "from ai import ai10s\n",
    "\n",
    "for ai_for_mo in [None, ai2s, ai10s, ai14s]:\n",
    "    for shortest_victory in [False, True]:\n",
    "        for use_tt in [False, True]:\n",
    "            for init_ab in [False, True]:\n",
    "                print(f\"ai_for_mo: {ai_for_mo}, sv: {shortest_victory}, use_tt: {use_tt}, init_ab: {init_ab}\")\n",
    "                print(\"count=\", ai_abs_all(mb, ai_for_mo=ai_for_mo,\n",
    "                                          shortest_victory=shortest_victory,\n",
    "                                          init_ab=init_ab, use_tt=use_tt,\n",
    "                                          calc_score=True, calc_count=True))"
   ]
  },
  {
   "cell_type": "code",
   "execution_count": 8,
   "metadata": {},
   "outputs": [
    {
     "name": "stdout",
     "output_type": "stream",
     "text": [
      "{'candidate': [(1, 1)],\n",
      " 'score_by_move': {(0, 0): 1.5,\n",
      "                   (0, 1): 1.0,\n",
      "                   (0, 2): 1.5,\n",
      "                   (1, 0): 1.0,\n",
      "                   (1, 1): 2.0,\n",
      "                   (1, 2): 1.0,\n",
      "                   (2, 0): 1.5,\n",
      "                   (2, 1): 1.0,\n",
      "                   (2, 2): 1.5}}\n"
     ]
    }
   ],
   "source": [
    "from pprint import pprint\n",
    "\n",
    "result = ai14s(mb, analyze=True)\n",
    "pprint(result)"
   ]
  },
  {
   "cell_type": "code",
   "execution_count": 9,
   "metadata": {},
   "outputs": [
    {
     "name": "stdout",
     "output_type": "stream",
     "text": [
      "{(0, 0): 1.5,\n",
      " (0, 1): 1.0,\n",
      " (0, 2): 1.5,\n",
      " (1, 0): 1.0,\n",
      " (1, 1): 2.0,\n",
      " (1, 2): 1.0,\n",
      " (2, 0): 1.5,\n",
      " (2, 1): 1.0,\n",
      " (2, 2): 1.5}\n"
     ]
    }
   ],
   "source": [
    "score_by_move = result[\"score_by_move\"]\n",
    "pprint(score_by_move)"
   ]
  },
  {
   "cell_type": "code",
   "execution_count": 31,
   "metadata": {},
   "outputs": [
    {
     "name": "stdout",
     "output_type": "stream",
     "text": [
      "[(0, 0), (0, 1), (0, 2), (1, 0), (1, 1), (1, 2), (2, 0), (2, 1), (2, 2)]\n"
     ]
    }
   ],
   "source": [
    "pprint(sorted(score_by_move))"
   ]
  },
  {
   "cell_type": "code",
   "execution_count": null,
   "metadata": {},
   "outputs": [
    {
     "name": "stdout",
     "output_type": "stream",
     "text": [
      "((0, 0), 1.5)\n",
      "((1, 0), 1.0)\n",
      "((2, 0), 1.5)\n",
      "((0, 1), 1.0)\n",
      "((1, 1), 2.0)\n",
      "((2, 1), 1.0)\n",
      "((0, 2), 1.5)\n",
      "((1, 2), 1.0)\n",
      "((2, 2), 1.5)\n"
     ]
    }
   ],
   "source": [
    "for item in score_by_move.items():\n",
    "    print(item)"
   ]
  },
  {
   "cell_type": "code",
   "execution_count": 12,
   "metadata": {},
   "outputs": [
    {
     "ename": "TypeError",
     "evalue": "'dict_items' object is not subscriptable",
     "output_type": "error",
     "traceback": [
      "\u001b[1;31m---------------------------------------------------------------------------\u001b[0m",
      "\u001b[1;31mTypeError\u001b[0m                                 Traceback (most recent call last)",
      "Cell \u001b[1;32mIn[12], line 2\u001b[0m\n\u001b[0;32m      1\u001b[0m items \u001b[38;5;241m=\u001b[39m score_by_move\u001b[38;5;241m.\u001b[39mitems()\n\u001b[1;32m----> 2\u001b[0m items[\u001b[38;5;241m0\u001b[39m]\n",
      "\u001b[1;31mTypeError\u001b[0m: 'dict_items' object is not subscriptable"
     ]
    }
   ],
   "source": [
    "items = score_by_move.items()\n",
    "items[0]"
   ]
  },
  {
   "cell_type": "code",
   "execution_count": 13,
   "metadata": {},
   "outputs": [
    {
     "name": "stdout",
     "output_type": "stream",
     "text": [
      "[((0, 0), 1.5),\n",
      " ((1, 0), 1.0),\n",
      " ((2, 0), 1.5),\n",
      " ((0, 1), 1.0),\n",
      " ((1, 1), 2.0),\n",
      " ((2, 1), 1.0),\n",
      " ((0, 2), 1.5),\n",
      " ((1, 2), 1.0),\n",
      " ((2, 2), 1.5)]\n"
     ]
    }
   ],
   "source": [
    "score_by_move_list = list(items)\n",
    "pprint(score_by_move_list)"
   ]
  },
  {
   "cell_type": "code",
   "execution_count": 14,
   "metadata": {},
   "outputs": [
    {
     "name": "stdout",
     "output_type": "stream",
     "text": [
      "[((1, 0), 1.0),\n",
      " ((0, 1), 1.0),\n",
      " ((2, 1), 1.0),\n",
      " ((1, 2), 1.0),\n",
      " ((0, 0), 1.5),\n",
      " ((2, 0), 1.5),\n",
      " ((0, 2), 1.5),\n",
      " ((2, 2), 1.5),\n",
      " ((1, 1), 2.0)]\n"
     ]
    }
   ],
   "source": [
    "score_by_move_list.sort(key=lambda x:x[1])\n",
    "pprint(score_by_move_list)"
   ]
  },
  {
   "cell_type": "code",
   "execution_count": 15,
   "metadata": {},
   "outputs": [
    {
     "name": "stdout",
     "output_type": "stream",
     "text": [
      "[((1, 0), 1.0),\n",
      " ((0, 1), 1.0),\n",
      " ((2, 1), 1.0),\n",
      " ((1, 2), 1.0),\n",
      " ((0, 0), 1.5),\n",
      " ((2, 0), 1.5),\n",
      " ((0, 2), 1.5),\n",
      " ((2, 2), 1.5),\n",
      " ((1, 1), 2.0)]\n"
     ]
    }
   ],
   "source": [
    "score_by_move_list = sorted(items, key=lambda x:x[1])\n",
    "pprint(score_by_move_list)"
   ]
  },
  {
   "cell_type": "code",
   "execution_count": 16,
   "metadata": {},
   "outputs": [
    {
     "name": "stdout",
     "output_type": "stream",
     "text": [
      "[((1, 0), 1.0),\n",
      " ((0, 1), 1.0),\n",
      " ((2, 1), 1.0),\n",
      " ((1, 2), 1.0),\n",
      " ((0, 0), 1.5),\n",
      " ((2, 0), 1.5),\n",
      " ((0, 2), 1.5),\n",
      " ((2, 2), 1.5),\n",
      " ((1, 1), 2.0)]\n"
     ]
    }
   ],
   "source": [
    "score_by_move_list = sorted(score_by_move.items(), key=lambda x:x[1])\n",
    "pprint(score_by_move_list)"
   ]
  },
  {
   "cell_type": "code",
   "execution_count": 17,
   "metadata": {},
   "outputs": [
    {
     "name": "stdout",
     "output_type": "stream",
     "text": [
      "[((0, 0), 1.5),\n",
      " ((0, 1), 1.0),\n",
      " ((0, 2), 1.5),\n",
      " ((1, 0), 1.0),\n",
      " ((1, 1), 2.0),\n",
      " ((1, 2), 1.0),\n",
      " ((2, 0), 1.5),\n",
      " ((2, 1), 1.0),\n",
      " ((2, 2), 1.5)]\n"
     ]
    }
   ],
   "source": [
    "score_by_move_list.sort(key=lambda x:x[0])\n",
    "pprint(score_by_move_list)"
   ]
  },
  {
   "cell_type": "code",
   "execution_count": 18,
   "metadata": {},
   "outputs": [
    {
     "name": "stdout",
     "output_type": "stream",
     "text": [
      "[((2, 2), 1.5),\n",
      " ((2, 1), 1.0),\n",
      " ((2, 0), 1.5),\n",
      " ((1, 2), 1.0),\n",
      " ((1, 1), 2.0),\n",
      " ((1, 0), 1.0),\n",
      " ((0, 2), 1.5),\n",
      " ((0, 1), 1.0),\n",
      " ((0, 0), 1.5)]\n"
     ]
    }
   ],
   "source": [
    "pprint(sorted(score_by_move.items(), reverse=True))"
   ]
  },
  {
   "cell_type": "code",
   "execution_count": 19,
   "metadata": {},
   "outputs": [
    {
     "name": "stdout",
     "output_type": "stream",
     "text": [
      "[((1, 1), 2.0),\n",
      " ((0, 0), 1.5),\n",
      " ((0, 2), 1.5),\n",
      " ((2, 0), 1.5),\n",
      " ((2, 2), 1.5),\n",
      " ((0, 1), 1.0),\n",
      " ((1, 0), 1.0),\n",
      " ((1, 2), 1.0),\n",
      " ((2, 1), 1.0)]\n"
     ]
    }
   ],
   "source": [
    "score_by_move_list.sort(key=lambda x:x[1], reverse=True)\n",
    "pprint(score_by_move_list)"
   ]
  },
  {
   "cell_type": "code",
   "execution_count": 20,
   "metadata": {},
   "outputs": [
    {
     "name": "stdout",
     "output_type": "stream",
     "text": [
      "{(1, 1): 2.0,\n",
      " (0, 0): 1.5,\n",
      " (0, 2): 1.5,\n",
      " (2, 0): 1.5,\n",
      " (2, 2): 1.5,\n",
      " (0, 1): 1.0,\n",
      " (1, 0): 1.0,\n",
      " (1, 2): 1.0,\n",
      " (2, 1): 1.0}\n"
     ]
    }
   ],
   "source": [
    "ordered_score_by_move = dict(score_by_move_list)\n",
    "pprint(ordered_score_by_move, sort_dicts=False)"
   ]
  },
  {
   "cell_type": "code",
   "execution_count": 21,
   "metadata": {},
   "outputs": [
    {
     "name": "stdout",
     "output_type": "stream",
     "text": [
      "{(0, 0): 1.5,\n",
      " (0, 1): 1.0,\n",
      " (0, 2): 1.5,\n",
      " (1, 0): 1.0,\n",
      " (1, 1): 2.0,\n",
      " (1, 2): 1.0,\n",
      " (2, 0): 1.5,\n",
      " (2, 1): 1.0,\n",
      " (2, 2): 1.5}\n"
     ]
    }
   ],
   "source": [
    "pprint(ordered_score_by_move)"
   ]
  },
  {
   "cell_type": "code",
   "execution_count": 22,
   "metadata": {},
   "outputs": [
    {
     "name": "stdout",
     "output_type": "stream",
     "text": [
      "[(1, 1), (0, 0), (0, 2), (2, 0), (2, 2), (0, 1), (1, 0), (1, 2), (2, 1)]\n"
     ]
    }
   ],
   "source": [
    "ordered_move_list = [x[0] for x in score_by_move_list]\n",
    "print(ordered_move_list)"
   ]
  },
  {
   "cell_type": "code",
   "execution_count": 23,
   "metadata": {},
   "outputs": [
    {
     "name": "stdout",
     "output_type": "stream",
     "text": [
      "[(1, 1), (0, 0), (0, 2), (2, 0), (2, 2), (0, 1), (1, 0), (1, 2), (2, 1)]\n"
     ]
    }
   ],
   "source": [
    "ordered_move_list = list(ordered_score_by_move.keys())\n",
    "print(ordered_move_list)"
   ]
  },
  {
   "cell_type": "code",
   "execution_count": 24,
   "metadata": {},
   "outputs": [
    {
     "name": "stdout",
     "output_type": "stream",
     "text": [
      "[(1, 1), (0, 0), (2, 0), (0, 2), (2, 2), (1, 0), (0, 1), (2, 1), (1, 2)]\n"
     ]
    }
   ],
   "source": [
    "result = ai14s(mb, analyze=True)\n",
    "score_by_move = result[\"score_by_move\"]\n",
    "items = score_by_move.items()\n",
    "score_by_move_list = list(items)\n",
    "score_by_move_list.sort(key=lambda x:x[1], reverse=True)\n",
    "orderd_move_list = [x[0] for x in score_by_move_list]\n",
    "print(orderd_move_list)"
   ]
  },
  {
   "cell_type": "code",
   "execution_count": 25,
   "metadata": {},
   "outputs": [
    {
     "name": "stdout",
     "output_type": "stream",
     "text": [
      "[(1, 1), (0, 0), (2, 0), (0, 2), (2, 2), (1, 0), (0, 1), (2, 1), (1, 2)]\n"
     ]
    }
   ],
   "source": [
    "score_by_move = ai14s(mb, analyze=True)[\"score_by_move\"]\n",
    "score_by_move_list = sorted(score_by_move.items(), key=lambda x:x[1], reverse=True)\n",
    "orderd_move_list = [x[0] for x in score_by_move_list]\n",
    "print(orderd_move_list)"
   ]
  },
  {
   "cell_type": "code",
   "execution_count": 26,
   "metadata": {},
   "outputs": [
    {
     "name": "stdout",
     "output_type": "stream",
     "text": [
      "[(1, 1), (0, 0), (2, 0), (0, 2), (2, 2), (1, 0), (0, 1), (2, 1), (1, 2)]\n"
     ]
    }
   ],
   "source": [
    "orderd_move_list = [x[0] for x in sorted(ai14s(mb, analyze=True)[\"score_by_move\"].items(), key=lambda x:x[1], reverse=True)]\n",
    "print(orderd_move_list)"
   ]
  },
  {
   "cell_type": "code",
   "execution_count": null,
   "metadata": {},
   "outputs": [],
   "source": []
  },
  {
   "cell_type": "code",
   "execution_count": 28,
   "metadata": {},
   "outputs": [
    {
     "name": "stdout",
     "output_type": "stream",
     "text": [
      "ai_for_mo: None, sv: False, use_tt: False, init_ab: False\n"
     ]
    },
    {
     "name": "stderr",
     "output_type": "stream",
     "text": [
      "100%|██████████| 431/431 [00:03<00:00, 110.35it/s]\n"
     ]
    },
    {
     "name": "stdout",
     "output_type": "stream",
     "text": [
      "431/431 100.00%\n",
      "ai_for_mo: None, sv: False, use_tt: False, init_ab: True\n"
     ]
    },
    {
     "name": "stderr",
     "output_type": "stream",
     "text": [
      "100%|██████████| 431/431 [00:03<00:00, 137.48it/s]\n"
     ]
    },
    {
     "name": "stdout",
     "output_type": "stream",
     "text": [
      "431/431 100.00%\n",
      "ai_for_mo: None, sv: False, use_tt: True, init_ab: False\n"
     ]
    },
    {
     "name": "stderr",
     "output_type": "stream",
     "text": [
      "100%|██████████| 431/431 [00:03<00:00, 130.78it/s]\n"
     ]
    },
    {
     "name": "stdout",
     "output_type": "stream",
     "text": [
      "431/431 100.00%\n",
      "ai_for_mo: None, sv: False, use_tt: True, init_ab: True\n"
     ]
    },
    {
     "name": "stderr",
     "output_type": "stream",
     "text": [
      "100%|██████████| 431/431 [00:02<00:00, 202.66it/s]\n"
     ]
    },
    {
     "name": "stdout",
     "output_type": "stream",
     "text": [
      "431/431 100.00%\n",
      "ai_for_mo: None, sv: True, use_tt: False, init_ab: False\n"
     ]
    },
    {
     "name": "stderr",
     "output_type": "stream",
     "text": [
      "100%|██████████| 431/431 [00:04<00:00, 89.94it/s] \n"
     ]
    },
    {
     "name": "stdout",
     "output_type": "stream",
     "text": [
      "431/431 100.00%\n",
      "ai_for_mo: None, sv: True, use_tt: False, init_ab: True\n"
     ]
    },
    {
     "name": "stderr",
     "output_type": "stream",
     "text": [
      "100%|██████████| 431/431 [00:04<00:00, 97.87it/s] \n"
     ]
    },
    {
     "name": "stdout",
     "output_type": "stream",
     "text": [
      "431/431 100.00%\n",
      "ai_for_mo: None, sv: True, use_tt: True, init_ab: False\n"
     ]
    },
    {
     "name": "stderr",
     "output_type": "stream",
     "text": [
      "100%|██████████| 431/431 [00:03<00:00, 131.06it/s]\n"
     ]
    },
    {
     "name": "stdout",
     "output_type": "stream",
     "text": [
      "431/431 100.00%\n",
      "ai_for_mo: None, sv: True, use_tt: True, init_ab: True\n"
     ]
    },
    {
     "name": "stderr",
     "output_type": "stream",
     "text": [
      "100%|██████████| 431/431 [00:03<00:00, 111.26it/s]\n"
     ]
    },
    {
     "name": "stdout",
     "output_type": "stream",
     "text": [
      "431/431 100.00%\n",
      "ai_for_mo: <function ai2s at 0x00000216EC38FCE0>, sv: False, use_tt: False, init_ab: False\n"
     ]
    },
    {
     "name": "stderr",
     "output_type": "stream",
     "text": [
      "100%|██████████| 431/431 [00:08<00:00, 49.65it/s] \n"
     ]
    },
    {
     "name": "stdout",
     "output_type": "stream",
     "text": [
      "431/431 100.00%\n",
      "ai_for_mo: <function ai2s at 0x00000216EC38FCE0>, sv: False, use_tt: False, init_ab: True\n"
     ]
    },
    {
     "name": "stderr",
     "output_type": "stream",
     "text": [
      "100%|██████████| 431/431 [00:07<00:00, 60.76it/s] \n"
     ]
    },
    {
     "name": "stdout",
     "output_type": "stream",
     "text": [
      "431/431 100.00%\n",
      "ai_for_mo: <function ai2s at 0x00000216EC38FCE0>, sv: False, use_tt: True, init_ab: False\n"
     ]
    },
    {
     "name": "stderr",
     "output_type": "stream",
     "text": [
      "100%|██████████| 431/431 [00:07<00:00, 57.43it/s] \n"
     ]
    },
    {
     "name": "stdout",
     "output_type": "stream",
     "text": [
      "431/431 100.00%\n",
      "ai_for_mo: <function ai2s at 0x00000216EC38FCE0>, sv: False, use_tt: True, init_ab: True\n"
     ]
    },
    {
     "name": "stderr",
     "output_type": "stream",
     "text": [
      "100%|██████████| 431/431 [00:05<00:00, 82.46it/s] \n"
     ]
    },
    {
     "name": "stdout",
     "output_type": "stream",
     "text": [
      "431/431 100.00%\n",
      "ai_for_mo: <function ai2s at 0x00000216EC38FCE0>, sv: True, use_tt: False, init_ab: False\n"
     ]
    },
    {
     "name": "stderr",
     "output_type": "stream",
     "text": [
      "100%|██████████| 431/431 [00:10<00:00, 42.77it/s] \n"
     ]
    },
    {
     "name": "stdout",
     "output_type": "stream",
     "text": [
      "431/431 100.00%\n",
      "ai_for_mo: <function ai2s at 0x00000216EC38FCE0>, sv: True, use_tt: False, init_ab: True\n"
     ]
    },
    {
     "name": "stderr",
     "output_type": "stream",
     "text": [
      "100%|██████████| 431/431 [00:08<00:00, 50.89it/s] \n"
     ]
    },
    {
     "name": "stdout",
     "output_type": "stream",
     "text": [
      "431/431 100.00%\n",
      "ai_for_mo: <function ai2s at 0x00000216EC38FCE0>, sv: True, use_tt: True, init_ab: False\n"
     ]
    },
    {
     "name": "stderr",
     "output_type": "stream",
     "text": [
      "100%|██████████| 431/431 [00:07<00:00, 56.52it/s] \n"
     ]
    },
    {
     "name": "stdout",
     "output_type": "stream",
     "text": [
      "431/431 100.00%\n",
      "ai_for_mo: <function ai2s at 0x00000216EC38FCE0>, sv: True, use_tt: True, init_ab: True\n"
     ]
    },
    {
     "name": "stderr",
     "output_type": "stream",
     "text": [
      "100%|██████████| 431/431 [00:06<00:00, 64.21it/s] \n"
     ]
    },
    {
     "name": "stdout",
     "output_type": "stream",
     "text": [
      "431/431 100.00%\n",
      "ai_for_mo: <function ai14s at 0x00000216EC395260>, sv: False, use_tt: False, init_ab: False\n"
     ]
    },
    {
     "name": "stderr",
     "output_type": "stream",
     "text": [
      "100%|██████████| 431/431 [00:05<00:00, 80.54it/s] \n"
     ]
    },
    {
     "name": "stdout",
     "output_type": "stream",
     "text": [
      "431/431 100.00%\n",
      "ai_for_mo: <function ai14s at 0x00000216EC395260>, sv: False, use_tt: False, init_ab: True\n"
     ]
    },
    {
     "name": "stderr",
     "output_type": "stream",
     "text": [
      "100%|██████████| 431/431 [00:03<00:00, 118.63it/s]\n"
     ]
    },
    {
     "name": "stdout",
     "output_type": "stream",
     "text": [
      "431/431 100.00%\n",
      "ai_for_mo: <function ai14s at 0x00000216EC395260>, sv: False, use_tt: True, init_ab: False\n"
     ]
    },
    {
     "name": "stderr",
     "output_type": "stream",
     "text": [
      "100%|██████████| 431/431 [00:05<00:00, 73.19it/s] \n"
     ]
    },
    {
     "name": "stdout",
     "output_type": "stream",
     "text": [
      "431/431 100.00%\n",
      "ai_for_mo: <function ai14s at 0x00000216EC395260>, sv: False, use_tt: True, init_ab: True\n"
     ]
    },
    {
     "name": "stderr",
     "output_type": "stream",
     "text": [
      "100%|██████████| 431/431 [00:03<00:00, 135.53it/s]\n"
     ]
    },
    {
     "name": "stdout",
     "output_type": "stream",
     "text": [
      "431/431 100.00%\n",
      "ai_for_mo: <function ai14s at 0x00000216EC395260>, sv: True, use_tt: False, init_ab: False\n"
     ]
    },
    {
     "name": "stderr",
     "output_type": "stream",
     "text": [
      "100%|██████████| 431/431 [00:05<00:00, 78.43it/s] \n"
     ]
    },
    {
     "name": "stdout",
     "output_type": "stream",
     "text": [
      "431/431 100.00%\n",
      "ai_for_mo: <function ai14s at 0x00000216EC395260>, sv: True, use_tt: False, init_ab: True\n"
     ]
    },
    {
     "name": "stderr",
     "output_type": "stream",
     "text": [
      "100%|██████████| 431/431 [00:04<00:00, 88.08it/s] \n"
     ]
    },
    {
     "name": "stdout",
     "output_type": "stream",
     "text": [
      "431/431 100.00%\n",
      "ai_for_mo: <function ai14s at 0x00000216EC395260>, sv: True, use_tt: True, init_ab: False\n"
     ]
    },
    {
     "name": "stderr",
     "output_type": "stream",
     "text": [
      "100%|██████████| 431/431 [00:05<00:00, 79.54it/s] \n"
     ]
    },
    {
     "name": "stdout",
     "output_type": "stream",
     "text": [
      "431/431 100.00%\n",
      "ai_for_mo: <function ai14s at 0x00000216EC395260>, sv: True, use_tt: True, init_ab: True\n"
     ]
    },
    {
     "name": "stderr",
     "output_type": "stream",
     "text": [
      "100%|██████████| 431/431 [00:05<00:00, 85.30it/s] "
     ]
    },
    {
     "name": "stdout",
     "output_type": "stream",
     "text": [
      "431/431 100.00%\n"
     ]
    },
    {
     "name": "stderr",
     "output_type": "stream",
     "text": [
      "\n"
     ]
    }
   ],
   "source": [
    "for ai_for_mo in [None, ai2s, ai14s]:\n",
    "    for shortest_victory in [False, True]:\n",
    "        for use_tt in [False, True]:\n",
    "            for init_ab in [False, True]:\n",
    "                print(f\"ai_for_mo: {ai_for_mo}, sv: {shortest_victory}, use_tt: {use_tt}, init_ab: {init_ab}\")\n",
    "                params = {\n",
    "                    \"ai_for_mo\": ai_for_mo,\n",
    "                    \"shortest_victory\": shortest_victory,\n",
    "                    \"init_ab\": init_ab,\n",
    "                    \"use_tt\": use_tt,\n",
    "                    \"sort_allnodes\": True,\n",
    "                }\n",
    "                Check_solved.is_strongly_solved(ai_abs_all, params=params)"
   ]
  },
  {
   "cell_type": "code",
   "execution_count": 29,
   "metadata": {},
   "outputs": [
    {
     "name": "stdout",
     "output_type": "stream",
     "text": [
      "ai_for_mo: <function ai10s at 0x00000216EC394D60>, sv: False, init_ab: False, use_tt: False\n",
      "count= 2305\n",
      "ai_for_mo: <function ai10s at 0x00000216EC394D60>, sv: False, init_ab: True, use_tt: False\n",
      "count= 2082\n",
      "ai_for_mo: <function ai10s at 0x00000216EC394D60>, sv: False, init_ab: False, use_tt: True\n",
      "count= 285\n",
      "ai_for_mo: <function ai10s at 0x00000216EC394D60>, sv: False, init_ab: True, use_tt: True\n",
      "count= 260\n",
      "ai_for_mo: <function ai10s at 0x00000216EC394D60>, sv: True, init_ab: False, use_tt: False\n",
      "count= 2305\n",
      "ai_for_mo: <function ai10s at 0x00000216EC394D60>, sv: True, init_ab: True, use_tt: False\n",
      "count= 2305\n",
      "ai_for_mo: <function ai10s at 0x00000216EC394D60>, sv: True, init_ab: False, use_tt: True\n",
      "count= 285\n",
      "ai_for_mo: <function ai10s at 0x00000216EC394D60>, sv: True, init_ab: True, use_tt: True\n",
      "count= 285\n",
      "ai_for_mo: <function ai14s at 0x00000216EC395260>, sv: False, init_ab: False, use_tt: False\n",
      "count= 1496\n",
      "ai_for_mo: <function ai14s at 0x00000216EC395260>, sv: False, init_ab: True, use_tt: False\n",
      "count= 1496\n",
      "ai_for_mo: <function ai14s at 0x00000216EC395260>, sv: False, init_ab: False, use_tt: True\n",
      "count= 239\n",
      "ai_for_mo: <function ai14s at 0x00000216EC395260>, sv: False, init_ab: True, use_tt: True\n",
      "count= 239\n",
      "ai_for_mo: <function ai14s at 0x00000216EC395260>, sv: True, init_ab: False, use_tt: False\n",
      "count= 1496\n",
      "ai_for_mo: <function ai14s at 0x00000216EC395260>, sv: True, init_ab: True, use_tt: False\n",
      "count= 1496\n",
      "ai_for_mo: <function ai14s at 0x00000216EC395260>, sv: True, init_ab: False, use_tt: True\n",
      "count= 239\n",
      "ai_for_mo: <function ai14s at 0x00000216EC395260>, sv: True, init_ab: True, use_tt: True\n",
      "count= 239\n"
     ]
    }
   ],
   "source": [
    "for ai_for_mo in [ai10s, ai14s]:\n",
    "    for shortest_victory in [False, True]:\n",
    "        for use_tt in [False, True]:\n",
    "            for init_ab in [False, True]:\n",
    "                print(f\"ai_for_mo: {ai_for_mo}, sv: {shortest_victory}, init_ab: {init_ab}, use_tt: {use_tt}\")\n",
    "                print(\"count=\", ai_abs_all(mb, ai_for_mo=ai_for_mo,\n",
    "                                          shortest_victory=shortest_victory,\n",
    "                                          init_ab=init_ab, use_tt=use_tt,\n",
    "                                          sort_allnodes=True, calc_score=True, calc_count=True))"
   ]
  },
  {
   "cell_type": "code",
   "execution_count": 30,
   "metadata": {},
   "outputs": [
    {
     "name": "stdout",
     "output_type": "stream",
     "text": [
      "ai_for_mo: <function ai10s at 0x00000216EC394D60>, sv: False, init_ab: False, use_tt: False\n",
      "count= 13816\n",
      "count2= 13214\n",
      "ai_for_mo: <function ai10s at 0x00000216EC394D60>, sv: False, init_ab: True, use_tt: False\n",
      "count= 8745\n",
      "count2= 7938\n",
      "ai_for_mo: <function ai10s at 0x00000216EC394D60>, sv: False, init_ab: False, use_tt: True\n",
      "count= 10371\n",
      "count2= 9904\n",
      "ai_for_mo: <function ai10s at 0x00000216EC394D60>, sv: False, init_ab: True, use_tt: True\n",
      "count= 6625\n",
      "count2= 5976\n",
      "ai_for_mo: <function ai10s at 0x00000216EC394D60>, sv: True, init_ab: False, use_tt: False\n",
      "count= 15048\n",
      "count2= 13950\n",
      "ai_for_mo: <function ai10s at 0x00000216EC394D60>, sv: True, init_ab: True, use_tt: False\n",
      "count= 13131\n",
      "count2= 11818\n",
      "ai_for_mo: <function ai10s at 0x00000216EC394D60>, sv: True, init_ab: False, use_tt: True\n",
      "count= 11082\n",
      "count2= 10300\n",
      "ai_for_mo: <function ai10s at 0x00000216EC394D60>, sv: True, init_ab: True, use_tt: True\n",
      "count= 9806\n",
      "count2= 8811\n",
      "ai_for_mo: <function ai14s at 0x00000216EC395260>, sv: False, init_ab: False, use_tt: False\n",
      "count= 10683\n",
      "count2= 10679\n",
      "ai_for_mo: <function ai14s at 0x00000216EC395260>, sv: False, init_ab: True, use_tt: False\n",
      "count= 6131\n",
      "count2= 6076\n",
      "ai_for_mo: <function ai14s at 0x00000216EC395260>, sv: False, init_ab: False, use_tt: True\n",
      "count= 8795\n",
      "count2= 8792\n",
      "ai_for_mo: <function ai14s at 0x00000216EC395260>, sv: False, init_ab: True, use_tt: True\n",
      "count= 5003\n",
      "count2= 4964\n",
      "ai_for_mo: <function ai14s at 0x00000216EC395260>, sv: True, init_ab: False, use_tt: False\n",
      "count= 10691\n",
      "count2= 10679\n",
      "ai_for_mo: <function ai14s at 0x00000216EC395260>, sv: True, init_ab: True, use_tt: False\n",
      "count= 9267\n",
      "count2= 9251\n",
      "ai_for_mo: <function ai14s at 0x00000216EC395260>, sv: True, init_ab: False, use_tt: True\n",
      "count= 8810\n",
      "count2= 8796\n",
      "ai_for_mo: <function ai14s at 0x00000216EC395260>, sv: True, init_ab: True, use_tt: True\n",
      "count= 7556\n",
      "count2= 7549\n"
     ]
    }
   ],
   "source": [
    "from util import load_mblist\n",
    "\n",
    "mblist = load_mblist(\"../data/mblist_by_board_min.dat\")\n",
    "for ai_for_mo in [ai10s, ai14s]:\n",
    "    for shortest_victory in [False, True]:\n",
    "        for use_tt in [False, True]:\n",
    "            for init_ab in [False, True]:\n",
    "                print(f\"ai_for_mo: {ai_for_mo}, sv: {shortest_victory}, init_ab: {init_ab}, use_tt: {use_tt}\")\n",
    "                count = 0\n",
    "                count2 = 0\n",
    "                for mb in mblist:\n",
    "                    count += ai_abs_all(mb, ai_for_mo=ai_for_mo,\n",
    "                                        shortest_victory=shortest_victory,\n",
    "                                        init_ab=init_ab, use_tt=use_tt,\n",
    "                                        sort_allnodes=False, calc_score=True, calc_count=True)\n",
    "                    count2 += ai_abs_all(mb, ai_for_mo=ai_for_mo,\n",
    "                                        shortest_victory=shortest_victory,\n",
    "                                        init_ab=init_ab, use_tt=use_tt,\n",
    "                                        sort_allnodes=True, calc_score=True, calc_count=True)\n",
    "                print(\"count=\", count)\n",
    "                print(\"count2=\", count2)"
   ]
  }
 ],
 "metadata": {
  "kernelspec": {
   "display_name": "marubatsu",
   "language": "python",
   "name": "python3"
  },
  "language_info": {
   "codemirror_mode": {
    "name": "ipython",
    "version": 3
   },
   "file_extension": ".py",
   "mimetype": "text/x-python",
   "name": "python",
   "nbconvert_exporter": "python",
   "pygments_lexer": "ipython3",
   "version": "3.11.4"
  }
 },
 "nbformat": 4,
 "nbformat_minor": 2
}
