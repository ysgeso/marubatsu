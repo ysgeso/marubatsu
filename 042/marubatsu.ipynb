{
 "cells": [
  {
   "cell_type": "code",
   "execution_count": 1,
   "metadata": {},
   "outputs": [],
   "source": [
    "from marubatsu import Marubatsu\n",
    "from collections import defaultdict\n",
    "\n",
    "def ai_match(ai, match_num=10000):\n",
    "    mb = Marubatsu()\n",
    "\n",
    "    # ai[0] VS ai[1] と ai[1] VS a[0] の対戦を match_num 回行い、通算成績を数える\n",
    "    count_list = [ defaultdict(int), defaultdict(int)]\n",
    "    for _ in range(match_num):\n",
    "        count_list[0][mb.play(ai, verbose=False)] += 1\n",
    "        count_list[1][mb.play(ai=[ai[1], ai[0]], verbose=False)] += 1\n",
    "\n",
    "    # それぞれの比率を計算し、ratio_list に代入する\n",
    "    ratio_list = [ {}, {} ]\n",
    "    for i in range(2):\n",
    "        for key in count_list[i]:\n",
    "            ratio_list[i][key] = count_list[i][key] / match_num\n",
    "\n",
    "    # 〇の勝利、×の勝利、引き分けの順番で表示することを表す list \n",
    "    order_list = [Marubatsu.CIRCLE, Marubatsu.CROSS, Marubatsu.DRAW]\n",
    "\n",
    "    # 通算成績の回数と比率の表示\n",
    "    diff_list = [ (\"count\", count_list, \"d\"), (\"ratio\", ratio_list, \".1%\") ]\n",
    "    for title, data, format in diff_list:\n",
    "        print(title, end=\"\")\n",
    "        for i in range(2):\n",
    "            for key in order_list:\n",
    "                print(f\" {key} {data[i][key]:{format}}\", end=\"\")\n",
    "            print()"
   ]
  },
  {
   "cell_type": "code",
   "execution_count": 2,
   "metadata": {},
   "outputs": [
    {
     "name": "stdout",
     "output_type": "stream",
     "text": [
      "count o 7843 x 1758 draw 399\n",
      " o 5234 x 4397 draw 369\n",
      "ratio o 78.4% x 17.6% draw 4.0%\n",
      " o 52.3% x 44.0% draw 3.7%\n"
     ]
    }
   ],
   "source": [
    "from ai import ai1, ai2\n",
    "\n",
    "ai_match(ai=[ai1, ai2])"
   ]
  },
  {
   "cell_type": "code",
   "execution_count": 3,
   "metadata": {},
   "outputs": [],
   "source": [
    "def ai_match(ai, match_num=10000):\n",
    "    mb = Marubatsu()\n",
    "\n",
    "    # ai[0] VS ai[1] と ai[1] VS a[0] の対戦を match_num 回行い、通算成績を数える\n",
    "    count_list = [ defaultdict(int), defaultdict(int)]\n",
    "    for _ in range(match_num):\n",
    "        count_list[0][mb.play(ai, verbose=False)] += 1\n",
    "        count_list[1][mb.play(ai=[ai[1], ai[0]], verbose=False)] += 1\n",
    "\n",
    "    # それぞれの比率を計算し、ratio_list に代入する\n",
    "    ratio_list = [ {}, {} ]\n",
    "    for i in range(2):\n",
    "        for key in count_list[i]:\n",
    "            ratio_list[i][key] = count_list[i][key] / match_num\n",
    "\n",
    "    # 〇の勝利、×の勝利、引き分けの順番で表示することを表す list \n",
    "    order_list = [Marubatsu.CIRCLE, Marubatsu.CROSS, Marubatsu.DRAW]\n",
    "\n",
    "    # 通算成績の回数と比率の表示\n",
    "    diff_list = [ (\"count\", count_list, \"d\"), (\"ratio\", ratio_list, \".1%\") ]\n",
    "    for title, data, format in diff_list:\n",
    "        print(title)\n",
    "        for i in range(2):\n",
    "            for key in order_list:\n",
    "                print(f\" {key} {data[i][key]:{format}}\", end=\"\")\n",
    "            print()"
   ]
  },
  {
   "cell_type": "code",
   "execution_count": 4,
   "metadata": {},
   "outputs": [
    {
     "name": "stdout",
     "output_type": "stream",
     "text": [
      "count\n",
      " o 7791 x 1800 draw 409\n",
      " o 5198 x 4402 draw 400\n",
      "ratio\n",
      " o 77.9% x 18.0% draw 4.1%\n",
      " o 52.0% x 44.0% draw 4.0%\n"
     ]
    }
   ],
   "source": [
    "ai_match(ai=[ai1, ai2])"
   ]
  },
  {
   "cell_type": "code",
   "execution_count": 5,
   "metadata": {},
   "outputs": [
    {
     "name": "stdout",
     "output_type": "stream",
     "text": [
      "count\n",
      " o 248 x 41 draw 11\n",
      " o 152 x 137 draw 11\n",
      "ratio\n",
      " o 82.7% x 13.7% draw 3.7%\n",
      " o 50.7% x 45.7% draw 3.7%\n"
     ]
    }
   ],
   "source": [
    "ai_match(ai=[ai1, ai2], match_num=300)"
   ]
  },
  {
   "cell_type": "code",
   "execution_count": 6,
   "metadata": {},
   "outputs": [],
   "source": [
    "def ai_match(ai, match_num=10000):\n",
    "    mb = Marubatsu()\n",
    "\n",
    "    # ai[0] VS ai[1] と ai[1] VS a[0] の対戦を match_num 回行い、通算成績を数える\n",
    "    count_list = [ defaultdict(int), defaultdict(int)]\n",
    "    for _ in range(match_num):\n",
    "        count_list[0][mb.play(ai, verbose=False)] += 1\n",
    "        count_list[1][mb.play(ai=[ai[1], ai[0]], verbose=False)] += 1\n",
    "\n",
    "    # それぞれの比率を計算し、ratio_list に代入する\n",
    "    ratio_list = [ {}, {} ]\n",
    "    for i in range(2):\n",
    "        for key in count_list[i]:\n",
    "            ratio_list[i][key] = count_list[i][key] / match_num\n",
    "\n",
    "    # 〇の勝利、×の勝利、引き分けの順番で表示することを表す list \n",
    "    order_list = [Marubatsu.CIRCLE, Marubatsu.CROSS, Marubatsu.DRAW]\n",
    "\n",
    "    # 通算成績の回数と比率の表示\n",
    "    diff_list = [ (\"count\", count_list, \"7d\"), (\"ratio\", ratio_list, \".1%\") ]\n",
    "    for title, data, format in diff_list:\n",
    "        print(title)\n",
    "        for i in range(2):\n",
    "            for key in order_list:\n",
    "                print(f\" {key} {data[i][key]:{format}}\", end=\"\")\n",
    "            print()"
   ]
  },
  {
   "cell_type": "code",
   "execution_count": 7,
   "metadata": {},
   "outputs": [
    {
     "name": "stdout",
     "output_type": "stream",
     "text": [
      "count\n",
      " o     232 x      51 draw      17\n",
      " o     154 x     139 draw       7\n",
      "ratio\n",
      " o 77.3% x 17.0% draw 5.7%\n",
      " o 51.3% x 46.3% draw 2.3%\n"
     ]
    }
   ],
   "source": [
    "ai_match(ai=[ai1, ai2], match_num=300)"
   ]
  },
  {
   "cell_type": "code",
   "execution_count": 8,
   "metadata": {},
   "outputs": [],
   "source": [
    "def ai_match(ai, match_num=10000):\n",
    "    mb = Marubatsu()\n",
    "\n",
    "    # ai[0] VS ai[1] と ai[1] VS a[0] の対戦を match_num 回行い、通算成績を数える\n",
    "    count_list = [ defaultdict(int), defaultdict(int)]\n",
    "    for _ in range(match_num):\n",
    "        count_list[0][mb.play(ai, verbose=False)] += 1\n",
    "        count_list[1][mb.play(ai=[ai[1], ai[0]], verbose=False)] += 1\n",
    "\n",
    "    # それぞれの比率を計算し、ratio_list に代入する\n",
    "    ratio_list = [ {}, {} ]\n",
    "    for i in range(2):\n",
    "        for key in count_list[i]:\n",
    "            ratio_list[i][key] = count_list[i][key] / match_num\n",
    "\n",
    "    # 〇の勝利、×の勝利、引き分けの順番で表示することを表す list \n",
    "    order_list = [Marubatsu.CIRCLE, Marubatsu.CROSS, Marubatsu.DRAW]\n",
    "\n",
    "    # 通算成績の回数と比率の表示\n",
    "    width = len(str(match_num))\n",
    "    diff_list = [ (\"count\", count_list, f\"{width}d\"), (\"ratio\", ratio_list, \".1%\") ]\n",
    "    for title, data, format in diff_list:\n",
    "        print(title)\n",
    "        for i in range(2):\n",
    "            for key in order_list:\n",
    "                print(f\" {key} {data[i][key]:{format}}\", end=\"\")\n",
    "            print()"
   ]
  },
  {
   "cell_type": "code",
   "execution_count": 9,
   "metadata": {},
   "outputs": [
    {
     "name": "stdout",
     "output_type": "stream",
     "text": [
      "count\n",
      " o 239 x  48 draw  13\n",
      " o 147 x 142 draw  11\n",
      "ratio\n",
      " o 79.7% x 16.0% draw 4.3%\n",
      " o 49.0% x 47.3% draw 3.7%\n"
     ]
    }
   ],
   "source": [
    "ai_match(ai=[ai1, ai2], match_num=300)"
   ]
  },
  {
   "cell_type": "code",
   "execution_count": 10,
   "metadata": {},
   "outputs": [],
   "source": [
    "def ai_match(ai, match_num=10000):\n",
    "    mb = Marubatsu()\n",
    "\n",
    "    # ai[0] VS ai[1] と ai[1] VS a[0] の対戦を match_num 回行い、通算成績を数える\n",
    "    count_list = [ defaultdict(int), defaultdict(int)]\n",
    "    for _ in range(match_num):\n",
    "        count_list[0][mb.play(ai, verbose=False)] += 1\n",
    "        count_list[1][mb.play(ai=[ai[1], ai[0]], verbose=False)] += 1\n",
    "\n",
    "    # それぞれの比率を計算し、ratio_list に代入する\n",
    "    ratio_list = [ {}, {} ]\n",
    "    for i in range(2):\n",
    "        for key in count_list[i]:\n",
    "            ratio_list[i][key] = count_list[i][key] / match_num\n",
    "\n",
    "    # 〇の勝利、×の勝利、引き分けの順番で表示することを表す list \n",
    "    order_list = [Marubatsu.CIRCLE, Marubatsu.CROSS, Marubatsu.DRAW]\n",
    "\n",
    "    # 通算成績の回数と比率の表示\n",
    "    width = len(str(match_num))\n",
    "    diff_list = [ (\"count\", count_list, f\"{width}d\"), (\"ratio\", ratio_list, \"6.1%\") ]\n",
    "    for title, data, format in diff_list:\n",
    "        print(title)\n",
    "        for i in range(2):\n",
    "            for key in order_list:\n",
    "                print(f\" {key} {data[i][key]:{format}}\", end=\"\")\n",
    "            print()"
   ]
  },
  {
   "cell_type": "code",
   "execution_count": 11,
   "metadata": {},
   "outputs": [
    {
     "name": "stdout",
     "output_type": "stream",
     "text": [
      "count\n",
      " o 241 x  44 draw  15\n",
      " o 144 x 146 draw  10\n",
      "ratio\n",
      " o  80.3% x  14.7% draw   5.0%\n",
      " o  48.0% x  48.7% draw   3.3%\n"
     ]
    }
   ],
   "source": [
    "ai_match(ai=[ai1, ai2], match_num=300)"
   ]
  },
  {
   "cell_type": "code",
   "execution_count": 12,
   "metadata": {},
   "outputs": [],
   "source": [
    "def ai_match(ai, match_num=10000):\n",
    "    mb = Marubatsu()\n",
    "\n",
    "    # ai[0] VS ai[1] と ai[1] VS a[0] の対戦を match_num 回行い、通算成績を数える\n",
    "    count_list = [ defaultdict(int), defaultdict(int)]\n",
    "    for _ in range(match_num):\n",
    "        count_list[0][mb.play(ai, verbose=False)] += 1\n",
    "        count_list[1][mb.play(ai=[ai[1], ai[0]], verbose=False)] += 1\n",
    "\n",
    "    # それぞれの比率を計算し、ratio_list に代入する\n",
    "    ratio_list = [ {}, {} ]\n",
    "    for i in range(2):\n",
    "        for key in count_list[i]:\n",
    "            ratio_list[i][key] = count_list[i][key] / match_num\n",
    "\n",
    "    # 〇の勝利、×の勝利、引き分けの順番で表示することを表す list \n",
    "    order_list = [Marubatsu.CIRCLE, Marubatsu.CROSS, Marubatsu.DRAW]\n",
    "\n",
    "    # 通算成績の回数と比率の表示\n",
    "    width = max(len(str(match_num)), 6)\n",
    "    diff_list = [ (\"count\", count_list, f\"{width}d\"),\n",
    "                  (\"ratio\", ratio_list, f\"{width}.1%\") ]\n",
    "    for title, data, format in diff_list:\n",
    "        print(title)\n",
    "        for i in range(2):\n",
    "            for key in order_list:\n",
    "                print(f\" {key} {data[i][key]:{format}}\", end=\"\")\n",
    "            print()"
   ]
  },
  {
   "cell_type": "code",
   "execution_count": 13,
   "metadata": {},
   "outputs": [
    {
     "name": "stdout",
     "output_type": "stream",
     "text": [
      "3\n"
     ]
    }
   ],
   "source": [
    "print(max([1, 2, 3]))"
   ]
  },
  {
   "cell_type": "code",
   "execution_count": 14,
   "metadata": {},
   "outputs": [
    {
     "name": "stdout",
     "output_type": "stream",
     "text": [
      "count\n",
      " o    236 x     45 draw     19\n",
      " o    154 x    136 draw     10\n",
      "ratio\n",
      " o  78.7% x  15.0% draw   6.3%\n",
      " o  51.3% x  45.3% draw   3.3%\n"
     ]
    }
   ],
   "source": [
    "ai_match(ai=[ai1, ai2], match_num=300)"
   ]
  },
  {
   "cell_type": "code",
   "execution_count": 15,
   "metadata": {},
   "outputs": [],
   "source": [
    "def ai_match(ai, match_num=10000):\n",
    "    print(f\"{ai[0].__name__} VS {ai[1].__name__}\")\n",
    "\n",
    "    mb = Marubatsu()\n",
    "\n",
    "    # ai[0] VS ai[1] と ai[1] VS a[0] の対戦を match_num 回行い、通算成績を数える\n",
    "    count_list = [ defaultdict(int), defaultdict(int)]\n",
    "    for _ in range(match_num):\n",
    "        count_list[0][mb.play(ai, verbose=False)] += 1\n",
    "        count_list[1][mb.play(ai=[ai[1], ai[0]], verbose=False)] += 1\n",
    "\n",
    "    # それぞれの比率を計算し、ratio_list に代入する\n",
    "    ratio_list = [ {}, {} ]\n",
    "    for i in range(2):\n",
    "        for key in count_list[i]:\n",
    "            ratio_list[i][key] = count_list[i][key] / match_num\n",
    "\n",
    "    # 〇の勝利、×の勝利、引き分けの順番で表示することを表す list \n",
    "    order_list = [Marubatsu.CIRCLE, Marubatsu.CROSS, Marubatsu.DRAW]\n",
    "\n",
    "    # 通算成績の回数と比率の表示\n",
    "    width = max(len(str(match_num)), 7)\n",
    "    diff_list = [ (\"count\", count_list, f\"{width}d\"),\n",
    "                  (\"ratio\", ratio_list, f\"{width}.1%\") ]\n",
    "    for title, data, format in diff_list:\n",
    "        print(title)\n",
    "        for i in range(2):\n",
    "            for key in order_list:\n",
    "                print(f\" {key} {data[i][key]:{format}}\", end=\"\")\n",
    "            print()\n",
    "        print()"
   ]
  },
  {
   "cell_type": "code",
   "execution_count": 16,
   "metadata": {},
   "outputs": [
    {
     "name": "stdout",
     "output_type": "stream",
     "text": [
      "ai1 VS ai2\n",
      "count\n",
      " o     241 x      49 draw      10\n",
      " o     141 x     150 draw       9\n",
      "\n",
      "ratio\n",
      " o   80.3% x   16.3% draw    3.3%\n",
      " o   47.0% x   50.0% draw    3.0%\n",
      "\n"
     ]
    }
   ],
   "source": [
    "ai_match(ai=[ai1, ai2], match_num=300)"
   ]
  }
 ],
 "metadata": {
  "kernelspec": {
   "display_name": "marubatsu",
   "language": "python",
   "name": "python3"
  },
  "language_info": {
   "codemirror_mode": {
    "name": "ipython",
    "version": 3
   },
   "file_extension": ".py",
   "mimetype": "text/x-python",
   "name": "python",
   "nbconvert_exporter": "python",
   "pygments_lexer": "ipython3",
   "version": "3.10.13"
  }
 },
 "nbformat": 4,
 "nbformat_minor": 2
}
