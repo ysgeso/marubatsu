{
 "cells": [
  {
   "cell_type": "code",
   "execution_count": 1,
   "metadata": {},
   "outputs": [
    {
     "name": "stdout",
     "output_type": "stream",
     "text": [
      "ミニマックス法で計算したか False\n",
      "計算したノードの数 999\n",
      "枝狩りしたノードの数 548947\n",
      "合計 549946\n",
      "割合 0.2%\n"
     ]
    }
   ],
   "source": [
    "from tree import Mbtree\n",
    "\n",
    "mbtree = Mbtree.load(\"../data/abtree_root\")\n",
    "mbtree.calc_score_by_ab(mbtree.root, use_tt=True, debug=True)"
   ]
  },
  {
   "cell_type": "code",
   "execution_count": 2,
   "metadata": {},
   "outputs": [],
   "source": [
    "from ai import dprint, ai_by_score\n",
    "from marubatsu import Marubatsu\n",
    "from copy import deepcopy\n",
    "\n",
    "@ai_by_score\n",
    "def ai_abs_tt(mb, debug=False, shortest_victory=False):            \n",
    "    count = 0\n",
    "    def ab_search(mborig, tt, alpha=float(\"-inf\"), beta=float(\"inf\")):\n",
    "        nonlocal count\n",
    "        count += 1\n",
    "        if mborig.status == Marubatsu.CIRCLE:\n",
    "            return (11 - mborig.move_count) / 2 if shortest_victory else 1\n",
    "        elif mborig.status == Marubatsu.CROSS:\n",
    "            return (mborig.move_count - 10) / 2 if shortest_victory else -1\n",
    "        elif mborig.status == Marubatsu.DRAW:\n",
    "            return 0\n",
    "        \n",
    "        boardtxt = mborig.board_to_str()\n",
    "        if boardtxt in tt:\n",
    "            return tt[boardtxt]\n",
    "\n",
    "        legal_moves = mborig.calc_legal_moves()\n",
    "        if mborig.turn == Marubatsu.CIRCLE:\n",
    "            for x, y in legal_moves:\n",
    "                mb = deepcopy(mborig)\n",
    "                mb.move(x, y)\n",
    "                score = ab_search(mb, tt, alpha, beta)\n",
    "                if score >= beta:\n",
    "                    alpha = score\n",
    "                    break\n",
    "                alpha = max(alpha, score)\n",
    "            score = alpha\n",
    "        else:\n",
    "            for x, y in legal_moves:\n",
    "                mb = deepcopy(mborig)\n",
    "                mb.move(x, y)\n",
    "                score = ab_search(mb, tt, alpha, beta)\n",
    "                if score <= alpha:\n",
    "                    beta = score\n",
    "                    break\n",
    "                beta = min(beta, score)   \n",
    "            score = beta\n",
    "            \n",
    "        from util import calc_same_boardtexts\n",
    "\n",
    "        boardtxtlist = calc_same_boardtexts(mborig)\n",
    "        for boardtxt in boardtxtlist:\n",
    "            tt[boardtxt] = score\n",
    "        return score\n",
    "                \n",
    "    score = ab_search(mb, {})\n",
    "    dprint(debug, \"count =\", count)\n",
    "    if mb.turn == Marubatsu.CIRCLE:\n",
    "        score *= -1\n",
    "    return score"
   ]
  },
  {
   "cell_type": "code",
   "execution_count": 3,
   "metadata": {},
   "outputs": [
    {
     "name": "stderr",
     "output_type": "stream",
     "text": [
      "100%|██████████| 431/431 [00:03<00:00, 132.59it/s]"
     ]
    },
    {
     "name": "stdout",
     "output_type": "stream",
     "text": [
      "413/431 95.82%\n",
      "False\n"
     ]
    },
    {
     "name": "stderr",
     "output_type": "stream",
     "text": [
      "\n"
     ]
    }
   ],
   "source": [
    "from util import Check_solved\n",
    "\n",
    "result, incorrectlist = Check_solved.is_strongly_solved(ai_abs_tt)\n",
    "print(result)"
   ]
  },
  {
   "cell_type": "code",
   "execution_count": 4,
   "metadata": {},
   "outputs": [
    {
     "name": "stdout",
     "output_type": "stream",
     "text": [
      "Turn x\n",
      "O..\n",
      "...\n",
      "...\n",
      "\n",
      "candidate {(0, 1), (1, 2), (2, 1), (1, 1), (2, 0), (0, 2), (2, 2), (1, 0)}\n",
      "bestmoves {(1, 1)}\n",
      "Turn x\n",
      "oxO\n",
      "...\n",
      "...\n",
      "\n",
      "candidate {(0, 1), (1, 2), (2, 1), (1, 1), (0, 2), (2, 2)}\n",
      "bestmoves {(1, 1)}\n",
      "Turn o\n",
      "ox.\n",
      "o.X\n",
      "...\n",
      "\n",
      "candidate {(2, 2), (1, 1), (2, 0), (0, 2)}\n",
      "bestmoves {(1, 1), (2, 2), (0, 2)}\n",
      "Turn o\n",
      "ox.\n",
      ".o.\n",
      "..X\n",
      "\n",
      "candidate {(0, 1), (0, 2), (2, 1)}\n",
      "bestmoves {(0, 1), (0, 2)}\n",
      "Turn o\n",
      "ox.\n",
      "..o\n",
      "..X\n",
      "\n",
      "candidate {(0, 1), (1, 1), (0, 2)}\n",
      "bestmoves {(0, 1)}\n",
      "Turn o\n",
      "ox.\n",
      "...\n",
      "o.X\n",
      "\n",
      "candidate {(0, 1), (1, 2), (2, 1), (1, 1), (2, 0)}\n",
      "bestmoves {(0, 1), (1, 1), (2, 0)}\n",
      "Turn x\n",
      "o.x\n",
      ".O.\n",
      "...\n",
      "\n",
      "candidate {(0, 1), (1, 2), (2, 1), (0, 2), (2, 2), (1, 0)}\n",
      "bestmoves {(2, 2)}\n",
      "Turn o\n",
      "o.x\n",
      "..o\n",
      "..X\n",
      "\n",
      "candidate {(0, 1), (1, 1), (0, 2)}\n",
      "bestmoves {(0, 1)}\n",
      "Turn o\n",
      "o.x\n",
      "...\n",
      "o.X\n",
      "\n",
      "candidate {(0, 1), (2, 1)}\n",
      "bestmoves {(0, 1)}\n",
      "Turn x\n",
      "o.O\n",
      ".x.\n",
      "...\n",
      "\n",
      "candidate {(0, 1), (1, 2), (2, 1), (0, 2), (2, 2), (1, 0)}\n",
      "bestmoves {(1, 0)}\n",
      "Turn o\n",
      "o..\n",
      "..X\n",
      "...\n",
      "\n",
      "candidate {(0, 1), (1, 1), (2, 0), (0, 2)}\n",
      "bestmoves {(1, 1), (2, 0), (0, 2)}\n",
      "Turn o\n",
      "o..\n",
      "...\n",
      "..X\n",
      "\n",
      "candidate {(1, 1), (2, 0), (0, 2)}\n",
      "bestmoves {(0, 2), (2, 0)}\n",
      "Turn x\n",
      "o..\n",
      ".O.\n",
      "..x\n",
      "\n",
      "candidate {(0, 1), (1, 2), (2, 1), (2, 0), (0, 2), (1, 0)}\n",
      "bestmoves {(0, 2), (2, 0)}\n",
      "Turn x\n",
      "xo.\n",
      ".O.\n",
      "...\n",
      "\n",
      "candidate {(0, 1), (1, 2), (2, 1), (2, 0), (0, 2), (2, 2)}\n",
      "bestmoves {(1, 2)}\n",
      "Turn o\n",
      ".o.\n",
      "xo.\n",
      ".X.\n",
      "\n",
      "candidate {(0, 2), (2, 0), (0, 0)}\n",
      "bestmoves {(2, 0), (0, 0)}\n",
      "Turn o\n",
      ".o.\n",
      "x.o\n",
      ".X.\n",
      "\n",
      "candidate {(0, 2), (2, 0), (2, 2)}\n",
      "bestmoves {(2, 0)}\n",
      "Turn x\n",
      ".o.\n",
      ".O.\n",
      "x..\n",
      "\n",
      "candidate {(0, 1), (1, 2), (2, 1), (0, 0), (2, 0), (2, 2)}\n",
      "bestmoves {(1, 2)}\n",
      "Turn x\n",
      "...\n",
      ".O.\n",
      "...\n",
      "\n",
      "candidate {(0, 1), (1, 2), (2, 1), (0, 0), (2, 0), (0, 2), (2, 2), (1, 0)}\n",
      "bestmoves {(2, 2), (0, 2), (2, 0), (0, 0)}\n"
     ]
    }
   ],
   "source": [
    "for mb, candidate, bestmoves in incorrectlist:\n",
    "    print(mb)\n",
    "    print(\"candidate\", candidate)\n",
    "    print(\"bestmoves\", bestmoves)"
   ]
  },
  {
   "cell_type": "code",
   "execution_count": 5,
   "metadata": {},
   "outputs": [
    {
     "name": "stdout",
     "output_type": "stream",
     "text": [
      "Turn o\n",
      "ox.\n",
      "o.X\n",
      "...\n",
      "\n"
     ]
    }
   ],
   "source": [
    "node = mbtree.root.children_by_move[(0, 0)].children_by_move[(1, 0)].children_by_move[(0, 1)].children_by_move[(2, 1)]\n",
    "print(node.mb)"
   ]
  },
  {
   "cell_type": "code",
   "execution_count": 6,
   "metadata": {},
   "outputs": [
    {
     "data": {
      "text/plain": [
       "{'candidate': [(2, 0), (1, 1), (0, 2), (2, 2)],\n",
       " 'score_by_move': {(2, 0): 1, (1, 1): 1, (0, 2): 1, (1, 2): 0, (2, 2): 1}}"
      ]
     },
     "execution_count": 6,
     "metadata": {},
     "output_type": "execute_result"
    }
   ],
   "source": [
    "ai_abs_tt(node.mb, analyze=True)"
   ]
  },
  {
   "cell_type": "code",
   "execution_count": 7,
   "metadata": {},
   "outputs": [
    {
     "data": {
      "application/vnd.jupyter.widget-view+json": {
       "model_id": "f12bddaee13b4715b2a6f7a5645da836",
       "version_major": 2,
       "version_minor": 0
      },
      "text/plain": [
       "VBox(children=(HBox(children=(Play(value=0, interval=500, max=202), Button(description='<', layout=Layout(widt…"
      ]
     },
     "metadata": {},
     "output_type": "display_data"
    },
    {
     "data": {
      "text/plain": [
       "<tree.Mbtree_Anim at 0x1aae8cf2910>"
      ]
     },
     "execution_count": 7,
     "metadata": {},
     "output_type": "execute_result"
    }
   ],
   "source": [
    "from tree import Mbtree_Anim\n",
    "\n",
    "mbtree.calc_score_by_ab(node, use_tt=True)\n",
    "Mbtree_Anim(mbtree, isscore=True)"
   ]
  },
  {
   "cell_type": "code",
   "execution_count": 8,
   "metadata": {},
   "outputs": [],
   "source": [
    "@ai_by_score\n",
    "def ai_abs_tt(mb, debug=False, shortest_victory=False):            \n",
    "    count = 0\n",
    "    def ab_search(mborig, tt, alpha=float(\"-inf\"), beta=float(\"inf\")):\n",
    "        nonlocal count\n",
    "        count += 1\n",
    "        if mborig.status == Marubatsu.CIRCLE:\n",
    "            return (11 - mborig.move_count) / 2 if shortest_victory else 1\n",
    "        elif mborig.status == Marubatsu.CROSS:\n",
    "            return (mborig.move_count - 10) / 2 if shortest_victory else -1\n",
    "        elif mborig.status == Marubatsu.DRAW:\n",
    "            return 0\n",
    "        \n",
    "        boardtxt = mborig.board_to_str()\n",
    "        key = (boardtxt, alpha, beta)\n",
    "        if key in tt:\n",
    "            return tt[key]\n",
    "\n",
    "        legal_moves = mborig.calc_legal_moves()\n",
    "        if mborig.turn == Marubatsu.CIRCLE:\n",
    "            for x, y in legal_moves:\n",
    "                mb = deepcopy(mborig)\n",
    "                mb.move(x, y)\n",
    "                score = ab_search(mb, tt, alpha, beta)\n",
    "                if score >= beta:\n",
    "                    alpha = score\n",
    "                    break\n",
    "                alpha = max(alpha, score)\n",
    "            score = alpha\n",
    "        else:\n",
    "            for x, y in legal_moves:\n",
    "                mb = deepcopy(mborig)\n",
    "                mb.move(x, y)\n",
    "                score = ab_search(mb, tt, alpha, beta)\n",
    "                if score <= alpha:\n",
    "                    beta = score\n",
    "                    break\n",
    "                beta = min(beta, score)   \n",
    "            score = beta\n",
    "            \n",
    "        from util import calc_same_boardtexts\n",
    "\n",
    "        boardtxtlist = calc_same_boardtexts(mborig)\n",
    "        _, alpha, beta = key\n",
    "        for boardtxt in boardtxtlist:\n",
    "            tt[(boardtxt, alpha, beta)] = score\n",
    "        return score\n",
    "                \n",
    "    score = ab_search(mb, {})\n",
    "    dprint(debug, \"count =\", count)\n",
    "    if mb.turn == Marubatsu.CIRCLE:\n",
    "        score *= -1\n",
    "    return score"
   ]
  },
  {
   "cell_type": "code",
   "execution_count": 9,
   "metadata": {},
   "outputs": [
    {
     "name": "stderr",
     "output_type": "stream",
     "text": [
      "100%|██████████| 431/431 [00:03<00:00, 121.32it/s]"
     ]
    },
    {
     "name": "stdout",
     "output_type": "stream",
     "text": [
      "431/431 100.00%\n",
      "True\n"
     ]
    },
    {
     "name": "stderr",
     "output_type": "stream",
     "text": [
      "\n"
     ]
    }
   ],
   "source": [
    "result, incorrectlist = Check_solved.is_strongly_solved(ai_abs_tt)\n",
    "print(result)"
   ]
  },
  {
   "cell_type": "code",
   "execution_count": 10,
   "metadata": {},
   "outputs": [
    {
     "name": "stderr",
     "output_type": "stream",
     "text": [
      "100%|██████████| 431/431 [00:04<00:00, 99.99it/s] "
     ]
    },
    {
     "name": "stdout",
     "output_type": "stream",
     "text": [
      "431/431 100.00%\n",
      "True\n"
     ]
    },
    {
     "name": "stderr",
     "output_type": "stream",
     "text": [
      "\n"
     ]
    }
   ],
   "source": [
    "result, incorrectlist = Check_solved.is_strongly_solved(ai_abs_tt, \n",
    "                                                        params={\"shortest_victory\": True})\n",
    "print(result)"
   ]
  },
  {
   "cell_type": "code",
   "execution_count": 11,
   "metadata": {},
   "outputs": [],
   "source": [
    "def calc_score_by_ab(self, abroot, debug=False, minimax=False, init_ab=False, use_tt=False):\n",
    "    def assign_pruned_index(node, index):\n",
    "        node.pruned_index = index\n",
    "        self.num_pruned += 1\n",
    "        for childnode in node.children:\n",
    "            assign_pruned_index(childnode, index)\n",
    "        \n",
    "    def calc_ab_score(node, tt, alpha=float(\"-inf\"), beta=float(\"inf\")):\n",
    "        if minimax:\n",
    "            alpha = float(\"-inf\")\n",
    "            beta = float(\"inf\")\n",
    "        if use_tt:\n",
    "            boardtxt = node.mb.board_to_str()\n",
    "            key = (boardtxt, alpha, beta)\n",
    "            if key in tt:\n",
    "                node.score = tt[key]\n",
    "                if node.mb.turn == Marubatsu.CIRCLE:\n",
    "                    alpha = node.score\n",
    "                else:\n",
    "                    beta = node.score\n",
    "                self.nodelist_by_score.append(node)\n",
    "                self.num_calculated += 1     \n",
    "                for childnode in node.children:\n",
    "                    assign_pruned_index(childnode, len(self.nodelist_by_score) - 1)\n",
    "                self.ablist_by_score.append((alpha, beta, None, \"tt\",\n",
    "                                             self.num_calculated, self.num_pruned))\n",
    "                node.score_index = len(self.nodelist_by_score) - 1  \n",
    "                return node.score\n",
    "                \n",
    "        self.nodelist_by_score.append(node)\n",
    "        self.ablist_by_score.append((alpha, beta, None, \"start\",\n",
    "                                    self.num_calculated, self.num_pruned))\n",
    "        if node.mb.status != Marubatsu.PLAYING:\n",
    "            self.calc_score_of_node(node)\n",
    "            if node.mb.turn == Marubatsu.CIRCLE:\n",
    "                alpha = node.score\n",
    "            else:\n",
    "                beta = node.score\n",
    "        else:\n",
    "            if node.mb.turn == Marubatsu.CIRCLE:\n",
    "                for childnode in node.children:\n",
    "                    score = calc_ab_score(childnode, tt, alpha, beta)\n",
    "                    self.nodelist_by_score.append(node)\n",
    "                    self.ablist_by_score.append((alpha, beta, score, \"score\",\n",
    "                                                self.num_calculated, self.num_pruned))\n",
    "                    if score > alpha:\n",
    "                        alpha = score\n",
    "                    self.nodelist_by_score.append(node)\n",
    "                    if score >= beta:\n",
    "                        index = node.children.index(childnode)\n",
    "                        for prunednode in node.children[index + 1:]:\n",
    "                            assign_pruned_index(prunednode, len(self.nodelist_by_score) - 1)\n",
    "                    self.ablist_by_score.append((alpha, beta, None, \"update\",\n",
    "                                                self.num_calculated, self.num_pruned))\n",
    "                    if score >= beta:\n",
    "                        break\n",
    "                node.score = alpha\n",
    "            else:\n",
    "                for childnode in node.children:\n",
    "                    score = calc_ab_score(childnode, tt, alpha, beta)\n",
    "                    self.nodelist_by_score.append(node)\n",
    "                    self.ablist_by_score.append((alpha, beta, score, \"score\",\n",
    "                                                self.num_calculated, self.num_pruned))\n",
    "                    if score < beta:\n",
    "                        beta = score\n",
    "                    self.nodelist_by_score.append(node)\n",
    "                    if score <= alpha:\n",
    "                        index = node.children.index(childnode)\n",
    "                        for prunednode in node.children[index + 1:]:\n",
    "                            assign_pruned_index(prunednode, len(self.nodelist_by_score) - 1)\n",
    "                    self.ablist_by_score.append((alpha, beta, None, \"update\",\n",
    "                                                self.num_calculated, self.num_pruned))\n",
    "                    if score <= alpha:\n",
    "                        break\n",
    "                node.score = beta\n",
    "\n",
    "        self.nodelist_by_score.append(node)\n",
    "        self.num_calculated += 1     \n",
    "        self.ablist_by_score.append((alpha, beta, None, \"end\",\n",
    "                                    self.num_calculated, self.num_pruned))\n",
    "        node.score_index = len(self.nodelist_by_score) - 1  \n",
    "        if use_tt:\n",
    "            from util import calc_same_boardtexts   \n",
    "            \n",
    "            boardtxtlist = calc_same_boardtexts(node.mb)\n",
    "            _, alpha, beta = key\n",
    "            for boardtxt in boardtxtlist:\n",
    "                tt[(boardtxt, alpha, beta)] = node.score            \n",
    "        return node.score\n",
    "\n",
    "    from ai import dprint       \n",
    "    for node in self.nodelist:\n",
    "        node.score_index = float(\"inf\")\n",
    "        node.pruned_index = float(\"inf\")\n",
    "    self.nodelist_by_score = []\n",
    "    self.ablist_by_score = []\n",
    "    self.num_calculated = 0\n",
    "    self.num_pruned = 0\n",
    "    if init_ab:\n",
    "        alpha = -2 if self.shortest_victory else -1\n",
    "        beta = 3 if self.shortest_victory else 1\n",
    "    else:\n",
    "        alpha = float(\"-inf\")\n",
    "        beta = float(\"inf\")\n",
    "    calc_ab_score(abroot, {}, alpha, beta)\n",
    "    total_nodenum = self.num_pruned + self.num_calculated\n",
    "    ratio = self.num_calculated / total_nodenum * 100\n",
    "    dprint(debug, \"ミニマックス法で計算したか\", minimax)    \n",
    "    dprint(debug, \"計算したノードの数\",  self.num_calculated)\n",
    "    dprint(debug, \"枝狩りしたノードの数\",  self.num_pruned)\n",
    "    dprint(debug, \"合計\",  total_nodenum)\n",
    "    dprint(debug, f\"割合 {ratio:.1f}%\")\n",
    "    \n",
    "Mbtree.calc_score_by_ab = calc_score_by_ab"
   ]
  },
  {
   "cell_type": "code",
   "execution_count": 12,
   "metadata": {},
   "outputs": [
    {
     "data": {
      "application/vnd.jupyter.widget-view+json": {
       "model_id": "0a6c741537fa4ac19374f80997d7f4af",
       "version_major": 2,
       "version_minor": 0
      },
      "text/plain": [
       "VBox(children=(HBox(children=(Play(value=0, interval=500, max=284), Button(description='<', layout=Layout(widt…"
      ]
     },
     "metadata": {},
     "output_type": "display_data"
    },
    {
     "data": {
      "text/plain": [
       "<tree.Mbtree_Anim at 0x1aa954d4450>"
      ]
     },
     "execution_count": 12,
     "metadata": {},
     "output_type": "execute_result"
    }
   ],
   "source": [
    "mbtree.calc_score_by_ab(node, use_tt=True)\n",
    "Mbtree_Anim(mbtree, isscore=True)"
   ]
  },
  {
   "cell_type": "code",
   "execution_count": null,
   "metadata": {},
   "outputs": [
    {
     "name": "stdout",
     "output_type": "stream",
     "text": [
      "ミニマックス法で置換表を利用しない\n",
      "ミニマックス法で計算したか True\n",
      "計算したノードの数 549946\n",
      "枝狩りしたノードの数 0\n",
      "合計 549946\n",
      "割合 100.0%\n",
      "\n",
      "ミニマックス法で置換表を利用する\n",
      "ミニマックス法で計算したか True\n",
      "計算したノードの数 2271\n",
      "枝狩りしたノードの数 547675\n",
      "合計 549946\n",
      "割合 0.4%\n",
      "\n",
      "αβ 法で置換表を利用しない\n",
      "ミニマックス法で計算したか False\n",
      "計算したノードの数 18297\n",
      "枝狩りしたノードの数 531649\n",
      "合計 549946\n",
      "割合 3.3%\n",
      "\n",
      "αβ 法で置換表を利用する\n",
      "ミニマックス法で計算したか False\n",
      "計算したノードの数 1718\n",
      "枝狩りしたノードの数 548228\n",
      "合計 549946\n",
      "割合 0.3%\n"
     ]
    }
   ],
   "source": [
    "print(\"ミニマックス法で置換表を利用しない\")\n",
    "mbtree.calc_score_by_ab(mbtree.root, minimax=True, debug=True)\n",
    "print()\n",
    "print(\"ミニマックス法で置換表を利用する\")\n",
    "mbtree.calc_score_by_ab(mbtree.root, minimax=True, use_tt=True, debug=True)\n",
    "print()\n",
    "print(\"αβ 法で置換表を利用しない\")\n",
    "mbtree.calc_score_by_ab(mbtree.root, debug=True)\n",
    "print()\n",
    "print(\"αβ 法で置換表を利用する\")\n",
    "mbtree.calc_score_by_ab(mbtree.root, use_tt=True, debug=True)"
   ]
  },
  {
   "cell_type": "code",
   "execution_count": 14,
   "metadata": {},
   "outputs": [
    {
     "name": "stdout",
     "output_type": "stream",
     "text": [
      "ミニマックス法で置換表を利用しない\n",
      "ミニマックス法で計算したか True\n",
      "計算したノードの数 549946\n",
      "枝狩りしたノードの数 0\n",
      "合計 549946\n",
      "割合 100.0%\n",
      "\n",
      "ミニマックス法で置換表を利用する\n",
      "ミニマックス法で計算したか True\n",
      "計算したノードの数 2271\n",
      "枝狩りしたノードの数 547675\n",
      "合計 549946\n",
      "割合 0.4%\n",
      "\n",
      "αβ 法で置換表を利用しない\n",
      "ミニマックス法で計算したか False\n",
      "計算したノードの数 20866\n",
      "枝狩りしたノードの数 529080\n",
      "合計 549946\n",
      "割合 3.8%\n",
      "\n",
      "αβ 法で置換表を利用する\n",
      "ミニマックス法で計算したか False\n",
      "計算したノードの数 2583\n",
      "枝狩りしたノードの数 547363\n",
      "合計 549946\n",
      "割合 0.5%\n"
     ]
    }
   ],
   "source": [
    "mbtree_sv = Mbtree.load(\"../data/abtree_sv_root\")\n",
    "\n",
    "print(\"ミニマックス法で置換表を利用しない\")\n",
    "mbtree_sv.calc_score_by_ab(mbtree_sv.root, minimax=True, debug=True)\n",
    "print()\n",
    "print(\"ミニマックス法で置換表を利用する\")\n",
    "mbtree_sv.calc_score_by_ab(mbtree_sv.root, minimax=True, use_tt=True, debug=True)\n",
    "print()\n",
    "print(\"αβ 法で置換表を利用しない\")\n",
    "mbtree_sv.calc_score_by_ab(mbtree_sv.root, debug=True)\n",
    "print()\n",
    "print(\"αβ 法で置換表を利用する\")\n",
    "mbtree_sv.calc_score_by_ab(mbtree_sv.root, use_tt=True, debug=True)"
   ]
  }
 ],
 "metadata": {
  "kernelspec": {
   "display_name": "marubatsu",
   "language": "python",
   "name": "python3"
  },
  "language_info": {
   "codemirror_mode": {
    "name": "ipython",
    "version": 3
   },
   "file_extension": ".py",
   "mimetype": "text/x-python",
   "name": "python",
   "nbconvert_exporter": "python",
   "pygments_lexer": "ipython3",
   "version": "3.11.4"
  }
 },
 "nbformat": 4,
 "nbformat_minor": 2
}
