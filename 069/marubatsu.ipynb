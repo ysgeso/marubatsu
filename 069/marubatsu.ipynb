{
 "cells": [
  {
   "cell_type": "code",
   "execution_count": 1,
   "metadata": {},
   "outputs": [
    {
     "data": {
      "application/vnd.jupyter.widget-view+json": {
       "model_id": "38981e8878894f1cb1361e379f1fd0a5",
       "version_major": 2,
       "version_minor": 0
      },
      "image/png": "[encoded data removed]",
      "text/html": [
       "\n",
       "            <div style=\"display: inline-block;\">\n",
       "                <div class=\"jupyter-widgets widget-label\" style=\"text-align: center;\">\n",
       "                    Figure\n",
       "                </div>\n",
       "                <img src='data:image/png;base64,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' width=300.0/>\n",
       "            </div>\n",
       "        "
      ],
      "text/plain": [
       "Canvas(toolbar=Toolbar(toolitems=[('Home', 'Reset original view', 'home', 'home'), ('Back', 'Back to previous …"
      ]
     },
     "metadata": {},
     "output_type": "display_data"
    },
    {
     "name": "stdout",
     "output_type": "stream",
     "text": [
      "ゲームを終了します\n"
     ]
    }
   ],
   "source": [
    "%matplotlib widget\n",
    "from marubatsu import Marubatsu\n",
    "\n",
    "mb = Marubatsu()\n",
    "mb.play(ai=[None, None], gui=True)"
   ]
  },
  {
   "cell_type": "code",
   "execution_count": 2,
   "metadata": {},
   "outputs": [],
   "source": [
    "import matplotlib.pyplot as plt\n",
    "\n",
    "def play(self, ai, params=[{}, {}], verbose=True, seed=None, gui=False):\n",
    "        # seed が None でない場合は、seed を乱数の種として設定する\n",
    "        if seed is not None:\n",
    "            random.seed(seed)\n",
    "        \n",
    "        # 〇×ゲームを再起動する\n",
    "        self.restart()\n",
    "        # ゲームの決着がついていない間繰り返す\n",
    "        while self.status == Marubatsu.PLAYING:\n",
    "            # ゲーム盤の表示\n",
    "            if verbose:\n",
    "                if gui:\n",
    "                    self.draw_board()\n",
    "                    return\n",
    "                else:\n",
    "                    print(self)\n",
    "                    \n",
    "            # 現在の手番を表す ai のインデックスを計算する\n",
    "            index = 0 if self.turn == Marubatsu.CIRCLE else 1\n",
    "            # ai が着手を行うかどうかを判定する\n",
    "            if ai[index] is not None:\n",
    "                x, y = ai[index](self, **params[index])\n",
    "            else:\n",
    "                # キーボードからの座標の入力\n",
    "                coord = input(\"x,y の形式で座標を入力して下さい。exit を入力すると終了します\")\n",
    "                # \"exit\" が入力されていればメッセージを表示して関数を終了する\n",
    "                if coord == \"exit\":\n",
    "                    print(\"ゲームを終了します\")\n",
    "                    return       \n",
    "                # x 座標と y 座標を要素として持つ list を計算する\n",
    "                xylist = coord.split(\",\")\n",
    "                # xylist の要素の数が 2 ではない場合\n",
    "                if len(xylist) != 2:\n",
    "                    # エラーメッセージを表示する\n",
    "                    print(\"x, y の形式ではありません\")\n",
    "                    # 残りの while 文のブロックを実行せずに、次の繰り返し処理を行う\n",
    "                    continue\n",
    "                x, y = xylist\n",
    "            # (x, y) に着手を行う\n",
    "            try:\n",
    "                self.move(int(x), int(y))\n",
    "            except:\n",
    "                print(\"整数の座標を入力して下さい\")\n",
    "\n",
    "        # 決着がついたので、ゲーム盤を表示する\n",
    "        if verbose:\n",
    "            if gui:\n",
    "                self.draw_board()\n",
    "            else:\n",
    "                print(self)\n",
    "                \n",
    "        return self.status\n",
    "    \n",
    "Marubatsu.play = play"
   ]
  },
  {
   "cell_type": "code",
   "execution_count": 3,
   "metadata": {},
   "outputs": [
    {
     "data": {
      "application/vnd.jupyter.widget-view+json": {
       "model_id": "fb6551708af44009aeb56de2ec645c4f",
       "version_major": 2,
       "version_minor": 0
      },
      "image/png": "[encoded data removed]",
      "text/html": [
       "\n",
       "            <div style=\"display: inline-block;\">\n",
       "                <div class=\"jupyter-widgets widget-label\" style=\"text-align: center;\">\n",
       "                    Figure\n",
       "                </div>\n",
       "                <img src='data:image/png;base64,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' width=300.0/>\n",
       "            </div>\n",
       "        "
      ],
      "text/plain": [
       "Canvas(toolbar=Toolbar(toolitems=[('Home', 'Reset original view', 'home', 'home'), ('Back', 'Back to previous …"
      ]
     },
     "metadata": {},
     "output_type": "display_data"
    }
   ],
   "source": [
    "mb.play(ai=[None, None], gui=True)"
   ]
  },
  {
   "cell_type": "code",
   "execution_count": 4,
   "metadata": {},
   "outputs": [],
   "source": [
    "def on_mouse_down(event):\n",
    "    print(event.xdata, event.ydata)"
   ]
  },
  {
   "cell_type": "code",
   "execution_count": 5,
   "metadata": {},
   "outputs": [],
   "source": [
    "def draw_board(self, size=3):   \n",
    "    fig, ax = plt.subplots(figsize=[size, size])\n",
    "    fig.canvas.mpl_connect(\"button_press_event\", on_mouse_down)\n",
    "    fig.canvas.toolbar_visible = False\n",
    "    fig.canvas.header_visible = False\n",
    "    fig.canvas.resizable = False\n",
    "        \n",
    "    # y 軸を反転させる\n",
    "    ax.invert_yaxis()\n",
    "\n",
    "    # 枠と目盛りを表示しないようにする\n",
    "    ax.axis(\"off\")\n",
    "\n",
    "    # 上部のメッセージを描画する\n",
    "    # ゲームの決着がついていない場合は、手番を表示する\n",
    "    if self.status == Marubatsu.PLAYING:\n",
    "        text = \"Turn \" + self.turn\n",
    "    # 決着がついていれば勝者を表示する\n",
    "    else:\n",
    "        text = \"winner \" + self.status\n",
    "    ax.text(0, -0.2, text, fontsize=20)\n",
    "\n",
    "    # ゲーム盤の枠を描画する\n",
    "    for i in range(1, self.BOARD_SIZE):\n",
    "        ax.plot([0, self.BOARD_SIZE], [i, i], c=\"k\") # 横方向の枠線\n",
    "        ax.plot([i, i], [0, self.BOARD_SIZE], c=\"k\") # 縦方向の枠線   \n",
    "\n",
    "    # ゲーム盤のマークを描画する\n",
    "    for y in range(self.BOARD_SIZE):\n",
    "        for x in range(self.BOARD_SIZE):\n",
    "            color = \"red\" if (x, y) == self.last_move else \"black\"\n",
    "            self.draw_mark(ax, x, y, self.board[x][y], color)\n",
    "\n",
    "    # ゲーム盤を描画する\n",
    "    plt.show()          \n",
    "\n",
    "Marubatsu.draw_board = draw_board"
   ]
  },
  {
   "cell_type": "code",
   "execution_count": 6,
   "metadata": {},
   "outputs": [
    {
     "data": {
      "application/vnd.jupyter.widget-view+json": {
       "model_id": "e967bc03977c40d79dc83e93f2ed47ec",
       "version_major": 2,
       "version_minor": 0
      },
      "image/png": "[encoded data removed]",
      "text/html": [
       "\n",
       "            <div style=\"display: inline-block;\">\n",
       "                <div class=\"jupyter-widgets widget-label\" style=\"text-align: center;\">\n",
       "                    Figure\n",
       "                </div>\n",
       "                <img src='data:image/png;base64,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' width=300.0/>\n",
       "            </div>\n",
       "        "
      ],
      "text/plain": [
       "Canvas(header_visible=False, resizable=False, toolbar=Toolbar(toolitems=[('Home', 'Reset original view', 'home…"
      ]
     },
     "metadata": {},
     "output_type": "display_data"
    },
    {
     "name": "stdout",
     "output_type": "stream",
     "text": [
      "0.41064516129032247 0.7214285714285711\n",
      "1.503548387096774 1.8642857142857139\n",
      "2.3693548387096772 2.307142857142857\n"
     ]
    }
   ],
   "source": [
    "mb.play(ai=[None, None], gui=True)"
   ]
  },
  {
   "cell_type": "code",
   "execution_count": 7,
   "metadata": {},
   "outputs": [
    {
     "name": "stdout",
     "output_type": "stream",
     "text": [
      "1\n",
      "0\n",
      "0\n",
      "-1\n",
      "-1\n"
     ]
    }
   ],
   "source": [
    "import math\n",
    "\n",
    "print(math.floor(1))\n",
    "print(math.floor(0.5))\n",
    "print(math.floor(0))\n",
    "print(math.floor(-0.5)) # 0 ではなく、-1 が返される\n",
    "print(math.floor(-1))"
   ]
  },
  {
   "cell_type": "code",
   "execution_count": 8,
   "metadata": {},
   "outputs": [
    {
     "name": "stdout",
     "output_type": "stream",
     "text": [
      "1\n",
      "1\n",
      "0\n",
      "0\n",
      "-1\n"
     ]
    }
   ],
   "source": [
    "print(math.ceil(1))\n",
    "print(math.ceil(0.5))\n",
    "print(math.ceil(0))\n",
    "print(math.ceil(-0.5)) # -1 ではなく、0 が返される\n",
    "print(math.ceil(-1))"
   ]
  },
  {
   "cell_type": "code",
   "execution_count": 9,
   "metadata": {},
   "outputs": [
    {
     "name": "stdout",
     "output_type": "stream",
     "text": [
      "2\n",
      "2\n",
      "1\n",
      "0\n",
      "0\n",
      "0\n",
      "-1\n",
      "-2\n",
      "-2\n"
     ]
    }
   ],
   "source": [
    "print(round(2))\n",
    "print(round(1.5))\n",
    "print(round(1))\n",
    "print(round(0.5))\n",
    "print(round(0))\n",
    "print(round(-0.5))\n",
    "print(round(-1))\n",
    "print(round(-1.5))\n",
    "print(round(-2))"
   ]
  },
  {
   "cell_type": "code",
   "execution_count": 10,
   "metadata": {},
   "outputs": [
    {
     "name": "stdout",
     "output_type": "stream",
     "text": [
      "1\n",
      "0\n",
      "0\n",
      "0\n",
      "-1\n"
     ]
    }
   ],
   "source": [
    "print(math.trunc(1))\n",
    "print(math.trunc(0.5))\n",
    "print(math.trunc(0))\n",
    "print(math.trunc(-0.5))\n",
    "print(math.trunc(-1))"
   ]
  },
  {
   "cell_type": "code",
   "execution_count": 11,
   "metadata": {},
   "outputs": [
    {
     "name": "stdout",
     "output_type": "stream",
     "text": [
      "1\n",
      "0\n",
      "0\n",
      "0\n",
      "-1\n"
     ]
    }
   ],
   "source": [
    "print(math.trunc(1))\n",
    "print(math.trunc(0.5))\n",
    "print(math.trunc(0))\n",
    "print(math.trunc(-0.5))\n",
    "print(math.trunc(-1))"
   ]
  },
  {
   "cell_type": "code",
   "execution_count": 12,
   "metadata": {},
   "outputs": [
    {
     "name": "stdout",
     "output_type": "stream",
     "text": [
      "1\n"
     ]
    }
   ],
   "source": [
    "print(int(\"1\"))"
   ]
  },
  {
   "cell_type": "code",
   "execution_count": 13,
   "metadata": {},
   "outputs": [
    {
     "ename": "TypeError",
     "evalue": "type str doesn't define __trunc__ method",
     "output_type": "error",
     "traceback": [
      "\u001b[1;31m---------------------------------------------------------------------------\u001b[0m",
      "\u001b[1;31mTypeError\u001b[0m                                 Traceback (most recent call last)",
      "Cell \u001b[1;32mIn[13], line 1\u001b[0m\n\u001b[1;32m----> 1\u001b[0m \u001b[38;5;28mprint\u001b[39m(math\u001b[38;5;241m.\u001b[39mtrunc(\u001b[38;5;124m\"\u001b[39m\u001b[38;5;124m1\u001b[39m\u001b[38;5;124m\"\u001b[39m))\n",
      "\u001b[1;31mTypeError\u001b[0m: type str doesn't define __trunc__ method"
     ]
    }
   ],
   "source": [
    "print(math.trunc(\"1\"))"
   ]
  },
  {
   "cell_type": "code",
   "execution_count": 14,
   "metadata": {},
   "outputs": [],
   "source": [
    "def on_mouse_down(event):\n",
    "    print(int(event.xdata), int(event.ydata))"
   ]
  },
  {
   "cell_type": "code",
   "execution_count": 15,
   "metadata": {},
   "outputs": [
    {
     "data": {
      "application/vnd.jupyter.widget-view+json": {
       "model_id": "38b9dbd98103454ba230cde5965bef35",
       "version_major": 2,
       "version_minor": 0
      },
      "image/png": "[encoded data removed]",
      "text/html": [
       "\n",
       "            <div style=\"display: inline-block;\">\n",
       "                <div class=\"jupyter-widgets widget-label\" style=\"text-align: center;\">\n",
       "                    Figure\n",
       "                </div>\n",
       "                <img src='data:image/png;base64,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' width=300.0/>\n",
       "            </div>\n",
       "        "
      ],
      "text/plain": [
       "Canvas(header_visible=False, resizable=False, toolbar=Toolbar(toolitems=[('Home', 'Reset original view', 'home…"
      ]
     },
     "metadata": {},
     "output_type": "display_data"
    },
    {
     "name": "stdout",
     "output_type": "stream",
     "text": [
      "1 1\n",
      "2 1\n",
      "0 1\n"
     ]
    },
    {
     "ename": "TypeError",
     "evalue": "int() argument must be a string, a bytes-like object or a real number, not 'NoneType'",
     "output_type": "error",
     "traceback": [
      "\u001b[1;31m---------------------------------------------------------------------------\u001b[0m",
      "\u001b[1;31mTypeError\u001b[0m                                 Traceback (most recent call last)",
      "File \u001b[1;32mc:\\Users\\ys\\Anaconda3\\envs\\marubatsu\\Lib\\site-packages\\ipympl\\backend_nbagg.py:279\u001b[0m, in \u001b[0;36mCanvas._handle_message\u001b[1;34m(self, object, content, buffers)\u001b[0m\n\u001b[0;32m    276\u001b[0m     \u001b[38;5;28mself\u001b[39m\u001b[38;5;241m.\u001b[39mmanager\u001b[38;5;241m.\u001b[39mhandle_json(content)\n\u001b[0;32m    278\u001b[0m \u001b[38;5;28;01melse\u001b[39;00m:\n\u001b[1;32m--> 279\u001b[0m     \u001b[38;5;28mself\u001b[39m\u001b[38;5;241m.\u001b[39mmanager\u001b[38;5;241m.\u001b[39mhandle_json(content)\n",
      "File \u001b[1;32mc:\\Users\\ys\\Anaconda3\\envs\\marubatsu\\Lib\\site-packages\\matplotlib\\backends\\backend_webagg_core.py:464\u001b[0m, in \u001b[0;36mFigureManagerWebAgg.handle_json\u001b[1;34m(self, content)\u001b[0m\n\u001b[0;32m    463\u001b[0m \u001b[38;5;28;01mdef\u001b[39;00m \u001b[38;5;21mhandle_json\u001b[39m(\u001b[38;5;28mself\u001b[39m, content):\n\u001b[1;32m--> 464\u001b[0m     \u001b[38;5;28mself\u001b[39m\u001b[38;5;241m.\u001b[39mcanvas\u001b[38;5;241m.\u001b[39mhandle_event(content)\n",
      "File \u001b[1;32mc:\\Users\\ys\\Anaconda3\\envs\\marubatsu\\Lib\\site-packages\\matplotlib\\backends\\backend_webagg_core.py:264\u001b[0m, in \u001b[0;36mFigureCanvasWebAggCore.handle_event\u001b[1;34m(self, event)\u001b[0m\n\u001b[0;32m    261\u001b[0m e_type \u001b[38;5;241m=\u001b[39m event[\u001b[38;5;124m'\u001b[39m\u001b[38;5;124mtype\u001b[39m\u001b[38;5;124m'\u001b[39m]\n\u001b[0;32m    262\u001b[0m handler \u001b[38;5;241m=\u001b[39m \u001b[38;5;28mgetattr\u001b[39m(\u001b[38;5;28mself\u001b[39m, \u001b[38;5;124mf\u001b[39m\u001b[38;5;124m'\u001b[39m\u001b[38;5;124mhandle_\u001b[39m\u001b[38;5;132;01m{\u001b[39;00me_type\u001b[38;5;132;01m}\u001b[39;00m\u001b[38;5;124m'\u001b[39m,\n\u001b[0;32m    263\u001b[0m                   \u001b[38;5;28mself\u001b[39m\u001b[38;5;241m.\u001b[39mhandle_unknown_event)\n\u001b[1;32m--> 264\u001b[0m \u001b[38;5;28;01mreturn\u001b[39;00m handler(event)\n",
      "File \u001b[1;32mc:\\Users\\ys\\Anaconda3\\envs\\marubatsu\\Lib\\site-packages\\matplotlib\\backends\\backend_webagg_core.py:294\u001b[0m, in \u001b[0;36mFigureCanvasWebAggCore._handle_mouse\u001b[1;34m(self, event)\u001b[0m\n\u001b[0;32m    291\u001b[0m guiEvent \u001b[38;5;241m=\u001b[39m event\u001b[38;5;241m.\u001b[39mget(\u001b[38;5;124m'\u001b[39m\u001b[38;5;124mguiEvent\u001b[39m\u001b[38;5;124m'\u001b[39m)\n\u001b[0;32m    292\u001b[0m \u001b[38;5;28;01mif\u001b[39;00m e_type \u001b[38;5;129;01min\u001b[39;00m [\u001b[38;5;124m'\u001b[39m\u001b[38;5;124mbutton_press\u001b[39m\u001b[38;5;124m'\u001b[39m, \u001b[38;5;124m'\u001b[39m\u001b[38;5;124mbutton_release\u001b[39m\u001b[38;5;124m'\u001b[39m]:\n\u001b[0;32m    293\u001b[0m     MouseEvent(e_type \u001b[38;5;241m+\u001b[39m \u001b[38;5;124m'\u001b[39m\u001b[38;5;124m_event\u001b[39m\u001b[38;5;124m'\u001b[39m, \u001b[38;5;28mself\u001b[39m, x, y, button,\n\u001b[1;32m--> 294\u001b[0m                modifiers\u001b[38;5;241m=\u001b[39mmodifiers, guiEvent\u001b[38;5;241m=\u001b[39mguiEvent)\u001b[38;5;241m.\u001b[39m_process()\n\u001b[0;32m    295\u001b[0m \u001b[38;5;28;01melif\u001b[39;00m e_type \u001b[38;5;241m==\u001b[39m \u001b[38;5;124m'\u001b[39m\u001b[38;5;124mdblclick\u001b[39m\u001b[38;5;124m'\u001b[39m:\n\u001b[0;32m    296\u001b[0m     MouseEvent(\u001b[38;5;124m'\u001b[39m\u001b[38;5;124mbutton_press_event\u001b[39m\u001b[38;5;124m'\u001b[39m, \u001b[38;5;28mself\u001b[39m, x, y, button, dblclick\u001b[38;5;241m=\u001b[39m\u001b[38;5;28;01mTrue\u001b[39;00m,\n\u001b[0;32m    297\u001b[0m                modifiers\u001b[38;5;241m=\u001b[39mmodifiers, guiEvent\u001b[38;5;241m=\u001b[39mguiEvent)\u001b[38;5;241m.\u001b[39m_process()\n",
      "File \u001b[1;32mc:\\Users\\ys\\Anaconda3\\envs\\marubatsu\\Lib\\site-packages\\matplotlib\\backend_bases.py:1271\u001b[0m, in \u001b[0;36mEvent._process\u001b[1;34m(self)\u001b[0m\n\u001b[0;32m   1269\u001b[0m \u001b[38;5;28;01mdef\u001b[39;00m \u001b[38;5;21m_process\u001b[39m(\u001b[38;5;28mself\u001b[39m):\n\u001b[0;32m   1270\u001b[0m \u001b[38;5;250m    \u001b[39m\u001b[38;5;124;03m\"\"\"Process this event on ``self.canvas``, then unset ``guiEvent``.\"\"\"\u001b[39;00m\n\u001b[1;32m-> 1271\u001b[0m     \u001b[38;5;28mself\u001b[39m\u001b[38;5;241m.\u001b[39mcanvas\u001b[38;5;241m.\u001b[39mcallbacks\u001b[38;5;241m.\u001b[39mprocess(\u001b[38;5;28mself\u001b[39m\u001b[38;5;241m.\u001b[39mname, \u001b[38;5;28mself\u001b[39m)\n\u001b[0;32m   1272\u001b[0m     \u001b[38;5;28mself\u001b[39m\u001b[38;5;241m.\u001b[39m_guiEvent_deleted \u001b[38;5;241m=\u001b[39m \u001b[38;5;28;01mTrue\u001b[39;00m\n",
      "File \u001b[1;32mc:\\Users\\ys\\Anaconda3\\envs\\marubatsu\\Lib\\site-packages\\matplotlib\\cbook.py:303\u001b[0m, in \u001b[0;36mCallbackRegistry.process\u001b[1;34m(self, s, *args, **kwargs)\u001b[0m\n\u001b[0;32m    301\u001b[0m \u001b[38;5;28;01mexcept\u001b[39;00m \u001b[38;5;167;01mException\u001b[39;00m \u001b[38;5;28;01mas\u001b[39;00m exc:\n\u001b[0;32m    302\u001b[0m     \u001b[38;5;28;01mif\u001b[39;00m \u001b[38;5;28mself\u001b[39m\u001b[38;5;241m.\u001b[39mexception_handler \u001b[38;5;129;01mis\u001b[39;00m \u001b[38;5;129;01mnot\u001b[39;00m \u001b[38;5;28;01mNone\u001b[39;00m:\n\u001b[1;32m--> 303\u001b[0m         \u001b[38;5;28mself\u001b[39m\u001b[38;5;241m.\u001b[39mexception_handler(exc)\n\u001b[0;32m    304\u001b[0m     \u001b[38;5;28;01melse\u001b[39;00m:\n\u001b[0;32m    305\u001b[0m         \u001b[38;5;28;01mraise\u001b[39;00m\n",
      "File \u001b[1;32mc:\\Users\\ys\\Anaconda3\\envs\\marubatsu\\Lib\\site-packages\\matplotlib\\cbook.py:87\u001b[0m, in \u001b[0;36m_exception_printer\u001b[1;34m(exc)\u001b[0m\n\u001b[0;32m     85\u001b[0m \u001b[38;5;28;01mdef\u001b[39;00m \u001b[38;5;21m_exception_printer\u001b[39m(exc):\n\u001b[0;32m     86\u001b[0m     \u001b[38;5;28;01mif\u001b[39;00m _get_running_interactive_framework() \u001b[38;5;129;01min\u001b[39;00m [\u001b[38;5;124m\"\u001b[39m\u001b[38;5;124mheadless\u001b[39m\u001b[38;5;124m\"\u001b[39m, \u001b[38;5;28;01mNone\u001b[39;00m]:\n\u001b[1;32m---> 87\u001b[0m         \u001b[38;5;28;01mraise\u001b[39;00m exc\n\u001b[0;32m     88\u001b[0m     \u001b[38;5;28;01melse\u001b[39;00m:\n\u001b[0;32m     89\u001b[0m         traceback\u001b[38;5;241m.\u001b[39mprint_exc()\n",
      "File \u001b[1;32mc:\\Users\\ys\\Anaconda3\\envs\\marubatsu\\Lib\\site-packages\\matplotlib\\cbook.py:298\u001b[0m, in \u001b[0;36mCallbackRegistry.process\u001b[1;34m(self, s, *args, **kwargs)\u001b[0m\n\u001b[0;32m    296\u001b[0m \u001b[38;5;28;01mif\u001b[39;00m func \u001b[38;5;129;01mis\u001b[39;00m \u001b[38;5;129;01mnot\u001b[39;00m \u001b[38;5;28;01mNone\u001b[39;00m:\n\u001b[0;32m    297\u001b[0m     \u001b[38;5;28;01mtry\u001b[39;00m:\n\u001b[1;32m--> 298\u001b[0m         func(\u001b[38;5;241m*\u001b[39margs, \u001b[38;5;241m*\u001b[39m\u001b[38;5;241m*\u001b[39mkwargs)\n\u001b[0;32m    299\u001b[0m     \u001b[38;5;66;03m# this does not capture KeyboardInterrupt, SystemExit,\u001b[39;00m\n\u001b[0;32m    300\u001b[0m     \u001b[38;5;66;03m# and GeneratorExit\u001b[39;00m\n\u001b[0;32m    301\u001b[0m     \u001b[38;5;28;01mexcept\u001b[39;00m \u001b[38;5;167;01mException\u001b[39;00m \u001b[38;5;28;01mas\u001b[39;00m exc:\n",
      "Cell \u001b[1;32mIn[14], line 2\u001b[0m, in \u001b[0;36mon_mouse_down\u001b[1;34m(event)\u001b[0m\n\u001b[0;32m      1\u001b[0m \u001b[38;5;28;01mdef\u001b[39;00m \u001b[38;5;21mon_mouse_down\u001b[39m(event):\n\u001b[1;32m----> 2\u001b[0m     \u001b[38;5;28mprint\u001b[39m(\u001b[38;5;28mint\u001b[39m(event\u001b[38;5;241m.\u001b[39mxdata), \u001b[38;5;28mint\u001b[39m(event\u001b[38;5;241m.\u001b[39mydata))\n",
      "\u001b[1;31mTypeError\u001b[0m: int() argument must be a string, a bytes-like object or a real number, not 'NoneType'"
     ]
    }
   ],
   "source": [
    "mb.play(ai=[None, None], gui=True)"
   ]
  },
  {
   "cell_type": "code",
   "execution_count": 16,
   "metadata": {},
   "outputs": [],
   "source": [
    "def draw_board(self, size=3):   \n",
    "    fig, ax = plt.subplots(figsize=[size, size], facecolor=\"lightblue\")\n",
    "    fig.canvas.mpl_connect(\"button_press_event\", on_mouse_down)\n",
    "    fig.canvas.toolbar_visible = False\n",
    "    fig.canvas.header_visible = False\n",
    "    fig.canvas.resizable = False\n",
    "        \n",
    "    # y 軸を反転させる\n",
    "    ax.invert_yaxis()\n",
    "\n",
    "    # 枠と目盛りを表示しないようにする\n",
    "    #ax.axis(\"off\")\n",
    "\n",
    "    # 上部のメッセージを描画する\n",
    "    # ゲームの決着がついていない場合は、手番を表示する\n",
    "    if self.status == Marubatsu.PLAYING:\n",
    "        text = \"Turn \" + self.turn\n",
    "    # 決着がついていれば勝者を表示する\n",
    "    else:\n",
    "        text = \"winner \" + self.status\n",
    "    ax.text(0, -0.2, text, fontsize=20)\n",
    "\n",
    "    # ゲーム盤の枠を描画する\n",
    "    for i in range(1, self.BOARD_SIZE):\n",
    "        ax.plot([0, self.BOARD_SIZE], [i, i], c=\"k\") # 横方向の枠線\n",
    "        ax.plot([i, i], [0, self.BOARD_SIZE], c=\"k\") # 縦方向の枠線   \n",
    "\n",
    "    # ゲーム盤のマークを描画する\n",
    "    for y in range(self.BOARD_SIZE):\n",
    "        for x in range(self.BOARD_SIZE):\n",
    "            color = \"red\" if (x, y) == self.last_move else \"black\"\n",
    "            self.draw_mark(ax, x, y, self.board[x][y], color)\n",
    "\n",
    "    # ゲーム盤を描画する\n",
    "    plt.show()          \n",
    "\n",
    "Marubatsu.draw_board = draw_board"
   ]
  },
  {
   "cell_type": "code",
   "execution_count": 17,
   "metadata": {},
   "outputs": [
    {
     "data": {
      "application/vnd.jupyter.widget-view+json": {
       "model_id": "89f3e51b17e74c0391e566a7c95a4dfe",
       "version_major": 2,
       "version_minor": 0
      },
      "image/png": "[encoded data removed]",
      "text/html": [
       "\n",
       "            <div style=\"display: inline-block;\">\n",
       "                <div class=\"jupyter-widgets widget-label\" style=\"text-align: center;\">\n",
       "                    Figure\n",
       "                </div>\n",
       "                <img src='data:image/png;base64,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' width=300.0/>\n",
       "            </div>\n",
       "        "
      ],
      "text/plain": [
       "Canvas(header_visible=False, resizable=False, toolbar=Toolbar(toolitems=[('Home', 'Reset original view', 'home…"
      ]
     },
     "metadata": {},
     "output_type": "display_data"
    }
   ],
   "source": [
    "mb.play(ai=[None, None], gui=True)"
   ]
  },
  {
   "cell_type": "code",
   "execution_count": 18,
   "metadata": {},
   "outputs": [],
   "source": [
    "def on_mouse_down(event):\n",
    "    # Axes の上でマウスを押していた場合のみ処理を行う\n",
    "    if event.inaxes:\n",
    "        print(int(event.xdata), int(event.ydata))"
   ]
  },
  {
   "cell_type": "code",
   "execution_count": 19,
   "metadata": {},
   "outputs": [
    {
     "data": {
      "application/vnd.jupyter.widget-view+json": {
       "model_id": "559017d0d174439f938648620388ecbd",
       "version_major": 2,
       "version_minor": 0
      },
      "image/png": "[encoded data removed]",
      "text/html": [
       "\n",
       "            <div style=\"display: inline-block;\">\n",
       "                <div class=\"jupyter-widgets widget-label\" style=\"text-align: center;\">\n",
       "                    Figure\n",
       "                </div>\n",
       "                <img src='data:image/png;base64,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' width=300.0/>\n",
       "            </div>\n",
       "        "
      ],
      "text/plain": [
       "Canvas(header_visible=False, resizable=False, toolbar=Toolbar(toolitems=[('Home', 'Reset original view', 'home…"
      ]
     },
     "metadata": {},
     "output_type": "display_data"
    }
   ],
   "source": [
    "mb.play(ai=[None, None], gui=True)"
   ]
  },
  {
   "cell_type": "code",
   "execution_count": 20,
   "metadata": {},
   "outputs": [],
   "source": [
    "def on_mouse_down(event):\n",
    "    # Axes の上でマウスを押していた場合のみ処理を行う\n",
    "    if event.inaxes:\n",
    "        print(math.floor(event.xdata), math.floor(event.ydata))"
   ]
  },
  {
   "cell_type": "code",
   "execution_count": 21,
   "metadata": {},
   "outputs": [
    {
     "data": {
      "application/vnd.jupyter.widget-view+json": {
       "model_id": "92f54261441b452288e0a5603812fc35",
       "version_major": 2,
       "version_minor": 0
      },
      "image/png": "[encoded data removed]",
      "text/html": [
       "\n",
       "            <div style=\"display: inline-block;\">\n",
       "                <div class=\"jupyter-widgets widget-label\" style=\"text-align: center;\">\n",
       "                    Figure\n",
       "                </div>\n",
       "                <img src='data:image/png;base64,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' width=300.0/>\n",
       "            </div>\n",
       "        "
      ],
      "text/plain": [
       "Canvas(header_visible=False, resizable=False, toolbar=Toolbar(toolitems=[('Home', 'Reset original view', 'home…"
      ]
     },
     "metadata": {},
     "output_type": "display_data"
    },
    {
     "name": "stdout",
     "output_type": "stream",
     "text": [
      "-1 0\n",
      "1 -1\n",
      "-1 -1\n"
     ]
    }
   ],
   "source": [
    "mb.play(ai=[None, None], gui=True)"
   ]
  },
  {
   "cell_type": "code",
   "execution_count": 24,
   "metadata": {},
   "outputs": [],
   "source": [
    "def draw_board(self, size=3):   \n",
    "    fig, ax = plt.subplots(figsize=[size, size])\n",
    "    fig.canvas.mpl_connect(\"button_press_event\", on_mouse_down)\n",
    "    fig.canvas.toolbar_visible = False\n",
    "    fig.canvas.header_visible = False\n",
    "    fig.canvas.footer_visible = False\n",
    "    fig.canvas.resizable = False\n",
    "        \n",
    "    # y 軸を反転させる\n",
    "    ax.invert_yaxis()\n",
    "\n",
    "    # 枠と目盛りを表示しないようにする\n",
    "    ax.axis(\"off\")\n",
    "\n",
    "    # 上部のメッセージを描画する\n",
    "    # ゲームの決着がついていない場合は、手番を表示する\n",
    "    if self.status == Marubatsu.PLAYING:\n",
    "        text = \"Turn \" + self.turn\n",
    "    # 決着がついていれば勝者を表示する\n",
    "    else:\n",
    "        text = \"winner \" + self.status\n",
    "    ax.text(0, -0.2, text, fontsize=20)\n",
    "\n",
    "    # ゲーム盤の枠を描画する\n",
    "    for i in range(1, self.BOARD_SIZE):\n",
    "        ax.plot([0, self.BOARD_SIZE], [i, i], c=\"k\") # 横方向の枠線\n",
    "        ax.plot([i, i], [0, self.BOARD_SIZE], c=\"k\") # 縦方向の枠線   \n",
    "\n",
    "    # ゲーム盤のマークを描画する\n",
    "    for y in range(self.BOARD_SIZE):\n",
    "        for x in range(self.BOARD_SIZE):\n",
    "            color = \"red\" if (x, y) == self.last_move else \"black\"\n",
    "            self.draw_mark(ax, x, y, self.board[x][y], color)\n",
    "\n",
    "    # ゲーム盤を描画する\n",
    "    plt.show()          \n",
    "\n",
    "Marubatsu.draw_board = draw_board"
   ]
  },
  {
   "cell_type": "code",
   "execution_count": 25,
   "metadata": {},
   "outputs": [
    {
     "data": {
      "application/vnd.jupyter.widget-view+json": {
       "model_id": "0c4f8a3e466a4181afee2a36052fcdfd",
       "version_major": 2,
       "version_minor": 0
      },
      "image/png": "[encoded data removed]",
      "text/html": [
       "\n",
       "            <div style=\"display: inline-block;\">\n",
       "                <div class=\"jupyter-widgets widget-label\" style=\"text-align: center;\">\n",
       "                    Figure\n",
       "                </div>\n",
       "                <img src='data:image/png;base64,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' width=300.0/>\n",
       "            </div>\n",
       "        "
      ],
      "text/plain": [
       "Canvas(footer_visible=False, header_visible=False, resizable=False, toolbar=Toolbar(toolitems=[('Home', 'Reset…"
      ]
     },
     "metadata": {},
     "output_type": "display_data"
    }
   ],
   "source": [
    "mb.play(ai=[None, None], gui=True)"
   ]
  }
 ],
 "metadata": {
  "kernelspec": {
   "display_name": "marubatsu",
   "language": "python",
   "name": "python3"
  },
  "language_info": {
   "codemirror_mode": {
    "name": "ipython",
    "version": 3
   },
   "file_extension": ".py",
   "mimetype": "text/x-python",
   "name": "python",
   "nbconvert_exporter": "python",
   "pygments_lexer": "ipython3",
   "version": "3.11.4"
  }
 },
 "nbformat": 4,
 "nbformat_minor": 2
}
