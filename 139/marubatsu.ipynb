{
 "cells": [
  {
   "cell_type": "code",
   "execution_count": 1,
   "metadata": {},
   "outputs": [
    {
     "data": {
      "application/vnd.jupyter.widget-view+json": {
       "model_id": "f748304cdfae4f8493a55a3f7d96392a",
       "version_major": 2,
       "version_minor": 0
      },
      "text/plain": [
       "VBox(children=(HBox(children=(Play(value=0, interval=500, max=1649836), Button(description='<', layout=Layout(…"
      ]
     },
     "metadata": {},
     "output_type": "display_data"
    },
    {
     "data": {
      "text/plain": [
       "<tree.Mbtree_Anim at 0x1729d1c8150>"
      ]
     },
     "execution_count": 1,
     "metadata": {},
     "output_type": "execute_result"
    }
   ],
   "source": [
    "from tree import Mbtree, Mbtree_Anim\n",
    "\n",
    "mbtree = Mbtree.load(\"../data/dfscore\")\n",
    "Mbtree_Anim(mbtree, isscore=True)"
   ]
  },
  {
   "cell_type": "code",
   "execution_count": 2,
   "metadata": {},
   "outputs": [],
   "source": [
    "def __init__(self, mbtree:Mbtree, isscore:bool=False, size:float=0.15):\n",
    "    self.mbtree = mbtree\n",
    "    self.isscore = isscore\n",
    "    self.size = size\n",
    "    self.width = 50\n",
    "    self.height = 65\n",
    "    self.nodelist = self.mbtree.nodelist_by_score if isscore else self.mbtree.nodelist \n",
    "    self.nodenum = len(self.nodelist)\n",
    "    super(Mbtree_Anim, self).__init__()\n",
    "    \n",
    "Mbtree_Anim.__init__ = __init__"
   ]
  },
  {
   "cell_type": "code",
   "execution_count": 3,
   "metadata": {},
   "outputs": [],
   "source": [
    "def update_gui(self):\n",
    "    self.ax.clear()\n",
    "    self.ax.set_xlim(-1, self.width - 1)\n",
    "    self.ax.set_ylim(-1, self.height - 1)   \n",
    "    self.ax.invert_yaxis()\n",
    "    self.ax.axis(\"off\")   \n",
    "    \n",
    "    self.selectednode = self.nodelist[self.play.value]\n",
    "    self.centernode = self.selectednode\n",
    "    if self.mbtree.algo == \"bf\":\n",
    "        if self.centernode.depth > 0:\n",
    "            self.centernode = self.centernode.parent\n",
    "    while self.centernode.depth > 6:\n",
    "        self.centernode = self.centernode.parent\n",
    "    if self.centernode.depth <= 4:\n",
    "        maxdepth = self.centernode.depth + 1\n",
    "    elif self.centernode.depth == 5:\n",
    "        maxdepth = 7\n",
    "    else:\n",
    "        maxdepth = 9\n",
    "    self.mbtree.draw_subtree(centernode=self.centernode, selectednode=self.selectednode,\n",
    "                             anim_frame=self.play.value, isscore=self.isscore, \n",
    "                             ax=self.ax, maxdepth=maxdepth, size=self.size)\n",
    "                            \n",
    "    disabled = self.play.value == 0\n",
    "    self.set_button_status(self.prev_button, disabled=disabled)\n",
    "    disabled = self.play.value == self.nodenum - 1\n",
    "    self.set_button_status(self.next_button, disabled=disabled)\n",
    "    \n",
    "Mbtree_Anim.update_gui = update_gui"
   ]
  },
  {
   "cell_type": "code",
   "execution_count": 4,
   "metadata": {},
   "outputs": [
    {
     "data": {
      "application/vnd.jupyter.widget-view+json": {
       "model_id": "cdc9c992e406452e94a65d52ac8c87a0",
       "version_major": 2,
       "version_minor": 0
      },
      "text/plain": [
       "VBox(children=(HBox(children=(Play(value=0, interval=500, max=1649836), Button(description='<', layout=Layout(…"
      ]
     },
     "metadata": {},
     "output_type": "display_data"
    },
    {
     "data": {
      "text/plain": [
       "<tree.Mbtree_Anim at 0x1729dbeab50>"
      ]
     },
     "execution_count": 4,
     "metadata": {},
     "output_type": "execute_result"
    }
   ],
   "source": [
    "Mbtree_Anim(mbtree, isscore=True)"
   ]
  },
  {
   "cell_type": "code",
   "execution_count": 5,
   "metadata": {},
   "outputs": [
    {
     "data": {
      "application/vnd.jupyter.widget-view+json": {
       "model_id": "425b338cac294546bc573255f7128420",
       "version_major": 2,
       "version_minor": 0
      },
      "text/plain": [
       "VBox(children=(HBox(children=(Play(value=0, interval=500, max=1649836), Button(description='<', layout=Layout(…"
      ]
     },
     "metadata": {},
     "output_type": "display_data"
    },
    {
     "data": {
      "text/plain": [
       "<tree.Mbtree_Anim at 0x1729dde6190>"
      ]
     },
     "execution_count": 5,
     "metadata": {},
     "output_type": "execute_result"
    }
   ],
   "source": [
    "Mbtree_Anim(mbtree, isscore=True, size=0.5)"
   ]
  },
  {
   "cell_type": "code",
   "execution_count": 6,
   "metadata": {},
   "outputs": [
    {
     "name": "stdout",
     "output_type": "stream",
     "text": [
      "(0.5, False, True)\n"
     ]
    }
   ],
   "source": [
    "index = 1\n",
    "anim_frame = 0 \n",
    "show_score = True\n",
    "retval = 0.5, False if index > anim_frame else 0, show_score\n",
    "print(retval)"
   ]
  },
  {
   "cell_type": "code",
   "execution_count": 7,
   "metadata": {},
   "outputs": [],
   "source": [
    "def draw_subtree(self, centernode=None, selectednode=None, ax=None, anim_frame=None,\n",
    "                 isscore=False, show_bestmove=False, show_score=True, size=0.25, lw=0.8, maxdepth=2):\n",
    "    def calc_darkness(node):\n",
    "        if show_bestmove:\n",
    "            if node.parent is None:\n",
    "                return 0, show_score\n",
    "            elif node.mb.last_move in node.parent.bestmoves:\n",
    "                return 0, show_score\n",
    "            else:\n",
    "                return 0.2, show_score\n",
    "            \n",
    "        if anim_frame is None:\n",
    "            return 0, show_score\n",
    "        index = node.score_index if isscore else node.id\n",
    "        return (0.5, False) if index > anim_frame else (0, show_score)\n",
    "    \n",
    "    self.nodes_by_rect = {}\n",
    "\n",
    "    if centernode is None:\n",
    "        centernode = self.root\n",
    "    self.calc_node_height(N=centernode, maxdepth=maxdepth)\n",
    "    if show_bestmove:\n",
    "        width = 5 * 10\n",
    "    else:\n",
    "        width = 5 * (maxdepth + 1)\n",
    "    height = centernode.height\n",
    "    parent = centernode.parent\n",
    "    if parent is not None:\n",
    "        height += (len(parent.children) - 1) * 4\n",
    "        parent.height = height\n",
    "    if ax is None:\n",
    "        fig, ax = plt.subplots(figsize=(width * size, (height + 1) * size))\n",
    "        ax.set_xlim(0, width)\n",
    "        ax.set_ylim(-1, height)   \n",
    "        ax.invert_yaxis()\n",
    "        ax.axis(\"off\")        \n",
    "    \n",
    "    if show_bestmove:\n",
    "        bestx = 5 * maxdepth + 4\n",
    "        bestwidth = 50 - bestx\n",
    "        ax.add_artist(patches.Rectangle(xy=(bestx, -1), width=bestwidth,\n",
    "                                        height=height + 1, fc=\"lightgray\"))\n",
    "    \n",
    "    nodelist = [centernode]\n",
    "    depth = centernode.depth\n",
    "    while len(nodelist) > 0 and depth <= maxdepth:        \n",
    "        dy = 0\n",
    "        if parent is not None:\n",
    "            dy = parent.children.index(centernode) * 4\n",
    "        childnodelist = []\n",
    "        for node in nodelist:\n",
    "            if node is None:\n",
    "                dy += 4\n",
    "                childnodelist.append(None)\n",
    "            else:\n",
    "                dx = 5 * node.depth\n",
    "                emphasize = node is selectednode\n",
    "                darkness, show_score = calc_darkness(node)\n",
    "                rect = node.draw_node(ax=ax, maxdepth=maxdepth, emphasize=emphasize, darkness=darkness,\n",
    "                                    show_score=show_score, size=size, lw=lw, dx=dx, dy=dy)\n",
    "                self.nodes_by_rect[rect] = node\n",
    "                if show_bestmove and depth == maxdepth:\n",
    "                    bestnode = node\n",
    "                    while len(bestnode.bestmoves) > 0:\n",
    "                        bestmove = bestnode.bestmoves[0]\n",
    "                        bestnode = bestnode.children_by_move[bestmove]\n",
    "                        dx = 5 * bestnode.depth\n",
    "                        bestnode.height = 4\n",
    "                        emphasize = bestnode is selectednode\n",
    "                        rect = bestnode.draw_node(ax=ax, maxdepth=bestnode.depth, emphasize=emphasize,\n",
    "                                                  show_score=show_score, size=size, lw=lw, dx=dx, dy=dy)\n",
    "                        self.nodes_by_rect[rect] = bestnode                                          \n",
    "                    \n",
    "                dy += node.height\n",
    "                if len(node.children) > 0:  \n",
    "                    childnodelist += node.children\n",
    "                else:\n",
    "                    childnodelist.append(None)\n",
    "        depth += 1\n",
    "        nodelist = childnodelist\n",
    "        \n",
    "    if parent is not None:\n",
    "        dy = 0\n",
    "        for sibling in parent.children:\n",
    "            if sibling is not centernode:\n",
    "                sibling.height = 4\n",
    "                dx = 5 * sibling.depth\n",
    "                darkness, show_score = calc_darkness(sibling)\n",
    "                rect = sibling.draw_node(ax, maxdepth=sibling.depth, size=size, darkness=darkness,\n",
    "                                        show_score=show_score, lw=lw, dx=dx, dy=dy)\n",
    "                self.nodes_by_rect[rect] = sibling\n",
    "            dy += sibling.height\n",
    "        dx = 5 * parent.depth\n",
    "        darkness, show_score = calc_darkness(parent)\n",
    "        rect = parent.draw_node(ax, maxdepth=maxdepth, darkness=darkness, \n",
    "                                show_score=show_score, size=size, lw=lw, dx=dx, dy=0)\n",
    "        self.nodes_by_rect[rect] = parent\n",
    "    \n",
    "        node = parent\n",
    "        while node.parent is not None:\n",
    "            node = node.parent\n",
    "            node.height = height\n",
    "            dx = 5 * node.depth\n",
    "            darkness, show_score = calc_darkness(node)\n",
    "            rect = node.draw_node(ax, maxdepth=node.depth, darkness=darkness,\n",
    "                                show_score=show_score, size=size, lw=lw, dx=dx, dy=0)\n",
    "            self.nodes_by_rect[rect] = node\n",
    "            \n",
    "Mbtree.draw_subtree = draw_subtree"
   ]
  },
  {
   "cell_type": "code",
   "execution_count": 8,
   "metadata": {},
   "outputs": [
    {
     "data": {
      "application/vnd.jupyter.widget-view+json": {
       "model_id": "7027a78f865e4f69a3814d4ac1042a8f",
       "version_major": 2,
       "version_minor": 0
      },
      "text/plain": [
       "VBox(children=(HBox(children=(Play(value=0, interval=500, max=1649836), Button(description='<', layout=Layout(…"
      ]
     },
     "metadata": {},
     "output_type": "display_data"
    },
    {
     "data": {
      "text/plain": [
       "<tree.Mbtree_Anim at 0x1729fde6ed0>"
      ]
     },
     "execution_count": 8,
     "metadata": {},
     "output_type": "execute_result"
    }
   ],
   "source": [
    "Mbtree_Anim(mbtree, isscore=True)"
   ]
  },
  {
   "cell_type": "code",
   "execution_count": 9,
   "metadata": {},
   "outputs": [
    {
     "data": {
      "application/vnd.jupyter.widget-view+json": {
       "model_id": "65f878bef1d343b586fd6a718b4b1856",
       "version_major": 2,
       "version_minor": 0
      },
      "text/plain": [
       "VBox(children=(HBox(children=(Play(value=0, interval=500, max=549945), Button(description='<', layout=Layout(w…"
      ]
     },
     "metadata": {},
     "output_type": "display_data"
    },
    {
     "data": {
      "text/plain": [
       "<tree.Mbtree_Anim at 0x172a03c2b50>"
      ]
     },
     "execution_count": 9,
     "metadata": {},
     "output_type": "execute_result"
    }
   ],
   "source": [
    "Mbtree_Anim(mbtree)"
   ]
  },
  {
   "cell_type": "code",
   "execution_count": 10,
   "metadata": {},
   "outputs": [],
   "source": [
    "def draw_subtree(self, centernode=None, selectednode=None, ax=None, anim_frame=None,\n",
    "                    isscore=False, show_bestmove=False, show_score=True, size=0.25, lw=0.8, maxdepth=2):\n",
    "    def calc_darkness(node):\n",
    "        if show_bestmove:\n",
    "            if node.parent is None:\n",
    "                return 0, show_score\n",
    "            elif node.mb.last_move in node.parent.bestmoves:\n",
    "                return 0, show_score\n",
    "            else:\n",
    "                return 0.2, show_score\n",
    "            \n",
    "        if anim_frame is None:\n",
    "            return 0, show_score\n",
    "        index = node.score_index if isscore else node.id\n",
    "        return (0.5, False) if index > anim_frame else (0, isscore)\n",
    "    \n",
    "    self.nodes_by_rect = {}\n",
    "\n",
    "    if centernode is None:\n",
    "        centernode = self.root\n",
    "    self.calc_node_height(N=centernode, maxdepth=maxdepth)\n",
    "    if show_bestmove:\n",
    "        width = 5 * 10\n",
    "    else:\n",
    "        width = 5 * (maxdepth + 1)\n",
    "    height = centernode.height\n",
    "    parent = centernode.parent\n",
    "    if parent is not None:\n",
    "        height += (len(parent.children) - 1) * 4\n",
    "        parent.height = height\n",
    "    if ax is None:\n",
    "        fig, ax = plt.subplots(figsize=(width * size, (height + 1) * size))\n",
    "        ax.set_xlim(0, width)\n",
    "        ax.set_ylim(-1, height)   \n",
    "        ax.invert_yaxis()\n",
    "        ax.axis(\"off\")        \n",
    "    \n",
    "    if show_bestmove:\n",
    "        bestx = 5 * maxdepth + 4\n",
    "        bestwidth = 50 - bestx\n",
    "        ax.add_artist(patches.Rectangle(xy=(bestx, -1), width=bestwidth,\n",
    "                                        height=height + 1, fc=\"lightgray\"))\n",
    "    \n",
    "    nodelist = [centernode]\n",
    "    depth = centernode.depth\n",
    "    while len(nodelist) > 0 and depth <= maxdepth:        \n",
    "        dy = 0\n",
    "        if parent is not None:\n",
    "            dy = parent.children.index(centernode) * 4\n",
    "        childnodelist = []\n",
    "        for node in nodelist:\n",
    "            if node is None:\n",
    "                dy += 4\n",
    "                childnodelist.append(None)\n",
    "            else:\n",
    "                dx = 5 * node.depth\n",
    "                emphasize = node is selectednode\n",
    "                darkness, show_score = calc_darkness(node)\n",
    "                rect = node.draw_node(ax=ax, maxdepth=maxdepth, emphasize=emphasize, darkness=darkness,\n",
    "                                    show_score=show_score, size=size, lw=lw, dx=dx, dy=dy)\n",
    "                self.nodes_by_rect[rect] = node\n",
    "                if show_bestmove and depth == maxdepth:\n",
    "                    bestnode = node\n",
    "                    while len(bestnode.bestmoves) > 0:\n",
    "                        bestmove = bestnode.bestmoves[0]\n",
    "                        bestnode = bestnode.children_by_move[bestmove]\n",
    "                        dx = 5 * bestnode.depth\n",
    "                        bestnode.height = 4\n",
    "                        emphasize = bestnode is selectednode\n",
    "                        rect = bestnode.draw_node(ax=ax, maxdepth=bestnode.depth, emphasize=emphasize,\n",
    "                                                show_score=show_score, size=size, lw=lw, dx=dx, dy=dy)\n",
    "                        self.nodes_by_rect[rect] = bestnode                                          \n",
    "                    \n",
    "                dy += node.height\n",
    "                if len(node.children) > 0:  \n",
    "                    childnodelist += node.children\n",
    "                else:\n",
    "                    childnodelist.append(None)\n",
    "        depth += 1\n",
    "        nodelist = childnodelist\n",
    "        \n",
    "    if parent is not None:\n",
    "        dy = 0\n",
    "        for sibling in parent.children:\n",
    "            if sibling is not centernode:\n",
    "                sibling.height = 4\n",
    "                dx = 5 * sibling.depth\n",
    "                darkness, show_score  = calc_darkness(sibling)\n",
    "                rect = sibling.draw_node(ax, maxdepth=sibling.depth, size=size, darkness=darkness,\n",
    "                                        show_score=show_score, lw=lw, dx=dx, dy=dy)\n",
    "                self.nodes_by_rect[rect] = sibling\n",
    "            dy += sibling.height\n",
    "        dx = 5 * parent.depth\n",
    "        darkness, show_score  = calc_darkness(parent)\n",
    "        rect = parent.draw_node(ax, maxdepth=maxdepth, darkness=darkness, \n",
    "                                show_score=show_score, size=size, lw=lw, dx=dx, dy=0)\n",
    "        self.nodes_by_rect[rect] = parent\n",
    "    \n",
    "        node = parent\n",
    "        while node.parent is not None:\n",
    "            node = node.parent\n",
    "            node.height = height\n",
    "            dx = 5 * node.depth\n",
    "            darkness, show_score  = calc_darkness(node)\n",
    "            rect = node.draw_node(ax, maxdepth=node.depth, darkness=darkness,\n",
    "                                show_score=show_score, size=size, lw=lw, dx=dx, dy=0)\n",
    "            self.nodes_by_rect[rect] = node\n",
    "            \n",
    "Mbtree.draw_subtree = draw_subtree"
   ]
  },
  {
   "cell_type": "code",
   "execution_count": 11,
   "metadata": {},
   "outputs": [
    {
     "data": {
      "application/vnd.jupyter.widget-view+json": {
       "model_id": "8a4a614056a14345822d33489a2fb264",
       "version_major": 2,
       "version_minor": 0
      },
      "text/plain": [
       "VBox(children=(HBox(children=(Play(value=0, interval=500, max=549945), Button(description='<', layout=Layout(w…"
      ]
     },
     "metadata": {},
     "output_type": "display_data"
    },
    {
     "data": {
      "text/plain": [
       "<tree.Mbtree_Anim at 0x172a099fa10>"
      ]
     },
     "execution_count": 11,
     "metadata": {},
     "output_type": "execute_result"
    }
   ],
   "source": [
    "Mbtree_Anim(mbtree)"
   ]
  },
  {
   "cell_type": "code",
   "execution_count": 12,
   "metadata": {},
   "outputs": [
    {
     "data": {
      "application/vnd.jupyter.widget-view+json": {
       "model_id": "f99e6535710c43eabe81970bfdf53f40",
       "version_major": 2,
       "version_minor": 0
      },
      "text/plain": [
       "VBox(children=(HBox(children=(Play(value=0, interval=500, max=1649836), Button(description='<', layout=Layout(…"
      ]
     },
     "metadata": {},
     "output_type": "display_data"
    },
    {
     "data": {
      "text/plain": [
       "<tree.Mbtree_Anim at 0x172a094b650>"
      ]
     },
     "execution_count": 12,
     "metadata": {},
     "output_type": "execute_result"
    }
   ],
   "source": [
    "Mbtree_Anim(mbtree, isscore=True)"
   ]
  }
 ],
 "metadata": {
  "kernelspec": {
   "display_name": "marubatsu",
   "language": "python",
   "name": "python3"
  },
  "language_info": {
   "codemirror_mode": {
    "name": "ipython",
    "version": 3
   },
   "file_extension": ".py",
   "mimetype": "text/x-python",
   "name": "python",
   "nbconvert_exporter": "python",
   "pygments_lexer": "ipython3",
   "version": "3.11.4"
  }
 },
 "nbformat": 4,
 "nbformat_minor": 2
}
