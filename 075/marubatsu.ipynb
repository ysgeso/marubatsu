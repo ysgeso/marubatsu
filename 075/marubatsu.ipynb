{
 "cells": [
  {
   "cell_type": "code",
   "execution_count": 1,
   "metadata": {},
   "outputs": [
    {
     "ename": "ImportError",
     "evalue": "cannot import name 'Marubatsu' from partially initialized module 'marubatsu' (most likely due to a circular import) (c:\\Users\\ys\\ai\\marubatsu\\075\\marubatsu.py)",
     "output_type": "error",
     "traceback": [
      "\u001b[1;31m---------------------------------------------------------------------------\u001b[0m",
      "\u001b[1;31mImportError\u001b[0m                               Traceback (most recent call last)",
      "Cell \u001b[1;32mIn[1], line 2\u001b[0m\n\u001b[0;32m      1\u001b[0m get_ipython()\u001b[38;5;241m.\u001b[39mrun_line_magic(\u001b[38;5;124m'\u001b[39m\u001b[38;5;124mmatplotlib\u001b[39m\u001b[38;5;124m'\u001b[39m, \u001b[38;5;124m'\u001b[39m\u001b[38;5;124mwidget\u001b[39m\u001b[38;5;124m'\u001b[39m)\n\u001b[1;32m----> 2\u001b[0m \u001b[38;5;28;01mfrom\u001b[39;00m \u001b[38;5;21;01mmarubatsu\u001b[39;00m \u001b[38;5;28;01mimport\u001b[39;00m Marubatsu\n\u001b[0;32m      4\u001b[0m mb \u001b[38;5;241m=\u001b[39m Marubatsu()\n\u001b[0;32m      5\u001b[0m mb\u001b[38;5;241m.\u001b[39mplay(ai\u001b[38;5;241m=\u001b[39m[\u001b[38;5;28;01mNone\u001b[39;00m, \u001b[38;5;28;01mNone\u001b[39;00m], gui\u001b[38;5;241m=\u001b[39m\u001b[38;5;28;01mTrue\u001b[39;00m)\n",
      "File \u001b[1;32mc:\\Users\\ys\\ai\\marubatsu\\075\\marubatsu.py:11\u001b[0m\n\u001b[0;32m      9\u001b[0m \u001b[38;5;28;01mimport\u001b[39;00m \u001b[38;5;21;01mmath\u001b[39;00m\n\u001b[0;32m     10\u001b[0m \u001b[38;5;28;01mimport\u001b[39;00m \u001b[38;5;21;01mipywidgets\u001b[39;00m \u001b[38;5;28;01mas\u001b[39;00m \u001b[38;5;21;01mwidgets\u001b[39;00m\n\u001b[1;32m---> 11\u001b[0m \u001b[38;5;28;01mimport\u001b[39;00m \u001b[38;5;21;01mai\u001b[39;00m \u001b[38;5;28;01mas\u001b[39;00m \u001b[38;5;21;01mai_module\u001b[39;00m\n\u001b[0;32m     13\u001b[0m \u001b[38;5;28;01mclass\u001b[39;00m \u001b[38;5;21;01mMarkpat\u001b[39;00m(NamedTuple):   \n\u001b[0;32m     14\u001b[0m \u001b[38;5;250m    \u001b[39m\u001b[38;5;124;03m\"\"\"マークのパターン.\u001b[39;00m\n\u001b[0;32m     15\u001b[0m \u001b[38;5;124;03m    \u001b[39;00m\n\u001b[0;32m     16\u001b[0m \u001b[38;5;124;03m    Attributes:\u001b[39;00m\n\u001b[1;32m   (...)\u001b[0m\n\u001b[0;32m     22\u001b[0m \u001b[38;5;124;03m            空のマスの数\u001b[39;00m\n\u001b[0;32m     23\u001b[0m \u001b[38;5;124;03m    \"\"\"\u001b[39;00m\n",
      "File \u001b[1;32mc:\\Users\\ys\\ai\\marubatsu\\075\\ai.py:3\u001b[0m\n\u001b[0;32m      1\u001b[0m \u001b[38;5;66;03m# 3.7 ～ 3.9 の Python のバージョンでエラーが発生しないようにするためのインポート\u001b[39;00m\n\u001b[0;32m      2\u001b[0m \u001b[38;5;28;01mfrom\u001b[39;00m \u001b[38;5;21;01m__future__\u001b[39;00m \u001b[38;5;28;01mimport\u001b[39;00m annotations\n\u001b[1;32m----> 3\u001b[0m \u001b[38;5;28;01mfrom\u001b[39;00m \u001b[38;5;21;01mmarubatsu\u001b[39;00m \u001b[38;5;28;01mimport\u001b[39;00m Marubatsu, Markpat\n\u001b[0;32m      4\u001b[0m \u001b[38;5;28;01mfrom\u001b[39;00m \u001b[38;5;21;01mrandom\u001b[39;00m \u001b[38;5;28;01mimport\u001b[39;00m choice\n\u001b[0;32m      5\u001b[0m \u001b[38;5;28;01mfrom\u001b[39;00m \u001b[38;5;21;01mcollections\u001b[39;00m \u001b[38;5;28;01mimport\u001b[39;00m defaultdict\n",
      "\u001b[1;31mImportError\u001b[0m: cannot import name 'Marubatsu' from partially initialized module 'marubatsu' (most likely due to a circular import) (c:\\Users\\ys\\ai\\marubatsu\\075\\marubatsu.py)"
     ]
    }
   ],
   "source": [
    "%matplotlib widget\n",
    "from marubatsu import Marubatsu\n",
    "\n",
    "mb = Marubatsu()\n",
    "mb.play(ai=[None, None], gui=True)"
   ]
  },
  {
   "cell_type": "code",
   "execution_count": 2,
   "metadata": {},
   "outputs": [],
   "source": [
    "import test"
   ]
  },
  {
   "cell_type": "code",
   "execution_count": 3,
   "metadata": {},
   "outputs": [
    {
     "ename": "AttributeError",
     "evalue": "partially initialized module 'test3' has no attribute 'a' (most likely due to a circular import)",
     "output_type": "error",
     "traceback": [
      "\u001b[1;31m---------------------------------------------------------------------------\u001b[0m",
      "\u001b[1;31mAttributeError\u001b[0m                            Traceback (most recent call last)",
      "Cell \u001b[1;32mIn[3], line 1\u001b[0m\n\u001b[1;32m----> 1\u001b[0m \u001b[38;5;28;01mimport\u001b[39;00m \u001b[38;5;21;01mtest3\u001b[39;00m\n",
      "File \u001b[1;32mc:\\Users\\ys\\ai\\marubatsu\\075\\test3.py:1\u001b[0m\n\u001b[1;32m----> 1\u001b[0m \u001b[38;5;28;01mimport\u001b[39;00m \u001b[38;5;21;01mtest4\u001b[39;00m\n\u001b[0;32m      2\u001b[0m a \u001b[38;5;241m=\u001b[39m \u001b[38;5;241m1\u001b[39m\n\u001b[0;32m      3\u001b[0m \u001b[38;5;28mprint\u001b[39m(test4\u001b[38;5;241m.\u001b[39ma)\n",
      "File \u001b[1;32mc:\\Users\\ys\\ai\\marubatsu\\075\\test4.py:3\u001b[0m\n\u001b[0;32m      1\u001b[0m \u001b[38;5;28;01mimport\u001b[39;00m \u001b[38;5;21;01mtest3\u001b[39;00m\n\u001b[0;32m      2\u001b[0m a \u001b[38;5;241m=\u001b[39m \u001b[38;5;241m2\u001b[39m\n\u001b[1;32m----> 3\u001b[0m \u001b[38;5;28mprint\u001b[39m(test3\u001b[38;5;241m.\u001b[39ma)\n",
      "\u001b[1;31mAttributeError\u001b[0m: partially initialized module 'test3' has no attribute 'a' (most likely due to a circular import)"
     ]
    }
   ],
   "source": [
    "import test3"
   ]
  },
  {
   "cell_type": "code",
   "execution_count": 4,
   "metadata": {},
   "outputs": [
    {
     "data": {
      "application/vnd.jupyter.widget-view+json": {
       "model_id": "1ee5b28b43bf47259eb4c080e45c96e8",
       "version_major": 2,
       "version_minor": 0
      },
      "text/plain": [
       "HBox(children=(Dropdown(description='〇', layout=Layout(width='100px'), options=(('ai1s', <function ai1s at 0x0…"
      ]
     },
     "metadata": {},
     "output_type": "display_data"
    },
    {
     "data": {
      "application/vnd.jupyter.widget-view+json": {
       "model_id": "8d5597ddb87c4e0fabbb87f2fcd91268",
       "version_major": 2,
       "version_minor": 0
      },
      "image/png": "[encoded data removed]",
      "text/html": [
       "\n",
       "            <div style=\"display: inline-block;\">\n",
       "                <div class=\"jupyter-widgets widget-label\" style=\"text-align: center;\">\n",
       "                    Figure\n",
       "                </div>\n",
       "                <img src='data:image/png;base64,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' width=300.0/>\n",
       "            </div>\n",
       "        "
      ],
      "text/plain": [
       "Canvas(footer_visible=False, header_visible=False, resizable=False, toolbar=Toolbar(toolitems=[('Home', 'Reset…"
      ]
     },
     "metadata": {},
     "output_type": "display_data"
    }
   ],
   "source": [
    "from marubatsu_correct import Marubatsu\n",
    "import ai\n",
    "\n",
    "# Dropdown の作成の際に必要となる、AI のリストを作成する    \n",
    "ai_list = []\n",
    "for i in range(1, 15):\n",
    "    ai_name = f\"ai{i}s\"  \n",
    "    ai_list.append((ai_name, getattr(ai, ai_name)))    \n",
    "    \n",
    "mb = Marubatsu()\n",
    "mb.play(ai=[None, None], ai_list=ai_list, gui=True)"
   ]
  },
  {
   "cell_type": "code",
   "execution_count": 5,
   "metadata": {},
   "outputs": [
    {
     "data": {
      "application/vnd.jupyter.widget-view+json": {
       "model_id": "f9a901b5a3b147bb80fbe350358b7238",
       "version_major": 2,
       "version_minor": 0
      },
      "text/plain": [
       "HBox(children=(Dropdown(description='〇', layout=Layout(width='100px'), options=(), style=DescriptionStyle(desc…"
      ]
     },
     "metadata": {},
     "output_type": "display_data"
    },
    {
     "data": {
      "application/vnd.jupyter.widget-view+json": {
       "model_id": "2b406336369d4c60a2bda159d3add125",
       "version_major": 2,
       "version_minor": 0
      },
      "image/png": "[encoded data removed]",
      "text/html": [
       "\n",
       "            <div style=\"display: inline-block;\">\n",
       "                <div class=\"jupyter-widgets widget-label\" style=\"text-align: center;\">\n",
       "                    Figure\n",
       "                </div>\n",
       "                <img src='data:image/png;base64,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' width=300.0/>\n",
       "            </div>\n",
       "        "
      ],
      "text/plain": [
       "Canvas(footer_visible=False, header_visible=False, resizable=False, toolbar=Toolbar(toolitems=[('Home', 'Reset…"
      ]
     },
     "metadata": {},
     "output_type": "display_data"
    }
   ],
   "source": [
    "mb.play(ai=[None, None],  gui=True)"
   ]
  },
  {
   "cell_type": "code",
   "execution_count": 6,
   "metadata": {},
   "outputs": [],
   "source": [
    "import matplotlib.pyplot as plt\n",
    "import ipywidgets as widgets\n",
    "import math\n",
    "\n",
    "def play(self, ai, ai_list=[], params=[{}, {}], verbose=True, seed=None, gui=False, size=3):      \n",
    "    # seed が None でない場合は、seed を乱数の種として設定する\n",
    "    if seed is not None:\n",
    "        random.seed(seed)\n",
    "    \n",
    "    # ai に代入されている内容を ai_list に追加する\n",
    "    for i in range(2):\n",
    "        if ai[i] is None:\n",
    "            ai_list.append((\"人間\", None))\n",
    "    \n",
    "    # 〇 と × の Dropdown を作成する   \n",
    "    dropdown_circle = widgets.Dropdown(\n",
    "        options=ai_list,\n",
    "        description=\"〇\",\n",
    "        layout=widgets.Layout(width=\"100px\"),\n",
    "        style={\"description_width\": \"20px\"},\n",
    "    )\n",
    "    dropdown_cross = widgets.Dropdown(\n",
    "        options=ai_list,\n",
    "        description=\"×\",\n",
    "        layout=widgets.Layout(width=\"100px\"),\n",
    "        style={\"description_width\": \"20px\"},\n",
    "    )       \n",
    "    \n",
    "    # リセットボタンを作成する\n",
    "    button = widgets.Button(\n",
    "        description=\"リセット\",\n",
    "        layout=widgets.Layout(width=\"100px\"),\n",
    "    )\n",
    "    \n",
    "    # 〇 と × の dropdown と リセットボタンを横に配置した HBox を作成し、表示する\n",
    "    hbox = widgets.HBox([dropdown_circle, dropdown_cross, button])\n",
    "    display(hbox)\n",
    "    \n",
    "    # リセットボタンのイベントハンドラを定義する\n",
    "    def on_button_clicked(b):\n",
    "        self.restart()\n",
    "        self.play_loop(ai=ai, ax=ax, params=params, verbose=verbose, gui=gui)           \n",
    "        \n",
    "    # イベントハンドラをリセットボタンに結びつける\n",
    "    button.on_click(on_button_clicked)\n",
    "\n",
    "    # gui が True の場合に、ゲーム盤を描画する画像を作成し、イベントハンドラに結びつける\n",
    "    if gui:\n",
    "        fig, ax = plt.subplots(figsize=[size, size])\n",
    "        fig.canvas.toolbar_visible = False\n",
    "        fig.canvas.header_visible = False\n",
    "        fig.canvas.footer_visible = False\n",
    "        fig.canvas.resizable = False          \n",
    "        \n",
    "        # ローカル関数としてイベントハンドラを定義する\n",
    "        def on_mouse_down(event):\n",
    "            # Axes の上でマウスを押していた場合のみ処理を行う\n",
    "            if event.inaxes and self.status == Marubatsu.PLAYING:\n",
    "                x = math.floor(event.xdata)\n",
    "                y = math.floor(event.ydata)\n",
    "                self.move(x, y)                \n",
    "                self.draw_board(ax)\n",
    "\n",
    "                # 次の手番の処理を行うメソッドを呼び出す\n",
    "                self.play_loop(ai=ai, ax=ax, params=params, verbose=verbose, gui=gui)\n",
    "                \n",
    "        # fig の画像にマウスを押した際のイベントハンドラを結び付ける\n",
    "        fig.canvas.mpl_connect(\"button_press_event\", on_mouse_down)     \n",
    "\n",
    "    self.restart()\n",
    "    return self.play_loop(ai=ai, ax=ax, params=params, verbose=verbose, gui=gui)\n",
    "\n",
    "Marubatsu.play = play"
   ]
  },
  {
   "cell_type": "code",
   "execution_count": 7,
   "metadata": {},
   "outputs": [
    {
     "data": {
      "application/vnd.jupyter.widget-view+json": {
       "model_id": "7bedea02a66549b7be208c916f9040c4",
       "version_major": 2,
       "version_minor": 0
      },
      "text/plain": [
       "HBox(children=(Dropdown(description='〇', layout=Layout(width='100px'), options=(('人間', None), ('人間', None)), s…"
      ]
     },
     "metadata": {},
     "output_type": "display_data"
    },
    {
     "data": {
      "application/vnd.jupyter.widget-view+json": {
       "model_id": "b530b08e4ebb4edda222d0b6a8b9c445",
       "version_major": 2,
       "version_minor": 0
      },
      "image/png": "[encoded data removed]",
      "text/html": [
       "\n",
       "            <div style=\"display: inline-block;\">\n",
       "                <div class=\"jupyter-widgets widget-label\" style=\"text-align: center;\">\n",
       "                    Figure\n",
       "                </div>\n",
       "                <img src='data:image/png;base64,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' width=300.0/>\n",
       "            </div>\n",
       "        "
      ],
      "text/plain": [
       "Canvas(footer_visible=False, header_visible=False, resizable=False, toolbar=Toolbar(toolitems=[('Home', 'Reset…"
      ]
     },
     "metadata": {},
     "output_type": "display_data"
    }
   ],
   "source": [
    "mb.play(ai=[None, None], gui=True);"
   ]
  },
  {
   "cell_type": "code",
   "execution_count": 8,
   "metadata": {},
   "outputs": [],
   "source": [
    "def play(self, ai, ai_list=[], params=[{}, {}], verbose=True, seed=None, gui=False, size=3):      \n",
    "    # seed が None でない場合は、seed を乱数の種として設定する\n",
    "    if seed is not None:\n",
    "        random.seed(seed)\n",
    "    \n",
    "    # ai_list から、項目だけを取り出した list を作成する\n",
    "    ai_values = [value for label, value in ai_list]\n",
    "    # ai に代入されている内容を ai_list に追加する\n",
    "    for i in range(2):\n",
    "        if ai[i] is None and None not in ai_values:\n",
    "            ai_list.append((\"人間\", None))\n",
    "            ai_values.append(None)\n",
    "    \n",
    "    # 〇 と × の Dropdown を作成する   \n",
    "    dropdown_circle = widgets.Dropdown(\n",
    "        options=ai_list,\n",
    "        description=\"〇\",\n",
    "        layout=widgets.Layout(width=\"100px\"),\n",
    "        style={\"description_width\": \"20px\"},\n",
    "    )\n",
    "    dropdown_cross = widgets.Dropdown(\n",
    "        options=ai_list,\n",
    "        description=\"×\",\n",
    "        layout=widgets.Layout(width=\"100px\"),\n",
    "        style={\"description_width\": \"20px\"},\n",
    "    )       \n",
    "    \n",
    "    # リセットボタンを作成する\n",
    "    button = widgets.Button(\n",
    "        description=\"リセット\",\n",
    "        layout=widgets.Layout(width=\"100px\"),\n",
    "    )\n",
    "    \n",
    "    # 〇 と × の dropdown と リセットボタンを横に配置した HBox を作成し、表示する\n",
    "    hbox = widgets.HBox([dropdown_circle, dropdown_cross, button])\n",
    "    display(hbox)\n",
    "    \n",
    "    # リセットボタンのイベントハンドラを定義する\n",
    "    def on_button_clicked(b):\n",
    "        self.restart()\n",
    "        self.play_loop(ai=ai, ax=ax, params=params, verbose=verbose, gui=gui)           \n",
    "        \n",
    "    # イベントハンドラをリセットボタンに結びつける\n",
    "    button.on_click(on_button_clicked)\n",
    "\n",
    "    # gui が True の場合に、ゲーム盤を描画する画像を作成し、イベントハンドラに結びつける\n",
    "    if gui:\n",
    "        fig, ax = plt.subplots(figsize=[size, size])\n",
    "        fig.canvas.toolbar_visible = False\n",
    "        fig.canvas.header_visible = False\n",
    "        fig.canvas.footer_visible = False\n",
    "        fig.canvas.resizable = False          \n",
    "        \n",
    "        # ローカル関数としてイベントハンドラを定義する\n",
    "        def on_mouse_down(event):\n",
    "            # Axes の上でマウスを押していた場合のみ処理を行う\n",
    "            if event.inaxes and self.status == Marubatsu.PLAYING:\n",
    "                x = math.floor(event.xdata)\n",
    "                y = math.floor(event.ydata)\n",
    "                self.move(x, y)                \n",
    "                self.draw_board(ax)\n",
    "\n",
    "                # 次の手番の処理を行うメソッドを呼び出す\n",
    "                self.play_loop(ai=ai, ax=ax, params=params, verbose=verbose, gui=gui)\n",
    "                \n",
    "        # fig の画像にマウスを押した際のイベントハンドラを結び付ける\n",
    "        fig.canvas.mpl_connect(\"button_press_event\", on_mouse_down)     \n",
    "\n",
    "    self.restart()\n",
    "    return self.play_loop(ai=ai, ax=ax, params=params, verbose=verbose, gui=gui)\n",
    "\n",
    "Marubatsu.play = play"
   ]
  },
  {
   "cell_type": "code",
   "execution_count": 9,
   "metadata": {},
   "outputs": [
    {
     "data": {
      "application/vnd.jupyter.widget-view+json": {
       "model_id": "92b8bce935c947328737e4783dc18dde",
       "version_major": 2,
       "version_minor": 0
      },
      "text/plain": [
       "HBox(children=(Dropdown(description='〇', layout=Layout(width='100px'), options=(('人間', None),), style=Descript…"
      ]
     },
     "metadata": {},
     "output_type": "display_data"
    },
    {
     "data": {
      "application/vnd.jupyter.widget-view+json": {
       "model_id": "fd210f7bbc1e4764b0e474105a88b73e",
       "version_major": 2,
       "version_minor": 0
      },
      "image/png": "[encoded data removed]",
      "text/html": [
       "\n",
       "            <div style=\"display: inline-block;\">\n",
       "                <div class=\"jupyter-widgets widget-label\" style=\"text-align: center;\">\n",
       "                    Figure\n",
       "                </div>\n",
       "                <img src='data:image/png;base64,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' width=300.0/>\n",
       "            </div>\n",
       "        "
      ],
      "text/plain": [
       "Canvas(footer_visible=False, header_visible=False, resizable=False, toolbar=Toolbar(toolitems=[('Home', 'Reset…"
      ]
     },
     "metadata": {},
     "output_type": "display_data"
    }
   ],
   "source": [
    "mb.play(ai=[None, None], gui=True);"
   ]
  },
  {
   "cell_type": "code",
   "execution_count": 10,
   "metadata": {},
   "outputs": [],
   "source": [
    "def play(self, ai, ai_list=[], params=[{}, {}], verbose=True, seed=None, gui=False, size=3):      \n",
    "    # seed が None でない場合は、seed を乱数の種として設定する\n",
    "    if seed is not None:\n",
    "        random.seed(seed)\n",
    "    \n",
    "    # ai_list から、項目だけを取り出した list を作成する\n",
    "    ai_values = [value for label, value in ai_list]\n",
    "    # ai に代入されている内容を ai_list に追加する\n",
    "    for i in range(2):\n",
    "        # ai[i] が ai_values に登録済かどうかを判定する\n",
    "        if ai[i] not in ai_values:\n",
    "            # ラベルを計算する\n",
    "            if ai[i] is None:\n",
    "                label = \"人間\"\n",
    "            else:\n",
    "                label = ai[i].__name__        \n",
    "            # 項目を登録する\n",
    "            ai_list.append((label, ai[i]))\n",
    "            ai_values.append(ai[i])\n",
    "    \n",
    "    # 〇 と × の Dropdown を作成する   \n",
    "    dropdown_circle = widgets.Dropdown(\n",
    "        options=ai_list,\n",
    "        description=\"〇\",\n",
    "        layout=widgets.Layout(width=\"100px\"),\n",
    "        style={\"description_width\": \"20px\"},\n",
    "    )\n",
    "    dropdown_cross = widgets.Dropdown(\n",
    "        options=ai_list,\n",
    "        description=\"×\",\n",
    "        layout=widgets.Layout(width=\"100px\"),\n",
    "        style={\"description_width\": \"20px\"},\n",
    "    )       \n",
    "    \n",
    "    # リセットボタンを作成する\n",
    "    button = widgets.Button(\n",
    "        description=\"リセット\",\n",
    "        layout=widgets.Layout(width=\"100px\"),\n",
    "    )\n",
    "    \n",
    "    # 〇 と × の dropdown と リセットボタンを横に配置した HBox を作成し、表示する\n",
    "    hbox = widgets.HBox([dropdown_circle, dropdown_cross, button])\n",
    "    display(hbox)\n",
    "    \n",
    "    # リセットボタンのイベントハンドラを定義する\n",
    "    def on_button_clicked(b):\n",
    "        self.restart()\n",
    "        self.play_loop(ai=ai, ax=ax, params=params, verbose=verbose, gui=gui)           \n",
    "        \n",
    "    # イベントハンドラをリセットボタンに結びつける\n",
    "    button.on_click(on_button_clicked)\n",
    "\n",
    "    # gui が True の場合に、ゲーム盤を描画する画像を作成し、イベントハンドラに結びつける\n",
    "    if gui:\n",
    "        fig, ax = plt.subplots(figsize=[size, size])\n",
    "        fig.canvas.toolbar_visible = False\n",
    "        fig.canvas.header_visible = False\n",
    "        fig.canvas.footer_visible = False\n",
    "        fig.canvas.resizable = False          \n",
    "        \n",
    "        # ローカル関数としてイベントハンドラを定義する\n",
    "        def on_mouse_down(event):\n",
    "            # Axes の上でマウスを押していた場合のみ処理を行う\n",
    "            if event.inaxes and self.status == Marubatsu.PLAYING:\n",
    "                x = math.floor(event.xdata)\n",
    "                y = math.floor(event.ydata)\n",
    "                self.move(x, y)                \n",
    "                self.draw_board(ax)\n",
    "\n",
    "                # 次の手番の処理を行うメソッドを呼び出す\n",
    "                self.play_loop(ai=ai, ax=ax, params=params, verbose=verbose, gui=gui)\n",
    "                \n",
    "        # fig の画像にマウスを押した際のイベントハンドラを結び付ける\n",
    "        fig.canvas.mpl_connect(\"button_press_event\", on_mouse_down)     \n",
    "\n",
    "    self.restart()\n",
    "    return self.play_loop(ai=ai, ax=ax, params=params, verbose=verbose, gui=gui)\n",
    "\n",
    "Marubatsu.play = play"
   ]
  },
  {
   "cell_type": "code",
   "execution_count": 11,
   "metadata": {},
   "outputs": [
    {
     "data": {
      "application/vnd.jupyter.widget-view+json": {
       "model_id": "409843eb3ba6451eaaa6ae02844b5b67",
       "version_major": 2,
       "version_minor": 0
      },
      "text/plain": [
       "HBox(children=(Dropdown(description='〇', layout=Layout(width='100px'), options=(('人間', None), ('ai1s', <functi…"
      ]
     },
     "metadata": {},
     "output_type": "display_data"
    },
    {
     "data": {
      "application/vnd.jupyter.widget-view+json": {
       "model_id": "2a5f01269b2d42809fd774b39e6be996",
       "version_major": 2,
       "version_minor": 0
      },
      "image/png": "[encoded data removed]",
      "text/html": [
       "\n",
       "            <div style=\"display: inline-block;\">\n",
       "                <div class=\"jupyter-widgets widget-label\" style=\"text-align: center;\">\n",
       "                    Figure\n",
       "                </div>\n",
       "                <img src='data:image/png;base64,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' width=300.0/>\n",
       "            </div>\n",
       "        "
      ],
      "text/plain": [
       "Canvas(footer_visible=False, header_visible=False, resizable=False, toolbar=Toolbar(toolitems=[('Home', 'Reset…"
      ]
     },
     "metadata": {},
     "output_type": "display_data"
    }
   ],
   "source": [
    "from ai import ai1s\n",
    "\n",
    "mb.play(ai=[None, ai1s],  gui=True)"
   ]
  },
  {
   "cell_type": "code",
   "execution_count": 12,
   "metadata": {},
   "outputs": [],
   "source": [
    "def play(self, ai, ai_list=[], params=[{}, {}], verbose=True, seed=None, gui=False, size=3):      \n",
    "    # seed が None でない場合は、seed を乱数の種として設定する\n",
    "    if seed is not None:\n",
    "        random.seed(seed)\n",
    "    \n",
    "    # ai_list から、項目だけを取り出した list を作成する\n",
    "    ai_values = [value for label, value in ai_list]\n",
    "    # ai に代入されている内容を ai_list に追加する\n",
    "    for i in range(2):\n",
    "        # ai[i] が ai_values に登録済かどうかを判定する\n",
    "        if ai[i] not in ai_values:\n",
    "            # ラベルを計算する\n",
    "            if ai[i] is None:\n",
    "                label = \"人間\"\n",
    "            else:\n",
    "                label = ai[i].__name__        \n",
    "            # 項目を登録する\n",
    "            ai_list.append((label, ai[i]))\n",
    "            ai_values.append(ai[i])\n",
    "    \n",
    "    # 〇 と × の Dropdown を作成する   \n",
    "    dropdown_circle = widgets.Dropdown(\n",
    "        options=ai_list,\n",
    "        description=\"〇\",\n",
    "        layout=widgets.Layout(width=\"100px\"),\n",
    "        style={\"description_width\": \"20px\"},\n",
    "        value=ai[0],\n",
    "    )\n",
    "    dropdown_cross = widgets.Dropdown(\n",
    "        options=ai_list,\n",
    "        description=\"×\",\n",
    "        layout=widgets.Layout(width=\"100px\"),\n",
    "        style={\"description_width\": \"20px\"},\n",
    "        value=ai[1],\n",
    "    )       \n",
    "    \n",
    "    # リセットボタンを作成する\n",
    "    button = widgets.Button(\n",
    "        description=\"リセット\",\n",
    "        layout=widgets.Layout(width=\"100px\"),\n",
    "    )\n",
    "    \n",
    "    # 〇 と × の dropdown と リセットボタンを横に配置した HBox を作成し、表示する\n",
    "    hbox = widgets.HBox([dropdown_circle, dropdown_cross, button])\n",
    "    display(hbox)\n",
    "    \n",
    "    # リセットボタンのイベントハンドラを定義する\n",
    "    def on_button_clicked(b):\n",
    "        self.restart()\n",
    "        self.play_loop(ai=ai, ax=ax, params=params, verbose=verbose, gui=gui)           \n",
    "        \n",
    "    # イベントハンドラをリセットボタンに結びつける\n",
    "    button.on_click(on_button_clicked)\n",
    "\n",
    "    # gui が True の場合に、ゲーム盤を描画する画像を作成し、イベントハンドラに結びつける\n",
    "    if gui:\n",
    "        fig, ax = plt.subplots(figsize=[size, size])\n",
    "        fig.canvas.toolbar_visible = False\n",
    "        fig.canvas.header_visible = False\n",
    "        fig.canvas.footer_visible = False\n",
    "        fig.canvas.resizable = False          \n",
    "        \n",
    "        # ローカル関数としてイベントハンドラを定義する\n",
    "        def on_mouse_down(event):\n",
    "            # Axes の上でマウスを押していた場合のみ処理を行う\n",
    "            if event.inaxes and self.status == Marubatsu.PLAYING:\n",
    "                x = math.floor(event.xdata)\n",
    "                y = math.floor(event.ydata)\n",
    "                self.move(x, y)                \n",
    "                self.draw_board(ax)\n",
    "\n",
    "                # 次の手番の処理を行うメソッドを呼び出す\n",
    "                self.play_loop(ai=ai, ax=ax, params=params, verbose=verbose, gui=gui)\n",
    "                \n",
    "        # fig の画像にマウスを押した際のイベントハンドラを結び付ける\n",
    "        fig.canvas.mpl_connect(\"button_press_event\", on_mouse_down)     \n",
    "\n",
    "    self.restart()\n",
    "    return self.play_loop(ai=ai, ax=ax, params=params, verbose=verbose, gui=gui)\n",
    "\n",
    "Marubatsu.play = play"
   ]
  },
  {
   "cell_type": "code",
   "execution_count": 13,
   "metadata": {},
   "outputs": [
    {
     "data": {
      "application/vnd.jupyter.widget-view+json": {
       "model_id": "2138525cca3c41039f96ba9b60f6cbf2",
       "version_major": 2,
       "version_minor": 0
      },
      "text/plain": [
       "HBox(children=(Dropdown(description='〇', layout=Layout(width='100px'), options=(('人間', None), ('ai1s', <functi…"
      ]
     },
     "metadata": {},
     "output_type": "display_data"
    },
    {
     "data": {
      "application/vnd.jupyter.widget-view+json": {
       "model_id": "2edadfea933a495386f55bc24005f5de",
       "version_major": 2,
       "version_minor": 0
      },
      "image/png": "[encoded data removed]",
      "text/html": [
       "\n",
       "            <div style=\"display: inline-block;\">\n",
       "                <div class=\"jupyter-widgets widget-label\" style=\"text-align: center;\">\n",
       "                    Figure\n",
       "                </div>\n",
       "                <img src='data:image/png;base64,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' width=300.0/>\n",
       "            </div>\n",
       "        "
      ],
      "text/plain": [
       "Canvas(footer_visible=False, header_visible=False, resizable=False, toolbar=Toolbar(toolitems=[('Home', 'Reset…"
      ]
     },
     "metadata": {},
     "output_type": "display_data"
    }
   ],
   "source": [
    "mb.play(ai=[None, ai1s],  gui=True)"
   ]
  },
  {
   "cell_type": "code",
   "execution_count": 14,
   "metadata": {},
   "outputs": [],
   "source": [
    "def play(self, ai, ai_list=[], params=[{}, {}], verbose=True, seed=None, gui=False, size=3):      \n",
    "    # seed が None でない場合は、seed を乱数の種として設定する\n",
    "    if seed is not None:\n",
    "        random.seed(seed)\n",
    "    \n",
    "    # ai_list から、項目だけを取り出した list を作成する\n",
    "    ai_values = [value for label, value in ai_list]\n",
    "    # ai に代入されている内容を ai_list に追加する\n",
    "    for i in range(2):\n",
    "        # ai[i] が ai_values に登録済かどうかを判定する\n",
    "        if ai[i] not in ai_values:\n",
    "            # ラベルと項目の値を計算する\n",
    "            if ai[i] is None:\n",
    "                label = \"人間\"\n",
    "                value = \"人間\"\n",
    "            else:\n",
    "                label = ai[i].__name__        \n",
    "                value = ai[i]\n",
    "            # 項目を登録する\n",
    "            ai_list.append((label, value))\n",
    "            ai_values.append(value)\n",
    "    \n",
    "    # 〇 と × の Dropdown を作成する   \n",
    "    dropdown_circle = widgets.Dropdown(\n",
    "        options=ai_list,\n",
    "        description=\"〇\",\n",
    "        layout=widgets.Layout(width=\"100px\"),\n",
    "        style={\"description_width\": \"20px\"},\n",
    "        value=ai[0],\n",
    "    )\n",
    "    dropdown_cross = widgets.Dropdown(\n",
    "        options=ai_list,\n",
    "        description=\"×\",\n",
    "        layout=widgets.Layout(width=\"100px\"),\n",
    "        style={\"description_width\": \"20px\"},\n",
    "        value=ai[1],\n",
    "    )       \n",
    "    \n",
    "    # リセットボタンを作成する\n",
    "    button = widgets.Button(\n",
    "        description=\"リセット\",\n",
    "        layout=widgets.Layout(width=\"100px\"),\n",
    "    )\n",
    "    \n",
    "    # 〇 と × の dropdown と リセットボタンを横に配置した HBox を作成し、表示する\n",
    "    hbox = widgets.HBox([dropdown_circle, dropdown_cross, button])\n",
    "    display(hbox)\n",
    "    \n",
    "    # リセットボタンのイベントハンドラを定義する\n",
    "    def on_button_clicked(b):\n",
    "        self.restart()\n",
    "        self.play_loop(ai=ai, ax=ax, params=params, verbose=verbose, gui=gui)           \n",
    "        \n",
    "    # イベントハンドラをリセットボタンに結びつける\n",
    "    button.on_click(on_button_clicked)\n",
    "\n",
    "    # gui が True の場合に、ゲーム盤を描画する画像を作成し、イベントハンドラに結びつける\n",
    "    if gui:\n",
    "        fig, ax = plt.subplots(figsize=[size, size])\n",
    "        fig.canvas.toolbar_visible = False\n",
    "        fig.canvas.header_visible = False\n",
    "        fig.canvas.footer_visible = False\n",
    "        fig.canvas.resizable = False          \n",
    "        \n",
    "        # ローカル関数としてイベントハンドラを定義する\n",
    "        def on_mouse_down(event):\n",
    "            # Axes の上でマウスを押していた場合のみ処理を行う\n",
    "            if event.inaxes and self.status == Marubatsu.PLAYING:\n",
    "                x = math.floor(event.xdata)\n",
    "                y = math.floor(event.ydata)\n",
    "                self.move(x, y)                \n",
    "                self.draw_board(ax)\n",
    "\n",
    "                # 次の手番の処理を行うメソッドを呼び出す\n",
    "                self.play_loop(ai=ai, ax=ax, params=params, verbose=verbose, gui=gui)\n",
    "                \n",
    "        # fig の画像にマウスを押した際のイベントハンドラを結び付ける\n",
    "        fig.canvas.mpl_connect(\"button_press_event\", on_mouse_down)     \n",
    "\n",
    "    self.restart()\n",
    "    return self.play_loop(ai=ai, ax=ax, params=params, verbose=verbose, gui=gui)\n",
    "\n",
    "Marubatsu.play = play"
   ]
  },
  {
   "cell_type": "code",
   "execution_count": 15,
   "metadata": {},
   "outputs": [
    {
     "data": {
      "application/vnd.jupyter.widget-view+json": {
       "model_id": "a86106006cb94cffbe57a3c8a9af2d28",
       "version_major": 2,
       "version_minor": 0
      },
      "text/plain": [
       "HBox(children=(Dropdown(description='〇', layout=Layout(width='100px'), options=(('人間', '人間'), ('ai1s', <functi…"
      ]
     },
     "metadata": {},
     "output_type": "display_data"
    },
    {
     "data": {
      "application/vnd.jupyter.widget-view+json": {
       "model_id": "b623afaa25184b319f3c9872743be9ea",
       "version_major": 2,
       "version_minor": 0
      },
      "image/png": "[encoded data removed]",
      "text/html": [
       "\n",
       "            <div style=\"display: inline-block;\">\n",
       "                <div class=\"jupyter-widgets widget-label\" style=\"text-align: center;\">\n",
       "                    Figure\n",
       "                </div>\n",
       "                <img src='data:image/png;base64,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' width=300.0/>\n",
       "            </div>\n",
       "        "
      ],
      "text/plain": [
       "Canvas(footer_visible=False, header_visible=False, resizable=False, toolbar=Toolbar(toolitems=[('Home', 'Reset…"
      ]
     },
     "metadata": {},
     "output_type": "display_data"
    }
   ],
   "source": [
    "mb.play(ai=[None, ai1s],  gui=True)"
   ]
  },
  {
   "cell_type": "code",
   "execution_count": 16,
   "metadata": {},
   "outputs": [],
   "source": [
    "def play(self, ai, ai_list=[], params=[{}, {}], verbose=True, seed=None, gui=False, size=3):      \n",
    "    # seed が None でない場合は、seed を乱数の種として設定する\n",
    "    if seed is not None:\n",
    "        random.seed(seed)\n",
    "    \n",
    "    # ai_list から、項目だけを取り出した list を作成する\n",
    "    ai_values = [value for label, value in ai_list]\n",
    "    # それぞれの手番の担当を表す Dropdown の項目の値を記録する list を初期化する\n",
    "    select_values = []\n",
    "    # ai に代入されている内容を ai_list に追加する\n",
    "    for i in range(2):\n",
    "        # ai[i] が ai_values に登録済かどうかを判定する\n",
    "        if ai[i] not in ai_values:\n",
    "            # ラベルと項目の値を計算する\n",
    "            if ai[i] is None:\n",
    "                label = \"人間\"\n",
    "                value = \"人間\"\n",
    "            else:\n",
    "                label = ai[i].__name__        \n",
    "                value = ai[i]\n",
    "            # 項目を登録する\n",
    "            ai_list.append((label, value))\n",
    "            ai_values.append(value)\n",
    "            select_values.append(value)\n",
    "    \n",
    "    # 〇 と × の Dropdown を作成する   \n",
    "    dropdown_circle = widgets.Dropdown(\n",
    "        options=ai_list,\n",
    "        description=\"〇\",\n",
    "        layout=widgets.Layout(width=\"100px\"),\n",
    "        style={\"description_width\": \"20px\"},\n",
    "        value=select_values[0],\n",
    "    )\n",
    "    dropdown_cross = widgets.Dropdown(\n",
    "        options=ai_list,\n",
    "        description=\"×\",\n",
    "        layout=widgets.Layout(width=\"100px\"),\n",
    "        style={\"description_width\": \"20px\"},\n",
    "        value=select_values[1],\n",
    "    )       \n",
    "    \n",
    "    # リセットボタンを作成する\n",
    "    button = widgets.Button(\n",
    "        description=\"リセット\",\n",
    "        layout=widgets.Layout(width=\"100px\"),\n",
    "    )\n",
    "    \n",
    "    # 〇 と × の dropdown と リセットボタンを横に配置した HBox を作成し、表示する\n",
    "    hbox = widgets.HBox([dropdown_circle, dropdown_cross, button])\n",
    "    display(hbox)\n",
    "    \n",
    "    # リセットボタンのイベントハンドラを定義する\n",
    "    def on_button_clicked(b):\n",
    "        self.restart()\n",
    "        self.play_loop(ai=ai, ax=ax, params=params, verbose=verbose, gui=gui)           \n",
    "        \n",
    "    # イベントハンドラをリセットボタンに結びつける\n",
    "    button.on_click(on_button_clicked)\n",
    "\n",
    "    # gui が True の場合に、ゲーム盤を描画する画像を作成し、イベントハンドラに結びつける\n",
    "    if gui:\n",
    "        fig, ax = plt.subplots(figsize=[size, size])\n",
    "        fig.canvas.toolbar_visible = False\n",
    "        fig.canvas.header_visible = False\n",
    "        fig.canvas.footer_visible = False\n",
    "        fig.canvas.resizable = False          \n",
    "        \n",
    "        # ローカル関数としてイベントハンドラを定義する\n",
    "        def on_mouse_down(event):\n",
    "            # Axes の上でマウスを押していた場合のみ処理を行う\n",
    "            if event.inaxes and self.status == Marubatsu.PLAYING:\n",
    "                x = math.floor(event.xdata)\n",
    "                y = math.floor(event.ydata)\n",
    "                self.move(x, y)                \n",
    "                self.draw_board(ax)\n",
    "\n",
    "                # 次の手番の処理を行うメソッドを呼び出す\n",
    "                self.play_loop(ai=ai, ax=ax, params=params, verbose=verbose, gui=gui)\n",
    "                \n",
    "        # fig の画像にマウスを押した際のイベントハンドラを結び付ける\n",
    "        fig.canvas.mpl_connect(\"button_press_event\", on_mouse_down)     \n",
    "\n",
    "    self.restart()\n",
    "    return self.play_loop(ai=ai, ax=ax, params=params, verbose=verbose, gui=gui)\n",
    "\n",
    "Marubatsu.play = play"
   ]
  },
  {
   "cell_type": "code",
   "execution_count": 17,
   "metadata": {},
   "outputs": [
    {
     "data": {
      "application/vnd.jupyter.widget-view+json": {
       "model_id": "155a8b3bffb24c01ae7cb4624e7b29a8",
       "version_major": 2,
       "version_minor": 0
      },
      "text/plain": [
       "HBox(children=(Dropdown(description='〇', layout=Layout(width='100px'), options=(('人間', '人間'), ('ai1s', <functi…"
      ]
     },
     "metadata": {},
     "output_type": "display_data"
    },
    {
     "data": {
      "application/vnd.jupyter.widget-view+json": {
       "model_id": "75c22c92c5aa4a26b2e73c4ed4c9056e",
       "version_major": 2,
       "version_minor": 0
      },
      "image/png": "[encoded data removed]",
      "text/html": [
       "\n",
       "            <div style=\"display: inline-block;\">\n",
       "                <div class=\"jupyter-widgets widget-label\" style=\"text-align: center;\">\n",
       "                    Figure\n",
       "                </div>\n",
       "                <img src='data:image/png;base64,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' width=300.0/>\n",
       "            </div>\n",
       "        "
      ],
      "text/plain": [
       "Canvas(footer_visible=False, header_visible=False, resizable=False, toolbar=Toolbar(toolitems=[('Home', 'Reset…"
      ]
     },
     "metadata": {},
     "output_type": "display_data"
    }
   ],
   "source": [
    "mb.play(ai=[None, ai1s], gui=True)"
   ]
  }
 ],
 "metadata": {
  "kernelspec": {
   "display_name": "marubatsu",
   "language": "python",
   "name": "python3"
  },
  "language_info": {
   "codemirror_mode": {
    "name": "ipython",
    "version": 3
   },
   "file_extension": ".py",
   "mimetype": "text/x-python",
   "name": "python",
   "nbconvert_exporter": "python",
   "pygments_lexer": "ipython3",
   "version": "3.11.4"
  }
 },
 "nbformat": 4,
 "nbformat_minor": 2
}
