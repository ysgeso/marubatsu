{
 "cells": [
  {
   "cell_type": "code",
   "execution_count": 1,
   "metadata": {},
   "outputs": [],
   "source": [
    "from collections import namedtuple"
   ]
  },
  {
   "cell_type": "code",
   "execution_count": 2,
   "metadata": {},
   "outputs": [],
   "source": [
    "Markpat = namedtuple(\"Markpat\", [ \"last_turn\", \"turn\", \"empty\" ])"
   ]
  },
  {
   "cell_type": "code",
   "execution_count": 3,
   "metadata": {},
   "outputs": [],
   "source": [
    "Markpat = namedtuple(\"Markpat\", \"last_turn turn empty\")\n",
    "Markpat = namedtuple(\"Markpat\", \"last_turn, turn, empty\")"
   ]
  },
  {
   "cell_type": "code",
   "execution_count": 4,
   "metadata": {},
   "outputs": [
    {
     "ename": "ValueError",
     "evalue": "Type names and field names must be valid identifiers: '0Markpat'",
     "output_type": "error",
     "traceback": [
      "\u001b[1;31m---------------------------------------------------------------------------\u001b[0m",
      "\u001b[1;31mValueError\u001b[0m                                Traceback (most recent call last)",
      "Cell \u001b[1;32mIn[4], line 2\u001b[0m\n\u001b[0;32m      1\u001b[0m \u001b[38;5;66;03m# typename の名前がアラビア数字で始まっている\u001b[39;00m\n\u001b[1;32m----> 2\u001b[0m namedtuple(\u001b[38;5;124m\"\u001b[39m\u001b[38;5;124m0Markpat\u001b[39m\u001b[38;5;124m\"\u001b[39m, [\u001b[38;5;124m\"\u001b[39m\u001b[38;5;124mlast_turn\u001b[39m\u001b[38;5;124m\"\u001b[39m, \u001b[38;5;124m\"\u001b[39m\u001b[38;5;124mturn\u001b[39m\u001b[38;5;124m\"\u001b[39m, \u001b[38;5;124m\"\u001b[39m\u001b[38;5;124mempty\u001b[39m\u001b[38;5;124m\"\u001b[39m])\n",
      "File \u001b[1;32mc:\\Users\\ys\\Anaconda3\\envs\\marubatsu\\Lib\\collections\\__init__.py:393\u001b[0m, in \u001b[0;36mnamedtuple\u001b[1;34m(typename, field_names, rename, defaults, module)\u001b[0m\n\u001b[0;32m    391\u001b[0m     \u001b[38;5;28;01mraise\u001b[39;00m \u001b[38;5;167;01mTypeError\u001b[39;00m(\u001b[38;5;124m'\u001b[39m\u001b[38;5;124mType names and field names must be strings\u001b[39m\u001b[38;5;124m'\u001b[39m)\n\u001b[0;32m    392\u001b[0m \u001b[38;5;28;01mif\u001b[39;00m \u001b[38;5;129;01mnot\u001b[39;00m name\u001b[38;5;241m.\u001b[39misidentifier():\n\u001b[1;32m--> 393\u001b[0m     \u001b[38;5;28;01mraise\u001b[39;00m \u001b[38;5;167;01mValueError\u001b[39;00m(\u001b[38;5;124m'\u001b[39m\u001b[38;5;124mType names and field names must be valid \u001b[39m\u001b[38;5;124m'\u001b[39m\n\u001b[0;32m    394\u001b[0m                      \u001b[38;5;124mf\u001b[39m\u001b[38;5;124m'\u001b[39m\u001b[38;5;124midentifiers: \u001b[39m\u001b[38;5;132;01m{\u001b[39;00mname\u001b[38;5;132;01m!r}\u001b[39;00m\u001b[38;5;124m'\u001b[39m)\n\u001b[0;32m    395\u001b[0m \u001b[38;5;28;01mif\u001b[39;00m _iskeyword(name):\n\u001b[0;32m    396\u001b[0m     \u001b[38;5;28;01mraise\u001b[39;00m \u001b[38;5;167;01mValueError\u001b[39;00m(\u001b[38;5;124m'\u001b[39m\u001b[38;5;124mType names and field names cannot be a \u001b[39m\u001b[38;5;124m'\u001b[39m\n\u001b[0;32m    397\u001b[0m                      \u001b[38;5;124mf\u001b[39m\u001b[38;5;124m'\u001b[39m\u001b[38;5;124mkeyword: \u001b[39m\u001b[38;5;132;01m{\u001b[39;00mname\u001b[38;5;132;01m!r}\u001b[39;00m\u001b[38;5;124m'\u001b[39m)\n",
      "\u001b[1;31mValueError\u001b[0m: Type names and field names must be valid identifiers: '0Markpat'"
     ]
    }
   ],
   "source": [
    "# typename の名前がアラビア数字で始まっている\n",
    "namedtuple(\"0Markpat\", [\"last_turn\", \"turn\", \"empty\"]) "
   ]
  },
  {
   "cell_type": "code",
   "execution_count": 5,
   "metadata": {},
   "outputs": [
    {
     "ename": "ValueError",
     "evalue": "Field names cannot start with an underscore: '_last_turn'",
     "output_type": "error",
     "traceback": [
      "\u001b[1;31m---------------------------------------------------------------------------\u001b[0m",
      "\u001b[1;31mValueError\u001b[0m                                Traceback (most recent call last)",
      "Cell \u001b[1;32mIn[5], line 1\u001b[0m\n\u001b[1;32m----> 1\u001b[0m namedtuple(\u001b[38;5;124m\"\u001b[39m\u001b[38;5;124mMarkpat\u001b[39m\u001b[38;5;124m\"\u001b[39m, [\u001b[38;5;124m\"\u001b[39m\u001b[38;5;124m_last_turn\u001b[39m\u001b[38;5;124m\"\u001b[39m, \u001b[38;5;124m\"\u001b[39m\u001b[38;5;124mturn\u001b[39m\u001b[38;5;124m\"\u001b[39m, \u001b[38;5;124m\"\u001b[39m\u001b[38;5;124mempty\u001b[39m\u001b[38;5;124m\"\u001b[39m])\n",
      "File \u001b[1;32mc:\\Users\\ys\\Anaconda3\\envs\\marubatsu\\Lib\\collections\\__init__.py:402\u001b[0m, in \u001b[0;36mnamedtuple\u001b[1;34m(typename, field_names, rename, defaults, module)\u001b[0m\n\u001b[0;32m    400\u001b[0m \u001b[38;5;28;01mfor\u001b[39;00m name \u001b[38;5;129;01min\u001b[39;00m field_names:\n\u001b[0;32m    401\u001b[0m     \u001b[38;5;28;01mif\u001b[39;00m name\u001b[38;5;241m.\u001b[39mstartswith(\u001b[38;5;124m'\u001b[39m\u001b[38;5;124m_\u001b[39m\u001b[38;5;124m'\u001b[39m) \u001b[38;5;129;01mand\u001b[39;00m \u001b[38;5;129;01mnot\u001b[39;00m rename:\n\u001b[1;32m--> 402\u001b[0m         \u001b[38;5;28;01mraise\u001b[39;00m \u001b[38;5;167;01mValueError\u001b[39;00m(\u001b[38;5;124m'\u001b[39m\u001b[38;5;124mField names cannot start with an underscore: \u001b[39m\u001b[38;5;124m'\u001b[39m\n\u001b[0;32m    403\u001b[0m                          \u001b[38;5;124mf\u001b[39m\u001b[38;5;124m'\u001b[39m\u001b[38;5;132;01m{\u001b[39;00mname\u001b[38;5;132;01m!r}\u001b[39;00m\u001b[38;5;124m'\u001b[39m)\n\u001b[0;32m    404\u001b[0m     \u001b[38;5;28;01mif\u001b[39;00m name \u001b[38;5;129;01min\u001b[39;00m seen:\n\u001b[0;32m    405\u001b[0m         \u001b[38;5;28;01mraise\u001b[39;00m \u001b[38;5;167;01mValueError\u001b[39;00m(\u001b[38;5;124mf\u001b[39m\u001b[38;5;124m'\u001b[39m\u001b[38;5;124mEncountered duplicate field name: \u001b[39m\u001b[38;5;132;01m{\u001b[39;00mname\u001b[38;5;132;01m!r}\u001b[39;00m\u001b[38;5;124m'\u001b[39m)\n",
      "\u001b[1;31mValueError\u001b[0m: Field names cannot start with an underscore: '_last_turn'"
     ]
    }
   ],
   "source": [
    "namedtuple(\"Markpat\", [\"_last_turn\", \"turn\", \"empty\"]) "
   ]
  },
  {
   "cell_type": "code",
   "execution_count": 6,
   "metadata": {},
   "outputs": [
    {
     "name": "stdout",
     "output_type": "stream",
     "text": [
      "Markpat(last_turn=2, turn=0, empty=1)\n",
      "Markpat(last_turn=2, turn=0, empty=1)\n",
      "Markpat(last_turn=2, turn=0, empty=1)\n",
      "Markpat(last_turn=2, turn=0, empty=1)\n",
      "Markpat(last_turn=2, turn=0, empty=1)\n"
     ]
    }
   ],
   "source": [
    "print(Markpat(2, 0, 1))\n",
    "print(Markpat(2, 0, empty=1))\n",
    "print(Markpat(2, turn=0, empty=1))\n",
    "print(Markpat(last_turn=2, turn=0, empty=1))\n",
    "print(Markpat(empty=1, last_turn=2, turn=0))"
   ]
  },
  {
   "cell_type": "code",
   "execution_count": 7,
   "metadata": {},
   "outputs": [
    {
     "name": "stdout",
     "output_type": "stream",
     "text": [
      "Markpat2(last_turn=0, turn=1, empty=2)\n"
     ]
    }
   ],
   "source": [
    "Markpat3 = namedtuple(\"Markpat2\", [ \"last_turn\", \"turn\", \"empty\" ])\n",
    "print(Markpat3(0, 1, 2))"
   ]
  },
  {
   "cell_type": "code",
   "execution_count": 8,
   "metadata": {},
   "outputs": [
    {
     "ename": "TypeError",
     "evalue": "Markpat.__new__() missing 1 required positional argument: 'empty'",
     "output_type": "error",
     "traceback": [
      "\u001b[1;31m---------------------------------------------------------------------------\u001b[0m",
      "\u001b[1;31mTypeError\u001b[0m                                 Traceback (most recent call last)",
      "Cell \u001b[1;32mIn[8], line 1\u001b[0m\n\u001b[1;32m----> 1\u001b[0m \u001b[38;5;28mprint\u001b[39m(Markpat(\u001b[38;5;241m0\u001b[39m, \u001b[38;5;241m1\u001b[39m))\n",
      "\u001b[1;31mTypeError\u001b[0m: Markpat.__new__() missing 1 required positional argument: 'empty'"
     ]
    }
   ],
   "source": [
    "print(Markpat(0, 1))"
   ]
  },
  {
   "cell_type": "code",
   "execution_count": 9,
   "metadata": {},
   "outputs": [
    {
     "ename": "TypeError",
     "evalue": "Markpat.__new__() takes 4 positional arguments but 5 were given",
     "output_type": "error",
     "traceback": [
      "\u001b[1;31m---------------------------------------------------------------------------\u001b[0m",
      "\u001b[1;31mTypeError\u001b[0m                                 Traceback (most recent call last)",
      "Cell \u001b[1;32mIn[9], line 1\u001b[0m\n\u001b[1;32m----> 1\u001b[0m \u001b[38;5;28mprint\u001b[39m(Markpat(\u001b[38;5;241m0\u001b[39m, \u001b[38;5;241m1\u001b[39m, \u001b[38;5;241m2\u001b[39m, \u001b[38;5;241m3\u001b[39m))\n",
      "\u001b[1;31mTypeError\u001b[0m: Markpat.__new__() takes 4 positional arguments but 5 were given"
     ]
    }
   ],
   "source": [
    "print(Markpat(0, 1, 2, 3))"
   ]
  },
  {
   "cell_type": "code",
   "execution_count": 10,
   "metadata": {},
   "outputs": [
    {
     "name": "stdout",
     "output_type": "stream",
     "text": [
      "Point(x=1, y=2)\n",
      "Point(x=3, y=2)\n",
      "Point(x=4, y=5)\n"
     ]
    }
   ],
   "source": [
    "Point = namedtuple(\"Point\", [\"x\", \"y\"], defaults=[1, 2])\n",
    "\n",
    "# 実引数が記述されていないので、両方の要素が、デフォルト値である 1 と 2 に設定される\n",
    "print(Point())       \n",
    "# 1 つ目の要素が実引数に記述された 3 に、2 つ目の要素がデフォルト値である 2 に設定される\n",
    "print(Point(3))      \n",
    "# 2 つの要素が、実引数に記述された 4 と 5 に設定される\n",
    "print(Point(4, 5))   "
   ]
  },
  {
   "cell_type": "code",
   "execution_count": 11,
   "metadata": {},
   "outputs": [
    {
     "name": "stdout",
     "output_type": "stream",
     "text": [
      "Point3D(x=3, y=1, z=2)\n",
      "Point3D(x=4, y=5, z=2)\n",
      "Point3D(x=6, y=7, z=8)\n"
     ]
    }
   ],
   "source": [
    "Point3D = namedtuple(\"Point3D\", [\"x\", \"y\", \"z\"], defaults=[1, 2])\n",
    "\n",
    "print(Point3D(3))\n",
    "print(Point3D(4, 5))\n",
    "print(Point3D(6, 7, 8))"
   ]
  },
  {
   "cell_type": "code",
   "execution_count": 12,
   "metadata": {},
   "outputs": [
    {
     "ename": "TypeError",
     "evalue": "Point3D.__new__() missing 1 required positional argument: 'x'",
     "output_type": "error",
     "traceback": [
      "\u001b[1;31m---------------------------------------------------------------------------\u001b[0m",
      "\u001b[1;31mTypeError\u001b[0m                                 Traceback (most recent call last)",
      "Cell \u001b[1;32mIn[12], line 1\u001b[0m\n\u001b[1;32m----> 1\u001b[0m \u001b[38;5;28mprint\u001b[39m(Point3D())\n",
      "\u001b[1;31mTypeError\u001b[0m: Point3D.__new__() missing 1 required positional argument: 'x'"
     ]
    }
   ],
   "source": [
    "print(Point3D())"
   ]
  },
  {
   "cell_type": "code",
   "execution_count": 13,
   "metadata": {},
   "outputs": [
    {
     "name": "stdout",
     "output_type": "stream",
     "text": [
      "2 0 1\n"
     ]
    }
   ],
   "source": [
    "mp = Markpat(2, 0, 1)\n",
    "print(mp[0], mp[1], mp[2])"
   ]
  },
  {
   "cell_type": "code",
   "execution_count": 14,
   "metadata": {},
   "outputs": [
    {
     "name": "stdout",
     "output_type": "stream",
     "text": [
      "2 0 1\n"
     ]
    }
   ],
   "source": [
    "mp = Markpat(2, 0, 1)\n",
    "last_turn, turn, empty = mp\n",
    "print(last_turn, turn, empty)"
   ]
  },
  {
   "cell_type": "code",
   "execution_count": 15,
   "metadata": {},
   "outputs": [
    {
     "name": "stdout",
     "output_type": "stream",
     "text": [
      "2 0 1\n"
     ]
    }
   ],
   "source": [
    "mp = Markpat(2, 0, 1)\n",
    "print(mp.last_turn, mp.turn, mp.empty)"
   ]
  },
  {
   "cell_type": "code",
   "execution_count": 16,
   "metadata": {},
   "outputs": [
    {
     "ename": "TypeError",
     "evalue": "tuple indices must be integers or slices, not str",
     "output_type": "error",
     "traceback": [
      "\u001b[1;31m---------------------------------------------------------------------------\u001b[0m",
      "\u001b[1;31mTypeError\u001b[0m                                 Traceback (most recent call last)",
      "Cell \u001b[1;32mIn[16], line 2\u001b[0m\n\u001b[0;32m      1\u001b[0m mp \u001b[38;5;241m=\u001b[39m Markpat(\u001b[38;5;241m2\u001b[39m, \u001b[38;5;241m0\u001b[39m, \u001b[38;5;241m1\u001b[39m)\n\u001b[1;32m----> 2\u001b[0m \u001b[38;5;28mprint\u001b[39m(mp[\u001b[38;5;124m\"\u001b[39m\u001b[38;5;124mlast_turn\u001b[39m\u001b[38;5;124m\"\u001b[39m])\n",
      "\u001b[1;31mTypeError\u001b[0m: tuple indices must be integers or slices, not str"
     ]
    }
   ],
   "source": [
    "mp = Markpat(2, 0, 1)\n",
    "print(mp[\"last_turn\"])"
   ]
  },
  {
   "cell_type": "code",
   "execution_count": 17,
   "metadata": {},
   "outputs": [
    {
     "name": "stdout",
     "output_type": "stream",
     "text": [
      "2\n"
     ]
    }
   ],
   "source": [
    "mp = Markpat(2, 0, 1)\n",
    "name = \"last_turn\"\n",
    "print(getattr(mp, name))"
   ]
  },
  {
   "cell_type": "code",
   "execution_count": 18,
   "metadata": {},
   "outputs": [],
   "source": [
    "from marubatsu import Marubatsu\n",
    "from collections import defaultdict\n",
    "\n",
    "def count_marks(self, coord, dx, dy, datatype=\"dict\"):     \n",
    "    x, y = coord   \n",
    "    count = defaultdict(int)\n",
    "    for _ in range(self.BOARD_SIZE):\n",
    "        count[self.board[x][y]] += 1\n",
    "        x += dx\n",
    "        y += dy\n",
    "\n",
    "    if datatype == \"dict\":\n",
    "        return count\n",
    "    else:\n",
    "        return Markpat(count[self.last_turn], count[self.turn], count[Marubatsu.EMPTY])\n",
    "\n",
    "Marubatsu.count_marks = count_marks"
   ]
  },
  {
   "cell_type": "code",
   "execution_count": 19,
   "metadata": {},
   "outputs": [
    {
     "name": "stdout",
     "output_type": "stream",
     "text": [
      "ai8s VS ai2\n",
      "count     win    lose    draw\n",
      "o        9843      11     146\n",
      "x        8926     234     840\n",
      "total   18769     245     986\n",
      "\n",
      "ratio     win    lose    draw\n",
      "o       98.4%    0.1%    1.5%\n",
      "x       89.3%    2.3%    8.4%\n",
      "total   93.8%    1.2%    4.9%\n",
      "\n"
     ]
    }
   ],
   "source": [
    "from ai import ai_match, ai2, ai7s, ai8s\n",
    "\n",
    "ai_match(ai=[ai8s, ai2])"
   ]
  },
  {
   "cell_type": "code",
   "execution_count": 20,
   "metadata": {},
   "outputs": [
    {
     "name": "stdout",
     "output_type": "stream",
     "text": [
      "ai8s VS ai7s\n",
      "count     win    lose    draw\n",
      "o        3313     393    6294\n",
      "x         377    2923    6700\n",
      "total    3690    3316   12994\n",
      "\n",
      "ratio     win    lose    draw\n",
      "o       33.1%    3.9%   62.9%\n",
      "x        3.8%   29.2%   67.0%\n",
      "total   18.4%   16.6%   65.0%\n",
      "\n"
     ]
    }
   ],
   "source": [
    "ai_match(ai=[ai8s, ai7s])"
   ]
  },
  {
   "cell_type": "code",
   "execution_count": 21,
   "metadata": {},
   "outputs": [],
   "source": [
    "from ai import ai_by_score\n",
    "\n",
    "def ai8s(mb, debug=False):\n",
    "    def eval_func(mb):\n",
    "        # 真ん中のマスに着手している場合は、評価値として 2 を返す\n",
    "        if mb.last_move == (1, 1):\n",
    "            return 3\n",
    "    \n",
    "        # 自分が勝利している場合は、評価値として 1 を返す\n",
    "        if mb.status == mb.last_turn:\n",
    "            return 2\n",
    "\n",
    "        markpats = mb.enum_markpats()\n",
    "        # 相手が勝利できる場合は評価値として -1 を返す\n",
    "        if Markpat(last_turn=0, turn=2, empty=1) in markpats:\n",
    "            return -1\n",
    "        # 次の自分の手番で自分が勝利できる場合は評価値として 1 を返す\n",
    "        elif Markpat(last_turn=2, turn=0, empty=1) in markpats:\n",
    "            return 1\n",
    "        # それ以外の場合は評価値として 0 を返す\n",
    "        else:\n",
    "            return 0\n",
    "\n",
    "    return ai_by_score(mb, eval_func, debug=debug) "
   ]
  },
  {
   "cell_type": "code",
   "execution_count": 22,
   "metadata": {},
   "outputs": [
    {
     "name": "stdout",
     "output_type": "stream",
     "text": [
      "ai8s VS ai2\n"
     ]
    },
    {
     "name": "stdout",
     "output_type": "stream",
     "text": [
      "count     win    lose    draw\n",
      "o        9820       9     171\n",
      "x        8910     245     845\n",
      "total   18730     254    1016\n",
      "\n",
      "ratio     win    lose    draw\n",
      "o       98.2%    0.1%    1.7%\n",
      "x       89.1%    2.5%    8.5%\n",
      "total   93.7%    1.3%    5.1%\n",
      "\n"
     ]
    }
   ],
   "source": [
    "ai_match(ai=[ai8s, ai2])"
   ]
  },
  {
   "cell_type": "code",
   "execution_count": 23,
   "metadata": {},
   "outputs": [
    {
     "name": "stdout",
     "output_type": "stream",
     "text": [
      "ai8s VS ai7s\n",
      "count     win    lose    draw\n",
      "o        3317     431    6252\n",
      "x         386    2961    6653\n",
      "total    3703    3392   12905\n",
      "\n",
      "ratio     win    lose    draw\n",
      "o       33.2%    4.3%   62.5%\n",
      "x        3.9%   29.6%   66.5%\n",
      "total   18.5%   17.0%   64.5%\n",
      "\n"
     ]
    }
   ],
   "source": [
    "ai_match(ai=[ai8s, ai7s])"
   ]
  },
  {
   "cell_type": "code",
   "execution_count": 24,
   "metadata": {},
   "outputs": [],
   "source": [
    "from typing import NamedTuple"
   ]
  },
  {
   "cell_type": "code",
   "execution_count": 25,
   "metadata": {},
   "outputs": [],
   "source": [
    "class Markpat(NamedTuple):   \n",
    "    last_turn: int\n",
    "    turn: int\n",
    "    empty: int"
   ]
  },
  {
   "cell_type": "code",
   "execution_count": 26,
   "metadata": {},
   "outputs": [],
   "source": [
    "class Markpat(NamedTuple):\n",
    "    \"\"\"マークのパターン.\n",
    "    \n",
    "    Attributes:\n",
    "        last_turn (int):\n",
    "            直前のターンのマークの数\n",
    "        turn (int):\n",
    "            現在のターンのマークの数\n",
    "        empty (int):\n",
    "            空のマスの数\n",
    "    \"\"\"\n",
    "    \n",
    "    last_turn: int\n",
    "    turn: int\n",
    "    empty: int"
   ]
  },
  {
   "cell_type": "code",
   "execution_count": 27,
   "metadata": {},
   "outputs": [
    {
     "name": "stdout",
     "output_type": "stream",
     "text": [
      "Markpat(last_turn=2, turn=0, empty=1)\n",
      "Markpat(last_turn=2, turn=0, empty=1)\n",
      "Markpat(last_turn=2, turn=0, empty=1)\n",
      "Markpat(last_turn=2, turn=0, empty=1)\n",
      "Markpat(last_turn=2, turn=0, empty=1)\n"
     ]
    }
   ],
   "source": [
    "print(Markpat(2, 0, 1))\n",
    "print(Markpat(2, 0, empty=1))\n",
    "print(Markpat(2, turn=0, empty=1))\n",
    "print(Markpat(last_turn=2, turn=0, empty=1))\n",
    "print(Markpat(empty=1, last_turn=2, turn=0))"
   ]
  },
  {
   "cell_type": "code",
   "execution_count": 28,
   "metadata": {},
   "outputs": [
    {
     "name": "stdout",
     "output_type": "stream",
     "text": [
      "ai8s VS ai2\n",
      "count     win    lose    draw\n",
      "o        9845       6     149\n",
      "x        8930     236     834\n",
      "total   18775     242     983\n",
      "\n",
      "ratio     win    lose    draw\n",
      "o       98.5%    0.1%    1.5%\n",
      "x       89.3%    2.4%    8.3%\n",
      "total   93.9%    1.2%    4.9%\n",
      "\n"
     ]
    }
   ],
   "source": [
    "ai_match(ai=[ai8s, ai2])"
   ]
  },
  {
   "cell_type": "code",
   "execution_count": 29,
   "metadata": {},
   "outputs": [
    {
     "name": "stdout",
     "output_type": "stream",
     "text": [
      "ai8s VS ai7s\n",
      "count     win    lose    draw\n",
      "o        3319     415    6266\n",
      "x         391    2939    6670\n",
      "total    3710    3354   12936\n",
      "\n",
      "ratio     win    lose    draw\n",
      "o       33.2%    4.2%   62.7%\n",
      "x        3.9%   29.4%   66.7%\n",
      "total   18.6%   16.8%   64.7%\n",
      "\n"
     ]
    }
   ],
   "source": [
    "ai_match(ai=[ai8s, ai7s])"
   ]
  },
  {
   "cell_type": "code",
   "execution_count": 30,
   "metadata": {},
   "outputs": [
    {
     "name": "stdout",
     "output_type": "stream",
     "text": [
      "Point3D(last_turn=3, turn=1, empty=2)\n",
      "Point3D(last_turn=4, turn=5, empty=2)\n",
      "Point3D(last_turn=6, turn=7, empty=8)\n"
     ]
    }
   ],
   "source": [
    "class Point3D(NamedTuple):\n",
    "    last_turn: int\n",
    "    turn: int = 1\n",
    "    empty: int = 2\n",
    "\n",
    "print(Point3D(3))\n",
    "print(Point3D(4, 5))\n",
    "print(Point3D(6, 7, 8))"
   ]
  },
  {
   "cell_type": "code",
   "execution_count": 31,
   "metadata": {},
   "outputs": [
    {
     "name": "stdout",
     "output_type": "stream",
     "text": [
      "Markpat(last_turn='a', turn='b', empty='c')\n"
     ]
    }
   ],
   "source": [
    "print(Markpat(\"a\", \"b\", \"c\"))"
   ]
  },
  {
   "cell_type": "code",
   "execution_count": 32,
   "metadata": {},
   "outputs": [],
   "source": [
    "a: int = 1 # グローバル変数の型アノテーション\n",
    "\n",
    "def f():\n",
    "    b : float = 1.2  # ローカル変数の型アノテーション\n",
    "    \n",
    "class C:\n",
    "    d : str = \"text\"  # クラス属性の型アノテーション\n",
    "    \n",
    "    def __init__(self):\n",
    "        self.e : list[int] = [1, 2, 3]  # インスタンスの属性の型アノテーション"
   ]
  },
  {
   "cell_type": "code",
   "execution_count": 33,
   "metadata": {},
   "outputs": [
    {
     "ename": "NameError",
     "evalue": "name 'x' is not defined",
     "output_type": "error",
     "traceback": [
      "\u001b[1;31m---------------------------------------------------------------------------\u001b[0m",
      "\u001b[1;31mNameError\u001b[0m                                 Traceback (most recent call last)",
      "Cell \u001b[1;32mIn[33], line 1\u001b[0m\n\u001b[1;32m----> 1\u001b[0m x\n",
      "\u001b[1;31mNameError\u001b[0m: name 'x' is not defined"
     ]
    }
   ],
   "source": [
    "x"
   ]
  },
  {
   "cell_type": "code",
   "execution_count": 34,
   "metadata": {},
   "outputs": [],
   "source": [
    "x: int"
   ]
  },
  {
   "cell_type": "code",
   "execution_count": 35,
   "metadata": {},
   "outputs": [
    {
     "ename": "NameError",
     "evalue": "name 'x' is not defined",
     "output_type": "error",
     "traceback": [
      "\u001b[1;31m---------------------------------------------------------------------------\u001b[0m",
      "\u001b[1;31mNameError\u001b[0m                                 Traceback (most recent call last)",
      "Cell \u001b[1;32mIn[35], line 1\u001b[0m\n\u001b[1;32m----> 1\u001b[0m \u001b[38;5;28mprint\u001b[39m(x)\n",
      "\u001b[1;31mNameError\u001b[0m: name 'x' is not defined"
     ]
    }
   ],
   "source": [
    "print(x)"
   ]
  },
  {
   "cell_type": "code",
   "execution_count": 36,
   "metadata": {},
   "outputs": [
    {
     "ename": "NameError",
     "evalue": "name 'x' is not defined",
     "output_type": "error",
     "traceback": [
      "\u001b[1;31m---------------------------------------------------------------------------\u001b[0m",
      "\u001b[1;31mNameError\u001b[0m                                 Traceback (most recent call last)",
      "Cell \u001b[1;32mIn[36], line 1\u001b[0m\n\u001b[1;32m----> 1\u001b[0m \u001b[38;5;28;01mclass\u001b[39;00m \u001b[38;5;21;01mPoint\u001b[39;00m(NamedTuple):   \n\u001b[0;32m      2\u001b[0m     x\n\u001b[0;32m      3\u001b[0m     y\n",
      "Cell \u001b[1;32mIn[36], line 2\u001b[0m, in \u001b[0;36mPoint\u001b[1;34m()\u001b[0m\n\u001b[0;32m      1\u001b[0m \u001b[38;5;28;01mclass\u001b[39;00m \u001b[38;5;21;01mPoint\u001b[39;00m(NamedTuple):   \n\u001b[1;32m----> 2\u001b[0m     x\n\u001b[0;32m      3\u001b[0m     y\n",
      "\u001b[1;31mNameError\u001b[0m: name 'x' is not defined"
     ]
    }
   ],
   "source": [
    "class Point(NamedTuple):   \n",
    "    x\n",
    "    y"
   ]
  },
  {
   "cell_type": "code",
   "execution_count": 37,
   "metadata": {},
   "outputs": [],
   "source": [
    "class Point:\n",
    "    def __init__(self, x, y):\n",
    "        self.x = x\n",
    "        self.y = y"
   ]
  },
  {
   "cell_type": "code",
   "execution_count": 38,
   "metadata": {},
   "outputs": [
    {
     "name": "stdout",
     "output_type": "stream",
     "text": [
      "1 2\n"
     ]
    }
   ],
   "source": [
    "p = Point(1, 2)\n",
    "print(p.x, p.y)"
   ]
  },
  {
   "cell_type": "code",
   "execution_count": 39,
   "metadata": {},
   "outputs": [
    {
     "name": "stdout",
     "output_type": "stream",
     "text": [
      "<__main__.Point object at 0x000001D513E31A90>\n"
     ]
    }
   ],
   "source": [
    "p = Point(1, 2)\n",
    "print(p)"
   ]
  },
  {
   "cell_type": "code",
   "execution_count": 40,
   "metadata": {},
   "outputs": [
    {
     "name": "stdout",
     "output_type": "stream",
     "text": [
      "False\n"
     ]
    }
   ],
   "source": [
    "p1 = Point(1, 2)\n",
    "p2 = Point(1, 2)\n",
    "print(p1 == p2)"
   ]
  },
  {
   "cell_type": "code",
   "execution_count": 41,
   "metadata": {},
   "outputs": [],
   "source": [
    "from dataclasses import dataclass"
   ]
  },
  {
   "cell_type": "code",
   "execution_count": 42,
   "metadata": {},
   "outputs": [],
   "source": [
    "@dataclass\n",
    "class Point:\n",
    "    x: int\n",
    "    y: int"
   ]
  },
  {
   "cell_type": "code",
   "execution_count": 43,
   "metadata": {},
   "outputs": [
    {
     "name": "stdout",
     "output_type": "stream",
     "text": [
      "Point(x=1, y=2)\n"
     ]
    }
   ],
   "source": [
    "p = Point(1, 2)\n",
    "print(p)"
   ]
  },
  {
   "cell_type": "code",
   "execution_count": 44,
   "metadata": {},
   "outputs": [
    {
     "name": "stdout",
     "output_type": "stream",
     "text": [
      "True\n",
      "False\n"
     ]
    }
   ],
   "source": [
    "p1 = Point(1, 2)\n",
    "p2 = Point(1, 2)\n",
    "p3 = Point(3, 4)\n",
    "print(p1 == p2)\n",
    "print(p1 == p3)"
   ]
  },
  {
   "cell_type": "code",
   "execution_count": 45,
   "metadata": {},
   "outputs": [
    {
     "name": "stdout",
     "output_type": "stream",
     "text": [
      "Point(x=1, y=2)\n"
     ]
    }
   ],
   "source": [
    "p = Point(1, 2)\n",
    "p.z = 3\n",
    "print(p)"
   ]
  },
  {
   "cell_type": "code",
   "execution_count": 46,
   "metadata": {},
   "outputs": [
    {
     "name": "stdout",
     "output_type": "stream",
     "text": [
      "True\n"
     ]
    }
   ],
   "source": [
    "p1 = Point(1, 2)\n",
    "p2 = Point(1, 2)\n",
    "p1.z = 3\n",
    "p2.z = 5\n",
    "print(p1 == p2)"
   ]
  },
  {
   "cell_type": "code",
   "execution_count": 47,
   "metadata": {},
   "outputs": [],
   "source": [
    "@dataclass\n",
    "class Point:\n",
    "    x: int\n",
    "    y: int\n",
    "\n",
    "    def __init__(self):\n",
    "        pass"
   ]
  },
  {
   "cell_type": "code",
   "execution_count": 48,
   "metadata": {},
   "outputs": [
    {
     "ename": "TypeError",
     "evalue": "Point.__init__() takes 1 positional argument but 3 were given",
     "output_type": "error",
     "traceback": [
      "\u001b[1;31m---------------------------------------------------------------------------\u001b[0m",
      "\u001b[1;31mTypeError\u001b[0m                                 Traceback (most recent call last)",
      "Cell \u001b[1;32mIn[48], line 1\u001b[0m\n\u001b[1;32m----> 1\u001b[0m p \u001b[38;5;241m=\u001b[39m Point(\u001b[38;5;241m1\u001b[39m, \u001b[38;5;241m2\u001b[39m)\n",
      "\u001b[1;31mTypeError\u001b[0m: Point.__init__() takes 1 positional argument but 3 were given"
     ]
    }
   ],
   "source": [
    "p = Point(1, 2)"
   ]
  },
  {
   "cell_type": "code",
   "execution_count": 49,
   "metadata": {},
   "outputs": [
    {
     "ename": "AttributeError",
     "evalue": "'Point' object has no attribute 'x'",
     "output_type": "error",
     "traceback": [
      "\u001b[1;31m---------------------------------------------------------------------------\u001b[0m",
      "\u001b[1;31mAttributeError\u001b[0m                            Traceback (most recent call last)",
      "Cell \u001b[1;32mIn[49], line 2\u001b[0m\n\u001b[0;32m      1\u001b[0m p \u001b[38;5;241m=\u001b[39m Point()\n\u001b[1;32m----> 2\u001b[0m \u001b[38;5;28mprint\u001b[39m(p\u001b[38;5;241m.\u001b[39mx)\n",
      "\u001b[1;31mAttributeError\u001b[0m: 'Point' object has no attribute 'x'"
     ]
    }
   ],
   "source": [
    "p = Point()\n",
    "print(p.x)"
   ]
  },
  {
   "cell_type": "code",
   "execution_count": 50,
   "metadata": {},
   "outputs": [],
   "source": [
    "@dataclass\n",
    "class Point:\n",
    "    x: int\n",
    "    y: int\n",
    "\n",
    "    def __post_init__(self):\n",
    "        print(\"post init\")"
   ]
  },
  {
   "cell_type": "code",
   "execution_count": 51,
   "metadata": {},
   "outputs": [
    {
     "name": "stdout",
     "output_type": "stream",
     "text": [
      "post init\n",
      "Point(x=1, y=2)\n"
     ]
    }
   ],
   "source": [
    "print(Point(1, 2))"
   ]
  },
  {
   "cell_type": "code",
   "execution_count": 52,
   "metadata": {},
   "outputs": [
    {
     "name": "stdout",
     "output_type": "stream",
     "text": [
      "post init\n"
     ]
    },
    {
     "ename": "TypeError",
     "evalue": "unhashable type: 'Point'",
     "output_type": "error",
     "traceback": [
      "\u001b[1;31m---------------------------------------------------------------------------\u001b[0m",
      "\u001b[1;31mTypeError\u001b[0m                                 Traceback (most recent call last)",
      "Cell \u001b[1;32mIn[52], line 1\u001b[0m\n\u001b[1;32m----> 1\u001b[0m \u001b[38;5;28mprint\u001b[39m({Point(\u001b[38;5;241m1\u001b[39m, \u001b[38;5;241m2\u001b[39m)})\n",
      "\u001b[1;31mTypeError\u001b[0m: unhashable type: 'Point'"
     ]
    }
   ],
   "source": [
    "print({Point(1, 2)})"
   ]
  },
  {
   "cell_type": "code",
   "execution_count": 53,
   "metadata": {},
   "outputs": [
    {
     "name": "stdout",
     "output_type": "stream",
     "text": [
      "post init\n"
     ]
    },
    {
     "ename": "TypeError",
     "evalue": "cannot unpack non-iterable Point object",
     "output_type": "error",
     "traceback": [
      "\u001b[1;31m---------------------------------------------------------------------------\u001b[0m",
      "\u001b[1;31mTypeError\u001b[0m                                 Traceback (most recent call last)",
      "Cell \u001b[1;32mIn[53], line 2\u001b[0m\n\u001b[0;32m      1\u001b[0m p \u001b[38;5;241m=\u001b[39m Point(\u001b[38;5;241m1\u001b[39m, \u001b[38;5;241m2\u001b[39m)\n\u001b[1;32m----> 2\u001b[0m x, y \u001b[38;5;241m=\u001b[39m p\n",
      "\u001b[1;31mTypeError\u001b[0m: cannot unpack non-iterable Point object"
     ]
    }
   ],
   "source": [
    "p = Point(1, 2)\n",
    "x, y = p"
   ]
  },
  {
   "cell_type": "code",
   "execution_count": 54,
   "metadata": {},
   "outputs": [
    {
     "name": "stdout",
     "output_type": "stream",
     "text": [
      "{Point(x=1, y=2)}\n"
     ]
    }
   ],
   "source": [
    "@dataclass(frozen=True)\n",
    "class Point:\n",
    "    x: int\n",
    "    y: int\n",
    "\n",
    "print({Point(1, 2)})"
   ]
  },
  {
   "cell_type": "code",
   "execution_count": 55,
   "metadata": {},
   "outputs": [],
   "source": [
    "def ai6s(mb, debug=False):\n",
    "    def eval_func(mb):\n",
    "        # 自分が勝利している場合は、評価値として 1 を返す\n",
    "        if mb.status == mb.last_turn:\n",
    "            return 1\n",
    "\n",
    "        markpats = mb.enum_markpats()\n",
    "        # 相手が勝利できる場合は評価値として -1 を返す\n",
    "        if Markpat(last_turn=0, turn=2, empty=1) in markpats:\n",
    "            return -1\n",
    "        # それ以外の場合は評価値として 0 を返す\n",
    "        else:\n",
    "            return 0\n",
    "\n",
    "    return ai_by_score(mb, eval_func, debug=debug)  "
   ]
  },
  {
   "cell_type": "code",
   "execution_count": 56,
   "metadata": {},
   "outputs": [
    {
     "name": "stdout",
     "output_type": "stream",
     "text": [
      "ai6s VS ai6\n",
      "count     win    lose    draw\n",
      "o        3140    1702    5158\n",
      "x        1704    3116    5180\n",
      "total    4844    4818   10338\n",
      "\n",
      "ratio     win    lose    draw\n",
      "o       31.4%   17.0%   51.6%\n",
      "x       17.0%   31.2%   51.8%\n",
      "total   24.2%   24.1%   51.7%\n",
      "\n"
     ]
    }
   ],
   "source": [
    "from ai import ai6, ai7\n",
    "\n",
    "ai_match(ai=[ai6s, ai6])"
   ]
  },
  {
   "cell_type": "code",
   "execution_count": 57,
   "metadata": {},
   "outputs": [],
   "source": [
    "def ai7s(mb, debug=False):\n",
    "    def eval_func(mb):\n",
    "        # 真ん中のマスに着手している場合は、評価値として 2 を返す\n",
    "        if mb.last_move == (1, 1):\n",
    "            return 2\n",
    "            \n",
    "        # 自分が勝利している場合は、評価値として 1 を返す\n",
    "        if mb.status == mb.last_turn:\n",
    "            return 1\n",
    "\n",
    "        markpats = mb.enum_markpats()\n",
    "        # 相手が勝利できる場合は評価値として -1 を返す\n",
    "        if Markpat(last_turn=0, turn=2, empty=1) in markpats:\n",
    "            return -1\n",
    "        # それ以外の場合は評価値として 0 を返す\n",
    "        else:\n",
    "            return 0\n",
    "\n",
    "    return ai_by_score(mb, eval_func, debug=debug)  "
   ]
  },
  {
   "cell_type": "code",
   "execution_count": 58,
   "metadata": {},
   "outputs": [
    {
     "name": "stdout",
     "output_type": "stream",
     "text": [
      "ai7s VS ai7\n",
      "count     win    lose    draw\n",
      "o        2962     406    6632\n",
      "x         392    2933    6675\n",
      "total    3354    3339   13307\n",
      "\n",
      "ratio     win    lose    draw\n",
      "o       29.6%    4.1%   66.3%\n",
      "x        3.9%   29.3%   66.8%\n",
      "total   16.8%   16.7%   66.5%\n",
      "\n"
     ]
    }
   ],
   "source": [
    "ai_match(ai=[ai7s, ai7])"
   ]
  }
 ],
 "metadata": {
  "kernelspec": {
   "display_name": "marubatsu",
   "language": "python",
   "name": "python3"
  },
  "language_info": {
   "codemirror_mode": {
    "name": "ipython",
    "version": 3
   },
   "file_extension": ".py",
   "mimetype": "text/x-python",
   "name": "python",
   "nbconvert_exporter": "python",
   "pygments_lexer": "ipython3",
   "version": "3.11.4"
  }
 },
 "nbformat": 4,
 "nbformat_minor": 2
}
