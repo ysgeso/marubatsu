{
 "cells": [
  {
   "cell_type": "code",
   "execution_count": 1,
   "id": "bfd19c1f",
   "metadata": {},
   "outputs": [],
   "source": [
    "from abc import ABCMeta, abstractmethod\n",
    "\n",
    "class Board(metaclass=ABCMeta):\n",
    "    @abstractmethod\n",
    "    def __getitem__(self, key):\n",
    "        pass\n",
    "\n",
    "    @abstractmethod\n",
    "    def __setitem__(self, key, value):\n",
    "        pass"
   ]
  },
  {
   "cell_type": "code",
   "execution_count": 2,
   "id": "aa211244",
   "metadata": {},
   "outputs": [],
   "source": [
    "class A:\n",
    "    def __getitem__(self, key):\n",
    "        return key"
   ]
  },
  {
   "cell_type": "code",
   "execution_count": 3,
   "id": "79c554ec",
   "metadata": {},
   "outputs": [
    {
     "name": "stdout",
     "output_type": "stream",
     "text": [
      "100\n",
      "abc\n"
     ]
    }
   ],
   "source": [
    "a = A()\n",
    "print(a[100])\n",
    "print(a[\"abc\"])"
   ]
  },
  {
   "cell_type": "code",
   "execution_count": 4,
   "id": "35cd95e1",
   "metadata": {},
   "outputs": [],
   "source": [
    "class Mylist:\n",
    "    def __init__(self, data):\n",
    "        self.data = data\n",
    "        \n",
    "    def __getitem__(self, key):\n",
    "        return self.data[key]"
   ]
  },
  {
   "cell_type": "code",
   "execution_count": 5,
   "id": "744866f7",
   "metadata": {},
   "outputs": [
    {
     "name": "stdout",
     "output_type": "stream",
     "text": [
      "1\n",
      "3\n",
      "[2, 3]\n"
     ]
    }
   ],
   "source": [
    "l = Mylist([1, 2, 3, 4, 5])\n",
    "print(l[0])\n",
    "print(l[2])\n",
    "print(l[1:3])"
   ]
  },
  {
   "cell_type": "code",
   "execution_count": 6,
   "id": "33239fcd",
   "metadata": {},
   "outputs": [
    {
     "name": "stdout",
     "output_type": "stream",
     "text": [
      "<__main__.Mylist object at 0x0000028963322E40>\n"
     ]
    },
    {
     "ename": "TypeError",
     "evalue": "'Mylist' object does not support item assignment",
     "output_type": "error",
     "traceback": [
      "\u001b[31m---------------------------------------------------------------------------\u001b[39m",
      "\u001b[31mTypeError\u001b[39m                                 Traceback (most recent call last)",
      "\u001b[36mCell\u001b[39m\u001b[36m \u001b[39m\u001b[32mIn[6]\u001b[39m\u001b[32m, line 2\u001b[39m\n\u001b[32m      1\u001b[39m \u001b[38;5;28mprint\u001b[39m(l)\n\u001b[32m----> \u001b[39m\u001b[32m2\u001b[39m l[\u001b[32m0\u001b[39m] = \u001b[32m2\u001b[39m\n",
      "\u001b[31mTypeError\u001b[39m: 'Mylist' object does not support item assignment"
     ]
    }
   ],
   "source": [
    "print(l)\n",
    "l[0] = 2"
   ]
  },
  {
   "cell_type": "code",
   "execution_count": 7,
   "id": "1aa557f5",
   "metadata": {},
   "outputs": [],
   "source": [
    "class Mylist:\n",
    "    def __init__(self, data):\n",
    "        self.data = data\n",
    "        \n",
    "    def __getitem__(self, key):\n",
    "        return self.data[key]\n",
    "    \n",
    "    def __setitem__(self, key, value):\n",
    "        self.data[key] = value"
   ]
  },
  {
   "cell_type": "code",
   "execution_count": 8,
   "id": "feeb12e9",
   "metadata": {},
   "outputs": [
    {
     "name": "stdout",
     "output_type": "stream",
     "text": [
      "1\n",
      "5\n",
      "[5, 2, 3, 4, 5]\n"
     ]
    }
   ],
   "source": [
    "l = Mylist([1, 2, 3, 4, 5])\n",
    "print(l[0])\n",
    "l[0] = 5\n",
    "print(l[0])\n",
    "print(l.data)"
   ]
  },
  {
   "cell_type": "code",
   "execution_count": 9,
   "id": "89f63317",
   "metadata": {},
   "outputs": [],
   "source": [
    "from marubatsu import Marubatsu\n",
    "\n",
    "class ListBoard(Board):\n",
    "    def __init__(self, board_size=3):\n",
    "        self.BOARD_SIZE = board_size\n",
    "        self.board = [[Marubatsu.EMPTY] * self.BOARD_SIZE for y in range(self.BOARD_SIZE)]\n",
    "        \n",
    "    def __getitem__(self, key):\n",
    "        pass\n",
    "    \n",
    "    def __setitem__(self, key, value):\n",
    "        pass"
   ]
  },
  {
   "cell_type": "code",
   "execution_count": 10,
   "id": "81064cee",
   "metadata": {},
   "outputs": [
    {
     "name": "stdout",
     "output_type": "stream",
     "text": [
      "[['.', '.', '.'], ['.', '.', '.'], ['.', '.', '.']]\n"
     ]
    }
   ],
   "source": [
    "board = ListBoard()\n",
    "print(board.board)"
   ]
  },
  {
   "cell_type": "code",
   "execution_count": 11,
   "id": "c1856c48",
   "metadata": {},
   "outputs": [],
   "source": [
    "class ListBoardwithFirstkey:\n",
    "    def __init__(self, board, key):\n",
    "        self.board = board\n",
    "        self.key = key\n",
    "        \n",
    "    def __getitem__(self, key):\n",
    "        return self.board[self.key][key]"
   ]
  },
  {
   "cell_type": "code",
   "execution_count": 12,
   "id": "1c3c1bc3",
   "metadata": {},
   "outputs": [],
   "source": [
    "def __getitem__(self, key):\n",
    "    return ListBoardwithFirstkey(self.board, key)\n",
    "\n",
    "ListBoard.__getitem__ = __getitem__"
   ]
  },
  {
   "cell_type": "code",
   "execution_count": 13,
   "id": "37c9f289",
   "metadata": {},
   "outputs": [
    {
     "name": "stdout",
     "output_type": "stream",
     "text": [
      ".\n"
     ]
    }
   ],
   "source": [
    "board = ListBoard()\n",
    "print(board[0][1])"
   ]
  },
  {
   "cell_type": "code",
   "execution_count": 14,
   "id": "96f4c688",
   "metadata": {},
   "outputs": [
    {
     "name": "stdout",
     "output_type": "stream",
     "text": [
      ".\n"
     ]
    }
   ],
   "source": [
    "b0 = board[0]\n",
    "print(b0[1])"
   ]
  },
  {
   "cell_type": "code",
   "execution_count": 15,
   "id": "c5850590",
   "metadata": {},
   "outputs": [
    {
     "name": "stdout",
     "output_type": "stream",
     "text": [
      "<__main__.ListBoardwithFirstkey object at 0x000002897F6D8190>\n",
      "[['.', '.', '.'], ['.', '.', '.'], ['.', '.', '.']]\n",
      "0\n"
     ]
    }
   ],
   "source": [
    "print(b0)\n",
    "print(b0.board)\n",
    "print(b0.key)"
   ]
  },
  {
   "cell_type": "code",
   "execution_count": 16,
   "id": "e1ab1ffd",
   "metadata": {},
   "outputs": [],
   "source": [
    "def __setitem__(self, key, value):\n",
    "    self.board[self.key][key] = value\n",
    "\n",
    "ListBoardwithFirstkey.__setitem__ = __setitem__"
   ]
  },
  {
   "cell_type": "code",
   "execution_count": 17,
   "id": "85e58062",
   "metadata": {},
   "outputs": [
    {
     "name": "stdout",
     "output_type": "stream",
     "text": [
      "o\n",
      "[['.', 'o', '.'], ['.', '.', '.'], ['.', '.', '.']]\n"
     ]
    }
   ],
   "source": [
    "board = ListBoard()\n",
    "board[0][1] = Marubatsu.CIRCLE\n",
    "print(board[0][1])\n",
    "print(board.board)\n"
   ]
  },
  {
   "cell_type": "code",
   "execution_count": 18,
   "id": "ae302ea0",
   "metadata": {},
   "outputs": [],
   "source": [
    "def __init__(self, boardclass=ListBoard, board_size=3, count_linemark=False, check_coord=True):\n",
    "    # ゲーム盤のデータ構造を定義するクラス\n",
    "    self.boardclass = boardclass\n",
    "    # ゲーム盤の縦横のサイズ\n",
    "    self.BOARD_SIZE = board_size\n",
    "    # 各直線上のマークの数を数えるかどうか\n",
    "    self.count_linemark = count_linemark\n",
    "    # move と unmove メソッドで座標などのチェックを行うかどうか\n",
    "    self.check_coord = check_coord\n",
    "    # 〇×ゲーム盤を再起動するメソッドを呼び出す\n",
    "    self.restart()\n",
    "\n",
    "Marubatsu.__init__ = __init__"
   ]
  },
  {
   "cell_type": "code",
   "execution_count": 19,
   "id": "49207a9b",
   "metadata": {},
   "outputs": [],
   "source": [
    "def initialize_board(self):\n",
    "    self.board = self.boardclass(self.BOARD_SIZE)\n",
    "    \n",
    "Marubatsu.initialize_board = initialize_board"
   ]
  },
  {
   "cell_type": "code",
   "execution_count": 20,
   "id": "4a8530ce",
   "metadata": {},
   "outputs": [
    {
     "name": "stdout",
     "output_type": "stream",
     "text": [
      "Turn o\n",
      "...\n",
      "...\n",
      "...\n",
      "\n",
      "Turn x\n",
      ".O.\n",
      "...\n",
      "...\n",
      "\n",
      "Turn o\n",
      ".o.\n",
      ".X.\n",
      "...\n",
      "\n",
      "Turn x\n",
      ".oO\n",
      ".x.\n",
      "...\n",
      "\n",
      "Turn o\n",
      "Xoo\n",
      ".x.\n",
      "...\n",
      "\n",
      "Turn x\n",
      "xoo\n",
      ".xO\n",
      "...\n",
      "\n",
      "winner x\n",
      "xoo\n",
      ".xo\n",
      "..X\n",
      "\n"
     ]
    },
    {
     "data": {
      "text/plain": [
       "'x'"
      ]
     },
     "execution_count": 20,
     "metadata": {},
     "output_type": "execute_result"
    }
   ],
   "source": [
    "from ai import ai2s, ai14s\n",
    "\n",
    "mb = Marubatsu()\n",
    "mb.play(ai=[ai2s, ai14s])"
   ]
  },
  {
   "cell_type": "code",
   "execution_count": 21,
   "id": "e6a594e5",
   "metadata": {},
   "outputs": [],
   "source": [
    "class List1dBoard(Board):\n",
    "    def __init__(self, board_size=3):\n",
    "        self.BOARD_SIZE = board_size\n",
    "        self.board = [Marubatsu.EMPTY] * (self.BOARD_SIZE ** 2)\n",
    "        \n",
    "    def __getitem__(self, key):\n",
    "        return List1dBoardwithFirstkey(self.board, self.BOARD_SIZE, key)\n",
    "    \n",
    "    def __setitem__(self, key, value):\n",
    "        pass"
   ]
  },
  {
   "cell_type": "code",
   "execution_count": 22,
   "id": "bd781ab8",
   "metadata": {},
   "outputs": [],
   "source": [
    "class List1dBoardwithFirstkey:\n",
    "    def __init__(self, board, board_size, key):\n",
    "        self.board = board\n",
    "        self.BOARD_SIZE = board_size\n",
    "        self.key = key\n",
    "        \n",
    "    def __getitem__(self, key):\n",
    "        return self.board[self.key + key * self.BOARD_SIZE]\n",
    "    \n",
    "    def __setitem__(self, key, value):\n",
    "        self.board[self.key + key * self.BOARD_SIZE] = value"
   ]
  },
  {
   "cell_type": "code",
   "execution_count": 23,
   "id": "25129db0",
   "metadata": {},
   "outputs": [
    {
     "name": "stdout",
     "output_type": "stream",
     "text": [
      "Turn o\n",
      "...\n",
      "...\n",
      "...\n",
      "\n",
      "Turn x\n",
      ".O.\n",
      "...\n",
      "...\n",
      "\n",
      "Turn o\n",
      ".o.\n",
      ".X.\n",
      "...\n",
      "\n",
      "Turn x\n",
      ".oO\n",
      ".x.\n",
      "...\n",
      "\n",
      "Turn o\n",
      "Xoo\n",
      ".x.\n",
      "...\n",
      "\n",
      "Turn x\n",
      "xoo\n",
      ".xO\n",
      "...\n",
      "\n",
      "winner x\n",
      "xoo\n",
      ".xo\n",
      "..X\n",
      "\n"
     ]
    },
    {
     "data": {
      "text/plain": [
       "'x'"
      ]
     },
     "execution_count": 23,
     "metadata": {},
     "output_type": "execute_result"
    }
   ],
   "source": [
    "mb1d = Marubatsu(boardclass=List1dBoard)\n",
    "mb1d.play(ai=[ai2s, ai14s])"
   ]
  },
  {
   "cell_type": "code",
   "execution_count": 24,
   "id": "8d19e2b2",
   "metadata": {},
   "outputs": [
    {
     "name": "stdout",
     "output_type": "stream",
     "text": [
      "[['x', '.', '.'], ['o', 'x', '.'], ['o', 'o', 'x']]\n",
      "['x', 'o', 'o', '.', 'x', 'o', '.', '.', 'x']\n"
     ]
    }
   ],
   "source": [
    "print(mb.board.board)\n",
    "print(mb1d.board.board)"
   ]
  },
  {
   "cell_type": "code",
   "execution_count": 25,
   "id": "61a6712a",
   "metadata": {},
   "outputs": [
    {
     "name": "stdout",
     "output_type": "stream",
     "text": [
      "ai2s VS ai2s\n"
     ]
    },
    {
     "name": "stderr",
     "output_type": "stream",
     "text": [
      "100%|██████████| 5000/5000 [00:03<00:00, 1645.19it/s]"
     ]
    },
    {
     "name": "stdout",
     "output_type": "stream",
     "text": [
      "count     win    lose    draw\n",
      "o        2940    1442     618\n",
      "x        1475    2899     626\n",
      "total    4415    4341    1244\n",
      "\n",
      "ratio     win    lose    draw\n",
      "o       58.8%   28.8%   12.4%\n",
      "x       29.5%   58.0%   12.5%\n",
      "total   44.1%   43.4%   12.4%\n",
      "\n"
     ]
    },
    {
     "name": "stderr",
     "output_type": "stream",
     "text": [
      "\n"
     ]
    },
    {
     "data": {
      "text/plain": [
       "[('count',\n",
       "  [{'win': 2940, 'lose': 1442, 'draw': 618},\n",
       "   {'win': 1475, 'lose': 2899, 'draw': 626},\n",
       "   {'win': 4415, 'lose': 4341, 'draw': 1244}],\n",
       "  '7d'),\n",
       " ('ratio',\n",
       "  [{'win': 0.588, 'lose': 0.2884, 'draw': 0.1236},\n",
       "   {'win': 0.295, 'lose': 0.5798, 'draw': 0.1252},\n",
       "   {'win': 0.4415, 'lose': 0.4341, 'draw': 0.1244}],\n",
       "  '7.1%')]"
      ]
     },
     "execution_count": 25,
     "metadata": {},
     "output_type": "execute_result"
    }
   ],
   "source": [
    "from ai import ai_match\n",
    "\n",
    "ai_match(ai=[ai2s, ai2s], match_num=5000)"
   ]
  }
 ],
 "metadata": {
  "kernelspec": {
   "display_name": "marubatsu313",
   "language": "python",
   "name": "python3"
  },
  "language_info": {
   "codemirror_mode": {
    "name": "ipython",
    "version": 3
   },
   "file_extension": ".py",
   "mimetype": "text/x-python",
   "name": "python",
   "nbconvert_exporter": "python",
   "pygments_lexer": "ipython3",
   "version": "3.13.5"
  }
 },
 "nbformat": 4,
 "nbformat_minor": 5
}
