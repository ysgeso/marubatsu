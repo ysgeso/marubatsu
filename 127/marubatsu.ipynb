{
 "cells": [
  {
   "cell_type": "code",
   "execution_count": 1,
   "metadata": {},
   "outputs": [],
   "source": [
    "def f():\n",
    "    print(\"関数 f を実行しました\") "
   ]
  },
  {
   "cell_type": "code",
   "execution_count": 2,
   "metadata": {},
   "outputs": [
    {
     "name": "stdout",
     "output_type": "stream",
     "text": [
      "関数 f を実行しました\n"
     ]
    }
   ],
   "source": [
    "f()"
   ]
  },
  {
   "cell_type": "code",
   "execution_count": 3,
   "metadata": {},
   "outputs": [],
   "source": [
    "from datetime import datetime\n",
    "\n",
    "def f():\n",
    "    starttime = datetime.now()\n",
    "    print(\"関数 f を実行しました\")\n",
    "    endtime = datetime.now()\n",
    "    print(endtime - starttime)"
   ]
  },
  {
   "cell_type": "code",
   "execution_count": 4,
   "metadata": {},
   "outputs": [
    {
     "name": "stdout",
     "output_type": "stream",
     "text": [
      "関数 f を実行しました\n",
      "0:00:00\n"
     ]
    }
   ],
   "source": [
    "f()"
   ]
  },
  {
   "cell_type": "code",
   "execution_count": 5,
   "metadata": {},
   "outputs": [],
   "source": [
    "def f():\n",
    "    starttime = datetime.now()\n",
    "    c = 0\n",
    "    for i in range(10000):\n",
    "        c += i\n",
    "    print(\"関数 f を実行しました\")\n",
    "    endtime = datetime.now()\n",
    "    print(endtime - starttime)"
   ]
  },
  {
   "cell_type": "code",
   "execution_count": 6,
   "metadata": {},
   "outputs": [
    {
     "name": "stdout",
     "output_type": "stream",
     "text": [
      "関数 f を実行しました\n",
      "0:00:00.002002\n"
     ]
    }
   ],
   "source": [
    "f()"
   ]
  },
  {
   "cell_type": "code",
   "execution_count": 7,
   "metadata": {},
   "outputs": [],
   "source": [
    "def f():\n",
    "    print(\"関数 f を実行しました\") "
   ]
  },
  {
   "cell_type": "code",
   "execution_count": 8,
   "metadata": {},
   "outputs": [],
   "source": [
    "def f_show_time():\n",
    "    starttime = datetime.now()\n",
    "    f()\n",
    "    endtime = datetime.now()\n",
    "    print(endtime - starttime)\n"
   ]
  },
  {
   "cell_type": "code",
   "execution_count": 9,
   "metadata": {},
   "outputs": [
    {
     "name": "stdout",
     "output_type": "stream",
     "text": [
      "関数 f を実行しました\n",
      "0:00:00\n"
     ]
    }
   ],
   "source": [
    "f_show_time()"
   ]
  },
  {
   "cell_type": "code",
   "execution_count": 10,
   "metadata": {},
   "outputs": [],
   "source": [
    "def g():\n",
    "    print(\"関数 g を実行しました\") \n",
    "    \n",
    "def g_show_time():\n",
    "    starttime = datetime.now()\n",
    "    g()\n",
    "    endtime = datetime.now()\n",
    "    print(endtime - starttime)"
   ]
  },
  {
   "cell_type": "code",
   "execution_count": 11,
   "metadata": {},
   "outputs": [
    {
     "name": "stdout",
     "output_type": "stream",
     "text": [
      "関数 g を実行しました\n",
      "0:00:00.001000\n"
     ]
    }
   ],
   "source": [
    "g_show_time()"
   ]
  },
  {
   "cell_type": "code",
   "execution_count": 12,
   "metadata": {},
   "outputs": [],
   "source": [
    "def sum_by_br(n, i, total):\n",
    "    if i <= n:\n",
    "        total += i\n",
    "        i += 1\n",
    "        return sum_by_br(n, i, total)\n",
    "    else:\n",
    "        return total"
   ]
  },
  {
   "cell_type": "code",
   "execution_count": 13,
   "metadata": {},
   "outputs": [
    {
     "name": "stdout",
     "output_type": "stream",
     "text": [
      "55\n"
     ]
    }
   ],
   "source": [
    "print(sum_by_br(n=10, i=0, total=0))"
   ]
  },
  {
   "cell_type": "code",
   "execution_count": 14,
   "metadata": {},
   "outputs": [],
   "source": [
    "def sum_by_br_from_0(n):\n",
    "    return sum_by_br(n, i=0, total=0)"
   ]
  },
  {
   "cell_type": "code",
   "execution_count": 15,
   "metadata": {},
   "outputs": [
    {
     "name": "stdout",
     "output_type": "stream",
     "text": [
      "55\n"
     ]
    }
   ],
   "source": [
    "print(sum_by_br_from_0(10))"
   ]
  },
  {
   "cell_type": "code",
   "execution_count": 16,
   "metadata": {},
   "outputs": [
    {
     "name": "stdout",
     "output_type": "stream",
     "text": [
      "55\n"
     ]
    }
   ],
   "source": [
    "def sum_n_r(n, i, total):\n",
    "    if i <= n:\n",
    "        total += i\n",
    "        i += 1\n",
    "        return sum_n_r(n, i, total)\n",
    "    else:\n",
    "        return total\n",
    "\n",
    "def sum_n(n):\n",
    "    return sum_n_r(n, i=0, total=0)\n",
    "\n",
    "print(sum_n(10))"
   ]
  },
  {
   "cell_type": "code",
   "execution_count": 17,
   "metadata": {},
   "outputs": [
    {
     "name": "stdout",
     "output_type": "stream",
     "text": [
      "55\n"
     ]
    }
   ],
   "source": [
    "def sum_n(n):\n",
    "    def sum_n_r(n, i, total):\n",
    "        if i <= n:\n",
    "            total += i\n",
    "            i += 1\n",
    "            return sum_n_r(n, i, total)\n",
    "        else:\n",
    "            return total\n",
    "\n",
    "    return sum_n_r(n, i=0, total=0)\n",
    "\n",
    "print(sum_n(10))"
   ]
  },
  {
   "cell_type": "code",
   "execution_count": 18,
   "metadata": {},
   "outputs": [],
   "source": [
    "def exchange_xy(coord_txt):\n",
    "    x, y = coord_txt.split(\",\")\n",
    "    return f\"{y},{x}\"\n"
   ]
  },
  {
   "cell_type": "code",
   "execution_count": 19,
   "metadata": {},
   "outputs": [
    {
     "name": "stdout",
     "output_type": "stream",
     "text": [
      "2,1\n"
     ]
    }
   ],
   "source": [
    "print(exchange_xy(\"1,2\"))"
   ]
  },
  {
   "cell_type": "code",
   "execution_count": 20,
   "metadata": {},
   "outputs": [],
   "source": [
    "def exchange_xy_by_tuple(coord_tuple):\n",
    "    x, y = coord_tuple\n",
    "    coord_txt = f\"{x},{y}\"\n",
    "    return exchange_xy(coord_txt)"
   ]
  },
  {
   "cell_type": "code",
   "execution_count": 21,
   "metadata": {},
   "outputs": [
    {
     "name": "stdout",
     "output_type": "stream",
     "text": [
      "2,1\n"
     ]
    }
   ],
   "source": [
    "print(exchange_xy_by_tuple((1, 2)))"
   ]
  },
  {
   "cell_type": "code",
   "execution_count": 22,
   "metadata": {},
   "outputs": [],
   "source": [
    "def exchange_xy_by_tuple(coord_tuple):\n",
    "    x, y = coord_tuple\n",
    "    coord_txt = f\"{x},{y}\"\n",
    "    retval_txt = exchange_xy(coord_txt)\n",
    "    x, y = retval_txt.split(\",\")\n",
    "    retval_tuple = (float(x), float(y))\n",
    "    return retval_tuple"
   ]
  },
  {
   "cell_type": "code",
   "execution_count": 23,
   "metadata": {},
   "outputs": [
    {
     "name": "stdout",
     "output_type": "stream",
     "text": [
      "(2.0, 1.0)\n"
     ]
    }
   ],
   "source": [
    "print(exchange_xy_by_tuple((1, 2)))"
   ]
  },
  {
   "cell_type": "code",
   "execution_count": 24,
   "metadata": {},
   "outputs": [
    {
     "name": "stdout",
     "output_type": "stream",
     "text": [
      "500\n"
     ]
    }
   ],
   "source": [
    "print(sum([200, 300]))"
   ]
  },
  {
   "cell_type": "code",
   "execution_count": 25,
   "metadata": {},
   "outputs": [],
   "source": [
    "def sum_degree(*args, **kwargs):\n",
    "    degree = sum(*args, **kwargs)\n",
    "    degree %= 360\n",
    "    return degree"
   ]
  },
  {
   "cell_type": "code",
   "execution_count": 26,
   "metadata": {},
   "outputs": [
    {
     "name": "stdout",
     "output_type": "stream",
     "text": [
      "200\n",
      "200\n"
     ]
    }
   ],
   "source": [
    "print(sum_degree([200, 360]))\n",
    "print(sum_degree([200, -360]))"
   ]
  },
  {
   "cell_type": "code",
   "execution_count": 27,
   "metadata": {},
   "outputs": [],
   "source": [
    "def show_time(func):\n",
    "    starttime = datetime.now()\n",
    "    func()\n",
    "    endtime = datetime.now()\n",
    "    print(endtime - starttime)"
   ]
  },
  {
   "cell_type": "code",
   "execution_count": 28,
   "metadata": {},
   "outputs": [
    {
     "name": "stdout",
     "output_type": "stream",
     "text": [
      "関数 f を実行しました\n",
      "0:00:00\n"
     ]
    }
   ],
   "source": [
    "show_time(f)"
   ]
  },
  {
   "cell_type": "code",
   "execution_count": 29,
   "metadata": {},
   "outputs": [
    {
     "name": "stdout",
     "output_type": "stream",
     "text": [
      "関数 g を実行しました\n",
      "0:00:00\n"
     ]
    }
   ],
   "source": [
    "show_time(g)"
   ]
  },
  {
   "cell_type": "code",
   "execution_count": 30,
   "metadata": {},
   "outputs": [],
   "source": [
    "def show_time(func, *args, **kwargs):\n",
    "    starttime = datetime.now()\n",
    "    retval = func(*args, **kwargs)\n",
    "    endtime = datetime.now()\n",
    "    print(endtime - starttime)\n",
    "    return retval"
   ]
  },
  {
   "cell_type": "code",
   "execution_count": 31,
   "metadata": {},
   "outputs": [
    {
     "name": "stdout",
     "output_type": "stream",
     "text": [
      "0:00:00\n",
      "300\n"
     ]
    }
   ],
   "source": [
    "print(show_time(sum, [100, 200]))"
   ]
  },
  {
   "cell_type": "code",
   "execution_count": 32,
   "metadata": {},
   "outputs": [
    {
     "name": "stdout",
     "output_type": "stream",
     "text": [
      "0:00:00\n",
      "100\n"
     ]
    }
   ],
   "source": [
    "print(show_time(sum_degree, [100, 360]))"
   ]
  },
  {
   "cell_type": "code",
   "execution_count": 36,
   "metadata": {},
   "outputs": [
    {
     "name": "stdout",
     "output_type": "stream",
     "text": [
      "(1, 1)\n"
     ]
    }
   ],
   "source": [
    "from ai import ai3\n",
    "from marubatsu import Marubatsu\n",
    "\n",
    "mb = Marubatsu()\n",
    "print(ai3(mb))"
   ]
  },
  {
   "cell_type": "code",
   "execution_count": 37,
   "metadata": {},
   "outputs": [
    {
     "data": {
      "text/plain": [
       "(1, 1)"
      ]
     },
     "execution_count": 37,
     "metadata": {},
     "output_type": "execute_result"
    }
   ],
   "source": [
    "from ai import ai_by_score\n",
    "\n",
    "def eval_func(mb):\n",
    "    if mb.last_move == (1, 1):\n",
    "        return 1\n",
    "    else:\n",
    "        return 0\n",
    "\n",
    "mb = Marubatsu()\n",
    "ai_by_score(mb, eval_func, debug=False, analyze=False)"
   ]
  }
 ],
 "metadata": {
  "kernelspec": {
   "display_name": "marubatsu",
   "language": "python",
   "name": "python3"
  },
  "language_info": {
   "codemirror_mode": {
    "name": "ipython",
    "version": 3
   },
   "file_extension": ".py",
   "mimetype": "text/x-python",
   "name": "python",
   "nbconvert_exporter": "python",
   "pygments_lexer": "ipython3",
   "version": "3.11.4"
  }
 },
 "nbformat": 4,
 "nbformat_minor": 2
}
