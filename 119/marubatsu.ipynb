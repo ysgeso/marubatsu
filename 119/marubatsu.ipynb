{
 "cells": [
  {
   "cell_type": "code",
   "execution_count": 1,
   "metadata": {},
   "outputs": [
    {
     "data": {
      "application/vnd.jupyter.widget-view+json": {
       "model_id": "6b2d998c1abb45dfaaffbe70413ea76e",
       "version_major": 2,
       "version_minor": 0
      },
      "text/plain": [
       "VBox(children=(HBox(children=(Checkbox(value=False, description='乱数の種', indent=False, layout=Layout(width='100…"
      ]
     },
     "metadata": {},
     "output_type": "display_data"
    },
    {
     "data": {
      "application/vnd.jupyter.widget-view+json": {
       "model_id": "826b19a31a6f478eb37bbf930c58474c",
       "version_major": 2,
       "version_minor": 0
      },
      "text/plain": [
       "VBox(children=(Output(layout=Layout(display='none')), HBox(children=(Label(value='', layout=Layout(width='50px…"
      ]
     },
     "metadata": {},
     "output_type": "display_data"
    },
    {
     "ename": "AttributeError",
     "evalue": "'Mbtree_GUI' object has no attribute 'show_score'",
     "output_type": "error",
     "traceback": [
      "\u001b[1;31m---------------------------------------------------------------------------\u001b[0m",
      "\u001b[1;31mAttributeError\u001b[0m                            Traceback (most recent call last)",
      "File \u001b[1;32mc:\\Users\\ys\\Anaconda3\\envs\\marubatsu\\Lib\\site-packages\\ipympl\\backend_nbagg.py:279\u001b[0m, in \u001b[0;36mCanvas._handle_message\u001b[1;34m(self, object, content, buffers)\u001b[0m\n\u001b[0;32m    276\u001b[0m     \u001b[38;5;28mself\u001b[39m\u001b[38;5;241m.\u001b[39mmanager\u001b[38;5;241m.\u001b[39mhandle_json(content)\n\u001b[0;32m    278\u001b[0m \u001b[38;5;28;01melse\u001b[39;00m:\n\u001b[1;32m--> 279\u001b[0m     \u001b[38;5;28mself\u001b[39m\u001b[38;5;241m.\u001b[39mmanager\u001b[38;5;241m.\u001b[39mhandle_json(content)\n",
      "File \u001b[1;32mc:\\Users\\ys\\Anaconda3\\envs\\marubatsu\\Lib\\site-packages\\matplotlib\\backends\\backend_webagg_core.py:464\u001b[0m, in \u001b[0;36mFigureManagerWebAgg.handle_json\u001b[1;34m(self, content)\u001b[0m\n\u001b[0;32m    463\u001b[0m \u001b[38;5;28;01mdef\u001b[39;00m \u001b[38;5;21mhandle_json\u001b[39m(\u001b[38;5;28mself\u001b[39m, content):\n\u001b[1;32m--> 464\u001b[0m     \u001b[38;5;28mself\u001b[39m\u001b[38;5;241m.\u001b[39mcanvas\u001b[38;5;241m.\u001b[39mhandle_event(content)\n",
      "File \u001b[1;32mc:\\Users\\ys\\Anaconda3\\envs\\marubatsu\\Lib\\site-packages\\matplotlib\\backends\\backend_webagg_core.py:264\u001b[0m, in \u001b[0;36mFigureCanvasWebAggCore.handle_event\u001b[1;34m(self, event)\u001b[0m\n\u001b[0;32m    261\u001b[0m e_type \u001b[38;5;241m=\u001b[39m event[\u001b[38;5;124m'\u001b[39m\u001b[38;5;124mtype\u001b[39m\u001b[38;5;124m'\u001b[39m]\n\u001b[0;32m    262\u001b[0m handler \u001b[38;5;241m=\u001b[39m \u001b[38;5;28mgetattr\u001b[39m(\u001b[38;5;28mself\u001b[39m, \u001b[38;5;124mf\u001b[39m\u001b[38;5;124m'\u001b[39m\u001b[38;5;124mhandle_\u001b[39m\u001b[38;5;132;01m{\u001b[39;00me_type\u001b[38;5;132;01m}\u001b[39;00m\u001b[38;5;124m'\u001b[39m,\n\u001b[0;32m    263\u001b[0m                   \u001b[38;5;28mself\u001b[39m\u001b[38;5;241m.\u001b[39mhandle_unknown_event)\n\u001b[1;32m--> 264\u001b[0m \u001b[38;5;28;01mreturn\u001b[39;00m handler(event)\n",
      "File \u001b[1;32mc:\\Users\\ys\\Anaconda3\\envs\\marubatsu\\Lib\\site-packages\\matplotlib\\backends\\backend_webagg_core.py:294\u001b[0m, in \u001b[0;36mFigureCanvasWebAggCore._handle_mouse\u001b[1;34m(self, event)\u001b[0m\n\u001b[0;32m    291\u001b[0m guiEvent \u001b[38;5;241m=\u001b[39m event\u001b[38;5;241m.\u001b[39mget(\u001b[38;5;124m'\u001b[39m\u001b[38;5;124mguiEvent\u001b[39m\u001b[38;5;124m'\u001b[39m)\n\u001b[0;32m    292\u001b[0m \u001b[38;5;28;01mif\u001b[39;00m e_type \u001b[38;5;129;01min\u001b[39;00m [\u001b[38;5;124m'\u001b[39m\u001b[38;5;124mbutton_press\u001b[39m\u001b[38;5;124m'\u001b[39m, \u001b[38;5;124m'\u001b[39m\u001b[38;5;124mbutton_release\u001b[39m\u001b[38;5;124m'\u001b[39m]:\n\u001b[0;32m    293\u001b[0m     MouseEvent(e_type \u001b[38;5;241m+\u001b[39m \u001b[38;5;124m'\u001b[39m\u001b[38;5;124m_event\u001b[39m\u001b[38;5;124m'\u001b[39m, \u001b[38;5;28mself\u001b[39m, x, y, button,\n\u001b[1;32m--> 294\u001b[0m                modifiers\u001b[38;5;241m=\u001b[39mmodifiers, guiEvent\u001b[38;5;241m=\u001b[39mguiEvent)\u001b[38;5;241m.\u001b[39m_process()\n\u001b[0;32m    295\u001b[0m \u001b[38;5;28;01melif\u001b[39;00m e_type \u001b[38;5;241m==\u001b[39m \u001b[38;5;124m'\u001b[39m\u001b[38;5;124mdblclick\u001b[39m\u001b[38;5;124m'\u001b[39m:\n\u001b[0;32m    296\u001b[0m     MouseEvent(\u001b[38;5;124m'\u001b[39m\u001b[38;5;124mbutton_press_event\u001b[39m\u001b[38;5;124m'\u001b[39m, \u001b[38;5;28mself\u001b[39m, x, y, button, dblclick\u001b[38;5;241m=\u001b[39m\u001b[38;5;28;01mTrue\u001b[39;00m,\n\u001b[0;32m    297\u001b[0m                modifiers\u001b[38;5;241m=\u001b[39mmodifiers, guiEvent\u001b[38;5;241m=\u001b[39mguiEvent)\u001b[38;5;241m.\u001b[39m_process()\n",
      "File \u001b[1;32mc:\\Users\\ys\\Anaconda3\\envs\\marubatsu\\Lib\\site-packages\\matplotlib\\backend_bases.py:1271\u001b[0m, in \u001b[0;36mEvent._process\u001b[1;34m(self)\u001b[0m\n\u001b[0;32m   1269\u001b[0m \u001b[38;5;28;01mdef\u001b[39;00m \u001b[38;5;21m_process\u001b[39m(\u001b[38;5;28mself\u001b[39m):\n\u001b[0;32m   1270\u001b[0m \u001b[38;5;250m    \u001b[39m\u001b[38;5;124;03m\"\"\"Process this event on ``self.canvas``, then unset ``guiEvent``.\"\"\"\u001b[39;00m\n\u001b[1;32m-> 1271\u001b[0m     \u001b[38;5;28mself\u001b[39m\u001b[38;5;241m.\u001b[39mcanvas\u001b[38;5;241m.\u001b[39mcallbacks\u001b[38;5;241m.\u001b[39mprocess(\u001b[38;5;28mself\u001b[39m\u001b[38;5;241m.\u001b[39mname, \u001b[38;5;28mself\u001b[39m)\n\u001b[0;32m   1272\u001b[0m     \u001b[38;5;28mself\u001b[39m\u001b[38;5;241m.\u001b[39m_guiEvent_deleted \u001b[38;5;241m=\u001b[39m \u001b[38;5;28;01mTrue\u001b[39;00m\n",
      "File \u001b[1;32mc:\\Users\\ys\\Anaconda3\\envs\\marubatsu\\Lib\\site-packages\\matplotlib\\cbook.py:303\u001b[0m, in \u001b[0;36mCallbackRegistry.process\u001b[1;34m(self, s, *args, **kwargs)\u001b[0m\n\u001b[0;32m    301\u001b[0m \u001b[38;5;28;01mexcept\u001b[39;00m \u001b[38;5;167;01mException\u001b[39;00m \u001b[38;5;28;01mas\u001b[39;00m exc:\n\u001b[0;32m    302\u001b[0m     \u001b[38;5;28;01mif\u001b[39;00m \u001b[38;5;28mself\u001b[39m\u001b[38;5;241m.\u001b[39mexception_handler \u001b[38;5;129;01mis\u001b[39;00m \u001b[38;5;129;01mnot\u001b[39;00m \u001b[38;5;28;01mNone\u001b[39;00m:\n\u001b[1;32m--> 303\u001b[0m         \u001b[38;5;28mself\u001b[39m\u001b[38;5;241m.\u001b[39mexception_handler(exc)\n\u001b[0;32m    304\u001b[0m     \u001b[38;5;28;01melse\u001b[39;00m:\n\u001b[0;32m    305\u001b[0m         \u001b[38;5;28;01mraise\u001b[39;00m\n",
      "File \u001b[1;32mc:\\Users\\ys\\Anaconda3\\envs\\marubatsu\\Lib\\site-packages\\matplotlib\\cbook.py:87\u001b[0m, in \u001b[0;36m_exception_printer\u001b[1;34m(exc)\u001b[0m\n\u001b[0;32m     85\u001b[0m \u001b[38;5;28;01mdef\u001b[39;00m \u001b[38;5;21m_exception_printer\u001b[39m(exc):\n\u001b[0;32m     86\u001b[0m     \u001b[38;5;28;01mif\u001b[39;00m _get_running_interactive_framework() \u001b[38;5;129;01min\u001b[39;00m [\u001b[38;5;124m\"\u001b[39m\u001b[38;5;124mheadless\u001b[39m\u001b[38;5;124m\"\u001b[39m, \u001b[38;5;28;01mNone\u001b[39;00m]:\n\u001b[1;32m---> 87\u001b[0m         \u001b[38;5;28;01mraise\u001b[39;00m exc\n\u001b[0;32m     88\u001b[0m     \u001b[38;5;28;01melse\u001b[39;00m:\n\u001b[0;32m     89\u001b[0m         traceback\u001b[38;5;241m.\u001b[39mprint_exc()\n",
      "File \u001b[1;32mc:\\Users\\ys\\Anaconda3\\envs\\marubatsu\\Lib\\site-packages\\matplotlib\\cbook.py:298\u001b[0m, in \u001b[0;36mCallbackRegistry.process\u001b[1;34m(self, s, *args, **kwargs)\u001b[0m\n\u001b[0;32m    296\u001b[0m \u001b[38;5;28;01mif\u001b[39;00m func \u001b[38;5;129;01mis\u001b[39;00m \u001b[38;5;129;01mnot\u001b[39;00m \u001b[38;5;28;01mNone\u001b[39;00m:\n\u001b[0;32m    297\u001b[0m     \u001b[38;5;28;01mtry\u001b[39;00m:\n\u001b[1;32m--> 298\u001b[0m         func(\u001b[38;5;241m*\u001b[39margs, \u001b[38;5;241m*\u001b[39m\u001b[38;5;241m*\u001b[39mkwargs)\n\u001b[0;32m    299\u001b[0m     \u001b[38;5;66;03m# this does not capture KeyboardInterrupt, SystemExit,\u001b[39;00m\n\u001b[0;32m    300\u001b[0m     \u001b[38;5;66;03m# and GeneratorExit\u001b[39;00m\n\u001b[0;32m    301\u001b[0m     \u001b[38;5;28;01mexcept\u001b[39;00m \u001b[38;5;167;01mException\u001b[39;00m \u001b[38;5;28;01mas\u001b[39;00m exc:\n",
      "File \u001b[1;32mc:\\Users\\ys\\ai\\marubatsu\\119\\tree.py:701\u001b[0m, in \u001b[0;36mMbtree_GUI.create_event_handler.<locals>.on_mouse_down\u001b[1;34m(event)\u001b[0m\n\u001b[0;32m    699\u001b[0m \u001b[38;5;28;01mif\u001b[39;00m rect\u001b[38;5;241m.\u001b[39mis_inside(event\u001b[38;5;241m.\u001b[39mxdata, event\u001b[38;5;241m.\u001b[39mydata):\n\u001b[0;32m    700\u001b[0m     \u001b[38;5;28mself\u001b[39m\u001b[38;5;241m.\u001b[39mselectednode \u001b[38;5;241m=\u001b[39m node\n\u001b[1;32m--> 701\u001b[0m     \u001b[38;5;28mself\u001b[39m\u001b[38;5;241m.\u001b[39mupdate_gui()\n\u001b[0;32m    702\u001b[0m     \u001b[38;5;28;01mbreak\u001b[39;00m\n",
      "Cell \u001b[1;32mIn[43], line 18\u001b[0m, in \u001b[0;36mupdate_gui\u001b[1;34m(self)\u001b[0m\n\u001b[0;32m     15\u001b[0m \u001b[38;5;28;01mwhile\u001b[39;00m centernode\u001b[38;5;241m.\u001b[39mdepth \u001b[38;5;241m>\u001b[39m \u001b[38;5;241m6\u001b[39m:\n\u001b[0;32m     16\u001b[0m     centernode \u001b[38;5;241m=\u001b[39m centernode\u001b[38;5;241m.\u001b[39mparent\n\u001b[0;32m     17\u001b[0m \u001b[38;5;28mself\u001b[39m\u001b[38;5;241m.\u001b[39mmbtree\u001b[38;5;241m.\u001b[39mdraw_subtree(centernode\u001b[38;5;241m=\u001b[39mcenternode, selectednode\u001b[38;5;241m=\u001b[39m\u001b[38;5;28mself\u001b[39m\u001b[38;5;241m.\u001b[39mselectednode,\n\u001b[1;32m---> 18\u001b[0m                          show_bestmove\u001b[38;5;241m=\u001b[39m\u001b[38;5;28;01mTrue\u001b[39;00m, show_score\u001b[38;5;241m=\u001b[39m\u001b[38;5;28mself\u001b[39m\u001b[38;5;241m.\u001b[39mshow_score,\n\u001b[0;32m     19\u001b[0m                          ax\u001b[38;5;241m=\u001b[39m\u001b[38;5;28mself\u001b[39m\u001b[38;5;241m.\u001b[39max, maxdepth\u001b[38;5;241m=\u001b[39mmaxdepth, size\u001b[38;5;241m=\u001b[39m\u001b[38;5;28mself\u001b[39m\u001b[38;5;241m.\u001b[39msize)\n\u001b[0;32m     21\u001b[0m disabled \u001b[38;5;241m=\u001b[39m \u001b[38;5;28mself\u001b[39m\u001b[38;5;241m.\u001b[39mselectednode\u001b[38;5;241m.\u001b[39mparent \u001b[38;5;129;01mis\u001b[39;00m \u001b[38;5;28;01mNone\u001b[39;00m\n\u001b[0;32m     22\u001b[0m \u001b[38;5;28mself\u001b[39m\u001b[38;5;241m.\u001b[39mset_button_status(\u001b[38;5;28mself\u001b[39m\u001b[38;5;241m.\u001b[39mleft_button, disabled\u001b[38;5;241m=\u001b[39mdisabled)\n",
      "\u001b[1;31mAttributeError\u001b[0m: 'Mbtree_GUI' object has no attribute 'show_score'"
     ]
    }
   ],
   "source": [
    "from util import gui_play\n",
    "\n",
    "gui_play()"
   ]
  },
  {
   "cell_type": "code",
   "execution_count": 2,
   "metadata": {},
   "outputs": [
    {
     "data": {
      "application/vnd.jupyter.widget-view+json": {
       "model_id": "29e03340a7ad4bd49865514ef9d1c2f1",
       "version_major": 2,
       "version_minor": 0
      },
      "text/plain": [
       "VBox(children=(Output(layout=Layout(display='none')), HBox(children=(Label(value='', layout=Layout(width='50px…"
      ]
     },
     "metadata": {},
     "output_type": "display_data"
    },
    {
     "data": {
      "text/plain": [
       "<tree.Mbtree_GUI at 0x2281d585090>"
      ]
     },
     "execution_count": 2,
     "metadata": {},
     "output_type": "execute_result"
    }
   ],
   "source": [
    "from tree import Mbtree, Mbtree_GUI\n",
    "\n",
    "mbtree = Mbtree.load(\"../data/aidata\")\n",
    "Mbtree_GUI(mbtree)"
   ]
  },
  {
   "cell_type": "code",
   "execution_count": 4,
   "metadata": {},
   "outputs": [
    {
     "data": {
      "application/vnd.jupyter.widget-view+json": {
       "model_id": "cc70bee6527e42c9b4363f8aad88fed9",
       "version_major": 2,
       "version_minor": 0
      },
      "image/png": "[encoded data removed]",
      "text/html": [
       "\n",
       "            <div style=\"display: inline-block;\">\n",
       "                <div class=\"jupyter-widgets widget-label\" style=\"text-align: center;\">\n",
       "                    Figure\n",
       "                </div>\n",
       "                <img src='data:image/png;base64,iVBORw0KGgoAAAANSUhEUgAAAGQAAABkCAYAAABw4pVUAAAAOXRFWHRTb2Z0d2FyZQBNYXRwbG90bGliIHZlcnNpb24zLjguMCwgaHR0cHM6Ly9tYXRwbG90bGliLm9yZy81sbWrAAAACXBIWXMAAA9hAAAPYQGoP6dpAAAMXklEQVR4nO2dW3AUZRqGn54kRAg5TQ5AkkkwJ4gCAWNEWERDgigRVJAqBVetvfBGkeCFVdZuleXNcrVeLAc5eEg4SlARrVqKLYskEAwgiKVVu6WSEDIkAgFMZiaTOfde9PQkgJCZnp7pHneeqr6YpPv/v+l33v/7vz4KoiiKxNENBq0DiHMzcUF0RlwQnREXRGfEBdEZcUF0RlwQnREXRGfEBdEZhsbGRq1jiDOKxFA38Pl89PX1kZqaiiAIkYjpD4coilitVvLy8jAY7j4ohSxIX18fJpNJcXD/z5jNZgoKCu66TsiCpKamBhpPS0tTFtn/GRaLBZPJFNh3dyNkQeRhKi0tTVeC/KfPwtme31j9UCEJBn0OpcEM8WMK4nQ6cTqdgc8WiyW8qCKAw+3lL43fctniAFHkz/Omah2SYsac9m7YsIH09PTAosf8sf9bsyQGsLmlE4fbq3FEyhlTkLfffpvBwcHAYjaboxFX0DjcXra0ngcgwSBw2eJg/7f6ijEUxhQkOTk5kC/0ljcA9p3u4YrFSV76Pfx1aQUAW1rPx6xLYrpSl9zRCcBri0pZ83Aheen3cMXiZN/pHo2jU4bhlVde0ToGxew91UO/1Ul+xnhWVZlITkzgtUWlALzfGpu5JGYd4nB7eb9Ncsfri0oZlyh9lVVVJvIzxnPV6mTvqdhzScwKsvvkxYA7Vj4wUv2OSzTwWo3fJW2x55KYFGTY5WVrWxcAa0e5Q+a5qgLyM8bTb3Wy++RFLUJUTEwKsvvkRa7ZnJiM41lZdfuxoXGJBtb6c8nWti6GXbHjkpgTxO7ysNWfO9bWlJGU8PtfYWVVASbjeK7ZYsslMSfI7pMXuT7kotA4gWcfyL/jekkJBtbWlAGw7VgndpcnWiGGRUwJYnd52DYqd9zJHTLPPpBPoXEC12yumHFJTAmys0NyR1HWBJ6dc2d3yCQlGHjdn0u2tXXFhEtiRpAhp4ftx2R3lJE4hjtkVszJpyhrAteHXOzs0L9LYkaQpo5ubgy5uDc7hWdm5wW9XWKCgbWLpFyy/VgXQ059uyQmBLHd5I7SoN0h88zsPO7NTuHGkIumju4IRKgeMSFI0zfdDNjdFGensLwyeHfISC6RcsmOY13YdOwS3QtidbjZcVxyxxu1weeOW1lemUdxdgq/2d00fdOtYoTqontBAu7ISWGZAnfIJCYYWFvrd8nxLqwOt1ohqoquBbE43Ow4fgGAdbVlYV+8sLwyn+KcFAZ07BJdC9J4opvBYTeluRN5apZyd8gkGATW1Uozrh3HL2DRoUt0K8jgsJsPRuUOtS7teWpWHqW5ExkcdtN4oluVNtVEt4I0nujG4vBQljuR+plTVGs3wSDwht8lHxzv0p1LdCnI4LCbD9old6yrU88dMvUzp1CaOxGLw8PH7d2qth0uuhTko/YLWB0eyidNZOkM9dwhMzqXfNDexeCwflyiO0EG7W4+apdnVuUYInRZaP3MKZRPmojV4Qn0pwd0J8iH7V1YnR6mT07lyRmTI9aPwSCwrrYckBw5aNeHS3QlyIDdxUf+mc+62rKIuUPmyRmTmT45FavTw4f+nKU1uhLkw/YL2PzuWHJ/5NwhYxiVSz4+0c2A3RXxPsdCN4IM2F187HdHQ13kcsetLLl/tEu0zyW6EWTHcekobMWUNB6/b1LU+jUYBBrq9OMSXQhyY8gVqJob6iKfO27l8fsmUzElDZvTEziyrBW6EGTH8S6GXF7uz4uuO2RGu6TxhHRmUis0F+S6zRk48tpQV67Znb2P3zeJ+/PSGHJ5A8fQtEBzQXYcv4Dd5WVmfjp1FbmaxSEIAg11Ul3S9I12LtFUkOs2Jzv957gb6so0v++9riKXGfmSS+Rz+NFGU0G2H+vC7vIyqyCdRdO1c4eMIAg0+Kv3nR3dXLc5x9hCfTQT5JrNGbhOSg/ukKmtyGVWQTp2jVyimSDb2joZdnupNGVQM017d8hIuUSace3skK6yjyaaCHLV6mDXSf25Q6ZmWi6VpgyG3dF3iSaCbG/rwuH2MduUwWPlOVqEcFdudkk3/dbouSTqgly1Oth9SnLH+sXa1R1j8Vh5DrNNGTjcPrb570eJBlEXZGur5I45hRksLMuOdvdBM9olu09d5KrVEZV+oyrIVYuDPbI7NKzKg+XR8hzmFEou2doanVwSVUG2tHbi9PioKsrkER27Q0YQBNb7q/c9py5y1RJ5l0RNkMuDDvb6n64QC+6QeaQsm6qiTJweX+C++EgSNUG2tnXi8vionprJn0qzotVt2IzOJXtO9XAlwi6JiiCx6g6ZBaXZPFiUicvj4/3WyLokKoJsaT2Py+PjoalG5pXEjjtkBEFg/WIpl+w93cPlwci5JOKC9A0M88lp6flVDYu1rcr37duHIAikpqYyNDQU0rbzS7J4aKoRl8cXeD5XJIi4IFtaz+Py+ph7r5H5JdrOrORnFNtsNj777LOQthUEgYbFUi755LSZvoFhtcMDIixI78Bw4OlusuW1ore3l6+//jrwuampKeQ25pdkM/deIy5v5HJJRAXZ0nIet1dkXnEWDxdrmzt27tyJz+ejvr4egJaWFnp6Qn98k3xWcf+3kXFJxAS59Jud5jP+3OGfNmqJ7IiXX36ZiooKRFFk165dIbczrySLh4sll2xuUT+XREyQzS2duL0i80uymKuxOzo6Ovjpp59ISkqirq6OpUuXApJrlCBX781nzFz6za5anBAhQcw37Bw4o4/cASPJvKamhszMTFasWAHAzz//TEdHR8jtzS3OYn5JFm6vyOYWdXNJRATZ3HIej09kQWk21VONkegiaBwOB83NzQA899xzAMybNy/wDHYlyR1GfmgHzpgx31DPJaoLYr5h59OzlwBYv1j73HHw4EEGBgZISkpi5cqVgDSFfeGFFwDYv38/DkfohV71VCMLSrPx+ERV6xLVBdl0VHKHdFBOW3fAyHD1xBNPYDSOxLNmzRoABgYG+PLLLxW1LU9WDpy5pJpLVBWk57qdT7+T3CFPD7VkdO2xevXqm/5XWVnJzJkzAeXD1oNTjTxSJrlk01F1XKKqIBuP/oLXJ7KwPIeqokw1m1aEXHukpKSwfPny2/4vu+TIkSNcvnxZUR/yD+/T7y7Rcz18l6gmSPe1IT4/1wvAeh3UHTDyy6+vr8dgMOBwOG5aVqxYgSAIeL1e9uzZo6iPqqJMFpbn4PWJbDz6S9gxqybIxqPn8fpEHpuWw5xC7d0h1x4Azc3NjB8//ralvLwc+WXZSoctGMkln5/rpftaaActb0UVQS5cG+LgOf3kDhhJ5sHy448/cu7cOUV9PVCYyaN+l2wKs3o3VFdX097eHlYjG4/+gk+ERdNzmW3KCKstNRhde7z66quIonjH5cqVKyQmSu+1Ccclcl1yMEyXGN566y3q6+vp6lJ2VUVXv40v/LlDD8esYKT2AHjxxRfvum5ubi5LliwBYO/evbjdym6Pnm3KoGaa5JJ/hpFLDKtWrWLhwoVs2rRJUQMbj57HJ0Lt9FxmFWQoDkRN5OGqqKiIBQsWjLn+Sy+9BEB/fz+HDx9W3K88XH9xrpeufpuiNgwAy5YtUxRIZ7+NQ9/L7tBH7hhde6xZsyaoM5RPP/00GRkZQHjDVqUpg9rpufhE6YeqhESA/Px8ent7Q9rQ6xOp/Udb4PNXP/Tx1Q99ioJQk7bm7fh8PgCGTPP4+7/+G9R2pXMXc+bIAQ59+RV/+6SDCWkZivqX9T/0fS+vLyqlJGdiSNsnSo3c+Vd0p7e0dfZbb1pPqzuObqX3q08BGDephC+6BegOLi5HdjVwAK/HzZYPm0irWhZWHD4RWn/qVybIr7/+Sn7+7z8pesOGDbz77ru3/b3QmMLE5ERsTg+vLixWEHKEWPhvhRsWw+qnVAtjwrgEVgTx9O1bEURRFJ9//nny8vJ47733blvh9xxiMpkYHBzU3QvC9IrFYiE9PT2ofZZ46NAhDh8+zNmzZ393heTkZJKTkwOf5cpWjy+Y1CvyvpL33V2prq4Wjx07JgaL2WwWgfiiYDGbzWPuX0EMSrYRRr++22q1YjKZ4i8qvgV5WJf3S0Rf320wGAKnP/X6omK9MHq/pKenB7WN5k9yiHMzcUF0RliCJCcn884779w0C4sT3n4JOanHiSzxIUtnxAXRGXFBdIZiQRobG5kxYwYFBQWocRr4j4LP5+PkyZO8+eabGI3GkM/t/w94wJovqU9ZmQAAAABJRU5ErkJggg==' width=100.0/>\n",
       "            </div>\n",
       "        "
      ],
      "text/plain": [
       "Canvas(toolbar=Toolbar(toolitems=[('Home', 'Reset original view', 'home', 'home'), ('Back', 'Back to previous …"
      ]
     },
     "metadata": {},
     "output_type": "display_data"
    },
    {
     "data": {
      "application/vnd.jupyter.widget-view+json": {
       "model_id": "afd7e490823e4d88a145bc5b0c387092",
       "version_major": 2,
       "version_minor": 0
      },
      "image/png": "[encoded data removed]",
      "text/html": [
       "\n",
       "            <div style=\"display: inline-block;\">\n",
       "                <div class=\"jupyter-widgets widget-label\" style=\"text-align: center;\">\n",
       "                    Figure\n",
       "                </div>\n",
       "                <img src='data:image/png;base64,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' width=200.0/>\n",
       "            </div>\n",
       "        "
      ],
      "text/plain": [
       "Canvas(toolbar=Toolbar(toolitems=[('Home', 'Reset original view', 'home', 'home'), ('Back', 'Back to previous …"
      ]
     },
     "metadata": {},
     "output_type": "display_data"
    },
    {
     "data": {
      "application/vnd.jupyter.widget-view+json": {
       "model_id": "68292f3417cb485c89f7c39a694d3718",
       "version_major": 2,
       "version_minor": 0
      },
      "image/png": "[encoded data removed]",
      "text/html": [
       "\n",
       "            <div style=\"display: inline-block;\">\n",
       "                <div class=\"jupyter-widgets widget-label\" style=\"text-align: center;\">\n",
       "                    Figure\n",
       "                </div>\n",
       "                <img src='data:image/png;base64,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' width=200.0/>\n",
       "            </div>\n",
       "        "
      ],
      "text/plain": [
       "Canvas(toolbar=Toolbar(toolitems=[('Home', 'Reset original view', 'home', 'home'), ('Back', 'Back to previous …"
      ]
     },
     "metadata": {},
     "output_type": "display_data"
    }
   ],
   "source": [
    "import matplotlib.pyplot as plt\n",
    "import japanize_matplotlib\n",
    "\n",
    "fig, ax = plt.subplots(figsize=(1, 1))\n",
    "ax.plot([0, 1, 0.5, 0], [0, 0, 1, 0])\n",
    "ax.text(0.5, 0, \"A\", fontsize=20)\n",
    "plt.show()\n",
    "fig, ax = plt.subplots(figsize=(2, 2))\n",
    "ax.plot([0, 1, 0.5, 0], [0, 0, 1, 0])\n",
    "ax.text(0.5, 0, \"A\", fontsize=20)\n",
    "plt.show()\n",
    "fig, ax = plt.subplots(figsize=(2, 2))\n",
    "ax.set_xlim(-1, 2)\n",
    "ax.set_ylim(-1, 2)\n",
    "ax.plot([0, 1, 0.5, 0], [0, 0, 1, 0])\n",
    "ax.text(0.5, 0, \"A\", fontsize=20)\n",
    "plt.show()"
   ]
  },
  {
   "cell_type": "code",
   "execution_count": 5,
   "metadata": {},
   "outputs": [
    {
     "data": {
      "application/vnd.jupyter.widget-view+json": {
       "model_id": "d8a750fa202248219a4edc432cf9bb91",
       "version_major": 2,
       "version_minor": 0
      },
      "text/plain": [
       "VBox(children=(Output(layout=Layout(display='none')), HBox(children=(Label(value='', layout=Layout(width='50px…"
      ]
     },
     "metadata": {},
     "output_type": "display_data"
    },
    {
     "data": {
      "text/plain": [
       "<tree.Mbtree_GUI at 0x228491f2a90>"
      ]
     },
     "execution_count": 5,
     "metadata": {},
     "output_type": "execute_result"
    }
   ],
   "source": [
    "Mbtree_GUI(mbtree, size=0.5)"
   ]
  },
  {
   "cell_type": "code",
   "execution_count": 6,
   "metadata": {},
   "outputs": [],
   "source": [
    "from tree import Node, Rect\n",
    "from marubatsu import Marubatsu_GUI\n",
    "\n",
    "def draw_node(self, ax=None, maxdepth=None, emphasize=False, darkness=0, size=0.25, lw=0.8, dx=0, dy=0):  \n",
    "    width = 8\n",
    "    if ax is None:\n",
    "        height = len(self.children) * 4\n",
    "        fig, ax = plt.subplots(figsize=(width * size, height * size))\n",
    "        ax.set_xlim(0, width)\n",
    "        ax.set_ylim(0, height)   \n",
    "        ax.invert_yaxis()\n",
    "        ax.axis(\"off\")\n",
    "        for childnode in self.children:\n",
    "            childnode.height = 4\n",
    "        self.height = height         \n",
    "        \n",
    "    # 自分自身のノードを真ん中の位置になるように (dx, dy) からずらして描画する\n",
    "    y = dy + (self.height - 3) / 2\n",
    "    bc = \"red\" if emphasize else None\n",
    "    Marubatsu_GUI.draw_board(ax, self.mb, show_result=True, \n",
    "                            score=getattr(self, \"score\", None), bc=bc, darkness=darkness, lw=lw, dx=dx, dy=y)\n",
    "    if hasattr(self, \"score\"):\n",
    "        ax.text(dx, y - 0.1, self.score, fontsize=70*size)\n",
    "    rect = Rect(dx, y, 3, 3)\n",
    "    # 子ノードが存在する場合に、エッジの線と子ノードを描画する\n",
    "    if len(self.children) > 0:\n",
    "        if maxdepth != self.depth:   \n",
    "            ax.plot([dx + 3.5, dx + 4], [y + 1.5, y + 1.5], c=\"k\", lw=lw)\n",
    "            prevy = None\n",
    "            for childnode in self.children:\n",
    "                childnodey = dy + (childnode.height - 3) / 2\n",
    "                if maxdepth is None:\n",
    "                    Marubatsu_GUI.draw_board(ax, childnode.mb, show_result=True,\n",
    "                                            score=getattr(childnode, \"score\", None), dx=dx+5, dy=childnodey, lw=lw)\n",
    "                edgey = childnodey + 1.5\n",
    "                ax.plot([dx + 4 , dx + 4.5], [edgey, edgey], c=\"k\", lw=lw)\n",
    "                if prevy is not None:\n",
    "                    ax.plot([dx + 4 , dx + 4], [prevy, edgey], c=\"k\", lw=lw)\n",
    "                prevy = edgey\n",
    "                dy += childnode.height\n",
    "        else:\n",
    "            ax.plot([dx + 3.5, dx + 4.5], [y + 1.5, y + 1.5], c=\"k\", lw=lw)\n",
    "            \n",
    "    return rect\n",
    "\n",
    "Node.draw_node = draw_node"
   ]
  },
  {
   "cell_type": "code",
   "execution_count": 7,
   "metadata": {},
   "outputs": [
    {
     "data": {
      "application/vnd.jupyter.widget-view+json": {
       "model_id": "a648b22e7a704aecb96ef8cc1cd06c91",
       "version_major": 2,
       "version_minor": 0
      },
      "text/plain": [
       "VBox(children=(Output(layout=Layout(display='none')), HBox(children=(Label(value='', layout=Layout(width='50px…"
      ]
     },
     "metadata": {},
     "output_type": "display_data"
    },
    {
     "data": {
      "text/plain": [
       "<tree.Mbtree_GUI at 0x2285230aa90>"
      ]
     },
     "execution_count": 7,
     "metadata": {},
     "output_type": "execute_result"
    }
   ],
   "source": [
    "Mbtree_GUI(mbtree)"
   ]
  },
  {
   "cell_type": "code",
   "execution_count": 8,
   "metadata": {},
   "outputs": [
    {
     "data": {
      "application/vnd.jupyter.widget-view+json": {
       "model_id": "54992ca6729049b0b335f9b05a67f721",
       "version_major": 2,
       "version_minor": 0
      },
      "text/plain": [
       "VBox(children=(Output(layout=Layout(display='none')), HBox(children=(Label(value='', layout=Layout(width='50px…"
      ]
     },
     "metadata": {},
     "output_type": "display_data"
    },
    {
     "data": {
      "text/plain": [
       "<tree.Mbtree_GUI at 0x22861876790>"
      ]
     },
     "execution_count": 8,
     "metadata": {},
     "output_type": "execute_result"
    }
   ],
   "source": [
    "Mbtree_GUI(mbtree, size=0.5)"
   ]
  },
  {
   "cell_type": "code",
   "execution_count": 9,
   "metadata": {},
   "outputs": [],
   "source": [
    "def update_gui(self):\n",
    "    self.ax.clear()\n",
    "    self.ax.set_xlim(-1, self.width - 1)\n",
    "    self.ax.set_ylim(-1, self.height - 1)   \n",
    "    self.ax.invert_yaxis()\n",
    "    self.ax.axis(\"off\")   \n",
    "    \n",
    "    if self.selectednode.depth <= 4:\n",
    "        maxdepth = self.selectednode.depth + 1\n",
    "    elif self.selectednode.depth == 5:\n",
    "        maxdepth = 7\n",
    "    else:\n",
    "        maxdepth = 9\n",
    "    centernode = self.selectednode\n",
    "    while centernode.depth > 6:\n",
    "        centernode = centernode.parent\n",
    "    self.mbtree.draw_subtree(centernode=centernode, selectednode=self.selectednode,\n",
    "                     show_bestmove=True, ax=self.ax, maxdepth=maxdepth, size=self.size)\n",
    "    \n",
    "    disabled = self.selectednode.parent is None\n",
    "    self.set_button_status(self.left_button, disabled=disabled)\n",
    "    disabled = self.selectednode.depth >= 6 or len(self.selectednode.children) == 0\n",
    "    self.set_button_status(self.right_button, disabled=disabled)\n",
    "    disabled = self.selectednode.parent is None or self.selectednode.parent.children.index(self.selectednode) == 0\n",
    "    self.set_button_status(self.up_button, disabled=disabled)\n",
    "    disabled = self.selectednode.parent is None or self.selectednode.parent.children[-1] is self.selectednode\n",
    "    self.set_button_status(self.down_button, disabled=disabled)\n",
    "\n",
    "Mbtree_GUI.update_gui = update_gui"
   ]
  },
  {
   "cell_type": "code",
   "execution_count": 10,
   "metadata": {},
   "outputs": [
    {
     "data": {
      "application/vnd.jupyter.widget-view+json": {
       "model_id": "ad465f552b7d41b599256a335281adbd",
       "version_major": 2,
       "version_minor": 0
      },
      "text/plain": [
       "VBox(children=(Output(layout=Layout(display='none')), HBox(children=(Label(value='', layout=Layout(width='50px…"
      ]
     },
     "metadata": {},
     "output_type": "display_data"
    },
    {
     "data": {
      "text/plain": [
       "<tree.Mbtree_GUI at 0x2283e422a90>"
      ]
     },
     "execution_count": 10,
     "metadata": {},
     "output_type": "execute_result"
    }
   ],
   "source": [
    "Mbtree_GUI(mbtree)"
   ]
  },
  {
   "cell_type": "code",
   "execution_count": 11,
   "metadata": {},
   "outputs": [
    {
     "data": {
      "application/vnd.jupyter.widget-view+json": {
       "model_id": "aef7e667d20647de95b0e8fb2c1c1e1a",
       "version_major": 2,
       "version_minor": 0
      },
      "text/plain": [
       "VBox(children=(Output(layout=Layout(display='none')), HBox(children=(Label(value='', layout=Layout(width='50px…"
      ]
     },
     "metadata": {},
     "output_type": "display_data"
    },
    {
     "data": {
      "text/plain": [
       "<tree.Mbtree_GUI at 0x22868c5bdd0>"
      ]
     },
     "execution_count": 11,
     "metadata": {},
     "output_type": "execute_result"
    }
   ],
   "source": [
    "Mbtree_GUI(mbtree, size=0.5)"
   ]
  },
  {
   "cell_type": "code",
   "execution_count": 12,
   "metadata": {},
   "outputs": [
    {
     "data": {
      "application/vnd.jupyter.widget-view+json": {
       "model_id": "2d458ec416b44e62ab6d96c4e153853e",
       "version_major": 2,
       "version_minor": 0
      },
      "text/plain": [
       "VBox(children=(HBox(children=(Checkbox(value=False, description='乱数の種', indent=False, layout=Layout(width='100…"
      ]
     },
     "metadata": {},
     "output_type": "display_data"
    },
    {
     "data": {
      "application/vnd.jupyter.widget-view+json": {
       "model_id": "496d0779a75b4755a576eb45c2154b5c",
       "version_major": 2,
       "version_minor": 0
      },
      "text/plain": [
       "VBox(children=(Output(layout=Layout(display='none')), HBox(children=(Label(value='', layout=Layout(width='50px…"
      ]
     },
     "metadata": {},
     "output_type": "display_data"
    }
   ],
   "source": [
    "gui_play()"
   ]
  },
  {
   "cell_type": "code",
   "execution_count": 13,
   "metadata": {},
   "outputs": [],
   "source": [
    "import ipywidgets as widgets\n",
    "\n",
    "def create_widgets(self):\n",
    "    self.output = widgets.Output()  \n",
    "    self.print_helpmessage()\n",
    "    self.output.layout.display = \"none\"\n",
    "    self.left_button = self.create_button(\"←\", 50)\n",
    "    self.up_button = self.create_button(\"↑\", 50)\n",
    "    self.right_button = self.create_button(\"→\", 50)\n",
    "    self.down_button = self.create_button(\"↓\", 50)\n",
    "    self.size_slider = widgets.FloatSlider(min=0.05, max=0.25, step=0.01, \n",
    "                                           description=\"size\", value=self.size)\n",
    "    self.help_button = self.create_button(\"？\", 50)\n",
    "    self.label = widgets.Label(value=\"\", layout=widgets.Layout(width=f\"50px\"))\n",
    "    \n",
    "    with plt.ioff():\n",
    "        self.fig = plt.figure(figsize=[self.width * self.size,\n",
    "                                        self.height * self.size])\n",
    "        self.ax = self.fig.add_axes([0, 0, 1, 1])\n",
    "    self.fig.canvas.toolbar_visible = False\n",
    "    self.fig.canvas.header_visible = False\n",
    "    self.fig.canvas.footer_visible = False\n",
    "    self.fig.canvas.resizable = False\n",
    "    \n",
    "Mbtree_GUI.create_widgets = create_widgets "
   ]
  },
  {
   "cell_type": "code",
   "execution_count": 14,
   "metadata": {},
   "outputs": [],
   "source": [
    "def display_widgets(self):    \n",
    "    hbox1 = widgets.HBox([self.label, self.up_button, self.label])\n",
    "    hbox2 = widgets.HBox([self.left_button, self.label, self.right_button,\n",
    "                          self.size_slider, self.help_button])\n",
    "    hbox3 = widgets.HBox([self.label, self.down_button, self.label])\n",
    "    self.vbox = widgets.VBox([self.output, hbox1, hbox2, hbox3, self.fig.canvas])\n",
    "    display(self.vbox)  \n",
    "    \n",
    "Mbtree_GUI.display_widgets = display_widgets"
   ]
  },
  {
   "cell_type": "code",
   "execution_count": 15,
   "metadata": {},
   "outputs": [
    {
     "data": {
      "application/vnd.jupyter.widget-view+json": {
       "model_id": "8a790e05548446feb552a6724a2b0870",
       "version_major": 2,
       "version_minor": 0
      },
      "text/plain": [
       "VBox(children=(Output(layout=Layout(display='none')), HBox(children=(Label(value='', layout=Layout(width='50px…"
      ]
     },
     "metadata": {},
     "output_type": "display_data"
    },
    {
     "data": {
      "text/plain": [
       "<tree.Mbtree_GUI at 0x2287804fc50>"
      ]
     },
     "execution_count": 15,
     "metadata": {},
     "output_type": "execute_result"
    }
   ],
   "source": [
    "Mbtree_GUI(mbtree)"
   ]
  },
  {
   "cell_type": "code",
   "execution_count": 16,
   "metadata": {},
   "outputs": [],
   "source": [
    "def create_event_handler(self):\n",
    "    def on_left_button_clicked(b=None):\n",
    "        if self.selectednode.parent is not None:\n",
    "            self.selectednode = self.selectednode.parent\n",
    "            self.update_gui()\n",
    "            \n",
    "    def on_right_button_clicked(b=None):\n",
    "        if len(self.selectednode.children) > 0:\n",
    "            self.selectednode = self.selectednode.children[0]\n",
    "            self.update_gui()\n",
    "\n",
    "    def on_up_button_clicked(b=None):\n",
    "        if self.selectednode.parent is not None:\n",
    "            index = self.selectednode.parent.children.index(self.selectednode)\n",
    "            if index > 0:\n",
    "                self.selectednode = self.selectednode.parent.children[index - 1]\n",
    "                self.update_gui()\n",
    "            \n",
    "    def on_down_button_clicked(b=None):\n",
    "        if self.selectednode.parent is not None:\n",
    "            index = self.selectednode.parent.children.index(self.selectednode)\n",
    "            if self.selectednode.parent.children[-1] is not self.selectednode:\n",
    "                self.selectednode = self.selectednode.parent.children[index + 1]\n",
    "                self.update_gui()            \n",
    "                \n",
    "    def on_size_slider_changed(changed):\n",
    "        self.size = changed[\"new\"]\n",
    "        self.fig.set_figwidth(self.width * self.size)\n",
    "        self.fig.set_figheight(self.height * self.size)\n",
    "        self.update_gui()\n",
    "                \n",
    "    def on_help_button_clicked(b=None):\n",
    "        self.output.layout.display = \"none\" if self.output.layout.display is None else None\n",
    "                        \n",
    "    self.left_button.on_click(on_left_button_clicked)\n",
    "    self.right_button.on_click(on_right_button_clicked)\n",
    "    self.up_button.on_click(on_up_button_clicked)\n",
    "    self.down_button.on_click(on_down_button_clicked)\n",
    "    self.size_slider.observe(on_size_slider_changed, names=\"value\")\n",
    "    self.help_button.on_click(on_help_button_clicked)\n",
    "\n",
    "    def on_key_press(event):\n",
    "        keymap = {\n",
    "            \"left\": on_left_button_clicked,\n",
    "            \"0\": on_left_button_clicked,\n",
    "            \"right\": on_right_button_clicked,\n",
    "            \"up\": on_up_button_clicked,\n",
    "            \"down\": on_down_button_clicked,\n",
    "        }\n",
    "        if event.key in keymap:\n",
    "            keymap[event.key]()\n",
    "        else:\n",
    "            try:\n",
    "                num = int(event.key) - 1\n",
    "                x = num % 3\n",
    "                y = 2 - (num // 3)\n",
    "                move = (x, y)\n",
    "                if move in self.selectednode.children_by_move:\n",
    "                    self.selectednode = self.selectednode.children_by_move[move]\n",
    "                    self.update_gui()\n",
    "            except:\n",
    "                pass            \n",
    "            \n",
    "    def on_mouse_down(event):\n",
    "        for rect, node in self.mbtree.nodes_by_rect.items():\n",
    "            if rect.is_inside(event.xdata, event.ydata):\n",
    "                self.selectednode = node\n",
    "                self.update_gui()\n",
    "                break               \n",
    "            \n",
    "    # fig の画像イベントハンドラを結び付ける\n",
    "    self.fig.canvas.mpl_connect(\"key_press_event\", on_key_press)\n",
    "    self.fig.canvas.mpl_connect(\"button_press_event\", on_mouse_down)\n",
    "    \n",
    "Mbtree_GUI.create_event_handler = create_event_handler"
   ]
  },
  {
   "cell_type": "code",
   "execution_count": 17,
   "metadata": {},
   "outputs": [
    {
     "data": {
      "application/vnd.jupyter.widget-view+json": {
       "model_id": "641396c456cf47f1af6ee726d5fadd5b",
       "version_major": 2,
       "version_minor": 0
      },
      "text/plain": [
       "VBox(children=(Output(layout=Layout(display='none')), HBox(children=(Label(value='', layout=Layout(width='50px…"
      ]
     },
     "metadata": {},
     "output_type": "display_data"
    },
    {
     "data": {
      "text/plain": [
       "<tree.Mbtree_GUI at 0x22879f12a90>"
      ]
     },
     "execution_count": 17,
     "metadata": {},
     "output_type": "execute_result"
    }
   ],
   "source": [
    "Mbtree_GUI(mbtree)"
   ]
  },
  {
   "cell_type": "code",
   "execution_count": 30,
   "metadata": {},
   "outputs": [],
   "source": [
    "import matplotlib.patches as patches\n",
    "\n",
    "def draw_node(self, ax=None, maxdepth=None, emphasize=False, darkness=0, show_score=True, size=0.25, lw=0.8, dx=0, dy=0):\n",
    "    width = 8\n",
    "    if ax is None:\n",
    "        height = len(self.children) * 4\n",
    "        fig, ax = plt.subplots(figsize=(width * size, height * size))\n",
    "        ax.set_xlim(0, width)\n",
    "        ax.set_ylim(0, height)   \n",
    "        ax.invert_yaxis()\n",
    "        ax.axis(\"off\")\n",
    "        for childnode in self.children:\n",
    "            childnode.height = 4\n",
    "        self.height = height         \n",
    "        \n",
    "    # 自分自身のノードを真ん中の位置になるように (dx, dy) からずらして描画する\n",
    "    y = dy + (self.height - 3) / 2\n",
    "    bc = \"red\" if emphasize else None\n",
    "    Marubatsu_GUI.draw_board(ax, self.mb, show_result=True, \n",
    "                            score=getattr(self, \"score\", None), bc=bc, darkness=darkness, lw=lw, dx=dx, dy=y)\n",
    "    if hasattr(self, \"score\") and show_score:\n",
    "        ax.text(dx, y - 0.1, self.score, fontsize=70*size)\n",
    "    rect = Rect(dx, y, 3, 3)\n",
    "    # 子ノードが存在する場合に、エッジの線と子ノードを描画する\n",
    "    if len(self.children) > 0:\n",
    "        if maxdepth != self.depth:   \n",
    "            ax.plot([dx + 3.5, dx + 4], [y + 1.5, y + 1.5], c=\"k\", lw=lw)\n",
    "            prevy = None\n",
    "            for childnode in self.children:\n",
    "                childnodey = dy + (childnode.height - 3) / 2\n",
    "                if maxdepth is None:\n",
    "                    Marubatsu_GUI.draw_board(ax, childnode.mb, show_result=True,\n",
    "                                            score=getattr(childnode, \"score\", None), dx=dx+5, dy=childnodey, lw=lw)\n",
    "                edgey = childnodey + 1.5\n",
    "                ax.plot([dx + 4 , dx + 4.5], [edgey, edgey], c=\"k\", lw=lw)\n",
    "                if prevy is not None:\n",
    "                    ax.plot([dx + 4 , dx + 4], [prevy, edgey], c=\"k\", lw=lw)\n",
    "                prevy = edgey\n",
    "                dy += childnode.height\n",
    "        else:\n",
    "            ax.plot([dx + 3.5, dx + 4.5], [y + 1.5, y + 1.5], c=\"k\", lw=lw)\n",
    "            \n",
    "    return rect\n",
    "\n",
    "Node.draw_node = draw_node"
   ]
  },
  {
   "cell_type": "code",
   "execution_count": 31,
   "metadata": {},
   "outputs": [],
   "source": [
    "def draw_subtree(self, centernode=None, selectednode=None, ax=None, anim_frame=None, isscore=False,\n",
    "                 show_bestmove=False, show_score=True, size=0.25, lw=0.8, maxdepth=2):\n",
    "    def calc_darkness(node):\n",
    "        \"\"\"ノードを表示する暗さを計算して返す.\"\"\"\n",
    "        \n",
    "        if show_bestmove:\n",
    "            if node.parent is None:\n",
    "                return 0\n",
    "            elif node.mb.last_move in node.parent.bestmoves:\n",
    "                return 0\n",
    "            else:\n",
    "                return 0.2\n",
    "            \n",
    "        if anim_frame is None:\n",
    "            return 0\n",
    "        index = node.score_index if isscore else node.id\n",
    "        return 0.5 if index > anim_frame else 0\n",
    "    \n",
    "    self.nodes_by_rect = {}\n",
    "\n",
    "    if centernode is None:\n",
    "        centernode = self.root\n",
    "    self.calc_node_height(N=centernode, maxdepth=maxdepth)\n",
    "    width = 5 * (maxdepth + 1)\n",
    "    height = centernode.height\n",
    "    parent = centernode.parent\n",
    "    if parent is not None:\n",
    "        height += (len(parent.children) - 1) * 4\n",
    "        parent.height = height\n",
    "    if ax is None:\n",
    "        fig, ax = plt.subplots(figsize=(width * size, height * size))\n",
    "        ax.set_xlim(0, width)\n",
    "        ax.set_ylim(0, height)   \n",
    "        ax.invert_yaxis()\n",
    "        ax.axis(\"off\")        \n",
    "    \n",
    "    if show_bestmove:\n",
    "        bestx = 5 * maxdepth + 4\n",
    "        bestwidth = 50 - bestx\n",
    "        ax.add_artist(patches.Rectangle(xy=(bestx, -1), width=bestwidth,\n",
    "                                        height=height + 1, fc=\"lightgray\"))\n",
    "    \n",
    "    nodelist = [centernode]\n",
    "    depth = centernode.depth\n",
    "    while len(nodelist) > 0 and depth <= maxdepth:        \n",
    "        dy = 0\n",
    "        if parent is not None:\n",
    "            dy = parent.children.index(centernode) * 4\n",
    "        childnodelist = []\n",
    "        for node in nodelist:\n",
    "            if node is None:\n",
    "                dy += 4\n",
    "                childnodelist.append(None)\n",
    "            else:\n",
    "                dx = 5 * node.depth\n",
    "                emphasize = node is selectednode\n",
    "                darkness = calc_darkness(node)\n",
    "                rect = node.draw_node(ax=ax, maxdepth=maxdepth, emphasize=emphasize, darkness=darkness,\n",
    "                                      show_score=show_score, size=size, lw=lw, dx=dx, dy=dy)\n",
    "                self.nodes_by_rect[rect] = node\n",
    "                if show_bestmove and depth == maxdepth:\n",
    "                    bestnode = node\n",
    "                    while len(bestnode.bestmoves) > 0:\n",
    "                        bestmove = bestnode.bestmoves[0]\n",
    "                        bestnode = bestnode.children_by_move[bestmove]\n",
    "                        dx = 5 * bestnode.depth\n",
    "                        bestnode.height = 4\n",
    "                        rect = bestnode.draw_node(ax=ax, maxdepth=bestnode.depth, emphasize=emphasize,\n",
    "                                                  show_score=show_score, size=size, lw=lw, dx=dx, dy=dy)\n",
    "                        self.nodes_by_rect[rect] = bestnode                                          \n",
    "                    \n",
    "                dy += node.height\n",
    "                if len(node.children) > 0:  \n",
    "                    childnodelist += node.children\n",
    "                else:\n",
    "                    childnodelist.append(None)\n",
    "        depth += 1\n",
    "        nodelist = childnodelist\n",
    "        \n",
    "    if parent is not None:\n",
    "        dy = 0\n",
    "        for sibling in parent.children:\n",
    "            if sibling is not centernode:\n",
    "                sibling.height = 4\n",
    "                dx = 5 * sibling.depth\n",
    "                darkness = calc_darkness(sibling)\n",
    "                rect = sibling.draw_node(ax, maxdepth=sibling.depth, size=size, darkness=darkness,\n",
    "                                         show_score=show_score, lw=lw, dx=dx, dy=dy)\n",
    "                self.nodes_by_rect[rect] = sibling\n",
    "            dy += sibling.height\n",
    "        dx = 5 * parent.depth\n",
    "        darkness = calc_darkness(parent)\n",
    "        rect = parent.draw_node(ax, maxdepth=maxdepth, darkness=darkness, \n",
    "                                show_score=show_score, size=size, lw=lw, dx=dx, dy=0)\n",
    "        self.nodes_by_rect[rect] = parent\n",
    "    \n",
    "        node = parent\n",
    "        while node.parent is not None:\n",
    "            node = node.parent\n",
    "            node.height = height\n",
    "            dx = 5 * node.depth\n",
    "            darkness = calc_darkness(node)\n",
    "            rect = node.draw_node(ax, maxdepth=node.depth, darkness=darkness,\n",
    "                                  show_score=show_score, size=size, lw=lw, dx=dx, dy=0)\n",
    "            self.nodes_by_rect[rect] = node\n",
    "            \n",
    "Mbtree.draw_subtree = draw_subtree"
   ]
  },
  {
   "cell_type": "code",
   "execution_count": 32,
   "metadata": {},
   "outputs": [],
   "source": [
    "def __init__(self, mbtree, show_score=True, size=0.15):\n",
    "    self.mbtree = mbtree\n",
    "    self.show_score = show_score\n",
    "    self.size = size\n",
    "    self.width = 50\n",
    "    self.height = 65\n",
    "    self.selectednode = self.mbtree.root\n",
    "    super(Mbtree_GUI, self).__init__()\n",
    "    \n",
    "Mbtree_GUI.__init__ = __init__"
   ]
  },
  {
   "cell_type": "code",
   "execution_count": 33,
   "metadata": {},
   "outputs": [],
   "source": [
    "def update_gui(self):\n",
    "    self.ax.clear()\n",
    "    self.ax.set_xlim(-1, self.width - 1)\n",
    "    self.ax.set_ylim(-1, self.height - 1)   \n",
    "    self.ax.invert_yaxis()\n",
    "    self.ax.axis(\"off\")   \n",
    "    \n",
    "    if self.selectednode.depth <= 4:\n",
    "        maxdepth = self.selectednode.depth + 1\n",
    "    elif self.selectednode.depth == 5:\n",
    "        maxdepth = 7\n",
    "    else:\n",
    "        maxdepth = 9\n",
    "    centernode = self.selectednode\n",
    "    while centernode.depth > 6:\n",
    "        centernode = centernode.parent\n",
    "    self.mbtree.draw_subtree(centernode=centernode, selectednode=self.selectednode,\n",
    "                             show_bestmove=True, show_score=self.show_score,\n",
    "                             ax=self.ax, maxdepth=maxdepth, size=self.size)\n",
    "    \n",
    "    disabled = self.selectednode.parent is None\n",
    "    self.set_button_status(self.left_button, disabled=disabled)\n",
    "    disabled = self.selectednode.depth >= 6 or len(self.selectednode.children) == 0\n",
    "    self.set_button_status(self.right_button, disabled=disabled)\n",
    "    disabled = self.selectednode.parent is None or self.selectednode.parent.children.index(self.selectednode) == 0\n",
    "    self.set_button_status(self.up_button, disabled=disabled)\n",
    "    disabled = self.selectednode.parent is None or self.selectednode.parent.children[-1] is self.selectednode\n",
    "    self.set_button_status(self.down_button, disabled=disabled)\n",
    "\n",
    "Mbtree_GUI.update_gui = update_gui"
   ]
  },
  {
   "cell_type": "code",
   "execution_count": 34,
   "metadata": {},
   "outputs": [
    {
     "data": {
      "application/vnd.jupyter.widget-view+json": {
       "model_id": "5d46b4203bd842daaf6856cdb4090363",
       "version_major": 2,
       "version_minor": 0
      },
      "text/plain": [
       "VBox(children=(Output(layout=Layout(display='none')), HBox(children=(Label(value='', layout=Layout(width='50px…"
      ]
     },
     "metadata": {},
     "output_type": "display_data"
    },
    {
     "data": {
      "text/plain": [
       "<tree.Mbtree_GUI at 0x228c328c690>"
      ]
     },
     "execution_count": 34,
     "metadata": {},
     "output_type": "execute_result"
    }
   ],
   "source": [
    "Mbtree_GUI(mbtree)"
   ]
  },
  {
   "cell_type": "code",
   "execution_count": 35,
   "metadata": {},
   "outputs": [
    {
     "data": {
      "application/vnd.jupyter.widget-view+json": {
       "model_id": "d40d7063cfc049d98babaa7778635e08",
       "version_major": 2,
       "version_minor": 0
      },
      "text/plain": [
       "VBox(children=(Output(layout=Layout(display='none')), HBox(children=(Label(value='', layout=Layout(width='50px…"
      ]
     },
     "metadata": {},
     "output_type": "display_data"
    },
    {
     "data": {
      "text/plain": [
       "<tree.Mbtree_GUI at 0x228c56336d0>"
      ]
     },
     "execution_count": 35,
     "metadata": {},
     "output_type": "execute_result"
    }
   ],
   "source": [
    "Mbtree_GUI(mbtree, show_score=False)"
   ]
  },
  {
   "cell_type": "code",
   "execution_count": 36,
   "metadata": {},
   "outputs": [],
   "source": [
    "def create_widgets(self):\n",
    "    self.output = widgets.Output()  \n",
    "    self.print_helpmessage()\n",
    "    self.output.layout.display = \"none\"\n",
    "    self.left_button = self.create_button(\"←\", 50)\n",
    "    self.up_button = self.create_button(\"↑\", 50)\n",
    "    self.right_button = self.create_button(\"→\", 50)\n",
    "    self.down_button = self.create_button(\"↓\", 50)\n",
    "    self.score_button = self.create_button(\"評価値の表示\", 100)\n",
    "    self.size_slider = widgets.FloatSlider(min=0.05, max=0.25, step=0.01, description=\"size\", value=self.size)\n",
    "    self.help_button = self.create_button(\"？\", 50)\n",
    "    self.label = widgets.Label(value=\"\", layout=widgets.Layout(width=f\"50px\"))\n",
    "    \n",
    "    with plt.ioff():\n",
    "        self.fig = plt.figure(figsize=[self.width * self.size,\n",
    "                                        self.height * self.size])\n",
    "        self.ax = self.fig.add_axes([0, 0, 1, 1])\n",
    "    self.fig.canvas.toolbar_visible = False\n",
    "    self.fig.canvas.header_visible = False\n",
    "    self.fig.canvas.footer_visible = False\n",
    "    self.fig.canvas.resizable = False\n",
    "    \n",
    "Mbtree_GUI.create_widgets = create_widgets "
   ]
  },
  {
   "cell_type": "code",
   "execution_count": 37,
   "metadata": {},
   "outputs": [],
   "source": [
    "def display_widgets(self):    \n",
    "    hbox1 = widgets.HBox([self.label, self.up_button, self.label, self.label, self.score_button])\n",
    "    hbox2 = widgets.HBox([self.left_button, self.label, self.right_button,\n",
    "                          self.size_slider, self.help_button])\n",
    "    hbox3 = widgets.HBox([self.label, self.down_button, self.label])\n",
    "    self.vbox = widgets.VBox([self.output, hbox1, hbox2, hbox3, self.fig.canvas])\n",
    "    display(self.vbox)  \n",
    "    \n",
    "Mbtree_GUI.display_widgets = display_widgets"
   ]
  },
  {
   "cell_type": "code",
   "execution_count": 39,
   "metadata": {},
   "outputs": [
    {
     "data": {
      "application/vnd.jupyter.widget-view+json": {
       "model_id": "425082123e6b4d4fae921f92b292d877",
       "version_major": 2,
       "version_minor": 0
      },
      "text/plain": [
       "VBox(children=(Output(layout=Layout(display='none')), HBox(children=(Label(value='', layout=Layout(width='50px…"
      ]
     },
     "metadata": {},
     "output_type": "display_data"
    },
    {
     "data": {
      "text/plain": [
       "<tree.Mbtree_GUI at 0x228b811ea50>"
      ]
     },
     "execution_count": 39,
     "metadata": {},
     "output_type": "execute_result"
    }
   ],
   "source": [
    "Mbtree_GUI(mbtree)"
   ]
  },
  {
   "cell_type": "code",
   "execution_count": 40,
   "metadata": {},
   "outputs": [],
   "source": [
    "def create_event_handler(self):\n",
    "    def on_left_button_clicked(b=None):\n",
    "        if self.selectednode.parent is not None:\n",
    "            self.selectednode = self.selectednode.parent\n",
    "            self.update_gui()\n",
    "            \n",
    "    def on_right_button_clicked(b=None):\n",
    "        if len(self.selectednode.children) > 0:\n",
    "            self.selectednode = self.selectednode.children[0]\n",
    "            self.update_gui()\n",
    "\n",
    "    def on_up_button_clicked(b=None):\n",
    "        if self.selectednode.parent is not None:\n",
    "            index = self.selectednode.parent.children.index(self.selectednode)\n",
    "            if index > 0:\n",
    "                self.selectednode = self.selectednode.parent.children[index - 1]\n",
    "                self.update_gui()\n",
    "            \n",
    "    def on_down_button_clicked(b=None):\n",
    "        if self.selectednode.parent is not None:\n",
    "            index = self.selectednode.parent.children.index(self.selectednode)\n",
    "            if self.selectednode.parent.children[-1] is not self.selectednode:\n",
    "                self.selectednode = self.selectednode.parent.children[index + 1]\n",
    "                self.update_gui()            \n",
    "                \n",
    "    def on_score_button_clicked(b=None):\n",
    "        self.show_score = not self.show_score\n",
    "        self.update_gui()\n",
    "                \n",
    "    def on_size_slider_changed(changed):\n",
    "        self.size = changed[\"new\"]\n",
    "        self.fig.set_figwidth(self.width * self.size)\n",
    "        self.fig.set_figheight(self.height * self.size)\n",
    "        self.update_gui()\n",
    "                \n",
    "    def on_help_button_clicked(b=None):\n",
    "        self.output.layout.display = \"none\" if self.output.layout.display is None else None\n",
    "                        \n",
    "    self.left_button.on_click(on_left_button_clicked)\n",
    "    self.right_button.on_click(on_right_button_clicked)\n",
    "    self.up_button.on_click(on_up_button_clicked)\n",
    "    self.down_button.on_click(on_down_button_clicked)\n",
    "    self.score_button.on_click(on_score_button_clicked)\n",
    "    self.size_slider.observe(on_size_slider_changed, names=\"value\")\n",
    "    self.help_button.on_click(on_help_button_clicked)\n",
    "\n",
    "    def on_key_press(event):\n",
    "        keymap = {\n",
    "            \"left\": on_left_button_clicked,\n",
    "            \"0\": on_left_button_clicked,\n",
    "            \"right\": on_right_button_clicked,\n",
    "            \"up\": on_up_button_clicked,\n",
    "            \"down\": on_down_button_clicked,\n",
    "        }\n",
    "        if event.key in keymap:\n",
    "            keymap[event.key]()\n",
    "        else:\n",
    "            try:\n",
    "                num = int(event.key) - 1\n",
    "                x = num % 3\n",
    "                y = 2 - (num // 3)\n",
    "                move = (x, y)\n",
    "                if move in self.selectednode.children_by_move:\n",
    "                    self.selectednode = self.selectednode.children_by_move[move]\n",
    "                    self.update_gui()\n",
    "            except:\n",
    "                pass            \n",
    "            \n",
    "    def on_mouse_down(event):\n",
    "        for rect, node in self.mbtree.nodes_by_rect.items():\n",
    "            if rect.is_inside(event.xdata, event.ydata):\n",
    "                self.selectednode = node\n",
    "                self.update_gui()\n",
    "                break               \n",
    "            \n",
    "    # fig の画像イベントハンドラを結び付ける\n",
    "    self.fig.canvas.mpl_connect(\"key_press_event\", on_key_press)\n",
    "    self.fig.canvas.mpl_connect(\"button_press_event\", on_mouse_down)\n",
    "    \n",
    "Mbtree_GUI.create_event_handler = create_event_handler"
   ]
  },
  {
   "cell_type": "code",
   "execution_count": 41,
   "metadata": {},
   "outputs": [
    {
     "data": {
      "application/vnd.jupyter.widget-view+json": {
       "model_id": "5402a12c97a945c5ab3137e4d466cba7",
       "version_major": 2,
       "version_minor": 0
      },
      "text/plain": [
       "VBox(children=(Output(layout=Layout(display='none')), HBox(children=(Label(value='', layout=Layout(width='50px…"
      ]
     },
     "metadata": {},
     "output_type": "display_data"
    },
    {
     "data": {
      "text/plain": [
       "<tree.Mbtree_GUI at 0x2287433aa90>"
      ]
     },
     "execution_count": 41,
     "metadata": {},
     "output_type": "execute_result"
    }
   ],
   "source": [
    "Mbtree_GUI(mbtree)"
   ]
  },
  {
   "cell_type": "code",
   "execution_count": 42,
   "metadata": {},
   "outputs": [],
   "source": [
    "from gui import GUI\n",
    "\n",
    "@staticmethod\n",
    "def set_button_color(button, value):      \n",
    "    button.style.button_color = \"lightgreen\" if value else \"darkgray\"\n",
    "        \n",
    "GUI.set_button_color = set_button_color   "
   ]
  },
  {
   "cell_type": "code",
   "execution_count": 43,
   "metadata": {},
   "outputs": [],
   "source": [
    "def update_gui(self):\n",
    "    self.ax.clear()\n",
    "    self.ax.set_xlim(-1, self.width - 1)\n",
    "    self.ax.set_ylim(-1, self.height - 1)   \n",
    "    self.ax.invert_yaxis()\n",
    "    self.ax.axis(\"off\")   \n",
    "    \n",
    "    if self.selectednode.depth <= 4:\n",
    "        maxdepth = self.selectednode.depth + 1\n",
    "    elif self.selectednode.depth == 5:\n",
    "        maxdepth = 7\n",
    "    else:\n",
    "        maxdepth = 9\n",
    "    centernode = self.selectednode\n",
    "    while centernode.depth > 6:\n",
    "        centernode = centernode.parent\n",
    "    self.mbtree.draw_subtree(centernode=centernode, selectednode=self.selectednode,\n",
    "                             show_bestmove=True, show_score=self.show_score,\n",
    "                             ax=self.ax, maxdepth=maxdepth, size=self.size)\n",
    "    \n",
    "    disabled = self.selectednode.parent is None\n",
    "    self.set_button_status(self.left_button, disabled=disabled)\n",
    "    disabled = self.selectednode.depth >= 6 or len(self.selectednode.children) == 0\n",
    "    self.set_button_status(self.right_button, disabled=disabled)\n",
    "    disabled = self.selectednode.parent is None or self.selectednode.parent.children.index(self.selectednode) == 0\n",
    "    self.set_button_status(self.up_button, disabled=disabled)\n",
    "    disabled = self.selectednode.parent is None or self.selectednode.parent.children[-1] is self.selectednode\n",
    "    self.set_button_status(self.down_button, disabled=disabled)\n",
    "    self.set_button_color(self.score_button, value=self.show_score)\n",
    "\n",
    "Mbtree_GUI.update_gui = update_gui"
   ]
  },
  {
   "cell_type": "code",
   "execution_count": 44,
   "metadata": {},
   "outputs": [],
   "source": [
    "def create_event_handler(self):\n",
    "    def on_left_button_clicked(b=None):\n",
    "        if self.selectednode.parent is not None:\n",
    "            self.selectednode = self.selectednode.parent\n",
    "            self.update_gui()\n",
    "            \n",
    "    def on_right_button_clicked(b=None):\n",
    "        if len(self.selectednode.children) > 0:\n",
    "            self.selectednode = self.selectednode.children[0]\n",
    "            self.update_gui()\n",
    "\n",
    "    def on_up_button_clicked(b=None):\n",
    "        if self.selectednode.parent is not None:\n",
    "            index = self.selectednode.parent.children.index(self.selectednode)\n",
    "            if index > 0:\n",
    "                self.selectednode = self.selectednode.parent.children[index - 1]\n",
    "                self.update_gui()\n",
    "            \n",
    "    def on_down_button_clicked(b=None):\n",
    "        if self.selectednode.parent is not None:\n",
    "            index = self.selectednode.parent.children.index(self.selectednode)\n",
    "            if self.selectednode.parent.children[-1] is not self.selectednode:\n",
    "                self.selectednode = self.selectednode.parent.children[index + 1]\n",
    "                self.update_gui()            \n",
    "                \n",
    "    def on_score_button_clicked(b=None):\n",
    "        self.show_score = not self.show_score\n",
    "        self.update_gui()\n",
    "                \n",
    "    def on_size_slider_changed(changed):\n",
    "        self.size = changed[\"new\"]\n",
    "        self.fig.set_figwidth(self.width * self.size)\n",
    "        self.fig.set_figheight(self.height * self.size)\n",
    "        self.update_gui()\n",
    "                \n",
    "    def on_help_button_clicked(b=None):\n",
    "        self.output.layout.display = \"none\" if self.output.layout.display is None else None\n",
    "        self.update_gui()\n",
    "                        \n",
    "    self.left_button.on_click(on_left_button_clicked)\n",
    "    self.right_button.on_click(on_right_button_clicked)\n",
    "    self.up_button.on_click(on_up_button_clicked)\n",
    "    self.down_button.on_click(on_down_button_clicked)\n",
    "    self.score_button.on_click(on_score_button_clicked)\n",
    "    self.size_slider.observe(on_size_slider_changed, names=\"value\")\n",
    "    self.help_button.on_click(on_help_button_clicked)\n",
    "\n",
    "    def on_key_press(event):\n",
    "        keymap = {\n",
    "            \"left\": on_left_button_clicked,\n",
    "            \"0\": on_left_button_clicked,\n",
    "            \"right\": on_right_button_clicked,\n",
    "            \"up\": on_up_button_clicked,\n",
    "            \"down\": on_down_button_clicked,\n",
    "        }\n",
    "        if event.key in keymap:\n",
    "            keymap[event.key]()\n",
    "        else:\n",
    "            try:\n",
    "                num = int(event.key) - 1\n",
    "                x = num % 3\n",
    "                y = 2 - (num // 3)\n",
    "                move = (x, y)\n",
    "                if move in self.selectednode.children_by_move:\n",
    "                    self.selectednode = self.selectednode.children_by_move[move]\n",
    "                    self.update_gui()\n",
    "            except:\n",
    "                pass            \n",
    "            \n",
    "    def on_mouse_down(event):\n",
    "        for rect, node in self.mbtree.nodes_by_rect.items():\n",
    "            if rect.is_inside(event.xdata, event.ydata):\n",
    "                self.selectednode = node\n",
    "                self.update_gui()\n",
    "                break               \n",
    "            \n",
    "    # fig の画像イベントハンドラを結び付ける\n",
    "    self.fig.canvas.mpl_connect(\"key_press_event\", on_key_press)\n",
    "    self.fig.canvas.mpl_connect(\"button_press_event\", on_mouse_down)\n",
    "    \n",
    "Mbtree_GUI.create_event_handler = create_event_handler"
   ]
  },
  {
   "cell_type": "code",
   "execution_count": 46,
   "metadata": {},
   "outputs": [
    {
     "data": {
      "application/vnd.jupyter.widget-view+json": {
       "model_id": "ae3b4da317924bbd8b69af4cd022d305",
       "version_major": 2,
       "version_minor": 0
      },
      "text/plain": [
       "VBox(children=(Output(layout=Layout(display='none')), HBox(children=(Label(value='', layout=Layout(width='50px…"
      ]
     },
     "metadata": {},
     "output_type": "display_data"
    },
    {
     "data": {
      "text/plain": [
       "<tree.Mbtree_GUI at 0x228c8432550>"
      ]
     },
     "execution_count": 46,
     "metadata": {},
     "output_type": "execute_result"
    }
   ],
   "source": [
    "Mbtree_GUI(mbtree)"
   ]
  },
  {
   "cell_type": "code",
   "execution_count": 47,
   "metadata": {},
   "outputs": [
    {
     "data": {
      "application/vnd.jupyter.widget-view+json": {
       "model_id": "56dabc7052254584934da0dbb7d7e3b7",
       "version_major": 2,
       "version_minor": 0
      },
      "text/plain": [
       "VBox(children=(HBox(children=(Checkbox(value=False, description='乱数の種', indent=False, layout=Layout(width='100…"
      ]
     },
     "metadata": {},
     "output_type": "display_data"
    },
    {
     "data": {
      "application/vnd.jupyter.widget-view+json": {
       "model_id": "a83f77be9fb04f3cbe99c835a0b65e54",
       "version_major": 2,
       "version_minor": 0
      },
      "text/plain": [
       "VBox(children=(Output(layout=Layout(display='none')), HBox(children=(Label(value='', layout=Layout(width='50px…"
      ]
     },
     "metadata": {},
     "output_type": "display_data"
    }
   ],
   "source": [
    "gui_play()"
   ]
  },
  {
   "cell_type": "code",
   "execution_count": 48,
   "metadata": {},
   "outputs": [
    {
     "data": {
      "application/vnd.jupyter.widget-view+json": {
       "model_id": "2811b813371e40b6b752e5cfb6b7d539",
       "version_major": 2,
       "version_minor": 0
      },
      "text/plain": [
       "ToggleButton(value=False, description='評価値の表示')"
      ]
     },
     "metadata": {},
     "output_type": "display_data"
    }
   ],
   "source": [
    "tb = widgets.ToggleButton(description=\"評価値の表示\")\n",
    "display(tb)"
   ]
  },
  {
   "cell_type": "code",
   "execution_count": 49,
   "metadata": {},
   "outputs": [
    {
     "data": {
      "application/vnd.jupyter.widget-view+json": {
       "model_id": "c0c3de71be9c4a94af2b37d6a3421b9c",
       "version_major": 2,
       "version_minor": 0
      },
      "text/plain": [
       "ToggleButton(value=False, button_style='success', description='評価値の表示')"
      ]
     },
     "metadata": {},
     "output_type": "display_data"
    }
   ],
   "source": [
    "tb = widgets.ToggleButton(description=\"評価値の表示\", button_style=\"success\")\n",
    "display(tb)"
   ]
  }
 ],
 "metadata": {
  "kernelspec": {
   "display_name": "marubatsu",
   "language": "python",
   "name": "python3"
  },
  "language_info": {
   "codemirror_mode": {
    "name": "ipython",
    "version": 3
   },
   "file_extension": ".py",
   "mimetype": "text/x-python",
   "name": "python",
   "nbconvert_exporter": "python",
   "pygments_lexer": "ipython3",
   "version": "3.11.4"
  }
 },
 "nbformat": 4,
 "nbformat_minor": 2
}
