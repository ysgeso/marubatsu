{
 "cells": [
  {
   "cell_type": "code",
   "execution_count": 1,
   "metadata": {},
   "outputs": [
    {
     "name": "stdout",
     "output_type": "stream",
     "text": [
      "Turn o\n",
      "xxx\n",
      "oo.\n",
      "o..\n",
      "\n",
      "error!\n"
     ]
    }
   ],
   "source": [
    "from marubatsu import Marubatsu\n",
    "from test import test_judge\n",
    "\n",
    "testcase = [\n",
    "    [ 0, 1 ], # 着手順とゲーム盤\n",
    "    [ 0, 0 ], # 246  xxx\n",
    "    [ 1, 1 ], # 13.  oo.\n",
    "    [ 1, 0 ], # 5..  o..\n",
    "    [ 0, 2 ],\n",
    "    [ 2, 0 ],\n",
    "]\n",
    "\n",
    "test_judge(testcase)"
   ]
  },
  {
   "cell_type": "code",
   "execution_count": 2,
   "metadata": {},
   "outputs": [],
   "source": [
    "testcase = [\n",
    "    [ 0, 1 ], # 着手順とゲーム盤\n",
    "    [ 0, 0 ], # 246  xxx\n",
    "    [ 1, 1 ], # 13.  oo.\n",
    "    [ 1, 0 ], # 5..  o..\n",
    "    [ 0, 2 ],\n",
    "    [ 2, 0 ],\n",
    "    Marubatsu.CROSS, # 最後の要素が、期待される処理を表す\n",
    "]"
   ]
  },
  {
   "cell_type": "code",
   "execution_count": 3,
   "metadata": {},
   "outputs": [
    {
     "name": "stdout",
     "output_type": "stream",
     "text": [
      "3\n",
      "[1, 2]\n"
     ]
    }
   ],
   "source": [
    "a = [1, 2, 3]\n",
    "last = a.pop()\n",
    "print(last)\n",
    "print(a)"
   ]
  },
  {
   "cell_type": "code",
   "execution_count": 4,
   "metadata": {},
   "outputs": [],
   "source": [
    "def test_judge(testcase):\n",
    "    winner = testcase.pop()\n",
    "    mb = Marubatsu()\n",
    "    for x, y in testcase:\n",
    "        mb.move(x, y)\n",
    "    print(mb)\n",
    "\n",
    "    if mb.judge() == winner:\n",
    "        print(\"ok\")\n",
    "    else:\n",
    "        print(\"error!\")"
   ]
  },
  {
   "cell_type": "code",
   "execution_count": 5,
   "metadata": {},
   "outputs": [
    {
     "name": "stdout",
     "output_type": "stream",
     "text": [
      "Turn o\n",
      "xxx\n",
      "oo.\n",
      "o..\n",
      "\n",
      "ok\n"
     ]
    }
   ],
   "source": [
    "test_judge(testcase)"
   ]
  },
  {
   "cell_type": "code",
   "execution_count": 6,
   "metadata": {},
   "outputs": [
    {
     "name": "stdout",
     "output_type": "stream",
     "text": [
      "befor test_judge: [[0, 1], [0, 0], [1, 1], [1, 0], [0, 2], [2, 0], 'x']\n",
      "Turn o\n",
      "xxx\n",
      "oo.\n",
      "o..\n",
      "\n",
      "ok\n",
      "after test_judge: [[0, 1], [0, 0], [1, 1], [1, 0], [0, 2], [2, 0]]\n"
     ]
    }
   ],
   "source": [
    "testcase = [\n",
    "    [ 0, 1 ], # 着手順とゲーム盤\n",
    "    [ 0, 0 ], # 246  xxx\n",
    "    [ 1, 1 ], # 13.  oo.\n",
    "    [ 1, 0 ], # 5..  o..\n",
    "    [ 0, 2 ],\n",
    "    [ 2, 0 ],\n",
    "    Marubatsu.CROSS, # 最後の要素が、期待される処理を表す\n",
    "]\n",
    "\n",
    "print(\"befor test_judge:\", testcase)\n",
    "test_judge(testcase)\n",
    "print(\"after test_judge:\", testcase)"
   ]
  },
  {
   "cell_type": "code",
   "execution_count": 7,
   "metadata": {},
   "outputs": [
    {
     "name": "stdout",
     "output_type": "stream",
     "text": [
      "Turn x\n",
      "xx.\n",
      "oo.\n",
      "o..\n",
      "\n",
      "error!\n"
     ]
    }
   ],
   "source": [
    "test_judge(testcase)"
   ]
  },
  {
   "cell_type": "code",
   "execution_count": 8,
   "metadata": {},
   "outputs": [],
   "source": [
    "def test_judge(testcase):\n",
    "    winner = testcase[-1]     # 最後の要素を winner に代入する\n",
    "    testcase = testcase[:-1]  # 最後の要素を除いたものを testcase に代入する\n",
    "    mb = Marubatsu()\n",
    "    for x, y in testcase:\n",
    "        mb.move(x, y)\n",
    "    print(mb)\n",
    "\n",
    "    if mb.judge() == winner:\n",
    "        print(\"ok\")\n",
    "    else:\n",
    "        print(\"error!\")"
   ]
  },
  {
   "cell_type": "code",
   "execution_count": 9,
   "metadata": {},
   "outputs": [
    {
     "name": "stdout",
     "output_type": "stream",
     "text": [
      "befor test_judge: [[0, 1], [0, 0], [1, 1], [1, 0], [0, 2], [2, 0], 'x']\n",
      "Turn o\n",
      "xxx\n",
      "oo.\n",
      "o..\n",
      "\n",
      "ok\n",
      "after test_judge: [[0, 1], [0, 0], [1, 1], [1, 0], [0, 2], [2, 0], 'x']\n"
     ]
    }
   ],
   "source": [
    "testcase = [\n",
    "    [ 0, 1 ], # 着手順とゲーム盤\n",
    "    [ 0, 0 ], # 246  xxx\n",
    "    [ 1, 1 ], # 13.  oo.\n",
    "    [ 1, 0 ], # 5..  o..\n",
    "    [ 0, 2 ],\n",
    "    [ 2, 0 ],\n",
    "    Marubatsu.CROSS, # 最後の要素が、期待される処理を表す\n",
    "]\n",
    "\n",
    "print(\"befor test_judge:\", testcase)\n",
    "test_judge(testcase)\n",
    "print(\"after test_judge:\", testcase)"
   ]
  },
  {
   "cell_type": "code",
   "execution_count": 10,
   "metadata": {},
   "outputs": [],
   "source": [
    "testcase = [\n",
    "    [\n",
    "        [ 0, 1 ], # 着手順とゲーム盤\n",
    "        [ 0, 0 ], # 246  xxx\n",
    "        [ 1, 1 ], # 13.  oo.\n",
    "        [ 1, 0 ], # 5..  o..\n",
    "        [ 0, 2 ],\n",
    "        [ 2, 0 ],\n",
    "    ],\n",
    "    Marubatsu.CROSS, # 期待される judge メソッドの返り値\n",
    "]"
   ]
  },
  {
   "cell_type": "code",
   "execution_count": 11,
   "metadata": {},
   "outputs": [],
   "source": [
    "def test_judge(testcase):\n",
    "    testdata, winner = testcase\n",
    "    mb = Marubatsu()\n",
    "    for x, y in testdata:\n",
    "        mb.move(x, y)\n",
    "    print(mb)\n",
    "    if mb.judge() == winner:\n",
    "        print(\"ok\")\n",
    "    else:\n",
    "        print(\"error!\")"
   ]
  },
  {
   "cell_type": "code",
   "execution_count": 12,
   "metadata": {},
   "outputs": [
    {
     "name": "stdout",
     "output_type": "stream",
     "text": [
      "befor test_judge: [[[0, 1], [0, 0], [1, 1], [1, 0], [0, 2], [2, 0]], 'x']\n",
      "Turn o\n",
      "xxx\n",
      "oo.\n",
      "o..\n",
      "\n",
      "ok\n",
      "after test_judge: [[[0, 1], [0, 0], [1, 1], [1, 0], [0, 2], [2, 0]], 'x']\n"
     ]
    }
   ],
   "source": [
    "testcase = [\n",
    "    [\n",
    "        [ 0, 1 ], # 着手順とゲーム盤\n",
    "        [ 0, 0 ], # 246  xxx\n",
    "        [ 1, 1 ], # 13.  oo.\n",
    "        [ 1, 0 ], # 5..  o..\n",
    "        [ 0, 2 ],\n",
    "        [ 2, 0 ],\n",
    "    ],\n",
    "    Marubatsu.CROSS, # 期待される judge メソッドの返り値\n",
    "]\n",
    "print(\"befor test_judge:\", testcase)\n",
    "test_judge(testcase)\n",
    "print(\"after test_judge:\", testcase)"
   ]
  },
  {
   "cell_type": "code",
   "execution_count": 13,
   "metadata": {},
   "outputs": [
    {
     "name": "stdout",
     "output_type": "stream",
     "text": [
      "Turn x\n",
      "oox\n",
      "xxo\n",
      "oxo\n",
      "\n",
      "ok\n"
     ]
    }
   ],
   "source": [
    "testcase = [\n",
    "    [\n",
    "        [ 0, 0 ], # 着手順とゲーム盤\n",
    "        [ 0, 1 ], # 136  oox\n",
    "        [ 1, 0 ], # 245  xxo\n",
    "        [ 1, 1 ], # 789  oxo\n",
    "        [ 2, 1 ],\n",
    "        [ 2, 0 ],\n",
    "        [ 0, 2 ],\n",
    "        [ 1, 2 ],\n",
    "        [ 2, 2 ],\n",
    "    ],\n",
    "    Marubatsu.DRAW, # 期待される judge メソッドの返り値\n",
    "]\n",
    "\n",
    "test_judge(testcase)"
   ]
  },
  {
   "cell_type": "code",
   "execution_count": 14,
   "metadata": {},
   "outputs": [],
   "source": [
    "testcases = [\n",
    "    # 〇 の勝利のテストケース\n",
    "    [\n",
    "        [\n",
    "            [ 0, 0 ], # 着手順とゲーム盤\n",
    "            [ 0, 1 ], # 135  ooo\n",
    "            [ 1, 0 ], # 24.  xx.\n",
    "            [ 1, 1 ], # ...  ...\n",
    "            [ 2, 0 ],\n",
    "        ],\n",
    "        Marubatsu.CIRCLE, # 期待される judge メソッドの返り値\n",
    "    ],\n",
    "    # × の勝利のテストケース\n",
    "    [\n",
    "        [\n",
    "            [ 0, 1 ], # 着手順とゲーム盤\n",
    "            [ 0, 0 ], # 246  xxx\n",
    "            [ 1, 1 ], # 13.  oo.\n",
    "            [ 1, 0 ], # 5..  o..\n",
    "            [ 0, 2 ],\n",
    "            [ 2, 0 ],\n",
    "        ],\n",
    "        Marubatsu.CROSS, # 期待される judge メソッドの返り値\n",
    "    ],\n",
    "    # 引き分けのテストケース\n",
    "    [\n",
    "        [\n",
    "            [ 0, 0 ], # 着手順とゲーム盤\n",
    "            [ 0, 1 ], # 136  oox\n",
    "            [ 1, 0 ], # 245  xxo\n",
    "            [ 1, 1 ], # 789  oxo\n",
    "            [ 2, 1 ],\n",
    "            [ 2, 0 ],\n",
    "            [ 0, 2 ],\n",
    "            [ 1, 2 ],\n",
    "            [ 2, 2 ],\n",
    "        ],\n",
    "        Marubatsu.DRAW, # 期待される judge メソッドの返り値\n",
    "    ],\n",
    "]"
   ]
  },
  {
   "cell_type": "code",
   "execution_count": 15,
   "metadata": {},
   "outputs": [],
   "source": [
    "def test_judge(testcases):\n",
    "    for testcase in testcases:\n",
    "        testdata, winner = testcase\n",
    "        mb = Marubatsu()\n",
    "        for x, y in testdata:\n",
    "            mb.move(x, y)\n",
    "        print(mb)\n",
    "\n",
    "        if mb.judge() == winner:\n",
    "            print(\"ok\")\n",
    "        else:\n",
    "            print(\"error!\")"
   ]
  },
  {
   "cell_type": "code",
   "execution_count": 16,
   "metadata": {},
   "outputs": [
    {
     "name": "stdout",
     "output_type": "stream",
     "text": [
      "Turn x\n",
      "ooo\n",
      "xx.\n",
      "...\n",
      "\n",
      "ok\n",
      "Turn o\n",
      "xxx\n",
      "oo.\n",
      "o..\n",
      "\n",
      "ok\n",
      "Turn x\n",
      "oox\n",
      "xxo\n",
      "oxo\n",
      "\n",
      "ok\n"
     ]
    }
   ],
   "source": [
    "test_judge(testcases)"
   ]
  }
 ],
 "metadata": {
  "kernelspec": {
   "display_name": "marubatsu",
   "language": "python",
   "name": "python3"
  },
  "language_info": {
   "codemirror_mode": {
    "name": "ipython",
    "version": 3
   },
   "file_extension": ".py",
   "mimetype": "text/x-python",
   "name": "python",
   "nbconvert_exporter": "python",
   "pygments_lexer": "ipython3",
   "version": "3.11.4"
  }
 },
 "nbformat": 4,
 "nbformat_minor": 2
}
