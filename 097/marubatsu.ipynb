{
 "cells": [
  {
   "cell_type": "code",
   "execution_count": 1,
   "metadata": {},
   "outputs": [],
   "source": [
    "from gui import GUI\n",
    "import matplotlib.pyplot as plt\n",
    "import ipywidgets as widgets\n",
    "\n",
    "class Mbtree_GUI(GUI):\n",
    "    def __init__(self, mbtree, size=0.15):\n",
    "        self.mbtree = mbtree\n",
    "        self.size = size\n",
    "        self.width = 50\n",
    "        self.height = 64\n",
    "        self.selectednode = self.mbtree.root\n",
    "        super().__init__()\n",
    "        \n",
    "    def create_widgets(self):\n",
    "        self.output = widgets.Output()  \n",
    "        self.left_button = self.create_button(\"←\", 50)\n",
    "        self.up_button = self.create_button(\"↑\", 50)\n",
    "        self.right_button = self.create_button(\"→\", 50)\n",
    "        self.down_button = self.create_button(\"↓\", 50)\n",
    "        self.help_button = self.create_button(\"？\", 50)\n",
    "        self.label = widgets.Label(value=\"\", layout=widgets.Layout(width=f\"50px\"))\n",
    "        \n",
    "        with plt.ioff():\n",
    "            self.fig = plt.figure(figsize=[self.width * self.size,\n",
    "                                            self.height * self.size])\n",
    "            self.ax = self.fig.add_axes([0, 0, 1, 1])\n",
    "        self.fig.canvas.toolbar_visible = False\n",
    "        self.fig.canvas.header_visible = False\n",
    "        self.fig.canvas.footer_visible = False\n",
    "        self.fig.canvas.resizable = False        \n",
    "        \n",
    "    def create_event_handler(self):\n",
    "        def on_left_button_clicked(b=None):\n",
    "            if self.selectednode.parent is not None:\n",
    "                self.selectednode = self.selectednode.parent\n",
    "                self.update_gui()\n",
    "                \n",
    "        def on_right_button_clicked(b=None):\n",
    "            if self.selectednode.depth < 6 and len(self.selectednode.children) > 0:\n",
    "                self.selectednode = self.selectednode.children[0]\n",
    "                self.update_gui()\n",
    "\n",
    "        def on_up_button_clicked(b=None):\n",
    "            if self.selectednode.parent is not None:\n",
    "                index = self.selectednode.parent.children.index(self.selectednode)\n",
    "                if index > 0:\n",
    "                    self.selectednode = self.selectednode.parent.children[index - 1]\n",
    "                    self.update_gui()\n",
    "                \n",
    "        def on_down_button_clicked(b=None):\n",
    "            if self.selectednode.parent is not None:\n",
    "                index = self.selectednode.parent.children.index(self.selectednode)\n",
    "                if self.selectednode.parent.children[-1] is not self.selectednode:\n",
    "                    self.selectednode = self.selectednode.parent.children[index + 1]\n",
    "                    self.update_gui()            \n",
    "                    \n",
    "        def on_help_button_clicked(b=None):\n",
    "            self.output.clear_output()\n",
    "            with self.output:\n",
    "                print(\"\"\"操作説明\n",
    "\n",
    "    下記のキーとボタンで中心となるノードを移動できる。ただし、深さが 7 以上のノードへは移動できない\n",
    "    ←、0 キー：親ノードへ移動\n",
    "    ↑：一つ前の兄弟ノードへ移動\n",
    "    ↓：一つ後の兄弟ノードへ移動\n",
    "    →：先頭の子ノードへ移動\n",
    "\n",
    "    テンキーで、対応するマスに着手が行われた子ノードへ移動する\n",
    "    ノードの上でマウスを押すことでそのノードへ移動する\n",
    "    \"\"\")\n",
    "                            \n",
    "        self.left_button.on_click(on_left_button_clicked)\n",
    "        self.right_button.on_click(on_right_button_clicked)\n",
    "        self.up_button.on_click(on_up_button_clicked)\n",
    "        self.down_button.on_click(on_down_button_clicked)\n",
    "        self.help_button.on_click(on_help_button_clicked)\n",
    "\n",
    "        def on_key_press(event):\n",
    "            keymap = {\n",
    "                \"left\": on_left_button_clicked,\n",
    "                \"0\": on_left_button_clicked,\n",
    "                \"right\": on_right_button_clicked,\n",
    "                \"up\": on_up_button_clicked,\n",
    "                \"down\": on_down_button_clicked,\n",
    "            }\n",
    "            if event.key in keymap:\n",
    "                keymap[event.key]()\n",
    "            elif self.selectednode.depth < 6:\n",
    "                try:\n",
    "                    num = int(event.key) - 1\n",
    "                    x = num % 3\n",
    "                    y = 2 - (num // 3)\n",
    "                    move = (x, y)\n",
    "                    if move in self.selectednode.children_by_move:\n",
    "                        self.selectednode = self.selectednode.children_by_move[move]\n",
    "                        self.update_gui()\n",
    "                except:\n",
    "                    pass            \n",
    "                \n",
    "        def on_mouse_down(event):\n",
    "            for rect, node in self.mbtree.nodes_by_rect.items():\n",
    "                if node.depth <= 6 and rect.is_inside(event.xdata, event.ydata):\n",
    "                    self.selectednode = node\n",
    "                    self.update_gui()\n",
    "                    break               \n",
    "                \n",
    "        # fig の画像イベントハンドラを結び付ける\n",
    "        self.fig.canvas.mpl_connect(\"key_press_event\", on_key_press)\n",
    "        self.fig.canvas.mpl_connect(\"button_press_event\", on_mouse_down)    \n",
    "            \n",
    "    def display_widgets(self):\n",
    "        hbox1 = widgets.HBox([self.label, self.up_button, self.label])\n",
    "        hbox2 = widgets.HBox([self.left_button, self.label, self.right_button,\n",
    "                            self.label, self.help_button])\n",
    "        hbox3 = widgets.HBox([self.label, self.down_button, self.label])\n",
    "        display(widgets.VBox([self.output, hbox1, hbox2, hbox3, self.fig.canvas]))   \n",
    "\n",
    "    def update_gui(self):\n",
    "        self.ax.clear()\n",
    "        self.ax.set_xlim(-1, self.width - 1)\n",
    "        self.ax.set_ylim(0, self.height)   \n",
    "        self.ax.invert_yaxis()\n",
    "        self.ax.axis(\"off\")   \n",
    "        \n",
    "        if self.selectednode.depth <= 4:\n",
    "            maxdepth = self.selectednode.depth + 1\n",
    "        elif self.selectednode.depth == 5:\n",
    "            maxdepth = 7\n",
    "        else:\n",
    "            maxdepth = 9\n",
    "        self.mbtree.draw_subtree(self.selectednode, ax=self.ax, maxdepth=maxdepth)\n",
    "        \n",
    "        disabled = self.selectednode.parent is None\n",
    "        self.set_button_status(self.left_button, disabled=disabled)\n",
    "        disabled = self.selectednode.depth >= 6 or len(self.selectednode.children) == 0\n",
    "        self.set_button_status(self.right_button, disabled=disabled)\n",
    "        disabled = self.selectednode.parent is None or self.selectednode.parent.children.index(self.selectednode) == 0\n",
    "        self.set_button_status(self.up_button, disabled=disabled)\n",
    "        disabled = self.selectednode.parent is None or self.selectednode.parent.children[-1] is self.selectednode\n",
    "        self.set_button_status(self.down_button, disabled=disabled)"
   ]
  },
  {
   "cell_type": "code",
   "execution_count": 2,
   "metadata": {},
   "outputs": [],
   "source": [
    "from tree import Mbtree\n",
    "\n",
    "def draw_subtree(self, centernode=None, selectednode=None, ax=None, size=0.25, lw=0.8, maxdepth=2):   \n",
    "    self.nodes_by_rect = {}\n",
    "\n",
    "    if centernode is None:\n",
    "        centernode = self.root\n",
    "    self.calc_node_height(maxdepth)\n",
    "    width = 5 * (maxdepth + 1)\n",
    "    height = centernode.height\n",
    "    parent = centernode.parent\n",
    "    if parent is not None:\n",
    "        height += (len(parent.children) - 1) * 4\n",
    "        parent.height = height\n",
    "    if ax is None:\n",
    "        fig, ax = plt.subplots(figsize=(width * size, height * size))\n",
    "        ax.set_xlim(0, width)\n",
    "        ax.set_ylim(0, height)   \n",
    "        ax.invert_yaxis()\n",
    "        ax.axis(\"off\")        \n",
    "    \n",
    "    nodelist = [centernode]\n",
    "    depth = centernode.depth\n",
    "    while len(nodelist) > 0 and depth <= maxdepth:        \n",
    "        dy = 0\n",
    "        if parent is not None:\n",
    "            dy = parent.children.index(centernode) * 4\n",
    "        childnodelist = []\n",
    "        for node in nodelist:\n",
    "            if node is None:\n",
    "                dy += 4\n",
    "                childnodelist.append(None)\n",
    "            else:\n",
    "                dx = 5 * node.depth\n",
    "                emphasize = node is selectednode\n",
    "                rect = node.draw_node(ax=ax, maxdepth=maxdepth, emphasize=emphasize, size=size, lw=lw, dx=dx, dy=dy)\n",
    "                self.nodes_by_rect[rect] = node\n",
    "                dy += node.height\n",
    "                if len(node.children) > 0:  \n",
    "                    childnodelist += node.children\n",
    "                else:\n",
    "                    childnodelist.append(None)\n",
    "        depth += 1\n",
    "        nodelist = childnodelist\n",
    "        \n",
    "    if parent is not None:\n",
    "        dy = 0\n",
    "        for sibling in parent.children:\n",
    "            if sibling is not centernode:\n",
    "                sibling.height = 4\n",
    "                dx = 5 * sibling.depth\n",
    "                rect = sibling.draw_node(ax, maxdepth=sibling.depth, size=size, lw=lw, dx=dx, dy=dy)\n",
    "                self.nodes_by_rect[rect] = sibling\n",
    "            dy += sibling.height\n",
    "        dx = 5 * parent.depth\n",
    "        rect = parent.draw_node(ax, maxdepth=maxdepth, size=size, lw=lw, dx=dx, dy=0)\n",
    "        self.nodes_by_rect[rect] = parent\n",
    "    \n",
    "        node = parent\n",
    "        while node.parent is not None:\n",
    "            node = node.parent\n",
    "            node.height = height\n",
    "            dx = 5 * node.depth\n",
    "            rect = node.draw_node(ax, maxdepth=node.depth, size=size, lw=lw, dx=dx, dy=0)\n",
    "            self.nodes_by_rect[rect] = node\n",
    "            \n",
    "Mbtree.draw_subtree = draw_subtree"
   ]
  },
  {
   "cell_type": "code",
   "execution_count": 3,
   "metadata": {},
   "outputs": [
    {
     "name": "stdout",
     "output_type": "stream",
     "text": [
      "     9 depth 1 node created\n",
      "    72 depth 2 node created\n",
      "   504 depth 3 node created\n",
      "  3024 depth 4 node created\n",
      " 15120 depth 5 node created\n",
      " 54720 depth 6 node created\n",
      "148176 depth 7 node created\n",
      "200448 depth 8 node created\n",
      "127872 depth 9 node created\n",
      "     0 depth 10 node created\n",
      "total node num = 549946\n"
     ]
    },
    {
     "data": {
      "image/png": "[encoded data removed]",
      "text/plain": [
       "<Figure size 250x900 with 1 Axes>"
      ]
     },
     "metadata": {},
     "output_type": "display_data"
    }
   ],
   "source": [
    "mbtree = Mbtree()\n",
    "mbtree.draw_subtree(centernode=mbtree.root, \n",
    "                    selectednode=mbtree.nodelist_by_depth[1][0], maxdepth=1)"
   ]
  },
  {
   "cell_type": "code",
   "execution_count": 4,
   "metadata": {},
   "outputs": [],
   "source": [
    "def create_event_handler(self):\n",
    "    def on_left_button_clicked(b=None):\n",
    "        if self.selectednode.parent is not None:\n",
    "            self.selectednode = self.selectednode.parent\n",
    "            self.update_gui()\n",
    "            \n",
    "    def on_right_button_clicked(b=None):\n",
    "        if len(self.selectednode.children) > 0:\n",
    "            self.selectednode = self.selectednode.children[0]\n",
    "            self.update_gui()\n",
    "\n",
    "    def on_up_button_clicked(b=None):\n",
    "        if self.selectednode.parent is not None:\n",
    "            index = self.selectednode.parent.children.index(self.selectednode)\n",
    "            if index > 0:\n",
    "                self.selectednode = self.selectednode.parent.children[index - 1]\n",
    "                self.update_gui()\n",
    "            \n",
    "    def on_down_button_clicked(b=None):\n",
    "        if self.selectednode.parent is not None:\n",
    "            index = self.selectednode.parent.children.index(self.selectednode)\n",
    "            if self.selectednode.parent.children[-1] is not self.selectednode:\n",
    "                self.selectednode = self.selectednode.parent.children[index + 1]\n",
    "                self.update_gui()            \n",
    "                \n",
    "    def on_help_button_clicked(b=None):\n",
    "        self.output.clear_output()\n",
    "        with self.output:\n",
    "            print(\"\"\"操作説明\n",
    "\n",
    "下記のキーとボタンで中心となるノードを移動できる。\n",
    "←、0 キー：親ノードへ移動\n",
    "↑：一つ前の兄弟ノードへ移動\n",
    "↓：一つ後の兄弟ノードへ移動\n",
    "→：先頭の子ノードへ移動\n",
    "\n",
    "テンキーで、対応するマスに着手が行われた子ノードへ移動する\n",
    "ノードの上でマウスを押すことでそのノードへ移動する\n",
    "\"\"\")\n",
    "                        \n",
    "    self.left_button.on_click(on_left_button_clicked)\n",
    "    self.right_button.on_click(on_right_button_clicked)\n",
    "    self.up_button.on_click(on_up_button_clicked)\n",
    "    self.down_button.on_click(on_down_button_clicked)\n",
    "    self.help_button.on_click(on_help_button_clicked)\n",
    "\n",
    "    def on_key_press(event):\n",
    "        keymap = {\n",
    "            \"left\": on_left_button_clicked,\n",
    "            \"0\": on_left_button_clicked,\n",
    "            \"right\": on_right_button_clicked,\n",
    "            \"up\": on_up_button_clicked,\n",
    "            \"down\": on_down_button_clicked,\n",
    "        }\n",
    "        if event.key in keymap:\n",
    "            keymap[event.key]()\n",
    "        else:\n",
    "            try:\n",
    "                num = int(event.key) - 1\n",
    "                x = num % 3\n",
    "                y = 2 - (num // 3)\n",
    "                move = (x, y)\n",
    "                if move in self.selectednode.children_by_move:\n",
    "                    self.selectednode = self.selectednode.children_by_move[move]\n",
    "                    self.update_gui()\n",
    "            except:\n",
    "                pass            \n",
    "            \n",
    "    def on_mouse_down(event):\n",
    "        for rect, node in self.mbtree.nodes_by_rect.items():\n",
    "            if rect.is_inside(event.xdata, event.ydata):\n",
    "                self.selectednode = node\n",
    "                self.update_gui()\n",
    "                break               \n",
    "            \n",
    "    # fig の画像イベントハンドラを結び付ける\n",
    "    self.fig.canvas.mpl_connect(\"key_press_event\", on_key_press)\n",
    "    self.fig.canvas.mpl_connect(\"button_press_event\", on_mouse_down)    \n",
    "    \n",
    "Mbtree_GUI.create_event_handler = create_event_handler"
   ]
  },
  {
   "cell_type": "code",
   "execution_count": 5,
   "metadata": {},
   "outputs": [
    {
     "data": {
      "application/vnd.jupyter.widget-view+json": {
       "model_id": "d27d8d4be71946cc8effc3ed1e030a7b",
       "version_major": 2,
       "version_minor": 0
      },
      "text/plain": [
       "VBox(children=(Output(), HBox(children=(Label(value='', layout=Layout(width='50px')), Button(description='↑', …"
      ]
     },
     "metadata": {},
     "output_type": "display_data"
    }
   ],
   "source": [
    "mbtree_gui = Mbtree_GUI(mbtree)"
   ]
  },
  {
   "cell_type": "code",
   "execution_count": 6,
   "metadata": {},
   "outputs": [],
   "source": [
    "def update_gui(self):\n",
    "    self.ax.clear()\n",
    "    self.ax.set_xlim(-1, self.width - 1)\n",
    "    self.ax.set_ylim(0, self.height)   \n",
    "    self.ax.invert_yaxis()\n",
    "    self.ax.axis(\"off\")   \n",
    "    \n",
    "    if self.selectednode.depth <= 4:\n",
    "        maxdepth = self.selectednode.depth + 1\n",
    "    elif self.selectednode.depth == 5:\n",
    "        maxdepth = 7\n",
    "    else:\n",
    "        maxdepth = 9\n",
    "    centernode = self.selectednode\n",
    "    while centernode.depth > 6:\n",
    "        centernode = centernode.parent\n",
    "    self.mbtree.draw_subtree(centernode=centernode, selectednode=self.selectednode, ax=self.ax, maxdepth=maxdepth)\n",
    "    \n",
    "    disabled = self.selectednode.parent is None\n",
    "    self.set_button_status(self.left_button, disabled=disabled)\n",
    "    disabled = self.selectednode.depth >= 6 or len(self.selectednode.children) == 0\n",
    "    self.set_button_status(self.right_button, disabled=disabled)\n",
    "    disabled = self.selectednode.parent is None or self.selectednode.parent.children.index(self.selectednode) == 0\n",
    "    self.set_button_status(self.up_button, disabled=disabled)\n",
    "    disabled = self.selectednode.parent is None or self.selectednode.parent.children[-1] is self.selectednode\n",
    "    self.set_button_status(self.down_button, disabled=disabled)\n",
    "    \n",
    "Mbtree_GUI.update_gui = update_gui"
   ]
  },
  {
   "cell_type": "code",
   "execution_count": 7,
   "metadata": {},
   "outputs": [
    {
     "data": {
      "application/vnd.jupyter.widget-view+json": {
       "model_id": "5ad01fb7b8254249ba75973fbc13b06e",
       "version_major": 2,
       "version_minor": 0
      },
      "text/plain": [
       "VBox(children=(Output(), HBox(children=(Label(value='', layout=Layout(width='50px')), Button(description='↑', …"
      ]
     },
     "metadata": {},
     "output_type": "display_data"
    }
   ],
   "source": [
    "mbtree_gui = Mbtree_GUI(mbtree)"
   ]
  },
  {
   "cell_type": "code",
   "execution_count": 8,
   "metadata": {},
   "outputs": [
    {
     "data": {
      "application/vnd.jupyter.widget-view+json": {
       "model_id": "952d6569ce824e26b35abe5869079768",
       "version_major": 2,
       "version_minor": 0
      },
      "text/plain": [
       "Play(value=1, max=10, min=1)"
      ]
     },
     "metadata": {},
     "output_type": "display_data"
    },
    {
     "data": {
      "application/vnd.jupyter.widget-view+json": {
       "model_id": "0b905493be7243ef87b099322ce51cac",
       "version_major": 2,
       "version_minor": 0
      },
      "image/png": "[encoded data removed]",
      "text/html": [
       "\n",
       "            <div style=\"display: inline-block;\">\n",
       "                <div class=\"jupyter-widgets widget-label\" style=\"text-align: center;\">\n",
       "                    Figure\n",
       "                </div>\n",
       "                <img src='data:image/png;base64,iVBORw0KGgoAAAANSUhEUgAAASwAAAEsCAYAAAB5fY51AAAAOXRFWHRTb2Z0d2FyZQBNYXRwbG90bGliIHZlcnNpb24zLjguMCwgaHR0cHM6Ly9tYXRwbG90bGliLm9yZy81sbWrAAAACXBIWXMAAA9hAAAPYQGoP6dpAAAD7klEQVR4nO3UQQ0AIBDAMMC/58MCP7KkVbDX9szMAgg4vwMAXhkWkGFYQIZhARmGBWQYFpBhWECGYQEZhgVkGBaQYVhAhmEBGYYFZBgWkGFYQIZhARmGBWQYFpBhWECGYQEZhgVkGBaQYVhAhmEBGYYFZBgWkGFYQIZhARmGBWQYFpBhWECGYQEZhgVkGBaQYVhAhmEBGYYFZBgWkGFYQIZhARmGBWQYFpBhWECGYQEZhgVkGBaQYVhAhmEBGYYFZBgWkGFYQIZhARmGBWQYFpBhWECGYQEZhgVkGBaQYVhAhmEBGYYFZBgWkGFYQIZhARmGBWQYFpBhWECGYQEZhgVkGBaQYVhAhmEBGYYFZBgWkGFYQIZhARmGBWQYFpBhWECGYQEZhgVkGBaQYVhAhmEBGYYFZBgWkGFYQIZhARmGBWQYFpBhWECGYQEZhgVkGBaQYVhAhmEBGYYFZBgWkGFYQIZhARmGBWQYFpBhWECGYQEZhgVkGBaQYVhAhmEBGYYFZBgWkGFYQIZhARmGBWQYFpBhWECGYQEZhgVkGBaQYVhAhmEBGYYFZBgWkGFYQIZhARmGBWQYFpBhWECGYQEZhgVkGBaQYVhAhmEBGYYFZBgWkGFYQIZhARmGBWQYFpBhWECGYQEZhgVkGBaQYVhAhmEBGYYFZBgWkGFYQIZhARmGBWQYFpBhWECGYQEZhgVkGBaQYVhAhmEBGYYFZBgWkGFYQIZhARmGBWQYFpBhWECGYQEZhgVkGBaQYVhAhmEBGYYFZBgWkGFYQIZhARmGBWQYFpBhWECGYQEZhgVkGBaQYVhAhmEBGYYFZBgWkGFYQIZhARmGBWQYFpBhWECGYQEZhgVkGBaQYVhAhmEBGYYFZBgWkGFYQIZhARmGBWQYFpBhWECGYQEZhgVkGBaQYVhAhmEBGYYFZBgWkGFYQIZhARmGBWQYFpBhWECGYQEZhgVkGBaQYVhAhmEBGYYFZBgWkGFYQIZhARmGBWQYFpBhWECGYQEZhgVkGBaQYVhAhmEBGYYFZBgWkGFYQIZhARmGBWQYFpBhWECGYQEZhgVkGBaQYVhAhmEBGYYFZBgWkGFYQIZhARmGBWQYFpBhWECGYQEZhgVkGBaQYVhAhmEBGYYFZBgWkGFYQIZhARmGBWQYFpBhWECGYQEZhgVkGBaQYVhAhmEBGYYFZBgWkGFYQIZhARmGBWQYFpBhWECGYQEZhgVkGBaQYVhAhmEBGYYFZBgWkGFYQIZhARmGBWQYFpBhWECGYQEZhgVkGBaQYVhAhmEBGYYFZBgWkGFYQIZhARmGBWQYFpBhWECGYQEZhgVkGBaQYVhAxgUj9gZUU/j5FgAAAABJRU5ErkJggg==' width=300.0/>\n",
       "            </div>\n",
       "        "
      ],
      "text/plain": [
       "Canvas(header_visible=False, toolbar=Toolbar(toolitems=[('Home', 'Reset original view', 'home', 'home'), ('Bac…"
      ]
     },
     "metadata": {},
     "output_type": "display_data"
    }
   ],
   "source": [
    "import matplotlib.patches as patches\n",
    "\n",
    "fig, ax = plt.subplots(figsize=(3, 3))\n",
    "fig.canvas.header_visible = False\n",
    "ax.axis(\"off\")\n",
    "\n",
    "play = widgets.Play(value=1, min=1, max=10, intervale=100)\n",
    "\n",
    "def on_play_changed(changed):\n",
    "    ax.clear()\n",
    "    ax.set_xlim(0, 10)\n",
    "    ax.set_ylim(0, 10)\n",
    "    ax.axis(\"off\")\n",
    "    \n",
    "    value = changed[\"new\"]    \n",
    "    rect = patches.Rectangle(xy=(0, 0), width=value, height=value, fc=\"red\")\n",
    "    ax.add_artist(rect)\n",
    "    \n",
    "play.observe(on_play_changed, names=\"value\")\n",
    "\n",
    "display(play)    "
   ]
  },
  {
   "cell_type": "code",
   "execution_count": 9,
   "metadata": {},
   "outputs": [
    {
     "data": {
      "application/vnd.jupyter.widget-view+json": {
       "model_id": "2f2a602179054deb832104a488980911",
       "version_major": 2,
       "version_minor": 0
      },
      "text/plain": [
       "HBox(children=(Play(value=1, max=10, min=1), IntSlider(value=1, max=10, min=1)))"
      ]
     },
     "metadata": {},
     "output_type": "display_data"
    },
    {
     "data": {
      "application/vnd.jupyter.widget-view+json": {
       "model_id": "bdad128a28ed430fbaa4f08c7a1f5971",
       "version_major": 2,
       "version_minor": 0
      },
      "image/png": "[encoded data removed]",
      "text/html": [
       "\n",
       "            <div style=\"display: inline-block;\">\n",
       "                <div class=\"jupyter-widgets widget-label\" style=\"text-align: center;\">\n",
       "                    Figure\n",
       "                </div>\n",
       "                <img src='data:image/png;base64,iVBORw0KGgoAAAANSUhEUgAAASwAAAEsCAYAAAB5fY51AAAAOXRFWHRTb2Z0d2FyZQBNYXRwbG90bGliIHZlcnNpb24zLjguMCwgaHR0cHM6Ly9tYXRwbG90bGliLm9yZy81sbWrAAAACXBIWXMAAA9hAAAPYQGoP6dpAAAD7klEQVR4nO3UQQ0AIBDAMMC/58MCP7KkVbDX9szMAgg4vwMAXhkWkGFYQIZhARmGBWQYFpBhWECGYQEZhgVkGBaQYVhAhmEBGYYFZBgWkGFYQIZhARmGBWQYFpBhWECGYQEZhgVkGBaQYVhAhmEBGYYFZBgWkGFYQIZhARmGBWQYFpBhWECGYQEZhgVkGBaQYVhAhmEBGYYFZBgWkGFYQIZhARmGBWQYFpBhWECGYQEZhgVkGBaQYVhAhmEBGYYFZBgWkGFYQIZhARmGBWQYFpBhWECGYQEZhgVkGBaQYVhAhmEBGYYFZBgWkGFYQIZhARmGBWQYFpBhWECGYQEZhgVkGBaQYVhAhmEBGYYFZBgWkGFYQIZhARmGBWQYFpBhWECGYQEZhgVkGBaQYVhAhmEBGYYFZBgWkGFYQIZhARmGBWQYFpBhWECGYQEZhgVkGBaQYVhAhmEBGYYFZBgWkGFYQIZhARmGBWQYFpBhWECGYQEZhgVkGBaQYVhAhmEBGYYFZBgWkGFYQIZhARmGBWQYFpBhWECGYQEZhgVkGBaQYVhAhmEBGYYFZBgWkGFYQIZhARmGBWQYFpBhWECGYQEZhgVkGBaQYVhAhmEBGYYFZBgWkGFYQIZhARmGBWQYFpBhWECGYQEZhgVkGBaQYVhAhmEBGYYFZBgWkGFYQIZhARmGBWQYFpBhWECGYQEZhgVkGBaQYVhAhmEBGYYFZBgWkGFYQIZhARmGBWQYFpBhWECGYQEZhgVkGBaQYVhAhmEBGYYFZBgWkGFYQIZhARmGBWQYFpBhWECGYQEZhgVkGBaQYVhAhmEBGYYFZBgWkGFYQIZhARmGBWQYFpBhWECGYQEZhgVkGBaQYVhAhmEBGYYFZBgWkGFYQIZhARmGBWQYFpBhWECGYQEZhgVkGBaQYVhAhmEBGYYFZBgWkGFYQIZhARmGBWQYFpBhWECGYQEZhgVkGBaQYVhAhmEBGYYFZBgWkGFYQIZhARmGBWQYFpBhWECGYQEZhgVkGBaQYVhAhmEBGYYFZBgWkGFYQIZhARmGBWQYFpBhWECGYQEZhgVkGBaQYVhAhmEBGYYFZBgWkGFYQIZhARmGBWQYFpBhWECGYQEZhgVkGBaQYVhAhmEBGYYFZBgWkGFYQIZhARmGBWQYFpBhWECGYQEZhgVkGBaQYVhAhmEBGYYFZBgWkGFYQIZhARmGBWQYFpBhWECGYQEZhgVkGBaQYVhAhmEBGYYFZBgWkGFYQIZhARmGBWQYFpBhWECGYQEZhgVkGBaQYVhAhmEBGYYFZBgWkGFYQIZhARmGBWQYFpBhWECGYQEZhgVkGBaQYVhAxgUj9gZUU/j5FgAAAABJRU5ErkJggg==' width=300.0/>\n",
       "            </div>\n",
       "        "
      ],
      "text/plain": [
       "Canvas(header_visible=False, toolbar=Toolbar(toolitems=[('Home', 'Reset original view', 'home', 'home'), ('Bac…"
      ]
     },
     "metadata": {},
     "output_type": "display_data"
    }
   ],
   "source": [
    "fig, ax = plt.subplots(figsize=(3, 3))\n",
    "fig.canvas.header_visible = False\n",
    "ax.axis(\"off\")\n",
    "\n",
    "play = widgets.Play(value=1, min=1, max=10, interval=100)\n",
    "slider = widgets.IntSlider(value=1, min=1, max=10)\n",
    "widgets.jslink((play, \"value\"), (slider, \"value\"))\n",
    "\n",
    "def on_play_changed(changed):\n",
    "    ax.clear()\n",
    "    ax.set_xlim(0, 10)\n",
    "    ax.set_ylim(0, 10)\n",
    "    ax.axis(\"off\")\n",
    "    \n",
    "    value = changed[\"new\"]    \n",
    "    rect = patches.Rectangle(xy=(0, 0), width=value, height=value, fc=\"red\")\n",
    "    ax.add_artist(rect)\n",
    "    \n",
    "play.observe(on_play_changed, names=\"value\")\n",
    "\n",
    "display(widgets.HBox([play, slider]))  "
   ]
  },
  {
   "cell_type": "code",
   "execution_count": 10,
   "metadata": {},
   "outputs": [],
   "source": [
    "from marubatsu import Marubatsu\n",
    "\n",
    "def create_tree_by_bf(self):\n",
    "    # 深さ 0 のノードを、子ノードを作成するノードのリストに登録する\n",
    "    nodelist = [self.root]\n",
    "    depth = 0\n",
    "    # 各深さのノードのリストを記録する変数を初期化する\n",
    "    self.nodelist_by_depth = [ nodelist ]\n",
    "    \n",
    "    # 深さ depth のノードのリストが空になるまで繰り返し処理を行う\n",
    "    while len(nodelist) > 0:\n",
    "        childnodelist = [] \n",
    "        for node in nodelist:\n",
    "            if node.mb.status == Marubatsu.PLAYING:\n",
    "                node.calc_children()\n",
    "                childnodelist += node.children\n",
    "        self.nodelist_by_depth.append(childnodelist)\n",
    "        nodelist = childnodelist\n",
    "        depth += 1\n",
    "        print(f\"{len(nodelist):>6} depth {depth} node created\")\n",
    "        \n",
    "    self.nodenum = 0\n",
    "    self.nodelist = []\n",
    "    for nodelist in self.nodelist_by_depth:\n",
    "        self.nodenum += len(nodelist)\n",
    "        self.nodelist += nodelist\n",
    "    print(f\"total node num = {self.nodenum}\")\n",
    "    \n",
    "Mbtree.create_tree_by_bf = create_tree_by_bf"
   ]
  },
  {
   "cell_type": "code",
   "execution_count": 11,
   "metadata": {},
   "outputs": [
    {
     "name": "stdout",
     "output_type": "stream",
     "text": [
      "     9 depth 1 node created\n",
      "    72 depth 2 node created\n",
      "   504 depth 3 node created\n",
      "  3024 depth 4 node created\n",
      " 15120 depth 5 node created\n",
      " 54720 depth 6 node created\n",
      "148176 depth 7 node created\n",
      "200448 depth 8 node created\n",
      "127872 depth 9 node created\n",
      "     0 depth 10 node created\n",
      "total node num = 549946\n",
      "549946\n",
      "True\n"
     ]
    }
   ],
   "source": [
    "mbtree = Mbtree()\n",
    "print(len(mbtree.nodelist))\n",
    "print(mbtree.nodelist[0] is mbtree.root)"
   ]
  },
  {
   "cell_type": "code",
   "execution_count": 12,
   "metadata": {},
   "outputs": [],
   "source": [
    "class Mbtree_Anim(GUI):\n",
    "    def __init__(self, mbtree, size=0.15):\n",
    "        self.mbtree = mbtree\n",
    "        self.size = size\n",
    "        self.width = 50\n",
    "        self.height = 64\n",
    "        super().__init__()\n",
    "        \n",
    "    def create_widgets(self):\n",
    "        pass\n",
    "    \n",
    "    def display_widgets(self):\n",
    "        pass\n",
    "    \n",
    "    def create_event_handler(self):\n",
    "        pass\n",
    "    \n",
    "    def update_gui(self):\n",
    "        pass"
   ]
  },
  {
   "cell_type": "code",
   "execution_count": 13,
   "metadata": {},
   "outputs": [],
   "source": [
    "def create_widgets(self):\n",
    "    self.play = widgets.Play(max=self.mbtree.nodenum - 1, interval=500)\n",
    "    self.slider = widgets.IntSlider(max=self.mbtree.nodenum - 1, description=\"frame\")\n",
    "    widgets.jslink((self.play, \"value\"), (self.slider, \"value\"))\n",
    "    \n",
    "    with plt.ioff():\n",
    "        self.fig = plt.figure(figsize=[self.width * self.size,\n",
    "                                        self.height * self.size])\n",
    "        self.ax = self.fig.add_axes([0, 0, 1, 1])\n",
    "    self.fig.canvas.toolbar_visible = False\n",
    "    self.fig.canvas.header_visible = False\n",
    "    self.fig.canvas.footer_visible = False\n",
    "    self.fig.canvas.resizable = False \n",
    "    \n",
    "Mbtree_Anim.create_widgets = create_widgets"
   ]
  },
  {
   "cell_type": "code",
   "execution_count": 14,
   "metadata": {},
   "outputs": [],
   "source": [
    "def display_widgets(self):\n",
    "    hbox = widgets.HBox([self.play, self.slider])\n",
    "    display(widgets.VBox([hbox, self.fig.canvas]))\n",
    "    \n",
    "Mbtree_Anim.display_widgets = display_widgets"
   ]
  },
  {
   "cell_type": "code",
   "execution_count": 15,
   "metadata": {},
   "outputs": [],
   "source": [
    "def update_gui(self):\n",
    "    self.ax.clear()\n",
    "    self.ax.set_xlim(-1, self.width - 1)\n",
    "    self.ax.set_ylim(0, self.height)   \n",
    "    self.ax.invert_yaxis()\n",
    "    self.ax.axis(\"off\")   \n",
    "    \n",
    "    self.selectednode = self.mbtree.nodelist[self.play.value]\n",
    "    self.centernode = self.selectednode\n",
    "    if self.selectednode.depth <= 4:\n",
    "        maxdepth = self.centernode.depth + 1\n",
    "    elif self.centernode.depth == 5:\n",
    "        maxdepth = 7\n",
    "    else:\n",
    "        maxdepth = 9\n",
    "    self.mbtree.draw_subtree(centernode=self.centernode, selectednode=self.selectednode, ax=self.ax, maxdepth=maxdepth)\n",
    "    \n",
    "Mbtree_Anim.update_gui = update_gui"
   ]
  },
  {
   "cell_type": "code",
   "execution_count": 16,
   "metadata": {},
   "outputs": [],
   "source": [
    "def create_event_handler(self):\n",
    "    def on_play_changed(changed):\n",
    "        self.update_gui()\n",
    "        \n",
    "    self.play.observe(on_play_changed, names=\"value\")\n",
    "    \n",
    "Mbtree_Anim.create_event_handler = create_event_handler"
   ]
  },
  {
   "cell_type": "code",
   "execution_count": 17,
   "metadata": {},
   "outputs": [
    {
     "data": {
      "application/vnd.jupyter.widget-view+json": {
       "model_id": "29c364fa4ba44645a9ac24a7f3e4d5f7",
       "version_major": 2,
       "version_minor": 0
      },
      "text/plain": [
       "VBox(children=(HBox(children=(Play(value=0, interval=500, max=549945), IntSlider(value=0, description='frame',…"
      ]
     },
     "metadata": {},
     "output_type": "display_data"
    }
   ],
   "source": [
    "mbtree_anim = Mbtree_Anim(mbtree)"
   ]
  }
 ],
 "metadata": {
  "kernelspec": {
   "display_name": "marubatsu",
   "language": "python",
   "name": "python3"
  },
  "language_info": {
   "codemirror_mode": {
    "name": "ipython",
    "version": 3
   },
   "file_extension": ".py",
   "mimetype": "text/x-python",
   "name": "python",
   "nbconvert_exporter": "python",
   "pygments_lexer": "ipython3",
   "version": "3.11.4"
  }
 },
 "nbformat": 4,
 "nbformat_minor": 2
}
