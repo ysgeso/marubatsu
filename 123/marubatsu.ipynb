{
 "cells": [
  {
   "cell_type": "code",
   "execution_count": 1,
   "metadata": {},
   "outputs": [],
   "source": [
    "from util import load_bestmoves\n",
    "\n",
    "scoretable_dict = {\n",
    "    \"Standard (ai_gt6)\": load_bestmoves(\"../data/bestmoves_and_score_by_board.dat\"),\n",
    "    \"Shortest victory (ai_gtsv)\": load_bestmoves(\"../data/bestmoves_and_score_by_board_shortest_victory.dat\"),\n",
    "}"
   ]
  },
  {
   "cell_type": "code",
   "execution_count": 2,
   "metadata": {},
   "outputs": [],
   "source": [
    "from tree import Node, Mbtree_GUI\n",
    "from marubatsu import Marubatsu\n",
    "\n",
    "def __init__(self, scoretable_dict=None, show_score=True, size=0.15):\n",
    "    if scoretable_dict is None:\n",
    "        from util import load_bestmoves\n",
    "        \n",
    "        scoretable_dict = {\n",
    "            \"Standard (ai_gt6)\": load_bestmoves(\"../data/bestmoves_and_score_by_board.dat\"),\n",
    "            \"Shortest victory (ai_gtsv)\": load_bestmoves(\"../data/bestmoves_and_score_by_board_shortest_victory.dat\"),\n",
    "        }\n",
    "    self.scoretable_dict = scoretable_dict\n",
    "    self.show_score = show_score\n",
    "    self.size = size\n",
    "    self.width = 50\n",
    "    self.height = 65\n",
    "    self.selectednode = Node(Marubatsu())\n",
    "    super(Mbtree_GUI, self).__init__()\n",
    "    \n",
    "Mbtree_GUI.__init__ = __init__"
   ]
  },
  {
   "cell_type": "code",
   "execution_count": 3,
   "metadata": {},
   "outputs": [],
   "source": [
    "import ipywidgets as widgets\n",
    "import matplotlib.pyplot as plt\n",
    "\n",
    "def create_widgets(self):\n",
    "    self.output = widgets.Output()  \n",
    "    self.print_helpmessage()\n",
    "    self.output.layout.display = \"none\"\n",
    "    self.left_button = self.create_button(\"←\", 50)\n",
    "    self.up_button = self.create_button(\"↑\", 50)\n",
    "    self.right_button = self.create_button(\"→\", 50)\n",
    "    self.down_button = self.create_button(\"↓\", 50)\n",
    "    self.score_button = self.create_button(\"評価値の表示\", 100)\n",
    "    self.size_slider = widgets.FloatSlider(min=0.05, max=0.25, step=0.01, description=\"size\", value=self.size)\n",
    "    self.help_button = self.create_button(\"？\", 50)\n",
    "    self.label = widgets.Label(value=\"\", layout=widgets.Layout(width=f\"50px\"))\n",
    "    \n",
    "    with plt.ioff():\n",
    "        self.fig = plt.figure(figsize=[self.width * self.size,\n",
    "                                        self.height * self.size])\n",
    "        self.ax = self.fig.add_axes([0, 0, 1, 1])\n",
    "    self.fig.canvas.toolbar_visible = False\n",
    "    self.fig.canvas.header_visible = False\n",
    "    self.fig.canvas.footer_visible = False\n",
    "    self.fig.canvas.resizable = False    \n",
    "    \n",
    "    self.dropdown = widgets.Dropdown(\n",
    "        options=self.scoretable_dict,\n",
    "        description=\"score table\",\n",
    "    )\n",
    "    self.bestmoves_and_score_by_board = self.dropdown.value\n",
    "\n",
    "Mbtree_GUI.create_widgets = create_widgets"
   ]
  },
  {
   "cell_type": "code",
   "execution_count": 4,
   "metadata": {},
   "outputs": [],
   "source": [
    "def display_widgets(self):\n",
    "    hbox1 = widgets.HBox([self.label, self.up_button, self.label, self.label, self.score_button])\n",
    "    hbox2 = widgets.HBox([self.left_button, self.label, self.right_button,\n",
    "                        self.size_slider, self.help_button])\n",
    "    hbox3 = widgets.HBox([self.label, self.down_button, self.label, self.dropdown])\n",
    "    self.vbox = widgets.VBox([self.output, hbox1, hbox2, hbox3, self.fig.canvas])\n",
    "    display(self.vbox)  \n",
    "    \n",
    "Mbtree_GUI.display_widgets = display_widgets"
   ]
  },
  {
   "cell_type": "code",
   "execution_count": 5,
   "metadata": {},
   "outputs": [
    {
     "data": {
      "application/vnd.jupyter.widget-view+json": {
       "model_id": "cbd2def9f42f47ccb13820d62067752b",
       "version_major": 2,
       "version_minor": 0
      },
      "text/plain": [
       "VBox(children=(Output(layout=Layout(display='none')), HBox(children=(Label(value='', layout=Layout(width='50px…"
      ]
     },
     "metadata": {},
     "output_type": "display_data"
    },
    {
     "data": {
      "text/plain": [
       "<tree.Mbtree_GUI at 0x14c16fb93d0>"
      ]
     },
     "execution_count": 5,
     "metadata": {},
     "output_type": "execute_result"
    }
   ],
   "source": [
    "Mbtree_GUI(scoretable_dict)"
   ]
  },
  {
   "cell_type": "code",
   "execution_count": 6,
   "metadata": {},
   "outputs": [],
   "source": [
    "def create_event_handler(self):\n",
    "    def on_left_button_clicked(b=None):\n",
    "        if self.selectednode.parent is not None:\n",
    "            self.selectednode = self.selectednode.parent\n",
    "            self.update_gui()\n",
    "            \n",
    "    def on_right_button_clicked(b=None):\n",
    "        if len(self.selectednode.children) > 0:\n",
    "            self.selectednode = self.selectednode.children[0]\n",
    "            self.update_gui()\n",
    "\n",
    "    def on_up_button_clicked(b=None):\n",
    "        if self.selectednode.parent is not None:\n",
    "            index = self.selectednode.parent.children.index(self.selectednode)\n",
    "            if index > 0:\n",
    "                self.selectednode = self.selectednode.parent.children[index - 1]\n",
    "                self.update_gui()\n",
    "            \n",
    "    def on_down_button_clicked(b=None):\n",
    "        if self.selectednode.parent is not None:\n",
    "            index = self.selectednode.parent.children.index(self.selectednode)\n",
    "            if self.selectednode.parent.children[-1] is not self.selectednode:\n",
    "                self.selectednode = self.selectednode.parent.children[index + 1]\n",
    "                self.update_gui()            \n",
    "                \n",
    "    def on_score_button_clicked(b=None):\n",
    "        self.show_score = not self.show_score\n",
    "        self.update_gui()\n",
    "                \n",
    "    def on_size_slider_changed(changed):\n",
    "        self.size = changed[\"new\"]\n",
    "        self.fig.set_figwidth(self.width * self.size)\n",
    "        self.fig.set_figheight(self.height * self.size)\n",
    "        self.update_gui()\n",
    "                \n",
    "    def on_help_button_clicked(b=None):\n",
    "        self.output.layout.display = \"none\" if self.output.layout.display is None else None\n",
    "        self.update_gui()\n",
    "                        \n",
    "    self.left_button.on_click(on_left_button_clicked)\n",
    "    self.right_button.on_click(on_right_button_clicked)\n",
    "    self.up_button.on_click(on_up_button_clicked)\n",
    "    self.down_button.on_click(on_down_button_clicked)\n",
    "    self.score_button.on_click(on_score_button_clicked)\n",
    "    self.size_slider.observe(on_size_slider_changed, names=\"value\")\n",
    "    self.help_button.on_click(on_help_button_clicked)\n",
    "\n",
    "    def on_dropdown_changed(changed):\n",
    "        self.bestmoves_and_score_by_board = self.dropdown.value\n",
    "        self.update_gui()\n",
    "\n",
    "    self.dropdown.observe(on_dropdown_changed, names=\"value\")\n",
    "\n",
    "    def on_key_press(event):\n",
    "        keymap = {\n",
    "            \"left\": on_left_button_clicked,\n",
    "            \"0\": on_left_button_clicked,\n",
    "            \"right\": on_right_button_clicked,\n",
    "            \"up\": on_up_button_clicked,\n",
    "            \"down\": on_down_button_clicked,\n",
    "        }\n",
    "        if event.key in keymap:\n",
    "            keymap[event.key]()\n",
    "        else:\n",
    "            try:\n",
    "                num = int(event.key) - 1\n",
    "                x = num % 3\n",
    "                y = 2 - (num // 3)\n",
    "                move = (x, y)\n",
    "                if move in self.selectednode.children_by_move:\n",
    "                    self.selectednode = self.selectednode.children_by_move[move]\n",
    "                    self.update_gui()\n",
    "            except:\n",
    "                pass            \n",
    "            \n",
    "    def on_mouse_down(event):\n",
    "        for rect, node in self.mbtree.nodes_by_rect.items():\n",
    "            if rect.is_inside(event.xdata, event.ydata):\n",
    "                self.selectednode = node\n",
    "                self.update_gui()\n",
    "                break               \n",
    "            \n",
    "    # fig の画像イベントハンドラを結び付ける\n",
    "    self.fig.canvas.mpl_connect(\"key_press_event\", on_key_press)\n",
    "    self.fig.canvas.mpl_connect(\"button_press_event\", on_mouse_down)\n",
    "\n",
    "Mbtree_GUI.create_event_handler = create_event_handler"
   ]
  },
  {
   "cell_type": "code",
   "execution_count": 7,
   "metadata": {},
   "outputs": [
    {
     "data": {
      "application/vnd.jupyter.widget-view+json": {
       "model_id": "489b21f5b6534d36bc6519e0c09ea751",
       "version_major": 2,
       "version_minor": 0
      },
      "text/plain": [
       "VBox(children=(Output(layout=Layout(display='none')), HBox(children=(Label(value='', layout=Layout(width='50px…"
      ]
     },
     "metadata": {},
     "output_type": "display_data"
    },
    {
     "data": {
      "text/plain": [
       "<tree.Mbtree_GUI at 0x14c18d052d0>"
      ]
     },
     "execution_count": 7,
     "metadata": {},
     "output_type": "execute_result"
    }
   ],
   "source": [
    "Mbtree_GUI()"
   ]
  },
  {
   "cell_type": "code",
   "execution_count": 8,
   "metadata": {},
   "outputs": [
    {
     "data": {
      "application/vnd.jupyter.widget-view+json": {
       "model_id": "315dce4f4cce448595365467c8d20c0f",
       "version_major": 2,
       "version_minor": 0
      },
      "text/plain": [
       "VBox(children=(HBox(children=(Checkbox(value=False, description='乱数の種', indent=False, layout=Layout(width='100…"
      ]
     },
     "metadata": {},
     "output_type": "display_data"
    },
    {
     "ename": "TypeError",
     "evalue": "'Mbtree' object is not iterable",
     "output_type": "error",
     "traceback": [
      "\u001b[1;31m---------------------------------------------------------------------------\u001b[0m",
      "\u001b[1;31mTypeError\u001b[0m                                 Traceback (most recent call last)",
      "Cell \u001b[1;32mIn[8], line 3\u001b[0m\n\u001b[0;32m      1\u001b[0m \u001b[38;5;28;01mfrom\u001b[39;00m \u001b[38;5;21;01mutil\u001b[39;00m \u001b[38;5;28;01mimport\u001b[39;00m gui_play\n\u001b[1;32m----> 3\u001b[0m gui_play()\n",
      "File \u001b[1;32mc:\\Users\\ys\\ai\\marubatsu\\123\\util.py:45\u001b[0m, in \u001b[0;36mgui_play\u001b[1;34m(ai, params, ai_dict, seed)\u001b[0m\n\u001b[0;32m     42\u001b[0m     ai_dict[\u001b[38;5;124m\"\u001b[39m\u001b[38;5;124mai_gt6\u001b[39m\u001b[38;5;124m\"\u001b[39m] \u001b[38;5;241m=\u001b[39m (ai_gt6, {\u001b[38;5;124m\"\u001b[39m\u001b[38;5;124mbestmoves_by_board\u001b[39m\u001b[38;5;124m\"\u001b[39m: bestmoves_by_board})\n\u001b[0;32m     44\u001b[0m mb \u001b[38;5;241m=\u001b[39m Marubatsu()\n\u001b[1;32m---> 45\u001b[0m mb\u001b[38;5;241m.\u001b[39mplay(ai\u001b[38;5;241m=\u001b[39mai, params\u001b[38;5;241m=\u001b[39mparams, ai_dict\u001b[38;5;241m=\u001b[39mai_dict, seed\u001b[38;5;241m=\u001b[39mseed, gui\u001b[38;5;241m=\u001b[39m\u001b[38;5;28;01mTrue\u001b[39;00m)\n",
      "File \u001b[1;32mc:\\Users\\ys\\ai\\marubatsu\\123\\marubatsu.py:353\u001b[0m, in \u001b[0;36mMarubatsu.play\u001b[1;34m(self, ai, ai_dict, params, names, verbose, seed, gui, size)\u001b[0m\n\u001b[0;32m    351\u001b[0m \u001b[38;5;66;03m# gui が True の場合に、GUI の処理を行う Marubatsu_GUI のインスタンスを作成する\u001b[39;00m\n\u001b[0;32m    352\u001b[0m \u001b[38;5;28;01mif\u001b[39;00m gui:\n\u001b[1;32m--> 353\u001b[0m     mb_gui \u001b[38;5;241m=\u001b[39m Marubatsu_GUI(\u001b[38;5;28mself\u001b[39m, params\u001b[38;5;241m=\u001b[39mparams, names\u001b[38;5;241m=\u001b[39mnames, ai_dict\u001b[38;5;241m=\u001b[39mai_dict, seed\u001b[38;5;241m=\u001b[39mseed, size\u001b[38;5;241m=\u001b[39msize)  \n\u001b[0;32m    354\u001b[0m \u001b[38;5;28;01melse\u001b[39;00m:\n\u001b[0;32m    355\u001b[0m     mb_gui \u001b[38;5;241m=\u001b[39m \u001b[38;5;28;01mNone\u001b[39;00m\n",
      "File \u001b[1;32mc:\\Users\\ys\\ai\\marubatsu\\123\\marubatsu.py:604\u001b[0m, in \u001b[0;36mMarubatsu_GUI.__init__\u001b[1;34m(self, mb, params, names, ai_dict, seed, size)\u001b[0m\n\u001b[0;32m    602\u001b[0m \u001b[38;5;28;01mif\u001b[39;00m Marubatsu_GUI\u001b[38;5;241m.\u001b[39mmbtree \u001b[38;5;129;01mis\u001b[39;00m \u001b[38;5;28;01mNone\u001b[39;00m:\n\u001b[0;32m    603\u001b[0m     Marubatsu_GUI\u001b[38;5;241m.\u001b[39mmbtree \u001b[38;5;241m=\u001b[39m Mbtree\u001b[38;5;241m.\u001b[39mload(\u001b[38;5;124m\"\u001b[39m\u001b[38;5;124m../data/aidata\u001b[39m\u001b[38;5;124m\"\u001b[39m)\n\u001b[1;32m--> 604\u001b[0m \u001b[38;5;28mself\u001b[39m\u001b[38;5;241m.\u001b[39mmbtree_gui \u001b[38;5;241m=\u001b[39m Mbtree_GUI(Marubatsu_GUI\u001b[38;5;241m.\u001b[39mmbtree, size\u001b[38;5;241m=\u001b[39m\u001b[38;5;241m0.1\u001b[39m)\n",
      "Cell \u001b[1;32mIn[2], line 16\u001b[0m, in \u001b[0;36m__init__\u001b[1;34m(self, scoretable_dict, show_score, size)\u001b[0m\n\u001b[0;32m     14\u001b[0m \u001b[38;5;28mself\u001b[39m\u001b[38;5;241m.\u001b[39mheight \u001b[38;5;241m=\u001b[39m \u001b[38;5;241m65\u001b[39m\n\u001b[0;32m     15\u001b[0m \u001b[38;5;28mself\u001b[39m\u001b[38;5;241m.\u001b[39mselectednode \u001b[38;5;241m=\u001b[39m Node(Marubatsu())\n\u001b[1;32m---> 16\u001b[0m \u001b[38;5;28msuper\u001b[39m(Mbtree_GUI, \u001b[38;5;28mself\u001b[39m)\u001b[38;5;241m.\u001b[39m\u001b[38;5;21m__init__\u001b[39m()\n",
      "File \u001b[1;32mc:\\Users\\ys\\ai\\marubatsu\\123\\gui.py:13\u001b[0m, in \u001b[0;36mGUI.__init__\u001b[1;34m(self)\u001b[0m\n\u001b[0;32m     10\u001b[0m get_ipython()\u001b[38;5;241m.\u001b[39mrun_line_magic(\u001b[38;5;124m'\u001b[39m\u001b[38;5;124mmatplotlib\u001b[39m\u001b[38;5;124m'\u001b[39m, \u001b[38;5;124m'\u001b[39m\u001b[38;5;124mwidget\u001b[39m\u001b[38;5;124m'\u001b[39m)\n\u001b[0;32m     12\u001b[0m \u001b[38;5;28mself\u001b[39m\u001b[38;5;241m.\u001b[39mdisable_shortcutkeys()\n\u001b[1;32m---> 13\u001b[0m \u001b[38;5;28mself\u001b[39m\u001b[38;5;241m.\u001b[39mcreate_widgets()\n\u001b[0;32m     14\u001b[0m \u001b[38;5;28mself\u001b[39m\u001b[38;5;241m.\u001b[39mcreate_event_handler()\n\u001b[0;32m     15\u001b[0m \u001b[38;5;28mself\u001b[39m\u001b[38;5;241m.\u001b[39mdisplay_widgets() \n",
      "Cell \u001b[1;32mIn[3], line 26\u001b[0m, in \u001b[0;36mcreate_widgets\u001b[1;34m(self)\u001b[0m\n\u001b[0;32m     23\u001b[0m \u001b[38;5;28mself\u001b[39m\u001b[38;5;241m.\u001b[39mfig\u001b[38;5;241m.\u001b[39mcanvas\u001b[38;5;241m.\u001b[39mfooter_visible \u001b[38;5;241m=\u001b[39m \u001b[38;5;28;01mFalse\u001b[39;00m\n\u001b[0;32m     24\u001b[0m \u001b[38;5;28mself\u001b[39m\u001b[38;5;241m.\u001b[39mfig\u001b[38;5;241m.\u001b[39mcanvas\u001b[38;5;241m.\u001b[39mresizable \u001b[38;5;241m=\u001b[39m \u001b[38;5;28;01mFalse\u001b[39;00m    \n\u001b[1;32m---> 26\u001b[0m \u001b[38;5;28mself\u001b[39m\u001b[38;5;241m.\u001b[39mdropdown \u001b[38;5;241m=\u001b[39m widgets\u001b[38;5;241m.\u001b[39mDropdown(\n\u001b[0;32m     27\u001b[0m     options\u001b[38;5;241m=\u001b[39m\u001b[38;5;28mself\u001b[39m\u001b[38;5;241m.\u001b[39mscoretable_dict,\n\u001b[0;32m     28\u001b[0m     description\u001b[38;5;241m=\u001b[39m\u001b[38;5;124m\"\u001b[39m\u001b[38;5;124mscore table\u001b[39m\u001b[38;5;124m\"\u001b[39m,\n\u001b[0;32m     29\u001b[0m )\n\u001b[0;32m     30\u001b[0m \u001b[38;5;28mself\u001b[39m\u001b[38;5;241m.\u001b[39mbestmoves_and_score_by_board \u001b[38;5;241m=\u001b[39m \u001b[38;5;28mself\u001b[39m\u001b[38;5;241m.\u001b[39mdropdown\u001b[38;5;241m.\u001b[39mvalue\n",
      "File \u001b[1;32mc:\\Users\\ys\\Anaconda3\\envs\\marubatsu\\Lib\\site-packages\\ipywidgets\\widgets\\widget_selection.py:176\u001b[0m, in \u001b[0;36m_Selection.__init__\u001b[1;34m(self, *args, **kwargs)\u001b[0m\n\u001b[0;32m    174\u001b[0m \u001b[38;5;28mself\u001b[39m\u001b[38;5;241m.\u001b[39m_initializing_traits_ \u001b[38;5;241m=\u001b[39m \u001b[38;5;28;01mTrue\u001b[39;00m\n\u001b[0;32m    175\u001b[0m kwargs[\u001b[38;5;124m'\u001b[39m\u001b[38;5;124moptions\u001b[39m\u001b[38;5;124m'\u001b[39m] \u001b[38;5;241m=\u001b[39m _exhaust_iterable(kwargs\u001b[38;5;241m.\u001b[39mget(\u001b[38;5;124m'\u001b[39m\u001b[38;5;124moptions\u001b[39m\u001b[38;5;124m'\u001b[39m, ()))\n\u001b[1;32m--> 176\u001b[0m \u001b[38;5;28mself\u001b[39m\u001b[38;5;241m.\u001b[39m_options_full \u001b[38;5;241m=\u001b[39m _make_options(kwargs[\u001b[38;5;124m'\u001b[39m\u001b[38;5;124moptions\u001b[39m\u001b[38;5;124m'\u001b[39m])\n\u001b[0;32m    177\u001b[0m \u001b[38;5;28mself\u001b[39m\u001b[38;5;241m.\u001b[39m_propagate_options(\u001b[38;5;28;01mNone\u001b[39;00m)\n\u001b[0;32m    179\u001b[0m \u001b[38;5;66;03m# Select the first item by default, if we can\u001b[39;00m\n",
      "File \u001b[1;32mc:\\Users\\ys\\Anaconda3\\envs\\marubatsu\\Lib\\site-packages\\ipywidgets\\widgets\\widget_selection.py:121\u001b[0m, in \u001b[0;36m_make_options\u001b[1;34m(x)\u001b[0m\n\u001b[0;32m    118\u001b[0m     x \u001b[38;5;241m=\u001b[39m x\u001b[38;5;241m.\u001b[39mitems()\n\u001b[0;32m    120\u001b[0m \u001b[38;5;66;03m# only iterate once through the options.\u001b[39;00m\n\u001b[1;32m--> 121\u001b[0m xlist \u001b[38;5;241m=\u001b[39m \u001b[38;5;28mtuple\u001b[39m(x)\n\u001b[0;32m    123\u001b[0m \u001b[38;5;66;03m# Check if x is an iterable of (label, value) pairs\u001b[39;00m\n\u001b[0;32m    124\u001b[0m \u001b[38;5;28;01mif\u001b[39;00m \u001b[38;5;28mall\u001b[39m((\u001b[38;5;28misinstance\u001b[39m(i, (\u001b[38;5;28mlist\u001b[39m, \u001b[38;5;28mtuple\u001b[39m)) \u001b[38;5;129;01mand\u001b[39;00m \u001b[38;5;28mlen\u001b[39m(i) \u001b[38;5;241m==\u001b[39m \u001b[38;5;241m2\u001b[39m) \u001b[38;5;28;01mfor\u001b[39;00m i \u001b[38;5;129;01min\u001b[39;00m xlist):\n",
      "\u001b[1;31mTypeError\u001b[0m: 'Mbtree' object is not iterable"
     ]
    }
   ],
   "source": [
    "from util import gui_play\n",
    "\n",
    "gui_play()"
   ]
  },
  {
   "cell_type": "code",
   "execution_count": 9,
   "metadata": {},
   "outputs": [],
   "source": [
    "from marubatsu import Marubatsu_GUI\n",
    "from tkinter import Tk\n",
    "import os\n",
    "\n",
    "def __init__(self, mb, params, names, ai_dict, scoretable_dict, seed, size):\n",
    "    if params is None:\n",
    "        params = [{}, {}]\n",
    "    if ai_dict is None:\n",
    "        ai_dict = {}\n",
    "    if names is None:\n",
    "        names = [None, None]\n",
    "    for i in range(2):\n",
    "        if names[i] is None:\n",
    "            if mb.ai[i] is None:\n",
    "                names[i] = \"人間\"\n",
    "            else:\n",
    "                names[i] = mb.ai[i].__name__\n",
    "    \n",
    "    # JupyterLab からファイルダイアログを開く際に必要な前処理\n",
    "    root = Tk()\n",
    "    root.withdraw()\n",
    "    root.call('wm', 'attributes', '.', '-topmost', True)  \n",
    "\n",
    "    # save フォルダが存在しない場合は作成する\n",
    "    if not os.path.exists(\"save\"):\n",
    "        os.mkdir(\"save\")        \n",
    "    \n",
    "    self.mb = mb\n",
    "    self.ai_dict = ai_dict\n",
    "    self.params = params\n",
    "    self.names = names\n",
    "    self.seed = seed\n",
    "    self.size = size\n",
    "    \n",
    "    super(Marubatsu_GUI, self).__init__()\n",
    "    \n",
    "    from tree import Mbtree_GUI\n",
    "    \n",
    "    self.mbtree_gui = Mbtree_GUI(scoretable_dict, size=0.1)\n",
    "    \n",
    "Marubatsu_GUI.__init__ = __init__"
   ]
  },
  {
   "cell_type": "code",
   "execution_count": 10,
   "metadata": {},
   "outputs": [],
   "source": [
    "def update_gui(self):\n",
    "    ax = self.ax\n",
    "    ai = self.mb.ai\n",
    "    \n",
    "    # Axes の内容をクリアして、これまでの描画内容を削除する\n",
    "    ax.clear()\n",
    "    \n",
    "    # y 軸を反転させる\n",
    "    ax.invert_yaxis()\n",
    "    \n",
    "    # 枠と目盛りを表示しないようにする\n",
    "    ax.axis(\"off\")   \n",
    "    \n",
    "    # リプレイ中、ゲームの決着がついていた場合は背景色を変更する\n",
    "    is_replay =  self.mb.move_count < len(self.mb.records) - 1 \n",
    "    if self.mb.status == Marubatsu.PLAYING:\n",
    "        facecolor = \"lightcyan\" if is_replay else \"white\"\n",
    "    else:\n",
    "        facecolor = \"lightyellow\"\n",
    "\n",
    "    ax.figure.set_facecolor(facecolor)\n",
    "        \n",
    "    # 上部のメッセージを描画する\n",
    "    # 対戦カードの文字列を計算する\n",
    "    ax.text(1.5, 3.5, f\"{self.dropdown_list[0].label}　VS　{self.dropdown_list[1].label}\", fontsize=20, ha=\"center\")   \n",
    "    \n",
    "    # ゲームの決着がついていない場合は、手番を表示する\n",
    "    if self.mb.status == Marubatsu.PLAYING:\n",
    "        text = \"Turn \" + self.mb.turn\n",
    "    # 引き分けの場合\n",
    "    elif self.mb.status == Marubatsu.DRAW:\n",
    "        text = \"Draw game\"\n",
    "    # 決着がついていれば勝者を表示する\n",
    "    else:\n",
    "        text = \"Winner \" + self.mb.status\n",
    "    # リプレイ中の場合は \"Replay\" を表示する\n",
    "    if is_replay:\n",
    "        text += \" Replay\"\n",
    "    ax.text(0, -0.2, text, fontsize=20)\n",
    "    \n",
    "    self.draw_board(ax, self.mb)\n",
    "    \n",
    "    self.update_widgets_status()\n",
    "    \n",
    "    if hasattr(self, \"mbtree_gui\"):\n",
    "        from tree import Node\n",
    "        \n",
    "        self.mbtree_gui.selectednode = Node(self.mb, depth=self.mb.move_count)\n",
    "        self.mbtree_gui.update_gui()\n",
    "        \n",
    "Marubatsu_GUI.update_gui = update_gui"
   ]
  },
  {
   "cell_type": "code",
   "execution_count": 11,
   "metadata": {},
   "outputs": [],
   "source": [
    "from random import random\n",
    "\n",
    "def play(self, ai, ai_dict=None, params=None, names=None, scoretable_dict=None, verbose=True, seed=None, gui=False, size=3):\n",
    "    # params が None の場合のデフォルト値を設定する\n",
    "    if params is None:\n",
    "        params = [{}, {}]\n",
    "        \n",
    "    # 一部の仮引数をインスタンスの属性に代入する\n",
    "    self.ai = ai\n",
    "    self.verbose = verbose\n",
    "    self.gui = gui\n",
    "    \n",
    "    # seed が None でない場合は、seed を乱数の種として設定する\n",
    "    if seed is not None:\n",
    "        random.seed(seed)\n",
    "\n",
    "    # gui が True の場合に、GUI の処理を行う Marubatsu_GUI のインスタンスを作成する\n",
    "    if gui:\n",
    "        mb_gui = Marubatsu_GUI(self, params=params, names=names, ai_dict=ai_dict,\n",
    "                               scoretable_dict=scoretable_dict, seed=seed, size=size)\n",
    "    else:\n",
    "        mb_gui = None\n",
    "        \n",
    "    self.restart()\n",
    "    return self.play_loop(mb_gui, params=params)\n",
    "\n",
    "Marubatsu.play = play"
   ]
  },
  {
   "cell_type": "code",
   "execution_count": 12,
   "metadata": {},
   "outputs": [
    {
     "data": {
      "application/vnd.jupyter.widget-view+json": {
       "model_id": "7623a4a3b4a8445484ea25e1492a933f",
       "version_major": 2,
       "version_minor": 0
      },
      "text/plain": [
       "VBox(children=(HBox(children=(Checkbox(value=False, description='乱数の種', indent=False, layout=Layout(width='100…"
      ]
     },
     "metadata": {},
     "output_type": "display_data"
    },
    {
     "data": {
      "application/vnd.jupyter.widget-view+json": {
       "model_id": "1c98e44f7ea4470a9025337ca2271f18",
       "version_major": 2,
       "version_minor": 0
      },
      "text/plain": [
       "VBox(children=(Output(layout=Layout(display='none')), HBox(children=(Label(value='', layout=Layout(width='50px…"
      ]
     },
     "metadata": {},
     "output_type": "display_data"
    }
   ],
   "source": [
    "gui_play()"
   ]
  },
  {
   "cell_type": "code",
   "execution_count": 15,
   "metadata": {},
   "outputs": [],
   "source": [
    "from tree import Mbtree\n",
    "\n",
    "def update_gui(self):\n",
    "    self.ax.clear()\n",
    "    self.ax.set_xlim(-1, self.width - 1)\n",
    "    self.ax.set_ylim(-1, self.height - 1)   \n",
    "    self.ax.invert_yaxis()\n",
    "    self.ax.axis(\"off\")   \n",
    "    \n",
    "    if self.selectednode.depth <= 4:\n",
    "        maxdepth = self.selectednode.depth + 1\n",
    "    elif self.selectednode.depth == 5:\n",
    "        maxdepth = 7\n",
    "    else:\n",
    "        maxdepth = 9\n",
    "    if self.selectednode.depth <= 6:\n",
    "        centermb = self.selectednode.mb\n",
    "    else:\n",
    "        centermb = Marubatsu()\n",
    "        for x, y in self.selectednode.mb.records[1:7]:\n",
    "            centermb.move(x, y)\n",
    "    self.mbtree = Mbtree(subtree={\"centermb\": centermb, \"selectedmb\": self.selectednode.mb, \"maxdepth\": maxdepth, \n",
    "                          \"bestmoves_and_score_by_board\": self.bestmoves_and_score_by_board})\n",
    "    self.selectednode = self.mbtree.selectednode\n",
    "    self.mbtree.draw_subtree(centernode=self.mbtree.centernode, selectednode=self.selectednode,\n",
    "                            show_bestmove=True, show_score=self.show_score,\n",
    "                            ax=self.ax, maxdepth=maxdepth, size=self.size)\n",
    "    \n",
    "    disabled = self.selectednode.parent is None\n",
    "    self.set_button_status(self.left_button, disabled=disabled)\n",
    "    disabled = self.selectednode.depth >= 6 or len(self.selectednode.children) == 0\n",
    "    self.set_button_status(self.right_button, disabled=disabled)\n",
    "    disabled = self.selectednode.parent is None or self.selectednode.parent.children.index(self.selectednode) == 0\n",
    "    self.set_button_status(self.up_button, disabled=disabled)\n",
    "    disabled = self.selectednode.parent is None or self.selectednode.parent.children[-1] is self.selectednode\n",
    "    self.set_button_status(self.down_button, disabled=disabled)\n",
    "    self.set_button_color(self.score_button, value=self.show_score)\n",
    "    \n",
    "Mbtree_GUI.update_gui = update_gui"
   ]
  },
  {
   "cell_type": "code",
   "execution_count": 17,
   "metadata": {},
   "outputs": [
    {
     "data": {
      "application/vnd.jupyter.widget-view+json": {
       "model_id": "6ba4a844dfce436d863352ea2278748d",
       "version_major": 2,
       "version_minor": 0
      },
      "text/plain": [
       "VBox(children=(HBox(children=(Checkbox(value=False, description='乱数の種', indent=False, layout=Layout(width='100…"
      ]
     },
     "metadata": {},
     "output_type": "display_data"
    },
    {
     "data": {
      "application/vnd.jupyter.widget-view+json": {
       "model_id": "8bd79e16ae2b43fd90cc437cde4c6263",
       "version_major": 2,
       "version_minor": 0
      },
      "text/plain": [
       "VBox(children=(Output(layout=Layout(display='none')), HBox(children=(Label(value='', layout=Layout(width='50px…"
      ]
     },
     "metadata": {},
     "output_type": "display_data"
    }
   ],
   "source": [
    "gui_play()"
   ]
  }
 ],
 "metadata": {
  "kernelspec": {
   "display_name": "marubatsu",
   "language": "python",
   "name": "python3"
  },
  "language_info": {
   "codemirror_mode": {
    "name": "ipython",
    "version": 3
   },
   "file_extension": ".py",
   "mimetype": "text/x-python",
   "name": "python",
   "nbconvert_exporter": "python",
   "pygments_lexer": "ipython3",
   "version": "3.11.4"
  }
 },
 "nbformat": 4,
 "nbformat_minor": 2
}
