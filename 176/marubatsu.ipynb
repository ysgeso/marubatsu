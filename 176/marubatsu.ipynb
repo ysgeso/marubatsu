{
 "cells": [
  {
   "cell_type": "code",
   "execution_count": 1,
   "metadata": {},
   "outputs": [],
   "source": [
    "pdistA = {\n",
    "    -2: 0.05,\n",
    "    -1: 0.2,\n",
    "     0: 0.5,\n",
    "     1: 0.2,\n",
    "     2: 0.05\n",
    "}\n",
    "pdistB = {\n",
    "    -3: 0.05,\n",
    "    -2: 0.2,\n",
    "    -1: 0.5,\n",
    "     0: 0.2,\n",
    "     1: 0.05\n",
    "}"
   ]
  },
  {
   "cell_type": "code",
   "execution_count": 2,
   "metadata": {},
   "outputs": [
    {
     "name": "stdout",
     "output_type": "stream",
     "text": [
      "<itertools.product object at 0x0000019BF4620580>\n"
     ]
    }
   ],
   "source": [
    "from itertools import product\n",
    "\n",
    "prod = product([\"A\", \"B\", \"C\"], [1, 2])\n",
    "print(prod)"
   ]
  },
  {
   "cell_type": "code",
   "execution_count": 3,
   "metadata": {},
   "outputs": [
    {
     "name": "stdout",
     "output_type": "stream",
     "text": [
      "('A', 1)\n",
      "('A', 2)\n",
      "('B', 1)\n",
      "('B', 2)\n",
      "('C', 1)\n",
      "('C', 2)\n"
     ]
    }
   ],
   "source": [
    "for data in prod:\n",
    "    print(data)"
   ]
  },
  {
   "cell_type": "code",
   "execution_count": 4,
   "metadata": {},
   "outputs": [
    {
     "name": "stdout",
     "output_type": "stream",
     "text": [
      "[('A', 1), ('A', 2), ('B', 1), ('B', 2), ('C', 1), ('C', 2)]\n"
     ]
    }
   ],
   "source": [
    "print(list(product([\"A\", \"B\", \"C\"], [1, 2])))"
   ]
  },
  {
   "cell_type": "code",
   "execution_count": 5,
   "metadata": {},
   "outputs": [
    {
     "name": "stdout",
     "output_type": "stream",
     "text": [
      "[]\n"
     ]
    }
   ],
   "source": [
    "print(list(prod))"
   ]
  },
  {
   "cell_type": "code",
   "execution_count": 6,
   "metadata": {},
   "outputs": [
    {
     "name": "stdout",
     "output_type": "stream",
     "text": [
      "[(-2, -3),\n",
      " (-2, -2),\n",
      " (-2, -1),\n",
      " (-2, 0),\n",
      " (-2, 1),\n",
      " (-1, -3),\n",
      " (-1, -2),\n",
      " (-1, -1),\n",
      " (-1, 0),\n",
      " (-1, 1),\n",
      " (0, -3),\n",
      " (0, -2),\n",
      " (0, -1),\n",
      " (0, 0),\n",
      " (0, 1),\n",
      " (1, -3),\n",
      " (1, -2),\n",
      " (1, -1),\n",
      " (1, 0),\n",
      " (1, 1),\n",
      " (2, -3),\n",
      " (2, -2),\n",
      " (2, -1),\n",
      " (2, 0),\n",
      " (2, 1)]\n"
     ]
    }
   ],
   "source": [
    "from pprint import pprint\n",
    "\n",
    "pprint(list(product(pdistA, pdistB)))"
   ]
  },
  {
   "cell_type": "code",
   "execution_count": 7,
   "metadata": {},
   "outputs": [
    {
     "name": "stdout",
     "output_type": "stream",
     "text": [
      "[((-2, 0.05), (-3, 0.05)),\n",
      " ((-2, 0.05), (-2, 0.2)),\n",
      " ((-2, 0.05), (-1, 0.5)),\n",
      " ((-2, 0.05), (0, 0.2)),\n",
      " ((-2, 0.05), (1, 0.05)),\n",
      " ((-1, 0.2), (-3, 0.05)),\n",
      " ((-1, 0.2), (-2, 0.2)),\n",
      " ((-1, 0.2), (-1, 0.5)),\n",
      " ((-1, 0.2), (0, 0.2)),\n",
      " ((-1, 0.2), (1, 0.05)),\n",
      " ((0, 0.5), (-3, 0.05)),\n",
      " ((0, 0.5), (-2, 0.2)),\n",
      " ((0, 0.5), (-1, 0.5)),\n",
      " ((0, 0.5), (0, 0.2)),\n",
      " ((0, 0.5), (1, 0.05)),\n",
      " ((1, 0.2), (-3, 0.05)),\n",
      " ((1, 0.2), (-2, 0.2)),\n",
      " ((1, 0.2), (-1, 0.5)),\n",
      " ((1, 0.2), (0, 0.2)),\n",
      " ((1, 0.2), (1, 0.05)),\n",
      " ((2, 0.05), (-3, 0.05)),\n",
      " ((2, 0.05), (-2, 0.2)),\n",
      " ((2, 0.05), (-1, 0.5)),\n",
      " ((2, 0.05), (0, 0.2)),\n",
      " ((2, 0.05), (1, 0.05))]\n"
     ]
    }
   ],
   "source": [
    "pprint(list(product(pdistA.items(), pdistB.items())))"
   ]
  },
  {
   "cell_type": "code",
   "execution_count": 8,
   "metadata": {},
   "outputs": [],
   "source": [
    "from collections import defaultdict\n",
    "\n",
    "def calc_pdist(pdistA, pdistB):\n",
    "    result = defaultdict(int)\n",
    "    productdata = product(pdistA.items(), pdistB.items())\n",
    "    for ((scoreA, probA), (scoreB, probB)) in productdata:\n",
    "        score = max(scoreA, scoreB)\n",
    "        prob = probA * probB\n",
    "        result[score] += prob\n",
    "    return result "
   ]
  },
  {
   "cell_type": "code",
   "execution_count": 9,
   "metadata": {},
   "outputs": [
    {
     "name": "stdout",
     "output_type": "stream",
     "text": [
      "defaultdict(<class 'int'>,\n",
      "            {-2: 0.012500000000000002,\n",
      "             -1: 0.17500000000000002,\n",
      "             0: 0.525,\n",
      "             1: 0.23750000000000004,\n",
      "             2: 0.05000000000000001})\n"
     ]
    }
   ],
   "source": [
    "pprint(calc_pdist(pdistA, pdistB))"
   ]
  },
  {
   "cell_type": "code",
   "execution_count": 10,
   "metadata": {},
   "outputs": [
    {
     "name": "stdout",
     "output_type": "stream",
     "text": [
      "0.30000000000000004\n"
     ]
    }
   ],
   "source": [
    "print(0.1 * 3)"
   ]
  },
  {
   "cell_type": "code",
   "execution_count": 11,
   "metadata": {},
   "outputs": [],
   "source": [
    "def calc_stval(pdist):\n",
    "    e = 0\n",
    "    for s, p in pdist.items():\n",
    "        e += s * p\n",
    "    var = 0\n",
    "    for s, p in pdist.items():\n",
    "        var += ((s - e) ** 2) * p\n",
    "    std = var ** 0.5\n",
    "    return e, var, std"
   ]
  },
  {
   "cell_type": "code",
   "execution_count": 12,
   "metadata": {},
   "outputs": [
    {
     "name": "stdout",
     "output_type": "stream",
     "text": [
      "(-2.7755575615628914e-17, 0.8, 0.8944271909999159)\n",
      "(-1.0, 0.8, 0.8944271909999159)\n",
      "(0.13750000000000007, 0.6435937500000002, 0.8022429494860022)\n"
     ]
    }
   ],
   "source": [
    "print(calc_stval(pdistA))\n",
    "print(calc_stval(pdistB))\n",
    "print(calc_stval(calc_pdist(pdistA, pdistB)))"
   ]
  }
 ],
 "metadata": {
  "kernelspec": {
   "display_name": "marubatsu",
   "language": "python",
   "name": "python3"
  },
  "language_info": {
   "codemirror_mode": {
    "name": "ipython",
    "version": 3
   },
   "file_extension": ".py",
   "mimetype": "text/x-python",
   "name": "python",
   "nbconvert_exporter": "python",
   "pygments_lexer": "ipython3",
   "version": "3.11.4"
  }
 },
 "nbformat": 4,
 "nbformat_minor": 2
}
