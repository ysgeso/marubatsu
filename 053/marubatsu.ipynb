{
 "cells": [
  {
   "cell_type": "code",
   "execution_count": 1,
   "metadata": {},
   "outputs": [],
   "source": [
    "from marubatsu import Marubatsu\n",
    "\n",
    "def enum_markpats(self):\n",
    "    markpats = set()\n",
    " \n",
    "    # 横方向と縦方向の判定\n",
    "    for i in range(self.BOARD_SIZE):\n",
    "        count = self.count_marks(coord=[0, i], dx=1, dy=0)\n",
    "        markpats.add(count)\n",
    "        count = self.count_marks(coord=[i, 0], dx=0, dy=1)\n",
    "        markpats.add(count)\n",
    "    # 左上から右下方向の判定\n",
    "    count = self.count_marks(coord=[0, 0], dx=1, dy=1)\n",
    "    markpats.add(count)\n",
    "    # 右上から左下方向の判定\n",
    "    count = self.count_marks(coord=[2, 0], dx=-1, dy=1)\n",
    "    markpats.add(count)\n",
    "\n",
    "    return markpats\n",
    "\n",
    "Marubatsu.enum_markpats = enum_markpats"
   ]
  },
  {
   "cell_type": "code",
   "execution_count": 2,
   "metadata": {},
   "outputs": [
    {
     "name": "stdout",
     "output_type": "stream",
     "text": [
      "Turn o\n",
      "...\n",
      "...\n",
      "...\n",
      "\n"
     ]
    },
    {
     "ename": "TypeError",
     "evalue": "unhashable type: 'collections.defaultdict'",
     "output_type": "error",
     "traceback": [
      "\u001b[1;31m---------------------------------------------------------------------------\u001b[0m",
      "\u001b[1;31mTypeError\u001b[0m                                 Traceback (most recent call last)",
      "Cell \u001b[1;32mIn[2], line 6\u001b[0m\n\u001b[0;32m      3\u001b[0m mb \u001b[38;5;241m=\u001b[39m Marubatsu()\n\u001b[0;32m      5\u001b[0m \u001b[38;5;28mprint\u001b[39m(mb)\n\u001b[1;32m----> 6\u001b[0m pprint(mb\u001b[38;5;241m.\u001b[39menum_markpats())\n\u001b[0;32m      8\u001b[0m mb\u001b[38;5;241m.\u001b[39mmove(\u001b[38;5;241m1\u001b[39m, \u001b[38;5;241m1\u001b[39m)\n\u001b[0;32m      9\u001b[0m \u001b[38;5;28mprint\u001b[39m(mb)\n",
      "Cell \u001b[1;32mIn[1], line 9\u001b[0m, in \u001b[0;36menum_markpats\u001b[1;34m(self)\u001b[0m\n\u001b[0;32m      7\u001b[0m \u001b[38;5;28;01mfor\u001b[39;00m i \u001b[38;5;129;01min\u001b[39;00m \u001b[38;5;28mrange\u001b[39m(\u001b[38;5;28mself\u001b[39m\u001b[38;5;241m.\u001b[39mBOARD_SIZE):\n\u001b[0;32m      8\u001b[0m     count \u001b[38;5;241m=\u001b[39m \u001b[38;5;28mself\u001b[39m\u001b[38;5;241m.\u001b[39mcount_marks(coord\u001b[38;5;241m=\u001b[39m[\u001b[38;5;241m0\u001b[39m, i], dx\u001b[38;5;241m=\u001b[39m\u001b[38;5;241m1\u001b[39m, dy\u001b[38;5;241m=\u001b[39m\u001b[38;5;241m0\u001b[39m)\n\u001b[1;32m----> 9\u001b[0m     markpats\u001b[38;5;241m.\u001b[39madd(count)\n\u001b[0;32m     10\u001b[0m     count \u001b[38;5;241m=\u001b[39m \u001b[38;5;28mself\u001b[39m\u001b[38;5;241m.\u001b[39mcount_marks(coord\u001b[38;5;241m=\u001b[39m[i, \u001b[38;5;241m0\u001b[39m], dx\u001b[38;5;241m=\u001b[39m\u001b[38;5;241m0\u001b[39m, dy\u001b[38;5;241m=\u001b[39m\u001b[38;5;241m1\u001b[39m)\n\u001b[0;32m     11\u001b[0m     markpats\u001b[38;5;241m.\u001b[39madd(count)\n",
      "\u001b[1;31mTypeError\u001b[0m: unhashable type: 'collections.defaultdict'"
     ]
    }
   ],
   "source": [
    "from pprint import pprint\n",
    "\n",
    "mb = Marubatsu()\n",
    "\n",
    "print(mb)\n",
    "pprint(mb.enum_markpats())\n",
    "\n",
    "mb.move(1, 1)\n",
    "print(mb)\n",
    "pprint(mb.enum_markpats())\n",
    "\n",
    "mb.move(0, 0)\n",
    "print(mb)\n",
    "pprint(mb.enum_markpats())\n",
    "\n",
    "mb.move(1, 0)\n",
    "print(mb)\n",
    "pprint(mb.enum_markpats())"
   ]
  },
  {
   "cell_type": "code",
   "execution_count": 3,
   "metadata": {},
   "outputs": [],
   "source": [
    "from collections import defaultdict\n",
    "\n",
    "def count_marks(self, coord, dx, dy):     \n",
    "    x, y = coord   \n",
    "    count = defaultdict(int)\n",
    "    for _ in range(self.BOARD_SIZE):\n",
    "        count[self.board[x][y]] += 1\n",
    "        x += dx\n",
    "        y += dy\n",
    "\n",
    "    return count[Marubatsu.CIRCLE], count[Marubatsu.CROSS], count[Marubatsu.EMPTY]\n",
    "\n",
    "Marubatsu.count_marks = count_marks"
   ]
  },
  {
   "cell_type": "code",
   "execution_count": 4,
   "metadata": {},
   "outputs": [
    {
     "name": "stdout",
     "output_type": "stream",
     "text": [
      "Turn o\n",
      "...\n",
      "...\n",
      "...\n",
      "\n",
      "{(0, 0, 3)}\n",
      "Turn x\n",
      "...\n",
      ".O.\n",
      "...\n",
      "\n",
      "{(1, 0, 2), (0, 0, 3)}\n",
      "Turn o\n",
      "X..\n",
      ".o.\n",
      "...\n",
      "\n",
      "{(0, 1, 2), (1, 0, 2), (1, 1, 1), (0, 0, 3)}\n",
      "Turn x\n",
      "xO.\n",
      ".o.\n",
      "...\n",
      "\n",
      "{(0, 0, 3), (2, 0, 1), (0, 1, 2), (1, 0, 2), (1, 1, 1)}\n"
     ]
    }
   ],
   "source": [
    "mb = Marubatsu()\n",
    "\n",
    "print(mb)\n",
    "pprint(mb.enum_markpats())\n",
    "\n",
    "mb.move(1, 1)\n",
    "print(mb)\n",
    "pprint(mb.enum_markpats())\n",
    "\n",
    "mb.move(0, 0)\n",
    "print(mb)\n",
    "pprint(mb.enum_markpats())\n",
    "\n",
    "mb.move(1, 0)\n",
    "print(mb)\n",
    "pprint(mb.enum_markpats())"
   ]
  },
  {
   "cell_type": "code",
   "execution_count": 5,
   "metadata": {},
   "outputs": [
    {
     "name": "stdout",
     "output_type": "stream",
     "text": [
      "ai6s VS ai6s\n"
     ]
    },
    {
     "ename": "TypeError",
     "evalue": "tuple indices must be integers or slices, not str",
     "output_type": "error",
     "traceback": [
      "\u001b[1;31m---------------------------------------------------------------------------\u001b[0m",
      "\u001b[1;31mTypeError\u001b[0m                                 Traceback (most recent call last)",
      "Cell \u001b[1;32mIn[5], line 3\u001b[0m\n\u001b[0;32m      1\u001b[0m \u001b[38;5;28;01mfrom\u001b[39;00m \u001b[38;5;21;01mai\u001b[39;00m \u001b[38;5;28;01mimport\u001b[39;00m ai_match, ai2, ai6s, ai7s\n\u001b[1;32m----> 3\u001b[0m ai_match(ai\u001b[38;5;241m=\u001b[39m[ai6s, ai6s])\n",
      "File \u001b[1;32mc:\\Users\\ys\\ai\\marubatsu\\053\\ai.py:43\u001b[0m, in \u001b[0;36mai_match\u001b[1;34m(ai, match_num)\u001b[0m\n\u001b[0;32m     41\u001b[0m count_list \u001b[38;5;241m=\u001b[39m [ defaultdict(\u001b[38;5;28mint\u001b[39m), defaultdict(\u001b[38;5;28mint\u001b[39m)]\n\u001b[0;32m     42\u001b[0m \u001b[38;5;28;01mfor\u001b[39;00m _ \u001b[38;5;129;01min\u001b[39;00m \u001b[38;5;28mrange\u001b[39m(match_num):\n\u001b[1;32m---> 43\u001b[0m     count_list[\u001b[38;5;241m0\u001b[39m][mb\u001b[38;5;241m.\u001b[39mplay(ai, verbose\u001b[38;5;241m=\u001b[39m\u001b[38;5;28;01mFalse\u001b[39;00m)] \u001b[38;5;241m+\u001b[39m\u001b[38;5;241m=\u001b[39m \u001b[38;5;241m1\u001b[39m\n\u001b[0;32m     44\u001b[0m     count_list[\u001b[38;5;241m1\u001b[39m][mb\u001b[38;5;241m.\u001b[39mplay(ai\u001b[38;5;241m=\u001b[39m[ai[\u001b[38;5;241m1\u001b[39m], ai[\u001b[38;5;241m0\u001b[39m]], verbose\u001b[38;5;241m=\u001b[39m\u001b[38;5;28;01mFalse\u001b[39;00m)] \u001b[38;5;241m+\u001b[39m\u001b[38;5;241m=\u001b[39m \u001b[38;5;241m1\u001b[39m\n\u001b[0;32m     46\u001b[0m \u001b[38;5;66;03m# ai[0] から見た通算成績を計算する\u001b[39;00m\n",
      "File \u001b[1;32mc:\\Users\\ys\\ai\\marubatsu\\053\\marubatsu.py:265\u001b[0m, in \u001b[0;36mMarubatsu.play\u001b[1;34m(self, ai, verbose)\u001b[0m\n\u001b[0;32m    263\u001b[0m \u001b[38;5;66;03m# ai が着手を行うかどうかを判定する\u001b[39;00m\n\u001b[0;32m    264\u001b[0m \u001b[38;5;28;01mif\u001b[39;00m ai[index] \u001b[38;5;129;01mis\u001b[39;00m \u001b[38;5;129;01mnot\u001b[39;00m \u001b[38;5;28;01mNone\u001b[39;00m:\n\u001b[1;32m--> 265\u001b[0m     x, y \u001b[38;5;241m=\u001b[39m ai[index](\u001b[38;5;28mself\u001b[39m)\n\u001b[0;32m    266\u001b[0m \u001b[38;5;28;01melse\u001b[39;00m:\n\u001b[0;32m    267\u001b[0m     \u001b[38;5;66;03m# キーボードからの座標の入力\u001b[39;00m\n\u001b[0;32m    268\u001b[0m     coord \u001b[38;5;241m=\u001b[39m \u001b[38;5;28minput\u001b[39m(\u001b[38;5;124m\"\u001b[39m\u001b[38;5;124mx,y の形式で座標を入力して下さい。exit を入力すると終了します\u001b[39m\u001b[38;5;124m\"\u001b[39m)\n",
      "File \u001b[1;32mc:\\Users\\ys\\ai\\marubatsu\\053\\ai.py:461\u001b[0m, in \u001b[0;36mai6s\u001b[1;34m(mb, debug)\u001b[0m\n\u001b[0;32m    458\u001b[0m     \u001b[38;5;66;03m# それ以外の場合は評価値として 0 を返す\u001b[39;00m\n\u001b[0;32m    459\u001b[0m     \u001b[38;5;28;01mreturn\u001b[39;00m \u001b[38;5;241m0\u001b[39m\n\u001b[1;32m--> 461\u001b[0m \u001b[38;5;28;01mreturn\u001b[39;00m ai_by_score(mb, eval_func, debug\u001b[38;5;241m=\u001b[39mdebug)\n",
      "File \u001b[1;32mc:\\Users\\ys\\ai\\marubatsu\\053\\ai.py:131\u001b[0m, in \u001b[0;36mai_by_score\u001b[1;34m(mb_orig, eval_func, debug, rand)\u001b[0m\n\u001b[0;32m    128\u001b[0m mb\u001b[38;5;241m.\u001b[39mmove(x, y)\n\u001b[0;32m    129\u001b[0m dprint(debug, mb)\n\u001b[1;32m--> 131\u001b[0m score \u001b[38;5;241m=\u001b[39m eval_func(mb)\n\u001b[0;32m    132\u001b[0m dprint(debug, \u001b[38;5;124m\"\u001b[39m\u001b[38;5;124mscore\u001b[39m\u001b[38;5;124m\"\u001b[39m, score, \u001b[38;5;124m\"\u001b[39m\u001b[38;5;124mbest score\u001b[39m\u001b[38;5;124m\"\u001b[39m, best_score)\n\u001b[0;32m    134\u001b[0m \u001b[38;5;28;01mif\u001b[39;00m best_score \u001b[38;5;241m<\u001b[39m score:\n",
      "File \u001b[1;32mc:\\Users\\ys\\ai\\marubatsu\\053\\ai.py:444\u001b[0m, in \u001b[0;36mai6s.<locals>.eval_func\u001b[1;34m(mb)\u001b[0m\n\u001b[0;32m    442\u001b[0m \u001b[38;5;28;01mfor\u001b[39;00m i \u001b[38;5;129;01min\u001b[39;00m \u001b[38;5;28mrange\u001b[39m(mb\u001b[38;5;241m.\u001b[39mBOARD_SIZE):\n\u001b[0;32m    443\u001b[0m     count \u001b[38;5;241m=\u001b[39m mb\u001b[38;5;241m.\u001b[39mcount_marks(coord\u001b[38;5;241m=\u001b[39m[\u001b[38;5;241m0\u001b[39m, i], dx\u001b[38;5;241m=\u001b[39m\u001b[38;5;241m1\u001b[39m, dy\u001b[38;5;241m=\u001b[39m\u001b[38;5;241m0\u001b[39m)\n\u001b[1;32m--> 444\u001b[0m     \u001b[38;5;28;01mif\u001b[39;00m count[mb\u001b[38;5;241m.\u001b[39mturn] \u001b[38;5;241m==\u001b[39m \u001b[38;5;241m2\u001b[39m \u001b[38;5;129;01mand\u001b[39;00m count[Marubatsu\u001b[38;5;241m.\u001b[39mEMPTY] \u001b[38;5;241m==\u001b[39m \u001b[38;5;241m1\u001b[39m:\n\u001b[0;32m    445\u001b[0m         \u001b[38;5;28;01mreturn\u001b[39;00m \u001b[38;5;241m-\u001b[39m\u001b[38;5;241m1\u001b[39m\n\u001b[0;32m    446\u001b[0m     count \u001b[38;5;241m=\u001b[39m mb\u001b[38;5;241m.\u001b[39mcount_marks(coord\u001b[38;5;241m=\u001b[39m[i, \u001b[38;5;241m0\u001b[39m], dx\u001b[38;5;241m=\u001b[39m\u001b[38;5;241m0\u001b[39m, dy\u001b[38;5;241m=\u001b[39m\u001b[38;5;241m1\u001b[39m)\n",
      "\u001b[1;31mTypeError\u001b[0m: tuple indices must be integers or slices, not str"
     ]
    }
   ],
   "source": [
    "from ai import ai_match, ai2, ai6s, ai7s\n",
    "\n",
    "ai_match(ai=[ai6s, ai6s])"
   ]
  },
  {
   "cell_type": "code",
   "execution_count": 6,
   "metadata": {},
   "outputs": [],
   "source": [
    "def count_marks(self, coord, dx, dy, datatype=\"dict\"):     \n",
    "    x, y = coord   \n",
    "    count = defaultdict(int)\n",
    "    for _ in range(self.BOARD_SIZE):\n",
    "        count[self.board[x][y]] += 1\n",
    "        x += dx\n",
    "        y += dy\n",
    "\n",
    "    if datatype == \"dict\":\n",
    "        return count\n",
    "    else:\n",
    "        return count[Marubatsu.CIRCLE], count[Marubatsu.CROSS], count[Marubatsu.EMPTY]\n",
    "\n",
    "Marubatsu.count_marks = count_marks"
   ]
  },
  {
   "cell_type": "code",
   "execution_count": 7,
   "metadata": {},
   "outputs": [
    {
     "name": "stdout",
     "output_type": "stream",
     "text": [
      "ai6s VS ai6s\n"
     ]
    }
   ],
   "source": [
    "ai_match(ai=[ai6s, ai6s])"
   ]
  },
  {
   "cell_type": "code",
   "execution_count": null,
   "metadata": {},
   "outputs": [],
   "source": [
    "def enum_markpats(self):\n",
    "    markpats = set()\n",
    " \n",
    "    # 横方向と縦方向の判定\n",
    "    for i in range(self.BOARD_SIZE):\n",
    "        count = self.count_marks(coord=[0, i], dx=1, dy=0, datatype=\"tuple\")\n",
    "        markpats.add(count)\n",
    "        count = self.count_marks(coord=[i, 0], dx=0, dy=1, datatype=\"tuple\")\n",
    "        markpats.add(count)\n",
    "    # 左上から右下方向の判定\n",
    "    count = self.count_marks(coord=[0, 0], dx=1, dy=1, datatype=\"tuple\")\n",
    "    markpats.add(count)\n",
    "    # 右上から左下方向の判定\n",
    "    count = self.count_marks(coord=[2, 0], dx=-1, dy=1, datatype=\"tuple\")\n",
    "    markpats.add(count)\n",
    "\n",
    "    return markpats\n",
    "\n",
    "Marubatsu.enum_markpats = enum_markpats"
   ]
  },
  {
   "cell_type": "code",
   "execution_count": null,
   "metadata": {},
   "outputs": [
    {
     "name": "stdout",
     "output_type": "stream",
     "text": [
      "Turn o\n",
      "...\n",
      "...\n",
      "...\n",
      "\n",
      "{(0, 0, 3)}\n",
      "Turn x\n",
      "...\n",
      ".O.\n",
      "...\n",
      "\n",
      "{(1, 0, 2), (0, 0, 3)}\n",
      "Turn o\n",
      "X..\n",
      ".o.\n",
      "...\n",
      "\n",
      "{(0, 1, 2), (1, 0, 2), (1, 1, 1), (0, 0, 3)}\n",
      "Turn x\n",
      "xO.\n",
      ".o.\n",
      "...\n",
      "\n",
      "{(0, 0, 3), (2, 0, 1), (0, 1, 2), (1, 0, 2), (1, 1, 1)}\n"
     ]
    }
   ],
   "source": [
    "mb = Marubatsu()\n",
    "\n",
    "print(mb)\n",
    "pprint(mb.enum_markpats())\n",
    "\n",
    "mb.move(1, 1)\n",
    "print(mb)\n",
    "pprint(mb.enum_markpats())\n",
    "\n",
    "mb.move(0, 0)\n",
    "print(mb)\n",
    "pprint(mb.enum_markpats())\n",
    "\n",
    "mb.move(1, 0)\n",
    "print(mb)\n",
    "pprint(mb.enum_markpats())"
   ]
  },
  {
   "cell_type": "code",
   "execution_count": null,
   "metadata": {},
   "outputs": [],
   "source": [
    "from ai import ai_by_score\n",
    "\n",
    "def ai8s(mb, debug=False):\n",
    "    def eval_func(mb):\n",
    "        # 真ん中のマスに着手している場合は、評価値として 2 を返す\n",
    "        if mb.last_move == (1, 1):\n",
    "            return 3\n",
    "    \n",
    "        # 自分が勝利している場合は、評価値として 1 を返す\n",
    "        if mb.status == mb.last_turn:\n",
    "            return 2\n",
    "\n",
    "        markpats = mb.enum_markpats()\n",
    "        # 相手が勝利できる場合は評価値として -1 を返す\n",
    "        if (mb.turn == Marubatsu.CROSS and (0, 2, 1) in markpats) or \\\n",
    "           (mb.turn == Marubatsu.CIRCLE and (2, 0, 1) in markpats):\n",
    "            return -1\n",
    "        # 次の自分の手番で自分が勝利できる場合は評価値として 1 を返す\n",
    "        elif (mb.turn == Marubatsu.CROSS and (2, 0, 1) in markpats) or \\\n",
    "           (mb.turn == Marubatsu.CIRCLE and (0, 2, 1) in markpats):\n",
    "            return 1\n",
    "        # それ以外の場合は評価値として 0 を返す\n",
    "        else:\n",
    "            return 0\n",
    "\n",
    "    return ai_by_score(mb, eval_func, debug=debug) "
   ]
  },
  {
   "cell_type": "code",
   "execution_count": null,
   "metadata": {},
   "outputs": [
    {
     "name": "stdout",
     "output_type": "stream",
     "text": [
      "ai8s VS ai2\n",
      "count     win    lose    draw\n",
      "o        9858       8     134\n",
      "x        8910     229     861\n",
      "total   18768     237     995\n",
      "\n",
      "ratio     win    lose    draw\n",
      "o       98.6%    0.1%    1.3%\n",
      "x       89.1%    2.3%    8.6%\n",
      "total   93.8%    1.2%    5.0%\n",
      "\n"
     ]
    }
   ],
   "source": [
    "ai_match(ai=[ai8s, ai2])"
   ]
  },
  {
   "cell_type": "code",
   "execution_count": null,
   "metadata": {},
   "outputs": [
    {
     "name": "stdout",
     "output_type": "stream",
     "text": [
      "ai8s VS ai7s\n",
      "count     win    lose    draw\n",
      "o        3292     399    6309\n",
      "x         374    2902    6724\n",
      "total    3666    3301   13033\n",
      "\n",
      "ratio     win    lose    draw\n",
      "o       32.9%    4.0%   63.1%\n",
      "x        3.7%   29.0%   67.2%\n",
      "total   18.3%   16.5%   65.2%\n",
      "\n"
     ]
    }
   ],
   "source": [
    "ai_match(ai=[ai8s, ai7s])"
   ]
  },
  {
   "cell_type": "code",
   "execution_count": null,
   "metadata": {},
   "outputs": [],
   "source": [
    "def count_marks(self, coord, dx, dy, datatype=\"dict\"):     \n",
    "    x, y = coord   \n",
    "    count = defaultdict(int)\n",
    "    for _ in range(self.BOARD_SIZE):\n",
    "        count[self.board[x][y]] += 1\n",
    "        x += dx\n",
    "        y += dy\n",
    "\n",
    "    if datatype == \"dict\":\n",
    "        return count\n",
    "    else:\n",
    "        return count[self.last_turn], count[self.turn], count[Marubatsu.EMPTY]\n",
    "\n",
    "Marubatsu.count_marks = count_marks"
   ]
  },
  {
   "cell_type": "code",
   "execution_count": null,
   "metadata": {},
   "outputs": [],
   "source": [
    "def ai8s(mb, debug=False):\n",
    "    def eval_func(mb):\n",
    "        # 真ん中のマスに着手している場合は、評価値として 2 を返す\n",
    "        if mb.last_move == (1, 1):\n",
    "            return 3\n",
    "    \n",
    "        # 自分が勝利している場合は、評価値として 1 を返す\n",
    "        if mb.status == mb.last_turn:\n",
    "            return 2\n",
    "\n",
    "        markpats = mb.enum_markpats()\n",
    "        # 相手が勝利できる場合は評価値として -1 を返す\n",
    "        if (0, 2, 1) in markpats:\n",
    "            return -1\n",
    "        # 次の自分の手番で自分が勝利できる場合は評価値として 1 を返す\n",
    "        elif (2, 0, 1) in markpats:\n",
    "            return 1\n",
    "        # それ以外の場合は評価値として 0 を返す\n",
    "        else:\n",
    "            return 0\n",
    "\n",
    "    return ai_by_score(mb, eval_func, debug=debug) "
   ]
  },
  {
   "cell_type": "code",
   "execution_count": null,
   "metadata": {},
   "outputs": [
    {
     "ename": "NameError",
     "evalue": "name 'ai_match' is not defined",
     "output_type": "error",
     "traceback": [
      "\u001b[1;31m---------------------------------------------------------------------------\u001b[0m",
      "\u001b[1;31mNameError\u001b[0m                                 Traceback (most recent call last)",
      "Cell \u001b[1;32mIn[2], line 1\u001b[0m\n\u001b[1;32m----> 1\u001b[0m ai_match(ai\u001b[38;5;241m=\u001b[39m[ai8s, ai2])\n",
      "\u001b[1;31mNameError\u001b[0m: name 'ai_match' is not defined"
     ]
    }
   ],
   "source": [
    "ai_match(ai=[ai8s, ai2])"
   ]
  },
  {
   "cell_type": "code",
   "execution_count": null,
   "metadata": {},
   "outputs": [
    {
     "name": "stdout",
     "output_type": "stream",
     "text": [
      "ai8s VS ai7s\n",
      "count     win    lose    draw\n",
      "o        3004     425    6571\n",
      "x         415    2990    6595\n",
      "total    3419    3415   13166\n",
      "\n",
      "ratio     win    lose    draw\n",
      "o       30.0%    4.2%   65.7%\n",
      "x        4.2%   29.9%   66.0%\n",
      "total   17.1%   17.1%   65.8%\n",
      "\n"
     ]
    }
   ],
   "source": [
    "ai_match(ai=[ai8s, ai7s])"
   ]
  }
 ],
 "metadata": {
  "kernelspec": {
   "display_name": "marubatsu",
   "language": "python",
   "name": "python3"
  },
  "language_info": {
   "codemirror_mode": {
    "name": "ipython",
    "version": 3
   },
   "file_extension": ".py",
   "mimetype": "text/x-python",
   "name": "python",
   "nbconvert_exporter": "python",
   "pygments_lexer": "ipython3",
   "version": "3.11.4"
  }
 },
 "nbformat": 4,
 "nbformat_minor": 2
}
