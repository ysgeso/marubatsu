{
 "cells": [
  {
   "cell_type": "code",
   "execution_count": 1,
   "metadata": {},
   "outputs": [],
   "source": [
    "from ai import dprint\n",
    "from copy import deepcopy\n",
    "from random import choice\n",
    "\n",
    "def ai_by_score(mb_orig, eval_func, debug=False, rand=True, candidate=False):   \n",
    "    dprint(debug, \"Start ai_by_score\")\n",
    "    dprint(debug, mb_orig)\n",
    "    legal_moves = mb_orig.calc_legal_moves()\n",
    "    dprint(debug, \"legal_moves\", legal_moves)\n",
    "    best_score = float(\"-inf\")\n",
    "    best_moves = []\n",
    "    for move in legal_moves:\n",
    "        dprint(debug, \"=\" * 20)\n",
    "        dprint(debug, \"move\", move)\n",
    "        mb = deepcopy(mb_orig)\n",
    "        x, y = move\n",
    "        mb.move(x, y)\n",
    "        dprint(debug, mb)\n",
    "        \n",
    "        score = eval_func(mb)\n",
    "        dprint(debug, \"score\", score, \"best score\", best_score)\n",
    "        \n",
    "        if best_score < score:\n",
    "            best_score = score\n",
    "            best_moves = [move]\n",
    "            dprint(debug, \"UPDATE\")\n",
    "            dprint(debug, \"  best score\", best_score)\n",
    "            dprint(debug, \"  best moves\", best_moves)\n",
    "        elif best_score == score:\n",
    "            best_moves.append(move)\n",
    "            dprint(debug, \"APPEND\")\n",
    "            dprint(debug, \"  best moves\", best_moves)\n",
    "\n",
    "    dprint(debug, \"=\" * 20)\n",
    "    dprint(debug, \"Finished\")\n",
    "    dprint(debug, \"best score\", best_score)\n",
    "    dprint(debug, \"best moves\", best_moves)\n",
    "    if candidate:\n",
    "        return best_moves\n",
    "    elif rand:   \n",
    "        return choice(best_moves)\n",
    "    else:\n",
    "        return best_moves[0]"
   ]
  },
  {
   "cell_type": "code",
   "execution_count": 2,
   "metadata": {},
   "outputs": [],
   "source": [
    "def ai2s(mb, debug=False, candidate=False):\n",
    "    def eval_func(mb):\n",
    "        return 0\n",
    "        \n",
    "    return ai_by_score(mb, eval_func, debug=debug, candidate=candidate)"
   ]
  },
  {
   "cell_type": "code",
   "execution_count": 3,
   "metadata": {},
   "outputs": [
    {
     "data": {
      "text/plain": [
       "[(0, 0), (1, 0), (2, 0), (0, 1), (1, 1), (2, 1), (0, 2), (1, 2), (2, 2)]"
      ]
     },
     "execution_count": 3,
     "metadata": {},
     "output_type": "execute_result"
    }
   ],
   "source": [
    "from marubatsu import Marubatsu\n",
    "\n",
    "mb = Marubatsu()\n",
    "ai2s(mb, candidate=True)\n"
   ]
  },
  {
   "cell_type": "code",
   "execution_count": 4,
   "metadata": {},
   "outputs": [],
   "source": [
    "from marubatsu import Markpat\n",
    "\n",
    "def ai14s(mb, score_victory=300, score_sure_victory=200, score_defeat=-100, score_special=100, \\\n",
    "          score_201=2, score_102=0.5, score_012=-1, debug=False, candidate=False):       \n",
    "    def eval_func(mb):         \n",
    "        # 評価値の合計を計算する変数を 0 で初期化する\n",
    "        score = 0        \n",
    "\n",
    "        # 自分が勝利している場合\n",
    "        if mb.status == mb.last_turn:\n",
    "            return score_victory\n",
    "\n",
    "        markpats = mb.count_markpats()\n",
    "        if debug:\n",
    "            pprint(markpats)\n",
    "        # 相手が勝利できる場合は評価値を加算する\n",
    "        if markpats[Markpat(last_turn=0, turn=2, empty=1)] > 0:\n",
    "            score = score_defeat * markpats[Markpat(last_turn=0, turn=2, empty=1)]\n",
    "        # 次の自分の手番で自分が必ず勝利できる場合\n",
    "        elif markpats[Markpat(last_turn=2, turn=0, empty=1)] >= 2:\n",
    "            return score_sure_victory\n",
    "        \n",
    "        # 斜め方向に 〇×〇 が並び、いずれかの辺の 1 つのマスのみに × が配置されている場合\n",
    "        if mb.board[1][1] == Marubatsu.CROSS and \\\n",
    "           (mb.board[0][0] == mb.board[2][2] == Marubatsu.CIRCLE or \\\n",
    "            mb.board[2][0] == mb.board[0][2] == Marubatsu.CIRCLE) and \\\n",
    "           (mb.board[1][0] == Marubatsu.CROSS or \\\n",
    "            mb.board[0][1] == Marubatsu.CROSS or \\\n",
    "            mb.board[2][1] == Marubatsu.CROSS or \\\n",
    "            mb.board[1][2] == Marubatsu.CROSS) and \\\n",
    "           mb.move_count == 4:\n",
    "            return score_special    \n",
    "\n",
    "        # 次の自分の手番で自分が勝利できる場合は評価値に score_201 を加算する\n",
    "        if markpats[Markpat(last_turn=2, turn=0, empty=1)] == 1:\n",
    "            score += score_201\n",
    "        # 「自 1 敵 0 空 2」1 つあたり score_102 だけ、評価値を加算する\n",
    "        score += markpats[Markpat(last_turn=1, turn=0, empty=2)] * score_102\n",
    "        # 「自 0 敵 1 空 2」1 つあたり score_201 だけ、評価値を減算する\n",
    "        score += markpats[Markpat(last_turn=0, turn=1, empty=2)] * score_012\n",
    "        \n",
    "        # 計算した評価値を返す\n",
    "        return score\n",
    "\n",
    "    return ai_by_score(mb, eval_func, debug=debug, candidate=candidate)"
   ]
  },
  {
   "cell_type": "code",
   "execution_count": 5,
   "metadata": {},
   "outputs": [
    {
     "data": {
      "text/plain": [
       "[(0, 0), (2, 0), (0, 2), (2, 2)]"
      ]
     },
     "execution_count": 5,
     "metadata": {},
     "output_type": "execute_result"
    }
   ],
   "source": [
    "mb.move(1, 1)\n",
    "ai14s(mb, candidate=True)"
   ]
  },
  {
   "cell_type": "code",
   "execution_count": 6,
   "metadata": {},
   "outputs": [],
   "source": [
    "import pickle\n",
    "import gzip\n",
    "\n",
    "def load_bestmoves(fname=\"../data/bestmoves.dat\"):\n",
    "    with gzip.open(fname, \"rb\") as f:\n",
    "        return pickle.load(f)"
   ]
  },
  {
   "cell_type": "code",
   "execution_count": 7,
   "metadata": {},
   "outputs": [],
   "source": [
    "bestmoves = load_bestmoves()"
   ]
  },
  {
   "cell_type": "code",
   "execution_count": 8,
   "metadata": {},
   "outputs": [
    {
     "name": "stdout",
     "output_type": "stream",
     "text": [
      "Turn x\n",
      "...\n",
      ".O.\n",
      "...\n",
      "\n"
     ]
    }
   ],
   "source": [
    "print(mb)"
   ]
  },
  {
   "cell_type": "code",
   "execution_count": 9,
   "metadata": {},
   "outputs": [
    {
     "name": "stdout",
     "output_type": "stream",
     "text": [
      "[(0, 0), (2, 0), (0, 2), (2, 2)]\n"
     ]
    }
   ],
   "source": [
    "bestmove = bestmoves[tuple(mb.records)]\n",
    "print(bestmove)"
   ]
  },
  {
   "cell_type": "code",
   "execution_count": 10,
   "metadata": {},
   "outputs": [
    {
     "name": "stdout",
     "output_type": "stream",
     "text": [
      "[(0, 0), (1, 0), (2, 0), (0, 1), (2, 1), (0, 2), (1, 2), (2, 2)]\n",
      "[(0, 0), (2, 0), (0, 2), (2, 2)]\n"
     ]
    }
   ],
   "source": [
    "moves_ai2s = ai2s(mb, candidate=True)\n",
    "moves_ai14s = ai14s(mb, candidate=True)\n",
    "print(moves_ai2s)\n",
    "print(moves_ai14s)"
   ]
  },
  {
   "cell_type": "code",
   "execution_count": 11,
   "metadata": {},
   "outputs": [
    {
     "name": "stdout",
     "output_type": "stream",
     "text": [
      "{(0, 1), (1, 2), (2, 1), (0, 0), (2, 0), (0, 2), (2, 2), (1, 0)}\n"
     ]
    }
   ],
   "source": [
    "print(set(moves_ai2s))"
   ]
  },
  {
   "cell_type": "code",
   "execution_count": 12,
   "metadata": {},
   "outputs": [
    {
     "name": "stdout",
     "output_type": "stream",
     "text": [
      "False\n",
      "True\n"
     ]
    }
   ],
   "source": [
    "print(set(moves_ai2s) <= set(bestmove))\n",
    "print(set(moves_ai14s) <= set(bestmove))"
   ]
  },
  {
   "cell_type": "code",
   "execution_count": 16,
   "metadata": {},
   "outputs": [
    {
     "name": "stdout",
     "output_type": "stream",
     "text": [
      "True\n",
      "False\n"
     ]
    }
   ],
   "source": [
    "print(set(moves_ai2s) > set(bestmove))\n",
    "print(set(moves_ai14s) > set(bestmove))"
   ]
  },
  {
   "cell_type": "code",
   "execution_count": 13,
   "metadata": {},
   "outputs": [],
   "source": [
    "from tree import Mbtree\n",
    "\n",
    "mbtree = Mbtree.load(\"../data/aidata\")\n",
    "mblist = []\n",
    "for node in mbtree.nodelist:\n",
    "    if node.mb.status == Marubatsu.PLAYING:\n",
    "        mblist.append(node.mb)"
   ]
  },
  {
   "cell_type": "code",
   "execution_count": 14,
   "metadata": {},
   "outputs": [],
   "source": [
    "with gzip.open(\"../data/mblist.dat\", \"wb\") as f:\n",
    "    pickle.dump(mblist, f)"
   ]
  },
  {
   "cell_type": "code",
   "execution_count": 15,
   "metadata": {},
   "outputs": [],
   "source": [
    "def load_mblist(fname=\"../data/mblist.dat\"):\n",
    "    with gzip.open(fname, \"rb\") as f:\n",
    "        return pickle.load(f)"
   ]
  },
  {
   "cell_type": "code",
   "execution_count": 17,
   "metadata": {},
   "outputs": [],
   "source": [
    "from tqdm import tqdm\n",
    "\n",
    "def is_strongly_solved(ai):\n",
    "    bestmoves = load_bestmoves()\n",
    "    mblist = load_mblist()\n",
    "    for mb in tqdm(mblist):\n",
    "        if set(ai(mb, candidate=True)) > set(bestmoves[tuple(mb.records)]):\n",
    "            return False\n",
    "    return True"
   ]
  },
  {
   "cell_type": "code",
   "execution_count": 18,
   "metadata": {},
   "outputs": [
    {
     "name": "stderr",
     "output_type": "stream",
     "text": [
      "  0%|          | 1/294778 [00:00<?, ?it/s]\n"
     ]
    },
    {
     "data": {
      "text/plain": [
       "False"
      ]
     },
     "execution_count": 18,
     "metadata": {},
     "output_type": "execute_result"
    }
   ],
   "source": [
    "is_strongly_solved(ai2s)"
   ]
  },
  {
   "cell_type": "code",
   "execution_count": 19,
   "metadata": {},
   "outputs": [
    {
     "name": "stderr",
     "output_type": "stream",
     "text": [
      "100%|██████████| 294778/294778 [00:53<00:00, 5487.84it/s]\n"
     ]
    },
    {
     "data": {
      "text/plain": [
       "True"
      ]
     },
     "execution_count": 19,
     "metadata": {},
     "output_type": "execute_result"
    }
   ],
   "source": [
    "is_strongly_solved(ai14s)"
   ]
  },
  {
   "cell_type": "code",
   "execution_count": 20,
   "metadata": {},
   "outputs": [],
   "source": [
    "class Check_solved:\n",
    "    bestmoves = load_bestmoves()\n",
    "    mblist = load_mblist()\n",
    "    \n",
    "    @staticmethod\n",
    "    def is_strongly_solved(ai):\n",
    "        for mb in tqdm(Check_solved.mblist):\n",
    "            if set(ai(mb, candidate=True)) > set(Check_solved.bestmoves[tuple(mb.records)]):\n",
    "                return False\n",
    "        return True"
   ]
  },
  {
   "cell_type": "code",
   "execution_count": 21,
   "metadata": {},
   "outputs": [
    {
     "name": "stderr",
     "output_type": "stream",
     "text": [
      "100%|██████████| 294778/294778 [00:53<00:00, 5468.21it/s]\n"
     ]
    },
    {
     "data": {
      "text/plain": [
       "True"
      ]
     },
     "execution_count": 21,
     "metadata": {},
     "output_type": "execute_result"
    }
   ],
   "source": [
    "Check_solved.is_strongly_solved(ai14s)"
   ]
  },
  {
   "cell_type": "code",
   "execution_count": 22,
   "metadata": {},
   "outputs": [],
   "source": [
    "@staticmethod\n",
    "def is_strongly_solved(ai):\n",
    "    count = 0\n",
    "    for mb in tqdm(Check_solved.mblist):\n",
    "        if set(ai(mb, candidate=True)) <= set(Check_solved.bestmoves[tuple(mb.records)]):\n",
    "            count += 1\n",
    "    nodenum = len(Check_solved.mblist)\n",
    "    print(f\"{count}/{nodenum} {count/nodenum*100:.2f}%\")\n",
    "    return count == nodenum\n",
    "\n",
    "Check_solved.is_strongly_solved = is_strongly_solved"
   ]
  },
  {
   "cell_type": "code",
   "execution_count": 23,
   "metadata": {},
   "outputs": [
    {
     "name": "stderr",
     "output_type": "stream",
     "text": [
      "100%|██████████| 294778/294778 [00:43<00:00, 6851.92it/s]"
     ]
    },
    {
     "name": "stdout",
     "output_type": "stream",
     "text": [
      "173985/294778 59.02%\n"
     ]
    },
    {
     "name": "stderr",
     "output_type": "stream",
     "text": [
      "\n"
     ]
    },
    {
     "data": {
      "text/plain": [
       "False"
      ]
     },
     "execution_count": 23,
     "metadata": {},
     "output_type": "execute_result"
    }
   ],
   "source": [
    "Check_solved.is_strongly_solved(ai2s)"
   ]
  }
 ],
 "metadata": {
  "kernelspec": {
   "display_name": "marubatsu",
   "language": "python",
   "name": "python3"
  },
  "language_info": {
   "codemirror_mode": {
    "name": "ipython",
    "version": 3
   },
   "file_extension": ".py",
   "mimetype": "text/x-python",
   "name": "python",
   "nbconvert_exporter": "python",
   "pygments_lexer": "ipython3",
   "version": "3.11.4"
  }
 },
 "nbformat": 4,
 "nbformat_minor": 2
}
