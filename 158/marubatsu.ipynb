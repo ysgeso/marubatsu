{
 "cells": [
  {
   "cell_type": "code",
   "execution_count": 1,
   "metadata": {},
   "outputs": [],
   "source": [
    "from tree import Mbtree_Anim\n",
    "\n",
    "def __init__(self, mbtree, isscore, size=0.15):\n",
    "    self.mbtree = mbtree\n",
    "    self.mbtree.calculated_by_calc_score_for_anim = \\\n",
    "                getattr(self.mbtree, \"calculated_by_calc_score_for_anim\", False)\n",
    "    self.isscore = isscore\n",
    "    self.size = size\n",
    "    self.width = 50\n",
    "    self.height = 65\n",
    "    self.nodelist = self.mbtree.nodelist_by_score if isscore else self.mbtree.nodelist \n",
    "    self.nodenum = len(self.nodelist)\n",
    "    self.prev_frame = 0\n",
    "    super(Mbtree_Anim, self).__init__()\n",
    "    \n",
    "Mbtree_Anim.__init__ = __init__"
   ]
  },
  {
   "cell_type": "code",
   "execution_count": 2,
   "metadata": {},
   "outputs": [],
   "source": [
    "def create_event_handler(self):\n",
    "    def on_play_changed(changed):\n",
    "        self.prev_frame = changed.old\n",
    "        self.update_gui()\n",
    "            \n",
    "    def on_prev_button_clicked(b=None):\n",
    "        self.play.value -= 1\n",
    "        self.update_gui()\n",
    "        \n",
    "    def on_next_button_clicked(b=None):\n",
    "        self.play.value += 1\n",
    "        self.update_gui()\n",
    "\n",
    "    self.prev_button.on_click(on_prev_button_clicked)\n",
    "    self.next_button.on_click(on_next_button_clicked)\n",
    "\n",
    "    self.play.observe(on_play_changed, names=\"value\")\n",
    "    \n",
    "    def change_frame(edge_status, diff, status_list):\n",
    "        frame = self.play.value\n",
    "        selectednode = self.mbtree.nodelist_by_score[frame]\n",
    "        if self.mbtree.calculated_by_calc_score_for_anim:\n",
    "            selectedstatus = self.mbtree.ablist_by_score[frame][\"status\"]\n",
    "        else:\n",
    "            selectedstatus = self.mbtree.ablist_by_score[frame][3]\n",
    "        if selectedstatus == edge_status:\n",
    "            return\n",
    "        while True:\n",
    "            frame += diff\n",
    "            node = self.mbtree.nodelist_by_score[frame]\n",
    "            if self.mbtree.calculated_by_calc_score_for_anim:\n",
    "                status = self.mbtree.ablist_by_score[frame][\"status\"]\n",
    "            else:\n",
    "                status = self.mbtree.ablist_by_score[frame][3]\n",
    "            if node == selectednode and status in status_list:\n",
    "                break\n",
    "        self.play.value = frame\n",
    "        self.update_gui()\n",
    "            \n",
    "    def on_node_first_button_clicked(b=None):\n",
    "        change_frame(\"start\", -1, [\"start\"])\n",
    "            \n",
    "    def on_node_prev_button_clicked(b=None):\n",
    "        if self.mbtree.calculated_by_calc_score_for_anim:\n",
    "            change_frame(\"start\", -1, [\"start\", \"score\", \"tt\"])\n",
    "        else:\n",
    "            change_frame(\"start\", -1, [\"start\", \"score\"])\n",
    "\n",
    "    def on_node_next_button_clicked(b=None):\n",
    "        if self.mbtree.calculated_by_calc_score_for_anim:\n",
    "            change_frame(\"end\", 1, [\"end\", \"score\", \"tt\"])\n",
    "        else:\n",
    "            change_frame(\"end\", 1, [\"end\", \"score\"])\n",
    "        \n",
    "    def on_node_last_button_clicked(b=None):\n",
    "        change_frame(\"end\", 1, [\"end\"])\n",
    "    \n",
    "    if self.abfig is not None:\n",
    "        self.node_first_button.on_click(on_node_first_button_clicked)\n",
    "        self.node_prev_button.on_click(on_node_prev_button_clicked)\n",
    "        self.node_next_button.on_click(on_node_next_button_clicked)\n",
    "        self.node_last_button.on_click(on_node_last_button_clicked)\n",
    "\n",
    "Mbtree_Anim.create_event_handler = create_event_handler"
   ]
  },
  {
   "cell_type": "code",
   "execution_count": 3,
   "metadata": {},
   "outputs": [],
   "source": [
    "def update_gui(self):\n",
    "    self.ax.clear()\n",
    "    self.ax.set_xlim(-1, self.width - 1)\n",
    "    self.ax.set_ylim(-1, self.height - 1)   \n",
    "    self.ax.invert_yaxis()\n",
    "    self.ax.axis(\"off\")   \n",
    "    \n",
    "    self.selectednode = self.nodelist[self.play.value]\n",
    "    self.centernode = self.selectednode\n",
    "    if self.mbtree.algo == \"bf\":\n",
    "        if self.centernode.depth > 0:\n",
    "            self.centernode = self.centernode.parent\n",
    "    while self.centernode.depth > 6:\n",
    "        self.centernode = self.centernode.parent\n",
    "    if self.centernode.depth <= 4:\n",
    "        maxdepth = self.centernode.depth + 1\n",
    "    elif self.centernode.depth == 5:\n",
    "        maxdepth = 7\n",
    "    else:\n",
    "        maxdepth = 9\n",
    "    self.mbtree.draw_subtree(centernode=self.centernode, selectednode=self.selectednode,\n",
    "                            anim_frame=self.play.value, isscore=self.isscore, \n",
    "                            ax=self.ax, maxdepth=maxdepth, size=self.size)\n",
    "    if self.abfig is not None:\n",
    "        if self.mbtree.calculated_by_calc_score_for_anim:\n",
    "            self.update_frameinfo()\n",
    "            status = self.mbtree.ablist_by_score[self.play.value][\"status\"]\n",
    "            disabled = status == \"start\"\n",
    "            disabled2 = status == \"end\"\n",
    "        else:\n",
    "            self.update_ab()\n",
    "            status = self.mbtree.ablist_by_score[self.play.value][3]\n",
    "            disabled = status == \"start\" or status == \"tt\"\n",
    "            disabled2 = status == \"end\" or status == \"tt\"\n",
    "        self.set_button_status(self.node_first_button, disabled=disabled)\n",
    "        self.set_button_status(self.node_prev_button, disabled=disabled)\n",
    "        self.set_button_status(self.node_next_button, disabled=disabled2)\n",
    "        self.set_button_status(self.node_last_button, disabled=disabled2)\n",
    "\n",
    "    disabled = self.play.value == 0\n",
    "    self.set_button_status(self.prev_button, disabled=disabled)\n",
    "    disabled = self.play.value == self.nodenum - 1\n",
    "    self.set_button_status(self.next_button, disabled=disabled)\n",
    "    \n",
    "Mbtree_Anim.update_gui = update_gui"
   ]
  },
  {
   "cell_type": "code",
   "execution_count": 4,
   "metadata": {},
   "outputs": [],
   "source": [
    "def update_frameinfo(self):\n",
    "    self.abax.clear()\n",
    "    self.abax.set_xlim(-4, 23)\n",
    "    self.abax.set_ylim(-1.5, 1.5)\n",
    "    self.abax.axis(\"off\")\n",
    "\n",
    "    minus_inf = -3 if self.mbtree.shortest_victory else -2\n",
    "    plus_inf = 4 if self.mbtree.shortest_victory else 2\n",
    "\n",
    "    # 数直線の描画    \n",
    "    self.abax.plot(range(minus_inf, plus_inf + 1), [0] * (plus_inf + 1 - minus_inf) , \"|-k\")\n",
    "    for num in range(minus_inf, plus_inf + 1):\n",
    "        if num == minus_inf:\n",
    "            numtext = \"-∞\"\n",
    "        elif num == plus_inf:\n",
    "            numtext = \"∞\"\n",
    "        else:\n",
    "            numtext = num\n",
    "        self.abax.text(num, -1, numtext, ha=\"center\")        \n",
    "\n",
    "Mbtree_Anim.update_frameinfo = update_frameinfo"
   ]
  },
  {
   "cell_type": "code",
   "execution_count": null,
   "metadata": {},
   "outputs": [
    {
     "data": {
      "application/vnd.jupyter.widget-view+json": {
       "model_id": "f50f94fd32a94c089e481c8b4fac17b1",
       "version_major": 2,
       "version_minor": 0
      },
      "text/plain": [
       "VBox(children=(HBox(children=(Play(value=0, interval=500, max=73185), Button(description='<', layout=Layout(wi…"
      ]
     },
     "metadata": {},
     "output_type": "display_data"
    },
    {
     "data": {
      "text/plain": [
       "<tree.Mbtree_Anim at 0x27074d7f760>"
      ]
     },
     "execution_count": 5,
     "metadata": {},
     "output_type": "execute_result"
    }
   ],
   "source": [
    "from tree import Mbtree\n",
    "\n",
    "mbtree = Mbtree.load(\"../data/abtree_root\")\n",
    "Mbtree_Anim(mbtree, isscore=True)"
   ]
  },
  {
   "cell_type": "code",
   "execution_count": 6,
   "metadata": {},
   "outputs": [
    {
     "data": {
      "application/vnd.jupyter.widget-view+json": {
       "model_id": "8c53e2bce8f24892b885549c6feb18b6",
       "version_major": 2,
       "version_minor": 0
      },
      "text/plain": [
       "VBox(children=(HBox(children=(Play(value=0, interval=500, max=2199781), Button(description='<', layout=Layout(…"
      ]
     },
     "metadata": {},
     "output_type": "display_data"
    },
    {
     "data": {
      "text/plain": [
       "<tree.Mbtree_Anim at 0x27039157ee0>"
      ]
     },
     "execution_count": 6,
     "metadata": {},
     "output_type": "execute_result"
    }
   ],
   "source": [
    "mbtree.calc_score_for_anim(mbtree.root, minimax=True, shortest_victory=False)\n",
    "Mbtree_Anim(mbtree, isscore=True)"
   ]
  },
  {
   "cell_type": "code",
   "execution_count": 7,
   "metadata": {},
   "outputs": [
    {
     "data": {
      "application/vnd.jupyter.widget-view+json": {
       "model_id": "b5efa7159f9d42f2aee07637e828f846",
       "version_major": 2,
       "version_minor": 0
      },
      "text/plain": [
       "VBox(children=(HBox(children=(Play(value=0, interval=500, max=2199781), Button(description='<', layout=Layout(…"
      ]
     },
     "metadata": {},
     "output_type": "display_data"
    },
    {
     "data": {
      "text/plain": [
       "<tree.Mbtree_Anim at 0x2709aa07af0>"
      ]
     },
     "execution_count": 7,
     "metadata": {},
     "output_type": "execute_result"
    }
   ],
   "source": [
    "mbtree.calc_score_for_anim(mbtree.root, minimax=True, shortest_victory=True)\n",
    "Mbtree_Anim(mbtree, isscore=True)"
   ]
  },
  {
   "cell_type": "code",
   "execution_count": 8,
   "metadata": {},
   "outputs": [],
   "source": [
    "def update_frameinfo(self):\n",
    "    self.abax.clear()\n",
    "    self.abax.set_xlim(-4, 23)\n",
    "    self.abax.set_ylim(-1.5, 1.5)\n",
    "    self.abax.axis(\"off\")\n",
    "\n",
    "    minus_inf = -3 if self.mbtree.shortest_victory else -2\n",
    "    plus_inf = 4 if self.mbtree.shortest_victory else 2\n",
    "\n",
    "    # 数直線の描画    \n",
    "    self.abax.plot(range(minus_inf, plus_inf + 1), [0] * (plus_inf + 1 - minus_inf) , \"|-k\")\n",
    "    for num in range(minus_inf, plus_inf + 1):\n",
    "        if num == minus_inf:\n",
    "            numtext = \"-∞\"\n",
    "        elif num == plus_inf:\n",
    "            numtext = \"∞\"\n",
    "        else:\n",
    "            numtext = num\n",
    "        self.abax.text(num, -1, numtext, ha=\"center\")        \n",
    "\n",
    "    # メッセージの表示\n",
    "    linenum = 4\n",
    "    textlist = [\"\"] * linenum\n",
    "    textcolorlist = [\"black\"] * linenum\n",
    "\n",
    "    algorithm = \"mm 法\" if self.mbtree.minimax else \"αβ法\"\n",
    "    use_tt = \"〇\" if self.mbtree.use_tt else \"×\"\n",
    "    shortest_victory = \"〇\" if self.mbtree.shortest_victory else \"×\"\n",
    "    init_ab = \"〇\" if self.mbtree.init_ab else \"×\"\n",
    "    textlist[0] = f\"{algorithm}　置換表 {use_tt}　最短 {shortest_victory}\"\n",
    "    if not self.mbtree.minimax:\n",
    "        textlist[0] += f\"　初期値 {init_ab}\"\n",
    "\n",
    "    for i in range(linenum):\n",
    "        self.abax.text(5, 1 - i * 0.7, textlist[i], c=textcolorlist[i])\n",
    "\n",
    "Mbtree_Anim.update_frameinfo = update_frameinfo"
   ]
  },
  {
   "cell_type": "code",
   "execution_count": 9,
   "metadata": {},
   "outputs": [
    {
     "data": {
      "application/vnd.jupyter.widget-view+json": {
       "model_id": "a47488e90f1a47e88e3379b350a16616",
       "version_major": 2,
       "version_minor": 0
      },
      "text/plain": [
       "VBox(children=(HBox(children=(Play(value=0, interval=500, max=2199781), Button(description='<', layout=Layout(…"
      ]
     },
     "metadata": {},
     "output_type": "display_data"
    },
    {
     "data": {
      "text/plain": [
       "<tree.Mbtree_Anim at 0x2709b786b30>"
      ]
     },
     "execution_count": 9,
     "metadata": {},
     "output_type": "execute_result"
    }
   ],
   "source": [
    "mbtree.calc_score_for_anim(mbtree.root, minimax=True, shortest_victory=True, init_ab=True)\n",
    "Mbtree_Anim(mbtree, isscore=True)"
   ]
  },
  {
   "cell_type": "code",
   "execution_count": 10,
   "metadata": {},
   "outputs": [
    {
     "data": {
      "application/vnd.jupyter.widget-view+json": {
       "model_id": "42911b3911de4bfa914e60b75a174ae4",
       "version_major": 2,
       "version_minor": 0
      },
      "text/plain": [
       "VBox(children=(HBox(children=(Play(value=0, interval=500, max=3983), Button(description='<', layout=Layout(wid…"
      ]
     },
     "metadata": {},
     "output_type": "display_data"
    },
    {
     "data": {
      "text/plain": [
       "<tree.Mbtree_Anim at 0x2709bab7df0>"
      ]
     },
     "execution_count": 10,
     "metadata": {},
     "output_type": "execute_result"
    }
   ],
   "source": [
    "mbtree.calc_score_for_anim(mbtree.root, minimax=False, use_tt=True,\n",
    "                           shortest_victory=False, init_ab=True)\n",
    "Mbtree_Anim(mbtree, isscore=True)"
   ]
  },
  {
   "cell_type": "code",
   "execution_count": 11,
   "metadata": {},
   "outputs": [],
   "source": [
    "from marubatsu import Marubatsu\n",
    "\n",
    "def update_frameinfo(self):\n",
    "    framedata = self.mbtree.ablist_by_score[self.play.value]\n",
    "    status = framedata[\"status\"]\n",
    "    maxnode = self.selectednode.mb.turn == Marubatsu.CIRCLE\n",
    "\n",
    "    self.abax.clear()\n",
    "    self.abax.set_xlim(-4, 23)\n",
    "    self.abax.set_ylim(-1.5, 1.5)\n",
    "    self.abax.axis(\"off\")\n",
    "\n",
    "    minus_inf = -3 if self.mbtree.shortest_victory else -2\n",
    "    plus_inf = 4 if self.mbtree.shortest_victory else 2\n",
    "\n",
    "    # 数直線の描画    \n",
    "    self.abax.plot(range(minus_inf, plus_inf + 1), [0] * (plus_inf + 1 - minus_inf) , \"|-k\")\n",
    "    for num in range(minus_inf, plus_inf + 1):\n",
    "        if num == minus_inf:\n",
    "            numtext = \"-∞\"\n",
    "        elif num == plus_inf:\n",
    "            numtext = \"∞\"\n",
    "        else:\n",
    "            numtext = num\n",
    "        self.abax.text(num, -1, numtext, ha=\"center\")        \n",
    "\n",
    "    # メッセージの表示\n",
    "    linenum = 4\n",
    "    textlist = [\"\"] * linenum\n",
    "    textcolorlist = [\"black\"] * linenum\n",
    "\n",
    "    algorithm = \"mm 法\" if self.mbtree.minimax else \"αβ法\"\n",
    "    use_tt = \"〇\" if self.mbtree.use_tt else \"×\"\n",
    "    shortest_victory = \"〇\" if self.mbtree.shortest_victory else \"×\"\n",
    "    init_ab = \"〇\" if self.mbtree.init_ab else \"×\"\n",
    "    textlist[0] = f\"{algorithm}　置換表 {use_tt}　最短 {shortest_victory}\"\n",
    "    if not self.mbtree.minimax:\n",
    "        textlist[0] += f\"　初期値 {init_ab}\"\n",
    "\n",
    "    nodetype = \"max node\" if maxnode else \"min node\"\n",
    "    textlist[1] = f\"深さ {self.selectednode.mb.move_count} {nodetype}\"\n",
    "    \n",
    "    statusdata = {\n",
    "        \"start\": {\n",
    "            \"text\": \"処理の開始\",\n",
    "            \"color\": \"white\"\n",
    "        },\n",
    "        \"tt\": {\n",
    "            \"text\": \"置換表の処理\",\n",
    "            \"color\": \"honeydew\"\n",
    "        },\n",
    "        \"score\": {\n",
    "            \"text\": \"子ノードの評価値\",\n",
    "            \"color\": \"lightyellow\"\n",
    "        },\n",
    "        \"update\": {\n",
    "            \"text\": \"更新処理\",\n",
    "            \"color\": \"lightcyan\"\n",
    "        },\n",
    "        \"end\": {\n",
    "            \"text\": \"評価値の確定\",\n",
    "            \"color\": \"lavenderblush\"\n",
    "        },\n",
    "    }\n",
    "    textlist[2] = statusdata[status][\"text\"]\n",
    "    facecolor = statusdata[status][\"color\"]\n",
    "\n",
    "    self.abfig.set_facecolor(facecolor)\n",
    "    for i in range(linenum):\n",
    "        self.abax.text(5, 1 - i * 0.7, textlist[i], c=textcolorlist[i])\n",
    "\n",
    "Mbtree_Anim.update_frameinfo = update_frameinfo"
   ]
  },
  {
   "cell_type": "code",
   "execution_count": 12,
   "metadata": {},
   "outputs": [
    {
     "data": {
      "application/vnd.jupyter.widget-view+json": {
       "model_id": "5f16b91c3ed44d7ab2ef4ed7b21d96a6",
       "version_major": 2,
       "version_minor": 0
      },
      "text/plain": [
       "VBox(children=(HBox(children=(Play(value=0, interval=500, max=10960), Button(description='<', layout=Layout(wi…"
      ]
     },
     "metadata": {},
     "output_type": "display_data"
    },
    {
     "data": {
      "text/plain": [
       "<tree.Mbtree_Anim at 0x2709b4f5120>"
      ]
     },
     "execution_count": 12,
     "metadata": {},
     "output_type": "execute_result"
    }
   ],
   "source": [
    "mbtree.calc_score_for_anim(mbtree.root, minimax=True, use_tt=True, shortest_victory=False)\n",
    "Mbtree_Anim(mbtree, isscore=True)"
   ]
  },
  {
   "cell_type": "code",
   "execution_count": 13,
   "metadata": {},
   "outputs": [],
   "source": [
    "def update_frameinfo(self):\n",
    "    framedata = self.mbtree.ablist_by_score[self.play.value]\n",
    "    status = framedata[\"status\"]\n",
    "    maxnode = self.selectednode.mb.turn == Marubatsu.CIRCLE\n",
    "\n",
    "    self.abax.clear()\n",
    "    self.abax.set_xlim(-4, 23)\n",
    "    self.abax.set_ylim(-1.5, 1.5)\n",
    "    self.abax.axis(\"off\")\n",
    "\n",
    "    minus_inf = -3 if self.mbtree.shortest_victory else -2\n",
    "    plus_inf = 4 if self.mbtree.shortest_victory else 2\n",
    "\n",
    "    # 数直線の描画    \n",
    "    self.abax.plot(range(minus_inf, plus_inf + 1), [0] * (plus_inf + 1 - minus_inf) , \"|-k\")\n",
    "    for num in range(minus_inf, plus_inf + 1):\n",
    "        if num == minus_inf:\n",
    "            numtext = \"-∞\"\n",
    "        elif num == plus_inf:\n",
    "            numtext = \"∞\"\n",
    "        else:\n",
    "            numtext = num\n",
    "        self.abax.text(num, -1, numtext, ha=\"center\")        \n",
    "\n",
    "    # メッセージの表示\n",
    "    linenum = 4\n",
    "    textlist = [\"\"] * linenum\n",
    "    textcolorlist = [\"black\"] * linenum\n",
    "\n",
    "    algorithm = \"mm 法\" if self.mbtree.minimax else \"αβ法\"\n",
    "    use_tt = \"〇\" if self.mbtree.use_tt else \"×\"\n",
    "    shortest_victory = \"〇\" if self.mbtree.shortest_victory else \"×\"\n",
    "    init_ab = \"〇\" if self.mbtree.init_ab else \"×\"\n",
    "    textlist[0] = f\"{algorithm}　置換表 {use_tt}　最短 {shortest_victory}\"\n",
    "    if not self.mbtree.minimax:\n",
    "        textlist[0] += f\"　初期値 {init_ab}\"\n",
    "\n",
    "    nodetype = \"max node\" if maxnode else \"min node\"\n",
    "    textlist[1] = f\"深さ {self.selectednode.mb.move_count} {nodetype}\"\n",
    "    \n",
    "    statusdata = {\n",
    "        \"start\": {\n",
    "            \"text\": \"処理の開始\",\n",
    "            \"color\": \"white\"\n",
    "        },\n",
    "        \"tt\": {\n",
    "            \"text\": \"置換表の処理\",\n",
    "            \"color\": \"honeydew\"\n",
    "        },\n",
    "        \"score\": {\n",
    "            \"text\": \"子ノードの評価値\",\n",
    "            \"color\": \"lightyellow\"\n",
    "        },\n",
    "        \"update\": {\n",
    "            \"text\": \"更新処理\",\n",
    "            \"color\": \"lightcyan\"\n",
    "        },\n",
    "        \"end\": {\n",
    "            \"text\": \"評価値の確定\",\n",
    "            \"color\": \"lavenderblush\"\n",
    "        },\n",
    "    }\n",
    "    textlist[2] = statusdata[status][\"text\"]\n",
    "    facecolor = statusdata[status][\"color\"]\n",
    "\n",
    "    self.abfig.set_facecolor(facecolor)\n",
    "    for i in range(linenum):\n",
    "        self.abax.text(5, 1 - i * 0.7, textlist[i], c=textcolorlist[i])\n",
    "        \n",
    "    num_calculated = framedata[\"num_calculated\"]\n",
    "    num_pruned = framedata[\"num_pruned\"]\n",
    "    num_total = num_calculated + num_pruned\n",
    "    num_ratio = num_calculated / num_total if num_total != 0 else 0\n",
    "    prev_framedata = self.mbtree.ablist_by_score[self.prev_frame]\n",
    "    prev_num_calculated = prev_framedata[\"num_calculated\"]\n",
    "    prev_num_pruned = prev_framedata[\"num_pruned\"]\n",
    "    prev_num_total = prev_num_calculated + prev_num_pruned\n",
    "    diff_num_calculated = num_calculated - prev_num_calculated\n",
    "    diff_num_pruned = num_pruned - prev_num_pruned\n",
    "    diff_num_total = num_total - prev_num_total\n",
    "    diff_num_ratio = diff_num_calculated / diff_num_total if diff_num_total != 0 else 0\n",
    "\n",
    "    textlist = [ \"計算済\", \"枝狩り\", \"合計\", \"割合\" ]\n",
    "    datalist = [ num_calculated, num_pruned, num_total, f\"{num_ratio * 100:.1f}%\"]\n",
    "    diff_datalist = [ f\"{diff_num_calculated:+d}\", f\"{diff_num_pruned:+d}\", \n",
    "                    f\"{diff_num_total:+d}\", f\"{diff_num_ratio * 100:.1f}%\"]\n",
    "    for i in range(4):\n",
    "        self.abax.text(15, 1 - i * 0.7, textlist[i])\n",
    "        self.abax.text(19.5, 1 - i * 0.7, datalist[i], ha=\"right\")\n",
    "        self.abax.text(22.5, 1 - i * 0.7, diff_datalist[i], ha=\"right\")\n",
    "        \n",
    "Mbtree_Anim.update_frameinfo = update_frameinfo"
   ]
  },
  {
   "cell_type": "code",
   "execution_count": 14,
   "metadata": {},
   "outputs": [
    {
     "data": {
      "application/vnd.jupyter.widget-view+json": {
       "model_id": "92cc112d901549039cd0a252bf5f3d12",
       "version_major": 2,
       "version_minor": 0
      },
      "text/plain": [
       "VBox(children=(HBox(children=(Play(value=0, interval=500, max=10960), Button(description='<', layout=Layout(wi…"
      ]
     },
     "metadata": {},
     "output_type": "display_data"
    },
    {
     "data": {
      "text/plain": [
       "<tree.Mbtree_Anim at 0x2707d60ff10>"
      ]
     },
     "execution_count": 14,
     "metadata": {},
     "output_type": "execute_result"
    }
   ],
   "source": [
    "Mbtree_Anim(mbtree, isscore=True)"
   ]
  },
  {
   "cell_type": "code",
   "execution_count": 15,
   "metadata": {},
   "outputs": [],
   "source": [
    "def update_frameinfo(self):\n",
    "    def calc_coord(score):\n",
    "        return min(max(minus_inf, score), plus_inf)\n",
    "        \n",
    "    framedata = self.mbtree.ablist_by_score[self.play.value]\n",
    "    status = framedata[\"status\"]\n",
    "    maxnode = self.selectednode.mb.turn == Marubatsu.CIRCLE\n",
    "\n",
    "    self.abax.clear()\n",
    "    self.abax.set_xlim(-4, 23)\n",
    "    self.abax.set_ylim(-1.5, 1.5)\n",
    "    self.abax.axis(\"off\")\n",
    "\n",
    "    minus_inf = -3 if self.mbtree.shortest_victory else -2\n",
    "    plus_inf = 4 if self.mbtree.shortest_victory else 2\n",
    "\n",
    "    # 数直線の描画    \n",
    "    self.abax.plot(range(minus_inf, plus_inf + 1), [0] * (plus_inf + 1 - minus_inf) , \"|-k\")\n",
    "    for num in range(minus_inf, plus_inf + 1):\n",
    "        if num == minus_inf:\n",
    "            numtext = \"-∞\"\n",
    "        elif num == plus_inf:\n",
    "            numtext = \"∞\"\n",
    "        else:\n",
    "            numtext = num\n",
    "        self.abax.text(num, -1, numtext, ha=\"center\")        \n",
    "\n",
    "    # メッセージの表示\n",
    "    linenum = 4\n",
    "    textlist = [\"\"] * linenum\n",
    "    textcolorlist = [\"black\"] * linenum\n",
    "\n",
    "    algorithm = \"mm 法\" if self.mbtree.minimax else \"αβ法\"\n",
    "    use_tt = \"〇\" if self.mbtree.use_tt else \"×\"\n",
    "    shortest_victory = \"〇\" if self.mbtree.shortest_victory else \"×\"\n",
    "    init_ab = \"〇\" if self.mbtree.init_ab else \"×\"\n",
    "    textlist[0] = f\"{algorithm}　置換表 {use_tt}　最短 {shortest_victory}\"\n",
    "    if not self.mbtree.minimax:\n",
    "        textlist[0] += f\"　初期値 {init_ab}\"\n",
    "    \n",
    "    textlist[1] = f\"深さ {self.selectednode.mb.move_count} \"\n",
    "    if maxnode:\n",
    "        textlist[1] += \"max node\"\n",
    "    else:\n",
    "        textlist[1] += \"min node\"\n",
    "    \n",
    "    statusdata = {\n",
    "        \"start\": {\n",
    "            \"text\": \"処理の開始\",\n",
    "            \"color\": \"white\"\n",
    "        },\n",
    "        \"tt\": {\n",
    "            \"text\": \"置換表の処理\",\n",
    "            \"color\": \"honeydew\"\n",
    "        },\n",
    "        \"score\": {\n",
    "            \"text\": \"子ノードの評価値\",\n",
    "            \"color\": \"lightyellow\"\n",
    "        },\n",
    "        \"update\": {\n",
    "            \"text\": \"更新処理\",\n",
    "            \"color\": \"lightcyan\"\n",
    "        },\n",
    "        \"end\": {\n",
    "            \"text\": \"評価値の確定\",\n",
    "            \"color\": \"lavenderblush\"\n",
    "        },\n",
    "    }\n",
    "    textlist[2] = statusdata[status][\"text\"]\n",
    "    facecolor = statusdata[status][\"color\"]\n",
    "    \n",
    "    arrowprops = { \"arrowstyle\": \"->\"}\n",
    "    leftx = -3\n",
    "    rightx = 4\n",
    "    centerx = (leftx + rightx) / 2\n",
    "    # そのフレームでのノードの評価値の表示\n",
    "    if status in [\"score\", \"update\", \"end\"]:\n",
    "        score = framedata[\"score\"]\n",
    "        score_coord = calc_coord(score)\n",
    "        text_coord = leftx if maxnode else rightx\n",
    "        ha = \"left\" if maxnode else \"right\"\n",
    "        self.abax.plot(score_coord, 0, \"ok\")\n",
    "        self.abax.annotate(f\"score = {score}\", xy=(score_coord, 0),\n",
    "                           xytext=(text_coord, 1), arrowprops=arrowprops, ha=ha)        \n",
    "    # 子ノードの評価値の表示\n",
    "    if status == \"score\":\n",
    "        childscore = framedata[\"childscore\"]\n",
    "        childscore_coord = calc_coord(childscore)\n",
    "        text_coord = rightx if maxnode else leftx\n",
    "        ha = \"right\" if maxnode else \"left\"\n",
    "        self.abax.plot(childscore_coord, 0, \"og\")\n",
    "        self.abax.annotate(f\"cscore = {childscore}\", xy=(childscore_coord, 0),\n",
    "                           xytext=(text_coord, 1), arrowprops=arrowprops, ha=ha)        \n",
    "    # 置換表にデータが登録されていたかどうかの表示\n",
    "    elif status ==\"tt\":\n",
    "        if framedata[\"registered_in_tt\"]:\n",
    "            textlist[3] = \"置換表に登録済\"\n",
    "            textcolorlist[3] = \"red\"\n",
    "            score = framedata[\"lower_bound\"]\n",
    "            score_coord = calc_coord(score)\n",
    "            self.abax.plot(score_coord, 0, \"om\")\n",
    "            self.abax.annotate(f\"置換表の評価値 = {score}\", xy=(score_coord, 0),\n",
    "                            xytext=(centerx, 1), arrowprops=arrowprops, ha=\"center\")        \n",
    "        else:\n",
    "            textlist[3] = \"置換表に未登録\"\n",
    "    # ノードの評価値が更新されたかどうかの表示\n",
    "    elif status == \"update\":\n",
    "        if framedata[\"updated\"]:\n",
    "            textlist[3] = \"評価値の更新\"\n",
    "            textcolorlist[3] = \"red\"\n",
    "        else:\n",
    "            textlist[3] = \"評価値の更新なし\"\n",
    "    # 置換表に登録したかどうかの表示\n",
    "    elif status == \"end\":\n",
    "        if self.mbtree.use_tt:\n",
    "            if framedata[\"registered_in_tt\"]:\n",
    "                textlist[3] = \"置換表に登録されていたデータを利用\"\n",
    "            else:\n",
    "                textlist[3] = \"置換表への登録\"\n",
    "                textcolorlist[3] = \"red\"\n",
    "\n",
    "    self.abfig.set_facecolor(facecolor)\n",
    "    for i in range(linenum):\n",
    "        self.abax.text(5, 1 - i * 0.7, textlist[i], c=textcolorlist[i])\n",
    "\n",
    "    num_calculated = framedata[\"num_calculated\"]\n",
    "    num_pruned = framedata[\"num_pruned\"]\n",
    "    num_total = num_calculated + num_pruned\n",
    "    num_ratio = num_calculated / num_total if num_total != 0 else 0\n",
    "    prev_framedata = self.mbtree.ablist_by_score[self.prev_frame]\n",
    "    prev_num_calculated = prev_framedata[\"num_calculated\"]\n",
    "    prev_num_pruned = prev_framedata[\"num_pruned\"]\n",
    "    prev_num_total = prev_num_calculated + prev_num_pruned\n",
    "    diff_num_calculated = num_calculated - prev_num_calculated\n",
    "    diff_num_pruned = num_pruned - prev_num_pruned\n",
    "    diff_num_total = num_total - prev_num_total\n",
    "    diff_num_ratio = diff_num_calculated / diff_num_total if diff_num_total != 0 else 0\n",
    "\n",
    "    textlist = [ \"計算済\", \"枝狩り\", \"合計\", \"割合\" ]\n",
    "    datalist = [ num_calculated, num_pruned, num_total, f\"{num_ratio * 100:.1f}%\"]\n",
    "    diff_datalist = [ f\"{diff_num_calculated:+d}\", f\"{diff_num_pruned:+d}\", \n",
    "                    f\"{diff_num_total:+d}\", f\"{diff_num_ratio * 100:.1f}%\"]\n",
    "    for i in range(4):\n",
    "        self.abax.text(15, 1 - i * 0.7, textlist[i])\n",
    "        self.abax.text(19.5, 1 - i * 0.7, datalist[i], ha=\"right\")\n",
    "        self.abax.text(22.5, 1 - i * 0.7, diff_datalist[i], ha=\"right\")\n",
    "        \n",
    "Mbtree_Anim.update_frameinfo = update_frameinfo"
   ]
  },
  {
   "cell_type": "code",
   "execution_count": 16,
   "metadata": {},
   "outputs": [],
   "source": [
    "def create_event_handler(self):\n",
    "    def on_play_changed(changed):\n",
    "        self.prev_frame = changed.old\n",
    "        self.update_gui()\n",
    "            \n",
    "    def on_prev_button_clicked(b=None):\n",
    "        self.play.value -= 1\n",
    "        self.update_gui()\n",
    "        \n",
    "    def on_next_button_clicked(b=None):\n",
    "        self.play.value += 1\n",
    "        self.update_gui()\n",
    "\n",
    "    self.prev_button.on_click(on_prev_button_clicked)\n",
    "    self.next_button.on_click(on_next_button_clicked)\n",
    "\n",
    "    self.play.observe(on_play_changed, names=\"value\")\n",
    "    \n",
    "    def change_frame(edge_status, diff, status_list):\n",
    "        frame = self.play.value\n",
    "        selectednode = self.mbtree.nodelist_by_score[frame]\n",
    "        if self.mbtree.calculated_by_calc_score_for_anim:\n",
    "            selectedstatus = self.mbtree.ablist_by_score[frame][\"status\"]\n",
    "        else:\n",
    "            selectedstatus = self.mbtree.ablist_by_score[frame][3]\n",
    "        if selectedstatus == edge_status:\n",
    "            return\n",
    "        while True:\n",
    "            frame += diff\n",
    "            node = self.mbtree.nodelist_by_score[frame]\n",
    "            if self.mbtree.calculated_by_calc_score_for_anim:\n",
    "                status = self.mbtree.ablist_by_score[frame][\"status\"]\n",
    "            else:\n",
    "                status = self.mbtree.ablist_by_score[frame][3]\n",
    "            if node == selectednode and status in status_list:\n",
    "                break\n",
    "        self.play.value = frame\n",
    "        self.update_gui()\n",
    "            \n",
    "    def on_node_first_button_clicked(b=None):\n",
    "        change_frame(\"start\", -1, [\"start\"])\n",
    "            \n",
    "    def on_node_prev_button_clicked(b=None):\n",
    "        if self.mbtree.calculated_by_calc_score_for_anim:\n",
    "            change_frame(\"start\", -1, [\"start\", \"score\", \"update\", \"tt\"])\n",
    "        else:\n",
    "            change_frame(\"start\", -1, [\"start\", \"score\"])\n",
    "\n",
    "    def on_node_next_button_clicked(b=None):\n",
    "        if self.mbtree.calculated_by_calc_score_for_anim:\n",
    "            change_frame(\"end\", 1, [\"end\", \"score\", \"update\", \"tt\"])\n",
    "        else:\n",
    "            change_frame(\"end\", 1, [\"end\", \"score\"])\n",
    "        \n",
    "    def on_node_last_button_clicked(b=None):\n",
    "        change_frame(\"end\", 1, [\"end\"])\n",
    "    \n",
    "    if self.abfig is not None:\n",
    "        self.node_first_button.on_click(on_node_first_button_clicked)\n",
    "        self.node_prev_button.on_click(on_node_prev_button_clicked)\n",
    "        self.node_next_button.on_click(on_node_next_button_clicked)\n",
    "        self.node_last_button.on_click(on_node_last_button_clicked)\n",
    "\n",
    "Mbtree_Anim.create_event_handler = create_event_handler"
   ]
  },
  {
   "cell_type": "code",
   "execution_count": 17,
   "metadata": {},
   "outputs": [
    {
     "data": {
      "application/vnd.jupyter.widget-view+json": {
       "model_id": "d1a6950f0c2647dca85e210bc800cec8",
       "version_major": 2,
       "version_minor": 0
      },
      "text/plain": [
       "VBox(children=(HBox(children=(Play(value=0, interval=500, max=10960), Button(description='<', layout=Layout(wi…"
      ]
     },
     "metadata": {},
     "output_type": "display_data"
    },
    {
     "data": {
      "text/plain": [
       "<tree.Mbtree_Anim at 0x2707d998eb0>"
      ]
     },
     "execution_count": 17,
     "metadata": {},
     "output_type": "execute_result"
    }
   ],
   "source": [
    "Mbtree_Anim(mbtree, isscore=True)"
   ]
  },
  {
   "cell_type": "code",
   "execution_count": 18,
   "metadata": {},
   "outputs": [
    {
     "data": {
      "application/vnd.jupyter.widget-view+json": {
       "model_id": "4bd13431359e47c5b25bb62c571a82f3",
       "version_major": 2,
       "version_minor": 0
      },
      "text/plain": [
       "VBox(children=(HBox(children=(Play(value=0, interval=500, max=83461), Button(description='<', layout=Layout(wi…"
      ]
     },
     "metadata": {},
     "output_type": "display_data"
    },
    {
     "data": {
      "text/plain": [
       "<tree.Mbtree_Anim at 0x27084934eb0>"
      ]
     },
     "execution_count": 18,
     "metadata": {},
     "output_type": "execute_result"
    }
   ],
   "source": [
    "mbtree.calc_score_for_anim(mbtree.root, minimax=False, use_tt=False, shortest_victory=True)\n",
    "Mbtree_Anim(mbtree, isscore=True)"
   ]
  }
 ],
 "metadata": {
  "kernelspec": {
   "display_name": "marubatsu",
   "language": "python",
   "name": "python3"
  },
  "language_info": {
   "codemirror_mode": {
    "name": "ipython",
    "version": 3
   },
   "file_extension": ".py",
   "mimetype": "text/x-python",
   "name": "python",
   "nbconvert_exporter": "python",
   "pygments_lexer": "ipython3",
   "version": "3.10.13"
  }
 },
 "nbformat": 4,
 "nbformat_minor": 2
}
