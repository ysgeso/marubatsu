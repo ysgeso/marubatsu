{
 "cells": [
  {
   "cell_type": "code",
   "execution_count": 1,
   "metadata": {},
   "outputs": [],
   "source": [
    "from marubatsu import Marubatsu\n",
    "\n",
    "def judge(self):      \n",
    "    # 〇 の勝利の判定\n",
    "    if self.is_winner(Marubatsu.CIRCLE):\n",
    "        return Marubatsu.CIRCLE\n",
    "    # × の勝利の判定\n",
    "    elif self.is_winner(Marubatsu.CROSS):\n",
    "        return Marubatsu.CROSS\n",
    "    # 引き分けの判定\n",
    "    elif not(self.board[0][0] == Marubatsu.EMPTY or \\\n",
    "        self.board[1][0] == Marubatsu.EMPTY or \\\n",
    "        self.board[2][0] == Marubatsu.EMPTY or \\\n",
    "        self.board[0][1] == Marubatsu.EMPTY or \\\n",
    "        self.board[1][1] == Marubatsu.EMPTY or \\\n",
    "        self.board[2][1] == Marubatsu.EMPTY or \\\n",
    "        self.board[0][2] == Marubatsu.EMPTY or \\\n",
    "        self.board[1][2] == Marubatsu.EMPTY or \\\n",
    "        self.board[2][2] == Marubatsu.EMPTY):\n",
    "        return Marubatsu.DRAW\n",
    "    # 上記のどれでもなければ決着がついていない\n",
    "    else:\n",
    "        return Marubatsu.PLAYING \n",
    "    \n",
    "Marubatsu.judge = judge"
   ]
  },
  {
   "cell_type": "code",
   "execution_count": 2,
   "metadata": {},
   "outputs": [],
   "source": [
    "def is_winner(self, player):\n",
    "    # player が勝利しているかどうかを判定する\n",
    "    if self.board[0][0] == self.board[1][0] == self.board[2][0] == player or \\\n",
    "       self.board[0][1] == self.board[1][1] == self.board[2][1] == player or \\\n",
    "       self.board[0][2] == self.board[1][2] == self.board[2][2] == player or \\\n",
    "       self.board[0][0] == self.board[0][1] == self.board[0][2] == player or \\\n",
    "       self.board[1][0] == self.board[1][1] == self.board[1][2] == player or \\\n",
    "       self.board[2][0] == self.board[2][1] == self.board[2][2] == player or \\\n",
    "       self.board[0][0] == self.board[1][1] == self.board[2][2] == player or \\\n",
    "       self.board[2][0] == self.board[1][1] == self.board[0][2] == player:\n",
    "        return True\n",
    "    else:\n",
    "        return False\n",
    "\n",
    "Marubatsu.is_winner = is_winner"
   ]
  },
  {
   "cell_type": "code",
   "execution_count": 3,
   "metadata": {},
   "outputs": [],
   "source": [
    "from test import excel_to_xy\n",
    "\n",
    "def test_judge(testcases=None, debug=False):\n",
    "    if testcases is None:\n",
    "        testcases = {\n",
    "            # 決着がついていない場合のテストケース\n",
    "            Marubatsu.PLAYING: [\n",
    "                # ゲーム盤に一つもマークが配置されていない場合のテストケース\n",
    "                \"\",\n",
    "                # 一つだけマークが配置されていない場合のテストケース\n",
    "                \"C3,A2,B1,B2,C2,C1,A3,B3\",\n",
    "                \"A1,A2,C3,B2,C2,C1,A3,B3\",\n",
    "                \"A1,A2,B1,B2,C2,C3,A3,B3\",\n",
    "                \"A1,C3,B1,B2,C2,C1,A3,B3\",\n",
    "                \"A1,A2,B1,C3,C2,C1,A3,B3\",\n",
    "                \"A1,A2,B1,B2,C3,C1,A3,B3\",\n",
    "                \"A1,A2,B1,B2,C2,C1,C3,B3\",\n",
    "                \"A1,A2,B1,B2,A3,C1,C2,C3\",\n",
    "                \"A1,A2,B1,B2,C2,C1,A3,B3\",\n",
    "            ],   \n",
    "            # 〇の勝利のテストケース\n",
    "            Marubatsu.CIRCLE: [\n",
    "                \"A1,A2,B1,B2,C1\",\n",
    "                \"A2,A1,B2,B1,C2\",\n",
    "                \"A3,A1,B3,B1,C3\",\n",
    "                \"A1,B1,A2,B2,A3\",\n",
    "                \"B1,A1,B2,A2,B3\",\n",
    "                \"C1,A1,C2,A2,C3\",\n",
    "                \"A1,A2,B2,A3,C3\",\n",
    "                \"A3,A1,B2,A2,C1\",\n",
    "                # 簡易的な組み合わせ網羅の 6 のテストケース\n",
    "                \"A1,B1,A2,B2,B3,C1,C3,C2,A3\", \n",
    "            ],\n",
    "            # × の勝利のテストケース\n",
    "            Marubatsu.CROSS: [\n",
    "                \"A2,A1,B2,B1,A3,C1\",\n",
    "                \"A1,A2,B1,B2,A3,C2\",\n",
    "                \"A1,A3,B1,B3,A2,C3\",\n",
    "                \"B1,A1,B2,A2,C1,A3\",\n",
    "                \"A1,B1,A2,B2,C1,B3\",\n",
    "                \"A1,C1,A2,C2,B1,C3\",\n",
    "                \"A2,A1,A3,B2,B1,C3\",\n",
    "                \"A1,C1,B1,B2,A2,A3\",\n",
    "            ],\n",
    "            # 引き分けの場合のテストケース\n",
    "            Marubatsu.DRAW: [\n",
    "                \"A1,A2,B1,B2,C2,C1,A3,B3,C3\",\n",
    "            ], \n",
    "        }\n",
    "\n",
    "    print(\"Start\")\n",
    "    for winner, testdata_list in testcases.items():\n",
    "        print(\"test winner =\", winner) \n",
    "        for testdata in testdata_list:\n",
    "            mb = Marubatsu()\n",
    "            for coord in [] if testdata == \"\" else testdata.split(\",\"):\n",
    "                x, y = excel_to_xy(coord)            \n",
    "                mb.move(x, y)\n",
    "            if debug:\n",
    "                print(mb)\n",
    "\n",
    "            if mb.judge() == winner:\n",
    "                if debug:\n",
    "                    print(\"ok\")\n",
    "                else:\n",
    "                    print(\"o\", end=\"\")\n",
    "            else:\n",
    "                print()\n",
    "                print(\"====================\")\n",
    "                print(\"test_judge error!\")\n",
    "                print(mb)\n",
    "                print(\"mb.judge():\", mb.judge())\n",
    "                print(\"player:    \", winner)\n",
    "                print(\"====================\")\n",
    "        print()\n",
    "    print(\"Finished\")"
   ]
  },
  {
   "cell_type": "code",
   "execution_count": 4,
   "metadata": {},
   "outputs": [
    {
     "name": "stdout",
     "output_type": "stream",
     "text": [
      "Start\n",
      "test winner = playing\n",
      "oooooooooo\n",
      "test winner = o\n",
      "ooooooooo\n",
      "test winner = x\n",
      "oooooooo\n",
      "test winner = draw\n",
      "o\n",
      "Finished\n"
     ]
    }
   ],
   "source": [
    "test_judge()"
   ]
  },
  {
   "cell_type": "code",
   "execution_count": 5,
   "metadata": {},
   "outputs": [],
   "source": [
    "def is_winner(self, player):\n",
    "    # player が勝利していることを表す条件式の計算結果を返す\n",
    "    return self.board[0][0] == self.board[1][0] == self.board[2][0] == player or \\\n",
    "           self.board[0][1] == self.board[1][1] == self.board[2][1] == player or \\\n",
    "           self.board[0][2] == self.board[1][2] == self.board[2][2] == player or \\\n",
    "           self.board[0][0] == self.board[0][1] == self.board[0][2] == player or \\\n",
    "           self.board[1][0] == self.board[1][1] == self.board[1][2] == player or \\\n",
    "           self.board[2][0] == self.board[2][1] == self.board[2][2] == player or \\\n",
    "           self.board[0][0] == self.board[1][1] == self.board[2][2] == player or \\\n",
    "           self.board[2][0] == self.board[1][1] == self.board[0][2] == player\n",
    "\n",
    "Marubatsu.is_winner = is_winner"
   ]
  },
  {
   "cell_type": "code",
   "execution_count": 6,
   "metadata": {},
   "outputs": [
    {
     "name": "stdout",
     "output_type": "stream",
     "text": [
      "Start\n",
      "test winner = playing\n",
      "oooooooooo\n",
      "test winner = o\n",
      "ooooooooo\n",
      "test winner = x\n",
      "oooooooo\n",
      "test winner = draw\n",
      "o\n",
      "Finished\n"
     ]
    }
   ],
   "source": [
    "test_judge()"
   ]
  },
  {
   "cell_type": "code",
   "execution_count": 7,
   "metadata": {},
   "outputs": [],
   "source": [
    "def is_winner(self, player):\n",
    "    # player が勝利していることを表す条件式の計算結果を返す\n",
    "    return self.board[0][0] + self.board[1][0] + self.board[2][0] == player * 3 or \\\n",
    "           self.board[0][1] + self.board[1][1] + self.board[2][1] == player * 3 or \\\n",
    "           self.board[0][2] + self.board[1][2] + self.board[2][2] == player * 3 or \\\n",
    "           self.board[0][0] + self.board[0][1] + self.board[0][2] == player * 3 or \\\n",
    "           self.board[1][0] + self.board[1][1] + self.board[1][2] == player * 3 or \\\n",
    "           self.board[2][0] + self.board[2][1] + self.board[2][2] == player * 3 or \\\n",
    "           self.board[0][0] + self.board[1][1] + self.board[2][2] == player * 3 or \\\n",
    "           self.board[2][0] + self.board[1][1] + self.board[0][2] == player * 3\n",
    "\n",
    "Marubatsu.is_winner = is_winner"
   ]
  },
  {
   "cell_type": "code",
   "execution_count": 8,
   "metadata": {},
   "outputs": [
    {
     "name": "stdout",
     "output_type": "stream",
     "text": [
      "Start\n",
      "test winner = playing\n",
      "oooooooooo\n",
      "test winner = o\n",
      "ooooooooo\n",
      "test winner = x\n",
      "oooooooo\n",
      "test winner = draw\n",
      "o\n",
      "Finished\n"
     ]
    }
   ],
   "source": [
    "test_judge()"
   ]
  },
  {
   "cell_type": "code",
   "execution_count": 9,
   "metadata": {},
   "outputs": [],
   "source": [
    "def is_winner(self, player):\n",
    "    wintext = player * 3\n",
    "    # player が勝利していることを表す条件式の計算結果を返す\n",
    "    return self.board[0][0] + self.board[1][0] + self.board[2][0] == wintext or \\\n",
    "           self.board[0][1] + self.board[1][1] + self.board[2][1] == wintext or \\\n",
    "           self.board[0][2] + self.board[1][2] + self.board[2][2] == wintext or \\\n",
    "           self.board[0][0] + self.board[0][1] + self.board[0][2] == wintext or \\\n",
    "           self.board[1][0] + self.board[1][1] + self.board[1][2] == wintext or \\\n",
    "           self.board[2][0] + self.board[2][1] + self.board[2][2] == wintext or \\\n",
    "           self.board[0][0] + self.board[1][1] + self.board[2][2] == wintext or \\\n",
    "           self.board[2][0] + self.board[1][1] + self.board[0][2] == wintext\n",
    "\n",
    "Marubatsu.is_winner = is_winner"
   ]
  },
  {
   "cell_type": "code",
   "execution_count": 10,
   "metadata": {},
   "outputs": [
    {
     "name": "stdout",
     "output_type": "stream",
     "text": [
      "Start\n",
      "test winner = playing\n",
      "oooooooooo\n",
      "test winner = o\n",
      "ooooooooo\n",
      "test winner = x\n",
      "oooooooo\n",
      "test winner = draw\n",
      "o\n",
      "Finished\n"
     ]
    }
   ],
   "source": [
    "test_judge()"
   ]
  },
  {
   "cell_type": "code",
   "execution_count": 11,
   "metadata": {},
   "outputs": [],
   "source": [
    "judge_coords_list = [\n",
    "    [ 0, 0, 1, 0, 2, 0 ],\n",
    "    [ 0, 1, 1, 1, 2, 1 ],\n",
    "    [ 0, 2, 1, 2, 2, 2 ],\n",
    "    [ 0, 0, 0, 1, 0, 2 ],\n",
    "    [ 1, 0, 1, 1, 1, 2 ],\n",
    "    [ 2, 0, 2, 1, 2, 2 ],\n",
    "    [ 0, 0, 1, 1, 2, 2 ],\n",
    "    [ 2, 0, 1, 1, 0, 2 ],\n",
    "]"
   ]
  },
  {
   "cell_type": "code",
   "execution_count": 12,
   "metadata": {},
   "outputs": [],
   "source": [
    "def is_winner(self, player):\n",
    "    # 一直線上のマスの座標を表すデータを集めた list\n",
    "    judge_coords_list = [\n",
    "        [ 0, 0, 1, 0, 2, 0 ],\n",
    "        [ 0, 1, 1, 1, 2, 1 ],\n",
    "        [ 0, 2, 1, 2, 2, 2 ],\n",
    "        [ 0, 0, 0, 1, 0, 2 ],\n",
    "        [ 1, 0, 1, 1, 1, 2 ],\n",
    "        [ 2, 0, 2, 1, 2, 2 ],\n",
    "        [ 0, 0, 1, 1, 2, 2 ],\n",
    "        [ 2, 0, 1, 1, 0, 2 ],\n",
    "    ]\n",
    "\n",
    "    # 一直線上のマスの座標を順番に取り出す繰り返し処理\n",
    "    for x1, y1, x2, y2, x3, y3 in judge_coords_list:\n",
    "        # 取り出した一直線上のマスに player が配置されているかどうかを判定する\n",
    "        if self.board[x1][y1] == self.board[x2][y2] == self.board[x3][y3] == player:\n",
    "            # 並んでいれば player の勝利なので True を返す\n",
    "            return True\n",
    "\n",
    "    # どの一直線上にも配置されていない場合は、player は勝利していないので False を返す\n",
    "    return False\n",
    "\n",
    "Marubatsu.is_winner = is_winner"
   ]
  },
  {
   "cell_type": "code",
   "execution_count": 13,
   "metadata": {},
   "outputs": [
    {
     "name": "stdout",
     "output_type": "stream",
     "text": [
      "Start\n",
      "test winner = playing\n",
      "oooooooooo\n",
      "test winner = o\n",
      "ooooooooo\n",
      "test winner = x\n",
      "oooooooo\n",
      "test winner = draw\n",
      "o\n",
      "Finished\n"
     ]
    }
   ],
   "source": [
    "test_judge()"
   ]
  },
  {
   "cell_type": "code",
   "execution_count": 14,
   "metadata": {},
   "outputs": [],
   "source": [
    "def is_same(self, coords, mark):\n",
    "    for x, y in coords:\n",
    "        if self.board[x][y] != mark:\n",
    "            return False\n",
    "    return True\n",
    "\n",
    "Marubatsu.is_same = is_same"
   ]
  },
  {
   "cell_type": "code",
   "execution_count": 15,
   "metadata": {},
   "outputs": [],
   "source": [
    "def is_winner(self, player):\n",
    "    # 一直線上のマスの座標を表すデータを集めた list\n",
    "    judge_coords_list = [\n",
    "        [ [0, 0], [1, 0], [2, 0] ],\n",
    "        [ [0, 1], [1, 1], [2, 1] ],\n",
    "        [ [0, 2], [1, 2], [2, 2] ],\n",
    "        [ [0, 0], [0, 1], [0, 2] ],\n",
    "        [ [1, 0], [1, 1], [1, 2] ],\n",
    "        [ [2, 0], [2, 1], [2, 2] ],\n",
    "        [ [0, 0], [1, 1], [2, 2] ],\n",
    "        [ [2, 0], [1, 1], [0, 2] ],\n",
    "    ]\n",
    "\n",
    "    # 一直線上のマスの座標を順番に取り出す繰り返し処理\n",
    "    for coords in judge_coords_list:\n",
    "        # 取り出した一直線上のマスに player が配置されているかどうかを判定する\n",
    "        if self.is_same(coords, player):\n",
    "            # 並んでいれば player の勝利なので True を返す\n",
    "            return True\n",
    "\n",
    "    # どの一直線上にも配置されていない場合は、player は勝利していないので False を返す\n",
    "    return False\n",
    "\n",
    "Marubatsu.is_winner = is_winner"
   ]
  },
  {
   "cell_type": "code",
   "execution_count": 16,
   "metadata": {},
   "outputs": [
    {
     "name": "stdout",
     "output_type": "stream",
     "text": [
      "Start\n",
      "test winner = playing\n",
      "oooooooooo\n",
      "test winner = o\n",
      "ooooooooo\n",
      "test winner = x\n",
      "oooooooo\n",
      "test winner = draw\n",
      "o\n",
      "Finished\n"
     ]
    }
   ],
   "source": [
    "test_judge()"
   ]
  },
  {
   "cell_type": "code",
   "execution_count": 17,
   "metadata": {},
   "outputs": [],
   "source": [
    "def is_winner(self, player):\n",
    "    # 一直線上のマスの座標を表すデータを集めた list\n",
    "    judge_coords_list = [\n",
    "        \"A1,B1,C1\",\n",
    "        \"A2,B2,C2\",\n",
    "        \"A3,B3,C3\",\n",
    "        \"A1,A2,A3\",\n",
    "        \"B1,B2,B3\",\n",
    "        \"C1,C2,C3\",\n",
    "        \"A1,B2,C3\",\n",
    "        \"C1,B2,A3\",\n",
    "    ]\n",
    "\n",
    "    # 一直線上のマスの座標を順番に取り出す繰り返し処理\n",
    "    for coords in judge_coords_list:\n",
    "        # 取り出した一直線上のマスに player が配置されているかどうかを判定する\n",
    "        if self.is_same(coords, player):\n",
    "            # 並んでいれば player の勝利なので True を返す\n",
    "            return True\n",
    "\n",
    "    # どの一直線上にも配置されていない場合は、player は勝利していないので False を返す\n",
    "    return False\n",
    "\n",
    "Marubatsu.is_winner = is_winner"
   ]
  },
  {
   "cell_type": "code",
   "execution_count": 18,
   "metadata": {},
   "outputs": [],
   "source": [
    "def is_same(self, coords, mark):\n",
    "    for coord in coords.split(\",\"):\n",
    "        x, y = excel_to_xy(coord)\n",
    "        if self.board[x][y] != mark:\n",
    "            return False\n",
    "    return True\n",
    "\n",
    "Marubatsu.is_same = is_same"
   ]
  },
  {
   "cell_type": "code",
   "execution_count": 19,
   "metadata": {},
   "outputs": [
    {
     "name": "stdout",
     "output_type": "stream",
     "text": [
      "Start\n",
      "test winner = playing\n",
      "oooooooooo\n",
      "test winner = o\n",
      "ooooooooo\n",
      "test winner = x\n",
      "oooooooo\n",
      "test winner = draw\n",
      "o\n",
      "Finished\n"
     ]
    }
   ],
   "source": [
    "test_judge()"
   ]
  },
  {
   "cell_type": "markdown",
   "metadata": {},
   "source": [
    "is_same を元に戻します"
   ]
  },
  {
   "cell_type": "code",
   "execution_count": 20,
   "metadata": {},
   "outputs": [],
   "source": [
    "def is_same(self, coords, mark):\n",
    "    for x, y in coords:\n",
    "        if self.board[x][y] != mark:\n",
    "            return False\n",
    "    return True\n",
    "\n",
    "Marubatsu.is_same = is_same"
   ]
  },
  {
   "cell_type": "code",
   "execution_count": 21,
   "metadata": {},
   "outputs": [
    {
     "name": "stdout",
     "output_type": "stream",
     "text": [
      "[[0, 0], [1, 0], [2, 0]]\n"
     ]
    }
   ],
   "source": [
    "coords = []\n",
    "for x in range(3):\n",
    "    coords.append([x, 0])\n",
    "print(coords)"
   ]
  },
  {
   "cell_type": "code",
   "execution_count": 22,
   "metadata": {},
   "outputs": [
    {
     "name": "stdout",
     "output_type": "stream",
     "text": [
      "[[0, 0], [1, 0], [2, 0]]\n"
     ]
    }
   ],
   "source": [
    "coords = [[x, 0] for x in range(3)]\n",
    "print(coords)"
   ]
  },
  {
   "cell_type": "code",
   "execution_count": 23,
   "metadata": {},
   "outputs": [
    {
     "name": "stdout",
     "output_type": "stream",
     "text": [
      "[[[0, 0], [1, 0], [2, 0]], [[0, 1], [1, 1], [2, 1]], [[0, 2], [1, 2], [2, 2]]]\n"
     ]
    }
   ],
   "source": [
    "judge_coords_list = []\n",
    "for y in range(3):\n",
    "    judge_coords_list.append([[x, y] for x in range(3)])\n",
    "print(judge_coords_list)"
   ]
  },
  {
   "cell_type": "code",
   "execution_count": 24,
   "metadata": {},
   "outputs": [
    {
     "name": "stdout",
     "output_type": "stream",
     "text": [
      "[[[0, 0], [1, 0], [2, 0]], [[0, 1], [1, 1], [2, 1]], [[0, 2], [1, 2], [2, 2]]]\n"
     ]
    }
   ],
   "source": [
    "judge_coords_list = [[[x, y] for x in range(3)] for y in range(3)]\n",
    "print(judge_coords_list)"
   ]
  },
  {
   "cell_type": "code",
   "execution_count": 25,
   "metadata": {},
   "outputs": [
    {
     "name": "stdout",
     "output_type": "stream",
     "text": [
      "[[[0, 0], [0, 1], [0, 2]], [[1, 0], [1, 1], [1, 2]], [[2, 0], [2, 1], [2, 2]]]\n"
     ]
    }
   ],
   "source": [
    "judge_coords_list = []\n",
    "for x in range(3):\n",
    "    judge_coords_list.append([[x, y] for y in range(3)])\n",
    "print(judge_coords_list)"
   ]
  },
  {
   "cell_type": "code",
   "execution_count": 26,
   "metadata": {},
   "outputs": [
    {
     "name": "stdout",
     "output_type": "stream",
     "text": [
      "5\n",
      "5\n"
     ]
    }
   ],
   "source": [
    "a = 1\n",
    "b = 2\n",
    "print(a * 3 + b)\n",
    "b = 1\n",
    "a = 2\n",
    "print(b * 3 + a)"
   ]
  },
  {
   "cell_type": "code",
   "execution_count": 27,
   "metadata": {},
   "outputs": [
    {
     "name": "stdout",
     "output_type": "stream",
     "text": [
      "5\n",
      "7\n"
     ]
    }
   ],
   "source": [
    "a = 1\n",
    "b = 2\n",
    "print(a * 3 + b)\n",
    "b = 1\n",
    "a = 2\n",
    "print(a * 3 + b)"
   ]
  },
  {
   "cell_type": "code",
   "execution_count": 28,
   "metadata": {},
   "outputs": [
    {
     "name": "stdout",
     "output_type": "stream",
     "text": [
      "[[[0, 0], [1, 0], [2, 0]], [[0, 1], [1, 1], [2, 1]], [[0, 2], [1, 2], [2, 2]], [[0, 0], [0, 1], [0, 2]], [[1, 0], [1, 1], [1, 2]], [[2, 0], [2, 1], [2, 2]]]\n"
     ]
    }
   ],
   "source": [
    "judge_coords_list = []\n",
    "# 横方向の座標を追加する\n",
    "for y in range(3):\n",
    "    judge_coords_list.append([[x, y] for x in range(3)])\n",
    "# 縦方向の座標を追加する\n",
    "for x in range(3):\n",
    "    judge_coords_list.append([[x, y] for y in range(3)])\n",
    "print(judge_coords_list)"
   ]
  },
  {
   "cell_type": "code",
   "execution_count": 29,
   "metadata": {},
   "outputs": [
    {
     "name": "stdout",
     "output_type": "stream",
     "text": [
      "[[0, 0], [1, 1], [2, 2]]\n"
     ]
    }
   ],
   "source": [
    "coords = [[x, x] for x in range(3)]\n",
    "print(coords)"
   ]
  },
  {
   "cell_type": "code",
   "execution_count": 30,
   "metadata": {},
   "outputs": [
    {
     "name": "stdout",
     "output_type": "stream",
     "text": [
      "[[0, 0], [1, 1], [2, 2]]\n"
     ]
    }
   ],
   "source": [
    "coords = [[y, y] for y in range(3)]\n",
    "print(coords)"
   ]
  },
  {
   "cell_type": "code",
   "execution_count": 31,
   "metadata": {},
   "outputs": [
    {
     "name": "stdout",
     "output_type": "stream",
     "text": [
      "[[2, 0], [1, 1], [0, 2]]\n"
     ]
    }
   ],
   "source": [
    "coords = [[2 - y, y] for y in range(3)]\n",
    "print(coords)"
   ]
  },
  {
   "cell_type": "code",
   "execution_count": 32,
   "metadata": {},
   "outputs": [
    {
     "name": "stdout",
     "output_type": "stream",
     "text": [
      "[[0, 2], [1, 1], [2, 0]]\n"
     ]
    }
   ],
   "source": [
    "coords = [[x, 2 - x] for x in range(3)]\n",
    "print(coords)"
   ]
  },
  {
   "cell_type": "code",
   "execution_count": 33,
   "metadata": {},
   "outputs": [
    {
     "name": "stdout",
     "output_type": "stream",
     "text": [
      "[[2, 0], [1, 1], [0, 2]]\n"
     ]
    }
   ],
   "source": [
    "coords = [[x, 2 - x] for x in range(2, -1, -1)]\n",
    "print(coords)\n"
   ]
  },
  {
   "cell_type": "code",
   "execution_count": 34,
   "metadata": {},
   "outputs": [
    {
     "name": "stdout",
     "output_type": "stream",
     "text": [
      "[[[0, 0], [1, 0], [2, 0]], [[0, 1], [1, 1], [2, 1]], [[0, 2], [1, 2], [2, 2]], [[0, 0], [0, 1], [0, 2]], [[1, 0], [1, 1], [1, 2]], [[2, 0], [2, 1], [2, 2]], [[0, 0], [1, 1], [2, 2]], [[2, 0], [1, 1], [0, 2]]]\n"
     ]
    }
   ],
   "source": [
    "judge_coords_list = []\n",
    "# 横方向の座標を追加する\n",
    "for y in range(3):\n",
    "    judge_coords_list.append([[x, y] for x in range(3)])\n",
    "# 縦方向の座標を追加する\n",
    "for x in range(3):\n",
    "    judge_coords_list.append([[x, y] for y in range(3)])\n",
    "# 左上から右下方向の座標を追加する\n",
    "judge_coords_list.append([[x, x] for x in range(3)])\n",
    "# 右上から左下方向の座標を追加する\n",
    "judge_coords_list.append([[2 - y, y] for y in range(3)])\n",
    "print(judge_coords_list)"
   ]
  },
  {
   "cell_type": "code",
   "execution_count": 35,
   "metadata": {},
   "outputs": [
    {
     "name": "stdout",
     "output_type": "stream",
     "text": [
      "[[[0, 0], [1, 0], [2, 0]], [[0, 2], [1, 2], [2, 2]], [[0, 1], [1, 1], [2, 1]], [[0, 2], [1, 2], [2, 2]], [[0, 2], [1, 2], [2, 2]], [[0, 2], [1, 2], [2, 2]], [[0, 0], [1, 1], [2, 2]], [[2, 0], [1, 1], [0, 2]]]\n"
     ]
    }
   ],
   "source": [
    "judge_coords_list = []\n",
    "for y in range(3):\n",
    "    # 横方向の座標を追加する\n",
    "    judge_coords_list.append([[x, y] for x in range(3)])\n",
    "    # 縦方向の座標を追加する\n",
    "    judge_coords_list.append([[y, x] for y in range(3)])\n",
    "# 左上から右下方向の座標を追加する\n",
    "judge_coords_list.append([[x, x] for x in range(3)])\n",
    "# 右上から左下方向の座標を追加する\n",
    "judge_coords_list.append([[2 - y, y] for y in range(3)])\n",
    "print(judge_coords_list)"
   ]
  },
  {
   "cell_type": "code",
   "execution_count": 36,
   "metadata": {},
   "outputs": [],
   "source": [
    "def is_winner(self, player):\n",
    "    # 一直線上のマスの座標を表すデータを集めた list を代入する変数を空の list で初期化する\n",
    "    judge_coords_list = []\n",
    "    # 横方向の座標を追加する\n",
    "    for y in range(self.BOARD_SIZE):\n",
    "        judge_coords_list.append([[x, y] for x in range(self.BOARD_SIZE)])\n",
    "    # 縦方向の座標を追加する\n",
    "    for x in range(self.BOARD_SIZE):\n",
    "        judge_coords_list.append([[x, y] for y in range(self.BOARD_SIZE)])\n",
    "    # 左上から右下方向の座標を追加する\n",
    "    judge_coords_list.append([[x, x] for x in range(self.BOARD_SIZE)])\n",
    "    # 右上から左下方向の座標を追加する\n",
    "    judge_coords_list.append([[self.BOARD_SIZE - 1 - y, y] for y in range(self.BOARD_SIZE)])\n",
    "\n",
    "    # 一直線上のマスの座標を順番に取り出す繰り返し処理\n",
    "    for coords in judge_coords_list:\n",
    "        # 取り出した一直線上のマスに player が配置されているかどうかを判定する\n",
    "        if self.is_same(coords, player):\n",
    "            # 並んでいれば player の勝利なので True を返す\n",
    "            return True\n",
    "\n",
    "    # どの一直線上にも配置されていない場合は、player は勝利していないので False を返す\n",
    "    return False\n",
    "\n",
    "Marubatsu.is_winner = is_winner"
   ]
  },
  {
   "cell_type": "code",
   "execution_count": 37,
   "metadata": {},
   "outputs": [
    {
     "name": "stdout",
     "output_type": "stream",
     "text": [
      "Start\n",
      "test winner = playing\n",
      "oooooooooo\n",
      "test winner = o\n",
      "ooooooooo\n",
      "test winner = x\n",
      "oooooooo\n",
      "test winner = draw\n",
      "o\n",
      "Finished\n"
     ]
    }
   ],
   "source": [
    "test_judge()"
   ]
  },
  {
   "cell_type": "code",
   "execution_count": 38,
   "metadata": {},
   "outputs": [],
   "source": [
    "def is_same(self, mark, coord, dx, dy):\n",
    "    x, y = coord   \n",
    "    for _ in range(self.BOARD_SIZE):\n",
    "        if self.board[x][y] != mark:\n",
    "            return False\n",
    "        x += dx\n",
    "        y += dy\n",
    "\n",
    "    return True\n",
    "\n",
    "Marubatsu.is_same = is_same"
   ]
  },
  {
   "cell_type": "code",
   "execution_count": 39,
   "metadata": {},
   "outputs": [
    {
     "name": "stdout",
     "output_type": "stream",
     "text": [
      "[{'coord': [0, 0], 'dx': 1, 'dy': 0},\n",
      " {'coord': [0, 1], 'dx': 1, 'dy': 0},\n",
      " {'coord': [0, 2], 'dx': 1, 'dy': 0}]\n"
     ]
    }
   ],
   "source": [
    "from pprint import pprint\n",
    "\n",
    "judge_data_list = []\n",
    "# 横方向の座標を作成するために必要なデータを追加する\n",
    "for y in range(3):\n",
    "    judge_data_list.append({ \"coord\": [0, y], \"dx\": 1, \"dy\": 0 })\n",
    "pprint(judge_data_list)"
   ]
  },
  {
   "cell_type": "code",
   "execution_count": 40,
   "metadata": {},
   "outputs": [
    {
     "name": "stdout",
     "output_type": "stream",
     "text": [
      "[{'coord': [0, 0], 'dx': 1, 'dy': 0},\n",
      " {'coord': [0, 1], 'dx': 1, 'dy': 0},\n",
      " {'coord': [0, 2], 'dx': 1, 'dy': 0},\n",
      " {'coord': [0, 0], 'dx': 0, 'dy': 1},\n",
      " {'coord': [1, 0], 'dx': 0, 'dy': 1},\n",
      " {'coord': [2, 0], 'dx': 0, 'dy': 1},\n",
      " {'coord': [0, 0], 'dx': 1, 'dy': 1},\n",
      " {'coord': [2, 0], 'dx': -1, 'dy': 1}]\n"
     ]
    }
   ],
   "source": [
    "# 縦方向の座標を作成するために必要なデータを追加する\n",
    "for x in range(3):\n",
    "    judge_data_list.append({ \"coord\": [x, 0], \"dx\": 0, \"dy\": 1 })\n",
    "# 左上から右下方向の座標を追加する\n",
    "judge_data_list.append({ \"coord\": [0, 0], \"dx\": 1, \"dy\": 1 })\n",
    "# 右上から左下方向の座標を追加する\n",
    "judge_data_list.append({ \"coord\": [2, 0], \"dx\": -1, \"dy\": 1 })    \n",
    "pprint(judge_data_list)"
   ]
  },
  {
   "cell_type": "code",
   "execution_count": 41,
   "metadata": {},
   "outputs": [],
   "source": [
    "def is_winner(self, player):\n",
    "    # 一直線上のマスの座標を作成するためのデータを集めた list を代入する変数を空の list で初期化する\n",
    "    judge_data_list = []\n",
    "    # 横方向の座標を作成するために必要なデータを追加する\n",
    "    for y in range(self.BOARD_SIZE):\n",
    "        judge_data_list.append({ \"coord\": [0, y], \"dx\": 1, \"dy\": 0 })\n",
    "    # 縦方向の座標を作成するために必要なデータを追加する\n",
    "    for x in range(self.BOARD_SIZE):\n",
    "        judge_data_list.append({ \"coord\": [x, 0], \"dx\": 0, \"dy\": 1 })\n",
    "    # 左上から右下方向の座標を追加する\n",
    "    judge_data_list.append({ \"coord\": [0, 0], \"dx\": 1, \"dy\": 1 })\n",
    "    # 右上から左下方向の座標を追加する\n",
    "    judge_data_list.append({ \"coord\": [2, 0], \"dx\": -1, \"dy\": 1 })     \n",
    "\n",
    "    # 一直線上のマスの座標作成するためのデータを順番に取り出す繰り返し処理\n",
    "    for judge_data in judge_data_list:\n",
    "        # 取り出した一直線上のマスに player が配置されているかどうかを判定する\n",
    "        if self.is_same(player, judge_data[\"coord\"], judge_data[\"dx\"], judge_data[\"dy\"]):\n",
    "            # 並んでいれば player の勝利なので True を返す\n",
    "            return True\n",
    "\n",
    "    # どの一直線上にも配置されていない場合は、player は勝利していないので False を返す\n",
    "    return False\n",
    "\n",
    "Marubatsu.is_winner = is_winner"
   ]
  },
  {
   "cell_type": "code",
   "execution_count": 42,
   "metadata": {},
   "outputs": [
    {
     "name": "stdout",
     "output_type": "stream",
     "text": [
      "Start\n",
      "test winner = playing\n",
      "oooooooooo\n",
      "test winner = o\n",
      "ooooooooo\n",
      "test winner = x\n",
      "oooooooo\n",
      "test winner = draw\n",
      "o\n",
      "Finished\n"
     ]
    }
   ],
   "source": [
    "test_judge()"
   ]
  },
  {
   "cell_type": "code",
   "execution_count": 43,
   "metadata": {},
   "outputs": [
    {
     "name": "stdout",
     "output_type": "stream",
     "text": [
      "False\n",
      "False\n"
     ]
    }
   ],
   "source": [
    "mb = Marubatsu()\n",
    "judge_data = { \"coord\": [0, 0], \"dx\": 1, \"dy\": 0 }\n",
    "print(mb.is_same(Marubatsu.CIRCLE, **judge_data))\n",
    "print(mb.is_same(Marubatsu.CIRCLE, coord=[0, 0], dx=1, dy=0))"
   ]
  },
  {
   "cell_type": "code",
   "execution_count": 44,
   "metadata": {},
   "outputs": [
    {
     "ename": "SyntaxError",
     "evalue": "positional argument follows keyword argument unpacking (1600956498.py, line 1)",
     "output_type": "error",
     "traceback": [
      "\u001b[1;36m  Cell \u001b[1;32mIn[44], line 1\u001b[1;36m\u001b[0m\n\u001b[1;33m    print(mb.is_same(**judge_data, Marubatsu.CIRCLE))\u001b[0m\n\u001b[1;37m                                                   ^\u001b[0m\n\u001b[1;31mSyntaxError\u001b[0m\u001b[1;31m:\u001b[0m positional argument follows keyword argument unpacking\n"
     ]
    }
   ],
   "source": [
    "print(mb.is_same(**judge_data, Marubatsu.CIRCLE))"
   ]
  },
  {
   "cell_type": "code",
   "execution_count": 45,
   "metadata": {},
   "outputs": [],
   "source": [
    "def is_winner(self, player):\n",
    "    # 一直線上のマスの座標を作成するためのデータを集めた list を代入する変数を空の list で初期化する\n",
    "    judge_data_list = []\n",
    "    # 横方向の座標を作成するために必要なデータを追加する\n",
    "    for y in range(self.BOARD_SIZE):\n",
    "        judge_data_list.append({ \"coord\": [0, y], \"dx\": 1, \"dy\": 0 })\n",
    "    # 縦方向の座標を作成するために必要なデータを追加する\n",
    "    for x in range(self.BOARD_SIZE):\n",
    "        judge_data_list.append({ \"coord\": [x, 0], \"dx\": 0, \"dy\": 1 })\n",
    "    # 左上から右下方向の座標を追加する\n",
    "    judge_data_list.append({ \"coord\": [0, 0], \"dx\": 1, \"dy\": 1 })\n",
    "    # 右上から左下方向の座標を追加する\n",
    "    judge_data_list.append({ \"coord\": [2, 0], \"dx\": -1, \"dy\": 1 })     \n",
    "\n",
    "    # 一直線上のマスの座標作成するためのデータを順番に取り出す繰り返し処理\n",
    "    for judge_data in judge_data_list:\n",
    "        # 取り出した一直線上のマスに player が配置されているかどうかを判定する\n",
    "        if self.is_same(player, **judge_data):\n",
    "            # 並んでいれば player の勝利なので True を返す\n",
    "            return True\n",
    "\n",
    "    # どの一直線上にも配置されていない場合は、player は勝利していないので False を返す\n",
    "    return False\n",
    "\n",
    "Marubatsu.is_winner = is_winner"
   ]
  },
  {
   "cell_type": "code",
   "execution_count": 46,
   "metadata": {},
   "outputs": [
    {
     "name": "stdout",
     "output_type": "stream",
     "text": [
      "Start\n",
      "test winner = playing\n",
      "oooooooooo\n",
      "test winner = o\n",
      "ooooooooo\n",
      "test winner = x\n",
      "oooooooo\n",
      "test winner = draw\n",
      "o\n",
      "Finished\n"
     ]
    }
   ],
   "source": [
    "test_judge()"
   ]
  }
 ],
 "metadata": {
  "kernelspec": {
   "display_name": "marubatsu",
   "language": "python",
   "name": "python3"
  },
  "language_info": {
   "codemirror_mode": {
    "name": "ipython",
    "version": 3
   },
   "file_extension": ".py",
   "mimetype": "text/x-python",
   "name": "python",
   "nbconvert_exporter": "python",
   "pygments_lexer": "ipython3",
   "version": "3.11.4"
  }
 },
 "nbformat": 4,
 "nbformat_minor": 2
}
