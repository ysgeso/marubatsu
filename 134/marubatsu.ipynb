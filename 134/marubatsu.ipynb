{
 "cells": [
  {
   "cell_type": "code",
   "execution_count": 1,
   "metadata": {},
   "outputs": [],
   "source": [
    "from marubatsu import Marubatsu_GUI\n",
    "import ipywidgets as widgets\n",
    "from copy import deepcopy\n",
    "\n",
    "def create_dropdown(self):\n",
    "    # それぞれの手番の担当を表す Dropdown の項目の値を記録する list を初期化する\n",
    "    select_values = []\n",
    "    # 〇 と × の Dropdown を格納する list\n",
    "    self.dropdown_list = []\n",
    "    # ai に代入されている内容を ai_dict に追加する\n",
    "    for i in range(2):\n",
    "        value = ( self.mb.ai[i], self.params[i] )\n",
    "        # value を select_values に常に登録する\n",
    "        select_values.append(value)\n",
    "        # value が ai_values に登録済かどうかを判定する\n",
    "        if value not in self.ai_dict.values():\n",
    "            # 項目を登録する\n",
    "            self.ai_dict[self.names[i]] = value\n",
    "\n",
    "    for i in range(2):\n",
    "        # Dropdown の description を計算する\n",
    "        description = \"〇\" if i == 0 else \"×\"\n",
    "        self.dropdown_list.append(\n",
    "            widgets.Dropdown(\n",
    "                options=self.ai_dict,\n",
    "                description=description,\n",
    "                layout=widgets.Layout(width=\"100px\"),\n",
    "                style={\"description_width\": \"20px\"},\n",
    "                value=select_values[i],\n",
    "            )\n",
    "        ) \n",
    "            \n",
    "    self.ai_dict[\"手番の AI\"] = (\"Auto\", None)\n",
    "    self.ai_dict[\"ai1s\"] = None\n",
    "    self.status_dropdown = widgets.Dropdown(\n",
    "        options=self.ai_dict,\n",
    "        layout=widgets.Layout(width=\"100px\"),\n",
    "        style={\"description_width\": \"20px\"},\n",
    "        value=select_values[0],\n",
    "    )   \n",
    "   \n",
    "Marubatsu_GUI.create_dropdown = create_dropdown"
   ]
  },
  {
   "cell_type": "code",
   "execution_count": 2,
   "metadata": {},
   "outputs": [
    {
     "data": {
      "application/vnd.jupyter.widget-view+json": {
       "model_id": "7544ea59e4c149888d68272cb66dbcdb",
       "version_major": 2,
       "version_minor": 0
      },
      "text/plain": [
       "VBox(children=(HBox(children=(Checkbox(value=False, description='乱数の種', indent=False, layout=Layout(width='100…"
      ]
     },
     "metadata": {},
     "output_type": "display_data"
    },
    {
     "data": {
      "application/vnd.jupyter.widget-view+json": {
       "model_id": "2ab5a0b452ed4f1b8857af23eb41712d",
       "version_major": 2,
       "version_minor": 0
      },
      "text/plain": [
       "VBox(children=(Output(layout=Layout(display='none')), HBox(children=(Label(value='', layout=Layout(width='50px…"
      ]
     },
     "metadata": {},
     "output_type": "display_data"
    }
   ],
   "source": [
    "from util import gui_play\n",
    "\n",
    "gui_play()"
   ]
  },
  {
   "cell_type": "code",
   "execution_count": 3,
   "metadata": {},
   "outputs": [],
   "source": [
    "def create_dropdown(self):\n",
    "    # それぞれの手番の担当を表す Dropdown の項目の値を記録する list を初期化する\n",
    "    select_values = []\n",
    "    # 〇 と × の Dropdown を格納する list\n",
    "    self.dropdown_list = []\n",
    "    # ai に代入されている内容を ai_dict に追加する\n",
    "    for i in range(2):\n",
    "        value = ( self.mb.ai[i], self.params[i] )\n",
    "        # value を select_values に常に登録する\n",
    "        select_values.append(value)\n",
    "        # value が ai_values に登録済かどうかを判定する\n",
    "        if value not in self.ai_dict.values():\n",
    "            # 項目を登録する\n",
    "            self.ai_dict[self.names[i]] = value\n",
    "\n",
    "    for i in range(2):\n",
    "        # Dropdown の description を計算する\n",
    "        description = \"〇\" if i == 0 else \"×\"\n",
    "        self.dropdown_list.append(\n",
    "            widgets.Dropdown(\n",
    "                options=self.ai_dict,\n",
    "                description=description,\n",
    "                layout=widgets.Layout(width=\"100px\"),\n",
    "                style={\"description_width\": \"20px\"},\n",
    "                value=select_values[i],\n",
    "            )\n",
    "        ) \n",
    "            \n",
    "    self.status_ai_dict = self.ai_dict.copy()\n",
    "    self.status_ai_dict[\"手番の AI\"] = (\"Auto\", None)\n",
    "    self.status_dropdown = widgets.Dropdown(\n",
    "        options=self.status_ai_dict,\n",
    "        layout=widgets.Layout(width=\"100px\"),\n",
    "        style={\"description_width\": \"20px\"},\n",
    "        value=select_values[0],\n",
    "    )   \n",
    "   \n",
    "Marubatsu_GUI.create_dropdown = create_dropdown"
   ]
  },
  {
   "cell_type": "code",
   "execution_count": 4,
   "metadata": {},
   "outputs": [
    {
     "data": {
      "application/vnd.jupyter.widget-view+json": {
       "model_id": "01b6c808a366491b9b065fb971d26873",
       "version_major": 2,
       "version_minor": 0
      },
      "text/plain": [
       "VBox(children=(HBox(children=(Checkbox(value=False, description='乱数の種', indent=False, layout=Layout(width='100…"
      ]
     },
     "metadata": {},
     "output_type": "display_data"
    },
    {
     "data": {
      "application/vnd.jupyter.widget-view+json": {
       "model_id": "fb4d573aabcf408ca88d9e3073fdd62c",
       "version_major": 2,
       "version_minor": 0
      },
      "text/plain": [
       "VBox(children=(Output(layout=Layout(display='none')), HBox(children=(Label(value='', layout=Layout(width='50px…"
      ]
     },
     "metadata": {},
     "output_type": "display_data"
    }
   ],
   "source": [
    "gui_play()"
   ]
  },
  {
   "cell_type": "code",
   "execution_count": 5,
   "metadata": {},
   "outputs": [],
   "source": [
    "import math\n",
    "import pickle\n",
    "from tkinter import Tk, filedialog\n",
    "\n",
    "def create_event_handler(self):\n",
    "    # 乱数の種のチェックボックスのイベントハンドラを定義する\n",
    "    def on_checkbox_changed(changed):\n",
    "        self.update_widgets_status()\n",
    "        \n",
    "    self.checkbox.observe(on_checkbox_changed, names=\"value\")\n",
    "\n",
    "    # 開く、保存ボタンのイベントハンドラを定義する\n",
    "    def on_load_button_clicked(b=None):\n",
    "        path = filedialog.askopenfilename(filetypes=[(\"〇×ゲーム\", \"*.mbsav\")],\n",
    "                                        initialdir=\"save\")\n",
    "        if path != \"\":\n",
    "            with open(path, \"rb\") as f:\n",
    "                data = pickle.load(f)\n",
    "                self.mb.records = data[\"records\"]\n",
    "                self.mb.ai = data[\"ai\"]\n",
    "                self.params = data[\"params\"] if \"params\" in data else [ {}, {} ]\n",
    "                if \"names\" in data:\n",
    "                    names = data[\"names\"]\n",
    "                else:\n",
    "                    names = [ \"人間\" if self.mb.ai[i] is None else self.mb.ai[i].__name__ for i in range(2)]                       \n",
    "                options = self.dropdown_list[0].options.copy()\n",
    "                for i in range(2):\n",
    "                    value = (self.mb.ai[i], self.params[i]) \n",
    "                    if not value in options.values():\n",
    "                        options[names[i]] = value\n",
    "                for i in range(2):\n",
    "                    self.dropdown_list[i].options = options\n",
    "                    self.dropdown_list[i].value = (self.mb.ai[i], self.params[i])            \n",
    "                status_options = options.copy()\n",
    "                status_options[\"手番の AI\"] = (\"Auto\", None)\n",
    "                self.status_dropdown.options = status_options\n",
    "                change_step(data[\"move_count\"])\n",
    "                if data[\"seed\"] is not None:                   \n",
    "                    self.checkbox.value = True\n",
    "                    self.inttext.value = data[\"seed\"]\n",
    "                else:\n",
    "                    self.checkbox.value = False\n",
    "                    \n",
    "    def on_save_button_clicked(b=None):\n",
    "        names = [ self.dropdown_list[i].label for i in range(2) ]     \n",
    "        timestr = datetime.now().strftime(\"%Y年%m月%d日 %H時%M分%S秒\")\n",
    "        fname = f\"{names[0]} VS {names[1]} {timestr}\"\n",
    "        path = filedialog.asksaveasfilename(filetypes=[(\"〇×ゲーム\", \"*.mbsav\")],\n",
    "                                            initialdir=\"save\", initialfile=fname,\n",
    "                                            defaultextension=\"mbsav\")\n",
    "        if path != \"\":\n",
    "            with open(path, \"wb\") as f:\n",
    "                data = {\n",
    "                    \"records\": self.mb.records,\n",
    "                    \"move_count\": self.mb.move_count,\n",
    "                    \"ai\": self.mb.ai,\n",
    "                    \"params\": self.params,\n",
    "                    \"names\": names,\n",
    "                    \"seed\": self.inttext.value if self.checkbox.value else None\n",
    "                }\n",
    "                pickle.dump(data, f)\n",
    "                \n",
    "    def on_show_tree_button_clicked(b=None):\n",
    "        self.show_subtree = not self.show_subtree\n",
    "        self.mbtree_gui.vbox.layout.display = None if self.show_subtree else \"none\"\n",
    "        self.update_gui()\n",
    "        \n",
    "    def on_reset_tree_button_clicked(b=None):\n",
    "        self.update_gui()\n",
    "                \n",
    "    def on_help_button_clicked(b=None):\n",
    "        self.help.layout.display = \"none\" if self.help.layout.display is None else None\n",
    "\n",
    "    self.load_button.on_click(on_load_button_clicked)\n",
    "    self.save_button.on_click(on_save_button_clicked)\n",
    "    self.show_tree_button.on_click(on_show_tree_button_clicked)\n",
    "    self.reset_tree_button.on_click(on_reset_tree_button_clicked)\n",
    "    self.help_button.on_click(on_help_button_clicked)\n",
    "    \n",
    "    def on_show_status_button_clicked(b=None):\n",
    "        self.show_status = not self.show_status\n",
    "        self.update_gui()\n",
    "\n",
    "    def on_status_dropdown_changed(changed):\n",
    "        self.update_gui()\n",
    "\n",
    "    def on_size_slider_changed(changed):\n",
    "        self.size = changed[\"new\"]\n",
    "        self.fig.set_figwidth(self.size)\n",
    "        self.fig.set_figheight(self.size)\n",
    "        self.update_gui()\n",
    "\n",
    "    self.show_status_button.on_click(on_show_status_button_clicked)\n",
    "    self.status_dropdown.observe(on_status_dropdown_changed, names=\"value\")\n",
    "    self.size_slider.observe(on_size_slider_changed, names=\"value\")\n",
    "\n",
    "    # 変更ボタンのイベントハンドラを定義する\n",
    "    def on_change_button_clicked(b):\n",
    "        for i in range(2):\n",
    "            self.mb.ai[i], self.params[i] = self.dropdown_list[i].value\n",
    "        self.mb.play_loop(self, self.params)\n",
    "\n",
    "    # リセットボタンのイベントハンドラを定義する\n",
    "    def on_reset_button_clicked(b=None):\n",
    "        # 乱数の種のチェックボックスが ON の場合に、乱数の種の処理を行う\n",
    "        if self.checkbox.value:\n",
    "            random.seed(self.inttext.value)\n",
    "        self.mb.restart()\n",
    "        self.output.clear_output()\n",
    "        on_change_button_clicked(b)\n",
    "\n",
    "    # 待ったボタンのイベントハンドラを定義する\n",
    "    def on_undo_button_clicked(b=None):\n",
    "        if self.mb.move_count >= 2 and self.mb.move_count == len(self.mb.records) - 1:\n",
    "            self.mb.move_count -= 2\n",
    "            self.mb.records = self.mb.records[0:self.mb.move_count+1]\n",
    "            self.mb.change_step(self.mb.move_count)\n",
    "            self.update_gui()\n",
    "        \n",
    "    # イベントハンドラをボタンに結びつける\n",
    "    self.change_button.on_click(on_change_button_clicked)\n",
    "    self.reset_button.on_click(on_reset_button_clicked)   \n",
    "    self.undo_button.on_click(on_undo_button_clicked)   \n",
    "\n",
    "    # step 手目の局面に移動する\n",
    "    def change_step(step):\n",
    "        self.mb.change_step(step)\n",
    "        # 描画を更新する\n",
    "        self.update_gui()        \n",
    "\n",
    "    def on_first_button_clicked(b=None):\n",
    "        change_step(0)\n",
    "\n",
    "    def on_prev_button_clicked(b=None):\n",
    "        change_step(self.mb.move_count - 1)\n",
    "\n",
    "    def on_next_button_clicked(b=None):\n",
    "        change_step(self.mb.move_count + 1)\n",
    "        \n",
    "    def on_last_button_clicked(b=None):\n",
    "        change_step(len(self.mb.records) - 1)\n",
    "\n",
    "    def on_slider_changed(changed):\n",
    "        if self.mb.move_count != changed[\"new\"]:\n",
    "            change_step(changed[\"new\"])\n",
    "        \n",
    "    self.first_button.on_click(on_first_button_clicked)\n",
    "    self.prev_button.on_click(on_prev_button_clicked)\n",
    "    self.next_button.on_click(on_next_button_clicked)\n",
    "    self.last_button.on_click(on_last_button_clicked)\n",
    "    self.slider.observe(on_slider_changed, names=\"value\")\n",
    "\n",
    "    # ゲーム盤の上でマウスを押した場合のイベントハンドラ\n",
    "    def on_mouse_down(event):\n",
    "        # Axes の上でマウスを押していた場合のみ処理を行う\n",
    "        if event.inaxes and self.mb.status == Marubatsu.PLAYING:\n",
    "            x = math.floor(event.xdata)\n",
    "            y = math.floor(event.ydata)\n",
    "            with self.output:\n",
    "                self.mb.move(x, y)                \n",
    "            # 次の手番の処理を行うメソッドを呼び出す\n",
    "                self.mb.play_loop(self, self.params)\n",
    "\n",
    "    # ゲーム盤を選択した状態でキーを押した場合のイベントハンドラ\n",
    "    def on_key_press(event):\n",
    "        keymap = {\n",
    "            \"up\": on_first_button_clicked,\n",
    "            \"left\": on_prev_button_clicked,\n",
    "            \"right\": on_next_button_clicked,\n",
    "            \"down\": on_last_button_clicked,\n",
    "            \"0\": on_undo_button_clicked,\n",
    "            \"enter\": on_reset_button_clicked,            \n",
    "            \"-\": on_load_button_clicked,            \n",
    "            \"l\": on_load_button_clicked,            \n",
    "            \"+\": on_save_button_clicked,            \n",
    "            \"s\": on_save_button_clicked,            \n",
    "            \"*\": on_help_button_clicked,            \n",
    "            \"h\": on_help_button_clicked,            \n",
    "        }\n",
    "        if event.key in keymap:\n",
    "            keymap[event.key]()\n",
    "        else:\n",
    "            try:\n",
    "                num = int(event.key) - 1\n",
    "                event.inaxes = True\n",
    "                event.xdata = num % 3\n",
    "                event.ydata = 2 - (num // 3)\n",
    "                on_mouse_down(event)\n",
    "            except:\n",
    "                pass\n",
    "            \n",
    "    # fig の画像イベントハンドラを結び付ける\n",
    "    self.fig.canvas.mpl_connect(\"button_press_event\", on_mouse_down)     \n",
    "    self.fig.canvas.mpl_connect(\"key_press_event\", on_key_press)       \n",
    "    \n",
    "Marubatsu_GUI.create_event_handler = create_event_handler"
   ]
  },
  {
   "cell_type": "code",
   "execution_count": 6,
   "metadata": {},
   "outputs": [
    {
     "data": {
      "application/vnd.jupyter.widget-view+json": {
       "model_id": "4c2c81a55cc74e5f878e80db6e0feb26",
       "version_major": 2,
       "version_minor": 0
      },
      "text/plain": [
       "VBox(children=(HBox(children=(Checkbox(value=False, description='乱数の種', indent=False, layout=Layout(width='100…"
      ]
     },
     "metadata": {},
     "output_type": "display_data"
    },
    {
     "data": {
      "application/vnd.jupyter.widget-view+json": {
       "model_id": "361927c0bcba4dd7b4302ff00a6b2e9b",
       "version_major": 2,
       "version_minor": 0
      },
      "text/plain": [
       "VBox(children=(Output(layout=Layout(display='none')), HBox(children=(Label(value='', layout=Layout(width='50px…"
      ]
     },
     "metadata": {},
     "output_type": "display_data"
    }
   ],
   "source": [
    "gui_play()"
   ]
  },
  {
   "cell_type": "code",
   "execution_count": 7,
   "metadata": {},
   "outputs": [],
   "source": [
    "from marubatsu import Marubatsu\n",
    "\n",
    "def update_gui(self):\n",
    "    def calc_status_txt(score):\n",
    "        if score > 0:\n",
    "            return \"〇\"\n",
    "        elif score == 0:\n",
    "            return \"△\"\n",
    "        else:\n",
    "            return \"×\"\n",
    "    \n",
    "    ax = self.ax\n",
    "\n",
    "    # Axes の内容をクリアして、これまでの描画内容を削除する\n",
    "    ax.clear()\n",
    "\n",
    "    # y 軸を反転させる\n",
    "    ax.invert_yaxis()\n",
    "\n",
    "    # 枠と目盛りを表示しないようにする\n",
    "    ax.axis(\"off\")   \n",
    "\n",
    "    # リプレイ中、ゲームの決着がついていた場合は背景色を変更する\n",
    "    is_replay =  self.mb.move_count < len(self.mb.records) - 1 \n",
    "    if self.mb.status == Marubatsu.PLAYING:\n",
    "        facecolor = \"lightcyan\" if is_replay else \"white\"\n",
    "    else:\n",
    "        facecolor = \"lightyellow\"\n",
    "\n",
    "    ax.figure.set_facecolor(facecolor)\n",
    "        \n",
    "    # 上部のメッセージを描画する\n",
    "    # 対戦カードの文字列を計算する\n",
    "    ax.text(1.5, 3.5, f\"{self.dropdown_list[0].label}　VS　{self.dropdown_list[1].label}\", \n",
    "            fontsize=7*self.size, ha=\"center\")   \n",
    "\n",
    "    # ゲームの決着がついていない場合は、手番を表示する\n",
    "    if self.mb.status == Marubatsu.PLAYING:\n",
    "        text = \"Turn \" + self.mb.turn\n",
    "        score = self.score_table[self.mb.board_to_str()][\"score\"]\n",
    "        if self.show_status:\n",
    "            text += \" 状況 \" + calc_status_txt(score)\n",
    "    # 引き分けの場合\n",
    "    elif self.mb.status == Marubatsu.DRAW:\n",
    "        text = \"Draw game\"\n",
    "    # 決着がついていれば勝者を表示する\n",
    "    else:\n",
    "        text = \"Winner \" + self.mb.status\n",
    "    # リプレイ中の場合は \"Replay\" を表示する\n",
    "    if is_replay:\n",
    "        text += \" Replay\"\n",
    "    ax.text(1.5, -0.2, text, fontsize=7*self.size, ha=\"center\")\n",
    "\n",
    "    self.draw_board(ax, self.mb, lw=0.7*self.size)\n",
    "    \n",
    "    if self.show_status:\n",
    "        bestmoves = self.score_table[self.mb.board_to_str()][\"bestmoves\"]\n",
    "        ai, params = self.status_dropdown.value\n",
    "        if ai == \"Auto\":\n",
    "            index = 0 if self.mb.turn == Marubatsu.CIRCLE else 1\n",
    "            ai = self.mb.ai[index]\n",
    "            params = self.params[index]\n",
    "        if ai is not None:\n",
    "            analyze = ai(self.mb, analyze=True, **params)\n",
    "            score_by_move = analyze[\"score_by_move\"]\n",
    "            candidate = analyze[\"candidate\"]\n",
    "        for move in self.mb.calc_legal_moves():\n",
    "            x, y = move\n",
    "            mb = deepcopy(self.mb)\n",
    "            mb.move(x, y)\n",
    "            score = self.score_table[mb.board_to_str()][\"score\"]\n",
    "            color = \"red\" if move in bestmoves else \"black\"\n",
    "            text = calc_status_txt(score)\n",
    "            ax.text(x + 0.1, y + 0.35, text, fontsize=5*self.size, c=color)\n",
    "            if ai is not None:\n",
    "                if score_by_move is not None:\n",
    "                    color = \"red\" if move in candidate else \"black\"\n",
    "                    ax.text(x + 0.1, y + 0.65, score_by_move[move], fontsize=5*self.size, c=color)\n",
    "                elif move in candidate:\n",
    "                    ax.text(x + 0.1, y + 0.65, \"候補手\", fontsize=4.8*self.size)\n",
    "                \n",
    "    self.update_widgets_status()\n",
    "\n",
    "    if hasattr(self, \"mbtree_gui\"):\n",
    "        from tree import Node\n",
    "\n",
    "        self.mbtree_gui.selectednode = Node(self.mb, depth=self.mb.move_count)\n",
    "        self.mbtree_gui.update_gui()\n",
    "        \n",
    "Marubatsu_GUI.update_gui = update_gui"
   ]
  },
  {
   "cell_type": "code",
   "execution_count": null,
   "metadata": {},
   "outputs": [
    {
     "data": {
      "application/vnd.jupyter.widget-view+json": {
       "model_id": "5e802728c03f43ad974e7f57f47b3227",
       "version_major": 2,
       "version_minor": 0
      },
      "text/plain": [
       "VBox(children=(HBox(children=(Checkbox(value=False, description='乱数の種', indent=False, layout=Layout(width='100…"
      ]
     },
     "metadata": {},
     "output_type": "display_data"
    },
    {
     "data": {
      "application/vnd.jupyter.widget-view+json": {
       "model_id": "16f3dc4d3a164d768a7fff12dedd90a0",
       "version_major": 2,
       "version_minor": 0
      },
      "text/plain": [
       "VBox(children=(Output(layout=Layout(display='none')), HBox(children=(Label(value='', layout=Layout(width='50px…"
      ]
     },
     "metadata": {},
     "output_type": "display_data"
    }
   ],
   "source": [
    "gui_play()"
   ]
  },
  {
   "cell_type": "code",
   "execution_count": 9,
   "metadata": {},
   "outputs": [],
   "source": [
    "from ai import dprint\n",
    "from copy import deepcopy\n",
    "from random import choice\n",
    "\n",
    "def ai_gt7(mborig, debug=False, bestmoves_and_score_by_board=None, rand=True, analyze=False):\n",
    "    candidate = bestmoves_and_score_by_board[mborig.board_to_str()][\"bestmoves\"]\n",
    "    dprint(debug, \"candidate\", candidate)\n",
    "    if analyze:\n",
    "        legal_moves = mborig.calc_legal_moves()\n",
    "        score_by_move = {}\n",
    "        for move in legal_moves:\n",
    "            mb = deepcopy(mborig)\n",
    "            x, y = move\n",
    "            mb.move(x, y)\n",
    "            score_by_move[move] = bestmoves_and_score_by_board[mb.board_to_str()][\"score\"]\n",
    "          \n",
    "        return {\n",
    "            \"candidate\": candidate, \n",
    "            \"score_by_move\": score_by_move\n",
    "        }\n",
    "    else:\n",
    "        if rand:\n",
    "            return choice(candidate)\n",
    "        else:\n",
    "            return candidate[0]"
   ]
  },
  {
   "cell_type": "code",
   "execution_count": 11,
   "metadata": {},
   "outputs": [
    {
     "data": {
      "text/plain": [
       "(2, 0)"
      ]
     },
     "execution_count": 11,
     "metadata": {},
     "output_type": "execute_result"
    }
   ],
   "source": [
    "from util import load_bestmoves\n",
    "\n",
    "mb = Marubatsu()\n",
    "bestmoves_and_score_by_board = load_bestmoves(\"../data/bestmoves_and_score_by_board.dat\")\n",
    "ai_gt7(mb, bestmoves_and_score_by_board=bestmoves_and_score_by_board)"
   ]
  },
  {
   "cell_type": "code",
   "execution_count": 12,
   "metadata": {},
   "outputs": [
    {
     "data": {
      "text/plain": [
       "{'candidate': [(0, 0),\n",
       "  (1, 0),\n",
       "  (2, 0),\n",
       "  (0, 1),\n",
       "  (1, 1),\n",
       "  (2, 1),\n",
       "  (0, 2),\n",
       "  (1, 2),\n",
       "  (2, 2)],\n",
       " 'score_by_move': {(0, 0): 0,\n",
       "  (1, 0): 0,\n",
       "  (2, 0): 0,\n",
       "  (0, 1): 0,\n",
       "  (1, 1): 0,\n",
       "  (2, 1): 0,\n",
       "  (0, 2): 0,\n",
       "  (1, 2): 0,\n",
       "  (2, 2): 0}}"
      ]
     },
     "execution_count": 12,
     "metadata": {},
     "output_type": "execute_result"
    }
   ],
   "source": [
    "ai_gt7(mb, bestmoves_and_score_by_board=bestmoves_and_score_by_board, analyze=True)"
   ]
  },
  {
   "cell_type": "code",
   "execution_count": null,
   "metadata": {},
   "outputs": [],
   "source": [
    "import ai as ai_module\n",
    "\n",
    "def gui_play(ai=None, params=None, ai_dict=None, seed=None):\n",
    "    # ai が None の場合は、人間どうしの対戦を行う\n",
    "    if ai is None:\n",
    "        ai = [None, None]\n",
    "    if params is None:\n",
    "        params = [{}, {}]\n",
    "    # ai_dict が None の場合は、ai1s ~ ai14s の Dropdown を作成するためのデータを計算する\n",
    "    if ai_dict is None:\n",
    "        ai_dict = { \"人間\": ( None, {} ) }\n",
    "        for i in range(1, 15):\n",
    "            ai_name = f\"ai{i}s\"  \n",
    "            ai_dict[ai_name] = (getattr(ai_module, ai_name), {})\n",
    "        bestmoves_and_score_by_board = load_bestmoves(\"../data/bestmoves_and_score_by_board.dat\")\n",
    "        ai_dict[\"ai_gt7\"] = (ai_gt7, {\"bestmoves_and_score_by_board\": bestmoves_and_score_by_board})\n",
    "        bestmoves_and_score_by_board_sv = load_bestmoves(\"../data/bestmoves_and_score_by_board_shortest_victory.dat\")\n",
    "        ai_dict[\"ai_gtsv\"] = (ai_gt7, {\"bestmoves_and_score_by_board\": bestmoves_and_score_by_board_sv})\n",
    "            \n",
    "    mb = Marubatsu()\n",
    "    mb.play(ai=ai, params=params, ai_dict=ai_dict, seed=seed, gui=True)"
   ]
  },
  {
   "cell_type": "code",
   "execution_count": 15,
   "metadata": {},
   "outputs": [
    {
     "data": {
      "application/vnd.jupyter.widget-view+json": {
       "model_id": "113dc710b3b546af8d48d7748557b91a",
       "version_major": 2,
       "version_minor": 0
      },
      "text/plain": [
       "VBox(children=(HBox(children=(Checkbox(value=False, description='乱数の種', indent=False, layout=Layout(width='100…"
      ]
     },
     "metadata": {},
     "output_type": "display_data"
    },
    {
     "data": {
      "application/vnd.jupyter.widget-view+json": {
       "model_id": "3a90e929d34a4d4c8ddbf3230c705b82",
       "version_major": 2,
       "version_minor": 0
      },
      "text/plain": [
       "VBox(children=(Output(layout=Layout(display='none')), HBox(children=(Label(value='', layout=Layout(width='50px…"
      ]
     },
     "metadata": {},
     "output_type": "display_data"
    }
   ],
   "source": [
    "gui_play()"
   ]
  }
 ],
 "metadata": {
  "kernelspec": {
   "display_name": "marubatsu",
   "language": "python",
   "name": "python3"
  },
  "language_info": {
   "codemirror_mode": {
    "name": "ipython",
    "version": 3
   },
   "file_extension": ".py",
   "mimetype": "text/x-python",
   "name": "python",
   "nbconvert_exporter": "python",
   "pygments_lexer": "ipython3",
   "version": "3.11.4"
  }
 },
 "nbformat": 4,
 "nbformat_minor": 2
}
