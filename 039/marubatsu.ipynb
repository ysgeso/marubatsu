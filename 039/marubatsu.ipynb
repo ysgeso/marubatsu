{
 "cells": [
  {
   "cell_type": "code",
   "execution_count": 1,
   "metadata": {},
   "outputs": [],
   "source": [
    "from marubatsu import Marubatsu\n",
    "\n",
    "def ai1(mb):\n",
    "    for y in range(mb.BOARD_SIZE):\n",
    "        for x in range(mb.BOARD_SIZE):\n",
    "            if mb.board[x][y] == Marubatsu.EMPTY:\n",
    "                return x, y"
   ]
  },
  {
   "cell_type": "code",
   "execution_count": 2,
   "metadata": {},
   "outputs": [
    {
     "name": "stdout",
     "output_type": "stream",
     "text": [
      "(0, 0)\n",
      "(1, 0)\n"
     ]
    }
   ],
   "source": [
    "mb = Marubatsu()\n",
    "print(ai1(mb))\n",
    "mb.move(0, 0)\n",
    "print(ai1(mb))"
   ]
  },
  {
   "cell_type": "code",
   "execution_count": 3,
   "metadata": {},
   "outputs": [
    {
     "name": "stdout",
     "output_type": "stream",
     "text": [
      "Turn o\n",
      "...\n",
      "...\n",
      "...\n",
      "\n",
      "Turn x\n",
      "O..\n",
      "...\n",
      "...\n",
      "\n",
      "Turn o\n",
      "oX.\n",
      "...\n",
      "...\n",
      "\n",
      "Turn x\n",
      "oxO\n",
      "...\n",
      "...\n",
      "\n",
      "Turn o\n",
      "oxo\n",
      "X..\n",
      "...\n",
      "\n",
      "Turn x\n",
      "oxo\n",
      "xO.\n",
      "...\n",
      "\n",
      "Turn o\n",
      "oxo\n",
      "xoX\n",
      "...\n",
      "\n",
      "winner o\n",
      "oxo\n",
      "xox\n",
      "O..\n",
      "\n"
     ]
    }
   ],
   "source": [
    "mb = Marubatsu()\n",
    "while mb.status == Marubatsu.PLAYING:\n",
    "    print(mb)\n",
    "    x, y = ai1(mb)\n",
    "    mb.move(x, y)\n",
    "print(mb)"
   ]
  },
  {
   "cell_type": "code",
   "execution_count": 4,
   "metadata": {},
   "outputs": [],
   "source": [
    "def play(self, ai_circle):\n",
    "    # 〇×ゲームを再起動する\n",
    "    self.restart()\n",
    "    # ゲームの決着がついていない間繰り返す\n",
    "    while self.status == Marubatsu.PLAYING:\n",
    "        # ゲーム盤の表示\n",
    "        print(self)\n",
    "        # 〇の手番で、ai_circle が True の場合は ai が着手を行う\n",
    "        if self.turn == Marubatsu.CIRCLE and ai_circle:\n",
    "            x, y = ai1(self)\n",
    "        else:\n",
    "            # キーボードからの座標の入力\n",
    "            coord = input(\"x,y の形式で座標を入力して下さい。exit を入力すると終了します\")\n",
    "            # \"exit\" が入力されていればメッセージを表示して関数を終了する\n",
    "            if coord == \"exit\":\n",
    "                print(\"ゲームを終了します\")\n",
    "                return       \n",
    "            # x 座標と y 座標を要素として持つ list を計算する\n",
    "            xylist = coord.split(\",\")\n",
    "            # xylist の要素の数が 2 ではない場合\n",
    "            if len(xylist) != 2:\n",
    "                # エラーメッセージを表示する\n",
    "                print(\"x, y の形式ではありません\")\n",
    "                # 残りの while 文のブロックを実行せずに、次の繰り返し処理を行う\n",
    "                continue\n",
    "            x, y = xylist\n",
    "        # (x, y) に着手を行う\n",
    "        try:\n",
    "            self.move(int(x), int(y))\n",
    "        except:\n",
    "            print(\"整数の座標を入力して下さい\")\n",
    "\n",
    "    # 決着がついたので、ゲーム盤を表示する\n",
    "    print(self)\n",
    "\n",
    "Marubatsu.play = play"
   ]
  },
  {
   "cell_type": "markdown",
   "metadata": {},
   "source": [
    "テキストボックスに 1,1　2,2 の順で入力しました"
   ]
  },
  {
   "cell_type": "code",
   "execution_count": 5,
   "metadata": {},
   "outputs": [
    {
     "name": "stdout",
     "output_type": "stream",
     "text": [
      "Turn o\n",
      "...\n",
      "...\n",
      "...\n",
      "\n",
      "Turn x\n",
      "O..\n",
      "...\n",
      "...\n",
      "\n",
      "Turn o\n",
      "o..\n",
      ".X.\n",
      "...\n",
      "\n",
      "Turn x\n",
      "oO.\n",
      ".x.\n",
      "...\n",
      "\n",
      "Turn o\n",
      "oo.\n",
      ".x.\n",
      "..X\n",
      "\n",
      "winner o\n",
      "ooO\n",
      ".x.\n",
      "..x\n",
      "\n"
     ]
    }
   ],
   "source": [
    "mb.play(True)"
   ]
  },
  {
   "cell_type": "markdown",
   "metadata": {},
   "source": [
    "テキストボックスに 0,0　0,1　1,0　1,1　2,0 の順で入力しました"
   ]
  },
  {
   "cell_type": "code",
   "execution_count": 6,
   "metadata": {},
   "outputs": [
    {
     "name": "stdout",
     "output_type": "stream",
     "text": [
      "Turn o\n",
      "...\n",
      "...\n",
      "...\n",
      "\n",
      "Turn x\n",
      "O..\n",
      "...\n",
      "...\n",
      "\n",
      "Turn o\n",
      "o..\n",
      "X..\n",
      "...\n",
      "\n",
      "Turn x\n",
      "oO.\n",
      "x..\n",
      "...\n",
      "\n",
      "Turn o\n",
      "oo.\n",
      "xX.\n",
      "...\n",
      "\n",
      "winner o\n",
      "ooO\n",
      "xx.\n",
      "...\n",
      "\n"
     ]
    }
   ],
   "source": [
    "mb.play(False)"
   ]
  },
  {
   "cell_type": "code",
   "execution_count": 7,
   "metadata": {},
   "outputs": [],
   "source": [
    "def play(self, ai_circle, ai_cross):\n",
    "    # 〇×ゲームを再起動する\n",
    "    self.restart()\n",
    "    # ゲームの決着がついていない間繰り返す\n",
    "    while self.status == Marubatsu.PLAYING:\n",
    "        # ゲーム盤の表示\n",
    "        print(self)\n",
    "        # ai が着手を行うかどうかを判定する\n",
    "        if (self.turn == Marubatsu.CIRCLE and ai_circle) or \\\n",
    "           (self.turn == Marubatsu.CROSS and ai_cross):\n",
    "            x, y = ai1(self)\n",
    "        else:\n",
    "            # キーボードからの座標の入力\n",
    "            coord = input(\"x,y の形式で座標を入力して下さい。exit を入力すると終了します\")\n",
    "            # \"exit\" が入力されていればメッセージを表示して関数を終了する\n",
    "            if coord == \"exit\":\n",
    "                print(\"ゲームを終了します\")\n",
    "                return       \n",
    "            # x 座標と y 座標を要素として持つ list を計算する\n",
    "            xylist = coord.split(\",\")\n",
    "            # xylist の要素の数が 2 ではない場合\n",
    "            if len(xylist) != 2:\n",
    "                # エラーメッセージを表示する\n",
    "                print(\"x, y の形式ではありません\")\n",
    "                # 残りの while 文のブロックを実行せずに、次の繰り返し処理を行う\n",
    "                continue\n",
    "            x, y = xylist\n",
    "        # (x, y) に着手を行う\n",
    "        try:\n",
    "            self.move(int(x), int(y))\n",
    "        except:\n",
    "            print(\"整数の座標を入力して下さい\")\n",
    "\n",
    "    # 決着がついたので、ゲーム盤を表示する\n",
    "    print(self)\n",
    "\n",
    "Marubatsu.play = play"
   ]
  },
  {
   "cell_type": "markdown",
   "metadata": {},
   "source": [
    "テキストボックスに 0,0　1,1　2,2 の順で入力しました"
   ]
  },
  {
   "cell_type": "code",
   "execution_count": 8,
   "metadata": {},
   "outputs": [
    {
     "name": "stdout",
     "output_type": "stream",
     "text": [
      "Turn o\n",
      "...\n",
      "...\n",
      "...\n",
      "\n",
      "Turn x\n",
      "O..\n",
      "...\n",
      "...\n",
      "\n",
      "Turn o\n",
      "oX.\n",
      "...\n",
      "...\n",
      "\n",
      "Turn x\n",
      "ox.\n",
      ".O.\n",
      "...\n",
      "\n",
      "Turn o\n",
      "oxX\n",
      ".o.\n",
      "...\n",
      "\n",
      "winner o\n",
      "oxx\n",
      ".o.\n",
      "..O\n",
      "\n"
     ]
    }
   ],
   "source": [
    "mb.play(False, True)"
   ]
  },
  {
   "cell_type": "markdown",
   "metadata": {},
   "source": [
    "テキストボックスに 0,0　0,1　1,0　1,1　2,0 の順で入力しました"
   ]
  },
  {
   "cell_type": "code",
   "execution_count": 9,
   "metadata": {},
   "outputs": [
    {
     "name": "stdout",
     "output_type": "stream",
     "text": [
      "Turn o\n",
      "...\n",
      "...\n",
      "...\n",
      "\n",
      "Turn x\n",
      "O..\n",
      "...\n",
      "...\n",
      "\n",
      "Turn o\n",
      "o..\n",
      "X..\n",
      "...\n",
      "\n",
      "Turn x\n",
      "oO.\n",
      "x..\n",
      "...\n",
      "\n",
      "Turn o\n",
      "oo.\n",
      "xX.\n",
      "...\n",
      "\n",
      "winner o\n",
      "ooO\n",
      "xx.\n",
      "...\n",
      "\n"
     ]
    }
   ],
   "source": [
    "mb.play(False, False)"
   ]
  },
  {
   "cell_type": "markdown",
   "metadata": {},
   "source": [
    "テキストボックスに 1,1　2,2 の順で入力しました"
   ]
  },
  {
   "cell_type": "code",
   "execution_count": 10,
   "metadata": {},
   "outputs": [
    {
     "name": "stdout",
     "output_type": "stream",
     "text": [
      "Turn o\n",
      "...\n",
      "...\n",
      "...\n",
      "\n",
      "Turn x\n",
      "O..\n",
      "...\n",
      "...\n",
      "\n",
      "Turn o\n",
      "o..\n",
      ".X.\n",
      "...\n",
      "\n",
      "Turn x\n",
      "oO.\n",
      ".x.\n",
      "...\n",
      "\n",
      "Turn o\n",
      "oo.\n",
      ".x.\n",
      "..X\n",
      "\n",
      "winner o\n",
      "ooO\n",
      ".x.\n",
      "..x\n",
      "\n"
     ]
    }
   ],
   "source": [
    "mb.play(True, False)"
   ]
  },
  {
   "cell_type": "code",
   "execution_count": 11,
   "metadata": {},
   "outputs": [
    {
     "name": "stdout",
     "output_type": "stream",
     "text": [
      "Turn o\n",
      "...\n",
      "...\n",
      "...\n",
      "\n",
      "Turn x\n",
      "O..\n",
      "...\n",
      "...\n",
      "\n",
      "Turn o\n",
      "oX.\n",
      "...\n",
      "...\n",
      "\n",
      "Turn x\n",
      "oxO\n",
      "...\n",
      "...\n",
      "\n",
      "Turn o\n",
      "oxo\n",
      "X..\n",
      "...\n",
      "\n",
      "Turn x\n",
      "oxo\n",
      "xO.\n",
      "...\n",
      "\n",
      "Turn o\n",
      "oxo\n",
      "xoX\n",
      "...\n",
      "\n",
      "winner o\n",
      "oxo\n",
      "xox\n",
      "O..\n",
      "\n"
     ]
    }
   ],
   "source": [
    "mb.play(True, True)"
   ]
  },
  {
   "cell_type": "code",
   "execution_count": 12,
   "metadata": {},
   "outputs": [],
   "source": [
    "def play(self, is_ai):\n",
    "    # 〇×ゲームを再起動する\n",
    "    self.restart()\n",
    "    # ゲームの決着がついていない間繰り返す\n",
    "    while self.status == Marubatsu.PLAYING:\n",
    "        # ゲーム盤の表示\n",
    "        print(self)\n",
    "        # ai が着手を行うかどうかを判定する\n",
    "        if (self.turn == Marubatsu.CIRCLE and is_ai[0]) or \\\n",
    "           (self.turn == Marubatsu.CROSS and is_ai[1]):\n",
    "            x, y = ai1(self)\n",
    "        else:\n",
    "            # キーボードからの座標の入力\n",
    "            coord = input(\"x,y の形式で座標を入力して下さい。exit を入力すると終了します\")\n",
    "            # \"exit\" が入力されていればメッセージを表示して関数を終了する\n",
    "            if coord == \"exit\":\n",
    "                print(\"ゲームを終了します\")\n",
    "                return       \n",
    "            # x 座標と y 座標を要素として持つ list を計算する\n",
    "            xylist = coord.split(\",\")\n",
    "            # xylist の要素の数が 2 ではない場合\n",
    "            if len(xylist) != 2:\n",
    "                # エラーメッセージを表示する\n",
    "                print(\"x, y の形式ではありません\")\n",
    "                # 残りの while 文のブロックを実行せずに、次の繰り返し処理を行う\n",
    "                continue\n",
    "            x, y = xylist\n",
    "        # (x, y) に着手を行う\n",
    "        try:\n",
    "            self.move(int(x), int(y))\n",
    "        except:\n",
    "            print(\"整数の座標を入力して下さい\")\n",
    "\n",
    "    # 決着がついたので、ゲーム盤を表示する\n",
    "    print(self)\n",
    "\n",
    "Marubatsu.play = play"
   ]
  },
  {
   "cell_type": "markdown",
   "metadata": {},
   "source": [
    "テキストボックスに 0,0　0,1　1,0　1,1　2,0 の順で入力しました"
   ]
  },
  {
   "cell_type": "code",
   "execution_count": 13,
   "metadata": {},
   "outputs": [
    {
     "name": "stdout",
     "output_type": "stream",
     "text": [
      "Turn o\n",
      "...\n",
      "...\n",
      "...\n",
      "\n",
      "Turn x\n",
      "O..\n",
      "...\n",
      "...\n",
      "\n",
      "Turn o\n",
      "o..\n",
      "X..\n",
      "...\n",
      "\n",
      "Turn x\n",
      "oO.\n",
      "x..\n",
      "...\n",
      "\n",
      "Turn o\n",
      "oo.\n",
      "xX.\n",
      "...\n",
      "\n",
      "winner o\n",
      "ooO\n",
      "xx.\n",
      "...\n",
      "\n"
     ]
    }
   ],
   "source": [
    "mb.play([False, False])"
   ]
  },
  {
   "cell_type": "markdown",
   "metadata": {},
   "source": [
    "テキストボックスに 1,1　2,2 の順で入力しました"
   ]
  },
  {
   "cell_type": "code",
   "execution_count": 14,
   "metadata": {},
   "outputs": [
    {
     "name": "stdout",
     "output_type": "stream",
     "text": [
      "Turn o\n",
      "...\n",
      "...\n",
      "...\n",
      "\n",
      "Turn x\n",
      "O..\n",
      "...\n",
      "...\n",
      "\n",
      "Turn o\n",
      "o..\n",
      ".X.\n",
      "...\n",
      "\n",
      "Turn x\n",
      "oO.\n",
      ".x.\n",
      "...\n",
      "\n",
      "Turn o\n",
      "oo.\n",
      ".x.\n",
      "..X\n",
      "\n",
      "winner o\n",
      "ooO\n",
      ".x.\n",
      "..x\n",
      "\n"
     ]
    }
   ],
   "source": [
    "mb.play([True, False])"
   ]
  },
  {
   "cell_type": "markdown",
   "metadata": {},
   "source": [
    "テキストボックスに 0,0　1,1　2,2 の順で入力しました"
   ]
  },
  {
   "cell_type": "code",
   "execution_count": 15,
   "metadata": {},
   "outputs": [
    {
     "name": "stdout",
     "output_type": "stream",
     "text": [
      "Turn o\n",
      "...\n",
      "...\n",
      "...\n",
      "\n",
      "Turn x\n",
      "O..\n",
      "...\n",
      "...\n",
      "\n",
      "Turn o\n",
      "oX.\n",
      "...\n",
      "...\n",
      "\n",
      "Turn x\n",
      "ox.\n",
      ".O.\n",
      "...\n",
      "\n",
      "Turn o\n",
      "oxX\n",
      ".o.\n",
      "...\n",
      "\n",
      "winner o\n",
      "oxx\n",
      ".o.\n",
      "..O\n",
      "\n"
     ]
    }
   ],
   "source": [
    "mb.play([False, True])"
   ]
  },
  {
   "cell_type": "code",
   "execution_count": 16,
   "metadata": {},
   "outputs": [
    {
     "name": "stdout",
     "output_type": "stream",
     "text": [
      "Turn o\n",
      "...\n",
      "...\n",
      "...\n",
      "\n",
      "Turn x\n",
      "O..\n",
      "...\n",
      "...\n",
      "\n",
      "Turn o\n",
      "oX.\n",
      "...\n",
      "...\n",
      "\n",
      "Turn x\n",
      "oxO\n",
      "...\n",
      "...\n",
      "\n",
      "Turn o\n",
      "oxo\n",
      "X..\n",
      "...\n",
      "\n",
      "Turn x\n",
      "oxo\n",
      "xO.\n",
      "...\n",
      "\n",
      "Turn o\n",
      "oxo\n",
      "xoX\n",
      "...\n",
      "\n",
      "winner o\n",
      "oxo\n",
      "xox\n",
      "O..\n",
      "\n"
     ]
    }
   ],
   "source": [
    "mb.play([True, True])"
   ]
  },
  {
   "cell_type": "code",
   "execution_count": 17,
   "metadata": {},
   "outputs": [],
   "source": [
    "def calc_legal_moves(self):\n",
    "    legal_moves = []\n",
    "    for y in range(self.BOARD_SIZE):\n",
    "        for x in range(self.BOARD_SIZE):\n",
    "            if self.board[x][y] == Marubatsu.EMPTY:\n",
    "                legal_moves.append((x, y))\n",
    "    return legal_moves\n",
    "\n",
    "Marubatsu.calc_legal_moves = calc_legal_moves"
   ]
  },
  {
   "cell_type": "code",
   "execution_count": 18,
   "metadata": {},
   "outputs": [
    {
     "name": "stdout",
     "output_type": "stream",
     "text": [
      "[(0, 0), (1, 0), (2, 0), (0, 1), (1, 1), (2, 1), (0, 2), (1, 2), (2, 2)]\n",
      "[(1, 0), (2, 0), (0, 1), (1, 1), (2, 1), (0, 2), (1, 2), (2, 2)]\n"
     ]
    }
   ],
   "source": [
    "mb = Marubatsu()\n",
    "print(mb.calc_legal_moves())\n",
    "mb.move(0, 0)\n",
    "print(mb.calc_legal_moves())"
   ]
  },
  {
   "cell_type": "code",
   "execution_count": 19,
   "metadata": {},
   "outputs": [
    {
     "name": "stdout",
     "output_type": "stream",
     "text": [
      "[0, 2, 4, 6, 8]\n"
     ]
    }
   ],
   "source": [
    "a = []\n",
    "for i in range(10):\n",
    "    if i % 2 == 0:\n",
    "        a.append(i)\n",
    "print(a)"
   ]
  },
  {
   "cell_type": "code",
   "execution_count": 20,
   "metadata": {},
   "outputs": [
    {
     "name": "stdout",
     "output_type": "stream",
     "text": [
      "[0, 2, 4, 6, 8]\n"
     ]
    }
   ],
   "source": [
    "a = [i for i in range(10) if i % 2 == 0]\n",
    "print(a)"
   ]
  },
  {
   "cell_type": "code",
   "execution_count": 21,
   "metadata": {},
   "outputs": [],
   "source": [
    "def calc_legal_moves(self):\n",
    "    legal_moves = [(x, y) for y in range(self.BOARD_SIZE) \n",
    "                          for x in range(self.BOARD_SIZE)\n",
    "                          if self.board[x][y] == Marubatsu.EMPTY]\n",
    "    return legal_moves\n",
    "\n",
    "Marubatsu.calc_legal_moves = calc_legal_moves"
   ]
  },
  {
   "cell_type": "code",
   "execution_count": 22,
   "metadata": {},
   "outputs": [
    {
     "name": "stdout",
     "output_type": "stream",
     "text": [
      "[(0, 0), (1, 0), (2, 0), (0, 1), (1, 1), (2, 1), (0, 2), (1, 2), (2, 2)]\n",
      "[(1, 0), (2, 0), (0, 1), (1, 1), (2, 1), (0, 2), (1, 2), (2, 2)]\n"
     ]
    }
   ],
   "source": [
    "mb = Marubatsu()\n",
    "print(mb.calc_legal_moves())\n",
    "mb.move(0, 0)\n",
    "print(mb.calc_legal_moves())"
   ]
  },
  {
   "cell_type": "code",
   "execution_count": 23,
   "metadata": {},
   "outputs": [
    {
     "name": "stdout",
     "output_type": "stream",
     "text": [
      "[0, -1, 2, -3, 4, -5, 6, -7, 8, -9]\n"
     ]
    }
   ],
   "source": [
    "a = []\n",
    "for i in range(10):\n",
    "    if i % 2 == 0:\n",
    "        a.append(i)\n",
    "    else:\n",
    "        a.append(-i)\n",
    "print(a)"
   ]
  },
  {
   "cell_type": "code",
   "execution_count": 24,
   "metadata": {},
   "outputs": [
    {
     "name": "stdout",
     "output_type": "stream",
     "text": [
      "[0, -1, 2, -3, 4, -5, 6, -7, 8, -9]\n"
     ]
    }
   ],
   "source": [
    "a = [i if i % 2 == 0 else -i for i in range(10) ]\n",
    "print(a)"
   ]
  },
  {
   "cell_type": "code",
   "execution_count": 25,
   "metadata": {},
   "outputs": [
    {
     "name": "stdout",
     "output_type": "stream",
     "text": [
      "(1, 0)\n"
     ]
    }
   ],
   "source": [
    "from random import choice\n",
    "\n",
    "legal_moves = mb.calc_legal_moves()\n",
    "print(choice(legal_moves))"
   ]
  },
  {
   "cell_type": "code",
   "execution_count": 26,
   "metadata": {},
   "outputs": [],
   "source": [
    "def ai2(mb):\n",
    "    legal_moves = mb.calc_legal_moves()\n",
    "    return choice(legal_moves)"
   ]
  },
  {
   "cell_type": "code",
   "execution_count": 27,
   "metadata": {},
   "outputs": [
    {
     "name": "stdout",
     "output_type": "stream",
     "text": [
      "(0, 0)\n"
     ]
    }
   ],
   "source": [
    "mb = Marubatsu()\n",
    "print(ai2(mb))"
   ]
  },
  {
   "cell_type": "code",
   "execution_count": 28,
   "metadata": {},
   "outputs": [
    {
     "name": "stdout",
     "output_type": "stream",
     "text": [
      "3\n"
     ]
    }
   ],
   "source": [
    "def add(x, y):\n",
    "    return x + y\n",
    "\n",
    "a = add\n",
    "print(a(1, 2))"
   ]
  },
  {
   "cell_type": "code",
   "execution_count": 29,
   "metadata": {},
   "outputs": [],
   "source": [
    "def play(self, ai):\n",
    "    # 〇×ゲームを再起動する\n",
    "    self.restart()\n",
    "    # ゲームの決着がついていない間繰り返す\n",
    "    while self.status == Marubatsu.PLAYING:\n",
    "        # ゲーム盤の表示\n",
    "        print(self)\n",
    "        # ai が着手を行うかどうかを判定する\n",
    "        if self.turn == Marubatsu.CIRCLE and ai[0] is not None:\n",
    "            x, y = ai[0](self)\n",
    "        elif self.turn == Marubatsu.CROSS and ai[1] is not None:\n",
    "            x, y = ai[1](self)\n",
    "        else:\n",
    "            # キーボードからの座標の入力\n",
    "            coord = input(\"x,y の形式で座標を入力して下さい。exit を入力すると終了します\")\n",
    "            # \"exit\" が入力されていればメッセージを表示して関数を終了する\n",
    "            if coord == \"exit\":\n",
    "                print(\"ゲームを終了します\")\n",
    "                return       \n",
    "            # x 座標と y 座標を要素として持つ list を計算する\n",
    "            xylist = coord.split(\",\")\n",
    "            # xylist の要素の数が 2 ではない場合\n",
    "            if len(xylist) != 2:\n",
    "                # エラーメッセージを表示する\n",
    "                print(\"x, y の形式ではありません\")\n",
    "                # 残りの while 文のブロックを実行せずに、次の繰り返し処理を行う\n",
    "                continue\n",
    "            x, y = xylist\n",
    "        # (x, y) に着手を行う\n",
    "        try:\n",
    "            self.move(int(x), int(y))\n",
    "        except:\n",
    "            print(\"整数の座標を入力して下さい\")\n",
    "\n",
    "    # 決着がついたので、ゲーム盤を表示する\n",
    "    print(self)\n",
    "\n",
    "Marubatsu.play = play"
   ]
  },
  {
   "cell_type": "code",
   "execution_count": 30,
   "metadata": {},
   "outputs": [
    {
     "name": "stdout",
     "output_type": "stream",
     "text": [
      "Turn o\n",
      "...\n",
      "...\n",
      "...\n",
      "\n",
      "Turn x\n",
      "O..\n",
      "...\n",
      "...\n",
      "\n",
      "Turn o\n",
      "oX.\n",
      "...\n",
      "...\n",
      "\n",
      "Turn x\n",
      "oxO\n",
      "...\n",
      "...\n",
      "\n",
      "Turn o\n",
      "oxo\n",
      "X..\n",
      "...\n",
      "\n",
      "Turn x\n",
      "oxo\n",
      "xO.\n",
      "...\n",
      "\n",
      "Turn o\n",
      "oxo\n",
      "xoX\n",
      "...\n",
      "\n",
      "winner o\n",
      "oxo\n",
      "xox\n",
      "O..\n",
      "\n"
     ]
    }
   ],
   "source": [
    "mb.play(ai=[ai1, ai1])"
   ]
  },
  {
   "cell_type": "code",
   "execution_count": 31,
   "metadata": {},
   "outputs": [
    {
     "name": "stdout",
     "output_type": "stream",
     "text": [
      "Turn o\n",
      "...\n",
      "...\n",
      "...\n",
      "\n",
      "Turn x\n",
      "O..\n",
      "...\n",
      "...\n",
      "\n",
      "Turn o\n",
      "o..\n",
      "..X\n",
      "...\n",
      "\n",
      "Turn x\n",
      "oO.\n",
      "..x\n",
      "...\n",
      "\n",
      "Turn o\n",
      "ooX\n",
      "..x\n",
      "...\n",
      "\n",
      "Turn x\n",
      "oox\n",
      "O.x\n",
      "...\n",
      "\n",
      "Turn o\n",
      "oox\n",
      "o.x\n",
      "X..\n",
      "\n",
      "Turn x\n",
      "oox\n",
      "oOx\n",
      "x..\n",
      "\n",
      "Turn o\n",
      "oox\n",
      "oox\n",
      "xX.\n",
      "\n",
      "winner o\n",
      "oox\n",
      "oox\n",
      "xxO\n",
      "\n"
     ]
    }
   ],
   "source": [
    "mb.play(ai=[ai1, ai2])"
   ]
  },
  {
   "cell_type": "code",
   "execution_count": 32,
   "metadata": {},
   "outputs": [
    {
     "name": "stdout",
     "output_type": "stream",
     "text": [
      "Turn o\n",
      "...\n",
      "...\n",
      "...\n",
      "\n",
      "Turn x\n",
      "...\n",
      "...\n",
      "O..\n",
      "\n",
      "Turn o\n",
      "X..\n",
      "...\n",
      "o..\n",
      "\n",
      "Turn x\n",
      "x..\n",
      "..O\n",
      "o..\n",
      "\n",
      "Turn o\n",
      "xX.\n",
      "..o\n",
      "o..\n",
      "\n",
      "Turn x\n",
      "xx.\n",
      "..o\n",
      "o.O\n",
      "\n",
      "winner x\n",
      "xxX\n",
      "..o\n",
      "o.o\n",
      "\n"
     ]
    }
   ],
   "source": [
    "mb.play(ai=[ai2, ai1])"
   ]
  },
  {
   "cell_type": "code",
   "execution_count": 33,
   "metadata": {},
   "outputs": [
    {
     "name": "stdout",
     "output_type": "stream",
     "text": [
      "Turn o\n",
      "...\n",
      "...\n",
      "...\n",
      "\n",
      "Turn x\n",
      "...\n",
      "...\n",
      ".O.\n",
      "\n",
      "Turn o\n",
      "...\n",
      "...\n",
      ".oX\n",
      "\n",
      "Turn x\n",
      ".O.\n",
      "...\n",
      ".ox\n",
      "\n",
      "Turn o\n",
      ".oX\n",
      "...\n",
      ".ox\n",
      "\n",
      "Turn x\n",
      ".ox\n",
      "O..\n",
      ".ox\n",
      "\n",
      "Turn o\n",
      ".ox\n",
      "o..\n",
      "Xox\n",
      "\n",
      "winner o\n",
      ".ox\n",
      "oO.\n",
      "xox\n",
      "\n"
     ]
    }
   ],
   "source": [
    "mb.play(ai=[ai2, ai2])"
   ]
  },
  {
   "cell_type": "markdown",
   "metadata": {},
   "source": [
    "テキストボックスに 0,0　1,1　2,2 の順で入力しました"
   ]
  },
  {
   "cell_type": "code",
   "execution_count": 34,
   "metadata": {},
   "outputs": [
    {
     "name": "stdout",
     "output_type": "stream",
     "text": [
      "Turn o\n",
      "...\n",
      "...\n",
      "...\n",
      "\n",
      "Turn x\n",
      "O..\n",
      "...\n",
      "...\n",
      "\n",
      "Turn o\n",
      "oX.\n",
      "...\n",
      "...\n",
      "\n",
      "Turn x\n",
      "ox.\n",
      ".O.\n",
      "...\n",
      "\n",
      "Turn o\n",
      "oxX\n",
      ".o.\n",
      "...\n",
      "\n",
      "winner o\n",
      "oxx\n",
      ".o.\n",
      "..O\n",
      "\n"
     ]
    }
   ],
   "source": [
    "mb.play(ai=[None, ai1])"
   ]
  },
  {
   "cell_type": "markdown",
   "metadata": {},
   "source": [
    "テキストボックスに 1,1　2,2 の順で入力しました"
   ]
  },
  {
   "cell_type": "code",
   "execution_count": 35,
   "metadata": {},
   "outputs": [
    {
     "name": "stdout",
     "output_type": "stream",
     "text": [
      "Turn o\n",
      "...\n",
      "...\n",
      "...\n",
      "\n",
      "Turn x\n",
      "O..\n",
      "...\n",
      "...\n",
      "\n",
      "Turn o\n",
      "o..\n",
      ".X.\n",
      "...\n",
      "\n",
      "Turn x\n",
      "oO.\n",
      ".x.\n",
      "...\n",
      "\n",
      "Turn o\n",
      "oo.\n",
      ".x.\n",
      "..X\n",
      "\n",
      "winner o\n",
      "ooO\n",
      ".x.\n",
      "..x\n",
      "\n"
     ]
    }
   ],
   "source": [
    "mb.play(ai=[ai1, None])"
   ]
  },
  {
   "cell_type": "markdown",
   "metadata": {},
   "source": [
    "テキストボックスに 0,0　1,1　2,2 の順で入力しました"
   ]
  },
  {
   "cell_type": "code",
   "execution_count": 36,
   "metadata": {},
   "outputs": [
    {
     "name": "stdout",
     "output_type": "stream",
     "text": [
      "Turn o\n",
      "...\n",
      "...\n",
      "...\n",
      "\n",
      "Turn x\n",
      "O..\n",
      "...\n",
      "...\n",
      "\n",
      "Turn o\n",
      "o.X\n",
      "...\n",
      "...\n",
      "\n",
      "Turn x\n",
      "o.x\n",
      ".O.\n",
      "...\n",
      "\n",
      "Turn o\n",
      "oXx\n",
      ".o.\n",
      "...\n",
      "\n",
      "winner o\n",
      "oxx\n",
      ".o.\n",
      "..O\n",
      "\n"
     ]
    }
   ],
   "source": [
    "mb.play(ai=[None, ai2])"
   ]
  },
  {
   "cell_type": "markdown",
   "metadata": {},
   "source": [
    "テキストボックスに 0,1　1,1　2,1 の順で入力しました"
   ]
  },
  {
   "cell_type": "code",
   "execution_count": 37,
   "metadata": {},
   "outputs": [
    {
     "name": "stdout",
     "output_type": "stream",
     "text": [
      "Turn o\n",
      "...\n",
      "...\n",
      "...\n",
      "\n",
      "Turn x\n",
      "O..\n",
      "...\n",
      "...\n",
      "\n",
      "Turn o\n",
      "o..\n",
      "X..\n",
      "...\n",
      "\n",
      "Turn x\n",
      "oO.\n",
      "x..\n",
      "...\n",
      "\n",
      "Turn o\n",
      "oo.\n",
      "xX.\n",
      "...\n",
      "\n",
      "Turn x\n",
      "oo.\n",
      "xx.\n",
      "O..\n",
      "\n",
      "winner x\n",
      "oo.\n",
      "xxX\n",
      "o..\n",
      "\n"
     ]
    }
   ],
   "source": [
    "mb.play(ai=[ai2, None])"
   ]
  },
  {
   "cell_type": "markdown",
   "metadata": {},
   "source": [
    "テキストボックスに 0,0　0,1　1,0　1,1　2,0 の順で入力しました"
   ]
  },
  {
   "cell_type": "code",
   "execution_count": 38,
   "metadata": {},
   "outputs": [
    {
     "name": "stdout",
     "output_type": "stream",
     "text": [
      "Turn o\n",
      "...\n",
      "...\n",
      "...\n",
      "\n",
      "Turn x\n",
      "O..\n",
      "...\n",
      "...\n",
      "\n",
      "Turn o\n",
      "o..\n",
      "X..\n",
      "...\n",
      "\n",
      "Turn x\n",
      "oO.\n",
      "x..\n",
      "...\n",
      "\n",
      "Turn o\n",
      "oo.\n",
      "xX.\n",
      "...\n",
      "\n",
      "winner o\n",
      "ooO\n",
      "xx.\n",
      "...\n",
      "\n"
     ]
    }
   ],
   "source": [
    "mb.play(ai=[None, None])"
   ]
  },
  {
   "cell_type": "code",
   "execution_count": 39,
   "metadata": {},
   "outputs": [],
   "source": [
    "def play(self, ai):\n",
    "    # 〇×ゲームを再起動する\n",
    "    self.restart()\n",
    "    # ゲームの決着がついていない間繰り返す\n",
    "    while self.status == Marubatsu.PLAYING:\n",
    "        # ゲーム盤の表示\n",
    "        print(self)\n",
    "        # 現在の手番を表す ai のインデックスを計算する\n",
    "        index = 0 if self.turn == Marubatsu.CIRCLE else 1\n",
    "        # ai が着手を行うかどうかを判定する\n",
    "        if ai[index] is not None:\n",
    "            x, y = ai[index](self)\n",
    "        else:\n",
    "            # キーボードからの座標の入力\n",
    "            coord = input(\"x,y の形式で座標を入力して下さい。exit を入力すると終了します\")\n",
    "            # \"exit\" が入力されていればメッセージを表示して関数を終了する\n",
    "            if coord == \"exit\":\n",
    "                print(\"ゲームを終了します\")\n",
    "                return       \n",
    "            # x 座標と y 座標を要素として持つ list を計算する\n",
    "            xylist = coord.split(\",\")\n",
    "            # xylist の要素の数が 2 ではない場合\n",
    "            if len(xylist) != 2:\n",
    "                # エラーメッセージを表示する\n",
    "                print(\"x, y の形式ではありません\")\n",
    "                # 残りの while 文のブロックを実行せずに、次の繰り返し処理を行う\n",
    "                continue\n",
    "            x, y = xylist\n",
    "        # (x, y) に着手を行う\n",
    "        try:\n",
    "            self.move(int(x), int(y))\n",
    "        except:\n",
    "            print(\"整数の座標を入力して下さい\")\n",
    "\n",
    "    # 決着がついたので、ゲーム盤を表示する\n",
    "    print(self)\n",
    "\n",
    "Marubatsu.play = play"
   ]
  },
  {
   "cell_type": "code",
   "execution_count": 40,
   "metadata": {},
   "outputs": [],
   "source": [
    "def ai1(mb):\n",
    "    legal_moves = mb.calc_legal_moves()\n",
    "    return legal_moves[0]"
   ]
  }
 ],
 "metadata": {
  "kernelspec": {
   "display_name": "marubatsu",
   "language": "python",
   "name": "python3"
  },
  "language_info": {
   "codemirror_mode": {
    "name": "ipython",
    "version": 3
   },
   "file_extension": ".py",
   "mimetype": "text/x-python",
   "name": "python",
   "nbconvert_exporter": "python",
   "pygments_lexer": "ipython3",
   "version": "3.11.4"
  }
 },
 "nbformat": 4,
 "nbformat_minor": 2
}
