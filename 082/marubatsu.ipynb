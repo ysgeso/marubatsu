{
 "cells": [
  {
   "cell_type": "code",
   "execution_count": 1,
   "metadata": {},
   "outputs": [],
   "source": [
    "from marubatsu import Marubatsu_GUI\n",
    "\n",
    "@staticmethod\n",
    "# ボタンのウィジェットの状態を設定する\n",
    "def set_button_status(button, disabled):\n",
    "    button.disabled = disabled\n",
    "    button.style.button_color = \"lightgray\" if disabled else \"lightgreen\"\n",
    "\n",
    "Marubatsu_GUI.set_button_status = set_button_status\n",
    "\n",
    "# ウィジェットの状態を更新する        \n",
    "def update_widgets_status(self):\n",
    "    # 0 手目と最後の着手を行った局面で、特定のリプレイに関するボタンを操作できないようにする\n",
    "    set_button_status(self.first_button, self.move_count <= 0)\n",
    "    set_button_status(self.prev_button, self.move_count <= 0)\n",
    "    set_button_status(self.next_button, self.move_count >= len(self.board_records) - 1)\n",
    "    set_button_status(self.last_button, self.move_count >= len(self.board_records) - 1)\n",
    "\n",
    "Marubatsu_GUI.update_widgets_status = update_widgets_status"
   ]
  },
  {
   "cell_type": "markdown",
   "metadata": {},
   "source": [
    "本文中で紹介した置換やシンボル名の変更の作業はここでは行いません"
   ]
  },
  {
   "cell_type": "code",
   "execution_count": 2,
   "metadata": {},
   "outputs": [
    {
     "name": "stdout",
     "output_type": "stream",
     "text": [
      "1\n"
     ]
    }
   ],
   "source": [
    "i = 1         # この i はグローバル変数\n",
    "\n",
    "def f():\n",
    "    i = 1     # この i はローカル変数\n",
    "    print(i)  # この i はローカル変数\n",
    "    \n",
    "print(i)      # この i はグローバル変数"
   ]
  },
  {
   "cell_type": "code",
   "execution_count": 3,
   "metadata": {},
   "outputs": [],
   "source": [
    "b = 0\n",
    "\n",
    "def f():\n",
    "    print(a)\n",
    "    print(a * 2)"
   ]
  },
  {
   "cell_type": "code",
   "execution_count": 4,
   "metadata": {},
   "outputs": [
    {
     "ename": "SyntaxError",
     "evalue": "invalid syntax (3106469489.py, line 1)",
     "output_type": "error",
     "traceback": [
      "\u001b[1;36m  Cell \u001b[1;32mIn[4], line 1\u001b[1;36m\u001b[0m\n\u001b[1;33m    def draw_board(self.mb, ax, ai):\u001b[0m\n\u001b[1;37m                       ^\u001b[0m\n\u001b[1;31mSyntaxError\u001b[0m\u001b[1;31m:\u001b[0m invalid syntax\n"
     ]
    }
   ],
   "source": [
    "def draw_board(self.mb, ax, ai):\n",
    "    # Axes の内容をクリアして、これまでの描画内容を削除する\n",
    "    ax.clear()\n",
    "    \n",
    "    # y 軸を反転させる\n",
    "    ax.invert_yaxis()\n",
    "    \n",
    "    # 枠と目盛りを表示しないようにする\n",
    "    ax.axis(\"off\")   \n",
    "    \n",
    "    # ゲームの決着がついていた場合は背景色を\n",
    "    facecolor = \"white\" if self.mb.status == Marubatsu.PLAYING else \"lightyellow\"\n",
    "    ax.figure.set_facecolor(facecolor)\n",
    "        \n",
    "    # 上部のメッセージを描画する\n",
    "    # 対戦カードの文字列を計算する\n",
    "    names = []\n",
    "    for i in range(2):\n",
    "        names.append(\"人間\" if ai[i] is None else ai[i].__name__)\n",
    "    ax.text(0, 3.5, f\"{names[0]}　VS　{names[1]}\", fontsize=20)   \n",
    "    \n",
    "    # ゲームの決着がついていない場合は、手番を表示する\n",
    "    if self.mb.status == Marubatsu.PLAYING:\n",
    "        text = \"Turn \" + self.mb.turn\n",
    "    # 引き分けの場合\n",
    "    elif self.mb.status == Marubatsu.DRAW:\n",
    "        text = \"Draw game\"\n",
    "    # 決着がついていれば勝者を表示する\n",
    "    else:\n",
    "        text = \"Winner \" + self.mb.status\n",
    "    ax.text(0, -0.2, text, fontsize=20)\n",
    "    \n",
    "    # ゲーム盤の枠を描画する\n",
    "    for i in range(1, self.mb.BOARD_SIZE):\n",
    "        ax.plot([0, self.mb.BOARD_SIZE], [i, i], c=\"k\") # 横方向の枠線\n",
    "        ax.plot([i, i], [0, self.mb.BOARD_SIZE], c=\"k\") # 縦方向の枠線   \n",
    "\n",
    "    # ゲーム盤のマークを描画する\n",
    "    for y in range(self.mb.BOARD_SIZE):\n",
    "        for x in range(self.mb.BOARD_SIZE):\n",
    "            color = \"red\" if (x, y) == self.mb.last_move else \"black\"\n",
    "            self.mb.draw_mark(ax, x, y, self.mb.board[x][y], color)            \n",
    "\n",
    "    update_widgets_status()   \n",
    "    \n",
    "Marubatsu_GUI.draw_board = draw_board"
   ]
  },
  {
   "cell_type": "code",
   "execution_count": 5,
   "metadata": {},
   "outputs": [],
   "source": [
    "def draw_board(self, ax, ai):\n",
    "    # Axes の内容をクリアして、これまでの描画内容を削除する\n",
    "    ax.clear()\n",
    "    \n",
    "    # y 軸を反転させる\n",
    "    ax.invert_yaxis()\n",
    "    \n",
    "    # 枠と目盛りを表示しないようにする\n",
    "    ax.axis(\"off\")   \n",
    "    \n",
    "    # ゲームの決着がついていた場合は背景色を\n",
    "    facecolor = \"white\" if self.mb.status == Marubatsu.PLAYING else \"lightyellow\"\n",
    "    ax.figure.set_facecolor(facecolor)\n",
    "        \n",
    "    # 上部のメッセージを描画する\n",
    "    # 対戦カードの文字列を計算する\n",
    "    names = []\n",
    "    for i in range(2):\n",
    "        names.append(\"人間\" if ai[i] is None else ai[i].__name__)\n",
    "    ax.text(0, 3.5, f\"{names[0]}　VS　{names[1]}\", fontsize=20)   \n",
    "    \n",
    "    # ゲームの決着がついていない場合は、手番を表示する\n",
    "    if self.mb.status == Marubatsu.PLAYING:\n",
    "        text = \"Turn \" + self.mb.turn\n",
    "    # 引き分けの場合\n",
    "    elif self.mb.status == Marubatsu.DRAW:\n",
    "        text = \"Draw game\"\n",
    "    # 決着がついていれば勝者を表示する\n",
    "    else:\n",
    "        text = \"Winner \" + self.mb.status\n",
    "    ax.text(0, -0.2, text, fontsize=20)\n",
    "    \n",
    "    # ゲーム盤の枠を描画する\n",
    "    for i in range(1, self.mb.BOARD_SIZE):\n",
    "        ax.plot([0, self.mb.BOARD_SIZE], [i, i], c=\"k\") # 横方向の枠線\n",
    "        ax.plot([i, i], [0, self.mb.BOARD_SIZE], c=\"k\") # 縦方向の枠線   \n",
    "\n",
    "    # ゲーム盤のマークを描画する\n",
    "    for y in range(self.mb.BOARD_SIZE):\n",
    "        for x in range(self.mb.BOARD_SIZE):\n",
    "            color = \"red\" if (x, y) == self.mb.last_move else \"black\"\n",
    "            self.mb.draw_mark(ax, x, y, self.mb.board[x][y], color)            \n",
    "\n",
    "    update_widgets_status()   \n",
    "    \n",
    "Marubatsu_GUI.draw_board = draw_board"
   ]
  },
  {
   "cell_type": "code",
   "execution_count": 6,
   "metadata": {},
   "outputs": [
    {
     "data": {
      "application/vnd.jupyter.widget-view+json": {
       "model_id": "033ba267d3454055a5f825e1c4f0af53",
       "version_major": 2,
       "version_minor": 0
      },
      "text/plain": [
       "VBox(children=(HBox(children=(Dropdown(description='〇', layout=Layout(width='100px'), options={'人間': '人間'}, st…"
      ]
     },
     "metadata": {},
     "output_type": "display_data"
    },
    {
     "ename": "TypeError",
     "evalue": "update_widgets_status() missing 1 required positional argument: 'self'",
     "output_type": "error",
     "traceback": [
      "\u001b[1;31m---------------------------------------------------------------------------\u001b[0m",
      "\u001b[1;31mTypeError\u001b[0m                                 Traceback (most recent call last)",
      "Cell \u001b[1;32mIn[6], line 5\u001b[0m\n\u001b[0;32m      3\u001b[0m mb \u001b[38;5;241m=\u001b[39m Marubatsu()\n\u001b[0;32m      4\u001b[0m mb_gui \u001b[38;5;241m=\u001b[39m Marubatsu_GUI(mb, ai\u001b[38;5;241m=\u001b[39m[\u001b[38;5;28;01mNone\u001b[39;00m, \u001b[38;5;28;01mNone\u001b[39;00m])\n\u001b[1;32m----> 5\u001b[0m mb_gui\u001b[38;5;241m.\u001b[39mdraw_board(mb_gui\u001b[38;5;241m.\u001b[39max, mb_gui\u001b[38;5;241m.\u001b[39mai)\n",
      "Cell \u001b[1;32mIn[5], line 44\u001b[0m, in \u001b[0;36mdraw_board\u001b[1;34m(self, ax, ai)\u001b[0m\n\u001b[0;32m     41\u001b[0m         color \u001b[38;5;241m=\u001b[39m \u001b[38;5;124m\"\u001b[39m\u001b[38;5;124mred\u001b[39m\u001b[38;5;124m\"\u001b[39m \u001b[38;5;28;01mif\u001b[39;00m (x, y) \u001b[38;5;241m==\u001b[39m \u001b[38;5;28mself\u001b[39m\u001b[38;5;241m.\u001b[39mmb\u001b[38;5;241m.\u001b[39mlast_move \u001b[38;5;28;01melse\u001b[39;00m \u001b[38;5;124m\"\u001b[39m\u001b[38;5;124mblack\u001b[39m\u001b[38;5;124m\"\u001b[39m\n\u001b[0;32m     42\u001b[0m         \u001b[38;5;28mself\u001b[39m\u001b[38;5;241m.\u001b[39mmb\u001b[38;5;241m.\u001b[39mdraw_mark(ax, x, y, \u001b[38;5;28mself\u001b[39m\u001b[38;5;241m.\u001b[39mmb\u001b[38;5;241m.\u001b[39mboard[x][y], color)            \n\u001b[1;32m---> 44\u001b[0m update_widgets_status()\n",
      "\u001b[1;31mTypeError\u001b[0m: update_widgets_status() missing 1 required positional argument: 'self'"
     ]
    },
    {
     "data": {
      "application/vnd.jupyter.widget-view+json": {
       "model_id": "22e7072055b94fd89adba21ced5fe4cb",
       "version_major": 2,
       "version_minor": 0
      },
      "image/png": "[encoded data removed]",
      "text/html": [
       "\n",
       "            <div style=\"display: inline-block;\">\n",
       "                <div class=\"jupyter-widgets widget-label\" style=\"text-align: center;\">\n",
       "                    Figure\n",
       "                </div>\n",
       "                <img src='data:image/png;base64,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' width=300.0/>\n",
       "            </div>\n",
       "        "
      ],
      "text/plain": [
       "Canvas(footer_visible=False, header_visible=False, resizable=False, toolbar=Toolbar(toolitems=[('Home', 'Reset…"
      ]
     },
     "metadata": {},
     "output_type": "display_data"
    }
   ],
   "source": [
    "from marubatsu import Marubatsu\n",
    "\n",
    "mb = Marubatsu()\n",
    "mb_gui = Marubatsu_GUI(mb, ai=[None, None])\n",
    "mb_gui.draw_board(mb_gui.ax, mb_gui.ai)"
   ]
  },
  {
   "cell_type": "code",
   "execution_count": 7,
   "metadata": {},
   "outputs": [],
   "source": [
    "def draw_board(self, ax, ai):\n",
    "    # Axes の内容をクリアして、これまでの描画内容を削除する\n",
    "    ax.clear()\n",
    "    \n",
    "    # y 軸を反転させる\n",
    "    ax.invert_yaxis()\n",
    "    \n",
    "    # 枠と目盛りを表示しないようにする\n",
    "    ax.axis(\"off\")   \n",
    "    \n",
    "    # ゲームの決着がついていた場合は背景色を\n",
    "    facecolor = \"white\" if self.mb.status == Marubatsu.PLAYING else \"lightyellow\"\n",
    "    ax.figure.set_facecolor(facecolor)\n",
    "        \n",
    "    # 上部のメッセージを描画する\n",
    "    # 対戦カードの文字列を計算する\n",
    "    names = []\n",
    "    for i in range(2):\n",
    "        names.append(\"人間\" if ai[i] is None else ai[i].__name__)\n",
    "    ax.text(0, 3.5, f\"{names[0]}　VS　{names[1]}\", fontsize=20)   \n",
    "    \n",
    "    # ゲームの決着がついていない場合は、手番を表示する\n",
    "    if self.mb.status == Marubatsu.PLAYING:\n",
    "        text = \"Turn \" + self.mb.turn\n",
    "    # 引き分けの場合\n",
    "    elif self.mb.status == Marubatsu.DRAW:\n",
    "        text = \"Draw game\"\n",
    "    # 決着がついていれば勝者を表示する\n",
    "    else:\n",
    "        text = \"Winner \" + self.mb.status\n",
    "    ax.text(0, -0.2, text, fontsize=20)\n",
    "    \n",
    "    # ゲーム盤の枠を描画する\n",
    "    for i in range(1, self.mb.BOARD_SIZE):\n",
    "        ax.plot([0, self.mb.BOARD_SIZE], [i, i], c=\"k\") # 横方向の枠線\n",
    "        ax.plot([i, i], [0, self.mb.BOARD_SIZE], c=\"k\") # 縦方向の枠線   \n",
    "\n",
    "    # ゲーム盤のマークを描画する\n",
    "    for y in range(self.mb.BOARD_SIZE):\n",
    "        for x in range(self.mb.BOARD_SIZE):\n",
    "            color = \"red\" if (x, y) == self.mb.last_move else \"black\"\n",
    "            self.mb.draw_mark(ax, x, y, self.mb.board[x][y], color)            \n",
    "\n",
    "    self.update_widgets_status()   \n",
    "    \n",
    "Marubatsu_GUI.draw_board = draw_board"
   ]
  },
  {
   "cell_type": "code",
   "execution_count": 8,
   "metadata": {},
   "outputs": [
    {
     "data": {
      "application/vnd.jupyter.widget-view+json": {
       "model_id": "6b821e65209f42caac48e396a98e77e0",
       "version_major": 2,
       "version_minor": 0
      },
      "text/plain": [
       "VBox(children=(HBox(children=(Dropdown(description='〇', layout=Layout(width='100px'), options={'人間': '人間'}, st…"
      ]
     },
     "metadata": {},
     "output_type": "display_data"
    },
    {
     "ename": "AttributeError",
     "evalue": "'Marubatsu_GUI' object has no attribute 'move_count'",
     "output_type": "error",
     "traceback": [
      "\u001b[1;31m---------------------------------------------------------------------------\u001b[0m",
      "\u001b[1;31mAttributeError\u001b[0m                            Traceback (most recent call last)",
      "Cell \u001b[1;32mIn[8], line 2\u001b[0m\n\u001b[0;32m      1\u001b[0m mb_gui \u001b[38;5;241m=\u001b[39m Marubatsu_GUI(mb, ai\u001b[38;5;241m=\u001b[39m[\u001b[38;5;28;01mNone\u001b[39;00m, \u001b[38;5;28;01mNone\u001b[39;00m])\n\u001b[1;32m----> 2\u001b[0m mb_gui\u001b[38;5;241m.\u001b[39mdraw_board(mb_gui\u001b[38;5;241m.\u001b[39max, mb_gui\u001b[38;5;241m.\u001b[39mai)\n",
      "Cell \u001b[1;32mIn[7], line 44\u001b[0m, in \u001b[0;36mdraw_board\u001b[1;34m(self, ax, ai)\u001b[0m\n\u001b[0;32m     41\u001b[0m         color \u001b[38;5;241m=\u001b[39m \u001b[38;5;124m\"\u001b[39m\u001b[38;5;124mred\u001b[39m\u001b[38;5;124m\"\u001b[39m \u001b[38;5;28;01mif\u001b[39;00m (x, y) \u001b[38;5;241m==\u001b[39m \u001b[38;5;28mself\u001b[39m\u001b[38;5;241m.\u001b[39mmb\u001b[38;5;241m.\u001b[39mlast_move \u001b[38;5;28;01melse\u001b[39;00m \u001b[38;5;124m\"\u001b[39m\u001b[38;5;124mblack\u001b[39m\u001b[38;5;124m\"\u001b[39m\n\u001b[0;32m     42\u001b[0m         \u001b[38;5;28mself\u001b[39m\u001b[38;5;241m.\u001b[39mmb\u001b[38;5;241m.\u001b[39mdraw_mark(ax, x, y, \u001b[38;5;28mself\u001b[39m\u001b[38;5;241m.\u001b[39mmb\u001b[38;5;241m.\u001b[39mboard[x][y], color)            \n\u001b[1;32m---> 44\u001b[0m \u001b[38;5;28mself\u001b[39m\u001b[38;5;241m.\u001b[39mupdate_widgets_status()\n",
      "Cell \u001b[1;32mIn[1], line 14\u001b[0m, in \u001b[0;36mupdate_widgets_status\u001b[1;34m(self)\u001b[0m\n\u001b[0;32m     12\u001b[0m \u001b[38;5;28;01mdef\u001b[39;00m \u001b[38;5;21mupdate_widgets_status\u001b[39m(\u001b[38;5;28mself\u001b[39m):\n\u001b[0;32m     13\u001b[0m     \u001b[38;5;66;03m# 0 手目と最後の着手を行った局面で、特定のリプレイに関するボタンを操作できないようにする\u001b[39;00m\n\u001b[1;32m---> 14\u001b[0m     set_button_status(\u001b[38;5;28mself\u001b[39m\u001b[38;5;241m.\u001b[39mfirst_button, \u001b[38;5;28mself\u001b[39m\u001b[38;5;241m.\u001b[39mmove_count \u001b[38;5;241m<\u001b[39m\u001b[38;5;241m=\u001b[39m \u001b[38;5;241m0\u001b[39m)\n\u001b[0;32m     15\u001b[0m     set_button_status(\u001b[38;5;28mself\u001b[39m\u001b[38;5;241m.\u001b[39mprev_button, \u001b[38;5;28mself\u001b[39m\u001b[38;5;241m.\u001b[39mmove_count \u001b[38;5;241m<\u001b[39m\u001b[38;5;241m=\u001b[39m \u001b[38;5;241m0\u001b[39m)\n\u001b[0;32m     16\u001b[0m     set_button_status(\u001b[38;5;28mself\u001b[39m\u001b[38;5;241m.\u001b[39mnext_button, \u001b[38;5;28mself\u001b[39m\u001b[38;5;241m.\u001b[39mmove_count \u001b[38;5;241m>\u001b[39m\u001b[38;5;241m=\u001b[39m \u001b[38;5;28mlen\u001b[39m(\u001b[38;5;28mself\u001b[39m\u001b[38;5;241m.\u001b[39mboard_records) \u001b[38;5;241m-\u001b[39m \u001b[38;5;241m1\u001b[39m)\n",
      "\u001b[1;31mAttributeError\u001b[0m: 'Marubatsu_GUI' object has no attribute 'move_count'"
     ]
    },
    {
     "data": {
      "application/vnd.jupyter.widget-view+json": {
       "model_id": "1da52b32fcc2470eaa55acc1ca97b1f0",
       "version_major": 2,
       "version_minor": 0
      },
      "image/png": "[encoded data removed]",
      "text/html": [
       "\n",
       "            <div style=\"display: inline-block;\">\n",
       "                <div class=\"jupyter-widgets widget-label\" style=\"text-align: center;\">\n",
       "                    Figure\n",
       "                </div>\n",
       "                <img src='data:image/png;base64,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' width=300.0/>\n",
       "            </div>\n",
       "        "
      ],
      "text/plain": [
       "Canvas(footer_visible=False, header_visible=False, resizable=False, toolbar=Toolbar(toolitems=[('Home', 'Reset…"
      ]
     },
     "metadata": {},
     "output_type": "display_data"
    }
   ],
   "source": [
    "mb_gui = Marubatsu_GUI(mb, ai=[None, None])\n",
    "mb_gui.draw_board(mb_gui.ax, mb_gui.ai)"
   ]
  },
  {
   "cell_type": "code",
   "execution_count": 9,
   "metadata": {},
   "outputs": [],
   "source": [
    "def update_widgets_status(self):\n",
    "    # 0 手目と最後の着手を行った局面で、特定のリプレイに関するボタンを操作できないようにする\n",
    "    set_button_status(self.first_button, self.mb.move_count <= 0)\n",
    "    set_button_status(self.prev_button, self.mb.move_count <= 0)\n",
    "    set_button_status(self.next_button, self.mb.move_count >= len(self.mb.board_records) - 1)\n",
    "    set_button_status(self.last_button, self.mb.move_count >= len(self.mb.board_records) - 1)\n",
    "\n",
    "Marubatsu_GUI.update_widgets_status = update_widgets_status"
   ]
  },
  {
   "cell_type": "code",
   "execution_count": 10,
   "metadata": {},
   "outputs": [
    {
     "data": {
      "application/vnd.jupyter.widget-view+json": {
       "model_id": "ce5654ddbfd94134862a2edd3a6e39b9",
       "version_major": 2,
       "version_minor": 0
      },
      "text/plain": [
       "VBox(children=(HBox(children=(Dropdown(description='〇', layout=Layout(width='100px'), options={'人間': '人間'}, st…"
      ]
     },
     "metadata": {},
     "output_type": "display_data"
    },
    {
     "data": {
      "application/vnd.jupyter.widget-view+json": {
       "model_id": "4d2cbb03da73439f8fb9e903bdb9a9ca",
       "version_major": 2,
       "version_minor": 0
      },
      "image/png": "[encoded data removed]",
      "text/html": [
       "\n",
       "            <div style=\"display: inline-block;\">\n",
       "                <div class=\"jupyter-widgets widget-label\" style=\"text-align: center;\">\n",
       "                    Figure\n",
       "                </div>\n",
       "                <img src='data:image/png;base64,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' width=300.0/>\n",
       "            </div>\n",
       "        "
      ],
      "text/plain": [
       "Canvas(footer_visible=False, header_visible=False, resizable=False, toolbar=Toolbar(toolitems=[('Home', 'Reset…"
      ]
     },
     "metadata": {},
     "output_type": "display_data"
    }
   ],
   "source": [
    "mb_gui = Marubatsu_GUI(mb, ai=[None, None])\n",
    "mb_gui.draw_board(mb_gui.ax, mb_gui.ai)"
   ]
  },
  {
   "cell_type": "code",
   "execution_count": 11,
   "metadata": {},
   "outputs": [],
   "source": [
    "def draw_board(self):\n",
    "    # Axes の内容をクリアして、これまでの描画内容を削除する\n",
    "    ax.clear()\n",
    "    \n",
    "    # y 軸を反転させる\n",
    "    ax.invert_yaxis()\n",
    "    \n",
    "    # 枠と目盛りを表示しないようにする\n",
    "    ax.axis(\"off\")   \n",
    "    \n",
    "    # ゲームの決着がついていた場合は背景色を\n",
    "    facecolor = \"white\" if self.mb.status == Marubatsu.PLAYING else \"lightyellow\"\n",
    "    ax.figure.set_facecolor(facecolor)\n",
    "        \n",
    "    # 上部のメッセージを描画する\n",
    "    # 対戦カードの文字列を計算する\n",
    "    names = []\n",
    "    for i in range(2):\n",
    "        names.append(\"人間\" if ai[i] is None else ai[i].__name__)\n",
    "    ax.text(0, 3.5, f\"{names[0]}　VS　{names[1]}\", fontsize=20)   \n",
    "    \n",
    "    # ゲームの決着がついていない場合は、手番を表示する\n",
    "    if self.mb.status == Marubatsu.PLAYING:\n",
    "        text = \"Turn \" + self.mb.turn\n",
    "    # 引き分けの場合\n",
    "    elif self.mb.status == Marubatsu.DRAW:\n",
    "        text = \"Draw game\"\n",
    "    # 決着がついていれば勝者を表示する\n",
    "    else:\n",
    "        text = \"Winner \" + self.mb.status\n",
    "    ax.text(0, -0.2, text, fontsize=20)\n",
    "    \n",
    "    # ゲーム盤の枠を描画する\n",
    "    for i in range(1, self.mb.BOARD_SIZE):\n",
    "        ax.plot([0, self.mb.BOARD_SIZE], [i, i], c=\"k\") # 横方向の枠線\n",
    "        ax.plot([i, i], [0, self.mb.BOARD_SIZE], c=\"k\") # 縦方向の枠線   \n",
    "\n",
    "    # ゲーム盤のマークを描画する\n",
    "    for y in range(self.mb.BOARD_SIZE):\n",
    "        for x in range(self.mb.BOARD_SIZE):\n",
    "            color = \"red\" if (x, y) == self.mb.last_move else \"black\"\n",
    "            self.mb.draw_mark(ax, x, y, self.mb.board[x][y], color)            \n",
    "\n",
    "    self.update_widgets_status()   \n",
    "    \n",
    "Marubatsu_GUI.draw_board = draw_board"
   ]
  },
  {
   "cell_type": "code",
   "execution_count": 12,
   "metadata": {},
   "outputs": [],
   "source": [
    "def draw_board(self):\n",
    "    ax = self.ax\n",
    "    ai = self.ai\n",
    "    \n",
    "    # Axes の内容をクリアして、これまでの描画内容を削除する\n",
    "    ax.clear()\n",
    "    \n",
    "    # y 軸を反転させる\n",
    "    ax.invert_yaxis()\n",
    "    \n",
    "    # 枠と目盛りを表示しないようにする\n",
    "    ax.axis(\"off\")   \n",
    "    \n",
    "    # ゲームの決着がついていた場合は背景色を\n",
    "    facecolor = \"white\" if self.mb.status == Marubatsu.PLAYING else \"lightyellow\"\n",
    "    ax.figure.set_facecolor(facecolor)\n",
    "        \n",
    "    # 上部のメッセージを描画する\n",
    "    # 対戦カードの文字列を計算する\n",
    "    names = []\n",
    "    for i in range(2):\n",
    "        names.append(\"人間\" if ai[i] is None else ai[i].__name__)\n",
    "    ax.text(0, 3.5, f\"{names[0]}　VS　{names[1]}\", fontsize=20)   \n",
    "    \n",
    "    # ゲームの決着がついていない場合は、手番を表示する\n",
    "    if self.mb.status == Marubatsu.PLAYING:\n",
    "        text = \"Turn \" + self.mb.turn\n",
    "    # 引き分けの場合\n",
    "    elif self.mb.status == Marubatsu.DRAW:\n",
    "        text = \"Draw game\"\n",
    "    # 決着がついていれば勝者を表示する\n",
    "    else:\n",
    "        text = \"Winner \" + self.mb.status\n",
    "    ax.text(0, -0.2, text, fontsize=20)\n",
    "    \n",
    "    # ゲーム盤の枠を描画する\n",
    "    for i in range(1, self.mb.BOARD_SIZE):\n",
    "        ax.plot([0, self.mb.BOARD_SIZE], [i, i], c=\"k\") # 横方向の枠線\n",
    "        ax.plot([i, i], [0, self.mb.BOARD_SIZE], c=\"k\") # 縦方向の枠線   \n",
    "\n",
    "    # ゲーム盤のマークを描画する\n",
    "    for y in range(self.mb.BOARD_SIZE):\n",
    "        for x in range(self.mb.BOARD_SIZE):\n",
    "            color = \"red\" if (x, y) == self.mb.last_move else \"black\"\n",
    "            self.mb.draw_mark(ax, x, y, self.mb.board[x][y], color)            \n",
    "\n",
    "    self.update_widgets_status()   \n",
    "    \n",
    "Marubatsu_GUI.draw_board = draw_board"
   ]
  },
  {
   "cell_type": "code",
   "execution_count": 12,
   "metadata": {},
   "outputs": [
    {
     "data": {
      "application/vnd.jupyter.widget-view+json": {
       "model_id": "1e2edd99bd1243938bb845f537bf9da2",
       "version_major": 2,
       "version_minor": 0
      },
      "text/plain": [
       "VBox(children=(HBox(children=(Dropdown(description='〇', layout=Layout(width='100px'), options={'人間': '人間'}, st…"
      ]
     },
     "metadata": {},
     "output_type": "display_data"
    },
    {
     "data": {
      "application/vnd.jupyter.widget-view+json": {
       "model_id": "efd832491ae8439580720a8d881762b9",
       "version_major": 2,
       "version_minor": 0
      },
      "image/png": "[encoded data removed]",
      "text/html": [
       "\n",
       "            <div style=\"display: inline-block;\">\n",
       "                <div class=\"jupyter-widgets widget-label\" style=\"text-align: center;\">\n",
       "                    Figure\n",
       "                </div>\n",
       "                <img src='data:image/png;base64,iVBORw0KGgoAAAANSUhEUgAAASwAAAEsCAYAAAB5fY51AAAAOXRFWHRTb2Z0d2FyZQBNYXRwbG90bGliIHZlcnNpb24zLjguMCwgaHR0cHM6Ly9tYXRwbG90bGliLm9yZy81sbWrAAAACXBIWXMAAA9hAAAPYQGoP6dpAAAT4klEQVR4nO3dbXBU5d3H8d/JAwvZFSWAwUaH0mkKFBmVItEqA0MitYgyxNI6BYxRW2wHWq1asCMP02mtguIDviiFFkYBoSlQoaQYNZGO4JCqrdSppNialjaWAhISNiHE5LpfaPa2zSZZ2N2c/Sffz0zGnd1rz167c/nNOScnwXPOOQGAAWl+TwAAYkWwAJhBsACYQbAAmEGwAJhBsACYQbAAmEGwAJhBsACYQbAAmGE+WDU1NfI8L66vyZMn+/02AMQgw+8JxCs9PV2DBw/u9PHjx49LkgYMGKCsrKyoY84///ykzA1AYnm9/ZefPc+TJC1dulTLli3zdzIA4mL+kBBA30GwAJhBsACYQbA+9smfNr7yyiudjlu2bJk8z9OnP/3pLrdRV1cnSSotLdXYsWMVCAT0q1/9KjJ28uTJ8jxPDz/8sCTprbfeUnFxsS655BIFAgHl5uaqpKRENTU1cb0v55x++ctfavr06Ro2bJgCgYAuuugi3XTTTdq6dWtc2wZ6mvmfEqayn/3sZ5o3b57S0tIUCAR02WWXRR23Zs0azZ8/X2fOnFFmZqba2tpUW1ur9evXa9euXdq/f79GjBhx1q//wQcf6Ctf+YoqKyslffQDiFAopH//+9/auXOndu7cqcLCQm3ZskXZ2dlxvVegJ7CHlSR///vfdffdd+u+++7TiRMn1NjYqLy8vA7jdu3apbvuuktjxozRK6+8onA4rIaGBq1du1aBQEBHjx7VokWLzvr1m5ubdf3116uyslL9+vXT8uXLdfz4cdXX1+v48eP6yU9+on79+umll17S9ddfr+bm5kS8bSC5XC8nyUlyS5cu7XLce++9FxlbWVnZ6bilS5c6SW748OFdbmP27NmuuLi40+1MmjQpMvbSSy919fX1HcYsWLDASXKBQMA1Nzd3Of//tXjxYifJeZ7nduzYEXXM888/7zzPc5LckiVLzmr7gB/Yw0qSsrIyLV++PKaxv/jFL3Teeed1uH/GjBmSPtpbevfdd2N+7dOnT+vJJ5+UJN1yyy268cYbo4676aab9LWvfU2S9OSTT7KXhZRHsJKkqKhIF154YbfjJk2apCuvvDLqYxdffHHk9okTJ2J+7VdffVX19fWSpNtuu63LsSUlJZKkkydPat++fTG/BuAHgpUk1113XUzjov20sV0gEIjcbmlpifm1Dx48GLn9hS98ocux48aNi9x+5513Yn4NwA8EK0lycnJ8e+2TJ09Gbnf3e5KffLz9UgwgVRGsXmjgwIGR2w0NDV2ObT90/N/nAamIYH0sI+P/L0nr6vCrurq6J6YTl8997nOR22+99VaXY//whz9EfR6QigjWxwYNGhS5/a9//SvqmL/97W8qLS3tqSmds4kTJyoYDEqSNmzY0OXYZ599VpIUDAZ17bXXJn1uQDwI1seCwaA++9nPSvroYs7/debMGc2ZM0etra09PbWzlpWVpW9961uSpPXr13f6q0bl5eWRoM2fP7/TvxcGpAqC9Qlz5syRJG3btk0rV65UOBxWa2urqqqqNGXKFL322msqKCjweZaxWbZsmcaOHavW1lbdcMMNeuqppyIn4+vq6vT4449rxowZamtr02WXXaYlS5b4PGOgewTrE+6//37l5+erra1N9957rwYOHKisrCzl5+frtdde00MPPaS77rrL72nGJBgMqry8XFdddZUaGxv13e9+V4MGDdL555+v7Oxsfe9739Pp06c1ceJEvfjii+xdwQSC9QlZWVmqqKjQ4sWLlZeXp4yMDGVnZ2vWrFnau3evHnjgAb+neFaGDRumvXv36plnntHUqVM1ZMgQNTU1aejQoZo2bZqee+457dmzR0OHDvV7qkBMev2fSAbQe7CHBcAMggXADIIFwAyCBcAMggXADIIFwAyCBcAMggXADIIFwAyCBcAMggXADIIFwAz+qfpeyDmnxsZGSR/9BQrP83yeUWrgc7GPPaxeqLGxUaFQSKFQKPI/KPhcegOCBcAMggXADIIFwAyCBcAMggXADIIFwAyCBcAMggXADIIFwAyCBcAMggXADIIFwAyCBcAMggXADIIFwAyCBcAMggXADIIFwAyCBcAMggXADIIFwAyCBcAMggXADIIFwAyCBcAMggXADIIFwAyCBcAMggXADIIFwAyCBcAMggXADIIFwAyCBcAMggXADIIFwAyCBcAMggXADIIFwAyCBcAMggXADIIFwAyCBcAMggXADIIFwAyCBcAMggXADIIFwAyCBcAMggXADIIFwAyCBcAMggXADIIFwAyCBcAMggXADIIFwAyCBcAMggXADIIFwAyCBcAMggXADIIFwAyCBcAMggXADIIFwAyCBcAMggXAjAy/J3CunHNqbGz0exopKRwOR73d1/G5dC8rK0ue5/k9jU55zjnn9yTORTgcVigU8nsaQK9y6tQpBYNBv6fRKQ4JAZhhdg+LQ8LOhcNh5eTkSJKOHDmS0t8xexKfS/dS/ZDQ7Dksz/NYcDEIBoN8TlHwudjEISEAMwgWADMIFgAzCBYAMwgWADMIFgAzCBYAMwgWADMIFgAzCBYAMwgWADMIFgAzCBYAMwgWADMIFgAzCBYAMwgWADMIFgAzCBYAMwgWADMIFgAzCBYAMwgWADMIFgAzCBYAMwgWADMIFgAzCBYAMwgWADMIFgAzCBYAMwgWADMIFgAzCBYAMwgWADMIFgAzCBYAMwgWADMIFgAzCBYAMwgWADMIFgAzCBYAMwgWADMIFgAzCBYAMwgWADMIFgAzCBYAMwgWADMIFgAzCBYAMwgWADMIFgAzCBYAMwgWADMIFgAzCBYAMwgWADMIFgAzCBYAMwgWADMIFgAzCBYAMwgWADMy/J7AuXLOqbGx0e9ppKRwOBz1dl/H59K9rKwseZ7n9zQ65TnnnN+TOBfhcFihUMjvaQC9yqlTpxQMBv2eRqc4JARghtk9LA4JOxcOh5WTkyNJOnLkSEp/x+xJfC7dS/VDQrPnsDzPY8HFIBgM8jlFwediE4eEAMwgWADMIFgAzCBYAMwgWADMIFgAzCBYAMwgWADMIFgAzCBYAMwgWADMIFgAzCBYAMwgWADMIFgAzCBYAMwgWADMIFgAzCBYAMwgWADMIFgAzCBYAMwgWADMIFgAzCBYAMwgWADMIFgAzCBYAMwgWADMIFgAzCBYAMwgWADMIFgAzCBYAMwgWADMIFgAzCBYAMwgWADMIFgAzCBYAMwgWADMIFgAzCBYAMwgWADMIFgAzCBYAMwgWADMIFgAzCBYAMwgWADMIFgAzCBYAMwgWADMIFgAzCBYAMwgWADMIFgAzCBYAMwgWADMIFgAzCBYAMwgWADMIFgAzCBYAMwgWADMIFgAzCBYAMwgWADM8Jxzzu9JILGcc2psbJQkZWVlyfM8n2eUGvhc7CNYAMzgkBCAGQQLgBkEC4AZBAuAGQQLgBkEC4AZBAuAGQQLgBkEC4AZGX5PoKe1tLQoHA4rLS1NAwcO9Hs6MIg15J8+F6wtW7Zo7ty5Gj58uGpqas55O5s2bVJVVVW3477+9a9rwoQJqqqq0qZNm7odn52drSVLlpzzvJB8rCEfuT7m2WefdZLc8OHD49pOcXGxk9Tt17p165xzzq1bty6m8fHOKx7f/OY3I/P461//GvPzmpub3QUXXOAkuYkTJ3Z4vLa21i1cuNCNHTvWhUIhl5WV5fLy8twtt9zidu7c6dra2hL5NpKONeSfPncO68yZM5KkpqamhGxv+/btcs51+Fq1alXU8atWrYo6/sSJEwmZTzxuu+22yO0NGzbE/LyysjLV1dVJkm6//fb/eqy8vFyjR4/WI488oj/96U9qaWlRa2urDh06pM2bN+vGG2/Ul770JdXW1ibiLfQI1pB/+twhYfufF2loaEjI9g4cOKBQKNTh/urq6qjjq6ur9dJLL3W4PxwOJ2Q+8bj66qs1cuRIVVdXa+PGjTEfVmzcuFGSdN5552nWrFmR+w8dOqSioiKFw2FdccUVWrVqlb74xS9KkmpqarR27VqtWLFCL774oqZMmaJ9+/YpOzs78W8swVhDPurZHTr/PfLII5Fd55aWlnPeTm/dnX/ooYcic9m/f3+340+ePOn69+/vJLk777zzvx4rKSlxklx2drY7duxY1Oe//PLLLjMz02VlZbndu3cn5D0kG2vIP31uD6u+vj5y+/DhwxoxYkRc23v66adVUFDQ4f6NGzfqRz/6UYf7H3zwQc2ePbvD/Q0NDZowYUJcc0mEW2+9VQ8++KDa2tq0YcOGbue0detWnT59WlL0w0FJmjlzpgYPHhz1+VOmTNGaNWs0YcIEjR49OgHvIPlYQ/7pc8H65E913n777bgXW25urkaNGtXh/pycnKjjc3Jyoo5vPwfkt9zcXBUWFqq8vFybN2/WypUrlZHR+TJpPxwcNWqUrr766v967D//+Y8kadCgQV2+ZnFxcZyz7lmsIf/0uZPu7733XuT222+/Hff2Zs6cKc/zOnwtWLAg6vgFCxZEHd/d/9Q9qf3k+9GjR/XCCy90Oq62tlaVlZWSpDvuuKPD4xdeeKEkaceOHWpubk78RH3CGvJPn9vDevfddyO3Kysr9cADD8S1vaKiIuXl5XX6+NixYyP/XbhwYafjmpub9cQTT8Q1l0SZOXOmLrjgAtXV1WnDhg264YYboo7bvHmz2tralJGRoblz53Z4/Oabb9ZTTz2lv/zlL5o2bZrWrl0b995IKmAN+cjvk2g9qbq62klyo0ePdpdcconLzMx0dXV157St9hOm27dvT8jcTpw4kVInTNuvyRowYICrr6+POmbcuHFOkpsxY0bUxz/44AP3mc98JnIyuF+/fu4b3/iG+/Of/5zEmScXa8hffeqQ8He/+50k6dprr9XUqVPV0tKinTt3+jyr1NR+WNjU1KRt27Z1ePzgwYN68803JXU82d5u0KBB2rNnj/Lz8yV9dP3SmjVrNGbMGH35y19WRUVFciafRKwhf/WpYLUvrIKCAt18882SpMceeyyhr3HppZdGPb8Q7evYsWMJfe1Ear8mS4p+EWn7yfZhw4Zp2rRpnW7n4osv1t69e7V27drI9pxz2r17twoKClRQUNDp9UapiDXkrz5zDuv9999XWVmZgsGgpk+frv79+ys3N1d//OMf9Zvf/EbTp09P6OvNmzev08d27Nih999/P6GvlwzFxcX6wQ9+oIqKCtXW1upTn/pU5LH232m79dZbu/wpoiSlp6frjjvu0O233649e/bo6aef1vbt29XW1qaKigqNHz9e27Zt03XXXZfU9xMv1lAK8PuYtKcsXrzYSXJz586N3PfYY485SW7UqFGusbHxrLbX2fmHMWPGuO4+1kmTJjlJ7ujRo5H7UvH8wz//+U+XlpbmJLkVK1ZE7t+3b1/kvNTBgwfPadvvvPOOmzp1amQ7oVDIHTlyJFFTTwrWkP/6xCFhTU2NHn30UXmep/vvvz9y//z58/X5z39eBw8e1KJFi3ycYWpqvyZLkp577rnI/Vu2bJEkXXPNNZHDvLM1atQo7d69W9/+9rclSadOndLjjz8e54yThzWUGvpEsO6++241NTWpqKgo8iNiSerXr59+/vOfKy0tTatWrVJpaWnCXrOr8w579uxJ2OskW/vJ9zfffFOHDh2SpMhJ+M5OtsfK8zytXLlSubm5kqR9+/bFtb1kYg2lhl5/DuvRRx/V888/r1AoFPU7+FVXXaX77rtPy5cv1+zZsxUMBrs8iRyrrq6X2bRpkw4fPhz3a/SET16TVVpaqsLCQh0+fFihUEhf/epX495+IBBQfn6+tm3bFrkyPtWwhlKI38ekybRp0ybneZ6T5FavXt3puNbWVjd9+nQnyfXv39+VlpZ2u+2+dP6h/ZqsCRMmuO9///tOkispKen2eVVVVe7HP/5xt+MmT57sJLnCwsJETDehWEOppdcG66c//anLzMx0kty8efO6Hd/Q0OAuv/zyyEnghQsXug8//LDT8X1psbWfZPc8z+Xk5DhJ7tVXX+3yOWVlZS4QCDhJ7uGHH+503BtvvOHS09OdJPfEE08keupxYQ2lnl4XrKampsifNZHkioqK3JkzZ2J67rFjx1x+fn7kuddcc407cOBA1LHdLbZYviwttpEjR0bmPXLkyG7Hnzx5MnIlvCQ3depU98ILL0R+klZXV+dWr17thgwZ4iS5vLw819TUlOy3ERPWUOrqVeewtm7dqkWLFkV+12vOnDlat25dt9cJtRs8eLAqKio0a9YslZWVae/evRo3bpy+853vaMWKFUpLi/1nFF1dQ9NuwIABMW/Pb+3XZElSSUlJt+MHDhyol19+Wffcc4/Wr1+v8vLyyJ+bCYVCOnXqVGTsmDFjtGvXLvXv3z85kz8LrKEU53cxE+HDDz90hYWFke86mZmZbuXKlXFt74c//KHLyMhwktw999zTYUw8u/POfXTO47e//a07cOCA+8c//uGeeeYZJ8mNGDHinOedTO3XZKWnp7va2tqzeu4bb7zh7r33Xnf55Ze7oUOHuoyMDDdkyBBXUFDgVq9e7Zqbm5M069ixhmzoFcFyzrlf//rXLj093Y0fP969/vrrCdnm73//e3fnnXdGPQ/R2WKrqqpylZWVMW2//R9u+OTX5MmTEzBznAvWUOrrNYeEM2bM0P79+3XFFVec1W53V8aPH6/x48ef1XOuvPLKmMfOnTtXr7/+usLhsFpbW3XRRRdF/QuT6BmsodTnOeec35MAgFj0iSvdAfQOBAuAGQQLgBkEC4AZBAuAGf8HHIVOjertMcEAAAAASUVORK5CYII=' width=300.0/>\n",
       "            </div>\n",
       "        "
      ],
      "text/plain": [
       "Canvas(footer_visible=False, header_visible=False, resizable=False, toolbar=Toolbar(toolitems=[('Home', 'Reset…"
      ]
     },
     "metadata": {},
     "output_type": "display_data"
    }
   ],
   "source": [
    "mb_gui = Marubatsu_GUI(mb, ai=[None, None])\n",
    "mb_gui.draw_board()"
   ]
  },
  {
   "cell_type": "code",
   "execution_count": 13,
   "metadata": {},
   "outputs": [],
   "source": [
    "def play(self, ai, ai_dict=None, params=None, verbose=True, seed=None, gui=False, size=3):   \n",
    "    # seed が None でない場合は、seed を乱数の種として設定する\n",
    "    if seed is not None:\n",
    "        random.seed(seed)\n",
    "\n",
    "    # gui が True の場合に、ゲーム盤を描画する画像を作成し、イベントハンドラに結びつける\n",
    "    if gui:\n",
    "        Marubatsu_GUI(self, ai=ai, ai_dict=ai_dict, params=params, size=size)    \n",
    "        \n",
    "    self.restart()\n",
    "    return self.play_loop(ai=ai, ax=ax, params=params, verbose=verbose, gui=gui)\n",
    "\n",
    "Marubatsu.play = play"
   ]
  },
  {
   "cell_type": "code",
   "execution_count": 14,
   "metadata": {},
   "outputs": [
    {
     "data": {
      "application/vnd.jupyter.widget-view+json": {
       "model_id": "43d227321b4a4a3aa494cb407dce4e41",
       "version_major": 2,
       "version_minor": 0
      },
      "text/plain": [
       "VBox(children=(HBox(children=(Dropdown(description='〇', layout=Layout(width='100px'), options={'人間': '人間', 'ai…"
      ]
     },
     "metadata": {},
     "output_type": "display_data"
    },
    {
     "ename": "NameError",
     "evalue": "name 'ax' is not defined",
     "output_type": "error",
     "traceback": [
      "\u001b[1;31m---------------------------------------------------------------------------\u001b[0m",
      "\u001b[1;31mNameError\u001b[0m                                 Traceback (most recent call last)",
      "Cell \u001b[1;32mIn[14], line 3\u001b[0m\n\u001b[0;32m      1\u001b[0m \u001b[38;5;28;01mfrom\u001b[39;00m \u001b[38;5;21;01mutil\u001b[39;00m \u001b[38;5;28;01mimport\u001b[39;00m gui_play\n\u001b[1;32m----> 3\u001b[0m gui_play()\n",
      "File \u001b[1;32mc:\\Users\\ys\\ai\\marubatsu\\082\\util.py:29\u001b[0m, in \u001b[0;36mgui_play\u001b[1;34m(ai, ai_dict)\u001b[0m\n\u001b[0;32m     26\u001b[0m         ai_dict[ai_name] \u001b[38;5;241m=\u001b[39m \u001b[38;5;28mgetattr\u001b[39m(ai_module, ai_name)\n\u001b[0;32m     28\u001b[0m mb \u001b[38;5;241m=\u001b[39m Marubatsu()\n\u001b[1;32m---> 29\u001b[0m mb\u001b[38;5;241m.\u001b[39mplay(ai\u001b[38;5;241m=\u001b[39mai, ai_dict\u001b[38;5;241m=\u001b[39mai_dict, gui\u001b[38;5;241m=\u001b[39m\u001b[38;5;28;01mTrue\u001b[39;00m)\n",
      "Cell \u001b[1;32mIn[13], line 11\u001b[0m, in \u001b[0;36mplay\u001b[1;34m(self, ai, ai_dict, params, verbose, seed, gui, size)\u001b[0m\n\u001b[0;32m      8\u001b[0m     Marubatsu_GUI(\u001b[38;5;28mself\u001b[39m, ai\u001b[38;5;241m=\u001b[39mai, ai_dict\u001b[38;5;241m=\u001b[39mai_dict, params\u001b[38;5;241m=\u001b[39mparams, size\u001b[38;5;241m=\u001b[39msize)    \n\u001b[0;32m     10\u001b[0m \u001b[38;5;28mself\u001b[39m\u001b[38;5;241m.\u001b[39mrestart()\n\u001b[1;32m---> 11\u001b[0m \u001b[38;5;28;01mreturn\u001b[39;00m \u001b[38;5;28mself\u001b[39m\u001b[38;5;241m.\u001b[39mplay_loop(ai\u001b[38;5;241m=\u001b[39mai, ax\u001b[38;5;241m=\u001b[39max, params\u001b[38;5;241m=\u001b[39mparams, verbose\u001b[38;5;241m=\u001b[39mverbose, gui\u001b[38;5;241m=\u001b[39mgui)\n",
      "\u001b[1;31mNameError\u001b[0m: name 'ax' is not defined"
     ]
    },
    {
     "data": {
      "application/vnd.jupyter.widget-view+json": {
       "model_id": "2dfcc359fa4a445fb348a13195c3c3b0",
       "version_major": 2,
       "version_minor": 0
      },
      "image/png": "[encoded data removed]",
      "text/html": [
       "\n",
       "            <div style=\"display: inline-block;\">\n",
       "                <div class=\"jupyter-widgets widget-label\" style=\"text-align: center;\">\n",
       "                    Figure\n",
       "                </div>\n",
       "                <img src='data:image/png;base64,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' width=300.0/>\n",
       "            </div>\n",
       "        "
      ],
      "text/plain": [
       "Canvas(footer_visible=False, header_visible=False, resizable=False, toolbar=Toolbar(toolitems=[('Home', 'Reset…"
      ]
     },
     "metadata": {},
     "output_type": "display_data"
    }
   ],
   "source": [
    "from util import gui_play\n",
    "\n",
    "gui_play()"
   ]
  },
  {
   "cell_type": "code",
   "execution_count": 15,
   "metadata": {},
   "outputs": [],
   "source": [
    "def play(self, ai, ai_dict=None, params=None, verbose=True, seed=None, gui=False, size=3):   \n",
    "    # seed が None でない場合は、seed を乱数の種として設定する\n",
    "    if seed is not None:\n",
    "        random.seed(seed)\n",
    "\n",
    "    # gui が True の場合に、ゲーム盤を描画する画像を作成し、イベントハンドラに結びつける\n",
    "    if gui:\n",
    "        mb_gui = Marubatsu_GUI(self, ai=ai, ai_dict=ai_dict, params=params, size=size)    \n",
    "        \n",
    "    self.restart()\n",
    "    return self.play_loop(ai=ai, ax=mb_gui.ax, params=params, verbose=verbose, gui=gui)\n",
    "\n",
    "Marubatsu.play = play"
   ]
  },
  {
   "cell_type": "code",
   "execution_count": 16,
   "metadata": {},
   "outputs": [
    {
     "data": {
      "application/vnd.jupyter.widget-view+json": {
       "model_id": "7118e7fddf4e41a39abbd93e0e899526",
       "version_major": 2,
       "version_minor": 0
      },
      "text/plain": [
       "VBox(children=(HBox(children=(Dropdown(description='〇', layout=Layout(width='100px'), options={'人間': '人間', 'ai…"
      ]
     },
     "metadata": {},
     "output_type": "display_data"
    },
    {
     "ename": "AttributeError",
     "evalue": "'Marubatsu' object has no attribute 'first_button'",
     "output_type": "error",
     "traceback": [
      "\u001b[1;31m---------------------------------------------------------------------------\u001b[0m",
      "\u001b[1;31mAttributeError\u001b[0m                            Traceback (most recent call last)",
      "Cell \u001b[1;32mIn[16], line 1\u001b[0m\n\u001b[1;32m----> 1\u001b[0m gui_play()\n",
      "File \u001b[1;32mc:\\Users\\ys\\ai\\marubatsu\\082\\util.py:29\u001b[0m, in \u001b[0;36mgui_play\u001b[1;34m(ai, ai_dict)\u001b[0m\n\u001b[0;32m     26\u001b[0m         ai_dict[ai_name] \u001b[38;5;241m=\u001b[39m \u001b[38;5;28mgetattr\u001b[39m(ai_module, ai_name)\n\u001b[0;32m     28\u001b[0m mb \u001b[38;5;241m=\u001b[39m Marubatsu()\n\u001b[1;32m---> 29\u001b[0m mb\u001b[38;5;241m.\u001b[39mplay(ai\u001b[38;5;241m=\u001b[39mai, ai_dict\u001b[38;5;241m=\u001b[39mai_dict, gui\u001b[38;5;241m=\u001b[39m\u001b[38;5;28;01mTrue\u001b[39;00m)\n",
      "Cell \u001b[1;32mIn[15], line 11\u001b[0m, in \u001b[0;36mplay\u001b[1;34m(self, ai, ai_dict, params, verbose, seed, gui, size)\u001b[0m\n\u001b[0;32m      8\u001b[0m     mb_gui \u001b[38;5;241m=\u001b[39m Marubatsu_GUI(\u001b[38;5;28mself\u001b[39m, ai\u001b[38;5;241m=\u001b[39mai, ai_dict\u001b[38;5;241m=\u001b[39mai_dict, params\u001b[38;5;241m=\u001b[39mparams, size\u001b[38;5;241m=\u001b[39msize)    \n\u001b[0;32m     10\u001b[0m \u001b[38;5;28mself\u001b[39m\u001b[38;5;241m.\u001b[39mrestart()\n\u001b[1;32m---> 11\u001b[0m \u001b[38;5;28;01mreturn\u001b[39;00m \u001b[38;5;28mself\u001b[39m\u001b[38;5;241m.\u001b[39mplay_loop(ai\u001b[38;5;241m=\u001b[39mai, ax\u001b[38;5;241m=\u001b[39mmb_gui\u001b[38;5;241m.\u001b[39max, params\u001b[38;5;241m=\u001b[39mparams, verbose\u001b[38;5;241m=\u001b[39mverbose, gui\u001b[38;5;241m=\u001b[39mgui)\n",
      "File \u001b[1;32mc:\\Users\\ys\\ai\\marubatsu\\082\\marubatsu.py:477\u001b[0m, in \u001b[0;36mMarubatsu.play_loop\u001b[1;34m(self, ai, ax, params, verbose, gui)\u001b[0m\n\u001b[0;32m    474\u001b[0m \u001b[38;5;28;01mif\u001b[39;00m gui:\n\u001b[0;32m    475\u001b[0m     \u001b[38;5;66;03m# AI どうしの対戦の場合は画面を描画しない\u001b[39;00m\n\u001b[0;32m    476\u001b[0m     \u001b[38;5;28;01mif\u001b[39;00m ai[\u001b[38;5;241m0\u001b[39m] \u001b[38;5;129;01mis\u001b[39;00m \u001b[38;5;28;01mNone\u001b[39;00m \u001b[38;5;129;01mor\u001b[39;00m ai[\u001b[38;5;241m1\u001b[39m] \u001b[38;5;129;01mis\u001b[39;00m \u001b[38;5;28;01mNone\u001b[39;00m:\n\u001b[1;32m--> 477\u001b[0m         \u001b[38;5;28mself\u001b[39m\u001b[38;5;241m.\u001b[39mdraw_board(ax, ai)\n\u001b[0;32m    478\u001b[0m     \u001b[38;5;66;03m# 手番を人間が担当する場合は、play メソッドを終了する\u001b[39;00m\n\u001b[0;32m    479\u001b[0m     \u001b[38;5;28;01mif\u001b[39;00m ai[index] \u001b[38;5;129;01mis\u001b[39;00m \u001b[38;5;28;01mNone\u001b[39;00m:\n",
      "File \u001b[1;32mc:\\Users\\ys\\ai\\marubatsu\\082\\marubatsu.py:687\u001b[0m, in \u001b[0;36mMarubatsu.draw_board\u001b[1;34m(self, ax, ai)\u001b[0m\n\u001b[0;32m    684\u001b[0m     set_button_status(\u001b[38;5;28mself\u001b[39m\u001b[38;5;241m.\u001b[39mnext_button, \u001b[38;5;28mself\u001b[39m\u001b[38;5;241m.\u001b[39mmove_count \u001b[38;5;241m>\u001b[39m\u001b[38;5;241m=\u001b[39m \u001b[38;5;28mlen\u001b[39m(\u001b[38;5;28mself\u001b[39m\u001b[38;5;241m.\u001b[39mboard_records) \u001b[38;5;241m-\u001b[39m \u001b[38;5;241m1\u001b[39m)\n\u001b[0;32m    685\u001b[0m     set_button_status(\u001b[38;5;28mself\u001b[39m\u001b[38;5;241m.\u001b[39mlast_button, \u001b[38;5;28mself\u001b[39m\u001b[38;5;241m.\u001b[39mmove_count \u001b[38;5;241m>\u001b[39m\u001b[38;5;241m=\u001b[39m \u001b[38;5;28mlen\u001b[39m(\u001b[38;5;28mself\u001b[39m\u001b[38;5;241m.\u001b[39mboard_records) \u001b[38;5;241m-\u001b[39m \u001b[38;5;241m1\u001b[39m)\n\u001b[1;32m--> 687\u001b[0m update_widgets_status()\n",
      "File \u001b[1;32mc:\\Users\\ys\\ai\\marubatsu\\082\\marubatsu.py:682\u001b[0m, in \u001b[0;36mMarubatsu.draw_board.<locals>.update_widgets_status\u001b[1;34m()\u001b[0m\n\u001b[0;32m    680\u001b[0m \u001b[38;5;28;01mdef\u001b[39;00m \u001b[38;5;21mupdate_widgets_status\u001b[39m():\n\u001b[0;32m    681\u001b[0m     \u001b[38;5;66;03m# 0 手目と最後の着手を行った局面で、特定のリプレイに関するボタンを操作できないようにする\u001b[39;00m\n\u001b[1;32m--> 682\u001b[0m     set_button_status(\u001b[38;5;28mself\u001b[39m\u001b[38;5;241m.\u001b[39mfirst_button, \u001b[38;5;28mself\u001b[39m\u001b[38;5;241m.\u001b[39mmove_count \u001b[38;5;241m<\u001b[39m\u001b[38;5;241m=\u001b[39m \u001b[38;5;241m0\u001b[39m)\n\u001b[0;32m    683\u001b[0m     set_button_status(\u001b[38;5;28mself\u001b[39m\u001b[38;5;241m.\u001b[39mprev_button, \u001b[38;5;28mself\u001b[39m\u001b[38;5;241m.\u001b[39mmove_count \u001b[38;5;241m<\u001b[39m\u001b[38;5;241m=\u001b[39m \u001b[38;5;241m0\u001b[39m)\n\u001b[0;32m    684\u001b[0m     set_button_status(\u001b[38;5;28mself\u001b[39m\u001b[38;5;241m.\u001b[39mnext_button, \u001b[38;5;28mself\u001b[39m\u001b[38;5;241m.\u001b[39mmove_count \u001b[38;5;241m>\u001b[39m\u001b[38;5;241m=\u001b[39m \u001b[38;5;28mlen\u001b[39m(\u001b[38;5;28mself\u001b[39m\u001b[38;5;241m.\u001b[39mboard_records) \u001b[38;5;241m-\u001b[39m \u001b[38;5;241m1\u001b[39m)\n",
      "\u001b[1;31mAttributeError\u001b[0m: 'Marubatsu' object has no attribute 'first_button'"
     ]
    },
    {
     "data": {
      "application/vnd.jupyter.widget-view+json": {
       "model_id": "dfd0b1eca5974c1494f2f35f76b1b736",
       "version_major": 2,
       "version_minor": 0
      },
      "image/png": "[encoded data removed]",
      "text/html": [
       "\n",
       "            <div style=\"display: inline-block;\">\n",
       "                <div class=\"jupyter-widgets widget-label\" style=\"text-align: center;\">\n",
       "                    Figure\n",
       "                </div>\n",
       "                <img src='data:image/png;base64,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' width=300.0/>\n",
       "            </div>\n",
       "        "
      ],
      "text/plain": [
       "Canvas(footer_visible=False, header_visible=False, resizable=False, toolbar=Toolbar(toolitems=[('Home', 'Reset…"
      ]
     },
     "metadata": {},
     "output_type": "display_data"
    }
   ],
   "source": [
    "gui_play()"
   ]
  },
  {
   "cell_type": "code",
   "execution_count": 17,
   "metadata": {},
   "outputs": [],
   "source": [
    "def play(self, ai, ai_dict=None, params=None, verbose=True, seed=None, gui=False, size=3):   \n",
    "    # seed が None でない場合は、seed を乱数の種として設定する\n",
    "    if seed is not None:\n",
    "        random.seed(seed)\n",
    "\n",
    "    # gui が True の場合に、GUI の処理を行う Marubatsu_GUI のインスタンスを作成する\n",
    "    if gui:\n",
    "        self.mb_gui = Marubatsu_GUI(self, ai=ai, ai_dict=ai_dict, params=params, size=size)    \n",
    "        \n",
    "    self.restart()\n",
    "    return self.play_loop(ai=ai, ax=self.mb_gui.ax, params=params, verbose=verbose, gui=gui)\n",
    "\n",
    "Marubatsu.play = play"
   ]
  },
  {
   "cell_type": "code",
   "execution_count": 18,
   "metadata": {},
   "outputs": [],
   "source": [
    "def play_loop(self, ai, ax, params, verbose, gui):\n",
    "    # ゲームの決着がついていない間繰り返す\n",
    "    while self.status == Marubatsu.PLAYING:\n",
    "        # 現在の手番を表す ai のインデックスを計算する\n",
    "        index = 0 if self.turn == Marubatsu.CIRCLE else 1\n",
    "        # ゲーム盤の表示\n",
    "        if verbose:\n",
    "            if gui:\n",
    "                # AI どうしの対戦の場合は画面を描画しない\n",
    "                if ai[0] is None or ai[1] is None:\n",
    "                    self.mb_gui.draw_board()\n",
    "                # 手番を人間が担当する場合は、play メソッドを終了する\n",
    "                if ai[index] is None:\n",
    "                    return\n",
    "            else:\n",
    "                print(self)\n",
    "                \n",
    "        # ai が着手を行うかどうかを判定する\n",
    "        if ai[index] is not None:\n",
    "            x, y = ai[index](self, **params[index])\n",
    "        else:\n",
    "            # キーボードからの座標の入力\n",
    "            coord = input(\"x,y の形式で座標を入力して下さい。exit を入力すると終了します\")\n",
    "            # \"exit\" が入力されていればメッセージを表示して関数を終了する\n",
    "            if coord == \"exit\":\n",
    "                print(\"ゲームを終了します\")\n",
    "                return       \n",
    "            # x 座標と y 座標を要素として持つ list を計算する\n",
    "            xylist = coord.split(\",\")\n",
    "            # xylist の要素の数が 2 ではない場合\n",
    "            if len(xylist) != 2:\n",
    "                # エラーメッセージを表示する\n",
    "                print(\"x, y の形式ではありません\")\n",
    "                # 残りの while 文のブロックを実行せずに、次の繰り返し処理を行う\n",
    "                continue\n",
    "            x, y = xylist\n",
    "        # (x, y) に着手を行う\n",
    "        try:\n",
    "            self.move(int(x), int(y))\n",
    "        except:\n",
    "            print(\"整数の座標を入力して下さい\")\n",
    "\n",
    "    # 決着がついたので、ゲーム盤を表示する\n",
    "    if verbose:\n",
    "        if gui:\n",
    "            self.mb_gui.draw_board()\n",
    "        else:\n",
    "            print(self)\n",
    "            \n",
    "    return self.status\n",
    "\n",
    "Marubatsu.play_loop = play_loop"
   ]
  },
  {
   "cell_type": "code",
   "execution_count": 19,
   "metadata": {},
   "outputs": [
    {
     "data": {
      "application/vnd.jupyter.widget-view+json": {
       "model_id": "80569eab62cf431bb395600a05891351",
       "version_major": 2,
       "version_minor": 0
      },
      "text/plain": [
       "VBox(children=(HBox(children=(Dropdown(description='〇', layout=Layout(width='100px'), options={'人間': '人間', 'ai…"
      ]
     },
     "metadata": {},
     "output_type": "display_data"
    },
    {
     "data": {
      "application/vnd.jupyter.widget-view+json": {
       "model_id": "7f6ae9e6b5d441dfbdb4341309f9b4d4",
       "version_major": 2,
       "version_minor": 0
      },
      "image/png": "[encoded data removed]",
      "text/html": [
       "\n",
       "            <div style=\"display: inline-block;\">\n",
       "                <div class=\"jupyter-widgets widget-label\" style=\"text-align: center;\">\n",
       "                    Figure\n",
       "                </div>\n",
       "                <img src='data:image/png;base64,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' width=300.0/>\n",
       "            </div>\n",
       "        "
      ],
      "text/plain": [
       "Canvas(footer_visible=False, header_visible=False, resizable=False, toolbar=Toolbar(toolitems=[('Home', 'Reset…"
      ]
     },
     "metadata": {},
     "output_type": "display_data"
    }
   ],
   "source": [
    "gui_play()"
   ]
  },
  {
   "cell_type": "code",
   "execution_count": 20,
   "metadata": {},
   "outputs": [],
   "source": [
    "def play_loop(self, ai, params, verbose, gui):\n",
    "    # ゲームの決着がついていない間繰り返す\n",
    "    while self.status == Marubatsu.PLAYING:\n",
    "        # 現在の手番を表す ai のインデックスを計算する\n",
    "        index = 0 if self.turn == Marubatsu.CIRCLE else 1\n",
    "        # ゲーム盤の表示\n",
    "        if verbose:\n",
    "            if gui:\n",
    "                # AI どうしの対戦の場合は画面を描画しない\n",
    "                if ai[0] is None or ai[1] is None:\n",
    "                    self.mb_gui.draw_board()\n",
    "                # 手番を人間が担当する場合は、play メソッドを終了する\n",
    "                if ai[index] is None:\n",
    "                    return\n",
    "            else:\n",
    "                print(self)\n",
    "                \n",
    "        # ai が着手を行うかどうかを判定する\n",
    "        if ai[index] is not None:\n",
    "            x, y = ai[index](self, **params[index])\n",
    "        else:\n",
    "            # キーボードからの座標の入力\n",
    "            coord = input(\"x,y の形式で座標を入力して下さい。exit を入力すると終了します\")\n",
    "            # \"exit\" が入力されていればメッセージを表示して関数を終了する\n",
    "            if coord == \"exit\":\n",
    "                print(\"ゲームを終了します\")\n",
    "                return       \n",
    "            # x 座標と y 座標を要素として持つ list を計算する\n",
    "            xylist = coord.split(\",\")\n",
    "            # xylist の要素の数が 2 ではない場合\n",
    "            if len(xylist) != 2:\n",
    "                # エラーメッセージを表示する\n",
    "                print(\"x, y の形式ではありません\")\n",
    "                # 残りの while 文のブロックを実行せずに、次の繰り返し処理を行う\n",
    "                continue\n",
    "            x, y = xylist\n",
    "        # (x, y) に着手を行う\n",
    "        try:\n",
    "            self.move(int(x), int(y))\n",
    "        except:\n",
    "            print(\"整数の座標を入力して下さい\")\n",
    "\n",
    "    # 決着がついたので、ゲーム盤を表示する\n",
    "    if verbose:\n",
    "        if gui:\n",
    "            self.mb_gui.draw_board()\n",
    "        else:\n",
    "            print(self)\n",
    "            \n",
    "    return self.status\n",
    "\n",
    "Marubatsu.play_loop = play_loop"
   ]
  },
  {
   "cell_type": "code",
   "execution_count": 21,
   "metadata": {},
   "outputs": [],
   "source": [
    "def play(self, ai, ai_dict=None, params=None, verbose=True, seed=None, gui=False, size=3):   \n",
    "    # seed が None でない場合は、seed を乱数の種として設定する\n",
    "    if seed is not None:\n",
    "        random.seed(seed)\n",
    "\n",
    "    # gui が True の場合に、GUI の処理を行う Marubatsu_GUI のインスタンスを作成する\n",
    "    if gui:\n",
    "        self.mb_gui = Marubatsu_GUI(self, ai=ai, ai_dict=ai_dict, params=params, size=size)    \n",
    "        \n",
    "    self.restart()\n",
    "    return self.play_loop(ai=ai, params=params, verbose=verbose, gui=gui)\n",
    "\n",
    "Marubatsu.play = play"
   ]
  },
  {
   "cell_type": "code",
   "execution_count": 22,
   "metadata": {},
   "outputs": [
    {
     "data": {
      "application/vnd.jupyter.widget-view+json": {
       "model_id": "490a551e47ac44dda77412da7827e457",
       "version_major": 2,
       "version_minor": 0
      },
      "text/plain": [
       "VBox(children=(HBox(children=(Dropdown(description='〇', layout=Layout(width='100px'), options={'人間': '人間', 'ai…"
      ]
     },
     "metadata": {},
     "output_type": "display_data"
    },
    {
     "data": {
      "application/vnd.jupyter.widget-view+json": {
       "model_id": "7539b4bfc478419ea48cd4ea88402a3d",
       "version_major": 2,
       "version_minor": 0
      },
      "image/png": "[encoded data removed]",
      "text/html": [
       "\n",
       "            <div style=\"display: inline-block;\">\n",
       "                <div class=\"jupyter-widgets widget-label\" style=\"text-align: center;\">\n",
       "                    Figure\n",
       "                </div>\n",
       "                <img src='data:image/png;base64,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' width=300.0/>\n",
       "            </div>\n",
       "        "
      ],
      "text/plain": [
       "Canvas(footer_visible=False, header_visible=False, resizable=False, toolbar=Toolbar(toolitems=[('Home', 'Reset…"
      ]
     },
     "metadata": {},
     "output_type": "display_data"
    }
   ],
   "source": [
    "gui_play()"
   ]
  },
  {
   "cell_type": "code",
   "execution_count": 23,
   "metadata": {},
   "outputs": [],
   "source": [
    "def play(self, ai, ai_dict=None, params=None, verbose=True, seed=None, gui=False, size=3):\n",
    "    # 一部の仮引数をインスタンスの属性に代入する\n",
    "    self.ai = ai\n",
    "    self.params = params\n",
    "    self.verbose = verbose\n",
    "    self.gui = gui\n",
    "    \n",
    "    # seed が None でない場合は、seed を乱数の種として設定する\n",
    "    if seed is not None:\n",
    "        random.seed(seed)\n",
    "\n",
    "    # gui が True の場合に、GUI の処理を行う Marubatsu_GUI のインスタンスを作成する\n",
    "    if gui:\n",
    "        self.mb_gui = Marubatsu_GUI(self, ai=ai, ai_dict=ai_dict, params=params, size=size)    \n",
    "        \n",
    "    self.restart()\n",
    "    return self.play_loop()\n",
    "\n",
    "Marubatsu.play = play"
   ]
  },
  {
   "cell_type": "code",
   "execution_count": 24,
   "metadata": {},
   "outputs": [],
   "source": [
    "def play_loop(self):\n",
    "    ai = self.ai\n",
    "    params = self.params\n",
    "    verbose = self.verbose\n",
    "    gui = self.gui\n",
    "    \n",
    "    # ゲームの決着がついていない間繰り返す\n",
    "    while self.status == Marubatsu.PLAYING:\n",
    "        # 現在の手番を表す ai のインデックスを計算する\n",
    "        index = 0 if self.turn == Marubatsu.CIRCLE else 1\n",
    "        # ゲーム盤の表示\n",
    "        if verbose:\n",
    "            if gui:\n",
    "                # AI どうしの対戦の場合は画面を描画しない\n",
    "                if ai[0] is None or ai[1] is None:\n",
    "                    self.mb_gui.draw_board()\n",
    "                # 手番を人間が担当する場合は、play メソッドを終了する\n",
    "                if ai[index] is None:\n",
    "                    return\n",
    "            else:\n",
    "                print(self)\n",
    "                \n",
    "        # ai が着手を行うかどうかを判定する\n",
    "        if ai[index] is not None:\n",
    "            x, y = ai[index](self, **params[index])\n",
    "        else:\n",
    "            # キーボードからの座標の入力\n",
    "            coord = input(\"x,y の形式で座標を入力して下さい。exit を入力すると終了します\")\n",
    "            # \"exit\" が入力されていればメッセージを表示して関数を終了する\n",
    "            if coord == \"exit\":\n",
    "                print(\"ゲームを終了します\")\n",
    "                return       \n",
    "            # x 座標と y 座標を要素として持つ list を計算する\n",
    "            xylist = coord.split(\",\")\n",
    "            # xylist の要素の数が 2 ではない場合\n",
    "            if len(xylist) != 2:\n",
    "                # エラーメッセージを表示する\n",
    "                print(\"x, y の形式ではありません\")\n",
    "                # 残りの while 文のブロックを実行せずに、次の繰り返し処理を行う\n",
    "                continue\n",
    "            x, y = xylist\n",
    "        # (x, y) に着手を行う\n",
    "        try:\n",
    "            self.move(int(x), int(y))\n",
    "        except:\n",
    "            print(\"整数の座標を入力して下さい\")\n",
    "\n",
    "    # 決着がついたので、ゲーム盤を表示する\n",
    "    if verbose:\n",
    "        if gui:\n",
    "            self.mb_gui.draw_board()\n",
    "        else:\n",
    "            print(self)\n",
    "            \n",
    "    return self.status\n",
    "\n",
    "Marubatsu.play_loop = play_loop"
   ]
  },
  {
   "cell_type": "code",
   "execution_count": 25,
   "metadata": {},
   "outputs": [
    {
     "data": {
      "application/vnd.jupyter.widget-view+json": {
       "model_id": "d4556e1b9ca54938a0b1101d07b14aef",
       "version_major": 2,
       "version_minor": 0
      },
      "text/plain": [
       "VBox(children=(HBox(children=(Dropdown(description='〇', layout=Layout(width='100px'), options={'人間': '人間', 'ai…"
      ]
     },
     "metadata": {},
     "output_type": "display_data"
    },
    {
     "data": {
      "application/vnd.jupyter.widget-view+json": {
       "model_id": "3f9ec672803a4b1da79e5ff3f35adec5",
       "version_major": 2,
       "version_minor": 0
      },
      "image/png": "[encoded data removed]",
      "text/html": [
       "\n",
       "            <div style=\"display: inline-block;\">\n",
       "                <div class=\"jupyter-widgets widget-label\" style=\"text-align: center;\">\n",
       "                    Figure\n",
       "                </div>\n",
       "                <img src='data:image/png;base64,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' width=300.0/>\n",
       "            </div>\n",
       "        "
      ],
      "text/plain": [
       "Canvas(footer_visible=False, header_visible=False, resizable=False, toolbar=Toolbar(toolitems=[('Home', 'Reset…"
      ]
     },
     "metadata": {},
     "output_type": "display_data"
    }
   ],
   "source": [
    "gui_play()"
   ]
  },
  {
   "cell_type": "code",
   "execution_count": 26,
   "metadata": {},
   "outputs": [],
   "source": [
    "def __init__(self, mb, ai_dict=None, size=3):\n",
    "    # ai_dict が None の場合は、空の list で置き換える\n",
    "    if ai_dict is None:\n",
    "        ai_dict = {}\n",
    "\n",
    "    self.mb = mb\n",
    "    self.ai_dict = ai_dict\n",
    "    self.size = size\n",
    "\n",
    "    # ai_dict が None の場合は、空の list で置き換える\n",
    "    if ai_dict is None:\n",
    "        self.ai_dict = {}\n",
    "\n",
    "    # %matplotlib widget のマジックコマンドを実行する\n",
    "    get_ipython().run_line_magic('matplotlib', 'widget')\n",
    "    \n",
    "    self.create_widgets()\n",
    "    self.display_widgets() \n",
    "        \n",
    "Marubatsu_GUI.__init__ = __init__"
   ]
  },
  {
   "cell_type": "code",
   "execution_count": 27,
   "metadata": {},
   "outputs": [],
   "source": [
    "def play(self, ai, ai_dict=None, params=None, verbose=True, seed=None, gui=False, size=3):\n",
    "    # params が None の場合のデフォルト値を設定する\n",
    "    if params is None:\n",
    "        params = [{}, {}]\n",
    "        \n",
    "    # 一部の仮引数をインスタンスの属性に代入する\n",
    "    self.ai = ai\n",
    "    self.params = params\n",
    "    self.verbose = verbose\n",
    "    self.gui = gui\n",
    "    \n",
    "    # seed が None でない場合は、seed を乱数の種として設定する\n",
    "    if seed is not None:\n",
    "        random.seed(seed)\n",
    "\n",
    "    # gui が True の場合に、GUI の処理を行う Marubatsu_GUI のインスタンスを作成する\n",
    "    if gui:\n",
    "        self.mb_gui = Marubatsu_GUI(self, ai_dict=ai_dict, size=size)    \n",
    "        \n",
    "    self.restart()\n",
    "    return self.play_loop()\n",
    "\n",
    "Marubatsu.play = play"
   ]
  },
  {
   "cell_type": "code",
   "execution_count": 28,
   "metadata": {},
   "outputs": [
    {
     "ename": "AttributeError",
     "evalue": "'Marubatsu_GUI' object has no attribute 'ai'",
     "output_type": "error",
     "traceback": [
      "\u001b[1;31m---------------------------------------------------------------------------\u001b[0m",
      "\u001b[1;31mAttributeError\u001b[0m                            Traceback (most recent call last)",
      "Cell \u001b[1;32mIn[28], line 1\u001b[0m\n\u001b[1;32m----> 1\u001b[0m gui_play()\n",
      "File \u001b[1;32mc:\\Users\\ys\\ai\\marubatsu\\082\\util.py:29\u001b[0m, in \u001b[0;36mgui_play\u001b[1;34m(ai, ai_dict)\u001b[0m\n\u001b[0;32m     26\u001b[0m         ai_dict[ai_name] \u001b[38;5;241m=\u001b[39m \u001b[38;5;28mgetattr\u001b[39m(ai_module, ai_name)\n\u001b[0;32m     28\u001b[0m mb \u001b[38;5;241m=\u001b[39m Marubatsu()\n\u001b[1;32m---> 29\u001b[0m mb\u001b[38;5;241m.\u001b[39mplay(ai\u001b[38;5;241m=\u001b[39mai, ai_dict\u001b[38;5;241m=\u001b[39mai_dict, gui\u001b[38;5;241m=\u001b[39m\u001b[38;5;28;01mTrue\u001b[39;00m)\n",
      "Cell \u001b[1;32mIn[27], line 18\u001b[0m, in \u001b[0;36mplay\u001b[1;34m(self, ai, ai_dict, params, verbose, seed, gui, size)\u001b[0m\n\u001b[0;32m     16\u001b[0m \u001b[38;5;66;03m# gui が True の場合に、GUI の処理を行う Marubatsu_GUI のインスタンスを作成する\u001b[39;00m\n\u001b[0;32m     17\u001b[0m \u001b[38;5;28;01mif\u001b[39;00m gui:\n\u001b[1;32m---> 18\u001b[0m     \u001b[38;5;28mself\u001b[39m\u001b[38;5;241m.\u001b[39mmb_gui \u001b[38;5;241m=\u001b[39m Marubatsu_GUI(\u001b[38;5;28mself\u001b[39m, ai_dict\u001b[38;5;241m=\u001b[39mai_dict, size\u001b[38;5;241m=\u001b[39msize)    \n\u001b[0;32m     20\u001b[0m \u001b[38;5;28mself\u001b[39m\u001b[38;5;241m.\u001b[39mrestart()\n\u001b[0;32m     21\u001b[0m \u001b[38;5;28;01mreturn\u001b[39;00m \u001b[38;5;28mself\u001b[39m\u001b[38;5;241m.\u001b[39mplay_loop()\n",
      "Cell \u001b[1;32mIn[26], line 17\u001b[0m, in \u001b[0;36m__init__\u001b[1;34m(self, mb, ai_dict, size)\u001b[0m\n\u001b[0;32m     14\u001b[0m \u001b[38;5;66;03m# %matplotlib widget のマジックコマンドを実行する\u001b[39;00m\n\u001b[0;32m     15\u001b[0m get_ipython()\u001b[38;5;241m.\u001b[39mrun_line_magic(\u001b[38;5;124m'\u001b[39m\u001b[38;5;124mmatplotlib\u001b[39m\u001b[38;5;124m'\u001b[39m, \u001b[38;5;124m'\u001b[39m\u001b[38;5;124mwidget\u001b[39m\u001b[38;5;124m'\u001b[39m)\n\u001b[1;32m---> 17\u001b[0m \u001b[38;5;28mself\u001b[39m\u001b[38;5;241m.\u001b[39mcreate_widgets()\n\u001b[0;32m     18\u001b[0m \u001b[38;5;28mself\u001b[39m\u001b[38;5;241m.\u001b[39mdisplay_widgets()\n",
      "File \u001b[1;32mc:\\Users\\ys\\ai\\marubatsu\\082\\marubatsu.py:823\u001b[0m, in \u001b[0;36mMarubatsu_GUI.create_widgets\u001b[1;34m(self)\u001b[0m\n\u001b[0;32m    820\u001b[0m \u001b[38;5;250m\u001b[39m\u001b[38;5;124;03m\"\"\"ウィジェットを作成する.\"\"\"\u001b[39;00m\n\u001b[0;32m    822\u001b[0m \u001b[38;5;66;03m# AI を選択する Dropdown を作成する\u001b[39;00m\n\u001b[1;32m--> 823\u001b[0m \u001b[38;5;28mself\u001b[39m\u001b[38;5;241m.\u001b[39mcreate_dropdown()\n\u001b[0;32m    824\u001b[0m \u001b[38;5;66;03m# 変更、リセットボタンを作成する\u001b[39;00m\n\u001b[0;32m    825\u001b[0m \u001b[38;5;28mself\u001b[39m\u001b[38;5;241m.\u001b[39mchange_button \u001b[38;5;241m=\u001b[39m \u001b[38;5;28mself\u001b[39m\u001b[38;5;241m.\u001b[39mcreate_button(\u001b[38;5;124m\"\u001b[39m\u001b[38;5;124m変更\u001b[39m\u001b[38;5;124m\"\u001b[39m, \u001b[38;5;241m100\u001b[39m)\n",
      "File \u001b[1;32mc:\\Users\\ys\\ai\\marubatsu\\082\\marubatsu.py:770\u001b[0m, in \u001b[0;36mMarubatsu_GUI.create_dropdown\u001b[1;34m(self)\u001b[0m\n\u001b[0;32m    767\u001b[0m \u001b[38;5;66;03m# ai に代入されている内容を ai_dict に追加する\u001b[39;00m\n\u001b[0;32m    768\u001b[0m \u001b[38;5;28;01mfor\u001b[39;00m i \u001b[38;5;129;01min\u001b[39;00m \u001b[38;5;28mrange\u001b[39m(\u001b[38;5;241m2\u001b[39m):\n\u001b[0;32m    769\u001b[0m     \u001b[38;5;66;03m# ラベルと項目の値を計算する\u001b[39;00m\n\u001b[1;32m--> 770\u001b[0m     \u001b[38;5;28;01mif\u001b[39;00m \u001b[38;5;28mself\u001b[39m\u001b[38;5;241m.\u001b[39mai[i] \u001b[38;5;129;01mis\u001b[39;00m \u001b[38;5;28;01mNone\u001b[39;00m:\n\u001b[0;32m    771\u001b[0m         label \u001b[38;5;241m=\u001b[39m \u001b[38;5;124m\"\u001b[39m\u001b[38;5;124m人間\u001b[39m\u001b[38;5;124m\"\u001b[39m\n\u001b[0;32m    772\u001b[0m         value \u001b[38;5;241m=\u001b[39m \u001b[38;5;124m\"\u001b[39m\u001b[38;5;124m人間\u001b[39m\u001b[38;5;124m\"\u001b[39m\n",
      "\u001b[1;31mAttributeError\u001b[0m: 'Marubatsu_GUI' object has no attribute 'ai'"
     ]
    }
   ],
   "source": [
    "gui_play()"
   ]
  },
  {
   "cell_type": "code",
   "execution_count": 29,
   "metadata": {},
   "outputs": [],
   "source": [
    "import ipywidgets as widgets\n",
    "\n",
    "def create_dropdown(self):\n",
    "    # それぞれの手番の担当を表す Dropdown の項目の値を記録する list を初期化する\n",
    "    select_values = []\n",
    "    # 〇 と × の Dropdown を格納する list\n",
    "    self.dropdown_list = []\n",
    "    # ai に代入されている内容を ai_dict に追加する\n",
    "    for i in range(2):\n",
    "        # ラベルと項目の値を計算する\n",
    "        if self.mb.ai[i] is None:\n",
    "            label = \"人間\"\n",
    "            value = \"人間\"\n",
    "        else:\n",
    "            label = self.mb.ai[i].__name__        \n",
    "            value = self.mb.ai[i]\n",
    "        # value を select_values に常に登録する\n",
    "        select_values.append(value)\n",
    "        # value が ai_values に登録済かどうかを判定する\n",
    "        if value not in self.ai_dict.values():\n",
    "            # 項目を登録する\n",
    "            self.ai_dict[label] = value\n",
    "    \n",
    "        # Dropdown の description を計算する\n",
    "        description = \"〇\" if i == 0 else \"×\"\n",
    "        self.dropdown_list.append(\n",
    "            widgets.Dropdown(\n",
    "                options=self.ai_dict,\n",
    "                description=description,\n",
    "                layout=widgets.Layout(width=\"100px\"),\n",
    "                style={\"description_width\": \"20px\"},\n",
    "                value=select_values[i],\n",
    "            )\n",
    "        )      \n",
    "        \n",
    "Marubatsu_GUI.create_dropdown = create_dropdown"
   ]
  },
  {
   "cell_type": "code",
   "execution_count": 30,
   "metadata": {},
   "outputs": [],
   "source": [
    "def draw_board(self):\n",
    "    ax = self.ax\n",
    "    ai = self.mb.ai\n",
    "    \n",
    "    # Axes の内容をクリアして、これまでの描画内容を削除する\n",
    "    ax.clear()\n",
    "    \n",
    "    # y 軸を反転させる\n",
    "    ax.invert_yaxis()\n",
    "    \n",
    "    # 枠と目盛りを表示しないようにする\n",
    "    ax.axis(\"off\")   \n",
    "    \n",
    "    # ゲームの決着がついていた場合は背景色を\n",
    "    facecolor = \"white\" if self.mb.status == Marubatsu.PLAYING else \"lightyellow\"\n",
    "    ax.figure.set_facecolor(facecolor)\n",
    "        \n",
    "    # 上部のメッセージを描画する\n",
    "    # 対戦カードの文字列を計算する\n",
    "    names = []\n",
    "    for i in range(2):\n",
    "        names.append(\"人間\" if ai[i] is None else ai[i].__name__)\n",
    "    ax.text(0, 3.5, f\"{names[0]}　VS　{names[1]}\", fontsize=20)   \n",
    "    \n",
    "    # ゲームの決着がついていない場合は、手番を表示する\n",
    "    if self.mb.status == Marubatsu.PLAYING:\n",
    "        text = \"Turn \" + self.mb.turn\n",
    "    # 引き分けの場合\n",
    "    elif self.mb.status == Marubatsu.DRAW:\n",
    "        text = \"Draw game\"\n",
    "    # 決着がついていれば勝者を表示する\n",
    "    else:\n",
    "        text = \"Winner \" + self.mb.status\n",
    "    ax.text(0, -0.2, text, fontsize=20)\n",
    "    \n",
    "    # ゲーム盤の枠を描画する\n",
    "    for i in range(1, self.mb.BOARD_SIZE):\n",
    "        ax.plot([0, self.mb.BOARD_SIZE], [i, i], c=\"k\") # 横方向の枠線\n",
    "        ax.plot([i, i], [0, self.mb.BOARD_SIZE], c=\"k\") # 縦方向の枠線   \n",
    "\n",
    "    # ゲーム盤のマークを描画する\n",
    "    for y in range(self.mb.BOARD_SIZE):\n",
    "        for x in range(self.mb.BOARD_SIZE):\n",
    "            color = \"red\" if (x, y) == self.mb.last_move else \"black\"\n",
    "            self.mb.draw_mark(ax, x, y, self.mb.board[x][y], color)            \n",
    "\n",
    "    self.update_widgets_status()   \n",
    "    \n",
    "Marubatsu_GUI.draw_board = draw_board"
   ]
  },
  {
   "cell_type": "code",
   "execution_count": 31,
   "metadata": {},
   "outputs": [
    {
     "data": {
      "application/vnd.jupyter.widget-view+json": {
       "model_id": "fc8e34d66671474691c98547d84fae7b",
       "version_major": 2,
       "version_minor": 0
      },
      "text/plain": [
       "VBox(children=(HBox(children=(Dropdown(description='〇', layout=Layout(width='100px'), options={'人間': '人間', 'ai…"
      ]
     },
     "metadata": {},
     "output_type": "display_data"
    },
    {
     "data": {
      "application/vnd.jupyter.widget-view+json": {
       "model_id": "f68cdc1726c14c07b07020607e38dee3",
       "version_major": 2,
       "version_minor": 0
      },
      "image/png": "[encoded data removed]",
      "text/html": [
       "\n",
       "            <div style=\"display: inline-block;\">\n",
       "                <div class=\"jupyter-widgets widget-label\" style=\"text-align: center;\">\n",
       "                    Figure\n",
       "                </div>\n",
       "                <img src='data:image/png;base64,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' width=300.0/>\n",
       "            </div>\n",
       "        "
      ],
      "text/plain": [
       "Canvas(footer_visible=False, header_visible=False, resizable=False, toolbar=Toolbar(toolitems=[('Home', 'Reset…"
      ]
     },
     "metadata": {},
     "output_type": "display_data"
    }
   ],
   "source": [
    "gui_play() "
   ]
  }
 ],
 "metadata": {
  "kernelspec": {
   "display_name": "marubatsu",
   "language": "python",
   "name": "python3"
  },
  "language_info": {
   "codemirror_mode": {
    "name": "ipython",
    "version": 3
   },
   "file_extension": ".py",
   "mimetype": "text/x-python",
   "name": "python",
   "nbconvert_exporter": "python",
   "pygments_lexer": "ipython3",
   "version": "3.11.4"
  }
 },
 "nbformat": 4,
 "nbformat_minor": 2
}
