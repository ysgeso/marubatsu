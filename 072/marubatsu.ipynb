{
 "cells": [
  {
   "cell_type": "code",
   "execution_count": 1,
   "metadata": {},
   "outputs": [
    {
     "name": "stderr",
     "output_type": "stream",
     "text": [
      "C:\\Users\\ys\\AppData\\Local\\Temp\\ipykernel_19284\\1311249836.py:6: RuntimeWarning: More than 20 figures have been opened. Figures created through the pyplot interface (`matplotlib.pyplot.figure`) are retained until explicitly closed and may consume too much memory. (To control this warning, see the rcParam `figure.max_open_warning`). Consider using `matplotlib.pyplot.close()`.\n",
      "  plt.subplots(figsize=[0.1, 0.1])\n"
     ]
    },
    {
     "data": {
      "application/vnd.jupyter.widget-view+json": {
       "model_id": "8b409521b8bc4924938cbfb51b9da3df",
       "version_major": 2,
       "version_minor": 0
      },
      "image/png": "[encoded data removed]",
      "text/html": [
       "\n",
       "            <div style=\"display: inline-block;\">\n",
       "                <div class=\"jupyter-widgets widget-label\" style=\"text-align: center;\">\n",
       "                    Figure\n",
       "                </div>\n",
       "                <img src='data:image/png;base64,iVBORw0KGgoAAAANSUhEUgAAAAoAAAAKCAYAAACNMs+9AAAAOXRFWHRTb2Z0d2FyZQBNYXRwbG90bGliIHZlcnNpb24zLjguMCwgaHR0cHM6Ly9tYXRwbG90bGliLm9yZy81sbWrAAAACXBIWXMAAA9hAAAPYQGoP6dpAAAAXklEQVR4nMWQIQ7AIBAE5xr0IdDw/3eBhwAPuIoGUxB1Hbk3yWZPWmtWayWEgIjwxsyYcyKAbdcDLudMSolSCqq6CWMMYow47z0AqnoUF9eX2p9F13sHnnUnVv75jze3XSC+8nl5DgAAAABJRU5ErkJggg==' width=10.0/>\n",
       "            </div>\n",
       "        "
      ],
      "text/plain": [
       "Canvas(toolbar=Toolbar(toolitems=[('Home', 'Reset original view', 'home', 'home'), ('Back', 'Back to previous …"
      ]
     },
     "metadata": {},
     "output_type": "display_data"
    },
    {
     "data": {
      "application/vnd.jupyter.widget-view+json": {
       "model_id": "c7a6419663dc47bfa1b88202349032ef",
       "version_major": 2,
       "version_minor": 0
      },
      "image/png": "[encoded data removed]",
      "text/html": [
       "\n",
       "            <div style=\"display: inline-block;\">\n",
       "                <div class=\"jupyter-widgets widget-label\" style=\"text-align: center;\">\n",
       "                    Figure\n",
       "                </div>\n",
       "                <img src='data:image/png;base64,iVBORw0KGgoAAAANSUhEUgAAAAoAAAAKCAYAAACNMs+9AAAAOXRFWHRTb2Z0d2FyZQBNYXRwbG90bGliIHZlcnNpb24zLjguMCwgaHR0cHM6Ly9tYXRwbG90bGliLm9yZy81sbWrAAAACXBIWXMAAA9hAAAPYQGoP6dpAAAAXklEQVR4nMWQIQ7AIBAE5xr0IdDw/3eBhwAPuIoGUxB1Hbk3yWZPWmtWayWEgIjwxsyYcyKAbdcDLudMSolSCqq6CWMMYow47z0AqnoUF9eX2p9F13sHnnUnVv75jze3XSC+8nl5DgAAAABJRU5ErkJggg==' width=10.0/>\n",
       "            </div>\n",
       "        "
      ],
      "text/plain": [
       "Canvas(toolbar=Toolbar(toolitems=[('Home', 'Reset original view', 'home', 'home'), ('Back', 'Back to previous …"
      ]
     },
     "metadata": {},
     "output_type": "display_data"
    },
    {
     "data": {
      "application/vnd.jupyter.widget-view+json": {
       "model_id": "c85cf22b5df84ce0966b8619208c3b0d",
       "version_major": 2,
       "version_minor": 0
      },
      "image/png": "[encoded data removed]",
      "text/html": [
       "\n",
       "            <div style=\"display: inline-block;\">\n",
       "                <div class=\"jupyter-widgets widget-label\" style=\"text-align: center;\">\n",
       "                    Figure\n",
       "                </div>\n",
       "                <img src='data:image/png;base64,iVBORw0KGgoAAAANSUhEUgAAAAoAAAAKCAYAAACNMs+9AAAAOXRFWHRTb2Z0d2FyZQBNYXRwbG90bGliIHZlcnNpb24zLjguMCwgaHR0cHM6Ly9tYXRwbG90bGliLm9yZy81sbWrAAAACXBIWXMAAA9hAAAPYQGoP6dpAAAAXklEQVR4nMWQIQ7AIBAE5xr0IdDw/3eBhwAPuIoGUxB1Hbk3yWZPWmtWayWEgIjwxsyYcyKAbdcDLudMSolSCqq6CWMMYow47z0AqnoUF9eX2p9F13sHnnUnVv75jze3XSC+8nl5DgAAAABJRU5ErkJggg==' width=10.0/>\n",
       "            </div>\n",
       "        "
      ],
      "text/plain": [
       "Canvas(toolbar=Toolbar(toolitems=[('Home', 'Reset original view', 'home', 'home'), ('Back', 'Back to previous …"
      ]
     },
     "metadata": {},
     "output_type": "display_data"
    },
    {
     "data": {
      "application/vnd.jupyter.widget-view+json": {
       "model_id": "57c22947dee74d1bb36b827592df0d86",
       "version_major": 2,
       "version_minor": 0
      },
      "image/png": "[encoded data removed]",
      "text/html": [
       "\n",
       "            <div style=\"display: inline-block;\">\n",
       "                <div class=\"jupyter-widgets widget-label\" style=\"text-align: center;\">\n",
       "                    Figure\n",
       "                </div>\n",
       "                <img src='data:image/png;base64,iVBORw0KGgoAAAANSUhEUgAAAAoAAAAKCAYAAACNMs+9AAAAOXRFWHRTb2Z0d2FyZQBNYXRwbG90bGliIHZlcnNpb24zLjguMCwgaHR0cHM6Ly9tYXRwbG90bGliLm9yZy81sbWrAAAACXBIWXMAAA9hAAAPYQGoP6dpAAAAXklEQVR4nMWQIQ7AIBAE5xr0IdDw/3eBhwAPuIoGUxB1Hbk3yWZPWmtWayWEgIjwxsyYcyKAbdcDLudMSolSCqq6CWMMYow47z0AqnoUF9eX2p9F13sHnnUnVv75jze3XSC+8nl5DgAAAABJRU5ErkJggg==' width=10.0/>\n",
       "            </div>\n",
       "        "
      ],
      "text/plain": [
       "Canvas(toolbar=Toolbar(toolitems=[('Home', 'Reset original view', 'home', 'home'), ('Back', 'Back to previous …"
      ]
     },
     "metadata": {},
     "output_type": "display_data"
    },
    {
     "data": {
      "application/vnd.jupyter.widget-view+json": {
       "model_id": "2a95d8ac89ac46c08b4b87560eaf1aee",
       "version_major": 2,
       "version_minor": 0
      },
      "image/png": "[encoded data removed]",
      "text/html": [
       "\n",
       "            <div style=\"display: inline-block;\">\n",
       "                <div class=\"jupyter-widgets widget-label\" style=\"text-align: center;\">\n",
       "                    Figure\n",
       "                </div>\n",
       "                <img src='data:image/png;base64,iVBORw0KGgoAAAANSUhEUgAAAAoAAAAKCAYAAACNMs+9AAAAOXRFWHRTb2Z0d2FyZQBNYXRwbG90bGliIHZlcnNpb24zLjguMCwgaHR0cHM6Ly9tYXRwbG90bGliLm9yZy81sbWrAAAACXBIWXMAAA9hAAAPYQGoP6dpAAAAXklEQVR4nMWQIQ7AIBAE5xr0IdDw/3eBhwAPuIoGUxB1Hbk3yWZPWmtWayWEgIjwxsyYcyKAbdcDLudMSolSCqq6CWMMYow47z0AqnoUF9eX2p9F13sHnnUnVv75jze3XSC+8nl5DgAAAABJRU5ErkJggg==' width=10.0/>\n",
       "            </div>\n",
       "        "
      ],
      "text/plain": [
       "Canvas(toolbar=Toolbar(toolitems=[('Home', 'Reset original view', 'home', 'home'), ('Back', 'Back to previous …"
      ]
     },
     "metadata": {},
     "output_type": "display_data"
    },
    {
     "data": {
      "application/vnd.jupyter.widget-view+json": {
       "model_id": "fba9b54d046b4e27a88042e7641ad936",
       "version_major": 2,
       "version_minor": 0
      },
      "image/png": "[encoded data removed]",
      "text/html": [
       "\n",
       "            <div style=\"display: inline-block;\">\n",
       "                <div class=\"jupyter-widgets widget-label\" style=\"text-align: center;\">\n",
       "                    Figure\n",
       "                </div>\n",
       "                <img src='data:image/png;base64,iVBORw0KGgoAAAANSUhEUgAAAAoAAAAKCAYAAACNMs+9AAAAOXRFWHRTb2Z0d2FyZQBNYXRwbG90bGliIHZlcnNpb24zLjguMCwgaHR0cHM6Ly9tYXRwbG90bGliLm9yZy81sbWrAAAACXBIWXMAAA9hAAAPYQGoP6dpAAAAXklEQVR4nMWQIQ7AIBAE5xr0IdDw/3eBhwAPuIoGUxB1Hbk3yWZPWmtWayWEgIjwxsyYcyKAbdcDLudMSolSCqq6CWMMYow47z0AqnoUF9eX2p9F13sHnnUnVv75jze3XSC+8nl5DgAAAABJRU5ErkJggg==' width=10.0/>\n",
       "            </div>\n",
       "        "
      ],
      "text/plain": [
       "Canvas(toolbar=Toolbar(toolitems=[('Home', 'Reset original view', 'home', 'home'), ('Back', 'Back to previous …"
      ]
     },
     "metadata": {},
     "output_type": "display_data"
    },
    {
     "data": {
      "application/vnd.jupyter.widget-view+json": {
       "model_id": "dc3e665ed6d54a4293314bc66e1cf660",
       "version_major": 2,
       "version_minor": 0
      },
      "image/png": "[encoded data removed]",
      "text/html": [
       "\n",
       "            <div style=\"display: inline-block;\">\n",
       "                <div class=\"jupyter-widgets widget-label\" style=\"text-align: center;\">\n",
       "                    Figure\n",
       "                </div>\n",
       "                <img src='data:image/png;base64,iVBORw0KGgoAAAANSUhEUgAAAAoAAAAKCAYAAACNMs+9AAAAOXRFWHRTb2Z0d2FyZQBNYXRwbG90bGliIHZlcnNpb24zLjguMCwgaHR0cHM6Ly9tYXRwbG90bGliLm9yZy81sbWrAAAACXBIWXMAAA9hAAAPYQGoP6dpAAAAXklEQVR4nMWQIQ7AIBAE5xr0IdDw/3eBhwAPuIoGUxB1Hbk3yWZPWmtWayWEgIjwxsyYcyKAbdcDLudMSolSCqq6CWMMYow47z0AqnoUF9eX2p9F13sHnnUnVv75jze3XSC+8nl5DgAAAABJRU5ErkJggg==' width=10.0/>\n",
       "            </div>\n",
       "        "
      ],
      "text/plain": [
       "Canvas(toolbar=Toolbar(toolitems=[('Home', 'Reset original view', 'home', 'home'), ('Back', 'Back to previous …"
      ]
     },
     "metadata": {},
     "output_type": "display_data"
    },
    {
     "data": {
      "application/vnd.jupyter.widget-view+json": {
       "model_id": "b3eae1a3987949e9912ac0432b034a00",
       "version_major": 2,
       "version_minor": 0
      },
      "image/png": "[encoded data removed]",
      "text/html": [
       "\n",
       "            <div style=\"display: inline-block;\">\n",
       "                <div class=\"jupyter-widgets widget-label\" style=\"text-align: center;\">\n",
       "                    Figure\n",
       "                </div>\n",
       "                <img src='data:image/png;base64,iVBORw0KGgoAAAANSUhEUgAAAAoAAAAKCAYAAACNMs+9AAAAOXRFWHRTb2Z0d2FyZQBNYXRwbG90bGliIHZlcnNpb24zLjguMCwgaHR0cHM6Ly9tYXRwbG90bGliLm9yZy81sbWrAAAACXBIWXMAAA9hAAAPYQGoP6dpAAAAXklEQVR4nMWQIQ7AIBAE5xr0IdDw/3eBhwAPuIoGUxB1Hbk3yWZPWmtWayWEgIjwxsyYcyKAbdcDLudMSolSCqq6CWMMYow47z0AqnoUF9eX2p9F13sHnnUnVv75jze3XSC+8nl5DgAAAABJRU5ErkJggg==' width=10.0/>\n",
       "            </div>\n",
       "        "
      ],
      "text/plain": [
       "Canvas(toolbar=Toolbar(toolitems=[('Home', 'Reset original view', 'home', 'home'), ('Back', 'Back to previous …"
      ]
     },
     "metadata": {},
     "output_type": "display_data"
    },
    {
     "data": {
      "application/vnd.jupyter.widget-view+json": {
       "model_id": "be87e496c4d54d97a8d6b208be6cf2f6",
       "version_major": 2,
       "version_minor": 0
      },
      "image/png": "[encoded data removed]",
      "text/html": [
       "\n",
       "            <div style=\"display: inline-block;\">\n",
       "                <div class=\"jupyter-widgets widget-label\" style=\"text-align: center;\">\n",
       "                    Figure\n",
       "                </div>\n",
       "                <img src='data:image/png;base64,iVBORw0KGgoAAAANSUhEUgAAAAoAAAAKCAYAAACNMs+9AAAAOXRFWHRTb2Z0d2FyZQBNYXRwbG90bGliIHZlcnNpb24zLjguMCwgaHR0cHM6Ly9tYXRwbG90bGliLm9yZy81sbWrAAAACXBIWXMAAA9hAAAPYQGoP6dpAAAAXklEQVR4nMWQIQ7AIBAE5xr0IdDw/3eBhwAPuIoGUxB1Hbk3yWZPWmtWayWEgIjwxsyYcyKAbdcDLudMSolSCqq6CWMMYow47z0AqnoUF9eX2p9F13sHnnUnVv75jze3XSC+8nl5DgAAAABJRU5ErkJggg==' width=10.0/>\n",
       "            </div>\n",
       "        "
      ],
      "text/plain": [
       "Canvas(toolbar=Toolbar(toolitems=[('Home', 'Reset original view', 'home', 'home'), ('Back', 'Back to previous …"
      ]
     },
     "metadata": {},
     "output_type": "display_data"
    },
    {
     "data": {
      "application/vnd.jupyter.widget-view+json": {
       "model_id": "1ac2b2d5255e4331b4c4435eaa9669f8",
       "version_major": 2,
       "version_minor": 0
      },
      "image/png": "[encoded data removed]",
      "text/html": [
       "\n",
       "            <div style=\"display: inline-block;\">\n",
       "                <div class=\"jupyter-widgets widget-label\" style=\"text-align: center;\">\n",
       "                    Figure\n",
       "                </div>\n",
       "                <img src='data:image/png;base64,iVBORw0KGgoAAAANSUhEUgAAAAoAAAAKCAYAAACNMs+9AAAAOXRFWHRTb2Z0d2FyZQBNYXRwbG90bGliIHZlcnNpb24zLjguMCwgaHR0cHM6Ly9tYXRwbG90bGliLm9yZy81sbWrAAAACXBIWXMAAA9hAAAPYQGoP6dpAAAAXklEQVR4nMWQIQ7AIBAE5xr0IdDw/3eBhwAPuIoGUxB1Hbk3yWZPWmtWayWEgIjwxsyYcyKAbdcDLudMSolSCqq6CWMMYow47z0AqnoUF9eX2p9F13sHnnUnVv75jze3XSC+8nl5DgAAAABJRU5ErkJggg==' width=10.0/>\n",
       "            </div>\n",
       "        "
      ],
      "text/plain": [
       "Canvas(toolbar=Toolbar(toolitems=[('Home', 'Reset original view', 'home', 'home'), ('Back', 'Back to previous …"
      ]
     },
     "metadata": {},
     "output_type": "display_data"
    },
    {
     "data": {
      "application/vnd.jupyter.widget-view+json": {
       "model_id": "120f941924774d01bff39f35436a6b6b",
       "version_major": 2,
       "version_minor": 0
      },
      "image/png": "[encoded data removed]",
      "text/html": [
       "\n",
       "            <div style=\"display: inline-block;\">\n",
       "                <div class=\"jupyter-widgets widget-label\" style=\"text-align: center;\">\n",
       "                    Figure\n",
       "                </div>\n",
       "                <img src='data:image/png;base64,iVBORw0KGgoAAAANSUhEUgAAAAoAAAAKCAYAAACNMs+9AAAAOXRFWHRTb2Z0d2FyZQBNYXRwbG90bGliIHZlcnNpb24zLjguMCwgaHR0cHM6Ly9tYXRwbG90bGliLm9yZy81sbWrAAAACXBIWXMAAA9hAAAPYQGoP6dpAAAAXklEQVR4nMWQIQ7AIBAE5xr0IdDw/3eBhwAPuIoGUxB1Hbk3yWZPWmtWayWEgIjwxsyYcyKAbdcDLudMSolSCqq6CWMMYow47z0AqnoUF9eX2p9F13sHnnUnVv75jze3XSC+8nl5DgAAAABJRU5ErkJggg==' width=10.0/>\n",
       "            </div>\n",
       "        "
      ],
      "text/plain": [
       "Canvas(toolbar=Toolbar(toolitems=[('Home', 'Reset original view', 'home', 'home'), ('Back', 'Back to previous …"
      ]
     },
     "metadata": {},
     "output_type": "display_data"
    },
    {
     "data": {
      "application/vnd.jupyter.widget-view+json": {
       "model_id": "f4d54a33035c4e508502d3450cb8ef0e",
       "version_major": 2,
       "version_minor": 0
      },
      "image/png": "[encoded data removed]",
      "text/html": [
       "\n",
       "            <div style=\"display: inline-block;\">\n",
       "                <div class=\"jupyter-widgets widget-label\" style=\"text-align: center;\">\n",
       "                    Figure\n",
       "                </div>\n",
       "                <img src='data:image/png;base64,iVBORw0KGgoAAAANSUhEUgAAAAoAAAAKCAYAAACNMs+9AAAAOXRFWHRTb2Z0d2FyZQBNYXRwbG90bGliIHZlcnNpb24zLjguMCwgaHR0cHM6Ly9tYXRwbG90bGliLm9yZy81sbWrAAAACXBIWXMAAA9hAAAPYQGoP6dpAAAAXklEQVR4nMWQIQ7AIBAE5xr0IdDw/3eBhwAPuIoGUxB1Hbk3yWZPWmtWayWEgIjwxsyYcyKAbdcDLudMSolSCqq6CWMMYow47z0AqnoUF9eX2p9F13sHnnUnVv75jze3XSC+8nl5DgAAAABJRU5ErkJggg==' width=10.0/>\n",
       "            </div>\n",
       "        "
      ],
      "text/plain": [
       "Canvas(toolbar=Toolbar(toolitems=[('Home', 'Reset original view', 'home', 'home'), ('Back', 'Back to previous …"
      ]
     },
     "metadata": {},
     "output_type": "display_data"
    },
    {
     "data": {
      "application/vnd.jupyter.widget-view+json": {
       "model_id": "bf5a94e9f85b4b42ae73c079e0acd014",
       "version_major": 2,
       "version_minor": 0
      },
      "image/png": "[encoded data removed]",
      "text/html": [
       "\n",
       "            <div style=\"display: inline-block;\">\n",
       "                <div class=\"jupyter-widgets widget-label\" style=\"text-align: center;\">\n",
       "                    Figure\n",
       "                </div>\n",
       "                <img src='data:image/png;base64,iVBORw0KGgoAAAANSUhEUgAAAAoAAAAKCAYAAACNMs+9AAAAOXRFWHRTb2Z0d2FyZQBNYXRwbG90bGliIHZlcnNpb24zLjguMCwgaHR0cHM6Ly9tYXRwbG90bGliLm9yZy81sbWrAAAACXBIWXMAAA9hAAAPYQGoP6dpAAAAXklEQVR4nMWQIQ7AIBAE5xr0IdDw/3eBhwAPuIoGUxB1Hbk3yWZPWmtWayWEgIjwxsyYcyKAbdcDLudMSolSCqq6CWMMYow47z0AqnoUF9eX2p9F13sHnnUnVv75jze3XSC+8nl5DgAAAABJRU5ErkJggg==' width=10.0/>\n",
       "            </div>\n",
       "        "
      ],
      "text/plain": [
       "Canvas(toolbar=Toolbar(toolitems=[('Home', 'Reset original view', 'home', 'home'), ('Back', 'Back to previous …"
      ]
     },
     "metadata": {},
     "output_type": "display_data"
    },
    {
     "data": {
      "application/vnd.jupyter.widget-view+json": {
       "model_id": "7427d3a2e9054723917502114575a962",
       "version_major": 2,
       "version_minor": 0
      },
      "image/png": "[encoded data removed]",
      "text/html": [
       "\n",
       "            <div style=\"display: inline-block;\">\n",
       "                <div class=\"jupyter-widgets widget-label\" style=\"text-align: center;\">\n",
       "                    Figure\n",
       "                </div>\n",
       "                <img src='data:image/png;base64,iVBORw0KGgoAAAANSUhEUgAAAAoAAAAKCAYAAACNMs+9AAAAOXRFWHRTb2Z0d2FyZQBNYXRwbG90bGliIHZlcnNpb24zLjguMCwgaHR0cHM6Ly9tYXRwbG90bGliLm9yZy81sbWrAAAACXBIWXMAAA9hAAAPYQGoP6dpAAAAXklEQVR4nMWQIQ7AIBAE5xr0IdDw/3eBhwAPuIoGUxB1Hbk3yWZPWmtWayWEgIjwxsyYcyKAbdcDLudMSolSCqq6CWMMYow47z0AqnoUF9eX2p9F13sHnnUnVv75jze3XSC+8nl5DgAAAABJRU5ErkJggg==' width=10.0/>\n",
       "            </div>\n",
       "        "
      ],
      "text/plain": [
       "Canvas(toolbar=Toolbar(toolitems=[('Home', 'Reset original view', 'home', 'home'), ('Back', 'Back to previous …"
      ]
     },
     "metadata": {},
     "output_type": "display_data"
    },
    {
     "data": {
      "application/vnd.jupyter.widget-view+json": {
       "model_id": "a5a0113af11e4b20929a42e3a978f555",
       "version_major": 2,
       "version_minor": 0
      },
      "image/png": "[encoded data removed]",
      "text/html": [
       "\n",
       "            <div style=\"display: inline-block;\">\n",
       "                <div class=\"jupyter-widgets widget-label\" style=\"text-align: center;\">\n",
       "                    Figure\n",
       "                </div>\n",
       "                <img src='data:image/png;base64,iVBORw0KGgoAAAANSUhEUgAAAAoAAAAKCAYAAACNMs+9AAAAOXRFWHRTb2Z0d2FyZQBNYXRwbG90bGliIHZlcnNpb24zLjguMCwgaHR0cHM6Ly9tYXRwbG90bGliLm9yZy81sbWrAAAACXBIWXMAAA9hAAAPYQGoP6dpAAAAXklEQVR4nMWQIQ7AIBAE5xr0IdDw/3eBhwAPuIoGUxB1Hbk3yWZPWmtWayWEgIjwxsyYcyKAbdcDLudMSolSCqq6CWMMYow47z0AqnoUF9eX2p9F13sHnnUnVv75jze3XSC+8nl5DgAAAABJRU5ErkJggg==' width=10.0/>\n",
       "            </div>\n",
       "        "
      ],
      "text/plain": [
       "Canvas(toolbar=Toolbar(toolitems=[('Home', 'Reset original view', 'home', 'home'), ('Back', 'Back to previous …"
      ]
     },
     "metadata": {},
     "output_type": "display_data"
    },
    {
     "data": {
      "application/vnd.jupyter.widget-view+json": {
       "model_id": "3502fd4343c84729a7f02e0345c650b4",
       "version_major": 2,
       "version_minor": 0
      },
      "image/png": "[encoded data removed]",
      "text/html": [
       "\n",
       "            <div style=\"display: inline-block;\">\n",
       "                <div class=\"jupyter-widgets widget-label\" style=\"text-align: center;\">\n",
       "                    Figure\n",
       "                </div>\n",
       "                <img src='data:image/png;base64,iVBORw0KGgoAAAANSUhEUgAAAAoAAAAKCAYAAACNMs+9AAAAOXRFWHRTb2Z0d2FyZQBNYXRwbG90bGliIHZlcnNpb24zLjguMCwgaHR0cHM6Ly9tYXRwbG90bGliLm9yZy81sbWrAAAACXBIWXMAAA9hAAAPYQGoP6dpAAAAXklEQVR4nMWQIQ7AIBAE5xr0IdDw/3eBhwAPuIoGUxB1Hbk3yWZPWmtWayWEgIjwxsyYcyKAbdcDLudMSolSCqq6CWMMYow47z0AqnoUF9eX2p9F13sHnnUnVv75jze3XSC+8nl5DgAAAABJRU5ErkJggg==' width=10.0/>\n",
       "            </div>\n",
       "        "
      ],
      "text/plain": [
       "Canvas(toolbar=Toolbar(toolitems=[('Home', 'Reset original view', 'home', 'home'), ('Back', 'Back to previous …"
      ]
     },
     "metadata": {},
     "output_type": "display_data"
    },
    {
     "data": {
      "application/vnd.jupyter.widget-view+json": {
       "model_id": "979c6ab97b8e4abba365201b7463640e",
       "version_major": 2,
       "version_minor": 0
      },
      "image/png": "[encoded data removed]",
      "text/html": [
       "\n",
       "            <div style=\"display: inline-block;\">\n",
       "                <div class=\"jupyter-widgets widget-label\" style=\"text-align: center;\">\n",
       "                    Figure\n",
       "                </div>\n",
       "                <img src='data:image/png;base64,iVBORw0KGgoAAAANSUhEUgAAAAoAAAAKCAYAAACNMs+9AAAAOXRFWHRTb2Z0d2FyZQBNYXRwbG90bGliIHZlcnNpb24zLjguMCwgaHR0cHM6Ly9tYXRwbG90bGliLm9yZy81sbWrAAAACXBIWXMAAA9hAAAPYQGoP6dpAAAAXklEQVR4nMWQIQ7AIBAE5xr0IdDw/3eBhwAPuIoGUxB1Hbk3yWZPWmtWayWEgIjwxsyYcyKAbdcDLudMSolSCqq6CWMMYow47z0AqnoUF9eX2p9F13sHnnUnVv75jze3XSC+8nl5DgAAAABJRU5ErkJggg==' width=10.0/>\n",
       "            </div>\n",
       "        "
      ],
      "text/plain": [
       "Canvas(toolbar=Toolbar(toolitems=[('Home', 'Reset original view', 'home', 'home'), ('Back', 'Back to previous …"
      ]
     },
     "metadata": {},
     "output_type": "display_data"
    },
    {
     "data": {
      "application/vnd.jupyter.widget-view+json": {
       "model_id": "0ab8177dfbd44c52abe4efefb58f777b",
       "version_major": 2,
       "version_minor": 0
      },
      "image/png": "[encoded data removed]",
      "text/html": [
       "\n",
       "            <div style=\"display: inline-block;\">\n",
       "                <div class=\"jupyter-widgets widget-label\" style=\"text-align: center;\">\n",
       "                    Figure\n",
       "                </div>\n",
       "                <img src='data:image/png;base64,iVBORw0KGgoAAAANSUhEUgAAAAoAAAAKCAYAAACNMs+9AAAAOXRFWHRTb2Z0d2FyZQBNYXRwbG90bGliIHZlcnNpb24zLjguMCwgaHR0cHM6Ly9tYXRwbG90bGliLm9yZy81sbWrAAAACXBIWXMAAA9hAAAPYQGoP6dpAAAAXklEQVR4nMWQIQ7AIBAE5xr0IdDw/3eBhwAPuIoGUxB1Hbk3yWZPWmtWayWEgIjwxsyYcyKAbdcDLudMSolSCqq6CWMMYow47z0AqnoUF9eX2p9F13sHnnUnVv75jze3XSC+8nl5DgAAAABJRU5ErkJggg==' width=10.0/>\n",
       "            </div>\n",
       "        "
      ],
      "text/plain": [
       "Canvas(toolbar=Toolbar(toolitems=[('Home', 'Reset original view', 'home', 'home'), ('Back', 'Back to previous …"
      ]
     },
     "metadata": {},
     "output_type": "display_data"
    },
    {
     "data": {
      "application/vnd.jupyter.widget-view+json": {
       "model_id": "cfbf915f0693488ba6cc7958f7073888",
       "version_major": 2,
       "version_minor": 0
      },
      "image/png": "[encoded data removed]",
      "text/html": [
       "\n",
       "            <div style=\"display: inline-block;\">\n",
       "                <div class=\"jupyter-widgets widget-label\" style=\"text-align: center;\">\n",
       "                    Figure\n",
       "                </div>\n",
       "                <img src='data:image/png;base64,iVBORw0KGgoAAAANSUhEUgAAAAoAAAAKCAYAAACNMs+9AAAAOXRFWHRTb2Z0d2FyZQBNYXRwbG90bGliIHZlcnNpb24zLjguMCwgaHR0cHM6Ly9tYXRwbG90bGliLm9yZy81sbWrAAAACXBIWXMAAA9hAAAPYQGoP6dpAAAAXklEQVR4nMWQIQ7AIBAE5xr0IdDw/3eBhwAPuIoGUxB1Hbk3yWZPWmtWayWEgIjwxsyYcyKAbdcDLudMSolSCqq6CWMMYow47z0AqnoUF9eX2p9F13sHnnUnVv75jze3XSC+8nl5DgAAAABJRU5ErkJggg==' width=10.0/>\n",
       "            </div>\n",
       "        "
      ],
      "text/plain": [
       "Canvas(toolbar=Toolbar(toolitems=[('Home', 'Reset original view', 'home', 'home'), ('Back', 'Back to previous …"
      ]
     },
     "metadata": {},
     "output_type": "display_data"
    },
    {
     "data": {
      "application/vnd.jupyter.widget-view+json": {
       "model_id": "948358184d734dee907031910e91fa30",
       "version_major": 2,
       "version_minor": 0
      },
      "image/png": "[encoded data removed]",
      "text/html": [
       "\n",
       "            <div style=\"display: inline-block;\">\n",
       "                <div class=\"jupyter-widgets widget-label\" style=\"text-align: center;\">\n",
       "                    Figure\n",
       "                </div>\n",
       "                <img src='data:image/png;base64,iVBORw0KGgoAAAANSUhEUgAAAAoAAAAKCAYAAACNMs+9AAAAOXRFWHRTb2Z0d2FyZQBNYXRwbG90bGliIHZlcnNpb24zLjguMCwgaHR0cHM6Ly9tYXRwbG90bGliLm9yZy81sbWrAAAACXBIWXMAAA9hAAAPYQGoP6dpAAAAXklEQVR4nMWQIQ7AIBAE5xr0IdDw/3eBhwAPuIoGUxB1Hbk3yWZPWmtWayWEgIjwxsyYcyKAbdcDLudMSolSCqq6CWMMYow47z0AqnoUF9eX2p9F13sHnnUnVv75jze3XSC+8nl5DgAAAABJRU5ErkJggg==' width=10.0/>\n",
       "            </div>\n",
       "        "
      ],
      "text/plain": [
       "Canvas(toolbar=Toolbar(toolitems=[('Home', 'Reset original view', 'home', 'home'), ('Back', 'Back to previous …"
      ]
     },
     "metadata": {},
     "output_type": "display_data"
    },
    {
     "data": {
      "application/vnd.jupyter.widget-view+json": {
       "model_id": "69b6c928d4744a9a9ed7cc5c22315b2b",
       "version_major": 2,
       "version_minor": 0
      },
      "image/png": "[encoded data removed]",
      "text/html": [
       "\n",
       "            <div style=\"display: inline-block;\">\n",
       "                <div class=\"jupyter-widgets widget-label\" style=\"text-align: center;\">\n",
       "                    Figure\n",
       "                </div>\n",
       "                <img src='data:image/png;base64,iVBORw0KGgoAAAANSUhEUgAAAAoAAAAKCAYAAACNMs+9AAAAOXRFWHRTb2Z0d2FyZQBNYXRwbG90bGliIHZlcnNpb24zLjguMCwgaHR0cHM6Ly9tYXRwbG90bGliLm9yZy81sbWrAAAACXBIWXMAAA9hAAAPYQGoP6dpAAAAXklEQVR4nMWQIQ7AIBAE5xr0IdDw/3eBhwAPuIoGUxB1Hbk3yWZPWmtWayWEgIjwxsyYcyKAbdcDLudMSolSCqq6CWMMYow47z0AqnoUF9eX2p9F13sHnnUnVv75jze3XSC+8nl5DgAAAABJRU5ErkJggg==' width=10.0/>\n",
       "            </div>\n",
       "        "
      ],
      "text/plain": [
       "Canvas(toolbar=Toolbar(toolitems=[('Home', 'Reset original view', 'home', 'home'), ('Back', 'Back to previous …"
      ]
     },
     "metadata": {},
     "output_type": "display_data"
    }
   ],
   "source": [
    "%matplotlib widget\n",
    "import matplotlib.pyplot as plt\n",
    "import japanize_matplotlib\n",
    "\n",
    "for i in range(21):\n",
    "    plt.subplots(figsize=[0.1, 0.1])"
   ]
  },
  {
   "cell_type": "code",
   "execution_count": 2,
   "metadata": {},
   "outputs": [
    {
     "data": {
      "application/vnd.jupyter.widget-view+json": {
       "model_id": "a6c9ea64e83f4dc3ad8c5e152ab43d1a",
       "version_major": 2,
       "version_minor": 0
      },
      "text/plain": [
       "Button(description='Click me', style=ButtonStyle())"
      ]
     },
     "metadata": {},
     "output_type": "display_data"
    }
   ],
   "source": [
    "import ipywidgets as widgets\n",
    "\n",
    "button = widgets.Button(description=\"Click me\")\n",
    "display(button)"
   ]
  },
  {
   "cell_type": "code",
   "execution_count": 3,
   "metadata": {},
   "outputs": [],
   "source": [
    "def on_button_clicked(b):\n",
    "    print(\"ボタンがおされたよ！\")\n",
    "\n",
    "button.on_click(on_button_clicked)"
   ]
  },
  {
   "cell_type": "code",
   "execution_count": 4,
   "metadata": {},
   "outputs": [],
   "source": [
    "from marubatsu import Marubatsu\n",
    "import math\n",
    "\n",
    "def play(self, ai, params=[{}, {}], verbose=True, seed=None, gui=False, size=3):\n",
    "    # seed が None でない場合は、seed を乱数の種として設定する\n",
    "    if seed is not None:\n",
    "        random.seed(seed)\n",
    "    \n",
    "    # 〇×ゲームを再起動する\n",
    "    self.restart()\n",
    "   \n",
    "    # gui が True の場合に、ゲーム盤を描画する画像を作成し、イベントハンドラに結びつける\n",
    "    if gui:\n",
    "        # リセットボタンを配置する\n",
    "        button = widgets.Button(description=\"リセット\")\n",
    "        display(button)\n",
    "        \n",
    "        # リセットボタンのイベントハンドラを定義する\n",
    "        def on_button_clicked(b):\n",
    "            print(\"ボタンがおされたよ！\")    \n",
    "            \n",
    "        # イベントハンドラをリセットボタンに結びつける\n",
    "        button.on_click(on_button_clicked)\n",
    "\n",
    "        fig, ax = plt.subplots(figsize=[size, size])\n",
    "        fig.canvas.toolbar_visible = False\n",
    "        fig.canvas.header_visible = False\n",
    "        fig.canvas.footer_visible = False\n",
    "        fig.canvas.resizable = False          \n",
    "        \n",
    "        # ローカル関数としてイベントハンドラを定義する\n",
    "        def on_mouse_down(event):\n",
    "            # Axes の上でマウスを押していた場合で、ゲーム中の場合のみ処理を行う\n",
    "            if event.inaxes and self.status == Marubatsu.PLAYING:\n",
    "                x = math.floor(event.xdata)\n",
    "                y = math.floor(event.ydata)\n",
    "                self.move(x, y)                \n",
    "                self.draw_board(ax)\n",
    "        \n",
    "        # fig の画像にマウスを押した際のイベントハンドラを結び付ける\n",
    "        fig.canvas.mpl_connect(\"button_press_event\", on_mouse_down)     \n",
    "            \n",
    "\n",
    "    # ゲームの決着がついていない間繰り返す\n",
    "    while self.status == Marubatsu.PLAYING:\n",
    "        # 現在の手番を表す ai のインデックスを計算する\n",
    "        index = 0 if self.turn == Marubatsu.CIRCLE else 1\n",
    "        # ゲーム盤の表示\n",
    "        if verbose:\n",
    "            if gui:\n",
    "                # AI どうしの対戦の場合は画面を描画しない\n",
    "                if ai[0] is None or ai[1] is None:\n",
    "                    self.draw_board(ax)\n",
    "                # 手番を人間が担当する場合は、play メソッドを終了する\n",
    "                if ai[index] is None:\n",
    "                    return\n",
    "            else:\n",
    "                print(self)\n",
    "        # ai が着手を行うかどうかを判定する\n",
    "        if ai[index] is not None:\n",
    "            x, y = ai[index](self, **params[index])\n",
    "        else:\n",
    "            # キーボードからの座標の入力\n",
    "            coord = input(\"x,y の形式で座標を入力して下さい。exit を入力すると終了します\")\n",
    "            # \"exit\" が入力されていればメッセージを表示して関数を終了する\n",
    "            if coord == \"exit\":\n",
    "                print(\"ゲームを終了します\")\n",
    "                return       \n",
    "            # x 座標と y 座標を要素として持つ list を計算する\n",
    "            xylist = coord.split(\",\")\n",
    "            # xylist の要素の数が 2 ではない場合\n",
    "            if len(xylist) != 2:\n",
    "                # エラーメッセージを表示する\n",
    "                print(\"x, y の形式ではありません\")\n",
    "                # 残りの while 文のブロックを実行せずに、次の繰り返し処理を行う\n",
    "                continue\n",
    "            x, y = xylist\n",
    "        # (x, y) に着手を行う\n",
    "        try:\n",
    "            self.move(int(x), int(y))\n",
    "        except:\n",
    "            print(\"整数の座標を入力して下さい\")\n",
    "\n",
    "    # 決着がついたので、ゲーム盤を表示する\n",
    "    if verbose:\n",
    "        if gui:\n",
    "            self.draw_board(ax)\n",
    "        else:\n",
    "            print(self)\n",
    "            \n",
    "    return self.status       \n",
    "\n",
    "Marubatsu.play = play"
   ]
  },
  {
   "cell_type": "code",
   "execution_count": 5,
   "metadata": {},
   "outputs": [
    {
     "data": {
      "application/vnd.jupyter.widget-view+json": {
       "model_id": "d5168d13e2f94fecbbdcab0c110f296f",
       "version_major": 2,
       "version_minor": 0
      },
      "text/plain": [
       "Button(description='リセット', style=ButtonStyle())"
      ]
     },
     "metadata": {},
     "output_type": "display_data"
    },
    {
     "data": {
      "application/vnd.jupyter.widget-view+json": {
       "model_id": "bacaca54e7b344308c7815c1840e921f",
       "version_major": 2,
       "version_minor": 0
      },
      "image/png": "[encoded data removed]",
      "text/html": [
       "\n",
       "            <div style=\"display: inline-block;\">\n",
       "                <div class=\"jupyter-widgets widget-label\" style=\"text-align: center;\">\n",
       "                    Figure\n",
       "                </div>\n",
       "                <img src='data:image/png;base64,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' width=300.0/>\n",
       "            </div>\n",
       "        "
      ],
      "text/plain": [
       "Canvas(footer_visible=False, header_visible=False, resizable=False, toolbar=Toolbar(toolitems=[('Home', 'Reset…"
      ]
     },
     "metadata": {},
     "output_type": "display_data"
    }
   ],
   "source": [
    "mb = Marubatsu()\n",
    "mb.play(ai=[None, None], gui=True)"
   ]
  },
  {
   "cell_type": "code",
   "execution_count": 6,
   "metadata": {},
   "outputs": [],
   "source": [
    "def play(self, ai, params=[{}, {}], verbose=True, seed=None, gui=False, size=3):\n",
    "    # seed が None でない場合は、seed を乱数の種として設定する\n",
    "    if seed is not None:\n",
    "        random.seed(seed)\n",
    "    \n",
    "    # 〇×ゲームを再起動する\n",
    "    self.restart()\n",
    "    \n",
    "    # リセットボタンを配置する\n",
    "    button = widgets.Button(description=\"リセット\")\n",
    "    display(button)\n",
    "    \n",
    "    # リセットボタンのイベントハンドラを定義する\n",
    "    def on_button_clicked(b):\n",
    "        self.restart()     \n",
    "        \n",
    "    # イベントハンドラをリセットボタンに結びつける\n",
    "    button.on_click(on_button_clicked)\n",
    "\n",
    "    # gui が True の場合に、ゲーム盤を描画する画像を作成し、イベントハンドラに結びつける\n",
    "    if gui:\n",
    "        fig, ax = plt.subplots(figsize=[size, size])\n",
    "        fig.canvas.toolbar_visible = False\n",
    "        fig.canvas.header_visible = False\n",
    "        fig.canvas.footer_visible = False\n",
    "        fig.canvas.resizable = False          \n",
    "        \n",
    "        # ローカル関数としてイベントハンドラを定義する\n",
    "        def on_mouse_down(event):\n",
    "            # Axes の上でマウスを押していた場合のみ処理を行う\n",
    "            if event.inaxes and self.status == Marubatsu.PLAYING:\n",
    "                x = math.floor(event.xdata)\n",
    "                y = math.floor(event.ydata)\n",
    "                self.move(x, y)                \n",
    "                self.draw_board(ax)\n",
    "\n",
    "                # 現在の手番を表す ai のインデックスを計算する\n",
    "                index = 0 if self.turn == Marubatsu.CIRCLE else 1\n",
    "                # ゲームの決着がついていない場合に、ai が着手を行うかどうかを判定する\n",
    "                if self.status == Marubatsu.PLAYING and ai[index] is not None:                \n",
    "                    x, y = ai[index](self, **params[index])\n",
    "                    self.move(x, y) \n",
    "                    self.draw_board(ax)\n",
    "                   \n",
    "        # fig の画像にマウスを押した際のイベントハンドラを結び付ける\n",
    "        fig.canvas.mpl_connect(\"button_press_event\", on_mouse_down)     \n",
    "\n",
    "    # ゲームの決着がついていない間繰り返す\n",
    "    while self.status == Marubatsu.PLAYING:\n",
    "        # 現在の手番を表す ai のインデックスを計算する\n",
    "        index = 0 if self.turn == Marubatsu.CIRCLE else 1\n",
    "        # ゲーム盤の表示\n",
    "        if verbose:\n",
    "            if gui:\n",
    "                # AI どうしの対戦の場合は画面を描画しない\n",
    "                if ai[0] is None or ai[1] is None:\n",
    "                    self.draw_board(ax)\n",
    "                # 手番を人間が担当する場合は、play メソッドを終了する\n",
    "                if ai[index] is None:\n",
    "                    return\n",
    "            else:\n",
    "                print(self)\n",
    "                \n",
    "        # ai が着手を行うかどうかを判定する\n",
    "        if ai[index] is not None:\n",
    "            x, y = ai[index](self, **params[index])\n",
    "        else:\n",
    "            # キーボードからの座標の入力\n",
    "            coord = input(\"x,y の形式で座標を入力して下さい。exit を入力すると終了します\")\n",
    "            # \"exit\" が入力されていればメッセージを表示して関数を終了する\n",
    "            if coord == \"exit\":\n",
    "                print(\"ゲームを終了します\")\n",
    "                return       \n",
    "            # x 座標と y 座標を要素として持つ list を計算する\n",
    "            xylist = coord.split(\",\")\n",
    "            # xylist の要素の数が 2 ではない場合\n",
    "            if len(xylist) != 2:\n",
    "                # エラーメッセージを表示する\n",
    "                print(\"x, y の形式ではありません\")\n",
    "                # 残りの while 文のブロックを実行せずに、次の繰り返し処理を行う\n",
    "                continue\n",
    "            x, y = xylist\n",
    "        # (x, y) に着手を行う\n",
    "        try:\n",
    "            self.move(int(x), int(y))\n",
    "        except:\n",
    "            print(\"整数の座標を入力して下さい\")\n",
    "\n",
    "    # 決着がついたので、ゲーム盤を表示する\n",
    "    if verbose:\n",
    "        if gui:\n",
    "            self.draw_board(ax)\n",
    "        else:\n",
    "            print(self)\n",
    "            \n",
    "    return self.status\n",
    "    \n",
    "Marubatsu.play = play"
   ]
  },
  {
   "cell_type": "code",
   "execution_count": 7,
   "metadata": {},
   "outputs": [
    {
     "data": {
      "application/vnd.jupyter.widget-view+json": {
       "model_id": "2f6eee7c6f6b473a8ffa07dd82857c8c",
       "version_major": 2,
       "version_minor": 0
      },
      "text/plain": [
       "Button(description='リセット', style=ButtonStyle())"
      ]
     },
     "metadata": {},
     "output_type": "display_data"
    },
    {
     "data": {
      "application/vnd.jupyter.widget-view+json": {
       "model_id": "cde1d662f490467dbe0fe9c9c3b8c590",
       "version_major": 2,
       "version_minor": 0
      },
      "image/png": "[encoded data removed]",
      "text/html": [
       "\n",
       "            <div style=\"display: inline-block;\">\n",
       "                <div class=\"jupyter-widgets widget-label\" style=\"text-align: center;\">\n",
       "                    Figure\n",
       "                </div>\n",
       "                <img src='data:image/png;base64,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' width=300.0/>\n",
       "            </div>\n",
       "        "
      ],
      "text/plain": [
       "Canvas(footer_visible=False, header_visible=False, resizable=False, toolbar=Toolbar(toolitems=[('Home', 'Reset…"
      ]
     },
     "metadata": {},
     "output_type": "display_data"
    }
   ],
   "source": [
    "mb.play(ai=[None, None], gui=True)"
   ]
  },
  {
   "cell_type": "code",
   "execution_count": 8,
   "metadata": {},
   "outputs": [],
   "source": [
    "def play(self, ai, params=[{}, {}], verbose=True, seed=None, gui=False, size=3):\n",
    "    # seed が None でない場合は、seed を乱数の種として設定する\n",
    "    if seed is not None:\n",
    "        random.seed(seed)\n",
    "    \n",
    "    # 〇×ゲームを再起動する\n",
    "    self.restart()\n",
    "    \n",
    "    # リセットボタンを配置する\n",
    "    button = widgets.Button(description=\"リセット\")\n",
    "    display(button)\n",
    "    \n",
    "    # リセットボタンのイベントハンドラを定義する\n",
    "    def on_button_clicked(b):\n",
    "        self.restart()       \n",
    "        self.draw_board(ax)       \n",
    "         \n",
    "    # イベントハンドラをリセットボタンに結びつける\n",
    "    button.on_click(on_button_clicked)\n",
    "\n",
    "    # gui が True の場合に、ゲーム盤を描画する画像を作成し、イベントハンドラに結びつける\n",
    "    if gui:\n",
    "        fig, ax = plt.subplots(figsize=[size, size])\n",
    "        fig.canvas.toolbar_visible = False\n",
    "        fig.canvas.header_visible = False\n",
    "        fig.canvas.footer_visible = False\n",
    "        fig.canvas.resizable = False          \n",
    "        \n",
    "        # ローカル関数としてイベントハンドラを定義する\n",
    "        def on_mouse_down(event):\n",
    "            # Axes の上でマウスを押していた場合のみ処理を行う\n",
    "            if event.inaxes and self.status == Marubatsu.PLAYING:\n",
    "                x = math.floor(event.xdata)\n",
    "                y = math.floor(event.ydata)\n",
    "                self.move(x, y)                \n",
    "                self.draw_board(ax)\n",
    "\n",
    "                # 現在の手番を表す ai のインデックスを計算する\n",
    "                index = 0 if self.turn == Marubatsu.CIRCLE else 1\n",
    "                # ゲームの決着がついていない場合に、ai が着手を行うかどうかを判定する\n",
    "                if self.status == Marubatsu.PLAYING and ai[index] is not None:                \n",
    "                    x, y = ai[index](self, **params[index])\n",
    "                    self.move(x, y) \n",
    "                    self.draw_board(ax)\n",
    "                   \n",
    "        # fig の画像にマウスを押した際のイベントハンドラを結び付ける\n",
    "        fig.canvas.mpl_connect(\"button_press_event\", on_mouse_down)     \n",
    "\n",
    "    # ゲームの決着がついていない間繰り返す\n",
    "    while self.status == Marubatsu.PLAYING:\n",
    "        # 現在の手番を表す ai のインデックスを計算する\n",
    "        index = 0 if self.turn == Marubatsu.CIRCLE else 1\n",
    "        # ゲーム盤の表示\n",
    "        if verbose:\n",
    "            if gui:\n",
    "                # AI どうしの対戦の場合は画面を描画しない\n",
    "                if ai[0] is None or ai[1] is None:\n",
    "                    self.draw_board(ax)\n",
    "                # 手番を人間が担当する場合は、play メソッドを終了する\n",
    "                if ai[index] is None:\n",
    "                    return\n",
    "            else:\n",
    "                print(self)\n",
    "                \n",
    "        # ai が着手を行うかどうかを判定する\n",
    "        if ai[index] is not None:\n",
    "            x, y = ai[index](self, **params[index])\n",
    "        else:\n",
    "            # キーボードからの座標の入力\n",
    "            coord = input(\"x,y の形式で座標を入力して下さい。exit を入力すると終了します\")\n",
    "            # \"exit\" が入力されていればメッセージを表示して関数を終了する\n",
    "            if coord == \"exit\":\n",
    "                print(\"ゲームを終了します\")\n",
    "                return       \n",
    "            # x 座標と y 座標を要素として持つ list を計算する\n",
    "            xylist = coord.split(\",\")\n",
    "            # xylist の要素の数が 2 ではない場合\n",
    "            if len(xylist) != 2:\n",
    "                # エラーメッセージを表示する\n",
    "                print(\"x, y の形式ではありません\")\n",
    "                # 残りの while 文のブロックを実行せずに、次の繰り返し処理を行う\n",
    "                continue\n",
    "            x, y = xylist\n",
    "        # (x, y) に着手を行う\n",
    "        try:\n",
    "            self.move(int(x), int(y))\n",
    "        except:\n",
    "            print(\"整数の座標を入力して下さい\")\n",
    "\n",
    "    # 決着がついたので、ゲーム盤を表示する\n",
    "    if verbose:\n",
    "        if gui:\n",
    "            self.draw_board(ax)\n",
    "        else:\n",
    "            print(self)\n",
    "            \n",
    "    return self.status\n",
    "    \n",
    "Marubatsu.play = play"
   ]
  },
  {
   "cell_type": "code",
   "execution_count": 9,
   "metadata": {},
   "outputs": [
    {
     "data": {
      "application/vnd.jupyter.widget-view+json": {
       "model_id": "e3ab57ac0b134d9980b42d84a5c47808",
       "version_major": 2,
       "version_minor": 0
      },
      "text/plain": [
       "Button(description='リセット', style=ButtonStyle())"
      ]
     },
     "metadata": {},
     "output_type": "display_data"
    },
    {
     "data": {
      "application/vnd.jupyter.widget-view+json": {
       "model_id": "443d9c34957144c1a1f2bd4b8c15a9d9",
       "version_major": 2,
       "version_minor": 0
      },
      "image/png": "[encoded data removed]",
      "text/html": [
       "\n",
       "            <div style=\"display: inline-block;\">\n",
       "                <div class=\"jupyter-widgets widget-label\" style=\"text-align: center;\">\n",
       "                    Figure\n",
       "                </div>\n",
       "                <img src='data:image/png;base64,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' width=300.0/>\n",
       "            </div>\n",
       "        "
      ],
      "text/plain": [
       "Canvas(footer_visible=False, header_visible=False, resizable=False, toolbar=Toolbar(toolitems=[('Home', 'Reset…"
      ]
     },
     "metadata": {},
     "output_type": "display_data"
    }
   ],
   "source": [
    "mb.play(ai=[None, None], gui=True)"
   ]
  },
  {
   "cell_type": "code",
   "execution_count": 10,
   "metadata": {},
   "outputs": [
    {
     "data": {
      "application/vnd.jupyter.widget-view+json": {
       "model_id": "beea4e0064bf4a50b611eb7d08368cc1",
       "version_major": 2,
       "version_minor": 0
      },
      "text/plain": [
       "Button(description='リセット', style=ButtonStyle())"
      ]
     },
     "metadata": {},
     "output_type": "display_data"
    },
    {
     "data": {
      "text/plain": [
       "'x'"
      ]
     },
     "execution_count": 10,
     "metadata": {},
     "output_type": "execute_result"
    },
    {
     "data": {
      "application/vnd.jupyter.widget-view+json": {
       "model_id": "185e70e0019241e99c2cf92bc9a10aa8",
       "version_major": 2,
       "version_minor": 0
      },
      "image/png": "[encoded data removed]",
      "text/html": [
       "\n",
       "            <div style=\"display: inline-block;\">\n",
       "                <div class=\"jupyter-widgets widget-label\" style=\"text-align: center;\">\n",
       "                    Figure\n",
       "                </div>\n",
       "                <img src='data:image/png;base64,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' width=300.0/>\n",
       "            </div>\n",
       "        "
      ],
      "text/plain": [
       "Canvas(footer_visible=False, header_visible=False, resizable=False, toolbar=Toolbar(toolitems=[('Home', 'Reset…"
      ]
     },
     "metadata": {},
     "output_type": "display_data"
    }
   ],
   "source": [
    "from ai import ai2\n",
    "\n",
    "mb.play(ai=[ai2, ai2], gui=True)"
   ]
  },
  {
   "cell_type": "code",
   "execution_count": 11,
   "metadata": {},
   "outputs": [
    {
     "data": {
      "application/vnd.jupyter.widget-view+json": {
       "model_id": "81279937ba584f32af282de9746be728",
       "version_major": 2,
       "version_minor": 0
      },
      "text/plain": [
       "Button(description='リセット', style=ButtonStyle())"
      ]
     },
     "metadata": {},
     "output_type": "display_data"
    },
    {
     "data": {
      "application/vnd.jupyter.widget-view+json": {
       "model_id": "383250dac8cd45c4924824c51e97cfb8",
       "version_major": 2,
       "version_minor": 0
      },
      "image/png": "[encoded data removed]",
      "text/html": [
       "\n",
       "            <div style=\"display: inline-block;\">\n",
       "                <div class=\"jupyter-widgets widget-label\" style=\"text-align: center;\">\n",
       "                    Figure\n",
       "                </div>\n",
       "                <img src='data:image/png;base64,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' width=300.0/>\n",
       "            </div>\n",
       "        "
      ],
      "text/plain": [
       "Canvas(footer_visible=False, header_visible=False, resizable=False, toolbar=Toolbar(toolitems=[('Home', 'Reset…"
      ]
     },
     "metadata": {},
     "output_type": "display_data"
    }
   ],
   "source": [
    "mb.play(ai=[ai2, ai2], gui=True);"
   ]
  },
  {
   "cell_type": "code",
   "execution_count": 12,
   "metadata": {},
   "outputs": [],
   "source": [
    "def play(self, ai, params=[{}, {}], verbose=True, seed=None, gui=False, size=3):\n",
    "    # seed が None でない場合は、seed を乱数の種として設定する\n",
    "    if seed is not None:\n",
    "        random.seed(seed)\n",
    "    \n",
    "    # 〇×ゲームを再起動する\n",
    "    self.restart()\n",
    "    \n",
    "    # リセットボタンを配置する\n",
    "    button = widgets.Button(description=\"リセット\")\n",
    "    display(button)\n",
    "    \n",
    "    # リセットボタンのイベントハンドラを定義する\n",
    "    def on_button_clicked(b):\n",
    "        self.restart()       \n",
    "        self.draw_board(ax)  \n",
    "        \n",
    "        # 現在の手番を表す ai のインデックスを計算する\n",
    "        index = 0 if self.turn == Marubatsu.CIRCLE else 1\n",
    "        # ゲームの決着がついていない場合に、ai が着手を行うかどうかを判定する\n",
    "        if self.status == Marubatsu.PLAYING and ai[index] is not None:                \n",
    "            x, y = ai[index](self, **params[index])\n",
    "            self.move(x, y) \n",
    "            self.draw_board(ax)                               \n",
    "         \n",
    "    # イベントハンドラをリセットボタンに結びつける\n",
    "    button.on_click(on_button_clicked)\n",
    "\n",
    "    # gui が True の場合に、ゲーム盤を描画する画像を作成し、イベントハンドラに結びつける\n",
    "    if gui:\n",
    "        fig, ax = plt.subplots(figsize=[size, size])\n",
    "        fig.canvas.toolbar_visible = False\n",
    "        fig.canvas.header_visible = False\n",
    "        fig.canvas.footer_visible = False\n",
    "        fig.canvas.resizable = False          \n",
    "        \n",
    "        # ローカル関数としてイベントハンドラを定義する\n",
    "        def on_mouse_down(event):\n",
    "            # Axes の上でマウスを押していた場合のみ処理を行う\n",
    "            if event.inaxes and self.status == Marubatsu.PLAYING:\n",
    "                x = math.floor(event.xdata)\n",
    "                y = math.floor(event.ydata)\n",
    "                self.move(x, y)                \n",
    "                self.draw_board(ax)\n",
    "\n",
    "                # 現在の手番を表す ai のインデックスを計算する\n",
    "                index = 0 if self.turn == Marubatsu.CIRCLE else 1\n",
    "                # ゲームの決着がついていない場合に、ai が着手を行うかどうかを判定する\n",
    "                if self.status == Marubatsu.PLAYING and ai[index] is not None:                \n",
    "                    x, y = ai[index](self, **params[index])\n",
    "                    self.move(x, y) \n",
    "                    self.draw_board(ax)\n",
    "                   \n",
    "        # fig の画像にマウスを押した際のイベントハンドラを結び付ける\n",
    "        fig.canvas.mpl_connect(\"button_press_event\", on_mouse_down)     \n",
    "\n",
    "    # ゲームの決着がついていない間繰り返す\n",
    "    while self.status == Marubatsu.PLAYING:\n",
    "        # 現在の手番を表す ai のインデックスを計算する\n",
    "        index = 0 if self.turn == Marubatsu.CIRCLE else 1\n",
    "        # ゲーム盤の表示\n",
    "        if verbose:\n",
    "            if gui:\n",
    "                # AI どうしの対戦の場合は画面を描画しない\n",
    "                if ai[0] is None or ai[1] is None:\n",
    "                    self.draw_board(ax)\n",
    "                # 手番を人間が担当する場合は、play メソッドを終了する\n",
    "                if ai[index] is None:\n",
    "                    return\n",
    "            else:\n",
    "                print(self)\n",
    "                \n",
    "        # ai が着手を行うかどうかを判定する\n",
    "        if ai[index] is not None:\n",
    "            x, y = ai[index](self, **params[index])\n",
    "        else:\n",
    "            # キーボードからの座標の入力\n",
    "            coord = input(\"x,y の形式で座標を入力して下さい。exit を入力すると終了します\")\n",
    "            # \"exit\" が入力されていればメッセージを表示して関数を終了する\n",
    "            if coord == \"exit\":\n",
    "                print(\"ゲームを終了します\")\n",
    "                return       \n",
    "            # x 座標と y 座標を要素として持つ list を計算する\n",
    "            xylist = coord.split(\",\")\n",
    "            # xylist の要素の数が 2 ではない場合\n",
    "            if len(xylist) != 2:\n",
    "                # エラーメッセージを表示する\n",
    "                print(\"x, y の形式ではありません\")\n",
    "                # 残りの while 文のブロックを実行せずに、次の繰り返し処理を行う\n",
    "                continue\n",
    "            x, y = xylist\n",
    "        # (x, y) に着手を行う\n",
    "        try:\n",
    "            self.move(int(x), int(y))\n",
    "        except:\n",
    "            print(\"整数の座標を入力して下さい\")\n",
    "\n",
    "    # 決着がついたので、ゲーム盤を表示する\n",
    "    if verbose:\n",
    "        if gui:\n",
    "            self.draw_board(ax)\n",
    "        else:\n",
    "            print(self)\n",
    "            \n",
    "    return self.status\n",
    "    \n",
    "Marubatsu.play = play"
   ]
  },
  {
   "cell_type": "code",
   "execution_count": 13,
   "metadata": {},
   "outputs": [
    {
     "data": {
      "application/vnd.jupyter.widget-view+json": {
       "model_id": "b920ddaaf7fe4baab8f3405797935834",
       "version_major": 2,
       "version_minor": 0
      },
      "text/plain": [
       "Button(description='リセット', style=ButtonStyle())"
      ]
     },
     "metadata": {},
     "output_type": "display_data"
    },
    {
     "data": {
      "application/vnd.jupyter.widget-view+json": {
       "model_id": "f3dbdc17f91d4d609d6fb99daa86c2ed",
       "version_major": 2,
       "version_minor": 0
      },
      "image/png": "[encoded data removed]",
      "text/html": [
       "\n",
       "            <div style=\"display: inline-block;\">\n",
       "                <div class=\"jupyter-widgets widget-label\" style=\"text-align: center;\">\n",
       "                    Figure\n",
       "                </div>\n",
       "                <img src='data:image/png;base64,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' width=300.0/>\n",
       "            </div>\n",
       "        "
      ],
      "text/plain": [
       "Canvas(footer_visible=False, header_visible=False, resizable=False, toolbar=Toolbar(toolitems=[('Home', 'Reset…"
      ]
     },
     "metadata": {},
     "output_type": "display_data"
    }
   ],
   "source": [
    "mb.play(ai=[ai2, ai2], gui=True);"
   ]
  },
  {
   "cell_type": "code",
   "execution_count": 14,
   "metadata": {},
   "outputs": [],
   "source": [
    "def play(self, ai, params=[{}, {}], verbose=True, seed=None, gui=False, size=3):\n",
    "    # seed が None でない場合は、seed を乱数の種として設定する\n",
    "    if seed is not None:\n",
    "        random.seed(seed)\n",
    "    \n",
    "    # 〇×ゲームを再起動する\n",
    "    self.restart()\n",
    "    \n",
    "    # リセットボタンを配置する\n",
    "    button = widgets.Button(description=\"リセット\")\n",
    "    display(button)\n",
    "    \n",
    "    # リセットボタンのイベントハンドラを定義する\n",
    "    def on_button_clicked(b):\n",
    "        self.restart()       \n",
    "        self.draw_board(ax)  \n",
    "        \n",
    "        while self.status == Marubatsu.PLAYING:\n",
    "            # 現在の手番を表す ai のインデックスを計算する\n",
    "            index = 0 if self.turn == Marubatsu.CIRCLE else 1\n",
    "            # ai が着手を行うかどうかを判定する\n",
    "            if ai[index] is not None:                \n",
    "                x, y = ai[index](self, **params[index])\n",
    "                self.move(x, y) \n",
    "                self.draw_board(ax)                               \n",
    "            else:\n",
    "                # 人間の手番の場合は、イベントハンドラを終了する\n",
    "                return\n",
    "         \n",
    "    # イベントハンドラをリセットボタンに結びつける\n",
    "    button.on_click(on_button_clicked)\n",
    "\n",
    "    # gui が True の場合に、ゲーム盤を描画する画像を作成し、イベントハンドラに結びつける\n",
    "    if gui:\n",
    "        fig, ax = plt.subplots(figsize=[size, size])\n",
    "        fig.canvas.toolbar_visible = False\n",
    "        fig.canvas.header_visible = False\n",
    "        fig.canvas.footer_visible = False\n",
    "        fig.canvas.resizable = False          \n",
    "        \n",
    "        # ローカル関数としてイベントハンドラを定義する\n",
    "        def on_mouse_down(event):\n",
    "            # Axes の上でマウスを押していた場合のみ処理を行う\n",
    "            if event.inaxes and self.status == Marubatsu.PLAYING:\n",
    "                x = math.floor(event.xdata)\n",
    "                y = math.floor(event.ydata)\n",
    "                self.move(x, y)                \n",
    "                self.draw_board(ax)\n",
    "\n",
    "                # 現在の手番を表す ai のインデックスを計算する\n",
    "                index = 0 if self.turn == Marubatsu.CIRCLE else 1\n",
    "                # ゲームの決着がついていない場合に、ai が着手を行うかどうかを判定する\n",
    "                if self.status == Marubatsu.PLAYING and ai[index] is not None:                \n",
    "                    x, y = ai[index](self, **params[index])\n",
    "                    self.move(x, y) \n",
    "                    self.draw_board(ax)\n",
    "                   \n",
    "        # fig の画像にマウスを押した際のイベントハンドラを結び付ける\n",
    "        fig.canvas.mpl_connect(\"button_press_event\", on_mouse_down)     \n",
    "\n",
    "    # ゲームの決着がついていない間繰り返す\n",
    "    while self.status == Marubatsu.PLAYING:\n",
    "        # 現在の手番を表す ai のインデックスを計算する\n",
    "        index = 0 if self.turn == Marubatsu.CIRCLE else 1\n",
    "        # ゲーム盤の表示\n",
    "        if verbose:\n",
    "            if gui:\n",
    "                # AI どうしの対戦の場合は画面を描画しない\n",
    "                if ai[0] is None or ai[1] is None:\n",
    "                    self.draw_board(ax)\n",
    "                # 手番を人間が担当する場合は、play メソッドを終了する\n",
    "                if ai[index] is None:\n",
    "                    return\n",
    "            else:\n",
    "                print(self)\n",
    "                \n",
    "        # ai が着手を行うかどうかを判定する\n",
    "        if ai[index] is not None:\n",
    "            x, y = ai[index](self, **params[index])\n",
    "        else:\n",
    "            # キーボードからの座標の入力\n",
    "            coord = input(\"x,y の形式で座標を入力して下さい。exit を入力すると終了します\")\n",
    "            # \"exit\" が入力されていればメッセージを表示して関数を終了する\n",
    "            if coord == \"exit\":\n",
    "                print(\"ゲームを終了します\")\n",
    "                return       \n",
    "            # x 座標と y 座標を要素として持つ list を計算する\n",
    "            xylist = coord.split(\",\")\n",
    "            # xylist の要素の数が 2 ではない場合\n",
    "            if len(xylist) != 2:\n",
    "                # エラーメッセージを表示する\n",
    "                print(\"x, y の形式ではありません\")\n",
    "                # 残りの while 文のブロックを実行せずに、次の繰り返し処理を行う\n",
    "                continue\n",
    "            x, y = xylist\n",
    "        # (x, y) に着手を行う\n",
    "        try:\n",
    "            self.move(int(x), int(y))\n",
    "        except:\n",
    "            print(\"整数の座標を入力して下さい\")\n",
    "\n",
    "    # 決着がついたので、ゲーム盤を表示する\n",
    "    if verbose:\n",
    "        if gui:\n",
    "            self.draw_board(ax)\n",
    "        else:\n",
    "            print(self)\n",
    "            \n",
    "    return self.status\n",
    "    \n",
    "Marubatsu.play = play"
   ]
  },
  {
   "cell_type": "code",
   "execution_count": 15,
   "metadata": {},
   "outputs": [
    {
     "data": {
      "application/vnd.jupyter.widget-view+json": {
       "model_id": "429ad1fdb33f4714b6181139111f08e6",
       "version_major": 2,
       "version_minor": 0
      },
      "text/plain": [
       "Button(description='リセット', style=ButtonStyle())"
      ]
     },
     "metadata": {},
     "output_type": "display_data"
    },
    {
     "data": {
      "application/vnd.jupyter.widget-view+json": {
       "model_id": "7f350dfe52774859ba2cc6db4d1078b7",
       "version_major": 2,
       "version_minor": 0
      },
      "image/png": "[encoded data removed]",
      "text/html": [
       "\n",
       "            <div style=\"display: inline-block;\">\n",
       "                <div class=\"jupyter-widgets widget-label\" style=\"text-align: center;\">\n",
       "                    Figure\n",
       "                </div>\n",
       "                <img src='data:image/png;base64,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' width=300.0/>\n",
       "            </div>\n",
       "        "
      ],
      "text/plain": [
       "Canvas(footer_visible=False, header_visible=False, resizable=False, toolbar=Toolbar(toolitems=[('Home', 'Reset…"
      ]
     },
     "metadata": {},
     "output_type": "display_data"
    }
   ],
   "source": [
    "mb.play(ai=[ai2, ai2], gui=True);"
   ]
  }
 ],
 "metadata": {
  "kernelspec": {
   "display_name": "marubatsu",
   "language": "python",
   "name": "python3"
  },
  "language_info": {
   "codemirror_mode": {
    "name": "ipython",
    "version": 3
   },
   "file_extension": ".py",
   "mimetype": "text/x-python",
   "name": "python",
   "nbconvert_exporter": "python",
   "pygments_lexer": "ipython3",
   "version": "3.11.4"
  }
 },
 "nbformat": 4,
 "nbformat_minor": 2
}
