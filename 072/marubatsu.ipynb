{
 "cells": [
  {
   "cell_type": "code",
   "execution_count": 1,
   "metadata": {},
   "outputs": [
    {
     "name": "stderr",
     "output_type": "stream",
     "text": [
      "C:\\Users\\ys\\AppData\\Local\\Temp\\ipykernel_4852\\1311249836.py:6: RuntimeWarning: More than 20 figures have been opened. Figures created through the pyplot interface (`matplotlib.pyplot.figure`) are retained until explicitly closed and may consume too much memory. (To control this warning, see the rcParam `figure.max_open_warning`). Consider using `matplotlib.pyplot.close()`.\n",
      "  plt.subplots(figsize=[0.1, 0.1])\n"
     ]
    },
    {
     "data": {
      "application/vnd.jupyter.widget-view+json": {
       "model_id": "ab3dcdfe425c4932baaa521498567a4b",
       "version_major": 2,
       "version_minor": 0
      },
      "image/png": "[encoded data removed]",
      "text/html": [
       "\n",
       "            <div style=\"display: inline-block;\">\n",
       "                <div class=\"jupyter-widgets widget-label\" style=\"text-align: center;\">\n",
       "                    Figure\n",
       "                </div>\n",
       "                <img src='data:image/png;base64,iVBORw0KGgoAAAANSUhEUgAAAAoAAAAKCAYAAACNMs+9AAAAOXRFWHRTb2Z0d2FyZQBNYXRwbG90bGliIHZlcnNpb24zLjguMCwgaHR0cHM6Ly9tYXRwbG90bGliLm9yZy81sbWrAAAACXBIWXMAAA9hAAAPYQGoP6dpAAAAXklEQVR4nMWQIQ7AIBAE5xr0IdDw/3eBhwAPuIoGUxB1Hbk3yWZPWmtWayWEgIjwxsyYcyKAbdcDLudMSolSCqq6CWMMYow47z0AqnoUF9eX2p9F13sHnnUnVv75jze3XSC+8nl5DgAAAABJRU5ErkJggg==' width=10.0/>\n",
       "            </div>\n",
       "        "
      ],
      "text/plain": [
       "Canvas(toolbar=Toolbar(toolitems=[('Home', 'Reset original view', 'home', 'home'), ('Back', 'Back to previous …"
      ]
     },
     "metadata": {},
     "output_type": "display_data"
    },
    {
     "data": {
      "application/vnd.jupyter.widget-view+json": {
       "model_id": "918603ee7b554d808d0b6f89ca7b1f87",
       "version_major": 2,
       "version_minor": 0
      },
      "image/png": "[encoded data removed]",
      "text/html": [
       "\n",
       "            <div style=\"display: inline-block;\">\n",
       "                <div class=\"jupyter-widgets widget-label\" style=\"text-align: center;\">\n",
       "                    Figure\n",
       "                </div>\n",
       "                <img src='data:image/png;base64,iVBORw0KGgoAAAANSUhEUgAAAAoAAAAKCAYAAACNMs+9AAAAOXRFWHRTb2Z0d2FyZQBNYXRwbG90bGliIHZlcnNpb24zLjguMCwgaHR0cHM6Ly9tYXRwbG90bGliLm9yZy81sbWrAAAACXBIWXMAAA9hAAAPYQGoP6dpAAAAXklEQVR4nMWQIQ7AIBAE5xr0IdDw/3eBhwAPuIoGUxB1Hbk3yWZPWmtWayWEgIjwxsyYcyKAbdcDLudMSolSCqq6CWMMYow47z0AqnoUF9eX2p9F13sHnnUnVv75jze3XSC+8nl5DgAAAABJRU5ErkJggg==' width=10.0/>\n",
       "            </div>\n",
       "        "
      ],
      "text/plain": [
       "Canvas(toolbar=Toolbar(toolitems=[('Home', 'Reset original view', 'home', 'home'), ('Back', 'Back to previous …"
      ]
     },
     "metadata": {},
     "output_type": "display_data"
    },
    {
     "data": {
      "application/vnd.jupyter.widget-view+json": {
       "model_id": "8966e14158b24d18934b890acb86e111",
       "version_major": 2,
       "version_minor": 0
      },
      "image/png": "[encoded data removed]",
      "text/html": [
       "\n",
       "            <div style=\"display: inline-block;\">\n",
       "                <div class=\"jupyter-widgets widget-label\" style=\"text-align: center;\">\n",
       "                    Figure\n",
       "                </div>\n",
       "                <img src='data:image/png;base64,iVBORw0KGgoAAAANSUhEUgAAAAoAAAAKCAYAAACNMs+9AAAAOXRFWHRTb2Z0d2FyZQBNYXRwbG90bGliIHZlcnNpb24zLjguMCwgaHR0cHM6Ly9tYXRwbG90bGliLm9yZy81sbWrAAAACXBIWXMAAA9hAAAPYQGoP6dpAAAAXklEQVR4nMWQIQ7AIBAE5xr0IdDw/3eBhwAPuIoGUxB1Hbk3yWZPWmtWayWEgIjwxsyYcyKAbdcDLudMSolSCqq6CWMMYow47z0AqnoUF9eX2p9F13sHnnUnVv75jze3XSC+8nl5DgAAAABJRU5ErkJggg==' width=10.0/>\n",
       "            </div>\n",
       "        "
      ],
      "text/plain": [
       "Canvas(toolbar=Toolbar(toolitems=[('Home', 'Reset original view', 'home', 'home'), ('Back', 'Back to previous …"
      ]
     },
     "metadata": {},
     "output_type": "display_data"
    },
    {
     "data": {
      "application/vnd.jupyter.widget-view+json": {
       "model_id": "6f5cb1408b70429c975dd44b3bf117e9",
       "version_major": 2,
       "version_minor": 0
      },
      "image/png": "[encoded data removed]",
      "text/html": [
       "\n",
       "            <div style=\"display: inline-block;\">\n",
       "                <div class=\"jupyter-widgets widget-label\" style=\"text-align: center;\">\n",
       "                    Figure\n",
       "                </div>\n",
       "                <img src='data:image/png;base64,iVBORw0KGgoAAAANSUhEUgAAAAoAAAAKCAYAAACNMs+9AAAAOXRFWHRTb2Z0d2FyZQBNYXRwbG90bGliIHZlcnNpb24zLjguMCwgaHR0cHM6Ly9tYXRwbG90bGliLm9yZy81sbWrAAAACXBIWXMAAA9hAAAPYQGoP6dpAAAAXklEQVR4nMWQIQ7AIBAE5xr0IdDw/3eBhwAPuIoGUxB1Hbk3yWZPWmtWayWEgIjwxsyYcyKAbdcDLudMSolSCqq6CWMMYow47z0AqnoUF9eX2p9F13sHnnUnVv75jze3XSC+8nl5DgAAAABJRU5ErkJggg==' width=10.0/>\n",
       "            </div>\n",
       "        "
      ],
      "text/plain": [
       "Canvas(toolbar=Toolbar(toolitems=[('Home', 'Reset original view', 'home', 'home'), ('Back', 'Back to previous …"
      ]
     },
     "metadata": {},
     "output_type": "display_data"
    },
    {
     "data": {
      "application/vnd.jupyter.widget-view+json": {
       "model_id": "912d249756ae43378f45c022f50dd76d",
       "version_major": 2,
       "version_minor": 0
      },
      "image/png": "[encoded data removed]",
      "text/html": [
       "\n",
       "            <div style=\"display: inline-block;\">\n",
       "                <div class=\"jupyter-widgets widget-label\" style=\"text-align: center;\">\n",
       "                    Figure\n",
       "                </div>\n",
       "                <img src='data:image/png;base64,iVBORw0KGgoAAAANSUhEUgAAAAoAAAAKCAYAAACNMs+9AAAAOXRFWHRTb2Z0d2FyZQBNYXRwbG90bGliIHZlcnNpb24zLjguMCwgaHR0cHM6Ly9tYXRwbG90bGliLm9yZy81sbWrAAAACXBIWXMAAA9hAAAPYQGoP6dpAAAAXklEQVR4nMWQIQ7AIBAE5xr0IdDw/3eBhwAPuIoGUxB1Hbk3yWZPWmtWayWEgIjwxsyYcyKAbdcDLudMSolSCqq6CWMMYow47z0AqnoUF9eX2p9F13sHnnUnVv75jze3XSC+8nl5DgAAAABJRU5ErkJggg==' width=10.0/>\n",
       "            </div>\n",
       "        "
      ],
      "text/plain": [
       "Canvas(toolbar=Toolbar(toolitems=[('Home', 'Reset original view', 'home', 'home'), ('Back', 'Back to previous …"
      ]
     },
     "metadata": {},
     "output_type": "display_data"
    },
    {
     "data": {
      "application/vnd.jupyter.widget-view+json": {
       "model_id": "3aee6debc6da4befa81cb33969a7d5c9",
       "version_major": 2,
       "version_minor": 0
      },
      "image/png": "[encoded data removed]",
      "text/html": [
       "\n",
       "            <div style=\"display: inline-block;\">\n",
       "                <div class=\"jupyter-widgets widget-label\" style=\"text-align: center;\">\n",
       "                    Figure\n",
       "                </div>\n",
       "                <img src='data:image/png;base64,iVBORw0KGgoAAAANSUhEUgAAAAoAAAAKCAYAAACNMs+9AAAAOXRFWHRTb2Z0d2FyZQBNYXRwbG90bGliIHZlcnNpb24zLjguMCwgaHR0cHM6Ly9tYXRwbG90bGliLm9yZy81sbWrAAAACXBIWXMAAA9hAAAPYQGoP6dpAAAAXklEQVR4nMWQIQ7AIBAE5xr0IdDw/3eBhwAPuIoGUxB1Hbk3yWZPWmtWayWEgIjwxsyYcyKAbdcDLudMSolSCqq6CWMMYow47z0AqnoUF9eX2p9F13sHnnUnVv75jze3XSC+8nl5DgAAAABJRU5ErkJggg==' width=10.0/>\n",
       "            </div>\n",
       "        "
      ],
      "text/plain": [
       "Canvas(toolbar=Toolbar(toolitems=[('Home', 'Reset original view', 'home', 'home'), ('Back', 'Back to previous …"
      ]
     },
     "metadata": {},
     "output_type": "display_data"
    },
    {
     "data": {
      "application/vnd.jupyter.widget-view+json": {
       "model_id": "7898c6096fcd438d9f81b609292a9f19",
       "version_major": 2,
       "version_minor": 0
      },
      "image/png": "[encoded data removed]",
      "text/html": [
       "\n",
       "            <div style=\"display: inline-block;\">\n",
       "                <div class=\"jupyter-widgets widget-label\" style=\"text-align: center;\">\n",
       "                    Figure\n",
       "                </div>\n",
       "                <img src='data:image/png;base64,iVBORw0KGgoAAAANSUhEUgAAAAoAAAAKCAYAAACNMs+9AAAAOXRFWHRTb2Z0d2FyZQBNYXRwbG90bGliIHZlcnNpb24zLjguMCwgaHR0cHM6Ly9tYXRwbG90bGliLm9yZy81sbWrAAAACXBIWXMAAA9hAAAPYQGoP6dpAAAAXklEQVR4nMWQIQ7AIBAE5xr0IdDw/3eBhwAPuIoGUxB1Hbk3yWZPWmtWayWEgIjwxsyYcyKAbdcDLudMSolSCqq6CWMMYow47z0AqnoUF9eX2p9F13sHnnUnVv75jze3XSC+8nl5DgAAAABJRU5ErkJggg==' width=10.0/>\n",
       "            </div>\n",
       "        "
      ],
      "text/plain": [
       "Canvas(toolbar=Toolbar(toolitems=[('Home', 'Reset original view', 'home', 'home'), ('Back', 'Back to previous …"
      ]
     },
     "metadata": {},
     "output_type": "display_data"
    },
    {
     "data": {
      "application/vnd.jupyter.widget-view+json": {
       "model_id": "24c7b470ed074a69b41e1f28cc057f21",
       "version_major": 2,
       "version_minor": 0
      },
      "image/png": "[encoded data removed]",
      "text/html": [
       "\n",
       "            <div style=\"display: inline-block;\">\n",
       "                <div class=\"jupyter-widgets widget-label\" style=\"text-align: center;\">\n",
       "                    Figure\n",
       "                </div>\n",
       "                <img src='data:image/png;base64,iVBORw0KGgoAAAANSUhEUgAAAAoAAAAKCAYAAACNMs+9AAAAOXRFWHRTb2Z0d2FyZQBNYXRwbG90bGliIHZlcnNpb24zLjguMCwgaHR0cHM6Ly9tYXRwbG90bGliLm9yZy81sbWrAAAACXBIWXMAAA9hAAAPYQGoP6dpAAAAXklEQVR4nMWQIQ7AIBAE5xr0IdDw/3eBhwAPuIoGUxB1Hbk3yWZPWmtWayWEgIjwxsyYcyKAbdcDLudMSolSCqq6CWMMYow47z0AqnoUF9eX2p9F13sHnnUnVv75jze3XSC+8nl5DgAAAABJRU5ErkJggg==' width=10.0/>\n",
       "            </div>\n",
       "        "
      ],
      "text/plain": [
       "Canvas(toolbar=Toolbar(toolitems=[('Home', 'Reset original view', 'home', 'home'), ('Back', 'Back to previous …"
      ]
     },
     "metadata": {},
     "output_type": "display_data"
    },
    {
     "data": {
      "application/vnd.jupyter.widget-view+json": {
       "model_id": "d656cfff9b2a4f4d8c463fdf0615cbfd",
       "version_major": 2,
       "version_minor": 0
      },
      "image/png": "[encoded data removed]",
      "text/html": [
       "\n",
       "            <div style=\"display: inline-block;\">\n",
       "                <div class=\"jupyter-widgets widget-label\" style=\"text-align: center;\">\n",
       "                    Figure\n",
       "                </div>\n",
       "                <img src='data:image/png;base64,iVBORw0KGgoAAAANSUhEUgAAAAoAAAAKCAYAAACNMs+9AAAAOXRFWHRTb2Z0d2FyZQBNYXRwbG90bGliIHZlcnNpb24zLjguMCwgaHR0cHM6Ly9tYXRwbG90bGliLm9yZy81sbWrAAAACXBIWXMAAA9hAAAPYQGoP6dpAAAAXklEQVR4nMWQIQ7AIBAE5xr0IdDw/3eBhwAPuIoGUxB1Hbk3yWZPWmtWayWEgIjwxsyYcyKAbdcDLudMSolSCqq6CWMMYow47z0AqnoUF9eX2p9F13sHnnUnVv75jze3XSC+8nl5DgAAAABJRU5ErkJggg==' width=10.0/>\n",
       "            </div>\n",
       "        "
      ],
      "text/plain": [
       "Canvas(toolbar=Toolbar(toolitems=[('Home', 'Reset original view', 'home', 'home'), ('Back', 'Back to previous …"
      ]
     },
     "metadata": {},
     "output_type": "display_data"
    },
    {
     "data": {
      "application/vnd.jupyter.widget-view+json": {
       "model_id": "6955819ef55a4746bac7b809fec8e969",
       "version_major": 2,
       "version_minor": 0
      },
      "image/png": "[encoded data removed]",
      "text/html": [
       "\n",
       "            <div style=\"display: inline-block;\">\n",
       "                <div class=\"jupyter-widgets widget-label\" style=\"text-align: center;\">\n",
       "                    Figure\n",
       "                </div>\n",
       "                <img src='data:image/png;base64,iVBORw0KGgoAAAANSUhEUgAAAAoAAAAKCAYAAACNMs+9AAAAOXRFWHRTb2Z0d2FyZQBNYXRwbG90bGliIHZlcnNpb24zLjguMCwgaHR0cHM6Ly9tYXRwbG90bGliLm9yZy81sbWrAAAACXBIWXMAAA9hAAAPYQGoP6dpAAAAXklEQVR4nMWQIQ7AIBAE5xr0IdDw/3eBhwAPuIoGUxB1Hbk3yWZPWmtWayWEgIjwxsyYcyKAbdcDLudMSolSCqq6CWMMYow47z0AqnoUF9eX2p9F13sHnnUnVv75jze3XSC+8nl5DgAAAABJRU5ErkJggg==' width=10.0/>\n",
       "            </div>\n",
       "        "
      ],
      "text/plain": [
       "Canvas(toolbar=Toolbar(toolitems=[('Home', 'Reset original view', 'home', 'home'), ('Back', 'Back to previous …"
      ]
     },
     "metadata": {},
     "output_type": "display_data"
    },
    {
     "data": {
      "application/vnd.jupyter.widget-view+json": {
       "model_id": "1c3847cfc923469b986c8daab253069a",
       "version_major": 2,
       "version_minor": 0
      },
      "image/png": "[encoded data removed]",
      "text/html": [
       "\n",
       "            <div style=\"display: inline-block;\">\n",
       "                <div class=\"jupyter-widgets widget-label\" style=\"text-align: center;\">\n",
       "                    Figure\n",
       "                </div>\n",
       "                <img src='data:image/png;base64,iVBORw0KGgoAAAANSUhEUgAAAAoAAAAKCAYAAACNMs+9AAAAOXRFWHRTb2Z0d2FyZQBNYXRwbG90bGliIHZlcnNpb24zLjguMCwgaHR0cHM6Ly9tYXRwbG90bGliLm9yZy81sbWrAAAACXBIWXMAAA9hAAAPYQGoP6dpAAAAXklEQVR4nMWQIQ7AIBAE5xr0IdDw/3eBhwAPuIoGUxB1Hbk3yWZPWmtWayWEgIjwxsyYcyKAbdcDLudMSolSCqq6CWMMYow47z0AqnoUF9eX2p9F13sHnnUnVv75jze3XSC+8nl5DgAAAABJRU5ErkJggg==' width=10.0/>\n",
       "            </div>\n",
       "        "
      ],
      "text/plain": [
       "Canvas(toolbar=Toolbar(toolitems=[('Home', 'Reset original view', 'home', 'home'), ('Back', 'Back to previous …"
      ]
     },
     "metadata": {},
     "output_type": "display_data"
    },
    {
     "data": {
      "application/vnd.jupyter.widget-view+json": {
       "model_id": "fc8a650bb03b40329daab559a6728412",
       "version_major": 2,
       "version_minor": 0
      },
      "image/png": "[encoded data removed]",
      "text/html": [
       "\n",
       "            <div style=\"display: inline-block;\">\n",
       "                <div class=\"jupyter-widgets widget-label\" style=\"text-align: center;\">\n",
       "                    Figure\n",
       "                </div>\n",
       "                <img src='data:image/png;base64,iVBORw0KGgoAAAANSUhEUgAAAAoAAAAKCAYAAACNMs+9AAAAOXRFWHRTb2Z0d2FyZQBNYXRwbG90bGliIHZlcnNpb24zLjguMCwgaHR0cHM6Ly9tYXRwbG90bGliLm9yZy81sbWrAAAACXBIWXMAAA9hAAAPYQGoP6dpAAAAXklEQVR4nMWQIQ7AIBAE5xr0IdDw/3eBhwAPuIoGUxB1Hbk3yWZPWmtWayWEgIjwxsyYcyKAbdcDLudMSolSCqq6CWMMYow47z0AqnoUF9eX2p9F13sHnnUnVv75jze3XSC+8nl5DgAAAABJRU5ErkJggg==' width=10.0/>\n",
       "            </div>\n",
       "        "
      ],
      "text/plain": [
       "Canvas(toolbar=Toolbar(toolitems=[('Home', 'Reset original view', 'home', 'home'), ('Back', 'Back to previous …"
      ]
     },
     "metadata": {},
     "output_type": "display_data"
    },
    {
     "data": {
      "application/vnd.jupyter.widget-view+json": {
       "model_id": "60fde67e1fa24dc3a12fe8e47bd9d36c",
       "version_major": 2,
       "version_minor": 0
      },
      "image/png": "[encoded data removed]",
      "text/html": [
       "\n",
       "            <div style=\"display: inline-block;\">\n",
       "                <div class=\"jupyter-widgets widget-label\" style=\"text-align: center;\">\n",
       "                    Figure\n",
       "                </div>\n",
       "                <img src='data:image/png;base64,iVBORw0KGgoAAAANSUhEUgAAAAoAAAAKCAYAAACNMs+9AAAAOXRFWHRTb2Z0d2FyZQBNYXRwbG90bGliIHZlcnNpb24zLjguMCwgaHR0cHM6Ly9tYXRwbG90bGliLm9yZy81sbWrAAAACXBIWXMAAA9hAAAPYQGoP6dpAAAAXklEQVR4nMWQIQ7AIBAE5xr0IdDw/3eBhwAPuIoGUxB1Hbk3yWZPWmtWayWEgIjwxsyYcyKAbdcDLudMSolSCqq6CWMMYow47z0AqnoUF9eX2p9F13sHnnUnVv75jze3XSC+8nl5DgAAAABJRU5ErkJggg==' width=10.0/>\n",
       "            </div>\n",
       "        "
      ],
      "text/plain": [
       "Canvas(toolbar=Toolbar(toolitems=[('Home', 'Reset original view', 'home', 'home'), ('Back', 'Back to previous …"
      ]
     },
     "metadata": {},
     "output_type": "display_data"
    },
    {
     "data": {
      "application/vnd.jupyter.widget-view+json": {
       "model_id": "7ad2eaf8bd1d4f7fbc2372419c76f13e",
       "version_major": 2,
       "version_minor": 0
      },
      "image/png": "[encoded data removed]",
      "text/html": [
       "\n",
       "            <div style=\"display: inline-block;\">\n",
       "                <div class=\"jupyter-widgets widget-label\" style=\"text-align: center;\">\n",
       "                    Figure\n",
       "                </div>\n",
       "                <img src='data:image/png;base64,iVBORw0KGgoAAAANSUhEUgAAAAoAAAAKCAYAAACNMs+9AAAAOXRFWHRTb2Z0d2FyZQBNYXRwbG90bGliIHZlcnNpb24zLjguMCwgaHR0cHM6Ly9tYXRwbG90bGliLm9yZy81sbWrAAAACXBIWXMAAA9hAAAPYQGoP6dpAAAAXklEQVR4nMWQIQ7AIBAE5xr0IdDw/3eBhwAPuIoGUxB1Hbk3yWZPWmtWayWEgIjwxsyYcyKAbdcDLudMSolSCqq6CWMMYow47z0AqnoUF9eX2p9F13sHnnUnVv75jze3XSC+8nl5DgAAAABJRU5ErkJggg==' width=10.0/>\n",
       "            </div>\n",
       "        "
      ],
      "text/plain": [
       "Canvas(toolbar=Toolbar(toolitems=[('Home', 'Reset original view', 'home', 'home'), ('Back', 'Back to previous …"
      ]
     },
     "metadata": {},
     "output_type": "display_data"
    },
    {
     "data": {
      "application/vnd.jupyter.widget-view+json": {
       "model_id": "574f278cb4f44274bd3f13180a7b3eaf",
       "version_major": 2,
       "version_minor": 0
      },
      "image/png": "[encoded data removed]",
      "text/html": [
       "\n",
       "            <div style=\"display: inline-block;\">\n",
       "                <div class=\"jupyter-widgets widget-label\" style=\"text-align: center;\">\n",
       "                    Figure\n",
       "                </div>\n",
       "                <img src='data:image/png;base64,iVBORw0KGgoAAAANSUhEUgAAAAoAAAAKCAYAAACNMs+9AAAAOXRFWHRTb2Z0d2FyZQBNYXRwbG90bGliIHZlcnNpb24zLjguMCwgaHR0cHM6Ly9tYXRwbG90bGliLm9yZy81sbWrAAAACXBIWXMAAA9hAAAPYQGoP6dpAAAAXklEQVR4nMWQIQ7AIBAE5xr0IdDw/3eBhwAPuIoGUxB1Hbk3yWZPWmtWayWEgIjwxsyYcyKAbdcDLudMSolSCqq6CWMMYow47z0AqnoUF9eX2p9F13sHnnUnVv75jze3XSC+8nl5DgAAAABJRU5ErkJggg==' width=10.0/>\n",
       "            </div>\n",
       "        "
      ],
      "text/plain": [
       "Canvas(toolbar=Toolbar(toolitems=[('Home', 'Reset original view', 'home', 'home'), ('Back', 'Back to previous …"
      ]
     },
     "metadata": {},
     "output_type": "display_data"
    },
    {
     "data": {
      "application/vnd.jupyter.widget-view+json": {
       "model_id": "fb3bbc07b0794643b93aee5e3bf7673c",
       "version_major": 2,
       "version_minor": 0
      },
      "image/png": "[encoded data removed]",
      "text/html": [
       "\n",
       "            <div style=\"display: inline-block;\">\n",
       "                <div class=\"jupyter-widgets widget-label\" style=\"text-align: center;\">\n",
       "                    Figure\n",
       "                </div>\n",
       "                <img src='data:image/png;base64,iVBORw0KGgoAAAANSUhEUgAAAAoAAAAKCAYAAACNMs+9AAAAOXRFWHRTb2Z0d2FyZQBNYXRwbG90bGliIHZlcnNpb24zLjguMCwgaHR0cHM6Ly9tYXRwbG90bGliLm9yZy81sbWrAAAACXBIWXMAAA9hAAAPYQGoP6dpAAAAXklEQVR4nMWQIQ7AIBAE5xr0IdDw/3eBhwAPuIoGUxB1Hbk3yWZPWmtWayWEgIjwxsyYcyKAbdcDLudMSolSCqq6CWMMYow47z0AqnoUF9eX2p9F13sHnnUnVv75jze3XSC+8nl5DgAAAABJRU5ErkJggg==' width=10.0/>\n",
       "            </div>\n",
       "        "
      ],
      "text/plain": [
       "Canvas(toolbar=Toolbar(toolitems=[('Home', 'Reset original view', 'home', 'home'), ('Back', 'Back to previous …"
      ]
     },
     "metadata": {},
     "output_type": "display_data"
    },
    {
     "data": {
      "application/vnd.jupyter.widget-view+json": {
       "model_id": "e8f471c48b114501b07033c1542a80e6",
       "version_major": 2,
       "version_minor": 0
      },
      "image/png": "[encoded data removed]",
      "text/html": [
       "\n",
       "            <div style=\"display: inline-block;\">\n",
       "                <div class=\"jupyter-widgets widget-label\" style=\"text-align: center;\">\n",
       "                    Figure\n",
       "                </div>\n",
       "                <img src='data:image/png;base64,iVBORw0KGgoAAAANSUhEUgAAAAoAAAAKCAYAAACNMs+9AAAAOXRFWHRTb2Z0d2FyZQBNYXRwbG90bGliIHZlcnNpb24zLjguMCwgaHR0cHM6Ly9tYXRwbG90bGliLm9yZy81sbWrAAAACXBIWXMAAA9hAAAPYQGoP6dpAAAAXklEQVR4nMWQIQ7AIBAE5xr0IdDw/3eBhwAPuIoGUxB1Hbk3yWZPWmtWayWEgIjwxsyYcyKAbdcDLudMSolSCqq6CWMMYow47z0AqnoUF9eX2p9F13sHnnUnVv75jze3XSC+8nl5DgAAAABJRU5ErkJggg==' width=10.0/>\n",
       "            </div>\n",
       "        "
      ],
      "text/plain": [
       "Canvas(toolbar=Toolbar(toolitems=[('Home', 'Reset original view', 'home', 'home'), ('Back', 'Back to previous …"
      ]
     },
     "metadata": {},
     "output_type": "display_data"
    },
    {
     "data": {
      "application/vnd.jupyter.widget-view+json": {
       "model_id": "97db2e7f7bc441fca063e91ce23755ca",
       "version_major": 2,
       "version_minor": 0
      },
      "image/png": "[encoded data removed]",
      "text/html": [
       "\n",
       "            <div style=\"display: inline-block;\">\n",
       "                <div class=\"jupyter-widgets widget-label\" style=\"text-align: center;\">\n",
       "                    Figure\n",
       "                </div>\n",
       "                <img src='data:image/png;base64,iVBORw0KGgoAAAANSUhEUgAAAAoAAAAKCAYAAACNMs+9AAAAOXRFWHRTb2Z0d2FyZQBNYXRwbG90bGliIHZlcnNpb24zLjguMCwgaHR0cHM6Ly9tYXRwbG90bGliLm9yZy81sbWrAAAACXBIWXMAAA9hAAAPYQGoP6dpAAAAXklEQVR4nMWQIQ7AIBAE5xr0IdDw/3eBhwAPuIoGUxB1Hbk3yWZPWmtWayWEgIjwxsyYcyKAbdcDLudMSolSCqq6CWMMYow47z0AqnoUF9eX2p9F13sHnnUnVv75jze3XSC+8nl5DgAAAABJRU5ErkJggg==' width=10.0/>\n",
       "            </div>\n",
       "        "
      ],
      "text/plain": [
       "Canvas(toolbar=Toolbar(toolitems=[('Home', 'Reset original view', 'home', 'home'), ('Back', 'Back to previous …"
      ]
     },
     "metadata": {},
     "output_type": "display_data"
    },
    {
     "data": {
      "application/vnd.jupyter.widget-view+json": {
       "model_id": "0da212284c774245933b043a7e2c2124",
       "version_major": 2,
       "version_minor": 0
      },
      "image/png": "[encoded data removed]",
      "text/html": [
       "\n",
       "            <div style=\"display: inline-block;\">\n",
       "                <div class=\"jupyter-widgets widget-label\" style=\"text-align: center;\">\n",
       "                    Figure\n",
       "                </div>\n",
       "                <img src='data:image/png;base64,iVBORw0KGgoAAAANSUhEUgAAAAoAAAAKCAYAAACNMs+9AAAAOXRFWHRTb2Z0d2FyZQBNYXRwbG90bGliIHZlcnNpb24zLjguMCwgaHR0cHM6Ly9tYXRwbG90bGliLm9yZy81sbWrAAAACXBIWXMAAA9hAAAPYQGoP6dpAAAAXklEQVR4nMWQIQ7AIBAE5xr0IdDw/3eBhwAPuIoGUxB1Hbk3yWZPWmtWayWEgIjwxsyYcyKAbdcDLudMSolSCqq6CWMMYow47z0AqnoUF9eX2p9F13sHnnUnVv75jze3XSC+8nl5DgAAAABJRU5ErkJggg==' width=10.0/>\n",
       "            </div>\n",
       "        "
      ],
      "text/plain": [
       "Canvas(toolbar=Toolbar(toolitems=[('Home', 'Reset original view', 'home', 'home'), ('Back', 'Back to previous …"
      ]
     },
     "metadata": {},
     "output_type": "display_data"
    },
    {
     "data": {
      "application/vnd.jupyter.widget-view+json": {
       "model_id": "b7dfc38151974382bc0061dcc8aace5c",
       "version_major": 2,
       "version_minor": 0
      },
      "image/png": "[encoded data removed]",
      "text/html": [
       "\n",
       "            <div style=\"display: inline-block;\">\n",
       "                <div class=\"jupyter-widgets widget-label\" style=\"text-align: center;\">\n",
       "                    Figure\n",
       "                </div>\n",
       "                <img src='data:image/png;base64,iVBORw0KGgoAAAANSUhEUgAAAAoAAAAKCAYAAACNMs+9AAAAOXRFWHRTb2Z0d2FyZQBNYXRwbG90bGliIHZlcnNpb24zLjguMCwgaHR0cHM6Ly9tYXRwbG90bGliLm9yZy81sbWrAAAACXBIWXMAAA9hAAAPYQGoP6dpAAAAXklEQVR4nMWQIQ7AIBAE5xr0IdDw/3eBhwAPuIoGUxB1Hbk3yWZPWmtWayWEgIjwxsyYcyKAbdcDLudMSolSCqq6CWMMYow47z0AqnoUF9eX2p9F13sHnnUnVv75jze3XSC+8nl5DgAAAABJRU5ErkJggg==' width=10.0/>\n",
       "            </div>\n",
       "        "
      ],
      "text/plain": [
       "Canvas(toolbar=Toolbar(toolitems=[('Home', 'Reset original view', 'home', 'home'), ('Back', 'Back to previous …"
      ]
     },
     "metadata": {},
     "output_type": "display_data"
    },
    {
     "data": {
      "application/vnd.jupyter.widget-view+json": {
       "model_id": "8127816bec924f62a230ed5a48e5ab1f",
       "version_major": 2,
       "version_minor": 0
      },
      "image/png": "[encoded data removed]",
      "text/html": [
       "\n",
       "            <div style=\"display: inline-block;\">\n",
       "                <div class=\"jupyter-widgets widget-label\" style=\"text-align: center;\">\n",
       "                    Figure\n",
       "                </div>\n",
       "                <img src='data:image/png;base64,iVBORw0KGgoAAAANSUhEUgAAAAoAAAAKCAYAAACNMs+9AAAAOXRFWHRTb2Z0d2FyZQBNYXRwbG90bGliIHZlcnNpb24zLjguMCwgaHR0cHM6Ly9tYXRwbG90bGliLm9yZy81sbWrAAAACXBIWXMAAA9hAAAPYQGoP6dpAAAAXklEQVR4nMWQIQ7AIBAE5xr0IdDw/3eBhwAPuIoGUxB1Hbk3yWZPWmtWayWEgIjwxsyYcyKAbdcDLudMSolSCqq6CWMMYow47z0AqnoUF9eX2p9F13sHnnUnVv75jze3XSC+8nl5DgAAAABJRU5ErkJggg==' width=10.0/>\n",
       "            </div>\n",
       "        "
      ],
      "text/plain": [
       "Canvas(toolbar=Toolbar(toolitems=[('Home', 'Reset original view', 'home', 'home'), ('Back', 'Back to previous …"
      ]
     },
     "metadata": {},
     "output_type": "display_data"
    }
   ],
   "source": [
    "%matplotlib widget\n",
    "import matplotlib.pyplot as plt\n",
    "import japanize_matplotlib\n",
    "\n",
    "for i in range(21):\n",
    "    plt.subplots(figsize=[0.1, 0.1])"
   ]
  },
  {
   "cell_type": "code",
   "execution_count": 2,
   "metadata": {},
   "outputs": [
    {
     "data": {
      "application/vnd.jupyter.widget-view+json": {
       "model_id": "b0f92b1de04e4691acbf15b3cce2921c",
       "version_major": 2,
       "version_minor": 0
      },
      "text/plain": [
       "Button(description='Click me', style=ButtonStyle())"
      ]
     },
     "metadata": {},
     "output_type": "display_data"
    },
    {
     "name": "stdout",
     "output_type": "stream",
     "text": [
      "ボタンがおされたよ！\n",
      "ボタンがおされたよ！\n",
      "ボタンがおされたよ！\n"
     ]
    }
   ],
   "source": [
    "import ipywidgets as widgets\n",
    "\n",
    "button = widgets.Button(description=\"Click me\")\n",
    "display(button)"
   ]
  },
  {
   "cell_type": "code",
   "execution_count": 3,
   "metadata": {},
   "outputs": [],
   "source": [
    "def on_button_clicked(b):\n",
    "    print(\"ボタンがおされたよ！\")\n",
    "\n",
    "button.on_click(on_button_clicked)"
   ]
  },
  {
   "cell_type": "code",
   "execution_count": 4,
   "metadata": {},
   "outputs": [],
   "source": [
    "from marubatsu import Marubatsu\n",
    "import math\n",
    "\n",
    "def play(self, ai, params=[{}, {}], verbose=True, seed=None, gui=False, size=3):\n",
    "    # seed が None でない場合は、seed を乱数の種として設定する\n",
    "    if seed is not None:\n",
    "        random.seed(seed)\n",
    "    \n",
    "    # 〇×ゲームを再起動する\n",
    "    self.restart()\n",
    "   \n",
    "    # gui が True の場合に、ゲーム盤を描画する画像を作成し、イベントハンドラに結びつける\n",
    "    if gui:\n",
    "        # リセットボタンを配置する\n",
    "        button = widgets.Button(description=\"リセット\")\n",
    "        display(button)\n",
    "        \n",
    "        # リセットボタンのイベントハンドラを定義する\n",
    "        def on_button_clicked(b):\n",
    "            print(\"ボタンがおされたよ！\")    \n",
    "            \n",
    "        # イベントハンドラをリセットボタンに結びつける\n",
    "        button.on_click(on_button_clicked)\n",
    "\n",
    "        fig, ax = plt.subplots(figsize=[size, size])\n",
    "        fig.canvas.toolbar_visible = False\n",
    "        fig.canvas.header_visible = False\n",
    "        fig.canvas.footer_visible = False\n",
    "        fig.canvas.resizable = False          \n",
    "        \n",
    "        # ローカル関数としてイベントハンドラを定義する\n",
    "        def on_mouse_down(event):\n",
    "            # Axes の上でマウスを押していた場合で、ゲーム中の場合のみ処理を行う\n",
    "            if event.inaxes and self.status == Marubatsu.PLAYING:\n",
    "                x = math.floor(event.xdata)\n",
    "                y = math.floor(event.ydata)\n",
    "                self.move(x, y)                \n",
    "                self.draw_board(ax)\n",
    "        \n",
    "        # fig の画像にマウスを押した際のイベントハンドラを結び付ける\n",
    "        fig.canvas.mpl_connect(\"button_press_event\", on_mouse_down)     \n",
    "            \n",
    "\n",
    "    # ゲームの決着がついていない間繰り返す\n",
    "    while self.status == Marubatsu.PLAYING:\n",
    "        # 現在の手番を表す ai のインデックスを計算する\n",
    "        index = 0 if self.turn == Marubatsu.CIRCLE else 1\n",
    "        # ゲーム盤の表示\n",
    "        if verbose:\n",
    "            if gui:\n",
    "                # AI どうしの対戦の場合は画面を描画しない\n",
    "                if ai[0] is None or ai[1] is None:\n",
    "                    self.draw_board(ax)\n",
    "                # 手番を人間が担当する場合は、play メソッドを終了する\n",
    "                if ai[index] is None:\n",
    "                    return\n",
    "            else:\n",
    "                print(self)\n",
    "        # ai が着手を行うかどうかを判定する\n",
    "        if ai[index] is not None:\n",
    "            x, y = ai[index](self, **params[index])\n",
    "        else:\n",
    "            # キーボードからの座標の入力\n",
    "            coord = input(\"x,y の形式で座標を入力して下さい。exit を入力すると終了します\")\n",
    "            # \"exit\" が入力されていればメッセージを表示して関数を終了する\n",
    "            if coord == \"exit\":\n",
    "                print(\"ゲームを終了します\")\n",
    "                return       \n",
    "            # x 座標と y 座標を要素として持つ list を計算する\n",
    "            xylist = coord.split(\",\")\n",
    "            # xylist の要素の数が 2 ではない場合\n",
    "            if len(xylist) != 2:\n",
    "                # エラーメッセージを表示する\n",
    "                print(\"x, y の形式ではありません\")\n",
    "                # 残りの while 文のブロックを実行せずに、次の繰り返し処理を行う\n",
    "                continue\n",
    "            x, y = xylist\n",
    "        # (x, y) に着手を行う\n",
    "        try:\n",
    "            self.move(int(x), int(y))\n",
    "        except:\n",
    "            print(\"整数の座標を入力して下さい\")\n",
    "\n",
    "    # 決着がついたので、ゲーム盤を表示する\n",
    "    if verbose:\n",
    "        if gui:\n",
    "            self.draw_board(ax)\n",
    "        else:\n",
    "            print(self)\n",
    "            \n",
    "    return self.status       \n",
    "\n",
    "Marubatsu.play = play"
   ]
  },
  {
   "cell_type": "code",
   "execution_count": 5,
   "metadata": {},
   "outputs": [
    {
     "data": {
      "application/vnd.jupyter.widget-view+json": {
       "model_id": "ee31bf72cec44dc2a754676646fbfde2",
       "version_major": 2,
       "version_minor": 0
      },
      "text/plain": [
       "Button(description='リセット', style=ButtonStyle())"
      ]
     },
     "metadata": {},
     "output_type": "display_data"
    },
    {
     "data": {
      "application/vnd.jupyter.widget-view+json": {
       "model_id": "1d025e6a442a4d528a58eb19932f0544",
       "version_major": 2,
       "version_minor": 0
      },
      "image/png": "[encoded data removed]",
      "text/html": [
       "\n",
       "            <div style=\"display: inline-block;\">\n",
       "                <div class=\"jupyter-widgets widget-label\" style=\"text-align: center;\">\n",
       "                    Figure\n",
       "                </div>\n",
       "                <img src='data:image/png;base64,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' width=300.0/>\n",
       "            </div>\n",
       "        "
      ],
      "text/plain": [
       "Canvas(footer_visible=False, header_visible=False, resizable=False, toolbar=Toolbar(toolitems=[('Home', 'Reset…"
      ]
     },
     "metadata": {},
     "output_type": "display_data"
    },
    {
     "name": "stdout",
     "output_type": "stream",
     "text": [
      "ボタンがおされたよ！\n",
      "ボタンがおされたよ！\n"
     ]
    }
   ],
   "source": [
    "mb = Marubatsu()\n",
    "mb.play(ai=[None, None], gui=True)"
   ]
  },
  {
   "cell_type": "code",
   "execution_count": 6,
   "metadata": {},
   "outputs": [],
   "source": [
    "def play(self, ai, params=[{}, {}], verbose=True, seed=None, gui=False, size=3):\n",
    "    # seed が None でない場合は、seed を乱数の種として設定する\n",
    "    if seed is not None:\n",
    "        random.seed(seed)\n",
    "    \n",
    "    # 〇×ゲームを再起動する\n",
    "    self.restart()\n",
    "    \n",
    "    # リセットボタンを配置する\n",
    "    button = widgets.Button(description=\"リセット\")\n",
    "    display(button)\n",
    "    \n",
    "    # リセットボタンのイベントハンドラを定義する\n",
    "    def on_button_clicked(b):\n",
    "        self.restart()     \n",
    "        \n",
    "    # イベントハンドラをリセットボタンに結びつける\n",
    "    button.on_click(on_button_clicked)\n",
    "\n",
    "    # gui が True の場合に、ゲーム盤を描画する画像を作成し、イベントハンドラに結びつける\n",
    "    if gui:\n",
    "        fig, ax = plt.subplots(figsize=[size, size])\n",
    "        fig.canvas.toolbar_visible = False\n",
    "        fig.canvas.header_visible = False\n",
    "        fig.canvas.footer_visible = False\n",
    "        fig.canvas.resizable = False          \n",
    "        \n",
    "        # ローカル関数としてイベントハンドラを定義する\n",
    "        def on_mouse_down(event):\n",
    "            # Axes の上でマウスを押していた場合のみ処理を行う\n",
    "            if event.inaxes and self.status == Marubatsu.PLAYING:\n",
    "                x = math.floor(event.xdata)\n",
    "                y = math.floor(event.ydata)\n",
    "                self.move(x, y)                \n",
    "                self.draw_board(ax)\n",
    "\n",
    "                # 現在の手番を表す ai のインデックスを計算する\n",
    "                index = 0 if self.turn == Marubatsu.CIRCLE else 1\n",
    "                # ゲームの決着がついていない場合に、ai が着手を行うかどうかを判定する\n",
    "                if self.status == Marubatsu.PLAYING and ai[index] is not None:                \n",
    "                    x, y = ai[index](self, **params[index])\n",
    "                    self.move(x, y) \n",
    "                    self.draw_board(ax)\n",
    "                   \n",
    "        # fig の画像にマウスを押した際のイベントハンドラを結び付ける\n",
    "        fig.canvas.mpl_connect(\"button_press_event\", on_mouse_down)     \n",
    "\n",
    "    # ゲームの決着がついていない間繰り返す\n",
    "    while self.status == Marubatsu.PLAYING:\n",
    "        # 現在の手番を表す ai のインデックスを計算する\n",
    "        index = 0 if self.turn == Marubatsu.CIRCLE else 1\n",
    "        # ゲーム盤の表示\n",
    "        if verbose:\n",
    "            if gui:\n",
    "                # AI どうしの対戦の場合は画面を描画しない\n",
    "                if ai[0] is None or ai[1] is None:\n",
    "                    self.draw_board(ax)\n",
    "                # 手番を人間が担当する場合は、play メソッドを終了する\n",
    "                if ai[index] is None:\n",
    "                    return\n",
    "            else:\n",
    "                print(self)\n",
    "                \n",
    "        # ai が着手を行うかどうかを判定する\n",
    "        if ai[index] is not None:\n",
    "            x, y = ai[index](self, **params[index])\n",
    "        else:\n",
    "            # キーボードからの座標の入力\n",
    "            coord = input(\"x,y の形式で座標を入力して下さい。exit を入力すると終了します\")\n",
    "            # \"exit\" が入力されていればメッセージを表示して関数を終了する\n",
    "            if coord == \"exit\":\n",
    "                print(\"ゲームを終了します\")\n",
    "                return       \n",
    "            # x 座標と y 座標を要素として持つ list を計算する\n",
    "            xylist = coord.split(\",\")\n",
    "            # xylist の要素の数が 2 ではない場合\n",
    "            if len(xylist) != 2:\n",
    "                # エラーメッセージを表示する\n",
    "                print(\"x, y の形式ではありません\")\n",
    "                # 残りの while 文のブロックを実行せずに、次の繰り返し処理を行う\n",
    "                continue\n",
    "            x, y = xylist\n",
    "        # (x, y) に着手を行う\n",
    "        try:\n",
    "            self.move(int(x), int(y))\n",
    "        except:\n",
    "            print(\"整数の座標を入力して下さい\")\n",
    "\n",
    "    # 決着がついたので、ゲーム盤を表示する\n",
    "    if verbose:\n",
    "        if gui:\n",
    "            self.draw_board(ax)\n",
    "        else:\n",
    "            print(self)\n",
    "            \n",
    "    return self.status\n",
    "    \n",
    "Marubatsu.play = play"
   ]
  },
  {
   "cell_type": "code",
   "execution_count": 7,
   "metadata": {},
   "outputs": [
    {
     "data": {
      "application/vnd.jupyter.widget-view+json": {
       "model_id": "66d3336861c04df283196ca92327c645",
       "version_major": 2,
       "version_minor": 0
      },
      "text/plain": [
       "Button(description='リセット', style=ButtonStyle())"
      ]
     },
     "metadata": {},
     "output_type": "display_data"
    },
    {
     "data": {
      "application/vnd.jupyter.widget-view+json": {
       "model_id": "ec5f21076f0e4b3c98d0503921aad197",
       "version_major": 2,
       "version_minor": 0
      },
      "image/png": "[encoded data removed]",
      "text/html": [
       "\n",
       "            <div style=\"display: inline-block;\">\n",
       "                <div class=\"jupyter-widgets widget-label\" style=\"text-align: center;\">\n",
       "                    Figure\n",
       "                </div>\n",
       "                <img src='data:image/png;base64,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' width=300.0/>\n",
       "            </div>\n",
       "        "
      ],
      "text/plain": [
       "Canvas(footer_visible=False, header_visible=False, resizable=False, toolbar=Toolbar(toolitems=[('Home', 'Reset…"
      ]
     },
     "metadata": {},
     "output_type": "display_data"
    }
   ],
   "source": [
    "mb.play(ai=[None, None], gui=True)"
   ]
  },
  {
   "cell_type": "code",
   "execution_count": 8,
   "metadata": {},
   "outputs": [],
   "source": [
    "def play(self, ai, params=[{}, {}], verbose=True, seed=None, gui=False, size=3):\n",
    "    # seed が None でない場合は、seed を乱数の種として設定する\n",
    "    if seed is not None:\n",
    "        random.seed(seed)\n",
    "    \n",
    "    # 〇×ゲームを再起動する\n",
    "    self.restart()\n",
    "    \n",
    "    # リセットボタンを配置する\n",
    "    button = widgets.Button(description=\"リセット\")\n",
    "    display(button)\n",
    "    \n",
    "    # リセットボタンのイベントハンドラを定義する\n",
    "    def on_button_clicked(b):\n",
    "        self.restart()       \n",
    "        self.draw_board(ax)       \n",
    "         \n",
    "    # イベントハンドラをリセットボタンに結びつける\n",
    "    button.on_click(on_button_clicked)\n",
    "\n",
    "    # gui が True の場合に、ゲーム盤を描画する画像を作成し、イベントハンドラに結びつける\n",
    "    if gui:\n",
    "        fig, ax = plt.subplots(figsize=[size, size])\n",
    "        fig.canvas.toolbar_visible = False\n",
    "        fig.canvas.header_visible = False\n",
    "        fig.canvas.footer_visible = False\n",
    "        fig.canvas.resizable = False          \n",
    "        \n",
    "        # ローカル関数としてイベントハンドラを定義する\n",
    "        def on_mouse_down(event):\n",
    "            # Axes の上でマウスを押していた場合のみ処理を行う\n",
    "            if event.inaxes and self.status == Marubatsu.PLAYING:\n",
    "                x = math.floor(event.xdata)\n",
    "                y = math.floor(event.ydata)\n",
    "                self.move(x, y)                \n",
    "                self.draw_board(ax)\n",
    "\n",
    "                # 現在の手番を表す ai のインデックスを計算する\n",
    "                index = 0 if self.turn == Marubatsu.CIRCLE else 1\n",
    "                # ゲームの決着がついていない場合に、ai が着手を行うかどうかを判定する\n",
    "                if self.status == Marubatsu.PLAYING and ai[index] is not None:                \n",
    "                    x, y = ai[index](self, **params[index])\n",
    "                    self.move(x, y) \n",
    "                    self.draw_board(ax)\n",
    "                   \n",
    "        # fig の画像にマウスを押した際のイベントハンドラを結び付ける\n",
    "        fig.canvas.mpl_connect(\"button_press_event\", on_mouse_down)     \n",
    "\n",
    "    # ゲームの決着がついていない間繰り返す\n",
    "    while self.status == Marubatsu.PLAYING:\n",
    "        # 現在の手番を表す ai のインデックスを計算する\n",
    "        index = 0 if self.turn == Marubatsu.CIRCLE else 1\n",
    "        # ゲーム盤の表示\n",
    "        if verbose:\n",
    "            if gui:\n",
    "                # AI どうしの対戦の場合は画面を描画しない\n",
    "                if ai[0] is None or ai[1] is None:\n",
    "                    self.draw_board(ax)\n",
    "                # 手番を人間が担当する場合は、play メソッドを終了する\n",
    "                if ai[index] is None:\n",
    "                    return\n",
    "            else:\n",
    "                print(self)\n",
    "                \n",
    "        # ai が着手を行うかどうかを判定する\n",
    "        if ai[index] is not None:\n",
    "            x, y = ai[index](self, **params[index])\n",
    "        else:\n",
    "            # キーボードからの座標の入力\n",
    "            coord = input(\"x,y の形式で座標を入力して下さい。exit を入力すると終了します\")\n",
    "            # \"exit\" が入力されていればメッセージを表示して関数を終了する\n",
    "            if coord == \"exit\":\n",
    "                print(\"ゲームを終了します\")\n",
    "                return       \n",
    "            # x 座標と y 座標を要素として持つ list を計算する\n",
    "            xylist = coord.split(\",\")\n",
    "            # xylist の要素の数が 2 ではない場合\n",
    "            if len(xylist) != 2:\n",
    "                # エラーメッセージを表示する\n",
    "                print(\"x, y の形式ではありません\")\n",
    "                # 残りの while 文のブロックを実行せずに、次の繰り返し処理を行う\n",
    "                continue\n",
    "            x, y = xylist\n",
    "        # (x, y) に着手を行う\n",
    "        try:\n",
    "            self.move(int(x), int(y))\n",
    "        except:\n",
    "            print(\"整数の座標を入力して下さい\")\n",
    "\n",
    "    # 決着がついたので、ゲーム盤を表示する\n",
    "    if verbose:\n",
    "        if gui:\n",
    "            self.draw_board(ax)\n",
    "        else:\n",
    "            print(self)\n",
    "            \n",
    "    return self.status\n",
    "    \n",
    "Marubatsu.play = play"
   ]
  },
  {
   "cell_type": "code",
   "execution_count": 9,
   "metadata": {},
   "outputs": [
    {
     "data": {
      "application/vnd.jupyter.widget-view+json": {
       "model_id": "fc6eb5db8e8f4ae3b51498c06b6f6712",
       "version_major": 2,
       "version_minor": 0
      },
      "text/plain": [
       "Button(description='リセット', style=ButtonStyle())"
      ]
     },
     "metadata": {},
     "output_type": "display_data"
    },
    {
     "data": {
      "application/vnd.jupyter.widget-view+json": {
       "model_id": "7d42860f823b40bdae6331ab97096ea2",
       "version_major": 2,
       "version_minor": 0
      },
      "image/png": "[encoded data removed]",
      "text/html": [
       "\n",
       "            <div style=\"display: inline-block;\">\n",
       "                <div class=\"jupyter-widgets widget-label\" style=\"text-align: center;\">\n",
       "                    Figure\n",
       "                </div>\n",
       "                <img src='data:image/png;base64,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' width=300.0/>\n",
       "            </div>\n",
       "        "
      ],
      "text/plain": [
       "Canvas(footer_visible=False, header_visible=False, resizable=False, toolbar=Toolbar(toolitems=[('Home', 'Reset…"
      ]
     },
     "metadata": {},
     "output_type": "display_data"
    }
   ],
   "source": [
    "mb.play(ai=[None, None], gui=True)"
   ]
  },
  {
   "cell_type": "code",
   "execution_count": 10,
   "metadata": {},
   "outputs": [
    {
     "data": {
      "application/vnd.jupyter.widget-view+json": {
       "model_id": "19b7664666c04a9f8624b85f5232d173",
       "version_major": 2,
       "version_minor": 0
      },
      "text/plain": [
       "Button(description='リセット', style=ButtonStyle())"
      ]
     },
     "metadata": {},
     "output_type": "display_data"
    },
    {
     "data": {
      "text/plain": [
       "'x'"
      ]
     },
     "execution_count": 10,
     "metadata": {},
     "output_type": "execute_result"
    },
    {
     "data": {
      "application/vnd.jupyter.widget-view+json": {
       "model_id": "7c5e30837c9c46ec82edef18ec26a146",
       "version_major": 2,
       "version_minor": 0
      },
      "image/png": "[encoded data removed]",
      "text/html": [
       "\n",
       "            <div style=\"display: inline-block;\">\n",
       "                <div class=\"jupyter-widgets widget-label\" style=\"text-align: center;\">\n",
       "                    Figure\n",
       "                </div>\n",
       "                <img src='data:image/png;base64,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' width=300.0/>\n",
       "            </div>\n",
       "        "
      ],
      "text/plain": [
       "Canvas(footer_visible=False, header_visible=False, resizable=False, toolbar=Toolbar(toolitems=[('Home', 'Reset…"
      ]
     },
     "metadata": {},
     "output_type": "display_data"
    }
   ],
   "source": [
    "from ai import ai2\n",
    "\n",
    "mb.play(ai=[ai2, ai2], gui=True)"
   ]
  },
  {
   "cell_type": "code",
   "execution_count": 11,
   "metadata": {},
   "outputs": [
    {
     "data": {
      "application/vnd.jupyter.widget-view+json": {
       "model_id": "2ba9c657b5d449c688fc4aaaa94886ab",
       "version_major": 2,
       "version_minor": 0
      },
      "text/plain": [
       "Button(description='リセット', style=ButtonStyle())"
      ]
     },
     "metadata": {},
     "output_type": "display_data"
    },
    {
     "data": {
      "application/vnd.jupyter.widget-view+json": {
       "model_id": "9b68168ff6284b67b584e954cf680368",
       "version_major": 2,
       "version_minor": 0
      },
      "image/png": "[encoded data removed]",
      "text/html": [
       "\n",
       "            <div style=\"display: inline-block;\">\n",
       "                <div class=\"jupyter-widgets widget-label\" style=\"text-align: center;\">\n",
       "                    Figure\n",
       "                </div>\n",
       "                <img src='data:image/png;base64,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' width=300.0/>\n",
       "            </div>\n",
       "        "
      ],
      "text/plain": [
       "Canvas(footer_visible=False, header_visible=False, resizable=False, toolbar=Toolbar(toolitems=[('Home', 'Reset…"
      ]
     },
     "metadata": {},
     "output_type": "display_data"
    }
   ],
   "source": [
    "mb.play(ai=[ai2, ai2], gui=True);"
   ]
  },
  {
   "cell_type": "code",
   "execution_count": 12,
   "metadata": {},
   "outputs": [],
   "source": [
    "def play(self, ai, params=[{}, {}], verbose=True, seed=None, gui=False, size=3):\n",
    "    # seed が None でない場合は、seed を乱数の種として設定する\n",
    "    if seed is not None:\n",
    "        random.seed(seed)\n",
    "    \n",
    "    # 〇×ゲームを再起動する\n",
    "    self.restart()\n",
    "    \n",
    "    # リセットボタンを配置する\n",
    "    button = widgets.Button(description=\"リセット\")\n",
    "    display(button)\n",
    "    \n",
    "    # リセットボタンのイベントハンドラを定義する\n",
    "    def on_button_clicked(b):\n",
    "        self.restart()       \n",
    "        self.draw_board(ax)  \n",
    "        \n",
    "        # 現在の手番を表す ai のインデックスを計算する\n",
    "        index = 0 if self.turn == Marubatsu.CIRCLE else 1\n",
    "        # ゲームの決着がついていない場合に、ai が着手を行うかどうかを判定する\n",
    "        if self.status == Marubatsu.PLAYING and ai[index] is not None:                \n",
    "            x, y = ai[index](self, **params[index])\n",
    "            self.move(x, y) \n",
    "            self.draw_board(ax)                               \n",
    "         \n",
    "    # イベントハンドラをリセットボタンに結びつける\n",
    "    button.on_click(on_button_clicked)\n",
    "\n",
    "    # gui が True の場合に、ゲーム盤を描画する画像を作成し、イベントハンドラに結びつける\n",
    "    if gui:\n",
    "        fig, ax = plt.subplots(figsize=[size, size])\n",
    "        fig.canvas.toolbar_visible = False\n",
    "        fig.canvas.header_visible = False\n",
    "        fig.canvas.footer_visible = False\n",
    "        fig.canvas.resizable = False          \n",
    "        \n",
    "        # ローカル関数としてイベントハンドラを定義する\n",
    "        def on_mouse_down(event):\n",
    "            # Axes の上でマウスを押していた場合のみ処理を行う\n",
    "            if event.inaxes and self.status == Marubatsu.PLAYING:\n",
    "                x = math.floor(event.xdata)\n",
    "                y = math.floor(event.ydata)\n",
    "                self.move(x, y)                \n",
    "                self.draw_board(ax)\n",
    "\n",
    "                # 現在の手番を表す ai のインデックスを計算する\n",
    "                index = 0 if self.turn == Marubatsu.CIRCLE else 1\n",
    "                # ゲームの決着がついていない場合に、ai が着手を行うかどうかを判定する\n",
    "                if self.status == Marubatsu.PLAYING and ai[index] is not None:                \n",
    "                    x, y = ai[index](self, **params[index])\n",
    "                    self.move(x, y) \n",
    "                    self.draw_board(ax)\n",
    "                   \n",
    "        # fig の画像にマウスを押した際のイベントハンドラを結び付ける\n",
    "        fig.canvas.mpl_connect(\"button_press_event\", on_mouse_down)     \n",
    "\n",
    "    # ゲームの決着がついていない間繰り返す\n",
    "    while self.status == Marubatsu.PLAYING:\n",
    "        # 現在の手番を表す ai のインデックスを計算する\n",
    "        index = 0 if self.turn == Marubatsu.CIRCLE else 1\n",
    "        # ゲーム盤の表示\n",
    "        if verbose:\n",
    "            if gui:\n",
    "                # AI どうしの対戦の場合は画面を描画しない\n",
    "                if ai[0] is None or ai[1] is None:\n",
    "                    self.draw_board(ax)\n",
    "                # 手番を人間が担当する場合は、play メソッドを終了する\n",
    "                if ai[index] is None:\n",
    "                    return\n",
    "            else:\n",
    "                print(self)\n",
    "                \n",
    "        # ai が着手を行うかどうかを判定する\n",
    "        if ai[index] is not None:\n",
    "            x, y = ai[index](self, **params[index])\n",
    "        else:\n",
    "            # キーボードからの座標の入力\n",
    "            coord = input(\"x,y の形式で座標を入力して下さい。exit を入力すると終了します\")\n",
    "            # \"exit\" が入力されていればメッセージを表示して関数を終了する\n",
    "            if coord == \"exit\":\n",
    "                print(\"ゲームを終了します\")\n",
    "                return       \n",
    "            # x 座標と y 座標を要素として持つ list を計算する\n",
    "            xylist = coord.split(\",\")\n",
    "            # xylist の要素の数が 2 ではない場合\n",
    "            if len(xylist) != 2:\n",
    "                # エラーメッセージを表示する\n",
    "                print(\"x, y の形式ではありません\")\n",
    "                # 残りの while 文のブロックを実行せずに、次の繰り返し処理を行う\n",
    "                continue\n",
    "            x, y = xylist\n",
    "        # (x, y) に着手を行う\n",
    "        try:\n",
    "            self.move(int(x), int(y))\n",
    "        except:\n",
    "            print(\"整数の座標を入力して下さい\")\n",
    "\n",
    "    # 決着がついたので、ゲーム盤を表示する\n",
    "    if verbose:\n",
    "        if gui:\n",
    "            self.draw_board(ax)\n",
    "        else:\n",
    "            print(self)\n",
    "            \n",
    "    return self.status\n",
    "    \n",
    "Marubatsu.play = play"
   ]
  },
  {
   "cell_type": "code",
   "execution_count": 13,
   "metadata": {},
   "outputs": [
    {
     "data": {
      "application/vnd.jupyter.widget-view+json": {
       "model_id": "788c891b44d9464ba5c5bf0a52628fa5",
       "version_major": 2,
       "version_minor": 0
      },
      "text/plain": [
       "Button(description='リセット', style=ButtonStyle())"
      ]
     },
     "metadata": {},
     "output_type": "display_data"
    },
    {
     "data": {
      "application/vnd.jupyter.widget-view+json": {
       "model_id": "9db50651fe4f4b0e9b024517ac83cd62",
       "version_major": 2,
       "version_minor": 0
      },
      "image/png": "[encoded data removed]",
      "text/html": [
       "\n",
       "            <div style=\"display: inline-block;\">\n",
       "                <div class=\"jupyter-widgets widget-label\" style=\"text-align: center;\">\n",
       "                    Figure\n",
       "                </div>\n",
       "                <img src='data:image/png;base64,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' width=300.0/>\n",
       "            </div>\n",
       "        "
      ],
      "text/plain": [
       "Canvas(footer_visible=False, header_visible=False, resizable=False, toolbar=Toolbar(toolitems=[('Home', 'Reset…"
      ]
     },
     "metadata": {},
     "output_type": "display_data"
    }
   ],
   "source": [
    "mb.play(ai=[ai2, ai2], gui=True);"
   ]
  },
  {
   "cell_type": "code",
   "execution_count": 14,
   "metadata": {},
   "outputs": [],
   "source": [
    "def play(self, ai, params=[{}, {}], verbose=True, seed=None, gui=False, size=3):\n",
    "    # seed が None でない場合は、seed を乱数の種として設定する\n",
    "    if seed is not None:\n",
    "        random.seed(seed)\n",
    "    \n",
    "    # 〇×ゲームを再起動する\n",
    "    self.restart()\n",
    "    \n",
    "    # リセットボタンを配置する\n",
    "    button = widgets.Button(description=\"リセット\")\n",
    "    display(button)\n",
    "    \n",
    "    # リセットボタンのイベントハンドラを定義する\n",
    "    def on_button_clicked(b):\n",
    "        self.restart()       \n",
    "        self.draw_board(ax)  \n",
    "        \n",
    "        while self.status == Marubatsu.PLAYING:\n",
    "            # 現在の手番を表す ai のインデックスを計算する\n",
    "            index = 0 if self.turn == Marubatsu.CIRCLE else 1\n",
    "            # ai が着手を行うかどうかを判定する\n",
    "            if ai[index] is not None:                \n",
    "                x, y = ai[index](self, **params[index])\n",
    "                self.move(x, y) \n",
    "                self.draw_board(ax)                               \n",
    "            else:\n",
    "                # 人間の手番の場合は、イベントハンドラを終了する\n",
    "                return\n",
    "         \n",
    "    # イベントハンドラをリセットボタンに結びつける\n",
    "    button.on_click(on_button_clicked)\n",
    "\n",
    "    # gui が True の場合に、ゲーム盤を描画する画像を作成し、イベントハンドラに結びつける\n",
    "    if gui:\n",
    "        fig, ax = plt.subplots(figsize=[size, size])\n",
    "        fig.canvas.toolbar_visible = False\n",
    "        fig.canvas.header_visible = False\n",
    "        fig.canvas.footer_visible = False\n",
    "        fig.canvas.resizable = False          \n",
    "        \n",
    "        # ローカル関数としてイベントハンドラを定義する\n",
    "        def on_mouse_down(event):\n",
    "            # Axes の上でマウスを押していた場合のみ処理を行う\n",
    "            if event.inaxes and self.status == Marubatsu.PLAYING:\n",
    "                x = math.floor(event.xdata)\n",
    "                y = math.floor(event.ydata)\n",
    "                self.move(x, y)                \n",
    "                self.draw_board(ax)\n",
    "\n",
    "                # 現在の手番を表す ai のインデックスを計算する\n",
    "                index = 0 if self.turn == Marubatsu.CIRCLE else 1\n",
    "                # ゲームの決着がついていない場合に、ai が着手を行うかどうかを判定する\n",
    "                if self.status == Marubatsu.PLAYING and ai[index] is not None:                \n",
    "                    x, y = ai[index](self, **params[index])\n",
    "                    self.move(x, y) \n",
    "                    self.draw_board(ax)\n",
    "                   \n",
    "        # fig の画像にマウスを押した際のイベントハンドラを結び付ける\n",
    "        fig.canvas.mpl_connect(\"button_press_event\", on_mouse_down)     \n",
    "\n",
    "    # ゲームの決着がついていない間繰り返す\n",
    "    while self.status == Marubatsu.PLAYING:\n",
    "        # 現在の手番を表す ai のインデックスを計算する\n",
    "        index = 0 if self.turn == Marubatsu.CIRCLE else 1\n",
    "        # ゲーム盤の表示\n",
    "        if verbose:\n",
    "            if gui:\n",
    "                # AI どうしの対戦の場合は画面を描画しない\n",
    "                if ai[0] is None or ai[1] is None:\n",
    "                    self.draw_board(ax)\n",
    "                # 手番を人間が担当する場合は、play メソッドを終了する\n",
    "                if ai[index] is None:\n",
    "                    return\n",
    "            else:\n",
    "                print(self)\n",
    "                \n",
    "        # ai が着手を行うかどうかを判定する\n",
    "        if ai[index] is not None:\n",
    "            x, y = ai[index](self, **params[index])\n",
    "        else:\n",
    "            # キーボードからの座標の入力\n",
    "            coord = input(\"x,y の形式で座標を入力して下さい。exit を入力すると終了します\")\n",
    "            # \"exit\" が入力されていればメッセージを表示して関数を終了する\n",
    "            if coord == \"exit\":\n",
    "                print(\"ゲームを終了します\")\n",
    "                return       \n",
    "            # x 座標と y 座標を要素として持つ list を計算する\n",
    "            xylist = coord.split(\",\")\n",
    "            # xylist の要素の数が 2 ではない場合\n",
    "            if len(xylist) != 2:\n",
    "                # エラーメッセージを表示する\n",
    "                print(\"x, y の形式ではありません\")\n",
    "                # 残りの while 文のブロックを実行せずに、次の繰り返し処理を行う\n",
    "                continue\n",
    "            x, y = xylist\n",
    "        # (x, y) に着手を行う\n",
    "        try:\n",
    "            self.move(int(x), int(y))\n",
    "        except:\n",
    "            print(\"整数の座標を入力して下さい\")\n",
    "\n",
    "    # 決着がついたので、ゲーム盤を表示する\n",
    "    if verbose:\n",
    "        if gui:\n",
    "            self.draw_board(ax)\n",
    "        else:\n",
    "            print(self)\n",
    "            \n",
    "    return self.status\n",
    "    \n",
    "Marubatsu.play = play"
   ]
  },
  {
   "cell_type": "code",
   "execution_count": 15,
   "metadata": {},
   "outputs": [
    {
     "data": {
      "application/vnd.jupyter.widget-view+json": {
       "model_id": "5bcad963820b4aeca4b3489b67c8111f",
       "version_major": 2,
       "version_minor": 0
      },
      "text/plain": [
       "Button(description='リセット', style=ButtonStyle())"
      ]
     },
     "metadata": {},
     "output_type": "display_data"
    },
    {
     "data": {
      "application/vnd.jupyter.widget-view+json": {
       "model_id": "2ad8fe611fb642bfbc8c97eb637ad25e",
       "version_major": 2,
       "version_minor": 0
      },
      "image/png": "[encoded data removed]",
      "text/html": [
       "\n",
       "            <div style=\"display: inline-block;\">\n",
       "                <div class=\"jupyter-widgets widget-label\" style=\"text-align: center;\">\n",
       "                    Figure\n",
       "                </div>\n",
       "                <img src='data:image/png;base64,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' width=300.0/>\n",
       "            </div>\n",
       "        "
      ],
      "text/plain": [
       "Canvas(footer_visible=False, header_visible=False, resizable=False, toolbar=Toolbar(toolitems=[('Home', 'Reset…"
      ]
     },
     "metadata": {},
     "output_type": "display_data"
    }
   ],
   "source": [
    "mb.play(ai=[ai2, ai2], gui=True);"
   ]
  }
 ],
 "metadata": {
  "kernelspec": {
   "display_name": "marubatsu",
   "language": "python",
   "name": "python3"
  },
  "language_info": {
   "codemirror_mode": {
    "name": "ipython",
    "version": 3
   },
   "file_extension": ".py",
   "mimetype": "text/x-python",
   "name": "python",
   "nbconvert_exporter": "python",
   "pygments_lexer": "ipython3",
   "version": "3.11.4"
  }
 },
 "nbformat": 4,
 "nbformat_minor": 2
}
