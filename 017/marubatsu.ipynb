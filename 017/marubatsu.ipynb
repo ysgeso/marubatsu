{
 "cells": [
  {
   "cell_type": "code",
   "execution_count": 1,
   "metadata": {},
   "outputs": [
    {
     "name": "stdout",
     "output_type": "stream",
     "text": [
      "[[' ', ' ', ' '], [' ', ' ', ' '], [' ', ' ', ' ']]\n"
     ]
    }
   ],
   "source": [
    "import marubatsu\n",
    "\n",
    "board = marubatsu.initialize_board()\n",
    "print(board)"
   ]
  },
  {
   "cell_type": "code",
   "execution_count": 2,
   "metadata": {},
   "outputs": [
    {
     "name": "stdout",
     "output_type": "stream",
     "text": [
      "[[' ', ' ', ' '], [' ', ' ', ' '], [' ', ' ', ' ']]\n"
     ]
    }
   ],
   "source": [
    "import lib.marubatsu\n",
    "\n",
    "board = lib.marubatsu.initialize_board()\n",
    "print(board)"
   ]
  },
  {
   "cell_type": "code",
   "execution_count": 3,
   "metadata": {},
   "outputs": [
    {
     "name": "stdout",
     "output_type": "stream",
     "text": [
      "<module 'marubatsu' from 'c:\\\\Users\\\\ys\\\\ai\\\\marubatsu\\\\017\\\\marubatsu.py'>\n",
      "1\n"
     ]
    }
   ],
   "source": [
    "import marubatsu\n",
    "\n",
    "print(marubatsu)\n",
    "marubatsu = 1\n",
    "print(marubatsu)"
   ]
  },
  {
   "cell_type": "code",
   "execution_count": 4,
   "metadata": {},
   "outputs": [
    {
     "name": "stdout",
     "output_type": "stream",
     "text": [
      "これから print_1 をインポートします\n",
      "1\n",
      "もう一度 print_1 をインポートします\n"
     ]
    }
   ],
   "source": [
    "print(\"これから print_1 をインポートします\")\n",
    "import print_1\n",
    "print(\"もう一度 print_1 をインポートします\")\n",
    "import print_1"
   ]
  },
  {
   "cell_type": "markdown",
   "metadata": {},
   "source": [
    "下記のプログラムは、JupyterLab を再起動してから実行して下さい"
   ]
  },
  {
   "cell_type": "code",
   "execution_count": 1,
   "metadata": {},
   "outputs": [
    {
     "name": "stdout",
     "output_type": "stream",
     "text": [
      "これから print_1 をインポートします\n",
      "1\n",
      "print_1 を再読み込みします\n",
      "1\n"
     ]
    },
    {
     "data": {
      "text/plain": [
       "<module 'print_1' from 'c:\\\\Users\\\\ys\\\\ai\\\\marubatsu\\\\017\\\\print_1.py'>"
      ]
     },
     "execution_count": 1,
     "metadata": {},
     "output_type": "execute_result"
    }
   ],
   "source": [
    "import importlib\n",
    "print(\"これから print_1 をインポートします\")\n",
    "import print_1\n",
    "print(\"print_1 を再読み込みします\")\n",
    "importlib.reload(print_1)"
   ]
  },
  {
   "cell_type": "code",
   "execution_count": 2,
   "metadata": {},
   "outputs": [
    {
     "data": {
      "text/plain": [
       "1"
      ]
     },
     "execution_count": 2,
     "metadata": {},
     "output_type": "execute_result"
    }
   ],
   "source": [
    "a = 1\n",
    "a"
   ]
  },
  {
   "cell_type": "code",
   "execution_count": 3,
   "metadata": {},
   "outputs": [
    {
     "name": "stdout",
     "output_type": "stream",
     "text": [
      "<function print_1 at 0x0000023AB76C1C60>\n"
     ]
    },
    {
     "data": {
      "text/plain": [
       "<function __main__.print_1()>"
      ]
     },
     "execution_count": 3,
     "metadata": {},
     "output_type": "execute_result"
    }
   ],
   "source": [
    "def print_1():\n",
    "    print(1)\n",
    "    \n",
    "print(print_1)\n",
    "print_1"
   ]
  },
  {
   "cell_type": "code",
   "execution_count": 4,
   "metadata": {},
   "outputs": [],
   "source": [
    "import marubatsu, print_1"
   ]
  },
  {
   "cell_type": "code",
   "execution_count": 5,
   "metadata": {},
   "outputs": [
    {
     "name": "stdout",
     "output_type": "stream",
     "text": [
      "[[' ', ' ', ' '], [' ', ' ', ' '], [' ', ' ', ' ']]\n"
     ]
    }
   ],
   "source": [
    "import marubatsu as mb\n",
    "board = mb.initialize_board()\n",
    "print(board)"
   ]
  },
  {
   "cell_type": "code",
   "execution_count": 6,
   "metadata": {},
   "outputs": [
    {
     "name": "stdout",
     "output_type": "stream",
     "text": [
      "[[' ', ' ', ' '], [' ', ' ', ' '], [' ', ' ', ' ']]\n"
     ]
    },
    {
     "ename": "NameError",
     "evalue": "name 'set_mark' is not defined",
     "output_type": "error",
     "traceback": [
      "\u001b[1;31m---------------------------------------------------------------------------\u001b[0m",
      "\u001b[1;31mNameError\u001b[0m                                 Traceback (most recent call last)",
      "Cell \u001b[1;32mIn[6], line 4\u001b[0m\n\u001b[0;32m      2\u001b[0m board \u001b[39m=\u001b[39m initialize_board()\n\u001b[0;32m      3\u001b[0m \u001b[39mprint\u001b[39m(board)\n\u001b[1;32m----> 4\u001b[0m set_mark(board, \u001b[39m0\u001b[39m, \u001b[39m1\u001b[39m, \u001b[39m\"\u001b[39m\u001b[39m〇\u001b[39m\u001b[39m\"\u001b[39m)\n",
      "\u001b[1;31mNameError\u001b[0m: name 'set_mark' is not defined"
     ]
    }
   ],
   "source": [
    "from marubatsu import initialize_board\n",
    "board = initialize_board()\n",
    "print(board)\n",
    "set_mark(board, 0, 1, \"〇\")"
   ]
  },
  {
   "cell_type": "code",
   "execution_count": 7,
   "metadata": {},
   "outputs": [
    {
     "name": "stdout",
     "output_type": "stream",
     "text": [
      "[[' ', ' ', ' '], [' ', ' ', ' '], [' ', ' ', ' ']]\n"
     ]
    }
   ],
   "source": [
    "import marubatsu\n",
    "initialize_board = marubatsu.initialize_board\n",
    "board = initialize_board()\n",
    "print(board)\n",
    "marubatsu.set_mark(board, 0, 1, \"〇\")"
   ]
  },
  {
   "cell_type": "markdown",
   "metadata": {},
   "source": [
    "下記のプログラムは、JupyterLab を再起動してから実行して下さい"
   ]
  },
  {
   "cell_type": "code",
   "execution_count": 1,
   "metadata": {},
   "outputs": [
    {
     "name": "stdout",
     "output_type": "stream",
     "text": [
      "[[' ', ' ', ' '], [' ', ' ', ' '], [' ', ' ', ' ']]\n"
     ]
    },
    {
     "ename": "NameError",
     "evalue": "name 'marubatsu' is not defined",
     "output_type": "error",
     "traceback": [
      "\u001b[1;31m---------------------------------------------------------------------------\u001b[0m",
      "\u001b[1;31mNameError\u001b[0m                                 Traceback (most recent call last)",
      "Cell \u001b[1;32mIn[1], line 4\u001b[0m\n\u001b[0;32m      2\u001b[0m board \u001b[39m=\u001b[39m initialize_board()\n\u001b[0;32m      3\u001b[0m \u001b[39mprint\u001b[39m(board)\n\u001b[1;32m----> 4\u001b[0m marubatsu\u001b[39m.\u001b[39mset_mark(board, \u001b[39m0\u001b[39m, \u001b[39m1\u001b[39m, \u001b[39m\"\u001b[39m\u001b[39m〇\u001b[39m\u001b[39m\"\u001b[39m)\n",
      "\u001b[1;31mNameError\u001b[0m: name 'marubatsu' is not defined"
     ]
    }
   ],
   "source": [
    "from marubatsu import initialize_board\n",
    "board = initialize_board()\n",
    "print(board)\n",
    "marubatsu.set_mark(board, 0, 1, \"〇\")"
   ]
  },
  {
   "cell_type": "code",
   "execution_count": 2,
   "metadata": {},
   "outputs": [],
   "source": [
    "def initialize_board() -> list[list[str]]:\n",
    "    return [[\" \"] * 3 for y in range(3)]\n",
    "\n",
    "def set_mark(board: list[list[str]], x: int, y: int , mark: str):\n",
    "    if board[x][y] == \" \":\n",
    "        board[x][y] = mark\n",
    "    else:\n",
    "        print(\"(\", x, \",\", y, \") のマスにはマークが配置済です\")"
   ]
  },
  {
   "cell_type": "code",
   "execution_count": 3,
   "metadata": {},
   "outputs": [
    {
     "name": "stdout",
     "output_type": "stream",
     "text": [
      "1.5\n"
     ]
    }
   ],
   "source": [
    "def add(x: int, y: float) ->str:\n",
    "    return x + y\n",
    "\n",
    "print(add(0.5, 1))"
   ]
  },
  {
   "cell_type": "code",
   "execution_count": 4,
   "metadata": {},
   "outputs": [
    {
     "ename": "SyntaxError",
     "evalue": "unterminated string literal (detected at line 1) (2449814265.py, line 1)",
     "output_type": "error",
     "traceback": [
      "\u001b[1;36m  Cell \u001b[1;32mIn[4], line 1\u001b[1;36m\u001b[0m\n\u001b[1;33m    a = \"これは改行が\u001b[0m\n\u001b[1;37m        ^\u001b[0m\n\u001b[1;31mSyntaxError\u001b[0m\u001b[1;31m:\u001b[0m unterminated string literal (detected at line 1)\n"
     ]
    }
   ],
   "source": [
    "a = \"これは改行が\n",
    "含まれた文字列です\"\n",
    "print(a)"
   ]
  },
  {
   "cell_type": "code",
   "execution_count": 6,
   "metadata": {},
   "outputs": [
    {
     "name": "stdout",
     "output_type": "stream",
     "text": [
      "これは改行が\n",
      "含まれた文字列です\n"
     ]
    }
   ],
   "source": [
    "a = \"\"\"これは改行が\n",
    "含まれた文字列です\"\"\"\n",
    "print(a)"
   ]
  },
  {
   "cell_type": "code",
   "execution_count": 7,
   "metadata": {},
   "outputs": [],
   "source": [
    "def initialize_board() -> list[list[str]]:\n",
    "    \"\"\" 初期化されたゲーム盤のデータを返す関数.\n",
    "\n",
    "    Returns:\n",
    "        list[list[str]]: 初期化されたゲーム盤を表す 2 次元配列の list.\n",
    "        全ての要素に半角の空白文字が代入されている.\n",
    "    \"\"\"\n",
    "\n",
    "    return [[\" \"] * 3 for y in range(3)]\n",
    "\n",
    "def set_mark(board: list[list[str]], x: int, y: int , mark: str):\n",
    "    \"\"\" ゲーム盤の指定したマスに指定したマークを配置する関数.\n",
    "\n",
    "    (x, y) のマスに mark で指定したマークを配置する.\n",
    "    (x, y) のマスに既にマークが配置済の場合は、メッセージを表示する.\n",
    "\n",
    "    Args:\n",
    "        board (list[list[str]]):\n",
    "            マークを配置する、ゲーム盤を表す 2 次元配列の list\n",
    "        x (int):\n",
    "            マークを配置するマスの x 座標\n",
    "        y (int):\n",
    "            マークを配置するマスの y 座標\n",
    "        mark (str):\n",
    "            配置するマークを表す文字列\n",
    "    \"\"\"\n",
    "\n",
    "    if board[x][y] == \" \":\n",
    "        board[x][y] = mark\n",
    "    else:\n",
    "        print(\"(\", x, \",\", y, \") のマスにはマークが配置済です\")"
   ]
  },
  {
   "cell_type": "code",
   "execution_count": 8,
   "metadata": {},
   "outputs": [
    {
     "name": "stdout",
     "output_type": "stream",
     "text": [
      "Help on function initialize_board in module __main__:\n",
      "\n",
      "initialize_board() -> list[list[str]]\n",
      "    初期化されたゲーム盤のデータを返す関数.\n",
      "    \n",
      "    Returns:\n",
      "        list[list[str]]: 初期化されたゲーム盤を表す 2 次元配列の list.\n",
      "        全ての要素に半角の空白文字が代入されている.\n",
      "\n"
     ]
    }
   ],
   "source": [
    "help(initialize_board)"
   ]
  }
 ],
 "metadata": {
  "kernelspec": {
   "display_name": "marubatsu",
   "language": "python",
   "name": "python3"
  },
  "language_info": {
   "codemirror_mode": {
    "name": "ipython",
    "version": 3
   },
   "file_extension": ".py",
   "mimetype": "text/x-python",
   "name": "python",
   "nbconvert_exporter": "python",
   "pygments_lexer": "ipython3",
   "version": "3.11.4"
  },
  "orig_nbformat": 4
 },
 "nbformat": 4,
 "nbformat_minor": 2
}
