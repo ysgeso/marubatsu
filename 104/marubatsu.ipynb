{
 "cells": [
  {
   "cell_type": "code",
   "execution_count": 1,
   "metadata": {},
   "outputs": [],
   "source": [
    "from tree import Mbtree\n",
    "from marubatsu import Marubatsu\n",
    "\n",
    "def create_tree_by_bf(self, nodelist=None):\n",
    "    if nodelist is None:\n",
    "        nodelist = [self.root]\n",
    "  \n",
    "    if len(nodelist) > 0:\n",
    "        childnodelist = [] \n",
    "        for node in nodelist:\n",
    "            if node.mb.status == Marubatsu.PLAYING:\n",
    "                node.calc_children()\n",
    "                childnodelist += node.children\n",
    "        self.create_tree_by_bf(childnodelist)\n",
    "               \n",
    "Mbtree.create_tree_by_bf = create_tree_by_bf"
   ]
  },
  {
   "cell_type": "code",
   "execution_count": 2,
   "metadata": {},
   "outputs": [
    {
     "data": {
      "application/vnd.jupyter.widget-view+json": {
       "model_id": "1766085186564cd7962e669a4e468aeb",
       "version_major": 2,
       "version_minor": 0
      },
      "text/plain": [
       "VBox(children=(Output(), HBox(children=(Label(value='', layout=Layout(width='50px')), Button(description='↑', …"
      ]
     },
     "metadata": {},
     "output_type": "display_data"
    }
   ],
   "source": [
    "from tree import Mbtree_GUI\n",
    "\n",
    "mbtree_bf = Mbtree()\n",
    "mbtree_gui = Mbtree_GUI(mbtree_bf)"
   ]
  },
  {
   "cell_type": "code",
   "execution_count": 3,
   "metadata": {},
   "outputs": [],
   "source": [
    "def calc_node_height(self, centernode, maxdepth):\n",
    "    nodelist = [centernode]\n",
    "    depth = centernode.depth\n",
    "    # 各深さのノードのリストを記録する変数を初期化する\n",
    "    nodelist_by_depth = [None] * centernode.depth\n",
    "    nodelist_by_depth.append(nodelist)\n",
    "    \n",
    "    # 深さ depth のノードのリストが空になるまで繰り返し処理を行う\n",
    "    while len(nodelist) > 0:\n",
    "        childnodelist = [] \n",
    "        for node in nodelist:\n",
    "            childnodelist += node.children\n",
    "        nodelist_by_depth.append(childnodelist)\n",
    "        nodelist = childnodelist\n",
    "        depth += 1\n",
    "    \n",
    "    for depth in range(min(maxdepth, len(nodelist_by_depth) - 1), centernode.depth - 1, -1):\n",
    "        for node in nodelist_by_depth[depth]:\n",
    "            if depth == maxdepth:\n",
    "                node.height = 4\n",
    "            else:\n",
    "                node.calc_height()    \n",
    "                \n",
    "Mbtree.calc_node_height = calc_node_height"
   ]
  },
  {
   "cell_type": "code",
   "execution_count": 4,
   "metadata": {},
   "outputs": [
    {
     "data": {
      "application/vnd.jupyter.widget-view+json": {
       "model_id": "8c3fc3dfa2884a82b23598ab1ce4e96e",
       "version_major": 2,
       "version_minor": 0
      },
      "text/plain": [
       "VBox(children=(Output(), HBox(children=(Label(value='', layout=Layout(width='50px')), Button(description='↑', …"
      ]
     },
     "metadata": {},
     "output_type": "display_data"
    }
   ],
   "source": [
    "mbtree_gui = Mbtree_GUI(mbtree_bf)"
   ]
  },
  {
   "cell_type": "code",
   "execution_count": 5,
   "metadata": {},
   "outputs": [],
   "source": [
    "def calc_node_height(self, centernode, maxdepth):\n",
    "    nodelist = [centernode]\n",
    "    depth = centernode.depth\n",
    "    # 各深さのノードのリストを記録する変数を初期化する\n",
    "    nodelist_by_depth = [[] for i in range(11)]\n",
    "    nodelist_by_depth[centernode.depth] = nodelist\n",
    "    \n",
    "    # 深さ depth のノードのリストが空になるまで繰り返し処理を行う\n",
    "    while len(nodelist) > 0:\n",
    "        childnodelist = [] \n",
    "        for node in nodelist:\n",
    "            childnodelist += node.children\n",
    "        nodelist_by_depth[depth + 1] = childnodelist\n",
    "        nodelist = childnodelist\n",
    "        depth += 1\n",
    "    \n",
    "    for depth in range(maxdepth, centernode.depth - 1, -1):\n",
    "        for node in nodelist_by_depth[depth]:\n",
    "            if depth == maxdepth:\n",
    "                node.height = 4\n",
    "            else:\n",
    "                node.calc_height()    \n",
    "                \n",
    "Mbtree.calc_node_height = calc_node_height"
   ]
  },
  {
   "cell_type": "code",
   "execution_count": 6,
   "metadata": {},
   "outputs": [
    {
     "data": {
      "application/vnd.jupyter.widget-view+json": {
       "model_id": "2fd8a6d662264cde9d5653fffcc15bcf",
       "version_major": 2,
       "version_minor": 0
      },
      "text/plain": [
       "VBox(children=(Output(), HBox(children=(Label(value='', layout=Layout(width='50px')), Button(description='↑', …"
      ]
     },
     "metadata": {},
     "output_type": "display_data"
    }
   ],
   "source": [
    "mbtree_gui = Mbtree_GUI(mbtree_bf)"
   ]
  },
  {
   "cell_type": "code",
   "execution_count": 7,
   "metadata": {},
   "outputs": [],
   "source": [
    "from tree import Node\n",
    "from copy import deepcopy\n",
    "\n",
    "def create_tree_by_df(self):\n",
    "    N = self.root\n",
    "    \n",
    "    while N is not None:\n",
    "        legal_moves = N.mb.calc_legal_moves()\n",
    "        childnum = len(N.children)\n",
    "        if N.mb.status == Marubatsu.PLAYING and childnum < len(legal_moves):\n",
    "            x, y = legal_moves[childnum]\n",
    "            mb = deepcopy(N.mb)\n",
    "            mb.move(x, y)\n",
    "            node = Node(mb, parent=N, depth=N.depth + 1)\n",
    "            N.insert(node)\n",
    "            N = node\n",
    "        else:\n",
    "            N = N.parent\n",
    "            \n",
    "Mbtree.create_tree_by_df = create_tree_by_df"
   ]
  },
  {
   "cell_type": "code",
   "execution_count": 8,
   "metadata": {},
   "outputs": [
    {
     "data": {
      "application/vnd.jupyter.widget-view+json": {
       "model_id": "39d147ab37f445ba9fd34b77759fc3a5",
       "version_major": 2,
       "version_minor": 0
      },
      "text/plain": [
       "VBox(children=(Output(), HBox(children=(Label(value='', layout=Layout(width='50px')), Button(description='↑', …"
      ]
     },
     "metadata": {},
     "output_type": "display_data"
    }
   ],
   "source": [
    "mbtree_df = Mbtree(algo=\"df\")\n",
    "mbtree_gui = Mbtree_GUI(mbtree_df)"
   ]
  },
  {
   "cell_type": "code",
   "execution_count": 9,
   "metadata": {},
   "outputs": [],
   "source": [
    "def create_tree_by_df(self, N):\n",
    "    if N.mb.status == Marubatsu.PLAYING:\n",
    "        legal_moves = N.mb.calc_legal_moves()\n",
    "        for x, y in legal_moves:\n",
    "            mb = deepcopy(N.mb)\n",
    "            mb.move(x, y)\n",
    "            node = Node(mb, parent=N, depth=N.depth + 1)\n",
    "            N.insert(node)\n",
    "            self.create_tree_by_df(node)\n",
    "            \n",
    "Mbtree.create_tree_by_df = create_tree_by_df"
   ]
  },
  {
   "cell_type": "code",
   "execution_count": 10,
   "metadata": {},
   "outputs": [],
   "source": [
    "def __init__(self, algo=\"bf\"):\n",
    "    self.algo = algo\n",
    "    Node.count = 0\n",
    "    self.root = Node(Marubatsu())\n",
    "    if self.algo == \"bf\":  \n",
    "        self.create_tree_by_bf()\n",
    "    else:\n",
    "        self.create_tree_by_df(self.root)\n",
    "        \n",
    "Mbtree.__init__ = __init__"
   ]
  },
  {
   "cell_type": "code",
   "execution_count": 11,
   "metadata": {},
   "outputs": [
    {
     "data": {
      "application/vnd.jupyter.widget-view+json": {
       "model_id": "92b627ec60fd44fdb5734dcc4297d1fd",
       "version_major": 2,
       "version_minor": 0
      },
      "text/plain": [
       "VBox(children=(Output(), HBox(children=(Label(value='', layout=Layout(width='50px')), Button(description='↑', …"
      ]
     },
     "metadata": {},
     "output_type": "display_data"
    }
   ],
   "source": [
    "mbtree_df = Mbtree(algo=\"df\")\n",
    "mbtree_gui = Mbtree_GUI(mbtree_df)"
   ]
  },
  {
   "cell_type": "code",
   "execution_count": 12,
   "metadata": {},
   "outputs": [],
   "source": [
    "def __init__(self, algo=\"bf\"):\n",
    "    self.algo = algo\n",
    "    Node.count = 0\n",
    "    self.root = Node(Marubatsu())\n",
    "    if self.algo == \"bf\":  \n",
    "        self.create_tree_by_bf()\n",
    "    else:\n",
    "        self.nodelist = [self.root]\n",
    "        self.nodelist_by_depth = [[] for _ in range(10)]\n",
    "        self.nodelist_by_depth[0].append(self.root)\n",
    "        self.nodenum = 0\n",
    "        self.create_tree_by_df(self.root)\n",
    "        \n",
    "Mbtree.__init__ = __init__"
   ]
  },
  {
   "cell_type": "code",
   "execution_count": 13,
   "metadata": {},
   "outputs": [],
   "source": [
    "def create_tree_by_df(self, N):\n",
    "    if N.mb.status == Marubatsu.PLAYING:\n",
    "        legal_moves = N.mb.calc_legal_moves()\n",
    "        for x, y in legal_moves:\n",
    "            mb = deepcopy(N.mb)\n",
    "            mb.move(x, y)\n",
    "            node = Node(mb, parent=N, depth=N.depth + 1)\n",
    "            N.insert(node)\n",
    "            self.nodelist.append(node)\n",
    "            self.nodelist_by_depth[node.depth].append(node)\n",
    "            self.nodenum += 1\n",
    "            self.create_tree_by_df(node)\n",
    "            \n",
    "Mbtree.create_tree_by_df = create_tree_by_df"
   ]
  },
  {
   "cell_type": "code",
   "execution_count": 14,
   "metadata": {},
   "outputs": [
    {
     "data": {
      "application/vnd.jupyter.widget-view+json": {
       "model_id": "0dbb2bd0a3b140fa863b4ed875da5d6d",
       "version_major": 2,
       "version_minor": 0
      },
      "text/plain": [
       "VBox(children=(HBox(children=(Play(value=0, interval=500, max=549944), IntSlider(value=0, description='frame',…"
      ]
     },
     "metadata": {},
     "output_type": "display_data"
    }
   ],
   "source": [
    "from tree import Mbtree_Anim\n",
    "mbtree_df = Mbtree(algo=\"df\")\n",
    "mbtree_anim = Mbtree_Anim(mbtree_df)"
   ]
  },
  {
   "cell_type": "code",
   "execution_count": 15,
   "metadata": {},
   "outputs": [],
   "source": [
    "def calc_node_height(self, N, maxdepth):\n",
    "    if len(N.children) == 0 or N.depth == maxdepth:\n",
    "        N.height = 4\n",
    "        return 4\n",
    "    \n",
    "    height = 0\n",
    "    for childnode in N.children:\n",
    "        height += self.calc_node_height(childnode, maxdepth)\n",
    "    N.height = height\n",
    "    return height\n",
    "\n",
    "Mbtree.calc_node_height = calc_node_height"
   ]
  },
  {
   "cell_type": "code",
   "execution_count": 16,
   "metadata": {},
   "outputs": [],
   "source": [
    "def draw_subtree(self, centernode=None, selectednode=None, ax=None, size=0.25, lw=0.8, maxdepth=2):\n",
    "    self.nodes_by_rect = {}\n",
    "\n",
    "    if centernode is None:\n",
    "        centernode = self.root\n",
    "    self.calc_node_height(N=centernode, maxdepth=maxdepth)\n",
    "    width = 5 * (maxdepth + 1)\n",
    "    height = centernode.height\n",
    "    parent = centernode.parent\n",
    "    if parent is not None:\n",
    "        height += (len(parent.children) - 1) * 4\n",
    "        parent.height = height\n",
    "    if ax is None:\n",
    "        fig, ax = plt.subplots(figsize=(width * size, height * size))\n",
    "        ax.set_xlim(0, width)\n",
    "        ax.set_ylim(0, height)   \n",
    "        ax.invert_yaxis()\n",
    "        ax.axis(\"off\")        \n",
    "    \n",
    "    nodelist = [centernode]\n",
    "    depth = centernode.depth\n",
    "    while len(nodelist) > 0 and depth <= maxdepth:        \n",
    "        dy = 0\n",
    "        if parent is not None:\n",
    "            dy = parent.children.index(centernode) * 4\n",
    "        childnodelist = []\n",
    "        for node in nodelist:\n",
    "            if node is None:\n",
    "                dy += 4\n",
    "                childnodelist.append(None)\n",
    "            else:\n",
    "                dx = 5 * node.depth\n",
    "                emphasize = node is selectednode\n",
    "                rect = node.draw_node(ax=ax, maxdepth=maxdepth, emphasize=emphasize, size=size, lw=lw, dx=dx, dy=dy)\n",
    "                self.nodes_by_rect[rect] = node\n",
    "                dy += node.height\n",
    "                if len(node.children) > 0:  \n",
    "                    childnodelist += node.children\n",
    "                else:\n",
    "                    childnodelist.append(None)\n",
    "        depth += 1\n",
    "        nodelist = childnodelist\n",
    "        \n",
    "    if parent is not None:\n",
    "        dy = 0\n",
    "        for sibling in parent.children:\n",
    "            if sibling is not centernode:\n",
    "                sibling.height = 4\n",
    "                dx = 5 * sibling.depth\n",
    "                rect = sibling.draw_node(ax, maxdepth=sibling.depth, size=size, lw=lw, dx=dx, dy=dy)\n",
    "                self.nodes_by_rect[rect] = sibling\n",
    "            dy += sibling.height\n",
    "        dx = 5 * parent.depth\n",
    "        rect = parent.draw_node(ax, maxdepth=maxdepth, size=size, lw=lw, dx=dx, dy=0)\n",
    "        self.nodes_by_rect[rect] = parent\n",
    "    \n",
    "        node = parent\n",
    "        while node.parent is not None:\n",
    "            node = node.parent\n",
    "            node.height = height\n",
    "            dx = 5 * node.depth\n",
    "            rect = node.draw_node(ax, maxdepth=node.depth, size=size, lw=lw, dx=dx, dy=0)\n",
    "            self.nodes_by_rect[rect] = node\n",
    "\n",
    "Mbtree.draw_subtree = draw_subtree"
   ]
  },
  {
   "cell_type": "code",
   "execution_count": 17,
   "metadata": {},
   "outputs": [
    {
     "data": {
      "application/vnd.jupyter.widget-view+json": {
       "model_id": "5482c8b4ba4f4442a6ad817171695f4f",
       "version_major": 2,
       "version_minor": 0
      },
      "text/plain": [
       "VBox(children=(HBox(children=(Play(value=0, interval=500, max=549944), IntSlider(value=0, description='frame',…"
      ]
     },
     "metadata": {},
     "output_type": "display_data"
    }
   ],
   "source": [
    "mbtree_anim = Mbtree_Anim(mbtree_df)"
   ]
  }
 ],
 "metadata": {
  "kernelspec": {
   "display_name": "marubatsu",
   "language": "python",
   "name": "python3"
  },
  "language_info": {
   "codemirror_mode": {
    "name": "ipython",
    "version": 3
   },
   "file_extension": ".py",
   "mimetype": "text/x-python",
   "name": "python",
   "nbconvert_exporter": "python",
   "pygments_lexer": "ipython3",
   "version": "3.11.4"
  }
 },
 "nbformat": 4,
 "nbformat_minor": 2
}
