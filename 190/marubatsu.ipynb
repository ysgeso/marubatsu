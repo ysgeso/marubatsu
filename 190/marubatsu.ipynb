{
 "cells": [
  {
   "cell_type": "code",
   "execution_count": 1,
   "id": "7d55ef07",
   "metadata": {},
   "outputs": [
    {
     "name": "stdout",
     "output_type": "stream",
     "text": [
      "ai2s VS ai2s\n"
     ]
    },
    {
     "name": "stderr",
     "output_type": "stream",
     "text": [
      "100%|██████████| 5000/5000 [00:01<00:00, 2870.59it/s]"
     ]
    },
    {
     "name": "stdout",
     "output_type": "stream",
     "text": [
      "count     win    lose    draw\n",
      "o        2949    1427     624\n",
      "x        1425    2917     658\n",
      "total    4374    4344    1282\n",
      "\n",
      "ratio     win    lose    draw\n",
      "o       59.0%   28.5%   12.5%\n",
      "x       28.5%   58.3%   13.2%\n",
      "total   43.7%   43.4%   12.8%\n",
      "\n"
     ]
    },
    {
     "name": "stderr",
     "output_type": "stream",
     "text": [
      "\n"
     ]
    },
    {
     "data": {
      "text/plain": [
       "[('count',\n",
       "  [{'win': 2949, 'lose': 1427, 'draw': 624},\n",
       "   {'win': 1425, 'lose': 2917, 'draw': 658},\n",
       "   {'win': 4374, 'lose': 4344, 'draw': 1282}],\n",
       "  '7d'),\n",
       " ('ratio',\n",
       "  [{'win': 0.5898, 'lose': 0.2854, 'draw': 0.1248},\n",
       "   {'win': 0.285, 'lose': 0.5834, 'draw': 0.1316},\n",
       "   {'win': 0.4374, 'lose': 0.4344, 'draw': 0.1282}],\n",
       "  '7.1%')]"
      ]
     },
     "execution_count": 1,
     "metadata": {},
     "output_type": "execute_result"
    }
   ],
   "source": [
    "from ai import ai_match, ai2s\n",
    "\n",
    "ai_match(ai=[ai2s, ai2s], match_num=5000)"
   ]
  },
  {
   "cell_type": "code",
   "execution_count": 2,
   "id": "7abf885d",
   "metadata": {},
   "outputs": [],
   "source": [
    "from ai import ai14s, ai_abs_dls\n",
    "from marubatsu import Marubatsu\n",
    "\n",
    "mb = Marubatsu()\n",
    "eval_params = {\"minimax\": True}"
   ]
  },
  {
   "cell_type": "code",
   "execution_count": 3,
   "id": "3b3446d2",
   "metadata": {},
   "outputs": [
    {
     "name": "stdout",
     "output_type": "stream",
     "text": [
      "14.9 ms ± 304 μs per loop (mean ± std. dev. of 7 runs, 100 loops each)\n"
     ]
    }
   ],
   "source": [
    "%%timeit\n",
    "\n",
    "ai_abs_dls(mb, eval_func=ai14s, eval_params=eval_params, use_tt=True, maxdepth=8)"
   ]
  },
  {
   "cell_type": "code",
   "execution_count": 4,
   "id": "31d63a35",
   "metadata": {},
   "outputs": [
    {
     "name": "stdout",
     "output_type": "stream",
     "text": [
      "179 ms ± 2.25 ms per loop (mean ± std. dev. of 7 runs, 1 loop each)\n"
     ]
    }
   ],
   "source": [
    "%%timeit\n",
    "\n",
    "ai_abs_dls(mb, eval_func=ai14s, eval_params=eval_params, maxdepth=8)"
   ]
  },
  {
   "cell_type": "code",
   "execution_count": 5,
   "id": "6ef6d42e",
   "metadata": {},
   "outputs": [
    {
     "name": "stdout",
     "output_type": "stream",
     "text": [
      "19.9 μs ± 933 ns per loop (mean ± std. dev. of 7 runs, 10,000 loops each)\n"
     ]
    }
   ],
   "source": [
    "%%timeit\n",
    "\n",
    "ai2s(mb)"
   ]
  },
  {
   "cell_type": "code",
   "execution_count": 6,
   "id": "7709b551",
   "metadata": {},
   "outputs": [],
   "source": [
    "def restart(self):\n",
    "    self.initialize_board()\n",
    "    self.turn = Marubatsu.CIRCLE     \n",
    "    self.move_count = 0\n",
    "    self.status = Marubatsu.PLAYING\n",
    "    self.last_move = -1, -1          \n",
    "    self.last_turn = None\n",
    "    self.records = [self.last_move]\n",
    "    if self.count_linemark:\n",
    "        self.rowcount = {\n",
    "            Marubatsu.CIRCLE: [0] * self.BOARD_SIZE,\n",
    "            Marubatsu.CROSS: [0] * self.BOARD_SIZE,\n",
    "        }\n",
    "        self.colcount = {\n",
    "            Marubatsu.CIRCLE: [0] * self.BOARD_SIZE,\n",
    "            Marubatsu.CROSS: [0] * self.BOARD_SIZE,\n",
    "        }\n",
    "        self.diacount = {\n",
    "            Marubatsu.CIRCLE: [0] * 2,\n",
    "            Marubatsu.CROSS: [0] * 2,\n",
    "        }\n",
    "    self.legal_moves = [(x, y) for x in range(self.BOARD_SIZE) for y in range(self.BOARD_SIZE)]\n",
    "    \n",
    "Marubatsu.restart = restart"
   ]
  },
  {
   "cell_type": "code",
   "execution_count": 7,
   "id": "c275e49c",
   "metadata": {},
   "outputs": [],
   "source": [
    "def move(self, x, y):\n",
    "    if self.place_mark(x, y, self.turn):\n",
    "        self.last_turn = self.turn\n",
    "        self.turn = Marubatsu.CROSS if self.turn == Marubatsu.CIRCLE else Marubatsu.CIRCLE  \n",
    "        self.move_count += 1\n",
    "        self.last_move = x, y\n",
    "        if self.count_linemark:\n",
    "            self.colcount[self.last_turn][x] += 1\n",
    "            self.rowcount[self.last_turn][y] += 1\n",
    "            if x == y:\n",
    "                self.diacount[self.last_turn][0] += 1        \n",
    "            if x + y == self.BOARD_SIZE - 1:\n",
    "                self.diacount[self.last_turn][1] += 1        \n",
    "        self.status = self.judge()\n",
    "        if len(self.records) <= self.move_count:            \n",
    "            self.records.append(self.last_move)\n",
    "        else:\n",
    "            self.records[self.move_count] = self.last_move\n",
    "            self.records = self.records[0:self.move_count + 1]\n",
    "        self.legal_moves.remove((x, y))\n",
    "        \n",
    "        \n",
    "Marubatsu.move = move"
   ]
  },
  {
   "cell_type": "code",
   "execution_count": 8,
   "id": "3342e2f3",
   "metadata": {},
   "outputs": [],
   "source": [
    "def unmove(self):\n",
    "    if self.move_count > 0:\n",
    "        x, y = self.last_move\n",
    "        if self.count_linemark:\n",
    "            self.colcount[self.last_turn][x] -= 1\n",
    "            self.rowcount[self.last_turn][y] -= 1\n",
    "            if x == y:\n",
    "                self.diacount[self.last_turn][0] -= 1        \n",
    "            if x + y == self.BOARD_SIZE - 1:\n",
    "                self.diacount[self.last_turn][1] -= 1           \n",
    "        if self.move_count == 0:\n",
    "            self.last_move = (-1, -1)\n",
    "        self.move_count -= 1\n",
    "        self.turn, self.last_turn = self.last_turn, self.turn\n",
    "        self.status = Marubatsu.PLAYING\n",
    "        x, y = self.records.pop()\n",
    "        self.remove_mark(x, y)\n",
    "        self.last_move = self.records[-1]       \n",
    "        self.legal_moves.append((x, y))\n",
    "        \n",
    "Marubatsu.unmove = unmove\n"
   ]
  },
  {
   "cell_type": "code",
   "execution_count": 9,
   "id": "8dbd8f30",
   "metadata": {},
   "outputs": [],
   "source": [
    "def calc_legal_moves(self):\n",
    "    return self.legal_moves\n",
    "\n",
    "Marubatsu.calc_legal_moves = calc_legal_moves\n",
    "    "
   ]
  },
  {
   "cell_type": "code",
   "execution_count": 10,
   "id": "b2436b35",
   "metadata": {},
   "outputs": [
    {
     "name": "stdout",
     "output_type": "stream",
     "text": [
      "ai2s VS ai2s\n"
     ]
    },
    {
     "name": "stderr",
     "output_type": "stream",
     "text": [
      "100%|██████████| 5000/5000 [00:01<00:00, 2730.27it/s]"
     ]
    },
    {
     "name": "stdout",
     "output_type": "stream",
     "text": [
      "count     win    lose    draw\n",
      "o        3642     963     395\n",
      "x         990    3598     412\n",
      "total    4632    4561     807\n",
      "\n",
      "ratio     win    lose    draw\n",
      "o       72.8%   19.3%    7.9%\n",
      "x       19.8%   72.0%    8.2%\n",
      "total   46.3%   45.6%    8.1%\n",
      "\n"
     ]
    },
    {
     "name": "stderr",
     "output_type": "stream",
     "text": [
      "\n"
     ]
    },
    {
     "data": {
      "text/plain": [
       "[('count',\n",
       "  [{'win': 3642, 'lose': 963, 'draw': 395},\n",
       "   {'win': 990, 'lose': 3598, 'draw': 412},\n",
       "   {'win': 4632, 'lose': 4561, 'draw': 807}],\n",
       "  '7d'),\n",
       " ('ratio',\n",
       "  [{'win': 0.7284, 'lose': 0.1926, 'draw': 0.079},\n",
       "   {'win': 0.198, 'lose': 0.7196, 'draw': 0.0824},\n",
       "   {'win': 0.4632, 'lose': 0.4561, 'draw': 0.0807}],\n",
       "  '7.1%')]"
      ]
     },
     "execution_count": 10,
     "metadata": {},
     "output_type": "execute_result"
    }
   ],
   "source": [
    "ai_match(ai=[ai2s, ai2s], match_num=5000)"
   ]
  },
  {
   "cell_type": "code",
   "execution_count": 11,
   "id": "2a243703",
   "metadata": {},
   "outputs": [
    {
     "name": "stdout",
     "output_type": "stream",
     "text": [
      "1\n",
      "2\n",
      "3\n",
      "4\n",
      "5\n"
     ]
    }
   ],
   "source": [
    "a = [1, 2, 3, 4, 5]\n",
    "for data in a:\n",
    "    print(data)"
   ]
  },
  {
   "cell_type": "code",
   "execution_count": 12,
   "id": "7cac9e25",
   "metadata": {},
   "outputs": [
    {
     "name": "stdout",
     "output_type": "stream",
     "text": [
      "1\n",
      "3\n",
      "5\n",
      "3\n",
      "3\n"
     ]
    }
   ],
   "source": [
    "a = [1, 2, 3, 4, 5]\n",
    "for data in a:\n",
    "    print(data)\n",
    "    a.remove(data)\n",
    "    a.append(data)"
   ]
  },
  {
   "cell_type": "code",
   "execution_count": 13,
   "id": "12ce07a5",
   "metadata": {},
   "outputs": [
    {
     "name": "stdout",
     "output_type": "stream",
     "text": [
      "data = 1, a = [1, 2, 3, 4, 5]\n",
      "  remove: a = [2, 3, 4, 5]\n",
      "  append: a = [2, 3, 4, 5, 1]\n",
      "data = 3, a = [2, 3, 4, 5, 1]\n",
      "  remove: a = [2, 4, 5, 1]\n",
      "  append: a = [2, 4, 5, 1, 3]\n",
      "data = 5, a = [2, 4, 5, 1, 3]\n",
      "  remove: a = [2, 4, 1, 3]\n",
      "  append: a = [2, 4, 1, 3, 5]\n",
      "data = 3, a = [2, 4, 1, 3, 5]\n",
      "  remove: a = [2, 4, 1, 5]\n",
      "  append: a = [2, 4, 1, 5, 3]\n",
      "data = 3, a = [2, 4, 1, 5, 3]\n",
      "  remove: a = [2, 4, 1, 5]\n",
      "  append: a = [2, 4, 1, 5, 3]\n"
     ]
    }
   ],
   "source": [
    "a = [1, 2, 3, 4, 5]\n",
    "for data in a:\n",
    "    print(f\"data = {data}, a = {a}\")\n",
    "    a.remove(data)\n",
    "    print(f\"  remove: a = {a}\")\n",
    "    a.append(data)\n",
    "    print(f\"  append: a = {a}\")\n",
    "    "
   ]
  },
  {
   "cell_type": "code",
   "execution_count": 14,
   "id": "5d780eac",
   "metadata": {},
   "outputs": [
    {
     "name": "stdout",
     "output_type": "stream",
     "text": [
      "(0, 0)\n",
      "(0, 1)\n",
      "(0, 2)\n",
      "(1, 0)\n",
      "(1, 1)\n",
      "(1, 2)\n",
      "(2, 0)\n",
      "(2, 1)\n",
      "(2, 2)\n"
     ]
    }
   ],
   "source": [
    "mb_orig = Marubatsu()\n",
    "for move in mb_orig.legal_moves:\n",
    "    print(move)"
   ]
  },
  {
   "cell_type": "code",
   "execution_count": 15,
   "id": "f6ca1496",
   "metadata": {},
   "outputs": [
    {
     "name": "stdout",
     "output_type": "stream",
     "text": [
      "(0, 0)\n",
      "(0, 2)\n",
      "(1, 1)\n",
      "(2, 0)\n",
      "(2, 2)\n",
      "(0, 2)\n",
      "(2, 0)\n",
      "(0, 2)\n",
      "(0, 2)\n"
     ]
    }
   ],
   "source": [
    "mb_orig = Marubatsu()\n",
    "for move in mb_orig.legal_moves:\n",
    "    print(move)\n",
    "    mb_orig.legal_moves.remove(move)\n",
    "    mb_orig.legal_moves.append(move)"
   ]
  },
  {
   "cell_type": "code",
   "execution_count": 16,
   "id": "b4448293",
   "metadata": {},
   "outputs": [
    {
     "name": "stdout",
     "output_type": "stream",
     "text": [
      "(0, 0)\n",
      "(0, 2)\n",
      "(1, 1)\n",
      "(2, 0)\n",
      "(2, 2)\n",
      "(0, 2)\n",
      "(2, 0)\n",
      "(0, 2)\n",
      "(0, 2)\n"
     ]
    }
   ],
   "source": [
    "mb = Marubatsu()\n",
    "legal_moves = mb.calc_legal_moves()\n",
    "for move in legal_moves:\n",
    "    print(move)\n",
    "    x, y = move\n",
    "    mb.move(x, y)\n",
    "    mb.unmove()"
   ]
  },
  {
   "cell_type": "code",
   "execution_count": 17,
   "id": "5b7170cb",
   "metadata": {},
   "outputs": [
    {
     "name": "stdout",
     "output_type": "stream",
     "text": [
      "a 1 {'a': 1, 'b': 2, 'c': 3}\n",
      "b 2 {'b': 2, 'c': 3, 'a': 1}\n",
      "c 3 {'c': 3, 'a': 1, 'b': 2}\n"
     ]
    }
   ],
   "source": [
    "a = {\"a\":1, \"b\":2, \"c\": 3}\n",
    "for key, value in a.items():\n",
    "    print(key, value, a)\n",
    "    a.pop(key)\n",
    "    a[key] = value"
   ]
  },
  {
   "cell_type": "code",
   "execution_count": 18,
   "id": "6f536fc4",
   "metadata": {},
   "outputs": [
    {
     "name": "stdout",
     "output_type": "stream",
     "text": [
      "{'a': 1, 'b': 2, 'c': 3}\n"
     ]
    }
   ],
   "source": [
    "print(a)"
   ]
  },
  {
   "cell_type": "code",
   "execution_count": 19,
   "id": "4908a375",
   "metadata": {},
   "outputs": [
    {
     "name": "stdout",
     "output_type": "stream",
     "text": [
      "a 1 {'a': 1, 'b': 2, 'c': 3}\n"
     ]
    },
    {
     "ename": "RuntimeError",
     "evalue": "dictionary changed size during iteration",
     "output_type": "error",
     "traceback": [
      "\u001b[31m---------------------------------------------------------------------------\u001b[39m",
      "\u001b[31mRuntimeError\u001b[39m                              Traceback (most recent call last)",
      "\u001b[36mCell\u001b[39m\u001b[36m \u001b[39m\u001b[32mIn[19]\u001b[39m\u001b[32m, line 2\u001b[39m\n\u001b[32m      1\u001b[39m a = {\u001b[33m\"\u001b[39m\u001b[33ma\u001b[39m\u001b[33m\"\u001b[39m:\u001b[32m1\u001b[39m, \u001b[33m\"\u001b[39m\u001b[33mb\u001b[39m\u001b[33m\"\u001b[39m:\u001b[32m2\u001b[39m, \u001b[33m\"\u001b[39m\u001b[33mc\u001b[39m\u001b[33m\"\u001b[39m: \u001b[32m3\u001b[39m}\n\u001b[32m----> \u001b[39m\u001b[32m2\u001b[39m \u001b[38;5;28;01mfor\u001b[39;00m key, value \u001b[38;5;129;01min\u001b[39;00m a.items():\n\u001b[32m      3\u001b[39m     \u001b[38;5;28mprint\u001b[39m(key, value, a)\n\u001b[32m      4\u001b[39m     a.pop(key)\n",
      "\u001b[31mRuntimeError\u001b[39m: dictionary changed size during iteration"
     ]
    }
   ],
   "source": [
    "a = {\"a\":1, \"b\":2, \"c\": 3}\n",
    "for key, value in a.items():\n",
    "    print(key, value, a)\n",
    "    a.pop(key)"
   ]
  },
  {
   "cell_type": "code",
   "execution_count": 20,
   "id": "98cf9a92",
   "metadata": {},
   "outputs": [],
   "source": [
    "def calc_legal_moves(self):\n",
    "    return self.legal_moves.copy()\n",
    "\n",
    "Marubatsu.calc_legal_moves = calc_legal_moves"
   ]
  },
  {
   "cell_type": "code",
   "execution_count": 21,
   "id": "497f975c",
   "metadata": {},
   "outputs": [
    {
     "name": "stdout",
     "output_type": "stream",
     "text": [
      "(0, 0)\n",
      "(0, 1)\n",
      "(0, 2)\n",
      "(1, 0)\n",
      "(1, 1)\n",
      "(1, 2)\n",
      "(2, 0)\n",
      "(2, 1)\n",
      "(2, 2)\n"
     ]
    }
   ],
   "source": [
    "mb_orig = Marubatsu()\n",
    "legal_moves = mb_orig.calc_legal_moves()\n",
    "for move in legal_moves:\n",
    "    print(move)\n",
    "    mb_orig.legal_moves.remove(move)\n",
    "    mb_orig.legal_moves.append(move)"
   ]
  },
  {
   "cell_type": "code",
   "execution_count": 22,
   "id": "e5a68424",
   "metadata": {},
   "outputs": [
    {
     "name": "stdout",
     "output_type": "stream",
     "text": [
      "ai2s VS ai2s\n"
     ]
    },
    {
     "name": "stderr",
     "output_type": "stream",
     "text": [
      "100%|██████████| 5000/5000 [00:01<00:00, 2696.27it/s]"
     ]
    },
    {
     "name": "stdout",
     "output_type": "stream",
     "text": [
      "count     win    lose    draw\n",
      "o        2913    1455     632\n",
      "x        1464    2941     595\n",
      "total    4377    4396    1227\n",
      "\n",
      "ratio     win    lose    draw\n",
      "o       58.3%   29.1%   12.6%\n",
      "x       29.3%   58.8%   11.9%\n",
      "total   43.8%   44.0%   12.3%\n",
      "\n"
     ]
    },
    {
     "name": "stderr",
     "output_type": "stream",
     "text": [
      "\n"
     ]
    },
    {
     "data": {
      "text/plain": [
       "[('count',\n",
       "  [{'win': 2913, 'lose': 1455, 'draw': 632},\n",
       "   {'win': 1464, 'lose': 2941, 'draw': 595},\n",
       "   {'win': 4377, 'lose': 4396, 'draw': 1227}],\n",
       "  '7d'),\n",
       " ('ratio',\n",
       "  [{'win': 0.5826, 'lose': 0.291, 'draw': 0.1264},\n",
       "   {'win': 0.2928, 'lose': 0.5882, 'draw': 0.119},\n",
       "   {'win': 0.4377, 'lose': 0.4396, 'draw': 0.1227}],\n",
       "  '7.1%')]"
      ]
     },
     "execution_count": 22,
     "metadata": {},
     "output_type": "execute_result"
    }
   ],
   "source": [
    "ai_match(ai=[ai2s, ai2s], match_num=5000)"
   ]
  },
  {
   "cell_type": "code",
   "execution_count": 23,
   "id": "ffee70b5",
   "metadata": {},
   "outputs": [
    {
     "name": "stdout",
     "output_type": "stream",
     "text": [
      "18.7 ms ± 360 μs per loop (mean ± std. dev. of 7 runs, 100 loops each)\n"
     ]
    }
   ],
   "source": [
    "%%timeit\n",
    "\n",
    "ai_abs_dls(mb, eval_func=ai14s, eval_params=eval_params, use_tt=True, maxdepth=8)"
   ]
  },
  {
   "cell_type": "code",
   "execution_count": 24,
   "id": "4495c12c",
   "metadata": {},
   "outputs": [
    {
     "name": "stdout",
     "output_type": "stream",
     "text": [
      "148 ms ± 2.6 ms per loop (mean ± std. dev. of 7 runs, 10 loops each)\n"
     ]
    }
   ],
   "source": [
    "%%timeit\n",
    "\n",
    "ai_abs_dls(mb, eval_func=ai14s, eval_params=eval_params, maxdepth=8)"
   ]
  },
  {
   "cell_type": "code",
   "execution_count": null,
   "id": "4e33cf01",
   "metadata": {},
   "outputs": [],
   "source": [
    "# JupyterLab を再起動する\n",
    "from marubatsu import Marubatsu\n",
    "\n",
    "mb = Marubatsu()"
   ]
  },
  {
   "cell_type": "code",
   "execution_count": 2,
   "id": "7ed2a831",
   "metadata": {},
   "outputs": [
    {
     "name": "stdout",
     "output_type": "stream",
     "text": [
      "453 ns ± 11.2 ns per loop (mean ± std. dev. of 7 runs, 1,000,000 loops each)\n"
     ]
    }
   ],
   "source": [
    "%%timeit\n",
    "mb.place_mark(1, 1, Marubatsu.CIRCLE)\n",
    "mb.remove_mark(1, 1)"
   ]
  },
  {
   "cell_type": "code",
   "execution_count": null,
   "id": "1dc467e8",
   "metadata": {},
   "outputs": [],
   "source": [
    "def __init__(self, board_size=3, count_linemark=False, check_coord=True):\n",
    "    # ゲーム盤の縦横のサイズ\n",
    "    self.BOARD_SIZE = board_size\n",
    "    # 各直線上のマークの数を数えるかどうか\n",
    "    self.count_linemark = count_linemark\n",
    "    # place_mark と remove_mark メソッドで座標などのチェックを行うかどうか\n",
    "    self.check_coord = check_coord\n",
    "    # 〇×ゲーム盤を再起動するメソッドを呼び出す\n",
    "    self.restart()\n",
    "\n",
    "Marubatsu.__init__ = __init__"
   ]
  },
  {
   "cell_type": "code",
   "execution_count": 4,
   "id": "6eb08b88",
   "metadata": {},
   "outputs": [],
   "source": [
    "def place_mark(self, x, y, mark):\n",
    "    if self.check_coord:\n",
    "        if 0 <= x < self.BOARD_SIZE and 0 <= y < self.BOARD_SIZE:\n",
    "            if self.board[x][y] == Marubatsu.EMPTY:\n",
    "                self.board[x][y] = mark\n",
    "                return True\n",
    "            else:\n",
    "                print(\"(\", x, \",\", y, \") のマスにはマークが配置済です\")\n",
    "                return False\n",
    "        else:\n",
    "            print(\"(\", x, \",\", y, \") はゲーム盤の範囲外の座標です\")\n",
    "            return False   \n",
    "    else:       \n",
    "        self.board[x][y] = mark\n",
    "        return True\n",
    "\n",
    "Marubatsu.place_mark = place_mark\n",
    "\n",
    "def remove_mark(self, x, y):\n",
    "    if self.check_coord:\n",
    "        if 0 <= x < self.BOARD_SIZE and 0 <= y < self.BOARD_SIZE:\n",
    "            if self.board[x][y] != Marubatsu.EMPTY:\n",
    "                self.board[x][y] = Marubatsu.EMPTY\n",
    "                return True\n",
    "            else:\n",
    "                print(\"(\", x, \",\", y, \") のマスにはマークがありません\")\n",
    "                return False\n",
    "        else:\n",
    "            print(\"(\", x, \",\", y, \") はゲーム盤の範囲外の座標です\")\n",
    "            return False\n",
    "    else:\n",
    "        self.board[x][y] = Marubatsu.EMPTY\n",
    "        return True\n",
    "\n",
    "Marubatsu.remove_mark = remove_mark"
   ]
  },
  {
   "cell_type": "code",
   "execution_count": 5,
   "id": "2b65dd50",
   "metadata": {},
   "outputs": [],
   "source": [
    "mb = Marubatsu()"
   ]
  },
  {
   "cell_type": "code",
   "execution_count": 6,
   "id": "c3500500",
   "metadata": {},
   "outputs": [
    {
     "name": "stdout",
     "output_type": "stream",
     "text": [
      "466 ns ± 9.53 ns per loop (mean ± std. dev. of 7 runs, 1,000,000 loops each)\n"
     ]
    }
   ],
   "source": [
    "%%timeit\n",
    "mb.place_mark(1, 1, Marubatsu.CIRCLE)\n",
    "mb.remove_mark(1, 1)"
   ]
  },
  {
   "cell_type": "code",
   "execution_count": 7,
   "id": "d1381064",
   "metadata": {},
   "outputs": [
    {
     "name": "stdout",
     "output_type": "stream",
     "text": [
      "ai2s VS ai2s\n"
     ]
    },
    {
     "name": "stderr",
     "output_type": "stream",
     "text": [
      "100%|██████████| 5000/5000 [00:01<00:00, 2812.18it/s]"
     ]
    },
    {
     "name": "stdout",
     "output_type": "stream",
     "text": [
      "count     win    lose    draw\n",
      "o        2923    1410     667\n",
      "x        1444    2942     614\n",
      "total    4367    4352    1281\n",
      "\n",
      "ratio     win    lose    draw\n",
      "o       58.5%   28.2%   13.3%\n",
      "x       28.9%   58.8%   12.3%\n",
      "total   43.7%   43.5%   12.8%\n",
      "\n"
     ]
    },
    {
     "name": "stderr",
     "output_type": "stream",
     "text": [
      "\n"
     ]
    },
    {
     "data": {
      "text/plain": [
       "[('count',\n",
       "  [{'win': 2923, 'lose': 1410, 'draw': 667},\n",
       "   {'win': 1444, 'lose': 2942, 'draw': 614},\n",
       "   {'win': 4367, 'lose': 4352, 'draw': 1281}],\n",
       "  '7d'),\n",
       " ('ratio',\n",
       "  [{'win': 0.5846, 'lose': 0.282, 'draw': 0.1334},\n",
       "   {'win': 0.2888, 'lose': 0.5884, 'draw': 0.1228},\n",
       "   {'win': 0.4367, 'lose': 0.4352, 'draw': 0.1281}],\n",
       "  '7.1%')]"
      ]
     },
     "execution_count": 7,
     "metadata": {},
     "output_type": "execute_result"
    }
   ],
   "source": [
    "from ai import ai_match, ai2s\n",
    "\n",
    "ai_match(ai=[ai2s, ai2s], match_num=5000)"
   ]
  },
  {
   "cell_type": "code",
   "execution_count": 8,
   "id": "4b60bdc5",
   "metadata": {},
   "outputs": [],
   "source": [
    "from ai import ai14s, ai_abs_dls\n",
    "\n",
    "eval_params = {\"minimax\": True}"
   ]
  },
  {
   "cell_type": "code",
   "execution_count": 9,
   "id": "ce59573e",
   "metadata": {},
   "outputs": [
    {
     "name": "stdout",
     "output_type": "stream",
     "text": [
      "14.9 ms ± 231 μs per loop (mean ± std. dev. of 7 runs, 100 loops each)\n"
     ]
    }
   ],
   "source": [
    "%%timeit\n",
    "\n",
    "ai_abs_dls(mb, eval_func=ai14s, eval_params=eval_params, use_tt=True, maxdepth=8)"
   ]
  },
  {
   "cell_type": "code",
   "execution_count": 10,
   "id": "50292a36",
   "metadata": {},
   "outputs": [
    {
     "name": "stdout",
     "output_type": "stream",
     "text": [
      "174 ms ± 2.38 ms per loop (mean ± std. dev. of 7 runs, 1 loop each)\n"
     ]
    }
   ],
   "source": [
    "%%timeit\n",
    "\n",
    "ai_abs_dls(mb, eval_func=ai14s, eval_params=eval_params, maxdepth=8)"
   ]
  },
  {
   "cell_type": "code",
   "execution_count": 11,
   "id": "8f414c82",
   "metadata": {},
   "outputs": [],
   "source": [
    "mb = Marubatsu(check_coord=False)"
   ]
  },
  {
   "cell_type": "code",
   "execution_count": 12,
   "id": "cc9f9f61",
   "metadata": {},
   "outputs": [
    {
     "name": "stdout",
     "output_type": "stream",
     "text": [
      "215 ns ± 11 ns per loop (mean ± std. dev. of 7 runs, 1,000,000 loops each)\n"
     ]
    }
   ],
   "source": [
    "%%timeit\n",
    "mb.place_mark(1, 1, Marubatsu.CIRCLE)\n",
    "mb.remove_mark(1, 1)"
   ]
  },
  {
   "cell_type": "code",
   "execution_count": 13,
   "id": "d3da1424",
   "metadata": {},
   "outputs": [
    {
     "name": "stdout",
     "output_type": "stream",
     "text": [
      "ai2s VS ai2s\n"
     ]
    },
    {
     "name": "stderr",
     "output_type": "stream",
     "text": [
      "100%|██████████| 5000/5000 [00:01<00:00, 2915.41it/s]"
     ]
    },
    {
     "name": "stdout",
     "output_type": "stream",
     "text": [
      "count     win    lose    draw\n",
      "o        2875    1458     667\n",
      "x        1424    2929     647\n",
      "total    4299    4387    1314\n",
      "\n",
      "ratio     win    lose    draw\n",
      "o       57.5%   29.2%   13.3%\n",
      "x       28.5%   58.6%   12.9%\n",
      "total   43.0%   43.9%   13.1%\n",
      "\n"
     ]
    },
    {
     "name": "stderr",
     "output_type": "stream",
     "text": [
      "\n"
     ]
    },
    {
     "data": {
      "text/plain": [
       "[('count',\n",
       "  [{'win': 2875, 'lose': 1458, 'draw': 667},\n",
       "   {'win': 1424, 'lose': 2929, 'draw': 647},\n",
       "   {'win': 4299, 'lose': 4387, 'draw': 1314}],\n",
       "  '7d'),\n",
       " ('ratio',\n",
       "  [{'win': 0.575, 'lose': 0.2916, 'draw': 0.1334},\n",
       "   {'win': 0.2848, 'lose': 0.5858, 'draw': 0.1294},\n",
       "   {'win': 0.4299, 'lose': 0.4387, 'draw': 0.1314}],\n",
       "  '7.1%')]"
      ]
     },
     "execution_count": 13,
     "metadata": {},
     "output_type": "execute_result"
    }
   ],
   "source": [
    "ai_match(ai=[ai2s, ai2s], match_num=5000, mbparams={\"check_coord\": False})"
   ]
  },
  {
   "cell_type": "code",
   "execution_count": 14,
   "id": "263116a7",
   "metadata": {},
   "outputs": [
    {
     "name": "stdout",
     "output_type": "stream",
     "text": [
      "14.4 ms ± 122 μs per loop (mean ± std. dev. of 7 runs, 100 loops each)\n"
     ]
    }
   ],
   "source": [
    "%%timeit\n",
    "\n",
    "ai_abs_dls(mb, eval_func=ai14s, eval_params=eval_params, use_tt=True, maxdepth=8)"
   ]
  },
  {
   "cell_type": "code",
   "execution_count": 15,
   "id": "1086a91f",
   "metadata": {},
   "outputs": [
    {
     "name": "stdout",
     "output_type": "stream",
     "text": [
      "166 ms ± 3.62 ms per loop (mean ± std. dev. of 7 runs, 1 loop each)\n"
     ]
    }
   ],
   "source": [
    "%%timeit\n",
    "\n",
    "ai_abs_dls(mb, eval_func=ai14s, eval_params=eval_params, maxdepth=8)"
   ]
  },
  {
   "cell_type": "code",
   "execution_count": 16,
   "id": "7e22abcf",
   "metadata": {},
   "outputs": [],
   "source": [
    "def ai_play(self, ai, params):\n",
    "    self.restart()\n",
    "    while self.status == Marubatsu.PLAYING:\n",
    "        index = 0 if self.turn == Marubatsu.CIRCLE else 1\n",
    "        x, y = ai[index](self, **params[index])\n",
    "        self.move(x, y)\n",
    "    return self.status\n",
    "\n",
    "Marubatsu.ai_play = ai_play"
   ]
  }
 ],
 "metadata": {
  "kernelspec": {
   "display_name": "marubatsu313",
   "language": "python",
   "name": "python3"
  },
  "language_info": {
   "codemirror_mode": {
    "name": "ipython",
    "version": 3
   },
   "file_extension": ".py",
   "mimetype": "text/x-python",
   "name": "python",
   "nbconvert_exporter": "python",
   "pygments_lexer": "ipython3",
   "version": "3.13.5"
  }
 },
 "nbformat": 4,
 "nbformat_minor": 5
}
