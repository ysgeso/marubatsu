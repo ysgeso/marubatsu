{
 "cells": [
  {
   "cell_type": "code",
   "execution_count": 1,
   "metadata": {},
   "outputs": [
    {
     "name": "stdout",
     "output_type": "stream",
     "text": [
      "3\n",
      "[2]\n"
     ]
    }
   ],
   "source": [
    "a = [1]\n",
    "\n",
    "def add(x, y):\n",
    "    return x + y\n",
    "\n",
    "class A:\n",
    "    # クラスの定義のブロックの中で、グローバル変数 a の要素に値を代入する\n",
    "    a[0] = 2\n",
    "    # クラスの定義のブロックの中で、グローバル関数 add と組み込み関数 print を利用する\n",
    "    print(add(1, 2))\n",
    "\n",
    "# クラスの定義の実行により、グローバル変数 a の値が変化する\n",
    "print(a)"
   ]
  },
  {
   "cell_type": "code",
   "execution_count": 2,
   "metadata": {},
   "outputs": [],
   "source": [
    "class Marubatsu:\n",
    "    EMPTY = \".\"\n",
    "    CIRCLE = \"o\"\n",
    "    CROSS = \"x\"\n",
    "\n",
    "    def __init__(self):\n",
    "        self.initialize_board()\n",
    "\n",
    "    def initialize_board(self):\n",
    "        self.board = [[Marubatsu.EMPTY] * 3 for y in range(3)]\n",
    "\n",
    "    def place_mark(self, x, y, mark):\n",
    "        if self.board[x][y] == Marubatsu.EMPTY:\n",
    "            self.board[x][y] = mark\n",
    "        else:\n",
    "            print(\"(\", x, \",\", y, \") のマスにはマークが配置済です\")\n",
    "\n",
    "    def display_board(self):   \n",
    "        for y in range(3):\n",
    "            for x in range(3):\n",
    "                print(self.board[x][y], end=\"\")\n",
    "            print() "
   ]
  },
  {
   "cell_type": "code",
   "execution_count": 3,
   "metadata": {},
   "outputs": [],
   "source": [
    "class A:\n",
    "    X = 1\n",
    "\n",
    "    def printX():\n",
    "        print(A.X)"
   ]
  },
  {
   "cell_type": "code",
   "execution_count": 4,
   "metadata": {},
   "outputs": [],
   "source": [
    "class A:\n",
    "    def printX():\n",
    "        print(A.X)\n",
    "\n",
    "    X = 1"
   ]
  },
  {
   "cell_type": "code",
   "execution_count": 5,
   "metadata": {},
   "outputs": [
    {
     "name": "stdout",
     "output_type": "stream",
     "text": [
      "o..\n",
      "...\n",
      "...\n"
     ]
    }
   ],
   "source": [
    "mb = Marubatsu()\n",
    "mb.place_mark(0, 0, \"o\")\n",
    "mb.display_board()"
   ]
  },
  {
   "cell_type": "code",
   "execution_count": 6,
   "metadata": {},
   "outputs": [
    {
     "name": "stdout",
     "output_type": "stream",
     "text": [
      "o..\n",
      "...\n",
      "...\n"
     ]
    }
   ],
   "source": [
    "mb = Marubatsu()\n",
    "mb.place_mark(0, 0, \"o\")\n",
    "mb.display_board()"
   ]
  },
  {
   "cell_type": "code",
   "execution_count": 7,
   "metadata": {},
   "outputs": [
    {
     "name": "stdout",
     "output_type": "stream",
     "text": [
      "---\n",
      "---\n",
      "---\n"
     ]
    }
   ],
   "source": [
    "Marubatsu.EMPTY = \"-\"\n",
    "mb = Marubatsu()\n",
    "mb.display_board()"
   ]
  },
  {
   "cell_type": "code",
   "execution_count": 8,
   "metadata": {},
   "outputs": [],
   "source": [
    "Marubatsu.BOARD_SIZE = 3"
   ]
  },
  {
   "cell_type": "code",
   "execution_count": 9,
   "metadata": {},
   "outputs": [],
   "source": [
    "def initialize_board(self):\n",
    "    self.board = [[Marubatsu.EMPTY] * Marubatsu.BOARD_SIZE for y in range(Marubatsu.BOARD_SIZE)]\n",
    "\n",
    "def display_board(self):\n",
    "    for y in range(Marubatsu.BOARD_SIZE):\n",
    "        for x in range(Marubatsu.BOARD_SIZE):\n",
    "            print(self.board[x][y], end=\"\")\n",
    "        print()  \n",
    "\n",
    "Marubatsu.initialize_board = initialize_board\n",
    "Marubatsu.display_board = display_board"
   ]
  },
  {
   "cell_type": "code",
   "execution_count": 10,
   "metadata": {},
   "outputs": [
    {
     "name": "stdout",
     "output_type": "stream",
     "text": [
      "o--\n",
      "---\n",
      "---\n"
     ]
    }
   ],
   "source": [
    "mb = Marubatsu()\n",
    "mb.place_mark(0, 0, Marubatsu.CIRCLE)\n",
    "mb.display_board()"
   ]
  },
  {
   "cell_type": "code",
   "execution_count": 11,
   "metadata": {},
   "outputs": [
    {
     "name": "stdout",
     "output_type": "stream",
     "text": [
      "-----\n",
      "-----\n",
      "-----\n",
      "-----\n",
      "-----\n"
     ]
    }
   ],
   "source": [
    "Marubatsu.BOARD_SIZE = 5\n",
    "\n",
    "mb = Marubatsu()\n",
    "mb.display_board()"
   ]
  },
  {
   "cell_type": "code",
   "execution_count": 12,
   "metadata": {},
   "outputs": [],
   "source": [
    "class Marubatsu:\n",
    "    EMPTY = \".\"\n",
    "    CIRCLE = \"o\"\n",
    "    CROSS = \"x\"\n",
    "\n",
    "    def __init__(self, board_size=3):\n",
    "        self.BOARD_SIZE = board_size\n",
    "        self.initialize_board()\n",
    "\n",
    "    def initialize_board(self):\n",
    "        self.board = [[Marubatsu.EMPTY] * self.BOARD_SIZE for y in range(self.BOARD_SIZE)]\n",
    "\n",
    "    def place_mark(self, x, y, mark):\n",
    "        if self.board[x][y] == Marubatsu.EMPTY:\n",
    "            self.board[x][y] = mark\n",
    "        else:\n",
    "            print(\"(\", x, \",\", y, \") のマスにはマークが配置済です\")\n",
    "\n",
    "    def display_board(self):   \n",
    "        for y in range(self.BOARD_SIZE):\n",
    "            for x in range(self.BOARD_SIZE):\n",
    "                print(self.board[x][y], end=\"\")\n",
    "            print() "
   ]
  },
  {
   "cell_type": "code",
   "execution_count": 13,
   "metadata": {},
   "outputs": [
    {
     "name": "stdout",
     "output_type": "stream",
     "text": [
      "3x3 のゲーム盤\n",
      "...\n",
      "...\n",
      "...\n",
      "5x5 のゲーム盤\n",
      ".....\n",
      ".....\n",
      ".....\n",
      ".....\n",
      ".....\n"
     ]
    }
   ],
   "source": [
    "print(\"3x3 のゲーム盤\")\n",
    "mb = Marubatsu()\n",
    "mb.display_board()\n",
    "print(\"5x5 のゲーム盤\")\n",
    "mb = Marubatsu(5)\n",
    "mb.display_board()"
   ]
  },
  {
   "cell_type": "code",
   "execution_count": 14,
   "metadata": {},
   "outputs": [],
   "source": [
    "Marubatsu.count = 0"
   ]
  },
  {
   "cell_type": "code",
   "execution_count": 15,
   "metadata": {},
   "outputs": [],
   "source": [
    "def __init__(self, board_size=3):\n",
    "    Marubatsu.count += 1    # Marubatsu.count の値に 1 を加算する\n",
    "    self.BOARD_SIZE = board_size\n",
    "    self.initialize_board()\n",
    "\n",
    "Marubatsu.__init__ = __init__"
   ]
  },
  {
   "cell_type": "code",
   "execution_count": 16,
   "metadata": {},
   "outputs": [
    {
     "name": "stdout",
     "output_type": "stream",
     "text": [
      "1\n",
      "2\n"
     ]
    }
   ],
   "source": [
    "mb1 = Marubatsu()\n",
    "print(Marubatsu.count)\n",
    "mb2 = Marubatsu()\n",
    "print(Marubatsu.count)"
   ]
  },
  {
   "cell_type": "code",
   "execution_count": 17,
   "metadata": {},
   "outputs": [
    {
     "name": "stdout",
     "output_type": "stream",
     "text": [
      "2\n",
      "2\n"
     ]
    }
   ],
   "source": [
    "print(mb1.count)\n",
    "print(mb2.count)"
   ]
  },
  {
   "cell_type": "code",
   "execution_count": 18,
   "metadata": {},
   "outputs": [
    {
     "name": "stdout",
     "output_type": "stream",
     "text": [
      "o\n",
      "o\n",
      "丸\n",
      "o\n"
     ]
    }
   ],
   "source": [
    "mb = Marubatsu()\n",
    "print(mb.CIRCLE)\n",
    "print(Marubatsu.CIRCLE)\n",
    "\n",
    "mb.CIRCLE = \"丸\"\n",
    "print(mb.CIRCLE)\n",
    "print(Marubatsu.CIRCLE)"
   ]
  },
  {
   "cell_type": "code",
   "execution_count": 19,
   "metadata": {},
   "outputs": [],
   "source": [
    "class Marubatsu:\n",
    "    EMPTY = \".\"\n",
    "    CIRCLE = \"o\"\n",
    "    CROSS = \"x\"\n",
    "    count = 0\n",
    "\n",
    "    # クラスメソッド `add_count` を定義する\n",
    "    # 最初の仮引数 cls に、このメソッドを呼び出したクラスが代入される\n",
    "    @classmethod\n",
    "    def add_count(cls):\n",
    "        # クラスの count 属性の値に 1 を足す\n",
    "        cls.count += 1\n",
    "        # メッセージを表示する\n",
    "        print(cls.count, \"個目のインスタンスを作成しました\")\n",
    "\n",
    "    # イニシャライザの中で `add_count` を呼び出すように修正した\n",
    "    def __init__(self, board_size=3):\n",
    "        self.BOARD_SIZE = board_size\n",
    "        self.initialize_board()\n",
    "        Marubatsu.add_count()  # クラスメソッド add_count を呼び出す\n",
    "\n",
    "    def initialize_board(self):\n",
    "        self.board = [[Marubatsu.EMPTY] * self.BOARD_SIZE for y in range(self.BOARD_SIZE)]\n",
    "\n",
    "    def place_mark(self, x, y, mark):\n",
    "        if self.board[x][y] == Marubatsu.EMPTY:\n",
    "            self.board[x][y] = mark\n",
    "        else:\n",
    "            print(\"(\", x, \",\", y, \") のマスにはマークが配置済です\")\n",
    "\n",
    "    def display_board(self):   \n",
    "        for y in range(self.BOARD_SIZE):\n",
    "            for x in range(self.BOARD_SIZE):\n",
    "                print(self.board[x][y], end=\"\")\n",
    "            print()"
   ]
  },
  {
   "cell_type": "code",
   "execution_count": 20,
   "metadata": {},
   "outputs": [
    {
     "name": "stdout",
     "output_type": "stream",
     "text": [
      "1 個目のインスタンスを作成しました\n",
      "2 個目のインスタンスを作成しました\n"
     ]
    }
   ],
   "source": [
    "mb1 = Marubatsu()\n",
    "mb2 = Marubatsu()"
   ]
  },
  {
   "cell_type": "code",
   "execution_count": 21,
   "metadata": {},
   "outputs": [
    {
     "name": "stdout",
     "output_type": "stream",
     "text": [
      "3 個目のインスタンスを作成しました\n"
     ]
    }
   ],
   "source": [
    "mb1.add_count()"
   ]
  }
 ],
 "metadata": {
  "kernelspec": {
   "display_name": "marubatsu",
   "language": "python",
   "name": "python3"
  },
  "language_info": {
   "codemirror_mode": {
    "name": "ipython",
    "version": 3
   },
   "file_extension": ".py",
   "mimetype": "text/x-python",
   "name": "python",
   "nbconvert_exporter": "python",
   "pygments_lexer": "ipython3",
   "version": "3.11.4"
  },
  "orig_nbformat": 4
 },
 "nbformat": 4,
 "nbformat_minor": 2
}
