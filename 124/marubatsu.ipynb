{
 "cells": [
  {
   "cell_type": "code",
   "execution_count": 1,
   "metadata": {},
   "outputs": [
    {
     "data": {
      "application/vnd.jupyter.widget-view+json": {
       "model_id": "4772877628234d088a0a6170bb7f7031",
       "version_major": 2,
       "version_minor": 0
      },
      "text/plain": [
       "VBox(children=(HBox(children=(Checkbox(value=False, description='乱数の種', indent=False, layout=Layout(width='100…"
      ]
     },
     "metadata": {},
     "output_type": "display_data"
    },
    {
     "data": {
      "application/vnd.jupyter.widget-view+json": {
       "model_id": "d1c1b46e32274cc8b7c7324cc33573a5",
       "version_major": 2,
       "version_minor": 0
      },
      "text/plain": [
       "VBox(children=(Output(layout=Layout(display='none')), HBox(children=(Label(value='', layout=Layout(width='50px…"
      ]
     },
     "metadata": {},
     "output_type": "display_data"
    },
    {
     "ename": "KeyError",
     "evalue": "(1, 0)",
     "output_type": "error",
     "traceback": [
      "\u001b[1;31m---------------------------------------------------------------------------\u001b[0m",
      "\u001b[1;31mKeyError\u001b[0m                                  Traceback (most recent call last)",
      "File \u001b[1;32mc:\\Users\\ys\\ai\\marubatsu\\124\\marubatsu.py:856\u001b[0m, in \u001b[0;36mMarubatsu_GUI.create_event_handler.<locals>.on_prev_button_clicked\u001b[1;34m(b)\u001b[0m\n\u001b[0;32m    855\u001b[0m \u001b[38;5;28;01mdef\u001b[39;00m \u001b[38;5;21mon_prev_button_clicked\u001b[39m(b\u001b[38;5;241m=\u001b[39m\u001b[38;5;28;01mNone\u001b[39;00m):\n\u001b[1;32m--> 856\u001b[0m     change_step(\u001b[38;5;28mself\u001b[39m\u001b[38;5;241m.\u001b[39mmb\u001b[38;5;241m.\u001b[39mmove_count \u001b[38;5;241m-\u001b[39m \u001b[38;5;241m1\u001b[39m)\n",
      "File \u001b[1;32mc:\\Users\\ys\\ai\\marubatsu\\124\\marubatsu.py:850\u001b[0m, in \u001b[0;36mMarubatsu_GUI.create_event_handler.<locals>.change_step\u001b[1;34m(step)\u001b[0m\n\u001b[0;32m    848\u001b[0m \u001b[38;5;28mself\u001b[39m\u001b[38;5;241m.\u001b[39mmb\u001b[38;5;241m.\u001b[39mchange_step(step)\n\u001b[0;32m    849\u001b[0m \u001b[38;5;66;03m# 描画を更新する\u001b[39;00m\n\u001b[1;32m--> 850\u001b[0m \u001b[38;5;28mself\u001b[39m\u001b[38;5;241m.\u001b[39mupdate_gui()\n",
      "File \u001b[1;32mc:\\Users\\ys\\ai\\marubatsu\\124\\marubatsu.py:1059\u001b[0m, in \u001b[0;36mMarubatsu_GUI.update_gui\u001b[1;34m(self)\u001b[0m\n\u001b[0;32m   1056\u001b[0m \u001b[38;5;28;01mfrom\u001b[39;00m \u001b[38;5;21;01mtree\u001b[39;00m \u001b[38;5;28;01mimport\u001b[39;00m Node\n\u001b[0;32m   1058\u001b[0m \u001b[38;5;28mself\u001b[39m\u001b[38;5;241m.\u001b[39mmbtree_gui\u001b[38;5;241m.\u001b[39mselectednode \u001b[38;5;241m=\u001b[39m Node(\u001b[38;5;28mself\u001b[39m\u001b[38;5;241m.\u001b[39mmb, depth\u001b[38;5;241m=\u001b[39m\u001b[38;5;28mself\u001b[39m\u001b[38;5;241m.\u001b[39mmb\u001b[38;5;241m.\u001b[39mmove_count)\n\u001b[1;32m-> 1059\u001b[0m \u001b[38;5;28mself\u001b[39m\u001b[38;5;241m.\u001b[39mmbtree_gui\u001b[38;5;241m.\u001b[39mupdate_gui()\n",
      "File \u001b[1;32mc:\\Users\\ys\\ai\\marubatsu\\124\\tree.py:932\u001b[0m, in \u001b[0;36mMbtree_GUI.update_gui\u001b[1;34m(self)\u001b[0m\n\u001b[0;32m    930\u001b[0m     \u001b[38;5;28;01mfor\u001b[39;00m x, y \u001b[38;5;129;01min\u001b[39;00m \u001b[38;5;28mself\u001b[39m\u001b[38;5;241m.\u001b[39mselectednode\u001b[38;5;241m.\u001b[39mmb\u001b[38;5;241m.\u001b[39mrecords[\u001b[38;5;241m1\u001b[39m:\u001b[38;5;241m7\u001b[39m]:\n\u001b[0;32m    931\u001b[0m         centermb\u001b[38;5;241m.\u001b[39mmove(x, y)\n\u001b[1;32m--> 932\u001b[0m \u001b[38;5;28mself\u001b[39m\u001b[38;5;241m.\u001b[39mmbtree \u001b[38;5;241m=\u001b[39m Mbtree(subtree\u001b[38;5;241m=\u001b[39m{\u001b[38;5;124m\"\u001b[39m\u001b[38;5;124mcentermb\u001b[39m\u001b[38;5;124m\"\u001b[39m: centermb, \u001b[38;5;124m\"\u001b[39m\u001b[38;5;124mselectedmb\u001b[39m\u001b[38;5;124m\"\u001b[39m: \u001b[38;5;28mself\u001b[39m\u001b[38;5;241m.\u001b[39mselectednode\u001b[38;5;241m.\u001b[39mmb, \u001b[38;5;124m\"\u001b[39m\u001b[38;5;124mmaxdepth\u001b[39m\u001b[38;5;124m\"\u001b[39m: maxdepth, \n\u001b[0;32m    933\u001b[0m                     \u001b[38;5;124m\"\u001b[39m\u001b[38;5;124mbestmoves_and_score_by_board\u001b[39m\u001b[38;5;124m\"\u001b[39m: \u001b[38;5;28mself\u001b[39m\u001b[38;5;241m.\u001b[39mbestmoves_and_score_by_board})\n\u001b[0;32m    934\u001b[0m \u001b[38;5;28mself\u001b[39m\u001b[38;5;241m.\u001b[39mselectednode \u001b[38;5;241m=\u001b[39m \u001b[38;5;28mself\u001b[39m\u001b[38;5;241m.\u001b[39mmbtree\u001b[38;5;241m.\u001b[39mselectednode\n\u001b[0;32m    935\u001b[0m \u001b[38;5;28mself\u001b[39m\u001b[38;5;241m.\u001b[39mmbtree\u001b[38;5;241m.\u001b[39mdraw_subtree(centernode\u001b[38;5;241m=\u001b[39m\u001b[38;5;28mself\u001b[39m\u001b[38;5;241m.\u001b[39mmbtree\u001b[38;5;241m.\u001b[39mcenternode, selectednode\u001b[38;5;241m=\u001b[39m\u001b[38;5;28mself\u001b[39m\u001b[38;5;241m.\u001b[39mselectednode,\n\u001b[0;32m    936\u001b[0m                         show_bestmove\u001b[38;5;241m=\u001b[39m\u001b[38;5;28;01mTrue\u001b[39;00m, show_score\u001b[38;5;241m=\u001b[39m\u001b[38;5;28mself\u001b[39m\u001b[38;5;241m.\u001b[39mshow_score,\n\u001b[0;32m    937\u001b[0m                         ax\u001b[38;5;241m=\u001b[39m\u001b[38;5;28mself\u001b[39m\u001b[38;5;241m.\u001b[39max, maxdepth\u001b[38;5;241m=\u001b[39mmaxdepth, size\u001b[38;5;241m=\u001b[39m\u001b[38;5;28mself\u001b[39m\u001b[38;5;241m.\u001b[39msize)\n",
      "File \u001b[1;32mc:\\Users\\ys\\ai\\marubatsu\\124\\tree.py:270\u001b[0m, in \u001b[0;36mMbtree.__init__\u001b[1;34m(self, algo, shortest_victory, subtree)\u001b[0m\n\u001b[0;32m    268\u001b[0m \u001b[38;5;28;01mif\u001b[39;00m subtree \u001b[38;5;129;01mis\u001b[39;00m \u001b[38;5;129;01mnot\u001b[39;00m \u001b[38;5;28;01mNone\u001b[39;00m:\n\u001b[0;32m    269\u001b[0m     \u001b[38;5;28mself\u001b[39m\u001b[38;5;241m.\u001b[39msubtree \u001b[38;5;241m=\u001b[39m subtree\n\u001b[1;32m--> 270\u001b[0m     \u001b[38;5;28mself\u001b[39m\u001b[38;5;241m.\u001b[39mcreate_subtree()\n\u001b[0;32m    271\u001b[0m     \u001b[38;5;28;01mreturn\u001b[39;00m\n\u001b[0;32m    273\u001b[0m \u001b[38;5;28mself\u001b[39m\u001b[38;5;241m.\u001b[39malgo \u001b[38;5;241m=\u001b[39m algo\n",
      "File \u001b[1;32mc:\\Users\\ys\\ai\\marubatsu\\124\\tree.py:507\u001b[0m, in \u001b[0;36mMbtree.create_subtree\u001b[1;34m(self)\u001b[0m\n\u001b[0;32m    505\u001b[0m \u001b[38;5;28mself\u001b[39m\u001b[38;5;241m.\u001b[39mselectednode \u001b[38;5;241m=\u001b[39m \u001b[38;5;28mself\u001b[39m\u001b[38;5;241m.\u001b[39mroot\n\u001b[0;32m    506\u001b[0m \u001b[38;5;28;01mfor\u001b[39;00m move \u001b[38;5;129;01min\u001b[39;00m selectedmb\u001b[38;5;241m.\u001b[39mrecords[\u001b[38;5;241m1\u001b[39m:]:\n\u001b[1;32m--> 507\u001b[0m     \u001b[38;5;28mself\u001b[39m\u001b[38;5;241m.\u001b[39mselectednode \u001b[38;5;241m=\u001b[39m \u001b[38;5;28mself\u001b[39m\u001b[38;5;241m.\u001b[39mselectednode\u001b[38;5;241m.\u001b[39mchildren_by_move[move]\n",
      "\u001b[1;31mKeyError\u001b[0m: (1, 0)"
     ]
    }
   ],
   "source": [
    "from util import gui_play\n",
    "\n",
    "gui_play()"
   ]
  },
  {
   "cell_type": "code",
   "execution_count": 2,
   "metadata": {},
   "outputs": [],
   "source": [
    "from tree import Mbtree, Node\n",
    "from marubatsu import Marubatsu\n",
    "from copy import deepcopy\n",
    "\n",
    "def create_subtree(self):   \n",
    "    bestmoves_and_score_by_board = self.subtree[\"bestmoves_and_score_by_board\"]\n",
    "    self.root = Node(Marubatsu(), bestmoves_and_score_by_board=bestmoves_and_score_by_board)\n",
    "    \n",
    "    depth = 0\n",
    "    nodelist = [self.root]\n",
    "    centermb = self.subtree[\"centermb\"]\n",
    "    centerdepth = centermb.move_count\n",
    "    if centerdepth == 0:\n",
    "        self.centernode = self.root\n",
    "    records = centermb.records\n",
    "    maxdepth = self.subtree[\"maxdepth\"]\n",
    "    while len(nodelist) > 0:\n",
    "        childnodelist = []\n",
    "        for node in nodelist:\n",
    "            if depth < centerdepth - 1:\n",
    "                childmb = deepcopy(node.mb)\n",
    "                x, y = records[depth + 1]\n",
    "                childmb.move(x, y)\n",
    "                childnode = Node(childmb, parent=node, depth=depth+1, \n",
    "                                bestmoves_and_score_by_board=bestmoves_and_score_by_board)   \n",
    "                node.insert(childnode)\n",
    "                childnodelist.append(childnode)\n",
    "            elif depth < maxdepth:\n",
    "                node.calc_children(bestmoves_and_score_by_board=bestmoves_and_score_by_board)                   \n",
    "                if depth == centerdepth - 1:\n",
    "                    for move, childnode in node.children_by_move.items():\n",
    "                        if move == records[depth + 1]:\n",
    "                            self.centernode = childnode\n",
    "                            childnodelist.append(self.centernode)\n",
    "                        else:\n",
    "                            if childnode.mb.status == Marubatsu.PLAYING:\n",
    "                                childnode.children.append(None)\n",
    "                else:\n",
    "                    childnodelist += node.children\n",
    "            else:\n",
    "                if node.mb.status == Marubatsu.PLAYING:\n",
    "                    childmb = deepcopy(node.mb)\n",
    "                    board_str = node.mb.board_to_str()               \n",
    "                    x, y = bestmoves_and_score_by_board[board_str][\"bestmoves\"][0]\n",
    "                    childmb.move(x, y)\n",
    "                    childnode = Node(childmb, parent=node, depth=depth+1, \n",
    "                                    bestmoves_and_score_by_board=bestmoves_and_score_by_board)   \n",
    "                    node.insert(childnode)\n",
    "                    childnodelist.append(childnode)\n",
    "        nodelist = childnodelist\n",
    "        depth += 1\n",
    "\n",
    "    selectedmb = self.subtree[\"selectedmb\"]\n",
    "    self.selectednode = self.root\n",
    "    for move in selectedmb.records[1:selectedmb.move_count+1]:\n",
    "        self.selectednode = self.selectednode.children_by_move[move]\n",
    "    \n",
    "Mbtree.create_subtree = create_subtree"
   ]
  },
  {
   "cell_type": "code",
   "execution_count": 3,
   "metadata": {},
   "outputs": [
    {
     "data": {
      "application/vnd.jupyter.widget-view+json": {
       "model_id": "57e82c19f44f4673a94e82374f840165",
       "version_major": 2,
       "version_minor": 0
      },
      "text/plain": [
       "VBox(children=(HBox(children=(Checkbox(value=False, description='乱数の種', indent=False, layout=Layout(width='100…"
      ]
     },
     "metadata": {},
     "output_type": "display_data"
    },
    {
     "data": {
      "application/vnd.jupyter.widget-view+json": {
       "model_id": "5365f57db36a4bca88ebd5677b740399",
       "version_major": 2,
       "version_minor": 0
      },
      "text/plain": [
       "VBox(children=(Output(layout=Layout(display='none')), HBox(children=(Label(value='', layout=Layout(width='50px…"
      ]
     },
     "metadata": {},
     "output_type": "display_data"
    }
   ],
   "source": [
    "gui_play()"
   ]
  },
  {
   "cell_type": "code",
   "execution_count": 4,
   "metadata": {},
   "outputs": [],
   "source": [
    "from marubatsu import Marubatsu_GUI\n",
    "from tkinter import Tk\n",
    "import os\n",
    "\n",
    "def __init__(self, mb, params, names, ai_dict,\n",
    "             scoretable_dict, show_subtree, seed, size):   \n",
    "    if params is None:\n",
    "        params = [{}, {}]\n",
    "    if ai_dict is None:\n",
    "        ai_dict = {}\n",
    "    if names is None:\n",
    "        names = [None, None]\n",
    "    for i in range(2):\n",
    "        if names[i] is None:\n",
    "            if mb.ai[i] is None:\n",
    "                names[i] = \"人間\"\n",
    "            else:\n",
    "                names[i] = mb.ai[i].__name__\n",
    "    \n",
    "    # JupyterLab からファイルダイアログを開く際に必要な前処理\n",
    "    root = Tk()\n",
    "    root.withdraw()\n",
    "    root.call('wm', 'attributes', '.', '-topmost', True)  \n",
    "\n",
    "    # save フォルダが存在しない場合は作成する\n",
    "    if not os.path.exists(\"save\"):\n",
    "        os.mkdir(\"save\")        \n",
    "    \n",
    "    self.mb = mb\n",
    "    self.ai_dict = ai_dict\n",
    "    self.params = params\n",
    "    self.names = names\n",
    "    self.show_subtree = show_subtree\n",
    "    self.seed = seed\n",
    "    self.size = size\n",
    "    \n",
    "    super(Marubatsu_GUI, self).__init__()\n",
    "    \n",
    "    from tree import Mbtree_GUI\n",
    "\n",
    "    self.mbtree_gui = Mbtree_GUI(scoretable_dict, size=0.1)\n",
    "    self.mbtree_gui.vbox.layout.display = None if self.show_subtree else \"None\"    \n",
    "\n",
    "Marubatsu_GUI.__init__ = __init__"
   ]
  },
  {
   "cell_type": "code",
   "execution_count": 5,
   "metadata": {},
   "outputs": [],
   "source": [
    "def play(self, ai, ai_dict=None, params=None, names=None, scoretable_dict=None,\n",
    "         show_subtree=True, verbose=True, seed=None, gui=False, size=3):\n",
    "    # params が None の場合のデフォルト値を設定する\n",
    "    if params is None:\n",
    "        params = [{}, {}]\n",
    "        \n",
    "    # 一部の仮引数をインスタンスの属性に代入する\n",
    "    self.ai = ai\n",
    "    self.verbose = verbose\n",
    "    self.gui = gui\n",
    "    \n",
    "    # seed が None でない場合は、seed を乱数の種として設定する\n",
    "    if seed is not None:\n",
    "        random.seed(seed)\n",
    "\n",
    "    # gui が True の場合に、GUI の処理を行う Marubatsu_GUI のインスタンスを作成する\n",
    "    if gui:\n",
    "        mb_gui = Marubatsu_GUI(self, params=params, names=names, ai_dict=ai_dict, scoretable_dict=scoretable_dict, \n",
    "                               show_subtree=show_subtree, seed=seed, size=size)\n",
    "    else:\n",
    "        mb_gui = None\n",
    "        \n",
    "    self.restart()\n",
    "    return self.play_loop(mb_gui, params=params)\n",
    "\n",
    "Marubatsu.play = play"
   ]
  },
  {
   "cell_type": "code",
   "execution_count": 6,
   "metadata": {},
   "outputs": [],
   "source": [
    "import ipywidgets as widgets\n",
    "\n",
    "def create_widgets(self):\n",
    "    # 乱数の種の Checkbox と IntText を作成する\n",
    "    self.checkbox = widgets.Checkbox(value=self.seed is not None, description=\"乱数の種\",\n",
    "                                     indent=False, layout=widgets.Layout(width=\"100px\"))\n",
    "    self.inttext = widgets.IntText(value=0 if self.seed is None else self.seed,\n",
    "                                   layout=widgets.Layout(width=\"80px\"))   \n",
    "\n",
    "    # 読み書き、ヘルプのボタンを作成する\n",
    "    self.load_button = self.create_button(\"開く\", 50)\n",
    "    self.save_button = self.create_button(\"保存\", 50)\n",
    "    self.show_tree_button = self.create_button(\"木\", 34)\n",
    "    self.reset_tree_button = self.create_button(\"リ\", 34)\n",
    "    self.help_button = self.create_button(\"？\", 34)\n",
    "        \n",
    "    self.size_slider = widgets.FloatSlider(min=1.0, max=5.0, step=0.1,\n",
    "                                           description=\"size\", value=self.size)\n",
    "    \n",
    "    # AI を選択する Dropdown を作成する\n",
    "    self.create_dropdown()\n",
    "    # 変更、リセット、待ったボタンを作成する\n",
    "    self.change_button = self.create_button(\"変更\", 50)\n",
    "    self.reset_button = self.create_button(\"リセット\", 80)\n",
    "    self.undo_button = self.create_button(\"待った\", 60)    \n",
    "    \n",
    "    # リプレイのボタンとスライダーを作成する\n",
    "    self.first_button = self.create_button(\"<<\", 50)\n",
    "    self.prev_button = self.create_button(\"<\", 50)\n",
    "    self.next_button = self.create_button(\">\", 50)\n",
    "    self.last_button = self.create_button(\">>\", 50)     \n",
    "    self.slider = widgets.IntSlider(layout=widgets.Layout(width=\"200px\"))\n",
    "    # ゲーム盤の画像を表す figure を作成する\n",
    "    self.create_figure()\n",
    "\n",
    "    # print による文字列を表示する Output を作成する\n",
    "    self.output = widgets.Output()       \n",
    "    \n",
    "    # ヘルプを表示する Output を作成し、表示の設定を行う\n",
    "    self.help = widgets.Output()\n",
    "    self.print_helpmessage()\n",
    "    self.help.layout.display = \"none\"   \n",
    "    \n",
    "Marubatsu_GUI.create_widgets = create_widgets"
   ]
  },
  {
   "cell_type": "code",
   "execution_count": 7,
   "metadata": {},
   "outputs": [],
   "source": [
    "def display_widgets(self):\n",
    "    # 乱数の種のウィジェット、読み書き、ヘルプのボタンを横に配置した HBox を作成する\n",
    "    hbox1 = widgets.HBox([self.checkbox, self.inttext, self.load_button, self.save_button, \n",
    "                          self.show_tree_button, self.reset_tree_button, self.help_button])\n",
    "    # ゲーム盤のサイズの変更の FloatSlider を配置した HBox を作成する\n",
    "    hbox2 = widgets.HBox([self.size_slider])\n",
    "    # 〇 と × の dropdown とボタンを横に配置した HBox を作成する\n",
    "    hbox3 = widgets.HBox([self.dropdown_list[0], self.dropdown_list[1], self.change_button, self.reset_button, self.undo_button])\n",
    "    # リプレイ機能のボタンを横に配置した HBox を作成する\n",
    "    hbox4 = widgets.HBox([self.first_button, self.prev_button, self.next_button, self.last_button, self.slider]) \n",
    "    # hbox1 ~ hbox4、Figure、Output を縦に配置した VBox を作成し、表示する\n",
    "    display(widgets.VBox([hbox1, hbox2, hbox3, hbox4, self.fig.canvas, self.output, self.help])) \n",
    "\n",
    "Marubatsu_GUI.display_widgets = display_widgets"
   ]
  },
  {
   "cell_type": "code",
   "execution_count": 8,
   "metadata": {},
   "outputs": [
    {
     "data": {
      "application/vnd.jupyter.widget-view+json": {
       "model_id": "0066ff37bb334461b359e63dd81eeae0",
       "version_major": 2,
       "version_minor": 0
      },
      "text/plain": [
       "VBox(children=(HBox(children=(Checkbox(value=False, description='乱数の種', indent=False, layout=Layout(width='100…"
      ]
     },
     "metadata": {},
     "output_type": "display_data"
    },
    {
     "data": {
      "application/vnd.jupyter.widget-view+json": {
       "model_id": "4c129daff4fc4ba6945636b7c16eedc0",
       "version_major": 2,
       "version_minor": 0
      },
      "text/plain": [
       "VBox(children=(Output(layout=Layout(display='none')), HBox(children=(Label(value='', layout=Layout(width='50px…"
      ]
     },
     "metadata": {},
     "output_type": "display_data"
    }
   ],
   "source": [
    "gui_play()"
   ]
  },
  {
   "cell_type": "code",
   "execution_count": 9,
   "metadata": {},
   "outputs": [],
   "source": [
    "import math\n",
    "\n",
    "def create_event_handler(self):\n",
    "    # 乱数の種のチェックボックスのイベントハンドラを定義する\n",
    "    def on_checkbox_changed(changed):\n",
    "        self.update_widgets_status()\n",
    "        \n",
    "    self.checkbox.observe(on_checkbox_changed, names=\"value\")\n",
    "\n",
    "    # 開く、保存ボタンのイベントハンドラを定義する\n",
    "    def on_load_button_clicked(b=None):\n",
    "        path = filedialog.askopenfilename(filetypes=[(\"〇×ゲーム\", \"*.mbsav\")],\n",
    "                                        initialdir=\"save\")\n",
    "        if path != \"\":\n",
    "            with open(path, \"rb\") as f:\n",
    "                data = pickle.load(f)\n",
    "                self.mb.records = data[\"records\"]\n",
    "                self.mb.ai = data[\"ai\"]\n",
    "                self.params = data[\"params\"] if \"params\" in data else [ {}, {} ]\n",
    "                if \"names\" in data:\n",
    "                    names = data[\"names\"]\n",
    "                else:\n",
    "                    names = [ \"人間\" if mb.ai[i] is None else mb.ai[i].__name__ for i in range(2)]                       \n",
    "                options = self.dropdown_list[0].options.copy()\n",
    "                for i in range(2):\n",
    "                    value = (self.mb.ai[i], self.params[i]) \n",
    "                    if not value in options.values():\n",
    "                        options[names[i]] = value\n",
    "                for i in range(2):\n",
    "                    self.dropdown_list[i].options = options\n",
    "                    self.dropdown_list[i].value = (self.mb.ai[i], self.params[i])            \n",
    "                change_step(data[\"move_count\"])\n",
    "                if data[\"seed\"] is not None:                   \n",
    "                    self.checkbox.value = True\n",
    "                    self.inttext.value = data[\"seed\"]\n",
    "                else:\n",
    "                    self.checkbox.value = False\n",
    "                    \n",
    "    def on_save_button_clicked(b=None):\n",
    "        names = [ self.dropdown_list[i].label for i in range(2) ]     \n",
    "        timestr = datetime.now().strftime(\"%Y年%m月%d日 %H時%M分%S秒\")\n",
    "        fname = f\"{names[0]} VS {names[1]} {timestr}\"\n",
    "        path = filedialog.asksaveasfilename(filetypes=[(\"〇×ゲーム\", \"*.mbsav\")],\n",
    "                                            initialdir=\"save\", initialfile=fname,\n",
    "                                            defaultextension=\"mbsav\")\n",
    "        if path != \"\":\n",
    "            with open(path, \"wb\") as f:\n",
    "                data = {\n",
    "                    \"records\": self.mb.records,\n",
    "                    \"move_count\": self.mb.move_count,\n",
    "                    \"ai\": self.mb.ai,\n",
    "                    \"params\": self.params,\n",
    "                    \"names\": names,\n",
    "                    \"seed\": self.inttext.value if self.checkbox.value else None\n",
    "                }\n",
    "                pickle.dump(data, f)\n",
    "                \n",
    "    def on_show_tree_button_clicked(b=None):\n",
    "        self.show_subtree = not self.show_subtree\n",
    "        self.mbtree_gui.vbox.layout.display = None if self.show_subtree else \"none\"\n",
    "        self.update_gui()\n",
    "        \n",
    "    def on_reset_tree_button_clicked(b=None):\n",
    "        self.update_gui()\n",
    "                \n",
    "    def on_help_button_clicked(b=None):\n",
    "        self.help.layout.display = \"none\" if self.help.layout.display is None else None\n",
    "    \n",
    "    self.load_button.on_click(on_load_button_clicked)\n",
    "    self.save_button.on_click(on_save_button_clicked)\n",
    "    self.show_tree_button.on_click(on_show_tree_button_clicked)\n",
    "    self.reset_tree_button.on_click(on_reset_tree_button_clicked)\n",
    "    self.help_button.on_click(on_help_button_clicked)\n",
    "    \n",
    "    def on_size_slider_changed(changed):\n",
    "        self.size = changed[\"new\"]\n",
    "        self.fig.set_figwidth(self.size)\n",
    "        self.fig.set_figheight(self.size)\n",
    "        self.update_gui()\n",
    "\n",
    "    self.size_slider.observe(on_size_slider_changed, names=\"value\")\n",
    "    \n",
    "    # 変更ボタンのイベントハンドラを定義する\n",
    "    def on_change_button_clicked(b):\n",
    "        for i in range(2):\n",
    "            self.mb.ai[i], self.params[i] = self.dropdown_list[i].value\n",
    "        self.mb.play_loop(self, self.params)\n",
    "\n",
    "    # リセットボタンのイベントハンドラを定義する\n",
    "    def on_reset_button_clicked(b=None):\n",
    "        # 乱数の種のチェックボックスが ON の場合に、乱数の種の処理を行う\n",
    "        if self.checkbox.value:\n",
    "            random.seed(self.inttext.value)\n",
    "        self.mb.restart()\n",
    "        self.output.clear_output()\n",
    "        on_change_button_clicked(b)\n",
    "\n",
    "    # 待ったボタンのイベントハンドラを定義する\n",
    "    def on_undo_button_clicked(b=None):\n",
    "        if self.mb.move_count >= 2 and self.mb.move_count == len(self.mb.records) - 1:\n",
    "            self.mb.move_count -= 2\n",
    "            self.mb.records = self.mb.records[0:self.mb.move_count+1]\n",
    "            self.mb.change_step(self.mb.move_count)\n",
    "            self.update_gui()\n",
    "        \n",
    "    # イベントハンドラをボタンに結びつける\n",
    "    self.change_button.on_click(on_change_button_clicked)\n",
    "    self.reset_button.on_click(on_reset_button_clicked)   \n",
    "    self.undo_button.on_click(on_undo_button_clicked)   \n",
    "    \n",
    "    # step 手目の局面に移動する\n",
    "    def change_step(step):\n",
    "        self.mb.change_step(step)\n",
    "        # 描画を更新する\n",
    "        self.update_gui()        \n",
    "\n",
    "    def on_first_button_clicked(b=None):\n",
    "        change_step(0)\n",
    "\n",
    "    def on_prev_button_clicked(b=None):\n",
    "        change_step(self.mb.move_count - 1)\n",
    "\n",
    "    def on_next_button_clicked(b=None):\n",
    "        change_step(self.mb.move_count + 1)\n",
    "        \n",
    "    def on_last_button_clicked(b=None):\n",
    "        change_step(len(self.mb.records) - 1)\n",
    "\n",
    "    def on_slider_changed(changed):\n",
    "        if self.mb.move_count != changed[\"new\"]:\n",
    "            change_step(changed[\"new\"])\n",
    "        \n",
    "    self.first_button.on_click(on_first_button_clicked)\n",
    "    self.prev_button.on_click(on_prev_button_clicked)\n",
    "    self.next_button.on_click(on_next_button_clicked)\n",
    "    self.last_button.on_click(on_last_button_clicked)\n",
    "    self.slider.observe(on_slider_changed, names=\"value\")\n",
    "    \n",
    "    # ゲーム盤の上でマウスを押した場合のイベントハンドラ\n",
    "    def on_mouse_down(event):\n",
    "        # Axes の上でマウスを押していた場合のみ処理を行う\n",
    "        if event.inaxes and self.mb.status == Marubatsu.PLAYING:\n",
    "            x = math.floor(event.xdata)\n",
    "            y = math.floor(event.ydata)\n",
    "            with self.output:\n",
    "                self.mb.move(x, y)                \n",
    "            # 次の手番の処理を行うメソッドを呼び出す\n",
    "                self.mb.play_loop(self, self.params)\n",
    "\n",
    "    # ゲーム盤を選択した状態でキーを押した場合のイベントハンドラ\n",
    "    def on_key_press(event):\n",
    "        keymap = {\n",
    "            \"up\": on_first_button_clicked,\n",
    "            \"left\": on_prev_button_clicked,\n",
    "            \"right\": on_next_button_clicked,\n",
    "            \"down\": on_last_button_clicked,\n",
    "            \"0\": on_undo_button_clicked,\n",
    "            \"enter\": on_reset_button_clicked,            \n",
    "            \"-\": on_load_button_clicked,            \n",
    "            \"l\": on_load_button_clicked,            \n",
    "            \"+\": on_save_button_clicked,            \n",
    "            \"s\": on_save_button_clicked,            \n",
    "            \"*\": on_help_button_clicked,            \n",
    "            \"h\": on_help_button_clicked,            \n",
    "        }\n",
    "        if event.key in keymap:\n",
    "            keymap[event.key]()\n",
    "        else:\n",
    "            try:\n",
    "                num = int(event.key) - 1\n",
    "                event.inaxes = True\n",
    "                event.xdata = num % 3\n",
    "                event.ydata = 2 - (num // 3)\n",
    "                on_mouse_down(event)\n",
    "            except:\n",
    "                pass\n",
    "            \n",
    "    # fig の画像イベントハンドラを結び付ける\n",
    "    self.fig.canvas.mpl_connect(\"button_press_event\", on_mouse_down)     \n",
    "    self.fig.canvas.mpl_connect(\"key_press_event\", on_key_press)   \n",
    "    \n",
    "Marubatsu_GUI.create_event_handler = create_event_handler"
   ]
  },
  {
   "cell_type": "code",
   "execution_count": 10,
   "metadata": {},
   "outputs": [],
   "source": [
    "def update_widgets_status(self):\n",
    "    self.inttext.disabled = not self.checkbox.value\n",
    "    self.set_button_color(self.show_tree_button, self.show_subtree)    \n",
    "    self.set_button_status(self.reset_tree_button, not self.show_subtree)    \n",
    "    self.set_button_status(self.undo_button, self.mb.move_count < 2 or self.mb.move_count != len(self.mb.records) - 1)\n",
    "    self.set_button_status(self.first_button, self.mb.move_count <= 0)\n",
    "    self.set_button_status(self.prev_button, self.mb.move_count <= 0)\n",
    "    self.set_button_status(self.next_button, self.mb.move_count >= len(self.mb.records) - 1)\n",
    "    self.set_button_status(self.last_button, self.mb.move_count >= len(self.mb.records) - 1)    \n",
    "    # value 属性よりも先に max 属性に値を代入する必要がある点に注意！\n",
    "    self.slider.max = len(self.mb.records) - 1\n",
    "    self.slider.value = self.mb.move_count\n",
    "\n",
    "Marubatsu_GUI.update_widgets_status = update_widgets_status"
   ]
  },
  {
   "cell_type": "code",
   "execution_count": 11,
   "metadata": {},
   "outputs": [
    {
     "data": {
      "application/vnd.jupyter.widget-view+json": {
       "model_id": "386a4a2758b7409ea86d33468fb3e4f9",
       "version_major": 2,
       "version_minor": 0
      },
      "text/plain": [
       "VBox(children=(HBox(children=(Checkbox(value=False, description='乱数の種', indent=False, layout=Layout(width='100…"
      ]
     },
     "metadata": {},
     "output_type": "display_data"
    },
    {
     "data": {
      "application/vnd.jupyter.widget-view+json": {
       "model_id": "619813bfbc344e7d858efb6e4300ee89",
       "version_major": 2,
       "version_minor": 0
      },
      "text/plain": [
       "VBox(children=(Output(layout=Layout(display='none')), HBox(children=(Label(value='', layout=Layout(width='50px…"
      ]
     },
     "metadata": {},
     "output_type": "display_data"
    }
   ],
   "source": [
    "gui_play()"
   ]
  },
  {
   "cell_type": "code",
   "execution_count": 12,
   "metadata": {},
   "outputs": [],
   "source": [
    "def update_gui(self):\n",
    "    ax = self.ax\n",
    "    ai = self.mb.ai\n",
    "\n",
    "    # Axes の内容をクリアして、これまでの描画内容を削除する\n",
    "    ax.clear()\n",
    "\n",
    "    # y 軸を反転させる\n",
    "    ax.invert_yaxis()\n",
    "\n",
    "    # 枠と目盛りを表示しないようにする\n",
    "    ax.axis(\"off\")   \n",
    "\n",
    "    # リプレイ中、ゲームの決着がついていた場合は背景色を変更する\n",
    "    is_replay =  self.mb.move_count < len(self.mb.records) - 1 \n",
    "    if self.mb.status == Marubatsu.PLAYING:\n",
    "        facecolor = \"lightcyan\" if is_replay else \"white\"\n",
    "    else:\n",
    "        facecolor = \"lightyellow\"\n",
    "\n",
    "    ax.figure.set_facecolor(facecolor)\n",
    "        \n",
    "    # 上部のメッセージを描画する\n",
    "    # 対戦カードの文字列を計算する\n",
    "    ax.text(1.5, 3.5, f\"{self.dropdown_list[0].label}　VS　{self.dropdown_list[1].label}\", \n",
    "            fontsize=7*self.size, ha=\"center\")   \n",
    "\n",
    "    # ゲームの決着がついていない場合は、手番を表示する\n",
    "    if self.mb.status == Marubatsu.PLAYING:\n",
    "        text = \"Turn \" + self.mb.turn\n",
    "    # 引き分けの場合\n",
    "    elif self.mb.status == Marubatsu.DRAW:\n",
    "        text = \"Draw game\"\n",
    "    # 決着がついていれば勝者を表示する\n",
    "    else:\n",
    "        text = \"Winner \" + self.mb.status\n",
    "    # リプレイ中の場合は \"Replay\" を表示する\n",
    "    if is_replay:\n",
    "        text += \" Replay\"\n",
    "    ax.text(0, -0.2, text, fontsize=7*self.size)\n",
    "\n",
    "    self.draw_board(ax, self.mb)\n",
    "\n",
    "    self.update_widgets_status()\n",
    "\n",
    "    if hasattr(self, \"mbtree_gui\"):\n",
    "        from tree import Node\n",
    "\n",
    "        self.mbtree_gui.selectednode = Node(self.mb, depth=self.mb.move_count)\n",
    "        self.mbtree_gui.update_gui()\n",
    "        \n",
    "Marubatsu_GUI.update_gui = update_gui"
   ]
  },
  {
   "cell_type": "code",
   "execution_count": 13,
   "metadata": {},
   "outputs": [
    {
     "data": {
      "application/vnd.jupyter.widget-view+json": {
       "model_id": "84ebea45aa5f40b9bf816d86411a314e",
       "version_major": 2,
       "version_minor": 0
      },
      "text/plain": [
       "VBox(children=(HBox(children=(Checkbox(value=False, description='乱数の種', indent=False, layout=Layout(width='100…"
      ]
     },
     "metadata": {},
     "output_type": "display_data"
    },
    {
     "data": {
      "application/vnd.jupyter.widget-view+json": {
       "model_id": "b8652951060242cf965915796b995152",
       "version_major": 2,
       "version_minor": 0
      },
      "text/plain": [
       "VBox(children=(Output(layout=Layout(display='none')), HBox(children=(Label(value='', layout=Layout(width='50px…"
      ]
     },
     "metadata": {},
     "output_type": "display_data"
    }
   ],
   "source": [
    "gui_play()"
   ]
  },
  {
   "cell_type": "code",
   "execution_count": 14,
   "metadata": {},
   "outputs": [],
   "source": [
    "def update_gui(self):\n",
    "    ax = self.ax\n",
    "    ai = self.mb.ai\n",
    "\n",
    "    # Axes の内容をクリアして、これまでの描画内容を削除する\n",
    "    ax.clear()\n",
    "\n",
    "    # y 軸を反転させる\n",
    "    ax.invert_yaxis()\n",
    "\n",
    "    # 枠と目盛りを表示しないようにする\n",
    "    ax.axis(\"off\")   \n",
    "\n",
    "    # リプレイ中、ゲームの決着がついていた場合は背景色を変更する\n",
    "    is_replay =  self.mb.move_count < len(self.mb.records) - 1 \n",
    "    if self.mb.status == Marubatsu.PLAYING:\n",
    "        facecolor = \"lightcyan\" if is_replay else \"white\"\n",
    "    else:\n",
    "        facecolor = \"lightyellow\"\n",
    "\n",
    "    ax.figure.set_facecolor(facecolor)\n",
    "        \n",
    "    # 上部のメッセージを描画する\n",
    "    # 対戦カードの文字列を計算する\n",
    "    ax.text(1.5, 3.5, f\"{self.dropdown_list[0].label}　VS　{self.dropdown_list[1].label}\", \n",
    "            fontsize=7*self.size, ha=\"center\")   \n",
    "\n",
    "    # ゲームの決着がついていない場合は、手番を表示する\n",
    "    if self.mb.status == Marubatsu.PLAYING:\n",
    "        text = \"Turn \" + self.mb.turn\n",
    "    # 引き分けの場合\n",
    "    elif self.mb.status == Marubatsu.DRAW:\n",
    "        text = \"Draw game\"\n",
    "    # 決着がついていれば勝者を表示する\n",
    "    else:\n",
    "        text = \"Winner \" + self.mb.status\n",
    "    # リプレイ中の場合は \"Replay\" を表示する\n",
    "    if is_replay:\n",
    "        text += \" Replay\"\n",
    "    ax.text(0, -0.2, text, fontsize=7*self.size)\n",
    "\n",
    "    self.draw_board(ax, self.mb, lw=0.7*self.size)\n",
    "\n",
    "    self.update_widgets_status()\n",
    "\n",
    "    if hasattr(self, \"mbtree_gui\"):\n",
    "        from tree import Node\n",
    "\n",
    "        self.mbtree_gui.selectednode = Node(self.mb, depth=self.mb.move_count)\n",
    "        self.mbtree_gui.update_gui()\n",
    "        \n",
    "Marubatsu_GUI.update_gui = update_gui"
   ]
  },
  {
   "cell_type": "code",
   "execution_count": 15,
   "metadata": {},
   "outputs": [
    {
     "data": {
      "application/vnd.jupyter.widget-view+json": {
       "model_id": "e889bb6477cd4f7ea84569641ebc3586",
       "version_major": 2,
       "version_minor": 0
      },
      "text/plain": [
       "VBox(children=(HBox(children=(Checkbox(value=False, description='乱数の種', indent=False, layout=Layout(width='100…"
      ]
     },
     "metadata": {},
     "output_type": "display_data"
    },
    {
     "data": {
      "application/vnd.jupyter.widget-view+json": {
       "model_id": "ade80bf9674e45d784d8f34c45f046fd",
       "version_major": 2,
       "version_minor": 0
      },
      "text/plain": [
       "VBox(children=(Output(layout=Layout(display='none')), HBox(children=(Label(value='', layout=Layout(width='50px…"
      ]
     },
     "metadata": {},
     "output_type": "display_data"
    }
   ],
   "source": [
    "gui_play()"
   ]
  }
 ],
 "metadata": {
  "kernelspec": {
   "display_name": "marubatsu",
   "language": "python",
   "name": "python3"
  },
  "language_info": {
   "codemirror_mode": {
    "name": "ipython",
    "version": 3
   },
   "file_extension": ".py",
   "mimetype": "text/x-python",
   "name": "python",
   "nbconvert_exporter": "python",
   "pygments_lexer": "ipython3",
   "version": "3.11.4"
  }
 },
 "nbformat": 4,
 "nbformat_minor": 2
}
