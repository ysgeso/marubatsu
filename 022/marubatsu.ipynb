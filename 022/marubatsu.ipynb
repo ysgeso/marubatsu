{
 "cells": [
  {
   "cell_type": "code",
   "execution_count": 1,
   "metadata": {},
   "outputs": [],
   "source": [
    "from marubatsu import Marubatsu\n",
    "\n",
    "def __init__(self, board_size=3):\n",
    "    self.BOARD_SIZE = board_size\n",
    "    self.initialize_board()\n",
    "    self.turn = Marubatsu.CIRCLE\n",
    "\n",
    "Marubatsu.__init__ = __init__"
   ]
  },
  {
   "cell_type": "code",
   "execution_count": 2,
   "metadata": {},
   "outputs": [
    {
     "name": "stdout",
     "output_type": "stream",
     "text": [
      "o\n"
     ]
    }
   ],
   "source": [
    "mb = Marubatsu()\n",
    "print(mb.turn)"
   ]
  },
  {
   "cell_type": "code",
   "execution_count": 3,
   "metadata": {},
   "outputs": [],
   "source": [
    "def restart(self):\n",
    "    self.initialize_board()\n",
    "    self.turn = Marubatsu.CIRCLE\n",
    "\n",
    "Marubatsu.restart = restart"
   ]
  },
  {
   "cell_type": "code",
   "execution_count": 4,
   "metadata": {},
   "outputs": [],
   "source": [
    "def __init__(self, board_size=3):\n",
    "    self.BOARD_SIZE = board_size\n",
    "    self.restart()\n",
    "\n",
    "Marubatsu.__init__ = __init__"
   ]
  },
  {
   "cell_type": "code",
   "execution_count": 5,
   "metadata": {},
   "outputs": [
    {
     "name": "stdout",
     "output_type": "stream",
     "text": [
      "o\n"
     ]
    }
   ],
   "source": [
    "mb = Marubatsu()\n",
    "print(mb.turn)"
   ]
  },
  {
   "cell_type": "code",
   "execution_count": 6,
   "metadata": {},
   "outputs": [
    {
     "name": "stdout",
     "output_type": "stream",
     "text": [
      "...\n",
      "...\n",
      "...\n"
     ]
    }
   ],
   "source": [
    "mb.display_board()"
   ]
  },
  {
   "cell_type": "code",
   "execution_count": 7,
   "metadata": {},
   "outputs": [],
   "source": [
    "def display_board(self):\n",
    "    print(\"Turn\", self.turn)\n",
    "    for y in range(self.BOARD_SIZE):\n",
    "        for x in range(self.BOARD_SIZE):\n",
    "            print(self.board[x][y], end=\"\")\n",
    "        print()\n",
    "\n",
    "Marubatsu.display_board = display_board"
   ]
  },
  {
   "cell_type": "code",
   "execution_count": 8,
   "metadata": {},
   "outputs": [
    {
     "name": "stdout",
     "output_type": "stream",
     "text": [
      "Turn o\n",
      "...\n",
      "...\n",
      "...\n"
     ]
    }
   ],
   "source": [
    "mb.display_board()"
   ]
  },
  {
   "cell_type": "code",
   "execution_count": 9,
   "metadata": {},
   "outputs": [
    {
     "name": "stdout",
     "output_type": "stream",
     "text": [
      "<marubatsu.Marubatsu object at 0x000001FA99D53B50>\n"
     ]
    }
   ],
   "source": [
    "print(mb)"
   ]
  },
  {
   "cell_type": "code",
   "execution_count": 10,
   "metadata": {},
   "outputs": [],
   "source": [
    "def __str__(self):\n",
    "    return \"〇×ゲーム\"\n",
    "\n",
    "Marubatsu.__str__ = __str__"
   ]
  },
  {
   "cell_type": "code",
   "execution_count": 11,
   "metadata": {},
   "outputs": [
    {
     "name": "stdout",
     "output_type": "stream",
     "text": [
      "〇×ゲーム\n"
     ]
    }
   ],
   "source": [
    "print(mb)"
   ]
  },
  {
   "cell_type": "code",
   "execution_count": 12,
   "metadata": {},
   "outputs": [],
   "source": [
    "def __str__(self):\n",
    "    text = \"Turn \" + self.turn + \"\\n\"\n",
    "    for y in range(self.BOARD_SIZE):\n",
    "        for x in range(self.BOARD_SIZE):\n",
    "            text += self.board[x][y]\n",
    "        text += \"\\n\"\n",
    "    return text\n",
    "\n",
    "Marubatsu.__str__ = __str__"
   ]
  },
  {
   "cell_type": "code",
   "execution_count": 13,
   "metadata": {},
   "outputs": [
    {
     "name": "stdout",
     "output_type": "stream",
     "text": [
      "Turn o\n",
      "...\n",
      "...\n",
      "...\n",
      "\n"
     ]
    }
   ],
   "source": [
    "print(mb)"
   ]
  },
  {
   "cell_type": "code",
   "execution_count": 14,
   "metadata": {},
   "outputs": [
    {
     "name": "stdout",
     "output_type": "stream",
     "text": [
      "Turn o\n",
      "o..\n",
      "...\n",
      "...\n",
      "\n"
     ]
    }
   ],
   "source": [
    "mb.place_mark(0, 0, mb.turn)\n",
    "print(mb)"
   ]
  },
  {
   "cell_type": "code",
   "execution_count": 15,
   "metadata": {},
   "outputs": [
    {
     "name": "stdout",
     "output_type": "stream",
     "text": [
      "Turn x\n",
      "o..\n",
      "...\n",
      "...\n",
      "\n"
     ]
    }
   ],
   "source": [
    "if mb.turn == Marubatsu.CIRCLE:\n",
    "    mb.turn = Marubatsu.CROSS\n",
    "else:\n",
    "    mb.turn = Marubatsu.CIRCLE\n",
    "\n",
    "print(mb)"
   ]
  },
  {
   "cell_type": "code",
   "execution_count": 16,
   "metadata": {},
   "outputs": [
    {
     "name": "stdout",
     "output_type": "stream",
     "text": [
      "Turn o\n",
      "ox.\n",
      "...\n",
      "...\n",
      "\n"
     ]
    }
   ],
   "source": [
    "mb.place_mark(1, 0, mb.turn)\n",
    "if mb.turn == Marubatsu.CIRCLE:\n",
    "    mb.turn = Marubatsu.CROSS\n",
    "else:\n",
    "    mb.turn = Marubatsu.CIRCLE\n",
    "\n",
    "print(mb)"
   ]
  },
  {
   "cell_type": "code",
   "execution_count": 17,
   "metadata": {},
   "outputs": [],
   "source": [
    "def move(self, x, y):\n",
    "    self.place_mark(x, y, self.turn)\n",
    "    if self.turn == Marubatsu.CIRCLE:\n",
    "        self.turn = Marubatsu.CROSS\n",
    "    else:\n",
    "        self.turn = Marubatsu.CIRCLE    \n",
    "\n",
    "Marubatsu.move = move"
   ]
  },
  {
   "cell_type": "code",
   "execution_count": 18,
   "metadata": {},
   "outputs": [
    {
     "name": "stdout",
     "output_type": "stream",
     "text": [
      "Turn x\n",
      "...\n",
      ".o.\n",
      "...\n",
      "\n"
     ]
    }
   ],
   "source": [
    "mb.restart()\n",
    "mb.move(1, 1)\n",
    "print(mb)"
   ]
  },
  {
   "cell_type": "code",
   "execution_count": 19,
   "metadata": {},
   "outputs": [
    {
     "name": "stdout",
     "output_type": "stream",
     "text": [
      "( 1 , 1 ) のマスにはマークが配置済です\n",
      "Turn o\n",
      "...\n",
      ".o.\n",
      "...\n",
      "\n"
     ]
    }
   ],
   "source": [
    "mb.move(1, 1)\n",
    "print(mb)"
   ]
  },
  {
   "cell_type": "code",
   "execution_count": 20,
   "metadata": {},
   "outputs": [],
   "source": [
    "def place_mark(self, x, y, mark):\n",
    "    if self.board[x][y] == Marubatsu.EMPTY:\n",
    "        self.board[x][y] = mark\n",
    "        return True\n",
    "    else:\n",
    "        print(\"(\", x, \",\", y, \") のマスにはマークが配置済です\")\n",
    "        return False\n",
    "\n",
    "Marubatsu.place_mark = place_mark"
   ]
  },
  {
   "cell_type": "code",
   "execution_count": 21,
   "metadata": {},
   "outputs": [],
   "source": [
    "def move(self, x, y):\n",
    "    if self.place_mark(x, y, self.turn):\n",
    "        if self.turn == Marubatsu.CIRCLE:\n",
    "            self.turn = Marubatsu.CROSS\n",
    "        else:\n",
    "            self.turn = Marubatsu.CIRCLE    \n",
    "\n",
    "Marubatsu.move = move"
   ]
  },
  {
   "cell_type": "code",
   "execution_count": 22,
   "metadata": {},
   "outputs": [
    {
     "name": "stdout",
     "output_type": "stream",
     "text": [
      "Turn x\n",
      "o..\n",
      "...\n",
      "...\n",
      "\n",
      "( 0 , 0 ) のマスにはマークが配置済です\n",
      "Turn x\n",
      "o..\n",
      "...\n",
      "...\n",
      "\n",
      "( 0 , 0 ) のマスにはマークが配置済です\n",
      "Turn x\n",
      "o..\n",
      "...\n",
      "...\n",
      "\n"
     ]
    }
   ],
   "source": [
    "mb.restart()\n",
    "for i in range(3):\n",
    "    mb.move(0, 0)\n",
    "    print(mb)"
   ]
  }
 ],
 "metadata": {
  "kernelspec": {
   "display_name": "marubatsu",
   "language": "python",
   "name": "python3"
  },
  "language_info": {
   "codemirror_mode": {
    "name": "ipython",
    "version": 3
   },
   "file_extension": ".py",
   "mimetype": "text/x-python",
   "name": "python",
   "nbconvert_exporter": "python",
   "pygments_lexer": "ipython3",
   "version": "3.11.4"
  },
  "orig_nbformat": 4
 },
 "nbformat": 4,
 "nbformat_minor": 2
}
