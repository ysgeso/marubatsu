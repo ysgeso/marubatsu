{
 "cells": [
  {
   "cell_type": "code",
   "execution_count": 1,
   "metadata": {},
   "outputs": [],
   "source": [
    "from random import choice\n",
    "from copy import deepcopy\n",
    " \n",
    "def ai6(mb_orig):\n",
    "    # mb_orig の合法手の中で、自分が勝利できる合法手があればそこに着手する\n",
    "    legal_moves = mb_orig.calc_legal_moves()\n",
    "    # 合法手が 1 つしかない場合は、その合法手を返り値として返す\n",
    "    if len(legal_moves) == 1:\n",
    "        return legal_moves[0]\n",
    "    for move in legal_moves:\n",
    "        mb = deepcopy(mb_orig)\n",
    "        x, y = move\n",
    "        mb.move(x, y)\n",
    "        if mb.status == mb_orig.turn:\n",
    "            return move\n",
    "        # mb は、mb_orig に対して、move に着手を行った、相手の手番の局面\n",
    "        # mb の合法手の中で、相手が勝利できる合法手があればそこに着手して相手の勝利を阻止する\n",
    "        next_legal_moves = mb.calc_legal_moves()       \n",
    "        for next_move in next_legal_moves:\n",
    "            next_mb = deepcopy(mb)                \n",
    "            x, y = next_move\n",
    "            next_mb.move(x, y)\n",
    "            if next_mb.status == mb.turn:\n",
    "                return next_move\n",
    "        \n",
    "    return choice(legal_moves)"
   ]
  },
  {
   "cell_type": "code",
   "execution_count": 2,
   "metadata": {},
   "outputs": [
    {
     "name": "stdout",
     "output_type": "stream",
     "text": [
      "ai6 VS ai2\n",
      "count     win    lose    draw\n",
      "o        8797     147    1056\n",
      "x        6772     675    2553\n",
      "total   15569     822    3609\n",
      "\n",
      "ratio     win    lose    draw\n",
      "o       88.0%    1.5%   10.6%\n",
      "x       67.7%    6.8%   25.5%\n",
      "total   77.8%    4.1%   18.0%\n",
      "\n"
     ]
    }
   ],
   "source": [
    "from ai import ai_match, ai2, ai3, ai4, ai5\n",
    "\n",
    "ai_match(ai=[ai6, ai2])"
   ]
  },
  {
   "cell_type": "code",
   "execution_count": 3,
   "metadata": {},
   "outputs": [
    {
     "name": "stdout",
     "output_type": "stream",
     "text": [
      "ai6 VS ai2\n",
      "count     win    lose    draw\n",
      "o         876      16     108\n",
      "x         679      58     263\n",
      "total    1555      74     371\n",
      "\n",
      "ratio     win    lose    draw\n",
      "o       87.6%    1.6%   10.8%\n",
      "x       67.9%    5.8%   26.3%\n",
      "total   77.8%    3.7%   18.6%\n",
      "\n"
     ]
    }
   ],
   "source": [
    "ai_match(ai=[ai6, ai2], match_num=1000)"
   ]
  },
  {
   "cell_type": "code",
   "execution_count": 4,
   "metadata": {},
   "outputs": [],
   "source": [
    "def ai6(mb_orig):\n",
    "    # mb_orig の合法手の中で、自分が勝利できる合法手があればそこに着手する\n",
    "    legal_moves = mb_orig.calc_legal_moves()\n",
    "    # 合法手が 1 つしかない場合は、その合法手を返り値として返す\n",
    "    if len(legal_moves) == 1:\n",
    "        return legal_moves[0]\n",
    "    for move in legal_moves:\n",
    "        mb = deepcopy(mb_orig)\n",
    "        x, y = move\n",
    "        mb.move(x, y)\n",
    "        if mb.status == mb_orig.turn:\n",
    "            return move\n",
    "    # 〇 が勝利する合法手が存在しないことが確定したので、手順 3 を行う\n",
    "    for move in legal_moves:\n",
    "        mb = deepcopy(mb_orig)\n",
    "        x, y = move\n",
    "        mb.move(x, y)\n",
    "        # mb は、mb_orig に対して、move に着手を行った、相手の手番の局面\n",
    "        # mb の合法手の中で、相手が勝利できる合法手があればそこに着手して相手の勝利を阻止する\n",
    "        next_legal_moves = mb.calc_legal_moves()       \n",
    "        for next_move in next_legal_moves:\n",
    "            next_mb = deepcopy(mb)                \n",
    "            x, y = next_move\n",
    "            next_mb.move(x, y)\n",
    "            if next_mb.status == mb.turn:\n",
    "                return next_move\n",
    "        \n",
    "    return choice(legal_moves)"
   ]
  },
  {
   "cell_type": "code",
   "execution_count": 5,
   "metadata": {},
   "outputs": [
    {
     "name": "stdout",
     "output_type": "stream",
     "text": [
      "ai6 VS ai2\n",
      "count     win    lose    draw\n",
      "o         889      22      89\n",
      "x         703      62     235\n",
      "total    1592      84     324\n",
      "\n",
      "ratio     win    lose    draw\n",
      "o       88.9%    2.2%    8.9%\n",
      "x       70.3%    6.2%   23.5%\n",
      "total   79.6%    4.2%   16.2%\n",
      "\n"
     ]
    }
   ],
   "source": [
    "ai_match(ai=[ai6, ai2], match_num=1000)"
   ]
  },
  {
   "cell_type": "code",
   "execution_count": 6,
   "metadata": {},
   "outputs": [],
   "source": [
    "def ai6(mb_orig):\n",
    "    # mb_orig の合法手の中で、自分が勝利できる合法手があればそこに着手する\n",
    "    legal_moves = mb_orig.calc_legal_moves()\n",
    "    # 合法手が 1 つしかない場合は、その合法手を返り値として返す\n",
    "    if len(legal_moves) == 1:\n",
    "        return legal_moves[0]\n",
    "    mb_list = []\n",
    "    for move in legal_moves:\n",
    "        mb = deepcopy(mb_orig)\n",
    "        x, y = move\n",
    "        mb.move(x, y)\n",
    "        mb_list.append(mb)\n",
    "        if mb.status == mb_orig.turn:\n",
    "            return move\n",
    "    # 〇 が勝利する合法手が存在しないことが確定したので、手順 3 を行う\n",
    "    for mb in mb_list:\n",
    "        # mb は、mb_orig に対して、move に着手を行った、相手の手番の局面\n",
    "        # mb の合法手の中で、相手が勝利できる合法手があればそこに着手して相手の勝利を阻止する\n",
    "        next_legal_moves = mb.calc_legal_moves()       \n",
    "        for next_move in next_legal_moves:\n",
    "            next_mb = deepcopy(mb)                \n",
    "            x, y = next_move\n",
    "            next_mb.move(x, y)\n",
    "            if next_mb.status == mb.turn:\n",
    "                return next_move\n",
    "        \n",
    "    return choice(legal_moves)"
   ]
  },
  {
   "cell_type": "code",
   "execution_count": 7,
   "metadata": {},
   "outputs": [
    {
     "name": "stdout",
     "output_type": "stream",
     "text": [
      "ai6 VS ai2\n",
      "count     win    lose    draw\n",
      "o         896      15      89\n",
      "x         702      60     238\n",
      "total    1598      75     327\n",
      "\n",
      "ratio     win    lose    draw\n",
      "o       89.6%    1.5%    8.9%\n",
      "x       70.2%    6.0%   23.8%\n",
      "total   79.9%    3.8%   16.4%\n",
      "\n"
     ]
    }
   ],
   "source": [
    "ai_match(ai=[ai6, ai2], match_num=1000)"
   ]
  },
  {
   "cell_type": "code",
   "execution_count": 8,
   "metadata": {},
   "outputs": [],
   "source": [
    "from marubatsu import Marubatsu\n",
    "\n",
    "def ai6(mb_orig):\n",
    "    # mb_orig の合法手の中で、自分が勝利できる合法手があればそこに着手する\n",
    "    legal_moves = mb_orig.calc_legal_moves()\n",
    "    # 合法手が 1 つしかない場合は、その合法手を返り値として返す\n",
    "    if len(legal_moves) == 1:\n",
    "        return legal_moves[0]\n",
    "    for move in legal_moves:\n",
    "        mb = deepcopy(mb_orig)\n",
    "        x, y = move\n",
    "        mb.move(x, y)\n",
    "        if mb.status == mb_orig.turn:\n",
    "            return move\n",
    "    # 〇 が勝利する合法手が存在しないことが確定したので、手順 3 を行う\n",
    "    for move in legal_moves:\n",
    "        mb = deepcopy(mb_orig)\n",
    "        mb.turn = Marubatsu.CROSS if mb.turn == Marubatsu.CIRCLE else Marubatsu.CIRCLE\n",
    "        enemy_turn = mb.turn\n",
    "        x, y = move\n",
    "        mb.move(x, y)\n",
    "        if mb.status == enemy_turn:\n",
    "            return move\n",
    "       \n",
    "    return choice(legal_moves)"
   ]
  },
  {
   "cell_type": "code",
   "execution_count": 9,
   "metadata": {},
   "outputs": [
    {
     "name": "stdout",
     "output_type": "stream",
     "text": [
      "ai6 VS ai2\n",
      "count     win    lose    draw\n",
      "o         896      17      87\n",
      "x         692      56     252\n",
      "total    1588      73     339\n",
      "\n",
      "ratio     win    lose    draw\n",
      "o       89.6%    1.7%    8.7%\n",
      "x       69.2%    5.6%   25.2%\n",
      "total   79.4%    3.6%   17.0%\n",
      "\n"
     ]
    }
   ],
   "source": [
    "ai_match(ai=[ai6, ai2], match_num=1000)"
   ]
  },
  {
   "cell_type": "code",
   "execution_count": 10,
   "metadata": {},
   "outputs": [
    {
     "name": "stdout",
     "output_type": "stream",
     "text": [
      "ai6 VS ai3\n",
      "count     win    lose    draw\n",
      "o        8685     147    1168\n",
      "x        6193     577    3230\n",
      "total   14878     724    4398\n",
      "\n",
      "ratio     win    lose    draw\n",
      "o       86.9%    1.5%   11.7%\n",
      "x       61.9%    5.8%   32.3%\n",
      "total   74.4%    3.6%   22.0%\n",
      "\n"
     ]
    }
   ],
   "source": [
    "ai_match(ai=[ai6, ai3])"
   ]
  },
  {
   "cell_type": "code",
   "execution_count": 11,
   "metadata": {},
   "outputs": [
    {
     "name": "stdout",
     "output_type": "stream",
     "text": [
      "ai6 VS ai4\n",
      "count     win    lose    draw\n",
      "o        9240     373     387\n",
      "x        6615    2903     482\n",
      "total   15855    3276     869\n",
      "\n",
      "ratio     win    lose    draw\n",
      "o       92.4%    3.7%    3.9%\n",
      "x       66.1%   29.0%    4.8%\n",
      "total   79.3%   16.4%    4.3%\n",
      "\n"
     ]
    }
   ],
   "source": [
    "ai_match(ai=[ai6, ai4])"
   ]
  },
  {
   "cell_type": "code",
   "execution_count": 12,
   "metadata": {},
   "outputs": [
    {
     "name": "stdout",
     "output_type": "stream",
     "text": [
      "ai6 VS ai5\n",
      "count     win    lose    draw\n",
      "o        8878     228     894\n",
      "x        6549    1372    2079\n",
      "total   15427    1600    2973\n",
      "\n",
      "ratio     win    lose    draw\n",
      "o       88.8%    2.3%    8.9%\n",
      "x       65.5%   13.7%   20.8%\n",
      "total   77.1%    8.0%   14.9%\n",
      "\n"
     ]
    }
   ],
   "source": [
    "ai_match(ai=[ai6, ai5])"
   ]
  },
  {
   "cell_type": "code",
   "execution_count": 13,
   "metadata": {},
   "outputs": [
    {
     "name": "stdout",
     "output_type": "stream",
     "text": [
      "ai6 VS ai6\n",
      "count     win    lose    draw\n",
      "o        3091    1693    5216\n",
      "x        1765    3127    5108\n",
      "total    4856    4820   10324\n",
      "\n",
      "ratio     win    lose    draw\n",
      "o       30.9%   16.9%   52.2%\n",
      "x       17.6%   31.3%   51.1%\n",
      "total   24.3%   24.1%   51.6%\n",
      "\n"
     ]
    }
   ],
   "source": [
    "ai_match(ai=[ai6, ai6])"
   ]
  },
  {
   "cell_type": "code",
   "execution_count": 14,
   "metadata": {},
   "outputs": [],
   "source": [
    "def ai7(mb):\n",
    "    if mb.board[1][1] == Marubatsu.EMPTY:\n",
    "        return 1, 1\n",
    "    return ai6(mb)"
   ]
  },
  {
   "cell_type": "code",
   "execution_count": 15,
   "metadata": {},
   "outputs": [
    {
     "name": "stdout",
     "output_type": "stream",
     "text": [
      "ai7 VS ai2\n",
      "count     win    lose    draw\n",
      "o        9578      22     400\n",
      "x        8227     240    1533\n",
      "total   17805     262    1933\n",
      "\n",
      "ratio     win    lose    draw\n",
      "o       95.8%    0.2%    4.0%\n",
      "x       82.3%    2.4%   15.3%\n",
      "total   89.0%    1.3%    9.7%\n",
      "\n"
     ]
    }
   ],
   "source": [
    "ai_match(ai=[ai7, ai2])"
   ]
  },
  {
   "cell_type": "code",
   "execution_count": 16,
   "metadata": {},
   "outputs": [
    {
     "name": "stdout",
     "output_type": "stream",
     "text": [
      "ai7 VS ai3\n",
      "count     win    lose    draw\n",
      "o        9580      19     401\n",
      "x        6130     582    3288\n",
      "total   15710     601    3689\n",
      "\n",
      "ratio     win    lose    draw\n",
      "o       95.8%    0.2%    4.0%\n",
      "x       61.3%    5.8%   32.9%\n",
      "total   78.5%    3.0%   18.4%\n",
      "\n"
     ]
    }
   ],
   "source": [
    "ai_match(ai=[ai7, ai3])"
   ]
  },
  {
   "cell_type": "code",
   "execution_count": 17,
   "metadata": {},
   "outputs": [
    {
     "name": "stdout",
     "output_type": "stream",
     "text": [
      "ai7 VS ai4\n",
      "count     win    lose    draw\n",
      "o       10000       0       0\n",
      "x        6581    2934     485\n",
      "total   16581    2934     485\n",
      "\n",
      "ratio     win    lose    draw\n",
      "o      100.0%    0.0%    0.0%\n",
      "x       65.8%   29.3%    4.9%\n",
      "total   82.9%   14.7%    2.4%\n",
      "\n"
     ]
    }
   ],
   "source": [
    "ai_match(ai=[ai7, ai4])"
   ]
  },
  {
   "cell_type": "code",
   "execution_count": 18,
   "metadata": {},
   "outputs": [
    {
     "name": "stdout",
     "output_type": "stream",
     "text": [
      "ai7 VS ai5\n",
      "count     win    lose    draw\n",
      "o        9540      36     424\n",
      "x        8109     543    1348\n",
      "total   17649     579    1772\n",
      "\n",
      "ratio     win    lose    draw\n",
      "o       95.4%    0.4%    4.2%\n",
      "x       81.1%    5.4%   13.5%\n",
      "total   88.2%    2.9%    8.9%\n",
      "\n"
     ]
    }
   ],
   "source": [
    "ai_match(ai=[ai7, ai5])"
   ]
  },
  {
   "cell_type": "code",
   "execution_count": 19,
   "metadata": {},
   "outputs": [
    {
     "name": "stdout",
     "output_type": "stream",
     "text": [
      "ai7 VS ai6\n",
      "count     win    lose    draw\n",
      "o        3024     431    6545\n",
      "x         706    1556    7738\n",
      "total    3730    1987   14283\n",
      "\n",
      "ratio     win    lose    draw\n",
      "o       30.2%    4.3%   65.5%\n",
      "x        7.1%   15.6%   77.4%\n",
      "total   18.6%    9.9%   71.4%\n",
      "\n"
     ]
    }
   ],
   "source": [
    "ai_match(ai=[ai7, ai6])"
   ]
  },
  {
   "cell_type": "code",
   "execution_count": 20,
   "metadata": {},
   "outputs": [
    {
     "name": "stdout",
     "output_type": "stream",
     "text": [
      "ai7 VS ai7\n",
      "count     win    lose    draw\n",
      "o        2989     414    6597\n",
      "x         397    3039    6564\n",
      "total    3386    3453   13161\n",
      "\n",
      "ratio     win    lose    draw\n",
      "o       29.9%    4.1%   66.0%\n",
      "x        4.0%   30.4%   65.6%\n",
      "total   16.9%   17.3%   65.8%\n",
      "\n"
     ]
    }
   ],
   "source": [
    "ai_match(ai=[ai7, ai7])"
   ]
  }
 ],
 "metadata": {
  "kernelspec": {
   "display_name": "marubatsu",
   "language": "python",
   "name": "python3"
  },
  "language_info": {
   "codemirror_mode": {
    "name": "ipython",
    "version": 3
   },
   "file_extension": ".py",
   "mimetype": "text/x-python",
   "name": "python",
   "nbconvert_exporter": "python",
   "pygments_lexer": "ipython3",
   "version": "3.11.4"
  }
 },
 "nbformat": 4,
 "nbformat_minor": 2
}
