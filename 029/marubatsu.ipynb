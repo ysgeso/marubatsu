{
 "cells": [
  {
   "cell_type": "code",
   "execution_count": 1,
   "metadata": {},
   "outputs": [],
   "source": [
    "def xytext_to_xy(coord):\n",
    "    x, y = coord\n",
    "    return int(x), int(y)"
   ]
  },
  {
   "cell_type": "code",
   "execution_count": 2,
   "metadata": {},
   "outputs": [],
   "source": [
    "from marubatsu import Marubatsu\n",
    "\n",
    "testcases = [\n",
    "    # 〇 の勝利のテストケース\n",
    "    [                                  # 着手順とゲーム盤\n",
    "        \"0001101120\",                  # 135  ooo\n",
    "        Marubatsu.CIRCLE,              # 24.  xx. \n",
    "    ],                                 # ...  ...\n",
    "    # × の勝利のテストケース\n",
    "    [                                  # 着手順とゲーム盤\n",
    "        \"010011100220\",                # 246  xxx \n",
    "        Marubatsu.CROSS,               # 13.  oo.\n",
    "    ],                                 # 5..  ...\n",
    "    # 引き分けのテストケース\n",
    "    [                                  # 着手順とゲーム盤\n",
    "        \"000110112120021222\",          # 136  oox \n",
    "        Marubatsu.DRAW,                # 245  xxo\n",
    "    ],                                 # 789  oxo\n",
    "]"
   ]
  },
  {
   "cell_type": "code",
   "execution_count": 3,
   "metadata": {},
   "outputs": [],
   "source": [
    "def text_to_list(coords):\n",
    "    coord_list = [ coords[i:i+2] for i in range(0, len(coords), 2) ]\n",
    "    return coord_list"
   ]
  },
  {
   "cell_type": "code",
   "execution_count": 4,
   "metadata": {},
   "outputs": [],
   "source": [
    "def test_judge(testcases):\n",
    "    for testcase in testcases:\n",
    "        testdata, winner = testcase\n",
    "        mb = Marubatsu()\n",
    "        for coord in text_to_list(testdata):\n",
    "            x, y = xytext_to_xy(coord)            \n",
    "            mb.move(x, y)\n",
    "        print(mb)\n",
    "\n",
    "        if mb.judge() == winner:\n",
    "            print(\"ok\")\n",
    "        else:\n",
    "            print(\"error!\")"
   ]
  },
  {
   "cell_type": "code",
   "execution_count": 5,
   "metadata": {},
   "outputs": [
    {
     "name": "stdout",
     "output_type": "stream",
     "text": [
      "Turn x\n",
      "ooo\n",
      "xx.\n",
      "...\n",
      "\n",
      "ok\n",
      "Turn o\n",
      "xxx\n",
      "oo.\n",
      "o..\n",
      "\n",
      "ok\n",
      "Turn x\n",
      "oox\n",
      "xxo\n",
      "oxo\n",
      "\n",
      "ok\n"
     ]
    }
   ],
   "source": [
    "test_judge(testcases)"
   ]
  },
  {
   "cell_type": "code",
   "execution_count": 6,
   "metadata": {},
   "outputs": [],
   "source": [
    "testcases = [\n",
    "    # 〇 の勝利のテストケース\n",
    "    [                                  # 着手順とゲーム盤\n",
    "        \"00,01,10,11,20\",              # 135  ooo\n",
    "        Marubatsu.CIRCLE,              # 24.  xx. \n",
    "    ],                                 # ...  ...\n",
    "    # × の勝利のテストケース\n",
    "    [                                  # 着手順とゲーム盤\n",
    "        \"01,00,11,10,02,20\",           # 246  xxx \n",
    "        Marubatsu.CROSS,               # 13.  oo.\n",
    "    ],                                 # 5..  ...\n",
    "    # 引き分けのテストケース\n",
    "    [                                  # 着手順とゲーム盤\n",
    "        \"00,01,10,11,21,20,02,12,22\",  # 136  oox \n",
    "        Marubatsu.DRAW,                # 245  xxo\n",
    "    ],                                 # 789  oxo\n",
    "]"
   ]
  },
  {
   "cell_type": "code",
   "execution_count": 7,
   "metadata": {},
   "outputs": [],
   "source": [
    "def test_judge(testcases):\n",
    "    for testcase in testcases:\n",
    "        testdata, winner = testcase\n",
    "        mb = Marubatsu()\n",
    "        for coord in testdata.split(\",\"):\n",
    "            x, y = xytext_to_xy(coord)            \n",
    "            mb.move(x, y)\n",
    "        print(mb)\n",
    "\n",
    "        if mb.judge() == winner:\n",
    "            print(\"ok\")\n",
    "        else:\n",
    "            print(\"error!\")"
   ]
  },
  {
   "cell_type": "code",
   "execution_count": 8,
   "metadata": {},
   "outputs": [
    {
     "name": "stdout",
     "output_type": "stream",
     "text": [
      "Turn x\n",
      "ooo\n",
      "xx.\n",
      "...\n",
      "\n",
      "ok\n",
      "Turn o\n",
      "xxx\n",
      "oo.\n",
      "o..\n",
      "\n",
      "ok\n",
      "Turn x\n",
      "oox\n",
      "xxo\n",
      "oxo\n",
      "\n",
      "ok\n"
     ]
    }
   ],
   "source": [
    "test_judge(testcases)"
   ]
  },
  {
   "cell_type": "code",
   "execution_count": 9,
   "metadata": {},
   "outputs": [],
   "source": [
    "def xytext_to_xy(coord):\n",
    "    x, y = coord.split(\",\")\n",
    "    return int(x), int(y)"
   ]
  },
  {
   "cell_type": "code",
   "execution_count": 10,
   "metadata": {},
   "outputs": [
    {
     "name": "stdout",
     "output_type": "stream",
     "text": [
      "(10, 200)\n"
     ]
    }
   ],
   "source": [
    "print(xytext_to_xy(\"10,200\"))"
   ]
  },
  {
   "cell_type": "code",
   "execution_count": 11,
   "metadata": {},
   "outputs": [
    {
     "name": "stdout",
     "output_type": "stream",
     "text": [
      "100\n"
     ]
    }
   ],
   "source": [
    "print(int(\"     100     \"))"
   ]
  },
  {
   "cell_type": "code",
   "execution_count": 12,
   "metadata": {},
   "outputs": [
    {
     "name": "stdout",
     "output_type": "stream",
     "text": [
      "(10, 20)\n"
     ]
    }
   ],
   "source": [
    "print(xytext_to_xy(\"10 , 20\"))"
   ]
  },
  {
   "cell_type": "code",
   "execution_count": 13,
   "metadata": {},
   "outputs": [],
   "source": [
    "testcases = [\n",
    "    # 〇 の勝利のテストケース\n",
    "    [                                  # 着手順とゲーム盤\n",
    "        \"0,00,11,01,12,0\",             # 135  ooo\n",
    "        Marubatsu.CIRCLE,              # 24.  xx. \n",
    "    ],                                 # ...  ...\n",
    "    # × の勝利のテストケース\n",
    "    [                                  # 着手順とゲーム盤\n",
    "        \"0,10,01,11,00,22,0\",          # 246  xxx \n",
    "        Marubatsu.CROSS,               # 13.  oo.\n",
    "    ],                                 # 5..  ...\n",
    "    # 引き分けのテストケース\n",
    "    [                                  # 着手順とゲーム盤\n",
    "        \"0,00,11,01,12,12,00,21,22,2\", # 136  oox \n",
    "        Marubatsu.DRAW,                # 245  xxo\n",
    "    ],                                 # 789  oxo\n",
    "]"
   ]
  },
  {
   "cell_type": "code",
   "execution_count": 14,
   "metadata": {},
   "outputs": [],
   "source": [
    "def text_to_list(coords):\n",
    "    coord_list = [ coords[i:i+3] for i in range(0, len(coords), 3) ]\n",
    "    return coord_list"
   ]
  },
  {
   "cell_type": "code",
   "execution_count": 15,
   "metadata": {},
   "outputs": [
    {
     "name": "stdout",
     "output_type": "stream",
     "text": [
      "Turn x\n",
      "ooo\n",
      "xx.\n",
      "...\n",
      "\n",
      "ok\n",
      "Turn o\n",
      "xxx\n",
      "oo.\n",
      "o..\n",
      "\n",
      "ok\n",
      "Turn x\n",
      "oox\n",
      "xxo\n",
      "oxo\n",
      "\n",
      "ok\n"
     ]
    }
   ],
   "source": [
    "def test_judge(testcases):\n",
    "    for testcase in testcases:\n",
    "        testdata, winner = testcase\n",
    "        mb = Marubatsu()\n",
    "        for coord in text_to_list(testdata):\n",
    "            x, y = xytext_to_xy(coord)            \n",
    "            mb.move(x, y)\n",
    "        print(mb)\n",
    "\n",
    "        if mb.judge() == winner:\n",
    "            print(\"ok\")\n",
    "        else:\n",
    "            print(\"error!\")\n",
    "\n",
    "test_judge(testcases)"
   ]
  },
  {
   "cell_type": "code",
   "execution_count": 16,
   "metadata": {},
   "outputs": [],
   "source": [
    "testcases = [\n",
    "    # 〇 の勝利のテストケース\n",
    "    [                                  # 着手順とゲーム盤\n",
    "        \"0,0,0,1,1,0,1,1,2,0\",         # 135  ooo\n",
    "        Marubatsu.CIRCLE,              # 24.  xx. \n",
    "    ],                                 # ...  ...\n",
    "    # × の勝利のテストケース\n",
    "    [                                  # 着手順とゲーム盤\n",
    "        \"0,1,0,0,1,1,1,0,0,2,2,0\",     # 246  xxx \n",
    "        Marubatsu.CROSS,               # 13.  oo.\n",
    "    ],                                 # 5..  ...\n",
    "    # 引き分けのテストケース\n",
    "    [                                           # 着手順とゲーム盤\n",
    "        \"0,0,0,1,1,0,1,1,2,1,2,0,0,2,1,2,2,2\",  # 136  oox \n",
    "        Marubatsu.DRAW,                         # 245  xxo\n",
    "    ],                                          # 789  oxo\n",
    "]"
   ]
  },
  {
   "cell_type": "code",
   "execution_count": 17,
   "metadata": {},
   "outputs": [],
   "source": [
    "def text_to_xylist(coords):\n",
    "    coord_list = coords.split(\",\")\n",
    "    xy_list = []\n",
    "    for i in range(0, len(coord_list), 2):\n",
    "        x, y = coord_list[i:i+2]\n",
    "        xy_list.append([int(x), int(y)])\n",
    "    return xy_list"
   ]
  },
  {
   "cell_type": "code",
   "execution_count": 18,
   "metadata": {},
   "outputs": [],
   "source": [
    "def test_judge(testcases):\n",
    "    for testcase in testcases:\n",
    "        testdata, winner = testcase\n",
    "        mb = Marubatsu()\n",
    "        for x, y in text_to_xylist(testdata):\n",
    "            mb.move(x, y)\n",
    "        print(mb)\n",
    "\n",
    "        if mb.judge() == winner:\n",
    "            print(\"ok\")\n",
    "        else:\n",
    "            print(\"error!\")"
   ]
  },
  {
   "cell_type": "code",
   "execution_count": 19,
   "metadata": {},
   "outputs": [
    {
     "name": "stdout",
     "output_type": "stream",
     "text": [
      "Turn x\n",
      "ooo\n",
      "xx.\n",
      "...\n",
      "\n",
      "ok\n",
      "Turn o\n",
      "xxx\n",
      "oo.\n",
      "o..\n",
      "\n",
      "ok\n",
      "Turn x\n",
      "oox\n",
      "xxo\n",
      "oxo\n",
      "\n",
      "ok\n"
     ]
    }
   ],
   "source": [
    "test_judge(testcases)"
   ]
  },
  {
   "cell_type": "code",
   "execution_count": 20,
   "metadata": {},
   "outputs": [],
   "source": [
    "def text_to_xylist(coords):\n",
    "    coord_list = coords.split(\",\")\n",
    "    xy_list = [[int(coord_list[i]), int(coord_list[i+1])]\n",
    "               for i in range(0, len(coord_list), 2)]\n",
    "    return xy_list"
   ]
  },
  {
   "cell_type": "code",
   "execution_count": 21,
   "metadata": {},
   "outputs": [
    {
     "name": "stdout",
     "output_type": "stream",
     "text": [
      "Turn x\n",
      "ooo\n",
      "xx.\n",
      "...\n",
      "\n",
      "ok\n",
      "Turn o\n",
      "xxx\n",
      "oo.\n",
      "o..\n",
      "\n",
      "ok\n",
      "Turn x\n",
      "oox\n",
      "xxo\n",
      "oxo\n",
      "\n",
      "ok\n"
     ]
    }
   ],
   "source": [
    "test_judge(testcases)"
   ]
  },
  {
   "cell_type": "code",
   "execution_count": 22,
   "metadata": {},
   "outputs": [],
   "source": [
    "testcases = [\n",
    "    # 〇 の勝利のテストケース\n",
    "    [                                  # 着手順とゲーム盤\n",
    "        \"0,0:0,1:1,0:1,1:2,0\",         # 135  ooo\n",
    "        Marubatsu.CIRCLE,              # 24.  xx. \n",
    "    ],                                 # ...  ...\n",
    "    # × の勝利のテストケース\n",
    "    [                                  # 着手順とゲーム盤\n",
    "        \"0,1:0,0:1,1:1,0:0,2:2,0\",     # 246  xxx \n",
    "        Marubatsu.CROSS,               # 13.  oo.\n",
    "    ],                                 # 5..  ...\n",
    "    # 引き分けのテストケース\n",
    "    [                                           # 着手順とゲーム盤\n",
    "        \"0,0:0,1:1,0:1,1:2,1:2,0:0,2:1,2:2,2\",  # 136  oox \n",
    "        Marubatsu.DRAW,                         # 245  xxo\n",
    "    ],                                          # 789  oxo\n",
    "]"
   ]
  },
  {
   "cell_type": "code",
   "execution_count": 23,
   "metadata": {},
   "outputs": [],
   "source": [
    "def test_judge(testcases):\n",
    "    for testcase in testcases:\n",
    "        testdata, winner = testcase\n",
    "        mb = Marubatsu()\n",
    "        for coord in testdata.split(\":\"):\n",
    "            x, y = xytext_to_xy(coord)            \n",
    "            mb.move(x, y)\n",
    "        print(mb)\n",
    "\n",
    "        if mb.judge() == winner:\n",
    "            print(\"ok\")\n",
    "        else:\n",
    "            print(\"error!\")"
   ]
  },
  {
   "cell_type": "code",
   "execution_count": 24,
   "metadata": {},
   "outputs": [
    {
     "name": "stdout",
     "output_type": "stream",
     "text": [
      "Turn x\n",
      "ooo\n",
      "xx.\n",
      "...\n",
      "\n",
      "ok\n",
      "Turn o\n",
      "xxx\n",
      "oo.\n",
      "o..\n",
      "\n",
      "ok\n",
      "Turn x\n",
      "oox\n",
      "xxo\n",
      "oxo\n",
      "\n",
      "ok\n"
     ]
    }
   ],
   "source": [
    "test_judge(testcases)"
   ]
  },
  {
   "cell_type": "code",
   "execution_count": 25,
   "metadata": {},
   "outputs": [
    {
     "name": "stdout",
     "output_type": "stream",
     "text": [
      "BCD\n"
     ]
    }
   ],
   "source": [
    "print(\"ABCDE\"[1:-1])"
   ]
  },
  {
   "cell_type": "code",
   "execution_count": 26,
   "metadata": {},
   "outputs": [],
   "source": [
    "def xytext_to_xy(coord):\n",
    "    x, y = coord[1:-1].split(\",\")\n",
    "    return int(x), int(y)"
   ]
  },
  {
   "cell_type": "code",
   "execution_count": 27,
   "metadata": {},
   "outputs": [
    {
     "name": "stdout",
     "output_type": "stream",
     "text": [
      "(1, 2)\n"
     ]
    }
   ],
   "source": [
    "print(xytext_to_xy(\"(1,2)\"))"
   ]
  },
  {
   "cell_type": "code",
   "execution_count": 28,
   "metadata": {},
   "outputs": [],
   "source": [
    "testcases = [\n",
    "    # 〇 の勝利のテストケース\n",
    "    [                                  # 着手順とゲーム盤\n",
    "        \"(0,0)(0,1)(1,0)(1,1)(2,0)\",   # 135  ooo\n",
    "        Marubatsu.CIRCLE,              # 24.  xx. \n",
    "    ],                                 # ...  ...\n",
    "    # × の勝利のテストケース\n",
    "    [                                      # 着手順とゲーム盤\n",
    "        \"(0,1)(0,0)(1,1)(1,0)(0,2)(2,0)\",  # 246  xxx \n",
    "        Marubatsu.CROSS,                   # 13.  oo.\n",
    "    ],                                     # 5..  ...\n",
    "    # 引き分けのテストケース\n",
    "    [                                                    # 着手順とゲーム盤\n",
    "        \"(0,0)(0,1)(1,0)(1,1)(2,1)(2,0)(0,2)(1,2)(2,2)\", # 136  oox \n",
    "        Marubatsu.DRAW,                                  # 245  xxo\n",
    "    ],                                                   # 789  oxo\n",
    "]"
   ]
  },
  {
   "cell_type": "code",
   "execution_count": 29,
   "metadata": {},
   "outputs": [],
   "source": [
    "def text_to_list(coords):\n",
    "    coord_list = [ coords[i:i+5] for i in range(0, len(coords), 5) ]\n",
    "    return coord_list"
   ]
  },
  {
   "cell_type": "code",
   "execution_count": 30,
   "metadata": {},
   "outputs": [
    {
     "name": "stdout",
     "output_type": "stream",
     "text": [
      "Turn x\n",
      "ooo\n",
      "xx.\n",
      "...\n",
      "\n",
      "ok\n",
      "Turn o\n",
      "xxx\n",
      "oo.\n",
      "o..\n",
      "\n",
      "ok\n",
      "Turn x\n",
      "oox\n",
      "xxo\n",
      "oxo\n",
      "\n",
      "ok\n"
     ]
    }
   ],
   "source": [
    "def test_judge(testcases):\n",
    "    for testcase in testcases:\n",
    "        testdata, winner = testcase\n",
    "        mb = Marubatsu()\n",
    "        for coord in text_to_list(testdata):\n",
    "            x, y = xytext_to_xy(coord)            \n",
    "            mb.move(x, y)\n",
    "        print(mb)\n",
    "\n",
    "        if mb.judge() == winner:\n",
    "            print(\"ok\")\n",
    "        else:\n",
    "            print(\"error!\")\n",
    "\n",
    "test_judge(testcases)"
   ]
  },
  {
   "cell_type": "code",
   "execution_count": 31,
   "metadata": {},
   "outputs": [
    {
     "name": "stdout",
     "output_type": "stream",
     "text": [
      "['(0,0', '0,1', '1,0', '1,1', '2,0)']\n"
     ]
    }
   ],
   "source": [
    "print(\"(0,0)(0,1)(1,0)(1,1)(2,0)\".split(\")(\"))"
   ]
  },
  {
   "cell_type": "code",
   "execution_count": 32,
   "metadata": {},
   "outputs": [
    {
     "name": "stdout",
     "output_type": "stream",
     "text": [
      "(0,0\n",
      "0,1\n",
      "1,0\n",
      "1,1\n",
      "2,0)\n"
     ]
    }
   ],
   "source": [
    "xytext_list = \"(0,0)(0,1)(1,0)(1,1)(2,0)\".split(\")(\")\n",
    "for xytext in xytext_list:\n",
    "    print(xytext)"
   ]
  },
  {
   "cell_type": "code",
   "execution_count": 33,
   "metadata": {},
   "outputs": [
    {
     "name": "stdout",
     "output_type": "stream",
     "text": [
      "0,0\n",
      "0,1\n",
      "1,0\n",
      "1,1\n",
      "2,0\n"
     ]
    }
   ],
   "source": [
    "xytext_list = \"(0,0)(0,1)(1,0)(1,1)(2,0)\"[1:-1].split(\")(\")\n",
    "for xytext in xytext_list:\n",
    "    print(xytext)"
   ]
  },
  {
   "cell_type": "code",
   "execution_count": 34,
   "metadata": {},
   "outputs": [],
   "source": [
    "def text_to_list(coords):\n",
    "    coord_list = coords[1:-1].split(\")(\")\n",
    "    return coord_list"
   ]
  },
  {
   "cell_type": "code",
   "execution_count": 35,
   "metadata": {},
   "outputs": [
    {
     "ename": "ValueError",
     "evalue": "invalid literal for int() with base 10: ''",
     "output_type": "error",
     "traceback": [
      "\u001b[1;31m---------------------------------------------------------------------------\u001b[0m",
      "\u001b[1;31mValueError\u001b[0m                                Traceback (most recent call last)",
      "\u001b[1;32mc:\\Users\\ys\\ai\\marubatsu\\029\\marubatsu.ipynb セル 35\u001b[0m line \u001b[0;36m1\n\u001b[1;32m----> <a href='vscode-notebook-cell:/c%3A/Users/ys/ai/marubatsu/029/marubatsu.ipynb#X46sZmlsZQ%3D%3D?line=0'>1</a>\u001b[0m test_judge(testcases)\n",
      "\u001b[1;32mc:\\Users\\ys\\ai\\marubatsu\\029\\marubatsu.ipynb セル 35\u001b[0m line \u001b[0;36m6\n\u001b[0;32m      <a href='vscode-notebook-cell:/c%3A/Users/ys/ai/marubatsu/029/marubatsu.ipynb#X46sZmlsZQ%3D%3D?line=3'>4</a>\u001b[0m mb \u001b[39m=\u001b[39m Marubatsu()\n\u001b[0;32m      <a href='vscode-notebook-cell:/c%3A/Users/ys/ai/marubatsu/029/marubatsu.ipynb#X46sZmlsZQ%3D%3D?line=4'>5</a>\u001b[0m \u001b[39mfor\u001b[39;00m coord \u001b[39min\u001b[39;00m text_to_list(testdata):\n\u001b[1;32m----> <a href='vscode-notebook-cell:/c%3A/Users/ys/ai/marubatsu/029/marubatsu.ipynb#X46sZmlsZQ%3D%3D?line=5'>6</a>\u001b[0m     x, y \u001b[39m=\u001b[39m xytext_to_xy(coord)            \n\u001b[0;32m      <a href='vscode-notebook-cell:/c%3A/Users/ys/ai/marubatsu/029/marubatsu.ipynb#X46sZmlsZQ%3D%3D?line=6'>7</a>\u001b[0m     mb\u001b[39m.\u001b[39mmove(x, y)\n\u001b[0;32m      <a href='vscode-notebook-cell:/c%3A/Users/ys/ai/marubatsu/029/marubatsu.ipynb#X46sZmlsZQ%3D%3D?line=7'>8</a>\u001b[0m \u001b[39mprint\u001b[39m(mb)\n",
      "\u001b[1;32mc:\\Users\\ys\\ai\\marubatsu\\029\\marubatsu.ipynb セル 35\u001b[0m line \u001b[0;36m3\n\u001b[0;32m      <a href='vscode-notebook-cell:/c%3A/Users/ys/ai/marubatsu/029/marubatsu.ipynb#X46sZmlsZQ%3D%3D?line=0'>1</a>\u001b[0m \u001b[39mdef\u001b[39;00m \u001b[39mxytext_to_xy\u001b[39m(coord):\n\u001b[0;32m      <a href='vscode-notebook-cell:/c%3A/Users/ys/ai/marubatsu/029/marubatsu.ipynb#X46sZmlsZQ%3D%3D?line=1'>2</a>\u001b[0m     x, y \u001b[39m=\u001b[39m coord[\u001b[39m1\u001b[39m:\u001b[39m-\u001b[39m\u001b[39m1\u001b[39m]\u001b[39m.\u001b[39msplit(\u001b[39m\"\u001b[39m\u001b[39m,\u001b[39m\u001b[39m\"\u001b[39m)\n\u001b[1;32m----> <a href='vscode-notebook-cell:/c%3A/Users/ys/ai/marubatsu/029/marubatsu.ipynb#X46sZmlsZQ%3D%3D?line=2'>3</a>\u001b[0m     \u001b[39mreturn\u001b[39;00m \u001b[39mint\u001b[39m(x), \u001b[39mint\u001b[39m(y)\n",
      "\u001b[1;31mValueError\u001b[0m: invalid literal for int() with base 10: ''"
     ]
    }
   ],
   "source": [
    "test_judge(testcases)"
   ]
  },
  {
   "cell_type": "code",
   "execution_count": 36,
   "metadata": {},
   "outputs": [],
   "source": [
    "def xytext_to_xy(coord):\n",
    "    x, y = coord.split(\",\")\n",
    "    return int(x), int(y)"
   ]
  },
  {
   "cell_type": "code",
   "execution_count": 37,
   "metadata": {},
   "outputs": [
    {
     "name": "stdout",
     "output_type": "stream",
     "text": [
      "Turn x\n",
      "ooo\n",
      "xx.\n",
      "...\n",
      "\n",
      "ok\n",
      "Turn o\n",
      "xxx\n",
      "oo.\n",
      "o..\n",
      "\n",
      "ok\n",
      "Turn x\n",
      "oox\n",
      "xxo\n",
      "oxo\n",
      "\n",
      "ok\n"
     ]
    }
   ],
   "source": [
    "test_judge(testcases)"
   ]
  },
  {
   "cell_type": "code",
   "execution_count": 38,
   "metadata": {},
   "outputs": [],
   "source": [
    "testcases = [\n",
    "    # 〇 の勝利のテストケース\n",
    "    [                                      # 着手順とゲーム盤\n",
    "        \"(0,0),(0,1),(1,0),(1,1),(2,0)\",   # 135  ooo\n",
    "        Marubatsu.CIRCLE,                  # 24.  xx. \n",
    "    ],                                     # ...  ...\n",
    "    # × の勝利のテストケース\n",
    "    [                                           # 着手順とゲーム盤\n",
    "        \"(0,1),(0,0),(1,1),(1,0),(0,2),(2,0)\",  # 246  xxx \n",
    "        Marubatsu.CROSS,                        # 13.  oo.\n",
    "    ],                                          # 5..  ...\n",
    "    # 引き分けのテストケース\n",
    "    [                                                            # 着手順とゲーム盤\n",
    "        \"(0,0),(0,1),(1,0),(1,1),(2,1),(2,0),(0,2),(1,2),(2,2)\", # 136  oox \n",
    "        Marubatsu.DRAW,                                          # 245  xxo\n",
    "    ],                                                           # 789  oxo\n",
    "]"
   ]
  },
  {
   "cell_type": "code",
   "execution_count": 39,
   "metadata": {},
   "outputs": [],
   "source": [
    "def text_to_list(coords):\n",
    "    coord_list = coords[1:-1].split(\"),(\")\n",
    "    return coord_list"
   ]
  },
  {
   "cell_type": "code",
   "execution_count": 40,
   "metadata": {},
   "outputs": [
    {
     "name": "stdout",
     "output_type": "stream",
     "text": [
      "Turn x\n",
      "ooo\n",
      "xx.\n",
      "...\n",
      "\n",
      "ok\n",
      "Turn o\n",
      "xxx\n",
      "oo.\n",
      "o..\n",
      "\n",
      "ok\n",
      "Turn x\n",
      "oox\n",
      "xxo\n",
      "oxo\n",
      "\n",
      "ok\n"
     ]
    }
   ],
   "source": [
    "test_judge(testcases)"
   ]
  },
  {
   "cell_type": "code",
   "execution_count": 41,
   "metadata": {},
   "outputs": [],
   "source": [
    "def text_to_list(coords):\n",
    "    coord_list = [ coords[i:i+5] for i in range(0, len(coords), 6) ]\n",
    "    return coord_list"
   ]
  },
  {
   "cell_type": "code",
   "execution_count": 42,
   "metadata": {},
   "outputs": [],
   "source": [
    "def xytext_to_xy(coord):\n",
    "    x, y = coord[1:-1].split(\",\")\n",
    "    return int(x), int(y)"
   ]
  },
  {
   "cell_type": "code",
   "execution_count": 43,
   "metadata": {},
   "outputs": [
    {
     "name": "stdout",
     "output_type": "stream",
     "text": [
      "Turn x\n",
      "ooo\n",
      "xx.\n",
      "...\n",
      "\n",
      "ok\n",
      "Turn o\n",
      "xxx\n",
      "oo.\n",
      "o..\n",
      "\n",
      "ok\n",
      "Turn x\n",
      "oox\n",
      "xxo\n",
      "oxo\n",
      "\n",
      "ok\n"
     ]
    }
   ],
   "source": [
    "test_judge(testcases)"
   ]
  },
  {
   "cell_type": "code",
   "execution_count": 44,
   "metadata": {},
   "outputs": [],
   "source": [
    "testcases = [\n",
    "    # 〇 の勝利のテストケース\n",
    "    [                                      # 着手順とゲーム盤\n",
    "        \"(0,0),(0,1),(1,0),(1,1),(2,0)\",   # 135  ooo\n",
    "        Marubatsu.CIRCLE,                  # 24.  xx. \n",
    "    ],                                     # ...  ...\n",
    "    # × の勝利のテストケース\n",
    "    [                                           # 着手順とゲーム盤\n",
    "        \"(0,1),(0,0),(1,1),(1,0),(0,2),(2,0)\",  # 246  xxx \n",
    "        Marubatsu.CROSS,                        # 13.  oo.\n",
    "    ],                                          # 5..  ...\n",
    "    # 引き分けのテストケース\n",
    "    [                                        # 着手順とゲーム盤\n",
    "        \"(0,0),(0,1),(1,0),(1,1),(2,1),\" +\n",
    "        \"(2,0),(0,2),(1,2),(2,2)\",           # 136  oox \n",
    "        Marubatsu.DRAW,                      # 245  xxo\n",
    "    ],                                       # 789  oxo\n",
    "]"
   ]
  },
  {
   "cell_type": "code",
   "execution_count": 45,
   "metadata": {},
   "outputs": [
    {
     "ename": "SyntaxError",
     "evalue": "invalid syntax (605632432.py, line 1)",
     "output_type": "error",
     "traceback": [
      "\u001b[1;36m  Cell \u001b[1;32mIn[45], line 1\u001b[1;36m\u001b[0m\n\u001b[1;33m    a = \"ABC\" +\u001b[0m\n\u001b[1;37m               ^\u001b[0m\n\u001b[1;31mSyntaxError\u001b[0m\u001b[1;31m:\u001b[0m invalid syntax\n"
     ]
    }
   ],
   "source": [
    "a = \"ABC\" +\n",
    "\"DEF\""
   ]
  }
 ],
 "metadata": {
  "kernelspec": {
   "display_name": "marubatsu",
   "language": "python",
   "name": "python3"
  },
  "language_info": {
   "codemirror_mode": {
    "name": "ipython",
    "version": 3
   },
   "file_extension": ".py",
   "mimetype": "text/x-python",
   "name": "python",
   "nbconvert_exporter": "python",
   "pygments_lexer": "ipython3",
   "version": "3.11.4"
  }
 },
 "nbformat": 4,
 "nbformat_minor": 2
}
