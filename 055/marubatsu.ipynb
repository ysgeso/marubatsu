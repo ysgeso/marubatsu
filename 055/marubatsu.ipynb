{
 "cells": [
  {
   "cell_type": "code",
   "execution_count": 1,
   "metadata": {},
   "outputs": [],
   "source": [
    "from marubatsu import Marubatsu, Markpat\n",
    "from collections import defaultdict\n",
    "\n",
    "def count_markpats(self):\n",
    "    markpats = defaultdict(int)\n",
    " \n",
    "    # 横方向と縦方向の判定\n",
    "    for i in range(self.BOARD_SIZE):\n",
    "        count = self.count_marks(coord=[0, i], dx=1, dy=0, datatype=\"tuple\")\n",
    "        markpats[count] += 1\n",
    "        count = self.count_marks(coord=[i, 0], dx=0, dy=1, datatype=\"tuple\")\n",
    "        markpats[count] += 1\n",
    "    # 左上から右下方向の判定\n",
    "    count = self.count_marks(coord=[0, 0], dx=1, dy=1, datatype=\"tuple\")\n",
    "    markpats[count] += 1\n",
    "    # 右上から左下方向の判定\n",
    "    count = self.count_marks(coord=[2, 0], dx=-1, dy=1, datatype=\"tuple\")\n",
    "    markpats[count] += 1\n",
    "\n",
    "    return markpats\n",
    "\n",
    "Marubatsu.count_markpats = count_markpats"
   ]
  },
  {
   "cell_type": "code",
   "execution_count": 2,
   "metadata": {},
   "outputs": [
    {
     "name": "stdout",
     "output_type": "stream",
     "text": [
      "Turn o\n",
      "...\n",
      "...\n",
      "...\n",
      "\n",
      "defaultdict(<class 'int'>, {Markpat(last_turn=0, turn=0, empty=3): 8})\n",
      "Turn x\n",
      "...\n",
      ".O.\n",
      "...\n",
      "\n",
      "defaultdict(<class 'int'>,\n",
      "            {Markpat(last_turn=0, turn=0, empty=3): 4,\n",
      "             Markpat(last_turn=1, turn=0, empty=2): 4})\n",
      "Turn o\n",
      "X..\n",
      ".o.\n",
      "...\n",
      "\n",
      "defaultdict(<class 'int'>,\n",
      "            {Markpat(last_turn=0, turn=0, empty=3): 2,\n",
      "             Markpat(last_turn=0, turn=1, empty=2): 3,\n",
      "             Markpat(last_turn=1, turn=0, empty=2): 2,\n",
      "             Markpat(last_turn=1, turn=1, empty=1): 1})\n",
      "Turn x\n",
      "xO.\n",
      ".o.\n",
      "...\n",
      "\n",
      "defaultdict(<class 'int'>,\n",
      "            {Markpat(last_turn=0, turn=0, empty=3): 2,\n",
      "             Markpat(last_turn=0, turn=1, empty=2): 1,\n",
      "             Markpat(last_turn=1, turn=0, empty=2): 2,\n",
      "             Markpat(last_turn=1, turn=1, empty=1): 2,\n",
      "             Markpat(last_turn=2, turn=0, empty=1): 1})\n"
     ]
    }
   ],
   "source": [
    "from pprint import pprint\n",
    "mb = Marubatsu()\n",
    "\n",
    "print(mb)\n",
    "pprint(mb.count_markpats())\n",
    "\n",
    "mb.move(1, 1)\n",
    "print(mb)\n",
    "pprint(mb.count_markpats())\n",
    "\n",
    "mb.move(0, 0)\n",
    "print(mb)\n",
    "pprint(mb.count_markpats())\n",
    "\n",
    "mb.move(1, 0)\n",
    "print(mb)\n",
    "pprint(mb.count_markpats())"
   ]
  },
  {
   "cell_type": "code",
   "execution_count": 3,
   "metadata": {},
   "outputs": [],
   "source": [
    "from ai import ai_by_score\n",
    "\n",
    "def ai9s(mb, debug=False):\n",
    "    def eval_func(mb):\n",
    "        # 真ん中のマスに着手している場合は、評価値として 4 を返す\n",
    "        if mb.last_move == (1, 1):\n",
    "            return 4\n",
    "    \n",
    "        # 自分が勝利している場合は、評価値として 3 を返す\n",
    "        if mb.status == mb.last_turn:\n",
    "            return 3\n",
    "\n",
    "        markpats = mb.count_markpats()\n",
    "        # 相手が勝利できる場合は評価値として -1 を返す\n",
    "        if markpats[Markpat(last_turn=0, turn=2, empty=1)] > 0:\n",
    "            return -1\n",
    "        # 次の自分の手番で自分が必ず勝利できる場合は評価値として 2 を返す\n",
    "        elif markpats[Markpat(last_turn=2, turn=0, empty=1)] >= 2:\n",
    "            return 2\n",
    "        # 次の自分の手番で自分が勝利できる場合は評価値として 1 を返す\n",
    "        elif markpats[Markpat(last_turn=2, turn=0, empty=1)] == 1:\n",
    "            return 1\n",
    "        # それ以外の場合は評価値として 0 を返す\n",
    "        else:\n",
    "            return 0\n",
    "\n",
    "    return ai_by_score(mb, eval_func, debug=debug) "
   ]
  },
  {
   "cell_type": "code",
   "execution_count": 4,
   "metadata": {},
   "outputs": [
    {
     "name": "stdout",
     "output_type": "stream",
     "text": [
      "ai9s VS ai2\n",
      "count     win    lose    draw\n",
      "o        9867      15     118\n",
      "x        8961     237     802\n",
      "total   18828     252     920\n",
      "\n",
      "ratio     win    lose    draw\n",
      "o       98.7%    0.1%    1.2%\n",
      "x       89.6%    2.4%    8.0%\n",
      "total   94.1%    1.3%    4.6%\n",
      "\n"
     ]
    }
   ],
   "source": [
    "from ai import ai_match, ai2, ai8s\n",
    "\n",
    "ai_match(ai=[ai9s, ai2])"
   ]
  },
  {
   "cell_type": "code",
   "execution_count": 5,
   "metadata": {},
   "outputs": [
    {
     "name": "stdout",
     "output_type": "stream",
     "text": [
      "ai9s VS ai8s\n",
      "count     win    lose    draw\n",
      "o        5019     397    4584\n",
      "x         409    3365    6226\n",
      "total    5428    3762   10810\n",
      "\n",
      "ratio     win    lose    draw\n",
      "o       50.2%    4.0%   45.8%\n",
      "x        4.1%   33.7%   62.3%\n",
      "total   27.1%   18.8%   54.0%\n",
      "\n"
     ]
    }
   ],
   "source": [
    "ai_match(ai=[ai9s, ai8s])"
   ]
  },
  {
   "cell_type": "code",
   "execution_count": 6,
   "metadata": {},
   "outputs": [],
   "source": [
    "def ai10s(mb, debug=False):\n",
    "    def eval_func(mb):      \n",
    "        # 真ん中のマスに着手している場合は、評価値として 12 を返す\n",
    "        if mb.last_move == (1, 1):\n",
    "            return 12\n",
    "    \n",
    "        # 自分が勝利している場合は、評価値として 11 を返す\n",
    "        if mb.status == mb.last_turn:\n",
    "            return 11\n",
    "\n",
    "        markpats = mb.count_markpats()\n",
    "        # 相手が勝利できる場合は評価値として -1 を返す\n",
    "        if markpats[Markpat(last_turn=0, turn=2, empty=1)] > 0:\n",
    "            return -1\n",
    "        # 次の自分の手番で自分が必ず勝利できる場合は評価値として 10 を返す\n",
    "        elif markpats[Markpat(last_turn=2, turn=0, empty=1)] >= 2:\n",
    "            return 10\n",
    "\n",
    "        # 評価値の合計を計算する変数を 0 で初期化する\n",
    "        score = 0        \n",
    "        # 次の自分の手番で自分が勝利できる場合は評価値に 1 を加算する\n",
    "        if markpats[Markpat(last_turn=2, turn=0, empty=1)] == 1:\n",
    "            score += 1\n",
    "        # 「自 1 敵 0 空 2」の数だけ、評価値を加算する\n",
    "        score += markpats[Markpat(last_turn=1, turn=0, empty=2)]\n",
    "        \n",
    "        # 計算した評価値を返す\n",
    "        return score\n",
    "\n",
    "    return ai_by_score(mb, eval_func, debug=debug) "
   ]
  },
  {
   "cell_type": "code",
   "execution_count": 7,
   "metadata": {},
   "outputs": [
    {
     "name": "stdout",
     "output_type": "stream",
     "text": [
      "ai10s VS ai2\n",
      "count     win    lose    draw\n",
      "o        9737       0     263\n",
      "x        8564     263    1173\n",
      "total   18301     263    1436\n",
      "\n",
      "ratio     win    lose    draw\n",
      "o       97.4%    0.0%    2.6%\n",
      "x       85.6%    2.6%   11.7%\n",
      "total   91.5%    1.3%    7.2%\n",
      "\n"
     ]
    }
   ],
   "source": [
    "ai_match(ai=[ai10s, ai2])"
   ]
  },
  {
   "cell_type": "code",
   "execution_count": 8,
   "metadata": {},
   "outputs": [
    {
     "name": "stdout",
     "output_type": "stream",
     "text": [
      "ai10s VS ai9s\n",
      "count     win    lose    draw\n",
      "o        7478       0    2522\n",
      "x         791       0    9209\n",
      "total    8269       0   11731\n",
      "\n",
      "ratio     win    lose    draw\n",
      "o       74.8%    0.0%   25.2%\n",
      "x        7.9%    0.0%   92.1%\n",
      "total   41.3%    0.0%   58.7%\n",
      "\n"
     ]
    }
   ],
   "source": [
    "ai_match(ai=[ai10s, ai9s])"
   ]
  },
  {
   "cell_type": "code",
   "execution_count": 9,
   "metadata": {},
   "outputs": [],
   "source": [
    "def ai10s(mb, debug=False):\n",
    "    def eval_func(mb):      \n",
    "        # 真ん中のマスに着手している場合は、評価値として 300 を返す\n",
    "        if mb.last_move == (1, 1):\n",
    "            return 300\n",
    "    \n",
    "        # 自分が勝利している場合は、評価値として 200 を返す\n",
    "        if mb.status == mb.last_turn:\n",
    "            return 200\n",
    "\n",
    "        markpats = mb.count_markpats()\n",
    "        # 相手が勝利できる場合は評価値として -100 を返す\n",
    "        if markpats[Markpat(last_turn=0, turn=2, empty=1)] > 0:\n",
    "            return -100\n",
    "        # 次の自分の手番で自分が必ず勝利できる場合は評価値として 100 を返す\n",
    "        elif markpats[Markpat(last_turn=2, turn=0, empty=1)] >= 2:\n",
    "            return 100\n",
    "\n",
    "        # 評価値の合計を計算する変数を 0 で初期化する\n",
    "        score = 0        \n",
    "        # 次の自分の手番で自分が勝利できる場合は評価値に 5 を加算する\n",
    "        if markpats[Markpat(last_turn=2, turn=0, empty=1)] == 1:\n",
    "            score += 5\n",
    "        # 「自 1 敵 0 空 2」の数だけ、評価値を加算する\n",
    "        score += markpats[Markpat(last_turn=1, turn=0, empty=2)]\n",
    "        \n",
    "        # 計算した評価値を返す\n",
    "        return score\n",
    "\n",
    "    return ai_by_score(mb, eval_func, debug=debug)"
   ]
  },
  {
   "cell_type": "code",
   "execution_count": 10,
   "metadata": {},
   "outputs": [
    {
     "name": "stdout",
     "output_type": "stream",
     "text": [
      "ai10s VS ai2\n",
      "count     win    lose    draw\n",
      "o        9904       0      96\n",
      "x        9002     305     693\n",
      "total   18906     305     789\n",
      "\n",
      "ratio     win    lose    draw\n",
      "o       99.0%    0.0%    1.0%\n",
      "x       90.0%    3.0%    6.9%\n",
      "total   94.5%    1.5%    3.9%\n",
      "\n"
     ]
    }
   ],
   "source": [
    "ai_match(ai=[ai10s, ai2])"
   ]
  },
  {
   "cell_type": "code",
   "execution_count": 11,
   "metadata": {},
   "outputs": [
    {
     "name": "stdout",
     "output_type": "stream",
     "text": [
      "ai10s VS ai9s\n",
      "count     win    lose    draw\n",
      "o        4878       0    5122\n",
      "x         802       0    9198\n",
      "total    5680       0   14320\n",
      "\n",
      "ratio     win    lose    draw\n",
      "o       48.8%    0.0%   51.2%\n",
      "x        8.0%    0.0%   92.0%\n",
      "total   28.4%    0.0%   71.6%\n",
      "\n"
     ]
    }
   ],
   "source": [
    "ai_match(ai=[ai10s, ai9s])"
   ]
  },
  {
   "cell_type": "markdown",
   "metadata": {},
   "source": [
    "次の自分の手番で自分が勝利できる場合は評価値を 1 に戻す"
   ]
  },
  {
   "cell_type": "code",
   "execution_count": 29,
   "metadata": {},
   "outputs": [],
   "source": [
    "def ai10s(mb, debug=False):\n",
    "    def eval_func(mb):      \n",
    "        # 真ん中のマスに着手している場合は、評価値として 300 を返す\n",
    "        if mb.last_move == (1, 1):\n",
    "            return 300\n",
    "    \n",
    "        # 自分が勝利している場合は、評価値として 200 を返す\n",
    "        if mb.status == mb.last_turn:\n",
    "            return 200\n",
    "\n",
    "        markpats = mb.count_markpats()\n",
    "        # 相手が勝利できる場合は評価値として -100 を返す\n",
    "        if markpats[Markpat(last_turn=0, turn=2, empty=1)] > 0:\n",
    "            return -100\n",
    "        # 次の自分の手番で自分が必ず勝利できる場合は評価値として 100 を返す\n",
    "        elif markpats[Markpat(last_turn=2, turn=0, empty=1)] >= 2:\n",
    "            return 100\n",
    "\n",
    "        # 評価値の合計を計算する変数を 0 で初期化する\n",
    "        score = 0        \n",
    "        # 次の自分の手番で自分が勝利できる場合は評価値に 1 を加算する\n",
    "        if markpats[Markpat(last_turn=2, turn=0, empty=1)] == 1:\n",
    "            score += 1\n",
    "        # 「自 1 敵 0 空 2」の数だけ、評価値を加算する\n",
    "        score += markpats[Markpat(last_turn=1, turn=0, empty=2)]\n",
    "        \n",
    "        # 計算した評価値を返す\n",
    "        return score\n",
    "\n",
    "    return ai_by_score(mb, eval_func, debug=debug)"
   ]
  },
  {
   "cell_type": "code",
   "execution_count": 12,
   "metadata": {},
   "outputs": [],
   "source": [
    "def ai11s(mb, debug=False):\n",
    "    def eval_func(mb):      \n",
    "        # 真ん中のマスに着手している場合は、評価値として 300 を返す\n",
    "        if mb.last_move == (1, 1):\n",
    "            return 300\n",
    "    \n",
    "        # 自分が勝利している場合は、評価値として 200 を返す\n",
    "        if mb.status == mb.last_turn:\n",
    "            return 200\n",
    "\n",
    "        markpats = mb.count_markpats()\n",
    "        # 相手が勝利できる場合は評価値として -100 を返す\n",
    "        if markpats[Markpat(last_turn=0, turn=2, empty=1)] > 0:\n",
    "            return -100\n",
    "        # 次の自分の手番で自分が必ず勝利できる場合は評価値として 100 を返す\n",
    "        elif markpats[Markpat(last_turn=2, turn=0, empty=1)] >= 2:\n",
    "            return 100\n",
    "\n",
    "        # 評価値の合計を計算する変数を 0 で初期化する\n",
    "        score = 0        \n",
    "        # 次の自分の手番で自分が勝利できる場合は評価値に 1 を加算する\n",
    "        if markpats[Markpat(last_turn=2, turn=0, empty=1)] == 1:\n",
    "            score += 1\n",
    "        # 「自 1 敵 0 空 2」の数だけ、評価値を加算する\n",
    "        score += markpats[Markpat(last_turn=1, turn=0, empty=2)]\n",
    "        # 「自 0 敵 1 空 2」の数だけ、評価値を減算する\n",
    "        score -= markpats[Markpat(last_turn=0, turn=1, empty=2)]\n",
    "        \n",
    "        # 計算した評価値を返す\n",
    "        return score\n",
    "\n",
    "    return ai_by_score(mb, eval_func, debug=debug)"
   ]
  },
  {
   "cell_type": "code",
   "execution_count": 13,
   "metadata": {},
   "outputs": [
    {
     "name": "stdout",
     "output_type": "stream",
     "text": [
      "ai11s VS ai2\n",
      "count     win    lose    draw\n",
      "o        9813       0     187\n",
      "x        8251     193    1556\n",
      "total   18064     193    1743\n",
      "\n",
      "ratio     win    lose    draw\n",
      "o       98.1%    0.0%    1.9%\n",
      "x       82.5%    1.9%   15.6%\n",
      "total   90.3%    1.0%    8.7%\n",
      "\n"
     ]
    }
   ],
   "source": [
    "ai_match(ai=[ai11s, ai2])"
   ]
  },
  {
   "cell_type": "code",
   "execution_count": 17,
   "metadata": {},
   "outputs": [
    {
     "name": "stdout",
     "output_type": "stream",
     "text": [
      "ai11s VS ai10s\n",
      "count     win    lose    draw\n",
      "o        2186       0    7814\n",
      "x           0    5014    4986\n",
      "total    2186    5014   12800\n",
      "\n",
      "ratio     win    lose    draw\n",
      "o       21.9%    0.0%   78.1%\n",
      "x        0.0%   50.1%   49.9%\n",
      "total   10.9%   25.1%   64.0%\n",
      "\n"
     ]
    }
   ],
   "source": [
    "ai_match(ai=[ai11s, ai10s])"
   ]
  }
 ],
 "metadata": {
  "kernelspec": {
   "display_name": "marubatsu",
   "language": "python",
   "name": "python3"
  },
  "language_info": {
   "codemirror_mode": {
    "name": "ipython",
    "version": 3
   },
   "file_extension": ".py",
   "mimetype": "text/x-python",
   "name": "python",
   "nbconvert_exporter": "python",
   "pygments_lexer": "ipython3",
   "version": "3.11.4"
  }
 },
 "nbformat": 4,
 "nbformat_minor": 2
}
