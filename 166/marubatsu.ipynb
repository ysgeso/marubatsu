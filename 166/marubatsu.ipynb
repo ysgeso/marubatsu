{
 "cells": [
  {
   "cell_type": "code",
   "execution_count": 1,
   "metadata": {},
   "outputs": [],
   "source": [
    "from ai import ai_by_score, dprint\n",
    "from marubatsu import Marubatsu\n",
    "from copy import deepcopy\n",
    "\n",
    "@ai_by_score\n",
    "def ai_scout(mb, debug=False, shortest_victory=False,\n",
    "             init_ab=False, use_tt=False, ai_for_mo=None,\n",
    "             params={}, sort_allnodes=False, calc_count=False):        \n",
    "    count = 0\n",
    "    def ab_search(mborig, tt, alpha=float(\"-inf\"), beta=float(\"inf\")):\n",
    "        nonlocal count\n",
    "        count += 1\n",
    "        if mborig.status == Marubatsu.CIRCLE:\n",
    "            return (11 - mborig.move_count) / 2 if shortest_victory else 1\n",
    "        elif mborig.status == Marubatsu.CROSS:\n",
    "            return (mborig.move_count - 10) / 2 if shortest_victory else -1\n",
    "        elif mborig.status == Marubatsu.DRAW:\n",
    "            return 0\n",
    "        \n",
    "        if use_tt:\n",
    "            boardtxt = mborig.board_to_str()\n",
    "            if boardtxt in tt:\n",
    "                lower_bound, upper_bound = tt[boardtxt]\n",
    "                if lower_bound == upper_bound:\n",
    "                    return lower_bound\n",
    "                elif upper_bound <= alpha:\n",
    "                    return upper_bound\n",
    "                elif beta <= lower_bound:\n",
    "                    return lower_bound\n",
    "                else:\n",
    "                    alpha = max(alpha, lower_bound)\n",
    "                    beta = min(beta, upper_bound)\n",
    "            else:\n",
    "                lower_bound = min_score\n",
    "                upper_bound = max_score\n",
    "        \n",
    "        alphaorig = alpha\n",
    "        betaorig = beta\n",
    "\n",
    "        legal_moves = mborig.calc_legal_moves()\n",
    "        if ai_for_mo is not None:\n",
    "            if sort_allnodes:\n",
    "                score_by_move = ai_for_mo(mborig, analyze=True, **params)[\"score_by_move\"]\n",
    "                score_by_move_list = sorted(score_by_move.items(), key=lambda x:x[1], reverse=True)\n",
    "                legal_moves = [x[0] for x in score_by_move_list]\n",
    "            else:\n",
    "                legal_moves = mborig.calc_legal_moves()\n",
    "                bestmove = ai_for_mo(mborig, rand=False, **params)\n",
    "                index = legal_moves.index(bestmove)\n",
    "                legal_moves[0], legal_moves[index] = legal_moves[index], legal_moves[0]\n",
    "\n",
    "        if mborig.turn == Marubatsu.CIRCLE:\n",
    "            x, y = legal_moves[0]\n",
    "            mb = deepcopy(mborig)\n",
    "            mb.move(x, y)\n",
    "            score = ab_search(mb, tt, alpha, beta)\n",
    "            alpha = max(alpha, score)\n",
    "            if score < beta:\n",
    "                for x, y in legal_moves[1:]:\n",
    "                    mb = deepcopy(mborig)\n",
    "                    mb.move(x, y)\n",
    "                    score = max(score, ab_search(mb, tt, alpha, alpha + 1))\n",
    "                    if score >= beta:\n",
    "                        break\n",
    "                    elif score > alpha:\n",
    "                        score = max(score, ab_search(mb, tt, alpha, beta))\n",
    "                        if score >= beta:\n",
    "                            break\n",
    "                        alpha = max(alpha, score)\n",
    "        else:\n",
    "            x, y = legal_moves[0]\n",
    "            mb = deepcopy(mborig)\n",
    "            mb.move(x, y)\n",
    "            score = ab_search(mb, tt, alpha, beta)\n",
    "            beta = min(beta, score)\n",
    "            if score > alpha:\n",
    "                for x, y in legal_moves[1:]:\n",
    "                    mb = deepcopy(mborig)\n",
    "                    mb.move(x, y)\n",
    "                    score = min(score, ab_search(mb, tt, beta - 1, beta))\n",
    "                    if score <= alpha:\n",
    "                        break\n",
    "                    elif score < beta:\n",
    "                        score = min(score, ab_search(mb, tt, alpha, beta))\n",
    "                        if score <= alpha:\n",
    "                            break\n",
    "                        beta = min(beta, score)   \n",
    "            \n",
    "        if use_tt:\n",
    "            from util import calc_same_boardtexts\n",
    "\n",
    "            boardtxtlist = calc_same_boardtexts(mborig)\n",
    "            if score <= alphaorig:\n",
    "                upper_bound = score\n",
    "            elif score < betaorig:\n",
    "                lower_bound = score\n",
    "                upper_bound = score\n",
    "            else:\n",
    "                lower_bound = score\n",
    "            for boardtxt in boardtxtlist:\n",
    "                tt[boardtxt] = (lower_bound, upper_bound)\n",
    "        return score\n",
    "                \n",
    "    min_score = -2 if shortest_victory else -1\n",
    "    max_score = 3 if shortest_victory else 1\n",
    "    alpha = min_score if init_ab else float(\"-inf\")\n",
    "    beta = max_score if init_ab else float(\"inf\")\n",
    "\n",
    "    score = ab_search(mb, {}, alpha=alpha, beta=beta)\n",
    "    dprint(debug, \"count =\", count)\n",
    "    if calc_count:\n",
    "        return count\n",
    "    if mb.turn == Marubatsu.CIRCLE:\n",
    "        score *= -1\n",
    "    return score"
   ]
  },
  {
   "cell_type": "code",
   "execution_count": 2,
   "metadata": {},
   "outputs": [
    {
     "name": "stdout",
     "output_type": "stream",
     "text": [
      "ai_for_mo: None, sv: False, use_tt: False, init_ab: False sort: False\n"
     ]
    },
    {
     "name": "stderr",
     "output_type": "stream",
     "text": [
      "100%|██████████| 431/431 [00:04<00:00, 104.11it/s]\n"
     ]
    },
    {
     "name": "stdout",
     "output_type": "stream",
     "text": [
      "431/431 100.00%\n",
      "ai_for_mo: None, sv: False, use_tt: False, init_ab: False sort: True\n"
     ]
    },
    {
     "name": "stderr",
     "output_type": "stream",
     "text": [
      "100%|██████████| 431/431 [00:04<00:00, 99.15it/s] \n"
     ]
    },
    {
     "name": "stdout",
     "output_type": "stream",
     "text": [
      "431/431 100.00%\n",
      "ai_for_mo: None, sv: False, use_tt: False, init_ab: True sort: False\n"
     ]
    },
    {
     "name": "stderr",
     "output_type": "stream",
     "text": [
      "100%|██████████| 431/431 [00:03<00:00, 136.48it/s]\n"
     ]
    },
    {
     "name": "stdout",
     "output_type": "stream",
     "text": [
      "431/431 100.00%\n",
      "ai_for_mo: None, sv: False, use_tt: False, init_ab: True sort: True\n"
     ]
    },
    {
     "name": "stderr",
     "output_type": "stream",
     "text": [
      "100%|██████████| 431/431 [00:03<00:00, 128.78it/s]\n"
     ]
    },
    {
     "name": "stdout",
     "output_type": "stream",
     "text": [
      "431/431 100.00%\n",
      "ai_for_mo: None, sv: False, use_tt: True, init_ab: False sort: False\n"
     ]
    },
    {
     "name": "stderr",
     "output_type": "stream",
     "text": [
      "100%|██████████| 431/431 [00:03<00:00, 117.90it/s]\n"
     ]
    },
    {
     "name": "stdout",
     "output_type": "stream",
     "text": [
      "431/431 100.00%\n",
      "ai_for_mo: None, sv: False, use_tt: True, init_ab: False sort: True\n"
     ]
    },
    {
     "name": "stderr",
     "output_type": "stream",
     "text": [
      "100%|██████████| 431/431 [00:03<00:00, 124.93it/s]\n"
     ]
    },
    {
     "name": "stdout",
     "output_type": "stream",
     "text": [
      "431/431 100.00%\n",
      "ai_for_mo: None, sv: False, use_tt: True, init_ab: True sort: False\n"
     ]
    },
    {
     "name": "stderr",
     "output_type": "stream",
     "text": [
      "100%|██████████| 431/431 [00:02<00:00, 169.56it/s]\n"
     ]
    },
    {
     "name": "stdout",
     "output_type": "stream",
     "text": [
      "431/431 100.00%\n",
      "ai_for_mo: None, sv: False, use_tt: True, init_ab: True sort: True\n"
     ]
    },
    {
     "name": "stderr",
     "output_type": "stream",
     "text": [
      "100%|██████████| 431/431 [00:02<00:00, 184.85it/s]\n"
     ]
    },
    {
     "name": "stdout",
     "output_type": "stream",
     "text": [
      "431/431 100.00%\n",
      "ai_for_mo: None, sv: True, use_tt: False, init_ab: False sort: False\n"
     ]
    },
    {
     "name": "stderr",
     "output_type": "stream",
     "text": [
      "100%|██████████| 431/431 [00:04<00:00, 102.92it/s]\n"
     ]
    },
    {
     "name": "stdout",
     "output_type": "stream",
     "text": [
      "431/431 100.00%\n",
      "ai_for_mo: None, sv: True, use_tt: False, init_ab: False sort: True\n"
     ]
    },
    {
     "name": "stderr",
     "output_type": "stream",
     "text": [
      "100%|██████████| 431/431 [00:03<00:00, 107.99it/s]\n"
     ]
    },
    {
     "name": "stdout",
     "output_type": "stream",
     "text": [
      "431/431 100.00%\n",
      "ai_for_mo: None, sv: True, use_tt: False, init_ab: True sort: False\n"
     ]
    },
    {
     "name": "stderr",
     "output_type": "stream",
     "text": [
      "100%|██████████| 431/431 [00:04<00:00, 89.88it/s] \n"
     ]
    },
    {
     "name": "stdout",
     "output_type": "stream",
     "text": [
      "431/431 100.00%\n",
      "ai_for_mo: None, sv: True, use_tt: False, init_ab: True sort: True\n"
     ]
    },
    {
     "name": "stderr",
     "output_type": "stream",
     "text": [
      "100%|██████████| 431/431 [00:04<00:00, 90.29it/s] \n"
     ]
    },
    {
     "name": "stdout",
     "output_type": "stream",
     "text": [
      "431/431 100.00%\n",
      "ai_for_mo: None, sv: True, use_tt: True, init_ab: False sort: False\n"
     ]
    },
    {
     "name": "stderr",
     "output_type": "stream",
     "text": [
      "100%|██████████| 431/431 [00:02<00:00, 144.75it/s]\n"
     ]
    },
    {
     "name": "stdout",
     "output_type": "stream",
     "text": [
      "431/431 100.00%\n",
      "ai_for_mo: None, sv: True, use_tt: True, init_ab: False sort: True\n"
     ]
    },
    {
     "name": "stderr",
     "output_type": "stream",
     "text": [
      "100%|██████████| 431/431 [00:03<00:00, 117.67it/s]\n"
     ]
    },
    {
     "name": "stdout",
     "output_type": "stream",
     "text": [
      "431/431 100.00%\n",
      "ai_for_mo: None, sv: True, use_tt: True, init_ab: True sort: False\n"
     ]
    },
    {
     "name": "stderr",
     "output_type": "stream",
     "text": [
      "100%|██████████| 431/431 [00:03<00:00, 115.99it/s]\n"
     ]
    },
    {
     "name": "stdout",
     "output_type": "stream",
     "text": [
      "431/431 100.00%\n",
      "ai_for_mo: None, sv: True, use_tt: True, init_ab: True sort: True\n"
     ]
    },
    {
     "name": "stderr",
     "output_type": "stream",
     "text": [
      "100%|██████████| 431/431 [00:03<00:00, 111.76it/s]\n"
     ]
    },
    {
     "name": "stdout",
     "output_type": "stream",
     "text": [
      "431/431 100.00%\n",
      "ai_for_mo: <function ai2s at 0x0000016BFAD08EA0>, sv: False, use_tt: False, init_ab: False sort: False\n"
     ]
    },
    {
     "name": "stderr",
     "output_type": "stream",
     "text": [
      "100%|██████████| 431/431 [00:09<00:00, 45.05it/s] \n"
     ]
    },
    {
     "name": "stdout",
     "output_type": "stream",
     "text": [
      "431/431 100.00%\n",
      "ai_for_mo: <function ai2s at 0x0000016BFAD08EA0>, sv: False, use_tt: False, init_ab: False sort: True\n"
     ]
    },
    {
     "name": "stderr",
     "output_type": "stream",
     "text": [
      "100%|██████████| 431/431 [00:09<00:00, 44.33it/s] \n"
     ]
    },
    {
     "name": "stdout",
     "output_type": "stream",
     "text": [
      "431/431 100.00%\n",
      "ai_for_mo: <function ai2s at 0x0000016BFAD08EA0>, sv: False, use_tt: False, init_ab: True sort: False\n"
     ]
    },
    {
     "name": "stderr",
     "output_type": "stream",
     "text": [
      "100%|██████████| 431/431 [00:07<00:00, 60.53it/s] \n"
     ]
    },
    {
     "name": "stdout",
     "output_type": "stream",
     "text": [
      "431/431 100.00%\n",
      "ai_for_mo: <function ai2s at 0x0000016BFAD08EA0>, sv: False, use_tt: False, init_ab: True sort: True\n"
     ]
    },
    {
     "name": "stderr",
     "output_type": "stream",
     "text": [
      "100%|██████████| 431/431 [00:06<00:00, 64.87it/s] \n"
     ]
    },
    {
     "name": "stdout",
     "output_type": "stream",
     "text": [
      "431/431 100.00%\n",
      "ai_for_mo: <function ai2s at 0x0000016BFAD08EA0>, sv: False, use_tt: True, init_ab: False sort: False\n"
     ]
    },
    {
     "name": "stderr",
     "output_type": "stream",
     "text": [
      "100%|██████████| 431/431 [00:06<00:00, 65.99it/s] \n"
     ]
    },
    {
     "name": "stdout",
     "output_type": "stream",
     "text": [
      "431/431 100.00%\n",
      "ai_for_mo: <function ai2s at 0x0000016BFAD08EA0>, sv: False, use_tt: True, init_ab: False sort: True\n"
     ]
    },
    {
     "name": "stderr",
     "output_type": "stream",
     "text": [
      "100%|██████████| 431/431 [00:06<00:00, 69.28it/s] \n"
     ]
    },
    {
     "name": "stdout",
     "output_type": "stream",
     "text": [
      "431/431 100.00%\n",
      "ai_for_mo: <function ai2s at 0x0000016BFAD08EA0>, sv: False, use_tt: True, init_ab: True sort: False\n"
     ]
    },
    {
     "name": "stderr",
     "output_type": "stream",
     "text": [
      "100%|██████████| 431/431 [00:05<00:00, 73.54it/s] \n"
     ]
    },
    {
     "name": "stdout",
     "output_type": "stream",
     "text": [
      "431/431 100.00%\n",
      "ai_for_mo: <function ai2s at 0x0000016BFAD08EA0>, sv: False, use_tt: True, init_ab: True sort: True\n"
     ]
    },
    {
     "name": "stderr",
     "output_type": "stream",
     "text": [
      "100%|██████████| 431/431 [00:04<00:00, 87.02it/s] \n"
     ]
    },
    {
     "name": "stdout",
     "output_type": "stream",
     "text": [
      "431/431 100.00%\n",
      "ai_for_mo: <function ai2s at 0x0000016BFAD08EA0>, sv: True, use_tt: False, init_ab: False sort: False\n"
     ]
    },
    {
     "name": "stderr",
     "output_type": "stream",
     "text": [
      "100%|██████████| 431/431 [00:09<00:00, 43.97it/s] \n"
     ]
    },
    {
     "name": "stdout",
     "output_type": "stream",
     "text": [
      "431/431 100.00%\n",
      "ai_for_mo: <function ai2s at 0x0000016BFAD08EA0>, sv: True, use_tt: False, init_ab: False sort: True\n"
     ]
    },
    {
     "name": "stderr",
     "output_type": "stream",
     "text": [
      "100%|██████████| 431/431 [00:09<00:00, 45.49it/s] \n"
     ]
    },
    {
     "name": "stdout",
     "output_type": "stream",
     "text": [
      "431/431 100.00%\n",
      "ai_for_mo: <function ai2s at 0x0000016BFAD08EA0>, sv: True, use_tt: False, init_ab: True sort: False\n"
     ]
    },
    {
     "name": "stderr",
     "output_type": "stream",
     "text": [
      "100%|██████████| 431/431 [00:09<00:00, 46.27it/s] \n"
     ]
    },
    {
     "name": "stdout",
     "output_type": "stream",
     "text": [
      "431/431 100.00%\n",
      "ai_for_mo: <function ai2s at 0x0000016BFAD08EA0>, sv: True, use_tt: False, init_ab: True sort: True\n"
     ]
    },
    {
     "name": "stderr",
     "output_type": "stream",
     "text": [
      "100%|██████████| 431/431 [00:09<00:00, 44.30it/s] \n"
     ]
    },
    {
     "name": "stdout",
     "output_type": "stream",
     "text": [
      "431/431 100.00%\n",
      "ai_for_mo: <function ai2s at 0x0000016BFAD08EA0>, sv: True, use_tt: True, init_ab: False sort: False\n"
     ]
    },
    {
     "name": "stderr",
     "output_type": "stream",
     "text": [
      "100%|██████████| 431/431 [00:06<00:00, 63.18it/s] \n"
     ]
    },
    {
     "name": "stdout",
     "output_type": "stream",
     "text": [
      "431/431 100.00%\n",
      "ai_for_mo: <function ai2s at 0x0000016BFAD08EA0>, sv: True, use_tt: True, init_ab: False sort: True\n"
     ]
    },
    {
     "name": "stderr",
     "output_type": "stream",
     "text": [
      "100%|██████████| 431/431 [00:07<00:00, 58.22it/s] \n"
     ]
    },
    {
     "name": "stdout",
     "output_type": "stream",
     "text": [
      "431/431 100.00%\n",
      "ai_for_mo: <function ai2s at 0x0000016BFAD08EA0>, sv: True, use_tt: True, init_ab: True sort: False\n"
     ]
    },
    {
     "name": "stderr",
     "output_type": "stream",
     "text": [
      "100%|██████████| 431/431 [00:06<00:00, 69.00it/s] \n"
     ]
    },
    {
     "name": "stdout",
     "output_type": "stream",
     "text": [
      "431/431 100.00%\n",
      "ai_for_mo: <function ai2s at 0x0000016BFAD08EA0>, sv: True, use_tt: True, init_ab: True sort: True\n"
     ]
    },
    {
     "name": "stderr",
     "output_type": "stream",
     "text": [
      "100%|██████████| 431/431 [00:07<00:00, 57.73it/s] \n"
     ]
    },
    {
     "name": "stdout",
     "output_type": "stream",
     "text": [
      "431/431 100.00%\n",
      "ai_for_mo: <function ai14s at 0x0000016BFAD0A3E0>, sv: False, use_tt: False, init_ab: False sort: False\n"
     ]
    },
    {
     "name": "stderr",
     "output_type": "stream",
     "text": [
      "100%|██████████| 431/431 [00:04<00:00, 89.03it/s] \n"
     ]
    },
    {
     "name": "stdout",
     "output_type": "stream",
     "text": [
      "431/431 100.00%\n",
      "ai_for_mo: <function ai14s at 0x0000016BFAD0A3E0>, sv: False, use_tt: False, init_ab: False sort: True\n"
     ]
    },
    {
     "name": "stderr",
     "output_type": "stream",
     "text": [
      "100%|██████████| 431/431 [00:04<00:00, 86.70it/s] \n"
     ]
    },
    {
     "name": "stdout",
     "output_type": "stream",
     "text": [
      "431/431 100.00%\n",
      "ai_for_mo: <function ai14s at 0x0000016BFAD0A3E0>, sv: False, use_tt: False, init_ab: True sort: False\n"
     ]
    },
    {
     "name": "stderr",
     "output_type": "stream",
     "text": [
      "100%|██████████| 431/431 [00:02<00:00, 152.74it/s]\n"
     ]
    },
    {
     "name": "stdout",
     "output_type": "stream",
     "text": [
      "431/431 100.00%\n",
      "ai_for_mo: <function ai14s at 0x0000016BFAD0A3E0>, sv: False, use_tt: False, init_ab: True sort: True\n"
     ]
    },
    {
     "name": "stderr",
     "output_type": "stream",
     "text": [
      "100%|██████████| 431/431 [00:02<00:00, 156.34it/s]\n"
     ]
    },
    {
     "name": "stdout",
     "output_type": "stream",
     "text": [
      "431/431 100.00%\n",
      "ai_for_mo: <function ai14s at 0x0000016BFAD0A3E0>, sv: False, use_tt: True, init_ab: False sort: False\n"
     ]
    },
    {
     "name": "stderr",
     "output_type": "stream",
     "text": [
      "100%|██████████| 431/431 [00:04<00:00, 92.21it/s] \n"
     ]
    },
    {
     "name": "stdout",
     "output_type": "stream",
     "text": [
      "431/431 100.00%\n",
      "ai_for_mo: <function ai14s at 0x0000016BFAD0A3E0>, sv: False, use_tt: True, init_ab: False sort: True\n"
     ]
    },
    {
     "name": "stderr",
     "output_type": "stream",
     "text": [
      "100%|██████████| 431/431 [00:05<00:00, 80.23it/s] \n"
     ]
    },
    {
     "name": "stdout",
     "output_type": "stream",
     "text": [
      "431/431 100.00%\n",
      "ai_for_mo: <function ai14s at 0x0000016BFAD0A3E0>, sv: False, use_tt: True, init_ab: True sort: False\n"
     ]
    },
    {
     "name": "stderr",
     "output_type": "stream",
     "text": [
      "100%|██████████| 431/431 [00:02<00:00, 152.28it/s]\n"
     ]
    },
    {
     "name": "stdout",
     "output_type": "stream",
     "text": [
      "431/431 100.00%\n",
      "ai_for_mo: <function ai14s at 0x0000016BFAD0A3E0>, sv: False, use_tt: True, init_ab: True sort: True\n"
     ]
    },
    {
     "name": "stderr",
     "output_type": "stream",
     "text": [
      "100%|██████████| 431/431 [00:03<00:00, 132.44it/s]\n"
     ]
    },
    {
     "name": "stdout",
     "output_type": "stream",
     "text": [
      "431/431 100.00%\n",
      "ai_for_mo: <function ai14s at 0x0000016BFAD0A3E0>, sv: True, use_tt: False, init_ab: False sort: False\n"
     ]
    },
    {
     "name": "stderr",
     "output_type": "stream",
     "text": [
      "100%|██████████| 431/431 [00:06<00:00, 67.25it/s] \n"
     ]
    },
    {
     "name": "stdout",
     "output_type": "stream",
     "text": [
      "431/431 100.00%\n",
      "ai_for_mo: <function ai14s at 0x0000016BFAD0A3E0>, sv: True, use_tt: False, init_ab: False sort: True\n"
     ]
    },
    {
     "name": "stderr",
     "output_type": "stream",
     "text": [
      "100%|██████████| 431/431 [00:06<00:00, 70.51it/s] \n"
     ]
    },
    {
     "name": "stdout",
     "output_type": "stream",
     "text": [
      "431/431 100.00%\n",
      "ai_for_mo: <function ai14s at 0x0000016BFAD0A3E0>, sv: True, use_tt: False, init_ab: True sort: False\n"
     ]
    },
    {
     "name": "stderr",
     "output_type": "stream",
     "text": [
      "100%|██████████| 431/431 [00:04<00:00, 90.34it/s] \n"
     ]
    },
    {
     "name": "stdout",
     "output_type": "stream",
     "text": [
      "431/431 100.00%\n",
      "ai_for_mo: <function ai14s at 0x0000016BFAD0A3E0>, sv: True, use_tt: False, init_ab: True sort: True\n"
     ]
    },
    {
     "name": "stderr",
     "output_type": "stream",
     "text": [
      "100%|██████████| 431/431 [00:04<00:00, 99.04it/s] \n"
     ]
    },
    {
     "name": "stdout",
     "output_type": "stream",
     "text": [
      "431/431 100.00%\n",
      "ai_for_mo: <function ai14s at 0x0000016BFAD0A3E0>, sv: True, use_tt: True, init_ab: False sort: False\n"
     ]
    },
    {
     "name": "stderr",
     "output_type": "stream",
     "text": [
      "100%|██████████| 431/431 [00:05<00:00, 84.64it/s] \n"
     ]
    },
    {
     "name": "stdout",
     "output_type": "stream",
     "text": [
      "431/431 100.00%\n",
      "ai_for_mo: <function ai14s at 0x0000016BFAD0A3E0>, sv: True, use_tt: True, init_ab: False sort: True\n"
     ]
    },
    {
     "name": "stderr",
     "output_type": "stream",
     "text": [
      "100%|██████████| 431/431 [00:05<00:00, 80.58it/s] \n"
     ]
    },
    {
     "name": "stdout",
     "output_type": "stream",
     "text": [
      "431/431 100.00%\n",
      "ai_for_mo: <function ai14s at 0x0000016BFAD0A3E0>, sv: True, use_tt: True, init_ab: True sort: False\n"
     ]
    },
    {
     "name": "stderr",
     "output_type": "stream",
     "text": [
      "100%|██████████| 431/431 [00:04<00:00, 102.03it/s]\n"
     ]
    },
    {
     "name": "stdout",
     "output_type": "stream",
     "text": [
      "431/431 100.00%\n",
      "ai_for_mo: <function ai14s at 0x0000016BFAD0A3E0>, sv: True, use_tt: True, init_ab: True sort: True\n"
     ]
    },
    {
     "name": "stderr",
     "output_type": "stream",
     "text": [
      "100%|██████████| 431/431 [00:04<00:00, 104.05it/s]"
     ]
    },
    {
     "name": "stdout",
     "output_type": "stream",
     "text": [
      "431/431 100.00%\n"
     ]
    },
    {
     "name": "stderr",
     "output_type": "stream",
     "text": [
      "\n"
     ]
    }
   ],
   "source": [
    "from util import Check_solved\n",
    "from ai import ai2s, ai14s\n",
    "\n",
    "for ai_for_mo in [None, ai2s, ai14s]:\n",
    "    for shortest_victory in [False, True]:\n",
    "        for use_tt in [False, True]:\n",
    "            for init_ab in [False, True]:\n",
    "                for sort_allnodes in [False, True]:\n",
    "                    print(f\"ai_for_mo: {ai_for_mo}, sv: {shortest_victory}, use_tt: {use_tt}, init_ab: {init_ab} sort: {sort_allnodes}\")\n",
    "                    params = {\n",
    "                        \"ai_for_mo\": ai_for_mo,\n",
    "                        \"shortest_victory\": shortest_victory,\n",
    "                        \"init_ab\": init_ab,\n",
    "                        \"use_tt\": use_tt,\n",
    "                        \"sort_allnodes\": sort_allnodes,\n",
    "                    }\n",
    "                    Check_solved.is_strongly_solved(ai_scout, params=params)"
   ]
  },
  {
   "cell_type": "code",
   "execution_count": 3,
   "metadata": {},
   "outputs": [
    {
     "name": "stdout",
     "output_type": "stream",
     "text": [
      "ai_for_mo: <function ai10s at 0x0000016BFAD09EE0>, sv: False, init_ab: False, use_tt: False\n",
      "abs count= 13866\n",
      "scout count= 14726\n",
      "ai_for_mo: <function ai10s at 0x0000016BFAD09EE0>, sv: False, init_ab: True, use_tt: False\n",
      "abs count= 8769\n",
      "scout count= 9400\n",
      "ai_for_mo: <function ai10s at 0x0000016BFAD09EE0>, sv: False, init_ab: False, use_tt: True\n",
      "abs count= 10384\n",
      "scout count= 10392\n",
      "ai_for_mo: <function ai10s at 0x0000016BFAD09EE0>, sv: False, init_ab: True, use_tt: True\n",
      "abs count= 6651\n",
      "scout count= 6837\n",
      "ai_for_mo: <function ai10s at 0x0000016BFAD09EE0>, sv: True, init_ab: False, use_tt: False\n",
      "abs count= 15135\n",
      "scout count= 15645\n",
      "ai_for_mo: <function ai10s at 0x0000016BFAD09EE0>, sv: True, init_ab: True, use_tt: False\n",
      "abs count= 13145\n",
      "scout count= 14052\n",
      "ai_for_mo: <function ai10s at 0x0000016BFAD09EE0>, sv: True, init_ab: False, use_tt: True\n",
      "abs count= 11091\n",
      "scout count= 11135\n",
      "ai_for_mo: <function ai10s at 0x0000016BFAD09EE0>, sv: True, init_ab: True, use_tt: True\n",
      "abs count= 9743\n",
      "scout count= 9918\n",
      "ai_for_mo: <function ai14s at 0x0000016BFAD0A3E0>, sv: False, init_ab: False, use_tt: False\n",
      "abs count= 10679\n",
      "scout count= 10839\n",
      "ai_for_mo: <function ai14s at 0x0000016BFAD0A3E0>, sv: False, init_ab: True, use_tt: False\n",
      "abs count= 6127\n",
      "scout count= 6194\n",
      "ai_for_mo: <function ai14s at 0x0000016BFAD0A3E0>, sv: False, init_ab: False, use_tt: True\n",
      "abs count= 8792\n",
      "scout count= 8761\n",
      "ai_for_mo: <function ai14s at 0x0000016BFAD0A3E0>, sv: False, init_ab: True, use_tt: True\n",
      "abs count= 5016\n",
      "scout count= 5028\n",
      "ai_for_mo: <function ai14s at 0x0000016BFAD0A3E0>, sv: True, init_ab: False, use_tt: False\n",
      "abs count= 10691\n",
      "scout count= 10869\n",
      "ai_for_mo: <function ai14s at 0x0000016BFAD0A3E0>, sv: True, init_ab: True, use_tt: False\n",
      "abs count= 9263\n",
      "scout count= 9441\n",
      "ai_for_mo: <function ai14s at 0x0000016BFAD0A3E0>, sv: True, init_ab: False, use_tt: True\n",
      "abs count= 8808\n",
      "scout count= 8850\n",
      "ai_for_mo: <function ai14s at 0x0000016BFAD0A3E0>, sv: True, init_ab: True, use_tt: True\n",
      "abs count= 7561\n",
      "scout count= 7603\n"
     ]
    }
   ],
   "source": [
    "from util import load_mblist\n",
    "from ai import ai10s, ai_abs_all\n",
    "\n",
    "mblist = load_mblist(\"../data/mblist_by_board_min.dat\")\n",
    "for ai_for_mo in [ai10s, ai14s]:\n",
    "    for shortest_victory in [False, True]:\n",
    "        for use_tt in [False, True]:\n",
    "            for init_ab in [False, True]:\n",
    "                print(f\"ai_for_mo: {ai_for_mo}, sv: {shortest_victory}, init_ab: {init_ab}, use_tt: {use_tt}\")\n",
    "                count = 0\n",
    "                count2 = 0\n",
    "                for mb in mblist:\n",
    "                    count += ai_abs_all(mb, ai_for_mo=ai_for_mo,\n",
    "                                        shortest_victory=shortest_victory,\n",
    "                                        init_ab=init_ab, use_tt=use_tt,\n",
    "                                        sort_allnodes=False, calc_score=True, calc_count=True)\n",
    "                    count2 += ai_scout(mb, ai_for_mo=ai_for_mo,\n",
    "                                        shortest_victory=shortest_victory,\n",
    "                                        init_ab=init_ab, use_tt=use_tt,\n",
    "                                        sort_allnodes=False, calc_score=True, calc_count=True)\n",
    "                print(\"abs count=\", count)\n",
    "                print(\"scout count=\", count2)"
   ]
  },
  {
   "cell_type": "code",
   "execution_count": 4,
   "metadata": {},
   "outputs": [
    {
     "name": "stdout",
     "output_type": "stream",
     "text": [
      "ai_for_mo: <function ai_gt6 at 0x0000016BFAD0AB60>, sv: False, init_ab: False, use_tt: False\n",
      "abs count= 13151\n",
      "scout count= 13151\n",
      "ai_for_mo: <function ai_gt6 at 0x0000016BFAD0AB60>, sv: False, init_ab: True, use_tt: False\n",
      "abs count= 8225\n",
      "scout count= 8225\n",
      "ai_for_mo: <function ai_gt6 at 0x0000016BFAD0AB60>, sv: False, init_ab: False, use_tt: True\n",
      "abs count= 10035\n",
      "scout count= 10035\n",
      "ai_for_mo: <function ai_gt6 at 0x0000016BFAD0AB60>, sv: False, init_ab: True, use_tt: True\n",
      "abs count= 6080\n",
      "scout count= 6080\n",
      "ai_for_mo: <function ai_gt6 at 0x0000016BFAD0AB60>, sv: True, init_ab: False, use_tt: False\n",
      "abs count= 14404\n",
      "scout count= 14389\n",
      "ai_for_mo: <function ai_gt6 at 0x0000016BFAD0AB60>, sv: True, init_ab: True, use_tt: False\n",
      "abs count= 13215\n",
      "scout count= 13345\n",
      "ai_for_mo: <function ai_gt6 at 0x0000016BFAD0AB60>, sv: True, init_ab: False, use_tt: True\n",
      "abs count= 10634\n",
      "scout count= 10590\n",
      "ai_for_mo: <function ai_gt6 at 0x0000016BFAD0AB60>, sv: True, init_ab: True, use_tt: True\n",
      "abs count= 9691\n",
      "scout count= 9670\n"
     ]
    }
   ],
   "source": [
    "from util import load_bestmoves\n",
    "from ai import ai_gt6\n",
    "\n",
    "bestmoves_by_board = load_bestmoves(\"../data/bestmoves_by_board.dat\")\n",
    "params = {\"bestmoves_by_board\": bestmoves_by_board}\n",
    "for ai_for_mo in [ai_gt6]:\n",
    "    for shortest_victory in [False, True]:\n",
    "        for use_tt in [False, True]:\n",
    "            for init_ab in [False, True]:\n",
    "                print(f\"ai_for_mo: {ai_for_mo}, sv: {shortest_victory}, init_ab: {init_ab}, use_tt: {use_tt}\")\n",
    "                count = 0\n",
    "                count2 = 0\n",
    "                for mb in mblist:\n",
    "                    count += ai_abs_all(mb, ai_for_mo=ai_for_mo, params=params,\n",
    "                                        shortest_victory=shortest_victory,\n",
    "                                        init_ab=init_ab, use_tt=use_tt,\n",
    "                                        calc_score=True, calc_count=True)\n",
    "                    count2 += ai_scout(mb, ai_for_mo=ai_for_mo, params=params,\n",
    "                                        shortest_victory=shortest_victory,\n",
    "                                        init_ab=init_ab, use_tt=use_tt,\n",
    "                                        calc_score=True, calc_count=True)\n",
    "                print(\"abs count=\", count)\n",
    "                print(\"scout count=\", count2)"
   ]
  },
  {
   "cell_type": "code",
   "execution_count": 5,
   "metadata": {},
   "outputs": [
    {
     "name": "stdout",
     "output_type": "stream",
     "text": [
      "ai_for_mo: <function ai_gt6 at 0x0000016BFAD0AB60>, sv: True, init_ab: False, use_tt: False\n",
      "abs count= 11106\n",
      "scout count= 11106\n",
      "ai_for_mo: <function ai_gt6 at 0x0000016BFAD0AB60>, sv: True, init_ab: True, use_tt: False\n",
      "abs count= 9718\n",
      "scout count= 9718\n",
      "ai_for_mo: <function ai_gt6 at 0x0000016BFAD0AB60>, sv: True, init_ab: False, use_tt: True\n",
      "abs count= 8955\n",
      "scout count= 8955\n",
      "ai_for_mo: <function ai_gt6 at 0x0000016BFAD0AB60>, sv: True, init_ab: True, use_tt: True\n",
      "abs count= 7706\n",
      "scout count= 7706\n"
     ]
    }
   ],
   "source": [
    "bestmoves_by_board = load_bestmoves(\"../data/bestmoves_by_board_shortest_victory.dat\")\n",
    "params = {\"bestmoves_by_board\": bestmoves_by_board}\n",
    "for ai_for_mo in [ai_gt6]:\n",
    "    for shortest_victory in [True]:\n",
    "        for use_tt in [False, True]:\n",
    "            for init_ab in [False, True]:\n",
    "                print(f\"ai_for_mo: {ai_for_mo}, sv: {shortest_victory}, init_ab: {init_ab}, use_tt: {use_tt}\")\n",
    "                count = 0\n",
    "                count2 = 0\n",
    "                for mb in mblist:\n",
    "                    count += ai_abs_all(mb, ai_for_mo=ai_for_mo, params=params,\n",
    "                                        shortest_victory=shortest_victory,\n",
    "                                        init_ab=init_ab, use_tt=use_tt,\n",
    "                                        calc_score=True, calc_count=True)\n",
    "                    count2 += ai_scout(mb, ai_for_mo=ai_for_mo, params=params,\n",
    "                                        shortest_victory=shortest_victory,\n",
    "                                        init_ab=init_ab, use_tt=use_tt,\n",
    "                                        calc_score=True, calc_count=True)\n",
    "                print(\"abs count=\", count)\n",
    "                print(\"scout count=\", count2)"
   ]
  }
 ],
 "metadata": {
  "kernelspec": {
   "display_name": "marubatsu",
   "language": "python",
   "name": "python3"
  },
  "language_info": {
   "codemirror_mode": {
    "name": "ipython",
    "version": 3
   },
   "file_extension": ".py",
   "mimetype": "text/x-python",
   "name": "python",
   "nbconvert_exporter": "python",
   "pygments_lexer": "ipython3",
   "version": "3.11.4"
  }
 },
 "nbformat": 4,
 "nbformat_minor": 2
}
