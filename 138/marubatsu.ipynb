{
 "cells": [
  {
   "cell_type": "code",
   "execution_count": 1,
   "metadata": {},
   "outputs": [],
   "source": [
    "from marubatsu import Marubatsu\n",
    "from ai import dprint\n",
    "from copy import deepcopy\n",
    "\n",
    "def ai_abs(mb, debug=False):   \n",
    "    count = 0\n",
    "    def ab_search(mborig):\n",
    "        nonlocal count\n",
    "        count += 1\n",
    "        if mborig.status == Marubatsu.CIRCLE:\n",
    "            return 1\n",
    "        elif mborig.status == Marubatsu.CROSS:\n",
    "            return -1\n",
    "        elif mborig.status == Marubatsu.DRAW:\n",
    "            return 0\n",
    "        \n",
    "        legal_moves = mborig.calc_legal_moves()\n",
    "        score_list = []\n",
    "        for x, y in legal_moves:\n",
    "            mb = deepcopy(mborig)\n",
    "            mb.move(x, y)\n",
    "            score_list.append(ab_search(mb))\n",
    "        if mborig.turn == Marubatsu.CIRCLE:\n",
    "            return max(score_list)\n",
    "        else:\n",
    "            return min(score_list)\n",
    "    \n",
    "    score = ab_search(mb)\n",
    "    dprint(debug, \"count =\", count)\n",
    "    if mb.turn == Marubatsu.CIRCLE:\n",
    "        score *= -1\n",
    "    return score"
   ]
  },
  {
   "cell_type": "code",
   "execution_count": 2,
   "metadata": {},
   "outputs": [],
   "source": [
    "def ai_abs(mb, debug=False):   \n",
    "    count = 0\n",
    "    def ab_search(mborig):\n",
    "        nonlocal count\n",
    "        count += 1\n",
    "        if mborig.status == Marubatsu.CIRCLE:\n",
    "            return 1\n",
    "        elif mborig.status == Marubatsu.CROSS:\n",
    "            return -1\n",
    "        elif mborig.status == Marubatsu.DRAW:\n",
    "            return 0\n",
    "        \n",
    "        legal_moves = mborig.calc_legal_moves()\n",
    "        if mborig.turn == Marubatsu.CIRCLE:\n",
    "            alpha = float(\"-inf\")\n",
    "            for x, y in legal_moves:\n",
    "                mb = deepcopy(mborig)\n",
    "                mb.move(x, y)\n",
    "                score = ab_search(mb)\n",
    "                alpha = max(alpha, score)\n",
    "            return alpha\n",
    "        else:\n",
    "            beta = float(\"inf\")\n",
    "            for x, y in legal_moves:\n",
    "                mb = deepcopy(mborig)\n",
    "                mb.move(x, y)\n",
    "                score = ab_search(mb)\n",
    "                beta = min(beta, score)   \n",
    "            return beta\n",
    "                \n",
    "    score = ab_search(mb)\n",
    "    dprint(debug, \"count =\", count)\n",
    "    if mb.turn == Marubatsu.CIRCLE:\n",
    "        score *= -1\n",
    "    return score"
   ]
  },
  {
   "cell_type": "code",
   "execution_count": 3,
   "metadata": {},
   "outputs": [
    {
     "name": "stdout",
     "output_type": "stream",
     "text": [
      "count = 549946\n",
      "0\n"
     ]
    }
   ],
   "source": [
    "mb = Marubatsu()\n",
    "print(ai_abs(mb, debug=True))"
   ]
  },
  {
   "cell_type": "code",
   "execution_count": 4,
   "metadata": {},
   "outputs": [],
   "source": [
    "def ai_abs(mb, debug=False):   \n",
    "    count = 0\n",
    "    def ab_search(mborig, alpha, beta):\n",
    "        nonlocal count\n",
    "        count += 1\n",
    "        if mborig.status == Marubatsu.CIRCLE:\n",
    "            return 1\n",
    "        elif mborig.status == Marubatsu.CROSS:\n",
    "            return -1\n",
    "        elif mborig.status == Marubatsu.DRAW:\n",
    "            return 0\n",
    "        \n",
    "        legal_moves = mborig.calc_legal_moves()\n",
    "        if mborig.turn == Marubatsu.CIRCLE:\n",
    "            alpha = float(\"-inf\")\n",
    "            for x, y in legal_moves:\n",
    "                mb = deepcopy(mborig)\n",
    "                mb.move(x, y)\n",
    "                score = ab_search(mb, alpha, None)\n",
    "                if score >= beta:\n",
    "                    return score\n",
    "                alpha = max(alpha, score)\n",
    "            return alpha\n",
    "        else:\n",
    "            beta = float(\"inf\")\n",
    "            for x, y in legal_moves:\n",
    "                mb = deepcopy(mborig)\n",
    "                mb.move(x, y)\n",
    "                score = ab_search(mb, None, beta)\n",
    "                if score <= alpha:\n",
    "                    return score\n",
    "                beta = min(beta, score)   \n",
    "            return beta\n",
    "                \n",
    "    if mb.turn == Marubatsu.CIRCLE:\n",
    "        alpha = None\n",
    "        beta = float(\"inf\")    \n",
    "    else:\n",
    "        alpha = float(\"-inf\")\n",
    "        beta = None\n",
    "    score = ab_search(mb, alpha, beta)\n",
    "    dprint(debug, \"count =\", count)\n",
    "    if mb.turn == Marubatsu.CIRCLE:\n",
    "        score *= -1\n",
    "    return score"
   ]
  },
  {
   "cell_type": "code",
   "execution_count": 5,
   "metadata": {},
   "outputs": [
    {
     "name": "stdout",
     "output_type": "stream",
     "text": [
      "count = 29257\n",
      "0\n"
     ]
    }
   ],
   "source": [
    "mb = Marubatsu()\n",
    "print(ai_abs(mb, debug=True))"
   ]
  },
  {
   "cell_type": "code",
   "execution_count": 6,
   "metadata": {},
   "outputs": [],
   "source": [
    "def ai_abs(mb, debug=False):   \n",
    "    count = 0\n",
    "    def ab_search(mborig, alpha, beta):\n",
    "        nonlocal count\n",
    "        count += 1\n",
    "        if mborig.status == Marubatsu.CIRCLE:\n",
    "            return 1\n",
    "        elif mborig.status == Marubatsu.CROSS:\n",
    "            return -1\n",
    "        elif mborig.status == Marubatsu.DRAW:\n",
    "            return 0\n",
    "        \n",
    "        legal_moves = mborig.calc_legal_moves()\n",
    "        if mborig.turn == Marubatsu.CIRCLE:\n",
    "            for x, y in legal_moves:\n",
    "                mb = deepcopy(mborig)\n",
    "                mb.move(x, y)\n",
    "                score = ab_search(mb, alpha, beta)\n",
    "                if score >= beta:\n",
    "                    return score\n",
    "                alpha = max(alpha, score)\n",
    "            return alpha\n",
    "        else:\n",
    "            for x, y in legal_moves:\n",
    "                mb = deepcopy(mborig)\n",
    "                mb.move(x, y)\n",
    "                score = ab_search(mb, alpha, beta)\n",
    "                if score <= alpha:\n",
    "                    return score\n",
    "                beta = min(beta, score)   \n",
    "            return beta\n",
    "                \n",
    "    score = ab_search(mb, float(\"-inf\") , float(\"inf\"))\n",
    "    dprint(debug, \"count =\", count)\n",
    "    if mb.turn == Marubatsu.CIRCLE:\n",
    "        score *= -1\n",
    "    return score"
   ]
  },
  {
   "cell_type": "code",
   "execution_count": 7,
   "metadata": {},
   "outputs": [
    {
     "name": "stdout",
     "output_type": "stream",
     "text": [
      "count = 18297\n",
      "0\n"
     ]
    }
   ],
   "source": [
    "mb = Marubatsu()\n",
    "print(ai_abs(mb, debug=True))"
   ]
  },
  {
   "cell_type": "code",
   "execution_count": 8,
   "metadata": {},
   "outputs": [],
   "source": [
    "from ai import ai_by_score\n",
    "\n",
    "@ai_by_score\n",
    "def ai_abs(mb, debug=False):   \n",
    "    count = 0\n",
    "    def ab_search(mborig, alpha=float(\"-inf\"), beta=float(\"inf\")):\n",
    "        nonlocal count\n",
    "        count += 1\n",
    "        if mborig.status == Marubatsu.CIRCLE:\n",
    "            return 1\n",
    "        elif mborig.status == Marubatsu.CROSS:\n",
    "            return -1\n",
    "        elif mborig.status == Marubatsu.DRAW:\n",
    "            return 0\n",
    "        \n",
    "        legal_moves = mborig.calc_legal_moves()\n",
    "        if mborig.turn == Marubatsu.CIRCLE:\n",
    "            for x, y in legal_moves:\n",
    "                mb = deepcopy(mborig)\n",
    "                mb.move(x, y)\n",
    "                score = ab_search(mb, alpha, beta)\n",
    "                if score >= beta:\n",
    "                    return score\n",
    "                alpha = max(alpha, score)\n",
    "            return alpha\n",
    "        else:\n",
    "            for x, y in legal_moves:\n",
    "                mb = deepcopy(mborig)\n",
    "                mb.move(x, y)\n",
    "                score = ab_search(mb, alpha, beta)\n",
    "                if score <= alpha:\n",
    "                    return score\n",
    "                beta = min(beta, score)   \n",
    "            return beta\n",
    "                \n",
    "    score = ab_search(mb)\n",
    "    dprint(debug, \"count =\", count)\n",
    "    if mb.turn == Marubatsu.CIRCLE:\n",
    "        score *= -1\n",
    "    return score"
   ]
  },
  {
   "cell_type": "code",
   "execution_count": 9,
   "metadata": {},
   "outputs": [
    {
     "name": "stderr",
     "output_type": "stream",
     "text": [
      "100%|██████████| 431/431 [00:03<00:00, 114.97it/s]"
     ]
    },
    {
     "name": "stdout",
     "output_type": "stream",
     "text": [
      "431/431 100.00%\n",
      "(True, [])\n"
     ]
    },
    {
     "name": "stderr",
     "output_type": "stream",
     "text": [
      "\n"
     ]
    }
   ],
   "source": [
    "from util import Check_solved\n",
    "print(Check_solved.is_strongly_solved(ai_abs))"
   ]
  }
 ],
 "metadata": {
  "kernelspec": {
   "display_name": "marubatsu",
   "language": "python",
   "name": "python3"
  },
  "language_info": {
   "codemirror_mode": {
    "name": "ipython",
    "version": 3
   },
   "file_extension": ".py",
   "mimetype": "text/x-python",
   "name": "python",
   "nbconvert_exporter": "python",
   "pygments_lexer": "ipython3",
   "version": "3.11.4"
  }
 },
 "nbformat": 4,
 "nbformat_minor": 2
}
