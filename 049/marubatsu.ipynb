{
 "cells": [
  {
   "cell_type": "code",
   "execution_count": 1,
   "metadata": {},
   "outputs": [],
   "source": [
    "from ai import ai_by_score\n",
    "\n",
    "def ai1s(mb, debug=False):\n",
    "    def eval_func(mb):\n",
    "        if mb.last_move == (0, 0):\n",
    "            return 9\n",
    "        elif mb.last_move == (1, 0):\n",
    "            return 8\n",
    "        elif mb.last_move == (2, 0):\n",
    "            return 7\n",
    "        elif mb.last_move == (0, 1):\n",
    "            return 6\n",
    "        elif mb.last_move == (1, 1):\n",
    "            return 5\n",
    "        elif mb.last_move == (2, 1):\n",
    "            return 4\n",
    "        elif mb.last_move == (0, 2):\n",
    "            return 3\n",
    "        elif mb.last_move == (1, 2):\n",
    "            return 2\n",
    "        elif mb.last_move == (2, 2):\n",
    "            return 1\n",
    "\n",
    "    return ai_by_score(mb, eval_func, debug=debug)"
   ]
  },
  {
   "cell_type": "code",
   "execution_count": 2,
   "metadata": {},
   "outputs": [
    {
     "name": "stdout",
     "output_type": "stream",
     "text": [
      "ai1s VS ai1\n",
      "count     win    lose    draw\n",
      "o       10000       0       0\n",
      "x           0   10000       0\n",
      "total   10000   10000       0\n",
      "\n",
      "ratio     win    lose    draw\n",
      "o      100.0%    0.0%    0.0%\n",
      "x        0.0%  100.0%    0.0%\n",
      "total   50.0%   50.0%    0.0%\n",
      "\n"
     ]
    }
   ],
   "source": [
    "from ai import ai_match, ai1, ai4\n",
    "\n",
    "ai_match(ai=[ai1s, ai1])"
   ]
  },
  {
   "cell_type": "code",
   "execution_count": 3,
   "metadata": {},
   "outputs": [
    {
     "name": "stdout",
     "output_type": "stream",
     "text": [
      "1\n",
      "5133467580067694764\n",
      "1\n",
      "8795299436207\n",
      "3819214611466916399\n",
      "145277155213\n"
     ]
    }
   ],
   "source": [
    "from marubatsu import Marubatsu\n",
    "mb = Marubatsu()\n",
    "print(hash(1))                 # 数値型のデータ\n",
    "print(hash(\"abc\"))             # 文字列型のデータ\n",
    "print(hash(True))              # 論理型のデータ\n",
    "print(hash(None))              # None 型のデータ\n",
    "print(hash((1, \"abc\", True)))  # すべての要素がハッシュ可能な tuple\n",
    "print(hash(mb))                # Marubatsu クラスのインスタンス（この値は毎回異なる）"
   ]
  },
  {
   "cell_type": "code",
   "execution_count": 4,
   "metadata": {},
   "outputs": [
    {
     "ename": "TypeError",
     "evalue": "unhashable type: 'list'",
     "output_type": "error",
     "traceback": [
      "\u001b[1;31m---------------------------------------------------------------------------\u001b[0m",
      "\u001b[1;31mTypeError\u001b[0m                                 Traceback (most recent call last)",
      "Cell \u001b[1;32mIn[4], line 1\u001b[0m\n\u001b[1;32m----> 1\u001b[0m \u001b[38;5;28mprint\u001b[39m(\u001b[38;5;28mhash\u001b[39m([\u001b[38;5;241m1\u001b[39m, \u001b[38;5;241m2\u001b[39m, \u001b[38;5;241m3\u001b[39m]))\n",
      "\u001b[1;31mTypeError\u001b[0m: unhashable type: 'list'"
     ]
    }
   ],
   "source": [
    "print(hash([1, 2, 3]))"
   ]
  },
  {
   "cell_type": "code",
   "execution_count": 5,
   "metadata": {},
   "outputs": [
    {
     "ename": "TypeError",
     "evalue": "unhashable type: 'list'",
     "output_type": "error",
     "traceback": [
      "\u001b[1;31m---------------------------------------------------------------------------\u001b[0m",
      "\u001b[1;31mTypeError\u001b[0m                                 Traceback (most recent call last)",
      "Cell \u001b[1;32mIn[5], line 1\u001b[0m\n\u001b[1;32m----> 1\u001b[0m \u001b[38;5;28mprint\u001b[39m(\u001b[38;5;28mhash\u001b[39m((\u001b[38;5;241m1\u001b[39m, [\u001b[38;5;241m2\u001b[39m, \u001b[38;5;241m3\u001b[39m])))\n",
      "\u001b[1;31mTypeError\u001b[0m: unhashable type: 'list'"
     ]
    }
   ],
   "source": [
    "print(hash((1, [2, 3])))  # 要素にミュータブルな list が含まれている"
   ]
  },
  {
   "cell_type": "code",
   "execution_count": 6,
   "metadata": {},
   "outputs": [
    {
     "name": "stdout",
     "output_type": "stream",
     "text": [
      "2324448500864\n",
      "2324448507456\n",
      "-3550055125485641917\n",
      "-3550055125485641917\n"
     ]
    }
   ],
   "source": [
    "a = (1, 2)\n",
    "b = (1, 2)\n",
    "print(id(a))\n",
    "print(id(b))\n",
    "print(hash(a))\n",
    "print(hash(b))"
   ]
  },
  {
   "cell_type": "code",
   "execution_count": 7,
   "metadata": {},
   "outputs": [
    {
     "name": "stdout",
     "output_type": "stream",
     "text": [
      "145278027657\n",
      "145277956725\n"
     ]
    }
   ],
   "source": [
    "mb1 = Marubatsu()\n",
    "mb2 = Marubatsu()\n",
    "print(hash(mb1))\n",
    "print(hash(mb2))"
   ]
  },
  {
   "cell_type": "code",
   "execution_count": 8,
   "metadata": {},
   "outputs": [],
   "source": [
    "def ai1s(mb, debug=False):\n",
    "    def eval_func(mb):\n",
    "        score_table = {\n",
    "            (0, 0): 9, (1, 0): 8, (2, 0): 7,\n",
    "            (0, 1): 6, (1, 1): 5, (2, 1): 4,\n",
    "            (0, 2): 3, (1, 2): 2, (2, 2): 1,\n",
    "        }\n",
    "        return score_table[mb.last_move]\n",
    "\n",
    "    return ai_by_score(mb, eval_func, debug=debug)"
   ]
  },
  {
   "cell_type": "code",
   "execution_count": 9,
   "metadata": {},
   "outputs": [
    {
     "name": "stdout",
     "output_type": "stream",
     "text": [
      "ai1s VS ai1\n",
      "count     win    lose    draw\n",
      "o       10000       0       0\n",
      "x           0   10000       0\n",
      "total   10000   10000       0\n",
      "\n",
      "ratio     win    lose    draw\n",
      "o      100.0%    0.0%    0.0%\n",
      "x        0.0%  100.0%    0.0%\n",
      "total   50.0%   50.0%    0.0%\n",
      "\n"
     ]
    }
   ],
   "source": [
    "ai_match(ai=[ai1s, ai1])"
   ]
  },
  {
   "cell_type": "code",
   "execution_count": 10,
   "metadata": {},
   "outputs": [],
   "source": [
    "def ai1s(mb, debug=False):\n",
    "    def eval_func(mb):\n",
    "        x, y = mb.last_move\n",
    "        return 9 - (x + y * 3)\n",
    "\n",
    "    return ai_by_score(mb, eval_func, debug=debug)"
   ]
  },
  {
   "cell_type": "code",
   "execution_count": 11,
   "metadata": {},
   "outputs": [
    {
     "name": "stdout",
     "output_type": "stream",
     "text": [
      "Start ai_by_score\n",
      "Turn o\n",
      "...\n",
      "...\n",
      "...\n",
      "\n",
      "legal_moves [(0, 0), (1, 0), (2, 0), (0, 1), (1, 1), (2, 1), (0, 2), (1, 2), (2, 2)]\n",
      "====================\n",
      "move (0, 0)\n",
      "Turn x\n",
      "O..\n",
      "...\n",
      "...\n",
      "\n",
      "score 9 best score -inf\n",
      "UPDATE\n",
      "  best score 9\n",
      "  best moves [(0, 0)]\n",
      "====================\n",
      "move (1, 0)\n",
      "Turn x\n",
      ".O.\n",
      "...\n",
      "...\n",
      "\n",
      "score 8 best score 9\n",
      "====================\n",
      "move (2, 0)\n",
      "Turn x\n",
      "..O\n",
      "...\n",
      "...\n",
      "\n",
      "score 7 best score 9\n",
      "====================\n",
      "move (0, 1)\n",
      "Turn x\n",
      "...\n",
      "O..\n",
      "...\n",
      "\n",
      "score 6 best score 9\n",
      "====================\n",
      "move (1, 1)\n",
      "Turn x\n",
      "...\n",
      ".O.\n",
      "...\n",
      "\n",
      "score 5 best score 9\n",
      "====================\n",
      "move (2, 1)\n",
      "Turn x\n",
      "...\n",
      "..O\n",
      "...\n",
      "\n",
      "score 4 best score 9\n",
      "====================\n",
      "move (0, 2)\n",
      "Turn x\n",
      "...\n",
      "...\n",
      "O..\n",
      "\n",
      "score 3 best score 9\n",
      "====================\n",
      "move (1, 2)\n",
      "Turn x\n",
      "...\n",
      "...\n",
      ".O.\n",
      "\n",
      "score 2 best score 9\n",
      "====================\n",
      "move (2, 2)\n",
      "Turn x\n",
      "...\n",
      "...\n",
      "..O\n",
      "\n",
      "score 1 best score 9\n",
      "====================\n",
      "Finished\n",
      "best score 9\n",
      "best moves [(0, 0)]\n"
     ]
    },
    {
     "data": {
      "text/plain": [
       "(0, 0)"
      ]
     },
     "execution_count": 11,
     "metadata": {},
     "output_type": "execute_result"
    }
   ],
   "source": [
    "from marubatsu import Marubatsu\n",
    "\n",
    "mb = Marubatsu()\n",
    "ai1s(mb, debug=True)"
   ]
  },
  {
   "cell_type": "code",
   "execution_count": 12,
   "metadata": {},
   "outputs": [
    {
     "name": "stdout",
     "output_type": "stream",
     "text": [
      "ai1s VS ai1\n",
      "count     win    lose    draw\n",
      "o       10000       0       0\n",
      "x           0   10000       0\n",
      "total   10000   10000       0\n",
      "\n",
      "ratio     win    lose    draw\n",
      "o      100.0%    0.0%    0.0%\n",
      "x        0.0%  100.0%    0.0%\n",
      "total   50.0%   50.0%    0.0%\n",
      "\n"
     ]
    }
   ],
   "source": [
    "ai_match(ai=[ai1s, ai1])"
   ]
  },
  {
   "cell_type": "code",
   "execution_count": 13,
   "metadata": {},
   "outputs": [],
   "source": [
    "from copy import deepcopy\n",
    "from random import choice\n",
    "from ai import dprint\n",
    "\n",
    "def ai_by_score(mb_orig, eval_func, debug=False, rand=True):\n",
    "    dprint(debug, \"Start ai_by_score\")\n",
    "    dprint(debug, mb_orig)\n",
    "    legal_moves = mb_orig.calc_legal_moves()\n",
    "    dprint(debug, \"legal_moves\", legal_moves)\n",
    "    best_score = float(\"-inf\")\n",
    "    best_moves = []\n",
    "    for move in legal_moves:\n",
    "        dprint(debug, \"=\" * 20)\n",
    "        dprint(debug, \"move\", move)\n",
    "        mb = deepcopy(mb_orig)\n",
    "        x, y = move\n",
    "        mb.move(x, y)\n",
    "        dprint(debug, mb)\n",
    "        \n",
    "        score = eval_func(mb)\n",
    "        dprint(debug, \"score\", score, \"best score\", best_score)\n",
    "        \n",
    "        if best_score < score:\n",
    "            best_score = score\n",
    "            best_moves = [move]\n",
    "            dprint(debug, \"UPDATE\")\n",
    "            dprint(debug, \"  best score\", best_score)\n",
    "            dprint(debug, \"  best moves\", best_moves)\n",
    "        elif best_score == score:\n",
    "            best_moves.append(move)\n",
    "            dprint(debug, \"APPEND\")\n",
    "            dprint(debug, \"  best moves\", best_moves)\n",
    "\n",
    "    dprint(debug, \"=\" * 20)\n",
    "    dprint(debug, \"Finished\")\n",
    "    dprint(debug, \"best score\", best_score)\n",
    "    dprint(debug, \"best moves\", best_moves)\n",
    "    if rand:   \n",
    "        return choice(best_moves)\n",
    "    else:\n",
    "        return best_moves[0]"
   ]
  },
  {
   "cell_type": "code",
   "execution_count": 14,
   "metadata": {},
   "outputs": [],
   "source": [
    "def ai1s(mb, debug=False):\n",
    "    def eval_func(mb):\n",
    "        return 0\n",
    "\n",
    "    return ai_by_score(mb, eval_func, debug=debug, rand=False)"
   ]
  },
  {
   "cell_type": "code",
   "execution_count": 15,
   "metadata": {},
   "outputs": [
    {
     "name": "stdout",
     "output_type": "stream",
     "text": [
      "ai1s VS ai1\n",
      "count     win    lose    draw\n",
      "o       10000       0       0\n",
      "x           0   10000       0\n",
      "total   10000   10000       0\n",
      "\n",
      "ratio     win    lose    draw\n",
      "o      100.0%    0.0%    0.0%\n",
      "x        0.0%  100.0%    0.0%\n",
      "total   50.0%   50.0%    0.0%\n",
      "\n"
     ]
    }
   ],
   "source": [
    "ai_match(ai=[ai1s, ai1])"
   ]
  },
  {
   "cell_type": "code",
   "execution_count": 16,
   "metadata": {},
   "outputs": [
    {
     "name": "stdout",
     "output_type": "stream",
     "text": [
      "ai1s_buggy VS ai1\n",
      "count     win    lose    draw\n",
      "o        5151    4455     394\n",
      "x        1748    7825     427\n",
      "total    6899   12280     821\n",
      "\n",
      "ratio     win    lose    draw\n",
      "o       51.5%   44.5%    3.9%\n",
      "x       17.5%   78.2%    4.3%\n",
      "total   34.5%   61.4%    4.1%\n",
      "\n"
     ]
    }
   ],
   "source": [
    "def ai1s_buggy(mb, debug=False):\n",
    "    def eval_func(mb):\n",
    "        return 0\n",
    "\n",
    "    return ai_by_score(mb, eval_func, debug=debug)\n",
    "\n",
    "ai_match(ai=[ai1s_buggy, ai1])  "
   ]
  },
  {
   "cell_type": "code",
   "execution_count": 17,
   "metadata": {},
   "outputs": [],
   "source": [
    "def ai4s(mb, debug=False):\n",
    "    def eval_func(mb):\n",
    "        x, y = mb.last_move\n",
    "        if mb.last_move == (1, 1):\n",
    "            return 5\n",
    "        elif x % 2 == 0 and y % 2 == 0:\n",
    "            return 4 - (x / 2 + y)\n",
    "        else:\n",
    "            return 0\n",
    "\n",
    "    return ai_by_score(mb, eval_func, debug=debug)"
   ]
  },
  {
   "cell_type": "code",
   "execution_count": 18,
   "metadata": {},
   "outputs": [
    {
     "name": "stdout",
     "output_type": "stream",
     "text": [
      "ai4s VS ai4\n",
      "count     win    lose    draw\n",
      "o        2520    4099    3381\n",
      "x        4127    2404    3469\n",
      "total    6647    6503    6850\n",
      "\n",
      "ratio     win    lose    draw\n",
      "o       25.2%   41.0%   33.8%\n",
      "x       41.3%   24.0%   34.7%\n",
      "total   33.2%   32.5%   34.2%\n",
      "\n"
     ]
    }
   ],
   "source": [
    "ai_match(ai=[ai4s, ai4])"
   ]
  },
  {
   "cell_type": "code",
   "execution_count": 19,
   "metadata": {},
   "outputs": [],
   "source": [
    "def ai4s(mb, debug=False):\n",
    "    def eval_func(mb):\n",
    "        x, y = mb.last_move\n",
    "        if mb.last_move == (1, 1):\n",
    "            return 5\n",
    "        elif x % 2 == 0 and y % 2 == 0:\n",
    "            return 9 - (x + y * 3)\n",
    "        else:\n",
    "            return 0\n",
    "\n",
    "    return ai_by_score(mb, eval_func, debug=debug)"
   ]
  },
  {
   "cell_type": "code",
   "execution_count": 20,
   "metadata": {},
   "outputs": [
    {
     "name": "stdout",
     "output_type": "stream",
     "text": [
      "ai4s VS ai4\n",
      "count     win    lose    draw\n",
      "o        6616    1698    1686\n",
      "x        4167    2495    3338\n",
      "total   10783    4193    5024\n",
      "\n",
      "ratio     win    lose    draw\n",
      "o       66.2%   17.0%   16.9%\n",
      "x       41.7%   24.9%   33.4%\n",
      "total   53.9%   21.0%   25.1%\n",
      "\n"
     ]
    }
   ],
   "source": [
    "ai_match(ai=[ai4s, ai4])"
   ]
  },
  {
   "cell_type": "code",
   "execution_count": 21,
   "metadata": {},
   "outputs": [],
   "source": [
    "def ai4s(mb, debug=False):\n",
    "    def eval_func(mb):\n",
    "        x, y = mb.last_move\n",
    "        if mb.last_move == (1, 1):\n",
    "            return 10\n",
    "        elif x % 2 == 0 and y % 2 == 0:\n",
    "            return 9 - (x + y * 3)\n",
    "        else:\n",
    "            return 0\n",
    "\n",
    "    return ai_by_score(mb, eval_func, debug=debug)"
   ]
  },
  {
   "cell_type": "code",
   "execution_count": 22,
   "metadata": {},
   "outputs": [
    {
     "name": "stdout",
     "output_type": "stream",
     "text": [
      "ai4s VS ai4\n",
      "count     win    lose    draw\n",
      "o        2499    4214    3287\n",
      "x        4196    2414    3390\n",
      "total    6695    6628    6677\n",
      "\n",
      "ratio     win    lose    draw\n",
      "o       25.0%   42.1%   32.9%\n",
      "x       42.0%   24.1%   33.9%\n",
      "total   33.5%   33.1%   33.4%\n",
      "\n"
     ]
    }
   ],
   "source": [
    "ai_match(ai=[ai4s, ai4])"
   ]
  },
  {
   "cell_type": "code",
   "execution_count": 23,
   "metadata": {},
   "outputs": [],
   "source": [
    "def ai4s_fake(mb, debug=False):\n",
    "    def eval_func(mb):\n",
    "        x, y = mb.last_move\n",
    "        if mb.last_move == (1, 1):\n",
    "            return 10\n",
    "        elif x % 2 == 0 and y % 2 == 0:\n",
    "            return 9 - (x + y * 3) + 100\n",
    "        else:\n",
    "            return 0\n",
    "\n",
    "    return ai_by_score(mb, eval_func, debug=debug)"
   ]
  },
  {
   "cell_type": "code",
   "execution_count": 24,
   "metadata": {},
   "outputs": [
    {
     "name": "stdout",
     "output_type": "stream",
     "text": [
      "ai1 VS ai1\n",
      "count     win    lose    draw\n",
      "o       10000       0       0\n",
      "x           0   10000       0\n",
      "total   10000   10000       0\n",
      "\n",
      "ratio     win    lose    draw\n",
      "o      100.0%    0.0%    0.0%\n",
      "x        0.0%  100.0%    0.0%\n",
      "total   50.0%   50.0%    0.0%\n",
      "\n"
     ]
    }
   ],
   "source": [
    "ai_match(ai=[ai1, ai1])"
   ]
  },
  {
   "cell_type": "code",
   "execution_count": 25,
   "metadata": {},
   "outputs": [
    {
     "name": "stdout",
     "output_type": "stream",
     "text": [
      "ai1s VS ai1s\n",
      "count     win    lose    draw\n",
      "o       10000       0       0\n",
      "x           0   10000       0\n",
      "total   10000   10000       0\n",
      "\n",
      "ratio     win    lose    draw\n",
      "o      100.0%    0.0%    0.0%\n",
      "x        0.0%  100.0%    0.0%\n",
      "total   50.0%   50.0%    0.0%\n",
      "\n"
     ]
    }
   ],
   "source": [
    "ai_match(ai=[ai1s, ai1s])"
   ]
  }
 ],
 "metadata": {
  "kernelspec": {
   "display_name": "marubatsu",
   "language": "python",
   "name": "python3"
  },
  "language_info": {
   "codemirror_mode": {
    "name": "ipython",
    "version": 3
   },
   "file_extension": ".py",
   "mimetype": "text/x-python",
   "name": "python",
   "nbconvert_exporter": "python",
   "pygments_lexer": "ipython3",
   "version": "3.11.4"
  }
 },
 "nbformat": 4,
 "nbformat_minor": 2
}
