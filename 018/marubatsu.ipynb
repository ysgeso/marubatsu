{
 "cells": [
  {
   "cell_type": "code",
   "execution_count": 1,
   "metadata": {},
   "outputs": [
    {
     "name": "stdout",
     "output_type": "stream",
     "text": [
      "[[' ', ' ', ' '], [' ', ' ', ' '], [' ', ' ', ' ']]\n"
     ]
    }
   ],
   "source": [
    "from marubatsu import initialize_board\n",
    "\n",
    "board = initialize_board()\n",
    "print(board)"
   ]
  },
  {
   "cell_type": "code",
   "execution_count": 2,
   "metadata": {},
   "outputs": [
    {
     "name": "stdout",
     "output_type": "stream",
     "text": [
      " \n",
      " \n",
      " \n",
      " \n",
      " \n",
      " \n",
      " \n",
      " \n",
      " \n"
     ]
    }
   ],
   "source": [
    "# 各列に対する繰り返しの処理を行う\n",
    "for x in range(3):\n",
    "    # x 列の各マスに対する繰り返しの処理を行う\n",
    "    for y in range(3):\n",
    "        # (x, y) のマスの要素を表示する\n",
    "        print(board[x][y])"
   ]
  },
  {
   "cell_type": "code",
   "execution_count": 3,
   "metadata": {},
   "outputs": [
    {
     "name": "stdout",
     "output_type": "stream",
     "text": [
      " \n",
      " \n",
      " \n",
      " \n",
      " \n",
      " \n",
      " \n",
      " \n",
      " \n"
     ]
    }
   ],
   "source": [
    "# 繰り返しのたびに、board から列のデータを取り出して col に代入する\n",
    "for col in board:\n",
    "    # 繰り返しのたびに、col からマスのデータを取り出して cell に代入する\n",
    "    for cell in col:\n",
    "        # 取り出したマスのデータを表示する\n",
    "        print(cell)"
   ]
  },
  {
   "cell_type": "code",
   "execution_count": 4,
   "metadata": {},
   "outputs": [
    {
     "name": "stdout",
     "output_type": "stream",
     "text": [
      ".\n",
      ".\n",
      ".\n",
      ".\n",
      ".\n",
      ".\n",
      ".\n",
      ".\n",
      ".\n"
     ]
    }
   ],
   "source": [
    "# 各列に対する繰り返しの処理を行う\n",
    "for x in range(3):\n",
    "    # x 列の各マスに対する繰り返しの処理を行う\n",
    "    for y in range(3):\n",
    "        # (x, y) のマスの要素を表示する\n",
    "        # 空白のマスの場合は . を表示する\n",
    "        if board[x][y] == \" \":\n",
    "            print(\".\")\n",
    "        # そうでなければ、(x, y) のマスの要素をそのまま表示する\n",
    "        else:\n",
    "            print(board[x][y])"
   ]
  },
  {
   "cell_type": "code",
   "execution_count": 5,
   "metadata": {},
   "outputs": [],
   "source": [
    "def initialize_board() -> list[list[str]]:\n",
    "    \"\"\" 初期化されたゲーム盤のデータを返す.\n",
    "\n",
    "    Returns:\n",
    "        初期化されたゲーム盤を表す 2 次元配列の list.\n",
    "        全ての要素に半角の \".\" が代入されている.\n",
    "    \"\"\"\n",
    "\n",
    "    return [[\".\"] * 3 for x in range(3)]"
   ]
  },
  {
   "cell_type": "code",
   "execution_count": 6,
   "metadata": {},
   "outputs": [
    {
     "name": "stdout",
     "output_type": "stream",
     "text": [
      ".\n",
      ".\n",
      ".\n",
      ".\n",
      ".\n",
      ".\n",
      ".\n",
      ".\n",
      ".\n"
     ]
    }
   ],
   "source": [
    "board = initialize_board()\n",
    "\n",
    "# 各列に対する繰り返しの処理を行う\n",
    "for x in range(3):\n",
    "    # x 列の各マスに対する繰り返しの処理を行う\n",
    "    for y in range(3):\n",
    "        # (x, y) のマスの要素を表示する\n",
    "        print(board[x][y])"
   ]
  },
  {
   "cell_type": "code",
   "execution_count": 7,
   "metadata": {},
   "outputs": [
    {
     "name": "stdout",
     "output_type": "stream",
     "text": [
      "........."
     ]
    }
   ],
   "source": [
    "board = initialize_board()\n",
    "\n",
    "# 各列に対する繰り返しの処理を行う\n",
    "for x in range(3):\n",
    "    # x 列の各マスに対する繰り返しの処理を行う\n",
    "    for y in range(3):\n",
    "        # (x, y) のマスの要素を改行せずに表示する\n",
    "        print(board[x][y], end=\"\")"
   ]
  },
  {
   "cell_type": "code",
   "execution_count": 8,
   "metadata": {},
   "outputs": [
    {
     "name": "stdout",
     "output_type": "stream",
     "text": [
      "( 0 , 1 ) のマスにはマークが配置済です\n",
      "[['.', '.', '.'], ['.', '.', '.'], ['.', '.', '.']]\n"
     ]
    }
   ],
   "source": [
    "from marubatsu import place_mark\n",
    "\n",
    "board = initialize_board()\n",
    "place_mark(mark=\"〇\", y=1, x=0, board=board)\n",
    "print(board)"
   ]
  },
  {
   "cell_type": "code",
   "execution_count": 9,
   "metadata": {},
   "outputs": [
    {
     "name": "stdout",
     "output_type": "stream",
     "text": [
      "[['.', '〇', '.'], ['.', '.', '.'], ['.', '.', '.']]\n"
     ]
    }
   ],
   "source": [
    "def place_mark(board: list[list[str]], x: int, y: int , mark: str):\n",
    "    if board[x][y] == \".\":\n",
    "        board[x][y] = mark\n",
    "    else:\n",
    "        print(\"(\", x, \",\", y, \") のマスにはマークが配置済です\")\n",
    "\n",
    "board = initialize_board()\n",
    "place_mark(mark=\"〇\", y=1, x=0, board=board)\n",
    "print(board)"
   ]
  },
  {
   "cell_type": "code",
   "execution_count": 10,
   "metadata": {},
   "outputs": [
    {
     "name": "stdout",
     "output_type": "stream",
     "text": [
      "[['.', '〇', '.'], ['.', '.', '.'], ['.', '.', '.']]\n"
     ]
    }
   ],
   "source": [
    "board = initialize_board()\n",
    "place_mark(board, 0, mark=\"〇\", y=1)\n",
    "print(board)"
   ]
  },
  {
   "cell_type": "code",
   "execution_count": 11,
   "metadata": {},
   "outputs": [
    {
     "ename": "SyntaxError",
     "evalue": "positional argument follows keyword argument (3377388744.py, line 2)",
     "output_type": "error",
     "traceback": [
      "\u001b[1;36m  Cell \u001b[1;32mIn[11], line 2\u001b[1;36m\u001b[0m\n\u001b[1;33m    place_mark(y=1, 0, mark=\"〇\", board=board)\u001b[0m\n\u001b[1;37m                                            ^\u001b[0m\n\u001b[1;31mSyntaxError\u001b[0m\u001b[1;31m:\u001b[0m positional argument follows keyword argument\n"
     ]
    }
   ],
   "source": [
    "board = initialize_board()\n",
    "place_mark(y=1, 0, mark=\"〇\", board=board)\n",
    "print(board)"
   ]
  },
  {
   "cell_type": "code",
   "execution_count": 12,
   "metadata": {},
   "outputs": [
    {
     "name": "stdout",
     "output_type": "stream",
     "text": [
      "3\n",
      "6\n"
     ]
    }
   ],
   "source": [
    "def add(x, y, z=0):\n",
    "    return x + y + z\n",
    "\n",
    "print(add(1, 2))\n",
    "print(add(1, 2, 3))"
   ]
  },
  {
   "cell_type": "code",
   "execution_count": 13,
   "metadata": {},
   "outputs": [
    {
     "ename": "SyntaxError",
     "evalue": "non-default argument follows default argument (222545352.py, line 1)",
     "output_type": "error",
     "traceback": [
      "\u001b[1;36m  Cell \u001b[1;32mIn[13], line 1\u001b[1;36m\u001b[0m\n\u001b[1;33m    def add(x=0, y, z=0):\u001b[0m\n\u001b[1;37m                 ^\u001b[0m\n\u001b[1;31mSyntaxError\u001b[0m\u001b[1;31m:\u001b[0m non-default argument follows default argument\n"
     ]
    }
   ],
   "source": [
    "def add(x=0, y, z=0):\n",
    "    return x + y + z"
   ]
  },
  {
   "cell_type": "code",
   "execution_count": 14,
   "metadata": {},
   "outputs": [
    {
     "name": "stdout",
     "output_type": "stream",
     "text": [
      "a = 1 b = 2 c = None d = None e = 5\n"
     ]
    }
   ],
   "source": [
    "def print_data(a, b, c=None, d=None, e=None):\n",
    "    print(\"a =\", a, \"b =\", b, \"c =\", c, \"d =\", d, \"e =\", e)\n",
    "\n",
    "print_data(1, 2, e=5)"
   ]
  },
  {
   "cell_type": "code",
   "execution_count": 15,
   "metadata": {},
   "outputs": [
    {
     "name": "stdout",
     "output_type": "stream",
     "text": [
      "a = 1 b = 2 c = 5 d = None e = None\n"
     ]
    }
   ],
   "source": [
    "print_data(1, 2, 5)"
   ]
  },
  {
   "cell_type": "code",
   "execution_count": 16,
   "metadata": {},
   "outputs": [
    {
     "name": "stdout",
     "output_type": "stream",
     "text": [
      "[0, 1, 2]\n",
      "['a', 'b', 'c']\n",
      "[1]\n",
      "[1, 2]\n"
     ]
    }
   ],
   "source": [
    "def append_list(data, alist=[]):\n",
    "    alist.append(data)\n",
    "    return alist\n",
    "\n",
    "print(append_list(2, [0, 1]))         # alist に対応する実引数を記述した場合\n",
    "print(append_list(\"c\", [\"a\", \"b\"]))\n",
    "print(append_list(1))                 # alist に対応する実引数を省略した場合\n",
    "print(append_list(2))"
   ]
  },
  {
   "cell_type": "code",
   "execution_count": 17,
   "metadata": {},
   "outputs": [
    {
     "name": "stdout",
     "output_type": "stream",
     "text": [
      "[0, 1, 2]\n",
      "['a', 'b', 'c']\n",
      "[1]\n",
      "[2]\n"
     ]
    }
   ],
   "source": [
    "def append_list(data, alist=None):\n",
    "    if alist is None:\n",
    "        alist = []\n",
    "    alist.append(data)\n",
    "    return alist\n",
    "\n",
    "print(append_list(2, [0, 1]))         # alist に対応する実引数を記述した場合\n",
    "print(append_list(\"c\", [\"a\", \"b\"]))\n",
    "print(append_list(1))                 # alist に対応する実引数を省略した場合\n",
    "print(append_list(2))"
   ]
  },
  {
   "cell_type": "code",
   "execution_count": 18,
   "metadata": {},
   "outputs": [
    {
     "name": "stdout",
     "output_type": "stream",
     "text": [
      "abc."
     ]
    }
   ],
   "source": [
    "print(\"abc\", end=\".\")"
   ]
  },
  {
   "cell_type": "code",
   "execution_count": 19,
   "metadata": {},
   "outputs": [
    {
     "name": "stdout",
     "output_type": "stream",
     "text": [
      "...\n",
      "...\n",
      "...\n"
     ]
    }
   ],
   "source": [
    "board = initialize_board()\n",
    "\n",
    "# 各列に対する繰り返しの処理を行う\n",
    "for x in range(3):\n",
    "    # x 列の各マスに対する繰り返しの処理を行う\n",
    "    for y in range(3):\n",
    "        # (x, y) のマスの要素を改行せずに表示する\n",
    "        print(board[x][y], end=\"\")\n",
    "    # x 列の表示が終わったので、改行する\n",
    "    print()"
   ]
  },
  {
   "cell_type": "code",
   "execution_count": 20,
   "metadata": {},
   "outputs": [],
   "source": [
    "def display_board(board: list[list[str]]):\n",
    "    # 各列に対する繰り返しの処理を行う\n",
    "    for x in range(3):\n",
    "        # x 列の各マスに対する繰り返しの処理を行う\n",
    "        for y in range(3):\n",
    "            # (x, y) のマスの要素を改行せずに表示する\n",
    "            print(board[x][y], end=\"\")\n",
    "        # x 列の表示が終わったので、改行する\n",
    "        print()"
   ]
  },
  {
   "cell_type": "code",
   "execution_count": 21,
   "metadata": {},
   "outputs": [
    {
     "name": "stdout",
     "output_type": "stream",
     "text": [
      ".〇.\n",
      "...\n",
      "...\n"
     ]
    }
   ],
   "source": [
    "board = initialize_board()\n",
    "place_mark(board, 0, 1, \"〇\")\n",
    "display_board(board)"
   ]
  },
  {
   "cell_type": "code",
   "execution_count": 22,
   "metadata": {},
   "outputs": [
    {
     "name": "stdout",
     "output_type": "stream",
     "text": [
      ".〇.\n",
      "..×\n",
      "...\n"
     ]
    }
   ],
   "source": [
    "board = initialize_board()\n",
    "place_mark(board, 0, 1, \"〇\")\n",
    "place_mark(board, 1, 2, \"×\")\n",
    "display_board(board)"
   ]
  },
  {
   "cell_type": "code",
   "execution_count": 23,
   "metadata": {},
   "outputs": [
    {
     "name": "stdout",
     "output_type": "stream",
     "text": [
      "...\n",
      "〇..\n",
      ".×.\n"
     ]
    }
   ],
   "source": [
    "def display_board(board: list[list[str]]):\n",
    "    # 各行に対する繰り返しの処理を行う\n",
    "    for y in range(3):\n",
    "        # y 行の各マスに対する繰り返しの処理を行う\n",
    "        for x in range(3):\n",
    "            # (x, y) のマスの要素を改行せずに表示する\n",
    "            print(board[x][y], end=\"\")\n",
    "        # y 行の表示が終わったので、改行する\n",
    "        print()\n",
    "\n",
    "board = initialize_board()\n",
    "place_mark(board, 0, 1, \"〇\")\n",
    "place_mark(board, 1, 2, \"×\")\n",
    "display_board(board)"
   ]
  },
  {
   "cell_type": "code",
   "execution_count": 24,
   "metadata": {},
   "outputs": [
    {
     "name": "stdout",
     "output_type": "stream",
     "text": [
      ".〇.\n",
      "..×\n",
      "...\n"
     ]
    }
   ],
   "source": [
    "board = initialize_board()\n",
    "place_mark(board, 0, 1, \"〇\")\n",
    "place_mark(board, 1, 2, \"×\")\n",
    "\n",
    "# 繰り返しのたびに、board から列のデータを取り出して col に代入する\n",
    "for col in board:\n",
    "    # 繰り返しのたびに、col からマスのデータを取り出して cell に代入する\n",
    "    for cell in col:\n",
    "        # 取り出したマスのデータを改行せずに表示する\n",
    "        print(cell, end=\"\")\n",
    "    # 列の表示が終わったので、改行する\n",
    "    print()"
   ]
  },
  {
   "cell_type": "code",
   "execution_count": 25,
   "metadata": {},
   "outputs": [
    {
     "name": "stdout",
     "output_type": "stream",
     "text": [
      "( 0 , 0 ) .\n",
      "( 1 , 0 ) .\n",
      "( 2 , 0 ) .\n",
      "( 0 , 1 ) .\n",
      "( 1 , 1 ) .\n",
      "( 2 , 1 ) .\n",
      "( 0 , 2 ) .\n",
      "( 1 , 2 ) .\n",
      "( 2 , 2 ) .\n"
     ]
    }
   ],
   "source": [
    "board = initialize_board()\n",
    "\n",
    "# 各行に対する繰り返しの処理を行う\n",
    "for y in range(3):\n",
    "    # y 行の各マスに対する繰り返しの処理を行う\n",
    "    for x in range(3):\n",
    "        # (x, y) のマスの要素を改行せずに表示する\n",
    "        print(\"(\", x, \",\", y, \")\", board[x][y])"
   ]
  },
  {
   "cell_type": "code",
   "execution_count": 26,
   "metadata": {},
   "outputs": [
    {
     "name": "stdout",
     "output_type": "stream",
     "text": [
      ".\n",
      ".\n",
      ".\n",
      ".\n",
      ".\n",
      ".\n",
      ".\n",
      ".\n",
      ".\n"
     ]
    }
   ],
   "source": [
    "for col in board:\n",
    "    for cell in col:\n",
    "        print(cell)"
   ]
  },
  {
   "cell_type": "code",
   "execution_count": 27,
   "metadata": {},
   "outputs": [
    {
     "name": "stdout",
     "output_type": "stream",
     "text": [
      ".\n",
      ".\n",
      ".\n",
      ".\n",
      ".\n",
      ".\n",
      ".\n",
      ".\n",
      ".\n"
     ]
    }
   ],
   "source": [
    "for y in range(3):\n",
    "    for x in range(3):\n",
    "        print(board[x][y])"
   ]
  },
  {
   "cell_type": "code",
   "execution_count": 28,
   "metadata": {},
   "outputs": [
    {
     "name": "stdout",
     "output_type": "stream",
     "text": [
      ".\n",
      ".\n",
      ".\n",
      ".\n",
      ".\n",
      ".\n",
      ".\n",
      ".\n",
      ".\n"
     ]
    }
   ],
   "source": [
    "# ゲーム盤の行の数は、board[0] の要素の数に等しい\n",
    "for y in range(len(board[0])):\n",
    "    # ゲーム盤の x 列のマスの数は、board の要素の数に等しい\n",
    "    for x in range(len(board)):\n",
    "        print(board[x][y])"
   ]
  },
  {
   "cell_type": "code",
   "execution_count": 29,
   "metadata": {},
   "outputs": [
    {
     "name": "stdout",
     "output_type": "stream",
     "text": [
      "〇〇〇\n",
      "×××\n",
      "...\n"
     ]
    }
   ],
   "source": [
    "board = initialize_board()\n",
    "place_mark(board, 0, 0, \"〇\")\n",
    "place_mark(board, 1, 0, \"〇\")\n",
    "place_mark(board, 2, 0, \"〇\")\n",
    "place_mark(board, 0, 1, \"×\")\n",
    "place_mark(board, 1, 1, \"×\")\n",
    "place_mark(board, 2, 1, \"×\")\n",
    "display_board(board)"
   ]
  },
  {
   "cell_type": "code",
   "execution_count": 30,
   "metadata": {},
   "outputs": [
    {
     "name": "stdout",
     "output_type": "stream",
     "text": [
      "ooo\n",
      "xxx\n",
      "...\n"
     ]
    }
   ],
   "source": [
    "board = initialize_board()\n",
    "place_mark(board, 0, 0, \"o\")\n",
    "place_mark(board, 1, 0, \"o\")\n",
    "place_mark(board, 2, 0, \"o\")\n",
    "place_mark(board, 0, 1, \"x\")\n",
    "place_mark(board, 1, 1, \"x\")\n",
    "place_mark(board, 2, 1, \"x\")\n",
    "display_board(board)"
   ]
  }
 ],
 "metadata": {
  "kernelspec": {
   "display_name": "marubatsu",
   "language": "python",
   "name": "python3"
  },
  "language_info": {
   "codemirror_mode": {
    "name": "ipython",
    "version": 3
   },
   "file_extension": ".py",
   "mimetype": "text/x-python",
   "name": "python",
   "nbconvert_exporter": "python",
   "pygments_lexer": "ipython3",
   "version": "3.11.4"
  },
  "orig_nbformat": 4
 },
 "nbformat": 4,
 "nbformat_minor": 2
}
