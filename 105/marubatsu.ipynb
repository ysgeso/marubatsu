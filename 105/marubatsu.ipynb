{
 "cells": [
  {
   "cell_type": "code",
   "execution_count": 1,
   "metadata": {},
   "outputs": [
    {
     "name": "stdout",
     "output_type": "stream",
     "text": [
      "3\n",
      "2\n",
      "1\n"
     ]
    }
   ],
   "source": [
    "a = [1, 2, 3]\n",
    "for num in reversed(a):\n",
    "    print(num)"
   ]
  },
  {
   "cell_type": "code",
   "execution_count": 2,
   "metadata": {},
   "outputs": [
    {
     "name": "stdout",
     "output_type": "stream",
     "text": [
      "[1, 2, 3]\n"
     ]
    }
   ],
   "source": [
    "print(a)"
   ]
  },
  {
   "cell_type": "code",
   "execution_count": 3,
   "metadata": {},
   "outputs": [
    {
     "name": "stdout",
     "output_type": "stream",
     "text": [
      "[3, 2, 1]\n"
     ]
    }
   ],
   "source": [
    "a.reverse()\n",
    "print(a)"
   ]
  },
  {
   "cell_type": "code",
   "execution_count": 4,
   "metadata": {},
   "outputs": [],
   "source": [
    "from tree import Mbtree\n",
    "from marubatsu import Marubatsu\n",
    "\n",
    "def calc_score_by_bf(self):\n",
    "    for nodelist in reversed(self.nodelist_by_depth):\n",
    "        for node in nodelist:\n",
    "            if node.mb.status == Marubatsu.CIRCLE:\n",
    "                node.score = 1\n",
    "            elif node.mb.status == Marubatsu.DRAW:\n",
    "                node.score = 0\n",
    "            elif node.mb.status == Marubatsu.CROSS:\n",
    "                node.score = -1\n",
    "            else:\n",
    "                score_list = [childnode.score for childnode in node.children]\n",
    "                if node.mb.move_count % 2 == 0:\n",
    "                    score = max(score_list)\n",
    "                else:\n",
    "                    score = min(score_list)\n",
    "                node.score = score\n",
    "\n",
    "Mbtree.calc_score_by_bf = calc_score_by_bf  "
   ]
  },
  {
   "cell_type": "code",
   "execution_count": 5,
   "metadata": {},
   "outputs": [
    {
     "name": "stdout",
     "output_type": "stream",
     "text": [
      "0\n"
     ]
    }
   ],
   "source": [
    "mbtree_bf = Mbtree.load(\"bftree\")\n",
    "mbtree_bf.calc_score_by_bf()\n",
    "print(mbtree_bf.root.score)"
   ]
  },
  {
   "cell_type": "code",
   "execution_count": 6,
   "metadata": {},
   "outputs": [],
   "source": [
    "from marubatsu import Marubatsu_GUI\n",
    "import matplotlib.patches as patches\n",
    "\n",
    "@staticmethod\n",
    "def draw_board(ax, mb, show_result=False, score=None, emphasize=False, dx=0, dy=0, lw=2):\n",
    "    # 結果によってゲーム盤の背景色を変更する\n",
    "    if show_result:\n",
    "        if score is None and mb.status == Marubatsu.PLAYING:\n",
    "            bgcolor = \"white\"\n",
    "        elif score == 1 or mb.status == Marubatsu.CIRCLE:\n",
    "            bgcolor = \"lightcyan\"\n",
    "        elif score == -1 or mb.status == Marubatsu.CROSS:\n",
    "            bgcolor = \"lavenderblush\"\n",
    "        else:\n",
    "            bgcolor = \"lightyellow\"\n",
    "        rect = patches.Rectangle(xy=(dx, dy), width=mb.BOARD_SIZE,\n",
    "                                height=mb.BOARD_SIZE, fc=bgcolor)\n",
    "        ax.add_patch(rect)\n",
    "\n",
    "    # emphasize が True の場合は赤色の外枠を描画する\n",
    "    if emphasize:\n",
    "        frame = patches.Rectangle(xy=(dx, dy), width=mb.BOARD_SIZE,\n",
    "                                height=mb.BOARD_SIZE, ec=\"red\", fill=False, lw=lw)\n",
    "        ax.add_patch(frame)\n",
    "    \n",
    "    # ゲーム盤の枠を描画する\n",
    "    for i in range(1, mb.BOARD_SIZE):\n",
    "        ax.plot([dx, dx + mb.BOARD_SIZE], [dy + i, dy + i], c=\"k\", lw=lw) # 横方向の枠線\n",
    "        ax.plot([dx + i, dx + i], [dy, dy + mb.BOARD_SIZE], c=\"k\", lw=lw) # 縦方向の枠線\n",
    "\n",
    "    # ゲーム盤のマークを描画する\n",
    "    for y in range(mb.BOARD_SIZE):\n",
    "        for x in range(mb.BOARD_SIZE):\n",
    "            color = \"red\" if (x, y) == mb.last_move else \"black\"\n",
    "            Marubatsu_GUI.draw_mark(ax, dx + x, dy + y, mb.board[x][y], color, lw=lw)\n",
    "            \n",
    "Marubatsu_GUI.draw_board = draw_board"
   ]
  },
  {
   "cell_type": "code",
   "execution_count": 7,
   "metadata": {},
   "outputs": [],
   "source": [
    "from tree import Node, Rect\n",
    "import matplotlib.pyplot as plt\n",
    "\n",
    "def draw_node(self, ax=None, maxdepth=None, emphasize=False, size=0.25, lw=0.8, dx=0, dy=0):\n",
    "    width = 8\n",
    "    if ax is None:\n",
    "        height = len(self.children) * 4\n",
    "        fig, ax = plt.subplots(figsize=(width * size, height * size))\n",
    "        ax.set_xlim(0, width)\n",
    "        ax.set_ylim(0, height)   \n",
    "        ax.invert_yaxis()\n",
    "        ax.axis(\"off\")\n",
    "        for childnode in self.children:\n",
    "            childnode.height = 4\n",
    "        self.height = height         \n",
    "        \n",
    "    # 自分自身のノードを真ん中の位置になるように (dx, dy) からずらして描画する\n",
    "    y = dy + (self.height - 3) / 2\n",
    "    Marubatsu_GUI.draw_board(ax, self.mb, show_result=True, score=self.score, emphasize=emphasize, lw=lw, dx=dx, dy=y)\n",
    "    rect = Rect(dx, y, 3, 3)\n",
    "    # 子ノードが存在する場合に、エッジの線と子ノードを描画する\n",
    "    if len(self.children) > 0:\n",
    "        if maxdepth != self.depth:   \n",
    "            plt.plot([dx + 3.5, dx + 4], [y + 1.5, y + 1.5], c=\"k\", lw=lw)\n",
    "            prevy = None\n",
    "            for childnode in self.children:\n",
    "                childnodey = dy + (childnode.height - 3) / 2\n",
    "                if maxdepth is None:\n",
    "                    Marubatsu_GUI.draw_board(ax, childnode.mb, show_result=True, score=childnode.score, dx=dx+5, dy=childnodey, lw=lw)\n",
    "                edgey = childnodey + 1.5\n",
    "                plt.plot([dx + 4 , dx + 4.5], [edgey, edgey], c=\"k\", lw=lw)\n",
    "                if prevy is not None:\n",
    "                    plt.plot([dx + 4 , dx + 4], [prevy, edgey], c=\"k\", lw=lw)\n",
    "                prevy = edgey\n",
    "                dy += childnode.height\n",
    "        else:\n",
    "            plt.plot([dx + 3.5, dx + 4.5], [y + 1.5, y + 1.5], c=\"k\", lw=lw)\n",
    "            \n",
    "    return rect\n",
    "\n",
    "Node.draw_node = draw_node"
   ]
  },
  {
   "cell_type": "code",
   "execution_count": 8,
   "metadata": {},
   "outputs": [
    {
     "data": {
      "application/vnd.jupyter.widget-view+json": {
       "model_id": "d42d71b97295479ebac3ac91e2e1ba85",
       "version_major": 2,
       "version_minor": 0
      },
      "text/plain": [
       "VBox(children=(Output(), HBox(children=(Label(value='', layout=Layout(width='50px')), Button(description='↑', …"
      ]
     },
     "metadata": {},
     "output_type": "display_data"
    }
   ],
   "source": [
    "from tree import Mbtree_GUI\n",
    "mbtree_gui = Mbtree_GUI(mbtree_bf)"
   ]
  },
  {
   "cell_type": "code",
   "execution_count": 9,
   "metadata": {},
   "outputs": [
    {
     "data": {
      "application/vnd.jupyter.widget-view+json": {
       "model_id": "2d9dc8c578e2462c822616817ed8bbeb",
       "version_major": 2,
       "version_minor": 0
      },
      "text/plain": [
       "VBox(children=(Output(), HBox(children=(Label(value='', layout=Layout(width='50px')), Button(description='↑', …"
      ]
     },
     "metadata": {},
     "output_type": "display_data"
    },
    {
     "ename": "AttributeError",
     "evalue": "'Node' object has no attribute 'score'",
     "output_type": "error",
     "traceback": [
      "\u001b[1;31m---------------------------------------------------------------------------\u001b[0m",
      "\u001b[1;31mAttributeError\u001b[0m                            Traceback (most recent call last)",
      "Cell \u001b[1;32mIn[9], line 2\u001b[0m\n\u001b[0;32m      1\u001b[0m mbtree_bf2 \u001b[38;5;241m=\u001b[39m Mbtree\u001b[38;5;241m.\u001b[39mload(\u001b[38;5;124m\"\u001b[39m\u001b[38;5;124mbftree\u001b[39m\u001b[38;5;124m\"\u001b[39m)\n\u001b[1;32m----> 2\u001b[0m mbtree_gui \u001b[38;5;241m=\u001b[39m Mbtree_GUI(mbtree_bf2)\n",
      "File \u001b[1;32mc:\\Users\\ys\\ai\\marubatsu\\105\\tree.py:442\u001b[0m, in \u001b[0;36mMbtree_GUI.__init__\u001b[1;34m(self, mbtree, size)\u001b[0m\n\u001b[0;32m    440\u001b[0m \u001b[38;5;28mself\u001b[39m\u001b[38;5;241m.\u001b[39mheight \u001b[38;5;241m=\u001b[39m \u001b[38;5;241m64\u001b[39m\n\u001b[0;32m    441\u001b[0m \u001b[38;5;28mself\u001b[39m\u001b[38;5;241m.\u001b[39mselectednode \u001b[38;5;241m=\u001b[39m \u001b[38;5;28mself\u001b[39m\u001b[38;5;241m.\u001b[39mmbtree\u001b[38;5;241m.\u001b[39mroot\n\u001b[1;32m--> 442\u001b[0m \u001b[38;5;28msuper\u001b[39m()\u001b[38;5;241m.\u001b[39m\u001b[38;5;21m__init__\u001b[39m()\n",
      "File \u001b[1;32mc:\\Users\\ys\\ai\\marubatsu\\105\\gui.py:16\u001b[0m, in \u001b[0;36mGUI.__init__\u001b[1;34m(self)\u001b[0m\n\u001b[0;32m     14\u001b[0m \u001b[38;5;28mself\u001b[39m\u001b[38;5;241m.\u001b[39mcreate_event_handler()\n\u001b[0;32m     15\u001b[0m \u001b[38;5;28mself\u001b[39m\u001b[38;5;241m.\u001b[39mdisplay_widgets() \n\u001b[1;32m---> 16\u001b[0m \u001b[38;5;28mself\u001b[39m\u001b[38;5;241m.\u001b[39mupdate_gui()\n",
      "File \u001b[1;32mc:\\Users\\ys\\ai\\marubatsu\\105\\tree.py:572\u001b[0m, in \u001b[0;36mMbtree_GUI.update_gui\u001b[1;34m(self)\u001b[0m\n\u001b[0;32m    570\u001b[0m \u001b[38;5;28;01mwhile\u001b[39;00m centernode\u001b[38;5;241m.\u001b[39mdepth \u001b[38;5;241m>\u001b[39m \u001b[38;5;241m6\u001b[39m:\n\u001b[0;32m    571\u001b[0m     centernode \u001b[38;5;241m=\u001b[39m centernode\u001b[38;5;241m.\u001b[39mparent\n\u001b[1;32m--> 572\u001b[0m \u001b[38;5;28mself\u001b[39m\u001b[38;5;241m.\u001b[39mmbtree\u001b[38;5;241m.\u001b[39mdraw_subtree(centernode\u001b[38;5;241m=\u001b[39mcenternode, selectednode\u001b[38;5;241m=\u001b[39m\u001b[38;5;28mself\u001b[39m\u001b[38;5;241m.\u001b[39mselectednode, ax\u001b[38;5;241m=\u001b[39m\u001b[38;5;28mself\u001b[39m\u001b[38;5;241m.\u001b[39max, maxdepth\u001b[38;5;241m=\u001b[39mmaxdepth)\n\u001b[0;32m    574\u001b[0m disabled \u001b[38;5;241m=\u001b[39m \u001b[38;5;28mself\u001b[39m\u001b[38;5;241m.\u001b[39mselectednode\u001b[38;5;241m.\u001b[39mparent \u001b[38;5;129;01mis\u001b[39;00m \u001b[38;5;28;01mNone\u001b[39;00m\n\u001b[0;32m    575\u001b[0m \u001b[38;5;28mself\u001b[39m\u001b[38;5;241m.\u001b[39mset_button_status(\u001b[38;5;28mself\u001b[39m\u001b[38;5;241m.\u001b[39mleft_button, disabled\u001b[38;5;241m=\u001b[39mdisabled)\n",
      "File \u001b[1;32mc:\\Users\\ys\\ai\\marubatsu\\105\\tree.py:351\u001b[0m, in \u001b[0;36mMbtree.draw_subtree\u001b[1;34m(self, centernode, selectednode, ax, size, lw, maxdepth)\u001b[0m\n\u001b[0;32m    349\u001b[0m dx \u001b[38;5;241m=\u001b[39m \u001b[38;5;241m5\u001b[39m \u001b[38;5;241m*\u001b[39m node\u001b[38;5;241m.\u001b[39mdepth\n\u001b[0;32m    350\u001b[0m emphasize \u001b[38;5;241m=\u001b[39m node \u001b[38;5;129;01mis\u001b[39;00m selectednode\n\u001b[1;32m--> 351\u001b[0m rect \u001b[38;5;241m=\u001b[39m node\u001b[38;5;241m.\u001b[39mdraw_node(ax\u001b[38;5;241m=\u001b[39max, maxdepth\u001b[38;5;241m=\u001b[39mmaxdepth, emphasize\u001b[38;5;241m=\u001b[39memphasize, size\u001b[38;5;241m=\u001b[39msize, lw\u001b[38;5;241m=\u001b[39mlw, dx\u001b[38;5;241m=\u001b[39mdx, dy\u001b[38;5;241m=\u001b[39mdy)\n\u001b[0;32m    352\u001b[0m \u001b[38;5;28mself\u001b[39m\u001b[38;5;241m.\u001b[39mnodes_by_rect[rect] \u001b[38;5;241m=\u001b[39m node\n\u001b[0;32m    353\u001b[0m dy \u001b[38;5;241m+\u001b[39m\u001b[38;5;241m=\u001b[39m node\u001b[38;5;241m.\u001b[39mheight\n",
      "Cell \u001b[1;32mIn[7], line 19\u001b[0m, in \u001b[0;36mdraw_node\u001b[1;34m(self, ax, maxdepth, emphasize, size, lw, dx, dy)\u001b[0m\n\u001b[0;32m     17\u001b[0m \u001b[38;5;66;03m# 自分自身のノードを真ん中の位置になるように (dx, dy) からずらして描画する\u001b[39;00m\n\u001b[0;32m     18\u001b[0m y \u001b[38;5;241m=\u001b[39m dy \u001b[38;5;241m+\u001b[39m (\u001b[38;5;28mself\u001b[39m\u001b[38;5;241m.\u001b[39mheight \u001b[38;5;241m-\u001b[39m \u001b[38;5;241m3\u001b[39m) \u001b[38;5;241m/\u001b[39m \u001b[38;5;241m2\u001b[39m\n\u001b[1;32m---> 19\u001b[0m Marubatsu_GUI\u001b[38;5;241m.\u001b[39mdraw_board(ax, \u001b[38;5;28mself\u001b[39m\u001b[38;5;241m.\u001b[39mmb, show_result\u001b[38;5;241m=\u001b[39m\u001b[38;5;28;01mTrue\u001b[39;00m, score\u001b[38;5;241m=\u001b[39m\u001b[38;5;28mself\u001b[39m\u001b[38;5;241m.\u001b[39mscore, emphasize\u001b[38;5;241m=\u001b[39memphasize, lw\u001b[38;5;241m=\u001b[39mlw, dx\u001b[38;5;241m=\u001b[39mdx, dy\u001b[38;5;241m=\u001b[39my)\n\u001b[0;32m     20\u001b[0m rect \u001b[38;5;241m=\u001b[39m Rect(dx, y, \u001b[38;5;241m3\u001b[39m, \u001b[38;5;241m3\u001b[39m)\n\u001b[0;32m     21\u001b[0m \u001b[38;5;66;03m# 子ノードが存在する場合に、エッジの線と子ノードを描画する\u001b[39;00m\n",
      "\u001b[1;31mAttributeError\u001b[0m: 'Node' object has no attribute 'score'"
     ]
    }
   ],
   "source": [
    "mbtree_bf2 = Mbtree.load(\"bftree\")\n",
    "mbtree_gui = Mbtree_GUI(mbtree_bf2)"
   ]
  },
  {
   "cell_type": "code",
   "execution_count": 10,
   "metadata": {},
   "outputs": [
    {
     "ename": "AttributeError",
     "evalue": "'Node' object has no attribute 'score'",
     "output_type": "error",
     "traceback": [
      "\u001b[1;31m---------------------------------------------------------------------------\u001b[0m",
      "\u001b[1;31mAttributeError\u001b[0m                            Traceback (most recent call last)",
      "Cell \u001b[1;32mIn[10], line 1\u001b[0m\n\u001b[1;32m----> 1\u001b[0m \u001b[38;5;28mprint\u001b[39m(\u001b[38;5;28mgetattr\u001b[39m(mbtree_bf2\u001b[38;5;241m.\u001b[39mroot, \u001b[38;5;124m\"\u001b[39m\u001b[38;5;124mscore\u001b[39m\u001b[38;5;124m\"\u001b[39m))\n",
      "\u001b[1;31mAttributeError\u001b[0m: 'Node' object has no attribute 'score'"
     ]
    }
   ],
   "source": [
    "print(getattr(mbtree_bf2.root, \"score\"))"
   ]
  },
  {
   "cell_type": "code",
   "execution_count": 11,
   "metadata": {},
   "outputs": [
    {
     "name": "stdout",
     "output_type": "stream",
     "text": [
      "0\n",
      "None\n"
     ]
    }
   ],
   "source": [
    "print(getattr(mbtree_bf.root, \"score\", None))\n",
    "print(getattr(mbtree_bf2.root, \"score\", None))"
   ]
  },
  {
   "cell_type": "code",
   "execution_count": 12,
   "metadata": {},
   "outputs": [],
   "source": [
    "def draw_node(self, ax=None, maxdepth=None, emphasize=False, size=0.25, lw=0.8, dx=0, dy=0):\n",
    "    width = 8\n",
    "    if ax is None:\n",
    "        height = len(self.children) * 4\n",
    "        fig, ax = plt.subplots(figsize=(width * size, height * size))\n",
    "        ax.set_xlim(0, width)\n",
    "        ax.set_ylim(0, height)   \n",
    "        ax.invert_yaxis()\n",
    "        ax.axis(\"off\")\n",
    "        for childnode in self.children:\n",
    "            childnode.height = 4\n",
    "        self.height = height         \n",
    "        \n",
    "    # 自分自身のノードを真ん中の位置になるように (dx, dy) からずらして描画する\n",
    "    y = dy + (self.height - 3) / 2\n",
    "    Marubatsu_GUI.draw_board(ax, self.mb, show_result=True, \n",
    "                             score=getattr(self, \"score\", None), emphasize=emphasize, lw=lw, dx=dx, dy=y)\n",
    "    rect = Rect(dx, y, 3, 3)\n",
    "    # 子ノードが存在する場合に、エッジの線と子ノードを描画する\n",
    "    if len(self.children) > 0:\n",
    "        if maxdepth != self.depth:   \n",
    "            plt.plot([dx + 3.5, dx + 4], [y + 1.5, y + 1.5], c=\"k\", lw=lw)\n",
    "            prevy = None\n",
    "            for childnode in self.children:\n",
    "                childnodey = dy + (childnode.height - 3) / 2\n",
    "                if maxdepth is None:\n",
    "                    Marubatsu_GUI.draw_board(ax, childnode.mb, show_result=True,\n",
    "                                             score=getattr(childnode, \"score\", None), dx=dx+5, dy=childnodey, lw=lw)\n",
    "                edgey = childnodey + 1.5\n",
    "                plt.plot([dx + 4 , dx + 4.5], [edgey, edgey], c=\"k\", lw=lw)\n",
    "                if prevy is not None:\n",
    "                    plt.plot([dx + 4 , dx + 4], [prevy, edgey], c=\"k\", lw=lw)\n",
    "                prevy = edgey\n",
    "                dy += childnode.height\n",
    "        else:\n",
    "            plt.plot([dx + 3.5, dx + 4.5], [y + 1.5, y + 1.5], c=\"k\", lw=lw)\n",
    "            \n",
    "    return rect\n",
    "\n",
    "Node.draw_node = draw_node"
   ]
  },
  {
   "cell_type": "code",
   "execution_count": 13,
   "metadata": {},
   "outputs": [
    {
     "data": {
      "application/vnd.jupyter.widget-view+json": {
       "model_id": "d5f6314838074322884523c848f302f7",
       "version_major": 2,
       "version_minor": 0
      },
      "text/plain": [
       "VBox(children=(Output(), HBox(children=(Label(value='', layout=Layout(width='50px')), Button(description='↑', …"
      ]
     },
     "metadata": {},
     "output_type": "display_data"
    }
   ],
   "source": [
    "mbtree_gui = Mbtree_GUI(mbtree_bf2)"
   ]
  },
  {
   "cell_type": "code",
   "execution_count": 14,
   "metadata": {},
   "outputs": [],
   "source": [
    "def calc_score_by_df(self, node):\n",
    "    if node.mb.status == Marubatsu.CIRCLE:\n",
    "        node.score = 1\n",
    "    elif node.mb.status == Marubatsu.DRAW:\n",
    "        node.score = 0\n",
    "    elif node.mb.status == Marubatsu.CROSS:\n",
    "        node.score = -1\n",
    "    else:\n",
    "        score_list = [self.calc_score_by_df(childnode) for childnode in node.children]\n",
    "        if node.mb.move_count % 2 == 0:\n",
    "            score = max(score_list)\n",
    "        else:\n",
    "            score = min(score_list)\n",
    "        node.score = score\n",
    "\n",
    "    return node.score\n",
    "\n",
    "Mbtree.calc_score_by_df = calc_score_by_df "
   ]
  },
  {
   "cell_type": "code",
   "execution_count": 15,
   "metadata": {},
   "outputs": [
    {
     "data": {
      "application/vnd.jupyter.widget-view+json": {
       "model_id": "82be3f15547146bcbfe3f356f84130db",
       "version_major": 2,
       "version_minor": 0
      },
      "text/plain": [
       "VBox(children=(Output(), HBox(children=(Label(value='', layout=Layout(width='50px')), Button(description='↑', …"
      ]
     },
     "metadata": {},
     "output_type": "display_data"
    }
   ],
   "source": [
    "mbtree_by_df = Mbtree.load(\"dftree\")\n",
    "mbtree_by_df.calc_score_by_df(mbtree_by_df.root)\n",
    "mbtree_gui = Mbtree_GUI(mbtree_by_df)"
   ]
  },
  {
   "cell_type": "code",
   "execution_count": 16,
   "metadata": {},
   "outputs": [],
   "source": [
    "def __init__(self, algo:str=\"bf\"):   \n",
    "    self.algo = algo\n",
    "    Node.count = 0\n",
    "    self.root = Node(Marubatsu())\n",
    "    if self.algo == \"bf\":  \n",
    "        self.create_tree_by_bf()\n",
    "        self.calc_score_by_bf()\n",
    "    else:\n",
    "        self.nodelist = [self.root]\n",
    "        self.nodelist_by_depth = [[] for _ in range(10)]\n",
    "        self.nodelist_by_depth[0].append(self.root)\n",
    "        self.nodenum = 0\n",
    "        self.create_tree_by_df(self.root)\n",
    "        self.calc_score_by_df(self.root)\n",
    "        \n",
    "Mbtree.__init__ = __init__"
   ]
  },
  {
   "cell_type": "code",
   "execution_count": 17,
   "metadata": {},
   "outputs": [
    {
     "name": "stdout",
     "output_type": "stream",
     "text": [
      "     9 depth 1 node created\n",
      "    72 depth 2 node created\n",
      "   504 depth 3 node created\n",
      "  3024 depth 4 node created\n",
      " 15120 depth 5 node created\n",
      " 54720 depth 6 node created\n",
      "148176 depth 7 node created\n",
      "200448 depth 8 node created\n",
      "127872 depth 9 node created\n",
      "     0 depth 10 node created\n",
      "total node num = 549946\n"
     ]
    },
    {
     "data": {
      "application/vnd.jupyter.widget-view+json": {
       "model_id": "0cf4b5eb30b2422592bc45a3755721aa",
       "version_major": 2,
       "version_minor": 0
      },
      "text/plain": [
       "VBox(children=(Output(), HBox(children=(Label(value='', layout=Layout(width='50px')), Button(description='↑', …"
      ]
     },
     "metadata": {},
     "output_type": "display_data"
    },
    {
     "data": {
      "application/vnd.jupyter.widget-view+json": {
       "model_id": "143e2b0e29654ede8531d5cbd914c472",
       "version_major": 2,
       "version_minor": 0
      },
      "text/plain": [
       "VBox(children=(Output(), HBox(children=(Label(value='', layout=Layout(width='50px')), Button(description='↑', …"
      ]
     },
     "metadata": {},
     "output_type": "display_data"
    }
   ],
   "source": [
    "mbtree_by_bf3 = Mbtree()\n",
    "mbtree_gui = Mbtree_GUI(mbtree_by_bf3)\n",
    "mbtree_by_df2 = Mbtree(algo=\"df\")\n",
    "mbtree_gui = Mbtree_GUI(mbtree_by_df2)"
   ]
  },
  {
   "cell_type": "code",
   "execution_count": 18,
   "metadata": {},
   "outputs": [
    {
     "name": "stdout",
     "output_type": "stream",
     "text": [
      "save completed.\n",
      "save completed.\n"
     ]
    }
   ],
   "source": [
    "mbtree_by_bf3.save(\"bfscore\")\n",
    "mbtree_by_df2.save(\"dfscore\")"
   ]
  }
 ],
 "metadata": {
  "kernelspec": {
   "display_name": "marubatsu",
   "language": "python",
   "name": "python3"
  },
  "language_info": {
   "codemirror_mode": {
    "name": "ipython",
    "version": 3
   },
   "file_extension": ".py",
   "mimetype": "text/x-python",
   "name": "python",
   "nbconvert_exporter": "python",
   "pygments_lexer": "ipython3",
   "version": "3.11.4"
  }
 },
 "nbformat": 4,
 "nbformat_minor": 2
}
