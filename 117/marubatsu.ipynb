{
 "cells": [
  {
   "cell_type": "markdown",
   "metadata": {},
   "source": [
    "下記は、marubatsul.py の 17 行目のコメントをなくして実行したものです"
   ]
  },
  {
   "cell_type": "code",
   "execution_count": 1,
   "metadata": {},
   "outputs": [
    {
     "ename": "ImportError",
     "evalue": "cannot import name 'Marubatsu' from partially initialized module 'marubatsu' (most likely due to a circular import) (c:\\Users\\ys\\ai\\marubatsu\\117\\marubatsu.py)",
     "output_type": "error",
     "traceback": [
      "\u001b[1;31m---------------------------------------------------------------------------\u001b[0m",
      "\u001b[1;31mImportError\u001b[0m                               Traceback (most recent call last)",
      "Cell \u001b[1;32mIn[1], line 1\u001b[0m\n\u001b[1;32m----> 1\u001b[0m \u001b[38;5;28;01mfrom\u001b[39;00m \u001b[38;5;21;01mutil\u001b[39;00m \u001b[38;5;28;01mimport\u001b[39;00m gui_play\n\u001b[0;32m      3\u001b[0m gui_play()\n",
      "File \u001b[1;32mc:\\Users\\ys\\ai\\marubatsu\\117\\util.py:1\u001b[0m\n\u001b[1;32m----> 1\u001b[0m \u001b[38;5;28;01mfrom\u001b[39;00m \u001b[38;5;21;01mmarubatsu\u001b[39;00m \u001b[38;5;28;01mimport\u001b[39;00m Marubatsu\n\u001b[0;32m      2\u001b[0m \u001b[38;5;28;01mfrom\u001b[39;00m \u001b[38;5;21;01mtree\u001b[39;00m \u001b[38;5;28;01mimport\u001b[39;00m Mbtree\n\u001b[0;32m      3\u001b[0m \u001b[38;5;28;01mimport\u001b[39;00m \u001b[38;5;21;01mai\u001b[39;00m \u001b[38;5;28;01mas\u001b[39;00m \u001b[38;5;21;01mai_module\u001b[39;00m\n",
      "File \u001b[1;32mc:\\Users\\ys\\ai\\marubatsu\\117\\marubatsu.py:17\u001b[0m\n\u001b[0;32m     15\u001b[0m \u001b[38;5;28;01mimport\u001b[39;00m \u001b[38;5;21;01mos\u001b[39;00m\n\u001b[0;32m     16\u001b[0m \u001b[38;5;28;01mfrom\u001b[39;00m \u001b[38;5;21;01mgui\u001b[39;00m \u001b[38;5;28;01mimport\u001b[39;00m GUI\n\u001b[1;32m---> 17\u001b[0m \u001b[38;5;28;01mfrom\u001b[39;00m \u001b[38;5;21;01mtree\u001b[39;00m \u001b[38;5;28;01mimport\u001b[39;00m Mbtree, Mbtree_GUI\n\u001b[0;32m     19\u001b[0m \u001b[38;5;28;01mclass\u001b[39;00m \u001b[38;5;21;01mMarkpat\u001b[39;00m(NamedTuple):   \n\u001b[0;32m     20\u001b[0m \u001b[38;5;250m    \u001b[39m\u001b[38;5;124;03m\"\"\"マークのパターン.\u001b[39;00m\n\u001b[0;32m     21\u001b[0m \u001b[38;5;124;03m    \u001b[39;00m\n\u001b[0;32m     22\u001b[0m \u001b[38;5;124;03m    Attributes:\u001b[39;00m\n\u001b[1;32m   (...)\u001b[0m\n\u001b[0;32m     28\u001b[0m \u001b[38;5;124;03m            空のマスの数\u001b[39;00m\n\u001b[0;32m     29\u001b[0m \u001b[38;5;124;03m    \"\"\"\u001b[39;00m\n",
      "File \u001b[1;32mc:\\Users\\ys\\ai\\marubatsu\\117\\tree.py:4\u001b[0m\n\u001b[0;32m      2\u001b[0m \u001b[38;5;28;01mimport\u001b[39;00m \u001b[38;5;21;01mmatplotlib\u001b[39;00m\u001b[38;5;21;01m.\u001b[39;00m\u001b[38;5;21;01mpyplot\u001b[39;00m \u001b[38;5;28;01mas\u001b[39;00m \u001b[38;5;21;01mplt\u001b[39;00m\n\u001b[0;32m      3\u001b[0m \u001b[38;5;28;01mimport\u001b[39;00m \u001b[38;5;21;01mmatplotlib\u001b[39;00m\u001b[38;5;21;01m.\u001b[39;00m\u001b[38;5;21;01mpatches\u001b[39;00m \u001b[38;5;28;01mas\u001b[39;00m \u001b[38;5;21;01mpatches\u001b[39;00m\n\u001b[1;32m----> 4\u001b[0m \u001b[38;5;28;01mfrom\u001b[39;00m \u001b[38;5;21;01mmarubatsu\u001b[39;00m \u001b[38;5;28;01mimport\u001b[39;00m Marubatsu, Marubatsu_GUI\n\u001b[0;32m      5\u001b[0m \u001b[38;5;28;01mfrom\u001b[39;00m \u001b[38;5;21;01mgui\u001b[39;00m \u001b[38;5;28;01mimport\u001b[39;00m GUI\n\u001b[0;32m      6\u001b[0m \u001b[38;5;28;01mimport\u001b[39;00m \u001b[38;5;21;01mipywidgets\u001b[39;00m \u001b[38;5;28;01mas\u001b[39;00m \u001b[38;5;21;01mwidgets\u001b[39;00m\n",
      "\u001b[1;31mImportError\u001b[0m: cannot import name 'Marubatsu' from partially initialized module 'marubatsu' (most likely due to a circular import) (c:\\Users\\ys\\ai\\marubatsu\\117\\marubatsu.py)"
     ]
    }
   ],
   "source": [
    "from util import gui_play\n",
    "\n",
    "gui_play()"
   ]
  },
  {
   "cell_type": "markdown",
   "metadata": {},
   "source": [
    "下記のプログラムを実行する前に、marubatsu.py の 17 行目をコメントにして、JupyterLab を再起動しました"
   ]
  },
  {
   "cell_type": "code",
   "execution_count": 1,
   "metadata": {},
   "outputs": [],
   "source": [
    "from marubatsu import Marubatsu_GUI\n",
    "from tkinter import Tk, filedialog\n",
    "import os\n",
    "\n",
    "def __init__(self, mb, params, names, ai_dict, seed, size):\n",
    "    if params is None:\n",
    "        params = [{}, {}]\n",
    "    if ai_dict is None:\n",
    "        ai_dict = {}\n",
    "    if names is None:\n",
    "        names = [None, None]\n",
    "    for i in range(2):\n",
    "        if names[i] is None:\n",
    "            if mb.ai[i] is None:\n",
    "                names[i] = \"人間\"\n",
    "            else:\n",
    "                names[i] = mb.ai[i].__name__\n",
    "    \n",
    "    # JupyterLab からファイルダイアログを開く際に必要な前処理\n",
    "    root = Tk()\n",
    "    root.withdraw()\n",
    "    root.call('wm', 'attributes', '.', '-topmost', True)  \n",
    "\n",
    "    # save フォルダが存在しない場合は作成する\n",
    "    if not os.path.exists(\"save\"):\n",
    "        os.mkdir(\"save\")        \n",
    "    \n",
    "    self.mb = mb\n",
    "    self.ai_dict = ai_dict\n",
    "    self.params = params\n",
    "    self.names = names\n",
    "    self.seed = seed\n",
    "    self.size = size\n",
    "    \n",
    "    super(Marubatsu_GUI, self).__init__()\n",
    "    \n",
    "    from tree import Mbtree, Mbtree_GUI\n",
    "\n",
    "    if Marubatsu_GUI.mbtree is None:\n",
    "        Marubatsu_GUI.mbtree = Mbtree.load(\"../data/aidata\")\n",
    "    self.mbtree_gui = Mbtree_GUI(Marubatsu_GUI.mbtree, size=0.1)\n",
    "    \n",
    "Marubatsu_GUI.__init__ = __init__"
   ]
  },
  {
   "cell_type": "code",
   "execution_count": 2,
   "metadata": {},
   "outputs": [
    {
     "data": {
      "application/vnd.jupyter.widget-view+json": {
       "model_id": "e86e254971674e6289ab5b1bb4b9efdd",
       "version_major": 2,
       "version_minor": 0
      },
      "text/plain": [
       "VBox(children=(HBox(children=(Checkbox(value=False, description='乱数の種', indent=False, layout=Layout(width='100…"
      ]
     },
     "metadata": {},
     "output_type": "display_data"
    },
    {
     "data": {
      "application/vnd.jupyter.widget-view+json": {
       "model_id": "e2885355950141d0bd2235d4c605daf8",
       "version_major": 2,
       "version_minor": 0
      },
      "text/plain": [
       "VBox(children=(Output(), HBox(children=(Label(value='', layout=Layout(width='50px')), Button(description='↑', …"
      ]
     },
     "metadata": {},
     "output_type": "display_data"
    }
   ],
   "source": [
    "from util import gui_play\n",
    "\n",
    "gui_play()"
   ]
  },
  {
   "cell_type": "code",
   "execution_count": 3,
   "metadata": {},
   "outputs": [],
   "source": [
    "from marubatsu import Marubatsu\n",
    "import matplotlib.patches as patches\n",
    "\n",
    "@staticmethod\n",
    "def draw_board(ax, mb, show_result=False, score=None, bc=None, bw=1, darkness=0, dx=0, dy=0, lw=2): \n",
    "    # 結果によってゲーム盤の背景色を変更する\n",
    "    if show_result:\n",
    "        if score is None and mb.status == Marubatsu.PLAYING:\n",
    "            bgcolor = \"white\"\n",
    "        elif score == 1 or mb.status == Marubatsu.CIRCLE:\n",
    "            bgcolor = \"lightcyan\"\n",
    "        elif score == -1 or mb.status == Marubatsu.CROSS:\n",
    "            bgcolor = \"lavenderblush\"\n",
    "        else:\n",
    "            bgcolor = \"lightyellow\"\n",
    "        rect = patches.Rectangle(xy=(dx, dy), width=mb.BOARD_SIZE,\n",
    "                                height=mb.BOARD_SIZE, fc=bgcolor)\n",
    "        ax.add_patch(rect)\n",
    "  \n",
    "    # ゲーム盤の枠を描画する\n",
    "    for i in range(1, mb.BOARD_SIZE):\n",
    "        ax.plot([dx, dx + mb.BOARD_SIZE], [dy + i, dy + i], c=\"k\", lw=lw) # 横方向の枠線\n",
    "        ax.plot([dx + i, dx + i], [dy, dy + mb.BOARD_SIZE], c=\"k\", lw=lw) # 縦方向の枠線\n",
    "\n",
    "    # ゲーム盤のマークを描画する\n",
    "    for y in range(mb.BOARD_SIZE):\n",
    "        for x in range(mb.BOARD_SIZE):\n",
    "            color = \"red\" if (x, y) == mb.last_move else \"black\"\n",
    "            Marubatsu_GUI.draw_mark(ax, dx + x, dy + y, mb.board[x][y], color, lw=lw)\n",
    "\n",
    "    # darkness 0 より大きい場合は、半透明の黒い正方形を描画して暗くする\n",
    "    if darkness > 0:\n",
    "        ax.add_artist(patches.Rectangle(xy=(dx, dy), width=mb.BOARD_SIZE,\n",
    "                                        height=mb.BOARD_SIZE, fc=\"black\", alpha=darkness))\n",
    "\n",
    "    # bc が None でない場合はその色で bw の太さで外枠を描画する\n",
    "    if bc is not None:\n",
    "        frame = patches.Rectangle(xy=(dx, dy), width=mb.BOARD_SIZE,\n",
    "                                  height=mb.BOARD_SIZE, ec=bc, fill=False, lw=bw)\n",
    "        ax.add_patch(frame)\n",
    "        \n",
    "Marubatsu_GUI.draw_board = draw_board"
   ]
  },
  {
   "cell_type": "code",
   "execution_count": 4,
   "metadata": {},
   "outputs": [
    {
     "data": {
      "application/vnd.jupyter.widget-view+json": {
       "model_id": "857934b00f99481a90f9ed6fa14a557c",
       "version_major": 2,
       "version_minor": 0
      },
      "image/png": "[encoded data removed]",
      "text/html": [
       "\n",
       "            <div style=\"display: inline-block;\">\n",
       "                <div class=\"jupyter-widgets widget-label\" style=\"text-align: center;\">\n",
       "                    Figure\n",
       "                </div>\n",
       "                <img src='data:image/png;base64,iVBORw0KGgoAAAANSUhEUgAAAGQAAABkCAYAAABw4pVUAAAAOXRFWHRTb2Z0d2FyZQBNYXRwbG90bGliIHZlcnNpb24zLjguMCwgaHR0cHM6Ly9tYXRwbG90bGliLm9yZy81sbWrAAAACXBIWXMAAA9hAAAPYQGoP6dpAAABmElEQVR4nO3dQW6DMBBA0QnqIUDxMXz/E3AMLHwK01UWkaqo1KH5JP/tmVj6AjYTcdm2bQthDK8+gO4ZBMYgMAaBMQiMQWAMAmMQGIPAGATGIDAGgTEIjEFg0EFyzpFSipzzqWb3+Hr1AR6ptUYp5XSze6DvkE9kEBiDwBgExiAwBoExCIxBYAwCYxAYg8AYBMYgMAaBMQiMQWAMAmMQGIPAGATGIDCXnn/h5pyj1vrM89xZ1zVaazEMQ0zTdJrZN+M4xjzPu67pWgP6r1Wa1tphv3Pk7L/oCjKO47PO8aN3uEP26npkHS2lFKWUuF6vsSzLaWb38KUOYxAYg8AYBMYgMAaBMQiMQWAMAmMQGIPAGATGIDAGgTEIjEFgDAJjEBiDwLgG5BrQfq4B/ZJrQI+5BgSZ3cOXOoxBYAwCYxAYg8AYBMYgMAaBMQiMQWAMAmMQGIPAGATGIDAGgTEIjEFgDAJjEBiDwBgEBv3ZvNte0xH7X0fO7oHey/pEPrJgDAJjEBiDwBgExiAwBoExCIxBYAwCYxCYb707nk+S2GAvAAAAAElFTkSuQmCC' width=100.0/>\n",
       "            </div>\n",
       "        "
      ],
      "text/plain": [
       "Canvas(toolbar=Toolbar(toolitems=[('Home', 'Reset original view', 'home', 'home'), ('Back', 'Back to previous …"
      ]
     },
     "metadata": {},
     "output_type": "display_data"
    }
   ],
   "source": [
    "import matplotlib.pyplot as plt\n",
    "\n",
    "mb = Marubatsu()\n",
    "fig, ax = plt.subplots(figsize=(1,1))\n",
    "ax.axis(\"off\")\n",
    "Marubatsu_GUI.draw_board(ax, mb)"
   ]
  },
  {
   "cell_type": "code",
   "execution_count": 5,
   "metadata": {},
   "outputs": [
    {
     "data": {
      "application/vnd.jupyter.widget-view+json": {
       "model_id": "0f35ce9468b343a4bb80471653ded73e",
       "version_major": 2,
       "version_minor": 0
      },
      "image/png": "[encoded data removed]",
      "text/html": [
       "\n",
       "            <div style=\"display: inline-block;\">\n",
       "                <div class=\"jupyter-widgets widget-label\" style=\"text-align: center;\">\n",
       "                    Figure\n",
       "                </div>\n",
       "                <img src='data:image/png;base64,iVBORw0KGgoAAAANSUhEUgAAAGQAAABkCAYAAABw4pVUAAAAOXRFWHRTb2Z0d2FyZQBNYXRwbG90bGliIHZlcnNpb24zLjguMCwgaHR0cHM6Ly9tYXRwbG90bGliLm9yZy81sbWrAAAACXBIWXMAAA9hAAAPYQGoP6dpAAACg0lEQVR4nO3dsUojURiG4c8QVgjCEMYisCSNlZbReq8kTS5BryBXoJdg45VYa0pTpYhhIUiGMGBjNszZYiXgKuyOZ8J+s7wPhKnmJ8zLzBQ54eyFEIJgo/GvvwDeIogZgpghiBmCmCGIGYKYIYgZgpghiBmCmCGIGYKYIYiZZvSEx0dpuazgq7x3NhhokWXqpKnubm5qM1uSdHgo9XrlzwsxZrPwY38/BGknn69S0OuxTrODFEKrFcJsVvqSxt0hy6WaLy8aX1zouduNGvWR9Wgk5bnWSaLb0ag2sw/mc/UvL389OUreJfGPLEnP3a7yo6MqRr1RNJvbY9Xzdzk7Bi91MwQxQxAzBDFDEDMEMUMQMwQxQxAzBDFDEDMEMUMQMwQxQxAzBDFDEDMEMUMQM3sx/8I9OznRYjLROkm2v1FXabVaqSgKNRoNtdvt2sxubDb6kufqHB/r7uGh1LlRV3GRZfouSXkeM+aPiqJQlmW1m61PzI0K0klT6emJO+Q32zskTUufG/XI0ngsnZ7q9upqJ0tphsOhsixTmqa6vr6uzexkOtW383Pp/l7q90udy0vdDEHMEMQMQcwQxAxBzBDEDEHMEMQMQcwQxAxBzBDEDEHMEMQMQcwQxAxBzBDEDMuAWAZUHsuA/hLLgD7GMiCz2SwD+o8QxAxBzBDEDEHMEMQMQcwQxAxBzBDEDEHMEMQMQcwQxAxBzBDEDEHMEMQMQcwQxEwlS0UO5vMqxrzT2Gy2x2Q6rc3sqOsRu0tbaLXYpc1ml7ZeT5pMdraPYWcwkF73GlTFew3ucrakT+9jGLcuC5XjpW6GIGYIYoYgZghihiBmCGKGIGYIYoYgZghi5icMhwdjHan4hwAAAABJRU5ErkJggg==' width=100.0/>\n",
       "            </div>\n",
       "        "
      ],
      "text/plain": [
       "Canvas(toolbar=Toolbar(toolitems=[('Home', 'Reset original view', 'home', 'home'), ('Back', 'Back to previous …"
      ]
     },
     "metadata": {},
     "output_type": "display_data"
    }
   ],
   "source": [
    "fig, ax = plt.subplots(figsize=(1,1))\n",
    "ax.axis(\"off\")\n",
    "Marubatsu_GUI.draw_board(ax, mb, bc=\"red\", darkness=0.3)"
   ]
  },
  {
   "cell_type": "code",
   "execution_count": 6,
   "metadata": {},
   "outputs": [],
   "source": [
    "from tree import Node, Rect\n",
    "\n",
    "def draw_node(self, ax=None, maxdepth=None, emphasize=False, darkness=0, size=0.25, lw=0.8, dx=0, dy=0):\n",
    "    width = 8\n",
    "    if ax is None:\n",
    "        height = len(self.children) * 4\n",
    "        fig, ax = plt.subplots(figsize=(width * size, height * size))\n",
    "        ax.set_xlim(0, width)\n",
    "        ax.set_ylim(0, height)   \n",
    "        ax.invert_yaxis()\n",
    "        ax.axis(\"off\")\n",
    "        for childnode in self.children:\n",
    "            childnode.height = 4\n",
    "        self.height = height         \n",
    "        \n",
    "    # 自分自身のノードを真ん中の位置になるように (dx, dy) からずらして描画する\n",
    "    y = dy + (self.height - 3) / 2\n",
    "    bc = \"red\" if emphasize else None\n",
    "    Marubatsu_GUI.draw_board(ax, self.mb, show_result=True, \n",
    "                            score=getattr(self, \"score\", None), bc=bc, darkness=darkness, lw=lw, dx=dx, dy=y)\n",
    "    rect = Rect(dx, y, 3, 3)\n",
    "    # 子ノードが存在する場合に、エッジの線と子ノードを描画する\n",
    "    if len(self.children) > 0:\n",
    "        if maxdepth != self.depth:   \n",
    "            ax.plot([dx + 3.5, dx + 4], [y + 1.5, y + 1.5], c=\"k\", lw=lw)\n",
    "            prevy = None\n",
    "            for childnode in self.children:\n",
    "                childnodey = dy + (childnode.height - 3) / 2\n",
    "                if maxdepth is None:\n",
    "                    Marubatsu_GUI.draw_board(ax, childnode.mb, show_result=True,\n",
    "                                            score=getattr(childnode, \"score\", None), dx=dx+5, dy=childnodey, lw=lw)\n",
    "                edgey = childnodey + 1.5\n",
    "                ax.plot([dx + 4 , dx + 4.5], [edgey, edgey], c=\"k\", lw=lw)\n",
    "                if prevy is not None:\n",
    "                    ax.plot([dx + 4 , dx + 4], [prevy, edgey], c=\"k\", lw=lw)\n",
    "                prevy = edgey\n",
    "                dy += childnode.height\n",
    "        else:\n",
    "            ax.plot([dx + 3.5, dx + 4.5], [y + 1.5, y + 1.5], c=\"k\", lw=lw)\n",
    "            \n",
    "    return rect\n",
    "\n",
    "Node.draw_node = draw_node"
   ]
  },
  {
   "cell_type": "code",
   "execution_count": 7,
   "metadata": {},
   "outputs": [
    {
     "data": {
      "text/plain": [
       "<tree.Rect at 0x1a9ab560410>"
      ]
     },
     "execution_count": 7,
     "metadata": {},
     "output_type": "execute_result"
    },
    {
     "data": {
      "application/vnd.jupyter.widget-view+json": {
       "model_id": "47e0cc675c2a4403b19fdd7cfa89016f",
       "version_major": 2,
       "version_minor": 0
      },
      "image/png": "[encoded data removed]",
      "text/html": [
       "\n",
       "            <div style=\"display: inline-block;\">\n",
       "                <div class=\"jupyter-widgets widget-label\" style=\"text-align: center;\">\n",
       "                    Figure\n",
       "                </div>\n",
       "                <img src='data:image/png;base64,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' width=200.0/>\n",
       "            </div>\n",
       "        "
      ],
      "text/plain": [
       "Canvas(toolbar=Toolbar(toolitems=[('Home', 'Reset original view', 'home', 'home'), ('Back', 'Back to previous …"
      ]
     },
     "metadata": {},
     "output_type": "display_data"
    }
   ],
   "source": [
    "from tree import Mbtree\n",
    "\n",
    "mbtree = Mbtree.load(\"../data/aidata\")\n",
    "mbtree.root.draw_node()"
   ]
  },
  {
   "cell_type": "code",
   "execution_count": 8,
   "metadata": {},
   "outputs": [
    {
     "data": {
      "text/plain": [
       "<tree.Rect at 0x1a9b0721fd0>"
      ]
     },
     "execution_count": 8,
     "metadata": {},
     "output_type": "execute_result"
    },
    {
     "data": {
      "application/vnd.jupyter.widget-view+json": {
       "model_id": "e5358fd07aee444b858707e1e94fbd93",
       "version_major": 2,
       "version_minor": 0
      },
      "image/png": "[encoded data removed]",
      "text/html": [
       "\n",
       "            <div style=\"display: inline-block;\">\n",
       "                <div class=\"jupyter-widgets widget-label\" style=\"text-align: center;\">\n",
       "                    Figure\n",
       "                </div>\n",
       "                <img src='data:image/png;base64,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' width=200.0/>\n",
       "            </div>\n",
       "        "
      ],
      "text/plain": [
       "Canvas(toolbar=Toolbar(toolitems=[('Home', 'Reset original view', 'home', 'home'), ('Back', 'Back to previous …"
      ]
     },
     "metadata": {},
     "output_type": "display_data"
    }
   ],
   "source": [
    "mbtree.root.draw_node(emphasize=True, darkness=0.3)"
   ]
  },
  {
   "cell_type": "code",
   "execution_count": 9,
   "metadata": {},
   "outputs": [
    {
     "data": {
      "application/vnd.jupyter.widget-view+json": {
       "model_id": "af36e0697ff34837880e36178af586d7",
       "version_major": 2,
       "version_minor": 0
      },
      "text/plain": [
       "VBox(children=(Output(), HBox(children=(Label(value='', layout=Layout(width='50px')), Button(description='↑', …"
      ]
     },
     "metadata": {},
     "output_type": "display_data"
    },
    {
     "data": {
      "text/plain": [
       "<tree.Mbtree_GUI at 0x1a9a8542c10>"
      ]
     },
     "execution_count": 9,
     "metadata": {},
     "output_type": "execute_result"
    }
   ],
   "source": [
    "from tree import Mbtree_GUI\n",
    "\n",
    "Mbtree_GUI(mbtree)"
   ]
  },
  {
   "cell_type": "code",
   "execution_count": 10,
   "metadata": {},
   "outputs": [],
   "source": [
    "def draw_subtree(self, centernode=None, selectednode=None, anim_frame=None, isscore=False, ax=None, size=0.25, lw=0.8, maxdepth=2):\n",
    "    def calc_darkness(node):\n",
    "        if anim_frame is None:\n",
    "            return 0\n",
    "        index = node.score_index if isscore else node.id\n",
    "        return 0.5 if index > anim_frame else 0\n",
    "    \n",
    "    self.nodes_by_rect = {}\n",
    "\n",
    "    if centernode is None:\n",
    "        centernode = self.root\n",
    "    self.calc_node_height(N=centernode, maxdepth=maxdepth)\n",
    "    width = 5 * (maxdepth + 1)\n",
    "    height = centernode.height\n",
    "    parent = centernode.parent\n",
    "    if parent is not None:\n",
    "        height += (len(parent.children) - 1) * 4\n",
    "        parent.height = height\n",
    "    if ax is None:\n",
    "        fig, ax = plt.subplots(figsize=(width * size, height * size))\n",
    "        ax.set_xlim(0, width)\n",
    "        ax.set_ylim(0, height)   \n",
    "        ax.invert_yaxis()\n",
    "        ax.axis(\"off\")        \n",
    "    \n",
    "    nodelist = [centernode]\n",
    "    depth = centernode.depth\n",
    "    while len(nodelist) > 0 and depth <= maxdepth:        \n",
    "        dy = 0\n",
    "        if parent is not None:\n",
    "            dy = parent.children.index(centernode) * 4\n",
    "        childnodelist = []\n",
    "        for node in nodelist:\n",
    "            if node is None:\n",
    "                dy += 4\n",
    "                childnodelist.append(None)\n",
    "            else:\n",
    "                dx = 5 * node.depth\n",
    "                emphasize = node is selectednode\n",
    "                darkness = calc_darkness(node)\n",
    "                rect = node.draw_node(ax=ax, maxdepth=maxdepth, emphasize=emphasize, darkness=darkness, size=size, lw=lw, dx=dx, dy=dy)\n",
    "                self.nodes_by_rect[rect] = node\n",
    "                dy += node.height\n",
    "                if len(node.children) > 0:  \n",
    "                    childnodelist += node.children\n",
    "                else:\n",
    "                    childnodelist.append(None)\n",
    "        depth += 1\n",
    "        nodelist = childnodelist\n",
    "        \n",
    "    if parent is not None:\n",
    "        dy = 0\n",
    "        for sibling in parent.children:\n",
    "            if sibling is not centernode:\n",
    "                sibling.height = 4\n",
    "                dx = 5 * sibling.depth\n",
    "                darkness = calc_darkness(sibling)\n",
    "                rect = sibling.draw_node(ax, maxdepth=sibling.depth, size=size, darkness=darkness, lw=lw, dx=dx, dy=dy)\n",
    "                self.nodes_by_rect[rect] = sibling\n",
    "            dy += sibling.height\n",
    "        dx = 5 * parent.depth\n",
    "        darkness = calc_darkness(parent)\n",
    "        rect = parent.draw_node(ax, maxdepth=maxdepth, darkness=darkness, size=size, lw=lw, dx=dx, dy=0)\n",
    "        self.nodes_by_rect[rect] = parent\n",
    "    \n",
    "        node = parent\n",
    "        while node.parent is not None:\n",
    "            node = node.parent\n",
    "            node.height = height\n",
    "            dx = 5 * node.depth\n",
    "            darkness = calc_darkness(node)\n",
    "            rect = node.draw_node(ax, maxdepth=node.depth, darkness=darkness, size=size, lw=lw, dx=dx, dy=0)\n",
    "            self.nodes_by_rect[rect] = node\n",
    "            \n",
    "Mbtree.draw_subtree = draw_subtree"
   ]
  },
  {
   "cell_type": "code",
   "execution_count": 13,
   "metadata": {},
   "outputs": [],
   "source": [
    "from tree import Mbtree_Anim\n",
    "\n",
    "def update_gui(self):\n",
    "    self.ax.clear()\n",
    "    self.ax.set_xlim(-1, self.width - 1)\n",
    "    self.ax.set_ylim(0, self.height)   \n",
    "    self.ax.invert_yaxis()\n",
    "    self.ax.axis(\"off\")   \n",
    "    \n",
    "    self.selectednode = self.nodelist[self.play.value]\n",
    "    self.centernode = self.selectednode\n",
    "    if self.mbtree.algo == \"bf\":\n",
    "        if self.centernode.depth > 0:\n",
    "            self.centernode = self.centernode.parent\n",
    "    while self.centernode.depth > 6:\n",
    "        self.centernode = self.centernode.parent\n",
    "    if self.centernode.depth <= 4:\n",
    "        maxdepth = self.centernode.depth + 1\n",
    "    elif self.centernode.depth == 5:\n",
    "        maxdepth = 7\n",
    "    else:\n",
    "        maxdepth = 9\n",
    "    self.mbtree.draw_subtree(centernode=self.centernode, selectednode=self.selectednode,\n",
    "                             anim_frame=self.play.value, isscore=self.isscore, ax=self.ax, maxdepth=maxdepth)\n",
    "                            \n",
    "    disabled = self.play.value == 0\n",
    "    self.set_button_status(self.prev_button, disabled=disabled)\n",
    "    disabled = self.play.value == self.nodenum - 1\n",
    "    self.set_button_status(self.next_button, disabled=disabled)\n",
    "    \n",
    "Mbtree_Anim.update_gui = update_gui"
   ]
  },
  {
   "cell_type": "code",
   "execution_count": 16,
   "metadata": {},
   "outputs": [
    {
     "data": {
      "application/vnd.jupyter.widget-view+json": {
       "model_id": "8209f9adeda54279bd4ac5a50a4afd4a",
       "version_major": 2,
       "version_minor": 0
      },
      "text/plain": [
       "VBox(children=(HBox(children=(Play(value=0, interval=500, max=549945), Button(description='<', layout=Layout(w…"
      ]
     },
     "metadata": {},
     "output_type": "display_data"
    },
    {
     "data": {
      "text/plain": [
       "<tree.Mbtree_Anim at 0x1a9e244ff10>"
      ]
     },
     "execution_count": 16,
     "metadata": {},
     "output_type": "execute_result"
    }
   ],
   "source": [
    "Mbtree_Anim(mbtree)"
   ]
  },
  {
   "cell_type": "code",
   "execution_count": 17,
   "metadata": {},
   "outputs": [
    {
     "data": {
      "application/vnd.jupyter.widget-view+json": {
       "model_id": "82fa58b497c04d46b7851aa23bbd69bf",
       "version_major": 2,
       "version_minor": 0
      },
      "text/plain": [
       "VBox(children=(HBox(children=(Play(value=0, interval=500, max=549945), Button(description='<', layout=Layout(w…"
      ]
     },
     "metadata": {},
     "output_type": "display_data"
    }
   ],
   "source": [
    "bftree = Mbtree.load(\"../data/bftree\")\n",
    "Mbtree_Anim(bftree);"
   ]
  },
  {
   "cell_type": "code",
   "execution_count": 18,
   "metadata": {},
   "outputs": [
    {
     "data": {
      "application/vnd.jupyter.widget-view+json": {
       "model_id": "c3a4e2464d144bc2997cfd0ba1abf8ac",
       "version_major": 2,
       "version_minor": 0
      },
      "text/plain": [
       "VBox(children=(HBox(children=(Play(value=0, interval=500, max=1649836), Button(description='<', layout=Layout(…"
      ]
     },
     "metadata": {},
     "output_type": "display_data"
    },
    {
     "data": {
      "text/plain": [
       "<tree.Mbtree_Anim at 0x1a9fa615f10>"
      ]
     },
     "execution_count": 18,
     "metadata": {},
     "output_type": "execute_result"
    }
   ],
   "source": [
    "Mbtree_Anim(mbtree, isscore=True)"
   ]
  },
  {
   "cell_type": "code",
   "execution_count": 20,
   "metadata": {},
   "outputs": [],
   "source": [
    "def draw_subtree(self, centernode=None, selectednode=None, anim_frame=None, isscore=False,\n",
    "                 ax=None, show_bestmove=False, size=0.25, lw=0.8, maxdepth=2):\n",
    "    def calc_darkness(node):\n",
    "        if show_bestmove:\n",
    "            if node.parent is None:\n",
    "                return 0\n",
    "            elif node.mb.last_move in node.parent.bestmoves:\n",
    "                return 0\n",
    "            else:\n",
    "                return 0.2\n",
    "            \n",
    "        if anim_frame is None:\n",
    "            return 0\n",
    "        index = node.score_index if isscore else node.id\n",
    "        return 0.5 if index > anim_frame else 0\n",
    "    \n",
    "    self.nodes_by_rect = {}\n",
    "\n",
    "    if centernode is None:\n",
    "        centernode = self.root\n",
    "    self.calc_node_height(N=centernode, maxdepth=maxdepth)\n",
    "    width = 5 * (maxdepth + 1)\n",
    "    height = centernode.height\n",
    "    parent = centernode.parent\n",
    "    if parent is not None:\n",
    "        height += (len(parent.children) - 1) * 4\n",
    "        parent.height = height\n",
    "    if ax is None:\n",
    "        fig, ax = plt.subplots(figsize=(width * size, height * size))\n",
    "        ax.set_xlim(0, width)\n",
    "        ax.set_ylim(0, height)   \n",
    "        ax.invert_yaxis()\n",
    "        ax.axis(\"off\")        \n",
    "    \n",
    "    nodelist = [centernode]\n",
    "    depth = centernode.depth\n",
    "    while len(nodelist) > 0 and depth <= maxdepth:        \n",
    "        dy = 0\n",
    "        if parent is not None:\n",
    "            dy = parent.children.index(centernode) * 4\n",
    "        childnodelist = []\n",
    "        for node in nodelist:\n",
    "            if node is None:\n",
    "                dy += 4\n",
    "                childnodelist.append(None)\n",
    "            else:\n",
    "                dx = 5 * node.depth\n",
    "                emphasize = node is selectednode\n",
    "                darkness = calc_darkness(node)\n",
    "                rect = node.draw_node(ax=ax, maxdepth=maxdepth, emphasize=emphasize, darkness=darkness, size=size, lw=lw, dx=dx, dy=dy)\n",
    "                self.nodes_by_rect[rect] = node\n",
    "                dy += node.height\n",
    "                if len(node.children) > 0:  \n",
    "                    childnodelist += node.children\n",
    "                else:\n",
    "                    childnodelist.append(None)\n",
    "        depth += 1\n",
    "        nodelist = childnodelist\n",
    "        \n",
    "    if parent is not None:\n",
    "        dy = 0\n",
    "        for sibling in parent.children:\n",
    "            if sibling is not centernode:\n",
    "                sibling.height = 4\n",
    "                dx = 5 * sibling.depth\n",
    "                darkness = calc_darkness(sibling)\n",
    "                rect = sibling.draw_node(ax, maxdepth=sibling.depth, size=size, darkness=darkness, lw=lw, dx=dx, dy=dy)\n",
    "                self.nodes_by_rect[rect] = sibling\n",
    "            dy += sibling.height\n",
    "        dx = 5 * parent.depth\n",
    "        darkness = calc_darkness(parent)\n",
    "        rect = parent.draw_node(ax, maxdepth=maxdepth, darkness=darkness, size=size, lw=lw, dx=dx, dy=0)\n",
    "        self.nodes_by_rect[rect] = parent\n",
    "    \n",
    "        node = parent\n",
    "        while node.parent is not None:\n",
    "            node = node.parent\n",
    "            node.height = height\n",
    "            dx = 5 * node.depth\n",
    "            darkness = calc_darkness(node)\n",
    "            rect = node.draw_node(ax, maxdepth=node.depth, darkness=darkness, size=size, lw=lw, dx=dx, dy=0)\n",
    "            self.nodes_by_rect[rect] = node\n",
    "            \n",
    "Mbtree.draw_subtree = draw_subtree"
   ]
  },
  {
   "cell_type": "code",
   "execution_count": 24,
   "metadata": {},
   "outputs": [],
   "source": [
    "def update_gui(self):\n",
    "    self.ax.clear()\n",
    "    self.ax.set_xlim(-1, self.width - 1)\n",
    "    self.ax.set_ylim(0, self.height)   \n",
    "    self.ax.invert_yaxis()\n",
    "    self.ax.axis(\"off\")   \n",
    "    \n",
    "    if self.selectednode.depth <= 4:\n",
    "        maxdepth = self.selectednode.depth + 1\n",
    "    elif self.selectednode.depth == 5:\n",
    "        maxdepth = 7\n",
    "    else:\n",
    "        maxdepth = 9\n",
    "    centernode = self.selectednode\n",
    "    while centernode.depth > 6:\n",
    "        centernode = centernode.parent\n",
    "    self.mbtree.draw_subtree(centernode=centernode, selectednode=self.selectednode,\n",
    "                             show_bestmove=True, ax=self.ax, maxdepth=maxdepth)\n",
    "    \n",
    "    disabled = self.selectednode.parent is None\n",
    "    self.set_button_status(self.left_button, disabled=disabled)\n",
    "    disabled = self.selectednode.depth >= 6 or len(self.selectednode.children) == 0\n",
    "    self.set_button_status(self.right_button, disabled=disabled)\n",
    "    disabled = self.selectednode.parent is None or self.selectednode.parent.children.index(self.selectednode) == 0\n",
    "    self.set_button_status(self.up_button, disabled=disabled)\n",
    "    disabled = self.selectednode.parent is None or self.selectednode.parent.children[-1] is self.selectednode\n",
    "    self.set_button_status(self.down_button, disabled=disabled)\n",
    "    \n",
    "Mbtree_GUI.update_gui = update_gui"
   ]
  },
  {
   "cell_type": "code",
   "execution_count": 25,
   "metadata": {},
   "outputs": [
    {
     "data": {
      "application/vnd.jupyter.widget-view+json": {
       "model_id": "b8eea67e2b3c4acabc261a09d8da88ef",
       "version_major": 2,
       "version_minor": 0
      },
      "text/plain": [
       "VBox(children=(HBox(children=(Checkbox(value=False, description='乱数の種', indent=False, layout=Layout(width='100…"
      ]
     },
     "metadata": {},
     "output_type": "display_data"
    },
    {
     "data": {
      "application/vnd.jupyter.widget-view+json": {
       "model_id": "ad3478dad3ec40a88bc6e6a10140329a",
       "version_major": 2,
       "version_minor": 0
      },
      "text/plain": [
       "VBox(children=(Output(), HBox(children=(Label(value='', layout=Layout(width='50px')), Button(description='↑', …"
      ]
     },
     "metadata": {},
     "output_type": "display_data"
    }
   ],
   "source": [
    "gui_play()"
   ]
  },
  {
   "cell_type": "code",
   "execution_count": 26,
   "metadata": {},
   "outputs": [],
   "source": [
    "def draw_subtree(self, centernode=None, selectednode=None, anim_frame=None, isscore=False, ax=None, show_bestmove=False, size=0.25, lw=0.8, maxdepth=2):\n",
    "    def calc_darkness(node):\n",
    "        if show_bestmove:\n",
    "            if node.parent is None:\n",
    "                return 0\n",
    "            elif node.mb.last_move in node.parent.bestmoves:\n",
    "                return 0\n",
    "            else:\n",
    "                return 0.2\n",
    "            \n",
    "        if anim_frame is None:\n",
    "            return 0\n",
    "        index = node.score_index if isscore else node.id\n",
    "        return 0.5 if index > anim_frame else 0\n",
    "    \n",
    "    self.nodes_by_rect = {}\n",
    "\n",
    "    if centernode is None:\n",
    "        centernode = self.root\n",
    "    self.calc_node_height(N=centernode, maxdepth=maxdepth)\n",
    "    width = 5 * (maxdepth + 1)\n",
    "    height = centernode.height\n",
    "    parent = centernode.parent\n",
    "    if parent is not None:\n",
    "        height += (len(parent.children) - 1) * 4\n",
    "        parent.height = height\n",
    "    if ax is None:\n",
    "        fig, ax = plt.subplots(figsize=(width * size, height * size))\n",
    "        ax.set_xlim(0, width)\n",
    "        ax.set_ylim(0, height)   \n",
    "        ax.invert_yaxis()\n",
    "        ax.axis(\"off\")        \n",
    "    \n",
    "    nodelist = [centernode]\n",
    "    depth = centernode.depth\n",
    "    while len(nodelist) > 0 and depth <= maxdepth:        \n",
    "        dy = 0\n",
    "        if parent is not None:\n",
    "            dy = parent.children.index(centernode) * 4\n",
    "        childnodelist = []\n",
    "        for node in nodelist:\n",
    "            if node is None:\n",
    "                dy += 4\n",
    "                childnodelist.append(None)\n",
    "            else:\n",
    "                dx = 5 * node.depth\n",
    "                emphasize = node is selectednode\n",
    "                darkness = calc_darkness(node)\n",
    "                rect = node.draw_node(ax=ax, maxdepth=maxdepth, emphasize=emphasize, darkness=darkness, size=size, lw=lw, dx=dx, dy=dy)\n",
    "                self.nodes_by_rect[rect] = node\n",
    "                if show_bestmove and depth == maxdepth:\n",
    "                    bestnode = node\n",
    "                    while len(bestnode.bestmoves) > 0:\n",
    "                        bestmove = bestnode.bestmoves[0]\n",
    "                        bestnode = bestnode.children_by_move[bestmove]\n",
    "                        dx = 5 * bestnode.depth\n",
    "                        bestnode.height = 4\n",
    "                        rect = bestnode.draw_node(ax=ax, maxdepth=bestnode.depth, emphasize=emphasize, size=size, lw=lw, dx=dx, dy=dy)\n",
    "                        self.nodes_by_rect[rect] = bestnode\n",
    "                    \n",
    "                dy += node.height\n",
    "                if len(node.children) > 0:  \n",
    "                    childnodelist += node.children\n",
    "                else:\n",
    "                    childnodelist.append(None)\n",
    "        depth += 1\n",
    "        nodelist = childnodelist\n",
    "        \n",
    "    if parent is not None:\n",
    "        dy = 0\n",
    "        for sibling in parent.children:\n",
    "            if sibling is not centernode:\n",
    "                sibling.height = 4\n",
    "                dx = 5 * sibling.depth\n",
    "                darkness = calc_darkness(sibling)\n",
    "                rect = sibling.draw_node(ax, maxdepth=sibling.depth, size=size, darkness=darkness, lw=lw, dx=dx, dy=dy)\n",
    "                self.nodes_by_rect[rect] = sibling\n",
    "            dy += sibling.height\n",
    "        dx = 5 * parent.depth\n",
    "        darkness = calc_darkness(parent)\n",
    "        rect = parent.draw_node(ax, maxdepth=maxdepth, darkness=darkness, size=size, lw=lw, dx=dx, dy=0)\n",
    "        self.nodes_by_rect[rect] = parent\n",
    "    \n",
    "        node = parent\n",
    "        while node.parent is not None:\n",
    "            node = node.parent\n",
    "            node.height = height\n",
    "            dx = 5 * node.depth\n",
    "            darkness = calc_darkness(node)\n",
    "            rect = node.draw_node(ax, maxdepth=node.depth, darkness=darkness, size=size, lw=lw, dx=dx, dy=0)\n",
    "            self.nodes_by_rect[rect] = node\n",
    "            \n",
    "Mbtree.draw_subtree = draw_subtree"
   ]
  },
  {
   "cell_type": "code",
   "execution_count": 27,
   "metadata": {},
   "outputs": [
    {
     "name": "stderr",
     "output_type": "stream",
     "text": [
      "c:\\Users\\ys\\ai\\marubatsu\\117\\marubatsu.py:639: RuntimeWarning: More than 20 figures have been opened. Figures created through the pyplot interface (`matplotlib.pyplot.figure`) are retained until explicitly closed and may consume too much memory. (To control this warning, see the rcParam `figure.max_open_warning`). Consider using `matplotlib.pyplot.close()`.\n",
      "  self.fig, self.ax = plt.subplots(figsize=[self.size, self.size])\n"
     ]
    },
    {
     "data": {
      "application/vnd.jupyter.widget-view+json": {
       "model_id": "205522f230f24c1f9ba9024be2efb82a",
       "version_major": 2,
       "version_minor": 0
      },
      "text/plain": [
       "VBox(children=(HBox(children=(Checkbox(value=False, description='乱数の種', indent=False, layout=Layout(width='100…"
      ]
     },
     "metadata": {},
     "output_type": "display_data"
    },
    {
     "data": {
      "application/vnd.jupyter.widget-view+json": {
       "model_id": "8b2aeda366e94b5ba838c80171acc951",
       "version_major": 2,
       "version_minor": 0
      },
      "text/plain": [
       "VBox(children=(Output(), HBox(children=(Label(value='', layout=Layout(width='50px')), Button(description='↑', …"
      ]
     },
     "metadata": {},
     "output_type": "display_data"
    }
   ],
   "source": [
    "gui_play()"
   ]
  },
  {
   "cell_type": "code",
   "execution_count": 28,
   "metadata": {},
   "outputs": [],
   "source": [
    "def draw_subtree(self, centernode=None, selectednode=None, ax=None, anim_frame=None, isscore=False, show_bestmove=False, size=0.25, lw=0.8, maxdepth=2):\n",
    "    def calc_darkness(node):\n",
    "        if show_bestmove:\n",
    "            if node.parent is None:\n",
    "                return 0\n",
    "            elif node.mb.last_move in node.parent.bestmoves:\n",
    "                return 0\n",
    "            else:\n",
    "                return 0.2\n",
    "            \n",
    "        if anim_frame is None:\n",
    "            return 0\n",
    "        index = node.score_index if isscore else node.id\n",
    "        return 0.5 if index > anim_frame else 0\n",
    "    \n",
    "    self.nodes_by_rect = {}\n",
    "\n",
    "    if centernode is None:\n",
    "        centernode = self.root\n",
    "    self.calc_node_height(N=centernode, maxdepth=maxdepth)\n",
    "    width = 5 * (maxdepth + 1)\n",
    "    height = centernode.height\n",
    "    parent = centernode.parent\n",
    "    if parent is not None:\n",
    "        height += (len(parent.children) - 1) * 4\n",
    "        parent.height = height\n",
    "    if ax is None:\n",
    "        fig, ax = plt.subplots(figsize=(width * size, height * size))\n",
    "        ax.set_xlim(0, width)\n",
    "        ax.set_ylim(0, height)   \n",
    "        ax.invert_yaxis()\n",
    "        ax.axis(\"off\")        \n",
    "    \n",
    "    if show_bestmove:\n",
    "        bestx = 5 * maxdepth + 4\n",
    "        bestwidth = 50 - bestx\n",
    "        ax.add_artist(patches.Rectangle(xy=(bestx, 0), width=bestwidth,\n",
    "                                        height=height, fc=\"lightgray\"))\n",
    "    \n",
    "    nodelist = [centernode]\n",
    "    depth = centernode.depth\n",
    "    while len(nodelist) > 0 and depth <= maxdepth:        \n",
    "        dy = 0\n",
    "        if parent is not None:\n",
    "            dy = parent.children.index(centernode) * 4\n",
    "        childnodelist = []\n",
    "        for node in nodelist:\n",
    "            if node is None:\n",
    "                dy += 4\n",
    "                childnodelist.append(None)\n",
    "            else:\n",
    "                dx = 5 * node.depth\n",
    "                emphasize = node is selectednode\n",
    "                darkness = calc_darkness(node)\n",
    "                rect = node.draw_node(ax=ax, maxdepth=maxdepth, emphasize=emphasize, darkness=darkness, size=size, lw=lw, dx=dx, dy=dy)\n",
    "                self.nodes_by_rect[rect] = node\n",
    "                if show_bestmove and depth == maxdepth:\n",
    "                    bestnode = node\n",
    "                    while len(bestnode.bestmoves) > 0:\n",
    "                        bestmove = bestnode.bestmoves[0]\n",
    "                        bestnode = bestnode.children_by_move[bestmove]\n",
    "                        dx = 5 * bestnode.depth\n",
    "                        bestnode.height = 4\n",
    "                        rect = bestnode.draw_node(ax=ax, maxdepth=bestnode.depth, emphasize=emphasize, size=size, lw=lw, dx=dx, dy=dy)\n",
    "                        self.nodes_by_rect[rect] = bestnode                                          \n",
    "                    \n",
    "                dy += node.height\n",
    "                if len(node.children) > 0:  \n",
    "                    childnodelist += node.children\n",
    "                else:\n",
    "                    childnodelist.append(None)\n",
    "        depth += 1\n",
    "        nodelist = childnodelist\n",
    "        \n",
    "    if parent is not None:\n",
    "        dy = 0\n",
    "        for sibling in parent.children:\n",
    "            if sibling is not centernode:\n",
    "                sibling.height = 4\n",
    "                dx = 5 * sibling.depth\n",
    "                darkness = calc_darkness(sibling)\n",
    "                rect = sibling.draw_node(ax, maxdepth=sibling.depth, size=size, darkness=darkness, lw=lw, dx=dx, dy=dy)\n",
    "                self.nodes_by_rect[rect] = sibling\n",
    "            dy += sibling.height\n",
    "        dx = 5 * parent.depth\n",
    "        darkness = calc_darkness(parent)\n",
    "        rect = parent.draw_node(ax, maxdepth=maxdepth, darkness=darkness, size=size, lw=lw, dx=dx, dy=0)\n",
    "        self.nodes_by_rect[rect] = parent\n",
    "    \n",
    "        node = parent\n",
    "        while node.parent is not None:\n",
    "            node = node.parent\n",
    "            node.height = height\n",
    "            dx = 5 * node.depth\n",
    "            darkness = calc_darkness(node)\n",
    "            rect = node.draw_node(ax, maxdepth=node.depth, darkness=darkness, size=size, lw=lw, dx=dx, dy=0)\n",
    "            self.nodes_by_rect[rect] = node\n",
    "            \n",
    "Mbtree.draw_subtree = draw_subtree"
   ]
  },
  {
   "cell_type": "code",
   "execution_count": 29,
   "metadata": {},
   "outputs": [
    {
     "data": {
      "application/vnd.jupyter.widget-view+json": {
       "model_id": "4b31a9d5ee124b518ca6fe6f9583a7e1",
       "version_major": 2,
       "version_minor": 0
      },
      "text/plain": [
       "VBox(children=(HBox(children=(Checkbox(value=False, description='乱数の種', indent=False, layout=Layout(width='100…"
      ]
     },
     "metadata": {},
     "output_type": "display_data"
    },
    {
     "data": {
      "application/vnd.jupyter.widget-view+json": {
       "model_id": "ba04611807ac43be9c824a5fa46f662d",
       "version_major": 2,
       "version_minor": 0
      },
      "text/plain": [
       "VBox(children=(Output(), HBox(children=(Label(value='', layout=Layout(width='50px')), Button(description='↑', …"
      ]
     },
     "metadata": {},
     "output_type": "display_data"
    }
   ],
   "source": [
    "gui_play()"
   ]
  },
  {
   "cell_type": "code",
   "execution_count": 31,
   "metadata": {},
   "outputs": [],
   "source": [
    "import ipywidgets as widgets \n",
    "\n",
    "def create_widgets(self):\n",
    "    # 乱数の種の Checkbox と IntText を作成する\n",
    "    self.checkbox = widgets.Checkbox(value=self.seed is not None, description=\"乱数の種\",\n",
    "                                    indent=False, layout=widgets.Layout(width=\"100px\"))\n",
    "    self.inttext = widgets.IntText(value=0 if self.seed is None else self.seed,\n",
    "                                layout=widgets.Layout(width=\"80px\"))   \n",
    "\n",
    "    # 読み書き、ヘルプのボタンを作成する\n",
    "    self.load_button = self.create_button(\"開く\", 50)\n",
    "    self.save_button = self.create_button(\"保存\", 50)\n",
    "    self.show_tree_button = self.create_button(\"木\", 34)\n",
    "    self.reset_tree_button = self.create_button(\"リ\", 34)\n",
    "    self.help_button = self.create_button(\"？\", 34)\n",
    "    \n",
    "    # AI を選択する Dropdown を作成する\n",
    "    self.create_dropdown()\n",
    "    # 変更、リセット、待ったボタンを作成する\n",
    "    self.change_button = self.create_button(\"変更\", 50)\n",
    "    self.reset_button = self.create_button(\"リセット\", 80)\n",
    "    self.undo_button = self.create_button(\"待った\", 60)    \n",
    "    \n",
    "    # リプレイのボタンとスライダーを作成する\n",
    "    self.first_button = self.create_button(\"<<\", 50)\n",
    "    self.prev_button = self.create_button(\"<\", 50)\n",
    "    self.next_button = self.create_button(\">\", 50)\n",
    "    self.last_button = self.create_button(\">>\", 50)     \n",
    "    self.slider = widgets.IntSlider(layout=widgets.Layout(width=\"200px\"))\n",
    "    # ゲーム盤の画像を表す figure を作成する\n",
    "    self.create_figure()\n",
    "\n",
    "    # print による文字列を表示する Output を作成する\n",
    "    self.output = widgets.Output()  \n",
    "    \n",
    "    # ヘルプを表示する Output を作成し、表示の設定を行う\n",
    "    self.help = widgets.Output()\n",
    "    self.print_helpmessage()\n",
    "    self.help.layout.display = \"none\"\n",
    "    \n",
    "Marubatsu_GUI.create_widgets = create_widgets"
   ]
  },
  {
   "cell_type": "code",
   "execution_count": 32,
   "metadata": {},
   "outputs": [],
   "source": [
    "def print_helpmessage(self):\n",
    "    with self.help:\n",
    "        print(\"\"\"操作説明\n",
    "\n",
    "    マスの上でクリックすることで着手を行う。\n",
    "    下記の GUI で操作を行うことができる。\n",
    "    ()が記載されているものは、キー入力で同じ操作を行うことができることを意味する。\n",
    "    なお、キー入力の操作は、ゲーム盤をクリックして選択状態にする必要がある。\n",
    "\n",
    "    乱数の種\\tチェックボックスを ON にすると、右のテキストボックスの乱数の種が適用される\n",
    "    開く(-,L)\\tファイルから対戦データを読み込む\n",
    "    保存(+,S)\\tファイルに対戦データを保存する\n",
    "    木\\t下部の GUI の部分木を表示の有無を切り替える\n",
    "    リ\\r株の GUI の部分木の中心となるノードを、現在の局面にリセットする\n",
    "    ？(*,H)\\t\\tこの操作説明を表示する\n",
    "    手番の担当\\tメニューからそれぞれの手番の担当を選択する\n",
    "    \\t\\tメニューから選択しただけでは担当は変更されず、変更またはリセットボタンによって担当が変更される\n",
    "    変更\\t\\tゲームの途中で手番の担当を変更する\n",
    "    リセット\\t手番の担当を変更してゲームをリセットする\n",
    "    待った(0)\\t1つ前の自分の着手をキャンセルする\n",
    "    <<(↑)\\t\\t最初の局面に移動する\n",
    "    <(←)\\t\\t1手前の局面に移動する\n",
    "    >(→)\\t\\t1手後の局面に移動する\n",
    "    >>(↓)\\t\\t最後の着手が行われた局面に移動する\n",
    "    スライダー\\t現在の手数を表す。ドラッグすることで任意の手数へ移動する\n",
    "\n",
    "    手数を移動した場合に、最後の着手が行われた局面でなければ、リプレイモードになる。\n",
    "    リプレイモード中に着手を行うと、リプレイモードが解除され、その着手が最後の着手になる。\"\"\")\n",
    "        \n",
    "Marubatsu_GUI.print_helpmessage = print_helpmessage"
   ]
  },
  {
   "cell_type": "code",
   "execution_count": 33,
   "metadata": {},
   "outputs": [],
   "source": [
    "def display_widgets(self):\n",
    "    # 乱数の種のウィジェット、読み書き、ヘルプのボタンを横に配置した HBox を作成する\n",
    "    hbox1 = widgets.HBox([self.checkbox, self.inttext, self.load_button, self.save_button,\n",
    "                        self.show_tree_button, self.reset_tree_button, self.help_button])\n",
    "    # 〇 と × の dropdown とボタンを横に配置した HBox を作成する\n",
    "    hbox2 = widgets.HBox([self.dropdown_list[0], self.dropdown_list[1], self.change_button, self.reset_button, self.undo_button])\n",
    "    # リプレイ機能のボタンを横に配置した HBox を作成する\n",
    "    hbox3 = widgets.HBox([self.first_button, self.prev_button, self.next_button, self.last_button, self.slider]) \n",
    "    # hbox1 ~ hbox3、Figure、Output を縦に配置した VBox を作成し、表示する\n",
    "    display(widgets.VBox([hbox1, hbox2, hbox3, self.fig.canvas, self.output, self.help]))\n",
    "    \n",
    "Marubatsu_GUI.display_widgets = display_widgets "
   ]
  },
  {
   "cell_type": "code",
   "execution_count": 34,
   "metadata": {},
   "outputs": [],
   "source": [
    "import math\n",
    "\n",
    "def create_event_handler(self):\n",
    "    # 乱数の種のチェックボックスのイベントハンドラを定義する\n",
    "    def on_checkbox_changed(changed):\n",
    "        self.update_widgets_status()\n",
    "        \n",
    "    self.checkbox.observe(on_checkbox_changed, names=\"value\")\n",
    "\n",
    "    # 開く、保存ボタンのイベントハンドラを定義する\n",
    "    def on_load_button_clicked(b=None):\n",
    "        path = filedialog.askopenfilename(filetypes=[(\"〇×ゲーム\", \"*.mbsav\")],\n",
    "                                        initialdir=\"save\")\n",
    "        if path != \"\":\n",
    "            with open(path, \"rb\") as f:\n",
    "                data = pickle.load(f)\n",
    "                self.mb.records = data[\"records\"]\n",
    "                self.mb.ai = data[\"ai\"]\n",
    "                self.params = data[\"params\"] if \"params\" in data else [ {}, {} ]\n",
    "                if \"names\" in data:\n",
    "                    names = data[\"names\"]\n",
    "                else:\n",
    "                    names = [ \"人間\" if mb.ai[i] is None else mb.ai[i].__name__ for i in range(2)]                       \n",
    "                options = self.dropdown_list[0].options.copy()\n",
    "                for i in range(2):\n",
    "                    value = (self.mb.ai[i], self.params[i]) \n",
    "                    if not value in options.values():\n",
    "                        options[names[i]] = value\n",
    "                for i in range(2):\n",
    "                    self.dropdown_list[i].options = options\n",
    "                    self.dropdown_list[i].value = (self.mb.ai[i], self.params[i])            \n",
    "                change_step(data[\"move_count\"])\n",
    "                if data[\"seed\"] is not None:                   \n",
    "                    self.checkbox.value = True\n",
    "                    self.inttext.value = data[\"seed\"]\n",
    "                else:\n",
    "                    self.checkbox.value = False\n",
    "                    \n",
    "    def on_save_button_clicked(b=None):\n",
    "        names = [ self.dropdown_list[i].label for i in range(2) ]     \n",
    "        timestr = datetime.now().strftime(\"%Y年%m月%d日 %H時%M分%S秒\")\n",
    "        fname = f\"{names[0]} VS {names[1]} {timestr}\"\n",
    "        path = filedialog.asksaveasfilename(filetypes=[(\"〇×ゲーム\", \"*.mbsav\")],\n",
    "                                            initialdir=\"save\", initialfile=fname,\n",
    "                                            defaultextension=\"mbsav\")\n",
    "        if path != \"\":\n",
    "            with open(path, \"wb\") as f:\n",
    "                data = {\n",
    "                    \"records\": self.mb.records,\n",
    "                    \"move_count\": self.mb.move_count,\n",
    "                    \"ai\": self.mb.ai,\n",
    "                    \"params\": self.params,\n",
    "                    \"names\": names,\n",
    "                    \"seed\": self.inttext.value if self.checkbox.value else None\n",
    "                }\n",
    "                pickle.dump(data, f)\n",
    "                \n",
    "    def on_show_tree_button_clicked(b=None):\n",
    "        self.mbtree_gui.vbox.layout.display = \"none\" if self.mbtree_gui.vbox.layout.display is None else None\n",
    "        \n",
    "    def on_reset_tree_button_clicked(b=None):\n",
    "        self.update_gui()\n",
    "                \n",
    "    def on_help_button_clicked(b=None):\n",
    "        self.help.layout.display = \"none\" if self.help.layout.display is None else None\n",
    "    \n",
    "    self.load_button.on_click(on_load_button_clicked)\n",
    "    self.save_button.on_click(on_save_button_clicked)\n",
    "    self.show_tree_button.on_click(on_show_tree_button_clicked)\n",
    "    self.reset_tree_button.on_click(on_reset_tree_button_clicked)\n",
    "    self.help_button.on_click(on_help_button_clicked)\n",
    "    \n",
    "    # 変更ボタンのイベントハンドラを定義する\n",
    "    def on_change_button_clicked(b):\n",
    "        for i in range(2):\n",
    "            self.mb.ai[i], self.params[i] = self.dropdown_list[i].value\n",
    "        self.mb.play_loop(self, self.params)\n",
    "\n",
    "    # リセットボタンのイベントハンドラを定義する\n",
    "    def on_reset_button_clicked(b=None):\n",
    "        # 乱数の種のチェックボックスが ON の場合に、乱数の種の処理を行う\n",
    "        if self.checkbox.value:\n",
    "            random.seed(self.inttext.value)\n",
    "        self.mb.restart()\n",
    "        self.output.clear_output()\n",
    "        on_change_button_clicked(b)\n",
    "\n",
    "    # 待ったボタンのイベントハンドラを定義する\n",
    "    def on_undo_button_clicked(b=None):\n",
    "        if self.mb.move_count >= 2 and self.mb.move_count == len(self.mb.records) - 1:\n",
    "            self.mb.move_count -= 2\n",
    "            self.mb.records = self.mb.records[0:self.mb.move_count+1]\n",
    "            self.mb.change_step(self.mb.move_count)\n",
    "            self.update_gui()\n",
    "        \n",
    "    # イベントハンドラをボタンに結びつける\n",
    "    self.change_button.on_click(on_change_button_clicked)\n",
    "    self.reset_button.on_click(on_reset_button_clicked)   \n",
    "    self.undo_button.on_click(on_undo_button_clicked)   \n",
    "    \n",
    "    # step 手目の局面に移動する\n",
    "    def change_step(step):\n",
    "        self.mb.change_step(step)\n",
    "        # 描画を更新する\n",
    "        self.update_gui()        \n",
    "\n",
    "    def on_first_button_clicked(b=None):\n",
    "        change_step(0)\n",
    "\n",
    "    def on_prev_button_clicked(b=None):\n",
    "        change_step(self.mb.move_count - 1)\n",
    "\n",
    "    def on_next_button_clicked(b=None):\n",
    "        change_step(self.mb.move_count + 1)\n",
    "        \n",
    "    def on_last_button_clicked(b=None):\n",
    "        change_step(len(self.mb.records) - 1)\n",
    "\n",
    "    def on_slider_changed(changed):\n",
    "        if self.mb.move_count != changed[\"new\"]:\n",
    "            change_step(changed[\"new\"])\n",
    "        \n",
    "    self.first_button.on_click(on_first_button_clicked)\n",
    "    self.prev_button.on_click(on_prev_button_clicked)\n",
    "    self.next_button.on_click(on_next_button_clicked)\n",
    "    self.last_button.on_click(on_last_button_clicked)\n",
    "    self.slider.observe(on_slider_changed, names=\"value\")\n",
    "    \n",
    "    # ゲーム盤の上でマウスを押した場合のイベントハンドラ\n",
    "    def on_mouse_down(event):\n",
    "        # Axes の上でマウスを押していた場合のみ処理を行う\n",
    "        if event.inaxes and self.mb.status == Marubatsu.PLAYING:\n",
    "            x = math.floor(event.xdata)\n",
    "            y = math.floor(event.ydata)\n",
    "            with self.output:\n",
    "                self.mb.move(x, y)                \n",
    "            # 次の手番の処理を行うメソッドを呼び出す\n",
    "                self.mb.play_loop(self, self.params)\n",
    "\n",
    "    # ゲーム盤を選択した状態でキーを押した場合のイベントハンドラ\n",
    "    def on_key_press(event):\n",
    "        keymap = {\n",
    "            \"up\": on_first_button_clicked,\n",
    "            \"left\": on_prev_button_clicked,\n",
    "            \"right\": on_next_button_clicked,\n",
    "            \"down\": on_last_button_clicked,\n",
    "            \"0\": on_undo_button_clicked,\n",
    "            \"enter\": on_reset_button_clicked,            \n",
    "            \"-\": on_load_button_clicked,            \n",
    "            \"l\": on_load_button_clicked,            \n",
    "            \"+\": on_save_button_clicked,            \n",
    "            \"s\": on_save_button_clicked,            \n",
    "            \"*\": on_help_button_clicked,            \n",
    "            \"h\": on_help_button_clicked,            \n",
    "        }\n",
    "        if event.key in keymap:\n",
    "            keymap[event.key]()\n",
    "        else:\n",
    "            try:\n",
    "                num = int(event.key) - 1\n",
    "                event.inaxes = True\n",
    "                event.xdata = num % 3\n",
    "                event.ydata = 2 - (num // 3)\n",
    "                on_mouse_down(event)\n",
    "            except:\n",
    "                pass\n",
    "            \n",
    "    # fig の画像イベントハンドラを結び付ける\n",
    "    self.fig.canvas.mpl_connect(\"button_press_event\", on_mouse_down)     \n",
    "    self.fig.canvas.mpl_connect(\"key_press_event\", on_key_press)             \n",
    "        \n",
    "Marubatsu_GUI.create_event_handler = create_event_handler     "
   ]
  },
  {
   "cell_type": "code",
   "execution_count": 35,
   "metadata": {},
   "outputs": [
    {
     "data": {
      "application/vnd.jupyter.widget-view+json": {
       "model_id": "f509700998c7430a8921a7aef18e3ce3",
       "version_major": 2,
       "version_minor": 0
      },
      "text/plain": [
       "VBox(children=(HBox(children=(Checkbox(value=False, description='乱数の種', indent=False, layout=Layout(width='100…"
      ]
     },
     "metadata": {},
     "output_type": "display_data"
    },
    {
     "data": {
      "application/vnd.jupyter.widget-view+json": {
       "model_id": "7f0c4906cdfc4629be65602ddbdb0c8d",
       "version_major": 2,
       "version_minor": 0
      },
      "text/plain": [
       "VBox(children=(Output(), HBox(children=(Label(value='', layout=Layout(width='50px')), Button(description='↑', …"
      ]
     },
     "metadata": {},
     "output_type": "display_data"
    }
   ],
   "source": [
    "gui_play()"
   ]
  },
  {
   "cell_type": "code",
   "execution_count": 38,
   "metadata": {},
   "outputs": [],
   "source": [
    "def create_widgets(self):\n",
    "    self.output = widgets.Output()  \n",
    "    self.print_helpmessage()\n",
    "    self.output.layout.display = \"none\"\n",
    "    self.left_button = self.create_button(\"←\", 50)\n",
    "    self.up_button = self.create_button(\"↑\", 50)\n",
    "    self.right_button = self.create_button(\"→\", 50)\n",
    "    self.down_button = self.create_button(\"↓\", 50)\n",
    "    self.help_button = self.create_button(\"？\", 50)\n",
    "    self.label = widgets.Label(value=\"\", layout=widgets.Layout(width=f\"50px\"))\n",
    "    \n",
    "    with plt.ioff():\n",
    "        self.fig = plt.figure(figsize=[self.width * self.size,\n",
    "                                        self.height * self.size])\n",
    "        self.ax = self.fig.add_axes([0, 0, 1, 1])\n",
    "    self.fig.canvas.toolbar_visible = False\n",
    "    self.fig.canvas.header_visible = False\n",
    "    self.fig.canvas.footer_visible = False\n",
    "    self.fig.canvas.resizable = False   \n",
    "    \n",
    "Mbtree_GUI.create_widgets = create_widgets\n",
    "\n",
    "def print_helpmessage(self):\n",
    "    with self.output:\n",
    "        print(\"\"\"操作説明\n",
    "\n",
    "    下記のキーとボタンで中心となるノードを移動できる。\n",
    "    ←、0 キー：親ノードへ移動\n",
    "    ↑：一つ前の兄弟ノードへ移動\n",
    "    ↓：一つ後の兄弟ノードへ移動\n",
    "    →：先頭の子ノードへ移動\n",
    "\n",
    "    テンキーで、対応するマスに着手が行われた子ノードへ移動する\n",
    "    ノードの上でマウスを押すことでそのノードへ移動する\n",
    "    背景が灰色になっている部分のノードは、最善手を着手し続けた場合のノードを表す\n",
    "    \"\"\")\n",
    "        \n",
    "Mbtree_GUI.print_helpmessage = print_helpmessage\n",
    "\n",
    "def create_event_handler(self):   \n",
    "    def on_left_button_clicked(b=None):\n",
    "        if self.selectednode.parent is not None:\n",
    "            self.selectednode = self.selectednode.parent\n",
    "            self.update_gui()\n",
    "            \n",
    "    def on_right_button_clicked(b=None):\n",
    "        if len(self.selectednode.children) > 0:\n",
    "            self.selectednode = self.selectednode.children[0]\n",
    "            self.update_gui()\n",
    "\n",
    "    def on_up_button_clicked(b=None):\n",
    "        if self.selectednode.parent is not None:\n",
    "            index = self.selectednode.parent.children.index(self.selectednode)\n",
    "            if index > 0:\n",
    "                self.selectednode = self.selectednode.parent.children[index - 1]\n",
    "                self.update_gui()\n",
    "            \n",
    "    def on_down_button_clicked(b=None):\n",
    "        if self.selectednode.parent is not None:\n",
    "            index = self.selectednode.parent.children.index(self.selectednode)\n",
    "            if self.selectednode.parent.children[-1] is not self.selectednode:\n",
    "                self.selectednode = self.selectednode.parent.children[index + 1]\n",
    "                self.update_gui()            \n",
    "                \n",
    "    def on_help_button_clicked(b=None):\n",
    "        self.output.layout.display = \"none\" if self.output.layout.display is None else None\n",
    "                        \n",
    "    self.left_button.on_click(on_left_button_clicked)\n",
    "    self.right_button.on_click(on_right_button_clicked)\n",
    "    self.up_button.on_click(on_up_button_clicked)\n",
    "    self.down_button.on_click(on_down_button_clicked)\n",
    "    self.help_button.on_click(on_help_button_clicked)\n",
    "\n",
    "    def on_key_press(event):\n",
    "        keymap = {\n",
    "            \"left\": on_left_button_clicked,\n",
    "            \"0\": on_left_button_clicked,\n",
    "            \"right\": on_right_button_clicked,\n",
    "            \"up\": on_up_button_clicked,\n",
    "            \"down\": on_down_button_clicked,\n",
    "        }\n",
    "        if event.key in keymap:\n",
    "            keymap[event.key]()\n",
    "        else:\n",
    "            try:\n",
    "                num = int(event.key) - 1\n",
    "                x = num % 3\n",
    "                y = 2 - (num // 3)\n",
    "                move = (x, y)\n",
    "                if move in self.selectednode.children_by_move:\n",
    "                    self.selectednode = self.selectednode.children_by_move[move]\n",
    "                    self.update_gui()\n",
    "            except:\n",
    "                pass            \n",
    "            \n",
    "    def on_mouse_down(event):\n",
    "        for rect, node in self.mbtree.nodes_by_rect.items():\n",
    "            if rect.is_inside(event.xdata, event.ydata):\n",
    "                self.selectednode = node\n",
    "                self.update_gui()\n",
    "                break               \n",
    "            \n",
    "    # fig の画像イベントハンドラを結び付ける\n",
    "    self.fig.canvas.mpl_connect(\"key_press_event\", on_key_press)\n",
    "    self.fig.canvas.mpl_connect(\"button_press_event\", on_mouse_down)  \n",
    "\n",
    "Mbtree_GUI.create_event_handler = create_event_handler"
   ]
  },
  {
   "cell_type": "code",
   "execution_count": 39,
   "metadata": {},
   "outputs": [
    {
     "data": {
      "application/vnd.jupyter.widget-view+json": {
       "model_id": "76cead2a130f4203b925f3e8222c74a8",
       "version_major": 2,
       "version_minor": 0
      },
      "text/plain": [
       "VBox(children=(HBox(children=(Checkbox(value=False, description='乱数の種', indent=False, layout=Layout(width='100…"
      ]
     },
     "metadata": {},
     "output_type": "display_data"
    },
    {
     "data": {
      "application/vnd.jupyter.widget-view+json": {
       "model_id": "8e315171a13344cdb13a404640ad772b",
       "version_major": 2,
       "version_minor": 0
      },
      "text/plain": [
       "VBox(children=(Output(layout=Layout(display='none')), HBox(children=(Label(value='', layout=Layout(width='50px…"
      ]
     },
     "metadata": {},
     "output_type": "display_data"
    }
   ],
   "source": [
    "gui_play()"
   ]
  }
 ],
 "metadata": {
  "kernelspec": {
   "display_name": "marubatsu",
   "language": "python",
   "name": "python3"
  },
  "language_info": {
   "codemirror_mode": {
    "name": "ipython",
    "version": 3
   },
   "file_extension": ".py",
   "mimetype": "text/x-python",
   "name": "python",
   "nbconvert_exporter": "python",
   "pygments_lexer": "ipython3",
   "version": "3.11.4"
  }
 },
 "nbformat": 4,
 "nbformat_minor": 2
}
