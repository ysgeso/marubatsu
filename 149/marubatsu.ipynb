{
 "cells": [
  {
   "cell_type": "code",
   "execution_count": 1,
   "metadata": {},
   "outputs": [],
   "source": [
    "from tree import Mbtree\n",
    "\n",
    "mbtree = Mbtree(algo=\"df\")\n",
    "mbtree.calc_score_by_ab(mbtree.root)\n",
    "\n",
    "mbtree_sv = Mbtree(algo=\"df\", shortest_victory=True)\n",
    "mbtree_sv.calc_score_by_ab(mbtree_sv.root)"
   ]
  },
  {
   "cell_type": "code",
   "execution_count": 2,
   "metadata": {},
   "outputs": [
    {
     "name": "stdout",
     "output_type": "stream",
     "text": [
      "save completed.\n",
      "save completed.\n"
     ]
    }
   ],
   "source": [
    "mbtree.save(\"../data/abtree_root\")\n",
    "mbtree_sv.save(\"../data/abtree_sv_root\")"
   ]
  },
  {
   "cell_type": "code",
   "execution_count": 3,
   "metadata": {},
   "outputs": [],
   "source": [
    "mbtree = Mbtree.load(\"../data/abtree_root\")"
   ]
  },
  {
   "cell_type": "code",
   "execution_count": 4,
   "metadata": {},
   "outputs": [
    {
     "data": {
      "application/vnd.jupyter.widget-view+json": {
       "model_id": "f4c6ecc08e674291a57e397fb3ab54b7",
       "version_major": 2,
       "version_minor": 0
      },
      "text/plain": [
       "VBox(children=(HBox(children=(Play(value=0, interval=500, max=73185), Button(description='<', layout=Layout(wi…"
      ]
     },
     "metadata": {},
     "output_type": "display_data"
    },
    {
     "data": {
      "text/plain": [
       "<tree.Mbtree_Anim at 0x1d8e7fee910>"
      ]
     },
     "execution_count": 4,
     "metadata": {},
     "output_type": "execute_result"
    }
   ],
   "source": [
    "from tree import Mbtree_Anim\n",
    "\n",
    "Mbtree_Anim(mbtree, isscore=True)"
   ]
  }
 ],
 "metadata": {
  "kernelspec": {
   "display_name": "marubatsu",
   "language": "python",
   "name": "python3"
  },
  "language_info": {
   "codemirror_mode": {
    "name": "ipython",
    "version": 3
   },
   "file_extension": ".py",
   "mimetype": "text/x-python",
   "name": "python",
   "nbconvert_exporter": "python",
   "pygments_lexer": "ipython3",
   "version": "3.11.4"
  }
 },
 "nbformat": 4,
 "nbformat_minor": 2
}
