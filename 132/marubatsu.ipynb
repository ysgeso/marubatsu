{
 "cells": [
  {
   "cell_type": "code",
   "execution_count": 1,
   "metadata": {},
   "outputs": [
    {
     "ename": "TypeError",
     "evalue": "ai2s() takes 1 positional argument but 2 were given",
     "output_type": "error",
     "traceback": [
      "\u001b[1;31m---------------------------------------------------------------------------\u001b[0m",
      "\u001b[1;31mTypeError\u001b[0m                                 Traceback (most recent call last)",
      "Cell \u001b[1;32mIn[1], line 5\u001b[0m\n\u001b[0;32m      2\u001b[0m \u001b[38;5;28;01mfrom\u001b[39;00m \u001b[38;5;21;01mmarubatsu\u001b[39;00m \u001b[38;5;28;01mimport\u001b[39;00m Marubatsu\n\u001b[0;32m      4\u001b[0m mb \u001b[38;5;241m=\u001b[39m Marubatsu()\n\u001b[1;32m----> 5\u001b[0m \u001b[38;5;28mprint\u001b[39m(ai2s(mb))\n",
      "File \u001b[1;32mc:\\Users\\ys\\ai\\marubatsu\\132\\ai.py:169\u001b[0m, in \u001b[0;36mai_by_score.<locals>.wrapper\u001b[1;34m(mb_orig, debug, rand, analyze, *args, **kwargs)\u001b[0m\n\u001b[0;32m    166\u001b[0m mb\u001b[38;5;241m.\u001b[39mmove(x, y)\n\u001b[0;32m    167\u001b[0m dprint(debug, mb)\n\u001b[1;32m--> 169\u001b[0m score \u001b[38;5;241m=\u001b[39m eval_func(mb, debug, \u001b[38;5;241m*\u001b[39margs, \u001b[38;5;241m*\u001b[39m\u001b[38;5;241m*\u001b[39mkwargs)\n\u001b[0;32m    170\u001b[0m dprint(debug, \u001b[38;5;124m\"\u001b[39m\u001b[38;5;124mscore\u001b[39m\u001b[38;5;124m\"\u001b[39m, score, \u001b[38;5;124m\"\u001b[39m\u001b[38;5;124mbest score\u001b[39m\u001b[38;5;124m\"\u001b[39m, best_score)\n\u001b[0;32m    171\u001b[0m \u001b[38;5;28;01mif\u001b[39;00m analyze:\n",
      "\u001b[1;31mTypeError\u001b[0m: ai2s() takes 1 positional argument but 2 were given"
     ]
    }
   ],
   "source": [
    "from ai import ai2s\n",
    "from marubatsu import Marubatsu\n",
    "\n",
    "mb = Marubatsu()\n",
    "print(ai2s(mb))"
   ]
  },
  {
   "cell_type": "code",
   "execution_count": 2,
   "metadata": {},
   "outputs": [],
   "source": [
    "from ai import ai_by_score\n",
    "\n",
    "@ai_by_score\n",
    "def ai2s(mb, debug=False):\n",
    "    return 0"
   ]
  },
  {
   "cell_type": "code",
   "execution_count": 3,
   "metadata": {},
   "outputs": [
    {
     "name": "stdout",
     "output_type": "stream",
     "text": [
      "(2, 1)\n"
     ]
    }
   ],
   "source": [
    "print(ai2s(mb))"
   ]
  },
  {
   "cell_type": "code",
   "execution_count": 4,
   "metadata": {},
   "outputs": [],
   "source": [
    "@ai_by_score\n",
    "def ai2s_2(mb, *args, **kwargs):\n",
    "    return 0"
   ]
  },
  {
   "cell_type": "code",
   "execution_count": 5,
   "metadata": {},
   "outputs": [
    {
     "data": {
      "text/plain": [
       "(1, 1)"
      ]
     },
     "execution_count": 5,
     "metadata": {},
     "output_type": "execute_result"
    }
   ],
   "source": [
    "ai2s_2(mb, False, 1, 2, a=3, b=4, c=5)"
   ]
  },
  {
   "cell_type": "code",
   "execution_count": 6,
   "metadata": {},
   "outputs": [
    {
     "ename": "TypeError",
     "evalue": "ai2s() got an unexpected keyword argument 'debig'",
     "output_type": "error",
     "traceback": [
      "\u001b[1;31m---------------------------------------------------------------------------\u001b[0m",
      "\u001b[1;31mTypeError\u001b[0m                                 Traceback (most recent call last)",
      "Cell \u001b[1;32mIn[6], line 1\u001b[0m\n\u001b[1;32m----> 1\u001b[0m \u001b[38;5;28mprint\u001b[39m(ai2s(mb, debig\u001b[38;5;241m=\u001b[39m\u001b[38;5;28;01mTrue\u001b[39;00m))\n",
      "File \u001b[1;32mc:\\Users\\ys\\ai\\marubatsu\\132\\ai.py:169\u001b[0m, in \u001b[0;36mai_by_score.<locals>.wrapper\u001b[1;34m(mb_orig, debug, rand, analyze, *args, **kwargs)\u001b[0m\n\u001b[0;32m    166\u001b[0m mb\u001b[38;5;241m.\u001b[39mmove(x, y)\n\u001b[0;32m    167\u001b[0m dprint(debug, mb)\n\u001b[1;32m--> 169\u001b[0m score \u001b[38;5;241m=\u001b[39m eval_func(mb, debug, \u001b[38;5;241m*\u001b[39margs, \u001b[38;5;241m*\u001b[39m\u001b[38;5;241m*\u001b[39mkwargs)\n\u001b[0;32m    170\u001b[0m dprint(debug, \u001b[38;5;124m\"\u001b[39m\u001b[38;5;124mscore\u001b[39m\u001b[38;5;124m\"\u001b[39m, score, \u001b[38;5;124m\"\u001b[39m\u001b[38;5;124mbest score\u001b[39m\u001b[38;5;124m\"\u001b[39m, best_score)\n\u001b[0;32m    171\u001b[0m \u001b[38;5;28;01mif\u001b[39;00m analyze:\n",
      "\u001b[1;31mTypeError\u001b[0m: ai2s() got an unexpected keyword argument 'debig'"
     ]
    }
   ],
   "source": [
    "print(ai2s(mb, debig=True))"
   ]
  },
  {
   "cell_type": "code",
   "execution_count": 7,
   "metadata": {},
   "outputs": [
    {
     "name": "stdout",
     "output_type": "stream",
     "text": [
      "(1, 2)\n"
     ]
    }
   ],
   "source": [
    "print(ai2s_2(mb, debig=True))"
   ]
  },
  {
   "cell_type": "code",
   "execution_count": 8,
   "metadata": {},
   "outputs": [],
   "source": [
    "@ai_by_score\n",
    "def ai1s(mb, debug=False):\n",
    "    if mb.last_move is None:\n",
    "        return 0\n",
    "    else:\n",
    "        x, y = mb.last_move\n",
    "        return 8 - (x + y * 3)"
   ]
  },
  {
   "cell_type": "code",
   "execution_count": 9,
   "metadata": {},
   "outputs": [
    {
     "name": "stdout",
     "output_type": "stream",
     "text": [
      "(0, 0)\n"
     ]
    }
   ],
   "source": [
    "print(ai1s(mb))"
   ]
  },
  {
   "cell_type": "code",
   "execution_count": 10,
   "metadata": {},
   "outputs": [
    {
     "name": "stdout",
     "output_type": "stream",
     "text": [
      "{'candidate': [(0, 0)],\n",
      " 'score_by_move': {(0, 0): 8,\n",
      "                   (0, 1): 5,\n",
      "                   (0, 2): 2,\n",
      "                   (1, 0): 7,\n",
      "                   (1, 1): 4,\n",
      "                   (1, 2): 1,\n",
      "                   (2, 0): 6,\n",
      "                   (2, 1): 3,\n",
      "                   (2, 2): 0}}\n"
     ]
    }
   ],
   "source": [
    "from pprint import pprint\n",
    "\n",
    "pprint(ai1s(mb, analyze=True))"
   ]
  },
  {
   "cell_type": "code",
   "execution_count": 11,
   "metadata": {},
   "outputs": [
    {
     "name": "stdout",
     "output_type": "stream",
     "text": [
      "{'candidate': [(0, 0)], 'score_by_move': {(0, 0): 8, (1, 0): 7, (2, 0): 6, (0, 1): 5, (1, 1): 4, (2, 1): 3, (0, 2): 2, (1, 2): 1, (2, 2): 0}}\n"
     ]
    }
   ],
   "source": [
    "print(ai1s(mb, analyze=True))"
   ]
  },
  {
   "cell_type": "code",
   "execution_count": 12,
   "metadata": {},
   "outputs": [],
   "source": [
    "from marubatsu import Markpat\n",
    "\n",
    "@ai_by_score\n",
    "def ai1s(mb, debug=False):\n",
    "    if mb.last_move is None:\n",
    "        return 0\n",
    "    else:\n",
    "        x, y = mb.last_move\n",
    "        return 8 - (x + y * 3)\n",
    "\n",
    "@ai_by_score\n",
    "def ai2s(mb, debug=False):\n",
    "    return 0    \n",
    "    \n",
    "@ai_by_score\n",
    "def ai3s(mb, debug=False):\n",
    "    if mb.last_move == (1, 1):\n",
    "        return 1\n",
    "    else:\n",
    "        return 0\n",
    "    \n",
    "@ai_by_score\n",
    "def ai4s(mb, debug=False):\n",
    "    x, y = mb.last_move\n",
    "    if mb.last_move == (1, 1):\n",
    "        return 10\n",
    "    elif x % 2 == 0 and y % 2 == 0:\n",
    "        return 9 - (x + y * 3)\n",
    "    else:\n",
    "        return 0\n",
    "    \n",
    "@ai_by_score\n",
    "def ai5s(mb, debug=False):\n",
    "    if mb.status == mb.last_turn:\n",
    "        return 1\n",
    "    else:\n",
    "        return 0\n",
    "\n",
    "@ai_by_score\n",
    "def ai6s(mb, debug=False):\n",
    "    # 自分が勝利している場合は、評価値として 1 を返す\n",
    "    if mb.status == mb.last_turn:\n",
    "        return 1\n",
    "\n",
    "    # 相手の手番で相手が勝利できる場合は評価値として -1 を返す\n",
    "    # 横方向と縦方向の判定\n",
    "    for i in range(mb.BOARD_SIZE):\n",
    "        count = mb.count_marks(coord=[0, i], dx=1, dy=0)\n",
    "        if count[mb.turn] == 2 and count[Marubatsu.EMPTY] == 1:\n",
    "            return -1\n",
    "        count = mb.count_marks(coord=[i, 0], dx=0, dy=1)\n",
    "        if count[mb.turn] == 2 and count[Marubatsu.EMPTY] == 1:\n",
    "            return -1\n",
    "    # 左上から右下方向の判定\n",
    "    count = mb.count_marks(coord=[0, 0], dx=1, dy=1)\n",
    "    if count[mb.turn] == 2 and count[Marubatsu.EMPTY] == 1:\n",
    "        return -1\n",
    "    # 右上から左下方向の判定\n",
    "    count = mb.count_marks(coord=[2, 0], dx=-1, dy=1)\n",
    "    if count[mb.turn] == 2 and count[Marubatsu.EMPTY] == 1:\n",
    "        return -1\n",
    "\n",
    "    # それ以外の場合は評価値として 0 を返す\n",
    "    return 0\n",
    "\n",
    "@ai_by_score\n",
    "def ai7s(mb, debug=False):\n",
    "    # 真ん中のマスに着手している場合は、評価値として 2 を返す\n",
    "    if mb.last_move == (1, 1):\n",
    "        return 2\n",
    "\n",
    "    # 自分が勝利している場合は、評価値として 1 を返す\n",
    "    if mb.status == mb.last_turn:\n",
    "        return 1\n",
    "\n",
    "    # 相手の手番で相手が勝利できる場合は評価値として -1 を返す\n",
    "    # 横方向と縦方向の判定\n",
    "    for i in range(mb.BOARD_SIZE):\n",
    "        count = mb.count_marks(coord=[0, i], dx=1, dy=0)\n",
    "        if count[mb.turn] == 2 and count[Marubatsu.EMPTY] == 1:\n",
    "            return -1\n",
    "        count = mb.count_marks(coord=[i, 0], dx=0, dy=1)\n",
    "        if count[mb.turn] == 2 and count[Marubatsu.EMPTY] == 1:\n",
    "            return -1\n",
    "    # 左上から右下方向の判定\n",
    "    count = mb.count_marks(coord=[0, 0], dx=1, dy=1)\n",
    "    if count[mb.turn] == 2 and count[Marubatsu.EMPTY] == 1:\n",
    "        return -1\n",
    "    # 右上から左下方向の判定\n",
    "    count = mb.count_marks(coord=[2, 0], dx=-1, dy=1)\n",
    "    if count[mb.turn] == 2 and count[Marubatsu.EMPTY] == 1:\n",
    "        return -1\n",
    "\n",
    "    # それ以外の場合は評価値として 0 を返す\n",
    "    return 0\n",
    "\n",
    "@ai_by_score\n",
    "def ai8s(mb, debug=False):\n",
    "    # 真ん中のマスに着手している場合は、評価値として 3 を返す\n",
    "    if mb.last_move == (1, 1):\n",
    "        return 3\n",
    "\n",
    "    # 自分が勝利している場合は、評価値として 2 を返す\n",
    "    if mb.status == mb.last_turn:\n",
    "        return 2\n",
    "\n",
    "    markpats = mb.enum_markpats()\n",
    "    # 相手が勝利できる場合は評価値として -1 を返す\n",
    "    if Markpat(last_turn=0, turn=2, empty=1) in markpats:\n",
    "        return -1\n",
    "    # 次の自分の手番で自分が勝利できる場合は評価値として 1 を返す\n",
    "    elif Markpat(last_turn=2, turn=0, empty=1) in markpats:\n",
    "        return 1\n",
    "    # それ以外の場合は評価値として 0 を返す\n",
    "    else:\n",
    "        return 0\n",
    "    \n",
    "@ai_by_score\n",
    "def ai9s(mb, debug=False):\n",
    "    # 真ん中のマスに着手している場合は、評価値として 4 を返す\n",
    "    if mb.last_move == (1, 1):\n",
    "        return 4\n",
    "\n",
    "    # 自分が勝利している場合は、評価値として 3 を返す\n",
    "    if mb.status == mb.last_turn:\n",
    "        return 3\n",
    "\n",
    "    markpats = mb.count_markpats()\n",
    "    if debug:\n",
    "        pprint(markpats)\n",
    "    # 相手が勝利できる場合は評価値として -1 を返す\n",
    "    if markpats[Markpat(last_turn=0, turn=2, empty=1)] > 0:\n",
    "        return -1\n",
    "    # 次の自分の手番で自分が必ず勝利できる場合は評価値として 2 を返す\n",
    "    elif markpats[Markpat(last_turn=2, turn=0, empty=1)] >= 2:\n",
    "        return 2\n",
    "    # 次の自分の手番で自分が勝利できる場合は評価値として 1 を返す\n",
    "    elif markpats[Markpat(last_turn=2, turn=0, empty=1)] == 1:\n",
    "        return 1\n",
    "    # それ以外の場合は評価値として 0 を返す\n",
    "    else:\n",
    "        return 0\n",
    "    \n",
    "@ai_by_score\n",
    "def ai10s(mb, debug=False):\n",
    "    # 真ん中のマスに着手している場合は、評価値として 300 を返す\n",
    "    if mb.last_move == (1, 1):\n",
    "        return 300\n",
    "\n",
    "    # 自分が勝利している場合は、評価値として 200 を返す\n",
    "    if mb.status == mb.last_turn:\n",
    "        return 200\n",
    "\n",
    "    markpats = mb.count_markpats()\n",
    "    if debug:\n",
    "        pprint(markpats)\n",
    "    # 相手が勝利できる場合は評価値として -100 を返す\n",
    "    if markpats[Markpat(last_turn=0, turn=2, empty=1)] > 0:\n",
    "        return -100\n",
    "    # 次の自分の手番で自分が必ず勝利できる場合は評価値として 100 を返す\n",
    "    elif markpats[Markpat(last_turn=2, turn=0, empty=1)] >= 2:\n",
    "        return 100\n",
    "\n",
    "    # 評価値の合計を計算する変数を 0 で初期化する\n",
    "    score = 0        \n",
    "    # 次の自分の手番で自分が勝利できる場合は評価値に 1 を加算する\n",
    "    if markpats[Markpat(last_turn=2, turn=0, empty=1)] == 1:\n",
    "        score += 1\n",
    "    # 「自 1 敵 0 空 2」の数だけ、評価値を加算する\n",
    "    score += markpats[Markpat(last_turn=1, turn=0, empty=2)]\n",
    "    \n",
    "    # 計算した評価値を返す\n",
    "    return score\n",
    "\n",
    "@ai_by_score\n",
    "def ai11s(mb, debug=False, score_201=2, score_102=0.5, score_012=-1):\n",
    "    # 真ん中のマスに着手している場合は、評価値として 300 を返す\n",
    "    if mb.last_move == (1, 1):\n",
    "        return 300\n",
    "\n",
    "    # 自分が勝利している場合は、評価値として 200 を返す\n",
    "    if mb.status == mb.last_turn:\n",
    "        return 200\n",
    "\n",
    "    markpats = mb.count_markpats()\n",
    "    if debug:\n",
    "        pprint(markpats)\n",
    "    # 相手が勝利できる場合は評価値として -100 を返す\n",
    "    if markpats[Markpat(last_turn=0, turn=2, empty=1)] > 0:\n",
    "        return -100\n",
    "    # 次の自分の手番で自分が必ず勝利できる場合は評価値として 100 を返す\n",
    "    elif markpats[Markpat(last_turn=2, turn=0, empty=1)] >= 2:\n",
    "        return 100\n",
    "\n",
    "    # 評価値の合計を計算する変数を 0 で初期化する\n",
    "    score = 0        \n",
    "    # 次の自分の手番で自分が勝利できる場合は評価値に score_201 を加算する\n",
    "    if markpats[Markpat(last_turn=2, turn=0, empty=1)] == 1:\n",
    "        score += score_201\n",
    "    # 「自 1 敵 0 空 2」1 つあたり score_102 だけ、評価値を加算する\n",
    "    score += markpats[Markpat(last_turn=1, turn=0, empty=2)] * score_102\n",
    "    # 「自 0 敵 1 空 2」1 つあたり score_201 だけ、評価値を減算する\n",
    "    score += markpats[Markpat(last_turn=0, turn=1, empty=2)] * score_012\n",
    "    \n",
    "    # 計算した評価値を返す\n",
    "    return score\n",
    "\n",
    "@ai_by_score\n",
    "def ai12s(mb, debug=False, score_victory=300, score_sure_victory=200, \\\n",
    "          score_defeat=-100, score_special=100, score_201=2, \\\n",
    "          score_102=0.5, score_012=-1):\n",
    "    # 自分が勝利している場合\n",
    "    if mb.status == mb.last_turn:\n",
    "        return score_victory\n",
    "\n",
    "    markpats = mb.count_markpats()\n",
    "    if debug:\n",
    "        pprint(markpats)\n",
    "    # 相手が勝利できる場合\n",
    "    if markpats[Markpat(last_turn=0, turn=2, empty=1)] > 0:\n",
    "        return score_defeat\n",
    "    # 次の自分の手番で自分が必ず勝利できる場合\n",
    "    elif markpats[Markpat(last_turn=2, turn=0, empty=1)] >= 2:\n",
    "        return score_sure_victory\n",
    "    \n",
    "    # 斜め方向に 〇×〇 が並び、いずれかの辺の 1 つのマスのみに × が配置されている場合\n",
    "    if mb.board[1][1] == Marubatsu.CROSS and \\\n",
    "        (mb.board[0][0] == mb.board[2][2] == Marubatsu.CIRCLE or \\\n",
    "        mb.board[2][0] == mb.board[0][2] == Marubatsu.CIRCLE) and \\\n",
    "        (mb.board[1][0] == Marubatsu.CROSS or \\\n",
    "        mb.board[0][1] == Marubatsu.CROSS or \\\n",
    "        mb.board[2][1] == Marubatsu.CROSS or \\\n",
    "        mb.board[1][2] == Marubatsu.CROSS) and \\\n",
    "        mb.move_count == 4:\n",
    "        return score_special    \n",
    "\n",
    "    # 評価値の合計を計算する変数を 0 で初期化する\n",
    "    score = 0        \n",
    "    # 次の自分の手番で自分が勝利できる場合は評価値に score_201 を加算する\n",
    "    if markpats[Markpat(last_turn=2, turn=0, empty=1)] == 1:\n",
    "        score += score_201\n",
    "    # 「自 1 敵 0 空 2」1 つあたり score_102 だけ、評価値を加算する\n",
    "    score += markpats[Markpat(last_turn=1, turn=0, empty=2)] * score_102\n",
    "    # 「自 0 敵 1 空 2」1 つあたり score_201 だけ、評価値を減算する\n",
    "    score += markpats[Markpat(last_turn=0, turn=1, empty=2)] * score_012\n",
    "    \n",
    "    # 計算した評価値を返す\n",
    "    return score    \n",
    "\n",
    "@ai_by_score\n",
    "def ai13s(mb, debug=False, score_victory=300, score_sure_victory=200, \\\n",
    "          score_defeat=-100, score_special=100, score_201=2, \\\n",
    "          score_102=0.5, score_012=-1):\n",
    "    # 自分が勝利している場合\n",
    "    if mb.status == mb.last_turn:\n",
    "        return score_victory\n",
    "\n",
    "    markpats = mb.count_markpats()\n",
    "    if debug:\n",
    "        pprint(markpats)\n",
    "    # 相手が勝利できる場合\n",
    "    if markpats[Markpat(last_turn=0, turn=2, empty=1)] > 0:\n",
    "        return score_defeat * markpats[Markpat(last_turn=0, turn=2, empty=1)]\n",
    "    # 次の自分の手番で自分が必ず勝利できる場合\n",
    "    elif markpats[Markpat(last_turn=2, turn=0, empty=1)] >= 2:\n",
    "        return score_sure_victory\n",
    "    \n",
    "    # 斜め方向に 〇×〇 が並び、いずれかの辺の 1 つのマスのみに × が配置されている場合\n",
    "    if mb.board[1][1] == Marubatsu.CROSS and \\\n",
    "        (mb.board[0][0] == mb.board[2][2] == Marubatsu.CIRCLE or \\\n",
    "        mb.board[2][0] == mb.board[0][2] == Marubatsu.CIRCLE) and \\\n",
    "        (mb.board[1][0] == Marubatsu.CROSS or \\\n",
    "        mb.board[0][1] == Marubatsu.CROSS or \\\n",
    "        mb.board[2][1] == Marubatsu.CROSS or \\\n",
    "        mb.board[1][2] == Marubatsu.CROSS) and \\\n",
    "        mb.move_count == 4:\n",
    "        return score_special    \n",
    "\n",
    "    # 評価値の合計を計算する変数を 0 で初期化する\n",
    "    score = 0        \n",
    "    # 次の自分の手番で自分が勝利できる場合は評価値に score_201 を加算する\n",
    "    if markpats[Markpat(last_turn=2, turn=0, empty=1)] == 1:\n",
    "        score += score_201\n",
    "    # 「自 1 敵 0 空 2」1 つあたり score_102 だけ、評価値を加算する\n",
    "    score += markpats[Markpat(last_turn=1, turn=0, empty=2)] * score_102\n",
    "    # 「自 0 敵 1 空 2」1 つあたり score_201 だけ、評価値を減算する\n",
    "    score += markpats[Markpat(last_turn=0, turn=1, empty=2)] * score_012\n",
    "    \n",
    "    # 計算した評価値を返す\n",
    "    return score\n",
    "\n",
    "@ai_by_score\n",
    "def ai14s(mb, debug=False, score_victory=300, score_sure_victory=200, \\\n",
    "          score_defeat=-100, score_special=100, score_201=2, \\\n",
    "          score_102=0.5, score_012=-1):\n",
    "    # 評価値の合計を計算する変数を 0 で初期化する\n",
    "    score = 0        \n",
    "\n",
    "    # 自分が勝利している場合\n",
    "    if mb.status == mb.last_turn:\n",
    "        return score_victory\n",
    "\n",
    "    markpats = mb.count_markpats()\n",
    "    if debug:\n",
    "        pprint(markpats)\n",
    "    # 相手が勝利できる場合は評価値を加算する\n",
    "    if markpats[Markpat(last_turn=0, turn=2, empty=1)] > 0:\n",
    "        score = score_defeat * markpats[Markpat(last_turn=0, turn=2, empty=1)]\n",
    "    # 次の自分の手番で自分が必ず勝利できる場合\n",
    "    elif markpats[Markpat(last_turn=2, turn=0, empty=1)] >= 2:\n",
    "        return score_sure_victory\n",
    "    \n",
    "    # 斜め方向に 〇×〇 が並び、いずれかの辺の 1 つのマスのみに × が配置されている場合\n",
    "    if mb.board[1][1] == Marubatsu.CROSS and \\\n",
    "        (mb.board[0][0] == mb.board[2][2] == Marubatsu.CIRCLE or \\\n",
    "        mb.board[2][0] == mb.board[0][2] == Marubatsu.CIRCLE) and \\\n",
    "        (mb.board[1][0] == Marubatsu.CROSS or \\\n",
    "        mb.board[0][1] == Marubatsu.CROSS or \\\n",
    "        mb.board[2][1] == Marubatsu.CROSS or \\\n",
    "        mb.board[1][2] == Marubatsu.CROSS) and \\\n",
    "        mb.move_count == 4:\n",
    "        return score_special    \n",
    "\n",
    "    # 次の自分の手番で自分が勝利できる場合は評価値に score_201 を加算する\n",
    "    if markpats[Markpat(last_turn=2, turn=0, empty=1)] == 1:\n",
    "        score += score_201\n",
    "    # 「自 1 敵 0 空 2」1 つあたり score_102 だけ、評価値を加算する\n",
    "    score += markpats[Markpat(last_turn=1, turn=0, empty=2)] * score_102\n",
    "    # 「自 0 敵 1 空 2」1 つあたり score_201 だけ、評価値を減算する\n",
    "    score += markpats[Markpat(last_turn=0, turn=1, empty=2)] * score_012\n",
    "    \n",
    "    # 計算した評価値を返す\n",
    "    return score"
   ]
  },
  {
   "cell_type": "code",
   "execution_count": 13,
   "metadata": {},
   "outputs": [],
   "source": [
    "from functools import wraps\n",
    "from random import choice\n",
    "\n",
    "def ai_by_candidate(func):\n",
    "    @wraps(func)\n",
    "    def wrapper(mb, *args, analyze=False, **kwargs):\n",
    "        candidate = func(mb, *args, **kwargs)\n",
    "        if analyze:\n",
    "            return {\n",
    "                \"candidate\": candidate,\n",
    "                \"score_by_move\": None\n",
    "            }\n",
    "        else:\n",
    "            return choice(candidate)\n",
    "        \n",
    "    return wrapper"
   ]
  },
  {
   "cell_type": "code",
   "execution_count": 14,
   "metadata": {},
   "outputs": [],
   "source": [
    "@ai_by_candidate\n",
    "def ai3(mb):\n",
    "    if mb.board[1][1] == Marubatsu.EMPTY:\n",
    "        candidate = [(1, 1)]\n",
    "    else:\n",
    "        candidate = mb.calc_legal_moves()\n",
    "    return candidate"
   ]
  },
  {
   "cell_type": "code",
   "execution_count": 15,
   "metadata": {},
   "outputs": [
    {
     "name": "stdout",
     "output_type": "stream",
     "text": [
      "(1, 1)\n"
     ]
    }
   ],
   "source": [
    "print(ai3(mb))"
   ]
  },
  {
   "cell_type": "code",
   "execution_count": 16,
   "metadata": {},
   "outputs": [
    {
     "name": "stdout",
     "output_type": "stream",
     "text": [
      "{'candidate': [(1, 1)], 'score_by_move': None}\n"
     ]
    }
   ],
   "source": [
    "print(ai3(mb, analyze=True))"
   ]
  },
  {
   "cell_type": "code",
   "execution_count": 17,
   "metadata": {},
   "outputs": [],
   "source": [
    "@ai_by_candidate\n",
    "def ai2(mb):\n",
    "    legal_moves = mb.calc_legal_moves()\n",
    "    return choice(legal_moves)"
   ]
  },
  {
   "cell_type": "code",
   "execution_count": 18,
   "metadata": {},
   "outputs": [
    {
     "name": "stdout",
     "output_type": "stream",
     "text": [
      "0\n"
     ]
    }
   ],
   "source": [
    "print(ai2(mb))"
   ]
  },
  {
   "cell_type": "code",
   "execution_count": 19,
   "metadata": {},
   "outputs": [],
   "source": [
    "@ai_by_candidate\n",
    "def ai2(mb):\n",
    "    return mb.calc_legal_moves()"
   ]
  },
  {
   "cell_type": "code",
   "execution_count": 20,
   "metadata": {},
   "outputs": [
    {
     "name": "stdout",
     "output_type": "stream",
     "text": [
      "(1, 1)\n"
     ]
    }
   ],
   "source": [
    "print(ai2(mb))"
   ]
  },
  {
   "cell_type": "code",
   "execution_count": 21,
   "metadata": {},
   "outputs": [],
   "source": [
    "from ai import dprint\n",
    "\n",
    "def ai_by_candidate(func):\n",
    "    @wraps(func)\n",
    "    def wrapper(mb, debug=False, *args, rand=True, analyze=False, **kwargs):\n",
    "        candidate = func(mb, debug, *args, **kwargs)\n",
    "        dprint(debug, \"candidate\", candidate)\n",
    "        if analyze:\n",
    "            return {\n",
    "                \"candidate\": candidate,\n",
    "                \"score_by_move\": None\n",
    "            }\n",
    "        else:\n",
    "            if rand:\n",
    "                return choice(candidate)\n",
    "            else:\n",
    "                return candidate[0]\n",
    "        \n",
    "    return wrapper"
   ]
  },
  {
   "cell_type": "code",
   "execution_count": 22,
   "metadata": {},
   "outputs": [],
   "source": [
    "@ai_by_candidate\n",
    "def ai2(mb, debug=False):\n",
    "    return mb.calc_legal_moves()"
   ]
  },
  {
   "cell_type": "code",
   "execution_count": 23,
   "metadata": {},
   "outputs": [
    {
     "name": "stdout",
     "output_type": "stream",
     "text": [
      "candidate [(0, 0), (1, 0), (2, 0), (0, 1), (1, 1), (2, 1), (0, 2), (1, 2), (2, 2)]\n",
      "(0, 0)\n"
     ]
    }
   ],
   "source": [
    "print(ai2(mb, rand=False, debug=True))"
   ]
  },
  {
   "cell_type": "code",
   "execution_count": 24,
   "metadata": {},
   "outputs": [],
   "source": [
    "from copy import deepcopy\n",
    "\n",
    "@ai_by_candidate\n",
    "def ai1(mb, debug=False):\n",
    "    for y in range(mb.BOARD_SIZE):\n",
    "        for x in range(mb.BOARD_SIZE):\n",
    "            if mb.board[x][y] == Marubatsu.EMPTY:\n",
    "               return [(x, y)]\n",
    "           \n",
    "@ai_by_candidate\n",
    "def ai2(mb, debug=False):\n",
    "    legal_moves = mb.calc_legal_moves()\n",
    "    return legal_moves\n",
    "\n",
    "@ai_by_candidate\n",
    "def ai3(mb, debug=False):\n",
    "    if mb.board[1][1] == Marubatsu.EMPTY:\n",
    "        candidate = [(1, 1)]\n",
    "    else:\n",
    "        candidate = mb.calc_legal_moves()\n",
    "    return candidate\n",
    "\n",
    "@ai_by_candidate\n",
    "def ai4(mb, debug=False):\n",
    "    if mb.board[1][1] == Marubatsu.EMPTY:\n",
    "        return [(1, 1)]\n",
    "    for y in range(0, 3, 2):\n",
    "        for x in range(0, 3, 2):\n",
    "            if mb.board[x][y] == Marubatsu.EMPTY:\n",
    "                return [(x, y)]\n",
    "    return mb.calc_legal_moves()\n",
    "\n",
    "@ai_by_candidate\n",
    "def ai5(mb_orig, debug=False):\n",
    "    legal_moves = mb_orig.calc_legal_moves()\n",
    "    # すべての合法手について繰り返し処理を行う\n",
    "    for move in legal_moves:\n",
    "        # mb_orig をコピーし、コピーしたもの対して着手を行う\n",
    "        mb = deepcopy(mb_orig)\n",
    "        x, y = move\n",
    "        mb.move(x, y)\n",
    "        # 勝利していれば、その合法手を返り値として返す\n",
    "        if mb.status == mb_orig.turn:\n",
    "            return [move]\n",
    "    return legal_moves\n",
    "\n",
    "@ai_by_candidate\n",
    "def ai6(mb_orig, debug=False):\n",
    "    # mb_orig の合法手の中で、自分が勝利できる合法手があればそこに着手する\n",
    "    legal_moves = mb_orig.calc_legal_moves()\n",
    "    # 合法手が 1 つしかない場合は、その合法手を返り値として返す\n",
    "    if len(legal_moves) == 1:\n",
    "        return legal_moves\n",
    "    # 合法手の中で、勝てるマスがあれば、その合法手を返り値として返す\n",
    "    for move in legal_moves:\n",
    "        mb = deepcopy(mb_orig)\n",
    "        x, y = move\n",
    "        mb.move(x, y)\n",
    "        if mb.status == mb_orig.turn:\n",
    "            return [move]\n",
    "    # 〇 が勝利する合法手が存在しないことが確定した場合は、\n",
    "    # 現在の局面を相手の手番とみなし、合法手の中で、相手が着手して\n",
    "    # 勝利するマスがあれば、その合法手を返り値として返す\n",
    "    for move in legal_moves:\n",
    "        mb = deepcopy(mb_orig)\n",
    "        # 現在の局面の手番を入れ替える\n",
    "        mb.turn = Marubatsu.CROSS if mb.turn == Marubatsu.CIRCLE else Marubatsu.CIRCLE\n",
    "        enemy_turn = mb.turn\n",
    "        x, y = move\n",
    "        mb.move(x, y)\n",
    "        if mb.status == enemy_turn:\n",
    "            return [move]\n",
    "       \n",
    "    return legal_moves\n",
    "\n",
    "@ai_by_candidate\n",
    "def ai7(mb, debug=False):\n",
    "    if mb.board[1][1] == Marubatsu.EMPTY:\n",
    "        return [(1, 1)]\n",
    "    return ai6(mb, debug=debug, analyze=True)[\"candidate\"]\n",
    "\n",
    "@ai_by_candidate\n",
    "def ai_gt1(mb, debug=False, mbtree=None):\n",
    "    node = mbtree.root\n",
    "    for move in mb.records[1:]:\n",
    "        node = node.children_by_move[move]\n",
    "\n",
    "    bestmoves = []\n",
    "    for move, childnode in node.children_by_move.items():\n",
    "        if node.score == childnode.score:\n",
    "            bestmoves.append(move)\n",
    "    return bestmoves\n",
    "    \n",
    "@ai_by_candidate\n",
    "def ai_gt2(mb, debug=False, mbtree=None):\n",
    "    node = mbtree.root\n",
    "    for move in mb.records[1:]:\n",
    "        node = node.children_by_move[move]\n",
    "\n",
    "    return node.bestmoves\n",
    "\n",
    "@ai_by_candidate\n",
    "def ai_gt3(mb, debug=False, mbtree=None):\n",
    "    node = mbtree.nodelist_by_mb[tuple(mb.records)]\n",
    "    return node.bestmoves    \n",
    "\n",
    "@ai_by_candidate\n",
    "def ai_gt4(mb, debug=False, mbtree=None):\n",
    "    return mbtree.bestmoves_by_mb[tuple(mb.records)]\n",
    "\n",
    "@ai_by_candidate\n",
    "def ai_gt5(mb, debug=False, bestmoves=None):\n",
    "    return bestmoves[tuple(mb.records)]\n",
    "\n",
    "@ai_by_candidate\n",
    "def ai_gt6(mb, debug=False, bestmoves_by_board=None):\n",
    "    return bestmoves_by_board[mb.board_to_str()]    "
   ]
  }
 ],
 "metadata": {
  "kernelspec": {
   "display_name": "marubatsu",
   "language": "python",
   "name": "python3"
  },
  "language_info": {
   "codemirror_mode": {
    "name": "ipython",
    "version": 3
   },
   "file_extension": ".py",
   "mimetype": "text/x-python",
   "name": "python",
   "nbconvert_exporter": "python",
   "pygments_lexer": "ipython3",
   "version": "3.11.4"
  }
 },
 "nbformat": 4,
 "nbformat_minor": 2
}
