{
 "cells": [
  {
   "cell_type": "code",
   "execution_count": 1,
   "metadata": {},
   "outputs": [
    {
     "name": "stdout",
     "output_type": "stream",
     "text": [
      "Start ai_by_score\n",
      "Turn o\n",
      "...\n",
      "...\n",
      "...\n",
      "\n",
      "legal_moves [(0, 0), (1, 0), (2, 0), (0, 1), (1, 1), (2, 1), (0, 2), (1, 2), (2, 2)]\n",
      "====================\n",
      "move (0, 0)\n",
      "Turn x\n",
      "O..\n",
      "...\n",
      "...\n",
      "\n",
      "count = 772\n",
      "score 0 best score -inf\n",
      "UPDATE\n",
      "  best score 0\n",
      "  best moves [(0, 0)]\n",
      "====================\n",
      "move (1, 0)\n",
      "Turn x\n",
      ".O.\n",
      "...\n",
      "...\n",
      "\n",
      "count = 786\n",
      "score 0 best score 0\n",
      "APPEND\n",
      "  best moves [(0, 0), (1, 0)]\n",
      "====================\n",
      "move (2, 0)\n",
      "Turn x\n",
      "..O\n",
      "...\n",
      "...\n",
      "\n",
      "count = 940\n",
      "score 0 best score 0\n",
      "APPEND\n",
      "  best moves [(0, 0), (1, 0), (2, 0)]\n",
      "====================\n",
      "move (0, 1)\n",
      "Turn x\n",
      "...\n",
      "O..\n",
      "...\n",
      "\n",
      "count = 783\n",
      "score 0 best score 0\n",
      "APPEND\n",
      "  best moves [(0, 0), (1, 0), (2, 0), (0, 1)]\n",
      "====================\n",
      "move (1, 1)\n",
      "Turn x\n",
      "...\n",
      ".O.\n",
      "...\n",
      "\n",
      "count = 364\n",
      "score 0 best score 0\n",
      "APPEND\n",
      "  best moves [(0, 0), (1, 0), (2, 0), (0, 1), (1, 1)]\n",
      "====================\n",
      "move (2, 1)\n",
      "Turn x\n",
      "...\n",
      "..O\n",
      "...\n",
      "\n",
      "count = 1056\n",
      "score 0 best score 0\n",
      "APPEND\n",
      "  best moves [(0, 0), (1, 0), (2, 0), (0, 1), (1, 1), (2, 1)]\n",
      "====================\n",
      "move (0, 2)\n",
      "Turn x\n",
      "...\n",
      "...\n",
      "O..\n",
      "\n",
      "count = 813\n",
      "score 0 best score 0\n",
      "APPEND\n",
      "  best moves [(0, 0), (1, 0), (2, 0), (0, 1), (1, 1), (2, 1), (0, 2)]\n",
      "====================\n",
      "move (1, 2)\n",
      "Turn x\n",
      "...\n",
      "...\n",
      ".O.\n",
      "\n",
      "count = 999\n",
      "score 0 best score 0\n",
      "APPEND\n",
      "  best moves [(0, 0), (1, 0), (2, 0), (0, 1), (1, 1), (2, 1), (0, 2), (1, 2)]\n",
      "====================\n",
      "move (2, 2)\n",
      "Turn x\n",
      "...\n",
      "...\n",
      "..O\n",
      "\n",
      "count = 687\n",
      "score 0 best score 0\n",
      "APPEND\n",
      "  best moves [(0, 0), (1, 0), (2, 0), (0, 1), (1, 1), (2, 1), (0, 2), (1, 2), (2, 2)]\n",
      "====================\n",
      "Finished\n",
      "best score 0\n",
      "best moves [(0, 0), (1, 0), (2, 0), (0, 1), (1, 1), (2, 1), (0, 2), (1, 2), (2, 2)]\n"
     ]
    },
    {
     "data": {
      "text/plain": [
       "(2, 2)"
      ]
     },
     "execution_count": 1,
     "metadata": {},
     "output_type": "execute_result"
    }
   ],
   "source": [
    "from marubatsu import Marubatsu\n",
    "from ai import ai_abs_tt2\n",
    "\n",
    "mb = Marubatsu()\n",
    "ai_abs_tt2(mb, debug=True)"
   ]
  },
  {
   "cell_type": "code",
   "execution_count": 2,
   "metadata": {},
   "outputs": [],
   "source": [
    "from ai import dprint\n",
    "from copy import deepcopy\n",
    "from functools import wraps\n",
    "\n",
    "def ai_by_score(eval_func):\n",
    "    @wraps(eval_func)\n",
    "    def wrapper(mb_orig, debug=False, *args, rand=True, analyze=False, calc_score=False, **kwargs):\n",
    "        if calc_score:\n",
    "            return eval_func(mb_orig, debug, *args, **kwargs)\n",
    "        \n",
    "        dprint(debug, \"Start ai_by_score\")\n",
    "        dprint(debug, mb_orig)\n",
    "        legal_moves = mb_orig.calc_legal_moves()\n",
    "        dprint(debug, \"legal_moves\", legal_moves)\n",
    "        best_score = float(\"-inf\")\n",
    "        best_moves = []\n",
    "        if analyze:\n",
    "            score_by_move = {}\n",
    "        for move in legal_moves:\n",
    "            dprint(debug, \"=\" * 20)\n",
    "            dprint(debug, \"move\", move)\n",
    "            mb = deepcopy(mb_orig)\n",
    "            x, y = move\n",
    "            mb.move(x, y)\n",
    "            dprint(debug, mb)\n",
    "            \n",
    "            score = eval_func(mb, debug, *args, **kwargs)\n",
    "            dprint(debug, \"score\", score, \"best score\", best_score)\n",
    "            if analyze:\n",
    "                score_by_move[move] = score\n",
    "            \n",
    "            if best_score < score:\n",
    "                best_score = score\n",
    "                best_moves = [move]\n",
    "                dprint(debug, \"UPDATE\")\n",
    "                dprint(debug, \"  best score\", best_score)\n",
    "                dprint(debug, \"  best moves\", best_moves)\n",
    "            elif best_score == score:\n",
    "                best_moves.append(move)\n",
    "                dprint(debug, \"APPEND\")\n",
    "                dprint(debug, \"  best moves\", best_moves)\n",
    "\n",
    "        dprint(debug, \"=\" * 20)\n",
    "        dprint(debug, \"Finished\")\n",
    "        dprint(debug, \"best score\", best_score)\n",
    "        dprint(debug, \"best moves\", best_moves)\n",
    "        if analyze:\n",
    "            return {\n",
    "                \"candidate\": best_moves,\n",
    "                \"score_by_move\": score_by_move,\n",
    "            }\n",
    "        elif rand:   \n",
    "            return choice(best_moves)\n",
    "        else:\n",
    "            return best_moves[0]\n",
    "        \n",
    "    return wrapper"
   ]
  },
  {
   "cell_type": "code",
   "execution_count": 3,
   "metadata": {},
   "outputs": [
    {
     "name": "stdout",
     "output_type": "stream",
     "text": [
      "count = 549946\n",
      "count = 2271\n",
      "count = 18297\n",
      "count = 1718\n",
      "count = 1208\n"
     ]
    },
    {
     "data": {
      "text/plain": [
       "0"
      ]
     },
     "execution_count": 3,
     "metadata": {},
     "output_type": "execute_result"
    }
   ],
   "source": [
    "from ai2 import ai_mmdfs, ai_mmdfs_tt, ai_abs, ai_abs_tt, ai_abs_tt2\n",
    "\n",
    "ai_mmdfs(mb, calc_score=True, debug=True)\n",
    "ai_mmdfs_tt(mb, calc_score=True, debug=True)\n",
    "ai_abs(mb, calc_score=True, debug=True)\n",
    "ai_abs_tt(mb, calc_score=True, debug=True)\n",
    "ai_abs_tt2(mb, calc_score=True, debug=True)"
   ]
  },
  {
   "cell_type": "code",
   "execution_count": 4,
   "metadata": {},
   "outputs": [],
   "source": [
    "@ai_by_score\n",
    "def ai_abs_tt3(mb, debug=False, shortest_victory=False):   \n",
    "    count = 0\n",
    "    def ab_search(mborig, tt, alpha=float(\"-inf\"), beta=float(\"inf\")):\n",
    "        nonlocal count\n",
    "        count += 1\n",
    "        if mborig.status == Marubatsu.CIRCLE:\n",
    "            return (11 - mborig.move_count) / 2 if shortest_victory else 1\n",
    "        elif mborig.status == Marubatsu.CROSS:\n",
    "            return (mborig.move_count - 10) / 2 if shortest_victory else -1\n",
    "        elif mborig.status == Marubatsu.DRAW:\n",
    "            return 0\n",
    "        \n",
    "        boardtxt = mborig.board_to_str()\n",
    "        if boardtxt in tt:\n",
    "            lower_bound, upper_bound = tt[boardtxt]\n",
    "            if lower_bound == upper_bound:\n",
    "                return lower_bound\n",
    "            elif upper_bound <= alpha:\n",
    "                return upper_bound\n",
    "            elif beta <= lower_bound:\n",
    "                return lower_bound\n",
    "            else:\n",
    "                alpha = min(alpha, lower_bound)\n",
    "                beta = max(beta, upper_bound)\n",
    "        else:\n",
    "            lower_bound = float(\"-inf\")\n",
    "            upper_bound = float(\"inf\")\n",
    "        \n",
    "        alphaorig = alpha\n",
    "        betaorig = beta\n",
    "\n",
    "        legal_moves = mborig.calc_legal_moves()\n",
    "        if mborig.turn == Marubatsu.CIRCLE:\n",
    "            score = float(\"-inf\")\n",
    "            for x, y in legal_moves:\n",
    "                mb = deepcopy(mborig)\n",
    "                mb.move(x, y)\n",
    "                score = max(score, ab_search(mb, tt, alpha, beta))\n",
    "                if score >= beta:\n",
    "                    break\n",
    "                alpha = max(alpha, score)\n",
    "        else:\n",
    "            score = float(\"inf\")\n",
    "            for x, y in legal_moves:\n",
    "                mb = deepcopy(mborig)\n",
    "                mb.move(x, y)\n",
    "                score = min(score, ab_search(mb, tt, alpha, beta))\n",
    "                if score <= alpha:\n",
    "                    break\n",
    "                beta = min(beta, score)   \n",
    "            \n",
    "        from util import calc_same_boardtexts\n",
    "\n",
    "        boardtxtlist = calc_same_boardtexts(mborig)\n",
    "        if score <= alphaorig:\n",
    "            upper_bound = score\n",
    "        elif score < betaorig:\n",
    "            lower_bound = score\n",
    "            upper_bound = score\n",
    "        else:\n",
    "            lower_bound = score\n",
    "        for boardtxt in boardtxtlist:\n",
    "            tt[boardtxt] = (lower_bound, upper_bound)\n",
    "        return score\n",
    "                \n",
    "    score = ab_search(mb, {})\n",
    "    dprint(debug, \"count =\", count)\n",
    "    if mb.turn == Marubatsu.CIRCLE:\n",
    "        score *= -1\n",
    "    return score"
   ]
  },
  {
   "cell_type": "code",
   "execution_count": 5,
   "metadata": {},
   "outputs": [
    {
     "name": "stderr",
     "output_type": "stream",
     "text": [
      "100%|██████████| 431/431 [00:03<00:00, 130.48it/s]"
     ]
    },
    {
     "name": "stdout",
     "output_type": "stream",
     "text": [
      "431/431 100.00%\n"
     ]
    },
    {
     "name": "stderr",
     "output_type": "stream",
     "text": [
      "\n"
     ]
    },
    {
     "data": {
      "text/plain": [
       "(True, [])"
      ]
     },
     "execution_count": 5,
     "metadata": {},
     "output_type": "execute_result"
    }
   ],
   "source": [
    "from util import Check_solved\n",
    "\n",
    "Check_solved.is_strongly_solved(ai_abs_tt3)"
   ]
  },
  {
   "cell_type": "code",
   "execution_count": 6,
   "metadata": {},
   "outputs": [
    {
     "name": "stdout",
     "output_type": "stream",
     "text": [
      "count = 1173\n"
     ]
    },
    {
     "data": {
      "text/plain": [
       "0"
      ]
     },
     "execution_count": 6,
     "metadata": {},
     "output_type": "execute_result"
    }
   ],
   "source": [
    "ai_abs_tt3(mb, calc_score=True, debug=True)"
   ]
  },
  {
   "cell_type": "code",
   "execution_count": 7,
   "metadata": {},
   "outputs": [],
   "source": [
    "@ai_by_score\n",
    "def ai_abs_tt4(mb, debug=False, shortest_victory=False):   \n",
    "    count = 0\n",
    "    def ab_search(mborig, tt, alpha=float(\"-inf\"), beta=float(\"inf\")):\n",
    "        nonlocal count\n",
    "        count += 1\n",
    "        if mborig.status == Marubatsu.CIRCLE:\n",
    "            return (11 - mborig.move_count) / 2 if shortest_victory else 1\n",
    "        elif mborig.status == Marubatsu.CROSS:\n",
    "            return (mborig.move_count - 10) / 2 if shortest_victory else -1\n",
    "        elif mborig.status == Marubatsu.DRAW:\n",
    "            return 0\n",
    "        \n",
    "        boardtxt = mborig.board_to_str()\n",
    "        if boardtxt in tt:\n",
    "            lower_bound, upper_bound = tt[boardtxt]\n",
    "            if lower_bound == upper_bound:\n",
    "                return lower_bound\n",
    "            elif upper_bound <= alpha:\n",
    "                return upper_bound\n",
    "            elif beta <= lower_bound:\n",
    "                return lower_bound\n",
    "            else:\n",
    "                alpha = min(alpha, lower_bound)\n",
    "                beta = max(beta, upper_bound)\n",
    "        else:\n",
    "            lower_bound = min_score\n",
    "            upper_bound = max_score\n",
    "        \n",
    "        alphaorig = alpha\n",
    "        betaorig = beta\n",
    "\n",
    "        legal_moves = mborig.calc_legal_moves()\n",
    "        if mborig.turn == Marubatsu.CIRCLE:\n",
    "            score = float(\"-inf\")\n",
    "            for x, y in legal_moves:\n",
    "                mb = deepcopy(mborig)\n",
    "                mb.move(x, y)\n",
    "                score = max(score, ab_search(mb, tt, alpha, beta))\n",
    "                if score >= beta:\n",
    "                    break\n",
    "                alpha = max(alpha, score)\n",
    "        else:\n",
    "            score = float(\"inf\")\n",
    "            for x, y in legal_moves:\n",
    "                mb = deepcopy(mborig)\n",
    "                mb.move(x, y)\n",
    "                score = min(score, ab_search(mb, tt, alpha, beta))\n",
    "                if score <= alpha:\n",
    "                    break\n",
    "                beta = min(beta, score)   \n",
    "            \n",
    "        from util import calc_same_boardtexts\n",
    "\n",
    "        boardtxtlist = calc_same_boardtexts(mborig)\n",
    "        if score <= alphaorig:\n",
    "            upper_bound = score\n",
    "        elif score < betaorig:\n",
    "            lower_bound = score\n",
    "            upper_bound = score\n",
    "        else:\n",
    "            lower_bound = score\n",
    "        for boardtxt in boardtxtlist:\n",
    "            tt[boardtxt] = (lower_bound, upper_bound)\n",
    "        return score\n",
    "                \n",
    "    min_score = -2 if shortest_victory else -1\n",
    "    max_score = 3 if shortest_victory else 1\n",
    "\n",
    "    score = ab_search(mb, {}, alpha=min_score, beta=max_score)\n",
    "    dprint(debug, \"count =\", count)\n",
    "    if mb.turn == Marubatsu.CIRCLE:\n",
    "        score *= -1\n",
    "    return score"
   ]
  },
  {
   "cell_type": "code",
   "execution_count": 8,
   "metadata": {},
   "outputs": [
    {
     "name": "stderr",
     "output_type": "stream",
     "text": [
      "100%|██████████| 431/431 [00:02<00:00, 202.14it/s]"
     ]
    },
    {
     "name": "stdout",
     "output_type": "stream",
     "text": [
      "431/431 100.00%\n"
     ]
    },
    {
     "name": "stderr",
     "output_type": "stream",
     "text": [
      "\n"
     ]
    },
    {
     "data": {
      "text/plain": [
       "(True, [])"
      ]
     },
     "execution_count": 8,
     "metadata": {},
     "output_type": "execute_result"
    }
   ],
   "source": [
    "Check_solved.is_strongly_solved(ai_abs_tt4)"
   ]
  },
  {
   "cell_type": "code",
   "execution_count": 9,
   "metadata": {},
   "outputs": [
    {
     "name": "stdout",
     "output_type": "stream",
     "text": [
      "count = 832\n"
     ]
    },
    {
     "data": {
      "text/plain": [
       "0"
      ]
     },
     "execution_count": 9,
     "metadata": {},
     "output_type": "execute_result"
    }
   ],
   "source": [
    "ai_abs_tt4(mb, calc_score=True, debug=True)"
   ]
  }
 ],
 "metadata": {
  "kernelspec": {
   "display_name": "marubatsu",
   "language": "python",
   "name": "python3"
  },
  "language_info": {
   "codemirror_mode": {
    "name": "ipython",
    "version": 3
   },
   "file_extension": ".py",
   "mimetype": "text/x-python",
   "name": "python",
   "nbconvert_exporter": "python",
   "pygments_lexer": "ipython3",
   "version": "3.11.4"
  }
 },
 "nbformat": 4,
 "nbformat_minor": 2
}
