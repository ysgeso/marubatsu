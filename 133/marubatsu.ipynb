{
 "cells": [
  {
   "cell_type": "code",
   "execution_count": 1,
   "metadata": {},
   "outputs": [
    {
     "name": "stdout",
     "output_type": "stream",
     "text": [
      "ai1 VS ai2s\n"
     ]
    },
    {
     "name": "stderr",
     "output_type": "stream",
     "text": [
      "100%|██████████| 1000/1000 [00:03<00:00, 312.33it/s]\n"
     ]
    },
    {
     "name": "stdout",
     "output_type": "stream",
     "text": [
      "count     win    lose    draw\n",
      "o         769     180      51\n",
      "x         438     535      27\n",
      "total    1207     715      78\n",
      "\n",
      "ratio     win    lose    draw\n",
      "o       76.9%   18.0%    5.1%\n",
      "x       43.8%   53.5%    2.7%\n",
      "total   60.4%   35.8%    3.9%\n",
      "\n",
      "ai2 VS ai2s\n"
     ]
    },
    {
     "name": "stderr",
     "output_type": "stream",
     "text": [
      "100%|██████████| 1000/1000 [00:04<00:00, 238.41it/s]\n"
     ]
    },
    {
     "name": "stdout",
     "output_type": "stream",
     "text": [
      "count     win    lose    draw\n",
      "o         595     274     131\n",
      "x         276     597     127\n",
      "total     871     871     258\n",
      "\n",
      "ratio     win    lose    draw\n",
      "o       59.5%   27.4%   13.1%\n",
      "x       27.6%   59.7%   12.7%\n",
      "total   43.5%   43.5%   12.9%\n",
      "\n",
      "ai3 VS ai2s\n"
     ]
    },
    {
     "name": "stderr",
     "output_type": "stream",
     "text": [
      "100%|██████████| 1000/1000 [00:04<00:00, 249.27it/s]\n"
     ]
    },
    {
     "name": "stdout",
     "output_type": "stream",
     "text": [
      "count     win    lose    draw\n",
      "o         684     207     109\n",
      "x         339     511     150\n",
      "total    1023     718     259\n",
      "\n",
      "ratio     win    lose    draw\n",
      "o       68.4%   20.7%   10.9%\n",
      "x       33.9%   51.1%   15.0%\n",
      "total   51.1%   35.9%   13.0%\n",
      "\n",
      "ai4 VS ai2s\n"
     ]
    },
    {
     "name": "stderr",
     "output_type": "stream",
     "text": [
      "100%|██████████| 1000/1000 [00:03<00:00, 282.44it/s]\n"
     ]
    },
    {
     "name": "stdout",
     "output_type": "stream",
     "text": [
      "count     win    lose    draw\n",
      "o         822      92      86\n",
      "x         589     325      86\n",
      "total    1411     417     172\n",
      "\n",
      "ratio     win    lose    draw\n",
      "o       82.2%    9.2%    8.6%\n",
      "x       58.9%   32.5%    8.6%\n",
      "total   70.5%   20.8%    8.6%\n",
      "\n",
      "ai5 VS ai2s\n"
     ]
    },
    {
     "name": "stderr",
     "output_type": "stream",
     "text": [
      "100%|██████████| 1000/1000 [00:06<00:00, 159.67it/s]\n"
     ]
    },
    {
     "name": "stdout",
     "output_type": "stream",
     "text": [
      "count     win    lose    draw\n",
      "o         787     139      74\n",
      "x         526     382      92\n",
      "total    1313     521     166\n",
      "\n",
      "ratio     win    lose    draw\n",
      "o       78.7%   13.9%    7.4%\n",
      "x       52.6%   38.2%    9.2%\n",
      "total   65.6%   26.1%    8.3%\n",
      "\n",
      "ai6 VS ai2s\n"
     ]
    },
    {
     "name": "stderr",
     "output_type": "stream",
     "text": [
      "100%|██████████| 1000/1000 [00:09<00:00, 108.07it/s]\n"
     ]
    },
    {
     "name": "stdout",
     "output_type": "stream",
     "text": [
      "count     win    lose    draw\n",
      "o         896      11      93\n",
      "x         697      68     235\n",
      "total    1593      79     328\n",
      "\n",
      "ratio     win    lose    draw\n",
      "o       89.6%    1.1%    9.3%\n",
      "x       69.7%    6.8%   23.5%\n",
      "total   79.7%    4.0%   16.4%\n",
      "\n",
      "ai7 VS ai2s\n"
     ]
    },
    {
     "name": "stderr",
     "output_type": "stream",
     "text": [
      "100%|██████████| 1000/1000 [00:05<00:00, 170.71it/s]"
     ]
    },
    {
     "name": "stdout",
     "output_type": "stream",
     "text": [
      "count     win    lose    draw\n",
      "o         950       2      48\n",
      "x         827      30     143\n",
      "total    1777      32     191\n",
      "\n",
      "ratio     win    lose    draw\n",
      "o       95.0%    0.2%    4.8%\n",
      "x       82.7%    3.0%   14.3%\n",
      "total   88.8%    1.6%    9.6%\n",
      "\n"
     ]
    },
    {
     "name": "stderr",
     "output_type": "stream",
     "text": [
      "\n"
     ]
    }
   ],
   "source": [
    "import ai\n",
    "from ai import ai_match\n",
    "    \n",
    "for i in range(1, 8):\n",
    "    ai_i = getattr(ai, f\"ai{i}\")\n",
    "    ai_match(ai=[ai_i, ai.ai2s], match_num=1000)"
   ]
  },
  {
   "cell_type": "code",
   "execution_count": 2,
   "metadata": {},
   "outputs": [
    {
     "name": "stdout",
     "output_type": "stream",
     "text": [
      "ai1s VS ai2s\n"
     ]
    },
    {
     "name": "stderr",
     "output_type": "stream",
     "text": [
      "100%|██████████| 1000/1000 [00:06<00:00, 164.07it/s]\n"
     ]
    },
    {
     "name": "stdout",
     "output_type": "stream",
     "text": [
      "count     win    lose    draw\n",
      "o         764     190      46\n",
      "x         440     526      34\n",
      "total    1204     716      80\n",
      "\n",
      "ratio     win    lose    draw\n",
      "o       76.4%   19.0%    4.6%\n",
      "x       44.0%   52.6%    3.4%\n",
      "total   60.2%   35.8%    4.0%\n",
      "\n",
      "ai2s VS ai2s\n"
     ]
    },
    {
     "name": "stderr",
     "output_type": "stream",
     "text": [
      "100%|██████████| 1000/1000 [00:06<00:00, 147.85it/s]\n"
     ]
    },
    {
     "name": "stdout",
     "output_type": "stream",
     "text": [
      "count     win    lose    draw\n",
      "o         567     300     133\n",
      "x         311     559     130\n",
      "total     878     859     263\n",
      "\n",
      "ratio     win    lose    draw\n",
      "o       56.7%   30.0%   13.3%\n",
      "x       31.1%   55.9%   13.0%\n",
      "total   43.9%   43.0%   13.2%\n",
      "\n",
      "ai3s VS ai2s\n"
     ]
    },
    {
     "name": "stderr",
     "output_type": "stream",
     "text": [
      "100%|██████████| 1000/1000 [00:06<00:00, 144.43it/s]\n"
     ]
    },
    {
     "name": "stdout",
     "output_type": "stream",
     "text": [
      "count     win    lose    draw\n",
      "o         685     182     133\n",
      "x         412     471     117\n",
      "total    1097     653     250\n",
      "\n",
      "ratio     win    lose    draw\n",
      "o       68.5%   18.2%   13.3%\n",
      "x       41.2%   47.1%   11.7%\n",
      "total   54.9%   32.6%   12.5%\n",
      "\n",
      "ai4s VS ai2s\n"
     ]
    },
    {
     "name": "stderr",
     "output_type": "stream",
     "text": [
      "100%|██████████| 1000/1000 [00:06<00:00, 152.51it/s]\n"
     ]
    },
    {
     "name": "stdout",
     "output_type": "stream",
     "text": [
      "count     win    lose    draw\n",
      "o         832      97      71\n",
      "x         564     334     102\n",
      "total    1396     431     173\n",
      "\n",
      "ratio     win    lose    draw\n",
      "o       83.2%    9.7%    7.1%\n",
      "x       56.4%   33.4%   10.2%\n",
      "total   69.8%   21.6%    8.6%\n",
      "\n",
      "ai5s VS ai2s\n"
     ]
    },
    {
     "name": "stderr",
     "output_type": "stream",
     "text": [
      "100%|██████████| 1000/1000 [00:06<00:00, 150.70it/s]\n"
     ]
    },
    {
     "name": "stdout",
     "output_type": "stream",
     "text": [
      "count     win    lose    draw\n",
      "o         801     131      68\n",
      "x         535     381      84\n",
      "total    1336     512     152\n",
      "\n",
      "ratio     win    lose    draw\n",
      "o       80.1%   13.1%    6.8%\n",
      "x       53.5%   38.1%    8.4%\n",
      "total   66.8%   25.6%    7.6%\n",
      "\n",
      "ai6s VS ai2s\n"
     ]
    },
    {
     "name": "stderr",
     "output_type": "stream",
     "text": [
      "100%|██████████| 1000/1000 [00:07<00:00, 135.45it/s]\n"
     ]
    },
    {
     "name": "stdout",
     "output_type": "stream",
     "text": [
      "count     win    lose    draw\n",
      "o         901      11      88\n",
      "x         690      85     225\n",
      "total    1591      96     313\n",
      "\n",
      "ratio     win    lose    draw\n",
      "o       90.1%    1.1%    8.8%\n",
      "x       69.0%    8.5%   22.5%\n",
      "total   79.5%    4.8%   15.7%\n",
      "\n",
      "ai7s VS ai2s\n"
     ]
    },
    {
     "name": "stderr",
     "output_type": "stream",
     "text": [
      "100%|██████████| 1000/1000 [00:06<00:00, 148.10it/s]\n"
     ]
    },
    {
     "name": "stdout",
     "output_type": "stream",
     "text": [
      "count     win    lose    draw\n",
      "o         967       3      30\n",
      "x         805      34     161\n",
      "total    1772      37     191\n",
      "\n",
      "ratio     win    lose    draw\n",
      "o       96.7%    0.3%    3.0%\n",
      "x       80.5%    3.4%   16.1%\n",
      "total   88.6%    1.8%    9.6%\n",
      "\n",
      "ai8s VS ai2s\n"
     ]
    },
    {
     "name": "stderr",
     "output_type": "stream",
     "text": [
      "100%|██████████| 1000/1000 [00:07<00:00, 140.75it/s]\n"
     ]
    },
    {
     "name": "stdout",
     "output_type": "stream",
     "text": [
      "count     win    lose    draw\n",
      "o         982       1      17\n",
      "x         885      26      89\n",
      "total    1867      27     106\n",
      "\n",
      "ratio     win    lose    draw\n",
      "o       98.2%    0.1%    1.7%\n",
      "x       88.5%    2.6%    8.9%\n",
      "total   93.3%    1.4%    5.3%\n",
      "\n",
      "ai9s VS ai2s\n"
     ]
    },
    {
     "name": "stderr",
     "output_type": "stream",
     "text": [
      "100%|██████████| 1000/1000 [00:07<00:00, 132.77it/s]\n"
     ]
    },
    {
     "name": "stdout",
     "output_type": "stream",
     "text": [
      "count     win    lose    draw\n",
      "o         993       1       6\n",
      "x         874      30      96\n",
      "total    1867      31     102\n",
      "\n",
      "ratio     win    lose    draw\n",
      "o       99.3%    0.1%    0.6%\n",
      "x       87.4%    3.0%    9.6%\n",
      "total   93.3%    1.6%    5.1%\n",
      "\n",
      "ai10s VS ai2s\n"
     ]
    },
    {
     "name": "stderr",
     "output_type": "stream",
     "text": [
      "100%|██████████| 1000/1000 [00:07<00:00, 137.10it/s]\n"
     ]
    },
    {
     "name": "stdout",
     "output_type": "stream",
     "text": [
      "count     win    lose    draw\n",
      "o         974       0      26\n",
      "x         860      28     112\n",
      "total    1834      28     138\n",
      "\n",
      "ratio     win    lose    draw\n",
      "o       97.4%    0.0%    2.6%\n",
      "x       86.0%    2.8%   11.2%\n",
      "total   91.7%    1.4%    6.9%\n",
      "\n",
      "ai11s VS ai2s\n"
     ]
    },
    {
     "name": "stderr",
     "output_type": "stream",
     "text": [
      "100%|██████████| 1000/1000 [00:07<00:00, 142.71it/s]\n"
     ]
    },
    {
     "name": "stdout",
     "output_type": "stream",
     "text": [
      "count     win    lose    draw\n",
      "o         992       0       8\n",
      "x         875       6     119\n",
      "total    1867       6     127\n",
      "\n",
      "ratio     win    lose    draw\n",
      "o       99.2%    0.0%    0.8%\n",
      "x       87.5%    0.6%   11.9%\n",
      "total   93.3%    0.3%    6.3%\n",
      "\n",
      "ai12s VS ai2s\n"
     ]
    },
    {
     "name": "stderr",
     "output_type": "stream",
     "text": [
      "100%|██████████| 1000/1000 [00:06<00:00, 147.33it/s]\n"
     ]
    },
    {
     "name": "stdout",
     "output_type": "stream",
     "text": [
      "count     win    lose    draw\n",
      "o         986       0      14\n",
      "x         899       0     101\n",
      "total    1885       0     115\n",
      "\n",
      "ratio     win    lose    draw\n",
      "o       98.6%    0.0%    1.4%\n",
      "x       89.9%    0.0%   10.1%\n",
      "total   94.2%    0.0%    5.8%\n",
      "\n",
      "ai13s VS ai2s\n"
     ]
    },
    {
     "name": "stderr",
     "output_type": "stream",
     "text": [
      "100%|██████████| 1000/1000 [00:07<00:00, 133.52it/s]\n"
     ]
    },
    {
     "name": "stdout",
     "output_type": "stream",
     "text": [
      "count     win    lose    draw\n",
      "o         990       0      10\n",
      "x         883       0     117\n",
      "total    1873       0     127\n",
      "\n",
      "ratio     win    lose    draw\n",
      "o       99.0%    0.0%    1.0%\n",
      "x       88.3%    0.0%   11.7%\n",
      "total   93.7%    0.0%    6.3%\n",
      "\n",
      "ai14s VS ai2s\n"
     ]
    },
    {
     "name": "stderr",
     "output_type": "stream",
     "text": [
      "100%|██████████| 1000/1000 [00:08<00:00, 124.52it/s]"
     ]
    },
    {
     "name": "stdout",
     "output_type": "stream",
     "text": [
      "count     win    lose    draw\n",
      "o         989       0      11\n",
      "x         891       0     109\n",
      "total    1880       0     120\n",
      "\n",
      "ratio     win    lose    draw\n",
      "o       98.9%    0.0%    1.1%\n",
      "x       89.1%    0.0%   10.9%\n",
      "total   94.0%    0.0%    6.0%\n",
      "\n"
     ]
    },
    {
     "name": "stderr",
     "output_type": "stream",
     "text": [
      "\n"
     ]
    }
   ],
   "source": [
    "for i in range(1, 15):\n",
    "     ai_is = getattr(ai, f\"ai{i}s\")\n",
    "     ai_match(ai=[ai_is, ai.ai2s], match_num=1000)"
   ]
  },
  {
   "cell_type": "code",
   "execution_count": 3,
   "metadata": {},
   "outputs": [
    {
     "name": "stdout",
     "output_type": "stream",
     "text": [
      "ai_gt1 VS ai2s\n"
     ]
    },
    {
     "name": "stderr",
     "output_type": "stream",
     "text": [
      "100%|██████████| 1000/1000 [00:03<00:00, 309.15it/s]"
     ]
    },
    {
     "name": "stdout",
     "output_type": "stream",
     "text": [
      "count     win    lose    draw\n",
      "o         961       0      39\n",
      "x         784       0     216\n",
      "total    1745       0     255\n",
      "\n",
      "ratio     win    lose    draw\n",
      "o       96.1%    0.0%    3.9%\n",
      "x       78.4%    0.0%   21.6%\n",
      "total   87.2%    0.0%   12.8%\n",
      "\n"
     ]
    },
    {
     "name": "stderr",
     "output_type": "stream",
     "text": [
      "\n"
     ]
    }
   ],
   "source": [
    "from ai import ai_gt1\n",
    "from tree import Mbtree\n",
    "\n",
    "mbtree = Mbtree.load(\"../data/aidata\")\n",
    "ai_match(ai=[ai_gt1, ai.ai2s],\n",
    "    params=[{\"mbtree\": mbtree}, {}], match_num=1000)"
   ]
  },
  {
   "cell_type": "code",
   "execution_count": 4,
   "metadata": {},
   "outputs": [],
   "source": [
    "from marubatsu import Marubatsu_GUI\n",
    "import ipywidgets as widgets\n",
    "\n",
    "def create_dropdown(self):\n",
    "    # それぞれの手番の担当を表す Dropdown の項目の値を記録する list を初期化する\n",
    "    select_values = []\n",
    "    # 〇 と × の Dropdown を格納する list\n",
    "    self.dropdown_list = []\n",
    "    # ai に代入されている内容を ai_dict に追加する\n",
    "    for i in range(2):\n",
    "        value = ( self.mb.ai[i], self.params[i] )\n",
    "        # value を select_values に常に登録する\n",
    "        select_values.append(value)\n",
    "        # value が ai_values に登録済かどうかを判定する\n",
    "        if value not in self.ai_dict.values():\n",
    "            # 項目を登録する\n",
    "            self.ai_dict[self.names[i]] = value\n",
    "\n",
    "    for i in range(2):\n",
    "        # Dropdown の description を計算する\n",
    "        description = \"〇\" if i == 0 else \"×\"\n",
    "        self.dropdown_list.append(\n",
    "            widgets.Dropdown(\n",
    "                options=self.ai_dict,\n",
    "                description=description,\n",
    "                layout=widgets.Layout(width=\"100px\"),\n",
    "                style={\"description_width\": \"20px\"},\n",
    "                value=select_values[i],\n",
    "            )\n",
    "        ) \n",
    "            \n",
    "    self.status_dropdown = widgets.Dropdown(\n",
    "        options=self.ai_dict,\n",
    "        layout=widgets.Layout(width=\"100px\"),\n",
    "        style={\"description_width\": \"20px\"},\n",
    "        value=select_values[0],\n",
    "    )\n",
    "    \n",
    "Marubatsu_GUI.create_dropdown = create_dropdown"
   ]
  },
  {
   "cell_type": "code",
   "execution_count": null,
   "metadata": {},
   "outputs": [],
   "source": [
    "def display_widgets(self):\n",
    "    # 乱数の種のウィジェット、読み書き、ヘルプのボタンを横に配置した HBox を作成する\n",
    "    hbox1 = widgets.HBox([self.checkbox, self.inttext, self.load_button, self.save_button, \n",
    "                        self.show_tree_button, self.reset_tree_button, self.help_button])\n",
    "    # 状況ボタンとゲーム盤のサイズの変更の FloatSlider を配置した HBox を作成する\n",
    "    hbox2 = widgets.HBox([self.show_status_button, self.status_dropdown, self.size_slider])\n",
    "    # 〇 と × の dropdown とボタンを横に配置した HBox を作成する\n",
    "    hbox3 = widgets.HBox([self.dropdown_list[0], self.dropdown_list[1], self.change_button, self.reset_button, self.undo_button])\n",
    "    # リプレイ機能のボタンを横に配置した HBox を作成する\n",
    "    hbox4 = widgets.HBox([self.first_button, self.prev_button, self.next_button, self.last_button, self.slider]) \n",
    "    # hbox1 ~ hbox4、Figure、Output を縦に配置した VBox を作成し、表示する\n",
    "    display(widgets.VBox([hbox1, hbox2, hbox3, hbox4, self.fig.canvas, self.output, self.help]))\n",
    "\n",
    "Marubatsu_GUI.display_widgets = display_widgets"
   ]
  },
  {
   "cell_type": "code",
   "execution_count": 6,
   "metadata": {},
   "outputs": [],
   "source": [
    "from marubatsu import Marubatsu\n",
    "from copy import deepcopy\n",
    "\n",
    "def update_gui(self):\n",
    "    def calc_status_txt(score):\n",
    "        if score > 0:\n",
    "            return \"〇\"\n",
    "        elif score == 0:\n",
    "            return \"△\"\n",
    "        else:\n",
    "            return \"×\"\n",
    "    \n",
    "    ax = self.ax\n",
    "\n",
    "    # Axes の内容をクリアして、これまでの描画内容を削除する\n",
    "    ax.clear()\n",
    "\n",
    "    # y 軸を反転させる\n",
    "    ax.invert_yaxis()\n",
    "\n",
    "    # 枠と目盛りを表示しないようにする\n",
    "    ax.axis(\"off\")   \n",
    "\n",
    "    # リプレイ中、ゲームの決着がついていた場合は背景色を変更する\n",
    "    is_replay =  self.mb.move_count < len(self.mb.records) - 1 \n",
    "    if self.mb.status == Marubatsu.PLAYING:\n",
    "        facecolor = \"lightcyan\" if is_replay else \"white\"\n",
    "    else:\n",
    "        facecolor = \"lightyellow\"\n",
    "\n",
    "    ax.figure.set_facecolor(facecolor)\n",
    "        \n",
    "    # 上部のメッセージを描画する\n",
    "    # 対戦カードの文字列を計算する\n",
    "    ax.text(1.5, 3.5, f\"{self.dropdown_list[0].label}　VS　{self.dropdown_list[1].label}\", \n",
    "            fontsize=7*self.size, ha=\"center\")   \n",
    "\n",
    "    # ゲームの決着がついていない場合は、手番を表示する\n",
    "    if self.mb.status == Marubatsu.PLAYING:\n",
    "        text = \"Turn \" + self.mb.turn\n",
    "        score = self.score_table[self.mb.board_to_str()][\"score\"]\n",
    "        if self.show_status:\n",
    "            text += \" 状況 \" + calc_status_txt(score)\n",
    "    # 引き分けの場合\n",
    "    elif self.mb.status == Marubatsu.DRAW:\n",
    "        text = \"Draw game\"\n",
    "    # 決着がついていれば勝者を表示する\n",
    "    else:\n",
    "        text = \"Winner \" + self.mb.status\n",
    "    # リプレイ中の場合は \"Replay\" を表示する\n",
    "    if is_replay:\n",
    "        text += \" Replay\"\n",
    "    ax.text(1.5, -0.2, text, fontsize=7*self.size, ha=\"center\")\n",
    "\n",
    "    self.draw_board(ax, self.mb, lw=0.7*self.size)\n",
    "    \n",
    "    if self.show_status:\n",
    "        bestmoves = self.score_table[self.mb.board_to_str()][\"bestmoves\"]\n",
    "        ai, params = self.status_dropdown.value\n",
    "        if ai is not None:\n",
    "            analyze = ai(self.mb, analyze=True, **params)\n",
    "            score_by_move = analyze[\"score_by_move\"]\n",
    "            candidate = analyze[\"candidate\"]\n",
    "        for move in self.mb.calc_legal_moves():\n",
    "            x, y = move\n",
    "            mb = deepcopy(self.mb)\n",
    "            mb.move(x, y)\n",
    "            score = self.score_table[mb.board_to_str()][\"score\"]\n",
    "            color = \"red\" if move in bestmoves else \"black\"\n",
    "            text = calc_status_txt(score)\n",
    "            ax.text(x + 0.1, y + 0.35, text, fontsize=5*self.size, c=color)\n",
    "            if ai is not None:\n",
    "                if score_by_move is not None:\n",
    "                    color = \"red\" if move in candidate else \"black\"\n",
    "                    ax.text(x + 0.1, y + 0.65, score_by_move[move], fontsize=5*self.size, c=color)\n",
    "                elif move in candidate:\n",
    "                    ax.text(x + 0.1, y + 0.65, \"候補手\", fontsize=4.8*self.size)\n",
    "                \n",
    "    self.update_widgets_status()\n",
    "\n",
    "    if hasattr(self, \"mbtree_gui\"):\n",
    "        from tree import Node\n",
    "\n",
    "        self.mbtree_gui.selectednode = Node(self.mb, depth=self.mb.move_count)\n",
    "        self.mbtree_gui.update_gui()\n",
    "        \n",
    "Marubatsu_GUI.update_gui = update_gui"
   ]
  },
  {
   "cell_type": "code",
   "execution_count": 7,
   "metadata": {},
   "outputs": [],
   "source": [
    "import math\n",
    "\n",
    "def create_event_handler(self):\n",
    "    # 乱数の種のチェックボックスのイベントハンドラを定義する\n",
    "    def on_checkbox_changed(changed):\n",
    "        self.update_widgets_status()\n",
    "        \n",
    "    self.checkbox.observe(on_checkbox_changed, names=\"value\")\n",
    "\n",
    "    # 開く、保存ボタンのイベントハンドラを定義する\n",
    "    def on_load_button_clicked(b=None):\n",
    "        path = filedialog.askopenfilename(filetypes=[(\"〇×ゲーム\", \"*.mbsav\")],\n",
    "                                        initialdir=\"save\")\n",
    "        if path != \"\":\n",
    "            with open(path, \"rb\") as f:\n",
    "                data = pickle.load(f)\n",
    "                self.mb.records = data[\"records\"]\n",
    "                self.mb.ai = data[\"ai\"]\n",
    "                self.params = data[\"params\"] if \"params\" in data else [ {}, {} ]\n",
    "                if \"names\" in data:\n",
    "                    names = data[\"names\"]\n",
    "                else:\n",
    "                    names = [ \"人間\" if mb.ai[i] is None else mb.ai[i].__name__ for i in range(2)]                       \n",
    "                options = self.dropdown_list[0].options.copy()\n",
    "                for i in range(2):\n",
    "                    value = (self.mb.ai[i], self.params[i]) \n",
    "                    if not value in options.values():\n",
    "                        options[names[i]] = value\n",
    "                for i in range(2):\n",
    "                    self.dropdown_list[i].options = options\n",
    "                    self.dropdown_list[i].value = (self.mb.ai[i], self.params[i])            \n",
    "                change_step(data[\"move_count\"])\n",
    "                if data[\"seed\"] is not None:                   \n",
    "                    self.checkbox.value = True\n",
    "                    self.inttext.value = data[\"seed\"]\n",
    "                else:\n",
    "                    self.checkbox.value = False\n",
    "                    \n",
    "    def on_save_button_clicked(b=None):\n",
    "        names = [ self.dropdown_list[i].label for i in range(2) ]     \n",
    "        timestr = datetime.now().strftime(\"%Y年%m月%d日 %H時%M分%S秒\")\n",
    "        fname = f\"{names[0]} VS {names[1]} {timestr}\"\n",
    "        path = filedialog.asksaveasfilename(filetypes=[(\"〇×ゲーム\", \"*.mbsav\")],\n",
    "                                            initialdir=\"save\", initialfile=fname,\n",
    "                                            defaultextension=\"mbsav\")\n",
    "        if path != \"\":\n",
    "            with open(path, \"wb\") as f:\n",
    "                data = {\n",
    "                    \"records\": self.mb.records,\n",
    "                    \"move_count\": self.mb.move_count,\n",
    "                    \"ai\": self.mb.ai,\n",
    "                    \"params\": self.params,\n",
    "                    \"names\": names,\n",
    "                    \"seed\": self.inttext.value if self.checkbox.value else None\n",
    "                }\n",
    "                pickle.dump(data, f)\n",
    "                \n",
    "    def on_show_tree_button_clicked(b=None):\n",
    "        self.show_subtree = not self.show_subtree\n",
    "        self.mbtree_gui.vbox.layout.display = None if self.show_subtree else \"none\"\n",
    "        self.update_gui()\n",
    "        \n",
    "    def on_reset_tree_button_clicked(b=None):\n",
    "        self.update_gui()\n",
    "                \n",
    "    def on_help_button_clicked(b=None):\n",
    "        self.help.layout.display = \"none\" if self.help.layout.display is None else None\n",
    "\n",
    "    self.load_button.on_click(on_load_button_clicked)\n",
    "    self.save_button.on_click(on_save_button_clicked)\n",
    "    self.show_tree_button.on_click(on_show_tree_button_clicked)\n",
    "    self.reset_tree_button.on_click(on_reset_tree_button_clicked)\n",
    "    self.help_button.on_click(on_help_button_clicked)\n",
    "    \n",
    "    def on_show_status_button_clicked(b=None):\n",
    "        self.show_status = not self.show_status\n",
    "        self.update_gui()\n",
    "\n",
    "    def on_status_dropdown_changed(changed):\n",
    "        self.update_gui()\n",
    "\n",
    "    def on_size_slider_changed(changed):\n",
    "        self.size = changed[\"new\"]\n",
    "        self.fig.set_figwidth(self.size)\n",
    "        self.fig.set_figheight(self.size)\n",
    "        self.update_gui()\n",
    "\n",
    "    self.show_status_button.on_click(on_show_status_button_clicked)\n",
    "    self.status_dropdown.observe(on_status_dropdown_changed, names=\"value\")\n",
    "    self.size_slider.observe(on_size_slider_changed, names=\"value\")\n",
    "\n",
    "    # 変更ボタンのイベントハンドラを定義する\n",
    "    def on_change_button_clicked(b):\n",
    "        for i in range(2):\n",
    "            self.mb.ai[i], self.params[i] = self.dropdown_list[i].value\n",
    "        self.mb.play_loop(self, self.params)\n",
    "\n",
    "    # リセットボタンのイベントハンドラを定義する\n",
    "    def on_reset_button_clicked(b=None):\n",
    "        # 乱数の種のチェックボックスが ON の場合に、乱数の種の処理を行う\n",
    "        if self.checkbox.value:\n",
    "            random.seed(self.inttext.value)\n",
    "        self.mb.restart()\n",
    "        self.output.clear_output()\n",
    "        on_change_button_clicked(b)\n",
    "\n",
    "    # 待ったボタンのイベントハンドラを定義する\n",
    "    def on_undo_button_clicked(b=None):\n",
    "        if self.mb.move_count >= 2 and self.mb.move_count == len(self.mb.records) - 1:\n",
    "            self.mb.move_count -= 2\n",
    "            self.mb.records = self.mb.records[0:self.mb.move_count+1]\n",
    "            self.mb.change_step(self.mb.move_count)\n",
    "            self.update_gui()\n",
    "        \n",
    "    # イベントハンドラをボタンに結びつける\n",
    "    self.change_button.on_click(on_change_button_clicked)\n",
    "    self.reset_button.on_click(on_reset_button_clicked)   \n",
    "    self.undo_button.on_click(on_undo_button_clicked)   \n",
    "\n",
    "    # step 手目の局面に移動する\n",
    "    def change_step(step):\n",
    "        self.mb.change_step(step)\n",
    "        # 描画を更新する\n",
    "        self.update_gui()        \n",
    "\n",
    "    def on_first_button_clicked(b=None):\n",
    "        change_step(0)\n",
    "\n",
    "    def on_prev_button_clicked(b=None):\n",
    "        change_step(self.mb.move_count - 1)\n",
    "\n",
    "    def on_next_button_clicked(b=None):\n",
    "        change_step(self.mb.move_count + 1)\n",
    "        \n",
    "    def on_last_button_clicked(b=None):\n",
    "        change_step(len(self.mb.records) - 1)\n",
    "\n",
    "    def on_slider_changed(changed):\n",
    "        if self.mb.move_count != changed[\"new\"]:\n",
    "            change_step(changed[\"new\"])\n",
    "        \n",
    "    self.first_button.on_click(on_first_button_clicked)\n",
    "    self.prev_button.on_click(on_prev_button_clicked)\n",
    "    self.next_button.on_click(on_next_button_clicked)\n",
    "    self.last_button.on_click(on_last_button_clicked)\n",
    "    self.slider.observe(on_slider_changed, names=\"value\")\n",
    "\n",
    "    # ゲーム盤の上でマウスを押した場合のイベントハンドラ\n",
    "    def on_mouse_down(event):\n",
    "        # Axes の上でマウスを押していた場合のみ処理を行う\n",
    "        if event.inaxes and self.mb.status == Marubatsu.PLAYING:\n",
    "            x = math.floor(event.xdata)\n",
    "            y = math.floor(event.ydata)\n",
    "            with self.output:\n",
    "                self.mb.move(x, y)                \n",
    "            # 次の手番の処理を行うメソッドを呼び出す\n",
    "                self.mb.play_loop(self, self.params)\n",
    "\n",
    "    # ゲーム盤を選択した状態でキーを押した場合のイベントハンドラ\n",
    "    def on_key_press(event):\n",
    "        keymap = {\n",
    "            \"up\": on_first_button_clicked,\n",
    "            \"left\": on_prev_button_clicked,\n",
    "            \"right\": on_next_button_clicked,\n",
    "            \"down\": on_last_button_clicked,\n",
    "            \"0\": on_undo_button_clicked,\n",
    "            \"enter\": on_reset_button_clicked,            \n",
    "            \"-\": on_load_button_clicked,            \n",
    "            \"l\": on_load_button_clicked,            \n",
    "            \"+\": on_save_button_clicked,            \n",
    "            \"s\": on_save_button_clicked,            \n",
    "            \"*\": on_help_button_clicked,            \n",
    "            \"h\": on_help_button_clicked,            \n",
    "        }\n",
    "        if event.key in keymap:\n",
    "            keymap[event.key]()\n",
    "        else:\n",
    "            try:\n",
    "                num = int(event.key) - 1\n",
    "                event.inaxes = True\n",
    "                event.xdata = num % 3\n",
    "                event.ydata = 2 - (num // 3)\n",
    "                on_mouse_down(event)\n",
    "            except:\n",
    "                pass\n",
    "            \n",
    "    # fig の画像イベントハンドラを結び付ける\n",
    "    self.fig.canvas.mpl_connect(\"button_press_event\", on_mouse_down)     \n",
    "    self.fig.canvas.mpl_connect(\"key_press_event\", on_key_press)  \n",
    "\n",
    "Marubatsu_GUI.create_event_handler = create_event_handler"
   ]
  },
  {
   "cell_type": "code",
   "execution_count": 8,
   "metadata": {},
   "outputs": [
    {
     "data": {
      "application/vnd.jupyter.widget-view+json": {
       "model_id": "d8ffc81fd17f4e2a9c1edc9c13aac641",
       "version_major": 2,
       "version_minor": 0
      },
      "text/plain": [
       "VBox(children=(HBox(children=(Checkbox(value=False, description='乱数の種', indent=False, layout=Layout(width='100…"
      ]
     },
     "metadata": {},
     "output_type": "display_data"
    },
    {
     "data": {
      "application/vnd.jupyter.widget-view+json": {
       "model_id": "ff29aa4ded3c4fed833fea01f951982a",
       "version_major": 2,
       "version_minor": 0
      },
      "text/plain": [
       "VBox(children=(Output(layout=Layout(display='none')), HBox(children=(Label(value='', layout=Layout(width='50px…"
      ]
     },
     "metadata": {},
     "output_type": "display_data"
    }
   ],
   "source": [
    "from util import gui_play\n",
    "\n",
    "gui_play()"
   ]
  },
  {
   "cell_type": "code",
   "execution_count": null,
   "metadata": {},
   "outputs": [],
   "source": []
  }
 ],
 "metadata": {
  "kernelspec": {
   "display_name": "marubatsu",
   "language": "python",
   "name": "python3"
  },
  "language_info": {
   "codemirror_mode": {
    "name": "ipython",
    "version": 3
   },
   "file_extension": ".py",
   "mimetype": "text/x-python",
   "name": "python",
   "nbconvert_exporter": "python",
   "pygments_lexer": "ipython3",
   "version": "3.11.4"
  }
 },
 "nbformat": 4,
 "nbformat_minor": 2
}
