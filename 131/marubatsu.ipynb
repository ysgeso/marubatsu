{
 "cells": [
  {
   "cell_type": "code",
   "execution_count": 1,
   "metadata": {},
   "outputs": [],
   "source": [
    "from ai import dprint\n",
    "from functools import wraps\n",
    "from copy import deepcopy\n",
    "from random import choice\n",
    "\n",
    "def ai_by_score(eval_func):\n",
    "    @wraps(eval_func)\n",
    "    def wrapper(mb_orig, debug=False, rand=True, analyze=False):\n",
    "        dprint(debug, \"Start ai_by_score\")\n",
    "        dprint(debug, mb_orig)\n",
    "        legal_moves = mb_orig.calc_legal_moves()\n",
    "        dprint(debug, \"legal_moves\", legal_moves)\n",
    "        best_score = float(\"-inf\")\n",
    "        best_moves = []\n",
    "        if analyze:\n",
    "            score_by_move = {}\n",
    "        for move in legal_moves:\n",
    "            dprint(debug, \"=\" * 20)\n",
    "            dprint(debug, \"move\", move)\n",
    "            mb = deepcopy(mb_orig)\n",
    "            x, y = move\n",
    "            mb.move(x, y)\n",
    "            dprint(debug, mb)\n",
    "            \n",
    "            score = eval_func(mb)\n",
    "            dprint(debug, \"score\", score, \"best score\", best_score)\n",
    "            if analyze:\n",
    "                score_by_move[move] = score\n",
    "            \n",
    "            if best_score < score:\n",
    "                best_score = score\n",
    "                best_moves = [move]\n",
    "                dprint(debug, \"UPDATE\")\n",
    "                dprint(debug, \"  best score\", best_score)\n",
    "                dprint(debug, \"  best moves\", best_moves)\n",
    "            elif best_score == score:\n",
    "                best_moves.append(move)\n",
    "                dprint(debug, \"APPEND\")\n",
    "                dprint(debug, \"  best moves\", best_moves)\n",
    "\n",
    "        dprint(debug, \"=\" * 20)\n",
    "        dprint(debug, \"Finished\")\n",
    "        dprint(debug, \"best score\", best_score)\n",
    "        dprint(debug, \"best moves\", best_moves)\n",
    "        if analyze:\n",
    "            return {\n",
    "                \"candidate\": best_moves,\n",
    "                \"score_by_move\": score_by_move,\n",
    "            }\n",
    "        elif rand:   \n",
    "            return choice(best_moves)\n",
    "        else:\n",
    "            return best_moves[0]\n",
    "        \n",
    "    return wrapper"
   ]
  },
  {
   "cell_type": "code",
   "execution_count": 2,
   "metadata": {},
   "outputs": [],
   "source": [
    "from marubatsu import Marubatsu, Markpat\n",
    "from pprint import pprint\n",
    "\n",
    "@ai_by_score\n",
    "def ai11s(mb):      \n",
    "    # 真ん中のマスに着手している場合は、評価値として 300 を返す\n",
    "    if mb.last_move == (1, 1):\n",
    "        return 300\n",
    "\n",
    "    # 自分が勝利している場合は、評価値として 200 を返す\n",
    "    if mb.status == mb.last_turn:\n",
    "        return 200\n",
    "\n",
    "    markpats = mb.count_markpats()\n",
    "    if debug:\n",
    "        pprint(markpats)\n",
    "    # 相手が勝利できる場合は評価値として -100 を返す\n",
    "    if markpats[Markpat(last_turn=0, turn=2, empty=1)] > 0:\n",
    "        return -100\n",
    "    # 次の自分の手番で自分が必ず勝利できる場合は評価値として 100 を返す\n",
    "    elif markpats[Markpat(last_turn=2, turn=0, empty=1)] >= 2:\n",
    "        return 100\n",
    "\n",
    "    # 評価値の合計を計算する変数を 0 で初期化する\n",
    "    score = 0        \n",
    "    # 次の自分の手番で自分が勝利できる場合は評価値に score_201 を加算する\n",
    "    if markpats[Markpat(last_turn=2, turn=0, empty=1)] == 1:\n",
    "        score += score_201\n",
    "    # 「自 1 敵 0 空 2」1 つあたり score_102 だけ、評価値を加算する\n",
    "    score += markpats[Markpat(last_turn=1, turn=0, empty=2)] * score_102\n",
    "    # 「自 0 敵 1 空 2」1 つあたり score_201 だけ、評価値を減算する\n",
    "    score += markpats[Markpat(last_turn=0, turn=1, empty=2)] * score_012\n",
    "    \n",
    "    # 計算した評価値を返す\n",
    "    return score"
   ]
  },
  {
   "cell_type": "code",
   "execution_count": 3,
   "metadata": {},
   "outputs": [
    {
     "ename": "NameError",
     "evalue": "name 'debug' is not defined",
     "output_type": "error",
     "traceback": [
      "\u001b[1;31m---------------------------------------------------------------------------\u001b[0m",
      "\u001b[1;31mNameError\u001b[0m                                 Traceback (most recent call last)",
      "Cell \u001b[1;32mIn[3], line 2\u001b[0m\n\u001b[0;32m      1\u001b[0m mb \u001b[38;5;241m=\u001b[39m Marubatsu()\n\u001b[1;32m----> 2\u001b[0m \u001b[38;5;28mprint\u001b[39m(ai11s(mb))\n",
      "Cell \u001b[1;32mIn[1], line 25\u001b[0m, in \u001b[0;36mai_by_score.<locals>.wrapper\u001b[1;34m(mb_orig, debug, rand, analyze)\u001b[0m\n\u001b[0;32m     22\u001b[0m mb\u001b[38;5;241m.\u001b[39mmove(x, y)\n\u001b[0;32m     23\u001b[0m dprint(debug, mb)\n\u001b[1;32m---> 25\u001b[0m score \u001b[38;5;241m=\u001b[39m eval_func(mb)\n\u001b[0;32m     26\u001b[0m dprint(debug, \u001b[38;5;124m\"\u001b[39m\u001b[38;5;124mscore\u001b[39m\u001b[38;5;124m\"\u001b[39m, score, \u001b[38;5;124m\"\u001b[39m\u001b[38;5;124mbest score\u001b[39m\u001b[38;5;124m\"\u001b[39m, best_score)\n\u001b[0;32m     27\u001b[0m \u001b[38;5;28;01mif\u001b[39;00m analyze:\n",
      "Cell \u001b[1;32mIn[2], line 15\u001b[0m, in \u001b[0;36mai11s\u001b[1;34m(mb)\u001b[0m\n\u001b[0;32m     12\u001b[0m     \u001b[38;5;28;01mreturn\u001b[39;00m \u001b[38;5;241m200\u001b[39m\n\u001b[0;32m     14\u001b[0m markpats \u001b[38;5;241m=\u001b[39m mb\u001b[38;5;241m.\u001b[39mcount_markpats()\n\u001b[1;32m---> 15\u001b[0m \u001b[38;5;28;01mif\u001b[39;00m debug:\n\u001b[0;32m     16\u001b[0m     pprint(markpats)\n\u001b[0;32m     17\u001b[0m \u001b[38;5;66;03m# 相手が勝利できる場合は評価値として -100 を返す\u001b[39;00m\n",
      "\u001b[1;31mNameError\u001b[0m: name 'debug' is not defined"
     ]
    }
   ],
   "source": [
    "mb = Marubatsu()\n",
    "print(ai11s(mb))"
   ]
  },
  {
   "cell_type": "code",
   "execution_count": 4,
   "metadata": {},
   "outputs": [],
   "source": [
    "def ai_by_score(eval_func):\n",
    "    @wraps(eval_func)\n",
    "    def wrapper(mb_orig, debug=False, rand=True, analyze=False):\n",
    "        dprint(debug, \"Start ai_by_score\")\n",
    "        dprint(debug, mb_orig)\n",
    "        legal_moves = mb_orig.calc_legal_moves()\n",
    "        dprint(debug, \"legal_moves\", legal_moves)\n",
    "        best_score = float(\"-inf\")\n",
    "        best_moves = []\n",
    "        if analyze:\n",
    "            score_by_move = {}\n",
    "        for move in legal_moves:\n",
    "            dprint(debug, \"=\" * 20)\n",
    "            dprint(debug, \"move\", move)\n",
    "            mb = deepcopy(mb_orig)\n",
    "            x, y = move\n",
    "            mb.move(x, y)\n",
    "            dprint(debug, mb)\n",
    "            \n",
    "            score = eval_func(mb, debug=debug)\n",
    "            dprint(debug, \"score\", score, \"best score\", best_score)\n",
    "            if analyze:\n",
    "                score_by_move[move] = score\n",
    "            \n",
    "            if best_score < score:\n",
    "                best_score = score\n",
    "                best_moves = [move]\n",
    "                dprint(debug, \"UPDATE\")\n",
    "                dprint(debug, \"  best score\", best_score)\n",
    "                dprint(debug, \"  best moves\", best_moves)\n",
    "            elif best_score == score:\n",
    "                best_moves.append(move)\n",
    "                dprint(debug, \"APPEND\")\n",
    "                dprint(debug, \"  best moves\", best_moves)\n",
    "\n",
    "        dprint(debug, \"=\" * 20)\n",
    "        dprint(debug, \"Finished\")\n",
    "        dprint(debug, \"best score\", best_score)\n",
    "        dprint(debug, \"best moves\", best_moves)\n",
    "        if analyze:\n",
    "            return {\n",
    "                \"candidate\": best_moves,\n",
    "                \"score_by_move\": score_by_move,\n",
    "            }\n",
    "        elif rand:   \n",
    "            return choice(best_moves)\n",
    "        else:\n",
    "            return best_moves[0]\n",
    "        \n",
    "    return wrapper"
   ]
  },
  {
   "cell_type": "code",
   "execution_count": 5,
   "metadata": {},
   "outputs": [],
   "source": [
    "@ai_by_score\n",
    "def ai11s(mb, debug=False):      \n",
    "    # 真ん中のマスに着手している場合は、評価値として 300 を返す\n",
    "    if mb.last_move == (1, 1):\n",
    "        return 300\n",
    "\n",
    "    # 自分が勝利している場合は、評価値として 200 を返す\n",
    "    if mb.status == mb.last_turn:\n",
    "        return 200\n",
    "\n",
    "    markpats = mb.count_markpats()\n",
    "    if debug:\n",
    "        pprint(markpats)\n",
    "    # 相手が勝利できる場合は評価値として -100 を返す\n",
    "    if markpats[Markpat(last_turn=0, turn=2, empty=1)] > 0:\n",
    "        return -100\n",
    "    # 次の自分の手番で自分が必ず勝利できる場合は評価値として 100 を返す\n",
    "    elif markpats[Markpat(last_turn=2, turn=0, empty=1)] >= 2:\n",
    "        return 100\n",
    "\n",
    "    # 評価値の合計を計算する変数を 0 で初期化する\n",
    "    score = 0        \n",
    "    # 次の自分の手番で自分が勝利できる場合は評価値に score_201 を加算する\n",
    "    if markpats[Markpat(last_turn=2, turn=0, empty=1)] == 1:\n",
    "        score += score_201\n",
    "    # 「自 1 敵 0 空 2」1 つあたり score_102 だけ、評価値を加算する\n",
    "    score += markpats[Markpat(last_turn=1, turn=0, empty=2)] * score_102\n",
    "    # 「自 0 敵 1 空 2」1 つあたり score_201 だけ、評価値を減算する\n",
    "    score += markpats[Markpat(last_turn=0, turn=1, empty=2)] * score_012\n",
    "    \n",
    "    # 計算した評価値を返す\n",
    "    return score"
   ]
  },
  {
   "cell_type": "code",
   "execution_count": 6,
   "metadata": {},
   "outputs": [
    {
     "ename": "NameError",
     "evalue": "name 'score_102' is not defined",
     "output_type": "error",
     "traceback": [
      "\u001b[1;31m---------------------------------------------------------------------------\u001b[0m",
      "\u001b[1;31mNameError\u001b[0m                                 Traceback (most recent call last)",
      "Cell \u001b[1;32mIn[6], line 1\u001b[0m\n\u001b[1;32m----> 1\u001b[0m \u001b[38;5;28mprint\u001b[39m(ai11s(mb))\n",
      "Cell \u001b[1;32mIn[4], line 20\u001b[0m, in \u001b[0;36mai_by_score.<locals>.wrapper\u001b[1;34m(mb_orig, debug, rand, analyze)\u001b[0m\n\u001b[0;32m     17\u001b[0m mb\u001b[38;5;241m.\u001b[39mmove(x, y)\n\u001b[0;32m     18\u001b[0m dprint(debug, mb)\n\u001b[1;32m---> 20\u001b[0m score \u001b[38;5;241m=\u001b[39m eval_func(mb, debug\u001b[38;5;241m=\u001b[39mdebug)\n\u001b[0;32m     21\u001b[0m dprint(debug, \u001b[38;5;124m\"\u001b[39m\u001b[38;5;124mscore\u001b[39m\u001b[38;5;124m\"\u001b[39m, score, \u001b[38;5;124m\"\u001b[39m\u001b[38;5;124mbest score\u001b[39m\u001b[38;5;124m\"\u001b[39m, best_score)\n\u001b[0;32m     22\u001b[0m \u001b[38;5;28;01mif\u001b[39;00m analyze:\n",
      "Cell \u001b[1;32mIn[5], line 27\u001b[0m, in \u001b[0;36mai11s\u001b[1;34m(mb, debug)\u001b[0m\n\u001b[0;32m     25\u001b[0m     score \u001b[38;5;241m+\u001b[39m\u001b[38;5;241m=\u001b[39m score_201\n\u001b[0;32m     26\u001b[0m \u001b[38;5;66;03m# 「自 1 敵 0 空 2」1 つあたり score_102 だけ、評価値を加算する\u001b[39;00m\n\u001b[1;32m---> 27\u001b[0m score \u001b[38;5;241m+\u001b[39m\u001b[38;5;241m=\u001b[39m markpats[Markpat(last_turn\u001b[38;5;241m=\u001b[39m\u001b[38;5;241m1\u001b[39m, turn\u001b[38;5;241m=\u001b[39m\u001b[38;5;241m0\u001b[39m, empty\u001b[38;5;241m=\u001b[39m\u001b[38;5;241m2\u001b[39m)] \u001b[38;5;241m*\u001b[39m score_102\n\u001b[0;32m     28\u001b[0m \u001b[38;5;66;03m# 「自 0 敵 1 空 2」1 つあたり score_201 だけ、評価値を減算する\u001b[39;00m\n\u001b[0;32m     29\u001b[0m score \u001b[38;5;241m+\u001b[39m\u001b[38;5;241m=\u001b[39m markpats[Markpat(last_turn\u001b[38;5;241m=\u001b[39m\u001b[38;5;241m0\u001b[39m, turn\u001b[38;5;241m=\u001b[39m\u001b[38;5;241m1\u001b[39m, empty\u001b[38;5;241m=\u001b[39m\u001b[38;5;241m2\u001b[39m)] \u001b[38;5;241m*\u001b[39m score_012\n",
      "\u001b[1;31mNameError\u001b[0m: name 'score_102' is not defined"
     ]
    }
   ],
   "source": [
    "print(ai11s(mb))"
   ]
  },
  {
   "cell_type": "code",
   "execution_count": 7,
   "metadata": {},
   "outputs": [],
   "source": [
    "def ai_by_score(eval_func):\n",
    "    @wraps(eval_func)\n",
    "    def wrapper(mb_orig, debug=False, rand=True, analyze=False, *args, **kwargs):\n",
    "        dprint(debug, \"Start ai_by_score\")\n",
    "        dprint(debug, mb_orig)\n",
    "        legal_moves = mb_orig.calc_legal_moves()\n",
    "        dprint(debug, \"legal_moves\", legal_moves)\n",
    "        best_score = float(\"-inf\")\n",
    "        best_moves = []\n",
    "        if analyze:\n",
    "            score_by_move = {}\n",
    "        for move in legal_moves:\n",
    "            dprint(debug, \"=\" * 20)\n",
    "            dprint(debug, \"move\", move)\n",
    "            mb = deepcopy(mb_orig)\n",
    "            x, y = move\n",
    "            mb.move(x, y)\n",
    "            dprint(debug, mb)\n",
    "            \n",
    "            score = eval_func(mb, debug, *args, **kwargs)\n",
    "            dprint(debug, \"score\", score, \"best score\", best_score)\n",
    "            if analyze:\n",
    "                score_by_move[move] = score\n",
    "            \n",
    "            if best_score < score:\n",
    "                best_score = score\n",
    "                best_moves = [move]\n",
    "                dprint(debug, \"UPDATE\")\n",
    "                dprint(debug, \"  best score\", best_score)\n",
    "                dprint(debug, \"  best moves\", best_moves)\n",
    "            elif best_score == score:\n",
    "                best_moves.append(move)\n",
    "                dprint(debug, \"APPEND\")\n",
    "                dprint(debug, \"  best moves\", best_moves)\n",
    "\n",
    "        dprint(debug, \"=\" * 20)\n",
    "        dprint(debug, \"Finished\")\n",
    "        dprint(debug, \"best score\", best_score)\n",
    "        dprint(debug, \"best moves\", best_moves)\n",
    "        if analyze:\n",
    "            return {\n",
    "                \"candidate\": best_moves,\n",
    "                \"score_by_move\": score_by_move,\n",
    "            }\n",
    "        elif rand:   \n",
    "            return choice(best_moves)\n",
    "        else:\n",
    "            return best_moves[0]\n",
    "        \n",
    "    return wrapper"
   ]
  },
  {
   "cell_type": "code",
   "execution_count": 8,
   "metadata": {},
   "outputs": [],
   "source": [
    "@ai_by_score\n",
    "def ai11s(mb, debug=False, score_201=2, score_102=0.5, score_012=-1):      \n",
    "    # 真ん中のマスに着手している場合は、評価値として 300 を返す\n",
    "    if mb.last_move == (1, 1):\n",
    "        return 300\n",
    "\n",
    "    # 自分が勝利している場合は、評価値として 200 を返す\n",
    "    if mb.status == mb.last_turn:\n",
    "        return 200\n",
    "\n",
    "    markpats = mb.count_markpats()\n",
    "    if debug:\n",
    "        pprint(markpats)\n",
    "    # 相手が勝利できる場合は評価値として -100 を返す\n",
    "    if markpats[Markpat(last_turn=0, turn=2, empty=1)] > 0:\n",
    "        return -100\n",
    "    # 次の自分の手番で自分が必ず勝利できる場合は評価値として 100 を返す\n",
    "    elif markpats[Markpat(last_turn=2, turn=0, empty=1)] >= 2:\n",
    "        return 100\n",
    "\n",
    "    # 評価値の合計を計算する変数を 0 で初期化する\n",
    "    score = 0        \n",
    "    # 次の自分の手番で自分が勝利できる場合は評価値に score_201 を加算する\n",
    "    if markpats[Markpat(last_turn=2, turn=0, empty=1)] == 1:\n",
    "        score += score_201\n",
    "    # 「自 1 敵 0 空 2」1 つあたり score_102 だけ、評価値を加算する\n",
    "    score += markpats[Markpat(last_turn=1, turn=0, empty=2)] * score_102\n",
    "    # 「自 0 敵 1 空 2」1 つあたり score_201 だけ、評価値を減算する\n",
    "    score += markpats[Markpat(last_turn=0, turn=1, empty=2)] * score_012\n",
    "    \n",
    "    # 計算した評価値を返す\n",
    "    return score"
   ]
  },
  {
   "cell_type": "code",
   "execution_count": 9,
   "metadata": {},
   "outputs": [
    {
     "name": "stdout",
     "output_type": "stream",
     "text": [
      "(1, 1)\n"
     ]
    }
   ],
   "source": [
    "print(ai11s(mb))"
   ]
  },
  {
   "cell_type": "code",
   "execution_count": 10,
   "metadata": {},
   "outputs": [
    {
     "name": "stdout",
     "output_type": "stream",
     "text": [
      "Start ai_by_score\n",
      "Turn o\n",
      "...\n",
      "...\n",
      "...\n",
      "\n",
      "legal_moves [(0, 0), (1, 0), (2, 0), (0, 1), (1, 1), (2, 1), (0, 2), (1, 2), (2, 2)]\n",
      "====================\n",
      "move (0, 0)\n",
      "Turn x\n",
      "O..\n",
      "...\n",
      "...\n",
      "\n",
      "defaultdict(<class 'int'>,\n",
      "            {Markpat(last_turn=0, turn=0, empty=3): 5,\n",
      "             Markpat(last_turn=1, turn=0, empty=2): 3})\n",
      "score 1.5 best score -inf\n",
      "UPDATE\n",
      "  best score 1.5\n",
      "  best moves [(0, 0)]\n",
      "====================\n",
      "move (1, 0)\n",
      "Turn x\n",
      ".O.\n",
      "...\n",
      "...\n",
      "\n",
      "defaultdict(<class 'int'>,\n",
      "            {Markpat(last_turn=0, turn=0, empty=3): 6,\n",
      "             Markpat(last_turn=1, turn=0, empty=2): 2})\n",
      "score 1.0 best score 1.5\n",
      "====================\n",
      "move (2, 0)\n",
      "Turn x\n",
      "..O\n",
      "...\n",
      "...\n",
      "\n",
      "defaultdict(<class 'int'>,\n",
      "            {Markpat(last_turn=0, turn=0, empty=3): 5,\n",
      "             Markpat(last_turn=1, turn=0, empty=2): 3})\n",
      "score 1.5 best score 1.5\n",
      "APPEND\n",
      "  best moves [(0, 0), (2, 0)]\n",
      "====================\n",
      "move (0, 1)\n",
      "Turn x\n",
      "...\n",
      "O..\n",
      "...\n",
      "\n",
      "defaultdict(<class 'int'>,\n",
      "            {Markpat(last_turn=0, turn=0, empty=3): 6,\n",
      "             Markpat(last_turn=1, turn=0, empty=2): 2})\n",
      "score 1.0 best score 1.5\n",
      "====================\n",
      "move (1, 1)\n",
      "Turn x\n",
      "...\n",
      ".O.\n",
      "...\n",
      "\n",
      "score 300 best score 1.5\n",
      "UPDATE\n",
      "  best score 300\n",
      "  best moves [(1, 1)]\n",
      "====================\n",
      "move (2, 1)\n",
      "Turn x\n",
      "...\n",
      "..O\n",
      "...\n",
      "\n",
      "defaultdict(<class 'int'>,\n",
      "            {Markpat(last_turn=0, turn=0, empty=3): 6,\n",
      "             Markpat(last_turn=1, turn=0, empty=2): 2})\n",
      "score 1.0 best score 300\n",
      "====================\n",
      "move (0, 2)\n",
      "Turn x\n",
      "...\n",
      "...\n",
      "O..\n",
      "\n",
      "defaultdict(<class 'int'>,\n",
      "            {Markpat(last_turn=0, turn=0, empty=3): 5,\n",
      "             Markpat(last_turn=1, turn=0, empty=2): 3})\n",
      "score 1.5 best score 300\n",
      "====================\n",
      "move (1, 2)\n",
      "Turn x\n",
      "...\n",
      "...\n",
      ".O.\n",
      "\n",
      "defaultdict(<class 'int'>,\n",
      "            {Markpat(last_turn=0, turn=0, empty=3): 6,\n",
      "             Markpat(last_turn=1, turn=0, empty=2): 2})\n",
      "score 1.0 best score 300\n",
      "====================\n",
      "move (2, 2)\n",
      "Turn x\n",
      "...\n",
      "...\n",
      "..O\n",
      "\n",
      "defaultdict(<class 'int'>,\n",
      "            {Markpat(last_turn=0, turn=0, empty=3): 5,\n",
      "             Markpat(last_turn=1, turn=0, empty=2): 3})\n",
      "score 1.5 best score 300\n",
      "====================\n",
      "Finished\n",
      "best score 300\n",
      "best moves [(1, 1)]\n",
      "(1, 1)\n"
     ]
    }
   ],
   "source": [
    "print(ai11s(mb, debug=True))"
   ]
  },
  {
   "cell_type": "code",
   "execution_count": 11,
   "metadata": {},
   "outputs": [
    {
     "name": "stdout",
     "output_type": "stream",
     "text": [
      "(1, 1)\n"
     ]
    }
   ],
   "source": [
    "print(ai11s(mb, rand=False))"
   ]
  },
  {
   "cell_type": "code",
   "execution_count": 12,
   "metadata": {},
   "outputs": [
    {
     "name": "stdout",
     "output_type": "stream",
     "text": [
      "{'candidate': [(1, 1)],\n",
      " 'score_by_move': {(0, 0): 1.5,\n",
      "                   (0, 1): 1.0,\n",
      "                   (0, 2): 1.5,\n",
      "                   (1, 0): 1.0,\n",
      "                   (1, 1): 300,\n",
      "                   (1, 2): 1.0,\n",
      "                   (2, 0): 1.5,\n",
      "                   (2, 1): 1.0,\n",
      "                   (2, 2): 1.5}}\n"
     ]
    }
   ],
   "source": [
    "pprint(ai11s(mb, analyze=True))"
   ]
  },
  {
   "cell_type": "code",
   "execution_count": 13,
   "metadata": {},
   "outputs": [],
   "source": [
    "def f(a, b, *args, **kwargs):\n",
    "    print(a, b, args, kwargs)\n",
    "    g(a, b=b, *args, **kwargs)\n",
    "\n",
    "def g(a, b, c):\n",
    "    print(a, b, c)"
   ]
  },
  {
   "cell_type": "code",
   "execution_count": 14,
   "metadata": {},
   "outputs": [
    {
     "name": "stdout",
     "output_type": "stream",
     "text": [
      "1 2 (3,) {}\n"
     ]
    },
    {
     "ename": "TypeError",
     "evalue": "g() got multiple values for argument 'b'",
     "output_type": "error",
     "traceback": [
      "\u001b[1;31m---------------------------------------------------------------------------\u001b[0m",
      "\u001b[1;31mTypeError\u001b[0m                                 Traceback (most recent call last)",
      "Cell \u001b[1;32mIn[14], line 1\u001b[0m\n\u001b[1;32m----> 1\u001b[0m f(\u001b[38;5;241m1\u001b[39m, \u001b[38;5;241m2\u001b[39m, \u001b[38;5;241m3\u001b[39m)\n",
      "Cell \u001b[1;32mIn[13], line 3\u001b[0m, in \u001b[0;36mf\u001b[1;34m(a, b, *args, **kwargs)\u001b[0m\n\u001b[0;32m      1\u001b[0m \u001b[38;5;28;01mdef\u001b[39;00m \u001b[38;5;21mf\u001b[39m(a, b, \u001b[38;5;241m*\u001b[39margs, \u001b[38;5;241m*\u001b[39m\u001b[38;5;241m*\u001b[39mkwargs):\n\u001b[0;32m      2\u001b[0m     \u001b[38;5;28mprint\u001b[39m(a, b, args, kwargs)\n\u001b[1;32m----> 3\u001b[0m     g(a, b\u001b[38;5;241m=\u001b[39mb, \u001b[38;5;241m*\u001b[39margs, \u001b[38;5;241m*\u001b[39m\u001b[38;5;241m*\u001b[39mkwargs)\n",
      "\u001b[1;31mTypeError\u001b[0m: g() got multiple values for argument 'b'"
     ]
    }
   ],
   "source": [
    "f(1, 2, 3)"
   ]
  },
  {
   "cell_type": "code",
   "execution_count": 15,
   "metadata": {},
   "outputs": [],
   "source": [
    "def f(a, b, *args, **kwargs):\n",
    "    print(a, b, args, kwargs)\n",
    "    g(a, b, *args, **kwargs)"
   ]
  },
  {
   "cell_type": "code",
   "execution_count": 16,
   "metadata": {},
   "outputs": [
    {
     "name": "stdout",
     "output_type": "stream",
     "text": [
      "1 2 (3,) {}\n",
      "1 2 3\n"
     ]
    }
   ],
   "source": [
    "f(1, 2, 3)"
   ]
  },
  {
   "cell_type": "code",
   "execution_count": 19,
   "metadata": {},
   "outputs": [
    {
     "name": "stdout",
     "output_type": "stream",
     "text": [
      "1 2 (3,) {}\n",
      "1 3 2\n"
     ]
    }
   ],
   "source": [
    "def f(a, b, *args, **kwargs):\n",
    "    print(a, b, args, kwargs)\n",
    "    g(a, c=b, *args, **kwargs)\n",
    "    \n",
    "f(1, 2, 3)"
   ]
  },
  {
   "cell_type": "code",
   "execution_count": 20,
   "metadata": {},
   "outputs": [
    {
     "name": "stdout",
     "output_type": "stream",
     "text": [
      "(1, 1)\n"
     ]
    }
   ],
   "source": [
    "print(ai11s(mb, debug=False, score_201=3, score_102=2))"
   ]
  },
  {
   "cell_type": "code",
   "execution_count": 21,
   "metadata": {},
   "outputs": [
    {
     "name": "stdout",
     "output_type": "stream",
     "text": [
      "{'candidate': [(1, 1)],\n",
      " 'score_by_move': {(0, 0): 1.5,\n",
      "                   (0, 1): 1.0,\n",
      "                   (0, 2): 1.5,\n",
      "                   (1, 0): 1.0,\n",
      "                   (1, 1): 300,\n",
      "                   (1, 2): 1.0,\n",
      "                   (2, 0): 1.5,\n",
      "                   (2, 1): 1.0,\n",
      "                   (2, 2): 1.5}}\n"
     ]
    }
   ],
   "source": [
    "pprint(ai11s(mb, False, 3, 2))"
   ]
  },
  {
   "cell_type": "code",
   "execution_count": 22,
   "metadata": {},
   "outputs": [],
   "source": [
    "def f(a, b=2, *args, c=3):\n",
    "    print(a, b, c, args)"
   ]
  },
  {
   "cell_type": "code",
   "execution_count": 23,
   "metadata": {},
   "outputs": [
    {
     "name": "stdout",
     "output_type": "stream",
     "text": [
      "5 6 3 (7, 8)\n"
     ]
    }
   ],
   "source": [
    "f(5, 6, 7, 8)"
   ]
  },
  {
   "cell_type": "code",
   "execution_count": 24,
   "metadata": {},
   "outputs": [
    {
     "name": "stdout",
     "output_type": "stream",
     "text": [
      "5 6 8 (7,)\n"
     ]
    }
   ],
   "source": [
    "f(5, 6, 7, c=8)"
   ]
  },
  {
   "cell_type": "code",
   "execution_count": 25,
   "metadata": {},
   "outputs": [],
   "source": [
    "def ai_by_score(eval_func):\n",
    "    @wraps(eval_func)\n",
    "    def wrapper(mb_orig, debug=False, *args, rand=True, analyze=False, **kwargs):\n",
    "        dprint(debug, \"Start ai_by_score\")\n",
    "        dprint(debug, mb_orig)\n",
    "        legal_moves = mb_orig.calc_legal_moves()\n",
    "        dprint(debug, \"legal_moves\", legal_moves)\n",
    "        best_score = float(\"-inf\")\n",
    "        best_moves = []\n",
    "        if analyze:\n",
    "            score_by_move = {}\n",
    "        for move in legal_moves:\n",
    "            dprint(debug, \"=\" * 20)\n",
    "            dprint(debug, \"move\", move)\n",
    "            mb = deepcopy(mb_orig)\n",
    "            x, y = move\n",
    "            mb.move(x, y)\n",
    "            dprint(debug, mb)\n",
    "            \n",
    "            score = eval_func(mb, debug, *args, **kwargs)\n",
    "            dprint(debug, \"score\", score, \"best score\", best_score)\n",
    "            if analyze:\n",
    "                score_by_move[move] = score\n",
    "            \n",
    "            if best_score < score:\n",
    "                best_score = score\n",
    "                best_moves = [move]\n",
    "                dprint(debug, \"UPDATE\")\n",
    "                dprint(debug, \"  best score\", best_score)\n",
    "                dprint(debug, \"  best moves\", best_moves)\n",
    "            elif best_score == score:\n",
    "                best_moves.append(move)\n",
    "                dprint(debug, \"APPEND\")\n",
    "                dprint(debug, \"  best moves\", best_moves)\n",
    "\n",
    "        dprint(debug, \"=\" * 20)\n",
    "        dprint(debug, \"Finished\")\n",
    "        dprint(debug, \"best score\", best_score)\n",
    "        dprint(debug, \"best moves\", best_moves)\n",
    "        if analyze:\n",
    "            return {\n",
    "                \"candidate\": best_moves,\n",
    "                \"score_by_move\": score_by_move,\n",
    "            }\n",
    "        elif rand:   \n",
    "            return choice(best_moves)\n",
    "        else:\n",
    "            return best_moves[0]\n",
    "        \n",
    "    return wrapper"
   ]
  },
  {
   "cell_type": "code",
   "execution_count": 26,
   "metadata": {},
   "outputs": [],
   "source": [
    "@ai_by_score\n",
    "def ai11s(mb, debug=False, score_201=2, score_102=0.5, score_012=-1):      \n",
    "    # 真ん中のマスに着手している場合は、評価値として 300 を返す\n",
    "    if mb.last_move == (1, 1):\n",
    "        return 300\n",
    "\n",
    "    # 自分が勝利している場合は、評価値として 200 を返す\n",
    "    if mb.status == mb.last_turn:\n",
    "        return 200\n",
    "\n",
    "    markpats = mb.count_markpats()\n",
    "    if debug:\n",
    "        pprint(markpats)\n",
    "    # 相手が勝利できる場合は評価値として -100 を返す\n",
    "    if markpats[Markpat(last_turn=0, turn=2, empty=1)] > 0:\n",
    "        return -100\n",
    "    # 次の自分の手番で自分が必ず勝利できる場合は評価値として 100 を返す\n",
    "    elif markpats[Markpat(last_turn=2, turn=0, empty=1)] >= 2:\n",
    "        return 100\n",
    "\n",
    "    # 評価値の合計を計算する変数を 0 で初期化する\n",
    "    score = 0        \n",
    "    # 次の自分の手番で自分が勝利できる場合は評価値に score_201 を加算する\n",
    "    if markpats[Markpat(last_turn=2, turn=0, empty=1)] == 1:\n",
    "        score += score_201\n",
    "    # 「自 1 敵 0 空 2」1 つあたり score_102 だけ、評価値を加算する\n",
    "    score += markpats[Markpat(last_turn=1, turn=0, empty=2)] * score_102\n",
    "    # 「自 0 敵 1 空 2」1 つあたり score_201 だけ、評価値を減算する\n",
    "    score += markpats[Markpat(last_turn=0, turn=1, empty=2)] * score_012\n",
    "    \n",
    "    # 計算した評価値を返す\n",
    "    return score"
   ]
  },
  {
   "cell_type": "code",
   "execution_count": 27,
   "metadata": {},
   "outputs": [
    {
     "name": "stdout",
     "output_type": "stream",
     "text": [
      "(1, 1)\n"
     ]
    }
   ],
   "source": [
    "pprint(ai11s(mb, False, 3, 2))"
   ]
  },
  {
   "cell_type": "code",
   "execution_count": 28,
   "metadata": {},
   "outputs": [],
   "source": [
    "def f(a, b=1, /, c=2, **kwargs):\n",
    "    print(a, b, c, kwargs)"
   ]
  },
  {
   "cell_type": "code",
   "execution_count": 29,
   "metadata": {},
   "outputs": [
    {
     "name": "stdout",
     "output_type": "stream",
     "text": [
      "5 1 7 {'b': 6}\n"
     ]
    }
   ],
   "source": [
    "f(5, b=6, c=7)"
   ]
  }
 ],
 "metadata": {
  "kernelspec": {
   "display_name": "marubatsu",
   "language": "python",
   "name": "python3"
  },
  "language_info": {
   "codemirror_mode": {
    "name": "ipython",
    "version": 3
   },
   "file_extension": ".py",
   "mimetype": "text/x-python",
   "name": "python",
   "nbconvert_exporter": "python",
   "pygments_lexer": "ipython3",
   "version": "3.11.4"
  }
 },
 "nbformat": 4,
 "nbformat_minor": 2
}
