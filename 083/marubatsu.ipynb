{
 "cells": [
  {
   "cell_type": "code",
   "execution_count": 1,
   "metadata": {},
   "outputs": [
    {
     "data": {
      "application/vnd.jupyter.widget-view+json": {
       "model_id": "1c47fb7c2b394cc5a4c34d044311d28b",
       "version_major": 2,
       "version_minor": 0
      },
      "text/plain": [
       "VBox(children=(HBox(children=(Dropdown(description='〇', layout=Layout(width='100px'), options={'人間': '人間', 'ai…"
      ]
     },
     "metadata": {},
     "output_type": "display_data"
    },
    {
     "ename": "NameError",
     "evalue": "name 'set_button_status' is not defined",
     "output_type": "error",
     "traceback": [
      "\u001b[1;31m---------------------------------------------------------------------------\u001b[0m",
      "\u001b[1;31mNameError\u001b[0m                                 Traceback (most recent call last)",
      "Cell \u001b[1;32mIn[1], line 3\u001b[0m\n\u001b[0;32m      1\u001b[0m \u001b[38;5;28;01mfrom\u001b[39;00m \u001b[38;5;21;01mutil\u001b[39;00m \u001b[38;5;28;01mimport\u001b[39;00m gui_play\n\u001b[1;32m----> 3\u001b[0m gui_play()\n",
      "File \u001b[1;32mc:\\Users\\ys\\ai\\marubatsu\\083\\util.py:29\u001b[0m, in \u001b[0;36mgui_play\u001b[1;34m(ai, ai_dict)\u001b[0m\n\u001b[0;32m     26\u001b[0m         ai_dict[ai_name] \u001b[38;5;241m=\u001b[39m \u001b[38;5;28mgetattr\u001b[39m(ai_module, ai_name)\n\u001b[0;32m     28\u001b[0m mb \u001b[38;5;241m=\u001b[39m Marubatsu()\n\u001b[1;32m---> 29\u001b[0m mb\u001b[38;5;241m.\u001b[39mplay(ai\u001b[38;5;241m=\u001b[39mai, ai_dict\u001b[38;5;241m=\u001b[39mai_dict, gui\u001b[38;5;241m=\u001b[39m\u001b[38;5;28;01mTrue\u001b[39;00m)\n",
      "File \u001b[1;32mc:\\Users\\ys\\ai\\marubatsu\\083\\marubatsu.py:325\u001b[0m, in \u001b[0;36mMarubatsu.play\u001b[1;34m(self, ai, ai_dict, params, verbose, seed, gui, size)\u001b[0m\n\u001b[0;32m    322\u001b[0m     \u001b[38;5;28mself\u001b[39m\u001b[38;5;241m.\u001b[39mmb_gui \u001b[38;5;241m=\u001b[39m Marubatsu_GUI(\u001b[38;5;28mself\u001b[39m, ai_dict\u001b[38;5;241m=\u001b[39mai_dict, size\u001b[38;5;241m=\u001b[39msize)    \n\u001b[0;32m    324\u001b[0m \u001b[38;5;28mself\u001b[39m\u001b[38;5;241m.\u001b[39mrestart()\n\u001b[1;32m--> 325\u001b[0m \u001b[38;5;28;01mreturn\u001b[39;00m \u001b[38;5;28mself\u001b[39m\u001b[38;5;241m.\u001b[39mplay_loop()\n",
      "File \u001b[1;32mc:\\Users\\ys\\ai\\marubatsu\\083\\marubatsu.py:349\u001b[0m, in \u001b[0;36mMarubatsu.play_loop\u001b[1;34m(self)\u001b[0m\n\u001b[0;32m    346\u001b[0m \u001b[38;5;28;01mif\u001b[39;00m gui:\n\u001b[0;32m    347\u001b[0m     \u001b[38;5;66;03m# AI どうしの対戦の場合は画面を描画しない\u001b[39;00m\n\u001b[0;32m    348\u001b[0m     \u001b[38;5;28;01mif\u001b[39;00m ai[\u001b[38;5;241m0\u001b[39m] \u001b[38;5;129;01mis\u001b[39;00m \u001b[38;5;28;01mNone\u001b[39;00m \u001b[38;5;129;01mor\u001b[39;00m ai[\u001b[38;5;241m1\u001b[39m] \u001b[38;5;129;01mis\u001b[39;00m \u001b[38;5;28;01mNone\u001b[39;00m:\n\u001b[1;32m--> 349\u001b[0m         \u001b[38;5;28mself\u001b[39m\u001b[38;5;241m.\u001b[39mmb_gui\u001b[38;5;241m.\u001b[39mdraw_board()\n\u001b[0;32m    350\u001b[0m     \u001b[38;5;66;03m# 手番を人間が担当する場合は、play メソッドを終了する\u001b[39;00m\n\u001b[0;32m    351\u001b[0m     \u001b[38;5;28;01mif\u001b[39;00m ai[index] \u001b[38;5;129;01mis\u001b[39;00m \u001b[38;5;28;01mNone\u001b[39;00m:\n",
      "File \u001b[1;32mc:\\Users\\ys\\ai\\marubatsu\\083\\marubatsu.py:718\u001b[0m, in \u001b[0;36mMarubatsu_GUI.draw_board\u001b[1;34m(self)\u001b[0m\n\u001b[0;32m    715\u001b[0m         color \u001b[38;5;241m=\u001b[39m \u001b[38;5;124m\"\u001b[39m\u001b[38;5;124mred\u001b[39m\u001b[38;5;124m\"\u001b[39m \u001b[38;5;28;01mif\u001b[39;00m (x, y) \u001b[38;5;241m==\u001b[39m \u001b[38;5;28mself\u001b[39m\u001b[38;5;241m.\u001b[39mmb\u001b[38;5;241m.\u001b[39mlast_move \u001b[38;5;28;01melse\u001b[39;00m \u001b[38;5;124m\"\u001b[39m\u001b[38;5;124mblack\u001b[39m\u001b[38;5;124m\"\u001b[39m\n\u001b[0;32m    716\u001b[0m         \u001b[38;5;28mself\u001b[39m\u001b[38;5;241m.\u001b[39mmb\u001b[38;5;241m.\u001b[39mdraw_mark(ax, x, y, \u001b[38;5;28mself\u001b[39m\u001b[38;5;241m.\u001b[39mmb\u001b[38;5;241m.\u001b[39mboard[x][y], color)            \n\u001b[1;32m--> 718\u001b[0m \u001b[38;5;28mself\u001b[39m\u001b[38;5;241m.\u001b[39mupdate_widgets_status()\n",
      "File \u001b[1;32mc:\\Users\\ys\\ai\\marubatsu\\083\\marubatsu.py:665\u001b[0m, in \u001b[0;36mMarubatsu_GUI.update_widgets_status\u001b[1;34m(self)\u001b[0m\n\u001b[0;32m    662\u001b[0m \u001b[38;5;250m\u001b[39m\u001b[38;5;124;03m\"\"\"ウィジェットの状態を更新する.\"\"\"\u001b[39;00m\n\u001b[0;32m    664\u001b[0m \u001b[38;5;66;03m# 0 手目と最後の着手を行った局面で、特定のリプレイに関するボタンを操作できないようにする\u001b[39;00m\n\u001b[1;32m--> 665\u001b[0m set_button_status(\u001b[38;5;28mself\u001b[39m\u001b[38;5;241m.\u001b[39mfirst_button, \u001b[38;5;28mself\u001b[39m\u001b[38;5;241m.\u001b[39mmb\u001b[38;5;241m.\u001b[39mmove_count \u001b[38;5;241m<\u001b[39m\u001b[38;5;241m=\u001b[39m \u001b[38;5;241m0\u001b[39m)\n\u001b[0;32m    666\u001b[0m set_button_status(\u001b[38;5;28mself\u001b[39m\u001b[38;5;241m.\u001b[39mprev_button, \u001b[38;5;28mself\u001b[39m\u001b[38;5;241m.\u001b[39mmb\u001b[38;5;241m.\u001b[39mmove_count \u001b[38;5;241m<\u001b[39m\u001b[38;5;241m=\u001b[39m \u001b[38;5;241m0\u001b[39m)\n\u001b[0;32m    667\u001b[0m set_button_status(\u001b[38;5;28mself\u001b[39m\u001b[38;5;241m.\u001b[39mnext_button, \u001b[38;5;28mself\u001b[39m\u001b[38;5;241m.\u001b[39mmb\u001b[38;5;241m.\u001b[39mmove_count \u001b[38;5;241m>\u001b[39m\u001b[38;5;241m=\u001b[39m \u001b[38;5;28mlen\u001b[39m(\u001b[38;5;28mself\u001b[39m\u001b[38;5;241m.\u001b[39mmb\u001b[38;5;241m.\u001b[39mboard_records) \u001b[38;5;241m-\u001b[39m \u001b[38;5;241m1\u001b[39m)\n",
      "\u001b[1;31mNameError\u001b[0m: name 'set_button_status' is not defined"
     ]
    },
    {
     "data": {
      "application/vnd.jupyter.widget-view+json": {
       "model_id": "0aa6469a5ab14fa1bf809f560b4471a8",
       "version_major": 2,
       "version_minor": 0
      },
      "image/png": "[encoded data removed]",
      "text/html": [
       "\n",
       "            <div style=\"display: inline-block;\">\n",
       "                <div class=\"jupyter-widgets widget-label\" style=\"text-align: center;\">\n",
       "                    Figure\n",
       "                </div>\n",
       "                <img src='data:image/png;base64,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' width=300.0/>\n",
       "            </div>\n",
       "        "
      ],
      "text/plain": [
       "Canvas(footer_visible=False, header_visible=False, resizable=False, toolbar=Toolbar(toolitems=[('Home', 'Reset…"
      ]
     },
     "metadata": {},
     "output_type": "display_data"
    }
   ],
   "source": [
    "from util import gui_play\n",
    "\n",
    "gui_play()"
   ]
  },
  {
   "cell_type": "code",
   "execution_count": 2,
   "metadata": {},
   "outputs": [],
   "source": [
    "from marubatsu import Marubatsu_GUI\n",
    "\n",
    "def update_widgets_status(self):   \n",
    "    # 0 手目と最後の着手を行った局面で、特定のリプレイに関するボタンを操作できないようにする\n",
    "    self.set_button_status(self.first_button, self.mb.move_count <= 0)\n",
    "    self.set_button_status(self.prev_button, self.mb.move_count <= 0)\n",
    "    self.set_button_status(self.next_button, self.mb.move_count >= len(self.mb.board_records) - 1)\n",
    "    self.set_button_status(self.last_button, self.mb.move_count >= len(self.mb.board_records) - 1)          \n",
    "\n",
    "Marubatsu_GUI.update_widgets_status = update_widgets_status"
   ]
  },
  {
   "cell_type": "code",
   "execution_count": 3,
   "metadata": {},
   "outputs": [
    {
     "data": {
      "application/vnd.jupyter.widget-view+json": {
       "model_id": "f4c7c89934104dce89ce93a95422f2fe",
       "version_major": 2,
       "version_minor": 0
      },
      "text/plain": [
       "VBox(children=(HBox(children=(Dropdown(description='〇', layout=Layout(width='100px'), options={'人間': '人間', 'ai…"
      ]
     },
     "metadata": {},
     "output_type": "display_data"
    },
    {
     "data": {
      "application/vnd.jupyter.widget-view+json": {
       "model_id": "a4f16dee19a84053a62f0220f9e34cd7",
       "version_major": 2,
       "version_minor": 0
      },
      "image/png": "[encoded data removed]",
      "text/html": [
       "\n",
       "            <div style=\"display: inline-block;\">\n",
       "                <div class=\"jupyter-widgets widget-label\" style=\"text-align: center;\">\n",
       "                    Figure\n",
       "                </div>\n",
       "                <img src='data:image/png;base64,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' width=300.0/>\n",
       "            </div>\n",
       "        "
      ],
      "text/plain": [
       "Canvas(footer_visible=False, header_visible=False, resizable=False, toolbar=Toolbar(toolitems=[('Home', 'Reset…"
      ]
     },
     "metadata": {},
     "output_type": "display_data"
    }
   ],
   "source": [
    "gui_play()"
   ]
  },
  {
   "cell_type": "code",
   "execution_count": 4,
   "metadata": {},
   "outputs": [],
   "source": [
    "from marubatsu import Marubatsu\n",
    "import matplotlib.patches as patches\n",
    "\n",
    "@staticmethod\n",
    "def draw_mark(ax, x, y, mark, color=\"black\"):\n",
    "    if mark == Marubatsu.CIRCLE:\n",
    "        circle = patches.Circle([x + 0.5, y + 0.5], 0.35, ec=color, fill=False, lw=2)\n",
    "        ax.add_artist(circle)\n",
    "    elif mark == Marubatsu.CROSS:\n",
    "        ax.plot([x + 0.15, x + 0.85], [y + 0.15, y + 0.85], c=color, lw=\"2\")\n",
    "        ax.plot([x + 0.15, x + 0.85], [y + 0.85, y + 0.15], c=color, lw=\"2\")\n",
    "\n",
    "Marubatsu_GUI.draw_mark = draw_mark"
   ]
  },
  {
   "cell_type": "code",
   "execution_count": 5,
   "metadata": {},
   "outputs": [],
   "source": [
    "def draw_board(self):\n",
    "    ax = self.ax\n",
    "    ai = self.mb.ai\n",
    "    \n",
    "    # Axes の内容をクリアして、これまでの描画内容を削除する\n",
    "    ax.clear()\n",
    "    \n",
    "    # y 軸を反転させる\n",
    "    ax.invert_yaxis()\n",
    "    \n",
    "    # 枠と目盛りを表示しないようにする\n",
    "    ax.axis(\"off\")   \n",
    "    \n",
    "    # ゲームの決着がついていた場合は背景色を\n",
    "    facecolor = \"white\" if self.mb.status == Marubatsu.PLAYING else \"lightyellow\"\n",
    "    ax.figure.set_facecolor(facecolor)\n",
    "        \n",
    "    # 上部のメッセージを描画する\n",
    "    # 対戦カードの文字列を計算する\n",
    "    names = []\n",
    "    for i in range(2):\n",
    "        names.append(\"人間\" if ai[i] is None else ai[i].__name__)\n",
    "    ax.text(0, 3.5, f\"{names[0]}　VS　{names[1]}\", fontsize=20)   \n",
    "    \n",
    "    # ゲームの決着がついていない場合は、手番を表示する\n",
    "    if self.mb.status == Marubatsu.PLAYING:\n",
    "        text = \"Turn \" + self.mb.turn\n",
    "    # 引き分けの場合\n",
    "    elif self.mb.status == Marubatsu.DRAW:\n",
    "        text = \"Draw game\"\n",
    "    # 決着がついていれば勝者を表示する\n",
    "    else:\n",
    "        text = \"Winner \" + self.mb.status\n",
    "    ax.text(0, -0.2, text, fontsize=20)\n",
    "    \n",
    "    # ゲーム盤の枠を描画する\n",
    "    for i in range(1, self.mb.BOARD_SIZE):\n",
    "        ax.plot([0, self.mb.BOARD_SIZE], [i, i], c=\"k\") # 横方向の枠線\n",
    "        ax.plot([i, i], [0, self.mb.BOARD_SIZE], c=\"k\") # 縦方向の枠線   \n",
    "\n",
    "    # ゲーム盤のマークを描画する\n",
    "    for y in range(self.mb.BOARD_SIZE):\n",
    "        for x in range(self.mb.BOARD_SIZE):\n",
    "            color = \"red\" if (x, y) == self.mb.last_move else \"black\"\n",
    "            self.draw_mark(ax, x, y, self.mb.board[x][y], color)            \n",
    "\n",
    "    self.update_widgets_status() \n",
    "    \n",
    "Marubatsu_GUI.draw_board = draw_board  "
   ]
  },
  {
   "cell_type": "code",
   "execution_count": 6,
   "metadata": {},
   "outputs": [
    {
     "data": {
      "application/vnd.jupyter.widget-view+json": {
       "model_id": "2e452e0a3fc2405fb213c814a24f485c",
       "version_major": 2,
       "version_minor": 0
      },
      "text/plain": [
       "VBox(children=(HBox(children=(Dropdown(description='〇', layout=Layout(width='100px'), options={'人間': '人間', 'ai…"
      ]
     },
     "metadata": {},
     "output_type": "display_data"
    },
    {
     "data": {
      "application/vnd.jupyter.widget-view+json": {
       "model_id": "d00649434fa84454a69e32ee6328e0a0",
       "version_major": 2,
       "version_minor": 0
      },
      "image/png": "[encoded data removed]",
      "text/html": [
       "\n",
       "            <div style=\"display: inline-block;\">\n",
       "                <div class=\"jupyter-widgets widget-label\" style=\"text-align: center;\">\n",
       "                    Figure\n",
       "                </div>\n",
       "                <img src='data:image/png;base64,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' width=300.0/>\n",
       "            </div>\n",
       "        "
      ],
      "text/plain": [
       "Canvas(footer_visible=False, header_visible=False, resizable=False, toolbar=Toolbar(toolitems=[('Home', 'Reset…"
      ]
     },
     "metadata": {},
     "output_type": "display_data"
    }
   ],
   "source": [
    "gui_play()"
   ]
  },
  {
   "cell_type": "code",
   "execution_count": 7,
   "metadata": {},
   "outputs": [],
   "source": [
    "import math\n",
    "from copy import deepcopy\n",
    "\n",
    "def create_event_handler(self):\n",
    "    # 変更ボタンのイベントハンドラを定義する\n",
    "    def on_change_button_clicked(b):\n",
    "        for i in range(2):\n",
    "            ai[i] = None if dropdown_list[i].value == \"人間\" else dropdown_list[i].value\n",
    "        self.play_loop(ai=ai, ax=ax, params=params, verbose=verbose, gui=gui)\n",
    "\n",
    "    # リセットボタンのイベントハンドラを定義する\n",
    "    def on_reset_button_clicked(b):\n",
    "        self.restart()\n",
    "        on_change_button_clicked(b)\n",
    "        \n",
    "    # イベントハンドラをボタンに結びつける\n",
    "    change_button.on_click(on_change_button_clicked)\n",
    "    reset_button.on_click(on_reset_button_clicked)   \n",
    "    \n",
    "    def change_step(step):\n",
    "        # step の範囲を正しい範囲に修正する\n",
    "        step = max(0, min(len(self.board_records) - 1, step))\n",
    "        # step 手目のゲーム盤のデータをコピーし、board に代入する\n",
    "        self.board = deepcopy(self.board_records[step])\n",
    "        # 手数を表す step を move_count に代入する\n",
    "        self.move_count = step\n",
    "        # 手番を計算する。step が偶数の場合は 〇 の 手番\n",
    "        self.turn = Marubatsu.CIRCLE if step % 2 == 0 else Marubatsu.CROSS\n",
    "        # status 属性を judget を使って計算する\n",
    "        self.status = self.judge()\n",
    "        # 直前の着手を計算する\n",
    "        self.last_move = self.records[step]\n",
    "        # 描画を更新する\n",
    "        self.draw_board(ax, ai)        \n",
    "\n",
    "    def on_first_button_clicked(b):\n",
    "        change_step(0)\n",
    "\n",
    "    def on_prev_button_clicked(b):\n",
    "        change_step(self.move_count - 1)\n",
    "\n",
    "    def on_next_button_clicked(b):\n",
    "        change_step(self.move_count + 1)\n",
    "        \n",
    "    def on_last_button_clicked(b):\n",
    "        change_step(len(self.board_records) - 1)\n",
    "\n",
    "    self.first_button.on_click(on_first_button_clicked)\n",
    "    self.prev_button.on_click(on_prev_button_clicked)\n",
    "    self.next_button.on_click(on_next_button_clicked)\n",
    "    self.last_button.on_click(on_last_button_clicked)\n",
    "    \n",
    "    # ゲーム盤の上でマウスを押した場合のイベントハンドラ\n",
    "    def on_mouse_down(event):\n",
    "        # Axes の上でマウスを押していた場合のみ処理を行う\n",
    "        if event.inaxes and self.status == Marubatsu.PLAYING:\n",
    "            x = math.floor(event.xdata)\n",
    "            y = math.floor(event.ydata)\n",
    "            self.move(x, y)                \n",
    "            self.draw_board(ax, ai)\n",
    "            # 次の手番の処理を行うメソッドを呼び出す\n",
    "            self.play_loop(ai=ai, ax=ax, params=params, verbose=verbose, gui=gui)\n",
    "            \n",
    "    # fig の画像にマウスを押した際のイベントハンドラを結び付ける\n",
    "    fig.canvas.mpl_connect(\"button_press_event\", on_mouse_down)    \n",
    "               \n",
    "Marubatsu_GUI.create_event_handler = create_event_handler"
   ]
  },
  {
   "cell_type": "code",
   "execution_count": 8,
   "metadata": {},
   "outputs": [],
   "source": [
    "def change_step(self, step):\n",
    "    # step の範囲を正しい範囲に修正する\n",
    "    step = max(0, min(len(self.board_records) - 1, step))\n",
    "    # step 手目のゲーム盤のデータをコピーし、board に代入する\n",
    "    self.board = deepcopy(self.board_records[step])\n",
    "    # 手数を表す step を move_count に代入する\n",
    "    self.move_count = step\n",
    "    # 手番を計算する。step が偶数の場合は 〇 の 手番\n",
    "    self.turn = Marubatsu.CIRCLE if step % 2 == 0 else Marubatsu.CROSS\n",
    "    # status 属性を judget を使って計算する\n",
    "    self.status = self.judge()\n",
    "    # 直前の着手を計算する\n",
    "    self.last_move = self.records[step]\n",
    "\n",
    "Marubatsu.change_step = change_step"
   ]
  },
  {
   "cell_type": "code",
   "execution_count": 9,
   "metadata": {},
   "outputs": [],
   "source": [
    "def create_event_handler(self):\n",
    "    # 変更ボタンのイベントハンドラを定義する\n",
    "    def on_change_button_clicked(b):\n",
    "        for i in range(2):\n",
    "            ai[i] = None if dropdown_list[i].value == \"人間\" else dropdown_list[i].value\n",
    "        self.play_loop(ai=ai, ax=ax, params=params, verbose=verbose, gui=gui)\n",
    "\n",
    "    # リセットボタンのイベントハンドラを定義する\n",
    "    def on_reset_button_clicked(b):\n",
    "        self.restart()\n",
    "        on_change_button_clicked(b)\n",
    "        \n",
    "    # イベントハンドラをボタンに結びつける\n",
    "    change_button.on_click(on_change_button_clicked)\n",
    "    reset_button.on_click(on_reset_button_clicked)   \n",
    "    \n",
    "    def change_step(step):\n",
    "        self.mb.change_step(step)\n",
    "        # 描画を更新する\n",
    "        self.draw_board(ax, ai)        \n",
    "\n",
    "    def on_first_button_clicked(b):\n",
    "        change_step(0)\n",
    "\n",
    "    def on_prev_button_clicked(b):\n",
    "        change_step(self.move_count - 1)\n",
    "\n",
    "    def on_next_button_clicked(b):\n",
    "        change_step(self.move_count + 1)\n",
    "        \n",
    "    def on_last_button_clicked(b):\n",
    "        change_step(len(self.board_records) - 1)\n",
    "\n",
    "    self.first_button.on_click(on_first_button_clicked)\n",
    "    self.prev_button.on_click(on_prev_button_clicked)\n",
    "    self.next_button.on_click(on_next_button_clicked)\n",
    "    self.last_button.on_click(on_last_button_clicked)\n",
    "    \n",
    "    # ゲーム盤の上でマウスを押した場合のイベントハンドラ\n",
    "    def on_mouse_down(event):\n",
    "        # Axes の上でマウスを押していた場合のみ処理を行う\n",
    "        if event.inaxes and self.status == Marubatsu.PLAYING:\n",
    "            x = math.floor(event.xdata)\n",
    "            y = math.floor(event.ydata)\n",
    "            self.move(x, y)                \n",
    "            self.draw_board(ax, ai)\n",
    "            # 次の手番の処理を行うメソッドを呼び出す\n",
    "            self.play_loop(ai=ai, ax=ax, params=params, verbose=verbose, gui=gui)\n",
    "            \n",
    "    # fig の画像にマウスを押した際のイベントハンドラを結び付ける\n",
    "    fig.canvas.mpl_connect(\"button_press_event\", on_mouse_down)    \n",
    "               \n",
    "Marubatsu_GUI.create_event_handler = create_event_handler"
   ]
  },
  {
   "cell_type": "code",
   "execution_count": 10,
   "metadata": {},
   "outputs": [],
   "source": [
    "def create_event_handler(self):\n",
    "    # 変更ボタンのイベントハンドラを定義する\n",
    "    def on_change_button_clicked(b):\n",
    "        for i in range(2):\n",
    "            self.mb.ai[i] = None if self.dropdown_list[i].value == \"人間\" else self.dropdown_list[i].value\n",
    "        self.mb.play_loop()\n",
    "\n",
    "    # リセットボタンのイベントハンドラを定義する\n",
    "    def on_reset_button_clicked(b):\n",
    "        self.mb.restart()\n",
    "        on_change_button_clicked(b)\n",
    "        \n",
    "    # イベントハンドラをボタンに結びつける\n",
    "    self.change_button.on_click(on_change_button_clicked)\n",
    "    self.reset_button.on_click(on_reset_button_clicked)   \n",
    "    \n",
    "    def change_step(step):\n",
    "        self.mb.change_step(step)\n",
    "        # 描画を更新する\n",
    "        self.draw_board()        \n",
    "\n",
    "    def on_first_button_clicked(b):\n",
    "        change_step(0)\n",
    "\n",
    "    def on_prev_button_clicked(b):\n",
    "        change_step(self.mb.move_count - 1)\n",
    "\n",
    "    def on_next_button_clicked(b):\n",
    "        change_step(self.mb.move_count + 1)\n",
    "        \n",
    "    def on_last_button_clicked(b):\n",
    "        change_step(len(self.mb.board_records) - 1)\n",
    "\n",
    "    self.first_button.on_click(on_first_button_clicked)\n",
    "    self.prev_button.on_click(on_prev_button_clicked)\n",
    "    self.next_button.on_click(on_next_button_clicked)\n",
    "    self.last_button.on_click(on_last_button_clicked)\n",
    "    \n",
    "    # ゲーム盤の上でマウスを押した場合のイベントハンドラ\n",
    "    def on_mouse_down(event):\n",
    "        # Axes の上でマウスを押していた場合のみ処理を行う\n",
    "        if event.inaxes and self.mb.status == Marubatsu.PLAYING:\n",
    "            x = math.floor(event.xdata)\n",
    "            y = math.floor(event.ydata)\n",
    "            self.mb.move(x, y)                \n",
    "            self.draw_board()\n",
    "            # 次の手番の処理を行うメソッドを呼び出す\n",
    "            self.mb.play_loop()\n",
    "            \n",
    "    # fig の画像にマウスを押した際のイベントハンドラを結び付ける\n",
    "    self.fig.canvas.mpl_connect(\"button_press_event\", on_mouse_down)    \n",
    "               \n",
    "Marubatsu_GUI.create_event_handler = create_event_handler"
   ]
  },
  {
   "cell_type": "code",
   "execution_count": 11,
   "metadata": {},
   "outputs": [],
   "source": [
    "def __init__(self, mb, ai_dict=None, size=3):\n",
    "    # ai_dict が None の場合は、空の list で置き換える\n",
    "    if ai_dict is None:\n",
    "        ai_dict = {}\n",
    "\n",
    "    self.mb = mb\n",
    "    self.ai_dict = ai_dict\n",
    "    self.size = size\n",
    "    \n",
    "    # %matplotlib widget のマジックコマンドを実行する\n",
    "    get_ipython().run_line_magic('matplotlib', 'widget')\n",
    "        \n",
    "    self.create_widgets()\n",
    "    self.create_event_handler()\n",
    "    self.display_widgets() \n",
    "        \n",
    "Marubatsu_GUI.__init__ = __init__"
   ]
  },
  {
   "cell_type": "code",
   "execution_count": 12,
   "metadata": {},
   "outputs": [
    {
     "data": {
      "application/vnd.jupyter.widget-view+json": {
       "model_id": "79889a47d26b49898fee53b0fa7898c0",
       "version_major": 2,
       "version_minor": 0
      },
      "text/plain": [
       "VBox(children=(HBox(children=(Dropdown(description='〇', layout=Layout(width='100px'), options={'人間': '人間', 'ai…"
      ]
     },
     "metadata": {},
     "output_type": "display_data"
    },
    {
     "data": {
      "application/vnd.jupyter.widget-view+json": {
       "model_id": "983f98464f5840ea8698614ab9dcd1bb",
       "version_major": 2,
       "version_minor": 0
      },
      "image/png": "[encoded data removed]",
      "text/html": [
       "\n",
       "            <div style=\"display: inline-block;\">\n",
       "                <div class=\"jupyter-widgets widget-label\" style=\"text-align: center;\">\n",
       "                    Figure\n",
       "                </div>\n",
       "                <img src='data:image/png;base64,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' width=300.0/>\n",
       "            </div>\n",
       "        "
      ],
      "text/plain": [
       "Canvas(footer_visible=False, header_visible=False, resizable=False, toolbar=Toolbar(toolitems=[('Home', 'Reset…"
      ]
     },
     "metadata": {},
     "output_type": "display_data"
    }
   ],
   "source": [
    "gui_play()"
   ]
  },
  {
   "cell_type": "code",
   "execution_count": 13,
   "metadata": {},
   "outputs": [],
   "source": [
    "def play(self, ai, ai_dict=None, params=None, verbose=True, seed=None, gui=False, size=3):   \n",
    "    # params が None の場合のデフォルト値を設定する\n",
    "    if params is None:\n",
    "        params = [{}, {}]\n",
    "        \n",
    "    # 一部の仮引数をインスタンスの属性に代入する\n",
    "    self.ai = ai\n",
    "    self.params = params\n",
    "    self.verbose = verbose\n",
    "    self.gui = gui\n",
    "    \n",
    "    # seed が None でない場合は、seed を乱数の種として設定する\n",
    "    if seed is not None:\n",
    "        random.seed(seed)\n",
    "\n",
    "\n",
    "    # gui が True の場合に、GUI の処理を行う Marubatsu_GUI のインスタンスを作成する\n",
    "    if gui:\n",
    "        mb_gui = Marubatsu_GUI(self, ai_dict=ai_dict, size=size)    \n",
    "        \n",
    "    self.restart()\n",
    "    return self.play_loop(mb_gui)\n",
    "\n",
    "Marubatsu.play = play"
   ]
  },
  {
   "cell_type": "code",
   "execution_count": 14,
   "metadata": {},
   "outputs": [],
   "source": [
    "def play_loop(self, mb_gui):   \n",
    "    ai = self.ai\n",
    "    params = self.params\n",
    "    verbose = self.verbose\n",
    "    gui = self.gui\n",
    "    \n",
    "    # ゲームの決着がついていない間繰り返す\n",
    "    while self.status == Marubatsu.PLAYING:\n",
    "        # 現在の手番を表す ai のインデックスを計算する\n",
    "        index = 0 if self.turn == Marubatsu.CIRCLE else 1\n",
    "        # ゲーム盤の表示\n",
    "        if verbose:\n",
    "            if gui:\n",
    "                # AI どうしの対戦の場合は画面を描画しない\n",
    "                if ai[0] is None or ai[1] is None:\n",
    "                    mb_gui.draw_board()\n",
    "                # 手番を人間が担当する場合は、play メソッドを終了する\n",
    "                if ai[index] is None:\n",
    "                    return\n",
    "            else:\n",
    "                print(self)\n",
    "                \n",
    "        # ai が着手を行うかどうかを判定する\n",
    "        if ai[index] is not None:\n",
    "            x, y = ai[index](self, **params[index])\n",
    "        else:\n",
    "            # キーボードからの座標の入力\n",
    "            coord = input(\"x,y の形式で座標を入力して下さい。exit を入力すると終了します\")\n",
    "            # \"exit\" が入力されていればメッセージを表示して関数を終了する\n",
    "            if coord == \"exit\":\n",
    "                print(\"ゲームを終了します\")\n",
    "                return       \n",
    "            # x 座標と y 座標を要素として持つ list を計算する\n",
    "            xylist = coord.split(\",\")\n",
    "            # xylist の要素の数が 2 ではない場合\n",
    "            if len(xylist) != 2:\n",
    "                # エラーメッセージを表示する\n",
    "                print(\"x, y の形式ではありません\")\n",
    "                # 残りの while 文のブロックを実行せずに、次の繰り返し処理を行う\n",
    "                continue\n",
    "            x, y = xylist\n",
    "        # (x, y) に着手を行う\n",
    "        try:\n",
    "            self.move(int(x), int(y))\n",
    "        except:\n",
    "            print(\"整数の座標を入力して下さい\")\n",
    "\n",
    "    # 決着がついたので、ゲーム盤を表示する\n",
    "    if verbose:\n",
    "        if gui:\n",
    "            mb_gui.draw_board()\n",
    "        else:\n",
    "            print(self)\n",
    "            \n",
    "    return self.status\n",
    "\n",
    "Marubatsu.play_loop = play_loop"
   ]
  },
  {
   "cell_type": "code",
   "execution_count": 15,
   "metadata": {},
   "outputs": [],
   "source": [
    "def create_event_handler(self):\n",
    "    # 変更ボタンのイベントハンドラを定義する\n",
    "    def on_change_button_clicked(b):\n",
    "        for i in range(2):\n",
    "            self.mb.ai[i] = None if self.dropdown_list[i].value == \"人間\" else self.dropdown_list[i].value\n",
    "        self.mb.play_loop(self)\n",
    "\n",
    "    # リセットボタンのイベントハンドラを定義する\n",
    "    def on_reset_button_clicked(b):\n",
    "        self.mb.restart()\n",
    "        on_change_button_clicked(b)\n",
    "        \n",
    "    # イベントハンドラをボタンに結びつける\n",
    "    self.change_button.on_click(on_change_button_clicked)\n",
    "    self.reset_button.on_click(on_reset_button_clicked)   \n",
    "    \n",
    "    def change_step(step):\n",
    "        self.mb.change_step(step)\n",
    "        # 描画を更新する\n",
    "        self.draw_board()        \n",
    "\n",
    "    def on_first_button_clicked(b):\n",
    "        change_step(0)\n",
    "\n",
    "    def on_prev_button_clicked(b):\n",
    "        change_step(self.mb.move_count - 1)\n",
    "\n",
    "    def on_next_button_clicked(b):\n",
    "        change_step(self.mb.move_count + 1)\n",
    "        \n",
    "    def on_last_button_clicked(b):\n",
    "        change_step(len(self.mb.board_records) - 1)\n",
    "\n",
    "    self.first_button.on_click(on_first_button_clicked)\n",
    "    self.prev_button.on_click(on_prev_button_clicked)\n",
    "    self.next_button.on_click(on_next_button_clicked)\n",
    "    self.last_button.on_click(on_last_button_clicked)\n",
    "    \n",
    "    # ゲーム盤の上でマウスを押した場合のイベントハンドラ\n",
    "    def on_mouse_down(event):\n",
    "        # Axes の上でマウスを押していた場合のみ処理を行う\n",
    "        if event.inaxes and self.mb.status == Marubatsu.PLAYING:\n",
    "            x = math.floor(event.xdata)\n",
    "            y = math.floor(event.ydata)\n",
    "            self.mb.move(x, y)                \n",
    "            self.draw_board()\n",
    "            # 次の手番の処理を行うメソッドを呼び出す\n",
    "            self.mb.play_loop(self)\n",
    "            \n",
    "    # fig の画像にマウスを押した際のイベントハンドラを結び付ける\n",
    "    self.fig.canvas.mpl_connect(\"button_press_event\", on_mouse_down)    \n",
    "               \n",
    "Marubatsu_GUI.create_event_handler = create_event_handler"
   ]
  },
  {
   "cell_type": "code",
   "execution_count": 16,
   "metadata": {},
   "outputs": [
    {
     "data": {
      "application/vnd.jupyter.widget-view+json": {
       "model_id": "b94f712f0425489099c50a53aeb684a4",
       "version_major": 2,
       "version_minor": 0
      },
      "text/plain": [
       "VBox(children=(HBox(children=(Dropdown(description='〇', layout=Layout(width='100px'), options={'人間': '人間', 'ai…"
      ]
     },
     "metadata": {},
     "output_type": "display_data"
    },
    {
     "data": {
      "application/vnd.jupyter.widget-view+json": {
       "model_id": "d4a96f33aeb745caa625f544cce420ca",
       "version_major": 2,
       "version_minor": 0
      },
      "image/png": "[encoded data removed]",
      "text/html": [
       "\n",
       "            <div style=\"display: inline-block;\">\n",
       "                <div class=\"jupyter-widgets widget-label\" style=\"text-align: center;\">\n",
       "                    Figure\n",
       "                </div>\n",
       "                <img src='data:image/png;base64,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' width=300.0/>\n",
       "            </div>\n",
       "        "
      ],
      "text/plain": [
       "Canvas(footer_visible=False, header_visible=False, resizable=False, toolbar=Toolbar(toolitems=[('Home', 'Reset…"
      ]
     },
     "metadata": {},
     "output_type": "display_data"
    }
   ],
   "source": [
    "gui_play()"
   ]
  },
  {
   "cell_type": "code",
   "execution_count": 17,
   "metadata": {},
   "outputs": [
    {
     "ename": "UnboundLocalError",
     "evalue": "cannot access local variable 'mb_gui' where it is not associated with a value",
     "output_type": "error",
     "traceback": [
      "\u001b[1;31m---------------------------------------------------------------------------\u001b[0m",
      "\u001b[1;31mUnboundLocalError\u001b[0m                         Traceback (most recent call last)",
      "Cell \u001b[1;32mIn[17], line 4\u001b[0m\n\u001b[0;32m      1\u001b[0m \u001b[38;5;28;01mfrom\u001b[39;00m \u001b[38;5;21;01mai\u001b[39;00m \u001b[38;5;28;01mimport\u001b[39;00m ai1s\n\u001b[0;32m      2\u001b[0m mb \u001b[38;5;241m=\u001b[39m Marubatsu()\n\u001b[1;32m----> 4\u001b[0m mb\u001b[38;5;241m.\u001b[39mplay(ai\u001b[38;5;241m=\u001b[39m[ai1s, ai1s])\n",
      "Cell \u001b[1;32mIn[13], line 17\u001b[0m, in \u001b[0;36mplay\u001b[1;34m(self, ai, ai_dict, params, verbose, seed, gui, size)\u001b[0m\n\u001b[0;32m     14\u001b[0m     mb_gui \u001b[38;5;241m=\u001b[39m Marubatsu_GUI(\u001b[38;5;28mself\u001b[39m, ai_dict\u001b[38;5;241m=\u001b[39mai_dict, size\u001b[38;5;241m=\u001b[39msize)    \n\u001b[0;32m     16\u001b[0m \u001b[38;5;28mself\u001b[39m\u001b[38;5;241m.\u001b[39mrestart()\n\u001b[1;32m---> 17\u001b[0m \u001b[38;5;28;01mreturn\u001b[39;00m \u001b[38;5;28mself\u001b[39m\u001b[38;5;241m.\u001b[39mplay_loop(mb_gui)\n",
      "\u001b[1;31mUnboundLocalError\u001b[0m: cannot access local variable 'mb_gui' where it is not associated with a value"
     ]
    }
   ],
   "source": [
    "from ai import ai1s\n",
    "mb = Marubatsu()\n",
    "\n",
    "mb.play(ai=[ai1s, ai1s])"
   ]
  },
  {
   "cell_type": "code",
   "execution_count": 18,
   "metadata": {},
   "outputs": [],
   "source": [
    "def play(self, ai, ai_dict=None, params=None, verbose=True, seed=None, gui=False, size=3):   \n",
    "    # params が None の場合のデフォルト値を設定する\n",
    "    if params is None:\n",
    "        params = [{}, {}]\n",
    "        \n",
    "    # 一部の仮引数をインスタンスの属性に代入する\n",
    "    self.ai = ai\n",
    "    self.params = params\n",
    "    self.verbose = verbose\n",
    "    self.gui = gui\n",
    "    \n",
    "    # seed が None でない場合は、seed を乱数の種として設定する\n",
    "    if seed is not None:\n",
    "        random.seed(seed)\n",
    "\n",
    "    # gui が True の場合に、GUI の処理を行う Marubatsu_GUI のインスタンスを作成する\n",
    "    if gui:\n",
    "        mb_gui = Marubatsu_GUI(self, ai_dict=ai_dict, size=size)  \n",
    "    else:\n",
    "        mb_gui = None\n",
    "        \n",
    "    self.restart()\n",
    "    return self.play_loop(mb_gui)\n",
    "\n",
    "Marubatsu.play = play"
   ]
  },
  {
   "cell_type": "code",
   "execution_count": 19,
   "metadata": {},
   "outputs": [
    {
     "name": "stdout",
     "output_type": "stream",
     "text": [
      "Turn o\n",
      "...\n",
      "...\n",
      "...\n",
      "\n",
      "Turn x\n",
      "O..\n",
      "...\n",
      "...\n",
      "\n",
      "Turn o\n",
      "oX.\n",
      "...\n",
      "...\n",
      "\n",
      "Turn x\n",
      "oxO\n",
      "...\n",
      "...\n",
      "\n",
      "Turn o\n",
      "oxo\n",
      "X..\n",
      "...\n",
      "\n",
      "Turn x\n",
      "oxo\n",
      "xO.\n",
      "...\n",
      "\n",
      "Turn o\n",
      "oxo\n",
      "xoX\n",
      "...\n",
      "\n",
      "winner o\n",
      "oxo\n",
      "xox\n",
      "O..\n",
      "\n"
     ]
    },
    {
     "data": {
      "text/plain": [
       "'o'"
      ]
     },
     "execution_count": 19,
     "metadata": {},
     "output_type": "execute_result"
    }
   ],
   "source": [
    "mb.play(ai=[ai1s, ai1s])"
   ]
  },
  {
   "cell_type": "code",
   "execution_count": 20,
   "metadata": {},
   "outputs": [
    {
     "name": "stdout",
     "output_type": "stream",
     "text": [
      "ai1s VS ai1s\n",
      "count     win    lose    draw\n",
      "o       10000       0       0\n",
      "x           0   10000       0\n",
      "total   10000   10000       0\n",
      "\n",
      "ratio     win    lose    draw\n",
      "o      100.0%    0.0%    0.0%\n",
      "x        0.0%  100.0%    0.0%\n",
      "total   50.0%   50.0%    0.0%\n",
      "\n"
     ]
    }
   ],
   "source": [
    "from ai import ai_match\n",
    "\n",
    "ai_match(ai=[ai1s, ai1s])"
   ]
  },
  {
   "cell_type": "code",
   "execution_count": 21,
   "metadata": {},
   "outputs": [],
   "source": [
    "def restart(self):\n",
    "    self.initialize_board()\n",
    "    self.turn = Marubatsu.CIRCLE     \n",
    "    self.move_count = 0\n",
    "    self.status = Marubatsu.PLAYING\n",
    "    self.last_move = -1, -1          \n",
    "    self.last_turn = None\n",
    "    self.records = [self.last_turn]\n",
    "    \n",
    "Marubatsu.restart = restart"
   ]
  },
  {
   "cell_type": "code",
   "execution_count": 22,
   "metadata": {},
   "outputs": [],
   "source": [
    "def move(self, x, y):\n",
    "    if self.place_mark(x, y, self.turn):\n",
    "        self.last_turn = self.turn\n",
    "        self.turn = Marubatsu.CROSS if self.turn == Marubatsu.CIRCLE else Marubatsu.CIRCLE  \n",
    "        self.move_count += 1\n",
    "        self.status = self.judge()\n",
    "        self.last_move = x, y\n",
    "        if len(self.records) <= self.move_count:            \n",
    "            self.records.append(self.last_move)\n",
    "        else:\n",
    "            self.records[self.move_count] = self.last_move\n",
    "            self.records = self.records[0:self.move_count + 1]\n",
    "\n",
    "Marubatsu.move = move"
   ]
  },
  {
   "cell_type": "code",
   "execution_count": 23,
   "metadata": {},
   "outputs": [],
   "source": [
    "def update_widgets_status(self):   \n",
    "    # 0 手目と最後の着手を行った局面で、特定のリプレイに関するボタンを操作できないようにする\n",
    "    self.set_button_status(self.first_button, self.mb.move_count <= 0)\n",
    "    self.set_button_status(self.prev_button, self.mb.move_count <= 0)\n",
    "    self.set_button_status(self.next_button, self.mb.move_count >= len(self.mb.records) - 1)\n",
    "    self.set_button_status(self.last_button, self.mb.move_count >= len(self.mb.records) - 1)          \n",
    "\n",
    "Marubatsu_GUI.update_widgets_status = update_widgets_status"
   ]
  },
  {
   "cell_type": "code",
   "execution_count": 24,
   "metadata": {},
   "outputs": [],
   "source": [
    "def create_event_handler(self):\n",
    "    # 変更ボタンのイベントハンドラを定義する\n",
    "    def on_change_button_clicked(b):\n",
    "        for i in range(2):\n",
    "            self.mb.ai[i] = None if self.dropdown_list[i].value == \"人間\" else self.dropdown_list[i].value\n",
    "        self.mb.play_loop(self)\n",
    "\n",
    "    # リセットボタンのイベントハンドラを定義する\n",
    "    def on_reset_button_clicked(b):\n",
    "        self.mb.restart()\n",
    "        on_change_button_clicked(b)\n",
    "        \n",
    "    # イベントハンドラをボタンに結びつける\n",
    "    self.change_button.on_click(on_change_button_clicked)\n",
    "    self.reset_button.on_click(on_reset_button_clicked)   \n",
    "    \n",
    "    def change_step(step):\n",
    "        self.mb.change_step(step)\n",
    "        # 描画を更新する\n",
    "        self.draw_board()        \n",
    "\n",
    "    def on_first_button_clicked(b):\n",
    "        change_step(0)\n",
    "\n",
    "    def on_prev_button_clicked(b):\n",
    "        change_step(self.mb.move_count - 1)\n",
    "\n",
    "    def on_next_button_clicked(b):\n",
    "        change_step(self.mb.move_count + 1)\n",
    "        \n",
    "    def on_last_button_clicked(b):\n",
    "        change_step(len(self.mb.records) - 1)\n",
    "\n",
    "    self.first_button.on_click(on_first_button_clicked)\n",
    "    self.prev_button.on_click(on_prev_button_clicked)\n",
    "    self.next_button.on_click(on_next_button_clicked)\n",
    "    self.last_button.on_click(on_last_button_clicked)\n",
    "    \n",
    "    # ゲーム盤の上でマウスを押した場合のイベントハンドラ\n",
    "    def on_mouse_down(event):\n",
    "        # Axes の上でマウスを押していた場合のみ処理を行う\n",
    "        if event.inaxes and self.mb.status == Marubatsu.PLAYING:\n",
    "            x = math.floor(event.xdata)\n",
    "            y = math.floor(event.ydata)\n",
    "            self.mb.move(x, y)                \n",
    "            self.draw_board()\n",
    "            # 次の手番の処理を行うメソッドを呼び出す\n",
    "            self.mb.play_loop(self)\n",
    "            \n",
    "    # fig の画像にマウスを押した際のイベントハンドラを結び付ける\n",
    "    self.fig.canvas.mpl_connect(\"button_press_event\", on_mouse_down)    \n",
    "               \n",
    "Marubatsu_GUI.create_event_handler = create_event_handler"
   ]
  },
  {
   "cell_type": "code",
   "execution_count": 25,
   "metadata": {},
   "outputs": [],
   "source": [
    "def play(self, ai, ai_dict=None, params=None, verbose=True, seed=None, gui=False, size=3):   \n",
    "    # params が None の場合のデフォルト値を設定する\n",
    "    if params is None:\n",
    "        params = [{}, {}]\n",
    "        \n",
    "    # 一部の仮引数をインスタンスの属性に代入する\n",
    "    self.ai = ai\n",
    "    self.params = params\n",
    "    self.verbose = verbose\n",
    "    self.gui = gui\n",
    "    \n",
    "    # seed が None でない場合は、seed を乱数の種として設定する\n",
    "    if seed is not None:\n",
    "        random.seed(seed)\n",
    "\n",
    "    # gui が True の場合に、GUI の処理を行う Marubatsu_GUI のインスタンスを作成する\n",
    "    if gui:\n",
    "        mb_gui = Marubatsu_GUI(self, ai_dict=ai_dict, size=size)  \n",
    "    else:\n",
    "        mb_gui = None\n",
    "        \n",
    "    self.restart()\n",
    "    return self.play_loop(mb_gui)\n",
    "\n",
    "Marubatsu.play = play"
   ]
  },
  {
   "cell_type": "code",
   "execution_count": 27,
   "metadata": {},
   "outputs": [],
   "source": [
    "def change_step(self, step):\n",
    "    # step の範囲を正しい範囲に修正する\n",
    "    step = max(0, min(len(self.records) - 1, step))\n",
    "    self.restart()\n",
    "    for x, y in self.records[1:step+1]:\n",
    "        self.move(x, y)\n",
    "\n",
    "Marubatsu.change_step = change_step "
   ]
  },
  {
   "cell_type": "code",
   "execution_count": 28,
   "metadata": {},
   "outputs": [
    {
     "data": {
      "application/vnd.jupyter.widget-view+json": {
       "model_id": "c2b70605a9004a0cbe054b2436747e80",
       "version_major": 2,
       "version_minor": 0
      },
      "text/plain": [
       "VBox(children=(HBox(children=(Dropdown(description='〇', layout=Layout(width='100px'), options={'人間': '人間', 'ai…"
      ]
     },
     "metadata": {},
     "output_type": "display_data"
    },
    {
     "data": {
      "application/vnd.jupyter.widget-view+json": {
       "model_id": "ed2fc7a820ac46c5b44b088831a6de0e",
       "version_major": 2,
       "version_minor": 0
      },
      "image/png": "[encoded data removed]",
      "text/html": [
       "\n",
       "            <div style=\"display: inline-block;\">\n",
       "                <div class=\"jupyter-widgets widget-label\" style=\"text-align: center;\">\n",
       "                    Figure\n",
       "                </div>\n",
       "                <img src='data:image/png;base64,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' width=300.0/>\n",
       "            </div>\n",
       "        "
      ],
      "text/plain": [
       "Canvas(footer_visible=False, header_visible=False, resizable=False, toolbar=Toolbar(toolitems=[('Home', 'Reset…"
      ]
     },
     "metadata": {},
     "output_type": "display_data"
    }
   ],
   "source": [
    "gui_play()"
   ]
  },
  {
   "cell_type": "code",
   "execution_count": 29,
   "metadata": {},
   "outputs": [],
   "source": [
    "def change_step(self, step):\n",
    "    # step の範囲を正しい範囲に修正する\n",
    "    step = max(0, min(len(self.records) - 1, step))\n",
    "    # self.records の値は restart メソッドを呼び出すと初期化されるので\n",
    "    # ローカル変数 records に代入して取っておく\n",
    "    records = self.records\n",
    "    self.restart()\n",
    "    for x, y in records[1:step+1]:\n",
    "        self.move(x, y)\n",
    "\n",
    "Marubatsu.change_step = change_step "
   ]
  },
  {
   "cell_type": "code",
   "execution_count": 30,
   "metadata": {},
   "outputs": [
    {
     "data": {
      "application/vnd.jupyter.widget-view+json": {
       "model_id": "79b8529aa7654ee9beb74efaf980887a",
       "version_major": 2,
       "version_minor": 0
      },
      "text/plain": [
       "VBox(children=(HBox(children=(Dropdown(description='〇', layout=Layout(width='100px'), options={'人間': '人間', 'ai…"
      ]
     },
     "metadata": {},
     "output_type": "display_data"
    },
    {
     "data": {
      "application/vnd.jupyter.widget-view+json": {
       "model_id": "ba3f1990f7f1473abf3600f2ddda54fb",
       "version_major": 2,
       "version_minor": 0
      },
      "image/png": "[encoded data removed]",
      "text/html": [
       "\n",
       "            <div style=\"display: inline-block;\">\n",
       "                <div class=\"jupyter-widgets widget-label\" style=\"text-align: center;\">\n",
       "                    Figure\n",
       "                </div>\n",
       "                <img src='data:image/png;base64,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' width=300.0/>\n",
       "            </div>\n",
       "        "
      ],
      "text/plain": [
       "Canvas(footer_visible=False, header_visible=False, resizable=False, toolbar=Toolbar(toolitems=[('Home', 'Reset…"
      ]
     },
     "metadata": {},
     "output_type": "display_data"
    }
   ],
   "source": [
    "gui_play()"
   ]
  },
  {
   "cell_type": "code",
   "execution_count": 31,
   "metadata": {},
   "outputs": [],
   "source": [
    "def change_step(self, step):\n",
    "    # step の範囲を正しい範囲に修正する\n",
    "    step = max(0, min(len(self.records) - 1, step))\n",
    "    records = self.records\n",
    "    self.restart()\n",
    "    for x, y in records[1:step+1]:\n",
    "        self.move(x, y)\n",
    "    self.records = records\n",
    "\n",
    "Marubatsu.change_step = change_step  "
   ]
  },
  {
   "cell_type": "code",
   "execution_count": 32,
   "metadata": {},
   "outputs": [
    {
     "data": {
      "application/vnd.jupyter.widget-view+json": {
       "model_id": "6231cda0db114c32bc86fb44436f12c2",
       "version_major": 2,
       "version_minor": 0
      },
      "text/plain": [
       "VBox(children=(HBox(children=(Dropdown(description='〇', layout=Layout(width='100px'), options={'人間': '人間', 'ai…"
      ]
     },
     "metadata": {},
     "output_type": "display_data"
    },
    {
     "data": {
      "application/vnd.jupyter.widget-view+json": {
       "model_id": "e820453a6c7f4a92bf31030521dda42d",
       "version_major": 2,
       "version_minor": 0
      },
      "image/png": "[encoded data removed]",
      "text/html": [
       "\n",
       "            <div style=\"display: inline-block;\">\n",
       "                <div class=\"jupyter-widgets widget-label\" style=\"text-align: center;\">\n",
       "                    Figure\n",
       "                </div>\n",
       "                <img src='data:image/png;base64,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' width=300.0/>\n",
       "            </div>\n",
       "        "
      ],
      "text/plain": [
       "Canvas(footer_visible=False, header_visible=False, resizable=False, toolbar=Toolbar(toolitems=[('Home', 'Reset…"
      ]
     },
     "metadata": {},
     "output_type": "display_data"
    }
   ],
   "source": [
    "gui_play()"
   ]
  },
  {
   "cell_type": "code",
   "execution_count": 33,
   "metadata": {},
   "outputs": [
    {
     "name": "stdout",
     "output_type": "stream",
     "text": [
      "ai1s VS ai1s\n",
      "count     win    lose    draw\n",
      "o       10000       0       0\n",
      "x           0   10000       0\n",
      "total   10000   10000       0\n",
      "\n",
      "ratio     win    lose    draw\n",
      "o      100.0%    0.0%    0.0%\n",
      "x        0.0%  100.0%    0.0%\n",
      "total   50.0%   50.0%    0.0%\n",
      "\n"
     ]
    }
   ],
   "source": [
    "ai_match(ai=[ai1s, ai1s])"
   ]
  }
 ],
 "metadata": {
  "kernelspec": {
   "display_name": "marubatsu",
   "language": "python",
   "name": "python3"
  },
  "language_info": {
   "codemirror_mode": {
    "name": "ipython",
    "version": 3
   },
   "file_extension": ".py",
   "mimetype": "text/x-python",
   "name": "python",
   "nbconvert_exporter": "python",
   "pygments_lexer": "ipython3",
   "version": "3.11.4"
  }
 },
 "nbformat": 4,
 "nbformat_minor": 2
}
