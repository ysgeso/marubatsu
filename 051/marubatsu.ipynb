{
 "cells": [
  {
   "cell_type": "code",
   "execution_count": 1,
   "metadata": {},
   "outputs": [],
   "source": [
    "from ai import ai_by_score\n",
    "from marubatsu import Marubatsu\n",
    "\n",
    "def ai8s(mb, debug=False):\n",
    "    def eval_func(mb):\n",
    "        # 真ん中のマスに着手している場合は、評価値として 3 を返す\n",
    "        if mb.last_move == (1, 1):\n",
    "            return 3\n",
    "    \n",
    "        # 自分が勝利している場合は、評価値として 2 を返す\n",
    "        if mb.status == mb.last_turn:\n",
    "            return 2\n",
    "\n",
    "        # 相手の手番で相手が勝利できる場合は評価値として -1 を返す\n",
    "        # そうでなく、「自 2 敵 0 空 1」がある場合は評価値として 1 を返す\n",
    "        # 横方向と縦方向の判定\n",
    "        for i in range(mb.BOARD_SIZE):\n",
    "            count = mb.count_marks(coord=[0, i], dx=1, dy=0)\n",
    "            # 「自 0 敵 2 空 1」の場合は相手が勝利できる\n",
    "            if count[mb.turn] == 2 and count[Marubatsu.EMPTY] == 1:\n",
    "                return -1\n",
    "            # 「自 2 敵 0 空 1」の場合は次の自分の手番で自分が勝利できる\n",
    "            elif count[mb.last_turn] == 2 and count[Marubatsu.EMPTY] == 1:\n",
    "                return 1\n",
    "            count = mb.count_marks(coord=[i, 0], dx=0, dy=1)\n",
    "            if count[mb.turn] == 2 and count[Marubatsu.EMPTY] == 1:\n",
    "                return -1\n",
    "            elif count[mb.last_turn] == 2 and count[Marubatsu.EMPTY] == 1:\n",
    "                return 1\n",
    "        # 左上から右下方向の判定\n",
    "        count = mb.count_marks(coord=[0, 0], dx=1, dy=1)\n",
    "        if count[mb.turn] == 2 and count[Marubatsu.EMPTY] == 1:\n",
    "            return -1\n",
    "        elif count[mb.last_turn] == 2 and count[Marubatsu.EMPTY] == 1:\n",
    "            return 1\n",
    "        # 右上から左下方向の判定\n",
    "        count = mb.count_marks(coord=[2, 0], dx=-1, dy=1)\n",
    "        if count[mb.turn] == 2 and count[Marubatsu.EMPTY] == 1:\n",
    "            return -1\n",
    "        elif count[mb.last_turn] == 2 and count[Marubatsu.EMPTY] == 1:\n",
    "            return 1\n",
    "\n",
    "        # それ以外の場合は評価値として 0 を返す\n",
    "        return 0\n",
    "\n",
    "    return ai_by_score(mb, eval_func, debug=debug) "
   ]
  },
  {
   "cell_type": "code",
   "execution_count": 2,
   "metadata": {},
   "outputs": [
    {
     "name": "stdout",
     "output_type": "stream",
     "text": [
      "ai8s VS ai2\n",
      "count     win    lose    draw\n",
      "o        9726     148     126\n",
      "x        8608     854     538\n",
      "total   18334    1002     664\n",
      "\n",
      "ratio     win    lose    draw\n",
      "o       97.3%    1.5%    1.3%\n",
      "x       86.1%    8.5%    5.4%\n",
      "total   91.7%    5.0%    3.3%\n",
      "\n"
     ]
    }
   ],
   "source": [
    "from ai import ai_match, ai2, ai7s\n",
    "\n",
    "ai_match(ai=[ai8s, ai2])"
   ]
  },
  {
   "cell_type": "code",
   "execution_count": 3,
   "metadata": {},
   "outputs": [
    {
     "name": "stdout",
     "output_type": "stream",
     "text": [
      "ai8s VS ai7s\n",
      "count     win    lose    draw\n",
      "o        2563    3392    4045\n",
      "x          92    7373    2535\n",
      "total    2655   10765    6580\n",
      "\n",
      "ratio     win    lose    draw\n",
      "o       25.6%   33.9%   40.5%\n",
      "x        0.9%   73.7%   25.4%\n",
      "total   13.3%   53.8%   32.9%\n",
      "\n"
     ]
    }
   ],
   "source": [
    "ai_match(ai=[ai8s, ai7s])"
   ]
  },
  {
   "cell_type": "code",
   "execution_count": 4,
   "metadata": {},
   "outputs": [
    {
     "name": "stdout",
     "output_type": "stream",
     "text": [
      "Turn o\n",
      "o..\n",
      "xX.\n",
      "o..\n",
      "\n",
      "Start ai_by_score\n",
      "Turn o\n",
      "o..\n",
      "xX.\n",
      "o..\n",
      "\n",
      "legal_moves [(1, 0), (2, 0), (2, 1), (1, 2), (2, 2)]\n",
      "====================\n",
      "move (1, 0)\n",
      "Turn x\n",
      "oO.\n",
      "xx.\n",
      "o..\n",
      "\n",
      "score 1 best score -inf\n",
      "UPDATE\n",
      "  best score 1\n",
      "  best moves [(1, 0)]\n",
      "====================\n",
      "move (2, 0)\n",
      "Turn x\n",
      "o.O\n",
      "xx.\n",
      "o..\n",
      "\n",
      "score 1 best score 1\n",
      "APPEND\n",
      "  best moves [(1, 0), (2, 0)]\n",
      "====================\n",
      "move (2, 1)\n",
      "Turn x\n",
      "o..\n",
      "xxO\n",
      "o..\n",
      "\n",
      "score 0 best score 1\n",
      "====================\n",
      "move (1, 2)\n",
      "Turn x\n",
      "o..\n",
      "xx.\n",
      "oO.\n",
      "\n",
      "score -1 best score 1\n",
      "====================\n",
      "move (2, 2)\n",
      "Turn x\n",
      "o..\n",
      "xx.\n",
      "o.O\n",
      "\n",
      "score -1 best score 1\n",
      "====================\n",
      "Finished\n",
      "best score 1\n",
      "best moves [(1, 0), (2, 0)]\n"
     ]
    },
    {
     "data": {
      "text/plain": [
       "(1, 0)"
      ]
     },
     "execution_count": 4,
     "metadata": {},
     "output_type": "execute_result"
    }
   ],
   "source": [
    "mb = Marubatsu()\n",
    "mb.move(0, 0)\n",
    "mb.move(0, 1)\n",
    "mb.move(0, 2)\n",
    "mb.move(1, 1)\n",
    "print(mb)\n",
    "\n",
    "ai8s(mb, debug=True)"
   ]
  },
  {
   "cell_type": "code",
   "execution_count": 5,
   "metadata": {},
   "outputs": [],
   "source": [
    "def ai8s(mb, debug=False):\n",
    "    def eval_func(mb):\n",
    "        # 真ん中のマスに着手している場合は、評価値として 3 を返す\n",
    "        if mb.last_move == (1, 1):\n",
    "            return 3\n",
    "    \n",
    "        # 自分が勝利している場合は、評価値として 2 を返す\n",
    "        if mb.status == mb.last_turn:\n",
    "            return 2\n",
    "\n",
    "        # 相手の手番で相手が勝利できる場合は評価値として -1 を返す\n",
    "        # 横方向と縦方向の判定\n",
    "        for i in range(mb.BOARD_SIZE):\n",
    "            count = mb.count_marks(coord=[0, i], dx=1, dy=0)\n",
    "            if count[mb.turn] == 2 and count[Marubatsu.EMPTY] == 1:\n",
    "                return -1\n",
    "            count = mb.count_marks(coord=[i, 0], dx=0, dy=1)\n",
    "            if count[mb.turn] == 2 and count[Marubatsu.EMPTY] == 1:\n",
    "                return -1\n",
    "        # 左上から右下方向の判定\n",
    "        count = mb.count_marks(coord=[0, 0], dx=1, dy=1)\n",
    "        if count[mb.turn] == 2 and count[Marubatsu.EMPTY] == 1:\n",
    "            return -1\n",
    "        # 右上から左下方向の判定\n",
    "        count = mb.count_marks(coord=[2, 0], dx=-1, dy=1)\n",
    "        if count[mb.turn] == 2 and count[Marubatsu.EMPTY] == 1:\n",
    "            return -1\n",
    "\n",
    "        # そうでなく、「自 2 敵 0 空 1」がある場合は評価値として 1 を返す\n",
    "        # 横方向と縦方向の判定\n",
    "        for i in range(mb.BOARD_SIZE):\n",
    "            count = mb.count_marks(coord=[0, i], dx=1, dy=0)\n",
    "            if count[mb.last_turn] == 2 and count[Marubatsu.EMPTY] == 1:\n",
    "                return 1\n",
    "            count = mb.count_marks(coord=[i, 0], dx=0, dy=1)\n",
    "            if count[mb.last_turn] == 2 and count[Marubatsu.EMPTY] == 1:\n",
    "                return 1\n",
    "        # 左上から右下方向の判定\n",
    "        count = mb.count_marks(coord=[0, 0], dx=1, dy=1)\n",
    "        if count[mb.last_turn] == 2 and count[Marubatsu.EMPTY] == 1:\n",
    "            return 1\n",
    "        # 右上から左下方向の判定\n",
    "        count = mb.count_marks(coord=[2, 0], dx=-1, dy=1)\n",
    "        if count[mb.last_turn] == 2 and count[Marubatsu.EMPTY] == 1:\n",
    "            return 1            \n",
    "\n",
    "        # それ以外の場合は評価値として 0 を返す\n",
    "        return 0\n",
    "\n",
    "    return ai_by_score(mb, eval_func, debug=debug) "
   ]
  },
  {
   "cell_type": "code",
   "execution_count": 6,
   "metadata": {},
   "outputs": [
    {
     "name": "stdout",
     "output_type": "stream",
     "text": [
      "ai8s VS ai2\n",
      "count     win    lose    draw\n",
      "o        9824      14     162\n",
      "x        8938     249     813\n",
      "total   18762     263     975\n",
      "\n",
      "ratio     win    lose    draw\n",
      "o       98.2%    0.1%    1.6%\n",
      "x       89.4%    2.5%    8.1%\n",
      "total   93.8%    1.3%    4.9%\n",
      "\n"
     ]
    }
   ],
   "source": [
    "ai_match(ai=[ai8s, ai2])"
   ]
  },
  {
   "cell_type": "code",
   "execution_count": 7,
   "metadata": {},
   "outputs": [
    {
     "name": "stdout",
     "output_type": "stream",
     "text": [
      "ai8s VS ai7s\n",
      "count     win    lose    draw\n",
      "o        3343     393    6264\n",
      "x         388    2884    6728\n",
      "total    3731    3277   12992\n",
      "\n",
      "ratio     win    lose    draw\n",
      "o       33.4%    3.9%   62.6%\n",
      "x        3.9%   28.8%   67.3%\n",
      "total   18.7%   16.4%   65.0%\n",
      "\n"
     ]
    }
   ],
   "source": [
    "ai_match(ai=[ai8s, ai7s])"
   ]
  },
  {
   "cell_type": "code",
   "execution_count": 8,
   "metadata": {},
   "outputs": [],
   "source": [
    "def enum_markpats(self):\n",
    "    markpats = []    \n",
    " \n",
    "    # 横方向と縦方向の判定\n",
    "    for i in range(self.BOARD_SIZE):\n",
    "        count = self.count_marks(coord=[0, i], dx=1, dy=0)\n",
    "        markpats.append(count)\n",
    "        count = self.count_marks(coord=[i, 0], dx=0, dy=1)\n",
    "        markpats.append(count)\n",
    "    # 左上から右下方向の判定\n",
    "    count = self.count_marks(coord=[0, 0], dx=1, dy=1)\n",
    "    markpats.append(count)\n",
    "    # 右上から左下方向の判定\n",
    "    count = self.count_marks(coord=[2, 0], dx=-1, dy=1)\n",
    "    markpats.append(count)\n",
    "\n",
    "    return markpats"
   ]
  },
  {
   "cell_type": "code",
   "execution_count": 9,
   "metadata": {},
   "outputs": [],
   "source": [
    "def enum_markpats(self):\n",
    "    markpats = []    \n",
    " \n",
    "    # 横方向と縦方向の判定\n",
    "    for i in range(self.BOARD_SIZE):\n",
    "        markpats.append(self.count_marks(coord=[0, i], dx=1, dy=0))\n",
    "        markpats.append(self.count_marks(coord=[i, 0], dx=0, dy=1))\n",
    "    # 左上から右下方向の判定\n",
    "    markpats.append(self.count_marks(coord=[0, 0], dx=1, dy=1))\n",
    "    # 右上から左下方向の判定\n",
    "    markpats.append(self.count_marks(coord=[2, 0], dx=-1, dy=1))\n",
    "\n",
    "    return markpats\n",
    "\n",
    "Marubatsu.enum_markpats = enum_markpats"
   ]
  },
  {
   "cell_type": "code",
   "execution_count": 10,
   "metadata": {},
   "outputs": [
    {
     "name": "stdout",
     "output_type": "stream",
     "text": [
      "Turn o\n",
      "...\n",
      "...\n",
      "...\n",
      "\n",
      "[defaultdict(<class 'int'>, {'.': 3}),\n",
      " defaultdict(<class 'int'>, {'.': 3}),\n",
      " defaultdict(<class 'int'>, {'.': 3}),\n",
      " defaultdict(<class 'int'>, {'.': 3}),\n",
      " defaultdict(<class 'int'>, {'.': 3}),\n",
      " defaultdict(<class 'int'>, {'.': 3}),\n",
      " defaultdict(<class 'int'>, {'.': 3}),\n",
      " defaultdict(<class 'int'>, {'.': 3})]\n",
      "Turn x\n",
      "...\n",
      ".O.\n",
      "...\n",
      "\n",
      "[defaultdict(<class 'int'>, {'.': 3}),\n",
      " defaultdict(<class 'int'>, {'.': 3}),\n",
      " defaultdict(<class 'int'>, {'.': 2, 'o': 1}),\n",
      " defaultdict(<class 'int'>, {'.': 2, 'o': 1}),\n",
      " defaultdict(<class 'int'>, {'.': 3}),\n",
      " defaultdict(<class 'int'>, {'.': 3}),\n",
      " defaultdict(<class 'int'>, {'.': 2, 'o': 1}),\n",
      " defaultdict(<class 'int'>, {'.': 2, 'o': 1})]\n",
      "Turn o\n",
      "X..\n",
      ".o.\n",
      "...\n",
      "\n",
      "[defaultdict(<class 'int'>, {'x': 1, '.': 2}),\n",
      " defaultdict(<class 'int'>, {'x': 1, '.': 2}),\n",
      " defaultdict(<class 'int'>, {'.': 2, 'o': 1}),\n",
      " defaultdict(<class 'int'>, {'.': 2, 'o': 1}),\n",
      " defaultdict(<class 'int'>, {'.': 3}),\n",
      " defaultdict(<class 'int'>, {'.': 3}),\n",
      " defaultdict(<class 'int'>, {'x': 1, 'o': 1, '.': 1}),\n",
      " defaultdict(<class 'int'>, {'.': 2, 'o': 1})]\n",
      "Turn x\n",
      "xO.\n",
      ".o.\n",
      "...\n",
      "\n",
      "[defaultdict(<class 'int'>, {'x': 1, 'o': 1, '.': 1}),\n",
      " defaultdict(<class 'int'>, {'x': 1, '.': 2}),\n",
      " defaultdict(<class 'int'>, {'.': 2, 'o': 1}),\n",
      " defaultdict(<class 'int'>, {'o': 2, '.': 1}),\n",
      " defaultdict(<class 'int'>, {'.': 3}),\n",
      " defaultdict(<class 'int'>, {'.': 3}),\n",
      " defaultdict(<class 'int'>, {'x': 1, 'o': 1, '.': 1}),\n",
      " defaultdict(<class 'int'>, {'.': 2, 'o': 1})]\n"
     ]
    }
   ],
   "source": [
    "from pprint import pprint\n",
    "mb = Marubatsu()\n",
    "\n",
    "print(mb)\n",
    "pprint(mb.enum_markpats())\n",
    "\n",
    "mb.move(1, 1)\n",
    "print(mb)\n",
    "pprint(mb.enum_markpats())\n",
    "\n",
    "mb.move(0, 0)\n",
    "print(mb)\n",
    "pprint(mb.enum_markpats())\n",
    "\n",
    "mb.move(1, 0)\n",
    "print(mb)\n",
    "pprint(mb.enum_markpats())"
   ]
  },
  {
   "cell_type": "code",
   "execution_count": 11,
   "metadata": {},
   "outputs": [
    {
     "name": "stdout",
     "output_type": "stream",
     "text": [
      "True\n",
      "False\n",
      "False\n",
      "False\n",
      "True\n"
     ]
    }
   ],
   "source": [
    "a = {\"x\": 1, \"y\": 2}\n",
    "b = {\"x\": 1, \"y\": 2}\n",
    "c = {\"z\": 1}\n",
    "d = {\"x\": 1, \"y\": 3}\n",
    "e = {\"x\": 1}\n",
    "f = {\"y\": 2, \"x\": 1}\n",
    "\n",
    "print(a == b)\n",
    "print(a == c)\n",
    "print(a == d)\n",
    "print(a == e)\n",
    "print(a == f)"
   ]
  },
  {
   "cell_type": "code",
   "execution_count": 12,
   "metadata": {},
   "outputs": [
    {
     "name": "stdout",
     "output_type": "stream",
     "text": [
      "True\n"
     ]
    }
   ],
   "source": [
    "from collections import defaultdict\n",
    "\n",
    "a = {\"x\": 1, \"y\": 2}\n",
    "b = defaultdict(int)\n",
    "b[\"x\"] = 1\n",
    "b[\"y\"] = 2\n",
    "print(a == b)"
   ]
  },
  {
   "cell_type": "code",
   "execution_count": 13,
   "metadata": {},
   "outputs": [
    {
     "name": "stdout",
     "output_type": "stream",
     "text": [
      "Turn x\n",
      "xO.\n",
      ".o.\n",
      "...\n",
      "\n",
      "[defaultdict(<class 'int'>, {'x': 1, 'o': 1, '.': 1}),\n",
      " defaultdict(<class 'int'>, {'x': 1, '.': 2}),\n",
      " defaultdict(<class 'int'>, {'.': 2, 'o': 1}),\n",
      " defaultdict(<class 'int'>, {'o': 2, '.': 1}),\n",
      " defaultdict(<class 'int'>, {'.': 3}),\n",
      " defaultdict(<class 'int'>, {'.': 3}),\n",
      " defaultdict(<class 'int'>, {'x': 1, 'o': 1, '.': 1}),\n",
      " defaultdict(<class 'int'>, {'.': 2, 'o': 1})]\n",
      "False\n"
     ]
    }
   ],
   "source": [
    "print(mb)\n",
    "markpats = mb.enum_markpats()\n",
    "pprint(markpats)\n",
    "print({Marubatsu.CIRCLE: 2, Marubatsu.CROSS: 0, Marubatsu.EMPTY: 1} in markpats)\n"
   ]
  },
  {
   "cell_type": "code",
   "execution_count": 14,
   "metadata": {},
   "outputs": [
    {
     "name": "stdout",
     "output_type": "stream",
     "text": [
      "a: {'x': 1, 'y': 0}\n",
      "b: defaultdict(<class 'int'>, {'x': 1})\n",
      "a == b: False\n",
      "a[\"y\"] == b[\"y\"] True\n",
      "a: {'x': 1, 'y': 0}\n",
      "b: defaultdict(<class 'int'>, {'x': 1, 'y': 0})\n",
      "a == b: True\n"
     ]
    }
   ],
   "source": [
    "a = {\"x\": 1, \"y\": 0}\n",
    "b = defaultdict(int)\n",
    "b[\"x\"] = 1\n",
    "\n",
    "print(\"a:\", a)\n",
    "print(\"b:\", b)\n",
    "print(\"a == b:\", a == b)\n",
    "\n",
    "print('a[\"y\"] == b[\"y\"]', a [\"y\"] == b[\"y\"])\n",
    "print(\"a:\", a)\n",
    "print(\"b:\", b)\n",
    "print(\"a == b:\", a == b)"
   ]
  },
  {
   "cell_type": "code",
   "execution_count": 15,
   "metadata": {},
   "outputs": [
    {
     "name": "stdout",
     "output_type": "stream",
     "text": [
      "Turn x\n",
      "xO.\n",
      ".o.\n",
      "...\n",
      "\n",
      "True\n"
     ]
    }
   ],
   "source": [
    "print(mb)\n",
    "markpats = mb.enum_markpats()\n",
    "print({Marubatsu.CIRCLE: 2, Marubatsu.EMPTY: 1} in markpats)"
   ]
  },
  {
   "cell_type": "code",
   "execution_count": 16,
   "metadata": {},
   "outputs": [],
   "source": [
    "def ai8s2(mb, debug=False):\n",
    "    def eval_func(mb):\n",
    "        # 真ん中のマスに着手している場合は、評価値として 2 を返す\n",
    "        if mb.last_move == (1, 1):\n",
    "            return 3\n",
    "    \n",
    "        # 自分が勝利している場合は、評価値として 1 を返す\n",
    "        if mb.status == mb.last_turn:\n",
    "            return 2\n",
    "\n",
    "        markpats = mb.enum_markpats()\n",
    "        # 相手が勝利できる場合は評価値として -1 を返す\n",
    "        if {mb.turn: 2, Marubatsu.EMPTY: 1} in markpats:\n",
    "            return -1\n",
    "        # 次の自分の手番で自分が勝利できる場合は評価値として 1 を返す\n",
    "        elif {mb.last_turn: 2, Marubatsu.EMPTY: 1} in markpats:\n",
    "            return 1\n",
    "        # それ以外の場合は評価値として 0 を返す\n",
    "        else:\n",
    "            return 0\n",
    "\n",
    "    return ai_by_score(mb, eval_func, debug=debug) "
   ]
  },
  {
   "cell_type": "code",
   "execution_count": 17,
   "metadata": {},
   "outputs": [
    {
     "name": "stdout",
     "output_type": "stream",
     "text": [
      "ai8s2 VS ai8s\n",
      "count     win    lose    draw\n",
      "o        3339     412    6249\n",
      "x         405    3389    6206\n",
      "total    3744    3801   12455\n",
      "\n",
      "ratio     win    lose    draw\n",
      "o       33.4%    4.1%   62.5%\n",
      "x        4.0%   33.9%   62.1%\n",
      "total   18.7%   19.0%   62.3%\n",
      "\n"
     ]
    }
   ],
   "source": [
    "ai_match(ai=[ai8s2, ai8s])"
   ]
  },
  {
   "cell_type": "code",
   "execution_count": 18,
   "metadata": {},
   "outputs": [
    {
     "name": "stdout",
     "output_type": "stream",
     "text": [
      "ai8s VS ai8s\n",
      "count     win    lose    draw\n",
      "o        3316     431    6253\n",
      "x         404    3351    6245\n",
      "total    3720    3782   12498\n",
      "\n",
      "ratio     win    lose    draw\n",
      "o       33.2%    4.3%   62.5%\n",
      "x        4.0%   33.5%   62.5%\n",
      "total   18.6%   18.9%   62.5%\n",
      "\n"
     ]
    }
   ],
   "source": [
    "ai_match(ai=[ai8s, ai8s])"
   ]
  },
  {
   "cell_type": "code",
   "execution_count": 19,
   "metadata": {},
   "outputs": [
    {
     "name": "stdout",
     "output_type": "stream",
     "text": [
      "ai8s2 VS ai8s2\n",
      "count     win    lose    draw\n",
      "o        3386     416    6198\n",
      "x         409    3292    6299\n",
      "total    3795    3708   12497\n",
      "\n",
      "ratio     win    lose    draw\n",
      "o       33.9%    4.2%   62.0%\n",
      "x        4.1%   32.9%   63.0%\n",
      "total   19.0%   18.5%   62.5%\n",
      "\n"
     ]
    }
   ],
   "source": [
    "ai_match(ai=[ai8s2, ai8s2])"
   ]
  },
  {
   "cell_type": "code",
   "execution_count": null,
   "metadata": {},
   "outputs": [],
   "source": []
  }
 ],
 "metadata": {
  "kernelspec": {
   "display_name": "marubatsu",
   "language": "python",
   "name": "python3"
  },
  "language_info": {
   "codemirror_mode": {
    "name": "ipython",
    "version": 3
   },
   "file_extension": ".py",
   "mimetype": "text/x-python",
   "name": "python",
   "nbconvert_exporter": "python",
   "pygments_lexer": "ipython3",
   "version": "3.11.4"
  }
 },
 "nbformat": 4,
 "nbformat_minor": 2
}
