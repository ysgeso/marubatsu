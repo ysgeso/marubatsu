{
 "cells": [
  {
   "cell_type": "code",
   "execution_count": 1,
   "metadata": {},
   "outputs": [],
   "source": [
    "from marubatsu import Marubatsu\n",
    "from tree import Mbtree\n",
    "\n",
    "def calc_score_of_node(self, node):\n",
    "    if node.mb.status == Marubatsu.CIRCLE:\n",
    "        node.score = (11 - node.depth) / 2 if self.shortest_victory else 1\n",
    "    elif node.mb.status == Marubatsu.DRAW:\n",
    "        node.score = 0\n",
    "    elif node.mb.status == Marubatsu.CROSS:\n",
    "        node.score = (node.depth - 10) / 2 if self.shortest_victory else -1\n",
    "    node.max_score = node.score\n",
    "    node.min_score = node.score\n",
    "    \n",
    "Mbtree.calc_score_of_node = calc_score_of_node"
   ]
  },
  {
   "cell_type": "code",
   "execution_count": 2,
   "metadata": {},
   "outputs": [],
   "source": [
    "def calc_score_by_bf(self):\n",
    "    self.nodelist_by_score = self.nodelist[:]\n",
    "    for nodelist in reversed(self.nodelist_by_depth):\n",
    "        for node in nodelist:\n",
    "            if node.mb.status != Marubatsu.PLAYING:\n",
    "                self.calc_score_of_node(node)\n",
    "            else:\n",
    "                score_list = [childnode.score for childnode in node.children]\n",
    "                if node.mb.move_count % 2 == 0:\n",
    "                    score = max(score_list)\n",
    "                else:\n",
    "                    score = min(score_list)\n",
    "                node.score = score\n",
    "                node.max_score = max([childnode.max_score for childnode in node.children])\n",
    "                node.min_score = min([childnode.min_score for childnode in node.children])\n",
    "            self.nodelist_by_score.append(node)\n",
    "            node.score_index = len(self.nodelist_by_score) - 1 \n",
    "\n",
    "Mbtree.calc_score_by_bf = calc_score_by_bf"
   ]
  },
  {
   "cell_type": "code",
   "execution_count": 3,
   "metadata": {},
   "outputs": [
    {
     "name": "stdout",
     "output_type": "stream",
     "text": [
      "     9 depth 1 node created\n",
      "    72 depth 2 node created\n",
      "   504 depth 3 node created\n",
      "  3024 depth 4 node created\n",
      " 15120 depth 5 node created\n",
      " 54720 depth 6 node created\n",
      "148176 depth 7 node created\n",
      "200448 depth 8 node created\n",
      "127872 depth 9 node created\n",
      "     0 depth 10 node created\n",
      "total node num = 549946\n",
      "max_score 3.0\n",
      "min_score -2.0\n"
     ]
    }
   ],
   "source": [
    "mbtree = Mbtree(shortest_victory=True)\n",
    "print(\"max_score\", mbtree.root.max_score)\n",
    "print(\"min_score\", mbtree.root.min_score)"
   ]
  },
  {
   "cell_type": "code",
   "execution_count": 4,
   "metadata": {},
   "outputs": [],
   "source": [
    "def calc_score_by_df(self, node):          \n",
    "    self.nodelist_by_score.append(node)\n",
    "    if node.mb.status != Marubatsu.PLAYING:\n",
    "        self.calc_score_of_node(node)\n",
    "    else:\n",
    "        score_list = []\n",
    "        max_score_list = []\n",
    "        min_score_list = []\n",
    "        for childnode in node.children:\n",
    "            score, max_score, min_score = self.calc_score_by_df(childnode)\n",
    "            score_list.append(score)\n",
    "            max_score_list.append(max_score)\n",
    "            min_score_list.append(min_score)\n",
    "            self.nodelist_by_score.append(node)\n",
    "        if node.mb.move_count % 2 == 0:\n",
    "            score = max(score_list)\n",
    "        else:\n",
    "            score = min(score_list)\n",
    "        node.score = score\n",
    "        node.max_score = max(max_score_list)\n",
    "        node.min_score = min(min_score_list)\n",
    "        \n",
    "    self.nodelist_by_score.append(node)\n",
    "    node.score_index = len(self.nodelist_by_score) - 1        \n",
    "    return node.score, node.max_score, node.min_score \n",
    "\n",
    "Mbtree.calc_score_by_df = calc_score_by_df"
   ]
  },
  {
   "cell_type": "code",
   "execution_count": 5,
   "metadata": {},
   "outputs": [
    {
     "name": "stdout",
     "output_type": "stream",
     "text": [
      "max_score 3.0\n",
      "min_score -2.0\n"
     ]
    }
   ],
   "source": [
    "mbtree = Mbtree(algo=\"df\", shortest_victory=True)\n",
    "print(\"max_score\", mbtree.root.max_score)\n",
    "print(\"min_score\", mbtree.root.min_score)"
   ]
  },
  {
   "cell_type": "code",
   "execution_count": 6,
   "metadata": {},
   "outputs": [],
   "source": [
    "def calc_score_by_bf(self):\n",
    "    self.nodelist_by_score = self.nodelist[:]\n",
    "    for nodelist in reversed(self.nodelist_by_depth):\n",
    "        for node in nodelist:\n",
    "            if node.mb.status != Marubatsu.PLAYING:\n",
    "                self.calc_score_of_node(node)\n",
    "            else:\n",
    "                score_list = [childnode.score for childnode in node.children]\n",
    "                if node.mb.move_count % 2 == 0:\n",
    "                    score = max(score_list)\n",
    "                else:\n",
    "                    score = min(score_list)\n",
    "                node.score = score\n",
    "                node.max_score = max([childnode.max_score for childnode in node.children])\n",
    "                node.min_score = min([childnode.min_score for childnode in node.children])\n",
    "            if node.score == 0:\n",
    "                if node.mb.move_count % 2 == 1:\n",
    "                    if node.max_score > 0:\n",
    "                        node.score = 0.5\n",
    "                else:\n",
    "                    if node.min_score < 0:\n",
    "                        node.score = -0.5\n",
    "            self.nodelist_by_score.append(node)\n",
    "            node.score_index = len(self.nodelist_by_score) - 1 \n",
    "\n",
    "Mbtree.calc_score_by_bf = calc_score_by_bf"
   ]
  },
  {
   "cell_type": "code",
   "execution_count": 7,
   "metadata": {},
   "outputs": [
    {
     "name": "stdout",
     "output_type": "stream",
     "text": [
      "     9 depth 1 node created\n",
      "    72 depth 2 node created\n",
      "   504 depth 3 node created\n",
      "  3024 depth 4 node created\n",
      " 15120 depth 5 node created\n",
      " 54720 depth 6 node created\n",
      "148176 depth 7 node created\n",
      "200448 depth 8 node created\n",
      "127872 depth 9 node created\n",
      "     0 depth 10 node created\n",
      "total node num = 549946\n",
      "0.5\n"
     ]
    }
   ],
   "source": [
    "mbtree = Mbtree(shortest_victory=True)\n",
    "print(mbtree.root.score)"
   ]
  },
  {
   "cell_type": "code",
   "execution_count": 8,
   "metadata": {},
   "outputs": [
    {
     "name": "stderr",
     "output_type": "stream",
     "text": [
      "100%|██████████| 549946/549946 [00:00<00:00, 711214.49it/s]\n"
     ]
    },
    {
     "data": {
      "application/vnd.jupyter.widget-view+json": {
       "model_id": "8430f574daf84aa1bb71f5ef0a2affb3",
       "version_major": 2,
       "version_minor": 0
      },
      "text/plain": [
       "VBox(children=(Output(layout=Layout(display='none')), HBox(children=(Label(value='', layout=Layout(width='50px…"
      ]
     },
     "metadata": {},
     "output_type": "display_data"
    },
    {
     "ename": "IndexError",
     "evalue": "list index out of range",
     "output_type": "error",
     "traceback": [
      "\u001b[1;31m---------------------------------------------------------------------------\u001b[0m",
      "\u001b[1;31mIndexError\u001b[0m                                Traceback (most recent call last)",
      "Cell \u001b[1;32mIn[8], line 4\u001b[0m\n\u001b[0;32m      1\u001b[0m \u001b[38;5;28;01mfrom\u001b[39;00m \u001b[38;5;21;01mtree\u001b[39;00m \u001b[38;5;28;01mimport\u001b[39;00m Mbtree_GUI\n\u001b[0;32m      3\u001b[0m data \u001b[38;5;241m=\u001b[39m mbtree\u001b[38;5;241m.\u001b[39mcalc_and_save_bestmoves_and_score_by_board(\u001b[38;5;124m\"\u001b[39m\u001b[38;5;124mtest.dat\u001b[39m\u001b[38;5;124m\"\u001b[39m)\n\u001b[1;32m----> 4\u001b[0m Mbtree_GUI(scoretable_dict\u001b[38;5;241m=\u001b[39m{\u001b[38;5;124m\"\u001b[39m\u001b[38;5;124mtest\u001b[39m\u001b[38;5;124m\"\u001b[39m: data})\n",
      "File \u001b[1;32mc:\\Users\\ys\\ai\\marubatsu\\135\\tree.py:764\u001b[0m, in \u001b[0;36mMbtree_GUI.__init__\u001b[1;34m(self, scoretable_dict, show_score, size)\u001b[0m\n\u001b[0;32m    762\u001b[0m \u001b[38;5;28mself\u001b[39m\u001b[38;5;241m.\u001b[39mheight \u001b[38;5;241m=\u001b[39m \u001b[38;5;241m65\u001b[39m\n\u001b[0;32m    763\u001b[0m \u001b[38;5;28mself\u001b[39m\u001b[38;5;241m.\u001b[39mselectednode \u001b[38;5;241m=\u001b[39m Node(Marubatsu())\n\u001b[1;32m--> 764\u001b[0m \u001b[38;5;28msuper\u001b[39m(Mbtree_GUI, \u001b[38;5;28mself\u001b[39m)\u001b[38;5;241m.\u001b[39m\u001b[38;5;21m__init__\u001b[39m()\n",
      "File \u001b[1;32mc:\\Users\\ys\\ai\\marubatsu\\135\\gui.py:16\u001b[0m, in \u001b[0;36mGUI.__init__\u001b[1;34m(self)\u001b[0m\n\u001b[0;32m     14\u001b[0m \u001b[38;5;28mself\u001b[39m\u001b[38;5;241m.\u001b[39mcreate_event_handler()\n\u001b[0;32m     15\u001b[0m \u001b[38;5;28mself\u001b[39m\u001b[38;5;241m.\u001b[39mdisplay_widgets() \n\u001b[1;32m---> 16\u001b[0m \u001b[38;5;28mself\u001b[39m\u001b[38;5;241m.\u001b[39mupdate_gui()\n",
      "File \u001b[1;32mc:\\Users\\ys\\ai\\marubatsu\\135\\tree.py:932\u001b[0m, in \u001b[0;36mMbtree_GUI.update_gui\u001b[1;34m(self)\u001b[0m\n\u001b[0;32m    930\u001b[0m     \u001b[38;5;28;01mfor\u001b[39;00m x, y \u001b[38;5;129;01min\u001b[39;00m \u001b[38;5;28mself\u001b[39m\u001b[38;5;241m.\u001b[39mselectednode\u001b[38;5;241m.\u001b[39mmb\u001b[38;5;241m.\u001b[39mrecords[\u001b[38;5;241m1\u001b[39m:\u001b[38;5;241m7\u001b[39m]:\n\u001b[0;32m    931\u001b[0m         centermb\u001b[38;5;241m.\u001b[39mmove(x, y)\n\u001b[1;32m--> 932\u001b[0m \u001b[38;5;28mself\u001b[39m\u001b[38;5;241m.\u001b[39mmbtree \u001b[38;5;241m=\u001b[39m Mbtree(subtree\u001b[38;5;241m=\u001b[39m{\u001b[38;5;124m\"\u001b[39m\u001b[38;5;124mcentermb\u001b[39m\u001b[38;5;124m\"\u001b[39m: centermb, \u001b[38;5;124m\"\u001b[39m\u001b[38;5;124mselectedmb\u001b[39m\u001b[38;5;124m\"\u001b[39m: \u001b[38;5;28mself\u001b[39m\u001b[38;5;241m.\u001b[39mselectednode\u001b[38;5;241m.\u001b[39mmb, \u001b[38;5;124m\"\u001b[39m\u001b[38;5;124mmaxdepth\u001b[39m\u001b[38;5;124m\"\u001b[39m: maxdepth, \n\u001b[0;32m    933\u001b[0m                     \u001b[38;5;124m\"\u001b[39m\u001b[38;5;124mbestmoves_and_score_by_board\u001b[39m\u001b[38;5;124m\"\u001b[39m: \u001b[38;5;28mself\u001b[39m\u001b[38;5;241m.\u001b[39mbestmoves_and_score_by_board})\n\u001b[0;32m    934\u001b[0m \u001b[38;5;28mself\u001b[39m\u001b[38;5;241m.\u001b[39mselectednode \u001b[38;5;241m=\u001b[39m \u001b[38;5;28mself\u001b[39m\u001b[38;5;241m.\u001b[39mmbtree\u001b[38;5;241m.\u001b[39mselectednode\n\u001b[0;32m    935\u001b[0m \u001b[38;5;28mself\u001b[39m\u001b[38;5;241m.\u001b[39mmbtree\u001b[38;5;241m.\u001b[39mdraw_subtree(centernode\u001b[38;5;241m=\u001b[39m\u001b[38;5;28mself\u001b[39m\u001b[38;5;241m.\u001b[39mmbtree\u001b[38;5;241m.\u001b[39mcenternode, selectednode\u001b[38;5;241m=\u001b[39m\u001b[38;5;28mself\u001b[39m\u001b[38;5;241m.\u001b[39mselectednode,\n\u001b[0;32m    936\u001b[0m                         show_bestmove\u001b[38;5;241m=\u001b[39m\u001b[38;5;28;01mTrue\u001b[39;00m, show_score\u001b[38;5;241m=\u001b[39m\u001b[38;5;28mself\u001b[39m\u001b[38;5;241m.\u001b[39mshow_score,\n\u001b[0;32m    937\u001b[0m                         ax\u001b[38;5;241m=\u001b[39m\u001b[38;5;28mself\u001b[39m\u001b[38;5;241m.\u001b[39max, maxdepth\u001b[38;5;241m=\u001b[39mmaxdepth, size\u001b[38;5;241m=\u001b[39m\u001b[38;5;28mself\u001b[39m\u001b[38;5;241m.\u001b[39msize)\n",
      "File \u001b[1;32mc:\\Users\\ys\\ai\\marubatsu\\135\\tree.py:270\u001b[0m, in \u001b[0;36mMbtree.__init__\u001b[1;34m(self, algo, shortest_victory, subtree)\u001b[0m\n\u001b[0;32m    268\u001b[0m \u001b[38;5;28;01mif\u001b[39;00m subtree \u001b[38;5;129;01mis\u001b[39;00m \u001b[38;5;129;01mnot\u001b[39;00m \u001b[38;5;28;01mNone\u001b[39;00m:\n\u001b[0;32m    269\u001b[0m     \u001b[38;5;28mself\u001b[39m\u001b[38;5;241m.\u001b[39msubtree \u001b[38;5;241m=\u001b[39m subtree\n\u001b[1;32m--> 270\u001b[0m     \u001b[38;5;28mself\u001b[39m\u001b[38;5;241m.\u001b[39mcreate_subtree()\n\u001b[0;32m    271\u001b[0m     \u001b[38;5;28;01mreturn\u001b[39;00m\n\u001b[0;32m    273\u001b[0m \u001b[38;5;28mself\u001b[39m\u001b[38;5;241m.\u001b[39malgo \u001b[38;5;241m=\u001b[39m algo\n",
      "File \u001b[1;32mc:\\Users\\ys\\ai\\marubatsu\\135\\tree.py:495\u001b[0m, in \u001b[0;36mMbtree.create_subtree\u001b[1;34m(self)\u001b[0m\n\u001b[0;32m    493\u001b[0m childmb \u001b[38;5;241m=\u001b[39m deepcopy(node\u001b[38;5;241m.\u001b[39mmb)\n\u001b[0;32m    494\u001b[0m board_str \u001b[38;5;241m=\u001b[39m node\u001b[38;5;241m.\u001b[39mmb\u001b[38;5;241m.\u001b[39mboard_to_str()               \n\u001b[1;32m--> 495\u001b[0m x, y \u001b[38;5;241m=\u001b[39m bestmoves_and_score_by_board[board_str][\u001b[38;5;124m\"\u001b[39m\u001b[38;5;124mbestmoves\u001b[39m\u001b[38;5;124m\"\u001b[39m][\u001b[38;5;241m0\u001b[39m]\n\u001b[0;32m    496\u001b[0m childmb\u001b[38;5;241m.\u001b[39mmove(x, y)\n\u001b[0;32m    497\u001b[0m childnode \u001b[38;5;241m=\u001b[39m Node(childmb, parent\u001b[38;5;241m=\u001b[39mnode, depth\u001b[38;5;241m=\u001b[39mdepth\u001b[38;5;241m+\u001b[39m\u001b[38;5;241m1\u001b[39m, \n\u001b[0;32m    498\u001b[0m                 bestmoves_and_score_by_board\u001b[38;5;241m=\u001b[39mbestmoves_and_score_by_board)   \n",
      "\u001b[1;31mIndexError\u001b[0m: list index out of range"
     ]
    }
   ],
   "source": [
    "from tree import Mbtree_GUI\n",
    "\n",
    "data = mbtree.calc_and_save_bestmoves_and_score_by_board(\"test.dat\")\n",
    "Mbtree_GUI(scoretable_dict={\"test\": data})"
   ]
  },
  {
   "cell_type": "code",
   "execution_count": 9,
   "metadata": {},
   "outputs": [],
   "source": [
    "def calc_bestmoves(self, node):\n",
    "    bestmoves = []\n",
    "    if len(node.children) > 0:\n",
    "        score_list = [childnode.score for childnode in node.children]\n",
    "        if node.mb.move_count % 2 == 0:\n",
    "            bestscore = max(score_list)\n",
    "        else:\n",
    "            bestscore = min(score_list)\n",
    "        for move, childnode in node.children_by_move.items():\n",
    "            if bestscore == childnode.score:\n",
    "                bestmoves.append(move)\n",
    "    node.bestmoves = bestmoves\n",
    "\n",
    "    key = tuple(node.mb.records)\n",
    "    self.nodelist_by_mb[key] = node\n",
    "    self.bestmoves_by_mb[key] = bestmoves\n",
    "\n",
    "    for childnode in node.children:\n",
    "        self.calc_bestmoves(childnode)                    \n",
    "                \n",
    "Mbtree.calc_bestmoves = calc_bestmoves"
   ]
  },
  {
   "cell_type": "code",
   "execution_count": 10,
   "metadata": {},
   "outputs": [
    {
     "name": "stdout",
     "output_type": "stream",
     "text": [
      "     9 depth 1 node created\n",
      "    72 depth 2 node created\n",
      "   504 depth 3 node created\n",
      "  3024 depth 4 node created\n",
      " 15120 depth 5 node created\n",
      " 54720 depth 6 node created\n",
      "148176 depth 7 node created\n",
      "200448 depth 8 node created\n",
      "127872 depth 9 node created\n",
      "     0 depth 10 node created\n",
      "total node num = 549946\n"
     ]
    },
    {
     "name": "stderr",
     "output_type": "stream",
     "text": [
      "100%|██████████| 549946/549946 [00:00<00:00, 824504.62it/s]\n"
     ]
    },
    {
     "data": {
      "application/vnd.jupyter.widget-view+json": {
       "model_id": "464d9546533440569fb95f5b3baa5ed0",
       "version_major": 2,
       "version_minor": 0
      },
      "text/plain": [
       "VBox(children=(Output(layout=Layout(display='none')), HBox(children=(Label(value='', layout=Layout(width='50px…"
      ]
     },
     "metadata": {},
     "output_type": "display_data"
    }
   ],
   "source": [
    "mbtree = Mbtree(shortest_victory=True)\n",
    "data = mbtree.calc_and_save_bestmoves_and_score_by_board(\"test.dat\")\n",
    "mbtree_gui = Mbtree_GUI(scoretable_dict={\"test\": data})"
   ]
  },
  {
   "cell_type": "code",
   "execution_count": 11,
   "metadata": {},
   "outputs": [],
   "source": [
    "from marubatsu import Marubatsu_GUI\n",
    "import matplotlib.patches as patches\n",
    "\n",
    "@staticmethod\n",
    "def draw_board(ax, mb, show_result=False, score=None, bc=None, bw=1, darkness=0, dx=0, dy=0, lw=2):\n",
    "    # 結果によってゲーム盤の背景色を変更する\n",
    "    if show_result:\n",
    "        if score is None and mb.status == Marubatsu.PLAYING:\n",
    "            bgcolor = \"white\"\n",
    "        elif (score is not None and score >= 1) or mb.status == Marubatsu.CIRCLE:\n",
    "            bgcolor = \"lightcyan\"\n",
    "        elif (score is not None and score <= -1) or mb.status == Marubatsu.CROSS:\n",
    "            bgcolor = \"lavenderblush\"\n",
    "        else:\n",
    "            bgcolor = \"lightyellow\"      \n",
    "            \n",
    "        rect = patches.Rectangle(xy=(dx, dy), width=mb.BOARD_SIZE,\n",
    "                                height=mb.BOARD_SIZE, fc=bgcolor)\n",
    "        ax.add_patch(rect)\n",
    "\n",
    "    # ゲーム盤の枠を描画する\n",
    "    for i in range(1, mb.BOARD_SIZE):\n",
    "        ax.plot([dx, dx + mb.BOARD_SIZE], [dy + i, dy + i], c=\"k\", lw=lw) # 横方向の枠線\n",
    "        ax.plot([dx + i, dx + i], [dy, dy + mb.BOARD_SIZE], c=\"k\", lw=lw) # 縦方向の枠線\n",
    "\n",
    "    # ゲーム盤のマークを描画する\n",
    "    for y in range(mb.BOARD_SIZE):\n",
    "        for x in range(mb.BOARD_SIZE):\n",
    "            color = \"red\" if (x, y) == mb.last_move else \"black\"\n",
    "            Marubatsu_GUI.draw_mark(ax, dx + x, dy + y, mb.board[x][y], color, lw=lw)\n",
    "\n",
    "    # darkness 0 より大きい場合は、半透明の黒い正方形を描画して暗くする\n",
    "    if darkness > 0:\n",
    "        ax.add_artist(patches.Rectangle(xy=(dx, dy), width=mb.BOARD_SIZE,\n",
    "                                        height=mb.BOARD_SIZE, fc=\"black\", alpha=darkness))\n",
    "\n",
    "    # bc が None でない場合はその色で bw の太さで外枠を描画する\n",
    "    if bc is not None:\n",
    "        frame = patches.Rectangle(xy=(dx, dy), width=mb.BOARD_SIZE,\n",
    "                                height=mb.BOARD_SIZE, ec=bc, fill=False, lw=bw)\n",
    "        ax.add_patch(frame)\n",
    "    \n",
    "Marubatsu_GUI.draw_board = draw_board"
   ]
  },
  {
   "cell_type": "code",
   "execution_count": 12,
   "metadata": {},
   "outputs": [
    {
     "data": {
      "application/vnd.jupyter.widget-view+json": {
       "model_id": "bfe847ead51640a4adfb96a096974d51",
       "version_major": 2,
       "version_minor": 0
      },
      "text/plain": [
       "VBox(children=(Output(layout=Layout(display='none')), HBox(children=(Label(value='', layout=Layout(width='50px…"
      ]
     },
     "metadata": {},
     "output_type": "display_data"
    }
   ],
   "source": [
    "mbtree = Mbtree_GUI(scoretable_dict={\"test\": data})"
   ]
  }
 ],
 "metadata": {
  "kernelspec": {
   "display_name": "marubatsu",
   "language": "python",
   "name": "python3"
  },
  "language_info": {
   "codemirror_mode": {
    "name": "ipython",
    "version": 3
   },
   "file_extension": ".py",
   "mimetype": "text/x-python",
   "name": "python",
   "nbconvert_exporter": "python",
   "pygments_lexer": "ipython3",
   "version": "3.11.4"
  }
 },
 "nbformat": 4,
 "nbformat_minor": 2
}
