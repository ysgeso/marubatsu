{
 "cells": [
  {
   "cell_type": "code",
   "execution_count": 1,
   "metadata": {},
   "outputs": [],
   "source": [
    "from marubatsu import Marubatsu, Marubatsu_GUI\n",
    "import math\n",
    "\n",
    "def create_event_handler(self):\n",
    "    # 変更ボタンのイベントハンドラを定義する\n",
    "    def on_change_button_clicked(b):\n",
    "        for i in range(2):\n",
    "            self.mb.ai[i] = None if self.dropdown_list[i].value == \"人間\" else self.dropdown_list[i].value\n",
    "        self.mb.play_loop(self)\n",
    "\n",
    "    # リセットボタンのイベントハンドラを定義する\n",
    "    def on_reset_button_clicked(b=None):\n",
    "        self.mb.restart()\n",
    "        on_change_button_clicked(b)\n",
    "\n",
    "    # 待ったボタンのイベントハンドラを定義する\n",
    "    def on_undo_button_clicked(b=None):\n",
    "        if self.mb.move_count >= 2 and self.mb.move_count == len(self.mb.records) - 1:\n",
    "            self.mb.move_count -= 2\n",
    "            self.mb.records = self.mb.records[0:self.mb.move_count+1]\n",
    "            self.mb.change_step(self.mb.move_count)\n",
    "            self.draw_board()\n",
    "        \n",
    "    # イベントハンドラをボタンに結びつける\n",
    "    self.change_button.on_click(on_change_button_clicked)\n",
    "    self.reset_button.on_click(on_reset_button_clicked)   \n",
    "    self.undo_button.on_click(on_undo_button_clicked)   \n",
    "    \n",
    "    # step 手目の局面に移動する\n",
    "    def change_step(step):\n",
    "        self.mb.change_step(step)\n",
    "        # 描画を更新する\n",
    "        self.draw_board()        \n",
    "\n",
    "    def on_first_button_clicked(b=None):\n",
    "        change_step(0)\n",
    "\n",
    "    def on_prev_button_clicked(b=None):\n",
    "        change_step(self.mb.move_count - 1)\n",
    "\n",
    "    def on_next_button_clicked(b=None):\n",
    "        change_step(self.mb.move_count + 1)\n",
    "        \n",
    "    def on_last_button_clicked(b=None):\n",
    "        change_step(len(self.mb.records) - 1)\n",
    "\n",
    "    def on_slider_changed(changed):\n",
    "        change_step(changed[\"new\"])\n",
    "            \n",
    "    self.first_button.on_click(on_first_button_clicked)\n",
    "    self.prev_button.on_click(on_prev_button_clicked)\n",
    "    self.next_button.on_click(on_next_button_clicked)\n",
    "    self.last_button.on_click(on_last_button_clicked)\n",
    "    self.slider.observe(on_slider_changed, names=\"value\")\n",
    "    \n",
    "    # ゲーム盤の上でマウスを押した場合のイベントハンドラ\n",
    "    def on_mouse_down(event):\n",
    "        # Axes の上でマウスを押していた場合のみ処理を行う\n",
    "        if event.inaxes and self.mb.status == Marubatsu.PLAYING:\n",
    "            x = math.floor(event.xdata)\n",
    "            y = math.floor(event.ydata)\n",
    "            self.mb.move(x, y)                \n",
    "            self.draw_board()\n",
    "            # 次の手番の処理を行うメソッドを呼び出す\n",
    "            self.mb.play_loop(self)\n",
    "\n",
    "    # ゲーム盤を選択した状態でキーを押した場合のイベントハンドラ\n",
    "    def on_key_press(event):\n",
    "        keymap = {\n",
    "            \"up\": on_first_button_clicked,\n",
    "            \"left\": on_prev_button_clicked,\n",
    "            \"right\": on_next_button_clicked,\n",
    "            \"down\": on_last_button_clicked,\n",
    "            \"0\": on_undo_button_clicked,\n",
    "            \"enter\": on_reset_button_clicked,            \n",
    "        }\n",
    "        if event.key in keymap:\n",
    "            keymap[event.key]()\n",
    "        else:\n",
    "            num = int(event.key) - 1\n",
    "            x = num % 3\n",
    "            y = 2 - (num // 3)\n",
    "            print(x, y)\n",
    "            \n",
    "    # fig の画像イベントハンドラを結び付ける\n",
    "    self.fig.canvas.mpl_connect(\"button_press_event\", on_mouse_down)     \n",
    "    self.fig.canvas.mpl_connect(\"key_press_event\", on_key_press)     \n",
    "    \n",
    "Marubatsu_GUI.create_event_handler = create_event_handler"
   ]
  },
  {
   "cell_type": "code",
   "execution_count": 2,
   "metadata": {},
   "outputs": [
    {
     "data": {
      "application/vnd.jupyter.widget-view+json": {
       "model_id": "5a868e83c2ae466f97d400c5f15b236e",
       "version_major": 2,
       "version_minor": 0
      },
      "text/plain": [
       "VBox(children=(HBox(children=(Dropdown(description='〇', layout=Layout(width='100px'), options={'人間': '人間', 'ai…"
      ]
     },
     "metadata": {},
     "output_type": "display_data"
    },
    {
     "data": {
      "application/vnd.jupyter.widget-view+json": {
       "model_id": "4cc6b29e5c2742deba6ef8808fc93f6d",
       "version_major": 2,
       "version_minor": 0
      },
      "image/png": "[encoded data removed]",
      "text/html": [
       "\n",
       "            <div style=\"display: inline-block;\">\n",
       "                <div class=\"jupyter-widgets widget-label\" style=\"text-align: center;\">\n",
       "                    Figure\n",
       "                </div>\n",
       "                <img src='data:image/png;base64,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' width=300.0/>\n",
       "            </div>\n",
       "        "
      ],
      "text/plain": [
       "Canvas(footer_visible=False, header_visible=False, resizable=False, toolbar=Toolbar(toolitems=[('Home', 'Reset…"
      ]
     },
     "metadata": {},
     "output_type": "display_data"
    },
    {
     "name": "stdout",
     "output_type": "stream",
     "text": [
      "0 2\n",
      "1 2\n",
      "2 2\n",
      "0 1\n",
      "1 1\n",
      "2 1\n",
      "0 0\n",
      "1 0\n",
      "2 0\n"
     ]
    },
    {
     "ename": "ValueError",
     "evalue": "invalid literal for int() with base 10: 'a'",
     "output_type": "error",
     "traceback": [
      "\u001b[1;31m---------------------------------------------------------------------------\u001b[0m",
      "\u001b[1;31mValueError\u001b[0m                                Traceback (most recent call last)",
      "File \u001b[1;32mc:\\Users\\ys\\Anaconda3\\envs\\marubatsu\\Lib\\site-packages\\ipympl\\backend_nbagg.py:279\u001b[0m, in \u001b[0;36mCanvas._handle_message\u001b[1;34m(self, object, content, buffers)\u001b[0m\n\u001b[0;32m    276\u001b[0m     \u001b[38;5;28mself\u001b[39m\u001b[38;5;241m.\u001b[39mmanager\u001b[38;5;241m.\u001b[39mhandle_json(content)\n\u001b[0;32m    278\u001b[0m \u001b[38;5;28;01melse\u001b[39;00m:\n\u001b[1;32m--> 279\u001b[0m     \u001b[38;5;28mself\u001b[39m\u001b[38;5;241m.\u001b[39mmanager\u001b[38;5;241m.\u001b[39mhandle_json(content)\n",
      "File \u001b[1;32mc:\\Users\\ys\\Anaconda3\\envs\\marubatsu\\Lib\\site-packages\\matplotlib\\backends\\backend_webagg_core.py:464\u001b[0m, in \u001b[0;36mFigureManagerWebAgg.handle_json\u001b[1;34m(self, content)\u001b[0m\n\u001b[0;32m    463\u001b[0m \u001b[38;5;28;01mdef\u001b[39;00m \u001b[38;5;21mhandle_json\u001b[39m(\u001b[38;5;28mself\u001b[39m, content):\n\u001b[1;32m--> 464\u001b[0m     \u001b[38;5;28mself\u001b[39m\u001b[38;5;241m.\u001b[39mcanvas\u001b[38;5;241m.\u001b[39mhandle_event(content)\n",
      "File \u001b[1;32mc:\\Users\\ys\\Anaconda3\\envs\\marubatsu\\Lib\\site-packages\\matplotlib\\backends\\backend_webagg_core.py:264\u001b[0m, in \u001b[0;36mFigureCanvasWebAggCore.handle_event\u001b[1;34m(self, event)\u001b[0m\n\u001b[0;32m    261\u001b[0m e_type \u001b[38;5;241m=\u001b[39m event[\u001b[38;5;124m'\u001b[39m\u001b[38;5;124mtype\u001b[39m\u001b[38;5;124m'\u001b[39m]\n\u001b[0;32m    262\u001b[0m handler \u001b[38;5;241m=\u001b[39m \u001b[38;5;28mgetattr\u001b[39m(\u001b[38;5;28mself\u001b[39m, \u001b[38;5;124mf\u001b[39m\u001b[38;5;124m'\u001b[39m\u001b[38;5;124mhandle_\u001b[39m\u001b[38;5;132;01m{\u001b[39;00me_type\u001b[38;5;132;01m}\u001b[39;00m\u001b[38;5;124m'\u001b[39m,\n\u001b[0;32m    263\u001b[0m                   \u001b[38;5;28mself\u001b[39m\u001b[38;5;241m.\u001b[39mhandle_unknown_event)\n\u001b[1;32m--> 264\u001b[0m \u001b[38;5;28;01mreturn\u001b[39;00m handler(event)\n",
      "File \u001b[1;32mc:\\Users\\ys\\Anaconda3\\envs\\marubatsu\\Lib\\site-packages\\matplotlib\\backends\\backend_webagg_core.py:314\u001b[0m, in \u001b[0;36mFigureCanvasWebAggCore._handle_key\u001b[1;34m(self, event)\u001b[0m\n\u001b[0;32m    311\u001b[0m \u001b[38;5;28;01mdef\u001b[39;00m \u001b[38;5;21m_handle_key\u001b[39m(\u001b[38;5;28mself\u001b[39m, event):\n\u001b[0;32m    312\u001b[0m     KeyEvent(event[\u001b[38;5;124m'\u001b[39m\u001b[38;5;124mtype\u001b[39m\u001b[38;5;124m'\u001b[39m] \u001b[38;5;241m+\u001b[39m \u001b[38;5;124m'\u001b[39m\u001b[38;5;124m_event\u001b[39m\u001b[38;5;124m'\u001b[39m, \u001b[38;5;28mself\u001b[39m,\n\u001b[0;32m    313\u001b[0m              _handle_key(event[\u001b[38;5;124m'\u001b[39m\u001b[38;5;124mkey\u001b[39m\u001b[38;5;124m'\u001b[39m]), \u001b[38;5;241m*\u001b[39m\u001b[38;5;28mself\u001b[39m\u001b[38;5;241m.\u001b[39m_last_mouse_xy,\n\u001b[1;32m--> 314\u001b[0m              guiEvent\u001b[38;5;241m=\u001b[39mevent\u001b[38;5;241m.\u001b[39mget(\u001b[38;5;124m'\u001b[39m\u001b[38;5;124mguiEvent\u001b[39m\u001b[38;5;124m'\u001b[39m))\u001b[38;5;241m.\u001b[39m_process()\n",
      "File \u001b[1;32mc:\\Users\\ys\\Anaconda3\\envs\\marubatsu\\Lib\\site-packages\\matplotlib\\backend_bases.py:1271\u001b[0m, in \u001b[0;36mEvent._process\u001b[1;34m(self)\u001b[0m\n\u001b[0;32m   1269\u001b[0m \u001b[38;5;28;01mdef\u001b[39;00m \u001b[38;5;21m_process\u001b[39m(\u001b[38;5;28mself\u001b[39m):\n\u001b[0;32m   1270\u001b[0m \u001b[38;5;250m    \u001b[39m\u001b[38;5;124;03m\"\"\"Process this event on ``self.canvas``, then unset ``guiEvent``.\"\"\"\u001b[39;00m\n\u001b[1;32m-> 1271\u001b[0m     \u001b[38;5;28mself\u001b[39m\u001b[38;5;241m.\u001b[39mcanvas\u001b[38;5;241m.\u001b[39mcallbacks\u001b[38;5;241m.\u001b[39mprocess(\u001b[38;5;28mself\u001b[39m\u001b[38;5;241m.\u001b[39mname, \u001b[38;5;28mself\u001b[39m)\n\u001b[0;32m   1272\u001b[0m     \u001b[38;5;28mself\u001b[39m\u001b[38;5;241m.\u001b[39m_guiEvent_deleted \u001b[38;5;241m=\u001b[39m \u001b[38;5;28;01mTrue\u001b[39;00m\n",
      "File \u001b[1;32mc:\\Users\\ys\\Anaconda3\\envs\\marubatsu\\Lib\\site-packages\\matplotlib\\cbook.py:303\u001b[0m, in \u001b[0;36mCallbackRegistry.process\u001b[1;34m(self, s, *args, **kwargs)\u001b[0m\n\u001b[0;32m    301\u001b[0m \u001b[38;5;28;01mexcept\u001b[39;00m \u001b[38;5;167;01mException\u001b[39;00m \u001b[38;5;28;01mas\u001b[39;00m exc:\n\u001b[0;32m    302\u001b[0m     \u001b[38;5;28;01mif\u001b[39;00m \u001b[38;5;28mself\u001b[39m\u001b[38;5;241m.\u001b[39mexception_handler \u001b[38;5;129;01mis\u001b[39;00m \u001b[38;5;129;01mnot\u001b[39;00m \u001b[38;5;28;01mNone\u001b[39;00m:\n\u001b[1;32m--> 303\u001b[0m         \u001b[38;5;28mself\u001b[39m\u001b[38;5;241m.\u001b[39mexception_handler(exc)\n\u001b[0;32m    304\u001b[0m     \u001b[38;5;28;01melse\u001b[39;00m:\n\u001b[0;32m    305\u001b[0m         \u001b[38;5;28;01mraise\u001b[39;00m\n",
      "File \u001b[1;32mc:\\Users\\ys\\Anaconda3\\envs\\marubatsu\\Lib\\site-packages\\matplotlib\\cbook.py:87\u001b[0m, in \u001b[0;36m_exception_printer\u001b[1;34m(exc)\u001b[0m\n\u001b[0;32m     85\u001b[0m \u001b[38;5;28;01mdef\u001b[39;00m \u001b[38;5;21m_exception_printer\u001b[39m(exc):\n\u001b[0;32m     86\u001b[0m     \u001b[38;5;28;01mif\u001b[39;00m _get_running_interactive_framework() \u001b[38;5;129;01min\u001b[39;00m [\u001b[38;5;124m\"\u001b[39m\u001b[38;5;124mheadless\u001b[39m\u001b[38;5;124m\"\u001b[39m, \u001b[38;5;28;01mNone\u001b[39;00m]:\n\u001b[1;32m---> 87\u001b[0m         \u001b[38;5;28;01mraise\u001b[39;00m exc\n\u001b[0;32m     88\u001b[0m     \u001b[38;5;28;01melse\u001b[39;00m:\n\u001b[0;32m     89\u001b[0m         traceback\u001b[38;5;241m.\u001b[39mprint_exc()\n",
      "File \u001b[1;32mc:\\Users\\ys\\Anaconda3\\envs\\marubatsu\\Lib\\site-packages\\matplotlib\\cbook.py:298\u001b[0m, in \u001b[0;36mCallbackRegistry.process\u001b[1;34m(self, s, *args, **kwargs)\u001b[0m\n\u001b[0;32m    296\u001b[0m \u001b[38;5;28;01mif\u001b[39;00m func \u001b[38;5;129;01mis\u001b[39;00m \u001b[38;5;129;01mnot\u001b[39;00m \u001b[38;5;28;01mNone\u001b[39;00m:\n\u001b[0;32m    297\u001b[0m     \u001b[38;5;28;01mtry\u001b[39;00m:\n\u001b[1;32m--> 298\u001b[0m         func(\u001b[38;5;241m*\u001b[39margs, \u001b[38;5;241m*\u001b[39m\u001b[38;5;241m*\u001b[39mkwargs)\n\u001b[0;32m    299\u001b[0m     \u001b[38;5;66;03m# this does not capture KeyboardInterrupt, SystemExit,\u001b[39;00m\n\u001b[0;32m    300\u001b[0m     \u001b[38;5;66;03m# and GeneratorExit\u001b[39;00m\n\u001b[0;32m    301\u001b[0m     \u001b[38;5;28;01mexcept\u001b[39;00m \u001b[38;5;167;01mException\u001b[39;00m \u001b[38;5;28;01mas\u001b[39;00m exc:\n",
      "Cell \u001b[1;32mIn[1], line 80\u001b[0m, in \u001b[0;36mcreate_event_handler.<locals>.on_key_press\u001b[1;34m(event)\u001b[0m\n\u001b[0;32m     78\u001b[0m     keymap[event\u001b[38;5;241m.\u001b[39mkey]()\n\u001b[0;32m     79\u001b[0m \u001b[38;5;28;01melse\u001b[39;00m:\n\u001b[1;32m---> 80\u001b[0m     num \u001b[38;5;241m=\u001b[39m \u001b[38;5;28mint\u001b[39m(event\u001b[38;5;241m.\u001b[39mkey) \u001b[38;5;241m-\u001b[39m \u001b[38;5;241m1\u001b[39m\n\u001b[0;32m     81\u001b[0m     x \u001b[38;5;241m=\u001b[39m num \u001b[38;5;241m%\u001b[39m \u001b[38;5;241m3\u001b[39m\n\u001b[0;32m     82\u001b[0m     y \u001b[38;5;241m=\u001b[39m \u001b[38;5;241m2\u001b[39m \u001b[38;5;241m-\u001b[39m (num \u001b[38;5;241m/\u001b[39m\u001b[38;5;241m/\u001b[39m \u001b[38;5;241m3\u001b[39m)\n",
      "\u001b[1;31mValueError\u001b[0m: invalid literal for int() with base 10: 'a'"
     ]
    }
   ],
   "source": [
    "from util import gui_play\n",
    "\n",
    "gui_play()"
   ]
  },
  {
   "cell_type": "code",
   "execution_count": 3,
   "metadata": {},
   "outputs": [],
   "source": [
    "def create_event_handler(self):\n",
    "    # 変更ボタンのイベントハンドラを定義する\n",
    "    def on_change_button_clicked(b):\n",
    "        for i in range(2):\n",
    "            self.mb.ai[i] = None if self.dropdown_list[i].value == \"人間\" else self.dropdown_list[i].value\n",
    "        self.mb.play_loop(self)\n",
    "\n",
    "    # リセットボタンのイベントハンドラを定義する\n",
    "    def on_reset_button_clicked(b=None):\n",
    "        self.mb.restart()\n",
    "        on_change_button_clicked(b)\n",
    "\n",
    "    # 待ったボタンのイベントハンドラを定義する\n",
    "    def on_undo_button_clicked(b=None):\n",
    "        if self.mb.move_count >= 2 and self.mb.move_count == len(self.mb.records) - 1:\n",
    "            self.mb.move_count -= 2\n",
    "            self.mb.records = self.mb.records[0:self.mb.move_count+1]\n",
    "            self.mb.change_step(self.mb.move_count)\n",
    "            self.draw_board()\n",
    "        \n",
    "    # イベントハンドラをボタンに結びつける\n",
    "    self.change_button.on_click(on_change_button_clicked)\n",
    "    self.reset_button.on_click(on_reset_button_clicked)   \n",
    "    self.undo_button.on_click(on_undo_button_clicked)   \n",
    "    \n",
    "    # step 手目の局面に移動する\n",
    "    def change_step(step):\n",
    "        self.mb.change_step(step)\n",
    "        # 描画を更新する\n",
    "        self.draw_board()        \n",
    "\n",
    "    def on_first_button_clicked(b=None):\n",
    "        change_step(0)\n",
    "\n",
    "    def on_prev_button_clicked(b=None):\n",
    "        change_step(self.mb.move_count - 1)\n",
    "\n",
    "    def on_next_button_clicked(b=None):\n",
    "        change_step(self.mb.move_count + 1)\n",
    "        \n",
    "    def on_last_button_clicked(b=None):\n",
    "        change_step(len(self.mb.records) - 1)\n",
    "\n",
    "    def on_slider_changed(changed):\n",
    "        change_step(changed[\"new\"])\n",
    "            \n",
    "    self.first_button.on_click(on_first_button_clicked)\n",
    "    self.prev_button.on_click(on_prev_button_clicked)\n",
    "    self.next_button.on_click(on_next_button_clicked)\n",
    "    self.last_button.on_click(on_last_button_clicked)\n",
    "    self.slider.observe(on_slider_changed, names=\"value\")\n",
    "    \n",
    "    # ゲーム盤の上でマウスを押した場合のイベントハンドラ\n",
    "    def on_mouse_down(event):\n",
    "        # Axes の上でマウスを押していた場合のみ処理を行う\n",
    "        if event.inaxes and self.mb.status == Marubatsu.PLAYING:\n",
    "            x = math.floor(event.xdata)\n",
    "            y = math.floor(event.ydata)\n",
    "            self.mb.move(x, y)                \n",
    "            self.draw_board()\n",
    "            # 次の手番の処理を行うメソッドを呼び出す\n",
    "            self.mb.play_loop(self)\n",
    "\n",
    "    # ゲーム盤を選択した状態でキーを押した場合のイベントハンドラ\n",
    "    def on_key_press(event):\n",
    "        keymap = {\n",
    "            \"up\": on_first_button_clicked,\n",
    "            \"left\": on_prev_button_clicked,\n",
    "            \"right\": on_next_button_clicked,\n",
    "            \"down\": on_last_button_clicked,\n",
    "            \"0\": on_undo_button_clicked,\n",
    "            \"enter\": on_reset_button_clicked,            \n",
    "        }\n",
    "        if event.key in keymap:\n",
    "            keymap[event.key]()\n",
    "        else:\n",
    "            try:\n",
    "                num = int(event.key) - 1\n",
    "                x = num % 3\n",
    "                y = 2 - (num // 3)\n",
    "                print(x, y)\n",
    "            except:\n",
    "                pass\n",
    "            \n",
    "    # fig の画像イベントハンドラを結び付ける\n",
    "    self.fig.canvas.mpl_connect(\"button_press_event\", on_mouse_down)     \n",
    "    self.fig.canvas.mpl_connect(\"key_press_event\", on_key_press)     \n",
    "    \n",
    "Marubatsu_GUI.create_event_handler = create_event_handler"
   ]
  },
  {
   "cell_type": "code",
   "execution_count": 4,
   "metadata": {},
   "outputs": [
    {
     "data": {
      "application/vnd.jupyter.widget-view+json": {
       "model_id": "f79c700e160740e5b61d679f8cce4f66",
       "version_major": 2,
       "version_minor": 0
      },
      "text/plain": [
       "VBox(children=(HBox(children=(Dropdown(description='〇', layout=Layout(width='100px'), options={'人間': '人間', 'ai…"
      ]
     },
     "metadata": {},
     "output_type": "display_data"
    },
    {
     "data": {
      "application/vnd.jupyter.widget-view+json": {
       "model_id": "4984868476a94146867d2567b8f28369",
       "version_major": 2,
       "version_minor": 0
      },
      "image/png": "[encoded data removed]",
      "text/html": [
       "\n",
       "            <div style=\"display: inline-block;\">\n",
       "                <div class=\"jupyter-widgets widget-label\" style=\"text-align: center;\">\n",
       "                    Figure\n",
       "                </div>\n",
       "                <img src='data:image/png;base64,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' width=300.0/>\n",
       "            </div>\n",
       "        "
      ],
      "text/plain": [
       "Canvas(footer_visible=False, header_visible=False, resizable=False, toolbar=Toolbar(toolitems=[('Home', 'Reset…"
      ]
     },
     "metadata": {},
     "output_type": "display_data"
    }
   ],
   "source": [
    "gui_play()"
   ]
  },
  {
   "cell_type": "code",
   "execution_count": 5,
   "metadata": {},
   "outputs": [],
   "source": [
    "def create_event_handler(self):\n",
    "    # 変更ボタンのイベントハンドラを定義する\n",
    "    def on_change_button_clicked(b):\n",
    "        for i in range(2):\n",
    "            self.mb.ai[i] = None if self.dropdown_list[i].value == \"人間\" else self.dropdown_list[i].value\n",
    "        self.mb.play_loop(self)\n",
    "\n",
    "    # リセットボタンのイベントハンドラを定義する\n",
    "    def on_reset_button_clicked(b=None):\n",
    "        self.mb.restart()\n",
    "        on_change_button_clicked(b)\n",
    "\n",
    "    # 待ったボタンのイベントハンドラを定義する\n",
    "    def on_undo_button_clicked(b=None):\n",
    "        if self.mb.move_count >= 2 and self.mb.move_count == len(self.mb.records) - 1:\n",
    "            self.mb.move_count -= 2\n",
    "            self.mb.records = self.mb.records[0:self.mb.move_count+1]\n",
    "            self.mb.change_step(self.mb.move_count)\n",
    "            self.draw_board()\n",
    "        \n",
    "    # イベントハンドラをボタンに結びつける\n",
    "    self.change_button.on_click(on_change_button_clicked)\n",
    "    self.reset_button.on_click(on_reset_button_clicked)   \n",
    "    self.undo_button.on_click(on_undo_button_clicked)   \n",
    "    \n",
    "    # step 手目の局面に移動する\n",
    "    def change_step(step):\n",
    "        self.mb.change_step(step)\n",
    "        # 描画を更新する\n",
    "        self.draw_board()        \n",
    "\n",
    "    def on_first_button_clicked(b=None):\n",
    "        change_step(0)\n",
    "\n",
    "    def on_prev_button_clicked(b=None):\n",
    "        change_step(self.mb.move_count - 1)\n",
    "\n",
    "    def on_next_button_clicked(b=None):\n",
    "        change_step(self.mb.move_count + 1)\n",
    "        \n",
    "    def on_last_button_clicked(b=None):\n",
    "        change_step(len(self.mb.records) - 1)\n",
    "\n",
    "    def on_slider_changed(changed):\n",
    "        change_step(changed[\"new\"])\n",
    "            \n",
    "    self.first_button.on_click(on_first_button_clicked)\n",
    "    self.prev_button.on_click(on_prev_button_clicked)\n",
    "    self.next_button.on_click(on_next_button_clicked)\n",
    "    self.last_button.on_click(on_last_button_clicked)\n",
    "    self.slider.observe(on_slider_changed, names=\"value\")\n",
    "    \n",
    "    # ゲーム盤の上でマウスを押した場合のイベントハンドラ\n",
    "    def on_mouse_down(event):\n",
    "        # Axes の上でマウスを押していた場合のみ処理を行う\n",
    "        if event.inaxes and self.mb.status == Marubatsu.PLAYING:\n",
    "            x = math.floor(event.xdata)\n",
    "            y = math.floor(event.ydata)\n",
    "            self.mb.move(x, y)                \n",
    "            self.draw_board()\n",
    "            # 次の手番の処理を行うメソッドを呼び出す\n",
    "            self.mb.play_loop(self)\n",
    "\n",
    "    # ゲーム盤を選択した状態でキーを押した場合のイベントハンドラ\n",
    "    def on_key_press(event):\n",
    "        keymap = {\n",
    "            \"up\": on_first_button_clicked,\n",
    "            \"left\": on_prev_button_clicked,\n",
    "            \"right\": on_next_button_clicked,\n",
    "            \"down\": on_last_button_clicked,\n",
    "            \"0\": on_undo_button_clicked,\n",
    "            \"enter\": on_reset_button_clicked,            \n",
    "        }\n",
    "        if event.key in keymap:\n",
    "            keymap[event.key]()\n",
    "        else:\n",
    "            try:\n",
    "                num = int(event.key) - 1\n",
    "                event.inaxes = True\n",
    "                event.xdata = num % 3\n",
    "                event.ydata = 2 - (num // 3)\n",
    "                on_mouse_down(event)\n",
    "            except:\n",
    "                pass\n",
    "            \n",
    "    # fig の画像イベントハンドラを結び付ける\n",
    "    self.fig.canvas.mpl_connect(\"button_press_event\", on_mouse_down)     \n",
    "    self.fig.canvas.mpl_connect(\"key_press_event\", on_key_press)     \n",
    "    \n",
    "Marubatsu_GUI.create_event_handler = create_event_handler"
   ]
  },
  {
   "cell_type": "code",
   "execution_count": 6,
   "metadata": {},
   "outputs": [
    {
     "data": {
      "application/vnd.jupyter.widget-view+json": {
       "model_id": "fc93a4179f4d475fb12a4d5f9aeff4ac",
       "version_major": 2,
       "version_minor": 0
      },
      "text/plain": [
       "VBox(children=(HBox(children=(Dropdown(description='〇', layout=Layout(width='100px'), options={'人間': '人間', 'ai…"
      ]
     },
     "metadata": {},
     "output_type": "display_data"
    },
    {
     "data": {
      "application/vnd.jupyter.widget-view+json": {
       "model_id": "2160013a0991470cbdcb56843c4638de",
       "version_major": 2,
       "version_minor": 0
      },
      "image/png": "[encoded data removed]",
      "text/html": [
       "\n",
       "            <div style=\"display: inline-block;\">\n",
       "                <div class=\"jupyter-widgets widget-label\" style=\"text-align: center;\">\n",
       "                    Figure\n",
       "                </div>\n",
       "                <img src='data:image/png;base64,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' width=300.0/>\n",
       "            </div>\n",
       "        "
      ],
      "text/plain": [
       "Canvas(footer_visible=False, header_visible=False, resizable=False, toolbar=Toolbar(toolitems=[('Home', 'Reset…"
      ]
     },
     "metadata": {},
     "output_type": "display_data"
    }
   ],
   "source": [
    "gui_play()"
   ]
  },
  {
   "cell_type": "code",
   "execution_count": 7,
   "metadata": {},
   "outputs": [
    {
     "data": {
      "application/vnd.jupyter.widget-view+json": {
       "model_id": "857f999bb5324f7a8b05645b782dfb76",
       "version_major": 2,
       "version_minor": 0
      },
      "text/plain": [
       "VBox(children=(HBox(children=(Dropdown(description='〇', layout=Layout(width='100px'), options={'人間': '人間', 'ai…"
      ]
     },
     "metadata": {},
     "output_type": "display_data"
    },
    {
     "data": {
      "application/vnd.jupyter.widget-view+json": {
       "model_id": "95981976bf28433995ce1961acac8ce8",
       "version_major": 2,
       "version_minor": 0
      },
      "image/png": "[encoded data removed]",
      "text/html": [
       "\n",
       "            <div style=\"display: inline-block;\">\n",
       "                <div class=\"jupyter-widgets widget-label\" style=\"text-align: center;\">\n",
       "                    Figure\n",
       "                </div>\n",
       "                <img src='data:image/png;base64,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' width=300.0/>\n",
       "            </div>\n",
       "        "
      ],
      "text/plain": [
       "Canvas(footer_visible=False, header_visible=False, resizable=False, toolbar=Toolbar(toolitems=[('Home', 'Reset…"
      ]
     },
     "metadata": {},
     "output_type": "display_data"
    }
   ],
   "source": [
    "from ai import ai1s\n",
    "\n",
    "gui_play(ai=[None, ai1s])"
   ]
  },
  {
   "cell_type": "code",
   "execution_count": 8,
   "metadata": {},
   "outputs": [],
   "source": [
    "def draw_board(self):\n",
    "    print(\"draw_board. move_count =\", self.mb.move_count)\n",
    "    \n",
    "    ax = self.ax\n",
    "    ai = self.mb.ai\n",
    "    \n",
    "    # Axes の内容をクリアして、これまでの描画内容を削除する\n",
    "    ax.clear()\n",
    "    \n",
    "    # y 軸を反転させる\n",
    "    ax.invert_yaxis()\n",
    "    \n",
    "    # 枠と目盛りを表示しないようにする\n",
    "    ax.axis(\"off\")   \n",
    "    \n",
    "    # リプレイ中、ゲームの決着がついていた場合は背景色を変更する\n",
    "    is_replay =  self.mb.move_count < len(self.mb.records) - 1 \n",
    "    if self.mb.status == Marubatsu.PLAYING:\n",
    "        facecolor = \"lightcyan\" if is_replay else \"white\"\n",
    "    else:\n",
    "        facecolor = \"lightyellow\"\n",
    "\n",
    "    ax.figure.set_facecolor(facecolor)\n",
    "        \n",
    "    # 上部のメッセージを描画する\n",
    "    # 対戦カードの文字列を計算する\n",
    "    names = []\n",
    "    for i in range(2):\n",
    "        names.append(\"人間\" if ai[i] is None else ai[i].__name__)\n",
    "    ax.text(0, 3.5, f\"{names[0]}　VS　{names[1]}\", fontsize=20)   \n",
    "    \n",
    "    # ゲームの決着がついていない場合は、手番を表示する\n",
    "    if self.mb.status == Marubatsu.PLAYING:\n",
    "        text = \"Turn \" + self.mb.turn\n",
    "    # 引き分けの場合\n",
    "    elif self.mb.status == Marubatsu.DRAW:\n",
    "        text = \"Draw game\"\n",
    "    # 決着がついていれば勝者を表示する\n",
    "    else:\n",
    "        text = \"Winner \" + self.mb.status\n",
    "    # リプレイ中の場合は \"Replay\" を表示する\n",
    "    if is_replay:\n",
    "        text += \" Replay\"\n",
    "    ax.text(0, -0.2, text, fontsize=20)\n",
    "    \n",
    "    # ゲーム盤の枠を描画する\n",
    "    for i in range(1, self.mb.BOARD_SIZE):\n",
    "        ax.plot([0, self.mb.BOARD_SIZE], [i, i], c=\"k\") # 横方向の枠線\n",
    "        ax.plot([i, i], [0, self.mb.BOARD_SIZE], c=\"k\") # 縦方向の枠線   \n",
    "\n",
    "    # ゲーム盤のマークを描画する\n",
    "    for y in range(self.mb.BOARD_SIZE):\n",
    "        for x in range(self.mb.BOARD_SIZE):\n",
    "            color = \"red\" if (x, y) == self.mb.last_move else \"black\"\n",
    "            self.draw_mark(ax, x, y, self.mb.board[x][y], color)            \n",
    "\n",
    "    self.update_widgets_status()   \n",
    "    \n",
    "Marubatsu_GUI.draw_board = draw_board"
   ]
  },
  {
   "cell_type": "code",
   "execution_count": 9,
   "metadata": {},
   "outputs": [
    {
     "data": {
      "application/vnd.jupyter.widget-view+json": {
       "model_id": "ab41fc2e26894fcd9ed82a18a7ce7cad",
       "version_major": 2,
       "version_minor": 0
      },
      "text/plain": [
       "VBox(children=(HBox(children=(Dropdown(description='〇', layout=Layout(width='100px'), options={'人間': '人間', 'ai…"
      ]
     },
     "metadata": {},
     "output_type": "display_data"
    },
    {
     "name": "stdout",
     "output_type": "stream",
     "text": [
      "draw_board. move_count = 0\n"
     ]
    },
    {
     "data": {
      "application/vnd.jupyter.widget-view+json": {
       "model_id": "251500e5d313455ea4fdd01d0ce78e34",
       "version_major": 2,
       "version_minor": 0
      },
      "image/png": "[encoded data removed]",
      "text/html": [
       "\n",
       "            <div style=\"display: inline-block;\">\n",
       "                <div class=\"jupyter-widgets widget-label\" style=\"text-align: center;\">\n",
       "                    Figure\n",
       "                </div>\n",
       "                <img src='data:image/png;base64,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' width=300.0/>\n",
       "            </div>\n",
       "        "
      ],
      "text/plain": [
       "Canvas(footer_visible=False, header_visible=False, resizable=False, toolbar=Toolbar(toolitems=[('Home', 'Reset…"
      ]
     },
     "metadata": {},
     "output_type": "display_data"
    },
    {
     "name": "stdout",
     "output_type": "stream",
     "text": [
      "draw_board. move_count = 1\n",
      "draw_board. move_count = 1\n",
      "draw_board. move_count = 1\n",
      "draw_board. move_count = 2\n"
     ]
    }
   ],
   "source": [
    "gui_play(ai=[None, ai1s])"
   ]
  },
  {
   "cell_type": "code",
   "execution_count": 10,
   "metadata": {},
   "outputs": [
    {
     "name": "stdout",
     "output_type": "stream",
     "text": [
      "c\n",
      "b\n",
      "a\n",
      "<module>\n"
     ]
    }
   ],
   "source": [
    "import inspect\n",
    "\n",
    "def a():\n",
    "    b()\n",
    "\n",
    "def b():\n",
    "    c()\n",
    "    \n",
    "def c():\n",
    "    stack = inspect.stack()\n",
    "    print(stack[0].function) # この関数の名前\n",
    "    print(stack[1].function) # この関数を 1 つ前に呼び出した関数の名前\n",
    "    print(stack[2].function) # この関数を 2 つ前に呼び出した関数の名前\n",
    "    print(stack[3].function) # この関数を 3 つ前に呼び出した関数の名前\n",
    "    \n",
    "a()"
   ]
  },
  {
   "cell_type": "code",
   "execution_count": 11,
   "metadata": {},
   "outputs": [],
   "source": [
    "import inspect\n",
    "\n",
    "def draw_board(self):\n",
    "    print(\"draw_board. move_count =\", self.mb.move_count, \n",
    "          \"caller function =\", inspect.stack()[1].function)\n",
    "    \n",
    "    ax = self.ax\n",
    "    ai = self.mb.ai\n",
    "    \n",
    "    # Axes の内容をクリアして、これまでの描画内容を削除する\n",
    "    ax.clear()\n",
    "    \n",
    "    # y 軸を反転させる\n",
    "    ax.invert_yaxis()\n",
    "    \n",
    "    # 枠と目盛りを表示しないようにする\n",
    "    ax.axis(\"off\")   \n",
    "    \n",
    "    # リプレイ中、ゲームの決着がついていた場合は背景色を変更する\n",
    "    is_replay =  self.mb.move_count < len(self.mb.records) - 1 \n",
    "    if self.mb.status == Marubatsu.PLAYING:\n",
    "        facecolor = \"lightcyan\" if is_replay else \"white\"\n",
    "    else:\n",
    "        facecolor = \"lightyellow\"\n",
    "\n",
    "    ax.figure.set_facecolor(facecolor)\n",
    "        \n",
    "    # 上部のメッセージを描画する\n",
    "    # 対戦カードの文字列を計算する\n",
    "    names = []\n",
    "    for i in range(2):\n",
    "        names.append(\"人間\" if ai[i] is None else ai[i].__name__)\n",
    "    ax.text(0, 3.5, f\"{names[0]}　VS　{names[1]}\", fontsize=20)   \n",
    "    \n",
    "    # ゲームの決着がついていない場合は、手番を表示する\n",
    "    if self.mb.status == Marubatsu.PLAYING:\n",
    "        text = \"Turn \" + self.mb.turn\n",
    "    # 引き分けの場合\n",
    "    elif self.mb.status == Marubatsu.DRAW:\n",
    "        text = \"Draw game\"\n",
    "    # 決着がついていれば勝者を表示する\n",
    "    else:\n",
    "        text = \"Winner \" + self.mb.status\n",
    "    # リプレイ中の場合は \"Replay\" を表示する\n",
    "    if is_replay:\n",
    "        text += \" Replay\"\n",
    "    ax.text(0, -0.2, text, fontsize=20)\n",
    "    \n",
    "    # ゲーム盤の枠を描画する\n",
    "    for i in range(1, self.mb.BOARD_SIZE):\n",
    "        ax.plot([0, self.mb.BOARD_SIZE], [i, i], c=\"k\") # 横方向の枠線\n",
    "        ax.plot([i, i], [0, self.mb.BOARD_SIZE], c=\"k\") # 縦方向の枠線   \n",
    "\n",
    "    # ゲーム盤のマークを描画する\n",
    "    for y in range(self.mb.BOARD_SIZE):\n",
    "        for x in range(self.mb.BOARD_SIZE):\n",
    "            color = \"red\" if (x, y) == self.mb.last_move else \"black\"\n",
    "            self.draw_mark(ax, x, y, self.mb.board[x][y], color)            \n",
    "\n",
    "    self.update_widgets_status()   \n",
    "    \n",
    "Marubatsu_GUI.draw_board = draw_board"
   ]
  },
  {
   "cell_type": "code",
   "execution_count": 12,
   "metadata": {},
   "outputs": [
    {
     "data": {
      "application/vnd.jupyter.widget-view+json": {
       "model_id": "091869de59be467285201e6426148892",
       "version_major": 2,
       "version_minor": 0
      },
      "text/plain": [
       "VBox(children=(HBox(children=(Dropdown(description='〇', layout=Layout(width='100px'), options={'人間': '人間', 'ai…"
      ]
     },
     "metadata": {},
     "output_type": "display_data"
    },
    {
     "name": "stdout",
     "output_type": "stream",
     "text": [
      "draw_board. move_count = 0 caller function = play_loop\n"
     ]
    },
    {
     "data": {
      "application/vnd.jupyter.widget-view+json": {
       "model_id": "381e2037c19f4daa9632b07bd07a16e9",
       "version_major": 2,
       "version_minor": 0
      },
      "image/png": "[encoded data removed]",
      "text/html": [
       "\n",
       "            <div style=\"display: inline-block;\">\n",
       "                <div class=\"jupyter-widgets widget-label\" style=\"text-align: center;\">\n",
       "                    Figure\n",
       "                </div>\n",
       "                <img src='data:image/png;base64,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' width=300.0/>\n",
       "            </div>\n",
       "        "
      ],
      "text/plain": [
       "Canvas(footer_visible=False, header_visible=False, resizable=False, toolbar=Toolbar(toolitems=[('Home', 'Reset…"
      ]
     },
     "metadata": {},
     "output_type": "display_data"
    },
    {
     "name": "stdout",
     "output_type": "stream",
     "text": [
      "draw_board. move_count = 1 caller function = on_mouse_down\n",
      "draw_board. move_count = 1 caller function = play_loop\n",
      "draw_board. move_count = 1 caller function = change_step\n",
      "draw_board. move_count = 2 caller function = play_loop\n",
      "draw_board. move_count = 3 caller function = on_mouse_down\n",
      "draw_board. move_count = 2 caller function = change_step\n",
      "draw_board. move_count = 2 caller function = play_loop\n"
     ]
    }
   ],
   "source": [
    "gui_play(ai=[None, ai1s])"
   ]
  },
  {
   "cell_type": "code",
   "execution_count": 13,
   "metadata": {},
   "outputs": [],
   "source": [
    "def update_widgets_status(self):\n",
    "    self.set_button_status(self.undo_button, self.mb.move_count < 2 or self.mb.move_count != len(self.mb.records) - 1)\n",
    "    self.set_button_status(self.first_button, self.mb.move_count <= 0)\n",
    "    self.set_button_status(self.prev_button, self.mb.move_count <= 0)\n",
    "    self.set_button_status(self.next_button, self.mb.move_count >= len(self.mb.records) - 1)\n",
    "    self.set_button_status(self.last_button, self.mb.move_count >= len(self.mb.records) - 1)    \n",
    "    print(f\"before: value = {self.slider.value} max = {self.slider.max}\")\n",
    "    self.slider.value = self.mb.move_count\n",
    "    self.slider.max = len(self.mb.records) - 1\n",
    "    print(f\"after:  value = {self.slider.value} max = {self.slider.max}\")\n",
    "\n",
    "Marubatsu_GUI.update_widgets_status = update_widgets_status"
   ]
  },
  {
   "cell_type": "code",
   "execution_count": 14,
   "metadata": {},
   "outputs": [
    {
     "data": {
      "application/vnd.jupyter.widget-view+json": {
       "model_id": "04749c0082af468cba314a3904f7370d",
       "version_major": 2,
       "version_minor": 0
      },
      "text/plain": [
       "VBox(children=(HBox(children=(Dropdown(description='〇', layout=Layout(width='100px'), options={'人間': '人間', 'ai…"
      ]
     },
     "metadata": {},
     "output_type": "display_data"
    },
    {
     "name": "stdout",
     "output_type": "stream",
     "text": [
      "draw_board. move_count = 0 caller function = play_loop\n",
      "before: value = 0 max = 100\n",
      "after:  value = 0 max = 0\n"
     ]
    },
    {
     "data": {
      "application/vnd.jupyter.widget-view+json": {
       "model_id": "ed3187782e514a6eacb6f545333acfeb",
       "version_major": 2,
       "version_minor": 0
      },
      "image/png": "[encoded data removed]",
      "text/html": [
       "\n",
       "            <div style=\"display: inline-block;\">\n",
       "                <div class=\"jupyter-widgets widget-label\" style=\"text-align: center;\">\n",
       "                    Figure\n",
       "                </div>\n",
       "                <img src='data:image/png;base64,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' width=300.0/>\n",
       "            </div>\n",
       "        "
      ],
      "text/plain": [
       "Canvas(footer_visible=False, header_visible=False, resizable=False, toolbar=Toolbar(toolitems=[('Home', 'Reset…"
      ]
     },
     "metadata": {},
     "output_type": "display_data"
    },
    {
     "name": "stdout",
     "output_type": "stream",
     "text": [
      "draw_board. move_count = 1 caller function = on_mouse_down\n",
      "before: value = 0 max = 0\n",
      "after:  value = 0 max = 1\n",
      "draw_board. move_count = 1 caller function = play_loop\n",
      "before: value = 0 max = 1\n",
      "draw_board. move_count = 1 caller function = change_step\n",
      "before: value = 1 max = 1\n",
      "after:  value = 1 max = 1\n",
      "after:  value = 1 max = 1\n",
      "draw_board. move_count = 2 caller function = play_loop\n",
      "before: value = 1 max = 1\n",
      "after:  value = 1 max = 2\n"
     ]
    }
   ],
   "source": [
    "gui_play(ai=[None, ai1s])"
   ]
  },
  {
   "cell_type": "code",
   "execution_count": 15,
   "metadata": {},
   "outputs": [
    {
     "name": "stdout",
     "output_type": "stream",
     "text": [
      "10\n"
     ]
    }
   ],
   "source": [
    "import ipywidgets as widgets\n",
    "\n",
    "slider = widgets.IntSlider(max=10)\n",
    "slider.value = 20\n",
    "print(slider.value)\n"
   ]
  },
  {
   "cell_type": "code",
   "execution_count": 16,
   "metadata": {},
   "outputs": [],
   "source": [
    "def update_widgets_status(self):\n",
    "    self.set_button_status(self.undo_button, self.mb.move_count < 2 or self.mb.move_count != len(self.mb.records) - 1)\n",
    "    self.set_button_status(self.first_button, self.mb.move_count <= 0)\n",
    "    self.set_button_status(self.prev_button, self.mb.move_count <= 0)\n",
    "    self.set_button_status(self.next_button, self.mb.move_count >= len(self.mb.records) - 1)\n",
    "    self.set_button_status(self.last_button, self.mb.move_count >= len(self.mb.records) - 1)    \n",
    "    print(f\"before: value = {self.slider.value} max = {self.slider.max}\")\n",
    "    self.slider.max = len(self.mb.records) - 1\n",
    "    self.slider.value = self.mb.move_count\n",
    "    print(f\"after:  value = {self.slider.value} max = {self.slider.max}\")\n",
    "\n",
    "Marubatsu_GUI.update_widgets_status = update_widgets_status"
   ]
  },
  {
   "cell_type": "code",
   "execution_count": 18,
   "metadata": {},
   "outputs": [
    {
     "data": {
      "application/vnd.jupyter.widget-view+json": {
       "model_id": "52bc8d50d7d34617949a7ad22c612221",
       "version_major": 2,
       "version_minor": 0
      },
      "text/plain": [
       "VBox(children=(HBox(children=(Dropdown(description='〇', layout=Layout(width='100px'), options={'人間': '人間', 'ai…"
      ]
     },
     "metadata": {},
     "output_type": "display_data"
    },
    {
     "name": "stdout",
     "output_type": "stream",
     "text": [
      "draw_board. move_count = 0 caller function = play_loop\n",
      "before: value = 0 max = 100\n",
      "after:  value = 0 max = 0\n"
     ]
    },
    {
     "data": {
      "application/vnd.jupyter.widget-view+json": {
       "model_id": "af8f624c002a4afe88f9d603eb89798e",
       "version_major": 2,
       "version_minor": 0
      },
      "image/png": "[encoded data removed]",
      "text/html": [
       "\n",
       "            <div style=\"display: inline-block;\">\n",
       "                <div class=\"jupyter-widgets widget-label\" style=\"text-align: center;\">\n",
       "                    Figure\n",
       "                </div>\n",
       "                <img src='data:image/png;base64,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' width=300.0/>\n",
       "            </div>\n",
       "        "
      ],
      "text/plain": [
       "Canvas(footer_visible=False, header_visible=False, resizable=False, toolbar=Toolbar(toolitems=[('Home', 'Reset…"
      ]
     },
     "metadata": {},
     "output_type": "display_data"
    },
    {
     "name": "stdout",
     "output_type": "stream",
     "text": [
      "draw_board. move_count = 1 caller function = on_mouse_down\n",
      "before: value = 0 max = 0\n",
      "draw_board. move_count = 1 caller function = change_step\n",
      "before: value = 1 max = 1\n",
      "after:  value = 1 max = 1\n",
      "after:  value = 1 max = 1\n",
      "draw_board. move_count = 1 caller function = play_loop\n",
      "before: value = 1 max = 1\n",
      "after:  value = 1 max = 1\n",
      "draw_board. move_count = 2 caller function = play_loop\n",
      "before: value = 1 max = 1\n",
      "draw_board. move_count = 2 caller function = change_step\n",
      "before: value = 2 max = 2\n",
      "after:  value = 2 max = 2\n",
      "after:  value = 2 max = 2\n",
      "draw_board. move_count = 3 caller function = on_mouse_down\n",
      "before: value = 2 max = 2\n",
      "draw_board. move_count = 3 caller function = change_step\n",
      "before: value = 3 max = 3\n",
      "after:  value = 3 max = 3\n",
      "after:  value = 3 max = 3\n",
      "draw_board. move_count = 3 caller function = play_loop\n",
      "before: value = 3 max = 3\n",
      "after:  value = 3 max = 3\n",
      "draw_board. move_count = 4 caller function = play_loop\n",
      "before: value = 3 max = 3\n",
      "draw_board. move_count = 4 caller function = change_step\n",
      "before: value = 4 max = 4\n",
      "after:  value = 4 max = 4\n",
      "after:  value = 4 max = 4\n"
     ]
    }
   ],
   "source": [
    "gui_play(ai=[None, ai1s])"
   ]
  },
  {
   "cell_type": "code",
   "execution_count": 19,
   "metadata": {},
   "outputs": [],
   "source": [
    "def create_event_handler(self):\n",
    "    # 変更ボタンのイベントハンドラを定義する\n",
    "    def on_change_button_clicked(b):\n",
    "        for i in range(2):\n",
    "            self.mb.ai[i] = None if self.dropdown_list[i].value == \"人間\" else self.dropdown_list[i].value\n",
    "        self.mb.play_loop(self)\n",
    "\n",
    "    # リセットボタンのイベントハンドラを定義する\n",
    "    def on_reset_button_clicked(b=None):\n",
    "        self.mb.restart()\n",
    "        on_change_button_clicked(b)\n",
    "\n",
    "    # 待ったボタンのイベントハンドラを定義する\n",
    "    def on_undo_button_clicked(b=None):\n",
    "        if self.mb.move_count >= 2 and self.mb.move_count == len(self.mb.records) - 1:\n",
    "            self.mb.move_count -= 2\n",
    "            self.mb.records = self.mb.records[0:self.mb.move_count+1]\n",
    "            self.mb.change_step(self.mb.move_count)\n",
    "            self.draw_board()\n",
    "        \n",
    "    # イベントハンドラをボタンに結びつける\n",
    "    self.change_button.on_click(on_change_button_clicked)\n",
    "    self.reset_button.on_click(on_reset_button_clicked)   \n",
    "    self.undo_button.on_click(on_undo_button_clicked)   \n",
    "    \n",
    "    # step 手目の局面に移動する\n",
    "    def change_step(step):\n",
    "        self.mb.change_step(step)\n",
    "        # 描画を更新する\n",
    "        self.draw_board()        \n",
    "\n",
    "    def on_first_button_clicked(b=None):\n",
    "        change_step(0)\n",
    "\n",
    "    def on_prev_button_clicked(b=None):\n",
    "        change_step(self.mb.move_count - 1)\n",
    "\n",
    "    def on_next_button_clicked(b=None):\n",
    "        change_step(self.mb.move_count + 1)\n",
    "        \n",
    "    def on_last_button_clicked(b=None):\n",
    "        change_step(len(self.mb.records) - 1)\n",
    "\n",
    "    def on_slider_changed(changed):\n",
    "        if self.mb.move_count != changed[\"new\"]:\n",
    "            change_step(changed[\"new\"])\n",
    "            \n",
    "    self.first_button.on_click(on_first_button_clicked)\n",
    "    self.prev_button.on_click(on_prev_button_clicked)\n",
    "    self.next_button.on_click(on_next_button_clicked)\n",
    "    self.last_button.on_click(on_last_button_clicked)\n",
    "    self.slider.observe(on_slider_changed, names=\"value\")\n",
    "    \n",
    "    # ゲーム盤の上でマウスを押した場合のイベントハンドラ\n",
    "    def on_mouse_down(event):\n",
    "        # Axes の上でマウスを押していた場合のみ処理を行う\n",
    "        if event.inaxes and self.mb.status == Marubatsu.PLAYING:\n",
    "            x = math.floor(event.xdata)\n",
    "            y = math.floor(event.ydata)\n",
    "            self.mb.move(x, y)                \n",
    "            # 次の手番の処理を行うメソッドを呼び出す\n",
    "            self.mb.play_loop(self)\n",
    "\n",
    "    # ゲーム盤を選択した状態でキーを押した場合のイベントハンドラ\n",
    "    def on_key_press(event):\n",
    "        keymap = {\n",
    "            \"up\": on_first_button_clicked,\n",
    "            \"left\": on_prev_button_clicked,\n",
    "            \"right\": on_next_button_clicked,\n",
    "            \"down\": on_last_button_clicked,\n",
    "            \"0\": on_undo_button_clicked,\n",
    "            \"enter\": on_reset_button_clicked,            \n",
    "        }\n",
    "        if event.key in keymap:\n",
    "            keymap[event.key]()\n",
    "        else:\n",
    "            try:\n",
    "                num = int(event.key) - 1\n",
    "                event.inaxes = True\n",
    "                event.xdata = num % 3\n",
    "                event.ydata = 2 - (num // 3)\n",
    "                on_mouse_down(event)\n",
    "            except:\n",
    "                pass\n",
    "            \n",
    "    # fig の画像イベントハンドラを結び付ける\n",
    "    self.fig.canvas.mpl_connect(\"button_press_event\", on_mouse_down)     \n",
    "    self.fig.canvas.mpl_connect(\"key_press_event\", on_key_press)     \n",
    "    \n",
    "Marubatsu_GUI.create_event_handler = create_event_handler"
   ]
  },
  {
   "cell_type": "code",
   "execution_count": 20,
   "metadata": {},
   "outputs": [
    {
     "data": {
      "application/vnd.jupyter.widget-view+json": {
       "model_id": "fa7803efaf7f4dc18d643b9ac73d01c5",
       "version_major": 2,
       "version_minor": 0
      },
      "text/plain": [
       "VBox(children=(HBox(children=(Dropdown(description='〇', layout=Layout(width='100px'), options={'人間': '人間', 'ai…"
      ]
     },
     "metadata": {},
     "output_type": "display_data"
    },
    {
     "name": "stdout",
     "output_type": "stream",
     "text": [
      "draw_board. move_count = 0 caller function = play_loop\n",
      "before: value = 0 max = 100\n",
      "after:  value = 0 max = 0\n"
     ]
    },
    {
     "data": {
      "application/vnd.jupyter.widget-view+json": {
       "model_id": "fd47dbf8a80e4c7d97d0e33e5d6d4e72",
       "version_major": 2,
       "version_minor": 0
      },
      "image/png": "[encoded data removed]",
      "text/html": [
       "\n",
       "            <div style=\"display: inline-block;\">\n",
       "                <div class=\"jupyter-widgets widget-label\" style=\"text-align: center;\">\n",
       "                    Figure\n",
       "                </div>\n",
       "                <img src='data:image/png;base64,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' width=300.0/>\n",
       "            </div>\n",
       "        "
      ],
      "text/plain": [
       "Canvas(footer_visible=False, header_visible=False, resizable=False, toolbar=Toolbar(toolitems=[('Home', 'Reset…"
      ]
     },
     "metadata": {},
     "output_type": "display_data"
    },
    {
     "name": "stdout",
     "output_type": "stream",
     "text": [
      "draw_board. move_count = 1 caller function = play_loop\n",
      "before: value = 0 max = 0\n",
      "after:  value = 1 max = 1\n",
      "draw_board. move_count = 2 caller function = play_loop\n",
      "before: value = 1 max = 1\n",
      "after:  value = 2 max = 2\n"
     ]
    }
   ],
   "source": [
    "gui_play(ai=[None, ai1s])"
   ]
  }
 ],
 "metadata": {
  "kernelspec": {
   "display_name": "marubatsu",
   "language": "python",
   "name": "python3"
  },
  "language_info": {
   "codemirror_mode": {
    "name": "ipython",
    "version": 3
   },
   "file_extension": ".py",
   "mimetype": "text/x-python",
   "name": "python",
   "nbconvert_exporter": "python",
   "pygments_lexer": "ipython3",
   "version": "3.11.4"
  }
 },
 "nbformat": 4,
 "nbformat_minor": 2
}
