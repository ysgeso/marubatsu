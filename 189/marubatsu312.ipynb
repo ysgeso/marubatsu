{
 "cells": [
  {
   "cell_type": "code",
   "execution_count": 1,
   "metadata": {},
   "outputs": [
    {
     "name": "stdout",
     "output_type": "stream",
     "text": [
      "3.12.11 | packaged by Anaconda, Inc. | (main, Jun  5 2025, 12:58:53) [MSC v.1929 64 bit (AMD64)]\n"
     ]
    }
   ],
   "source": [
    "#python のバージョンの表示\n",
    "import sys\n",
    "print(sys.version)"
   ]
  },
  {
   "cell_type": "code",
   "execution_count": 2,
   "metadata": {},
   "outputs": [
    {
     "name": "stdout",
     "output_type": "stream",
     "text": [
      "ai2s VS ai2s\n"
     ]
    },
    {
     "name": "stderr",
     "output_type": "stream",
     "text": [
      "100%|██████████| 5000/5000 [00:11<00:00, 431.38it/s]"
     ]
    },
    {
     "name": "stdout",
     "output_type": "stream",
     "text": [
      "count     win    lose    draw\n",
      "o        3027    1386     587\n",
      "x        1397    2935     668\n",
      "total    4424    4321    1255\n",
      "\n",
      "ratio     win    lose    draw\n",
      "o       60.5%   27.7%   11.7%\n",
      "x       27.9%   58.7%   13.4%\n",
      "total   44.2%   43.2%   12.6%\n",
      "\n"
     ]
    },
    {
     "name": "stderr",
     "output_type": "stream",
     "text": [
      "\n"
     ]
    },
    {
     "data": {
      "text/plain": [
       "[('count',\n",
       "  [{'win': 3027, 'lose': 1386, 'draw': 587},\n",
       "   {'win': 1397, 'lose': 2935, 'draw': 668},\n",
       "   {'win': 4424, 'lose': 4321, 'draw': 1255}],\n",
       "  '7d'),\n",
       " ('ratio',\n",
       "  [{'win': 0.6054, 'lose': 0.2772, 'draw': 0.1174},\n",
       "   {'win': 0.2794, 'lose': 0.587, 'draw': 0.1336},\n",
       "   {'win': 0.4424, 'lose': 0.4321, 'draw': 0.1255}],\n",
       "  '7.1%')]"
      ]
     },
     "execution_count": 2,
     "metadata": {},
     "output_type": "execute_result"
    }
   ],
   "source": [
    "from ai import ai_match, ai2s\n",
    "\n",
    "ai_match(ai=[ai2s, ai2s], match_num=5000)"
   ]
  },
  {
   "cell_type": "code",
   "execution_count": 3,
   "metadata": {},
   "outputs": [],
   "source": [
    "from marubatsu import Marubatsu\n",
    "\n",
    "def judge(self):\n",
    "    if self.move_count < self.BOARD_SIZE * 2 - 1:\n",
    "        return Marubatsu.PLAYING\n",
    "    # 〇 の勝利の判定\n",
    "    if self.is_winner(Marubatsu.CIRCLE):\n",
    "        return Marubatsu.CIRCLE\n",
    "    # × の勝利の判定\n",
    "    elif self.is_winner(Marubatsu.CROSS):\n",
    "        return Marubatsu.CROSS   \n",
    "    # 引き分けの判定\n",
    "    elif self.is_full():\n",
    "        return Marubatsu.DRAW\n",
    "    # 上記のどれでもなければ決着がついていない\n",
    "    else:\n",
    "        return Marubatsu.PLAYING      \n",
    "    \n",
    "Marubatsu.judge = judge"
   ]
  },
  {
   "cell_type": "code",
   "execution_count": 4,
   "metadata": {},
   "outputs": [
    {
     "name": "stdout",
     "output_type": "stream",
     "text": [
      "Start\n",
      "test winner = playing\n",
      "oooooooooo\n",
      "test winner = o\n",
      "ooooooooo\n",
      "test winner = x\n",
      "oooooooo\n",
      "test winner = draw\n",
      "o\n",
      "Finished\n"
     ]
    }
   ],
   "source": [
    "from mbtest import test_judge\n",
    "\n",
    "test_judge()"
   ]
  },
  {
   "cell_type": "code",
   "execution_count": 5,
   "metadata": {},
   "outputs": [
    {
     "name": "stdout",
     "output_type": "stream",
     "text": [
      "ai2s VS ai2s\n"
     ]
    },
    {
     "name": "stderr",
     "output_type": "stream",
     "text": [
      "100%|██████████| 5000/5000 [00:04<00:00, 1111.64it/s]"
     ]
    },
    {
     "name": "stdout",
     "output_type": "stream",
     "text": [
      "count     win    lose    draw\n",
      "o        2960    1436     604\n",
      "x        1438    2913     649\n",
      "total    4398    4349    1253\n",
      "\n",
      "ratio     win    lose    draw\n",
      "o       59.2%   28.7%   12.1%\n",
      "x       28.8%   58.3%   13.0%\n",
      "total   44.0%   43.5%   12.5%\n",
      "\n"
     ]
    },
    {
     "name": "stderr",
     "output_type": "stream",
     "text": [
      "\n"
     ]
    },
    {
     "data": {
      "text/plain": [
       "[('count',\n",
       "  [{'win': 2960, 'lose': 1436, 'draw': 604},\n",
       "   {'win': 1438, 'lose': 2913, 'draw': 649},\n",
       "   {'win': 4398, 'lose': 4349, 'draw': 1253}],\n",
       "  '7d'),\n",
       " ('ratio',\n",
       "  [{'win': 0.592, 'lose': 0.2872, 'draw': 0.1208},\n",
       "   {'win': 0.2876, 'lose': 0.5826, 'draw': 0.1298},\n",
       "   {'win': 0.4398, 'lose': 0.4349, 'draw': 0.1253}],\n",
       "  '7.1%')]"
      ]
     },
     "execution_count": 5,
     "metadata": {},
     "output_type": "execute_result"
    }
   ],
   "source": [
    "ai_match(ai=[ai2s, ai2s], match_num=5000)"
   ]
  },
  {
   "cell_type": "code",
   "execution_count": 6,
   "metadata": {},
   "outputs": [],
   "source": [
    "def judge(self):\n",
    "    if self.move_count < self.BOARD_SIZE * 2 - 1:\n",
    "        return Marubatsu.PLAYING\n",
    "    # 直前に着手を行ったプレイヤーの勝利の判定\n",
    "    if self.is_winner(self.last_turn):\n",
    "        return self.last_turn\n",
    "    # 引き分けの判定\n",
    "    elif self.is_full():\n",
    "        return Marubatsu.DRAW\n",
    "    # 上記のどれでもなければ決着がついていない\n",
    "    else:\n",
    "        return Marubatsu.PLAYING      \n",
    "    \n",
    "Marubatsu.judge = judge"
   ]
  },
  {
   "cell_type": "code",
   "execution_count": 7,
   "metadata": {},
   "outputs": [
    {
     "name": "stdout",
     "output_type": "stream",
     "text": [
      "Start\n",
      "test winner = playing\n",
      "oooooooooo\n",
      "test winner = o\n",
      "ooooooooo\n",
      "test winner = x\n",
      "oooooooo\n",
      "test winner = draw\n",
      "o\n",
      "Finished\n"
     ]
    }
   ],
   "source": [
    "test_judge()"
   ]
  },
  {
   "cell_type": "code",
   "execution_count": 8,
   "metadata": {},
   "outputs": [
    {
     "name": "stdout",
     "output_type": "stream",
     "text": [
      "ai2s VS ai2s\n"
     ]
    },
    {
     "name": "stderr",
     "output_type": "stream",
     "text": [
      "100%|██████████| 5000/5000 [00:03<00:00, 1463.72it/s]"
     ]
    },
    {
     "name": "stdout",
     "output_type": "stream",
     "text": [
      "count     win    lose    draw\n",
      "o        2948    1381     671\n",
      "x        1476    2899     625\n",
      "total    4424    4280    1296\n",
      "\n",
      "ratio     win    lose    draw\n",
      "o       59.0%   27.6%   13.4%\n",
      "x       29.5%   58.0%   12.5%\n",
      "total   44.2%   42.8%   13.0%\n",
      "\n"
     ]
    },
    {
     "name": "stderr",
     "output_type": "stream",
     "text": [
      "\n"
     ]
    },
    {
     "data": {
      "text/plain": [
       "[('count',\n",
       "  [{'win': 2948, 'lose': 1381, 'draw': 671},\n",
       "   {'win': 1476, 'lose': 2899, 'draw': 625},\n",
       "   {'win': 4424, 'lose': 4280, 'draw': 1296}],\n",
       "  '7d'),\n",
       " ('ratio',\n",
       "  [{'win': 0.5896, 'lose': 0.2762, 'draw': 0.1342},\n",
       "   {'win': 0.2952, 'lose': 0.5798, 'draw': 0.125},\n",
       "   {'win': 0.4424, 'lose': 0.428, 'draw': 0.1296}],\n",
       "  '7.1%')]"
      ]
     },
     "execution_count": 8,
     "metadata": {},
     "output_type": "execute_result"
    }
   ],
   "source": [
    "ai_match(ai=[ai2s, ai2s], match_num=5000)"
   ]
  },
  {
   "cell_type": "code",
   "execution_count": 9,
   "metadata": {},
   "outputs": [],
   "source": [
    "def move(self, x, y):\n",
    "    if self.place_mark(x, y, self.turn):\n",
    "        self.last_turn = self.turn\n",
    "        self.turn = Marubatsu.CROSS if self.turn == Marubatsu.CIRCLE else Marubatsu.CIRCLE  \n",
    "        self.move_count += 1\n",
    "        self.last_move = x, y\n",
    "        self.status = self.judge()\n",
    "        if len(self.records) <= self.move_count:            \n",
    "            self.records.append(self.last_move)\n",
    "        else:\n",
    "            self.records[self.move_count] = self.last_move\n",
    "            self.records = self.records[0:self.move_count + 1]\n",
    "            \n",
    "Marubatsu.move = move"
   ]
  },
  {
   "cell_type": "code",
   "execution_count": 10,
   "metadata": {},
   "outputs": [],
   "source": [
    "def is_winner(self, player):\n",
    "    x, y = self.last_move\n",
    "    if self.is_same(player, coord=[0, y], dx=1, dy=0) or \\\n",
    "       self.is_same(player, coord=[x, 0], dx=0, dy=1):\n",
    "            return True\n",
    "    # 左上から右下方向の判定\n",
    "    if x == y and self.is_same(player, coord=[0, 0], dx=1, dy=1):\n",
    "        return True\n",
    "    # 右上から左下方向の判定\n",
    "    if x + y == self.BOARD_SIZE - 1 and \\\n",
    "        self.is_same(player, coord=[self.BOARD_SIZE - 1, 0], dx=-1, dy=1):\n",
    "        return True\n",
    "\n",
    "    # どの一直線上にも配置されていない場合は、player は勝利していないので False を返す\n",
    "    return False\n",
    "\n",
    "Marubatsu.is_winner = is_winner"
   ]
  },
  {
   "cell_type": "code",
   "execution_count": 11,
   "metadata": {},
   "outputs": [
    {
     "name": "stdout",
     "output_type": "stream",
     "text": [
      "Start\n",
      "test winner = playing\n",
      "oooooooooo\n",
      "test winner = o\n",
      "ooooooooo\n",
      "test winner = x\n",
      "oooooooo\n",
      "test winner = draw\n",
      "o\n",
      "Finished\n"
     ]
    }
   ],
   "source": [
    "test_judge()"
   ]
  },
  {
   "cell_type": "code",
   "execution_count": 12,
   "metadata": {},
   "outputs": [
    {
     "name": "stdout",
     "output_type": "stream",
     "text": [
      "ai2s VS ai2s\n"
     ]
    },
    {
     "name": "stderr",
     "output_type": "stream",
     "text": [
      "100%|██████████| 5000/5000 [00:02<00:00, 2176.32it/s]"
     ]
    },
    {
     "name": "stdout",
     "output_type": "stream",
     "text": [
      "count     win    lose    draw\n",
      "o        2907    1427     666\n",
      "x        1449    2895     656\n",
      "total    4356    4322    1322\n",
      "\n",
      "ratio     win    lose    draw\n",
      "o       58.1%   28.5%   13.3%\n",
      "x       29.0%   57.9%   13.1%\n",
      "total   43.6%   43.2%   13.2%\n",
      "\n"
     ]
    },
    {
     "name": "stderr",
     "output_type": "stream",
     "text": [
      "\n"
     ]
    },
    {
     "data": {
      "text/plain": [
       "[('count',\n",
       "  [{'win': 2907, 'lose': 1427, 'draw': 666},\n",
       "   {'win': 1449, 'lose': 2895, 'draw': 656},\n",
       "   {'win': 4356, 'lose': 4322, 'draw': 1322}],\n",
       "  '7d'),\n",
       " ('ratio',\n",
       "  [{'win': 0.5814, 'lose': 0.2854, 'draw': 0.1332},\n",
       "   {'win': 0.2898, 'lose': 0.579, 'draw': 0.1312},\n",
       "   {'win': 0.4356, 'lose': 0.4322, 'draw': 0.1322}],\n",
       "  '7.1%')]"
      ]
     },
     "execution_count": 12,
     "metadata": {},
     "output_type": "execute_result"
    }
   ],
   "source": [
    "ai_match(ai=[ai2s, ai2s], match_num=5000)"
   ]
  },
  {
   "cell_type": "code",
   "execution_count": 13,
   "metadata": {},
   "outputs": [],
   "source": [
    "def restart(self):\n",
    "    self.initialize_board()\n",
    "    self.turn = Marubatsu.CIRCLE     \n",
    "    self.move_count = 0\n",
    "    self.status = Marubatsu.PLAYING\n",
    "    self.last_move = -1, -1          \n",
    "    self.last_turn = None\n",
    "    self.records = [self.last_move]\n",
    "    self.rowcount = {\n",
    "        Marubatsu.CIRCLE: [0] * self.BOARD_SIZE,\n",
    "        Marubatsu.CROSS: [0] * self.BOARD_SIZE,\n",
    "    }\n",
    "    self.colcount = {\n",
    "        Marubatsu.CIRCLE: [0] * self.BOARD_SIZE,\n",
    "        Marubatsu.CROSS: [0] * self.BOARD_SIZE,\n",
    "    }\n",
    "    self.diacount = {\n",
    "        Marubatsu.CIRCLE: [0] * 2,\n",
    "        Marubatsu.CROSS: [0] * 2,\n",
    "    }\n",
    "    \n",
    "Marubatsu.restart = restart"
   ]
  },
  {
   "cell_type": "code",
   "execution_count": 14,
   "metadata": {},
   "outputs": [],
   "source": [
    "def move(self, x, y):\n",
    "    if self.place_mark(x, y, self.turn):\n",
    "        self.last_turn = self.turn\n",
    "        self.turn = Marubatsu.CROSS if self.turn == Marubatsu.CIRCLE else Marubatsu.CIRCLE  \n",
    "        self.move_count += 1\n",
    "        self.last_move = x, y\n",
    "        self.colcount[self.last_turn][x] += 1\n",
    "        self.rowcount[self.last_turn][y] += 1\n",
    "        if x == y:\n",
    "            self.diacount[self.last_turn][0] += 1        \n",
    "        if x + y == self.BOARD_SIZE - 1:\n",
    "            self.diacount[self.last_turn][1] += 1        \n",
    "        self.status = self.judge()\n",
    "        if len(self.records) <= self.move_count:            \n",
    "            self.records.append(self.last_move)\n",
    "        else:\n",
    "            self.records[self.move_count] = self.last_move\n",
    "            self.records = self.records[0:self.move_count + 1]\n",
    "            \n",
    "Marubatsu.move = move"
   ]
  },
  {
   "cell_type": "code",
   "execution_count": 15,
   "metadata": {},
   "outputs": [],
   "source": [
    "def unmove(self):\n",
    "    if self.move_count > 0:\n",
    "        x, y = self.last_move\n",
    "        self.colcount[self.last_turn][x] -= 1\n",
    "        self.rowcount[self.last_turn][y] -= 1\n",
    "        if x == y:\n",
    "            self.diacount[self.last_turn][0] -= 1        \n",
    "        if x + y == self.BOARD_SIZE - 1:\n",
    "            self.diacount[self.last_turn][1] -= 1           \n",
    "        if self.move_count == 0:\n",
    "            self.last_move = (-1, -1)\n",
    "        self.move_count -= 1\n",
    "        self.turn, self.last_turn = self.last_turn, self.turn\n",
    "        self.status = Marubatsu.PLAYING\n",
    "        x, y = self.records.pop()\n",
    "        self.remove_mark(x, y)\n",
    "        \n",
    "        self.last_move = self.records[-1]  \n",
    "        \n",
    "Marubatsu.unmove = unmove"
   ]
  },
  {
   "cell_type": "code",
   "execution_count": 16,
   "metadata": {},
   "outputs": [],
   "source": [
    "def is_winner(self, player):\n",
    "    x, y = self.last_move\n",
    "    if self.rowcount[player][y] == self.BOARD_SIZE or \\\n",
    "       self.colcount[player][x] == self.BOARD_SIZE:\n",
    "        return True\n",
    "    # 左上から右下方向の判定\n",
    "    if x == y and self.diacount[player][0] == self.BOARD_SIZE:\n",
    "        return True\n",
    "    # 右上から左下方向の判定\n",
    "    if x + y == self.BOARD_SIZE - 1 and \\\n",
    "        self.diacount[player][1] == self.BOARD_SIZE:\n",
    "        return True\n",
    "\n",
    "    # どの一直線上にも配置されていない場合は、player は勝利していないので False を返す\n",
    "    return False\n",
    "\n",
    "Marubatsu.is_winner = is_winner"
   ]
  },
  {
   "cell_type": "code",
   "execution_count": 17,
   "metadata": {},
   "outputs": [
    {
     "name": "stdout",
     "output_type": "stream",
     "text": [
      "Start\n",
      "test winner = playing\n",
      "oooooooooo\n",
      "test winner = o\n",
      "ooooooooo\n",
      "test winner = x\n",
      "oooooooo\n",
      "test winner = draw\n",
      "o\n",
      "Finished\n"
     ]
    }
   ],
   "source": [
    "test_judge()"
   ]
  },
  {
   "cell_type": "code",
   "execution_count": 18,
   "metadata": {},
   "outputs": [
    {
     "name": "stdout",
     "output_type": "stream",
     "text": [
      "ai2s VS ai2s\n"
     ]
    },
    {
     "name": "stderr",
     "output_type": "stream",
     "text": [
      "100%|██████████| 5000/5000 [00:03<00:00, 1600.80it/s]"
     ]
    },
    {
     "name": "stdout",
     "output_type": "stream",
     "text": [
      "count     win    lose    draw\n",
      "o        2988    1400     612\n",
      "x        1434    2929     637\n",
      "total    4422    4329    1249\n",
      "\n",
      "ratio     win    lose    draw\n",
      "o       59.8%   28.0%   12.2%\n",
      "x       28.7%   58.6%   12.7%\n",
      "total   44.2%   43.3%   12.5%\n",
      "\n"
     ]
    },
    {
     "name": "stderr",
     "output_type": "stream",
     "text": [
      "\n"
     ]
    },
    {
     "data": {
      "text/plain": [
       "[('count',\n",
       "  [{'win': 2988, 'lose': 1400, 'draw': 612},\n",
       "   {'win': 1434, 'lose': 2929, 'draw': 637},\n",
       "   {'win': 4422, 'lose': 4329, 'draw': 1249}],\n",
       "  '7d'),\n",
       " ('ratio',\n",
       "  [{'win': 0.5976, 'lose': 0.28, 'draw': 0.1224},\n",
       "   {'win': 0.2868, 'lose': 0.5858, 'draw': 0.1274},\n",
       "   {'win': 0.4422, 'lose': 0.4329, 'draw': 0.1249}],\n",
       "  '7.1%')]"
      ]
     },
     "execution_count": 18,
     "metadata": {},
     "output_type": "execute_result"
    }
   ],
   "source": [
    "ai_match(ai=[ai2s, ai2s], match_num=5000)"
   ]
  },
  {
   "cell_type": "code",
   "execution_count": 19,
   "metadata": {},
   "outputs": [],
   "source": [
    "def judge(self):\n",
    "    if self.move_count == 0:\n",
    "        return Marubatsu.PLAYING\n",
    "    # 直前に着手を行ったプレイヤーの勝利の判定\n",
    "    if self.is_winner(self.last_turn):\n",
    "        return self.last_turn\n",
    "    # 引き分けの判定\n",
    "    elif self.is_full():\n",
    "        return Marubatsu.DRAW\n",
    "    # 上記のどれでもなければ決着がついていない\n",
    "    else:\n",
    "        return Marubatsu.PLAYING      \n",
    "    \n",
    "Marubatsu.judge = judge"
   ]
  },
  {
   "cell_type": "code",
   "execution_count": 20,
   "metadata": {},
   "outputs": [
    {
     "name": "stdout",
     "output_type": "stream",
     "text": [
      "Start\n",
      "test winner = playing\n",
      "oooooooooo\n",
      "test winner = o\n",
      "ooooooooo\n",
      "test winner = x\n",
      "oooooooo\n",
      "test winner = draw\n",
      "o\n",
      "Finished\n"
     ]
    }
   ],
   "source": [
    "test_judge()"
   ]
  },
  {
   "cell_type": "code",
   "execution_count": 21,
   "metadata": {},
   "outputs": [
    {
     "name": "stdout",
     "output_type": "stream",
     "text": [
      "ai2s VS ai2s\n"
     ]
    },
    {
     "name": "stderr",
     "output_type": "stream",
     "text": [
      "100%|██████████| 5000/5000 [00:03<00:00, 1642.92it/s]"
     ]
    },
    {
     "name": "stdout",
     "output_type": "stream",
     "text": [
      "count     win    lose    draw\n",
      "o        2928    1443     629\n",
      "x        1442    2900     658\n",
      "total    4370    4343    1287\n",
      "\n",
      "ratio     win    lose    draw\n",
      "o       58.6%   28.9%   12.6%\n",
      "x       28.8%   58.0%   13.2%\n",
      "total   43.7%   43.4%   12.9%\n",
      "\n"
     ]
    },
    {
     "name": "stderr",
     "output_type": "stream",
     "text": [
      "\n"
     ]
    },
    {
     "data": {
      "text/plain": [
       "[('count',\n",
       "  [{'win': 2928, 'lose': 1443, 'draw': 629},\n",
       "   {'win': 1442, 'lose': 2900, 'draw': 658},\n",
       "   {'win': 4370, 'lose': 4343, 'draw': 1287}],\n",
       "  '7d'),\n",
       " ('ratio',\n",
       "  [{'win': 0.5856, 'lose': 0.2886, 'draw': 0.1258},\n",
       "   {'win': 0.2884, 'lose': 0.58, 'draw': 0.1316},\n",
       "   {'win': 0.437, 'lose': 0.4343, 'draw': 0.1287}],\n",
       "  '7.1%')]"
      ]
     },
     "execution_count": 21,
     "metadata": {},
     "output_type": "execute_result"
    }
   ],
   "source": [
    "ai_match(ai=[ai2s, ai2s], match_num=5000)"
   ]
  },
  {
   "cell_type": "code",
   "execution_count": 22,
   "metadata": {},
   "outputs": [],
   "source": [
    "def restart(self):\n",
    "    self.initialize_board()\n",
    "    self.turn = Marubatsu.CIRCLE     \n",
    "    self.move_count = 0\n",
    "    self.status = Marubatsu.PLAYING\n",
    "    self.last_move = -1, -1          \n",
    "    self.last_turn = None\n",
    "    self.records = [self.last_move]\n",
    "    \n",
    "Marubatsu.restart = restart"
   ]
  },
  {
   "cell_type": "code",
   "execution_count": 23,
   "metadata": {},
   "outputs": [],
   "source": [
    "def is_winner(self, player):\n",
    "    x, y = self.last_move\n",
    "    if self.is_same(player, coord=[0, y], dx=1, dy=0) or \\\n",
    "       self.is_same(player, coord=[x, 0], dx=0, dy=1):\n",
    "            return True\n",
    "    # 左上から右下方向の判定\n",
    "    if x == y and self.is_same(player, coord=[0, 0], dx=1, dy=1):\n",
    "        return True\n",
    "    # 右上から左下方向の判定\n",
    "    if x + y == self.BOARD_SIZE - 1 and \\\n",
    "        self.is_same(player, coord=[self.BOARD_SIZE - 1, 0], dx=-1, dy=1):\n",
    "        return True\n",
    "\n",
    "    # どの一直線上にも配置されていない場合は、player は勝利していないので False を返す\n",
    "    return False\n",
    "\n",
    "Marubatsu.is_winner = is_winner"
   ]
  },
  {
   "cell_type": "code",
   "execution_count": 24,
   "metadata": {},
   "outputs": [],
   "source": [
    "def move(self, x, y):\n",
    "    if self.place_mark(x, y, self.turn):\n",
    "        self.last_turn = self.turn\n",
    "        self.turn = Marubatsu.CROSS if self.turn == Marubatsu.CIRCLE else Marubatsu.CIRCLE  \n",
    "        self.move_count += 1\n",
    "        self.last_move = x, y\n",
    "        self.status = self.judge()\n",
    "        if len(self.records) <= self.move_count:            \n",
    "            self.records.append(self.last_move)\n",
    "        else:\n",
    "            self.records[self.move_count] = self.last_move\n",
    "            self.records = self.records[0:self.move_count + 1]\n",
    "            \n",
    "Marubatsu.move = move"
   ]
  },
  {
   "cell_type": "code",
   "execution_count": 25,
   "metadata": {},
   "outputs": [],
   "source": [
    "def unmove(self):\n",
    "    if self.move_count > 0:\n",
    "        self.move_count -= 1\n",
    "        self.turn, self.last_turn = self.last_turn, self.turn\n",
    "        if self.move_count == 0:\n",
    "            self.last_move = (-1, -1)\n",
    "        self.status = Marubatsu.PLAYING\n",
    "        x, y = self.records.pop()\n",
    "        self.remove_mark(x, y)\n",
    "        self.last_move = self.records[-1]  \n",
    "\n",
    "Marubatsu.unmove = unmove"
   ]
  },
  {
   "cell_type": "code",
   "execution_count": 26,
   "metadata": {},
   "outputs": [
    {
     "name": "stdout",
     "output_type": "stream",
     "text": [
      "Start\n",
      "test winner = playing\n",
      "oooooooooo\n",
      "test winner = o\n",
      "ooooooooo\n",
      "test winner = x\n",
      "oooooooo\n",
      "test winner = draw\n",
      "o\n",
      "Finished\n"
     ]
    }
   ],
   "source": [
    "test_judge()"
   ]
  },
  {
   "cell_type": "code",
   "execution_count": 27,
   "metadata": {},
   "outputs": [
    {
     "name": "stdout",
     "output_type": "stream",
     "text": [
      "ai2s VS ai2s\n"
     ]
    },
    {
     "name": "stderr",
     "output_type": "stream",
     "text": [
      "100%|██████████| 5000/5000 [00:03<00:00, 1309.87it/s]"
     ]
    },
    {
     "name": "stdout",
     "output_type": "stream",
     "text": [
      "count     win    lose    draw\n",
      "o        2936    1405     659\n",
      "x        1433    2919     648\n",
      "total    4369    4324    1307\n",
      "\n",
      "ratio     win    lose    draw\n",
      "o       58.7%   28.1%   13.2%\n",
      "x       28.7%   58.4%   13.0%\n",
      "total   43.7%   43.2%   13.1%\n",
      "\n"
     ]
    },
    {
     "name": "stderr",
     "output_type": "stream",
     "text": [
      "\n"
     ]
    },
    {
     "data": {
      "text/plain": [
       "[('count',\n",
       "  [{'win': 2936, 'lose': 1405, 'draw': 659},\n",
       "   {'win': 1433, 'lose': 2919, 'draw': 648},\n",
       "   {'win': 4369, 'lose': 4324, 'draw': 1307}],\n",
       "  '7d'),\n",
       " ('ratio',\n",
       "  [{'win': 0.5872, 'lose': 0.281, 'draw': 0.1318},\n",
       "   {'win': 0.2866, 'lose': 0.5838, 'draw': 0.1296},\n",
       "   {'win': 0.4369, 'lose': 0.4324, 'draw': 0.1307}],\n",
       "  '7.1%')]"
      ]
     },
     "execution_count": 27,
     "metadata": {},
     "output_type": "execute_result"
    }
   ],
   "source": [
    "ai_match(ai=[ai2s, ai2s], match_num=5000)"
   ]
  }
 ],
 "metadata": {
  "kernelspec": {
   "display_name": "marubatsu312",
   "language": "python",
   "name": "python3"
  },
  "language_info": {
   "codemirror_mode": {
    "name": "ipython",
    "version": 3
   },
   "file_extension": ".py",
   "mimetype": "text/x-python",
   "name": "python",
   "nbconvert_exporter": "python",
   "pygments_lexer": "ipython3",
   "version": "3.12.11"
  }
 },
 "nbformat": 4,
 "nbformat_minor": 2
}
