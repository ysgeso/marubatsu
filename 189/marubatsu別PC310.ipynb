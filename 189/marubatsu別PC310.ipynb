{
 "cells": [
  {
   "cell_type": "code",
   "execution_count": 1,
   "metadata": {},
   "outputs": [
    {
     "name": "stdout",
     "output_type": "stream",
     "text": [
      "ai2s VS ai2s\n"
     ]
    },
    {
     "name": "stderr",
     "output_type": "stream",
     "text": [
      "100%|██████████| 5000/5000 [00:27<00:00, 180.02it/s]"
     ]
    },
    {
     "name": "stdout",
     "output_type": "stream",
     "text": [
      "count     win    lose    draw\n",
      "o        2923    1436     641\n",
      "x        1417    2913     670\n",
      "total    4340    4349    1311\n",
      "\n",
      "ratio     win    lose    draw\n",
      "o       58.5%   28.7%   12.8%\n",
      "x       28.3%   58.3%   13.4%\n",
      "total   43.4%   43.5%   13.1%\n",
      "\n"
     ]
    },
    {
     "name": "stderr",
     "output_type": "stream",
     "text": [
      "\n"
     ]
    },
    {
     "data": {
      "text/plain": [
       "[('count',\n",
       "  [{'win': 2923, 'lose': 1436, 'draw': 641},\n",
       "   {'win': 1417, 'lose': 2913, 'draw': 670},\n",
       "   {'win': 4340, 'lose': 4349, 'draw': 1311}],\n",
       "  '7d'),\n",
       " ('ratio',\n",
       "  [{'win': 0.5846, 'lose': 0.2872, 'draw': 0.1282},\n",
       "   {'win': 0.2834, 'lose': 0.5826, 'draw': 0.134},\n",
       "   {'win': 0.434, 'lose': 0.4349, 'draw': 0.1311}],\n",
       "  '7.1%')]"
      ]
     },
     "execution_count": 1,
     "metadata": {},
     "output_type": "execute_result"
    }
   ],
   "source": [
    "from ai import ai_match, ai2s\n",
    "\n",
    "ai_match(ai=[ai2s, ai2s], match_num=5000)"
   ]
  },
  {
   "cell_type": "code",
   "execution_count": 2,
   "metadata": {},
   "outputs": [],
   "source": [
    "from marubatsu import Marubatsu\n",
    "\n",
    "def judge(self):\n",
    "    if self.move_count < self.BOARD_SIZE * 2 - 1:\n",
    "        return Marubatsu.PLAYING\n",
    "    # 〇 の勝利の判定\n",
    "    if self.is_winner(Marubatsu.CIRCLE):\n",
    "        return Marubatsu.CIRCLE\n",
    "    # × の勝利の判定\n",
    "    elif self.is_winner(Marubatsu.CROSS):\n",
    "        return Marubatsu.CROSS   \n",
    "    # 引き分けの判定\n",
    "    elif self.is_full():\n",
    "        return Marubatsu.DRAW\n",
    "    # 上記のどれでもなければ決着がついていない\n",
    "    else:\n",
    "        return Marubatsu.PLAYING      \n",
    "    \n",
    "Marubatsu.judge = judge"
   ]
  },
  {
   "cell_type": "code",
   "execution_count": 3,
   "metadata": {},
   "outputs": [
    {
     "name": "stdout",
     "output_type": "stream",
     "text": [
      "Start\n",
      "test winner = playing\n",
      "oooooooooo\n",
      "test winner = o\n",
      "ooooooooo\n",
      "test winner = x\n",
      "oooooooo\n",
      "test winner = draw\n",
      "o\n",
      "Finished\n"
     ]
    }
   ],
   "source": [
    "from test import test_judge\n",
    "\n",
    "test_judge()"
   ]
  },
  {
   "cell_type": "code",
   "execution_count": 4,
   "metadata": {},
   "outputs": [
    {
     "name": "stdout",
     "output_type": "stream",
     "text": [
      "ai2s VS ai2s\n"
     ]
    },
    {
     "name": "stderr",
     "output_type": "stream",
     "text": [
      "100%|██████████| 5000/5000 [00:20<00:00, 238.63it/s]\n"
     ]
    },
    {
     "name": "stdout",
     "output_type": "stream",
     "text": [
      "count     win    lose    draw\n",
      "o        2960    1439     601\n",
      "x        1467    2893     640\n",
      "total    4427    4332    1241\n",
      "\n",
      "ratio     win    lose    draw\n",
      "o       59.2%   28.8%   12.0%\n",
      "x       29.3%   57.9%   12.8%\n",
      "total   44.3%   43.3%   12.4%\n",
      "\n"
     ]
    },
    {
     "data": {
      "text/plain": [
       "[('count',\n",
       "  [{'win': 2960, 'lose': 1439, 'draw': 601},\n",
       "   {'win': 1467, 'lose': 2893, 'draw': 640},\n",
       "   {'win': 4427, 'lose': 4332, 'draw': 1241}],\n",
       "  '7d'),\n",
       " ('ratio',\n",
       "  [{'win': 0.592, 'lose': 0.2878, 'draw': 0.1202},\n",
       "   {'win': 0.2934, 'lose': 0.5786, 'draw': 0.128},\n",
       "   {'win': 0.4427, 'lose': 0.4332, 'draw': 0.1241}],\n",
       "  '7.1%')]"
      ]
     },
     "execution_count": 4,
     "metadata": {},
     "output_type": "execute_result"
    }
   ],
   "source": [
    "ai_match(ai=[ai2s, ai2s], match_num=5000)"
   ]
  },
  {
   "cell_type": "code",
   "execution_count": 5,
   "metadata": {},
   "outputs": [],
   "source": [
    "def judge(self):\n",
    "    if self.move_count < self.BOARD_SIZE * 2 - 1:\n",
    "        return Marubatsu.PLAYING\n",
    "    # 直前に着手を行ったプレイヤーの勝利の判定\n",
    "    if self.is_winner(self.last_turn):\n",
    "        return self.last_turn\n",
    "    # 引き分けの判定\n",
    "    elif self.is_full():\n",
    "        return Marubatsu.DRAW\n",
    "    # 上記のどれでもなければ決着がついていない\n",
    "    else:\n",
    "        return Marubatsu.PLAYING      \n",
    "    \n",
    "Marubatsu.judge = judge"
   ]
  },
  {
   "cell_type": "code",
   "execution_count": 6,
   "metadata": {},
   "outputs": [
    {
     "name": "stdout",
     "output_type": "stream",
     "text": [
      "Start\n",
      "test winner = playing\n",
      "oooooooooo\n",
      "test winner = o\n",
      "ooooooooo\n",
      "test winner = x\n",
      "oooooooo\n",
      "test winner = draw\n",
      "o\n",
      "Finished\n"
     ]
    }
   ],
   "source": [
    "test_judge()"
   ]
  },
  {
   "cell_type": "code",
   "execution_count": 7,
   "metadata": {},
   "outputs": [
    {
     "name": "stdout",
     "output_type": "stream",
     "text": [
      "ai2s VS ai2s\n"
     ]
    },
    {
     "name": "stderr",
     "output_type": "stream",
     "text": [
      "100%|██████████| 5000/5000 [00:19<00:00, 260.22it/s]"
     ]
    },
    {
     "name": "stdout",
     "output_type": "stream",
     "text": [
      "count     win    lose    draw\n",
      "o        2950    1465     585\n",
      "x        1460    2901     639\n",
      "total    4410    4366    1224\n",
      "\n",
      "ratio     win    lose    draw\n",
      "o       59.0%   29.3%   11.7%\n",
      "x       29.2%   58.0%   12.8%\n",
      "total   44.1%   43.7%   12.2%\n",
      "\n"
     ]
    },
    {
     "name": "stderr",
     "output_type": "stream",
     "text": [
      "\n"
     ]
    },
    {
     "data": {
      "text/plain": [
       "[('count',\n",
       "  [{'win': 2950, 'lose': 1465, 'draw': 585},\n",
       "   {'win': 1460, 'lose': 2901, 'draw': 639},\n",
       "   {'win': 4410, 'lose': 4366, 'draw': 1224}],\n",
       "  '7d'),\n",
       " ('ratio',\n",
       "  [{'win': 0.59, 'lose': 0.293, 'draw': 0.117},\n",
       "   {'win': 0.292, 'lose': 0.5802, 'draw': 0.1278},\n",
       "   {'win': 0.441, 'lose': 0.4366, 'draw': 0.1224}],\n",
       "  '7.1%')]"
      ]
     },
     "execution_count": 7,
     "metadata": {},
     "output_type": "execute_result"
    }
   ],
   "source": [
    "ai_match(ai=[ai2s, ai2s], match_num=5000)"
   ]
  },
  {
   "cell_type": "code",
   "execution_count": 8,
   "metadata": {},
   "outputs": [],
   "source": [
    "def move(self, x, y):\n",
    "    if self.place_mark(x, y, self.turn):\n",
    "        self.last_turn = self.turn\n",
    "        self.turn = Marubatsu.CROSS if self.turn == Marubatsu.CIRCLE else Marubatsu.CIRCLE  \n",
    "        self.move_count += 1\n",
    "        self.last_move = x, y\n",
    "        self.status = self.judge()\n",
    "        if len(self.records) <= self.move_count:            \n",
    "            self.records.append(self.last_move)\n",
    "        else:\n",
    "            self.records[self.move_count] = self.last_move\n",
    "            self.records = self.records[0:self.move_count + 1]\n",
    "            \n",
    "Marubatsu.move = move"
   ]
  },
  {
   "cell_type": "code",
   "execution_count": 9,
   "metadata": {},
   "outputs": [],
   "source": [
    "def is_winner(self, player):\n",
    "    x, y = self.last_move\n",
    "    if self.is_same(player, coord=[0, y], dx=1, dy=0) or \\\n",
    "       self.is_same(player, coord=[x, 0], dx=0, dy=1):\n",
    "            return True\n",
    "    # 左上から右下方向の判定\n",
    "    if x == y and self.is_same(player, coord=[0, 0], dx=1, dy=1):\n",
    "        return True\n",
    "    # 右上から左下方向の判定\n",
    "    if x + y == self.BOARD_SIZE - 1 and \\\n",
    "        self.is_same(player, coord=[self.BOARD_SIZE - 1, 0], dx=-1, dy=1):\n",
    "        return True\n",
    "\n",
    "    # どの一直線上にも配置されていない場合は、player は勝利していないので False を返す\n",
    "    return False\n",
    "\n",
    "Marubatsu.is_winner = is_winner"
   ]
  },
  {
   "cell_type": "code",
   "execution_count": 10,
   "metadata": {},
   "outputs": [
    {
     "name": "stdout",
     "output_type": "stream",
     "text": [
      "Start\n",
      "test winner = playing\n",
      "oooooooooo\n",
      "test winner = o\n",
      "ooooooooo\n",
      "test winner = x\n",
      "oooooooo\n",
      "test winner = draw\n",
      "o\n",
      "Finished\n"
     ]
    }
   ],
   "source": [
    "test_judge()"
   ]
  },
  {
   "cell_type": "code",
   "execution_count": 11,
   "metadata": {},
   "outputs": [
    {
     "name": "stdout",
     "output_type": "stream",
     "text": [
      "ai2s VS ai2s\n"
     ]
    },
    {
     "name": "stderr",
     "output_type": "stream",
     "text": [
      "100%|██████████| 5000/5000 [00:18<00:00, 277.57it/s]"
     ]
    },
    {
     "name": "stdout",
     "output_type": "stream",
     "text": [
      "count     win    lose    draw\n",
      "o        2965    1429     606\n",
      "x        1460    2942     598\n",
      "total    4425    4371    1204\n",
      "\n",
      "ratio     win    lose    draw\n",
      "o       59.3%   28.6%   12.1%\n",
      "x       29.2%   58.8%   12.0%\n",
      "total   44.2%   43.7%   12.0%\n",
      "\n"
     ]
    },
    {
     "name": "stderr",
     "output_type": "stream",
     "text": [
      "\n"
     ]
    },
    {
     "data": {
      "text/plain": [
       "[('count',\n",
       "  [{'win': 2965, 'lose': 1429, 'draw': 606},\n",
       "   {'win': 1460, 'lose': 2942, 'draw': 598},\n",
       "   {'win': 4425, 'lose': 4371, 'draw': 1204}],\n",
       "  '7d'),\n",
       " ('ratio',\n",
       "  [{'win': 0.593, 'lose': 0.2858, 'draw': 0.1212},\n",
       "   {'win': 0.292, 'lose': 0.5884, 'draw': 0.1196},\n",
       "   {'win': 0.4425, 'lose': 0.4371, 'draw': 0.1204}],\n",
       "  '7.1%')]"
      ]
     },
     "execution_count": 11,
     "metadata": {},
     "output_type": "execute_result"
    }
   ],
   "source": [
    "ai_match(ai=[ai2s, ai2s], match_num=5000)"
   ]
  },
  {
   "cell_type": "code",
   "execution_count": 12,
   "metadata": {},
   "outputs": [],
   "source": [
    "def restart(self):\n",
    "    self.initialize_board()\n",
    "    self.turn = Marubatsu.CIRCLE     \n",
    "    self.move_count = 0\n",
    "    self.status = Marubatsu.PLAYING\n",
    "    self.last_move = -1, -1          \n",
    "    self.last_turn = None\n",
    "    self.records = [self.last_move]\n",
    "    self.rowcount = {\n",
    "        Marubatsu.CIRCLE: [0] * self.BOARD_SIZE,\n",
    "        Marubatsu.CROSS: [0] * self.BOARD_SIZE,\n",
    "    }\n",
    "    self.colcount = {\n",
    "        Marubatsu.CIRCLE: [0] * self.BOARD_SIZE,\n",
    "        Marubatsu.CROSS: [0] * self.BOARD_SIZE,\n",
    "    }\n",
    "    self.diacount = {\n",
    "        Marubatsu.CIRCLE: [0] * 2,\n",
    "        Marubatsu.CROSS: [0] * 2,\n",
    "    }\n",
    "    \n",
    "Marubatsu.restart = restart"
   ]
  },
  {
   "cell_type": "code",
   "execution_count": 13,
   "metadata": {},
   "outputs": [],
   "source": [
    "def move(self, x, y):\n",
    "    if self.place_mark(x, y, self.turn):\n",
    "        self.last_turn = self.turn\n",
    "        self.turn = Marubatsu.CROSS if self.turn == Marubatsu.CIRCLE else Marubatsu.CIRCLE  \n",
    "        self.move_count += 1\n",
    "        self.last_move = x, y\n",
    "        self.colcount[self.last_turn][x] += 1\n",
    "        self.rowcount[self.last_turn][y] += 1\n",
    "        if x == y:\n",
    "            self.diacount[self.last_turn][0] += 1        \n",
    "        if x + y == self.BOARD_SIZE - 1:\n",
    "            self.diacount[self.last_turn][1] += 1        \n",
    "        self.status = self.judge()\n",
    "        if len(self.records) <= self.move_count:            \n",
    "            self.records.append(self.last_move)\n",
    "        else:\n",
    "            self.records[self.move_count] = self.last_move\n",
    "            self.records = self.records[0:self.move_count + 1]\n",
    "            \n",
    "Marubatsu.move = move"
   ]
  },
  {
   "cell_type": "code",
   "execution_count": 14,
   "metadata": {},
   "outputs": [],
   "source": [
    "def unmove(self):\n",
    "    if self.move_count > 0:\n",
    "        x, y = self.last_move\n",
    "        self.colcount[self.last_turn][x] -= 1\n",
    "        self.rowcount[self.last_turn][y] -= 1\n",
    "        if x == y:\n",
    "            self.diacount[self.last_turn][0] -= 1        \n",
    "        if x + y == self.BOARD_SIZE - 1:\n",
    "            self.diacount[self.last_turn][1] -= 1           \n",
    "        if self.move_count == 0:\n",
    "            self.last_move = (-1, -1)\n",
    "        self.move_count -= 1\n",
    "        self.turn, self.last_turn = self.last_turn, self.turn\n",
    "        self.status = Marubatsu.PLAYING\n",
    "        x, y = self.records.pop()\n",
    "        self.remove_mark(x, y)\n",
    "        \n",
    "        self.last_move = self.records[-1]  \n",
    "        \n",
    "Marubatsu.unmove = unmove"
   ]
  },
  {
   "cell_type": "code",
   "execution_count": 15,
   "metadata": {},
   "outputs": [],
   "source": [
    "def is_winner(self, player):\n",
    "    x, y = self.last_move\n",
    "    if self.rowcount[player][y] == self.BOARD_SIZE or \\\n",
    "       self.colcount[player][x] == self.BOARD_SIZE:\n",
    "        return True\n",
    "    # 左上から右下方向の判定\n",
    "    if x == y and self.diacount[player][0] == self.BOARD_SIZE:\n",
    "        return True\n",
    "    # 右上から左下方向の判定\n",
    "    if x + y == self.BOARD_SIZE - 1 and \\\n",
    "        self.diacount[player][1] == self.BOARD_SIZE:\n",
    "        return True\n",
    "\n",
    "    # どの一直線上にも配置されていない場合は、player は勝利していないので False を返す\n",
    "    return False\n",
    "\n",
    "Marubatsu.is_winner = is_winner"
   ]
  },
  {
   "cell_type": "code",
   "execution_count": 16,
   "metadata": {},
   "outputs": [
    {
     "name": "stdout",
     "output_type": "stream",
     "text": [
      "Start\n",
      "test winner = playing\n",
      "oooooooooo\n",
      "test winner = o\n",
      "ooooooooo\n",
      "test winner = x\n",
      "oooooooo\n",
      "test winner = draw\n",
      "o\n",
      "Finished\n"
     ]
    }
   ],
   "source": [
    "test_judge()"
   ]
  },
  {
   "cell_type": "code",
   "execution_count": 17,
   "metadata": {},
   "outputs": [
    {
     "name": "stdout",
     "output_type": "stream",
     "text": [
      "ai2s VS ai2s\n"
     ]
    },
    {
     "name": "stderr",
     "output_type": "stream",
     "text": [
      "100%|██████████| 5000/5000 [00:26<00:00, 188.59it/s]"
     ]
    },
    {
     "name": "stdout",
     "output_type": "stream",
     "text": [
      "count     win    lose    draw\n",
      "o        2961    1441     598\n",
      "x        1447    2945     608\n",
      "total    4408    4386    1206\n",
      "\n",
      "ratio     win    lose    draw\n",
      "o       59.2%   28.8%   12.0%\n",
      "x       28.9%   58.9%   12.2%\n",
      "total   44.1%   43.9%   12.1%\n",
      "\n"
     ]
    },
    {
     "name": "stderr",
     "output_type": "stream",
     "text": [
      "\n"
     ]
    },
    {
     "data": {
      "text/plain": [
       "[('count',\n",
       "  [{'win': 2961, 'lose': 1441, 'draw': 598},\n",
       "   {'win': 1447, 'lose': 2945, 'draw': 608},\n",
       "   {'win': 4408, 'lose': 4386, 'draw': 1206}],\n",
       "  '7d'),\n",
       " ('ratio',\n",
       "  [{'win': 0.5922, 'lose': 0.2882, 'draw': 0.1196},\n",
       "   {'win': 0.2894, 'lose': 0.589, 'draw': 0.1216},\n",
       "   {'win': 0.4408, 'lose': 0.4386, 'draw': 0.1206}],\n",
       "  '7.1%')]"
      ]
     },
     "execution_count": 17,
     "metadata": {},
     "output_type": "execute_result"
    }
   ],
   "source": [
    "ai_match(ai=[ai2s, ai2s], match_num=5000)"
   ]
  },
  {
   "cell_type": "code",
   "execution_count": 18,
   "metadata": {},
   "outputs": [],
   "source": [
    "def judge(self):\n",
    "    if self.move_count == 0:\n",
    "        return Marubatsu.PLAYING\n",
    "    # 直前に着手を行ったプレイヤーの勝利の判定\n",
    "    if self.is_winner(self.last_turn):\n",
    "        return self.last_turn\n",
    "    # 引き分けの判定\n",
    "    elif self.is_full():\n",
    "        return Marubatsu.DRAW\n",
    "    # 上記のどれでもなければ決着がついていない\n",
    "    else:\n",
    "        return Marubatsu.PLAYING      \n",
    "    \n",
    "Marubatsu.judge = judge"
   ]
  },
  {
   "cell_type": "code",
   "execution_count": 19,
   "metadata": {},
   "outputs": [
    {
     "name": "stdout",
     "output_type": "stream",
     "text": [
      "Start\n",
      "test winner = playing\n",
      "oooooooooo\n",
      "test winner = o\n",
      "ooooooooo\n",
      "test winner = x\n",
      "oooooooo\n",
      "test winner = draw\n",
      "o\n",
      "Finished\n"
     ]
    }
   ],
   "source": [
    "test_judge()"
   ]
  },
  {
   "cell_type": "code",
   "execution_count": 20,
   "metadata": {},
   "outputs": [
    {
     "name": "stdout",
     "output_type": "stream",
     "text": [
      "ai2s VS ai2s\n"
     ]
    },
    {
     "name": "stderr",
     "output_type": "stream",
     "text": [
      "100%|██████████| 5000/5000 [00:26<00:00, 186.15it/s]"
     ]
    },
    {
     "name": "stdout",
     "output_type": "stream",
     "text": [
      "count     win    lose    draw\n",
      "o        2897    1519     584\n",
      "x        1456    2940     604\n",
      "total    4353    4459    1188\n",
      "\n",
      "ratio     win    lose    draw\n",
      "o       57.9%   30.4%   11.7%\n",
      "x       29.1%   58.8%   12.1%\n",
      "total   43.5%   44.6%   11.9%\n",
      "\n"
     ]
    },
    {
     "name": "stderr",
     "output_type": "stream",
     "text": [
      "\n"
     ]
    },
    {
     "data": {
      "text/plain": [
       "[('count',\n",
       "  [{'win': 2897, 'lose': 1519, 'draw': 584},\n",
       "   {'win': 1456, 'lose': 2940, 'draw': 604},\n",
       "   {'win': 4353, 'lose': 4459, 'draw': 1188}],\n",
       "  '7d'),\n",
       " ('ratio',\n",
       "  [{'win': 0.5794, 'lose': 0.3038, 'draw': 0.1168},\n",
       "   {'win': 0.2912, 'lose': 0.588, 'draw': 0.1208},\n",
       "   {'win': 0.4353, 'lose': 0.4459, 'draw': 0.1188}],\n",
       "  '7.1%')]"
      ]
     },
     "execution_count": 20,
     "metadata": {},
     "output_type": "execute_result"
    }
   ],
   "source": [
    "ai_match(ai=[ai2s, ai2s], match_num=5000)"
   ]
  },
  {
   "cell_type": "code",
   "execution_count": 21,
   "metadata": {},
   "outputs": [],
   "source": [
    "def restart(self):\n",
    "    self.initialize_board()\n",
    "    self.turn = Marubatsu.CIRCLE     \n",
    "    self.move_count = 0\n",
    "    self.status = Marubatsu.PLAYING\n",
    "    self.last_move = -1, -1          \n",
    "    self.last_turn = None\n",
    "    self.records = [self.last_move]\n",
    "    \n",
    "Marubatsu.restart = restart"
   ]
  },
  {
   "cell_type": "code",
   "execution_count": 22,
   "metadata": {},
   "outputs": [],
   "source": [
    "def is_winner(self, player):\n",
    "    x, y = self.last_move\n",
    "    if self.is_same(player, coord=[0, y], dx=1, dy=0) or \\\n",
    "       self.is_same(player, coord=[x, 0], dx=0, dy=1):\n",
    "            return True\n",
    "    # 左上から右下方向の判定\n",
    "    if x == y and self.is_same(player, coord=[0, 0], dx=1, dy=1):\n",
    "        return True\n",
    "    # 右上から左下方向の判定\n",
    "    if x + y == self.BOARD_SIZE - 1 and \\\n",
    "        self.is_same(player, coord=[self.BOARD_SIZE - 1, 0], dx=-1, dy=1):\n",
    "        return True\n",
    "\n",
    "    # どの一直線上にも配置されていない場合は、player は勝利していないので False を返す\n",
    "    return False\n",
    "\n",
    "Marubatsu.is_winner = is_winner"
   ]
  },
  {
   "cell_type": "code",
   "execution_count": 23,
   "metadata": {},
   "outputs": [],
   "source": [
    "def move(self, x, y):\n",
    "    if self.place_mark(x, y, self.turn):\n",
    "        self.last_turn = self.turn\n",
    "        self.turn = Marubatsu.CROSS if self.turn == Marubatsu.CIRCLE else Marubatsu.CIRCLE  \n",
    "        self.move_count += 1\n",
    "        self.last_move = x, y\n",
    "        self.status = self.judge()\n",
    "        if len(self.records) <= self.move_count:            \n",
    "            self.records.append(self.last_move)\n",
    "        else:\n",
    "            self.records[self.move_count] = self.last_move\n",
    "            self.records = self.records[0:self.move_count + 1]\n",
    "            \n",
    "Marubatsu.move = move"
   ]
  },
  {
   "cell_type": "code",
   "execution_count": 24,
   "metadata": {},
   "outputs": [],
   "source": [
    "def unmove(self):\n",
    "    if self.move_count > 0:\n",
    "        self.move_count -= 1\n",
    "        self.turn, self.last_turn = self.last_turn, self.turn\n",
    "        if self.move_count == 0:\n",
    "            self.last_move = (-1, -1)\n",
    "        self.status = Marubatsu.PLAYING\n",
    "        x, y = self.records.pop()\n",
    "        self.remove_mark(x, y)\n",
    "        self.last_move = self.records[-1]  \n",
    "\n",
    "Marubatsu.unmove = unmove"
   ]
  },
  {
   "cell_type": "code",
   "execution_count": 25,
   "metadata": {},
   "outputs": [
    {
     "name": "stdout",
     "output_type": "stream",
     "text": [
      "Start\n",
      "test winner = playing\n",
      "oooooooooo\n",
      "test winner = o\n",
      "ooooooooo\n",
      "test winner = x\n",
      "oooooooo\n",
      "test winner = draw\n",
      "o\n",
      "Finished\n"
     ]
    }
   ],
   "source": [
    "test_judge()"
   ]
  },
  {
   "cell_type": "code",
   "execution_count": 26,
   "metadata": {},
   "outputs": [
    {
     "name": "stdout",
     "output_type": "stream",
     "text": [
      "ai2s VS ai2s\n"
     ]
    },
    {
     "name": "stderr",
     "output_type": "stream",
     "text": [
      "100%|██████████| 5000/5000 [00:20<00:00, 248.92it/s]"
     ]
    },
    {
     "name": "stdout",
     "output_type": "stream",
     "text": [
      "count     win    lose    draw\n",
      "o        2955    1404     641\n",
      "x        1411    2965     624\n",
      "total    4366    4369    1265\n",
      "\n",
      "ratio     win    lose    draw\n",
      "o       59.1%   28.1%   12.8%\n",
      "x       28.2%   59.3%   12.5%\n",
      "total   43.7%   43.7%   12.7%\n",
      "\n"
     ]
    },
    {
     "name": "stderr",
     "output_type": "stream",
     "text": [
      "\n"
     ]
    },
    {
     "data": {
      "text/plain": [
       "[('count',\n",
       "  [{'win': 2955, 'lose': 1404, 'draw': 641},\n",
       "   {'win': 1411, 'lose': 2965, 'draw': 624},\n",
       "   {'win': 4366, 'lose': 4369, 'draw': 1265}],\n",
       "  '7d'),\n",
       " ('ratio',\n",
       "  [{'win': 0.591, 'lose': 0.2808, 'draw': 0.1282},\n",
       "   {'win': 0.2822, 'lose': 0.593, 'draw': 0.1248},\n",
       "   {'win': 0.4366, 'lose': 0.4369, 'draw': 0.1265}],\n",
       "  '7.1%')]"
      ]
     },
     "execution_count": 26,
     "metadata": {},
     "output_type": "execute_result"
    }
   ],
   "source": [
    "ai_match(ai=[ai2s, ai2s], match_num=5000)"
   ]
  }
 ],
 "metadata": {
  "kernelspec": {
   "display_name": "marubatsu",
   "language": "python",
   "name": "python3"
  },
  "language_info": {
   "codemirror_mode": {
    "name": "ipython",
    "version": 3
   },
   "file_extension": ".py",
   "mimetype": "text/x-python",
   "name": "python",
   "nbconvert_exporter": "python",
   "pygments_lexer": "ipython3",
   "version": "3.10.13"
  }
 },
 "nbformat": 4,
 "nbformat_minor": 2
}
