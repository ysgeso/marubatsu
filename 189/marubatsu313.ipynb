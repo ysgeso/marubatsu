{
 "cells": [
  {
   "cell_type": "code",
   "execution_count": null,
   "metadata": {},
   "outputs": [
    {
     "ename": "AttributeError",
     "evalue": "module 'sys' has no attribute 'vertion'",
     "output_type": "error",
     "traceback": [
      "\u001b[1;31m---------------------------------------------------------------------------\u001b[0m",
      "\u001b[1;31mAttributeError\u001b[0m                            Traceback (most recent call last)",
      "Cell \u001b[1;32mIn[1], line 3\u001b[0m\n\u001b[0;32m      1\u001b[0m \u001b[38;5;66;03m#python のバージョンの表示\u001b[39;00m\n\u001b[0;32m      2\u001b[0m \u001b[38;5;28;01mimport\u001b[39;00m \u001b[38;5;21;01msys\u001b[39;00m\n\u001b[1;32m----> 3\u001b[0m \u001b[38;5;28mprint\u001b[39m(sys\u001b[38;5;241m.\u001b[39mvertion)\n",
      "\u001b[1;31mAttributeError\u001b[0m: module 'sys' has no attribute 'vertion'"
     ]
    }
   ],
   "source": [
    "#python のバージョンの表示\n",
    "import sys\n",
    "print(sys.verion)"
   ]
  },
  {
   "cell_type": "code",
   "execution_count": 1,
   "metadata": {},
   "outputs": [
    {
     "name": "stdout",
     "output_type": "stream",
     "text": [
      "ai2s VS ai2s\n"
     ]
    },
    {
     "name": "stderr",
     "output_type": "stream",
     "text": [
      "100%|██████████| 5000/5000 [00:15<00:00, 323.25it/s]"
     ]
    },
    {
     "name": "stdout",
     "output_type": "stream",
     "text": [
      "count     win    lose    draw\n",
      "o        2969    1426     605\n",
      "x        1477    2897     626\n",
      "total    4446    4323    1231\n",
      "\n",
      "ratio     win    lose    draw\n",
      "o       59.4%   28.5%   12.1%\n",
      "x       29.5%   57.9%   12.5%\n",
      "total   44.5%   43.2%   12.3%\n",
      "\n"
     ]
    },
    {
     "name": "stderr",
     "output_type": "stream",
     "text": [
      "\n"
     ]
    },
    {
     "data": {
      "text/plain": [
       "[('count',\n",
       "  [{'win': 2969, 'lose': 1426, 'draw': 605},\n",
       "   {'win': 1477, 'lose': 2897, 'draw': 626},\n",
       "   {'win': 4446, 'lose': 4323, 'draw': 1231}],\n",
       "  '7d'),\n",
       " ('ratio',\n",
       "  [{'win': 0.5938, 'lose': 0.2852, 'draw': 0.121},\n",
       "   {'win': 0.2954, 'lose': 0.5794, 'draw': 0.1252},\n",
       "   {'win': 0.4446, 'lose': 0.4323, 'draw': 0.1231}],\n",
       "  '7.1%')]"
      ]
     },
     "execution_count": 1,
     "metadata": {},
     "output_type": "execute_result"
    }
   ],
   "source": [
    "from ai import ai_match, ai2s\n",
    "\n",
    "ai_match(ai=[ai2s, ai2s], match_num=5000)"
   ]
  },
  {
   "cell_type": "code",
   "execution_count": 2,
   "metadata": {},
   "outputs": [],
   "source": [
    "from marubatsu import Marubatsu\n",
    "\n",
    "def judge(self):\n",
    "    if self.move_count < self.BOARD_SIZE * 2 - 1:\n",
    "        return Marubatsu.PLAYING\n",
    "    # 〇 の勝利の判定\n",
    "    if self.is_winner(Marubatsu.CIRCLE):\n",
    "        return Marubatsu.CIRCLE\n",
    "    # × の勝利の判定\n",
    "    elif self.is_winner(Marubatsu.CROSS):\n",
    "        return Marubatsu.CROSS   \n",
    "    # 引き分けの判定\n",
    "    elif self.is_full():\n",
    "        return Marubatsu.DRAW\n",
    "    # 上記のどれでもなければ決着がついていない\n",
    "    else:\n",
    "        return Marubatsu.PLAYING      \n",
    "    \n",
    "Marubatsu.judge = judge"
   ]
  },
  {
   "cell_type": "code",
   "execution_count": 3,
   "metadata": {},
   "outputs": [
    {
     "name": "stdout",
     "output_type": "stream",
     "text": [
      "Start\n",
      "test winner = playing\n",
      "oooooooooo\n",
      "test winner = o\n",
      "ooooooooo\n",
      "test winner = x\n",
      "oooooooo\n",
      "test winner = draw\n",
      "o\n",
      "Finished\n"
     ]
    }
   ],
   "source": [
    "from test import test_judge\n",
    "\n",
    "test_judge()"
   ]
  },
  {
   "cell_type": "code",
   "execution_count": 4,
   "metadata": {},
   "outputs": [
    {
     "name": "stdout",
     "output_type": "stream",
     "text": [
      "ai2s VS ai2s\n"
     ]
    },
    {
     "name": "stderr",
     "output_type": "stream",
     "text": [
      "100%|██████████| 5000/5000 [00:05<00:00, 876.84it/s] "
     ]
    },
    {
     "name": "stdout",
     "output_type": "stream",
     "text": [
      "count     win    lose    draw\n",
      "o        2942    1423     635\n",
      "x        1436    2907     657\n",
      "total    4378    4330    1292\n",
      "\n",
      "ratio     win    lose    draw\n",
      "o       58.8%   28.5%   12.7%\n",
      "x       28.7%   58.1%   13.1%\n",
      "total   43.8%   43.3%   12.9%\n",
      "\n"
     ]
    },
    {
     "name": "stderr",
     "output_type": "stream",
     "text": [
      "\n"
     ]
    },
    {
     "data": {
      "text/plain": [
       "[('count',\n",
       "  [{'win': 2942, 'lose': 1423, 'draw': 635},\n",
       "   {'win': 1436, 'lose': 2907, 'draw': 657},\n",
       "   {'win': 4378, 'lose': 4330, 'draw': 1292}],\n",
       "  '7d'),\n",
       " ('ratio',\n",
       "  [{'win': 0.5884, 'lose': 0.2846, 'draw': 0.127},\n",
       "   {'win': 0.2872, 'lose': 0.5814, 'draw': 0.1314},\n",
       "   {'win': 0.4378, 'lose': 0.433, 'draw': 0.1292}],\n",
       "  '7.1%')]"
      ]
     },
     "execution_count": 4,
     "metadata": {},
     "output_type": "execute_result"
    }
   ],
   "source": [
    "ai_match(ai=[ai2s, ai2s], match_num=5000)"
   ]
  },
  {
   "cell_type": "code",
   "execution_count": 5,
   "metadata": {},
   "outputs": [],
   "source": [
    "def judge(self):\n",
    "    if self.move_count < self.BOARD_SIZE * 2 - 1:\n",
    "        return Marubatsu.PLAYING\n",
    "    # 直前に着手を行ったプレイヤーの勝利の判定\n",
    "    if self.is_winner(self.last_turn):\n",
    "        return self.last_turn\n",
    "    # 引き分けの判定\n",
    "    elif self.is_full():\n",
    "        return Marubatsu.DRAW\n",
    "    # 上記のどれでもなければ決着がついていない\n",
    "    else:\n",
    "        return Marubatsu.PLAYING      \n",
    "    \n",
    "Marubatsu.judge = judge"
   ]
  },
  {
   "cell_type": "code",
   "execution_count": 6,
   "metadata": {},
   "outputs": [
    {
     "name": "stdout",
     "output_type": "stream",
     "text": [
      "Start\n",
      "test winner = playing\n",
      "oooooooooo\n",
      "test winner = o\n",
      "ooooooooo\n",
      "test winner = x\n",
      "oooooooo\n",
      "test winner = draw\n",
      "o\n",
      "Finished\n"
     ]
    }
   ],
   "source": [
    "test_judge()"
   ]
  },
  {
   "cell_type": "code",
   "execution_count": 7,
   "metadata": {},
   "outputs": [
    {
     "name": "stdout",
     "output_type": "stream",
     "text": [
      "ai2s VS ai2s\n"
     ]
    },
    {
     "name": "stderr",
     "output_type": "stream",
     "text": [
      "100%|██████████| 5000/5000 [00:04<00:00, 1242.03it/s]"
     ]
    },
    {
     "name": "stdout",
     "output_type": "stream",
     "text": [
      "count     win    lose    draw\n",
      "o        2976    1395     629\n",
      "x        1419    2961     620\n",
      "total    4395    4356    1249\n",
      "\n",
      "ratio     win    lose    draw\n",
      "o       59.5%   27.9%   12.6%\n",
      "x       28.4%   59.2%   12.4%\n",
      "total   44.0%   43.6%   12.5%\n",
      "\n"
     ]
    },
    {
     "name": "stderr",
     "output_type": "stream",
     "text": [
      "\n"
     ]
    },
    {
     "data": {
      "text/plain": [
       "[('count',\n",
       "  [{'win': 2976, 'lose': 1395, 'draw': 629},\n",
       "   {'win': 1419, 'lose': 2961, 'draw': 620},\n",
       "   {'win': 4395, 'lose': 4356, 'draw': 1249}],\n",
       "  '7d'),\n",
       " ('ratio',\n",
       "  [{'win': 0.5952, 'lose': 0.279, 'draw': 0.1258},\n",
       "   {'win': 0.2838, 'lose': 0.5922, 'draw': 0.124},\n",
       "   {'win': 0.4395, 'lose': 0.4356, 'draw': 0.1249}],\n",
       "  '7.1%')]"
      ]
     },
     "execution_count": 7,
     "metadata": {},
     "output_type": "execute_result"
    }
   ],
   "source": [
    "ai_match(ai=[ai2s, ai2s], match_num=5000)"
   ]
  },
  {
   "cell_type": "code",
   "execution_count": 8,
   "metadata": {},
   "outputs": [],
   "source": [
    "def move(self, x, y):\n",
    "    if self.place_mark(x, y, self.turn):\n",
    "        self.last_turn = self.turn\n",
    "        self.turn = Marubatsu.CROSS if self.turn == Marubatsu.CIRCLE else Marubatsu.CIRCLE  \n",
    "        self.move_count += 1\n",
    "        self.last_move = x, y\n",
    "        self.status = self.judge()\n",
    "        if len(self.records) <= self.move_count:            \n",
    "            self.records.append(self.last_move)\n",
    "        else:\n",
    "            self.records[self.move_count] = self.last_move\n",
    "            self.records = self.records[0:self.move_count + 1]\n",
    "            \n",
    "Marubatsu.move = move"
   ]
  },
  {
   "cell_type": "code",
   "execution_count": 9,
   "metadata": {},
   "outputs": [],
   "source": [
    "def is_winner(self, player):\n",
    "    x, y = self.last_move\n",
    "    if self.is_same(player, coord=[0, y], dx=1, dy=0) or \\\n",
    "       self.is_same(player, coord=[x, 0], dx=0, dy=1):\n",
    "            return True\n",
    "    # 左上から右下方向の判定\n",
    "    if x == y and self.is_same(player, coord=[0, 0], dx=1, dy=1):\n",
    "        return True\n",
    "    # 右上から左下方向の判定\n",
    "    if x + y == self.BOARD_SIZE - 1 and \\\n",
    "        self.is_same(player, coord=[self.BOARD_SIZE - 1, 0], dx=-1, dy=1):\n",
    "        return True\n",
    "\n",
    "    # どの一直線上にも配置されていない場合は、player は勝利していないので False を返す\n",
    "    return False\n",
    "\n",
    "Marubatsu.is_winner = is_winner"
   ]
  },
  {
   "cell_type": "code",
   "execution_count": 10,
   "metadata": {},
   "outputs": [
    {
     "name": "stdout",
     "output_type": "stream",
     "text": [
      "Start\n",
      "test winner = playing\n",
      "oooooooooo\n",
      "test winner = o\n",
      "ooooooooo\n",
      "test winner = x\n",
      "oooooooo\n",
      "test winner = draw\n",
      "o\n",
      "Finished\n"
     ]
    }
   ],
   "source": [
    "test_judge()"
   ]
  },
  {
   "cell_type": "code",
   "execution_count": 11,
   "metadata": {},
   "outputs": [
    {
     "name": "stdout",
     "output_type": "stream",
     "text": [
      "ai2s VS ai2s\n"
     ]
    },
    {
     "name": "stderr",
     "output_type": "stream",
     "text": [
      "100%|██████████| 5000/5000 [00:02<00:00, 1891.24it/s]"
     ]
    },
    {
     "name": "stdout",
     "output_type": "stream",
     "text": [
      "count     win    lose    draw\n",
      "o        2969    1468     563\n",
      "x        1468    2911     621\n",
      "total    4437    4379    1184\n",
      "\n",
      "ratio     win    lose    draw\n",
      "o       59.4%   29.4%   11.3%\n",
      "x       29.4%   58.2%   12.4%\n",
      "total   44.4%   43.8%   11.8%\n",
      "\n"
     ]
    },
    {
     "name": "stderr",
     "output_type": "stream",
     "text": [
      "\n"
     ]
    },
    {
     "data": {
      "text/plain": [
       "[('count',\n",
       "  [{'win': 2969, 'lose': 1468, 'draw': 563},\n",
       "   {'win': 1468, 'lose': 2911, 'draw': 621},\n",
       "   {'win': 4437, 'lose': 4379, 'draw': 1184}],\n",
       "  '7d'),\n",
       " ('ratio',\n",
       "  [{'win': 0.5938, 'lose': 0.2936, 'draw': 0.1126},\n",
       "   {'win': 0.2936, 'lose': 0.5822, 'draw': 0.1242},\n",
       "   {'win': 0.4437, 'lose': 0.4379, 'draw': 0.1184}],\n",
       "  '7.1%')]"
      ]
     },
     "execution_count": 11,
     "metadata": {},
     "output_type": "execute_result"
    }
   ],
   "source": [
    "ai_match(ai=[ai2s, ai2s], match_num=5000)"
   ]
  },
  {
   "cell_type": "code",
   "execution_count": 12,
   "metadata": {},
   "outputs": [],
   "source": [
    "def restart(self):\n",
    "    self.initialize_board()\n",
    "    self.turn = Marubatsu.CIRCLE     \n",
    "    self.move_count = 0\n",
    "    self.status = Marubatsu.PLAYING\n",
    "    self.last_move = -1, -1          \n",
    "    self.last_turn = None\n",
    "    self.records = [self.last_move]\n",
    "    self.rowcount = {\n",
    "        Marubatsu.CIRCLE: [0] * self.BOARD_SIZE,\n",
    "        Marubatsu.CROSS: [0] * self.BOARD_SIZE,\n",
    "    }\n",
    "    self.colcount = {\n",
    "        Marubatsu.CIRCLE: [0] * self.BOARD_SIZE,\n",
    "        Marubatsu.CROSS: [0] * self.BOARD_SIZE,\n",
    "    }\n",
    "    self.diacount = {\n",
    "        Marubatsu.CIRCLE: [0] * 2,\n",
    "        Marubatsu.CROSS: [0] * 2,\n",
    "    }\n",
    "    \n",
    "Marubatsu.restart = restart"
   ]
  },
  {
   "cell_type": "code",
   "execution_count": 13,
   "metadata": {},
   "outputs": [],
   "source": [
    "def move(self, x, y):\n",
    "    if self.place_mark(x, y, self.turn):\n",
    "        self.last_turn = self.turn\n",
    "        self.turn = Marubatsu.CROSS if self.turn == Marubatsu.CIRCLE else Marubatsu.CIRCLE  \n",
    "        self.move_count += 1\n",
    "        self.last_move = x, y\n",
    "        self.colcount[self.last_turn][x] += 1\n",
    "        self.rowcount[self.last_turn][y] += 1\n",
    "        if x == y:\n",
    "            self.diacount[self.last_turn][0] += 1        \n",
    "        if x + y == self.BOARD_SIZE - 1:\n",
    "            self.diacount[self.last_turn][1] += 1        \n",
    "        self.status = self.judge()\n",
    "        if len(self.records) <= self.move_count:            \n",
    "            self.records.append(self.last_move)\n",
    "        else:\n",
    "            self.records[self.move_count] = self.last_move\n",
    "            self.records = self.records[0:self.move_count + 1]\n",
    "            \n",
    "Marubatsu.move = move"
   ]
  },
  {
   "cell_type": "code",
   "execution_count": 14,
   "metadata": {},
   "outputs": [],
   "source": [
    "def unmove(self):\n",
    "    if self.move_count > 0:\n",
    "        x, y = self.last_move\n",
    "        self.colcount[self.last_turn][x] -= 1\n",
    "        self.rowcount[self.last_turn][y] -= 1\n",
    "        if x == y:\n",
    "            self.diacount[self.last_turn][0] -= 1        \n",
    "        if x + y == self.BOARD_SIZE - 1:\n",
    "            self.diacount[self.last_turn][1] -= 1           \n",
    "        if self.move_count == 0:\n",
    "            self.last_move = (-1, -1)\n",
    "        self.move_count -= 1\n",
    "        self.turn, self.last_turn = self.last_turn, self.turn\n",
    "        self.status = Marubatsu.PLAYING\n",
    "        x, y = self.records.pop()\n",
    "        self.remove_mark(x, y)\n",
    "        \n",
    "        self.last_move = self.records[-1]  \n",
    "        \n",
    "Marubatsu.unmove = unmove"
   ]
  },
  {
   "cell_type": "code",
   "execution_count": 15,
   "metadata": {},
   "outputs": [],
   "source": [
    "def is_winner(self, player):\n",
    "    x, y = self.last_move\n",
    "    if self.rowcount[player][y] == self.BOARD_SIZE or \\\n",
    "       self.colcount[player][x] == self.BOARD_SIZE:\n",
    "        return True\n",
    "    # 左上から右下方向の判定\n",
    "    if x == y and self.diacount[player][0] == self.BOARD_SIZE:\n",
    "        return True\n",
    "    # 右上から左下方向の判定\n",
    "    if x + y == self.BOARD_SIZE - 1 and \\\n",
    "        self.diacount[player][1] == self.BOARD_SIZE:\n",
    "        return True\n",
    "\n",
    "    # どの一直線上にも配置されていない場合は、player は勝利していないので False を返す\n",
    "    return False\n",
    "\n",
    "Marubatsu.is_winner = is_winner"
   ]
  },
  {
   "cell_type": "code",
   "execution_count": 16,
   "metadata": {},
   "outputs": [
    {
     "name": "stdout",
     "output_type": "stream",
     "text": [
      "Start\n",
      "test winner = playing\n",
      "oooooooooo\n",
      "test winner = o\n",
      "ooooooooo\n",
      "test winner = x\n",
      "oooooooo\n",
      "test winner = draw\n",
      "o\n",
      "Finished\n"
     ]
    }
   ],
   "source": [
    "test_judge()"
   ]
  },
  {
   "cell_type": "code",
   "execution_count": 17,
   "metadata": {},
   "outputs": [
    {
     "name": "stdout",
     "output_type": "stream",
     "text": [
      "ai2s VS ai2s\n"
     ]
    },
    {
     "name": "stderr",
     "output_type": "stream",
     "text": [
      "100%|██████████| 5000/5000 [00:02<00:00, 1992.20it/s]"
     ]
    },
    {
     "name": "stdout",
     "output_type": "stream",
     "text": [
      "count     win    lose    draw\n",
      "o        2944    1419     637\n",
      "x        1457    2917     626\n",
      "total    4401    4336    1263\n",
      "\n",
      "ratio     win    lose    draw\n",
      "o       58.9%   28.4%   12.7%\n",
      "x       29.1%   58.3%   12.5%\n",
      "total   44.0%   43.4%   12.6%\n",
      "\n"
     ]
    },
    {
     "name": "stderr",
     "output_type": "stream",
     "text": [
      "\n"
     ]
    },
    {
     "data": {
      "text/plain": [
       "[('count',\n",
       "  [{'win': 2944, 'lose': 1419, 'draw': 637},\n",
       "   {'win': 1457, 'lose': 2917, 'draw': 626},\n",
       "   {'win': 4401, 'lose': 4336, 'draw': 1263}],\n",
       "  '7d'),\n",
       " ('ratio',\n",
       "  [{'win': 0.5888, 'lose': 0.2838, 'draw': 0.1274},\n",
       "   {'win': 0.2914, 'lose': 0.5834, 'draw': 0.1252},\n",
       "   {'win': 0.4401, 'lose': 0.4336, 'draw': 0.1263}],\n",
       "  '7.1%')]"
      ]
     },
     "execution_count": 17,
     "metadata": {},
     "output_type": "execute_result"
    }
   ],
   "source": [
    "ai_match(ai=[ai2s, ai2s], match_num=5000)"
   ]
  },
  {
   "cell_type": "code",
   "execution_count": 18,
   "metadata": {},
   "outputs": [],
   "source": [
    "def judge(self):\n",
    "    if self.move_count == 0:\n",
    "        return Marubatsu.PLAYING\n",
    "    # 直前に着手を行ったプレイヤーの勝利の判定\n",
    "    if self.is_winner(self.last_turn):\n",
    "        return self.last_turn\n",
    "    # 引き分けの判定\n",
    "    elif self.is_full():\n",
    "        return Marubatsu.DRAW\n",
    "    # 上記のどれでもなければ決着がついていない\n",
    "    else:\n",
    "        return Marubatsu.PLAYING      \n",
    "    \n",
    "Marubatsu.judge = judge"
   ]
  },
  {
   "cell_type": "code",
   "execution_count": 19,
   "metadata": {},
   "outputs": [
    {
     "name": "stdout",
     "output_type": "stream",
     "text": [
      "Start\n",
      "test winner = playing\n",
      "oooooooooo\n",
      "test winner = o\n",
      "ooooooooo\n",
      "test winner = x\n",
      "oooooooo\n",
      "test winner = draw\n",
      "o\n",
      "Finished\n"
     ]
    }
   ],
   "source": [
    "test_judge()"
   ]
  },
  {
   "cell_type": "code",
   "execution_count": 20,
   "metadata": {},
   "outputs": [
    {
     "name": "stdout",
     "output_type": "stream",
     "text": [
      "ai2s VS ai2s\n"
     ]
    },
    {
     "name": "stderr",
     "output_type": "stream",
     "text": [
      "100%|██████████| 5000/5000 [00:03<00:00, 1661.86it/s]"
     ]
    },
    {
     "name": "stdout",
     "output_type": "stream",
     "text": [
      "count     win    lose    draw\n",
      "o        2916    1439     645\n",
      "x        1489    2903     608\n",
      "total    4405    4342    1253\n",
      "\n",
      "ratio     win    lose    draw\n",
      "o       58.3%   28.8%   12.9%\n",
      "x       29.8%   58.1%   12.2%\n",
      "total   44.0%   43.4%   12.5%\n",
      "\n"
     ]
    },
    {
     "name": "stderr",
     "output_type": "stream",
     "text": [
      "\n"
     ]
    },
    {
     "data": {
      "text/plain": [
       "[('count',\n",
       "  [{'win': 2916, 'lose': 1439, 'draw': 645},\n",
       "   {'win': 1489, 'lose': 2903, 'draw': 608},\n",
       "   {'win': 4405, 'lose': 4342, 'draw': 1253}],\n",
       "  '7d'),\n",
       " ('ratio',\n",
       "  [{'win': 0.5832, 'lose': 0.2878, 'draw': 0.129},\n",
       "   {'win': 0.2978, 'lose': 0.5806, 'draw': 0.1216},\n",
       "   {'win': 0.4405, 'lose': 0.4342, 'draw': 0.1253}],\n",
       "  '7.1%')]"
      ]
     },
     "execution_count": 20,
     "metadata": {},
     "output_type": "execute_result"
    }
   ],
   "source": [
    "ai_match(ai=[ai2s, ai2s], match_num=5000)"
   ]
  },
  {
   "cell_type": "code",
   "execution_count": 21,
   "metadata": {},
   "outputs": [],
   "source": [
    "def restart(self):\n",
    "    self.initialize_board()\n",
    "    self.turn = Marubatsu.CIRCLE     \n",
    "    self.move_count = 0\n",
    "    self.status = Marubatsu.PLAYING\n",
    "    self.last_move = -1, -1          \n",
    "    self.last_turn = None\n",
    "    self.records = [self.last_move]\n",
    "    \n",
    "Marubatsu.restart = restart"
   ]
  },
  {
   "cell_type": "code",
   "execution_count": 22,
   "metadata": {},
   "outputs": [],
   "source": [
    "def is_winner(self, player):\n",
    "    x, y = self.last_move\n",
    "    if self.is_same(player, coord=[0, y], dx=1, dy=0) or \\\n",
    "       self.is_same(player, coord=[x, 0], dx=0, dy=1):\n",
    "            return True\n",
    "    # 左上から右下方向の判定\n",
    "    if x == y and self.is_same(player, coord=[0, 0], dx=1, dy=1):\n",
    "        return True\n",
    "    # 右上から左下方向の判定\n",
    "    if x + y == self.BOARD_SIZE - 1 and \\\n",
    "        self.is_same(player, coord=[self.BOARD_SIZE - 1, 0], dx=-1, dy=1):\n",
    "        return True\n",
    "\n",
    "    # どの一直線上にも配置されていない場合は、player は勝利していないので False を返す\n",
    "    return False\n",
    "\n",
    "Marubatsu.is_winner = is_winner"
   ]
  },
  {
   "cell_type": "code",
   "execution_count": 23,
   "metadata": {},
   "outputs": [],
   "source": [
    "def move(self, x, y):\n",
    "    if self.place_mark(x, y, self.turn):\n",
    "        self.last_turn = self.turn\n",
    "        self.turn = Marubatsu.CROSS if self.turn == Marubatsu.CIRCLE else Marubatsu.CIRCLE  \n",
    "        self.move_count += 1\n",
    "        self.last_move = x, y\n",
    "        self.status = self.judge()\n",
    "        if len(self.records) <= self.move_count:            \n",
    "            self.records.append(self.last_move)\n",
    "        else:\n",
    "            self.records[self.move_count] = self.last_move\n",
    "            self.records = self.records[0:self.move_count + 1]\n",
    "            \n",
    "Marubatsu.move = move"
   ]
  },
  {
   "cell_type": "code",
   "execution_count": 24,
   "metadata": {},
   "outputs": [],
   "source": [
    "def unmove(self):\n",
    "    if self.move_count > 0:\n",
    "        self.move_count -= 1\n",
    "        self.turn, self.last_turn = self.last_turn, self.turn\n",
    "        if self.move_count == 0:\n",
    "            self.last_move = (-1, -1)\n",
    "        self.status = Marubatsu.PLAYING\n",
    "        x, y = self.records.pop()\n",
    "        self.remove_mark(x, y)\n",
    "        self.last_move = self.records[-1]  \n",
    "\n",
    "Marubatsu.unmove = unmove"
   ]
  },
  {
   "cell_type": "code",
   "execution_count": 25,
   "metadata": {},
   "outputs": [
    {
     "name": "stdout",
     "output_type": "stream",
     "text": [
      "Start\n",
      "test winner = playing\n",
      "oooooooooo\n",
      "test winner = o\n",
      "ooooooooo\n",
      "test winner = x\n",
      "oooooooo\n",
      "test winner = draw\n",
      "o\n",
      "Finished\n"
     ]
    }
   ],
   "source": [
    "test_judge()"
   ]
  },
  {
   "cell_type": "code",
   "execution_count": 26,
   "metadata": {},
   "outputs": [
    {
     "name": "stdout",
     "output_type": "stream",
     "text": [
      "ai2s VS ai2s\n"
     ]
    },
    {
     "name": "stderr",
     "output_type": "stream",
     "text": [
      "100%|██████████| 5000/5000 [00:04<00:00, 1165.33it/s]"
     ]
    },
    {
     "name": "stdout",
     "output_type": "stream",
     "text": [
      "count     win    lose    draw\n",
      "o        2964    1391     645\n",
      "x        1422    2938     640\n",
      "total    4386    4329    1285\n",
      "\n",
      "ratio     win    lose    draw\n",
      "o       59.3%   27.8%   12.9%\n",
      "x       28.4%   58.8%   12.8%\n",
      "total   43.9%   43.3%   12.8%\n",
      "\n"
     ]
    },
    {
     "name": "stderr",
     "output_type": "stream",
     "text": [
      "\n"
     ]
    },
    {
     "data": {
      "text/plain": [
       "[('count',\n",
       "  [{'win': 2964, 'lose': 1391, 'draw': 645},\n",
       "   {'win': 1422, 'lose': 2938, 'draw': 640},\n",
       "   {'win': 4386, 'lose': 4329, 'draw': 1285}],\n",
       "  '7d'),\n",
       " ('ratio',\n",
       "  [{'win': 0.5928, 'lose': 0.2782, 'draw': 0.129},\n",
       "   {'win': 0.2844, 'lose': 0.5876, 'draw': 0.128},\n",
       "   {'win': 0.4386, 'lose': 0.4329, 'draw': 0.1285}],\n",
       "  '7.1%')]"
      ]
     },
     "execution_count": 26,
     "metadata": {},
     "output_type": "execute_result"
    }
   ],
   "source": [
    "ai_match(ai=[ai2s, ai2s], match_num=5000)"
   ]
  }
 ],
 "metadata": {
  "kernelspec": {
   "display_name": "marubatsu312",
   "language": "python",
   "name": "python3"
  },
  "language_info": {
   "codemirror_mode": {
    "name": "ipython",
    "version": 3
   },
   "file_extension": ".py",
   "mimetype": "text/x-python",
   "name": "python",
   "nbconvert_exporter": "python",
   "pygments_lexer": "ipython3",
   "version": "3.11.4"
  }
 },
 "nbformat": 4,
 "nbformat_minor": 2
}
