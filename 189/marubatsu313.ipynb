{
 "cells": [
  {
   "cell_type": "code",
   "execution_count": 1,
   "metadata": {},
   "outputs": [
    {
     "name": "stdout",
     "output_type": "stream",
     "text": [
      "3.13.5 | packaged by Anaconda, Inc. | (main, Jun 12 2025, 16:37:03) [MSC v.1929 64 bit (AMD64)]\n"
     ]
    }
   ],
   "source": [
    "#python のバージョンの表示\n",
    "import sys\n",
    "print(sys.version)"
   ]
  },
  {
   "cell_type": "code",
   "execution_count": 2,
   "metadata": {},
   "outputs": [
    {
     "name": "stdout",
     "output_type": "stream",
     "text": [
      "ai2s VS ai2s\n"
     ]
    },
    {
     "name": "stderr",
     "output_type": "stream",
     "text": [
      "100%|██████████| 5000/5000 [00:07<00:00, 689.49it/s]"
     ]
    },
    {
     "name": "stdout",
     "output_type": "stream",
     "text": [
      "count     win    lose    draw\n",
      "o        2908    1463     629\n",
      "x        1439    2915     646\n",
      "total    4347    4378    1275\n",
      "\n",
      "ratio     win    lose    draw\n",
      "o       58.2%   29.3%   12.6%\n",
      "x       28.8%   58.3%   12.9%\n",
      "total   43.5%   43.8%   12.8%\n",
      "\n"
     ]
    },
    {
     "name": "stderr",
     "output_type": "stream",
     "text": [
      "\n"
     ]
    },
    {
     "data": {
      "text/plain": [
       "[('count',\n",
       "  [{'win': 2908, 'lose': 1463, 'draw': 629},\n",
       "   {'win': 1439, 'lose': 2915, 'draw': 646},\n",
       "   {'win': 4347, 'lose': 4378, 'draw': 1275}],\n",
       "  '7d'),\n",
       " ('ratio',\n",
       "  [{'win': 0.5816, 'lose': 0.2926, 'draw': 0.1258},\n",
       "   {'win': 0.2878, 'lose': 0.583, 'draw': 0.1292},\n",
       "   {'win': 0.4347, 'lose': 0.4378, 'draw': 0.1275}],\n",
       "  '7.1%')]"
      ]
     },
     "execution_count": 2,
     "metadata": {},
     "output_type": "execute_result"
    }
   ],
   "source": [
    "from ai import ai_match, ai2s\n",
    "\n",
    "ai_match(ai=[ai2s, ai2s], match_num=5000)"
   ]
  },
  {
   "cell_type": "code",
   "execution_count": 3,
   "metadata": {},
   "outputs": [],
   "source": [
    "from marubatsu import Marubatsu\n",
    "\n",
    "def judge(self):\n",
    "    if self.move_count < self.BOARD_SIZE * 2 - 1:\n",
    "        return Marubatsu.PLAYING\n",
    "    # 〇 の勝利の判定\n",
    "    if self.is_winner(Marubatsu.CIRCLE):\n",
    "        return Marubatsu.CIRCLE\n",
    "    # × の勝利の判定\n",
    "    elif self.is_winner(Marubatsu.CROSS):\n",
    "        return Marubatsu.CROSS   \n",
    "    # 引き分けの判定\n",
    "    elif self.is_full():\n",
    "        return Marubatsu.DRAW\n",
    "    # 上記のどれでもなければ決着がついていない\n",
    "    else:\n",
    "        return Marubatsu.PLAYING      \n",
    "    \n",
    "Marubatsu.judge = judge"
   ]
  },
  {
   "cell_type": "code",
   "execution_count": 4,
   "metadata": {},
   "outputs": [
    {
     "name": "stdout",
     "output_type": "stream",
     "text": [
      "Start\n",
      "test winner = playing\n",
      "oooooooooo\n",
      "test winner = o\n",
      "ooooooooo\n",
      "test winner = x\n",
      "oooooooo\n",
      "test winner = draw\n",
      "o\n",
      "Finished\n"
     ]
    }
   ],
   "source": [
    "from mbtest import test_judge\n",
    "\n",
    "test_judge()"
   ]
  },
  {
   "cell_type": "code",
   "execution_count": 5,
   "metadata": {},
   "outputs": [
    {
     "name": "stdout",
     "output_type": "stream",
     "text": [
      "ai2s VS ai2s\n"
     ]
    },
    {
     "name": "stderr",
     "output_type": "stream",
     "text": [
      "100%|██████████| 5000/5000 [00:03<00:00, 1593.37it/s]"
     ]
    },
    {
     "name": "stdout",
     "output_type": "stream",
     "text": [
      "count     win    lose    draw\n",
      "o        2884    1455     661\n",
      "x        1439    2920     641\n",
      "total    4323    4375    1302\n",
      "\n",
      "ratio     win    lose    draw\n",
      "o       57.7%   29.1%   13.2%\n",
      "x       28.8%   58.4%   12.8%\n",
      "total   43.2%   43.8%   13.0%\n",
      "\n"
     ]
    },
    {
     "name": "stderr",
     "output_type": "stream",
     "text": [
      "\n"
     ]
    },
    {
     "data": {
      "text/plain": [
       "[('count',\n",
       "  [{'win': 2884, 'lose': 1455, 'draw': 661},\n",
       "   {'win': 1439, 'lose': 2920, 'draw': 641},\n",
       "   {'win': 4323, 'lose': 4375, 'draw': 1302}],\n",
       "  '7d'),\n",
       " ('ratio',\n",
       "  [{'win': 0.5768, 'lose': 0.291, 'draw': 0.1322},\n",
       "   {'win': 0.2878, 'lose': 0.584, 'draw': 0.1282},\n",
       "   {'win': 0.4323, 'lose': 0.4375, 'draw': 0.1302}],\n",
       "  '7.1%')]"
      ]
     },
     "execution_count": 5,
     "metadata": {},
     "output_type": "execute_result"
    }
   ],
   "source": [
    "ai_match(ai=[ai2s, ai2s], match_num=5000)"
   ]
  },
  {
   "cell_type": "code",
   "execution_count": 6,
   "metadata": {},
   "outputs": [],
   "source": [
    "def judge(self):\n",
    "    if self.move_count < self.BOARD_SIZE * 2 - 1:\n",
    "        return Marubatsu.PLAYING\n",
    "    # 直前に着手を行ったプレイヤーの勝利の判定\n",
    "    if self.is_winner(self.last_turn):\n",
    "        return self.last_turn\n",
    "    # 引き分けの判定\n",
    "    elif self.is_full():\n",
    "        return Marubatsu.DRAW\n",
    "    # 上記のどれでもなければ決着がついていない\n",
    "    else:\n",
    "        return Marubatsu.PLAYING      \n",
    "    \n",
    "Marubatsu.judge = judge"
   ]
  },
  {
   "cell_type": "code",
   "execution_count": 7,
   "metadata": {},
   "outputs": [
    {
     "name": "stdout",
     "output_type": "stream",
     "text": [
      "Start\n",
      "test winner = playing\n",
      "oooooooooo\n",
      "test winner = o\n",
      "ooooooooo\n",
      "test winner = x\n",
      "oooooooo\n",
      "test winner = draw\n",
      "o\n",
      "Finished\n"
     ]
    }
   ],
   "source": [
    "test_judge()"
   ]
  },
  {
   "cell_type": "code",
   "execution_count": 8,
   "metadata": {},
   "outputs": [
    {
     "name": "stdout",
     "output_type": "stream",
     "text": [
      "ai2s VS ai2s\n"
     ]
    },
    {
     "name": "stderr",
     "output_type": "stream",
     "text": [
      "100%|██████████| 5000/5000 [00:02<00:00, 2094.84it/s]"
     ]
    },
    {
     "name": "stdout",
     "output_type": "stream",
     "text": [
      "count     win    lose    draw\n",
      "o        2963    1420     617\n",
      "x        1489    2876     635\n",
      "total    4452    4296    1252\n",
      "\n",
      "ratio     win    lose    draw\n",
      "o       59.3%   28.4%   12.3%\n",
      "x       29.8%   57.5%   12.7%\n",
      "total   44.5%   43.0%   12.5%\n",
      "\n"
     ]
    },
    {
     "name": "stderr",
     "output_type": "stream",
     "text": [
      "\n"
     ]
    },
    {
     "data": {
      "text/plain": [
       "[('count',\n",
       "  [{'win': 2963, 'lose': 1420, 'draw': 617},\n",
       "   {'win': 1489, 'lose': 2876, 'draw': 635},\n",
       "   {'win': 4452, 'lose': 4296, 'draw': 1252}],\n",
       "  '7d'),\n",
       " ('ratio',\n",
       "  [{'win': 0.5926, 'lose': 0.284, 'draw': 0.1234},\n",
       "   {'win': 0.2978, 'lose': 0.5752, 'draw': 0.127},\n",
       "   {'win': 0.4452, 'lose': 0.4296, 'draw': 0.1252}],\n",
       "  '7.1%')]"
      ]
     },
     "execution_count": 8,
     "metadata": {},
     "output_type": "execute_result"
    }
   ],
   "source": [
    "ai_match(ai=[ai2s, ai2s], match_num=5000)"
   ]
  },
  {
   "cell_type": "code",
   "execution_count": 9,
   "metadata": {},
   "outputs": [],
   "source": [
    "def move(self, x, y):\n",
    "    if self.place_mark(x, y, self.turn):\n",
    "        self.last_turn = self.turn\n",
    "        self.turn = Marubatsu.CROSS if self.turn == Marubatsu.CIRCLE else Marubatsu.CIRCLE  \n",
    "        self.move_count += 1\n",
    "        self.last_move = x, y\n",
    "        self.status = self.judge()\n",
    "        if len(self.records) <= self.move_count:            \n",
    "            self.records.append(self.last_move)\n",
    "        else:\n",
    "            self.records[self.move_count] = self.last_move\n",
    "            self.records = self.records[0:self.move_count + 1]\n",
    "            \n",
    "Marubatsu.move = move"
   ]
  },
  {
   "cell_type": "code",
   "execution_count": 10,
   "metadata": {},
   "outputs": [],
   "source": [
    "def is_winner(self, player):\n",
    "    x, y = self.last_move\n",
    "    if self.is_same(player, coord=[0, y], dx=1, dy=0) or \\\n",
    "       self.is_same(player, coord=[x, 0], dx=0, dy=1):\n",
    "            return True\n",
    "    # 左上から右下方向の判定\n",
    "    if x == y and self.is_same(player, coord=[0, 0], dx=1, dy=1):\n",
    "        return True\n",
    "    # 右上から左下方向の判定\n",
    "    if x + y == self.BOARD_SIZE - 1 and \\\n",
    "        self.is_same(player, coord=[self.BOARD_SIZE - 1, 0], dx=-1, dy=1):\n",
    "        return True\n",
    "\n",
    "    # どの一直線上にも配置されていない場合は、player は勝利していないので False を返す\n",
    "    return False\n",
    "\n",
    "Marubatsu.is_winner = is_winner"
   ]
  },
  {
   "cell_type": "code",
   "execution_count": 11,
   "metadata": {},
   "outputs": [
    {
     "name": "stdout",
     "output_type": "stream",
     "text": [
      "Start\n",
      "test winner = playing\n",
      "oooooooooo\n",
      "test winner = o\n",
      "ooooooooo\n",
      "test winner = x\n",
      "oooooooo\n",
      "test winner = draw\n",
      "o\n",
      "Finished\n"
     ]
    }
   ],
   "source": [
    "test_judge()"
   ]
  },
  {
   "cell_type": "code",
   "execution_count": 12,
   "metadata": {},
   "outputs": [
    {
     "name": "stdout",
     "output_type": "stream",
     "text": [
      "ai2s VS ai2s\n"
     ]
    },
    {
     "name": "stderr",
     "output_type": "stream",
     "text": [
      "100%|██████████| 5000/5000 [00:01<00:00, 2762.23it/s]"
     ]
    },
    {
     "name": "stdout",
     "output_type": "stream",
     "text": [
      "count     win    lose    draw\n",
      "o        2958    1421     621\n",
      "x        1469    2904     627\n",
      "total    4427    4325    1248\n",
      "\n",
      "ratio     win    lose    draw\n",
      "o       59.2%   28.4%   12.4%\n",
      "x       29.4%   58.1%   12.5%\n",
      "total   44.3%   43.2%   12.5%\n",
      "\n"
     ]
    },
    {
     "name": "stderr",
     "output_type": "stream",
     "text": [
      "\n"
     ]
    },
    {
     "data": {
      "text/plain": [
       "[('count',\n",
       "  [{'win': 2958, 'lose': 1421, 'draw': 621},\n",
       "   {'win': 1469, 'lose': 2904, 'draw': 627},\n",
       "   {'win': 4427, 'lose': 4325, 'draw': 1248}],\n",
       "  '7d'),\n",
       " ('ratio',\n",
       "  [{'win': 0.5916, 'lose': 0.2842, 'draw': 0.1242},\n",
       "   {'win': 0.2938, 'lose': 0.5808, 'draw': 0.1254},\n",
       "   {'win': 0.4427, 'lose': 0.4325, 'draw': 0.1248}],\n",
       "  '7.1%')]"
      ]
     },
     "execution_count": 12,
     "metadata": {},
     "output_type": "execute_result"
    }
   ],
   "source": [
    "ai_match(ai=[ai2s, ai2s], match_num=5000)"
   ]
  },
  {
   "cell_type": "code",
   "execution_count": 13,
   "metadata": {},
   "outputs": [],
   "source": [
    "def restart(self):\n",
    "    self.initialize_board()\n",
    "    self.turn = Marubatsu.CIRCLE     \n",
    "    self.move_count = 0\n",
    "    self.status = Marubatsu.PLAYING\n",
    "    self.last_move = -1, -1          \n",
    "    self.last_turn = None\n",
    "    self.records = [self.last_move]\n",
    "    self.rowcount = {\n",
    "        Marubatsu.CIRCLE: [0] * self.BOARD_SIZE,\n",
    "        Marubatsu.CROSS: [0] * self.BOARD_SIZE,\n",
    "    }\n",
    "    self.colcount = {\n",
    "        Marubatsu.CIRCLE: [0] * self.BOARD_SIZE,\n",
    "        Marubatsu.CROSS: [0] * self.BOARD_SIZE,\n",
    "    }\n",
    "    self.diacount = {\n",
    "        Marubatsu.CIRCLE: [0] * 2,\n",
    "        Marubatsu.CROSS: [0] * 2,\n",
    "    }\n",
    "    \n",
    "Marubatsu.restart = restart"
   ]
  },
  {
   "cell_type": "code",
   "execution_count": 14,
   "metadata": {},
   "outputs": [],
   "source": [
    "def move(self, x, y):\n",
    "    if self.place_mark(x, y, self.turn):\n",
    "        self.last_turn = self.turn\n",
    "        self.turn = Marubatsu.CROSS if self.turn == Marubatsu.CIRCLE else Marubatsu.CIRCLE  \n",
    "        self.move_count += 1\n",
    "        self.last_move = x, y\n",
    "        self.colcount[self.last_turn][x] += 1\n",
    "        self.rowcount[self.last_turn][y] += 1\n",
    "        if x == y:\n",
    "            self.diacount[self.last_turn][0] += 1        \n",
    "        if x + y == self.BOARD_SIZE - 1:\n",
    "            self.diacount[self.last_turn][1] += 1        \n",
    "        self.status = self.judge()\n",
    "        if len(self.records) <= self.move_count:            \n",
    "            self.records.append(self.last_move)\n",
    "        else:\n",
    "            self.records[self.move_count] = self.last_move\n",
    "            self.records = self.records[0:self.move_count + 1]\n",
    "            \n",
    "Marubatsu.move = move"
   ]
  },
  {
   "cell_type": "code",
   "execution_count": 15,
   "metadata": {},
   "outputs": [],
   "source": [
    "def unmove(self):\n",
    "    if self.move_count > 0:\n",
    "        x, y = self.last_move\n",
    "        self.colcount[self.last_turn][x] -= 1\n",
    "        self.rowcount[self.last_turn][y] -= 1\n",
    "        if x == y:\n",
    "            self.diacount[self.last_turn][0] -= 1        \n",
    "        if x + y == self.BOARD_SIZE - 1:\n",
    "            self.diacount[self.last_turn][1] -= 1           \n",
    "        if self.move_count == 0:\n",
    "            self.last_move = (-1, -1)\n",
    "        self.move_count -= 1\n",
    "        self.turn, self.last_turn = self.last_turn, self.turn\n",
    "        self.status = Marubatsu.PLAYING\n",
    "        x, y = self.records.pop()\n",
    "        self.remove_mark(x, y)\n",
    "        \n",
    "        self.last_move = self.records[-1]  \n",
    "        \n",
    "Marubatsu.unmove = unmove"
   ]
  },
  {
   "cell_type": "code",
   "execution_count": 16,
   "metadata": {},
   "outputs": [],
   "source": [
    "def is_winner(self, player):\n",
    "    x, y = self.last_move\n",
    "    if self.rowcount[player][y] == self.BOARD_SIZE or \\\n",
    "       self.colcount[player][x] == self.BOARD_SIZE:\n",
    "        return True\n",
    "    # 左上から右下方向の判定\n",
    "    if x == y and self.diacount[player][0] == self.BOARD_SIZE:\n",
    "        return True\n",
    "    # 右上から左下方向の判定\n",
    "    if x + y == self.BOARD_SIZE - 1 and \\\n",
    "        self.diacount[player][1] == self.BOARD_SIZE:\n",
    "        return True\n",
    "\n",
    "    # どの一直線上にも配置されていない場合は、player は勝利していないので False を返す\n",
    "    return False\n",
    "\n",
    "Marubatsu.is_winner = is_winner"
   ]
  },
  {
   "cell_type": "code",
   "execution_count": 17,
   "metadata": {},
   "outputs": [
    {
     "name": "stdout",
     "output_type": "stream",
     "text": [
      "Start\n",
      "test winner = playing\n",
      "oooooooooo\n",
      "test winner = o\n",
      "ooooooooo\n",
      "test winner = x\n",
      "oooooooo\n",
      "test winner = draw\n",
      "o\n",
      "Finished\n"
     ]
    }
   ],
   "source": [
    "test_judge()"
   ]
  },
  {
   "cell_type": "code",
   "execution_count": 18,
   "metadata": {},
   "outputs": [
    {
     "name": "stdout",
     "output_type": "stream",
     "text": [
      "ai2s VS ai2s\n"
     ]
    },
    {
     "name": "stderr",
     "output_type": "stream",
     "text": [
      "100%|██████████| 5000/5000 [00:01<00:00, 2523.63it/s]"
     ]
    },
    {
     "name": "stdout",
     "output_type": "stream",
     "text": [
      "count     win    lose    draw\n",
      "o        2912    1445     643\n",
      "x        1398    2970     632\n",
      "total    4310    4415    1275\n",
      "\n",
      "ratio     win    lose    draw\n",
      "o       58.2%   28.9%   12.9%\n",
      "x       28.0%   59.4%   12.6%\n",
      "total   43.1%   44.1%   12.8%\n",
      "\n"
     ]
    },
    {
     "name": "stderr",
     "output_type": "stream",
     "text": [
      "\n"
     ]
    },
    {
     "data": {
      "text/plain": [
       "[('count',\n",
       "  [{'win': 2912, 'lose': 1445, 'draw': 643},\n",
       "   {'win': 1398, 'lose': 2970, 'draw': 632},\n",
       "   {'win': 4310, 'lose': 4415, 'draw': 1275}],\n",
       "  '7d'),\n",
       " ('ratio',\n",
       "  [{'win': 0.5824, 'lose': 0.289, 'draw': 0.1286},\n",
       "   {'win': 0.2796, 'lose': 0.594, 'draw': 0.1264},\n",
       "   {'win': 0.431, 'lose': 0.4415, 'draw': 0.1275}],\n",
       "  '7.1%')]"
      ]
     },
     "execution_count": 18,
     "metadata": {},
     "output_type": "execute_result"
    }
   ],
   "source": [
    "ai_match(ai=[ai2s, ai2s], match_num=5000)"
   ]
  },
  {
   "cell_type": "code",
   "execution_count": 19,
   "metadata": {},
   "outputs": [],
   "source": [
    "def judge(self):\n",
    "    if self.move_count == 0:\n",
    "        return Marubatsu.PLAYING\n",
    "    # 直前に着手を行ったプレイヤーの勝利の判定\n",
    "    if self.is_winner(self.last_turn):\n",
    "        return self.last_turn\n",
    "    # 引き分けの判定\n",
    "    elif self.is_full():\n",
    "        return Marubatsu.DRAW\n",
    "    # 上記のどれでもなければ決着がついていない\n",
    "    else:\n",
    "        return Marubatsu.PLAYING      \n",
    "    \n",
    "Marubatsu.judge = judge"
   ]
  },
  {
   "cell_type": "code",
   "execution_count": 20,
   "metadata": {},
   "outputs": [
    {
     "name": "stdout",
     "output_type": "stream",
     "text": [
      "Start\n",
      "test winner = playing\n",
      "oooooooooo\n",
      "test winner = o\n",
      "ooooooooo\n",
      "test winner = x\n",
      "oooooooo\n",
      "test winner = draw\n",
      "o\n",
      "Finished\n"
     ]
    }
   ],
   "source": [
    "test_judge()"
   ]
  },
  {
   "cell_type": "code",
   "execution_count": 21,
   "metadata": {},
   "outputs": [
    {
     "name": "stdout",
     "output_type": "stream",
     "text": [
      "ai2s VS ai2s\n"
     ]
    },
    {
     "name": "stderr",
     "output_type": "stream",
     "text": [
      "100%|██████████| 5000/5000 [00:02<00:00, 2318.97it/s]"
     ]
    },
    {
     "name": "stdout",
     "output_type": "stream",
     "text": [
      "count     win    lose    draw\n",
      "o        2936    1416     648\n",
      "x        1444    2937     619\n",
      "total    4380    4353    1267\n",
      "\n",
      "ratio     win    lose    draw\n",
      "o       58.7%   28.3%   13.0%\n",
      "x       28.9%   58.7%   12.4%\n",
      "total   43.8%   43.5%   12.7%\n",
      "\n"
     ]
    },
    {
     "name": "stderr",
     "output_type": "stream",
     "text": [
      "\n"
     ]
    },
    {
     "data": {
      "text/plain": [
       "[('count',\n",
       "  [{'win': 2936, 'lose': 1416, 'draw': 648},\n",
       "   {'win': 1444, 'lose': 2937, 'draw': 619},\n",
       "   {'win': 4380, 'lose': 4353, 'draw': 1267}],\n",
       "  '7d'),\n",
       " ('ratio',\n",
       "  [{'win': 0.5872, 'lose': 0.2832, 'draw': 0.1296},\n",
       "   {'win': 0.2888, 'lose': 0.5874, 'draw': 0.1238},\n",
       "   {'win': 0.438, 'lose': 0.4353, 'draw': 0.1267}],\n",
       "  '7.1%')]"
      ]
     },
     "execution_count": 21,
     "metadata": {},
     "output_type": "execute_result"
    }
   ],
   "source": [
    "ai_match(ai=[ai2s, ai2s], match_num=5000)"
   ]
  },
  {
   "cell_type": "code",
   "execution_count": 22,
   "metadata": {},
   "outputs": [],
   "source": [
    "def restart(self):\n",
    "    self.initialize_board()\n",
    "    self.turn = Marubatsu.CIRCLE     \n",
    "    self.move_count = 0\n",
    "    self.status = Marubatsu.PLAYING\n",
    "    self.last_move = -1, -1          \n",
    "    self.last_turn = None\n",
    "    self.records = [self.last_move]\n",
    "    \n",
    "Marubatsu.restart = restart"
   ]
  },
  {
   "cell_type": "code",
   "execution_count": 23,
   "metadata": {},
   "outputs": [],
   "source": [
    "def is_winner(self, player):\n",
    "    x, y = self.last_move\n",
    "    if self.is_same(player, coord=[0, y], dx=1, dy=0) or \\\n",
    "       self.is_same(player, coord=[x, 0], dx=0, dy=1):\n",
    "            return True\n",
    "    # 左上から右下方向の判定\n",
    "    if x == y and self.is_same(player, coord=[0, 0], dx=1, dy=1):\n",
    "        return True\n",
    "    # 右上から左下方向の判定\n",
    "    if x + y == self.BOARD_SIZE - 1 and \\\n",
    "        self.is_same(player, coord=[self.BOARD_SIZE - 1, 0], dx=-1, dy=1):\n",
    "        return True\n",
    "\n",
    "    # どの一直線上にも配置されていない場合は、player は勝利していないので False を返す\n",
    "    return False\n",
    "\n",
    "Marubatsu.is_winner = is_winner"
   ]
  },
  {
   "cell_type": "code",
   "execution_count": 24,
   "metadata": {},
   "outputs": [],
   "source": [
    "def move(self, x, y):\n",
    "    if self.place_mark(x, y, self.turn):\n",
    "        self.last_turn = self.turn\n",
    "        self.turn = Marubatsu.CROSS if self.turn == Marubatsu.CIRCLE else Marubatsu.CIRCLE  \n",
    "        self.move_count += 1\n",
    "        self.last_move = x, y\n",
    "        self.status = self.judge()\n",
    "        if len(self.records) <= self.move_count:            \n",
    "            self.records.append(self.last_move)\n",
    "        else:\n",
    "            self.records[self.move_count] = self.last_move\n",
    "            self.records = self.records[0:self.move_count + 1]\n",
    "            \n",
    "Marubatsu.move = move"
   ]
  },
  {
   "cell_type": "code",
   "execution_count": 25,
   "metadata": {},
   "outputs": [],
   "source": [
    "def unmove(self):\n",
    "    if self.move_count > 0:\n",
    "        self.move_count -= 1\n",
    "        self.turn, self.last_turn = self.last_turn, self.turn\n",
    "        if self.move_count == 0:\n",
    "            self.last_move = (-1, -1)\n",
    "        self.status = Marubatsu.PLAYING\n",
    "        x, y = self.records.pop()\n",
    "        self.remove_mark(x, y)\n",
    "        self.last_move = self.records[-1]  \n",
    "\n",
    "Marubatsu.unmove = unmove"
   ]
  },
  {
   "cell_type": "code",
   "execution_count": 26,
   "metadata": {},
   "outputs": [
    {
     "name": "stdout",
     "output_type": "stream",
     "text": [
      "Start\n",
      "test winner = playing\n",
      "oooooooooo\n",
      "test winner = o\n",
      "ooooooooo\n",
      "test winner = x\n",
      "oooooooo\n",
      "test winner = draw\n",
      "o\n",
      "Finished\n"
     ]
    }
   ],
   "source": [
    "test_judge()"
   ]
  },
  {
   "cell_type": "code",
   "execution_count": 27,
   "metadata": {},
   "outputs": [
    {
     "name": "stdout",
     "output_type": "stream",
     "text": [
      "ai2s VS ai2s\n"
     ]
    },
    {
     "name": "stderr",
     "output_type": "stream",
     "text": [
      "100%|██████████| 5000/5000 [00:02<00:00, 2058.37it/s]"
     ]
    },
    {
     "name": "stdout",
     "output_type": "stream",
     "text": [
      "count     win    lose    draw\n",
      "o        2878    1495     627\n",
      "x        1451    2915     634\n",
      "total    4329    4410    1261\n",
      "\n",
      "ratio     win    lose    draw\n",
      "o       57.6%   29.9%   12.5%\n",
      "x       29.0%   58.3%   12.7%\n",
      "total   43.3%   44.1%   12.6%\n",
      "\n"
     ]
    },
    {
     "name": "stderr",
     "output_type": "stream",
     "text": [
      "\n"
     ]
    },
    {
     "data": {
      "text/plain": [
       "[('count',\n",
       "  [{'win': 2878, 'lose': 1495, 'draw': 627},\n",
       "   {'win': 1451, 'lose': 2915, 'draw': 634},\n",
       "   {'win': 4329, 'lose': 4410, 'draw': 1261}],\n",
       "  '7d'),\n",
       " ('ratio',\n",
       "  [{'win': 0.5756, 'lose': 0.299, 'draw': 0.1254},\n",
       "   {'win': 0.2902, 'lose': 0.583, 'draw': 0.1268},\n",
       "   {'win': 0.4329, 'lose': 0.441, 'draw': 0.1261}],\n",
       "  '7.1%')]"
      ]
     },
     "execution_count": 27,
     "metadata": {},
     "output_type": "execute_result"
    }
   ],
   "source": [
    "ai_match(ai=[ai2s, ai2s], match_num=5000)"
   ]
  }
 ],
 "metadata": {
  "kernelspec": {
   "display_name": "marubatsu313",
   "language": "python",
   "name": "python3"
  },
  "language_info": {
   "codemirror_mode": {
    "name": "ipython",
    "version": 3
   },
   "file_extension": ".py",
   "mimetype": "text/x-python",
   "name": "python",
   "nbconvert_exporter": "python",
   "pygments_lexer": "ipython3",
   "version": "3.13.5"
  }
 },
 "nbformat": 4,
 "nbformat_minor": 2
}
