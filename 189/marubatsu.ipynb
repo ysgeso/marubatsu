{
 "cells": [
  {
   "cell_type": "code",
   "execution_count": 1,
   "id": "7dd723a6",
   "metadata": {},
   "outputs": [],
   "source": [
    "from marubatsu import Marubatsu\n",
    "\n",
    "def __init__(self, board_size=3, count_linemark=False):\n",
    "    # ゲーム盤の縦横のサイズ\n",
    "    self.BOARD_SIZE = board_size\n",
    "    # 各直線上のマークの数を数えるかどうか\n",
    "    self.count_linemark = count_linemark\n",
    "    # 〇×ゲーム盤を再起動するメソッドを呼び出す\n",
    "    self.restart()\n",
    "    \n",
    "Marubatsu.__init__ = __init__"
   ]
  },
  {
   "cell_type": "code",
   "execution_count": 2,
   "id": "5b49517d",
   "metadata": {},
   "outputs": [],
   "source": [
    "def restart(self):\n",
    "    self.initialize_board()\n",
    "    self.turn = Marubatsu.CIRCLE     \n",
    "    self.move_count = 0\n",
    "    self.status = Marubatsu.PLAYING\n",
    "    self.last_move = -1, -1          \n",
    "    self.last_turn = None\n",
    "    self.records = [self.last_move]\n",
    "    if self.count_linemark:\n",
    "        self.rowcount = {\n",
    "            Marubatsu.CIRCLE: [0] * self.BOARD_SIZE,\n",
    "            Marubatsu.CROSS: [0] * self.BOARD_SIZE,\n",
    "        }\n",
    "        self.colcount = {\n",
    "            Marubatsu.CIRCLE: [0] * self.BOARD_SIZE,\n",
    "            Marubatsu.CROSS: [0] * self.BOARD_SIZE,\n",
    "        }\n",
    "        self.diacount = {\n",
    "            Marubatsu.CIRCLE: [0] * 2,\n",
    "            Marubatsu.CROSS: [0] * 2,\n",
    "        }\n",
    "    \n",
    "Marubatsu.restart = restart"
   ]
  },
  {
   "cell_type": "code",
   "execution_count": 3,
   "id": "dd67b6d5",
   "metadata": {},
   "outputs": [],
   "source": [
    "def move(self, x, y):\n",
    "    if self.place_mark(x, y, self.turn):\n",
    "        self.last_turn = self.turn\n",
    "        self.turn = Marubatsu.CROSS if self.turn == Marubatsu.CIRCLE else Marubatsu.CIRCLE  \n",
    "        self.move_count += 1\n",
    "        self.last_move = x, y\n",
    "        if self.count_linemark:\n",
    "            self.colcount[self.last_turn][x] += 1\n",
    "            self.rowcount[self.last_turn][y] += 1\n",
    "            if x == y:\n",
    "                self.diacount[self.last_turn][0] += 1        \n",
    "            if x + y == self.BOARD_SIZE - 1:\n",
    "                self.diacount[self.last_turn][1] += 1        \n",
    "        self.status = self.judge()\n",
    "        if len(self.records) <= self.move_count:            \n",
    "            self.records.append(self.last_move)\n",
    "        else:\n",
    "            self.records[self.move_count] = self.last_move\n",
    "            self.records = self.records[0:self.move_count + 1]\n",
    "            \n",
    "Marubatsu.move = move"
   ]
  },
  {
   "cell_type": "code",
   "execution_count": 4,
   "id": "d52b3a01",
   "metadata": {},
   "outputs": [],
   "source": [
    "def unmove(self):\n",
    "    if self.move_count > 0:\n",
    "        x, y = self.last_move\n",
    "        if self.count_linemark:\n",
    "            self.colcount[self.last_turn][x] -= 1\n",
    "            self.rowcount[self.last_turn][y] -= 1\n",
    "            if x == y:\n",
    "                self.diacount[self.last_turn][0] -= 1        \n",
    "            if x + y == self.BOARD_SIZE - 1:\n",
    "                self.diacount[self.last_turn][1] -= 1           \n",
    "        if self.move_count == 0:\n",
    "            self.last_move = (-1, -1)\n",
    "        self.move_count -= 1\n",
    "        self.turn, self.last_turn = self.last_turn, self.turn\n",
    "        self.status = Marubatsu.PLAYING\n",
    "        x, y = self.records.pop()\n",
    "        self.remove_mark(x, y)\n",
    "        \n",
    "        self.last_move = self.records[-1]  \n",
    "        \n",
    "Marubatsu.unmove = unmove"
   ]
  },
  {
   "cell_type": "code",
   "execution_count": 5,
   "id": "e344d557",
   "metadata": {},
   "outputs": [],
   "source": [
    "def is_winner(self, player):\n",
    "    x, y = self.last_move\n",
    "    if self.count_linemark:\n",
    "        if self.rowcount[player][y] == self.BOARD_SIZE or \\\n",
    "        self.colcount[player][x] == self.BOARD_SIZE:\n",
    "            return True\n",
    "        # 左上から右下方向の判定\n",
    "        if x == y and self.diacount[player][0] == self.BOARD_SIZE:\n",
    "            return True\n",
    "        # 右上から左下方向の判定\n",
    "        if x + y == self.BOARD_SIZE - 1 and \\\n",
    "            self.diacount[player][1] == self.BOARD_SIZE:\n",
    "            return True\n",
    "    else:\n",
    "        if self.is_same(player, coord=[0, y], dx=1, dy=0) or \\\n",
    "        self.is_same(player, coord=[x, 0], dx=0, dy=1):\n",
    "            return True\n",
    "        # 左上から右下方向の判定\n",
    "        if x == y and self.is_same(player, coord=[0, 0], dx=1, dy=1):\n",
    "            return True\n",
    "        # 右上から左下方向の判定\n",
    "        if x + y == self.BOARD_SIZE - 1 and \\\n",
    "            self.is_same(player, coord=[self.BOARD_SIZE - 1, 0], dx=-1, dy=1):\n",
    "            return True\n",
    "    \n",
    "    # どの一直線上にも配置されていない場合は、player は勝利していないので False を返す\n",
    "    return False\n",
    "\n",
    "Marubatsu.is_winner = is_winner"
   ]
  },
  {
   "cell_type": "code",
   "execution_count": 6,
   "id": "7ee56e0e",
   "metadata": {},
   "outputs": [],
   "source": [
    "def judge(self):\n",
    "    if self.move_count < self.BOARD_SIZE * 2 - 1:\n",
    "        return Marubatsu.PLAYING\n",
    "    # 直前に着手を行ったプレイヤーの勝利の判定\n",
    "    if self.is_winner(self.last_turn):\n",
    "        return self.last_turn\n",
    "    # 引き分けの判定\n",
    "    elif self.is_full():\n",
    "        return Marubatsu.DRAW\n",
    "    # 上記のどれでもなければ決着がついていない\n",
    "    else:\n",
    "        return Marubatsu.PLAYING      \n",
    "    \n",
    "Marubatsu.judge = judge"
   ]
  },
  {
   "cell_type": "code",
   "execution_count": 7,
   "id": "31d2f4aa",
   "metadata": {},
   "outputs": [],
   "source": [
    "from collections import defaultdict\n",
    "from tqdm import tqdm\n",
    "\n",
    "def ai_match(ai, params=[{}, {}], match_num=10000, mbparams={}):\n",
    "    mb = Marubatsu(**mbparams)\n",
    "\n",
    "    # ai[0] VS ai[1] と ai[1] VS a[0] の対戦を match_num 回行い、通算成績を数える\n",
    "    count_list = [ defaultdict(int), defaultdict(int)]\n",
    "    for _ in tqdm(range(match_num)):\n",
    "        count_list[0][mb.play(ai, params=params, verbose=False)] += 1\n",
    "        count_list[1][mb.play(ai=ai[::-1], params=params[::-1], verbose=False)] += 1\n",
    "\n",
    "    # ai[0] から見た通算成績を計算する\n",
    "    count_list_ai0 = [\n",
    "        # ai[0] VS ai[1] の場合の、ai[0] から見た通算成績\n",
    "        { \n",
    "            \"win\": count_list[0][Marubatsu.CIRCLE],\n",
    "            \"lose\": count_list[0][Marubatsu.CROSS],\n",
    "            \"draw\": count_list[0][Marubatsu.DRAW],\n",
    "        },\n",
    "        # ai[1] VS ai[0] の場合の、ai[0] から見た通算成績\n",
    "        { \n",
    "            \"win\": count_list[1][Marubatsu.CROSS],\n",
    "            \"lose\": count_list[1][Marubatsu.CIRCLE],\n",
    "            \"draw\": count_list[1][Marubatsu.DRAW],\n",
    "        },\n",
    "    ]           \n",
    "\n",
    "    # 両方の対戦の通算成績の合計を計算する\n",
    "    count_list_ai0.append({})\n",
    "    for key in count_list_ai0[0]:\n",
    "        count_list_ai0[2][key] = count_list_ai0[0][key] + count_list_ai0[1][key]\n",
    "\n",
    "    # それぞれの比率を計算し、ratio_list に代入する\n",
    "    ratio_list = [ {}, {}, {} ]\n",
    "    for i in range(3):\n",
    "        for key in count_list_ai0[i]:\n",
    "            ratio_list[i][key] = count_list_ai0[i][key] / sum(count_list_ai0[i].values())\n",
    "            \n",
    "    # 各行の先頭に表示する文字列のリスト\n",
    "    item_text_list = [ Marubatsu.CIRCLE, Marubatsu.CROSS, \"total\" ]    \n",
    "    \n",
    "    # 通算成績の回数と比率の表示\n",
    "    width = max(len(str(match_num * 2)), 7)\n",
    "    diff_list = [ (\"count\", count_list_ai0, f\"{width}d\"),\n",
    "                  (\"ratio\", ratio_list, f\"{width}.1%\") ]\n",
    "    for title, data, format in diff_list:\n",
    "        print(title, end=\"\")\n",
    "        for key in data[0]:\n",
    "            print(f\" {key:>{width}}\", end=\"\")\n",
    "        print()\n",
    "        for i in range(3):\n",
    "            print(f\"{item_text_list[i]:5}\", end=\"\")\n",
    "            for value in data[i].values():\n",
    "                print(f\" {value:{format}}\", end=\"\")\n",
    "            print()\n",
    "        print()\n",
    "        \n",
    "    return diff_list   "
   ]
  },
  {
   "cell_type": "code",
   "execution_count": 8,
   "id": "05a38262",
   "metadata": {},
   "outputs": [
    {
     "name": "stderr",
     "output_type": "stream",
     "text": [
      "100%|██████████| 5000/5000 [00:01<00:00, 2895.50it/s]"
     ]
    },
    {
     "name": "stdout",
     "output_type": "stream",
     "text": [
      "count     win    lose    draw\n",
      "o        2930    1425     645\n",
      "x        1450    2920     630\n",
      "total    4380    4345    1275\n",
      "\n",
      "ratio     win    lose    draw\n",
      "o       58.6%   28.5%   12.9%\n",
      "x       29.0%   58.4%   12.6%\n",
      "total   43.8%   43.5%   12.8%\n",
      "\n"
     ]
    },
    {
     "name": "stderr",
     "output_type": "stream",
     "text": [
      "\n"
     ]
    },
    {
     "data": {
      "text/plain": [
       "[('count',\n",
       "  [{'win': 2930, 'lose': 1425, 'draw': 645},\n",
       "   {'win': 1450, 'lose': 2920, 'draw': 630},\n",
       "   {'win': 4380, 'lose': 4345, 'draw': 1275}],\n",
       "  '7d'),\n",
       " ('ratio',\n",
       "  [{'win': 0.586, 'lose': 0.285, 'draw': 0.129},\n",
       "   {'win': 0.29, 'lose': 0.584, 'draw': 0.126},\n",
       "   {'win': 0.438, 'lose': 0.4345, 'draw': 0.1275}],\n",
       "  '7.1%')]"
      ]
     },
     "execution_count": 8,
     "metadata": {},
     "output_type": "execute_result"
    }
   ],
   "source": [
    "from ai import ai2s\n",
    "\n",
    "ai_match(ai=[ai2s, ai2s], match_num=5000)"
   ]
  },
  {
   "cell_type": "code",
   "execution_count": 9,
   "id": "96a39781",
   "metadata": {},
   "outputs": [
    {
     "name": "stderr",
     "output_type": "stream",
     "text": [
      "100%|██████████| 5000/5000 [00:01<00:00, 3036.09it/s]"
     ]
    },
    {
     "name": "stdout",
     "output_type": "stream",
     "text": [
      "count     win    lose    draw\n",
      "o        2916    1450     634\n",
      "x        1521    2846     633\n",
      "total    4437    4296    1267\n",
      "\n",
      "ratio     win    lose    draw\n",
      "o       58.3%   29.0%   12.7%\n",
      "x       30.4%   56.9%   12.7%\n",
      "total   44.4%   43.0%   12.7%\n",
      "\n"
     ]
    },
    {
     "name": "stderr",
     "output_type": "stream",
     "text": [
      "\n"
     ]
    },
    {
     "data": {
      "text/plain": [
       "[('count',\n",
       "  [{'win': 2916, 'lose': 1450, 'draw': 634},\n",
       "   {'win': 1521, 'lose': 2846, 'draw': 633},\n",
       "   {'win': 4437, 'lose': 4296, 'draw': 1267}],\n",
       "  '7d'),\n",
       " ('ratio',\n",
       "  [{'win': 0.5832, 'lose': 0.29, 'draw': 0.1268},\n",
       "   {'win': 0.3042, 'lose': 0.5692, 'draw': 0.1266},\n",
       "   {'win': 0.4437, 'lose': 0.4296, 'draw': 0.1267}],\n",
       "  '7.1%')]"
      ]
     },
     "execution_count": 9,
     "metadata": {},
     "output_type": "execute_result"
    }
   ],
   "source": [
    "ai_match(ai=[ai2s, ai2s], match_num=5000, mbparams={\"count_linemark\": True})"
   ]
  },
  {
   "cell_type": "code",
   "execution_count": 10,
   "id": "c1bcce38",
   "metadata": {},
   "outputs": [],
   "source": [
    "a = False"
   ]
  },
  {
   "cell_type": "code",
   "execution_count": 11,
   "id": "94902c5e",
   "metadata": {},
   "outputs": [
    {
     "name": "stdout",
     "output_type": "stream",
     "text": [
      "16.2 ns ± 0.347 ns per loop (mean ± std. dev. of 7 runs, 100,000,000 loops each)\n"
     ]
    }
   ],
   "source": [
    "%%timeit\n",
    "\n",
    "if a:\n",
    "    pass"
   ]
  },
  {
   "cell_type": "code",
   "execution_count": 12,
   "id": "404f3c18",
   "metadata": {},
   "outputs": [
    {
     "name": "stderr",
     "output_type": "stream",
     "text": [
      "100%|██████████| 5000/5000 [00:11<00:00, 441.49it/s]"
     ]
    },
    {
     "name": "stdout",
     "output_type": "stream",
     "text": [
      "count     win    lose    draw\n",
      "o           0       0    5000\n",
      "x           0       0    5000\n",
      "total       0       0   10000\n",
      "\n",
      "ratio     win    lose    draw\n",
      "o        0.0%    0.0%  100.0%\n",
      "x        0.0%    0.0%  100.0%\n",
      "total    0.0%    0.0%  100.0%\n",
      "\n"
     ]
    },
    {
     "name": "stderr",
     "output_type": "stream",
     "text": [
      "\n"
     ]
    },
    {
     "data": {
      "text/plain": [
       "[('count',\n",
       "  [{'win': 0, 'lose': 0, 'draw': 5000},\n",
       "   {'win': 0, 'lose': 0, 'draw': 5000},\n",
       "   {'win': 0, 'lose': 0, 'draw': 10000}],\n",
       "  '7d'),\n",
       " ('ratio',\n",
       "  [{'win': 0.0, 'lose': 0.0, 'draw': 1.0},\n",
       "   {'win': 0.0, 'lose': 0.0, 'draw': 1.0},\n",
       "   {'win': 0.0, 'lose': 0.0, 'draw': 1.0}],\n",
       "  '7.1%')]"
      ]
     },
     "execution_count": 12,
     "metadata": {},
     "output_type": "execute_result"
    }
   ],
   "source": [
    "from ai import ai14s\n",
    "\n",
    "ai_match(ai=[ai14s, ai14s], match_num=5000)"
   ]
  },
  {
   "cell_type": "code",
   "execution_count": 13,
   "id": "a1af48f6",
   "metadata": {},
   "outputs": [
    {
     "name": "stderr",
     "output_type": "stream",
     "text": [
      "100%|██████████| 5000/5000 [00:11<00:00, 450.12it/s]"
     ]
    },
    {
     "name": "stdout",
     "output_type": "stream",
     "text": [
      "count     win    lose    draw\n",
      "o           0       0    5000\n",
      "x           0       0    5000\n",
      "total       0       0   10000\n",
      "\n",
      "ratio     win    lose    draw\n",
      "o        0.0%    0.0%  100.0%\n",
      "x        0.0%    0.0%  100.0%\n",
      "total    0.0%    0.0%  100.0%\n",
      "\n"
     ]
    },
    {
     "name": "stderr",
     "output_type": "stream",
     "text": [
      "\n"
     ]
    },
    {
     "data": {
      "text/plain": [
       "[('count',\n",
       "  [{'win': 0, 'lose': 0, 'draw': 5000},\n",
       "   {'win': 0, 'lose': 0, 'draw': 5000},\n",
       "   {'win': 0, 'lose': 0, 'draw': 10000}],\n",
       "  '7d'),\n",
       " ('ratio',\n",
       "  [{'win': 0.0, 'lose': 0.0, 'draw': 1.0},\n",
       "   {'win': 0.0, 'lose': 0.0, 'draw': 1.0},\n",
       "   {'win': 0.0, 'lose': 0.0, 'draw': 1.0}],\n",
       "  '7.1%')]"
      ]
     },
     "execution_count": 13,
     "metadata": {},
     "output_type": "execute_result"
    }
   ],
   "source": [
    "ai_match(ai=[ai14s, ai14s], match_num=5000, mbparams={\"count_linemark\": True})"
   ]
  },
  {
   "cell_type": "code",
   "execution_count": 14,
   "id": "75e5d270",
   "metadata": {},
   "outputs": [
    {
     "name": "stdout",
     "output_type": "stream",
     "text": [
      "Turn x\n",
      "O..\n",
      "...\n",
      "...\n",
      "\n",
      "Markpat(last_turn=1, turn=0, empty=2)\n"
     ]
    }
   ],
   "source": [
    "from marubatsu import Markpat\n",
    "\n",
    "mb = Marubatsu(count_linemark=True)\n",
    "mb.move(0, 0)\n",
    "print(mb)\n",
    "circlenum = mb.rowcount[Marubatsu.CIRCLE][0]\n",
    "crossnum = mb.rowcount[Marubatsu.CROSS][0]\n",
    "emptynum = mb.BOARD_SIZE - circlenum - crossnum\n",
    "print(Markpat(circlenum, crossnum, emptynum))\n"
   ]
  },
  {
   "cell_type": "code",
   "execution_count": 15,
   "id": "8bf18f3d",
   "metadata": {},
   "outputs": [
    {
     "name": "stdout",
     "output_type": "stream",
     "text": [
      "Markpat(last_turn=0, turn=0, empty=3)\n",
      "Markpat(last_turn=0, turn=0, empty=3)\n"
     ]
    }
   ],
   "source": [
    "circlenum = mb.rowcount[Marubatsu.CIRCLE][1]\n",
    "crossnum = mb.rowcount[Marubatsu.CROSS][1]\n",
    "emptynum = mb.BOARD_SIZE - circlenum - crossnum\n",
    "print(Markpat(circlenum, crossnum, emptynum))\n",
    "circlenum = mb.rowcount[Marubatsu.CIRCLE][2]\n",
    "crossnum = mb.rowcount[Marubatsu.CROSS][2]\n",
    "emptynum = mb.BOARD_SIZE - circlenum - crossnum\n",
    "print(Markpat(circlenum, crossnum, emptynum))"
   ]
  },
  {
   "cell_type": "code",
   "execution_count": 16,
   "id": "8e3e0529",
   "metadata": {},
   "outputs": [
    {
     "name": "stdout",
     "output_type": "stream",
     "text": [
      "Markpat(last_turn=1, turn=0, empty=2)\n",
      "Markpat(last_turn=0, turn=0, empty=3)\n",
      "Markpat(last_turn=0, turn=0, empty=3)\n"
     ]
    }
   ],
   "source": [
    "for y in range(mb.BOARD_SIZE):\n",
    "    circlenum = mb.rowcount[Marubatsu.CIRCLE][y]\n",
    "    crossnum = mb.rowcount[Marubatsu.CROSS][y]\n",
    "    emptynum = mb.BOARD_SIZE - circlenum - crossnum\n",
    "    print(Markpat(circlenum, crossnum, emptynum))"
   ]
  },
  {
   "cell_type": "code",
   "execution_count": 17,
   "id": "cf9f85dc",
   "metadata": {},
   "outputs": [
    {
     "name": "stdout",
     "output_type": "stream",
     "text": [
      "5\n",
      "7\n",
      "9\n"
     ]
    }
   ],
   "source": [
    "lista = [1, 2, 3]\n",
    "listb = [4, 5, 6]\n",
    "for a, b in zip(lista, listb):\n",
    "    print(a + b)"
   ]
  },
  {
   "cell_type": "code",
   "execution_count": 18,
   "id": "c23ace4c",
   "metadata": {},
   "outputs": [
    {
     "name": "stdout",
     "output_type": "stream",
     "text": [
      "Markpat(last_turn=1, turn=0, empty=2)\n",
      "Markpat(last_turn=0, turn=0, empty=3)\n",
      "Markpat(last_turn=0, turn=0, empty=3)\n"
     ]
    }
   ],
   "source": [
    "for circlenum, crossnum in zip(mb.rowcount[Marubatsu.CIRCLE], mb.rowcount[Marubatsu.CROSS]):\n",
    "    emptynum = mb.BOARD_SIZE - circlenum - crossnum\n",
    "    print(Markpat(circlenum, crossnum, emptynum))"
   ]
  },
  {
   "cell_type": "code",
   "execution_count": 19,
   "id": "63e5d50b",
   "metadata": {},
   "outputs": [],
   "source": [
    "from collections import defaultdict\n",
    "\n",
    "def count_markpats(self):\n",
    "    markpats = defaultdict(int)\n",
    "    \n",
    "    if self.count_linemark:\n",
    "        for countdict in [self.rowcount, self.colcount, self.diacount]:\n",
    "            for circlecount, crosscount in zip(countdict[Marubatsu.CIRCLE], countdict[Marubatsu.CROSS]):\n",
    "                emptycount = self.BOARD_SIZE - circlecount - crosscount\n",
    "                if self.last_turn == Marubatsu.CIRCLE:\n",
    "                    markpats[(circlecount, crosscount, emptycount)] += 1\n",
    "                else:\n",
    "                    markpats[(crosscount, circlecount, emptycount)] += 1\n",
    "    else:\n",
    "        # 横方向と縦方向の判定\n",
    "        for i in range(self.BOARD_SIZE):\n",
    "            count = self.count_marks(coord=[0, i], dx=1, dy=0, datatype=\"tuple\")\n",
    "            markpats[count] += 1\n",
    "            count = self.count_marks(coord=[i, 0], dx=0, dy=1, datatype=\"tuple\")\n",
    "            markpats[count] += 1\n",
    "        # 左上から右下方向の判定\n",
    "        count = self.count_marks(coord=[0, 0], dx=1, dy=1, datatype=\"tuple\")\n",
    "        markpats[count] += 1\n",
    "        # 右上から左下方向の判定\n",
    "        count = self.count_marks(coord=[2, 0], dx=-1, dy=1, datatype=\"tuple\")\n",
    "        markpats[count] += 1\n",
    "\n",
    "    return markpats   \n",
    "\n",
    "Marubatsu.count_markpats = count_markpats"
   ]
  },
  {
   "cell_type": "code",
   "execution_count": 20,
   "id": "1f0fec5c",
   "metadata": {},
   "outputs": [
    {
     "name": "stderr",
     "output_type": "stream",
     "text": [
      "100%|██████████| 5000/5000 [00:10<00:00, 461.80it/s]"
     ]
    },
    {
     "name": "stdout",
     "output_type": "stream",
     "text": [
      "count     win    lose    draw\n",
      "o           0       0    5000\n",
      "x           0       0    5000\n",
      "total       0       0   10000\n",
      "\n",
      "ratio     win    lose    draw\n",
      "o        0.0%    0.0%  100.0%\n",
      "x        0.0%    0.0%  100.0%\n",
      "total    0.0%    0.0%  100.0%\n",
      "\n"
     ]
    },
    {
     "name": "stderr",
     "output_type": "stream",
     "text": [
      "\n"
     ]
    },
    {
     "data": {
      "text/plain": [
       "[('count',\n",
       "  [{'win': 0, 'lose': 0, 'draw': 5000},\n",
       "   {'win': 0, 'lose': 0, 'draw': 5000},\n",
       "   {'win': 0, 'lose': 0, 'draw': 10000}],\n",
       "  '7d'),\n",
       " ('ratio',\n",
       "  [{'win': 0.0, 'lose': 0.0, 'draw': 1.0},\n",
       "   {'win': 0.0, 'lose': 0.0, 'draw': 1.0},\n",
       "   {'win': 0.0, 'lose': 0.0, 'draw': 1.0}],\n",
       "  '7.1%')]"
      ]
     },
     "execution_count": 20,
     "metadata": {},
     "output_type": "execute_result"
    }
   ],
   "source": [
    "ai_match(ai=[ai14s, ai14s], match_num=5000)"
   ]
  },
  {
   "cell_type": "code",
   "execution_count": 21,
   "id": "7bd074ef",
   "metadata": {},
   "outputs": [
    {
     "name": "stderr",
     "output_type": "stream",
     "text": [
      "100%|██████████| 5000/5000 [00:05<00:00, 887.25it/s]"
     ]
    },
    {
     "name": "stdout",
     "output_type": "stream",
     "text": [
      "count     win    lose    draw\n",
      "o           0       0    5000\n",
      "x           0       0    5000\n",
      "total       0       0   10000\n",
      "\n",
      "ratio     win    lose    draw\n",
      "o        0.0%    0.0%  100.0%\n",
      "x        0.0%    0.0%  100.0%\n",
      "total    0.0%    0.0%  100.0%\n",
      "\n"
     ]
    },
    {
     "name": "stderr",
     "output_type": "stream",
     "text": [
      "\n"
     ]
    },
    {
     "data": {
      "text/plain": [
       "[('count',\n",
       "  [{'win': 0, 'lose': 0, 'draw': 5000},\n",
       "   {'win': 0, 'lose': 0, 'draw': 5000},\n",
       "   {'win': 0, 'lose': 0, 'draw': 10000}],\n",
       "  '7d'),\n",
       " ('ratio',\n",
       "  [{'win': 0.0, 'lose': 0.0, 'draw': 1.0},\n",
       "   {'win': 0.0, 'lose': 0.0, 'draw': 1.0},\n",
       "   {'win': 0.0, 'lose': 0.0, 'draw': 1.0}],\n",
       "  '7.1%')]"
      ]
     },
     "execution_count": 21,
     "metadata": {},
     "output_type": "execute_result"
    }
   ],
   "source": [
    "ai_match(ai=[ai14s, ai14s], match_num=5000, mbparams={\"count_linemark\": True})"
   ]
  }
 ],
 "metadata": {
  "kernelspec": {
   "display_name": "marubatsu313",
   "language": "python",
   "name": "python3"
  },
  "language_info": {
   "codemirror_mode": {
    "name": "ipython",
    "version": 3
   },
   "file_extension": ".py",
   "mimetype": "text/x-python",
   "name": "python",
   "nbconvert_exporter": "python",
   "pygments_lexer": "ipython3",
   "version": "3.13.5"
  }
 },
 "nbformat": 4,
 "nbformat_minor": 5
}
