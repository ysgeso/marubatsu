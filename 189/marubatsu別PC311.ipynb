{
 "cells": [
  {
   "cell_type": "code",
   "execution_count": 1,
   "metadata": {},
   "outputs": [
    {
     "name": "stdout",
     "output_type": "stream",
     "text": [
      "ai2s VS ai2s\n"
     ]
    },
    {
     "name": "stderr",
     "output_type": "stream",
     "text": [
      "100%|██████████| 5000/5000 [00:24<00:00, 203.96it/s]"
     ]
    },
    {
     "name": "stdout",
     "output_type": "stream",
     "text": [
      "count     win    lose    draw\n",
      "o        2916    1407     677\n",
      "x        1479    2903     618\n",
      "total    4395    4310    1295\n",
      "\n",
      "ratio     win    lose    draw\n",
      "o       58.3%   28.1%   13.5%\n",
      "x       29.6%   58.1%   12.4%\n",
      "total   44.0%   43.1%   13.0%\n",
      "\n"
     ]
    },
    {
     "name": "stderr",
     "output_type": "stream",
     "text": [
      "\n"
     ]
    },
    {
     "data": {
      "text/plain": [
       "[('count',\n",
       "  [{'win': 2916, 'lose': 1407, 'draw': 677},\n",
       "   {'win': 1479, 'lose': 2903, 'draw': 618},\n",
       "   {'win': 4395, 'lose': 4310, 'draw': 1295}],\n",
       "  '7d'),\n",
       " ('ratio',\n",
       "  [{'win': 0.5832, 'lose': 0.2814, 'draw': 0.1354},\n",
       "   {'win': 0.2958, 'lose': 0.5806, 'draw': 0.1236},\n",
       "   {'win': 0.4395, 'lose': 0.431, 'draw': 0.1295}],\n",
       "  '7.1%')]"
      ]
     },
     "execution_count": 1,
     "metadata": {},
     "output_type": "execute_result"
    }
   ],
   "source": [
    "from ai import ai_match, ai2s\n",
    "\n",
    "ai_match(ai=[ai2s, ai2s], match_num=5000)"
   ]
  },
  {
   "cell_type": "code",
   "execution_count": 2,
   "metadata": {},
   "outputs": [],
   "source": [
    "from marubatsu import Marubatsu\n",
    "\n",
    "def judge(self):\n",
    "    if self.move_count < self.BOARD_SIZE * 2 - 1:\n",
    "        return Marubatsu.PLAYING\n",
    "    # 〇 の勝利の判定\n",
    "    if self.is_winner(Marubatsu.CIRCLE):\n",
    "        return Marubatsu.CIRCLE\n",
    "    # × の勝利の判定\n",
    "    elif self.is_winner(Marubatsu.CROSS):\n",
    "        return Marubatsu.CROSS   \n",
    "    # 引き分けの判定\n",
    "    elif self.is_full():\n",
    "        return Marubatsu.DRAW\n",
    "    # 上記のどれでもなければ決着がついていない\n",
    "    else:\n",
    "        return Marubatsu.PLAYING      \n",
    "    \n",
    "Marubatsu.judge = judge"
   ]
  },
  {
   "cell_type": "code",
   "execution_count": 3,
   "metadata": {},
   "outputs": [
    {
     "name": "stdout",
     "output_type": "stream",
     "text": [
      "Start\n",
      "test winner = playing\n",
      "oooooooooo\n",
      "test winner = o\n",
      "ooooooooo\n",
      "test winner = x\n",
      "oooooooo\n",
      "test winner = draw\n",
      "o\n",
      "Finished\n"
     ]
    }
   ],
   "source": [
    "from test import test_judge\n",
    "\n",
    "test_judge()"
   ]
  },
  {
   "cell_type": "code",
   "execution_count": 4,
   "metadata": {},
   "outputs": [
    {
     "name": "stdout",
     "output_type": "stream",
     "text": [
      "ai2s VS ai2s\n"
     ]
    },
    {
     "name": "stderr",
     "output_type": "stream",
     "text": [
      "100%|██████████| 5000/5000 [00:16<00:00, 298.92it/s]"
     ]
    },
    {
     "name": "stdout",
     "output_type": "stream",
     "text": [
      "count     win    lose    draw\n",
      "o        2898    1471     631\n",
      "x        1391    2951     658\n",
      "total    4289    4422    1289\n",
      "\n",
      "ratio     win    lose    draw\n",
      "o       58.0%   29.4%   12.6%\n",
      "x       27.8%   59.0%   13.2%\n",
      "total   42.9%   44.2%   12.9%\n",
      "\n"
     ]
    },
    {
     "name": "stderr",
     "output_type": "stream",
     "text": [
      "\n"
     ]
    },
    {
     "data": {
      "text/plain": [
       "[('count',\n",
       "  [{'win': 2898, 'lose': 1471, 'draw': 631},\n",
       "   {'win': 1391, 'lose': 2951, 'draw': 658},\n",
       "   {'win': 4289, 'lose': 4422, 'draw': 1289}],\n",
       "  '7d'),\n",
       " ('ratio',\n",
       "  [{'win': 0.5796, 'lose': 0.2942, 'draw': 0.1262},\n",
       "   {'win': 0.2782, 'lose': 0.5902, 'draw': 0.1316},\n",
       "   {'win': 0.4289, 'lose': 0.4422, 'draw': 0.1289}],\n",
       "  '7.1%')]"
      ]
     },
     "execution_count": 4,
     "metadata": {},
     "output_type": "execute_result"
    }
   ],
   "source": [
    "ai_match(ai=[ai2s, ai2s], match_num=5000)"
   ]
  },
  {
   "cell_type": "code",
   "execution_count": 5,
   "metadata": {},
   "outputs": [],
   "source": [
    "def judge(self):\n",
    "    if self.move_count < self.BOARD_SIZE * 2 - 1:\n",
    "        return Marubatsu.PLAYING\n",
    "    # 直前に着手を行ったプレイヤーの勝利の判定\n",
    "    if self.is_winner(self.last_turn):\n",
    "        return self.last_turn\n",
    "    # 引き分けの判定\n",
    "    elif self.is_full():\n",
    "        return Marubatsu.DRAW\n",
    "    # 上記のどれでもなければ決着がついていない\n",
    "    else:\n",
    "        return Marubatsu.PLAYING      \n",
    "    \n",
    "Marubatsu.judge = judge"
   ]
  },
  {
   "cell_type": "code",
   "execution_count": 6,
   "metadata": {},
   "outputs": [
    {
     "name": "stdout",
     "output_type": "stream",
     "text": [
      "Start\n",
      "test winner = playing\n",
      "oooooooooo\n",
      "test winner = o\n",
      "ooooooooo\n",
      "test winner = x\n",
      "oooooooo\n",
      "test winner = draw\n",
      "o\n",
      "Finished\n"
     ]
    }
   ],
   "source": [
    "test_judge()"
   ]
  },
  {
   "cell_type": "code",
   "execution_count": 7,
   "metadata": {},
   "outputs": [
    {
     "name": "stdout",
     "output_type": "stream",
     "text": [
      "ai2s VS ai2s\n"
     ]
    },
    {
     "name": "stderr",
     "output_type": "stream",
     "text": [
      "100%|██████████| 5000/5000 [00:15<00:00, 322.94it/s]"
     ]
    },
    {
     "name": "stdout",
     "output_type": "stream",
     "text": [
      "count     win    lose    draw\n",
      "o        2880    1468     652\n",
      "x        1386    2989     625\n",
      "total    4266    4457    1277\n",
      "\n",
      "ratio     win    lose    draw\n",
      "o       57.6%   29.4%   13.0%\n",
      "x       27.7%   59.8%   12.5%\n",
      "total   42.7%   44.6%   12.8%\n",
      "\n"
     ]
    },
    {
     "name": "stderr",
     "output_type": "stream",
     "text": [
      "\n"
     ]
    },
    {
     "data": {
      "text/plain": [
       "[('count',\n",
       "  [{'win': 2880, 'lose': 1468, 'draw': 652},\n",
       "   {'win': 1386, 'lose': 2989, 'draw': 625},\n",
       "   {'win': 4266, 'lose': 4457, 'draw': 1277}],\n",
       "  '7d'),\n",
       " ('ratio',\n",
       "  [{'win': 0.576, 'lose': 0.2936, 'draw': 0.1304},\n",
       "   {'win': 0.2772, 'lose': 0.5978, 'draw': 0.125},\n",
       "   {'win': 0.4266, 'lose': 0.4457, 'draw': 0.1277}],\n",
       "  '7.1%')]"
      ]
     },
     "execution_count": 7,
     "metadata": {},
     "output_type": "execute_result"
    }
   ],
   "source": [
    "ai_match(ai=[ai2s, ai2s], match_num=5000)"
   ]
  },
  {
   "cell_type": "code",
   "execution_count": 8,
   "metadata": {},
   "outputs": [],
   "source": [
    "def move(self, x, y):\n",
    "    if self.place_mark(x, y, self.turn):\n",
    "        self.last_turn = self.turn\n",
    "        self.turn = Marubatsu.CROSS if self.turn == Marubatsu.CIRCLE else Marubatsu.CIRCLE  \n",
    "        self.move_count += 1\n",
    "        self.last_move = x, y\n",
    "        self.status = self.judge()\n",
    "        if len(self.records) <= self.move_count:            \n",
    "            self.records.append(self.last_move)\n",
    "        else:\n",
    "            self.records[self.move_count] = self.last_move\n",
    "            self.records = self.records[0:self.move_count + 1]\n",
    "            \n",
    "Marubatsu.move = move"
   ]
  },
  {
   "cell_type": "code",
   "execution_count": 9,
   "metadata": {},
   "outputs": [],
   "source": [
    "def is_winner(self, player):\n",
    "    x, y = self.last_move\n",
    "    if self.is_same(player, coord=[0, y], dx=1, dy=0) or \\\n",
    "       self.is_same(player, coord=[x, 0], dx=0, dy=1):\n",
    "            return True\n",
    "    # 左上から右下方向の判定\n",
    "    if x == y and self.is_same(player, coord=[0, 0], dx=1, dy=1):\n",
    "        return True\n",
    "    # 右上から左下方向の判定\n",
    "    if x + y == self.BOARD_SIZE - 1 and \\\n",
    "        self.is_same(player, coord=[self.BOARD_SIZE - 1, 0], dx=-1, dy=1):\n",
    "        return True\n",
    "\n",
    "    # どの一直線上にも配置されていない場合は、player は勝利していないので False を返す\n",
    "    return False\n",
    "\n",
    "Marubatsu.is_winner = is_winner"
   ]
  },
  {
   "cell_type": "code",
   "execution_count": 10,
   "metadata": {},
   "outputs": [
    {
     "name": "stdout",
     "output_type": "stream",
     "text": [
      "Start\n",
      "test winner = playing\n",
      "oooooooooo\n",
      "test winner = o\n",
      "ooooooooo\n",
      "test winner = x\n",
      "oooooooo\n",
      "test winner = draw\n",
      "o\n",
      "Finished\n"
     ]
    }
   ],
   "source": [
    "test_judge()"
   ]
  },
  {
   "cell_type": "code",
   "execution_count": 11,
   "metadata": {},
   "outputs": [
    {
     "name": "stdout",
     "output_type": "stream",
     "text": [
      "ai2s VS ai2s\n"
     ]
    },
    {
     "name": "stderr",
     "output_type": "stream",
     "text": [
      "100%|██████████| 5000/5000 [00:14<00:00, 350.03it/s]"
     ]
    },
    {
     "name": "stdout",
     "output_type": "stream",
     "text": [
      "count     win    lose    draw\n",
      "o        2885    1474     641\n",
      "x        1487    2877     636\n",
      "total    4372    4351    1277\n",
      "\n",
      "ratio     win    lose    draw\n",
      "o       57.7%   29.5%   12.8%\n",
      "x       29.7%   57.5%   12.7%\n",
      "total   43.7%   43.5%   12.8%\n",
      "\n"
     ]
    },
    {
     "name": "stderr",
     "output_type": "stream",
     "text": [
      "\n"
     ]
    },
    {
     "data": {
      "text/plain": [
       "[('count',\n",
       "  [{'win': 2885, 'lose': 1474, 'draw': 641},\n",
       "   {'win': 1487, 'lose': 2877, 'draw': 636},\n",
       "   {'win': 4372, 'lose': 4351, 'draw': 1277}],\n",
       "  '7d'),\n",
       " ('ratio',\n",
       "  [{'win': 0.577, 'lose': 0.2948, 'draw': 0.1282},\n",
       "   {'win': 0.2974, 'lose': 0.5754, 'draw': 0.1272},\n",
       "   {'win': 0.4372, 'lose': 0.4351, 'draw': 0.1277}],\n",
       "  '7.1%')]"
      ]
     },
     "execution_count": 11,
     "metadata": {},
     "output_type": "execute_result"
    }
   ],
   "source": [
    "ai_match(ai=[ai2s, ai2s], match_num=5000)"
   ]
  },
  {
   "cell_type": "code",
   "execution_count": 12,
   "metadata": {},
   "outputs": [],
   "source": [
    "def restart(self):\n",
    "    self.initialize_board()\n",
    "    self.turn = Marubatsu.CIRCLE     \n",
    "    self.move_count = 0\n",
    "    self.status = Marubatsu.PLAYING\n",
    "    self.last_move = -1, -1          \n",
    "    self.last_turn = None\n",
    "    self.records = [self.last_move]\n",
    "    self.rowcount = {\n",
    "        Marubatsu.CIRCLE: [0] * self.BOARD_SIZE,\n",
    "        Marubatsu.CROSS: [0] * self.BOARD_SIZE,\n",
    "    }\n",
    "    self.colcount = {\n",
    "        Marubatsu.CIRCLE: [0] * self.BOARD_SIZE,\n",
    "        Marubatsu.CROSS: [0] * self.BOARD_SIZE,\n",
    "    }\n",
    "    self.diacount = {\n",
    "        Marubatsu.CIRCLE: [0] * 2,\n",
    "        Marubatsu.CROSS: [0] * 2,\n",
    "    }\n",
    "    \n",
    "Marubatsu.restart = restart"
   ]
  },
  {
   "cell_type": "code",
   "execution_count": 13,
   "metadata": {},
   "outputs": [],
   "source": [
    "def move(self, x, y):\n",
    "    if self.place_mark(x, y, self.turn):\n",
    "        self.last_turn = self.turn\n",
    "        self.turn = Marubatsu.CROSS if self.turn == Marubatsu.CIRCLE else Marubatsu.CIRCLE  \n",
    "        self.move_count += 1\n",
    "        self.last_move = x, y\n",
    "        self.colcount[self.last_turn][x] += 1\n",
    "        self.rowcount[self.last_turn][y] += 1\n",
    "        if x == y:\n",
    "            self.diacount[self.last_turn][0] += 1        \n",
    "        if x + y == self.BOARD_SIZE - 1:\n",
    "            self.diacount[self.last_turn][1] += 1        \n",
    "        self.status = self.judge()\n",
    "        if len(self.records) <= self.move_count:            \n",
    "            self.records.append(self.last_move)\n",
    "        else:\n",
    "            self.records[self.move_count] = self.last_move\n",
    "            self.records = self.records[0:self.move_count + 1]\n",
    "            \n",
    "Marubatsu.move = move"
   ]
  },
  {
   "cell_type": "code",
   "execution_count": 14,
   "metadata": {},
   "outputs": [],
   "source": [
    "def unmove(self):\n",
    "    if self.move_count > 0:\n",
    "        x, y = self.last_move\n",
    "        self.colcount[self.last_turn][x] -= 1\n",
    "        self.rowcount[self.last_turn][y] -= 1\n",
    "        if x == y:\n",
    "            self.diacount[self.last_turn][0] -= 1        \n",
    "        if x + y == self.BOARD_SIZE - 1:\n",
    "            self.diacount[self.last_turn][1] -= 1           \n",
    "        if self.move_count == 0:\n",
    "            self.last_move = (-1, -1)\n",
    "        self.move_count -= 1\n",
    "        self.turn, self.last_turn = self.last_turn, self.turn\n",
    "        self.status = Marubatsu.PLAYING\n",
    "        x, y = self.records.pop()\n",
    "        self.remove_mark(x, y)\n",
    "        \n",
    "        self.last_move = self.records[-1]  \n",
    "        \n",
    "Marubatsu.unmove = unmove"
   ]
  },
  {
   "cell_type": "code",
   "execution_count": 15,
   "metadata": {},
   "outputs": [],
   "source": [
    "def is_winner(self, player):\n",
    "    x, y = self.last_move\n",
    "    if self.rowcount[player][y] == self.BOARD_SIZE or \\\n",
    "       self.colcount[player][x] == self.BOARD_SIZE:\n",
    "        return True\n",
    "    # 左上から右下方向の判定\n",
    "    if x == y and self.diacount[player][0] == self.BOARD_SIZE:\n",
    "        return True\n",
    "    # 右上から左下方向の判定\n",
    "    if x + y == self.BOARD_SIZE - 1 and \\\n",
    "        self.diacount[player][1] == self.BOARD_SIZE:\n",
    "        return True\n",
    "\n",
    "    # どの一直線上にも配置されていない場合は、player は勝利していないので False を返す\n",
    "    return False\n",
    "\n",
    "Marubatsu.is_winner = is_winner"
   ]
  },
  {
   "cell_type": "code",
   "execution_count": 16,
   "metadata": {},
   "outputs": [
    {
     "name": "stdout",
     "output_type": "stream",
     "text": [
      "Start\n",
      "test winner = playing\n",
      "oooooooooo\n",
      "test winner = o\n",
      "ooooooooo\n",
      "test winner = x\n",
      "oooooooo\n",
      "test winner = draw\n",
      "o\n",
      "Finished\n"
     ]
    }
   ],
   "source": [
    "test_judge()"
   ]
  },
  {
   "cell_type": "code",
   "execution_count": 17,
   "metadata": {},
   "outputs": [
    {
     "name": "stdout",
     "output_type": "stream",
     "text": [
      "ai2s VS ai2s\n"
     ]
    },
    {
     "name": "stderr",
     "output_type": "stream",
     "text": [
      "100%|██████████| 5000/5000 [00:20<00:00, 242.11it/s]"
     ]
    },
    {
     "name": "stdout",
     "output_type": "stream",
     "text": [
      "count     win    lose    draw\n",
      "o        2895    1476     629\n",
      "x        1394    2945     661\n",
      "total    4289    4421    1290\n",
      "\n",
      "ratio     win    lose    draw\n",
      "o       57.9%   29.5%   12.6%\n",
      "x       27.9%   58.9%   13.2%\n",
      "total   42.9%   44.2%   12.9%\n",
      "\n"
     ]
    },
    {
     "name": "stderr",
     "output_type": "stream",
     "text": [
      "\n"
     ]
    },
    {
     "data": {
      "text/plain": [
       "[('count',\n",
       "  [{'win': 2895, 'lose': 1476, 'draw': 629},\n",
       "   {'win': 1394, 'lose': 2945, 'draw': 661},\n",
       "   {'win': 4289, 'lose': 4421, 'draw': 1290}],\n",
       "  '7d'),\n",
       " ('ratio',\n",
       "  [{'win': 0.579, 'lose': 0.2952, 'draw': 0.1258},\n",
       "   {'win': 0.2788, 'lose': 0.589, 'draw': 0.1322},\n",
       "   {'win': 0.4289, 'lose': 0.4421, 'draw': 0.129}],\n",
       "  '7.1%')]"
      ]
     },
     "execution_count": 17,
     "metadata": {},
     "output_type": "execute_result"
    }
   ],
   "source": [
    "ai_match(ai=[ai2s, ai2s], match_num=5000)"
   ]
  },
  {
   "cell_type": "code",
   "execution_count": 18,
   "metadata": {},
   "outputs": [],
   "source": [
    "def judge(self):\n",
    "    if self.move_count == 0:\n",
    "        return Marubatsu.PLAYING\n",
    "    # 直前に着手を行ったプレイヤーの勝利の判定\n",
    "    if self.is_winner(self.last_turn):\n",
    "        return self.last_turn\n",
    "    # 引き分けの判定\n",
    "    elif self.is_full():\n",
    "        return Marubatsu.DRAW\n",
    "    # 上記のどれでもなければ決着がついていない\n",
    "    else:\n",
    "        return Marubatsu.PLAYING      \n",
    "    \n",
    "Marubatsu.judge = judge"
   ]
  },
  {
   "cell_type": "code",
   "execution_count": 19,
   "metadata": {},
   "outputs": [
    {
     "name": "stdout",
     "output_type": "stream",
     "text": [
      "Start\n",
      "test winner = playing\n",
      "oooooooooo\n",
      "test winner = o\n",
      "ooooooooo\n",
      "test winner = x\n",
      "oooooooo\n",
      "test winner = draw\n",
      "o\n",
      "Finished\n"
     ]
    }
   ],
   "source": [
    "test_judge()"
   ]
  },
  {
   "cell_type": "code",
   "execution_count": 20,
   "metadata": {},
   "outputs": [
    {
     "name": "stdout",
     "output_type": "stream",
     "text": [
      "ai2s VS ai2s\n"
     ]
    },
    {
     "name": "stderr",
     "output_type": "stream",
     "text": [
      "100%|██████████| 5000/5000 [00:20<00:00, 238.85it/s]"
     ]
    },
    {
     "name": "stdout",
     "output_type": "stream",
     "text": [
      "count     win    lose    draw\n",
      "o        2894    1485     621\n",
      "x        1493    2859     648\n",
      "total    4387    4344    1269\n",
      "\n",
      "ratio     win    lose    draw\n",
      "o       57.9%   29.7%   12.4%\n",
      "x       29.9%   57.2%   13.0%\n",
      "total   43.9%   43.4%   12.7%\n",
      "\n"
     ]
    },
    {
     "name": "stderr",
     "output_type": "stream",
     "text": [
      "\n"
     ]
    },
    {
     "data": {
      "text/plain": [
       "[('count',\n",
       "  [{'win': 2894, 'lose': 1485, 'draw': 621},\n",
       "   {'win': 1493, 'lose': 2859, 'draw': 648},\n",
       "   {'win': 4387, 'lose': 4344, 'draw': 1269}],\n",
       "  '7d'),\n",
       " ('ratio',\n",
       "  [{'win': 0.5788, 'lose': 0.297, 'draw': 0.1242},\n",
       "   {'win': 0.2986, 'lose': 0.5718, 'draw': 0.1296},\n",
       "   {'win': 0.4387, 'lose': 0.4344, 'draw': 0.1269}],\n",
       "  '7.1%')]"
      ]
     },
     "execution_count": 20,
     "metadata": {},
     "output_type": "execute_result"
    }
   ],
   "source": [
    "ai_match(ai=[ai2s, ai2s], match_num=5000)"
   ]
  },
  {
   "cell_type": "code",
   "execution_count": 21,
   "metadata": {},
   "outputs": [],
   "source": [
    "def restart(self):\n",
    "    self.initialize_board()\n",
    "    self.turn = Marubatsu.CIRCLE     \n",
    "    self.move_count = 0\n",
    "    self.status = Marubatsu.PLAYING\n",
    "    self.last_move = -1, -1          \n",
    "    self.last_turn = None\n",
    "    self.records = [self.last_move]\n",
    "    \n",
    "Marubatsu.restart = restart"
   ]
  },
  {
   "cell_type": "code",
   "execution_count": 22,
   "metadata": {},
   "outputs": [],
   "source": [
    "def is_winner(self, player):\n",
    "    x, y = self.last_move\n",
    "    if self.is_same(player, coord=[0, y], dx=1, dy=0) or \\\n",
    "       self.is_same(player, coord=[x, 0], dx=0, dy=1):\n",
    "            return True\n",
    "    # 左上から右下方向の判定\n",
    "    if x == y and self.is_same(player, coord=[0, 0], dx=1, dy=1):\n",
    "        return True\n",
    "    # 右上から左下方向の判定\n",
    "    if x + y == self.BOARD_SIZE - 1 and \\\n",
    "        self.is_same(player, coord=[self.BOARD_SIZE - 1, 0], dx=-1, dy=1):\n",
    "        return True\n",
    "\n",
    "    # どの一直線上にも配置されていない場合は、player は勝利していないので False を返す\n",
    "    return False\n",
    "\n",
    "Marubatsu.is_winner = is_winner"
   ]
  },
  {
   "cell_type": "code",
   "execution_count": 23,
   "metadata": {},
   "outputs": [],
   "source": [
    "def move(self, x, y):\n",
    "    if self.place_mark(x, y, self.turn):\n",
    "        self.last_turn = self.turn\n",
    "        self.turn = Marubatsu.CROSS if self.turn == Marubatsu.CIRCLE else Marubatsu.CIRCLE  \n",
    "        self.move_count += 1\n",
    "        self.last_move = x, y\n",
    "        self.status = self.judge()\n",
    "        if len(self.records) <= self.move_count:            \n",
    "            self.records.append(self.last_move)\n",
    "        else:\n",
    "            self.records[self.move_count] = self.last_move\n",
    "            self.records = self.records[0:self.move_count + 1]\n",
    "            \n",
    "Marubatsu.move = move"
   ]
  },
  {
   "cell_type": "code",
   "execution_count": 24,
   "metadata": {},
   "outputs": [],
   "source": [
    "def unmove(self):\n",
    "    if self.move_count > 0:\n",
    "        self.move_count -= 1\n",
    "        self.turn, self.last_turn = self.last_turn, self.turn\n",
    "        if self.move_count == 0:\n",
    "            self.last_move = (-1, -1)\n",
    "        self.status = Marubatsu.PLAYING\n",
    "        x, y = self.records.pop()\n",
    "        self.remove_mark(x, y)\n",
    "        self.last_move = self.records[-1]  \n",
    "\n",
    "Marubatsu.unmove = unmove"
   ]
  },
  {
   "cell_type": "code",
   "execution_count": 25,
   "metadata": {},
   "outputs": [
    {
     "name": "stdout",
     "output_type": "stream",
     "text": [
      "Start\n",
      "test winner = playing\n",
      "oooooooooo\n",
      "test winner = o\n",
      "ooooooooo\n",
      "test winner = x\n",
      "oooooooo\n",
      "test winner = draw\n",
      "o\n",
      "Finished\n"
     ]
    }
   ],
   "source": [
    "test_judge()"
   ]
  },
  {
   "cell_type": "code",
   "execution_count": 26,
   "metadata": {},
   "outputs": [
    {
     "name": "stdout",
     "output_type": "stream",
     "text": [
      "ai2s VS ai2s\n"
     ]
    },
    {
     "name": "stderr",
     "output_type": "stream",
     "text": [
      "100%|██████████| 5000/5000 [00:16<00:00, 311.04it/s]"
     ]
    },
    {
     "name": "stdout",
     "output_type": "stream",
     "text": [
      "count     win    lose    draw\n",
      "o        2931    1429     640\n",
      "x        1442    2946     612\n",
      "total    4373    4375    1252\n",
      "\n",
      "ratio     win    lose    draw\n",
      "o       58.6%   28.6%   12.8%\n",
      "x       28.8%   58.9%   12.2%\n",
      "total   43.7%   43.8%   12.5%\n",
      "\n"
     ]
    },
    {
     "name": "stderr",
     "output_type": "stream",
     "text": [
      "\n"
     ]
    },
    {
     "data": {
      "text/plain": [
       "[('count',\n",
       "  [{'win': 2931, 'lose': 1429, 'draw': 640},\n",
       "   {'win': 1442, 'lose': 2946, 'draw': 612},\n",
       "   {'win': 4373, 'lose': 4375, 'draw': 1252}],\n",
       "  '7d'),\n",
       " ('ratio',\n",
       "  [{'win': 0.5862, 'lose': 0.2858, 'draw': 0.128},\n",
       "   {'win': 0.2884, 'lose': 0.5892, 'draw': 0.1224},\n",
       "   {'win': 0.4373, 'lose': 0.4375, 'draw': 0.1252}],\n",
       "  '7.1%')]"
      ]
     },
     "execution_count": 26,
     "metadata": {},
     "output_type": "execute_result"
    }
   ],
   "source": [
    "ai_match(ai=[ai2s, ai2s], match_num=5000)"
   ]
  }
 ],
 "metadata": {
  "kernelspec": {
   "display_name": "test7",
   "language": "python",
   "name": "python3"
  },
  "language_info": {
   "codemirror_mode": {
    "name": "ipython",
    "version": 3
   },
   "file_extension": ".py",
   "mimetype": "text/x-python",
   "name": "python",
   "nbconvert_exporter": "python",
   "pygments_lexer": "ipython3",
   "version": "3.11.4"
  }
 },
 "nbformat": 4,
 "nbformat_minor": 2
}
