{
 "cells": [
  {
   "cell_type": "code",
   "execution_count": 1,
   "metadata": {},
   "outputs": [
    {
     "name": "stdout",
     "output_type": "stream",
     "text": [
      "×\n",
      "[['〇', '〇', ' '], ['×', '×', ' '], [' ', ' ', '×']]\n"
     ]
    }
   ],
   "source": [
    "board = [\n",
    "    [\"〇\", \"〇\", \" \"], \n",
    "    [\"×\", \"×\", \" \"], \n",
    "    [\" \", \" \", \"×\"]\n",
    "]\n",
    "print(board[1][0])\n",
    "print(board)"
   ]
  },
  {
   "cell_type": "code",
   "execution_count": 6,
   "metadata": {},
   "outputs": [
    {
     "name": "stdout",
     "output_type": "stream",
     "text": [
      "[[' ', ' ', ' '], [' ', ' ', ' '], [' ', ' ', ' ']]\n"
     ]
    }
   ],
   "source": [
    "board = [\n",
    "    [\" \", \" \", \" \"], \n",
    "    [\" \", \" \", \" \"], \n",
    "    [\" \", \" \", \" \"]\n",
    "]\n",
    "print(board)"
   ]
  },
  {
   "cell_type": "code",
   "execution_count": 8,
   "metadata": {},
   "outputs": [
    {
     "name": "stdout",
     "output_type": "stream",
     "text": [
      "0\n",
      "1\n",
      "2\n",
      "3\n",
      "4\n"
     ]
    }
   ],
   "source": [
    "for i in [0, 1, 2, 3, 4]:\n",
    "    print(i)"
   ]
  },
  {
   "cell_type": "code",
   "execution_count": 9,
   "metadata": {},
   "outputs": [
    {
     "name": "stdout",
     "output_type": "stream",
     "text": [
      "0\n",
      "1\n",
      "2\n",
      "3\n",
      "4\n"
     ]
    }
   ],
   "source": [
    "for i in range(5):\n",
    "    print(i)"
   ]
  },
  {
   "cell_type": "code",
   "execution_count": 12,
   "metadata": {},
   "outputs": [
    {
     "name": "stdout",
     "output_type": "stream",
     "text": [
      "2\n",
      "4\n",
      "6\n"
     ]
    }
   ],
   "source": [
    "for i in range(2, 8, 2):\n",
    "    print(i)"
   ]
  },
  {
   "cell_type": "code",
   "execution_count": 14,
   "metadata": {},
   "outputs": [
    {
     "name": "stdout",
     "output_type": "stream",
     "text": [
      "[[' ', ' ', ' '], [' ', ' ', ' '], [' ', ' ', ' ']]\n"
     ]
    }
   ],
   "source": [
    "# 0、1、2 列の順番で繰り返し処理を行う\n",
    "for x in range(3):\n",
    "    # x 列の、0、1、2 行の順番で繰り返し処理を行う\n",
    "    for y in range(3):\n",
    "        # (x, y) マスを表す要素に空白文字 \" \" を代入する\n",
    "        board[x][y] = \" \"\n",
    "print(board)"
   ]
  },
  {
   "cell_type": "code",
   "execution_count": 15,
   "metadata": {},
   "outputs": [
    {
     "ename": "NameError",
     "evalue": "name 'board2' is not defined",
     "output_type": "error",
     "traceback": [
      "\u001b[1;31m---------------------------------------------------------------------------\u001b[0m",
      "\u001b[1;31mNameError\u001b[0m                                 Traceback (most recent call last)",
      "Cell \u001b[1;32mIn[15], line 6\u001b[0m\n\u001b[0;32m      2\u001b[0m \u001b[39mfor\u001b[39;00m x \u001b[39min\u001b[39;00m \u001b[39mrange\u001b[39m(\u001b[39m3\u001b[39m):\n\u001b[0;32m      3\u001b[0m     \u001b[39m# x 列の、0、1、2 行の順番で繰り返し処理を行う\u001b[39;00m\n\u001b[0;32m      4\u001b[0m     \u001b[39mfor\u001b[39;00m y \u001b[39min\u001b[39;00m \u001b[39mrange\u001b[39m(\u001b[39m3\u001b[39m):\n\u001b[0;32m      5\u001b[0m         \u001b[39m# (x, y) マスを表す要素に空白文字 \" \" を代入する\u001b[39;00m\n\u001b[1;32m----> 6\u001b[0m         board2[x][y] \u001b[39m=\u001b[39m \u001b[39m\"\u001b[39m\u001b[39m \u001b[39m\u001b[39m\"\u001b[39m\n\u001b[0;32m      7\u001b[0m \u001b[39mprint\u001b[39m(board)\n",
      "\u001b[1;31mNameError\u001b[0m: name 'board2' is not defined"
     ]
    }
   ],
   "source": [
    "# 0、1、2 列の順番で繰り返し処理を行う\n",
    "for x in range(3):\n",
    "    # x 列の、0、1、2 行の順番で繰り返し処理を行う\n",
    "    for y in range(3):\n",
    "        # (x, y) マスを表す要素に空白文字 \" \" を代入する\n",
    "        board2[x][y] = \" \"\n",
    "print(board2)"
   ]
  },
  {
   "cell_type": "code",
   "execution_count": 19,
   "metadata": {},
   "outputs": [
    {
     "name": "stdout",
     "output_type": "stream",
     "text": [
      "[[' ', ' ', ' '], [' ', ' ', ' '], [' ', ' ', ' ']]\n"
     ]
    }
   ],
   "source": [
    "# board2 に中身が空の list を代入する\n",
    "board2 = []\n",
    "# 0、1、2 列の順番で繰り返し処理を行う\n",
    "for x in range(3):\n",
    "    # board2 に、x 列のデータを表す空の list を追加する\n",
    "    board2.append([])\n",
    "    # x 列の、0、1、2 行の順番で繰り返し処理を行う\n",
    "    for y in range(3):\n",
    "        # x 列のデータを表す list に、空白文字 \" \" を代入する\n",
    "        board2[x].append(\" \")\n",
    "print(board2)"
   ]
  },
  {
   "cell_type": "code",
   "execution_count": 18,
   "metadata": {},
   "outputs": [
    {
     "name": "stdout",
     "output_type": "stream",
     "text": [
      "x = 0 board2 = [[]]\n",
      "x = 0 y = 0 board2 = [[' ']]\n",
      "x = 0 y = 1 board2 = [[' ', ' ']]\n",
      "x = 0 y = 2 board2 = [[' ', ' ', ' ']]\n",
      "x = 1 board2 = [[' ', ' ', ' '], []]\n",
      "x = 1 y = 0 board2 = [[' ', ' ', ' '], [' ']]\n",
      "x = 1 y = 1 board2 = [[' ', ' ', ' '], [' ', ' ']]\n",
      "x = 1 y = 2 board2 = [[' ', ' ', ' '], [' ', ' ', ' ']]\n",
      "x = 2 board2 = [[' ', ' ', ' '], [' ', ' ', ' '], []]\n",
      "x = 2 y = 0 board2 = [[' ', ' ', ' '], [' ', ' ', ' '], [' ']]\n",
      "x = 2 y = 1 board2 = [[' ', ' ', ' '], [' ', ' ', ' '], [' ', ' ']]\n",
      "x = 2 y = 2 board2 = [[' ', ' ', ' '], [' ', ' ', ' '], [' ', ' ', ' ']]\n",
      "[[' ', ' ', ' '], [' ', ' ', ' '], [' ', ' ', ' ']]\n"
     ]
    }
   ],
   "source": [
    "# board2 に中身が空の list を代入する\n",
    "board2 = []\n",
    "# 0、1、2 列の順番で繰り返し処理を行う\n",
    "for x in range(3):\n",
    "    # board2 に、x 列のデータを表す空の list を追加する\n",
    "    board2.append([])\n",
    "    print(\"x =\", x, \"board2 =\", board2)\n",
    "    # x 列の、0、1、2 行の順番で繰り返し処理を行う\n",
    "    for y in range(3):\n",
    "        # x 列のデータを表す list に、空白文字 \" \" を代入する\n",
    "        board2[x].append(\" \")\n",
    "        print(\"x =\", x, \"y =\", y, \"board2 =\", board2)\n",
    "print(board2)"
   ]
  },
  {
   "cell_type": "code",
   "execution_count": 3,
   "metadata": {},
   "outputs": [
    {
     "name": "stdout",
     "output_type": "stream",
     "text": [
      "[0, 1, 4, 9, 16, 25, 36, 49, 64, 81]\n"
     ]
    }
   ],
   "source": [
    "a = [ i * i for i in range(10)]\n",
    "print(a)"
   ]
  },
  {
   "cell_type": "code",
   "execution_count": 4,
   "metadata": {},
   "outputs": [
    {
     "name": "stdout",
     "output_type": "stream",
     "text": [
      "[0, 1, 4, 9, 16, 25, 36, 49, 64, 81]\n"
     ]
    }
   ],
   "source": [
    "a = []\n",
    "for i in range(10):\n",
    "    a.append(i * i)\n",
    "print(a)"
   ]
  },
  {
   "cell_type": "code",
   "execution_count": 10,
   "metadata": {},
   "outputs": [
    {
     "name": "stdout",
     "output_type": "stream",
     "text": [
      "[[0, 3, 6], [1, 4, 7], [2, 5, 8]]\n"
     ]
    }
   ],
   "source": [
    "a = [ [ x + y * 3 for y in range(3) ] for x in range(3)]\n",
    "print(a)"
   ]
  },
  {
   "cell_type": "code",
   "execution_count": 18,
   "metadata": {},
   "outputs": [
    {
     "name": "stdout",
     "output_type": "stream",
     "text": [
      "[[0, 3, 6], [1, 4, 7], [2, 5, 8]]\n"
     ]
    }
   ],
   "source": [
    "a = []\n",
    "for x in range(3):\n",
    "    a.append([ x + y * 3 for y in range(3) ])\n",
    "print(b)"
   ]
  },
  {
   "cell_type": "code",
   "execution_count": 17,
   "metadata": {},
   "outputs": [
    {
     "name": "stdout",
     "output_type": "stream",
     "text": [
      "[[0, 3, 6], [1, 4, 7], [2, 5, 8]]\n"
     ]
    }
   ],
   "source": [
    "a = []\n",
    "for x in range(3):\n",
    "    b = []                      # ここから 3 行分のプログラムが、\n",
    "    for y in range(3):          # [ x + y * 3 for y in range(3) ] \n",
    "        list.append(x + y * 3)  # に対応している\n",
    "    list2d.append(b)\n",
    "print(a)"
   ]
  },
  {
   "cell_type": "code",
   "execution_count": 19,
   "metadata": {},
   "outputs": [
    {
     "name": "stdout",
     "output_type": "stream",
     "text": [
      "[[' ', ' ', ' '], [' ', ' ', ' '], [' ', ' ', ' ']]\n"
     ]
    }
   ],
   "source": [
    "board = [ [ \" \" for y in range(3)] for x in range(3) ]\n",
    "print(board)"
   ]
  },
  {
   "cell_type": "code",
   "execution_count": 25,
   "metadata": {},
   "outputs": [
    {
     "name": "stdout",
     "output_type": "stream",
     "text": [
      "[1, 1, 1, 1, 1]\n",
      "[1, 2, 3, 1, 2, 3]\n"
     ]
    }
   ],
   "source": [
    "print([1] * 5)\n",
    "print([1, 2, 3] * 2)"
   ]
  },
  {
   "cell_type": "code",
   "execution_count": 29,
   "metadata": {},
   "outputs": [
    {
     "name": "stdout",
     "output_type": "stream",
     "text": [
      "[[' ', ' ', ' '], [' ', ' ', ' '], [' ', ' ', ' ']]\n"
     ]
    }
   ],
   "source": [
    "board = [[\" \"] * 3] * 3\n",
    "print(board)"
   ]
  },
  {
   "cell_type": "code",
   "execution_count": 30,
   "metadata": {},
   "outputs": [
    {
     "name": "stdout",
     "output_type": "stream",
     "text": [
      "[['〇', ' ', ' '], ['〇', ' ', ' '], ['〇', ' ', ' ']]\n"
     ]
    }
   ],
   "source": [
    "board[1][0] = \"〇\"\n",
    "print(board)"
   ]
  },
  {
   "cell_type": "code",
   "execution_count": 39,
   "metadata": {},
   "outputs": [
    {
     "name": "stdout",
     "output_type": "stream",
     "text": [
      "[1, 2, 3, 1, 2, 3, 1, 2, 3]\n",
      "[2, 2, 3, 1, 2, 3, 1, 2, 3]\n"
     ]
    }
   ],
   "source": [
    "a = [1, 2, 3] * 3\n",
    "print(a)\n",
    "a[0] = 2\n",
    "print(a)"
   ]
  },
  {
   "cell_type": "code",
   "execution_count": 11,
   "metadata": {},
   "outputs": [
    {
     "name": "stdout",
     "output_type": "stream",
     "text": [
      "['False', 'None', 'True', 'and', 'as', 'assert', 'async', 'await', 'break', 'class', 'continue', 'def', 'del', 'elif', 'else', 'except', 'finally', 'for', 'from', 'global', 'if', 'import', 'in', 'is', 'lambda', 'nonlocal', 'not', 'or', 'pass', 'raise', 'return', 'try', 'while', 'with', 'yield']\n"
     ]
    }
   ],
   "source": [
    "import keyword\n",
    "print(keyword.kwlist)"
   ]
  },
  {
   "cell_type": "code",
   "execution_count": 5,
   "metadata": {},
   "outputs": [
    {
     "ename": "SyntaxError",
     "evalue": "invalid syntax (535306765.py, line 1)",
     "output_type": "error",
     "traceback": [
      "\u001b[1;36m  Cell \u001b[1;32mIn[5], line 1\u001b[1;36m\u001b[0m\n\u001b[1;33m    if = 1\u001b[0m\n\u001b[1;37m       ^\u001b[0m\n\u001b[1;31mSyntaxError\u001b[0m\u001b[1;31m:\u001b[0m invalid syntax\n"
     ]
    }
   ],
   "source": [
    "if = 1"
   ]
  },
  {
   "cell_type": "code",
   "execution_count": 2,
   "metadata": {},
   "outputs": [],
   "source": [
    "def draw_board(board):\n",
    "    print(board)"
   ]
  },
  {
   "cell_type": "code",
   "execution_count": 16,
   "metadata": {},
   "outputs": [
    {
     "name": "stdout",
     "output_type": "stream",
     "text": [
      "...\n",
      "...\n",
      "...\n"
     ]
    }
   ],
   "source": [
    "board = [ [\".\"] * 3 for _ in range(3)]\n",
    "draw_board(board)"
   ]
  },
  {
   "cell_type": "code",
   "execution_count": 3,
   "metadata": {},
   "outputs": [
    {
     "name": "stdout",
     "output_type": "stream",
     "text": [
      "1\n"
     ]
    }
   ],
   "source": [
    "あ = 1\n",
    "print(あ)"
   ]
  },
  {
   "cell_type": "code",
   "execution_count": 17,
   "metadata": {},
   "outputs": [],
   "source": [
    "def draw_board(board):\n",
    "    # 各行を表示するための繰り返し\n",
    "    for y in range(3):\n",
    "        # y 行目の内容を表示するための繰り返し\n",
    "        for x in range(3):\n",
    "            # (x, y) のマスの内容を表示する\n",
    "            # print の引数に end=\"\" を指定することで改行しないようにできる\n",
    "            print(board [x][y], end=\"\")\n",
    "        # y 行目の内容の表示が終わったので、改行する\n",
    "        print(\"\")"
   ]
  },
  {
   "cell_type": "code",
   "execution_count": 18,
   "metadata": {},
   "outputs": [
    {
     "name": "stdout",
     "output_type": "stream",
     "text": [
      "...\n",
      "...\n",
      "...\n"
     ]
    }
   ],
   "source": [
    "draw_board(board)"
   ]
  },
  {
   "cell_type": "code",
   "execution_count": 22,
   "metadata": {},
   "outputs": [
    {
     "name": "stdout",
     "output_type": "stream",
     "text": [
      " 012\n",
      "0.o.\n",
      "1...\n",
      "2x..\n"
     ]
    }
   ],
   "source": [
    "# (1, 0) に 〇 を配置する\n",
    "board[1][0] = \"o\"\n",
    "# (0, 2) に × を配置する \n",
    "board[0][2] = \"x\"\n",
    "draw_board(board)"
   ]
  },
  {
   "cell_type": "code",
   "execution_count": 23,
   "metadata": {},
   "outputs": [],
   "source": [
    "def draw_board(board):\n",
    "    # ゲーム盤の上に座標を表示する\n",
    "    print(\" 012\")\n",
    "    # 各行を表示するための繰り返し\n",
    "    for y in range(3):\n",
    "        # y 行目の内容を表示するための繰り返し\n",
    "        # 行の先頭に座標を表示する\n",
    "        print(y, end=\"\")\n",
    "        for x in range(3):\n",
    "            # (x, y) のマスの内容を表示する\n",
    "            # print の引数に end=\"\" を指定することで改行しないようにできる\n",
    "            print(board [x][y], end=\"\")\n",
    "        # y 行目の内容の表示が終わったので、改行する\n",
    "        print(\"\")"
   ]
  },
  {
   "cell_type": "code",
   "execution_count": 24,
   "metadata": {},
   "outputs": [
    {
     "name": "stdout",
     "output_type": "stream",
     "text": [
      " 012\n",
      "0.o.\n",
      "1...\n",
      "2x..\n"
     ]
    }
   ],
   "source": [
    "draw_board(board)"
   ]
  },
  {
   "cell_type": "code",
   "execution_count": 25,
   "metadata": {},
   "outputs": [
    {
     "name": "stdout",
     "output_type": "stream",
     "text": [
      ".o.\n",
      "...\n",
      "x..\n"
     ]
    }
   ],
   "source": [
    "def draw_board(board, show_coord=False):\n",
    "    # ゲーム盤の上に座標を表示する\n",
    "    if show_coord:\n",
    "        print(\" 012\")\n",
    "    # 各行を表示するための繰り返し\n",
    "    for y in range(3):\n",
    "        # y 行目の内容を表示するための繰り返し\n",
    "        # 行の先頭に座標を表示する\n",
    "        if show_coord:\n",
    "            print(y, end=\"\")\n",
    "        for x in range(3):\n",
    "            # (x, y) のマスの内容を表示する\n",
    "            # print の引数に end=\"\" を指定することで改行しないようにできる\n",
    "            print(board [x][y], end=\"\")\n",
    "        # y 行目の内容の表示が終わったので、改行する\n",
    "        print(\"\")\n",
    "        \n",
    "draw_board(board)"
   ]
  },
  {
   "cell_type": "code",
   "execution_count": 26,
   "metadata": {},
   "outputs": [
    {
     "name": "stdout",
     "output_type": "stream",
     "text": [
      " 012\n",
      "0.o.\n",
      "1...\n",
      "2x..\n"
     ]
    }
   ],
   "source": [
    "draw_board(board, show_coord=True)"
   ]
  },
  {
   "cell_type": "code",
   "execution_count": null,
   "metadata": {},
   "outputs": [],
   "source": []
  }
 ],
 "metadata": {
  "kernelspec": {
   "display_name": "marubatsu",
   "language": "python",
   "name": "python3"
  },
  "language_info": {
   "codemirror_mode": {
    "name": "ipython",
    "version": 3
   },
   "file_extension": ".py",
   "mimetype": "text/x-python",
   "name": "python",
   "nbconvert_exporter": "python",
   "pygments_lexer": "ipython3",
   "version": "3.11.4"
  },
  "orig_nbformat": 4
 },
 "nbformat": 4,
 "nbformat_minor": 2
}
