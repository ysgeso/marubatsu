{
 "cells": [
  {
   "cell_type": "code",
   "execution_count": 1,
   "metadata": {},
   "outputs": [
    {
     "name": "stdout",
     "output_type": "stream",
     "text": [
      "×\n",
      "[['〇', '〇', ' '], ['×', '×', ' '], [' ', ' ', '×']]\n"
     ]
    }
   ],
   "source": [
    "board = [\n",
    "    [\"〇\", \"〇\", \" \"], \n",
    "    [\"×\", \"×\", \" \"], \n",
    "    [\" \", \" \", \"×\"]\n",
    "]\n",
    "print(board[1][0])\n",
    "print(board)"
   ]
  },
  {
   "cell_type": "code",
   "execution_count": 2,
   "metadata": {},
   "outputs": [],
   "source": [
    "def draw_board(board):\n",
    "    print(board)"
   ]
  },
  {
   "cell_type": "code",
   "execution_count": 16,
   "metadata": {},
   "outputs": [
    {
     "name": "stdout",
     "output_type": "stream",
     "text": [
      "...\n",
      "...\n",
      "...\n"
     ]
    }
   ],
   "source": [
    "board = [ [\".\"] * 3 for _ in range(3)]\n",
    "draw_board(board)"
   ]
  },
  {
   "cell_type": "code",
   "execution_count": 17,
   "metadata": {},
   "outputs": [],
   "source": [
    "def draw_board(board):\n",
    "    # 各行を表示するための繰り返し\n",
    "    for y in range(3):\n",
    "        # y 行目の内容を表示するための繰り返し\n",
    "        for x in range(3):\n",
    "            # (x, y) のマスの内容を表示する\n",
    "            # print の引数に end=\"\" を指定することで改行しないようにできる\n",
    "            print(board [x][y], end=\"\")\n",
    "        # y 行目の内容の表示が終わったので、改行する\n",
    "        print(\"\")"
   ]
  },
  {
   "cell_type": "code",
   "execution_count": 18,
   "metadata": {},
   "outputs": [
    {
     "name": "stdout",
     "output_type": "stream",
     "text": [
      "...\n",
      "...\n",
      "...\n"
     ]
    }
   ],
   "source": [
    "draw_board(board)"
   ]
  },
  {
   "cell_type": "code",
   "execution_count": 22,
   "metadata": {},
   "outputs": [
    {
     "name": "stdout",
     "output_type": "stream",
     "text": [
      " 012\n",
      "0.o.\n",
      "1...\n",
      "2x..\n"
     ]
    }
   ],
   "source": [
    "# (1, 0) に 〇 を配置する\n",
    "board[1][0] = \"o\"\n",
    "# (0, 2) に × を配置する \n",
    "board[0][2] = \"x\"\n",
    "draw_board(board)"
   ]
  },
  {
   "cell_type": "code",
   "execution_count": 23,
   "metadata": {},
   "outputs": [],
   "source": [
    "def draw_board(board):\n",
    "    # ゲーム盤の上に座標を表示する\n",
    "    print(\" 012\")\n",
    "    # 各行を表示するための繰り返し\n",
    "    for y in range(3):\n",
    "        # y 行目の内容を表示するための繰り返し\n",
    "        # 行の先頭に座標を表示する\n",
    "        print(y, end=\"\")\n",
    "        for x in range(3):\n",
    "            # (x, y) のマスの内容を表示する\n",
    "            # print の引数に end=\"\" を指定することで改行しないようにできる\n",
    "            print(board [x][y], end=\"\")\n",
    "        # y 行目の内容の表示が終わったので、改行する\n",
    "        print(\"\")"
   ]
  },
  {
   "cell_type": "code",
   "execution_count": 24,
   "metadata": {},
   "outputs": [
    {
     "name": "stdout",
     "output_type": "stream",
     "text": [
      " 012\n",
      "0.o.\n",
      "1...\n",
      "2x..\n"
     ]
    }
   ],
   "source": [
    "draw_board(board)"
   ]
  },
  {
   "cell_type": "code",
   "execution_count": 25,
   "metadata": {},
   "outputs": [
    {
     "name": "stdout",
     "output_type": "stream",
     "text": [
      ".o.\n",
      "...\n",
      "x..\n"
     ]
    }
   ],
   "source": [
    "def draw_board(board, show_coord=False):\n",
    "    # ゲーム盤の上に座標を表示する\n",
    "    if show_coord:\n",
    "        print(\" 012\")\n",
    "    # 各行を表示するための繰り返し\n",
    "    for y in range(3):\n",
    "        # y 行目の内容を表示するための繰り返し\n",
    "        # 行の先頭に座標を表示する\n",
    "        if show_coord:\n",
    "            print(y, end=\"\")\n",
    "        for x in range(3):\n",
    "            # (x, y) のマスの内容を表示する\n",
    "            # print の引数に end=\"\" を指定することで改行しないようにできる\n",
    "            print(board [x][y], end=\"\")\n",
    "        # y 行目の内容の表示が終わったので、改行する\n",
    "        print(\"\")\n",
    "        \n",
    "draw_board(board)"
   ]
  },
  {
   "cell_type": "code",
   "execution_count": 26,
   "metadata": {},
   "outputs": [
    {
     "name": "stdout",
     "output_type": "stream",
     "text": [
      " 012\n",
      "0.o.\n",
      "1...\n",
      "2x..\n"
     ]
    }
   ],
   "source": [
    "draw_board(board, show_coord=True)"
   ]
  },
  {
   "cell_type": "code",
   "execution_count": null,
   "metadata": {},
   "outputs": [],
   "source": []
  }
 ],
 "metadata": {
  "kernelspec": {
   "display_name": "marubatsu",
   "language": "python",
   "name": "python3"
  },
  "language_info": {
   "codemirror_mode": {
    "name": "ipython",
    "version": 3
   },
   "file_extension": ".py",
   "mimetype": "text/x-python",
   "name": "python",
   "nbconvert_exporter": "python",
   "pygments_lexer": "ipython3",
   "version": "3.11.4"
  },
  "orig_nbformat": 4
 },
 "nbformat": 4,
 "nbformat_minor": 2
}
