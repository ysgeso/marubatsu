{
 "cells": [
  {
   "cell_type": "code",
   "execution_count": 1,
   "metadata": {},
   "outputs": [],
   "source": [
    "from tree import Mbtree\n",
    "from marubatsu import Marubatsu\n",
    "\n",
    "def calc_score_by_bf(self):\n",
    "    self.nodelist_by_score = self.nodelist[:]\n",
    "    for nodelist in reversed(self.nodelist_by_depth):\n",
    "        for node in nodelist:\n",
    "            if node.mb.status != Marubatsu.PLAYING:\n",
    "                self.calc_score_of_node(node)\n",
    "            else:\n",
    "                score_list = [childnode.score for childnode in node.children]\n",
    "                if node.mb.move_count % 2 == 0:\n",
    "                    score = max(score_list)\n",
    "                else:\n",
    "                    score = min(score_list)\n",
    "                node.score = score\n",
    "                node.max_score = max([childnode.max_score for childnode in node.children])\n",
    "                node.min_score = min([childnode.min_score for childnode in node.children])\n",
    "            if -1 < node.score < 1:\n",
    "                if node.mb.move_count % 2 == 1:\n",
    "                    if node.max_score > 0:\n",
    "                        node.score = 0.5\n",
    "                else:\n",
    "                    if node.min_score < 0:\n",
    "                        node.score = -0.5\n",
    "            self.nodelist_by_score.append(node)\n",
    "            node.score_index = len(self.nodelist_by_score) - 1 \n",
    "\n",
    "Mbtree.calc_score_by_bf = calc_score_by_bf"
   ]
  },
  {
   "cell_type": "code",
   "execution_count": 2,
   "metadata": {},
   "outputs": [
    {
     "name": "stdout",
     "output_type": "stream",
     "text": [
      "     9 depth 1 node created\n",
      "    72 depth 2 node created\n",
      "   504 depth 3 node created\n",
      "  3024 depth 4 node created\n",
      " 15120 depth 5 node created\n",
      " 54720 depth 6 node created\n",
      "148176 depth 7 node created\n",
      "200448 depth 8 node created\n",
      "127872 depth 9 node created\n",
      "     0 depth 10 node created\n",
      "total node num = 549946\n"
     ]
    },
    {
     "name": "stderr",
     "output_type": "stream",
     "text": [
      "100%|██████████| 549946/549946 [00:00<00:00, 881125.66it/s]\n"
     ]
    },
    {
     "data": {
      "application/vnd.jupyter.widget-view+json": {
       "model_id": "bc3ab5c949d3475b8162e3654af5cc3b",
       "version_major": 2,
       "version_minor": 0
      },
      "text/plain": [
       "VBox(children=(Output(layout=Layout(display='none')), HBox(children=(Label(value='', layout=Layout(width='50px…"
      ]
     },
     "metadata": {},
     "output_type": "display_data"
    },
    {
     "data": {
      "text/plain": [
       "<tree.Mbtree_GUI at 0x1ccbc7f6b90>"
      ]
     },
     "execution_count": 2,
     "metadata": {},
     "output_type": "execute_result"
    }
   ],
   "source": [
    "from tree import Mbtree_GUI\n",
    "\n",
    "mbtree = Mbtree(shortest_victory=True)\n",
    "data = mbtree.calc_and_save_bestmoves_and_score_by_board(\"test.dat\")\n",
    "Mbtree_GUI(scoretable_dict={\"test\": data})"
   ]
  },
  {
   "cell_type": "code",
   "execution_count": 3,
   "metadata": {},
   "outputs": [],
   "source": [
    "def calc_score_by_bf(self):\n",
    "    self.nodelist_by_score = self.nodelist[:]\n",
    "    for nodelist in reversed(self.nodelist_by_depth):\n",
    "        for node in nodelist:\n",
    "            if node.mb.status != Marubatsu.PLAYING:\n",
    "                self.calc_score_of_node(node)\n",
    "            else:\n",
    "                score_list = [childnode.score for childnode in node.children]\n",
    "                if node.mb.move_count % 2 == 0:\n",
    "                    score = max(score_list)\n",
    "                else:\n",
    "                    score = min(score_list)\n",
    "                node.score = score\n",
    "                node.max_score = max([childnode.max_score for childnode in node.children])\n",
    "                node.min_score = min([childnode.min_score for childnode in node.children])\n",
    "            if -1 < node.score < 1:\n",
    "                if node.mb.move_count % 2 == 1:\n",
    "                    if node.max_score > 0:\n",
    "                        node.score = 0.5\n",
    "                    else:\n",
    "                        node.score = 0\n",
    "                else:\n",
    "                    if node.min_score < 0:\n",
    "                        node.score = -0.5\n",
    "                    else:\n",
    "                        node.score = 0\n",
    "            self.nodelist_by_score.append(node)\n",
    "            node.score_index = len(self.nodelist_by_score) - 1 \n",
    "\n",
    "Mbtree.calc_score_by_bf = calc_score_by_bf"
   ]
  },
  {
   "cell_type": "code",
   "execution_count": 4,
   "metadata": {},
   "outputs": [
    {
     "name": "stdout",
     "output_type": "stream",
     "text": [
      "     9 depth 1 node created\n",
      "    72 depth 2 node created\n",
      "   504 depth 3 node created\n",
      "  3024 depth 4 node created\n",
      " 15120 depth 5 node created\n",
      " 54720 depth 6 node created\n",
      "148176 depth 7 node created\n",
      "200448 depth 8 node created\n",
      "127872 depth 9 node created\n",
      "     0 depth 10 node created\n",
      "total node num = 549946\n"
     ]
    },
    {
     "name": "stderr",
     "output_type": "stream",
     "text": [
      "100%|██████████| 549946/549946 [00:00<00:00, 739348.92it/s]\n"
     ]
    },
    {
     "data": {
      "application/vnd.jupyter.widget-view+json": {
       "model_id": "130c6495d11e4a8a994e579e2cd3de5b",
       "version_major": 2,
       "version_minor": 0
      },
      "text/plain": [
       "VBox(children=(Output(layout=Layout(display='none')), HBox(children=(Label(value='', layout=Layout(width='50px…"
      ]
     },
     "metadata": {},
     "output_type": "display_data"
    },
    {
     "data": {
      "text/plain": [
       "<tree.Mbtree_GUI at 0x1ccbda78790>"
      ]
     },
     "execution_count": 4,
     "metadata": {},
     "output_type": "execute_result"
    }
   ],
   "source": [
    "mbtree = Mbtree(shortest_victory=True)\n",
    "data = mbtree.calc_and_save_bestmoves_and_score_by_board(\"test.dat\")\n",
    "Mbtree_GUI(scoretable_dict={\"test\": data})"
   ]
  },
  {
   "cell_type": "code",
   "execution_count": 5,
   "metadata": {},
   "outputs": [],
   "source": [
    "def calc_score_by_bf(self):\n",
    "    self.nodelist_by_score = self.nodelist[:]\n",
    "    for nodelist in reversed(self.nodelist_by_depth):\n",
    "        for node in nodelist:\n",
    "            if node.mb.status != Marubatsu.PLAYING:\n",
    "                self.calc_score_of_node(node)\n",
    "            else:\n",
    "                score_list = [childnode.score for childnode in node.children]\n",
    "                if node.mb.move_count % 2 == 0:\n",
    "                    score = max(score_list)\n",
    "                else:\n",
    "                    score = min(score_list)\n",
    "                node.score = score\n",
    "                node.max_score = max([childnode.max_score for childnode in node.children])\n",
    "                node.min_score = min([childnode.min_score for childnode in node.children])\n",
    "            self.nodelist_by_score.append(node)\n",
    "            node.score_index = len(self.nodelist_by_score) - 1 \n",
    "\n",
    "Mbtree.calc_score_by_bf = calc_score_by_bf"
   ]
  },
  {
   "cell_type": "code",
   "execution_count": 6,
   "metadata": {},
   "outputs": [],
   "source": [
    "def recalculate_score(self):\n",
    "    for node in self.nodelist:\n",
    "        if node.score == 0:\n",
    "            if node.mb.move_count % 2 == 1:\n",
    "                if node.max_score > 0:\n",
    "                    node.score = 0.5\n",
    "                else:\n",
    "                    node.score = 0\n",
    "            else:\n",
    "                if node.min_score < 0:\n",
    "                    node.score = -0.5\n",
    "                else:\n",
    "                    node.score = 0\n",
    "\n",
    "Mbtree.recalculate_score = recalculate_score"
   ]
  },
  {
   "cell_type": "code",
   "execution_count": 7,
   "metadata": {},
   "outputs": [],
   "source": [
    "from tree import Node\n",
    "\n",
    "def __init__(self, algo=\"bf\", shortest_victory=False, recalculate_draw_score=False, subtree=None):\n",
    "    if subtree is not None:\n",
    "        self.subtree = subtree\n",
    "        self.create_subtree()\n",
    "        return\n",
    "\n",
    "    self.algo = algo\n",
    "    self.shortest_victory = shortest_victory\n",
    "    self.recalculate_draw_score = recalculate_draw_score\n",
    "    Node.count = 0\n",
    "    self.root = Node(Marubatsu())\n",
    "    if self.algo == \"bf\":  \n",
    "        self.create_tree_by_bf()\n",
    "        self.calc_score_by_bf()\n",
    "    else:\n",
    "        self.nodelist = [self.root]\n",
    "        self.nodelist_by_depth = [[] for _ in range(10)]\n",
    "        self.nodelist_by_depth[0].append(self.root)\n",
    "        self.nodenum = 0\n",
    "        self.create_tree_by_df(self.root)\n",
    "        self.nodelist_by_score = []\n",
    "        self.calc_score_by_df(self.root)\n",
    "    if self.recalculate_draw_score:\n",
    "        self.recalculate_score()\n",
    "    self.nodelist_by_mb = {}\n",
    "    self.bestmoves_by_mb = {}\n",
    "    self.calc_bestmoves(self.root)\n",
    "    \n",
    "Mbtree.__init__ = __init__"
   ]
  },
  {
   "cell_type": "code",
   "execution_count": 8,
   "metadata": {},
   "outputs": [
    {
     "name": "stdout",
     "output_type": "stream",
     "text": [
      "     9 depth 1 node created\n",
      "    72 depth 2 node created\n",
      "   504 depth 3 node created\n",
      "  3024 depth 4 node created\n",
      " 15120 depth 5 node created\n",
      " 54720 depth 6 node created\n",
      "148176 depth 7 node created\n",
      "200448 depth 8 node created\n",
      "127872 depth 9 node created\n",
      "     0 depth 10 node created\n",
      "total node num = 549946\n"
     ]
    },
    {
     "name": "stderr",
     "output_type": "stream",
     "text": [
      "100%|██████████| 549946/549946 [00:00<00:00, 787228.97it/s]\n"
     ]
    },
    {
     "data": {
      "application/vnd.jupyter.widget-view+json": {
       "model_id": "b1fb4cfe075c4da4a3126dd6baecaa68",
       "version_major": 2,
       "version_minor": 0
      },
      "text/plain": [
       "VBox(children=(Output(layout=Layout(display='none')), HBox(children=(Label(value='', layout=Layout(width='50px…"
      ]
     },
     "metadata": {},
     "output_type": "display_data"
    },
    {
     "data": {
      "text/plain": [
       "<tree.Mbtree_GUI at 0x1ccbda98650>"
      ]
     },
     "execution_count": 8,
     "metadata": {},
     "output_type": "execute_result"
    }
   ],
   "source": [
    "mbtree = Mbtree(shortest_victory=True, recalculate_draw_score=True)\n",
    "data = mbtree.calc_and_save_bestmoves_and_score_by_board(\"../data/bestmoves_and_score_by_board_sv_rd.dat\")\n",
    "Mbtree_GUI(scoretable_dict={\"test\": data})"
   ]
  },
  {
   "cell_type": "code",
   "execution_count": 9,
   "metadata": {},
   "outputs": [
    {
     "name": "stdout",
     "output_type": "stream",
     "text": [
      "ai_gt7 VS ai2\n"
     ]
    },
    {
     "name": "stderr",
     "output_type": "stream",
     "text": [
      "100%|██████████| 10000/10000 [00:03<00:00, 2800.99it/s]"
     ]
    },
    {
     "name": "stdout",
     "output_type": "stream",
     "text": [
      "count     win    lose    draw\n",
      "o        9714       0     286\n",
      "x        8110       0    1890\n",
      "total   17824       0    2176\n",
      "\n",
      "ratio     win    lose    draw\n",
      "o       97.1%    0.0%    2.9%\n",
      "x       81.1%    0.0%   18.9%\n",
      "total   89.1%    0.0%   10.9%\n",
      "\n"
     ]
    },
    {
     "name": "stderr",
     "output_type": "stream",
     "text": [
      "\n"
     ]
    }
   ],
   "source": [
    "from ai import ai_match, ai2, ai_gt7\n",
    "\n",
    "ai_match(ai=[ai_gt7, ai2], params=[{\"bestmoves_and_score_by_board\": data}, {}])"
   ]
  },
  {
   "cell_type": "code",
   "execution_count": 10,
   "metadata": {},
   "outputs": [
    {
     "name": "stderr",
     "output_type": "stream",
     "text": [
      "100%|██████████| 431/431 [00:00<00:00, 3929.96it/s]"
     ]
    },
    {
     "name": "stdout",
     "output_type": "stream",
     "text": [
      "431/431 100.00%\n"
     ]
    },
    {
     "name": "stderr",
     "output_type": "stream",
     "text": [
      "\n"
     ]
    },
    {
     "data": {
      "text/plain": [
       "(True, [])"
      ]
     },
     "execution_count": 10,
     "metadata": {},
     "output_type": "execute_result"
    }
   ],
   "source": [
    "from util import Check_solved\n",
    "\n",
    "Check_solved.is_strongly_solved(ai_gt7, {\"bestmoves_and_score_by_board\": data})"
   ]
  },
  {
   "cell_type": "code",
   "execution_count": 11,
   "metadata": {},
   "outputs": [
    {
     "name": "stdout",
     "output_type": "stream",
     "text": [
      "save completed.\n"
     ]
    }
   ],
   "source": [
    "mbtree.save(\"../data/bftree_svrd\")"
   ]
  },
  {
   "cell_type": "code",
   "execution_count": null,
   "metadata": {},
   "outputs": [],
   "source": [
    "import ai as ai_module\n",
    "from util import load_bestmoves\n",
    "\n",
    "def gui_play(ai=None, params=None, ai_dict=None, seed=None):\n",
    "    # ai が None の場合は、人間どうしの対戦を行う\n",
    "    if ai is None:\n",
    "        ai = [None, None]\n",
    "    if params is None:\n",
    "        params = [{}, {}]\n",
    "    # ai_dict が None の場合は、ai1s ~ ai14s の Dropdown を作成するためのデータを計算する\n",
    "    if ai_dict is None:\n",
    "        ai_dict = { \"人間\": ( None, {} ) }\n",
    "        for i in range(1, 15):\n",
    "            ai_name = f\"ai{i}s\"  \n",
    "            ai_dict[ai_name] = (getattr(ai_module, ai_name), {})\n",
    "        bestmoves_and_score_by_board = load_bestmoves(\"../data/bestmoves_and_score_by_board.dat\")\n",
    "        ai_dict[\"ai_gt7\"] = (ai_gt7, {\"bestmoves_and_score_by_board\": bestmoves_and_score_by_board})\n",
    "        bestmoves_and_score_by_board_sv = load_bestmoves(\"../data/bestmoves_and_score_by_board_shortest_victory.dat\")\n",
    "        ai_dict[\"ai_gtsv\"] = (ai_gt7, {\"bestmoves_and_score_by_board\": bestmoves_and_score_by_board_sv})\n",
    "        bestmoves_and_score_by_board_svrd = load_bestmoves(\"../data/bestmoves_and_score_by_board_sv_rd.dat\")\n",
    "        ai_dict[\"ai_gtsvrd\"] = (ai_gt7, {\"bestmoves_and_score_by_board\": bestmoves_and_score_by_board_svrd})\n",
    "\n",
    "    mb = Marubatsu()\n",
    "    mb.play(ai=ai, params=params, ai_dict=ai_dict, seed=seed, gui=True)"
   ]
  },
  {
   "cell_type": "code",
   "execution_count": null,
   "metadata": {},
   "outputs": [
    {
     "data": {
      "application/vnd.jupyter.widget-view+json": {
       "model_id": "983f5e56ac334bf481340ada1086d2fe",
       "version_major": 2,
       "version_minor": 0
      },
      "text/plain": [
       "VBox(children=(HBox(children=(Checkbox(value=False, description='乱数の種', indent=False, layout=Layout(width='100…"
      ]
     },
     "metadata": {},
     "output_type": "display_data"
    },
    {
     "data": {
      "application/vnd.jupyter.widget-view+json": {
       "model_id": "42a4489135424d26a6c5ed1d71695acd",
       "version_major": 2,
       "version_minor": 0
      },
      "text/plain": [
       "VBox(children=(Output(layout=Layout(display='none')), HBox(children=(Label(value='', layout=Layout(width='50px…"
      ]
     },
     "metadata": {},
     "output_type": "display_data"
    }
   ],
   "source": [
    "gui_play()"
   ]
  },
  {
   "cell_type": "code",
   "execution_count": 14,
   "metadata": {},
   "outputs": [],
   "source": [
    "def __init__(self, scoretable_dict=None, show_score=True, size=0.15):\n",
    "    if scoretable_dict is None:\n",
    "        from util import load_bestmoves\n",
    "        \n",
    "        scoretable_dict = {\n",
    "            \"Standard (ai_gt7)\": load_bestmoves(\"../data/bestmoves_and_score_by_board.dat\"),\n",
    "            \"Shortest victory (ai_gtsv)\": load_bestmoves(\"../data/bestmoves_and_score_by_board_shortest_victory.dat\"),\n",
    "            \"Recalculate draw (ai_gtsvrd)\": load_bestmoves(\"../data/bestmoves_and_score_by_board_sv_rd.dat\"),\n",
    "        }\n",
    "    self.scoretable_dict = scoretable_dict\n",
    "    self.show_score = show_score\n",
    "    self.size = size\n",
    "    self.width = 50\n",
    "    self.height = 65\n",
    "    self.selectednode = Node(Marubatsu())\n",
    "    super(Mbtree_GUI, self).__init__()\n",
    "    \n",
    "Mbtree_GUI.__init__ = __init__"
   ]
  },
  {
   "cell_type": "code",
   "execution_count": 15,
   "metadata": {},
   "outputs": [
    {
     "data": {
      "application/vnd.jupyter.widget-view+json": {
       "model_id": "f41afef2cd3147dd96e1fb3a9ef5160d",
       "version_major": 2,
       "version_minor": 0
      },
      "text/plain": [
       "VBox(children=(HBox(children=(Checkbox(value=False, description='乱数の種', indent=False, layout=Layout(width='100…"
      ]
     },
     "metadata": {},
     "output_type": "display_data"
    },
    {
     "data": {
      "application/vnd.jupyter.widget-view+json": {
       "model_id": "e0f81eaa4e8349b9a22769b8fb4fe602",
       "version_major": 2,
       "version_minor": 0
      },
      "text/plain": [
       "VBox(children=(Output(layout=Layout(display='none')), HBox(children=(Label(value='', layout=Layout(width='50px…"
      ]
     },
     "metadata": {},
     "output_type": "display_data"
    }
   ],
   "source": [
    "gui_play()"
   ]
  }
 ],
 "metadata": {
  "kernelspec": {
   "display_name": "marubatsu",
   "language": "python",
   "name": "python3"
  },
  "language_info": {
   "codemirror_mode": {
    "name": "ipython",
    "version": 3
   },
   "file_extension": ".py",
   "mimetype": "text/x-python",
   "name": "python",
   "nbconvert_exporter": "python",
   "pygments_lexer": "ipython3",
   "version": "3.11.4"
  }
 },
 "nbformat": 4,
 "nbformat_minor": 2
}
