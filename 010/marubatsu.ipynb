{
 "cells": [
  {
   "cell_type": "code",
   "execution_count": 1,
   "metadata": {},
   "outputs": [
    {
     "name": "stdout",
     "output_type": "stream",
     "text": [
      "[1, 2, 3, 4, 5]\n",
      "[1, 2, 3, [1, 2], [3, 4]]\n"
     ]
    }
   ],
   "source": [
    "print([1, 2, 3] + [4, 5])\n",
    "print([1, 2, 3] + [[1, 2], [3, 4]])"
   ]
  },
  {
   "cell_type": "code",
   "execution_count": 2,
   "metadata": {},
   "outputs": [
    {
     "name": "stdout",
     "output_type": "stream",
     "text": [
      "[1]\n",
      "[1, 2]\n"
     ]
    }
   ],
   "source": [
    "a = [1]\n",
    "b = a + [2]\n",
    "print(a)\n",
    "print(b)"
   ]
  },
  {
   "cell_type": "code",
   "execution_count": 3,
   "metadata": {},
   "outputs": [
    {
     "name": "stdout",
     "output_type": "stream",
     "text": [
      "[1, 2, 3, 4, 5]\n"
     ]
    }
   ],
   "source": [
    "a = [1, 2]\n",
    "a += [3, 4, 5]\n",
    "print(a)"
   ]
  },
  {
   "cell_type": "code",
   "execution_count": 4,
   "metadata": {},
   "outputs": [
    {
     "name": "stdout",
     "output_type": "stream",
     "text": [
      "[1, 2, 3, 4, 5]\n"
     ]
    }
   ],
   "source": [
    "a = [1, 2]\n",
    "a.extend([3, 4, 5])\n",
    "print(a)"
   ]
  },
  {
   "cell_type": "code",
   "execution_count": 5,
   "metadata": {},
   "outputs": [
    {
     "ename": "TypeError",
     "evalue": "can only concatenate list (not \"int\") to list",
     "output_type": "error",
     "traceback": [
      "\u001b[1;31m---------------------------------------------------------------------------\u001b[0m",
      "\u001b[1;31mTypeError\u001b[0m                                 Traceback (most recent call last)",
      "Cell \u001b[1;32mIn[5], line 1\u001b[0m\n\u001b[1;32m----> 1\u001b[0m [\u001b[39m1\u001b[39m] \u001b[39m+\u001b[39m \u001b[39m2\u001b[39m\n",
      "\u001b[1;31mTypeError\u001b[0m: can only concatenate list (not \"int\") to list"
     ]
    }
   ],
   "source": [
    "[1] + 2"
   ]
  },
  {
   "cell_type": "code",
   "execution_count": 6,
   "metadata": {},
   "outputs": [
    {
     "name": "stdout",
     "output_type": "stream",
     "text": [
      "[1, 1, 1]\n",
      "[1, 1, 1]\n"
     ]
    }
   ],
   "source": [
    "a = [1] * 3\n",
    "b = [1] + [1] + [1]\n",
    "print(a)\n",
    "print(b)"
   ]
  },
  {
   "cell_type": "code",
   "execution_count": 7,
   "metadata": {},
   "outputs": [
    {
     "name": "stdout",
     "output_type": "stream",
     "text": [
      "140731432669992 140731432669992 140731432669992\n",
      "140731432712392 140731432712392 140731432712392\n"
     ]
    }
   ],
   "source": [
    "a = [1] + [1] + [1]\n",
    "b = [\" \"] + [\" \"] + [\" \"]\n",
    "print(id(a[0]), id(a[1]), id(a[2]))\n",
    "print(id(b[0]), id(b[1]), id(b[2]))"
   ]
  },
  {
   "cell_type": "code",
   "execution_count": 8,
   "metadata": {},
   "outputs": [
    {
     "name": "stdout",
     "output_type": "stream",
     "text": [
      "1813386743680 1813386744640 1813386769536\n"
     ]
    }
   ],
   "source": [
    "a = [[\" \"]] + [[\" \"]] + [[\" \"]]\n",
    "print(id(a[0]), id(a[1]), id(a[2]))"
   ]
  },
  {
   "cell_type": "code",
   "execution_count": 9,
   "metadata": {},
   "outputs": [
    {
     "name": "stdout",
     "output_type": "stream",
     "text": [
      "[1, 1, 1]\n"
     ]
    }
   ],
   "source": [
    "a = 1\n",
    "b = [a, a, a]\n",
    "print(b)"
   ]
  },
  {
   "cell_type": "code",
   "execution_count": 10,
   "metadata": {},
   "outputs": [
    {
     "name": "stdout",
     "output_type": "stream",
     "text": [
      "[['〇', ' ', ' '], ['〇', ' ', ' '], ['〇', ' ', ' ']]\n"
     ]
    }
   ],
   "source": [
    "board = [[\" \"] * 3] * 3\n",
    "board[1][0] = \"〇\"\n",
    "print(board)"
   ]
  },
  {
   "cell_type": "code",
   "execution_count": 11,
   "metadata": {},
   "outputs": [
    {
     "name": "stdout",
     "output_type": "stream",
     "text": [
      "[' ', ' ', ' ']\n",
      "['〇', ' ', ' ']\n"
     ]
    }
   ],
   "source": [
    "a = \" \"\n",
    "row = [a, a, a]\n",
    "print(row)\n",
    "row[0] = \"〇\"\n",
    "print(row)"
   ]
  },
  {
   "cell_type": "code",
   "execution_count": 12,
   "metadata": {},
   "outputs": [
    {
     "name": "stdout",
     "output_type": "stream",
     "text": [
      "1813386688896\n",
      "1813386688896\n",
      "1813386688896\n"
     ]
    }
   ],
   "source": [
    "a = \" \"\n",
    "row = [a, a, a]\n",
    "board = [row, row, row]\n",
    "print(id(board[0]))   # ゲーム盤の 0 列を表す list を管理するオブジェクトの id \n",
    "print(id(board[1]))   # ゲーム盤の 1 列を表す list を管理するオブジェクトの id \n",
    "print(id(board[2]))   # ゲーム盤の 2 列を表す list を管理するオブジェクトの id "
   ]
  },
  {
   "cell_type": "code",
   "execution_count": 13,
   "metadata": {},
   "outputs": [
    {
     "name": "stdout",
     "output_type": "stream",
     "text": [
      "[['〇', ' ', ' '], ['〇', ' ', ' '], ['〇', ' ', ' ']]\n"
     ]
    }
   ],
   "source": [
    "a = \" \"\n",
    "row = [a, a, a]\n",
    "board = [row, row, row]\n",
    "board[1][0] = \"〇\"\n",
    "print(board)"
   ]
  },
  {
   "cell_type": "code",
   "execution_count": 14,
   "metadata": {},
   "outputs": [
    {
     "name": "stdout",
     "output_type": "stream",
     "text": [
      "[[' ', ' ', ' '], ['〇', ' ', ' '], [' ', ' ', ' ']]\n"
     ]
    }
   ],
   "source": [
    "a = \" \"\n",
    "row = [a, a, a]\n",
    "board = [row, row, row]\n",
    "board[1] = [\"〇\", \" \", \" \"]\n",
    "print(board)"
   ]
  },
  {
   "cell_type": "code",
   "execution_count": 15,
   "metadata": {},
   "outputs": [
    {
     "name": "stdout",
     "output_type": "stream",
     "text": [
      "[[' ', ' ', ' '], ['〇', ' ', ' '], [' ', ' ', ' ']]\n"
     ]
    }
   ],
   "source": [
    "board = [[\" \"] * 3 for x in range(3)]\n",
    "board[1][0] = \"〇\"\n",
    "print(board)"
   ]
  },
  {
   "cell_type": "code",
   "execution_count": 16,
   "metadata": {},
   "outputs": [
    {
     "name": "stdout",
     "output_type": "stream",
     "text": [
      "[[' ', ' ', ' '], ['〇', ' ', ' '], [' ', ' ', ' ']]\n"
     ]
    }
   ],
   "source": [
    "board = []\n",
    "for x in range(3):\n",
    "    board.append([\" \"] * 3)\n",
    "board[1][0] = \"〇\"\n",
    "print(board)"
   ]
  },
  {
   "cell_type": "code",
   "execution_count": 17,
   "metadata": {},
   "outputs": [
    {
     "name": "stdout",
     "output_type": "stream",
     "text": [
      "1813372349376\n",
      "1813386689472\n",
      "1813386539328\n"
     ]
    }
   ],
   "source": [
    "board = [[\" \"] * 3 for x in range(3)]\n",
    "print(id(board[0]))   # ゲーム盤の 0 列を表す list を管理するオブジェクトの id \n",
    "print(id(board[1]))   # ゲーム盤の 1 列を表す list を管理するオブジェクトの id \n",
    "print(id(board[2]))   # ゲーム盤の 2 列を表す list を管理するオブジェクトの id "
   ]
  }
 ],
 "metadata": {
  "kernelspec": {
   "display_name": "marubatsu",
   "language": "python",
   "name": "python3"
  },
  "language_info": {
   "codemirror_mode": {
    "name": "ipython",
    "version": 3
   },
   "file_extension": ".py",
   "mimetype": "text/x-python",
   "name": "python",
   "nbconvert_exporter": "python",
   "pygments_lexer": "ipython3",
   "version": "3.11.4"
  },
  "orig_nbformat": 4
 },
 "nbformat": 4,
 "nbformat_minor": 2
}
