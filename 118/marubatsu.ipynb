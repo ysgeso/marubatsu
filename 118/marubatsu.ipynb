{
 "cells": [
  {
   "cell_type": "code",
   "execution_count": 1,
   "metadata": {},
   "outputs": [
    {
     "data": {
      "application/vnd.jupyter.widget-view+json": {
       "model_id": "b6b6d975cc7b49bbad6e51c0b3992dd2",
       "version_major": 2,
       "version_minor": 0
      },
      "text/plain": [
       "VBox(children=(HBox(children=(Checkbox(value=False, description='乱数の種', indent=False, layout=Layout(width='100…"
      ]
     },
     "metadata": {},
     "output_type": "display_data"
    },
    {
     "data": {
      "application/vnd.jupyter.widget-view+json": {
       "model_id": "9857a4945ddc4cf89c0a90fd04e41e70",
       "version_major": 2,
       "version_minor": 0
      },
      "text/plain": [
       "VBox(children=(Output(layout=Layout(display='none')), HBox(children=(Label(value='', layout=Layout(width='50px…"
      ]
     },
     "metadata": {},
     "output_type": "display_data"
    }
   ],
   "source": [
    "from util import gui_play\n",
    "\n",
    "gui_play()"
   ]
  },
  {
   "cell_type": "code",
   "execution_count": 2,
   "metadata": {},
   "outputs": [],
   "source": [
    "from tree import Mbtree, Node\n",
    "from marubatsu import Marubatsu\n",
    "\n",
    "def __init__(self, algo=\"bf\", shortest_victory=False):\n",
    "    self.algo = algo\n",
    "    self.shortest_victory = shortest_victory\n",
    "    Node.count = 0\n",
    "    self.root = Node(Marubatsu())\n",
    "    if self.algo == \"bf\":  \n",
    "        self.create_tree_by_bf()\n",
    "        self.calc_score_by_bf()\n",
    "    else:\n",
    "        self.nodelist = [self.root]\n",
    "        self.nodelist_by_depth = [[] for _ in range(10)]\n",
    "        self.nodelist_by_depth[0].append(self.root)\n",
    "        self.nodenum = 0\n",
    "        self.create_tree_by_df(self.root)\n",
    "        self.nodelist_by_score = []\n",
    "        self.calc_score_by_df(self.root)\n",
    "    self.nodelist_by_mb = {}\n",
    "    self.bestmoves_by_mb = {}\n",
    "    self.calc_bestmoves(self.root)\n",
    "    \n",
    "Mbtree.__init__ = __init__ "
   ]
  },
  {
   "cell_type": "code",
   "execution_count": 3,
   "metadata": {},
   "outputs": [],
   "source": [
    "def calc_score_of_node(self, node):\n",
    "    if node.mb.status == Marubatsu.CIRCLE:\n",
    "        node.score = (11 - node.depth) / 2 if self.shortest_victory else 1\n",
    "    elif node.mb.status == Marubatsu.DRAW:\n",
    "        node.score = 0\n",
    "    elif node.mb.status == Marubatsu.CROSS:\n",
    "        node.score = (node.depth - 10) / 2 if self.shortest_victory else -1\n",
    "        \n",
    "Mbtree.calc_score_of_node = calc_score_of_node "
   ]
  },
  {
   "cell_type": "code",
   "execution_count": 4,
   "metadata": {},
   "outputs": [],
   "source": [
    "def calc_score_by_bf(self):\n",
    "    self.nodelist_by_score = self.nodelist[:]\n",
    "    for nodelist in reversed(self.nodelist_by_depth):\n",
    "        for node in nodelist:\n",
    "            if node.mb.status != Marubatsu.PLAYING:\n",
    "                self.calc_score_of_node(node)\n",
    "            else:\n",
    "                score_list = [childnode.score for childnode in node.children]\n",
    "                if node.mb.move_count % 2 == 0:\n",
    "                    score = max(score_list)\n",
    "                else:\n",
    "                    score = min(score_list)\n",
    "                node.score = score\n",
    "            self.nodelist_by_score.append(node)\n",
    "            node.score_index = len(self.nodelist_by_score) - 1  \n",
    "\n",
    "Mbtree.calc_score_by_bf = calc_score_by_bf"
   ]
  },
  {
   "cell_type": "code",
   "execution_count": 5,
   "metadata": {},
   "outputs": [],
   "source": [
    "def calc_score_by_df(self, node):\n",
    "    self.nodelist_by_score.append(node)\n",
    "    if node.mb.status != Marubatsu.PLAYING:\n",
    "        self.calc_score_of_node(node)\n",
    "    else:\n",
    "        score_list = []\n",
    "        for childnode in node.children:\n",
    "            score_list.append(self.calc_score_by_df(childnode))\n",
    "            self.nodelist_by_score.append(node)\n",
    "        if node.mb.move_count % 2 == 0:\n",
    "            score = max(score_list)\n",
    "        else:\n",
    "            score = min(score_list)\n",
    "        node.score = score\n",
    "        \n",
    "    self.nodelist_by_score.append(node)\n",
    "    node.score_index = len(self.nodelist_by_score) - 1        \n",
    "    return node.score      \n",
    "\n",
    "Mbtree.calc_score_by_df = calc_score_by_df"
   ]
  },
  {
   "cell_type": "code",
   "execution_count": 6,
   "metadata": {},
   "outputs": [
    {
     "name": "stdout",
     "output_type": "stream",
     "text": [
      "     9 depth 1 node created\n",
      "    72 depth 2 node created\n",
      "   504 depth 3 node created\n",
      "  3024 depth 4 node created\n",
      " 15120 depth 5 node created\n",
      " 54720 depth 6 node created\n",
      "148176 depth 7 node created\n",
      "200448 depth 8 node created\n",
      "127872 depth 9 node created\n",
      "     0 depth 10 node created\n",
      "total node num = 549946\n"
     ]
    }
   ],
   "source": [
    "bftree_shortest_victory = Mbtree(shortest_victory=True)"
   ]
  },
  {
   "cell_type": "code",
   "execution_count": 7,
   "metadata": {},
   "outputs": [],
   "source": [
    "dftree_shortest_victory = Mbtree(algo=\"df\", shortest_victory=True)"
   ]
  },
  {
   "cell_type": "code",
   "execution_count": 8,
   "metadata": {},
   "outputs": [
    {
     "data": {
      "application/vnd.jupyter.widget-view+json": {
       "model_id": "954049fc10bd4d7eb3e82ddb9d7461a5",
       "version_major": 2,
       "version_minor": 0
      },
      "text/plain": [
       "VBox(children=(Output(layout=Layout(display='none')), HBox(children=(Label(value='', layout=Layout(width='50px…"
      ]
     },
     "metadata": {},
     "output_type": "display_data"
    },
    {
     "data": {
      "text/plain": [
       "<tree.Mbtree_GUI at 0x22939701150>"
      ]
     },
     "execution_count": 8,
     "metadata": {},
     "output_type": "execute_result"
    }
   ],
   "source": [
    "from tree import Mbtree_GUI\n",
    "\n",
    "Mbtree_GUI(bftree_shortest_victory)"
   ]
  },
  {
   "cell_type": "code",
   "execution_count": 9,
   "metadata": {},
   "outputs": [
    {
     "data": {
      "application/vnd.jupyter.widget-view+json": {
       "model_id": "fa0abb4d1f7143eb8aa80c734a33d241",
       "version_major": 2,
       "version_minor": 0
      },
      "text/plain": [
       "VBox(children=(Output(layout=Layout(display='none')), HBox(children=(Label(value='', layout=Layout(width='50px…"
      ]
     },
     "metadata": {},
     "output_type": "display_data"
    },
    {
     "data": {
      "text/plain": [
       "<tree.Mbtree_GUI at 0x2293a593d90>"
      ]
     },
     "execution_count": 9,
     "metadata": {},
     "output_type": "execute_result"
    }
   ],
   "source": [
    "mbtree = Mbtree.load(\"../data/aidata\")\n",
    "Mbtree_GUI(mbtree)"
   ]
  },
  {
   "cell_type": "code",
   "execution_count": 12,
   "metadata": {},
   "outputs": [],
   "source": [
    "from tree import Node, Rect\n",
    "import matplotlib.pyplot as plt\n",
    "from marubatsu import Marubatsu_GUI\n",
    "\n",
    "def draw_node(self, ax=None, maxdepth=None, emphasize=False, darkness=0, size=0.25, lw=0.8, dx=0, dy=0):\n",
    "    width = 8\n",
    "    if ax is None:\n",
    "        height = len(self.children) * 4\n",
    "        fig, ax = plt.subplots(figsize=(width * size, height * size))\n",
    "        ax.set_xlim(0, width)\n",
    "        ax.set_ylim(0, height)   \n",
    "        ax.invert_yaxis()\n",
    "        ax.axis(\"off\")\n",
    "        for childnode in self.children:\n",
    "            childnode.height = 4\n",
    "        self.height = height         \n",
    "        \n",
    "    # 自分自身のノードを真ん中の位置になるように (dx, dy) からずらして描画する\n",
    "    y = dy + (self.height - 3) / 2\n",
    "    bc = \"red\" if emphasize else None\n",
    "    Marubatsu_GUI.draw_board(ax, self.mb, show_result=True, \n",
    "                            score=getattr(self, \"score\", None), bc=bc, darkness=darkness, lw=lw, dx=dx, dy=y)\n",
    "    if hasattr(self, \"score\"):\n",
    "        ax.text(dx, y - 0.1, self.score, fontsize=10)\n",
    "    rect = Rect(dx, y, 3, 3)\n",
    "    # 子ノードが存在する場合に、エッジの線と子ノードを描画する\n",
    "    if len(self.children) > 0:\n",
    "        if maxdepth != self.depth:   \n",
    "            ax.plot([dx + 3.5, dx + 4], [y + 1.5, y + 1.5], c=\"k\", lw=lw)\n",
    "            prevy = None\n",
    "            for childnode in self.children:\n",
    "                childnodey = dy + (childnode.height - 3) / 2\n",
    "                if maxdepth is None:\n",
    "                    Marubatsu_GUI.draw_board(ax, childnode.mb, show_result=True,\n",
    "                                            score=getattr(childnode, \"score\", None), dx=dx+5, dy=childnodey, lw=lw)\n",
    "                edgey = childnodey + 1.5\n",
    "                ax.plot([dx + 4 , dx + 4.5], [edgey, edgey], c=\"k\", lw=lw)\n",
    "                if prevy is not None:\n",
    "                    ax.plot([dx + 4 , dx + 4], [prevy, edgey], c=\"k\", lw=lw)\n",
    "                prevy = edgey\n",
    "                dy += childnode.height\n",
    "        else:\n",
    "            ax.plot([dx + 3.5, dx + 4.5], [y + 1.5, y + 1.5], c=\"k\", lw=lw)\n",
    "            \n",
    "    return rect\n",
    "\n",
    "Node.draw_node = draw_node"
   ]
  },
  {
   "cell_type": "code",
   "execution_count": 13,
   "metadata": {},
   "outputs": [
    {
     "data": {
      "application/vnd.jupyter.widget-view+json": {
       "model_id": "c1694aeacc46477ab09c354a86cadcb3",
       "version_major": 2,
       "version_minor": 0
      },
      "text/plain": [
       "VBox(children=(Output(layout=Layout(display='none')), HBox(children=(Label(value='', layout=Layout(width='50px…"
      ]
     },
     "metadata": {},
     "output_type": "display_data"
    },
    {
     "data": {
      "text/plain": [
       "<tree.Mbtree_GUI at 0x22943212510>"
      ]
     },
     "execution_count": 13,
     "metadata": {},
     "output_type": "execute_result"
    }
   ],
   "source": [
    "Mbtree_GUI(bftree_shortest_victory)"
   ]
  },
  {
   "cell_type": "code",
   "execution_count": 17,
   "metadata": {},
   "outputs": [],
   "source": [
    "def __init__(self, mbtree, size=0.15):\n",
    "    self.mbtree = mbtree\n",
    "    self.size = size\n",
    "    self.width = 50\n",
    "    self.height = 65\n",
    "    self.selectednode = self.mbtree.root\n",
    "    super(Mbtree_GUI, self).__init__()\n",
    "\n",
    "Mbtree_GUI.__init__ = __init__ "
   ]
  },
  {
   "cell_type": "code",
   "execution_count": 18,
   "metadata": {},
   "outputs": [],
   "source": [
    "def update_gui(self):\n",
    "    self.ax.clear()\n",
    "    self.ax.set_xlim(-1, self.width - 1)\n",
    "    self.ax.set_ylim(-1, self.height - 1)   \n",
    "    self.ax.invert_yaxis()\n",
    "    self.ax.axis(\"off\")   \n",
    "    \n",
    "    if self.selectednode.depth <= 4:\n",
    "        maxdepth = self.selectednode.depth + 1\n",
    "    elif self.selectednode.depth == 5:\n",
    "        maxdepth = 7\n",
    "    else:\n",
    "        maxdepth = 9\n",
    "    centernode = self.selectednode\n",
    "    while centernode.depth > 6:\n",
    "        centernode = centernode.parent\n",
    "    self.mbtree.draw_subtree(centernode=centernode, selectednode=self.selectednode,\n",
    "                            show_bestmove=True, ax=self.ax, maxdepth=maxdepth)\n",
    "    \n",
    "    disabled = self.selectednode.parent is None\n",
    "    self.set_button_status(self.left_button, disabled=disabled)\n",
    "    disabled = self.selectednode.depth >= 6 or len(self.selectednode.children) == 0\n",
    "    self.set_button_status(self.right_button, disabled=disabled)\n",
    "    disabled = self.selectednode.parent is None or self.selectednode.parent.children.index(self.selectednode) == 0\n",
    "    self.set_button_status(self.up_button, disabled=disabled)\n",
    "    disabled = self.selectednode.parent is None or self.selectednode.parent.children[-1] is self.selectednode\n",
    "    self.set_button_status(self.down_button, disabled=disabled)\n",
    "    \n",
    "Mbtree_GUI.update_gui = update_gui"
   ]
  },
  {
   "cell_type": "code",
   "execution_count": 19,
   "metadata": {},
   "outputs": [
    {
     "data": {
      "application/vnd.jupyter.widget-view+json": {
       "model_id": "ff35a4580c5f45b99b5adfcf45459070",
       "version_major": 2,
       "version_minor": 0
      },
      "text/plain": [
       "VBox(children=(Output(layout=Layout(display='none')), HBox(children=(Label(value='', layout=Layout(width='50px…"
      ]
     },
     "metadata": {},
     "output_type": "display_data"
    },
    {
     "data": {
      "text/plain": [
       "<tree.Mbtree_GUI at 0x229474d3190>"
      ]
     },
     "execution_count": 19,
     "metadata": {},
     "output_type": "execute_result"
    }
   ],
   "source": [
    "Mbtree_GUI(bftree_shortest_victory)"
   ]
  },
  {
   "cell_type": "code",
   "execution_count": 22,
   "metadata": {},
   "outputs": [],
   "source": [
    "import matplotlib.patches as patches\n",
    "\n",
    "def draw_subtree(self, centernode=None, selectednode=None, ax=None, anim_frame=None, isscore=False, show_bestmove=False, size=0.25, lw=0.8, maxdepth=2):\n",
    "    def calc_darkness(node):\n",
    "        \"\"\"ノードを表示する暗さを計算して返す.\"\"\"\n",
    "        \n",
    "        if show_bestmove:\n",
    "            if node.parent is None:\n",
    "                return 0\n",
    "            elif node.mb.last_move in node.parent.bestmoves:\n",
    "                return 0\n",
    "            else:\n",
    "                return 0.2\n",
    "            \n",
    "        if anim_frame is None:\n",
    "            return 0\n",
    "        index = node.score_index if isscore else node.id\n",
    "        return 0.5 if index > anim_frame else 0\n",
    "    \n",
    "    self.nodes_by_rect = {}\n",
    "\n",
    "    if centernode is None:\n",
    "        centernode = self.root\n",
    "    self.calc_node_height(N=centernode, maxdepth=maxdepth)\n",
    "    width = 5 * (maxdepth + 1)\n",
    "    height = centernode.height\n",
    "    parent = centernode.parent\n",
    "    if parent is not None:\n",
    "        height += (len(parent.children) - 1) * 4\n",
    "        parent.height = height\n",
    "    if ax is None:\n",
    "        fig, ax = plt.subplots(figsize=(width * size, height * size))\n",
    "        ax.set_xlim(0, width)\n",
    "        ax.set_ylim(0, height)   \n",
    "        ax.invert_yaxis()\n",
    "        ax.axis(\"off\")        \n",
    "    \n",
    "    if show_bestmove:\n",
    "        bestx = 5 * maxdepth + 4\n",
    "        bestwidth = 50 - bestx\n",
    "        ax.add_artist(patches.Rectangle(xy=(bestx, -1), width=bestwidth,\n",
    "                                        height=height + 1, fc=\"lightgray\"))\n",
    "    \n",
    "    nodelist = [centernode]\n",
    "    depth = centernode.depth\n",
    "    while len(nodelist) > 0 and depth <= maxdepth:        \n",
    "        dy = 0\n",
    "        if parent is not None:\n",
    "            dy = parent.children.index(centernode) * 4\n",
    "        childnodelist = []\n",
    "        for node in nodelist:\n",
    "            if node is None:\n",
    "                dy += 4\n",
    "                childnodelist.append(None)\n",
    "            else:\n",
    "                dx = 5 * node.depth\n",
    "                emphasize = node is selectednode\n",
    "                darkness = calc_darkness(node)\n",
    "                rect = node.draw_node(ax=ax, maxdepth=maxdepth, emphasize=emphasize, darkness=darkness, size=size, lw=lw, dx=dx, dy=dy)\n",
    "                self.nodes_by_rect[rect] = node\n",
    "                if show_bestmove and depth == maxdepth:\n",
    "                    bestnode = node\n",
    "                    while len(bestnode.bestmoves) > 0:\n",
    "                        bestmove = bestnode.bestmoves[0]\n",
    "                        bestnode = bestnode.children_by_move[bestmove]\n",
    "                        dx = 5 * bestnode.depth\n",
    "                        bestnode.height = 4\n",
    "                        rect = bestnode.draw_node(ax=ax, maxdepth=bestnode.depth, emphasize=emphasize, size=size, lw=lw, dx=dx, dy=dy)\n",
    "                        self.nodes_by_rect[rect] = bestnode                                          \n",
    "                    \n",
    "                dy += node.height\n",
    "                if len(node.children) > 0:  \n",
    "                    childnodelist += node.children\n",
    "                else:\n",
    "                    childnodelist.append(None)\n",
    "        depth += 1\n",
    "        nodelist = childnodelist\n",
    "        \n",
    "    if parent is not None:\n",
    "        dy = 0\n",
    "        for sibling in parent.children:\n",
    "            if sibling is not centernode:\n",
    "                sibling.height = 4\n",
    "                dx = 5 * sibling.depth\n",
    "                darkness = calc_darkness(sibling)\n",
    "                rect = sibling.draw_node(ax, maxdepth=sibling.depth, size=size, darkness=darkness, lw=lw, dx=dx, dy=dy)\n",
    "                self.nodes_by_rect[rect] = sibling\n",
    "            dy += sibling.height\n",
    "        dx = 5 * parent.depth\n",
    "        darkness = calc_darkness(parent)\n",
    "        rect = parent.draw_node(ax, maxdepth=maxdepth, darkness=darkness, size=size, lw=lw, dx=dx, dy=0)\n",
    "        self.nodes_by_rect[rect] = parent\n",
    "    \n",
    "        node = parent\n",
    "        while node.parent is not None:\n",
    "            node = node.parent\n",
    "            node.height = height\n",
    "            dx = 5 * node.depth\n",
    "            darkness = calc_darkness(node)\n",
    "            rect = node.draw_node(ax, maxdepth=node.depth, darkness=darkness, size=size, lw=lw, dx=dx, dy=0)\n",
    "            self.nodes_by_rect[rect] = node\n",
    "                \n",
    "Mbtree.draw_subtree = draw_subtree"
   ]
  },
  {
   "cell_type": "code",
   "execution_count": 23,
   "metadata": {},
   "outputs": [
    {
     "data": {
      "application/vnd.jupyter.widget-view+json": {
       "model_id": "19491e0e5bae4260b7e22f1fafce8179",
       "version_major": 2,
       "version_minor": 0
      },
      "text/plain": [
       "VBox(children=(Output(layout=Layout(display='none')), HBox(children=(Label(value='', layout=Layout(width='50px…"
      ]
     },
     "metadata": {},
     "output_type": "display_data"
    },
    {
     "data": {
      "text/plain": [
       "<tree.Mbtree_GUI at 0x2294a99bed0>"
      ]
     },
     "execution_count": 23,
     "metadata": {},
     "output_type": "execute_result"
    }
   ],
   "source": [
    "Mbtree_GUI(bftree_shortest_victory)"
   ]
  },
  {
   "cell_type": "code",
   "execution_count": 24,
   "metadata": {},
   "outputs": [],
   "source": [
    "@staticmethod\n",
    "def draw_board(ax, mb, show_result=False, score=None, bc=None, bw=1, darkness=0, dx=0, dy=0, lw=2): \n",
    "    # 結果によってゲーム盤の背景色を変更する\n",
    "    if show_result:\n",
    "        if score is None and mb.status == Marubatsu.PLAYING:\n",
    "            bgcolor = \"white\"\n",
    "        elif score > 0 or mb.status == Marubatsu.CIRCLE:\n",
    "            bgcolor = \"lightcyan\"\n",
    "        elif score < 0 or mb.status == Marubatsu.CROSS:\n",
    "            bgcolor = \"lavenderblush\"\n",
    "        else:\n",
    "            bgcolor = \"lightyellow\"\n",
    "        rect = patches.Rectangle(xy=(dx, dy), width=mb.BOARD_SIZE,\n",
    "                                height=mb.BOARD_SIZE, fc=bgcolor)\n",
    "        ax.add_patch(rect)\n",
    "\n",
    "    # ゲーム盤の枠を描画する\n",
    "    for i in range(1, mb.BOARD_SIZE):\n",
    "        ax.plot([dx, dx + mb.BOARD_SIZE], [dy + i, dy + i], c=\"k\", lw=lw) # 横方向の枠線\n",
    "        ax.plot([dx + i, dx + i], [dy, dy + mb.BOARD_SIZE], c=\"k\", lw=lw) # 縦方向の枠線\n",
    "\n",
    "    # ゲーム盤のマークを描画する\n",
    "    for y in range(mb.BOARD_SIZE):\n",
    "        for x in range(mb.BOARD_SIZE):\n",
    "            color = \"red\" if (x, y) == mb.last_move else \"black\"\n",
    "            Marubatsu_GUI.draw_mark(ax, dx + x, dy + y, mb.board[x][y], color, lw=lw)\n",
    "\n",
    "    # darkness 0 より大きい場合は、半透明の黒い正方形を描画して暗くする\n",
    "    if darkness > 0:\n",
    "        ax.add_artist(patches.Rectangle(xy=(dx, dy), width=mb.BOARD_SIZE,\n",
    "                                        height=mb.BOARD_SIZE, fc=\"black\", alpha=darkness))\n",
    "\n",
    "    # bc が None でない場合はその色で bw の太さで外枠を描画する\n",
    "    if bc is not None:\n",
    "        frame = patches.Rectangle(xy=(dx, dy), width=mb.BOARD_SIZE,\n",
    "                                height=mb.BOARD_SIZE, ec=bc, fill=False, lw=bw)\n",
    "        ax.add_patch(frame)\n",
    "        \n",
    "Marubatsu_GUI.draw_board = draw_board"
   ]
  },
  {
   "cell_type": "code",
   "execution_count": 25,
   "metadata": {},
   "outputs": [
    {
     "data": {
      "application/vnd.jupyter.widget-view+json": {
       "model_id": "1b580ada763a4c79a71d3fa0874b0e85",
       "version_major": 2,
       "version_minor": 0
      },
      "text/plain": [
       "VBox(children=(Output(layout=Layout(display='none')), HBox(children=(Label(value='', layout=Layout(width='50px…"
      ]
     },
     "metadata": {},
     "output_type": "display_data"
    },
    {
     "data": {
      "text/plain": [
       "<tree.Mbtree_GUI at 0x229459fe610>"
      ]
     },
     "execution_count": 25,
     "metadata": {},
     "output_type": "execute_result"
    }
   ],
   "source": [
    "Mbtree_GUI(bftree_shortest_victory)"
   ]
  },
  {
   "cell_type": "code",
   "execution_count": 38,
   "metadata": {},
   "outputs": [
    {
     "name": "stdout",
     "output_type": "stream",
     "text": [
      "save completed.\n",
      "save completed.\n"
     ]
    }
   ],
   "source": [
    "bftree_shortest_victory.save(\"../data/bftree_shortest_victory\")\n",
    "dftree_shortest_victory.save(\"../data/dftree_shortest_victory\")"
   ]
  },
  {
   "cell_type": "code",
   "execution_count": 28,
   "metadata": {},
   "outputs": [
    {
     "data": {
      "application/vnd.jupyter.widget-view+json": {
       "model_id": "d30a78040d6d4e849184dd001f95005a",
       "version_major": 2,
       "version_minor": 0
      },
      "text/plain": [
       "VBox(children=(HBox(children=(Checkbox(value=False, description='乱数の種', indent=False, layout=Layout(width='100…"
      ]
     },
     "metadata": {},
     "output_type": "display_data"
    },
    {
     "data": {
      "application/vnd.jupyter.widget-view+json": {
       "model_id": "ea797811c0024c76ac61efecbf392254",
       "version_major": 2,
       "version_minor": 0
      },
      "text/plain": [
       "VBox(children=(Output(layout=Layout(display='none')), HBox(children=(Label(value='', layout=Layout(width='50px…"
      ]
     },
     "metadata": {},
     "output_type": "display_data"
    }
   ],
   "source": [
    "from ai import ai_gt4\n",
    "\n",
    "mb = Marubatsu()\n",
    "mb.play(ai=[ai_gt4, None], params=[{\"mbtree\": bftree_shortest_victory}, {}], gui=True)"
   ]
  },
  {
   "cell_type": "code",
   "execution_count": 30,
   "metadata": {},
   "outputs": [],
   "source": [
    "from tqdm import tqdm\n",
    "import pickle\n",
    "import gzip\n",
    "\n",
    "def calc_and_save_bestmoves_by_board(mbtree, path):\n",
    "    bestmoves_by_board = {}\n",
    "    for node in tqdm(mbtree.nodelist):\n",
    "        txt = node.mb.board_to_str()\n",
    "        if not txt in bestmoves_by_board.keys():\n",
    "            bestmoves_by_board[txt] = node.bestmoves\n",
    "\n",
    "    with gzip.open(path, \"wb\") as f:\n",
    "        pickle.dump(bestmoves_by_board, f)\n",
    "    \n",
    "    return bestmoves_by_board"
   ]
  },
  {
   "cell_type": "code",
   "execution_count": 36,
   "metadata": {},
   "outputs": [
    {
     "name": "stderr",
     "output_type": "stream",
     "text": [
      "100%|██████████| 549946/549946 [00:00<00:00, 562598.73it/s]\n"
     ]
    }
   ],
   "source": [
    "bestmoves_by_board = calc_and_save_bestmoves_by_board(bftree_shortest_victory,\n",
    "                            \"../data/bestmoves_by_board_shortest_victory.dat\")"
   ]
  },
  {
   "cell_type": "code",
   "execution_count": 33,
   "metadata": {},
   "outputs": [
    {
     "data": {
      "application/vnd.jupyter.widget-view+json": {
       "model_id": "babb91d027eb474ea7553ea2f3b0a401",
       "version_major": 2,
       "version_minor": 0
      },
      "text/plain": [
       "VBox(children=(HBox(children=(Checkbox(value=False, description='乱数の種', indent=False, layout=Layout(width='100…"
      ]
     },
     "metadata": {},
     "output_type": "display_data"
    },
    {
     "data": {
      "application/vnd.jupyter.widget-view+json": {
       "model_id": "5af7c999b0f84c7c9153b0c7c523bb8a",
       "version_major": 2,
       "version_minor": 0
      },
      "text/plain": [
       "VBox(children=(Output(layout=Layout(display='none')), HBox(children=(Label(value='', layout=Layout(width='50px…"
      ]
     },
     "metadata": {},
     "output_type": "display_data"
    }
   ],
   "source": [
    "from ai import ai_gt6\n",
    "\n",
    "mb.play(ai=[ai_gt6, None], params=[{\"bestmoves_by_board\": bestmoves_by_board}, {}], gui=True)"
   ]
  },
  {
   "cell_type": "code",
   "execution_count": 34,
   "metadata": {},
   "outputs": [],
   "source": [
    "import ai as ai_module\n",
    "from util import load_bestmoves\n",
    "\n",
    "def gui_play(ai=None, params=None, ai_dict=None, seed=None):\n",
    "    # ai が None の場合は、人間どうしの対戦を行う\n",
    "    if ai is None:\n",
    "        ai = [None, None]\n",
    "    if params is None:\n",
    "        params = [{}, {}]\n",
    "    # ai_dict が None の場合は、ai1s ~ ai14s の Dropdown を作成するためのデータを計算する\n",
    "    if ai_dict is None:\n",
    "        ai_dict = { \"人間\": ( None, {} ) }\n",
    "        for i in range(1, 15):\n",
    "            ai_name = f\"ai{i}s\"  \n",
    "            ai_dict[ai_name] = (getattr(ai_module, ai_name), {})\n",
    "        bestmoves_by_board = load_bestmoves(\"../data/bestmoves_by_board.dat\")\n",
    "        ai_dict[\"ai_gt6\"] = (ai_gt6, {\"bestmoves_by_board\": bestmoves_by_board})\n",
    "        bestmoves_by_board_sv = load_bestmoves(\"../data/bestmoves_by_board_shortest_victory.dat\")\n",
    "        ai_dict[\"ai_gtsv\"] = (ai_gt6, {\"bestmoves_by_board\": bestmoves_by_board_sv})\n",
    "    \n",
    "    mb = Marubatsu()\n",
    "    mb.play(ai=ai, params=params, ai_dict=ai_dict, seed=seed, gui=True)"
   ]
  },
  {
   "cell_type": "code",
   "execution_count": 37,
   "metadata": {},
   "outputs": [
    {
     "data": {
      "application/vnd.jupyter.widget-view+json": {
       "model_id": "6f3b0aab048646889b767001ce02a1e8",
       "version_major": 2,
       "version_minor": 0
      },
      "text/plain": [
       "VBox(children=(HBox(children=(Checkbox(value=False, description='乱数の種', indent=False, layout=Layout(width='100…"
      ]
     },
     "metadata": {},
     "output_type": "display_data"
    },
    {
     "data": {
      "application/vnd.jupyter.widget-view+json": {
       "model_id": "897eda3cfd084699a53e92b86857ae4a",
       "version_major": 2,
       "version_minor": 0
      },
      "text/plain": [
       "VBox(children=(Output(layout=Layout(display='none')), HBox(children=(Label(value='', layout=Layout(width='50px…"
      ]
     },
     "metadata": {},
     "output_type": "display_data"
    }
   ],
   "source": [
    "gui_play()"
   ]
  }
 ],
 "metadata": {
  "kernelspec": {
   "display_name": "marubatsu",
   "language": "python",
   "name": "python3"
  },
  "language_info": {
   "codemirror_mode": {
    "name": "ipython",
    "version": 3
   },
   "file_extension": ".py",
   "mimetype": "text/x-python",
   "name": "python",
   "nbconvert_exporter": "python",
   "pygments_lexer": "ipython3",
   "version": "3.11.4"
  }
 },
 "nbformat": 4,
 "nbformat_minor": 2
}
