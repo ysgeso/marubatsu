{
 "cells": [
  {
   "cell_type": "code",
   "execution_count": 1,
   "metadata": {},
   "outputs": [],
   "source": [
    "from marubatsu import Marubatsu\n",
    "from random import choice\n",
    "\n",
    "def ai3(mb):\n",
    "    if mb.board[1][1] == Marubatsu.EMPTY:\n",
    "        return 1, 1\n",
    "    legal_moves = mb.calc_legal_moves()\n",
    "    return choice(legal_moves)"
   ]
  },
  {
   "cell_type": "code",
   "execution_count": 2,
   "metadata": {},
   "outputs": [
    {
     "name": "stdout",
     "output_type": "stream",
     "text": [
      "Turn o\n",
      "...\n",
      "...\n",
      "...\n",
      "\n",
      "Turn x\n",
      "...\n",
      ".O.\n",
      "...\n",
      "\n",
      "Turn o\n",
      ".X.\n",
      ".o.\n",
      "...\n",
      "\n",
      "Turn x\n",
      "Ox.\n",
      ".o.\n",
      "...\n",
      "\n",
      "Turn o\n",
      "oxX\n",
      ".o.\n",
      "...\n",
      "\n",
      "Turn x\n",
      "oxx\n",
      ".oO\n",
      "...\n",
      "\n",
      "Turn o\n",
      "oxx\n",
      "Xoo\n",
      "...\n",
      "\n",
      "winner o\n",
      "oxx\n",
      "xoo\n",
      "..O\n",
      "\n"
     ]
    },
    {
     "data": {
      "text/plain": [
       "'o'"
      ]
     },
     "execution_count": 2,
     "metadata": {},
     "output_type": "execute_result"
    }
   ],
   "source": [
    "from ai import ai1, ai2\n",
    "\n",
    "mb = Marubatsu()\n",
    "mb.play(ai=[ai3, ai2])"
   ]
  },
  {
   "cell_type": "code",
   "execution_count": 3,
   "metadata": {},
   "outputs": [],
   "source": [
    "None"
   ]
  },
  {
   "cell_type": "code",
   "execution_count": 4,
   "metadata": {},
   "outputs": [
    {
     "name": "stdout",
     "output_type": "stream",
     "text": [
      "None\n"
     ]
    }
   ],
   "source": [
    "print(None)"
   ]
  },
  {
   "cell_type": "code",
   "execution_count": 5,
   "metadata": {},
   "outputs": [
    {
     "name": "stdout",
     "output_type": "stream",
     "text": [
      "1\n"
     ]
    }
   ],
   "source": [
    "print(1)"
   ]
  },
  {
   "cell_type": "code",
   "execution_count": 6,
   "metadata": {},
   "outputs": [
    {
     "name": "stdout",
     "output_type": "stream",
     "text": [
      "ai3 VS ai2\n",
      "count     win    lose    draw\n",
      "o        6932    1922    1146\n",
      "x        3885    4765    1350\n",
      "total   10817    6687    2496\n",
      "\n",
      "ratio     win    lose    draw\n",
      "o       69.3%   19.2%   11.5%\n",
      "x       38.9%   47.6%   13.5%\n",
      "total   54.1%   33.4%   12.5%\n",
      "\n"
     ]
    }
   ],
   "source": [
    "from ai import ai_match\n",
    "\n",
    "ai_match(ai=[ai3, ai2])"
   ]
  },
  {
   "cell_type": "code",
   "execution_count": 7,
   "metadata": {},
   "outputs": [
    {
     "name": "stdout",
     "output_type": "stream",
     "text": [
      "ai3 VS ai1\n",
      "count     win    lose    draw\n",
      "o        3666    5663     671\n",
      "x         838    9162       0\n",
      "total    4504   14825     671\n",
      "\n",
      "ratio     win    lose    draw\n",
      "o       36.7%   56.6%    6.7%\n",
      "x        8.4%   91.6%    0.0%\n",
      "total   22.5%   74.1%    3.4%\n",
      "\n"
     ]
    }
   ],
   "source": [
    "ai_match(ai=[ai3, ai1])"
   ]
  },
  {
   "cell_type": "code",
   "execution_count": 8,
   "metadata": {},
   "outputs": [
    {
     "name": "stdout",
     "output_type": "stream",
     "text": [
      "ai2 VS ai1\n",
      "count     win    lose    draw\n",
      "o        5138    4459     403\n",
      "x        1740    7844     416\n",
      "total    6878   12303     819\n",
      "\n",
      "ratio     win    lose    draw\n",
      "o       51.4%   44.6%    4.0%\n",
      "x       17.4%   78.4%    4.2%\n",
      "total   34.4%   61.5%    4.1%\n",
      "\n"
     ]
    }
   ],
   "source": [
    "ai_match(ai=[ai2, ai1])"
   ]
  },
  {
   "cell_type": "code",
   "execution_count": 9,
   "metadata": {},
   "outputs": [
    {
     "name": "stdout",
     "output_type": "stream",
     "text": [
      "ai3 VS ai3\n",
      "count     win    lose    draw\n",
      "o        6801    2000    1199\n",
      "x        1919    6939    1142\n",
      "total    8720    8939    2341\n",
      "\n",
      "ratio     win    lose    draw\n",
      "o       68.0%   20.0%   12.0%\n",
      "x       19.2%   69.4%   11.4%\n",
      "total   43.6%   44.7%   11.7%\n",
      "\n"
     ]
    }
   ],
   "source": [
    "ai_match(ai=[ai3, ai3])"
   ]
  },
  {
   "cell_type": "code",
   "execution_count": 10,
   "metadata": {},
   "outputs": [],
   "source": [
    "def ai4(mb):\n",
    "    if mb.board[1][1] == Marubatsu.EMPTY:\n",
    "        return 1, 1\n",
    "    for y in range(0, 3, 2):\n",
    "        for x in range(0, 3, 2):\n",
    "            if mb.board[x][y] == Marubatsu.EMPTY:\n",
    "                return x, y\n",
    "    legal_moves = mb.calc_legal_moves()\n",
    "    return choice(legal_moves)"
   ]
  },
  {
   "cell_type": "code",
   "execution_count": 11,
   "metadata": {},
   "outputs": [
    {
     "name": "stdout",
     "output_type": "stream",
     "text": [
      "Turn o\n",
      "...\n",
      "...\n",
      "...\n",
      "\n",
      "Turn x\n",
      "...\n",
      ".O.\n",
      "...\n",
      "\n",
      "Turn o\n",
      ".X.\n",
      ".o.\n",
      "...\n",
      "\n",
      "Turn x\n",
      "Ox.\n",
      ".o.\n",
      "...\n",
      "\n",
      "Turn o\n",
      "ox.\n",
      ".o.\n",
      "..X\n",
      "\n",
      "Turn x\n",
      "oxO\n",
      ".o.\n",
      "..x\n",
      "\n",
      "Turn o\n",
      "oxo\n",
      ".o.\n",
      "X.x\n",
      "\n",
      "Turn x\n",
      "oxo\n",
      ".oO\n",
      "x.x\n",
      "\n",
      "Turn o\n",
      "oxo\n",
      "Xoo\n",
      "x.x\n",
      "\n",
      "winner draw\n",
      "oxo\n",
      "xoo\n",
      "xOx\n",
      "\n"
     ]
    }
   ],
   "source": [
    "mb.play(ai=[ai4, ai2]);"
   ]
  },
  {
   "cell_type": "code",
   "execution_count": 12,
   "metadata": {},
   "outputs": [
    {
     "name": "stdout",
     "output_type": "stream",
     "text": [
      "ai4 VS ai2\n",
      "count     win    lose    draw\n",
      "o        8303     952     745\n",
      "x        5723    3304     973\n",
      "total   14026    4256    1718\n",
      "\n",
      "ratio     win    lose    draw\n",
      "o       83.0%    9.5%    7.4%\n",
      "x       57.2%   33.0%    9.7%\n",
      "total   70.1%   21.3%    8.6%\n",
      "\n"
     ]
    }
   ],
   "source": [
    "ai_match(ai=[ai4, ai2])"
   ]
  },
  {
   "cell_type": "code",
   "execution_count": 13,
   "metadata": {},
   "outputs": [
    {
     "name": "stdout",
     "output_type": "stream",
     "text": [
      "ai4 VS ai1\n",
      "count     win    lose    draw\n",
      "o       10000       0       0\n",
      "x       10000       0       0\n",
      "total   20000       0       0\n",
      "\n",
      "ratio     win    lose    draw\n",
      "o      100.0%    0.0%    0.0%\n",
      "x      100.0%    0.0%    0.0%\n",
      "total  100.0%    0.0%    0.0%\n",
      "\n"
     ]
    }
   ],
   "source": [
    "ai_match(ai=[ai4, ai1])"
   ]
  },
  {
   "cell_type": "code",
   "execution_count": 14,
   "metadata": {},
   "outputs": [
    {
     "name": "stdout",
     "output_type": "stream",
     "text": [
      "Turn o\n",
      "...\n",
      "...\n",
      "...\n",
      "\n",
      "Turn x\n",
      "...\n",
      ".O.\n",
      "...\n",
      "\n",
      "Turn o\n",
      "X..\n",
      ".o.\n",
      "...\n",
      "\n",
      "Turn x\n",
      "x.O\n",
      ".o.\n",
      "...\n",
      "\n",
      "Turn o\n",
      "xXo\n",
      ".o.\n",
      "...\n",
      "\n",
      "winner o\n",
      "xxo\n",
      ".o.\n",
      "O..\n",
      "\n"
     ]
    }
   ],
   "source": [
    "mb.play(ai=[ai4, ai1]);"
   ]
  },
  {
   "cell_type": "code",
   "execution_count": 15,
   "metadata": {},
   "outputs": [
    {
     "name": "stdout",
     "output_type": "stream",
     "text": [
      "Turn o\n",
      "...\n",
      "...\n",
      "...\n",
      "\n",
      "Turn x\n",
      "O..\n",
      "...\n",
      "...\n",
      "\n",
      "Turn o\n",
      "o..\n",
      ".X.\n",
      "...\n",
      "\n",
      "Turn x\n",
      "oO.\n",
      ".x.\n",
      "...\n",
      "\n",
      "Turn o\n",
      "ooX\n",
      ".x.\n",
      "...\n",
      "\n",
      "Turn x\n",
      "oox\n",
      "Ox.\n",
      "...\n",
      "\n",
      "winner x\n",
      "oox\n",
      "ox.\n",
      "X..\n",
      "\n"
     ]
    }
   ],
   "source": [
    "mb.play(ai=[ai1, ai4]);"
   ]
  },
  {
   "cell_type": "code",
   "execution_count": 16,
   "metadata": {},
   "outputs": [
    {
     "name": "stdout",
     "output_type": "stream",
     "text": [
      "ai4 VS ai3\n",
      "count     win    lose    draw\n",
      "o        8313     945     742\n",
      "x        2735    7014     251\n",
      "total   11048    7959     993\n",
      "\n",
      "ratio     win    lose    draw\n",
      "o       83.1%    9.4%    7.4%\n",
      "x       27.4%   70.1%    2.5%\n",
      "total   55.2%   39.8%    5.0%\n",
      "\n"
     ]
    }
   ],
   "source": [
    "ai_match(ai=[ai4, ai3])"
   ]
  }
 ],
 "metadata": {
  "kernelspec": {
   "display_name": "marubatsu",
   "language": "python",
   "name": "python3"
  },
  "language_info": {
   "codemirror_mode": {
    "name": "ipython",
    "version": 3
   },
   "file_extension": ".py",
   "mimetype": "text/x-python",
   "name": "python",
   "nbconvert_exporter": "python",
   "pygments_lexer": "ipython3",
   "version": "3.10.13"
  }
 },
 "nbformat": 4,
 "nbformat_minor": 2
}
