{
 "cells": [
  {
   "cell_type": "code",
   "execution_count": 1,
   "metadata": {},
   "outputs": [],
   "source": [
    "from marubatsu import Marubatsu\n",
    "\n",
    "def is_full(self):\n",
    "    return not(self.board[0][0] == Marubatsu.EMPTY or \\\n",
    "               self.board[1][0] == Marubatsu.EMPTY or \\\n",
    "               self.board[2][0] == Marubatsu.EMPTY or \\\n",
    "               self.board[0][1] == Marubatsu.EMPTY or \\\n",
    "               self.board[1][1] == Marubatsu.EMPTY or \\\n",
    "               self.board[2][1] == Marubatsu.EMPTY or \\\n",
    "               self.board[0][2] == Marubatsu.EMPTY or \\\n",
    "               self.board[1][2] == Marubatsu.EMPTY or \\\n",
    "               self.board[2][2] == Marubatsu.EMPTY)\n",
    "\n",
    "Marubatsu.is_full = is_full"
   ]
  },
  {
   "cell_type": "code",
   "execution_count": 2,
   "metadata": {},
   "outputs": [],
   "source": [
    "def judge(self):      \n",
    "    # 〇 の勝利の判定\n",
    "    if self.is_winner(Marubatsu.CIRCLE):\n",
    "        return Marubatsu.CIRCLE\n",
    "    # × の勝利の判定\n",
    "    elif self.is_winner(Marubatsu.CROSS):\n",
    "        return Marubatsu.CROSS   \n",
    "    # 引き分けの判定\n",
    "    elif self.is_full():\n",
    "        return Marubatsu.DRAW\n",
    "    # 上記のどれでもなければ決着がついていない\n",
    "    else:\n",
    "        return Marubatsu.PLAYING     \n",
    "\n",
    "Marubatsu.judge = judge"
   ]
  },
  {
   "cell_type": "code",
   "execution_count": 3,
   "metadata": {},
   "outputs": [
    {
     "name": "stdout",
     "output_type": "stream",
     "text": [
      "Start\n",
      "test winner = playing\n",
      "oooooooooo\n",
      "test winner = o\n",
      "ooooooooo\n",
      "test winner = x\n",
      "oooooooo\n",
      "test winner = draw\n",
      "o\n",
      "Finished\n"
     ]
    }
   ],
   "source": [
    "from test import test_judge\n",
    "\n",
    "test_judge()"
   ]
  },
  {
   "cell_type": "code",
   "execution_count": 4,
   "metadata": {},
   "outputs": [],
   "source": [
    "def is_full(self):\n",
    "    for y in range(self.BOARD_SIZE):\n",
    "        for x in range(self.BOARD_SIZE):\n",
    "            if self.board[x][y] == Marubatsu.EMPTY:\n",
    "                return False\n",
    "                \n",
    "    return True\n",
    "\n",
    "Marubatsu.is_full = is_full"
   ]
  },
  {
   "cell_type": "code",
   "execution_count": 5,
   "metadata": {},
   "outputs": [
    {
     "name": "stdout",
     "output_type": "stream",
     "text": [
      "Start\n",
      "test winner = playing\n",
      "oooooooooo\n",
      "test winner = o\n",
      "ooooooooo\n",
      "test winner = x\n",
      "oooooooo\n",
      "test winner = draw\n",
      "o\n",
      "Finished\n"
     ]
    }
   ],
   "source": [
    "test_judge()"
   ]
  },
  {
   "cell_type": "code",
   "execution_count": 6,
   "metadata": {},
   "outputs": [],
   "source": [
    "def is_full(self):\n",
    "    for col in self.board:\n",
    "        for cell in col:\n",
    "            if cell == Marubatsu.EMPTY:\n",
    "                return False\n",
    "                \n",
    "    return True\n",
    "\n",
    "Marubatsu.is_full = is_full"
   ]
  },
  {
   "cell_type": "code",
   "execution_count": 7,
   "metadata": {},
   "outputs": [
    {
     "name": "stdout",
     "output_type": "stream",
     "text": [
      "Start\n",
      "test winner = playing\n",
      "oooooooooo\n",
      "test winner = o\n",
      "ooooooooo\n",
      "test winner = x\n",
      "oooooooo\n",
      "test winner = draw\n",
      "o\n",
      "Finished\n"
     ]
    }
   ],
   "source": [
    "test_judge()"
   ]
  },
  {
   "cell_type": "code",
   "execution_count": 8,
   "metadata": {},
   "outputs": [],
   "source": [
    "def is_full(self):\n",
    "    if Marubatsu.EMPTY in self.board:\n",
    "        return False\n",
    "    else:\n",
    "        return True\n",
    "\n",
    "Marubatsu.is_full = is_full"
   ]
  },
  {
   "cell_type": "code",
   "execution_count": 9,
   "metadata": {},
   "outputs": [
    {
     "name": "stdout",
     "output_type": "stream",
     "text": [
      "Start\n",
      "test winner = playing\n",
      "\n",
      "====================\n",
      "test_judge error!\n",
      "Turn o\n",
      "...\n",
      "...\n",
      "...\n",
      "\n",
      "mb.judge(): draw\n",
      "winner:     playing\n",
      "====================\n",
      "\n",
      "====================\n",
      "test_judge error!\n",
      "Turn o\n",
      ".ox\n",
      "xxo\n",
      "oxo\n",
      "\n",
      "mb.judge(): draw\n",
      "winner:     playing\n",
      "====================\n",
      "\n",
      "====================\n",
      "test_judge error!\n",
      "Turn o\n",
      "o.x\n",
      "xxo\n",
      "oxo\n",
      "\n",
      "mb.judge(): draw\n",
      "winner:     playing\n",
      "====================\n",
      "\n",
      "====================\n",
      "test_judge error!\n",
      "Turn o\n",
      "oo.\n",
      "xxo\n",
      "oxx\n",
      "\n",
      "mb.judge(): draw\n",
      "winner:     playing\n",
      "====================\n",
      "\n",
      "====================\n",
      "test_judge error!\n",
      "Turn o\n",
      "oox\n",
      ".xo\n",
      "oxx\n",
      "\n",
      "mb.judge(): draw\n",
      "winner:     playing\n",
      "====================\n",
      "\n",
      "====================\n",
      "test_judge error!\n",
      "Turn o\n",
      "oox\n",
      "x.o\n",
      "oxx\n",
      "\n",
      "mb.judge(): draw\n",
      "winner:     playing\n",
      "====================\n",
      "\n",
      "====================\n",
      "test_judge error!\n",
      "Turn o\n",
      "oox\n",
      "xx.\n",
      "oxo\n",
      "\n",
      "mb.judge(): draw\n",
      "winner:     playing\n",
      "====================\n",
      "\n",
      "====================\n",
      "test_judge error!\n",
      "Turn o\n",
      "oox\n",
      "xxo\n",
      ".xo\n",
      "\n",
      "mb.judge(): draw\n",
      "winner:     playing\n",
      "====================\n",
      "\n",
      "====================\n",
      "test_judge error!\n",
      "Turn o\n",
      "oox\n",
      "xxo\n",
      "o.x\n",
      "\n",
      "mb.judge(): draw\n",
      "winner:     playing\n",
      "====================\n",
      "\n",
      "====================\n",
      "test_judge error!\n",
      "Turn o\n",
      "oox\n",
      "xxo\n",
      "ox.\n",
      "\n",
      "mb.judge(): draw\n",
      "winner:     playing\n",
      "====================\n",
      "\n",
      "test winner = o\n",
      "ooooooooo\n",
      "test winner = x\n",
      "oooooooo\n",
      "test winner = draw\n",
      "o\n",
      "Finished\n"
     ]
    }
   ],
   "source": [
    "test_judge()"
   ]
  },
  {
   "cell_type": "code",
   "execution_count": 10,
   "metadata": {},
   "outputs": [
    {
     "name": "stdout",
     "output_type": "stream",
     "text": [
      "[['.', '.', '.'], ['.', '.', '.'], ['.', '.', '.']]\n"
     ]
    }
   ],
   "source": [
    "mb = Marubatsu()\n",
    "print(mb.board)"
   ]
  },
  {
   "cell_type": "code",
   "execution_count": 11,
   "metadata": {},
   "outputs": [
    {
     "name": "stdout",
     "output_type": "stream",
     "text": [
      "False\n"
     ]
    }
   ],
   "source": [
    "print(Marubatsu.EMPTY in mb.board)"
   ]
  },
  {
   "cell_type": "code",
   "execution_count": 12,
   "metadata": {},
   "outputs": [
    {
     "name": "stdout",
     "output_type": "stream",
     "text": [
      "True\n"
     ]
    }
   ],
   "source": [
    "print(Marubatsu.EMPTY in mb.board[0])"
   ]
  },
  {
   "cell_type": "code",
   "execution_count": 13,
   "metadata": {},
   "outputs": [],
   "source": [
    "def is_full(self):\n",
    "    for col in self.board:\n",
    "        if Marubatsu.EMPTY in col:\n",
    "            return False\n",
    "\n",
    "    return True\n",
    "\n",
    "Marubatsu.is_full = is_full"
   ]
  },
  {
   "cell_type": "code",
   "execution_count": 14,
   "metadata": {},
   "outputs": [
    {
     "name": "stdout",
     "output_type": "stream",
     "text": [
      "Start\n",
      "test winner = playing\n",
      "oooooooooo\n",
      "test winner = o\n",
      "ooooooooo\n",
      "test winner = x\n",
      "oooooooo\n",
      "test winner = draw\n",
      "o\n",
      "Finished\n"
     ]
    }
   ],
   "source": [
    "test_judge()"
   ]
  },
  {
   "cell_type": "code",
   "execution_count": 15,
   "metadata": {},
   "outputs": [],
   "source": [
    "def is_full(self):\n",
    "    text_list = []\n",
    "    for col in self.board:\n",
    "        text_list += col\n",
    "\n",
    "    return Marubatsu.EMPTY not in text_list\n",
    "\n",
    "Marubatsu.is_full = is_full"
   ]
  },
  {
   "cell_type": "code",
   "execution_count": 16,
   "metadata": {},
   "outputs": [
    {
     "name": "stdout",
     "output_type": "stream",
     "text": [
      "Start\n",
      "test winner = playing\n",
      "oooooooooo\n",
      "test winner = o\n",
      "ooooooooo\n",
      "test winner = x\n",
      "oooooooo\n",
      "test winner = draw\n",
      "o\n",
      "Finished\n"
     ]
    }
   ],
   "source": [
    "test_judge()"
   ]
  },
  {
   "cell_type": "code",
   "execution_count": 17,
   "metadata": {},
   "outputs": [],
   "source": [
    "def is_full(self):\n",
    "    text_list = []\n",
    "    for col in self.board:\n",
    "        text_list.append(col)\n",
    "\n",
    "    return Marubatsu.EMPTY not in text_list\n",
    "\n",
    "Marubatsu.is_full = is_full"
   ]
  },
  {
   "cell_type": "code",
   "execution_count": 18,
   "metadata": {},
   "outputs": [
    {
     "name": "stdout",
     "output_type": "stream",
     "text": [
      "Start\n",
      "test winner = playing\n",
      "\n",
      "====================\n",
      "test_judge error!\n",
      "Turn o\n",
      "...\n",
      "...\n",
      "...\n",
      "\n",
      "mb.judge(): draw\n",
      "winner:     playing\n",
      "====================\n",
      "\n",
      "====================\n",
      "test_judge error!\n",
      "Turn o\n",
      ".ox\n",
      "xxo\n",
      "oxo\n",
      "\n",
      "mb.judge(): draw\n",
      "winner:     playing\n",
      "====================\n",
      "\n",
      "====================\n",
      "test_judge error!\n",
      "Turn o\n",
      "o.x\n",
      "xxo\n",
      "oxo\n",
      "\n",
      "mb.judge(): draw\n",
      "winner:     playing\n",
      "====================\n",
      "\n",
      "====================\n",
      "test_judge error!\n",
      "Turn o\n",
      "oo.\n",
      "xxo\n",
      "oxx\n",
      "\n",
      "mb.judge(): draw\n",
      "winner:     playing\n",
      "====================\n",
      "\n",
      "====================\n",
      "test_judge error!\n",
      "Turn o\n",
      "oox\n",
      ".xo\n",
      "oxx\n",
      "\n",
      "mb.judge(): draw\n",
      "winner:     playing\n",
      "====================\n",
      "\n",
      "====================\n",
      "test_judge error!\n",
      "Turn o\n",
      "oox\n",
      "x.o\n",
      "oxx\n",
      "\n",
      "mb.judge(): draw\n",
      "winner:     playing\n",
      "====================\n",
      "\n",
      "====================\n",
      "test_judge error!\n",
      "Turn o\n",
      "oox\n",
      "xx.\n",
      "oxo\n",
      "\n",
      "mb.judge(): draw\n",
      "winner:     playing\n",
      "====================\n",
      "\n",
      "====================\n",
      "test_judge error!\n",
      "Turn o\n",
      "oox\n",
      "xxo\n",
      ".xo\n",
      "\n",
      "mb.judge(): draw\n",
      "winner:     playing\n",
      "====================\n",
      "\n",
      "====================\n",
      "test_judge error!\n",
      "Turn o\n",
      "oox\n",
      "xxo\n",
      "o.x\n",
      "\n",
      "mb.judge(): draw\n",
      "winner:     playing\n",
      "====================\n",
      "\n",
      "====================\n",
      "test_judge error!\n",
      "Turn o\n",
      "oox\n",
      "xxo\n",
      "ox.\n",
      "\n",
      "mb.judge(): draw\n",
      "winner:     playing\n",
      "====================\n",
      "\n",
      "test winner = o\n",
      "ooooooooo\n",
      "test winner = x\n",
      "oooooooo\n",
      "test winner = draw\n",
      "o\n",
      "Finished\n"
     ]
    }
   ],
   "source": [
    "test_judge()"
   ]
  },
  {
   "cell_type": "code",
   "execution_count": 19,
   "metadata": {},
   "outputs": [],
   "source": [
    "def is_full(self):\n",
    "    text_list = []\n",
    "    for col in self.board:\n",
    "        for cell in col:\n",
    "            text_list.append(cell)\n",
    "\n",
    "    return Marubatsu.EMPTY not in text_list\n",
    "\n",
    "Marubatsu.is_full = is_full"
   ]
  },
  {
   "cell_type": "code",
   "execution_count": 20,
   "metadata": {},
   "outputs": [
    {
     "name": "stdout",
     "output_type": "stream",
     "text": [
      "Start\n",
      "test winner = playing\n",
      "oooooooooo\n",
      "test winner = o\n",
      "ooooooooo\n",
      "test winner = x\n",
      "oooooooo\n",
      "test winner = draw\n",
      "o\n",
      "Finished\n"
     ]
    }
   ],
   "source": [
    "test_judge()"
   ]
  },
  {
   "cell_type": "code",
   "execution_count": 21,
   "metadata": {},
   "outputs": [],
   "source": [
    "def is_full(self):\n",
    "    text_list = [cell for col in self.board for cell in col]\n",
    "    return Marubatsu.EMPTY not in text_list\n",
    "\n",
    "Marubatsu.is_full = is_full"
   ]
  },
  {
   "cell_type": "code",
   "execution_count": 22,
   "metadata": {},
   "outputs": [
    {
     "name": "stdout",
     "output_type": "stream",
     "text": [
      "Start\n",
      "test winner = playing\n",
      "oooooooooo\n",
      "test winner = o\n",
      "ooooooooo\n",
      "test winner = x\n",
      "oooooooo\n",
      "test winner = draw\n",
      "o\n",
      "Finished\n"
     ]
    }
   ],
   "source": [
    "test_judge()"
   ]
  },
  {
   "cell_type": "code",
   "execution_count": 23,
   "metadata": {},
   "outputs": [
    {
     "name": "stdout",
     "output_type": "stream",
     "text": [
      "Start\n",
      "test winner = playing\n"
     ]
    },
    {
     "ename": "NameError",
     "evalue": "name 'col' is not defined",
     "output_type": "error",
     "traceback": [
      "\u001b[1;31m---------------------------------------------------------------------------\u001b[0m",
      "\u001b[1;31mNameError\u001b[0m                                 Traceback (most recent call last)",
      "\u001b[1;32mc:\\Users\\ys\\ai\\marubatsu\\036\\marubatsu.ipynb セル 23\u001b[0m line \u001b[0;36m7\n\u001b[0;32m      <a href='vscode-notebook-cell:/c%3A/Users/ys/ai/marubatsu/036/marubatsu.ipynb#Y122sZmlsZQ%3D%3D?line=2'>3</a>\u001b[0m     \u001b[39mreturn\u001b[39;00m Marubatsu\u001b[39m.\u001b[39mEMPTY \u001b[39mnot\u001b[39;00m \u001b[39min\u001b[39;00m text_list\n\u001b[0;32m      <a href='vscode-notebook-cell:/c%3A/Users/ys/ai/marubatsu/036/marubatsu.ipynb#Y122sZmlsZQ%3D%3D?line=4'>5</a>\u001b[0m Marubatsu\u001b[39m.\u001b[39mis_full \u001b[39m=\u001b[39m is_full\n\u001b[1;32m----> <a href='vscode-notebook-cell:/c%3A/Users/ys/ai/marubatsu/036/marubatsu.ipynb#Y122sZmlsZQ%3D%3D?line=6'>7</a>\u001b[0m test_judge()\n",
      "File \u001b[1;32mc:\\Users\\ys\\ai\\marubatsu\\036\\test.py:81\u001b[0m, in \u001b[0;36mtest_judge\u001b[1;34m(testcases, debug)\u001b[0m\n\u001b[0;32m     78\u001b[0m \u001b[39mif\u001b[39;00m debug:\n\u001b[0;32m     79\u001b[0m     \u001b[39mprint\u001b[39m(mb)\n\u001b[1;32m---> 81\u001b[0m \u001b[39mif\u001b[39;00m mb\u001b[39m.\u001b[39mjudge() \u001b[39m==\u001b[39m winner:\n\u001b[0;32m     82\u001b[0m     \u001b[39mif\u001b[39;00m debug:\n\u001b[0;32m     83\u001b[0m         \u001b[39mprint\u001b[39m(\u001b[39m\"\u001b[39m\u001b[39mok\u001b[39m\u001b[39m\"\u001b[39m)\n",
      "\u001b[1;32mc:\\Users\\ys\\ai\\marubatsu\\036\\marubatsu.ipynb セル 23\u001b[0m line \u001b[0;36m9\n\u001b[0;32m      <a href='vscode-notebook-cell:/c%3A/Users/ys/ai/marubatsu/036/marubatsu.ipynb#Y122sZmlsZQ%3D%3D?line=6'>7</a>\u001b[0m     \u001b[39mreturn\u001b[39;00m Marubatsu\u001b[39m.\u001b[39mCROSS   \n\u001b[0;32m      <a href='vscode-notebook-cell:/c%3A/Users/ys/ai/marubatsu/036/marubatsu.ipynb#Y122sZmlsZQ%3D%3D?line=7'>8</a>\u001b[0m \u001b[39m# 引き分けの判定\u001b[39;00m\n\u001b[1;32m----> <a href='vscode-notebook-cell:/c%3A/Users/ys/ai/marubatsu/036/marubatsu.ipynb#Y122sZmlsZQ%3D%3D?line=8'>9</a>\u001b[0m \u001b[39melif\u001b[39;00m \u001b[39mself\u001b[39m\u001b[39m.\u001b[39mis_full():\n\u001b[0;32m     <a href='vscode-notebook-cell:/c%3A/Users/ys/ai/marubatsu/036/marubatsu.ipynb#Y122sZmlsZQ%3D%3D?line=9'>10</a>\u001b[0m     \u001b[39mreturn\u001b[39;00m Marubatsu\u001b[39m.\u001b[39mDRAW\n\u001b[0;32m     <a href='vscode-notebook-cell:/c%3A/Users/ys/ai/marubatsu/036/marubatsu.ipynb#Y122sZmlsZQ%3D%3D?line=10'>11</a>\u001b[0m \u001b[39m# 上記のどれでもなければ決着がついていない\u001b[39;00m\n\u001b[0;32m     <a href='vscode-notebook-cell:/c%3A/Users/ys/ai/marubatsu/036/marubatsu.ipynb#Y122sZmlsZQ%3D%3D?line=11'>12</a>\u001b[0m \u001b[39melse\u001b[39;00m:\n",
      "\u001b[1;32mc:\\Users\\ys\\ai\\marubatsu\\036\\marubatsu.ipynb セル 23\u001b[0m line \u001b[0;36m2\n\u001b[0;32m      <a href='vscode-notebook-cell:/c%3A/Users/ys/ai/marubatsu/036/marubatsu.ipynb#Y122sZmlsZQ%3D%3D?line=0'>1</a>\u001b[0m \u001b[39mdef\u001b[39;00m \u001b[39mis_full\u001b[39m(\u001b[39mself\u001b[39m):\n\u001b[1;32m----> <a href='vscode-notebook-cell:/c%3A/Users/ys/ai/marubatsu/036/marubatsu.ipynb#Y122sZmlsZQ%3D%3D?line=1'>2</a>\u001b[0m     text_list \u001b[39m=\u001b[39m [cell \u001b[39mfor\u001b[39;00m cell \u001b[39min\u001b[39;00m col \u001b[39mfor\u001b[39;00m col \u001b[39min\u001b[39;00m \u001b[39mself\u001b[39m\u001b[39m.\u001b[39mboard ]\n\u001b[0;32m      <a href='vscode-notebook-cell:/c%3A/Users/ys/ai/marubatsu/036/marubatsu.ipynb#Y122sZmlsZQ%3D%3D?line=2'>3</a>\u001b[0m     \u001b[39mreturn\u001b[39;00m Marubatsu\u001b[39m.\u001b[39mEMPTY \u001b[39mnot\u001b[39;00m \u001b[39min\u001b[39;00m text_list\n",
      "\u001b[1;31mNameError\u001b[0m: name 'col' is not defined"
     ]
    }
   ],
   "source": [
    "def is_full(self):\n",
    "    text_list = [cell for cell in col for col in self.board ]\n",
    "    return Marubatsu.EMPTY not in text_list\n",
    "\n",
    "Marubatsu.is_full = is_full\n",
    "\n",
    "test_judge()"
   ]
  },
  {
   "cell_type": "code",
   "execution_count": 24,
   "metadata": {},
   "outputs": [],
   "source": [
    "def pseudo_sum(data, start=0):\n",
    "    total = start\n",
    "    for num in data:\n",
    "        total += num\n",
    "    return total"
   ]
  },
  {
   "cell_type": "code",
   "execution_count": 25,
   "metadata": {},
   "outputs": [
    {
     "name": "stdout",
     "output_type": "stream",
     "text": [
      "[1, 2, 3, 4, 5, 6]\n"
     ]
    }
   ],
   "source": [
    "print(sum([[1, 2], [3, 4], [5, 6]], start=[]))"
   ]
  },
  {
   "cell_type": "code",
   "execution_count": 26,
   "metadata": {},
   "outputs": [],
   "source": [
    "def is_full(self):\n",
    "    text_list = sum(self.board, start=[])\n",
    "    return Marubatsu.EMPTY not in text_list\n",
    "\n",
    "Marubatsu.is_full = is_full"
   ]
  },
  {
   "cell_type": "code",
   "execution_count": 27,
   "metadata": {},
   "outputs": [
    {
     "name": "stdout",
     "output_type": "stream",
     "text": [
      "Start\n",
      "test winner = playing\n",
      "oooooooooo\n",
      "test winner = o\n",
      "ooooooooo\n",
      "test winner = x\n",
      "oooooooo\n",
      "test winner = draw\n",
      "o\n",
      "Finished\n"
     ]
    }
   ],
   "source": [
    "test_judge()"
   ]
  },
  {
   "cell_type": "code",
   "execution_count": 28,
   "metadata": {},
   "outputs": [
    {
     "name": "stdout",
     "output_type": "stream",
     "text": [
      "123\n"
     ]
    }
   ],
   "source": [
    "print(pseudo_sum(\"123\", start=\"\"))"
   ]
  },
  {
   "cell_type": "code",
   "execution_count": 29,
   "metadata": {},
   "outputs": [
    {
     "ename": "TypeError",
     "evalue": "sum() can't sum strings [use ''.join(seq) instead]",
     "output_type": "error",
     "traceback": [
      "\u001b[1;31m---------------------------------------------------------------------------\u001b[0m",
      "\u001b[1;31mTypeError\u001b[0m                                 Traceback (most recent call last)",
      "\u001b[1;32mc:\\Users\\ys\\ai\\marubatsu\\036\\marubatsu.ipynb セル 29\u001b[0m line \u001b[0;36m1\n\u001b[1;32m----> <a href='vscode-notebook-cell:/c%3A/Users/ys/ai/marubatsu/036/marubatsu.ipynb#Y124sZmlsZQ%3D%3D?line=0'>1</a>\u001b[0m \u001b[39mprint\u001b[39m(\u001b[39msum\u001b[39m(\u001b[39m\"\u001b[39m\u001b[39m123\u001b[39m\u001b[39m\"\u001b[39m, start\u001b[39m=\u001b[39m\u001b[39m\"\u001b[39m\u001b[39m\"\u001b[39m))\n",
      "\u001b[1;31mTypeError\u001b[0m: sum() can't sum strings [use ''.join(seq) instead]"
     ]
    }
   ],
   "source": [
    "print(sum(\"123\", start=\"\"))"
   ]
  },
  {
   "cell_type": "code",
   "execution_count": 30,
   "metadata": {},
   "outputs": [
    {
     "name": "stdout",
     "output_type": "stream",
     "text": [
      "['...', '...', '...']\n",
      ".........\n",
      "True\n"
     ]
    }
   ],
   "source": [
    "mb = Marubatsu()\n",
    "col_text_list = []\n",
    "for col in mb.board:\n",
    "    col_text_list.append(\"\".join(col))\n",
    "print(col_text_list)\n",
    "board_text = \"\".join(col_text_list)\n",
    "print(board_text)\n",
    "print(Marubatsu.EMPTY in board_text)"
   ]
  },
  {
   "cell_type": "code",
   "execution_count": 31,
   "metadata": {},
   "outputs": [],
   "source": [
    "def is_full(self):\n",
    "    col_text_list = [\"\".join(col) for col in self.board]\n",
    "    board_text = \"\".join(col_text_list)\n",
    "    return Marubatsu.EMPTY not in board_text\n",
    "\n",
    "Marubatsu.is_full = is_full"
   ]
  },
  {
   "cell_type": "code",
   "execution_count": 32,
   "metadata": {},
   "outputs": [
    {
     "name": "stdout",
     "output_type": "stream",
     "text": [
      "Start\n",
      "test winner = playing\n",
      "oooooooooo\n",
      "test winner = o\n",
      "ooooooooo\n",
      "test winner = x\n",
      "oooooooo\n",
      "test winner = draw\n",
      "o\n",
      "Finished\n"
     ]
    }
   ],
   "source": [
    "test_judge()"
   ]
  },
  {
   "cell_type": "code",
   "execution_count": 33,
   "metadata": {},
   "outputs": [],
   "source": [
    "def is_full(self):\n",
    "    return Marubatsu.EMPTY not in \"\".join([\"\".join(col) for col in self.board])\n",
    "\n",
    "Marubatsu.is_full = is_full"
   ]
  },
  {
   "cell_type": "code",
   "execution_count": 34,
   "metadata": {},
   "outputs": [
    {
     "name": "stdout",
     "output_type": "stream",
     "text": [
      "Start\n",
      "test winner = playing\n",
      "oooooooooo\n",
      "test winner = o\n",
      "ooooooooo\n",
      "test winner = x\n",
      "oooooooo\n",
      "test winner = draw\n",
      "o\n",
      "Finished\n"
     ]
    }
   ],
   "source": [
    "test_judge()"
   ]
  },
  {
   "cell_type": "code",
   "execution_count": 35,
   "metadata": {},
   "outputs": [],
   "source": [
    "def restart(self):\n",
    "    self.initialize_board()\n",
    "    self.turn = Marubatsu.CIRCLE     \n",
    "    self.move_count = 0\n",
    "    \n",
    "Marubatsu.restart = restart"
   ]
  },
  {
   "cell_type": "code",
   "execution_count": 36,
   "metadata": {},
   "outputs": [],
   "source": [
    "def move(self, x: int, y: int):\n",
    "    if self.place_mark(x, y, self.turn):\n",
    "        self.turn = Marubatsu.CROSS if self.turn == Marubatsu.CIRCLE else Marubatsu.CIRCLE  \n",
    "        self.move_count += 1\n",
    "        \n",
    "Marubatsu.move = move"
   ]
  },
  {
   "cell_type": "code",
   "execution_count": 37,
   "metadata": {},
   "outputs": [],
   "source": [
    "def is_full(self):\n",
    "    return self.move_count == self.BOARD_SIZE ** 2\n",
    "\n",
    "Marubatsu.is_full = is_full"
   ]
  },
  {
   "cell_type": "code",
   "execution_count": 38,
   "metadata": {},
   "outputs": [
    {
     "name": "stdout",
     "output_type": "stream",
     "text": [
      "Start\n",
      "test winner = playing\n",
      "oooooooooo\n",
      "test winner = o\n",
      "ooooooooo\n",
      "test winner = x\n",
      "oooooooo\n",
      "test winner = draw\n",
      "o\n",
      "Finished\n"
     ]
    }
   ],
   "source": [
    "test_judge()"
   ]
  }
 ],
 "metadata": {
  "kernelspec": {
   "display_name": "marubatsu",
   "language": "python",
   "name": "python3"
  },
  "language_info": {
   "codemirror_mode": {
    "name": "ipython",
    "version": 3
   },
   "file_extension": ".py",
   "mimetype": "text/x-python",
   "name": "python",
   "nbconvert_exporter": "python",
   "pygments_lexer": "ipython3",
   "version": "3.11.4"
  }
 },
 "nbformat": 4,
 "nbformat_minor": 2
}
