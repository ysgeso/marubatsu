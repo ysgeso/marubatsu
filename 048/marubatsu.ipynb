{
 "cells": [
  {
   "cell_type": "code",
   "execution_count": 1,
   "metadata": {},
   "outputs": [],
   "source": [
    "def dprint(debug, data):\n",
    "    if debug:\n",
    "        print(data)"
   ]
  },
  {
   "cell_type": "code",
   "execution_count": 2,
   "metadata": {},
   "outputs": [
    {
     "name": "stdout",
     "output_type": "stream",
     "text": [
      "debug = True\n"
     ]
    }
   ],
   "source": [
    "dprint(True, \"debug = True\")\n",
    "dprint(False, \"debug = False\")"
   ]
  },
  {
   "cell_type": "code",
   "execution_count": 3,
   "metadata": {},
   "outputs": [
    {
     "ename": "TypeError",
     "evalue": "dprint() takes 2 positional arguments but 3 were given",
     "output_type": "error",
     "traceback": [
      "\u001b[1;31m---------------------------------------------------------------------------\u001b[0m",
      "\u001b[1;31mTypeError\u001b[0m                                 Traceback (most recent call last)",
      "Cell \u001b[1;32mIn[3], line 1\u001b[0m\n\u001b[1;32m----> 1\u001b[0m dprint(\u001b[38;5;28;01mTrue\u001b[39;00m, \u001b[38;5;241m1\u001b[39m, \u001b[38;5;241m2\u001b[39m)\n",
      "\u001b[1;31mTypeError\u001b[0m: dprint() takes 2 positional arguments but 3 were given"
     ]
    }
   ],
   "source": [
    "dprint(True, 1, 2)"
   ]
  },
  {
   "cell_type": "code",
   "execution_count": 4,
   "metadata": {},
   "outputs": [],
   "source": [
    "def a(*args):\n",
    "    print(args)"
   ]
  },
  {
   "cell_type": "code",
   "execution_count": 5,
   "metadata": {},
   "outputs": [
    {
     "name": "stdout",
     "output_type": "stream",
     "text": [
      "(1,)\n",
      "(1, 2, 3)\n",
      "()\n"
     ]
    }
   ],
   "source": [
    "a(1)       # 実引数の数が 1 つしかない場合は、1 ではなく、要素を 1 つ持つ tuple が代入される\n",
    "a(1, 2, 3)\n",
    "a()        # 実引数が記述されていない場合は、None ではなく、空の tuple が代入される"
   ]
  },
  {
   "cell_type": "code",
   "execution_count": 6,
   "metadata": {},
   "outputs": [],
   "source": [
    "def dprint(debug, *args):\n",
    "    if debug:\n",
    "        print(args)"
   ]
  },
  {
   "cell_type": "code",
   "execution_count": 7,
   "metadata": {},
   "outputs": [
    {
     "name": "stdout",
     "output_type": "stream",
     "text": [
      "(1,)\n",
      "(1, 2, 3)\n",
      "()\n"
     ]
    }
   ],
   "source": [
    "dprint(True, 1)\n",
    "dprint(True, 1, 2, 3)\n",
    "dprint(True)\n",
    "dprint(False, 1, 2, 3)"
   ]
  },
  {
   "cell_type": "code",
   "execution_count": 8,
   "metadata": {},
   "outputs": [
    {
     "name": "stdout",
     "output_type": "stream",
     "text": [
      "(1,)\n",
      "1\n",
      "(1, 2, 3)\n",
      "1 2 3\n",
      "()\n",
      "\n"
     ]
    }
   ],
   "source": [
    "dprint(True, 1)\n",
    "print(1)\n",
    "dprint(True, 1, 2, 3)\n",
    "print(1, 2, 3)\n",
    "dprint(True)\n",
    "print()"
   ]
  },
  {
   "cell_type": "code",
   "execution_count": 9,
   "metadata": {},
   "outputs": [
    {
     "name": "stdout",
     "output_type": "stream",
     "text": [
      "(1, 2, 3)\n",
      "1 2 3\n",
      "1 2 3\n"
     ]
    }
   ],
   "source": [
    "data = (1, 2, 3)\n",
    "print(data)\n",
    "print(*data)\n",
    "print(1, 2, 3)"
   ]
  },
  {
   "cell_type": "code",
   "execution_count": 10,
   "metadata": {},
   "outputs": [
    {
     "name": "stdout",
     "output_type": "stream",
     "text": [
      "1 2 3\n",
      "a b\n"
     ]
    }
   ],
   "source": [
    "data1 = [1, 2, 3]\n",
    "data2 = { \"a\": 1, \"b\": 2 }\n",
    "print(*data1)\n",
    "print(*data2)"
   ]
  },
  {
   "cell_type": "code",
   "execution_count": 11,
   "metadata": {},
   "outputs": [],
   "source": [
    "def dprint(debug, *args):\n",
    "    if debug:\n",
    "        print(*args)"
   ]
  },
  {
   "cell_type": "code",
   "execution_count": 12,
   "metadata": {},
   "outputs": [
    {
     "name": "stdout",
     "output_type": "stream",
     "text": [
      "1\n",
      "1\n",
      "1 2 3\n",
      "1 2 3\n",
      "\n",
      "\n"
     ]
    }
   ],
   "source": [
    "dprint(True, 1)\n",
    "print(1)\n",
    "dprint(True, 1, 2, 3)\n",
    "print(1, 2, 3)\n",
    "dprint(True)\n",
    "print()"
   ]
  },
  {
   "cell_type": "code",
   "execution_count": 13,
   "metadata": {},
   "outputs": [
    {
     "name": "stdout",
     "output_type": "stream",
     "text": [
      "1 2 3\n"
     ]
    }
   ],
   "source": [
    "print(*(1, 2, 3))"
   ]
  },
  {
   "cell_type": "code",
   "execution_count": 14,
   "metadata": {},
   "outputs": [
    {
     "ename": "TypeError",
     "evalue": "a() got an unexpected keyword argument 'x'",
     "output_type": "error",
     "traceback": [
      "\u001b[1;31m---------------------------------------------------------------------------\u001b[0m",
      "\u001b[1;31mTypeError\u001b[0m                                 Traceback (most recent call last)",
      "Cell \u001b[1;32mIn[14], line 4\u001b[0m\n\u001b[0;32m      1\u001b[0m \u001b[38;5;28;01mdef\u001b[39;00m \u001b[38;5;21ma\u001b[39m(\u001b[38;5;241m*\u001b[39margs):\n\u001b[0;32m      2\u001b[0m     \u001b[38;5;28mprint\u001b[39m(args)\n\u001b[1;32m----> 4\u001b[0m a(\u001b[38;5;241m1\u001b[39m, x\u001b[38;5;241m=\u001b[39m\u001b[38;5;241m1\u001b[39m)\n",
      "\u001b[1;31mTypeError\u001b[0m: a() got an unexpected keyword argument 'x'"
     ]
    }
   ],
   "source": [
    "def a(*args):\n",
    "    print(args)\n",
    "\n",
    "a(1, x=1)"
   ]
  },
  {
   "cell_type": "code",
   "execution_count": 15,
   "metadata": {},
   "outputs": [
    {
     "ename": "TypeError",
     "evalue": "dprint() got an unexpected keyword argument 'end'",
     "output_type": "error",
     "traceback": [
      "\u001b[1;31m---------------------------------------------------------------------------\u001b[0m",
      "\u001b[1;31mTypeError\u001b[0m                                 Traceback (most recent call last)",
      "Cell \u001b[1;32mIn[15], line 1\u001b[0m\n\u001b[1;32m----> 1\u001b[0m dprint(\u001b[38;5;28;01mTrue\u001b[39;00m, \u001b[38;5;241m1\u001b[39m, \u001b[38;5;241m2\u001b[39m, \u001b[38;5;241m3\u001b[39m, end\u001b[38;5;241m=\u001b[39m\u001b[38;5;124m\"\u001b[39m\u001b[38;5;124m\"\u001b[39m)\n",
      "\u001b[1;31mTypeError\u001b[0m: dprint() got an unexpected keyword argument 'end'"
     ]
    }
   ],
   "source": [
    "dprint(True, 1, 2, 3, end=\"\")"
   ]
  },
  {
   "cell_type": "code",
   "execution_count": 16,
   "metadata": {},
   "outputs": [
    {
     "name": "stdout",
     "output_type": "stream",
     "text": [
      "(1, 2, 3)\n",
      "{'x': 4, 'y': 5}\n",
      "(6, 7, 8)\n",
      "{}\n"
     ]
    }
   ],
   "source": [
    "def a(*args, **kwargs):\n",
    "    print(args)\n",
    "    print(kwargs)\n",
    "\n",
    "a(1, 2, 3, x=4, y=5)\n",
    "a(6, 7, 8)"
   ]
  },
  {
   "cell_type": "code",
   "execution_count": 17,
   "metadata": {},
   "outputs": [],
   "source": [
    "def dprint(debug, *args, **kwargs):\n",
    "    if debug:\n",
    "        print(*args, kwargs)"
   ]
  },
  {
   "cell_type": "code",
   "execution_count": 18,
   "metadata": {},
   "outputs": [
    {
     "name": "stdout",
     "output_type": "stream",
     "text": [
      "abc {'end': ''}\n",
      "def {}\n"
     ]
    }
   ],
   "source": [
    "dprint(True, \"abc\", end=\"\")\n",
    "dprint(True, \"def\")"
   ]
  },
  {
   "cell_type": "code",
   "execution_count": 19,
   "metadata": {},
   "outputs": [],
   "source": [
    "def dprint(debug, *args, **kwargs):\n",
    "    if debug:\n",
    "        print(*args, **kwargs)"
   ]
  },
  {
   "cell_type": "code",
   "execution_count": 20,
   "metadata": {},
   "outputs": [
    {
     "name": "stdout",
     "output_type": "stream",
     "text": [
      "abcdef\n"
     ]
    }
   ],
   "source": [
    "dprint(True, \"abc\", end=\"\")\n",
    "dprint(True, \"def\")"
   ]
  },
  {
   "cell_type": "code",
   "execution_count": 21,
   "metadata": {},
   "outputs": [],
   "source": [
    "def a(x, y=2, z=3, *args, **kwargs):\n",
    "    print(x, y, z)\n",
    "    print(args)\n",
    "    print(kwargs)"
   ]
  },
  {
   "cell_type": "code",
   "execution_count": 22,
   "metadata": {},
   "outputs": [
    {
     "name": "stdout",
     "output_type": "stream",
     "text": [
      "1 2 5\n",
      "()\n",
      "{'b': 3}\n"
     ]
    }
   ],
   "source": [
    "a(1, z=5, b=3)"
   ]
  },
  {
   "cell_type": "code",
   "execution_count": 23,
   "metadata": {},
   "outputs": [],
   "source": [
    "def a(x, y=3, *args, **kwargs):\n",
    "    print(x, y)\n",
    "    print(args)\n",
    "    print(kwargs)\n",
    "\n",
    "def b(x, *args, y=3, **kwargs):\n",
    "    print(x, y)\n",
    "    print(args)\n",
    "    print(kwargs)"
   ]
  },
  {
   "cell_type": "code",
   "execution_count": 24,
   "metadata": {},
   "outputs": [
    {
     "name": "stdout",
     "output_type": "stream",
     "text": [
      "1 5\n",
      "()\n",
      "{}\n",
      "1 5\n",
      "()\n",
      "{}\n"
     ]
    }
   ],
   "source": [
    "a(1, y=5)\n",
    "b(1, y=5)"
   ]
  },
  {
   "cell_type": "code",
   "execution_count": 25,
   "metadata": {},
   "outputs": [
    {
     "name": "stdout",
     "output_type": "stream",
     "text": [
      "1 2\n",
      "()\n",
      "{}\n",
      "1 3\n",
      "(2,)\n",
      "{}\n"
     ]
    }
   ],
   "source": [
    "a(1, 2)\n",
    "b(1, 2)"
   ]
  },
  {
   "cell_type": "code",
   "execution_count": 26,
   "metadata": {},
   "outputs": [
    {
     "name": "stdout",
     "output_type": "stream",
     "text": [
      "(1, 2, 3, 4, 5, 6)\n",
      "{'a': 7, 'b': 8, 'c': 9}\n",
      "(1, 2, 3, 4, 5, 6)\n",
      "{'a': 7, 'b': 8, 'c': 9}\n"
     ]
    }
   ],
   "source": [
    "def a(*args, **kwargs):\n",
    "    print(args)\n",
    "    print(kwargs)\n",
    "\n",
    "a(1, *(2, 3), *(4, 5, 6), **{\"a\": 7, \"b\": 8}, **{\"c\": 9})\n",
    "a(1, 2, 3, 4, 5, 6, a=7, b=8, c=9)"
   ]
  },
  {
   "cell_type": "code",
   "execution_count": 27,
   "metadata": {},
   "outputs": [
    {
     "ename": "SyntaxError",
     "evalue": "iterable argument unpacking follows keyword argument unpacking (592568727.py, line 1)",
     "output_type": "error",
     "traceback": [
      "\u001b[1;36m  Cell \u001b[1;32mIn[27], line 1\u001b[1;36m\u001b[0m\n\u001b[1;33m    a(*(1, 2), **{\"a\": 3}, *(4, 5, 6))\u001b[0m\n\u001b[1;37m      ^\u001b[0m\n\u001b[1;31mSyntaxError\u001b[0m\u001b[1;31m:\u001b[0m iterable argument unpacking follows keyword argument unpacking\n"
     ]
    }
   ],
   "source": [
    "a(*(1, 2), **{\"a\": 3}, *(4, 5, 6))\n",
    "a(1, 2, a=3, 4, 5, 6)"
   ]
  },
  {
   "cell_type": "code",
   "execution_count": 28,
   "metadata": {},
   "outputs": [],
   "source": [
    "from copy import deepcopy\n",
    "from random import choice\n",
    "\n",
    "def ai_by_score(mb_orig, eval_func, debug=False):\n",
    "    dprint(debug, \"Start ai_by_score\")\n",
    "    dprint(debug, mb_orig)\n",
    "    legal_moves = mb_orig.calc_legal_moves()\n",
    "    dprint(debug, \"legal_moves\", legal_moves)\n",
    "    best_score = float(\"-inf\")\n",
    "    best_moves = []\n",
    "    for move in legal_moves:\n",
    "        dprint(debug, \"=\" * 20)\n",
    "        dprint(debug, \"move\", move)\n",
    "        mb = deepcopy(mb_orig)\n",
    "        x, y = move\n",
    "        mb.move(x, y)\n",
    "        dprint(debug, mb)\n",
    "        \n",
    "        score = eval_func(mb)\n",
    "        dprint(debug, \"score\", score, \"best score\", best_score)\n",
    "        \n",
    "        if best_score < score:\n",
    "            best_score = score\n",
    "            best_moves = [move]\n",
    "            dprint(debug, \"UPDATE\")\n",
    "            dprint(debug, \"  best score\", best_score)\n",
    "            dprint(debug, \"  best moves\", best_moves)\n",
    "        elif best_score == score:\n",
    "            best_moves.append(move)\n",
    "            dprint(debug, \"APPEND\")\n",
    "            dprint(debug, \"  best moves\", best_moves)\n",
    "\n",
    "    dprint(debug, \"=\" * 20)\n",
    "    dprint(debug, \"Finished\")\n",
    "    dprint(debug, \"best score\", best_score)\n",
    "    dprint(debug, \"best moves\", best_moves)\n",
    "    return choice(best_moves)"
   ]
  },
  {
   "cell_type": "code",
   "execution_count": 29,
   "metadata": {},
   "outputs": [],
   "source": [
    "def ai2s(mb, debug=False):\n",
    "    def eval_func(mb):\n",
    "        return 0\n",
    "\n",
    "    return ai_by_score(mb, eval_func, debug=debug)"
   ]
  },
  {
   "cell_type": "code",
   "execution_count": 30,
   "metadata": {},
   "outputs": [],
   "source": [
    "def ai3s(mb, debug=False):\n",
    "    def eval_func(mb):\n",
    "        if mb.last_move == (1, 1):\n",
    "            return 1\n",
    "        else:\n",
    "            return 0\n",
    "\n",
    "    return ai_by_score(mb, eval_func, debug=debug)"
   ]
  },
  {
   "cell_type": "code",
   "execution_count": 31,
   "metadata": {},
   "outputs": [
    {
     "name": "stdout",
     "output_type": "stream",
     "text": [
      "ai2s VS ai2\n",
      "count     win    lose    draw\n",
      "o        5921    2868    1211\n",
      "x        2923    5830    1247\n",
      "total    8844    8698    2458\n",
      "\n",
      "ratio     win    lose    draw\n",
      "o       59.2%   28.7%   12.1%\n",
      "x       29.2%   58.3%   12.5%\n",
      "total   44.2%   43.5%   12.3%\n",
      "\n"
     ]
    }
   ],
   "source": [
    "from ai import ai_match, ai2, ai3\n",
    "\n",
    "ai_match(ai=[ai2s, ai2])"
   ]
  },
  {
   "cell_type": "code",
   "execution_count": 32,
   "metadata": {},
   "outputs": [
    {
     "name": "stdout",
     "output_type": "stream",
     "text": [
      "ai3s VS ai3\n",
      "count     win    lose    draw\n",
      "o        6848    1945    1207\n",
      "x        1849    7095    1056\n",
      "total    8697    9040    2263\n",
      "\n",
      "ratio     win    lose    draw\n",
      "o       68.5%   19.4%   12.1%\n",
      "x       18.5%   71.0%   10.6%\n",
      "total   43.5%   45.2%   11.3%\n",
      "\n"
     ]
    }
   ],
   "source": [
    "ai_match(ai=[ai3s, ai3])"
   ]
  },
  {
   "cell_type": "code",
   "execution_count": 33,
   "metadata": {},
   "outputs": [
    {
     "name": "stdout",
     "output_type": "stream",
     "text": [
      "Start ai_by_score\n",
      "Turn o\n",
      "...\n",
      "...\n",
      "...\n",
      "\n",
      "legal_moves [(0, 0), (1, 0), (2, 0), (0, 1), (1, 1), (2, 1), (0, 2), (1, 2), (2, 2)]\n",
      "====================\n",
      "move (0, 0)\n",
      "Turn x\n",
      "O..\n",
      "...\n",
      "...\n",
      "\n",
      "score 0 best score -inf\n",
      "UPDATE\n",
      "  best score 0\n",
      "  best moves [(0, 0)]\n",
      "====================\n",
      "move (1, 0)\n",
      "Turn x\n",
      ".O.\n",
      "...\n",
      "...\n",
      "\n",
      "score 0 best score 0\n",
      "APPEND\n",
      "  best moves [(0, 0), (1, 0)]\n",
      "====================\n",
      "move (2, 0)\n",
      "Turn x\n",
      "..O\n",
      "...\n",
      "...\n",
      "\n",
      "score 0 best score 0\n",
      "APPEND\n",
      "  best moves [(0, 0), (1, 0), (2, 0)]\n",
      "====================\n",
      "move (0, 1)\n",
      "Turn x\n",
      "...\n",
      "O..\n",
      "...\n",
      "\n",
      "score 0 best score 0\n",
      "APPEND\n",
      "  best moves [(0, 0), (1, 0), (2, 0), (0, 1)]\n",
      "====================\n",
      "move (1, 1)\n",
      "Turn x\n",
      "...\n",
      ".O.\n",
      "...\n",
      "\n",
      "score 1 best score 0\n",
      "UPDATE\n",
      "  best score 1\n",
      "  best moves [(1, 1)]\n",
      "====================\n",
      "move (2, 1)\n",
      "Turn x\n",
      "...\n",
      "..O\n",
      "...\n",
      "\n",
      "score 0 best score 1\n",
      "====================\n",
      "move (0, 2)\n",
      "Turn x\n",
      "...\n",
      "...\n",
      "O..\n",
      "\n",
      "score 0 best score 1\n",
      "====================\n",
      "move (1, 2)\n",
      "Turn x\n",
      "...\n",
      "...\n",
      ".O.\n",
      "\n",
      "score 0 best score 1\n",
      "====================\n",
      "move (2, 2)\n",
      "Turn x\n",
      "...\n",
      "...\n",
      "..O\n",
      "\n",
      "score 0 best score 1\n",
      "====================\n",
      "Finished\n",
      "best score 1\n",
      "best moves [(1, 1)]\n"
     ]
    },
    {
     "data": {
      "text/plain": [
       "(1, 1)"
      ]
     },
     "execution_count": 33,
     "metadata": {},
     "output_type": "execute_result"
    }
   ],
   "source": [
    "from marubatsu import Marubatsu\n",
    "\n",
    "mb = Marubatsu()\n",
    "ai3s(mb, debug=True)"
   ]
  }
 ],
 "metadata": {
  "kernelspec": {
   "display_name": "marubatsu",
   "language": "python",
   "name": "python3"
  },
  "language_info": {
   "codemirror_mode": {
    "name": "ipython",
    "version": 3
   },
   "file_extension": ".py",
   "mimetype": "text/x-python",
   "name": "python",
   "nbconvert_exporter": "python",
   "pygments_lexer": "ipython3",
   "version": "3.11.4"
  }
 },
 "nbformat": 4,
 "nbformat_minor": 2
}
