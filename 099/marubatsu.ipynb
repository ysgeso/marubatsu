{
 "cells": [
  {
   "cell_type": "code",
   "execution_count": 1,
   "metadata": {},
   "outputs": [],
   "source": [
    "from tree import Mbtree \n",
    "import pickle\n",
    "\n",
    "def save(self, fname):\n",
    "    with open(f\"{fname}.mbtree\", \"wb\") as f:\n",
    "        pickle.dump(self, f)\n",
    "        print(\"save completed.\")\n",
    "        \n",
    "Mbtree.save = save "
   ]
  },
  {
   "cell_type": "code",
   "execution_count": 2,
   "metadata": {},
   "outputs": [
    {
     "name": "stdout",
     "output_type": "stream",
     "text": [
      "     9 depth 1 node created\n",
      "    72 depth 2 node created\n",
      "   504 depth 3 node created\n",
      "  3024 depth 4 node created\n",
      " 15120 depth 5 node created\n",
      " 54720 depth 6 node created\n",
      "148176 depth 7 node created\n",
      "200448 depth 8 node created\n",
      "127872 depth 9 node created\n",
      "     0 depth 10 node created\n",
      "total node num = 549946\n",
      "save completed.\n"
     ]
    }
   ],
   "source": [
    "mbtree = Mbtree()\n",
    "mbtree.save(\"bftree\")"
   ]
  },
  {
   "cell_type": "code",
   "execution_count": 3,
   "metadata": {},
   "outputs": [],
   "source": [
    "@staticmethod\n",
    "def load(fname):\n",
    "    with open(f\"{fname}.mbtree\", \"rb\") as f:\n",
    "        return pickle.load(f)\n",
    "\n",
    "Mbtree.load = load"
   ]
  },
  {
   "cell_type": "code",
   "execution_count": 4,
   "metadata": {},
   "outputs": [
    {
     "data": {
      "application/vnd.jupyter.widget-view+json": {
       "model_id": "6ea6159b54604d978b4fc13a27826095",
       "version_major": 2,
       "version_minor": 0
      },
      "text/plain": [
       "VBox(children=(HBox(children=(Play(value=0, interval=500, max=549945), IntSlider(value=0, description='frame',…"
      ]
     },
     "metadata": {},
     "output_type": "display_data"
    }
   ],
   "source": [
    "from tree import Mbtree_Anim\n",
    "mbtree_bf = Mbtree.load(fname=\"bftree\")\n",
    "mbtree_anim = Mbtree_Anim(mbtree_bf)"
   ]
  },
  {
   "cell_type": "code",
   "execution_count": 5,
   "metadata": {},
   "outputs": [],
   "source": [
    "def __init__(self, fname=None):\n",
    "    if fname is None:\n",
    "        Node.count = 0\n",
    "        self.root = Node(Marubatsu())\n",
    "        self.create_tree_by_bf()\n",
    "    else:\n",
    "        with open(f\"{fname}.mbtree\", \"rb\") as f:\n",
    "            return pickle.load(f)  \n",
    "\n",
    "Mbtree.__init__ = __init__"
   ]
  },
  {
   "cell_type": "code",
   "execution_count": 6,
   "metadata": {},
   "outputs": [
    {
     "ename": "TypeError",
     "evalue": "__init__() should return None, not 'Mbtree'",
     "output_type": "error",
     "traceback": [
      "\u001b[1;31m---------------------------------------------------------------------------\u001b[0m",
      "\u001b[1;31mTypeError\u001b[0m                                 Traceback (most recent call last)",
      "Cell \u001b[1;32mIn[6], line 1\u001b[0m\n\u001b[1;32m----> 1\u001b[0m mbtree_bf \u001b[38;5;241m=\u001b[39m Mbtree(\u001b[38;5;124m\"\u001b[39m\u001b[38;5;124mbftree\u001b[39m\u001b[38;5;124m\"\u001b[39m)\n",
      "\u001b[1;31mTypeError\u001b[0m: __init__() should return None, not 'Mbtree'"
     ]
    }
   ],
   "source": [
    "mbtree_bf = Mbtree(\"bftree\")"
   ]
  },
  {
   "cell_type": "code",
   "execution_count": 7,
   "metadata": {},
   "outputs": [],
   "source": [
    "import gzip\n",
    "\n",
    "def save(self, fname):\n",
    "    with gzip.open(f\"{fname}.mbtree\", \"wb\") as f:\n",
    "        pickle.dump(self, f)\n",
    "        print(\"save completed.\")\n",
    "        \n",
    "Mbtree.save = save \n",
    "\n",
    "@staticmethod\n",
    "def load(fname):\n",
    "    with gzip.open(f\"{fname}.mbtree\", \"rb\") as f:\n",
    "        return pickle.load(f)\n",
    "\n",
    "Mbtree.load = load  "
   ]
  },
  {
   "cell_type": "code",
   "execution_count": 8,
   "metadata": {},
   "outputs": [
    {
     "name": "stdout",
     "output_type": "stream",
     "text": [
      "save completed.\n"
     ]
    }
   ],
   "source": [
    "mbtree.save(\"bftree\")"
   ]
  },
  {
   "cell_type": "code",
   "execution_count": 9,
   "metadata": {},
   "outputs": [
    {
     "data": {
      "application/vnd.jupyter.widget-view+json": {
       "model_id": "ca52ee90ad1942bca3a7885bcd42e5ee",
       "version_major": 2,
       "version_minor": 0
      },
      "text/plain": [
       "VBox(children=(HBox(children=(Play(value=0, interval=500, max=549945), IntSlider(value=0, description='frame',…"
      ]
     },
     "metadata": {},
     "output_type": "display_data"
    }
   ],
   "source": [
    "mbtree_bf = Mbtree.load(\"bftree\")\n",
    "mbtree_anim = Mbtree_Anim(mbtree_bf)"
   ]
  },
  {
   "cell_type": "code",
   "execution_count": 10,
   "metadata": {},
   "outputs": [],
   "source": [
    "from tree import Node, Mbtree\n",
    "from marubatsu import Marubatsu\n",
    "\n",
    "def __init__(self, algo=\"bf\"):\n",
    "    self.algo = algo\n",
    "    Node.count = 0\n",
    "    self.root = Node(Marubatsu())\n",
    "    if self.algo == \"bf\":  \n",
    "        self.create_tree_by_bf()\n",
    "    else:\n",
    "        self.create_tree_by_df()\n",
    "        \n",
    "Mbtree.__init__ = __init__"
   ]
  },
  {
   "cell_type": "code",
   "execution_count": 11,
   "metadata": {},
   "outputs": [],
   "source": [
    "def create_tree_by_df(self):\n",
    "    self.nodelist = [self.root]\n",
    "\n",
    "Mbtree.create_tree_by_df = create_tree_by_df    "
   ]
  },
  {
   "cell_type": "code",
   "execution_count": 12,
   "metadata": {},
   "outputs": [],
   "source": [
    "def create_tree_by_df(self):\n",
    "    self.nodelist = [self.root]\n",
    "    self.nodelist_by_depth = [[] for _ in range(10)]\n",
    "    self.nodelist_by_depth[0].append(self.root)\n",
    "    \n",
    "Mbtree.create_tree_by_df = create_tree_by_df"
   ]
  },
  {
   "cell_type": "code",
   "execution_count": 13,
   "metadata": {},
   "outputs": [],
   "source": [
    "def create_tree_by_df(self):\n",
    "    self.nodelist = [self.root]\n",
    "    self.nodelist_by_depth = [[] for _ in range(10)]\n",
    "    self.nodelist_by_depth[0].append(self.root)\n",
    "    self.nodenum = 1\n",
    "    \n",
    "Mbtree.create_tree_by_df = create_tree_by_df"
   ]
  },
  {
   "cell_type": "code",
   "execution_count": 14,
   "metadata": {},
   "outputs": [],
   "source": [
    "def create_tree_by_df(self):\n",
    "    self.nodelist = [self.root]\n",
    "    self.nodelist_by_depth = [[] for _ in range(10)]\n",
    "    self.nodelist_by_depth[0].append(self.root)\n",
    "    self.nodenum = 0\n",
    "\n",
    "    N = self.root\n",
    "    \n",
    "Mbtree.create_tree_by_df = create_tree_by_df"
   ]
  },
  {
   "cell_type": "code",
   "execution_count": 15,
   "metadata": {},
   "outputs": [],
   "source": [
    "def create_tree_by_df(self):\n",
    "    self.nodelist = [self.root]\n",
    "    self.nodelist_by_depth = [[] for _ in range(10)]\n",
    "    self.nodelist_by_depth[0].append(self.root)\n",
    "    self.nodenum = 0\n",
    "    \n",
    "    N = self.root\n",
    "    \n",
    "    legal_moves = N.mb.calc_legal_moves()\n",
    "    childnum = len(N.children)\n",
    "    if N.mb.status == Marubatsu.PLAYING and childnum < len(legal_moves):\n",
    "        pass\n",
    "    else:\n",
    "        pass\n",
    "    \n",
    "Mbtree.create_tree_by_df = create_tree_by_df"
   ]
  },
  {
   "cell_type": "code",
   "execution_count": 16,
   "metadata": {},
   "outputs": [],
   "source": [
    "from copy import deepcopy\n",
    "\n",
    "def create_tree_by_df(self):\n",
    "    self.nodelist = [self.root]\n",
    "    self.nodelist_by_depth = [[] for _ in range(10)]\n",
    "    self.nodelist_by_depth[0].append(self.root)\n",
    "    self.nodenum = 0\n",
    "    \n",
    "    N = self.root\n",
    "    \n",
    "    while True:\n",
    "        legal_moves = N.mb.calc_legal_moves()\n",
    "        childnum = len(N.children)\n",
    "        if N.mb.status == Marubatsu.PLAYING and childnum < len(legal_moves):\n",
    "            x, y = legal_moves[childnum]\n",
    "            mb = deepcopy(N.mb)\n",
    "            mb.move(x, y)\n",
    "            node = Node(mb, parent=N, depth=N.depth + 1)\n",
    "            N.insert(node)\n",
    "            self.nodelist.append(node)\n",
    "            self.nodelist_by_depth[N.depth + 1].append(node)\n",
    "            self.nodenum += 1\n",
    "            N = node\n",
    "        else:\n",
    "            pass\n",
    "    \n",
    "Mbtree.create_tree_by_df = create_tree_by_df"
   ]
  },
  {
   "cell_type": "code",
   "execution_count": 17,
   "metadata": {},
   "outputs": [],
   "source": [
    "def create_tree_by_df(self):\n",
    "    self.nodelist = [self.root]\n",
    "    self.nodelist_by_depth = [[] for _ in range(10)]\n",
    "    self.nodelist_by_depth[0].append(self.root)\n",
    "    self.nodenum = 0\n",
    "    \n",
    "    N = self.root\n",
    "    \n",
    "    while True:\n",
    "        legal_moves = N.mb.calc_legal_moves()\n",
    "        childnum = len(N.children)\n",
    "        if N.mb.status == Marubatsu.PLAYING and childnum < len(legal_moves):\n",
    "            x, y = legal_moves[childnum]\n",
    "            mb = deepcopy(N.mb)\n",
    "            mb.move(x, y)\n",
    "            node = Node(mb, parent=N, depth=N.depth + 1)\n",
    "            N.insert(node)\n",
    "            self.nodelist.append(node)\n",
    "            self.nodelist_by_depth[N.depth + 1].append(node)\n",
    "            self.nodenum += 1\n",
    "            N = node\n",
    "        else:\n",
    "            if N.parent is None:\n",
    "                break\n",
    "            else:\n",
    "                N = N.parent\n",
    "\n",
    "    print(f\"total node num = {self.nodenum}\")\n",
    "    \n",
    "Mbtree.create_tree_by_df = create_tree_by_df"
   ]
  },
  {
   "cell_type": "code",
   "execution_count": 18,
   "metadata": {},
   "outputs": [],
   "source": [
    "def create_tree_by_df(self):\n",
    "    self.nodelist = [self.root]\n",
    "    self.nodelist_by_depth = [[] for _ in range(10)]\n",
    "    self.nodelist_by_depth[0].append(self.root)\n",
    "    self.nodenum = 0\n",
    "    \n",
    "    N = self.root\n",
    "    \n",
    "    while N is not None:\n",
    "        legal_moves = N.mb.calc_legal_moves()\n",
    "        childnum = len(N.children)\n",
    "        if N.mb.status == Marubatsu.PLAYING and childnum < len(legal_moves):\n",
    "            x, y = legal_moves[childnum]\n",
    "            mb = deepcopy(N.mb)\n",
    "            mb.move(x, y)\n",
    "            node = Node(mb, parent=N, depth=N.depth + 1)\n",
    "            N.insert(node)\n",
    "            self.nodelist.append(node)\n",
    "            self.nodelist_by_depth[N.depth + 1].append(node)\n",
    "            self.nodenum += 1\n",
    "            N = node\n",
    "        else:\n",
    "            N = N.parent\n",
    "                \n",
    "    print(f\"total node num = {self.nodenum}\")\n",
    "    \n",
    "Mbtree.create_tree_by_df = create_tree_by_df"
   ]
  },
  {
   "cell_type": "code",
   "execution_count": 19,
   "metadata": {},
   "outputs": [
    {
     "name": "stdout",
     "output_type": "stream",
     "text": [
      "total node num = 549945\n"
     ]
    }
   ],
   "source": [
    "mbtree_df = Mbtree(algo=\"df\")"
   ]
  },
  {
   "cell_type": "code",
   "execution_count": 20,
   "metadata": {},
   "outputs": [
    {
     "data": {
      "application/vnd.jupyter.widget-view+json": {
       "model_id": "2184cc5f2e154ddbad443fcb801e5244",
       "version_major": 2,
       "version_minor": 0
      },
      "text/plain": [
       "VBox(children=(Output(), HBox(children=(Label(value='', layout=Layout(width='50px')), Button(description='↑', …"
      ]
     },
     "metadata": {},
     "output_type": "display_data"
    }
   ],
   "source": [
    "from tree import Mbtree_GUI\n",
    "mbtree_gui = Mbtree_GUI(mbtree_df)"
   ]
  },
  {
   "cell_type": "code",
   "execution_count": 21,
   "metadata": {},
   "outputs": [
    {
     "data": {
      "application/vnd.jupyter.widget-view+json": {
       "model_id": "5c177f7c663c4a4db6983eb4275a6eff",
       "version_major": 2,
       "version_minor": 0
      },
      "text/plain": [
       "VBox(children=(HBox(children=(Play(value=0, interval=500, max=549944), IntSlider(value=0, description='frame',…"
      ]
     },
     "metadata": {},
     "output_type": "display_data"
    }
   ],
   "source": [
    "mbtree_anim = Mbtree_Anim(mbtree_df)"
   ]
  },
  {
   "cell_type": "code",
   "execution_count": 22,
   "metadata": {},
   "outputs": [],
   "source": [
    "import matplotlib.patches as patches\n",
    "\n",
    "def update_gui(self):\n",
    "    self.ax.clear()\n",
    "    self.ax.set_xlim(-1, self.width - 1)\n",
    "    self.ax.set_ylim(0, self.height)   \n",
    "    self.ax.invert_yaxis()\n",
    "    self.ax.axis(\"off\")   \n",
    "    \n",
    "    self.selectednode = self.mbtree.nodelist[self.play.value]\n",
    "    self.centernode = self.selectednode\n",
    "    if self.mbtree.algo == \"bf\":\n",
    "        if self.centernode.depth > 0:\n",
    "            self.centernode = self.centernode.parent\n",
    "    while self.centernode.depth > 6:\n",
    "        self.centernode = self.centernode.parent\n",
    "    if self.centernode.depth <= 4:\n",
    "        maxdepth = self.centernode.depth + 1\n",
    "    elif self.centernode.depth == 5:\n",
    "        maxdepth = 7\n",
    "    else:\n",
    "        maxdepth = 9\n",
    "    self.mbtree.draw_subtree(centernode=self.centernode, selectednode=self.selectednode, ax=self.ax, maxdepth=maxdepth)\n",
    "    for rect, node in self.mbtree.nodes_by_rect.items():\n",
    "        if node.id > self.play.value:\n",
    "            self.ax.add_artist(patches.Rectangle(xy=(rect.x, rect.y), width=rect.width, height=rect.height, fc=\"black\", alpha=0.5))\n",
    "\n",
    "Mbtree_Anim.update_gui = update_gui"
   ]
  },
  {
   "cell_type": "code",
   "execution_count": 27,
   "metadata": {},
   "outputs": [
    {
     "data": {
      "application/vnd.jupyter.widget-view+json": {
       "model_id": "81840ea0655840a6ad4c3036e11eee9d",
       "version_major": 2,
       "version_minor": 0
      },
      "text/plain": [
       "VBox(children=(HBox(children=(Play(value=0, interval=500, max=549944), IntSlider(value=0, description='frame',…"
      ]
     },
     "metadata": {},
     "output_type": "display_data"
    }
   ],
   "source": [
    "mbtree_anim = Mbtree_Anim(mbtree_df)"
   ]
  },
  {
   "cell_type": "code",
   "execution_count": 24,
   "metadata": {},
   "outputs": [
    {
     "name": "stdout",
     "output_type": "stream",
     "text": [
      "save completed.\n"
     ]
    }
   ],
   "source": [
    "mbtree_df.save(\"dftree\")"
   ]
  },
  {
   "cell_type": "code",
   "execution_count": 25,
   "metadata": {},
   "outputs": [
    {
     "data": {
      "application/vnd.jupyter.widget-view+json": {
       "model_id": "532c02128c614d979c9f8107dd7b3b27",
       "version_major": 2,
       "version_minor": 0
      },
      "text/plain": [
       "VBox(children=(HBox(children=(Play(value=0, interval=500, max=549945), IntSlider(value=0, description='frame',…"
      ]
     },
     "metadata": {},
     "output_type": "display_data"
    },
    {
     "ename": "AttributeError",
     "evalue": "'Mbtree' object has no attribute 'algo'",
     "output_type": "error",
     "traceback": [
      "\u001b[1;31m---------------------------------------------------------------------------\u001b[0m",
      "\u001b[1;31mAttributeError\u001b[0m                            Traceback (most recent call last)",
      "Cell \u001b[1;32mIn[25], line 1\u001b[0m\n\u001b[1;32m----> 1\u001b[0m Mbtree_Anim(mbtree_bf)\n",
      "File \u001b[1;32mc:\\Users\\ys\\ai\\marubatsu\\099\\tree.py:549\u001b[0m, in \u001b[0;36mMbtree_Anim.__init__\u001b[1;34m(self, mbtree, size)\u001b[0m\n\u001b[0;32m    547\u001b[0m \u001b[38;5;28mself\u001b[39m\u001b[38;5;241m.\u001b[39mwidth \u001b[38;5;241m=\u001b[39m \u001b[38;5;241m50\u001b[39m\n\u001b[0;32m    548\u001b[0m \u001b[38;5;28mself\u001b[39m\u001b[38;5;241m.\u001b[39mheight \u001b[38;5;241m=\u001b[39m \u001b[38;5;241m64\u001b[39m\n\u001b[1;32m--> 549\u001b[0m \u001b[38;5;28msuper\u001b[39m()\u001b[38;5;241m.\u001b[39m\u001b[38;5;21m__init__\u001b[39m()\n",
      "File \u001b[1;32mc:\\Users\\ys\\ai\\marubatsu\\099\\gui.py:16\u001b[0m, in \u001b[0;36mGUI.__init__\u001b[1;34m(self)\u001b[0m\n\u001b[0;32m     14\u001b[0m \u001b[38;5;28mself\u001b[39m\u001b[38;5;241m.\u001b[39mcreate_event_handler()\n\u001b[0;32m     15\u001b[0m \u001b[38;5;28mself\u001b[39m\u001b[38;5;241m.\u001b[39mdisplay_widgets() \n\u001b[1;32m---> 16\u001b[0m \u001b[38;5;28mself\u001b[39m\u001b[38;5;241m.\u001b[39mupdate_gui()\n",
      "Cell \u001b[1;32mIn[22], line 12\u001b[0m, in \u001b[0;36mupdate_gui\u001b[1;34m(self)\u001b[0m\n\u001b[0;32m     10\u001b[0m \u001b[38;5;28mself\u001b[39m\u001b[38;5;241m.\u001b[39mselectednode \u001b[38;5;241m=\u001b[39m \u001b[38;5;28mself\u001b[39m\u001b[38;5;241m.\u001b[39mmbtree\u001b[38;5;241m.\u001b[39mnodelist[\u001b[38;5;28mself\u001b[39m\u001b[38;5;241m.\u001b[39mplay\u001b[38;5;241m.\u001b[39mvalue]\n\u001b[0;32m     11\u001b[0m \u001b[38;5;28mself\u001b[39m\u001b[38;5;241m.\u001b[39mcenternode \u001b[38;5;241m=\u001b[39m \u001b[38;5;28mself\u001b[39m\u001b[38;5;241m.\u001b[39mselectednode\n\u001b[1;32m---> 12\u001b[0m \u001b[38;5;28;01mif\u001b[39;00m \u001b[38;5;28mself\u001b[39m\u001b[38;5;241m.\u001b[39mmbtree\u001b[38;5;241m.\u001b[39malgo \u001b[38;5;241m==\u001b[39m \u001b[38;5;124m\"\u001b[39m\u001b[38;5;124mbf\u001b[39m\u001b[38;5;124m\"\u001b[39m:\n\u001b[0;32m     13\u001b[0m     \u001b[38;5;28;01mif\u001b[39;00m \u001b[38;5;28mself\u001b[39m\u001b[38;5;241m.\u001b[39mcenternode\u001b[38;5;241m.\u001b[39mdepth \u001b[38;5;241m>\u001b[39m \u001b[38;5;241m0\u001b[39m:\n\u001b[0;32m     14\u001b[0m         \u001b[38;5;28mself\u001b[39m\u001b[38;5;241m.\u001b[39mcenternode \u001b[38;5;241m=\u001b[39m \u001b[38;5;28mself\u001b[39m\u001b[38;5;241m.\u001b[39mcenternode\u001b[38;5;241m.\u001b[39mparent\n",
      "\u001b[1;31mAttributeError\u001b[0m: 'Mbtree' object has no attribute 'algo'"
     ]
    }
   ],
   "source": [
    "Mbtree_Anim(mbtree_bf)"
   ]
  },
  {
   "cell_type": "code",
   "execution_count": 26,
   "metadata": {},
   "outputs": [
    {
     "name": "stdout",
     "output_type": "stream",
     "text": [
      "     9 depth 1 node created\n",
      "    72 depth 2 node created\n",
      "   504 depth 3 node created\n",
      "  3024 depth 4 node created\n",
      " 15120 depth 5 node created\n",
      " 54720 depth 6 node created\n",
      "148176 depth 7 node created\n",
      "200448 depth 8 node created\n",
      "127872 depth 9 node created\n",
      "     0 depth 10 node created\n",
      "total node num = 549946\n",
      "save completed.\n"
     ]
    }
   ],
   "source": [
    "mbtree_bf = Mbtree()\n",
    "mbtree_bf.save(\"bftree\")"
   ]
  }
 ],
 "metadata": {
  "kernelspec": {
   "display_name": "marubatsu",
   "language": "python",
   "name": "python3"
  },
  "language_info": {
   "codemirror_mode": {
    "name": "ipython",
    "version": 3
   },
   "file_extension": ".py",
   "mimetype": "text/x-python",
   "name": "python",
   "nbconvert_exporter": "python",
   "pygments_lexer": "ipython3",
   "version": "3.11.4"
  }
 },
 "nbformat": 4,
 "nbformat_minor": 2
}
