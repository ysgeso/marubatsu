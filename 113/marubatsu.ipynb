{
 "cells": [
  {
   "cell_type": "code",
   "execution_count": 1,
   "metadata": {},
   "outputs": [
    {
     "name": "stdout",
     "output_type": "stream",
     "text": [
      "Turn o\n",
      "...\n",
      "...\n",
      "...\n",
      "\n",
      "Turn x\n",
      "...\n",
      "..O\n",
      "...\n",
      "\n",
      "Turn o\n",
      "...\n",
      "X.o\n",
      "...\n",
      "\n",
      "Turn x\n",
      "...\n",
      "x.o\n",
      "..O\n",
      "\n",
      "Turn o\n",
      "..X\n",
      "x.o\n",
      "..o\n",
      "\n",
      "Turn x\n",
      "O.x\n",
      "x.o\n",
      "..o\n",
      "\n",
      "Turn o\n",
      "o.x\n",
      "xXo\n",
      "..o\n",
      "\n",
      "Turn x\n",
      "o.x\n",
      "xxo\n",
      "O.o\n",
      "\n",
      "Turn o\n",
      "o.x\n",
      "xxo\n",
      "oXo\n",
      "\n",
      "winner draw\n",
      "oOx\n",
      "xxo\n",
      "oxo\n",
      "\n"
     ]
    },
    {
     "data": {
      "text/plain": [
       "'draw'"
      ]
     },
     "execution_count": 1,
     "metadata": {},
     "output_type": "execute_result"
    }
   ],
   "source": [
    "from marubatsu import Marubatsu\n",
    "from util import load_bestmoves\n",
    "from ai import ai_gt6\n",
    "\n",
    "bestmoves_by_board = load_bestmoves(\"../data/bestmoves_by_board.dat\")\n",
    "param = {\"bestmoves_by_board\": bestmoves_by_board}\n",
    "mb = Marubatsu()\n",
    "mb.play(ai=[ai_gt6, ai_gt6], params=[param, param])"
   ]
  },
  {
   "cell_type": "code",
   "execution_count": 2,
   "metadata": {},
   "outputs": [
    {
     "data": {
      "application/vnd.jupyter.widget-view+json": {
       "model_id": "78e8b4e4edb143658a20e796f87df861",
       "version_major": 2,
       "version_minor": 0
      },
      "text/plain": [
       "VBox(children=(HBox(children=(Checkbox(value=False, description='乱数の種', indent=False, layout=Layout(width='100…"
      ]
     },
     "metadata": {},
     "output_type": "display_data"
    },
    {
     "data": {
      "text/plain": [
       "'draw'"
      ]
     },
     "execution_count": 2,
     "metadata": {},
     "output_type": "execute_result"
    }
   ],
   "source": [
    "mb.play(ai=[ai_gt6, ai_gt6], params=[param, param], gui=True)"
   ]
  },
  {
   "cell_type": "code",
   "execution_count": 3,
   "metadata": {},
   "outputs": [
    {
     "data": {
      "application/vnd.jupyter.widget-view+json": {
       "model_id": "fe39cf9847cf4a20862153917c2507c0",
       "version_major": 2,
       "version_minor": 0
      },
      "text/plain": [
       "VBox(children=(HBox(children=(Checkbox(value=False, description='乱数の種', indent=False, layout=Layout(width='100…"
      ]
     },
     "metadata": {},
     "output_type": "display_data"
    },
    {
     "ename": "TypeError",
     "evalue": "ai_gt6() missing 1 required positional argument: 'bestmoves_by_board'",
     "output_type": "error",
     "traceback": [
      "\u001b[1;31m---------------------------------------------------------------------------\u001b[0m",
      "\u001b[1;31mTypeError\u001b[0m                                 Traceback (most recent call last)",
      "File \u001b[1;32mc:\\Users\\ys\\Anaconda3\\envs\\marubatsu\\Lib\\site-packages\\ipympl\\backend_nbagg.py:279\u001b[0m, in \u001b[0;36mCanvas._handle_message\u001b[1;34m(self, object, content, buffers)\u001b[0m\n\u001b[0;32m    276\u001b[0m     \u001b[38;5;28mself\u001b[39m\u001b[38;5;241m.\u001b[39mmanager\u001b[38;5;241m.\u001b[39mhandle_json(content)\n\u001b[0;32m    278\u001b[0m \u001b[38;5;28;01melse\u001b[39;00m:\n\u001b[1;32m--> 279\u001b[0m     \u001b[38;5;28mself\u001b[39m\u001b[38;5;241m.\u001b[39mmanager\u001b[38;5;241m.\u001b[39mhandle_json(content)\n",
      "File \u001b[1;32mc:\\Users\\ys\\Anaconda3\\envs\\marubatsu\\Lib\\site-packages\\matplotlib\\backends\\backend_webagg_core.py:464\u001b[0m, in \u001b[0;36mFigureManagerWebAgg.handle_json\u001b[1;34m(self, content)\u001b[0m\n\u001b[0;32m    463\u001b[0m \u001b[38;5;28;01mdef\u001b[39;00m \u001b[38;5;21mhandle_json\u001b[39m(\u001b[38;5;28mself\u001b[39m, content):\n\u001b[1;32m--> 464\u001b[0m     \u001b[38;5;28mself\u001b[39m\u001b[38;5;241m.\u001b[39mcanvas\u001b[38;5;241m.\u001b[39mhandle_event(content)\n",
      "File \u001b[1;32mc:\\Users\\ys\\Anaconda3\\envs\\marubatsu\\Lib\\site-packages\\matplotlib\\backends\\backend_webagg_core.py:264\u001b[0m, in \u001b[0;36mFigureCanvasWebAggCore.handle_event\u001b[1;34m(self, event)\u001b[0m\n\u001b[0;32m    261\u001b[0m e_type \u001b[38;5;241m=\u001b[39m event[\u001b[38;5;124m'\u001b[39m\u001b[38;5;124mtype\u001b[39m\u001b[38;5;124m'\u001b[39m]\n\u001b[0;32m    262\u001b[0m handler \u001b[38;5;241m=\u001b[39m \u001b[38;5;28mgetattr\u001b[39m(\u001b[38;5;28mself\u001b[39m, \u001b[38;5;124mf\u001b[39m\u001b[38;5;124m'\u001b[39m\u001b[38;5;124mhandle_\u001b[39m\u001b[38;5;132;01m{\u001b[39;00me_type\u001b[38;5;132;01m}\u001b[39;00m\u001b[38;5;124m'\u001b[39m,\n\u001b[0;32m    263\u001b[0m                   \u001b[38;5;28mself\u001b[39m\u001b[38;5;241m.\u001b[39mhandle_unknown_event)\n\u001b[1;32m--> 264\u001b[0m \u001b[38;5;28;01mreturn\u001b[39;00m handler(event)\n",
      "File \u001b[1;32mc:\\Users\\ys\\Anaconda3\\envs\\marubatsu\\Lib\\site-packages\\matplotlib\\backends\\backend_webagg_core.py:294\u001b[0m, in \u001b[0;36mFigureCanvasWebAggCore._handle_mouse\u001b[1;34m(self, event)\u001b[0m\n\u001b[0;32m    291\u001b[0m guiEvent \u001b[38;5;241m=\u001b[39m event\u001b[38;5;241m.\u001b[39mget(\u001b[38;5;124m'\u001b[39m\u001b[38;5;124mguiEvent\u001b[39m\u001b[38;5;124m'\u001b[39m)\n\u001b[0;32m    292\u001b[0m \u001b[38;5;28;01mif\u001b[39;00m e_type \u001b[38;5;129;01min\u001b[39;00m [\u001b[38;5;124m'\u001b[39m\u001b[38;5;124mbutton_press\u001b[39m\u001b[38;5;124m'\u001b[39m, \u001b[38;5;124m'\u001b[39m\u001b[38;5;124mbutton_release\u001b[39m\u001b[38;5;124m'\u001b[39m]:\n\u001b[0;32m    293\u001b[0m     MouseEvent(e_type \u001b[38;5;241m+\u001b[39m \u001b[38;5;124m'\u001b[39m\u001b[38;5;124m_event\u001b[39m\u001b[38;5;124m'\u001b[39m, \u001b[38;5;28mself\u001b[39m, x, y, button,\n\u001b[1;32m--> 294\u001b[0m                modifiers\u001b[38;5;241m=\u001b[39mmodifiers, guiEvent\u001b[38;5;241m=\u001b[39mguiEvent)\u001b[38;5;241m.\u001b[39m_process()\n\u001b[0;32m    295\u001b[0m \u001b[38;5;28;01melif\u001b[39;00m e_type \u001b[38;5;241m==\u001b[39m \u001b[38;5;124m'\u001b[39m\u001b[38;5;124mdblclick\u001b[39m\u001b[38;5;124m'\u001b[39m:\n\u001b[0;32m    296\u001b[0m     MouseEvent(\u001b[38;5;124m'\u001b[39m\u001b[38;5;124mbutton_press_event\u001b[39m\u001b[38;5;124m'\u001b[39m, \u001b[38;5;28mself\u001b[39m, x, y, button, dblclick\u001b[38;5;241m=\u001b[39m\u001b[38;5;28;01mTrue\u001b[39;00m,\n\u001b[0;32m    297\u001b[0m                modifiers\u001b[38;5;241m=\u001b[39mmodifiers, guiEvent\u001b[38;5;241m=\u001b[39mguiEvent)\u001b[38;5;241m.\u001b[39m_process()\n",
      "File \u001b[1;32mc:\\Users\\ys\\Anaconda3\\envs\\marubatsu\\Lib\\site-packages\\matplotlib\\backend_bases.py:1271\u001b[0m, in \u001b[0;36mEvent._process\u001b[1;34m(self)\u001b[0m\n\u001b[0;32m   1269\u001b[0m \u001b[38;5;28;01mdef\u001b[39;00m \u001b[38;5;21m_process\u001b[39m(\u001b[38;5;28mself\u001b[39m):\n\u001b[0;32m   1270\u001b[0m \u001b[38;5;250m    \u001b[39m\u001b[38;5;124;03m\"\"\"Process this event on ``self.canvas``, then unset ``guiEvent``.\"\"\"\u001b[39;00m\n\u001b[1;32m-> 1271\u001b[0m     \u001b[38;5;28mself\u001b[39m\u001b[38;5;241m.\u001b[39mcanvas\u001b[38;5;241m.\u001b[39mcallbacks\u001b[38;5;241m.\u001b[39mprocess(\u001b[38;5;28mself\u001b[39m\u001b[38;5;241m.\u001b[39mname, \u001b[38;5;28mself\u001b[39m)\n\u001b[0;32m   1272\u001b[0m     \u001b[38;5;28mself\u001b[39m\u001b[38;5;241m.\u001b[39m_guiEvent_deleted \u001b[38;5;241m=\u001b[39m \u001b[38;5;28;01mTrue\u001b[39;00m\n",
      "File \u001b[1;32mc:\\Users\\ys\\Anaconda3\\envs\\marubatsu\\Lib\\site-packages\\matplotlib\\cbook.py:303\u001b[0m, in \u001b[0;36mCallbackRegistry.process\u001b[1;34m(self, s, *args, **kwargs)\u001b[0m\n\u001b[0;32m    301\u001b[0m \u001b[38;5;28;01mexcept\u001b[39;00m \u001b[38;5;167;01mException\u001b[39;00m \u001b[38;5;28;01mas\u001b[39;00m exc:\n\u001b[0;32m    302\u001b[0m     \u001b[38;5;28;01mif\u001b[39;00m \u001b[38;5;28mself\u001b[39m\u001b[38;5;241m.\u001b[39mexception_handler \u001b[38;5;129;01mis\u001b[39;00m \u001b[38;5;129;01mnot\u001b[39;00m \u001b[38;5;28;01mNone\u001b[39;00m:\n\u001b[1;32m--> 303\u001b[0m         \u001b[38;5;28mself\u001b[39m\u001b[38;5;241m.\u001b[39mexception_handler(exc)\n\u001b[0;32m    304\u001b[0m     \u001b[38;5;28;01melse\u001b[39;00m:\n\u001b[0;32m    305\u001b[0m         \u001b[38;5;28;01mraise\u001b[39;00m\n",
      "File \u001b[1;32mc:\\Users\\ys\\Anaconda3\\envs\\marubatsu\\Lib\\site-packages\\matplotlib\\cbook.py:87\u001b[0m, in \u001b[0;36m_exception_printer\u001b[1;34m(exc)\u001b[0m\n\u001b[0;32m     85\u001b[0m \u001b[38;5;28;01mdef\u001b[39;00m \u001b[38;5;21m_exception_printer\u001b[39m(exc):\n\u001b[0;32m     86\u001b[0m     \u001b[38;5;28;01mif\u001b[39;00m _get_running_interactive_framework() \u001b[38;5;129;01min\u001b[39;00m [\u001b[38;5;124m\"\u001b[39m\u001b[38;5;124mheadless\u001b[39m\u001b[38;5;124m\"\u001b[39m, \u001b[38;5;28;01mNone\u001b[39;00m]:\n\u001b[1;32m---> 87\u001b[0m         \u001b[38;5;28;01mraise\u001b[39;00m exc\n\u001b[0;32m     88\u001b[0m     \u001b[38;5;28;01melse\u001b[39;00m:\n\u001b[0;32m     89\u001b[0m         traceback\u001b[38;5;241m.\u001b[39mprint_exc()\n",
      "File \u001b[1;32mc:\\Users\\ys\\Anaconda3\\envs\\marubatsu\\Lib\\site-packages\\matplotlib\\cbook.py:298\u001b[0m, in \u001b[0;36mCallbackRegistry.process\u001b[1;34m(self, s, *args, **kwargs)\u001b[0m\n\u001b[0;32m    296\u001b[0m \u001b[38;5;28;01mif\u001b[39;00m func \u001b[38;5;129;01mis\u001b[39;00m \u001b[38;5;129;01mnot\u001b[39;00m \u001b[38;5;28;01mNone\u001b[39;00m:\n\u001b[0;32m    297\u001b[0m     \u001b[38;5;28;01mtry\u001b[39;00m:\n\u001b[1;32m--> 298\u001b[0m         func(\u001b[38;5;241m*\u001b[39margs, \u001b[38;5;241m*\u001b[39m\u001b[38;5;241m*\u001b[39mkwargs)\n\u001b[0;32m    299\u001b[0m     \u001b[38;5;66;03m# this does not capture KeyboardInterrupt, SystemExit,\u001b[39;00m\n\u001b[0;32m    300\u001b[0m     \u001b[38;5;66;03m# and GeneratorExit\u001b[39;00m\n\u001b[0;32m    301\u001b[0m     \u001b[38;5;28;01mexcept\u001b[39;00m \u001b[38;5;167;01mException\u001b[39;00m \u001b[38;5;28;01mas\u001b[39;00m exc:\n",
      "File \u001b[1;32mc:\\Users\\ys\\ai\\marubatsu\\113\\marubatsu.py:828\u001b[0m, in \u001b[0;36mMarubatsu_GUI.create_event_handler.<locals>.on_mouse_down\u001b[1;34m(event)\u001b[0m\n\u001b[0;32m    826\u001b[0m     \u001b[38;5;28mself\u001b[39m\u001b[38;5;241m.\u001b[39mmb\u001b[38;5;241m.\u001b[39mmove(x, y)                \n\u001b[0;32m    827\u001b[0m \u001b[38;5;66;03m# 次の手番の処理を行うメソッドを呼び出す\u001b[39;00m\n\u001b[1;32m--> 828\u001b[0m \u001b[38;5;28mself\u001b[39m\u001b[38;5;241m.\u001b[39mmb\u001b[38;5;241m.\u001b[39mplay_loop(\u001b[38;5;28mself\u001b[39m)\n",
      "File \u001b[1;32mc:\\Users\\ys\\ai\\marubatsu\\113\\marubatsu.py:396\u001b[0m, in \u001b[0;36mMarubatsu.play_loop\u001b[1;34m(self, mb_gui, params)\u001b[0m\n\u001b[0;32m    394\u001b[0m \u001b[38;5;66;03m# ai が着手を行うかどうかを判定する\u001b[39;00m\n\u001b[0;32m    395\u001b[0m \u001b[38;5;28;01mif\u001b[39;00m ai[index] \u001b[38;5;129;01mis\u001b[39;00m \u001b[38;5;129;01mnot\u001b[39;00m \u001b[38;5;28;01mNone\u001b[39;00m:\n\u001b[1;32m--> 396\u001b[0m     x, y \u001b[38;5;241m=\u001b[39m ai[index](\u001b[38;5;28mself\u001b[39m, \u001b[38;5;241m*\u001b[39m\u001b[38;5;241m*\u001b[39mparams[index])\n\u001b[0;32m    397\u001b[0m \u001b[38;5;28;01melse\u001b[39;00m:\n\u001b[0;32m    398\u001b[0m     \u001b[38;5;66;03m# キーボードからの座標の入力\u001b[39;00m\n\u001b[0;32m    399\u001b[0m     coord \u001b[38;5;241m=\u001b[39m \u001b[38;5;28minput\u001b[39m(\u001b[38;5;124m\"\u001b[39m\u001b[38;5;124mx,y の形式で座標を入力して下さい。exit を入力すると終了します\u001b[39m\u001b[38;5;124m\"\u001b[39m)\n",
      "\u001b[1;31mTypeError\u001b[0m: ai_gt6() missing 1 required positional argument: 'bestmoves_by_board'"
     ]
    }
   ],
   "source": [
    "mb.play(ai=[None, ai_gt6], params=[{}, param], gui=True)"
   ]
  },
  {
   "cell_type": "code",
   "execution_count": 4,
   "metadata": {},
   "outputs": [],
   "source": [
    "from marubatsu import Marubatsu_GUI\n",
    "from tkinter import Tk\n",
    "import os\n",
    "\n",
    "def __init__(self, mb, params=None, ai_dict=None, seed=None, size=3):\n",
    "    if params is None:\n",
    "        params = [{}, {}]\n",
    "    if ai_dict is None:\n",
    "        ai_dict = {}\n",
    "    \n",
    "    # JupyterLab からファイルダイアログを開く際に必要な前処理\n",
    "    root = Tk()\n",
    "    root.withdraw()\n",
    "    root.call('wm', 'attributes', '.', '-topmost', True)  \n",
    "\n",
    "    # save フォルダが存在しない場合は作成する\n",
    "    if not os.path.exists(\"save\"):\n",
    "        os.mkdir(\"save\")        \n",
    "    \n",
    "    self.mb = mb\n",
    "    self.ai_dict = ai_dict\n",
    "    self.params = params\n",
    "    self.seed = seed\n",
    "    self.size = size\n",
    "    \n",
    "    super(Marubatsu_GUI, self).__init__()\n",
    "    \n",
    "Marubatsu_GUI.__init__ = __init__"
   ]
  },
  {
   "cell_type": "code",
   "execution_count": 5,
   "metadata": {},
   "outputs": [],
   "source": [
    "import math\n",
    "\n",
    "def create_event_handler(self):\n",
    "    # 乱数の種のチェックボックスのイベントハンドラを定義する\n",
    "    def on_checkbox_changed(changed):\n",
    "        self.update_widgets_status()\n",
    "        \n",
    "    self.checkbox.observe(on_checkbox_changed, names=\"value\")\n",
    "\n",
    "    # 開く、保存ボタンのイベントハンドラを定義する\n",
    "    def on_load_button_clicked(b=None):\n",
    "        path = filedialog.askopenfilename(filetypes=[(\"〇×ゲーム\", \"*.mbsav\")],\n",
    "                                        initialdir=\"save\")\n",
    "        if path != \"\":\n",
    "            with open(path, \"rb\") as f:\n",
    "                data = pickle.load(f)\n",
    "                self.mb.records = data[\"records\"]\n",
    "                self.mb.ai = data[\"ai\"]\n",
    "                change_step(data[\"move_count\"])\n",
    "                for i in range(2):\n",
    "                    value = \"人間\" if self.mb.ai[i] is None else self.mb.ai[i]\n",
    "                    self.dropdown_list[i].value = value               \n",
    "                if data[\"seed\"] is not None:                   \n",
    "                    self.checkbox.value = True\n",
    "                    self.inttext.value = data[\"seed\"]\n",
    "                else:\n",
    "                    self.checkbox.value = False\n",
    "                    \n",
    "    def on_save_button_clicked(b=None):\n",
    "        name = [\"人間\" if self.mb.ai[i] is None else self.mb.ai[i].__name__\n",
    "                for i in range(2)]\n",
    "        timestr = datetime.now().strftime(\"%Y年%m月%d日 %H時%M分%S秒\")\n",
    "        fname = f\"{name[0]} VS {name[1]} {timestr}\"\n",
    "        path = filedialog.asksaveasfilename(filetypes=[(\"〇×ゲーム\", \"*.mbsav\")],\n",
    "                                            initialdir=\"save\", initialfile=fname,\n",
    "                                            defaultextension=\"mbsav\")\n",
    "        if path != \"\":\n",
    "            with open(path, \"wb\") as f:\n",
    "                data = {\n",
    "                    \"records\": self.mb.records,\n",
    "                    \"move_count\": self.mb.move_count,\n",
    "                    \"ai\": self.mb.ai,\n",
    "                    \"seed\": self.inttext.value if self.checkbox.value else None\n",
    "                }\n",
    "                pickle.dump(data, f)\n",
    "                \n",
    "    def on_help_button_clicked(b=None):\n",
    "        self.output.clear_output()\n",
    "        with self.output:\n",
    "            print(\"\"\"操作説明\n",
    "\n",
    "マスの上でクリックすることで着手を行う。\n",
    "下記の GUI で操作を行うことができる。\n",
    "()が記載されているものは、キー入力で同じ操作を行うことができることを意味する。\n",
    "なお、キー入力の操作は、ゲーム盤をクリックして選択状態にする必要がある。\n",
    "\n",
    "乱数の種\\tチェックボックスを ON にすると、右のテキストボックスの乱数の種が適用される\n",
    "開く(-,L)\\tファイルから対戦データを読み込む\n",
    "保存(+,S)\\tファイルに対戦データを保存する\n",
    "？(*,H)\\t\\tこの操作説明を表示する\n",
    "手番の担当\\tメニューからそれぞれの手番の担当を選択する\n",
    "\\t\\tメニューから選択しただけでは担当は変更されず、変更またはリセットボタンによって担当が変更される\n",
    "変更\\t\\tゲームの途中で手番の担当を変更する\n",
    "リセット\\t手番の担当を変更してゲームをリセットする\n",
    "待った(0)\\t1つ前の自分の着手をキャンセルする\n",
    "<<(↑)\\t\\t最初の局面に移動する\n",
    "<(←)\\t\\t1手前の局面に移動する\n",
    ">(→)\\t\\t1手後の局面に移動する\n",
    ">>(↓)\\t\\t最後の着手が行われた局面に移動する\n",
    "スライダー\\t現在の手数を表す。ドラッグすることで任意の手数へ移動する\n",
    "\n",
    "手数を移動した場合に、最後の着手が行われた局面でなければ、リプレイモードになる。\n",
    "リプレイモード中に着手を行うと、リプレイモードが解除され、その着手が最後の着手になる。\"\"\")\n",
    "            \n",
    "    self.load_button.on_click(on_load_button_clicked)\n",
    "    self.save_button.on_click(on_save_button_clicked)\n",
    "    self.help_button.on_click(on_help_button_clicked)\n",
    "    \n",
    "    # 変更ボタンのイベントハンドラを定義する\n",
    "    def on_change_button_clicked(b):\n",
    "        for i in range(2):\n",
    "            self.mb.ai[i] = None if self.dropdown_list[i].value == \"人間\" else self.dropdown_list[i].value\n",
    "        self.mb.play_loop(self, self.params)\n",
    "\n",
    "    # リセットボタンのイベントハンドラを定義する\n",
    "    def on_reset_button_clicked(b=None):\n",
    "        # 乱数の種のチェックボックスが ON の場合に、乱数の種の処理を行う\n",
    "        if self.checkbox.value:\n",
    "            random.seed(self.inttext.value)\n",
    "        self.mb.restart()\n",
    "        self.output.clear_output()\n",
    "        on_change_button_clicked(b)\n",
    "\n",
    "    # 待ったボタンのイベントハンドラを定義する\n",
    "    def on_undo_button_clicked(b=None):\n",
    "        if self.mb.move_count >= 2 and self.mb.move_count == len(self.mb.records) - 1:\n",
    "            self.mb.move_count -= 2\n",
    "            self.mb.records = self.mb.records[0:self.mb.move_count+1]\n",
    "            self.mb.change_step(self.mb.move_count)\n",
    "            self.update_gui()\n",
    "        \n",
    "    # イベントハンドラをボタンに結びつける\n",
    "    self.change_button.on_click(on_change_button_clicked)\n",
    "    self.reset_button.on_click(on_reset_button_clicked)   \n",
    "    self.undo_button.on_click(on_undo_button_clicked)   \n",
    "    \n",
    "    # step 手目の局面に移動する\n",
    "    def change_step(step):\n",
    "        self.mb.change_step(step)\n",
    "        # 描画を更新する\n",
    "        self.update_gui()        \n",
    "\n",
    "    def on_first_button_clicked(b=None):\n",
    "        change_step(0)\n",
    "\n",
    "    def on_prev_button_clicked(b=None):\n",
    "        change_step(self.mb.move_count - 1)\n",
    "\n",
    "    def on_next_button_clicked(b=None):\n",
    "        change_step(self.mb.move_count + 1)\n",
    "        \n",
    "    def on_last_button_clicked(b=None):\n",
    "        change_step(len(self.mb.records) - 1)\n",
    "\n",
    "    def on_slider_changed(changed):\n",
    "        if self.mb.move_count != changed[\"new\"]:\n",
    "            change_step(changed[\"new\"])\n",
    "            \n",
    "    self.first_button.on_click(on_first_button_clicked)\n",
    "    self.prev_button.on_click(on_prev_button_clicked)\n",
    "    self.next_button.on_click(on_next_button_clicked)\n",
    "    self.last_button.on_click(on_last_button_clicked)\n",
    "    self.slider.observe(on_slider_changed, names=\"value\")\n",
    "    \n",
    "    # ゲーム盤の上でマウスを押した場合のイベントハンドラ\n",
    "    def on_mouse_down(event):\n",
    "        # Axes の上でマウスを押していた場合のみ処理を行う\n",
    "        if event.inaxes and self.mb.status == Marubatsu.PLAYING:\n",
    "            x = math.floor(event.xdata)\n",
    "            y = math.floor(event.ydata)\n",
    "            with self.output:\n",
    "                self.mb.move(x, y)                \n",
    "            # 次の手番の処理を行うメソッドを呼び出す\n",
    "            self.mb.play_loop(self, self.params)\n",
    "\n",
    "    # ゲーム盤を選択した状態でキーを押した場合のイベントハンドラ\n",
    "    def on_key_press(event):\n",
    "        keymap = {\n",
    "            \"up\": on_first_button_clicked,\n",
    "            \"left\": on_prev_button_clicked,\n",
    "            \"right\": on_next_button_clicked,\n",
    "            \"down\": on_last_button_clicked,\n",
    "            \"0\": on_undo_button_clicked,\n",
    "            \"enter\": on_reset_button_clicked,            \n",
    "            \"-\": on_load_button_clicked,            \n",
    "            \"l\": on_load_button_clicked,            \n",
    "            \"+\": on_save_button_clicked,            \n",
    "            \"s\": on_save_button_clicked,            \n",
    "            \"*\": on_help_button_clicked,            \n",
    "            \"h\": on_help_button_clicked,            \n",
    "        }\n",
    "        if event.key in keymap:\n",
    "            keymap[event.key]()\n",
    "        else:\n",
    "            try:\n",
    "                num = int(event.key) - 1\n",
    "                event.inaxes = True\n",
    "                event.xdata = num % 3\n",
    "                event.ydata = 2 - (num // 3)\n",
    "                on_mouse_down(event)\n",
    "            except:\n",
    "                pass\n",
    "            \n",
    "    # fig の画像イベントハンドラを結び付ける\n",
    "    self.fig.canvas.mpl_connect(\"button_press_event\", on_mouse_down)     \n",
    "    self.fig.canvas.mpl_connect(\"key_press_event\", on_key_press)       \n",
    "    \n",
    "Marubatsu_GUI.create_event_handler = create_event_handler"
   ]
  },
  {
   "cell_type": "code",
   "execution_count": 6,
   "metadata": {},
   "outputs": [],
   "source": [
    "def play(self, ai, ai_dict=None, params=None, verbose=True, seed=None, gui=False, size=3):\n",
    "    # params が None の場合のデフォルト値を設定する\n",
    "    if params is None:\n",
    "        params = [{}, {}]\n",
    "        \n",
    "    # 一部の仮引数をインスタンスの属性に代入する\n",
    "    self.ai = ai\n",
    "    self.verbose = verbose\n",
    "    self.gui = gui\n",
    "    \n",
    "    # seed が None でない場合は、seed を乱数の種として設定する\n",
    "    if seed is not None:\n",
    "        random.seed(seed)\n",
    "\n",
    "    # gui が True の場合に、GUI の処理を行う Marubatsu_GUI のインスタンスを作成する\n",
    "    if gui:\n",
    "        mb_gui = Marubatsu_GUI(self, params=params, ai_dict=ai_dict, seed=seed, size=size)  \n",
    "    else:\n",
    "        mb_gui = None\n",
    "        \n",
    "    self.restart()\n",
    "    return self.play_loop(mb_gui, params=params)\n",
    "\n",
    "Marubatsu.play = play"
   ]
  },
  {
   "cell_type": "code",
   "execution_count": 7,
   "metadata": {},
   "outputs": [
    {
     "data": {
      "application/vnd.jupyter.widget-view+json": {
       "model_id": "7c3dd7efcc1c4d4580e941140b2fba92",
       "version_major": 2,
       "version_minor": 0
      },
      "text/plain": [
       "VBox(children=(HBox(children=(Checkbox(value=False, description='乱数の種', indent=False, layout=Layout(width='100…"
      ]
     },
     "metadata": {},
     "output_type": "display_data"
    }
   ],
   "source": [
    "mb.play(ai=[None, ai_gt6], params=[{}, param], gui=True)"
   ]
  },
  {
   "cell_type": "code",
   "execution_count": 8,
   "metadata": {},
   "outputs": [
    {
     "data": {
      "application/vnd.jupyter.widget-view+json": {
       "model_id": "a74c72019552475c940513ef00f1934d",
       "version_major": 2,
       "version_minor": 0
      },
      "text/plain": [
       "VBox(children=(HBox(children=(Checkbox(value=False, description='乱数の種', indent=False, layout=Layout(width='100…"
      ]
     },
     "metadata": {},
     "output_type": "display_data"
    }
   ],
   "source": [
    "mb.play(ai=[ai_gt6, None], params=[param, {}], gui=True)"
   ]
  },
  {
   "cell_type": "code",
   "execution_count": 9,
   "metadata": {},
   "outputs": [],
   "source": [
    "import ai as ai_module\n",
    "\n",
    "def gui_play(ai=None, params=None, ai_dict=None, seed=None):\n",
    "    # ai が None の場合は、人間どうしの対戦を行う\n",
    "    if ai is None:\n",
    "        ai = [None, None]\n",
    "    if params is None:\n",
    "        params = [{}, {}]\n",
    "    # ai_dict が None の場合は、ai1s ~ ai14s の Dropdown を作成するためのデータを計算する\n",
    "    if ai_dict is None:\n",
    "        ai_dict = { \"人間\": \"人間\"}\n",
    "        for i in range(1, 15):\n",
    "            ai_name = f\"ai{i}s\"  \n",
    "            ai_dict[ai_name] = getattr(ai_module, ai_name)\n",
    "    \n",
    "    mb = Marubatsu()\n",
    "    mb.play(ai=ai, params=params, ai_dict=ai_dict, seed=seed, gui=True)"
   ]
  },
  {
   "cell_type": "code",
   "execution_count": 10,
   "metadata": {},
   "outputs": [
    {
     "data": {
      "application/vnd.jupyter.widget-view+json": {
       "model_id": "a3033c8a6fcf454c9ef281419000e1ca",
       "version_major": 2,
       "version_minor": 0
      },
      "text/plain": [
       "VBox(children=(HBox(children=(Checkbox(value=False, description='乱数の種', indent=False, layout=Layout(width='100…"
      ]
     },
     "metadata": {},
     "output_type": "display_data"
    }
   ],
   "source": [
    "gui_play(ai=[None, ai_gt6], params=[{}, param])"
   ]
  },
  {
   "cell_type": "code",
   "execution_count": 11,
   "metadata": {},
   "outputs": [],
   "source": [
    "def gui_play(ai=None, params=None, ai_dict=None, seed=None):\n",
    "    # ai が None の場合は、人間どうしの対戦を行う\n",
    "    if ai is None:\n",
    "        ai = [None, None]\n",
    "    if params is None:\n",
    "        params = [{}, {}]\n",
    "    # ai_dict が None の場合は、ai1s ~ ai14s の Dropdown を作成するためのデータを計算する\n",
    "    if ai_dict is None:\n",
    "        ai_dict = { \"人間\": \"人間\"}\n",
    "        for i in range(1, 15):\n",
    "            ai_name = f\"ai{i}s\"  \n",
    "            ai_dict[ai_name] = getattr(ai_module, ai_name)\n",
    "        ai_dict[\"ai_gt6\"] = ai_gt6\n",
    "    \n",
    "    mb = Marubatsu()\n",
    "    mb.play(ai=ai, params=params, ai_dict=ai_dict, seed=seed, gui=True)"
   ]
  },
  {
   "cell_type": "code",
   "execution_count": 12,
   "metadata": {},
   "outputs": [
    {
     "data": {
      "application/vnd.jupyter.widget-view+json": {
       "model_id": "7877a71544584a8fbe20ea0db27bc802",
       "version_major": 2,
       "version_minor": 0
      },
      "text/plain": [
       "VBox(children=(HBox(children=(Checkbox(value=False, description='乱数の種', indent=False, layout=Layout(width='100…"
      ]
     },
     "metadata": {},
     "output_type": "display_data"
    },
    {
     "ename": "TypeError",
     "evalue": "ai_gt6() missing 1 required positional argument: 'bestmoves_by_board'",
     "output_type": "error",
     "traceback": [
      "\u001b[1;31m---------------------------------------------------------------------------\u001b[0m",
      "\u001b[1;31mTypeError\u001b[0m                                 Traceback (most recent call last)",
      "Cell \u001b[1;32mIn[5], line 92\u001b[0m, in \u001b[0;36mcreate_event_handler.<locals>.on_reset_button_clicked\u001b[1;34m(b)\u001b[0m\n\u001b[0;32m     90\u001b[0m \u001b[38;5;28mself\u001b[39m\u001b[38;5;241m.\u001b[39mmb\u001b[38;5;241m.\u001b[39mrestart()\n\u001b[0;32m     91\u001b[0m \u001b[38;5;28mself\u001b[39m\u001b[38;5;241m.\u001b[39moutput\u001b[38;5;241m.\u001b[39mclear_output()\n\u001b[1;32m---> 92\u001b[0m on_change_button_clicked(b)\n",
      "Cell \u001b[1;32mIn[5], line 83\u001b[0m, in \u001b[0;36mcreate_event_handler.<locals>.on_change_button_clicked\u001b[1;34m(b)\u001b[0m\n\u001b[0;32m     81\u001b[0m \u001b[38;5;28;01mfor\u001b[39;00m i \u001b[38;5;129;01min\u001b[39;00m \u001b[38;5;28mrange\u001b[39m(\u001b[38;5;241m2\u001b[39m):\n\u001b[0;32m     82\u001b[0m     \u001b[38;5;28mself\u001b[39m\u001b[38;5;241m.\u001b[39mmb\u001b[38;5;241m.\u001b[39mai[i] \u001b[38;5;241m=\u001b[39m \u001b[38;5;28;01mNone\u001b[39;00m \u001b[38;5;28;01mif\u001b[39;00m \u001b[38;5;28mself\u001b[39m\u001b[38;5;241m.\u001b[39mdropdown_list[i]\u001b[38;5;241m.\u001b[39mvalue \u001b[38;5;241m==\u001b[39m \u001b[38;5;124m\"\u001b[39m\u001b[38;5;124m人間\u001b[39m\u001b[38;5;124m\"\u001b[39m \u001b[38;5;28;01melse\u001b[39;00m \u001b[38;5;28mself\u001b[39m\u001b[38;5;241m.\u001b[39mdropdown_list[i]\u001b[38;5;241m.\u001b[39mvalue\n\u001b[1;32m---> 83\u001b[0m \u001b[38;5;28mself\u001b[39m\u001b[38;5;241m.\u001b[39mmb\u001b[38;5;241m.\u001b[39mplay_loop(\u001b[38;5;28mself\u001b[39m, \u001b[38;5;28mself\u001b[39m\u001b[38;5;241m.\u001b[39mparams)\n",
      "File \u001b[1;32mc:\\Users\\ys\\ai\\marubatsu\\113\\marubatsu.py:396\u001b[0m, in \u001b[0;36mMarubatsu.play_loop\u001b[1;34m(self, mb_gui, params)\u001b[0m\n\u001b[0;32m    394\u001b[0m \u001b[38;5;66;03m# ai が着手を行うかどうかを判定する\u001b[39;00m\n\u001b[0;32m    395\u001b[0m \u001b[38;5;28;01mif\u001b[39;00m ai[index] \u001b[38;5;129;01mis\u001b[39;00m \u001b[38;5;129;01mnot\u001b[39;00m \u001b[38;5;28;01mNone\u001b[39;00m:\n\u001b[1;32m--> 396\u001b[0m     x, y \u001b[38;5;241m=\u001b[39m ai[index](\u001b[38;5;28mself\u001b[39m, \u001b[38;5;241m*\u001b[39m\u001b[38;5;241m*\u001b[39mparams[index])\n\u001b[0;32m    397\u001b[0m \u001b[38;5;28;01melse\u001b[39;00m:\n\u001b[0;32m    398\u001b[0m     \u001b[38;5;66;03m# キーボードからの座標の入力\u001b[39;00m\n\u001b[0;32m    399\u001b[0m     coord \u001b[38;5;241m=\u001b[39m \u001b[38;5;28minput\u001b[39m(\u001b[38;5;124m\"\u001b[39m\u001b[38;5;124mx,y の形式で座標を入力して下さい。exit を入力すると終了します\u001b[39m\u001b[38;5;124m\"\u001b[39m)\n",
      "\u001b[1;31mTypeError\u001b[0m: ai_gt6() missing 1 required positional argument: 'bestmoves_by_board'"
     ]
    }
   ],
   "source": [
    "gui_play()"
   ]
  },
  {
   "cell_type": "code",
   "execution_count": 13,
   "metadata": {},
   "outputs": [],
   "source": [
    "from util import load_bestmoves\n",
    "\n",
    "def gui_play(ai=None, params=None, ai_dict=None, seed=None):\n",
    "    # ai が None の場合は、人間どうしの対戦を行う\n",
    "    if ai is None:\n",
    "        ai = [None, None]\n",
    "    if params is None:\n",
    "        params = [{}, {}]\n",
    "    # ai_dict が None の場合は、ai1s ~ ai14s の Dropdown を作成するためのデータを計算する\n",
    "    if ai_dict is None:\n",
    "        ai_dict = { \"人間\": (\"人間\", {})}\n",
    "        for i in range(1, 15):\n",
    "            ai_name = f\"ai{i}s\"  \n",
    "            ai_dict[ai_name] = (getattr(ai_module, ai_name), {})\n",
    "        bestmoves_by_board = load_bestmoves(\"../data/bestmoves_by_board.dat\")\n",
    "        ai_dict[\"ai_gt6\"] = (ai_gt6, {\"bestmoves_by_board\": bestmoves_by_board})\n",
    "    \n",
    "    mb = Marubatsu()\n",
    "    mb.play(ai=ai, params=params, ai_dict=ai_dict, seed=seed, gui=True)"
   ]
  },
  {
   "cell_type": "code",
   "execution_count": 14,
   "metadata": {},
   "outputs": [
    {
     "ename": "SyntaxError",
     "evalue": "':' expected after dictionary key (2760019767.py, line 1)",
     "output_type": "error",
     "traceback": [
      "\u001b[1;36m  Cell \u001b[1;32mIn[14], line 1\u001b[1;36m\u001b[0m\n\u001b[1;33m    ai_dict = { \"人間\": \"人間\", {} }\u001b[0m\n\u001b[1;37m                             ^\u001b[0m\n\u001b[1;31mSyntaxError\u001b[0m\u001b[1;31m:\u001b[0m ':' expected after dictionary key\n"
     ]
    }
   ],
   "source": [
    "ai_dict = { \"人間\": \"人間\", {} }"
   ]
  },
  {
   "cell_type": "code",
   "execution_count": 15,
   "metadata": {},
   "outputs": [
    {
     "ename": "SyntaxError",
     "evalue": "':' expected after dictionary key (234813996.py, line 1)",
     "output_type": "error",
     "traceback": [
      "\u001b[1;36m  Cell \u001b[1;32mIn[15], line 1\u001b[1;36m\u001b[0m\n\u001b[1;33m    ai_dict = { \"human\": \"human\", {} }\u001b[0m\n\u001b[1;37m                                   ^\u001b[0m\n\u001b[1;31mSyntaxError\u001b[0m\u001b[1;31m:\u001b[0m ':' expected after dictionary key\n"
     ]
    }
   ],
   "source": [
    "ai_dict = { \"human\": \"human\", {} }"
   ]
  },
  {
   "cell_type": "code",
   "execution_count": 16,
   "metadata": {},
   "outputs": [
    {
     "data": {
      "application/vnd.jupyter.widget-view+json": {
       "model_id": "f056e52950454c64a1b4b21f6c9fa1c2",
       "version_major": 2,
       "version_minor": 0
      },
      "text/plain": [
       "VBox(children=(HBox(children=(Checkbox(value=False, description='乱数の種', indent=False, layout=Layout(width='100…"
      ]
     },
     "metadata": {},
     "output_type": "display_data"
    },
    {
     "ename": "AttributeError",
     "evalue": "'tuple' object has no attribute '__name__'",
     "output_type": "error",
     "traceback": [
      "\u001b[1;31m---------------------------------------------------------------------------\u001b[0m",
      "\u001b[1;31mAttributeError\u001b[0m                            Traceback (most recent call last)",
      "Cell \u001b[1;32mIn[5], line 92\u001b[0m, in \u001b[0;36mcreate_event_handler.<locals>.on_reset_button_clicked\u001b[1;34m(b)\u001b[0m\n\u001b[0;32m     90\u001b[0m \u001b[38;5;28mself\u001b[39m\u001b[38;5;241m.\u001b[39mmb\u001b[38;5;241m.\u001b[39mrestart()\n\u001b[0;32m     91\u001b[0m \u001b[38;5;28mself\u001b[39m\u001b[38;5;241m.\u001b[39moutput\u001b[38;5;241m.\u001b[39mclear_output()\n\u001b[1;32m---> 92\u001b[0m on_change_button_clicked(b)\n",
      "Cell \u001b[1;32mIn[5], line 83\u001b[0m, in \u001b[0;36mcreate_event_handler.<locals>.on_change_button_clicked\u001b[1;34m(b)\u001b[0m\n\u001b[0;32m     81\u001b[0m \u001b[38;5;28;01mfor\u001b[39;00m i \u001b[38;5;129;01min\u001b[39;00m \u001b[38;5;28mrange\u001b[39m(\u001b[38;5;241m2\u001b[39m):\n\u001b[0;32m     82\u001b[0m     \u001b[38;5;28mself\u001b[39m\u001b[38;5;241m.\u001b[39mmb\u001b[38;5;241m.\u001b[39mai[i] \u001b[38;5;241m=\u001b[39m \u001b[38;5;28;01mNone\u001b[39;00m \u001b[38;5;28;01mif\u001b[39;00m \u001b[38;5;28mself\u001b[39m\u001b[38;5;241m.\u001b[39mdropdown_list[i]\u001b[38;5;241m.\u001b[39mvalue \u001b[38;5;241m==\u001b[39m \u001b[38;5;124m\"\u001b[39m\u001b[38;5;124m人間\u001b[39m\u001b[38;5;124m\"\u001b[39m \u001b[38;5;28;01melse\u001b[39;00m \u001b[38;5;28mself\u001b[39m\u001b[38;5;241m.\u001b[39mdropdown_list[i]\u001b[38;5;241m.\u001b[39mvalue\n\u001b[1;32m---> 83\u001b[0m \u001b[38;5;28mself\u001b[39m\u001b[38;5;241m.\u001b[39mmb\u001b[38;5;241m.\u001b[39mplay_loop(\u001b[38;5;28mself\u001b[39m, \u001b[38;5;28mself\u001b[39m\u001b[38;5;241m.\u001b[39mparams)\n",
      "File \u001b[1;32mc:\\Users\\ys\\ai\\marubatsu\\113\\marubatsu.py:387\u001b[0m, in \u001b[0;36mMarubatsu.play_loop\u001b[1;34m(self, mb_gui, params)\u001b[0m\n\u001b[0;32m    384\u001b[0m \u001b[38;5;28;01mif\u001b[39;00m gui:\n\u001b[0;32m    385\u001b[0m     \u001b[38;5;66;03m# AI どうしの対戦の場合は画面を描画しない\u001b[39;00m\n\u001b[0;32m    386\u001b[0m     \u001b[38;5;28;01mif\u001b[39;00m ai[\u001b[38;5;241m0\u001b[39m] \u001b[38;5;129;01mis\u001b[39;00m \u001b[38;5;28;01mNone\u001b[39;00m \u001b[38;5;129;01mor\u001b[39;00m ai[\u001b[38;5;241m1\u001b[39m] \u001b[38;5;129;01mis\u001b[39;00m \u001b[38;5;28;01mNone\u001b[39;00m:\n\u001b[1;32m--> 387\u001b[0m         mb_gui\u001b[38;5;241m.\u001b[39mupdate_gui()\n\u001b[0;32m    388\u001b[0m     \u001b[38;5;66;03m# 手番を人間が担当する場合は、play メソッドを終了する\u001b[39;00m\n\u001b[0;32m    389\u001b[0m     \u001b[38;5;28;01mif\u001b[39;00m ai[index] \u001b[38;5;129;01mis\u001b[39;00m \u001b[38;5;28;01mNone\u001b[39;00m:\n",
      "File \u001b[1;32mc:\\Users\\ys\\ai\\marubatsu\\113\\marubatsu.py:972\u001b[0m, in \u001b[0;36mMarubatsu_GUI.update_gui\u001b[1;34m(self)\u001b[0m\n\u001b[0;32m    970\u001b[0m names \u001b[38;5;241m=\u001b[39m []\n\u001b[0;32m    971\u001b[0m \u001b[38;5;28;01mfor\u001b[39;00m i \u001b[38;5;129;01min\u001b[39;00m \u001b[38;5;28mrange\u001b[39m(\u001b[38;5;241m2\u001b[39m):\n\u001b[1;32m--> 972\u001b[0m     names\u001b[38;5;241m.\u001b[39mappend(\u001b[38;5;124m\"\u001b[39m\u001b[38;5;124m人間\u001b[39m\u001b[38;5;124m\"\u001b[39m \u001b[38;5;28;01mif\u001b[39;00m ai[i] \u001b[38;5;129;01mis\u001b[39;00m \u001b[38;5;28;01mNone\u001b[39;00m \u001b[38;5;28;01melse\u001b[39;00m ai[i]\u001b[38;5;241m.\u001b[39m\u001b[38;5;18m__name__\u001b[39m)\n\u001b[0;32m    973\u001b[0m ax\u001b[38;5;241m.\u001b[39mtext(\u001b[38;5;241m0\u001b[39m, \u001b[38;5;241m3.5\u001b[39m, \u001b[38;5;124mf\u001b[39m\u001b[38;5;124m\"\u001b[39m\u001b[38;5;132;01m{\u001b[39;00mnames[\u001b[38;5;241m0\u001b[39m]\u001b[38;5;132;01m}\u001b[39;00m\u001b[38;5;124m　VS　\u001b[39m\u001b[38;5;132;01m{\u001b[39;00mnames[\u001b[38;5;241m1\u001b[39m]\u001b[38;5;132;01m}\u001b[39;00m\u001b[38;5;124m\"\u001b[39m, fontsize\u001b[38;5;241m=\u001b[39m\u001b[38;5;241m20\u001b[39m)   \n\u001b[0;32m    975\u001b[0m \u001b[38;5;66;03m# ゲームの決着がついていない場合は、手番を表示する\u001b[39;00m\n",
      "\u001b[1;31mAttributeError\u001b[0m: 'tuple' object has no attribute '__name__'"
     ]
    }
   ],
   "source": [
    "gui_play()"
   ]
  },
  {
   "cell_type": "code",
   "execution_count": 17,
   "metadata": {},
   "outputs": [],
   "source": [
    "def create_event_handler(self):\n",
    "    # 乱数の種のチェックボックスのイベントハンドラを定義する\n",
    "    def on_checkbox_changed(changed):\n",
    "        self.update_widgets_status()\n",
    "        \n",
    "    self.checkbox.observe(on_checkbox_changed, names=\"value\")\n",
    "\n",
    "    # 開く、保存ボタンのイベントハンドラを定義する\n",
    "    def on_load_button_clicked(b=None):\n",
    "        path = filedialog.askopenfilename(filetypes=[(\"〇×ゲーム\", \"*.mbsav\")],\n",
    "                                        initialdir=\"save\")\n",
    "        if path != \"\":\n",
    "            with open(path, \"rb\") as f:\n",
    "                data = pickle.load(f)\n",
    "                self.mb.records = data[\"records\"]\n",
    "                self.mb.ai = data[\"ai\"]\n",
    "                change_step(data[\"move_count\"])\n",
    "                for i in range(2):\n",
    "                    value = \"人間\" if self.mb.ai[i] is None else self.mb.ai[i]\n",
    "                    self.dropdown_list[i].value = value               \n",
    "                if data[\"seed\"] is not None:                   \n",
    "                    self.checkbox.value = True\n",
    "                    self.inttext.value = data[\"seed\"]\n",
    "                else:\n",
    "                    self.checkbox.value = False\n",
    "                    \n",
    "    def on_save_button_clicked(b=None):\n",
    "        name = [\"人間\" if self.mb.ai[i] is None else self.mb.ai[i].__name__\n",
    "                for i in range(2)]\n",
    "        timestr = datetime.now().strftime(\"%Y年%m月%d日 %H時%M分%S秒\")\n",
    "        fname = f\"{name[0]} VS {name[1]} {timestr}\"\n",
    "        path = filedialog.asksaveasfilename(filetypes=[(\"〇×ゲーム\", \"*.mbsav\")],\n",
    "                                            initialdir=\"save\", initialfile=fname,\n",
    "                                            defaultextension=\"mbsav\")\n",
    "        if path != \"\":\n",
    "            with open(path, \"wb\") as f:\n",
    "                data = {\n",
    "                    \"records\": self.mb.records,\n",
    "                    \"move_count\": self.mb.move_count,\n",
    "                    \"ai\": self.mb.ai,\n",
    "                    \"seed\": self.inttext.value if self.checkbox.value else None\n",
    "                }\n",
    "                pickle.dump(data, f)\n",
    "                \n",
    "    def on_help_button_clicked(b=None):\n",
    "        self.output.clear_output()\n",
    "        with self.output:\n",
    "            print(\"\"\"操作説明\n",
    "\n",
    "マスの上でクリックすることで着手を行う。\n",
    "下記の GUI で操作を行うことができる。\n",
    "()が記載されているものは、キー入力で同じ操作を行うことができることを意味する。\n",
    "なお、キー入力の操作は、ゲーム盤をクリックして選択状態にする必要がある。\n",
    "\n",
    "乱数の種\\tチェックボックスを ON にすると、右のテキストボックスの乱数の種が適用される\n",
    "開く(-,L)\\tファイルから対戦データを読み込む\n",
    "保存(+,S)\\tファイルに対戦データを保存する\n",
    "？(*,H)\\t\\tこの操作説明を表示する\n",
    "手番の担当\\tメニューからそれぞれの手番の担当を選択する\n",
    "\\t\\tメニューから選択しただけでは担当は変更されず、変更またはリセットボタンによって担当が変更される\n",
    "変更\\t\\tゲームの途中で手番の担当を変更する\n",
    "リセット\\t手番の担当を変更してゲームをリセットする\n",
    "待った(0)\\t1つ前の自分の着手をキャンセルする\n",
    "<<(↑)\\t\\t最初の局面に移動する\n",
    "<(←)\\t\\t1手前の局面に移動する\n",
    ">(→)\\t\\t1手後の局面に移動する\n",
    ">>(↓)\\t\\t最後の着手が行われた局面に移動する\n",
    "スライダー\\t現在の手数を表す。ドラッグすることで任意の手数へ移動する\n",
    "\n",
    "手数を移動した場合に、最後の着手が行われた局面でなければ、リプレイモードになる。\n",
    "リプレイモード中に着手を行うと、リプレイモードが解除され、その着手が最後の着手になる。\"\"\")\n",
    "            \n",
    "    self.load_button.on_click(on_load_button_clicked)\n",
    "    self.save_button.on_click(on_save_button_clicked)\n",
    "    self.help_button.on_click(on_help_button_clicked)\n",
    "    \n",
    "    # 変更ボタンのイベントハンドラを定義する\n",
    "    def on_change_button_clicked(b):\n",
    "        for i in range(2):\n",
    "            self.mb.ai[i], self.params[i] = (None, {}) if self.dropdown_list[i].value == \"人間\" \\\n",
    "                                                       else self.dropdown_list[i].value\n",
    "        self.mb.play_loop(self, self.params)\n",
    "\n",
    "    # リセットボタンのイベントハンドラを定義する\n",
    "    def on_reset_button_clicked(b=None):\n",
    "        # 乱数の種のチェックボックスが ON の場合に、乱数の種の処理を行う\n",
    "        if self.checkbox.value:\n",
    "            random.seed(self.inttext.value)\n",
    "        self.mb.restart()\n",
    "        self.output.clear_output()\n",
    "        on_change_button_clicked(b)\n",
    "\n",
    "    # 待ったボタンのイベントハンドラを定義する\n",
    "    def on_undo_button_clicked(b=None):\n",
    "        if self.mb.move_count >= 2 and self.mb.move_count == len(self.mb.records) - 1:\n",
    "            self.mb.move_count -= 2\n",
    "            self.mb.records = self.mb.records[0:self.mb.move_count+1]\n",
    "            self.mb.change_step(self.mb.move_count)\n",
    "            self.update_gui()\n",
    "        \n",
    "    # イベントハンドラをボタンに結びつける\n",
    "    self.change_button.on_click(on_change_button_clicked)\n",
    "    self.reset_button.on_click(on_reset_button_clicked)   \n",
    "    self.undo_button.on_click(on_undo_button_clicked)   \n",
    "    \n",
    "    # step 手目の局面に移動する\n",
    "    def change_step(step):\n",
    "        self.mb.change_step(step)\n",
    "        # 描画を更新する\n",
    "        self.update_gui()        \n",
    "\n",
    "    def on_first_button_clicked(b=None):\n",
    "        change_step(0)\n",
    "\n",
    "    def on_prev_button_clicked(b=None):\n",
    "        change_step(self.mb.move_count - 1)\n",
    "\n",
    "    def on_next_button_clicked(b=None):\n",
    "        change_step(self.mb.move_count + 1)\n",
    "        \n",
    "    def on_last_button_clicked(b=None):\n",
    "        change_step(len(self.mb.records) - 1)\n",
    "\n",
    "    def on_slider_changed(changed):\n",
    "        if self.mb.move_count != changed[\"new\"]:\n",
    "            change_step(changed[\"new\"])\n",
    "            \n",
    "    self.first_button.on_click(on_first_button_clicked)\n",
    "    self.prev_button.on_click(on_prev_button_clicked)\n",
    "    self.next_button.on_click(on_next_button_clicked)\n",
    "    self.last_button.on_click(on_last_button_clicked)\n",
    "    self.slider.observe(on_slider_changed, names=\"value\")\n",
    "    \n",
    "    # ゲーム盤の上でマウスを押した場合のイベントハンドラ\n",
    "    def on_mouse_down(event):\n",
    "        # Axes の上でマウスを押していた場合のみ処理を行う\n",
    "        if event.inaxes and self.mb.status == Marubatsu.PLAYING:\n",
    "            x = math.floor(event.xdata)\n",
    "            y = math.floor(event.ydata)\n",
    "            with self.output:\n",
    "                self.mb.move(x, y)                \n",
    "            # 次の手番の処理を行うメソッドを呼び出す\n",
    "            self.mb.play_loop(self, self.params)\n",
    "\n",
    "    # ゲーム盤を選択した状態でキーを押した場合のイベントハンドラ\n",
    "    def on_key_press(event):\n",
    "        keymap = {\n",
    "            \"up\": on_first_button_clicked,\n",
    "            \"left\": on_prev_button_clicked,\n",
    "            \"right\": on_next_button_clicked,\n",
    "            \"down\": on_last_button_clicked,\n",
    "            \"0\": on_undo_button_clicked,\n",
    "            \"enter\": on_reset_button_clicked,            \n",
    "            \"-\": on_load_button_clicked,            \n",
    "            \"l\": on_load_button_clicked,            \n",
    "            \"+\": on_save_button_clicked,            \n",
    "            \"s\": on_save_button_clicked,            \n",
    "            \"*\": on_help_button_clicked,            \n",
    "            \"h\": on_help_button_clicked,            \n",
    "        }\n",
    "        if event.key in keymap:\n",
    "            keymap[event.key]()\n",
    "        else:\n",
    "            try:\n",
    "                num = int(event.key) - 1\n",
    "                event.inaxes = True\n",
    "                event.xdata = num % 3\n",
    "                event.ydata = 2 - (num // 3)\n",
    "                on_mouse_down(event)\n",
    "            except:\n",
    "                pass\n",
    "            \n",
    "    # fig の画像イベントハンドラを結び付ける\n",
    "    self.fig.canvas.mpl_connect(\"button_press_event\", on_mouse_down)     \n",
    "    self.fig.canvas.mpl_connect(\"key_press_event\", on_key_press)       \n",
    "    \n",
    "Marubatsu_GUI.create_event_handler = create_event_handler"
   ]
  },
  {
   "cell_type": "code",
   "execution_count": 18,
   "metadata": {},
   "outputs": [
    {
     "data": {
      "application/vnd.jupyter.widget-view+json": {
       "model_id": "3cbad54e5ce442339062b0ca255eca2c",
       "version_major": 2,
       "version_minor": 0
      },
      "text/plain": [
       "VBox(children=(HBox(children=(Checkbox(value=False, description='乱数の種', indent=False, layout=Layout(width='100…"
      ]
     },
     "metadata": {},
     "output_type": "display_data"
    }
   ],
   "source": [
    "gui_play()"
   ]
  },
  {
   "cell_type": "code",
   "execution_count": 19,
   "metadata": {},
   "outputs": [],
   "source": [
    "def update_gui(self):\n",
    "    ax = self.ax\n",
    "    ai = self.mb.ai\n",
    "    \n",
    "    # Axes の内容をクリアして、これまでの描画内容を削除する\n",
    "    ax.clear()\n",
    "    \n",
    "    # y 軸を反転させる\n",
    "    ax.invert_yaxis()\n",
    "    \n",
    "    # 枠と目盛りを表示しないようにする\n",
    "    ax.axis(\"off\")   \n",
    "    \n",
    "    # リプレイ中、ゲームの決着がついていた場合は背景色を変更する\n",
    "    is_replay =  self.mb.move_count < len(self.mb.records) - 1 \n",
    "    if self.mb.status == Marubatsu.PLAYING:\n",
    "        facecolor = \"lightcyan\" if is_replay else \"white\"\n",
    "    else:\n",
    "        facecolor = \"lightyellow\"\n",
    "\n",
    "    ax.figure.set_facecolor(facecolor)\n",
    "        \n",
    "    # 上部のメッセージを描画する\n",
    "    # 対戦カードの文字列を計算する\n",
    "    names = []\n",
    "    for i in range(2):\n",
    "        names.append(\"人間\" if ai[i] is None else ai[i].__name__)\n",
    "    ax.text(1.5, 3.5, f\"{names[0]}　VS　{names[1]}\", fontsize=20, ha=\"center\")   \n",
    "    \n",
    "    # ゲームの決着がついていない場合は、手番を表示する\n",
    "    if self.mb.status == Marubatsu.PLAYING:\n",
    "        text = \"Turn \" + self.mb.turn\n",
    "    # 引き分けの場合\n",
    "    elif self.mb.status == Marubatsu.DRAW:\n",
    "        text = \"Draw game\"\n",
    "    # 決着がついていれば勝者を表示する\n",
    "    else:\n",
    "        text = \"Winner \" + self.mb.status\n",
    "    # リプレイ中の場合は \"Replay\" を表示する\n",
    "    if is_replay:\n",
    "        text += \" Replay\"\n",
    "    ax.text(0, -0.2, text, fontsize=20)\n",
    "    \n",
    "    self.draw_board(ax, self.mb)\n",
    "    \n",
    "    self.update_widgets_status() \n",
    "    \n",
    "Marubatsu_GUI.update_gui = update_gui"
   ]
  },
  {
   "cell_type": "code",
   "execution_count": 20,
   "metadata": {},
   "outputs": [
    {
     "data": {
      "application/vnd.jupyter.widget-view+json": {
       "model_id": "7a735450f5504129bf56144850fff497",
       "version_major": 2,
       "version_minor": 0
      },
      "text/plain": [
       "VBox(children=(HBox(children=(Checkbox(value=False, description='乱数の種', indent=False, layout=Layout(width='100…"
      ]
     },
     "metadata": {},
     "output_type": "display_data"
    }
   ],
   "source": [
    "gui_play()"
   ]
  }
 ],
 "metadata": {
  "kernelspec": {
   "display_name": "marubatsu",
   "language": "python",
   "name": "python3"
  },
  "language_info": {
   "codemirror_mode": {
    "name": "ipython",
    "version": 3
   },
   "file_extension": ".py",
   "mimetype": "text/x-python",
   "name": "python",
   "nbconvert_exporter": "python",
   "pygments_lexer": "ipython3",
   "version": "3.11.4"
  }
 },
 "nbformat": 4,
 "nbformat_minor": 2
}
