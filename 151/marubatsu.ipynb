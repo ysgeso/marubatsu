{
 "cells": [
  {
   "cell_type": "code",
   "execution_count": 1,
   "metadata": {},
   "outputs": [],
   "source": [
    "from tree import Mbtree\n",
    "from marubatsu import Marubatsu\n",
    "\n",
    "def calc_score_by_ab(self, abroot, debug=False, init_ab=False):          \n",
    "    def assign_pruned_index(node, index):\n",
    "        node.pruned_index = index\n",
    "        self.num_pruned += 1\n",
    "        for childnode in node.children:\n",
    "            assign_pruned_index(childnode, index)\n",
    "        \n",
    "    def calc_ab_score(node, alpha=float(\"-inf\"), beta=float(\"inf\")):\n",
    "        self.nodelist_by_score.append(node)\n",
    "        self.ablist_by_score.append((alpha, beta, None, \"start\",\n",
    "                                    self.num_calculated, self.num_pruned))\n",
    "        if node.mb.status != Marubatsu.PLAYING:\n",
    "            self.calc_score_of_node(node)\n",
    "            if node.mb.turn == Marubatsu.CIRCLE:\n",
    "                alpha = node.score\n",
    "            else:\n",
    "                beta = node.score\n",
    "        else:\n",
    "            if node.mb.turn == Marubatsu.CIRCLE:\n",
    "                for childnode in node.children:\n",
    "                    score = calc_ab_score(childnode, alpha, beta)\n",
    "                    self.nodelist_by_score.append(node)\n",
    "                    self.ablist_by_score.append((alpha, beta, score, \"score\",\n",
    "                                                self.num_calculated, self.num_pruned))\n",
    "                    if score > alpha:\n",
    "                        alpha = score\n",
    "                    self.nodelist_by_score.append(node)\n",
    "                    if score >= beta:\n",
    "                        index = node.children.index(childnode)\n",
    "                        for prunednode in node.children[index + 1:]:\n",
    "                            assign_pruned_index(prunednode, len(self.nodelist_by_score) - 1)\n",
    "                    self.ablist_by_score.append((alpha, beta, None, \"update\",\n",
    "                                                self.num_calculated, self.num_pruned))\n",
    "                    if score >= beta:\n",
    "                        break\n",
    "                node.score = alpha\n",
    "            else:\n",
    "                for childnode in node.children:\n",
    "                    score = calc_ab_score(childnode, alpha, beta)\n",
    "                    self.nodelist_by_score.append(node)\n",
    "                    self.ablist_by_score.append((alpha, beta, score, \"score\",\n",
    "                                                self.num_calculated, self.num_pruned))\n",
    "                    if score < beta:\n",
    "                        beta = score\n",
    "                    self.nodelist_by_score.append(node)\n",
    "                    if score <= alpha:\n",
    "                        index = node.children.index(childnode)\n",
    "                        for prunednode in node.children[index + 1:]:\n",
    "                            assign_pruned_index(prunednode, len(self.nodelist_by_score) - 1)\n",
    "                    self.ablist_by_score.append((alpha, beta, None, \"update\",\n",
    "                                                self.num_calculated, self.num_pruned))\n",
    "                    if score <= alpha:\n",
    "                        break\n",
    "                node.score = beta\n",
    "\n",
    "        self.nodelist_by_score.append(node)\n",
    "        self.num_calculated += 1     \n",
    "        self.ablist_by_score.append((alpha, beta, None, \"end\",\n",
    "                                    self.num_calculated, self.num_pruned))\n",
    "        node.score_index = len(self.nodelist_by_score) - 1  \n",
    "        return node.score\n",
    "\n",
    "    from ai import dprint       \n",
    "    for node in self.nodelist:\n",
    "        node.score_index = float(\"inf\")\n",
    "        node.pruned_index = float(\"inf\")\n",
    "    self.nodelist_by_score = []\n",
    "    self.ablist_by_score = []\n",
    "    self.num_calculated = 0\n",
    "    self.num_pruned = 0\n",
    "    if init_ab:\n",
    "        alpha = -2 if self.shortest_victory else -1\n",
    "        beta = 3 if self.shortest_victory else 1\n",
    "    else:\n",
    "        alpha = float(\"-inf\")\n",
    "        beta = float(\"inf\")\n",
    "    calc_ab_score(abroot, alpha, beta)\n",
    "    total_nodenum = self.num_pruned + self.num_calculated\n",
    "    ratio = self.num_calculated / total_nodenum * 100\n",
    "    dprint(debug, \"計算したノードの数\",  self.num_calculated)\n",
    "    dprint(debug, \"枝狩りしたノードの数\",  self.num_pruned)\n",
    "    dprint(debug, \"合計\",  total_nodenum)\n",
    "    dprint(debug, f\"割合 {ratio:.1f}%\")\n",
    "    \n",
    "Mbtree.calc_score_by_ab = calc_score_by_ab"
   ]
  },
  {
   "cell_type": "code",
   "execution_count": 2,
   "metadata": {},
   "outputs": [
    {
     "name": "stdout",
     "output_type": "stream",
     "text": [
      "計算したノードの数 16811\n",
      "枝狩りしたノードの数 533135\n",
      "合計 549946\n",
      "割合 3.1%\n"
     ]
    }
   ],
   "source": [
    "mbtree = Mbtree.load(\"../data/abtree_root\")\n",
    "mbtree.calc_score_by_ab(mbtree.root, init_ab=True, debug=True)"
   ]
  },
  {
   "cell_type": "code",
   "execution_count": 3,
   "metadata": {},
   "outputs": [
    {
     "data": {
      "application/vnd.jupyter.widget-view+json": {
       "model_id": "df1f5dc40b624365a1bf21183865d637",
       "version_major": 2,
       "version_minor": 0
      },
      "text/plain": [
       "VBox(children=(HBox(children=(Play(value=0, interval=500, max=67241), Button(description='<', layout=Layout(wi…"
      ]
     },
     "metadata": {},
     "output_type": "display_data"
    },
    {
     "data": {
      "text/plain": [
       "<tree.Mbtree_Anim at 0x1c9c3109190>"
      ]
     },
     "execution_count": 3,
     "metadata": {},
     "output_type": "execute_result"
    }
   ],
   "source": [
    "from tree import Mbtree_Anim\n",
    "\n",
    "Mbtree_Anim(mbtree, isscore=True)"
   ]
  },
  {
   "cell_type": "code",
   "execution_count": 4,
   "metadata": {},
   "outputs": [],
   "source": [
    "def calc_score_by_ab(self, abroot, debug=False, init_ab=False, minimax=False):\n",
    "    def assign_pruned_index(node, index):\n",
    "        node.pruned_index = index\n",
    "        self.num_pruned += 1\n",
    "        for childnode in node.children:\n",
    "            assign_pruned_index(childnode, index)\n",
    "        \n",
    "    def calc_ab_score(node, alpha=float(\"-inf\"), beta=float(\"inf\")):\n",
    "        if minimax:\n",
    "            alpha = float(\"-inf\")\n",
    "            beta = float(\"inf\")\n",
    "                \n",
    "        self.nodelist_by_score.append(node)\n",
    "        self.ablist_by_score.append((alpha, beta, None, \"start\",\n",
    "                                     self.num_calculated, self.num_pruned))\n",
    "        if node.mb.status != Marubatsu.PLAYING:\n",
    "            self.calc_score_of_node(node)\n",
    "            if node.mb.turn == Marubatsu.CIRCLE:\n",
    "                alpha = node.score\n",
    "            else:\n",
    "                beta = node.score\n",
    "        else:\n",
    "            if node.mb.turn == Marubatsu.CIRCLE:\n",
    "                for childnode in node.children:\n",
    "                    score = calc_ab_score(childnode, alpha, beta)\n",
    "                    self.nodelist_by_score.append(node)\n",
    "                    self.ablist_by_score.append((alpha, beta, score, \"score\",\n",
    "                                                 self.num_calculated, self.num_pruned))\n",
    "                    if score > alpha:\n",
    "                        alpha = score\n",
    "                    self.nodelist_by_score.append(node)\n",
    "                    if score >= beta:\n",
    "                        index = node.children.index(childnode)\n",
    "                        for prunednode in node.children[index + 1:]:\n",
    "                            assign_pruned_index(prunednode, len(self.nodelist_by_score) - 1)\n",
    "                    self.ablist_by_score.append((alpha, beta, None, \"update\",\n",
    "                                                 self.num_calculated, self.num_pruned))\n",
    "                    if score >= beta:\n",
    "                        break\n",
    "                node.score = alpha\n",
    "            else:\n",
    "                for childnode in node.children:\n",
    "                    score = calc_ab_score(childnode, alpha, beta)\n",
    "                    self.nodelist_by_score.append(node)\n",
    "                    self.ablist_by_score.append((alpha, beta, score, \"score\",\n",
    "                                                 self.num_calculated, self.num_pruned))\n",
    "                    if score < beta:\n",
    "                        beta = score\n",
    "                    self.nodelist_by_score.append(node)\n",
    "                    if score <= alpha:\n",
    "                        index = node.children.index(childnode)\n",
    "                        for prunednode in node.children[index + 1:]:\n",
    "                            assign_pruned_index(prunednode, len(self.nodelist_by_score) - 1)\n",
    "                    self.ablist_by_score.append((alpha, beta, None, \"update\",\n",
    "                                                 self.num_calculated, self.num_pruned))\n",
    "                    if score <= alpha:\n",
    "                        break\n",
    "                node.score = beta\n",
    "\n",
    "        self.nodelist_by_score.append(node)\n",
    "        self.num_calculated += 1     \n",
    "        self.ablist_by_score.append((alpha, beta, None, \"end\",\n",
    "                                     self.num_calculated, self.num_pruned))\n",
    "        node.score_index = len(self.nodelist_by_score) - 1  \n",
    "        return node.score\n",
    "\n",
    "    from ai import dprint       \n",
    "    for node in self.nodelist:\n",
    "        node.score_index = float(\"inf\")\n",
    "        node.pruned_index = float(\"inf\")\n",
    "    self.nodelist_by_score = []\n",
    "    self.ablist_by_score = []\n",
    "    self.num_calculated = 0\n",
    "    self.num_pruned = 0\n",
    "    if init_ab:\n",
    "        alpha = -2 if self.shortest_victory else -1\n",
    "        beta = 3 if self.shortest_victory else 1\n",
    "    else:\n",
    "        alpha = float(\"-inf\")\n",
    "        beta = float(\"inf\")\n",
    "    calc_ab_score(abroot, alpha, beta)\n",
    "    total_nodenum = self.num_pruned + self.num_calculated\n",
    "    ratio = self.num_calculated / total_nodenum * 100\n",
    "    dprint(debug, \"ミニマックス法で計算したか\", minimax)\n",
    "    dprint(debug, \"計算したノードの数\",  self.num_calculated)\n",
    "    dprint(debug, \"枝狩りしたノードの数\",  self.num_pruned)\n",
    "    dprint(debug, \"合計\",  total_nodenum)\n",
    "    dprint(debug, f\"割合 {ratio:.1f}%\")\n",
    "    \n",
    "Mbtree.calc_score_by_ab = calc_score_by_ab"
   ]
  },
  {
   "cell_type": "code",
   "execution_count": 5,
   "metadata": {},
   "outputs": [
    {
     "name": "stdout",
     "output_type": "stream",
     "text": [
      "ミニマックス法で計算したか True\n",
      "計算したノードの数 549946\n",
      "枝狩りしたノードの数 0\n",
      "合計 549946\n",
      "割合 100.0%\n"
     ]
    }
   ],
   "source": [
    "mbtree.calc_score_by_ab(mbtree.root, minimax=True, debug=True)"
   ]
  },
  {
   "cell_type": "code",
   "execution_count": 6,
   "metadata": {},
   "outputs": [],
   "source": [
    "def calc_score_by_ab(self, abroot, debug=False, init_ab=False, minimax=False, use_tt=False):\n",
    "    def assign_pruned_index(node, index):\n",
    "        node.pruned_index = index\n",
    "        self.num_pruned += 1\n",
    "        for childnode in node.children:\n",
    "            assign_pruned_index(childnode, index)\n",
    "        \n",
    "    def calc_ab_score(node, tt, alpha=float(\"-inf\"), beta=float(\"inf\")):\n",
    "        if use_tt:\n",
    "            boardtxt = node.mb.board_to_str()\n",
    "            if boardtxt in tt:\n",
    "                node.score = tt[boardtxt]\n",
    "                self.nodelist_by_score.append(node)\n",
    "                self.num_calculated += 1     \n",
    "                for childnode in node.children:\n",
    "                    assign_pruned_index(childnode, len(self.nodelist_by_score) - 1)\n",
    "                self.ablist_by_score.append((alpha, beta, None, \"tt\",\n",
    "                                             self.num_calculated, self.num_pruned))\n",
    "                node.score_index = len(self.nodelist_by_score) - 1  \n",
    "                return node.score\n",
    "\n",
    "        if minimax:\n",
    "            alpha = float(\"-inf\")\n",
    "            beta = float(\"inf\")\n",
    "                \n",
    "        self.nodelist_by_score.append(node)\n",
    "        self.ablist_by_score.append((alpha, beta, None, \"start\",\n",
    "                                     self.num_calculated, self.num_pruned))\n",
    "        if node.mb.status != Marubatsu.PLAYING:\n",
    "            self.calc_score_of_node(node)\n",
    "            if node.mb.turn == Marubatsu.CIRCLE:\n",
    "                alpha = node.score\n",
    "            else:\n",
    "                beta = node.score\n",
    "        else:\n",
    "            if node.mb.turn == Marubatsu.CIRCLE:\n",
    "                for childnode in node.children:\n",
    "                    score = calc_ab_score(childnode, tt, alpha, beta)\n",
    "                    self.nodelist_by_score.append(node)\n",
    "                    self.ablist_by_score.append((alpha, beta, score, \"score\",\n",
    "                                                 self.num_calculated, self.num_pruned))\n",
    "                    if score > alpha:\n",
    "                        alpha = score\n",
    "                    self.nodelist_by_score.append(node)\n",
    "                    if score >= beta:\n",
    "                        index = node.children.index(childnode)\n",
    "                        for prunednode in node.children[index + 1:]:\n",
    "                            assign_pruned_index(prunednode, len(self.nodelist_by_score) - 1)\n",
    "                    self.ablist_by_score.append((alpha, beta, None, \"update\",\n",
    "                                                 self.num_calculated, self.num_pruned))\n",
    "                    if score >= beta:\n",
    "                        break\n",
    "                node.score = alpha\n",
    "            else:\n",
    "                for childnode in node.children:\n",
    "                    score = calc_ab_score(childnode, tt, alpha, beta)\n",
    "                    self.nodelist_by_score.append(node)\n",
    "                    self.ablist_by_score.append((alpha, beta, score, \"score\",\n",
    "                                                 self.num_calculated, self.num_pruned))\n",
    "                    if score < beta:\n",
    "                        beta = score\n",
    "                    self.nodelist_by_score.append(node)\n",
    "                    if score <= alpha:\n",
    "                        index = node.children.index(childnode)\n",
    "                        for prunednode in node.children[index + 1:]:\n",
    "                            assign_pruned_index(prunednode, len(self.nodelist_by_score) - 1)\n",
    "                    self.ablist_by_score.append((alpha, beta, None, \"update\",\n",
    "                                                 self.num_calculated, self.num_pruned))\n",
    "                    if score <= alpha:\n",
    "                        break\n",
    "                node.score = beta\n",
    "\n",
    "        self.nodelist_by_score.append(node)\n",
    "        self.num_calculated += 1     \n",
    "        self.ablist_by_score.append((alpha, beta, None, \"end\",\n",
    "                                     self.num_calculated, self.num_pruned))\n",
    "        node.score_index = len(self.nodelist_by_score) - 1  \n",
    "        if use_tt:\n",
    "            tt[boardtxt] = node.score        \n",
    "        return node.score\n",
    "\n",
    "    from ai import dprint       \n",
    "    for node in self.nodelist:\n",
    "        node.score_index = float(\"inf\")\n",
    "        node.pruned_index = float(\"inf\")\n",
    "    self.nodelist_by_score = []\n",
    "    self.ablist_by_score = []\n",
    "    self.num_calculated = 0\n",
    "    self.num_pruned = 0\n",
    "    if init_ab:\n",
    "        alpha = -2 if self.shortest_victory else -1\n",
    "        beta = 3 if self.shortest_victory else 1\n",
    "    else:\n",
    "        alpha = float(\"-inf\")\n",
    "        beta = float(\"inf\")\n",
    "    calc_ab_score(abroot, {}, alpha, beta)\n",
    "    total_nodenum = self.num_pruned + self.num_calculated\n",
    "    ratio = self.num_calculated / total_nodenum * 100\n",
    "    dprint(debug, \"ミニマックス法で計算したか\", minimax)\n",
    "    dprint(debug, \"計算したノードの数\",  self.num_calculated)\n",
    "    dprint(debug, \"枝狩りしたノードの数\",  self.num_pruned)\n",
    "    dprint(debug, \"合計\",  total_nodenum)\n",
    "    dprint(debug, f\"割合 {ratio:.1f}%\")\n",
    "    \n",
    "Mbtree.calc_score_by_ab = calc_score_by_ab"
   ]
  },
  {
   "cell_type": "code",
   "execution_count": 7,
   "metadata": {},
   "outputs": [
    {
     "name": "stdout",
     "output_type": "stream",
     "text": [
      "ミニマックス法で計算したか True\n",
      "計算したノードの数 16168\n",
      "枝狩りしたノードの数 533778\n",
      "合計 549946\n",
      "割合 2.9%\n"
     ]
    }
   ],
   "source": [
    "mbtree.calc_score_by_ab(mbtree.root, minimax=True, use_tt=True, debug=True)"
   ]
  },
  {
   "cell_type": "code",
   "execution_count": 8,
   "metadata": {},
   "outputs": [],
   "source": [
    "from tree import Mbtree_Anim\n",
    "import matplotlib.patches as patches\n",
    "\n",
    "def update_ab(self):\n",
    "    alpha, beta, score, status, num_calculated, num_pruned = self.mbtree.ablist_by_score[self.play.value]\n",
    "    maxnode = self.selectednode.mb.turn == Marubatsu.CIRCLE\n",
    "    acolor = \"red\" if maxnode else \"black\"\n",
    "    bcolor = \"black\" if maxnode else \"red\"\n",
    "                            \n",
    "    self.abax.clear()\n",
    "    self.abax.set_xlim(-4, 23)\n",
    "    self.abax.set_ylim(-1.5, 1.5)\n",
    "    self.abax.axis(\"off\")\n",
    "\n",
    "    minus_inf = -3\n",
    "    plus_inf = 4   \n",
    "    alphacoord = max(minus_inf, alpha)\n",
    "    betacoord = min(plus_inf, beta)\n",
    "    \n",
    "    color = \"lightgray\" if maxnode else \"aqua\"\n",
    "    rect = patches.Rectangle(xy=(minus_inf, -0.5), width=alphacoord-minus_inf,\n",
    "                            height=1, fc=color)\n",
    "    self.abax.add_patch(rect)\n",
    "    rect = patches.Rectangle(xy=(alphacoord, -0.5), width=betacoord-alphacoord,\n",
    "                            height=1, fc=\"yellow\")\n",
    "    self.abax.add_patch(rect)\n",
    "    color = \"aqua\" if maxnode else \"lightgray\"\n",
    "    rect = patches.Rectangle(xy=(betacoord, -0.5), width=plus_inf-betacoord,\n",
    "                            height=1, fc=color)\n",
    "    self.abax.add_patch(rect)\n",
    "\n",
    "    self.abax.plot(range(minus_inf, plus_inf + 1), [0] * (plus_inf + 1 - minus_inf) , \"|-k\")\n",
    "    for num in range(minus_inf, plus_inf + 1):\n",
    "        if num == minus_inf:\n",
    "            numtext = \"-∞\"\n",
    "        elif num == plus_inf:\n",
    "            numtext = \"∞\"\n",
    "        else:\n",
    "            numtext = num\n",
    "        self.abax.text(num, -1, numtext, ha=\"center\")\n",
    "        \n",
    "    arrowprops = { \"arrowstyle\": \"->\"}\n",
    "    self.abax.plot(alphacoord, 0, \"or\")\n",
    "    self.abax.annotate(f\"α = {alpha}\", xy=(alphacoord, 0), xytext=(minus_inf, 1),\n",
    "                    arrowprops=arrowprops, ha=\"center\", c=acolor)\n",
    "    self.abax.plot(betacoord, 0, \"ob\")\n",
    "    self.abax.annotate(f\"β = {beta}\", xy=(betacoord, 0), xytext=(plus_inf, 1),\n",
    "                    arrowprops=arrowprops, ha=\"center\", c=bcolor)\n",
    "    if score is not None:\n",
    "        self.abax.plot(score, 0, \"og\")\n",
    "        self.abax.annotate(f\"score = {score}\", xy=(score, 0),\n",
    "                        xytext=((minus_inf + plus_inf) / 2, 1), \n",
    "                        arrowprops=arrowprops, ha=\"center\")\n",
    "            \n",
    "    facecolorlist = [\"aqua\", \"yellow\", \"lightgray\"]\n",
    "    textcolorlist = [\"black\", \"black\", \"black\"]\n",
    "    if maxnode:\n",
    "        nodetype = f\"深さ {self.selectednode.mb.move_count} max node\"\n",
    "        textlist = [\"β 狩り (β ≦ score)\", \"α 値の更新 (α < score < β)\", \"α 値の更新なし (score ≦ α)\"]\n",
    "        if score is not None:\n",
    "            if beta <= score:\n",
    "                textcolorlist[0] = \"red\"\n",
    "            elif alpha < score:\n",
    "                textcolorlist[1] = \"red\"\n",
    "            else:\n",
    "                textcolorlist[2] = \"red\"\n",
    "    else:\n",
    "        nodetype = f\"深さ {self.selectednode.mb.move_count} min node\"\n",
    "        textlist = [\"α 狩り (score <= α)\", \"β 値の更新 (α < score < β)\", \"β 値の更新なし (score ≦ β)\"]\n",
    "        if score is not None :\n",
    "            if score <= alpha:\n",
    "                textcolorlist[0] = \"red\"\n",
    "            elif score < beta:\n",
    "                textcolorlist[1] = \"red\"\n",
    "            else:\n",
    "                textcolorlist[2] = \"red\"\n",
    "            \n",
    "    if status == \"start\":\n",
    "        facecolor = \"white\"\n",
    "        nodetype += \" 処理の開始\"\n",
    "    elif status == \"score\":\n",
    "        facecolor = \"lightyellow\"\n",
    "        nodetype += \" 子ノードの評価値\"\n",
    "    elif status == \"update\":\n",
    "        facecolor = \"lightcyan\"\n",
    "        if maxnode:\n",
    "            nodetype += \" α 値の処理\"\n",
    "        else:\n",
    "            nodetype += \" β 値の処理\"\n",
    "    elif status == \"tt\":\n",
    "        textlist[0] = \"置換表による置換\"\n",
    "        textcolorlist[0] = \"red\"\n",
    "        facecolor = \"honeydew\"\n",
    "    else:\n",
    "        facecolor = \"lavenderblush\"\n",
    "        nodetype += \" 評価値の確定\"\n",
    "    self.abfig.set_facecolor(facecolor)\n",
    "    self.abax.text(6, 1, nodetype)   \n",
    "    for i in range(3):\n",
    "        rect = patches.Rectangle(xy=(5, 0.3 - i * 0.7), width=0.8, height=0.5, fc=facecolorlist[i])\n",
    "        self.abax.add_patch(rect)\n",
    "        self.abax.text(6, 0.4 - i * 0.7, textlist[i], c=textcolorlist[i])    \n",
    "    \n",
    "    num_total = num_calculated + num_pruned\n",
    "    num_ratio = num_calculated / num_total if num_total != 0 else 0\n",
    "    _, _, _, _, prev_num_calculated, prev_num_pruned = self.mbtree.ablist_by_score[self.prev_frame]\n",
    "    prev_num_total = prev_num_calculated + prev_num_pruned\n",
    "    diff_num_calculated = num_calculated - prev_num_calculated\n",
    "    diff_num_pruned = num_pruned - prev_num_pruned\n",
    "    diff_num_total = num_total - prev_num_total\n",
    "    diff_num_ratio = diff_num_calculated / diff_num_total if diff_num_total != 0 else 0\n",
    "\n",
    "    textlist = [ \"計算済\", \"枝狩り\", \"合計\", \"割合\" ]\n",
    "    datalist = [ num_calculated, num_pruned, num_total, f\"{num_ratio * 100:.1f}%\"]\n",
    "    diff_datalist = [ f\"{diff_num_calculated:+d}\", f\"{diff_num_pruned:+d}\", \n",
    "                    f\"{diff_num_total:+d}\", f\"{diff_num_ratio * 100:.1f}%\"]\n",
    "    for i in range(4):\n",
    "        self.abax.text(15, 1 - i * 0.7, textlist[i])\n",
    "        self.abax.text(19.5, 1 - i * 0.7, datalist[i], ha=\"right\")\n",
    "        self.abax.text(22.5, 1 - i * 0.7, diff_datalist[i], ha=\"right\")\n",
    "\n",
    "Mbtree_Anim.update_ab = update_ab"
   ]
  },
  {
   "cell_type": "code",
   "execution_count": 9,
   "metadata": {},
   "outputs": [
    {
     "data": {
      "application/vnd.jupyter.widget-view+json": {
       "model_id": "ad6fc6d0ad4e4ade999148c3bfe3a975",
       "version_major": 2,
       "version_minor": 0
      },
      "text/plain": [
       "VBox(children=(HBox(children=(Play(value=0, interval=500, max=53979), Button(description='<', layout=Layout(wi…"
      ]
     },
     "metadata": {},
     "output_type": "display_data"
    },
    {
     "data": {
      "text/plain": [
       "<tree.Mbtree_Anim at 0x1c9c30ef8d0>"
      ]
     },
     "execution_count": 9,
     "metadata": {},
     "output_type": "execute_result"
    },
    {
     "ename": "IndexError",
     "evalue": "list index out of range",
     "output_type": "error",
     "traceback": [
      "\u001b[1;31m---------------------------------------------------------------------------\u001b[0m",
      "\u001b[1;31mIndexError\u001b[0m                                Traceback (most recent call last)",
      "File \u001b[1;32mc:\\Users\\ys\\ai\\marubatsu\\151\\tree.py:1252\u001b[0m, in \u001b[0;36mMbtree_Anim.create_event_handler.<locals>.on_node_first_button_clicked\u001b[1;34m(b)\u001b[0m\n\u001b[0;32m   1251\u001b[0m \u001b[38;5;28;01mdef\u001b[39;00m \u001b[38;5;21mon_node_first_button_clicked\u001b[39m(b\u001b[38;5;241m=\u001b[39m\u001b[38;5;28;01mNone\u001b[39;00m):\n\u001b[1;32m-> 1252\u001b[0m     change_frame(\u001b[38;5;124m\"\u001b[39m\u001b[38;5;124mstart\u001b[39m\u001b[38;5;124m\"\u001b[39m, \u001b[38;5;241m-\u001b[39m\u001b[38;5;241m1\u001b[39m, [\u001b[38;5;124m\"\u001b[39m\u001b[38;5;124mstart\u001b[39m\u001b[38;5;124m\"\u001b[39m])\n",
      "File \u001b[1;32mc:\\Users\\ys\\ai\\marubatsu\\151\\tree.py:1244\u001b[0m, in \u001b[0;36mMbtree_Anim.create_event_handler.<locals>.change_frame\u001b[1;34m(edge_status, diff, status_list)\u001b[0m\n\u001b[0;32m   1242\u001b[0m \u001b[38;5;28;01mwhile\u001b[39;00m \u001b[38;5;28;01mTrue\u001b[39;00m:\n\u001b[0;32m   1243\u001b[0m     frame \u001b[38;5;241m+\u001b[39m\u001b[38;5;241m=\u001b[39m diff\n\u001b[1;32m-> 1244\u001b[0m     node \u001b[38;5;241m=\u001b[39m \u001b[38;5;28mself\u001b[39m\u001b[38;5;241m.\u001b[39mmbtree\u001b[38;5;241m.\u001b[39mnodelist_by_score[frame]\n\u001b[0;32m   1245\u001b[0m     status \u001b[38;5;241m=\u001b[39m \u001b[38;5;28mself\u001b[39m\u001b[38;5;241m.\u001b[39mmbtree\u001b[38;5;241m.\u001b[39mablist_by_score[frame][\u001b[38;5;241m3\u001b[39m]\n\u001b[0;32m   1246\u001b[0m     \u001b[38;5;28;01mif\u001b[39;00m node \u001b[38;5;241m==\u001b[39m selectednode \u001b[38;5;129;01mand\u001b[39;00m status \u001b[38;5;129;01min\u001b[39;00m status_list:\n",
      "\u001b[1;31mIndexError\u001b[0m: list index out of range"
     ]
    }
   ],
   "source": [
    "Mbtree_Anim(mbtree, isscore=True)"
   ]
  },
  {
   "cell_type": "code",
   "execution_count": 10,
   "metadata": {},
   "outputs": [],
   "source": [
    "def update_gui(self):\n",
    "    self.ax.clear()\n",
    "    self.ax.set_xlim(-1, self.width - 1)\n",
    "    self.ax.set_ylim(-1, self.height - 1)   \n",
    "    self.ax.invert_yaxis()\n",
    "    self.ax.axis(\"off\")   \n",
    "    \n",
    "    self.selectednode = self.nodelist[self.play.value]\n",
    "    self.centernode = self.selectednode\n",
    "    if self.mbtree.algo == \"bf\":\n",
    "        if self.centernode.depth > 0:\n",
    "            self.centernode = self.centernode.parent\n",
    "    while self.centernode.depth > 6:\n",
    "        self.centernode = self.centernode.parent\n",
    "    if self.centernode.depth <= 4:\n",
    "        maxdepth = self.centernode.depth + 1\n",
    "    elif self.centernode.depth == 5:\n",
    "        maxdepth = 7\n",
    "    else:\n",
    "        maxdepth = 9\n",
    "    self.mbtree.draw_subtree(centernode=self.centernode, selectednode=self.selectednode,\n",
    "                             anim_frame=self.play.value, isscore=self.isscore, \n",
    "                             ax=self.ax, maxdepth=maxdepth, size=self.size)\n",
    "    if self.abfig is not None:\n",
    "        self.update_ab()\n",
    "        status = self.mbtree.ablist_by_score[self.play.value][3]\n",
    "        disabled = status == \"start\" or status == \"tt\"\n",
    "        self.set_button_status(self.node_first_button, disabled=disabled)\n",
    "        self.set_button_status(self.node_prev_button, disabled=disabled)\n",
    "        disabled = status == \"end\" or status == \"tt\"\n",
    "        self.set_button_status(self.node_next_button, disabled=disabled)\n",
    "        self.set_button_status(self.node_last_button, disabled=disabled)\n",
    "\n",
    "    disabled = self.play.value == 0\n",
    "    self.set_button_status(self.prev_button, disabled=disabled)\n",
    "    disabled = self.play.value == self.nodenum - 1\n",
    "    self.set_button_status(self.next_button, disabled=disabled)\n",
    "    \n",
    "Mbtree_Anim.update_gui = update_gui"
   ]
  },
  {
   "cell_type": "code",
   "execution_count": 11,
   "metadata": {},
   "outputs": [
    {
     "data": {
      "application/vnd.jupyter.widget-view+json": {
       "model_id": "5a911c41a84f4d968ee0aad1c4e2df47",
       "version_major": 2,
       "version_minor": 0
      },
      "text/plain": [
       "VBox(children=(HBox(children=(Play(value=0, interval=500, max=53979), Button(description='<', layout=Layout(wi…"
      ]
     },
     "metadata": {},
     "output_type": "display_data"
    },
    {
     "data": {
      "text/plain": [
       "<tree.Mbtree_Anim at 0x1c9ca414a10>"
      ]
     },
     "execution_count": 11,
     "metadata": {},
     "output_type": "execute_result"
    }
   ],
   "source": [
    "Mbtree_Anim(mbtree, isscore=True)"
   ]
  },
  {
   "cell_type": "code",
   "execution_count": 12,
   "metadata": {},
   "outputs": [],
   "source": [
    "def calc_score_by_ab(self, abroot, debug=False, minimax=False, init_ab=False, use_tt=False):          \n",
    "    def assign_pruned_index(node, index):\n",
    "        node.pruned_index = index\n",
    "        self.num_pruned += 1\n",
    "        for childnode in node.children:\n",
    "            assign_pruned_index(childnode, index)\n",
    "        \n",
    "    def calc_ab_score(node, tt, alpha=float(\"-inf\"), beta=float(\"inf\")):\n",
    "        if minimax:\n",
    "            alpha = float(\"-inf\")\n",
    "            beta = float(\"inf\")\n",
    "        if use_tt:\n",
    "            boardtxt = node.mb.board_to_str()\n",
    "            if boardtxt in tt:\n",
    "                node.score = tt[boardtxt]\n",
    "                if node.mb.turn == Marubatsu.CIRCLE:\n",
    "                    alpha = node.score\n",
    "                else:\n",
    "                    beta = node.score\n",
    "                self.nodelist_by_score.append(node)\n",
    "                self.num_calculated += 1     \n",
    "                for childnode in node.children:\n",
    "                    assign_pruned_index(childnode, len(self.nodelist_by_score) - 1)\n",
    "                self.ablist_by_score.append((alpha, beta, None, \"tt\",\n",
    "                                             self.num_calculated, self.num_pruned))\n",
    "                node.score_index = len(self.nodelist_by_score) - 1  \n",
    "                return node.score\n",
    "                \n",
    "        self.nodelist_by_score.append(node)\n",
    "        self.ablist_by_score.append((alpha, beta, None, \"start\",\n",
    "                                    self.num_calculated, self.num_pruned))\n",
    "        if node.mb.status != Marubatsu.PLAYING:\n",
    "            self.calc_score_of_node(node)\n",
    "            if node.mb.turn == Marubatsu.CIRCLE:\n",
    "                alpha = node.score\n",
    "            else:\n",
    "                beta = node.score\n",
    "        else:\n",
    "            if node.mb.turn == Marubatsu.CIRCLE:\n",
    "                for childnode in node.children:\n",
    "                    score = calc_ab_score(childnode, tt, alpha, beta)\n",
    "                    self.nodelist_by_score.append(node)\n",
    "                    self.ablist_by_score.append((alpha, beta, score, \"score\",\n",
    "                                                self.num_calculated, self.num_pruned))\n",
    "                    if score > alpha:\n",
    "                        alpha = score\n",
    "                    self.nodelist_by_score.append(node)\n",
    "                    if score >= beta:\n",
    "                        index = node.children.index(childnode)\n",
    "                        for prunednode in node.children[index + 1:]:\n",
    "                            assign_pruned_index(prunednode, len(self.nodelist_by_score) - 1)\n",
    "                    self.ablist_by_score.append((alpha, beta, None, \"update\",\n",
    "                                                self.num_calculated, self.num_pruned))\n",
    "                    if score >= beta:\n",
    "                        break\n",
    "                node.score = alpha\n",
    "            else:\n",
    "                for childnode in node.children:\n",
    "                    score = calc_ab_score(childnode, tt, alpha, beta)\n",
    "                    self.nodelist_by_score.append(node)\n",
    "                    self.ablist_by_score.append((alpha, beta, score, \"score\",\n",
    "                                                self.num_calculated, self.num_pruned))\n",
    "                    if score < beta:\n",
    "                        beta = score\n",
    "                    self.nodelist_by_score.append(node)\n",
    "                    if score <= alpha:\n",
    "                        index = node.children.index(childnode)\n",
    "                        for prunednode in node.children[index + 1:]:\n",
    "                            assign_pruned_index(prunednode, len(self.nodelist_by_score) - 1)\n",
    "                    self.ablist_by_score.append((alpha, beta, None, \"update\",\n",
    "                                                self.num_calculated, self.num_pruned))\n",
    "                    if score <= alpha:\n",
    "                        break\n",
    "                node.score = beta\n",
    "\n",
    "        self.nodelist_by_score.append(node)\n",
    "        self.num_calculated += 1     \n",
    "        self.ablist_by_score.append((alpha, beta, None, \"end\",\n",
    "                                    self.num_calculated, self.num_pruned))\n",
    "        node.score_index = len(self.nodelist_by_score) - 1  \n",
    "        if use_tt:\n",
    "            from util import calc_same_boardtexts\n",
    "            \n",
    "            boardtxtlist = calc_same_boardtexts(node.mb)\n",
    "            for boardtxt in boardtxtlist:\n",
    "                tt[boardtxt] = node.score\n",
    "        return node.score\n",
    "\n",
    "    from ai import dprint       \n",
    "    for node in self.nodelist:\n",
    "        node.score_index = float(\"inf\")\n",
    "        node.pruned_index = float(\"inf\")\n",
    "    self.nodelist_by_score = []\n",
    "    self.ablist_by_score = []\n",
    "    self.num_calculated = 0\n",
    "    self.num_pruned = 0\n",
    "    if init_ab:\n",
    "        alpha = -2 if self.shortest_victory else -1\n",
    "        beta = 3 if self.shortest_victory else 1\n",
    "    else:\n",
    "        alpha = float(\"-inf\")\n",
    "        beta = float(\"inf\")\n",
    "    calc_ab_score(abroot, {}, alpha, beta)\n",
    "    total_nodenum = self.num_pruned + self.num_calculated\n",
    "    ratio = self.num_calculated / total_nodenum * 100\n",
    "    dprint(debug, \"ミニマックス法で計算したか\", minimax)    \n",
    "    dprint(debug, \"計算したノードの数\",  self.num_calculated)\n",
    "    dprint(debug, \"枝狩りしたノードの数\",  self.num_pruned)\n",
    "    dprint(debug, \"合計\",  total_nodenum)\n",
    "    dprint(debug, f\"割合 {ratio:.1f}%\")\n",
    "    \n",
    "Mbtree.calc_score_by_ab = calc_score_by_ab"
   ]
  },
  {
   "cell_type": "code",
   "execution_count": 13,
   "metadata": {},
   "outputs": [
    {
     "name": "stdout",
     "output_type": "stream",
     "text": [
      "ミニマックス法で計算したか True\n",
      "計算したノードの数 2271\n",
      "枝狩りしたノードの数 547675\n",
      "合計 549946\n",
      "割合 0.4%\n"
     ]
    }
   ],
   "source": [
    "mbtree.calc_score_by_ab(mbtree.root, use_tt=True, minimax=True, debug=True)"
   ]
  },
  {
   "cell_type": "code",
   "execution_count": 14,
   "metadata": {},
   "outputs": [
    {
     "data": {
      "application/vnd.jupyter.widget-view+json": {
       "model_id": "3348990c8b83457fac97c110395f8ae9",
       "version_major": 2,
       "version_minor": 0
      },
      "text/plain": [
       "VBox(children=(HBox(children=(Play(value=0, interval=500, max=7575), Button(description='<', layout=Layout(wid…"
      ]
     },
     "metadata": {},
     "output_type": "display_data"
    },
    {
     "data": {
      "text/plain": [
       "<tree.Mbtree_Anim at 0x1c9d1269490>"
      ]
     },
     "execution_count": 14,
     "metadata": {},
     "output_type": "execute_result"
    }
   ],
   "source": [
    "Mbtree_Anim(mbtree, isscore=True)"
   ]
  },
  {
   "cell_type": "code",
   "execution_count": 15,
   "metadata": {},
   "outputs": [],
   "source": [
    "from ai import ai_by_score, dprint\n",
    "from copy import deepcopy\n",
    "\n",
    "@ai_by_score\n",
    "def ai_mmdfs_tt(mb, debug=False, shortest_victory=False):\n",
    "    count = 0\n",
    "    def mm_search(mborig, tt):\n",
    "        nonlocal count\n",
    "        count += 1\n",
    "\n",
    "        if mborig.status == Marubatsu.CIRCLE:\n",
    "            return (11 - mborig.move_count) / 2 if shortest_victory else 1\n",
    "        elif mborig.status == Marubatsu.CROSS:\n",
    "            return (mborig.move_count - 10) / 2 if shortest_victory else -1\n",
    "        elif mborig.status == Marubatsu.DRAW:\n",
    "            return 0\n",
    "        \n",
    "        boardtxt = mborig.board_to_str()\n",
    "        if boardtxt in tt:\n",
    "            return tt[boardtxt]\n",
    "        \n",
    "        legal_moves = mborig.calc_legal_moves()\n",
    "        score_list = []\n",
    "        for x, y in legal_moves:\n",
    "            mb = deepcopy(mborig)\n",
    "            mb.move(x, y)\n",
    "            score_list.append(mm_search(mb, tt))\n",
    "        if mborig.turn == Marubatsu.CIRCLE:\n",
    "            score = max(score_list)\n",
    "        else:\n",
    "            score = min(score_list)\n",
    "            \n",
    "        from util import calc_same_boardtexts\n",
    "            \n",
    "        boardtxtlist = calc_same_boardtexts(mborig)\n",
    "        for boardtxt in boardtxtlist:\n",
    "            tt[boardtxt] = score\n",
    "        return score\n",
    "    \n",
    "    score = mm_search(mb, {})\n",
    "    dprint(debug, \"count =\", count)\n",
    "    if mb.turn == Marubatsu.CIRCLE:\n",
    "        score *= -1\n",
    "    return score"
   ]
  },
  {
   "cell_type": "code",
   "execution_count": 16,
   "metadata": {},
   "outputs": [
    {
     "name": "stderr",
     "output_type": "stream",
     "text": [
      "100%|██████████| 431/431 [00:05<00:00, 80.79it/s] \n"
     ]
    },
    {
     "name": "stdout",
     "output_type": "stream",
     "text": [
      "431/431 100.00%\n"
     ]
    },
    {
     "name": "stderr",
     "output_type": "stream",
     "text": [
      "100%|██████████| 431/431 [00:04<00:00, 91.44it/s] "
     ]
    },
    {
     "name": "stdout",
     "output_type": "stream",
     "text": [
      "431/431 100.00%\n"
     ]
    },
    {
     "name": "stderr",
     "output_type": "stream",
     "text": [
      "\n"
     ]
    },
    {
     "data": {
      "text/plain": [
       "(True, [])"
      ]
     },
     "execution_count": 16,
     "metadata": {},
     "output_type": "execute_result"
    }
   ],
   "source": [
    "from util import Check_solved\n",
    "\n",
    "Check_solved.is_strongly_solved(ai_mmdfs_tt)\n",
    "Check_solved.is_strongly_solved(ai_mmdfs_tt, params={\"shortest_victory\": True})"
   ]
  },
  {
   "cell_type": "code",
   "execution_count": 17,
   "metadata": {},
   "outputs": [
    {
     "name": "stdout",
     "output_type": "stream",
     "text": [
      "depth 0\n",
      "ミニマックス法で計算したか True\n",
      "計算したノードの数 2271\n",
      "枝狩りしたノードの数 547675\n",
      "合計 549946\n",
      "割合 0.4%\n",
      "depth 1\n",
      "ミニマックス法で計算したか True\n",
      "計算したノードの数 1820\n",
      "枝狩りしたノードの数 57885\n",
      "合計 59705\n",
      "割合 3.0%\n",
      "depth 2\n",
      "ミニマックス法で計算したか True\n",
      "計算したノードの数 1056\n",
      "枝狩りしたノードの数 7176\n",
      "合計 8232\n",
      "割合 12.8%\n",
      "depth 3\n",
      "ミニマックス法で計算したか True\n",
      "計算したノードの数 250\n",
      "枝狩りしたノードの数 1099\n",
      "合計 1349\n",
      "割合 18.5%\n",
      "depth 4\n",
      "ミニマックス法で計算したか True\n",
      "計算したノードの数 124\n",
      "枝狩りしたノードの数 110\n",
      "合計 234\n",
      "割合 53.0%\n",
      "depth 5\n",
      "ミニマックス法で計算したか True\n",
      "計算したノードの数 34\n",
      "枝狩りしたノードの数 7\n",
      "合計 41\n",
      "割合 82.9%\n",
      "depth 6\n",
      "ミニマックス法で計算したか True\n",
      "計算したノードの数 7\n",
      "枝狩りしたノードの数 1\n",
      "合計 8\n",
      "割合 87.5%\n",
      "depth 7\n",
      "ミニマックス法で計算したか True\n",
      "計算したノードの数 1\n",
      "枝狩りしたノードの数 0\n",
      "合計 1\n",
      "割合 100.0%\n",
      "depth 8\n",
      "ミニマックス法で計算したか True\n",
      "計算したノードの数 2\n",
      "枝狩りしたノードの数 0\n",
      "合計 2\n",
      "割合 100.0%\n"
     ]
    }
   ],
   "source": [
    "for depth in range(9):\n",
    "    print(\"depth\", depth)\n",
    "    mbtree.calc_score_by_ab(mbtree.nodelist_by_depth[depth][0], minimax=True, use_tt=True, debug=True)"
   ]
  },
  {
   "cell_type": "code",
   "execution_count": 18,
   "metadata": {},
   "outputs": [
    {
     "name": "stdout",
     "output_type": "stream",
     "text": [
      "depth 0\n",
      "ミニマックス法で計算したか False\n",
      "計算したノードの数 18297\n",
      "枝狩りしたノードの数 531649\n",
      "合計 549946\n",
      "割合 3.3%\n",
      "depth 1\n",
      "ミニマックス法で計算したか False\n",
      "計算したノードの数 2338\n",
      "枝狩りしたノードの数 57367\n",
      "合計 59705\n",
      "割合 3.9%\n",
      "depth 2\n",
      "ミニマックス法で計算したか False\n",
      "計算したノードの数 749\n",
      "枝狩りしたノードの数 7483\n",
      "合計 8232\n",
      "割合 9.1%\n",
      "depth 3\n",
      "ミニマックス法で計算したか False\n",
      "計算したノードの数 336\n",
      "枝狩りしたノードの数 1013\n",
      "合計 1349\n",
      "割合 24.9%\n",
      "depth 4\n",
      "ミニマックス法で計算したか False\n",
      "計算したノードの数 65\n",
      "枝狩りしたノードの数 169\n",
      "合計 234\n",
      "割合 27.8%\n",
      "depth 5\n",
      "ミニマックス法で計算したか False\n",
      "計算したノードの数 32\n",
      "枝狩りしたノードの数 9\n",
      "合計 41\n",
      "割合 78.0%\n",
      "depth 6\n",
      "ミニマックス法で計算したか False\n",
      "計算したノードの数 6\n",
      "枝狩りしたノードの数 2\n",
      "合計 8\n",
      "割合 75.0%\n",
      "depth 7\n",
      "ミニマックス法で計算したか False\n",
      "計算したノードの数 1\n",
      "枝狩りしたノードの数 0\n",
      "合計 1\n",
      "割合 100.0%\n",
      "depth 8\n",
      "ミニマックス法で計算したか False\n",
      "計算したノードの数 2\n",
      "枝狩りしたノードの数 0\n",
      "合計 2\n",
      "割合 100.0%\n"
     ]
    }
   ],
   "source": [
    "for depth in range(9):\n",
    "    print(\"depth\", depth)\n",
    "    mbtree.calc_score_by_ab(mbtree.nodelist_by_depth[depth][0], debug=True)"
   ]
  },
  {
   "cell_type": "code",
   "execution_count": 19,
   "metadata": {},
   "outputs": [
    {
     "name": "stdout",
     "output_type": "stream",
     "text": [
      "ミニマックス法で計算したか False\n",
      "計算したノードの数 999\n",
      "枝狩りしたノードの数 548947\n",
      "合計 549946\n",
      "割合 0.2%\n"
     ]
    }
   ],
   "source": [
    "mbtree.calc_score_by_ab(mbtree.root, use_tt=True, debug=True)"
   ]
  }
 ],
 "metadata": {
  "kernelspec": {
   "display_name": "marubatsu",
   "language": "python",
   "name": "python3"
  },
  "language_info": {
   "codemirror_mode": {
    "name": "ipython",
    "version": 3
   },
   "file_extension": ".py",
   "mimetype": "text/x-python",
   "name": "python",
   "nbconvert_exporter": "python",
   "pygments_lexer": "ipython3",
   "version": "3.11.4"
  }
 },
 "nbformat": 4,
 "nbformat_minor": 2
}
