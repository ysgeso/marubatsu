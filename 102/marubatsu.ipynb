{
 "cells": [
  {
   "cell_type": "code",
   "execution_count": 1,
   "metadata": {},
   "outputs": [
    {
     "name": "stdout",
     "output_type": "stream",
     "text": [
      "45\n"
     ]
    }
   ],
   "source": [
    "def sum9(i, total):\n",
    "    if i < 10:\n",
    "        total += i\n",
    "        i += 1\n",
    "        return sum9(i, total)\n",
    "    else:\n",
    "        return total\n",
    "\n",
    "print(sum9(i=0, total=0))"
   ]
  },
  {
   "cell_type": "code",
   "execution_count": 2,
   "metadata": {},
   "outputs": [
    {
     "name": "stdout",
     "output_type": "stream",
     "text": [
      "45\n"
     ]
    }
   ],
   "source": [
    "total = 0\n",
    "i = 0\n",
    "while i < 10:\n",
    "    total += i\n",
    "    i += 1\n",
    "\n",
    "print(total)"
   ]
  },
  {
   "cell_type": "code",
   "execution_count": 3,
   "metadata": {},
   "outputs": [
    {
     "name": "stdout",
     "output_type": "stream",
     "text": [
      " 1 回目の sum9 の呼び出し。i =  0, total =  0\n",
      " 2 回目の sum9 の呼び出し。i =  1, total =  0\n",
      " 3 回目の sum9 の呼び出し。i =  2, total =  1\n",
      " 4 回目の sum9 の呼び出し。i =  3, total =  3\n",
      " 5 回目の sum9 の呼び出し。i =  4, total =  6\n",
      " 6 回目の sum9 の呼び出し。i =  5, total = 10\n",
      " 7 回目の sum9 の呼び出し。i =  6, total = 15\n",
      " 8 回目の sum9 の呼び出し。i =  7, total = 21\n",
      " 9 回目の sum9 の呼び出し。i =  8, total = 28\n",
      "10 回目の sum9 の呼び出し。i =  9, total = 36\n",
      "11 回目の sum9 の呼び出し。i = 10, total = 45\n",
      "11 回目の sum9 の返り値 45\n",
      "10 回目の sum9 の返り値 45\n",
      " 9 回目の sum9 の返り値 45\n",
      " 8 回目の sum9 の返り値 45\n",
      " 7 回目の sum9 の返り値 45\n",
      " 6 回目の sum9 の返り値 45\n",
      " 5 回目の sum9 の返り値 45\n",
      " 4 回目の sum9 の返り値 45\n",
      " 3 回目の sum9 の返り値 45\n",
      " 2 回目の sum9 の返り値 45\n",
      " 1 回目の sum9 の返り値 45\n",
      "45\n"
     ]
    }
   ],
   "source": [
    "def sum9(i, total):\n",
    "    count = i + 1\n",
    "    print(f\"{count:2} 回目の sum9 の呼び出し。i = {i:2}, total = {total:2}\")\n",
    "    if i < 10:\n",
    "        total += i\n",
    "        i += 1\n",
    "        retval = sum9(i, total)\n",
    "        print(f\"{count:2} 回目の sum9 の返り値 {retval}\")\n",
    "        return retval\n",
    "    else:\n",
    "        print(f\"{count:2} 回目の sum9 の返り値 {total}\")\n",
    "        return total\n",
    "\n",
    "print(sum9(i=0, total=0))"
   ]
  },
  {
   "cell_type": "code",
   "execution_count": 4,
   "metadata": {},
   "outputs": [],
   "source": [
    "def sum_by_br(n, i, total):\n",
    "    if i <= n:\n",
    "        total += i\n",
    "        i += 1\n",
    "        return sum_by_br(n, i, total)\n",
    "    else:\n",
    "        return total"
   ]
  },
  {
   "cell_type": "code",
   "execution_count": 5,
   "metadata": {},
   "outputs": [
    {
     "name": "stdout",
     "output_type": "stream",
     "text": [
      "45\n"
     ]
    }
   ],
   "source": [
    "print(sum_by_br(n=9, i=0, total=0))"
   ]
  },
  {
   "cell_type": "code",
   "execution_count": 6,
   "metadata": {},
   "outputs": [],
   "source": [
    "def sum_by_br(n, i=0, total=0):\n",
    "    if i <= n:\n",
    "        total += i\n",
    "        i += 1\n",
    "        return sum_by_br(n, i, total)\n",
    "    else:\n",
    "        return total"
   ]
  },
  {
   "cell_type": "code",
   "execution_count": 7,
   "metadata": {},
   "outputs": [
    {
     "name": "stdout",
     "output_type": "stream",
     "text": [
      "45\n"
     ]
    }
   ],
   "source": [
    "print(sum_by_br(9))"
   ]
  },
  {
   "cell_type": "code",
   "execution_count": 8,
   "metadata": {},
   "outputs": [],
   "source": [
    "def sum_by_br(n):\n",
    "    def sum_by_br_(n, i, total):\n",
    "        if i <= n:\n",
    "            total += i\n",
    "            i += 1\n",
    "            return sum_by_br_(n, i, total)\n",
    "        else:\n",
    "            return total\n",
    "        \n",
    "    return sum_by_br_(n, i=0, total=0)"
   ]
  },
  {
   "cell_type": "code",
   "execution_count": 9,
   "metadata": {},
   "outputs": [
    {
     "name": "stdout",
     "output_type": "stream",
     "text": [
      "45\n"
     ]
    }
   ],
   "source": [
    "print(sum_by_br(9))"
   ]
  },
  {
   "cell_type": "code",
   "execution_count": 10,
   "metadata": {},
   "outputs": [],
   "source": [
    "def sum_by_tr(n):\n",
    "    if n == 0:\n",
    "        return 0\n",
    "    return sum_by_tr(n - 1) + n"
   ]
  },
  {
   "cell_type": "code",
   "execution_count": 11,
   "metadata": {},
   "outputs": [
    {
     "name": "stdout",
     "output_type": "stream",
     "text": [
      "0 0\n",
      "1 1\n",
      "2 3\n",
      "3 6\n",
      "4 10\n",
      "5 15\n",
      "6 21\n",
      "7 28\n",
      "8 36\n",
      "9 45\n"
     ]
    }
   ],
   "source": [
    "for i in range(10):\n",
    "    print(i, sum_by_tr(i))"
   ]
  },
  {
   "cell_type": "code",
   "execution_count": 12,
   "metadata": {},
   "outputs": [],
   "source": [
    "def sum_by_tr(n, depth=0):\n",
    "    print(f\"深さ {depth} の呼び出し。n = {n}\")   \n",
    "    if n == 0:\n",
    "        print(f\"深さ {depth} の返り値(x_{n}) = 0\")   \n",
    "        return 0\n",
    "    retval = sum_by_tr(n - 1, depth + 1) + n\n",
    "    print(f\"深さ {depth} の返り値(x_{n}) = {retval}\")   \n",
    "    return retval"
   ]
  },
  {
   "cell_type": "code",
   "execution_count": 13,
   "metadata": {},
   "outputs": [
    {
     "name": "stdout",
     "output_type": "stream",
     "text": [
      "深さ 0 の呼び出し。n = 9\n",
      "深さ 1 の呼び出し。n = 8\n",
      "深さ 2 の呼び出し。n = 7\n",
      "深さ 3 の呼び出し。n = 6\n",
      "深さ 4 の呼び出し。n = 5\n",
      "深さ 5 の呼び出し。n = 4\n",
      "深さ 6 の呼び出し。n = 3\n",
      "深さ 7 の呼び出し。n = 2\n",
      "深さ 8 の呼び出し。n = 1\n",
      "深さ 9 の呼び出し。n = 0\n",
      "深さ 9 の返り値(x_0) = 0\n",
      "深さ 8 の返り値(x_1) = 1\n",
      "深さ 7 の返り値(x_2) = 3\n",
      "深さ 6 の返り値(x_3) = 6\n",
      "深さ 5 の返り値(x_4) = 10\n",
      "深さ 4 の返り値(x_5) = 15\n",
      "深さ 3 の返り値(x_6) = 21\n",
      "深さ 2 の返り値(x_7) = 28\n",
      "深さ 1 の返り値(x_8) = 36\n",
      "深さ 0 の返り値(x_9) = 45\n",
      "45\n"
     ]
    }
   ],
   "source": [
    "print(sum_by_tr(9))"
   ]
  },
  {
   "cell_type": "code",
   "execution_count": 14,
   "metadata": {},
   "outputs": [],
   "source": [
    "def fib_by_f(n):\n",
    "    if n == 0:\n",
    "        return 0\n",
    "    elif n == 1:\n",
    "        return 1\n",
    "    \n",
    "    fib_p2 = 0\n",
    "    fib_p1 = 1\n",
    "    for i in range(2, n + 1):\n",
    "        fib = fib_p1 + fib_p2\n",
    "        fib_p2 = fib_p1\n",
    "        fib_p1 = fib\n",
    "    return fib"
   ]
  },
  {
   "cell_type": "code",
   "execution_count": 15,
   "metadata": {},
   "outputs": [],
   "source": [
    "def fib_by_br(n, i=2, fib_p1=1, fib_p2=0):\n",
    "    if n == 0:\n",
    "        return 0\n",
    "    elif n == 1:\n",
    "        return 1\n",
    "        \n",
    "    if i <= n:\n",
    "        fib = fib_p1 + fib_p2\n",
    "        fib_p2 = fib_p1\n",
    "        fib_p1 = fib\n",
    "        i += 1\n",
    "        return fib_by_br(n, i, fib_p1, fib_p2)\n",
    "    else:\n",
    "        return fib_p1"
   ]
  },
  {
   "cell_type": "code",
   "execution_count": 16,
   "metadata": {},
   "outputs": [
    {
     "name": "stdout",
     "output_type": "stream",
     "text": [
      "fib(0) = 0, 0\n",
      "fib(1) = 1, 1\n",
      "fib(2) = 1, 1\n",
      "fib(3) = 2, 2\n",
      "fib(4) = 3, 3\n",
      "fib(5) = 5, 5\n",
      "fib(6) = 8, 8\n",
      "fib(7) = 13, 13\n",
      "fib(8) = 21, 21\n",
      "fib(9) = 34, 34\n"
     ]
    }
   ],
   "source": [
    "for i in range(10):\n",
    "    print(f\"fib({i}) = {fib_by_f(i)}, {fib_by_br(i)}\")"
   ]
  },
  {
   "cell_type": "code",
   "execution_count": 17,
   "metadata": {},
   "outputs": [],
   "source": [
    "def fib_by_br(n, i=2, fib_p1=1, fib_p2=0):\n",
    "    if n == 0:\n",
    "        return 0\n",
    "    elif n == 1:\n",
    "        return 1\n",
    "    \n",
    "    if i <= n:\n",
    "        return fib_by_br(n, i + 1, fib_p1 + fib_p2, fib_p1)\n",
    "    else:\n",
    "        return fib_p1"
   ]
  },
  {
   "cell_type": "code",
   "execution_count": 18,
   "metadata": {},
   "outputs": [
    {
     "name": "stdout",
     "output_type": "stream",
     "text": [
      "fib(0) = 0, 0\n",
      "fib(1) = 1, 1\n",
      "fib(2) = 1, 1\n",
      "fib(3) = 2, 2\n",
      "fib(4) = 3, 3\n",
      "fib(5) = 5, 5\n",
      "fib(6) = 8, 8\n",
      "fib(7) = 13, 13\n",
      "fib(8) = 21, 21\n",
      "fib(9) = 34, 34\n"
     ]
    }
   ],
   "source": [
    "for i in range(10):\n",
    "    print(f\"fib({i}) = {fib_by_f(i)}, {fib_by_br(i)}\")"
   ]
  },
  {
   "cell_type": "code",
   "execution_count": 27,
   "metadata": {},
   "outputs": [],
   "source": [
    "def fib_by_br(n, i=2, fib_p1=1, fib_p2=0):\n",
    "    if n == 0:\n",
    "        return 0\n",
    "    elif n == 1:\n",
    "        return 1\n",
    "    \n",
    "    if i < n:\n",
    "        return fib_by_br(n, i + 1, fib_p1 + fib_p2, fib_p1)\n",
    "    else:\n",
    "        return fib_p1 + fib_p2"
   ]
  },
  {
   "cell_type": "code",
   "execution_count": 28,
   "metadata": {},
   "outputs": [
    {
     "name": "stdout",
     "output_type": "stream",
     "text": [
      "fib(0) = 0, 0\n",
      "fib(1) = 1, 1\n",
      "fib(2) = 1, 1\n",
      "fib(3) = 2, 2\n",
      "fib(4) = 3, 3\n",
      "fib(5) = 5, 5\n",
      "fib(6) = 8, 8\n",
      "fib(7) = 13, 13\n",
      "fib(8) = 21, 21\n",
      "fib(9) = 34, 34\n"
     ]
    }
   ],
   "source": [
    "for i in range(10):\n",
    "    print(f\"fib({i}) = {fib_by_f(i)}, {fib_by_br(i)}\")"
   ]
  }
 ],
 "metadata": {
  "kernelspec": {
   "display_name": "marubatsu",
   "language": "python",
   "name": "python3"
  },
  "language_info": {
   "codemirror_mode": {
    "name": "ipython",
    "version": 3
   },
   "file_extension": ".py",
   "mimetype": "text/x-python",
   "name": "python",
   "nbconvert_exporter": "python",
   "pygments_lexer": "ipython3",
   "version": "3.11.4"
  }
 },
 "nbformat": 4,
 "nbformat_minor": 2
}
