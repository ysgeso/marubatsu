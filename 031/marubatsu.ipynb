{
 "cells": [
  {
   "cell_type": "code",
   "execution_count": 1,
   "metadata": {},
   "outputs": [],
   "source": [
    "from marubatsu import Marubatsu\n",
    "\n",
    "testcases = [\n",
    "    # ゲーム盤に一つもマークが配置されていない場合のテストケース\n",
    "    [                     \n",
    "        \"\",\n",
    "        None, \n",
    "    ],           \n",
    "]"
   ]
  },
  {
   "cell_type": "code",
   "execution_count": 2,
   "metadata": {},
   "outputs": [
    {
     "ename": "ValueError",
     "evalue": "not enough values to unpack (expected 2, got 0)",
     "output_type": "error",
     "traceback": [
      "\u001b[1;31m---------------------------------------------------------------------------\u001b[0m",
      "\u001b[1;31mValueError\u001b[0m                                Traceback (most recent call last)",
      "\u001b[1;32mc:\\Users\\ys\\ai\\marubatsu\\031\\marubatsu.ipynb セル 2\u001b[0m line \u001b[0;36m3\n\u001b[0;32m      <a href='vscode-notebook-cell:/c%3A/Users/ys/ai/marubatsu/031/marubatsu.ipynb#W1sZmlsZQ%3D%3D?line=0'>1</a>\u001b[0m \u001b[39mfrom\u001b[39;00m \u001b[39mtest\u001b[39;00m \u001b[39mimport\u001b[39;00m test_judge\n\u001b[1;32m----> <a href='vscode-notebook-cell:/c%3A/Users/ys/ai/marubatsu/031/marubatsu.ipynb#W1sZmlsZQ%3D%3D?line=2'>3</a>\u001b[0m test_judge(testcases)\n",
      "File \u001b[1;32mc:\\Users\\ys\\ai\\marubatsu\\031\\test.py:25\u001b[0m, in \u001b[0;36mtest_judge\u001b[1;34m(testcases)\u001b[0m\n\u001b[0;32m     23\u001b[0m mb \u001b[39m=\u001b[39m Marubatsu()\n\u001b[0;32m     24\u001b[0m \u001b[39mfor\u001b[39;00m coord \u001b[39min\u001b[39;00m testdata\u001b[39m.\u001b[39msplit(\u001b[39m\"\u001b[39m\u001b[39m,\u001b[39m\u001b[39m\"\u001b[39m):\n\u001b[1;32m---> 25\u001b[0m     x, y \u001b[39m=\u001b[39m excel_to_xy(coord)            \n\u001b[0;32m     26\u001b[0m     mb\u001b[39m.\u001b[39mmove(x, y)\n\u001b[0;32m     27\u001b[0m \u001b[39mprint\u001b[39m(mb)\n",
      "File \u001b[1;32mc:\\Users\\ys\\ai\\marubatsu\\031\\test.py:48\u001b[0m, in \u001b[0;36mexcel_to_xy\u001b[1;34m(coord)\u001b[0m\n\u001b[0;32m     34\u001b[0m \u001b[39mdef\u001b[39;00m \u001b[39mexcel_to_xy\u001b[39m(coord: \u001b[39mstr\u001b[39m) \u001b[39m-\u001b[39m\u001b[39m>\u001b[39m \u001b[39mtuple\u001b[39m(\u001b[39mint\u001b[39m):\n\u001b[0;32m     35\u001b[0m \u001b[39m    \u001b[39m\u001b[39m\"\"\" Excel 座標を xy 座標に変換する.\u001b[39;00m\n\u001b[0;32m     36\u001b[0m \u001b[39m    \u001b[39;00m\n\u001b[0;32m     37\u001b[0m \u001b[39m    \"A1\" のような、文字列で表現される Excel 座標を、\u001b[39;00m\n\u001b[1;32m   (...)\u001b[0m\n\u001b[0;32m     46\u001b[0m \u001b[39m        x 座標と y 座標を要素として持つ tuple\u001b[39;00m\n\u001b[0;32m     47\u001b[0m \u001b[39m    \"\"\"\u001b[39;00m\n\u001b[1;32m---> 48\u001b[0m     x, y \u001b[39m=\u001b[39m coord\n\u001b[0;32m     49\u001b[0m     \u001b[39mreturn\u001b[39;00m \u001b[39m\"\u001b[39m\u001b[39mABC\u001b[39m\u001b[39m\"\u001b[39m\u001b[39m.\u001b[39mindex(x), \u001b[39mint\u001b[39m(y) \u001b[39m-\u001b[39m \u001b[39m1\u001b[39m\n",
      "\u001b[1;31mValueError\u001b[0m: not enough values to unpack (expected 2, got 0)"
     ]
    }
   ],
   "source": [
    "from test import test_judge\n",
    "\n",
    "test_judge(testcases)"
   ]
  },
  {
   "cell_type": "code",
   "execution_count": 3,
   "metadata": {},
   "outputs": [
    {
     "name": "stdout",
     "output_type": "stream",
     "text": [
      "['']\n"
     ]
    }
   ],
   "source": [
    "testdata = \"\"\n",
    "print(testdata.split(\",\"))"
   ]
  },
  {
   "cell_type": "code",
   "execution_count": 4,
   "metadata": {},
   "outputs": [
    {
     "ename": "ValueError",
     "evalue": "not enough values to unpack (expected 2, got 0)",
     "output_type": "error",
     "traceback": [
      "\u001b[1;31m---------------------------------------------------------------------------\u001b[0m",
      "\u001b[1;31mValueError\u001b[0m                                Traceback (most recent call last)",
      "\u001b[1;32mc:\\Users\\ys\\ai\\marubatsu\\031\\marubatsu.ipynb セル 4\u001b[0m line \u001b[0;36m1\n\u001b[1;32m----> <a href='vscode-notebook-cell:/c%3A/Users/ys/ai/marubatsu/031/marubatsu.ipynb#W3sZmlsZQ%3D%3D?line=0'>1</a>\u001b[0m x, y \u001b[39m=\u001b[39m \u001b[39m\"\u001b[39m\u001b[39m\"\u001b[39m\n",
      "\u001b[1;31mValueError\u001b[0m: not enough values to unpack (expected 2, got 0)"
     ]
    }
   ],
   "source": [
    "x, y = \"\""
   ]
  },
  {
   "cell_type": "code",
   "execution_count": 5,
   "metadata": {},
   "outputs": [
    {
     "name": "stdout",
     "output_type": "stream",
     "text": [
      "['ABC']\n"
     ]
    }
   ],
   "source": [
    "print(\"ABC\".split(\",\"))"
   ]
  },
  {
   "cell_type": "code",
   "execution_count": 6,
   "metadata": {},
   "outputs": [],
   "source": [
    "from test import excel_to_xy\n",
    "\n",
    "def test_judge(testcases):\n",
    "    for testcase in testcases:\n",
    "        testdata, winner = testcase\n",
    "        mb = Marubatsu()\n",
    "        coords = [] if testdata == \"\" else testdata.split(\",\")\n",
    "        for coord in coords:\n",
    "            x, y = excel_to_xy(coord)            \n",
    "            mb.move(x, y)\n",
    "        print(mb)\n",
    "\n",
    "        if mb.judge() == winner:\n",
    "            print(\"ok\")\n",
    "        else:\n",
    "            print(\"error!\")"
   ]
  },
  {
   "cell_type": "code",
   "execution_count": 7,
   "metadata": {},
   "outputs": [
    {
     "name": "stdout",
     "output_type": "stream",
     "text": [
      "Turn o\n",
      "...\n",
      "...\n",
      "...\n",
      "\n",
      "ok\n"
     ]
    }
   ],
   "source": [
    "test_judge(testcases)"
   ]
  },
  {
   "cell_type": "code",
   "execution_count": 8,
   "metadata": {},
   "outputs": [
    {
     "name": "stdout",
     "output_type": "stream",
     "text": [
      "<class 'int'>\n",
      "<class 'float'>\n"
     ]
    }
   ],
   "source": [
    "print(type(0))\n",
    "print(type(0.0))"
   ]
  },
  {
   "cell_type": "code",
   "execution_count": 9,
   "metadata": {},
   "outputs": [
    {
     "name": "stdout",
     "output_type": "stream",
     "text": [
      "True\n"
     ]
    }
   ],
   "source": [
    "print(0 == 0.0)"
   ]
  },
  {
   "cell_type": "code",
   "execution_count": 10,
   "metadata": {},
   "outputs": [
    {
     "name": "stdout",
     "output_type": "stream",
     "text": [
      "True\n",
      "False\n"
     ]
    }
   ],
   "source": [
    "a = 0\n",
    "b = 0.0\n",
    "print(a == b)\n",
    "print(a is b)"
   ]
  },
  {
   "cell_type": "code",
   "execution_count": 11,
   "metadata": {},
   "outputs": [
    {
     "name": "stdout",
     "output_type": "stream",
     "text": [
      "False\n"
     ]
    }
   ],
   "source": [
    "a = 1.23\n",
    "b = 1.23\n",
    "print(a is b)"
   ]
  },
  {
   "cell_type": "code",
   "execution_count": 12,
   "metadata": {},
   "outputs": [],
   "source": [
    "Marubatsu.PLAYING = \"playing\""
   ]
  },
  {
   "cell_type": "code",
   "execution_count": 13,
   "metadata": {},
   "outputs": [],
   "source": [
    "testcases = [\n",
    "    # ゲーム盤に一つもマークが配置されていない場合のテストケース\n",
    "    [                     \n",
    "        \"\",\n",
    "        Marubatsu.PLAYING, \n",
    "    ],           \n",
    "]"
   ]
  },
  {
   "cell_type": "code",
   "execution_count": 14,
   "metadata": {},
   "outputs": [
    {
     "name": "stdout",
     "output_type": "stream",
     "text": [
      "Turn o\n",
      "...\n",
      "...\n",
      "...\n",
      "\n",
      "error!\n"
     ]
    }
   ],
   "source": [
    "test_judge(testcases)"
   ]
  },
  {
   "cell_type": "code",
   "execution_count": 15,
   "metadata": {},
   "outputs": [],
   "source": [
    "def test_judge(testcases):\n",
    "    for testcase in testcases:\n",
    "        testdata, winner = testcase\n",
    "        mb = Marubatsu()\n",
    "        for coord in [] if testdata == \"\" else testdata.split(\",\"):\n",
    "            x, y = excel_to_xy(coord)            \n",
    "            mb.move(x, y)\n",
    "        print(mb)\n",
    "\n",
    "        if mb.judge() == winner:\n",
    "            print(\"ok\")\n",
    "        else:\n",
    "            print(\"test_judge error!\")\n",
    "            print(\"mb.judge():\", mb.judge())\n",
    "            print(\"winner:    \", winner)"
   ]
  },
  {
   "cell_type": "code",
   "execution_count": 17,
   "metadata": {},
   "outputs": [
    {
     "name": "stdout",
     "output_type": "stream",
     "text": [
      "Turn o\n",
      "...\n",
      "...\n",
      "...\n",
      "\n",
      "test_judge error!\n",
      "mb.judge(): None\n",
      "winner:     playing\n"
     ]
    }
   ],
   "source": [
    "test_judge(testcases)"
   ]
  },
  {
   "cell_type": "code",
   "execution_count": 18,
   "metadata": {},
   "outputs": [],
   "source": [
    "def judge(self): \n",
    "    # 判定を行う前に、決着がついていないことにしておく\n",
    "    winner = Marubatsu.PLAYING\n",
    "    # 〇 の勝利の判定\n",
    "    if self.board[0][0] == self.board[1][0] == self.board[2][0] == Marubatsu.CIRCLE or \\\n",
    "    self.board[0][1] == self.board[1][1] == self.board[2][1] == Marubatsu.CIRCLE or \\\n",
    "    self.board[0][2] == self.board[1][2] == self.board[2][2] == Marubatsu.CIRCLE or \\\n",
    "    self.board[0][0] == self.board[0][1] == self.board[0][2] == Marubatsu.CIRCLE or \\\n",
    "    self.board[1][0] == self.board[1][1] == self.board[1][2] == Marubatsu.CIRCLE or \\\n",
    "    self.board[2][0] == self.board[2][1] == self.board[2][2] == Marubatsu.CIRCLE or \\\n",
    "    self.board[0][0] == self.board[1][1] == self.board[2][2] == Marubatsu.CIRCLE or \\\n",
    "    self.board[2][0] == self.board[1][1] == self.board[0][2] == Marubatsu.CIRCLE:\n",
    "        winner = Marubatsu.CIRCLE\n",
    "        \n",
    "    # × の勝利の判定\n",
    "    if self.board[0][0] == self.board[1][0] == self.board[2][0] == Marubatsu.CROSS or \\\n",
    "    self.board[0][1] == self.board[1][1] == self.board[2][1] == Marubatsu.CROSS or \\\n",
    "    self.board[0][2] == self.board[1][2] == self.board[2][2] == Marubatsu.CROSS or \\\n",
    "    self.board[0][0] == self.board[0][1] == self.board[0][2] == Marubatsu.CROSS or \\\n",
    "    self.board[1][0] == self.board[1][1] == self.board[1][2] == Marubatsu.CROSS or \\\n",
    "    self.board[2][0] == self.board[2][1] == self.board[2][2] == Marubatsu.CROSS or \\\n",
    "    self.board[0][0] == self.board[1][1] == self.board[2][2] == Marubatsu.CROSS or \\\n",
    "    self.board[2][0] == self.board[1][1] == self.board[2][2] == Marubatsu.CROSS:\n",
    "        winner = Marubatsu.CROSS     \n",
    "\n",
    "    # 引き分けの判定\n",
    "    if not(self.board[0][0] == Marubatsu.EMPTY or \\\n",
    "        self.board[1][0] == Marubatsu.EMPTY or \\\n",
    "        self.board[2][0] == Marubatsu.EMPTY or \\\n",
    "        self.board[0][1] == Marubatsu.EMPTY or \\\n",
    "        self.board[1][1] == Marubatsu.EMPTY or \\\n",
    "        self.board[1][1] == Marubatsu.EMPTY or \\\n",
    "        self.board[0][2] == Marubatsu.EMPTY or \\\n",
    "        self.board[1][2] == Marubatsu.EMPTY or \\\n",
    "        self.board[2][2] == Marubatsu.EMPTY):\n",
    "        winner = Marubatsu.DRAW\n",
    "\n",
    "    # winner を返り値として返す\n",
    "    return winner     \n",
    "\n",
    "Marubatsu.judge = judge"
   ]
  },
  {
   "cell_type": "code",
   "execution_count": 19,
   "metadata": {},
   "outputs": [
    {
     "name": "stdout",
     "output_type": "stream",
     "text": [
      "Turn o\n",
      "...\n",
      "...\n",
      "...\n",
      "\n",
      "ok\n"
     ]
    }
   ],
   "source": [
    "test_judge(testcases)"
   ]
  },
  {
   "cell_type": "code",
   "execution_count": 20,
   "metadata": {},
   "outputs": [],
   "source": [
    "testcases = [\n",
    "    # ゲーム盤に一つもマークが配置されていない場合のテストケース\n",
    "    [                     \n",
    "        \"\",\n",
    "        Marubatsu.PLAYING, \n",
    "    ],           \n",
    "    # 〇の勝利のテストケース\n",
    "    [\n",
    "        \"A1,A2,B1,B2,C1\",\n",
    "        Marubatsu.CIRCLE\n",
    "    ],\n",
    "    [\n",
    "        \"A2,A1,B2,B1,C2\",\n",
    "        Marubatsu.CIRCLE\n",
    "    ],\n",
    "    [\n",
    "        \"A3,A1,B3,B1,C3\",\n",
    "        Marubatsu.CIRCLE\n",
    "    ],\n",
    "]"
   ]
  },
  {
   "cell_type": "code",
   "execution_count": 21,
   "metadata": {},
   "outputs": [
    {
     "name": "stdout",
     "output_type": "stream",
     "text": [
      "Turn o\n",
      "...\n",
      "...\n",
      "...\n",
      "\n",
      "ok\n",
      "Turn x\n",
      "ooo\n",
      "xx.\n",
      "...\n",
      "\n",
      "ok\n",
      "Turn x\n",
      "xx.\n",
      "ooo\n",
      "...\n",
      "\n",
      "ok\n",
      "Turn x\n",
      "xx.\n",
      "...\n",
      "ooo\n",
      "\n",
      "ok\n"
     ]
    }
   ],
   "source": [
    "test_judge(testcases)"
   ]
  },
  {
   "cell_type": "code",
   "execution_count": 22,
   "metadata": {},
   "outputs": [],
   "source": [
    "testcases = {\n",
    "    # ゲーム盤に一つもマークが配置されていない場合のテストケース\n",
    "    Marubatsu.PLAYING: [\n",
    "        \"\",\n",
    "    ],   \n",
    "    # 〇の勝利のテストケース\n",
    "    Marubatsu.CIRCLE: [\n",
    "        \"A1,A2,B1,B2,C1\",\n",
    "        \"A2,A1,B2,B1,C2\",\n",
    "        \"A3,A1,B3,B1,C3\",\n",
    "    ],\n",
    "}"
   ]
  },
  {
   "cell_type": "code",
   "execution_count": 23,
   "metadata": {},
   "outputs": [
    {
     "name": "stdout",
     "output_type": "stream",
     "text": [
      "{'playing': '', 'o': 'A3,A1,B3,B1,C3'}\n"
     ]
    }
   ],
   "source": [
    "testcases2 = {\n",
    "    # ゲーム盤に一つもマークが配置されていない場合のテストケース\n",
    "    Marubatsu.PLAYING: \"\",\n",
    "    # 〇の勝利のテストケース\n",
    "    Marubatsu.CIRCLE:  \"A1,A2,B1,B2,C1\",\n",
    "    Marubatsu.CIRCLE:  \"A2,A1,B2,B1,C2\",\n",
    "    Marubatsu.CIRCLE:  \"A3,A1,B3,B1,C3\",\n",
    "}\n",
    "\n",
    "print(testcases2)"
   ]
  },
  {
   "cell_type": "code",
   "execution_count": 24,
   "metadata": {},
   "outputs": [
    {
     "name": "stdout",
     "output_type": "stream",
     "text": [
      "{'playing': '', 'o': 'A3,A1,B3,B1,C3'}\n"
     ]
    }
   ],
   "source": [
    "testcases2 = {}\n",
    "testcases2[Marubatsu.PLAYING] = \"\"\n",
    "testcases2[Marubatsu.CIRCLE] = \"A1,A2,B1,B2,C1\"\n",
    "testcases2[Marubatsu.CIRCLE] = \"A2,A1,B2,B1,C2\"\n",
    "testcases2[Marubatsu.CIRCLE] = \"A3,A1,B3,B1,C3\"\n",
    "\n",
    "print(testcases2)"
   ]
  },
  {
   "cell_type": "code",
   "execution_count": 25,
   "metadata": {},
   "outputs": [],
   "source": [
    "def test_judge(testcases):\n",
    "    for winner, testdata_list in testcases.items():\n",
    "        for testdata in testdata_list:\n",
    "            mb = Marubatsu()\n",
    "            for coord in [] if testdata == \"\" else testdata.split(\",\"):\n",
    "                x, y = excel_to_xy(coord)            \n",
    "                mb.move(x, y)\n",
    "            print(mb)\n",
    "\n",
    "            if mb.judge() == winner:\n",
    "                print(\"ok\")\n",
    "            else:\n",
    "                print(\"test_judge error!\")\n",
    "                print(\"mb.judge():\", mb.judge())\n",
    "                print(\"winner:    \", winner)"
   ]
  },
  {
   "cell_type": "code",
   "execution_count": 26,
   "metadata": {},
   "outputs": [
    {
     "name": "stdout",
     "output_type": "stream",
     "text": [
      "Turn o\n",
      "...\n",
      "...\n",
      "...\n",
      "\n",
      "ok\n",
      "Turn x\n",
      "ooo\n",
      "xx.\n",
      "...\n",
      "\n",
      "ok\n",
      "Turn x\n",
      "xx.\n",
      "ooo\n",
      "...\n",
      "\n",
      "ok\n",
      "Turn x\n",
      "xx.\n",
      "...\n",
      "ooo\n",
      "\n",
      "ok\n"
     ]
    }
   ],
   "source": [
    "test_judge(testcases)"
   ]
  },
  {
   "cell_type": "code",
   "execution_count": 27,
   "metadata": {},
   "outputs": [],
   "source": [
    "testcases = {\n",
    "    # ゲーム盤に一つもマークが配置されていない場合のテストケース\n",
    "    Marubatsu.PLAYING: [\n",
    "        \"\",\n",
    "    ],   \n",
    "    # 〇の勝利のテストケース\n",
    "    Marubatsu.CIRCLE: [\n",
    "        \"A1,A2,B1,B2,C1\",\n",
    "        \"A2,A1,B2,B1,C2\",\n",
    "        \"A3,A1,B3,B1,C3\",\n",
    "        \"A1,B1,A2,B2,A3\",\n",
    "        \"B1,A1,B2,A2,B3\",\n",
    "        \"C1,A1,C2,A2,C3\",\n",
    "        \"A1,A2,B2,A3,C3\",\n",
    "        \"A3,A1,B2,A2,C1\",\n",
    "    ],\n",
    "}"
   ]
  },
  {
   "cell_type": "code",
   "execution_count": 28,
   "metadata": {},
   "outputs": [
    {
     "name": "stdout",
     "output_type": "stream",
     "text": [
      "Turn o\n",
      "...\n",
      "...\n",
      "...\n",
      "\n",
      "ok\n",
      "Turn x\n",
      "ooo\n",
      "xx.\n",
      "...\n",
      "\n",
      "ok\n",
      "Turn x\n",
      "xx.\n",
      "ooo\n",
      "...\n",
      "\n",
      "ok\n",
      "Turn x\n",
      "xx.\n",
      "...\n",
      "ooo\n",
      "\n",
      "ok\n",
      "Turn x\n",
      "ox.\n",
      "ox.\n",
      "o..\n",
      "\n",
      "ok\n",
      "Turn x\n",
      "xo.\n",
      "xo.\n",
      ".o.\n",
      "\n",
      "ok\n",
      "Turn x\n",
      "x.o\n",
      "x.o\n",
      "..o\n",
      "\n",
      "ok\n",
      "Turn x\n",
      "o..\n",
      "xo.\n",
      "x.o\n",
      "\n",
      "ok\n",
      "Turn x\n",
      "x.o\n",
      "xo.\n",
      "o..\n",
      "\n",
      "ok\n"
     ]
    }
   ],
   "source": [
    "test_judge(testcases)"
   ]
  }
 ],
 "metadata": {
  "kernelspec": {
   "display_name": "marubatsu",
   "language": "python",
   "name": "python3"
  },
  "language_info": {
   "codemirror_mode": {
    "name": "ipython",
    "version": 3
   },
   "file_extension": ".py",
   "mimetype": "text/x-python",
   "name": "python",
   "nbconvert_exporter": "python",
   "pygments_lexer": "ipython3",
   "version": "3.11.4"
  }
 },
 "nbformat": 4,
 "nbformat_minor": 2
}
