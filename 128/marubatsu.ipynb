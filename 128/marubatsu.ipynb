{
 "cells": [
  {
   "cell_type": "code",
   "execution_count": 1,
   "metadata": {},
   "outputs": [],
   "source": [
    "from datetime import datetime\n",
    "\n",
    "def show_time(func, *args, **kwargs):\n",
    "    starttime = datetime.now()\n",
    "    retval = func(*args, **kwargs)\n",
    "    endtime = datetime.now()\n",
    "    print(endtime - starttime)\n",
    "    return retval"
   ]
  },
  {
   "cell_type": "code",
   "execution_count": 2,
   "metadata": {},
   "outputs": [
    {
     "name": "stdout",
     "output_type": "stream",
     "text": [
      "sum\n",
      "30\n",
      "show_time\n",
      "0:00:00\n",
      "30\n"
     ]
    }
   ],
   "source": [
    "print(\"sum\")\n",
    "print(sum([10, 20]))\n",
    "print(\"show_time\")\n",
    "print(show_time(sum, [10, 20]))"
   ]
  },
  {
   "cell_type": "code",
   "execution_count": 3,
   "metadata": {},
   "outputs": [],
   "source": [
    "def create_show_time(func):\n",
    "    def show_time(*args, **kwargs):\n",
    "        starttime = datetime.now()\n",
    "        retval = func(*args, **kwargs)\n",
    "        endtime = datetime.now()\n",
    "        print(endtime - starttime)\n",
    "        return retval\n",
    "    \n",
    "    return show_time"
   ]
  },
  {
   "cell_type": "code",
   "execution_count": 4,
   "metadata": {},
   "outputs": [
    {
     "name": "stdout",
     "output_type": "stream",
     "text": [
      "0:00:00\n",
      "30\n"
     ]
    }
   ],
   "source": [
    "sum_show_time = create_show_time(sum)\n",
    "print(sum_show_time([10, 20]))"
   ]
  },
  {
   "cell_type": "code",
   "execution_count": 6,
   "metadata": {},
   "outputs": [
    {
     "name": "stdout",
     "output_type": "stream",
     "text": [
      "1\n",
      "0:00:00\n"
     ]
    }
   ],
   "source": [
    "print_show_time = create_show_time(print)\n",
    "print_show_time(1)"
   ]
  },
  {
   "cell_type": "code",
   "execution_count": 7,
   "metadata": {},
   "outputs": [],
   "source": [
    "def a():\n",
    "    x = 1\n",
    "    def b():\n",
    "        print(x)\n",
    "    b()"
   ]
  },
  {
   "cell_type": "code",
   "execution_count": 8,
   "metadata": {},
   "outputs": [
    {
     "name": "stdout",
     "output_type": "stream",
     "text": [
      "1\n"
     ]
    }
   ],
   "source": [
    "a()"
   ]
  }
 ],
 "metadata": {
  "kernelspec": {
   "display_name": "marubatsu",
   "language": "python",
   "name": "python3"
  },
  "language_info": {
   "codemirror_mode": {
    "name": "ipython",
    "version": 3
   },
   "file_extension": ".py",
   "mimetype": "text/x-python",
   "name": "python",
   "nbconvert_exporter": "python",
   "pygments_lexer": "ipython3",
   "version": "3.11.4"
  }
 },
 "nbformat": 4,
 "nbformat_minor": 2
}
