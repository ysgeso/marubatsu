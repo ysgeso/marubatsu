{
 "cells": [
  {
   "cell_type": "code",
   "execution_count": 1,
   "metadata": {},
   "outputs": [
    {
     "ename": "NameError",
     "evalue": "name 'board' is not defined",
     "output_type": "error",
     "traceback": [
      "\u001b[1;31m---------------------------------------------------------------------------\u001b[0m",
      "\u001b[1;31mNameError\u001b[0m                                 Traceback (most recent call last)",
      "\u001b[1;32mc:\\Users\\ys\\ai\\marubatsu\\016\\marubatsu.ipynb セル 1\u001b[0m line \u001b[0;36m1\n\u001b[0;32m      <a href='vscode-notebook-cell:/c%3A/Users/ys/ai/marubatsu/016/marubatsu.ipynb#W0sZmlsZQ%3D%3D?line=7'>8</a>\u001b[0m     board \u001b[39m=\u001b[39m [[\u001b[39m\"\u001b[39m\u001b[39m \u001b[39m\u001b[39m\"\u001b[39m] \u001b[39m*\u001b[39m \u001b[39m3\u001b[39m \u001b[39mfor\u001b[39;00m x \u001b[39min\u001b[39;00m \u001b[39mrange\u001b[39m(\u001b[39m3\u001b[39m)]\n\u001b[0;32m     <a href='vscode-notebook-cell:/c%3A/Users/ys/ai/marubatsu/016/marubatsu.ipynb#W0sZmlsZQ%3D%3D?line=9'>10</a>\u001b[0m initialize_board()    \u001b[39m# ゲーム盤の初期化処理を行う関数を呼び出す\u001b[39;00m\n\u001b[1;32m---> <a href='vscode-notebook-cell:/c%3A/Users/ys/ai/marubatsu/016/marubatsu.ipynb#W0sZmlsZQ%3D%3D?line=10'>11</a>\u001b[0m place_mark(\u001b[39m0\u001b[39m, \u001b[39m1\u001b[39m, \u001b[39m\"\u001b[39m\u001b[39m〇\u001b[39m\u001b[39m\"\u001b[39m)  \u001b[39m# (0, 1) のマスに 〇 を配置する\u001b[39;00m\n\u001b[0;32m     <a href='vscode-notebook-cell:/c%3A/Users/ys/ai/marubatsu/016/marubatsu.ipynb#W0sZmlsZQ%3D%3D?line=11'>12</a>\u001b[0m \u001b[39mprint\u001b[39m(board)\n\u001b[0;32m     <a href='vscode-notebook-cell:/c%3A/Users/ys/ai/marubatsu/016/marubatsu.ipynb#W0sZmlsZQ%3D%3D?line=12'>13</a>\u001b[0m place_mark(\u001b[39m0\u001b[39m, \u001b[39m1\u001b[39m, \u001b[39m\"\u001b[39m\u001b[39m×\u001b[39m\u001b[39m\"\u001b[39m)   \u001b[39m# (0, 1) のマスに × を配置する\u001b[39;00m\n",
      "\u001b[1;32mc:\\Users\\ys\\ai\\marubatsu\\016\\marubatsu.ipynb セル 1\u001b[0m line \u001b[0;36m2\n\u001b[0;32m      <a href='vscode-notebook-cell:/c%3A/Users/ys/ai/marubatsu/016/marubatsu.ipynb#W0sZmlsZQ%3D%3D?line=0'>1</a>\u001b[0m \u001b[39mdef\u001b[39;00m \u001b[39mplace_mark\u001b[39m(x, y, mark):\n\u001b[1;32m----> <a href='vscode-notebook-cell:/c%3A/Users/ys/ai/marubatsu/016/marubatsu.ipynb#W0sZmlsZQ%3D%3D?line=1'>2</a>\u001b[0m     \u001b[39mif\u001b[39;00m board[x][y] \u001b[39m==\u001b[39m \u001b[39m\"\u001b[39m\u001b[39m \u001b[39m\u001b[39m\"\u001b[39m:\n\u001b[0;32m      <a href='vscode-notebook-cell:/c%3A/Users/ys/ai/marubatsu/016/marubatsu.ipynb#W0sZmlsZQ%3D%3D?line=2'>3</a>\u001b[0m         board[x][y] \u001b[39m=\u001b[39m mark\n\u001b[0;32m      <a href='vscode-notebook-cell:/c%3A/Users/ys/ai/marubatsu/016/marubatsu.ipynb#W0sZmlsZQ%3D%3D?line=3'>4</a>\u001b[0m     \u001b[39melse\u001b[39;00m:\n",
      "\u001b[1;31mNameError\u001b[0m: name 'board' is not defined"
     ]
    }
   ],
   "source": [
    "def place_mark(x, y, mark):\n",
    "    if board[x][y] == \" \":\n",
    "        board[x][y] = mark\n",
    "    else:\n",
    "        print(\"(\", x, \",\", y, \") のマスにはマークが配置済です\")\n",
    "\n",
    "def initialize_board():\n",
    "    board = [[\" \"] * 3 for x in range(3)]\n",
    "\n",
    "initialize_board()    # ゲーム盤の初期化処理を行う関数を呼び出す\n",
    "place_mark(0, 1, \"〇\")  # (0, 1) のマスに 〇 を配置する\n",
    "print(board)\n",
    "place_mark(0, 1, \"×\")   # (0, 1) のマスに × を配置する\n",
    "print(board)"
   ]
  },
  {
   "cell_type": "markdown",
   "metadata": {},
   "source": [
    "ここで、JupyterLab を再起動してください"
   ]
  },
  {
   "cell_type": "code",
   "execution_count": 1,
   "metadata": {},
   "outputs": [
    {
     "name": "stdout",
     "output_type": "stream",
     "text": [
      "[[' ', '〇', ' '], [' ', ' ', ' '], [' ', ' ', ' ']]\n",
      "( 0 , 1 ) のマスにはマークが配置済です\n",
      "[[' ', '〇', ' '], [' ', ' ', ' '], [' ', ' ', ' ']]\n"
     ]
    }
   ],
   "source": [
    "def place_mark(x, y, mark):\n",
    "    if board[x][y] == \" \":\n",
    "        board[x][y] = mark\n",
    "    else:\n",
    "        print(\"(\", x, \",\", y, \") のマスにはマークが配置済です\")\n",
    "\n",
    "def initialize_board():\n",
    "    return [[\" \"] * 3 for x in range(3)]\n",
    "\n",
    "board = initialize_board()    # 初期化されたゲーム盤のデータを返す関数を呼び出す\n",
    "place_mark(0, 1, \"〇\")        # (0, 1) のマスに 〇 を配置する\n",
    "print(board)\n",
    "place_mark(0, 1, \"×\")         # (0, 1) のマスに × を配置する\n",
    "print(board)"
   ]
  },
  {
   "cell_type": "markdown",
   "metadata": {},
   "source": [
    "ここで、JupyterLab を再起動してください"
   ]
  },
  {
   "cell_type": "code",
   "execution_count": 1,
   "metadata": {},
   "outputs": [
    {
     "ename": "NameError",
     "evalue": "name 'board' is not defined",
     "output_type": "error",
     "traceback": [
      "\u001b[1;31m---------------------------------------------------------------------------\u001b[0m",
      "\u001b[1;31mNameError\u001b[0m                                 Traceback (most recent call last)",
      "\u001b[1;32mc:\\Users\\ys\\ai\\marubatsu\\016\\marubatsu.ipynb セル 5\u001b[0m line \u001b[0;36m5\n\u001b[0;32m      <a href='vscode-notebook-cell:/c%3A/Users/ys/ai/marubatsu/016/marubatsu.ipynb#W4sZmlsZQ%3D%3D?line=1'>2</a>\u001b[0m     board \u001b[39m=\u001b[39m [[\u001b[39m\"\u001b[39m\u001b[39m \u001b[39m\u001b[39m\"\u001b[39m] \u001b[39m*\u001b[39m \u001b[39m3\u001b[39m \u001b[39mfor\u001b[39;00m x \u001b[39min\u001b[39;00m \u001b[39mrange\u001b[39m(\u001b[39m3\u001b[39m)]\n\u001b[0;32m      <a href='vscode-notebook-cell:/c%3A/Users/ys/ai/marubatsu/016/marubatsu.ipynb#W4sZmlsZQ%3D%3D?line=2'>3</a>\u001b[0m     \u001b[39mreturn\u001b[39;00m board\n\u001b[1;32m----> <a href='vscode-notebook-cell:/c%3A/Users/ys/ai/marubatsu/016/marubatsu.ipynb#W4sZmlsZQ%3D%3D?line=4'>5</a>\u001b[0m board \u001b[39m=\u001b[39m initialize_board(board)\n",
      "\u001b[1;31mNameError\u001b[0m: name 'board' is not defined"
     ]
    }
   ],
   "source": [
    "def initialize_board(board):\n",
    "    board = [[\" \"] * 3 for x in range(3)]\n",
    "    return board\n",
    "\n",
    "board = initialize_board(board)"
   ]
  },
  {
   "cell_type": "code",
   "execution_count": 2,
   "metadata": {},
   "outputs": [],
   "source": [
    "def print_one(a):\n",
    "    print(1)"
   ]
  },
  {
   "cell_type": "code",
   "execution_count": 3,
   "metadata": {},
   "outputs": [],
   "source": [
    "def print_one(a):\n",
    "    a = 1\n",
    "    print(a)"
   ]
  },
  {
   "cell_type": "code",
   "execution_count": 4,
   "metadata": {},
   "outputs": [],
   "source": [
    "def initialize_board():\n",
    "    board = [[\" \"] * 3 for x in range(3)]\n",
    "    return board"
   ]
  },
  {
   "cell_type": "code",
   "execution_count": 5,
   "metadata": {},
   "outputs": [
    {
     "ename": "SyntaxError",
     "evalue": "name 'x' is parameter and global (2101006897.py, line 2)",
     "output_type": "error",
     "traceback": [
      "\u001b[1;36m  Cell \u001b[1;32mIn[5], line 2\u001b[1;36m\u001b[0m\n\u001b[1;33m    global x\u001b[0m\n\u001b[1;37m    ^\u001b[0m\n\u001b[1;31mSyntaxError\u001b[0m\u001b[1;31m:\u001b[0m name 'x' is parameter and global\n"
     ]
    }
   ],
   "source": [
    "def a(x):\n",
    "    global x"
   ]
  },
  {
   "cell_type": "markdown",
   "metadata": {},
   "source": [
    "ここで、JupyterLab を再起動してください"
   ]
  },
  {
   "cell_type": "code",
   "execution_count": 1,
   "metadata": {},
   "outputs": [
    {
     "name": "stdout",
     "output_type": "stream",
     "text": [
      "[[' ', '〇', ' '], [' ', ' ', ' '], [' ', ' ', ' ']]\n",
      "( 0 , 1 ) のマスにはマークが配置済です\n",
      "[[' ', '〇', ' '], [' ', ' ', ' '], [' ', ' ', ' ']]\n"
     ]
    }
   ],
   "source": [
    "def place_mark(x, y, mark):\n",
    "    if board[x][y] == \" \":\n",
    "        board[x][y] = mark\n",
    "    else:\n",
    "        print(\"(\", x, \",\", y, \") のマスにはマークが配置済です\")\n",
    "\n",
    "def initialize_board():\n",
    "    global board\n",
    "    board = [[\" \"] * 3 for x in range(3)]\n",
    "\n",
    "initialize_board()    # ゲーム盤の初期化処理を行う関数を呼び出す\n",
    "place_mark(0, 1, \"〇\")  # (0, 1) のマスに 〇 を配置する\n",
    "print(board)\n",
    "place_mark(0, 1, \"×\")   # (0, 1) のマスに × を配置する\n",
    "print(board)"
   ]
  },
  {
   "cell_type": "code",
   "execution_count": 2,
   "metadata": {},
   "outputs": [
    {
     "name": "stdout",
     "output_type": "stream",
     "text": [
      "[[' ', '〇', ' '], [' ', ' ', ' '], [' ', ' ', ' ']]\n",
      "( 0 , 1 ) のマスにはマークが配置済です\n",
      "[[' ', '〇', ' '], [' ', ' ', ' '], [' ', ' ', ' ']]\n"
     ]
    }
   ],
   "source": [
    "def place_mark(board, x, y, mark):\n",
    "    if board[x][y] == \" \":\n",
    "        board[x][y] = mark\n",
    "    else:\n",
    "        print(\"(\", x, \",\", y, \") のマスにはマークが配置済です\")\n",
    "\n",
    "def initialize_board():\n",
    "    return [[\" \"] * 3 for x in range(3)]\n",
    "\n",
    "board = initialize_board()      # 初期化されたゲーム盤のデータを返す関数を呼び出す\n",
    "place_mark(board, 0, 1, \"〇\")   # (0, 1) のマスに 〇 を配置する\n",
    "print(board)\n",
    "place_mark(board, 0, 1, \"×\")    # (0, 1) のマスに × を配置する\n",
    "print(board)"
   ]
  },
  {
   "cell_type": "code",
   "execution_count": 3,
   "metadata": {},
   "outputs": [
    {
     "name": "stdout",
     "output_type": "stream",
     "text": [
      "[[' ', '〇', ' '], [' ', ' ', ' '], [' ', ' ', ' ']]\n",
      "[[' ', ' ', ' '], ['×', ' ', ' '], [' ', ' ', ' ']]\n"
     ]
    }
   ],
   "source": [
    "def place_mark(board, x, y, mark):\n",
    "    if board[x][y] == \" \":\n",
    "        board[x][y] = mark\n",
    "    else:\n",
    "        print(\"(\", x, \",\", y, \") のマスにはマークが配置済です\")\n",
    "\n",
    "def initialize_board():\n",
    "    return [[\" \"] * 3 for x in range(3)]\n",
    "\n",
    "board1 = initialize_board()     # board1 に初期化されたゲーム盤を代入する\n",
    "place_mark(board1, 0, 1, \"〇\")  # board1 の (0, 1) のマスに 〇 を配置する\n",
    "print(board1)\n",
    "\n",
    "board2 = initialize_board()     # board2 に初期化されたゲーム盤を代入する\n",
    "place_mark(board2, 1, 0, \"×\")   # board2 の (1, 0) のマスに × を配置する\n",
    "print(board2)"
   ]
  },
  {
   "cell_type": "code",
   "execution_count": 4,
   "metadata": {},
   "outputs": [
    {
     "name": "stdout",
     "output_type": "stream",
     "text": [
      "[[' ', '〇', ' '], [' ', ' ', ' '], [' ', ' ', ' ']]\n",
      "( 0 , 1 ) のマスにはマークが配置済です\n",
      "[[' ', '〇', ' '], [' ', ' ', ' '], [' ', ' ', ' ']]\n"
     ]
    }
   ],
   "source": [
    "def place_mark(board, x, y, mark):\n",
    "    if board[x][y] == \" \":\n",
    "        board[x][y] = mark\n",
    "    else:\n",
    "        print(\"(\", x, \",\", y, \") のマスにはマークが配置済です\")\n",
    "    return board\n",
    "\n",
    "def initialize_board():\n",
    "    return [[\" \"] * 3 for x in range(3)]\n",
    "\n",
    "board = initialize_board()             # 初期化されたゲーム盤のデータを返す関数を呼び出す\n",
    "board = place_mark(board, 0, 1, \"〇\")  # (0, 1) のマスに 〇 を配置する\n",
    "print(board)\n",
    "board = place_mark(board, 0, 1, \"×\")   # (0, 1) のマスに × を配置する\n",
    "print(board)"
   ]
  },
  {
   "cell_type": "code",
   "execution_count": 5,
   "metadata": {},
   "outputs": [
    {
     "name": "stdout",
     "output_type": "stream",
     "text": [
      "0\n"
     ]
    }
   ],
   "source": [
    "def assign_one(a):\n",
    "    a = 1\n",
    "\n",
    "a = 0\n",
    "assign_one(a)\n",
    "print(a)"
   ]
  },
  {
   "cell_type": "code",
   "execution_count": 6,
   "metadata": {},
   "outputs": [
    {
     "name": "stdout",
     "output_type": "stream",
     "text": [
      "[[' ', '〇', ' '], [' ', ' ', ' '], [' ', ' ', ' ']]\n",
      "( 0 , 1 ) のマスにはマークが配置済です\n",
      "[[' ', '〇', ' '], [' ', ' ', ' '], [' ', ' ', ' ']]\n"
     ]
    }
   ],
   "source": [
    "def place_mark(board, x, y, mark):\n",
    "    if board[x][y] == \" \":\n",
    "        board[x][y] = mark\n",
    "    else:\n",
    "        print(\"(\", x, \",\", y, \") のマスにはマークが配置済です\")\n",
    "\n",
    "def initialize_board():\n",
    "    return [[\" \"] * 3 for x in range(3)]\n",
    "\n",
    "board = initialize_board()   # 初期化されたゲーム盤のデータを返す関数を呼び出す\n",
    "place_mark(board, 0, 1, \"〇\")  # (0, 1) のマスに 〇 を配置する\n",
    "print(board)\n",
    "place_mark(board, 0, 1, \"×\")   # (0, 1) のマスに × を配置する\n",
    "print(board)"
   ]
  },
  {
   "cell_type": "code",
   "execution_count": 7,
   "metadata": {},
   "outputs": [
    {
     "name": "stdout",
     "output_type": "stream",
     "text": [
      "[[' ', '〇', ' '], [' ', ' ', ' '], [' ', ' ', ' ']]\n",
      "[' ', '〇', ' ']\n"
     ]
    }
   ],
   "source": [
    "def place_mark(board, x, y, mark):\n",
    "    if board[x][y] == \" \":\n",
    "        board[x][y] = mark\n",
    "    else:\n",
    "        print(\"(\", x, \",\", y, \") のマスにはマークが配置済です\")\n",
    "\n",
    "row0 = [\" \", \" \", \" \"]\n",
    "row1 = [\" \", \" \", \" \"]\n",
    "row2 = [\" \", \" \", \" \"]\n",
    "board = [row0, row1, row2]\n",
    "place_mark(board, 0, 1, \"〇\")\n",
    "print(board)\n",
    "print(row0)"
   ]
  },
  {
   "cell_type": "code",
   "execution_count": 8,
   "metadata": {},
   "outputs": [
    {
     "name": "stdout",
     "output_type": "stream",
     "text": [
      "[' ', '〇', ' ']\n"
     ]
    }
   ],
   "source": [
    "def place_mark(board, x, y, mark):\n",
    "    if board[x][y] == \" \":\n",
    "        board[x][y] = mark\n",
    "    else:\n",
    "        print(\"(\", x, \",\", y, \") のマスにはマークが配置済です\")\n",
    "\n",
    "row0 = [\" \", \" \", \" \"]\n",
    "row1 = [\" \", \" \", \" \"]\n",
    "row2 = [\" \", \" \", \" \"]\n",
    "place_mark([row0, row1, row2], 0, 1, \"〇\")\n",
    "print(row0)"
   ]
  },
  {
   "cell_type": "code",
   "execution_count": 9,
   "metadata": {},
   "outputs": [],
   "source": [
    "def place_mark(board, x, y, mark):\n",
    "    if board[x][y] == \" \":\n",
    "        board[x][y] = mark\n",
    "    else:\n",
    "        print(\"(\", x, \",\", y, \") のマスにはマークが配置済です\")"
   ]
  },
  {
   "cell_type": "code",
   "execution_count": 10,
   "metadata": {},
   "outputs": [],
   "source": [
    "def remove_mark(board, x, y):\n",
    "    board[x][y] = \" \""
   ]
  },
  {
   "cell_type": "code",
   "execution_count": 11,
   "metadata": {},
   "outputs": [],
   "source": [
    "def place_mark(board, x, y, mark):\n",
    "    if board[x][y] == \" \":\n",
    "        board[x][y] = mark\n",
    "    else:\n",
    "        print(\"(\", x, \",\", y, \") のマスにはマークが配置済です\")\n",
    "\n",
    "def remove_mark(board2, x2, y2):\n",
    "    board2[x2][y2] = \" \""
   ]
  },
  {
   "cell_type": "code",
   "execution_count": 12,
   "metadata": {},
   "outputs": [],
   "source": [
    "def place_mark(board, x, y, mark):\n",
    "    if board[x][y] == \" \":\n",
    "        board[x][y] = mark\n",
    "    else:\n",
    "        print(\"(\", x, \",\", y, \") のマスにはマークが配置済です\")\n",
    "\n",
    "def remove_mark(board, x, y):\n",
    "    board[x][y] = \" \""
   ]
  },
  {
   "cell_type": "code",
   "execution_count": 13,
   "metadata": {},
   "outputs": [
    {
     "name": "stdout",
     "output_type": "stream",
     "text": [
      "[['〇', '〇', '〇'], ['〇', '〇', '〇'], ['〇', '〇', '〇']]\n"
     ]
    }
   ],
   "source": [
    "def place_mark(board, x, y, mark):\n",
    "    if board[x][y] == \" \":\n",
    "        board[x][y] = mark\n",
    "    else:\n",
    "        print(\"(\", x, \",\", y, \") のマスにはマークが配置済です\")\n",
    "\n",
    "def initialize_board():\n",
    "    return [[\" \"] * 3 for x in range(3)]\n",
    "\n",
    "# 初期化されたゲーム盤のデータを返す関数を呼び出す\n",
    "board = initialize_board()  \n",
    "# 各列の処理を繰り返し処理で行う\n",
    "for x in range(3):\n",
    "    # x 列の、各行の処理を繰り返し処理で行う\n",
    "    for y in range(3):\n",
    "        # (x, y) のマスに \"〇\" を配置する\n",
    "        place_mark(board, x, y, \"〇\")\n",
    "print(board)"
   ]
  }
 ],
 "metadata": {
  "kernelspec": {
   "display_name": "marubatsu",
   "language": "python",
   "name": "python3"
  },
  "language_info": {
   "codemirror_mode": {
    "name": "ipython",
    "version": 3
   },
   "file_extension": ".py",
   "mimetype": "text/x-python",
   "name": "python",
   "nbconvert_exporter": "python",
   "pygments_lexer": "ipython3",
   "version": "3.11.4"
  },
  "orig_nbformat": 4
 },
 "nbformat": 4,
 "nbformat_minor": 2
}
