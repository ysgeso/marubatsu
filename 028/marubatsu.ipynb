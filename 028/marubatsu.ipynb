{
 "cells": [
  {
   "cell_type": "code",
   "execution_count": 1,
   "metadata": {},
   "outputs": [
    {
     "name": "stdout",
     "output_type": "stream",
     "text": [
      "F\n",
      "D\n"
     ]
    },
    {
     "ename": "IndexError",
     "evalue": "string index out of range",
     "output_type": "error",
     "traceback": [
      "\u001b[1;31m---------------------------------------------------------------------------\u001b[0m",
      "\u001b[1;31mIndexError\u001b[0m                                Traceback (most recent call last)",
      "\u001b[1;32mc:\\Users\\ys\\ai\\marubatsu\\028\\marubatsu.ipynb セル 1\u001b[0m line \u001b[0;36m4\n\u001b[0;32m      <a href='vscode-notebook-cell:/c%3A/Users/ys/ai/marubatsu/028/marubatsu.ipynb#W0sZmlsZQ%3D%3D?line=1'>2</a>\u001b[0m \u001b[39mprint\u001b[39m(txt[\u001b[39m-\u001b[39m\u001b[39m1\u001b[39m])\n\u001b[0;32m      <a href='vscode-notebook-cell:/c%3A/Users/ys/ai/marubatsu/028/marubatsu.ipynb#W0sZmlsZQ%3D%3D?line=2'>3</a>\u001b[0m \u001b[39mprint\u001b[39m(txt[\u001b[39m-\u001b[39m\u001b[39m3\u001b[39m])\n\u001b[1;32m----> <a href='vscode-notebook-cell:/c%3A/Users/ys/ai/marubatsu/028/marubatsu.ipynb#W0sZmlsZQ%3D%3D?line=3'>4</a>\u001b[0m \u001b[39mprint\u001b[39m(txt[\u001b[39m-\u001b[39m\u001b[39m10\u001b[39m])\n",
      "\u001b[1;31mIndexError\u001b[0m: string index out of range"
     ]
    }
   ],
   "source": [
    "txt = \"ABCDEF\"\n",
    "print(txt[-1])\n",
    "print(txt[-3])\n",
    "print(txt[-10])"
   ]
  },
  {
   "cell_type": "code",
   "execution_count": 2,
   "metadata": {},
   "outputs": [
    {
     "name": "stdout",
     "output_type": "stream",
     "text": [
      "CDE\n",
      "BCDE\n"
     ]
    }
   ],
   "source": [
    "txt = \"ABCDEF\"\n",
    "print(txt[2:5])\n",
    "print(txt[-5:-1])"
   ]
  },
  {
   "cell_type": "code",
   "execution_count": 3,
   "metadata": {},
   "outputs": [
    {
     "name": "stdout",
     "output_type": "stream",
     "text": [
      "1\n",
      "[1]\n"
     ]
    }
   ],
   "source": [
    "a = [1, 2, 3]\n",
    "print(a[0])\n",
    "print(a[0:1])"
   ]
  },
  {
   "cell_type": "code",
   "execution_count": 4,
   "metadata": {},
   "outputs": [
    {
     "name": "stdout",
     "output_type": "stream",
     "text": [
      "a\n",
      "a\n"
     ]
    }
   ],
   "source": [
    "a = \"abc\"\n",
    "print(a[0])\n",
    "print(a[0:1])"
   ]
  },
  {
   "cell_type": "code",
   "execution_count": 5,
   "metadata": {},
   "outputs": [
    {
     "name": "stdout",
     "output_type": "stream",
     "text": [
      "ABCDE\n",
      "CDEF\n"
     ]
    }
   ],
   "source": [
    "txt = \"ABCDEF\"\n",
    "print(txt[-100:5])\n",
    "print(txt[2:100])"
   ]
  },
  {
   "cell_type": "code",
   "execution_count": 6,
   "metadata": {},
   "outputs": [
    {
     "name": "stdout",
     "output_type": "stream",
     "text": [
      "\n"
     ]
    }
   ],
   "source": [
    "print(txt[3:1])"
   ]
  },
  {
   "cell_type": "code",
   "execution_count": 7,
   "metadata": {},
   "outputs": [
    {
     "name": "stdout",
     "output_type": "stream",
     "text": [
      "ABCDE\n",
      "CDEF\n",
      "ABCDEF\n"
     ]
    }
   ],
   "source": [
    "txt = \"ABCDEF\"\n",
    "print(txt[:5])\n",
    "print(txt[2:])\n",
    "print(txt[:])"
   ]
  },
  {
   "cell_type": "code",
   "execution_count": 8,
   "metadata": {},
   "outputs": [
    {
     "name": "stdout",
     "output_type": "stream",
     "text": [
      "[1, 2, 3]\n",
      "[1, 2, 3]\n",
      "[5, 2, 3]\n"
     ]
    }
   ],
   "source": [
    "list1 = [ 1, 2, 3 ]\n",
    "list2 = list1[:]\n",
    "print(list2)\n",
    "list2[0] = 5\n",
    "print(list1)\n",
    "print(list2)"
   ]
  },
  {
   "cell_type": "code",
   "execution_count": 9,
   "metadata": {},
   "outputs": [
    {
     "name": "stdout",
     "output_type": "stream",
     "text": [
      "CE\n"
     ]
    }
   ],
   "source": [
    "print(\"ABCDEF\"[2:5:2])"
   ]
  },
  {
   "cell_type": "code",
   "execution_count": 10,
   "metadata": {},
   "outputs": [
    {
     "name": "stdout",
     "output_type": "stream",
     "text": [
      "CDE\n",
      "CDE\n",
      "CDE\n"
     ]
    }
   ],
   "source": [
    "txt = \"ABCDEF\"\n",
    "print(txt[2:5:])\n",
    "print(txt[2:5:1])\n",
    "print(txt[2:5])"
   ]
  },
  {
   "cell_type": "code",
   "execution_count": 11,
   "metadata": {},
   "outputs": [
    {
     "ename": "ValueError",
     "evalue": "slice step cannot be zero",
     "output_type": "error",
     "traceback": [
      "\u001b[1;31m---------------------------------------------------------------------------\u001b[0m",
      "\u001b[1;31mValueError\u001b[0m                                Traceback (most recent call last)",
      "\u001b[1;32mc:\\Users\\ys\\ai\\marubatsu\\028\\marubatsu.ipynb セル 11\u001b[0m line \u001b[0;36m1\n\u001b[1;32m----> <a href='vscode-notebook-cell:/c%3A/Users/ys/ai/marubatsu/028/marubatsu.ipynb#X13sZmlsZQ%3D%3D?line=0'>1</a>\u001b[0m \u001b[39mprint\u001b[39m(\u001b[39m\"\u001b[39m\u001b[39mABCDEF\u001b[39m\u001b[39m\"\u001b[39m[\u001b[39m2\u001b[39m:\u001b[39m5\u001b[39m:\u001b[39m0\u001b[39m])\n",
      "\u001b[1;31mValueError\u001b[0m: slice step cannot be zero"
     ]
    }
   ],
   "source": [
    "print(\"ABCDEF\"[2:5:0])"
   ]
  },
  {
   "cell_type": "code",
   "execution_count": 12,
   "metadata": {},
   "outputs": [
    {
     "name": "stdout",
     "output_type": "stream",
     "text": [
      "FD\n",
      "FEDCBA\n",
      "\n"
     ]
    }
   ],
   "source": [
    "txt = \"ABCDEF\"\n",
    "print(txt[5:2:-2])\n",
    "print(txt[::-1])\n",
    "print(txt[2:5:-1])"
   ]
  },
  {
   "cell_type": "code",
   "execution_count": 13,
   "metadata": {},
   "outputs": [],
   "source": [
    "from marubatsu import Marubatsu\n",
    "\n",
    "testcases = [\n",
    "    # 〇 の勝利のテストケース\n",
    "    [                                      # 着手順とゲーム盤\n",
    "        [ \"A1\", \"A2\", \"B1\", \"B2\", \"C1\" ],  # 123  ooo\n",
    "        Marubatsu.CIRCLE,                  # 45.  xx. \n",
    "    ],                                     # ...  ...\n",
    "    # × の勝利のテストケース\n",
    "    [                                            # 着手順とゲーム盤\n",
    "        [ \"A2\", \"A1\", \"B2\", \"B1\", \"A3\", \"C1\" ],  # 246  xxx \n",
    "        Marubatsu.CROSS,                         # 13.  oo.\n",
    "    ],                                           # ...  ...\n",
    "    # 引き分けのテストケース\n",
    "    [                                                              # 着手順とゲーム盤\n",
    "        [ \"A1\", \"A2\", \"B1\", \"B2\", \"C2\", \"C1\", \"A3\", \"B3\", \"C3\" ],  # 136  oox \n",
    "        Marubatsu.DRAW,                                            # 245  xxo\n",
    "    ],                                                             # 789  oxo\n",
    "]"
   ]
  },
  {
   "cell_type": "code",
   "execution_count": 14,
   "metadata": {},
   "outputs": [],
   "source": [
    "testcases = [\n",
    "    # 〇 の勝利のテストケース\n",
    "    [                                  # 着手順とゲーム盤\n",
    "        \"A1A2B1B2C1\",                  # 123  ooo\n",
    "        Marubatsu.CIRCLE,              # 45.  xx. \n",
    "    ],                                 # ...  ...\n",
    "    # × の勝利のテストケース\n",
    "    [                                  # 着手順とゲーム盤\n",
    "        \"A2A1B2B1A3C1\",                # 246  xxx \n",
    "        Marubatsu.CROSS,               # 13.  oo.\n",
    "    ],                                 # ...  ...\n",
    "    # 引き分けのテストケース\n",
    "    [                                  # 着手順とゲーム盤\n",
    "        \"A1A2B1B2C2C1A3B3C3\",          # 136  oox \n",
    "        Marubatsu.DRAW,                # 245  xxo\n",
    "    ],                                 # 789  oxo\n",
    "]"
   ]
  },
  {
   "cell_type": "code",
   "execution_count": 15,
   "metadata": {},
   "outputs": [
    {
     "name": "stdout",
     "output_type": "stream",
     "text": [
      "10\n",
      "15\n"
     ]
    }
   ],
   "source": [
    "for i in range(10, 20, 5):\n",
    "    print(i)"
   ]
  },
  {
   "cell_type": "code",
   "execution_count": 16,
   "metadata": {},
   "outputs": [
    {
     "ename": "TypeError",
     "evalue": "'float' object cannot be interpreted as an integer",
     "output_type": "error",
     "traceback": [
      "\u001b[1;31m---------------------------------------------------------------------------\u001b[0m",
      "\u001b[1;31mTypeError\u001b[0m                                 Traceback (most recent call last)",
      "\u001b[1;32mc:\\Users\\ys\\ai\\marubatsu\\028\\marubatsu.ipynb セル 16\u001b[0m line \u001b[0;36m1\n\u001b[1;32m----> <a href='vscode-notebook-cell:/c%3A/Users/ys/ai/marubatsu/028/marubatsu.ipynb#X21sZmlsZQ%3D%3D?line=0'>1</a>\u001b[0m \u001b[39mfor\u001b[39;00m i \u001b[39min\u001b[39;00m \u001b[39mrange\u001b[39m(\u001b[39m1.5\u001b[39m):\n\u001b[0;32m      <a href='vscode-notebook-cell:/c%3A/Users/ys/ai/marubatsu/028/marubatsu.ipynb#X21sZmlsZQ%3D%3D?line=1'>2</a>\u001b[0m     \u001b[39mprint\u001b[39m(i)\n",
      "\u001b[1;31mTypeError\u001b[0m: 'float' object cannot be interpreted as an integer"
     ]
    }
   ],
   "source": [
    "for i in range(1.5):\n",
    "    print(i)"
   ]
  },
  {
   "cell_type": "code",
   "execution_count": 17,
   "metadata": {},
   "outputs": [
    {
     "ename": "ValueError",
     "evalue": "range() arg 3 must not be zero",
     "output_type": "error",
     "traceback": [
      "\u001b[1;31m---------------------------------------------------------------------------\u001b[0m",
      "\u001b[1;31mValueError\u001b[0m                                Traceback (most recent call last)",
      "\u001b[1;32mc:\\Users\\ys\\ai\\marubatsu\\028\\marubatsu.ipynb セル 17\u001b[0m line \u001b[0;36m1\n\u001b[1;32m----> <a href='vscode-notebook-cell:/c%3A/Users/ys/ai/marubatsu/028/marubatsu.ipynb#X22sZmlsZQ%3D%3D?line=0'>1</a>\u001b[0m \u001b[39mfor\u001b[39;00m i \u001b[39min\u001b[39;00m \u001b[39mrange\u001b[39m(\u001b[39m0\u001b[39m, \u001b[39m10\u001b[39m, \u001b[39m0\u001b[39m):\n\u001b[0;32m      <a href='vscode-notebook-cell:/c%3A/Users/ys/ai/marubatsu/028/marubatsu.ipynb#X22sZmlsZQ%3D%3D?line=1'>2</a>\u001b[0m     \u001b[39mprint\u001b[39m(i)\n",
      "\u001b[1;31mValueError\u001b[0m: range() arg 3 must not be zero"
     ]
    }
   ],
   "source": [
    "for i in range(0, 10, 0):\n",
    "    print(i)"
   ]
  },
  {
   "cell_type": "code",
   "execution_count": 18,
   "metadata": {},
   "outputs": [
    {
     "name": "stdout",
     "output_type": "stream",
     "text": [
      "10\n"
     ]
    }
   ],
   "source": [
    "print(len(\"A1A2B1B2C1\"))"
   ]
  },
  {
   "cell_type": "code",
   "execution_count": 19,
   "metadata": {},
   "outputs": [],
   "source": [
    "def excels_to_list(excels):\n",
    "    excel_list = []\n",
    "    # excels の先頭から 2 文字ずつ文字を取り出す繰り返し処理\n",
    "    for i in range(0, len(excels), 2):\n",
    "        # i 文字目と、i + 1 文字目を連結した 2 文字を取り出す\n",
    "        excel = excels[i] + excels[i + 1]\n",
    "        excel_list.append(excel)\n",
    "    return excel_list"
   ]
  },
  {
   "cell_type": "code",
   "execution_count": 20,
   "metadata": {},
   "outputs": [
    {
     "name": "stdout",
     "output_type": "stream",
     "text": [
      "['A1', 'A2', 'B1', 'B2', 'C1']\n"
     ]
    }
   ],
   "source": [
    "print(excels_to_list(\"A1A2B1B2C1\"))"
   ]
  },
  {
   "cell_type": "code",
   "execution_count": 21,
   "metadata": {},
   "outputs": [],
   "source": [
    "from test import excel_to_xy\n",
    "\n",
    "def test_judge(testcases):\n",
    "    for testcase in testcases:\n",
    "        testdata, winner = testcase\n",
    "        mb = Marubatsu()\n",
    "        for coord in excels_to_list(testdata):\n",
    "            x, y = excel_to_xy(coord)            \n",
    "            mb.move(x, y)\n",
    "        print(mb)\n",
    "\n",
    "        if mb.judge() == winner:\n",
    "            print(\"ok\")\n",
    "        else:\n",
    "            print(\"error!\")"
   ]
  },
  {
   "cell_type": "code",
   "execution_count": 22,
   "metadata": {},
   "outputs": [
    {
     "name": "stdout",
     "output_type": "stream",
     "text": [
      "Turn x\n",
      "ooo\n",
      "xx.\n",
      "...\n",
      "\n",
      "ok\n",
      "Turn o\n",
      "xxx\n",
      "oo.\n",
      "o..\n",
      "\n",
      "ok\n",
      "Turn x\n",
      "oox\n",
      "xxo\n",
      "oxo\n",
      "\n",
      "ok\n"
     ]
    }
   ],
   "source": [
    "test_judge(testcases)"
   ]
  },
  {
   "cell_type": "code",
   "execution_count": 23,
   "metadata": {},
   "outputs": [],
   "source": [
    "def excels_to_list(excels):\n",
    "    excel_list = []\n",
    "    # excels の先頭から 2 文字ずつ文字を取り出す繰り返し処理\n",
    "    for i in range(0, len(excels), 2):\n",
    "        # i 文字目から 2 文字分を取り出す\n",
    "        excel = excels[i:i+2]\n",
    "        excel_list.append(excel)\n",
    "    return excel_list"
   ]
  },
  {
   "cell_type": "code",
   "execution_count": 24,
   "metadata": {},
   "outputs": [
    {
     "name": "stdout",
     "output_type": "stream",
     "text": [
      "Turn x\n",
      "ooo\n",
      "xx.\n",
      "...\n",
      "\n",
      "ok\n",
      "Turn o\n",
      "xxx\n",
      "oo.\n",
      "o..\n",
      "\n",
      "ok\n",
      "Turn x\n",
      "oox\n",
      "xxo\n",
      "oxo\n",
      "\n",
      "ok\n"
     ]
    }
   ],
   "source": [
    "test_judge(testcases)"
   ]
  },
  {
   "cell_type": "code",
   "execution_count": 25,
   "metadata": {},
   "outputs": [],
   "source": [
    "def excels_to_list(excels):\n",
    "    excel_list = [ excels[i:i+2] for i in range(0, len(excels), 2) ]\n",
    "    return excel_list"
   ]
  },
  {
   "cell_type": "code",
   "execution_count": 26,
   "metadata": {},
   "outputs": [
    {
     "name": "stdout",
     "output_type": "stream",
     "text": [
      "Turn x\n",
      "ooo\n",
      "xx.\n",
      "...\n",
      "\n",
      "ok\n",
      "Turn o\n",
      "xxx\n",
      "oo.\n",
      "o..\n",
      "\n",
      "ok\n",
      "Turn x\n",
      "oox\n",
      "xxo\n",
      "oxo\n",
      "\n",
      "ok\n"
     ]
    }
   ],
   "source": [
    "test_judge(testcases)"
   ]
  },
  {
   "cell_type": "code",
   "execution_count": 27,
   "metadata": {},
   "outputs": [],
   "source": [
    "testcases = [\n",
    "    # 〇 の勝利のテストケース\n",
    "    [                                  # 着手順とゲーム盤\n",
    "        \"A1,A2,B1,B2,C1\",              # 123  ooo\n",
    "        Marubatsu.CIRCLE,              # 45.  xx. \n",
    "    ],                                 # ...  ...\n",
    "    # × の勝利のテストケース\n",
    "    [                                  # 着手順とゲーム盤\n",
    "        \"A2,A1,B2,B1,A3,C1\",           # 246  xxx \n",
    "        Marubatsu.CROSS,               # 13.  oo.\n",
    "    ],                                 # ...  ...\n",
    "    # 引き分けのテストケース\n",
    "    [                                  # 着手順とゲーム盤\n",
    "        \"A1,A2,B1,B2,C2,C1,A3,B3,C3\",  # 136  oox \n",
    "        Marubatsu.DRAW,                # 245  xxo\n",
    "    ],                                 # 789  oxo\n",
    "]"
   ]
  },
  {
   "cell_type": "code",
   "execution_count": 28,
   "metadata": {},
   "outputs": [
    {
     "name": "stdout",
     "output_type": "stream",
     "text": [
      "['A1', 'A2', 'B1', 'B2', 'C1']\n"
     ]
    }
   ],
   "source": [
    "print(\"A1,A2,B1,B2,C1\".split(\",\"))"
   ]
  },
  {
   "cell_type": "code",
   "execution_count": 29,
   "metadata": {},
   "outputs": [
    {
     "name": "stdout",
     "output_type": "stream",
     "text": [
      "['A1', 'A2', 'B1', 'B2', 'C1']\n",
      "['A1', 'A2', 'B1', 'B2', 'C1']\n",
      "['A1', 'A2', 'B1', 'B2', 'C1']\n"
     ]
    }
   ],
   "source": [
    "print(\"A1 A2 B1 B2 C1\".split(\" \"))\n",
    "print(\"A1\\tA2\\tB1\\tB2\\tC1\".split(\"\\t\"))\n",
    "print(\"A1\\nA2\\nB1\\nB2\\nC1\".split(\"\\n\"))"
   ]
  },
  {
   "cell_type": "code",
   "execution_count": 30,
   "metadata": {},
   "outputs": [
    {
     "name": "stdout",
     "output_type": "stream",
     "text": [
      "['A1', 'A2', 'B1', 'B2', 'C1']\n"
     ]
    }
   ],
   "source": [
    "print(\"A1::A2::B1::B2::C1\".split(\"::\"))"
   ]
  },
  {
   "cell_type": "code",
   "execution_count": 31,
   "metadata": {},
   "outputs": [
    {
     "name": "stdout",
     "output_type": "stream",
     "text": [
      "A1A2B1B2C1\n",
      "A1,A2,B1,B2,C1\n",
      "A1 A2 B1 B2 C1\n",
      "A1::A2::B1::B2::C1\n"
     ]
    }
   ],
   "source": [
    "coords = ['A1', 'A2', 'B1', 'B2', 'C1']\n",
    "print(\"\".join(coords))\n",
    "print(\",\".join(coords))\n",
    "print(\" \".join(coords))\n",
    "print(\"::\".join(coords))"
   ]
  },
  {
   "cell_type": "code",
   "execution_count": 32,
   "metadata": {},
   "outputs": [
    {
     "name": "stdout",
     "output_type": "stream",
     "text": [
      "['A1', 'A2', 'B1', 'B2', 'C1']\n",
      "['A1', 'A2', 'B1', 'B2', 'C1']\n"
     ]
    }
   ],
   "source": [
    "coords = ['A1', 'A2', 'B1', 'B2', 'C1']\n",
    "print(\",\".join(coords).split(\",\"))\n",
    "print(\" \".join(coords).split(\" \"))"
   ]
  },
  {
   "cell_type": "code",
   "execution_count": 33,
   "metadata": {},
   "outputs": [
    {
     "ename": "TypeError",
     "evalue": "sequence item 0: expected str instance, int found",
     "output_type": "error",
     "traceback": [
      "\u001b[1;31m---------------------------------------------------------------------------\u001b[0m",
      "\u001b[1;31mTypeError\u001b[0m                                 Traceback (most recent call last)",
      "\u001b[1;32mc:\\Users\\ys\\ai\\marubatsu\\028\\marubatsu.ipynb セル 33\u001b[0m line \u001b[0;36m1\n\u001b[1;32m----> <a href='vscode-notebook-cell:/c%3A/Users/ys/ai/marubatsu/028/marubatsu.ipynb#X44sZmlsZQ%3D%3D?line=0'>1</a>\u001b[0m \u001b[39mprint\u001b[39m(\u001b[39m\"\u001b[39m\u001b[39m,\u001b[39m\u001b[39m\"\u001b[39m\u001b[39m.\u001b[39mjoin([\u001b[39m1\u001b[39m, \u001b[39m2\u001b[39m, \u001b[39m3\u001b[39m]))\n",
      "\u001b[1;31mTypeError\u001b[0m: sequence item 0: expected str instance, int found"
     ]
    }
   ],
   "source": [
    "print(\",\".join([1, 2, 3]))"
   ]
  },
  {
   "cell_type": "code",
   "execution_count": 34,
   "metadata": {},
   "outputs": [],
   "source": [
    "def test_judge(testcases):\n",
    "    for testcase in testcases:\n",
    "        testdata, winner = testcase\n",
    "        mb = Marubatsu()\n",
    "        for coord in testdata.split(\",\"):\n",
    "            x, y = excel_to_xy(coord)\n",
    "            mb.move(x, y)\n",
    "        print(mb)\n",
    "\n",
    "        if mb.judge() == winner:\n",
    "            print(\"ok\")\n",
    "        else:\n",
    "            print(\"error!\")"
   ]
  },
  {
   "cell_type": "code",
   "execution_count": 35,
   "metadata": {},
   "outputs": [
    {
     "name": "stdout",
     "output_type": "stream",
     "text": [
      "Turn x\n",
      "ooo\n",
      "xx.\n",
      "...\n",
      "\n",
      "ok\n",
      "Turn o\n",
      "xxx\n",
      "oo.\n",
      "o..\n",
      "\n",
      "ok\n",
      "Turn x\n",
      "oox\n",
      "xxo\n",
      "oxo\n",
      "\n",
      "ok\n"
     ]
    }
   ],
   "source": [
    "test_judge(testcases)"
   ]
  }
 ],
 "metadata": {
  "kernelspec": {
   "display_name": "marubatsu",
   "language": "python",
   "name": "python3"
  },
  "language_info": {
   "codemirror_mode": {
    "name": "ipython",
    "version": 3
   },
   "file_extension": ".py",
   "mimetype": "text/x-python",
   "name": "python",
   "nbconvert_exporter": "python",
   "pygments_lexer": "ipython3",
   "version": "3.11.4"
  }
 },
 "nbformat": 4,
 "nbformat_minor": 2
}
