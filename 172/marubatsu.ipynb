{
 "cells": [
  {
   "cell_type": "code",
   "execution_count": 1,
   "metadata": {},
   "outputs": [],
   "source": [
    "from ai import ai_by_score, dprint\n",
    "from marubatsu import Marubatsu\n",
    "from copy import deepcopy\n",
    "\n",
    "@ai_by_score\n",
    "def ai_mmdfs_tt(mb, debug=False, tt=None, shortest_victory=False):\n",
    "    count = 0\n",
    "    def mm_search(mborig, tt):\n",
    "        nonlocal count\n",
    "        count += 1\n",
    "\n",
    "        if mborig.status == Marubatsu.CIRCLE:\n",
    "            return (11 - mborig.move_count) / 2 if shortest_victory else 1\n",
    "        elif mborig.status == Marubatsu.CROSS:\n",
    "            return (mborig.move_count - 10) / 2 if shortest_victory else -1\n",
    "        elif mborig.status == Marubatsu.DRAW:\n",
    "            return 0\n",
    "        \n",
    "        boardtxt = mborig.board_to_str()\n",
    "        if boardtxt in tt:\n",
    "            return tt[boardtxt]\n",
    "        \n",
    "        legal_moves = mborig.calc_legal_moves()\n",
    "        score_list = []\n",
    "        for x, y in legal_moves:\n",
    "            mb = deepcopy(mborig)\n",
    "            mb.move(x, y)\n",
    "            score_list.append(mm_search(mb, tt))\n",
    "        if mborig.turn == Marubatsu.CIRCLE:\n",
    "            score = max(score_list)\n",
    "        else:\n",
    "            score = min(score_list)\n",
    "            \n",
    "        from util import calc_same_boardtexts\n",
    "\n",
    "        boardtxtlist = calc_same_boardtexts(mborig)\n",
    "        for boardtxt in boardtxtlist:\n",
    "            tt[boardtxt] = score\n",
    "        return score\n",
    "    \n",
    "    if tt is None:\n",
    "        tt = {}\n",
    "    score = mm_search(mb, tt)\n",
    "    dprint(debug, \"count =\", count)\n",
    "    if mb.turn == Marubatsu.CIRCLE:\n",
    "        score *= -1\n",
    "    return score"
   ]
  },
  {
   "cell_type": "code",
   "execution_count": 2,
   "metadata": {},
   "outputs": [
    {
     "name": "stdout",
     "output_type": "stream",
     "text": [
      "Start ai_by_score\n",
      "Turn o\n",
      "...\n",
      "...\n",
      "...\n",
      "\n",
      "legal_moves [(0, 0), (1, 0), (2, 0), (0, 1), (1, 1), (2, 1), (0, 2), (1, 2), (2, 2)]\n",
      "====================\n",
      "move (0, 0)\n",
      "Turn x\n",
      "O..\n",
      "...\n",
      "...\n",
      "\n",
      "count = 1820\n",
      "score 0 best score -inf\n",
      "UPDATE\n",
      "  best score 0\n",
      "  best moves [(0, 0)]\n",
      "====================\n",
      "move (1, 0)\n",
      "Turn x\n",
      ".O.\n",
      "...\n",
      "...\n",
      "\n",
      "count = 421\n",
      "score 0 best score 0\n",
      "APPEND\n",
      "  best moves [(0, 0), (1, 0)]\n",
      "====================\n",
      "move (2, 0)\n",
      "Turn x\n",
      "..O\n",
      "...\n",
      "...\n",
      "\n",
      "count = 1\n",
      "score 0 best score 0\n",
      "APPEND\n",
      "  best moves [(0, 0), (1, 0), (2, 0)]\n",
      "====================\n",
      "move (0, 1)\n",
      "Turn x\n",
      "...\n",
      "O..\n",
      "...\n",
      "\n",
      "count = 1\n",
      "score 0 best score 0\n",
      "APPEND\n",
      "  best moves [(0, 0), (1, 0), (2, 0), (0, 1)]\n",
      "====================\n",
      "move (1, 1)\n",
      "Turn x\n",
      "...\n",
      ".O.\n",
      "...\n",
      "\n",
      "count = 23\n",
      "score 0 best score 0\n",
      "APPEND\n",
      "  best moves [(0, 0), (1, 0), (2, 0), (0, 1), (1, 1)]\n",
      "====================\n",
      "move (2, 1)\n",
      "Turn x\n",
      "...\n",
      "..O\n",
      "...\n",
      "\n",
      "count = 1\n",
      "score 0 best score 0\n",
      "APPEND\n",
      "  best moves [(0, 0), (1, 0), (2, 0), (0, 1), (1, 1), (2, 1)]\n",
      "====================\n",
      "move (0, 2)\n",
      "Turn x\n",
      "...\n",
      "...\n",
      "O..\n",
      "\n",
      "count = 1\n",
      "score 0 best score 0\n",
      "APPEND\n",
      "  best moves [(0, 0), (1, 0), (2, 0), (0, 1), (1, 1), (2, 1), (0, 2)]\n",
      "====================\n",
      "move (1, 2)\n",
      "Turn x\n",
      "...\n",
      "...\n",
      ".O.\n",
      "\n",
      "count = 1\n",
      "score 0 best score 0\n",
      "APPEND\n",
      "  best moves [(0, 0), (1, 0), (2, 0), (0, 1), (1, 1), (2, 1), (0, 2), (1, 2)]\n",
      "====================\n",
      "move (2, 2)\n",
      "Turn x\n",
      "...\n",
      "...\n",
      "..O\n",
      "\n",
      "count = 1\n",
      "score 0 best score 0\n",
      "APPEND\n",
      "  best moves [(0, 0), (1, 0), (2, 0), (0, 1), (1, 1), (2, 1), (0, 2), (1, 2), (2, 2)]\n",
      "====================\n",
      "Finished\n",
      "best score 0\n",
      "best moves [(0, 0), (1, 0), (2, 0), (0, 1), (1, 1), (2, 1), (0, 2), (1, 2), (2, 2)]\n"
     ]
    },
    {
     "data": {
      "text/plain": [
       "(0, 0)"
      ]
     },
     "execution_count": 2,
     "metadata": {},
     "output_type": "execute_result"
    }
   ],
   "source": [
    "mb = Marubatsu()\n",
    "ai_mmdfs_tt(mb, tt={}, debug=True)"
   ]
  },
  {
   "cell_type": "code",
   "execution_count": 3,
   "metadata": {},
   "outputs": [
    {
     "name": "stdout",
     "output_type": "stream",
     "text": [
      "Start ai_by_score\n",
      "Turn o\n",
      "...\n",
      "...\n",
      "...\n",
      "\n",
      "legal_moves [(0, 0), (1, 0), (2, 0), (0, 1), (1, 1), (2, 1), (0, 2), (1, 2), (2, 2)]\n",
      "====================\n",
      "move (0, 0)\n",
      "Turn x\n",
      "O..\n",
      "...\n",
      "...\n",
      "\n",
      "count = 1820\n",
      "score 0 best score -inf\n",
      "UPDATE\n",
      "  best score 0\n",
      "  best moves [(0, 0)]\n",
      "====================\n",
      "move (1, 0)\n",
      "Turn x\n",
      ".O.\n",
      "...\n",
      "...\n",
      "\n",
      "count = 1817\n",
      "score 0 best score 0\n",
      "APPEND\n",
      "  best moves [(0, 0), (1, 0)]\n",
      "====================\n",
      "move (2, 0)\n",
      "Turn x\n",
      "..O\n",
      "...\n",
      "...\n",
      "\n",
      "count = 1820\n",
      "score 0 best score 0\n",
      "APPEND\n",
      "  best moves [(0, 0), (1, 0), (2, 0)]\n",
      "====================\n",
      "move (0, 1)\n",
      "Turn x\n",
      "...\n",
      "O..\n",
      "...\n",
      "\n",
      "count = 1817\n",
      "score 0 best score 0\n",
      "APPEND\n",
      "  best moves [(0, 0), (1, 0), (2, 0), (0, 1)]\n",
      "====================\n",
      "move (1, 1)\n",
      "Turn x\n",
      "...\n",
      ".O.\n",
      "...\n",
      "\n",
      "count = 643\n",
      "score 0 best score 0\n",
      "APPEND\n",
      "  best moves [(0, 0), (1, 0), (2, 0), (0, 1), (1, 1)]\n",
      "====================\n",
      "move (2, 1)\n",
      "Turn x\n",
      "...\n",
      "..O\n",
      "...\n",
      "\n",
      "count = 1817\n",
      "score 0 best score 0\n",
      "APPEND\n",
      "  best moves [(0, 0), (1, 0), (2, 0), (0, 1), (1, 1), (2, 1)]\n",
      "====================\n",
      "move (0, 2)\n",
      "Turn x\n",
      "...\n",
      "...\n",
      "O..\n",
      "\n",
      "count = 1820\n",
      "score 0 best score 0\n",
      "APPEND\n",
      "  best moves [(0, 0), (1, 0), (2, 0), (0, 1), (1, 1), (2, 1), (0, 2)]\n",
      "====================\n",
      "move (1, 2)\n",
      "Turn x\n",
      "...\n",
      "...\n",
      ".O.\n",
      "\n",
      "count = 1817\n",
      "score 0 best score 0\n",
      "APPEND\n",
      "  best moves [(0, 0), (1, 0), (2, 0), (0, 1), (1, 1), (2, 1), (0, 2), (1, 2)]\n",
      "====================\n",
      "move (2, 2)\n",
      "Turn x\n",
      "...\n",
      "...\n",
      "..O\n",
      "\n",
      "count = 1820\n",
      "score 0 best score 0\n",
      "APPEND\n",
      "  best moves [(0, 0), (1, 0), (2, 0), (0, 1), (1, 1), (2, 1), (0, 2), (1, 2), (2, 2)]\n",
      "====================\n",
      "Finished\n",
      "best score 0\n",
      "best moves [(0, 0), (1, 0), (2, 0), (0, 1), (1, 1), (2, 1), (0, 2), (1, 2), (2, 2)]\n"
     ]
    },
    {
     "data": {
      "text/plain": [
       "(1, 1)"
      ]
     },
     "execution_count": 3,
     "metadata": {},
     "output_type": "execute_result"
    }
   ],
   "source": [
    "ai_mmdfs_tt(mb, debug=True)"
   ]
  },
  {
   "cell_type": "code",
   "execution_count": 4,
   "metadata": {},
   "outputs": [
    {
     "name": "stderr",
     "output_type": "stream",
     "text": [
      "100%|██████████| 431/431 [00:00<00:00, 1354.21it/s]"
     ]
    },
    {
     "name": "stdout",
     "output_type": "stream",
     "text": [
      "431/431 100.00%\n"
     ]
    },
    {
     "name": "stderr",
     "output_type": "stream",
     "text": [
      "\n"
     ]
    },
    {
     "data": {
      "text/plain": [
       "(True, [])"
      ]
     },
     "execution_count": 4,
     "metadata": {},
     "output_type": "execute_result"
    }
   ],
   "source": [
    "from util import Check_solved\n",
    "\n",
    "Check_solved.is_strongly_solved(ai_mmdfs_tt, params={\"tt\": {}})"
   ]
  },
  {
   "cell_type": "code",
   "execution_count": 5,
   "metadata": {},
   "outputs": [
    {
     "name": "stderr",
     "output_type": "stream",
     "text": [
      "100%|██████████| 431/431 [00:05<00:00, 82.96it/s] "
     ]
    },
    {
     "name": "stdout",
     "output_type": "stream",
     "text": [
      "431/431 100.00%\n"
     ]
    },
    {
     "name": "stderr",
     "output_type": "stream",
     "text": [
      "\n"
     ]
    },
    {
     "data": {
      "text/plain": [
       "(True, [])"
      ]
     },
     "execution_count": 5,
     "metadata": {},
     "output_type": "execute_result"
    }
   ],
   "source": [
    "Check_solved.is_strongly_solved(ai_mmdfs_tt)"
   ]
  },
  {
   "cell_type": "code",
   "execution_count": 7,
   "metadata": {},
   "outputs": [
    {
     "name": "stdout",
     "output_type": "stream",
     "text": [
      "ai_mmdfs_tt VS ai2s\n"
     ]
    },
    {
     "name": "stderr",
     "output_type": "stream",
     "text": [
      "100%|██████████| 100/100 [02:26<00:00,  1.46s/it]"
     ]
    },
    {
     "name": "stdout",
     "output_type": "stream",
     "text": [
      "count     win    lose    draw\n",
      "o          89       0      11\n",
      "x          74       0      26\n",
      "total     163       0      37\n",
      "\n",
      "ratio     win    lose    draw\n",
      "o       89.0%    0.0%   11.0%\n",
      "x       74.0%    0.0%   26.0%\n",
      "total   81.5%    0.0%   18.5%\n",
      "\n"
     ]
    },
    {
     "name": "stderr",
     "output_type": "stream",
     "text": [
      "\n"
     ]
    }
   ],
   "source": [
    "from ai import ai2s, ai_match\n",
    "\n",
    "ai_match(ai=[ai_mmdfs_tt, ai2s], match_num=100)"
   ]
  },
  {
   "cell_type": "code",
   "execution_count": 8,
   "metadata": {},
   "outputs": [
    {
     "name": "stdout",
     "output_type": "stream",
     "text": [
      "ai_mmdfs_tt VS ai2s\n"
     ]
    },
    {
     "name": "stderr",
     "output_type": "stream",
     "text": [
      "100%|██████████| 100/100 [00:00<00:00, 103.11it/s]"
     ]
    },
    {
     "name": "stdout",
     "output_type": "stream",
     "text": [
      "count     win    lose    draw\n",
      "o          98       0       2\n",
      "x          74       0      26\n",
      "total     172       0      28\n",
      "\n",
      "ratio     win    lose    draw\n",
      "o       98.0%    0.0%    2.0%\n",
      "x       74.0%    0.0%   26.0%\n",
      "total   86.0%    0.0%   14.0%\n",
      "\n"
     ]
    },
    {
     "name": "stderr",
     "output_type": "stream",
     "text": [
      "\n"
     ]
    }
   ],
   "source": [
    "ai_match(ai=[ai_mmdfs_tt, ai2s], params=[{\"tt\": {}}, {}], match_num=100)"
   ]
  },
  {
   "cell_type": "code",
   "execution_count": 9,
   "metadata": {},
   "outputs": [],
   "source": [
    "@ai_by_score\n",
    "def ai_abs_all(mb, debug, shortest_victory=False, init_ab=False,\n",
    "               use_tt=False, tt=None, ai_for_mo=None, params={},\n",
    "               sort_allnodes=False, calc_count=False):           \n",
    "    count = 0\n",
    "    def ab_search(mborig, tt, alpha=float(\"-inf\"), beta=float(\"inf\")):\n",
    "        nonlocal count\n",
    "        count += 1\n",
    "        if mborig.status == Marubatsu.CIRCLE:\n",
    "            return (11 - mborig.move_count) / 2 if shortest_victory else 1\n",
    "        elif mborig.status == Marubatsu.CROSS:\n",
    "            return (mborig.move_count - 10) / 2 if shortest_victory else -1\n",
    "        elif mborig.status == Marubatsu.DRAW:\n",
    "            return 0\n",
    "        \n",
    "        if use_tt:\n",
    "            boardtxt = mborig.board_to_str()\n",
    "            if boardtxt in tt:\n",
    "                lower_bound, upper_bound = tt[boardtxt]\n",
    "                if lower_bound == upper_bound:\n",
    "                    return lower_bound\n",
    "                elif upper_bound <= alpha:\n",
    "                    return upper_bound\n",
    "                elif beta <= lower_bound:\n",
    "                    return lower_bound\n",
    "                else:\n",
    "                    alpha = max(alpha, lower_bound)\n",
    "                    beta = min(beta, upper_bound)\n",
    "            else:\n",
    "                lower_bound = min_score\n",
    "                upper_bound = max_score\n",
    "        \n",
    "        alphaorig = alpha\n",
    "        betaorig = beta\n",
    "\n",
    "        legal_moves = mborig.calc_legal_moves()\n",
    "        if ai_for_mo is not None:\n",
    "            if sort_allnodes:\n",
    "                score_by_move = ai_for_mo(mborig, analyze=True, **params)[\"score_by_move\"]\n",
    "                score_by_move_list = sorted(score_by_move.items(), key=lambda x:x[1], reverse=True)\n",
    "                legal_moves = [x[0] for x in score_by_move_list]\n",
    "            else:\n",
    "                legal_moves = mborig.calc_legal_moves()\n",
    "                bestmove = ai_for_mo(mborig, rand=False, **params)\n",
    "                index = legal_moves.index(bestmove)\n",
    "                legal_moves[0], legal_moves[index] = legal_moves[index], legal_moves[0]\n",
    "        if mborig.turn == Marubatsu.CIRCLE:\n",
    "            score = float(\"-inf\")\n",
    "            for x, y in legal_moves:\n",
    "                mb = deepcopy(mborig)\n",
    "                mb.move(x, y)\n",
    "                score = max(score, ab_search(mb, tt, alpha, beta))\n",
    "                if score >= beta:\n",
    "                    break\n",
    "                alpha = max(alpha, score)\n",
    "        else:\n",
    "            score = float(\"inf\")\n",
    "            for x, y in legal_moves:\n",
    "                mb = deepcopy(mborig)\n",
    "                mb.move(x, y)\n",
    "                score = min(score, ab_search(mb, tt, alpha, beta))\n",
    "                if score <= alpha:\n",
    "                    break\n",
    "                beta = min(beta, score)   \n",
    "            \n",
    "        from util import calc_same_boardtexts\n",
    "\n",
    "        if use_tt:\n",
    "            boardtxtlist = calc_same_boardtexts(mborig)\n",
    "            if score <= alphaorig:\n",
    "                upper_bound = score\n",
    "            elif score < betaorig:\n",
    "                lower_bound = score\n",
    "                upper_bound = score\n",
    "            else:\n",
    "                lower_bound = score\n",
    "            for boardtxt in boardtxtlist:\n",
    "                tt[boardtxt] = (lower_bound, upper_bound)\n",
    "        return score\n",
    "                \n",
    "    min_score = -2 if shortest_victory else -1\n",
    "    max_score = 3 if shortest_victory else 1\n",
    "    alpha = min_score if init_ab else float(\"-inf\")\n",
    "    beta = max_score if init_ab else float(\"inf\")\n",
    "\n",
    "    if tt is None:\n",
    "        tt = {}\n",
    "    score = ab_search(mb, tt=tt, alpha=alpha, beta=beta)\n",
    "    dprint(debug, \"count =\", count)\n",
    "    if calc_count:\n",
    "        return count\n",
    "    if mb.turn == Marubatsu.CIRCLE:\n",
    "        score *= -1\n",
    "    return score"
   ]
  },
  {
   "cell_type": "code",
   "execution_count": 10,
   "metadata": {},
   "outputs": [],
   "source": [
    "@ai_by_score\n",
    "def ai_scout(mb, debug=False, shortest_victory=False,\n",
    "             init_ab=False, use_tt=False, tt=None, ai_for_mo=None,\n",
    "             params={}, sort_allnodes=False, calc_count=False):        \n",
    "    count = 0\n",
    "    def ab_search(mborig, tt, alpha=float(\"-inf\"), beta=float(\"inf\")):\n",
    "        nonlocal count\n",
    "        count += 1\n",
    "        if mborig.status == Marubatsu.CIRCLE:\n",
    "            return (11 - mborig.move_count) / 2 if shortest_victory else 1\n",
    "        elif mborig.status == Marubatsu.CROSS:\n",
    "            return (mborig.move_count - 10) / 2 if shortest_victory else -1\n",
    "        elif mborig.status == Marubatsu.DRAW:\n",
    "            return 0\n",
    "        \n",
    "        if use_tt:\n",
    "            boardtxt = mborig.board_to_str()\n",
    "            if boardtxt in tt:\n",
    "                lower_bound, upper_bound = tt[boardtxt]\n",
    "                if lower_bound == upper_bound:\n",
    "                    return lower_bound\n",
    "                elif upper_bound <= alpha:\n",
    "                    return upper_bound\n",
    "                elif beta <= lower_bound:\n",
    "                    return lower_bound\n",
    "                else:\n",
    "                    alpha = max(alpha, lower_bound)\n",
    "                    beta = min(beta, upper_bound)\n",
    "            else:\n",
    "                lower_bound = min_score\n",
    "                upper_bound = max_score\n",
    "        \n",
    "        alphaorig = alpha\n",
    "        betaorig = beta\n",
    "\n",
    "        legal_moves = mborig.calc_legal_moves()\n",
    "        if ai_for_mo is not None:\n",
    "            if sort_allnodes:\n",
    "                score_by_move = ai_for_mo(mborig, analyze=True, **params)[\"score_by_move\"]\n",
    "                score_by_move_list = sorted(score_by_move.items(), key=lambda x:x[1], reverse=True)\n",
    "                legal_moves = [x[0] for x in score_by_move_list]\n",
    "            else:\n",
    "                legal_moves = mborig.calc_legal_moves()\n",
    "                bestmove = ai_for_mo(mborig, rand=False, **params)\n",
    "                index = legal_moves.index(bestmove)\n",
    "                legal_moves[0], legal_moves[index] = legal_moves[index], legal_moves[0]\n",
    "\n",
    "        if mborig.turn == Marubatsu.CIRCLE:\n",
    "            x, y = legal_moves[0]\n",
    "            mb = deepcopy(mborig)\n",
    "            mb.move(x, y)\n",
    "            score = ab_search(mb, tt, alpha, beta)\n",
    "            alpha = max(alpha, score)\n",
    "            if score < beta:\n",
    "                for x, y in legal_moves[1:]:\n",
    "                    mb = deepcopy(mborig)\n",
    "                    mb.move(x, y)\n",
    "                    score = max(score, ab_search(mb, tt, alpha, alpha + 1))\n",
    "                    if score >= beta:\n",
    "                        break\n",
    "                    elif score > alpha:\n",
    "                        score = max(score, ab_search(mb, tt, alpha, beta))\n",
    "                        if score >= beta:\n",
    "                            break\n",
    "                        alpha = max(alpha, score)\n",
    "        else:\n",
    "            x, y = legal_moves[0]\n",
    "            mb = deepcopy(mborig)\n",
    "            mb.move(x, y)\n",
    "            score = ab_search(mb, tt, alpha, beta)\n",
    "            beta = min(beta, score)\n",
    "            if score > alpha:\n",
    "                for x, y in legal_moves[1:]:\n",
    "                    mb = deepcopy(mborig)\n",
    "                    mb.move(x, y)\n",
    "                    score = min(score, ab_search(mb, tt, beta - 1, beta))\n",
    "                    if score <= alpha:\n",
    "                        break\n",
    "                    elif score < beta:\n",
    "                        score = min(score, ab_search(mb, tt, alpha, beta))\n",
    "                        if score <= alpha:\n",
    "                            break\n",
    "                        beta = min(beta, score)   \n",
    "            \n",
    "        if use_tt:\n",
    "            from util import calc_same_boardtexts\n",
    "\n",
    "            boardtxtlist = calc_same_boardtexts(mborig)\n",
    "            if score <= alphaorig:\n",
    "                upper_bound = score\n",
    "            elif score < betaorig:\n",
    "                lower_bound = score\n",
    "                upper_bound = score\n",
    "            else:\n",
    "                lower_bound = score\n",
    "            for boardtxt in boardtxtlist:\n",
    "                tt[boardtxt] = (lower_bound, upper_bound)\n",
    "        return score\n",
    "                \n",
    "    min_score = -2 if shortest_victory else -1\n",
    "    max_score = 3 if shortest_victory else 1\n",
    "    alpha = min_score if init_ab else float(\"-inf\")\n",
    "    beta = max_score if init_ab else float(\"inf\")\n",
    "\n",
    "    if tt is None:\n",
    "        tt = {}\n",
    "    score = ab_search(mb, tt=tt, alpha=alpha, beta=beta)\n",
    "    dprint(debug, \"count =\", count)\n",
    "    if calc_count:\n",
    "        return count\n",
    "    if mb.turn == Marubatsu.CIRCLE:\n",
    "        score *= -1\n",
    "    return score\n"
   ]
  },
  {
   "cell_type": "code",
   "execution_count": 11,
   "metadata": {},
   "outputs": [],
   "source": [
    "@ai_by_score\n",
    "def ai_mtdf(mb, debug=False, shortest_victory=False,\n",
    "             init_ab=False, use_tt=False, tt=None, f=0, ai_for_mo=None,\n",
    "             params={}, sort_allnodes=False, calc_count=False):           \n",
    "    count = 0\n",
    "    def ab_search(mborig, tt, alpha=float(\"-inf\"), beta=float(\"inf\")):\n",
    "        nonlocal count\n",
    "        count += 1\n",
    "        if mborig.status == Marubatsu.CIRCLE:\n",
    "            return (11 - mborig.move_count) / 2 if shortest_victory else 1\n",
    "        elif mborig.status == Marubatsu.CROSS:\n",
    "            return (mborig.move_count - 10) / 2 if shortest_victory else -1\n",
    "        elif mborig.status == Marubatsu.DRAW:\n",
    "            return 0\n",
    "        \n",
    "        if use_tt:\n",
    "            boardtxt = mborig.board_to_str()\n",
    "            if boardtxt in tt:\n",
    "                lower_bound, upper_bound = tt[boardtxt]\n",
    "                if lower_bound == upper_bound:\n",
    "                    return lower_bound\n",
    "                elif upper_bound <= alpha:\n",
    "                    return upper_bound\n",
    "                elif beta <= lower_bound:\n",
    "                    return lower_bound\n",
    "                else:\n",
    "                    alpha = max(alpha, lower_bound)\n",
    "                    beta = min(beta, upper_bound)\n",
    "            else:\n",
    "                lower_bound = min_score\n",
    "                upper_bound = max_score\n",
    "        \n",
    "        alphaorig = alpha\n",
    "        betaorig = beta\n",
    "\n",
    "        legal_moves = mborig.calc_legal_moves()\n",
    "        if ai_for_mo is not None:\n",
    "            if sort_allnodes:\n",
    "                score_by_move = ai_for_mo(mborig, analyze=True, **params)[\"score_by_move\"]\n",
    "                score_by_move_list = sorted(score_by_move.items(), key=lambda x:x[1], reverse=True)\n",
    "                legal_moves = [x[0] for x in score_by_move_list]\n",
    "            else:\n",
    "                legal_moves = mborig.calc_legal_moves()\n",
    "                bestmove = ai_for_mo(mborig, rand=False, **params)\n",
    "                index = legal_moves.index(bestmove)\n",
    "                legal_moves[0], legal_moves[index] = legal_moves[index], legal_moves[0]\n",
    "        if mborig.turn == Marubatsu.CIRCLE:\n",
    "            score = float(\"-inf\")\n",
    "            for x, y in legal_moves:\n",
    "                mb = deepcopy(mborig)\n",
    "                mb.move(x, y)\n",
    "                score = max(score, ab_search(mb, tt, alpha, beta))\n",
    "                if score >= beta:\n",
    "                    break\n",
    "                alpha = max(alpha, score)\n",
    "        else:\n",
    "            score = float(\"inf\")\n",
    "            for x, y in legal_moves:\n",
    "                mb = deepcopy(mborig)\n",
    "                mb.move(x, y)\n",
    "                score = min(score, ab_search(mb, tt, alpha, beta))\n",
    "                if score <= alpha:\n",
    "                    break\n",
    "                beta = min(beta, score)   \n",
    "            \n",
    "        from util import calc_same_boardtexts\n",
    "\n",
    "        if use_tt:\n",
    "            boardtxtlist = calc_same_boardtexts(mborig)\n",
    "            if score <= alphaorig:\n",
    "                upper_bound = score\n",
    "            elif score < betaorig:\n",
    "                lower_bound = score\n",
    "                upper_bound = score\n",
    "            else:\n",
    "                lower_bound = score\n",
    "            for boardtxt in boardtxtlist:\n",
    "                tt[boardtxt] = (lower_bound, upper_bound)\n",
    "        return score\n",
    "                \n",
    "    min_score = -2 if shortest_victory else -1\n",
    "    max_score = 3 if shortest_victory else 1\n",
    "    lbound = min_score if init_ab else float(\"-inf\")\n",
    "    ubound = max_score if init_ab else float(\"inf\")\n",
    "\n",
    "    if tt is None:\n",
    "        tt = {}\n",
    "    dprint(debug, \"      count | ウィンドウ | αβ 値 |      type |    MM の範囲\")\n",
    "    while lbound != ubound:\n",
    "        beta = f + 1 if lbound == f else f\n",
    "        prevcount = count\n",
    "        f = ab_search(mb, tt, alpha=beta - 1, beta=beta)\n",
    "        if f >= beta:\n",
    "            lbound = f\n",
    "            type = \"fail high\"\n",
    "        else:\n",
    "            ubound = f\n",
    "            type = \"fail low \"\n",
    "        dprint(debug, f\"{count - prevcount:5.0f}/{count:5.0f} |  ({beta - 1:2.0f}, {beta:2.0f}) |    {f:2.0f} | {type} | [{lbound:4.0f}, {ubound:4.0f}]\")\n",
    " \n",
    "    score = f\n",
    "            \n",
    "    if calc_count:\n",
    "        return count\n",
    "    if mb.turn == Marubatsu.CIRCLE:\n",
    "        score *= -1\n",
    "    return score"
   ]
  },
  {
   "cell_type": "code",
   "execution_count": 12,
   "metadata": {},
   "outputs": [
    {
     "name": "stderr",
     "output_type": "stream",
     "text": [
      "100%|██████████| 431/431 [00:00<00:00, 1549.70it/s]\n"
     ]
    },
    {
     "name": "stdout",
     "output_type": "stream",
     "text": [
      "431/431 100.00%\n"
     ]
    },
    {
     "name": "stderr",
     "output_type": "stream",
     "text": [
      "100%|██████████| 431/431 [00:00<00:00, 576.61it/s]\n"
     ]
    },
    {
     "name": "stdout",
     "output_type": "stream",
     "text": [
      "431/431 100.00%\n"
     ]
    },
    {
     "name": "stderr",
     "output_type": "stream",
     "text": [
      "100%|██████████| 431/431 [00:00<00:00, 1221.49it/s]"
     ]
    },
    {
     "name": "stdout",
     "output_type": "stream",
     "text": [
      "431/431 100.00%\n"
     ]
    },
    {
     "name": "stderr",
     "output_type": "stream",
     "text": [
      "\n"
     ]
    },
    {
     "data": {
      "text/plain": [
       "(True, [])"
      ]
     },
     "execution_count": 12,
     "metadata": {},
     "output_type": "execute_result"
    }
   ],
   "source": [
    "from ai import ai14s\n",
    "\n",
    "Check_solved.is_strongly_solved(ai_abs_all, params={\"use_tt\": True, \"tt\": {}})\n",
    "Check_solved.is_strongly_solved(ai_scout, params={\"use_tt\": True, \"tt\": {}, \"ai_for_mo\": ai14s})\n",
    "Check_solved.is_strongly_solved(ai_mtdf, params={\"use_tt\": True, \"tt\": {}, \"f\": 0})"
   ]
  },
  {
   "cell_type": "code",
   "execution_count": 13,
   "metadata": {},
   "outputs": [
    {
     "name": "stdout",
     "output_type": "stream",
     "text": [
      "ai_abs_all VS ai2s\n"
     ]
    },
    {
     "name": "stderr",
     "output_type": "stream",
     "text": [
      "100%|██████████| 100/100 [01:11<00:00,  1.41it/s]"
     ]
    },
    {
     "name": "stdout",
     "output_type": "stream",
     "text": [
      "count     win    lose    draw\n",
      "o          96       0       4\n",
      "x          79       0      21\n",
      "total     175       0      25\n",
      "\n",
      "ratio     win    lose    draw\n",
      "o       96.0%    0.0%    4.0%\n",
      "x       79.0%    0.0%   21.0%\n",
      "total   87.5%    0.0%   12.5%\n",
      "\n"
     ]
    },
    {
     "name": "stderr",
     "output_type": "stream",
     "text": [
      "\n"
     ]
    }
   ],
   "source": [
    "ai_match(ai=[ai_abs_all, ai2s], params=[{\"use_tt\": True}, {}], match_num=100)"
   ]
  },
  {
   "cell_type": "code",
   "execution_count": 14,
   "metadata": {},
   "outputs": [
    {
     "name": "stdout",
     "output_type": "stream",
     "text": [
      "ai_abs_all VS ai2s\n"
     ]
    },
    {
     "name": "stderr",
     "output_type": "stream",
     "text": [
      "100%|██████████| 100/100 [00:01<00:00, 98.88it/s]"
     ]
    },
    {
     "name": "stdout",
     "output_type": "stream",
     "text": [
      "count     win    lose    draw\n",
      "o         100       0       0\n",
      "x          75       0      25\n",
      "total     175       0      25\n",
      "\n",
      "ratio     win    lose    draw\n",
      "o      100.0%    0.0%    0.0%\n",
      "x       75.0%    0.0%   25.0%\n",
      "total   87.5%    0.0%   12.5%\n",
      "\n"
     ]
    },
    {
     "name": "stderr",
     "output_type": "stream",
     "text": [
      "\n"
     ]
    }
   ],
   "source": [
    "ai_match(ai=[ai_abs_all, ai2s], params=[{\"use_tt\": True, \"tt\": {}}, {}], match_num=100)"
   ]
  }
 ],
 "metadata": {
  "kernelspec": {
   "display_name": "marubatsu",
   "language": "python",
   "name": "python3"
  },
  "language_info": {
   "codemirror_mode": {
    "name": "ipython",
    "version": 3
   },
   "file_extension": ".py",
   "mimetype": "text/x-python",
   "name": "python",
   "nbconvert_exporter": "python",
   "pygments_lexer": "ipython3",
   "version": "3.11.4"
  }
 },
 "nbformat": 4,
 "nbformat_minor": 2
}
