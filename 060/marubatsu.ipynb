{
 "cells": [
  {
   "cell_type": "code",
   "execution_count": 1,
   "metadata": {},
   "outputs": [
    {
     "name": "stdout",
     "output_type": "stream",
     "text": [
      "2 45\n",
      "3 333\n",
      "4 3746\n",
      "5 2333\n",
      "6 99256\n",
      "7 833719\n",
      "8 4610084\n",
      "9 10782768\n",
      "10 51201303\n"
     ]
    }
   ],
   "source": [
    "from random import randint\n",
    "\n",
    "def dice(num):\n",
    "    \"\"\" num 個のサイコロの合計を返す \"\"\"\n",
    "    total = 0\n",
    "    for _ in range(num):\n",
    "        # randint は実引数で指定した範囲のランダムな整数を返す\n",
    "        total += randint(1, 6)\n",
    "    return total\n",
    "\n",
    "def countall(num):\n",
    "    \"\"\" num 個のサイコロを振った場合に、すべての出目が出るまでの回数を返す\"\"\"\n",
    "    \n",
    "    # 出現した出目を記録する set\n",
    "    s = set()\n",
    "    # 出目の種類を計算する。最小値が num で 最大値が num * 6\n",
    "    left = num * 5 + 1\n",
    "    # サイコロを振った数を数える変数を初期化する\n",
    "    count = 0\n",
    "    # 全ての出目が出るまで繰り返す\n",
    "    while left > 0:\n",
    "        # サイコロを振る\n",
    "        dicenum = dice(num)\n",
    "        # 振った回数を増やす\n",
    "        count += 1\n",
    "        # s の要素に登録されているかを判定する\n",
    "        if dicenum not in s:\n",
    "            # 登録されていなければ、left を 1 減らし s に出目を登録する\n",
    "            left -= 1\n",
    "            s.add(dicenum)\n",
    "    return count\n",
    "\n",
    "# 2 ~ 10 個のそれぞれの場合の回数を表示する\n",
    "for i in range(2, 11):\n",
    "    print(i, countall(i))"
   ]
  },
  {
   "cell_type": "code",
   "execution_count": 2,
   "metadata": {},
   "outputs": [
    {
     "name": "stdout",
     "output_type": "stream",
     "text": [
      "ai11s VS ai2\n",
      "count     win    lose    draw\n",
      "o        9879       0     121\n",
      "x        8767     236     997\n",
      "total   18646     236    1118\n",
      "\n",
      "ratio     win    lose    draw\n",
      "o       98.8%    0.0%    1.2%\n",
      "x       87.7%    2.4%   10.0%\n",
      "total   93.2%    1.2%    5.6%\n",
      "\n"
     ]
    }
   ],
   "source": [
    "from ai import ai_match, ai2, ai11s\n",
    "\n",
    "param_ai11s = {\n",
    "    \"score_201\": 2,\n",
    "    \"score_102\": 1,\n",
    "    \"score_012\": -1\n",
    "}\n",
    "ai_match(ai=[ai11s, ai2], params=[param_ai11s, {}])"
   ]
  },
  {
   "cell_type": "code",
   "execution_count": 3,
   "metadata": {},
   "outputs": [],
   "source": [
    "from marubatsu import Marubatsu, Markpat\n",
    "from ai import ai_by_score\n",
    "\n",
    "def ai11s(mb, score_201=2, score_102=1, score_012=-1, debug=False):\n",
    "    def eval_func(mb):      \n",
    "        # 真ん中のマスに着手している場合は、評価値として 300 を返す\n",
    "        if mb.last_move == (1, 1):\n",
    "            return 300\n",
    "    \n",
    "        # 自分が勝利している場合は、評価値として 200 を返す\n",
    "        if mb.status == mb.last_turn:\n",
    "            return 200\n",
    "\n",
    "        markpats = mb.count_markpats()\n",
    "        if debug:\n",
    "            pprint(markpats)\n",
    "        # 相手が勝利できる場合は評価値として -100 を返す\n",
    "        if markpats[Markpat(last_turn=0, turn=2, empty=1)] > 0:\n",
    "            return -100\n",
    "        # 次の自分の手番で自分が必ず勝利できる場合は評価値として 100 を返す\n",
    "        elif markpats[Markpat(last_turn=2, turn=0, empty=1)] >= 2:\n",
    "            return 100\n",
    "\n",
    "        # 評価値の合計を計算する変数を 0 で初期化する\n",
    "        score = 0        \n",
    "        # 次の自分の手番で自分が勝利できる場合は評価値に score_201 を加算する\n",
    "        if markpats[Markpat(last_turn=2, turn=0, empty=1)] == 1:\n",
    "            score += score_201\n",
    "        # 「自 1 敵 0 空 2」1 つあたり score_102 だけ、評価値を加算する\n",
    "        score += markpats[Markpat(last_turn=1, turn=0, empty=2)] * score_102\n",
    "        # 「自 0 敵 1 空 2」1 つあたり score_201 だけ、評価値を減算する\n",
    "        score += markpats[Markpat(last_turn=0, turn=1, empty=2)] * score_012\n",
    "        \n",
    "        # 計算した評価値を返す\n",
    "        return score\n",
    "\n",
    "    return ai_by_score(mb, eval_func, debug=debug)"
   ]
  },
  {
   "cell_type": "code",
   "execution_count": 4,
   "metadata": {},
   "outputs": [
    {
     "name": "stdout",
     "output_type": "stream",
     "text": [
      "(1, 1)\n"
     ]
    }
   ],
   "source": [
    "mb = Marubatsu()\n",
    "print(ai11s(mb))"
   ]
  },
  {
   "cell_type": "code",
   "execution_count": 5,
   "metadata": {},
   "outputs": [
    {
     "name": "stdout",
     "output_type": "stream",
     "text": [
      "ai11s VS ai2\n",
      "count     win    lose    draw\n",
      "o        9896       0     104\n",
      "x        8714     239    1047\n",
      "total   18610     239    1151\n",
      "\n",
      "ratio     win    lose    draw\n",
      "o       99.0%    0.0%    1.0%\n",
      "x       87.1%    2.4%   10.5%\n",
      "total   93.0%    1.2%    5.8%\n",
      "\n"
     ]
    }
   ],
   "source": [
    "ai_match(ai=[ai11s, ai2], params=[{}, {}])"
   ]
  },
  {
   "cell_type": "code",
   "execution_count": 9,
   "metadata": {},
   "outputs": [],
   "source": [
    "from collections import defaultdict\n",
    "\n",
    "def ai_match(ai, params=[{}, {}], match_num=10000):\n",
    "    print(f\"{ai[0].__name__} VS {ai[1].__name__}\")\n",
    "    \n",
    "    mb = Marubatsu()\n",
    "\n",
    "    # ai[0] VS ai[1] と ai[1] VS a[0] の対戦を match_num 回行い、通算成績を数える\n",
    "    count_list = [ defaultdict(int), defaultdict(int)]\n",
    "    for _ in range(match_num):\n",
    "        count_list[0][mb.play(ai, params, verbose=False)] += 1\n",
    "        count_list[1][mb.play(ai=ai[::-1], params=params[::-1], verbose=False)] += 1\n",
    "\n",
    "    # ai[0] から見た通算成績を計算する\n",
    "    count_list_ai0 = [\n",
    "        # ai[0] VS ai[1] の場合の、ai[0] から見た通算成績\n",
    "        { \n",
    "            \"win\": count_list[0][Marubatsu.CIRCLE],\n",
    "            \"lose\": count_list[0][Marubatsu.CROSS],\n",
    "            \"draw\": count_list[0][Marubatsu.DRAW],\n",
    "        },\n",
    "        # ai[1] VS ai[0] の場合の、ai[0] から見た通算成績\n",
    "        { \n",
    "            \"win\": count_list[1][Marubatsu.CROSS],\n",
    "            \"lose\": count_list[1][Marubatsu.CIRCLE],\n",
    "            \"draw\": count_list[1][Marubatsu.DRAW],\n",
    "        },\n",
    "    ]           \n",
    "\n",
    "    # 両方の対戦の通算成績の合計を計算する\n",
    "    count_list_ai0.append({})\n",
    "    for key in count_list_ai0[0]:\n",
    "        count_list_ai0[2][key] = count_list_ai0[0][key] + count_list_ai0[1][key]\n",
    "\n",
    "    # それぞれの比率を計算し、ratio_list に代入する\n",
    "    ratio_list = [ {}, {}, {} ]\n",
    "    for i in range(3):\n",
    "        for key in count_list_ai0[i]:\n",
    "            ratio_list[i][key] = count_list_ai0[i][key] / sum(count_list_ai0[i].values())\n",
    "            \n",
    "    # 各行の先頭に表示する文字列のリスト\n",
    "    item_text_list = [ Marubatsu.CIRCLE, Marubatsu.CROSS, \"total\" ]    \n",
    "    \n",
    "    # 通算成績の回数と比率の表示\n",
    "    width = max(len(str(match_num * 2)), 7)\n",
    "    diff_list = [ (\"count\", count_list_ai0, f\"{width}d\"),\n",
    "                  (\"ratio\", ratio_list, f\"{width}.1%\") ]\n",
    "    for title, data, format in diff_list:\n",
    "        print(title, end=\"\")\n",
    "        for key in data[0]:\n",
    "            print(f\" {key:>{width}}\", end=\"\")\n",
    "        print()\n",
    "        for i in range(3):\n",
    "            print(f\"{item_text_list[i]:5}\", end=\"\")\n",
    "            for value in data[i].values():\n",
    "                print(f\" {value:{format}}\", end=\"\")\n",
    "            print()\n",
    "        print()"
   ]
  },
  {
   "cell_type": "code",
   "execution_count": 10,
   "metadata": {},
   "outputs": [
    {
     "name": "stdout",
     "output_type": "stream",
     "text": [
      "ai11s VS ai2\n",
      "count     win    lose    draw\n",
      "o        9903       0      97\n",
      "x        8715     240    1045\n",
      "total   18618     240    1142\n",
      "\n",
      "ratio     win    lose    draw\n",
      "o       99.0%    0.0%    1.0%\n",
      "x       87.2%    2.4%   10.4%\n",
      "total   93.1%    1.2%    5.7%\n",
      "\n"
     ]
    }
   ],
   "source": [
    "ai_match(ai=[ai11s, ai2])"
   ]
  },
  {
   "cell_type": "code",
   "execution_count": 11,
   "metadata": {},
   "outputs": [
    {
     "ename": "TypeError",
     "evalue": "Marubatsu.play() missing 1 required positional argument: 'params'",
     "output_type": "error",
     "traceback": [
      "\u001b[1;31m---------------------------------------------------------------------------\u001b[0m",
      "\u001b[1;31mTypeError\u001b[0m                                 Traceback (most recent call last)",
      "Cell \u001b[1;32mIn[11], line 3\u001b[0m\n\u001b[0;32m      1\u001b[0m \u001b[38;5;28;01mfrom\u001b[39;00m \u001b[38;5;21;01mai\u001b[39;00m \u001b[38;5;28;01mimport\u001b[39;00m show_progress\n\u001b[1;32m----> 3\u001b[0m show_progress(ai\u001b[38;5;241m=\u001b[39m[ai2, ai11s], winner\u001b[38;5;241m=\u001b[39mMarubatsu\u001b[38;5;241m.\u001b[39mCIRCLE)\n",
      "File \u001b[1;32mc:\\Users\\ys\\ai\\marubatsu\\060\\ai.py:178\u001b[0m, in \u001b[0;36mshow_progress\u001b[1;34m(ai, winner)\u001b[0m\n\u001b[0;32m    176\u001b[0m mb \u001b[38;5;241m=\u001b[39m Marubatsu()\n\u001b[0;32m    177\u001b[0m \u001b[38;5;28;01mwhile\u001b[39;00m \u001b[38;5;28;01mTrue\u001b[39;00m:\n\u001b[1;32m--> 178\u001b[0m     \u001b[38;5;28;01mif\u001b[39;00m mb\u001b[38;5;241m.\u001b[39mplay(ai\u001b[38;5;241m=\u001b[39mai, verbose\u001b[38;5;241m=\u001b[39m\u001b[38;5;28;01mFalse\u001b[39;00m) \u001b[38;5;241m==\u001b[39m winner:\n\u001b[0;32m    179\u001b[0m         records \u001b[38;5;241m=\u001b[39m mb\u001b[38;5;241m.\u001b[39mrecords\n\u001b[0;32m    180\u001b[0m         mb\u001b[38;5;241m.\u001b[39mrestart()\n",
      "\u001b[1;31mTypeError\u001b[0m: Marubatsu.play() missing 1 required positional argument: 'params'"
     ]
    }
   ],
   "source": [
    "from ai import show_progress\n",
    "\n",
    "show_progress(ai=[ai2, ai11s], winner=Marubatsu.CIRCLE)"
   ]
  },
  {
   "cell_type": "code",
   "execution_count": 12,
   "metadata": {},
   "outputs": [],
   "source": [
    "def play(self, ai, params=[{}, {}], verbose=True):\n",
    "    # 〇×ゲームを再起動する\n",
    "    self.restart()\n",
    "    # ゲームの決着がついていない間繰り返す\n",
    "    while self.status == Marubatsu.PLAYING:\n",
    "        # ゲーム盤の表示\n",
    "        if verbose:\n",
    "            print(self)\n",
    "        # 現在の手番を表す ai のインデックスを計算する\n",
    "        index = 0 if self.turn == Marubatsu.CIRCLE else 1\n",
    "        # ai が着手を行うかどうかを判定する\n",
    "        if ai[index] is not None:\n",
    "            x, y = ai[index](self, **params[index])\n",
    "        else:\n",
    "            # キーボードからの座標の入力\n",
    "            coord = input(\"x,y の形式で座標を入力して下さい。exit を入力すると終了します\")\n",
    "            # \"exit\" が入力されていればメッセージを表示して関数を終了する\n",
    "            if coord == \"exit\":\n",
    "                print(\"ゲームを終了します\")\n",
    "                return       \n",
    "            # x 座標と y 座標を要素として持つ list を計算する\n",
    "            xylist = coord.split(\",\")\n",
    "            # xylist の要素の数が 2 ではない場合\n",
    "            if len(xylist) != 2:\n",
    "                # エラーメッセージを表示する\n",
    "                print(\"x, y の形式ではありません\")\n",
    "                # 残りの while 文のブロックを実行せずに、次の繰り返し処理を行う\n",
    "                continue\n",
    "            x, y = xylist\n",
    "        # (x, y) に着手を行う\n",
    "        try:\n",
    "            self.move(int(x), int(y))\n",
    "        except:\n",
    "            print(\"整数の座標を入力して下さい\")\n",
    "\n",
    "    # 決着がついたので、ゲーム盤を表示する\n",
    "    if verbose:\n",
    "        print(self)\n",
    "    return self.status\n",
    "\n",
    "Marubatsu.play = play"
   ]
  },
  {
   "cell_type": "code",
   "execution_count": 13,
   "metadata": {},
   "outputs": [
    {
     "name": "stdout",
     "output_type": "stream",
     "text": [
      "Turn x\n",
      "...\n",
      "...\n",
      "O..\n",
      "\n",
      "Turn o\n",
      "...\n",
      ".X.\n",
      "o..\n",
      "\n",
      "Turn x\n",
      "...\n",
      ".xO\n",
      "o..\n",
      "\n",
      "Turn o\n",
      "X..\n",
      ".xo\n",
      "o..\n",
      "\n",
      "Turn x\n",
      "x..\n",
      ".xo\n",
      "o.O\n",
      "\n",
      "Turn o\n",
      "x..\n",
      "Xxo\n",
      "o.o\n",
      "\n",
      "winner o\n",
      "x.O\n",
      "xxo\n",
      "o.o\n",
      "\n"
     ]
    }
   ],
   "source": [
    "show_progress(ai=[ai2, ai11s], winner=Marubatsu.CIRCLE)"
   ]
  },
  {
   "cell_type": "code",
   "execution_count": 14,
   "metadata": {},
   "outputs": [],
   "source": [
    "def show_progress(ai, winner, params=[{}, {}]):\n",
    "    mb = Marubatsu()\n",
    "    while True:\n",
    "        if mb.play(ai=ai, verbose=False, params=params) == winner:\n",
    "            records = mb.records\n",
    "            mb.restart()\n",
    "            for x, y in records:\n",
    "                mb.move(x, y)\n",
    "                print(mb)\n",
    "            break"
   ]
  },
  {
   "cell_type": "code",
   "execution_count": 15,
   "metadata": {},
   "outputs": [
    {
     "name": "stdout",
     "output_type": "stream",
     "text": [
      "Turn x\n",
      "O..\n",
      "...\n",
      "...\n",
      "\n",
      "Turn o\n",
      "o..\n",
      ".X.\n",
      "...\n",
      "\n",
      "Turn x\n",
      "o..\n",
      ".x.\n",
      "..O\n",
      "\n",
      "Turn o\n",
      "o..\n",
      ".x.\n",
      "X.o\n",
      "\n",
      "Turn x\n",
      "o.O\n",
      ".x.\n",
      "x.o\n",
      "\n",
      "Turn o\n",
      "o.o\n",
      ".x.\n",
      "xXo\n",
      "\n",
      "winner o\n",
      "o.o\n",
      ".xO\n",
      "xxo\n",
      "\n"
     ]
    }
   ],
   "source": [
    "show_progress(ai=[ai2, ai11s], winner=Marubatsu.CIRCLE)"
   ]
  }
 ],
 "metadata": {
  "kernelspec": {
   "display_name": "marubatsu",
   "language": "python",
   "name": "python3"
  },
  "language_info": {
   "codemirror_mode": {
    "name": "ipython",
    "version": 3
   },
   "file_extension": ".py",
   "mimetype": "text/x-python",
   "name": "python",
   "nbconvert_exporter": "python",
   "pygments_lexer": "ipython3",
   "version": "3.11.4"
  }
 },
 "nbformat": 4,
 "nbformat_minor": 2
}
