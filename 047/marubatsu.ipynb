{
 "cells": [
  {
   "cell_type": "code",
   "execution_count": 1,
   "metadata": {},
   "outputs": [],
   "source": [
    "from copy import deepcopy\n",
    "from random import choice\n",
    " \n",
    "def ai2s(mb_orig):\n",
    "    legal_moves = mb_orig.calc_legal_moves()\n",
    "    for move in legal_moves:\n",
    "        mb = deepcopy(mb_orig)\n",
    "        x, y = move\n",
    "        mb.move(x, y)\n",
    "        # mb の局面の評価値を計算する\n",
    "        score = 0\n",
    "        # 最も高い評価値が得られる合法手の一覧を計算する\n",
    "\n",
    "    # 最も高い評価値が得られる合法手の一覧の中からランダムに着手を選択する"
   ]
  },
  {
   "cell_type": "code",
   "execution_count": 2,
   "metadata": {},
   "outputs": [],
   "source": [
    "def ai2s(mb_orig):\n",
    "    legal_moves = mb_orig.calc_legal_moves()\n",
    "    best_score = None\n",
    "    best_moves = []\n",
    "    for move in legal_moves:\n",
    "        mb = deepcopy(mb_orig)\n",
    "        x, y = move\n",
    "        mb.move(x, y)\n",
    "        score = 0\n",
    "        # 最初の合法手を着手した局面 または score がそれまでの評価値の中の「最大値より大きい」\n",
    "        if best_score is None or best_score < score:\n",
    "            best_score = score\n",
    "            best_moves = [move]\n",
    "        # score がそれまでの評価値の中の「最大値と等しい」\n",
    "        elif best_score == score:\n",
    "            best_moves.append(move)\n",
    "\n",
    "    return choice(best_moves)"
   ]
  },
  {
   "cell_type": "code",
   "execution_count": 3,
   "metadata": {},
   "outputs": [
    {
     "name": "stdout",
     "output_type": "stream",
     "text": [
      "ai2s VS ai2\n",
      "count     win    lose    draw\n",
      "o        5819    2919    1262\n",
      "x        2938    5814    1248\n",
      "total    8757    8733    2510\n",
      "\n",
      "ratio     win    lose    draw\n",
      "o       58.2%   29.2%   12.6%\n",
      "x       29.4%   58.1%   12.5%\n",
      "total   43.8%   43.7%   12.6%\n",
      "\n"
     ]
    }
   ],
   "source": [
    "from ai import ai_match, ai1, ai2, ai3\n",
    "\n",
    "ai_match(ai=[ai2s, ai2])"
   ]
  },
  {
   "cell_type": "code",
   "execution_count": 4,
   "metadata": {},
   "outputs": [
    {
     "name": "stdout",
     "output_type": "stream",
     "text": [
      "True\n",
      "True\n",
      "True\n",
      "True\n",
      "True\n"
     ]
    }
   ],
   "source": [
    "print(float(\"inf\") > 1000000000000000000000)   # 正の無限大とかなり大きな数字の比較\n",
    "print(float(\"-inf\") < -1000000000000000000000) # 正の無限大とかなり小さな数字の比較\n",
    "print(float(\"inf\") == float(\"inf\"))            # 正の無限大どうしの比較\n",
    "print(float(\"-inf\") == float(\"-inf\"))          # 負の無限大どうしの比較\n",
    "print(float(\"-inf\") < float(\"inf\"))            # 負の無限大と正の無限大の比較"
   ]
  },
  {
   "cell_type": "code",
   "execution_count": 5,
   "metadata": {},
   "outputs": [],
   "source": [
    "def ai2s(mb_orig):\n",
    "    legal_moves = mb_orig.calc_legal_moves()\n",
    "    best_score = float(\"-inf\")\n",
    "    best_moves = []\n",
    "    for move in legal_moves:\n",
    "        mb = deepcopy(mb_orig)\n",
    "        x, y = move\n",
    "        mb.move(x, y)\n",
    "        score = 0\n",
    "        # 最初の合法手を着手した局面 または score がそれまでの評価値の中の「最大値より大きい」\n",
    "        if best_score < score:\n",
    "            best_score = score\n",
    "            best_moves = [move]\n",
    "        # score がそれまでの評価値の中の「最大値と等しい」\n",
    "        elif best_score == score:\n",
    "            best_moves.append(move)\n",
    "\n",
    "    return choice(best_moves)"
   ]
  },
  {
   "cell_type": "code",
   "execution_count": 6,
   "metadata": {},
   "outputs": [
    {
     "name": "stdout",
     "output_type": "stream",
     "text": [
      "ai2s VS ai2\n",
      "count     win    lose    draw\n",
      "o        5874    2901    1225\n",
      "x        2876    5890    1234\n",
      "total    8750    8791    2459\n",
      "\n",
      "ratio     win    lose    draw\n",
      "o       58.7%   29.0%   12.2%\n",
      "x       28.8%   58.9%   12.3%\n",
      "total   43.8%   44.0%   12.3%\n",
      "\n"
     ]
    }
   ],
   "source": [
    "ai_match(ai=[ai2s, ai2])"
   ]
  },
  {
   "cell_type": "code",
   "execution_count": 7,
   "metadata": {},
   "outputs": [],
   "source": [
    "def ai3s(mb_orig):\n",
    "    legal_moves = mb_orig.calc_legal_moves()\n",
    "    best_score = float(\"-inf\")\n",
    "    best_moves = []\n",
    "    for move in legal_moves:\n",
    "        mb = deepcopy(mb_orig)\n",
    "        x, y = move\n",
    "        mb.move(x, y)\n",
    "        if x == 1 and y == 1:\n",
    "            score = 1\n",
    "        else:\n",
    "            score = 0\n",
    "        # 最初の合法手を着手した局面 または score がそれまでの評価値の中の「最大値より大きい」\n",
    "        if best_score < score:\n",
    "            best_score = score\n",
    "            best_moves = [move]\n",
    "        # score がそれまでの評価値の中の「最大値と等しい」\n",
    "        elif best_score == score:\n",
    "            best_moves.append(move)\n",
    "\n",
    "    return choice(best_moves)"
   ]
  },
  {
   "cell_type": "code",
   "execution_count": 8,
   "metadata": {},
   "outputs": [
    {
     "name": "stdout",
     "output_type": "stream",
     "text": [
      "ai3s VS ai3\n",
      "count     win    lose    draw\n",
      "o        6995    1839    1166\n",
      "x        1911    6972    1117\n",
      "total    8906    8811    2283\n",
      "\n",
      "ratio     win    lose    draw\n",
      "o       70.0%   18.4%   11.7%\n",
      "x       19.1%   69.7%   11.2%\n",
      "total   44.5%   44.1%   11.4%\n",
      "\n"
     ]
    }
   ],
   "source": [
    "ai_match(ai=[ai3s, ai3])"
   ]
  },
  {
   "cell_type": "code",
   "execution_count": 9,
   "metadata": {},
   "outputs": [
    {
     "name": "stdout",
     "output_type": "stream",
     "text": [
      "True\n",
      "False\n"
     ]
    }
   ],
   "source": [
    "move = (1, 1)\n",
    "print(move == (1, 1))\n",
    "print(move == (1, 2))"
   ]
  },
  {
   "cell_type": "code",
   "execution_count": 10,
   "metadata": {},
   "outputs": [
    {
     "name": "stdout",
     "output_type": "stream",
     "text": [
      "ai3s VS ai3\n",
      "count     win    lose    draw\n",
      "o        6945    1909    1146\n",
      "x        1948    6878    1174\n",
      "total    8893    8787    2320\n",
      "\n",
      "ratio     win    lose    draw\n",
      "o       69.5%   19.1%   11.5%\n",
      "x       19.5%   68.8%   11.7%\n",
      "total   44.5%   43.9%   11.6%\n",
      "\n"
     ]
    }
   ],
   "source": [
    "ai_match(ai=[ai3s, ai3])"
   ]
  },
  {
   "cell_type": "code",
   "execution_count": 11,
   "metadata": {},
   "outputs": [
    {
     "name": "stdout",
     "output_type": "stream",
     "text": [
      "False 1\n",
      "1 False\n"
     ]
    }
   ],
   "source": [
    "move = (1, 1)\n",
    "print(move == 1, 1)  # print((1 == move, 1)) とみなされる\n",
    "print(1, 1 == move)  # print((1, 1 == move)) とみなされる"
   ]
  },
  {
   "cell_type": "code",
   "execution_count": 12,
   "metadata": {},
   "outputs": [
    {
     "name": "stdout",
     "output_type": "stream",
     "text": [
      "True\n",
      "False\n",
      "False\n"
     ]
    }
   ],
   "source": [
    "move = [1, 1]\n",
    "print(move == [1, 1])\n",
    "print(move == [1, 2])\n",
    "print(move == (1, 1))"
   ]
  },
  {
   "cell_type": "code",
   "execution_count": 13,
   "metadata": {},
   "outputs": [],
   "source": [
    "def ai_by_score(mb_orig, eval_func):\n",
    "    legal_moves = mb_orig.calc_legal_moves()\n",
    "    best_score = float(\"-inf\")\n",
    "    best_moves = []\n",
    "    for move in legal_moves:\n",
    "        mb = deepcopy(mb_orig)\n",
    "        x, y = move\n",
    "        mb.move(x, y)\n",
    "\n",
    "        score = eval_func(mb)\n",
    "        \n",
    "        if best_score < score:\n",
    "            best_score = score\n",
    "            best_moves = [move]\n",
    "        elif best_score == score:\n",
    "            best_moves.append(move)\n",
    "\n",
    "    return choice(best_moves)"
   ]
  },
  {
   "cell_type": "code",
   "execution_count": 14,
   "metadata": {},
   "outputs": [],
   "source": [
    "def eval_func(mb):\n",
    "    return 0"
   ]
  },
  {
   "cell_type": "code",
   "execution_count": 15,
   "metadata": {},
   "outputs": [],
   "source": [
    "def ai2s(mb):\n",
    "    return ai_by_score(mb, eval_func)"
   ]
  },
  {
   "cell_type": "code",
   "execution_count": 16,
   "metadata": {},
   "outputs": [
    {
     "name": "stdout",
     "output_type": "stream",
     "text": [
      "ai2s VS ai2\n",
      "count     win    lose    draw\n",
      "o        5774    2869    1357\n",
      "x        2912    5830    1258\n",
      "total    8686    8699    2615\n",
      "\n",
      "ratio     win    lose    draw\n",
      "o       57.7%   28.7%   13.6%\n",
      "x       29.1%   58.3%   12.6%\n",
      "total   43.4%   43.5%   13.1%\n",
      "\n"
     ]
    }
   ],
   "source": [
    "ai_match(ai=[ai2s, ai2])"
   ]
  },
  {
   "cell_type": "code",
   "execution_count": 17,
   "metadata": {},
   "outputs": [],
   "source": [
    "def ai3s(mb):\n",
    "    def eval_func(mb):\n",
    "        if mb.last_move == (1, 1):\n",
    "            return 1\n",
    "        else:\n",
    "            return 0\n",
    "\n",
    "    return ai_by_score(mb, eval_func)"
   ]
  },
  {
   "cell_type": "code",
   "execution_count": 18,
   "metadata": {},
   "outputs": [
    {
     "name": "stdout",
     "output_type": "stream",
     "text": [
      "ai3s VS ai3\n",
      "count     win    lose    draw\n",
      "o        6915    1948    1137\n",
      "x        1876    7001    1123\n",
      "total    8791    8949    2260\n",
      "\n",
      "ratio     win    lose    draw\n",
      "o       69.2%   19.5%   11.4%\n",
      "x       18.8%   70.0%   11.2%\n",
      "total   44.0%   44.7%   11.3%\n",
      "\n"
     ]
    }
   ],
   "source": [
    "ai_match(ai=[ai3s, ai3])"
   ]
  },
  {
   "cell_type": "code",
   "execution_count": 19,
   "metadata": {},
   "outputs": [
    {
     "name": "stdout",
     "output_type": "stream",
     "text": [
      "ai3s_buggy VS ai3\n"
     ]
    },
    {
     "ename": "UnboundLocalError",
     "evalue": "cannot access local variable 'eval_func' where it is not associated with a value",
     "output_type": "error",
     "traceback": [
      "\u001b[1;31m---------------------------------------------------------------------------\u001b[0m",
      "\u001b[1;31mUnboundLocalError\u001b[0m                         Traceback (most recent call last)",
      "Cell \u001b[1;32mIn[19], line 10\u001b[0m\n\u001b[0;32m      7\u001b[0m         \u001b[38;5;28;01melse\u001b[39;00m:\n\u001b[0;32m      8\u001b[0m             \u001b[38;5;28;01mreturn\u001b[39;00m \u001b[38;5;241m0\u001b[39m\n\u001b[1;32m---> 10\u001b[0m ai_match(ai\u001b[38;5;241m=\u001b[39m[ai3s_buggy, ai3])\n",
      "File \u001b[1;32mc:\\Users\\ys\\ai\\marubatsu\\047\\ai.py:28\u001b[0m, in \u001b[0;36mai_match\u001b[1;34m(ai, match_num)\u001b[0m\n\u001b[0;32m     26\u001b[0m count_list \u001b[38;5;241m=\u001b[39m [ defaultdict(\u001b[38;5;28mint\u001b[39m), defaultdict(\u001b[38;5;28mint\u001b[39m)]\n\u001b[0;32m     27\u001b[0m \u001b[38;5;28;01mfor\u001b[39;00m _ \u001b[38;5;129;01min\u001b[39;00m \u001b[38;5;28mrange\u001b[39m(match_num):\n\u001b[1;32m---> 28\u001b[0m     count_list[\u001b[38;5;241m0\u001b[39m][mb\u001b[38;5;241m.\u001b[39mplay(ai, verbose\u001b[38;5;241m=\u001b[39m\u001b[38;5;28;01mFalse\u001b[39;00m)] \u001b[38;5;241m+\u001b[39m\u001b[38;5;241m=\u001b[39m \u001b[38;5;241m1\u001b[39m\n\u001b[0;32m     29\u001b[0m     count_list[\u001b[38;5;241m1\u001b[39m][mb\u001b[38;5;241m.\u001b[39mplay(ai\u001b[38;5;241m=\u001b[39m[ai[\u001b[38;5;241m1\u001b[39m], ai[\u001b[38;5;241m0\u001b[39m]], verbose\u001b[38;5;241m=\u001b[39m\u001b[38;5;28;01mFalse\u001b[39;00m)] \u001b[38;5;241m+\u001b[39m\u001b[38;5;241m=\u001b[39m \u001b[38;5;241m1\u001b[39m\n\u001b[0;32m     31\u001b[0m \u001b[38;5;66;03m# ai[0] から見た通算成績を計算する\u001b[39;00m\n",
      "File \u001b[1;32mc:\\Users\\ys\\ai\\marubatsu\\047\\marubatsu.py:260\u001b[0m, in \u001b[0;36mMarubatsu.play\u001b[1;34m(self, ai, verbose)\u001b[0m\n\u001b[0;32m    258\u001b[0m \u001b[38;5;66;03m# ai が着手を行うかどうかを判定する\u001b[39;00m\n\u001b[0;32m    259\u001b[0m \u001b[38;5;28;01mif\u001b[39;00m ai[index] \u001b[38;5;129;01mis\u001b[39;00m \u001b[38;5;129;01mnot\u001b[39;00m \u001b[38;5;28;01mNone\u001b[39;00m:\n\u001b[1;32m--> 260\u001b[0m     x, y \u001b[38;5;241m=\u001b[39m ai[index](\u001b[38;5;28mself\u001b[39m)\n\u001b[0;32m    261\u001b[0m \u001b[38;5;28;01melse\u001b[39;00m:\n\u001b[0;32m    262\u001b[0m     \u001b[38;5;66;03m# キーボードからの座標の入力\u001b[39;00m\n\u001b[0;32m    263\u001b[0m     coord \u001b[38;5;241m=\u001b[39m \u001b[38;5;28minput\u001b[39m(\u001b[38;5;124m\"\u001b[39m\u001b[38;5;124mx,y の形式で座標を入力して下さい。exit を入力すると終了します\u001b[39m\u001b[38;5;124m\"\u001b[39m)\n",
      "Cell \u001b[1;32mIn[19], line 2\u001b[0m, in \u001b[0;36mai3s_buggy\u001b[1;34m(mb)\u001b[0m\n\u001b[0;32m      1\u001b[0m \u001b[38;5;28;01mdef\u001b[39;00m \u001b[38;5;21mai3s_buggy\u001b[39m(mb):\n\u001b[1;32m----> 2\u001b[0m     \u001b[38;5;28;01mreturn\u001b[39;00m ai_by_score(mb, eval_func)\n\u001b[0;32m      4\u001b[0m     \u001b[38;5;28;01mdef\u001b[39;00m \u001b[38;5;21meval_func\u001b[39m(mb):\n\u001b[0;32m      5\u001b[0m         \u001b[38;5;28;01mif\u001b[39;00m mb\u001b[38;5;241m.\u001b[39mlast_move \u001b[38;5;241m==\u001b[39m (\u001b[38;5;241m1\u001b[39m, \u001b[38;5;241m1\u001b[39m):\n",
      "\u001b[1;31mUnboundLocalError\u001b[0m: cannot access local variable 'eval_func' where it is not associated with a value"
     ]
    }
   ],
   "source": [
    "def ai3s_buggy(mb):\n",
    "    return ai_by_score(mb, eval_func)\n",
    "\n",
    "    def eval_func(mb):\n",
    "        if mb.last_move == (1, 1):\n",
    "            return 1\n",
    "        else:\n",
    "            return 0\n",
    "\n",
    "ai_match(ai=[ai3s_buggy, ai3])  "
   ]
  },
  {
   "cell_type": "code",
   "execution_count": 20,
   "metadata": {},
   "outputs": [],
   "source": [
    "def ai2s(mb):\n",
    "    def eval_func(mb):\n",
    "        return 0\n",
    "        \n",
    "    return ai_by_score(mb, eval_func)"
   ]
  },
  {
   "cell_type": "code",
   "execution_count": 21,
   "metadata": {},
   "outputs": [
    {
     "name": "stdout",
     "output_type": "stream",
     "text": [
      "ai2s VS ai2\n",
      "count     win    lose    draw\n",
      "o        5921    2857    1222\n",
      "x        2829    5896    1275\n",
      "total    8750    8753    2497\n",
      "\n",
      "ratio     win    lose    draw\n",
      "o       59.2%   28.6%   12.2%\n",
      "x       28.3%   59.0%   12.8%\n",
      "total   43.8%   43.8%   12.5%\n",
      "\n"
     ]
    }
   ],
   "source": [
    "ai_match(ai=[ai2s, ai2])"
   ]
  }
 ],
 "metadata": {
  "kernelspec": {
   "display_name": "marubatsu",
   "language": "python",
   "name": "python3"
  },
  "language_info": {
   "codemirror_mode": {
    "name": "ipython",
    "version": 3
   },
   "file_extension": ".py",
   "mimetype": "text/x-python",
   "name": "python",
   "nbconvert_exporter": "python",
   "pygments_lexer": "ipython3",
   "version": "3.11.4"
  }
 },
 "nbformat": 4,
 "nbformat_minor": 2
}
