{
 "cells": [
  {
   "cell_type": "code",
   "execution_count": 1,
   "metadata": {},
   "outputs": [],
   "source": [
    "from marubatsu import Marubatsu\n",
    "from ai import ai14s, ai_gt7\n",
    "from util import load_bestmoves\n",
    "\n",
    "mb = Marubatsu()\n",
    "data = load_bestmoves(\"../data/bestmoves_and_score_by_board_sv_rd.dat\")"
   ]
  },
  {
   "cell_type": "code",
   "execution_count": 2,
   "metadata": {},
   "outputs": [
    {
     "name": "stdout",
     "output_type": "stream",
     "text": [
      "514 µs ± 1.34 µs per loop (mean ± std. dev. of 7 runs, 1,000 loops each)\n"
     ]
    }
   ],
   "source": [
    "%%timeit \n",
    "ai14s(mb)"
   ]
  },
  {
   "cell_type": "code",
   "execution_count": 3,
   "metadata": {},
   "outputs": [
    {
     "name": "stdout",
     "output_type": "stream",
     "text": [
      "971 ns ± 5.04 ns per loop (mean ± std. dev. of 7 runs, 1,000,000 loops each)\n"
     ]
    }
   ],
   "source": [
    "%%timeit\n",
    "ai_gt7(mb, bestmoves_and_score_by_board=data)"
   ]
  },
  {
   "cell_type": "code",
   "execution_count": 4,
   "metadata": {},
   "outputs": [],
   "source": [
    "from marubatsu import Marubatsu\n",
    "from tree import Node\n",
    "from copy import deepcopy\n",
    "\n",
    "def ai_mmdfs(mb, debug=False):\n",
    "    def mm_search(node):\n",
    "        if node.mb.status == Marubatsu.CIRCLE:\n",
    "            return 1\n",
    "        elif node.mb.status == Marubatsu.CROSS:\n",
    "            return -1\n",
    "        elif node.mb.status == Marubatsu.DRAW:\n",
    "            return 0\n",
    "        \n",
    "        legal_moves = node.mb.calc_legal_moves()\n",
    "        score_list = []\n",
    "        for x, y in legal_moves:\n",
    "            mb = deepcopy(node.mb)\n",
    "            mb.move(x, y)\n",
    "            childnode = Node(mb)\n",
    "            score_list.append(mm_search(childnode))\n",
    "        if node.mb.turn == Marubatsu.CIRCLE:\n",
    "            return max(score_list)\n",
    "        else:\n",
    "            return min(score_list)\n",
    "    \n",
    "    node = Node(mb)\n",
    "    return mm_search(node)"
   ]
  },
  {
   "cell_type": "code",
   "execution_count": 5,
   "metadata": {},
   "outputs": [
    {
     "name": "stdout",
     "output_type": "stream",
     "text": [
      "0\n"
     ]
    }
   ],
   "source": [
    "mb = Marubatsu()\n",
    "print(ai_mmdfs(mb))"
   ]
  },
  {
   "cell_type": "code",
   "execution_count": 6,
   "metadata": {},
   "outputs": [
    {
     "name": "stdout",
     "output_type": "stream",
     "text": [
      "1\n"
     ]
    }
   ],
   "source": [
    "mb.move(1, 1)\n",
    "mb.move(1, 0)\n",
    "print(ai_mmdfs(mb))"
   ]
  },
  {
   "cell_type": "code",
   "execution_count": 7,
   "metadata": {},
   "outputs": [],
   "source": [
    "from ai import dprint\n",
    "\n",
    "def ai_mmdfs(mb, debug=False):\n",
    "    count = 0\n",
    "    def mm_search(node):\n",
    "        nonlocal count\n",
    "        count += 1\n",
    "        if node.mb.status == Marubatsu.CIRCLE:\n",
    "            return 1\n",
    "        elif node.mb.status == Marubatsu.CROSS:\n",
    "            return -1\n",
    "        elif node.mb.status == Marubatsu.DRAW:\n",
    "            return 0\n",
    "        \n",
    "        legal_moves = node.mb.calc_legal_moves()\n",
    "        score_list = []\n",
    "        for x, y in legal_moves:\n",
    "            mb = deepcopy(node.mb)\n",
    "            mb.move(x, y)\n",
    "            childnode = Node(mb)\n",
    "            score_list.append(mm_search(childnode))\n",
    "        if node.mb.turn == Marubatsu.CIRCLE:\n",
    "            return max(score_list)\n",
    "        else:\n",
    "            return min(score_list)\n",
    "    \n",
    "    node = Node(mb)\n",
    "    score = mm_search(node)\n",
    "    dprint(debug, \"count =\", count)\n",
    "    return score"
   ]
  },
  {
   "cell_type": "code",
   "execution_count": 8,
   "metadata": {},
   "outputs": [
    {
     "name": "stdout",
     "output_type": "stream",
     "text": [
      "count = 549946\n",
      "0\n"
     ]
    }
   ],
   "source": [
    "mb.restart()\n",
    "print(ai_mmdfs(mb, debug=True))"
   ]
  },
  {
   "cell_type": "code",
   "execution_count": 9,
   "metadata": {},
   "outputs": [
    {
     "name": "stdout",
     "output_type": "stream",
     "text": [
      "count = 7064\n",
      "1\n"
     ]
    }
   ],
   "source": [
    "mb.move(1, 1)\n",
    "mb.move(1, 0)\n",
    "print(ai_mmdfs(mb, debug=True))"
   ]
  },
  {
   "cell_type": "code",
   "execution_count": 10,
   "metadata": {},
   "outputs": [],
   "source": [
    "def ai_mmdfs(mb, debug=False):\n",
    "    count = 0\n",
    "    def mm_search(mmorig):\n",
    "        nonlocal count\n",
    "        count += 1\n",
    "        if mmorig.status == Marubatsu.CIRCLE:\n",
    "            return 1\n",
    "        elif mmorig.status == Marubatsu.CROSS:\n",
    "            return -1\n",
    "        elif mmorig.status == Marubatsu.DRAW:\n",
    "            return 0\n",
    "        \n",
    "        legal_moves = mmorig.calc_legal_moves()\n",
    "        score_list = []\n",
    "        for x, y in legal_moves:\n",
    "            mb = deepcopy(mmorig)\n",
    "            mb.move(x, y)\n",
    "            score_list.append(mm_search(mb))\n",
    "        if mmorig.turn == Marubatsu.CIRCLE:\n",
    "            return max(score_list)\n",
    "        else:\n",
    "            return min(score_list)\n",
    "    \n",
    "    score = mm_search(mb)\n",
    "    dprint(debug, \"count =\", count)\n",
    "    return score"
   ]
  },
  {
   "cell_type": "code",
   "execution_count": 11,
   "metadata": {},
   "outputs": [
    {
     "name": "stdout",
     "output_type": "stream",
     "text": [
      "count = 549946\n",
      "0\n"
     ]
    }
   ],
   "source": [
    "mb.restart()\n",
    "print(ai_mmdfs(mb, debug=True))"
   ]
  },
  {
   "cell_type": "code",
   "execution_count": 12,
   "metadata": {},
   "outputs": [
    {
     "name": "stdout",
     "output_type": "stream",
     "text": [
      "count = 7064\n",
      "1\n"
     ]
    }
   ],
   "source": [
    "mb.move(1, 1)\n",
    "mb.move(1, 0)\n",
    "print(ai_mmdfs(mb, debug=True))"
   ]
  },
  {
   "cell_type": "code",
   "execution_count": 13,
   "metadata": {},
   "outputs": [],
   "source": [
    "from ai import ai_by_score\n",
    "\n",
    "@ai_by_score\n",
    "def ai_mmdfs(mb, debug=False):\n",
    "    count = 0\n",
    "    def mm_search(mmorig):\n",
    "        nonlocal count\n",
    "        count += 1\n",
    "        if mmorig.status == Marubatsu.CIRCLE:\n",
    "            return 1\n",
    "        elif mmorig.status == Marubatsu.CROSS:\n",
    "            return -1\n",
    "        elif mmorig.status == Marubatsu.DRAW:\n",
    "            return 0\n",
    "        \n",
    "        legal_moves = mmorig.calc_legal_moves()\n",
    "        score_list = []\n",
    "        for x, y in legal_moves:\n",
    "            mb = deepcopy(mmorig)\n",
    "            mb.move(x, y)\n",
    "            score_list.append(mm_search(mb))\n",
    "        if mmorig.turn == Marubatsu.CIRCLE:\n",
    "            return max(score_list)\n",
    "        else:\n",
    "            return min(score_list)\n",
    "    \n",
    "    score = mm_search(mb)\n",
    "    dprint(debug, \"count =\", count)\n",
    "    if mb.turn == Marubatsu.CIRCLE:\n",
    "        score *= -1\n",
    "    return score"
   ]
  },
  {
   "cell_type": "code",
   "execution_count": 14,
   "metadata": {},
   "outputs": [
    {
     "name": "stdout",
     "output_type": "stream",
     "text": [
      "(0, 2)\n"
     ]
    }
   ],
   "source": [
    "print(ai_mmdfs(mb))"
   ]
  },
  {
   "cell_type": "code",
   "execution_count": 15,
   "metadata": {},
   "outputs": [
    {
     "name": "stdout",
     "output_type": "stream",
     "text": [
      "Start ai_by_score\n",
      "Turn o\n",
      ".X.\n",
      ".o.\n",
      "...\n",
      "\n",
      "legal_moves [(0, 0), (2, 0), (0, 1), (2, 1), (0, 2), (1, 2), (2, 2)]\n",
      "====================\n",
      "move (0, 0)\n",
      "Turn x\n",
      "Ox.\n",
      ".o.\n",
      "...\n",
      "\n",
      "count = 1061\n",
      "score 1 best score -inf\n",
      "UPDATE\n",
      "  best score 1\n",
      "  best moves [(0, 0)]\n",
      "====================\n",
      "move (2, 0)\n",
      "Turn x\n",
      ".xO\n",
      ".o.\n",
      "...\n",
      "\n",
      "count = 1061\n",
      "score 1 best score 1\n",
      "APPEND\n",
      "  best moves [(0, 0), (2, 0)]\n",
      "====================\n",
      "move (0, 1)\n",
      "Turn x\n",
      ".x.\n",
      "Oo.\n",
      "...\n",
      "\n",
      "count = 959\n",
      "score 1 best score 1\n",
      "APPEND\n",
      "  best moves [(0, 0), (2, 0), (0, 1)]\n",
      "====================\n",
      "move (2, 1)\n",
      "Turn x\n",
      ".x.\n",
      ".oO\n",
      "...\n",
      "\n",
      "count = 959\n",
      "score 1 best score 1\n",
      "APPEND\n",
      "  best moves [(0, 0), (2, 0), (0, 1), (2, 1)]\n",
      "====================\n",
      "move (0, 2)\n",
      "Turn x\n",
      ".x.\n",
      ".o.\n",
      "O..\n",
      "\n",
      "count = 837\n",
      "score 1 best score 1\n",
      "APPEND\n",
      "  best moves [(0, 0), (2, 0), (0, 1), (2, 1), (0, 2)]\n",
      "====================\n",
      "move (1, 2)\n",
      "Turn x\n",
      ".x.\n",
      ".o.\n",
      ".O.\n",
      "\n",
      "count = 1349\n",
      "score 0 best score 1\n",
      "====================\n",
      "move (2, 2)\n",
      "Turn x\n",
      ".x.\n",
      ".o.\n",
      "..O\n",
      "\n",
      "count = 837\n",
      "score 1 best score 1\n",
      "APPEND\n",
      "  best moves [(0, 0), (2, 0), (0, 1), (2, 1), (0, 2), (2, 2)]\n",
      "====================\n",
      "Finished\n",
      "best score 1\n",
      "best moves [(0, 0), (2, 0), (0, 1), (2, 1), (0, 2), (2, 2)]\n",
      "(2, 0)\n"
     ]
    }
   ],
   "source": [
    "print(ai_mmdfs(mb, debug=True))"
   ]
  },
  {
   "cell_type": "code",
   "execution_count": 16,
   "metadata": {},
   "outputs": [
    {
     "name": "stdout",
     "output_type": "stream",
     "text": [
      "(0, 0)\n"
     ]
    }
   ],
   "source": [
    "print(ai_mmdfs(mb, rand=False))"
   ]
  },
  {
   "cell_type": "code",
   "execution_count": 17,
   "metadata": {},
   "outputs": [
    {
     "name": "stdout",
     "output_type": "stream",
     "text": [
      "{'candidate': [(0, 0), (2, 0), (0, 1), (2, 1), (0, 2), (2, 2)],\n",
      " 'score_by_move': {(0, 0): 1,\n",
      "                   (0, 1): 1,\n",
      "                   (0, 2): 1,\n",
      "                   (1, 2): 0,\n",
      "                   (2, 0): 1,\n",
      "                   (2, 1): 1,\n",
      "                   (2, 2): 1}}\n"
     ]
    }
   ],
   "source": [
    "from pprint import pprint\n",
    "\n",
    "pprint(ai_mmdfs(mb, analyze=True))"
   ]
  },
  {
   "cell_type": "code",
   "execution_count": 18,
   "metadata": {},
   "outputs": [
    {
     "name": "stderr",
     "output_type": "stream",
     "text": [
      "100%|██████████| 431/431 [00:14<00:00, 29.10it/s] "
     ]
    },
    {
     "name": "stdout",
     "output_type": "stream",
     "text": [
      "431/431 100.00%\n"
     ]
    },
    {
     "name": "stderr",
     "output_type": "stream",
     "text": [
      "\n"
     ]
    },
    {
     "data": {
      "text/plain": [
       "(True, [])"
      ]
     },
     "execution_count": 18,
     "metadata": {},
     "output_type": "execute_result"
    }
   ],
   "source": [
    "from util import Check_solved\n",
    "\n",
    "Check_solved.is_strongly_solved(ai_mmdfs)"
   ]
  }
 ],
 "metadata": {
  "kernelspec": {
   "display_name": "marubatsu",
   "language": "python",
   "name": "python3"
  },
  "language_info": {
   "codemirror_mode": {
    "name": "ipython",
    "version": 3
   },
   "file_extension": ".py",
   "mimetype": "text/x-python",
   "name": "python",
   "nbconvert_exporter": "python",
   "pygments_lexer": "ipython3",
   "version": "3.11.4"
  }
 },
 "nbformat": 4,
 "nbformat_minor": 2
}
