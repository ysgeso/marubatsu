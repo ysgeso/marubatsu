{
 "cells": [
  {
   "cell_type": "code",
   "execution_count": 1,
   "metadata": {},
   "outputs": [],
   "source": [
    "from random import choice\n",
    "\n",
    "def ai5(mb):\n",
    "    legal_moves = mb.calc_legal_moves()\n",
    "    for move in legal_moves:\n",
    "        x, y = move\n",
    "        mb.move(x, y)\n",
    "        if mb.status == mb.turn:\n",
    "            return move\n",
    "    return choice(legal_moves)"
   ]
  },
  {
   "cell_type": "code",
   "execution_count": 2,
   "metadata": {},
   "outputs": [
    {
     "name": "stdout",
     "output_type": "stream",
     "text": [
      "Turn o\n",
      "...\n",
      "...\n",
      "...\n",
      "\n",
      "( 1 , 2 ) のマスにはマークが配置済です\n",
      "winner o\n",
      "oxo\n",
      "xox\n",
      "oX.\n",
      "\n"
     ]
    },
    {
     "data": {
      "text/plain": [
       "'o'"
      ]
     },
     "execution_count": 2,
     "metadata": {},
     "output_type": "execute_result"
    }
   ],
   "source": [
    "from marubatsu import Marubatsu\n",
    "from ai import ai_match, ai2, ai3, ai4\n",
    "\n",
    "mb = Marubatsu()\n",
    "mb.play(ai=[ai5, ai2])"
   ]
  },
  {
   "cell_type": "code",
   "execution_count": 3,
   "metadata": {},
   "outputs": [],
   "source": [
    "def ai5(mb):\n",
    "    legal_moves = mb.calc_legal_moves()\n",
    "    print(\"legal_moves\", legal_moves)\n",
    "    for move in legal_moves:\n",
    "        print(\"move\", move)\n",
    "        x, y = move\n",
    "        mb.move(x, y)\n",
    "        print(mb)\n",
    "        print(\"status\", mb.status, \"turn\", mb.turn)\n",
    "        if mb.status == mb.turn:\n",
    "            return move\n",
    "    return choice(legal_moves)"
   ]
  },
  {
   "cell_type": "code",
   "execution_count": 4,
   "metadata": {},
   "outputs": [
    {
     "name": "stdout",
     "output_type": "stream",
     "text": [
      "Turn o\n",
      "...\n",
      "...\n",
      "...\n",
      "\n",
      "legal_moves [(0, 0), (1, 0), (2, 0), (0, 1), (1, 1), (2, 1), (0, 2), (1, 2), (2, 2)]\n",
      "move (0, 0)\n",
      "Turn x\n",
      "O..\n",
      "...\n",
      "...\n",
      "\n",
      "status playing turn x\n",
      "move (1, 0)\n",
      "Turn o\n",
      "oX.\n",
      "...\n",
      "...\n",
      "\n",
      "status playing turn o\n",
      "move (2, 0)\n",
      "Turn x\n",
      "oxO\n",
      "...\n",
      "...\n",
      "\n",
      "status playing turn x\n",
      "move (0, 1)\n",
      "Turn o\n",
      "oxo\n",
      "X..\n",
      "...\n",
      "\n",
      "status playing turn o\n",
      "move (1, 1)\n",
      "Turn x\n",
      "oxo\n",
      "xO.\n",
      "...\n",
      "\n",
      "status playing turn x\n",
      "move (2, 1)\n",
      "Turn o\n",
      "oxo\n",
      "xoX\n",
      "...\n",
      "\n",
      "status playing turn o\n",
      "move (0, 2)\n",
      "winner o\n",
      "oxo\n",
      "xox\n",
      "O..\n",
      "\n",
      "status o turn x\n",
      "move (1, 2)\n",
      "winner o\n",
      "oxo\n",
      "xox\n",
      "oX.\n",
      "\n",
      "status o turn o\n",
      "( 1 , 2 ) のマスにはマークが配置済です\n",
      "winner o\n",
      "oxo\n",
      "xox\n",
      "oX.\n",
      "\n"
     ]
    }
   ],
   "source": [
    "mb.play(ai=[ai5, ai2]);"
   ]
  },
  {
   "cell_type": "code",
   "execution_count": 5,
   "metadata": {},
   "outputs": [],
   "source": [
    "def copy_dict(data):\n",
    "    new_dict = {}\n",
    "    for key, value in data.items():\n",
    "        new_dict[key] = value\n",
    "    return new_dict"
   ]
  },
  {
   "cell_type": "code",
   "execution_count": 6,
   "metadata": {},
   "outputs": [
    {
     "name": "stdout",
     "output_type": "stream",
     "text": [
      "{'c': 1, 'd': [2, 3]}\n",
      "{'c': 1, 'd': [2, 3]}\n"
     ]
    }
   ],
   "source": [
    "a = { \"c\": 1, \"d\": [2, 3] }\n",
    "b = copy_dict(a)\n",
    "print(a)\n",
    "print(b)"
   ]
  },
  {
   "cell_type": "code",
   "execution_count": 7,
   "metadata": {},
   "outputs": [
    {
     "name": "stdout",
     "output_type": "stream",
     "text": [
      "{'c': 1, 'd': [2, 3]}\n",
      "{'c': 5, 'd': [2, 3]}\n"
     ]
    }
   ],
   "source": [
    "b[\"c\"] = 5\n",
    "print(a)\n",
    "print(b)"
   ]
  },
  {
   "cell_type": "code",
   "execution_count": 8,
   "metadata": {},
   "outputs": [
    {
     "name": "stdout",
     "output_type": "stream",
     "text": [
      "{'c': 1, 'd': [6, 3]}\n",
      "{'c': 5, 'd': [6, 3]}\n"
     ]
    }
   ],
   "source": [
    "b[\"d\"][0] = 6\n",
    "print(a)\n",
    "print(b)"
   ]
  },
  {
   "cell_type": "code",
   "execution_count": 9,
   "metadata": {},
   "outputs": [
    {
     "name": "stdout",
     "output_type": "stream",
     "text": [
      "{'c': 1, 'd': [2, 3]} {'c': 1, 'd': [2, 3]}\n",
      "{'c': 1, 'd': [2, 3]} {'c': 5, 'd': [2, 3]}\n",
      "{'c': 1, 'd': [6, 3]} {'c': 5, 'd': [6, 3]}\n"
     ]
    }
   ],
   "source": [
    "from copy import copy\n",
    "\n",
    "a = { \"c\": 1, \"d\": [2, 3] }\n",
    "b = copy(a)\n",
    "print(a, b)\n",
    "b[\"c\"] = 5\n",
    "print(a, b)\n",
    "b[\"d\"][0] = 6\n",
    "print(a, b)"
   ]
  },
  {
   "cell_type": "code",
   "execution_count": 10,
   "metadata": {},
   "outputs": [
    {
     "name": "stdout",
     "output_type": "stream",
     "text": [
      "Turn o\n",
      "...\n",
      "...\n",
      "...\n",
      "\n",
      "Turn o\n",
      "...\n",
      "...\n",
      "...\n",
      "\n"
     ]
    }
   ],
   "source": [
    "mb = Marubatsu()\n",
    "mb2 = copy(mb)\n",
    "print(mb)\n",
    "print(mb2)"
   ]
  },
  {
   "cell_type": "code",
   "execution_count": 11,
   "metadata": {},
   "outputs": [
    {
     "name": "stdout",
     "output_type": "stream",
     "text": [
      "Turn x\n",
      "O..\n",
      "...\n",
      "...\n",
      "\n",
      "Turn o\n",
      "o..\n",
      "...\n",
      "...\n",
      "\n"
     ]
    }
   ],
   "source": [
    "mb.move(0, 0)\n",
    "print(mb)\n",
    "print(mb2)"
   ]
  },
  {
   "cell_type": "code",
   "execution_count": 12,
   "metadata": {},
   "outputs": [
    {
     "name": "stdout",
     "output_type": "stream",
     "text": [
      "{'c': 1, 'd': [2, 3]} {'c': 1, 'd': [2, 3]}\n",
      "{'c': 1, 'd': [2, 3]} {'c': 5, 'd': [2, 3]}\n",
      "{'c': 1, 'd': [2, 3]} {'c': 5, 'd': [6, 3]}\n"
     ]
    }
   ],
   "source": [
    "from copy import deepcopy\n",
    "\n",
    "a = { \"c\": 1, \"d\": [2, 3] }\n",
    "b = deepcopy(a)\n",
    "print(a, b)\n",
    "b[\"c\"] = 5\n",
    "print(a, b)\n",
    "b[\"d\"][0] = 6\n",
    "print(a, b)"
   ]
  },
  {
   "cell_type": "code",
   "execution_count": 13,
   "metadata": {},
   "outputs": [
    {
     "name": "stdout",
     "output_type": "stream",
     "text": [
      "Turn o\n",
      "...\n",
      "...\n",
      "...\n",
      "\n",
      "Turn o\n",
      "...\n",
      "...\n",
      "...\n",
      "\n",
      "Turn x\n",
      "O..\n",
      "...\n",
      "...\n",
      "\n",
      "Turn o\n",
      "...\n",
      "...\n",
      "...\n",
      "\n"
     ]
    }
   ],
   "source": [
    "mb = Marubatsu()\n",
    "mb2 = deepcopy(mb)\n",
    "print(mb)\n",
    "print(mb2)\n",
    "mb.move(0, 0)\n",
    "print(mb)\n",
    "print(mb2)"
   ]
  },
  {
   "cell_type": "code",
   "execution_count": 14,
   "metadata": {},
   "outputs": [],
   "source": [
    "def ai5(mb_orig):\n",
    "    legal_moves = mb_orig.calc_legal_moves()\n",
    "    for move in legal_moves:\n",
    "        mb = deepcopy(mb_orig)\n",
    "        x, y = move\n",
    "        mb.move(x, y)\n",
    "        if mb.status == mb_orig.turn:\n",
    "            return move\n",
    "    return choice(legal_moves)"
   ]
  },
  {
   "cell_type": "code",
   "execution_count": 15,
   "metadata": {},
   "outputs": [
    {
     "name": "stdout",
     "output_type": "stream",
     "text": [
      "Turn o\n",
      "...\n",
      "...\n",
      "...\n",
      "\n",
      "Turn x\n",
      "...\n",
      "...\n",
      ".O.\n",
      "\n",
      "Turn o\n",
      "...\n",
      "...\n",
      ".oX\n",
      "\n",
      "Turn x\n",
      "...\n",
      "...\n",
      "Oox\n",
      "\n",
      "Turn o\n",
      ".X.\n",
      "...\n",
      "oox\n",
      "\n",
      "Turn x\n",
      ".xO\n",
      "...\n",
      "oox\n",
      "\n",
      "Turn o\n",
      "Xxo\n",
      "...\n",
      "oox\n",
      "\n",
      "winner o\n",
      "xxo\n",
      ".O.\n",
      "oox\n",
      "\n"
     ]
    }
   ],
   "source": [
    "mb.play(ai=[ai5, ai2]);"
   ]
  },
  {
   "cell_type": "code",
   "execution_count": 16,
   "metadata": {},
   "outputs": [
    {
     "name": "stdout",
     "output_type": "stream",
     "text": [
      "ai5 VS ai2\n",
      "count     win    lose    draw\n",
      "o        8133    1189     678\n",
      "x        5218    3937     845\n",
      "total   13351    5126    1523\n",
      "\n",
      "ratio     win    lose    draw\n",
      "o       81.3%   11.9%    6.8%\n",
      "x       52.2%   39.4%    8.5%\n",
      "total   66.8%   25.6%    7.6%\n",
      "\n"
     ]
    }
   ],
   "source": [
    "ai_match(ai=[ai5, ai2])"
   ]
  },
  {
   "cell_type": "code",
   "execution_count": 17,
   "metadata": {},
   "outputs": [
    {
     "name": "stdout",
     "output_type": "stream",
     "text": [
      "ai5 VS ai3\n",
      "count     win    lose    draw\n",
      "o        7240    1989     771\n",
      "x        3936    5282     782\n",
      "total   11176    7271    1553\n",
      "\n",
      "ratio     win    lose    draw\n",
      "o       72.4%   19.9%    7.7%\n",
      "x       39.4%   52.8%    7.8%\n",
      "total   55.9%   36.4%    7.8%\n",
      "\n"
     ]
    }
   ],
   "source": [
    "ai_match(ai=[ai5, ai3])"
   ]
  },
  {
   "cell_type": "code",
   "execution_count": 18,
   "metadata": {},
   "outputs": [
    {
     "name": "stdout",
     "output_type": "stream",
     "text": [
      "ai5 VS ai4\n",
      "count     win    lose    draw\n",
      "o        6050    3663     287\n",
      "x        2718    7073     209\n",
      "total    8768   10736     496\n",
      "\n",
      "ratio     win    lose    draw\n",
      "o       60.5%   36.6%    2.9%\n",
      "x       27.2%   70.7%    2.1%\n",
      "total   43.8%   53.7%    2.5%\n",
      "\n"
     ]
    }
   ],
   "source": [
    "ai_match(ai=[ai5, ai4])"
   ]
  }
 ],
 "metadata": {
  "kernelspec": {
   "display_name": "marubatsu",
   "language": "python",
   "name": "python3"
  },
  "language_info": {
   "codemirror_mode": {
    "name": "ipython",
    "version": 3
   },
   "file_extension": ".py",
   "mimetype": "text/x-python",
   "name": "python",
   "nbconvert_exporter": "python",
   "pygments_lexer": "ipython3",
   "version": "3.11.4"
  }
 },
 "nbformat": 4,
 "nbformat_minor": 2
}
