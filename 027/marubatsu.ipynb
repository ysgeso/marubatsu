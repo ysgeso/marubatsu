{
 "cells": [
  {
   "cell_type": "code",
   "execution_count": 1,
   "metadata": {},
   "outputs": [],
   "source": [
    "from marubatsu import Marubatsu\n",
    "\n",
    "testcases = [\n",
    "    # 〇 の勝利のテストケース\n",
    "    [                                      # 着手順とゲーム盤\n",
    "        [ \"A1\", \"A2\", \"B1\", \"B2\", \"C1\" ],  # 135  ooo\n",
    "        Marubatsu.CIRCLE,                  # 24.  xx. \n",
    "    ],                                     # ...  ...\n",
    "    # × の勝利のテストケース\n",
    "    [                                            # 着手順とゲーム盤\n",
    "        [ \"A2\", \"A1\", \"B2\", \"B1\", \"A3\", \"C1\" ],  # 246  xxx \n",
    "        Marubatsu.CROSS,                         # 13.  oo.\n",
    "    ],                                           # 5..  ...\n",
    "    # 引き分けのテストケース\n",
    "    [                                                              # 着手順とゲーム盤\n",
    "        [ \"A1\", \"A2\", \"B1\", \"B2\", \"C2\", \"C1\", \"A3\", \"B3\", \"C3\" ],  # 136  oox \n",
    "        Marubatsu.DRAW,                                            # 245  xxo\n",
    "    ],                                                             # 789  oxo\n",
    "]"
   ]
  },
  {
   "cell_type": "code",
   "execution_count": 2,
   "metadata": {},
   "outputs": [],
   "source": [
    "def excel_to_xy(coord):\n",
    "    if coord == \"A1\":\n",
    "        return 0, 0\n",
    "    elif coord == \"A2\":\n",
    "        return 0, 1\n",
    "    elif coord == \"A3\":\n",
    "        return 0, 2\n",
    "    elif coord == \"B1\":\n",
    "        return 1, 0\n",
    "    elif coord == \"B2\":\n",
    "        return 1, 1\n",
    "    elif coord == \"B3\":\n",
    "        return 1, 2\n",
    "    elif coord == \"C1\":\n",
    "        return 2, 0\n",
    "    elif coord == \"C2\":\n",
    "        return 2, 1\n",
    "    elif coord == \"C3\":\n",
    "        return 2, 2\n",
    "    else:\n",
    "        print(\"invalid coord\", coord)"
   ]
  },
  {
   "cell_type": "code",
   "execution_count": 3,
   "metadata": {},
   "outputs": [
    {
     "name": "stdout",
     "output_type": "stream",
     "text": [
      "0 0\n"
     ]
    }
   ],
   "source": [
    "x, y = excel_to_xy(\"A1\")\n",
    "print(x, y)"
   ]
  },
  {
   "cell_type": "code",
   "execution_count": 4,
   "metadata": {},
   "outputs": [
    {
     "name": "stdout",
     "output_type": "stream",
     "text": [
      "invalid coord E5\n"
     ]
    },
    {
     "ename": "TypeError",
     "evalue": "cannot unpack non-iterable NoneType object",
     "output_type": "error",
     "traceback": [
      "\u001b[1;31m---------------------------------------------------------------------------\u001b[0m",
      "\u001b[1;31mTypeError\u001b[0m                                 Traceback (most recent call last)",
      "\u001b[1;32mc:\\Users\\ys\\ai\\marubatsu\\027\\marubatsu.ipynb セル 4\u001b[0m line \u001b[0;36m1\n\u001b[1;32m----> <a href='vscode-notebook-cell:/c%3A/Users/ys/ai/marubatsu/027/marubatsu.ipynb#W3sZmlsZQ%3D%3D?line=0'>1</a>\u001b[0m x, y \u001b[39m=\u001b[39m excel_to_xy(\u001b[39m\"\u001b[39m\u001b[39mE5\u001b[39m\u001b[39m\"\u001b[39m)\n\u001b[0;32m      <a href='vscode-notebook-cell:/c%3A/Users/ys/ai/marubatsu/027/marubatsu.ipynb#W3sZmlsZQ%3D%3D?line=1'>2</a>\u001b[0m \u001b[39mprint\u001b[39m(x, y)\n",
      "\u001b[1;31mTypeError\u001b[0m: cannot unpack non-iterable NoneType object"
     ]
    }
   ],
   "source": [
    "x, y = excel_to_xy(\"E5\")\n",
    "print(x, y)"
   ]
  },
  {
   "cell_type": "code",
   "execution_count": 5,
   "metadata": {},
   "outputs": [],
   "source": [
    "def test_judge(testcases):\n",
    "    for testcase in testcases:\n",
    "        testdata, winner = testcase\n",
    "        mb = Marubatsu()\n",
    "        for coord in testdata:\n",
    "            x, y = excel_to_xy(coord)\n",
    "            mb.move(x, y)\n",
    "        print(mb)\n",
    "\n",
    "        if mb.judge() == winner:\n",
    "            print(\"ok\")\n",
    "        else:\n",
    "            print(\"error!\")"
   ]
  },
  {
   "cell_type": "code",
   "execution_count": 6,
   "metadata": {},
   "outputs": [
    {
     "name": "stdout",
     "output_type": "stream",
     "text": [
      "Turn x\n",
      "ooo\n",
      "xx.\n",
      "...\n",
      "\n",
      "ok\n",
      "Turn o\n",
      "xxx\n",
      "oo.\n",
      "o..\n",
      "\n",
      "ok\n",
      "Turn x\n",
      "oox\n",
      "xxo\n",
      "oxo\n",
      "\n",
      "ok\n"
     ]
    }
   ],
   "source": [
    "test_judge(testcases)"
   ]
  },
  {
   "cell_type": "code",
   "execution_count": 7,
   "metadata": {},
   "outputs": [],
   "source": [
    "def excel_to_xy(coord):\n",
    "    excel_to_xy_table = {\n",
    "        \"A1\": [0, 0],\n",
    "        \"A2\": [0, 1],\n",
    "        \"A3\": [0, 2],\n",
    "        \"B1\": [1, 0],\n",
    "        \"B2\": [1, 1],\n",
    "        \"B3\": [1, 2],\n",
    "        \"C1\": [2, 0],\n",
    "        \"C2\": [2, 1],\n",
    "        \"C3\": [2, 2],\n",
    "    }\n",
    "    return excel_to_xy_table[coord]"
   ]
  },
  {
   "cell_type": "code",
   "execution_count": 8,
   "metadata": {},
   "outputs": [
    {
     "name": "stdout",
     "output_type": "stream",
     "text": [
      "Turn x\n",
      "ooo\n",
      "xx.\n",
      "...\n",
      "\n",
      "ok\n",
      "Turn o\n",
      "xxx\n",
      "oo.\n",
      "o..\n",
      "\n",
      "ok\n",
      "Turn x\n",
      "oox\n",
      "xxo\n",
      "oxo\n",
      "\n",
      "ok\n"
     ]
    }
   ],
   "source": [
    "test_judge(testcases)"
   ]
  },
  {
   "cell_type": "code",
   "execution_count": 9,
   "metadata": {},
   "outputs": [
    {
     "ename": "KeyError",
     "evalue": "'E5'",
     "output_type": "error",
     "traceback": [
      "\u001b[1;31m---------------------------------------------------------------------------\u001b[0m",
      "\u001b[1;31mKeyError\u001b[0m                                  Traceback (most recent call last)",
      "\u001b[1;32mc:\\Users\\ys\\ai\\marubatsu\\027\\marubatsu.ipynb セル 9\u001b[0m line \u001b[0;36m1\n\u001b[1;32m----> <a href='vscode-notebook-cell:/c%3A/Users/ys/ai/marubatsu/027/marubatsu.ipynb#X11sZmlsZQ%3D%3D?line=0'>1</a>\u001b[0m \u001b[39mprint\u001b[39m(excel_to_xy(\u001b[39m\"\u001b[39m\u001b[39mE5\u001b[39m\u001b[39m\"\u001b[39m))\n",
      "\u001b[1;32mc:\\Users\\ys\\ai\\marubatsu\\027\\marubatsu.ipynb セル 9\u001b[0m line \u001b[0;36m1\n\u001b[0;32m      <a href='vscode-notebook-cell:/c%3A/Users/ys/ai/marubatsu/027/marubatsu.ipynb#X11sZmlsZQ%3D%3D?line=0'>1</a>\u001b[0m \u001b[39mdef\u001b[39;00m \u001b[39mexcel_to_xy\u001b[39m(coord):\n\u001b[0;32m      <a href='vscode-notebook-cell:/c%3A/Users/ys/ai/marubatsu/027/marubatsu.ipynb#X11sZmlsZQ%3D%3D?line=1'>2</a>\u001b[0m     excel_to_xy_table \u001b[39m=\u001b[39m {\n\u001b[0;32m      <a href='vscode-notebook-cell:/c%3A/Users/ys/ai/marubatsu/027/marubatsu.ipynb#X11sZmlsZQ%3D%3D?line=2'>3</a>\u001b[0m         \u001b[39m\"\u001b[39m\u001b[39mA1\u001b[39m\u001b[39m\"\u001b[39m: [\u001b[39m0\u001b[39m, \u001b[39m0\u001b[39m],\n\u001b[0;32m      <a href='vscode-notebook-cell:/c%3A/Users/ys/ai/marubatsu/027/marubatsu.ipynb#X11sZmlsZQ%3D%3D?line=3'>4</a>\u001b[0m         \u001b[39m\"\u001b[39m\u001b[39mA2\u001b[39m\u001b[39m\"\u001b[39m: [\u001b[39m0\u001b[39m, \u001b[39m1\u001b[39m],\n\u001b[1;32m   (...)\u001b[0m\n\u001b[0;32m     <a href='vscode-notebook-cell:/c%3A/Users/ys/ai/marubatsu/027/marubatsu.ipynb#X11sZmlsZQ%3D%3D?line=10'>11</a>\u001b[0m         \u001b[39m\"\u001b[39m\u001b[39mC3\u001b[39m\u001b[39m\"\u001b[39m: [\u001b[39m2\u001b[39m, \u001b[39m2\u001b[39m],\n\u001b[0;32m     <a href='vscode-notebook-cell:/c%3A/Users/ys/ai/marubatsu/027/marubatsu.ipynb#X11sZmlsZQ%3D%3D?line=11'>12</a>\u001b[0m     }\n\u001b[1;32m---> <a href='vscode-notebook-cell:/c%3A/Users/ys/ai/marubatsu/027/marubatsu.ipynb#X11sZmlsZQ%3D%3D?line=12'>13</a>\u001b[0m     \u001b[39mreturn\u001b[39;00m excel_to_xy_table[coord]\n",
      "\u001b[1;31mKeyError\u001b[0m: 'E5'"
     ]
    }
   ],
   "source": [
    "print(excel_to_xy(\"E5\"))"
   ]
  },
  {
   "cell_type": "code",
   "execution_count": 10,
   "metadata": {},
   "outputs": [],
   "source": [
    "def excel_to_xy(coord):\n",
    "    return {\n",
    "        \"A1\": [0, 0],\n",
    "        \"A2\": [0, 1],\n",
    "        \"A3\": [0, 2],\n",
    "        \"B1\": [1, 0],\n",
    "        \"B2\": [1, 1],\n",
    "        \"B3\": [1, 2],\n",
    "        \"C1\": [2, 0],\n",
    "        \"C2\": [2, 1],\n",
    "        \"C3\": [2, 2],\n",
    "    }[coord]"
   ]
  },
  {
   "cell_type": "code",
   "execution_count": 11,
   "metadata": {},
   "outputs": [
    {
     "name": "stdout",
     "output_type": "stream",
     "text": [
      "Turn x\n",
      "ooo\n",
      "xx.\n",
      "...\n",
      "\n",
      "ok\n",
      "Turn o\n",
      "xxx\n",
      "oo.\n",
      "o..\n",
      "\n",
      "ok\n",
      "Turn x\n",
      "oox\n",
      "xxo\n",
      "oxo\n",
      "\n",
      "ok\n"
     ]
    }
   ],
   "source": [
    "test_judge(testcases)"
   ]
  },
  {
   "cell_type": "code",
   "execution_count": 12,
   "metadata": {},
   "outputs": [
    {
     "name": "stdout",
     "output_type": "stream",
     "text": [
      "A 1\n"
     ]
    }
   ],
   "source": [
    "x, y = \"A1\"\n",
    "print(x, y)"
   ]
  },
  {
   "cell_type": "code",
   "execution_count": 13,
   "metadata": {},
   "outputs": [],
   "source": [
    "def excel_to_xy(coord):\n",
    "    excel_to_x_table = {\n",
    "        \"A\": 0,\n",
    "        \"B\": 1,\n",
    "        \"C\": 2,\n",
    "    }\n",
    "    excel_to_y_table = {\n",
    "        \"1\": 0,\n",
    "        \"2\": 1,\n",
    "        \"3\": 2,\n",
    "    }\n",
    "\n",
    "    x, y = coord\n",
    "    return excel_to_x_table[x], excel_to_y_table[y]"
   ]
  },
  {
   "cell_type": "code",
   "execution_count": 14,
   "metadata": {},
   "outputs": [
    {
     "name": "stdout",
     "output_type": "stream",
     "text": [
      "Turn x\n",
      "ooo\n",
      "xx.\n",
      "...\n",
      "\n",
      "ok\n",
      "Turn o\n",
      "xxx\n",
      "oo.\n",
      "o..\n",
      "\n",
      "ok\n",
      "Turn x\n",
      "oox\n",
      "xxo\n",
      "oxo\n",
      "\n",
      "ok\n"
     ]
    }
   ],
   "source": [
    "test_judge(testcases)"
   ]
  },
  {
   "cell_type": "code",
   "execution_count": 15,
   "metadata": {},
   "outputs": [],
   "source": [
    "def excel_to_xy(coord):\n",
    "    excel_to_x_table = {\n",
    "        \"A\": 0,\n",
    "        \"B\": 1,\n",
    "        \"C\": 2,\n",
    "    }\n",
    "\n",
    "    x, y = coord\n",
    "    return excel_to_x_table[x], y - 1"
   ]
  },
  {
   "cell_type": "code",
   "execution_count": 16,
   "metadata": {},
   "outputs": [
    {
     "ename": "TypeError",
     "evalue": "unsupported operand type(s) for -: 'str' and 'int'",
     "output_type": "error",
     "traceback": [
      "\u001b[1;31m---------------------------------------------------------------------------\u001b[0m",
      "\u001b[1;31mTypeError\u001b[0m                                 Traceback (most recent call last)",
      "\u001b[1;32mc:\\Users\\ys\\ai\\marubatsu\\027\\marubatsu.ipynb セル 16\u001b[0m line \u001b[0;36m1\n\u001b[1;32m----> <a href='vscode-notebook-cell:/c%3A/Users/ys/ai/marubatsu/027/marubatsu.ipynb#X25sZmlsZQ%3D%3D?line=0'>1</a>\u001b[0m test_judge(testcases)\n",
      "\u001b[1;32mc:\\Users\\ys\\ai\\marubatsu\\027\\marubatsu.ipynb セル 16\u001b[0m line \u001b[0;36m6\n\u001b[0;32m      <a href='vscode-notebook-cell:/c%3A/Users/ys/ai/marubatsu/027/marubatsu.ipynb#X25sZmlsZQ%3D%3D?line=3'>4</a>\u001b[0m mb \u001b[39m=\u001b[39m Marubatsu()\n\u001b[0;32m      <a href='vscode-notebook-cell:/c%3A/Users/ys/ai/marubatsu/027/marubatsu.ipynb#X25sZmlsZQ%3D%3D?line=4'>5</a>\u001b[0m \u001b[39mfor\u001b[39;00m coord \u001b[39min\u001b[39;00m testdata:\n\u001b[1;32m----> <a href='vscode-notebook-cell:/c%3A/Users/ys/ai/marubatsu/027/marubatsu.ipynb#X25sZmlsZQ%3D%3D?line=5'>6</a>\u001b[0m     x, y \u001b[39m=\u001b[39m excel_to_xy(coord)\n\u001b[0;32m      <a href='vscode-notebook-cell:/c%3A/Users/ys/ai/marubatsu/027/marubatsu.ipynb#X25sZmlsZQ%3D%3D?line=6'>7</a>\u001b[0m     mb\u001b[39m.\u001b[39mmove(x, y)\n\u001b[0;32m      <a href='vscode-notebook-cell:/c%3A/Users/ys/ai/marubatsu/027/marubatsu.ipynb#X25sZmlsZQ%3D%3D?line=7'>8</a>\u001b[0m \u001b[39mprint\u001b[39m(mb)\n",
      "\u001b[1;32mc:\\Users\\ys\\ai\\marubatsu\\027\\marubatsu.ipynb セル 16\u001b[0m line \u001b[0;36m9\n\u001b[0;32m      <a href='vscode-notebook-cell:/c%3A/Users/ys/ai/marubatsu/027/marubatsu.ipynb#X25sZmlsZQ%3D%3D?line=1'>2</a>\u001b[0m excel_to_x_table \u001b[39m=\u001b[39m {\n\u001b[0;32m      <a href='vscode-notebook-cell:/c%3A/Users/ys/ai/marubatsu/027/marubatsu.ipynb#X25sZmlsZQ%3D%3D?line=2'>3</a>\u001b[0m     \u001b[39m\"\u001b[39m\u001b[39mA\u001b[39m\u001b[39m\"\u001b[39m: \u001b[39m0\u001b[39m,\n\u001b[0;32m      <a href='vscode-notebook-cell:/c%3A/Users/ys/ai/marubatsu/027/marubatsu.ipynb#X25sZmlsZQ%3D%3D?line=3'>4</a>\u001b[0m     \u001b[39m\"\u001b[39m\u001b[39mB\u001b[39m\u001b[39m\"\u001b[39m: \u001b[39m1\u001b[39m,\n\u001b[0;32m      <a href='vscode-notebook-cell:/c%3A/Users/ys/ai/marubatsu/027/marubatsu.ipynb#X25sZmlsZQ%3D%3D?line=4'>5</a>\u001b[0m     \u001b[39m\"\u001b[39m\u001b[39mC\u001b[39m\u001b[39m\"\u001b[39m: \u001b[39m2\u001b[39m,\n\u001b[0;32m      <a href='vscode-notebook-cell:/c%3A/Users/ys/ai/marubatsu/027/marubatsu.ipynb#X25sZmlsZQ%3D%3D?line=5'>6</a>\u001b[0m }\n\u001b[0;32m      <a href='vscode-notebook-cell:/c%3A/Users/ys/ai/marubatsu/027/marubatsu.ipynb#X25sZmlsZQ%3D%3D?line=7'>8</a>\u001b[0m x, y \u001b[39m=\u001b[39m coord\n\u001b[1;32m----> <a href='vscode-notebook-cell:/c%3A/Users/ys/ai/marubatsu/027/marubatsu.ipynb#X25sZmlsZQ%3D%3D?line=8'>9</a>\u001b[0m \u001b[39mreturn\u001b[39;00m excel_to_x_table[x], y \u001b[39m-\u001b[39m \u001b[39m1\u001b[39m\n",
      "\u001b[1;31mTypeError\u001b[0m: unsupported operand type(s) for -: 'str' and 'int'"
     ]
    }
   ],
   "source": [
    "test_judge(testcases)"
   ]
  },
  {
   "cell_type": "code",
   "execution_count": 17,
   "metadata": {},
   "outputs": [],
   "source": [
    "def excel_to_xy(coord):\n",
    "    excel_to_x_table = {\n",
    "        \"A\": 0,\n",
    "        \"B\": 1,\n",
    "        \"C\": 2,\n",
    "    }\n",
    "    x, y = coord\n",
    "    return excel_to_x_table[x], int(y) - 1"
   ]
  },
  {
   "cell_type": "code",
   "execution_count": 18,
   "metadata": {},
   "outputs": [
    {
     "name": "stdout",
     "output_type": "stream",
     "text": [
      "Turn x\n",
      "ooo\n",
      "xx.\n",
      "...\n",
      "\n",
      "ok\n",
      "Turn o\n",
      "xxx\n",
      "oo.\n",
      "o..\n",
      "\n",
      "ok\n",
      "Turn x\n",
      "oox\n",
      "xxo\n",
      "oxo\n",
      "\n",
      "ok\n"
     ]
    }
   ],
   "source": [
    "test_judge(testcases)"
   ]
  },
  {
   "cell_type": "code",
   "execution_count": 19,
   "metadata": {},
   "outputs": [
    {
     "ename": "ValueError",
     "evalue": "too many values to unpack (expected 2)",
     "output_type": "error",
     "traceback": [
      "\u001b[1;31m---------------------------------------------------------------------------\u001b[0m",
      "\u001b[1;31mValueError\u001b[0m                                Traceback (most recent call last)",
      "\u001b[1;32mc:\\Users\\ys\\ai\\marubatsu\\027\\marubatsu.ipynb セル 19\u001b[0m line \u001b[0;36m1\n\u001b[1;32m----> <a href='vscode-notebook-cell:/c%3A/Users/ys/ai/marubatsu/027/marubatsu.ipynb#X20sZmlsZQ%3D%3D?line=0'>1</a>\u001b[0m x, y \u001b[39m=\u001b[39m \u001b[39m\"\u001b[39m\u001b[39mA19\u001b[39m\u001b[39m\"\u001b[39m\n",
      "\u001b[1;31mValueError\u001b[0m: too many values to unpack (expected 2)"
     ]
    }
   ],
   "source": [
    "x, y = \"A19\""
   ]
  },
  {
   "cell_type": "code",
   "execution_count": 20,
   "metadata": {},
   "outputs": [],
   "source": [
    "import re # 正規表現を利用するためのモジュールをインポートする\n",
    "\n",
    "def excel_to_xy(coord):\n",
    "    excel_to_x_table = {\n",
    "        \"A\": 0,\n",
    "        \"B\": 1,\n",
    "        \"C\": 2,\n",
    "    }\n",
    "\n",
    "    # 正規表現を使って、Excel 座標のアルファベットの部分と整数の部分を分離する\n",
    "    m = re.fullmatch(\"([A-Z]+)(\\d+)\", coord)\n",
    "    # 分離したデータを x と y に代入する\n",
    "    x = m.group(1)\n",
    "    y = m.group(2)\n",
    "    return excel_to_x_table[x], int(y) - 1"
   ]
  },
  {
   "cell_type": "code",
   "execution_count": 21,
   "metadata": {},
   "outputs": [
    {
     "name": "stdout",
     "output_type": "stream",
     "text": [
      "(0, 18)\n"
     ]
    }
   ],
   "source": [
    "print(excel_to_xy(\"A19\"))"
   ]
  },
  {
   "cell_type": "code",
   "execution_count": 22,
   "metadata": {},
   "outputs": [
    {
     "data": {
      "text/plain": [
       "0"
      ]
     },
     "execution_count": 22,
     "metadata": {},
     "output_type": "execute_result"
    }
   ],
   "source": [
    "\"ABC\".index(\"A\")"
   ]
  },
  {
   "cell_type": "code",
   "execution_count": 23,
   "metadata": {},
   "outputs": [],
   "source": [
    "def excel_to_xy(coord):\n",
    "    x, y = coord\n",
    "    return \"ABC\".index(x), int(y) - 1"
   ]
  },
  {
   "cell_type": "code",
   "execution_count": 24,
   "metadata": {},
   "outputs": [
    {
     "name": "stdout",
     "output_type": "stream",
     "text": [
      "Turn x\n",
      "ooo\n",
      "xx.\n",
      "...\n",
      "\n",
      "ok\n",
      "Turn o\n",
      "xxx\n",
      "oo.\n",
      "o..\n",
      "\n",
      "ok\n",
      "Turn x\n",
      "oox\n",
      "xxo\n",
      "oxo\n",
      "\n",
      "ok\n"
     ]
    }
   ],
   "source": [
    "test_judge(testcases)"
   ]
  },
  {
   "cell_type": "code",
   "execution_count": 25,
   "metadata": {},
   "outputs": [],
   "source": [
    "def excel_to_xy(coord):\n",
    "    return \"ABC\".index(coord[0]), int(coord[1]) - 1"
   ]
  },
  {
   "cell_type": "code",
   "execution_count": 26,
   "metadata": {},
   "outputs": [
    {
     "name": "stdout",
     "output_type": "stream",
     "text": [
      "Turn x\n",
      "ooo\n",
      "xx.\n",
      "...\n",
      "\n",
      "ok\n",
      "Turn o\n",
      "xxx\n",
      "oo.\n",
      "o..\n",
      "\n",
      "ok\n",
      "Turn x\n",
      "oox\n",
      "xxo\n",
      "oxo\n",
      "\n",
      "ok\n"
     ]
    }
   ],
   "source": [
    "test_judge(testcases)"
   ]
  },
  {
   "cell_type": "code",
   "execution_count": 27,
   "metadata": {},
   "outputs": [
    {
     "name": "stdout",
     "output_type": "stream",
     "text": [
      "65\n"
     ]
    }
   ],
   "source": [
    "print(ord(\"A\"))"
   ]
  },
  {
   "cell_type": "code",
   "execution_count": 28,
   "metadata": {},
   "outputs": [],
   "source": [
    "def excel_to_xy(coord):\n",
    "    x, y = coord\n",
    "    return ord(x) - 65, int(y) - 1"
   ]
  },
  {
   "cell_type": "code",
   "execution_count": 29,
   "metadata": {},
   "outputs": [
    {
     "name": "stdout",
     "output_type": "stream",
     "text": [
      "Turn x\n",
      "ooo\n",
      "xx.\n",
      "...\n",
      "\n",
      "ok\n",
      "Turn o\n",
      "xxx\n",
      "oo.\n",
      "o..\n",
      "\n",
      "ok\n",
      "Turn x\n",
      "oox\n",
      "xxo\n",
      "oxo\n",
      "\n",
      "ok\n"
     ]
    }
   ],
   "source": [
    "test_judge(testcases)"
   ]
  },
  {
   "cell_type": "code",
   "execution_count": 30,
   "metadata": {},
   "outputs": [
    {
     "name": "stdout",
     "output_type": "stream",
     "text": [
      "(4, 4)\n"
     ]
    }
   ],
   "source": [
    "print(excel_to_xy(\"E5\"))"
   ]
  },
  {
   "cell_type": "code",
   "execution_count": 31,
   "metadata": {},
   "outputs": [
    {
     "ename": "IndexError",
     "evalue": "list index out of range",
     "output_type": "error",
     "traceback": [
      "\u001b[1;31m---------------------------------------------------------------------------\u001b[0m",
      "\u001b[1;31mIndexError\u001b[0m                                Traceback (most recent call last)",
      "\u001b[1;32mc:\\Users\\ys\\ai\\marubatsu\\027\\marubatsu.ipynb セル 31\u001b[0m line \u001b[0;36m3\n\u001b[0;32m      <a href='vscode-notebook-cell:/c%3A/Users/ys/ai/marubatsu/027/marubatsu.ipynb#X42sZmlsZQ%3D%3D?line=0'>1</a>\u001b[0m mb \u001b[39m=\u001b[39m Marubatsu()\n\u001b[0;32m      <a href='vscode-notebook-cell:/c%3A/Users/ys/ai/marubatsu/027/marubatsu.ipynb#X42sZmlsZQ%3D%3D?line=1'>2</a>\u001b[0m x, y \u001b[39m=\u001b[39m excel_to_xy(\u001b[39m\"\u001b[39m\u001b[39mE5\u001b[39m\u001b[39m\"\u001b[39m)\n\u001b[1;32m----> <a href='vscode-notebook-cell:/c%3A/Users/ys/ai/marubatsu/027/marubatsu.ipynb#X42sZmlsZQ%3D%3D?line=2'>3</a>\u001b[0m mb\u001b[39m.\u001b[39mmove(x, y)\n",
      "File \u001b[1;32mc:\\Users\\ys\\ai\\marubatsu\\027\\marubatsu.py:90\u001b[0m, in \u001b[0;36mMarubatsu.move\u001b[1;34m(self, x, y)\u001b[0m\n\u001b[0;32m     81\u001b[0m \u001b[39mdef\u001b[39;00m \u001b[39mmove\u001b[39m(\u001b[39mself\u001b[39m, x: \u001b[39mint\u001b[39m, y: \u001b[39mint\u001b[39m):\n\u001b[0;32m     82\u001b[0m \u001b[39m    \u001b[39m\u001b[39m\"\"\" ゲーム盤の指定したマスに着手する.\u001b[39;00m\n\u001b[0;32m     83\u001b[0m \n\u001b[0;32m     84\u001b[0m \u001b[39m    Args:\u001b[39;00m\n\u001b[1;32m   (...)\u001b[0m\n\u001b[0;32m     88\u001b[0m \u001b[39m            マークを配置するマスの y 座標\u001b[39;00m\n\u001b[0;32m     89\u001b[0m \u001b[39m    \"\"\"\u001b[39;00m\n\u001b[1;32m---> 90\u001b[0m     \u001b[39mif\u001b[39;00m \u001b[39mself\u001b[39m\u001b[39m.\u001b[39mplace_mark(x, y, \u001b[39mself\u001b[39m\u001b[39m.\u001b[39mturn):\n\u001b[0;32m     91\u001b[0m         \u001b[39mself\u001b[39m\u001b[39m.\u001b[39mturn \u001b[39m=\u001b[39m Marubatsu\u001b[39m.\u001b[39mCROSS \u001b[39mif\u001b[39;00m \u001b[39mself\u001b[39m\u001b[39m.\u001b[39mturn \u001b[39m==\u001b[39m Marubatsu\u001b[39m.\u001b[39mCIRCLE \u001b[39melse\u001b[39;00m Marubatsu\u001b[39m.\u001b[39mCIRCLE\n",
      "File \u001b[1;32mc:\\Users\\ys\\ai\\marubatsu\\027\\marubatsu.py:69\u001b[0m, in \u001b[0;36mMarubatsu.place_mark\u001b[1;34m(self, x, y, mark)\u001b[0m\n\u001b[0;32m     50\u001b[0m \u001b[39mdef\u001b[39;00m \u001b[39mplace_mark\u001b[39m(\u001b[39mself\u001b[39m, x: \u001b[39mint\u001b[39m, y: \u001b[39mint\u001b[39m, mark: \u001b[39mstr\u001b[39m) \u001b[39m-\u001b[39m\u001b[39m>\u001b[39m \u001b[39mbool\u001b[39m:\n\u001b[0;32m     51\u001b[0m \u001b[39m    \u001b[39m\u001b[39m\"\"\" ゲーム盤の指定したマスに指定したマークを配置する.\u001b[39;00m\n\u001b[0;32m     52\u001b[0m \n\u001b[0;32m     53\u001b[0m \u001b[39m    (x, y) のマスに mark で指定したマークを配置する.\u001b[39;00m\n\u001b[1;32m   (...)\u001b[0m\n\u001b[0;32m     66\u001b[0m \u001b[39m        マークを配置できた場合は True、配置できなかった場合は False\u001b[39;00m\n\u001b[0;32m     67\u001b[0m \u001b[39m    \"\"\"\u001b[39;00m\n\u001b[1;32m---> 69\u001b[0m     \u001b[39mif\u001b[39;00m \u001b[39mself\u001b[39m\u001b[39m.\u001b[39mboard[x][y] \u001b[39m==\u001b[39m Marubatsu\u001b[39m.\u001b[39mEMPTY:\n\u001b[0;32m     70\u001b[0m         \u001b[39mself\u001b[39m\u001b[39m.\u001b[39mboard[x][y] \u001b[39m=\u001b[39m mark\n\u001b[0;32m     71\u001b[0m         \u001b[39mreturn\u001b[39;00m \u001b[39mTrue\u001b[39;00m\n",
      "\u001b[1;31mIndexError\u001b[0m: list index out of range"
     ]
    }
   ],
   "source": [
    "mb = Marubatsu()\n",
    "x, y = excel_to_xy(\"E5\")\n",
    "mb.move(x, y)"
   ]
  },
  {
   "cell_type": "code",
   "execution_count": 32,
   "metadata": {},
   "outputs": [
    {
     "name": "stdout",
     "output_type": "stream",
     "text": [
      "A1\n",
      "B2\n"
     ]
    }
   ],
   "source": [
    "print(\"a1\".upper())\n",
    "print(\"B2\".upper())"
   ]
  },
  {
   "cell_type": "code",
   "execution_count": 33,
   "metadata": {},
   "outputs": [],
   "source": [
    "def excel_to_xy(coord):\n",
    "    x, y = coord.upper()\n",
    "    return \"ABC\".index(x), int(y) - 1"
   ]
  },
  {
   "cell_type": "code",
   "execution_count": 34,
   "metadata": {},
   "outputs": [
    {
     "name": "stdout",
     "output_type": "stream",
     "text": [
      "1\n",
      "2\n"
     ]
    }
   ],
   "source": [
    "print([1, 2, 3].index(2)) # 1 番の要素に 2 が代入されているので、1 が返る\n",
    "print((1, 2, 3).index(3)) # 2 番の要素に 3 が代入されているので、2 が返る"
   ]
  },
  {
   "cell_type": "code",
   "execution_count": 35,
   "metadata": {},
   "outputs": [
    {
     "name": "stdout",
     "output_type": "stream",
     "text": [
      "B\n"
     ]
    }
   ],
   "source": [
    "print(\"ABC\"[1]) # 1 番のインデックスのデータである \"B\" が表示される"
   ]
  },
  {
   "cell_type": "code",
   "execution_count": 36,
   "metadata": {},
   "outputs": [
    {
     "ename": "ValueError",
     "evalue": "substring not found",
     "output_type": "error",
     "traceback": [
      "\u001b[1;31m---------------------------------------------------------------------------\u001b[0m",
      "\u001b[1;31mValueError\u001b[0m                                Traceback (most recent call last)",
      "\u001b[1;32mc:\\Users\\ys\\ai\\marubatsu\\027\\marubatsu.ipynb セル 36\u001b[0m line \u001b[0;36m1\n\u001b[1;32m----> <a href='vscode-notebook-cell:/c%3A/Users/ys/ai/marubatsu/027/marubatsu.ipynb#X50sZmlsZQ%3D%3D?line=0'>1</a>\u001b[0m \u001b[39m\"\u001b[39m\u001b[39mABC\u001b[39m\u001b[39m\"\u001b[39m\u001b[39m.\u001b[39mindex(\u001b[39m\"\u001b[39m\u001b[39mD\u001b[39m\u001b[39m\"\u001b[39m)\n",
      "\u001b[1;31mValueError\u001b[0m: substring not found"
     ]
    }
   ],
   "source": [
    "\"ABC\".index(\"D\")"
   ]
  }
 ],
 "metadata": {
  "kernelspec": {
   "display_name": "marubatsu",
   "language": "python",
   "name": "python3"
  },
  "language_info": {
   "codemirror_mode": {
    "name": "ipython",
    "version": 3
   },
   "file_extension": ".py",
   "mimetype": "text/x-python",
   "name": "python",
   "nbconvert_exporter": "python",
   "pygments_lexer": "ipython3",
   "version": "3.11.4"
  }
 },
 "nbformat": 4,
 "nbformat_minor": 2
}
