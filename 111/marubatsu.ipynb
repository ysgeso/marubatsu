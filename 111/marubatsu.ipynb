{
 "cells": [
  {
   "cell_type": "code",
   "execution_count": 1,
   "metadata": {},
   "outputs": [],
   "source": [
    "from marubatsu import Marubatsu\n",
    "from tree import Mbtree\n",
    "\n",
    "mbtree = Mbtree.load(\"../data/aidata\")\n",
    "bestmoves_by_board = {}\n",
    "mblist_by_board = []\n",
    "for node in mbtree.nodelist:\n",
    "    txt = node.mb.board_to_str()\n",
    "    if not txt in bestmoves_by_board.keys():\n",
    "        bestmoves_by_board[txt] = node.bestmoves\n",
    "        if node.mb.status == Marubatsu.PLAYING and len(node.children) != len(node.bestmoves):\n",
    "            mblist_by_board.append(node.mb)"
   ]
  },
  {
   "cell_type": "code",
   "execution_count": 2,
   "metadata": {},
   "outputs": [
    {
     "name": "stdout",
     "output_type": "stream",
     "text": [
      "3191\n"
     ]
    }
   ],
   "source": [
    "print(len(mblist_by_board))"
   ]
  },
  {
   "cell_type": "code",
   "execution_count": 3,
   "metadata": {},
   "outputs": [],
   "source": [
    "registered_boards = []\n",
    "mblist_by_board = []\n",
    "for node in mbtree.nodelist:\n",
    "    txt = node.mb.board_to_str()\n",
    "    if not txt in registered_boards:\n",
    "        registered_boards.append(txt)\n",
    "        if node.mb.status == Marubatsu.PLAYING and len(node.children) != len(node.bestmoves):\n",
    "            mblist_by_board.append(node.mb)"
   ]
  },
  {
   "cell_type": "code",
   "execution_count": 4,
   "metadata": {},
   "outputs": [
    {
     "name": "stdout",
     "output_type": "stream",
     "text": [
      "3191\n"
     ]
    }
   ],
   "source": [
    "print(len(mblist_by_board))"
   ]
  },
  {
   "cell_type": "code",
   "execution_count": 5,
   "metadata": {},
   "outputs": [],
   "source": [
    "registered_boards = set()\n",
    "mblist_by_board = []\n",
    "for node in mbtree.nodelist:\n",
    "    txt = node.mb.board_to_str()\n",
    "    if not txt in registered_boards:\n",
    "        registered_boards.add(txt)\n",
    "        if node.mb.status == Marubatsu.PLAYING and len(node.children) != len(node.bestmoves):\n",
    "            mblist_by_board.append(node.mb)"
   ]
  },
  {
   "cell_type": "code",
   "execution_count": 6,
   "metadata": {},
   "outputs": [
    {
     "name": "stdout",
     "output_type": "stream",
     "text": [
      "3191\n"
     ]
    }
   ],
   "source": [
    "print(len(mblist_by_board))"
   ]
  },
  {
   "cell_type": "code",
   "execution_count": 7,
   "metadata": {},
   "outputs": [],
   "source": [
    "import pickle\n",
    "import gzip\n",
    "with gzip.open(\"../data/mblist_by_board2.dat\", \"wb\") as f:\n",
    "    pickle.dump(mblist_by_board, f)"
   ]
  },
  {
   "cell_type": "code",
   "execution_count": 8,
   "metadata": {},
   "outputs": [],
   "source": [
    "from util import Check_solved, load_bestmoves, load_mblist\n",
    "from tqdm import tqdm\n",
    "\n",
    "@staticmethod\n",
    "def is_strongly_solved(ai, params=None):\n",
    "    if Check_solved.bestmoves_by_board is None:\n",
    "        Check_solved.bestmoves_by_board = load_bestmoves(\"../data/bestmoves_by_board.dat\")\n",
    "    if Check_solved.mblist_by_board is None:\n",
    "        Check_solved.mblist_by_board = load_mblist(\"../data/mblist_by_board2.dat\")            \n",
    "    if params is None:\n",
    "        params = {}\n",
    "    count = 0\n",
    "    incorrectlist = []\n",
    "    for mb in tqdm(Check_solved.mblist_by_board):\n",
    "        candidate = set(ai(mb, candidate=True, **params))\n",
    "        bestmoves = set(Check_solved.bestmoves_by_board[mb.board_to_str()])\n",
    "        if candidate <= bestmoves:\n",
    "            count += 1\n",
    "        else:\n",
    "            incorrectlist.append((mb, candidate, bestmoves))\n",
    "    nodenum = len(Check_solved.mblist_by_board)\n",
    "    print(f\"{count}/{nodenum} {count/nodenum*100:.2f}%\")\n",
    "    return count == nodenum, incorrectlist\n",
    "\n",
    "Check_solved.is_strongly_solved = is_strongly_solved"
   ]
  },
  {
   "cell_type": "code",
   "execution_count": 9,
   "metadata": {},
   "outputs": [
    {
     "name": "stderr",
     "output_type": "stream",
     "text": [
      "100%|██████████| 3191/3191 [00:00<00:00, 3360.41it/s]"
     ]
    },
    {
     "name": "stdout",
     "output_type": "stream",
     "text": [
      "0/3191 0.00%\n",
      "False\n"
     ]
    },
    {
     "name": "stderr",
     "output_type": "stream",
     "text": [
      "\n"
     ]
    }
   ],
   "source": [
    "from ai import ai2s, ai14s, ai_gt6\n",
    "result, incorrectlist = Check_solved.is_strongly_solved(ai2s)\n",
    "print(result)"
   ]
  },
  {
   "cell_type": "code",
   "execution_count": 10,
   "metadata": {},
   "outputs": [
    {
     "name": "stderr",
     "output_type": "stream",
     "text": [
      "100%|██████████| 3191/3191 [00:01<00:00, 2682.52it/s]"
     ]
    },
    {
     "name": "stdout",
     "output_type": "stream",
     "text": [
      "3139/3191 98.37%\n",
      "False\n"
     ]
    },
    {
     "name": "stderr",
     "output_type": "stream",
     "text": [
      "\n"
     ]
    }
   ],
   "source": [
    "result, incorrectlist = Check_solved.is_strongly_solved(ai14s)\n",
    "print(result)"
   ]
  },
  {
   "cell_type": "code",
   "execution_count": 11,
   "metadata": {},
   "outputs": [
    {
     "name": "stderr",
     "output_type": "stream",
     "text": [
      "100%|██████████| 3191/3191 [00:00<00:00, 110275.47it/s]"
     ]
    },
    {
     "name": "stdout",
     "output_type": "stream",
     "text": [
      "3191/3191 100.00%\n",
      "True\n"
     ]
    },
    {
     "name": "stderr",
     "output_type": "stream",
     "text": [
      "\n"
     ]
    }
   ],
   "source": [
    "from util import load_bestmoves\n",
    "bestmoves = load_bestmoves(\"../data/bestmoves_by_board.dat\")\n",
    "result, incorrectlist = Check_solved.is_strongly_solved(ai_gt6, params={\"bestmoves_by_board\": bestmoves})\n",
    "print(result)"
   ]
  },
  {
   "cell_type": "code",
   "execution_count": 12,
   "metadata": {},
   "outputs": [
    {
     "name": "stdout",
     "output_type": "stream",
     "text": [
      "Turn x\n",
      "xO.\n",
      ".o.\n",
      "...\n",
      "\n",
      "Turn x\n",
      "..x\n",
      ".oo\n",
      "...\n",
      "\n"
     ]
    }
   ],
   "source": [
    "mb = Marubatsu()\n",
    "mb.move(1, 1)\n",
    "mb.move(0, 0)\n",
    "mb.move(1, 0)\n",
    "print(mb)\n",
    "\n",
    "board = []\n",
    "for x in range(mb.BOARD_SIZE):\n",
    "    col = []\n",
    "    for y in range(mb.BOARD_SIZE):\n",
    "        col.append(mb.board[y][2 - x])\n",
    "    board.append(col)\n",
    "mb.board = board\n",
    "print(mb)"
   ]
  },
  {
   "cell_type": "code",
   "execution_count": 13,
   "metadata": {},
   "outputs": [
    {
     "name": "stdout",
     "output_type": "stream",
     "text": [
      "....o.xo.\n"
     ]
    }
   ],
   "source": [
    "print(mb.board_to_str())"
   ]
  },
  {
   "cell_type": "code",
   "execution_count": 14,
   "metadata": {},
   "outputs": [
    {
     "name": "stdout",
     "output_type": "stream",
     "text": [
      "....o.xo.\n"
     ]
    }
   ],
   "source": [
    "mb = Marubatsu()\n",
    "mb.move(1, 1)\n",
    "mb.move(0, 0)\n",
    "mb.move(1, 0)\n",
    "\n",
    "txt = \"\"\n",
    "for x in range(mb.BOARD_SIZE):\n",
    "    for y in range(mb.BOARD_SIZE):\n",
    "        txt += mb.board[y][2 - x]\n",
    "print(txt)"
   ]
  },
  {
   "cell_type": "code",
   "execution_count": 15,
   "metadata": {},
   "outputs": [],
   "source": [
    "def calc_same_boardtexts(mb):\n",
    "    data = [ [ 0,  0,  1, 1, -1,  0],\n",
    "             [ 1, -1,  0, 1,  0, -1],\n",
    "             [ 1,  0, -1, 0,  1,  0],\n",
    "             [ 1, -1,  0, 0,  0,  1],\n",
    "             [ 0,  1,  0, 1,  0, -1],\n",
    "             [ 1,  0, -1, 1, -1,  0],\n",
    "             [ 0,  0,  1, 0,  1,  0], ]\n",
    "    boardtexts = set([mb.board_to_str()])\n",
    "    for xa, xb, xc, ya, yb, yc in data:\n",
    "        txt = \"\"\n",
    "        for x in range(mb.BOARD_SIZE):\n",
    "            for y in range(mb.BOARD_SIZE):\n",
    "                txt += mb.board[xa * 2 + xb * x + xc * y][ya * 2 + yb * x + yc * y]\n",
    "        boardtexts.add(txt)\n",
    "    return boardtexts"
   ]
  },
  {
   "cell_type": "code",
   "execution_count": 16,
   "metadata": {},
   "outputs": [
    {
     "name": "stdout",
     "output_type": "stream",
     "text": [
      "{'..x.oo...', '....o.xo.', 'x..oo....', 'xo..o....', '...oo.x..', '....oo..x', '.ox.o....', '....o..ox'}\n"
     ]
    }
   ],
   "source": [
    "print(calc_same_boardtexts(mb))"
   ]
  },
  {
   "cell_type": "code",
   "execution_count": 17,
   "metadata": {},
   "outputs": [
    {
     "name": "stdout",
     "output_type": "stream",
     "text": [
      "{'.........'}\n"
     ]
    }
   ],
   "source": [
    "mb.restart() # ゲームをリセットする\n",
    "print(calc_same_boardtexts(mb))"
   ]
  },
  {
   "cell_type": "code",
   "execution_count": 18,
   "metadata": {},
   "outputs": [],
   "source": [
    "registered_boards = set()\n",
    "mblist_by_board = []\n",
    "for node in mbtree.nodelist:\n",
    "    txt = node.mb.board_to_str()\n",
    "    if not txt in registered_boards:\n",
    "        registered_boards |= calc_same_boardtexts(node.mb)\n",
    "        mblist_by_board.append(node.mb)"
   ]
  },
  {
   "cell_type": "code",
   "execution_count": 19,
   "metadata": {},
   "outputs": [
    {
     "name": "stdout",
     "output_type": "stream",
     "text": [
      "765\n"
     ]
    }
   ],
   "source": [
    "print(len(mblist_by_board))"
   ]
  },
  {
   "cell_type": "code",
   "execution_count": 20,
   "metadata": {},
   "outputs": [],
   "source": [
    "registered_boards = set()\n",
    "mblist_by_board = []\n",
    "for node in mbtree.nodelist:\n",
    "    txt = node.mb.board_to_str()\n",
    "    if not txt in registered_boards:\n",
    "        registered_boards |= calc_same_boardtexts(node.mb)\n",
    "        if node.mb.status == Marubatsu.PLAYING and len(node.children) != len(node.bestmoves):\n",
    "            mblist_by_board.append(node.mb)"
   ]
  },
  {
   "cell_type": "code",
   "execution_count": 21,
   "metadata": {},
   "outputs": [
    {
     "name": "stdout",
     "output_type": "stream",
     "text": [
      "431\n"
     ]
    }
   ],
   "source": [
    "print(len(mblist_by_board))"
   ]
  },
  {
   "cell_type": "code",
   "execution_count": 22,
   "metadata": {},
   "outputs": [],
   "source": [
    "with gzip.open(\"../data/mblist_by_board_min.dat\", \"wb\") as f:\n",
    "    pickle.dump(mblist_by_board, f)"
   ]
  },
  {
   "cell_type": "code",
   "execution_count": 23,
   "metadata": {},
   "outputs": [],
   "source": [
    "@staticmethod\n",
    "def is_strongly_solved(ai, params=None):\n",
    "    if Check_solved.bestmoves_by_board is None:\n",
    "        Check_solved.bestmoves_by_board = load_bestmoves(\"../data/bestmoves_by_board.dat\")\n",
    "    if Check_solved.mblist_by_board is None:\n",
    "        Check_solved.mblist_by_board = load_mblist(\"../data/mblist_by_board_min.dat\")            \n",
    "    if params is None:\n",
    "        params = {}\n",
    "    count = 0\n",
    "    incorrectlist = []\n",
    "    for mb in tqdm(Check_solved.mblist_by_board):\n",
    "        candidate = set(ai(mb, candidate=True, **params))\n",
    "        bestmoves = set(Check_solved.bestmoves_by_board[mb.board_to_str()])\n",
    "        if candidate <= bestmoves:\n",
    "            count += 1\n",
    "        else:\n",
    "            incorrectlist.append((mb, candidate, bestmoves))\n",
    "    nodenum = len(Check_solved.mblist_by_board)\n",
    "    print(f\"{count}/{nodenum} {count/nodenum*100:.2f}%\")\n",
    "    return count == nodenum, incorrectlist\n",
    "\n",
    "Check_solved.is_strongly_solved = is_strongly_solved\n",
    "Check_solved.mblist_by_board = None"
   ]
  },
  {
   "cell_type": "code",
   "execution_count": 24,
   "metadata": {},
   "outputs": [
    {
     "name": "stderr",
     "output_type": "stream",
     "text": [
      "100%|██████████| 431/431 [00:00<00:00, 3734.25it/s]"
     ]
    },
    {
     "name": "stdout",
     "output_type": "stream",
     "text": [
      "0/431 0.00%\n",
      "False\n"
     ]
    },
    {
     "name": "stderr",
     "output_type": "stream",
     "text": [
      "\n"
     ]
    }
   ],
   "source": [
    "result, incorrectlist = Check_solved.is_strongly_solved(ai2s)\n",
    "print(result)"
   ]
  },
  {
   "cell_type": "code",
   "execution_count": 25,
   "metadata": {},
   "outputs": [
    {
     "name": "stderr",
     "output_type": "stream",
     "text": [
      "100%|██████████| 431/431 [00:00<00:00, 2177.32it/s]"
     ]
    },
    {
     "name": "stdout",
     "output_type": "stream",
     "text": [
      "424/431 98.38%\n",
      "False\n"
     ]
    },
    {
     "name": "stderr",
     "output_type": "stream",
     "text": [
      "\n"
     ]
    }
   ],
   "source": [
    "result, incorrectlist = Check_solved.is_strongly_solved(ai14s)\n",
    "print(result)"
   ]
  },
  {
   "cell_type": "code",
   "execution_count": 26,
   "metadata": {},
   "outputs": [
    {
     "name": "stdout",
     "output_type": "stream",
     "text": [
      "Turn o\n",
      "o.X\n",
      "...\n",
      "...\n",
      "\n",
      "candidates {(1, 1)}\n",
      "best_moves {(0, 1), (0, 2), (2, 2)}\n",
      "Turn x\n",
      "oOx\n",
      "...\n",
      "...\n",
      "\n",
      "candidates {(1, 1)}\n",
      "best_moves {(2, 1), (2, 2)}\n",
      "Turn x\n",
      "o.x\n",
      "...\n",
      ".O.\n",
      "\n",
      "candidates {(1, 1)}\n",
      "best_moves {(2, 2)}\n",
      "Turn x\n",
      "xo.\n",
      "..O\n",
      "...\n",
      "\n",
      "candidates {(1, 1)}\n",
      "best_moves {(0, 2)}\n",
      "Turn x\n",
      ".o.\n",
      "x.O\n",
      "...\n",
      "\n",
      "candidates {(0, 0)}\n",
      "best_moves {(2, 0), (2, 2)}\n",
      "Turn o\n",
      ".o.\n",
      "...\n",
      "X..\n",
      "\n",
      "candidates {(1, 1)}\n",
      "best_moves {(0, 0)}\n",
      "Turn x\n",
      ".o.\n",
      "..O\n",
      "x..\n",
      "\n",
      "candidates {(1, 1)}\n",
      "best_moves {(2, 2), (0, 0)}\n"
     ]
    }
   ],
   "source": [
    "for mb, candidates, best_moves in incorrectlist:\n",
    "    print(mb)\n",
    "    print(\"candidates\", candidates)\n",
    "    print(\"best_moves\", best_moves)"
   ]
  },
  {
   "cell_type": "code",
   "execution_count": 27,
   "metadata": {},
   "outputs": [
    {
     "name": "stderr",
     "output_type": "stream",
     "text": [
      "100%|██████████| 431/431 [00:00<00:00, 143540.18it/s]"
     ]
    },
    {
     "name": "stdout",
     "output_type": "stream",
     "text": [
      "431/431 100.00%\n",
      "True\n"
     ]
    },
    {
     "name": "stderr",
     "output_type": "stream",
     "text": [
      "\n"
     ]
    }
   ],
   "source": [
    "result, incorrectlist = Check_solved.is_strongly_solved(ai_gt6, params={\"bestmoves_by_board\": bestmoves})\n",
    "print(result)"
   ]
  }
 ],
 "metadata": {
  "kernelspec": {
   "display_name": "marubatsu",
   "language": "python",
   "name": "python3"
  },
  "language_info": {
   "codemirror_mode": {
    "name": "ipython",
    "version": 3
   },
   "file_extension": ".py",
   "mimetype": "text/x-python",
   "name": "python",
   "nbconvert_exporter": "python",
   "pygments_lexer": "ipython3",
   "version": "3.11.4"
  }
 },
 "nbformat": 4,
 "nbformat_minor": 2
}
