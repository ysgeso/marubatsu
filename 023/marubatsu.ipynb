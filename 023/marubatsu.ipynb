{
 "cells": [
  {
   "cell_type": "code",
   "execution_count": 1,
   "metadata": {},
   "outputs": [],
   "source": [
    "from marubatsu import Marubatsu\n",
    "\n",
    "Marubatsu.DRAW = \"draw\""
   ]
  },
  {
   "cell_type": "code",
   "execution_count": 2,
   "metadata": {},
   "outputs": [],
   "source": [
    "def judge(self):\n",
    "    winner = Marubatsu.CIRCLE\n",
    "    playing = False\n",
    "    return winner, playing\n",
    "\n",
    "Marubatsu.judge = judge"
   ]
  },
  {
   "cell_type": "code",
   "execution_count": 3,
   "metadata": {},
   "outputs": [
    {
     "name": "stdout",
     "output_type": "stream",
     "text": [
      "o\n",
      "False\n"
     ]
    }
   ],
   "source": [
    "mb = Marubatsu()\n",
    "winner, playing = mb.judge()\n",
    "print(winner)\n",
    "print(playing)"
   ]
  },
  {
   "cell_type": "code",
   "execution_count": 4,
   "metadata": {},
   "outputs": [],
   "source": [
    "def judge(self):\n",
    "    # (0, 0) が 〇 であることを判定する\n",
    "    if self.board[0][0] == Marubatsu.CIRCLE:\n",
    "        # さらに、(1, 0) が 〇 であることを判定する\n",
    "        if self.board[1][0] == Marubatsu.CIRCLE:\n",
    "            # さらに、(2, 0) が 〇 であることを判定する\n",
    "            if self.board[2][0] == Marubatsu.CIRCLE:\n",
    "                # 〇 が勝利する\n",
    "                winner = Marubatsu.CIRCLE\n",
    "\n",
    "    # winner を返り値として返す\n",
    "    return winner\n",
    "\n",
    "Marubatsu.judge = judge"
   ]
  },
  {
   "cell_type": "code",
   "execution_count": 5,
   "metadata": {},
   "outputs": [
    {
     "ename": "UnboundLocalError",
     "evalue": "cannot access local variable 'winner' where it is not associated with a value",
     "output_type": "error",
     "traceback": [
      "\u001b[1;31m---------------------------------------------------------------------------\u001b[0m",
      "\u001b[1;31mUnboundLocalError\u001b[0m                         Traceback (most recent call last)",
      "\u001b[1;32mc:\\Users\\ys\\ai\\marubatsu\\023\\marubatsu.ipynb セル 5\u001b[0m line \u001b[0;36m4\n\u001b[0;32m      <a href='vscode-notebook-cell:/c%3A/Users/ys/ai/marubatsu/023/marubatsu.ipynb#W4sZmlsZQ%3D%3D?line=0'>1</a>\u001b[0m mb \u001b[39m=\u001b[39m Marubatsu()\n\u001b[0;32m      <a href='vscode-notebook-cell:/c%3A/Users/ys/ai/marubatsu/023/marubatsu.ipynb#W4sZmlsZQ%3D%3D?line=2'>3</a>\u001b[0m \u001b[39m# ゲーム開始直後に judge メソッドを呼び出して表示する\u001b[39;00m\n\u001b[1;32m----> <a href='vscode-notebook-cell:/c%3A/Users/ys/ai/marubatsu/023/marubatsu.ipynb#W4sZmlsZQ%3D%3D?line=3'>4</a>\u001b[0m \u001b[39mprint\u001b[39m(mb\u001b[39m.\u001b[39mjudge())\n\u001b[0;32m      <a href='vscode-notebook-cell:/c%3A/Users/ys/ai/marubatsu/023/marubatsu.ipynb#W4sZmlsZQ%3D%3D?line=5'>6</a>\u001b[0m \u001b[39m# 0 列に 〇 を配置してから judge メソッドを呼び出して表示する\u001b[39;00m\n\u001b[0;32m      <a href='vscode-notebook-cell:/c%3A/Users/ys/ai/marubatsu/023/marubatsu.ipynb#W4sZmlsZQ%3D%3D?line=6'>7</a>\u001b[0m mb\u001b[39m.\u001b[39mplace_mark(\u001b[39m0\u001b[39m, \u001b[39m0\u001b[39m, Marubatsu\u001b[39m.\u001b[39mCIRCLE)\n",
      "\u001b[1;32mc:\\Users\\ys\\ai\\marubatsu\\023\\marubatsu.ipynb セル 5\u001b[0m line \u001b[0;36m1\n\u001b[0;32m      <a href='vscode-notebook-cell:/c%3A/Users/ys/ai/marubatsu/023/marubatsu.ipynb#W4sZmlsZQ%3D%3D?line=8'>9</a>\u001b[0m             winner \u001b[39m=\u001b[39m Marubatsu\u001b[39m.\u001b[39mCIRCLE\n\u001b[0;32m     <a href='vscode-notebook-cell:/c%3A/Users/ys/ai/marubatsu/023/marubatsu.ipynb#W4sZmlsZQ%3D%3D?line=10'>11</a>\u001b[0m \u001b[39m# winner を返り値として返す\u001b[39;00m\n\u001b[1;32m---> <a href='vscode-notebook-cell:/c%3A/Users/ys/ai/marubatsu/023/marubatsu.ipynb#W4sZmlsZQ%3D%3D?line=11'>12</a>\u001b[0m \u001b[39mreturn\u001b[39;00m winner\n",
      "\u001b[1;31mUnboundLocalError\u001b[0m: cannot access local variable 'winner' where it is not associated with a value"
     ]
    }
   ],
   "source": [
    "mb = Marubatsu()\n",
    "\n",
    "# ゲーム開始直後に judge メソッドを呼び出して表示する\n",
    "print(mb.judge())\n",
    "\n",
    "# 0 列に 〇 を配置してから judge メソッドを呼び出して表示する\n",
    "mb.place_mark(0, 0, Marubatsu.CIRCLE)\n",
    "mb.place_mark(1, 0, Marubatsu.CIRCLE)\n",
    "mb.place_mark(2, 0, Marubatsu.CIRCLE)\n",
    "print(mb.judge())"
   ]
  },
  {
   "cell_type": "code",
   "execution_count": 6,
   "metadata": {},
   "outputs": [],
   "source": [
    "def judge(self):\n",
    "    # 判定を行う前に、決着がついていないことにしておく\n",
    "    winner = None\n",
    "    # (0, 0) が 〇 であることを判定する\n",
    "    if self.board[0][0] == Marubatsu.CIRCLE:\n",
    "        # さらに、(1, 0) が 〇 であることを判定する\n",
    "        if self.board[1][0] == Marubatsu.CIRCLE:\n",
    "            # さらに、(2, 0) が 〇 であることを判定する\n",
    "            if self.board[2][0] == Marubatsu.CIRCLE:\n",
    "                # 〇 が勝利する\n",
    "                winner = Marubatsu.CIRCLE\n",
    "  \n",
    "    # winner を返り値として返す\n",
    "    return winner\n",
    "\n",
    "Marubatsu.judge = judge"
   ]
  },
  {
   "cell_type": "code",
   "execution_count": 7,
   "metadata": {},
   "outputs": [
    {
     "name": "stdout",
     "output_type": "stream",
     "text": [
      "None\n",
      "o\n"
     ]
    }
   ],
   "source": [
    "mb = Marubatsu()\n",
    "\n",
    "# ゲーム開始直後に judge メソッドを呼び出して表示する\n",
    "print(mb.judge())\n",
    "\n",
    "# 0 列に 〇 を配置してから judge メソッドを呼び出して表示する\n",
    "mb.place_mark(0, 0, Marubatsu.CIRCLE)\n",
    "mb.place_mark(1, 0, Marubatsu.CIRCLE)\n",
    "mb.place_mark(2, 0, Marubatsu.CIRCLE)\n",
    "print(mb.judge())"
   ]
  },
  {
   "cell_type": "code",
   "execution_count": 8,
   "metadata": {},
   "outputs": [],
   "source": [
    "def judge(self):\n",
    "    # (0, 0) が 〇 であることを判定する\n",
    "    if self.board[0][0] == Marubatsu.CIRCLE:\n",
    "        # さらに、(1, 0) が 〇 であることを判定する\n",
    "        if self.board[1][0] == Marubatsu.CIRCLE:\n",
    "            # さらに、(2, 0) が 〇 であることを判定する\n",
    "            if self.board[2][0] == Marubatsu.CIRCLE:\n",
    "                # 〇 が勝利する\n",
    "                winner = Marubatsu.CIRCLE\n",
    "            else:\n",
    "                winner = None\n",
    "        else:\n",
    "            winner = None\n",
    "    else:\n",
    "        winner = None\n",
    "\n",
    "    # winner を返り値として返す\n",
    "    return winner"
   ]
  },
  {
   "cell_type": "code",
   "execution_count": 9,
   "metadata": {},
   "outputs": [
    {
     "name": "stdout",
     "output_type": "stream",
     "text": [
      "None\n",
      "o\n"
     ]
    }
   ],
   "source": [
    "mb = Marubatsu()\n",
    "\n",
    "# ゲーム開始直後に judge メソッドを呼び出して表示する\n",
    "print(mb.judge())\n",
    "\n",
    "# 0 列に 〇 を配置してから judge メソッドを呼び出して表示する\n",
    "mb.place_mark(0, 0, Marubatsu.CIRCLE)\n",
    "mb.place_mark(1, 0, Marubatsu.CIRCLE)\n",
    "mb.place_mark(2, 0, Marubatsu.CIRCLE)\n",
    "print(mb.judge())"
   ]
  },
  {
   "cell_type": "code",
   "execution_count": 10,
   "metadata": {},
   "outputs": [
    {
     "name": "stdout",
     "output_type": "stream",
     "text": [
      "True\n",
      "False\n",
      "False\n",
      "False\n"
     ]
    }
   ],
   "source": [
    "print(True and True)\n",
    "print(True and False)\n",
    "print(False and True)\n",
    "print(False and False)"
   ]
  },
  {
   "cell_type": "code",
   "execution_count": 11,
   "metadata": {},
   "outputs": [
    {
     "name": "stdout",
     "output_type": "stream",
     "text": [
      "True\n",
      "True\n",
      "True\n",
      "False\n"
     ]
    }
   ],
   "source": [
    "print(True or True)\n",
    "print(True or False)\n",
    "print(False or True)\n",
    "print(False or False)"
   ]
  },
  {
   "cell_type": "code",
   "execution_count": 12,
   "metadata": {},
   "outputs": [
    {
     "name": "stdout",
     "output_type": "stream",
     "text": [
      "False\n",
      "True\n"
     ]
    }
   ],
   "source": [
    "print(not True)\n",
    "print(not False)"
   ]
  },
  {
   "cell_type": "code",
   "execution_count": 13,
   "metadata": {},
   "outputs": [
    {
     "name": "stdout",
     "output_type": "stream",
     "text": [
      "True\n"
     ]
    }
   ],
   "source": [
    "print(1 * 2 + 3 >= 4 or 5 > 6 and not True)"
   ]
  },
  {
   "cell_type": "code",
   "execution_count": 14,
   "metadata": {},
   "outputs": [
    {
     "name": "stdout",
     "output_type": "stream",
     "text": [
      "True\n"
     ]
    }
   ],
   "source": [
    "print((1 * 2 + 3 >= 4) or ((5 > 6) and (not True)))"
   ]
  },
  {
   "cell_type": "code",
   "execution_count": 15,
   "metadata": {},
   "outputs": [
    {
     "name": "stdout",
     "output_type": "stream",
     "text": [
      "False\n"
     ]
    }
   ],
   "source": [
    "print(1 > 2 or 3 < 4 and 5 > 6)"
   ]
  },
  {
   "cell_type": "code",
   "execution_count": 16,
   "metadata": {},
   "outputs": [],
   "source": [
    "def p(x):\n",
    "    print(x)\n",
    "    return x"
   ]
  },
  {
   "cell_type": "code",
   "execution_count": 17,
   "metadata": {},
   "outputs": [
    {
     "name": "stdout",
     "output_type": "stream",
     "text": [
      "1\n",
      "2\n",
      "3\n",
      "4\n",
      "answer =  True\n"
     ]
    }
   ],
   "source": [
    "print(\"answer = \", p(1) + p(2) * p(3) >= p(4) or p(5) > p(6) and not p(True))"
   ]
  },
  {
   "cell_type": "code",
   "execution_count": 18,
   "metadata": {},
   "outputs": [],
   "source": [
    "def judge(self):\n",
    "    # 判定を行う前に、決着がついていないことにしておく\n",
    "    winner = None\n",
    "    # 0 行に 〇 が並んでいることを判定する\n",
    "    if self.board[0][0] == Marubatsu.CIRCLE and self.board[1][0] == Marubatsu.CIRCLE and self.board[2][0] == Marubatsu.CIRCLE:\n",
    "        # 〇 が勝利する\n",
    "        winner = Marubatsu.CIRCLE\n",
    "  \n",
    "    # winner を返り値として返す\n",
    "    return winner\n",
    "\n",
    "Marubatsu.judge = judge"
   ]
  },
  {
   "cell_type": "code",
   "execution_count": 19,
   "metadata": {},
   "outputs": [
    {
     "name": "stdout",
     "output_type": "stream",
     "text": [
      "None\n",
      "o\n"
     ]
    }
   ],
   "source": [
    "mb = Marubatsu()\n",
    "\n",
    "# ゲーム開始直後に judge メソッドを呼び出して表示する\n",
    "print(mb.judge())\n",
    "\n",
    "# 0 列に 〇 を配置してから judge メソッドを呼び出して表示する\n",
    "mb.place_mark(0, 0, Marubatsu.CIRCLE)\n",
    "mb.place_mark(1, 0, Marubatsu.CIRCLE)\n",
    "mb.place_mark(2, 0, Marubatsu.CIRCLE)\n",
    "print(mb.judge())"
   ]
  },
  {
   "cell_type": "code",
   "execution_count": 20,
   "metadata": {},
   "outputs": [],
   "source": [
    "def judge(self):\n",
    "    # 判定を行う前に、決着がついていないことにしておく\n",
    "    winner = None\n",
    "    # 0 行に 〇 が並んでいることを判定する\n",
    "    if self.board[0][0] == Marubatsu.CIRCLE and \\\n",
    "       self.board[1][0] == Marubatsu.CIRCLE and \\\n",
    "       self.board[2][0] == Marubatsu.CIRCLE:\n",
    "        # 〇 が勝利する\n",
    "        winner = Marubatsu.CIRCLE\n",
    "  \n",
    "    # winner を返り値として返す\n",
    "    return winner\n",
    "\n",
    "Marubatsu.judge = judge"
   ]
  },
  {
   "cell_type": "code",
   "execution_count": 21,
   "metadata": {},
   "outputs": [
    {
     "name": "stdout",
     "output_type": "stream",
     "text": [
      "None\n",
      "o\n"
     ]
    }
   ],
   "source": [
    "mb = Marubatsu()\n",
    "\n",
    "# ゲーム開始直後に judge メソッドを呼び出して表示する\n",
    "print(mb.judge())\n",
    "\n",
    "# 0 列に 〇 を配置してから judge メソッドを呼び出して表示する\n",
    "mb.place_mark(0, 0, Marubatsu.CIRCLE)\n",
    "mb.place_mark(1, 0, Marubatsu.CIRCLE)\n",
    "mb.place_mark(2, 0, Marubatsu.CIRCLE)\n",
    "print(mb.judge())"
   ]
  },
  {
   "cell_type": "code",
   "execution_count": 22,
   "metadata": {},
   "outputs": [],
   "source": [
    "def judge(self):\n",
    "    # 判定を行う前に、決着がついていないことにしておく\n",
    "    winner = None\n",
    "    # 0 行に 〇 が並んでいることを判定する\n",
    "    if self.board[0][0] == self.board[1][0] == self.board[2][0] == Marubatsu.CIRCLE:\n",
    "        # 〇 が勝利する\n",
    "        winner = Marubatsu.CIRCLE\n",
    "  \n",
    "    # winner を返り値として返す\n",
    "    return winner\n",
    "\n",
    "Marubatsu.judge = judge"
   ]
  },
  {
   "cell_type": "code",
   "execution_count": 23,
   "metadata": {},
   "outputs": [
    {
     "name": "stdout",
     "output_type": "stream",
     "text": [
      "None\n",
      "o\n"
     ]
    }
   ],
   "source": [
    "mb = Marubatsu()\n",
    "\n",
    "# ゲーム開始直後に judge メソッドを呼び出して表示する\n",
    "print(mb.judge())\n",
    "\n",
    "# 0 列に 〇 を配置してから judge メソッドを呼び出して表示する\n",
    "mb.place_mark(0, 0, Marubatsu.CIRCLE)\n",
    "mb.place_mark(1, 0, Marubatsu.CIRCLE)\n",
    "mb.place_mark(2, 0, Marubatsu.CIRCLE)\n",
    "print(mb.judge())"
   ]
  },
  {
   "cell_type": "code",
   "execution_count": 24,
   "metadata": {},
   "outputs": [],
   "source": [
    "def judge(self):\n",
    "    # 判定を行う前に、決着がついていないことにしておく\n",
    "    winner = None\n",
    "    # 0 行の 〇 の勝利の判定\n",
    "    if self.board[0][0] == self.board[1][0] == self.board[2][0] == Marubatsu.CIRCLE:\n",
    "        winner = Marubatsu.CIRCLE\n",
    "    # 1 行の 〇 の勝利の判定\n",
    "    if self.board[0][1] == self.board[1][1] == self.board[2][1] == Marubatsu.CIRCLE:\n",
    "        winner = Marubatsu.CIRCLE\n",
    "    # 2 行の 〇 の勝利の判定\n",
    "    if self.board[0][2] == self.board[1][2] == self.board[2][2] == Marubatsu.CIRCLE:\n",
    "        winner = Marubatsu.CIRCLE\n",
    "    # 0 列の 〇 の勝利の判定\n",
    "    if self.board[0][0] == self.board[0][1] == self.board[0][2] == Marubatsu.CIRCLE:\n",
    "        winner = Marubatsu.CIRCLE\n",
    "    # 1 列の 〇 の勝利の判定\n",
    "    if self.board[1][0] == self.board[1][1] == self.board[1][2] == Marubatsu.CIRCLE:\n",
    "        winner = Marubatsu.CIRCLE\n",
    "    # 2 列の 〇 の勝利の判定\n",
    "    if self.board[2][0] == self.board[2][1] == self.board[2][2] == Marubatsu.CIRCLE:\n",
    "        winner = Marubatsu.CIRCLE\n",
    "    # 右下方向の斜めの 〇 の勝利の判定\n",
    "    if self.board[0][0] == self.board[1][1] == self.board[2][2] == Marubatsu.CIRCLE:\n",
    "        winner = Marubatsu.CIRCLE\n",
    "    # 左下方向の斜めの 〇 の勝利の判定\n",
    "    if self.board[2][0] == self.board[1][1] == self.board[0][2] == Marubatsu.CIRCLE:\n",
    "        winner = Marubatsu.CIRCLE\n",
    "\n",
    "    # winner を返り値として返す\n",
    "    return winner"
   ]
  },
  {
   "cell_type": "code",
   "execution_count": 25,
   "metadata": {},
   "outputs": [],
   "source": [
    "def judge(self):\n",
    "    # 判定を行う前に、決着がついていないことにしておく\n",
    "    winner = None\n",
    "    # 〇 の勝利の判定\n",
    "    if self.board[0][0] == self.board[1][0] == self.board[2][0] == Marubatsu.CIRCLE or \\\n",
    "       self.board[0][1] == self.board[1][1] == self.board[2][1] == Marubatsu.CIRCLE or \\\n",
    "       self.board[0][2] == self.board[1][2] == self.board[2][2] == Marubatsu.CIRCLE or \\\n",
    "       self.board[0][0] == self.board[0][1] == self.board[0][2] == Marubatsu.CIRCLE or \\\n",
    "       self.board[1][0] == self.board[1][1] == self.board[1][2] == Marubatsu.CIRCLE or \\\n",
    "       self.board[2][0] == self.board[2][1] == self.board[2][2] == Marubatsu.CIRCLE or \\\n",
    "       self.board[0][0] == self.board[1][1] == self.board[2][2] == Marubatsu.CIRCLE or \\\n",
    "       self.board[2][0] == self.board[1][1] == self.board[0][2] == Marubatsu.CIRCLE:\n",
    "        winner = Marubatsu.CIRCLE\n",
    "\n",
    "    # winner を返り値として返す\n",
    "    return winner\n",
    "\n",
    "Marubatsu.judge = judge"
   ]
  },
  {
   "cell_type": "code",
   "execution_count": 26,
   "metadata": {},
   "outputs": [],
   "source": [
    "def judge(self):\n",
    "    # 判定を行う前に、決着がついていないことにしておく\n",
    "    winner = None\n",
    "    # 〇 の勝利の判定\n",
    "    if self.board[0][0] == self.board[1][0] == self.board[2][0] == Marubatsu.CIRCLE or \\\n",
    "       self.board[0][1] == self.board[1][1] == self.board[2][1] == Marubatsu.CIRCLE or \\\n",
    "       self.board[0][2] == self.board[1][2] == self.board[2][2] == Marubatsu.CIRCLE or \\\n",
    "       self.board[0][0] == self.board[0][1] == self.board[0][2] == Marubatsu.CIRCLE or \\\n",
    "       self.board[1][0] == self.board[1][1] == self.board[1][2] == Marubatsu.CIRCLE or \\\n",
    "       self.board[2][0] == self.board[2][1] == self.board[2][2] == Marubatsu.CIRCLE or \\\n",
    "       self.board[0][0] == self.board[1][1] == self.board[2][2] == Marubatsu.CIRCLE or \\\n",
    "       self.board[2][0] == self.board[1][1] == self.board[0][2] == Marubatsu.CIRCLE:\n",
    "        winner = Marubatsu.CIRCLE\n",
    "        \n",
    "    # × の勝利の判定\n",
    "    if self.board[0][0] == self.board[1][0] == self.board[2][0] == Marubatsu.CROSS or \\\n",
    "       self.board[0][1] == self.board[1][1] == self.board[2][1] == Marubatsu.CROSS or \\\n",
    "       self.board[0][2] == self.board[1][2] == self.board[2][2] == Marubatsu.CROSS or \\\n",
    "       self.board[0][0] == self.board[0][1] == self.board[0][2] == Marubatsu.CROSS or \\\n",
    "       self.board[1][0] == self.board[1][1] == self.board[1][2] == Marubatsu.CROSS or \\\n",
    "       self.board[2][0] == self.board[2][1] == self.board[2][2] == Marubatsu.CROSS or \\\n",
    "       self.board[0][0] == self.board[1][1] == self.board[2][2] == Marubatsu.CROSS or \\\n",
    "       self.board[2][0] == self.board[1][1] == self.board[2][2] == Marubatsu.CROSS:\n",
    "        winner = Marubatsu.CROSS        \n",
    "\n",
    "    # winner を返り値として返す\n",
    "    return winner\n",
    "\n",
    "Marubatsu.judge = judge"
   ]
  },
  {
   "cell_type": "code",
   "execution_count": 27,
   "metadata": {},
   "outputs": [],
   "source": [
    "def judge(self):\n",
    "    # 判定を行う前に、決着がついていないことにしておく\n",
    "    winner = None\n",
    "    # 〇 の勝利の判定\n",
    "    if self.board[0][0] == self.board[1][0] == self.board[2][0] == Marubatsu.CIRCLE or \\\n",
    "       self.board[0][1] == self.board[1][1] == self.board[2][1] == Marubatsu.CIRCLE or \\\n",
    "       self.board[0][2] == self.board[1][2] == self.board[2][2] == Marubatsu.CIRCLE or \\\n",
    "       self.board[0][0] == self.board[0][1] == self.board[0][2] == Marubatsu.CIRCLE or \\\n",
    "       self.board[1][0] == self.board[1][1] == self.board[1][2] == Marubatsu.CIRCLE or \\\n",
    "       self.board[2][0] == self.board[2][1] == self.board[2][2] == Marubatsu.CIRCLE or \\\n",
    "       self.board[0][0] == self.board[1][1] == self.board[2][2] == Marubatsu.CIRCLE or \\\n",
    "       self.board[2][0] == self.board[1][1] == self.board[0][2] == Marubatsu.CIRCLE:\n",
    "        winner = Marubatsu.CIRCLE\n",
    "        \n",
    "    # × の勝利の判定\n",
    "    if self.board[0][0] == self.board[1][0] == self.board[2][0] == Marubatsu.CROSS or \\\n",
    "       self.board[0][1] == self.board[1][1] == self.board[2][1] == Marubatsu.CROSS or \\\n",
    "       self.board[0][2] == self.board[1][2] == self.board[2][2] == Marubatsu.CROSS or \\\n",
    "       self.board[0][0] == self.board[0][1] == self.board[0][2] == Marubatsu.CROSS or \\\n",
    "       self.board[1][0] == self.board[1][1] == self.board[1][2] == Marubatsu.CROSS or \\\n",
    "       self.board[2][0] == self.board[2][1] == self.board[2][2] == Marubatsu.CROSS or \\\n",
    "       self.board[0][0] == self.board[1][1] == self.board[2][2] == Marubatsu.CROSS or \\\n",
    "       self.board[2][0] == self.board[1][1] == self.board[2][2] == Marubatsu.CROSS:\n",
    "        winner = Marubatsu.CROSS     \n",
    "\n",
    "    # 引き分けの判定\n",
    "    if not(self.board[0][0] == Marubatsu.EMPTY or \\\n",
    "           self.board[1][0] == Marubatsu.EMPTY or \\\n",
    "           self.board[2][0] == Marubatsu.EMPTY or \\\n",
    "           self.board[0][1] == Marubatsu.EMPTY or \\\n",
    "           self.board[1][1] == Marubatsu.EMPTY or \\\n",
    "           self.board[1][1] == Marubatsu.EMPTY or \\\n",
    "           self.board[0][2] == Marubatsu.EMPTY or \\\n",
    "           self.board[1][2] == Marubatsu.EMPTY or \\\n",
    "           self.board[2][2] == Marubatsu.EMPTY):\n",
    "        winner = Marubatsu.DRAW\n",
    "\n",
    "    # winner を返り値として返す\n",
    "    return winner\n",
    "\n",
    "Marubatsu.judge = judge"
   ]
  }
 ],
 "metadata": {
  "kernelspec": {
   "display_name": "marubatsu",
   "language": "python",
   "name": "python3"
  },
  "language_info": {
   "codemirror_mode": {
    "name": "ipython",
    "version": 3
   },
   "file_extension": ".py",
   "mimetype": "text/x-python",
   "name": "python",
   "nbconvert_exporter": "python",
   "pygments_lexer": "ipython3",
   "version": "3.11.4"
  }
 },
 "nbformat": 4,
 "nbformat_minor": 2
}
