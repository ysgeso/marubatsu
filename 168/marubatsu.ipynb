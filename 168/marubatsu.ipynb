{
 "cells": [
  {
   "cell_type": "code",
   "execution_count": 1,
   "metadata": {},
   "outputs": [],
   "source": [
    "from ai import ai_by_score, dprint\n",
    "from marubatsu import Marubatsu\n",
    "from copy import deepcopy\n",
    "\n",
    "@ai_by_score\n",
    "def ai_mtdf(mb, debug=False, shortest_victory=False, init_ab=False, use_tt=False, \n",
    "               f=0, ai_for_mo=None, params={}, sort_allnodes=False, calc_count=False):           \n",
    "    count = 0\n",
    "    def ab_search(mborig, tt, alpha=float(\"-inf\"), beta=float(\"inf\")):\n",
    "        nonlocal count\n",
    "        count += 1\n",
    "        if mborig.status == Marubatsu.CIRCLE:\n",
    "            return (11 - mborig.move_count) / 2 if shortest_victory else 1\n",
    "        elif mborig.status == Marubatsu.CROSS:\n",
    "            return (mborig.move_count - 10) / 2 if shortest_victory else -1\n",
    "        elif mborig.status == Marubatsu.DRAW:\n",
    "            return 0\n",
    "        \n",
    "        if use_tt:\n",
    "            boardtxt = mborig.board_to_str()\n",
    "            if boardtxt in tt:\n",
    "                lower_bound, upper_bound = tt[boardtxt]\n",
    "                if lower_bound == upper_bound:\n",
    "                    return lower_bound\n",
    "                elif upper_bound <= alpha:\n",
    "                    return upper_bound\n",
    "                elif beta <= lower_bound:\n",
    "                    return lower_bound\n",
    "                else:\n",
    "                    alpha = max(alpha, lower_bound)\n",
    "                    beta = min(beta, upper_bound)\n",
    "            else:\n",
    "                lower_bound = min_score\n",
    "                upper_bound = max_score\n",
    "        \n",
    "        alphaorig = alpha\n",
    "        betaorig = beta\n",
    "\n",
    "        legal_moves = mborig.calc_legal_moves()\n",
    "        if ai_for_mo is not None:\n",
    "            if sort_allnodes:\n",
    "                score_by_move = ai_for_mo(mborig, analyze=True, **params)[\"score_by_move\"]\n",
    "                score_by_move_list = sorted(score_by_move.items(), key=lambda x:x[1], reverse=True)\n",
    "                legal_moves = [x[0] for x in score_by_move_list]\n",
    "            else:\n",
    "                legal_moves = mborig.calc_legal_moves()\n",
    "                bestmove = ai_for_mo(mborig, rand=False, **params)\n",
    "                index = legal_moves.index(bestmove)\n",
    "                legal_moves[0], legal_moves[index] = legal_moves[index], legal_moves[0]\n",
    "        if mborig.turn == Marubatsu.CIRCLE:\n",
    "            score = float(\"-inf\")\n",
    "            for x, y in legal_moves:\n",
    "                mb = deepcopy(mborig)\n",
    "                mb.move(x, y)\n",
    "                score = max(score, ab_search(mb, tt, alpha, beta))\n",
    "                if score >= beta:\n",
    "                    break\n",
    "                alpha = max(alpha, score)\n",
    "        else:\n",
    "            score = float(\"inf\")\n",
    "            for x, y in legal_moves:\n",
    "                mb = deepcopy(mborig)\n",
    "                mb.move(x, y)\n",
    "                score = min(score, ab_search(mb, tt, alpha, beta))\n",
    "                if score <= alpha:\n",
    "                    break\n",
    "                beta = min(beta, score)   \n",
    "            \n",
    "        from util import calc_same_boardtexts\n",
    "\n",
    "        if use_tt:\n",
    "            boardtxtlist = calc_same_boardtexts(mborig)\n",
    "            if score <= alphaorig:\n",
    "                upper_bound = score\n",
    "            elif score < betaorig:\n",
    "                lower_bound = score\n",
    "                upper_bound = score\n",
    "            else:\n",
    "                lower_bound = score\n",
    "            for boardtxt in boardtxtlist:\n",
    "                tt[boardtxt] = (lower_bound, upper_bound)\n",
    "        return score\n",
    "                \n",
    "    min_score = -2 if shortest_victory else -1\n",
    "    max_score = 3 if shortest_victory else 1\n",
    "    lbound = min_score if init_ab else float(\"-inf\")\n",
    "    ubound = max_score if init_ab else float(\"inf\")\n",
    "\n",
    "    tt = {}\n",
    "    while lbound != ubound:\n",
    "        beta = f + 1 if lbound == f else f\n",
    "        f = ab_search(mb, tt, alpha=beta - 1, beta=beta)\n",
    "        if f >= beta:\n",
    "            lbound = f\n",
    "        else:\n",
    "            ubound = f\n",
    "    score = f\n",
    "            \n",
    "    dprint(debug, \"count =\", count)\n",
    "    if calc_count:\n",
    "        return count\n",
    "    if mb.turn == Marubatsu.CIRCLE:\n",
    "        score *= -1\n",
    "    return score"
   ]
  },
  {
   "cell_type": "code",
   "execution_count": 2,
   "metadata": {},
   "outputs": [
    {
     "name": "stdout",
     "output_type": "stream",
     "text": [
      "sv: False, use_tt: False, init_ab: False\n"
     ]
    },
    {
     "name": "stderr",
     "output_type": "stream",
     "text": [
      "100%|██████████| 431/431 [00:04<00:00, 87.39it/s] \n"
     ]
    },
    {
     "name": "stdout",
     "output_type": "stream",
     "text": [
      "431/431 100.00%\n",
      "sv: False, use_tt: False, init_ab: True\n"
     ]
    },
    {
     "name": "stderr",
     "output_type": "stream",
     "text": [
      "100%|██████████| 431/431 [00:03<00:00, 124.23it/s]\n"
     ]
    },
    {
     "name": "stdout",
     "output_type": "stream",
     "text": [
      "431/431 100.00%\n",
      "sv: False, use_tt: True, init_ab: False\n"
     ]
    },
    {
     "name": "stderr",
     "output_type": "stream",
     "text": [
      "100%|██████████| 431/431 [00:03<00:00, 127.08it/s]\n"
     ]
    },
    {
     "name": "stdout",
     "output_type": "stream",
     "text": [
      "431/431 100.00%\n",
      "sv: False, use_tt: True, init_ab: True\n"
     ]
    },
    {
     "name": "stderr",
     "output_type": "stream",
     "text": [
      "100%|██████████| 431/431 [00:02<00:00, 149.80it/s]\n"
     ]
    },
    {
     "name": "stdout",
     "output_type": "stream",
     "text": [
      "431/431 100.00%\n",
      "sv: True, use_tt: False, init_ab: False\n"
     ]
    },
    {
     "name": "stderr",
     "output_type": "stream",
     "text": [
      "100%|██████████| 431/431 [00:04<00:00, 88.04it/s] \n"
     ]
    },
    {
     "name": "stdout",
     "output_type": "stream",
     "text": [
      "431/431 100.00%\n",
      "sv: True, use_tt: False, init_ab: True\n"
     ]
    },
    {
     "name": "stderr",
     "output_type": "stream",
     "text": [
      "100%|██████████| 431/431 [00:05<00:00, 80.79it/s] \n"
     ]
    },
    {
     "name": "stdout",
     "output_type": "stream",
     "text": [
      "431/431 100.00%\n",
      "sv: True, use_tt: True, init_ab: False\n"
     ]
    },
    {
     "name": "stderr",
     "output_type": "stream",
     "text": [
      "100%|██████████| 431/431 [00:03<00:00, 123.87it/s]\n"
     ]
    },
    {
     "name": "stdout",
     "output_type": "stream",
     "text": [
      "431/431 100.00%\n",
      "sv: True, use_tt: True, init_ab: True\n"
     ]
    },
    {
     "name": "stderr",
     "output_type": "stream",
     "text": [
      "100%|██████████| 431/431 [00:03<00:00, 113.19it/s]"
     ]
    },
    {
     "name": "stdout",
     "output_type": "stream",
     "text": [
      "431/431 100.00%\n"
     ]
    },
    {
     "name": "stderr",
     "output_type": "stream",
     "text": [
      "\n"
     ]
    }
   ],
   "source": [
    "from util import Check_solved\n",
    "\n",
    "for shortest_victory in [False, True]:\n",
    "    for use_tt in [False, True]:\n",
    "        for init_ab in [False, True]:\n",
    "            print(f\"sv: {shortest_victory}, use_tt: {use_tt}, init_ab: {init_ab}\")\n",
    "            params = {\n",
    "                \"shortest_victory\": shortest_victory,\n",
    "                \"init_ab\": init_ab,\n",
    "                \"use_tt\": use_tt,\n",
    "            }\n",
    "            Check_solved.is_strongly_solved(ai_mtdf, params=params)"
   ]
  }
 ],
 "metadata": {
  "kernelspec": {
   "display_name": "marubatsu",
   "language": "python",
   "name": "python3"
  },
  "language_info": {
   "codemirror_mode": {
    "name": "ipython",
    "version": 3
   },
   "file_extension": ".py",
   "mimetype": "text/x-python",
   "name": "python",
   "nbconvert_exporter": "python",
   "pygments_lexer": "ipython3",
   "version": "3.11.4"
  }
 },
 "nbformat": 4,
 "nbformat_minor": 2
}
