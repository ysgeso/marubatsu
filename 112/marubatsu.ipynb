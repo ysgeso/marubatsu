{
 "cells": [
  {
   "cell_type": "code",
   "execution_count": 1,
   "metadata": {},
   "outputs": [],
   "source": [
    "from marubatsu import Marubatsu\n",
    "\n",
    "def calc_legal_moves(self):\n",
    "    if self.status != Marubatsu.PLAYING:\n",
    "        return []\n",
    "    legal_moves = [(x, y) for y in range(self.BOARD_SIZE) \n",
    "                        for x in range(self.BOARD_SIZE)\n",
    "                        if self.board[x][y] == Marubatsu.EMPTY]\n",
    "    return legal_moves\n",
    "\n",
    "Marubatsu.calc_legal_moves = calc_legal_moves"
   ]
  },
  {
   "cell_type": "code",
   "execution_count": 2,
   "metadata": {},
   "outputs": [],
   "source": [
    "from tree import Mbtree, Node\n",
    "from copy import deepcopy\n",
    "\n",
    "def create_tree_by_df(self, N):\n",
    "    legal_moves = N.mb.calc_legal_moves()\n",
    "    for x, y in legal_moves:\n",
    "        mb = deepcopy(N.mb)\n",
    "        mb.move(x, y)\n",
    "        node = Node(mb, parent=N, depth=N.depth + 1)\n",
    "        N.insert(node)\n",
    "        self.nodelist.append(node)\n",
    "        self.nodelist_by_depth[node.depth].append(node)\n",
    "        self.nodenum += 1\n",
    "        self.create_tree_by_df(node)\n",
    "\n",
    "Mbtree.create_tree_by_df = create_tree_by_df"
   ]
  },
  {
   "cell_type": "code",
   "execution_count": 3,
   "metadata": {},
   "outputs": [
    {
     "data": {
      "image/png": "[encoded data removed]",
      "text/plain": [
       "<Figure size 250x900 with 1 Axes>"
      ]
     },
     "metadata": {},
     "output_type": "display_data"
    }
   ],
   "source": [
    "mbtree = Mbtree(algo=\"df\")\n",
    "mbtree.draw_subtree(mbtree.root, maxdepth=1)"
   ]
  },
  {
   "cell_type": "code",
   "execution_count": 4,
   "metadata": {},
   "outputs": [],
   "source": [
    "from util import Check_solved\n",
    "\n",
    "@staticmethod\n",
    "def is_weakly_solved(node, ai, turn, params=None):\n",
    "    if params is None:\n",
    "        params = {}\n",
    "    if node.mb.status == turn or node.mb.status == Marubatsu.DRAW:\n",
    "        return True\n",
    "    elif node.mb.status != Marubatsu.PLAYING:\n",
    "        return False\n",
    "        \n",
    "    if turn == node.mb.turn:\n",
    "        moves = ai(node.mb, candidate=True, **params) \n",
    "    else:\n",
    "        moves = node.mb.calc_legal_moves()\n",
    "    retval = True\n",
    "    for move in moves:\n",
    "        childnode = node.children_by_move[move]\n",
    "        retval = Check_solved.is_weakly_solved(childnode, ai, turn, params) and retval\n",
    "    return retval\n",
    "\n",
    "Check_solved.is_weakly_solved = is_weakly_solved  "
   ]
  },
  {
   "cell_type": "code",
   "execution_count": 5,
   "metadata": {},
   "outputs": [
    {
     "name": "stdout",
     "output_type": "stream",
     "text": [
      "False\n",
      "False\n"
     ]
    }
   ],
   "source": [
    "from ai import ai2s, ai14s, ai_gt6\n",
    "\n",
    "print(Check_solved.is_weakly_solved(mbtree.root, ai2s, Marubatsu.CIRCLE))\n",
    "print(Check_solved.is_weakly_solved(mbtree.root, ai2s, Marubatsu.CROSS))"
   ]
  },
  {
   "cell_type": "code",
   "execution_count": 6,
   "metadata": {},
   "outputs": [
    {
     "name": "stdout",
     "output_type": "stream",
     "text": [
      "True\n",
      "True\n"
     ]
    }
   ],
   "source": [
    "print(Check_solved.is_weakly_solved(mbtree.root, ai14s, Marubatsu.CIRCLE))\n",
    "print(Check_solved.is_weakly_solved(mbtree.root, ai14s, Marubatsu.CROSS))"
   ]
  },
  {
   "cell_type": "code",
   "execution_count": 7,
   "metadata": {},
   "outputs": [
    {
     "name": "stdout",
     "output_type": "stream",
     "text": [
      "True\n",
      "True\n"
     ]
    }
   ],
   "source": [
    "from util import load_bestmoves\n",
    "\n",
    "bestmoves = load_bestmoves(\"../data/bestmoves_by_board.dat\")\n",
    "params = {\"bestmoves_by_board\": bestmoves}\n",
    "print(Check_solved.is_weakly_solved(mbtree.root, ai_gt6, Marubatsu.CIRCLE, params))\n",
    "print(Check_solved.is_weakly_solved(mbtree.root, ai_gt6, Marubatsu.CROSS, params))"
   ]
  },
  {
   "cell_type": "code",
   "execution_count": 8,
   "metadata": {},
   "outputs": [],
   "source": [
    "@staticmethod\n",
    "def is_weakly_solved_r(node, ai, turn, params):\n",
    "    if node.mb.status == turn or node.mb.status == Marubatsu.DRAW:\n",
    "        return True\n",
    "    elif node.mb.status != Marubatsu.PLAYING:\n",
    "        return False\n",
    "        \n",
    "    if turn == node.mb.turn:\n",
    "        moves = ai(node.mb, candidate=True, **params) \n",
    "    else:\n",
    "        moves = node.mb.calc_legal_moves()\n",
    "    retval = True\n",
    "    for move in moves:\n",
    "        childnode = node.children_by_move[move]\n",
    "        retval = Check_solved.is_weakly_solved_r(childnode, ai, turn, params) and retval\n",
    "    return retval\n",
    "\n",
    "Check_solved.is_weakly_solved_r = is_weakly_solved_r  "
   ]
  },
  {
   "cell_type": "code",
   "execution_count": 9,
   "metadata": {},
   "outputs": [],
   "source": [
    "@staticmethod\n",
    "def is_weakly_solved(ai, params=None, verbose=True):\n",
    "    if params is None:\n",
    "        params = {}\n",
    "    mbtree = Mbtree.load(\"../data/aidata\")\n",
    "    root = mbtree.root\n",
    "    circle_result = Check_solved.is_weakly_solved_r(root, ai, Marubatsu.CIRCLE, params)\n",
    "    cross_result = Check_solved.is_weakly_solved_r(root, ai, Marubatsu.CROSS, params)\n",
    "    result = circle_result and cross_result\n",
    "    if verbose:\n",
    "        print(\"   o\", circle_result)\n",
    "        print(\"   x\", cross_result)\n",
    "        print(\"Both\", result)\n",
    "    return result\n",
    "\n",
    "Check_solved.is_weakly_solved = is_weakly_solved"
   ]
  },
  {
   "cell_type": "code",
   "execution_count": 10,
   "metadata": {},
   "outputs": [
    {
     "name": "stdout",
     "output_type": "stream",
     "text": [
      "   o False\n",
      "   x False\n",
      "Both False\n",
      "False\n"
     ]
    }
   ],
   "source": [
    "print(Check_solved.is_weakly_solved(ai2s))"
   ]
  },
  {
   "cell_type": "code",
   "execution_count": 11,
   "metadata": {},
   "outputs": [],
   "source": [
    "@staticmethod\n",
    "def is_weakly_solved(ai, params=None, verbose=True):\n",
    "    if params is None:\n",
    "        params = {}\n",
    "    if Check_solved.mbtree is None:\n",
    "        Check_solved.mbtree = Mbtree.load(\"../data/aidata\")\n",
    "    root = Check_solved.mbtree.root\n",
    "    circle_result = Check_solved.is_weakly_solved_r(root, ai, Marubatsu.CIRCLE, params)\n",
    "    cross_result = Check_solved.is_weakly_solved_r(root, ai, Marubatsu.CROSS, params)\n",
    "    result = circle_result and cross_result\n",
    "    if verbose:\n",
    "        print(\"   o\", circle_result)\n",
    "        print(\"   x\", cross_result)\n",
    "        print(\"Both\", result)\n",
    "    return result\n",
    "\n",
    "Check_solved.is_weakly_solved = is_weakly_solved"
   ]
  },
  {
   "cell_type": "code",
   "execution_count": 12,
   "metadata": {},
   "outputs": [],
   "source": [
    "Check_solved.mbtree = None"
   ]
  },
  {
   "cell_type": "markdown",
   "metadata": {},
   "source": [
    "1 回目の is_weakly_solved の処理は時間がかかる"
   ]
  },
  {
   "cell_type": "code",
   "execution_count": 13,
   "metadata": {},
   "outputs": [
    {
     "name": "stdout",
     "output_type": "stream",
     "text": [
      "   o False\n",
      "   x False\n",
      "Both False\n",
      "False\n"
     ]
    }
   ],
   "source": [
    "print(Check_solved.is_weakly_solved(ai2s))"
   ]
  },
  {
   "cell_type": "markdown",
   "metadata": {},
   "source": [
    "2 回目以降の is_weakly_solved の処理は半分くらいの時間で終了する"
   ]
  },
  {
   "cell_type": "code",
   "execution_count": 14,
   "metadata": {},
   "outputs": [
    {
     "name": "stdout",
     "output_type": "stream",
     "text": [
      "   o False\n",
      "   x False\n",
      "Both False\n",
      "False\n"
     ]
    }
   ],
   "source": [
    "print(Check_solved.is_weakly_solved(ai2s))"
   ]
  },
  {
   "cell_type": "code",
   "execution_count": 15,
   "metadata": {},
   "outputs": [
    {
     "name": "stdout",
     "output_type": "stream",
     "text": [
      "   o True\n",
      "   x True\n",
      "Both True\n",
      "True\n",
      "   o True\n",
      "   x True\n",
      "Both True\n",
      "True\n"
     ]
    }
   ],
   "source": [
    "print(Check_solved.is_weakly_solved(ai14s))\n",
    "print(Check_solved.is_weakly_solved(ai_gt6, params))"
   ]
  },
  {
   "cell_type": "code",
   "execution_count": 16,
   "metadata": {},
   "outputs": [
    {
     "name": "stdout",
     "output_type": "stream",
     "text": [
      "28.7 s ± 85.5 ms per loop (mean ± std. dev. of 7 runs, 1 loop each)\n"
     ]
    }
   ],
   "source": [
    "%%timeit\n",
    "Check_solved.is_weakly_solved(ai2s, verbose=False)"
   ]
  },
  {
   "cell_type": "code",
   "execution_count": 17,
   "metadata": {},
   "outputs": [
    {
     "name": "stdout",
     "output_type": "stream",
     "text": [
      "306 ms ± 2.95 ms per loop (mean ± std. dev. of 7 runs, 1 loop each)\n"
     ]
    }
   ],
   "source": [
    "%%timeit\n",
    "Check_solved.is_weakly_solved(ai14s, verbose=False)"
   ]
  },
  {
   "cell_type": "code",
   "execution_count": 18,
   "metadata": {},
   "outputs": [
    {
     "name": "stdout",
     "output_type": "stream",
     "text": [
      "179 ms ± 1.44 ms per loop (mean ± std. dev. of 7 runs, 1 loop each)\n"
     ]
    }
   ],
   "source": [
    "%%timeit\n",
    "Check_solved.is_weakly_solved(ai_gt6, params, verbose=False)"
   ]
  },
  {
   "cell_type": "code",
   "execution_count": 19,
   "metadata": {},
   "outputs": [],
   "source": [
    "@staticmethod\n",
    "def is_weakly_solved(ai, params=None, verbose=True):\n",
    "    Check_solved.count = 0\n",
    "    if params is None:\n",
    "        params = {}\n",
    "    if Check_solved.mbtree is None:\n",
    "        Check_solved.mbtree = Mbtree.load(\"../data/aidata\")\n",
    "    root = Check_solved.mbtree.root\n",
    "    circle_result = Check_solved.is_weakly_solved_r(root, ai, Marubatsu.CIRCLE, params)\n",
    "    cross_result = Check_solved.is_weakly_solved_r(root, ai, Marubatsu.CROSS, params)\n",
    "    result = circle_result and cross_result\n",
    "    if verbose:\n",
    "        print(\"   o\", circle_result)\n",
    "        print(\"   x\", cross_result)\n",
    "        print(\"Both\", result)\n",
    "    return result\n",
    "\n",
    "Check_solved.is_weakly_solved = is_weakly_solved"
   ]
  },
  {
   "cell_type": "code",
   "execution_count": 21,
   "metadata": {},
   "outputs": [],
   "source": [
    "@staticmethod\n",
    "def is_weakly_solved_r(node, ai, turn, params):\n",
    "    Check_solved.count += 1\n",
    "    if node.mb.status == turn or node.mb.status == Marubatsu.DRAW:\n",
    "        return True\n",
    "    elif node.mb.status != Marubatsu.PLAYING:\n",
    "        return False\n",
    "        \n",
    "    if turn == node.mb.turn:\n",
    "        moves = ai(node.mb, candidate=True, **params) \n",
    "    else:\n",
    "        moves = node.mb.calc_legal_moves()\n",
    "    retval = True\n",
    "    for move in moves:\n",
    "        childnode = node.children_by_move[move]\n",
    "        retval = Check_solved.is_weakly_solved_r(childnode, ai, turn, params) and retval\n",
    "    return retval\n",
    "\n",
    "Check_solved.is_weakly_solved_r = is_weakly_solved_r  "
   ]
  },
  {
   "cell_type": "code",
   "execution_count": 22,
   "metadata": {},
   "outputs": [
    {
     "name": "stdout",
     "output_type": "stream",
     "text": [
      "   o False\n",
      "   x False\n",
      "Both False\n",
      "1099892\n"
     ]
    }
   ],
   "source": [
    "Check_solved.is_weakly_solved(ai2s)\n",
    "print(Check_solved.count)"
   ]
  },
  {
   "cell_type": "code",
   "execution_count": 23,
   "metadata": {},
   "outputs": [
    {
     "name": "stdout",
     "output_type": "stream",
     "text": [
      "   o True\n",
      "   x True\n",
      "Both True\n",
      "3244\n"
     ]
    }
   ],
   "source": [
    "Check_solved.is_weakly_solved(ai14s)\n",
    "print(Check_solved.count)"
   ]
  },
  {
   "cell_type": "code",
   "execution_count": 24,
   "metadata": {},
   "outputs": [
    {
     "name": "stdout",
     "output_type": "stream",
     "text": [
      "   o True\n",
      "   x True\n",
      "Both True\n",
      "92128\n"
     ]
    }
   ],
   "source": [
    "Check_solved.is_weakly_solved(ai_gt6, params)\n",
    "print(Check_solved.count)"
   ]
  },
  {
   "cell_type": "code",
   "execution_count": 25,
   "metadata": {},
   "outputs": [],
   "source": [
    "@staticmethod\n",
    "def is_weakly_solved_r(node, ai, turn, params):\n",
    "    Check_solved.count += 1\n",
    "    if node.mb.status == turn or node.mb.status == Marubatsu.DRAW:\n",
    "        return True\n",
    "    elif node.mb.status != Marubatsu.PLAYING:\n",
    "        return False\n",
    "        \n",
    "    if turn == node.mb.turn:\n",
    "        moves = ai(node.mb, candidate=True, **params) \n",
    "    else:\n",
    "        moves = node.mb.calc_legal_moves()\n",
    "    for move in moves:\n",
    "        childnode = node.children_by_move[move]\n",
    "        if not Check_solved.is_weakly_solved_r(childnode, ai, turn, params):\n",
    "            return False\n",
    "    return True\n",
    "\n",
    "Check_solved.is_weakly_solved_r = is_weakly_solved_r  "
   ]
  },
  {
   "cell_type": "code",
   "execution_count": 27,
   "metadata": {},
   "outputs": [
    {
     "name": "stdout",
     "output_type": "stream",
     "text": [
      "   o False\n",
      "   x False\n",
      "Both False\n",
      "58\n",
      "   o True\n",
      "   x True\n",
      "Both True\n",
      "3244\n",
      "   o True\n",
      "   x True\n",
      "Both True\n",
      "92128\n"
     ]
    }
   ],
   "source": [
    "Check_solved.is_weakly_solved(ai2s)\n",
    "print(Check_solved.count)\n",
    "Check_solved.is_weakly_solved(ai14s)\n",
    "print(Check_solved.count)\n",
    "Check_solved.is_weakly_solved(ai_gt6, params)\n",
    "print(Check_solved.count)"
   ]
  },
  {
   "cell_type": "code",
   "execution_count": 28,
   "metadata": {},
   "outputs": [
    {
     "name": "stdout",
     "output_type": "stream",
     "text": [
      "3.15 ms ± 31.3 µs per loop (mean ± std. dev. of 7 runs, 100 loops each)\n"
     ]
    }
   ],
   "source": [
    "%%timeit\n",
    "Check_solved.is_weakly_solved(ai2s, verbose=False)"
   ]
  },
  {
   "cell_type": "code",
   "execution_count": 29,
   "metadata": {},
   "outputs": [
    {
     "name": "stdout",
     "output_type": "stream",
     "text": [
      "305 ms ± 5.16 ms per loop (mean ± std. dev. of 7 runs, 1 loop each)\n"
     ]
    }
   ],
   "source": [
    "%%timeit\n",
    "Check_solved.is_weakly_solved(ai14s, verbose=False)"
   ]
  },
  {
   "cell_type": "code",
   "execution_count": 30,
   "metadata": {},
   "outputs": [
    {
     "name": "stdout",
     "output_type": "stream",
     "text": [
      "191 ms ± 1.34 ms per loop (mean ± std. dev. of 7 runs, 1 loop each)\n"
     ]
    }
   ],
   "source": [
    "%%timeit\n",
    "Check_solved.is_weakly_solved(ai_gt6, params, verbose=False)"
   ]
  },
  {
   "cell_type": "code",
   "execution_count": 31,
   "metadata": {},
   "outputs": [],
   "source": [
    "@staticmethod\n",
    "def is_weakly_solved_r(node, ai, turn, params, registered_boards):\n",
    "    txt = node.mb.board_to_str()\n",
    "    if txt in registered_boards:\n",
    "        return True\n",
    "    Check_solved.count += 1\n",
    "    registered_boards.add(txt)\n",
    "    if node.mb.status == turn or node.mb.status == Marubatsu.DRAW:\n",
    "        return True\n",
    "    elif node.mb.status != Marubatsu.PLAYING:\n",
    "        return False\n",
    "        \n",
    "    if turn == node.mb.turn:\n",
    "        moves = ai(node.mb, candidate=True, **params) \n",
    "    else:\n",
    "        moves = node.mb.calc_legal_moves()\n",
    "    for move in moves:\n",
    "        childnode = node.children_by_move[move]\n",
    "        if not Check_solved.is_weakly_solved_r(childnode, ai, turn, params, registered_boards):\n",
    "            return False\n",
    "    return True\n",
    "\n",
    "Check_solved.is_weakly_solved_r = is_weakly_solved_r"
   ]
  },
  {
   "cell_type": "code",
   "execution_count": 32,
   "metadata": {},
   "outputs": [],
   "source": [
    "@staticmethod\n",
    "def is_weakly_solved(ai, params=None, verbose=True):\n",
    "    Check_solved.count = 0\n",
    "    if params is None:\n",
    "        params = {}\n",
    "    if Check_solved.mbtree is None:\n",
    "        Check_solved.mbtree = Mbtree.load(\"../data/aidata\")\n",
    "    root = Check_solved.mbtree.root\n",
    "    circle_result = Check_solved.is_weakly_solved_r(root, ai, Marubatsu.CIRCLE, params, set())\n",
    "    cross_result = Check_solved.is_weakly_solved_r(root, ai, Marubatsu.CROSS, params, set())\n",
    "    result = circle_result and cross_result\n",
    "    if verbose:\n",
    "        print(\"   o\", circle_result)\n",
    "        print(\"   x\", cross_result)\n",
    "        print(\"Both\", result)\n",
    "    return result\n",
    "\n",
    "Check_solved.is_weakly_solved = is_weakly_solved"
   ]
  },
  {
   "cell_type": "code",
   "execution_count": 33,
   "metadata": {},
   "outputs": [
    {
     "name": "stdout",
     "output_type": "stream",
     "text": [
      "   o False\n",
      "   x False\n",
      "Both False\n",
      "45\n",
      "   o True\n",
      "   x True\n",
      "Both True\n",
      "1366\n",
      "   o True\n",
      "   x True\n",
      "Both True\n",
      "5700\n"
     ]
    }
   ],
   "source": [
    "Check_solved.is_weakly_solved(ai2s)\n",
    "print(Check_solved.count)\n",
    "Check_solved.is_weakly_solved(ai14s)\n",
    "print(Check_solved.count)\n",
    "Check_solved.is_weakly_solved(ai_gt6, params)\n",
    "print(Check_solved.count)"
   ]
  },
  {
   "cell_type": "code",
   "execution_count": 34,
   "metadata": {},
   "outputs": [
    {
     "name": "stdout",
     "output_type": "stream",
     "text": [
      "2.83 ms ± 9.52 µs per loop (mean ± std. dev. of 7 runs, 100 loops each)\n"
     ]
    }
   ],
   "source": [
    "%%timeit\n",
    "Check_solved.is_weakly_solved(ai2s, verbose=False)"
   ]
  },
  {
   "cell_type": "code",
   "execution_count": 35,
   "metadata": {},
   "outputs": [
    {
     "name": "stdout",
     "output_type": "stream",
     "text": [
      "178 ms ± 13.9 ms per loop (mean ± std. dev. of 7 runs, 1 loop each)\n"
     ]
    }
   ],
   "source": [
    "%%timeit\n",
    "Check_solved.is_weakly_solved(ai14s, verbose=False)"
   ]
  },
  {
   "cell_type": "code",
   "execution_count": 36,
   "metadata": {},
   "outputs": [
    {
     "name": "stdout",
     "output_type": "stream",
     "text": [
      "35.3 ms ± 427 µs per loop (mean ± std. dev. of 7 runs, 10 loops each)\n"
     ]
    }
   ],
   "source": [
    "%%timeit\n",
    "Check_solved.is_weakly_solved(ai_gt6, params, verbose=False)"
   ]
  },
  {
   "cell_type": "code",
   "execution_count": 38,
   "metadata": {},
   "outputs": [],
   "source": [
    "from tqdm import tqdm\n",
    "from util import load_bestmoves, load_mblist\n",
    "\n",
    "@staticmethod\n",
    "def is_strongly_solved(ai, params=None, consider_samedata=True):\n",
    "    if Check_solved.bestmoves_by_board is None:\n",
    "        Check_solved.bestmoves_by_board = load_bestmoves (\"../data/bestmoves_by_board.dat\")\n",
    "    if consider_samedata:\n",
    "        if Check_solved.mblist_by_board_min is None:\n",
    "            Check_solved.mblist_by_board_min = load_mblist(\"../data/mblist_by_board_min.dat\")\n",
    "        mblist = Check_solved.mblist_by_board_min\n",
    "    else:\n",
    "        if Check_solved.mblist_by_board2 is None:\n",
    "            Check_solved.mblist_by_board2 = load_mblist(\"../data/mblist_by_board2.dat\") \n",
    "        mblist = Check_solved.mblist_by_board2        \n",
    "    if params is None:\n",
    "        params = {}\n",
    "    count = 0\n",
    "    incorrectlist = []\n",
    "    for mb in tqdm(mblist):\n",
    "        candidate = set(ai(mb, candidate=True, **params))\n",
    "        bestmoves = set(Check_solved.bestmoves_by_board[mb.board_to_str()])\n",
    "        if candidate <= bestmoves:\n",
    "            count += 1\n",
    "        else:\n",
    "            incorrectlist.append((mb, candidate, bestmoves))\n",
    "    nodenum = len(mblist)\n",
    "    print(f\"{count}/{nodenum} {count/nodenum*100:.2f}%\")\n",
    "    return count == nodenum, incorrectlist\n",
    "\n",
    "Check_solved.is_strongly_solved = is_strongly_solved"
   ]
  },
  {
   "cell_type": "code",
   "execution_count": 39,
   "metadata": {},
   "outputs": [
    {
     "name": "stderr",
     "output_type": "stream",
     "text": [
      "100%|██████████| 431/431 [00:00<00:00, 2191.99it/s]"
     ]
    },
    {
     "name": "stdout",
     "output_type": "stream",
     "text": [
      "424/431 98.38%\n",
      "False\n"
     ]
    },
    {
     "name": "stderr",
     "output_type": "stream",
     "text": [
      "\n"
     ]
    }
   ],
   "source": [
    "Check_solved.mblist_by_board_min = None\n",
    "Check_solved.mblist_by_board2 = None\n",
    "result, incorrectlist = Check_solved.is_strongly_solved(ai14s)\n",
    "print(result)"
   ]
  },
  {
   "cell_type": "code",
   "execution_count": 40,
   "metadata": {},
   "outputs": [
    {
     "name": "stderr",
     "output_type": "stream",
     "text": [
      "100%|██████████| 3191/3191 [00:01<00:00, 2895.01it/s]"
     ]
    },
    {
     "name": "stdout",
     "output_type": "stream",
     "text": [
      "3139/3191 98.37%\n",
      "False\n"
     ]
    },
    {
     "name": "stderr",
     "output_type": "stream",
     "text": [
      "\n"
     ]
    }
   ],
   "source": [
    "result, incorrectlist = Check_solved.is_strongly_solved(ai14s, consider_samedata=False)\n",
    "print(result)\n"
   ]
  }
 ],
 "metadata": {
  "kernelspec": {
   "display_name": "marubatsu",
   "language": "python",
   "name": "python3"
  },
  "language_info": {
   "codemirror_mode": {
    "name": "ipython",
    "version": 3
   },
   "file_extension": ".py",
   "mimetype": "text/x-python",
   "name": "python",
   "nbconvert_exporter": "python",
   "pygments_lexer": "ipython3",
   "version": "3.11.4"
  }
 },
 "nbformat": 4,
 "nbformat_minor": 2
}
