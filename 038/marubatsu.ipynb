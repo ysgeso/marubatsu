{
 "cells": [
  {
   "cell_type": "code",
   "execution_count": 1,
   "metadata": {},
   "outputs": [],
   "source": [
    "from marubatsu import Marubatsu\n",
    "\n",
    "def play(self):\n",
    "    # 〇×ゲームを再起動する\n",
    "    self.restart()\n",
    "    # ゲームの決着がついていない間繰り返す\n",
    "    while self.judge() == Marubatsu.PLAYING:\n",
    "        # ゲーム盤の表示\n",
    "        print(self)\n",
    "        # キーボードからの座標の入力\n",
    "        coord = input(\"x,y の形式で座標を入力して下さい\")\n",
    "        # x 座標と y 座標の計算\n",
    "        x, y = coord.split(\",\")\n",
    "        # (x, y) に着手を行う\n",
    "        self.move(int(x), int(y))\n",
    "\n",
    "    # 決着がついたので、ゲーム盤を表示する\n",
    "    print(self)\n",
    "\n",
    "Marubatsu.play = play"
   ]
  },
  {
   "cell_type": "markdown",
   "metadata": {},
   "source": [
    "テキストボックスに 0,0　0,1　1,0　1,1　2,0 の順で入力しました"
   ]
  },
  {
   "cell_type": "code",
   "execution_count": 2,
   "metadata": {},
   "outputs": [
    {
     "name": "stdout",
     "output_type": "stream",
     "text": [
      "Turn o\n",
      "...\n",
      "...\n",
      "...\n",
      "\n",
      "Turn x\n",
      "o..\n",
      "...\n",
      "...\n",
      "\n",
      "Turn o\n",
      "o..\n",
      "x..\n",
      "...\n",
      "\n",
      "Turn x\n",
      "oo.\n",
      "x..\n",
      "...\n",
      "\n",
      "Turn o\n",
      "oo.\n",
      "xx.\n",
      "...\n",
      "\n",
      "Turn x\n",
      "ooo\n",
      "xx.\n",
      "...\n",
      "\n"
     ]
    }
   ],
   "source": [
    "mb = Marubatsu()\n",
    "mb.play()"
   ]
  },
  {
   "cell_type": "code",
   "execution_count": 3,
   "metadata": {},
   "outputs": [],
   "source": [
    "def play(self):\n",
    "    # 〇×ゲームを再起動する\n",
    "    self.restart()\n",
    "    # ゲームの決着がついていない間繰り返す\n",
    "    while self.judge() == Marubatsu.PLAYING:\n",
    "        # ゲーム盤の表示\n",
    "        print(self)\n",
    "        # キーボードからの座標の入力\n",
    "        coord = input(\"x,y の形式で座標を入力して下さい\")\n",
    "        # x 座標と y 座標の計算\n",
    "        x, y = coord.split(\",\")\n",
    "        # (x, y) に着手を行う\n",
    "        self.move(int(x), int(y))\n",
    "\n",
    "    # 決着がついたので、勝者とゲーム盤を表示する\n",
    "    print(\"winner\", self.judge())\n",
    "    print(self)\n",
    "\n",
    "Marubatsu.play = play"
   ]
  },
  {
   "cell_type": "markdown",
   "metadata": {},
   "source": [
    "テキストボックスに 0,0　0,1　1,0　1,1　2,0 の順で入力しました"
   ]
  },
  {
   "cell_type": "code",
   "execution_count": 4,
   "metadata": {},
   "outputs": [
    {
     "name": "stdout",
     "output_type": "stream",
     "text": [
      "Turn o\n",
      "...\n",
      "...\n",
      "...\n",
      "\n",
      "Turn x\n",
      "o..\n",
      "...\n",
      "...\n",
      "\n",
      "Turn o\n",
      "o..\n",
      "x..\n",
      "...\n",
      "\n",
      "Turn x\n",
      "oo.\n",
      "x..\n",
      "...\n",
      "\n",
      "Turn o\n",
      "oo.\n",
      "xx.\n",
      "...\n",
      "\n",
      "winner o\n",
      "Turn x\n",
      "ooo\n",
      "xx.\n",
      "...\n",
      "\n"
     ]
    }
   ],
   "source": [
    "mb.play()"
   ]
  },
  {
   "cell_type": "markdown",
   "metadata": {},
   "source": [
    "テキストボックスに 0,1　0,0　1,1　1,0　0,2　2,0 の順で入力しました"
   ]
  },
  {
   "cell_type": "code",
   "execution_count": 5,
   "metadata": {},
   "outputs": [
    {
     "name": "stdout",
     "output_type": "stream",
     "text": [
      "Turn o\n",
      "...\n",
      "...\n",
      "...\n",
      "\n",
      "Turn x\n",
      "...\n",
      "o..\n",
      "...\n",
      "\n",
      "Turn o\n",
      "x..\n",
      "o..\n",
      "...\n",
      "\n",
      "Turn x\n",
      "x..\n",
      "oo.\n",
      "...\n",
      "\n",
      "Turn o\n",
      "xx.\n",
      "oo.\n",
      "...\n",
      "\n",
      "Turn x\n",
      "xx.\n",
      "oo.\n",
      "o..\n",
      "\n",
      "winner x\n",
      "Turn o\n",
      "xxx\n",
      "oo.\n",
      "o..\n",
      "\n"
     ]
    }
   ],
   "source": [
    "mb.play()"
   ]
  },
  {
   "cell_type": "markdown",
   "metadata": {},
   "source": [
    "テキストボックスに 0,0　0,1　1,0　1,1　2,1　2,0　0,2　1,2　2,2 の順で入力しました"
   ]
  },
  {
   "cell_type": "code",
   "execution_count": 6,
   "metadata": {},
   "outputs": [
    {
     "name": "stdout",
     "output_type": "stream",
     "text": [
      "Turn o\n",
      "...\n",
      "...\n",
      "...\n",
      "\n",
      "Turn x\n",
      "o..\n",
      "...\n",
      "...\n",
      "\n",
      "Turn o\n",
      "o..\n",
      "x..\n",
      "...\n",
      "\n",
      "Turn x\n",
      "oo.\n",
      "x..\n",
      "...\n",
      "\n",
      "Turn o\n",
      "oo.\n",
      "xx.\n",
      "...\n",
      "\n",
      "Turn x\n",
      "oo.\n",
      "xxo\n",
      "...\n",
      "\n",
      "Turn o\n",
      "oox\n",
      "xxo\n",
      "...\n",
      "\n",
      "Turn x\n",
      "oox\n",
      "xxo\n",
      "o..\n",
      "\n",
      "Turn o\n",
      "oox\n",
      "xxo\n",
      "ox.\n",
      "\n",
      "winner draw\n",
      "Turn x\n",
      "oox\n",
      "xxo\n",
      "oxo\n",
      "\n"
     ]
    }
   ],
   "source": [
    "mb.play()"
   ]
  },
  {
   "cell_type": "code",
   "execution_count": 7,
   "metadata": {},
   "outputs": [],
   "source": [
    "def __str__(self):\n",
    "    # ゲームの決着がついていない場合は、手番を表示する\n",
    "    if self.judge() == Marubatsu.PLAYING:\n",
    "        text = \"Turn \" + self.turn + \"\\n\"\n",
    "    # 決着がついていれば勝者を表示する\n",
    "    else:\n",
    "        text = \"winner \" + self.judge() + \"\\n\"\n",
    "    for y in range(self.BOARD_SIZE):\n",
    "        for x in range(self.BOARD_SIZE):\n",
    "            text += self.board[x][y]\n",
    "        text += \"\\n\"\n",
    "    return text\n",
    "\n",
    "Marubatsu.__str__ = __str__"
   ]
  },
  {
   "cell_type": "code",
   "execution_count": 8,
   "metadata": {},
   "outputs": [],
   "source": [
    "def play(self):\n",
    "    # 〇×ゲームを再起動する\n",
    "    self.restart()\n",
    "    # ゲームの決着がついていない間繰り返す\n",
    "    while self.judge() == Marubatsu.PLAYING:\n",
    "        # ゲーム盤の表示\n",
    "        print(self)\n",
    "        # キーボードからの座標の入力\n",
    "        coord = input(\"x,y の形式で座標を入力して下さい\")\n",
    "        # x 座標と y 座標の計算\n",
    "        x, y = coord.split(\",\")\n",
    "        # (x, y) に着手を行う\n",
    "        self.move(int(x), int(y))\n",
    "\n",
    "    # 決着がついたので、ゲーム盤を表示する\n",
    "    print(self)\n",
    "\n",
    "Marubatsu.play = play"
   ]
  },
  {
   "cell_type": "markdown",
   "metadata": {},
   "source": [
    "テキストボックスに 0,0　0,1　1,0　1,1　2,0 の順で入力しました"
   ]
  },
  {
   "cell_type": "code",
   "execution_count": 9,
   "metadata": {},
   "outputs": [
    {
     "name": "stdout",
     "output_type": "stream",
     "text": [
      "Turn o\n",
      "...\n",
      "...\n",
      "...\n",
      "\n",
      "Turn x\n",
      "o..\n",
      "...\n",
      "...\n",
      "\n",
      "Turn o\n",
      "o..\n",
      "x..\n",
      "...\n",
      "\n",
      "Turn x\n",
      "oo.\n",
      "x..\n",
      "...\n",
      "\n",
      "Turn o\n",
      "oo.\n",
      "xx.\n",
      "...\n",
      "\n",
      "winner o\n",
      "ooo\n",
      "xx.\n",
      "...\n",
      "\n"
     ]
    }
   ],
   "source": [
    "mb.play()"
   ]
  },
  {
   "cell_type": "code",
   "execution_count": 10,
   "metadata": {},
   "outputs": [],
   "source": [
    "def restart(self):\n",
    "    self.initialize_board()\n",
    "    self.turn = Marubatsu.CIRCLE     \n",
    "    self.move_count = 0\n",
    "    self.status = Marubatsu.PLAYING\n",
    "    \n",
    "Marubatsu.restart = restart"
   ]
  },
  {
   "cell_type": "code",
   "execution_count": 11,
   "metadata": {},
   "outputs": [],
   "source": [
    "def move(self, x, y):\n",
    "    if self.place_mark(x, y, self.turn):\n",
    "        self.turn = Marubatsu.CROSS if self.turn == Marubatsu.CIRCLE else Marubatsu.CIRCLE  \n",
    "        self.move_count += 1\n",
    "        self.status = self.judge()\n",
    "\n",
    "Marubatsu.move = move"
   ]
  },
  {
   "cell_type": "code",
   "execution_count": 12,
   "metadata": {},
   "outputs": [],
   "source": [
    "def __str__(self):\n",
    "    # ゲームの決着がついていない場合は、手番を表示する\n",
    "    if self.status == Marubatsu.PLAYING:\n",
    "        text = \"Turn \" + self.turn + \"\\n\"\n",
    "    # 決着がついていれば勝者を表示する\n",
    "    else:\n",
    "        text = \"winner \" + self.status + \"\\n\"\n",
    "    for y in range(self.BOARD_SIZE):\n",
    "        for x in range(self.BOARD_SIZE):\n",
    "            text += self.board[x][y]\n",
    "        text += \"\\n\"\n",
    "    return text\n",
    "\n",
    "Marubatsu.__str__ = __str__"
   ]
  },
  {
   "cell_type": "code",
   "execution_count": 13,
   "metadata": {},
   "outputs": [],
   "source": [
    "def play(self):\n",
    "    # 〇×ゲームを再起動する\n",
    "    self.restart()\n",
    "    # ゲームの決着がついていない間繰り返す\n",
    "    while self.status == Marubatsu.PLAYING:\n",
    "        # ゲーム盤の表示\n",
    "        print(self)\n",
    "        # キーボードからの座標の入力\n",
    "        coord = input(\"x,y の形式で座標を入力して下さい\")\n",
    "        # x 座標と y 座標の計算\n",
    "        x, y = coord.split(\",\")\n",
    "        # (x, y) に着手を行う\n",
    "        self.move(int(x), int(y))\n",
    "\n",
    "    # 決着がついたので、ゲーム盤を表示する\n",
    "    print(self)\n",
    "\n",
    "Marubatsu.play = play"
   ]
  },
  {
   "cell_type": "markdown",
   "metadata": {},
   "source": [
    "テキストボックスに 0,0　0,1　1,0　1,1　2,0 の順で入力しました"
   ]
  },
  {
   "cell_type": "code",
   "execution_count": 14,
   "metadata": {},
   "outputs": [
    {
     "name": "stdout",
     "output_type": "stream",
     "text": [
      "Turn o\n",
      "...\n",
      "...\n",
      "...\n",
      "\n",
      "Turn x\n",
      "o..\n",
      "...\n",
      "...\n",
      "\n",
      "Turn o\n",
      "o..\n",
      "x..\n",
      "...\n",
      "\n",
      "Turn x\n",
      "oo.\n",
      "x..\n",
      "...\n",
      "\n",
      "Turn o\n",
      "oo.\n",
      "xx.\n",
      "...\n",
      "\n",
      "winner o\n",
      "ooo\n",
      "xx.\n",
      "...\n",
      "\n"
     ]
    }
   ],
   "source": [
    "mb.play()"
   ]
  },
  {
   "cell_type": "markdown",
   "metadata": {},
   "source": [
    "テキストボックスに 11 を入力しました"
   ]
  },
  {
   "cell_type": "code",
   "execution_count": 15,
   "metadata": {},
   "outputs": [
    {
     "name": "stdout",
     "output_type": "stream",
     "text": [
      "Turn o\n",
      "...\n",
      "...\n",
      "...\n",
      "\n"
     ]
    },
    {
     "ename": "ValueError",
     "evalue": "not enough values to unpack (expected 2, got 1)",
     "output_type": "error",
     "traceback": [
      "\u001b[1;31m---------------------------------------------------------------------------\u001b[0m",
      "\u001b[1;31mValueError\u001b[0m                                Traceback (most recent call last)",
      "\u001b[1;32mc:\\Users\\ys\\ai\\marubatsu\\038\\marubatsu.ipynb セル 22\u001b[0m line \u001b[0;36m1\n\u001b[1;32m----> <a href='vscode-notebook-cell:/c%3A/Users/ys/ai/marubatsu/038/marubatsu.ipynb#X30sZmlsZQ%3D%3D?line=0'>1</a>\u001b[0m mb\u001b[39m.\u001b[39mplay()\n",
      "\u001b[1;32mc:\\Users\\ys\\ai\\marubatsu\\038\\marubatsu.ipynb セル 22\u001b[0m line \u001b[0;36m1\n\u001b[0;32m      <a href='vscode-notebook-cell:/c%3A/Users/ys/ai/marubatsu/038/marubatsu.ipynb#X30sZmlsZQ%3D%3D?line=8'>9</a>\u001b[0m coord \u001b[39m=\u001b[39m \u001b[39minput\u001b[39m(\u001b[39m\"\u001b[39m\u001b[39mx,y の形式で座標を入力して下さい\u001b[39m\u001b[39m\"\u001b[39m)\n\u001b[0;32m     <a href='vscode-notebook-cell:/c%3A/Users/ys/ai/marubatsu/038/marubatsu.ipynb#X30sZmlsZQ%3D%3D?line=9'>10</a>\u001b[0m \u001b[39m# x 座標と y 座標の計算\u001b[39;00m\n\u001b[1;32m---> <a href='vscode-notebook-cell:/c%3A/Users/ys/ai/marubatsu/038/marubatsu.ipynb#X30sZmlsZQ%3D%3D?line=10'>11</a>\u001b[0m x, y \u001b[39m=\u001b[39m coord\u001b[39m.\u001b[39msplit(\u001b[39m\"\u001b[39m\u001b[39m,\u001b[39m\u001b[39m\"\u001b[39m)\n\u001b[0;32m     <a href='vscode-notebook-cell:/c%3A/Users/ys/ai/marubatsu/038/marubatsu.ipynb#X30sZmlsZQ%3D%3D?line=11'>12</a>\u001b[0m \u001b[39m# (x, y) に着手を行う\u001b[39;00m\n\u001b[0;32m     <a href='vscode-notebook-cell:/c%3A/Users/ys/ai/marubatsu/038/marubatsu.ipynb#X30sZmlsZQ%3D%3D?line=12'>13</a>\u001b[0m \u001b[39mself\u001b[39m\u001b[39m.\u001b[39mmove(\u001b[39mint\u001b[39m(x), \u001b[39mint\u001b[39m(y))\n",
      "\u001b[1;31mValueError\u001b[0m: not enough values to unpack (expected 2, got 1)"
     ]
    }
   ],
   "source": [
    "mb.play()"
   ]
  },
  {
   "cell_type": "code",
   "execution_count": 16,
   "metadata": {},
   "outputs": [
    {
     "name": "stdout",
     "output_type": "stream",
     "text": [
      "['11']\n"
     ]
    }
   ],
   "source": [
    "print(\"11\".split(\",\"))"
   ]
  },
  {
   "cell_type": "code",
   "execution_count": 17,
   "metadata": {},
   "outputs": [],
   "source": [
    "def play(self):\n",
    "    # 〇×ゲームを再起動する\n",
    "    self.restart()\n",
    "    # ゲームの決着がついていない間繰り返す\n",
    "    while self.status == Marubatsu.PLAYING:\n",
    "        # ゲーム盤の表示\n",
    "        print(self)\n",
    "        # キーボードからの座標の入力\n",
    "        coord = input(\"x,y の形式で座標を入力して下さい\")\n",
    "        # x 座標と y 座標を要素として持つ list を計算する\n",
    "        xylist = coord.split(\",\")\n",
    "        # xylist の要素の数が 2 ではない場合\n",
    "        if len(xylist) != 2:\n",
    "            # エラーメッセージを表示する\n",
    "            print(\"x, y の形式ではありません\")\n",
    "            # 残りの while 文のブロックを実行せずに、次の繰り返し処理を行う\n",
    "            continue\n",
    "        x, y = xylist\n",
    "        # (x, y) に着手を行う\n",
    "        self.move(int(x), int(y))\n",
    "\n",
    "    # 決着がついたので、ゲーム盤を表示する\n",
    "    print(self)\n",
    "\n",
    "Marubatsu.play = play"
   ]
  },
  {
   "cell_type": "markdown",
   "metadata": {},
   "source": [
    "テキストボックスに 11　0,0　0,1　1,0　1,1　2,0 の順で入力しました"
   ]
  },
  {
   "cell_type": "code",
   "execution_count": 18,
   "metadata": {},
   "outputs": [
    {
     "name": "stdout",
     "output_type": "stream",
     "text": [
      "Turn o\n",
      "...\n",
      "...\n",
      "...\n",
      "\n",
      "x, y の形式ではありません\n",
      "Turn o\n",
      "...\n",
      "...\n",
      "...\n",
      "\n",
      "Turn x\n",
      "o..\n",
      "...\n",
      "...\n",
      "\n",
      "Turn o\n",
      "o..\n",
      "x..\n",
      "...\n",
      "\n",
      "Turn x\n",
      "oo.\n",
      "x..\n",
      "...\n",
      "\n",
      "Turn o\n",
      "oo.\n",
      "xx.\n",
      "...\n",
      "\n",
      "winner o\n",
      "ooo\n",
      "xx.\n",
      "...\n",
      "\n"
     ]
    }
   ],
   "source": [
    "mb.play()"
   ]
  },
  {
   "cell_type": "code",
   "execution_count": 19,
   "metadata": {},
   "outputs": [],
   "source": [
    "def play(self):\n",
    "    # 〇×ゲームを再起動する\n",
    "    self.restart()\n",
    "    # ゲームの決着がついていない間繰り返す\n",
    "    while self.status == Marubatsu.PLAYING:\n",
    "        # ゲーム盤の表示\n",
    "        print(self)\n",
    "        # キーボードからの座標の入力\n",
    "        coord = input(\"x,y の形式で座標を入力して下さい。exit を入力すると終了します\")\n",
    "        # \"exit\" が入力されていればメッセージを表示して関数を終了する\n",
    "        if coord == \"exit\":\n",
    "            print(\"ゲームを終了します\")\n",
    "            return       \n",
    "        # x 座標と y 座標を要素として持つ list を計算する\n",
    "        xylist = coord.split(\",\")\n",
    "        # xylist の要素の数が 2 ではない場合\n",
    "        if len(xylist) != 2:\n",
    "            # エラーメッセージを表示する\n",
    "            print(\"x, y の形式ではありません\")\n",
    "            # 残りの while 文のブロックを実行せずに、次の繰り返し処理を行う\n",
    "            continue\n",
    "        x, y = xylist\n",
    "        # (x, y) に着手を行う\n",
    "        self.move(int(x), int(y))\n",
    "\n",
    "    # 決着がついたので、ゲーム盤を表示する\n",
    "    print(self)\n",
    "\n",
    "Marubatsu.play = play"
   ]
  },
  {
   "cell_type": "markdown",
   "metadata": {},
   "source": [
    "テキストボックスに exit を入力しました"
   ]
  },
  {
   "cell_type": "code",
   "execution_count": 20,
   "metadata": {},
   "outputs": [
    {
     "name": "stdout",
     "output_type": "stream",
     "text": [
      "Turn o\n",
      "...\n",
      "...\n",
      "...\n",
      "\n",
      "ゲームを終了します\n"
     ]
    }
   ],
   "source": [
    "mb.play()"
   ]
  },
  {
   "cell_type": "markdown",
   "metadata": {},
   "source": [
    "テキストボックスに 5,1 を入力しました"
   ]
  },
  {
   "cell_type": "code",
   "execution_count": 21,
   "metadata": {},
   "outputs": [
    {
     "name": "stdout",
     "output_type": "stream",
     "text": [
      "Turn o\n",
      "...\n",
      "...\n",
      "...\n",
      "\n"
     ]
    },
    {
     "ename": "IndexError",
     "evalue": "list index out of range",
     "output_type": "error",
     "traceback": [
      "\u001b[1;31m---------------------------------------------------------------------------\u001b[0m",
      "\u001b[1;31mIndexError\u001b[0m                                Traceback (most recent call last)",
      "\u001b[1;32mc:\\Users\\ys\\ai\\marubatsu\\038\\marubatsu.ipynb セル 31\u001b[0m line \u001b[0;36m1\n\u001b[1;32m----> <a href='vscode-notebook-cell:/c%3A/Users/ys/ai/marubatsu/038/marubatsu.ipynb#X42sZmlsZQ%3D%3D?line=0'>1</a>\u001b[0m mb\u001b[39m.\u001b[39mplay()\n",
      "\u001b[1;32mc:\\Users\\ys\\ai\\marubatsu\\038\\marubatsu.ipynb セル 31\u001b[0m line \u001b[0;36m2\n\u001b[0;32m     <a href='vscode-notebook-cell:/c%3A/Users/ys/ai/marubatsu/038/marubatsu.ipynb#X42sZmlsZQ%3D%3D?line=21'>22</a>\u001b[0m     x, y \u001b[39m=\u001b[39m xylist\n\u001b[0;32m     <a href='vscode-notebook-cell:/c%3A/Users/ys/ai/marubatsu/038/marubatsu.ipynb#X42sZmlsZQ%3D%3D?line=22'>23</a>\u001b[0m     \u001b[39m# (x, y) に着手を行う\u001b[39;00m\n\u001b[1;32m---> <a href='vscode-notebook-cell:/c%3A/Users/ys/ai/marubatsu/038/marubatsu.ipynb#X42sZmlsZQ%3D%3D?line=23'>24</a>\u001b[0m     \u001b[39mself\u001b[39m\u001b[39m.\u001b[39mmove(\u001b[39mint\u001b[39m(x), \u001b[39mint\u001b[39m(y))\n\u001b[0;32m     <a href='vscode-notebook-cell:/c%3A/Users/ys/ai/marubatsu/038/marubatsu.ipynb#X42sZmlsZQ%3D%3D?line=25'>26</a>\u001b[0m \u001b[39m# 決着がついたので、ゲーム盤を表示する\u001b[39;00m\n\u001b[0;32m     <a href='vscode-notebook-cell:/c%3A/Users/ys/ai/marubatsu/038/marubatsu.ipynb#X42sZmlsZQ%3D%3D?line=26'>27</a>\u001b[0m \u001b[39mprint\u001b[39m(\u001b[39mself\u001b[39m)\n",
      "\u001b[1;32mc:\\Users\\ys\\ai\\marubatsu\\038\\marubatsu.ipynb セル 31\u001b[0m line \u001b[0;36m2\n\u001b[0;32m      <a href='vscode-notebook-cell:/c%3A/Users/ys/ai/marubatsu/038/marubatsu.ipynb#X42sZmlsZQ%3D%3D?line=0'>1</a>\u001b[0m \u001b[39mdef\u001b[39;00m \u001b[39mmove\u001b[39m(\u001b[39mself\u001b[39m, x, y):\n\u001b[1;32m----> <a href='vscode-notebook-cell:/c%3A/Users/ys/ai/marubatsu/038/marubatsu.ipynb#X42sZmlsZQ%3D%3D?line=1'>2</a>\u001b[0m     \u001b[39mif\u001b[39;00m \u001b[39mself\u001b[39m\u001b[39m.\u001b[39mplace_mark(x, y, \u001b[39mself\u001b[39m\u001b[39m.\u001b[39mturn):\n\u001b[0;32m      <a href='vscode-notebook-cell:/c%3A/Users/ys/ai/marubatsu/038/marubatsu.ipynb#X42sZmlsZQ%3D%3D?line=2'>3</a>\u001b[0m         \u001b[39mself\u001b[39m\u001b[39m.\u001b[39mturn \u001b[39m=\u001b[39m Marubatsu\u001b[39m.\u001b[39mCROSS \u001b[39mif\u001b[39;00m \u001b[39mself\u001b[39m\u001b[39m.\u001b[39mturn \u001b[39m==\u001b[39m Marubatsu\u001b[39m.\u001b[39mCIRCLE \u001b[39melse\u001b[39;00m Marubatsu\u001b[39m.\u001b[39mCIRCLE  \n\u001b[0;32m      <a href='vscode-notebook-cell:/c%3A/Users/ys/ai/marubatsu/038/marubatsu.ipynb#X42sZmlsZQ%3D%3D?line=3'>4</a>\u001b[0m         \u001b[39mself\u001b[39m\u001b[39m.\u001b[39mmove_count \u001b[39m+\u001b[39m\u001b[39m=\u001b[39m \u001b[39m1\u001b[39m\n",
      "File \u001b[1;32mc:\\Users\\ys\\ai\\marubatsu\\038\\marubatsu.py:74\u001b[0m, in \u001b[0;36mMarubatsu.place_mark\u001b[1;34m(self, x, y, mark)\u001b[0m\n\u001b[0;32m     55\u001b[0m \u001b[39mdef\u001b[39;00m \u001b[39mplace_mark\u001b[39m(\u001b[39mself\u001b[39m, x: \u001b[39mint\u001b[39m, y: \u001b[39mint\u001b[39m, mark: \u001b[39mstr\u001b[39m) \u001b[39m-\u001b[39m\u001b[39m>\u001b[39m \u001b[39mbool\u001b[39m:\n\u001b[0;32m     56\u001b[0m \u001b[39m    \u001b[39m\u001b[39m\"\"\" ゲーム盤の指定したマスに指定したマークを配置する.\u001b[39;00m\n\u001b[0;32m     57\u001b[0m \n\u001b[0;32m     58\u001b[0m \u001b[39m    (x, y) のマスに mark で指定したマークを配置する.\u001b[39;00m\n\u001b[1;32m   (...)\u001b[0m\n\u001b[0;32m     71\u001b[0m \u001b[39m        マークを配置できた場合は True、配置できなかった場合は False\u001b[39;00m\n\u001b[0;32m     72\u001b[0m \u001b[39m    \"\"\"\u001b[39;00m\n\u001b[1;32m---> 74\u001b[0m     \u001b[39mif\u001b[39;00m \u001b[39mself\u001b[39m\u001b[39m.\u001b[39mboard[x][y] \u001b[39m==\u001b[39m Marubatsu\u001b[39m.\u001b[39mEMPTY:\n\u001b[0;32m     75\u001b[0m         \u001b[39mself\u001b[39m\u001b[39m.\u001b[39mboard[x][y] \u001b[39m=\u001b[39m mark\n\u001b[0;32m     76\u001b[0m         \u001b[39mreturn\u001b[39;00m \u001b[39mTrue\u001b[39;00m\n",
      "\u001b[1;31mIndexError\u001b[0m: list index out of range"
     ]
    }
   ],
   "source": [
    "mb.play()"
   ]
  },
  {
   "cell_type": "code",
   "execution_count": 22,
   "metadata": {},
   "outputs": [],
   "source": [
    "def place_mark(self, x, y, mark):\n",
    "    if x < 0 or x >= self.BOARD_SIZE or y < 0 or y > self.BOARD_SIZE:\n",
    "        print(\"(\", x, \",\", y, \") はゲーム盤の範囲外の座標です\")\n",
    "        return False         \n",
    "    elif self.board[x][y] == Marubatsu.EMPTY:\n",
    "        self.board[x][y] = mark\n",
    "        return True\n",
    "    else:\n",
    "        print(\"(\", x, \",\", y, \") のマスにはマークが配置済です\")\n",
    "        return False\n",
    "\n",
    "Marubatsu.place_mark = place_mark"
   ]
  },
  {
   "cell_type": "markdown",
   "metadata": {},
   "source": [
    "テキストボックスに 5,1　exit の順で入力しました"
   ]
  },
  {
   "cell_type": "code",
   "execution_count": 23,
   "metadata": {},
   "outputs": [
    {
     "name": "stdout",
     "output_type": "stream",
     "text": [
      "Turn o\n",
      "...\n",
      "...\n",
      "...\n",
      "\n",
      "( 5 , 1 ) はゲーム盤の範囲外の座標です\n",
      "Turn o\n",
      "...\n",
      "...\n",
      "...\n",
      "\n",
      "ゲームを終了します\n"
     ]
    }
   ],
   "source": [
    "mb.play()"
   ]
  },
  {
   "cell_type": "code",
   "execution_count": 24,
   "metadata": {},
   "outputs": [],
   "source": [
    "def place_mark(self, x, y, mark):\n",
    "    if self.board[x][y] == Marubatsu.EMPTY:\n",
    "        self.board[x][y] = mark\n",
    "        return True\n",
    "    elif x < 0 or x >= self.BOARD_SIZE or y < 0 or y > self.BOARD_SIZE:\n",
    "        print(\"(\", x, \",\", y, \") はゲーム盤の範囲外の座標です\")\n",
    "        return False         \n",
    "    else:\n",
    "        print(\"(\", x, \",\", y, \") のマスにはマークが配置済です\")\n",
    "        return False\n",
    "\n",
    "Marubatsu.place_mark = place_mark"
   ]
  },
  {
   "cell_type": "markdown",
   "metadata": {},
   "source": [
    "テキストボックスに 5,1 を入力しました"
   ]
  },
  {
   "cell_type": "code",
   "execution_count": 25,
   "metadata": {},
   "outputs": [
    {
     "name": "stdout",
     "output_type": "stream",
     "text": [
      "Turn o\n",
      "...\n",
      "...\n",
      "...\n",
      "\n"
     ]
    },
    {
     "ename": "IndexError",
     "evalue": "list index out of range",
     "output_type": "error",
     "traceback": [
      "\u001b[1;31m---------------------------------------------------------------------------\u001b[0m",
      "\u001b[1;31mIndexError\u001b[0m                                Traceback (most recent call last)",
      "\u001b[1;32mc:\\Users\\ys\\ai\\marubatsu\\038\\marubatsu.ipynb セル 37\u001b[0m line \u001b[0;36m1\n\u001b[1;32m----> <a href='vscode-notebook-cell:/c%3A/Users/ys/ai/marubatsu/038/marubatsu.ipynb#X51sZmlsZQ%3D%3D?line=0'>1</a>\u001b[0m mb\u001b[39m.\u001b[39mplay()\n",
      "\u001b[1;32mc:\\Users\\ys\\ai\\marubatsu\\038\\marubatsu.ipynb セル 37\u001b[0m line \u001b[0;36m2\n\u001b[0;32m     <a href='vscode-notebook-cell:/c%3A/Users/ys/ai/marubatsu/038/marubatsu.ipynb#X51sZmlsZQ%3D%3D?line=21'>22</a>\u001b[0m     x, y \u001b[39m=\u001b[39m xylist\n\u001b[0;32m     <a href='vscode-notebook-cell:/c%3A/Users/ys/ai/marubatsu/038/marubatsu.ipynb#X51sZmlsZQ%3D%3D?line=22'>23</a>\u001b[0m     \u001b[39m# (x, y) に着手を行う\u001b[39;00m\n\u001b[1;32m---> <a href='vscode-notebook-cell:/c%3A/Users/ys/ai/marubatsu/038/marubatsu.ipynb#X51sZmlsZQ%3D%3D?line=23'>24</a>\u001b[0m     \u001b[39mself\u001b[39m\u001b[39m.\u001b[39mmove(\u001b[39mint\u001b[39m(x), \u001b[39mint\u001b[39m(y))\n\u001b[0;32m     <a href='vscode-notebook-cell:/c%3A/Users/ys/ai/marubatsu/038/marubatsu.ipynb#X51sZmlsZQ%3D%3D?line=25'>26</a>\u001b[0m \u001b[39m# 決着がついたので、ゲーム盤を表示する\u001b[39;00m\n\u001b[0;32m     <a href='vscode-notebook-cell:/c%3A/Users/ys/ai/marubatsu/038/marubatsu.ipynb#X51sZmlsZQ%3D%3D?line=26'>27</a>\u001b[0m \u001b[39mprint\u001b[39m(\u001b[39mself\u001b[39m)\n",
      "\u001b[1;32mc:\\Users\\ys\\ai\\marubatsu\\038\\marubatsu.ipynb セル 37\u001b[0m line \u001b[0;36m2\n\u001b[0;32m      <a href='vscode-notebook-cell:/c%3A/Users/ys/ai/marubatsu/038/marubatsu.ipynb#X51sZmlsZQ%3D%3D?line=0'>1</a>\u001b[0m \u001b[39mdef\u001b[39;00m \u001b[39mmove\u001b[39m(\u001b[39mself\u001b[39m, x, y):\n\u001b[1;32m----> <a href='vscode-notebook-cell:/c%3A/Users/ys/ai/marubatsu/038/marubatsu.ipynb#X51sZmlsZQ%3D%3D?line=1'>2</a>\u001b[0m     \u001b[39mif\u001b[39;00m \u001b[39mself\u001b[39m\u001b[39m.\u001b[39mplace_mark(x, y, \u001b[39mself\u001b[39m\u001b[39m.\u001b[39mturn):\n\u001b[0;32m      <a href='vscode-notebook-cell:/c%3A/Users/ys/ai/marubatsu/038/marubatsu.ipynb#X51sZmlsZQ%3D%3D?line=2'>3</a>\u001b[0m         \u001b[39mself\u001b[39m\u001b[39m.\u001b[39mturn \u001b[39m=\u001b[39m Marubatsu\u001b[39m.\u001b[39mCROSS \u001b[39mif\u001b[39;00m \u001b[39mself\u001b[39m\u001b[39m.\u001b[39mturn \u001b[39m==\u001b[39m Marubatsu\u001b[39m.\u001b[39mCIRCLE \u001b[39melse\u001b[39;00m Marubatsu\u001b[39m.\u001b[39mCIRCLE  \n\u001b[0;32m      <a href='vscode-notebook-cell:/c%3A/Users/ys/ai/marubatsu/038/marubatsu.ipynb#X51sZmlsZQ%3D%3D?line=3'>4</a>\u001b[0m         \u001b[39mself\u001b[39m\u001b[39m.\u001b[39mmove_count \u001b[39m+\u001b[39m\u001b[39m=\u001b[39m \u001b[39m1\u001b[39m\n",
      "\u001b[1;32mc:\\Users\\ys\\ai\\marubatsu\\038\\marubatsu.ipynb セル 37\u001b[0m line \u001b[0;36m2\n\u001b[0;32m      <a href='vscode-notebook-cell:/c%3A/Users/ys/ai/marubatsu/038/marubatsu.ipynb#X51sZmlsZQ%3D%3D?line=0'>1</a>\u001b[0m \u001b[39mdef\u001b[39;00m \u001b[39mplace_mark\u001b[39m(\u001b[39mself\u001b[39m, x, y, mark):\n\u001b[1;32m----> <a href='vscode-notebook-cell:/c%3A/Users/ys/ai/marubatsu/038/marubatsu.ipynb#X51sZmlsZQ%3D%3D?line=1'>2</a>\u001b[0m     \u001b[39mif\u001b[39;00m \u001b[39mself\u001b[39m\u001b[39m.\u001b[39mboard[x][y] \u001b[39m==\u001b[39m Marubatsu\u001b[39m.\u001b[39mEMPTY:\n\u001b[0;32m      <a href='vscode-notebook-cell:/c%3A/Users/ys/ai/marubatsu/038/marubatsu.ipynb#X51sZmlsZQ%3D%3D?line=2'>3</a>\u001b[0m         \u001b[39mself\u001b[39m\u001b[39m.\u001b[39mboard[x][y] \u001b[39m=\u001b[39m mark\n\u001b[0;32m      <a href='vscode-notebook-cell:/c%3A/Users/ys/ai/marubatsu/038/marubatsu.ipynb#X51sZmlsZQ%3D%3D?line=3'>4</a>\u001b[0m         \u001b[39mreturn\u001b[39;00m \u001b[39mTrue\u001b[39;00m\n",
      "\u001b[1;31mIndexError\u001b[0m: list index out of range"
     ]
    }
   ],
   "source": [
    "mb.play()"
   ]
  },
  {
   "cell_type": "code",
   "execution_count": 26,
   "metadata": {},
   "outputs": [],
   "source": [
    "def place_mark(self, x, y, mark):\n",
    "    if x >= 0 and x < self.BOARD_SIZE and y >= 0 and y < self.BOARD_SIZE:\n",
    "        if self.board[x][y] == Marubatsu.EMPTY:\n",
    "            self.board[x][y] = mark\n",
    "            return True\n",
    "        else:\n",
    "            print(\"(\", x, \",\", y, \") のマスにはマークが配置済です\")\n",
    "            return False\n",
    "    else:\n",
    "        print(\"(\", x, \",\", y, \") はゲーム盤の範囲外の座標です\")\n",
    "        return False         \n",
    "\n",
    "Marubatsu.place_mark = place_mark"
   ]
  },
  {
   "cell_type": "markdown",
   "metadata": {},
   "source": [
    "テキストボックスに 5,1　exit の順で入力しました"
   ]
  },
  {
   "cell_type": "code",
   "execution_count": 27,
   "metadata": {},
   "outputs": [
    {
     "name": "stdout",
     "output_type": "stream",
     "text": [
      "Turn o\n",
      "...\n",
      "...\n",
      "...\n",
      "\n",
      "( 5 , 1 ) はゲーム盤の範囲外の座標です\n",
      "Turn o\n",
      "...\n",
      "...\n",
      "...\n",
      "\n",
      "ゲームを終了します\n"
     ]
    }
   ],
   "source": [
    "mb.play()"
   ]
  },
  {
   "cell_type": "code",
   "execution_count": 28,
   "metadata": {},
   "outputs": [],
   "source": [
    "def place_mark(self, x, y, mark):\n",
    "    if 0 <= x < self.BOARD_SIZE and 0 <= y < self.BOARD_SIZE:\n",
    "        if self.board[x][y] == Marubatsu.EMPTY:\n",
    "            self.board[x][y] = mark\n",
    "            return True\n",
    "        else:\n",
    "            print(\"(\", x, \",\", y, \") のマスにはマークが配置済です\")\n",
    "            return False\n",
    "    else:\n",
    "        print(\"(\", x, \",\", y, \") はゲーム盤の範囲外の座標です\")\n",
    "        return False         \n",
    "\n",
    "Marubatsu.place_mark = place_mark"
   ]
  },
  {
   "cell_type": "markdown",
   "metadata": {},
   "source": [
    "テキストボックスに 5,1　exit の順で入力しました"
   ]
  },
  {
   "cell_type": "code",
   "execution_count": 29,
   "metadata": {},
   "outputs": [
    {
     "name": "stdout",
     "output_type": "stream",
     "text": [
      "Turn o\n",
      "...\n",
      "...\n",
      "...\n",
      "\n",
      "( 5 , 1 ) はゲーム盤の範囲外の座標です\n",
      "Turn o\n",
      "...\n",
      "...\n",
      "...\n",
      "\n",
      "ゲームを終了します\n"
     ]
    }
   ],
   "source": [
    "mb.play()"
   ]
  },
  {
   "cell_type": "markdown",
   "metadata": {},
   "source": [
    "テキストボックスに a, b を入力しました"
   ]
  },
  {
   "cell_type": "code",
   "execution_count": 30,
   "metadata": {},
   "outputs": [
    {
     "name": "stdout",
     "output_type": "stream",
     "text": [
      "Turn o\n",
      "...\n",
      "...\n",
      "...\n",
      "\n"
     ]
    },
    {
     "ename": "ValueError",
     "evalue": "invalid literal for int() with base 10: 'a'",
     "output_type": "error",
     "traceback": [
      "\u001b[1;31m---------------------------------------------------------------------------\u001b[0m",
      "\u001b[1;31mValueError\u001b[0m                                Traceback (most recent call last)",
      "\u001b[1;32mc:\\Users\\ys\\ai\\marubatsu\\038\\marubatsu.ipynb セル 45\u001b[0m line \u001b[0;36m1\n\u001b[1;32m----> <a href='vscode-notebook-cell:/c%3A/Users/ys/ai/marubatsu/038/marubatsu.ipynb#Y113sZmlsZQ%3D%3D?line=0'>1</a>\u001b[0m mb\u001b[39m.\u001b[39mplay()\n",
      "\u001b[1;32mc:\\Users\\ys\\ai\\marubatsu\\038\\marubatsu.ipynb セル 45\u001b[0m line \u001b[0;36m2\n\u001b[0;32m     <a href='vscode-notebook-cell:/c%3A/Users/ys/ai/marubatsu/038/marubatsu.ipynb#Y113sZmlsZQ%3D%3D?line=21'>22</a>\u001b[0m     x, y \u001b[39m=\u001b[39m xylist\n\u001b[0;32m     <a href='vscode-notebook-cell:/c%3A/Users/ys/ai/marubatsu/038/marubatsu.ipynb#Y113sZmlsZQ%3D%3D?line=22'>23</a>\u001b[0m     \u001b[39m# (x, y) に着手を行う\u001b[39;00m\n\u001b[1;32m---> <a href='vscode-notebook-cell:/c%3A/Users/ys/ai/marubatsu/038/marubatsu.ipynb#Y113sZmlsZQ%3D%3D?line=23'>24</a>\u001b[0m     \u001b[39mself\u001b[39m\u001b[39m.\u001b[39mmove(\u001b[39mint\u001b[39m(x), \u001b[39mint\u001b[39m(y))\n\u001b[0;32m     <a href='vscode-notebook-cell:/c%3A/Users/ys/ai/marubatsu/038/marubatsu.ipynb#Y113sZmlsZQ%3D%3D?line=25'>26</a>\u001b[0m \u001b[39m# 決着がついたので、ゲーム盤を表示する\u001b[39;00m\n\u001b[0;32m     <a href='vscode-notebook-cell:/c%3A/Users/ys/ai/marubatsu/038/marubatsu.ipynb#Y113sZmlsZQ%3D%3D?line=26'>27</a>\u001b[0m \u001b[39mprint\u001b[39m(\u001b[39mself\u001b[39m)\n",
      "\u001b[1;31mValueError\u001b[0m: invalid literal for int() with base 10: 'a'"
     ]
    }
   ],
   "source": [
    "mb.play()"
   ]
  },
  {
   "cell_type": "code",
   "execution_count": 31,
   "metadata": {},
   "outputs": [],
   "source": [
    "def play(self):\n",
    "    # 〇×ゲームを再起動する\n",
    "    self.restart()\n",
    "    # ゲームの決着がついていない間繰り返す\n",
    "    while self.status == Marubatsu.PLAYING:\n",
    "        # ゲーム盤の表示\n",
    "        print(self)\n",
    "        # キーボードからの座標の入力\n",
    "        coord = input(\"x,y の形式で座標を入力して下さい。exit を入力すると終了します\")\n",
    "        # \"exit\" が入力されていればメッセージを表示して関数を終了する\n",
    "        if coord == \"exit\":\n",
    "            print(\"ゲームを終了します\")\n",
    "            return       \n",
    "        # x 座標と y 座標を要素として持つ list を計算する\n",
    "        xylist = coord.split(\",\")\n",
    "        # xylist の要素の数が 2 ではない場合\n",
    "        if len(xylist) != 2:\n",
    "            # エラーメッセージを表示する\n",
    "            print(\"x, y の形式ではありません\")\n",
    "            # 残りの while 文のブロックを実行せずに、次の繰り返し処理を行う\n",
    "            continue\n",
    "        x, y = xylist\n",
    "        # (x, y) に着手を行う\n",
    "        try:\n",
    "            self.move(int(x), int(y))\n",
    "        except:\n",
    "            print(\"整数の座標を入力して下さい\")\n",
    "\n",
    "    # 決着がついたので、ゲーム盤を表示する\n",
    "    print(self)\n",
    "\n",
    "Marubatsu.play = play"
   ]
  },
  {
   "cell_type": "markdown",
   "metadata": {},
   "source": [
    "テキストボックスに a,b　exit の順で入力しました"
   ]
  },
  {
   "cell_type": "code",
   "execution_count": 32,
   "metadata": {},
   "outputs": [
    {
     "name": "stdout",
     "output_type": "stream",
     "text": [
      "Turn o\n",
      "...\n",
      "...\n",
      "...\n",
      "\n",
      "整数の座標を入力して下さい\n",
      "Turn o\n",
      "...\n",
      "...\n",
      "...\n",
      "\n",
      "ゲームを終了します\n"
     ]
    }
   ],
   "source": [
    "mb.play()"
   ]
  },
  {
   "cell_type": "code",
   "execution_count": 33,
   "metadata": {},
   "outputs": [
    {
     "name": "stdout",
     "output_type": "stream",
     "text": [
      "ABC1+?\n",
      "abc1+?\n"
     ]
    }
   ],
   "source": [
    "txt = \"abc1+?\"\n",
    "print(txt.upper())\n",
    "print(txt)"
   ]
  },
  {
   "cell_type": "code",
   "execution_count": 34,
   "metadata": {},
   "outputs": [],
   "source": [
    "def restart(self):\n",
    "    self.initialize_board()\n",
    "    self.turn = Marubatsu.CIRCLE     \n",
    "    self.move_count = 0\n",
    "    self.status = Marubatsu.PLAYING\n",
    "    self.last_move = None\n",
    "    \n",
    "Marubatsu.restart = restart"
   ]
  },
  {
   "cell_type": "code",
   "execution_count": 35,
   "metadata": {},
   "outputs": [],
   "source": [
    "def move(self, x, y):\n",
    "    if self.place_mark(x, y, self.turn):\n",
    "        self.turn = Marubatsu.CROSS if self.turn == Marubatsu.CIRCLE else Marubatsu.CIRCLE  \n",
    "        self.move_count += 1\n",
    "        self.status = self.judge()\n",
    "        self.last_move = x, y\n",
    "\n",
    "Marubatsu.move = move  "
   ]
  },
  {
   "cell_type": "code",
   "execution_count": 36,
   "metadata": {},
   "outputs": [],
   "source": [
    "def __str__(self):\n",
    "    # ゲームの決着がついていない場合は、手番を表示する\n",
    "    if self.status == Marubatsu.PLAYING:\n",
    "        text = \"Turn \" + self.turn + \"\\n\"\n",
    "    # 決着がついていれば勝者を表示する\n",
    "    else:\n",
    "        text = \"winner \" + self.status + \"\\n\"\n",
    "    for y in range(self.BOARD_SIZE):\n",
    "        for x in range(self.BOARD_SIZE):\n",
    "            if self.last_move is not None and x == self.last_move[0] and y == self.last_move[1]:\n",
    "                text += self.board[x][y].upper()\n",
    "            else:\n",
    "                text += self.board[x][y]\n",
    "        text += \"\\n\"\n",
    "    return text\n",
    "\n",
    "Marubatsu.__str__ = __str__"
   ]
  },
  {
   "cell_type": "markdown",
   "metadata": {},
   "source": [
    "テキストボックスに 1,1　0,0　0,1　exit の順で入力しました"
   ]
  },
  {
   "cell_type": "code",
   "execution_count": 37,
   "metadata": {},
   "outputs": [
    {
     "name": "stdout",
     "output_type": "stream",
     "text": [
      "Turn o\n",
      "...\n",
      "...\n",
      "...\n",
      "\n",
      "Turn x\n",
      "...\n",
      ".O.\n",
      "...\n",
      "\n",
      "Turn o\n",
      "X..\n",
      ".o.\n",
      "...\n",
      "\n",
      "Turn x\n",
      "x..\n",
      "Oo.\n",
      "...\n",
      "\n",
      "ゲームを終了します\n"
     ]
    }
   ],
   "source": [
    "mb.play()"
   ]
  },
  {
   "cell_type": "code",
   "execution_count": 38,
   "metadata": {},
   "outputs": [],
   "source": [
    "def restart(self):\n",
    "    self.initialize_board()\n",
    "    self.turn = Marubatsu.CIRCLE     \n",
    "    self.move_count = 0\n",
    "    self.status = Marubatsu.PLAYING\n",
    "    self.last_move = -1, -1\n",
    "    \n",
    "Marubatsu.restart = restart"
   ]
  },
  {
   "cell_type": "code",
   "execution_count": 39,
   "metadata": {},
   "outputs": [],
   "source": [
    "def __str__(self):\n",
    "    # ゲームの決着がついていない場合は、手番を表示する\n",
    "    if self.status == Marubatsu.PLAYING:\n",
    "        text = \"Turn \" + self.turn + \"\\n\"\n",
    "    # 決着がついていれば勝者を表示する\n",
    "    else:\n",
    "        text = \"winner \" + self.status + \"\\n\"\n",
    "    for y in range(self.BOARD_SIZE):\n",
    "        for x in range(self.BOARD_SIZE):\n",
    "            lastx, lasty = self.last_move\n",
    "            if x == lastx and y == lasty:\n",
    "                text += self.board[x][y].upper()\n",
    "            else:\n",
    "                text += self.board[x][y]\n",
    "        text += \"\\n\"\n",
    "    return text\n",
    "\n",
    "Marubatsu.__str__ = __str__"
   ]
  },
  {
   "cell_type": "markdown",
   "metadata": {},
   "source": [
    "テキストボックスに 1,1　0,0　0,1　exit の順で入力しました"
   ]
  },
  {
   "cell_type": "code",
   "execution_count": 40,
   "metadata": {},
   "outputs": [
    {
     "name": "stdout",
     "output_type": "stream",
     "text": [
      "Turn o\n",
      "...\n",
      "...\n",
      "...\n",
      "\n",
      "Turn x\n",
      "...\n",
      ".O.\n",
      "...\n",
      "\n",
      "Turn o\n",
      "X..\n",
      ".o.\n",
      "...\n",
      "\n",
      "Turn x\n",
      "x..\n",
      "Oo.\n",
      "...\n",
      "\n",
      "ゲームを終了します\n"
     ]
    }
   ],
   "source": [
    "mb.play()"
   ]
  }
 ],
 "metadata": {
  "kernelspec": {
   "display_name": "marubatsu",
   "language": "python",
   "name": "python3"
  },
  "language_info": {
   "codemirror_mode": {
    "name": "ipython",
    "version": 3
   },
   "file_extension": ".py",
   "mimetype": "text/x-python",
   "name": "python",
   "nbconvert_exporter": "python",
   "pygments_lexer": "ipython3",
   "version": "3.11.4"
  }
 },
 "nbformat": 4,
 "nbformat_minor": 2
}
