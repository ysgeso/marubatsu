{
 "cells": [
  {
   "cell_type": "code",
   "execution_count": 1,
   "id": "4fa7f748",
   "metadata": {},
   "outputs": [
    {
     "name": "stdout",
     "output_type": "stream",
     "text": [
      "[['.' '.' '.']\n",
      " ['.' '.' '.']\n",
      " ['.' '.' '.']]\n"
     ]
    }
   ],
   "source": [
    "from marubatsu import Marubatsu\n",
    "import numpy as np\n",
    "\n",
    "board = np.full((3, 3), Marubatsu.EMPTY)\n",
    "print(board)"
   ]
  },
  {
   "cell_type": "code",
   "execution_count": 2,
   "id": "e2b573bd",
   "metadata": {},
   "outputs": [
    {
     "name": "stdout",
     "output_type": "stream",
     "text": [
      "2.71 μs ± 28.1 ns per loop (mean ± std. dev. of 7 runs, 100,000 loops each)\n",
      "1.39 μs ± 31 ns per loop (mean ± std. dev. of 7 runs, 1,000,000 loops each)\n"
     ]
    }
   ],
   "source": [
    "%timeit np.array([[Marubatsu.EMPTY] * 3 for y in range(3)])\n",
    "%timeit np.full((3, 3), Marubatsu.EMPTY)"
   ]
  },
  {
   "cell_type": "code",
   "execution_count": 3,
   "id": "301942f8",
   "metadata": {},
   "outputs": [
    {
     "name": "stdout",
     "output_type": "stream",
     "text": [
      "[[0. 0. 0.]\n",
      " [0. 0. 0.]\n",
      " [0. 0. 0.]]\n"
     ]
    }
   ],
   "source": [
    "print(np.zeros((3, 3)))"
   ]
  },
  {
   "cell_type": "code",
   "execution_count": 4,
   "id": "b59191d2",
   "metadata": {},
   "outputs": [],
   "source": [
    "from marubatsu import NpBoard\n",
    "\n",
    "def __init__(self, board_size=3, count_linemark=False):\n",
    "    self.BOARD_SIZE = board_size\n",
    "    self.count_linemark = count_linemark\n",
    "    self.board = np.full((self.BOARD_SIZE, self.BOARD_SIZE), Marubatsu.EMPTY)\n",
    "    if self.count_linemark:\n",
    "        self.rowcount = {\n",
    "            Marubatsu.CIRCLE: [0] * self.BOARD_SIZE,\n",
    "            Marubatsu.CROSS: [0] * self.BOARD_SIZE,\n",
    "        }\n",
    "        self.colcount = {\n",
    "            Marubatsu.CIRCLE: [0] * self.BOARD_SIZE,\n",
    "            Marubatsu.CROSS: [0] * self.BOARD_SIZE,\n",
    "        }\n",
    "        self.diacount = {\n",
    "            Marubatsu.CIRCLE: [0] * 2,\n",
    "            Marubatsu.CROSS: [0] * 2,\n",
    "        }\n",
    "        \n",
    "NpBoard.__init__ = __init__"
   ]
  },
  {
   "cell_type": "code",
   "execution_count": 5,
   "id": "bba140f3",
   "metadata": {},
   "outputs": [
    {
     "name": "stdout",
     "output_type": "stream",
     "text": [
      "boardclass: NpBoard, count_linemark False\n",
      "ai2 VS ai2\n"
     ]
    },
    {
     "name": "stderr",
     "output_type": "stream",
     "text": [
      "100%|██████████| 50000/50000 [00:08<00:00, 6050.94it/s]\n"
     ]
    },
    {
     "name": "stdout",
     "output_type": "stream",
     "text": [
      "count     win    lose    draw\n",
      "o       29454   14352    6194\n",
      "x       14208   29592    6200\n",
      "total   43662   43944   12394\n",
      "\n",
      "ratio     win    lose    draw\n",
      "o       58.9%   28.7%   12.4%\n",
      "x       28.4%   59.2%   12.4%\n",
      "total   43.7%   43.9%   12.4%\n",
      "\n",
      "ai14s VS ai2\n"
     ]
    },
    {
     "name": "stderr",
     "output_type": "stream",
     "text": [
      "100%|██████████| 50000/50000 [01:18<00:00, 639.81it/s]\n"
     ]
    },
    {
     "name": "stdout",
     "output_type": "stream",
     "text": [
      "count     win    lose    draw\n",
      "o       49446       0     554\n",
      "x       44043       0    5957\n",
      "total   93489       0    6511\n",
      "\n",
      "ratio     win    lose    draw\n",
      "o       98.9%    0.0%    1.1%\n",
      "x       88.1%    0.0%   11.9%\n",
      "total   93.5%    0.0%    6.5%\n",
      "\n",
      "ai_abs_dls\n",
      " 43.9 ms ±   3.9 ms per loop (mean ± std. dev. of 7 runs, 10 loops each)\n",
      "\n",
      "boardclass: NpBoard, count_linemark True\n",
      "ai2 VS ai2\n"
     ]
    },
    {
     "name": "stderr",
     "output_type": "stream",
     "text": [
      "100%|██████████| 50000/50000 [00:07<00:00, 7087.24it/s]\n"
     ]
    },
    {
     "name": "stdout",
     "output_type": "stream",
     "text": [
      "count     win    lose    draw\n",
      "o       29454   14352    6194\n",
      "x       14208   29592    6200\n",
      "total   43662   43944   12394\n",
      "\n",
      "ratio     win    lose    draw\n",
      "o       58.9%   28.7%   12.4%\n",
      "x       28.4%   59.2%   12.4%\n",
      "total   43.7%   43.9%   12.4%\n",
      "\n",
      "ai14s VS ai2\n"
     ]
    },
    {
     "name": "stderr",
     "output_type": "stream",
     "text": [
      "100%|██████████| 50000/50000 [00:32<00:00, 1540.64it/s]\n"
     ]
    },
    {
     "name": "stdout",
     "output_type": "stream",
     "text": [
      "count     win    lose    draw\n",
      "o       49446       0     554\n",
      "x       44043       0    5957\n",
      "total   93489       0    6511\n",
      "\n",
      "ratio     win    lose    draw\n",
      "o       98.9%    0.0%    1.1%\n",
      "x       88.1%    0.0%   11.9%\n",
      "total   93.5%    0.0%    6.5%\n",
      "\n",
      "ai_abs_dls\n",
      " 43.2 ms ±   3.0 ms per loop (mean ± std. dev. of 7 runs, 10 loops each)\n",
      "\n"
     ]
    }
   ],
   "source": [
    "from util import benchmark\n",
    "\n",
    "boardclass = NpBoard\n",
    "for count_linemark in [False, True]:\n",
    "    print(f\"boardclass: {boardclass.__name__}, count_linemark {count_linemark}\")\n",
    "    benchmark(mbparams={\"boardclass\": boardclass, \"count_linemark\": count_linemark})\n",
    "    print()"
   ]
  },
  {
   "cell_type": "code",
   "execution_count": 6,
   "id": "a7ab37c2",
   "metadata": {},
   "outputs": [
    {
     "name": "stdout",
     "output_type": "stream",
     "text": [
      ".\n",
      "o\n",
      "[['.' '.' '.']\n",
      " ['o' '.' '.']\n",
      " ['.' '.' '.']]\n"
     ]
    }
   ],
   "source": [
    "print(board[(1, 0)])\n",
    "board[(1, 0)]= Marubatsu.CIRCLE\n",
    "print(board[1, 0])\n",
    "print(board)"
   ]
  },
  {
   "cell_type": "code",
   "execution_count": 7,
   "id": "4746d925",
   "metadata": {},
   "outputs": [
    {
     "name": "stdout",
     "output_type": "stream",
     "text": [
      "342 ns ± 12.8 ns per loop (mean ± std. dev. of 7 runs, 1,000,000 loops each)\n",
      "229 ns ± 2.34 ns per loop (mean ± std. dev. of 7 runs, 1,000,000 loops each)\n",
      "255 ns ± 2.07 ns per loop (mean ± std. dev. of 7 runs, 1,000,000 loops each)\n",
      "148 ns ± 2.59 ns per loop (mean ± std. dev. of 7 runs, 10,000,000 loops each)\n"
     ]
    }
   ],
   "source": [
    "%timeit board[1][0]\n",
    "%timeit board[1, 0]\n",
    "%timeit board[1][0] = Marubatsu.CIRCLE\n",
    "%timeit board[1, 0] = Marubatsu.CIRCLE"
   ]
  },
  {
   "cell_type": "code",
   "execution_count": 8,
   "id": "2339ef74",
   "metadata": {},
   "outputs": [],
   "source": [
    "from marubatsu import Markpat\n",
    "from collections import defaultdict\n",
    "\n",
    "def getmark_by_move(self, move):\n",
    "    return self.board[move]    \n",
    "\n",
    "NpBoard.getmark_by_move = getmark_by_move\n",
    "\n",
    "def getmark(self, x, y):\n",
    "    return self.board[x, y]\n",
    "\n",
    "NpBoard.getmark = getmark\n",
    "\n",
    "def setmark_by_move(self, move, mark):\n",
    "    if self.count_linemark:\n",
    "        x, y = move\n",
    "        if mark != Marubatsu.EMPTY:\n",
    "            diff = 1\n",
    "            changedmark = mark\n",
    "        else:\n",
    "            diff = -1\n",
    "            changedmark = self.board[move]\n",
    "        self.colcount[changedmark][x] += diff\n",
    "        self.rowcount[changedmark][y] += diff\n",
    "        if x == y:\n",
    "            self.diacount[changedmark][0] += diff\n",
    "        if x + y == self.BOARD_SIZE - 1:\n",
    "            self.diacount[changedmark][1] += diff\n",
    "    self.board[move] = mark\n",
    "    \n",
    "NpBoard.setmark_by_move = setmark_by_move\n",
    "\n",
    "def calc_legal_moves(self):\n",
    "    legal_moves = [(x, y) for y in range(self.BOARD_SIZE) \n",
    "                        for x in range(self.BOARD_SIZE)\n",
    "                        if self.board[x, y] == Marubatsu.EMPTY]\n",
    "    return legal_moves    \n",
    "    \n",
    "NpBoard.calc_legal_moves = calc_legal_moves\n",
    "\n",
    "def is_same(self, mark, x, y, dx, dy):\n",
    "    text_list = [self.board[x + i * dx, y + i * dy] \n",
    "                    for i in range(self.BOARD_SIZE)]\n",
    "    line_text = \"\".join(text_list)\n",
    "    return line_text == mark * self.BOARD_SIZE\n",
    "    \n",
    "NpBoard.is_same = is_same  \n",
    "\n",
    "def count_marks(self, turn, last_turn, x, y, dx, dy, datatype):\n",
    "    count = defaultdict(int)\n",
    "    for _ in range(self.BOARD_SIZE):\n",
    "        count[self.board[x, y]] += 1\n",
    "        x += dx\n",
    "        y += dy\n",
    "\n",
    "    if datatype == \"dict\":\n",
    "        return count\n",
    "    else:\n",
    "        return Markpat(count[last_turn], count[turn], count[Marubatsu.EMPTY])\n",
    "    \n",
    "NpBoard.count_marks = count_marks  "
   ]
  },
  {
   "cell_type": "code",
   "execution_count": 9,
   "id": "6312806a",
   "metadata": {},
   "outputs": [
    {
     "name": "stdout",
     "output_type": "stream",
     "text": [
      "boardclass: NpBoard, count_linemark False\n",
      "ai2 VS ai2\n"
     ]
    },
    {
     "name": "stderr",
     "output_type": "stream",
     "text": [
      "100%|██████████| 50000/50000 [00:06<00:00, 7252.75it/s]\n"
     ]
    },
    {
     "name": "stdout",
     "output_type": "stream",
     "text": [
      "count     win    lose    draw\n",
      "o       29454   14352    6194\n",
      "x       14208   29592    6200\n",
      "total   43662   43944   12394\n",
      "\n",
      "ratio     win    lose    draw\n",
      "o       58.9%   28.7%   12.4%\n",
      "x       28.4%   59.2%   12.4%\n",
      "total   43.7%   43.9%   12.4%\n",
      "\n",
      "ai14s VS ai2\n"
     ]
    },
    {
     "name": "stderr",
     "output_type": "stream",
     "text": [
      "100%|██████████| 50000/50000 [01:08<00:00, 726.09it/s]\n"
     ]
    },
    {
     "name": "stdout",
     "output_type": "stream",
     "text": [
      "count     win    lose    draw\n",
      "o       49446       0     554\n",
      "x       44043       0    5957\n",
      "total   93489       0    6511\n",
      "\n",
      "ratio     win    lose    draw\n",
      "o       98.9%    0.0%    1.1%\n",
      "x       88.1%    0.0%   11.9%\n",
      "total   93.5%    0.0%    6.5%\n",
      "\n",
      "ai_abs_dls\n",
      " 39.5 ms ±   2.3 ms per loop (mean ± std. dev. of 7 runs, 10 loops each)\n",
      "\n",
      "boardclass: NpBoard, count_linemark True\n",
      "ai2 VS ai2\n"
     ]
    },
    {
     "name": "stderr",
     "output_type": "stream",
     "text": [
      "100%|██████████| 50000/50000 [00:06<00:00, 8313.93it/s]\n"
     ]
    },
    {
     "name": "stdout",
     "output_type": "stream",
     "text": [
      "count     win    lose    draw\n",
      "o       29454   14352    6194\n",
      "x       14208   29592    6200\n",
      "total   43662   43944   12394\n",
      "\n",
      "ratio     win    lose    draw\n",
      "o       58.9%   28.7%   12.4%\n",
      "x       28.4%   59.2%   12.4%\n",
      "total   43.7%   43.9%   12.4%\n",
      "\n",
      "ai14s VS ai2\n"
     ]
    },
    {
     "name": "stderr",
     "output_type": "stream",
     "text": [
      "100%|██████████| 50000/50000 [00:30<00:00, 1657.19it/s]\n"
     ]
    },
    {
     "name": "stdout",
     "output_type": "stream",
     "text": [
      "count     win    lose    draw\n",
      "o       49446       0     554\n",
      "x       44043       0    5957\n",
      "total   93489       0    6511\n",
      "\n",
      "ratio     win    lose    draw\n",
      "o       98.9%    0.0%    1.1%\n",
      "x       88.1%    0.0%   11.9%\n",
      "total   93.5%    0.0%    6.5%\n",
      "\n",
      "ai_abs_dls\n",
      " 38.8 ms ±   3.1 ms per loop (mean ± std. dev. of 7 runs, 10 loops each)\n",
      "\n"
     ]
    }
   ],
   "source": [
    "for count_linemark in [False, True]:\n",
    "    print(f\"boardclass: {boardclass.__name__}, count_linemark {count_linemark}\")\n",
    "    benchmark(mbparams={\"boardclass\": boardclass, \"count_linemark\": count_linemark})\n",
    "    print()"
   ]
  },
  {
   "cell_type": "code",
   "execution_count": 10,
   "id": "b34da617",
   "metadata": {},
   "outputs": [
    {
     "name": "stdout",
     "output_type": "stream",
     "text": [
      "Turn x\n",
      "ox.\n",
      "O..\n",
      "...\n",
      "\n",
      "['o', 'o', '.']\n",
      "['x', '.', '.']\n",
      "['.', '.', '.']\n"
     ]
    }
   ],
   "source": [
    "mb = Marubatsu()\n",
    "mb.cmove(0, 0)\n",
    "mb.cmove(1, 0)\n",
    "mb.cmove(0, 1)\n",
    "print(mb)\n",
    "print(mb.board.board[0])\n",
    "print(mb.board.board[1])\n",
    "print(mb.board.board[2])"
   ]
  },
  {
   "cell_type": "code",
   "execution_count": 11,
   "id": "dcd79de5",
   "metadata": {},
   "outputs": [
    {
     "name": "stdout",
     "output_type": "stream",
     "text": [
      "['o', 'o', '.']\n",
      "['x', '.', '.']\n",
      "['.', '.', '.']\n"
     ]
    }
   ],
   "source": [
    "print(mb.board.board[0][:])\n",
    "print(mb.board.board[1][:])\n",
    "print(mb.board.board[2][:])"
   ]
  },
  {
   "cell_type": "code",
   "execution_count": 12,
   "id": "9feb77da",
   "metadata": {},
   "outputs": [
    {
     "name": "stdout",
     "output_type": "stream",
     "text": [
      "['o', 'o', '.']\n",
      "['x', '.', '.']\n",
      "['.', '.', '.']\n"
     ]
    }
   ],
   "source": [
    "print(mb.board.board[:][0])\n",
    "print(mb.board.board[:][1])\n",
    "print(mb.board.board[:][2])"
   ]
  },
  {
   "cell_type": "code",
   "execution_count": 13,
   "id": "62f9aa37",
   "metadata": {},
   "outputs": [
    {
     "name": "stdout",
     "output_type": "stream",
     "text": [
      "[['o', 'o', '.'], ['x', '.', '.'], ['.', '.', '.']]\n",
      "[['o', 'o', '.'], ['x', '.', '.'], ['.', '.', '.']]\n"
     ]
    }
   ],
   "source": [
    "print(mb.board.board[:])\n",
    "print(mb.board.board)"
   ]
  },
  {
   "cell_type": "code",
   "execution_count": 14,
   "id": "e6b1aa62",
   "metadata": {},
   "outputs": [
    {
     "name": "stdout",
     "output_type": "stream",
     "text": [
      "Turn x\n",
      "ox.\n",
      "O..\n",
      "...\n",
      "\n",
      "['o' 'o' '.']\n",
      "['x' '.' '.']\n",
      "['.' '.' '.']\n",
      "['o' 'o' '.']\n",
      "['x' '.' '.']\n",
      "['.' '.' '.']\n",
      "['o' 'o' '.']\n",
      "['x' '.' '.']\n",
      "['.' '.' '.']\n"
     ]
    }
   ],
   "source": [
    "mbnp = Marubatsu(boardclass=NpBoard)\n",
    "mbnp.cmove(0, 0)\n",
    "mbnp.cmove(1, 0)\n",
    "mbnp.cmove(0, 1)\n",
    "print(mbnp)\n",
    "print(mbnp.board.board[0])\n",
    "print(mbnp.board.board[1])\n",
    "print(mbnp.board.board[2])\n",
    "print(mbnp.board.board[0][:])\n",
    "print(mbnp.board.board[1][:])\n",
    "print(mbnp.board.board[2][:])\n",
    "print(mbnp.board.board[0, :])\n",
    "print(mbnp.board.board[1, :])\n",
    "print(mbnp.board.board[2, :])"
   ]
  },
  {
   "cell_type": "code",
   "execution_count": 15,
   "id": "bea3b767",
   "metadata": {},
   "outputs": [
    {
     "name": "stdout",
     "output_type": "stream",
     "text": [
      "['o' 'x' '.']\n",
      "['o' '.' '.']\n",
      "['.' '.' '.']\n"
     ]
    }
   ],
   "source": [
    "print(mbnp.board.board[:, 0])\n",
    "print(mbnp.board.board[:, 1])\n",
    "print(mbnp.board.board[:, 2])"
   ]
  },
  {
   "cell_type": "code",
   "execution_count": 16,
   "id": "eb3e5f29",
   "metadata": {},
   "outputs": [
    {
     "name": "stdout",
     "output_type": "stream",
     "text": [
      "oo.\n",
      "ox.\n"
     ]
    }
   ],
   "source": [
    "print(\"\".join(mbnp.board.board[0, :]))\n",
    "print(\"\".join(mbnp.board.board[:, 0]))"
   ]
  },
  {
   "cell_type": "code",
   "execution_count": 17,
   "id": "52e42684",
   "metadata": {},
   "outputs": [
    {
     "name": "stdout",
     "output_type": "stream",
     "text": [
      "0 列の計算\n",
      "1.32 μs ± 23.4 ns per loop (mean ± std. dev. of 7 runs, 1,000,000 loops each)\n",
      "1.63 μs ± 29.4 ns per loop (mean ± std. dev. of 7 runs, 1,000,000 loops each)\n",
      "0 行の計算\n",
      "1.3 μs ± 23.9 ns per loop (mean ± std. dev. of 7 runs, 1,000,000 loops each)\n",
      "1.73 μs ± 40.7 ns per loop (mean ± std. dev. of 7 runs, 1,000,000 loops each)\n"
     ]
    }
   ],
   "source": [
    "player = Marubatsu.CIRCLE\n",
    "print(\"0 列の計算\")\n",
    "%timeit mbnp.board.is_same(player, x=0, y=0, dx=1, dy=0)\n",
    "%timeit \"\".join(mbnp.board.board[0, :]) == \"ooo\"\n",
    "print(\"0 行の計算\")\n",
    "%timeit mbnp.board.is_same(player, x=0, y=0, dx=0, dy=1)\n",
    "%timeit \"\".join(mbnp.board.board[:, 0]) == player * mb.BOARD_SIZE\n"
   ]
  },
  {
   "cell_type": "code",
   "execution_count": 18,
   "id": "ea72c3b8",
   "metadata": {},
   "outputs": [
    {
     "name": "stdout",
     "output_type": "stream",
     "text": [
      "1.34 μs ± 56.5 ns per loop (mean ± std. dev. of 7 runs, 1,000,000 loops each)\n",
      "190 ns ± 12.6 ns per loop (mean ± std. dev. of 7 runs, 1,000,000 loops each)\n"
     ]
    }
   ],
   "source": [
    "x = 0\n",
    "y = 0\n",
    "dx = 1\n",
    "dy = 0\n",
    "%timeit [mbnp.board.board[x + i * dx][y + i * dy]  for i in range(mbnp.BOARD_SIZE)]\n",
    "%timeit mbnp.board.board[0, :]"
   ]
  },
  {
   "cell_type": "code",
   "execution_count": 19,
   "id": "2c26fa7c",
   "metadata": {},
   "outputs": [
    {
     "name": "stdout",
     "output_type": "stream",
     "text": [
      "['o', 'o', '.']\n"
     ]
    }
   ],
   "source": [
    "print(mbnp.board.board[0, :].tolist())"
   ]
  },
  {
   "cell_type": "code",
   "execution_count": 20,
   "id": "24abc93f",
   "metadata": {},
   "outputs": [
    {
     "name": "stdout",
     "output_type": "stream",
     "text": [
      "406 ns ± 21.3 ns per loop (mean ± std. dev. of 7 runs, 1,000,000 loops each)\n"
     ]
    }
   ],
   "source": [
    "%timeit \"\".join(mbnp.board.board[0, :].tolist()) == \"ooo\""
   ]
  },
  {
   "cell_type": "code",
   "execution_count": 33,
   "id": "ecf58eca",
   "metadata": {},
   "outputs": [
    {
     "name": "stdout",
     "output_type": "stream",
     "text": [
      "1.47 μs ± 40 ns per loop (mean ± std. dev. of 7 runs, 1,000,000 loops each)\n",
      "284 ns ± 5.28 ns per loop (mean ± std. dev. of 7 runs, 1,000,000 loops each)\n"
     ]
    }
   ],
   "source": [
    "%timeit list(mbnp.board.board[0, :])\n",
    "%timeit mbnp.board.board[0, :].tolist()"
   ]
  },
  {
   "cell_type": "code",
   "execution_count": 21,
   "id": "f8a15acf",
   "metadata": {},
   "outputs": [
    {
     "name": "stdout",
     "output_type": "stream",
     "text": [
      "Turn x\n",
      "o..\n",
      ".x.\n",
      "..O\n",
      "\n",
      "['o' 'x' 'o']\n"
     ]
    }
   ],
   "source": [
    "mbnp = Marubatsu(boardclass=NpBoard)\n",
    "mbnp.cmove(0, 0)\n",
    "mbnp.cmove(1, 1)\n",
    "mbnp.cmove(2, 2)\n",
    "print(mbnp)\n",
    "print(np.diag(mbnp.board.board))"
   ]
  },
  {
   "cell_type": "code",
   "execution_count": 22,
   "id": "08c2f9de",
   "metadata": {},
   "outputs": [
    {
     "name": "stdout",
     "output_type": "stream",
     "text": [
      "[['o' '.' '.']\n",
      " ['.' 'x' '.']\n",
      " ['.' '.' 'o']]\n",
      "[['.' '.' 'o']\n",
      " ['.' 'x' '.']\n",
      " ['o' '.' '.']]\n"
     ]
    }
   ],
   "source": [
    "print(mbnp.board.board)\n",
    "print(np.fliplr(mbnp.board.board))\n"
   ]
  },
  {
   "cell_type": "code",
   "execution_count": 23,
   "id": "f608ca2e",
   "metadata": {},
   "outputs": [
    {
     "name": "stdout",
     "output_type": "stream",
     "text": [
      "['.' 'x' '.']\n"
     ]
    }
   ],
   "source": [
    "print(np.diag(np.fliplr(mbnp.board.board)))"
   ]
  },
  {
   "cell_type": "code",
   "execution_count": 24,
   "id": "758be82e",
   "metadata": {},
   "outputs": [],
   "source": [
    "def is_winner(self, player, last_move):\n",
    "    x, y = last_move\n",
    "    if self.count_linemark:\n",
    "        if self.rowcount[player][y] == self.BOARD_SIZE or \\\n",
    "        self.colcount[player][x] == self.BOARD_SIZE:\n",
    "            return True\n",
    "        # 左上から右下方向の判定\n",
    "        if x == y and self.diacount[player][0] == self.BOARD_SIZE:\n",
    "            return True\n",
    "        # 右上から左下方向の判定\n",
    "        if x + y == self.BOARD_SIZE - 1 and \\\n",
    "            self.diacount[player][1] == self.BOARD_SIZE:\n",
    "            return True\n",
    "    else:\n",
    "        winstr = player * self.BOARD_SIZE\n",
    "        if \"\".join(self.board[x, :].tolist()) == winstr  or \\\n",
    "        \"\".join(self.board[:, y].tolist()) == winstr:\n",
    "            return True\n",
    "        # 左上から右下方向の判定\n",
    "        if x == y and \"\".join(np.diag(self.board).tolist()) == winstr:\n",
    "            return True\n",
    "        # 右上から左下方向の判定\n",
    "        if x + y == self.BOARD_SIZE - 1 and \\\n",
    "            \"\".join(np.diag(np.fliplr(self.board)).tolist()) == winstr:\n",
    "            return True\n",
    "    \n",
    "    # どの一直線上にも配置されていない場合は、player は勝利していないので False を返す\n",
    "    return False\n",
    "\n",
    "NpBoard.is_winner = is_winner"
   ]
  },
  {
   "cell_type": "code",
   "execution_count": 25,
   "id": "393ab5e4",
   "metadata": {},
   "outputs": [
    {
     "name": "stdout",
     "output_type": "stream",
     "text": [
      "boardclass: NpBoard, count_linemark False\n",
      "ai2 VS ai2\n"
     ]
    },
    {
     "name": "stderr",
     "output_type": "stream",
     "text": [
      "100%|██████████| 50000/50000 [00:06<00:00, 7778.06it/s]\n"
     ]
    },
    {
     "name": "stdout",
     "output_type": "stream",
     "text": [
      "count     win    lose    draw\n",
      "o       29454   14352    6194\n",
      "x       14208   29592    6200\n",
      "total   43662   43944   12394\n",
      "\n",
      "ratio     win    lose    draw\n",
      "o       58.9%   28.7%   12.4%\n",
      "x       28.4%   59.2%   12.4%\n",
      "total   43.7%   43.9%   12.4%\n",
      "\n",
      "ai14s VS ai2\n"
     ]
    },
    {
     "name": "stderr",
     "output_type": "stream",
     "text": [
      "100%|██████████| 50000/50000 [01:08<00:00, 732.36it/s]\n"
     ]
    },
    {
     "name": "stdout",
     "output_type": "stream",
     "text": [
      "count     win    lose    draw\n",
      "o       49446       0     554\n",
      "x       44043       0    5957\n",
      "total   93489       0    6511\n",
      "\n",
      "ratio     win    lose    draw\n",
      "o       98.9%    0.0%    1.1%\n",
      "x       88.1%    0.0%   11.9%\n",
      "total   93.5%    0.0%    6.5%\n",
      "\n",
      "ai_abs_dls\n",
      " 39.2 ms ±   5.2 ms per loop (mean ± std. dev. of 7 runs, 10 loops each)\n",
      "\n",
      "boardclass: NpBoard, count_linemark True\n",
      "ai2 VS ai2\n"
     ]
    },
    {
     "name": "stderr",
     "output_type": "stream",
     "text": [
      "100%|██████████| 50000/50000 [00:06<00:00, 8005.89it/s]\n"
     ]
    },
    {
     "name": "stdout",
     "output_type": "stream",
     "text": [
      "count     win    lose    draw\n",
      "o       29454   14352    6194\n",
      "x       14208   29592    6200\n",
      "total   43662   43944   12394\n",
      "\n",
      "ratio     win    lose    draw\n",
      "o       58.9%   28.7%   12.4%\n",
      "x       28.4%   59.2%   12.4%\n",
      "total   43.7%   43.9%   12.4%\n",
      "\n",
      "ai14s VS ai2\n"
     ]
    },
    {
     "name": "stderr",
     "output_type": "stream",
     "text": [
      "100%|██████████| 50000/50000 [00:30<00:00, 1659.97it/s]\n"
     ]
    },
    {
     "name": "stdout",
     "output_type": "stream",
     "text": [
      "count     win    lose    draw\n",
      "o       49446       0     554\n",
      "x       44043       0    5957\n",
      "total   93489       0    6511\n",
      "\n",
      "ratio     win    lose    draw\n",
      "o       98.9%    0.0%    1.1%\n",
      "x       88.1%    0.0%   11.9%\n",
      "total   93.5%    0.0%    6.5%\n",
      "\n",
      "ai_abs_dls\n",
      " 38.8 ms ±   2.6 ms per loop (mean ± std. dev. of 7 runs, 10 loops each)\n",
      "\n"
     ]
    }
   ],
   "source": [
    "for count_linemark in [False, True]:\n",
    "    print(f\"boardclass: {boardclass.__name__}, count_linemark {count_linemark}\")\n",
    "    benchmark(mbparams={\"boardclass\": boardclass, \"count_linemark\": count_linemark})\n",
    "    print()"
   ]
  },
  {
   "cell_type": "code",
   "execution_count": 26,
   "id": "941f940d",
   "metadata": {},
   "outputs": [
    {
     "name": "stdout",
     "output_type": "stream",
     "text": [
      "49995000\n",
      "49995000\n"
     ]
    }
   ],
   "source": [
    "l = [i for i in range(10000)]\n",
    "print(sum(l))\n",
    "a = np.array(l)\n",
    "print(np.sum(a))"
   ]
  },
  {
   "cell_type": "code",
   "execution_count": 27,
   "id": "c96eac70",
   "metadata": {},
   "outputs": [
    {
     "name": "stdout",
     "output_type": "stream",
     "text": [
      "sum(l)\n",
      "51.2 μs ± 113 ns per loop (mean ± std. dev. of 7 runs, 10,000 loops each)\n",
      "np.sum(a)\n",
      "5.37 μs ± 170 ns per loop (mean ± std. dev. of 7 runs, 100,000 loops each)\n"
     ]
    }
   ],
   "source": [
    "print(\"sum(l)\")\n",
    "%timeit sum(l)\n",
    "print(\"np.sum(a)\")\n",
    "%timeit np.sum(a)"
   ]
  },
  {
   "cell_type": "code",
   "execution_count": 28,
   "id": "9a25be1e",
   "metadata": {},
   "outputs": [
    {
     "name": "stdout",
     "output_type": "stream",
     "text": [
      "np.sum(l)\n",
      "411 μs ± 1.84 μs per loop (mean ± std. dev. of 7 runs, 1,000 loops each)\n",
      "sum(a)\n",
      "563 μs ± 3.01 μs per loop (mean ± std. dev. of 7 runs, 1,000 loops each)\n"
     ]
    }
   ],
   "source": [
    "print(\"np.sum(l)\")\n",
    "%timeit np.sum(l)\n",
    "print(\"sum(a)\")\n",
    "%timeit sum(a)"
   ]
  }
 ],
 "metadata": {
  "kernelspec": {
   "display_name": "marubatsu313",
   "language": "python",
   "name": "python3"
  },
  "language_info": {
   "codemirror_mode": {
    "name": "ipython",
    "version": 3
   },
   "file_extension": ".py",
   "mimetype": "text/x-python",
   "name": "python",
   "nbconvert_exporter": "python",
   "pygments_lexer": "ipython3",
   "version": "3.13.5"
  }
 },
 "nbformat": 4,
 "nbformat_minor": 5
}
