{
 "cells": [
  {
   "cell_type": "code",
   "execution_count": 1,
   "metadata": {},
   "outputs": [],
   "source": [
    "from util import load_bestmoves, load_mblist\n",
    "from tqdm import tqdm\n",
    "\n",
    "def is_strongly_solved(ai):\n",
    "    bestmoves = load_bestmoves()\n",
    "    mblist = load_mblist()\n",
    "    for mb in tqdm(mblist):\n",
    "        if set(ai(mb, candidate=True)) > set(bestmoves[tuple(mb.records)]):\n",
    "            return False\n",
    "    return True"
   ]
  },
  {
   "cell_type": "code",
   "execution_count": 2,
   "metadata": {},
   "outputs": [
    {
     "name": "stderr",
     "output_type": "stream",
     "text": [
      "100%|██████████| 294778/294778 [00:49<00:00, 5914.87it/s]\n"
     ]
    },
    {
     "data": {
      "text/plain": [
       "True"
      ]
     },
     "execution_count": 2,
     "metadata": {},
     "output_type": "execute_result"
    }
   ],
   "source": [
    "from ai import ai14s\n",
    "\n",
    "is_strongly_solved(ai14s)"
   ]
  },
  {
   "cell_type": "code",
   "execution_count": 3,
   "metadata": {},
   "outputs": [],
   "source": [
    "class Check_solved:\n",
    "    bestmoves = load_bestmoves()\n",
    "    mblist = load_mblist()\n",
    "    \n",
    "    @staticmethod\n",
    "    def is_strongly_solved(ai):\n",
    "        count = 0\n",
    "        for mb in tqdm(Check_solved.mblist):\n",
    "            if set(ai(mb, candidate=True)) <= set(Check_solved.bestmoves[tuple(mb.records)]):\n",
    "                count += 1\n",
    "        nodenum = len(Check_solved.mblist)\n",
    "        print(f\"{count}/{nodenum} {count/nodenum*100:.2f}%\")\n",
    "        return count == nodenum"
   ]
  },
  {
   "cell_type": "code",
   "execution_count": 4,
   "metadata": {},
   "outputs": [
    {
     "name": "stderr",
     "output_type": "stream",
     "text": [
      "100%|██████████| 294778/294778 [00:51<00:00, 5721.66it/s]"
     ]
    },
    {
     "name": "stdout",
     "output_type": "stream",
     "text": [
      "294690/294778 99.97%\n"
     ]
    },
    {
     "name": "stderr",
     "output_type": "stream",
     "text": [
      "\n"
     ]
    },
    {
     "data": {
      "text/plain": [
       "False"
      ]
     },
     "execution_count": 4,
     "metadata": {},
     "output_type": "execute_result"
    }
   ],
   "source": [
    "Check_solved.is_strongly_solved(ai14s)"
   ]
  },
  {
   "cell_type": "code",
   "execution_count": 5,
   "metadata": {},
   "outputs": [
    {
     "name": "stdout",
     "output_type": "stream",
     "text": [
      "True\n",
      "False\n"
     ]
    }
   ],
   "source": [
    "a = set([1, 2])\n",
    "b = set([1, 2, 3])\n",
    "print(a <= b)\n",
    "print(a > b)"
   ]
  },
  {
   "cell_type": "code",
   "execution_count": 6,
   "metadata": {},
   "outputs": [
    {
     "name": "stdout",
     "output_type": "stream",
     "text": [
      "False\n",
      "True\n"
     ]
    }
   ],
   "source": [
    "print(b <= a)\n",
    "print(b > a)"
   ]
  },
  {
   "cell_type": "code",
   "execution_count": 7,
   "metadata": {},
   "outputs": [
    {
     "name": "stdout",
     "output_type": "stream",
     "text": [
      "False\n",
      "False\n"
     ]
    }
   ],
   "source": [
    "a = set([1, 2])\n",
    "b = set([2, 3])\n",
    "print(a <= b)\n",
    "print(a > b)"
   ]
  },
  {
   "cell_type": "code",
   "execution_count": 8,
   "metadata": {},
   "outputs": [],
   "source": [
    "@staticmethod\n",
    "def is_strongly_solved(ai):\n",
    "    count = 0\n",
    "    incorrectlist = []\n",
    "    for mb in tqdm(Check_solved.mblist):\n",
    "        candidate = set(ai(mb, candidate=True))\n",
    "        bestmoves = set(Check_solved.bestmoves[tuple(mb.records)])\n",
    "        if candidate <= bestmoves:\n",
    "            count += 1\n",
    "        else:\n",
    "            incorrectlist.append((mb, candidate, bestmoves))\n",
    "    nodenum = len(Check_solved.mblist)\n",
    "    print(f\"{count}/{nodenum} {count/nodenum*100:.2f}%\")\n",
    "    return count == nodenum, incorrectlist\n",
    "\n",
    "Check_solved.is_strongly_solved = is_strongly_solved"
   ]
  },
  {
   "cell_type": "code",
   "execution_count": 9,
   "metadata": {},
   "outputs": [
    {
     "name": "stderr",
     "output_type": "stream",
     "text": [
      "100%|██████████| 294778/294778 [00:50<00:00, 5833.35it/s]"
     ]
    },
    {
     "name": "stdout",
     "output_type": "stream",
     "text": [
      "294690/294778 99.97%\n"
     ]
    },
    {
     "name": "stderr",
     "output_type": "stream",
     "text": [
      "\n"
     ]
    }
   ],
   "source": [
    "result, incorrectlist = Check_solved.is_strongly_solved(ai14s)"
   ]
  },
  {
   "cell_type": "code",
   "execution_count": 10,
   "metadata": {},
   "outputs": [
    {
     "name": "stdout",
     "output_type": "stream",
     "text": [
      "Turn o\n",
      "o.X\n",
      "...\n",
      "...\n",
      "\n",
      "candidate {(1, 1)}\n",
      "bestmoves {(0, 1), (0, 2), (2, 2)}\n"
     ]
    }
   ],
   "source": [
    "mb, candidate, bestmoves = incorrectlist[0]\n",
    "print(mb)\n",
    "print(\"candidate\", candidate)\n",
    "print(\"bestmoves\", bestmoves)"
   ]
  },
  {
   "cell_type": "code",
   "execution_count": 11,
   "metadata": {},
   "outputs": [
    {
     "name": "stdout",
     "output_type": "stream",
     "text": [
      "(<marubatsu.Marubatsu object at 0x0000020B2AE5D0D0>, {(1, 1)}, {(0, 1), (0, 2), (2, 2)})\n"
     ]
    }
   ],
   "source": [
    "print(incorrectlist[0])"
   ]
  },
  {
   "cell_type": "code",
   "execution_count": 12,
   "metadata": {},
   "outputs": [
    {
     "data": {
      "text/plain": [
       "[(1, 1)]"
      ]
     },
     "execution_count": 12,
     "metadata": {},
     "output_type": "execute_result"
    }
   ],
   "source": [
    "from marubatsu import Marubatsu\n",
    "\n",
    "mb = Marubatsu()\n",
    "ai14s(mb, candidate=True)"
   ]
  },
  {
   "cell_type": "code",
   "execution_count": 13,
   "metadata": {},
   "outputs": [
    {
     "name": "stdout",
     "output_type": "stream",
     "text": [
      "[['.', '.', '.'], ['.', '.', '.'], ['.', '.', '.']]\n"
     ]
    }
   ],
   "source": [
    "print(mb.board)"
   ]
  },
  {
   "cell_type": "code",
   "execution_count": 14,
   "metadata": {},
   "outputs": [
    {
     "name": "stdout",
     "output_type": "stream",
     "text": [
      "(['.', '.', '.'], ['.', '.', '.'], ['.', '.', '.'])\n"
     ]
    }
   ],
   "source": [
    "print(tuple(mb.board))"
   ]
  },
  {
   "cell_type": "code",
   "execution_count": 15,
   "metadata": {},
   "outputs": [
    {
     "name": "stdout",
     "output_type": "stream",
     "text": [
      "A1A2B1B2C1\n"
     ]
    }
   ],
   "source": [
    "coords = ['A1', 'A2', 'B1', 'B2', 'C1']\n",
    "print(\"\".join(coords))"
   ]
  },
  {
   "cell_type": "code",
   "execution_count": 16,
   "metadata": {},
   "outputs": [
    {
     "name": "stdout",
     "output_type": "stream",
     "text": [
      ".........\n"
     ]
    }
   ],
   "source": [
    "txt = \"\"\n",
    "for col in mb.board:\n",
    "    txt += \"\".join(col)\n",
    "print(txt)"
   ]
  },
  {
   "cell_type": "code",
   "execution_count": 17,
   "metadata": {},
   "outputs": [
    {
     "name": "stdout",
     "output_type": "stream",
     "text": [
      ".........\n"
     ]
    }
   ],
   "source": [
    "txt = \"\".join([\"\".join(col) for col in mb.board])\n",
    "print(txt)"
   ]
  },
  {
   "cell_type": "code",
   "execution_count": 18,
   "metadata": {},
   "outputs": [],
   "source": [
    "def board_to_str(self):\n",
    "    txt = \"\"\n",
    "    for col in self.board:\n",
    "        txt += \"\".join(col)\n",
    "    return txt\n",
    "\n",
    "Marubatsu.board_to_str = board_to_str"
   ]
  },
  {
   "cell_type": "code",
   "execution_count": 19,
   "metadata": {},
   "outputs": [
    {
     "name": "stdout",
     "output_type": "stream",
     "text": [
      ".........\n",
      "o........\n",
      "o..x.....\n",
      "o.ox.....\n",
      "o.ox....x\n"
     ]
    }
   ],
   "source": [
    "print(mb.board_to_str())\n",
    "mb.move(0, 0)\n",
    "print(mb.board_to_str())\n",
    "mb.move(1, 0)\n",
    "print(mb.board_to_str())\n",
    "mb.move(0, 2)\n",
    "print(mb.board_to_str())\n",
    "mb.move(2, 2)\n",
    "print(mb.board_to_str())"
   ]
  },
  {
   "cell_type": "code",
   "execution_count": 22,
   "metadata": {},
   "outputs": [
    {
     "name": "stderr",
     "output_type": "stream",
     "text": [
      "100%|██████████| 549946/549946 [00:01<00:00, 521190.05it/s]\n"
     ]
    }
   ],
   "source": [
    "from tree import Mbtree\n",
    "\n",
    "mbtree = Mbtree.load(\"../data/aidata\")\n",
    "bestmoves_by_board = {}\n",
    "for node in tqdm(mbtree.nodelist):\n",
    "    txt = node.mb.board_to_str()\n",
    "    if not txt in bestmoves_by_board.keys():\n",
    "        bestmoves_by_board[txt] = node.bestmoves"
   ]
  },
  {
   "cell_type": "code",
   "execution_count": 23,
   "metadata": {},
   "outputs": [
    {
     "data": {
      "text/plain": [
       "5478"
      ]
     },
     "execution_count": 23,
     "metadata": {},
     "output_type": "execute_result"
    }
   ],
   "source": [
    "len(bestmoves_by_board)"
   ]
  },
  {
   "cell_type": "code",
   "execution_count": 24,
   "metadata": {},
   "outputs": [],
   "source": [
    "import pickle\n",
    "import gzip\n",
    "with gzip.open(\"../data/bestmoves_by_board.dat\", \"wb\") as f:\n",
    "    pickle.dump(bestmoves_by_board, f)"
   ]
  },
  {
   "cell_type": "code",
   "execution_count": 25,
   "metadata": {},
   "outputs": [],
   "source": [
    "from random import choice\n",
    "\n",
    "def ai_gt6(mb, bestmoves_by_board, candidate=False):\n",
    "    if candidate:\n",
    "        return bestmoves_by_board[mb.board_to_str()]\n",
    "    else:\n",
    "        return choice(bestmoves_by_board[mb.board_to_str()])"
   ]
  },
  {
   "cell_type": "code",
   "execution_count": 26,
   "metadata": {},
   "outputs": [
    {
     "name": "stdout",
     "output_type": "stream",
     "text": [
      "ai_gt6 VS ai2s\n"
     ]
    },
    {
     "name": "stderr",
     "output_type": "stream",
     "text": [
      "100%|██████████| 10000/10000 [00:30<00:00, 322.85it/s]"
     ]
    },
    {
     "name": "stdout",
     "output_type": "stream",
     "text": [
      "count     win    lose    draw\n",
      "o        9683       0     317\n",
      "x        7780       0    2220\n",
      "total   17463       0    2537\n",
      "\n",
      "ratio     win    lose    draw\n",
      "o       96.8%    0.0%    3.2%\n",
      "x       77.8%    0.0%   22.2%\n",
      "total   87.3%    0.0%   12.7%\n",
      "\n"
     ]
    },
    {
     "name": "stderr",
     "output_type": "stream",
     "text": [
      "\n"
     ]
    }
   ],
   "source": [
    "from ai import ai2s, ai_match\n",
    "\n",
    "ai_match(ai=[ai_gt6, ai2s], params=[{\"bestmoves_by_board\": bestmoves_by_board}, {}])"
   ]
  },
  {
   "cell_type": "code",
   "execution_count": 27,
   "metadata": {},
   "outputs": [],
   "source": [
    "@staticmethod\n",
    "def is_strongly_solved(ai, params=None):\n",
    "    if params is None:\n",
    "        params = {}\n",
    "    count = 0\n",
    "    incorrectlist = []\n",
    "    for mb in tqdm(Check_solved.mblist):\n",
    "        candidate = set(ai(mb, candidate=True, **params))\n",
    "        bestmoves = set(Check_solved.bestmoves[tuple(mb.records)])\n",
    "        if candidate <= bestmoves:\n",
    "            count += 1\n",
    "        else:\n",
    "            incorrectlist.append((mb, candidate, bestmoves))\n",
    "    nodenum = len(Check_solved.mblist)\n",
    "    print(f\"{count}/{nodenum} {count/nodenum*100:.2f}%\")\n",
    "    return count == nodenum, incorrectlist\n",
    "    \n",
    "Check_solved.is_strongly_solved = is_strongly_solved"
   ]
  },
  {
   "cell_type": "code",
   "execution_count": 28,
   "metadata": {},
   "outputs": [
    {
     "name": "stderr",
     "output_type": "stream",
     "text": [
      "100%|██████████| 294778/294778 [00:01<00:00, 270543.00it/s]"
     ]
    },
    {
     "name": "stdout",
     "output_type": "stream",
     "text": [
      "294778/294778 100.00%\n",
      "True\n"
     ]
    },
    {
     "name": "stderr",
     "output_type": "stream",
     "text": [
      "\n"
     ]
    }
   ],
   "source": [
    "params = {\"bestmoves_by_board\": bestmoves_by_board}\n",
    "result, incorrectlist = Check_solved.is_strongly_solved(ai_gt6, params=params)\n",
    "print(result)"
   ]
  },
  {
   "cell_type": "code",
   "execution_count": 29,
   "metadata": {},
   "outputs": [],
   "source": [
    "bestmoves_by_board = {}\n",
    "mblist_by_board = []\n",
    "for node in mbtree.nodelist:\n",
    "    txt = node.mb.board_to_str()\n",
    "    if not txt in bestmoves_by_board.keys():\n",
    "        bestmoves_by_board[txt] = node.bestmoves\n",
    "        if node.mb.status == Marubatsu.PLAYING:\n",
    "            mblist_by_board.append(node.mb)"
   ]
  },
  {
   "cell_type": "code",
   "execution_count": 30,
   "metadata": {},
   "outputs": [
    {
     "data": {
      "text/plain": [
       "4520"
      ]
     },
     "execution_count": 30,
     "metadata": {},
     "output_type": "execute_result"
    }
   ],
   "source": [
    "len(mblist_by_board)"
   ]
  },
  {
   "cell_type": "code",
   "execution_count": 31,
   "metadata": {},
   "outputs": [],
   "source": [
    "with gzip.open(\"../data/mblist_by_board.dat\", \"wb\") as f:\n",
    "    pickle.dump(mblist_by_board, f)"
   ]
  },
  {
   "cell_type": "code",
   "execution_count": 32,
   "metadata": {},
   "outputs": [],
   "source": [
    "class Check_solved:\n",
    "    bestmoves_by_board = load_bestmoves(\"../data/bestmoves_by_board.dat\")\n",
    "    mblist_by_board = load_mblist(\"../data/mblist_by_board.dat\")\n",
    "    \n",
    "    @staticmethod\n",
    "    def is_strongly_solved(ai, params=None):\n",
    "        if params is None:\n",
    "            params = {}\n",
    "        count = 0\n",
    "        incorrectlist = []\n",
    "        for mb in tqdm(Check_solved.mblist_by_board):\n",
    "            candidate = set(ai(mb, candidate=True, **params))\n",
    "            bestmoves = set(Check_solved.bestmoves_by_board[mb.board_to_str()])\n",
    "            if candidate <= bestmoves:\n",
    "                count += 1\n",
    "            else:\n",
    "                incorrectlist.append((mb, candidate, bestmoves))\n",
    "        nodenum = len(Check_solved.mblist_by_board)\n",
    "        print(f\"{count}/{nodenum} {count/nodenum*100:.2f}%\")\n",
    "        return count == nodenum, incorrectlist"
   ]
  },
  {
   "cell_type": "code",
   "execution_count": 33,
   "metadata": {},
   "outputs": [
    {
     "name": "stderr",
     "output_type": "stream",
     "text": [
      "100%|██████████| 4520/4520 [00:01<00:00, 2639.10it/s]"
     ]
    },
    {
     "name": "stdout",
     "output_type": "stream",
     "text": [
      "4468/4520 98.85%\n",
      "False\n"
     ]
    },
    {
     "name": "stderr",
     "output_type": "stream",
     "text": [
      "\n"
     ]
    }
   ],
   "source": [
    "result, incorrectlist = Check_solved.is_strongly_solved(ai14s)\n",
    "print(result)"
   ]
  },
  {
   "cell_type": "code",
   "execution_count": 34,
   "metadata": {},
   "outputs": [
    {
     "name": "stderr",
     "output_type": "stream",
     "text": [
      "100%|██████████| 4520/4520 [00:00<00:00, 107608.52it/s]"
     ]
    },
    {
     "name": "stdout",
     "output_type": "stream",
     "text": [
      "4520/4520 100.00%\n",
      "True\n"
     ]
    },
    {
     "name": "stderr",
     "output_type": "stream",
     "text": [
      "\n"
     ]
    }
   ],
   "source": [
    "params = {\"bestmoves_by_board\": bestmoves_by_board}\n",
    "result, incorrectlist = Check_solved.is_strongly_solved(ai_gt6, params=params)\n",
    "print(result)"
   ]
  },
  {
   "cell_type": "code",
   "execution_count": 35,
   "metadata": {},
   "outputs": [],
   "source": [
    "class Check_solved:\n",
    "    bestmoves_by_board = None\n",
    "    mblist_by_board = None\n",
    "    \n",
    "    @staticmethod\n",
    "    def is_strongly_solved(ai, params=None):\n",
    "        if Check_solved.bestmoves_by_board is None:\n",
    "            Check_solved.bestmoves_by_board = load_bestmoves (\"../data/bestmoves_by_board.dat\")\n",
    "        if Check_solved.mblist_by_board is None:\n",
    "            Check_solved.mblist_by_board = load_mblist(\"../data/mblist_by_board.dat\")            \n",
    "        if params is None:\n",
    "            params = {}\n",
    "        count = 0\n",
    "        incorrectlist = []\n",
    "        for mb in tqdm(Check_solved.mblist_by_board):\n",
    "            candidate = set(ai(mb, candidate=True, **params))\n",
    "            bestmoves = set(Check_solved.bestmoves_by_board[mb.board_to_str()])\n",
    "            if candidate <= bestmoves:\n",
    "                count += 1\n",
    "            else:\n",
    "                incorrectlist.append((mb, candidate, bestmoves))\n",
    "        nodenum = len(Check_solved.mblist_by_board)\n",
    "        print(f\"{count}/{nodenum} {count/nodenum*100:.2f}%\")\n",
    "        return count == nodenum, incorrectlist"
   ]
  },
  {
   "cell_type": "code",
   "execution_count": 37,
   "metadata": {},
   "outputs": [
    {
     "name": "stderr",
     "output_type": "stream",
     "text": [
      "100%|██████████| 4520/4520 [00:01<00:00, 2644.79it/s]\n"
     ]
    },
    {
     "name": "stdout",
     "output_type": "stream",
     "text": [
      "4468/4520 98.85%\n",
      "False\n"
     ]
    },
    {
     "name": "stderr",
     "output_type": "stream",
     "text": [
      "100%|██████████| 4520/4520 [00:00<00:00, 110638.59it/s]"
     ]
    },
    {
     "name": "stdout",
     "output_type": "stream",
     "text": [
      "4520/4520 100.00%\n",
      "True\n"
     ]
    },
    {
     "name": "stderr",
     "output_type": "stream",
     "text": [
      "\n"
     ]
    }
   ],
   "source": [
    "result, incorrectlist = Check_solved.is_strongly_solved(ai14s)\n",
    "print(result)\n",
    "params = {\"bestmoves_by_board\": bestmoves_by_board}\n",
    "result, incorrectlist = Check_solved.is_strongly_solved(ai_gt6, params=params)\n",
    "print(result)"
   ]
  }
 ],
 "metadata": {
  "kernelspec": {
   "display_name": "marubatsu",
   "language": "python",
   "name": "python3"
  },
  "language_info": {
   "codemirror_mode": {
    "name": "ipython",
    "version": 3
   },
   "file_extension": ".py",
   "mimetype": "text/x-python",
   "name": "python",
   "nbconvert_exporter": "python",
   "pygments_lexer": "ipython3",
   "version": "3.11.4"
  }
 },
 "nbformat": 4,
 "nbformat_minor": 2
}
