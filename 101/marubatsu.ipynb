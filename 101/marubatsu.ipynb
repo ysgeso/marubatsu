{
 "cells": [
  {
   "cell_type": "code",
   "execution_count": 1,
   "metadata": {},
   "outputs": [
    {
     "name": "stdout",
     "output_type": "stream",
     "text": [
      "ox \n",
      "x o\n"
     ]
    }
   ],
   "source": [
    "print(\"\" + \"o\" + \"x\" + \" \")\n",
    "print(\"\" + \"x\" + \" \" + \"o\")"
   ]
  },
  {
   "cell_type": "code",
   "execution_count": 2,
   "metadata": {},
   "outputs": [
    {
     "name": "stdout",
     "output_type": "stream",
     "text": [
      "45\n"
     ]
    }
   ],
   "source": [
    "total = 0\n",
    "for i in range(10):\n",
    "    total += i\n",
    "\n",
    "print(total)"
   ]
  },
  {
   "cell_type": "code",
   "execution_count": 3,
   "metadata": {},
   "outputs": [
    {
     "name": "stdout",
     "output_type": "stream",
     "text": [
      "45\n"
     ]
    }
   ],
   "source": [
    "total = 0\n",
    "for i in range(9, -1, -1):\n",
    "    total += i\n",
    "\n",
    "print(total)"
   ]
  },
  {
   "cell_type": "code",
   "execution_count": 4,
   "metadata": {},
   "outputs": [
    {
     "name": "stdout",
     "output_type": "stream",
     "text": [
      "6\n",
      "6\n"
     ]
    }
   ],
   "source": [
    "print(0 + 1 + 2 + 3)\n",
    "print(0 + 2 + 3 + 1)"
   ]
  },
  {
   "cell_type": "code",
   "execution_count": 5,
   "metadata": {},
   "outputs": [
    {
     "name": "stdout",
     "output_type": "stream",
     "text": [
      "[0, 1, 3, 6, 10, 15]\n",
      "15\n"
     ]
    }
   ],
   "source": [
    "x = []\n",
    "x.append(0)\n",
    "for n in range(1, 6):\n",
    "    x.append(x[n - 1] + n)\n",
    "    \n",
    "print(x)\n",
    "print(x[5])"
   ]
  },
  {
   "cell_type": "code",
   "execution_count": 6,
   "metadata": {},
   "outputs": [
    {
     "name": "stdout",
     "output_type": "stream",
     "text": [
      "{0: 0, 1: 1, 2: 3, 3: 6, 4: 10, 5: 15}\n",
      "15\n"
     ]
    }
   ],
   "source": [
    "x = {}\n",
    "x[0] = 0\n",
    "for n in range(1, 6):\n",
    "    x[n] = x[n - 1] + n\n",
    "    \n",
    "print(x)\n",
    "print(x[5])"
   ]
  },
  {
   "cell_type": "code",
   "execution_count": 7,
   "metadata": {},
   "outputs": [],
   "source": [
    "x = {}\n",
    "x[0] = 0\n",
    "for n in range(1, 100000001):\n",
    "    x[n] = x[n - 1] + n"
   ]
  },
  {
   "cell_type": "code",
   "execution_count": 8,
   "metadata": {},
   "outputs": [
    {
     "name": "stdout",
     "output_type": "stream",
     "text": [
      "15\n"
     ]
    }
   ],
   "source": [
    "prevx = 0\n",
    "for n in range(1, 6):\n",
    "    x = prevx + n\n",
    "    prevx = x\n",
    "    \n",
    "print(x)"
   ]
  },
  {
   "cell_type": "code",
   "execution_count": 9,
   "metadata": {},
   "outputs": [
    {
     "name": "stdout",
     "output_type": "stream",
     "text": [
      "5000000050000000\n"
     ]
    }
   ],
   "source": [
    "x = 0\n",
    "for n in range(1, 100000001):\n",
    "    x += n\n",
    "    \n",
    "print(x)\n"
   ]
  },
  {
   "cell_type": "code",
   "execution_count": 10,
   "metadata": {},
   "outputs": [],
   "source": [
    "def fib_by_f(n):\n",
    "    f = {}\n",
    "    f[0] = 0\n",
    "    f[1] = 1\n",
    "    for i in range(2, n + 1):\n",
    "        f[i] = f[i - 1] + f[i - 2]\n",
    "    return f[n]"
   ]
  },
  {
   "cell_type": "code",
   "execution_count": 11,
   "metadata": {},
   "outputs": [
    {
     "name": "stdout",
     "output_type": "stream",
     "text": [
      "fib(0) = 0\n",
      "fib(1) = 1\n",
      "fib(2) = 1\n",
      "fib(3) = 2\n",
      "fib(4) = 3\n",
      "fib(5) = 5\n",
      "fib(6) = 8\n",
      "fib(7) = 13\n",
      "fib(8) = 21\n",
      "fib(9) = 34\n"
     ]
    }
   ],
   "source": [
    "for i in range(10):\n",
    "    print(f\"fib({i}) = {fib_by_f(i)}\")"
   ]
  },
  {
   "cell_type": "code",
   "execution_count": 12,
   "metadata": {},
   "outputs": [],
   "source": [
    "def fib_by_f(n):\n",
    "    if n == 0:\n",
    "        return 0\n",
    "    elif n == 1:\n",
    "        return 1\n",
    "    \n",
    "    fib_p2 = 0\n",
    "    fib_p1 = 1\n",
    "    for i in range(2, n + 1):\n",
    "        fib = fib_p1 + fib_p2\n",
    "        fib_p2 = fib_p1\n",
    "        fib_p1 = fib\n",
    "    return fib"
   ]
  },
  {
   "cell_type": "code",
   "execution_count": 13,
   "metadata": {},
   "outputs": [
    {
     "name": "stdout",
     "output_type": "stream",
     "text": [
      "fib(0) = 0\n",
      "fib(1) = 1\n",
      "fib(2) = 1\n",
      "fib(3) = 2\n",
      "fib(4) = 3\n",
      "fib(5) = 5\n",
      "fib(6) = 8\n",
      "fib(7) = 13\n",
      "fib(8) = 21\n",
      "fib(9) = 34\n"
     ]
    }
   ],
   "source": [
    "for i in range(10):\n",
    "    print(f\"fib({i}) = {fib_by_f(i)}\")"
   ]
  },
  {
   "cell_type": "code",
   "execution_count": 14,
   "metadata": {},
   "outputs": [
    {
     "name": "stdout",
     "output_type": "stream",
     "text": [
      "14\n"
     ]
    }
   ],
   "source": [
    "total = 0\n",
    "n = 0\n",
    "while total < 100:\n",
    "    total += n\n",
    "    n += 1\n",
    "\n",
    "print(n - 1)"
   ]
  }
 ],
 "metadata": {
  "kernelspec": {
   "display_name": "marubatsu",
   "language": "python",
   "name": "python3"
  },
  "language_info": {
   "codemirror_mode": {
    "name": "ipython",
    "version": 3
   },
   "file_extension": ".py",
   "mimetype": "text/x-python",
   "name": "python",
   "nbconvert_exporter": "python",
   "pygments_lexer": "ipython3",
   "version": "3.11.4"
  }
 },
 "nbformat": 4,
 "nbformat_minor": 2
}
