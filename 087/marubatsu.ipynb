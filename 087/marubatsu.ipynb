{
 "cells": [
  {
   "cell_type": "code",
   "execution_count": 1,
   "metadata": {},
   "outputs": [
    {
     "data": {
      "text/plain": [
       "''"
      ]
     },
     "execution_count": 1,
     "metadata": {},
     "output_type": "execute_result"
    }
   ],
   "source": [
    "from tkinter import Tk, filedialog\n",
    "\n",
    "root = Tk()\n",
    "root.withdraw()\n",
    "root.call('wm', 'attributes', '.', '-topmost', True)"
   ]
  },
  {
   "cell_type": "code",
   "execution_count": 2,
   "metadata": {},
   "outputs": [],
   "source": [
    "from marubatsu import Marubatsu, Marubatsu_GUI\n",
    "import math\n",
    "import pickle\n",
    "\n",
    "def create_event_handler(self):\n",
    "    # 乱数の種のチェックボックスのイベントハンドラを定義する\n",
    "    def on_checkbox_changed(changed):\n",
    "        self.update_widgets_status()\n",
    "        \n",
    "    self.checkbox.observe(on_checkbox_changed, names=\"value\")\n",
    "\n",
    "    # 開く、保存ボタンのイベントハンドラを定義する\n",
    "    def on_load_button_clicked(b):\n",
    "        path = filedialog.askopenfilename()\n",
    "        if path != \"\":\n",
    "            with open(path, \"rb\") as f:\n",
    "                data = pickle.load(f)\n",
    "                self.mb.records = data[\"records\"]\n",
    "                self.mb.ai = data[\"ai\"]\n",
    "                change_step(data[\"move_count\"])\n",
    "\n",
    "    def on_save_button_clicked(b):\n",
    "        path = filedialog.asksaveasfilename()\n",
    "        if path != \"\":\n",
    "            with open(path, \"wb\") as f:\n",
    "                data = {\n",
    "                    \"records\": self.mb.records,\n",
    "                    \"move_count\": self.mb.move_count,\n",
    "                    \"ai\": self.mb.ai,\n",
    "                }\n",
    "                pickle.dump(data, f)\n",
    "            \n",
    "    self.load_button.on_click(on_load_button_clicked)\n",
    "    self.save_button.on_click(on_save_button_clicked)\n",
    "    \n",
    "    # 変更ボタンのイベントハンドラを定義する\n",
    "    def on_change_button_clicked(b):\n",
    "        for i in range(2):\n",
    "            self.mb.ai[i] = None if self.dropdown_list[i].value == \"人間\" else self.dropdown_list[i].value\n",
    "        self.mb.play_loop(self)\n",
    "\n",
    "    # リセットボタンのイベントハンドラを定義する\n",
    "    def on_reset_button_clicked(b=None):\n",
    "        # 乱数の種のチェックボックスが ON の場合に、乱数の種の処理を行う\n",
    "        if self.checkbox.value:\n",
    "            random.seed(self.inttext.value)\n",
    "        self.mb.restart()\n",
    "        on_change_button_clicked(b)\n",
    "\n",
    "    # 待ったボタンのイベントハンドラを定義する\n",
    "    def on_undo_button_clicked(b=None):\n",
    "        if self.mb.move_count >= 2 and self.mb.move_count == len(self.mb.records) - 1:\n",
    "            self.mb.move_count -= 2\n",
    "            self.mb.records = self.mb.records[0:self.mb.move_count+1]\n",
    "            self.mb.change_step(self.mb.move_count)\n",
    "            self.draw_board()\n",
    "        \n",
    "    # イベントハンドラをボタンに結びつける\n",
    "    self.change_button.on_click(on_change_button_clicked)\n",
    "    self.reset_button.on_click(on_reset_button_clicked)   \n",
    "    self.undo_button.on_click(on_undo_button_clicked)   \n",
    "    \n",
    "    # step 手目の局面に移動する\n",
    "    def change_step(step):\n",
    "        self.mb.change_step(step)\n",
    "        # 描画を更新する\n",
    "        self.draw_board()        \n",
    "\n",
    "    def on_first_button_clicked(b=None):\n",
    "        change_step(0)\n",
    "\n",
    "    def on_prev_button_clicked(b=None):\n",
    "        change_step(self.mb.move_count - 1)\n",
    "\n",
    "    def on_next_button_clicked(b=None):\n",
    "        change_step(self.mb.move_count + 1)\n",
    "        \n",
    "    def on_last_button_clicked(b=None):\n",
    "        change_step(len(self.mb.records) - 1)\n",
    "\n",
    "    def on_slider_changed(changed):\n",
    "        if self.mb.move_count != changed[\"new\"]:\n",
    "            change_step(changed[\"new\"])\n",
    "            \n",
    "    self.first_button.on_click(on_first_button_clicked)\n",
    "    self.prev_button.on_click(on_prev_button_clicked)\n",
    "    self.next_button.on_click(on_next_button_clicked)\n",
    "    self.last_button.on_click(on_last_button_clicked)\n",
    "    self.slider.observe(on_slider_changed, names=\"value\")\n",
    "    \n",
    "    # ゲーム盤の上でマウスを押した場合のイベントハンドラ\n",
    "    def on_mouse_down(event):\n",
    "        # Axes の上でマウスを押していた場合のみ処理を行う\n",
    "        if event.inaxes and self.mb.status == Marubatsu.PLAYING:\n",
    "            x = math.floor(event.xdata)\n",
    "            y = math.floor(event.ydata)\n",
    "            self.mb.move(x, y)                \n",
    "            # 次の手番の処理を行うメソッドを呼び出す\n",
    "            self.mb.play_loop(self)\n",
    "\n",
    "    # ゲーム盤を選択した状態でキーを押した場合のイベントハンドラ\n",
    "    def on_key_press(event):\n",
    "        keymap = {\n",
    "            \"up\": on_first_button_clicked,\n",
    "            \"left\": on_prev_button_clicked,\n",
    "            \"right\": on_next_button_clicked,\n",
    "            \"down\": on_last_button_clicked,\n",
    "            \"0\": on_undo_button_clicked,\n",
    "            \"enter\": on_reset_button_clicked,            \n",
    "        }\n",
    "        if event.key in keymap:\n",
    "            keymap[event.key]()\n",
    "        else:\n",
    "            try:\n",
    "                num = int(event.key) - 1\n",
    "                event.inaxes = True\n",
    "                event.xdata = num % 3\n",
    "                event.ydata = 2 - (num // 3)\n",
    "                on_mouse_down(event)\n",
    "            except:\n",
    "                pass\n",
    "            \n",
    "    # fig の画像イベントハンドラを結び付ける\n",
    "    self.fig.canvas.mpl_connect(\"button_press_event\", on_mouse_down)     \n",
    "    self.fig.canvas.mpl_connect(\"key_press_event\", on_key_press)   \n",
    "    \n",
    "Marubatsu_GUI.create_event_handler = create_event_handler"
   ]
  },
  {
   "cell_type": "code",
   "execution_count": 3,
   "metadata": {},
   "outputs": [
    {
     "data": {
      "application/vnd.jupyter.widget-view+json": {
       "model_id": "289af0ca88024ae2998805f1a5938cc4",
       "version_major": 2,
       "version_minor": 0
      },
      "text/plain": [
       "VBox(children=(HBox(children=(Checkbox(value=False, description='乱数の種', indent=False, layout=Layout(width='100…"
      ]
     },
     "metadata": {},
     "output_type": "display_data"
    },
    {
     "data": {
      "application/vnd.jupyter.widget-view+json": {
       "model_id": "06f14ed4cd3f4a099dc04466f267bfe2",
       "version_major": 2,
       "version_minor": 0
      },
      "image/png": "[encoded data removed]",
      "text/html": [
       "\n",
       "            <div style=\"display: inline-block;\">\n",
       "                <div class=\"jupyter-widgets widget-label\" style=\"text-align: center;\">\n",
       "                    Figure\n",
       "                </div>\n",
       "                <img src='data:image/png;base64,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' width=300.0/>\n",
       "            </div>\n",
       "        "
      ],
      "text/plain": [
       "Canvas(footer_visible=False, header_visible=False, resizable=False, toolbar=Toolbar(toolitems=[('Home', 'Reset…"
      ]
     },
     "metadata": {},
     "output_type": "display_data"
    }
   ],
   "source": [
    "from util import gui_play\n",
    "\n",
    "gui_play()"
   ]
  },
  {
   "cell_type": "code",
   "execution_count": 4,
   "metadata": {},
   "outputs": [
    {
     "data": {
      "text/plain": [
       "''"
      ]
     },
     "execution_count": 4,
     "metadata": {},
     "output_type": "execute_result"
    }
   ],
   "source": [
    "filedialog.askopenfilename()\n",
    "filedialog.askopenfilename(filetypes=[(\"〇×ゲーム\", \"*.mbsav\")])"
   ]
  },
  {
   "cell_type": "code",
   "execution_count": 5,
   "metadata": {},
   "outputs": [
    {
     "data": {
      "text/plain": [
       "''"
      ]
     },
     "execution_count": 5,
     "metadata": {},
     "output_type": "execute_result"
    }
   ],
   "source": [
    "filedialog.asksaveasfilename(filetypes=[(\"〇×ゲーム\", \"*.mbsav\")])"
   ]
  },
  {
   "cell_type": "code",
   "execution_count": 6,
   "metadata": {},
   "outputs": [
    {
     "data": {
      "text/plain": [
       "''"
      ]
     },
     "execution_count": 6,
     "metadata": {},
     "output_type": "execute_result"
    }
   ],
   "source": [
    "filedialog.askopenfilename(initialdir=\"./\")"
   ]
  },
  {
   "cell_type": "code",
   "execution_count": 7,
   "metadata": {},
   "outputs": [
    {
     "data": {
      "text/plain": [
       "''"
      ]
     },
     "execution_count": 7,
     "metadata": {},
     "output_type": "execute_result"
    }
   ],
   "source": [
    "filedialog.askopenfilename(initialdir=\"save\")"
   ]
  },
  {
   "cell_type": "code",
   "execution_count": 8,
   "metadata": {},
   "outputs": [],
   "source": [
    "import os\n",
    "\n",
    "os.mkdir(\"save\")"
   ]
  },
  {
   "cell_type": "code",
   "execution_count": 9,
   "metadata": {},
   "outputs": [
    {
     "ename": "FileExistsError",
     "evalue": "[WinError 183] 既に存在するファイルを作成することはできません。: 'save'",
     "output_type": "error",
     "traceback": [
      "\u001b[1;31m---------------------------------------------------------------------------\u001b[0m",
      "\u001b[1;31mFileExistsError\u001b[0m                           Traceback (most recent call last)",
      "Cell \u001b[1;32mIn[9], line 1\u001b[0m\n\u001b[1;32m----> 1\u001b[0m os\u001b[38;5;241m.\u001b[39mmkdir(\u001b[38;5;124m\"\u001b[39m\u001b[38;5;124msave\u001b[39m\u001b[38;5;124m\"\u001b[39m)\n",
      "\u001b[1;31mFileExistsError\u001b[0m: [WinError 183] 既に存在するファイルを作成することはできません。: 'save'"
     ]
    }
   ],
   "source": [
    "os.mkdir(\"save\")"
   ]
  },
  {
   "cell_type": "code",
   "execution_count": 10,
   "metadata": {},
   "outputs": [
    {
     "name": "stdout",
     "output_type": "stream",
     "text": [
      "True\n"
     ]
    }
   ],
   "source": [
    "print(os.path.exists(\"save\"))"
   ]
  },
  {
   "cell_type": "code",
   "execution_count": 11,
   "metadata": {},
   "outputs": [],
   "source": [
    "if not os.path.exists(\"save\"):\n",
    "    os.mkdir(\"save\")"
   ]
  },
  {
   "cell_type": "code",
   "execution_count": 12,
   "metadata": {},
   "outputs": [
    {
     "name": "stdout",
     "output_type": "stream",
     "text": [
      "2024-06-06 12:06:22.770140\n"
     ]
    }
   ],
   "source": [
    "import datetime\n",
    "\n",
    "print(datetime.datetime.now())"
   ]
  },
  {
   "cell_type": "code",
   "execution_count": 13,
   "metadata": {},
   "outputs": [
    {
     "name": "stdout",
     "output_type": "stream",
     "text": [
      "2024-06-06 12:06:23.668461\n"
     ]
    }
   ],
   "source": [
    "from datetime import datetime\n",
    "\n",
    "print(datetime.now())"
   ]
  },
  {
   "cell_type": "code",
   "execution_count": 14,
   "metadata": {},
   "outputs": [
    {
     "name": "stdout",
     "output_type": "stream",
     "text": [
      "2024-06-06 12:19:19.645087\n",
      "2024-06-06 12:19:19\n",
      "2024-06-06\n",
      "12:19:19\n",
      "2024年06月06日 12時19分19秒\n"
     ]
    }
   ],
   "source": [
    "print(datetime.now())\n",
    "print(datetime.now().strftime(\"%Y-%m-%d %H:%M:%S\"))\n",
    "print(datetime.now().strftime(\"%Y-%m-%d\"))\n",
    "print(datetime.now().strftime(\"%H:%M:%S\"))\n",
    "print(datetime.now().strftime(\"%Y年%m月%d日 %H時%M分%S秒\"))"
   ]
  },
  {
   "cell_type": "code",
   "execution_count": 15,
   "metadata": {},
   "outputs": [
    {
     "name": "stdout",
     "output_type": "stream",
     "text": [
      "C:/Users/ys/ai/marubatsu/087/save/人間 VS ai1s 2024年06月04日 23時55分41秒.mbsav\n"
     ]
    }
   ],
   "source": [
    "print(filedialog.asksaveasfilename(filetypes=[(\"〇×ゲーム\", \"*.mbsav\")], initialdir=\"save\",\n",
    "                                initialfile=\"人間 VS ai1s 2024年06月04日 23時55分41秒.mbsav\"))"
   ]
  },
  {
   "cell_type": "code",
   "execution_count": 16,
   "metadata": {},
   "outputs": [
    {
     "name": "stdout",
     "output_type": "stream",
     "text": [
      "C:/Users/ys/ai/marubatsu/087/save/test.mbsav\n"
     ]
    }
   ],
   "source": [
    "print(filedialog.asksaveasfilename(filetypes=[(\"〇×ゲーム\", \"*.mbsav\")], initialdir=\"save\",\n",
    "                                   initialfile=\"test\", defaultextension=\"mbsav\"))"
   ]
  },
  {
   "cell_type": "code",
   "execution_count": 17,
   "metadata": {},
   "outputs": [],
   "source": [
    "def create_event_handler(self):\n",
    "    # 乱数の種のチェックボックスのイベントハンドラを定義する\n",
    "    def on_checkbox_changed(changed):\n",
    "        self.update_widgets_status()\n",
    "        \n",
    "    self.checkbox.observe(on_checkbox_changed, names=\"value\")\n",
    "\n",
    "    # 開く、保存ボタンのイベントハンドラを定義する\n",
    "    def on_load_button_clicked(b):\n",
    "        path = filedialog.askopenfilename(filetypes=[(\"〇×ゲーム\", \"*.mbsav\")],\n",
    "                                          initialdir=\"save\")\n",
    "        if path != \"\":\n",
    "            with open(path, \"rb\") as f:\n",
    "                data = pickle.load(f)\n",
    "                self.mb.records = data[\"records\"]\n",
    "                self.mb.ai = data[\"ai\"]\n",
    "                change_step(data[\"move_count\"])\n",
    "\n",
    "    def on_save_button_clicked(b):\n",
    "        name = [\"人間\" if self.mb.ai[i] is None else self.mb.ai[i].__name__\n",
    "                for i in range(2)]\n",
    "        timestr = datetime.now().strftime(\"%Y年%m月%d日 %H時%M分%S秒\")\n",
    "        fname = f\"{name[0]} VS {name[1]} {timestr}\"\n",
    "        path = filedialog.asksaveasfilename(filetypes=[(\"〇×ゲーム\", \"*.mbsav\")],\n",
    "                                            initialdir=\"save\", initialfile=fname,\n",
    "                                            defaultextension=\"mbsav\")\n",
    "        if path != \"\":\n",
    "            with open(path, \"wb\") as f:\n",
    "                data = {\n",
    "                    \"records\": self.mb.records,\n",
    "                    \"move_count\": self.mb.move_count,\n",
    "                    \"ai\": self.mb.ai,\n",
    "                }\n",
    "                pickle.dump(data, f)\n",
    "            \n",
    "    self.load_button.on_click(on_load_button_clicked)\n",
    "    self.save_button.on_click(on_save_button_clicked)\n",
    "    \n",
    "    # 変更ボタンのイベントハンドラを定義する\n",
    "    def on_change_button_clicked(b):\n",
    "        for i in range(2):\n",
    "            self.mb.ai[i] = None if self.dropdown_list[i].value == \"人間\" else self.dropdown_list[i].value\n",
    "        self.mb.play_loop(self)\n",
    "\n",
    "    # リセットボタンのイベントハンドラを定義する\n",
    "    def on_reset_button_clicked(b=None):\n",
    "        # 乱数の種のチェックボックスが ON の場合に、乱数の種の処理を行う\n",
    "        if self.checkbox.value:\n",
    "            random.seed(self.inttext.value)\n",
    "        self.mb.restart()\n",
    "        on_change_button_clicked(b)\n",
    "\n",
    "    # 待ったボタンのイベントハンドラを定義する\n",
    "    def on_undo_button_clicked(b=None):\n",
    "        if self.mb.move_count >= 2 and self.mb.move_count == len(self.mb.records) - 1:\n",
    "            self.mb.move_count -= 2\n",
    "            self.mb.records = self.mb.records[0:self.mb.move_count+1]\n",
    "            self.mb.change_step(self.mb.move_count)\n",
    "            self.draw_board()\n",
    "        \n",
    "    # イベントハンドラをボタンに結びつける\n",
    "    self.change_button.on_click(on_change_button_clicked)\n",
    "    self.reset_button.on_click(on_reset_button_clicked)   \n",
    "    self.undo_button.on_click(on_undo_button_clicked)   \n",
    "    \n",
    "    # step 手目の局面に移動する\n",
    "    def change_step(step):\n",
    "        self.mb.change_step(step)\n",
    "        # 描画を更新する\n",
    "        self.draw_board()        \n",
    "\n",
    "    def on_first_button_clicked(b=None):\n",
    "        change_step(0)\n",
    "\n",
    "    def on_prev_button_clicked(b=None):\n",
    "        change_step(self.mb.move_count - 1)\n",
    "\n",
    "    def on_next_button_clicked(b=None):\n",
    "        change_step(self.mb.move_count + 1)\n",
    "        \n",
    "    def on_last_button_clicked(b=None):\n",
    "        change_step(len(self.mb.records) - 1)\n",
    "\n",
    "    def on_slider_changed(changed):\n",
    "        if self.mb.move_count != changed[\"new\"]:\n",
    "            change_step(changed[\"new\"])\n",
    "            \n",
    "    self.first_button.on_click(on_first_button_clicked)\n",
    "    self.prev_button.on_click(on_prev_button_clicked)\n",
    "    self.next_button.on_click(on_next_button_clicked)\n",
    "    self.last_button.on_click(on_last_button_clicked)\n",
    "    self.slider.observe(on_slider_changed, names=\"value\")\n",
    "    \n",
    "    # ゲーム盤の上でマウスを押した場合のイベントハンドラ\n",
    "    def on_mouse_down(event):\n",
    "        # Axes の上でマウスを押していた場合のみ処理を行う\n",
    "        if event.inaxes and self.mb.status == Marubatsu.PLAYING:\n",
    "            x = math.floor(event.xdata)\n",
    "            y = math.floor(event.ydata)\n",
    "            self.mb.move(x, y)                \n",
    "            # 次の手番の処理を行うメソッドを呼び出す\n",
    "            self.mb.play_loop(self)\n",
    "\n",
    "    # ゲーム盤を選択した状態でキーを押した場合のイベントハンドラ\n",
    "    def on_key_press(event):\n",
    "        keymap = {\n",
    "            \"up\": on_first_button_clicked,\n",
    "            \"left\": on_prev_button_clicked,\n",
    "            \"right\": on_next_button_clicked,\n",
    "            \"down\": on_last_button_clicked,\n",
    "            \"0\": on_undo_button_clicked,\n",
    "            \"enter\": on_reset_button_clicked,            \n",
    "        }\n",
    "        if event.key in keymap:\n",
    "            keymap[event.key]()\n",
    "        else:\n",
    "            try:\n",
    "                num = int(event.key) - 1\n",
    "                event.inaxes = True\n",
    "                event.xdata = num % 3\n",
    "                event.ydata = 2 - (num // 3)\n",
    "                on_mouse_down(event)\n",
    "            except:\n",
    "                pass\n",
    "            \n",
    "    # fig の画像イベントハンドラを結び付ける\n",
    "    self.fig.canvas.mpl_connect(\"button_press_event\", on_mouse_down)     \n",
    "    self.fig.canvas.mpl_connect(\"key_press_event\", on_key_press)   \n",
    "    \n",
    "Marubatsu_GUI.create_event_handler = create_event_handler"
   ]
  },
  {
   "cell_type": "code",
   "execution_count": 18,
   "metadata": {},
   "outputs": [
    {
     "data": {
      "application/vnd.jupyter.widget-view+json": {
       "model_id": "2afa6035ec3d46a6b57c2665e928434f",
       "version_major": 2,
       "version_minor": 0
      },
      "text/plain": [
       "VBox(children=(HBox(children=(Checkbox(value=False, description='乱数の種', indent=False, layout=Layout(width='100…"
      ]
     },
     "metadata": {},
     "output_type": "display_data"
    },
    {
     "data": {
      "application/vnd.jupyter.widget-view+json": {
       "model_id": "75aaa7a3391e4ce7a4b9c053c44eb6bb",
       "version_major": 2,
       "version_minor": 0
      },
      "image/png": "[encoded data removed]",
      "text/html": [
       "\n",
       "            <div style=\"display: inline-block;\">\n",
       "                <div class=\"jupyter-widgets widget-label\" style=\"text-align: center;\">\n",
       "                    Figure\n",
       "                </div>\n",
       "                <img src='data:image/png;base64,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' width=300.0/>\n",
       "            </div>\n",
       "        "
      ],
      "text/plain": [
       "Canvas(footer_visible=False, header_visible=False, resizable=False, toolbar=Toolbar(toolitems=[('Home', 'Reset…"
      ]
     },
     "metadata": {},
     "output_type": "display_data"
    }
   ],
   "source": [
    "gui_play()"
   ]
  },
  {
   "cell_type": "code",
   "execution_count": 19,
   "metadata": {},
   "outputs": [],
   "source": [
    "import random\n",
    "\n",
    "def create_event_handler(self):\n",
    "    # 乱数の種のチェックボックスのイベントハンドラを定義する\n",
    "    def on_checkbox_changed(changed):\n",
    "        self.update_widgets_status()\n",
    "        \n",
    "    self.checkbox.observe(on_checkbox_changed, names=\"value\")\n",
    "\n",
    "    # 開く、保存ボタンのイベントハンドラを定義する\n",
    "    def on_load_button_clicked(b):\n",
    "        path = filedialog.askopenfilename(filetypes=[(\"〇×ゲーム\", \"*.mbsav\")],\n",
    "                                          initialdir=\"save\")\n",
    "        if path != \"\":\n",
    "            with open(path, \"rb\") as f:\n",
    "                data = pickle.load(f)\n",
    "                self.mb.records = data[\"records\"]\n",
    "                self.mb.ai = data[\"ai\"]\n",
    "                change_step(data[\"move_count\"])\n",
    "                for i in range(2):\n",
    "                    value = \"人間\" if self.mb.ai[i] is None else self.mb.ai[i]\n",
    "                    self.dropdown_list[i].value = value               \n",
    "                if data[\"seed\"] is not None:                   \n",
    "                    self.checkbox.value = True\n",
    "                    self.inttext.value = data[\"seed\"]\n",
    "                else:\n",
    "                    self.checkbox.value = False\n",
    "                    \n",
    "    def on_save_button_clicked(b):\n",
    "        name = [\"人間\" if self.mb.ai[i] is None else self.mb.ai[i].__name__\n",
    "                for i in range(2)]\n",
    "        timestr = datetime.now().strftime(\"%Y年%m月%d日 %H時%M分%S秒\")\n",
    "        fname = f\"{name[0]} VS {name[1]} {timestr}\"\n",
    "        path = filedialog.asksaveasfilename(filetypes=[(\"〇×ゲーム\", \"*.mbsav\")],\n",
    "                                            initialdir=\"save\", initialfile=fname,\n",
    "                                            defaultextension=\"mbsav\")\n",
    "        if path != \"\":\n",
    "            with open(path, \"wb\") as f:\n",
    "                data = {\n",
    "                    \"records\": self.mb.records,\n",
    "                    \"move_count\": self.mb.move_count,\n",
    "                    \"ai\": self.mb.ai,\n",
    "                    \"seed\": self.inttext.value if self.checkbox.value else None\n",
    "                }\n",
    "                pickle.dump(data, f)\n",
    "            \n",
    "    self.load_button.on_click(on_load_button_clicked)\n",
    "    self.save_button.on_click(on_save_button_clicked)\n",
    "    \n",
    "    # 変更ボタンのイベントハンドラを定義する\n",
    "    def on_change_button_clicked(b):\n",
    "        for i in range(2):\n",
    "            self.mb.ai[i] = None if self.dropdown_list[i].value == \"人間\" else self.dropdown_list[i].value\n",
    "        self.mb.play_loop(self)\n",
    "\n",
    "    # リセットボタンのイベントハンドラを定義する\n",
    "    def on_reset_button_clicked(b=None):\n",
    "        # 乱数の種のチェックボックスが ON の場合に、乱数の種の処理を行う\n",
    "        if self.checkbox.value:\n",
    "            random.seed(self.inttext.value)\n",
    "        self.mb.restart()\n",
    "        on_change_button_clicked(b)\n",
    "\n",
    "    # 待ったボタンのイベントハンドラを定義する\n",
    "    def on_undo_button_clicked(b=None):\n",
    "        if self.mb.move_count >= 2 and self.mb.move_count == len(self.mb.records) - 1:\n",
    "            self.mb.move_count -= 2\n",
    "            self.mb.records = self.mb.records[0:self.mb.move_count+1]\n",
    "            self.mb.change_step(self.mb.move_count)\n",
    "            self.draw_board()\n",
    "        \n",
    "    # イベントハンドラをボタンに結びつける\n",
    "    self.change_button.on_click(on_change_button_clicked)\n",
    "    self.reset_button.on_click(on_reset_button_clicked)   \n",
    "    self.undo_button.on_click(on_undo_button_clicked)   \n",
    "    \n",
    "    # step 手目の局面に移動する\n",
    "    def change_step(step):\n",
    "        self.mb.change_step(step)\n",
    "        # 描画を更新する\n",
    "        self.draw_board()        \n",
    "\n",
    "    def on_first_button_clicked(b=None):\n",
    "        change_step(0)\n",
    "\n",
    "    def on_prev_button_clicked(b=None):\n",
    "        change_step(self.mb.move_count - 1)\n",
    "\n",
    "    def on_next_button_clicked(b=None):\n",
    "        change_step(self.mb.move_count + 1)\n",
    "        \n",
    "    def on_last_button_clicked(b=None):\n",
    "        change_step(len(self.mb.records) - 1)\n",
    "\n",
    "    def on_slider_changed(changed):\n",
    "        if self.mb.move_count != changed[\"new\"]:\n",
    "            change_step(changed[\"new\"])\n",
    "            \n",
    "    self.first_button.on_click(on_first_button_clicked)\n",
    "    self.prev_button.on_click(on_prev_button_clicked)\n",
    "    self.next_button.on_click(on_next_button_clicked)\n",
    "    self.last_button.on_click(on_last_button_clicked)\n",
    "    self.slider.observe(on_slider_changed, names=\"value\")\n",
    "    \n",
    "    # ゲーム盤の上でマウスを押した場合のイベントハンドラ\n",
    "    def on_mouse_down(event):\n",
    "        # Axes の上でマウスを押していた場合のみ処理を行う\n",
    "        if event.inaxes and self.mb.status == Marubatsu.PLAYING:\n",
    "            x = math.floor(event.xdata)\n",
    "            y = math.floor(event.ydata)\n",
    "            self.mb.move(x, y)                \n",
    "            # 次の手番の処理を行うメソッドを呼び出す\n",
    "            self.mb.play_loop(self)\n",
    "\n",
    "    # ゲーム盤を選択した状態でキーを押した場合のイベントハンドラ\n",
    "    def on_key_press(event):\n",
    "        keymap = {\n",
    "            \"up\": on_first_button_clicked,\n",
    "            \"left\": on_prev_button_clicked,\n",
    "            \"right\": on_next_button_clicked,\n",
    "            \"down\": on_last_button_clicked,\n",
    "            \"0\": on_undo_button_clicked,\n",
    "            \"enter\": on_reset_button_clicked,            \n",
    "        }\n",
    "        if event.key in keymap:\n",
    "            keymap[event.key]()\n",
    "        else:\n",
    "            try:\n",
    "                num = int(event.key) - 1\n",
    "                event.inaxes = True\n",
    "                event.xdata = num % 3\n",
    "                event.ydata = 2 - (num // 3)\n",
    "                on_mouse_down(event)\n",
    "            except:\n",
    "                pass\n",
    "            \n",
    "    # fig の画像イベントハンドラを結び付ける\n",
    "    self.fig.canvas.mpl_connect(\"button_press_event\", on_mouse_down)     \n",
    "    self.fig.canvas.mpl_connect(\"key_press_event\", on_key_press)   \n",
    "    \n",
    "Marubatsu_GUI.create_event_handler = create_event_handler"
   ]
  },
  {
   "cell_type": "code",
   "execution_count": 20,
   "metadata": {},
   "outputs": [
    {
     "data": {
      "application/vnd.jupyter.widget-view+json": {
       "model_id": "ec11ddcd29fd46d7bf4df080752914f8",
       "version_major": 2,
       "version_minor": 0
      },
      "text/plain": [
       "VBox(children=(HBox(children=(Checkbox(value=False, description='乱数の種', indent=False, layout=Layout(width='100…"
      ]
     },
     "metadata": {},
     "output_type": "display_data"
    },
    {
     "data": {
      "application/vnd.jupyter.widget-view+json": {
       "model_id": "e0d1c4b491b443bcb3dcb0dd71a400aa",
       "version_major": 2,
       "version_minor": 0
      },
      "image/png": "[encoded data removed]",
      "text/html": [
       "\n",
       "            <div style=\"display: inline-block;\">\n",
       "                <div class=\"jupyter-widgets widget-label\" style=\"text-align: center;\">\n",
       "                    Figure\n",
       "                </div>\n",
       "                <img src='data:image/png;base64,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' width=300.0/>\n",
       "            </div>\n",
       "        "
      ],
      "text/plain": [
       "Canvas(footer_visible=False, header_visible=False, resizable=False, toolbar=Toolbar(toolitems=[('Home', 'Reset…"
      ]
     },
     "metadata": {},
     "output_type": "display_data"
    },
    {
     "name": "stdout",
     "output_type": "stream",
     "text": [
      "( 1 , 1 ) のマスにはマークが配置済です\n",
      "( 0 , 0 ) のマスにはマークが配置済です\n"
     ]
    }
   ],
   "source": [
    "gui_play()"
   ]
  },
  {
   "cell_type": "code",
   "execution_count": 21,
   "metadata": {},
   "outputs": [
    {
     "data": {
      "application/vnd.jupyter.widget-view+json": {
       "model_id": "7edd255e5e1c4b4186928cf0f54eaa2f",
       "version_major": 2,
       "version_minor": 0
      },
      "text/plain": [
       "Output()"
      ]
     },
     "metadata": {},
     "output_type": "display_data"
    }
   ],
   "source": [
    "import ipywidgets as widgets\n",
    "\n",
    "output = widgets.Output()\n",
    "display(output)"
   ]
  },
  {
   "cell_type": "code",
   "execution_count": 22,
   "metadata": {},
   "outputs": [
    {
     "name": "stdout",
     "output_type": "stream",
     "text": [
      "message\n"
     ]
    }
   ],
   "source": [
    "with output:\n",
    "    print(\"output message\")\n",
    "\n",
    "print(\"message\")"
   ]
  },
  {
   "cell_type": "code",
   "execution_count": 23,
   "metadata": {},
   "outputs": [],
   "source": [
    "output.clear_output()"
   ]
  },
  {
   "cell_type": "code",
   "execution_count": 24,
   "metadata": {},
   "outputs": [],
   "source": [
    "def create_widgets(self):\n",
    "    # 乱数の種の Checkbox と IntText を作成する\n",
    "    self.checkbox = widgets.Checkbox(value=self.seed is not None, description=\"乱数の種\",\n",
    "                                    indent=False, layout=widgets.Layout(width=\"100px\"))\n",
    "    self.inttext = widgets.IntText(value=0 if self.seed is None else self.seed,\n",
    "                                layout=widgets.Layout(width=\"100px\"))   \n",
    "\n",
    "    # 読み書きのボタンを作成する\n",
    "    self.load_button = self.create_button(\"開く\", 100)\n",
    "    self.save_button = self.create_button(\"保存\", 100)\n",
    "    \n",
    "    # AI を選択する Dropdown を作成する\n",
    "    self.create_dropdown()\n",
    "    # 変更、リセット、待ったボタンを作成する\n",
    "    self.change_button = self.create_button(\"変更\", 50)\n",
    "    self.reset_button = self.create_button(\"リセット\", 80)\n",
    "    self.undo_button = self.create_button(\"待った\", 60)    \n",
    "    \n",
    "    # リプレイのボタンとスライダーを作成する\n",
    "    self.first_button = self.create_button(\"<<\", 50)\n",
    "    self.prev_button = self.create_button(\"<\", 50)\n",
    "    self.next_button = self.create_button(\">\", 50)\n",
    "    self.last_button = self.create_button(\">>\", 50)     \n",
    "    self.slider = widgets.IntSlider(layout=widgets.Layout(width=\"200px\"))\n",
    "    # ゲーム盤の画像を表す figure を作成する\n",
    "    self.create_figure()\n",
    "\n",
    "    # print による文字列を表示する Output を作成する\n",
    "    self.output = widgets.Output()\n",
    "\n",
    "Marubatsu_GUI.create_widgets = create_widgets"
   ]
  },
  {
   "cell_type": "code",
   "execution_count": 25,
   "metadata": {},
   "outputs": [],
   "source": [
    "def display_widgets(self):\n",
    "    # 乱数の種のウィジェット、読み書きのボタンを横に配置した HBox を作成する\n",
    "    hbox1 = widgets.HBox([self.checkbox, self.inttext, self.load_button, self.save_button])\n",
    "    # 〇 と × の dropdown とボタンを横に配置した HBox を作成する\n",
    "    hbox2 = widgets.HBox([self.dropdown_list[0], self.dropdown_list[1], self.change_button, self.reset_button, self.undo_button])\n",
    "    # リプレイ機能のボタンを横に配置した HBox を作成する\n",
    "    hbox3 = widgets.HBox([self.first_button, self.prev_button, self.next_button, self.last_button, self.slider]) \n",
    "    # hbox1 ~ hbox3、Output を縦に配置した VBox を作成し、表示する\n",
    "    display(widgets.VBox([hbox1, hbox2, hbox3, self.output]))\n",
    "    \n",
    "Marubatsu_GUI.display_widgets = display_widgets "
   ]
  },
  {
   "cell_type": "code",
   "execution_count": 26,
   "metadata": {},
   "outputs": [],
   "source": [
    "def create_event_handler(self):\n",
    "    # 乱数の種のチェックボックスのイベントハンドラを定義する\n",
    "    def on_checkbox_changed(changed):\n",
    "        self.update_widgets_status()\n",
    "        \n",
    "    self.checkbox.observe(on_checkbox_changed, names=\"value\")\n",
    "\n",
    "    # 開く、保存ボタンのイベントハンドラを定義する\n",
    "    def on_load_button_clicked(b):\n",
    "        path = filedialog.askopenfilename(filetypes=[(\"〇×ゲーム\", \"*.mbsav\")],\n",
    "                                          initialdir=\"save\")\n",
    "        if path != \"\":\n",
    "            with open(path, \"rb\") as f:\n",
    "                data = pickle.load(f)\n",
    "                self.mb.records = data[\"records\"]\n",
    "                self.mb.ai = data[\"ai\"]\n",
    "                change_step(data[\"move_count\"])\n",
    "                for i in range(2):\n",
    "                    value = \"人間\" if self.mb.ai[i] is None else self.mb.ai[i]\n",
    "                    self.dropdown_list[i].value = value               \n",
    "                if data[\"seed\"] is not None:                   \n",
    "                    self.checkbox.value = True\n",
    "                    self.inttext.value = data[\"seed\"]\n",
    "                else:\n",
    "                    self.checkbox.value = False\n",
    "                    \n",
    "    def on_save_button_clicked(b):\n",
    "        name = [\"人間\" if self.mb.ai[i] is None else self.mb.ai[i].__name__\n",
    "                for i in range(2)]\n",
    "        timestr = datetime.now().strftime(\"%Y年%m月%d日 %H時%M分%S秒\")\n",
    "        fname = f\"{name[0]} VS {name[1]} {timestr}\"\n",
    "        path = filedialog.asksaveasfilename(filetypes=[(\"〇×ゲーム\", \"*.mbsav\")],\n",
    "                                            initialdir=\"save\", initialfile=fname,\n",
    "                                            defaultextension=\"mbsav\")\n",
    "        if path != \"\":\n",
    "            with open(path, \"wb\") as f:\n",
    "                data = {\n",
    "                    \"records\": self.mb.records,\n",
    "                    \"move_count\": self.mb.move_count,\n",
    "                    \"ai\": self.mb.ai,\n",
    "                    \"seed\": self.inttext.value if self.checkbox.value else None\n",
    "                }\n",
    "                pickle.dump(data, f)\n",
    "            \n",
    "    self.load_button.on_click(on_load_button_clicked)\n",
    "    self.save_button.on_click(on_save_button_clicked)\n",
    "    \n",
    "    # 変更ボタンのイベントハンドラを定義する\n",
    "    def on_change_button_clicked(b):\n",
    "        for i in range(2):\n",
    "            self.mb.ai[i] = None if self.dropdown_list[i].value == \"人間\" else self.dropdown_list[i].value\n",
    "        self.mb.play_loop(self)\n",
    "\n",
    "    # リセットボタンのイベントハンドラを定義する\n",
    "    def on_reset_button_clicked(b=None):\n",
    "        # 乱数の種のチェックボックスが ON の場合に、乱数の種の処理を行う\n",
    "        if self.checkbox.value:\n",
    "            random.seed(self.inttext.value)\n",
    "        self.mb.restart()\n",
    "        self.output.clear_output()\n",
    "        on_change_button_clicked(b)\n",
    "\n",
    "    # 待ったボタンのイベントハンドラを定義する\n",
    "    def on_undo_button_clicked(b=None):\n",
    "        if self.mb.move_count >= 2 and self.mb.move_count == len(self.mb.records) - 1:\n",
    "            self.mb.move_count -= 2\n",
    "            self.mb.records = self.mb.records[0:self.mb.move_count+1]\n",
    "            self.mb.change_step(self.mb.move_count)\n",
    "            self.draw_board()\n",
    "        \n",
    "    # イベントハンドラをボタンに結びつける\n",
    "    self.change_button.on_click(on_change_button_clicked)\n",
    "    self.reset_button.on_click(on_reset_button_clicked)   \n",
    "    self.undo_button.on_click(on_undo_button_clicked)   \n",
    "    \n",
    "    # step 手目の局面に移動する\n",
    "    def change_step(step):\n",
    "        self.mb.change_step(step)\n",
    "        # 描画を更新する\n",
    "        self.draw_board()        \n",
    "\n",
    "    def on_first_button_clicked(b=None):\n",
    "        change_step(0)\n",
    "\n",
    "    def on_prev_button_clicked(b=None):\n",
    "        change_step(self.mb.move_count - 1)\n",
    "\n",
    "    def on_next_button_clicked(b=None):\n",
    "        change_step(self.mb.move_count + 1)\n",
    "        \n",
    "    def on_last_button_clicked(b=None):\n",
    "        change_step(len(self.mb.records) - 1)\n",
    "\n",
    "    def on_slider_changed(changed):\n",
    "        if self.mb.move_count != changed[\"new\"]:\n",
    "            change_step(changed[\"new\"])\n",
    "            \n",
    "    self.first_button.on_click(on_first_button_clicked)\n",
    "    self.prev_button.on_click(on_prev_button_clicked)\n",
    "    self.next_button.on_click(on_next_button_clicked)\n",
    "    self.last_button.on_click(on_last_button_clicked)\n",
    "    self.slider.observe(on_slider_changed, names=\"value\")\n",
    "    \n",
    "    # ゲーム盤の上でマウスを押した場合のイベントハンドラ\n",
    "    def on_mouse_down(event):\n",
    "        # Axes の上でマウスを押していた場合のみ処理を行う\n",
    "        if event.inaxes and self.mb.status == Marubatsu.PLAYING:\n",
    "            x = math.floor(event.xdata)\n",
    "            y = math.floor(event.ydata)\n",
    "            with self.output:\n",
    "                self.mb.move(x, y)                \n",
    "            # 次の手番の処理を行うメソッドを呼び出す\n",
    "            self.mb.play_loop(self)\n",
    "\n",
    "    # ゲーム盤を選択した状態でキーを押した場合のイベントハンドラ\n",
    "    def on_key_press(event):\n",
    "        keymap = {\n",
    "            \"up\": on_first_button_clicked,\n",
    "            \"left\": on_prev_button_clicked,\n",
    "            \"right\": on_next_button_clicked,\n",
    "            \"down\": on_last_button_clicked,\n",
    "            \"0\": on_undo_button_clicked,\n",
    "            \"enter\": on_reset_button_clicked,            \n",
    "        }\n",
    "        if event.key in keymap:\n",
    "            keymap[event.key]()\n",
    "        else:\n",
    "            try:\n",
    "                num = int(event.key) - 1\n",
    "                event.inaxes = True\n",
    "                event.xdata = num % 3\n",
    "                event.ydata = 2 - (num // 3)\n",
    "                on_mouse_down(event)\n",
    "            except:\n",
    "                pass\n",
    "            \n",
    "    # fig の画像イベントハンドラを結び付ける\n",
    "    self.fig.canvas.mpl_connect(\"button_press_event\", on_mouse_down)     \n",
    "    self.fig.canvas.mpl_connect(\"key_press_event\", on_key_press)   \n",
    "    \n",
    "Marubatsu_GUI.create_event_handler = create_event_handler"
   ]
  },
  {
   "cell_type": "code",
   "execution_count": 27,
   "metadata": {},
   "outputs": [
    {
     "data": {
      "application/vnd.jupyter.widget-view+json": {
       "model_id": "b823d7ac1d9d433cbfa4092c4bb82809",
       "version_major": 2,
       "version_minor": 0
      },
      "text/plain": [
       "VBox(children=(HBox(children=(Checkbox(value=False, description='乱数の種', indent=False, layout=Layout(width='100…"
      ]
     },
     "metadata": {},
     "output_type": "display_data"
    },
    {
     "data": {
      "application/vnd.jupyter.widget-view+json": {
       "model_id": "8ca6e783f85c4bde950b3cdeac2f7a92",
       "version_major": 2,
       "version_minor": 0
      },
      "image/png": "[encoded data removed]",
      "text/html": [
       "\n",
       "            <div style=\"display: inline-block;\">\n",
       "                <div class=\"jupyter-widgets widget-label\" style=\"text-align: center;\">\n",
       "                    Figure\n",
       "                </div>\n",
       "                <img src='data:image/png;base64,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' width=300.0/>\n",
       "            </div>\n",
       "        "
      ],
      "text/plain": [
       "Canvas(footer_visible=False, header_visible=False, resizable=False, toolbar=Toolbar(toolitems=[('Home', 'Reset…"
      ]
     },
     "metadata": {},
     "output_type": "display_data"
    }
   ],
   "source": [
    "gui_play()"
   ]
  },
  {
   "cell_type": "code",
   "execution_count": 28,
   "metadata": {},
   "outputs": [],
   "source": [
    "def display_widgets(self):\n",
    "    # 乱数の種のウィジェット、読み書きのボタンを横に配置した HBox を作成する\n",
    "    hbox1 = widgets.HBox([self.checkbox, self.inttext, self.load_button, self.save_button])\n",
    "    # 〇 と × の dropdown とボタンを横に配置した HBox を作成する\n",
    "    hbox2 = widgets.HBox([self.dropdown_list[0], self.dropdown_list[1], self.change_button, self.reset_button, self.undo_button])\n",
    "    # リプレイ機能のボタンを横に配置した HBox を作成する\n",
    "    hbox3 = widgets.HBox([self.first_button, self.prev_button, self.next_button, self.last_button, self.slider]) \n",
    "    # hbox1 ~ hbox3、Figure、Output を縦に配置した VBox を作成し、表示する\n",
    "    display(widgets.VBox([hbox1, hbox2, hbox3, self.fig.canvas, self.output]))\n",
    "    \n",
    "Marubatsu_GUI.display_widgets = display_widgets "
   ]
  },
  {
   "cell_type": "code",
   "execution_count": 29,
   "metadata": {},
   "outputs": [
    {
     "data": {
      "application/vnd.jupyter.widget-view+json": {
       "model_id": "4d01554b2fc8496589da762ce5888697",
       "version_major": 2,
       "version_minor": 0
      },
      "text/plain": [
       "VBox(children=(HBox(children=(Checkbox(value=False, description='乱数の種', indent=False, layout=Layout(width='100…"
      ]
     },
     "metadata": {},
     "output_type": "display_data"
    },
    {
     "data": {
      "application/vnd.jupyter.widget-view+json": {
       "model_id": "4d8b52cff2bb4e11a6ec7ad671a4130a",
       "version_major": 2,
       "version_minor": 0
      },
      "image/png": "[encoded data removed]",
      "text/html": [
       "\n",
       "            <div style=\"display: inline-block;\">\n",
       "                <div class=\"jupyter-widgets widget-label\" style=\"text-align: center;\">\n",
       "                    Figure\n",
       "                </div>\n",
       "                <img src='data:image/png;base64,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' width=300.0/>\n",
       "            </div>\n",
       "        "
      ],
      "text/plain": [
       "Canvas(footer_visible=False, header_visible=False, resizable=False, toolbar=Toolbar(toolitems=[('Home', 'Reset…"
      ]
     },
     "metadata": {},
     "output_type": "display_data"
    }
   ],
   "source": [
    "gui_play()"
   ]
  },
  {
   "cell_type": "code",
   "execution_count": 30,
   "metadata": {},
   "outputs": [],
   "source": [
    "import matplotlib.pyplot as plt\n",
    "\n",
    "def create_figure(self):\n",
    "    plt.ioff()\n",
    "    self.fig, self.ax = plt.subplots(figsize=[self.size, self.size])\n",
    "    plt.ion()\n",
    "    self.fig.canvas.toolbar_visible = False\n",
    "    self.fig.canvas.header_visible = False\n",
    "    self.fig.canvas.footer_visible = False\n",
    "    self.fig.canvas.resizable = False\n",
    "    \n",
    "Marubatsu_GUI.create_figure = create_figure"
   ]
  },
  {
   "cell_type": "code",
   "execution_count": 31,
   "metadata": {},
   "outputs": [],
   "source": [
    "def create_figure(self):\n",
    "    with plt.ioff():\n",
    "        self.fig, self.ax = plt.subplots(figsize=[self.size, self.size])\n",
    "    self.fig.canvas.toolbar_visible = False\n",
    "    self.fig.canvas.header_visible = False\n",
    "    self.fig.canvas.footer_visible = False\n",
    "    self.fig.canvas.resizable = False\n",
    "    \n",
    "Marubatsu_GUI.create_figure = create_figure"
   ]
  },
  {
   "cell_type": "code",
   "execution_count": 32,
   "metadata": {},
   "outputs": [
    {
     "data": {
      "application/vnd.jupyter.widget-view+json": {
       "model_id": "395f23efbef14ea2bca1f827107e4989",
       "version_major": 2,
       "version_minor": 0
      },
      "text/plain": [
       "VBox(children=(HBox(children=(Checkbox(value=False, description='乱数の種', indent=False, layout=Layout(width='100…"
      ]
     },
     "metadata": {},
     "output_type": "display_data"
    }
   ],
   "source": [
    "gui_play()"
   ]
  },
  {
   "cell_type": "code",
   "execution_count": 33,
   "metadata": {},
   "outputs": [],
   "source": [
    "def create_widgets(self):\n",
    "    # 乱数の種の Checkbox と IntText を作成する\n",
    "    self.checkbox = widgets.Checkbox(value=self.seed is not None, description=\"乱数の種\",\n",
    "                                    indent=False, layout=widgets.Layout(width=\"100px\"))\n",
    "    self.inttext = widgets.IntText(value=0 if self.seed is None else self.seed,\n",
    "                                layout=widgets.Layout(width=\"100px\"))   \n",
    "\n",
    "    # 読み書き、ヘルプのボタンを作成する\n",
    "    self.load_button = self.create_button(\"開く\", 80)\n",
    "    self.save_button = self.create_button(\"保存\", 80)\n",
    "    self.help_button = self.create_button(\"？\", 30)\n",
    "    \n",
    "    # AI を選択する Dropdown を作成する\n",
    "    self.create_dropdown()\n",
    "    # 変更、リセット、待ったボタンを作成する\n",
    "    self.change_button = self.create_button(\"変更\", 50)\n",
    "    self.reset_button = self.create_button(\"リセット\", 80)\n",
    "    self.undo_button = self.create_button(\"待った\", 60)    \n",
    "    \n",
    "    # リプレイのボタンとスライダーを作成する\n",
    "    self.first_button = self.create_button(\"<<\", 50)\n",
    "    self.prev_button = self.create_button(\"<\", 50)\n",
    "    self.next_button = self.create_button(\">\", 50)\n",
    "    self.last_button = self.create_button(\">>\", 50)     \n",
    "    self.slider = widgets.IntSlider(layout=widgets.Layout(width=\"200px\"))\n",
    "    # ゲーム盤の画像を表す figure を作成する\n",
    "    self.create_figure()\n",
    "\n",
    "    # print による文字列を表示する Output を作成する\n",
    "    self.output = widgets.Output()\n",
    "\n",
    "Marubatsu_GUI.create_widgets = create_widgets"
   ]
  },
  {
   "cell_type": "code",
   "execution_count": 34,
   "metadata": {},
   "outputs": [],
   "source": [
    "def display_widgets(self):\n",
    "    # 乱数の種のウィジェット、読み書き、ヘルプのボタンを横に配置した HBox を作成する\n",
    "    hbox1 = widgets.HBox([self.checkbox, self.inttext, self.load_button, \n",
    "                          self.save_button, self.help_button])\n",
    "    # 〇 と × の dropdown とボタンを横に配置した HBox を作成する\n",
    "    hbox2 = widgets.HBox([self.dropdown_list[0], self.dropdown_list[1], self.change_button, self.reset_button, self.undo_button])\n",
    "    # リプレイ機能のボタンを横に配置した HBox を作成する\n",
    "    hbox3 = widgets.HBox([self.first_button, self.prev_button, self.next_button, self.last_button, self.slider]) \n",
    "    # hbox1 ~ hbox3、Figure、Output を縦に配置した VBox を作成し、表示する\n",
    "    display(widgets.VBox([hbox1, hbox2, hbox3, self.fig.canvas, self.output]))\n",
    "    \n",
    "Marubatsu_GUI.display_widgets = display_widgets "
   ]
  },
  {
   "cell_type": "code",
   "execution_count": 37,
   "metadata": {},
   "outputs": [],
   "source": [
    "def create_event_handler(self):\n",
    "    # 乱数の種のチェックボックスのイベントハンドラを定義する\n",
    "    def on_checkbox_changed(changed):\n",
    "        self.update_widgets_status()\n",
    "        \n",
    "    self.checkbox.observe(on_checkbox_changed, names=\"value\")\n",
    "\n",
    "    # 開く、保存ボタンのイベントハンドラを定義する\n",
    "    def on_load_button_clicked(b=None):\n",
    "        path = filedialog.askopenfilename(filetypes=[(\"〇×ゲーム\", \"*.mbsav\")],\n",
    "                                          initialdir=\"save\")\n",
    "        if path != \"\":\n",
    "            with open(path, \"rb\") as f:\n",
    "                data = pickle.load(f)\n",
    "                self.mb.records = data[\"records\"]\n",
    "                self.mb.ai = data[\"ai\"]\n",
    "                change_step(data[\"move_count\"])\n",
    "                for i in range(2):\n",
    "                    value = \"人間\" if self.mb.ai[i] is None else self.mb.ai[i]\n",
    "                    self.dropdown_list[i].value = value               \n",
    "                if data[\"seed\"] is not None:                   \n",
    "                    self.checkbox.value = True\n",
    "                    self.inttext.value = data[\"seed\"]\n",
    "                else:\n",
    "                    self.checkbox.value = False\n",
    "                    \n",
    "    def on_save_button_clicked(b=None):\n",
    "        name = [\"人間\" if self.mb.ai[i] is None else self.mb.ai[i].__name__\n",
    "                for i in range(2)]\n",
    "        timestr = datetime.now().strftime(\"%Y年%m月%d日 %H時%M分%S秒\")\n",
    "        fname = f\"{name[0]} VS {name[1]} {timestr}\"\n",
    "        path = filedialog.asksaveasfilename(filetypes=[(\"〇×ゲーム\", \"*.mbsav\")],\n",
    "                                            initialdir=\"save\", initialfile=fname,\n",
    "                                            defaultextension=\"mbsav\")\n",
    "        if path != \"\":\n",
    "            with open(path, \"wb\") as f:\n",
    "                data = {\n",
    "                    \"records\": self.mb.records,\n",
    "                    \"move_count\": self.mb.move_count,\n",
    "                    \"ai\": self.mb.ai,\n",
    "                    \"seed\": self.inttext.value if self.checkbox.value else None\n",
    "                }\n",
    "                pickle.dump(data, f)\n",
    "                \n",
    "    def on_help_button_clicked(b=None):\n",
    "        self.output.clear_output()\n",
    "        with self.output:\n",
    "            print(\"\"\"操作説明\n",
    "\n",
    "マスの上でクリックすることで着手を行う。\n",
    "下記の GUI で操作を行うことができる。\n",
    "()が記載されているものは、キー入力で同じ操作を行うことができることを意味する。\n",
    "なお、キー入力の操作は、ゲーム盤をクリックして選択状態にする必要がある。\n",
    "\n",
    "乱数の種\\tチェックボックスを ON にすると、右のテキストボックスの乱数の種が適用される\n",
    "開く(-,L)\\tファイルから対戦データを読み込む\n",
    "保存(+,S)\\tファイルに対戦データを保存する\n",
    "？(*,H)\\t\\tこの操作説明を表示する\n",
    "手番の担当\\tメニューからそれぞれの手番の担当を選択する\n",
    "\\t\\tメニューから選択しただけでは担当は変更されず、変更またはリセットボタンによって担当が変更される\n",
    "変更\\t\\tゲームの途中で手番の担当を変更する\n",
    "リセット\\t手番の担当を変更してゲームをリセットする\n",
    "待った(0)\\t1つ前の自分の着手をキャンセルする\n",
    "<<(↑)\\t\\t最初の局面に移動する\n",
    "<(←)\\t\\t1手前の局面に移動する\n",
    ">(→)\\t\\t1手後の局面に移動する\n",
    ">>(↓)\\t\\t最後の着手が行われた局面に移動する\n",
    "スライダー\\t現在の手数を表す。ドラッグすることで任意の手数へ移動する\n",
    "\n",
    "手数を移動した場合に、最後の着手が行われた局面でなければ、リプレイモードになる。\n",
    "リプレイモード中に着手を行うと、リプレイモードが解除され、その着手が最後の着手になる。\"\"\")\n",
    "            \n",
    "    self.load_button.on_click(on_load_button_clicked)\n",
    "    self.save_button.on_click(on_save_button_clicked)\n",
    "    self.help_button.on_click(on_help_button_clicked)\n",
    "    \n",
    "    # 変更ボタンのイベントハンドラを定義する\n",
    "    def on_change_button_clicked(b):\n",
    "        for i in range(2):\n",
    "            self.mb.ai[i] = None if self.dropdown_list[i].value == \"人間\" else self.dropdown_list[i].value\n",
    "        self.mb.play_loop(self)\n",
    "\n",
    "    # リセットボタンのイベントハンドラを定義する\n",
    "    def on_reset_button_clicked(b=None):\n",
    "        # 乱数の種のチェックボックスが ON の場合に、乱数の種の処理を行う\n",
    "        if self.checkbox.value:\n",
    "            random.seed(self.inttext.value)\n",
    "        self.mb.restart()\n",
    "        self.output.clear_output()\n",
    "        on_change_button_clicked(b)\n",
    "\n",
    "    # 待ったボタンのイベントハンドラを定義する\n",
    "    def on_undo_button_clicked(b=None):\n",
    "        if self.mb.move_count >= 2 and self.mb.move_count == len(self.mb.records) - 1:\n",
    "            self.mb.move_count -= 2\n",
    "            self.mb.records = self.mb.records[0:self.mb.move_count+1]\n",
    "            self.mb.change_step(self.mb.move_count)\n",
    "            self.draw_board()\n",
    "        \n",
    "    # イベントハンドラをボタンに結びつける\n",
    "    self.change_button.on_click(on_change_button_clicked)\n",
    "    self.reset_button.on_click(on_reset_button_clicked)   \n",
    "    self.undo_button.on_click(on_undo_button_clicked)   \n",
    "    \n",
    "    # step 手目の局面に移動する\n",
    "    def change_step(step):\n",
    "        self.mb.change_step(step)\n",
    "        # 描画を更新する\n",
    "        self.draw_board()        \n",
    "\n",
    "    def on_first_button_clicked(b=None):\n",
    "        change_step(0)\n",
    "\n",
    "    def on_prev_button_clicked(b=None):\n",
    "        change_step(self.mb.move_count - 1)\n",
    "\n",
    "    def on_next_button_clicked(b=None):\n",
    "        change_step(self.mb.move_count + 1)\n",
    "        \n",
    "    def on_last_button_clicked(b=None):\n",
    "        change_step(len(self.mb.records) - 1)\n",
    "\n",
    "    def on_slider_changed(changed):\n",
    "        if self.mb.move_count != changed[\"new\"]:\n",
    "            change_step(changed[\"new\"])\n",
    "            \n",
    "    self.first_button.on_click(on_first_button_clicked)\n",
    "    self.prev_button.on_click(on_prev_button_clicked)\n",
    "    self.next_button.on_click(on_next_button_clicked)\n",
    "    self.last_button.on_click(on_last_button_clicked)\n",
    "    self.slider.observe(on_slider_changed, names=\"value\")\n",
    "    \n",
    "    # ゲーム盤の上でマウスを押した場合のイベントハンドラ\n",
    "    def on_mouse_down(event):\n",
    "        # Axes の上でマウスを押していた場合のみ処理を行う\n",
    "        if event.inaxes and self.mb.status == Marubatsu.PLAYING:\n",
    "            x = math.floor(event.xdata)\n",
    "            y = math.floor(event.ydata)\n",
    "            with self.output:\n",
    "                self.mb.move(x, y)                \n",
    "            # 次の手番の処理を行うメソッドを呼び出す\n",
    "            self.mb.play_loop(self)\n",
    "\n",
    "    # ゲーム盤を選択した状態でキーを押した場合のイベントハンドラ\n",
    "    def on_key_press(event):\n",
    "        keymap = {\n",
    "            \"up\": on_first_button_clicked,\n",
    "            \"left\": on_prev_button_clicked,\n",
    "            \"right\": on_next_button_clicked,\n",
    "            \"down\": on_last_button_clicked,\n",
    "            \"0\": on_undo_button_clicked,\n",
    "            \"enter\": on_reset_button_clicked,            \n",
    "            \"-\": on_load_button_clicked,            \n",
    "            \"l\": on_load_button_clicked,            \n",
    "            \"+\": on_save_button_clicked,            \n",
    "            \"s\": on_save_button_clicked,            \n",
    "            \"*\": on_help_button_clicked,            \n",
    "            \"h\": on_help_button_clicked,            \n",
    "        }\n",
    "        if event.key in keymap:\n",
    "            keymap[event.key]()\n",
    "        else:\n",
    "            try:\n",
    "                num = int(event.key) - 1\n",
    "                event.inaxes = True\n",
    "                event.xdata = num % 3\n",
    "                event.ydata = 2 - (num // 3)\n",
    "                on_mouse_down(event)\n",
    "            except:\n",
    "                pass\n",
    "            \n",
    "    # fig の画像イベントハンドラを結び付ける\n",
    "    self.fig.canvas.mpl_connect(\"button_press_event\", on_mouse_down)     \n",
    "    self.fig.canvas.mpl_connect(\"key_press_event\", on_key_press)   \n",
    "    \n",
    "Marubatsu_GUI.create_event_handler = create_event_handler"
   ]
  },
  {
   "cell_type": "code",
   "execution_count": 38,
   "metadata": {},
   "outputs": [
    {
     "data": {
      "application/vnd.jupyter.widget-view+json": {
       "model_id": "5074f40d10f8413fa6f032f2ff00f56b",
       "version_major": 2,
       "version_minor": 0
      },
      "text/plain": [
       "VBox(children=(HBox(children=(Checkbox(value=False, description='乱数の種', indent=False, layout=Layout(width='100…"
      ]
     },
     "metadata": {},
     "output_type": "display_data"
    }
   ],
   "source": [
    "gui_play()"
   ]
  }
 ],
 "metadata": {
  "kernelspec": {
   "display_name": "marubatsu",
   "language": "python",
   "name": "python3"
  },
  "language_info": {
   "codemirror_mode": {
    "name": "ipython",
    "version": 3
   },
   "file_extension": ".py",
   "mimetype": "text/x-python",
   "name": "python",
   "nbconvert_exporter": "python",
   "pygments_lexer": "ipython3",
   "version": "3.11.4"
  }
 },
 "nbformat": 4,
 "nbformat_minor": 2
}
