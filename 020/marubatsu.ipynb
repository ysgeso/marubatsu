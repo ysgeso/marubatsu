{
 "cells": [
  {
   "cell_type": "code",
   "execution_count": 1,
   "metadata": {},
   "outputs": [
    {
     "name": "stdout",
     "output_type": "stream",
     "text": [
      "apple\n",
      "1000\n",
      "{'fruits': 'apple', 'price': 1000}\n"
     ]
    }
   ],
   "source": [
    "a = { \"fruits\": \"apple\", \"price\": 1000 }\n",
    "print(a[\"fruits\"])\n",
    "print(a[\"price\"])\n",
    "print(a)"
   ]
  },
  {
   "cell_type": "code",
   "execution_count": 2,
   "metadata": {},
   "outputs": [
    {
     "ename": "AttributeError",
     "evalue": "'dict' object has no attribute 'fruits'",
     "output_type": "error",
     "traceback": [
      "\u001b[1;31m---------------------------------------------------------------------------\u001b[0m",
      "\u001b[1;31mAttributeError\u001b[0m                            Traceback (most recent call last)",
      "\u001b[1;32mc:\\Users\\ys\\ai\\marubatsu\\020\\marubatsu.ipynb セル 2\u001b[0m line \u001b[0;36m1\n\u001b[1;32m----> <a href='vscode-notebook-cell:/c%3A/Users/ys/ai/marubatsu/020/marubatsu.ipynb#W1sZmlsZQ%3D%3D?line=0'>1</a>\u001b[0m \u001b[39mprint\u001b[39m(a\u001b[39m.\u001b[39mfruits)\n",
      "\u001b[1;31mAttributeError\u001b[0m: 'dict' object has no attribute 'fruits'"
     ]
    }
   ],
   "source": [
    "print(a.fruits)"
   ]
  },
  {
   "cell_type": "code",
   "execution_count": 3,
   "metadata": {},
   "outputs": [
    {
     "name": "stdout",
     "output_type": "stream",
     "text": [
      "red\n",
      "{'fruits': 'apple', 'price': 1000, 'color': 'red'}\n"
     ]
    }
   ],
   "source": [
    "a[\"color\"] = \"red\"\n",
    "print(a[\"color\"])\n",
    "print(a)"
   ]
  },
  {
   "cell_type": "code",
   "execution_count": 4,
   "metadata": {},
   "outputs": [
    {
     "name": "stdout",
     "output_type": "stream",
     "text": [
      "fruits\n",
      "price\n",
      "color\n"
     ]
    }
   ],
   "source": [
    "for key in a:\n",
    "    print(key)"
   ]
  },
  {
   "cell_type": "code",
   "execution_count": 5,
   "metadata": {},
   "outputs": [
    {
     "name": "stdout",
     "output_type": "stream",
     "text": [
      "dict_keys(['fruits', 'price', 'color'])\n"
     ]
    }
   ],
   "source": [
    "print(a.keys())"
   ]
  },
  {
   "cell_type": "code",
   "execution_count": 6,
   "metadata": {},
   "outputs": [
    {
     "name": "stdout",
     "output_type": "stream",
     "text": [
      "apple\n",
      "1000\n",
      "red\n"
     ]
    }
   ],
   "source": [
    "for key in a:\n",
    "    print(a[key])"
   ]
  },
  {
   "cell_type": "code",
   "execution_count": 7,
   "metadata": {},
   "outputs": [
    {
     "name": "stdout",
     "output_type": "stream",
     "text": [
      "dict_values(['apple', 1000, 'red'])\n"
     ]
    }
   ],
   "source": [
    "print(a.values())"
   ]
  },
  {
   "cell_type": "code",
   "execution_count": 8,
   "metadata": {},
   "outputs": [
    {
     "name": "stdout",
     "output_type": "stream",
     "text": [
      "apple\n",
      "1000\n",
      "red\n"
     ]
    }
   ],
   "source": [
    "for value in a.values():\n",
    "    print(value)"
   ]
  },
  {
   "cell_type": "code",
   "execution_count": 9,
   "metadata": {},
   "outputs": [
    {
     "ename": "TypeError",
     "evalue": "'dict_values' object is not subscriptable",
     "output_type": "error",
     "traceback": [
      "\u001b[1;31m---------------------------------------------------------------------------\u001b[0m",
      "\u001b[1;31mTypeError\u001b[0m                                 Traceback (most recent call last)",
      "\u001b[1;32mc:\\Users\\ys\\ai\\marubatsu\\020\\marubatsu.ipynb セル 9\u001b[0m line \u001b[0;36m1\n\u001b[1;32m----> <a href='vscode-notebook-cell:/c%3A/Users/ys/ai/marubatsu/020/marubatsu.ipynb#X11sZmlsZQ%3D%3D?line=0'>1</a>\u001b[0m \u001b[39mprint\u001b[39m(a\u001b[39m.\u001b[39mvalues()[\u001b[39m0\u001b[39m])\n",
      "\u001b[1;31mTypeError\u001b[0m: 'dict_values' object is not subscriptable"
     ]
    }
   ],
   "source": [
    "print(a.values()[0])"
   ]
  },
  {
   "cell_type": "code",
   "execution_count": 10,
   "metadata": {},
   "outputs": [
    {
     "name": "stdout",
     "output_type": "stream",
     "text": [
      "['apple', 1000, 'red']\n",
      "apple\n"
     ]
    }
   ],
   "source": [
    "values = list(a.values())\n",
    "print(values)\n",
    "print(values[0])"
   ]
  },
  {
   "cell_type": "code",
   "execution_count": 11,
   "metadata": {},
   "outputs": [
    {
     "name": "stdout",
     "output_type": "stream",
     "text": [
      "dict_items([('fruits', 'apple'), ('price', 1000), ('color', 'red')])\n"
     ]
    }
   ],
   "source": [
    "print(a.items())"
   ]
  },
  {
   "cell_type": "code",
   "execution_count": 12,
   "metadata": {},
   "outputs": [
    {
     "name": "stdout",
     "output_type": "stream",
     "text": [
      "('fruits', 'apple')\n",
      "('price', 1000)\n",
      "('color', 'red')\n"
     ]
    }
   ],
   "source": [
    "for item in a.items():\n",
    "    print(item)"
   ]
  },
  {
   "cell_type": "code",
   "execution_count": 13,
   "metadata": {},
   "outputs": [
    {
     "name": "stdout",
     "output_type": "stream",
     "text": [
      "1 2\n"
     ]
    }
   ],
   "source": [
    "(x, y) = (1, 2)\n",
    "print(x, y)"
   ]
  },
  {
   "cell_type": "code",
   "execution_count": 14,
   "metadata": {},
   "outputs": [
    {
     "name": "stdout",
     "output_type": "stream",
     "text": [
      "key: fruits , value: apple\n",
      "key: price , value: 1000\n",
      "key: color , value: red\n"
     ]
    }
   ],
   "source": [
    "for (key, value) in a.items():\n",
    "    print(\"key:\", key, \", value:\", value)"
   ]
  },
  {
   "cell_type": "code",
   "execution_count": 15,
   "metadata": {},
   "outputs": [
    {
     "name": "stdout",
     "output_type": "stream",
     "text": [
      "1 2\n"
     ]
    }
   ],
   "source": [
    "x, y = 1, 2\n",
    "print(x, y)"
   ]
  },
  {
   "cell_type": "code",
   "execution_count": 16,
   "metadata": {},
   "outputs": [
    {
     "name": "stdout",
     "output_type": "stream",
     "text": [
      "key: fruits , value: apple\n",
      "key: price , value: 1000\n",
      "key: color , value: red\n"
     ]
    }
   ],
   "source": [
    "for key, value in a.items():\n",
    "    print(\"key:\", key, \", value:\", value)"
   ]
  },
  {
   "cell_type": "code",
   "execution_count": 17,
   "metadata": {},
   "outputs": [
    {
     "name": "stdout",
     "output_type": "stream",
     "text": [
      "1 2\n",
      "(1, 2)\n"
     ]
    }
   ],
   "source": [
    "print(1, 2)\n",
    "print((1, 2))"
   ]
  },
  {
   "cell_type": "code",
   "execution_count": 18,
   "metadata": {},
   "outputs": [],
   "source": [
    "class Marubatsu:\n",
    "    def initialize_board(self):\n",
    "        self.board = [[\".\"] * 3 for y in range(3)]\n",
    "\n",
    "    def set_mark(self, x, y, mark):\n",
    "        if self.board[x][y] == \".\":\n",
    "            self.board[x][y] = mark\n",
    "        else:\n",
    "            print(\"(\", x, \",\", y, \") のマスにはマークが配置済です\")\n",
    "\n",
    "    def display_board(self):   \n",
    "        for y in range(3):\n",
    "            for x in range(3):\n",
    "                print(self.board[x][y], end=\"\")\n",
    "            print() "
   ]
  },
  {
   "cell_type": "code",
   "execution_count": 19,
   "metadata": {},
   "outputs": [
    {
     "name": "stdout",
     "output_type": "stream",
     "text": [
      "[2]\n"
     ]
    }
   ],
   "source": [
    "a = [1]\n",
    "\n",
    "class A:\n",
    "    # クラスの定義の中で、グローバル変数 a の要素に値を代入する\n",
    "    a[0] = 2 \n",
    "\n",
    "# クラスの定義の実行により、グローバル変数 a の値が変化する\n",
    "print(a)"
   ]
  },
  {
   "cell_type": "code",
   "execution_count": 20,
   "metadata": {},
   "outputs": [
    {
     "name": "stdout",
     "output_type": "stream",
     "text": [
      "{'__module__': '__main__', 'initialize_board': <function Marubatsu.initialize_board at 0x0000022D86EC25C0>, 'set_mark': <function Marubatsu.set_mark at 0x0000022D87BA0180>, 'display_board': <function Marubatsu.display_board at 0x0000022D87BA0860>, '__dict__': <attribute '__dict__' of 'Marubatsu' objects>, '__weakref__': <attribute '__weakref__' of 'Marubatsu' objects>, '__doc__': None}\n"
     ]
    }
   ],
   "source": [
    "print(Marubatsu.__dict__)"
   ]
  },
  {
   "cell_type": "code",
   "execution_count": 21,
   "metadata": {},
   "outputs": [
    {
     "name": "stdout",
     "output_type": "stream",
     "text": [
      "mappingproxy({'__dict__': <attribute '__dict__' of 'Marubatsu' objects>,\n",
      "              '__doc__': None,\n",
      "              '__module__': '__main__',\n",
      "              '__weakref__': <attribute '__weakref__' of 'Marubatsu' objects>,\n",
      "              'display_board': <function Marubatsu.display_board at 0x0000022D87BA0860>,\n",
      "              'initialize_board': <function Marubatsu.initialize_board at 0x0000022D86EC25C0>,\n",
      "              'set_mark': <function Marubatsu.set_mark at 0x0000022D87BA0180>})\n"
     ]
    }
   ],
   "source": [
    "from pprint import pprint\n",
    "\n",
    "pprint(Marubatsu.__dict__)"
   ]
  },
  {
   "cell_type": "code",
   "execution_count": 22,
   "metadata": {},
   "outputs": [
    {
     "ename": "TypeError",
     "evalue": "Marubatsu.initialize_board() missing 1 required positional argument: 'self'",
     "output_type": "error",
     "traceback": [
      "\u001b[1;31m---------------------------------------------------------------------------\u001b[0m",
      "\u001b[1;31mTypeError\u001b[0m                                 Traceback (most recent call last)",
      "\u001b[1;32mc:\\Users\\ys\\ai\\marubatsu\\020\\marubatsu.ipynb セル 22\u001b[0m line \u001b[0;36m1\n\u001b[1;32m----> <a href='vscode-notebook-cell:/c%3A/Users/ys/ai/marubatsu/020/marubatsu.ipynb#X30sZmlsZQ%3D%3D?line=0'>1</a>\u001b[0m Marubatsu\u001b[39m.\u001b[39minitialize_board()\n",
      "\u001b[1;31mTypeError\u001b[0m: Marubatsu.initialize_board() missing 1 required positional argument: 'self'"
     ]
    }
   ],
   "source": [
    "Marubatsu.initialize_board()"
   ]
  },
  {
   "cell_type": "code",
   "execution_count": 23,
   "metadata": {},
   "outputs": [],
   "source": [
    "mb = Marubatsu()\n",
    "Marubatsu.initialize_board(mb) # この行と次の行は全く同じ処理を行う文である\n",
    "mb.initialize_board()"
   ]
  },
  {
   "cell_type": "code",
   "execution_count": 24,
   "metadata": {},
   "outputs": [
    {
     "name": "stdout",
     "output_type": "stream",
     "text": [
      "{}\n"
     ]
    }
   ],
   "source": [
    "mb = Marubatsu()\n",
    "print(mb.__dict__)"
   ]
  },
  {
   "cell_type": "code",
   "execution_count": 25,
   "metadata": {},
   "outputs": [
    {
     "name": "stdout",
     "output_type": "stream",
     "text": [
      "<function Marubatsu.initialize_board at 0x0000022D86EC25C0>\n",
      "<bound method Marubatsu.initialize_board of <__main__.Marubatsu object at 0x0000022D87BE3F90>>\n"
     ]
    }
   ],
   "source": [
    "mb = Marubatsu()\n",
    "print(Marubatsu.initialize_board)\n",
    "print(mb.initialize_board)"
   ]
  },
  {
   "cell_type": "code",
   "execution_count": 26,
   "metadata": {},
   "outputs": [
    {
     "name": "stdout",
     "output_type": "stream",
     "text": [
      "1\n",
      "2\n"
     ]
    }
   ],
   "source": [
    "mb1 = Marubatsu()\n",
    "mb2 = Marubatsu()\n",
    "mb1.a = 1\n",
    "mb2.a = 2\n",
    "print(mb1.a)\n",
    "print(mb2.a)"
   ]
  }
 ],
 "metadata": {
  "kernelspec": {
   "display_name": "marubatsu",
   "language": "python",
   "name": "python3"
  },
  "language_info": {
   "codemirror_mode": {
    "name": "ipython",
    "version": 3
   },
   "file_extension": ".py",
   "mimetype": "text/x-python",
   "name": "python",
   "nbconvert_exporter": "python",
   "pygments_lexer": "ipython3",
   "version": "3.11.4"
  },
  "orig_nbformat": 4
 },
 "nbformat": 4,
 "nbformat_minor": 2
}
