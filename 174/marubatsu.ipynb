{
 "cells": [
  {
   "cell_type": "code",
   "execution_count": 1,
   "metadata": {},
   "outputs": [
    {
     "name": "stdout",
     "output_type": "stream",
     "text": [
      "use_tt: False\n",
      "maxdepth: 0  count 1\n",
      "maxdepth: 1  count 10\n",
      "maxdepth: 2  count 36\n",
      "maxdepth: 3  count 171\n",
      "maxdepth: 4  count 658\n",
      "maxdepth: 5  count 2648\n",
      "maxdepth: 6  count 7202\n",
      "maxdepth: 7  count 12762\n",
      "maxdepth: 8  count 15640\n",
      "maxdepth: 9  count 18297\n",
      "use_tt: True\n",
      "maxdepth: 0  count 1\n",
      "maxdepth: 1  count 10\n",
      "maxdepth: 2  count 27\n",
      "maxdepth: 3  count 76\n",
      "maxdepth: 4  count 189\n",
      "maxdepth: 5  count 413\n",
      "maxdepth: 6  count 831\n",
      "maxdepth: 7  count 978\n",
      "maxdepth: 8  count 1049\n",
      "maxdepth: 9  count 1069\n"
     ]
    }
   ],
   "source": [
    "from ai import ai_abs_dls, ai14s\n",
    "from marubatsu import Marubatsu\n",
    "\n",
    "mb = Marubatsu()\n",
    "for use_tt in [False, True]:\n",
    "    print(f\"use_tt: {use_tt}\")\n",
    "    for maxdepth in range(10):\n",
    "        count = ai_abs_dls(mb, maxdepth=maxdepth, eval_func=ai14s, eval_params={\"minimax\": True},\n",
    "                           use_tt=use_tt, calc_score=True, calc_count=True)\n",
    "        print(f\"maxdepth: {maxdepth}  count {count}\")"
   ]
  },
  {
   "cell_type": "code",
   "execution_count": 2,
   "metadata": {},
   "outputs": [
    {
     "name": "stdout",
     "output_type": "stream",
     "text": [
      "use_tt: False\n",
      "maxdepth 0\n",
      "21.8 µs ± 854 ns per loop (mean ± std. dev. of 7 runs, 10,000 loops each)\n",
      "maxdepth 1\n",
      "524 µs ± 3.4 µs per loop (mean ± std. dev. of 7 runs, 1,000 loops each)\n",
      "maxdepth 2\n",
      "1.97 ms ± 96.3 µs per loop (mean ± std. dev. of 7 runs, 100 loops each)\n",
      "maxdepth 3\n",
      "9.74 ms ± 12.3 µs per loop (mean ± std. dev. of 7 runs, 100 loops each)\n",
      "maxdepth 4\n",
      "38.6 ms ± 98 µs per loop (mean ± std. dev. of 7 runs, 10 loops each)\n",
      "maxdepth 5\n",
      "152 ms ± 612 µs per loop (mean ± std. dev. of 7 runs, 10 loops each)\n",
      "maxdepth 6\n",
      "412 ms ± 1.57 ms per loop (mean ± std. dev. of 7 runs, 1 loop each)\n",
      "maxdepth 7\n",
      "691 ms ± 2.14 ms per loop (mean ± std. dev. of 7 runs, 1 loop each)\n",
      "maxdepth 8\n",
      "831 ms ± 10 ms per loop (mean ± std. dev. of 7 runs, 1 loop each)\n",
      "maxdepth 9\n",
      "902 ms ± 4.17 ms per loop (mean ± std. dev. of 7 runs, 1 loop each)\n",
      "use_tt: True\n",
      "maxdepth 0\n",
      "21.6 µs ± 372 ns per loop (mean ± std. dev. of 7 runs, 10,000 loops each)\n",
      "maxdepth 1\n",
      "544 µs ± 2.18 µs per loop (mean ± std. dev. of 7 runs, 1,000 loops each)\n",
      "maxdepth 2\n",
      "1.47 ms ± 2.79 µs per loop (mean ± std. dev. of 7 runs, 1,000 loops each)\n",
      "maxdepth 3\n",
      "4.32 ms ± 10.2 µs per loop (mean ± std. dev. of 7 runs, 100 loops each)\n",
      "maxdepth 4\n",
      "11.4 ms ± 184 µs per loop (mean ± std. dev. of 7 runs, 100 loops each)\n",
      "maxdepth 5\n",
      "24.9 ms ± 921 µs per loop (mean ± std. dev. of 7 runs, 10 loops each)\n",
      "maxdepth 6\n",
      "50.2 ms ± 515 µs per loop (mean ± std. dev. of 7 runs, 10 loops each)\n",
      "maxdepth 7\n",
      "58.1 ms ± 1.67 ms per loop (mean ± std. dev. of 7 runs, 10 loops each)\n",
      "maxdepth 8\n",
      "60.1 ms ± 200 µs per loop (mean ± std. dev. of 7 runs, 10 loops each)\n",
      "maxdepth 9\n",
      "59.8 ms ± 168 µs per loop (mean ± std. dev. of 7 runs, 10 loops each)\n"
     ]
    }
   ],
   "source": [
    "for use_tt in [False, True]:\n",
    "    print(f\"use_tt: {use_tt}\")\n",
    "    for maxdepth in range(10):\n",
    "        print(f\"maxdepth {maxdepth}\")\n",
    "        %timeit ai_abs_dls(mb, maxdepth=maxdepth, eval_func=ai14s, \\\n",
    "                           eval_params={\"minimax\": True}, use_tt=use_tt, \\\n",
    "                           calc_score=True, calc_count=True)"
   ]
  },
  {
   "cell_type": "code",
   "execution_count": 15,
   "metadata": {},
   "outputs": [
    {
     "name": "stdout",
     "output_type": "stream",
     "text": [
      "eval_func ai2s\n",
      "ai_abs_dls VS ai2s\n"
     ]
    },
    {
     "name": "stderr",
     "output_type": "stream",
     "text": [
      "100%|██████████| 1000/1000 [00:06<00:00, 148.24it/s]\n"
     ]
    },
    {
     "name": "stdout",
     "output_type": "stream",
     "text": [
      "count     win    lose    draw\n",
      "o         592     275     133\n",
      "x         277     597     126\n",
      "total     869     872     259\n",
      "\n",
      "ratio     win    lose    draw\n",
      "o       59.2%   27.5%   13.3%\n",
      "x       27.7%   59.7%   12.6%\n",
      "total   43.5%   43.6%   13.0%\n",
      "\n",
      "ai2s VS ai2s\n"
     ]
    },
    {
     "name": "stderr",
     "output_type": "stream",
     "text": [
      "100%|██████████| 1000/1000 [00:06<00:00, 159.47it/s]\n"
     ]
    },
    {
     "name": "stdout",
     "output_type": "stream",
     "text": [
      "count     win    lose    draw\n",
      "o         591     291     118\n",
      "x         284     597     119\n",
      "total     875     888     237\n",
      "\n",
      "ratio     win    lose    draw\n",
      "o       59.1%   29.1%   11.8%\n",
      "x       28.4%   59.7%   11.9%\n",
      "total   43.8%   44.4%   11.8%\n",
      "\n",
      "eval_func ai10s\n",
      "ai_abs_dls VS ai2s\n"
     ]
    },
    {
     "name": "stderr",
     "output_type": "stream",
     "text": [
      "100%|██████████| 1000/1000 [00:07<00:00, 139.58it/s]\n"
     ]
    },
    {
     "name": "stdout",
     "output_type": "stream",
     "text": [
      "count     win    lose    draw\n",
      "o         970       0      30\n",
      "x         847      29     124\n",
      "total    1817      29     154\n",
      "\n",
      "ratio     win    lose    draw\n",
      "o       97.0%    0.0%    3.0%\n",
      "x       84.7%    2.9%   12.4%\n",
      "total   90.8%    1.5%    7.7%\n",
      "\n",
      "ai10s VS ai2s\n"
     ]
    },
    {
     "name": "stderr",
     "output_type": "stream",
     "text": [
      "100%|██████████| 1000/1000 [00:06<00:00, 146.69it/s]\n"
     ]
    },
    {
     "name": "stdout",
     "output_type": "stream",
     "text": [
      "count     win    lose    draw\n",
      "o         976       0      24\n",
      "x         852      20     128\n",
      "total    1828      20     152\n",
      "\n",
      "ratio     win    lose    draw\n",
      "o       97.6%    0.0%    2.4%\n",
      "x       85.2%    2.0%   12.8%\n",
      "total   91.4%    1.0%    7.6%\n",
      "\n",
      "eval_func ai14s\n",
      "ai_abs_dls VS ai2s\n"
     ]
    },
    {
     "name": "stderr",
     "output_type": "stream",
     "text": [
      "100%|██████████| 1000/1000 [00:07<00:00, 138.40it/s]\n"
     ]
    },
    {
     "name": "stdout",
     "output_type": "stream",
     "text": [
      "count     win    lose    draw\n",
      "o         988       0      12\n",
      "x         884       0     116\n",
      "total    1872       0     128\n",
      "\n",
      "ratio     win    lose    draw\n",
      "o       98.8%    0.0%    1.2%\n",
      "x       88.4%    0.0%   11.6%\n",
      "total   93.6%    0.0%    6.4%\n",
      "\n",
      "ai14s VS ai2s\n"
     ]
    },
    {
     "name": "stderr",
     "output_type": "stream",
     "text": [
      "100%|██████████| 1000/1000 [00:06<00:00, 160.48it/s]"
     ]
    },
    {
     "name": "stdout",
     "output_type": "stream",
     "text": [
      "count     win    lose    draw\n",
      "o         988       0      12\n",
      "x         892       0     108\n",
      "total    1880       0     120\n",
      "\n",
      "ratio     win    lose    draw\n",
      "o       98.8%    0.0%    1.2%\n",
      "x       89.2%    0.0%   10.8%\n",
      "total   94.0%    0.0%    6.0%\n",
      "\n"
     ]
    },
    {
     "name": "stderr",
     "output_type": "stream",
     "text": [
      "\n"
     ]
    }
   ],
   "source": [
    "from ai import ai_match, ai2s, ai10s\n",
    "\n",
    "params = {\"maxdepth\": 0, \"eval_func\": ai2s, \"eval_params\": {\"minimax\": True}}\n",
    "for eval_func in [ai2s, ai10s, ai14s]:\n",
    "    print(f\"eval_func {eval_func.__name__}\")\n",
    "    params[\"eval_func\"] = eval_func\n",
    "    ai_match(ai=[ai_abs_dls, ai2s], params=[params, {}], match_num=1000)\n",
    "    ai_match(ai=[eval_func, ai2s], match_num=1000)"
   ]
  },
  {
   "cell_type": "code",
   "execution_count": null,
   "metadata": {},
   "outputs": [],
   "source": [
    "from collections import defaultdict\n",
    "from tqdm import tqdm\n",
    "\n",
    "def ai_match(ai, params, match_num=10000):\n",
    "    print(f\"{ai[0].__name__} VS {ai[1].__name__}\")\n",
    "    \n",
    "    mb = Marubatsu()\n",
    "\n",
    "    # ai[0] VS ai[1] と ai[1] VS a[0] の対戦を match_num 回行い、通算成績を数える\n",
    "    count_list = [ defaultdict(int), defaultdict(int)]\n",
    "    for _ in tqdm(range(match_num)):\n",
    "        count_list[0][mb.play(ai, params=params, verbose=False)] += 1\n",
    "        count_list[1][mb.play(ai=ai[::-1], params=params[::-1], verbose=False)] += 1\n",
    "\n",
    "    # ai[0] から見た通算成績を計算する\n",
    "    count_list_ai0 = [\n",
    "        # ai[0] VS ai[1] の場合の、ai[0] から見た通算成績\n",
    "        { \n",
    "            \"win\": count_list[0][Marubatsu.CIRCLE],\n",
    "            \"lose\": count_list[0][Marubatsu.CROSS],\n",
    "            \"draw\": count_list[0][Marubatsu.DRAW],\n",
    "        },\n",
    "        # ai[1] VS ai[0] の場合の、ai[0] から見た通算成績\n",
    "        { \n",
    "            \"win\": count_list[1][Marubatsu.CROSS],\n",
    "            \"lose\": count_list[1][Marubatsu.CIRCLE],\n",
    "            \"draw\": count_list[1][Marubatsu.DRAW],\n",
    "        },\n",
    "    ]           \n",
    "\n",
    "    # 両方の対戦の通算成績の合計を計算する\n",
    "    count_list_ai0.append({})\n",
    "    for key in count_list_ai0[0]:\n",
    "        count_list_ai0[2][key] = count_list_ai0[0][key] + count_list_ai0[1][key]\n",
    "\n",
    "    # それぞれの比率を計算し、ratio_list に代入する\n",
    "    ratio_list = [ {}, {}, {} ]\n",
    "    for i in range(3):\n",
    "        for key in count_list_ai0[i]:\n",
    "            ratio_list[i][key] = count_list_ai0[i][key] / sum(count_list_ai0[i].values())\n",
    "            \n",
    "    # 各行の先頭に表示する文字列のリスト\n",
    "    item_text_list = [ Marubatsu.CIRCLE, Marubatsu.CROSS, \"total\" ]    \n",
    "    \n",
    "    # 通算成績の回数と比率の表示\n",
    "    width = max(len(str(match_num * 2)), 7)\n",
    "    diff_list = [ (\"count\", count_list_ai0, f\"{width}d\"),\n",
    "                  (\"ratio\", ratio_list, f\"{width}.1%\") ]\n",
    "    for title, data, format in diff_list:\n",
    "        print(title, end=\"\")\n",
    "        for key in data[0]:\n",
    "            print(f\" {key:>{width}}\", end=\"\")\n",
    "        print()\n",
    "        for i in range(3):\n",
    "            print(f\"{item_text_list[i]:5}\", end=\"\")\n",
    "            for value in data[i].values():\n",
    "                print(f\" {value:{format}}\", end=\"\")\n",
    "            print()\n",
    "        print()\n",
    "        \n",
    "    return diff_list"
   ]
  },
  {
   "cell_type": "code",
   "execution_count": 5,
   "metadata": {},
   "outputs": [
    {
     "name": "stdout",
     "output_type": "stream",
     "text": [
      "ai2s maxdepth: 0\n",
      "ai_abs_dls VS ai2s\n"
     ]
    },
    {
     "name": "stderr",
     "output_type": "stream",
     "text": [
      "100%|██████████| 1000/1000 [00:06<00:00, 160.04it/s]\n"
     ]
    },
    {
     "name": "stdout",
     "output_type": "stream",
     "text": [
      "count     win    lose    draw\n",
      "o         568     292     140\n",
      "x         301     569     130\n",
      "total     869     861     270\n",
      "\n",
      "ratio     win    lose    draw\n",
      "o       56.8%   29.2%   14.0%\n",
      "x       30.1%   56.9%   13.0%\n",
      "total   43.5%   43.0%   13.5%\n",
      "\n",
      "ai2s maxdepth: 1\n",
      "ai_abs_dls VS ai2s\n"
     ]
    },
    {
     "name": "stderr",
     "output_type": "stream",
     "text": [
      "100%|██████████| 1000/1000 [00:18<00:00, 54.30it/s]\n"
     ]
    },
    {
     "name": "stdout",
     "output_type": "stream",
     "text": [
      "count     win    lose    draw\n",
      "o         593     271     136\n",
      "x         293     563     144\n",
      "total     886     834     280\n",
      "\n",
      "ratio     win    lose    draw\n",
      "o       59.3%   27.1%   13.6%\n",
      "x       29.3%   56.3%   14.4%\n",
      "total   44.3%   41.7%   14.0%\n",
      "\n",
      "ai2s maxdepth: 2\n",
      "ai_abs_dls VS ai2s\n"
     ]
    },
    {
     "name": "stderr",
     "output_type": "stream",
     "text": [
      "100%|██████████| 1000/1000 [00:37<00:00, 26.67it/s]\n"
     ]
    },
    {
     "name": "stdout",
     "output_type": "stream",
     "text": [
      "count     win    lose    draw\n",
      "o         563     300     137\n",
      "x         281     590     129\n",
      "total     844     890     266\n",
      "\n",
      "ratio     win    lose    draw\n",
      "o       56.3%   30.0%   13.7%\n",
      "x       28.1%   59.0%   12.9%\n",
      "total   42.2%   44.5%   13.3%\n",
      "\n",
      "ai2s maxdepth: 3\n",
      "ai_abs_dls VS ai2s\n"
     ]
    },
    {
     "name": "stderr",
     "output_type": "stream",
     "text": [
      "100%|██████████| 1000/1000 [01:06<00:00, 15.13it/s]\n"
     ]
    },
    {
     "name": "stdout",
     "output_type": "stream",
     "text": [
      "count     win    lose    draw\n",
      "o         599     276     125\n",
      "x         275     590     135\n",
      "total     874     866     260\n",
      "\n",
      "ratio     win    lose    draw\n",
      "o       59.9%   27.6%   12.5%\n",
      "x       27.5%   59.0%   13.5%\n",
      "total   43.7%   43.3%   13.0%\n",
      "\n",
      "ai2s maxdepth: 4\n",
      "ai_abs_dls VS ai2s\n"
     ]
    },
    {
     "name": "stderr",
     "output_type": "stream",
     "text": [
      "100%|██████████| 1000/1000 [01:26<00:00, 11.52it/s]\n"
     ]
    },
    {
     "name": "stdout",
     "output_type": "stream",
     "text": [
      "count     win    lose    draw\n",
      "o         599     274     127\n",
      "x         275     598     127\n",
      "total     874     872     254\n",
      "\n",
      "ratio     win    lose    draw\n",
      "o       59.9%   27.4%   12.7%\n",
      "x       27.5%   59.8%   12.7%\n",
      "total   43.7%   43.6%   12.7%\n",
      "\n",
      "ai2s maxdepth: 5\n",
      "ai_abs_dls VS ai2s\n"
     ]
    },
    {
     "name": "stderr",
     "output_type": "stream",
     "text": [
      "100%|██████████| 1000/1000 [01:52<00:00,  8.92it/s]\n"
     ]
    },
    {
     "name": "stdout",
     "output_type": "stream",
     "text": [
      "count     win    lose    draw\n",
      "o         583     287     130\n",
      "x         267     594     139\n",
      "total     850     881     269\n",
      "\n",
      "ratio     win    lose    draw\n",
      "o       58.3%   28.7%   13.0%\n",
      "x       26.7%   59.4%   13.9%\n",
      "total   42.5%   44.0%   13.5%\n",
      "\n",
      "ai2s maxdepth: 6\n",
      "ai_abs_dls VS ai2s\n"
     ]
    },
    {
     "name": "stderr",
     "output_type": "stream",
     "text": [
      "100%|██████████| 1000/1000 [02:14<00:00,  7.44it/s]\n"
     ]
    },
    {
     "name": "stdout",
     "output_type": "stream",
     "text": [
      "count     win    lose    draw\n",
      "o         605     265     130\n",
      "x         328     548     124\n",
      "total     933     813     254\n",
      "\n",
      "ratio     win    lose    draw\n",
      "o       60.5%   26.5%   13.0%\n",
      "x       32.8%   54.8%   12.4%\n",
      "total   46.7%   40.6%   12.7%\n",
      "\n",
      "ai2s maxdepth: 7\n",
      "ai_abs_dls VS ai2s\n"
     ]
    },
    {
     "name": "stderr",
     "output_type": "stream",
     "text": [
      "100%|██████████| 1000/1000 [02:22<00:00,  7.00it/s]\n"
     ]
    },
    {
     "name": "stdout",
     "output_type": "stream",
     "text": [
      "count     win    lose    draw\n",
      "o         600     277     123\n",
      "x         287     599     114\n",
      "total     887     876     237\n",
      "\n",
      "ratio     win    lose    draw\n",
      "o       60.0%   27.7%   12.3%\n",
      "x       28.7%   59.9%   11.4%\n",
      "total   44.4%   43.8%   11.8%\n",
      "\n",
      "ai2s maxdepth: 8\n",
      "ai_abs_dls VS ai2s\n"
     ]
    },
    {
     "name": "stderr",
     "output_type": "stream",
     "text": [
      "100%|██████████| 1000/1000 [02:22<00:00,  7.00it/s]\n"
     ]
    },
    {
     "name": "stdout",
     "output_type": "stream",
     "text": [
      "count     win    lose    draw\n",
      "o         600     287     113\n",
      "x         315     581     104\n",
      "total     915     868     217\n",
      "\n",
      "ratio     win    lose    draw\n",
      "o       60.0%   28.7%   11.3%\n",
      "x       31.5%   58.1%   10.4%\n",
      "total   45.8%   43.4%   10.8%\n",
      "\n",
      "ai3s maxdepth: 0\n",
      "ai_abs_dls VS ai2s\n"
     ]
    },
    {
     "name": "stderr",
     "output_type": "stream",
     "text": [
      "100%|██████████| 1000/1000 [00:06<00:00, 157.42it/s]\n"
     ]
    },
    {
     "name": "stdout",
     "output_type": "stream",
     "text": [
      "count     win    lose    draw\n",
      "o         712     176     112\n",
      "x         388     472     140\n",
      "total    1100     648     252\n",
      "\n",
      "ratio     win    lose    draw\n",
      "o       71.2%   17.6%   11.2%\n",
      "x       38.8%   47.2%   14.0%\n",
      "total   55.0%   32.4%   12.6%\n",
      "\n",
      "ai3s maxdepth: 1\n",
      "ai_abs_dls VS ai2s\n"
     ]
    },
    {
     "name": "stderr",
     "output_type": "stream",
     "text": [
      "100%|██████████| 1000/1000 [00:15<00:00, 66.45it/s]\n"
     ]
    },
    {
     "name": "stdout",
     "output_type": "stream",
     "text": [
      "count     win    lose    draw\n",
      "o         715     183     102\n",
      "x         387     475     138\n",
      "total    1102     658     240\n",
      "\n",
      "ratio     win    lose    draw\n",
      "o       71.5%   18.3%   10.2%\n",
      "x       38.7%   47.5%   13.8%\n",
      "total   55.1%   32.9%   12.0%\n",
      "\n",
      "ai3s maxdepth: 2\n",
      "ai_abs_dls VS ai2s\n"
     ]
    },
    {
     "name": "stderr",
     "output_type": "stream",
     "text": [
      "100%|██████████| 1000/1000 [00:38<00:00, 26.02it/s]\n"
     ]
    },
    {
     "name": "stdout",
     "output_type": "stream",
     "text": [
      "count     win    lose    draw\n",
      "o         662     213     125\n",
      "x         366     493     141\n",
      "total    1028     706     266\n",
      "\n",
      "ratio     win    lose    draw\n",
      "o       66.2%   21.3%   12.5%\n",
      "x       36.6%   49.3%   14.1%\n",
      "total   51.4%   35.3%   13.3%\n",
      "\n",
      "ai3s maxdepth: 3\n",
      "ai_abs_dls VS ai2s\n"
     ]
    },
    {
     "name": "stderr",
     "output_type": "stream",
     "text": [
      "100%|██████████| 1000/1000 [01:26<00:00, 11.61it/s]\n"
     ]
    },
    {
     "name": "stdout",
     "output_type": "stream",
     "text": [
      "count     win    lose    draw\n",
      "o         660     204     136\n",
      "x         364     498     138\n",
      "total    1024     702     274\n",
      "\n",
      "ratio     win    lose    draw\n",
      "o       66.0%   20.4%   13.6%\n",
      "x       36.4%   49.8%   13.8%\n",
      "total   51.2%   35.1%   13.7%\n",
      "\n",
      "ai3s maxdepth: 4\n",
      "ai_abs_dls VS ai2s\n"
     ]
    },
    {
     "name": "stderr",
     "output_type": "stream",
     "text": [
      "100%|██████████| 1000/1000 [01:51<00:00,  8.99it/s]\n"
     ]
    },
    {
     "name": "stdout",
     "output_type": "stream",
     "text": [
      "count     win    lose    draw\n",
      "o         662     207     131\n",
      "x         357     488     155\n",
      "total    1019     695     286\n",
      "\n",
      "ratio     win    lose    draw\n",
      "o       66.2%   20.7%   13.1%\n",
      "x       35.7%   48.8%   15.5%\n",
      "total   50.9%   34.8%   14.3%\n",
      "\n",
      "ai3s maxdepth: 5\n",
      "ai_abs_dls VS ai2s\n"
     ]
    },
    {
     "name": "stderr",
     "output_type": "stream",
     "text": [
      "100%|██████████| 1000/1000 [02:15<00:00,  7.39it/s]\n"
     ]
    },
    {
     "name": "stdout",
     "output_type": "stream",
     "text": [
      "count     win    lose    draw\n",
      "o         635     232     133\n",
      "x         359     509     132\n",
      "total     994     741     265\n",
      "\n",
      "ratio     win    lose    draw\n",
      "o       63.5%   23.2%   13.3%\n",
      "x       35.9%   50.9%   13.2%\n",
      "total   49.7%   37.0%   13.2%\n",
      "\n",
      "ai3s maxdepth: 6\n",
      "ai_abs_dls VS ai2s\n"
     ]
    },
    {
     "name": "stderr",
     "output_type": "stream",
     "text": [
      "100%|██████████| 1000/1000 [02:26<00:00,  6.81it/s]\n"
     ]
    },
    {
     "name": "stdout",
     "output_type": "stream",
     "text": [
      "count     win    lose    draw\n",
      "o         605     248     147\n",
      "x         370     506     124\n",
      "total     975     754     271\n",
      "\n",
      "ratio     win    lose    draw\n",
      "o       60.5%   24.8%   14.7%\n",
      "x       37.0%   50.6%   12.4%\n",
      "total   48.8%   37.7%   13.6%\n",
      "\n",
      "ai3s maxdepth: 7\n",
      "ai_abs_dls VS ai2s\n"
     ]
    },
    {
     "name": "stderr",
     "output_type": "stream",
     "text": [
      "100%|██████████| 1000/1000 [02:33<00:00,  6.51it/s]\n"
     ]
    },
    {
     "name": "stdout",
     "output_type": "stream",
     "text": [
      "count     win    lose    draw\n",
      "o         631     236     133\n",
      "x         375     500     125\n",
      "total    1006     736     258\n",
      "\n",
      "ratio     win    lose    draw\n",
      "o       63.1%   23.6%   13.3%\n",
      "x       37.5%   50.0%   12.5%\n",
      "total   50.3%   36.8%   12.9%\n",
      "\n",
      "ai3s maxdepth: 8\n",
      "ai_abs_dls VS ai2s\n"
     ]
    },
    {
     "name": "stderr",
     "output_type": "stream",
     "text": [
      "100%|██████████| 1000/1000 [02:32<00:00,  6.56it/s]\n"
     ]
    },
    {
     "name": "stdout",
     "output_type": "stream",
     "text": [
      "count     win    lose    draw\n",
      "o         651     237     112\n",
      "x         367     494     139\n",
      "total    1018     731     251\n",
      "\n",
      "ratio     win    lose    draw\n",
      "o       65.1%   23.7%   11.2%\n",
      "x       36.7%   49.4%   13.9%\n",
      "total   50.9%   36.5%   12.6%\n",
      "\n",
      "ai5s maxdepth: 0\n",
      "ai_abs_dls VS ai2s\n"
     ]
    },
    {
     "name": "stderr",
     "output_type": "stream",
     "text": [
      "100%|██████████| 1000/1000 [00:05<00:00, 192.67it/s]\n"
     ]
    },
    {
     "name": "stdout",
     "output_type": "stream",
     "text": [
      "count     win    lose    draw\n",
      "o         832     121      47\n",
      "x         531     391      78\n",
      "total    1363     512     125\n",
      "\n",
      "ratio     win    lose    draw\n",
      "o       83.2%   12.1%    4.7%\n",
      "x       53.1%   39.1%    7.8%\n",
      "total   68.2%   25.6%    6.2%\n",
      "\n",
      "ai5s maxdepth: 1\n",
      "ai_abs_dls VS ai2s\n"
     ]
    },
    {
     "name": "stderr",
     "output_type": "stream",
     "text": [
      "100%|██████████| 1000/1000 [00:18<00:00, 54.08it/s]\n"
     ]
    },
    {
     "name": "stdout",
     "output_type": "stream",
     "text": [
      "count     win    lose    draw\n",
      "o         894      28      78\n",
      "x         684      90     226\n",
      "total    1578     118     304\n",
      "\n",
      "ratio     win    lose    draw\n",
      "o       89.4%    2.8%    7.8%\n",
      "x       68.4%    9.0%   22.6%\n",
      "total   78.9%    5.9%   15.2%\n",
      "\n",
      "ai5s maxdepth: 2\n",
      "ai_abs_dls VS ai2s\n"
     ]
    },
    {
     "name": "stderr",
     "output_type": "stream",
     "text": [
      "100%|██████████| 1000/1000 [00:41<00:00, 24.27it/s]\n"
     ]
    },
    {
     "name": "stdout",
     "output_type": "stream",
     "text": [
      "count     win    lose    draw\n",
      "o         930      12      58\n",
      "x         677      98     225\n",
      "total    1607     110     283\n",
      "\n",
      "ratio     win    lose    draw\n",
      "o       93.0%    1.2%    5.8%\n",
      "x       67.7%    9.8%   22.5%\n",
      "total   80.3%    5.5%   14.1%\n",
      "\n",
      "ai5s maxdepth: 3\n",
      "ai_abs_dls VS ai2s\n"
     ]
    },
    {
     "name": "stderr",
     "output_type": "stream",
     "text": [
      "100%|██████████| 1000/1000 [01:21<00:00, 12.21it/s]\n"
     ]
    },
    {
     "name": "stdout",
     "output_type": "stream",
     "text": [
      "count     win    lose    draw\n",
      "o         913      24      63\n",
      "x         715      97     188\n",
      "total    1628     121     251\n",
      "\n",
      "ratio     win    lose    draw\n",
      "o       91.3%    2.4%    6.3%\n",
      "x       71.5%    9.7%   18.8%\n",
      "total   81.4%    6.0%   12.6%\n",
      "\n",
      "ai5s maxdepth: 4\n",
      "ai_abs_dls VS ai2s\n"
     ]
    },
    {
     "name": "stderr",
     "output_type": "stream",
     "text": [
      "100%|██████████| 1000/1000 [02:15<00:00,  7.37it/s]\n"
     ]
    },
    {
     "name": "stdout",
     "output_type": "stream",
     "text": [
      "count     win    lose    draw\n",
      "o         959      12      29\n",
      "x         698     113     189\n",
      "total    1657     125     218\n",
      "\n",
      "ratio     win    lose    draw\n",
      "o       95.9%    1.2%    2.9%\n",
      "x       69.8%   11.3%   18.9%\n",
      "total   82.8%    6.2%   10.9%\n",
      "\n",
      "ai5s maxdepth: 5\n",
      "ai_abs_dls VS ai2s\n"
     ]
    },
    {
     "name": "stderr",
     "output_type": "stream",
     "text": [
      "100%|██████████| 1000/1000 [02:43<00:00,  6.10it/s]\n"
     ]
    },
    {
     "name": "stdout",
     "output_type": "stream",
     "text": [
      "count     win    lose    draw\n",
      "o         971       0      29\n",
      "x         795       0     205\n",
      "total    1766       0     234\n",
      "\n",
      "ratio     win    lose    draw\n",
      "o       97.1%    0.0%    2.9%\n",
      "x       79.5%    0.0%   20.5%\n",
      "total   88.3%    0.0%   11.7%\n",
      "\n",
      "ai5s maxdepth: 6\n",
      "ai_abs_dls VS ai2s\n"
     ]
    },
    {
     "name": "stderr",
     "output_type": "stream",
     "text": [
      "100%|██████████| 1000/1000 [03:14<00:00,  5.15it/s]\n"
     ]
    },
    {
     "name": "stdout",
     "output_type": "stream",
     "text": [
      "count     win    lose    draw\n",
      "o         973       0      27\n",
      "x         778       0     222\n",
      "total    1751       0     249\n",
      "\n",
      "ratio     win    lose    draw\n",
      "o       97.3%    0.0%    2.7%\n",
      "x       77.8%    0.0%   22.2%\n",
      "total   87.5%    0.0%   12.4%\n",
      "\n",
      "ai5s maxdepth: 7\n",
      "ai_abs_dls VS ai2s\n"
     ]
    },
    {
     "name": "stderr",
     "output_type": "stream",
     "text": [
      "100%|██████████| 1000/1000 [03:34<00:00,  4.67it/s]\n"
     ]
    },
    {
     "name": "stdout",
     "output_type": "stream",
     "text": [
      "count     win    lose    draw\n",
      "o         961       0      39\n",
      "x         756       0     244\n",
      "total    1717       0     283\n",
      "\n",
      "ratio     win    lose    draw\n",
      "o       96.1%    0.0%    3.9%\n",
      "x       75.6%    0.0%   24.4%\n",
      "total   85.9%    0.0%   14.1%\n",
      "\n",
      "ai5s maxdepth: 8\n",
      "ai_abs_dls VS ai2s\n"
     ]
    },
    {
     "name": "stderr",
     "output_type": "stream",
     "text": [
      "100%|██████████| 1000/1000 [03:46<00:00,  4.41it/s]\n"
     ]
    },
    {
     "name": "stdout",
     "output_type": "stream",
     "text": [
      "count     win    lose    draw\n",
      "o         968       0      32\n",
      "x         768       0     232\n",
      "total    1736       0     264\n",
      "\n",
      "ratio     win    lose    draw\n",
      "o       96.8%    0.0%    3.2%\n",
      "x       76.8%    0.0%   23.2%\n",
      "total   86.8%    0.0%   13.2%\n",
      "\n",
      "ai10s maxdepth: 0\n",
      "ai_abs_dls VS ai2s\n"
     ]
    },
    {
     "name": "stderr",
     "output_type": "stream",
     "text": [
      "100%|██████████| 1000/1000 [00:07<00:00, 130.73it/s]\n"
     ]
    },
    {
     "name": "stdout",
     "output_type": "stream",
     "text": [
      "count     win    lose    draw\n",
      "o         973       0      27\n",
      "x         860      13     127\n",
      "total    1833      13     154\n",
      "\n",
      "ratio     win    lose    draw\n",
      "o       97.3%    0.0%    2.7%\n",
      "x       86.0%    1.3%   12.7%\n",
      "total   91.6%    0.7%    7.7%\n",
      "\n",
      "ai10s maxdepth: 1\n",
      "ai_abs_dls VS ai2s\n"
     ]
    },
    {
     "name": "stderr",
     "output_type": "stream",
     "text": [
      "100%|██████████| 1000/1000 [00:18<00:00, 54.46it/s]\n"
     ]
    },
    {
     "name": "stdout",
     "output_type": "stream",
     "text": [
      "count     win    lose    draw\n",
      "o         965       0      35\n",
      "x         800       7     193\n",
      "total    1765       7     228\n",
      "\n",
      "ratio     win    lose    draw\n",
      "o       96.5%    0.0%    3.5%\n",
      "x       80.0%    0.7%   19.3%\n",
      "total   88.2%    0.4%   11.4%\n",
      "\n",
      "ai10s maxdepth: 2\n",
      "ai_abs_dls VS ai2s\n"
     ]
    },
    {
     "name": "stderr",
     "output_type": "stream",
     "text": [
      "100%|██████████| 1000/1000 [00:49<00:00, 20.34it/s]\n"
     ]
    },
    {
     "name": "stdout",
     "output_type": "stream",
     "text": [
      "count     win    lose    draw\n",
      "o         989       0      11\n",
      "x         812      45     143\n",
      "total    1801      45     154\n",
      "\n",
      "ratio     win    lose    draw\n",
      "o       98.9%    0.0%    1.1%\n",
      "x       81.2%    4.5%   14.3%\n",
      "total   90.0%    2.2%    7.7%\n",
      "\n",
      "ai10s maxdepth: 3\n",
      "ai_abs_dls VS ai2s\n"
     ]
    },
    {
     "name": "stderr",
     "output_type": "stream",
     "text": [
      "100%|██████████| 1000/1000 [01:49<00:00,  9.12it/s]\n"
     ]
    },
    {
     "name": "stdout",
     "output_type": "stream",
     "text": [
      "count     win    lose    draw\n",
      "o         990       0      10\n",
      "x         871       0     129\n",
      "total    1861       0     139\n",
      "\n",
      "ratio     win    lose    draw\n",
      "o       99.0%    0.0%    1.0%\n",
      "x       87.1%    0.0%   12.9%\n",
      "total   93.0%    0.0%    7.0%\n",
      "\n",
      "ai10s maxdepth: 4\n",
      "ai_abs_dls VS ai2s\n"
     ]
    },
    {
     "name": "stderr",
     "output_type": "stream",
     "text": [
      "100%|██████████| 1000/1000 [02:27<00:00,  6.78it/s]\n"
     ]
    },
    {
     "name": "stdout",
     "output_type": "stream",
     "text": [
      "count     win    lose    draw\n",
      "o         985       0      15\n",
      "x         823      29     148\n",
      "total    1808      29     163\n",
      "\n",
      "ratio     win    lose    draw\n",
      "o       98.5%    0.0%    1.5%\n",
      "x       82.3%    2.9%   14.8%\n",
      "total   90.4%    1.5%    8.2%\n",
      "\n",
      "ai10s maxdepth: 5\n",
      "ai_abs_dls VS ai2s\n"
     ]
    },
    {
     "name": "stderr",
     "output_type": "stream",
     "text": [
      "100%|██████████| 1000/1000 [03:14<00:00,  5.14it/s]\n"
     ]
    },
    {
     "name": "stdout",
     "output_type": "stream",
     "text": [
      "count     win    lose    draw\n",
      "o         986       0      14\n",
      "x         867       0     133\n",
      "total    1853       0     147\n",
      "\n",
      "ratio     win    lose    draw\n",
      "o       98.6%    0.0%    1.4%\n",
      "x       86.7%    0.0%   13.3%\n",
      "total   92.7%    0.0%    7.3%\n",
      "\n",
      "ai10s maxdepth: 6\n",
      "ai_abs_dls VS ai2s\n"
     ]
    },
    {
     "name": "stderr",
     "output_type": "stream",
     "text": [
      "100%|██████████| 1000/1000 [03:19<00:00,  5.00it/s]\n"
     ]
    },
    {
     "name": "stdout",
     "output_type": "stream",
     "text": [
      "count     win    lose    draw\n",
      "o         984       0      16\n",
      "x         779       0     221\n",
      "total    1763       0     237\n",
      "\n",
      "ratio     win    lose    draw\n",
      "o       98.4%    0.0%    1.6%\n",
      "x       77.9%    0.0%   22.1%\n",
      "total   88.1%    0.0%   11.8%\n",
      "\n",
      "ai10s maxdepth: 7\n",
      "ai_abs_dls VS ai2s\n"
     ]
    },
    {
     "name": "stderr",
     "output_type": "stream",
     "text": [
      "100%|██████████| 1000/1000 [03:47<00:00,  4.40it/s]\n"
     ]
    },
    {
     "name": "stdout",
     "output_type": "stream",
     "text": [
      "count     win    lose    draw\n",
      "o         963       0      37\n",
      "x         788       0     212\n",
      "total    1751       0     249\n",
      "\n",
      "ratio     win    lose    draw\n",
      "o       96.3%    0.0%    3.7%\n",
      "x       78.8%    0.0%   21.2%\n",
      "total   87.5%    0.0%   12.4%\n",
      "\n",
      "ai10s maxdepth: 8\n",
      "ai_abs_dls VS ai2s\n"
     ]
    },
    {
     "name": "stderr",
     "output_type": "stream",
     "text": [
      "100%|██████████| 1000/1000 [03:50<00:00,  4.35it/s]\n"
     ]
    },
    {
     "name": "stdout",
     "output_type": "stream",
     "text": [
      "count     win    lose    draw\n",
      "o         963       0      37\n",
      "x         776       0     224\n",
      "total    1739       0     261\n",
      "\n",
      "ratio     win    lose    draw\n",
      "o       96.3%    0.0%    3.7%\n",
      "x       77.6%    0.0%   22.4%\n",
      "total   87.0%    0.0%   13.1%\n",
      "\n",
      "ai14s maxdepth: 0\n",
      "ai_abs_dls VS ai2s\n"
     ]
    },
    {
     "name": "stderr",
     "output_type": "stream",
     "text": [
      "100%|██████████| 1000/1000 [00:06<00:00, 157.40it/s]\n"
     ]
    },
    {
     "name": "stdout",
     "output_type": "stream",
     "text": [
      "count     win    lose    draw\n",
      "o         992       0       8\n",
      "x         876       0     124\n",
      "total    1868       0     132\n",
      "\n",
      "ratio     win    lose    draw\n",
      "o       99.2%    0.0%    0.8%\n",
      "x       87.6%    0.0%   12.4%\n",
      "total   93.4%    0.0%    6.6%\n",
      "\n",
      "ai14s maxdepth: 1\n",
      "ai_abs_dls VS ai2s\n"
     ]
    },
    {
     "name": "stderr",
     "output_type": "stream",
     "text": [
      "100%|██████████| 1000/1000 [00:19<00:00, 52.08it/s]\n"
     ]
    },
    {
     "name": "stdout",
     "output_type": "stream",
     "text": [
      "count     win    lose    draw\n",
      "o         985       0      15\n",
      "x         861       0     139\n",
      "total    1846       0     154\n",
      "\n",
      "ratio     win    lose    draw\n",
      "o       98.5%    0.0%    1.5%\n",
      "x       86.1%    0.0%   13.9%\n",
      "total   92.3%    0.0%    7.7%\n",
      "\n",
      "ai14s maxdepth: 2\n",
      "ai_abs_dls VS ai2s\n"
     ]
    },
    {
     "name": "stderr",
     "output_type": "stream",
     "text": [
      "100%|██████████| 1000/1000 [00:48<00:00, 20.66it/s]\n"
     ]
    },
    {
     "name": "stdout",
     "output_type": "stream",
     "text": [
      "count     win    lose    draw\n",
      "o         992       0       8\n",
      "x         902       0      98\n",
      "total    1894       0     106\n",
      "\n",
      "ratio     win    lose    draw\n",
      "o       99.2%    0.0%    0.8%\n",
      "x       90.2%    0.0%    9.8%\n",
      "total   94.7%    0.0%    5.3%\n",
      "\n",
      "ai14s maxdepth: 3\n",
      "ai_abs_dls VS ai2s\n"
     ]
    },
    {
     "name": "stderr",
     "output_type": "stream",
     "text": [
      "100%|██████████| 1000/1000 [01:30<00:00, 11.04it/s]\n"
     ]
    },
    {
     "name": "stdout",
     "output_type": "stream",
     "text": [
      "count     win    lose    draw\n",
      "o         985       0      15\n",
      "x         877       0     123\n",
      "total    1862       0     138\n",
      "\n",
      "ratio     win    lose    draw\n",
      "o       98.5%    0.0%    1.5%\n",
      "x       87.7%    0.0%   12.3%\n",
      "total   93.1%    0.0%    6.9%\n",
      "\n",
      "ai14s maxdepth: 4\n",
      "ai_abs_dls VS ai2s\n"
     ]
    },
    {
     "name": "stderr",
     "output_type": "stream",
     "text": [
      "100%|██████████| 1000/1000 [02:29<00:00,  6.67it/s]\n"
     ]
    },
    {
     "name": "stdout",
     "output_type": "stream",
     "text": [
      "count     win    lose    draw\n",
      "o         986       0      14\n",
      "x         872       0     128\n",
      "total    1858       0     142\n",
      "\n",
      "ratio     win    lose    draw\n",
      "o       98.6%    0.0%    1.4%\n",
      "x       87.2%    0.0%   12.8%\n",
      "total   92.9%    0.0%    7.1%\n",
      "\n",
      "ai14s maxdepth: 5\n",
      "ai_abs_dls VS ai2s\n"
     ]
    },
    {
     "name": "stderr",
     "output_type": "stream",
     "text": [
      "100%|██████████| 1000/1000 [03:07<00:00,  5.34it/s]\n"
     ]
    },
    {
     "name": "stdout",
     "output_type": "stream",
     "text": [
      "count     win    lose    draw\n",
      "o         983       0      17\n",
      "x         866       0     134\n",
      "total    1849       0     151\n",
      "\n",
      "ratio     win    lose    draw\n",
      "o       98.3%    0.0%    1.7%\n",
      "x       86.6%    0.0%   13.4%\n",
      "total   92.5%    0.0%    7.5%\n",
      "\n",
      "ai14s maxdepth: 6\n",
      "ai_abs_dls VS ai2s\n"
     ]
    },
    {
     "name": "stderr",
     "output_type": "stream",
     "text": [
      "100%|██████████| 1000/1000 [03:20<00:00,  4.98it/s]\n"
     ]
    },
    {
     "name": "stdout",
     "output_type": "stream",
     "text": [
      "count     win    lose    draw\n",
      "o         988       0      12\n",
      "x         778       0     222\n",
      "total    1766       0     234\n",
      "\n",
      "ratio     win    lose    draw\n",
      "o       98.8%    0.0%    1.2%\n",
      "x       77.8%    0.0%   22.2%\n",
      "total   88.3%    0.0%   11.7%\n",
      "\n",
      "ai14s maxdepth: 7\n",
      "ai_abs_dls VS ai2s\n"
     ]
    },
    {
     "name": "stderr",
     "output_type": "stream",
     "text": [
      "100%|██████████| 1000/1000 [03:44<00:00,  4.46it/s]\n"
     ]
    },
    {
     "name": "stdout",
     "output_type": "stream",
     "text": [
      "count     win    lose    draw\n",
      "o         974       0      26\n",
      "x         765       0     235\n",
      "total    1739       0     261\n",
      "\n",
      "ratio     win    lose    draw\n",
      "o       97.4%    0.0%    2.6%\n",
      "x       76.5%    0.0%   23.5%\n",
      "total   87.0%    0.0%   13.1%\n",
      "\n",
      "ai14s maxdepth: 8\n",
      "ai_abs_dls VS ai2s\n"
     ]
    },
    {
     "name": "stderr",
     "output_type": "stream",
     "text": [
      "100%|██████████| 1000/1000 [03:45<00:00,  4.43it/s]"
     ]
    },
    {
     "name": "stdout",
     "output_type": "stream",
     "text": [
      "count     win    lose    draw\n",
      "o         960       0      40\n",
      "x         758       0     242\n",
      "total    1718       0     282\n",
      "\n",
      "ratio     win    lose    draw\n",
      "o       96.0%    0.0%    4.0%\n",
      "x       75.8%    0.0%   24.2%\n",
      "total   85.9%    0.0%   14.1%\n",
      "\n"
     ]
    },
    {
     "name": "stderr",
     "output_type": "stream",
     "text": [
      "\n"
     ]
    }
   ],
   "source": [
    "from ai import ai3s, ai5s\n",
    "\n",
    "result = {}\n",
    "params = {\"maxdepth\": 0, \"eval_func\": ai2s, \"eval_params\": {\"minimax\": True}, \"use_tt\": True}\n",
    "for eval_func in [ai2s, ai3s, ai5s, ai10s, ai14s]:\n",
    "    params[\"eval_func\"] = eval_func\n",
    "    name = eval_func.__name__\n",
    "    result[name] = []\n",
    "    for maxdepth in range(9):\n",
    "        print(f\"{name} maxdepth: {maxdepth}\")\n",
    "        params[\"maxdepth\"] = maxdepth\n",
    "        diff_list = ai_match(ai=[ai_abs_dls, ai2s], params=[params, {}], match_num=1000)\n",
    "        result[name].append(diff_list)"
   ]
  },
  {
   "cell_type": "code",
   "execution_count": 6,
   "metadata": {},
   "outputs": [
    {
     "data": {
      "image/png": "[encoded data removed]",
      "text/plain": [
       "<Figure size 640x480 with 1 Axes>"
      ]
     },
     "metadata": {},
     "output_type": "display_data"
    },
    {
     "data": {
      "image/png": "[encoded data removed]",
      "text/plain": [
       "<Figure size 640x480 with 1 Axes>"
      ]
     },
     "metadata": {},
     "output_type": "display_data"
    },
    {
     "data": {
      "image/png": "[encoded data removed]",
      "text/plain": [
       "<Figure size 640x480 with 1 Axes>"
      ]
     },
     "metadata": {},
     "output_type": "display_data"
    }
   ],
   "source": [
    "import matplotlib.pyplot as plt\n",
    "\n",
    "for type in [\"win\", \"lose\", \"draw\"]:\n",
    "    for name, value in result.items():\n",
    "        ratio = []\n",
    "        for diff_list in value:\n",
    "            ratio.append(diff_list[1][1][2][type])\n",
    "        plt.plot(ratio, label=f\"{name}\")\n",
    "    plt.xlabel(\"max depth\")\n",
    "    plt.ylabel(f\"{type} ratio\")\n",
    "    plt.legend()\n",
    "    plt.show()"
   ]
  },
  {
   "cell_type": "code",
   "execution_count": 7,
   "metadata": {},
   "outputs": [
    {
     "name": "stdout",
     "output_type": "stream",
     "text": [
      "{'candidate': [(1, 1)],\n",
      " 'score_by_move': {(0, 0): 0,\n",
      "                   (0, 1): 0,\n",
      "                   (0, 2): 0,\n",
      "                   (1, 0): 0,\n",
      "                   (1, 1): 1,\n",
      "                   (1, 2): 0,\n",
      "                   (2, 0): 0,\n",
      "                   (2, 1): 0,\n",
      "                   (2, 2): 0}}\n"
     ]
    }
   ],
   "source": [
    "from pprint import pprint\n",
    "\n",
    "mb = Marubatsu()\n",
    "pprint(ai_abs_dls(mb, eval_func=ai3s, eval_params={\"minimax\":True}, maxdepth=0, analyze=True))"
   ]
  },
  {
   "cell_type": "code",
   "execution_count": 8,
   "metadata": {},
   "outputs": [
    {
     "name": "stdout",
     "output_type": "stream",
     "text": [
      "{'candidate': [(1, 1)],\n",
      " 'score_by_move': {(0, 0): -1,\n",
      "                   (0, 1): -1,\n",
      "                   (0, 2): -1,\n",
      "                   (1, 0): -1,\n",
      "                   (1, 1): 0,\n",
      "                   (1, 2): -1,\n",
      "                   (2, 0): -1,\n",
      "                   (2, 1): -1,\n",
      "                   (2, 2): -1}}\n"
     ]
    }
   ],
   "source": [
    "pprint(ai_abs_dls(mb, eval_func=ai3s, eval_params={\"minimax\":True}, maxdepth=1, analyze=True))"
   ]
  },
  {
   "cell_type": "code",
   "execution_count": 9,
   "metadata": {},
   "outputs": [
    {
     "name": "stdout",
     "output_type": "stream",
     "text": [
      "{'candidate': [(1, 1)],\n",
      " 'score_by_move': {(0, 1): 1,\n",
      "                   (0, 2): 1,\n",
      "                   (1, 0): 1,\n",
      "                   (1, 1): 0,\n",
      "                   (1, 2): 1,\n",
      "                   (2, 0): 1,\n",
      "                   (2, 1): 1,\n",
      "                   (2, 2): 1}}\n"
     ]
    }
   ],
   "source": [
    "mb.move(0, 0)\n",
    "pprint(ai_abs_dls(mb, eval_func=ai3s, eval_params={\"minimax\":True}, maxdepth=1, analyze=True))"
   ]
  },
  {
   "cell_type": "code",
   "execution_count": 10,
   "metadata": {},
   "outputs": [
    {
     "name": "stdout",
     "output_type": "stream",
     "text": [
      "{'candidate': [(0, 0),\n",
      "               (1, 0),\n",
      "               (2, 0),\n",
      "               (0, 1),\n",
      "               (1, 1),\n",
      "               (2, 1),\n",
      "               (0, 2),\n",
      "               (1, 2),\n",
      "               (2, 2)],\n",
      " 'score_by_move': {(0, 0): 0,\n",
      "                   (0, 1): 0,\n",
      "                   (0, 2): 0,\n",
      "                   (1, 0): 0,\n",
      "                   (1, 1): 0,\n",
      "                   (1, 2): 0,\n",
      "                   (2, 0): 0,\n",
      "                   (2, 1): 0,\n",
      "                   (2, 2): 0}}\n"
     ]
    }
   ],
   "source": [
    "mb.restart()\n",
    "pprint(ai_abs_dls(mb, eval_func=ai3s, eval_params={\"minimax\":True}, maxdepth=2, analyze=True))"
   ]
  },
  {
   "cell_type": "code",
   "execution_count": 11,
   "metadata": {},
   "outputs": [
    {
     "name": "stdout",
     "output_type": "stream",
     "text": [
      "maxdepth 0\n",
      "candidate [(1, 1)]\n",
      "maxdepth 1\n",
      "candidate [(1, 1)]\n",
      "maxdepth 2\n",
      "candidate [(0, 0), (1, 0), (2, 0), (0, 1), (1, 1), (2, 1), (0, 2), (1, 2), (2, 2)]\n",
      "maxdepth 3\n",
      "candidate [(0, 0), (1, 0), (2, 0), (0, 1), (1, 1), (2, 1), (0, 2), (1, 2), (2, 2)]\n",
      "maxdepth 4\n",
      "candidate [(0, 0), (1, 0), (2, 0), (0, 1), (1, 1), (2, 1), (0, 2), (1, 2), (2, 2)]\n",
      "maxdepth 5\n",
      "candidate [(0, 0), (1, 0), (2, 0), (0, 1), (1, 1), (2, 1), (0, 2), (1, 2), (2, 2)]\n",
      "maxdepth 6\n",
      "candidate [(0, 0), (1, 0), (2, 0), (0, 1), (1, 1), (2, 1), (0, 2), (1, 2), (2, 2)]\n",
      "maxdepth 7\n",
      "candidate [(0, 0), (1, 0), (2, 0), (0, 1), (1, 1), (2, 1), (0, 2), (1, 2), (2, 2)]\n",
      "maxdepth 8\n",
      "candidate [(0, 0), (1, 0), (2, 0), (0, 1), (1, 1), (2, 1), (0, 2), (1, 2), (2, 2)]\n"
     ]
    }
   ],
   "source": [
    "for maxdepth in range(9):\n",
    "    result = ai_abs_dls(mb, eval_func=ai3s, eval_params={\"minimax\":True},\n",
    "                        maxdepth=maxdepth, analyze=True)\n",
    "    print(f\"maxdepth {maxdepth}\")\n",
    "    print(f\"candidate {result['candidate']}\")"
   ]
  },
  {
   "cell_type": "code",
   "execution_count": 12,
   "metadata": {},
   "outputs": [
    {
     "name": "stdout",
     "output_type": "stream",
     "text": [
      "   o True\n",
      "   x True\n",
      "Both True\n"
     ]
    },
    {
     "data": {
      "text/plain": [
       "True"
      ]
     },
     "execution_count": 12,
     "metadata": {},
     "output_type": "execute_result"
    }
   ],
   "source": [
    "from util import Check_solved\n",
    "\n",
    "Check_solved.is_weakly_solved(ai_abs_dls, params={\"eval_func\": ai10s, \"maxdepth\": 5, \n",
    "                                                  \"eval_params\": {\"minimax\": True}})"
   ]
  },
  {
   "cell_type": "code",
   "execution_count": 13,
   "metadata": {},
   "outputs": [
    {
     "name": "stderr",
     "output_type": "stream",
     "text": [
      "100%|██████████| 431/431 [00:03<00:00, 121.83it/s]"
     ]
    },
    {
     "name": "stdout",
     "output_type": "stream",
     "text": [
      "422/431 97.91%\n"
     ]
    },
    {
     "name": "stderr",
     "output_type": "stream",
     "text": [
      "\n"
     ]
    },
    {
     "data": {
      "text/plain": [
       "(False,\n",
       " [(<marubatsu.Marubatsu at 0x1b460b54910>, {(1, 2), (2, 2)}, {(2, 2)}),\n",
       "  (<marubatsu.Marubatsu at 0x1b460b56690>, {(1, 1)}, {(2, 2)}),\n",
       "  (<marubatsu.Marubatsu at 0x1b460b7cb10>, {(2, 1), (2, 2)}, {(2, 2)}),\n",
       "  (<marubatsu.Marubatsu at 0x1b46189b650>, {(0, 2), (2, 0)}, {(0, 2)}),\n",
       "  (<marubatsu.Marubatsu at 0x1b461968f90>, {(0, 1), (1, 2)}, {(0, 1)}),\n",
       "  (<marubatsu.Marubatsu at 0x1b46196b090>, {(1, 1)}, {(0, 1)}),\n",
       "  (<marubatsu.Marubatsu at 0x1b46196d390>, {(0, 2), (2, 2)}, {(2, 2)}),\n",
       "  (<marubatsu.Marubatsu at 0x1b461984590>, {(0, 1), (0, 2)}, {(0, 1)}),\n",
       "  (<marubatsu.Marubatsu at 0x1b4619d3410>, {(0, 1), (2, 1)}, {(0, 1)})])"
      ]
     },
     "execution_count": 13,
     "metadata": {},
     "output_type": "execute_result"
    }
   ],
   "source": [
    "Check_solved.is_strongly_solved(ai_abs_dls, params={\"eval_func\": ai10s, \"maxdepth\": 5, \n",
    "                                                  \"eval_params\": {\"minimax\": True}})"
   ]
  },
  {
   "cell_type": "code",
   "execution_count": 14,
   "metadata": {},
   "outputs": [
    {
     "name": "stderr",
     "output_type": "stream",
     "text": [
      "100%|██████████| 431/431 [00:03<00:00, 121.48it/s]"
     ]
    },
    {
     "name": "stdout",
     "output_type": "stream",
     "text": [
      "431/431 100.00%\n"
     ]
    },
    {
     "name": "stderr",
     "output_type": "stream",
     "text": [
      "\n"
     ]
    },
    {
     "data": {
      "text/plain": [
       "(True, [])"
      ]
     },
     "execution_count": 14,
     "metadata": {},
     "output_type": "execute_result"
    }
   ],
   "source": [
    "Check_solved.is_strongly_solved(ai_abs_dls, params={\"eval_func\": ai5s, \"maxdepth\": 8, \n",
    "                                                    \"eval_params\": {\"minimax\": True}})"
   ]
  }
 ],
 "metadata": {
  "kernelspec": {
   "display_name": "marubatsu",
   "language": "python",
   "name": "python3"
  },
  "language_info": {
   "codemirror_mode": {
    "name": "ipython",
    "version": 3
   },
   "file_extension": ".py",
   "mimetype": "text/x-python",
   "name": "python",
   "nbconvert_exporter": "python",
   "pygments_lexer": "ipython3",
   "version": "3.11.4"
  }
 },
 "nbformat": 4,
 "nbformat_minor": 2
}
