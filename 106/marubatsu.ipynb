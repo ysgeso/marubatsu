{
 "cells": [
  {
   "cell_type": "code",
   "execution_count": 1,
   "metadata": {},
   "outputs": [],
   "source": [
    "from tree import Mbtree\n",
    "from marubatsu import Marubatsu\n",
    "\n",
    "def calc_score_by_df(self, node):\n",
    "    self.nodelist_by_score.append(node)\n",
    "    if node.mb.status == Marubatsu.CIRCLE:\n",
    "        node.score = 1\n",
    "    elif node.mb.status == Marubatsu.DRAW:\n",
    "        node.score = 0\n",
    "    elif node.mb.status == Marubatsu.CROSS:\n",
    "        node.score = -1\n",
    "    else:\n",
    "        score_list = []\n",
    "        for childnode in node.children:\n",
    "            score_list.append(self.calc_score_by_df(childnode))\n",
    "            self.nodelist_by_score.append(node)\n",
    "        if node.mb.move_count % 2 == 0:\n",
    "            score = max(score_list)\n",
    "        else:\n",
    "            score = min(score_list)\n",
    "        node.score = score\n",
    "\n",
    "    return node.score                \n",
    "\n",
    "Mbtree.calc_score_by_df = calc_score_by_df"
   ]
  },
  {
   "cell_type": "code",
   "execution_count": 2,
   "metadata": {},
   "outputs": [
    {
     "name": "stdout",
     "output_type": "stream",
     "text": [
      "Turn o\n",
      "...\n",
      "...\n",
      "...\n",
      "\n",
      "Turn x\n",
      "O..\n",
      "...\n",
      "...\n",
      "\n",
      "Turn o\n",
      "oX.\n",
      "...\n",
      "...\n",
      "\n",
      "Turn x\n",
      "oxO\n",
      "...\n",
      "...\n",
      "\n",
      "Turn o\n",
      "oxo\n",
      "X..\n",
      "...\n",
      "\n"
     ]
    }
   ],
   "source": [
    "mbtree_df = Mbtree.load(\"dfscore\")\n",
    "mbtree_df.nodelist_by_score = []\n",
    "mbtree_df.calc_score_by_df(mbtree_df.root)\n",
    "for i in range(5):\n",
    "    print(mbtree_df.nodelist_by_score[i].mb)"
   ]
  },
  {
   "cell_type": "code",
   "execution_count": 3,
   "metadata": {},
   "outputs": [],
   "source": [
    "def calc_score_by_df(self, node):\n",
    "    self.nodelist_by_score.append(node)\n",
    "    if node.mb.status == Marubatsu.CIRCLE:\n",
    "        node.score = 1\n",
    "    elif node.mb.status == Marubatsu.DRAW:\n",
    "        node.score = 0\n",
    "    elif node.mb.status == Marubatsu.CROSS:\n",
    "        node.score = -1\n",
    "    else:\n",
    "        score_list = []\n",
    "        for childnode in node.children:\n",
    "            score_list.append(self.calc_score_by_df(childnode))\n",
    "            self.nodelist_by_score.append(node)\n",
    "        if node.mb.move_count % 2 == 0:\n",
    "            score = max(score_list)\n",
    "        else:\n",
    "            score = min(score_list)\n",
    "        node.score = score\n",
    "        \n",
    "    self.nodelist_by_score.append(node)\n",
    "    node.score_index = len(self.nodelist_by_score) - 1        \n",
    "    return node.score                \n",
    "\n",
    "Mbtree.calc_score_by_df = calc_score_by_df"
   ]
  },
  {
   "cell_type": "code",
   "execution_count": 4,
   "metadata": {},
   "outputs": [
    {
     "name": "stdout",
     "output_type": "stream",
     "text": [
      "1649837 1649836\n"
     ]
    }
   ],
   "source": [
    "mbtree_df.nodelist_by_score = []\n",
    "mbtree_df.calc_score_by_df(mbtree_df.root)\n",
    "print(len(mbtree_df.nodelist_by_score), mbtree_df.root.score_index)"
   ]
  },
  {
   "cell_type": "code",
   "execution_count": 5,
   "metadata": {},
   "outputs": [],
   "source": [
    "from tree import Node\n",
    "\n",
    "def __init__(self, algo:str=\"bf\"):\n",
    "    self.algo = algo\n",
    "    Node.count = 0\n",
    "    self.root = Node(Marubatsu())\n",
    "    if self.algo == \"bf\":  \n",
    "        self.create_tree_by_bf()\n",
    "        self.calc_score_by_bf()\n",
    "    else:\n",
    "        self.nodelist = [self.root]\n",
    "        self.nodelist_by_depth = [[] for _ in range(10)]\n",
    "        self.nodelist_by_depth[0].append(self.root)\n",
    "        self.nodenum = 0\n",
    "        self.create_tree_by_df(self.root)\n",
    "        self.nodelist_by_score = []\n",
    "        self.calc_score_by_df(self.root)\n",
    "        \n",
    "Mbtree.__init__ = __init__"
   ]
  },
  {
   "cell_type": "code",
   "execution_count": 6,
   "metadata": {},
   "outputs": [
    {
     "name": "stdout",
     "output_type": "stream",
     "text": [
      "1649837 1649836\n"
     ]
    }
   ],
   "source": [
    "mbtree_df = Mbtree(algo=\"df\")\n",
    "print(len(mbtree_df.nodelist_by_score), mbtree_df.root.score_index)"
   ]
  },
  {
   "cell_type": "code",
   "execution_count": 7,
   "metadata": {},
   "outputs": [],
   "source": [
    "from tree import Mbtree_Anim\n",
    "from gui import GUI\n",
    "import matplotlib.pyplot as plt\n",
    "import matplotlib.patches as patches\n",
    "from ipywidgets import widgets\n",
    "\n",
    "class Mbtree_Anim(GUI):\n",
    "    def __init__(self, mbtree, isscore=False, size=0.15):\n",
    "        self.mbtree = mbtree\n",
    "        self.isscore = isscore\n",
    "        self.size = size\n",
    "        self.width = 50\n",
    "        self.height = 64\n",
    "        self.nodelist = self.mbtree.nodelist_by_score if isscore else self.mbtree.nodelist \n",
    "        self.nodenum = len(self.nodelist)\n",
    "        super().__init__()\n",
    "        \n",
    "    def create_widgets(self):\n",
    "        \"\"\"ウィジェットを作成する.\"\"\"\n",
    "        \n",
    "        self.play = widgets.Play(max=self.mbtree.nodenum - 1, interval=500)\n",
    "        self.frame_slider = widgets.IntSlider(max=self.mbtree.nodenum - 1, description=\"frame\")\n",
    "        self.interval_slider = widgets.IntSlider(value=500, min=1, max=2000, description=\"interval\")\n",
    "        widgets.jslink((self.play, \"value\"), (self.frame_slider, \"value\"))    \n",
    "        widgets.jslink((self.play, \"interval\"), (self.interval_slider, \"value\"))\n",
    "\n",
    "        with plt.ioff():\n",
    "            self.fig = plt.figure(figsize=[self.width * self.size,\n",
    "                                            self.height * self.size])\n",
    "            self.ax = self.fig.add_axes([0, 0, 1, 1])\n",
    "        self.fig.canvas.toolbar_visible = False\n",
    "        self.fig.canvas.header_visible = False\n",
    "        self.fig.canvas.footer_visible = False\n",
    "        self.fig.canvas.resizable = False \n",
    "        \n",
    "    def display_widgets(self):\n",
    "        \"\"\"ウィジェットを配置して表示する.\"\"\"\n",
    "        \n",
    "        hbox = widgets.HBox([self.play, self.frame_slider, self.interval_slider])\n",
    "        display(widgets.VBox([hbox, self.fig.canvas]))\n",
    "        \n",
    "    def create_event_handler(self):\n",
    "        \"\"\"イベントハンドラを登録する.\"\"\"\n",
    "\n",
    "        def on_play_changed(changed):\n",
    "            self.update_gui()\n",
    "            \n",
    "        self.play.observe(on_play_changed, names=\"value\")\n",
    "    \n",
    "    def update_gui(self):\n",
    "        \"\"\"GUI の表示を更新する.\"\"\"\n",
    "        \n",
    "        self.ax.clear()\n",
    "        self.ax.set_xlim(-1, self.width - 1)\n",
    "        self.ax.set_ylim(0, self.height)   \n",
    "        self.ax.invert_yaxis()\n",
    "        self.ax.axis(\"off\")   \n",
    "        \n",
    "        self.selectednode = self.mbtree.nodelist[self.play.value]\n",
    "        self.centernode = self.selectednode\n",
    "        if self.mbtree.algo == \"bf\":\n",
    "            if self.centernode.depth > 0:\n",
    "                self.centernode = self.centernode.parent\n",
    "        while self.centernode.depth > 6:\n",
    "            self.centernode = self.centernode.parent\n",
    "        if self.centernode.depth <= 4:\n",
    "            maxdepth = self.centernode.depth + 1\n",
    "        elif self.centernode.depth == 5:\n",
    "            maxdepth = 7\n",
    "        else:\n",
    "            maxdepth = 9\n",
    "        self.mbtree.draw_subtree(centernode=self.centernode, selectednode=self.selectednode, ax=self.ax, maxdepth=maxdepth)\n",
    "        for rect, node in self.mbtree.nodes_by_rect.items():\n",
    "            if node.id > self.play.value:\n",
    "                self.ax.add_artist(patches.Rectangle(xy=(rect.x, rect.y), width=rect.width, height=rect.height, fc=\"black\", alpha=0.5))"
   ]
  },
  {
   "cell_type": "code",
   "execution_count": 8,
   "metadata": {},
   "outputs": [],
   "source": [
    "def create_widgets(self):\n",
    "    self.play = widgets.Play(max=self.nodenum - 1, interval=500)\n",
    "    self.frame_slider = widgets.IntSlider(max=self.nodenum - 1, description=\"frame\")\n",
    "    self.interval_slider = widgets.IntSlider(value=500, min=1, max=2000, description=\"interval\")\n",
    "    widgets.jslink((self.play, \"value\"), (self.frame_slider, \"value\"))    \n",
    "    widgets.jslink((self.play, \"interval\"), (self.interval_slider, \"value\"))\n",
    "\n",
    "    with plt.ioff():\n",
    "        self.fig = plt.figure(figsize=[self.width * self.size,\n",
    "                                        self.height * self.size])\n",
    "        self.ax = self.fig.add_axes([0, 0, 1, 1])\n",
    "    self.fig.canvas.toolbar_visible = False\n",
    "    self.fig.canvas.header_visible = False\n",
    "    self.fig.canvas.footer_visible = False\n",
    "    self.fig.canvas.resizable = False \n",
    "\n",
    "Mbtree_Anim.create_widgets = create_widgets"
   ]
  },
  {
   "cell_type": "code",
   "execution_count": 9,
   "metadata": {},
   "outputs": [],
   "source": [
    "def update_gui(self):\n",
    "    self.ax.clear()\n",
    "    self.ax.set_xlim(-1, self.width - 1)\n",
    "    self.ax.set_ylim(0, self.height)   \n",
    "    self.ax.invert_yaxis()\n",
    "    self.ax.axis(\"off\")   \n",
    "    \n",
    "    self.selectednode = self.nodelist[self.play.value]\n",
    "    self.centernode = self.selectednode\n",
    "    if self.mbtree.algo == \"bf\":\n",
    "        if self.centernode.depth > 0:\n",
    "            self.centernode = self.centernode.parent\n",
    "    while self.centernode.depth > 6:\n",
    "        self.centernode = self.centernode.parent\n",
    "    if self.centernode.depth <= 4:\n",
    "        maxdepth = self.centernode.depth + 1\n",
    "    elif self.centernode.depth == 5:\n",
    "        maxdepth = 7\n",
    "    else:\n",
    "        maxdepth = 9\n",
    "    self.mbtree.draw_subtree(centernode=self.centernode, selectednode=self.selectednode, ax=self.ax, maxdepth=maxdepth)\n",
    "    for rect, node in self.mbtree.nodes_by_rect.items():\n",
    "        index = node.score_index if self.isscore else node.id\n",
    "        if index > self.play.value:\n",
    "            self.ax.add_artist(patches.Rectangle(xy=(rect.x, rect.y), width=rect.width, height=rect.height, fc=\"black\", alpha=0.5))\n",
    "\n",
    "Mbtree_Anim.update_gui = update_gui"
   ]
  },
  {
   "cell_type": "code",
   "execution_count": 10,
   "metadata": {},
   "outputs": [
    {
     "data": {
      "application/vnd.jupyter.widget-view+json": {
       "model_id": "a760eadf71654ec4afb7e6ecaa227926",
       "version_major": 2,
       "version_minor": 0
      },
      "text/plain": [
       "VBox(children=(HBox(children=(Play(value=0, interval=500, max=1649836), IntSlider(value=0, description='frame'…"
      ]
     },
     "metadata": {},
     "output_type": "display_data"
    }
   ],
   "source": [
    "mbtree_anim = Mbtree_Anim(mbtree_df, isscore=True)"
   ]
  },
  {
   "cell_type": "code",
   "execution_count": 11,
   "metadata": {},
   "outputs": [],
   "source": [
    "def create_widgets(self):\n",
    "    self.play = widgets.Play(max=self.nodenum - 1, interval=500)\n",
    "    self.prev_button = self.create_button(\"<\", width=30)\n",
    "    self.next_button = self.create_button(\">\", width=30)\n",
    "    self.frame_slider = widgets.IntSlider(max=self.nodenum - 1, description=\"frame\")\n",
    "    self.interval_slider = widgets.IntSlider(value=500, min=1, max=2000, description=\"interval\")\n",
    "    widgets.jslink((self.play, \"value\"), (self.frame_slider, \"value\"))    \n",
    "    widgets.jslink((self.play, \"interval\"), (self.interval_slider, \"value\"))\n",
    "\n",
    "    with plt.ioff():\n",
    "        self.fig = plt.figure(figsize=[self.width * self.size,\n",
    "                                        self.height * self.size])\n",
    "        self.ax = self.fig.add_axes([0, 0, 1, 1])\n",
    "    self.fig.canvas.toolbar_visible = False\n",
    "    self.fig.canvas.header_visible = False\n",
    "    self.fig.canvas.footer_visible = False\n",
    "    self.fig.canvas.resizable = False \n",
    "\n",
    "Mbtree_Anim.create_widgets = create_widgets "
   ]
  },
  {
   "cell_type": "code",
   "execution_count": 12,
   "metadata": {},
   "outputs": [],
   "source": [
    "def display_widgets(self):\n",
    "    hbox = widgets.HBox([self.play, self.prev_button, self.next_button, self.frame_slider, self.interval_slider])\n",
    "    display(widgets.VBox([hbox, self.fig.canvas])) \n",
    "\n",
    "Mbtree_Anim.display_widgets = display_widgets "
   ]
  },
  {
   "cell_type": "code",
   "execution_count": 13,
   "metadata": {},
   "outputs": [],
   "source": [
    "def create_event_handler(self):\n",
    "    def on_play_changed(changed):\n",
    "        self.update_gui()\n",
    "        \n",
    "    def on_prev_button_clicked(b=None):\n",
    "        self.play.value -= 1\n",
    "        self.update_gui()\n",
    "        \n",
    "    def on_next_button_clicked(b=None):\n",
    "        self.play.value += 1\n",
    "        self.update_gui()\n",
    "\n",
    "    self.prev_button.on_click(on_prev_button_clicked)\n",
    "    self.next_button.on_click(on_next_button_clicked)\n",
    "\n",
    "    self.play.observe(on_play_changed, names=\"value\")\n",
    "    \n",
    "Mbtree_Anim.create_event_handler = create_event_handler  "
   ]
  },
  {
   "cell_type": "code",
   "execution_count": 14,
   "metadata": {},
   "outputs": [],
   "source": [
    "def update_gui(self):\n",
    "    self.ax.clear()\n",
    "    self.ax.set_xlim(-1, self.width - 1)\n",
    "    self.ax.set_ylim(0, self.height)   \n",
    "    self.ax.invert_yaxis()\n",
    "    self.ax.axis(\"off\")   \n",
    "    \n",
    "    self.selectednode = self.nodelist[self.play.value]\n",
    "    self.centernode = self.selectednode\n",
    "    if self.mbtree.algo == \"bf\":\n",
    "        if self.centernode.depth > 0:\n",
    "            self.centernode = self.centernode.parent\n",
    "    while self.centernode.depth > 6:\n",
    "        self.centernode = self.centernode.parent\n",
    "    if self.centernode.depth <= 4:\n",
    "        maxdepth = self.centernode.depth + 1\n",
    "    elif self.centernode.depth == 5:\n",
    "        maxdepth = 7\n",
    "    else:\n",
    "        maxdepth = 9\n",
    "    self.mbtree.draw_subtree(centernode=self.centernode, selectednode=self.selectednode, ax=self.ax, maxdepth=maxdepth)\n",
    "    for rect, node in self.mbtree.nodes_by_rect.items():\n",
    "        index = node.score_index if self.isscore else node.id\n",
    "        if index > self.play.value:\n",
    "            self.ax.add_artist(patches.Rectangle(xy=(rect.x, rect.y), width=rect.width, height=rect.height, fc=\"black\", alpha=0.5))\n",
    "\n",
    "    disabled = self.play.value == 0\n",
    "    self.set_button_status(self.prev_button, disabled=disabled)\n",
    "    disabled = self.play.value == self.nodenum - 1\n",
    "    self.set_button_status(self.next_button, disabled=disabled)\n",
    "\n",
    "Mbtree_Anim.update_gui = update_gui"
   ]
  },
  {
   "cell_type": "code",
   "execution_count": 15,
   "metadata": {},
   "outputs": [
    {
     "data": {
      "application/vnd.jupyter.widget-view+json": {
       "model_id": "cb6ccfd1c3bc4f38b6352b7220a5ba6e",
       "version_major": 2,
       "version_minor": 0
      },
      "text/plain": [
       "VBox(children=(HBox(children=(Play(value=0, interval=500, max=1649836), Button(description='<', layout=Layout(…"
      ]
     },
     "metadata": {},
     "output_type": "display_data"
    }
   ],
   "source": [
    "mbtree_anim = Mbtree_Anim(mbtree_df, isscore=True)"
   ]
  },
  {
   "cell_type": "code",
   "execution_count": 16,
   "metadata": {},
   "outputs": [],
   "source": [
    "def update_gui(self):\n",
    "    self.ax.clear()\n",
    "    self.ax.set_xlim(-1, self.width - 1)\n",
    "    self.ax.set_ylim(0, self.height)   \n",
    "    self.ax.invert_yaxis()\n",
    "    self.ax.axis(\"off\")   \n",
    "    \n",
    "    self.selectednode = self.nodelist[self.play.value]\n",
    "    self.centernode = self.selectednode\n",
    "    if self.mbtree.algo == \"bf\":\n",
    "        if self.centernode.depth > 0:\n",
    "            self.centernode = self.centernode.parent\n",
    "    while self.centernode.depth > 6:\n",
    "        self.centernode = self.centernode.parent\n",
    "    if self.centernode.depth <= 4:\n",
    "        maxdepth = self.centernode.depth + 1\n",
    "    elif self.centernode.depth == 5:\n",
    "        maxdepth = 7\n",
    "    else:\n",
    "        maxdepth = 9\n",
    "    self.mbtree.draw_subtree(centernode=self.centernode, selectednode=self.selectednode,\n",
    "                             ax=self.ax, maxdepth=maxdepth)\n",
    "    for rect, node in self.mbtree.nodes_by_rect.items():\n",
    "        index = node.score_index if self.isscore else node.id\n",
    "        if index > self.play.value:\n",
    "            self.ax.add_artist(patches.Rectangle(xy=(rect.x, rect.y), width=rect.width,\n",
    "                                                     height=rect.height, fc=\"black\", alpha=0.5))\n",
    "        if node is self.selectednode:\n",
    "            self.ax.add_artist(patches.Rectangle(xy=(rect.x, rect.y), width=rect.width,\n",
    "                                                     height=rect.height, ec=\"red\", fill=False, lw=2))\n",
    "\n",
    "    disabled = self.play.value == 0\n",
    "    self.set_button_status(self.prev_button, disabled=disabled)\n",
    "    disabled = self.play.value == self.nodenum - 1\n",
    "    self.set_button_status(self.next_button, disabled=disabled)\n",
    "\n",
    "Mbtree_Anim.update_gui = update_gui"
   ]
  },
  {
   "cell_type": "code",
   "execution_count": 17,
   "metadata": {},
   "outputs": [
    {
     "data": {
      "application/vnd.jupyter.widget-view+json": {
       "model_id": "f8303c25fd3f4140b285547832755669",
       "version_major": 2,
       "version_minor": 0
      },
      "text/plain": [
       "VBox(children=(HBox(children=(Play(value=0, interval=500, max=1649836), Button(description='<', layout=Layout(…"
      ]
     },
     "metadata": {},
     "output_type": "display_data"
    }
   ],
   "source": [
    "mbtree_anim = Mbtree_Anim(mbtree_df, isscore=True)"
   ]
  },
  {
   "cell_type": "code",
   "execution_count": 18,
   "metadata": {},
   "outputs": [],
   "source": [
    "def calc_score_by_bf(self):\n",
    "    self.nodelist_by_score = self.nodelist[:]\n",
    "    for nodelist in reversed(self.nodelist_by_depth):\n",
    "        for node in nodelist:\n",
    "            if node.mb.status == Marubatsu.CIRCLE:\n",
    "                node.score = 1\n",
    "            elif node.mb.status == Marubatsu.DRAW:\n",
    "                node.score = 0\n",
    "            elif node.mb.status == Marubatsu.CROSS:\n",
    "                node.score = -1\n",
    "            else:\n",
    "                score_list = [childnode.score for childnode in node.children]\n",
    "                if node.mb.move_count % 2 == 0:\n",
    "                    score = max(score_list)\n",
    "                else:\n",
    "                    score = min(score_list)\n",
    "                node.score = score\n",
    "            self.nodelist_by_score.append(node)\n",
    "            node.score_index = len(self.nodelist_by_score) - 1\n",
    "    \n",
    "Mbtree.calc_score_by_bf = calc_score_by_bf"
   ]
  },
  {
   "cell_type": "code",
   "execution_count": 19,
   "metadata": {},
   "outputs": [
    {
     "data": {
      "application/vnd.jupyter.widget-view+json": {
       "model_id": "b0fb4d28c8de46f4878992418670e918",
       "version_major": 2,
       "version_minor": 0
      },
      "text/plain": [
       "VBox(children=(HBox(children=(Play(value=0, interval=500, max=1099891), Button(description='<', layout=Layout(…"
      ]
     },
     "metadata": {},
     "output_type": "display_data"
    }
   ],
   "source": [
    "mbtree_bf = Mbtree.load(\"bfscore\")\n",
    "mbtree_bf.calc_score_by_bf()\n",
    "mbtree_anim = Mbtree_Anim(mbtree_bf, isscore=True)"
   ]
  },
  {
   "cell_type": "code",
   "execution_count": 20,
   "metadata": {},
   "outputs": [
    {
     "name": "stdout",
     "output_type": "stream",
     "text": [
      "save completed.\n",
      "save completed.\n"
     ]
    }
   ],
   "source": [
    "mbtree_bf.save(\"bfscore_new\")\n",
    "mbtree_df.save(\"dfscore_new\")"
   ]
  },
  {
   "cell_type": "code",
   "execution_count": 21,
   "metadata": {},
   "outputs": [
    {
     "data": {
      "application/vnd.jupyter.widget-view+json": {
       "model_id": "63fe9c90fe954ee1b736333bc9fb41c3",
       "version_major": 2,
       "version_minor": 0
      },
      "text/plain": [
       "VBox(children=(HBox(children=(Play(value=0, interval=500, max=549945), Button(description='<', layout=Layout(w…"
      ]
     },
     "metadata": {},
     "output_type": "display_data"
    }
   ],
   "source": [
    "mbtree_anim = Mbtree_Anim(mbtree_bf)"
   ]
  },
  {
   "cell_type": "code",
   "execution_count": 22,
   "metadata": {},
   "outputs": [
    {
     "data": {
      "application/vnd.jupyter.widget-view+json": {
       "model_id": "e5497e2eaeb845e7a076f53b74630793",
       "version_major": 2,
       "version_minor": 0
      },
      "text/plain": [
       "VBox(children=(HBox(children=(Play(value=0, interval=500, max=549945), Button(description='<', layout=Layout(w…"
      ]
     },
     "metadata": {},
     "output_type": "display_data"
    }
   ],
   "source": [
    "mbtree_anim = Mbtree_Anim(mbtree_df)"
   ]
  }
 ],
 "metadata": {
  "kernelspec": {
   "display_name": "marubatsu",
   "language": "python",
   "name": "python3"
  },
  "language_info": {
   "codemirror_mode": {
    "name": "ipython",
    "version": 3
   },
   "file_extension": ".py",
   "mimetype": "text/x-python",
   "name": "python",
   "nbconvert_exporter": "python",
   "pygments_lexer": "ipython3",
   "version": "3.11.4"
  }
 },
 "nbformat": 4,
 "nbformat_minor": 2
}
