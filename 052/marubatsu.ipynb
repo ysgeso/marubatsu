{
 "cells": [
  {
   "cell_type": "code",
   "execution_count": 1,
   "metadata": {},
   "outputs": [
    {
     "name": "stdout",
     "output_type": "stream",
     "text": [
      "[defaultdict(<class 'int'>, {'.': 3}),\n",
      " defaultdict(<class 'int'>, {'.': 3}),\n",
      " defaultdict(<class 'int'>, {'.': 3}),\n",
      " defaultdict(<class 'int'>, {'.': 3}),\n",
      " defaultdict(<class 'int'>, {'.': 3}),\n",
      " defaultdict(<class 'int'>, {'.': 3}),\n",
      " defaultdict(<class 'int'>, {'.': 3}),\n",
      " defaultdict(<class 'int'>, {'.': 3})]\n"
     ]
    }
   ],
   "source": [
    "from marubatsu import Marubatsu\n",
    "from pprint import pprint\n",
    "\n",
    "mb = Marubatsu()\n",
    "pprint(mb.enum_markpats())"
   ]
  },
  {
   "cell_type": "code",
   "execution_count": 2,
   "metadata": {},
   "outputs": [
    {
     "name": "stdout",
     "output_type": "stream",
     "text": [
      "{'♣', '♥', '♦', '♠'}\n"
     ]
    }
   ],
   "source": [
    "print({\"♠\", \"♥\", \"♦\", \"♣\"})"
   ]
  },
  {
   "cell_type": "code",
   "execution_count": 3,
   "metadata": {},
   "outputs": [
    {
     "name": "stdout",
     "output_type": "stream",
     "text": [
      "{'♣', '♥', '♦', '♠'}\n"
     ]
    }
   ],
   "source": [
    "print({\"♠\", \"♠\", \"♠\", \"♥\", \"♥\", \"♥\", \"♦\", \"♦\", \"♦\", \"♣\", \"♣\", \"♣\"})"
   ]
  },
  {
   "cell_type": "code",
   "execution_count": 4,
   "metadata": {},
   "outputs": [
    {
     "name": "stdout",
     "output_type": "stream",
     "text": [
      "set()\n",
      "{}\n"
     ]
    }
   ],
   "source": [
    "print(set())  # 空の set のみ、必ずこのように記述する必要がある\n",
    "print({})     # こちらは空の dict を表す"
   ]
  },
  {
   "cell_type": "code",
   "execution_count": 5,
   "metadata": {},
   "outputs": [
    {
     "name": "stdout",
     "output_type": "stream",
     "text": [
      "{'♣', '♥', '♦', '♠'}\n",
      "{'♣', '♥', '♦', '♠'}\n"
     ]
    }
   ],
   "source": [
    "print(set([\"♠\", \"♥\", \"♦\", \"♣\"]))\n",
    "print(set([\"♠\", \"♠\", \"♠\", \"♥\", \"♥\", \"♥\", \"♦\", \"♦\", \"♦\", \"♣\", \"♣\", \"♣\"]))"
   ]
  },
  {
   "cell_type": "code",
   "execution_count": 6,
   "metadata": {},
   "outputs": [
    {
     "name": "stdout",
     "output_type": "stream",
     "text": [
      "['♣', '♥', '♦', '♠']\n"
     ]
    }
   ],
   "source": [
    "print(list({\"♠\", \"♥\", \"♦\", \"♣\"}))"
   ]
  },
  {
   "cell_type": "code",
   "execution_count": 7,
   "metadata": {},
   "outputs": [
    {
     "name": "stdout",
     "output_type": "stream",
     "text": [
      "{0, 1, 2, 3, 4, 5, 6, 7, 8, 9}\n"
     ]
    }
   ],
   "source": [
    "print({ i for i in range(10) })"
   ]
  },
  {
   "cell_type": "code",
   "execution_count": 8,
   "metadata": {},
   "outputs": [
    {
     "ename": "TypeError",
     "evalue": "unhashable type: 'list'",
     "output_type": "error",
     "traceback": [
      "\u001b[1;31m---------------------------------------------------------------------------\u001b[0m",
      "\u001b[1;31mTypeError\u001b[0m                                 Traceback (most recent call last)",
      "Cell \u001b[1;32mIn[8], line 1\u001b[0m\n\u001b[1;32m----> 1\u001b[0m \u001b[38;5;28mprint\u001b[39m({\u001b[38;5;241m1\u001b[39m, []})\n",
      "\u001b[1;31mTypeError\u001b[0m: unhashable type: 'list'"
     ]
    }
   ],
   "source": [
    "print({1, []})"
   ]
  },
  {
   "cell_type": "code",
   "execution_count": 9,
   "metadata": {},
   "outputs": [
    {
     "name": "stdout",
     "output_type": "stream",
     "text": [
      "True\n",
      "False\n"
     ]
    }
   ],
   "source": [
    "marks = {\"♠\", \"♥\", \"♦\", \"♣\"}\n",
    "print(\"♠\" in marks)  # ♠ は marks に含まれる\n",
    "print(\"■\" in marks)  # ■（四角）は marks に含まれない"
   ]
  },
  {
   "cell_type": "code",
   "execution_count": 10,
   "metadata": {},
   "outputs": [
    {
     "name": "stdout",
     "output_type": "stream",
     "text": [
      "False\n",
      "True\n"
     ]
    }
   ],
   "source": [
    "marks = {\"♠\", \"♥\", \"♦\", \"♣\"}\n",
    "print(\"♠\" not in marks)\n",
    "print(\"■\" not in marks)"
   ]
  },
  {
   "cell_type": "code",
   "execution_count": 11,
   "metadata": {},
   "outputs": [
    {
     "name": "stdout",
     "output_type": "stream",
     "text": [
      "A == B True\n",
      "A == C False\n",
      "A == D False\n",
      "\n",
      "A != B False\n",
      "A != C True\n",
      "A != D True\n",
      "\n",
      "A > B False\n",
      "A > C True\n",
      "A > D False\n",
      "\n",
      "A >= B True\n",
      "A >= C True\n",
      "A >= D False\n",
      "\n",
      "B < A False\n",
      "C < A True\n",
      "D < A False\n",
      "\n",
      "B <= A True\n",
      "C <= A True\n",
      "D <= A False\n"
     ]
    }
   ],
   "source": [
    "A = {\"♠\", \"♥\", \"♦\", \"♣\"}\n",
    "B = {\"♦\", \"♥\", \"♠\", \"♣\"}\n",
    "C = {\"♥\", \"♦\"}            # 赤いマークのみの集合\n",
    "D = {\"♠\", \"♥\", \"■\"}       # トランプのマークと関係ない ■ が混じっている\n",
    "\n",
    "print(\"A == B\", A == B)\n",
    "print(\"A == C\", A == C)\n",
    "print(\"A == D\", A == D)\n",
    "print()\n",
    "\n",
    "print(\"A != B\", A != B)\n",
    "print(\"A != C\", A != C)\n",
    "print(\"A != D\", A != D)\n",
    "print()\n",
    "\n",
    "print(\"A > B\", A > B)\n",
    "print(\"A > C\", A > C)\n",
    "print(\"A > D\", A > D)\n",
    "print()\n",
    "\n",
    "print(\"A >= B\", A >= B)\n",
    "print(\"A >= C\", A >= C)\n",
    "print(\"A >= D\", A >= D)\n",
    "print()\n",
    "\n",
    "print(\"B < A\", B < A)\n",
    "print(\"C < A\", C < A)\n",
    "print(\"D < A\", D < A)\n",
    "print()\n",
    "\n",
    "print(\"B <= A\", B <= A)\n",
    "print(\"C <= A\", C <= A)\n",
    "print(\"D <= A\", D <= A)"
   ]
  },
  {
   "cell_type": "code",
   "execution_count": 12,
   "metadata": {},
   "outputs": [
    {
     "name": "stdout",
     "output_type": "stream",
     "text": [
      "False\n"
     ]
    }
   ],
   "source": [
    "A = [\"♠\", \"♥\", \"♦\", \"♣\"]\n",
    "B = [\"♦\", \"♥\", \"♠\", \"♣\"]\n",
    "\n",
    "print(A == B)"
   ]
  },
  {
   "cell_type": "code",
   "execution_count": 13,
   "metadata": {},
   "outputs": [
    {
     "name": "stdout",
     "output_type": "stream",
     "text": [
      "A | B {2, 3, 4, 6, 8, 9, 10, 12}\n",
      "A & B {12, 6}\n",
      "A - B {8, 2, 10, 4}\n",
      "A ^ B {2, 3, 4, 8, 9, 10}\n"
     ]
    }
   ],
   "source": [
    "A = {2, 4, 6, 8, 10, 12}  # トランプの偶数の数字\n",
    "B = {3, 6, 9, 12}         # トランプの 3 の倍数の数字\n",
    "\n",
    "print(\"A | B\", A | B)\n",
    "print(\"A & B\", A & B)\n",
    "print(\"A - B\", A - B)\n",
    "print(\"A ^ B\", A ^ B)"
   ]
  },
  {
   "cell_type": "code",
   "execution_count": 14,
   "metadata": {},
   "outputs": [
    {
     "ename": "TypeError",
     "evalue": "unsupported operand type(s) for +: 'set' and 'set'",
     "output_type": "error",
     "traceback": [
      "\u001b[1;31m---------------------------------------------------------------------------\u001b[0m",
      "\u001b[1;31mTypeError\u001b[0m                                 Traceback (most recent call last)",
      "Cell \u001b[1;32mIn[14], line 1\u001b[0m\n\u001b[1;32m----> 1\u001b[0m \u001b[38;5;28mprint\u001b[39m({\u001b[38;5;241m1\u001b[39m, \u001b[38;5;241m2\u001b[39m} \u001b[38;5;241m+\u001b[39m {\u001b[38;5;241m3\u001b[39m})\n",
      "\u001b[1;31mTypeError\u001b[0m: unsupported operand type(s) for +: 'set' and 'set'"
     ]
    }
   ],
   "source": [
    "print({1, 2} + {3})"
   ]
  },
  {
   "cell_type": "code",
   "execution_count": 15,
   "metadata": {},
   "outputs": [
    {
     "name": "stdout",
     "output_type": "stream",
     "text": [
      "{1, 2, 3, 4, 5}\n"
     ]
    }
   ],
   "source": [
    "a = {1, 2, 3}\n",
    "a |= {3, 4, 5}\n",
    "print(a)"
   ]
  },
  {
   "cell_type": "code",
   "execution_count": 16,
   "metadata": {},
   "outputs": [
    {
     "name": "stdout",
     "output_type": "stream",
     "text": [
      "1661492119360\n",
      "1661492119360\n",
      "1661492117568\n",
      "1661492120704\n"
     ]
    }
   ],
   "source": [
    "a = {1, 2, 3}\n",
    "print(id(a))     \n",
    "a |= {3, 4, 5}     # こちらは、a に要素を追加する処理\n",
    "print(id(a))       # 2 行前と同じ id が表示される\n",
    "\n",
    "a = {1, 2, 3}\n",
    "print(id(a))\n",
    "a = a | {3, 4, 5}  # こちらは、新しい set を作成し、a に代入する処理\n",
    "print(id(a))       # 2 行前と異なる id が表示される"
   ]
  },
  {
   "cell_type": "code",
   "execution_count": 17,
   "metadata": {},
   "outputs": [
    {
     "name": "stdout",
     "output_type": "stream",
     "text": [
      "{12, 6}\n",
      "{2, 4, 8, 10}\n",
      "{2, 3, 4, 8, 9, 10}\n"
     ]
    }
   ],
   "source": [
    "a = {2, 4, 6, 8, 10, 12}\n",
    "b = {3, 6, 9, 12}\n",
    "\n",
    "a &= b\n",
    "print(a)\n",
    "\n",
    "a = {2, 4, 6, 8, 10, 12}\n",
    "a -= b\n",
    "print(a)\n",
    "\n",
    "a = {2, 4, 6, 8, 10, 12}\n",
    "a ^= b\n",
    "print(a)"
   ]
  },
  {
   "cell_type": "code",
   "execution_count": 18,
   "metadata": {},
   "outputs": [
    {
     "name": "stdout",
     "output_type": "stream",
     "text": [
      "{1, 2, 3, 4}\n",
      "{1, 2, 3}\n",
      "{1, 2, 3}\n",
      "1\n",
      "{2, 3}\n",
      "set()\n"
     ]
    }
   ],
   "source": [
    "a = {1, 2, 3, 4, 5}\n",
    "\n",
    "a.remove(5)   # 5 を削除する\n",
    "print(a)\n",
    "\n",
    "a.discard(4)  # 4 を削除する\n",
    "print(a)\n",
    "\n",
    "a.discard(6)  # 存在しない 6 を discard で指定した場合は何も起こらない\n",
    "print(a)\n",
    "\n",
    "print(a.pop()) # いずれか 1 つの要素を削除し、その値を返す\n",
    "print(a)       # 上の行で表示された値の要素が削除されている\n",
    "\n",
    "a.clear()      # すべての要素を削除する\n",
    "print(a)       # 空の set を表す set() が表示される"
   ]
  },
  {
   "cell_type": "code",
   "execution_count": 19,
   "metadata": {},
   "outputs": [
    {
     "ename": "KeyError",
     "evalue": "5",
     "output_type": "error",
     "traceback": [
      "\u001b[1;31m---------------------------------------------------------------------------\u001b[0m",
      "\u001b[1;31mKeyError\u001b[0m                                  Traceback (most recent call last)",
      "Cell \u001b[1;32mIn[19], line 2\u001b[0m\n\u001b[0;32m      1\u001b[0m a \u001b[38;5;241m=\u001b[39m {\u001b[38;5;241m1\u001b[39m, \u001b[38;5;241m2\u001b[39m, \u001b[38;5;241m3\u001b[39m}\n\u001b[1;32m----> 2\u001b[0m a\u001b[38;5;241m.\u001b[39mremove(\u001b[38;5;241m5\u001b[39m)\n",
      "\u001b[1;31mKeyError\u001b[0m: 5"
     ]
    }
   ],
   "source": [
    "a = {1, 2, 3}\n",
    "a.remove(5)"
   ]
  },
  {
   "cell_type": "code",
   "execution_count": 20,
   "metadata": {},
   "outputs": [
    {
     "name": "stdout",
     "output_type": "stream",
     "text": [
      "3\n",
      "0\n"
     ]
    }
   ],
   "source": [
    "print(len({1, 2, 3}))\n",
    "print(len(set()))      # 空の set の場合の要素の数は 0"
   ]
  },
  {
   "cell_type": "code",
   "execution_count": 21,
   "metadata": {},
   "outputs": [
    {
     "name": "stdout",
     "output_type": "stream",
     "text": [
      "list\n",
      "1\n",
      "2\n",
      "3\n",
      "set\n",
      "1\n",
      "2\n",
      "3\n"
     ]
    }
   ],
   "source": [
    "print(\"list\")\n",
    "for i in [1, 2, 3]:\n",
    "    print(i)\n",
    "print(\"set\")\n",
    "for i in (1, 2, 3):\n",
    "    print(i)"
   ]
  },
  {
   "cell_type": "code",
   "execution_count": 22,
   "metadata": {},
   "outputs": [
    {
     "ename": "TypeError",
     "evalue": "'set' object is not subscriptable",
     "output_type": "error",
     "traceback": [
      "\u001b[1;31m---------------------------------------------------------------------------\u001b[0m",
      "\u001b[1;31mTypeError\u001b[0m                                 Traceback (most recent call last)",
      "Cell \u001b[1;32mIn[22], line 2\u001b[0m\n\u001b[0;32m      1\u001b[0m a \u001b[38;5;241m=\u001b[39m {\u001b[38;5;241m1\u001b[39m, \u001b[38;5;241m2\u001b[39m, \u001b[38;5;241m3\u001b[39m}\n\u001b[1;32m----> 2\u001b[0m \u001b[38;5;28mprint\u001b[39m(a[\u001b[38;5;241m1\u001b[39m])\n",
      "\u001b[1;31mTypeError\u001b[0m: 'set' object is not subscriptable"
     ]
    }
   ],
   "source": [
    "a = {1, 2, 3}\n",
    "print(a[1])"
   ]
  },
  {
   "cell_type": "code",
   "execution_count": 23,
   "metadata": {},
   "outputs": [],
   "source": [
    "l = [ i for i in range(100000) ] # 10 万個の要素を持つ list\n",
    "s = { i for i in range(100000) } # 10 万個の要素を持つ set"
   ]
  },
  {
   "cell_type": "code",
   "execution_count": 24,
   "metadata": {},
   "outputs": [
    {
     "name": "stdout",
     "output_type": "stream",
     "text": [
      "100000\n"
     ]
    }
   ],
   "source": [
    "count = 0\n",
    "for i in range(100000):\n",
    "    if i in l:\n",
    "        count += 1\n",
    "print(count)"
   ]
  },
  {
   "cell_type": "code",
   "execution_count": 25,
   "metadata": {},
   "outputs": [
    {
     "name": "stdout",
     "output_type": "stream",
     "text": [
      "100000\n"
     ]
    }
   ],
   "source": [
    "count = 0\n",
    "for i in range(100000):\n",
    "    if i in s:\n",
    "        count += 1\n",
    "print(count)"
   ]
  },
  {
   "cell_type": "code",
   "execution_count": 26,
   "metadata": {},
   "outputs": [
    {
     "name": "stdout",
     "output_type": "stream",
     "text": [
      "10000000\n"
     ]
    }
   ],
   "source": [
    "count = 0\n",
    "for i in range(10000000):\n",
    "    if i % 100000 in s:\n",
    "        count += 1\n",
    "print(count)"
   ]
  },
  {
   "cell_type": "code",
   "execution_count": 27,
   "metadata": {},
   "outputs": [],
   "source": [
    "l = [ i for i in range(10000) ] # 1 万個の要素を持つ list\n",
    "s = { i for i in range(10000) } # 1 万個の要素を持つ set"
   ]
  },
  {
   "cell_type": "code",
   "execution_count": 28,
   "metadata": {},
   "outputs": [
    {
     "name": "stdout",
     "output_type": "stream",
     "text": [
      "100000\n"
     ]
    }
   ],
   "source": [
    "count = 0\n",
    "for i in range(100000):\n",
    "    if i % 10000 in l:\n",
    "        count += 1\n",
    "print(count)"
   ]
  },
  {
   "cell_type": "code",
   "execution_count": 29,
   "metadata": {},
   "outputs": [
    {
     "name": "stdout",
     "output_type": "stream",
     "text": [
      "10000000\n"
     ]
    }
   ],
   "source": [
    "count = 0\n",
    "for i in range(10000000):\n",
    "    if i % 10000 in s:\n",
    "        count += 1\n",
    "print(count)"
   ]
  },
  {
   "cell_type": "code",
   "execution_count": 30,
   "metadata": {},
   "outputs": [],
   "source": [
    "l = [ i for i in range(10) ] # 10 個の要素を持つ list\n",
    "s = { i for i in range(10) } # 10 個の要素を持つ set"
   ]
  },
  {
   "cell_type": "code",
   "execution_count": 31,
   "metadata": {},
   "outputs": [
    {
     "name": "stdout",
     "output_type": "stream",
     "text": [
      "10000000\n"
     ]
    }
   ],
   "source": [
    "count = 0\n",
    "for i in range(10000000):\n",
    "    if i % 10 in l:\n",
    "        count += 1\n",
    "print(count)"
   ]
  },
  {
   "cell_type": "code",
   "execution_count": 32,
   "metadata": {},
   "outputs": [
    {
     "name": "stdout",
     "output_type": "stream",
     "text": [
      "10000000\n"
     ]
    }
   ],
   "source": [
    "count = 0\n",
    "for i in range(10000000):\n",
    "    if i % 10 in s:\n",
    "        count += 1\n",
    "print(count)"
   ]
  },
  {
   "cell_type": "code",
   "execution_count": 33,
   "metadata": {},
   "outputs": [],
   "source": [
    "def enum_markpats(self):\n",
    "    markpats = set()\n",
    " \n",
    "    # 横方向と縦方向の判定\n",
    "    for i in range(self.BOARD_SIZE):\n",
    "        count = self.count_marks(coord=[0, i], dx=1, dy=0)\n",
    "        markpats.add(count)\n",
    "        count = self.count_marks(coord=[i, 0], dx=0, dy=1)\n",
    "        markpats.add(count)\n",
    "    # 左上から右下方向の判定\n",
    "    count = self.count_marks(coord=[0, 0], dx=1, dy=1)\n",
    "    markpats.add(count)\n",
    "    # 右上から左下方向の判定\n",
    "    count = self.count_marks(coord=[2, 0], dx=-1, dy=1)\n",
    "    markpats.add(count)\n",
    "\n",
    "    return markpats\n",
    "\n",
    "Marubatsu.enum_markpats = enum_markpats"
   ]
  },
  {
   "cell_type": "code",
   "execution_count": 34,
   "metadata": {},
   "outputs": [
    {
     "name": "stdout",
     "output_type": "stream",
     "text": [
      "Turn o\n",
      "...\n",
      "...\n",
      "...\n",
      "\n"
     ]
    },
    {
     "ename": "TypeError",
     "evalue": "unhashable type: 'collections.defaultdict'",
     "output_type": "error",
     "traceback": [
      "\u001b[1;31m---------------------------------------------------------------------------\u001b[0m",
      "\u001b[1;31mTypeError\u001b[0m                                 Traceback (most recent call last)",
      "Cell \u001b[1;32mIn[34], line 4\u001b[0m\n\u001b[0;32m      1\u001b[0m mb \u001b[38;5;241m=\u001b[39m Marubatsu()\n\u001b[0;32m      3\u001b[0m \u001b[38;5;28mprint\u001b[39m(mb)\n\u001b[1;32m----> 4\u001b[0m pprint(mb\u001b[38;5;241m.\u001b[39menum_markpats())\n\u001b[0;32m      6\u001b[0m mb\u001b[38;5;241m.\u001b[39mmove(\u001b[38;5;241m1\u001b[39m, \u001b[38;5;241m1\u001b[39m)\n\u001b[0;32m      7\u001b[0m \u001b[38;5;28mprint\u001b[39m(mb)\n",
      "Cell \u001b[1;32mIn[33], line 7\u001b[0m, in \u001b[0;36menum_markpats\u001b[1;34m(self)\u001b[0m\n\u001b[0;32m      5\u001b[0m \u001b[38;5;28;01mfor\u001b[39;00m i \u001b[38;5;129;01min\u001b[39;00m \u001b[38;5;28mrange\u001b[39m(\u001b[38;5;28mself\u001b[39m\u001b[38;5;241m.\u001b[39mBOARD_SIZE):\n\u001b[0;32m      6\u001b[0m     count \u001b[38;5;241m=\u001b[39m \u001b[38;5;28mself\u001b[39m\u001b[38;5;241m.\u001b[39mcount_marks(coord\u001b[38;5;241m=\u001b[39m[\u001b[38;5;241m0\u001b[39m, i], dx\u001b[38;5;241m=\u001b[39m\u001b[38;5;241m1\u001b[39m, dy\u001b[38;5;241m=\u001b[39m\u001b[38;5;241m0\u001b[39m)\n\u001b[1;32m----> 7\u001b[0m     markpats\u001b[38;5;241m.\u001b[39madd(count)\n\u001b[0;32m      8\u001b[0m     count \u001b[38;5;241m=\u001b[39m \u001b[38;5;28mself\u001b[39m\u001b[38;5;241m.\u001b[39mcount_marks(coord\u001b[38;5;241m=\u001b[39m[i, \u001b[38;5;241m0\u001b[39m], dx\u001b[38;5;241m=\u001b[39m\u001b[38;5;241m0\u001b[39m, dy\u001b[38;5;241m=\u001b[39m\u001b[38;5;241m1\u001b[39m)\n\u001b[0;32m      9\u001b[0m     markpats\u001b[38;5;241m.\u001b[39madd(count)\n",
      "\u001b[1;31mTypeError\u001b[0m: unhashable type: 'collections.defaultdict'"
     ]
    }
   ],
   "source": [
    "mb = Marubatsu()\n",
    "\n",
    "print(mb)\n",
    "pprint(mb.enum_markpats())\n",
    "\n",
    "mb.move(1, 1)\n",
    "print(mb)\n",
    "pprint(mb.enum_markpats())\n",
    "\n",
    "mb.move(0, 0)\n",
    "print(mb)\n",
    "pprint(mb.enum_markpats())\n",
    "\n",
    "mb.move(1, 0)\n",
    "print(mb)\n",
    "pprint(mb.enum_markpats())"
   ]
  }
 ],
 "metadata": {
  "kernelspec": {
   "display_name": "marubatsu",
   "language": "python",
   "name": "python3"
  },
  "language_info": {
   "codemirror_mode": {
    "name": "ipython",
    "version": 3
   },
   "file_extension": ".py",
   "mimetype": "text/x-python",
   "name": "python",
   "nbconvert_exporter": "python",
   "pygments_lexer": "ipython3",
   "version": "3.11.4"
  }
 },
 "nbformat": 4,
 "nbformat_minor": 2
}
