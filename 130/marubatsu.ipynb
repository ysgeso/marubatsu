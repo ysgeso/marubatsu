{
 "cells": [
  {
   "cell_type": "code",
   "execution_count": 1,
   "metadata": {},
   "outputs": [],
   "source": [
    "class Add:\n",
    "    def __call__(self, x, y):\n",
    "        return x + y"
   ]
  },
  {
   "cell_type": "code",
   "execution_count": 2,
   "metadata": {},
   "outputs": [
    {
     "name": "stdout",
     "output_type": "stream",
     "text": [
      "3\n"
     ]
    }
   ],
   "source": [
    "add = Add()\n",
    "print(add(1, 2))"
   ]
  },
  {
   "cell_type": "code",
   "execution_count": 3,
   "metadata": {},
   "outputs": [
    {
     "name": "stdout",
     "output_type": "stream",
     "text": [
      "<class '__main__.Add'>\n"
     ]
    }
   ],
   "source": [
    "print(type(add))"
   ]
  },
  {
   "cell_type": "code",
   "execution_count": 4,
   "metadata": {},
   "outputs": [
    {
     "name": "stdout",
     "output_type": "stream",
     "text": [
      "<class 'function'>\n"
     ]
    }
   ],
   "source": [
    "def add_func(x, y):\n",
    "    return x + y\n",
    "\n",
    "print(type(add_func))"
   ]
  },
  {
   "cell_type": "code",
   "execution_count": 5,
   "metadata": {},
   "outputs": [
    {
     "name": "stdout",
     "output_type": "stream",
     "text": [
      "3\n"
     ]
    }
   ],
   "source": [
    "print(add.__call__(1, 2))"
   ]
  },
  {
   "cell_type": "code",
   "execution_count": 6,
   "metadata": {},
   "outputs": [],
   "source": [
    "class Mul:\n",
    "    def mul(self, x, y):\n",
    "        return x * y"
   ]
  },
  {
   "cell_type": "code",
   "execution_count": 7,
   "metadata": {},
   "outputs": [
    {
     "name": "stdout",
     "output_type": "stream",
     "text": [
      "2\n",
      "2\n"
     ]
    }
   ],
   "source": [
    "mul = Mul()\n",
    "print(mul.mul(1, 2))\n",
    "print(mul.mul.__call__(1, 2))"
   ]
  },
  {
   "cell_type": "code",
   "execution_count": 8,
   "metadata": {},
   "outputs": [],
   "source": [
    "from datetime import datetime\n",
    "\n",
    "def create_show_time(func):\n",
    "    def show_time(*args, **kwargs):\n",
    "        starttime = datetime.now()\n",
    "        retval = func(*args, **kwargs)\n",
    "        endtime = datetime.now()\n",
    "        print(endtime - starttime)\n",
    "        return retval\n",
    "    \n",
    "    return show_time"
   ]
  },
  {
   "cell_type": "code",
   "execution_count": 9,
   "metadata": {},
   "outputs": [],
   "source": [
    "class Showtime:\n",
    "    def __init__(self, func):\n",
    "        self.func = func\n",
    "        \n",
    "    def __call__(self, *args, **kwargs):\n",
    "        starttime = datetime.now()\n",
    "        retval = self.func(*args, **kwargs)\n",
    "        endtime = datetime.now()\n",
    "        print(endtime - starttime)\n",
    "        return retval"
   ]
  },
  {
   "cell_type": "code",
   "execution_count": 10,
   "metadata": {},
   "outputs": [],
   "source": [
    "@Showtime\n",
    "def add_1(x):\n",
    "    return x + 1"
   ]
  },
  {
   "cell_type": "code",
   "execution_count": 11,
   "metadata": {},
   "outputs": [
    {
     "name": "stdout",
     "output_type": "stream",
     "text": [
      "0:00:00\n",
      "2\n"
     ]
    }
   ],
   "source": [
    "print(add_1(1))"
   ]
  },
  {
   "cell_type": "code",
   "execution_count": 12,
   "metadata": {},
   "outputs": [],
   "source": [
    "class XY:\n",
    "    def __init__(self, x, y):\n",
    "        self.x = x\n",
    "        self.y = y\n",
    "\n",
    "    def printx(self):\n",
    "        print(self.x)\n",
    "\n",
    "    def printy(self):\n",
    "        print(self.y)"
   ]
  },
  {
   "cell_type": "code",
   "execution_count": 13,
   "metadata": {},
   "outputs": [
    {
     "name": "stdout",
     "output_type": "stream",
     "text": [
      "1\n",
      "2\n"
     ]
    }
   ],
   "source": [
    "xy = XY(1, 2)\n",
    "xy.printx()\n",
    "xy.printy()"
   ]
  },
  {
   "cell_type": "code",
   "execution_count": 14,
   "metadata": {},
   "outputs": [],
   "source": [
    "def create_xy(x, y):\n",
    "    def printx():\n",
    "        print(x)\n",
    "\n",
    "    def printy():\n",
    "        print(y)\n",
    "\n",
    "    return { \"printx\": printx, \"printy\": printy }"
   ]
  },
  {
   "cell_type": "code",
   "execution_count": 15,
   "metadata": {},
   "outputs": [
    {
     "name": "stdout",
     "output_type": "stream",
     "text": [
      "1\n",
      "2\n"
     ]
    }
   ],
   "source": [
    "xy2 = create_xy(1, 2)\n",
    "xy2[\"printx\"]()\n",
    "xy2[\"printy\"]()"
   ]
  },
  {
   "cell_type": "code",
   "execution_count": 16,
   "metadata": {},
   "outputs": [],
   "source": [
    "class Mul:\n",
    "    @create_show_time\n",
    "    def mul(self, x, y):\n",
    "        return x * y\n",
    "    "
   ]
  },
  {
   "cell_type": "code",
   "execution_count": 17,
   "metadata": {},
   "outputs": [
    {
     "name": "stdout",
     "output_type": "stream",
     "text": [
      "0:00:00\n",
      "2\n"
     ]
    }
   ],
   "source": [
    "mul = Mul()\n",
    "print(mul.mul(1, 2))"
   ]
  },
  {
   "cell_type": "code",
   "execution_count": 18,
   "metadata": {},
   "outputs": [
    {
     "ename": "TypeError",
     "evalue": "Mul.mul() missing 1 required positional argument: 'y'",
     "output_type": "error",
     "traceback": [
      "\u001b[1;31m---------------------------------------------------------------------------\u001b[0m",
      "\u001b[1;31mTypeError\u001b[0m                                 Traceback (most recent call last)",
      "Cell \u001b[1;32mIn[18], line 7\u001b[0m\n\u001b[0;32m      4\u001b[0m         \u001b[38;5;28;01mreturn\u001b[39;00m x \u001b[38;5;241m*\u001b[39m y\n\u001b[0;32m      6\u001b[0m mul \u001b[38;5;241m=\u001b[39m Mul()\n\u001b[1;32m----> 7\u001b[0m \u001b[38;5;28mprint\u001b[39m(mul\u001b[38;5;241m.\u001b[39mmul(\u001b[38;5;241m1\u001b[39m, \u001b[38;5;241m2\u001b[39m))\n",
      "Cell \u001b[1;32mIn[9], line 7\u001b[0m, in \u001b[0;36mShowtime.__call__\u001b[1;34m(self, *args, **kwargs)\u001b[0m\n\u001b[0;32m      5\u001b[0m \u001b[38;5;28;01mdef\u001b[39;00m \u001b[38;5;21m__call__\u001b[39m(\u001b[38;5;28mself\u001b[39m, \u001b[38;5;241m*\u001b[39margs, \u001b[38;5;241m*\u001b[39m\u001b[38;5;241m*\u001b[39mkwargs):\n\u001b[0;32m      6\u001b[0m     starttime \u001b[38;5;241m=\u001b[39m datetime\u001b[38;5;241m.\u001b[39mnow()\n\u001b[1;32m----> 7\u001b[0m     retval \u001b[38;5;241m=\u001b[39m \u001b[38;5;28mself\u001b[39m\u001b[38;5;241m.\u001b[39mfunc(\u001b[38;5;241m*\u001b[39margs, \u001b[38;5;241m*\u001b[39m\u001b[38;5;241m*\u001b[39mkwargs)\n\u001b[0;32m      8\u001b[0m     endtime \u001b[38;5;241m=\u001b[39m datetime\u001b[38;5;241m.\u001b[39mnow()\n\u001b[0;32m      9\u001b[0m     \u001b[38;5;28mprint\u001b[39m(endtime \u001b[38;5;241m-\u001b[39m starttime)\n",
      "\u001b[1;31mTypeError\u001b[0m: Mul.mul() missing 1 required positional argument: 'y'"
     ]
    }
   ],
   "source": [
    "class Mul:\n",
    "    @Showtime\n",
    "    def mul(self, x, y):\n",
    "        return x * y\n",
    "    \n",
    "mul = Mul()\n",
    "print(mul.mul(1, 2))"
   ]
  },
  {
   "cell_type": "code",
   "execution_count": 19,
   "metadata": {},
   "outputs": [],
   "source": [
    "from ai import dprint\n",
    "from functools import wraps\n",
    "from copy import deepcopy\n",
    "from random import choice\n",
    "\n",
    "def ai_by_score(eval_func):\n",
    "    @wraps(eval_func)\n",
    "    def wrapper(mb_orig, debug=False, rand=True, analyze=False):\n",
    "        dprint(debug, \"Start ai_by_score\")\n",
    "        dprint(debug, mb_orig)\n",
    "        legal_moves = mb_orig.calc_legal_moves()\n",
    "        dprint(debug, \"legal_moves\", legal_moves)\n",
    "        best_score = float(\"-inf\")\n",
    "        best_moves = []\n",
    "        if analyze:\n",
    "            score_by_move = {}\n",
    "        for move in legal_moves:\n",
    "            dprint(debug, \"=\" * 20)\n",
    "            dprint(debug, \"move\", move)\n",
    "            mb = deepcopy(mb_orig)\n",
    "            x, y = move\n",
    "            mb.move(x, y)\n",
    "            dprint(debug, mb)\n",
    "            \n",
    "            score = eval_func(mb)\n",
    "            dprint(debug, \"score\", score, \"best score\", best_score)\n",
    "            if analyze:\n",
    "                score_by_move[move] = score\n",
    "            \n",
    "            if best_score < score:\n",
    "                best_score = score\n",
    "                best_moves = [move]\n",
    "                dprint(debug, \"UPDATE\")\n",
    "                dprint(debug, \"  best score\", best_score)\n",
    "                dprint(debug, \"  best moves\", best_moves)\n",
    "            elif best_score == score:\n",
    "                best_moves.append(move)\n",
    "                dprint(debug, \"APPEND\")\n",
    "                dprint(debug, \"  best moves\", best_moves)\n",
    "\n",
    "        dprint(debug, \"=\" * 20)\n",
    "        dprint(debug, \"Finished\")\n",
    "        dprint(debug, \"best score\", best_score)\n",
    "        dprint(debug, \"best moves\", best_moves)\n",
    "        if analyze:\n",
    "            return {\n",
    "                \"candidate\": best_moves,\n",
    "                \"score_by_move\": score_by_move,\n",
    "            }\n",
    "        elif rand:   \n",
    "            return choice(best_moves)\n",
    "        else:\n",
    "            return best_moves[0]\n",
    "        \n",
    "    return wrapper"
   ]
  },
  {
   "cell_type": "code",
   "execution_count": 20,
   "metadata": {},
   "outputs": [],
   "source": [
    "@ai_by_score\n",
    "def ai2s(mb):\n",
    "    return 0"
   ]
  },
  {
   "cell_type": "code",
   "execution_count": 21,
   "metadata": {},
   "outputs": [
    {
     "name": "stdout",
     "output_type": "stream",
     "text": [
      "(2, 0)\n"
     ]
    }
   ],
   "source": [
    "from marubatsu import Marubatsu\n",
    "\n",
    "mb = Marubatsu()\n",
    "print(ai2s(mb))"
   ]
  },
  {
   "cell_type": "code",
   "execution_count": 22,
   "metadata": {},
   "outputs": [
    {
     "name": "stdout",
     "output_type": "stream",
     "text": [
      "Start ai_by_score\n",
      "Turn o\n",
      "...\n",
      "...\n",
      "...\n",
      "\n",
      "legal_moves [(0, 0), (1, 0), (2, 0), (0, 1), (1, 1), (2, 1), (0, 2), (1, 2), (2, 2)]\n",
      "====================\n",
      "move (0, 0)\n",
      "Turn x\n",
      "O..\n",
      "...\n",
      "...\n",
      "\n",
      "score 0 best score -inf\n",
      "UPDATE\n",
      "  best score 0\n",
      "  best moves [(0, 0)]\n",
      "====================\n",
      "move (1, 0)\n",
      "Turn x\n",
      ".O.\n",
      "...\n",
      "...\n",
      "\n",
      "score 0 best score 0\n",
      "APPEND\n",
      "  best moves [(0, 0), (1, 0)]\n",
      "====================\n",
      "move (2, 0)\n",
      "Turn x\n",
      "..O\n",
      "...\n",
      "...\n",
      "\n",
      "score 0 best score 0\n",
      "APPEND\n",
      "  best moves [(0, 0), (1, 0), (2, 0)]\n",
      "====================\n",
      "move (0, 1)\n",
      "Turn x\n",
      "...\n",
      "O..\n",
      "...\n",
      "\n",
      "score 0 best score 0\n",
      "APPEND\n",
      "  best moves [(0, 0), (1, 0), (2, 0), (0, 1)]\n",
      "====================\n",
      "move (1, 1)\n",
      "Turn x\n",
      "...\n",
      ".O.\n",
      "...\n",
      "\n",
      "score 0 best score 0\n",
      "APPEND\n",
      "  best moves [(0, 0), (1, 0), (2, 0), (0, 1), (1, 1)]\n",
      "====================\n",
      "move (2, 1)\n",
      "Turn x\n",
      "...\n",
      "..O\n",
      "...\n",
      "\n",
      "score 0 best score 0\n",
      "APPEND\n",
      "  best moves [(0, 0), (1, 0), (2, 0), (0, 1), (1, 1), (2, 1)]\n",
      "====================\n",
      "move (0, 2)\n",
      "Turn x\n",
      "...\n",
      "...\n",
      "O..\n",
      "\n",
      "score 0 best score 0\n",
      "APPEND\n",
      "  best moves [(0, 0), (1, 0), (2, 0), (0, 1), (1, 1), (2, 1), (0, 2)]\n",
      "====================\n",
      "move (1, 2)\n",
      "Turn x\n",
      "...\n",
      "...\n",
      ".O.\n",
      "\n",
      "score 0 best score 0\n",
      "APPEND\n",
      "  best moves [(0, 0), (1, 0), (2, 0), (0, 1), (1, 1), (2, 1), (0, 2), (1, 2)]\n",
      "====================\n",
      "move (2, 2)\n",
      "Turn x\n",
      "...\n",
      "...\n",
      "..O\n",
      "\n",
      "score 0 best score 0\n",
      "APPEND\n",
      "  best moves [(0, 0), (1, 0), (2, 0), (0, 1), (1, 1), (2, 1), (0, 2), (1, 2), (2, 2)]\n",
      "====================\n",
      "Finished\n",
      "best score 0\n",
      "best moves [(0, 0), (1, 0), (2, 0), (0, 1), (1, 1), (2, 1), (0, 2), (1, 2), (2, 2)]\n",
      "(2, 2)\n"
     ]
    }
   ],
   "source": [
    "print(ai2s(mb, debug=True))"
   ]
  },
  {
   "cell_type": "code",
   "execution_count": 23,
   "metadata": {},
   "outputs": [
    {
     "name": "stdout",
     "output_type": "stream",
     "text": [
      "(0, 0)\n"
     ]
    }
   ],
   "source": [
    "print(ai2s(mb, rand=False))"
   ]
  },
  {
   "cell_type": "code",
   "execution_count": 24,
   "metadata": {},
   "outputs": [
    {
     "name": "stdout",
     "output_type": "stream",
     "text": [
      "{'candidate': [(0, 0),\n",
      "               (1, 0),\n",
      "               (2, 0),\n",
      "               (0, 1),\n",
      "               (1, 1),\n",
      "               (2, 1),\n",
      "               (0, 2),\n",
      "               (1, 2),\n",
      "               (2, 2)],\n",
      " 'score_by_move': {(0, 0): 0,\n",
      "                   (0, 1): 0,\n",
      "                   (0, 2): 0,\n",
      "                   (1, 0): 0,\n",
      "                   (1, 1): 0,\n",
      "                   (1, 2): 0,\n",
      "                   (2, 0): 0,\n",
      "                   (2, 1): 0,\n",
      "                   (2, 2): 0}}\n"
     ]
    }
   ],
   "source": [
    "from pprint import pprint\n",
    "\n",
    "pprint(ai2s(mb, analyze=True))"
   ]
  }
 ],
 "metadata": {
  "kernelspec": {
   "display_name": "marubatsu",
   "language": "python",
   "name": "python3"
  },
  "language_info": {
   "codemirror_mode": {
    "name": "ipython",
    "version": 3
   },
   "file_extension": ".py",
   "mimetype": "text/x-python",
   "name": "python",
   "nbconvert_exporter": "python",
   "pygments_lexer": "ipython3",
   "version": "3.11.4"
  }
 },
 "nbformat": 4,
 "nbformat_minor": 2
}
