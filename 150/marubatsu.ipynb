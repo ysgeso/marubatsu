{
 "cells": [
  {
   "cell_type": "code",
   "execution_count": 1,
   "metadata": {},
   "outputs": [
    {
     "name": "stdout",
     "output_type": "stream",
     "text": [
      "計算したノードの数 18297\n",
      "枝狩りしたノードの数 531649\n",
      "合計 549946\n",
      "割合 3.3%\n"
     ]
    }
   ],
   "source": [
    "from tree import Mbtree\n",
    "\n",
    "mbtree = Mbtree.load(\"../data/abtree_root\")\n",
    "mbtree.calc_score_by_ab(mbtree.root, debug=True)"
   ]
  },
  {
   "cell_type": "code",
   "execution_count": 2,
   "metadata": {},
   "outputs": [
    {
     "name": "stdout",
     "output_type": "stream",
     "text": [
      "計算したノードの数 20866\n",
      "枝狩りしたノードの数 529080\n",
      "合計 549946\n",
      "割合 3.8%\n"
     ]
    }
   ],
   "source": [
    "mbtree = Mbtree.load(\"../data/abtree_sv_root\")\n",
    "mbtree.calc_score_by_ab(mbtree.root, debug=True)"
   ]
  },
  {
   "cell_type": "code",
   "execution_count": 3,
   "metadata": {},
   "outputs": [],
   "source": [
    "from tree import Mbtree\n",
    "\n",
    "def move_bestmove_to_head(self):\n",
    "    for node in self.nodelist:\n",
    "        for i, childnode in enumerate(node.children):\n",
    "            if node.score == childnode.score:\n",
    "                node.children[0], node.children[i] = node.children[i], node.children[0]\n",
    "                break\n",
    "            \n",
    "Mbtree.move_bestmove_to_head = move_bestmove_to_head"
   ]
  },
  {
   "cell_type": "code",
   "execution_count": 4,
   "metadata": {},
   "outputs": [
    {
     "name": "stdout",
     "output_type": "stream",
     "text": [
      "計算したノードの数 2312\n",
      "枝狩りしたノードの数 547634\n",
      "合計 549946\n",
      "割合 0.4%\n"
     ]
    }
   ],
   "source": [
    "mbtree = Mbtree(algo=\"df\")\n",
    "mbtree.move_bestmove_to_head()\n",
    "mbtree.calc_score_by_ab(mbtree.root, debug=True)"
   ]
  },
  {
   "cell_type": "code",
   "execution_count": 5,
   "metadata": {},
   "outputs": [],
   "source": [
    "def move_ai_bestmove_to_head(self, ai, params={}):\n",
    "    for node in self.nodelist:\n",
    "        if len(node.children) > 0:\n",
    "            bestmove = ai(node.mb, **params)\n",
    "            bestnode = node.children_by_move[bestmove]\n",
    "            i = node.children.index(bestnode)\n",
    "            node.children[0], node.children[i] = node.children[i], node.children[0]\n",
    "            \n",
    "Mbtree.move_ai_bestmove_to_head = move_ai_bestmove_to_head"
   ]
  },
  {
   "cell_type": "code",
   "execution_count": 6,
   "metadata": {},
   "outputs": [
    {
     "name": "stdout",
     "output_type": "stream",
     "text": [
      "ai1s\n",
      "計算したノードの数 18297\n",
      "枝狩りしたノードの数 531649\n",
      "合計 549946\n",
      "割合 3.3%\n",
      "ai2s\n",
      "計算したノードの数 14941\n",
      "枝狩りしたノードの数 535005\n",
      "合計 549946\n",
      "割合 2.7%\n",
      "ai3s\n",
      "計算したノードの数 8906\n",
      "枝狩りしたノードの数 541040\n",
      "合計 549946\n",
      "割合 1.6%\n",
      "ai4s\n",
      "計算したノードの数 8461\n",
      "枝狩りしたノードの数 541485\n",
      "合計 549946\n",
      "割合 1.5%\n",
      "ai5s\n",
      "計算したノードの数 5721\n",
      "枝狩りしたノードの数 544225\n",
      "合計 549946\n",
      "割合 1.0%\n",
      "ai6s\n",
      "計算したノードの数 4839\n",
      "枝狩りしたノードの数 545107\n",
      "合計 549946\n",
      "割合 0.9%\n",
      "ai7s\n",
      "計算したノードの数 2156\n",
      "枝狩りしたノードの数 547790\n",
      "合計 549946\n",
      "割合 0.4%\n",
      "ai8s\n",
      "計算したノードの数 1918\n",
      "枝狩りしたノードの数 548028\n",
      "合計 549946\n",
      "割合 0.3%\n",
      "ai9s\n",
      "計算したノードの数 1756\n",
      "枝狩りしたノードの数 548190\n",
      "合計 549946\n",
      "割合 0.3%\n",
      "ai10s\n",
      "計算したノードの数 2337\n",
      "枝狩りしたノードの数 547609\n",
      "合計 549946\n",
      "割合 0.4%\n",
      "ai11s\n",
      "計算したノードの数 1582\n",
      "枝狩りしたノードの数 548364\n",
      "合計 549946\n",
      "割合 0.3%\n",
      "ai12s\n",
      "計算したノードの数 1496\n",
      "枝狩りしたノードの数 548450\n",
      "合計 549946\n",
      "割合 0.3%\n",
      "ai13s\n",
      "計算したノードの数 1496\n",
      "枝狩りしたノードの数 548450\n",
      "合計 549946\n",
      "割合 0.3%\n",
      "ai14s\n",
      "計算したノードの数 1496\n",
      "枝狩りしたノードの数 548450\n",
      "合計 549946\n",
      "割合 0.3%\n"
     ]
    }
   ],
   "source": [
    "import ai as ai_module\n",
    "\n",
    "for i in range(1, 15):\n",
    "    ainame = f\"ai{i}s\"\n",
    "    print(ainame)\n",
    "    ai = getattr(ai_module, ainame)\n",
    "    mbtree.move_ai_bestmove_to_head(ai)\n",
    "    mbtree.calc_score_by_ab(mbtree.root, debug=True)"
   ]
  },
  {
   "cell_type": "code",
   "execution_count": 7,
   "metadata": {},
   "outputs": [
    {
     "name": "stdout",
     "output_type": "stream",
     "text": [
      "[1, 2, 3, 4, 5]\n"
     ]
    }
   ],
   "source": [
    "a = [3, 1, 2, 5, 4]\n",
    "a.sort()\n",
    "print(a)"
   ]
  },
  {
   "cell_type": "code",
   "execution_count": 8,
   "metadata": {},
   "outputs": [
    {
     "name": "stdout",
     "output_type": "stream",
     "text": [
      "[3, 1, 2, 5, 4]\n",
      "[1, 2, 3, 4, 5]\n"
     ]
    }
   ],
   "source": [
    "a = [3, 1, 2, 5, 4]\n",
    "b = sorted(a)\n",
    "print(a)\n",
    "print(b)"
   ]
  },
  {
   "cell_type": "code",
   "execution_count": 9,
   "metadata": {},
   "outputs": [
    {
     "name": "stdout",
     "output_type": "stream",
     "text": [
      "(3, 1, 2, 5, 4)\n",
      "[1, 2, 3, 4, 5]\n"
     ]
    }
   ],
   "source": [
    "a = (3, 1, 2, 5, 4)\n",
    "b = sorted(a)\n",
    "print(a)\n",
    "print(b)"
   ]
  },
  {
   "cell_type": "code",
   "execution_count": 10,
   "metadata": {},
   "outputs": [
    {
     "name": "stdout",
     "output_type": "stream",
     "text": [
      "[5, 4, 3, 2, 1]\n",
      "[3, 1, 2, 5, 4]\n",
      "[5, 4, 3, 2, 1]\n"
     ]
    }
   ],
   "source": [
    "a = [3, 1, 2, 5, 4]\n",
    "a.sort(reverse=True)\n",
    "print(a)\n",
    "a = [3, 1, 2, 5, 4]\n",
    "b = sorted(a, reverse=True)\n",
    "print(a)\n",
    "print(b)"
   ]
  },
  {
   "cell_type": "code",
   "execution_count": 12,
   "metadata": {},
   "outputs": [
    {
     "name": "stdout",
     "output_type": "stream",
     "text": [
      "True\n"
     ]
    }
   ],
   "source": [
    "print(\"abc\" > \"ABC\")\n"
   ]
  },
  {
   "cell_type": "code",
   "execution_count": 13,
   "metadata": {},
   "outputs": [
    {
     "ename": "TypeError",
     "evalue": "'<' not supported between instances of 'Node' and 'Node'",
     "output_type": "error",
     "traceback": [
      "\u001b[1;31m---------------------------------------------------------------------------\u001b[0m",
      "\u001b[1;31mTypeError\u001b[0m                                 Traceback (most recent call last)",
      "Cell \u001b[1;32mIn[13], line 1\u001b[0m\n\u001b[1;32m----> 1\u001b[0m mbtree\u001b[38;5;241m.\u001b[39mroot\u001b[38;5;241m.\u001b[39mchildren\u001b[38;5;241m.\u001b[39msort()\n",
      "\u001b[1;31mTypeError\u001b[0m: '<' not supported between instances of 'Node' and 'Node'"
     ]
    }
   ],
   "source": [
    "mbtree.root.children.sort()"
   ]
  },
  {
   "cell_type": "code",
   "execution_count": 24,
   "metadata": {},
   "outputs": [
    {
     "name": "stdout",
     "output_type": "stream",
     "text": [
      "[{'name': 'apple', 'price': 100},\n",
      " {'name': 'orange', 'price': 200},\n",
      " {'name': 'melon', 'price': 1000}]\n"
     ]
    }
   ],
   "source": [
    "from pprint import pprint\n",
    "\n",
    "fruits = [\n",
    "    { \"name\": \"orange\", \"price\": 200},\n",
    "    { \"name\": \"melon\", \"price\": 1000},\n",
    "    { \"name\": \"apple\", \"price\": 100},\n",
    "]\n",
    "\n",
    "def keyfunc(fruit):\n",
    "    return fruit[\"price\"]\n",
    "\n",
    "fruits.sort(key=keyfunc)\n",
    "pprint(fruits)"
   ]
  },
  {
   "cell_type": "code",
   "execution_count": 23,
   "metadata": {},
   "outputs": [
    {
     "name": "stdout",
     "output_type": "stream",
     "text": [
      "[{'name': 'apple', 'price': 100},\n",
      " {'name': 'orange', 'price': 200},\n",
      " {'name': 'melon', 'price': 1000}]\n"
     ]
    }
   ],
   "source": [
    "fruits = [\n",
    "    { \"name\": \"orange\", \"price\": 200},\n",
    "    { \"name\": \"melon\", \"price\": 1000},\n",
    "    { \"name\": \"apple\", \"price\": 100},\n",
    "]\n",
    "\n",
    "fruits.sort(key=lambda fruit: fruit[\"price\"])\n",
    "pprint(fruits)"
   ]
  },
  {
   "cell_type": "code",
   "execution_count": 25,
   "metadata": {},
   "outputs": [
    {
     "name": "stdout",
     "output_type": "stream",
     "text": [
      "{'name': 'melon', 'price': 1000}\n"
     ]
    }
   ],
   "source": [
    "fruits = [\n",
    "    { \"name\": \"orange\", \"price\": 200},\n",
    "    { \"name\": \"melon\", \"price\": 1000},\n",
    "    { \"name\": \"apple\", \"price\": 100},\n",
    "]\n",
    "\n",
    "print(max(fruits, key=lambda fruit: fruit[\"price\"]))"
   ]
  },
  {
   "cell_type": "code",
   "execution_count": 19,
   "metadata": {},
   "outputs": [],
   "source": [
    "from marubatsu import Marubatsu\n",
    "\n",
    "def sort_children_by_worst_score(self):\n",
    "    for node in self.nodelist:\n",
    "        reverse = False if node.mb.turn == Marubatsu.CIRCLE else True\n",
    "        node.children.sort(key=lambda childnode: childnode.score, reverse=reverse)\n",
    "    \n",
    "Mbtree.sort_children_by_worst_score = sort_children_by_worst_score"
   ]
  },
  {
   "cell_type": "code",
   "execution_count": 20,
   "metadata": {},
   "outputs": [
    {
     "name": "stdout",
     "output_type": "stream",
     "text": [
      "計算したノードの数 198837\n",
      "枝狩りしたノードの数 351109\n",
      "合計 549946\n",
      "割合 36.2%\n"
     ]
    }
   ],
   "source": [
    "mbtree = Mbtree(algo=\"df\")\n",
    "mbtree.sort_children_by_worst_score()\n",
    "mbtree.calc_score_by_ab(mbtree.root, debug=True)"
   ]
  }
 ],
 "metadata": {
  "kernelspec": {
   "display_name": "marubatsu",
   "language": "python",
   "name": "python3"
  },
  "language_info": {
   "codemirror_mode": {
    "name": "ipython",
    "version": 3
   },
   "file_extension": ".py",
   "mimetype": "text/x-python",
   "name": "python",
   "nbconvert_exporter": "python",
   "pygments_lexer": "ipython3",
   "version": "3.11.4"
  }
 },
 "nbformat": 4,
 "nbformat_minor": 2
}
