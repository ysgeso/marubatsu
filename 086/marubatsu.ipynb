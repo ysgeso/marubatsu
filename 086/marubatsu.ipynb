{
 "cells": [
  {
   "cell_type": "code",
   "execution_count": 1,
   "metadata": {},
   "outputs": [
    {
     "data": {
      "application/vnd.jupyter.widget-view+json": {
       "model_id": "a0ec9b36cf7749908193780d721f5b9d",
       "version_major": 2,
       "version_minor": 0
      },
      "text/plain": [
       "Checkbox(value=True, description='乱数の種', indent=False)"
      ]
     },
     "metadata": {},
     "output_type": "display_data"
    }
   ],
   "source": [
    "import ipywidgets as widgets\n",
    "\n",
    "display(widgets.Checkbox(value=True, description=\"乱数の種\", indent=False))"
   ]
  },
  {
   "cell_type": "code",
   "execution_count": 2,
   "metadata": {},
   "outputs": [
    {
     "data": {
      "application/vnd.jupyter.widget-view+json": {
       "model_id": "8127773f7ad94b12a48801b99df44dd6",
       "version_major": 2,
       "version_minor": 0
      },
      "text/plain": [
       "IntText(value=0)"
      ]
     },
     "metadata": {},
     "output_type": "display_data"
    }
   ],
   "source": [
    "display(widgets.IntText())"
   ]
  },
  {
   "cell_type": "code",
   "execution_count": 3,
   "metadata": {},
   "outputs": [],
   "source": [
    "from marubatsu import Marubatsu_GUI\n",
    "\n",
    "def __init__(self, mb, ai_dict=None, seed=None, size=3):   \n",
    "    # ai_dict が None の場合は、空の list で置き換える\n",
    "    if ai_dict is None:\n",
    "        ai_dict = {}\n",
    "\n",
    "    self.mb = mb\n",
    "    self.ai_dict = ai_dict\n",
    "    self.seed=seed\n",
    "    self.size = size\n",
    "\n",
    "    # ai_dict が None の場合は、空の list で置き換える\n",
    "    if ai_dict is None:\n",
    "        self.ai_dict = {}\n",
    "\n",
    "    # %matplotlib widget のマジックコマンドを実行する\n",
    "    get_ipython().run_line_magic('matplotlib', 'widget')\n",
    "    \n",
    "    self.create_widgets()\n",
    "    self.create_event_handler()\n",
    "    self.display_widgets() \n",
    "\n",
    "Marubatsu_GUI.__init__ = __init__"
   ]
  },
  {
   "cell_type": "code",
   "execution_count": 4,
   "metadata": {},
   "outputs": [],
   "source": [
    "from marubatsu import Marubatsu\n",
    "\n",
    "def play(self, ai, ai_dict=None, params=None, verbose=True, seed=None, gui=False, size=3):   \n",
    "    # params が None の場合のデフォルト値を設定する\n",
    "    if params is None:\n",
    "        params = [{}, {}]\n",
    "        \n",
    "    # 一部の仮引数をインスタンスの属性に代入する\n",
    "    self.ai = ai\n",
    "    self.params = params\n",
    "    self.verbose = verbose\n",
    "    self.gui = gui\n",
    "    \n",
    "    # seed が None でない場合は、seed を乱数の種として設定する\n",
    "    if seed is not None:\n",
    "        random.seed(seed)\n",
    "\n",
    "    # gui が True の場合に、GUI の処理を行う Marubatsu_GUI のインスタンスを作成する\n",
    "    if gui:\n",
    "        mb_gui = Marubatsu_GUI(self, ai_dict=ai_dict, seed=seed, size=size)  \n",
    "    else:\n",
    "        mb_gui = None\n",
    "        \n",
    "    self.restart()\n",
    "    return self.play_loop(mb_gui)\n",
    "\n",
    "Marubatsu.play = play"
   ]
  },
  {
   "cell_type": "code",
   "execution_count": 5,
   "metadata": {},
   "outputs": [],
   "source": [
    "def create_widgets(self):\n",
    "    # 乱数の種の Checkbox と IntText を作成する\n",
    "    self.checkbox = widgets.Checkbox(value=self.seed is not None, description=\"乱数の種\",\n",
    "                                     indent=False, layout=widgets.Layout(width=\"100px\"))\n",
    "    self.inttext = widgets.IntText(value=0 if self.seed is None else self.seed,\n",
    "                                   layout=widgets.Layout(width=\"100px\"))   \n",
    "    \n",
    "    # AI を選択する Dropdown を作成する\n",
    "    self.create_dropdown()\n",
    "    # 変更、リセット、待ったボタンを作成する\n",
    "    self.change_button = self.create_button(\"変更\", 50)\n",
    "    self.reset_button = self.create_button(\"リセット\", 80)\n",
    "    self.undo_button = self.create_button(\"待った\", 60)    \n",
    "    \n",
    "    # リプレイのボタンとスライダーを作成する\n",
    "    self.first_button = self.create_button(\"<<\", 50)\n",
    "    self.prev_button = self.create_button(\"<\", 50)\n",
    "    self.next_button = self.create_button(\">\", 50)\n",
    "    self.last_button = self.create_button(\">>\", 50)     \n",
    "    self.slider = widgets.IntSlider(layout=widgets.Layout(width=\"200px\"))\n",
    "    # ゲーム盤の画像を表す figure を作成する\n",
    "    self.create_figure()       \n",
    "    \n",
    "Marubatsu_GUI.create_widgets = create_widgets"
   ]
  },
  {
   "cell_type": "code",
   "execution_count": 6,
   "metadata": {},
   "outputs": [],
   "source": [
    "def display_widgets(self):\n",
    "    # 乱数の種のウィジェットを横に配置した HBox を作成する\n",
    "    hbox1 = widgets.HBox([self.checkbox, self.inttext])\n",
    "    # 〇 と × の dropdown とボタンを横に配置した HBox を作成する\n",
    "    hbox2 = widgets.HBox([self.dropdown_list[0], self.dropdown_list[1], self.change_button, self.reset_button, self.undo_button])\n",
    "    # リプレイ機能のボタンを横に配置した HBox を作成する\n",
    "    hbox3 = widgets.HBox([self.first_button, self.prev_button, self.next_button, self.last_button, self.slider]) \n",
    "    # hbox1 ~ hbox3 を縦に配置した VBox を作成し、表示する\n",
    "    display(widgets.VBox([hbox1, hbox2, hbox3])) \n",
    "    \n",
    "Marubatsu_GUI.display_widgets = display_widgets"
   ]
  },
  {
   "cell_type": "code",
   "execution_count": 7,
   "metadata": {},
   "outputs": [
    {
     "data": {
      "application/vnd.jupyter.widget-view+json": {
       "model_id": "61db829482414fab92625829e98f44f4",
       "version_major": 2,
       "version_minor": 0
      },
      "text/plain": [
       "VBox(children=(HBox(children=(Checkbox(value=False, description='乱数の種', indent=False, layout=Layout(width='100…"
      ]
     },
     "metadata": {},
     "output_type": "display_data"
    },
    {
     "data": {
      "application/vnd.jupyter.widget-view+json": {
       "model_id": "36512fd60f564f3f8f68b35725c97abd",
       "version_major": 2,
       "version_minor": 0
      },
      "image/png": "[encoded data removed]",
      "text/html": [
       "\n",
       "            <div style=\"display: inline-block;\">\n",
       "                <div class=\"jupyter-widgets widget-label\" style=\"text-align: center;\">\n",
       "                    Figure\n",
       "                </div>\n",
       "                <img src='data:image/png;base64,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' width=300.0/>\n",
       "            </div>\n",
       "        "
      ],
      "text/plain": [
       "Canvas(footer_visible=False, header_visible=False, resizable=False, toolbar=Toolbar(toolitems=[('Home', 'Reset…"
      ]
     },
     "metadata": {},
     "output_type": "display_data"
    }
   ],
   "source": [
    "from util import gui_play\n",
    "\n",
    "gui_play()\n"
   ]
  },
  {
   "cell_type": "code",
   "execution_count": 8,
   "metadata": {},
   "outputs": [],
   "source": [
    "import ai as ai_module\n",
    "import random\n",
    "\n",
    "def gui_play(ai=None, ai_dict=None, seed=None):\n",
    "    # ai が None の場合は、人間どうしの対戦を行う\n",
    "    if ai is None:\n",
    "        ai = [None, None]\n",
    "    # ai_dict が None の場合は、ai1s ~ ai14s の Dropdown を作成するためのデータを計算する\n",
    "    if ai_dict is None:\n",
    "        ai_dict = { \"人間\": \"人間\"}\n",
    "        for i in range(1, 15):\n",
    "            ai_name = f\"ai{i}s\"  \n",
    "            ai_dict[ai_name] = getattr(ai_module, ai_name)\n",
    "    \n",
    "    mb = Marubatsu()\n",
    "    mb.play(ai=ai, ai_dict=ai_dict, seed=seed, gui=True)"
   ]
  },
  {
   "cell_type": "code",
   "execution_count": 9,
   "metadata": {},
   "outputs": [
    {
     "data": {
      "application/vnd.jupyter.widget-view+json": {
       "model_id": "13ef104e1b1b4b6e89fa52997e080d02",
       "version_major": 2,
       "version_minor": 0
      },
      "text/plain": [
       "VBox(children=(HBox(children=(Checkbox(value=True, description='乱数の種', indent=False, layout=Layout(width='100p…"
      ]
     },
     "metadata": {},
     "output_type": "display_data"
    },
    {
     "data": {
      "application/vnd.jupyter.widget-view+json": {
       "model_id": "3539bbacbdda46e08bcfdd566292af00",
       "version_major": 2,
       "version_minor": 0
      },
      "image/png": "[encoded data removed]",
      "text/html": [
       "\n",
       "            <div style=\"display: inline-block;\">\n",
       "                <div class=\"jupyter-widgets widget-label\" style=\"text-align: center;\">\n",
       "                    Figure\n",
       "                </div>\n",
       "                <img src='data:image/png;base64,iVBORw0KGgoAAAANSUhEUgAAASwAAAEsCAYAAAB5fY51AAAAOXRFWHRTb2Z0d2FyZQBNYXRwbG90bGliIHZlcnNpb24zLjguMCwgaHR0cHM6Ly9tYXRwbG90bGliLm9yZy81sbWrAAAACXBIWXMAAA9hAAAPYQGoP6dpAAAT4klEQVR4nO3dbXBU5d3H8d/JAwvZFSWAwUaH0mkKFBmVItEqA0MitYgyxNI6BYxRW2wHWq1asCMP02mtguIDviiFFkYBoSlQoaQYNZGO4JCqrdSppNialjaWAhISNiHE5LpfaPa2zSZZ2N2c/Sffz0zGnd1rz167c/nNOScnwXPOOQGAAWl+TwAAYkWwAJhBsACYQbAAmEGwAJhBsACYQbAAmEGwAJhBsACYQbAAmGE+WDU1NfI8L66vyZMn+/02AMQgw+8JxCs9PV2DBw/u9PHjx49LkgYMGKCsrKyoY84///ykzA1AYnm9/ZefPc+TJC1dulTLli3zdzIA4mL+kBBA30GwAJhBsACYQbA+9smfNr7yyiudjlu2bJk8z9OnP/3pLrdRV1cnSSotLdXYsWMVCAT0q1/9KjJ28uTJ8jxPDz/8sCTprbfeUnFxsS655BIFAgHl5uaqpKRENTU1cb0v55x++ctfavr06Ro2bJgCgYAuuugi3XTTTdq6dWtc2wZ6mvmfEqayn/3sZ5o3b57S0tIUCAR02WWXRR23Zs0azZ8/X2fOnFFmZqba2tpUW1ur9evXa9euXdq/f79GjBhx1q//wQcf6Ctf+YoqKyslffQDiFAopH//+9/auXOndu7cqcLCQm3ZskXZ2dlxvVegJ7CHlSR///vfdffdd+u+++7TiRMn1NjYqLy8vA7jdu3apbvuuktjxozRK6+8onA4rIaGBq1du1aBQEBHjx7VokWLzvr1m5ubdf3116uyslL9+vXT8uXLdfz4cdXX1+v48eP6yU9+on79+umll17S9ddfr+bm5kS8bSC5XC8nyUlyS5cu7XLce++9FxlbWVnZ6bilS5c6SW748OFdbmP27NmuuLi40+1MmjQpMvbSSy919fX1HcYsWLDASXKBQMA1Nzd3Of//tXjxYifJeZ7nduzYEXXM888/7zzPc5LckiVLzmr7gB/Yw0qSsrIyLV++PKaxv/jFL3Teeed1uH/GjBmSPtpbevfdd2N+7dOnT+vJJ5+UJN1yyy268cYbo4676aab9LWvfU2S9OSTT7KXhZRHsJKkqKhIF154YbfjJk2apCuvvDLqYxdffHHk9okTJ2J+7VdffVX19fWSpNtuu63LsSUlJZKkkydPat++fTG/BuAHgpUk1113XUzjov20sV0gEIjcbmlpifm1Dx48GLn9hS98ocux48aNi9x+5513Yn4NwA8EK0lycnJ8e+2TJ09Gbnf3e5KffLz9UgwgVRGsXmjgwIGR2w0NDV2ObT90/N/nAamIYH0sI+P/L0nr6vCrurq6J6YTl8997nOR22+99VaXY//whz9EfR6QigjWxwYNGhS5/a9//SvqmL/97W8qLS3tqSmds4kTJyoYDEqSNmzY0OXYZ599VpIUDAZ17bXXJn1uQDwI1seCwaA++9nPSvroYs7/debMGc2ZM0etra09PbWzlpWVpW9961uSpPXr13f6q0bl5eWRoM2fP7/TvxcGpAqC9Qlz5syRJG3btk0rV65UOBxWa2urqqqqNGXKFL322msqKCjweZaxWbZsmcaOHavW1lbdcMMNeuqppyIn4+vq6vT4449rxowZamtr02WXXaYlS5b4PGOgewTrE+6//37l5+erra1N9957rwYOHKisrCzl5+frtdde00MPPaS77rrL72nGJBgMqry8XFdddZUaGxv13e9+V4MGDdL555+v7Oxsfe9739Pp06c1ceJEvfjii+xdwQSC9QlZWVmqqKjQ4sWLlZeXp4yMDGVnZ2vWrFnau3evHnjgAb+neFaGDRumvXv36plnntHUqVM1ZMgQNTU1aejQoZo2bZqee+457dmzR0OHDvV7qkBMev2fSAbQe7CHBcAMggXADIIFwAyCBcAMggXADIIFwAyCBcAMggXADIIFwAyCBcAMggXADIIFwAz+qfpeyDmnxsZGSR/9BQrP83yeUWrgc7GPPaxeqLGxUaFQSKFQKPI/KPhcegOCBcAMggXADIIFwAyCBcAMggXADIIFwAyCBcAMggXADIIFwAyCBcAMggXADIIFwAyCBcAMggXADIIFwAyCBcAMggXADIIFwAyCBcAMggXADIIFwAyCBcAMggXADIIFwAyCBcAMggXADIIFwAyCBcAMggXADIIFwAyCBcAMggXADIIFwAyCBcAMggXADIIFwAyCBcAMggXADIIFwAyCBcAMggXADIIFwAyCBcAMggXADIIFwAyCBcAMggXADIIFwAyCBcAMggXADIIFwAyCBcAMggXADIIFwAyCBcAMggXADIIFwAyCBcAMggXADIIFwAyCBcAMggXADIIFwAyCBcAMggXADIIFwAyCBcAMggXAjAy/J3CunHNqbGz0exopKRwOR73d1/G5dC8rK0ue5/k9jU55zjnn9yTORTgcVigU8nsaQK9y6tQpBYNBv6fRKQ4JAZhhdg+LQ8LOhcNh5eTkSJKOHDmS0t8xexKfS/dS/ZDQ7Dksz/NYcDEIBoN8TlHwudjEISEAMwgWADMIFgAzCBYAMwgWADMIFgAzCBYAMwgWADMIFgAzCBYAMwgWADMIFgAzCBYAMwgWADMIFgAzCBYAMwgWADMIFgAzCBYAMwgWADMIFgAzCBYAMwgWADMIFgAzCBYAMwgWADMIFgAzCBYAMwgWADMIFgAzCBYAMwgWADMIFgAzCBYAMwgWADMIFgAzCBYAMwgWADMIFgAzCBYAMwgWADMIFgAzCBYAMwgWADMIFgAzCBYAMwgWADMIFgAzCBYAMwgWADMIFgAzCBYAMwgWADMIFgAzCBYAMwgWADMIFgAzCBYAMwgWADMIFgAzCBYAMwgWADMIFgAzCBYAMwgWADMy/J7AuXLOqbGx0e9ppKRwOBz1dl/H59K9rKwseZ7n9zQ65TnnnN+TOBfhcFihUMjvaQC9yqlTpxQMBv2eRqc4JARghtk9LA4JOxcOh5WTkyNJOnLkSEp/x+xJfC7dS/VDQrPnsDzPY8HFIBgM8jlFwediE4eEAMwgWADMIFgAzCBYAMwgWADMIFgAzCBYAMwgWADMIFgAzCBYAMwgWADMIFgAzCBYAMwgWADMIFgAzCBYAMwgWADMIFgAzCBYAMwgWADMIFgAzCBYAMwgWADMIFgAzCBYAMwgWADMIFgAzCBYAMwgWADMIFgAzCBYAMwgWADMIFgAzCBYAMwgWADMIFgAzCBYAMwgWADMIFgAzCBYAMwgWADMIFgAzCBYAMwgWADMIFgAzCBYAMwgWADMIFgAzCBYAMwgWADMIFgAzCBYAMwgWADMIFgAzCBYAMwgWADMIFgAzCBYAMwgWADMIFgAzCBYAMwgWADMIFgAzCBYAMwgWADMIFgAzCBYAMwgWADM8Jxzzu9JILGcc2psbJQkZWVlyfM8n2eUGvhc7CNYAMzgkBCAGQQLgBkEC4AZBAuAGQQLgBkEC4AZBAuAGQQLgBkEC4AZGX5PoKe1tLQoHA4rLS1NAwcO9Hs6MIg15J8+F6wtW7Zo7ty5Gj58uGpqas55O5s2bVJVVVW3477+9a9rwoQJqqqq0qZNm7odn52drSVLlpzzvJB8rCEfuT7m2WefdZLc8OHD49pOcXGxk9Tt17p165xzzq1bty6m8fHOKx7f/OY3I/P461//GvPzmpub3QUXXOAkuYkTJ3Z4vLa21i1cuNCNHTvWhUIhl5WV5fLy8twtt9zidu7c6dra2hL5NpKONeSfPncO68yZM5KkpqamhGxv+/btcs51+Fq1alXU8atWrYo6/sSJEwmZTzxuu+22yO0NGzbE/LyysjLV1dVJkm6//fb/eqy8vFyjR4/WI488oj/96U9qaWlRa2urDh06pM2bN+vGG2/Ul770JdXW1ibiLfQI1pB/+twhYfufF2loaEjI9g4cOKBQKNTh/urq6qjjq6ur9dJLL3W4PxwOJ2Q+8bj66qs1cuRIVVdXa+PGjTEfVmzcuFGSdN5552nWrFmR+w8dOqSioiKFw2FdccUVWrVqlb74xS9KkmpqarR27VqtWLFCL774oqZMmaJ9+/YpOzs78W8swVhDPurZHTr/PfLII5Fd55aWlnPeTm/dnX/ooYcic9m/f3+340+ePOn69+/vJLk777zzvx4rKSlxklx2drY7duxY1Oe//PLLLjMz02VlZbndu3cn5D0kG2vIP31uD6u+vj5y+/DhwxoxYkRc23v66adVUFDQ4f6NGzfqRz/6UYf7H3zwQc2ePbvD/Q0NDZowYUJcc0mEW2+9VQ8++KDa2tq0YcOGbue0detWnT59WlL0w0FJmjlzpgYPHhz1+VOmTNGaNWs0YcIEjR49OgHvIPlYQ/7pc8H65E913n777bgXW25urkaNGtXh/pycnKjjc3Jyoo5vPwfkt9zcXBUWFqq8vFybN2/WypUrlZHR+TJpPxwcNWqUrr766v967D//+Y8kadCgQV2+ZnFxcZyz7lmsIf/0uZPu7733XuT222+/Hff2Zs6cKc/zOnwtWLAg6vgFCxZEHd/d/9Q9qf3k+9GjR/XCCy90Oq62tlaVlZWSpDvuuKPD4xdeeKEkaceOHWpubk78RH3CGvJPn9vDevfddyO3Kysr9cADD8S1vaKiIuXl5XX6+NixYyP/XbhwYafjmpub9cQTT8Q1l0SZOXOmLrjgAtXV1WnDhg264YYboo7bvHmz2tralJGRoblz53Z4/Oabb9ZTTz2lv/zlL5o2bZrWrl0b995IKmAN+cjvk2g9qbq62klyo0ePdpdcconLzMx0dXV157St9hOm27dvT8jcTpw4kVInTNuvyRowYICrr6+POmbcuHFOkpsxY0bUxz/44AP3mc98JnIyuF+/fu4b3/iG+/Of/5zEmScXa8hffeqQ8He/+50k6dprr9XUqVPV0tKinTt3+jyr1NR+WNjU1KRt27Z1ePzgwYN68803JXU82d5u0KBB2rNnj/Lz8yV9dP3SmjVrNGbMGH35y19WRUVFciafRKwhf/WpYLUvrIKCAt18882SpMceeyyhr3HppZdGPb8Q7evYsWMJfe1Ear8mS4p+EWn7yfZhw4Zp2rRpnW7n4osv1t69e7V27drI9pxz2r17twoKClRQUNDp9UapiDXkrz5zDuv9999XWVmZgsGgpk+frv79+ys3N1d//OMf9Zvf/EbTp09P6OvNmzev08d27Nih999/P6GvlwzFxcX6wQ9+oIqKCtXW1upTn/pU5LH232m79dZbu/wpoiSlp6frjjvu0O233649e/bo6aef1vbt29XW1qaKigqNHz9e27Zt03XXXZfU9xMv1lAK8PuYtKcsXrzYSXJz586N3PfYY485SW7UqFGusbHxrLbX2fmHMWPGuO4+1kmTJjlJ7ujRo5H7UvH8wz//+U+XlpbmJLkVK1ZE7t+3b1/kvNTBgwfPadvvvPOOmzp1amQ7oVDIHTlyJFFTTwrWkP/6xCFhTU2NHn30UXmep/vvvz9y//z58/X5z39eBw8e1KJFi3ycYWpqvyZLkp577rnI/Vu2bJEkXXPNNZHDvLM1atQo7d69W9/+9rclSadOndLjjz8e54yThzWUGvpEsO6++241NTWpqKgo8iNiSerXr59+/vOfKy0tTatWrVJpaWnCXrOr8w579uxJ2OskW/vJ9zfffFOHDh2SpMhJ+M5OtsfK8zytXLlSubm5kqR9+/bFtb1kYg2lhl5/DuvRRx/V888/r1AoFPU7+FVXXaX77rtPy5cv1+zZsxUMBrs8iRyrrq6X2bRpkw4fPhz3a/SET16TVVpaqsLCQh0+fFihUEhf/epX495+IBBQfn6+tm3bFrkyPtWwhlKI38ekybRp0ybneZ6T5FavXt3puNbWVjd9+nQnyfXv39+VlpZ2u+2+dP6h/ZqsCRMmuO9///tOkispKen2eVVVVe7HP/5xt+MmT57sJLnCwsJETDehWEOppdcG66c//anLzMx0kty8efO6Hd/Q0OAuv/zyyEnghQsXug8//LDT8X1psbWfZPc8z+Xk5DhJ7tVXX+3yOWVlZS4QCDhJ7uGHH+503BtvvOHS09OdJPfEE08keupxYQ2lnl4XrKampsifNZHkioqK3JkzZ2J67rFjx1x+fn7kuddcc407cOBA1LHdLbZYviwttpEjR0bmPXLkyG7Hnzx5MnIlvCQ3depU98ILL0R+klZXV+dWr17thgwZ4iS5vLw819TUlOy3ERPWUOrqVeewtm7dqkWLFkV+12vOnDlat25dt9cJtRs8eLAqKio0a9YslZWVae/evRo3bpy+853vaMWKFUpLi/1nFF1dQ9NuwIABMW/Pb+3XZElSSUlJt+MHDhyol19+Wffcc4/Wr1+v8vLyyJ+bCYVCOnXqVGTsmDFjtGvXLvXv3z85kz8LrKEU53cxE+HDDz90hYWFke86mZmZbuXKlXFt74c//KHLyMhwktw999zTYUw8u/POfXTO47e//a07cOCA+8c//uGeeeYZJ8mNGDHinOedTO3XZKWnp7va2tqzeu4bb7zh7r33Xnf55Ze7oUOHuoyMDDdkyBBXUFDgVq9e7Zqbm5M069ixhmzoFcFyzrlf//rXLj093Y0fP969/vrrCdnm73//e3fnnXdGPQ/R2WKrqqpylZWVMW2//R9u+OTX5MmTEzBznAvWUOrrNYeEM2bM0P79+3XFFVec1W53V8aPH6/x48ef1XOuvPLKmMfOnTtXr7/+usLhsFpbW3XRRRdF/QuT6BmsodTnOeec35MAgFj0iSvdAfQOBAuAGQQLgBkEC4AZBAuAGf8HHIVOjertMcEAAAAASUVORK5CYII=' width=300.0/>\n",
       "            </div>\n",
       "        "
      ],
      "text/plain": [
       "Canvas(footer_visible=False, header_visible=False, resizable=False, toolbar=Toolbar(toolitems=[('Home', 'Reset…"
      ]
     },
     "metadata": {},
     "output_type": "display_data"
    }
   ],
   "source": [
    "gui_play(seed=123)"
   ]
  },
  {
   "cell_type": "code",
   "execution_count": 10,
   "metadata": {},
   "outputs": [],
   "source": [
    "def create_event_handler(self):\n",
    "    # 変更ボタンのイベントハンドラを定義する\n",
    "    def on_change_button_clicked(b):\n",
    "        for i in range(2):\n",
    "            self.mb.ai[i] = None if self.dropdown_list[i].value == \"人間\" else self.dropdown_list[i].value\n",
    "        self.mb.play_loop(self)\n",
    "\n",
    "    # リセットボタンのイベントハンドラを定義する\n",
    "    def on_reset_button_clicked(b=None):\n",
    "        # 乱数の種のチェックボックスが ON の場合に、乱数の種の処理を行う\n",
    "        if self.checkbox.value:\n",
    "            random.seed(self.inttext.value)\n",
    "        self.mb.restart()\n",
    "        on_change_button_clicked(b)\n",
    "\n",
    "    # 待ったボタンのイベントハンドラを定義する\n",
    "    def on_undo_button_clicked(b=None):\n",
    "        if self.mb.move_count >= 2 and self.mb.move_count == len(self.mb.records) - 1:\n",
    "            self.mb.move_count -= 2\n",
    "            self.mb.records = self.mb.records[0:self.mb.move_count+1]\n",
    "            self.mb.change_step(self.mb.move_count)\n",
    "            self.draw_board()\n",
    "        \n",
    "    # イベントハンドラをボタンに結びつける\n",
    "    self.change_button.on_click(on_change_button_clicked)\n",
    "    self.reset_button.on_click(on_reset_button_clicked)   \n",
    "    self.undo_button.on_click(on_undo_button_clicked)   \n",
    "    \n",
    "    # step 手目の局面に移動する\n",
    "    def change_step(step):\n",
    "        self.mb.change_step(step)\n",
    "        # 描画を更新する\n",
    "        self.draw_board()        \n",
    "\n",
    "    def on_first_button_clicked(b=None):\n",
    "        change_step(0)\n",
    "\n",
    "    def on_prev_button_clicked(b=None):\n",
    "        change_step(self.mb.move_count - 1)\n",
    "\n",
    "    def on_next_button_clicked(b=None):\n",
    "        change_step(self.mb.move_count + 1)\n",
    "        \n",
    "    def on_last_button_clicked(b=None):\n",
    "        change_step(len(self.mb.records) - 1)\n",
    "\n",
    "    def on_slider_changed(changed):\n",
    "        if self.mb.move_count != changed[\"new\"]:\n",
    "            change_step(changed[\"new\"])\n",
    "            \n",
    "    self.first_button.on_click(on_first_button_clicked)\n",
    "    self.prev_button.on_click(on_prev_button_clicked)\n",
    "    self.next_button.on_click(on_next_button_clicked)\n",
    "    self.last_button.on_click(on_last_button_clicked)\n",
    "    self.slider.observe(on_slider_changed, names=\"value\")\n",
    "    \n",
    "    # ゲーム盤の上でマウスを押した場合のイベントハンドラ\n",
    "    def on_mouse_down(event):\n",
    "        # Axes の上でマウスを押していた場合のみ処理を行う\n",
    "        if event.inaxes and self.mb.status == Marubatsu.PLAYING:\n",
    "            x = math.floor(event.xdata)\n",
    "            y = math.floor(event.ydata)\n",
    "            self.mb.move(x, y)                \n",
    "            # 次の手番の処理を行うメソッドを呼び出す\n",
    "            self.mb.play_loop(self)\n",
    "\n",
    "    # ゲーム盤を選択した状態でキーを押した場合のイベントハンドラ\n",
    "    def on_key_press(event):\n",
    "        keymap = {\n",
    "            \"up\": on_first_button_clicked,\n",
    "            \"left\": on_prev_button_clicked,\n",
    "            \"right\": on_next_button_clicked,\n",
    "            \"down\": on_last_button_clicked,\n",
    "            \"0\": on_undo_button_clicked,\n",
    "            \"enter\": on_reset_button_clicked,            \n",
    "        }\n",
    "        if event.key in keymap:\n",
    "            keymap[event.key]()\n",
    "        else:\n",
    "            try:\n",
    "                num = int(event.key) - 1\n",
    "                event.inaxes = True\n",
    "                event.xdata = num % 3\n",
    "                event.ydata = 2 - (num // 3)\n",
    "                on_mouse_down(event)\n",
    "            except:\n",
    "                pass\n",
    "            \n",
    "    # fig の画像イベントハンドラを結び付ける\n",
    "    self.fig.canvas.mpl_connect(\"button_press_event\", on_mouse_down)     \n",
    "    self.fig.canvas.mpl_connect(\"key_press_event\", on_key_press)  \n",
    "    \n",
    "Marubatsu_GUI.create_event_handler = create_event_handler"
   ]
  },
  {
   "cell_type": "code",
   "execution_count": 11,
   "metadata": {},
   "outputs": [
    {
     "data": {
      "application/vnd.jupyter.widget-view+json": {
       "model_id": "eb0eb23d8d8542efb3e63caffb23567d",
       "version_major": 2,
       "version_minor": 0
      },
      "text/plain": [
       "VBox(children=(HBox(children=(Checkbox(value=True, description='乱数の種', indent=False, layout=Layout(width='100p…"
      ]
     },
     "metadata": {},
     "output_type": "display_data"
    },
    {
     "data": {
      "application/vnd.jupyter.widget-view+json": {
       "model_id": "738a33c102aa4fb8aa02ccfc6b31f1c8",
       "version_major": 2,
       "version_minor": 0
      },
      "image/png": "[encoded data removed]",
      "text/html": [
       "\n",
       "            <div style=\"display: inline-block;\">\n",
       "                <div class=\"jupyter-widgets widget-label\" style=\"text-align: center;\">\n",
       "                    Figure\n",
       "                </div>\n",
       "                <img src='data:image/png;base64,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' width=300.0/>\n",
       "            </div>\n",
       "        "
      ],
      "text/plain": [
       "Canvas(footer_visible=False, header_visible=False, resizable=False, toolbar=Toolbar(toolitems=[('Home', 'Reset…"
      ]
     },
     "metadata": {},
     "output_type": "display_data"
    }
   ],
   "source": [
    "from ai import ai14s\n",
    "\n",
    "gui_play(ai=[ai14s, ai14s], seed=123)"
   ]
  },
  {
   "cell_type": "code",
   "execution_count": 12,
   "metadata": {},
   "outputs": [
    {
     "name": "stdout",
     "output_type": "stream",
     "text": [
      "Turn o\n",
      "...\n",
      "...\n",
      "...\n",
      "\n",
      "Turn x\n",
      "...\n",
      ".O.\n",
      "...\n",
      "\n",
      "Turn o\n",
      "...\n",
      ".o.\n",
      "X..\n",
      "\n",
      "Turn x\n",
      "O..\n",
      ".o.\n",
      "x..\n",
      "\n",
      "Turn o\n",
      "o..\n",
      ".o.\n",
      "x.X\n",
      "\n",
      "Turn x\n",
      "o..\n",
      ".o.\n",
      "xOx\n",
      "\n",
      "Turn o\n",
      "oX.\n",
      ".o.\n",
      "xox\n",
      "\n",
      "Turn x\n",
      "ox.\n",
      ".oO\n",
      "xox\n",
      "\n",
      "Turn o\n",
      "ox.\n",
      "Xoo\n",
      "xox\n",
      "\n",
      "winner draw\n",
      "oxO\n",
      "xoo\n",
      "xox\n",
      "\n"
     ]
    },
    {
     "data": {
      "text/plain": [
       "'draw'"
      ]
     },
     "execution_count": 12,
     "metadata": {},
     "output_type": "execute_result"
    }
   ],
   "source": [
    "mb = Marubatsu()\n",
    "mb.play(ai=[ai14s, ai14s], seed=123)"
   ]
  },
  {
   "cell_type": "code",
   "execution_count": 13,
   "metadata": {},
   "outputs": [],
   "source": [
    "def update_widgets_status(self):\n",
    "    self.inttext.disabled = not self.checkbox.value\n",
    "    self.set_button_status(self.undo_button, self.mb.move_count < 2 or self.mb.move_count != len(self.mb.records) - 1)\n",
    "    self.set_button_status(self.first_button, self.mb.move_count <= 0)\n",
    "    self.set_button_status(self.prev_button, self.mb.move_count <= 0)\n",
    "    self.set_button_status(self.next_button, self.mb.move_count >= len(self.mb.records) - 1)\n",
    "    self.set_button_status(self.last_button, self.mb.move_count >= len(self.mb.records) - 1)    \n",
    "    # value 属性よりも先に max 属性に値を代入する必要がある点に注意！\n",
    "    self.slider.max = len(self.mb.records) - 1\n",
    "    self.slider.value = self.mb.move_count\n",
    "    \n",
    "Marubatsu_GUI.update_widgets_status = update_widgets_status"
   ]
  },
  {
   "cell_type": "code",
   "execution_count": 14,
   "metadata": {},
   "outputs": [
    {
     "data": {
      "application/vnd.jupyter.widget-view+json": {
       "model_id": "4bdcbbf348a940069ab7ddfacacdde78",
       "version_major": 2,
       "version_minor": 0
      },
      "text/plain": [
       "VBox(children=(HBox(children=(Checkbox(value=False, description='乱数の種', indent=False, layout=Layout(width='100…"
      ]
     },
     "metadata": {},
     "output_type": "display_data"
    },
    {
     "data": {
      "application/vnd.jupyter.widget-view+json": {
       "model_id": "01c941a6b84b4b6b91f99bfe62c465d4",
       "version_major": 2,
       "version_minor": 0
      },
      "image/png": "[encoded data removed]",
      "text/html": [
       "\n",
       "            <div style=\"display: inline-block;\">\n",
       "                <div class=\"jupyter-widgets widget-label\" style=\"text-align: center;\">\n",
       "                    Figure\n",
       "                </div>\n",
       "                <img src='data:image/png;base64,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' width=300.0/>\n",
       "            </div>\n",
       "        "
      ],
      "text/plain": [
       "Canvas(footer_visible=False, header_visible=False, resizable=False, toolbar=Toolbar(toolitems=[('Home', 'Reset…"
      ]
     },
     "metadata": {},
     "output_type": "display_data"
    }
   ],
   "source": [
    "gui_play()"
   ]
  },
  {
   "cell_type": "code",
   "execution_count": 15,
   "metadata": {},
   "outputs": [],
   "source": [
    "def create_event_handler(self):\n",
    "    # 乱数の種のチェックボックスのイベントハンドラを定義する\n",
    "    def on_checkbox_changed(changed):\n",
    "        self.update_widgets_status()\n",
    "        \n",
    "    self.checkbox.observe(on_checkbox_changed, names=\"value\")\n",
    "    \n",
    "    # 変更ボタンのイベントハンドラを定義する\n",
    "    def on_change_button_clicked(b):\n",
    "        for i in range(2):\n",
    "            self.mb.ai[i] = None if self.dropdown_list[i].value == \"人間\" else self.dropdown_list[i].value\n",
    "        self.mb.play_loop(self)\n",
    "\n",
    "    # リセットボタンのイベントハンドラを定義する\n",
    "    def on_reset_button_clicked(b=None):\n",
    "        # 乱数の種のチェックボックスが ON の場合に、乱数の種の処理を行う\n",
    "        if self.checkbox.value:\n",
    "            random.seed(self.inttext.value)\n",
    "        self.mb.restart()\n",
    "        on_change_button_clicked(b)\n",
    "\n",
    "    # 待ったボタンのイベントハンドラを定義する\n",
    "    def on_undo_button_clicked(b=None):\n",
    "        if self.mb.move_count >= 2 and self.mb.move_count == len(self.mb.records) - 1:\n",
    "            self.mb.move_count -= 2\n",
    "            self.mb.records = self.mb.records[0:self.mb.move_count+1]\n",
    "            self.mb.change_step(self.mb.move_count)\n",
    "            self.draw_board()\n",
    "        \n",
    "    # イベントハンドラをボタンに結びつける\n",
    "    self.change_button.on_click(on_change_button_clicked)\n",
    "    self.reset_button.on_click(on_reset_button_clicked)   \n",
    "    self.undo_button.on_click(on_undo_button_clicked)   \n",
    "    \n",
    "    # step 手目の局面に移動する\n",
    "    def change_step(step):\n",
    "        self.mb.change_step(step)\n",
    "        # 描画を更新する\n",
    "        self.draw_board()        \n",
    "\n",
    "    def on_first_button_clicked(b=None):\n",
    "        change_step(0)\n",
    "\n",
    "    def on_prev_button_clicked(b=None):\n",
    "        change_step(self.mb.move_count - 1)\n",
    "\n",
    "    def on_next_button_clicked(b=None):\n",
    "        change_step(self.mb.move_count + 1)\n",
    "        \n",
    "    def on_last_button_clicked(b=None):\n",
    "        change_step(len(self.mb.records) - 1)\n",
    "\n",
    "    def on_slider_changed(changed):\n",
    "        if self.mb.move_count != changed[\"new\"]:\n",
    "            change_step(changed[\"new\"])\n",
    "            \n",
    "    self.first_button.on_click(on_first_button_clicked)\n",
    "    self.prev_button.on_click(on_prev_button_clicked)\n",
    "    self.next_button.on_click(on_next_button_clicked)\n",
    "    self.last_button.on_click(on_last_button_clicked)\n",
    "    self.slider.observe(on_slider_changed, names=\"value\")\n",
    "    \n",
    "    # ゲーム盤の上でマウスを押した場合のイベントハンドラ\n",
    "    def on_mouse_down(event):\n",
    "        # Axes の上でマウスを押していた場合のみ処理を行う\n",
    "        if event.inaxes and self.mb.status == Marubatsu.PLAYING:\n",
    "            x = math.floor(event.xdata)\n",
    "            y = math.floor(event.ydata)\n",
    "            self.mb.move(x, y)                \n",
    "            # 次の手番の処理を行うメソッドを呼び出す\n",
    "            self.mb.play_loop(self)\n",
    "\n",
    "    # ゲーム盤を選択した状態でキーを押した場合のイベントハンドラ\n",
    "    def on_key_press(event):\n",
    "        keymap = {\n",
    "            \"up\": on_first_button_clicked,\n",
    "            \"left\": on_prev_button_clicked,\n",
    "            \"right\": on_next_button_clicked,\n",
    "            \"down\": on_last_button_clicked,\n",
    "            \"0\": on_undo_button_clicked,\n",
    "            \"enter\": on_reset_button_clicked,            \n",
    "        }\n",
    "        if event.key in keymap:\n",
    "            keymap[event.key]()\n",
    "        else:\n",
    "            try:\n",
    "                num = int(event.key) - 1\n",
    "                event.inaxes = True\n",
    "                event.xdata = num % 3\n",
    "                event.ydata = 2 - (num // 3)\n",
    "                on_mouse_down(event)\n",
    "            except:\n",
    "                pass\n",
    "            \n",
    "    # fig の画像イベントハンドラを結び付ける\n",
    "    self.fig.canvas.mpl_connect(\"button_press_event\", on_mouse_down)     \n",
    "    self.fig.canvas.mpl_connect(\"key_press_event\", on_key_press)  \n",
    "    \n",
    "Marubatsu_GUI.create_event_handler = create_event_handler"
   ]
  },
  {
   "cell_type": "code",
   "execution_count": 16,
   "metadata": {},
   "outputs": [
    {
     "data": {
      "application/vnd.jupyter.widget-view+json": {
       "model_id": "8ae7902704db411ba28a95a571628f36",
       "version_major": 2,
       "version_minor": 0
      },
      "text/plain": [
       "VBox(children=(HBox(children=(Checkbox(value=False, description='乱数の種', indent=False, layout=Layout(width='100…"
      ]
     },
     "metadata": {},
     "output_type": "display_data"
    },
    {
     "data": {
      "application/vnd.jupyter.widget-view+json": {
       "model_id": "175a855bd54d46c0bb6b37bd30d5070f",
       "version_major": 2,
       "version_minor": 0
      },
      "image/png": "[encoded data removed]",
      "text/html": [
       "\n",
       "            <div style=\"display: inline-block;\">\n",
       "                <div class=\"jupyter-widgets widget-label\" style=\"text-align: center;\">\n",
       "                    Figure\n",
       "                </div>\n",
       "                <img src='data:image/png;base64,iVBORw0KGgoAAAANSUhEUgAAASwAAAEsCAYAAAB5fY51AAAAOXRFWHRTb2Z0d2FyZQBNYXRwbG90bGliIHZlcnNpb24zLjguMCwgaHR0cHM6Ly9tYXRwbG90bGliLm9yZy81sbWrAAAACXBIWXMAAA9hAAAPYQGoP6dpAAAT4klEQVR4nO3dbXBU5d3H8d/JAwvZFSWAwUaH0mkKFBmVItEqA0MitYgyxNI6BYxRW2wHWq1asCMP02mtguIDviiFFkYBoSlQoaQYNZGO4JCqrdSppNialjaWAhISNiHE5LpfaPa2zSZZ2N2c/Sffz0zGnd1rz167c/nNOScnwXPOOQGAAWl+TwAAYkWwAJhBsACYQbAAmEGwAJhBsACYQbAAmEGwAJhBsACYQbAAmGE+WDU1NfI8L66vyZMn+/02AMQgw+8JxCs9PV2DBw/u9PHjx49LkgYMGKCsrKyoY84///ykzA1AYnm9/ZefPc+TJC1dulTLli3zdzIA4mL+kBBA30GwAJhBsACYQbA+9smfNr7yyiudjlu2bJk8z9OnP/3pLrdRV1cnSSotLdXYsWMVCAT0q1/9KjJ28uTJ8jxPDz/8sCTprbfeUnFxsS655BIFAgHl5uaqpKRENTU1cb0v55x++ctfavr06Ro2bJgCgYAuuugi3XTTTdq6dWtc2wZ6mvmfEqayn/3sZ5o3b57S0tIUCAR02WWXRR23Zs0azZ8/X2fOnFFmZqba2tpUW1ur9evXa9euXdq/f79GjBhx1q//wQcf6Ctf+YoqKyslffQDiFAopH//+9/auXOndu7cqcLCQm3ZskXZ2dlxvVegJ7CHlSR///vfdffdd+u+++7TiRMn1NjYqLy8vA7jdu3apbvuuktjxozRK6+8onA4rIaGBq1du1aBQEBHjx7VokWLzvr1m5ubdf3116uyslL9+vXT8uXLdfz4cdXX1+v48eP6yU9+on79+umll17S9ddfr+bm5kS8bSC5XC8nyUlyS5cu7XLce++9FxlbWVnZ6bilS5c6SW748OFdbmP27NmuuLi40+1MmjQpMvbSSy919fX1HcYsWLDASXKBQMA1Nzd3Of//tXjxYifJeZ7nduzYEXXM888/7zzPc5LckiVLzmr7gB/Yw0qSsrIyLV++PKaxv/jFL3Teeed1uH/GjBmSPtpbevfdd2N+7dOnT+vJJ5+UJN1yyy268cYbo4676aab9LWvfU2S9OSTT7KXhZRHsJKkqKhIF154YbfjJk2apCuvvDLqYxdffHHk9okTJ2J+7VdffVX19fWSpNtuu63LsSUlJZKkkydPat++fTG/BuAHgpUk1113XUzjov20sV0gEIjcbmlpifm1Dx48GLn9hS98ocux48aNi9x+5513Yn4NwA8EK0lycnJ8e+2TJ09Gbnf3e5KffLz9UgwgVRGsXmjgwIGR2w0NDV2ObT90/N/nAamIYH0sI+P/L0nr6vCrurq6J6YTl8997nOR22+99VaXY//whz9EfR6QigjWxwYNGhS5/a9//SvqmL/97W8qLS3tqSmds4kTJyoYDEqSNmzY0OXYZ599VpIUDAZ17bXXJn1uQDwI1seCwaA++9nPSvroYs7/debMGc2ZM0etra09PbWzlpWVpW9961uSpPXr13f6q0bl5eWRoM2fP7/TvxcGpAqC9Qlz5syRJG3btk0rV65UOBxWa2urqqqqNGXKFL322msqKCjweZaxWbZsmcaOHavW1lbdcMMNeuqppyIn4+vq6vT4449rxowZamtr02WXXaYlS5b4PGOgewTrE+6//37l5+erra1N9957rwYOHKisrCzl5+frtdde00MPPaS77rrL72nGJBgMqry8XFdddZUaGxv13e9+V4MGDdL555+v7Oxsfe9739Pp06c1ceJEvfjii+xdwQSC9QlZWVmqqKjQ4sWLlZeXp4yMDGVnZ2vWrFnau3evHnjgAb+neFaGDRumvXv36plnntHUqVM1ZMgQNTU1aejQoZo2bZqee+457dmzR0OHDvV7qkBMev2fSAbQe7CHBcAMggXADIIFwAyCBcAMggXADIIFwAyCBcAMggXADIIFwAyCBcAMggXADIIFwAz+qfpeyDmnxsZGSR/9BQrP83yeUWrgc7GPPaxeqLGxUaFQSKFQKPI/KPhcegOCBcAMggXADIIFwAyCBcAMggXADIIFwAyCBcAMggXADIIFwAyCBcAMggXADIIFwAyCBcAMggXADIIFwAyCBcAMggXADIIFwAyCBcAMggXADIIFwAyCBcAMggXADIIFwAyCBcAMggXADIIFwAyCBcAMggXADIIFwAyCBcAMggXADIIFwAyCBcAMggXADIIFwAyCBcAMggXADIIFwAyCBcAMggXADIIFwAyCBcAMggXADIIFwAyCBcAMggXADIIFwAyCBcAMggXADIIFwAyCBcAMggXADIIFwAyCBcAMggXADIIFwAyCBcAMggXADIIFwAyCBcAMggXADIIFwAyCBcAMggXADIIFwAyCBcAMggXAjAy/J3CunHNqbGz0exopKRwOR73d1/G5dC8rK0ue5/k9jU55zjnn9yTORTgcVigU8nsaQK9y6tQpBYNBv6fRKQ4JAZhhdg+LQ8LOhcNh5eTkSJKOHDmS0t8xexKfS/dS/ZDQ7Dksz/NYcDEIBoN8TlHwudjEISEAMwgWADMIFgAzCBYAMwgWADMIFgAzCBYAMwgWADMIFgAzCBYAMwgWADMIFgAzCBYAMwgWADMIFgAzCBYAMwgWADMIFgAzCBYAMwgWADMIFgAzCBYAMwgWADMIFgAzCBYAMwgWADMIFgAzCBYAMwgWADMIFgAzCBYAMwgWADMIFgAzCBYAMwgWADMIFgAzCBYAMwgWADMIFgAzCBYAMwgWADMIFgAzCBYAMwgWADMIFgAzCBYAMwgWADMIFgAzCBYAMwgWADMIFgAzCBYAMwgWADMIFgAzCBYAMwgWADMIFgAzCBYAMwgWADMIFgAzCBYAMwgWADMIFgAzCBYAMwgWADMy/J7AuXLOqbGx0e9ppKRwOBz1dl/H59K9rKwseZ7n9zQ65TnnnN+TOBfhcFihUMjvaQC9yqlTpxQMBv2eRqc4JARghtk9LA4JOxcOh5WTkyNJOnLkSEp/x+xJfC7dS/VDQrPnsDzPY8HFIBgM8jlFwediE4eEAMwgWADMIFgAzCBYAMwgWADMIFgAzCBYAMwgWADMIFgAzCBYAMwgWADMIFgAzCBYAMwgWADMIFgAzCBYAMwgWADMIFgAzCBYAMwgWADMIFgAzCBYAMwgWADMIFgAzCBYAMwgWADMIFgAzCBYAMwgWADMIFgAzCBYAMwgWADMIFgAzCBYAMwgWADMIFgAzCBYAMwgWADMIFgAzCBYAMwgWADMIFgAzCBYAMwgWADMIFgAzCBYAMwgWADMIFgAzCBYAMwgWADMIFgAzCBYAMwgWADMIFgAzCBYAMwgWADMIFgAzCBYAMwgWADMIFgAzCBYAMwgWADMIFgAzCBYAMwgWADMIFgAzCBYAMwgWADM8Jxzzu9JILGcc2psbJQkZWVlyfM8n2eUGvhc7CNYAMzgkBCAGQQLgBkEC4AZBAuAGQQLgBkEC4AZBAuAGQQLgBkEC4AZGX5PoKe1tLQoHA4rLS1NAwcO9Hs6MIg15J8+F6wtW7Zo7ty5Gj58uGpqas55O5s2bVJVVVW3477+9a9rwoQJqqqq0qZNm7odn52drSVLlpzzvJB8rCEfuT7m2WefdZLc8OHD49pOcXGxk9Tt17p165xzzq1bty6m8fHOKx7f/OY3I/P461//GvPzmpub3QUXXOAkuYkTJ3Z4vLa21i1cuNCNHTvWhUIhl5WV5fLy8twtt9zidu7c6dra2hL5NpKONeSfPncO68yZM5KkpqamhGxv+/btcs51+Fq1alXU8atWrYo6/sSJEwmZTzxuu+22yO0NGzbE/LyysjLV1dVJkm6//fb/eqy8vFyjR4/WI488oj/96U9qaWlRa2urDh06pM2bN+vGG2/Ul770JdXW1ibiLfQI1pB/+twhYfufF2loaEjI9g4cOKBQKNTh/urq6qjjq6ur9dJLL3W4PxwOJ2Q+8bj66qs1cuRIVVdXa+PGjTEfVmzcuFGSdN5552nWrFmR+w8dOqSioiKFw2FdccUVWrVqlb74xS9KkmpqarR27VqtWLFCL774oqZMmaJ9+/YpOzs78W8swVhDPurZHTr/PfLII5Fd55aWlnPeTm/dnX/ooYcic9m/f3+340+ePOn69+/vJLk777zzvx4rKSlxklx2drY7duxY1Oe//PLLLjMz02VlZbndu3cn5D0kG2vIP31uD6u+vj5y+/DhwxoxYkRc23v66adVUFDQ4f6NGzfqRz/6UYf7H3zwQc2ePbvD/Q0NDZowYUJcc0mEW2+9VQ8++KDa2tq0YcOGbue0detWnT59WlL0w0FJmjlzpgYPHhz1+VOmTNGaNWs0YcIEjR49OgHvIPlYQ/7pc8H65E913n777bgXW25urkaNGtXh/pycnKjjc3Jyoo5vPwfkt9zcXBUWFqq8vFybN2/WypUrlZHR+TJpPxwcNWqUrr766v967D//+Y8kadCgQV2+ZnFxcZyz7lmsIf/0uZPu7733XuT222+/Hff2Zs6cKc/zOnwtWLAg6vgFCxZEHd/d/9Q9qf3k+9GjR/XCCy90Oq62tlaVlZWSpDvuuKPD4xdeeKEkaceOHWpubk78RH3CGvJPn9vDevfddyO3Kysr9cADD8S1vaKiIuXl5XX6+NixYyP/XbhwYafjmpub9cQTT8Q1l0SZOXOmLrjgAtXV1WnDhg264YYboo7bvHmz2tralJGRoblz53Z4/Oabb9ZTTz2lv/zlL5o2bZrWrl0b995IKmAN+cjvk2g9qbq62klyo0ePdpdcconLzMx0dXV157St9hOm27dvT8jcTpw4kVInTNuvyRowYICrr6+POmbcuHFOkpsxY0bUxz/44AP3mc98JnIyuF+/fu4b3/iG+/Of/5zEmScXa8hffeqQ8He/+50k6dprr9XUqVPV0tKinTt3+jyr1NR+WNjU1KRt27Z1ePzgwYN68803JXU82d5u0KBB2rNnj/Lz8yV9dP3SmjVrNGbMGH35y19WRUVFciafRKwhf/WpYLUvrIKCAt18882SpMceeyyhr3HppZdGPb8Q7evYsWMJfe1Ear8mS4p+EWn7yfZhw4Zp2rRpnW7n4osv1t69e7V27drI9pxz2r17twoKClRQUNDp9UapiDXkrz5zDuv9999XWVmZgsGgpk+frv79+ys3N1d//OMf9Zvf/EbTp09P6OvNmzev08d27Nih999/P6GvlwzFxcX6wQ9+oIqKCtXW1upTn/pU5LH232m79dZbu/wpoiSlp6frjjvu0O233649e/bo6aef1vbt29XW1qaKigqNHz9e27Zt03XXXZfU9xMv1lAK8PuYtKcsXrzYSXJz586N3PfYY485SW7UqFGusbHxrLbX2fmHMWPGuO4+1kmTJjlJ7ujRo5H7UvH8wz//+U+XlpbmJLkVK1ZE7t+3b1/kvNTBgwfPadvvvPOOmzp1amQ7oVDIHTlyJFFTTwrWkP/6xCFhTU2NHn30UXmep/vvvz9y//z58/X5z39eBw8e1KJFi3ycYWpqvyZLkp577rnI/Vu2bJEkXXPNNZHDvLM1atQo7d69W9/+9rclSadOndLjjz8e54yThzWUGvpEsO6++241NTWpqKgo8iNiSerXr59+/vOfKy0tTatWrVJpaWnCXrOr8w579uxJ2OskW/vJ9zfffFOHDh2SpMhJ+M5OtsfK8zytXLlSubm5kqR9+/bFtb1kYg2lhl5/DuvRRx/V888/r1AoFPU7+FVXXaX77rtPy5cv1+zZsxUMBrs8iRyrrq6X2bRpkw4fPhz3a/SET16TVVpaqsLCQh0+fFihUEhf/epX495+IBBQfn6+tm3bFrkyPtWwhlKI38ekybRp0ybneZ6T5FavXt3puNbWVjd9+nQnyfXv39+VlpZ2u+2+dP6h/ZqsCRMmuO9///tOkispKen2eVVVVe7HP/5xt+MmT57sJLnCwsJETDehWEOppdcG66c//anLzMx0kty8efO6Hd/Q0OAuv/zyyEnghQsXug8//LDT8X1psbWfZPc8z+Xk5DhJ7tVXX+3yOWVlZS4QCDhJ7uGHH+503BtvvOHS09OdJPfEE08keupxYQ2lnl4XrKampsifNZHkioqK3JkzZ2J67rFjx1x+fn7kuddcc407cOBA1LHdLbZYviwttpEjR0bmPXLkyG7Hnzx5MnIlvCQ3depU98ILL0R+klZXV+dWr17thgwZ4iS5vLw819TUlOy3ERPWUOrqVeewtm7dqkWLFkV+12vOnDlat25dt9cJtRs8eLAqKio0a9YslZWVae/evRo3bpy+853vaMWKFUpLi/1nFF1dQ9NuwIABMW/Pb+3XZElSSUlJt+MHDhyol19+Wffcc4/Wr1+v8vLyyJ+bCYVCOnXqVGTsmDFjtGvXLvXv3z85kz8LrKEU53cxE+HDDz90hYWFke86mZmZbuXKlXFt74c//KHLyMhwktw999zTYUw8u/POfXTO47e//a07cOCA+8c//uGeeeYZJ8mNGDHinOedTO3XZKWnp7va2tqzeu4bb7zh7r33Xnf55Ze7oUOHuoyMDDdkyBBXUFDgVq9e7Zqbm5M069ixhmzoFcFyzrlf//rXLj093Y0fP969/vrrCdnm73//e3fnnXdGPQ/R2WKrqqpylZWVMW2//R9u+OTX5MmTEzBznAvWUOrrNYeEM2bM0P79+3XFFVec1W53V8aPH6/x48ef1XOuvPLKmMfOnTtXr7/+usLhsFpbW3XRRRdF/QuT6BmsodTnOeec35MAgFj0iSvdAfQOBAuAGQQLgBkEC4AZBAuAGf8HHIVOjertMcEAAAAASUVORK5CYII=' width=300.0/>\n",
       "            </div>\n",
       "        "
      ],
      "text/plain": [
       "Canvas(footer_visible=False, header_visible=False, resizable=False, toolbar=Toolbar(toolitems=[('Home', 'Reset…"
      ]
     },
     "metadata": {},
     "output_type": "display_data"
    }
   ],
   "source": [
    "gui_play()"
   ]
  },
  {
   "cell_type": "code",
   "execution_count": 17,
   "metadata": {},
   "outputs": [],
   "source": [
    "import pickle\n",
    "\n",
    "with open(\"test.pkl\", \"wb\") as f:\n",
    "    pickle.dump([1, 2, 3], f) "
   ]
  },
  {
   "cell_type": "code",
   "execution_count": 18,
   "metadata": {},
   "outputs": [
    {
     "name": "stdout",
     "output_type": "stream",
     "text": [
      "[1, 2, 3]\n"
     ]
    }
   ],
   "source": [
    "with open(\"test.pkl\", \"rb\") as f:\n",
    "    print(pickle.load(f)) "
   ]
  },
  {
   "cell_type": "code",
   "execution_count": 19,
   "metadata": {},
   "outputs": [],
   "source": [
    "def create_widgets(self):\n",
    "    # 乱数の種の Checkbox と IntText を作成する\n",
    "    self.checkbox = widgets.Checkbox(value=self.seed is not None, description=\"乱数の種\",\n",
    "                                     indent=False, layout=widgets.Layout(width=\"100px\"))\n",
    "    self.inttext = widgets.IntText(value=0 if self.seed is None else self.seed,\n",
    "                                   layout=widgets.Layout(width=\"100px\"))   \n",
    "\n",
    "    # 読み書きのボタンを作成する\n",
    "    self.load_button = self.create_button(\"開く\", 100)\n",
    "    self.save_button = self.create_button(\"保存\", 100)\n",
    "    \n",
    "    # AI を選択する Dropdown を作成する\n",
    "    self.create_dropdown()\n",
    "    # 変更、リセット、待ったボタンを作成する\n",
    "    self.change_button = self.create_button(\"変更\", 50)\n",
    "    self.reset_button = self.create_button(\"リセット\", 80)\n",
    "    self.undo_button = self.create_button(\"待った\", 60)    \n",
    "    \n",
    "    # リプレイのボタンとスライダーを作成する\n",
    "    self.first_button = self.create_button(\"<<\", 50)\n",
    "    self.prev_button = self.create_button(\"<\", 50)\n",
    "    self.next_button = self.create_button(\">\", 50)\n",
    "    self.last_button = self.create_button(\">>\", 50)     \n",
    "    self.slider = widgets.IntSlider(layout=widgets.Layout(width=\"200px\"))\n",
    "    # ゲーム盤の画像を表す figure を作成する\n",
    "    self.create_figure()       \n",
    "    \n",
    "Marubatsu_GUI.create_widgets = create_widgets"
   ]
  },
  {
   "cell_type": "code",
   "execution_count": 20,
   "metadata": {},
   "outputs": [],
   "source": [
    "def display_widgets(self):\n",
    "    # 乱数の種のウィジェット、読み書きのボタンを横に配置した HBox を作成する\n",
    "    hbox1 = widgets.HBox([self.checkbox, self.inttext, self.load_button, self.save_button])\n",
    "    # 〇 と × の dropdown とボタンを横に配置した HBox を作成する\n",
    "    hbox2 = widgets.HBox([self.dropdown_list[0], self.dropdown_list[1], self.change_button, self.reset_button, self.undo_button])\n",
    "    # リプレイ機能のボタンを横に配置した HBox を作成する\n",
    "    hbox3 = widgets.HBox([self.first_button, self.prev_button, self.next_button, self.last_button, self.slider]) \n",
    "    # hbox1 ~ hbox3 を縦に配置した VBox を作成し、表示する\n",
    "    display(widgets.VBox([hbox1, hbox2, hbox3])) \n",
    "    \n",
    "Marubatsu_GUI.display_widgets = display_widgets"
   ]
  },
  {
   "cell_type": "code",
   "execution_count": 21,
   "metadata": {},
   "outputs": [
    {
     "data": {
      "application/vnd.jupyter.widget-view+json": {
       "model_id": "1f83f0c2e34a40d0aa666a5bf0e3b11e",
       "version_major": 2,
       "version_minor": 0
      },
      "text/plain": [
       "VBox(children=(HBox(children=(Checkbox(value=False, description='乱数の種', indent=False, layout=Layout(width='100…"
      ]
     },
     "metadata": {},
     "output_type": "display_data"
    },
    {
     "data": {
      "application/vnd.jupyter.widget-view+json": {
       "model_id": "ae474eeda13245608b0cac96d6589c29",
       "version_major": 2,
       "version_minor": 0
      },
      "image/png": "[encoded data removed]",
      "text/html": [
       "\n",
       "            <div style=\"display: inline-block;\">\n",
       "                <div class=\"jupyter-widgets widget-label\" style=\"text-align: center;\">\n",
       "                    Figure\n",
       "                </div>\n",
       "                <img src='data:image/png;base64,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' width=300.0/>\n",
       "            </div>\n",
       "        "
      ],
      "text/plain": [
       "Canvas(footer_visible=False, header_visible=False, resizable=False, toolbar=Toolbar(toolitems=[('Home', 'Reset…"
      ]
     },
     "metadata": {},
     "output_type": "display_data"
    }
   ],
   "source": [
    "gui_play()"
   ]
  },
  {
   "cell_type": "code",
   "execution_count": 22,
   "metadata": {},
   "outputs": [
    {
     "name": "stdout",
     "output_type": "stream",
     "text": [
      "C:/Users/ys/ai/marubatsu/086/marubatsu.ipynb\n"
     ]
    }
   ],
   "source": [
    "from tkinter import Tk, filedialog\n",
    "\n",
    "root = Tk()\n",
    "root.withdraw()\n",
    "root.call('wm', 'attributes', '.', '-topmost', True)\n",
    "\n",
    "print(filedialog.askopenfilename())"
   ]
  },
  {
   "cell_type": "code",
   "execution_count": 23,
   "metadata": {},
   "outputs": [
    {
     "name": "stdout",
     "output_type": "stream",
     "text": [
      "C:/Users/ys/ai/marubatsu/086/test.pkl\n"
     ]
    }
   ],
   "source": [
    "root = Tk()\n",
    "root.withdraw()\n",
    "root.call('wm', 'attributes', '.', '-topmost', True)\n",
    "\n",
    "print(filedialog.asksaveasfilename())"
   ]
  },
  {
   "cell_type": "code",
   "execution_count": 24,
   "metadata": {},
   "outputs": [],
   "source": [
    "import math\n",
    "\n",
    "def create_event_handler(self):\n",
    "    # 乱数の種のチェックボックスのイベントハンドラを定義する\n",
    "    def on_checkbox_changed(changed):\n",
    "        self.update_widgets_status()\n",
    "        \n",
    "    self.checkbox.observe(on_checkbox_changed, names=\"value\")\n",
    "\n",
    "    # 開く、保存ボタンのイベントハンドラを定義する\n",
    "    def on_load_button_clicked(b):\n",
    "        root = Tk()\n",
    "        root.withdraw()\n",
    "        root.call('wm', 'attributes', '.', '-topmost', True)        \n",
    "        path = filedialog.askopenfilename()\n",
    "        if path != \"\":\n",
    "            with open(path, \"rb\") as f:\n",
    "                data = pickle.load(f)\n",
    "                self.mb.records = data[\"records\"]\n",
    "                self.mb.ai = data[\"ai\"]\n",
    "                change_step(data[\"move_count\"])\n",
    " \n",
    "    def on_save_button_clicked(b):\n",
    "        root = Tk()\n",
    "        root.withdraw()\n",
    "        root.call('wm', 'attributes', '.', '-topmost', True)        \n",
    "        path = filedialog.asksaveasfilename()\n",
    "        if path != \"\":\n",
    "            with open(path, \"wb\") as f:\n",
    "                data = {\n",
    "                    \"records\": self.mb.records,\n",
    "                    \"move_count\": self.mb.move_count,\n",
    "                    \"ai\": self.mb.ai,\n",
    "                }\n",
    "                pickle.dump(data, f)\n",
    "            \n",
    "    self.load_button.on_click(on_load_button_clicked)\n",
    "    self.save_button.on_click(on_save_button_clicked)\n",
    "    \n",
    "    # 変更ボタンのイベントハンドラを定義する\n",
    "    def on_change_button_clicked(b):\n",
    "        for i in range(2):\n",
    "            self.mb.ai[i] = None if self.dropdown_list[i].value == \"人間\" else self.dropdown_list[i].value\n",
    "        self.mb.play_loop(self)\n",
    "\n",
    "    # リセットボタンのイベントハンドラを定義する\n",
    "    def on_reset_button_clicked(b=None):\n",
    "        # 乱数の種のチェックボックスが ON の場合に、乱数の種の処理を行う\n",
    "        if self.checkbox.value:\n",
    "            random.seed(self.inttext.value)\n",
    "        self.mb.restart()\n",
    "        on_change_button_clicked(b)\n",
    "\n",
    "    # 待ったボタンのイベントハンドラを定義する\n",
    "    def on_undo_button_clicked(b=None):\n",
    "        if self.mb.move_count >= 2 and self.mb.move_count == len(self.mb.records) - 1:\n",
    "            self.mb.move_count -= 2\n",
    "            self.mb.records = self.mb.records[0:self.mb.move_count+1]\n",
    "            self.mb.change_step(self.mb.move_count)\n",
    "            self.draw_board()\n",
    "        \n",
    "    # イベントハンドラをボタンに結びつける\n",
    "    self.change_button.on_click(on_change_button_clicked)\n",
    "    self.reset_button.on_click(on_reset_button_clicked)   \n",
    "    self.undo_button.on_click(on_undo_button_clicked)   \n",
    "    \n",
    "    # step 手目の局面に移動する\n",
    "    def change_step(step):\n",
    "        self.mb.change_step(step)\n",
    "        # 描画を更新する\n",
    "        self.draw_board()        \n",
    "\n",
    "    def on_first_button_clicked(b=None):\n",
    "        change_step(0)\n",
    "\n",
    "    def on_prev_button_clicked(b=None):\n",
    "        change_step(self.mb.move_count - 1)\n",
    "\n",
    "    def on_next_button_clicked(b=None):\n",
    "        change_step(self.mb.move_count + 1)\n",
    "        \n",
    "    def on_last_button_clicked(b=None):\n",
    "        change_step(len(self.mb.records) - 1)\n",
    "\n",
    "    def on_slider_changed(changed):\n",
    "        if self.mb.move_count != changed[\"new\"]:\n",
    "            change_step(changed[\"new\"])\n",
    "            \n",
    "    self.first_button.on_click(on_first_button_clicked)\n",
    "    self.prev_button.on_click(on_prev_button_clicked)\n",
    "    self.next_button.on_click(on_next_button_clicked)\n",
    "    self.last_button.on_click(on_last_button_clicked)\n",
    "    self.slider.observe(on_slider_changed, names=\"value\")\n",
    "    \n",
    "    # ゲーム盤の上でマウスを押した場合のイベントハンドラ\n",
    "    def on_mouse_down(event):\n",
    "        # Axes の上でマウスを押していた場合のみ処理を行う\n",
    "        if event.inaxes and self.mb.status == Marubatsu.PLAYING:\n",
    "            x = math.floor(event.xdata)\n",
    "            y = math.floor(event.ydata)\n",
    "            self.mb.move(x, y)                \n",
    "            # 次の手番の処理を行うメソッドを呼び出す\n",
    "            self.mb.play_loop(self)\n",
    "\n",
    "    # ゲーム盤を選択した状態でキーを押した場合のイベントハンドラ\n",
    "    def on_key_press(event):\n",
    "        keymap = {\n",
    "            \"up\": on_first_button_clicked,\n",
    "            \"left\": on_prev_button_clicked,\n",
    "            \"right\": on_next_button_clicked,\n",
    "            \"down\": on_last_button_clicked,\n",
    "            \"0\": on_undo_button_clicked,\n",
    "            \"enter\": on_reset_button_clicked,            \n",
    "        }\n",
    "        if event.key in keymap:\n",
    "            keymap[event.key]()\n",
    "        else:\n",
    "            try:\n",
    "                num = int(event.key) - 1\n",
    "                event.inaxes = True\n",
    "                event.xdata = num % 3\n",
    "                event.ydata = 2 - (num // 3)\n",
    "                on_mouse_down(event)\n",
    "            except:\n",
    "                pass\n",
    "            \n",
    "    # fig の画像イベントハンドラを結び付ける\n",
    "    self.fig.canvas.mpl_connect(\"button_press_event\", on_mouse_down)     \n",
    "    self.fig.canvas.mpl_connect(\"key_press_event\", on_key_press)  \n",
    "    \n",
    "Marubatsu_GUI.create_event_handler = create_event_handler"
   ]
  },
  {
   "cell_type": "code",
   "execution_count": 26,
   "metadata": {},
   "outputs": [
    {
     "data": {
      "application/vnd.jupyter.widget-view+json": {
       "model_id": "77b1c2c074e44a9fa43ea111de5a33d2",
       "version_major": 2,
       "version_minor": 0
      },
      "text/plain": [
       "VBox(children=(HBox(children=(Checkbox(value=False, description='乱数の種', indent=False, layout=Layout(width='100…"
      ]
     },
     "metadata": {},
     "output_type": "display_data"
    },
    {
     "data": {
      "application/vnd.jupyter.widget-view+json": {
       "model_id": "e0d1ade1d730482cbdab9d2692ce3417",
       "version_major": 2,
       "version_minor": 0
      },
      "image/png": "[encoded data removed]",
      "text/html": [
       "\n",
       "            <div style=\"display: inline-block;\">\n",
       "                <div class=\"jupyter-widgets widget-label\" style=\"text-align: center;\">\n",
       "                    Figure\n",
       "                </div>\n",
       "                <img src='data:image/png;base64,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' width=300.0/>\n",
       "            </div>\n",
       "        "
      ],
      "text/plain": [
       "Canvas(footer_visible=False, header_visible=False, resizable=False, toolbar=Toolbar(toolitems=[('Home', 'Reset…"
      ]
     },
     "metadata": {},
     "output_type": "display_data"
    }
   ],
   "source": [
    "gui_play()"
   ]
  }
 ],
 "metadata": {
  "kernelspec": {
   "display_name": "marubatsu",
   "language": "python",
   "name": "python3"
  },
  "language_info": {
   "codemirror_mode": {
    "name": "ipython",
    "version": 3
   },
   "file_extension": ".py",
   "mimetype": "text/x-python",
   "name": "python",
   "nbconvert_exporter": "python",
   "pygments_lexer": "ipython3",
   "version": "3.11.4"
  }
 },
 "nbformat": 4,
 "nbformat_minor": 2
}
