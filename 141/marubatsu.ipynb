{
 "cells": [
  {
   "cell_type": "code",
   "execution_count": 1,
   "metadata": {},
   "outputs": [],
   "source": [
    "from marubatsu import Marubatsu\n",
    "from tree import Mbtree\n",
    "\n",
    "def calc_score_by_ab(self, abroot, debug=False):           \n",
    "    self.count = 0\n",
    "      \n",
    "    def calc_ab_score(node, alpha=float(\"-inf\"), beta=float(\"inf\")):\n",
    "        self.nodelist_by_score.append(node)\n",
    "        self.ablist_by_score.append((alpha, beta))\n",
    "        self.count += 1\n",
    "        if node.mb.status != Marubatsu.PLAYING:\n",
    "            self.calc_score_of_node(node)\n",
    "        else:\n",
    "            if node.mb.turn == Marubatsu.CIRCLE:\n",
    "                for childnode in node.children:\n",
    "                    score = calc_ab_score(childnode, alpha, beta)\n",
    "                    self.nodelist_by_score.append(node)\n",
    "                    if score >= beta:\n",
    "                        alpha = score\n",
    "                        self.ablist_by_score.append((alpha, beta))\n",
    "                        break\n",
    "                    alpha = max(alpha, score)\n",
    "                    self.ablist_by_score.append((alpha, beta))\n",
    "                node.score = alpha\n",
    "            else:\n",
    "                for childnode in node.children:\n",
    "                    score = calc_ab_score(childnode, alpha, beta)\n",
    "                    self.nodelist_by_score.append(node)\n",
    "                    if score <= alpha:\n",
    "                        beta = score\n",
    "                        self.ablist_by_score.append((alpha, beta))\n",
    "                        break\n",
    "                    beta = min(beta, score)\n",
    "                    self.ablist_by_score.append((alpha, beta))\n",
    "                node.score = beta\n",
    "\n",
    "        self.nodelist_by_score.append(node)\n",
    "        self.ablist_by_score.append((alpha, beta))\n",
    "        node.score_index = len(self.nodelist_by_score) - 1          \n",
    "        return node.score\n",
    "\n",
    "    from ai import dprint       \n",
    "    for node in self.nodelist:\n",
    "        node.score_index = float(\"inf\")\n",
    "    self.nodelist_by_score = []\n",
    "    self.ablist_by_score = []\n",
    "    calc_ab_score(abroot)\n",
    "    dprint(debug, \"count =\", self.count) \n",
    "    \n",
    "Mbtree.calc_score_by_ab = calc_score_by_ab"
   ]
  },
  {
   "cell_type": "code",
   "execution_count": 2,
   "metadata": {},
   "outputs": [],
   "source": [
    "from tree import Mbtree_Anim\n",
    "\n",
    "def __init__(self, mbtree, isscore=False, size=0.15):\n",
    "    self.mbtree = mbtree\n",
    "    self.isscore = isscore\n",
    "    self.size = size\n",
    "    self.width = 50\n",
    "    self.height = 66\n",
    "    self.nodelist = self.mbtree.nodelist_by_score if isscore else self.mbtree.nodelist \n",
    "    self.nodenum = len(self.nodelist)\n",
    "    super(Mbtree_Anim, self).__init__()\n",
    "\n",
    "Mbtree_Anim .__init__ = __init__"
   ]
  },
  {
   "cell_type": "code",
   "execution_count": 3,
   "metadata": {},
   "outputs": [],
   "source": [
    "def update_gui(self):\n",
    "    self.ax.clear()\n",
    "    self.ax.set_xlim(-1, self.width - 1)\n",
    "    self.ax.set_ylim(-2, self.height - 2)   \n",
    "    self.ax.invert_yaxis()\n",
    "    self.ax.axis(\"off\")   \n",
    "    \n",
    "    self.selectednode = self.nodelist[self.play.value]\n",
    "    self.centernode = self.selectednode\n",
    "    if self.mbtree.algo == \"bf\":\n",
    "        if self.centernode.depth > 0:\n",
    "            self.centernode = self.centernode.parent\n",
    "    while self.centernode.depth > 6:\n",
    "        self.centernode = self.centernode.parent\n",
    "    if self.centernode.depth <= 4:\n",
    "        maxdepth = self.centernode.depth + 1\n",
    "    elif self.centernode.depth == 5:\n",
    "        maxdepth = 7\n",
    "    else:\n",
    "        maxdepth = 9\n",
    "    self.mbtree.draw_subtree(centernode=self.centernode, selectednode=self.selectednode,\n",
    "                             anim_frame=self.play.value, isscore=self.isscore, \n",
    "                             ax=self.ax, maxdepth=maxdepth, size=self.size)\n",
    "    if self.isscore and hasattr(self.mbtree, \"ablist_by_score\"):\n",
    "        fontsize = 70 * self.size\n",
    "        alpha, beta = self.mbtree.ablist_by_score[self.play.value]\n",
    "        self.ax.text(0, -1, f\"α: {alpha}\", fontsize=fontsize)        \n",
    "        self.ax.text(10, -1, f\"β: {beta}\", fontsize=fontsize)        \n",
    "                            \n",
    "    disabled = self.play.value == 0\n",
    "    self.set_button_status(self.prev_button, disabled=disabled)\n",
    "    disabled = self.play.value == self.nodenum - 1\n",
    "    self.set_button_status(self.next_button, disabled=disabled)\n",
    "    \n",
    "Mbtree_Anim.update_gui = update_gui"
   ]
  },
  {
   "cell_type": "code",
   "execution_count": 4,
   "metadata": {},
   "outputs": [
    {
     "data": {
      "application/vnd.jupyter.widget-view+json": {
       "model_id": "268099d00c2b4771bc9bb28a274b0256",
       "version_major": 2,
       "version_minor": 0
      },
      "text/plain": [
       "VBox(children=(HBox(children=(Play(value=0, interval=500, max=1649836), Button(description='<', layout=Layout(…"
      ]
     },
     "metadata": {},
     "output_type": "display_data"
    },
    {
     "data": {
      "text/plain": [
       "<tree.Mbtree_Anim at 0x215a89411d0>"
      ]
     },
     "execution_count": 4,
     "metadata": {},
     "output_type": "execute_result"
    }
   ],
   "source": [
    "mbtree = Mbtree(algo=\"df\")\n",
    "Mbtree_Anim(mbtree, isscore=True)"
   ]
  },
  {
   "cell_type": "code",
   "execution_count": 5,
   "metadata": {},
   "outputs": [
    {
     "data": {
      "application/vnd.jupyter.widget-view+json": {
       "model_id": "3d751765e10d490f82a020c280f2a629",
       "version_major": 2,
       "version_minor": 0
      },
      "text/plain": [
       "VBox(children=(HBox(children=(Play(value=0, interval=500, max=54889), Button(description='<', layout=Layout(wi…"
      ]
     },
     "metadata": {},
     "output_type": "display_data"
    },
    {
     "data": {
      "text/plain": [
       "<tree.Mbtree_Anim at 0x215b483d010>"
      ]
     },
     "execution_count": 5,
     "metadata": {},
     "output_type": "execute_result"
    }
   ],
   "source": [
    "mbtree.calc_score_by_ab(mbtree.root)\n",
    "Mbtree_Anim(mbtree, isscore=True)"
   ]
  },
  {
   "cell_type": "code",
   "execution_count": 6,
   "metadata": {},
   "outputs": [],
   "source": [
    "import matplotlib.patches as patches\n",
    "\n",
    "def draw_subtree(self, centernode=None, selectednode=None, ax=None, anim_frame=None,\n",
    "                    isscore=False, show_bestmove=False, show_score=True, size=0.25, lw=0.8, maxdepth=2):\n",
    "    \n",
    "    def calc_darkness(node):\n",
    "        if show_bestmove:\n",
    "            if node.parent is None:\n",
    "                return 0, show_score\n",
    "            elif node.mb.last_move in node.parent.bestmoves:\n",
    "                return 0, show_score\n",
    "            else:\n",
    "                return 0.2, show_score\n",
    "            \n",
    "        if anim_frame is None:\n",
    "            return 0, show_score\n",
    "        index = node.score_index if isscore else node.id\n",
    "        return (0.5, False) if index > anim_frame else (0, isscore)\n",
    "    \n",
    "    self.nodes_by_rect = {}\n",
    "\n",
    "    if centernode is None:\n",
    "        centernode = self.root\n",
    "    self.calc_node_height(N=centernode, maxdepth=maxdepth)\n",
    "    if show_bestmove:\n",
    "        width = 5 * 10\n",
    "    else:\n",
    "        width = 5 * (maxdepth + 1)\n",
    "    height = centernode.height\n",
    "    parent = centernode.parent\n",
    "    if parent is not None:\n",
    "        height += (len(parent.children) - 1) * 4\n",
    "        parent.height = height\n",
    "    if ax is None:\n",
    "        fig, ax = plt.subplots(figsize=(width * size, (height + 1) * size))\n",
    "        ax.set_xlim(0, width)\n",
    "        ax.set_ylim(-1, height)   \n",
    "        ax.invert_yaxis()\n",
    "        ax.axis(\"off\")        \n",
    "    \n",
    "    bottom, top = ax.get_ylim()\n",
    "    top = -1\n",
    "    for depth in range(1, 10, 2):\n",
    "        ax.add_artist(patches.Rectangle(xy=(depth * 5 - 1, top), width=5,\n",
    "                                        height=bottom - top, fc=\"whitesmoke\"))               \n",
    "\n",
    "    if show_bestmove:\n",
    "        bestx = 5 * maxdepth + 4\n",
    "        bestwidth = 50 - bestx\n",
    "        ax.add_artist(patches.Rectangle(xy=(bestx, -1), width=bestwidth,\n",
    "                                        height=height + 1, fc=\"lightgray\"))\n",
    "    \n",
    "    nodelist = [centernode]\n",
    "    depth = centernode.depth\n",
    "    while len(nodelist) > 0 and depth <= maxdepth:        \n",
    "        dy = 0\n",
    "        if parent is not None:\n",
    "            dy = parent.children.index(centernode) * 4\n",
    "        childnodelist = []\n",
    "        for node in nodelist:\n",
    "            if node is None:\n",
    "                dy += 4\n",
    "                childnodelist.append(None)\n",
    "            else:\n",
    "                dx = 5 * node.depth\n",
    "                emphasize = node is selectednode\n",
    "                darkness, show_score = calc_darkness(node)\n",
    "                rect = node.draw_node(ax=ax, maxdepth=maxdepth, emphasize=emphasize, darkness=darkness,\n",
    "                                    show_score=show_score, size=size, lw=lw, dx=dx, dy=dy)\n",
    "                self.nodes_by_rect[rect] = node\n",
    "                if show_bestmove and depth == maxdepth:\n",
    "                    bestnode = node\n",
    "                    while len(bestnode.bestmoves) > 0:\n",
    "                        bestmove = bestnode.bestmoves[0]\n",
    "                        bestnode = bestnode.children_by_move[bestmove]\n",
    "                        dx = 5 * bestnode.depth\n",
    "                        bestnode.height = 4\n",
    "                        emphasize = bestnode is selectednode\n",
    "                        rect = bestnode.draw_node(ax=ax, maxdepth=bestnode.depth, emphasize=emphasize,\n",
    "                                                show_score=show_score, size=size, lw=lw, dx=dx, dy=dy)\n",
    "                        self.nodes_by_rect[rect] = bestnode                                          \n",
    "                    \n",
    "                dy += node.height\n",
    "                if len(node.children) > 0:  \n",
    "                    childnodelist += node.children\n",
    "                else:\n",
    "                    childnodelist.append(None)\n",
    "        depth += 1\n",
    "        nodelist = childnodelist\n",
    "        \n",
    "    if parent is not None:\n",
    "        dy = 0\n",
    "        for sibling in parent.children:\n",
    "            if sibling is not centernode:\n",
    "                sibling.height = 4\n",
    "                dx = 5 * sibling.depth\n",
    "                darkness, show_score  = calc_darkness(sibling)\n",
    "                rect = sibling.draw_node(ax, maxdepth=sibling.depth, size=size, darkness=darkness,\n",
    "                                        show_score=show_score, lw=lw, dx=dx, dy=dy)\n",
    "                self.nodes_by_rect[rect] = sibling\n",
    "            dy += sibling.height\n",
    "        dx = 5 * parent.depth\n",
    "        darkness, show_score  = calc_darkness(parent)\n",
    "        rect = parent.draw_node(ax, maxdepth=maxdepth, darkness=darkness, \n",
    "                                show_score=show_score, size=size, lw=lw, dx=dx, dy=0)\n",
    "        self.nodes_by_rect[rect] = parent\n",
    "    \n",
    "        node = parent\n",
    "        while node.parent is not None:\n",
    "            node = node.parent\n",
    "            node.height = height\n",
    "            dx = 5 * node.depth\n",
    "            darkness, show_score  = calc_darkness(node)\n",
    "            rect = node.draw_node(ax, maxdepth=node.depth, darkness=darkness,\n",
    "                                show_score=show_score, size=size, lw=lw, dx=dx, dy=0)\n",
    "            self.nodes_by_rect[rect] = node\n",
    "            \n",
    "Mbtree.draw_subtree = draw_subtree"
   ]
  },
  {
   "cell_type": "code",
   "execution_count": 7,
   "metadata": {},
   "outputs": [
    {
     "data": {
      "application/vnd.jupyter.widget-view+json": {
       "model_id": "7852f9f59e27467987ea06e23d6f2164",
       "version_major": 2,
       "version_minor": 0
      },
      "text/plain": [
       "VBox(children=(HBox(children=(Play(value=0, interval=500, max=54889), Button(description='<', layout=Layout(wi…"
      ]
     },
     "metadata": {},
     "output_type": "display_data"
    },
    {
     "data": {
      "text/plain": [
       "<tree.Mbtree_Anim at 0x215b5244c10>"
      ]
     },
     "execution_count": 7,
     "metadata": {},
     "output_type": "execute_result"
    }
   ],
   "source": [
    "Mbtree_Anim(mbtree, isscore=True)"
   ]
  },
  {
   "cell_type": "code",
   "execution_count": 8,
   "metadata": {},
   "outputs": [],
   "source": [
    "def update_gui(self):\n",
    "    self.ax.clear()\n",
    "    self.ax.set_xlim(-1, self.width - 1)\n",
    "    self.ax.set_ylim(-2, self.height - 2)   \n",
    "    self.ax.invert_yaxis()\n",
    "    self.ax.axis(\"off\")   \n",
    "    \n",
    "    self.selectednode = self.nodelist[self.play.value]\n",
    "    self.centernode = self.selectednode\n",
    "    if self.mbtree.algo == \"bf\":\n",
    "        if self.centernode.depth > 0:\n",
    "            self.centernode = self.centernode.parent\n",
    "    while self.centernode.depth > 6:\n",
    "        self.centernode = self.centernode.parent\n",
    "    if self.centernode.depth <= 4:\n",
    "        maxdepth = self.centernode.depth + 1\n",
    "    elif self.centernode.depth == 5:\n",
    "        maxdepth = 7\n",
    "    else:\n",
    "        maxdepth = 9\n",
    "    self.mbtree.draw_subtree(centernode=self.centernode, selectednode=self.selectednode,\n",
    "                            anim_frame=self.play.value, isscore=self.isscore, \n",
    "                            ax=self.ax, maxdepth=maxdepth, size=self.size)\n",
    "    if self.isscore and hasattr(self.mbtree, \"ablist_by_score\"):\n",
    "        fontsize = 70 * self.size\n",
    "        acolor = \"red\" if self.selectednode.mb.turn == Marubatsu.CIRCLE else \"black\"\n",
    "        bcolor = \"black\" if self.selectednode.mb.turn == Marubatsu.CIRCLE else \"red\"\n",
    "        alpha, beta = self.mbtree.ablist_by_score[self.play.value]\n",
    "        self.ax.text(0, -1, f\"α: {alpha}\", fontsize=fontsize, c=acolor)        \n",
    "        self.ax.text(10, -1, f\"β: {beta}\", fontsize=fontsize, c=bcolor)        \n",
    "                            \n",
    "    disabled = self.play.value == 0\n",
    "    self.set_button_status(self.prev_button, disabled=disabled)\n",
    "    disabled = self.play.value == self.nodenum - 1\n",
    "    self.set_button_status(self.next_button, disabled=disabled)\n",
    "    \n",
    "Mbtree_Anim.update_gui = update_gui"
   ]
  },
  {
   "cell_type": "code",
   "execution_count": 9,
   "metadata": {},
   "outputs": [
    {
     "data": {
      "application/vnd.jupyter.widget-view+json": {
       "model_id": "78eba067f5a54517a80659cdce0726d1",
       "version_major": 2,
       "version_minor": 0
      },
      "text/plain": [
       "VBox(children=(HBox(children=(Play(value=0, interval=500, max=54889), Button(description='<', layout=Layout(wi…"
      ]
     },
     "metadata": {},
     "output_type": "display_data"
    },
    {
     "data": {
      "text/plain": [
       "<tree.Mbtree_Anim at 0x215b7aa2ed0>"
      ]
     },
     "execution_count": 9,
     "metadata": {},
     "output_type": "execute_result"
    }
   ],
   "source": [
    "Mbtree_Anim(mbtree, isscore=True)"
   ]
  },
  {
   "cell_type": "code",
   "execution_count": 10,
   "metadata": {},
   "outputs": [],
   "source": [
    "def calc_score_by_ab(self, abroot, debug=False):           \n",
    "    self.count = 0\n",
    "      \n",
    "    def calc_ab_score(node, alpha=float(\"-inf\"), beta=float(\"inf\")):\n",
    "        self.nodelist_by_score.append(node)\n",
    "        self.ablist_by_score.append((alpha, beta, \"このノードの処理の開始\"))\n",
    "        self.count += 1\n",
    "        if node.mb.status != Marubatsu.PLAYING:\n",
    "            self.calc_score_of_node(node)\n",
    "        else:\n",
    "            if node.mb.turn == Marubatsu.CIRCLE:\n",
    "                for childnode in node.children:\n",
    "                    score = calc_ab_score(childnode, alpha, beta)\n",
    "                    self.nodelist_by_score.append(node)\n",
    "                    self.ablist_by_score.append((alpha, beta, f\"child score = {score}\"))\n",
    "                    if score >= beta:\n",
    "                        alpha = score\n",
    "                        self.nodelist_by_score.append(node)\n",
    "                        self.ablist_by_score.append((alpha, beta, f\"child score = {score} ≧ {beta}(β値) によるβ狩り\"))\n",
    "                        break\n",
    "                    \n",
    "                    if score > alpha:\n",
    "                        message = f\"child score = {score} > {alpha}(α値)によるα値の更新\"\n",
    "                        alpha = score\n",
    "                    else:\n",
    "                        message = f\"child score = {score} ≦ {alpha}(α値)なのでα値の更新は行わない\"\n",
    "                    self.nodelist_by_score.append(node)\n",
    "                    self.ablist_by_score.append((alpha, beta, message))\n",
    "                node.score = alpha\n",
    "            else:\n",
    "                for childnode in node.children:\n",
    "                    score = calc_ab_score(childnode, alpha, beta)\n",
    "                    self.nodelist_by_score.append(node)\n",
    "                    self.ablist_by_score.append((alpha, beta, f\"child score = {score}\"))\n",
    "                    if score <= alpha:\n",
    "                        beta = score\n",
    "                        self.nodelist_by_score.append(node)\n",
    "                        self.ablist_by_score.append((alpha, beta, f\"child score = {score} ≦ {alpha}(α値)によるα狩り\"))\n",
    "                        break\n",
    "                    if score < beta:\n",
    "                        message = f\"child score = {score} < {beta}(β値) によるβ値の更新\"\n",
    "                        beta = score\n",
    "                    else:\n",
    "                        message = f\"child score = {score} ≧ {beta}(β値) なのでβ値の更新は行わない\"\n",
    "                    self.nodelist_by_score.append(node)\n",
    "                    self.ablist_by_score.append((alpha, beta, message))\n",
    "                node.score = beta\n",
    "\n",
    "        self.nodelist_by_score.append(node)\n",
    "        self.ablist_by_score.append((alpha, beta, f\"このノードの評価値が {node.score} で確定\"))\n",
    "        node.score_index = len(self.nodelist_by_score) - 1          \n",
    "        return node.score\n",
    "\n",
    "    from ai import dprint       \n",
    "    for node in self.nodelist:\n",
    "        node.score_index = float(\"inf\")\n",
    "    self.nodelist_by_score = []\n",
    "    self.ablist_by_score = []\n",
    "    calc_ab_score(abroot)\n",
    "    dprint(debug, \"count =\", self.count) \n",
    "    \n",
    "Mbtree.calc_score_by_ab = calc_score_by_ab"
   ]
  },
  {
   "cell_type": "code",
   "execution_count": 11,
   "metadata": {},
   "outputs": [],
   "source": [
    "def update_gui(self):\n",
    "    self.ax.clear()\n",
    "    self.ax.set_xlim(-1, self.width - 1)\n",
    "    self.ax.set_ylim(-2, self.height - 2)   \n",
    "    self.ax.invert_yaxis()\n",
    "    self.ax.axis(\"off\")   \n",
    "    \n",
    "    self.selectednode = self.nodelist[self.play.value]\n",
    "    self.centernode = self.selectednode\n",
    "    if self.mbtree.algo == \"bf\":\n",
    "        if self.centernode.depth > 0:\n",
    "            self.centernode = self.centernode.parent\n",
    "    while self.centernode.depth > 6:\n",
    "        self.centernode = self.centernode.parent\n",
    "    if self.centernode.depth <= 4:\n",
    "        maxdepth = self.centernode.depth + 1\n",
    "    elif self.centernode.depth == 5:\n",
    "        maxdepth = 7\n",
    "    else:\n",
    "        maxdepth = 9\n",
    "    self.mbtree.draw_subtree(centernode=self.centernode, selectednode=self.selectednode,\n",
    "                            anim_frame=self.play.value, isscore=self.isscore, \n",
    "                            ax=self.ax, maxdepth=maxdepth, size=self.size)\n",
    "    if self.isscore and hasattr(self.mbtree, \"ablist_by_score\"):\n",
    "        fontsize = 70 * self.size\n",
    "        alpha, beta, message = self.mbtree.ablist_by_score[self.play.value]\n",
    "        acolor = \"red\" if self.selectednode.mb.turn == Marubatsu.CIRCLE else \"black\"\n",
    "        bcolor = \"black\" if self.selectednode.mb.turn == Marubatsu.CIRCLE else \"red\"\n",
    "        self.ax.text(0, -1, f\"α: {alpha}\", fontsize=fontsize, c=acolor)        \n",
    "        self.ax.text(9, -1, f\"β: {beta}\", fontsize=fontsize, c=bcolor)        \n",
    "        self.ax.text(19, -1, message, fontsize=fontsize)             \n",
    "                            \n",
    "    disabled = self.play.value == 0\n",
    "    self.set_button_status(self.prev_button, disabled=disabled)\n",
    "    disabled = self.play.value == self.nodenum - 1\n",
    "    self.set_button_status(self.next_button, disabled=disabled)\n",
    "    \n",
    "Mbtree_Anim.update_gui = update_gui"
   ]
  },
  {
   "cell_type": "code",
   "execution_count": 12,
   "metadata": {},
   "outputs": [
    {
     "data": {
      "application/vnd.jupyter.widget-view+json": {
       "model_id": "17795f32a0f04fb18afe6e47b02e9b49",
       "version_major": 2,
       "version_minor": 0
      },
      "text/plain": [
       "VBox(children=(HBox(children=(Play(value=0, interval=500, max=73185), Button(description='<', layout=Layout(wi…"
      ]
     },
     "metadata": {},
     "output_type": "display_data"
    },
    {
     "data": {
      "text/plain": [
       "<tree.Mbtree_Anim at 0x215b7261ad0>"
      ]
     },
     "execution_count": 12,
     "metadata": {},
     "output_type": "execute_result"
    }
   ],
   "source": [
    "mbtree.calc_score_by_ab(mbtree.root)\n",
    "Mbtree_Anim(mbtree, isscore=True)"
   ]
  }
 ],
 "metadata": {
  "kernelspec": {
   "display_name": "marubatsu",
   "language": "python",
   "name": "python3"
  },
  "language_info": {
   "codemirror_mode": {
    "name": "ipython",
    "version": 3
   },
   "file_extension": ".py",
   "mimetype": "text/x-python",
   "name": "python",
   "nbconvert_exporter": "python",
   "pygments_lexer": "ipython3",
   "version": "3.11.4"
  }
 },
 "nbformat": 4,
 "nbformat_minor": 2
}
