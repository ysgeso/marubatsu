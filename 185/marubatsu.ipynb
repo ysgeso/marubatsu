{
 "cells": [
  {
   "cell_type": "code",
   "execution_count": 1,
   "metadata": {},
   "outputs": [],
   "source": [
    "from ai import ai_abs_dls, ai14s\n",
    "from marubatsu import Marubatsu\n",
    "\n",
    "mb = Marubatsu()\n",
    "eval_params = {\"minimax\": True}"
   ]
  },
  {
   "cell_type": "code",
   "execution_count": 2,
   "metadata": {},
   "outputs": [
    {
     "name": "stdout",
     "output_type": "stream",
     "text": [
      "68.7 ms ± 1.76 ms per loop (mean ± std. dev. of 7 runs, 10 loops each)\n"
     ]
    }
   ],
   "source": [
    "%%timeit\n",
    "\n",
    "ai_abs_dls(mb, eval_func=ai14s, eval_params=eval_params, use_tt=True, maxdepth=9)"
   ]
  },
  {
   "cell_type": "code",
   "execution_count": 3,
   "metadata": {},
   "outputs": [
    {
     "ename": "TypeError",
     "evalue": "cannot unpack non-iterable NoneType object",
     "output_type": "error",
     "traceback": [
      "\u001b[1;31m---------------------------------------------------------------------------\u001b[0m",
      "\u001b[1;31mTypeError\u001b[0m                                 Traceback (most recent call last)",
      "Cell \u001b[1;32mIn[3], line 3\u001b[0m\n\u001b[0;32m      1\u001b[0m \u001b[38;5;28;01mfrom\u001b[39;00m \u001b[38;5;21;01mai\u001b[39;00m \u001b[38;5;28;01mimport\u001b[39;00m show_progress, ai2, ai11s\n\u001b[1;32m----> 3\u001b[0m show_progress(ai\u001b[38;5;241m=\u001b[39m[ai2, ai11s], winner\u001b[38;5;241m=\u001b[39mMarubatsu\u001b[38;5;241m.\u001b[39mCIRCLE)\n",
      "File \u001b[1;32mc:\\Users\\ys\\ai\\marubatsu\\185\\ai.py:450\u001b[0m, in \u001b[0;36mshow_progress\u001b[1;34m(ai, winner, params)\u001b[0m\n\u001b[0;32m    448\u001b[0m records \u001b[38;5;241m=\u001b[39m mb\u001b[38;5;241m.\u001b[39mrecords\n\u001b[0;32m    449\u001b[0m mb\u001b[38;5;241m.\u001b[39mrestart()\n\u001b[1;32m--> 450\u001b[0m \u001b[38;5;28;01mfor\u001b[39;00m x, y \u001b[38;5;129;01min\u001b[39;00m records:\n\u001b[0;32m    451\u001b[0m     mb\u001b[38;5;241m.\u001b[39mmove(x, y)\n\u001b[0;32m    452\u001b[0m     \u001b[38;5;28mprint\u001b[39m(mb)\n",
      "\u001b[1;31mTypeError\u001b[0m: cannot unpack non-iterable NoneType object"
     ]
    }
   ],
   "source": [
    "from ai import show_progress, ai2, ai11s\n",
    "\n",
    "show_progress(ai=[ai2, ai11s], winner=Marubatsu.CIRCLE)"
   ]
  },
  {
   "cell_type": "code",
   "execution_count": 4,
   "metadata": {},
   "outputs": [],
   "source": [
    "def show_progress(ai, winner, params=[{}, {}]):\n",
    "    mb = Marubatsu()\n",
    "    while True:\n",
    "        if mb.play(ai=ai, verbose=False, params=params) == winner:\n",
    "            records = mb.records\n",
    "            mb.restart()\n",
    "            for x, y in records[1:]:\n",
    "                mb.move(x, y)\n",
    "                print(mb)\n",
    "            break"
   ]
  },
  {
   "cell_type": "code",
   "execution_count": 5,
   "metadata": {},
   "outputs": [
    {
     "name": "stdout",
     "output_type": "stream",
     "text": [
      "Turn x\n",
      "..O\n",
      "...\n",
      "...\n",
      "\n",
      "Turn o\n",
      "..o\n",
      ".X.\n",
      "...\n",
      "\n",
      "Turn x\n",
      "..o\n",
      ".x.\n",
      "O..\n",
      "\n",
      "Turn o\n",
      "..o\n",
      ".x.\n",
      "o.X\n",
      "\n",
      "Turn x\n",
      "O.o\n",
      ".x.\n",
      "o.x\n",
      "\n",
      "Turn o\n",
      "o.o\n",
      ".xX\n",
      "o.x\n",
      "\n",
      "winner o\n",
      "o.o\n",
      "Oxx\n",
      "o.x\n",
      "\n"
     ]
    }
   ],
   "source": [
    "show_progress(ai=[ai2, ai11s], winner=Marubatsu.CIRCLE)"
   ]
  },
  {
   "cell_type": "code",
   "execution_count": 6,
   "metadata": {},
   "outputs": [
    {
     "name": "stdout",
     "output_type": "stream",
     "text": [
      "[None]\n"
     ]
    }
   ],
   "source": [
    "mb = Marubatsu()\n",
    "print(mb.records)"
   ]
  },
  {
   "cell_type": "code",
   "execution_count": 7,
   "metadata": {},
   "outputs": [],
   "source": [
    "def restart(self):\n",
    "    self.initialize_board()\n",
    "    self.turn = Marubatsu.CIRCLE     \n",
    "    self.move_count = 0\n",
    "    self.status = Marubatsu.PLAYING\n",
    "    self.last_move = -1, -1          \n",
    "    self.last_turn = None\n",
    "    self.records = [self.last_move]\n",
    "    \n",
    "Marubatsu.restart = restart"
   ]
  },
  {
   "cell_type": "code",
   "execution_count": 8,
   "metadata": {},
   "outputs": [
    {
     "name": "stdout",
     "output_type": "stream",
     "text": [
      "[(-1, -1)]\n"
     ]
    }
   ],
   "source": [
    "mb = Marubatsu()\n",
    "print(mb.records)"
   ]
  },
  {
   "cell_type": "code",
   "execution_count": 9,
   "metadata": {},
   "outputs": [],
   "source": [
    "def remove_mark(self, x, y):\n",
    "    if 0 <= x < self.BOARD_SIZE and 0 <= y < self.BOARD_SIZE:\n",
    "        if self.board[x][y] != Marubatsu.EMPTY:\n",
    "            self.board[x][y] = Marubatsu.EMPTY\n",
    "            return True\n",
    "        else:\n",
    "            print(\"(\", x, \",\", y, \") のマスにはマークがありません\")\n",
    "            return False\n",
    "    else:\n",
    "        print(\"(\", x, \",\", y, \") はゲーム盤の範囲外の座標です\")\n",
    "        return False   \n",
    "    \n",
    "Marubatsu.remove_mark = remove_mark"
   ]
  },
  {
   "cell_type": "code",
   "execution_count": 10,
   "metadata": {},
   "outputs": [
    {
     "name": "stdout",
     "output_type": "stream",
     "text": [
      "Turn x\n",
      "...\n",
      ".O.\n",
      "...\n",
      "\n",
      "Turn x\n",
      "...\n",
      "...\n",
      "...\n",
      "\n"
     ]
    }
   ],
   "source": [
    "mb = Marubatsu()\n",
    "mb.move(1, 1)\n",
    "print(mb)\n",
    "mb.remove_mark(1, 1)\n",
    "print(mb)"
   ]
  },
  {
   "cell_type": "code",
   "execution_count": 11,
   "metadata": {},
   "outputs": [
    {
     "name": "stdout",
     "output_type": "stream",
     "text": [
      "[1, 2]\n",
      "3\n"
     ]
    }
   ],
   "source": [
    "a = [1, 2, 3]\n",
    "b = a.pop()\n",
    "print(a)\n",
    "print(b)"
   ]
  },
  {
   "cell_type": "code",
   "execution_count": 12,
   "metadata": {},
   "outputs": [
    {
     "name": "stdout",
     "output_type": "stream",
     "text": [
      "[1, 3]\n",
      "2\n"
     ]
    }
   ],
   "source": [
    "a = [1, 2, 3]\n",
    "b = a.pop(1)\n",
    "print(a)\n",
    "print(b)"
   ]
  },
  {
   "cell_type": "code",
   "execution_count": 13,
   "metadata": {},
   "outputs": [
    {
     "name": "stdout",
     "output_type": "stream",
     "text": [
      "{'x': 1, 'y': 2}\n",
      "3\n"
     ]
    }
   ],
   "source": [
    "a = {\n",
    "    \"x\": 1,\n",
    "    \"y\": 2,\n",
    "    \"z\": 3,\n",
    "}\n",
    "b = a.pop(\"z\")\n",
    "print(a)\n",
    "print(b)"
   ]
  },
  {
   "cell_type": "code",
   "execution_count": 14,
   "metadata": {},
   "outputs": [],
   "source": [
    "def unmove(self):\n",
    "    if self.move_count > 0:\n",
    "        self.move_count -= 1\n",
    "        self.turn, self.last_turn = self.last_turn, self.turn\n",
    "        if self.move_count == 0:\n",
    "            self.last_move = (-1, -1)\n",
    "        self.status = Marubatsu.PLAYING\n",
    "        x, y = self.records.pop()\n",
    "        self.remove_mark(x, y)\n",
    "        self.last_move = self.records[-1]\n",
    "            \n",
    "Marubatsu.unmove = unmove"
   ]
  },
  {
   "cell_type": "code",
   "execution_count": 15,
   "metadata": {},
   "outputs": [
    {
     "name": "stdout",
     "output_type": "stream",
     "text": [
      "Turn o\n",
      "oxo\n",
      "X..\n",
      "...\n",
      "\n",
      "Turn x\n",
      "oxO\n",
      "...\n",
      "...\n",
      "\n",
      "Turn o\n",
      "oX.\n",
      "...\n",
      "...\n",
      "\n",
      "Turn x\n",
      "O..\n",
      "...\n",
      "...\n",
      "\n",
      "Turn o\n",
      "...\n",
      "...\n",
      "...\n",
      "\n"
     ]
    }
   ],
   "source": [
    "mb = Marubatsu()\n",
    "mb.move(0, 0)\n",
    "mb.move(1, 0)\n",
    "mb.move(2, 0)\n",
    "mb.move(0, 1)\n",
    "mb.move(1, 1)\n",
    "for _ in range(5):\n",
    "    mb.unmove()\n",
    "    print(mb)"
   ]
  },
  {
   "cell_type": "code",
   "execution_count": 16,
   "metadata": {},
   "outputs": [],
   "source": [
    "from ai import ai_by_mmscore, dprint\n",
    "from time import perf_counter\n",
    "\n",
    "@ai_by_mmscore\n",
    "def ai_abs_dls(mb, debug=False, timelimit_pc=None, maxdepth=1, eval_func=None,\n",
    "               eval_params={}, use_tt=False, tt=None):           \n",
    "    count = 0\n",
    "    def ab_search(mborig, depth, tt, alpha=float(\"-inf\"), beta=float(\"inf\")):\n",
    "        nonlocal count\n",
    "        if timelimit_pc is not None and perf_counter() >= timelimit_pc:\n",
    "            raise RuntimeError(\"time out\")\n",
    "        \n",
    "        count += 1\n",
    "        if mborig.status != Marubatsu.PLAYING or depth == maxdepth:\n",
    "            return eval_func(mborig, calc_score=True, **eval_params)\n",
    "        \n",
    "        if use_tt:\n",
    "            boardtxt = mborig.board_to_str()\n",
    "            if boardtxt in tt:\n",
    "                lower_bound, upper_bound, _ = tt[boardtxt]\n",
    "                if lower_bound == upper_bound:\n",
    "                    return lower_bound\n",
    "                elif upper_bound <= alpha:\n",
    "                    return upper_bound\n",
    "                elif beta <= lower_bound:\n",
    "                    return lower_bound\n",
    "                else:\n",
    "                    alpha = max(alpha, lower_bound)\n",
    "                    beta = min(beta, upper_bound)\n",
    "            else:\n",
    "                lower_bound = min_score\n",
    "                upper_bound = max_score\n",
    "        \n",
    "        alphaorig = alpha\n",
    "        betaorig = beta\n",
    "\n",
    "        legal_moves = mborig.calc_legal_moves()\n",
    "        if mborig.turn == Marubatsu.CIRCLE:\n",
    "            score = float(\"-inf\")\n",
    "            for x, y in legal_moves:\n",
    "                mborig.move(x, y)\n",
    "                abscore = ab_search(mborig, depth + 1, tt, alpha, beta)\n",
    "                mborig.unmove()\n",
    "                if abscore > score:\n",
    "                    bestmove = (x, y)\n",
    "                score = max(score, abscore)\n",
    "                if score >= beta:\n",
    "                    break\n",
    "                alpha = max(alpha, score)\n",
    "        else:\n",
    "            score = float(\"inf\")\n",
    "            for x, y in legal_moves:\n",
    "                mborig.move(x, y)\n",
    "                abscore = ab_search(mb, depth + 1, tt, alpha, beta)\n",
    "                mborig.unmove()\n",
    "                if abscore < score:\n",
    "                    bestmove = (x, y)\n",
    "                score = min(score, abscore)\n",
    "                if score <= alpha:\n",
    "                    break\n",
    "                beta = min(beta, score)   \n",
    "            \n",
    "        from util import calc_same_boardtexts\n",
    "\n",
    "        if use_tt:\n",
    "            boardtxtlist = calc_same_boardtexts(mborig, bestmove)\n",
    "            if score <= alphaorig:\n",
    "                upper_bound = score\n",
    "            elif score < betaorig:\n",
    "                lower_bound = score\n",
    "                upper_bound = score\n",
    "            else:\n",
    "                lower_bound = score\n",
    "            for boardtxt, move in boardtxtlist.items():\n",
    "                tt[boardtxt] = (lower_bound, upper_bound, move)\n",
    "        return score\n",
    "                \n",
    "    min_score = float(\"-inf\")\n",
    "    max_score = float(\"inf\")\n",
    "    \n",
    "    if tt is None:\n",
    "        tt = {}\n",
    "    score = ab_search(mb, depth=0, tt=tt, alpha=min_score, beta=max_score)\n",
    "    dprint(debug, \"count =\", count)\n",
    "    return score, count"
   ]
  },
  {
   "cell_type": "code",
   "execution_count": 17,
   "metadata": {},
   "outputs": [
    {
     "name": "stdout",
     "output_type": "stream",
     "text": [
      "35.3 ms ± 1.25 ms per loop (mean ± std. dev. of 7 runs, 10 loops each)\n"
     ]
    }
   ],
   "source": [
    "%%timeit\n",
    "\n",
    "ai_abs_dls(mb, eval_func=ai14s, eval_params=eval_params, analyze=True, use_tt=True, maxdepth=9)"
   ]
  },
  {
   "cell_type": "code",
   "execution_count": 18,
   "metadata": {},
   "outputs": [
    {
     "name": "stderr",
     "output_type": "stream",
     "text": [
      "  0%|          | 0/431 [00:00<?, ?it/s]"
     ]
    },
    {
     "name": "stderr",
     "output_type": "stream",
     "text": [
      "100%|██████████| 431/431 [00:01<00:00, 379.45it/s]"
     ]
    },
    {
     "name": "stdout",
     "output_type": "stream",
     "text": [
      "431/431 100.00%\n"
     ]
    },
    {
     "name": "stderr",
     "output_type": "stream",
     "text": [
      "\n"
     ]
    },
    {
     "data": {
      "text/plain": [
       "(True, [])"
      ]
     },
     "execution_count": 18,
     "metadata": {},
     "output_type": "execute_result"
    }
   ],
   "source": [
    "from util import Check_solved\n",
    "\n",
    "params = {\n",
    "    \"eval_func\": ai14s,\n",
    "    \"eval_params\": eval_params,\n",
    "    \"use_tt\": True,\n",
    "    \"maxdepth\": 9\n",
    "}\n",
    "\n",
    "Check_solved.is_strongly_solved(ai_abs_dls, params=params)"
   ]
  },
  {
   "cell_type": "code",
   "execution_count": 19,
   "metadata": {},
   "outputs": [
    {
     "name": "stdout",
     "output_type": "stream",
     "text": [
      "ai2s VS ai14s\n"
     ]
    },
    {
     "name": "stderr",
     "output_type": "stream",
     "text": [
      "100%|██████████| 10000/10000 [01:08<00:00, 145.00it/s]"
     ]
    },
    {
     "name": "stdout",
     "output_type": "stream",
     "text": [
      "count     win    lose    draw\n",
      "o           0    8904    1096\n",
      "x           0    9895     105\n",
      "total       0   18799    1201\n",
      "\n",
      "ratio     win    lose    draw\n",
      "o        0.0%   89.0%   11.0%\n",
      "x        0.0%   99.0%    1.1%\n",
      "total    0.0%   94.0%    6.0%\n",
      "\n"
     ]
    },
    {
     "name": "stderr",
     "output_type": "stream",
     "text": [
      "\n"
     ]
    },
    {
     "data": {
      "text/plain": [
       "[('count',\n",
       "  [{'win': 0, 'lose': 8904, 'draw': 1096},\n",
       "   {'win': 0, 'lose': 9895, 'draw': 105},\n",
       "   {'win': 0, 'lose': 18799, 'draw': 1201}],\n",
       "  '7d'),\n",
       " ('ratio',\n",
       "  [{'win': 0.0, 'lose': 0.8904, 'draw': 0.1096},\n",
       "   {'win': 0.0, 'lose': 0.9895, 'draw': 0.0105},\n",
       "   {'win': 0.0, 'lose': 0.93995, 'draw': 0.06005}],\n",
       "  '7.1%')]"
      ]
     },
     "execution_count": 19,
     "metadata": {},
     "output_type": "execute_result"
    }
   ],
   "source": [
    "from ai import ai_match, ai2s\n",
    "\n",
    "ai_match(ai=[ai2s, ai14s])"
   ]
  },
  {
   "cell_type": "code",
   "execution_count": 20,
   "metadata": {},
   "outputs": [],
   "source": [
    "from functools import wraps\n",
    "from random import choice\n",
    "\n",
    "def ai_by_score(eval_func):\n",
    "    @wraps(eval_func)\n",
    "    def wrapper(mb_orig, debug=False, *args, rand=True, \n",
    "                analyze=False, calc_score=False, minimax=False, **kwargs):\n",
    "        if calc_score:\n",
    "            score = eval_func(mb_orig, debug, *args, **kwargs)\n",
    "            if minimax and mb_orig.turn == Marubatsu.CIRCLE:\n",
    "                score *= -1\n",
    "            return score\n",
    "\n",
    "        dprint(debug, \"Start ai_by_score\")\n",
    "        dprint(debug, mb_orig)\n",
    "        legal_moves = mb_orig.calc_legal_moves()\n",
    "        dprint(debug, \"legal_moves\", legal_moves)\n",
    "        best_score = float(\"-inf\")\n",
    "        best_moves = []\n",
    "        if analyze:\n",
    "            score_by_move = {}\n",
    "        for move in legal_moves:\n",
    "            dprint(debug, \"=\" * 20)\n",
    "            dprint(debug, \"move\", move)\n",
    "            x, y = move\n",
    "            mb_orig.move(x, y)\n",
    "            dprint(debug, mb_orig)\n",
    "            score = eval_func(mb_orig, debug, *args, **kwargs)\n",
    "            mb_orig.unmove()\n",
    "            dprint(debug, \"score\", score, \"best score\", best_score)\n",
    "            if analyze:\n",
    "                score_by_move[move] = score\n",
    "            \n",
    "            if best_score < score:\n",
    "                best_score = score\n",
    "                best_moves = [move]\n",
    "                dprint(debug, \"UPDATE\")\n",
    "                dprint(debug, \"  best score\", best_score)\n",
    "                dprint(debug, \"  best moves\", best_moves)\n",
    "            elif best_score == score:\n",
    "                best_moves.append(move)\n",
    "                dprint(debug, \"APPEND\")\n",
    "                dprint(debug, \"  best moves\", best_moves)\n",
    "\n",
    "        dprint(debug, \"=\" * 20)\n",
    "        dprint(debug, \"Finished\")\n",
    "        dprint(debug, \"best score\", best_score)\n",
    "        dprint(debug, \"best moves\", best_moves)\n",
    "        if analyze:\n",
    "            return {\n",
    "                \"candidate\": best_moves,\n",
    "                \"score_by_move\": score_by_move,\n",
    "            }\n",
    "        elif rand:   \n",
    "            return choice(best_moves)\n",
    "        else:\n",
    "            return best_moves[0]\n",
    "        \n",
    "    return wrapper"
   ]
  },
  {
   "cell_type": "code",
   "execution_count": 21,
   "metadata": {},
   "outputs": [],
   "source": [
    "from marubatsu import Markpat\n",
    "\n",
    "@ai_by_score\n",
    "def ai2s(mb, debug=False):\n",
    "    return 0\n",
    "\n",
    "@ai_by_score\n",
    "def ai14s(mb, debug=False, score_victory=300, score_sure_victory=200, \\\n",
    "          score_defeat=-100, score_special=100, score_201=2, \\\n",
    "          score_102=0.5, score_012=-1):\n",
    "    # 評価値の合計を計算する変数を 0 で初期化する\n",
    "    score = 0        \n",
    "\n",
    "    # 自分が勝利している場合\n",
    "    if mb.status == mb.last_turn:\n",
    "        return score_victory\n",
    "\n",
    "    markpats = mb.count_markpats()\n",
    "    if debug:\n",
    "        pprint(markpats)\n",
    "    # 相手が勝利できる場合は評価値を加算する\n",
    "    if markpats[Markpat(last_turn=0, turn=2, empty=1)] > 0:\n",
    "        score = score_defeat * markpats[Markpat(last_turn=0, turn=2, empty=1)]\n",
    "    # 次の自分の手番で自分が必ず勝利できる場合\n",
    "    elif markpats[Markpat(last_turn=2, turn=0, empty=1)] >= 2:\n",
    "        return score_sure_victory\n",
    "    \n",
    "    # 斜め方向に 〇×〇 が並び、いずれかの辺の 1 つのマスのみに × が配置されている場合\n",
    "    if mb.board[1][1] == Marubatsu.CROSS and \\\n",
    "        (mb.board[0][0] == mb.board[2][2] == Marubatsu.CIRCLE or \\\n",
    "        mb.board[2][0] == mb.board[0][2] == Marubatsu.CIRCLE) and \\\n",
    "        (mb.board[1][0] == Marubatsu.CROSS or \\\n",
    "        mb.board[0][1] == Marubatsu.CROSS or \\\n",
    "        mb.board[2][1] == Marubatsu.CROSS or \\\n",
    "        mb.board[1][2] == Marubatsu.CROSS) and \\\n",
    "        mb.move_count == 4:\n",
    "        return score_special    \n",
    "\n",
    "    # 次の自分の手番で自分が勝利できる場合は評価値に score_201 を加算する\n",
    "    if markpats[Markpat(last_turn=2, turn=0, empty=1)] == 1:\n",
    "        score += score_201\n",
    "    # 「自 1 敵 0 空 2」1 つあたり score_102 だけ、評価値を加算する\n",
    "    score += markpats[Markpat(last_turn=1, turn=0, empty=2)] * score_102\n",
    "    # 「自 0 敵 1 空 2」1 つあたり score_201 だけ、評価値を減算する\n",
    "    score += markpats[Markpat(last_turn=0, turn=1, empty=2)] * score_012\n",
    "    \n",
    "    # 計算した評価値を返す\n",
    "    return score"
   ]
  },
  {
   "cell_type": "code",
   "execution_count": 22,
   "metadata": {},
   "outputs": [
    {
     "name": "stdout",
     "output_type": "stream",
     "text": [
      "ai2s VS ai14s\n"
     ]
    },
    {
     "name": "stderr",
     "output_type": "stream",
     "text": [
      "100%|██████████| 10000/10000 [00:37<00:00, 266.91it/s]"
     ]
    },
    {
     "name": "stdout",
     "output_type": "stream",
     "text": [
      "count     win    lose    draw\n",
      "o           0    8783    1217\n",
      "x           0    9905      95\n",
      "total       0   18688    1312\n",
      "\n",
      "ratio     win    lose    draw\n",
      "o        0.0%   87.8%   12.2%\n",
      "x        0.0%   99.1%    0.9%\n",
      "total    0.0%   93.4%    6.6%\n",
      "\n"
     ]
    },
    {
     "name": "stderr",
     "output_type": "stream",
     "text": [
      "\n"
     ]
    },
    {
     "data": {
      "text/plain": [
       "[('count',\n",
       "  [{'win': 0, 'lose': 8783, 'draw': 1217},\n",
       "   {'win': 0, 'lose': 9905, 'draw': 95},\n",
       "   {'win': 0, 'lose': 18688, 'draw': 1312}],\n",
       "  '7d'),\n",
       " ('ratio',\n",
       "  [{'win': 0.0, 'lose': 0.8783, 'draw': 0.1217},\n",
       "   {'win': 0.0, 'lose': 0.9905, 'draw': 0.0095},\n",
       "   {'win': 0.0, 'lose': 0.9344, 'draw': 0.0656}],\n",
       "  '7.1%')]"
      ]
     },
     "execution_count": 22,
     "metadata": {},
     "output_type": "execute_result"
    }
   ],
   "source": [
    "ai_match(ai=[ai2s, ai14s])"
   ]
  }
 ],
 "metadata": {
  "kernelspec": {
   "display_name": "marubatsu",
   "language": "python",
   "name": "python3"
  },
  "language_info": {
   "codemirror_mode": {
    "name": "ipython",
    "version": 3
   },
   "file_extension": ".py",
   "mimetype": "text/x-python",
   "name": "python",
   "nbconvert_exporter": "python",
   "pygments_lexer": "ipython3",
   "version": "3.11.4"
  }
 },
 "nbformat": 4,
 "nbformat_minor": 2
}
